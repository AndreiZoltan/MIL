{
 "cells": [
  {
   "cell_type": "code",
   "execution_count": 1,
   "metadata": {},
   "outputs": [],
   "source": [
    "import numpy as np\n",
    "import pandas as pd\n",
    "import matplotlib.pyplot as plt\n",
    "%matplotlib inline\n",
    "import os\n",
    "import time\n",
    "import artm\n",
    "\n",
    "# change log style\n",
    "lc = artm.messages.ConfigureLoggingArgs()\n",
    "lc.minloglevel = 3\n",
    "lib = artm.wrapper.LibArtm(logging_config=lc)\n",
    "\n",
    "import warnings\n",
    "warnings.filterwarnings(\"ignore\", category=DeprecationWarning)"
   ]
  },
  {
   "cell_type": "code",
   "execution_count": 2,
   "metadata": {},
   "outputs": [
    {
     "data": {
      "text/html": [
       "<style>\n",
       "    div.output_html {\n",
       "        white-space: nowrap;\n",
       "    }\n",
       "    div .output_subarea > pre {\n",
       "        white-space: pre;\n",
       "        word-wrap: normal;\n",
       "    }\n",
       "    div .output_stdout > pre {\n",
       "        white-space: pre-wrap !important;\n",
       "        word-wrap:  break-word !important;\n",
       "    }\n",
       "    </style>"
      ],
      "text/plain": [
       "<IPython.core.display.HTML object>"
      ]
     },
     "metadata": {},
     "output_type": "display_data"
    }
   ],
   "source": [
    "from copy import deepcopy\n",
    "from topicnet.cooking_machine.models.topic_model import TopicModel\n",
    "from topicnet.cooking_machine.cubes import RegularizersModifierCube\n",
    "from topicnet.cooking_machine.config_parser import build_experiment_environment_from_yaml_config\n",
    "from topicnet.cooking_machine.experiment import Experiment\n",
    "from topicnet.cooking_machine.cubes import *\n",
    "from topicnet.cooking_machine.dataset import Dataset\n",
    "from topicnet.cooking_machine.pretty_output import make_notebook_pretty\n",
    "make_notebook_pretty()"
   ]
  },
  {
   "cell_type": "code",
   "execution_count": 3,
   "metadata": {},
   "outputs": [],
   "source": [
    "import topicnet.cooking_machine.cubes as tncubes"
   ]
  },
  {
   "cell_type": "code",
   "execution_count": 4,
   "metadata": {},
   "outputs": [
    {
     "data": {
      "text/html": [
       "<style>\n",
       ".container { width:90% !important; }\n",
       "div.output_scroll .output_subarea { white-space: pre; }\n",
       "</style>"
      ],
      "text/plain": [
       "<IPython.core.display.HTML object>"
      ]
     },
     "metadata": {},
     "output_type": "display_data"
    }
   ],
   "source": [
    "from IPython.core.display import display, HTML\n",
    "from IPython.display import clear_output, display_html\n",
    "display(HTML(\"\"\"<style>\n",
    ".container { width:90% !important; }\n",
    "div.output_scroll .output_subarea { white-space: pre; }\n",
    "</style>\"\"\"))"
   ]
  },
  {
   "cell_type": "markdown",
   "metadata": {},
   "source": [
    "### Make initial model"
   ]
  },
  {
   "cell_type": "code",
   "execution_count": 5,
   "metadata": {},
   "outputs": [
    {
     "name": "stdout",
     "output_type": "stream",
     "text": [
      "# This config follows a strategy described in the article\n",
      "# Multi-objective Topic Modeling for Exploratory Search in Tech News\n",
      "# by Anastasya Yanina, Lev Golitsyn and Konstantin Vorontsov, Jan 2018\n",
      "\n",
      "\n",
      "# Use .format(modality=modality, dataset_path=dataset_path,\n",
      "# specific_topics=specific_topics, background_topics=background_topics)\n",
      "# when loading the recipe to adjust for your dataset\n",
      "\n",
      "topics:\n",
      "# Describes number of model topics, in the actuall article 200 topics were found to be optimal\n",
      "    specific_topics: ['topic_0', 'topic_1', 'topic_2', 'topic_3', 'topic_4', 'topic_5', 'topic_6', 'topic_7', 'topic_8', 'topic_9', 'topic_10', 'topic_11', 'topic_12', 'topic_13', 'topic_14', 'topic_15', 'topic_16', 'topic_17', 'topic_18', 'topic_19', 'topic_20', 'topic_21', 'topic_22', 'topic_23', 'topic_24', 'topic_25', 'topic_26', 'topic_27', 'topic_28', 'topic_29', 'topic_30', 'topic_31', 'topic_32', 'topic_33', 'topic_34']\n",
      "    background_topics: ['bcg_35']\n",
      "\n",
      "regularizers:\n",
      "- DecorrelatorPhiRegularizer:\n",
      "    name: decorrelation_phi_@word\n",
      "    topic_names: specific_topics\n",
      "    tau: 1\n",
      "    class_ids: ['@word']\n",
      "- SmoothSparsePhiRegularizer:\n",
      "    name: smooth_phi_@word\n",
      "    topic_names: specific_topics\n",
      "    tau: 1\n",
      "    class_ids: ['@word']\n",
      "- SmoothSparseThetaRegularizer:\n",
      "    name: sparse_theta\n",
      "    topic_names: specific_topics\n",
      "    tau: 1\n",
      "\n",
      "model: \n",
      "    dataset_path: ReadyData.csv\n",
      "    modalities_to_use: ['@word']\n",
      "    main_modality: '@word'\n",
      "\n",
      "stages:\n",
      "# repeat the following two cubes for every modality in the dataset\n",
      "- RegularizersModifierCube:\n",
      "    num_iter: 8\n",
      "    reg_search: mul\n",
      "    regularizer_parameters:\n",
      "        name: decorrelation_phi_@word\n",
      "    selection:\n",
      "        - PerplexityScore@word < 1.01 * MINIMUM(PerplexityScore@word) and SparsityPhiScore@word -> max\n",
      "    strategy: PerplexityStrategy\n",
      "    strategy_params:\n",
      "        start_point: 100000\n",
      "        step: 10\n",
      "        max_len: 6\n",
      "    tracked_score_function: PerplexityScore@all\n",
      "    verbose: false\n",
      "    relative_coefficients: false\n",
      "- RegularizersModifierCube:\n",
      "    num_iter: 8\n",
      "    reg_search: add\n",
      "    regularizer_parameters:\n",
      "        name: smooth_phi_@word\n",
      "    selection:\n",
      "        - PerplexityScore@word < 1.01 * MINIMUM(PerplexityScore@word) and SparsityPhiScore@word -> max\n",
      "    strategy: PerplexityStrategy\n",
      "    strategy_params:\n",
      "        start_point: 0.25\n",
      "        step: 0.25\n",
      "        max_len: 6\n",
      "    tracked_score_function: PerplexityScore@word\n",
      "    verbose: false\n",
      "    relative_coefficients: false\n",
      "#last cube is independent of modalities and can be used only once\n",
      "- RegularizersModifierCube:\n",
      "    num_iter: 8\n",
      "    reg_search: add\n",
      "    regularizer_parameters:\n",
      "        name: sparse_theta\n",
      "    selection:\n",
      "        - PerplexityScore@all < 1.01 * MINIMUM(PerplexityScore@all) and SparsityPhiScore@word -> max\n",
      "    strategy: PerplexityStrategy\n",
      "    strategy_params:\n",
      "        start_point: -0.5\n",
      "        step: -0.5\n",
      "        max_len: 6\n",
      "    tracked_score_function: PerplexityScore@all\n",
      "    verbose: false\n",
      "    relative_coefficients: false\n"
     ]
    }
   ],
   "source": [
    "with open(\"./exploratory_search.yml\", \"r\") as f:\n",
    "    yaml_string = f.read()\n",
    "\n",
    "DATASET_PATH = \"Pscience.csv\"\n",
    "specific_topics = [f'topic_{i}' for i in range(35)]\n",
    "background_topics = [f'bcg_{i}' for i in range(len(specific_topics),len(specific_topics) + 1)]\n",
    "\n",
    "yaml_string = yaml_string.format(\n",
    "    modality='@word',\n",
    "    dataset_path=DATASET_PATH,\n",
    "    specific_topics=specific_topics,\n",
    "    background_topics=background_topics)\n",
    "\n",
    "print(yaml_string)"
   ]
  },
  {
   "cell_type": "markdown",
   "metadata": {},
   "source": [
    "### Define Topic Model"
   ]
  },
  {
   "cell_type": "code",
   "execution_count": 7,
   "metadata": {},
   "outputs": [],
   "source": [
    "from topicnet.cooking_machine.experiment import Experiment\n",
    "if os.path.exists(f'./ExploratoryResearchDemo') == True:\n",
    "    os.system(\"rm -rf ./ExploratoryResearchDemo\")\n",
    "experiment, dataset = build_experiment_environment_from_yaml_config(\n",
    "    yaml_string,\n",
    "    experiment_id='ExploratoryResearchDemo',\n",
    "    save_path='ExploratoryResearchDemo',\n",
    ")"
   ]
  },
  {
   "cell_type": "code",
   "execution_count": 8,
   "metadata": {},
   "outputs": [
    {
     "name": "stderr",
     "output_type": "stream",
     "text": [
      "/home/sultan/miniconda3/lib/python3.6/site-packages/topicnet/cooking_machine/cubes/base_cube.py:278: UserWarning: Perplexity is too high for threshold 1.05\n",
      "  warnings.warn(warning[0])\n"
     ]
    },
    {
     "data": {
      "text/plain": [
       "{<topicnet.cooking_machine.models.topic_model.TopicModel at 0x7ffb2dda26a0>}"
      ]
     },
     "execution_count": 8,
     "metadata": {},
     "output_type": "execute_result"
    }
   ],
   "source": [
    "experiment.run(dataset)"
   ]
  },
  {
   "cell_type": "code",
   "execution_count": 9,
   "metadata": {},
   "outputs": [
    {
     "data": {
      "text/plain": [
       "Experiment ExploratoryResearchDemo\n",
       "\n",
       "Experiment was made with BigARTM 0.9.0\n",
       "Tree:\n",
       "                            ┌##12h27m39s_11d11m2019y###\n",
       "                            ├##12h27m48s_11d11m2019y###\n",
       "<<<<<<<<<<<root>>>>>>>>>>>──┤\n",
       "                            ├##12h27m57s_11d11m2019y###\n",
       "                            │                                                                                                                                                                                                               ┌##12h29m26s_11d11m2019y###\n",
       "                            │                                                                                                       ┌##12h28m55s_11d11m2019y###─────────────────────────────────────────────────────────────────────────────┤\n",
       "                            │                                                                                                       │                                                                                                       ├##12h29m37s_11d11m2019y###\n",
       "                            │                                                                                                       │                                                                                                       └##12h29m48s_11d11m2019y###\n",
       "                            ├##12h28m06s_11d11m2019y###─────────────────────────────────────────────────────────────────────────────┤\n",
       "                            │                                                                                                       └##12h29m04s_11d11m2019y###\n",
       "                            └##12h28m15s_11d11m2019y###\n",
       "Cubes:\n",
       " START                      | REG_MODIFIER                                                                                          | REG_MODIFIER                                                                                          | REG_MODIFIER                                                                                         \n",
       "                            | cube:                                                                                                 | cube:                                                                                                 | cube:                                                                                                \n",
       " name:                      |   <topicnet.cooking_machine.cubes.regularizer_cube.RegularizersModifierCube object at 0x7ffb2ec53898> |   <topicnet.cooking_machine.cubes.regularizer_cube.RegularizersModifierCube object at 0x7ffb2ddc7da0> |   <topicnet.cooking_machine.cubes.regularizer_cube.RegularizersModifierCube object at 0x7ffb2ddc7400>\n",
       "   ARTM                     |                                                                                                       |                                                                                                       |                                                                                                      \n",
       " num_processors:            | tau_grid:                                                                                             | tau_grid:                                                                                             | tau_grid:                                                                                            \n",
       "   3                        |   ---                                                                                                 |   ---                                                                                                 |   ---                                                                                                \n",
       " num_topics:                | name:                                                                                                 | name:                                                                                                 | name:                                                                                                \n",
       "   36                       |   decorrelation_phi_@word                                                                             |   smooth_phi_@word                                                                                    |   sparse_theta                                                                                       \n",
       " topic_names:               |                                                                                                       |                                                                                                       |                                                                                                      \n",
       "   topic_0,                 |                                                                                                       |                                                                                                       |                                                                                                      \n",
       "   topic_1,                 |                                                                                                       |                                                                                                       |                                                                                                      \n",
       "   ...,                     |                                                                                                       |                                                                                                       |                                                                                                      \n",
       "   topic_34,                |                                                                                                       |                                                                                                       |                                                                                                      \n",
       "   bcg_35                   |                                                                                                       |                                                                                                       |                                                                                                      \n",
       " class_ids:                 |                                                                                                       |                                                                                                       |                                                                                                      \n",
       "   @word=1.0                |                                                                                                       |                                                                                                       |                                                                                                      \n",
       " seed:                      |                                                                                                       |                                                                                                       |                                                                                                      \n",
       "   -1                       |                                                                                                       |                                                                                                       |                                                                                                      \n",
       "                            |                                                                                                       |                                                                                                       |                                                                                                      \n",
       "────────────────────────────+───────────────────────────────────────────────────────────────────────────────────────────────────────+───────────────────────────────────────────────────────────────────────────────────────────────────────+───────────────────────────────────────────────────────────────────────────────────────────────────────+─────────────────────────────────────────────────────────────────────────────────────────────────────\n",
       "                            | stage criteria 1:                                                                                     | stage criteria 1:                                                                                     | stage criteria 1:                                                                                    \n",
       "                            |     PerplexityScore@word < 1.01 * MINIMUM(PerplexityScore@word)                                       |     PerplexityScore@word < 1.01 * MINIMUM(PerplexityScore@word)                                       |     PerplexityScore@all < 1.01 * MINIMUM(PerplexityScore@all)                                        \n",
       "                            |     SparsityPhiScore@word -> max                                                                      |     SparsityPhiScore@word -> max                                                                      |     SparsityPhiScore@word -> max                                                                     \n",
       "                            |                                                                                                       |                                                                                                       |                                                                                                      "
      ]
     },
     "metadata": {},
     "output_type": "display_data"
    }
   ],
   "source": [
    "experiment.show()"
   ]
  },
  {
   "cell_type": "code",
   "execution_count": 10,
   "metadata": {},
   "outputs": [],
   "source": [
    "best_model = experiment.select(experiment.criteria[-1][0])[0]"
   ]
  },
  {
   "cell_type": "code",
   "execution_count": 14,
   "metadata": {},
   "outputs": [
    {
     "data": {
      "image/png": "[encoded data removed]",
      "text/plain": [
       "<Figure size 576x576 with 1 Axes>"
      ]
     },
     "metadata": {
      "needs_background": "light"
     },
     "output_type": "display_data"
    }
   ],
   "source": [
    "tms = experiment.models\n",
    "colors = np.linspace(0, 0.65, len(tms))\n",
    "\n",
    "plt.figure(figsize=(8,8))\n",
    "for i, tm in enumerate(list(tms.values())[1:]):\n",
    "    score = tm.scores['PerplexityScore@all']\n",
    "    plt.plot(score[1:])\n",
    "plt.show()"
   ]
  },
  {
   "cell_type": "code",
   "execution_count": 19,
   "metadata": {},
   "outputs": [
    {
     "data": {
      "image/png": "[encoded data removed]",
      "text/plain": [
       "<Figure size 576x576 with 1 Axes>"
      ]
     },
     "metadata": {
      "needs_background": "light"
     },
     "output_type": "display_data"
    }
   ],
   "source": [
    "from matplotlib import cm\n",
    "tms = experiment.models\n",
    "colors = np.linspace(0, 0.65, len(tms))\n",
    "\n",
    "plt.figure(figsize=(8,8))\n",
    "for i, tm in enumerate(list(tms.values())[1:]):\n",
    "    score = tm.scores['TopicKernel@word.average_purity']\n",
    "    plt.plot(score, color=cm.Blues(colors[i]))\n",
    "    score = tm.scores['TopicKernel@word.average_contrast']\n",
    "    plt.plot(score, color=cm.Reds(colors[i]))\n",
    "plt.show()"
   ]
  },
  {
   "cell_type": "code",
   "execution_count": 21,
   "metadata": {},
   "outputs": [
    {
     "name": "stdout",
     "output_type": "stream",
     "text": [
      "smooth_phi_bcg 0.0\n",
      "smooth_theta_bcg 0.0\n",
      "decorrelation_phi_@word 10000000.0\n",
      "smooth_phi_@word 0\n",
      "sparse_theta 0\n",
      "7861.90380859375\n",
      "0.6249268054962158\n",
      "0.6311060190200806\n",
      "------\n",
      "smooth_phi_bcg 0.0\n",
      "smooth_theta_bcg 0.0\n",
      "decorrelation_phi_@word 10000000.0\n",
      "smooth_phi_@word 0\n",
      "sparse_theta -0.5\n",
      "7970.27392578125\n",
      "0.6199975609779358\n",
      "0.6182859539985657\n",
      "------\n",
      "smooth_phi_bcg 0.0\n",
      "smooth_theta_bcg 0.0\n",
      "decorrelation_phi_@word 10000000.0\n",
      "smooth_phi_@word 0\n",
      "sparse_theta -1.0\n",
      "8493.2001953125\n",
      "0.5343874096870422\n",
      "0.5446979403495789\n",
      "------\n"
     ]
    }
   ],
   "source": [
    "query = (\n",
    "    \"TopicKernel@word.average_contrast > 0.8 * MAXIMUM(TopicKernel@word.average_contrast) \"\n",
    "    \"and TopicKernel@word.average_purity > 0.8 * MAXIMUM(TopicKernel@word.average_purity) \"\n",
    "    \"and PerplexityScore@all < 1.1 * MINIMUM(PerplexityScore@all) \"\n",
    ")\n",
    "models = experiment.select(query + \" COLLECT all\")\n",
    "def describe_model(model):\n",
    "    for reg_name, reg in model.regularizers._data.items():\n",
    "        print(reg_name, reg.tau)\n",
    "    print(model.scores[\"PerplexityScore@all\"][-1])\n",
    "    print(model.scores[\"TopicKernel@word.average_contrast\"][-1])\n",
    "    print(model.scores[\"TopicKernel@word.average_purity\"][-1])\n",
    "    print(\"------\")\n",
    "for model in models:\n",
    "    describe_model(model)"
   ]
  },
  {
   "cell_type": "markdown",
   "metadata": {},
   "source": [
    "### Investigate model"
   ]
  },
  {
   "cell_type": "code",
   "execution_count": 22,
   "metadata": {},
   "outputs": [],
   "source": [
    "best_model = models[-1]"
   ]
  },
  {
   "cell_type": "code",
   "execution_count": 24,
   "metadata": {},
   "outputs": [],
   "source": [
    "from topicnet.viewers.top_tokens_viewer import TopTokensViewer\n",
    "from topicnet.viewers.top_documents_viewer import TopDocumentsViewer\n",
    "from IPython.display import display_html, display\n",
    "from topicnet.cooking_machine.dataset import get_modality_vw"
   ]
  },
  {
   "cell_type": "code",
   "execution_count": 31,
   "metadata": {},
   "outputs": [],
   "source": [
    "thresh = 1e-5\n",
    "demo_data = Dataset(DATASET_PATH)\n",
    "first_model_top_tok = TopTokensViewer(best_model, num_top_tokens=10, method='phi')\n",
    "first_model_html =  first_model_top_tok.to_html(first_model_top_tok.view(),thresh=thresh)\n",
    "first_model_top_doc = TopDocumentsViewer(best_model, dataset=demo_data).view()"
   ]
  },
  {
   "cell_type": "code",
   "execution_count": 34,
   "metadata": {
    "scrolled": true
   },
   "outputs": [
    {
     "data": {
      "text/html": [
       "<style  type=\"text/css\" >\n",
       "</style><table id=\"T_e995c63f_046b_11ea_a6fb_107b449f15fc\" style='display:inline'><thead>    <tr>        <th class=\"blank level0\" ></th>        <th class=\"col_heading level0 col0\" >topic_29 @word</th>    </tr></thead><tbody>\n",
       "                <tr>\n",
       "                        <th id=\"T_e995c63f_046b_11ea_a6fb_107b449f15fclevel0_row0\" class=\"row_heading level0 row0\" >график</th>\n",
       "                        <td id=\"T_e995c63f_046b_11ea_a6fb_107b449f15fcrow0_col0\" class=\"data row0 col0\" >0.12431</td>\n",
       "            </tr>\n",
       "            <tr>\n",
       "                        <th id=\"T_e995c63f_046b_11ea_a6fb_107b449f15fclevel0_row1\" class=\"row_heading level0 row1\" >монитор</th>\n",
       "                        <td id=\"T_e995c63f_046b_11ea_a6fb_107b449f15fcrow1_col0\" class=\"data row1 col0\" >0.10533</td>\n",
       "            </tr>\n",
       "            <tr>\n",
       "                        <th id=\"T_e995c63f_046b_11ea_a6fb_107b449f15fclevel0_row2\" class=\"row_heading level0 row2\" >графика</th>\n",
       "                        <td id=\"T_e995c63f_046b_11ea_a6fb_107b449f15fcrow2_col0\" class=\"data row2 col0\" >0.10351</td>\n",
       "            </tr>\n",
       "            <tr>\n",
       "                        <th id=\"T_e995c63f_046b_11ea_a6fb_107b449f15fclevel0_row3\" class=\"row_heading level0 row3\" >bind</th>\n",
       "                        <td id=\"T_e995c63f_046b_11ea_a6fb_107b449f15fcrow3_col0\" class=\"data row3 col0\" >0.08728</td>\n",
       "            </tr>\n",
       "            <tr>\n",
       "                        <th id=\"T_e995c63f_046b_11ea_a6fb_107b449f15fclevel0_row4\" class=\"row_heading level0 row4\" >улучшение</th>\n",
       "                        <td id=\"T_e995c63f_046b_11ea_a6fb_107b449f15fcrow4_col0\" class=\"data row4 col0\" >0.08107</td>\n",
       "            </tr>\n",
       "            <tr>\n",
       "                        <th id=\"T_e995c63f_046b_11ea_a6fb_107b449f15fclevel0_row5\" class=\"row_heading level0 row5\" >улучшить</th>\n",
       "                        <td id=\"T_e995c63f_046b_11ea_a6fb_107b449f15fcrow5_col0\" class=\"data row5 col0\" >0.07111</td>\n",
       "            </tr>\n",
       "            <tr>\n",
       "                        <th id=\"T_e995c63f_046b_11ea_a6fb_107b449f15fclevel0_row6\" class=\"row_heading level0 row6\" >великобритания</th>\n",
       "                        <td id=\"T_e995c63f_046b_11ea_a6fb_107b449f15fcrow6_col0\" class=\"data row6 col0\" >0.06637</td>\n",
       "            </tr>\n",
       "            <tr>\n",
       "                        <th id=\"T_e995c63f_046b_11ea_a6fb_107b449f15fclevel0_row7\" class=\"row_heading level0 row7\" >собеседование</th>\n",
       "                        <td id=\"T_e995c63f_046b_11ea_a6fb_107b449f15fcrow7_col0\" class=\"data row7 col0\" >0.04437</td>\n",
       "            </tr>\n",
       "            <tr>\n",
       "                        <th id=\"T_e995c63f_046b_11ea_a6fb_107b449f15fclevel0_row8\" class=\"row_heading level0 row8\" >мбитc</th>\n",
       "                        <td id=\"T_e995c63f_046b_11ea_a6fb_107b449f15fcrow8_col0\" class=\"data row8 col0\" >0.04156</td>\n",
       "            </tr>\n",
       "            <tr>\n",
       "                        <th id=\"T_e995c63f_046b_11ea_a6fb_107b449f15fclevel0_row9\" class=\"row_heading level0 row9\" >народный</th>\n",
       "                        <td id=\"T_e995c63f_046b_11ea_a6fb_107b449f15fcrow9_col0\" class=\"data row9 col0\" >0.03148</td>\n",
       "            </tr>\n",
       "    </tbody></table>"
      ]
     },
     "metadata": {},
     "output_type": "display_data"
    },
    {
     "data": {
      "text/html": [
       "<b></b>"
      ]
     },
     "metadata": {},
     "output_type": "display_data"
    },
    {
     "data": {
      "text/html": [
       "<b></b>"
      ]
     },
     "metadata": {},
     "output_type": "display_data"
    },
    {
     "data": {
      "text/html": [
       "<style  type=\"text/css\" >\n",
       "</style><table id=\"T_e995c640_046b_11ea_a6fb_107b449f15fc\" style='display:inline'><thead>    <tr>        <th class=\"blank level0\" ></th>        <th class=\"col_heading level0 col0\" >topic_30 @word</th>    </tr></thead><tbody>\n",
       "        </tbody></table>"
      ]
     },
     "metadata": {},
     "output_type": "display_data"
    },
    {
     "data": {
      "text/html": [
       "<style  type=\"text/css\" >\n",
       "</style><table id=\"T_e995c641_046b_11ea_a6fb_107b449f15fc\" style='display:inline'><thead>    <tr>        <th class=\"blank level0\" ></th>        <th class=\"col_heading level0 col0\" >topic_31 @word</th>    </tr></thead><tbody>\n",
       "                <tr>\n",
       "                        <th id=\"T_e995c641_046b_11ea_a6fb_107b449f15fclevel0_row0\" class=\"row_heading level0 row0\" >телек</th>\n",
       "                        <td id=\"T_e995c641_046b_11ea_a6fb_107b449f15fcrow0_col0\" class=\"data row0 col0\" >0.06329</td>\n",
       "            </tr>\n",
       "            <tr>\n",
       "                        <th id=\"T_e995c641_046b_11ea_a6fb_107b449f15fclevel0_row1\" class=\"row_heading level0 row1\" >беспроводный</th>\n",
       "                        <td id=\"T_e995c641_046b_11ea_a6fb_107b449f15fcrow1_col0\" class=\"data row1 col0\" >0.06272</td>\n",
       "            </tr>\n",
       "            <tr>\n",
       "                        <th id=\"T_e995c641_046b_11ea_a6fb_107b449f15fclevel0_row2\" class=\"row_heading level0 row2\" >региональный</th>\n",
       "                        <td id=\"T_e995c641_046b_11ea_a6fb_107b449f15fcrow2_col0\" class=\"data row2 col0\" >0.05576</td>\n",
       "            </tr>\n",
       "            <tr>\n",
       "                        <th id=\"T_e995c641_046b_11ea_a6fb_107b449f15fclevel0_row3\" class=\"row_heading level0 row3\" >строительство</th>\n",
       "                        <td id=\"T_e995c641_046b_11ea_a6fb_107b449f15fcrow3_col0\" class=\"data row3 col0\" >0.04947</td>\n",
       "            </tr>\n",
       "            <tr>\n",
       "                        <th id=\"T_e995c641_046b_11ea_a6fb_107b449f15fclevel0_row4\" class=\"row_heading level0 row4\" >датацентр</th>\n",
       "                        <td id=\"T_e995c641_046b_11ea_a6fb_107b449f15fcrow4_col0\" class=\"data row4 col0\" >0.04641</td>\n",
       "            </tr>\n",
       "            <tr>\n",
       "                        <th id=\"T_e995c641_046b_11ea_a6fb_107b449f15fclevel0_row5\" class=\"row_heading level0 row5\" >корбина</th>\n",
       "                        <td id=\"T_e995c641_046b_11ea_a6fb_107b449f15fcrow5_col0\" class=\"data row5 col0\" >0.04451</td>\n",
       "            </tr>\n",
       "            <tr>\n",
       "                        <th id=\"T_e995c641_046b_11ea_a6fb_107b449f15fclevel0_row6\" class=\"row_heading level0 row6\" >санктпетербург</th>\n",
       "                        <td id=\"T_e995c641_046b_11ea_a6fb_107b449f15fcrow6_col0\" class=\"data row6 col0\" >0.04221</td>\n",
       "            </tr>\n",
       "            <tr>\n",
       "                        <th id=\"T_e995c641_046b_11ea_a6fb_107b449f15fclevel0_row7\" class=\"row_heading level0 row7\" >инвестиционный</th>\n",
       "                        <td id=\"T_e995c641_046b_11ea_a6fb_107b449f15fcrow7_col0\" class=\"data row7 col0\" >0.03373</td>\n",
       "            </tr>\n",
       "            <tr>\n",
       "                        <th id=\"T_e995c641_046b_11ea_a6fb_107b449f15fclevel0_row8\" class=\"row_heading level0 row8\" >квартира</th>\n",
       "                        <td id=\"T_e995c641_046b_11ea_a6fb_107b449f15fcrow8_col0\" class=\"data row8 col0\" >0.0274</td>\n",
       "            </tr>\n",
       "            <tr>\n",
       "                        <th id=\"T_e995c641_046b_11ea_a6fb_107b449f15fclevel0_row9\" class=\"row_heading level0 row9\" >стратегия</th>\n",
       "                        <td id=\"T_e995c641_046b_11ea_a6fb_107b449f15fcrow9_col0\" class=\"data row9 col0\" >0.02426</td>\n",
       "            </tr>\n",
       "    </tbody></table>"
      ]
     },
     "metadata": {},
     "output_type": "display_data"
    },
    {
     "data": {
      "text/html": [
       "<b></b>"
      ]
     },
     "metadata": {},
     "output_type": "display_data"
    },
    {
     "data": {
      "text/html": [
       "<b></b>"
      ]
     },
     "metadata": {},
     "output_type": "display_data"
    },
    {
     "data": {
      "text/html": [
       "<style  type=\"text/css\" >\n",
       "</style><table id=\"T_e995c642_046b_11ea_a6fb_107b449f15fc\" style='display:inline'><thead>    <tr>        <th class=\"blank level0\" ></th>        <th class=\"col_heading level0 col0\" >topic_32 @word</th>    </tr></thead><tbody>\n",
       "                <tr>\n",
       "                        <th id=\"T_e995c642_046b_11ea_a6fb_107b449f15fclevel0_row0\" class=\"row_heading level0 row0\" >потребность</th>\n",
       "                        <td id=\"T_e995c642_046b_11ea_a6fb_107b449f15fcrow0_col0\" class=\"data row0 col0\" >0.11864</td>\n",
       "            </tr>\n",
       "            <tr>\n",
       "                        <th id=\"T_e995c642_046b_11ea_a6fb_107b449f15fclevel0_row1\" class=\"row_heading level0 row1\" >лояльность</th>\n",
       "                        <td id=\"T_e995c642_046b_11ea_a6fb_107b449f15fcrow1_col0\" class=\"data row1 col0\" >0.08109</td>\n",
       "            </tr>\n",
       "            <tr>\n",
       "                        <th id=\"T_e995c642_046b_11ea_a6fb_107b449f15fclevel0_row2\" class=\"row_heading level0 row2\" >ценность</th>\n",
       "                        <td id=\"T_e995c642_046b_11ea_a6fb_107b449f15fcrow2_col0\" class=\"data row2 col0\" >0.07571</td>\n",
       "            </tr>\n",
       "            <tr>\n",
       "                        <th id=\"T_e995c642_046b_11ea_a6fb_107b449f15fclevel0_row3\" class=\"row_heading level0 row3\" >критерий</th>\n",
       "                        <td id=\"T_e995c642_046b_11ea_a6fb_107b449f15fcrow3_col0\" class=\"data row3 col0\" >0.07479</td>\n",
       "            </tr>\n",
       "            <tr>\n",
       "                        <th id=\"T_e995c642_046b_11ea_a6fb_107b449f15fclevel0_row4\" class=\"row_heading level0 row4\" >целевой</th>\n",
       "                        <td id=\"T_e995c642_046b_11ea_a6fb_107b449f15fcrow4_col0\" class=\"data row4 col0\" >0.07255</td>\n",
       "            </tr>\n",
       "            <tr>\n",
       "                        <th id=\"T_e995c642_046b_11ea_a6fb_107b449f15fclevel0_row5\" class=\"row_heading level0 row5\" >эмоция</th>\n",
       "                        <td id=\"T_e995c642_046b_11ea_a6fb_107b449f15fcrow5_col0\" class=\"data row5 col0\" >0.07171</td>\n",
       "            </tr>\n",
       "            <tr>\n",
       "                        <th id=\"T_e995c642_046b_11ea_a6fb_107b449f15fclevel0_row6\" class=\"row_heading level0 row6\" >экспертный</th>\n",
       "                        <td id=\"T_e995c642_046b_11ea_a6fb_107b449f15fcrow6_col0\" class=\"data row6 col0\" >0.05926</td>\n",
       "            </tr>\n",
       "            <tr>\n",
       "                        <th id=\"T_e995c642_046b_11ea_a6fb_107b449f15fclevel0_row7\" class=\"row_heading level0 row7\" >повысить</th>\n",
       "                        <td id=\"T_e995c642_046b_11ea_a6fb_107b449f15fcrow7_col0\" class=\"data row7 col0\" >0.04363</td>\n",
       "            </tr>\n",
       "            <tr>\n",
       "                        <th id=\"T_e995c642_046b_11ea_a6fb_107b449f15fclevel0_row8\" class=\"row_heading level0 row8\" >mdash</th>\n",
       "                        <td id=\"T_e995c642_046b_11ea_a6fb_107b449f15fcrow8_col0\" class=\"data row8 col0\" >0.0397</td>\n",
       "            </tr>\n",
       "            <tr>\n",
       "                        <th id=\"T_e995c642_046b_11ea_a6fb_107b449f15fclevel0_row9\" class=\"row_heading level0 row9\" >взаимосвязь</th>\n",
       "                        <td id=\"T_e995c642_046b_11ea_a6fb_107b449f15fcrow9_col0\" class=\"data row9 col0\" >0.03642</td>\n",
       "            </tr>\n",
       "    </tbody></table>"
      ]
     },
     "metadata": {},
     "output_type": "display_data"
    },
    {
     "data": {
      "text/html": [
       "<b></b>"
      ]
     },
     "metadata": {},
     "output_type": "display_data"
    },
    {
     "data": {
      "text/html": [
       "<style  type=\"text/css\" >\n",
       "</style><table id=\"T_e995c643_046b_11ea_a6fb_107b449f15fc\" style='display:inline'><thead>    <tr>        <th class=\"blank level0\" ></th>        <th class=\"col_heading level0 col0\" >topic_33 @word</th>    </tr></thead><tbody>\n",
       "                <tr>\n",
       "                        <th id=\"T_e995c643_046b_11ea_a6fb_107b449f15fclevel0_row0\" class=\"row_heading level0 row0\" >server</th>\n",
       "                        <td id=\"T_e995c643_046b_11ea_a6fb_107b449f15fcrow0_col0\" class=\"data row0 col0\" >0.00798</td>\n",
       "            </tr>\n",
       "            <tr>\n",
       "                        <th id=\"T_e995c643_046b_11ea_a6fb_107b449f15fclevel0_row1\" class=\"row_heading level0 row1\" >you</th>\n",
       "                        <td id=\"T_e995c643_046b_11ea_a6fb_107b449f15fcrow1_col0\" class=\"data row1 col0\" >0.00678</td>\n",
       "            </tr>\n",
       "            <tr>\n",
       "                        <th id=\"T_e995c643_046b_11ea_a6fb_107b449f15fclevel0_row2\" class=\"row_heading level0 row2\" >itunes</th>\n",
       "                        <td id=\"T_e995c643_046b_11ea_a6fb_107b449f15fcrow2_col0\" class=\"data row2 col0\" >0.00652</td>\n",
       "            </tr>\n",
       "            <tr>\n",
       "                        <th id=\"T_e995c643_046b_11ea_a6fb_107b449f15fclevel0_row3\" class=\"row_heading level0 row3\" >on</th>\n",
       "                        <td id=\"T_e995c643_046b_11ea_a6fb_107b449f15fcrow3_col0\" class=\"data row3 col0\" >0.00631</td>\n",
       "            </tr>\n",
       "            <tr>\n",
       "                        <th id=\"T_e995c643_046b_11ea_a6fb_107b449f15fclevel0_row4\" class=\"row_heading level0 row4\" >ms</th>\n",
       "                        <td id=\"T_e995c643_046b_11ea_a6fb_107b449f15fcrow4_col0\" class=\"data row4 col0\" >0.00588</td>\n",
       "            </tr>\n",
       "            <tr>\n",
       "                        <th id=\"T_e995c643_046b_11ea_a6fb_107b449f15fclevel0_row5\" class=\"row_heading level0 row5\" >джобс</th>\n",
       "                        <td id=\"T_e995c643_046b_11ea_a6fb_107b449f15fcrow5_col0\" class=\"data row5 col0\" >0.00569</td>\n",
       "            </tr>\n",
       "            <tr>\n",
       "                        <th id=\"T_e995c643_046b_11ea_a6fb_107b449f15fclevel0_row6\" class=\"row_heading level0 row6\" >is</th>\n",
       "                        <td id=\"T_e995c643_046b_11ea_a6fb_107b449f15fcrow6_col0\" class=\"data row6 col0\" >0.00546</td>\n",
       "            </tr>\n",
       "            <tr>\n",
       "                        <th id=\"T_e995c643_046b_11ea_a6fb_107b449f15fclevel0_row7\" class=\"row_heading level0 row7\" >mozilla</th>\n",
       "                        <td id=\"T_e995c643_046b_11ea_a6fb_107b449f15fcrow7_col0\" class=\"data row7 col0\" >0.00545</td>\n",
       "            </tr>\n",
       "            <tr>\n",
       "                        <th id=\"T_e995c643_046b_11ea_a6fb_107b449f15fclevel0_row8\" class=\"row_heading level0 row8\" >office</th>\n",
       "                        <td id=\"T_e995c643_046b_11ea_a6fb_107b449f15fcrow8_col0\" class=\"data row8 col0\" >0.0053</td>\n",
       "            </tr>\n",
       "            <tr>\n",
       "                        <th id=\"T_e995c643_046b_11ea_a6fb_107b449f15fclevel0_row9\" class=\"row_heading level0 row9\" >i</th>\n",
       "                        <td id=\"T_e995c643_046b_11ea_a6fb_107b449f15fcrow9_col0\" class=\"data row9 col0\" >0.00526</td>\n",
       "            </tr>\n",
       "    </tbody></table>"
      ]
     },
     "metadata": {},
     "output_type": "display_data"
    },
    {
     "data": {
      "text/html": [
       "<b></b>"
      ]
     },
     "metadata": {},
     "output_type": "display_data"
    },
    {
     "data": {
      "text/html": [
       "<b></b>"
      ]
     },
     "metadata": {},
     "output_type": "display_data"
    },
    {
     "data": {
      "text/html": [
       "<b></b>"
      ]
     },
     "metadata": {},
     "output_type": "display_data"
    },
    {
     "data": {
      "text/html": [
       "<b></b>"
      ]
     },
     "metadata": {},
     "output_type": "display_data"
    },
    {
     "data": {
      "text/html": [
       "<b></b>"
      ]
     },
     "metadata": {},
     "output_type": "display_data"
    },
    {
     "data": {
      "text/html": [
       "<b></b>"
      ]
     },
     "metadata": {},
     "output_type": "display_data"
    },
    {
     "data": {
      "text/html": [
       "<b></b>"
      ]
     },
     "metadata": {},
     "output_type": "display_data"
    },
    {
     "data": {
      "text/html": [
       "<b></b>"
      ]
     },
     "metadata": {},
     "output_type": "display_data"
    },
    {
     "data": {
      "text/html": [
       "<b></b>"
      ]
     },
     "metadata": {},
     "output_type": "display_data"
    },
    {
     "data": {
      "text/html": [
       "<b></b>"
      ]
     },
     "metadata": {},
     "output_type": "display_data"
    },
    {
     "data": {
      "text/html": [
       "<style  type=\"text/css\" >\n",
       "</style><table id=\"T_e995c644_046b_11ea_a6fb_107b449f15fc\" style='display:inline'><thead>    <tr>        <th class=\"blank level0\" ></th>        <th class=\"col_heading level0 col0\" >topic_34 @word</th>    </tr></thead><tbody>\n",
       "                <tr>\n",
       "                        <th id=\"T_e995c644_046b_11ea_a6fb_107b449f15fclevel0_row0\" class=\"row_heading level0 row0\" >блогер</th>\n",
       "                        <td id=\"T_e995c644_046b_11ea_a6fb_107b449f15fcrow0_col0\" class=\"data row0 col0\" >0.03187</td>\n",
       "            </tr>\n",
       "            <tr>\n",
       "                        <th id=\"T_e995c644_046b_11ea_a6fb_107b449f15fclevel0_row1\" class=\"row_heading level0 row1\" >энергия</th>\n",
       "                        <td id=\"T_e995c644_046b_11ea_a6fb_107b449f15fcrow1_col0\" class=\"data row1 col0\" >0.02586</td>\n",
       "            </tr>\n",
       "            <tr>\n",
       "                        <th id=\"T_e995c644_046b_11ea_a6fb_107b449f15fclevel0_row2\" class=\"row_heading level0 row2\" >наука</th>\n",
       "                        <td id=\"T_e995c644_046b_11ea_a6fb_107b449f15fcrow2_col0\" class=\"data row2 col0\" >0.02202</td>\n",
       "            </tr>\n",
       "            <tr>\n",
       "                        <th id=\"T_e995c644_046b_11ea_a6fb_107b449f15fclevel0_row3\" class=\"row_heading level0 row3\" >бот</th>\n",
       "                        <td id=\"T_e995c644_046b_11ea_a6fb_107b449f15fcrow3_col0\" class=\"data row3 col0\" >0.02076</td>\n",
       "            </tr>\n",
       "            <tr>\n",
       "                        <th id=\"T_e995c644_046b_11ea_a6fb_107b449f15fclevel0_row4\" class=\"row_heading level0 row4\" >вселенная</th>\n",
       "                        <td id=\"T_e995c644_046b_11ea_a6fb_107b449f15fcrow4_col0\" class=\"data row4 col0\" >0.01929</td>\n",
       "            </tr>\n",
       "            <tr>\n",
       "                        <th id=\"T_e995c644_046b_11ea_a6fb_107b449f15fclevel0_row5\" class=\"row_heading level0 row5\" >встреча</th>\n",
       "                        <td id=\"T_e995c644_046b_11ea_a6fb_107b449f15fcrow5_col0\" class=\"data row5 col0\" >0.01659</td>\n",
       "            </tr>\n",
       "            <tr>\n",
       "                        <th id=\"T_e995c644_046b_11ea_a6fb_107b449f15fclevel0_row6\" class=\"row_heading level0 row6\" >семья</th>\n",
       "                        <td id=\"T_e995c644_046b_11ea_a6fb_107b449f15fcrow6_col0\" class=\"data row6 col0\" >0.01434</td>\n",
       "            </tr>\n",
       "            <tr>\n",
       "                        <th id=\"T_e995c644_046b_11ea_a6fb_107b449f15fclevel0_row7\" class=\"row_heading level0 row7\" >великий</th>\n",
       "                        <td id=\"T_e995c644_046b_11ea_a6fb_107b449f15fcrow7_col0\" class=\"data row7 col0\" >0.01416</td>\n",
       "            </tr>\n",
       "            <tr>\n",
       "                        <th id=\"T_e995c644_046b_11ea_a6fb_107b449f15fclevel0_row8\" class=\"row_heading level0 row8\" >твой</th>\n",
       "                        <td id=\"T_e995c644_046b_11ea_a6fb_107b449f15fcrow8_col0\" class=\"data row8 col0\" >0.0132</td>\n",
       "            </tr>\n",
       "            <tr>\n",
       "                        <th id=\"T_e995c644_046b_11ea_a6fb_107b449f15fclevel0_row9\" class=\"row_heading level0 row9\" >теория</th>\n",
       "                        <td id=\"T_e995c644_046b_11ea_a6fb_107b449f15fcrow9_col0\" class=\"data row9 col0\" >0.01298</td>\n",
       "            </tr>\n",
       "    </tbody></table>"
      ]
     },
     "metadata": {},
     "output_type": "display_data"
    },
    {
     "data": {
      "text/html": [
       "<b></b>"
      ]
     },
     "metadata": {},
     "output_type": "display_data"
    },
    {
     "data": {
      "text/html": [
       "<b></b>"
      ]
     },
     "metadata": {},
     "output_type": "display_data"
    },
    {
     "data": {
      "text/html": [
       "<b></b>"
      ]
     },
     "metadata": {},
     "output_type": "display_data"
    },
    {
     "data": {
      "text/html": [
       "<b></b>"
      ]
     },
     "metadata": {},
     "output_type": "display_data"
    },
    {
     "data": {
      "text/html": [
       "<b></b>"
      ]
     },
     "metadata": {},
     "output_type": "display_data"
    },
    {
     "data": {
      "text/html": [
       "<b></b>"
      ]
     },
     "metadata": {},
     "output_type": "display_data"
    },
    {
     "data": {
      "text/html": [
       "<style  type=\"text/css\" >\n",
       "</style><table id=\"T_e995c645_046b_11ea_a6fb_107b449f15fc\" style='display:inline'><thead>    <tr>        <th class=\"blank level0\" ></th>        <th class=\"col_heading level0 col0\" >bcg_35 @word</th>    </tr></thead><tbody>\n",
       "                <tr>\n",
       "                        <th id=\"T_e995c645_046b_11ea_a6fb_107b449f15fclevel0_row0\" class=\"row_heading level0 row0\" >сегмент</th>\n",
       "                        <td id=\"T_e995c645_046b_11ea_a6fb_107b449f15fcrow0_col0\" class=\"data row0 col0\" >0.00051</td>\n",
       "            </tr>\n",
       "            <tr>\n",
       "                        <th id=\"T_e995c645_046b_11ea_a6fb_107b449f15fclevel0_row1\" class=\"row_heading level0 row1\" >телевидение</th>\n",
       "                        <td id=\"T_e995c645_046b_11ea_a6fb_107b449f15fcrow1_col0\" class=\"data row1 col0\" >0.00051</td>\n",
       "            </tr>\n",
       "            <tr>\n",
       "                        <th id=\"T_e995c645_046b_11ea_a6fb_107b449f15fclevel0_row2\" class=\"row_heading level0 row2\" >штат</th>\n",
       "                        <td id=\"T_e995c645_046b_11ea_a6fb_107b449f15fcrow2_col0\" class=\"data row2 col0\" >0.0005</td>\n",
       "            </tr>\n",
       "            <tr>\n",
       "                        <th id=\"T_e995c645_046b_11ea_a6fb_107b449f15fclevel0_row3\" class=\"row_heading level0 row3\" >научный</th>\n",
       "                        <td id=\"T_e995c645_046b_11ea_a6fb_107b449f15fcrow3_col0\" class=\"data row3 col0\" >0.0005</td>\n",
       "            </tr>\n",
       "            <tr>\n",
       "                        <th id=\"T_e995c645_046b_11ea_a6fb_107b449f15fclevel0_row4\" class=\"row_heading level0 row4\" >проведение</th>\n",
       "                        <td id=\"T_e995c645_046b_11ea_a6fb_107b449f15fcrow4_col0\" class=\"data row4 col0\" >0.0005</td>\n",
       "            </tr>\n",
       "            <tr>\n",
       "                        <th id=\"T_e995c645_046b_11ea_a6fb_107b449f15fclevel0_row5\" class=\"row_heading level0 row5\" >польза</th>\n",
       "                        <td id=\"T_e995c645_046b_11ea_a6fb_107b449f15fcrow5_col0\" class=\"data row5 col0\" >0.0005</td>\n",
       "            </tr>\n",
       "            <tr>\n",
       "                        <th id=\"T_e995c645_046b_11ea_a6fb_107b449f15fclevel0_row6\" class=\"row_heading level0 row6\" >зайти</th>\n",
       "                        <td id=\"T_e995c645_046b_11ea_a6fb_107b449f15fcrow6_col0\" class=\"data row6 col0\" >0.00049</td>\n",
       "            </tr>\n",
       "            <tr>\n",
       "                        <th id=\"T_e995c645_046b_11ea_a6fb_107b449f15fclevel0_row7\" class=\"row_heading level0 row7\" >куча</th>\n",
       "                        <td id=\"T_e995c645_046b_11ea_a6fb_107b449f15fcrow7_col0\" class=\"data row7 col0\" >0.00049</td>\n",
       "            </tr>\n",
       "            <tr>\n",
       "                        <th id=\"T_e995c645_046b_11ea_a6fb_107b449f15fclevel0_row8\" class=\"row_heading level0 row8\" >развиваться</th>\n",
       "                        <td id=\"T_e995c645_046b_11ea_a6fb_107b449f15fcrow8_col0\" class=\"data row8 col0\" >0.00049</td>\n",
       "            </tr>\n",
       "            <tr>\n",
       "                        <th id=\"T_e995c645_046b_11ea_a6fb_107b449f15fclevel0_row9\" class=\"row_heading level0 row9\" >голова</th>\n",
       "                        <td id=\"T_e995c645_046b_11ea_a6fb_107b449f15fcrow9_col0\" class=\"data row9 col0\" >0.00049</td>\n",
       "            </tr>\n",
       "    </tbody></table>"
      ]
     },
     "metadata": {},
     "output_type": "display_data"
    },
    {
     "data": {
      "text/html": [
       "<b></b>"
      ]
     },
     "metadata": {},
     "output_type": "display_data"
    },
    {
     "data": {
      "text/html": [
       "<b></b>"
      ]
     },
     "metadata": {},
     "output_type": "display_data"
    },
    {
     "data": {
      "text/html": [
       "<b></b>"
      ]
     },
     "metadata": {},
     "output_type": "display_data"
    },
    {
     "data": {
      "text/html": [
       "<b></b>"
      ]
     },
     "metadata": {},
     "output_type": "display_data"
    },
    {
     "data": {
      "text/html": [
       "<b></b>"
      ]
     },
     "metadata": {},
     "output_type": "display_data"
    },
    {
     "data": {
      "text/html": [
       "<b></b>"
      ]
     },
     "metadata": {},
     "output_type": "display_data"
    },
    {
     "data": {
      "text/html": [
       "<b></b>"
      ]
     },
     "metadata": {},
     "output_type": "display_data"
    },
    {
     "data": {
      "text/html": [
       "<b></b>"
      ]
     },
     "metadata": {},
     "output_type": "display_data"
    },
    {
     "data": {
      "text/html": [
       "<b></b>"
      ]
     },
     "metadata": {},
     "output_type": "display_data"
    },
    {
     "data": {
      "text/html": [
       "<b></b>"
      ]
     },
     "metadata": {},
     "output_type": "display_data"
    }
   ],
   "source": [
    "n=7\n",
    "for line, topic_docs in list(zip(first_model_html, first_model_top_doc))[-n:]:\n",
    "    display_html(line, raw=True)\n",
    "    for doc_id in topic_docs:\n",
    "        doc_vw = demo_data.get_vw_document(doc_id).values[0][0]\n",
    "        doc_title = get_modality_vw(doc_vw, \"@title\")\n",
    "        doc_snippet = get_modality_vw(doc_vw, \"@snippet\")\n",
    "        display_html(f\"<b>{doc_title}</b>\", raw=True)"
   ]
  }
 ],
 "metadata": {
  "kernelspec": {
   "display_name": "Python [conda env:root] *",
   "language": "python",
   "name": "conda-root-py"
  },
  "language_info": {
   "codemirror_mode": {
    "name": "ipython",
    "version": 3
   },
   "file_extension": ".py",
   "mimetype": "text/x-python",
   "name": "python",
   "nbconvert_exporter": "python",
   "pygments_lexer": "ipython3",
   "version": "3.6.9"
  }
 },
 "nbformat": 4,
 "nbformat_minor": 2
}
