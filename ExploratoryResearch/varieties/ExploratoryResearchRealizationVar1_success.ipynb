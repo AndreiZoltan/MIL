{
 "cells": [
  {
   "cell_type": "code",
   "execution_count": 1,
   "metadata": {},
   "outputs": [],
   "source": [
    "import numpy as np\n",
    "import pandas as pd\n",
    "import matplotlib.pyplot as plt\n",
    "%matplotlib inline\n",
    "import os\n",
    "import time\n",
    "import artm\n",
    "\n",
    "# change log style\n",
    "lc = artm.messages.ConfigureLoggingArgs()\n",
    "lc.minloglevel = 3\n",
    "lib = artm.wrapper.LibArtm(logging_config=lc)\n",
    "\n",
    "import warnings\n",
    "warnings.filterwarnings(\"ignore\", category=DeprecationWarning)"
   ]
  },
  {
   "cell_type": "code",
   "execution_count": 2,
   "metadata": {},
   "outputs": [
    {
     "data": {
      "text/html": [
       "<style>\n",
       "    div.output_html {\n",
       "        white-space: nowrap;\n",
       "    }\n",
       "    div .output_subarea > pre {\n",
       "        white-space: pre;\n",
       "        word-wrap: normal;\n",
       "    }\n",
       "    div .output_stdout > pre {\n",
       "        white-space: pre-wrap !important;\n",
       "        word-wrap:  break-word !important;\n",
       "    }\n",
       "    </style>"
      ],
      "text/plain": [
       "<IPython.core.display.HTML object>"
      ]
     },
     "metadata": {},
     "output_type": "display_data"
    }
   ],
   "source": [
    "from copy import deepcopy\n",
    "from topicnet.cooking_machine.models.topic_model import TopicModel\n",
    "from topicnet.cooking_machine.cubes import RegularizersModifierCube\n",
    "from topicnet.cooking_machine.config_parser import build_experiment_environment_from_yaml_config\n",
    "from topicnet.cooking_machine.experiment import Experiment\n",
    "from topicnet.cooking_machine.cubes import *\n",
    "from topicnet.cooking_machine.dataset import Dataset\n",
    "from topicnet.cooking_machine.pretty_output import make_notebook_pretty\n",
    "make_notebook_pretty()"
   ]
  },
  {
   "cell_type": "code",
   "execution_count": 3,
   "metadata": {},
   "outputs": [],
   "source": [
    "import topicnet.cooking_machine.cubes as tncubes"
   ]
  },
  {
   "cell_type": "code",
   "execution_count": 4,
   "metadata": {},
   "outputs": [
    {
     "data": {
      "text/html": [
       "<style>\n",
       ".container { width:90% !important; }\n",
       "div.output_scroll .output_subarea { white-space: pre; }\n",
       "</style>"
      ],
      "text/plain": [
       "<IPython.core.display.HTML object>"
      ]
     },
     "metadata": {},
     "output_type": "display_data"
    }
   ],
   "source": [
    "from IPython.core.display import display, HTML\n",
    "from IPython.display import clear_output, display_html\n",
    "display(HTML(\"\"\"<style>\n",
    ".container { width:90% !important; }\n",
    "div.output_scroll .output_subarea { white-space: pre; }\n",
    "</style>\"\"\"))"
   ]
  },
  {
   "cell_type": "markdown",
   "metadata": {},
   "source": [
    "### Make initial model"
   ]
  },
  {
   "cell_type": "code",
   "execution_count": 5,
   "metadata": {
    "scrolled": false
   },
   "outputs": [
    {
     "name": "stdout",
     "output_type": "stream",
     "text": [
      "# This config follows a strategy described in the article\n",
      "# Multi-objective Topic Modeling for Exploratory Search in Tech News\n",
      "# by Anastasya Yanina, Lev Golitsyn and Konstantin Vorontsov, Jan 2018\n",
      "\n",
      "\n",
      "# Use .format(modality=modality, dataset_path=dataset_path,\n",
      "# specific_topics=specific_topics, background_topics=background_topics)\n",
      "# when loading the recipe to adjust for your dataset\n",
      "\n",
      "topics:\n",
      "# Describes number of model topics, in the actuall article 200 topics were found to be optimal\n",
      "    specific_topics: ['topic_0', 'topic_1', 'topic_2', 'topic_3', 'topic_4', 'topic_5', 'topic_6', 'topic_7', 'topic_8', 'topic_9', 'topic_10', 'topic_11', 'topic_12', 'topic_13', 'topic_14', 'topic_15', 'topic_16', 'topic_17', 'topic_18', 'topic_19', 'topic_20', 'topic_21', 'topic_22', 'topic_23', 'topic_24', 'topic_25', 'topic_26', 'topic_27', 'topic_28', 'topic_29', 'topic_30', 'topic_31', 'topic_32', 'topic_33', 'topic_34']\n",
      "    background_topics: ['bcg_35']\n",
      "\n",
      "regularizers:\n",
      "- DecorrelatorPhiRegularizer:\n",
      "    name: decorrelation_phi_@word\n",
      "    topic_names: specific_topics\n",
      "    tau: 0\n",
      "    class_ids: ['@word']\n",
      "- SmoothSparseThetaRegularizer:\n",
      "    name: sparse_theta\n",
      "    topic_names: specific_topics\n",
      "    tau: 0\n",
      "- SmoothSparsePhiRegularizer:\n",
      "    name: smooth_phi_@word\n",
      "    topic_names: specific_topics\n",
      "    tau: 0\n",
      "    class_ids: ['@word']\n",
      "- DecorrelatorPhiRegularizer:\n",
      "    name: decorrelation_phi_@2gramm\n",
      "    topic_names: specific_topics\n",
      "    tau: 0\n",
      "    class_ids: ['@2gramm']\n",
      "- SmoothSparseThetaRegularizer:\n",
      "    name: sparse_theta\n",
      "    topic_names: specific_topics\n",
      "    tau: 0\n",
      "- SmoothSparsePhiRegularizer:\n",
      "    name: smooth_phi_@2gramm\n",
      "    topic_names: specific_topics\n",
      "    tau: 0\n",
      "    class_ids: ['@2gramm']\n",
      "\n",
      "model: \n",
      "    dataset_path: /home/sultan/datasets/PScience/PScience.csv\n",
      "    modalities_to_use: ['@word', '@2gramm']\n",
      "    main_modality: '@word'\n",
      "\n",
      "stages:\n",
      "# repeat the following two cubes for every modality in the dataset\n",
      "- RegularizersModifierCube:\n",
      "    num_iter: 8\n",
      "    reg_search: mul\n",
      "    regularizer_parameters:\n",
      "        name: decorrelation_phi_@word\n",
      "    selection:\n",
      "        - SparsityPhiScore@word > 0.8 * MAXIMUM(SparsityPhiScore@word) and PerplexityScore@word -> min\n",
      "    strategy: PerplexityStrategy\n",
      "    strategy_params:\n",
      "        start_point: 100000\n",
      "        step: 10\n",
      "        max_len: 6\n",
      "    tracked_score_function: PerplexityScore@word\n",
      "    verbose: false\n",
      "    use_relative_coefficients: false\n",
      "- RegularizersModifierCube:\n",
      "    num_iter: 8\n",
      "    reg_search: add\n",
      "    regularizer_parameters:\n",
      "        name: sparse_theta\n",
      "    selection:\n",
      "        - SparsityPhiScore@word > 0.8 * MAXIMUM(SparsityPhiScore@word) and PerplexityScore@all -> min\n",
      "    strategy: PerplexityStrategy\n",
      "    strategy_params:\n",
      "        start_point: -0.5\n",
      "        step: -0.5\n",
      "        max_len: 6\n",
      "    tracked_score_function: PerplexityScore@all\n",
      "    verbose: false\n",
      "    use_relative_coefficients: false\n",
      "- RegularizersModifierCube:\n",
      "    num_iter: 8\n",
      "    reg_search: add\n",
      "    regularizer_parameters:\n",
      "        name: smooth_phi_@word\n",
      "    selection:\n",
      "        - SparsityPhiScore@word > 0.8 * MAXIMUM(SparsityPhiScore@word) and PerplexityScore@word -> min\n",
      "    strategy: PerplexityStrategy\n",
      "    strategy_params:\n",
      "        start_point: 0.25\n",
      "        step: 0.25\n",
      "        max_len: 6\n",
      "    tracked_score_function: PerplexityScore@word\n",
      "    verbose: false\n",
      "    use_relative_coefficients: false\n",
      "\n",
      "- RegularizersModifierCube:\n",
      "    num_iter: 8\n",
      "    reg_search: mul\n",
      "    regularizer_parameters:\n",
      "        name: decorrelation_phi_@2gramm\n",
      "    selection:\n",
      "        - SparsityPhiScore@2gramm > 0.8 * MAXIMUM(SparsityPhiScore@2gramm) and PerplexityScore@2gramm -> min\n",
      "    strategy: PerplexityStrategy\n",
      "    strategy_params:\n",
      "        start_point: 100\n",
      "        step: 10\n",
      "        max_len: 6\n",
      "    tracked_score_function: PerplexityScore@2gramm\n",
      "    verbose: false\n",
      "    use_relative_coefficients: false\n",
      "- RegularizersModifierCube:\n",
      "    num_iter: 8\n",
      "    reg_search: add\n",
      "    regularizer_parameters:\n",
      "        name: sparse_theta\n",
      "    selection:\n",
      "        - SparsityPhiScore@2gramm > 0.8 * MAXIMUM(SparsityPhiScore@2gramm) and PerplexityScore@all -> min\n",
      "    strategy: PerplexityStrategy\n",
      "    strategy_params:\n",
      "        start_point: -0.5\n",
      "        step: -0.5\n",
      "        max_len: 6\n",
      "    tracked_score_function: PerplexityScore@all\n",
      "    verbose: false\n",
      "    use_relative_coefficients: false\n",
      "- RegularizersModifierCube:\n",
      "    num_iter: 8\n",
      "    reg_search: add\n",
      "    regularizer_parameters:\n",
      "        name: smooth_phi_@2gramm\n",
      "    selection:\n",
      "        - SparsityPhiScore@word > 0.8 * MAXIMUM(SparsityPhiScore@word) and PerplexityScore@all -> min\n",
      "    strategy: PerplexityStrategy\n",
      "    strategy_params:\n",
      "        start_point: 0.25\n",
      "        step: 0.25\n",
      "        max_len: 6\n",
      "    tracked_score_function: PerplexityScore@2gramm\n",
      "    verbose: false\n",
      "    use_relative_coefficients: false\n"
     ]
    }
   ],
   "source": [
    "with open(\"/home/sultan/recipes/exploratory_search-variant1_success.yml\", \"r\") as f:\n",
    "    yaml_string = f.read()\n",
    "\n",
    "DATASET_PATH = \"/home/sultan/datasets/PScience/PScience.csv\"\n",
    "specific_topics = [f'topic_{i}' for i in range(35)]\n",
    "background_topics = [f'bcg_{i}' for i in range(len(specific_topics),len(specific_topics) + 1)]\n",
    "\n",
    "yaml_string = yaml_string.format(\n",
    "    modality1='@word',\n",
    "    modality2='@2gramm',\n",
    "    dataset_path=DATASET_PATH,\n",
    "    specific_topics=specific_topics,\n",
    "    background_topics=background_topics)\n",
    "\n",
    "print(yaml_string)"
   ]
  },
  {
   "cell_type": "markdown",
   "metadata": {},
   "source": [
    "### Define Topic Model"
   ]
  },
  {
   "cell_type": "code",
   "execution_count": 6,
   "metadata": {},
   "outputs": [],
   "source": [
    "from topicnet.cooking_machine.experiment import Experiment\n",
    "if os.path.exists(f'./ExploratoryResearchDemo') == True:\n",
    "    os.system(\"rm -rf ./ExploratoryResearchDemo\")\n",
    "experiment, dataset = build_experiment_environment_from_yaml_config(\n",
    "    yaml_string,\n",
    "    experiment_id='ExploratoryResearchDemo',\n",
    "    save_path='ExploratoryResearchDemo',\n",
    ")"
   ]
  },
  {
   "cell_type": "code",
   "execution_count": 7,
   "metadata": {},
   "outputs": [
    {
     "name": "stderr",
     "output_type": "stream",
     "text": [
      "/home/sultan/miniconda3/lib/python3.6/site-packages/topicnet/cooking_machine/cubes/base_cube.py:206: UserWarning: Perplexity is too high for threshold 1.05\n",
      "  warnings.warn(warning_message)\n",
      "/home/sultan/miniconda3/lib/python3.6/site-packages/topicnet/cooking_machine/cubes/base_cube.py:206: UserWarning: Max progression length exceeded\n",
      "  warnings.warn(warning_message)\n"
     ]
    },
    {
     "data": {
      "text/plain": [
       "{<topicnet.cooking_machine.models.topic_model.TopicModel at 0x7ff59dd20390>}"
      ]
     },
     "execution_count": 7,
     "metadata": {},
     "output_type": "execute_result"
    }
   ],
   "source": [
    "experiment.run(dataset)"
   ]
  },
  {
   "cell_type": "code",
   "execution_count": 8,
   "metadata": {},
   "outputs": [
    {
     "data": {
      "text/plain": [
       "Experiment ExploratoryResearchDemo\n",
       "\n",
       "Experiment was made with BigARTM 0.9.0\n",
       "Tree:\n",
       "                              ┌##00h24m35s_25d11m2019y###\n",
       "                              ├##00h24m52s_25d11m2019y###\n",
       "<<<<<<<<<<<root>>>>>>>>>>>────┤\n",
       "                              ├##00h25m08s_25d11m2019y###\n",
       "                              │                                                                                                                                                                                                                                                                                                                       ┌##00h32m18s_25d11m2019y###\n",
       "                              │                                                                                                                                                                                                                                                                                                                       ├##00h32m41s_25d11m2019y###\n",
       "                              │                                                                                                                                                                                                                                                                                                                       ├##00h33m06s_25d11m2019y###\n",
       "                              │                                                                                                                                                                                                               ┌##00h28m41s_25d11m2019y###─────────────────────────────────────────────────────────────────────────────┤\n",
       "                              │                                                                                                                                                                                                               │                                                                                                       │                                                                                                       ┌##00h36m39s_25d11m2019y###\n",
       "                              │                                                                                                                                                                                                               │                                                                                                       │                                                                                                       ├##00h37m06s_25d11m2019y###\n",
       "                              │                                                                                                                                                                                                               │                                                                                                       │                                                                                                       ├##00h37m32s_25d11m2019y###\n",
       "                              │                                                                                                                                                                                                               │                                                                                                       ├##00h33m30s_25d11m2019y###─────────────────────────────────────────────────────────────────────────────┤\n",
       "                              │                                                                                                                                                                                                               │                                                                                                       │                                                                                                       ├##00h37m58s_25d11m2019y###\n",
       "                              │                                                                                                                                                                                                               │                                                                                                       │                                                                                                       ├##00h38m25s_25d11m2019y###\n",
       "                              │                                                                                                                                                                                                               │                                                                                                       │                                                                                                       │                                                                                                       ┌##00h41m27s_25d11m2019y###\n",
       "                              │                                                                                                                                                                                                               │                                                                                                       │                                                                                                       ├##00h38m51s_25d11m2019y###─────────────────────────────────────────────────────────────────────────────┤\n",
       "                              │                                                                                                                                                                                                               │                                                                                                       │                                                                                                       │                                                                                                       ├##00h41m55s_25d11m2019y###\n",
       "                              │                                                                                                                                                                                                               │                                                                                                       │                                                                                                       │                                                                                                       └##00h42m24s_25d11m2019y###\n",
       "                              │                                                                                                                                                                                                               │                                                                                                       │                                                                                                       └##00h39m16s_25d11m2019y###\n",
       "                              │                                                                                                                                                                                                               │                                                                                                       ├##00h33m55s_25d11m2019y###\n",
       "                              │                                                                                                                                                                                                               │                                                                                                       ├##00h34m19s_25d11m2019y###\n",
       "                              │                                                                                                                                                                                                               │                                                                                                       └##00h34m43s_25d11m2019y###\n",
       "                              │                                                                                                                                                                                                               ├##00h29m04s_25d11m2019y###\n",
       "                              │                                                                                                                                                                                                               ├##00h29m28s_25d11m2019y###\n",
       "                              │                                                                                                       ┌##00h25m53s_25d11m2019y###─────────────────────────────────────────────────────────────────────────────┤\n",
       "                              │                                                                                                       │                                                                                                       ├##00h29m51s_25d11m2019y###\n",
       "                              │                                                                                                       │                                                                                                       ├##00h30m14s_25d11m2019y###\n",
       "                              │                                                                                                       │                                                                                                       ├##00h30m37s_25d11m2019y###\n",
       "                              │                                                                                                       │                                                                                                       └##00h30m59s_25d11m2019y###\n",
       "                              │                                                                                                       ├##00h26m13s_25d11m2019y###\n",
       "                              │                                                                                                       ├##00h26m32s_25d11m2019y###\n",
       "                              └##00h25m25s_25d11m2019y###─────────────────────────────────────────────────────────────────────────────┤\n",
       "                                                                                                                                      ├##00h26m52s_25d11m2019y###\n",
       "                                                                                                                                      ├##00h27m11s_25d11m2019y###\n",
       "                                                                                                                                      ├##00h27m31s_25d11m2019y###\n",
       "                                                                                                                                      └##00h27m51s_25d11m2019y###\n",
       "Cubes:\n",
       " START                        | REG_MODIFIER                                                                                          | REG_MODIFIER                                                                                          | REG_MODIFIER                                                                                          | REG_MODIFIER                                                                                          | REG_MODIFIER                                                                                          | REG_MODIFIER                                                                                         \n",
       "                              | cube:                                                                                                 | cube:                                                                                                 | cube:                                                                                                 | cube:                                                                                                 | cube:                                                                                                 | cube:                                                                                                \n",
       " name:                        |   <topicnet.cooking_machine.cubes.regularizer_cube.RegularizersModifierCube object at 0x7ff5a0171438> |   <topicnet.cooking_machine.cubes.regularizer_cube.RegularizersModifierCube object at 0x7ff59fb4fe80> |   <topicnet.cooking_machine.cubes.regularizer_cube.RegularizersModifierCube object at 0x7ff59fb4fef0> |   <topicnet.cooking_machine.cubes.regularizer_cube.RegularizersModifierCube object at 0x7ff59fb4fd68> |   <topicnet.cooking_machine.cubes.regularizer_cube.RegularizersModifierCube object at 0x7ff59fb4fbe0> |   <topicnet.cooking_machine.cubes.regularizer_cube.RegularizersModifierCube object at 0x7ff59fb4ff60>\n",
       "   ARTM                       |                                                                                                       |                                                                                                       |                                                                                                       |                                                                                                       |                                                                                                       |                                                                                                      \n",
       " num_processors:              | tau_grid:                                                                                             | tau_grid:                                                                                             | tau_grid:                                                                                             | tau_grid:                                                                                             | tau_grid:                                                                                             | tau_grid:                                                                                            \n",
       "   3                          |   ---                                                                                                 |   ---                                                                                                 |   ---                                                                                                 |   ---                                                                                                 |   ---                                                                                                 |   ---                                                                                                \n",
       " num_topics:                  | name:                                                                                                 | name:                                                                                                 | name:                                                                                                 | name:                                                                                                 | name:                                                                                                 | name:                                                                                                \n",
       "   36                         |   decorrelation_phi_@word                                                                             |   sparse_theta                                                                                        |   smooth_phi_@word                                                                                    |   decorrelation_phi_@2gramm                                                                           |   sparse_theta                                                                                        |   smooth_phi_@2gramm                                                                                 \n",
       " topic_names:                 |                                                                                                       |                                                                                                       |                                                                                                       |                                                                                                       |                                                                                                       |                                                                                                      \n",
       "   topic_0,                   |                                                                                                       |                                                                                                       |                                                                                                       |                                                                                                       |                                                                                                       |                                                                                                      \n",
       "   topic_1,                   |                                                                                                       |                                                                                                       |                                                                                                       |                                                                                                       |                                                                                                       |                                                                                                      \n",
       "   ...,                       |                                                                                                       |                                                                                                       |                                                                                                       |                                                                                                       |                                                                                                       |                                                                                                      \n",
       "   topic_34,                  |                                                                                                       |                                                                                                       |                                                                                                       |                                                                                                       |                                                                                                       |                                                                                                      \n",
       "   bcg_35                     |                                                                                                       |                                                                                                       |                                                                                                       |                                                                                                       |                                                                                                       |                                                                                                      \n",
       " class_ids:                   |                                                                                                       |                                                                                                       |                                                                                                       |                                                                                                       |                                                                                                       |                                                                                                      \n",
       "   @word=1.0,                 |                                                                                                       |                                                                                                       |                                                                                                       |                                                                                                       |                                                                                                       |                                                                                                      \n",
       "   @2gramm=8.780309757546435  |                                                                                                       |                                                                                                       |                                                                                                       |                                                                                                       |                                                                                                       |                                                                                                      \n",
       " seed:                        |                                                                                                       |                                                                                                       |                                                                                                       |                                                                                                       |                                                                                                       |                                                                                                      \n",
       "   -1                         |                                                                                                       |                                                                                                       |                                                                                                       |                                                                                                       |                                                                                                       |                                                                                                      \n",
       "                              |                                                                                                       |                                                                                                       |                                                                                                       |                                                                                                       |                                                                                                       |                                                                                                      \n",
       "──────────────────────────────+───────────────────────────────────────────────────────────────────────────────────────────────────────+───────────────────────────────────────────────────────────────────────────────────────────────────────+───────────────────────────────────────────────────────────────────────────────────────────────────────+───────────────────────────────────────────────────────────────────────────────────────────────────────+───────────────────────────────────────────────────────────────────────────────────────────────────────+───────────────────────────────────────────────────────────────────────────────────────────────────────+─────────────────────────────────────────────────────────────────────────────────────────────────────\n",
       "                              | stage criteria 1:                                                                                     | stage criteria 1:                                                                                     | stage criteria 1:                                                                                     | stage criteria 1:                                                                                     | stage criteria 1:                                                                                     | stage criteria 1:                                                                                    \n",
       "                              |     SparsityPhiScore@word > 0.8 * MAXIMUM(SparsityPhiScore@word)                                      |     SparsityPhiScore@word > 0.8 * MAXIMUM(SparsityPhiScore@word)                                      |     SparsityPhiScore@word > 0.8 * MAXIMUM(SparsityPhiScore@word)                                      |     SparsityPhiScore@2gramm > 0.8 * MAXIMUM(SparsityPhiScore@2gramm)                                  |     SparsityPhiScore@2gramm > 0.8 * MAXIMUM(SparsityPhiScore@2gramm)                                  |     SparsityPhiScore@word > 0.8 * MAXIMUM(SparsityPhiScore@word)                                     \n",
       "                              |     PerplexityScore@word -> min                                                                       |     PerplexityScore@all -> min                                                                        |     PerplexityScore@word -> min                                                                       |     PerplexityScore@2gramm -> min                                                                     |     PerplexityScore@all -> min                                                                        |     PerplexityScore@all -> min                                                                       \n",
       "                              |                                                                                                       |                                                                                                       |                                                                                                       |                                                                                                       |                                                                                                       |                                                                                                      "
      ]
     },
     "metadata": {},
     "output_type": "display_data"
    }
   ],
   "source": [
    "experiment.show()"
   ]
  },
  {
   "cell_type": "code",
   "execution_count": 9,
   "metadata": {},
   "outputs": [],
   "source": [
    "best_model = experiment.select(experiment.criteria[-1][0])[0]"
   ]
  },
  {
   "cell_type": "code",
   "execution_count": 10,
   "metadata": {},
   "outputs": [
    {
     "data": {
      "image/png": "[encoded data removed]",
      "text/plain": [
       "<Figure size 576x576 with 1 Axes>"
      ]
     },
     "metadata": {
      "needs_background": "light"
     },
     "output_type": "display_data"
    }
   ],
   "source": [
    "tms = experiment.models\n",
    "colors = np.linspace(0, 0.65, len(tms))\n",
    "\n",
    "plt.figure(figsize=(8,8))\n",
    "for i, tm in enumerate(list(tms.values())[1:]):\n",
    "    score = tm.scores['PerplexityScore@all']\n",
    "    plt.plot(score[1:])\n",
    "plt.show()"
   ]
  },
  {
   "cell_type": "code",
   "execution_count": 11,
   "metadata": {},
   "outputs": [
    {
     "data": {
      "image/png": "[encoded data removed]",
      "text/plain": [
       "<Figure size 576x576 with 1 Axes>"
      ]
     },
     "metadata": {
      "needs_background": "light"
     },
     "output_type": "display_data"
    }
   ],
   "source": [
    "from matplotlib import cm\n",
    "tms = experiment.models\n",
    "colors = np.linspace(0, 0.65, len(tms))\n",
    "\n",
    "plt.figure(figsize=(8,8))\n",
    "for i, tm in enumerate(list(tms.values())[1:]):\n",
    "    score = tm.scores['TopicKernel@word.average_purity']\n",
    "    plt.plot(score, color=cm.Blues(colors[i]))\n",
    "    score = tm.scores['TopicKernel@word.average_contrast']\n",
    "    plt.plot(score, color=cm.Reds(colors[i]))\n",
    "plt.show()"
   ]
  },
  {
   "cell_type": "code",
   "execution_count": 12,
   "metadata": {},
   "outputs": [
    {
     "name": "stdout",
     "output_type": "stream",
     "text": [
      "smooth_phi_bcg 0.0\n",
      "smooth_theta_bcg 0.0\n",
      "decorrelation_phi_@word 10000000.0\n",
      "sparse_theta -2.5\n",
      "smooth_phi_@word 0\n",
      "decorrelation_phi_@2gramm 10000.0\n",
      "smooth_phi_@2gramm 0\n",
      "15668445.0\n",
      "0.8978375196456909\n",
      "0.8746655583381653\n",
      "------\n",
      "smooth_phi_bcg 0.0\n",
      "smooth_theta_bcg 0.0\n",
      "decorrelation_phi_@word 10000000.0\n",
      "sparse_theta -2.5\n",
      "smooth_phi_@word 0\n",
      "decorrelation_phi_@2gramm 10000.0\n",
      "smooth_phi_@2gramm 0.25\n",
      "16409478.0\n",
      "0.8980350494384766\n",
      "0.8780321478843689\n",
      "------\n",
      "smooth_phi_bcg 0.0\n",
      "smooth_theta_bcg 0.0\n",
      "decorrelation_phi_@word 10000000.0\n",
      "sparse_theta -2.5\n",
      "smooth_phi_@word 0\n",
      "decorrelation_phi_@2gramm 10000.0\n",
      "smooth_phi_@2gramm 0.5\n",
      "17226344.0\n",
      "0.8989471793174744\n",
      "0.8773924112319946\n",
      "------\n"
     ]
    }
   ],
   "source": [
    "query = (\n",
    "    \"TopicKernel@word.average_contrast > 0.8 * MAXIMUM(TopicKernel@word.average_contrast) \"\n",
    "    \"and TopicKernel@word.average_purity > 0.8 * MAXIMUM(TopicKernel@word.average_purity) \"\n",
    "    \"and PerplexityScore@all < 1.1 * MINIMUM(PerplexityScore@all) \"\n",
    ")\n",
    "models = experiment.select(query + \" COLLECT all\")\n",
    "def describe_model(model):\n",
    "    for reg_name, reg in model.regularizers._data.items():\n",
    "        print(reg_name, reg.tau)\n",
    "    print(model.scores[\"PerplexityScore@all\"][-1])\n",
    "    print(model.scores[\"TopicKernel@word.average_contrast\"][-1])\n",
    "    print(model.scores[\"TopicKernel@word.average_purity\"][-1])\n",
    "    print(\"------\")\n",
    "for model in models:\n",
    "    describe_model(model)"
   ]
  },
  {
   "cell_type": "markdown",
   "metadata": {},
   "source": [
    "### Investigate model"
   ]
  },
  {
   "cell_type": "code",
   "execution_count": 13,
   "metadata": {},
   "outputs": [],
   "source": [
    "best_model = models[-1]"
   ]
  },
  {
   "cell_type": "code",
   "execution_count": 14,
   "metadata": {},
   "outputs": [],
   "source": [
    "from topicnet.viewers.top_tokens_viewer import TopTokensViewer\n",
    "from topicnet.viewers.top_documents_viewer import TopDocumentsViewer\n",
    "from IPython.display import display_html, display\n",
    "from topicnet.cooking_machine.dataset import get_modality_vw"
   ]
  },
  {
   "cell_type": "code",
   "execution_count": 15,
   "metadata": {},
   "outputs": [],
   "source": [
    "thresh = 1e-5\n",
    "demo_data = Dataset(DATASET_PATH)\n",
    "first_model_top_tok = TopTokensViewer(best_model, num_top_tokens=10, method='phi')\n",
    "first_model_html =  first_model_top_tok.to_html(first_model_top_tok.view(),thresh=thresh)\n",
    "first_model_top_doc = TopDocumentsViewer(best_model, dataset=demo_data).view()"
   ]
  },
  {
   "cell_type": "code",
   "execution_count": 16,
   "metadata": {
    "scrolled": true
   },
   "outputs": [
    {
     "data": {
      "text/html": [
       "<style  type=\"text/css\" >\n",
       "</style><table id=\"T_931a2578_0f03_11ea_a6fb_107b449f15fc\" style='display:inline'><thead>    <tr>        <th class=\"blank level0\" ></th>        <th class=\"col_heading level0 col0\" >topic_29 @2gramm</th>    </tr></thead><tbody>\n",
       "                <tr>\n",
       "                        <th id=\"T_931a2578_0f03_11ea_a6fb_107b449f15fclevel0_row0\" class=\"row_heading level0 row0\" >раковый_клетка</th>\n",
       "                        <td id=\"T_931a2578_0f03_11ea_a6fb_107b449f15fcrow0_col0\" class=\"data row0 col0\" >0.02423</td>\n",
       "            </tr>\n",
       "            <tr>\n",
       "                        <th id=\"T_931a2578_0f03_11ea_a6fb_107b449f15fclevel0_row1\" class=\"row_heading level0 row1\" >многоклеточный_организм</th>\n",
       "                        <td id=\"T_931a2578_0f03_11ea_a6fb_107b449f15fcrow1_col0\" class=\"data row1 col0\" >0.01319</td>\n",
       "            </tr>\n",
       "            <tr>\n",
       "                        <th id=\"T_931a2578_0f03_11ea_a6fb_107b449f15fclevel0_row2\" class=\"row_heading level0 row2\" >опухолевый_клетка</th>\n",
       "                        <td id=\"T_931a2578_0f03_11ea_a6fb_107b449f15fcrow2_col0\" class=\"data row2 col0\" >0.01268</td>\n",
       "            </tr>\n",
       "            <tr>\n",
       "                        <th id=\"T_931a2578_0f03_11ea_a6fb_107b449f15fclevel0_row3\" class=\"row_heading level0 row3\" >сигнальный_путь</th>\n",
       "                        <td id=\"T_931a2578_0f03_11ea_a6fb_107b449f15fcrow3_col0\" class=\"data row3 col0\" >0.01045</td>\n",
       "            </tr>\n",
       "            <tr>\n",
       "                        <th id=\"T_931a2578_0f03_11ea_a6fb_107b449f15fclevel0_row4\" class=\"row_heading level0 row4\" >парниковый_эффект</th>\n",
       "                        <td id=\"T_931a2578_0f03_11ea_a6fb_107b449f15fcrow4_col0\" class=\"data row4 col0\" >0.00841</td>\n",
       "            </tr>\n",
       "            <tr>\n",
       "                        <th id=\"T_931a2578_0f03_11ea_a6fb_107b449f15fclevel0_row5\" class=\"row_heading level0 row5\" >оперативный_память</th>\n",
       "                        <td id=\"T_931a2578_0f03_11ea_a6fb_107b449f15fcrow5_col0\" class=\"data row5 col0\" >0.0078</td>\n",
       "            </tr>\n",
       "            <tr>\n",
       "                        <th id=\"T_931a2578_0f03_11ea_a6fb_107b449f15fclevel0_row6\" class=\"row_heading level0 row6\" >эукариотический_клетка</th>\n",
       "                        <td id=\"T_931a2578_0f03_11ea_a6fb_107b449f15fcrow6_col0\" class=\"data row6 col0\" >0.00749</td>\n",
       "            </tr>\n",
       "            <tr>\n",
       "                        <th id=\"T_931a2578_0f03_11ea_a6fb_107b449f15fclevel0_row7\" class=\"row_heading level0 row7\" >половый_клетка</th>\n",
       "                        <td id=\"T_931a2578_0f03_11ea_a6fb_107b449f15fcrow7_col0\" class=\"data row7 col0\" >0.007</td>\n",
       "            </tr>\n",
       "            <tr>\n",
       "                        <th id=\"T_931a2578_0f03_11ea_a6fb_107b449f15fclevel0_row8\" class=\"row_heading level0 row8\" >глобальный_потепление</th>\n",
       "                        <td id=\"T_931a2578_0f03_11ea_a6fb_107b449f15fcrow8_col0\" class=\"data row8 col0\" >0.00667</td>\n",
       "            </tr>\n",
       "            <tr>\n",
       "                        <th id=\"T_931a2578_0f03_11ea_a6fb_107b449f15fclevel0_row9\" class=\"row_heading level0 row9\" >иммунный_система</th>\n",
       "                        <td id=\"T_931a2578_0f03_11ea_a6fb_107b449f15fcrow9_col0\" class=\"data row9 col0\" >0.00665</td>\n",
       "            </tr>\n",
       "    </tbody></table><style  type=\"text/css\" >\n",
       "</style><table id=\"T_931a2579_0f03_11ea_a6fb_107b449f15fc\" style='display:inline'><thead>    <tr>        <th class=\"blank level0\" ></th>        <th class=\"col_heading level0 col0\" >topic_29 @word</th>    </tr></thead><tbody>\n",
       "                <tr>\n",
       "                        <th id=\"T_931a2579_0f03_11ea_a6fb_107b449f15fclevel0_row0\" class=\"row_heading level0 row0\" >опухоль</th>\n",
       "                        <td id=\"T_931a2579_0f03_11ea_a6fb_107b449f15fcrow0_col0\" class=\"data row0 col0\" >0.22454</td>\n",
       "            </tr>\n",
       "            <tr>\n",
       "                        <th id=\"T_931a2579_0f03_11ea_a6fb_107b449f15fclevel0_row1\" class=\"row_heading level0 row1\" >градус</th>\n",
       "                        <td id=\"T_931a2579_0f03_11ea_a6fb_107b449f15fcrow1_col0\" class=\"data row1 col0\" >0.20365</td>\n",
       "            </tr>\n",
       "            <tr>\n",
       "                        <th id=\"T_931a2579_0f03_11ea_a6fb_107b449f15fclevel0_row2\" class=\"row_heading level0 row2\" >мышь</th>\n",
       "                        <td id=\"T_931a2579_0f03_11ea_a6fb_107b449f15fcrow2_col0\" class=\"data row2 col0\" >0.20235</td>\n",
       "            </tr>\n",
       "            <tr>\n",
       "                        <th id=\"T_931a2579_0f03_11ea_a6fb_107b449f15fclevel0_row3\" class=\"row_heading level0 row3\" >спариваться</th>\n",
       "                        <td id=\"T_931a2579_0f03_11ea_a6fb_107b449f15fcrow3_col0\" class=\"data row3 col0\" >0.02741</td>\n",
       "            </tr>\n",
       "            <tr>\n",
       "                        <th id=\"T_931a2579_0f03_11ea_a6fb_107b449f15fclevel0_row4\" class=\"row_heading level0 row4\" >холод</th>\n",
       "                        <td id=\"T_931a2579_0f03_11ea_a6fb_107b449f15fcrow4_col0\" class=\"data row4 col0\" >0.0235</td>\n",
       "            </tr>\n",
       "            <tr>\n",
       "                        <th id=\"T_931a2579_0f03_11ea_a6fb_107b449f15fclevel0_row5\" class=\"row_heading level0 row5\" >климатический</th>\n",
       "                        <td id=\"T_931a2579_0f03_11ea_a6fb_107b449f15fcrow5_col0\" class=\"data row5 col0\" >0.0235</td>\n",
       "            </tr>\n",
       "            <tr>\n",
       "                        <th id=\"T_931a2579_0f03_11ea_a6fb_107b449f15fclevel0_row6\" class=\"row_heading level0 row6\" >дифференцироваться</th>\n",
       "                        <td id=\"T_931a2579_0f03_11ea_a6fb_107b449f15fcrow6_col0\" class=\"data row6 col0\" >0.0235</td>\n",
       "            </tr>\n",
       "            <tr>\n",
       "                        <th id=\"T_931a2579_0f03_11ea_a6fb_107b449f15fclevel0_row7\" class=\"row_heading level0 row7\" >серотонин</th>\n",
       "                        <td id=\"T_931a2579_0f03_11ea_a6fb_107b449f15fcrow7_col0\" class=\"data row7 col0\" >0.02219</td>\n",
       "            </tr>\n",
       "            <tr>\n",
       "                        <th id=\"T_931a2579_0f03_11ea_a6fb_107b449f15fclevel0_row8\" class=\"row_heading level0 row8\" >нейротрансмиттер</th>\n",
       "                        <td id=\"T_931a2579_0f03_11ea_a6fb_107b449f15fcrow8_col0\" class=\"data row8 col0\" >0.02219</td>\n",
       "            </tr>\n",
       "            <tr>\n",
       "                        <th id=\"T_931a2579_0f03_11ea_a6fb_107b449f15fclevel0_row9\" class=\"row_heading level0 row9\" >агрессивность</th>\n",
       "                        <td id=\"T_931a2579_0f03_11ea_a6fb_107b449f15fcrow9_col0\" class=\"data row9 col0\" >0.02089</td>\n",
       "            </tr>\n",
       "    </tbody></table>"
      ]
     },
     "metadata": {},
     "output_type": "display_data"
    },
    {
     "data": {
      "text/html": [
       "<b> опухолевые стволовые клетки </b>"
      ]
     },
     "metadata": {},
     "output_type": "display_data"
    },
    {
     "data": {
      "text/html": [
       "<b> изменения генома при раке </b>"
      ]
     },
     "metadata": {},
     "output_type": "display_data"
    },
    {
     "data": {
      "text/html": [
       "<b> наука о клетке </b>"
      ]
     },
     "metadata": {},
     "output_type": "display_data"
    },
    {
     "data": {
      "text/html": [
       "<b> вредные мутации в человеческих популяциях </b>"
      ]
     },
     "metadata": {},
     "output_type": "display_data"
    },
    {
     "data": {
      "text/html": [
       "<b> атмосфера венеры </b>"
      ]
     },
     "metadata": {},
     "output_type": "display_data"
    },
    {
     "data": {
      "text/html": [
       "<b> спермоспецифические белки и онкология </b>"
      ]
     },
     "metadata": {},
     "output_type": "display_data"
    },
    {
     "data": {
      "text/html": [
       "<b> методы лечения рака </b>"
      ]
     },
     "metadata": {},
     "output_type": "display_data"
    },
    {
     "data": {
      "text/html": [
       "<b> ранний и средний протерозой </b>"
      ]
     },
     "metadata": {},
     "output_type": "display_data"
    },
    {
     "data": {
      "text/html": [
       "<b> компьютерные методы диагностики </b>"
      ]
     },
     "metadata": {},
     "output_type": "display_data"
    },
    {
     "data": {
      "text/html": [
       "<b> faqранний и средний протерозой </b>"
      ]
     },
     "metadata": {},
     "output_type": "display_data"
    },
    {
     "data": {
      "text/html": [
       "<style  type=\"text/css\" >\n",
       "</style><table id=\"T_931a257a_0f03_11ea_a6fb_107b449f15fc\" style='display:inline'><thead>    <tr>        <th class=\"blank level0\" ></th>        <th class=\"col_heading level0 col0\" >topic_30 @2gramm</th>    </tr></thead><tbody>\n",
       "                <tr>\n",
       "                        <th id=\"T_931a257a_0f03_11ea_a6fb_107b449f15fclevel0_row0\" class=\"row_heading level0 row0\" >российский_империя</th>\n",
       "                        <td id=\"T_931a257a_0f03_11ea_a6fb_107b449f15fcrow0_col0\" class=\"data row0 col0\" >0.02874</td>\n",
       "            </tr>\n",
       "            <tr>\n",
       "                        <th id=\"T_931a257a_0f03_11ea_a6fb_107b449f15fclevel0_row1\" class=\"row_heading level0 row1\" >общественный_благо</th>\n",
       "                        <td id=\"T_931a257a_0f03_11ea_a6fb_107b449f15fcrow1_col0\" class=\"data row1 col0\" >0.01398</td>\n",
       "            </tr>\n",
       "            <tr>\n",
       "                        <th id=\"T_931a257a_0f03_11ea_a6fb_107b449f15fclevel0_row2\" class=\"row_heading level0 row2\" >обычный_право</th>\n",
       "                        <td id=\"T_931a257a_0f03_11ea_a6fb_107b449f15fcrow2_col0\" class=\"data row2 col0\" >0.01371</td>\n",
       "            </tr>\n",
       "            <tr>\n",
       "                        <th id=\"T_931a257a_0f03_11ea_a6fb_107b449f15fclevel0_row3\" class=\"row_heading level0 row3\" >южный_америка</th>\n",
       "                        <td id=\"T_931a257a_0f03_11ea_a6fb_107b449f15fcrow3_col0\" class=\"data row3 col0\" >0.0133</td>\n",
       "            </tr>\n",
       "            <tr>\n",
       "                        <th id=\"T_931a257a_0f03_11ea_a6fb_107b449f15fclevel0_row4\" class=\"row_heading level0 row4\" >речь_посполить</th>\n",
       "                        <td id=\"T_931a257a_0f03_11ea_a6fb_107b449f15fcrow4_col0\" class=\"data row4 col0\" >0.01304</td>\n",
       "            </tr>\n",
       "            <tr>\n",
       "                        <th id=\"T_931a257a_0f03_11ea_a6fb_107b449f15fclevel0_row5\" class=\"row_heading level0 row5\" >северный_америка</th>\n",
       "                        <td id=\"T_931a257a_0f03_11ea_a6fb_107b449f15fcrow5_col0\" class=\"data row5 col0\" >0.01056</td>\n",
       "            </tr>\n",
       "            <tr>\n",
       "                        <th id=\"T_931a257a_0f03_11ea_a6fb_107b449f15fclevel0_row6\" class=\"row_heading level0 row6\" >общественный_пространство</th>\n",
       "                        <td id=\"T_931a257a_0f03_11ea_a6fb_107b449f15fcrow6_col0\" class=\"data row6 col0\" >0.01016</td>\n",
       "            </tr>\n",
       "            <tr>\n",
       "                        <th id=\"T_931a257a_0f03_11ea_a6fb_107b449f15fclevel0_row7\" class=\"row_heading level0 row7\" >публичный_пространство</th>\n",
       "                        <td id=\"T_931a257a_0f03_11ea_a6fb_107b449f15fcrow7_col0\" class=\"data row7 col0\" >0.0078</td>\n",
       "            </tr>\n",
       "            <tr>\n",
       "                        <th id=\"T_931a257a_0f03_11ea_a6fb_107b449f15fclevel0_row8\" class=\"row_heading level0 row8\" >язык_описание</th>\n",
       "                        <td id=\"T_931a257a_0f03_11ea_a6fb_107b449f15fcrow8_col0\" class=\"data row8 col0\" >0.0072</td>\n",
       "            </tr>\n",
       "            <tr>\n",
       "                        <th id=\"T_931a257a_0f03_11ea_a6fb_107b449f15fclevel0_row9\" class=\"row_heading level0 row9\" >коренной_народ</th>\n",
       "                        <td id=\"T_931a257a_0f03_11ea_a6fb_107b449f15fcrow9_col0\" class=\"data row9 col0\" >0.0072</td>\n",
       "            </tr>\n",
       "    </tbody></table><style  type=\"text/css\" >\n",
       "</style><table id=\"T_931a257b_0f03_11ea_a6fb_107b449f15fc\" style='display:inline'><thead>    <tr>        <th class=\"blank level0\" ></th>        <th class=\"col_heading level0 col0\" >topic_30 @word</th>    </tr></thead><tbody>\n",
       "                <tr>\n",
       "                        <th id=\"T_931a257b_0f03_11ea_a6fb_107b449f15fclevel0_row0\" class=\"row_heading level0 row0\" >строительство</th>\n",
       "                        <td id=\"T_931a257b_0f03_11ea_a6fb_107b449f15fcrow0_col0\" class=\"data row0 col0\" >0.20878</td>\n",
       "            </tr>\n",
       "            <tr>\n",
       "                        <th id=\"T_931a257b_0f03_11ea_a6fb_107b449f15fclevel0_row1\" class=\"row_heading level0 row1\" >крепость</th>\n",
       "                        <td id=\"T_931a257b_0f03_11ea_a6fb_107b449f15fcrow1_col0\" class=\"data row1 col0\" >0.11793</td>\n",
       "            </tr>\n",
       "            <tr>\n",
       "                        <th id=\"T_931a257b_0f03_11ea_a6fb_107b449f15fclevel0_row2\" class=\"row_heading level0 row2\" >конкиста</th>\n",
       "                        <td id=\"T_931a257b_0f03_11ea_a6fb_107b449f15fcrow2_col0\" class=\"data row2 col0\" >0.09881</td>\n",
       "            </tr>\n",
       "            <tr>\n",
       "                        <th id=\"T_931a257b_0f03_11ea_a6fb_107b449f15fclevel0_row3\" class=\"row_heading level0 row3\" >принц</th>\n",
       "                        <td id=\"T_931a257b_0f03_11ea_a6fb_107b449f15fcrow3_col0\" class=\"data row3 col0\" >0.04144</td>\n",
       "            </tr>\n",
       "            <tr>\n",
       "                        <th id=\"T_931a257b_0f03_11ea_a6fb_107b449f15fclevel0_row4\" class=\"row_heading level0 row4\" >барон</th>\n",
       "                        <td id=\"T_931a257b_0f03_11ea_a6fb_107b449f15fcrow4_col0\" class=\"data row4 col0\" >0.03666</td>\n",
       "            </tr>\n",
       "            <tr>\n",
       "                        <th id=\"T_931a257b_0f03_11ea_a6fb_107b449f15fclevel0_row5\" class=\"row_heading level0 row5\" >альянс</th>\n",
       "                        <td id=\"T_931a257b_0f03_11ea_a6fb_107b449f15fcrow5_col0\" class=\"data row5 col0\" >0.03666</td>\n",
       "            </tr>\n",
       "            <tr>\n",
       "                        <th id=\"T_931a257b_0f03_11ea_a6fb_107b449f15fclevel0_row6\" class=\"row_heading level0 row6\" >капитан</th>\n",
       "                        <td id=\"T_931a257b_0f03_11ea_a6fb_107b449f15fcrow6_col0\" class=\"data row6 col0\" >0.03666</td>\n",
       "            </tr>\n",
       "            <tr>\n",
       "                        <th id=\"T_931a257b_0f03_11ea_a6fb_107b449f15fclevel0_row7\" class=\"row_heading level0 row7\" >адмирал</th>\n",
       "                        <td id=\"T_931a257b_0f03_11ea_a6fb_107b449f15fcrow7_col0\" class=\"data row7 col0\" >0.03347</td>\n",
       "            </tr>\n",
       "            <tr>\n",
       "                        <th id=\"T_931a257b_0f03_11ea_a6fb_107b449f15fclevel0_row8\" class=\"row_heading level0 row8\" >публичный</th>\n",
       "                        <td id=\"T_931a257b_0f03_11ea_a6fb_107b449f15fcrow8_col0\" class=\"data row8 col0\" >0.03116</td>\n",
       "            </tr>\n",
       "            <tr>\n",
       "                        <th id=\"T_931a257b_0f03_11ea_a6fb_107b449f15fclevel0_row9\" class=\"row_heading level0 row9\" >надзор</th>\n",
       "                        <td id=\"T_931a257b_0f03_11ea_a6fb_107b449f15fcrow9_col0\" class=\"data row9 col0\" >0.02709</td>\n",
       "            </tr>\n",
       "    </tbody></table>"
      ]
     },
     "metadata": {},
     "output_type": "display_data"
    },
    {
     "data": {
      "text/html": [
       "<b> национальные меньшинства </b>"
      ]
     },
     "metadata": {},
     "output_type": "display_data"
    },
    {
     "data": {
      "text/html": [
       "<b> кавказский адат </b>"
      ]
     },
     "metadata": {},
     "output_type": "display_data"
    },
    {
     "data": {
      "text/html": [
       "<b> коренные народы </b>"
      ]
     },
     "metadata": {},
     "output_type": "display_data"
    },
    {
     "data": {
      "text/html": [
       "<b> русско-американская колониальная система </b>"
      ]
     },
     "metadata": {},
     "output_type": "display_data"
    },
    {
     "data": {
      "text/html": [
       "<b> политический ислам </b>"
      ]
     },
     "metadata": {},
     "output_type": "display_data"
    },
    {
     "data": {
      "text/html": [
       "<b> теории родового быта </b>"
      ]
     },
     "metadata": {},
     "output_type": "display_data"
    },
    {
     "data": {
      "text/html": [
       "<b> абреки </b>"
      ]
     },
     "metadata": {},
     "output_type": "display_data"
    },
    {
     "data": {
      "text/html": [
       "<style  type=\"text/css\" >\n",
       "</style><table id=\"T_931a257c_0f03_11ea_a6fb_107b449f15fc\" style='display:inline'><thead>    <tr>        <th class=\"blank level0\" ></th>        <th class=\"col_heading level0 col0\" >topic_31 @2gramm</th>    </tr></thead><tbody>\n",
       "                <tr>\n",
       "                        <th id=\"T_931a257c_0f03_11ea_a6fb_107b449f15fclevel0_row0\" class=\"row_heading level0 row0\" >городской_пространство</th>\n",
       "                        <td id=\"T_931a257c_0f03_11ea_a6fb_107b449f15fcrow0_col0\" class=\"data row0 col0\" >0.01739</td>\n",
       "            </tr>\n",
       "            <tr>\n",
       "                        <th id=\"T_931a257c_0f03_11ea_a6fb_107b449f15fclevel0_row1\" class=\"row_heading level0 row1\" >средний_класс</th>\n",
       "                        <td id=\"T_931a257c_0f03_11ea_a6fb_107b449f15fcrow1_col0\" class=\"data row1 col0\" >0.01532</td>\n",
       "            </tr>\n",
       "            <tr>\n",
       "                        <th id=\"T_931a257c_0f03_11ea_a6fb_107b449f15fclevel0_row2\" class=\"row_heading level0 row2\" >среднее_класс</th>\n",
       "                        <td id=\"T_931a257c_0f03_11ea_a6fb_107b449f15fcrow2_col0\" class=\"data row2 col0\" >0.01196</td>\n",
       "            </tr>\n",
       "            <tr>\n",
       "                        <th id=\"T_931a257c_0f03_11ea_a6fb_107b449f15fclevel0_row3\" class=\"row_heading level0 row3\" >социальный_топология</th>\n",
       "                        <td id=\"T_931a257c_0f03_11ea_a6fb_107b449f15fcrow3_col0\" class=\"data row3 col0\" >0.00811</td>\n",
       "            </tr>\n",
       "            <tr>\n",
       "                        <th id=\"T_931a257c_0f03_11ea_a6fb_107b449f15fclevel0_row4\" class=\"row_heading level0 row4\" >творческий_способность</th>\n",
       "                        <td id=\"T_931a257c_0f03_11ea_a6fb_107b449f15fcrow4_col0\" class=\"data row4 col0\" >0.00674</td>\n",
       "            </tr>\n",
       "            <tr>\n",
       "                        <th id=\"T_931a257c_0f03_11ea_a6fb_107b449f15fclevel0_row5\" class=\"row_heading level0 row5\" >практический_занятие</th>\n",
       "                        <td id=\"T_931a257c_0f03_11ea_a6fb_107b449f15fcrow5_col0\" class=\"data row5 col0\" >0.00633</td>\n",
       "            </tr>\n",
       "            <tr>\n",
       "                        <th id=\"T_931a257c_0f03_11ea_a6fb_107b449f15fclevel0_row6\" class=\"row_heading level0 row6\" >психология_мышление</th>\n",
       "                        <td id=\"T_931a257c_0f03_11ea_a6fb_107b449f15fcrow6_col0\" class=\"data row6 col0\" >0.00624</td>\n",
       "            </tr>\n",
       "            <tr>\n",
       "                        <th id=\"T_931a257c_0f03_11ea_a6fb_107b449f15fclevel0_row7\" class=\"row_heading level0 row7\" >газовый_оболочка</th>\n",
       "                        <td id=\"T_931a257c_0f03_11ea_a6fb_107b449f15fcrow7_col0\" class=\"data row7 col0\" >0.00566</td>\n",
       "            </tr>\n",
       "            <tr>\n",
       "                        <th id=\"T_931a257c_0f03_11ea_a6fb_107b449f15fclevel0_row8\" class=\"row_heading level0 row8\" >сильный_землетрясение</th>\n",
       "                        <td id=\"T_931a257c_0f03_11ea_a6fb_107b449f15fcrow8_col0\" class=\"data row8 col0\" >0.00549</td>\n",
       "            </tr>\n",
       "            <tr>\n",
       "                        <th id=\"T_931a257c_0f03_11ea_a6fb_107b449f15fclevel0_row9\" class=\"row_heading level0 row9\" >процесс_решение</th>\n",
       "                        <td id=\"T_931a257c_0f03_11ea_a6fb_107b449f15fcrow9_col0\" class=\"data row9 col0\" >0.00549</td>\n",
       "            </tr>\n",
       "    </tbody></table><style  type=\"text/css\" >\n",
       "</style><table id=\"T_931a257d_0f03_11ea_a6fb_107b449f15fc\" style='display:inline'><thead>    <tr>        <th class=\"blank level0\" ></th>        <th class=\"col_heading level0 col0\" >topic_31 @word</th>    </tr></thead><tbody>\n",
       "                <tr>\n",
       "                        <th id=\"T_931a257d_0f03_11ea_a6fb_107b449f15fclevel0_row0\" class=\"row_heading level0 row0\" >божество</th>\n",
       "                        <td id=\"T_931a257d_0f03_11ea_a6fb_107b449f15fcrow0_col0\" class=\"data row0 col0\" >0.22262</td>\n",
       "            </tr>\n",
       "            <tr>\n",
       "                        <th id=\"T_931a257d_0f03_11ea_a6fb_107b449f15fclevel0_row1\" class=\"row_heading level0 row1\" >сетевой</th>\n",
       "                        <td id=\"T_931a257d_0f03_11ea_a6fb_107b449f15fcrow1_col0\" class=\"data row1 col0\" >0.18381</td>\n",
       "            </tr>\n",
       "            <tr>\n",
       "                        <th id=\"T_931a257d_0f03_11ea_a6fb_107b449f15fclevel0_row2\" class=\"row_heading level0 row2\" >собака</th>\n",
       "                        <td id=\"T_931a257d_0f03_11ea_a6fb_107b449f15fcrow2_col0\" class=\"data row2 col0\" >0.16952</td>\n",
       "            </tr>\n",
       "            <tr>\n",
       "                        <th id=\"T_931a257d_0f03_11ea_a6fb_107b449f15fclevel0_row3\" class=\"row_heading level0 row3\" >занятие</th>\n",
       "                        <td id=\"T_931a257d_0f03_11ea_a6fb_107b449f15fcrow3_col0\" class=\"data row3 col0\" >0.10978</td>\n",
       "            </tr>\n",
       "            <tr>\n",
       "                        <th id=\"T_931a257d_0f03_11ea_a6fb_107b449f15fclevel0_row4\" class=\"row_heading level0 row4\" >wi</th>\n",
       "                        <td id=\"T_931a257d_0f03_11ea_a6fb_107b449f15fcrow4_col0\" class=\"data row4 col0\" >0.05923</td>\n",
       "            </tr>\n",
       "            <tr>\n",
       "                        <th id=\"T_931a257d_0f03_11ea_a6fb_107b449f15fclevel0_row5\" class=\"row_heading level0 row5\" >postnauka</th>\n",
       "                        <td id=\"T_931a257d_0f03_11ea_a6fb_107b449f15fcrow5_col0\" class=\"data row5 col0\" >0.04697</td>\n",
       "            </tr>\n",
       "            <tr>\n",
       "                        <th id=\"T_931a257d_0f03_11ea_a6fb_107b449f15fclevel0_row6\" class=\"row_heading level0 row6\" >academy</th>\n",
       "                        <td id=\"T_931a257d_0f03_11ea_a6fb_107b449f15fcrow6_col0\" class=\"data row6 col0\" >0.04085</td>\n",
       "            </tr>\n",
       "            <tr>\n",
       "                        <th id=\"T_931a257d_0f03_11ea_a6fb_107b449f15fclevel0_row7\" class=\"row_heading level0 row7\" >ло</th>\n",
       "                        <td id=\"T_931a257d_0f03_11ea_a6fb_107b449f15fcrow7_col0\" class=\"data row7 col0\" >0.04085</td>\n",
       "            </tr>\n",
       "            <tr>\n",
       "                        <th id=\"T_931a257d_0f03_11ea_a6fb_107b449f15fclevel0_row8\" class=\"row_heading level0 row8\" >непрерывность</th>\n",
       "                        <td id=\"T_931a257d_0f03_11ea_a6fb_107b449f15fcrow8_col0\" class=\"data row8 col0\" >0.03072</td>\n",
       "            </tr>\n",
       "            <tr>\n",
       "                        <th id=\"T_931a257d_0f03_11ea_a6fb_107b449f15fclevel0_row9\" class=\"row_heading level0 row9\" >принтер</th>\n",
       "                        <td id=\"T_931a257d_0f03_11ea_a6fb_107b449f15fcrow9_col0\" class=\"data row9 col0\" >0.03064</td>\n",
       "            </tr>\n",
       "    </tbody></table>"
      ]
     },
     "metadata": {},
     "output_type": "display_data"
    },
    {
     "data": {
      "text/html": [
       "<b> средний класс </b>"
      ]
     },
     "metadata": {},
     "output_type": "display_data"
    },
    {
     "data": {
      "text/html": [
       "<b> метод оценки эндотелиальной функции </b>"
      ]
     },
     "metadata": {},
     "output_type": "display_data"
    },
    {
     "data": {
      "text/html": [
       "<b> социальная структура </b>"
      ]
     },
     "metadata": {},
     "output_type": "display_data"
    },
    {
     "data": {
      "text/html": [
       "<b> эндотелиальная клетка </b>"
      ]
     },
     "metadata": {},
     "output_type": "display_data"
    },
    {
     "data": {
      "text/html": [
       "<b> курс «теория принятия решенийматематические модели выбора» </b>"
      ]
     },
     "metadata": {},
     "output_type": "display_data"
    },
    {
     "data": {
      "text/html": [
       "<b> социальная топология </b>"
      ]
     },
     "metadata": {},
     "output_type": "display_data"
    },
    {
     "data": {
      "text/html": [
       "<b> субботний интенсив «общая и специальная теория относительности» </b>"
      ]
     },
     "metadata": {},
     "output_type": "display_data"
    },
    {
     "data": {
      "text/html": [
       "<b> курс «психология творчествакак рождаются креативные решения» </b>"
      ]
     },
     "metadata": {},
     "output_type": "display_data"
    },
    {
     "data": {
      "text/html": [
       "<b> атмосферы экзопланет </b>"
      ]
     },
     "metadata": {},
     "output_type": "display_data"
    },
    {
     "data": {
      "text/html": [
       "<b> курс «основы молекулярной биологии» </b>"
      ]
     },
     "metadata": {},
     "output_type": "display_data"
    },
    {
     "data": {
      "text/html": [
       "<style  type=\"text/css\" >\n",
       "</style><table id=\"T_931a257e_0f03_11ea_a6fb_107b449f15fc\" style='display:inline'><thead>    <tr>        <th class=\"blank level0\" ></th>        <th class=\"col_heading level0 col0\" >topic_32 @2gramm</th>    </tr></thead><tbody>\n",
       "                <tr>\n",
       "                        <th id=\"T_931a257e_0f03_11ea_a6fb_107b449f15fclevel0_row0\" class=\"row_heading level0 row0\" >нейтронный_звезда</th>\n",
       "                        <td id=\"T_931a257e_0f03_11ea_a6fb_107b449f15fcrow0_col0\" class=\"data row0 col0\" >0.09699</td>\n",
       "            </tr>\n",
       "            <tr>\n",
       "                        <th id=\"T_931a257e_0f03_11ea_a6fb_107b449f15fclevel0_row1\" class=\"row_heading level0 row1\" >белый_карлик</th>\n",
       "                        <td id=\"T_931a257e_0f03_11ea_a6fb_107b449f15fcrow1_col0\" class=\"data row1 col0\" >0.02191</td>\n",
       "            </tr>\n",
       "            <tr>\n",
       "                        <th id=\"T_931a257e_0f03_11ea_a6fb_107b449f15fclevel0_row2\" class=\"row_heading level0 row2\" >белых_карлик</th>\n",
       "                        <td id=\"T_931a257e_0f03_11ea_a6fb_107b449f15fcrow2_col0\" class=\"data row2 col0\" >0.02171</td>\n",
       "            </tr>\n",
       "            <tr>\n",
       "                        <th id=\"T_931a257e_0f03_11ea_a6fb_107b449f15fclevel0_row3\" class=\"row_heading level0 row3\" >компактный_объект</th>\n",
       "                        <td id=\"T_931a257e_0f03_11ea_a6fb_107b449f15fcrow3_col0\" class=\"data row3 col0\" >0.01628</td>\n",
       "            </tr>\n",
       "            <tr>\n",
       "                        <th id=\"T_931a257e_0f03_11ea_a6fb_107b449f15fclevel0_row4\" class=\"row_heading level0 row4\" >белые_карлик</th>\n",
       "                        <td id=\"T_931a257e_0f03_11ea_a6fb_107b449f15fcrow4_col0\" class=\"data row4 col0\" >0.01298</td>\n",
       "            </tr>\n",
       "            <tr>\n",
       "                        <th id=\"T_931a257e_0f03_11ea_a6fb_107b449f15fclevel0_row5\" class=\"row_heading level0 row5\" >магнитный_поль</th>\n",
       "                        <td id=\"T_931a257e_0f03_11ea_a6fb_107b449f15fcrow5_col0\" class=\"data row5 col0\" >0.01254</td>\n",
       "            </tr>\n",
       "            <tr>\n",
       "                        <th id=\"T_931a257e_0f03_11ea_a6fb_107b449f15fclevel0_row6\" class=\"row_heading level0 row6\" >чёрный_дыра</th>\n",
       "                        <td id=\"T_931a257e_0f03_11ea_a6fb_107b449f15fcrow6_col0\" class=\"data row6 col0\" >0.01199</td>\n",
       "            </tr>\n",
       "            <tr>\n",
       "                        <th id=\"T_931a257e_0f03_11ea_a6fb_107b449f15fclevel0_row7\" class=\"row_heading level0 row7\" >термоядерный_реакция</th>\n",
       "                        <td id=\"T_931a257e_0f03_11ea_a6fb_107b449f15fcrow7_col0\" class=\"data row7 col0\" >0.01052</td>\n",
       "            </tr>\n",
       "            <tr>\n",
       "                        <th id=\"T_931a257e_0f03_11ea_a6fb_107b449f15fclevel0_row8\" class=\"row_heading level0 row8\" >кварковый_звезда</th>\n",
       "                        <td id=\"T_931a257e_0f03_11ea_a6fb_107b449f15fcrow8_col0\" class=\"data row8 col0\" >0.00704</td>\n",
       "            </tr>\n",
       "            <tr>\n",
       "                        <th id=\"T_931a257e_0f03_11ea_a6fb_107b449f15fclevel0_row9\" class=\"row_heading level0 row9\" >сверхновый_звезда</th>\n",
       "                        <td id=\"T_931a257e_0f03_11ea_a6fb_107b449f15fcrow9_col0\" class=\"data row9 col0\" >0.00642</td>\n",
       "            </tr>\n",
       "    </tbody></table><style  type=\"text/css\" >\n",
       "</style><table id=\"T_931a257f_0f03_11ea_a6fb_107b449f15fc\" style='display:inline'><thead>    <tr>        <th class=\"blank level0\" ></th>        <th class=\"col_heading level0 col0\" >topic_32 @word</th>    </tr></thead><tbody>\n",
       "                <tr>\n",
       "                        <th id=\"T_931a257f_0f03_11ea_a6fb_107b449f15fclevel0_row0\" class=\"row_heading level0 row0\" >излучение</th>\n",
       "                        <td id=\"T_931a257f_0f03_11ea_a6fb_107b449f15fcrow0_col0\" class=\"data row0 col0\" >0.2388</td>\n",
       "            </tr>\n",
       "            <tr>\n",
       "                        <th id=\"T_931a257f_0f03_11ea_a6fb_107b449f15fclevel0_row1\" class=\"row_heading level0 row1\" >плотность</th>\n",
       "                        <td id=\"T_931a257f_0f03_11ea_a6fb_107b449f15fcrow1_col0\" class=\"data row1 col0\" >0.1595</td>\n",
       "            </tr>\n",
       "            <tr>\n",
       "                        <th id=\"T_931a257f_0f03_11ea_a6fb_107b449f15fclevel0_row2\" class=\"row_heading level0 row2\" >старение</th>\n",
       "                        <td id=\"T_931a257f_0f03_11ea_a6fb_107b449f15fcrow2_col0\" class=\"data row2 col0\" >0.14328</td>\n",
       "            </tr>\n",
       "            <tr>\n",
       "                        <th id=\"T_931a257f_0f03_11ea_a6fb_107b449f15fclevel0_row3\" class=\"row_heading level0 row3\" >фермент</th>\n",
       "                        <td id=\"T_931a257f_0f03_11ea_a6fb_107b449f15fcrow3_col0\" class=\"data row3 col0\" >0.13066</td>\n",
       "            </tr>\n",
       "            <tr>\n",
       "                        <th id=\"T_931a257f_0f03_11ea_a6fb_107b449f15fclevel0_row4\" class=\"row_heading level0 row4\" >секунда</th>\n",
       "                        <td id=\"T_931a257f_0f03_11ea_a6fb_107b449f15fcrow4_col0\" class=\"data row4 col0\" >0.05744</td>\n",
       "            </tr>\n",
       "            <tr>\n",
       "                        <th id=\"T_931a257f_0f03_11ea_a6fb_107b449f15fclevel0_row5\" class=\"row_heading level0 row5\" >холодный</th>\n",
       "                        <td id=\"T_931a257f_0f03_11ea_a6fb_107b449f15fcrow5_col0\" class=\"data row5 col0\" >0.04137</td>\n",
       "            </tr>\n",
       "            <tr>\n",
       "                        <th id=\"T_931a257f_0f03_11ea_a6fb_107b449f15fclevel0_row6\" class=\"row_heading level0 row6\" >натяжение</th>\n",
       "                        <td id=\"T_931a257f_0f03_11ea_a6fb_107b449f15fcrow6_col0\" class=\"data row6 col0\" >0.01982</td>\n",
       "            </tr>\n",
       "            <tr>\n",
       "                        <th id=\"T_931a257f_0f03_11ea_a6fb_107b449f15fclevel0_row7\" class=\"row_heading level0 row7\" >конус</th>\n",
       "                        <td id=\"T_931a257f_0f03_11ea_a6fb_107b449f15fcrow7_col0\" class=\"data row7 col0\" >0.01918</td>\n",
       "            </tr>\n",
       "            <tr>\n",
       "                        <th id=\"T_931a257f_0f03_11ea_a6fb_107b449f15fclevel0_row8\" class=\"row_heading level0 row8\" >cdm</th>\n",
       "                        <td id=\"T_931a257f_0f03_11ea_a6fb_107b449f15fcrow8_col0\" class=\"data row8 col0\" >0.01712</td>\n",
       "            </tr>\n",
       "            <tr>\n",
       "                        <th id=\"T_931a257f_0f03_11ea_a6fb_107b449f15fclevel0_row9\" class=\"row_heading level0 row9\" >пульсация</th>\n",
       "                        <td id=\"T_931a257f_0f03_11ea_a6fb_107b449f15fcrow9_col0\" class=\"data row9 col0\" >0.01532</td>\n",
       "            </tr>\n",
       "    </tbody></table>"
      ]
     },
     "metadata": {},
     "output_type": "display_data"
    },
    {
     "data": {
      "text/html": [
       "<b> пограничные слои вблизи компактных объектов </b>"
      ]
     },
     "metadata": {},
     "output_type": "display_data"
    },
    {
     "data": {
      "text/html": [
       "<b> рентгеновское небо </b>"
      ]
     },
     "metadata": {},
     "output_type": "display_data"
    },
    {
     "data": {
      "text/html": [
       "<b> недра нейтронных звезд </b>"
      ]
     },
     "metadata": {},
     "output_type": "display_data"
    },
    {
     "data": {
      "text/html": [
       "<b> рентгеновская астрономия </b>"
      ]
     },
     "metadata": {},
     "output_type": "display_data"
    },
    {
     "data": {
      "text/html": [
       "<b> нейтронные звезды и черные дыры </b>"
      ]
     },
     "metadata": {},
     "output_type": "display_data"
    },
    {
     "data": {
      "text/html": [
       "<b> великое объединение нейтронных звезд </b>"
      ]
     },
     "metadata": {},
     "output_type": "display_data"
    },
    {
     "data": {
      "text/html": [
       "<b> обнаружена самая яркая нейтронная звезда </b>"
      ]
     },
     "metadata": {},
     "output_type": "display_data"
    },
    {
     "data": {
      "text/html": [
       "<b> ударные волны вблизи компактных объектов </b>"
      ]
     },
     "metadata": {},
     "output_type": "display_data"
    },
    {
     "data": {
      "text/html": [
       "<b> компактные объекты и фундаментальная физика </b>"
      ]
     },
     "metadata": {},
     "output_type": "display_data"
    },
    {
     "data": {
      "text/html": [
       "<b> ультрамощные рентгеновские источники </b>"
      ]
     },
     "metadata": {},
     "output_type": "display_data"
    },
    {
     "data": {
      "text/html": [
       "<style  type=\"text/css\" >\n",
       "</style><table id=\"T_931a2580_0f03_11ea_a6fb_107b449f15fc\" style='display:inline'><thead>    <tr>        <th class=\"blank level0\" ></th>        <th class=\"col_heading level0 col0\" >topic_33 @2gramm</th>    </tr></thead><tbody>\n",
       "                <tr>\n",
       "                        <th id=\"T_931a2580_0f03_11ea_a6fb_107b449f15fclevel0_row0\" class=\"row_heading level0 row0\" >средний_век</th>\n",
       "                        <td id=\"T_931a2580_0f03_11ea_a6fb_107b449f15fcrow0_col0\" class=\"data row0 col0\" >0.0251</td>\n",
       "            </tr>\n",
       "            <tr>\n",
       "                        <th id=\"T_931a2580_0f03_11ea_a6fb_107b449f15fclevel0_row1\" class=\"row_heading level0 row1\" >xiii_век</th>\n",
       "                        <td id=\"T_931a2580_0f03_11ea_a6fb_107b449f15fcrow1_col0\" class=\"data row1 col0\" >0.01775</td>\n",
       "            </tr>\n",
       "            <tr>\n",
       "                        <th id=\"T_931a2580_0f03_11ea_a6fb_107b449f15fclevel0_row2\" class=\"row_heading level0 row2\" >xii_век</th>\n",
       "                        <td id=\"T_931a2580_0f03_11ea_a6fb_107b449f15fcrow2_col0\" class=\"data row2 col0\" >0.0154</td>\n",
       "            </tr>\n",
       "            <tr>\n",
       "                        <th id=\"T_931a2580_0f03_11ea_a6fb_107b449f15fclevel0_row3\" class=\"row_heading level0 row3\" >фома_аквинский</th>\n",
       "                        <td id=\"T_931a2580_0f03_11ea_a6fb_107b449f15fcrow3_col0\" class=\"data row3 col0\" >0.01042</td>\n",
       "            </tr>\n",
       "            <tr>\n",
       "                        <th id=\"T_931a2580_0f03_11ea_a6fb_107b449f15fclevel0_row4\" class=\"row_heading level0 row4\" >священный_писание</th>\n",
       "                        <td id=\"T_931a2580_0f03_11ea_a6fb_107b449f15fcrow4_col0\" class=\"data row4 col0\" >0.00997</td>\n",
       "            </tr>\n",
       "            <tr>\n",
       "                        <th id=\"T_931a2580_0f03_11ea_a6fb_107b449f15fclevel0_row5\" class=\"row_heading level0 row5\" >xv_век</th>\n",
       "                        <td id=\"T_931a2580_0f03_11ea_a6fb_107b449f15fcrow5_col0\" class=\"data row5 col0\" >0.00895</td>\n",
       "            </tr>\n",
       "            <tr>\n",
       "                        <th id=\"T_931a2580_0f03_11ea_a6fb_107b449f15fclevel0_row6\" class=\"row_heading level0 row6\" >молекулярный_машина</th>\n",
       "                        <td id=\"T_931a2580_0f03_11ea_a6fb_107b449f15fcrow6_col0\" class=\"data row6 col0\" >0.00892</td>\n",
       "            </tr>\n",
       "            <tr>\n",
       "                        <th id=\"T_931a2580_0f03_11ea_a6fb_107b449f15fclevel0_row7\" class=\"row_heading level0 row7\" >политический_мысль</th>\n",
       "                        <td id=\"T_931a2580_0f03_11ea_a6fb_107b449f15fcrow7_col0\" class=\"data row7 col0\" >0.00873</td>\n",
       "            </tr>\n",
       "            <tr>\n",
       "                        <th id=\"T_931a2580_0f03_11ea_a6fb_107b449f15fclevel0_row8\" class=\"row_heading level0 row8\" >политический_философия</th>\n",
       "                        <td id=\"T_931a2580_0f03_11ea_a6fb_107b449f15fcrow8_col0\" class=\"data row8 col0\" >0.00871</td>\n",
       "            </tr>\n",
       "            <tr>\n",
       "                        <th id=\"T_931a2580_0f03_11ea_a6fb_107b449f15fclevel0_row9\" class=\"row_heading level0 row9\" >ix_век</th>\n",
       "                        <td id=\"T_931a2580_0f03_11ea_a6fb_107b449f15fcrow9_col0\" class=\"data row9 col0\" >0.00814</td>\n",
       "            </tr>\n",
       "    </tbody></table><style  type=\"text/css\" >\n",
       "</style><table id=\"T_931a2581_0f03_11ea_a6fb_107b449f15fc\" style='display:inline'><thead>    <tr>        <th class=\"blank level0\" ></th>        <th class=\"col_heading level0 col0\" >topic_33 @word</th>    </tr></thead><tbody>\n",
       "                <tr>\n",
       "                        <th id=\"T_931a2581_0f03_11ea_a6fb_107b449f15fclevel0_row0\" class=\"row_heading level0 row0\" >государь</th>\n",
       "                        <td id=\"T_931a2581_0f03_11ea_a6fb_107b449f15fcrow0_col0\" class=\"data row0 col0\" >0.10212</td>\n",
       "            </tr>\n",
       "            <tr>\n",
       "                        <th id=\"T_931a2581_0f03_11ea_a6fb_107b449f15fclevel0_row1\" class=\"row_heading level0 row1\" >неандерталец</th>\n",
       "                        <td id=\"T_931a2581_0f03_11ea_a6fb_107b449f15fcrow1_col0\" class=\"data row1 col0\" >0.10025</td>\n",
       "            </tr>\n",
       "            <tr>\n",
       "                        <th id=\"T_931a2581_0f03_11ea_a6fb_107b449f15fclevel0_row2\" class=\"row_heading level0 row2\" >эра</th>\n",
       "                        <td id=\"T_931a2581_0f03_11ea_a6fb_107b449f15fcrow2_col0\" class=\"data row2 col0\" >0.07585</td>\n",
       "            </tr>\n",
       "            <tr>\n",
       "                        <th id=\"T_931a2581_0f03_11ea_a6fb_107b449f15fclevel0_row3\" class=\"row_heading level0 row3\" >заимствование</th>\n",
       "                        <td id=\"T_931a2581_0f03_11ea_a6fb_107b449f15fcrow3_col0\" class=\"data row3 col0\" >0.07348</td>\n",
       "            </tr>\n",
       "            <tr>\n",
       "                        <th id=\"T_931a2581_0f03_11ea_a6fb_107b449f15fclevel0_row4\" class=\"row_heading level0 row4\" >гражданство</th>\n",
       "                        <td id=\"T_931a2581_0f03_11ea_a6fb_107b449f15fcrow4_col0\" class=\"data row4 col0\" >0.06663</td>\n",
       "            </tr>\n",
       "            <tr>\n",
       "                        <th id=\"T_931a2581_0f03_11ea_a6fb_107b449f15fclevel0_row5\" class=\"row_heading level0 row5\" >славянский</th>\n",
       "                        <td id=\"T_931a2581_0f03_11ea_a6fb_107b449f15fcrow5_col0\" class=\"data row5 col0\" >0.06289</td>\n",
       "            </tr>\n",
       "            <tr>\n",
       "                        <th id=\"T_931a2581_0f03_11ea_a6fb_107b449f15fclevel0_row6\" class=\"row_heading level0 row6\" >археолог</th>\n",
       "                        <td id=\"T_931a2581_0f03_11ea_a6fb_107b449f15fcrow6_col0\" class=\"data row6 col0\" >0.05729</td>\n",
       "            </tr>\n",
       "            <tr>\n",
       "                        <th id=\"T_931a2581_0f03_11ea_a6fb_107b449f15fclevel0_row7\" class=\"row_heading level0 row7\" >одежда</th>\n",
       "                        <td id=\"T_931a2581_0f03_11ea_a6fb_107b449f15fcrow7_col0\" class=\"data row7 col0\" >0.05043</td>\n",
       "            </tr>\n",
       "            <tr>\n",
       "                        <th id=\"T_931a2581_0f03_11ea_a6fb_107b449f15fclevel0_row8\" class=\"row_heading level0 row8\" >античность</th>\n",
       "                        <td id=\"T_931a2581_0f03_11ea_a6fb_107b449f15fcrow8_col0\" class=\"data row8 col0\" >0.03646</td>\n",
       "            </tr>\n",
       "            <tr>\n",
       "                        <th id=\"T_931a2581_0f03_11ea_a6fb_107b449f15fclevel0_row9\" class=\"row_heading level0 row9\" >корень</th>\n",
       "                        <td id=\"T_931a2581_0f03_11ea_a6fb_107b449f15fcrow9_col0\" class=\"data row9 col0\" >0.0239</td>\n",
       "            </tr>\n",
       "    </tbody></table>"
      ]
     },
     "metadata": {},
     "output_type": "display_data"
    },
    {
     "data": {
      "text/html": [
       "<b> позитивная философия науки </b>"
      ]
     },
     "metadata": {},
     "output_type": "display_data"
    },
    {
     "data": {
      "text/html": [
       "<b> памятники классического периода истории древнего китая </b>"
      ]
     },
     "metadata": {},
     "output_type": "display_data"
    },
    {
     "data": {
      "text/html": [
       "<b> современная аналитическая философия </b>"
      ]
     },
     "metadata": {},
     "output_type": "display_data"
    },
    {
     "data": {
      "text/html": [
       "<b> политическая теория эмоций </b>"
      ]
     },
     "metadata": {},
     "output_type": "display_data"
    },
    {
     "data": {
      "text/html": [
       "<b> политическая мысль схоластики xii века </b>"
      ]
     },
     "metadata": {},
     "output_type": "display_data"
    },
    {
     "data": {
      "text/html": [
       "<b> понятия власти в средневековой политической теории </b>"
      ]
     },
     "metadata": {},
     "output_type": "display_data"
    },
    {
     "data": {
      "text/html": [
       "<b> молекулярные машины </b>"
      ]
     },
     "metadata": {},
     "output_type": "display_data"
    },
    {
     "data": {
      "text/html": [
       "<b> средневековые ведовские процессы </b>"
      ]
     },
     "metadata": {},
     "output_type": "display_data"
    },
    {
     "data": {
      "text/html": [
       "<b> история политической мысли древнего мира и средних веков </b>"
      ]
     },
     "metadata": {},
     "output_type": "display_data"
    },
    {
     "data": {
      "text/html": [
       "<b> новейшая история египта </b>"
      ]
     },
     "metadata": {},
     "output_type": "display_data"
    },
    {
     "data": {
      "text/html": [
       "<style  type=\"text/css\" >\n",
       "</style><table id=\"T_931a2582_0f03_11ea_a6fb_107b449f15fc\" style='display:inline'><thead>    <tr>        <th class=\"blank level0\" ></th>        <th class=\"col_heading level0 col0\" >topic_34 @2gramm</th>    </tr></thead><tbody>\n",
       "                <tr>\n",
       "                        <th id=\"T_931a2582_0f03_11ea_a6fb_107b449f15fclevel0_row0\" class=\"row_heading level0 row0\" >магнитный_поль</th>\n",
       "                        <td id=\"T_931a2582_0f03_11ea_a6fb_107b449f15fcrow0_col0\" class=\"data row0 col0\" >0.01928</td>\n",
       "            </tr>\n",
       "            <tr>\n",
       "                        <th id=\"T_931a2582_0f03_11ea_a6fb_107b449f15fclevel0_row1\" class=\"row_heading level0 row1\" >органический_химия</th>\n",
       "                        <td id=\"T_931a2582_0f03_11ea_a6fb_107b449f15fcrow1_col0\" class=\"data row1 col0\" >0.01867</td>\n",
       "            </tr>\n",
       "            <tr>\n",
       "                        <th id=\"T_931a2582_0f03_11ea_a6fb_107b449f15fclevel0_row2\" class=\"row_heading level0 row2\" >магнитный_пол</th>\n",
       "                        <td id=\"T_931a2582_0f03_11ea_a6fb_107b449f15fcrow2_col0\" class=\"data row2 col0\" >0.01822</td>\n",
       "            </tr>\n",
       "            <tr>\n",
       "                        <th id=\"T_931a2582_0f03_11ea_a6fb_107b449f15fclevel0_row3\" class=\"row_heading level0 row3\" >новый_программа</th>\n",
       "                        <td id=\"T_931a2582_0f03_11ea_a6fb_107b449f15fcrow3_col0\" class=\"data row3 col0\" >0.01707</td>\n",
       "            </tr>\n",
       "            <tr>\n",
       "                        <th id=\"T_931a2582_0f03_11ea_a6fb_107b449f15fclevel0_row4\" class=\"row_heading level0 row4\" >магнитный_момент</th>\n",
       "                        <td id=\"T_931a2582_0f03_11ea_a6fb_107b449f15fcrow4_col0\" class=\"data row4 col0\" >0.00953</td>\n",
       "            </tr>\n",
       "            <tr>\n",
       "                        <th id=\"T_931a2582_0f03_11ea_a6fb_107b449f15fclevel0_row5\" class=\"row_heading level0 row5\" >метод_ямр</th>\n",
       "                        <td id=\"T_931a2582_0f03_11ea_a6fb_107b449f15fcrow5_col0\" class=\"data row5 col0\" >0.00907</td>\n",
       "            </tr>\n",
       "            <tr>\n",
       "                        <th id=\"T_931a2582_0f03_11ea_a6fb_107b449f15fclevel0_row6\" class=\"row_heading level0 row6\" >следовать_ждать</th>\n",
       "                        <td id=\"T_931a2582_0f03_11ea_a6fb_107b449f15fcrow6_col0\" class=\"data row6 col0\" >0.00871</td>\n",
       "            </tr>\n",
       "            <tr>\n",
       "                        <th id=\"T_931a2582_0f03_11ea_a6fb_107b449f15fclevel0_row7\" class=\"row_heading level0 row7\" >органический_соединение</th>\n",
       "                        <td id=\"T_931a2582_0f03_11ea_a6fb_107b449f15fcrow7_col0\" class=\"data row7 col0\" >0.00805</td>\n",
       "            </tr>\n",
       "            <tr>\n",
       "                        <th id=\"T_931a2582_0f03_11ea_a6fb_107b449f15fclevel0_row8\" class=\"row_heading level0 row8\" >магнитный_буря</th>\n",
       "                        <td id=\"T_931a2582_0f03_11ea_a6fb_107b449f15fcrow8_col0\" class=\"data row8 col0\" >0.00736</td>\n",
       "            </tr>\n",
       "            <tr>\n",
       "                        <th id=\"T_931a2582_0f03_11ea_a6fb_107b449f15fclevel0_row9\" class=\"row_heading level0 row9\" >научный_сообщество</th>\n",
       "                        <td id=\"T_931a2582_0f03_11ea_a6fb_107b449f15fcrow9_col0\" class=\"data row9 col0\" >0.00708</td>\n",
       "            </tr>\n",
       "    </tbody></table><style  type=\"text/css\" >\n",
       "</style><table id=\"T_931a2583_0f03_11ea_a6fb_107b449f15fc\" style='display:inline'><thead>    <tr>        <th class=\"blank level0\" ></th>        <th class=\"col_heading level0 col0\" >topic_34 @word</th>    </tr></thead><tbody>\n",
       "                <tr>\n",
       "                        <th id=\"T_931a2583_0f03_11ea_a6fb_107b449f15fclevel0_row0\" class=\"row_heading level0 row0\" >боль</th>\n",
       "                        <td id=\"T_931a2583_0f03_11ea_a6fb_107b449f15fcrow0_col0\" class=\"data row0 col0\" >0.31773</td>\n",
       "            </tr>\n",
       "            <tr>\n",
       "                        <th id=\"T_931a2583_0f03_11ea_a6fb_107b449f15fclevel0_row1\" class=\"row_heading level0 row1\" >японец</th>\n",
       "                        <td id=\"T_931a2583_0f03_11ea_a6fb_107b449f15fcrow1_col0\" class=\"data row1 col0\" >0.26689</td>\n",
       "            </tr>\n",
       "            <tr>\n",
       "                        <th id=\"T_931a2583_0f03_11ea_a6fb_107b449f15fclevel0_row2\" class=\"row_heading level0 row2\" >профессия</th>\n",
       "                        <td id=\"T_931a2583_0f03_11ea_a6fb_107b449f15fcrow2_col0\" class=\"data row2 col0\" >0.19276</td>\n",
       "            </tr>\n",
       "            <tr>\n",
       "                        <th id=\"T_931a2583_0f03_11ea_a6fb_107b449f15fclevel0_row3\" class=\"row_heading level0 row3\" >обезболивать</th>\n",
       "                        <td id=\"T_931a2583_0f03_11ea_a6fb_107b449f15fcrow3_col0\" class=\"data row3 col0\" >0.04448</td>\n",
       "            </tr>\n",
       "            <tr>\n",
       "                        <th id=\"T_931a2583_0f03_11ea_a6fb_107b449f15fclevel0_row4\" class=\"row_heading level0 row4\" >болевой</th>\n",
       "                        <td id=\"T_931a2583_0f03_11ea_a6fb_107b449f15fcrow4_col0\" class=\"data row4 col0\" >0.04025</td>\n",
       "            </tr>\n",
       "            <tr>\n",
       "                        <th id=\"T_931a2583_0f03_11ea_a6fb_107b449f15fclevel0_row5\" class=\"row_heading level0 row5\" >жилой</th>\n",
       "                        <td id=\"T_931a2583_0f03_11ea_a6fb_107b449f15fcrow5_col0\" class=\"data row5 col0\" >0.02965</td>\n",
       "            </tr>\n",
       "            <tr>\n",
       "                        <th id=\"T_931a2583_0f03_11ea_a6fb_107b449f15fclevel0_row6\" class=\"row_heading level0 row6\" >ролик</th>\n",
       "                        <td id=\"T_931a2583_0f03_11ea_a6fb_107b449f15fcrow6_col0\" class=\"data row6 col0\" >0.02754</td>\n",
       "            </tr>\n",
       "            <tr>\n",
       "                        <th id=\"T_931a2583_0f03_11ea_a6fb_107b449f15fclevel0_row7\" class=\"row_heading level0 row7\" >борода</th>\n",
       "                        <td id=\"T_931a2583_0f03_11ea_a6fb_107b449f15fcrow7_col0\" class=\"data row7 col0\" >0.02542</td>\n",
       "            </tr>\n",
       "            <tr>\n",
       "                        <th id=\"T_931a2583_0f03_11ea_a6fb_107b449f15fclevel0_row8\" class=\"row_heading level0 row8\" >икра</th>\n",
       "                        <td id=\"T_931a2583_0f03_11ea_a6fb_107b449f15fcrow8_col0\" class=\"data row8 col0\" >0.02542</td>\n",
       "            </tr>\n",
       "            <tr>\n",
       "                        <th id=\"T_931a2583_0f03_11ea_a6fb_107b449f15fclevel0_row9\" class=\"row_heading level0 row9\" >островок</th>\n",
       "                        <td id=\"T_931a2583_0f03_11ea_a6fb_107b449f15fcrow9_col0\" class=\"data row9 col0\" >0.02542</td>\n",
       "            </tr>\n",
       "    </tbody></table>"
      ]
     },
     "metadata": {},
     "output_type": "display_data"
    },
    {
     "data": {
      "text/html": [
       "<b> космическая погода </b>"
      ]
     },
     "metadata": {},
     "output_type": "display_data"
    },
    {
     "data": {
      "text/html": [
       "<b> перспективыдоказательная медицина </b>"
      ]
     },
     "metadata": {},
     "output_type": "display_data"
    },
    {
     "data": {
      "text/html": [
       "<b> перспективыфилософия массовой культуры </b>"
      ]
     },
     "metadata": {},
     "output_type": "display_data"
    },
    {
     "data": {
      "text/html": [
       "<b> перспективысоциология академической жизни </b>"
      ]
     },
     "metadata": {},
     "output_type": "display_data"
    },
    {
     "data": {
      "text/html": [
       "<b> магнетизм земли </b>"
      ]
     },
     "metadata": {},
     "output_type": "display_data"
    },
    {
     "data": {
      "text/html": [
       "<b> гелиосейсмология </b>"
      ]
     },
     "metadata": {},
     "output_type": "display_data"
    },
    {
     "data": {
      "text/html": [
       "<b> магнитные наночастицы </b>"
      ]
     },
     "metadata": {},
     "output_type": "display_data"
    },
    {
     "data": {
      "text/html": [
       "<b> перспективыбыть астрофизиком </b>"
      ]
     },
     "metadata": {},
     "output_type": "display_data"
    },
    {
     "data": {
      "text/html": [
       "<b> перспективыфизика на коллайдерах </b>"
      ]
     },
     "metadata": {},
     "output_type": "display_data"
    },
    {
     "data": {
      "text/html": [
       "<b> перспективыфеномен фэнтези </b>"
      ]
     },
     "metadata": {},
     "output_type": "display_data"
    },
    {
     "data": {
      "text/html": [
       "<style  type=\"text/css\" >\n",
       "</style><table id=\"T_931a2584_0f03_11ea_a6fb_107b449f15fc\" style='display:inline'><thead>    <tr>        <th class=\"blank level0\" ></th>        <th class=\"col_heading level0 col0\" >bcg_35 @2gramm</th>    </tr></thead><tbody>\n",
       "                <tr>\n",
       "                        <th id=\"T_931a2584_0f03_11ea_a6fb_107b449f15fclevel0_row0\" class=\"row_heading level0 row0\" >речь_идти</th>\n",
       "                        <td id=\"T_931a2584_0f03_11ea_a6fb_107b449f15fcrow0_col0\" class=\"data row0 col0\" >0.00737</td>\n",
       "            </tr>\n",
       "            <tr>\n",
       "                        <th id=\"T_931a2584_0f03_11ea_a6fb_107b449f15fclevel0_row1\" class=\"row_heading level0 row1\" >крайний_мера</th>\n",
       "                        <td id=\"T_931a2584_0f03_11ea_a6fb_107b449f15fcrow1_col0\" class=\"data row1 col0\" >0.00649</td>\n",
       "            </tr>\n",
       "            <tr>\n",
       "                        <th id=\"T_931a2584_0f03_11ea_a6fb_107b449f15fclevel0_row2\" class=\"row_heading level0 row2\" >xx_век</th>\n",
       "                        <td id=\"T_931a2584_0f03_11ea_a6fb_107b449f15fcrow2_col0\" class=\"data row2 col0\" >0.00612</td>\n",
       "            </tr>\n",
       "            <tr>\n",
       "                        <th id=\"T_931a2584_0f03_11ea_a6fb_107b449f15fclevel0_row3\" class=\"row_heading level0 row3\" >xix_век</th>\n",
       "                        <td id=\"T_931a2584_0f03_11ea_a6fb_107b449f15fcrow3_col0\" class=\"data row3 col0\" >0.0061</td>\n",
       "            </tr>\n",
       "            <tr>\n",
       "                        <th id=\"T_931a2584_0f03_11ea_a6fb_107b449f15fclevel0_row4\" class=\"row_heading level0 row4\" >дать_случай</th>\n",
       "                        <td id=\"T_931a2584_0f03_11ea_a6fb_107b449f15fcrow4_col0\" class=\"data row4 col0\" >0.00577</td>\n",
       "            </tr>\n",
       "            <tr>\n",
       "                        <th id=\"T_931a2584_0f03_11ea_a6fb_107b449f15fclevel0_row5\" class=\"row_heading level0 row5\" >большой_количество</th>\n",
       "                        <td id=\"T_931a2584_0f03_11ea_a6fb_107b449f15fcrow5_col0\" class=\"data row5 col0\" >0.00482</td>\n",
       "            </tr>\n",
       "            <tr>\n",
       "                        <th id=\"T_931a2584_0f03_11ea_a6fb_107b449f15fclevel0_row6\" class=\"row_heading level0 row6\" >огромный_количество</th>\n",
       "                        <td id=\"T_931a2584_0f03_11ea_a6fb_107b449f15fcrow6_col0\" class=\"data row6 col0\" >0.0046</td>\n",
       "            </tr>\n",
       "            <tr>\n",
       "                        <th id=\"T_931a2584_0f03_11ea_a6fb_107b449f15fclevel0_row7\" class=\"row_heading level0 row7\" >друг_друг</th>\n",
       "                        <td id=\"T_931a2584_0f03_11ea_a6fb_107b449f15fcrow7_col0\" class=\"data row7 col0\" >0.00415</td>\n",
       "            </tr>\n",
       "            <tr>\n",
       "                        <th id=\"T_931a2584_0f03_11ea_a6fb_107b449f15fclevel0_row8\" class=\"row_heading level0 row8\" >конец_конец</th>\n",
       "                        <td id=\"T_931a2584_0f03_11ea_a6fb_107b449f15fcrow8_col0\" class=\"data row8 col0\" >0.004</td>\n",
       "            </tr>\n",
       "            <tr>\n",
       "                        <th id=\"T_931a2584_0f03_11ea_a6fb_107b449f15fclevel0_row9\" class=\"row_heading level0 row9\" >мировой_война</th>\n",
       "                        <td id=\"T_931a2584_0f03_11ea_a6fb_107b449f15fcrow9_col0\" class=\"data row9 col0\" >0.00366</td>\n",
       "            </tr>\n",
       "    </tbody></table><style  type=\"text/css\" >\n",
       "</style><table id=\"T_931a2585_0f03_11ea_a6fb_107b449f15fc\" style='display:inline'><thead>    <tr>        <th class=\"blank level0\" ></th>        <th class=\"col_heading level0 col0\" >bcg_35 @word</th>    </tr></thead><tbody>\n",
       "                <tr>\n",
       "                        <th id=\"T_931a2585_0f03_11ea_a6fb_107b449f15fclevel0_row0\" class=\"row_heading level0 row0\" >говорить</th>\n",
       "                        <td id=\"T_931a2585_0f03_11ea_a6fb_107b449f15fcrow0_col0\" class=\"data row0 col0\" >0.00307</td>\n",
       "            </tr>\n",
       "            <tr>\n",
       "                        <th id=\"T_931a2585_0f03_11ea_a6fb_107b449f15fclevel0_row1\" class=\"row_heading level0 row1\" >являться</th>\n",
       "                        <td id=\"T_931a2585_0f03_11ea_a6fb_107b449f15fcrow1_col0\" class=\"data row1 col0\" >0.0029</td>\n",
       "            </tr>\n",
       "            <tr>\n",
       "                        <th id=\"T_931a2585_0f03_11ea_a6fb_107b449f15fclevel0_row2\" class=\"row_heading level0 row2\" >большой</th>\n",
       "                        <td id=\"T_931a2585_0f03_11ea_a6fb_107b449f15fcrow2_col0\" class=\"data row2 col0\" >0.00281</td>\n",
       "            </tr>\n",
       "            <tr>\n",
       "                        <th id=\"T_931a2585_0f03_11ea_a6fb_107b449f15fclevel0_row3\" class=\"row_heading level0 row3\" >язык</th>\n",
       "                        <td id=\"T_931a2585_0f03_11ea_a6fb_107b449f15fcrow3_col0\" class=\"data row3 col0\" >0.00269</td>\n",
       "            </tr>\n",
       "            <tr>\n",
       "                        <th id=\"T_931a2585_0f03_11ea_a6fb_107b449f15fclevel0_row4\" class=\"row_heading level0 row4\" >должный</th>\n",
       "                        <td id=\"T_931a2585_0f03_11ea_a6fb_107b449f15fcrow4_col0\" class=\"data row4 col0\" >0.00257</td>\n",
       "            </tr>\n",
       "            <tr>\n",
       "                        <th id=\"T_931a2585_0f03_11ea_a6fb_107b449f15fclevel0_row5\" class=\"row_heading level0 row5\" >образ</th>\n",
       "                        <td id=\"T_931a2585_0f03_11ea_a6fb_107b449f15fcrow5_col0\" class=\"data row5 col0\" >0.00255</td>\n",
       "            </tr>\n",
       "            <tr>\n",
       "                        <th id=\"T_931a2585_0f03_11ea_a6fb_107b449f15fclevel0_row6\" class=\"row_heading level0 row6\" >существовать</th>\n",
       "                        <td id=\"T_931a2585_0f03_11ea_a6fb_107b449f15fcrow6_col0\" class=\"data row6 col0\" >0.00245</td>\n",
       "            </tr>\n",
       "            <tr>\n",
       "                        <th id=\"T_931a2585_0f03_11ea_a6fb_107b449f15fclevel0_row7\" class=\"row_heading level0 row7\" >стать</th>\n",
       "                        <td id=\"T_931a2585_0f03_11ea_a6fb_107b449f15fcrow7_col0\" class=\"data row7 col0\" >0.00236</td>\n",
       "            </tr>\n",
       "            <tr>\n",
       "                        <th id=\"T_931a2585_0f03_11ea_a6fb_107b449f15fclevel0_row8\" class=\"row_heading level0 row8\" >работа</th>\n",
       "                        <td id=\"T_931a2585_0f03_11ea_a6fb_107b449f15fcrow8_col0\" class=\"data row8 col0\" >0.00233</td>\n",
       "            </tr>\n",
       "            <tr>\n",
       "                        <th id=\"T_931a2585_0f03_11ea_a6fb_107b449f15fclevel0_row9\" class=\"row_heading level0 row9\" >книга</th>\n",
       "                        <td id=\"T_931a2585_0f03_11ea_a6fb_107b449f15fcrow9_col0\" class=\"data row9 col0\" >0.00228</td>\n",
       "            </tr>\n",
       "    </tbody></table>"
      ]
     },
     "metadata": {},
     "output_type": "display_data"
    },
    {
     "data": {
      "text/html": [
       "<b> поведенческие типы человека </b>"
      ]
     },
     "metadata": {},
     "output_type": "display_data"
    },
    {
     "data": {
      "text/html": [
       "<b> гидрометеорологические измерения в арктике </b>"
      ]
     },
     "metadata": {},
     "output_type": "display_data"
    },
    {
     "data": {
      "text/html": [
       "<b> faqпроизводство сомнения </b>"
      ]
     },
     "metadata": {},
     "output_type": "display_data"
    },
    {
     "data": {
      "text/html": [
       "<b> главы # религиоведение в америке </b>"
      ]
     },
     "metadata": {},
     "output_type": "display_data"
    },
    {
     "data": {
      "text/html": [
       "<b> русский императорский портрет как символ власти </b>"
      ]
     },
     "metadata": {},
     "output_type": "display_data"
    },
    {
     "data": {
      "text/html": [
       "<b> мотивация хакеров </b>"
      ]
     },
     "metadata": {},
     "output_type": "display_data"
    },
    {
     "data": {
      "text/html": [
       "<b> точка зрения # физика в школе </b>"
      ]
     },
     "metadata": {},
     "output_type": "display_data"
    },
    {
     "data": {
      "text/html": [
       "<b> борьба эллинофилов и мизэллинов </b>"
      ]
     },
     "metadata": {},
     "output_type": "display_data"
    },
    {
     "data": {
      "text/html": [
       "<b> институт варбурга </b>"
      ]
     },
     "metadata": {},
     "output_type": "display_data"
    },
    {
     "data": {
      "text/html": [
       "<b> аттосекундная физика </b>"
      ]
     },
     "metadata": {},
     "output_type": "display_data"
    }
   ],
   "source": [
    "n=7\n",
    "for line, topic_docs in list(zip(first_model_html, first_model_top_doc))[-n:]:\n",
    "    display_html(line, raw=True)\n",
    "    for doc_id in topic_docs:\n",
    "        doc_vw = demo_data.get_vw_document(doc_id).values[0][0]\n",
    "        doc_title = get_modality_vw(doc_vw, \"@title\")\n",
    "        doc_snippet = get_modality_vw(doc_vw, \"@snippet\")\n",
    "        display_html(f\"<b>{doc_title}</b>\", raw=True)"
   ]
  },
  {
   "cell_type": "code",
   "execution_count": 17,
   "metadata": {},
   "outputs": [
    {
     "name": "stdout",
     "output_type": "stream",
     "text": [
      "422.txt\n"
     ]
    }
   ],
   "source": [
    "print(doc_id)"
   ]
  },
  {
   "cell_type": "code",
   "execution_count": 18,
   "metadata": {},
   "outputs": [],
   "source": [
    "from topicnet.viewers import TopSimilarDocumentsViewer"
   ]
  },
  {
   "cell_type": "code",
   "execution_count": 19,
   "metadata": {},
   "outputs": [],
   "source": [
    "tsdv = TopSimilarDocumentsViewer(best_model, dataset)"
   ]
  },
  {
   "cell_type": "code",
   "execution_count": 22,
   "metadata": {},
   "outputs": [
    {
     "name": "stdout",
     "output_type": "stream",
     "text": [
      "['@title Ритуальные застолья | @snippet Фольклорист Михаил Алексеевский об общих правилах застолий, пищевой антропологии и деградации праздничной культуры\\n']\n"
     ]
    },
    {
     "data": {
      "text/html": [
       "<b>2500.txt</b><br />@title Главы # Превратности политической субъективации | @snippet Отрывок из новой книги «Щекотливый субъект: отсутствующий центр политической онтологии» известного словенского философа Славоя Жижека\n"
      ]
     },
     "metadata": {},
     "output_type": "display_data"
    },
    {
     "data": {
      "text/html": [
       "<b>1126.txt</b><br />@title Диалог между религиями | @snippet Историк Алексей Юдин о последствиях Холокоста, авраамическом диалоге и богословских противоречиях\n"
      ]
     },
     "metadata": {},
     "output_type": "display_data"
    },
    {
     "data": {
      "text/html": [
       "<b>2275.txt</b><br />@title Женская телесность и мода | @snippet Историк моды Ольга Вайнштейн об изобретении кринолина, отношении к женскому телу в XIX веке и двойных стандартах нравственности\n"
      ]
     },
     "metadata": {},
     "output_type": "display_data"
    },
    {
     "data": {
      "text/html": [
       "<b>1713.txt</b><br />@title Главы: Эра Водолея и русское мессианство | @snippet Отрывок из книги «Арийский миф в современном мире» об идеологии New Age, особенностях неоязычества в России и эсхатологических ожиданиях русских национал-патриотов\n"
      ]
     },
     "metadata": {},
     "output_type": "display_data"
    },
    {
     "data": {
      "text/html": [
       "<b>501.txt</b><br />@title Почему нас привлекают исторические «секреты» | @snippet Почему читатели испытывают большой интерес к псевдоисторическим \"исследованиям\", и  каковы принципы их конструирования?\n"
      ]
     },
     "metadata": {},
     "output_type": "display_data"
    },
    {
     "data": {
      "text/html": [
       "<b>3247.txt</b><br />@title Главы # Меньше - значит достаточно: об архитектуре и аскетизме | @snippet Отрывок из книги «Меньше - значит достаточно: об архитектуре и аскетизме» архитектора и приглашенного профессора Йельского университета Пьера Витторио Аурели\n"
      ]
     },
     "metadata": {},
     "output_type": "display_data"
    },
    {
     "data": {
      "text/html": [
       "<b>2556.txt</b><br />@title Главы # На защите индивида | @snippet Отрывок из недавно изданной книги «Жизнь соло: Новая социальная реальность» социолога Эрика Кляйненберга о феномене современного одиночества\n"
      ]
     },
     "metadata": {},
     "output_type": "display_data"
    },
    {
     "data": {
      "text/html": [
       "<b>1756.txt</b><br />@title 5 книг о натуралистах | @snippet Что читать о путешествиях исследователей дикой природы, рекомендует кандидат биологических наук Сергей Майоров\n"
      ]
     },
     "metadata": {},
     "output_type": "display_data"
    },
    {
     "data": {
      "text/html": [
       "<b>3401.txt</b><br />@title Точка зрения # Эффективность «Диссернета» | @snippet Авторы ПостНауки оценили плюсы и минусы деятельности «Диссернета»\n"
      ]
     },
     "metadata": {},
     "output_type": "display_data"
    },
    {
     "data": {
      "text/html": [
       "<b>983.txt</b><br />@title Главы: Демократия и декаданс медиа | @snippet Отрывок из книги австралийского политолога Джона Кина о коммуникационных революциях и разрыве между реальностью и идеалами свободного оспаривания власти\n"
      ]
     },
     "metadata": {},
     "output_type": "display_data"
    }
   ],
   "source": [
    "search_doc = '176.txt'\n",
    "print(dataset.get_source_document(search_doc)['raw_text'].values)\n",
    "sim_docs, scores = tsdv.view(\n",
    "    search_doc,\n",
    "    metric='euclidean',\n",
    "    num_top_similar=10)\n",
    "for doc_id in sim_docs:\n",
    "    document = dataset.get_source_document(doc_id)\n",
    "    doc_title = document.index.values[0]\n",
    "    doc_snippet = '.'.join(document['raw_text'].values[0].split('.')[:3])\n",
    "    display_html(f\"<b>{doc_title}</b><br />{doc_snippet}\", raw=True)"
   ]
  }
 ],
 "metadata": {
  "kernelspec": {
   "display_name": "Python [conda env:root] *",
   "language": "python",
   "name": "conda-root-py"
  },
  "language_info": {
   "codemirror_mode": {
    "name": "ipython",
    "version": 3
   },
   "file_extension": ".py",
   "mimetype": "text/x-python",
   "name": "python",
   "nbconvert_exporter": "python",
   "pygments_lexer": "ipython3",
   "version": "3.6.9"
  }
 },
 "nbformat": 4,
 "nbformat_minor": 2
}
