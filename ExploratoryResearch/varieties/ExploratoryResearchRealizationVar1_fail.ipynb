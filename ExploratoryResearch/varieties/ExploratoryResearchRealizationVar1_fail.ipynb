{
 "cells": [
  {
   "cell_type": "code",
   "execution_count": 1,
   "metadata": {},
   "outputs": [],
   "source": [
    "import numpy as np\n",
    "import pandas as pd\n",
    "import matplotlib.pyplot as plt\n",
    "%matplotlib inline\n",
    "import os\n",
    "import time\n",
    "import artm\n",
    "\n",
    "# change log style\n",
    "lc = artm.messages.ConfigureLoggingArgs()\n",
    "lc.minloglevel = 3\n",
    "lib = artm.wrapper.LibArtm(logging_config=lc)\n",
    "\n",
    "import warnings\n",
    "warnings.filterwarnings(\"ignore\", category=DeprecationWarning)"
   ]
  },
  {
   "cell_type": "code",
   "execution_count": 2,
   "metadata": {},
   "outputs": [
    {
     "data": {
      "text/html": [
       "<style>\n",
       "    div.output_html {\n",
       "        white-space: nowrap;\n",
       "    }\n",
       "    div .output_subarea > pre {\n",
       "        white-space: pre;\n",
       "        word-wrap: normal;\n",
       "    }\n",
       "    div .output_stdout > pre {\n",
       "        white-space: pre-wrap !important;\n",
       "        word-wrap:  break-word !important;\n",
       "    }\n",
       "    </style>"
      ],
      "text/plain": [
       "<IPython.core.display.HTML object>"
      ]
     },
     "metadata": {},
     "output_type": "display_data"
    }
   ],
   "source": [
    "from copy import deepcopy\n",
    "from topicnet.cooking_machine.models.topic_model import TopicModel\n",
    "from topicnet.cooking_machine.cubes import RegularizersModifierCube\n",
    "from topicnet.cooking_machine.config_parser import build_experiment_environment_from_yaml_config\n",
    "from topicnet.cooking_machine.experiment import Experiment\n",
    "from topicnet.cooking_machine.cubes import *\n",
    "from topicnet.cooking_machine.dataset import Dataset\n",
    "from topicnet.cooking_machine.pretty_output import make_notebook_pretty\n",
    "make_notebook_pretty()"
   ]
  },
  {
   "cell_type": "code",
   "execution_count": 3,
   "metadata": {},
   "outputs": [],
   "source": [
    "import topicnet.cooking_machine.cubes as tncubes"
   ]
  },
  {
   "cell_type": "code",
   "execution_count": 4,
   "metadata": {},
   "outputs": [
    {
     "data": {
      "text/html": [
       "<style>\n",
       ".container { width:90% !important; }\n",
       "div.output_scroll .output_subarea { white-space: pre; }\n",
       "</style>"
      ],
      "text/plain": [
       "<IPython.core.display.HTML object>"
      ]
     },
     "metadata": {},
     "output_type": "display_data"
    }
   ],
   "source": [
    "from IPython.core.display import display, HTML\n",
    "from IPython.display import clear_output, display_html\n",
    "display(HTML(\"\"\"<style>\n",
    ".container { width:90% !important; }\n",
    "div.output_scroll .output_subarea { white-space: pre; }\n",
    "</style>\"\"\"))"
   ]
  },
  {
   "cell_type": "markdown",
   "metadata": {},
   "source": [
    "### Make initial model"
   ]
  },
  {
   "cell_type": "code",
   "execution_count": 5,
   "metadata": {
    "scrolled": false
   },
   "outputs": [
    {
     "name": "stdout",
     "output_type": "stream",
     "text": [
      "# This config follows a strategy described in the article\n",
      "# Multi-objective Topic Modeling for Exploratory Search in Tech News\n",
      "# by Anastasya Yanina, Lev Golitsyn and Konstantin Vorontsov, Jan 2018\n",
      "\n",
      "\n",
      "# Use .format(modality=modality, dataset_path=dataset_path,\n",
      "# specific_topics=specific_topics, background_topics=background_topics)\n",
      "# when loading the recipe to adjust for your dataset\n",
      "\n",
      "topics:\n",
      "# Describes number of model topics, in the actuall article 200 topics were found to be optimal\n",
      "    specific_topics: ['topic_0', 'topic_1', 'topic_2', 'topic_3', 'topic_4', 'topic_5', 'topic_6', 'topic_7', 'topic_8', 'topic_9', 'topic_10', 'topic_11', 'topic_12', 'topic_13', 'topic_14', 'topic_15', 'topic_16', 'topic_17', 'topic_18', 'topic_19', 'topic_20', 'topic_21', 'topic_22', 'topic_23', 'topic_24', 'topic_25', 'topic_26', 'topic_27', 'topic_28', 'topic_29', 'topic_30', 'topic_31', 'topic_32', 'topic_33', 'topic_34']\n",
      "    background_topics: ['bcg_35']\n",
      "\n",
      "regularizers:\n",
      "- DecorrelatorPhiRegularizer:\n",
      "    name: decorrelation_phi_@word\n",
      "    topic_names: specific_topics\n",
      "    tau: 1\n",
      "    class_ids: ['@word']\n",
      "- SmoothSparseThetaRegularizer:\n",
      "    name: sparse_theta\n",
      "    topic_names: specific_topics\n",
      "    tau: 1\n",
      "- SmoothSparsePhiRegularizer:\n",
      "    name: smooth_phi_@word\n",
      "    topic_names: specific_topics\n",
      "    tau: 1\n",
      "    class_ids: ['@word']\n",
      "- DecorrelatorPhiRegularizer:\n",
      "    name: decorrelation_phi_@post_tag\n",
      "    topic_names: specific_topics\n",
      "    tau: 1\n",
      "    class_ids: ['@post_tag']\n",
      "- SmoothSparseThetaRegularizer:\n",
      "    name: sparse_theta\n",
      "    topic_names: specific_topics\n",
      "    tau: 1\n",
      "- SmoothSparsePhiRegularizer:\n",
      "    name: smooth_phi_@post_tag\n",
      "    topic_names: specific_topics\n",
      "    tau: 1\n",
      "    class_ids: ['@post_tag']\n",
      "\n",
      "model: \n",
      "    dataset_path: /home/sultan/datasets/PScience/PScience.csv\n",
      "    modalities_to_use: ['@word', '@post_tag']\n",
      "    main_modality: '@word'\n",
      "\n",
      "stages:\n",
      "# repeat the following two cubes for every modality in the dataset\n",
      "- RegularizersModifierCube:\n",
      "    num_iter: 8\n",
      "    reg_search: mul\n",
      "    regularizer_parameters:\n",
      "        name: decorrelation_phi_@word\n",
      "    selection:\n",
      "        - PerplexityScore@word < 1.1 * MINIMUM(PerplexityScore@word) and SparsityPhiScore@word -> max\n",
      "    strategy: PerplexityStrategy\n",
      "    strategy_params:\n",
      "        start_point: 100000\n",
      "        step: 10\n",
      "        max_len: 6\n",
      "    tracked_score_function: PerplexityScore@word\n",
      "    verbose: false\n",
      "    use_relative_coefficients: false\n",
      "- RegularizersModifierCube:\n",
      "    num_iter: 8\n",
      "    reg_search: add\n",
      "    regularizer_parameters:\n",
      "        name: sparse_theta\n",
      "    selection:\n",
      "        - PerplexityScore@all < 1.1 * MINIMUM(PerplexityScore@all) and SparsityPhiScore@word -> max\n",
      "    strategy: PerplexityStrategy\n",
      "    strategy_params:\n",
      "        start_point: -0.5\n",
      "        step: -0.5\n",
      "        max_len: 6\n",
      "    tracked_score_function: PerplexityScore@all\n",
      "    verbose: false\n",
      "    use_relative_coefficients: false\n",
      "- RegularizersModifierCube:\n",
      "    num_iter: 8\n",
      "    reg_search: add\n",
      "    regularizer_parameters:\n",
      "        name: smooth_phi_@word\n",
      "    selection:\n",
      "        - PerplexityScore@word < 1.1 * MINIMUM(PerplexityScore@word) and SparsityPhiScore@word -> max\n",
      "    strategy: PerplexityStrategy\n",
      "    strategy_params:\n",
      "        start_point: 0.25\n",
      "        step: 0.25\n",
      "        max_len: 6\n",
      "    tracked_score_function: PerplexityScore@word\n",
      "    verbose: false\n",
      "    use_relative_coefficients: false\n",
      "\n",
      "- RegularizersModifierCube:\n",
      "    num_iter: 8\n",
      "    reg_search: mul\n",
      "    regularizer_parameters:\n",
      "        name: decorrelation_phi_@post_tag\n",
      "    selection:\n",
      "        - PerplexityScore@post_tag < 1.1 * MINIMUM(PerplexityScore@post_tag) and SparsityPhiScore@post_tag -> max\n",
      "    strategy: PerplexityStrategy\n",
      "    strategy_params:\n",
      "        start_point: 100000\n",
      "        step: 10\n",
      "        max_len: 6\n",
      "    tracked_score_function: PerplexityScore@post_tag\n",
      "    verbose: false\n",
      "    use_relative_coefficients: false\n",
      "- RegularizersModifierCube:\n",
      "    num_iter: 8\n",
      "    reg_search: add\n",
      "    regularizer_parameters:\n",
      "        name: sparse_theta\n",
      "    selection:\n",
      "        - PerplexityScore@all < 1.1 * MINIMUM(PerplexityScore@all) and SparsityPhiScore@post_tag -> max\n",
      "    strategy: PerplexityStrategy\n",
      "    strategy_params:\n",
      "        start_point: -0.5\n",
      "        step: -0.5\n",
      "        max_len: 6\n",
      "    tracked_score_function: PerplexityScore@all\n",
      "    verbose: false\n",
      "    use_relative_coefficients: false\n",
      "- RegularizersModifierCube:\n",
      "    num_iter: 8\n",
      "    reg_search: add\n",
      "    regularizer_parameters:\n",
      "        name: smooth_phi_@post_tag\n",
      "    selection:\n",
      "        - PerplexityScore@post_tag < 1.1 * MINIMUM(PerplexityScore@post_tag) and SparsityPhiScore@post_tag -> max\n",
      "    strategy: PerplexityStrategy\n",
      "    strategy_params:\n",
      "        start_point: 0.25\n",
      "        step: 0.25\n",
      "        max_len: 6\n",
      "    tracked_score_function: PerplexityScore@post_tag\n",
      "    verbose: false\n",
      "    use_relative_coefficients: false\n"
     ]
    }
   ],
   "source": [
    "with open(\"/home/sultan/recipes/exploratory_search-variant1.yml\", \"r\") as f:\n",
    "    yaml_string = f.read()\n",
    "\n",
    "DATASET_PATH = \"/home/sultan/datasets/PScience/PScience.csv\"\n",
    "specific_topics = [f'topic_{i}' for i in range(35)]\n",
    "background_topics = [f'bcg_{i}' for i in range(len(specific_topics),len(specific_topics) + 1)]\n",
    "\n",
    "yaml_string = yaml_string.format(\n",
    "    modality1='@word',\n",
    "    modality2='@post_tag',\n",
    "    dataset_path=DATASET_PATH,\n",
    "    specific_topics=specific_topics,\n",
    "    background_topics=background_topics)\n",
    "\n",
    "print(yaml_string)"
   ]
  },
  {
   "cell_type": "markdown",
   "metadata": {},
   "source": [
    "### Define Topic Model"
   ]
  },
  {
   "cell_type": "code",
   "execution_count": 6,
   "metadata": {},
   "outputs": [],
   "source": [
    "from topicnet.cooking_machine.experiment import Experiment\n",
    "if os.path.exists(f'./ExploratoryResearchDemo') == True:\n",
    "    os.system(\"rm -rf ./ExploratoryResearchDemo\")\n",
    "experiment, dataset = build_experiment_environment_from_yaml_config(\n",
    "    yaml_string,\n",
    "    experiment_id='ExploratoryResearchDemo',\n",
    "    save_path='ExploratoryResearchDemo',\n",
    ")"
   ]
  },
  {
   "cell_type": "code",
   "execution_count": 7,
   "metadata": {},
   "outputs": [
    {
     "name": "stderr",
     "output_type": "stream",
     "text": [
      "/home/sultan/miniconda3/lib/python3.6/site-packages/topicnet/cooking_machine/cubes/base_cube.py:206: UserWarning: Perplexity is too high for threshold 1.05\n",
      "  warnings.warn(warning_message)\n",
      "/home/sultan/miniconda3/lib/python3.6/site-packages/topicnet/cooking_machine/cubes/base_cube.py:206: UserWarning: Max progression length exceeded\n",
      "  warnings.warn(warning_message)\n"
     ]
    },
    {
     "data": {
      "text/plain": [
       "{<topicnet.cooking_machine.models.topic_model.TopicModel at 0x7f51fbd0cef0>}"
      ]
     },
     "execution_count": 7,
     "metadata": {},
     "output_type": "execute_result"
    }
   ],
   "source": [
    "experiment.run(dataset)"
   ]
  },
  {
   "cell_type": "code",
   "execution_count": 8,
   "metadata": {},
   "outputs": [
    {
     "data": {
      "text/plain": [
       "Experiment ExploratoryResearchDemo\n",
       "\n",
       "Experiment was made with BigARTM 0.9.0\n",
       "Tree:\n",
       "                                                                                                                                                                                                                                                                                                                                                        ┌##17h41m08s_18d11m2019y###\n",
       "                                                                                                                                                                                                                                                                                                                                                        ├##17h41m24s_18d11m2019y###\n",
       "                                                                                                                                                                                                                                                ┌##17h40m31s_18d11m2019y###─────────────────────────────────────────────────────────────────────────────┤\n",
       "                                                                                                                                                                                                                                                │                                                                                                       │                                                                                                       ┌##17h42m26s_18d11m2019y###\n",
       "                                                                                                                                                                                                                                                │                                                                                                       │                                                                                                       ├##17h42m43s_18d11m2019y###\n",
       "                                                                                                                                                                                                                                                │                                                                                                       │                                                                                                       ├##17h43m00s_18d11m2019y###\n",
       "                                                                                                                                                                                                                                                │                                                                                                       ├##17h41m40s_18d11m2019y###─────────────────────────────────────────────────────────────────────────────┤\n",
       "                                                                                                                                                                                                                                                │                                                                                                       │                                                                                                       ├##17h43m18s_18d11m2019y###\n",
       "                                                                                                                                                                                                                                                │                                                                                                       │                                                                                                       ├##17h43m35s_18d11m2019y###\n",
       "                                                                                                                                                                                                                                                │                                                                                                       │                                                                                                       ├##17h43m53s_18d11m2019y###\n",
       "                                                                                                                                                                                                                                                │                                                                                                       │                                                                                                       │                                                                                                       ┌##17h44m53s_18d11m2019y###\n",
       "                                                                                                                                                                                                                                                │                                                                                                       │                                                                                                       └##17h44m09s_18d11m2019y###─────────────────────────────────────────────────────────────────────────────┤\n",
       "                                                                                                                                                                                                                                                │                                                                                                       │                                                                                                                                                                                                               └##17h45m10s_18d11m2019y###\n",
       "                                                                                                                                                                                                                                                │                                                                                                       └##17h41m56s_18d11m2019y###\n",
       "                                                                                                                                        ┌##17h38m33s_18d11m2019y###─────────────────────────────────────────────────────────────────────────────┤\n",
       "                                                                                                                                        │                                                                                                       └##17h40m46s_18d11m2019y###\n",
       "                                                                                                                                        ├##17h38m48s_18d11m2019y###\n",
       "                                                                                                                                        ├##17h39m03s_18d11m2019y###\n",
       "                                ┌##17h37m33s_18d11m2019y###─────────────────────────────────────────────────────────────────────────────┤\n",
       "                                │                                                                                                       ├##17h39m18s_18d11m2019y###\n",
       "                                │                                                                                                       ├##17h39m33s_18d11m2019y###\n",
       "                                │                                                                                                       ├##17h39m49s_18d11m2019y###\n",
       "                                │                                                                                                       └##17h40m03s_18d11m2019y###\n",
       "                                ├##17h37m44s_18d11m2019y###\n",
       "<<<<<<<<<<<root>>>>>>>>>>>──────┤\n",
       "                                ├##17h37m57s_18d11m2019y###\n",
       "                                └##17h38m12s_18d11m2019y###\n",
       "Cubes:\n",
       " START                          | REG_MODIFIER                                                                                          | REG_MODIFIER                                                                                          | REG_MODIFIER                                                                                          | REG_MODIFIER                                                                                          | REG_MODIFIER                                                                                          | REG_MODIFIER                                                                                         \n",
       "                                | cube:                                                                                                 | cube:                                                                                                 | cube:                                                                                                 | cube:                                                                                                 | cube:                                                                                                 | cube:                                                                                                \n",
       " name:                          |   <topicnet.cooking_machine.cubes.regularizer_cube.RegularizersModifierCube object at 0x7f5201eed400> |   <topicnet.cooking_machine.cubes.regularizer_cube.RegularizersModifierCube object at 0x7f5200bc6f60> |   <topicnet.cooking_machine.cubes.regularizer_cube.RegularizersModifierCube object at 0x7f5200bc6f98> |   <topicnet.cooking_machine.cubes.regularizer_cube.RegularizersModifierCube object at 0x7f5200bc6da0> |   <topicnet.cooking_machine.cubes.regularizer_cube.RegularizersModifierCube object at 0x7f5200bc6eb8> |   <topicnet.cooking_machine.cubes.regularizer_cube.RegularizersModifierCube object at 0x7f5200bc6ef0>\n",
       "   ARTM                         |                                                                                                       |                                                                                                       |                                                                                                       |                                                                                                       |                                                                                                       |                                                                                                      \n",
       " num_processors:                | tau_grid:                                                                                             | tau_grid:                                                                                             | tau_grid:                                                                                             | tau_grid:                                                                                             | tau_grid:                                                                                             | tau_grid:                                                                                            \n",
       "   3                            |   ---                                                                                                 |   ---                                                                                                 |   ---                                                                                                 |   ---                                                                                                 |   ---                                                                                                 |   ---                                                                                                \n",
       " num_topics:                    | name:                                                                                                 | name:                                                                                                 | name:                                                                                                 | name:                                                                                                 | name:                                                                                                 | name:                                                                                                \n",
       "   36                           |   decorrelation_phi_@word                                                                             |   sparse_theta                                                                                        |   smooth_phi_@word                                                                                    |   decorrelation_phi_@post_tag                                                                         |   sparse_theta                                                                                        |   smooth_phi_@post_tag                                                                               \n",
       " topic_names:                   |                                                                                                       |                                                                                                       |                                                                                                       |                                                                                                       |                                                                                                       |                                                                                                      \n",
       "   topic_0,                     |                                                                                                       |                                                                                                       |                                                                                                       |                                                                                                       |                                                                                                       |                                                                                                      \n",
       "   topic_1,                     |                                                                                                       |                                                                                                       |                                                                                                       |                                                                                                       |                                                                                                       |                                                                                                      \n",
       "   ...,                         |                                                                                                       |                                                                                                       |                                                                                                       |                                                                                                       |                                                                                                       |                                                                                                      \n",
       "   topic_34,                    |                                                                                                       |                                                                                                       |                                                                                                       |                                                                                                       |                                                                                                       |                                                                                                      \n",
       "   bcg_35                       |                                                                                                       |                                                                                                       |                                                                                                       |                                                                                                       |                                                                                                       |                                                                                                      \n",
       " class_ids:                     |                                                                                                       |                                                                                                       |                                                                                                       |                                                                                                       |                                                                                                       |                                                                                                      \n",
       "   @word=1.0,                   |                                                                                                       |                                                                                                       |                                                                                                       |                                                                                                       |                                                                                                       |                                                                                                      \n",
       "   @post_tag=79.51461372081415  |                                                                                                       |                                                                                                       |                                                                                                       |                                                                                                       |                                                                                                       |                                                                                                      \n",
       " seed:                          |                                                                                                       |                                                                                                       |                                                                                                       |                                                                                                       |                                                                                                       |                                                                                                      \n",
       "   -1                           |                                                                                                       |                                                                                                       |                                                                                                       |                                                                                                       |                                                                                                       |                                                                                                      \n",
       "                                |                                                                                                       |                                                                                                       |                                                                                                       |                                                                                                       |                                                                                                       |                                                                                                      \n",
       "────────────────────────────────+───────────────────────────────────────────────────────────────────────────────────────────────────────+───────────────────────────────────────────────────────────────────────────────────────────────────────+───────────────────────────────────────────────────────────────────────────────────────────────────────+───────────────────────────────────────────────────────────────────────────────────────────────────────+───────────────────────────────────────────────────────────────────────────────────────────────────────+───────────────────────────────────────────────────────────────────────────────────────────────────────+─────────────────────────────────────────────────────────────────────────────────────────────────────\n",
       "                                | stage criteria 1:                                                                                     | stage criteria 1:                                                                                     | stage criteria 1:                                                                                     | stage criteria 1:                                                                                     | stage criteria 1:                                                                                     | stage criteria 1:                                                                                    \n",
       "                                |     PerplexityScore@word < 1.1 * MINIMUM(PerplexityScore@word)                                        |     PerplexityScore@all < 1.1 * MINIMUM(PerplexityScore@all)                                          |     PerplexityScore@word < 1.1 * MINIMUM(PerplexityScore@word)                                        |     PerplexityScore@post_tag < 1.1 * MINIMUM(PerplexityScore@post_tag)                                |     PerplexityScore@all < 1.1 * MINIMUM(PerplexityScore@all)                                          |     PerplexityScore@post_tag < 1.1 * MINIMUM(PerplexityScore@post_tag)                               \n",
       "                                |     SparsityPhiScore@word -> max                                                                      |     SparsityPhiScore@word -> max                                                                      |     SparsityPhiScore@word -> max                                                                      |     SparsityPhiScore@post_tag -> max                                                                  |     SparsityPhiScore@post_tag -> max                                                                  |     SparsityPhiScore@post_tag -> max                                                                 \n",
       "                                |                                                                                                       |                                                                                                       |                                                                                                       |                                                                                                       |                                                                                                       |                                                                                                      "
      ]
     },
     "metadata": {},
     "output_type": "display_data"
    }
   ],
   "source": [
    "experiment.show()"
   ]
  },
  {
   "cell_type": "code",
   "execution_count": 9,
   "metadata": {},
   "outputs": [],
   "source": [
    "best_model = experiment.select(experiment.criteria[-1][0])[0]"
   ]
  },
  {
   "cell_type": "code",
   "execution_count": 10,
   "metadata": {},
   "outputs": [
    {
     "data": {
      "image/png": "[encoded data removed]",
      "text/plain": [
       "<Figure size 576x576 with 1 Axes>"
      ]
     },
     "metadata": {
      "needs_background": "light"
     },
     "output_type": "display_data"
    }
   ],
   "source": [
    "tms = experiment.models\n",
    "colors = np.linspace(0, 0.65, len(tms))\n",
    "\n",
    "plt.figure(figsize=(8,8))\n",
    "for i, tm in enumerate(list(tms.values())[1:]):\n",
    "    score = tm.scores['PerplexityScore@all']\n",
    "    plt.plot(score[1:])\n",
    "plt.show()"
   ]
  },
  {
   "cell_type": "code",
   "execution_count": 11,
   "metadata": {},
   "outputs": [
    {
     "data": {
      "image/png": "[encoded data removed]",
      "text/plain": [
       "<Figure size 576x576 with 1 Axes>"
      ]
     },
     "metadata": {
      "needs_background": "light"
     },
     "output_type": "display_data"
    }
   ],
   "source": [
    "from matplotlib import cm\n",
    "tms = experiment.models\n",
    "colors = np.linspace(0, 0.65, len(tms))\n",
    "\n",
    "plt.figure(figsize=(8,8))\n",
    "for i, tm in enumerate(list(tms.values())[1:]):\n",
    "    score = tm.scores['TopicKernel@word.average_purity']\n",
    "    plt.plot(score, color=cm.Blues(colors[i]))\n",
    "    score = tm.scores['TopicKernel@word.average_contrast']\n",
    "    plt.plot(score, color=cm.Reds(colors[i]))\n",
    "plt.show()"
   ]
  },
  {
   "cell_type": "code",
   "execution_count": 12,
   "metadata": {},
   "outputs": [
    {
     "name": "stderr",
     "output_type": "stream",
     "text": [
      "/home/sultan/miniconda3/lib/python3.6/site-packages/topicnet/cooking_machine/routine.py:528: UserWarning: Can't return the requested number of models:  \"2\". Only \"1\" satisfy the query\n",
      "  W_RETURN_FEWER_MODELS_DETAILS.format(models_num, len(result_models)))\n"
     ]
    },
    {
     "name": "stdout",
     "output_type": "stream",
     "text": [
      "smooth_phi_bcg 0.0\n",
      "smooth_theta_bcg 0.0\n",
      "decorrelation_phi_@word 0\n",
      "sparse_theta -3.0\n",
      "smooth_phi_@word 0\n",
      "decorrelation_phi_@post_tag 1000000.0\n",
      "smooth_phi_@post_tag 0\n",
      "64219.7421875\n",
      "0.49739959836006165\n",
      "0.14356784522533417\n",
      "------\n"
     ]
    }
   ],
   "source": [
    "query = (\n",
    "    \"TopicKernel@word.average_contrast > 0.8 * MAXIMUM(TopicKernel@word.average_contrast) \"\n",
    "    \"and TopicKernel@word.average_purity > 0.8 * MAXIMUM(TopicKernel@word.average_purity) \"\n",
    "    \"and PerplexityScore@all < 1.1 * MINIMUM(PerplexityScore@all) \"\n",
    ")\n",
    "models = experiment.select(query + \" COLLECT all\")\n",
    "def describe_model(model):\n",
    "    for reg_name, reg in model.regularizers._data.items():\n",
    "        print(reg_name, reg.tau)\n",
    "    print(model.scores[\"PerplexityScore@all\"][-1])\n",
    "    print(model.scores[\"TopicKernel@word.average_contrast\"][-1])\n",
    "    print(model.scores[\"TopicKernel@word.average_purity\"][-1])\n",
    "    print(\"------\")\n",
    "for model in models:\n",
    "    describe_model(model)"
   ]
  },
  {
   "cell_type": "markdown",
   "metadata": {},
   "source": [
    "### Investigate model"
   ]
  },
  {
   "cell_type": "code",
   "execution_count": 13,
   "metadata": {},
   "outputs": [],
   "source": [
    "best_model = models[-1]"
   ]
  },
  {
   "cell_type": "code",
   "execution_count": 14,
   "metadata": {},
   "outputs": [],
   "source": [
    "from topicnet.viewers.top_tokens_viewer import TopTokensViewer\n",
    "from topicnet.viewers.top_documents_viewer import TopDocumentsViewer\n",
    "from IPython.display import display_html, display\n",
    "from topicnet.cooking_machine.dataset import get_modality_vw"
   ]
  },
  {
   "cell_type": "code",
   "execution_count": 15,
   "metadata": {},
   "outputs": [],
   "source": [
    "thresh = 1e-5\n",
    "demo_data = Dataset(DATASET_PATH)\n",
    "first_model_top_tok = TopTokensViewer(best_model, num_top_tokens=10, method='phi')\n",
    "first_model_html =  first_model_top_tok.to_html(first_model_top_tok.view(),thresh=thresh)\n",
    "first_model_top_doc = TopDocumentsViewer(best_model, dataset=demo_data).view()"
   ]
  },
  {
   "cell_type": "code",
   "execution_count": 16,
   "metadata": {
    "scrolled": true
   },
   "outputs": [
    {
     "data": {
      "text/html": [
       "<style  type=\"text/css\" >\n",
       "</style><table id=\"T_1b952412_0a12_11ea_a6fb_107b449f15fc\" style='display:inline'><thead>    <tr>        <th class=\"blank level0\" ></th>        <th class=\"col_heading level0 col0\" >topic_29 @post_tag</th>    </tr></thead><tbody>\n",
       "                <tr>\n",
       "                        <th id=\"T_1b952412_0a12_11ea_a6fb_107b449f15fclevel0_row0\" class=\"row_heading level0 row0\" >днк</th>\n",
       "                        <td id=\"T_1b952412_0a12_11ea_a6fb_107b449f15fcrow0_col0\" class=\"data row0 col0\" >0.22687</td>\n",
       "            </tr>\n",
       "            <tr>\n",
       "                        <th id=\"T_1b952412_0a12_11ea_a6fb_107b449f15fclevel0_row1\" class=\"row_heading level0 row1\" >клетка</th>\n",
       "                        <td id=\"T_1b952412_0a12_11ea_a6fb_107b449f15fcrow1_col0\" class=\"data row1 col0\" >0.20896</td>\n",
       "            </tr>\n",
       "            <tr>\n",
       "                        <th id=\"T_1b952412_0a12_11ea_a6fb_107b449f15fclevel0_row2\" class=\"row_heading level0 row2\" >белки</th>\n",
       "                        <td id=\"T_1b952412_0a12_11ea_a6fb_107b449f15fcrow2_col0\" class=\"data row2 col0\" >0.10946</td>\n",
       "            </tr>\n",
       "            <tr>\n",
       "                        <th id=\"T_1b952412_0a12_11ea_a6fb_107b449f15fclevel0_row3\" class=\"row_heading level0 row3\" >молекула</th>\n",
       "                        <td id=\"T_1b952412_0a12_11ea_a6fb_107b449f15fcrow3_col0\" class=\"data row3 col0\" >0.07363</td>\n",
       "            </tr>\n",
       "            <tr>\n",
       "                        <th id=\"T_1b952412_0a12_11ea_a6fb_107b449f15fclevel0_row4\" class=\"row_heading level0 row4\" >рнк</th>\n",
       "                        <td id=\"T_1b952412_0a12_11ea_a6fb_107b449f15fcrow4_col0\" class=\"data row4 col0\" >0.06567</td>\n",
       "            </tr>\n",
       "            <tr>\n",
       "                        <th id=\"T_1b952412_0a12_11ea_a6fb_107b449f15fclevel0_row5\" class=\"row_heading level0 row5\" >клеточная_биология</th>\n",
       "                        <td id=\"T_1b952412_0a12_11ea_a6fb_107b449f15fcrow5_col0\" class=\"data row5 col0\" >0.04776</td>\n",
       "            </tr>\n",
       "            <tr>\n",
       "                        <th id=\"T_1b952412_0a12_11ea_a6fb_107b449f15fclevel0_row6\" class=\"row_heading level0 row6\" >мутация</th>\n",
       "                        <td id=\"T_1b952412_0a12_11ea_a6fb_107b449f15fcrow6_col0\" class=\"data row6 col0\" >0.03582</td>\n",
       "            </tr>\n",
       "            <tr>\n",
       "                        <th id=\"T_1b952412_0a12_11ea_a6fb_107b449f15fclevel0_row7\" class=\"row_heading level0 row7\" >белок</th>\n",
       "                        <td id=\"T_1b952412_0a12_11ea_a6fb_107b449f15fcrow7_col0\" class=\"data row7 col0\" >0.02786</td>\n",
       "            </tr>\n",
       "            <tr>\n",
       "                        <th id=\"T_1b952412_0a12_11ea_a6fb_107b449f15fclevel0_row8\" class=\"row_heading level0 row8\" >вирус</th>\n",
       "                        <td id=\"T_1b952412_0a12_11ea_a6fb_107b449f15fcrow8_col0\" class=\"data row8 col0\" >0.01747</td>\n",
       "            </tr>\n",
       "            <tr>\n",
       "                        <th id=\"T_1b952412_0a12_11ea_a6fb_107b449f15fclevel0_row9\" class=\"row_heading level0 row9\" >флуоресцентные_белки</th>\n",
       "                        <td id=\"T_1b952412_0a12_11ea_a6fb_107b449f15fcrow9_col0\" class=\"data row9 col0\" >0.01592</td>\n",
       "            </tr>\n",
       "    </tbody></table><style  type=\"text/css\" >\n",
       "</style><table id=\"T_1b952413_0a12_11ea_a6fb_107b449f15fc\" style='display:inline'><thead>    <tr>        <th class=\"blank level0\" ></th>        <th class=\"col_heading level0 col0\" >topic_29 @word</th>    </tr></thead><tbody>\n",
       "                <tr>\n",
       "                        <th id=\"T_1b952413_0a12_11ea_a6fb_107b449f15fclevel0_row0\" class=\"row_heading level0 row0\" >клетка</th>\n",
       "                        <td id=\"T_1b952413_0a12_11ea_a6fb_107b449f15fcrow0_col0\" class=\"data row0 col0\" >0.03159</td>\n",
       "            </tr>\n",
       "            <tr>\n",
       "                        <th id=\"T_1b952413_0a12_11ea_a6fb_107b449f15fclevel0_row1\" class=\"row_heading level0 row1\" >днк</th>\n",
       "                        <td id=\"T_1b952413_0a12_11ea_a6fb_107b449f15fcrow1_col0\" class=\"data row1 col0\" >0.01462</td>\n",
       "            </tr>\n",
       "            <tr>\n",
       "                        <th id=\"T_1b952413_0a12_11ea_a6fb_107b449f15fclevel0_row2\" class=\"row_heading level0 row2\" >белка</th>\n",
       "                        <td id=\"T_1b952413_0a12_11ea_a6fb_107b449f15fcrow2_col0\" class=\"data row2 col0\" >0.01225</td>\n",
       "            </tr>\n",
       "            <tr>\n",
       "                        <th id=\"T_1b952413_0a12_11ea_a6fb_107b449f15fclevel0_row3\" class=\"row_heading level0 row3\" >молекула</th>\n",
       "                        <td id=\"T_1b952413_0a12_11ea_a6fb_107b449f15fcrow3_col0\" class=\"data row3 col0\" >0.01094</td>\n",
       "            </tr>\n",
       "            <tr>\n",
       "                        <th id=\"T_1b952413_0a12_11ea_a6fb_107b449f15fclevel0_row4\" class=\"row_heading level0 row4\" >белок</th>\n",
       "                        <td id=\"T_1b952413_0a12_11ea_a6fb_107b449f15fcrow4_col0\" class=\"data row4 col0\" >0.00978</td>\n",
       "            </tr>\n",
       "            <tr>\n",
       "                        <th id=\"T_1b952413_0a12_11ea_a6fb_107b449f15fclevel0_row5\" class=\"row_heading level0 row5\" >организм</th>\n",
       "                        <td id=\"T_1b952413_0a12_11ea_a6fb_107b449f15fcrow5_col0\" class=\"data row5 col0\" >0.00691</td>\n",
       "            </tr>\n",
       "            <tr>\n",
       "                        <th id=\"T_1b952413_0a12_11ea_a6fb_107b449f15fclevel0_row6\" class=\"row_heading level0 row6\" >рнк</th>\n",
       "                        <td id=\"T_1b952413_0a12_11ea_a6fb_107b449f15fcrow6_col0\" class=\"data row6 col0\" >0.0068</td>\n",
       "            </tr>\n",
       "            <tr>\n",
       "                        <th id=\"T_1b952413_0a12_11ea_a6fb_107b449f15fclevel0_row7\" class=\"row_heading level0 row7\" >структура</th>\n",
       "                        <td id=\"T_1b952413_0a12_11ea_a6fb_107b449f15fcrow7_col0\" class=\"data row7 col0\" >0.00599</td>\n",
       "            </tr>\n",
       "            <tr>\n",
       "                        <th id=\"T_1b952413_0a12_11ea_a6fb_107b449f15fclevel0_row8\" class=\"row_heading level0 row8\" >происходить</th>\n",
       "                        <td id=\"T_1b952413_0a12_11ea_a6fb_107b449f15fcrow8_col0\" class=\"data row8 col0\" >0.00488</td>\n",
       "            </tr>\n",
       "            <tr>\n",
       "                        <th id=\"T_1b952413_0a12_11ea_a6fb_107b449f15fclevel0_row9\" class=\"row_heading level0 row9\" >вирус</th>\n",
       "                        <td id=\"T_1b952413_0a12_11ea_a6fb_107b449f15fcrow9_col0\" class=\"data row9 col0\" >0.00476</td>\n",
       "            </tr>\n",
       "    </tbody></table>"
      ]
     },
     "metadata": {},
     "output_type": "display_data"
    },
    {
     "data": {
      "text/html": [
       "<b> цитоскелет клеток </b>"
      ]
     },
     "metadata": {},
     "output_type": "display_data"
    },
    {
     "data": {
      "text/html": [
       "<b> репликация днк </b>"
      ]
     },
     "metadata": {},
     "output_type": "display_data"
    },
    {
     "data": {
      "text/html": [
       "<b> ткани животных </b>"
      ]
     },
     "metadata": {},
     "output_type": "display_data"
    },
    {
     "data": {
      "text/html": [
       "<b> молекулярное моделирование </b>"
      ]
     },
     "metadata": {},
     "output_type": "display_data"
    },
    {
     "data": {
      "text/html": [
       "<b> внутренний космос </b>"
      ]
     },
     "metadata": {},
     "output_type": "display_data"
    },
    {
     "data": {
      "text/html": [
       "<b> теория phk-мира </b>"
      ]
     },
     "metadata": {},
     "output_type": "display_data"
    },
    {
     "data": {
      "text/html": [
       "<b> биогенез ядерных телец </b>"
      ]
     },
     "metadata": {},
     "output_type": "display_data"
    },
    {
     "data": {
      "text/html": [
       "<b> зонд на основе днк измеряет силу между клеткой и поверхностью </b>"
      ]
     },
     "metadata": {},
     "output_type": "display_data"
    },
    {
     "data": {
      "text/html": [
       "<b> регионы-организаторы эмбриона </b>"
      ]
     },
     "metadata": {},
     "output_type": "display_data"
    },
    {
     "data": {
      "text/html": [
       "<b> структура прионов дрожжей </b>"
      ]
     },
     "metadata": {},
     "output_type": "display_data"
    },
    {
     "data": {
      "text/html": [
       "<style  type=\"text/css\" >\n",
       "</style><table id=\"T_1b952414_0a12_11ea_a6fb_107b449f15fc\" style='display:inline'><thead>    <tr>        <th class=\"blank level0\" ></th>        <th class=\"col_heading level0 col0\" >topic_30 @post_tag</th>    </tr></thead><tbody>\n",
       "                <tr>\n",
       "                        <th id=\"T_1b952414_0a12_11ea_a6fb_107b449f15fclevel0_row0\" class=\"row_heading level0 row0\" >политика</th>\n",
       "                        <td id=\"T_1b952414_0a12_11ea_a6fb_107b449f15fcrow0_col0\" class=\"data row0 col0\" >0.30786</td>\n",
       "            </tr>\n",
       "            <tr>\n",
       "                        <th id=\"T_1b952414_0a12_11ea_a6fb_107b449f15fclevel0_row1\" class=\"row_heading level0 row1\" >политология</th>\n",
       "                        <td id=\"T_1b952414_0a12_11ea_a6fb_107b449f15fcrow1_col0\" class=\"data row1 col0\" >0.15261</td>\n",
       "            </tr>\n",
       "            <tr>\n",
       "                        <th id=\"T_1b952414_0a12_11ea_a6fb_107b449f15fclevel0_row2\" class=\"row_heading level0 row2\" >демократия</th>\n",
       "                        <td id=\"T_1b952414_0a12_11ea_a6fb_107b449f15fcrow2_col0\" class=\"data row2 col0\" >0.04736</td>\n",
       "            </tr>\n",
       "            <tr>\n",
       "                        <th id=\"T_1b952414_0a12_11ea_a6fb_107b449f15fclevel0_row3\" class=\"row_heading level0 row3\" >либерализм</th>\n",
       "                        <td id=\"T_1b952414_0a12_11ea_a6fb_107b449f15fcrow3_col0\" class=\"data row3 col0\" >0.04736</td>\n",
       "            </tr>\n",
       "            <tr>\n",
       "                        <th id=\"T_1b952414_0a12_11ea_a6fb_107b449f15fclevel0_row4\" class=\"row_heading level0 row4\" >теория_принятия_решений</th>\n",
       "                        <td id=\"T_1b952414_0a12_11ea_a6fb_107b449f15fcrow4_col0\" class=\"data row4 col0\" >0.04473</td>\n",
       "            </tr>\n",
       "            <tr>\n",
       "                        <th id=\"T_1b952414_0a12_11ea_a6fb_107b449f15fclevel0_row5\" class=\"row_heading level0 row5\" >идеология</th>\n",
       "                        <td id=\"T_1b952414_0a12_11ea_a6fb_107b449f15fcrow5_col0\" class=\"data row5 col0\" >0.0421</td>\n",
       "            </tr>\n",
       "            <tr>\n",
       "                        <th id=\"T_1b952414_0a12_11ea_a6fb_107b449f15fclevel0_row6\" class=\"row_heading level0 row6\" >глобализация</th>\n",
       "                        <td id=\"T_1b952414_0a12_11ea_a6fb_107b449f15fcrow6_col0\" class=\"data row6 col0\" >0.03684</td>\n",
       "            </tr>\n",
       "            <tr>\n",
       "                        <th id=\"T_1b952414_0a12_11ea_a6fb_107b449f15fclevel0_row7\" class=\"row_heading level0 row7\" >политический_режим</th>\n",
       "                        <td id=\"T_1b952414_0a12_11ea_a6fb_107b449f15fcrow7_col0\" class=\"data row7 col0\" >0.03421</td>\n",
       "            </tr>\n",
       "            <tr>\n",
       "                        <th id=\"T_1b952414_0a12_11ea_a6fb_107b449f15fclevel0_row8\" class=\"row_heading level0 row8\" >теория_игр</th>\n",
       "                        <td id=\"T_1b952414_0a12_11ea_a6fb_107b449f15fcrow8_col0\" class=\"data row8 col0\" >0.03421</td>\n",
       "            </tr>\n",
       "            <tr>\n",
       "                        <th id=\"T_1b952414_0a12_11ea_a6fb_107b449f15fclevel0_row9\" class=\"row_heading level0 row9\" >культурная_политика</th>\n",
       "                        <td id=\"T_1b952414_0a12_11ea_a6fb_107b449f15fcrow9_col0\" class=\"data row9 col0\" >0.02631</td>\n",
       "            </tr>\n",
       "    </tbody></table><style  type=\"text/css\" >\n",
       "</style><table id=\"T_1b952415_0a12_11ea_a6fb_107b449f15fc\" style='display:inline'><thead>    <tr>        <th class=\"blank level0\" ></th>        <th class=\"col_heading level0 col0\" >topic_30 @word</th>    </tr></thead><tbody>\n",
       "                <tr>\n",
       "                        <th id=\"T_1b952415_0a12_11ea_a6fb_107b449f15fclevel0_row0\" class=\"row_heading level0 row0\" >государство</th>\n",
       "                        <td id=\"T_1b952415_0a12_11ea_a6fb_107b449f15fcrow0_col0\" class=\"data row0 col0\" >0.00872</td>\n",
       "            </tr>\n",
       "            <tr>\n",
       "                        <th id=\"T_1b952415_0a12_11ea_a6fb_107b449f15fclevel0_row1\" class=\"row_heading level0 row1\" >политика</th>\n",
       "                        <td id=\"T_1b952415_0a12_11ea_a6fb_107b449f15fcrow1_col0\" class=\"data row1 col0\" >0.00706</td>\n",
       "            </tr>\n",
       "            <tr>\n",
       "                        <th id=\"T_1b952415_0a12_11ea_a6fb_107b449f15fclevel0_row2\" class=\"row_heading level0 row2\" >власть</th>\n",
       "                        <td id=\"T_1b952415_0a12_11ea_a6fb_107b449f15fcrow2_col0\" class=\"data row2 col0\" >0.00683</td>\n",
       "            </tr>\n",
       "            <tr>\n",
       "                        <th id=\"T_1b952415_0a12_11ea_a6fb_107b449f15fclevel0_row3\" class=\"row_heading level0 row3\" >политический</th>\n",
       "                        <td id=\"T_1b952415_0a12_11ea_a6fb_107b449f15fcrow3_col0\" class=\"data row3 col0\" >0.00636</td>\n",
       "            </tr>\n",
       "            <tr>\n",
       "                        <th id=\"T_1b952415_0a12_11ea_a6fb_107b449f15fclevel0_row4\" class=\"row_heading level0 row4\" >демократия</th>\n",
       "                        <td id=\"T_1b952415_0a12_11ea_a6fb_107b449f15fcrow4_col0\" class=\"data row4 col0\" >0.0059</td>\n",
       "            </tr>\n",
       "            <tr>\n",
       "                        <th id=\"T_1b952415_0a12_11ea_a6fb_107b449f15fclevel0_row5\" class=\"row_heading level0 row5\" >страна</th>\n",
       "                        <td id=\"T_1b952415_0a12_11ea_a6fb_107b449f15fcrow5_col0\" class=\"data row5 col0\" >0.00546</td>\n",
       "            </tr>\n",
       "            <tr>\n",
       "                        <th id=\"T_1b952415_0a12_11ea_a6fb_107b449f15fclevel0_row6\" class=\"row_heading level0 row6\" >свобода</th>\n",
       "                        <td id=\"T_1b952415_0a12_11ea_a6fb_107b449f15fcrow6_col0\" class=\"data row6 col0\" >0.00492</td>\n",
       "            </tr>\n",
       "            <tr>\n",
       "                        <th id=\"T_1b952415_0a12_11ea_a6fb_107b449f15fclevel0_row7\" class=\"row_heading level0 row7\" >общество</th>\n",
       "                        <td id=\"T_1b952415_0a12_11ea_a6fb_107b449f15fcrow7_col0\" class=\"data row7 col0\" >0.00476</td>\n",
       "            </tr>\n",
       "            <tr>\n",
       "                        <th id=\"T_1b952415_0a12_11ea_a6fb_107b449f15fclevel0_row8\" class=\"row_heading level0 row8\" >сторона</th>\n",
       "                        <td id=\"T_1b952415_0a12_11ea_a6fb_107b449f15fcrow8_col0\" class=\"data row8 col0\" >0.00458</td>\n",
       "            </tr>\n",
       "            <tr>\n",
       "                        <th id=\"T_1b952415_0a12_11ea_a6fb_107b449f15fclevel0_row9\" class=\"row_heading level0 row9\" >группа</th>\n",
       "                        <td id=\"T_1b952415_0a12_11ea_a6fb_107b449f15fcrow9_col0\" class=\"data row9 col0\" >0.00429</td>\n",
       "            </tr>\n",
       "    </tbody></table>"
      ]
     },
     "metadata": {},
     "output_type": "display_data"
    },
    {
     "data": {
      "text/html": [
       "<b> мнения избирателей и платформы партий </b>"
      ]
     },
     "metadata": {},
     "output_type": "display_data"
    },
    {
     "data": {
      "text/html": [
       "<b> русский анархизм </b>"
      ]
     },
     "metadata": {},
     "output_type": "display_data"
    },
    {
     "data": {
      "text/html": [
       "<b> faqреспубликанизм и свобода </b>"
      ]
     },
     "metadata": {},
     "output_type": "display_data"
    },
    {
     "data": {
      "text/html": [
       "<b> республиканизм и свобода </b>"
      ]
     },
     "metadata": {},
     "output_type": "display_data"
    },
    {
     "data": {
      "text/html": [
       "<b> государство в теории международных отношений </b>"
      ]
     },
     "metadata": {},
     "output_type": "display_data"
    },
    {
     "data": {
      "text/html": [
       "<b> либерализм в теории международных отношений </b>"
      ]
     },
     "metadata": {},
     "output_type": "display_data"
    },
    {
     "data": {
      "text/html": [
       "<b> главыискаженная демократия </b>"
      ]
     },
     "metadata": {},
     "output_type": "display_data"
    },
    {
     "data": {
      "text/html": [
       "<b> главы # стратегические ходы </b>"
      ]
     },
     "metadata": {},
     "output_type": "display_data"
    },
    {
     "data": {
      "text/html": [
       "<b> главы # дискурс и расизм </b>"
      ]
     },
     "metadata": {},
     "output_type": "display_data"
    },
    {
     "data": {
      "text/html": [
       "<b> выборы президента сша </b>"
      ]
     },
     "metadata": {},
     "output_type": "display_data"
    },
    {
     "data": {
      "text/html": [
       "<style  type=\"text/css\" >\n",
       "</style><table id=\"T_1b952416_0a12_11ea_a6fb_107b449f15fc\" style='display:inline'><thead>    <tr>        <th class=\"blank level0\" ></th>        <th class=\"col_heading level0 col0\" >topic_31 @post_tag</th>    </tr></thead><tbody>\n",
       "                <tr>\n",
       "                        <th id=\"T_1b952416_0a12_11ea_a6fb_107b449f15fclevel0_row0\" class=\"row_heading level0 row0\" >философия</th>\n",
       "                        <td id=\"T_1b952416_0a12_11ea_a6fb_107b449f15fcrow0_col0\" class=\"data row0 col0\" >0.40902</td>\n",
       "            </tr>\n",
       "            <tr>\n",
       "                        <th id=\"T_1b952416_0a12_11ea_a6fb_107b449f15fclevel0_row1\" class=\"row_heading level0 row1\" >мифология</th>\n",
       "                        <td id=\"T_1b952416_0a12_11ea_a6fb_107b449f15fcrow1_col0\" class=\"data row1 col0\" >0.07316</td>\n",
       "            </tr>\n",
       "            <tr>\n",
       "                        <th id=\"T_1b952416_0a12_11ea_a6fb_107b449f15fclevel0_row2\" class=\"row_heading level0 row2\" >античность</th>\n",
       "                        <td id=\"T_1b952416_0a12_11ea_a6fb_107b449f15fcrow2_col0\" class=\"data row2 col0\" >0.05321</td>\n",
       "            </tr>\n",
       "            <tr>\n",
       "                        <th id=\"T_1b952416_0a12_11ea_a6fb_107b449f15fclevel0_row3\" class=\"row_heading level0 row3\" >древняя_греция</th>\n",
       "                        <td id=\"T_1b952416_0a12_11ea_a6fb_107b449f15fcrow3_col0\" class=\"data row3 col0\" >0.05321</td>\n",
       "            </tr>\n",
       "            <tr>\n",
       "                        <th id=\"T_1b952416_0a12_11ea_a6fb_107b449f15fclevel0_row4\" class=\"row_heading level0 row4\" >миф</th>\n",
       "                        <td id=\"T_1b952416_0a12_11ea_a6fb_107b449f15fcrow4_col0\" class=\"data row4 col0\" >0.05154</td>\n",
       "            </tr>\n",
       "            <tr>\n",
       "                        <th id=\"T_1b952416_0a12_11ea_a6fb_107b449f15fclevel0_row5\" class=\"row_heading level0 row5\" >кант_иммануил</th>\n",
       "                        <td id=\"T_1b952416_0a12_11ea_a6fb_107b449f15fcrow5_col0\" class=\"data row5 col0\" >0.04656</td>\n",
       "            </tr>\n",
       "            <tr>\n",
       "                        <th id=\"T_1b952416_0a12_11ea_a6fb_107b449f15fclevel0_row6\" class=\"row_heading level0 row6\" >история_философии</th>\n",
       "                        <td id=\"T_1b952416_0a12_11ea_a6fb_107b449f15fcrow6_col0\" class=\"data row6 col0\" >0.04656</td>\n",
       "            </tr>\n",
       "            <tr>\n",
       "                        <th id=\"T_1b952416_0a12_11ea_a6fb_107b449f15fclevel0_row7\" class=\"row_heading level0 row7\" >аристотель</th>\n",
       "                        <td id=\"T_1b952416_0a12_11ea_a6fb_107b449f15fcrow7_col0\" class=\"data row7 col0\" >0.04157</td>\n",
       "            </tr>\n",
       "            <tr>\n",
       "                        <th id=\"T_1b952416_0a12_11ea_a6fb_107b449f15fclevel0_row8\" class=\"row_heading level0 row8\" >платон</th>\n",
       "                        <td id=\"T_1b952416_0a12_11ea_a6fb_107b449f15fcrow8_col0\" class=\"data row8 col0\" >0.0399</td>\n",
       "            </tr>\n",
       "            <tr>\n",
       "                        <th id=\"T_1b952416_0a12_11ea_a6fb_107b449f15fclevel0_row9\" class=\"row_heading level0 row9\" >сократ</th>\n",
       "                        <td id=\"T_1b952416_0a12_11ea_a6fb_107b449f15fcrow9_col0\" class=\"data row9 col0\" >0.01995</td>\n",
       "            </tr>\n",
       "    </tbody></table><style  type=\"text/css\" >\n",
       "</style><table id=\"T_1b952417_0a12_11ea_a6fb_107b449f15fc\" style='display:inline'><thead>    <tr>        <th class=\"blank level0\" ></th>        <th class=\"col_heading level0 col0\" >topic_31 @word</th>    </tr></thead><tbody>\n",
       "                <tr>\n",
       "                        <th id=\"T_1b952417_0a12_11ea_a6fb_107b449f15fclevel0_row0\" class=\"row_heading level0 row0\" >философия</th>\n",
       "                        <td id=\"T_1b952417_0a12_11ea_a6fb_107b449f15fcrow0_col0\" class=\"data row0 col0\" >0.01086</td>\n",
       "            </tr>\n",
       "            <tr>\n",
       "                        <th id=\"T_1b952417_0a12_11ea_a6fb_107b449f15fclevel0_row1\" class=\"row_heading level0 row1\" >философ</th>\n",
       "                        <td id=\"T_1b952417_0a12_11ea_a6fb_107b449f15fcrow1_col0\" class=\"data row1 col0\" >0.00775</td>\n",
       "            </tr>\n",
       "            <tr>\n",
       "                        <th id=\"T_1b952417_0a12_11ea_a6fb_107b449f15fclevel0_row2\" class=\"row_heading level0 row2\" >говорить</th>\n",
       "                        <td id=\"T_1b952417_0a12_11ea_a6fb_107b449f15fcrow2_col0\" class=\"data row2 col0\" >0.00689</td>\n",
       "            </tr>\n",
       "            <tr>\n",
       "                        <th id=\"T_1b952417_0a12_11ea_a6fb_107b449f15fclevel0_row3\" class=\"row_heading level0 row3\" >миф</th>\n",
       "                        <td id=\"T_1b952417_0a12_11ea_a6fb_107b449f15fcrow3_col0\" class=\"data row3 col0\" >0.00534</td>\n",
       "            </tr>\n",
       "            <tr>\n",
       "                        <th id=\"T_1b952417_0a12_11ea_a6fb_107b449f15fclevel0_row4\" class=\"row_heading level0 row4\" >философский</th>\n",
       "                        <td id=\"T_1b952417_0a12_11ea_a6fb_107b449f15fcrow4_col0\" class=\"data row4 col0\" >0.00501</td>\n",
       "            </tr>\n",
       "            <tr>\n",
       "                        <th id=\"T_1b952417_0a12_11ea_a6fb_107b449f15fclevel0_row5\" class=\"row_heading level0 row5\" >книга</th>\n",
       "                        <td id=\"T_1b952417_0a12_11ea_a6fb_107b449f15fcrow5_col0\" class=\"data row5 col0\" >0.00495</td>\n",
       "            </tr>\n",
       "            <tr>\n",
       "                        <th id=\"T_1b952417_0a12_11ea_a6fb_107b449f15fclevel0_row6\" class=\"row_heading level0 row6\" >представление</th>\n",
       "                        <td id=\"T_1b952417_0a12_11ea_a6fb_107b449f15fcrow6_col0\" class=\"data row6 col0\" >0.00473</td>\n",
       "            </tr>\n",
       "            <tr>\n",
       "                        <th id=\"T_1b952417_0a12_11ea_a6fb_107b449f15fclevel0_row7\" class=\"row_heading level0 row7\" >бог</th>\n",
       "                        <td id=\"T_1b952417_0a12_11ea_a6fb_107b449f15fcrow7_col0\" class=\"data row7 col0\" >0.00454</td>\n",
       "            </tr>\n",
       "            <tr>\n",
       "                        <th id=\"T_1b952417_0a12_11ea_a6fb_107b449f15fclevel0_row8\" class=\"row_heading level0 row8\" >знание</th>\n",
       "                        <td id=\"T_1b952417_0a12_11ea_a6fb_107b449f15fcrow8_col0\" class=\"data row8 col0\" >0.00443</td>\n",
       "            </tr>\n",
       "            <tr>\n",
       "                        <th id=\"T_1b952417_0a12_11ea_a6fb_107b449f15fclevel0_row9\" class=\"row_heading level0 row9\" >наука</th>\n",
       "                        <td id=\"T_1b952417_0a12_11ea_a6fb_107b449f15fcrow9_col0\" class=\"data row9 col0\" >0.00443</td>\n",
       "            </tr>\n",
       "    </tbody></table>"
      ]
     },
     "metadata": {},
     "output_type": "display_data"
    },
    {
     "data": {
      "text/html": [
       "<b> «теория прибавочного элемента»  к. малевича </b>"
      ]
     },
     "metadata": {},
     "output_type": "display_data"
    },
    {
     "data": {
      "text/html": [
       "<b> ироническая эстетика зольгера </b>"
      ]
     },
     "metadata": {},
     "output_type": "display_data"
    },
    {
     "data": {
      "text/html": [
       "<b> риторическая рука </b>"
      ]
     },
     "metadata": {},
     "output_type": "display_data"
    },
    {
     "data": {
      "text/html": [
       "<b> немецкая классическая философия как понятие </b>"
      ]
     },
     "metadata": {},
     "output_type": "display_data"
    },
    {
     "data": {
      "text/html": [
       "<b> эрос в античной культуре </b>"
      ]
     },
     "metadata": {},
     "output_type": "display_data"
    },
    {
     "data": {
      "text/html": [
       "<b> риторика </b>"
      ]
     },
     "metadata": {},
     "output_type": "display_data"
    },
    {
     "data": {
      "text/html": [
       "<b> категория пространства в мифе </b>"
      ]
     },
     "metadata": {},
     "output_type": "display_data"
    },
    {
     "data": {
      "text/html": [
       "<b> гегель сегодня </b>"
      ]
     },
     "metadata": {},
     "output_type": "display_data"
    },
    {
     "data": {
      "text/html": [
       "<b> faqнемецкая классическая философия как понятие </b>"
      ]
     },
     "metadata": {},
     "output_type": "display_data"
    },
    {
     "data": {
      "text/html": [
       "<b> faqэрос в античной культуре </b>"
      ]
     },
     "metadata": {},
     "output_type": "display_data"
    },
    {
     "data": {
      "text/html": [
       "<style  type=\"text/css\" >\n",
       "</style><table id=\"T_1b952418_0a12_11ea_a6fb_107b449f15fc\" style='display:inline'><thead>    <tr>        <th class=\"blank level0\" ></th>        <th class=\"col_heading level0 col0\" >topic_32 @post_tag</th>    </tr></thead><tbody>\n",
       "                <tr>\n",
       "                        <th id=\"T_1b952418_0a12_11ea_a6fb_107b449f15fclevel0_row0\" class=\"row_heading level0 row0\" >право</th>\n",
       "                        <td id=\"T_1b952418_0a12_11ea_a6fb_107b449f15fcrow0_col0\" class=\"data row0 col0\" >0.20962</td>\n",
       "            </tr>\n",
       "            <tr>\n",
       "                        <th id=\"T_1b952418_0a12_11ea_a6fb_107b449f15fclevel0_row1\" class=\"row_heading level0 row1\" >политическая_философия</th>\n",
       "                        <td id=\"T_1b952418_0a12_11ea_a6fb_107b449f15fcrow1_col0\" class=\"data row1 col0\" >0.10725</td>\n",
       "            </tr>\n",
       "            <tr>\n",
       "                        <th id=\"T_1b952418_0a12_11ea_a6fb_107b449f15fclevel0_row2\" class=\"row_heading level0 row2\" >юриспруденция</th>\n",
       "                        <td id=\"T_1b952418_0a12_11ea_a6fb_107b449f15fcrow2_col0\" class=\"data row2 col0\" >0.10237</td>\n",
       "            </tr>\n",
       "            <tr>\n",
       "                        <th id=\"T_1b952418_0a12_11ea_a6fb_107b449f15fclevel0_row3\" class=\"row_heading level0 row3\" >власть</th>\n",
       "                        <td id=\"T_1b952418_0a12_11ea_a6fb_107b449f15fcrow3_col0\" class=\"data row3 col0\" >0.08775</td>\n",
       "            </tr>\n",
       "            <tr>\n",
       "                        <th id=\"T_1b952418_0a12_11ea_a6fb_107b449f15fclevel0_row4\" class=\"row_heading level0 row4\" >римское_право</th>\n",
       "                        <td id=\"T_1b952418_0a12_11ea_a6fb_107b449f15fcrow4_col0\" class=\"data row4 col0\" >0.07556</td>\n",
       "            </tr>\n",
       "            <tr>\n",
       "                        <th id=\"T_1b952418_0a12_11ea_a6fb_107b449f15fclevel0_row5\" class=\"row_heading level0 row5\" >рим</th>\n",
       "                        <td id=\"T_1b952418_0a12_11ea_a6fb_107b449f15fcrow5_col0\" class=\"data row5 col0\" >0.06337</td>\n",
       "            </tr>\n",
       "            <tr>\n",
       "                        <th id=\"T_1b952418_0a12_11ea_a6fb_107b449f15fclevel0_row6\" class=\"row_heading level0 row6\" >социология_права</th>\n",
       "                        <td id=\"T_1b952418_0a12_11ea_a6fb_107b449f15fcrow6_col0\" class=\"data row6 col0\" >0.039</td>\n",
       "            </tr>\n",
       "            <tr>\n",
       "                        <th id=\"T_1b952418_0a12_11ea_a6fb_107b449f15fclevel0_row7\" class=\"row_heading level0 row7\" >история_права</th>\n",
       "                        <td id=\"T_1b952418_0a12_11ea_a6fb_107b449f15fcrow7_col0\" class=\"data row7 col0\" >0.03656</td>\n",
       "            </tr>\n",
       "            <tr>\n",
       "                        <th id=\"T_1b952418_0a12_11ea_a6fb_107b449f15fclevel0_row8\" class=\"row_heading level0 row8\" >мораль</th>\n",
       "                        <td id=\"T_1b952418_0a12_11ea_a6fb_107b449f15fcrow8_col0\" class=\"data row8 col0\" >0.02681</td>\n",
       "            </tr>\n",
       "            <tr>\n",
       "                        <th id=\"T_1b952418_0a12_11ea_a6fb_107b449f15fclevel0_row9\" class=\"row_heading level0 row9\" >римская_империя</th>\n",
       "                        <td id=\"T_1b952418_0a12_11ea_a6fb_107b449f15fcrow9_col0\" class=\"data row9 col0\" >0.02437</td>\n",
       "            </tr>\n",
       "    </tbody></table><style  type=\"text/css\" >\n",
       "</style><table id=\"T_1b952419_0a12_11ea_a6fb_107b449f15fc\" style='display:inline'><thead>    <tr>        <th class=\"blank level0\" ></th>        <th class=\"col_heading level0 col0\" >topic_32 @word</th>    </tr></thead><tbody>\n",
       "                <tr>\n",
       "                        <th id=\"T_1b952419_0a12_11ea_a6fb_107b449f15fclevel0_row0\" class=\"row_heading level0 row0\" >право</th>\n",
       "                        <td id=\"T_1b952419_0a12_11ea_a6fb_107b449f15fcrow0_col0\" class=\"data row0 col0\" >0.02232</td>\n",
       "            </tr>\n",
       "            <tr>\n",
       "                        <th id=\"T_1b952419_0a12_11ea_a6fb_107b449f15fclevel0_row1\" class=\"row_heading level0 row1\" >закон</th>\n",
       "                        <td id=\"T_1b952419_0a12_11ea_a6fb_107b449f15fcrow1_col0\" class=\"data row1 col0\" >0.01221</td>\n",
       "            </tr>\n",
       "            <tr>\n",
       "                        <th id=\"T_1b952419_0a12_11ea_a6fb_107b449f15fclevel0_row2\" class=\"row_heading level0 row2\" >власть</th>\n",
       "                        <td id=\"T_1b952419_0a12_11ea_a6fb_107b449f15fcrow2_col0\" class=\"data row2 col0\" >0.0086</td>\n",
       "            </tr>\n",
       "            <tr>\n",
       "                        <th id=\"T_1b952419_0a12_11ea_a6fb_107b449f15fclevel0_row3\" class=\"row_heading level0 row3\" >суд</th>\n",
       "                        <td id=\"T_1b952419_0a12_11ea_a6fb_107b449f15fcrow3_col0\" class=\"data row3 col0\" >0.00636</td>\n",
       "            </tr>\n",
       "            <tr>\n",
       "                        <th id=\"T_1b952419_0a12_11ea_a6fb_107b449f15fclevel0_row4\" class=\"row_heading level0 row4\" >юрист</th>\n",
       "                        <td id=\"T_1b952419_0a12_11ea_a6fb_107b449f15fcrow4_col0\" class=\"data row4 col0\" >0.0047</td>\n",
       "            </tr>\n",
       "            <tr>\n",
       "                        <th id=\"T_1b952419_0a12_11ea_a6fb_107b449f15fclevel0_row5\" class=\"row_heading level0 row5\" >правовой</th>\n",
       "                        <td id=\"T_1b952419_0a12_11ea_a6fb_107b449f15fcrow5_col0\" class=\"data row5 col0\" >0.00462</td>\n",
       "            </tr>\n",
       "            <tr>\n",
       "                        <th id=\"T_1b952419_0a12_11ea_a6fb_107b449f15fclevel0_row6\" class=\"row_heading level0 row6\" >судья</th>\n",
       "                        <td id=\"T_1b952419_0a12_11ea_a6fb_107b449f15fcrow6_col0\" class=\"data row6 col0\" >0.00412</td>\n",
       "            </tr>\n",
       "            <tr>\n",
       "                        <th id=\"T_1b952419_0a12_11ea_a6fb_107b449f15fclevel0_row7\" class=\"row_heading level0 row7\" >общество</th>\n",
       "                        <td id=\"T_1b952419_0a12_11ea_a6fb_107b449f15fcrow7_col0\" class=\"data row7 col0\" >0.0041</td>\n",
       "            </tr>\n",
       "            <tr>\n",
       "                        <th id=\"T_1b952419_0a12_11ea_a6fb_107b449f15fclevel0_row8\" class=\"row_heading level0 row8\" >должный</th>\n",
       "                        <td id=\"T_1b952419_0a12_11ea_a6fb_107b449f15fcrow8_col0\" class=\"data row8 col0\" >0.00393</td>\n",
       "            </tr>\n",
       "            <tr>\n",
       "                        <th id=\"T_1b952419_0a12_11ea_a6fb_107b449f15fclevel0_row9\" class=\"row_heading level0 row9\" >король</th>\n",
       "                        <td id=\"T_1b952419_0a12_11ea_a6fb_107b449f15fcrow9_col0\" class=\"data row9 col0\" >0.00391</td>\n",
       "            </tr>\n",
       "    </tbody></table>"
      ]
     },
     "metadata": {},
     "output_type": "display_data"
    },
    {
     "data": {
      "text/html": [
       "<b> купля-продажа </b>"
      ]
     },
     "metadata": {},
     "output_type": "display_data"
    },
    {
     "data": {
      "text/html": [
       "<b> владение </b>"
      ]
     },
     "metadata": {},
     "output_type": "display_data"
    },
    {
     "data": {
      "text/html": [
       "<b> лица </b>"
      ]
     },
     "metadata": {},
     "output_type": "display_data"
    },
    {
     "data": {
      "text/html": [
       "<b> обязательства </b>"
      ]
     },
     "metadata": {},
     "output_type": "display_data"
    },
    {
     "data": {
      "text/html": [
       "<b> приобретательная давность </b>"
      ]
     },
     "metadata": {},
     "output_type": "display_data"
    },
    {
     "data": {
      "text/html": [
       "<b> источники римского права </b>"
      ]
     },
     "metadata": {},
     "output_type": "display_data"
    },
    {
     "data": {
      "text/html": [
       "<b> контракты </b>"
      ]
     },
     "metadata": {},
     "output_type": "display_data"
    },
    {
     "data": {
      "text/html": [
       "<b> сервитуты </b>"
      ]
     },
     "metadata": {},
     "output_type": "display_data"
    },
    {
     "data": {
      "text/html": [
       "<b> залог </b>"
      ]
     },
     "metadata": {},
     "output_type": "display_data"
    },
    {
     "data": {
      "text/html": [
       "<b> вещные права </b>"
      ]
     },
     "metadata": {},
     "output_type": "display_data"
    },
    {
     "data": {
      "text/html": [
       "<style  type=\"text/css\" >\n",
       "</style><table id=\"T_1b95241a_0a12_11ea_a6fb_107b449f15fc\" style='display:inline'><thead>    <tr>        <th class=\"blank level0\" ></th>        <th class=\"col_heading level0 col0\" >topic_33 @post_tag</th>    </tr></thead><tbody>\n",
       "                <tr>\n",
       "                        <th id=\"T_1b95241a_0a12_11ea_a6fb_107b449f15fclevel0_row0\" class=\"row_heading level0 row0\" >квантовая_физика</th>\n",
       "                        <td id=\"T_1b95241a_0a12_11ea_a6fb_107b449f15fcrow0_col0\" class=\"data row0 col0\" >0.1273</td>\n",
       "            </tr>\n",
       "            <tr>\n",
       "                        <th id=\"T_1b95241a_0a12_11ea_a6fb_107b449f15fclevel0_row1\" class=\"row_heading level0 row1\" >атом</th>\n",
       "                        <td id=\"T_1b95241a_0a12_11ea_a6fb_107b449f15fcrow1_col0\" class=\"data row1 col0\" >0.09062</td>\n",
       "            </tr>\n",
       "            <tr>\n",
       "                        <th id=\"T_1b95241a_0a12_11ea_a6fb_107b449f15fclevel0_row2\" class=\"row_heading level0 row2\" >квантовая_механика</th>\n",
       "                        <td id=\"T_1b95241a_0a12_11ea_a6fb_107b449f15fcrow2_col0\" class=\"data row2 col0\" >0.06904</td>\n",
       "            </tr>\n",
       "            <tr>\n",
       "                        <th id=\"T_1b95241a_0a12_11ea_a6fb_107b449f15fclevel0_row3\" class=\"row_heading level0 row3\" >магнитное_поле</th>\n",
       "                        <td id=\"T_1b95241a_0a12_11ea_a6fb_107b449f15fcrow3_col0\" class=\"data row3 col0\" >0.06473</td>\n",
       "            </tr>\n",
       "            <tr>\n",
       "                        <th id=\"T_1b95241a_0a12_11ea_a6fb_107b449f15fclevel0_row4\" class=\"row_heading level0 row4\" >электрон</th>\n",
       "                        <td id=\"T_1b95241a_0a12_11ea_a6fb_107b449f15fcrow4_col0\" class=\"data row4 col0\" >0.06257</td>\n",
       "            </tr>\n",
       "            <tr>\n",
       "                        <th id=\"T_1b95241a_0a12_11ea_a6fb_107b449f15fclevel0_row5\" class=\"row_heading level0 row5\" >фотоны</th>\n",
       "                        <td id=\"T_1b95241a_0a12_11ea_a6fb_107b449f15fcrow5_col0\" class=\"data row5 col0\" >0.05826</td>\n",
       "            </tr>\n",
       "            <tr>\n",
       "                        <th id=\"T_1b95241a_0a12_11ea_a6fb_107b449f15fclevel0_row6\" class=\"row_heading level0 row6\" >квантовые_технологии</th>\n",
       "                        <td id=\"T_1b95241a_0a12_11ea_a6fb_107b449f15fcrow6_col0\" class=\"data row6 col0\" >0.05394</td>\n",
       "            </tr>\n",
       "            <tr>\n",
       "                        <th id=\"T_1b95241a_0a12_11ea_a6fb_107b449f15fclevel0_row7\" class=\"row_heading level0 row7\" >оптика</th>\n",
       "                        <td id=\"T_1b95241a_0a12_11ea_a6fb_107b449f15fcrow7_col0\" class=\"data row7 col0\" >0.04747</td>\n",
       "            </tr>\n",
       "            <tr>\n",
       "                        <th id=\"T_1b95241a_0a12_11ea_a6fb_107b449f15fclevel0_row8\" class=\"row_heading level0 row8\" >лазер</th>\n",
       "                        <td id=\"T_1b95241a_0a12_11ea_a6fb_107b449f15fcrow8_col0\" class=\"data row8 col0\" >0.04315</td>\n",
       "            </tr>\n",
       "            <tr>\n",
       "                        <th id=\"T_1b95241a_0a12_11ea_a6fb_107b449f15fclevel0_row9\" class=\"row_heading level0 row9\" >эйнштейн_альберт</th>\n",
       "                        <td id=\"T_1b95241a_0a12_11ea_a6fb_107b449f15fcrow9_col0\" class=\"data row9 col0\" >0.03884</td>\n",
       "            </tr>\n",
       "    </tbody></table><style  type=\"text/css\" >\n",
       "</style><table id=\"T_1b95241b_0a12_11ea_a6fb_107b449f15fc\" style='display:inline'><thead>    <tr>        <th class=\"blank level0\" ></th>        <th class=\"col_heading level0 col0\" >topic_33 @word</th>    </tr></thead><tbody>\n",
       "                <tr>\n",
       "                        <th id=\"T_1b95241b_0a12_11ea_a6fb_107b449f15fclevel0_row0\" class=\"row_heading level0 row0\" >атом</th>\n",
       "                        <td id=\"T_1b95241b_0a12_11ea_a6fb_107b449f15fcrow0_col0\" class=\"data row0 col0\" >0.00991</td>\n",
       "            </tr>\n",
       "            <tr>\n",
       "                        <th id=\"T_1b95241b_0a12_11ea_a6fb_107b449f15fclevel0_row1\" class=\"row_heading level0 row1\" >электрон</th>\n",
       "                        <td id=\"T_1b95241b_0a12_11ea_a6fb_107b449f15fcrow1_col0\" class=\"data row1 col0\" >0.00844</td>\n",
       "            </tr>\n",
       "            <tr>\n",
       "                        <th id=\"T_1b95241b_0a12_11ea_a6fb_107b449f15fclevel0_row2\" class=\"row_heading level0 row2\" >свет</th>\n",
       "                        <td id=\"T_1b95241b_0a12_11ea_a6fb_107b449f15fcrow2_col0\" class=\"data row2 col0\" >0.00808</td>\n",
       "            </tr>\n",
       "            <tr>\n",
       "                        <th id=\"T_1b95241b_0a12_11ea_a6fb_107b449f15fclevel0_row3\" class=\"row_heading level0 row3\" >фотон</th>\n",
       "                        <td id=\"T_1b95241b_0a12_11ea_a6fb_107b449f15fcrow3_col0\" class=\"data row3 col0\" >0.00792</td>\n",
       "            </tr>\n",
       "            <tr>\n",
       "                        <th id=\"T_1b95241b_0a12_11ea_a6fb_107b449f15fclevel0_row4\" class=\"row_heading level0 row4\" >система</th>\n",
       "                        <td id=\"T_1b95241b_0a12_11ea_a6fb_107b449f15fcrow4_col0\" class=\"data row4 col0\" >0.00647</td>\n",
       "            </tr>\n",
       "            <tr>\n",
       "                        <th id=\"T_1b95241b_0a12_11ea_a6fb_107b449f15fclevel0_row5\" class=\"row_heading level0 row5\" >квантовый</th>\n",
       "                        <td id=\"T_1b95241b_0a12_11ea_a6fb_107b449f15fcrow5_col0\" class=\"data row5 col0\" >0.00535</td>\n",
       "            </tr>\n",
       "            <tr>\n",
       "                        <th id=\"T_1b95241b_0a12_11ea_a6fb_107b449f15fclevel0_row6\" class=\"row_heading level0 row6\" >использовать</th>\n",
       "                        <td id=\"T_1b95241b_0a12_11ea_a6fb_107b449f15fcrow6_col0\" class=\"data row6 col0\" >0.00493</td>\n",
       "            </tr>\n",
       "            <tr>\n",
       "                        <th id=\"T_1b95241b_0a12_11ea_a6fb_107b449f15fclevel0_row7\" class=\"row_heading level0 row7\" >являться</th>\n",
       "                        <td id=\"T_1b95241b_0a12_11ea_a6fb_107b449f15fcrow7_col0\" class=\"data row7 col0\" >0.00481</td>\n",
       "            </tr>\n",
       "            <tr>\n",
       "                        <th id=\"T_1b95241b_0a12_11ea_a6fb_107b449f15fclevel0_row8\" class=\"row_heading level0 row8\" >частица</th>\n",
       "                        <td id=\"T_1b95241b_0a12_11ea_a6fb_107b449f15fcrow8_col0\" class=\"data row8 col0\" >0.0047</td>\n",
       "            </tr>\n",
       "            <tr>\n",
       "                        <th id=\"T_1b95241b_0a12_11ea_a6fb_107b449f15fclevel0_row9\" class=\"row_heading level0 row9\" >состояние</th>\n",
       "                        <td id=\"T_1b95241b_0a12_11ea_a6fb_107b449f15fcrow9_col0\" class=\"data row9 col0\" >0.00447</td>\n",
       "            </tr>\n",
       "    </tbody></table>"
      ]
     },
     "metadata": {},
     "output_type": "display_data"
    },
    {
     "data": {
      "text/html": [
       "<b> диалогиуправление светом с помощью плазмонов </b>"
      ]
     },
     "metadata": {},
     "output_type": "display_data"
    },
    {
     "data": {
      "text/html": [
       "<b> телепортация </b>"
      ]
     },
     "metadata": {},
     "output_type": "display_data"
    },
    {
     "data": {
      "text/html": [
       "<b> перераспределительное лазерное охлаждение </b>"
      ]
     },
     "metadata": {},
     "output_type": "display_data"
    },
    {
     "data": {
      "text/html": [
       "<b> плазмонные наноструктуры </b>"
      ]
     },
     "metadata": {},
     "output_type": "display_data"
    },
    {
     "data": {
      "text/html": [
       "<b> квантовые интерфейсы </b>"
      ]
     },
     "metadata": {},
     "output_type": "display_data"
    },
    {
     "data": {
      "text/html": [
       "<b> аттосекундная физика </b>"
      ]
     },
     "metadata": {},
     "output_type": "display_data"
    },
    {
     "data": {
      "text/html": [
       "<b> перспективыквантовая оптика и квантовая телепортация </b>"
      ]
     },
     "metadata": {},
     "output_type": "display_data"
    },
    {
     "data": {
      "text/html": [
       "<b> создан наноразмерный элемент, нарушающий симметрию рассеяния света </b>"
      ]
     },
     "metadata": {},
     "output_type": "display_data"
    },
    {
     "data": {
      "text/html": [
       "<b> магнитная динамика наносистем </b>"
      ]
     },
     "metadata": {},
     "output_type": "display_data"
    },
    {
     "data": {
      "text/html": [
       "<b> нанофотоника </b>"
      ]
     },
     "metadata": {},
     "output_type": "display_data"
    },
    {
     "data": {
      "text/html": [
       "<style  type=\"text/css\" >\n",
       "</style><table id=\"T_1b95241c_0a12_11ea_a6fb_107b449f15fc\" style='display:inline'><thead>    <tr>        <th class=\"blank level0\" ></th>        <th class=\"col_heading level0 col0\" >topic_34 @post_tag</th>    </tr></thead><tbody>\n",
       "                <tr>\n",
       "                        <th id=\"T_1b95241c_0a12_11ea_a6fb_107b449f15fclevel0_row0\" class=\"row_heading level0 row0\" >история</th>\n",
       "                        <td id=\"T_1b95241c_0a12_11ea_a6fb_107b449f15fcrow0_col0\" class=\"data row0 col0\" >0.36713</td>\n",
       "            </tr>\n",
       "            <tr>\n",
       "                        <th id=\"T_1b95241c_0a12_11ea_a6fb_107b449f15fclevel0_row1\" class=\"row_heading level0 row1\" >история_россии</th>\n",
       "                        <td id=\"T_1b95241c_0a12_11ea_a6fb_107b449f15fcrow1_col0\" class=\"data row1 col0\" >0.18236</td>\n",
       "            </tr>\n",
       "            <tr>\n",
       "                        <th id=\"T_1b95241c_0a12_11ea_a6fb_107b449f15fclevel0_row2\" class=\"row_heading level0 row2\" >ссср</th>\n",
       "                        <td id=\"T_1b95241c_0a12_11ea_a6fb_107b449f15fcrow2_col0\" class=\"data row2 col0\" >0.15225</td>\n",
       "            </tr>\n",
       "            <tr>\n",
       "                        <th id=\"T_1b95241c_0a12_11ea_a6fb_107b449f15fclevel0_row3\" class=\"row_heading level0 row3\" >историография</th>\n",
       "                        <td id=\"T_1b95241c_0a12_11ea_a6fb_107b449f15fcrow3_col0\" class=\"data row3 col0\" >0.03681</td>\n",
       "            </tr>\n",
       "            <tr>\n",
       "                        <th id=\"T_1b95241c_0a12_11ea_a6fb_107b449f15fclevel0_row4\" class=\"row_heading level0 row4\" >сталин_иосиф</th>\n",
       "                        <td id=\"T_1b95241c_0a12_11ea_a6fb_107b449f15fcrow4_col0\" class=\"data row4 col0\" >0.03179</td>\n",
       "            </tr>\n",
       "            <tr>\n",
       "                        <th id=\"T_1b95241c_0a12_11ea_a6fb_107b449f15fclevel0_row5\" class=\"row_heading level0 row5\" >вторая_мировая_война</th>\n",
       "                        <td id=\"T_1b95241c_0a12_11ea_a6fb_107b449f15fcrow5_col0\" class=\"data row5 col0\" >0.02844</td>\n",
       "            </tr>\n",
       "            <tr>\n",
       "                        <th id=\"T_1b95241c_0a12_11ea_a6fb_107b449f15fclevel0_row6\" class=\"row_heading level0 row6\" >петр_i</th>\n",
       "                        <td id=\"T_1b95241c_0a12_11ea_a6fb_107b449f15fcrow6_col0\" class=\"data row6 col0\" >0.0251</td>\n",
       "            </tr>\n",
       "            <tr>\n",
       "                        <th id=\"T_1b95241c_0a12_11ea_a6fb_107b449f15fclevel0_row7\" class=\"row_heading level0 row7\" >историческая_память</th>\n",
       "                        <td id=\"T_1b95241c_0a12_11ea_a6fb_107b449f15fcrow7_col0\" class=\"data row7 col0\" >0.0251</td>\n",
       "            </tr>\n",
       "            <tr>\n",
       "                        <th id=\"T_1b95241c_0a12_11ea_a6fb_107b449f15fclevel0_row8\" class=\"row_heading level0 row8\" >терроризм</th>\n",
       "                        <td id=\"T_1b95241c_0a12_11ea_a6fb_107b449f15fcrow8_col0\" class=\"data row8 col0\" >0.0184</td>\n",
       "            </tr>\n",
       "            <tr>\n",
       "                        <th id=\"T_1b95241c_0a12_11ea_a6fb_107b449f15fclevel0_row9\" class=\"row_heading level0 row9\" >украина</th>\n",
       "                        <td id=\"T_1b95241c_0a12_11ea_a6fb_107b449f15fcrow9_col0\" class=\"data row9 col0\" >0.01673</td>\n",
       "            </tr>\n",
       "    </tbody></table><style  type=\"text/css\" >\n",
       "</style><table id=\"T_1b95241d_0a12_11ea_a6fb_107b449f15fc\" style='display:inline'><thead>    <tr>        <th class=\"blank level0\" ></th>        <th class=\"col_heading level0 col0\" >topic_34 @word</th>    </tr></thead><tbody>\n",
       "                <tr>\n",
       "                        <th id=\"T_1b95241d_0a12_11ea_a6fb_107b449f15fclevel0_row0\" class=\"row_heading level0 row0\" >история</th>\n",
       "                        <td id=\"T_1b95241d_0a12_11ea_a6fb_107b449f15fcrow0_col0\" class=\"data row0 col0\" >0.00896</td>\n",
       "            </tr>\n",
       "            <tr>\n",
       "                        <th id=\"T_1b95241d_0a12_11ea_a6fb_107b449f15fclevel0_row1\" class=\"row_heading level0 row1\" >сталин</th>\n",
       "                        <td id=\"T_1b95241d_0a12_11ea_a6fb_107b449f15fcrow1_col0\" class=\"data row1 col0\" >0.00743</td>\n",
       "            </tr>\n",
       "            <tr>\n",
       "                        <th id=\"T_1b95241d_0a12_11ea_a6fb_107b449f15fclevel0_row2\" class=\"row_heading level0 row2\" >историк</th>\n",
       "                        <td id=\"T_1b95241d_0a12_11ea_a6fb_107b449f15fcrow2_col0\" class=\"data row2 col0\" >0.00543</td>\n",
       "            </tr>\n",
       "            <tr>\n",
       "                        <th id=\"T_1b95241d_0a12_11ea_a6fb_107b449f15fclevel0_row3\" class=\"row_heading level0 row3\" >россия</th>\n",
       "                        <td id=\"T_1b95241d_0a12_11ea_a6fb_107b449f15fcrow3_col0\" class=\"data row3 col0\" >0.00541</td>\n",
       "            </tr>\n",
       "            <tr>\n",
       "                        <th id=\"T_1b95241d_0a12_11ea_a6fb_107b449f15fclevel0_row4\" class=\"row_heading level0 row4\" >война</th>\n",
       "                        <td id=\"T_1b95241d_0a12_11ea_a6fb_107b449f15fcrow4_col0\" class=\"data row4 col0\" >0.00479</td>\n",
       "            </tr>\n",
       "            <tr>\n",
       "                        <th id=\"T_1b95241d_0a12_11ea_a6fb_107b449f15fclevel0_row5\" class=\"row_heading level0 row5\" >советский</th>\n",
       "                        <td id=\"T_1b95241d_0a12_11ea_a6fb_107b449f15fcrow5_col0\" class=\"data row5 col0\" >0.0047</td>\n",
       "            </tr>\n",
       "            <tr>\n",
       "                        <th id=\"T_1b95241d_0a12_11ea_a6fb_107b449f15fclevel0_row6\" class=\"row_heading level0 row6\" >русский</th>\n",
       "                        <td id=\"T_1b95241d_0a12_11ea_a6fb_107b449f15fcrow6_col0\" class=\"data row6 col0\" >0.00333</td>\n",
       "            </tr>\n",
       "            <tr>\n",
       "                        <th id=\"T_1b95241d_0a12_11ea_a6fb_107b449f15fclevel0_row7\" class=\"row_heading level0 row7\" >книга</th>\n",
       "                        <td id=\"T_1b95241d_0a12_11ea_a6fb_107b449f15fcrow7_col0\" class=\"data row7 col0\" >0.00329</td>\n",
       "            </tr>\n",
       "            <tr>\n",
       "                        <th id=\"T_1b95241d_0a12_11ea_a6fb_107b449f15fclevel0_row8\" class=\"row_heading level0 row8\" >имя</th>\n",
       "                        <td id=\"T_1b95241d_0a12_11ea_a6fb_107b449f15fcrow8_col0\" class=\"data row8 col0\" >0.0032</td>\n",
       "            </tr>\n",
       "            <tr>\n",
       "                        <th id=\"T_1b95241d_0a12_11ea_a6fb_107b449f15fclevel0_row9\" class=\"row_heading level0 row9\" >стать</th>\n",
       "                        <td id=\"T_1b95241d_0a12_11ea_a6fb_107b449f15fcrow9_col0\" class=\"data row9 col0\" >0.00319</td>\n",
       "            </tr>\n",
       "    </tbody></table>"
      ]
     },
     "metadata": {},
     "output_type": "display_data"
    },
    {
     "data": {
      "text/html": [
       "<b> кризис на рубеже первой и второй пятилеток </b>"
      ]
     },
     "metadata": {},
     "output_type": "display_data"
    },
    {
     "data": {
      "text/html": [
       "<b> блицкриг в оценке советской элиты </b>"
      ]
     },
     "metadata": {},
     "output_type": "display_data"
    },
    {
     "data": {
      "text/html": [
       "<b> россия и казацкая украина </b>"
      ]
     },
     "metadata": {},
     "output_type": "display_data"
    },
    {
     "data": {
      "text/html": [
       "<b> гетман мазепа </b>"
      ]
     },
     "metadata": {},
     "output_type": "display_data"
    },
    {
     "data": {
      "text/html": [
       "<b> коллективизация </b>"
      ]
     },
     "metadata": {},
     "output_type": "display_data"
    },
    {
     "data": {
      "text/html": [
       "<b> стрелецкие бунты </b>"
      ]
     },
     "metadata": {},
     "output_type": "display_data"
    },
    {
     "data": {
      "text/html": [
       "<b> главысталин на войне </b>"
      ]
     },
     "metadata": {},
     "output_type": "display_data"
    },
    {
     "data": {
      "text/html": [
       "<b> лжедмитрий i </b>"
      ]
     },
     "metadata": {},
     "output_type": "display_data"
    },
    {
     "data": {
      "text/html": [
       "<b> главыавторские тексты сталина </b>"
      ]
     },
     "metadata": {},
     "output_type": "display_data"
    },
    {
     "data": {
      "text/html": [
       "<b> дворцовые перевороты в послепетровской россии </b>"
      ]
     },
     "metadata": {},
     "output_type": "display_data"
    },
    {
     "data": {
      "text/html": [
       "<style  type=\"text/css\" >\n",
       "</style><table id=\"T_1b95241e_0a12_11ea_a6fb_107b449f15fc\" style='display:inline'><thead>    <tr>        <th class=\"blank level0\" ></th>        <th class=\"col_heading level0 col0\" >bcg_35 @post_tag</th>    </tr></thead><tbody>\n",
       "                <tr>\n",
       "                        <th id=\"T_1b95241e_0a12_11ea_a6fb_107b449f15fclevel0_row0\" class=\"row_heading level0 row0\" >история</th>\n",
       "                        <td id=\"T_1b95241e_0a12_11ea_a6fb_107b449f15fcrow0_col0\" class=\"data row0 col0\" >0.34595</td>\n",
       "            </tr>\n",
       "            <tr>\n",
       "                        <th id=\"T_1b95241e_0a12_11ea_a6fb_107b449f15fclevel0_row1\" class=\"row_heading level0 row1\" >общество</th>\n",
       "                        <td id=\"T_1b95241e_0a12_11ea_a6fb_107b449f15fcrow1_col0\" class=\"data row1 col0\" >0.22747</td>\n",
       "            </tr>\n",
       "            <tr>\n",
       "                        <th id=\"T_1b95241e_0a12_11ea_a6fb_107b449f15fclevel0_row2\" class=\"row_heading level0 row2\" >культура</th>\n",
       "                        <td id=\"T_1b95241e_0a12_11ea_a6fb_107b449f15fcrow2_col0\" class=\"data row2 col0\" >0.11922</td>\n",
       "            </tr>\n",
       "            <tr>\n",
       "                        <th id=\"T_1b95241e_0a12_11ea_a6fb_107b449f15fclevel0_row3\" class=\"row_heading level0 row3\" >государство</th>\n",
       "                        <td id=\"T_1b95241e_0a12_11ea_a6fb_107b449f15fcrow3_col0\" class=\"data row3 col0\" >0.07723</td>\n",
       "            </tr>\n",
       "            <tr>\n",
       "                        <th id=\"T_1b95241e_0a12_11ea_a6fb_107b449f15fclevel0_row4\" class=\"row_heading level0 row4\" >массовая_культура</th>\n",
       "                        <td id=\"T_1b95241e_0a12_11ea_a6fb_107b449f15fcrow4_col0\" class=\"data row4 col0\" >0.0705</td>\n",
       "            </tr>\n",
       "            <tr>\n",
       "                        <th id=\"T_1b95241e_0a12_11ea_a6fb_107b449f15fclevel0_row5\" class=\"row_heading level0 row5\" >культурология</th>\n",
       "                        <td id=\"T_1b95241e_0a12_11ea_a6fb_107b449f15fcrow5_col0\" class=\"data row5 col0\" >0.05923</td>\n",
       "            </tr>\n",
       "            <tr>\n",
       "                        <th id=\"T_1b95241e_0a12_11ea_a6fb_107b449f15fclevel0_row6\" class=\"row_heading level0 row6\" >кино</th>\n",
       "                        <td id=\"T_1b95241e_0a12_11ea_a6fb_107b449f15fcrow6_col0\" class=\"data row6 col0\" >0.04292</td>\n",
       "            </tr>\n",
       "            <tr>\n",
       "                        <th id=\"T_1b95241e_0a12_11ea_a6fb_107b449f15fclevel0_row7\" class=\"row_heading level0 row7\" >кинематограф</th>\n",
       "                        <td id=\"T_1b95241e_0a12_11ea_a6fb_107b449f15fcrow7_col0\" class=\"data row7 col0\" >0.03372</td>\n",
       "            </tr>\n",
       "            <tr>\n",
       "                        <th id=\"T_1b95241e_0a12_11ea_a6fb_107b449f15fclevel0_row8\" class=\"row_heading level0 row8\" >паракинематограф</th>\n",
       "                        <td id=\"T_1b95241e_0a12_11ea_a6fb_107b449f15fcrow8_col0\" class=\"data row8 col0\" >0.00511</td>\n",
       "            </tr>\n",
       "            <tr>\n",
       "                        <th id=\"T_1b95241e_0a12_11ea_a6fb_107b449f15fclevel0_row9\" class=\"row_heading level0 row9\" >cinema_studies</th>\n",
       "                        <td id=\"T_1b95241e_0a12_11ea_a6fb_107b449f15fcrow9_col0\" class=\"data row9 col0\" >0.00511</td>\n",
       "            </tr>\n",
       "    </tbody></table><style  type=\"text/css\" >\n",
       "</style><table id=\"T_1b95241f_0a12_11ea_a6fb_107b449f15fc\" style='display:inline'><thead>    <tr>        <th class=\"blank level0\" ></th>        <th class=\"col_heading level0 col0\" >bcg_35 @word</th>    </tr></thead><tbody>\n",
       "                <tr>\n",
       "                        <th id=\"T_1b95241f_0a12_11ea_a6fb_107b449f15fclevel0_row0\" class=\"row_heading level0 row0\" >фильм</th>\n",
       "                        <td id=\"T_1b95241f_0a12_11ea_a6fb_107b449f15fcrow0_col0\" class=\"data row0 col0\" >0.00902</td>\n",
       "            </tr>\n",
       "            <tr>\n",
       "                        <th id=\"T_1b95241f_0a12_11ea_a6fb_107b449f15fclevel0_row1\" class=\"row_heading level0 row1\" >культура</th>\n",
       "                        <td id=\"T_1b95241f_0a12_11ea_a6fb_107b449f15fcrow1_col0\" class=\"data row1 col0\" >0.00821</td>\n",
       "            </tr>\n",
       "            <tr>\n",
       "                        <th id=\"T_1b95241f_0a12_11ea_a6fb_107b449f15fclevel0_row2\" class=\"row_heading level0 row2\" >история</th>\n",
       "                        <td id=\"T_1b95241f_0a12_11ea_a6fb_107b449f15fcrow2_col0\" class=\"data row2 col0\" >0.00718</td>\n",
       "            </tr>\n",
       "            <tr>\n",
       "                        <th id=\"T_1b95241f_0a12_11ea_a6fb_107b449f15fclevel0_row3\" class=\"row_heading level0 row3\" >книга</th>\n",
       "                        <td id=\"T_1b95241f_0a12_11ea_a6fb_107b449f15fcrow3_col0\" class=\"data row3 col0\" >0.00626</td>\n",
       "            </tr>\n",
       "            <tr>\n",
       "                        <th id=\"T_1b95241f_0a12_11ea_a6fb_107b449f15fclevel0_row4\" class=\"row_heading level0 row4\" >общество</th>\n",
       "                        <td id=\"T_1b95241f_0a12_11ea_a6fb_107b449f15fcrow4_col0\" class=\"data row4 col0\" >0.00571</td>\n",
       "            </tr>\n",
       "            <tr>\n",
       "                        <th id=\"T_1b95241f_0a12_11ea_a6fb_107b449f15fclevel0_row5\" class=\"row_heading level0 row5\" >говорить</th>\n",
       "                        <td id=\"T_1b95241f_0a12_11ea_a6fb_107b449f15fcrow5_col0\" class=\"data row5 col0\" >0.00518</td>\n",
       "            </tr>\n",
       "            <tr>\n",
       "                        <th id=\"T_1b95241f_0a12_11ea_a6fb_107b449f15fclevel0_row6\" class=\"row_heading level0 row6\" >образ</th>\n",
       "                        <td id=\"T_1b95241f_0a12_11ea_a6fb_107b449f15fcrow6_col0\" class=\"data row6 col0\" >0.00459</td>\n",
       "            </tr>\n",
       "            <tr>\n",
       "                        <th id=\"T_1b95241f_0a12_11ea_a6fb_107b449f15fclevel0_row7\" class=\"row_heading level0 row7\" >стать</th>\n",
       "                        <td id=\"T_1b95241f_0a12_11ea_a6fb_107b449f15fcrow7_col0\" class=\"data row7 col0\" >0.00437</td>\n",
       "            </tr>\n",
       "            <tr>\n",
       "                        <th id=\"T_1b95241f_0a12_11ea_a6fb_107b449f15fclevel0_row8\" class=\"row_heading level0 row8\" >являться</th>\n",
       "                        <td id=\"T_1b95241f_0a12_11ea_a6fb_107b449f15fcrow8_col0\" class=\"data row8 col0\" >0.00417</td>\n",
       "            </tr>\n",
       "            <tr>\n",
       "                        <th id=\"T_1b95241f_0a12_11ea_a6fb_107b449f15fclevel0_row9\" class=\"row_heading level0 row9\" >современный</th>\n",
       "                        <td id=\"T_1b95241f_0a12_11ea_a6fb_107b449f15fcrow9_col0\" class=\"data row9 col0\" >0.00398</td>\n",
       "            </tr>\n",
       "    </tbody></table>"
      ]
     },
     "metadata": {},
     "output_type": "display_data"
    },
    {
     "data": {
      "text/html": [
       "<b> аттракционы историирассказы о прошлом в кино и на телевидении </b>"
      ]
     },
     "metadata": {},
     "output_type": "display_data"
    },
    {
     "data": {
      "text/html": [
       "<b> штурмуя публичное пространствослова о гетеротопии плохого вкуса </b>"
      ]
     },
     "metadata": {},
     "output_type": "display_data"
    },
    {
     "data": {
      "text/html": [
       "<b> культура или культуры </b>"
      ]
     },
     "metadata": {},
     "output_type": "display_data"
    },
    {
     "data": {
      "text/html": [
       "<b> анализ фильма </b>"
      ]
     },
     "metadata": {},
     "output_type": "display_data"
    },
    {
     "data": {
      "text/html": [
       "<b> понятие культового кинематографа </b>"
      ]
     },
     "metadata": {},
     "output_type": "display_data"
    },
    {
     "data": {
      "text/html": [
       "<b> 5 книг о зомби в массовой культуре </b>"
      ]
     },
     "metadata": {},
     "output_type": "display_data"
    },
    {
     "data": {
      "text/html": [
       "<b> автограф # «постыдное удовольствиефилософские и социально-политические интерпретации массового кинематографа» </b>"
      ]
     },
     "metadata": {},
     "output_type": "display_data"
    },
    {
     "data": {
      "text/html": [
       "<b> зомби в массовой культуре </b>"
      ]
     },
     "metadata": {},
     "output_type": "display_data"
    },
    {
     "data": {
      "text/html": [
       "<b> главы # скрытые механизмы идеологии в \"бойцовском клубе\" </b>"
      ]
     },
     "metadata": {},
     "output_type": "display_data"
    },
    {
     "data": {
      "text/html": [
       "<b> феномен happy end </b>"
      ]
     },
     "metadata": {},
     "output_type": "display_data"
    }
   ],
   "source": [
    "n=7\n",
    "for line, topic_docs in list(zip(first_model_html, first_model_top_doc))[-n:]:\n",
    "    display_html(line, raw=True)\n",
    "    for doc_id in topic_docs:\n",
    "        doc_vw = demo_data.get_vw_document(doc_id).values[0][0]\n",
    "        doc_title = get_modality_vw(doc_vw, \"@title\")\n",
    "        doc_snippet = get_modality_vw(doc_vw, \"@snippet\")\n",
    "        display_html(f\"<b>{doc_title}</b>\", raw=True)"
   ]
  },
  {
   "cell_type": "code",
   "execution_count": 17,
   "metadata": {},
   "outputs": [
    {
     "name": "stdout",
     "output_type": "stream",
     "text": [
      "1292.txt\n"
     ]
    }
   ],
   "source": [
    "print(doc_id)"
   ]
  },
  {
   "cell_type": "code",
   "execution_count": 18,
   "metadata": {},
   "outputs": [],
   "source": [
    "from topicnet.viewers import TopSimilarDocumentsViewer"
   ]
  },
  {
   "cell_type": "code",
   "execution_count": 19,
   "metadata": {},
   "outputs": [],
   "source": [
    "tsdv = TopSimilarDocumentsViewer(best_model, dataset)"
   ]
  },
  {
   "cell_type": "code",
   "execution_count": 21,
   "metadata": {},
   "outputs": [
    {
     "name": "stdout",
     "output_type": "stream",
     "text": [
      "['@title Феномен внезапности во Второй мировой войне | @snippet Историк Алексей Киличенков о геополитической ситуации накануне Второй мировой, польской разведке и авантюризме Гитлера\\n']\n"
     ]
    },
    {
     "data": {
      "text/html": [
       "<b>2061.txt</b><br />@title Патриотическая риторика в годы Гражданской войны | @snippet Историк Людмила Новикова об антибольшевистском лагере, красной пропаганде и мифе об интервенции\n"
      ]
     },
     "metadata": {},
     "output_type": "display_data"
    },
    {
     "data": {
      "text/html": [
       "<b>3172.txt</b><br />@title Русская эмиграция и Вторая мировая война | @snippet Историк Олег Будницкий о движении Сопротивления, коллаборационистах и издательской деятельности русских эмигрантов\n"
      ]
     },
     "metadata": {},
     "output_type": "display_data"
    },
    {
     "data": {
      "text/html": [
       "<b>2426.txt</b><br />@title Россия в контексте консервативной революции | @snippet Историк Илья Женин о понимании России через литературу, очищении большевистской революцией и Петербурге как декорации\n"
      ]
     },
     "metadata": {},
     "output_type": "display_data"
    },
    {
     "data": {
      "text/html": [
       "<b>3370.txt</b><br />@title 5 книг об истории науки | @snippet Что читать о научных открытиях и жизни академического сообщества, рекомендует кандидат исторических наук Марина Сорокина\n"
      ]
     },
     "metadata": {},
     "output_type": "display_data"
    },
    {
     "data": {
      "text/html": [
       "<b>1225.txt</b><br />@title Интервенция в годы Гражданской войны | @snippet Историк Людмила Новикова о союзных интервентах, формировании чехословацкого корпуса и причинах обострения военного противостояния\n"
      ]
     },
     "metadata": {},
     "output_type": "display_data"
    },
    {
     "data": {
      "text/html": [
       "<b>200.txt</b><br />@title Главы: «Брачная политика» Пруссии и России | @snippet Отрывок из книги «Екатерина II, Германия и немцы» историка Клауса Шарфа о культурных и политических связях Российской империи с дворами Германии\n"
      ]
     },
     "metadata": {},
     "output_type": "display_data"
    },
    {
     "data": {
      "text/html": [
       "<b>263.txt</b><br />@title Автограф # «Свитки из пепла. Еврейская “зондеркоммандо” в Аушвице-Биркенау и ее летописцы» | @snippet Историк Павел Полян о главных документах Холокоста, членах зондеркоманды и осмыслении опыта концентрационных лагерей\n"
      ]
     },
     "metadata": {},
     "output_type": "display_data"
    },
    {
     "data": {
      "text/html": [
       "<b>2315.txt</b><br />@title FAQ: Изобретение культурной политики | @snippet 7 фактов о первом министерстве культуры, политике СССР и мультикультурализме\n"
      ]
     },
     "metadata": {},
     "output_type": "display_data"
    },
    {
     "data": {
      "text/html": [
       "<b>1839.txt</b><br />@title Культурная память о Первой мировой | @snippet Историк Борис Колоницкий об источниках информации о Первой мировой войне, политике памяти европейских стран и травме Гражданской войны\n"
      ]
     },
     "metadata": {},
     "output_type": "display_data"
    },
    {
     "data": {
      "text/html": [
       "<b>2656.txt</b><br />@title Советская Бавария | @snippet Историк Александр Ватлин о феномене Второй Советской Баварской республики, мюнхенских коммунарах и военной пропаганде в мирное время\n"
      ]
     },
     "metadata": {},
     "output_type": "display_data"
    }
   ],
   "source": [
    "search_doc = '3384.txt'\n",
    "print(dataset.get_source_document(search_doc)['raw_text'].values)\n",
    "sim_docs, scores = tsdv.view(\n",
    "    search_doc,\n",
    "    metric='euclidean',\n",
    "    num_top_similar=10)\n",
    "for doc_id in sim_docs:\n",
    "    document = dataset.get_source_document(doc_id)\n",
    "    doc_title = document.index.values[0]\n",
    "    doc_snippet = '.'.join(document['raw_text'].values[0].split('.')[:3])\n",
    "    display_html(f\"<b>{doc_title}</b><br />{doc_snippet}\", raw=True)"
   ]
  }
 ],
 "metadata": {
  "kernelspec": {
   "display_name": "Python [conda env:root] *",
   "language": "python",
   "name": "conda-root-py"
  },
  "language_info": {
   "codemirror_mode": {
    "name": "ipython",
    "version": 3
   },
   "file_extension": ".py",
   "mimetype": "text/x-python",
   "name": "python",
   "nbconvert_exporter": "python",
   "pygments_lexer": "ipython3",
   "version": "3.6.9"
  }
 },
 "nbformat": 4,
 "nbformat_minor": 2
}
