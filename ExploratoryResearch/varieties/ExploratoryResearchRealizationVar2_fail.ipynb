{
 "cells": [
  {
   "cell_type": "code",
   "execution_count": 1,
   "metadata": {},
   "outputs": [],
   "source": [
    "import numpy as np\n",
    "import pandas as pd\n",
    "import matplotlib.pyplot as plt\n",
    "%matplotlib inline\n",
    "import os\n",
    "import time\n",
    "import artm\n",
    "\n",
    "# change log style\n",
    "lc = artm.messages.ConfigureLoggingArgs()\n",
    "lc.minloglevel = 3\n",
    "lib = artm.wrapper.LibArtm(logging_config=lc)\n",
    "\n",
    "import warnings\n",
    "warnings.filterwarnings(\"ignore\", category=DeprecationWarning)"
   ]
  },
  {
   "cell_type": "code",
   "execution_count": 2,
   "metadata": {},
   "outputs": [
    {
     "data": {
      "text/html": [
       "<style>\n",
       "    div.output_html {\n",
       "        white-space: nowrap;\n",
       "    }\n",
       "    div .output_subarea > pre {\n",
       "        white-space: pre;\n",
       "        word-wrap: normal;\n",
       "    }\n",
       "    div .output_stdout > pre {\n",
       "        white-space: pre-wrap !important;\n",
       "        word-wrap:  break-word !important;\n",
       "    }\n",
       "    </style>"
      ],
      "text/plain": [
       "<IPython.core.display.HTML object>"
      ]
     },
     "metadata": {},
     "output_type": "display_data"
    }
   ],
   "source": [
    "from copy import deepcopy\n",
    "from topicnet.cooking_machine.models.topic_model import TopicModel\n",
    "from topicnet.cooking_machine.cubes import RegularizersModifierCube\n",
    "from topicnet.cooking_machine.config_parser import build_experiment_environment_from_yaml_config\n",
    "from topicnet.cooking_machine.experiment import Experiment\n",
    "from topicnet.cooking_machine.cubes import *\n",
    "from topicnet.cooking_machine.dataset import Dataset\n",
    "from topicnet.cooking_machine.pretty_output import make_notebook_pretty\n",
    "make_notebook_pretty()"
   ]
  },
  {
   "cell_type": "code",
   "execution_count": 3,
   "metadata": {},
   "outputs": [],
   "source": [
    "import topicnet.cooking_machine.cubes as tncubes"
   ]
  },
  {
   "cell_type": "code",
   "execution_count": 4,
   "metadata": {},
   "outputs": [
    {
     "data": {
      "text/html": [
       "<style>\n",
       ".container { width:90% !important; }\n",
       "div.output_scroll .output_subarea { white-space: pre; }\n",
       "</style>"
      ],
      "text/plain": [
       "<IPython.core.display.HTML object>"
      ]
     },
     "metadata": {},
     "output_type": "display_data"
    }
   ],
   "source": [
    "from IPython.core.display import display, HTML\n",
    "from IPython.display import clear_output, display_html\n",
    "display(HTML(\"\"\"<style>\n",
    ".container { width:90% !important; }\n",
    "div.output_scroll .output_subarea { white-space: pre; }\n",
    "</style>\"\"\"))"
   ]
  },
  {
   "cell_type": "markdown",
   "metadata": {},
   "source": [
    "### Make initial model"
   ]
  },
  {
   "cell_type": "code",
   "execution_count": 5,
   "metadata": {},
   "outputs": [
    {
     "name": "stdout",
     "output_type": "stream",
     "text": [
      "# This config follows a strategy described in the article\n",
      "# Multi-objective Topic Modeling for Exploratory Search in Tech News\n",
      "# by Anastasya Yanina, Lev Golitsyn and Konstantin Vorontsov, Jan 2018\n",
      "\n",
      "\n",
      "# Use .format(modality=modality, dataset_path=dataset_path,\n",
      "# specific_topics=specific_topics, background_topics=background_topics)\n",
      "# when loading the recipe to adjust for your dataset\n",
      "\n",
      "topics:\n",
      "# Describes number of model topics, in the actuall article 200 topics were found to be optimal\n",
      "    specific_topics: ['topic_0', 'topic_1', 'topic_2', 'topic_3', 'topic_4', 'topic_5', 'topic_6', 'topic_7', 'topic_8', 'topic_9', 'topic_10', 'topic_11', 'topic_12', 'topic_13', 'topic_14', 'topic_15', 'topic_16', 'topic_17', 'topic_18', 'topic_19', 'topic_20', 'topic_21', 'topic_22', 'topic_23', 'topic_24', 'topic_25', 'topic_26', 'topic_27', 'topic_28', 'topic_29', 'topic_30', 'topic_31', 'topic_32', 'topic_33', 'topic_34']\n",
      "    background_topics: ['bcg_35']\n",
      "\n",
      "regularizers:\n",
      "- DecorrelatorPhiRegularizer:\n",
      "    name: decorrelation_phi_@word\n",
      "    topic_names: specific_topics\n",
      "    tau: 1\n",
      "    class_ids: ['@word']\n",
      "- SmoothSparseThetaRegularizer:\n",
      "    name: sparse_theta\n",
      "    topic_names: specific_topics\n",
      "    tau: 1\n",
      "- SmoothSparsePhiRegularizer:\n",
      "    name: smooth_phi_@word\n",
      "    topic_names: specific_topics\n",
      "    tau: 1\n",
      "    class_ids: ['@word']\n",
      "- DecorrelatorPhiRegularizer:\n",
      "    name: decorrelation_phi_@post_tag\n",
      "    topic_names: specific_topics\n",
      "    tau: 1\n",
      "    class_ids: ['@post_tag']\n",
      "- SmoothSparseThetaRegularizer:\n",
      "    name: sparse_theta\n",
      "    topic_names: specific_topics\n",
      "    tau: 1\n",
      "- SmoothSparsePhiRegularizer:\n",
      "    name: smooth_phi_@post_tag\n",
      "    topic_names: specific_topics\n",
      "    tau: 1\n",
      "    class_ids: ['@post_tag']\n",
      "\n",
      "model: \n",
      "    dataset_path: /home/sultan/datasets/PScience/PScience.csv\n",
      "    modalities_to_use: ['@word', '@post_tag']\n",
      "    main_modality: '@word'\n",
      "\n",
      "stages:\n",
      "# repeat the following two cubes for every modality in the dataset\n",
      "- RegularizersModifierCube:\n",
      "    num_iter: 8\n",
      "    reg_search: mul\n",
      "    regularizer_parameters:\n",
      "        name: decorrelation_phi_@word\n",
      "    selection:\n",
      "        - PerplexityScore@word < 1.1 * MINIMUM(PerplexityScore@word) and SparsityPhiScore@word -> max\n",
      "    strategy: PerplexityStrategy\n",
      "    strategy_params:\n",
      "        start_point: 100000\n",
      "        step: 10\n",
      "        max_len: 6\n",
      "    tracked_score_function: PerplexityScore@word\n",
      "    verbose: false\n",
      "    use_relative_coefficients: false\n",
      "- RegularizersModifierCube:\n",
      "    num_iter: 8\n",
      "    reg_search: mul\n",
      "    regularizer_parameters:\n",
      "        name: decorrelation_phi_@post_tag\n",
      "    selection:\n",
      "        - PerplexityScore@post_tag < 1.1 * MINIMUM(PerplexityScore@post_tag) and SparsityPhiScore@post_tag -> max\n",
      "    strategy: PerplexityStrategy\n",
      "    strategy_params:\n",
      "        start_point: 100000\n",
      "        step: 10\n",
      "        max_len: 6\n",
      "    tracked_score_function: PerplexityScore@post_tag\n",
      "    verbose: false\n",
      "    use_relative_coefficients: false\n",
      "- RegularizersModifierCube:\n",
      "    num_iter: 8\n",
      "    reg_search: add\n",
      "    regularizer_parameters:\n",
      "        name: sparse_theta\n",
      "    selection:\n",
      "        - PerplexityScore@all < 1.1 * MINIMUM(PerplexityScore@all) and SparsityPhiScore@word -> max\n",
      "    strategy: PerplexityStrategy\n",
      "    strategy_params:\n",
      "        start_point: -0.5\n",
      "        step: -0.5\n",
      "        max_len: 6\n",
      "    tracked_score_function: PerplexityScore@all\n",
      "    verbose: false\n",
      "    use_relative_coefficients: false\n",
      "- RegularizersModifierCube:\n",
      "    num_iter: 8\n",
      "    reg_search: add\n",
      "    regularizer_parameters:\n",
      "        name: smooth_phi_@word\n",
      "    selection:\n",
      "        - PerplexityScore@word < 1.1 * MINIMUM(PerplexityScore@word) and SparsityPhiScore@word -> max\n",
      "    strategy: PerplexityStrategy\n",
      "    strategy_params:\n",
      "        start_point: 0.25\n",
      "        step: 0.25\n",
      "        max_len: 6\n",
      "    tracked_score_function: PerplexityScore@word\n",
      "    verbose: false\n",
      "    use_relative_coefficients: false\n",
      "- RegularizersModifierCube:\n",
      "    num_iter: 8\n",
      "    reg_search: add\n",
      "    regularizer_parameters:\n",
      "        name: smooth_phi_@post_tag\n",
      "    selection:\n",
      "        - PerplexityScore@post_tag < 1.1 * MINIMUM(PerplexityScore@post_tag) and SparsityPhiScore@post_tag -> max\n",
      "    strategy: PerplexityStrategy\n",
      "    strategy_params:\n",
      "        start_point: 0.25\n",
      "        step: 0.25\n",
      "        max_len: 6\n",
      "    tracked_score_function: PerplexityScore@post_tag\n",
      "    verbose: false\n",
      "    use_relative_coefficients: false\n"
     ]
    }
   ],
   "source": [
    "with open(\"/home/sultan/recipes/exploratory_search-variant2.yml\", \"r\") as f:\n",
    "    yaml_string = f.read()\n",
    "\n",
    "DATASET_PATH = \"/home/sultan/datasets/PScience/PScience.csv\"\n",
    "specific_topics = [f'topic_{i}' for i in range(35)]\n",
    "background_topics = [f'bcg_{i}' for i in range(len(specific_topics),len(specific_topics) + 1)]\n",
    "\n",
    "yaml_string = yaml_string.format(\n",
    "    modality1='@word',\n",
    "    modality2='@post_tag',\n",
    "    dataset_path=DATASET_PATH,\n",
    "    specific_topics=specific_topics,\n",
    "    background_topics=background_topics)\n",
    "\n",
    "print(yaml_string)"
   ]
  },
  {
   "cell_type": "markdown",
   "metadata": {},
   "source": [
    "### Define Topic Model"
   ]
  },
  {
   "cell_type": "code",
   "execution_count": 6,
   "metadata": {},
   "outputs": [],
   "source": [
    "from topicnet.cooking_machine.experiment import Experiment\n",
    "if os.path.exists(f'./ExploratoryResearchDemo2') == True:\n",
    "    os.system(\"rm -rf ./ExploratoryResearchDemo2\")\n",
    "experiment, dataset = build_experiment_environment_from_yaml_config(\n",
    "    yaml_string,\n",
    "    experiment_id='ExploratoryResearchDemo2',\n",
    "    save_path='ExploratoryResearchDemo2',\n",
    ")"
   ]
  },
  {
   "cell_type": "code",
   "execution_count": 7,
   "metadata": {},
   "outputs": [
    {
     "name": "stderr",
     "output_type": "stream",
     "text": [
      "/home/sultan/miniconda3/lib/python3.6/site-packages/topicnet/cooking_machine/cubes/base_cube.py:206: UserWarning: Perplexity is too high for threshold 1.05\n",
      "  warnings.warn(warning_message)\n",
      "/home/sultan/miniconda3/lib/python3.6/site-packages/topicnet/cooking_machine/cubes/base_cube.py:206: UserWarning: Max progression length exceeded\n",
      "  warnings.warn(warning_message)\n"
     ]
    },
    {
     "data": {
      "text/plain": [
       "{<topicnet.cooking_machine.models.topic_model.TopicModel at 0x7f7fc904e4e0>}"
      ]
     },
     "execution_count": 7,
     "metadata": {},
     "output_type": "execute_result"
    }
   ],
   "source": [
    "experiment.run(dataset)"
   ]
  },
  {
   "cell_type": "code",
   "execution_count": 8,
   "metadata": {},
   "outputs": [
    {
     "data": {
      "text/plain": [
       "Experiment ExploratoryResearchDemo2\n",
       "\n",
       "Experiment was made with BigARTM 0.9.0\n",
       "Tree:\n",
       "                                                                                                                                        ┌##17h38m39s_18d11m2019y###\n",
       "                                ┌##17h37m38s_18d11m2019y###─────────────────────────────────────────────────────────────────────────────┤\n",
       "                                │                                                                                                       ├##17h38m53s_18d11m2019y###\n",
       "                                │                                                                                                       │                                                                                                                                                                                                                                                                                                                       ┌##17h42m10s_18d11m2019y###\n",
       "                                │                                                                                                       │                                                                                                                                                                                                                                                                                                                       ├##17h42m27s_18d11m2019y###\n",
       "                                │                                                                                                       │                                                                                                                                                                                                                                                                                                                       ├##17h42m44s_18d11m2019y###\n",
       "                                │                                                                                                       │                                                                                                                                                                                                               ┌##17h41m31s_18d11m2019y###─────────────────────────────────────────────────────────────────────────────┤\n",
       "                                │                                                                                                       │                                                                                                                                                                                                               │                                                                                                       ├##17h43m00s_18d11m2019y###\n",
       "                                │                                                                                                       │                                                                                                                                                                                                               │                                                                                                       ├##17h43m17s_18d11m2019y###\n",
       "                                │                                                                                                       │                                                                                                                                                                                                               │                                                                                                       ├##17h43m34s_18d11m2019y###\n",
       "                                │                                                                                                       │                                                                                                                                                                                                               │                                                                                                       └##17h43m50s_18d11m2019y###\n",
       "                                │                                                                                                       │                                                                                                       ┌##17h39m29s_18d11m2019y###─────────────────────────────────────────────────────────────────────────────┤\n",
       "                                │                                                                                                       │                                                                                                       │                                                                                                       └##17h41m47s_18d11m2019y###\n",
       "                                │                                                                                                       │                                                                                                       ├##17h39m44s_18d11m2019y###\n",
       "                                │                                                                                                       │                                                                                                       ├##17h40m00s_18d11m2019y###\n",
       "                                │                                                                                                       └##17h39m07s_18d11m2019y###─────────────────────────────────────────────────────────────────────────────┤\n",
       "                                │                                                                                                                                                                                                               ├##17h40m15s_18d11m2019y###\n",
       "                                │                                                                                                                                                                                                               ├##17h40m30s_18d11m2019y###\n",
       "                                │                                                                                                                                                                                                               ├##17h40m46s_18d11m2019y###\n",
       "                                │                                                                                                                                                                                                               └##17h41m02s_18d11m2019y###\n",
       "                                ├##17h37m50s_18d11m2019y###\n",
       "<<<<<<<<<<<root>>>>>>>>>>>──────┤\n",
       "                                ├##17h38m03s_18d11m2019y###\n",
       "                                └##17h38m17s_18d11m2019y###\n",
       "Cubes:\n",
       " START                          | REG_MODIFIER                                                                                          | REG_MODIFIER                                                                                          | REG_MODIFIER                                                                                          | REG_MODIFIER                                                                                          | REG_MODIFIER                                                                                         \n",
       "                                | cube:                                                                                                 | cube:                                                                                                 | cube:                                                                                                 | cube:                                                                                                 | cube:                                                                                                \n",
       " name:                          |   <topicnet.cooking_machine.cubes.regularizer_cube.RegularizersModifierCube object at 0x7f7fc97e6fd0> |   <topicnet.cooking_machine.cubes.regularizer_cube.RegularizersModifierCube object at 0x7f7fc9744ef0> |   <topicnet.cooking_machine.cubes.regularizer_cube.RegularizersModifierCube object at 0x7f7fc9744f28> |   <topicnet.cooking_machine.cubes.regularizer_cube.RegularizersModifierCube object at 0x7f7fc9744cc0> |   <topicnet.cooking_machine.cubes.regularizer_cube.RegularizersModifierCube object at 0x7f7fc9744f60>\n",
       "   ARTM                         |                                                                                                       |                                                                                                       |                                                                                                       |                                                                                                       |                                                                                                      \n",
       " num_processors:                | tau_grid:                                                                                             | tau_grid:                                                                                             | tau_grid:                                                                                             | tau_grid:                                                                                             | tau_grid:                                                                                            \n",
       "   3                            |   ---                                                                                                 |   ---                                                                                                 |   ---                                                                                                 |   ---                                                                                                 |   ---                                                                                                \n",
       " num_topics:                    | name:                                                                                                 | name:                                                                                                 | name:                                                                                                 | name:                                                                                                 | name:                                                                                                \n",
       "   36                           |   decorrelation_phi_@word                                                                             |   decorrelation_phi_@post_tag                                                                         |   sparse_theta                                                                                        |   smooth_phi_@word                                                                                    |   smooth_phi_@post_tag                                                                               \n",
       " topic_names:                   |                                                                                                       |                                                                                                       |                                                                                                       |                                                                                                       |                                                                                                      \n",
       "   topic_0,                     |                                                                                                       |                                                                                                       |                                                                                                       |                                                                                                       |                                                                                                      \n",
       "   topic_1,                     |                                                                                                       |                                                                                                       |                                                                                                       |                                                                                                       |                                                                                                      \n",
       "   ...,                         |                                                                                                       |                                                                                                       |                                                                                                       |                                                                                                       |                                                                                                      \n",
       "   topic_34,                    |                                                                                                       |                                                                                                       |                                                                                                       |                                                                                                       |                                                                                                      \n",
       "   bcg_35                       |                                                                                                       |                                                                                                       |                                                                                                       |                                                                                                       |                                                                                                      \n",
       " class_ids:                     |                                                                                                       |                                                                                                       |                                                                                                       |                                                                                                       |                                                                                                      \n",
       "   @word=1.0,                   |                                                                                                       |                                                                                                       |                                                                                                       |                                                                                                       |                                                                                                      \n",
       "   @post_tag=79.51461372081415  |                                                                                                       |                                                                                                       |                                                                                                       |                                                                                                       |                                                                                                      \n",
       " seed:                          |                                                                                                       |                                                                                                       |                                                                                                       |                                                                                                       |                                                                                                      \n",
       "   -1                           |                                                                                                       |                                                                                                       |                                                                                                       |                                                                                                       |                                                                                                      \n",
       "                                |                                                                                                       |                                                                                                       |                                                                                                       |                                                                                                       |                                                                                                      \n",
       "────────────────────────────────+───────────────────────────────────────────────────────────────────────────────────────────────────────+───────────────────────────────────────────────────────────────────────────────────────────────────────+───────────────────────────────────────────────────────────────────────────────────────────────────────+───────────────────────────────────────────────────────────────────────────────────────────────────────+───────────────────────────────────────────────────────────────────────────────────────────────────────+─────────────────────────────────────────────────────────────────────────────────────────────────────\n",
       "                                | stage criteria 1:                                                                                     | stage criteria 1:                                                                                     | stage criteria 1:                                                                                     | stage criteria 1:                                                                                     | stage criteria 1:                                                                                    \n",
       "                                |     PerplexityScore@word < 1.1 * MINIMUM(PerplexityScore@word)                                        |     PerplexityScore@post_tag < 1.1 * MINIMUM(PerplexityScore@post_tag)                                |     PerplexityScore@all < 1.1 * MINIMUM(PerplexityScore@all)                                          |     PerplexityScore@word < 1.1 * MINIMUM(PerplexityScore@word)                                        |     PerplexityScore@post_tag < 1.1 * MINIMUM(PerplexityScore@post_tag)                               \n",
       "                                |     SparsityPhiScore@word -> max                                                                      |     SparsityPhiScore@post_tag -> max                                                                  |     SparsityPhiScore@word -> max                                                                      |     SparsityPhiScore@word -> max                                                                      |     SparsityPhiScore@post_tag -> max                                                                 \n",
       "                                |                                                                                                       |                                                                                                       |                                                                                                       |                                                                                                       |                                                                                                      "
      ]
     },
     "metadata": {},
     "output_type": "display_data"
    }
   ],
   "source": [
    "experiment.show()"
   ]
  },
  {
   "cell_type": "code",
   "execution_count": 9,
   "metadata": {},
   "outputs": [],
   "source": [
    "best_model = experiment.select(experiment.criteria[-1][0])[0]"
   ]
  },
  {
   "cell_type": "code",
   "execution_count": 10,
   "metadata": {},
   "outputs": [
    {
     "data": {
      "image/png": "[encoded data removed]",
      "text/plain": [
       "<Figure size 576x576 with 1 Axes>"
      ]
     },
     "metadata": {
      "needs_background": "light"
     },
     "output_type": "display_data"
    }
   ],
   "source": [
    "tms = experiment.models\n",
    "colors = np.linspace(0, 0.65, len(tms))\n",
    "\n",
    "plt.figure(figsize=(8,8))\n",
    "for i, tm in enumerate(list(tms.values())[1:]):\n",
    "    score = tm.scores['PerplexityScore@all']\n",
    "    plt.plot(score[1:])\n",
    "plt.show()"
   ]
  },
  {
   "cell_type": "code",
   "execution_count": 11,
   "metadata": {},
   "outputs": [
    {
     "data": {
      "image/png": "[encoded data removed]",
      "text/plain": [
       "<Figure size 576x576 with 1 Axes>"
      ]
     },
     "metadata": {
      "needs_background": "light"
     },
     "output_type": "display_data"
    }
   ],
   "source": [
    "from matplotlib import cm\n",
    "tms = experiment.models\n",
    "colors = np.linspace(0, 0.65, len(tms))\n",
    "\n",
    "plt.figure(figsize=(8,8))\n",
    "for i, tm in enumerate(list(tms.values())[1:]):\n",
    "    score = tm.scores['TopicKernel@word.average_purity']\n",
    "    plt.plot(score, color=cm.Blues(colors[i]))\n",
    "    score = tm.scores['TopicKernel@word.average_contrast']\n",
    "    plt.plot(score, color=cm.Reds(colors[i]))\n",
    "plt.show()"
   ]
  },
  {
   "cell_type": "code",
   "execution_count": 12,
   "metadata": {},
   "outputs": [
    {
     "name": "stdout",
     "output_type": "stream",
     "text": [
      "smooth_phi_bcg 0.0\n",
      "smooth_theta_bcg 0.0\n",
      "decorrelation_phi_@word 0\n",
      "sparse_theta 0\n",
      "smooth_phi_@word 0\n",
      "decorrelation_phi_@post_tag 1000000.0\n",
      "smooth_phi_@post_tag 0\n",
      "74572.734375\n",
      "0.49612024426460266\n",
      "0.15030167996883392\n",
      "------\n",
      "smooth_phi_bcg 0.0\n",
      "smooth_theta_bcg 0.0\n",
      "decorrelation_phi_@word 0\n",
      "sparse_theta 0\n",
      "smooth_phi_@word 0\n",
      "decorrelation_phi_@post_tag 1000000.0\n",
      "smooth_phi_@post_tag 0.25\n",
      "74797.078125\n",
      "0.49605539441108704\n",
      "0.1502869576215744\n",
      "------\n",
      "smooth_phi_bcg 0.0\n",
      "smooth_theta_bcg 0.0\n",
      "decorrelation_phi_@word 0\n",
      "sparse_theta 0\n",
      "smooth_phi_@word 0\n",
      "decorrelation_phi_@post_tag 1000000.0\n",
      "smooth_phi_@post_tag 0.5\n",
      "75026.6328125\n",
      "0.4959888458251953\n",
      "0.15036341547966003\n",
      "------\n",
      "smooth_phi_bcg 0.0\n",
      "smooth_theta_bcg 0.0\n",
      "decorrelation_phi_@word 0\n",
      "sparse_theta 0\n",
      "smooth_phi_@word 0\n",
      "decorrelation_phi_@post_tag 1000000.0\n",
      "smooth_phi_@post_tag 0.75\n",
      "75266.890625\n",
      "0.49597296118736267\n",
      "0.15037059783935547\n",
      "------\n",
      "smooth_phi_bcg 0.0\n",
      "smooth_theta_bcg 0.0\n",
      "decorrelation_phi_@word 0\n",
      "sparse_theta 0\n",
      "smooth_phi_@word 0\n",
      "decorrelation_phi_@post_tag 1000000.0\n",
      "smooth_phi_@post_tag 1.0\n",
      "75515.4609375\n",
      "0.49592912197113037\n",
      "0.1503739058971405\n",
      "------\n",
      "smooth_phi_bcg 0.0\n",
      "smooth_theta_bcg 0.0\n",
      "decorrelation_phi_@word 0\n",
      "sparse_theta 0\n",
      "smooth_phi_@word 0\n",
      "decorrelation_phi_@post_tag 1000000.0\n",
      "smooth_phi_@post_tag 1.25\n",
      "75773.765625\n",
      "0.4959426522254944\n",
      "0.15036968886852264\n",
      "------\n",
      "smooth_phi_bcg 0.0\n",
      "smooth_theta_bcg 0.0\n",
      "decorrelation_phi_@word 0\n",
      "sparse_theta 0\n",
      "smooth_phi_@word 0\n",
      "decorrelation_phi_@post_tag 1000000.0\n",
      "smooth_phi_@post_tag 1.5\n",
      "76044.0703125\n",
      "0.495966374874115\n",
      "0.1503414362668991\n",
      "------\n"
     ]
    }
   ],
   "source": [
    "query = (\n",
    "    \"TopicKernel@word.average_contrast > 0.8 * MAXIMUM(TopicKernel@word.average_contrast) \"\n",
    "    \"and TopicKernel@word.average_purity > 0.8 * MAXIMUM(TopicKernel@word.average_purity) \"\n",
    "    \"and PerplexityScore@all < 1.1 * MINIMUM(PerplexityScore@all) \"\n",
    ")\n",
    "models = experiment.select(query + \" COLLECT all\")\n",
    "def describe_model(model):\n",
    "    for reg_name, reg in model.regularizers._data.items():\n",
    "        print(reg_name, reg.tau)\n",
    "    print(model.scores[\"PerplexityScore@all\"][-1])\n",
    "    print(model.scores[\"TopicKernel@word.average_contrast\"][-1])\n",
    "    print(model.scores[\"TopicKernel@word.average_purity\"][-1])\n",
    "    print(\"------\")\n",
    "for model in models:\n",
    "    describe_model(model)"
   ]
  },
  {
   "cell_type": "markdown",
   "metadata": {},
   "source": [
    "### Investigate model"
   ]
  },
  {
   "cell_type": "code",
   "execution_count": 13,
   "metadata": {},
   "outputs": [],
   "source": [
    "best_model = models[-1]"
   ]
  },
  {
   "cell_type": "code",
   "execution_count": 14,
   "metadata": {},
   "outputs": [],
   "source": [
    "from topicnet.viewers.top_tokens_viewer import TopTokensViewer\n",
    "from topicnet.viewers.top_documents_viewer import TopDocumentsViewer\n",
    "from IPython.display import display_html, display\n",
    "from topicnet.cooking_machine.dataset import get_modality_vw"
   ]
  },
  {
   "cell_type": "code",
   "execution_count": 15,
   "metadata": {},
   "outputs": [],
   "source": [
    "thresh = 1e-5\n",
    "demo_data = Dataset(DATASET_PATH)\n",
    "first_model_top_tok = TopTokensViewer(best_model, num_top_tokens=10, method='phi')\n",
    "first_model_html =  first_model_top_tok.to_html(first_model_top_tok.view(),thresh=thresh)\n",
    "first_model_top_doc = TopDocumentsViewer(best_model, dataset=demo_data).view()"
   ]
  },
  {
   "cell_type": "code",
   "execution_count": 16,
   "metadata": {
    "scrolled": true
   },
   "outputs": [
    {
     "data": {
      "text/html": [
       "<style  type=\"text/css\" >\n",
       "</style><table id=\"T_f684880c_0a11_11ea_a6fb_107b449f15fc\" style='display:inline'><thead>    <tr>        <th class=\"blank level0\" ></th>        <th class=\"col_heading level0 col0\" >topic_29 @post_tag</th>    </tr></thead><tbody>\n",
       "                <tr>\n",
       "                        <th id=\"T_f684880c_0a11_11ea_a6fb_107b449f15fclevel0_row0\" class=\"row_heading level0 row0\" >днк</th>\n",
       "                        <td id=\"T_f684880c_0a11_11ea_a6fb_107b449f15fcrow0_col0\" class=\"data row0 col0\" >0.23838</td>\n",
       "            </tr>\n",
       "            <tr>\n",
       "                        <th id=\"T_f684880c_0a11_11ea_a6fb_107b449f15fclevel0_row1\" class=\"row_heading level0 row1\" >клетка</th>\n",
       "                        <td id=\"T_f684880c_0a11_11ea_a6fb_107b449f15fcrow1_col0\" class=\"data row1 col0\" >0.21956</td>\n",
       "            </tr>\n",
       "            <tr>\n",
       "                        <th id=\"T_f684880c_0a11_11ea_a6fb_107b449f15fclevel0_row2\" class=\"row_heading level0 row2\" >белки</th>\n",
       "                        <td id=\"T_f684880c_0a11_11ea_a6fb_107b449f15fcrow2_col0\" class=\"data row2 col0\" >0.11166</td>\n",
       "            </tr>\n",
       "            <tr>\n",
       "                        <th id=\"T_f684880c_0a11_11ea_a6fb_107b449f15fclevel0_row3\" class=\"row_heading level0 row3\" >рнк</th>\n",
       "                        <td id=\"T_f684880c_0a11_11ea_a6fb_107b449f15fcrow3_col0\" class=\"data row3 col0\" >0.06896</td>\n",
       "            </tr>\n",
       "            <tr>\n",
       "                        <th id=\"T_f684880c_0a11_11ea_a6fb_107b449f15fclevel0_row4\" class=\"row_heading level0 row4\" >клеточная_биология</th>\n",
       "                        <td id=\"T_f684880c_0a11_11ea_a6fb_107b449f15fcrow4_col0\" class=\"data row4 col0\" >0.05</td>\n",
       "            </tr>\n",
       "            <tr>\n",
       "                        <th id=\"T_f684880c_0a11_11ea_a6fb_107b449f15fclevel0_row5\" class=\"row_heading level0 row5\" >мутация</th>\n",
       "                        <td id=\"T_f684880c_0a11_11ea_a6fb_107b449f15fcrow5_col0\" class=\"data row5 col0\" >0.03733</td>\n",
       "            </tr>\n",
       "            <tr>\n",
       "                        <th id=\"T_f684880c_0a11_11ea_a6fb_107b449f15fclevel0_row6\" class=\"row_heading level0 row6\" >вирус</th>\n",
       "                        <td id=\"T_f684880c_0a11_11ea_a6fb_107b449f15fcrow6_col0\" class=\"data row6 col0\" >0.0288</td>\n",
       "            </tr>\n",
       "            <tr>\n",
       "                        <th id=\"T_f684880c_0a11_11ea_a6fb_107b449f15fclevel0_row7\" class=\"row_heading level0 row7\" >белок</th>\n",
       "                        <td id=\"T_f684880c_0a11_11ea_a6fb_107b449f15fcrow7_col0\" class=\"data row7 col0\" >0.02872</td>\n",
       "            </tr>\n",
       "            <tr>\n",
       "                        <th id=\"T_f684880c_0a11_11ea_a6fb_107b449f15fclevel0_row8\" class=\"row_heading level0 row8\" >абиогенез</th>\n",
       "                        <td id=\"T_f684880c_0a11_11ea_a6fb_107b449f15fcrow8_col0\" class=\"data row8 col0\" >0.01987</td>\n",
       "            </tr>\n",
       "            <tr>\n",
       "                        <th id=\"T_f684880c_0a11_11ea_a6fb_107b449f15fclevel0_row9\" class=\"row_heading level0 row9\" >мембрана</th>\n",
       "                        <td id=\"T_f684880c_0a11_11ea_a6fb_107b449f15fcrow9_col0\" class=\"data row9 col0\" >0.01619</td>\n",
       "            </tr>\n",
       "    </tbody></table><style  type=\"text/css\" >\n",
       "</style><table id=\"T_f684880d_0a11_11ea_a6fb_107b449f15fc\" style='display:inline'><thead>    <tr>        <th class=\"blank level0\" ></th>        <th class=\"col_heading level0 col0\" >topic_29 @word</th>    </tr></thead><tbody>\n",
       "                <tr>\n",
       "                        <th id=\"T_f684880d_0a11_11ea_a6fb_107b449f15fclevel0_row0\" class=\"row_heading level0 row0\" >клетка</th>\n",
       "                        <td id=\"T_f684880d_0a11_11ea_a6fb_107b449f15fcrow0_col0\" class=\"data row0 col0\" >0.0379</td>\n",
       "            </tr>\n",
       "            <tr>\n",
       "                        <th id=\"T_f684880d_0a11_11ea_a6fb_107b449f15fclevel0_row1\" class=\"row_heading level0 row1\" >днк</th>\n",
       "                        <td id=\"T_f684880d_0a11_11ea_a6fb_107b449f15fcrow1_col0\" class=\"data row1 col0\" >0.01954</td>\n",
       "            </tr>\n",
       "            <tr>\n",
       "                        <th id=\"T_f684880d_0a11_11ea_a6fb_107b449f15fclevel0_row2\" class=\"row_heading level0 row2\" >белка</th>\n",
       "                        <td id=\"T_f684880d_0a11_11ea_a6fb_107b449f15fcrow2_col0\" class=\"data row2 col0\" >0.0142</td>\n",
       "            </tr>\n",
       "            <tr>\n",
       "                        <th id=\"T_f684880d_0a11_11ea_a6fb_107b449f15fclevel0_row3\" class=\"row_heading level0 row3\" >молекула</th>\n",
       "                        <td id=\"T_f684880d_0a11_11ea_a6fb_107b449f15fcrow3_col0\" class=\"data row3 col0\" >0.01115</td>\n",
       "            </tr>\n",
       "            <tr>\n",
       "                        <th id=\"T_f684880d_0a11_11ea_a6fb_107b449f15fclevel0_row4\" class=\"row_heading level0 row4\" >белок</th>\n",
       "                        <td id=\"T_f684880d_0a11_11ea_a6fb_107b449f15fcrow4_col0\" class=\"data row4 col0\" >0.0111</td>\n",
       "            </tr>\n",
       "            <tr>\n",
       "                        <th id=\"T_f684880d_0a11_11ea_a6fb_107b449f15fclevel0_row5\" class=\"row_heading level0 row5\" >рнк</th>\n",
       "                        <td id=\"T_f684880d_0a11_11ea_a6fb_107b449f15fcrow5_col0\" class=\"data row5 col0\" >0.00842</td>\n",
       "            </tr>\n",
       "            <tr>\n",
       "                        <th id=\"T_f684880d_0a11_11ea_a6fb_107b449f15fclevel0_row6\" class=\"row_heading level0 row6\" >мутация</th>\n",
       "                        <td id=\"T_f684880d_0a11_11ea_a6fb_107b449f15fcrow6_col0\" class=\"data row6 col0\" >0.00706</td>\n",
       "            </tr>\n",
       "            <tr>\n",
       "                        <th id=\"T_f684880d_0a11_11ea_a6fb_107b449f15fclevel0_row7\" class=\"row_heading level0 row7\" >структура</th>\n",
       "                        <td id=\"T_f684880d_0a11_11ea_a6fb_107b449f15fcrow7_col0\" class=\"data row7 col0\" >0.0066</td>\n",
       "            </tr>\n",
       "            <tr>\n",
       "                        <th id=\"T_f684880d_0a11_11ea_a6fb_107b449f15fclevel0_row8\" class=\"row_heading level0 row8\" >вирус</th>\n",
       "                        <td id=\"T_f684880d_0a11_11ea_a6fb_107b449f15fcrow8_col0\" class=\"data row8 col0\" >0.00638</td>\n",
       "            </tr>\n",
       "            <tr>\n",
       "                        <th id=\"T_f684880d_0a11_11ea_a6fb_107b449f15fclevel0_row9\" class=\"row_heading level0 row9\" >организм</th>\n",
       "                        <td id=\"T_f684880d_0a11_11ea_a6fb_107b449f15fcrow9_col0\" class=\"data row9 col0\" >0.00544</td>\n",
       "            </tr>\n",
       "    </tbody></table>"
      ]
     },
     "metadata": {},
     "output_type": "display_data"
    },
    {
     "data": {
      "text/html": [
       "<b> репликация днк </b>"
      ]
     },
     "metadata": {},
     "output_type": "display_data"
    },
    {
     "data": {
      "text/html": [
       "<b> зонд на основе днк измеряет силу между клеткой и поверхностью </b>"
      ]
     },
     "metadata": {},
     "output_type": "display_data"
    },
    {
     "data": {
      "text/html": [
       "<b> необычные формы днк </b>"
      ]
     },
     "metadata": {},
     "output_type": "display_data"
    },
    {
     "data": {
      "text/html": [
       "<b> внутренний космос </b>"
      ]
     },
     "metadata": {},
     "output_type": "display_data"
    },
    {
     "data": {
      "text/html": [
       "<b> центральная догма молекулярной биологии </b>"
      ]
     },
     "metadata": {},
     "output_type": "display_data"
    },
    {
     "data": {
      "text/html": [
       "<b> цитоскелет клеток </b>"
      ]
     },
     "metadata": {},
     "output_type": "display_data"
    },
    {
     "data": {
      "text/html": [
       "<b> структура прионов дрожжей </b>"
      ]
     },
     "metadata": {},
     "output_type": "display_data"
    },
    {
     "data": {
      "text/html": [
       "<b> биогенез ядерных телец </b>"
      ]
     },
     "metadata": {},
     "output_type": "display_data"
    },
    {
     "data": {
      "text/html": [
       "<b> теория phk-мира </b>"
      ]
     },
     "metadata": {},
     "output_type": "display_data"
    },
    {
     "data": {
      "text/html": [
       "<b> регионы-организаторы эмбриона </b>"
      ]
     },
     "metadata": {},
     "output_type": "display_data"
    },
    {
     "data": {
      "text/html": [
       "<style  type=\"text/css\" >\n",
       "</style><table id=\"T_f684880e_0a11_11ea_a6fb_107b449f15fc\" style='display:inline'><thead>    <tr>        <th class=\"blank level0\" ></th>        <th class=\"col_heading level0 col0\" >topic_30 @post_tag</th>    </tr></thead><tbody>\n",
       "                <tr>\n",
       "                        <th id=\"T_f684880e_0a11_11ea_a6fb_107b449f15fclevel0_row0\" class=\"row_heading level0 row0\" >политика</th>\n",
       "                        <td id=\"T_f684880e_0a11_11ea_a6fb_107b449f15fcrow0_col0\" class=\"data row0 col0\" >0.29684</td>\n",
       "            </tr>\n",
       "            <tr>\n",
       "                        <th id=\"T_f684880e_0a11_11ea_a6fb_107b449f15fclevel0_row1\" class=\"row_heading level0 row1\" >политология</th>\n",
       "                        <td id=\"T_f684880e_0a11_11ea_a6fb_107b449f15fcrow1_col0\" class=\"data row1 col0\" >0.14717</td>\n",
       "            </tr>\n",
       "            <tr>\n",
       "                        <th id=\"T_f684880e_0a11_11ea_a6fb_107b449f15fclevel0_row2\" class=\"row_heading level0 row2\" >либерализм</th>\n",
       "                        <td id=\"T_f684880e_0a11_11ea_a6fb_107b449f15fcrow2_col0\" class=\"data row2 col0\" >0.04541</td>\n",
       "            </tr>\n",
       "            <tr>\n",
       "                        <th id=\"T_f684880e_0a11_11ea_a6fb_107b449f15fclevel0_row3\" class=\"row_heading level0 row3\" >демократия</th>\n",
       "                        <td id=\"T_f684880e_0a11_11ea_a6fb_107b449f15fcrow3_col0\" class=\"data row3 col0\" >0.04541</td>\n",
       "            </tr>\n",
       "            <tr>\n",
       "                        <th id=\"T_f684880e_0a11_11ea_a6fb_107b449f15fclevel0_row4\" class=\"row_heading level0 row4\" >теория_принятия_решений</th>\n",
       "                        <td id=\"T_f684880e_0a11_11ea_a6fb_107b449f15fcrow4_col0\" class=\"data row4 col0\" >0.04266</td>\n",
       "            </tr>\n",
       "            <tr>\n",
       "                        <th id=\"T_f684880e_0a11_11ea_a6fb_107b449f15fclevel0_row5\" class=\"row_heading level0 row5\" >идеология</th>\n",
       "                        <td id=\"T_f684880e_0a11_11ea_a6fb_107b449f15fcrow5_col0\" class=\"data row5 col0\" >0.04026</td>\n",
       "            </tr>\n",
       "            <tr>\n",
       "                        <th id=\"T_f684880e_0a11_11ea_a6fb_107b449f15fclevel0_row6\" class=\"row_heading level0 row6\" >глобализация</th>\n",
       "                        <td id=\"T_f684880e_0a11_11ea_a6fb_107b449f15fcrow6_col0\" class=\"data row6 col0\" >0.03505</td>\n",
       "            </tr>\n",
       "            <tr>\n",
       "                        <th id=\"T_f684880e_0a11_11ea_a6fb_107b449f15fclevel0_row7\" class=\"row_heading level0 row7\" >теория_игр</th>\n",
       "                        <td id=\"T_f684880e_0a11_11ea_a6fb_107b449f15fcrow7_col0\" class=\"data row7 col0\" >0.03243</td>\n",
       "            </tr>\n",
       "            <tr>\n",
       "                        <th id=\"T_f684880e_0a11_11ea_a6fb_107b449f15fclevel0_row8\" class=\"row_heading level0 row8\" >политический_режим</th>\n",
       "                        <td id=\"T_f684880e_0a11_11ea_a6fb_107b449f15fcrow8_col0\" class=\"data row8 col0\" >0.0314</td>\n",
       "            </tr>\n",
       "            <tr>\n",
       "                        <th id=\"T_f684880e_0a11_11ea_a6fb_107b449f15fclevel0_row9\" class=\"row_heading level0 row9\" >культурная_политика</th>\n",
       "                        <td id=\"T_f684880e_0a11_11ea_a6fb_107b449f15fcrow9_col0\" class=\"data row9 col0\" >0.02424</td>\n",
       "            </tr>\n",
       "    </tbody></table><style  type=\"text/css\" >\n",
       "</style><table id=\"T_f684880f_0a11_11ea_a6fb_107b449f15fc\" style='display:inline'><thead>    <tr>        <th class=\"blank level0\" ></th>        <th class=\"col_heading level0 col0\" >topic_30 @word</th>    </tr></thead><tbody>\n",
       "                <tr>\n",
       "                        <th id=\"T_f684880f_0a11_11ea_a6fb_107b449f15fclevel0_row0\" class=\"row_heading level0 row0\" >власть</th>\n",
       "                        <td id=\"T_f684880f_0a11_11ea_a6fb_107b449f15fcrow0_col0\" class=\"data row0 col0\" >0.00755</td>\n",
       "            </tr>\n",
       "            <tr>\n",
       "                        <th id=\"T_f684880f_0a11_11ea_a6fb_107b449f15fclevel0_row1\" class=\"row_heading level0 row1\" >государство</th>\n",
       "                        <td id=\"T_f684880f_0a11_11ea_a6fb_107b449f15fcrow1_col0\" class=\"data row1 col0\" >0.00726</td>\n",
       "            </tr>\n",
       "            <tr>\n",
       "                        <th id=\"T_f684880f_0a11_11ea_a6fb_107b449f15fclevel0_row2\" class=\"row_heading level0 row2\" >политика</th>\n",
       "                        <td id=\"T_f684880f_0a11_11ea_a6fb_107b449f15fcrow2_col0\" class=\"data row2 col0\" >0.00693</td>\n",
       "            </tr>\n",
       "            <tr>\n",
       "                        <th id=\"T_f684880f_0a11_11ea_a6fb_107b449f15fclevel0_row3\" class=\"row_heading level0 row3\" >политический</th>\n",
       "                        <td id=\"T_f684880f_0a11_11ea_a6fb_107b449f15fcrow3_col0\" class=\"data row3 col0\" >0.00629</td>\n",
       "            </tr>\n",
       "            <tr>\n",
       "                        <th id=\"T_f684880f_0a11_11ea_a6fb_107b449f15fclevel0_row4\" class=\"row_heading level0 row4\" >демократия</th>\n",
       "                        <td id=\"T_f684880f_0a11_11ea_a6fb_107b449f15fcrow4_col0\" class=\"data row4 col0\" >0.00617</td>\n",
       "            </tr>\n",
       "            <tr>\n",
       "                        <th id=\"T_f684880f_0a11_11ea_a6fb_107b449f15fclevel0_row5\" class=\"row_heading level0 row5\" >свобода</th>\n",
       "                        <td id=\"T_f684880f_0a11_11ea_a6fb_107b449f15fcrow5_col0\" class=\"data row5 col0\" >0.00571</td>\n",
       "            </tr>\n",
       "            <tr>\n",
       "                        <th id=\"T_f684880f_0a11_11ea_a6fb_107b449f15fclevel0_row6\" class=\"row_heading level0 row6\" >страна</th>\n",
       "                        <td id=\"T_f684880f_0a11_11ea_a6fb_107b449f15fcrow6_col0\" class=\"data row6 col0\" >0.00488</td>\n",
       "            </tr>\n",
       "            <tr>\n",
       "                        <th id=\"T_f684880f_0a11_11ea_a6fb_107b449f15fclevel0_row7\" class=\"row_heading level0 row7\" >общество</th>\n",
       "                        <td id=\"T_f684880f_0a11_11ea_a6fb_107b449f15fcrow7_col0\" class=\"data row7 col0\" >0.00431</td>\n",
       "            </tr>\n",
       "            <tr>\n",
       "                        <th id=\"T_f684880f_0a11_11ea_a6fb_107b449f15fclevel0_row8\" class=\"row_heading level0 row8\" >сторона</th>\n",
       "                        <td id=\"T_f684880f_0a11_11ea_a6fb_107b449f15fcrow8_col0\" class=\"data row8 col0\" >0.0043</td>\n",
       "            </tr>\n",
       "            <tr>\n",
       "                        <th id=\"T_f684880f_0a11_11ea_a6fb_107b449f15fclevel0_row9\" class=\"row_heading level0 row9\" >должный</th>\n",
       "                        <td id=\"T_f684880f_0a11_11ea_a6fb_107b449f15fcrow9_col0\" class=\"data row9 col0\" >0.00405</td>\n",
       "            </tr>\n",
       "    </tbody></table>"
      ]
     },
     "metadata": {},
     "output_type": "display_data"
    },
    {
     "data": {
      "text/html": [
       "<b> мнения избирателей и платформы партий </b>"
      ]
     },
     "metadata": {},
     "output_type": "display_data"
    },
    {
     "data": {
      "text/html": [
       "<b> главыискаженная демократия </b>"
      ]
     },
     "metadata": {},
     "output_type": "display_data"
    },
    {
     "data": {
      "text/html": [
       "<b> русский анархизм </b>"
      ]
     },
     "metadata": {},
     "output_type": "display_data"
    },
    {
     "data": {
      "text/html": [
       "<b> выборы президента сша </b>"
      ]
     },
     "metadata": {},
     "output_type": "display_data"
    },
    {
     "data": {
      "text/html": [
       "<b> либерализм в теории международных отношений </b>"
      ]
     },
     "metadata": {},
     "output_type": "display_data"
    },
    {
     "data": {
      "text/html": [
       "<b> главы # дискурс и расизм </b>"
      ]
     },
     "metadata": {},
     "output_type": "display_data"
    },
    {
     "data": {
      "text/html": [
       "<b> главы # стратегические ходы </b>"
      ]
     },
     "metadata": {},
     "output_type": "display_data"
    },
    {
     "data": {
      "text/html": [
       "<b> faqреспубликанизм и свобода </b>"
      ]
     },
     "metadata": {},
     "output_type": "display_data"
    },
    {
     "data": {
      "text/html": [
       "<b> изобретение культурной политики </b>"
      ]
     },
     "metadata": {},
     "output_type": "display_data"
    },
    {
     "data": {
      "text/html": [
       "<b> республиканизм и свобода </b>"
      ]
     },
     "metadata": {},
     "output_type": "display_data"
    },
    {
     "data": {
      "text/html": [
       "<style  type=\"text/css\" >\n",
       "</style><table id=\"T_f6848810_0a11_11ea_a6fb_107b449f15fc\" style='display:inline'><thead>    <tr>        <th class=\"blank level0\" ></th>        <th class=\"col_heading level0 col0\" >topic_31 @post_tag</th>    </tr></thead><tbody>\n",
       "                <tr>\n",
       "                        <th id=\"T_f6848810_0a11_11ea_a6fb_107b449f15fclevel0_row0\" class=\"row_heading level0 row0\" >философия</th>\n",
       "                        <td id=\"T_f6848810_0a11_11ea_a6fb_107b449f15fcrow0_col0\" class=\"data row0 col0\" >0.39769</td>\n",
       "            </tr>\n",
       "            <tr>\n",
       "                        <th id=\"T_f6848810_0a11_11ea_a6fb_107b449f15fclevel0_row1\" class=\"row_heading level0 row1\" >мифология</th>\n",
       "                        <td id=\"T_f6848810_0a11_11ea_a6fb_107b449f15fcrow1_col0\" class=\"data row1 col0\" >0.07356</td>\n",
       "            </tr>\n",
       "            <tr>\n",
       "                        <th id=\"T_f6848810_0a11_11ea_a6fb_107b449f15fclevel0_row2\" class=\"row_heading level0 row2\" >древняя_греция</th>\n",
       "                        <td id=\"T_f6848810_0a11_11ea_a6fb_107b449f15fcrow2_col0\" class=\"data row2 col0\" >0.05347</td>\n",
       "            </tr>\n",
       "            <tr>\n",
       "                        <th id=\"T_f6848810_0a11_11ea_a6fb_107b449f15fclevel0_row3\" class=\"row_heading level0 row3\" >античность</th>\n",
       "                        <td id=\"T_f6848810_0a11_11ea_a6fb_107b449f15fcrow3_col0\" class=\"data row3 col0\" >0.05345</td>\n",
       "            </tr>\n",
       "            <tr>\n",
       "                        <th id=\"T_f6848810_0a11_11ea_a6fb_107b449f15fclevel0_row4\" class=\"row_heading level0 row4\" >миф</th>\n",
       "                        <td id=\"T_f6848810_0a11_11ea_a6fb_107b449f15fcrow4_col0\" class=\"data row4 col0\" >0.05171</td>\n",
       "            </tr>\n",
       "            <tr>\n",
       "                        <th id=\"T_f6848810_0a11_11ea_a6fb_107b449f15fclevel0_row5\" class=\"row_heading level0 row5\" >кант_иммануил</th>\n",
       "                        <td id=\"T_f6848810_0a11_11ea_a6fb_107b449f15fcrow5_col0\" class=\"data row5 col0\" >0.04669</td>\n",
       "            </tr>\n",
       "            <tr>\n",
       "                        <th id=\"T_f6848810_0a11_11ea_a6fb_107b449f15fclevel0_row6\" class=\"row_heading level0 row6\" >аристотель</th>\n",
       "                        <td id=\"T_f6848810_0a11_11ea_a6fb_107b449f15fcrow6_col0\" class=\"data row6 col0\" >0.04164</td>\n",
       "            </tr>\n",
       "            <tr>\n",
       "                        <th id=\"T_f6848810_0a11_11ea_a6fb_107b449f15fclevel0_row7\" class=\"row_heading level0 row7\" >платон</th>\n",
       "                        <td id=\"T_f6848810_0a11_11ea_a6fb_107b449f15fcrow7_col0\" class=\"data row7 col0\" >0.03999</td>\n",
       "            </tr>\n",
       "            <tr>\n",
       "                        <th id=\"T_f6848810_0a11_11ea_a6fb_107b449f15fclevel0_row8\" class=\"row_heading level0 row8\" >сократ</th>\n",
       "                        <td id=\"T_f6848810_0a11_11ea_a6fb_107b449f15fcrow8_col0\" class=\"data row8 col0\" >0.01977</td>\n",
       "            </tr>\n",
       "            <tr>\n",
       "                        <th id=\"T_f6848810_0a11_11ea_a6fb_107b449f15fclevel0_row9\" class=\"row_heading level0 row9\" >немецкая_классическая_философия</th>\n",
       "                        <td id=\"T_f6848810_0a11_11ea_a6fb_107b449f15fcrow9_col0\" class=\"data row9 col0\" >0.01967</td>\n",
       "            </tr>\n",
       "    </tbody></table><style  type=\"text/css\" >\n",
       "</style><table id=\"T_f6848811_0a11_11ea_a6fb_107b449f15fc\" style='display:inline'><thead>    <tr>        <th class=\"blank level0\" ></th>        <th class=\"col_heading level0 col0\" >topic_31 @word</th>    </tr></thead><tbody>\n",
       "                <tr>\n",
       "                        <th id=\"T_f6848811_0a11_11ea_a6fb_107b449f15fclevel0_row0\" class=\"row_heading level0 row0\" >философия</th>\n",
       "                        <td id=\"T_f6848811_0a11_11ea_a6fb_107b449f15fcrow0_col0\" class=\"data row0 col0\" >0.01121</td>\n",
       "            </tr>\n",
       "            <tr>\n",
       "                        <th id=\"T_f6848811_0a11_11ea_a6fb_107b449f15fclevel0_row1\" class=\"row_heading level0 row1\" >философ</th>\n",
       "                        <td id=\"T_f6848811_0a11_11ea_a6fb_107b449f15fcrow1_col0\" class=\"data row1 col0\" >0.00821</td>\n",
       "            </tr>\n",
       "            <tr>\n",
       "                        <th id=\"T_f6848811_0a11_11ea_a6fb_107b449f15fclevel0_row2\" class=\"row_heading level0 row2\" >говорить</th>\n",
       "                        <td id=\"T_f6848811_0a11_11ea_a6fb_107b449f15fcrow2_col0\" class=\"data row2 col0\" >0.00664</td>\n",
       "            </tr>\n",
       "            <tr>\n",
       "                        <th id=\"T_f6848811_0a11_11ea_a6fb_107b449f15fclevel0_row3\" class=\"row_heading level0 row3\" >миф</th>\n",
       "                        <td id=\"T_f6848811_0a11_11ea_a6fb_107b449f15fcrow3_col0\" class=\"data row3 col0\" >0.00566</td>\n",
       "            </tr>\n",
       "            <tr>\n",
       "                        <th id=\"T_f6848811_0a11_11ea_a6fb_107b449f15fclevel0_row4\" class=\"row_heading level0 row4\" >книга</th>\n",
       "                        <td id=\"T_f6848811_0a11_11ea_a6fb_107b449f15fcrow4_col0\" class=\"data row4 col0\" >0.0056</td>\n",
       "            </tr>\n",
       "            <tr>\n",
       "                        <th id=\"T_f6848811_0a11_11ea_a6fb_107b449f15fclevel0_row5\" class=\"row_heading level0 row5\" >философский</th>\n",
       "                        <td id=\"T_f6848811_0a11_11ea_a6fb_107b449f15fcrow5_col0\" class=\"data row5 col0\" >0.00532</td>\n",
       "            </tr>\n",
       "            <tr>\n",
       "                        <th id=\"T_f6848811_0a11_11ea_a6fb_107b449f15fclevel0_row6\" class=\"row_heading level0 row6\" >представление</th>\n",
       "                        <td id=\"T_f6848811_0a11_11ea_a6fb_107b449f15fcrow6_col0\" class=\"data row6 col0\" >0.00522</td>\n",
       "            </tr>\n",
       "            <tr>\n",
       "                        <th id=\"T_f6848811_0a11_11ea_a6fb_107b449f15fclevel0_row7\" class=\"row_heading level0 row7\" >наука</th>\n",
       "                        <td id=\"T_f6848811_0a11_11ea_a6fb_107b449f15fcrow7_col0\" class=\"data row7 col0\" >0.00506</td>\n",
       "            </tr>\n",
       "            <tr>\n",
       "                        <th id=\"T_f6848811_0a11_11ea_a6fb_107b449f15fclevel0_row8\" class=\"row_heading level0 row8\" >знание</th>\n",
       "                        <td id=\"T_f6848811_0a11_11ea_a6fb_107b449f15fcrow8_col0\" class=\"data row8 col0\" >0.00495</td>\n",
       "            </tr>\n",
       "            <tr>\n",
       "                        <th id=\"T_f6848811_0a11_11ea_a6fb_107b449f15fclevel0_row9\" class=\"row_heading level0 row9\" >понятие</th>\n",
       "                        <td id=\"T_f6848811_0a11_11ea_a6fb_107b449f15fcrow9_col0\" class=\"data row9 col0\" >0.00457</td>\n",
       "            </tr>\n",
       "    </tbody></table>"
      ]
     },
     "metadata": {},
     "output_type": "display_data"
    },
    {
     "data": {
      "text/html": [
       "<b> немецкая классическая философия как понятие </b>"
      ]
     },
     "metadata": {},
     "output_type": "display_data"
    },
    {
     "data": {
      "text/html": [
       "<b> ироническая эстетика зольгера </b>"
      ]
     },
     "metadata": {},
     "output_type": "display_data"
    },
    {
     "data": {
      "text/html": [
       "<b> эрос в античной культуре </b>"
      ]
     },
     "metadata": {},
     "output_type": "display_data"
    },
    {
     "data": {
      "text/html": [
       "<b> «теория прибавочного элемента»  к. малевича </b>"
      ]
     },
     "metadata": {},
     "output_type": "display_data"
    },
    {
     "data": {
      "text/html": [
       "<b> философия сознаниясвобода воли и детерминизм </b>"
      ]
     },
     "metadata": {},
     "output_type": "display_data"
    },
    {
     "data": {
      "text/html": [
       "<b> faqэрос в античной культуре </b>"
      ]
     },
     "metadata": {},
     "output_type": "display_data"
    },
    {
     "data": {
      "text/html": [
       "<b> 5 книг о немецкой классической философии </b>"
      ]
     },
     "metadata": {},
     "output_type": "display_data"
    },
    {
     "data": {
      "text/html": [
       "<b> политическая философия эроса </b>"
      ]
     },
     "metadata": {},
     "output_type": "display_data"
    },
    {
     "data": {
      "text/html": [
       "<b> faqнемецкая классическая философия как понятие </b>"
      ]
     },
     "metadata": {},
     "output_type": "display_data"
    },
    {
     "data": {
      "text/html": [
       "<b> экономические взгляды сократа </b>"
      ]
     },
     "metadata": {},
     "output_type": "display_data"
    },
    {
     "data": {
      "text/html": [
       "<style  type=\"text/css\" >\n",
       "</style><table id=\"T_f6848812_0a11_11ea_a6fb_107b449f15fc\" style='display:inline'><thead>    <tr>        <th class=\"blank level0\" ></th>        <th class=\"col_heading level0 col0\" >topic_32 @post_tag</th>    </tr></thead><tbody>\n",
       "                <tr>\n",
       "                        <th id=\"T_f6848812_0a11_11ea_a6fb_107b449f15fclevel0_row0\" class=\"row_heading level0 row0\" >право</th>\n",
       "                        <td id=\"T_f6848812_0a11_11ea_a6fb_107b449f15fcrow0_col0\" class=\"data row0 col0\" >0.23575</td>\n",
       "            </tr>\n",
       "            <tr>\n",
       "                        <th id=\"T_f6848812_0a11_11ea_a6fb_107b449f15fclevel0_row1\" class=\"row_heading level0 row1\" >политическая_философия</th>\n",
       "                        <td id=\"T_f6848812_0a11_11ea_a6fb_107b449f15fcrow1_col0\" class=\"data row1 col0\" >0.12064</td>\n",
       "            </tr>\n",
       "            <tr>\n",
       "                        <th id=\"T_f6848812_0a11_11ea_a6fb_107b449f15fclevel0_row2\" class=\"row_heading level0 row2\" >юриспруденция</th>\n",
       "                        <td id=\"T_f6848812_0a11_11ea_a6fb_107b449f15fcrow2_col0\" class=\"data row2 col0\" >0.11516</td>\n",
       "            </tr>\n",
       "            <tr>\n",
       "                        <th id=\"T_f6848812_0a11_11ea_a6fb_107b449f15fclevel0_row3\" class=\"row_heading level0 row3\" >римское_право</th>\n",
       "                        <td id=\"T_f6848812_0a11_11ea_a6fb_107b449f15fcrow3_col0\" class=\"data row3 col0\" >0.08497</td>\n",
       "            </tr>\n",
       "            <tr>\n",
       "                        <th id=\"T_f6848812_0a11_11ea_a6fb_107b449f15fclevel0_row4\" class=\"row_heading level0 row4\" >рим</th>\n",
       "                        <td id=\"T_f6848812_0a11_11ea_a6fb_107b449f15fcrow4_col0\" class=\"data row4 col0\" >0.0712</td>\n",
       "            </tr>\n",
       "            <tr>\n",
       "                        <th id=\"T_f6848812_0a11_11ea_a6fb_107b449f15fclevel0_row5\" class=\"row_heading level0 row5\" >социология_права</th>\n",
       "                        <td id=\"T_f6848812_0a11_11ea_a6fb_107b449f15fcrow5_col0\" class=\"data row5 col0\" >0.04345</td>\n",
       "            </tr>\n",
       "            <tr>\n",
       "                        <th id=\"T_f6848812_0a11_11ea_a6fb_107b449f15fclevel0_row6\" class=\"row_heading level0 row6\" >история_права</th>\n",
       "                        <td id=\"T_f6848812_0a11_11ea_a6fb_107b449f15fcrow6_col0\" class=\"data row6 col0\" >0.04047</td>\n",
       "            </tr>\n",
       "            <tr>\n",
       "                        <th id=\"T_f6848812_0a11_11ea_a6fb_107b449f15fclevel0_row7\" class=\"row_heading level0 row7\" >мораль</th>\n",
       "                        <td id=\"T_f6848812_0a11_11ea_a6fb_107b449f15fcrow7_col0\" class=\"data row7 col0\" >0.02947</td>\n",
       "            </tr>\n",
       "            <tr>\n",
       "                        <th id=\"T_f6848812_0a11_11ea_a6fb_107b449f15fclevel0_row8\" class=\"row_heading level0 row8\" >судопроизводство</th>\n",
       "                        <td id=\"T_f6848812_0a11_11ea_a6fb_107b449f15fcrow8_col0\" class=\"data row8 col0\" >0.02375</td>\n",
       "            </tr>\n",
       "            <tr>\n",
       "                        <th id=\"T_f6848812_0a11_11ea_a6fb_107b449f15fclevel0_row9\" class=\"row_heading level0 row9\" >политическая_теория</th>\n",
       "                        <td id=\"T_f6848812_0a11_11ea_a6fb_107b449f15fcrow9_col0\" class=\"data row9 col0\" >0.02366</td>\n",
       "            </tr>\n",
       "    </tbody></table><style  type=\"text/css\" >\n",
       "</style><table id=\"T_f6848813_0a11_11ea_a6fb_107b449f15fc\" style='display:inline'><thead>    <tr>        <th class=\"blank level0\" ></th>        <th class=\"col_heading level0 col0\" >topic_32 @word</th>    </tr></thead><tbody>\n",
       "                <tr>\n",
       "                        <th id=\"T_f6848813_0a11_11ea_a6fb_107b449f15fclevel0_row0\" class=\"row_heading level0 row0\" >право</th>\n",
       "                        <td id=\"T_f6848813_0a11_11ea_a6fb_107b449f15fcrow0_col0\" class=\"data row0 col0\" >0.02625</td>\n",
       "            </tr>\n",
       "            <tr>\n",
       "                        <th id=\"T_f6848813_0a11_11ea_a6fb_107b449f15fclevel0_row1\" class=\"row_heading level0 row1\" >закон</th>\n",
       "                        <td id=\"T_f6848813_0a11_11ea_a6fb_107b449f15fcrow1_col0\" class=\"data row1 col0\" >0.01401</td>\n",
       "            </tr>\n",
       "            <tr>\n",
       "                        <th id=\"T_f6848813_0a11_11ea_a6fb_107b449f15fclevel0_row2\" class=\"row_heading level0 row2\" >суд</th>\n",
       "                        <td id=\"T_f6848813_0a11_11ea_a6fb_107b449f15fcrow2_col0\" class=\"data row2 col0\" >0.00752</td>\n",
       "            </tr>\n",
       "            <tr>\n",
       "                        <th id=\"T_f6848813_0a11_11ea_a6fb_107b449f15fclevel0_row3\" class=\"row_heading level0 row3\" >юрист</th>\n",
       "                        <td id=\"T_f6848813_0a11_11ea_a6fb_107b449f15fcrow3_col0\" class=\"data row3 col0\" >0.00558</td>\n",
       "            </tr>\n",
       "            <tr>\n",
       "                        <th id=\"T_f6848813_0a11_11ea_a6fb_107b449f15fclevel0_row4\" class=\"row_heading level0 row4\" >правовой</th>\n",
       "                        <td id=\"T_f6848813_0a11_11ea_a6fb_107b449f15fcrow4_col0\" class=\"data row4 col0\" >0.00531</td>\n",
       "            </tr>\n",
       "            <tr>\n",
       "                        <th id=\"T_f6848813_0a11_11ea_a6fb_107b449f15fclevel0_row5\" class=\"row_heading level0 row5\" >судья</th>\n",
       "                        <td id=\"T_f6848813_0a11_11ea_a6fb_107b449f15fcrow5_col0\" class=\"data row5 col0\" >0.0048</td>\n",
       "            </tr>\n",
       "            <tr>\n",
       "                        <th id=\"T_f6848813_0a11_11ea_a6fb_107b449f15fclevel0_row6\" class=\"row_heading level0 row6\" >власть</th>\n",
       "                        <td id=\"T_f6848813_0a11_11ea_a6fb_107b449f15fcrow6_col0\" class=\"data row6 col0\" >0.00405</td>\n",
       "            </tr>\n",
       "            <tr>\n",
       "                        <th id=\"T_f6848813_0a11_11ea_a6fb_107b449f15fclevel0_row7\" class=\"row_heading level0 row7\" >тинг</th>\n",
       "                        <td id=\"T_f6848813_0a11_11ea_a6fb_107b449f15fcrow7_col0\" class=\"data row7 col0\" >0.00394</td>\n",
       "            </tr>\n",
       "            <tr>\n",
       "                        <th id=\"T_f6848813_0a11_11ea_a6fb_107b449f15fclevel0_row8\" class=\"row_heading level0 row8\" >отношение</th>\n",
       "                        <td id=\"T_f6848813_0a11_11ea_a6fb_107b449f15fcrow8_col0\" class=\"data row8 col0\" >0.00393</td>\n",
       "            </tr>\n",
       "            <tr>\n",
       "                        <th id=\"T_f6848813_0a11_11ea_a6fb_107b449f15fclevel0_row9\" class=\"row_heading level0 row9\" >являться</th>\n",
       "                        <td id=\"T_f6848813_0a11_11ea_a6fb_107b449f15fcrow9_col0\" class=\"data row9 col0\" >0.00381</td>\n",
       "            </tr>\n",
       "    </tbody></table>"
      ]
     },
     "metadata": {},
     "output_type": "display_data"
    },
    {
     "data": {
      "text/html": [
       "<b> римское право </b>"
      ]
     },
     "metadata": {},
     "output_type": "display_data"
    },
    {
     "data": {
      "text/html": [
       "<b> обязательства </b>"
      ]
     },
     "metadata": {},
     "output_type": "display_data"
    },
    {
     "data": {
      "text/html": [
       "<b> лица </b>"
      ]
     },
     "metadata": {},
     "output_type": "display_data"
    },
    {
     "data": {
      "text/html": [
       "<b> купля-продажа </b>"
      ]
     },
     "metadata": {},
     "output_type": "display_data"
    },
    {
     "data": {
      "text/html": [
       "<b> владение </b>"
      ]
     },
     "metadata": {},
     "output_type": "display_data"
    },
    {
     "data": {
      "text/html": [
       "<b> контракты </b>"
      ]
     },
     "metadata": {},
     "output_type": "display_data"
    },
    {
     "data": {
      "text/html": [
       "<b> приобретательная давность </b>"
      ]
     },
     "metadata": {},
     "output_type": "display_data"
    },
    {
     "data": {
      "text/html": [
       "<b> вещные права </b>"
      ]
     },
     "metadata": {},
     "output_type": "display_data"
    },
    {
     "data": {
      "text/html": [
       "<b> залог </b>"
      ]
     },
     "metadata": {},
     "output_type": "display_data"
    },
    {
     "data": {
      "text/html": [
       "<b> сервитуты </b>"
      ]
     },
     "metadata": {},
     "output_type": "display_data"
    },
    {
     "data": {
      "text/html": [
       "<style  type=\"text/css\" >\n",
       "</style><table id=\"T_f6848814_0a11_11ea_a6fb_107b449f15fc\" style='display:inline'><thead>    <tr>        <th class=\"blank level0\" ></th>        <th class=\"col_heading level0 col0\" >topic_33 @post_tag</th>    </tr></thead><tbody>\n",
       "                <tr>\n",
       "                        <th id=\"T_f6848814_0a11_11ea_a6fb_107b449f15fclevel0_row0\" class=\"row_heading level0 row0\" >квантовая_физика</th>\n",
       "                        <td id=\"T_f6848814_0a11_11ea_a6fb_107b449f15fcrow0_col0\" class=\"data row0 col0\" >0.10232</td>\n",
       "            </tr>\n",
       "            <tr>\n",
       "                        <th id=\"T_f6848814_0a11_11ea_a6fb_107b449f15fclevel0_row1\" class=\"row_heading level0 row1\" >космология</th>\n",
       "                        <td id=\"T_f6848814_0a11_11ea_a6fb_107b449f15fcrow1_col0\" class=\"data row1 col0\" >0.08476</td>\n",
       "            </tr>\n",
       "            <tr>\n",
       "                        <th id=\"T_f6848814_0a11_11ea_a6fb_107b449f15fclevel0_row2\" class=\"row_heading level0 row2\" >атом</th>\n",
       "                        <td id=\"T_f6848814_0a11_11ea_a6fb_107b449f15fcrow2_col0\" class=\"data row2 col0\" >0.07271</td>\n",
       "            </tr>\n",
       "            <tr>\n",
       "                        <th id=\"T_f6848814_0a11_11ea_a6fb_107b449f15fclevel0_row3\" class=\"row_heading level0 row3\" >квантовая_механика</th>\n",
       "                        <td id=\"T_f6848814_0a11_11ea_a6fb_107b449f15fcrow3_col0\" class=\"data row3 col0\" >0.05531</td>\n",
       "            </tr>\n",
       "            <tr>\n",
       "                        <th id=\"T_f6848814_0a11_11ea_a6fb_107b449f15fclevel0_row4\" class=\"row_heading level0 row4\" >магнитное_поле</th>\n",
       "                        <td id=\"T_f6848814_0a11_11ea_a6fb_107b449f15fcrow4_col0\" class=\"data row4 col0\" >0.05164</td>\n",
       "            </tr>\n",
       "            <tr>\n",
       "                        <th id=\"T_f6848814_0a11_11ea_a6fb_107b449f15fclevel0_row5\" class=\"row_heading level0 row5\" >электрон</th>\n",
       "                        <td id=\"T_f6848814_0a11_11ea_a6fb_107b449f15fcrow5_col0\" class=\"data row5 col0\" >0.05002</td>\n",
       "            </tr>\n",
       "            <tr>\n",
       "                        <th id=\"T_f6848814_0a11_11ea_a6fb_107b449f15fclevel0_row6\" class=\"row_heading level0 row6\" >фотоны</th>\n",
       "                        <td id=\"T_f6848814_0a11_11ea_a6fb_107b449f15fcrow6_col0\" class=\"data row6 col0\" >0.04636</td>\n",
       "            </tr>\n",
       "            <tr>\n",
       "                        <th id=\"T_f6848814_0a11_11ea_a6fb_107b449f15fclevel0_row7\" class=\"row_heading level0 row7\" >реликтовое_излучение</th>\n",
       "                        <td id=\"T_f6848814_0a11_11ea_a6fb_107b449f15fcrow7_col0\" class=\"data row7 col0\" >0.04625</td>\n",
       "            </tr>\n",
       "            <tr>\n",
       "                        <th id=\"T_f6848814_0a11_11ea_a6fb_107b449f15fclevel0_row8\" class=\"row_heading level0 row8\" >квантовые_технологии</th>\n",
       "                        <td id=\"T_f6848814_0a11_11ea_a6fb_107b449f15fcrow8_col0\" class=\"data row8 col0\" >0.04277</td>\n",
       "            </tr>\n",
       "            <tr>\n",
       "                        <th id=\"T_f6848814_0a11_11ea_a6fb_107b449f15fclevel0_row9\" class=\"row_heading level0 row9\" >оптика</th>\n",
       "                        <td id=\"T_f6848814_0a11_11ea_a6fb_107b449f15fcrow9_col0\" class=\"data row9 col0\" >0.03754</td>\n",
       "            </tr>\n",
       "    </tbody></table><style  type=\"text/css\" >\n",
       "</style><table id=\"T_f6848815_0a11_11ea_a6fb_107b449f15fc\" style='display:inline'><thead>    <tr>        <th class=\"blank level0\" ></th>        <th class=\"col_heading level0 col0\" >topic_33 @word</th>    </tr></thead><tbody>\n",
       "                <tr>\n",
       "                        <th id=\"T_f6848815_0a11_11ea_a6fb_107b449f15fclevel0_row0\" class=\"row_heading level0 row0\" >атом</th>\n",
       "                        <td id=\"T_f6848815_0a11_11ea_a6fb_107b449f15fcrow0_col0\" class=\"data row0 col0\" >0.00919</td>\n",
       "            </tr>\n",
       "            <tr>\n",
       "                        <th id=\"T_f6848815_0a11_11ea_a6fb_107b449f15fclevel0_row1\" class=\"row_heading level0 row1\" >электрон</th>\n",
       "                        <td id=\"T_f6848815_0a11_11ea_a6fb_107b449f15fcrow1_col0\" class=\"data row1 col0\" >0.0082</td>\n",
       "            </tr>\n",
       "            <tr>\n",
       "                        <th id=\"T_f6848815_0a11_11ea_a6fb_107b449f15fclevel0_row2\" class=\"row_heading level0 row2\" >фотон</th>\n",
       "                        <td id=\"T_f6848815_0a11_11ea_a6fb_107b449f15fcrow2_col0\" class=\"data row2 col0\" >0.00792</td>\n",
       "            </tr>\n",
       "            <tr>\n",
       "                        <th id=\"T_f6848815_0a11_11ea_a6fb_107b449f15fclevel0_row3\" class=\"row_heading level0 row3\" >вселенная</th>\n",
       "                        <td id=\"T_f6848815_0a11_11ea_a6fb_107b449f15fcrow3_col0\" class=\"data row3 col0\" >0.00753</td>\n",
       "            </tr>\n",
       "            <tr>\n",
       "                        <th id=\"T_f6848815_0a11_11ea_a6fb_107b449f15fclevel0_row4\" class=\"row_heading level0 row4\" >свет</th>\n",
       "                        <td id=\"T_f6848815_0a11_11ea_a6fb_107b449f15fcrow4_col0\" class=\"data row4 col0\" >0.00656</td>\n",
       "            </tr>\n",
       "            <tr>\n",
       "                        <th id=\"T_f6848815_0a11_11ea_a6fb_107b449f15fclevel0_row5\" class=\"row_heading level0 row5\" >теория</th>\n",
       "                        <td id=\"T_f6848815_0a11_11ea_a6fb_107b449f15fcrow5_col0\" class=\"data row5 col0\" >0.00578</td>\n",
       "            </tr>\n",
       "            <tr>\n",
       "                        <th id=\"T_f6848815_0a11_11ea_a6fb_107b449f15fclevel0_row6\" class=\"row_heading level0 row6\" >система</th>\n",
       "                        <td id=\"T_f6848815_0a11_11ea_a6fb_107b449f15fcrow6_col0\" class=\"data row6 col0\" >0.00562</td>\n",
       "            </tr>\n",
       "            <tr>\n",
       "                        <th id=\"T_f6848815_0a11_11ea_a6fb_107b449f15fclevel0_row7\" class=\"row_heading level0 row7\" >частица</th>\n",
       "                        <td id=\"T_f6848815_0a11_11ea_a6fb_107b449f15fcrow7_col0\" class=\"data row7 col0\" >0.00502</td>\n",
       "            </tr>\n",
       "            <tr>\n",
       "                        <th id=\"T_f6848815_0a11_11ea_a6fb_107b449f15fclevel0_row8\" class=\"row_heading level0 row8\" >квантовый</th>\n",
       "                        <td id=\"T_f6848815_0a11_11ea_a6fb_107b449f15fcrow8_col0\" class=\"data row8 col0\" >0.00477</td>\n",
       "            </tr>\n",
       "            <tr>\n",
       "                        <th id=\"T_f6848815_0a11_11ea_a6fb_107b449f15fclevel0_row9\" class=\"row_heading level0 row9\" >являться</th>\n",
       "                        <td id=\"T_f6848815_0a11_11ea_a6fb_107b449f15fcrow9_col0\" class=\"data row9 col0\" >0.00473</td>\n",
       "            </tr>\n",
       "    </tbody></table>"
      ]
     },
     "metadata": {},
     "output_type": "display_data"
    },
    {
     "data": {
      "text/html": [
       "<b> диалогиуправление светом с помощью плазмонов </b>"
      ]
     },
     "metadata": {},
     "output_type": "display_data"
    },
    {
     "data": {
      "text/html": [
       "<b> оптический магнитометр </b>"
      ]
     },
     "metadata": {},
     "output_type": "display_data"
    },
    {
     "data": {
      "text/html": [
       "<b> квантовые интерфейсы </b>"
      ]
     },
     "metadata": {},
     "output_type": "display_data"
    },
    {
     "data": {
      "text/html": [
       "<b> технология охлаждения атомов </b>"
      ]
     },
     "metadata": {},
     "output_type": "display_data"
    },
    {
     "data": {
      "text/html": [
       "<b> незатухающие токи в металлических кольцах </b>"
      ]
     },
     "metadata": {},
     "output_type": "display_data"
    },
    {
     "data": {
      "text/html": [
       "<b> faqквантовые интерфейсы </b>"
      ]
     },
     "metadata": {},
     "output_type": "display_data"
    },
    {
     "data": {
      "text/html": [
       "<b> лазерное детектирование радиоволн </b>"
      ]
     },
     "metadata": {},
     "output_type": "display_data"
    },
    {
     "data": {
      "text/html": [
       "<b> плазмонные наноструктуры </b>"
      ]
     },
     "metadata": {},
     "output_type": "display_data"
    },
    {
     "data": {
      "text/html": [
       "<b> экстремальные световые поля </b>"
      ]
     },
     "metadata": {},
     "output_type": "display_data"
    },
    {
     "data": {
      "text/html": [
       "<b> у атомов обнаружили суперпозицию траекторий движения </b>"
      ]
     },
     "metadata": {},
     "output_type": "display_data"
    },
    {
     "data": {
      "text/html": [
       "<style  type=\"text/css\" >\n",
       "</style><table id=\"T_f6848816_0a11_11ea_a6fb_107b449f15fc\" style='display:inline'><thead>    <tr>        <th class=\"blank level0\" ></th>        <th class=\"col_heading level0 col0\" >topic_34 @post_tag</th>    </tr></thead><tbody>\n",
       "                <tr>\n",
       "                        <th id=\"T_f6848816_0a11_11ea_a6fb_107b449f15fclevel0_row0\" class=\"row_heading level0 row0\" >история</th>\n",
       "                        <td id=\"T_f6848816_0a11_11ea_a6fb_107b449f15fcrow0_col0\" class=\"data row0 col0\" >0.53764</td>\n",
       "            </tr>\n",
       "            <tr>\n",
       "                        <th id=\"T_f6848816_0a11_11ea_a6fb_107b449f15fclevel0_row1\" class=\"row_heading level0 row1\" >история_россии</th>\n",
       "                        <td id=\"T_f6848816_0a11_11ea_a6fb_107b449f15fcrow1_col0\" class=\"data row1 col0\" >0.10727</td>\n",
       "            </tr>\n",
       "            <tr>\n",
       "                        <th id=\"T_f6848816_0a11_11ea_a6fb_107b449f15fclevel0_row2\" class=\"row_heading level0 row2\" >ссср</th>\n",
       "                        <td id=\"T_f6848816_0a11_11ea_a6fb_107b449f15fcrow2_col0\" class=\"data row2 col0\" >0.08952</td>\n",
       "            </tr>\n",
       "            <tr>\n",
       "                        <th id=\"T_f6848816_0a11_11ea_a6fb_107b449f15fclevel0_row3\" class=\"row_heading level0 row3\" >власть</th>\n",
       "                        <td id=\"T_f6848816_0a11_11ea_a6fb_107b449f15fcrow3_col0\" class=\"data row3 col0\" >0.03513</td>\n",
       "            </tr>\n",
       "            <tr>\n",
       "                        <th id=\"T_f6848816_0a11_11ea_a6fb_107b449f15fclevel0_row4\" class=\"row_heading level0 row4\" >русь</th>\n",
       "                        <td id=\"T_f6848816_0a11_11ea_a6fb_107b449f15fcrow4_col0\" class=\"data row4 col0\" >0.03225</td>\n",
       "            </tr>\n",
       "            <tr>\n",
       "                        <th id=\"T_f6848816_0a11_11ea_a6fb_107b449f15fclevel0_row5\" class=\"row_heading level0 row5\" >историография</th>\n",
       "                        <td id=\"T_f6848816_0a11_11ea_a6fb_107b449f15fcrow5_col0\" class=\"data row5 col0\" >0.02135</td>\n",
       "            </tr>\n",
       "            <tr>\n",
       "                        <th id=\"T_f6848816_0a11_11ea_a6fb_107b449f15fclevel0_row6\" class=\"row_heading level0 row6\" >сталин_иосиф</th>\n",
       "                        <td id=\"T_f6848816_0a11_11ea_a6fb_107b449f15fcrow6_col0\" class=\"data row6 col0\" >0.01844</td>\n",
       "            </tr>\n",
       "            <tr>\n",
       "                        <th id=\"T_f6848816_0a11_11ea_a6fb_107b449f15fclevel0_row7\" class=\"row_heading level0 row7\" >вторая_мировая_война</th>\n",
       "                        <td id=\"T_f6848816_0a11_11ea_a6fb_107b449f15fcrow7_col0\" class=\"data row7 col0\" >0.01636</td>\n",
       "            </tr>\n",
       "            <tr>\n",
       "                        <th id=\"T_f6848816_0a11_11ea_a6fb_107b449f15fclevel0_row8\" class=\"row_heading level0 row8\" >петр_i</th>\n",
       "                        <td id=\"T_f6848816_0a11_11ea_a6fb_107b449f15fcrow8_col0\" class=\"data row8 col0\" >0.01455</td>\n",
       "            </tr>\n",
       "            <tr>\n",
       "                        <th id=\"T_f6848816_0a11_11ea_a6fb_107b449f15fclevel0_row9\" class=\"row_heading level0 row9\" >историческая_память</th>\n",
       "                        <td id=\"T_f6848816_0a11_11ea_a6fb_107b449f15fcrow9_col0\" class=\"data row9 col0\" >0.01419</td>\n",
       "            </tr>\n",
       "    </tbody></table><style  type=\"text/css\" >\n",
       "</style><table id=\"T_f6848817_0a11_11ea_a6fb_107b449f15fc\" style='display:inline'><thead>    <tr>        <th class=\"blank level0\" ></th>        <th class=\"col_heading level0 col0\" >topic_34 @word</th>    </tr></thead><tbody>\n",
       "                <tr>\n",
       "                        <th id=\"T_f6848817_0a11_11ea_a6fb_107b449f15fclevel0_row0\" class=\"row_heading level0 row0\" >история</th>\n",
       "                        <td id=\"T_f6848817_0a11_11ea_a6fb_107b449f15fcrow0_col0\" class=\"data row0 col0\" >0.01028</td>\n",
       "            </tr>\n",
       "            <tr>\n",
       "                        <th id=\"T_f6848817_0a11_11ea_a6fb_107b449f15fclevel0_row1\" class=\"row_heading level0 row1\" >историк</th>\n",
       "                        <td id=\"T_f6848817_0a11_11ea_a6fb_107b449f15fcrow1_col0\" class=\"data row1 col0\" >0.00561</td>\n",
       "            </tr>\n",
       "            <tr>\n",
       "                        <th id=\"T_f6848817_0a11_11ea_a6fb_107b449f15fclevel0_row2\" class=\"row_heading level0 row2\" >имя</th>\n",
       "                        <td id=\"T_f6848817_0a11_11ea_a6fb_107b449f15fcrow2_col0\" class=\"data row2 col0\" >0.00552</td>\n",
       "            </tr>\n",
       "            <tr>\n",
       "                        <th id=\"T_f6848817_0a11_11ea_a6fb_107b449f15fclevel0_row3\" class=\"row_heading level0 row3\" >власть</th>\n",
       "                        <td id=\"T_f6848817_0a11_11ea_a6fb_107b449f15fcrow3_col0\" class=\"data row3 col0\" >0.0053</td>\n",
       "            </tr>\n",
       "            <tr>\n",
       "                        <th id=\"T_f6848817_0a11_11ea_a6fb_107b449f15fclevel0_row4\" class=\"row_heading level0 row4\" >сталин</th>\n",
       "                        <td id=\"T_f6848817_0a11_11ea_a6fb_107b449f15fcrow4_col0\" class=\"data row4 col0\" >0.00503</td>\n",
       "            </tr>\n",
       "            <tr>\n",
       "                        <th id=\"T_f6848817_0a11_11ea_a6fb_107b449f15fclevel0_row5\" class=\"row_heading level0 row5\" >россия</th>\n",
       "                        <td id=\"T_f6848817_0a11_11ea_a6fb_107b449f15fcrow5_col0\" class=\"data row5 col0\" >0.00444</td>\n",
       "            </tr>\n",
       "            <tr>\n",
       "                        <th id=\"T_f6848817_0a11_11ea_a6fb_107b449f15fclevel0_row6\" class=\"row_heading level0 row6\" >война</th>\n",
       "                        <td id=\"T_f6848817_0a11_11ea_a6fb_107b449f15fcrow6_col0\" class=\"data row6 col0\" >0.00398</td>\n",
       "            </tr>\n",
       "            <tr>\n",
       "                        <th id=\"T_f6848817_0a11_11ea_a6fb_107b449f15fclevel0_row7\" class=\"row_heading level0 row7\" >стать</th>\n",
       "                        <td id=\"T_f6848817_0a11_11ea_a6fb_107b449f15fcrow7_col0\" class=\"data row7 col0\" >0.00387</td>\n",
       "            </tr>\n",
       "            <tr>\n",
       "                        <th id=\"T_f6848817_0a11_11ea_a6fb_107b449f15fclevel0_row8\" class=\"row_heading level0 row8\" >образ</th>\n",
       "                        <td id=\"T_f6848817_0a11_11ea_a6fb_107b449f15fcrow8_col0\" class=\"data row8 col0\" >0.00348</td>\n",
       "            </tr>\n",
       "            <tr>\n",
       "                        <th id=\"T_f6848817_0a11_11ea_a6fb_107b449f15fclevel0_row9\" class=\"row_heading level0 row9\" >русский</th>\n",
       "                        <td id=\"T_f6848817_0a11_11ea_a6fb_107b449f15fcrow9_col0\" class=\"data row9 col0\" >0.00336</td>\n",
       "            </tr>\n",
       "    </tbody></table>"
      ]
     },
     "metadata": {},
     "output_type": "display_data"
    },
    {
     "data": {
      "text/html": [
       "<b> блицкриг в оценке советской элиты </b>"
      ]
     },
     "metadata": {},
     "output_type": "display_data"
    },
    {
     "data": {
      "text/html": [
       "<b> эпоха ярослава мудрого </b>"
      ]
     },
     "metadata": {},
     "output_type": "display_data"
    },
    {
     "data": {
      "text/html": [
       "<b> стрелецкие бунты </b>"
      ]
     },
     "metadata": {},
     "output_type": "display_data"
    },
    {
     "data": {
      "text/html": [
       "<b> гетман мазепа </b>"
      ]
     },
     "metadata": {},
     "output_type": "display_data"
    },
    {
     "data": {
      "text/html": [
       "<b> лжедмитрий i </b>"
      ]
     },
     "metadata": {},
     "output_type": "display_data"
    },
    {
     "data": {
      "text/html": [
       "<b> «сталин, коба и сосо. молодой сталин в исторических источниках» </b>"
      ]
     },
     "metadata": {},
     "output_type": "display_data"
    },
    {
     "data": {
      "text/html": [
       "<b> россия и казацкая украина </b>"
      ]
     },
     "metadata": {},
     "output_type": "display_data"
    },
    {
     "data": {
      "text/html": [
       "<b> коллективизация </b>"
      ]
     },
     "metadata": {},
     "output_type": "display_data"
    },
    {
     "data": {
      "text/html": [
       "<b> коллаборационизм в ссср в годы второй мировой войны </b>"
      ]
     },
     "metadata": {},
     "output_type": "display_data"
    },
    {
     "data": {
      "text/html": [
       "<b> переписка ивана грозного с андреем курбским </b>"
      ]
     },
     "metadata": {},
     "output_type": "display_data"
    },
    {
     "data": {
      "text/html": [
       "<style  type=\"text/css\" >\n",
       "</style><table id=\"T_f6848818_0a11_11ea_a6fb_107b449f15fc\" style='display:inline'><thead>    <tr>        <th class=\"blank level0\" ></th>        <th class=\"col_heading level0 col0\" >bcg_35 @post_tag</th>    </tr></thead><tbody>\n",
       "                <tr>\n",
       "                        <th id=\"T_f6848818_0a11_11ea_a6fb_107b449f15fclevel0_row0\" class=\"row_heading level0 row0\" >россия</th>\n",
       "                        <td id=\"T_f6848818_0a11_11ea_a6fb_107b449f15fcrow0_col0\" class=\"data row0 col0\" >0.44189</td>\n",
       "            </tr>\n",
       "            <tr>\n",
       "                        <th id=\"T_f6848818_0a11_11ea_a6fb_107b449f15fclevel0_row1\" class=\"row_heading level0 row1\" >общество</th>\n",
       "                        <td id=\"T_f6848818_0a11_11ea_a6fb_107b449f15fcrow1_col0\" class=\"data row1 col0\" >0.3796</td>\n",
       "            </tr>\n",
       "            <tr>\n",
       "                        <th id=\"T_f6848818_0a11_11ea_a6fb_107b449f15fclevel0_row2\" class=\"row_heading level0 row2\" >государство</th>\n",
       "                        <td id=\"T_f6848818_0a11_11ea_a6fb_107b449f15fcrow2_col0\" class=\"data row2 col0\" >0.17022</td>\n",
       "            </tr>\n",
       "            <tr>\n",
       "                        <th id=\"T_f6848818_0a11_11ea_a6fb_107b449f15fclevel0_row3\" class=\"row_heading level0 row3\" >библиотека</th>\n",
       "                        <td id=\"T_f6848818_0a11_11ea_a6fb_107b449f15fcrow3_col0\" class=\"data row3 col0\" >0.00819</td>\n",
       "            </tr>\n",
       "            <tr>\n",
       "                        <th id=\"T_f6848818_0a11_11ea_a6fb_107b449f15fclevel0_row4\" class=\"row_heading level0 row4\" >история</th>\n",
       "                        <td id=\"T_f6848818_0a11_11ea_a6fb_107b449f15fcrow4_col0\" class=\"data row4 col0\" >9e-05</td>\n",
       "            </tr>\n",
       "    </tbody></table><style  type=\"text/css\" >\n",
       "</style><table id=\"T_f6848819_0a11_11ea_a6fb_107b449f15fc\" style='display:inline'><thead>    <tr>        <th class=\"blank level0\" ></th>        <th class=\"col_heading level0 col0\" >bcg_35 @word</th>    </tr></thead><tbody>\n",
       "                <tr>\n",
       "                        <th id=\"T_f6848819_0a11_11ea_a6fb_107b449f15fclevel0_row0\" class=\"row_heading level0 row0\" >россия</th>\n",
       "                        <td id=\"T_f6848819_0a11_11ea_a6fb_107b449f15fcrow0_col0\" class=\"data row0 col0\" >0.01659</td>\n",
       "            </tr>\n",
       "            <tr>\n",
       "                        <th id=\"T_f6848819_0a11_11ea_a6fb_107b449f15fclevel0_row1\" class=\"row_heading level0 row1\" >общество</th>\n",
       "                        <td id=\"T_f6848819_0a11_11ea_a6fb_107b449f15fcrow1_col0\" class=\"data row1 col0\" >0.01263</td>\n",
       "            </tr>\n",
       "            <tr>\n",
       "                        <th id=\"T_f6848819_0a11_11ea_a6fb_107b449f15fclevel0_row2\" class=\"row_heading level0 row2\" >государство</th>\n",
       "                        <td id=\"T_f6848819_0a11_11ea_a6fb_107b449f15fcrow2_col0\" class=\"data row2 col0\" >0.01073</td>\n",
       "            </tr>\n",
       "            <tr>\n",
       "                        <th id=\"T_f6848819_0a11_11ea_a6fb_107b449f15fclevel0_row3\" class=\"row_heading level0 row3\" >страна</th>\n",
       "                        <td id=\"T_f6848819_0a11_11ea_a6fb_107b449f15fcrow3_col0\" class=\"data row3 col0\" >0.00624</td>\n",
       "            </tr>\n",
       "            <tr>\n",
       "                        <th id=\"T_f6848819_0a11_11ea_a6fb_107b449f15fclevel0_row4\" class=\"row_heading level0 row4\" >проблема</th>\n",
       "                        <td id=\"T_f6848819_0a11_11ea_a6fb_107b449f15fcrow4_col0\" class=\"data row4 col0\" >0.00521</td>\n",
       "            </tr>\n",
       "            <tr>\n",
       "                        <th id=\"T_f6848819_0a11_11ea_a6fb_107b449f15fclevel0_row5\" class=\"row_heading level0 row5\" >говорить</th>\n",
       "                        <td id=\"T_f6848819_0a11_11ea_a6fb_107b449f15fcrow5_col0\" class=\"data row5 col0\" >0.0051</td>\n",
       "            </tr>\n",
       "            <tr>\n",
       "                        <th id=\"T_f6848819_0a11_11ea_a6fb_107b449f15fclevel0_row6\" class=\"row_heading level0 row6\" >отношение</th>\n",
       "                        <td id=\"T_f6848819_0a11_11ea_a6fb_107b449f15fcrow6_col0\" class=\"data row6 col0\" >0.00509</td>\n",
       "            </tr>\n",
       "            <tr>\n",
       "                        <th id=\"T_f6848819_0a11_11ea_a6fb_107b449f15fclevel0_row7\" class=\"row_heading level0 row7\" >сторона</th>\n",
       "                        <td id=\"T_f6848819_0a11_11ea_a6fb_107b449f15fcrow7_col0\" class=\"data row7 col0\" >0.00505</td>\n",
       "            </tr>\n",
       "            <tr>\n",
       "                        <th id=\"T_f6848819_0a11_11ea_a6fb_107b449f15fclevel0_row8\" class=\"row_heading level0 row8\" >вопрос</th>\n",
       "                        <td id=\"T_f6848819_0a11_11ea_a6fb_107b449f15fcrow8_col0\" class=\"data row8 col0\" >0.005</td>\n",
       "            </tr>\n",
       "            <tr>\n",
       "                        <th id=\"T_f6848819_0a11_11ea_a6fb_107b449f15fclevel0_row9\" class=\"row_heading level0 row9\" >должный</th>\n",
       "                        <td id=\"T_f6848819_0a11_11ea_a6fb_107b449f15fcrow9_col0\" class=\"data row9 col0\" >0.00498</td>\n",
       "            </tr>\n",
       "    </tbody></table>"
      ]
     },
     "metadata": {},
     "output_type": "display_data"
    },
    {
     "data": {
      "text/html": [
       "<b> глобальное управление </b>"
      ]
     },
     "metadata": {},
     "output_type": "display_data"
    },
    {
     "data": {
      "text/html": [
       "<b> транснациональная история </b>"
      ]
     },
     "metadata": {},
     "output_type": "display_data"
    },
    {
     "data": {
      "text/html": [
       "<b> культура провинциального города в россии </b>"
      ]
     },
     "metadata": {},
     "output_type": "display_data"
    },
    {
     "data": {
      "text/html": [
       "<b> русская государственная идеология </b>"
      ]
     },
     "metadata": {},
     "output_type": "display_data"
    },
    {
     "data": {
      "text/html": [
       "<b> обществоразнообразие альтернатив </b>"
      ]
     },
     "metadata": {},
     "output_type": "display_data"
    },
    {
     "data": {
      "text/html": [
       "<b> точка зрения # экологическая политика </b>"
      ]
     },
     "metadata": {},
     "output_type": "display_data"
    },
    {
     "data": {
      "text/html": [
       "<b> faqрегиональное неравенство </b>"
      ]
     },
     "metadata": {},
     "output_type": "display_data"
    },
    {
     "data": {
      "text/html": [
       "<b> какой должна быть современная библиотека? </b>"
      ]
     },
     "metadata": {},
     "output_type": "display_data"
    },
    {
     "data": {
      "text/html": [
       "<b> как мы понимаем историю? </b>"
      ]
     },
     "metadata": {},
     "output_type": "display_data"
    },
    {
     "data": {
      "text/html": [
       "<b> главы # история понятия «государство» </b>"
      ]
     },
     "metadata": {},
     "output_type": "display_data"
    }
   ],
   "source": [
    "n=7\n",
    "for line, topic_docs in list(zip(first_model_html, first_model_top_doc))[-n:]:\n",
    "    display_html(line, raw=True)\n",
    "    for doc_id in topic_docs:\n",
    "        doc_vw = demo_data.get_vw_document(doc_id).values[0][0]\n",
    "        doc_title = get_modality_vw(doc_vw, \"@title\")\n",
    "        doc_snippet = get_modality_vw(doc_vw, \"@snippet\")\n",
    "        display_html(f\"<b>{doc_title}</b>\", raw=True)"
   ]
  },
  {
   "cell_type": "code",
   "execution_count": 17,
   "metadata": {},
   "outputs": [
    {
     "name": "stdout",
     "output_type": "stream",
     "text": [
      "2345.txt\n"
     ]
    }
   ],
   "source": [
    "print(doc_id)"
   ]
  },
  {
   "cell_type": "code",
   "execution_count": 18,
   "metadata": {},
   "outputs": [],
   "source": [
    "from topicnet.viewers import TopSimilarDocumentsViewer"
   ]
  },
  {
   "cell_type": "code",
   "execution_count": 19,
   "metadata": {},
   "outputs": [],
   "source": [
    "tsdv = TopSimilarDocumentsViewer(best_model, dataset)"
   ]
  },
  {
   "cell_type": "code",
   "execution_count": 25,
   "metadata": {},
   "outputs": [
    {
     "name": "stdout",
     "output_type": "stream",
     "text": [
      "['@title Феномен внезапности во Второй мировой войне | @snippet Историк Алексей Киличенков о геополитической ситуации накануне Второй мировой, польской разведке и авантюризме Гитлера\\n']\n"
     ]
    },
    {
     "data": {
      "text/html": [
       "<b>200.txt</b><br />@title Главы: «Брачная политика» Пруссии и России | @snippet Отрывок из книги «Екатерина II, Германия и немцы» историка Клауса Шарфа о культурных и политических связях Российской империи с дворами Германии\n"
      ]
     },
     "metadata": {},
     "output_type": "display_data"
    },
    {
     "data": {
      "text/html": [
       "<b>1225.txt</b><br />@title Интервенция в годы Гражданской войны | @snippet Историк Людмила Новикова о союзных интервентах, формировании чехословацкого корпуса и причинах обострения военного противостояния\n"
      ]
     },
     "metadata": {},
     "output_type": "display_data"
    },
    {
     "data": {
      "text/html": [
       "<b>3172.txt</b><br />@title Русская эмиграция и Вторая мировая война | @snippet Историк Олег Будницкий о движении Сопротивления, коллаборационистах и издательской деятельности русских эмигрантов\n"
      ]
     },
     "metadata": {},
     "output_type": "display_data"
    },
    {
     "data": {
      "text/html": [
       "<b>2061.txt</b><br />@title Патриотическая риторика в годы Гражданской войны | @snippet Историк Людмила Новикова об антибольшевистском лагере, красной пропаганде и мифе об интервенции\n"
      ]
     },
     "metadata": {},
     "output_type": "display_data"
    },
    {
     "data": {
      "text/html": [
       "<b>263.txt</b><br />@title Автограф # «Свитки из пепла. Еврейская “зондеркоммандо” в Аушвице-Биркенау и ее летописцы» | @snippet Историк Павел Полян о главных документах Холокоста, членах зондеркоманды и осмыслении опыта концентрационных лагерей\n"
      ]
     },
     "metadata": {},
     "output_type": "display_data"
    },
    {
     "data": {
      "text/html": [
       "<b>2611.txt</b><br />@title Автограф # «Правда и ложь в истории великих открытий» | @snippet Историк науки Джон Уоллер говорит о том, как среда влияет на научную деятельность и какую память оставляет о себе учёный\n"
      ]
     },
     "metadata": {},
     "output_type": "display_data"
    },
    {
     "data": {
      "text/html": [
       "<b>3370.txt</b><br />@title 5 книг об истории науки | @snippet Что читать о научных открытиях и жизни академического сообщества, рекомендует кандидат исторических наук Марина Сорокина\n"
      ]
     },
     "metadata": {},
     "output_type": "display_data"
    },
    {
     "data": {
      "text/html": [
       "<b>2656.txt</b><br />@title Советская Бавария | @snippet Историк Александр Ватлин о феномене Второй Советской Баварской республики, мюнхенских коммунарах и военной пропаганде в мирное время\n"
      ]
     },
     "metadata": {},
     "output_type": "display_data"
    },
    {
     "data": {
      "text/html": [
       "<b>1032.txt</b><br />@title «Зондеркоммандо» | @snippet Историк Павел Полян о лагерях смерти, зондеркоманде Аушвица и документах Холокоста\n"
      ]
     },
     "metadata": {},
     "output_type": "display_data"
    },
    {
     "data": {
      "text/html": [
       "<b>1839.txt</b><br />@title Культурная память о Первой мировой | @snippet Историк Борис Колоницкий об источниках информации о Первой мировой войне, политике памяти европейских стран и травме Гражданской войны\n"
      ]
     },
     "metadata": {},
     "output_type": "display_data"
    }
   ],
   "source": [
    "search_doc = '3384.txt'\n",
    "print(dataset.get_source_document(search_doc)['raw_text'].values)\n",
    "sim_docs, scores = tsdv.view(\n",
    "    search_doc,\n",
    "    metric='euclidean',\n",
    "    num_top_similar=10)\n",
    "for doc_id in sim_docs:\n",
    "    document = dataset.get_source_document(doc_id)\n",
    "    doc_title = document.index.values[0]\n",
    "    doc_snippet = '.'.join(document['raw_text'].values[0].split('.')[:3])\n",
    "    display_html(f\"<b>{doc_title}</b><br />{doc_snippet}\", raw=True)"
   ]
  }
 ],
 "metadata": {
  "kernelspec": {
   "display_name": "Python [conda env:root] *",
   "language": "python",
   "name": "conda-root-py"
  },
  "language_info": {
   "codemirror_mode": {
    "name": "ipython",
    "version": 3
   },
   "file_extension": ".py",
   "mimetype": "text/x-python",
   "name": "python",
   "nbconvert_exporter": "python",
   "pygments_lexer": "ipython3",
   "version": "3.6.9"
  }
 },
 "nbformat": 4,
 "nbformat_minor": 2
}
