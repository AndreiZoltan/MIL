{
 "cells": [
  {
   "cell_type": "code",
   "execution_count": 1,
   "metadata": {},
   "outputs": [],
   "source": [
    "import numpy as np\n",
    "import pandas as pd\n",
    "import matplotlib.pyplot as plt\n",
    "%matplotlib inline\n",
    "import os\n",
    "import time\n",
    "import artm\n",
    "\n",
    "# change log style\n",
    "lc = artm.messages.ConfigureLoggingArgs()\n",
    "lc.minloglevel = 3\n",
    "lib = artm.wrapper.LibArtm(logging_config=lc)\n",
    "\n",
    "import warnings\n",
    "warnings.filterwarnings(\"ignore\", category=DeprecationWarning)"
   ]
  },
  {
   "cell_type": "code",
   "execution_count": 2,
   "metadata": {},
   "outputs": [],
   "source": [
    "from copy import deepcopy\n",
    "from topicnet.cooking_machine.models.topic_model import TopicModel\n",
    "from topicnet.cooking_machine.cubes import RegularizersModifierCube\n",
    "\n",
    "from topicnet.cooking_machine.experiment import Experiment\n",
    "from topicnet.cooking_machine.cubes import *\n",
    "from topicnet.cooking_machine.dataset import Dataset\n",
    "\n",
    "%load_ext autoreload\n",
    "%autoreload 2"
   ]
  },
  {
   "cell_type": "code",
   "execution_count": 3,
   "metadata": {},
   "outputs": [],
   "source": [
    "import topicnet.cooking_machine.cubes as tncubes"
   ]
  },
  {
   "cell_type": "code",
   "execution_count": 4,
   "metadata": {},
   "outputs": [
    {
     "data": {
      "text/html": [
       "<style>\n",
       ".container { width:90% !important; }\n",
       "div.output_scroll .output_subarea { white-space: pre; }\n",
       "</style>"
      ],
      "text/plain": [
       "<IPython.core.display.HTML object>"
      ]
     },
     "metadata": {},
     "output_type": "display_data"
    }
   ],
   "source": [
    "from IPython.core.display import display, HTML\n",
    "from IPython.display import clear_output, display_html\n",
    "display(HTML(\"\"\"<style>\n",
    ".container { width:90% !important; }\n",
    "div.output_scroll .output_subarea { white-space: pre; }\n",
    "</style>\"\"\"))"
   ]
  },
  {
   "cell_type": "markdown",
   "metadata": {},
   "source": [
    "### Get dataset"
   ]
  },
  {
   "cell_type": "code",
   "execution_count": 5,
   "metadata": {},
   "outputs": [],
   "source": [
    "DATA_PATH = \"/home/sultan/datasets/PScience/PScience.csv\""
   ]
  },
  {
   "cell_type": "code",
   "execution_count": 6,
   "metadata": {},
   "outputs": [],
   "source": [
    "dataset = Dataset(DATA_PATH)\n",
    "dictionary = dataset.get_dictionary()"
   ]
  },
  {
   "cell_type": "markdown",
   "metadata": {},
   "source": [
    "### Make initial model"
   ]
  },
  {
   "cell_type": "code",
   "execution_count": 7,
   "metadata": {},
   "outputs": [
    {
     "data": {
      "text/plain": [
       "[PerplexityScore@all, SparsityThetaScore, SparsityPhiScore@word, PerplexityScore@word, TopicKernel@word]"
      ]
     },
     "execution_count": 7,
     "metadata": {},
     "output_type": "execute_result"
    }
   ],
   "source": [
    "from topicnet.cooking_machine.model_constructor import init_simple_default_model\n",
    "\n",
    "n_topics = 200\n",
    "n_background = 10\n",
    "model_artm = init_simple_default_model(\n",
    "    dataset=dataset,\n",
    "    modalities_to_use=dataset.get_possible_modalities(),\n",
    "    main_modality='@word',\n",
    "    specific_topics=n_topics - n_background,\n",
    "    background_topics=n_background,\n",
    ")\n",
    "specific_topics, background_topics = model_artm.topic_names[:-n_background], model_artm.topic_names[-n_background:]\n",
    "model_artm.scores"
   ]
  },
  {
   "cell_type": "code",
   "execution_count": 8,
   "metadata": {},
   "outputs": [],
   "source": [
    "model_artm.regularizers.add(artm.DecorrelatorPhiRegularizer(\n",
    "        name=\"decorrelation_phi\",\n",
    "        topic_names=specific_topics,\n",
    "        tau=1,\n",
    "        class_ids=['{modality}']))\n",
    "model_artm.regularizers.add(artm.SmoothSparsePhiRegularizer(\n",
    "        name=\"smooth_phi\",\n",
    "        topic_names=specific_topics,\n",
    "        tau=1,\n",
    "        class_ids=['{modality}']))\n",
    "model_artm.regularizers.add(artm.SmoothSparseThetaRegularizer(\n",
    "        name=\"smooth_theta\",\n",
    "        topic_names=specific_topics,\n",
    "        tau=1))"
   ]
  },
  {
   "cell_type": "markdown",
   "metadata": {},
   "source": [
    "### Define Topic Model"
   ]
  },
  {
   "cell_type": "code",
   "execution_count": 9,
   "metadata": {},
   "outputs": [],
   "source": [
    "from topicnet.cooking_machine.models.blei_lafferty_score import BleiLaffertyScore"
   ]
  },
  {
   "cell_type": "code",
   "execution_count": 10,
   "metadata": {},
   "outputs": [],
   "source": [
    "model = TopicModel(model_artm, model_id='MuratDemo', scores=BleiLaffertyScore(num_top_tokens=15))"
   ]
  },
  {
   "cell_type": "code",
   "execution_count": 13,
   "metadata": {},
   "outputs": [],
   "source": [
    "from topicnet.cooking_machine.experiment import Experiment\n",
    "if os.path.exists(f'./ExploratoryResearchDemo') == True:\n",
    "    os.system(\"rm -rf ./ExploratoryResearchDemo\")\n",
    "experiment = Experiment(experiment_id='ExploratoryResearchDemo', save_path='ExploratoryResearchDemo', topic_model=model)"
   ]
  },
  {
   "cell_type": "markdown",
   "metadata": {},
   "source": [
    "### Cubes"
   ]
  },
  {
   "cell_type": "code",
   "execution_count": 11,
   "metadata": {},
   "outputs": [],
   "source": [
    "cube_0 = RegularizersModifierCube(\n",
    "    num_iter=8,\n",
    "    reg_search='mul',\n",
    "    regularizer_parameters=[{\n",
    "            'name':\"decorrelation_phi\"}],\n",
    "    verbose=False,\n",
    "    strategy=PerplexityStrategy(\n",
    "        start_point=100000,\n",
    "        step=10,\n",
    "        max_len=6),\n",
    "    tracked_score_function=retrieve_score_for_strategy('PerplexityScore@all'),\n",
    "    relative_coefficients=False)\n",
    "        \n",
    "cube_1 = RegularizersModifierCube(\n",
    "    num_iter=8,\n",
    "    reg_search='add',\n",
    "    strategy=PerplexityStrategy(\n",
    "            start_point=0.25,\n",
    "            step=0.25,\n",
    "            max_len=6),\n",
    "    regularizer_parameters={\n",
    "        'name':\"smooth_phi\"},\n",
    "    # parameters of this strategy are intended for revision\n",
    "    tracked_score_function=retrieve_score_for_strategy('PerplexityScore@all'),\n",
    "    verbose=False,\n",
    "    relative_coefficients=False)\n",
    "\n",
    "cube_2 = RegularizersModifierCube(\n",
    "    num_iter=8,\n",
    "    reg_search='add',\n",
    "    strategy=PerplexityStrategy(\n",
    "            start_point=-0.5,\n",
    "            step=-0.5,\n",
    "            max_len=6),\n",
    "    regularizer_parameters={\n",
    "        'name':\"sparse_theta\"},\n",
    "    # parameters of this strategy are intended for revision\n",
    "    tracked_score_function=retrieve_score_for_strategy('PerplexityScore@all'),\n",
    "    verbose=False,\n",
    "    relative_coefficients=False)"
   ]
  },
  {
   "cell_type": "code",
   "execution_count": 16,
   "metadata": {
    "scrolled": true
   },
   "outputs": [
    {
     "name": "stderr",
     "output_type": "stream",
     "text": [
      "/home/sultan/miniconda3/lib/python3.6/site-packages/topicnet/cooking_machine/cubes/base_cube.py:278: UserWarning: Max progression length exceeded\n",
      "  warnings.warn(warning[0])\n"
     ]
    },
    {
     "name": "stdout",
     "output_type": "stream",
     "text": [
      "--- 102.20537781715393 seconds ---\n"
     ]
    }
   ],
   "source": [
    "start_time = time.time()\n",
    "models = cube_0(model, dataset)\n",
    "print(\"--- %s seconds ---\" % (time.time() - start_time))"
   ]
  },
  {
   "cell_type": "code",
   "execution_count": 18,
   "metadata": {},
   "outputs": [],
   "source": [
    "models = experiment.select(f\"PerplexityScore@all < 1.01 * MINIMUM(PerplexityScore@all) and BleiLaffertyScore -> max\")"
   ]
  },
  {
   "cell_type": "code",
   "execution_count": 14,
   "metadata": {},
   "outputs": [
    {
     "name": "stderr",
     "output_type": "stream",
     "text": [
      "/home/sultan/miniconda3/lib/python3.6/site-packages/topicnet/cooking_machine/cubes/base_cube.py:278: UserWarning: Last five scores are equal, interrupting search\n",
      "  warnings.warn(warning[0])\n"
     ]
    },
    {
     "name": "stdout",
     "output_type": "stream",
     "text": [
      "--- 321.52917313575745 seconds ---\n"
     ]
    }
   ],
   "source": [
    "start_time = time.time()\n",
    "models = cube_1(models, dataset)\n",
    "print(\"--- %s seconds ---\" % (time.time() - start_time))"
   ]
  },
  {
   "cell_type": "code",
   "execution_count": 15,
   "metadata": {},
   "outputs": [
    {
     "ename": "ValueError",
     "evalue": "There is no BleiLaffertyScore metric for model ##11h11m03s_11d11m2019y###.\nThe following scores are available: ['PerplexityScore@all', 'SparsityThetaScore', 'SparsityPhiScore@word', 'PerplexityScore@word', 'TopicKernel@word.average_coherence', 'TopicKernel@word.average_contrast', 'TopicKernel@word.average_purity', 'TopicKernel@word.average_size', 'TopicKernel@word.coherence', 'TopicKernel@word.contrast', 'TopicKernel@word.purity', 'TopicKernel@word.size', 'TopicKernel@word.tokens']",
     "output_type": "error",
     "traceback": [
      "\u001b[0;31m---------------------------------------------------------------------------\u001b[0m",
      "\u001b[0;31mValueError\u001b[0m                                Traceback (most recent call last)",
      "\u001b[0;32m<ipython-input-15-7f42814c72ee>\u001b[0m in \u001b[0;36m<module>\u001b[0;34m\u001b[0m\n\u001b[0;32m----> 1\u001b[0;31m \u001b[0mmodels\u001b[0m \u001b[0;34m=\u001b[0m \u001b[0mexperiment\u001b[0m\u001b[0;34m.\u001b[0m\u001b[0mselect\u001b[0m\u001b[0;34m(\u001b[0m\u001b[0;34mf'PerplexityScore@all < 1.01 * MINIMUM(PerplexityScore@all) and BleiLaffertyScore -> max'\u001b[0m\u001b[0;34m)\u001b[0m\u001b[0;34m\u001b[0m\u001b[0;34m\u001b[0m\u001b[0m\n\u001b[0m",
      "\u001b[0;32m~/miniconda3/lib/python3.6/site-packages/topicnet/cooking_machine/experiment.py\u001b[0m in \u001b[0;36mselect\u001b[0;34m(self, query_string, models_num, level)\u001b[0m\n\u001b[1;32m    628\u001b[0m         \u001b[0;32mexcept\u001b[0m \u001b[0mValueError\u001b[0m \u001b[0;32mas\u001b[0m \u001b[0me\u001b[0m\u001b[0;34m:\u001b[0m\u001b[0;34m\u001b[0m\u001b[0;34m\u001b[0m\u001b[0m\n\u001b[1;32m    629\u001b[0m             \u001b[0;32mif\u001b[0m \u001b[0me\u001b[0m\u001b[0;34m.\u001b[0m\u001b[0margs\u001b[0m\u001b[0;34m[\u001b[0m\u001b[0;36m0\u001b[0m\u001b[0;34m]\u001b[0m \u001b[0;32mnot\u001b[0m \u001b[0;32min\u001b[0m \u001b[0mEMPTY_ERRORS\u001b[0m\u001b[0;34m:\u001b[0m\u001b[0;34m\u001b[0m\u001b[0;34m\u001b[0m\u001b[0m\n\u001b[0;32m--> 630\u001b[0;31m                 \u001b[0;32mraise\u001b[0m \u001b[0me\u001b[0m\u001b[0;34m\u001b[0m\u001b[0;34m\u001b[0m\u001b[0m\n\u001b[0m\u001b[1;32m    631\u001b[0m \u001b[0;34m\u001b[0m\u001b[0m\n\u001b[1;32m    632\u001b[0m             \u001b[0merror_message\u001b[0m \u001b[0;34m=\u001b[0m \u001b[0mrepr\u001b[0m\u001b[0;34m(\u001b[0m\u001b[0me\u001b[0m\u001b[0;34m)\u001b[0m\u001b[0;34m\u001b[0m\u001b[0;34m\u001b[0m\u001b[0m\n",
      "\u001b[0;32m~/miniconda3/lib/python3.6/site-packages/topicnet/cooking_machine/experiment.py\u001b[0m in \u001b[0;36mselect\u001b[0;34m(self, query_string, models_num, level)\u001b[0m\n\u001b[1;32m    623\u001b[0m                 \u001b[0mreq_lesser\u001b[0m\u001b[0;34m,\u001b[0m \u001b[0mreq_greater\u001b[0m\u001b[0;34m,\u001b[0m \u001b[0mreq_equal\u001b[0m\u001b[0;34m,\u001b[0m\u001b[0;34m\u001b[0m\u001b[0;34m\u001b[0m\u001b[0m\n\u001b[1;32m    624\u001b[0m                 \u001b[0mmetric\u001b[0m\u001b[0;34m,\u001b[0m \u001b[0mextremum\u001b[0m\u001b[0;34m,\u001b[0m\u001b[0;34m\u001b[0m\u001b[0;34m\u001b[0m\u001b[0m\n\u001b[0;32m--> 625\u001b[0;31m                 \u001b[0mmodels_num\u001b[0m\u001b[0;34m\u001b[0m\u001b[0;34m\u001b[0m\u001b[0m\n\u001b[0m\u001b[1;32m    626\u001b[0m             )\n\u001b[1;32m    627\u001b[0m \u001b[0;34m\u001b[0m\u001b[0m\n",
      "\u001b[0;32m~/miniconda3/lib/python3.6/site-packages/topicnet/cooking_machine/routine.py\u001b[0m in \u001b[0;36mchoose_best_models\u001b[0;34m(models, requirement_lesser, requirement_greater, requirement_equal, metric, extremum, models_num)\u001b[0m\n\u001b[1;32m    525\u001b[0m \u001b[0;34m\u001b[0m\u001b[0m\n\u001b[1;32m    526\u001b[0m     \u001b[0;32melif\u001b[0m \u001b[0mlen\u001b[0m\u001b[0;34m(\u001b[0m\u001b[0mmodels\u001b[0m\u001b[0;34m)\u001b[0m \u001b[0;34m>\u001b[0m \u001b[0;36m0\u001b[0m \u001b[0;32mand\u001b[0m \u001b[0mmetric\u001b[0m \u001b[0;32mnot\u001b[0m \u001b[0;32min\u001b[0m \u001b[0mmodels\u001b[0m\u001b[0;34m[\u001b[0m\u001b[0;36m0\u001b[0m\u001b[0;34m]\u001b[0m\u001b[0;34m.\u001b[0m\u001b[0mscores\u001b[0m\u001b[0;34m:\u001b[0m\u001b[0;34m\u001b[0m\u001b[0;34m\u001b[0m\u001b[0m\n\u001b[0;32m--> 527\u001b[0;31m         raise ValueError(f'There is no {metric} metric for model {models[0].model_id}.\\n'\n\u001b[0m\u001b[1;32m    528\u001b[0m                          f'The following scores are available: {list(models[0].scores.keys())}')\n\u001b[1;32m    529\u001b[0m \u001b[0;34m\u001b[0m\u001b[0m\n",
      "\u001b[0;31mValueError\u001b[0m: There is no BleiLaffertyScore metric for model ##11h11m03s_11d11m2019y###.\nThe following scores are available: ['PerplexityScore@all', 'SparsityThetaScore', 'SparsityPhiScore@word', 'PerplexityScore@word', 'TopicKernel@word.average_coherence', 'TopicKernel@word.average_contrast', 'TopicKernel@word.average_purity', 'TopicKernel@word.average_size', 'TopicKernel@word.coherence', 'TopicKernel@word.contrast', 'TopicKernel@word.purity', 'TopicKernel@word.size', 'TopicKernel@word.tokens']"
     ]
    }
   ],
   "source": [
    "models = experiment.select(f'PerplexityScore@all < 1.01 * MINIMUM(PerplexityScore@all) and BleiLaffertyScore -> max')"
   ]
  },
  {
   "cell_type": "code",
   "execution_count": null,
   "metadata": {},
   "outputs": [],
   "source": []
  }
 ],
 "metadata": {
  "kernelspec": {
   "display_name": "Python [conda env:root] *",
   "language": "python",
   "name": "conda-root-py"
  },
  "language_info": {
   "codemirror_mode": {
    "name": "ipython",
    "version": 3
   },
   "file_extension": ".py",
   "mimetype": "text/x-python",
   "name": "python",
   "nbconvert_exporter": "python",
   "pygments_lexer": "ipython3",
   "version": "3.6.9"
  }
 },
 "nbformat": 4,
 "nbformat_minor": 2
}
