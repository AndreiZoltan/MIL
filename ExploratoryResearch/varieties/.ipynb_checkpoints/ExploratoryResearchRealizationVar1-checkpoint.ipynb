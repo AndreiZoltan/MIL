{
 "cells": [
  {
   "cell_type": "code",
   "execution_count": 1,
   "metadata": {},
   "outputs": [],
   "source": [
    "import numpy as np\n",
    "import pandas as pd\n",
    "import matplotlib.pyplot as plt\n",
    "%matplotlib inline\n",
    "import os\n",
    "import time\n",
    "import artm\n",
    "\n",
    "# change log style\n",
    "lc = artm.messages.ConfigureLoggingArgs()\n",
    "lc.minloglevel = 3\n",
    "lib = artm.wrapper.LibArtm(logging_config=lc)\n",
    "\n",
    "import warnings\n",
    "warnings.filterwarnings(\"ignore\", category=DeprecationWarning)"
   ]
  },
  {
   "cell_type": "code",
   "execution_count": 2,
   "metadata": {},
   "outputs": [
    {
     "data": {
      "text/html": [
       "<style>\n",
       "    div.output_html {\n",
       "        white-space: nowrap;\n",
       "    }\n",
       "    div .output_subarea > pre {\n",
       "        white-space: pre;\n",
       "        word-wrap: normal;\n",
       "    }\n",
       "    div .output_stdout > pre {\n",
       "        white-space: pre-wrap !important;\n",
       "        word-wrap:  break-word !important;\n",
       "    }\n",
       "    </style>"
      ],
      "text/plain": [
       "<IPython.core.display.HTML object>"
      ]
     },
     "metadata": {},
     "output_type": "display_data"
    }
   ],
   "source": [
    "from copy import deepcopy\n",
    "from topicnet.cooking_machine.models.topic_model import TopicModel\n",
    "from topicnet.cooking_machine.cubes import RegularizersModifierCube\n",
    "from topicnet.cooking_machine.config_parser import build_experiment_environment_from_yaml_config\n",
    "from topicnet.cooking_machine.experiment import Experiment\n",
    "from topicnet.cooking_machine.cubes import *\n",
    "from topicnet.cooking_machine.dataset import Dataset\n",
    "from topicnet.cooking_machine.pretty_output import make_notebook_pretty\n",
    "make_notebook_pretty()"
   ]
  },
  {
   "cell_type": "code",
   "execution_count": 3,
   "metadata": {},
   "outputs": [],
   "source": [
    "import topicnet.cooking_machine.cubes as tncubes"
   ]
  },
  {
   "cell_type": "code",
   "execution_count": 4,
   "metadata": {},
   "outputs": [
    {
     "data": {
      "text/html": [
       "<style>\n",
       ".container { width:90% !important; }\n",
       "div.output_scroll .output_subarea { white-space: pre; }\n",
       "</style>"
      ],
      "text/plain": [
       "<IPython.core.display.HTML object>"
      ]
     },
     "metadata": {},
     "output_type": "display_data"
    }
   ],
   "source": [
    "from IPython.core.display import display, HTML\n",
    "from IPython.display import clear_output, display_html\n",
    "display(HTML(\"\"\"<style>\n",
    ".container { width:90% !important; }\n",
    "div.output_scroll .output_subarea { white-space: pre; }\n",
    "</style>\"\"\"))"
   ]
  },
  {
   "cell_type": "markdown",
   "metadata": {},
   "source": [
    "### Make initial model"
   ]
  },
  {
   "cell_type": "code",
   "execution_count": 5,
   "metadata": {},
   "outputs": [
    {
     "name": "stdout",
     "output_type": "stream",
     "text": [
      "# This config follows a strategy described in the article\n",
      "# Multi-objective Topic Modeling for Exploratory Search in Tech News\n",
      "# by Anastasya Yanina, Lev Golitsyn and Konstantin Vorontsov, Jan 2018\n",
      "\n",
      "\n",
      "# Use .format(modality=modality, dataset_path=dataset_path,\n",
      "# specific_topics=specific_topics, background_topics=background_topics)\n",
      "# when loading the recipe to adjust for your dataset\n",
      "\n",
      "topics:\n",
      "# Describes number of model topics, in the actuall article 200 topics were found to be optimal\n",
      "    specific_topics: ['topic_0', 'topic_1', 'topic_2', 'topic_3', 'topic_4', 'topic_5', 'topic_6', 'topic_7', 'topic_8', 'topic_9', 'topic_10', 'topic_11', 'topic_12', 'topic_13', 'topic_14', 'topic_15', 'topic_16', 'topic_17', 'topic_18', 'topic_19', 'topic_20', 'topic_21', 'topic_22', 'topic_23', 'topic_24', 'topic_25', 'topic_26', 'topic_27', 'topic_28', 'topic_29', 'topic_30', 'topic_31', 'topic_32', 'topic_33', 'topic_34']\n",
      "    background_topics: ['bcg_35']\n",
      "\n",
      "regularizers:\n",
      "- DecorrelatorPhiRegularizer:\n",
      "    name: decorrelation_phi_@word\n",
      "    topic_names: specific_topics\n",
      "    tau: 1\n",
      "    class_ids: ['@word']\n",
      "- SmoothSparseThetaRegularizer:\n",
      "    name: sparse_theta\n",
      "    topic_names: specific_topics\n",
      "    tau: 1\n",
      "- SmoothSparsePhiRegularizer:\n",
      "    name: smooth_phi_@word\n",
      "    topic_names: specific_topics\n",
      "    tau: 1\n",
      "    class_ids: ['@word']\n",
      "- DecorrelatorPhiRegularizer:\n",
      "    name: decorrelation_phi_@tag\n",
      "    topic_names: specific_topics\n",
      "    tau: 1\n",
      "    class_ids: ['@tag']\n",
      "- SmoothSparseThetaRegularizer:\n",
      "    name: sparse_theta\n",
      "    topic_names: specific_topics\n",
      "    tau: 1\n",
      "- SmoothSparsePhiRegularizer:\n",
      "    name: smooth_phi_@tag\n",
      "    topic_names: specific_topics\n",
      "    tau: 1\n",
      "    class_ids: ['@tag']\n",
      "\n",
      "model: \n",
      "    dataset_path: /home/sultan/datasets/PScience/PScience.csv\n",
      "    modalities_to_use: ['@word', '@tag']\n",
      "    main_modality: '@word'\n",
      "\n",
      "stages:\n",
      "# repeat the following two cubes for every modality in the dataset\n",
      "- RegularizersModifierCube:\n",
      "    num_iter: 8\n",
      "    reg_search: mul\n",
      "    regularizer_parameters:\n",
      "        name: decorrelation_phi_@word\n",
      "    selection:\n",
      "        - PerplexityScore@word < 1.01 * MINIMUM(PerplexityScore@word) and SparsityPhiScore@word -> max\n",
      "    strategy: PerplexityStrategy\n",
      "    strategy_params:\n",
      "        start_point: 100000\n",
      "        step: 10\n",
      "        max_len: 6\n",
      "    tracked_score_function: PerplexityScore@all\n",
      "    verbose: false\n",
      "    use_relative_coefficients: false\n",
      "- RegularizersModifierCube:\n",
      "    num_iter: 8\n",
      "    reg_search: add\n",
      "    regularizer_parameters:\n",
      "        name: sparse_theta\n",
      "    selection:\n",
      "        - PerplexityScore@all < 1.01 * MINIMUM(PerplexityScore@all) and SparsityPhiScore@word -> max\n",
      "    strategy: PerplexityStrategy\n",
      "    strategy_params:\n",
      "        start_point: -0.5\n",
      "        step: -0.5\n",
      "        max_len: 6\n",
      "    tracked_score_function: PerplexityScore@all\n",
      "    verbose: false\n",
      "    use_relative_coefficients: false\n",
      "- RegularizersModifierCube:\n",
      "    num_iter: 8\n",
      "    reg_search: add\n",
      "    regularizer_parameters:\n",
      "        name: smooth_phi_@word\n",
      "    selection:\n",
      "        - PerplexityScore@word < 1.01 * MINIMUM(PerplexityScore@word) and SparsityPhiScore@word -> max\n",
      "    strategy: PerplexityStrategy\n",
      "    strategy_params:\n",
      "        start_point: 0.25\n",
      "        step: 0.25\n",
      "        max_len: 6\n",
      "    tracked_score_function: PerplexityScore@word\n",
      "    verbose: false\n",
      "    use_relative_coefficients: false\n",
      "#last cube is independent of modalities and can be used only once\n",
      "\n",
      "- RegularizersModifierCube:\n",
      "    num_iter: 8\n",
      "    reg_search: mul\n",
      "    regularizer_parameters:\n",
      "        name: decorrelation_phi_@tag\n",
      "    selection:\n",
      "        - PerplexityScore@tag < 1.01 * MINIMUM(PerplexityScore@tag) and SparsityPhiScore@tag -> max\n",
      "    strategy: PerplexityStrategy\n",
      "    strategy_params:\n",
      "        start_point: 100000\n",
      "        step: 10\n",
      "        max_len: 6\n",
      "    tracked_score_function: PerplexityScore@all\n",
      "    verbose: false\n",
      "    use_relative_coefficients: false\n",
      "- RegularizersModifierCube:\n",
      "    num_iter: 8\n",
      "    reg_search: add\n",
      "    regularizer_parameters:\n",
      "        name: sparse_theta\n",
      "    selection:\n",
      "        - PerplexityScore@all < 1.01 * MINIMUM(PerplexityScore@all) and SparsityPhiScore@tag -> max\n",
      "    strategy: PerplexityStrategy\n",
      "    strategy_params:\n",
      "        start_point: -0.5\n",
      "        step: -0.5\n",
      "        max_len: 6\n",
      "    tracked_score_function: PerplexityScore@all\n",
      "    verbose: false\n",
      "    use_relative_coefficients: false\n",
      "- RegularizersModifierCube:\n",
      "    num_iter: 8\n",
      "    reg_search: add\n",
      "    regularizer_parameters:\n",
      "        name: smooth_phi_@tag\n",
      "    selection:\n",
      "        - PerplexityScore@tag < 1.01 * MINIMUM(PerplexityScore@tag) and SparsityPhiScore@tag -> max\n",
      "    strategy: PerplexityStrategy\n",
      "    strategy_params:\n",
      "        start_point: 0.25\n",
      "        step: 0.25\n",
      "        max_len: 6\n",
      "    tracked_score_function: PerplexityScore@tag\n",
      "    verbose: false\n",
      "    use_relative_coefficients: false\n",
      "#last cube is independent of modalities and can be used only once\n"
     ]
    }
   ],
   "source": [
    "with open(\"/home/sultan/recipes/exploratory_search-variant1.yml\", \"r\") as f:\n",
    "    yaml_string = f.read()\n",
    "\n",
    "DATASET_PATH = \"/home/sultan/datasets/PScience/PScience.csv\"\n",
    "specific_topics = [f'topic_{i}' for i in range(35)]\n",
    "background_topics = [f'bcg_{i}' for i in range(len(specific_topics),len(specific_topics) + 1)]\n",
    "\n",
    "yaml_string = yaml_string.format(\n",
    "    modality1='@word',\n",
    "    modality2='@tag',\n",
    "    dataset_path=DATASET_PATH,\n",
    "    specific_topics=specific_topics,\n",
    "    background_topics=background_topics)\n",
    "\n",
    "print(yaml_string)"
   ]
  },
  {
   "cell_type": "markdown",
   "metadata": {},
   "source": [
    "### Define Topic Model"
   ]
  },
  {
   "cell_type": "code",
   "execution_count": null,
   "metadata": {},
   "outputs": [],
   "source": [
    "from topicnet.cooking_machine.experiment import Experiment\n",
    "if os.path.exists(f'./ExploratoryResearchDemo') == True:\n",
    "    os.system(\"rm -rf ./ExploratoryResearchDemo\")\n",
    "experiment, dataset = build_experiment_environment_from_yaml_config(\n",
    "    yaml_string,\n",
    "    experiment_id='ExploratoryResearchDemo',\n",
    "    save_path='ExploratoryResearchDemo',\n",
    ")"
   ]
  },
  {
   "cell_type": "code",
   "execution_count": null,
   "metadata": {},
   "outputs": [],
   "source": [
    "experiment.run(dataset)"
   ]
  },
  {
   "cell_type": "code",
   "execution_count": null,
   "metadata": {},
   "outputs": [],
   "source": [
    "experiment.show()"
   ]
  },
  {
   "cell_type": "code",
   "execution_count": null,
   "metadata": {},
   "outputs": [],
   "source": [
    "best_model = experiment.select(experiment.criteria[-1][0])[0]"
   ]
  },
  {
   "cell_type": "code",
   "execution_count": null,
   "metadata": {},
   "outputs": [],
   "source": [
    "tms = experiment.models\n",
    "colors = np.linspace(0, 0.65, len(tms))\n",
    "\n",
    "plt.figure(figsize=(8,8))\n",
    "for i, tm in enumerate(list(tms.values())[1:]):\n",
    "    score = tm.scores['PerplexityScore@all']\n",
    "    plt.plot(score[1:])\n",
    "plt.show()"
   ]
  },
  {
   "cell_type": "code",
   "execution_count": null,
   "metadata": {},
   "outputs": [],
   "source": [
    "from matplotlib import cm\n",
    "tms = experiment.models\n",
    "colors = np.linspace(0, 0.65, len(tms))\n",
    "\n",
    "plt.figure(figsize=(8,8))\n",
    "for i, tm in enumerate(list(tms.values())[1:]):\n",
    "    score = tm.scores['TopicKernel@word.average_purity']\n",
    "    plt.plot(score, color=cm.Blues(colors[i]))\n",
    "    score = tm.scores['TopicKernel@word.average_contrast']\n",
    "    plt.plot(score, color=cm.Reds(colors[i]))\n",
    "plt.show()"
   ]
  },
  {
   "cell_type": "code",
   "execution_count": null,
   "metadata": {},
   "outputs": [],
   "source": [
    "query = (\n",
    "    \"TopicKernel@word.average_contrast > 0.8 * MAXIMUM(TopicKernel@word.average_contrast) \"\n",
    "    \"and TopicKernel@word.average_purity > 0.8 * MAXIMUM(TopicKernel@word.average_purity) \"\n",
    "    \"and PerplexityScore@all < 1.1 * MINIMUM(PerplexityScore@all) \"\n",
    ")\n",
    "models = experiment.select(query + \" COLLECT all\")\n",
    "def describe_model(model):\n",
    "    for reg_name, reg in model.regularizers._data.items():\n",
    "        print(reg_name, reg.tau)\n",
    "    print(model.scores[\"PerplexityScore@all\"][-1])\n",
    "    print(model.scores[\"TopicKernel@word.average_contrast\"][-1])\n",
    "    print(model.scores[\"TopicKernel@word.average_purity\"][-1])\n",
    "    print(\"------\")\n",
    "for model in models:\n",
    "    describe_model(model)"
   ]
  },
  {
   "cell_type": "markdown",
   "metadata": {},
   "source": [
    "### Investigate model"
   ]
  },
  {
   "cell_type": "code",
   "execution_count": null,
   "metadata": {},
   "outputs": [],
   "source": [
    "best_model = models[-1]"
   ]
  },
  {
   "cell_type": "code",
   "execution_count": null,
   "metadata": {},
   "outputs": [],
   "source": [
    "from topicnet.viewers.top_tokens_viewer import TopTokensViewer\n",
    "from topicnet.viewers.top_documents_viewer import TopDocumentsViewer\n",
    "from IPython.display import display_html, display\n",
    "from topicnet.cooking_machine.dataset import get_modality_vw"
   ]
  },
  {
   "cell_type": "code",
   "execution_count": null,
   "metadata": {},
   "outputs": [],
   "source": [
    "thresh = 1e-5\n",
    "demo_data = Dataset(DATASET_PATH)\n",
    "first_model_top_tok = TopTokensViewer(best_model, num_top_tokens=10, method='phi')\n",
    "first_model_html =  first_model_top_tok.to_html(first_model_top_tok.view(),thresh=thresh)\n",
    "first_model_top_doc = TopDocumentsViewer(best_model, dataset=demo_data).view()"
   ]
  },
  {
   "cell_type": "code",
   "execution_count": null,
   "metadata": {
    "scrolled": true
   },
   "outputs": [],
   "source": [
    "n=7\n",
    "for line, topic_docs in list(zip(first_model_html, first_model_top_doc))[-n:]:\n",
    "    display_html(line, raw=True)\n",
    "    for doc_id in topic_docs:\n",
    "        doc_vw = demo_data.get_vw_document(doc_id).values[0][0]\n",
    "        doc_title = get_modality_vw(doc_vw, \"@title\")\n",
    "        doc_snippet = get_modality_vw(doc_vw, \"@snippet\")\n",
    "        display_html(f\"<b>{doc_title}</b>\", raw=True)"
   ]
  },
  {
   "cell_type": "code",
   "execution_count": null,
   "metadata": {},
   "outputs": [],
   "source": [
    "print(doc_id)"
   ]
  },
  {
   "cell_type": "code",
   "execution_count": null,
   "metadata": {},
   "outputs": [],
   "source": [
    "from topicnet.viewers import TopSimilarDocumentsViewer"
   ]
  },
  {
   "cell_type": "code",
   "execution_count": null,
   "metadata": {},
   "outputs": [],
   "source": [
    "tsdv = TopSimilarDocumentsViewer(best_model, dataset)"
   ]
  },
  {
   "cell_type": "code",
   "execution_count": null,
   "metadata": {},
   "outputs": [],
   "source": [
    "dataset.get_source_document(search_doc)['raw_text'].values"
   ]
  },
  {
   "cell_type": "code",
   "execution_count": null,
   "metadata": {},
   "outputs": [],
   "source": [
    "search_doc = '174.txt'\n",
    "sim_docs, scores = tsdv.view(\n",
    "    search_doc,\n",
    "    metric='euclidean',\n",
    "    num_top_similar=10)\n",
    "for doc_id in sim_docs:\n",
    "    document = dataset.get_source_document(doc_id)\n",
    "    doc_title = document.index.values[0]\n",
    "    doc_snippet = '.'.join(document['raw_text'].values[0].split('.')[:3])\n",
    "    display_html(f\"<b>{doc_title}</b><br />{doc_snippet}\", raw=True)"
   ]
  }
 ],
 "metadata": {
  "kernelspec": {
   "display_name": "Python [conda env:root] *",
   "language": "python",
   "name": "conda-root-py"
  },
  "language_info": {
   "codemirror_mode": {
    "name": "ipython",
    "version": 3
   },
   "file_extension": ".py",
   "mimetype": "text/x-python",
   "name": "python",
   "nbconvert_exporter": "python",
   "pygments_lexer": "ipython3",
   "version": "3.6.9"
  }
 },
 "nbformat": 4,
 "nbformat_minor": 2
}
