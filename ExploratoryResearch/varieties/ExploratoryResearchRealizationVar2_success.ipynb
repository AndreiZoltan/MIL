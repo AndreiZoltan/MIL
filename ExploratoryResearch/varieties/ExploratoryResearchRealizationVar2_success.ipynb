{
 "cells": [
  {
   "cell_type": "code",
   "execution_count": 1,
   "metadata": {},
   "outputs": [],
   "source": [
    "import numpy as np\n",
    "import pandas as pd\n",
    "import matplotlib.pyplot as plt\n",
    "%matplotlib inline\n",
    "import os\n",
    "import time\n",
    "import artm\n",
    "\n",
    "# change log style\n",
    "lc = artm.messages.ConfigureLoggingArgs()\n",
    "lc.minloglevel = 3\n",
    "lib = artm.wrapper.LibArtm(logging_config=lc)\n",
    "\n",
    "import warnings\n",
    "warnings.filterwarnings(\"ignore\", category=DeprecationWarning)"
   ]
  },
  {
   "cell_type": "code",
   "execution_count": 2,
   "metadata": {},
   "outputs": [
    {
     "data": {
      "text/html": [
       "<style>\n",
       "    div.output_html {\n",
       "        white-space: nowrap;\n",
       "    }\n",
       "    div .output_subarea > pre {\n",
       "        white-space: pre;\n",
       "        word-wrap: normal;\n",
       "    }\n",
       "    div .output_stdout > pre {\n",
       "        white-space: pre-wrap !important;\n",
       "        word-wrap:  break-word !important;\n",
       "    }\n",
       "    </style>"
      ],
      "text/plain": [
       "<IPython.core.display.HTML object>"
      ]
     },
     "metadata": {},
     "output_type": "display_data"
    }
   ],
   "source": [
    "from copy import deepcopy\n",
    "from topicnet.cooking_machine.models.topic_model import TopicModel\n",
    "from topicnet.cooking_machine.cubes import RegularizersModifierCube\n",
    "from topicnet.cooking_machine.config_parser import build_experiment_environment_from_yaml_config\n",
    "from topicnet.cooking_machine.experiment import Experiment\n",
    "from topicnet.cooking_machine.cubes import *\n",
    "from topicnet.cooking_machine.dataset import Dataset\n",
    "from topicnet.cooking_machine.pretty_output import make_notebook_pretty\n",
    "make_notebook_pretty()"
   ]
  },
  {
   "cell_type": "code",
   "execution_count": 3,
   "metadata": {},
   "outputs": [],
   "source": [
    "import topicnet.cooking_machine.cubes as tncubes"
   ]
  },
  {
   "cell_type": "code",
   "execution_count": 4,
   "metadata": {},
   "outputs": [
    {
     "data": {
      "text/html": [
       "<style>\n",
       ".container { width:90% !important; }\n",
       "div.output_scroll .output_subarea { white-space: pre; }\n",
       "</style>"
      ],
      "text/plain": [
       "<IPython.core.display.HTML object>"
      ]
     },
     "metadata": {},
     "output_type": "display_data"
    }
   ],
   "source": [
    "from IPython.core.display import display, HTML\n",
    "from IPython.display import clear_output, display_html\n",
    "display(HTML(\"\"\"<style>\n",
    ".container { width:90% !important; }\n",
    "div.output_scroll .output_subarea { white-space: pre; }\n",
    "</style>\"\"\"))"
   ]
  },
  {
   "cell_type": "markdown",
   "metadata": {},
   "source": [
    "### Make initial model"
   ]
  },
  {
   "cell_type": "code",
   "execution_count": 5,
   "metadata": {
    "scrolled": false
   },
   "outputs": [
    {
     "name": "stdout",
     "output_type": "stream",
     "text": [
      "# This config follows a strategy described in the article\n",
      "# Multi-objective Topic Modeling for Exploratory Search in Tech News\n",
      "# by Anastasya Yanina, Lev Golitsyn and Konstantin Vorontsov, Jan 2018\n",
      "\n",
      "\n",
      "# Use .format(modality=modality, dataset_path=dataset_path,\n",
      "# specific_topics=specific_topics, background_topics=background_topics)\n",
      "# when loading the recipe to adjust for your dataset\n",
      "\n",
      "topics:\n",
      "# Describes number of model topics, in the actuall article 200 topics were found to be optimal\n",
      "    specific_topics: ['topic_0', 'topic_1', 'topic_2', 'topic_3', 'topic_4', 'topic_5', 'topic_6', 'topic_7', 'topic_8', 'topic_9', 'topic_10', 'topic_11', 'topic_12', 'topic_13', 'topic_14', 'topic_15', 'topic_16', 'topic_17', 'topic_18', 'topic_19', 'topic_20', 'topic_21', 'topic_22', 'topic_23', 'topic_24', 'topic_25', 'topic_26', 'topic_27', 'topic_28', 'topic_29', 'topic_30', 'topic_31', 'topic_32', 'topic_33', 'topic_34']\n",
      "    background_topics: ['bcg_35']\n",
      "\n",
      "regularizers:\n",
      "- DecorrelatorPhiRegularizer:\n",
      "    name: decorrelation_phi_@word\n",
      "    topic_names: specific_topics\n",
      "    tau: 0\n",
      "    class_ids: ['@word']\n",
      "- SmoothSparseThetaRegularizer:\n",
      "    name: sparse_theta\n",
      "    topic_names: specific_topics\n",
      "    tau: 0\n",
      "- SmoothSparsePhiRegularizer:\n",
      "    name: smooth_phi_@word\n",
      "    topic_names: specific_topics\n",
      "    tau: 0\n",
      "    class_ids: ['@word']\n",
      "- DecorrelatorPhiRegularizer:\n",
      "    name: decorrelation_phi_@2gramm\n",
      "    topic_names: specific_topics\n",
      "    tau: 0\n",
      "    class_ids: ['@2gramm']\n",
      "- SmoothSparseThetaRegularizer:\n",
      "    name: sparse_theta\n",
      "    topic_names: specific_topics\n",
      "    tau: 0\n",
      "- SmoothSparsePhiRegularizer:\n",
      "    name: smooth_phi_@2gramm\n",
      "    topic_names: specific_topics\n",
      "    tau: 0\n",
      "    class_ids: ['@2gramm']\n",
      "\n",
      "model: \n",
      "    dataset_path: /home/sultan/datasets/PScience/PScience.csv\n",
      "    modalities_to_use: ['@word', '@2gramm']\n",
      "    main_modality: '@word'\n",
      "\n",
      "stages:\n",
      "# repeat the following two cubes for every modality in the dataset\n",
      "- RegularizersModifierCube:\n",
      "    num_iter: 8\n",
      "    reg_search: mul\n",
      "    regularizer_parameters:\n",
      "        name: decorrelation_phi_@word\n",
      "    selection:\n",
      "        - SparsityPhiScore@word > 0.8 * MAXIMUM(SparsityPhiScore@word) and PerplexityScore@word -> min\n",
      "    strategy: PerplexityStrategy\n",
      "    strategy_params:\n",
      "        start_point: 1000 #100000\n",
      "        step: 10\n",
      "        max_len: 6\n",
      "    tracked_score_function: PerplexityScore@word\n",
      "    verbose: false\n",
      "    use_relative_coefficients: false\n",
      "- RegularizersModifierCube:\n",
      "    num_iter: 8\n",
      "    reg_search: mul\n",
      "    regularizer_parameters:\n",
      "        name: decorrelation_phi_@2gramm\n",
      "    selection:\n",
      "        - SparsityPhiScore@2gramm > 0.8 * MAXIMUM(SparsityPhiScore@2gramm) and PerplexityScore@2gramm -> min\n",
      "    strategy: PerplexityStrategy\n",
      "    strategy_params:\n",
      "        start_point: 100000\n",
      "        step: 10\n",
      "        max_len: 6\n",
      "    tracked_score_function: PerplexityScore@2gramm\n",
      "    verbose: false\n",
      "    use_relative_coefficients: false\n",
      "- RegularizersModifierCube:\n",
      "    num_iter: 8\n",
      "    reg_search: add\n",
      "    regularizer_parameters:\n",
      "        name: sparse_theta\n",
      "    selection:\n",
      "        - SparsityPhiScore@word > 0.8 * MAXIMUM(SparsityPhiScore@word) and PerplexityScore@all -> min\n",
      "    strategy: PerplexityStrategy\n",
      "    strategy_params:\n",
      "        start_point: -0.5\n",
      "        step: -0.5\n",
      "        max_len: 6\n",
      "    tracked_score_function: PerplexityScore@all\n",
      "    verbose: false\n",
      "    use_relative_coefficients: false\n",
      "- RegularizersModifierCube:\n",
      "    num_iter: 8\n",
      "    reg_search: add\n",
      "    regularizer_parameters:\n",
      "        name: smooth_phi_@word\n",
      "    selection:\n",
      "        - SparsityPhiScore@word > 0.8 * MAXIMUM(SparsityPhiScore@word) and PerplexityScore@word -> min\n",
      "    strategy: PerplexityStrategy\n",
      "    strategy_params:\n",
      "        start_point: 0.25\n",
      "        step: 0.25\n",
      "        max_len: 6\n",
      "    tracked_score_function: PerplexityScore@word\n",
      "    verbose: false\n",
      "    use_relative_coefficients: false\n",
      "- RegularizersModifierCube:\n",
      "    num_iter: 8\n",
      "    reg_search: add\n",
      "    regularizer_parameters:\n",
      "        name: smooth_phi_@2gramm\n",
      "    selection:\n",
      "        - SparsityPhiScore@2gramm > 0.8 * MAXIMUM(SparsityPhiScore@2gramm) and PerplexityScore@2gramm -> min\n",
      "    strategy: PerplexityStrategy\n",
      "    strategy_params:\n",
      "        start_point: 0.25\n",
      "        step: 0.25\n",
      "        max_len: 6\n",
      "    tracked_score_function: PerplexityScore@2gramm\n",
      "    verbose: false\n",
      "    use_relative_coefficients: false\n"
     ]
    }
   ],
   "source": [
    "with open(\"/home/sultan/recipes/exploratory_search-variant2_success.yml\", \"r\") as f:\n",
    "    yaml_string = f.read()\n",
    "\n",
    "DATASET_PATH = \"/home/sultan/datasets/PScience/PScience.csv\"\n",
    "specific_topics = [f'topic_{i}' for i in range(35)]\n",
    "background_topics = [f'bcg_{i}' for i in range(len(specific_topics),len(specific_topics) + 1)]\n",
    "\n",
    "yaml_string = yaml_string.format(\n",
    "    modality1='@word',\n",
    "    modality2='@2gramm',\n",
    "    dataset_path=DATASET_PATH,\n",
    "    specific_topics=specific_topics,\n",
    "    background_topics=background_topics)\n",
    "\n",
    "print(yaml_string)"
   ]
  },
  {
   "cell_type": "markdown",
   "metadata": {},
   "source": [
    "### Define Topic Model"
   ]
  },
  {
   "cell_type": "code",
   "execution_count": 6,
   "metadata": {},
   "outputs": [],
   "source": [
    "from topicnet.cooking_machine.experiment import Experiment\n",
    "if os.path.exists(f'./ExploratoryResearchDemo2') == True:\n",
    "    os.system(\"rm -rf ./ExploratoryResearchDemo2\")\n",
    "experiment, dataset = build_experiment_environment_from_yaml_config(\n",
    "    yaml_string,\n",
    "    experiment_id='ExploratoryResearchDemo2',\n",
    "    save_path='ExploratoryResearchDemo2',\n",
    ")"
   ]
  },
  {
   "cell_type": "code",
   "execution_count": 7,
   "metadata": {},
   "outputs": [
    {
     "name": "stderr",
     "output_type": "stream",
     "text": [
      "/home/sultan/miniconda3/lib/python3.6/site-packages/topicnet/cooking_machine/cubes/base_cube.py:206: UserWarning: Perplexity is too high for threshold 1.05\n",
      "  warnings.warn(warning_message)\n",
      "/home/sultan/miniconda3/lib/python3.6/site-packages/topicnet/cooking_machine/cubes/base_cube.py:206: UserWarning: Max progression length exceeded\n",
      "  warnings.warn(warning_message)\n"
     ]
    },
    {
     "data": {
      "text/plain": [
       "{<topicnet.cooking_machine.models.topic_model.TopicModel at 0x7fb5c5089128>}"
      ]
     },
     "execution_count": 7,
     "metadata": {},
     "output_type": "execute_result"
    }
   ],
   "source": [
    "experiment.run(dataset)"
   ]
  },
  {
   "cell_type": "code",
   "execution_count": 8,
   "metadata": {},
   "outputs": [
    {
     "data": {
      "text/plain": [
       "Experiment ExploratoryResearchDemo2\n",
       "\n",
       "Experiment was made with BigARTM 0.9.0\n",
       "Tree:\n",
       "                              ┌##00h24m37s_25d11m2019y###\n",
       "                              ├##00h24m54s_25d11m2019y###\n",
       "                              ├##00h25m11s_25d11m2019y###\n",
       "<<<<<<<<<<<root>>>>>>>>>>>────┤\n",
       "                              ├##00h25m27s_25d11m2019y###\n",
       "                              ├##00h25m44s_25d11m2019y###\n",
       "                              │                                                                                                       ┌##00h26m33s_25d11m2019y###\n",
       "                              │                                                                                                       ├##00h26m53s_25d11m2019y###\n",
       "                              └##00h26m01s_25d11m2019y###─────────────────────────────────────────────────────────────────────────────┤\n",
       "                                                                                                                                      │                                                                                                                                                                                                                                                                                                                       ┌##00h35m49s_25d11m2019y###\n",
       "                                                                                                                                      │                                                                                                                                                                                                               ┌##00h31m39s_25d11m2019y###─────────────────────────────────────────────────────────────────────────────┤\n",
       "                                                                                                                                      │                                                                                                                                                                                                               │                                                                                                       ├##00h36m16s_25d11m2019y###\n",
       "                                                                                                                                      │                                                                                                                                                                                                               │                                                                                                       └##00h36m43s_25d11m2019y###\n",
       "                                                                                                                                      │                                                                                                                                                                                                               ├##00h32m04s_25d11m2019y###\n",
       "                                                                                                                                      │                                                                                                                                                                                                               ├##00h32m29s_25d11m2019y###\n",
       "                                                                                                                                      │                                                                                                       ┌##00h28m11s_25d11m2019y###─────────────────────────────────────────────────────────────────────────────┤\n",
       "                                                                                                                                      │                                                                                                       │                                                                                                       ├##00h32m54s_25d11m2019y###\n",
       "                                                                                                                                      │                                                                                                       │                                                                                                       ├##00h33m19s_25d11m2019y###\n",
       "                                                                                                                                      │                                                                                                       │                                                                                                       ├##00h33m43s_25d11m2019y###\n",
       "                                                                                                                                      │                                                                                                       │                                                                                                       └##00h34m08s_25d11m2019y###\n",
       "                                                                                                                                      │                                                                                                       ├##00h28m34s_25d11m2019y###\n",
       "                                                                                                                                      │                                                                                                       ├##00h28m57s_25d11m2019y###\n",
       "                                                                                                                                      ├##00h27m12s_25d11m2019y###─────────────────────────────────────────────────────────────────────────────┤\n",
       "                                                                                                                                      │                                                                                                       ├##00h29m21s_25d11m2019y###\n",
       "                                                                                                                                      │                                                                                                       ├##00h29m44s_25d11m2019y###\n",
       "                                                                                                                                      │                                                                                                       ├##00h30m07s_25d11m2019y###\n",
       "                                                                                                                                      │                                                                                                       └##00h30m30s_25d11m2019y###\n",
       "                                                                                                                                      └##00h27m32s_25d11m2019y###\n",
       "Cubes:\n",
       " START                        | REG_MODIFIER                                                                                          | REG_MODIFIER                                                                                          | REG_MODIFIER                                                                                          | REG_MODIFIER                                                                                          | REG_MODIFIER                                                                                         \n",
       "                              | cube:                                                                                                 | cube:                                                                                                 | cube:                                                                                                 | cube:                                                                                                 | cube:                                                                                                \n",
       " name:                        |   <topicnet.cooking_machine.cubes.regularizer_cube.RegularizersModifierCube object at 0x7fb5c7315080> |   <topicnet.cooking_machine.cubes.regularizer_cube.RegularizersModifierCube object at 0x7fb5c5c85f28> |   <topicnet.cooking_machine.cubes.regularizer_cube.RegularizersModifierCube object at 0x7fb5c5c85ef0> |   <topicnet.cooking_machine.cubes.regularizer_cube.RegularizersModifierCube object at 0x7fb5c5c85d30> |   <topicnet.cooking_machine.cubes.regularizer_cube.RegularizersModifierCube object at 0x7fb5c5c85f60>\n",
       "   ARTM                       |                                                                                                       |                                                                                                       |                                                                                                       |                                                                                                       |                                                                                                      \n",
       " num_processors:              | tau_grid:                                                                                             | tau_grid:                                                                                             | tau_grid:                                                                                             | tau_grid:                                                                                             | tau_grid:                                                                                            \n",
       "   3                          |   ---                                                                                                 |   ---                                                                                                 |   ---                                                                                                 |   ---                                                                                                 |   ---                                                                                                \n",
       " num_topics:                  | name:                                                                                                 | name:                                                                                                 | name:                                                                                                 | name:                                                                                                 | name:                                                                                                \n",
       "   36                         |   decorrelation_phi_@word                                                                             |   decorrelation_phi_@2gramm                                                                           |   sparse_theta                                                                                        |   smooth_phi_@word                                                                                    |   smooth_phi_@2gramm                                                                                 \n",
       " topic_names:                 |                                                                                                       |                                                                                                       |                                                                                                       |                                                                                                       |                                                                                                      \n",
       "   topic_0,                   |                                                                                                       |                                                                                                       |                                                                                                       |                                                                                                       |                                                                                                      \n",
       "   topic_1,                   |                                                                                                       |                                                                                                       |                                                                                                       |                                                                                                       |                                                                                                      \n",
       "   ...,                       |                                                                                                       |                                                                                                       |                                                                                                       |                                                                                                       |                                                                                                      \n",
       "   topic_34,                  |                                                                                                       |                                                                                                       |                                                                                                       |                                                                                                       |                                                                                                      \n",
       "   bcg_35                     |                                                                                                       |                                                                                                       |                                                                                                       |                                                                                                       |                                                                                                      \n",
       " class_ids:                   |                                                                                                       |                                                                                                       |                                                                                                       |                                                                                                       |                                                                                                      \n",
       "   @word=1.0,                 |                                                                                                       |                                                                                                       |                                                                                                       |                                                                                                       |                                                                                                      \n",
       "   @2gramm=8.780309757546435  |                                                                                                       |                                                                                                       |                                                                                                       |                                                                                                       |                                                                                                      \n",
       " seed:                        |                                                                                                       |                                                                                                       |                                                                                                       |                                                                                                       |                                                                                                      \n",
       "   -1                         |                                                                                                       |                                                                                                       |                                                                                                       |                                                                                                       |                                                                                                      \n",
       "                              |                                                                                                       |                                                                                                       |                                                                                                       |                                                                                                       |                                                                                                      \n",
       "──────────────────────────────+───────────────────────────────────────────────────────────────────────────────────────────────────────+───────────────────────────────────────────────────────────────────────────────────────────────────────+───────────────────────────────────────────────────────────────────────────────────────────────────────+───────────────────────────────────────────────────────────────────────────────────────────────────────+───────────────────────────────────────────────────────────────────────────────────────────────────────+─────────────────────────────────────────────────────────────────────────────────────────────────────\n",
       "                              | stage criteria 1:                                                                                     | stage criteria 1:                                                                                     | stage criteria 1:                                                                                     | stage criteria 1:                                                                                     | stage criteria 1:                                                                                    \n",
       "                              |     SparsityPhiScore@word > 0.8 * MAXIMUM(SparsityPhiScore@word)                                      |     SparsityPhiScore@2gramm > 0.8 * MAXIMUM(SparsityPhiScore@2gramm)                                  |     SparsityPhiScore@word > 0.8 * MAXIMUM(SparsityPhiScore@word)                                      |     SparsityPhiScore@word > 0.8 * MAXIMUM(SparsityPhiScore@word)                                      |     SparsityPhiScore@2gramm > 0.8 * MAXIMUM(SparsityPhiScore@2gramm)                                 \n",
       "                              |     PerplexityScore@word -> min                                                                       |     PerplexityScore@2gramm -> min                                                                     |     PerplexityScore@all -> min                                                                        |     PerplexityScore@word -> min                                                                       |     PerplexityScore@2gramm -> min                                                                    \n",
       "                              |                                                                                                       |                                                                                                       |                                                                                                       |                                                                                                       |                                                                                                      "
      ]
     },
     "metadata": {},
     "output_type": "display_data"
    }
   ],
   "source": [
    "experiment.show()"
   ]
  },
  {
   "cell_type": "code",
   "execution_count": 9,
   "metadata": {},
   "outputs": [],
   "source": [
    "best_model = experiment.select(experiment.criteria[-1][0])[0]"
   ]
  },
  {
   "cell_type": "code",
   "execution_count": 10,
   "metadata": {},
   "outputs": [
    {
     "data": {
      "image/png": "[encoded data removed]",
      "text/plain": [
       "<Figure size 576x576 with 1 Axes>"
      ]
     },
     "metadata": {
      "needs_background": "light"
     },
     "output_type": "display_data"
    }
   ],
   "source": [
    "tms = experiment.models\n",
    "colors = np.linspace(0, 0.65, len(tms))\n",
    "\n",
    "plt.figure(figsize=(8,8))\n",
    "for i, tm in enumerate(list(tms.values())[1:]):\n",
    "    score = tm.scores['PerplexityScore@all']\n",
    "    plt.plot(score[1:])\n",
    "plt.show()"
   ]
  },
  {
   "cell_type": "code",
   "execution_count": 11,
   "metadata": {},
   "outputs": [
    {
     "data": {
      "image/png": "[encoded data removed]",
      "text/plain": [
       "<Figure size 576x576 with 1 Axes>"
      ]
     },
     "metadata": {
      "needs_background": "light"
     },
     "output_type": "display_data"
    }
   ],
   "source": [
    "from matplotlib import cm\n",
    "tms = experiment.models\n",
    "colors = np.linspace(0, 0.65, len(tms))\n",
    "\n",
    "plt.figure(figsize=(8,8))\n",
    "for i, tm in enumerate(list(tms.values())[1:]):\n",
    "    score = tm.scores['TopicKernel@word.average_purity']\n",
    "    plt.plot(score, color=cm.Blues(colors[i]))\n",
    "    score = tm.scores['TopicKernel@word.average_contrast']\n",
    "    plt.plot(score, color=cm.Reds(colors[i]))\n",
    "plt.show()"
   ]
  },
  {
   "cell_type": "code",
   "execution_count": 12,
   "metadata": {},
   "outputs": [
    {
     "name": "stdout",
     "output_type": "stream",
     "text": [
      "smooth_phi_bcg 0.0\n",
      "smooth_theta_bcg 0.0\n",
      "decorrelation_phi_@word 10000000.0\n",
      "sparse_theta 0\n",
      "smooth_phi_@word 0\n",
      "decorrelation_phi_@2gramm 1000000.0\n",
      "smooth_phi_@2gramm 0\n",
      "16189898.0\n",
      "0.9692198634147644\n",
      "0.9893662333488464\n",
      "------\n",
      "smooth_phi_bcg 0.0\n",
      "smooth_theta_bcg 0.0\n",
      "decorrelation_phi_@word 10000000.0\n",
      "sparse_theta 0\n",
      "smooth_phi_@word 0\n",
      "decorrelation_phi_@2gramm 1000000.0\n",
      "smooth_phi_@2gramm 0.25\n",
      "16791118.0\n",
      "0.9691254496574402\n",
      "0.9896120429039001\n",
      "------\n",
      "smooth_phi_bcg 0.0\n",
      "smooth_theta_bcg 0.0\n",
      "decorrelation_phi_@word 10000000.0\n",
      "sparse_theta 0\n",
      "smooth_phi_@word 0\n",
      "decorrelation_phi_@2gramm 1000000.0\n",
      "smooth_phi_@2gramm 0.5\n",
      "17573400.0\n",
      "0.9686111807823181\n",
      "0.9902731776237488\n",
      "------\n"
     ]
    }
   ],
   "source": [
    "query = (\n",
    "    \"TopicKernel@word.average_contrast > 0.8 * MAXIMUM(TopicKernel@word.average_contrast) \"\n",
    "    \"and TopicKernel@word.average_purity > 0.8 * MAXIMUM(TopicKernel@word.average_purity) \"\n",
    "    \"and PerplexityScore@all < 1.1 * MINIMUM(PerplexityScore@all) \"\n",
    ")\n",
    "models = experiment.select(query + \" COLLECT all\")\n",
    "def describe_model(model):\n",
    "    for reg_name, reg in model.regularizers._data.items():\n",
    "        print(reg_name, reg.tau)\n",
    "    print(model.scores[\"PerplexityScore@all\"][-1])\n",
    "    print(model.scores[\"TopicKernel@word.average_contrast\"][-1])\n",
    "    print(model.scores[\"TopicKernel@word.average_purity\"][-1])\n",
    "    print(\"------\")\n",
    "for model in models:\n",
    "    describe_model(model)"
   ]
  },
  {
   "cell_type": "markdown",
   "metadata": {},
   "source": [
    "### Investigate model"
   ]
  },
  {
   "cell_type": "code",
   "execution_count": 13,
   "metadata": {},
   "outputs": [],
   "source": [
    "best_model = models[-1]"
   ]
  },
  {
   "cell_type": "code",
   "execution_count": 14,
   "metadata": {},
   "outputs": [],
   "source": [
    "from topicnet.viewers.top_tokens_viewer import TopTokensViewer\n",
    "from topicnet.viewers.top_documents_viewer import TopDocumentsViewer\n",
    "from IPython.display import display_html, display\n",
    "from topicnet.cooking_machine.dataset import get_modality_vw"
   ]
  },
  {
   "cell_type": "code",
   "execution_count": 15,
   "metadata": {},
   "outputs": [],
   "source": [
    "thresh = 1e-5\n",
    "demo_data = Dataset(DATASET_PATH)\n",
    "first_model_top_tok = TopTokensViewer(best_model, num_top_tokens=10, method='phi')\n",
    "first_model_html =  first_model_top_tok.to_html(first_model_top_tok.view(),thresh=thresh)\n",
    "first_model_top_doc = TopDocumentsViewer(best_model, dataset=demo_data).view()"
   ]
  },
  {
   "cell_type": "code",
   "execution_count": 16,
   "metadata": {
    "scrolled": true
   },
   "outputs": [
    {
     "data": {
      "text/html": [
       "<style  type=\"text/css\" >\n",
       "</style><table id=\"T_baf3427e_0f02_11ea_a6fb_107b449f15fc\" style='display:inline'><thead>    <tr>        <th class=\"blank level0\" ></th>        <th class=\"col_heading level0 col0\" >topic_29 @2gramm</th>    </tr></thead><tbody>\n",
       "                <tr>\n",
       "                        <th id=\"T_baf3427e_0f02_11ea_a6fb_107b449f15fclevel0_row0\" class=\"row_heading level0 row0\" >раковый_клетка</th>\n",
       "                        <td id=\"T_baf3427e_0f02_11ea_a6fb_107b449f15fcrow0_col0\" class=\"data row0 col0\" >0.02645</td>\n",
       "            </tr>\n",
       "            <tr>\n",
       "                        <th id=\"T_baf3427e_0f02_11ea_a6fb_107b449f15fclevel0_row1\" class=\"row_heading level0 row1\" >многоклеточный_организм</th>\n",
       "                        <td id=\"T_baf3427e_0f02_11ea_a6fb_107b449f15fcrow1_col0\" class=\"data row1 col0\" >0.01621</td>\n",
       "            </tr>\n",
       "            <tr>\n",
       "                        <th id=\"T_baf3427e_0f02_11ea_a6fb_107b449f15fclevel0_row2\" class=\"row_heading level0 row2\" >опухолевый_клетка</th>\n",
       "                        <td id=\"T_baf3427e_0f02_11ea_a6fb_107b449f15fcrow2_col0\" class=\"data row2 col0\" >0.01472</td>\n",
       "            </tr>\n",
       "            <tr>\n",
       "                        <th id=\"T_baf3427e_0f02_11ea_a6fb_107b449f15fclevel0_row3\" class=\"row_heading level0 row3\" >сигнальный_путь</th>\n",
       "                        <td id=\"T_baf3427e_0f02_11ea_a6fb_107b449f15fcrow3_col0\" class=\"data row3 col0\" >0.01196</td>\n",
       "            </tr>\n",
       "            <tr>\n",
       "                        <th id=\"T_baf3427e_0f02_11ea_a6fb_107b449f15fclevel0_row4\" class=\"row_heading level0 row4\" >оперативный_память</th>\n",
       "                        <td id=\"T_baf3427e_0f02_11ea_a6fb_107b449f15fcrow4_col0\" class=\"data row4 col0\" >0.00965</td>\n",
       "            </tr>\n",
       "            <tr>\n",
       "                        <th id=\"T_baf3427e_0f02_11ea_a6fb_107b449f15fclevel0_row5\" class=\"row_heading level0 row5\" >эукариотический_клетка</th>\n",
       "                        <td id=\"T_baf3427e_0f02_11ea_a6fb_107b449f15fcrow5_col0\" class=\"data row5 col0\" >0.00961</td>\n",
       "            </tr>\n",
       "            <tr>\n",
       "                        <th id=\"T_baf3427e_0f02_11ea_a6fb_107b449f15fclevel0_row6\" class=\"row_heading level0 row6\" >парниковый_эффект</th>\n",
       "                        <td id=\"T_baf3427e_0f02_11ea_a6fb_107b449f15fcrow6_col0\" class=\"data row6 col0\" >0.0096</td>\n",
       "            </tr>\n",
       "            <tr>\n",
       "                        <th id=\"T_baf3427e_0f02_11ea_a6fb_107b449f15fclevel0_row7\" class=\"row_heading level0 row7\" >глобальный_потепление</th>\n",
       "                        <td id=\"T_baf3427e_0f02_11ea_a6fb_107b449f15fcrow7_col0\" class=\"data row7 col0\" >0.00894</td>\n",
       "            </tr>\n",
       "            <tr>\n",
       "                        <th id=\"T_baf3427e_0f02_11ea_a6fb_107b449f15fclevel0_row8\" class=\"row_heading level0 row8\" >половый_клетка</th>\n",
       "                        <td id=\"T_baf3427e_0f02_11ea_a6fb_107b449f15fcrow8_col0\" class=\"data row8 col0\" >0.00838</td>\n",
       "            </tr>\n",
       "            <tr>\n",
       "                        <th id=\"T_baf3427e_0f02_11ea_a6fb_107b449f15fclevel0_row9\" class=\"row_heading level0 row9\" >лечение_рак</th>\n",
       "                        <td id=\"T_baf3427e_0f02_11ea_a6fb_107b449f15fcrow9_col0\" class=\"data row9 col0\" >0.00745</td>\n",
       "            </tr>\n",
       "    </tbody></table><style  type=\"text/css\" >\n",
       "</style><table id=\"T_baf3427f_0f02_11ea_a6fb_107b449f15fc\" style='display:inline'><thead>    <tr>        <th class=\"blank level0\" ></th>        <th class=\"col_heading level0 col0\" >topic_29 @word</th>    </tr></thead><tbody>\n",
       "                <tr>\n",
       "                        <th id=\"T_baf3427f_0f02_11ea_a6fb_107b449f15fclevel0_row0\" class=\"row_heading level0 row0\" >градус</th>\n",
       "                        <td id=\"T_baf3427f_0f02_11ea_a6fb_107b449f15fcrow0_col0\" class=\"data row0 col0\" >0.17471</td>\n",
       "            </tr>\n",
       "            <tr>\n",
       "                        <th id=\"T_baf3427f_0f02_11ea_a6fb_107b449f15fclevel0_row1\" class=\"row_heading level0 row1\" >мышь</th>\n",
       "                        <td id=\"T_baf3427f_0f02_11ea_a6fb_107b449f15fcrow1_col0\" class=\"data row1 col0\" >0.14253</td>\n",
       "            </tr>\n",
       "            <tr>\n",
       "                        <th id=\"T_baf3427f_0f02_11ea_a6fb_107b449f15fclevel0_row2\" class=\"row_heading level0 row2\" >опухоль</th>\n",
       "                        <td id=\"T_baf3427f_0f02_11ea_a6fb_107b449f15fcrow2_col0\" class=\"data row2 col0\" >0.141</td>\n",
       "            </tr>\n",
       "            <tr>\n",
       "                        <th id=\"T_baf3427f_0f02_11ea_a6fb_107b449f15fclevel0_row3\" class=\"row_heading level0 row3\" >неправильно</th>\n",
       "                        <td id=\"T_baf3427f_0f02_11ea_a6fb_107b449f15fcrow3_col0\" class=\"data row3 col0\" >0.10268</td>\n",
       "            </tr>\n",
       "            <tr>\n",
       "                        <th id=\"T_baf3427f_0f02_11ea_a6fb_107b449f15fclevel0_row4\" class=\"row_heading level0 row4\" >поставщик</th>\n",
       "                        <td id=\"T_baf3427f_0f02_11ea_a6fb_107b449f15fcrow4_col0\" class=\"data row4 col0\" >0.03065</td>\n",
       "            </tr>\n",
       "            <tr>\n",
       "                        <th id=\"T_baf3427f_0f02_11ea_a6fb_107b449f15fclevel0_row5\" class=\"row_heading level0 row5\" >приспособиться</th>\n",
       "                        <td id=\"T_baf3427f_0f02_11ea_a6fb_107b449f15fcrow5_col0\" class=\"data row5 col0\" >0.02912</td>\n",
       "            </tr>\n",
       "            <tr>\n",
       "                        <th id=\"T_baf3427f_0f02_11ea_a6fb_107b449f15fclevel0_row6\" class=\"row_heading level0 row6\" >климатический</th>\n",
       "                        <td id=\"T_baf3427f_0f02_11ea_a6fb_107b449f15fcrow6_col0\" class=\"data row6 col0\" >0.02912</td>\n",
       "            </tr>\n",
       "            <tr>\n",
       "                        <th id=\"T_baf3427f_0f02_11ea_a6fb_107b449f15fclevel0_row7\" class=\"row_heading level0 row7\" >аэропорт</th>\n",
       "                        <td id=\"T_baf3427f_0f02_11ea_a6fb_107b449f15fcrow7_col0\" class=\"data row7 col0\" >0.02835</td>\n",
       "            </tr>\n",
       "            <tr>\n",
       "                        <th id=\"T_baf3427f_0f02_11ea_a6fb_107b449f15fclevel0_row8\" class=\"row_heading level0 row8\" >катаклизм</th>\n",
       "                        <td id=\"T_baf3427f_0f02_11ea_a6fb_107b449f15fcrow8_col0\" class=\"data row8 col0\" >0.02452</td>\n",
       "            </tr>\n",
       "            <tr>\n",
       "                        <th id=\"T_baf3427f_0f02_11ea_a6fb_107b449f15fclevel0_row9\" class=\"row_heading level0 row9\" >холод</th>\n",
       "                        <td id=\"T_baf3427f_0f02_11ea_a6fb_107b449f15fcrow9_col0\" class=\"data row9 col0\" >0.02376</td>\n",
       "            </tr>\n",
       "    </tbody></table>"
      ]
     },
     "metadata": {},
     "output_type": "display_data"
    },
    {
     "data": {
      "text/html": [
       "<b> опухолевые стволовые клетки </b>"
      ]
     },
     "metadata": {},
     "output_type": "display_data"
    },
    {
     "data": {
      "text/html": [
       "<b> изменения генома при раке </b>"
      ]
     },
     "metadata": {},
     "output_type": "display_data"
    },
    {
     "data": {
      "text/html": [
       "<b> наука о клетке </b>"
      ]
     },
     "metadata": {},
     "output_type": "display_data"
    },
    {
     "data": {
      "text/html": [
       "<b> вредные мутации в человеческих популяциях </b>"
      ]
     },
     "metadata": {},
     "output_type": "display_data"
    },
    {
     "data": {
      "text/html": [
       "<b> спермоспецифические белки и онкология </b>"
      ]
     },
     "metadata": {},
     "output_type": "display_data"
    },
    {
     "data": {
      "text/html": [
       "<b> атмосфера венеры </b>"
      ]
     },
     "metadata": {},
     "output_type": "display_data"
    },
    {
     "data": {
      "text/html": [
       "<b> методы лечения рака </b>"
      ]
     },
     "metadata": {},
     "output_type": "display_data"
    },
    {
     "data": {
      "text/html": [
       "<b> ранний и средний протерозой </b>"
      ]
     },
     "metadata": {},
     "output_type": "display_data"
    },
    {
     "data": {
      "text/html": [
       "<b> генетический анализ </b>"
      ]
     },
     "metadata": {},
     "output_type": "display_data"
    },
    {
     "data": {
      "text/html": [
       "<b> faqранний и средний протерозой </b>"
      ]
     },
     "metadata": {},
     "output_type": "display_data"
    },
    {
     "data": {
      "text/html": [
       "<style  type=\"text/css\" >\n",
       "</style><table id=\"T_baf34280_0f02_11ea_a6fb_107b449f15fc\" style='display:inline'><thead>    <tr>        <th class=\"blank level0\" ></th>        <th class=\"col_heading level0 col0\" >topic_30 @2gramm</th>    </tr></thead><tbody>\n",
       "                <tr>\n",
       "                        <th id=\"T_baf34280_0f02_11ea_a6fb_107b449f15fclevel0_row0\" class=\"row_heading level0 row0\" >российский_империя</th>\n",
       "                        <td id=\"T_baf34280_0f02_11ea_a6fb_107b449f15fcrow0_col0\" class=\"data row0 col0\" >0.04223</td>\n",
       "            </tr>\n",
       "            <tr>\n",
       "                        <th id=\"T_baf34280_0f02_11ea_a6fb_107b449f15fclevel0_row1\" class=\"row_heading level0 row1\" >общественный_благо</th>\n",
       "                        <td id=\"T_baf34280_0f02_11ea_a6fb_107b449f15fcrow1_col0\" class=\"data row1 col0\" >0.01569</td>\n",
       "            </tr>\n",
       "            <tr>\n",
       "                        <th id=\"T_baf34280_0f02_11ea_a6fb_107b449f15fclevel0_row2\" class=\"row_heading level0 row2\" >южный_америка</th>\n",
       "                        <td id=\"T_baf34280_0f02_11ea_a6fb_107b449f15fcrow2_col0\" class=\"data row2 col0\" >0.01542</td>\n",
       "            </tr>\n",
       "            <tr>\n",
       "                        <th id=\"T_baf34280_0f02_11ea_a6fb_107b449f15fclevel0_row3\" class=\"row_heading level0 row3\" >обычный_право</th>\n",
       "                        <td id=\"T_baf34280_0f02_11ea_a6fb_107b449f15fcrow3_col0\" class=\"data row3 col0\" >0.01471</td>\n",
       "            </tr>\n",
       "            <tr>\n",
       "                        <th id=\"T_baf34280_0f02_11ea_a6fb_107b449f15fclevel0_row4\" class=\"row_heading level0 row4\" >речь_посполить</th>\n",
       "                        <td id=\"T_baf34280_0f02_11ea_a6fb_107b449f15fcrow4_col0\" class=\"data row4 col0\" >0.0133</td>\n",
       "            </tr>\n",
       "            <tr>\n",
       "                        <th id=\"T_baf34280_0f02_11ea_a6fb_107b449f15fclevel0_row5\" class=\"row_heading level0 row5\" >северный_америка</th>\n",
       "                        <td id=\"T_baf34280_0f02_11ea_a6fb_107b449f15fcrow5_col0\" class=\"data row5 col0\" >0.01086</td>\n",
       "            </tr>\n",
       "            <tr>\n",
       "                        <th id=\"T_baf34280_0f02_11ea_a6fb_107b449f15fclevel0_row6\" class=\"row_heading level0 row6\" >общественный_пространство</th>\n",
       "                        <td id=\"T_baf34280_0f02_11ea_a6fb_107b449f15fcrow6_col0\" class=\"data row6 col0\" >0.00866</td>\n",
       "            </tr>\n",
       "            <tr>\n",
       "                        <th id=\"T_baf34280_0f02_11ea_a6fb_107b449f15fclevel0_row7\" class=\"row_heading level0 row7\" >тихий_океан</th>\n",
       "                        <td id=\"T_baf34280_0f02_11ea_a6fb_107b449f15fcrow7_col0\" class=\"data row7 col0\" >0.00862</td>\n",
       "            </tr>\n",
       "            <tr>\n",
       "                        <th id=\"T_baf34280_0f02_11ea_a6fb_107b449f15fclevel0_row8\" class=\"row_heading level0 row8\" >публичный_пространство</th>\n",
       "                        <td id=\"T_baf34280_0f02_11ea_a6fb_107b449f15fcrow8_col0\" class=\"data row8 col0\" >0.00828</td>\n",
       "            </tr>\n",
       "            <tr>\n",
       "                        <th id=\"T_baf34280_0f02_11ea_a6fb_107b449f15fclevel0_row9\" class=\"row_heading level0 row9\" >новое_свет</th>\n",
       "                        <td id=\"T_baf34280_0f02_11ea_a6fb_107b449f15fcrow9_col0\" class=\"data row9 col0\" >0.00766</td>\n",
       "            </tr>\n",
       "    </tbody></table><style  type=\"text/css\" >\n",
       "</style><table id=\"T_baf34281_0f02_11ea_a6fb_107b449f15fc\" style='display:inline'><thead>    <tr>        <th class=\"blank level0\" ></th>        <th class=\"col_heading level0 col0\" >topic_30 @word</th>    </tr></thead><tbody>\n",
       "                <tr>\n",
       "                        <th id=\"T_baf34281_0f02_11ea_a6fb_107b449f15fclevel0_row0\" class=\"row_heading level0 row0\" >строительство</th>\n",
       "                        <td id=\"T_baf34281_0f02_11ea_a6fb_107b449f15fcrow0_col0\" class=\"data row0 col0\" >0.14802</td>\n",
       "            </tr>\n",
       "            <tr>\n",
       "                        <th id=\"T_baf34281_0f02_11ea_a6fb_107b449f15fclevel0_row1\" class=\"row_heading level0 row1\" >публичный</th>\n",
       "                        <td id=\"T_baf34281_0f02_11ea_a6fb_107b449f15fcrow1_col0\" class=\"data row1 col0\" >0.11473</td>\n",
       "            </tr>\n",
       "            <tr>\n",
       "                        <th id=\"T_baf34281_0f02_11ea_a6fb_107b449f15fclevel0_row2\" class=\"row_heading level0 row2\" >крепость</th>\n",
       "                        <td id=\"T_baf34281_0f02_11ea_a6fb_107b449f15fcrow2_col0\" class=\"data row2 col0\" >0.0687</td>\n",
       "            </tr>\n",
       "            <tr>\n",
       "                        <th id=\"T_baf34281_0f02_11ea_a6fb_107b449f15fclevel0_row3\" class=\"row_heading level0 row3\" >конкиста</th>\n",
       "                        <td id=\"T_baf34281_0f02_11ea_a6fb_107b449f15fcrow3_col0\" class=\"data row3 col0\" >0.04533</td>\n",
       "            </tr>\n",
       "            <tr>\n",
       "                        <th id=\"T_baf34281_0f02_11ea_a6fb_107b449f15fclevel0_row4\" class=\"row_heading level0 row4\" >барон</th>\n",
       "                        <td id=\"T_baf34281_0f02_11ea_a6fb_107b449f15fcrow4_col0\" class=\"data row4 col0\" >0.02762</td>\n",
       "            </tr>\n",
       "            <tr>\n",
       "                        <th id=\"T_baf34281_0f02_11ea_a6fb_107b449f15fclevel0_row5\" class=\"row_heading level0 row5\" >капитан</th>\n",
       "                        <td id=\"T_baf34281_0f02_11ea_a6fb_107b449f15fcrow5_col0\" class=\"data row5 col0\" >0.02691</td>\n",
       "            </tr>\n",
       "            <tr>\n",
       "                        <th id=\"T_baf34281_0f02_11ea_a6fb_107b449f15fclevel0_row6\" class=\"row_heading level0 row6\" >принц</th>\n",
       "                        <td id=\"T_baf34281_0f02_11ea_a6fb_107b449f15fcrow6_col0\" class=\"data row6 col0\" >0.02479</td>\n",
       "            </tr>\n",
       "            <tr>\n",
       "                        <th id=\"T_baf34281_0f02_11ea_a6fb_107b449f15fclevel0_row7\" class=\"row_heading level0 row7\" >прообраз</th>\n",
       "                        <td id=\"T_baf34281_0f02_11ea_a6fb_107b449f15fcrow7_col0\" class=\"data row7 col0\" >0.02408</td>\n",
       "            </tr>\n",
       "            <tr>\n",
       "                        <th id=\"T_baf34281_0f02_11ea_a6fb_107b449f15fclevel0_row8\" class=\"row_heading level0 row8\" >альянс</th>\n",
       "                        <td id=\"T_baf34281_0f02_11ea_a6fb_107b449f15fcrow8_col0\" class=\"data row8 col0\" >0.02337</td>\n",
       "            </tr>\n",
       "            <tr>\n",
       "                        <th id=\"T_baf34281_0f02_11ea_a6fb_107b449f15fclevel0_row9\" class=\"row_heading level0 row9\" >верхушка</th>\n",
       "                        <td id=\"T_baf34281_0f02_11ea_a6fb_107b449f15fcrow9_col0\" class=\"data row9 col0\" >0.02266</td>\n",
       "            </tr>\n",
       "    </tbody></table>"
      ]
     },
     "metadata": {},
     "output_type": "display_data"
    },
    {
     "data": {
      "text/html": [
       "<b> национальные меньшинства </b>"
      ]
     },
     "metadata": {},
     "output_type": "display_data"
    },
    {
     "data": {
      "text/html": [
       "<b> коренные народы </b>"
      ]
     },
     "metadata": {},
     "output_type": "display_data"
    },
    {
     "data": {
      "text/html": [
       "<b> кавказский адат </b>"
      ]
     },
     "metadata": {},
     "output_type": "display_data"
    },
    {
     "data": {
      "text/html": [
       "<b> русско-американская колониальная система </b>"
      ]
     },
     "metadata": {},
     "output_type": "display_data"
    },
    {
     "data": {
      "text/html": [
       "<b> теории родового быта </b>"
      ]
     },
     "metadata": {},
     "output_type": "display_data"
    },
    {
     "data": {
      "text/html": [
       "<b> политический ислам </b>"
      ]
     },
     "metadata": {},
     "output_type": "display_data"
    },
    {
     "data": {
      "text/html": [
       "<b> абреки </b>"
      ]
     },
     "metadata": {},
     "output_type": "display_data"
    },
    {
     "data": {
      "text/html": [
       "<style  type=\"text/css\" >\n",
       "</style><table id=\"T_baf34282_0f02_11ea_a6fb_107b449f15fc\" style='display:inline'><thead>    <tr>        <th class=\"blank level0\" ></th>        <th class=\"col_heading level0 col0\" >topic_31 @2gramm</th>    </tr></thead><tbody>\n",
       "                <tr>\n",
       "                        <th id=\"T_baf34282_0f02_11ea_a6fb_107b449f15fclevel0_row0\" class=\"row_heading level0 row0\" >средний_класс</th>\n",
       "                        <td id=\"T_baf34282_0f02_11ea_a6fb_107b449f15fcrow0_col0\" class=\"data row0 col0\" >0.02865</td>\n",
       "            </tr>\n",
       "            <tr>\n",
       "                        <th id=\"T_baf34282_0f02_11ea_a6fb_107b449f15fclevel0_row1\" class=\"row_heading level0 row1\" >cinema_studies</th>\n",
       "                        <td id=\"T_baf34282_0f02_11ea_a6fb_107b449f15fcrow1_col0\" class=\"data row1 col0\" >0.02398</td>\n",
       "            </tr>\n",
       "            <tr>\n",
       "                        <th id=\"T_baf34282_0f02_11ea_a6fb_107b449f15fclevel0_row2\" class=\"row_heading level0 row2\" >среднее_класс</th>\n",
       "                        <td id=\"T_baf34282_0f02_11ea_a6fb_107b449f15fcrow2_col0\" class=\"data row2 col0\" >0.02125</td>\n",
       "            </tr>\n",
       "            <tr>\n",
       "                        <th id=\"T_baf34282_0f02_11ea_a6fb_107b449f15fclevel0_row3\" class=\"row_heading level0 row3\" >социальный_топология</th>\n",
       "                        <td id=\"T_baf34282_0f02_11ea_a6fb_107b449f15fcrow3_col0\" class=\"data row3 col0\" >0.00878</td>\n",
       "            </tr>\n",
       "            <tr>\n",
       "                        <th id=\"T_baf34282_0f02_11ea_a6fb_107b449f15fclevel0_row4\" class=\"row_heading level0 row4\" >творческий_способность</th>\n",
       "                        <td id=\"T_baf34282_0f02_11ea_a6fb_107b449f15fcrow4_col0\" class=\"data row4 col0\" >0.00763</td>\n",
       "            </tr>\n",
       "            <tr>\n",
       "                        <th id=\"T_baf34282_0f02_11ea_a6fb_107b449f15fclevel0_row5\" class=\"row_heading level0 row5\" >практический_занятие</th>\n",
       "                        <td id=\"T_baf34282_0f02_11ea_a6fb_107b449f15fcrow5_col0\" class=\"data row5 col0\" >0.00701</td>\n",
       "            </tr>\n",
       "            <tr>\n",
       "                        <th id=\"T_baf34282_0f02_11ea_a6fb_107b449f15fclevel0_row6\" class=\"row_heading level0 row6\" >гуманитарный_наука</th>\n",
       "                        <td id=\"T_baf34282_0f02_11ea_a6fb_107b449f15fcrow6_col0\" class=\"data row6 col0\" >0.00693</td>\n",
       "            </tr>\n",
       "            <tr>\n",
       "                        <th id=\"T_baf34282_0f02_11ea_a6fb_107b449f15fclevel0_row7\" class=\"row_heading level0 row7\" >психология_мышление</th>\n",
       "                        <td id=\"T_baf34282_0f02_11ea_a6fb_107b449f15fcrow7_col0\" class=\"data row7 col0\" >0.00671</td>\n",
       "            </tr>\n",
       "            <tr>\n",
       "                        <th id=\"T_baf34282_0f02_11ea_a6fb_107b449f15fclevel0_row8\" class=\"row_heading level0 row8\" >проблемный_ситуация</th>\n",
       "                        <td id=\"T_baf34282_0f02_11ea_a6fb_107b449f15fcrow8_col0\" class=\"data row8 col0\" >0.00644</td>\n",
       "            </tr>\n",
       "            <tr>\n",
       "                        <th id=\"T_baf34282_0f02_11ea_a6fb_107b449f15fclevel0_row9\" class=\"row_heading level0 row9\" >гендерный_исследование</th>\n",
       "                        <td id=\"T_baf34282_0f02_11ea_a6fb_107b449f15fcrow9_col0\" class=\"data row9 col0\" >0.00608</td>\n",
       "            </tr>\n",
       "    </tbody></table><style  type=\"text/css\" >\n",
       "</style><table id=\"T_baf34283_0f02_11ea_a6fb_107b449f15fc\" style='display:inline'><thead>    <tr>        <th class=\"blank level0\" ></th>        <th class=\"col_heading level0 col0\" >topic_31 @word</th>    </tr></thead><tbody>\n",
       "                <tr>\n",
       "                        <th id=\"T_baf34283_0f02_11ea_a6fb_107b449f15fclevel0_row0\" class=\"row_heading level0 row0\" >postnauka</th>\n",
       "                        <td id=\"T_baf34283_0f02_11ea_a6fb_107b449f15fcrow0_col0\" class=\"data row0 col0\" >0.2196</td>\n",
       "            </tr>\n",
       "            <tr>\n",
       "                        <th id=\"T_baf34283_0f02_11ea_a6fb_107b449f15fclevel0_row1\" class=\"row_heading level0 row1\" >занятие</th>\n",
       "                        <td id=\"T_baf34283_0f02_11ea_a6fb_107b449f15fcrow1_col0\" class=\"data row1 col0\" >0.18985</td>\n",
       "            </tr>\n",
       "            <tr>\n",
       "                        <th id=\"T_baf34283_0f02_11ea_a6fb_107b449f15fclevel0_row2\" class=\"row_heading level0 row2\" >божество</th>\n",
       "                        <td id=\"T_baf34283_0f02_11ea_a6fb_107b449f15fcrow2_col0\" class=\"data row2 col0\" >0.13298</td>\n",
       "            </tr>\n",
       "            <tr>\n",
       "                        <th id=\"T_baf34283_0f02_11ea_a6fb_107b449f15fclevel0_row3\" class=\"row_heading level0 row3\" >собака</th>\n",
       "                        <td id=\"T_baf34283_0f02_11ea_a6fb_107b449f15fcrow3_col0\" class=\"data row3 col0\" >0.12336</td>\n",
       "            </tr>\n",
       "            <tr>\n",
       "                        <th id=\"T_baf34283_0f02_11ea_a6fb_107b449f15fclevel0_row4\" class=\"row_heading level0 row4\" >сетевой</th>\n",
       "                        <td id=\"T_baf34283_0f02_11ea_a6fb_107b449f15fcrow4_col0\" class=\"data row4 col0\" >0.11111</td>\n",
       "            </tr>\n",
       "            <tr>\n",
       "                        <th id=\"T_baf34283_0f02_11ea_a6fb_107b449f15fclevel0_row5\" class=\"row_heading level0 row5\" >непрерывность</th>\n",
       "                        <td id=\"T_baf34283_0f02_11ea_a6fb_107b449f15fcrow5_col0\" class=\"data row5 col0\" >0.028</td>\n",
       "            </tr>\n",
       "            <tr>\n",
       "                        <th id=\"T_baf34283_0f02_11ea_a6fb_107b449f15fclevel0_row6\" class=\"row_heading level0 row6\" >wi</th>\n",
       "                        <td id=\"T_baf34283_0f02_11ea_a6fb_107b449f15fcrow6_col0\" class=\"data row6 col0\" >0.02712</td>\n",
       "            </tr>\n",
       "            <tr>\n",
       "                        <th id=\"T_baf34283_0f02_11ea_a6fb_107b449f15fclevel0_row7\" class=\"row_heading level0 row7\" >чили</th>\n",
       "                        <td id=\"T_baf34283_0f02_11ea_a6fb_107b449f15fcrow7_col0\" class=\"data row7 col0\" >0.02625</td>\n",
       "            </tr>\n",
       "            <tr>\n",
       "                        <th id=\"T_baf34283_0f02_11ea_a6fb_107b449f15fclevel0_row8\" class=\"row_heading level0 row8\" >academy</th>\n",
       "                        <td id=\"T_baf34283_0f02_11ea_a6fb_107b449f15fcrow8_col0\" class=\"data row8 col0\" >0.02362</td>\n",
       "            </tr>\n",
       "            <tr>\n",
       "                        <th id=\"T_baf34283_0f02_11ea_a6fb_107b449f15fclevel0_row9\" class=\"row_heading level0 row9\" >перерыв</th>\n",
       "                        <td id=\"T_baf34283_0f02_11ea_a6fb_107b449f15fcrow9_col0\" class=\"data row9 col0\" >0.02187</td>\n",
       "            </tr>\n",
       "    </tbody></table>"
      ]
     },
     "metadata": {},
     "output_type": "display_data"
    },
    {
     "data": {
      "text/html": [
       "<b> средний класс </b>"
      ]
     },
     "metadata": {},
     "output_type": "display_data"
    },
    {
     "data": {
      "text/html": [
       "<b> метод оценки эндотелиальной функции </b>"
      ]
     },
     "metadata": {},
     "output_type": "display_data"
    },
    {
     "data": {
      "text/html": [
       "<b> социальная структура </b>"
      ]
     },
     "metadata": {},
     "output_type": "display_data"
    },
    {
     "data": {
      "text/html": [
       "<b> социальная топология </b>"
      ]
     },
     "metadata": {},
     "output_type": "display_data"
    },
    {
     "data": {
      "text/html": [
       "<b> курс «теория принятия решенийматематические модели выбора» </b>"
      ]
     },
     "metadata": {},
     "output_type": "display_data"
    },
    {
     "data": {
      "text/html": [
       "<b> курс «психология творчествакак рождаются креативные решения» </b>"
      ]
     },
     "metadata": {},
     "output_type": "display_data"
    },
    {
     "data": {
      "text/html": [
       "<b> эндотелиальная клетка </b>"
      ]
     },
     "metadata": {},
     "output_type": "display_data"
    },
    {
     "data": {
      "text/html": [
       "<b> курс «основы молекулярной биологии» </b>"
      ]
     },
     "metadata": {},
     "output_type": "display_data"
    },
    {
     "data": {
      "text/html": [
       "<b> компьютерные доказательства </b>"
      ]
     },
     "metadata": {},
     "output_type": "display_data"
    },
    {
     "data": {
      "text/html": [
       "<b> статусы гуманитарной науки </b>"
      ]
     },
     "metadata": {},
     "output_type": "display_data"
    },
    {
     "data": {
      "text/html": [
       "<style  type=\"text/css\" >\n",
       "</style><table id=\"T_baf34284_0f02_11ea_a6fb_107b449f15fc\" style='display:inline'><thead>    <tr>        <th class=\"blank level0\" ></th>        <th class=\"col_heading level0 col0\" >topic_32 @2gramm</th>    </tr></thead><tbody>\n",
       "                <tr>\n",
       "                        <th id=\"T_baf34284_0f02_11ea_a6fb_107b449f15fclevel0_row0\" class=\"row_heading level0 row0\" >нейтронный_звезда</th>\n",
       "                        <td id=\"T_baf34284_0f02_11ea_a6fb_107b449f15fcrow0_col0\" class=\"data row0 col0\" >0.10693</td>\n",
       "            </tr>\n",
       "            <tr>\n",
       "                        <th id=\"T_baf34284_0f02_11ea_a6fb_107b449f15fclevel0_row1\" class=\"row_heading level0 row1\" >белый_карлик</th>\n",
       "                        <td id=\"T_baf34284_0f02_11ea_a6fb_107b449f15fcrow1_col0\" class=\"data row1 col0\" >0.02357</td>\n",
       "            </tr>\n",
       "            <tr>\n",
       "                        <th id=\"T_baf34284_0f02_11ea_a6fb_107b449f15fclevel0_row2\" class=\"row_heading level0 row2\" >белых_карлик</th>\n",
       "                        <td id=\"T_baf34284_0f02_11ea_a6fb_107b449f15fcrow2_col0\" class=\"data row2 col0\" >0.02325</td>\n",
       "            </tr>\n",
       "            <tr>\n",
       "                        <th id=\"T_baf34284_0f02_11ea_a6fb_107b449f15fclevel0_row3\" class=\"row_heading level0 row3\" >компактный_объект</th>\n",
       "                        <td id=\"T_baf34284_0f02_11ea_a6fb_107b449f15fcrow3_col0\" class=\"data row3 col0\" >0.01992</td>\n",
       "            </tr>\n",
       "            <tr>\n",
       "                        <th id=\"T_baf34284_0f02_11ea_a6fb_107b449f15fclevel0_row4\" class=\"row_heading level0 row4\" >белые_карлик</th>\n",
       "                        <td id=\"T_baf34284_0f02_11ea_a6fb_107b449f15fcrow4_col0\" class=\"data row4 col0\" >0.01408</td>\n",
       "            </tr>\n",
       "            <tr>\n",
       "                        <th id=\"T_baf34284_0f02_11ea_a6fb_107b449f15fclevel0_row5\" class=\"row_heading level0 row5\" >термоядерный_реакция</th>\n",
       "                        <td id=\"T_baf34284_0f02_11ea_a6fb_107b449f15fcrow5_col0\" class=\"data row5 col0\" >0.01191</td>\n",
       "            </tr>\n",
       "            <tr>\n",
       "                        <th id=\"T_baf34284_0f02_11ea_a6fb_107b449f15fclevel0_row6\" class=\"row_heading level0 row6\" >химический_элемент</th>\n",
       "                        <td id=\"T_baf34284_0f02_11ea_a6fb_107b449f15fcrow6_col0\" class=\"data row6 col0\" >0.00847</td>\n",
       "            </tr>\n",
       "            <tr>\n",
       "                        <th id=\"T_baf34284_0f02_11ea_a6fb_107b449f15fclevel0_row7\" class=\"row_heading level0 row7\" >кварковый_звезда</th>\n",
       "                        <td id=\"T_baf34284_0f02_11ea_a6fb_107b449f15fcrow7_col0\" class=\"data row7 col0\" >0.00756</td>\n",
       "            </tr>\n",
       "            <tr>\n",
       "                        <th id=\"T_baf34284_0f02_11ea_a6fb_107b449f15fclevel0_row8\" class=\"row_heading level0 row8\" >рентгеновский_луч</th>\n",
       "                        <td id=\"T_baf34284_0f02_11ea_a6fb_107b449f15fcrow8_col0\" class=\"data row8 col0\" >0.00748</td>\n",
       "            </tr>\n",
       "            <tr>\n",
       "                        <th id=\"T_baf34284_0f02_11ea_a6fb_107b449f15fclevel0_row9\" class=\"row_heading level0 row9\" >магнитный_поль</th>\n",
       "                        <td id=\"T_baf34284_0f02_11ea_a6fb_107b449f15fcrow9_col0\" class=\"data row9 col0\" >0.00729</td>\n",
       "            </tr>\n",
       "    </tbody></table><style  type=\"text/css\" >\n",
       "</style><table id=\"T_baf34285_0f02_11ea_a6fb_107b449f15fc\" style='display:inline'><thead>    <tr>        <th class=\"blank level0\" ></th>        <th class=\"col_heading level0 col0\" >topic_32 @word</th>    </tr></thead><tbody>\n",
       "                <tr>\n",
       "                        <th id=\"T_baf34285_0f02_11ea_a6fb_107b449f15fclevel0_row0\" class=\"row_heading level0 row0\" >излучение</th>\n",
       "                        <td id=\"T_baf34285_0f02_11ea_a6fb_107b449f15fcrow0_col0\" class=\"data row0 col0\" >0.17841</td>\n",
       "            </tr>\n",
       "            <tr>\n",
       "                        <th id=\"T_baf34285_0f02_11ea_a6fb_107b449f15fclevel0_row1\" class=\"row_heading level0 row1\" >плотность</th>\n",
       "                        <td id=\"T_baf34285_0f02_11ea_a6fb_107b449f15fcrow1_col0\" class=\"data row1 col0\" >0.13056</td>\n",
       "            </tr>\n",
       "            <tr>\n",
       "                        <th id=\"T_baf34285_0f02_11ea_a6fb_107b449f15fclevel0_row2\" class=\"row_heading level0 row2\" >секунда</th>\n",
       "                        <td id=\"T_baf34285_0f02_11ea_a6fb_107b449f15fcrow2_col0\" class=\"data row2 col0\" >0.10767</td>\n",
       "            </tr>\n",
       "            <tr>\n",
       "                        <th id=\"T_baf34285_0f02_11ea_a6fb_107b449f15fclevel0_row3\" class=\"row_heading level0 row3\" >фермент</th>\n",
       "                        <td id=\"T_baf34285_0f02_11ea_a6fb_107b449f15fcrow3_col0\" class=\"data row3 col0\" >0.10455</td>\n",
       "            </tr>\n",
       "            <tr>\n",
       "                        <th id=\"T_baf34285_0f02_11ea_a6fb_107b449f15fclevel0_row4\" class=\"row_heading level0 row4\" >старение</th>\n",
       "                        <td id=\"T_baf34285_0f02_11ea_a6fb_107b449f15fcrow4_col0\" class=\"data row4 col0\" >0.09519</td>\n",
       "            </tr>\n",
       "            <tr>\n",
       "                        <th id=\"T_baf34285_0f02_11ea_a6fb_107b449f15fclevel0_row5\" class=\"row_heading level0 row5\" >холодный</th>\n",
       "                        <td id=\"T_baf34285_0f02_11ea_a6fb_107b449f15fcrow5_col0\" class=\"data row5 col0\" >0.06242</td>\n",
       "            </tr>\n",
       "            <tr>\n",
       "                        <th id=\"T_baf34285_0f02_11ea_a6fb_107b449f15fclevel0_row6\" class=\"row_heading level0 row6\" >специализировать</th>\n",
       "                        <td id=\"T_baf34285_0f02_11ea_a6fb_107b449f15fcrow6_col0\" class=\"data row6 col0\" >0.02002</td>\n",
       "            </tr>\n",
       "            <tr>\n",
       "                        <th id=\"T_baf34285_0f02_11ea_a6fb_107b449f15fclevel0_row7\" class=\"row_heading level0 row7\" >конструктор</th>\n",
       "                        <td id=\"T_baf34285_0f02_11ea_a6fb_107b449f15fcrow7_col0\" class=\"data row7 col0\" >0.01608</td>\n",
       "            </tr>\n",
       "            <tr>\n",
       "                        <th id=\"T_baf34285_0f02_11ea_a6fb_107b449f15fclevel0_row8\" class=\"row_heading level0 row8\" >аномальный</th>\n",
       "                        <td id=\"T_baf34285_0f02_11ea_a6fb_107b449f15fcrow8_col0\" class=\"data row8 col0\" >0.013</td>\n",
       "            </tr>\n",
       "            <tr>\n",
       "                        <th id=\"T_baf34285_0f02_11ea_a6fb_107b449f15fclevel0_row9\" class=\"row_heading level0 row9\" >конус</th>\n",
       "                        <td id=\"T_baf34285_0f02_11ea_a6fb_107b449f15fcrow9_col0\" class=\"data row9 col0\" >0.013</td>\n",
       "            </tr>\n",
       "    </tbody></table>"
      ]
     },
     "metadata": {},
     "output_type": "display_data"
    },
    {
     "data": {
      "text/html": [
       "<b> пограничные слои вблизи компактных объектов </b>"
      ]
     },
     "metadata": {},
     "output_type": "display_data"
    },
    {
     "data": {
      "text/html": [
       "<b> рентгеновское небо </b>"
      ]
     },
     "metadata": {},
     "output_type": "display_data"
    },
    {
     "data": {
      "text/html": [
       "<b> великое объединение нейтронных звезд </b>"
      ]
     },
     "metadata": {},
     "output_type": "display_data"
    },
    {
     "data": {
      "text/html": [
       "<b> ударные волны вблизи компактных объектов </b>"
      ]
     },
     "metadata": {},
     "output_type": "display_data"
    },
    {
     "data": {
      "text/html": [
       "<b> компактные звезды </b>"
      ]
     },
     "metadata": {},
     "output_type": "display_data"
    },
    {
     "data": {
      "text/html": [
       "<b> эволюция нейтронных звезд </b>"
      ]
     },
     "metadata": {},
     "output_type": "display_data"
    },
    {
     "data": {
      "text/html": [
       "<b> физика атмосфер нейтронных звезд </b>"
      ]
     },
     "metadata": {},
     "output_type": "display_data"
    },
    {
     "data": {
      "text/html": [
       "<b> недра нейтронных звезд </b>"
      ]
     },
     "metadata": {},
     "output_type": "display_data"
    },
    {
     "data": {
      "text/html": [
       "<b> рентгеновская астрономия </b>"
      ]
     },
     "metadata": {},
     "output_type": "display_data"
    },
    {
     "data": {
      "text/html": [
       "<b> обнаружена самая яркая нейтронная звезда </b>"
      ]
     },
     "metadata": {},
     "output_type": "display_data"
    },
    {
     "data": {
      "text/html": [
       "<style  type=\"text/css\" >\n",
       "</style><table id=\"T_baf34286_0f02_11ea_a6fb_107b449f15fc\" style='display:inline'><thead>    <tr>        <th class=\"blank level0\" ></th>        <th class=\"col_heading level0 col0\" >topic_33 @2gramm</th>    </tr></thead><tbody>\n",
       "                <tr>\n",
       "                        <th id=\"T_baf34286_0f02_11ea_a6fb_107b449f15fclevel0_row0\" class=\"row_heading level0 row0\" >средний_век</th>\n",
       "                        <td id=\"T_baf34286_0f02_11ea_a6fb_107b449f15fcrow0_col0\" class=\"data row0 col0\" >0.0297</td>\n",
       "            </tr>\n",
       "            <tr>\n",
       "                        <th id=\"T_baf34286_0f02_11ea_a6fb_107b449f15fclevel0_row1\" class=\"row_heading level0 row1\" >политический_философия</th>\n",
       "                        <td id=\"T_baf34286_0f02_11ea_a6fb_107b449f15fcrow1_col0\" class=\"data row1 col0\" >0.02194</td>\n",
       "            </tr>\n",
       "            <tr>\n",
       "                        <th id=\"T_baf34286_0f02_11ea_a6fb_107b449f15fclevel0_row2\" class=\"row_heading level0 row2\" >xiii_век</th>\n",
       "                        <td id=\"T_baf34286_0f02_11ea_a6fb_107b449f15fcrow2_col0\" class=\"data row2 col0\" >0.02123</td>\n",
       "            </tr>\n",
       "            <tr>\n",
       "                        <th id=\"T_baf34286_0f02_11ea_a6fb_107b449f15fclevel0_row3\" class=\"row_heading level0 row3\" >xii_век</th>\n",
       "                        <td id=\"T_baf34286_0f02_11ea_a6fb_107b449f15fcrow3_col0\" class=\"data row3 col0\" >0.01853</td>\n",
       "            </tr>\n",
       "            <tr>\n",
       "                        <th id=\"T_baf34286_0f02_11ea_a6fb_107b449f15fclevel0_row4\" class=\"row_heading level0 row4\" >политический_теория</th>\n",
       "                        <td id=\"T_baf34286_0f02_11ea_a6fb_107b449f15fcrow4_col0\" class=\"data row4 col0\" >0.01259</td>\n",
       "            </tr>\n",
       "            <tr>\n",
       "                        <th id=\"T_baf34286_0f02_11ea_a6fb_107b449f15fclevel0_row5\" class=\"row_heading level0 row5\" >фома_аквинский</th>\n",
       "                        <td id=\"T_baf34286_0f02_11ea_a6fb_107b449f15fcrow5_col0\" class=\"data row5 col0\" >0.01042</td>\n",
       "            </tr>\n",
       "            <tr>\n",
       "                        <th id=\"T_baf34286_0f02_11ea_a6fb_107b449f15fclevel0_row6\" class=\"row_heading level0 row6\" >германский_язык</th>\n",
       "                        <td id=\"T_baf34286_0f02_11ea_a6fb_107b449f15fcrow6_col0\" class=\"data row6 col0\" >0.0104</td>\n",
       "            </tr>\n",
       "            <tr>\n",
       "                        <th id=\"T_baf34286_0f02_11ea_a6fb_107b449f15fclevel0_row7\" class=\"row_heading level0 row7\" >священный_писание</th>\n",
       "                        <td id=\"T_baf34286_0f02_11ea_a6fb_107b449f15fcrow7_col0\" class=\"data row7 col0\" >0.01007</td>\n",
       "            </tr>\n",
       "            <tr>\n",
       "                        <th id=\"T_baf34286_0f02_11ea_a6fb_107b449f15fclevel0_row8\" class=\"row_heading level0 row8\" >iii_век</th>\n",
       "                        <td id=\"T_baf34286_0f02_11ea_a6fb_107b449f15fcrow8_col0\" class=\"data row8 col0\" >0.01005</td>\n",
       "            </tr>\n",
       "            <tr>\n",
       "                        <th id=\"T_baf34286_0f02_11ea_a6fb_107b449f15fclevel0_row9\" class=\"row_heading level0 row9\" >политический_мысль</th>\n",
       "                        <td id=\"T_baf34286_0f02_11ea_a6fb_107b449f15fcrow9_col0\" class=\"data row9 col0\" >0.00942</td>\n",
       "            </tr>\n",
       "    </tbody></table><style  type=\"text/css\" >\n",
       "</style><table id=\"T_baf34287_0f02_11ea_a6fb_107b449f15fc\" style='display:inline'><thead>    <tr>        <th class=\"blank level0\" ></th>        <th class=\"col_heading level0 col0\" >topic_33 @word</th>    </tr></thead><tbody>\n",
       "                <tr>\n",
       "                        <th id=\"T_baf34287_0f02_11ea_a6fb_107b449f15fclevel0_row0\" class=\"row_heading level0 row0\" >неандерталец</th>\n",
       "                        <td id=\"T_baf34287_0f02_11ea_a6fb_107b449f15fcrow0_col0\" class=\"data row0 col0\" >0.05894</td>\n",
       "            </tr>\n",
       "            <tr>\n",
       "                        <th id=\"T_baf34287_0f02_11ea_a6fb_107b449f15fclevel0_row1\" class=\"row_heading level0 row1\" >государь</th>\n",
       "                        <td id=\"T_baf34287_0f02_11ea_a6fb_107b449f15fcrow1_col0\" class=\"data row1 col0\" >0.05863</td>\n",
       "            </tr>\n",
       "            <tr>\n",
       "                        <th id=\"T_baf34287_0f02_11ea_a6fb_107b449f15fclevel0_row2\" class=\"row_heading level0 row2\" >эра</th>\n",
       "                        <td id=\"T_baf34287_0f02_11ea_a6fb_107b449f15fcrow2_col0\" class=\"data row2 col0\" >0.05831</td>\n",
       "            </tr>\n",
       "            <tr>\n",
       "                        <th id=\"T_baf34287_0f02_11ea_a6fb_107b449f15fclevel0_row3\" class=\"row_heading level0 row3\" >корень</th>\n",
       "                        <td id=\"T_baf34287_0f02_11ea_a6fb_107b449f15fcrow3_col0\" class=\"data row3 col0\" >0.0567</td>\n",
       "            </tr>\n",
       "            <tr>\n",
       "                        <th id=\"T_baf34287_0f02_11ea_a6fb_107b449f15fclevel0_row4\" class=\"row_heading level0 row4\" >аналитический</th>\n",
       "                        <td id=\"T_baf34287_0f02_11ea_a6fb_107b449f15fcrow4_col0\" class=\"data row4 col0\" >0.05312</td>\n",
       "            </tr>\n",
       "            <tr>\n",
       "                        <th id=\"T_baf34287_0f02_11ea_a6fb_107b449f15fclevel0_row5\" class=\"row_heading level0 row5\" >одежда</th>\n",
       "                        <td id=\"T_baf34287_0f02_11ea_a6fb_107b449f15fcrow5_col0\" class=\"data row5 col0\" >0.05007</td>\n",
       "            </tr>\n",
       "            <tr>\n",
       "                        <th id=\"T_baf34287_0f02_11ea_a6fb_107b449f15fclevel0_row6\" class=\"row_heading level0 row6\" >заимствование</th>\n",
       "                        <td id=\"T_baf34287_0f02_11ea_a6fb_107b449f15fcrow6_col0\" class=\"data row6 col0\" >0.04785</td>\n",
       "            </tr>\n",
       "            <tr>\n",
       "                        <th id=\"T_baf34287_0f02_11ea_a6fb_107b449f15fclevel0_row7\" class=\"row_heading level0 row7\" >различение</th>\n",
       "                        <td id=\"T_baf34287_0f02_11ea_a6fb_107b449f15fcrow7_col0\" class=\"data row7 col0\" >0.04246</td>\n",
       "            </tr>\n",
       "            <tr>\n",
       "                        <th id=\"T_baf34287_0f02_11ea_a6fb_107b449f15fclevel0_row8\" class=\"row_heading level0 row8\" >мальчик</th>\n",
       "                        <td id=\"T_baf34287_0f02_11ea_a6fb_107b449f15fcrow8_col0\" class=\"data row8 col0\" >0.04151</td>\n",
       "            </tr>\n",
       "            <tr>\n",
       "                        <th id=\"T_baf34287_0f02_11ea_a6fb_107b449f15fclevel0_row9\" class=\"row_heading level0 row9\" >гражданство</th>\n",
       "                        <td id=\"T_baf34287_0f02_11ea_a6fb_107b449f15fcrow9_col0\" class=\"data row9 col0\" >0.04025</td>\n",
       "            </tr>\n",
       "    </tbody></table>"
      ]
     },
     "metadata": {},
     "output_type": "display_data"
    },
    {
     "data": {
      "text/html": [
       "<b> позитивная философия науки </b>"
      ]
     },
     "metadata": {},
     "output_type": "display_data"
    },
    {
     "data": {
      "text/html": [
       "<b> памятники классического периода истории древнего китая </b>"
      ]
     },
     "metadata": {},
     "output_type": "display_data"
    },
    {
     "data": {
      "text/html": [
       "<b> современная аналитическая философия </b>"
      ]
     },
     "metadata": {},
     "output_type": "display_data"
    },
    {
     "data": {
      "text/html": [
       "<b> политическая теория эмоций </b>"
      ]
     },
     "metadata": {},
     "output_type": "display_data"
    },
    {
     "data": {
      "text/html": [
       "<b> история политической мысли древнего мира и средних веков </b>"
      ]
     },
     "metadata": {},
     "output_type": "display_data"
    },
    {
     "data": {
      "text/html": [
       "<b> понятия власти в средневековой политической теории </b>"
      ]
     },
     "metadata": {},
     "output_type": "display_data"
    },
    {
     "data": {
      "text/html": [
       "<b> новейшая история египта </b>"
      ]
     },
     "metadata": {},
     "output_type": "display_data"
    },
    {
     "data": {
      "text/html": [
       "<b> молекулярные машины </b>"
      ]
     },
     "metadata": {},
     "output_type": "display_data"
    },
    {
     "data": {
      "text/html": [
       "<b> политическая мысль схоластики xii века </b>"
      ]
     },
     "metadata": {},
     "output_type": "display_data"
    },
    {
     "data": {
      "text/html": [
       "<b> средневековые ведовские процессы </b>"
      ]
     },
     "metadata": {},
     "output_type": "display_data"
    },
    {
     "data": {
      "text/html": [
       "<style  type=\"text/css\" >\n",
       "</style><table id=\"T_baf34288_0f02_11ea_a6fb_107b449f15fc\" style='display:inline'><thead>    <tr>        <th class=\"blank level0\" ></th>        <th class=\"col_heading level0 col0\" >topic_34 @2gramm</th>    </tr></thead><tbody>\n",
       "                <tr>\n",
       "                        <th id=\"T_baf34288_0f02_11ea_a6fb_107b449f15fclevel0_row0\" class=\"row_heading level0 row0\" >органический_химия</th>\n",
       "                        <td id=\"T_baf34288_0f02_11ea_a6fb_107b449f15fcrow0_col0\" class=\"data row0 col0\" >0.021</td>\n",
       "            </tr>\n",
       "            <tr>\n",
       "                        <th id=\"T_baf34288_0f02_11ea_a6fb_107b449f15fclevel0_row1\" class=\"row_heading level0 row1\" >новый_программа</th>\n",
       "                        <td id=\"T_baf34288_0f02_11ea_a6fb_107b449f15fcrow1_col0\" class=\"data row1 col0\" >0.01866</td>\n",
       "            </tr>\n",
       "            <tr>\n",
       "                        <th id=\"T_baf34288_0f02_11ea_a6fb_107b449f15fclevel0_row2\" class=\"row_heading level0 row2\" >магнитный_поль</th>\n",
       "                        <td id=\"T_baf34288_0f02_11ea_a6fb_107b449f15fcrow2_col0\" class=\"data row2 col0\" >0.01192</td>\n",
       "            </tr>\n",
       "            <tr>\n",
       "                        <th id=\"T_baf34288_0f02_11ea_a6fb_107b449f15fclevel0_row3\" class=\"row_heading level0 row3\" >метод_лечение</th>\n",
       "                        <td id=\"T_baf34288_0f02_11ea_a6fb_107b449f15fcrow3_col0\" class=\"data row3 col0\" >0.01055</td>\n",
       "            </tr>\n",
       "            <tr>\n",
       "                        <th id=\"T_baf34288_0f02_11ea_a6fb_107b449f15fclevel0_row4\" class=\"row_heading level0 row4\" >магнитный_пол</th>\n",
       "                        <td id=\"T_baf34288_0f02_11ea_a6fb_107b449f15fcrow4_col0\" class=\"data row4 col0\" >0.01021</td>\n",
       "            </tr>\n",
       "            <tr>\n",
       "                        <th id=\"T_baf34288_0f02_11ea_a6fb_107b449f15fclevel0_row5\" class=\"row_heading level0 row5\" >магнитный_момент</th>\n",
       "                        <td id=\"T_baf34288_0f02_11ea_a6fb_107b449f15fcrow5_col0\" class=\"data row5 col0\" >0.00973</td>\n",
       "            </tr>\n",
       "            <tr>\n",
       "                        <th id=\"T_baf34288_0f02_11ea_a6fb_107b449f15fclevel0_row6\" class=\"row_heading level0 row6\" >метод_ямр</th>\n",
       "                        <td id=\"T_baf34288_0f02_11ea_a6fb_107b449f15fcrow6_col0\" class=\"data row6 col0\" >0.00959</td>\n",
       "            </tr>\n",
       "            <tr>\n",
       "                        <th id=\"T_baf34288_0f02_11ea_a6fb_107b449f15fclevel0_row7\" class=\"row_heading level0 row7\" >следовать_ждать</th>\n",
       "                        <td id=\"T_baf34288_0f02_11ea_a6fb_107b449f15fcrow7_col0\" class=\"data row7 col0\" >0.00931</td>\n",
       "            </tr>\n",
       "            <tr>\n",
       "                        <th id=\"T_baf34288_0f02_11ea_a6fb_107b449f15fclevel0_row8\" class=\"row_heading level0 row8\" >научный_сообщество</th>\n",
       "                        <td id=\"T_baf34288_0f02_11ea_a6fb_107b449f15fcrow8_col0\" class=\"data row8 col0\" >0.00824</td>\n",
       "            </tr>\n",
       "            <tr>\n",
       "                        <th id=\"T_baf34288_0f02_11ea_a6fb_107b449f15fclevel0_row9\" class=\"row_heading level0 row9\" >магнитный_буря</th>\n",
       "                        <td id=\"T_baf34288_0f02_11ea_a6fb_107b449f15fcrow9_col0\" class=\"data row9 col0\" >0.00776</td>\n",
       "            </tr>\n",
       "    </tbody></table><style  type=\"text/css\" >\n",
       "</style><table id=\"T_baf34289_0f02_11ea_a6fb_107b449f15fc\" style='display:inline'><thead>    <tr>        <th class=\"blank level0\" ></th>        <th class=\"col_heading level0 col0\" >topic_34 @word</th>    </tr></thead><tbody>\n",
       "                <tr>\n",
       "                        <th id=\"T_baf34289_0f02_11ea_a6fb_107b449f15fclevel0_row0\" class=\"row_heading level0 row0\" >боль</th>\n",
       "                        <td id=\"T_baf34289_0f02_11ea_a6fb_107b449f15fcrow0_col0\" class=\"data row0 col0\" >0.26858</td>\n",
       "            </tr>\n",
       "            <tr>\n",
       "                        <th id=\"T_baf34289_0f02_11ea_a6fb_107b449f15fclevel0_row1\" class=\"row_heading level0 row1\" >профессия</th>\n",
       "                        <td id=\"T_baf34289_0f02_11ea_a6fb_107b449f15fcrow1_col0\" class=\"data row1 col0\" >0.26597</td>\n",
       "            </tr>\n",
       "            <tr>\n",
       "                        <th id=\"T_baf34289_0f02_11ea_a6fb_107b449f15fclevel0_row2\" class=\"row_heading level0 row2\" >японец</th>\n",
       "                        <td id=\"T_baf34289_0f02_11ea_a6fb_107b449f15fcrow2_col0\" class=\"data row2 col0\" >0.20469</td>\n",
       "            </tr>\n",
       "            <tr>\n",
       "                        <th id=\"T_baf34289_0f02_11ea_a6fb_107b449f15fclevel0_row3\" class=\"row_heading level0 row3\" >тратиться</th>\n",
       "                        <td id=\"T_baf34289_0f02_11ea_a6fb_107b449f15fcrow3_col0\" class=\"data row3 col0\" >0.04172</td>\n",
       "            </tr>\n",
       "            <tr>\n",
       "                        <th id=\"T_baf34289_0f02_11ea_a6fb_107b449f15fclevel0_row4\" class=\"row_heading level0 row4\" >островок</th>\n",
       "                        <td id=\"T_baf34289_0f02_11ea_a6fb_107b449f15fcrow4_col0\" class=\"data row4 col0\" >0.03911</td>\n",
       "            </tr>\n",
       "            <tr>\n",
       "                        <th id=\"T_baf34289_0f02_11ea_a6fb_107b449f15fclevel0_row5\" class=\"row_heading level0 row5\" >болевой</th>\n",
       "                        <td id=\"T_baf34289_0f02_11ea_a6fb_107b449f15fcrow5_col0\" class=\"data row5 col0\" >0.0339</td>\n",
       "            </tr>\n",
       "            <tr>\n",
       "                        <th id=\"T_baf34289_0f02_11ea_a6fb_107b449f15fclevel0_row6\" class=\"row_heading level0 row6\" >жилой</th>\n",
       "                        <td id=\"T_baf34289_0f02_11ea_a6fb_107b449f15fcrow6_col0\" class=\"data row6 col0\" >0.03129</td>\n",
       "            </tr>\n",
       "            <tr>\n",
       "                        <th id=\"T_baf34289_0f02_11ea_a6fb_107b449f15fclevel0_row7\" class=\"row_heading level0 row7\" >обезболивать</th>\n",
       "                        <td id=\"T_baf34289_0f02_11ea_a6fb_107b449f15fcrow7_col0\" class=\"data row7 col0\" >0.02999</td>\n",
       "            </tr>\n",
       "            <tr>\n",
       "                        <th id=\"T_baf34289_0f02_11ea_a6fb_107b449f15fclevel0_row8\" class=\"row_heading level0 row8\" >борода</th>\n",
       "                        <td id=\"T_baf34289_0f02_11ea_a6fb_107b449f15fcrow8_col0\" class=\"data row8 col0\" >0.02999</td>\n",
       "            </tr>\n",
       "            <tr>\n",
       "                        <th id=\"T_baf34289_0f02_11ea_a6fb_107b449f15fclevel0_row9\" class=\"row_heading level0 row9\" >ролик</th>\n",
       "                        <td id=\"T_baf34289_0f02_11ea_a6fb_107b449f15fcrow9_col0\" class=\"data row9 col0\" >0.02999</td>\n",
       "            </tr>\n",
       "    </tbody></table>"
      ]
     },
     "metadata": {},
     "output_type": "display_data"
    },
    {
     "data": {
      "text/html": [
       "<b> космическая погода </b>"
      ]
     },
     "metadata": {},
     "output_type": "display_data"
    },
    {
     "data": {
      "text/html": [
       "<b> перспективыдоказательная медицина </b>"
      ]
     },
     "metadata": {},
     "output_type": "display_data"
    },
    {
     "data": {
      "text/html": [
       "<b> перспективыфилософия массовой культуры </b>"
      ]
     },
     "metadata": {},
     "output_type": "display_data"
    },
    {
     "data": {
      "text/html": [
       "<b> перспективысоциология академической жизни </b>"
      ]
     },
     "metadata": {},
     "output_type": "display_data"
    },
    {
     "data": {
      "text/html": [
       "<b> гелиосейсмология </b>"
      ]
     },
     "metadata": {},
     "output_type": "display_data"
    },
    {
     "data": {
      "text/html": [
       "<b> мертвые языки </b>"
      ]
     },
     "metadata": {},
     "output_type": "display_data"
    },
    {
     "data": {
      "text/html": [
       "<b> перспективыбыть астрофизиком </b>"
      ]
     },
     "metadata": {},
     "output_type": "display_data"
    },
    {
     "data": {
      "text/html": [
       "<b> перспективыфеномен фэнтези </b>"
      ]
     },
     "metadata": {},
     "output_type": "display_data"
    },
    {
     "data": {
      "text/html": [
       "<b> перспективыфизика на коллайдерах </b>"
      ]
     },
     "metadata": {},
     "output_type": "display_data"
    },
    {
     "data": {
      "text/html": [
       "<b> магнитные наночастицы </b>"
      ]
     },
     "metadata": {},
     "output_type": "display_data"
    },
    {
     "data": {
      "text/html": [
       "<style  type=\"text/css\" >\n",
       "</style><table id=\"T_baf3428a_0f02_11ea_a6fb_107b449f15fc\" style='display:inline'><thead>    <tr>        <th class=\"blank level0\" ></th>        <th class=\"col_heading level0 col0\" >bcg_35 @2gramm</th>    </tr></thead><tbody>\n",
       "                <tr>\n",
       "                        <th id=\"T_baf3428a_0f02_11ea_a6fb_107b449f15fclevel0_row0\" class=\"row_heading level0 row0\" >речь_идти</th>\n",
       "                        <td id=\"T_baf3428a_0f02_11ea_a6fb_107b449f15fcrow0_col0\" class=\"data row0 col0\" >0.0075</td>\n",
       "            </tr>\n",
       "            <tr>\n",
       "                        <th id=\"T_baf3428a_0f02_11ea_a6fb_107b449f15fclevel0_row1\" class=\"row_heading level0 row1\" >крайний_мера</th>\n",
       "                        <td id=\"T_baf3428a_0f02_11ea_a6fb_107b449f15fcrow1_col0\" class=\"data row1 col0\" >0.00661</td>\n",
       "            </tr>\n",
       "            <tr>\n",
       "                        <th id=\"T_baf3428a_0f02_11ea_a6fb_107b449f15fclevel0_row2\" class=\"row_heading level0 row2\" >xx_век</th>\n",
       "                        <td id=\"T_baf3428a_0f02_11ea_a6fb_107b449f15fcrow2_col0\" class=\"data row2 col0\" >0.00623</td>\n",
       "            </tr>\n",
       "            <tr>\n",
       "                        <th id=\"T_baf3428a_0f02_11ea_a6fb_107b449f15fclevel0_row3\" class=\"row_heading level0 row3\" >xix_век</th>\n",
       "                        <td id=\"T_baf3428a_0f02_11ea_a6fb_107b449f15fcrow3_col0\" class=\"data row3 col0\" >0.00622</td>\n",
       "            </tr>\n",
       "            <tr>\n",
       "                        <th id=\"T_baf3428a_0f02_11ea_a6fb_107b449f15fclevel0_row4\" class=\"row_heading level0 row4\" >дать_случай</th>\n",
       "                        <td id=\"T_baf3428a_0f02_11ea_a6fb_107b449f15fcrow4_col0\" class=\"data row4 col0\" >0.00586</td>\n",
       "            </tr>\n",
       "            <tr>\n",
       "                        <th id=\"T_baf3428a_0f02_11ea_a6fb_107b449f15fclevel0_row5\" class=\"row_heading level0 row5\" >мировой_война</th>\n",
       "                        <td id=\"T_baf3428a_0f02_11ea_a6fb_107b449f15fcrow5_col0\" class=\"data row5 col0\" >0.00509</td>\n",
       "            </tr>\n",
       "            <tr>\n",
       "                        <th id=\"T_baf3428a_0f02_11ea_a6fb_107b449f15fclevel0_row6\" class=\"row_heading level0 row6\" >большой_количество</th>\n",
       "                        <td id=\"T_baf3428a_0f02_11ea_a6fb_107b449f15fcrow6_col0\" class=\"data row6 col0\" >0.0049</td>\n",
       "            </tr>\n",
       "            <tr>\n",
       "                        <th id=\"T_baf3428a_0f02_11ea_a6fb_107b449f15fclevel0_row7\" class=\"row_heading level0 row7\" >огромный_количество</th>\n",
       "                        <td id=\"T_baf3428a_0f02_11ea_a6fb_107b449f15fcrow7_col0\" class=\"data row7 col0\" >0.00468</td>\n",
       "            </tr>\n",
       "            <tr>\n",
       "                        <th id=\"T_baf3428a_0f02_11ea_a6fb_107b449f15fclevel0_row8\" class=\"row_heading level0 row8\" >друг_друг</th>\n",
       "                        <td id=\"T_baf3428a_0f02_11ea_a6fb_107b449f15fcrow8_col0\" class=\"data row8 col0\" >0.00422</td>\n",
       "            </tr>\n",
       "            <tr>\n",
       "                        <th id=\"T_baf3428a_0f02_11ea_a6fb_107b449f15fclevel0_row9\" class=\"row_heading level0 row9\" >конец_конец</th>\n",
       "                        <td id=\"T_baf3428a_0f02_11ea_a6fb_107b449f15fcrow9_col0\" class=\"data row9 col0\" >0.00407</td>\n",
       "            </tr>\n",
       "    </tbody></table><style  type=\"text/css\" >\n",
       "</style><table id=\"T_baf3428b_0f02_11ea_a6fb_107b449f15fc\" style='display:inline'><thead>    <tr>        <th class=\"blank level0\" ></th>        <th class=\"col_heading level0 col0\" >bcg_35 @word</th>    </tr></thead><tbody>\n",
       "                <tr>\n",
       "                        <th id=\"T_baf3428b_0f02_11ea_a6fb_107b449f15fclevel0_row0\" class=\"row_heading level0 row0\" >говорить</th>\n",
       "                        <td id=\"T_baf3428b_0f02_11ea_a6fb_107b449f15fcrow0_col0\" class=\"data row0 col0\" >0.00312</td>\n",
       "            </tr>\n",
       "            <tr>\n",
       "                        <th id=\"T_baf3428b_0f02_11ea_a6fb_107b449f15fclevel0_row1\" class=\"row_heading level0 row1\" >являться</th>\n",
       "                        <td id=\"T_baf3428b_0f02_11ea_a6fb_107b449f15fcrow1_col0\" class=\"data row1 col0\" >0.00295</td>\n",
       "            </tr>\n",
       "            <tr>\n",
       "                        <th id=\"T_baf3428b_0f02_11ea_a6fb_107b449f15fclevel0_row2\" class=\"row_heading level0 row2\" >большой</th>\n",
       "                        <td id=\"T_baf3428b_0f02_11ea_a6fb_107b449f15fcrow2_col0\" class=\"data row2 col0\" >0.00286</td>\n",
       "            </tr>\n",
       "            <tr>\n",
       "                        <th id=\"T_baf3428b_0f02_11ea_a6fb_107b449f15fclevel0_row3\" class=\"row_heading level0 row3\" >язык</th>\n",
       "                        <td id=\"T_baf3428b_0f02_11ea_a6fb_107b449f15fcrow3_col0\" class=\"data row3 col0\" >0.00274</td>\n",
       "            </tr>\n",
       "            <tr>\n",
       "                        <th id=\"T_baf3428b_0f02_11ea_a6fb_107b449f15fclevel0_row4\" class=\"row_heading level0 row4\" >должный</th>\n",
       "                        <td id=\"T_baf3428b_0f02_11ea_a6fb_107b449f15fcrow4_col0\" class=\"data row4 col0\" >0.00261</td>\n",
       "            </tr>\n",
       "            <tr>\n",
       "                        <th id=\"T_baf3428b_0f02_11ea_a6fb_107b449f15fclevel0_row5\" class=\"row_heading level0 row5\" >образ</th>\n",
       "                        <td id=\"T_baf3428b_0f02_11ea_a6fb_107b449f15fcrow5_col0\" class=\"data row5 col0\" >0.00259</td>\n",
       "            </tr>\n",
       "            <tr>\n",
       "                        <th id=\"T_baf3428b_0f02_11ea_a6fb_107b449f15fclevel0_row6\" class=\"row_heading level0 row6\" >существовать</th>\n",
       "                        <td id=\"T_baf3428b_0f02_11ea_a6fb_107b449f15fcrow6_col0\" class=\"data row6 col0\" >0.00249</td>\n",
       "            </tr>\n",
       "            <tr>\n",
       "                        <th id=\"T_baf3428b_0f02_11ea_a6fb_107b449f15fclevel0_row7\" class=\"row_heading level0 row7\" >стать</th>\n",
       "                        <td id=\"T_baf3428b_0f02_11ea_a6fb_107b449f15fcrow7_col0\" class=\"data row7 col0\" >0.0024</td>\n",
       "            </tr>\n",
       "            <tr>\n",
       "                        <th id=\"T_baf3428b_0f02_11ea_a6fb_107b449f15fclevel0_row8\" class=\"row_heading level0 row8\" >работа</th>\n",
       "                        <td id=\"T_baf3428b_0f02_11ea_a6fb_107b449f15fcrow8_col0\" class=\"data row8 col0\" >0.00237</td>\n",
       "            </tr>\n",
       "            <tr>\n",
       "                        <th id=\"T_baf3428b_0f02_11ea_a6fb_107b449f15fclevel0_row9\" class=\"row_heading level0 row9\" >книга</th>\n",
       "                        <td id=\"T_baf3428b_0f02_11ea_a6fb_107b449f15fcrow9_col0\" class=\"data row9 col0\" >0.00233</td>\n",
       "            </tr>\n",
       "    </tbody></table>"
      ]
     },
     "metadata": {},
     "output_type": "display_data"
    },
    {
     "data": {
      "text/html": [
       "<b> борьба эллинофилов и мизэллинов </b>"
      ]
     },
     "metadata": {},
     "output_type": "display_data"
    },
    {
     "data": {
      "text/html": [
       "<b> алмазное правило этики </b>"
      ]
     },
     "metadata": {},
     "output_type": "display_data"
    },
    {
     "data": {
      "text/html": [
       "<b> фальсификация экспертности </b>"
      ]
     },
     "metadata": {},
     "output_type": "display_data"
    },
    {
     "data": {
      "text/html": [
       "<b> главы #болезни и смертность </b>"
      ]
     },
     "metadata": {},
     "output_type": "display_data"
    },
    {
     "data": {
      "text/html": [
       "<b> теория речевых актов </b>"
      ]
     },
     "metadata": {},
     "output_type": "display_data"
    },
    {
     "data": {
      "text/html": [
       "<b> инвазионная биология </b>"
      ]
     },
     "metadata": {},
     "output_type": "display_data"
    },
    {
     "data": {
      "text/html": [
       "<b> модель квазивидов </b>"
      ]
     },
     "metadata": {},
     "output_type": "display_data"
    },
    {
     "data": {
      "text/html": [
       "<b> исследовательские программы в экологии </b>"
      ]
     },
     "metadata": {},
     "output_type": "display_data"
    },
    {
     "data": {
      "text/html": [
       "<b> гипотеза лингвистической относительности </b>"
      ]
     },
     "metadata": {},
     "output_type": "display_data"
    },
    {
     "data": {
      "text/html": [
       "<b> экономика обмана </b>"
      ]
     },
     "metadata": {},
     "output_type": "display_data"
    }
   ],
   "source": [
    "n=7\n",
    "for line, topic_docs in list(zip(first_model_html, first_model_top_doc))[-n:]:\n",
    "    display_html(line, raw=True)\n",
    "    for doc_id in topic_docs:\n",
    "        doc_vw = demo_data.get_vw_document(doc_id).values[0][0]\n",
    "        doc_title = get_modality_vw(doc_vw, \"@title\")\n",
    "        doc_snippet = get_modality_vw(doc_vw, \"@snippet\")\n",
    "        display_html(f\"<b>{doc_title}</b>\", raw=True)"
   ]
  },
  {
   "cell_type": "code",
   "execution_count": 17,
   "metadata": {},
   "outputs": [
    {
     "name": "stdout",
     "output_type": "stream",
     "text": [
      "2857.txt\n"
     ]
    }
   ],
   "source": [
    "print(doc_id)"
   ]
  },
  {
   "cell_type": "code",
   "execution_count": 18,
   "metadata": {},
   "outputs": [],
   "source": [
    "from topicnet.viewers import TopSimilarDocumentsViewer"
   ]
  },
  {
   "cell_type": "code",
   "execution_count": 19,
   "metadata": {},
   "outputs": [],
   "source": [
    "tsdv = TopSimilarDocumentsViewer(best_model, dataset)"
   ]
  },
  {
   "cell_type": "code",
   "execution_count": 31,
   "metadata": {},
   "outputs": [
    {
     "name": "stdout",
     "output_type": "stream",
     "text": [
      "['@title Геоморфология | @snippet Географ Андрей Лукашов о датировке рельефа, динамической геоморфологии и угрозе землетрясений\\n']\n"
     ]
    },
    {
     "data": {
      "text/html": [
       "<b>2504.txt</b><br />@title Строение языка | @snippet Лингвист Ноам Хомский о синтаксисе естественных языков и принципах человеческого мышления, сходных со свойствами снежинки\n"
      ]
     },
     "metadata": {},
     "output_type": "display_data"
    },
    {
     "data": {
      "text/html": [
       "<b>463.txt</b><br />@title Полевая лингвистика | @snippet Лингвист Владимир Плунгян о практике полевых экспедиций, многообразии человеческих языков и двух типах лингвистов\n"
      ]
     },
     "metadata": {},
     "output_type": "display_data"
    },
    {
     "data": {
      "text/html": [
       "<b>2316.txt</b><br />@title Прикладная лингвистика | @snippet Лингвист Анатолий Баранов о грамматической теории Зализняка, программах проверки орфографии и упрощении языка законов\n"
      ]
     },
     "metadata": {},
     "output_type": "display_data"
    },
    {
     "data": {
      "text/html": [
       "<b>195.txt</b><br />@title Частоты значений слов | @snippet Лингвист Анастасия Лопухина о «Случае с Оливером», частотных словарях русского языка и способах подсчета частоты значения слова\n"
      ]
     },
     "metadata": {},
     "output_type": "display_data"
    },
    {
     "data": {
      "text/html": [
       "<b>1619.txt</b><br />@title ScienceHub #08: Нейроинтерфейсы | @snippet Психофизиолог Александр Каплан о расшифровке активности мозга, его содержании и взаимодействии между мозгом и внешним устройством\n"
      ]
     },
     "metadata": {},
     "output_type": "display_data"
    },
    {
     "data": {
      "text/html": [
       "<b>521.txt</b><br />@title FAQ: Технология мысли | @snippet 5 фактов о строении мозга человека, принципах его работы  и уникальных функциях\n"
      ]
     },
     "metadata": {},
     "output_type": "display_data"
    },
    {
     "data": {
      "text/html": [
       "<b>1941.txt</b><br />@title Что такое «китайская комната»? | @snippet Философ Дмитрий Иванов о ментальных состояниях, аргументе Джона Сёрла против функционализма и сильном искусственном интеллекте\n"
      ]
     },
     "metadata": {},
     "output_type": "display_data"
    },
    {
     "data": {
      "text/html": [
       "<b>989.txt</b><br />@title FAQ: Нейрокоммуникаторы | @snippet 7 фактов о новой модели коммуникации между человеком и средой\n"
      ]
     },
     "metadata": {},
     "output_type": "display_data"
    },
    {
     "data": {
      "text/html": [
       "<b>3117.txt</b><br />@title Экспериментальная лингвистика | @snippet Лингвист Мария Полински о поведенческих подходах, обобщающих местоимениях и гендерных аспектах в различных языках\n"
      ]
     },
     "metadata": {},
     "output_type": "display_data"
    },
    {
     "data": {
      "text/html": [
       "<b>552.txt</b><br />@title Компьютерные корпуса устной речи | @snippet Лингвист Вера Подлесская о компьютерных анализаторах речи, устной коммуникации и бесписьменных языках\n"
      ]
     },
     "metadata": {},
     "output_type": "display_data"
    }
   ],
   "source": [
    "search_doc = '174.txt'\n",
    "print(dataset.get_source_document(search_doc)['raw_text'].values)\n",
    "sim_docs, scores = tsdv.view(\n",
    "    search_doc,\n",
    "    metric='euclidean',\n",
    "    num_top_similar=10)\n",
    "for doc_id in sim_docs:\n",
    "    document = dataset.get_source_document(doc_id)\n",
    "    doc_title = document.index.values[0]\n",
    "    doc_snippet = '.'.join(document['raw_text'].values[0].split('.')[:3])\n",
    "    display_html(f\"<b>{doc_title}</b><br />{doc_snippet}\", raw=True)"
   ]
  },
  {
   "cell_type": "code",
   "execution_count": null,
   "metadata": {},
   "outputs": [],
   "source": []
  }
 ],
 "metadata": {
  "kernelspec": {
   "display_name": "Python [conda env:root] *",
   "language": "python",
   "name": "conda-root-py"
  },
  "language_info": {
   "codemirror_mode": {
    "name": "ipython",
    "version": 3
   },
   "file_extension": ".py",
   "mimetype": "text/x-python",
   "name": "python",
   "nbconvert_exporter": "python",
   "pygments_lexer": "ipython3",
   "version": "3.6.9"
  }
 },
 "nbformat": 4,
 "nbformat_minor": 2
}
