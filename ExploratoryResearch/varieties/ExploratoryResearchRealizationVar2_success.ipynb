{
 "cells": [
  {
   "cell_type": "code",
   "execution_count": 1,
   "metadata": {},
   "outputs": [],
   "source": [
    "import numpy as np\n",
    "import pandas as pd\n",
    "import matplotlib.pyplot as plt\n",
    "%matplotlib inline\n",
    "import os\n",
    "import time\n",
    "import artm\n",
    "\n",
    "# change log style\n",
    "lc = artm.messages.ConfigureLoggingArgs()\n",
    "lc.minloglevel = 3\n",
    "lib = artm.wrapper.LibArtm(logging_config=lc)\n",
    "\n",
    "import warnings\n",
    "warnings.filterwarnings(\"ignore\", category=DeprecationWarning)"
   ]
  },
  {
   "cell_type": "code",
   "execution_count": 2,
   "metadata": {},
   "outputs": [
    {
     "data": {
      "text/html": [
       "<style>\n",
       "    div.output_html {\n",
       "        white-space: nowrap;\n",
       "    }\n",
       "    div .output_subarea > pre {\n",
       "        white-space: pre;\n",
       "        word-wrap: normal;\n",
       "    }\n",
       "    div .output_stdout > pre {\n",
       "        white-space: pre-wrap !important;\n",
       "        word-wrap:  break-word !important;\n",
       "    }\n",
       "    </style>"
      ],
      "text/plain": [
       "<IPython.core.display.HTML object>"
      ]
     },
     "metadata": {},
     "output_type": "display_data"
    }
   ],
   "source": [
    "from copy import deepcopy\n",
    "from topicnet.cooking_machine.models.topic_model import TopicModel\n",
    "from topicnet.cooking_machine.cubes import RegularizersModifierCube\n",
    "from topicnet.cooking_machine.config_parser import build_experiment_environment_from_yaml_config\n",
    "from topicnet.cooking_machine.experiment import Experiment\n",
    "from topicnet.cooking_machine.cubes import *\n",
    "from topicnet.cooking_machine.dataset import Dataset\n",
    "from topicnet.cooking_machine.pretty_output import make_notebook_pretty\n",
    "make_notebook_pretty()"
   ]
  },
  {
   "cell_type": "code",
   "execution_count": 3,
   "metadata": {},
   "outputs": [],
   "source": [
    "import topicnet.cooking_machine.cubes as tncubes"
   ]
  },
  {
   "cell_type": "code",
   "execution_count": 4,
   "metadata": {},
   "outputs": [
    {
     "data": {
      "text/html": [
       "<style>\n",
       ".container { width:90% !important; }\n",
       "div.output_scroll .output_subarea { white-space: pre; }\n",
       "</style>"
      ],
      "text/plain": [
       "<IPython.core.display.HTML object>"
      ]
     },
     "metadata": {},
     "output_type": "display_data"
    }
   ],
   "source": [
    "from IPython.core.display import display, HTML\n",
    "from IPython.display import clear_output, display_html\n",
    "display(HTML(\"\"\"<style>\n",
    ".container { width:90% !important; }\n",
    "div.output_scroll .output_subarea { white-space: pre; }\n",
    "</style>\"\"\"))"
   ]
  },
  {
   "cell_type": "markdown",
   "metadata": {},
   "source": [
    "### Make initial model"
   ]
  },
  {
   "cell_type": "code",
   "execution_count": 5,
   "metadata": {},
   "outputs": [
    {
     "name": "stdout",
     "output_type": "stream",
     "text": [
      "# This config follows a strategy described in the article\n",
      "# Multi-objective Topic Modeling for Exploratory Search in Tech News\n",
      "# by Anastasya Yanina, Lev Golitsyn and Konstantin Vorontsov, Jan 2018\n",
      "\n",
      "\n",
      "# Use .format(modality=modality, dataset_path=dataset_path,\n",
      "# specific_topics=specific_topics, background_topics=background_topics)\n",
      "# when loading the recipe to adjust for your dataset\n",
      "\n",
      "topics:\n",
      "# Describes number of model topics, in the actuall article 200 topics were found to be optimal\n",
      "    specific_topics: ['topic_0', 'topic_1', 'topic_2', 'topic_3', 'topic_4', 'topic_5', 'topic_6', 'topic_7', 'topic_8', 'topic_9', 'topic_10', 'topic_11', 'topic_12', 'topic_13', 'topic_14', 'topic_15', 'topic_16', 'topic_17', 'topic_18', 'topic_19', 'topic_20', 'topic_21', 'topic_22', 'topic_23', 'topic_24', 'topic_25', 'topic_26', 'topic_27', 'topic_28', 'topic_29', 'topic_30', 'topic_31', 'topic_32', 'topic_33', 'topic_34']\n",
      "    background_topics: ['bcg_35']\n",
      "\n",
      "regularizers:\n",
      "- DecorrelatorPhiRegularizer:\n",
      "    name: decorrelation_phi_@word\n",
      "    topic_names: specific_topics\n",
      "    tau: 0\n",
      "    class_ids: ['@word']\n",
      "- SmoothSparseThetaRegularizer:\n",
      "    name: sparse_theta\n",
      "    topic_names: specific_topics\n",
      "    tau: 0\n",
      "- SmoothSparsePhiRegularizer:\n",
      "    name: smooth_phi_@word\n",
      "    topic_names: specific_topics\n",
      "    tau: 0\n",
      "    class_ids: ['@word']\n",
      "- DecorrelatorPhiRegularizer:\n",
      "    name: decorrelation_phi_@post_tag\n",
      "    topic_names: specific_topics\n",
      "    tau: 0\n",
      "    class_ids: ['@post_tag']\n",
      "- SmoothSparseThetaRegularizer:\n",
      "    name: sparse_theta\n",
      "    topic_names: specific_topics\n",
      "    tau: 0\n",
      "- SmoothSparsePhiRegularizer:\n",
      "    name: smooth_phi_@post_tag\n",
      "    topic_names: specific_topics\n",
      "    tau: 0\n",
      "    class_ids: ['@post_tag']\n",
      "\n",
      "model: \n",
      "    dataset_path: /home/sultan/datasets/PScience/PScience.csv\n",
      "    modalities_to_use: ['@word', '@post_tag']\n",
      "    main_modality: '@word'\n",
      "\n",
      "stages:\n",
      "# repeat the following two cubes for every modality in the dataset\n",
      "- RegularizersModifierCube:\n",
      "    num_iter: 8\n",
      "    reg_search: mul\n",
      "    regularizer_parameters:\n",
      "        name: decorrelation_phi_@word\n",
      "    selection:\n",
      "        - SparsityPhiScore@word > 0.8 * MAXIMUM(SparsityPhiScore@word) and PerplexityScore@word -> min\n",
      "    strategy: PerplexityStrategy\n",
      "    strategy_params:\n",
      "        start_point: 100000\n",
      "        step: 10\n",
      "        max_len: 6\n",
      "    tracked_score_function: PerplexityScore@word\n",
      "    verbose: false\n",
      "    use_relative_coefficients: false\n",
      "- RegularizersModifierCube:\n",
      "    num_iter: 8\n",
      "    reg_search: mul\n",
      "    regularizer_parameters:\n",
      "        name: decorrelation_phi_@post_tag\n",
      "    selection:\n",
      "        - SparsityPhiScore@post_tag > 0.8 * MAXIMUM(SparsityPhiScore@post_tag) and PerplexityScore@post_tag -> min\n",
      "    strategy: PerplexityStrategy\n",
      "    strategy_params:\n",
      "        start_point: 100000\n",
      "        step: 10\n",
      "        max_len: 6\n",
      "    tracked_score_function: PerplexityScore@post_tag\n",
      "    verbose: false\n",
      "    use_relative_coefficients: false\n",
      "- RegularizersModifierCube:\n",
      "    num_iter: 8\n",
      "    reg_search: add\n",
      "    regularizer_parameters:\n",
      "        name: sparse_theta\n",
      "    selection:\n",
      "        - SparsityPhiScore@word > 0.8 * MAXIMUM(SparsityPhiScore@word) and PerplexityScore@all -> min\n",
      "    strategy: PerplexityStrategy\n",
      "    strategy_params:\n",
      "        start_point: -0.5\n",
      "        step: -0.5\n",
      "        max_len: 6\n",
      "    tracked_score_function: PerplexityScore@all\n",
      "    verbose: false\n",
      "    use_relative_coefficients: false\n",
      "- RegularizersModifierCube:\n",
      "    num_iter: 8\n",
      "    reg_search: add\n",
      "    regularizer_parameters:\n",
      "        name: smooth_phi_@word\n",
      "    selection:\n",
      "        - SparsityPhiScore@word > 0.8 * MAXIMUM(SparsityPhiScore@word) and PerplexityScore@word -> min\n",
      "    strategy: PerplexityStrategy\n",
      "    strategy_params:\n",
      "        start_point: 0.25\n",
      "        step: 0.25\n",
      "        max_len: 6\n",
      "    tracked_score_function: PerplexityScore@word\n",
      "    verbose: false\n",
      "    use_relative_coefficients: false\n",
      "- RegularizersModifierCube:\n",
      "    num_iter: 8\n",
      "    reg_search: add\n",
      "    regularizer_parameters:\n",
      "        name: smooth_phi_@post_tag\n",
      "    selection:\n",
      "        - SparsityPhiScore@post_tag > 0.8 * MAXIMUM(SparsityPhiScore@post_tag) and PerplexityScore@post_tag -> min\n",
      "    strategy: PerplexityStrategy\n",
      "    strategy_params:\n",
      "        start_point: 0.25\n",
      "        step: 0.25\n",
      "        max_len: 6\n",
      "    tracked_score_function: PerplexityScore@post_tag\n",
      "    verbose: false\n",
      "    use_relative_coefficients: false\n"
     ]
    }
   ],
   "source": [
    "with open(\"/home/sultan/recipes/exploratory_search-variant2_success.yml\", \"r\") as f:\n",
    "    yaml_string = f.read()\n",
    "\n",
    "DATASET_PATH = \"/home/sultan/datasets/PScience/PScience.csv\"\n",
    "specific_topics = [f'topic_{i}' for i in range(35)]\n",
    "background_topics = [f'bcg_{i}' for i in range(len(specific_topics),len(specific_topics) + 1)]\n",
    "\n",
    "yaml_string = yaml_string.format(\n",
    "    modality1='@word',\n",
    "    modality2='@post_tag',\n",
    "    dataset_path=DATASET_PATH,\n",
    "    specific_topics=specific_topics,\n",
    "    background_topics=background_topics)\n",
    "\n",
    "print(yaml_string)"
   ]
  },
  {
   "cell_type": "markdown",
   "metadata": {},
   "source": [
    "### Define Topic Model"
   ]
  },
  {
   "cell_type": "code",
   "execution_count": 6,
   "metadata": {},
   "outputs": [],
   "source": [
    "from topicnet.cooking_machine.experiment import Experiment\n",
    "if os.path.exists(f'./ExploratoryResearchDemo2') == True:\n",
    "    os.system(\"rm -rf ./ExploratoryResearchDemo2\")\n",
    "experiment, dataset = build_experiment_environment_from_yaml_config(\n",
    "    yaml_string,\n",
    "    experiment_id='ExploratoryResearchDemo2',\n",
    "    save_path='ExploratoryResearchDemo2',\n",
    ")"
   ]
  },
  {
   "cell_type": "code",
   "execution_count": 7,
   "metadata": {},
   "outputs": [
    {
     "name": "stderr",
     "output_type": "stream",
     "text": [
      "/home/sultan/miniconda3/lib/python3.6/site-packages/topicnet/cooking_machine/cubes/base_cube.py:206: UserWarning: Perplexity is too high for threshold 1.05\n",
      "  warnings.warn(warning_message)\n",
      "/home/sultan/miniconda3/lib/python3.6/site-packages/topicnet/cooking_machine/cubes/base_cube.py:206: UserWarning: Max progression length exceeded\n",
      "  warnings.warn(warning_message)\n"
     ]
    },
    {
     "data": {
      "text/plain": [
       "{<topicnet.cooking_machine.models.topic_model.TopicModel at 0x7f3c6df846d8>}"
      ]
     },
     "execution_count": 7,
     "metadata": {},
     "output_type": "execute_result"
    }
   ],
   "source": [
    "experiment.run(dataset)"
   ]
  },
  {
   "cell_type": "code",
   "execution_count": 8,
   "metadata": {},
   "outputs": [
    {
     "data": {
      "text/plain": [
       "Experiment ExploratoryResearchDemo2\n",
       "\n",
       "Experiment was made with BigARTM 0.9.0\n",
       "Tree:\n",
       "                                ┌##18h56m18s_18d11m2019y###\n",
       "<<<<<<<<<<<root>>>>>>>>>>>──────┤\n",
       "                                ├##18h56m29s_18d11m2019y###\n",
       "                                │                                                                                                       ┌##18h56m59s_18d11m2019y###\n",
       "                                └##18h56m41s_18d11m2019y###─────────────────────────────────────────────────────────────────────────────┤\n",
       "                                                                                                                                        │                                                                                                       ┌##18h57m46s_18d11m2019y###\n",
       "                                                                                                                                        │                                                                                                       │                                                                                                                                                                                                               ┌##19h00m27s_18d11m2019y###\n",
       "                                                                                                                                        │                                                                                                       │                                                                                                                                                                                                               ├##19h00m44s_18d11m2019y###\n",
       "                                                                                                                                        │                                                                                                       │                                                                                                                                                                                                               ├##19h01m01s_18d11m2019y###\n",
       "                                                                                                                                        │                                                                                                       │                                                                                                       ┌##18h59m47s_18d11m2019y###─────────────────────────────────────────────────────────────────────────────┤\n",
       "                                                                                                                                        │                                                                                                       │                                                                                                       │                                                                                                       ├##19h01m18s_18d11m2019y###\n",
       "                                                                                                                                        │                                                                                                       │                                                                                                       │                                                                                                       ├##19h01m35s_18d11m2019y###\n",
       "                                                                                                                                        │                                                                                                       │                                                                                                       │                                                                                                       ├##19h01m51s_18d11m2019y###\n",
       "                                                                                                                                        │                                                                                                       │                                                                                                       │                                                                                                       └##19h02m08s_18d11m2019y###\n",
       "                                                                                                                                        │                                                                                                       ├##18h58m01s_18d11m2019y###─────────────────────────────────────────────────────────────────────────────┤\n",
       "                                                                                                                                        │                                                                                                       │                                                                                                       └##19h00m02s_18d11m2019y###\n",
       "                                                                                                                                        │                                                                                                       ├##18h58m15s_18d11m2019y###\n",
       "                                                                                                                                        ├##18h57m12s_18d11m2019y###─────────────────────────────────────────────────────────────────────────────┤\n",
       "                                                                                                                                        │                                                                                                       ├##18h58m30s_18d11m2019y###\n",
       "                                                                                                                                        │                                                                                                       ├##18h58m45s_18d11m2019y###\n",
       "                                                                                                                                        │                                                                                                       ├##18h59m00s_18d11m2019y###\n",
       "                                                                                                                                        │                                                                                                       └##18h59m14s_18d11m2019y###\n",
       "                                                                                                                                        └##18h57m26s_18d11m2019y###\n",
       "Cubes:\n",
       " START                          | REG_MODIFIER                                                                                          | REG_MODIFIER                                                                                          | REG_MODIFIER                                                                                          | REG_MODIFIER                                                                                          | REG_MODIFIER                                                                                         \n",
       "                                | cube:                                                                                                 | cube:                                                                                                 | cube:                                                                                                 | cube:                                                                                                 | cube:                                                                                                \n",
       " name:                          |   <topicnet.cooking_machine.cubes.regularizer_cube.RegularizersModifierCube object at 0x7f3c6e03eeb8> |   <topicnet.cooking_machine.cubes.regularizer_cube.RegularizersModifierCube object at 0x7f3c6e006f28> |   <topicnet.cooking_machine.cubes.regularizer_cube.RegularizersModifierCube object at 0x7f3c6e006fd0> |   <topicnet.cooking_machine.cubes.regularizer_cube.RegularizersModifierCube object at 0x7f3c6e006cf8> |   <topicnet.cooking_machine.cubes.regularizer_cube.RegularizersModifierCube object at 0x7f3c6e006ef0>\n",
       "   ARTM                         |                                                                                                       |                                                                                                       |                                                                                                       |                                                                                                       |                                                                                                      \n",
       " num_processors:                | tau_grid:                                                                                             | tau_grid:                                                                                             | tau_grid:                                                                                             | tau_grid:                                                                                             | tau_grid:                                                                                            \n",
       "   3                            |   ---                                                                                                 |   ---                                                                                                 |   ---                                                                                                 |   ---                                                                                                 |   ---                                                                                                \n",
       " num_topics:                    | name:                                                                                                 | name:                                                                                                 | name:                                                                                                 | name:                                                                                                 | name:                                                                                                \n",
       "   36                           |   decorrelation_phi_@word                                                                             |   decorrelation_phi_@post_tag                                                                         |   sparse_theta                                                                                        |   smooth_phi_@word                                                                                    |   smooth_phi_@post_tag                                                                               \n",
       " topic_names:                   |                                                                                                       |                                                                                                       |                                                                                                       |                                                                                                       |                                                                                                      \n",
       "   topic_0,                     |                                                                                                       |                                                                                                       |                                                                                                       |                                                                                                       |                                                                                                      \n",
       "   topic_1,                     |                                                                                                       |                                                                                                       |                                                                                                       |                                                                                                       |                                                                                                      \n",
       "   ...,                         |                                                                                                       |                                                                                                       |                                                                                                       |                                                                                                       |                                                                                                      \n",
       "   topic_34,                    |                                                                                                       |                                                                                                       |                                                                                                       |                                                                                                       |                                                                                                      \n",
       "   bcg_35                       |                                                                                                       |                                                                                                       |                                                                                                       |                                                                                                       |                                                                                                      \n",
       " class_ids:                     |                                                                                                       |                                                                                                       |                                                                                                       |                                                                                                       |                                                                                                      \n",
       "   @word=1.0,                   |                                                                                                       |                                                                                                       |                                                                                                       |                                                                                                       |                                                                                                      \n",
       "   @post_tag=79.51461372081415  |                                                                                                       |                                                                                                       |                                                                                                       |                                                                                                       |                                                                                                      \n",
       " seed:                          |                                                                                                       |                                                                                                       |                                                                                                       |                                                                                                       |                                                                                                      \n",
       "   -1                           |                                                                                                       |                                                                                                       |                                                                                                       |                                                                                                       |                                                                                                      \n",
       "                                |                                                                                                       |                                                                                                       |                                                                                                       |                                                                                                       |                                                                                                      \n",
       "────────────────────────────────+───────────────────────────────────────────────────────────────────────────────────────────────────────+───────────────────────────────────────────────────────────────────────────────────────────────────────+───────────────────────────────────────────────────────────────────────────────────────────────────────+───────────────────────────────────────────────────────────────────────────────────────────────────────+───────────────────────────────────────────────────────────────────────────────────────────────────────+─────────────────────────────────────────────────────────────────────────────────────────────────────\n",
       "                                | stage criteria 1:                                                                                     | stage criteria 1:                                                                                     | stage criteria 1:                                                                                     | stage criteria 1:                                                                                     | stage criteria 1:                                                                                    \n",
       "                                |     SparsityPhiScore@word > 0.8 * MAXIMUM(SparsityPhiScore@word)                                      |     SparsityPhiScore@post_tag > 0.8 * MAXIMUM(SparsityPhiScore@post_tag)                              |     SparsityPhiScore@word > 0.8 * MAXIMUM(SparsityPhiScore@word)                                      |     SparsityPhiScore@word > 0.8 * MAXIMUM(SparsityPhiScore@word)                                      |     SparsityPhiScore@post_tag > 0.8 * MAXIMUM(SparsityPhiScore@post_tag)                             \n",
       "                                |     PerplexityScore@word -> min                                                                       |     PerplexityScore@post_tag -> min                                                                   |     PerplexityScore@all -> min                                                                        |     PerplexityScore@word -> min                                                                       |     PerplexityScore@post_tag -> min                                                                  \n",
       "                                |                                                                                                       |                                                                                                       |                                                                                                       |                                                                                                       |                                                                                                      "
      ]
     },
     "metadata": {},
     "output_type": "display_data"
    }
   ],
   "source": [
    "experiment.show()"
   ]
  },
  {
   "cell_type": "code",
   "execution_count": 9,
   "metadata": {},
   "outputs": [],
   "source": [
    "best_model = experiment.select(experiment.criteria[-1][0])[0]"
   ]
  },
  {
   "cell_type": "code",
   "execution_count": 10,
   "metadata": {},
   "outputs": [
    {
     "data": {
      "image/png": "[encoded data removed]",
      "text/plain": [
       "<Figure size 576x576 with 1 Axes>"
      ]
     },
     "metadata": {
      "needs_background": "light"
     },
     "output_type": "display_data"
    }
   ],
   "source": [
    "tms = experiment.models\n",
    "colors = np.linspace(0, 0.65, len(tms))\n",
    "\n",
    "plt.figure(figsize=(8,8))\n",
    "for i, tm in enumerate(list(tms.values())[1:]):\n",
    "    score = tm.scores['PerplexityScore@all']\n",
    "    plt.plot(score[1:])\n",
    "plt.show()"
   ]
  },
  {
   "cell_type": "code",
   "execution_count": 11,
   "metadata": {},
   "outputs": [
    {
     "data": {
      "image/png": "[encoded data removed]",
      "text/plain": [
       "<Figure size 576x576 with 1 Axes>"
      ]
     },
     "metadata": {
      "needs_background": "light"
     },
     "output_type": "display_data"
    }
   ],
   "source": [
    "from matplotlib import cm\n",
    "tms = experiment.models\n",
    "colors = np.linspace(0, 0.65, len(tms))\n",
    "\n",
    "plt.figure(figsize=(8,8))\n",
    "for i, tm in enumerate(list(tms.values())[1:]):\n",
    "    score = tm.scores['TopicKernel@word.average_purity']\n",
    "    plt.plot(score, color=cm.Blues(colors[i]))\n",
    "    score = tm.scores['TopicKernel@word.average_contrast']\n",
    "    plt.plot(score, color=cm.Reds(colors[i]))\n",
    "plt.show()"
   ]
  },
  {
   "cell_type": "code",
   "execution_count": 12,
   "metadata": {},
   "outputs": [
    {
     "name": "stdout",
     "output_type": "stream",
     "text": [
      "smooth_phi_bcg 0.0\n",
      "smooth_theta_bcg 0.0\n",
      "decorrelation_phi_@word 1000000.0\n",
      "sparse_theta -0.5\n",
      "smooth_phi_@word 0\n",
      "decorrelation_phi_@post_tag 100000.0\n",
      "smooth_phi_@post_tag 0\n",
      "88488.8984375\n",
      "0.5026137828826904\n",
      "0.23535428941249847\n",
      "------\n",
      "smooth_phi_bcg 0.0\n",
      "smooth_theta_bcg 0.0\n",
      "decorrelation_phi_@word 1000000.0\n",
      "sparse_theta -0.5\n",
      "smooth_phi_@word 0\n",
      "decorrelation_phi_@post_tag 100000.0\n",
      "smooth_phi_@post_tag 0.25\n",
      "88894.96875\n",
      "0.502592921257019\n",
      "0.23534470796585083\n",
      "------\n",
      "smooth_phi_bcg 0.0\n",
      "smooth_theta_bcg 0.0\n",
      "decorrelation_phi_@word 1000000.0\n",
      "sparse_theta -0.5\n",
      "smooth_phi_@word 0\n",
      "decorrelation_phi_@post_tag 100000.0\n",
      "smooth_phi_@post_tag 0.5\n",
      "89290.015625\n",
      "0.5025845766067505\n",
      "0.23533648252487183\n",
      "------\n",
      "smooth_phi_bcg 0.0\n",
      "smooth_theta_bcg 0.0\n",
      "decorrelation_phi_@word 1000000.0\n",
      "sparse_theta -0.5\n",
      "smooth_phi_@word 0\n",
      "decorrelation_phi_@post_tag 100000.0\n",
      "smooth_phi_@post_tag 0.75\n",
      "89696.671875\n",
      "0.5026082992553711\n",
      "0.23534223437309265\n",
      "------\n",
      "smooth_phi_bcg 0.0\n",
      "smooth_theta_bcg 0.0\n",
      "decorrelation_phi_@word 1000000.0\n",
      "sparse_theta -0.5\n",
      "smooth_phi_@word 0\n",
      "decorrelation_phi_@post_tag 100000.0\n",
      "smooth_phi_@post_tag 1.0\n",
      "90109.953125\n",
      "0.5026062726974487\n",
      "0.2353803813457489\n",
      "------\n",
      "smooth_phi_bcg 0.0\n",
      "smooth_theta_bcg 0.0\n",
      "decorrelation_phi_@word 1000000.0\n",
      "sparse_theta -0.5\n",
      "smooth_phi_@word 0\n",
      "decorrelation_phi_@post_tag 100000.0\n",
      "smooth_phi_@post_tag 1.25\n",
      "90526.453125\n",
      "0.5026392340660095\n",
      "0.23541586101055145\n",
      "------\n",
      "smooth_phi_bcg 0.0\n",
      "smooth_theta_bcg 0.0\n",
      "decorrelation_phi_@word 1000000.0\n",
      "sparse_theta -0.5\n",
      "smooth_phi_@word 0\n",
      "decorrelation_phi_@post_tag 100000.0\n",
      "smooth_phi_@post_tag 1.5\n",
      "90945.7734375\n",
      "0.502657413482666\n",
      "0.2354489117860794\n",
      "------\n"
     ]
    }
   ],
   "source": [
    "query = (\n",
    "    \"TopicKernel@word.average_contrast > 0.8 * MAXIMUM(TopicKernel@word.average_contrast) \"\n",
    "    \"and TopicKernel@word.average_purity > 0.8 * MAXIMUM(TopicKernel@word.average_purity) \"\n",
    "    \"and PerplexityScore@all < 1.1 * MINIMUM(PerplexityScore@all) \"\n",
    ")\n",
    "models = experiment.select(query + \" COLLECT all\")\n",
    "def describe_model(model):\n",
    "    for reg_name, reg in model.regularizers._data.items():\n",
    "        print(reg_name, reg.tau)\n",
    "    print(model.scores[\"PerplexityScore@all\"][-1])\n",
    "    print(model.scores[\"TopicKernel@word.average_contrast\"][-1])\n",
    "    print(model.scores[\"TopicKernel@word.average_purity\"][-1])\n",
    "    print(\"------\")\n",
    "for model in models:\n",
    "    describe_model(model)"
   ]
  },
  {
   "cell_type": "markdown",
   "metadata": {},
   "source": [
    "### Investigate model"
   ]
  },
  {
   "cell_type": "code",
   "execution_count": 13,
   "metadata": {},
   "outputs": [],
   "source": [
    "best_model = models[-1]"
   ]
  },
  {
   "cell_type": "code",
   "execution_count": 14,
   "metadata": {},
   "outputs": [],
   "source": [
    "from topicnet.viewers.top_tokens_viewer import TopTokensViewer\n",
    "from topicnet.viewers.top_documents_viewer import TopDocumentsViewer\n",
    "from IPython.display import display_html, display\n",
    "from topicnet.cooking_machine.dataset import get_modality_vw"
   ]
  },
  {
   "cell_type": "code",
   "execution_count": 15,
   "metadata": {},
   "outputs": [],
   "source": [
    "thresh = 1e-5\n",
    "demo_data = Dataset(DATASET_PATH)\n",
    "first_model_top_tok = TopTokensViewer(best_model, num_top_tokens=10, method='phi')\n",
    "first_model_html =  first_model_top_tok.to_html(first_model_top_tok.view(),thresh=thresh)\n",
    "first_model_top_doc = TopDocumentsViewer(best_model, dataset=demo_data).view()"
   ]
  },
  {
   "cell_type": "code",
   "execution_count": 16,
   "metadata": {
    "scrolled": true
   },
   "outputs": [
    {
     "data": {
      "text/html": [
       "<style  type=\"text/css\" >\n",
       "</style><table id=\"T_eefc84c6_0a1c_11ea_a6fb_107b449f15fc\" style='display:inline'><thead>    <tr>        <th class=\"blank level0\" ></th>        <th class=\"col_heading level0 col0\" >topic_29 @post_tag</th>    </tr></thead><tbody>\n",
       "                <tr>\n",
       "                        <th id=\"T_eefc84c6_0a1c_11ea_a6fb_107b449f15fclevel0_row0\" class=\"row_heading level0 row0\" >днк</th>\n",
       "                        <td id=\"T_eefc84c6_0a1c_11ea_a6fb_107b449f15fcrow0_col0\" class=\"data row0 col0\" >0.22563</td>\n",
       "            </tr>\n",
       "            <tr>\n",
       "                        <th id=\"T_eefc84c6_0a1c_11ea_a6fb_107b449f15fclevel0_row1\" class=\"row_heading level0 row1\" >клетка</th>\n",
       "                        <td id=\"T_eefc84c6_0a1c_11ea_a6fb_107b449f15fcrow1_col0\" class=\"data row1 col0\" >0.20789</td>\n",
       "            </tr>\n",
       "            <tr>\n",
       "                        <th id=\"T_eefc84c6_0a1c_11ea_a6fb_107b449f15fclevel0_row2\" class=\"row_heading level0 row2\" >белки</th>\n",
       "                        <td id=\"T_eefc84c6_0a1c_11ea_a6fb_107b449f15fcrow2_col0\" class=\"data row2 col0\" >0.10887</td>\n",
       "            </tr>\n",
       "            <tr>\n",
       "                        <th id=\"T_eefc84c6_0a1c_11ea_a6fb_107b449f15fclevel0_row3\" class=\"row_heading level0 row3\" >рнк</th>\n",
       "                        <td id=\"T_eefc84c6_0a1c_11ea_a6fb_107b449f15fcrow3_col0\" class=\"data row3 col0\" >0.06533</td>\n",
       "            </tr>\n",
       "            <tr>\n",
       "                        <th id=\"T_eefc84c6_0a1c_11ea_a6fb_107b449f15fclevel0_row4\" class=\"row_heading level0 row4\" >клеточная_биология</th>\n",
       "                        <td id=\"T_eefc84c6_0a1c_11ea_a6fb_107b449f15fcrow4_col0\" class=\"data row4 col0\" >0.04748</td>\n",
       "            </tr>\n",
       "            <tr>\n",
       "                        <th id=\"T_eefc84c6_0a1c_11ea_a6fb_107b449f15fclevel0_row5\" class=\"row_heading level0 row5\" >мутация</th>\n",
       "                        <td id=\"T_eefc84c6_0a1c_11ea_a6fb_107b449f15fcrow5_col0\" class=\"data row5 col0\" >0.03549</td>\n",
       "            </tr>\n",
       "            <tr>\n",
       "                        <th id=\"T_eefc84c6_0a1c_11ea_a6fb_107b449f15fclevel0_row6\" class=\"row_heading level0 row6\" >вирус</th>\n",
       "                        <td id=\"T_eefc84c6_0a1c_11ea_a6fb_107b449f15fcrow6_col0\" class=\"data row6 col0\" >0.02866</td>\n",
       "            </tr>\n",
       "            <tr>\n",
       "                        <th id=\"T_eefc84c6_0a1c_11ea_a6fb_107b449f15fclevel0_row7\" class=\"row_heading level0 row7\" >белок</th>\n",
       "                        <td id=\"T_eefc84c6_0a1c_11ea_a6fb_107b449f15fcrow7_col0\" class=\"data row7 col0\" >0.02763</td>\n",
       "            </tr>\n",
       "            <tr>\n",
       "                        <th id=\"T_eefc84c6_0a1c_11ea_a6fb_107b449f15fclevel0_row8\" class=\"row_heading level0 row8\" >инквизиция</th>\n",
       "                        <td id=\"T_eefc84c6_0a1c_11ea_a6fb_107b449f15fcrow8_col0\" class=\"data row8 col0\" >0.02688</td>\n",
       "            </tr>\n",
       "            <tr>\n",
       "                        <th id=\"T_eefc84c6_0a1c_11ea_a6fb_107b449f15fclevel0_row9\" class=\"row_heading level0 row9\" >мембрана</th>\n",
       "                        <td id=\"T_eefc84c6_0a1c_11ea_a6fb_107b449f15fcrow9_col0\" class=\"data row9 col0\" >0.01582</td>\n",
       "            </tr>\n",
       "    </tbody></table><style  type=\"text/css\" >\n",
       "</style><table id=\"T_eefc84c7_0a1c_11ea_a6fb_107b449f15fc\" style='display:inline'><thead>    <tr>        <th class=\"blank level0\" ></th>        <th class=\"col_heading level0 col0\" >topic_29 @word</th>    </tr></thead><tbody>\n",
       "                <tr>\n",
       "                        <th id=\"T_eefc84c7_0a1c_11ea_a6fb_107b449f15fclevel0_row0\" class=\"row_heading level0 row0\" >днк</th>\n",
       "                        <td id=\"T_eefc84c7_0a1c_11ea_a6fb_107b449f15fcrow0_col0\" class=\"data row0 col0\" >0.03749</td>\n",
       "            </tr>\n",
       "            <tr>\n",
       "                        <th id=\"T_eefc84c7_0a1c_11ea_a6fb_107b449f15fclevel0_row1\" class=\"row_heading level0 row1\" >белка</th>\n",
       "                        <td id=\"T_eefc84c7_0a1c_11ea_a6fb_107b449f15fcrow1_col0\" class=\"data row1 col0\" >0.02242</td>\n",
       "            </tr>\n",
       "            <tr>\n",
       "                        <th id=\"T_eefc84c7_0a1c_11ea_a6fb_107b449f15fclevel0_row2\" class=\"row_heading level0 row2\" >белок</th>\n",
       "                        <td id=\"T_eefc84c7_0a1c_11ea_a6fb_107b449f15fcrow2_col0\" class=\"data row2 col0\" >0.01788</td>\n",
       "            </tr>\n",
       "            <tr>\n",
       "                        <th id=\"T_eefc84c7_0a1c_11ea_a6fb_107b449f15fclevel0_row3\" class=\"row_heading level0 row3\" >рнк</th>\n",
       "                        <td id=\"T_eefc84c7_0a1c_11ea_a6fb_107b449f15fcrow3_col0\" class=\"data row3 col0\" >0.01503</td>\n",
       "            </tr>\n",
       "            <tr>\n",
       "                        <th id=\"T_eefc84c7_0a1c_11ea_a6fb_107b449f15fclevel0_row4\" class=\"row_heading level0 row4\" >вирус</th>\n",
       "                        <td id=\"T_eefc84c7_0a1c_11ea_a6fb_107b449f15fcrow4_col0\" class=\"data row4 col0\" >0.00966</td>\n",
       "            </tr>\n",
       "            <tr>\n",
       "                        <th id=\"T_eefc84c7_0a1c_11ea_a6fb_107b449f15fclevel0_row5\" class=\"row_heading level0 row5\" >мутация</th>\n",
       "                        <td id=\"T_eefc84c7_0a1c_11ea_a6fb_107b449f15fcrow5_col0\" class=\"data row5 col0\" >0.00795</td>\n",
       "            </tr>\n",
       "            <tr>\n",
       "                        <th id=\"T_eefc84c7_0a1c_11ea_a6fb_107b449f15fclevel0_row6\" class=\"row_heading level0 row6\" >хромосома</th>\n",
       "                        <td id=\"T_eefc84c7_0a1c_11ea_a6fb_107b449f15fcrow6_col0\" class=\"data row6 col0\" >0.0073</td>\n",
       "            </tr>\n",
       "            <tr>\n",
       "                        <th id=\"T_eefc84c7_0a1c_11ea_a6fb_107b449f15fclevel0_row7\" class=\"row_heading level0 row7\" >фермент</th>\n",
       "                        <td id=\"T_eefc84c7_0a1c_11ea_a6fb_107b449f15fcrow7_col0\" class=\"data row7 col0\" >0.00688</td>\n",
       "            </tr>\n",
       "            <tr>\n",
       "                        <th id=\"T_eefc84c7_0a1c_11ea_a6fb_107b449f15fclevel0_row8\" class=\"row_heading level0 row8\" >аминокислота</th>\n",
       "                        <td id=\"T_eefc84c7_0a1c_11ea_a6fb_107b449f15fcrow8_col0\" class=\"data row8 col0\" >0.00521</td>\n",
       "            </tr>\n",
       "            <tr>\n",
       "                        <th id=\"T_eefc84c7_0a1c_11ea_a6fb_107b449f15fclevel0_row9\" class=\"row_heading level0 row9\" >ведьма</th>\n",
       "                        <td id=\"T_eefc84c7_0a1c_11ea_a6fb_107b449f15fcrow9_col0\" class=\"data row9 col0\" >0.00464</td>\n",
       "            </tr>\n",
       "    </tbody></table>"
      ]
     },
     "metadata": {},
     "output_type": "display_data"
    },
    {
     "data": {
      "text/html": [
       "<b> репликация днк </b>"
      ]
     },
     "metadata": {},
     "output_type": "display_data"
    },
    {
     "data": {
      "text/html": [
       "<b> внутренний космос </b>"
      ]
     },
     "metadata": {},
     "output_type": "display_data"
    },
    {
     "data": {
      "text/html": [
       "<b> зонд на основе днк измеряет силу между клеткой и поверхностью </b>"
      ]
     },
     "metadata": {},
     "output_type": "display_data"
    },
    {
     "data": {
      "text/html": [
       "<b> центральная догма молекулярной биологии </b>"
      ]
     },
     "metadata": {},
     "output_type": "display_data"
    },
    {
     "data": {
      "text/html": [
       "<b> цитоскелет клеток </b>"
      ]
     },
     "metadata": {},
     "output_type": "display_data"
    },
    {
     "data": {
      "text/html": [
       "<b> биогенез ядерных телец </b>"
      ]
     },
     "metadata": {},
     "output_type": "display_data"
    },
    {
     "data": {
      "text/html": [
       "<b> необычные формы днк </b>"
      ]
     },
     "metadata": {},
     "output_type": "display_data"
    },
    {
     "data": {
      "text/html": [
       "<b> структурная роль некодирующих рнк </b>"
      ]
     },
     "metadata": {},
     "output_type": "display_data"
    },
    {
     "data": {
      "text/html": [
       "<b> регионы-организаторы эмбриона </b>"
      ]
     },
     "metadata": {},
     "output_type": "display_data"
    },
    {
     "data": {
      "text/html": [
       "<b> выдвинута новая гипотеза происхождения эукариотической клетки </b>"
      ]
     },
     "metadata": {},
     "output_type": "display_data"
    },
    {
     "data": {
      "text/html": [
       "<style  type=\"text/css\" >\n",
       "</style><table id=\"T_eefc84c8_0a1c_11ea_a6fb_107b449f15fc\" style='display:inline'><thead>    <tr>        <th class=\"blank level0\" ></th>        <th class=\"col_heading level0 col0\" >topic_30 @post_tag</th>    </tr></thead><tbody>\n",
       "                <tr>\n",
       "                        <th id=\"T_eefc84c8_0a1c_11ea_a6fb_107b449f15fclevel0_row0\" class=\"row_heading level0 row0\" >политика</th>\n",
       "                        <td id=\"T_eefc84c8_0a1c_11ea_a6fb_107b449f15fcrow0_col0\" class=\"data row0 col0\" >0.24806</td>\n",
       "            </tr>\n",
       "            <tr>\n",
       "                        <th id=\"T_eefc84c8_0a1c_11ea_a6fb_107b449f15fclevel0_row1\" class=\"row_heading level0 row1\" >государство</th>\n",
       "                        <td id=\"T_eefc84c8_0a1c_11ea_a6fb_107b449f15fcrow1_col0\" class=\"data row1 col0\" >0.21408</td>\n",
       "            </tr>\n",
       "            <tr>\n",
       "                        <th id=\"T_eefc84c8_0a1c_11ea_a6fb_107b449f15fclevel0_row2\" class=\"row_heading level0 row2\" >политология</th>\n",
       "                        <td id=\"T_eefc84c8_0a1c_11ea_a6fb_107b449f15fcrow2_col0\" class=\"data row2 col0\" >0.12298</td>\n",
       "            </tr>\n",
       "            <tr>\n",
       "                        <th id=\"T_eefc84c8_0a1c_11ea_a6fb_107b449f15fclevel0_row3\" class=\"row_heading level0 row3\" >демократия</th>\n",
       "                        <td id=\"T_eefc84c8_0a1c_11ea_a6fb_107b449f15fcrow3_col0\" class=\"data row3 col0\" >0.0381</td>\n",
       "            </tr>\n",
       "            <tr>\n",
       "                        <th id=\"T_eefc84c8_0a1c_11ea_a6fb_107b449f15fclevel0_row4\" class=\"row_heading level0 row4\" >либерализм</th>\n",
       "                        <td id=\"T_eefc84c8_0a1c_11ea_a6fb_107b449f15fcrow4_col0\" class=\"data row4 col0\" >0.03801</td>\n",
       "            </tr>\n",
       "            <tr>\n",
       "                        <th id=\"T_eefc84c8_0a1c_11ea_a6fb_107b449f15fclevel0_row5\" class=\"row_heading level0 row5\" >идеология</th>\n",
       "                        <td id=\"T_eefc84c8_0a1c_11ea_a6fb_107b449f15fcrow5_col0\" class=\"data row5 col0\" >0.03379</td>\n",
       "            </tr>\n",
       "            <tr>\n",
       "                        <th id=\"T_eefc84c8_0a1c_11ea_a6fb_107b449f15fclevel0_row6\" class=\"row_heading level0 row6\" >глобализация</th>\n",
       "                        <td id=\"T_eefc84c8_0a1c_11ea_a6fb_107b449f15fcrow6_col0\" class=\"data row6 col0\" >0.02914</td>\n",
       "            </tr>\n",
       "            <tr>\n",
       "                        <th id=\"T_eefc84c8_0a1c_11ea_a6fb_107b449f15fclevel0_row7\" class=\"row_heading level0 row7\" >теория_игр</th>\n",
       "                        <td id=\"T_eefc84c8_0a1c_11ea_a6fb_107b449f15fcrow7_col0\" class=\"data row7 col0\" >0.02695</td>\n",
       "            </tr>\n",
       "            <tr>\n",
       "                        <th id=\"T_eefc84c8_0a1c_11ea_a6fb_107b449f15fclevel0_row8\" class=\"row_heading level0 row8\" >политический_режим</th>\n",
       "                        <td id=\"T_eefc84c8_0a1c_11ea_a6fb_107b449f15fcrow8_col0\" class=\"data row8 col0\" >0.02665</td>\n",
       "            </tr>\n",
       "            <tr>\n",
       "                        <th id=\"T_eefc84c8_0a1c_11ea_a6fb_107b449f15fclevel0_row9\" class=\"row_heading level0 row9\" >культурная_политика</th>\n",
       "                        <td id=\"T_eefc84c8_0a1c_11ea_a6fb_107b449f15fcrow9_col0\" class=\"data row9 col0\" >0.02099</td>\n",
       "            </tr>\n",
       "    </tbody></table><style  type=\"text/css\" >\n",
       "</style><table id=\"T_eefc84c9_0a1c_11ea_a6fb_107b449f15fc\" style='display:inline'><thead>    <tr>        <th class=\"blank level0\" ></th>        <th class=\"col_heading level0 col0\" >topic_30 @word</th>    </tr></thead><tbody>\n",
       "                <tr>\n",
       "                        <th id=\"T_eefc84c9_0a1c_11ea_a6fb_107b449f15fclevel0_row0\" class=\"row_heading level0 row0\" >государство</th>\n",
       "                        <td id=\"T_eefc84c9_0a1c_11ea_a6fb_107b449f15fcrow0_col0\" class=\"data row0 col0\" >0.01539</td>\n",
       "            </tr>\n",
       "            <tr>\n",
       "                        <th id=\"T_eefc84c9_0a1c_11ea_a6fb_107b449f15fclevel0_row1\" class=\"row_heading level0 row1\" >политика</th>\n",
       "                        <td id=\"T_eefc84c9_0a1c_11ea_a6fb_107b449f15fcrow1_col0\" class=\"data row1 col0\" >0.00887</td>\n",
       "            </tr>\n",
       "            <tr>\n",
       "                        <th id=\"T_eefc84c9_0a1c_11ea_a6fb_107b449f15fclevel0_row2\" class=\"row_heading level0 row2\" >политический</th>\n",
       "                        <td id=\"T_eefc84c9_0a1c_11ea_a6fb_107b449f15fcrow2_col0\" class=\"data row2 col0\" >0.00846</td>\n",
       "            </tr>\n",
       "            <tr>\n",
       "                        <th id=\"T_eefc84c9_0a1c_11ea_a6fb_107b449f15fclevel0_row3\" class=\"row_heading level0 row3\" >демократия</th>\n",
       "                        <td id=\"T_eefc84c9_0a1c_11ea_a6fb_107b449f15fcrow3_col0\" class=\"data row3 col0\" >0.00745</td>\n",
       "            </tr>\n",
       "            <tr>\n",
       "                        <th id=\"T_eefc84c9_0a1c_11ea_a6fb_107b449f15fclevel0_row4\" class=\"row_heading level0 row4\" >власть</th>\n",
       "                        <td id=\"T_eefc84c9_0a1c_11ea_a6fb_107b449f15fcrow4_col0\" class=\"data row4 col0\" >0.00725</td>\n",
       "            </tr>\n",
       "            <tr>\n",
       "                        <th id=\"T_eefc84c9_0a1c_11ea_a6fb_107b449f15fclevel0_row5\" class=\"row_heading level0 row5\" >свобода</th>\n",
       "                        <td id=\"T_eefc84c9_0a1c_11ea_a6fb_107b449f15fcrow5_col0\" class=\"data row5 col0\" >0.00612</td>\n",
       "            </tr>\n",
       "            <tr>\n",
       "                        <th id=\"T_eefc84c9_0a1c_11ea_a6fb_107b449f15fclevel0_row6\" class=\"row_heading level0 row6\" >война</th>\n",
       "                        <td id=\"T_eefc84c9_0a1c_11ea_a6fb_107b449f15fcrow6_col0\" class=\"data row6 col0\" >0.0043</td>\n",
       "            </tr>\n",
       "            <tr>\n",
       "                        <th id=\"T_eefc84c9_0a1c_11ea_a6fb_107b449f15fclevel0_row7\" class=\"row_heading level0 row7\" >партия</th>\n",
       "                        <td id=\"T_eefc84c9_0a1c_11ea_a6fb_107b449f15fcrow7_col0\" class=\"data row7 col0\" >0.00401</td>\n",
       "            </tr>\n",
       "            <tr>\n",
       "                        <th id=\"T_eefc84c9_0a1c_11ea_a6fb_107b449f15fclevel0_row8\" class=\"row_heading level0 row8\" >элита</th>\n",
       "                        <td id=\"T_eefc84c9_0a1c_11ea_a6fb_107b449f15fcrow8_col0\" class=\"data row8 col0\" >0.00395</td>\n",
       "            </tr>\n",
       "            <tr>\n",
       "                        <th id=\"T_eefc84c9_0a1c_11ea_a6fb_107b449f15fclevel0_row9\" class=\"row_heading level0 row9\" >гражданин</th>\n",
       "                        <td id=\"T_eefc84c9_0a1c_11ea_a6fb_107b449f15fcrow9_col0\" class=\"data row9 col0\" >0.00373</td>\n",
       "            </tr>\n",
       "    </tbody></table>"
      ]
     },
     "metadata": {},
     "output_type": "display_data"
    },
    {
     "data": {
      "text/html": [
       "<b> государство в теории международных отношений </b>"
      ]
     },
     "metadata": {},
     "output_type": "display_data"
    },
    {
     "data": {
      "text/html": [
       "<b> национальное государство </b>"
      ]
     },
     "metadata": {},
     "output_type": "display_data"
    },
    {
     "data": {
      "text/html": [
       "<b> республиканизм и свобода </b>"
      ]
     },
     "metadata": {},
     "output_type": "display_data"
    },
    {
     "data": {
      "text/html": [
       "<b> либерализм в теории международных отношений </b>"
      ]
     },
     "metadata": {},
     "output_type": "display_data"
    },
    {
     "data": {
      "text/html": [
       "<b> главыискаженная демократия </b>"
      ]
     },
     "metadata": {},
     "output_type": "display_data"
    },
    {
     "data": {
      "text/html": [
       "<b> русский анархизм </b>"
      ]
     },
     "metadata": {},
     "output_type": "display_data"
    },
    {
     "data": {
      "text/html": [
       "<b> faqреспубликанизм и свобода </b>"
      ]
     },
     "metadata": {},
     "output_type": "display_data"
    },
    {
     "data": {
      "text/html": [
       "<b> либеральная традиция в политической мысли </b>"
      ]
     },
     "metadata": {},
     "output_type": "display_data"
    },
    {
     "data": {
      "text/html": [
       "<b> выборы президента сша </b>"
      ]
     },
     "metadata": {},
     "output_type": "display_data"
    },
    {
     "data": {
      "text/html": [
       "<b> мнения избирателей и платформы партий </b>"
      ]
     },
     "metadata": {},
     "output_type": "display_data"
    },
    {
     "data": {
      "text/html": [
       "<style  type=\"text/css\" >\n",
       "</style><table id=\"T_eefc84ca_0a1c_11ea_a6fb_107b449f15fc\" style='display:inline'><thead>    <tr>        <th class=\"blank level0\" ></th>        <th class=\"col_heading level0 col0\" >topic_31 @post_tag</th>    </tr></thead><tbody>\n",
       "                <tr>\n",
       "                        <th id=\"T_eefc84ca_0a1c_11ea_a6fb_107b449f15fclevel0_row0\" class=\"row_heading level0 row0\" >история_науки</th>\n",
       "                        <td id=\"T_eefc84ca_0a1c_11ea_a6fb_107b449f15fcrow0_col0\" class=\"data row0 col0\" >0.11834</td>\n",
       "            </tr>\n",
       "            <tr>\n",
       "                        <th id=\"T_eefc84ca_0a1c_11ea_a6fb_107b449f15fclevel0_row1\" class=\"row_heading level0 row1\" >мифология</th>\n",
       "                        <td id=\"T_eefc84ca_0a1c_11ea_a6fb_107b449f15fcrow1_col0\" class=\"data row1 col0\" >0.11329</td>\n",
       "            </tr>\n",
       "            <tr>\n",
       "                        <th id=\"T_eefc84ca_0a1c_11ea_a6fb_107b449f15fclevel0_row2\" class=\"row_heading level0 row2\" >древняя_греция</th>\n",
       "                        <td id=\"T_eefc84ca_0a1c_11ea_a6fb_107b449f15fcrow2_col0\" class=\"data row2 col0\" >0.08242</td>\n",
       "            </tr>\n",
       "            <tr>\n",
       "                        <th id=\"T_eefc84ca_0a1c_11ea_a6fb_107b449f15fclevel0_row3\" class=\"row_heading level0 row3\" >античность</th>\n",
       "                        <td id=\"T_eefc84ca_0a1c_11ea_a6fb_107b449f15fcrow3_col0\" class=\"data row3 col0\" >0.08236</td>\n",
       "            </tr>\n",
       "            <tr>\n",
       "                        <th id=\"T_eefc84ca_0a1c_11ea_a6fb_107b449f15fclevel0_row4\" class=\"row_heading level0 row4\" >миф</th>\n",
       "                        <td id=\"T_eefc84ca_0a1c_11ea_a6fb_107b449f15fcrow4_col0\" class=\"data row4 col0\" >0.07977</td>\n",
       "            </tr>\n",
       "            <tr>\n",
       "                        <th id=\"T_eefc84ca_0a1c_11ea_a6fb_107b449f15fclevel0_row5\" class=\"row_heading level0 row5\" >кант_иммануил</th>\n",
       "                        <td id=\"T_eefc84ca_0a1c_11ea_a6fb_107b449f15fcrow5_col0\" class=\"data row5 col0\" >0.07193</td>\n",
       "            </tr>\n",
       "            <tr>\n",
       "                        <th id=\"T_eefc84ca_0a1c_11ea_a6fb_107b449f15fclevel0_row6\" class=\"row_heading level0 row6\" >аристотель</th>\n",
       "                        <td id=\"T_eefc84ca_0a1c_11ea_a6fb_107b449f15fcrow6_col0\" class=\"data row6 col0\" >0.06428</td>\n",
       "            </tr>\n",
       "            <tr>\n",
       "                        <th id=\"T_eefc84ca_0a1c_11ea_a6fb_107b449f15fclevel0_row7\" class=\"row_heading level0 row7\" >платон</th>\n",
       "                        <td id=\"T_eefc84ca_0a1c_11ea_a6fb_107b449f15fcrow7_col0\" class=\"data row7 col0\" >0.06176</td>\n",
       "            </tr>\n",
       "            <tr>\n",
       "                        <th id=\"T_eefc84ca_0a1c_11ea_a6fb_107b449f15fclevel0_row8\" class=\"row_heading level0 row8\" >сократ</th>\n",
       "                        <td id=\"T_eefc84ca_0a1c_11ea_a6fb_107b449f15fcrow8_col0\" class=\"data row8 col0\" >0.03088</td>\n",
       "            </tr>\n",
       "            <tr>\n",
       "                        <th id=\"T_eefc84ca_0a1c_11ea_a6fb_107b449f15fclevel0_row9\" class=\"row_heading level0 row9\" >немецкая_классическая_философия</th>\n",
       "                        <td id=\"T_eefc84ca_0a1c_11ea_a6fb_107b449f15fcrow9_col0\" class=\"data row9 col0\" >0.0308</td>\n",
       "            </tr>\n",
       "    </tbody></table><style  type=\"text/css\" >\n",
       "</style><table id=\"T_eefc84cb_0a1c_11ea_a6fb_107b449f15fc\" style='display:inline'><thead>    <tr>        <th class=\"blank level0\" ></th>        <th class=\"col_heading level0 col0\" >topic_31 @word</th>    </tr></thead><tbody>\n",
       "                <tr>\n",
       "                        <th id=\"T_eefc84cb_0a1c_11ea_a6fb_107b449f15fclevel0_row0\" class=\"row_heading level0 row0\" >миф</th>\n",
       "                        <td id=\"T_eefc84cb_0a1c_11ea_a6fb_107b449f15fcrow0_col0\" class=\"data row0 col0\" >0.00943</td>\n",
       "            </tr>\n",
       "            <tr>\n",
       "                        <th id=\"T_eefc84cb_0a1c_11ea_a6fb_107b449f15fclevel0_row1\" class=\"row_heading level0 row1\" >аристотель</th>\n",
       "                        <td id=\"T_eefc84cb_0a1c_11ea_a6fb_107b449f15fcrow1_col0\" class=\"data row1 col0\" >0.0067</td>\n",
       "            </tr>\n",
       "            <tr>\n",
       "                        <th id=\"T_eefc84cb_0a1c_11ea_a6fb_107b449f15fclevel0_row2\" class=\"row_heading level0 row2\" >платон</th>\n",
       "                        <td id=\"T_eefc84cb_0a1c_11ea_a6fb_107b449f15fcrow2_col0\" class=\"data row2 col0\" >0.00624</td>\n",
       "            </tr>\n",
       "            <tr>\n",
       "                        <th id=\"T_eefc84cb_0a1c_11ea_a6fb_107b449f15fclevel0_row3\" class=\"row_heading level0 row3\" >философ</th>\n",
       "                        <td id=\"T_eefc84cb_0a1c_11ea_a6fb_107b449f15fcrow3_col0\" class=\"data row3 col0\" >0.00532</td>\n",
       "            </tr>\n",
       "            <tr>\n",
       "                        <th id=\"T_eefc84cb_0a1c_11ea_a6fb_107b449f15fclevel0_row4\" class=\"row_heading level0 row4\" >бог</th>\n",
       "                        <td id=\"T_eefc84cb_0a1c_11ea_a6fb_107b449f15fcrow4_col0\" class=\"data row4 col0\" >0.00527</td>\n",
       "            </tr>\n",
       "            <tr>\n",
       "                        <th id=\"T_eefc84cb_0a1c_11ea_a6fb_107b449f15fclevel0_row5\" class=\"row_heading level0 row5\" >философия</th>\n",
       "                        <td id=\"T_eefc84cb_0a1c_11ea_a6fb_107b449f15fcrow5_col0\" class=\"data row5 col0\" >0.00474</td>\n",
       "            </tr>\n",
       "            <tr>\n",
       "                        <th id=\"T_eefc84cb_0a1c_11ea_a6fb_107b449f15fclevel0_row6\" class=\"row_heading level0 row6\" >классика</th>\n",
       "                        <td id=\"T_eefc84cb_0a1c_11ea_a6fb_107b449f15fcrow6_col0\" class=\"data row6 col0\" >0.00454</td>\n",
       "            </tr>\n",
       "            <tr>\n",
       "                        <th id=\"T_eefc84cb_0a1c_11ea_a6fb_107b449f15fclevel0_row7\" class=\"row_heading level0 row7\" >представление</th>\n",
       "                        <td id=\"T_eefc84cb_0a1c_11ea_a6fb_107b449f15fcrow7_col0\" class=\"data row7 col0\" >0.00439</td>\n",
       "            </tr>\n",
       "            <tr>\n",
       "                        <th id=\"T_eefc84cb_0a1c_11ea_a6fb_107b449f15fclevel0_row8\" class=\"row_heading level0 row8\" >тирания</th>\n",
       "                        <td id=\"T_eefc84cb_0a1c_11ea_a6fb_107b449f15fcrow8_col0\" class=\"data row8 col0\" >0.00374</td>\n",
       "            </tr>\n",
       "            <tr>\n",
       "                        <th id=\"T_eefc84cb_0a1c_11ea_a6fb_107b449f15fclevel0_row9\" class=\"row_heading level0 row9\" >знание</th>\n",
       "                        <td id=\"T_eefc84cb_0a1c_11ea_a6fb_107b449f15fcrow9_col0\" class=\"data row9 col0\" >0.00373</td>\n",
       "            </tr>\n",
       "    </tbody></table>"
      ]
     },
     "metadata": {},
     "output_type": "display_data"
    },
    {
     "data": {
      "text/html": [
       "<b> эрос в античной культуре </b>"
      ]
     },
     "metadata": {},
     "output_type": "display_data"
    },
    {
     "data": {
      "text/html": [
       "<b> faqэрос в античной культуре </b>"
      ]
     },
     "metadata": {},
     "output_type": "display_data"
    },
    {
     "data": {
      "text/html": [
       "<b> немецкая классическая философия как понятие </b>"
      ]
     },
     "metadata": {},
     "output_type": "display_data"
    },
    {
     "data": {
      "text/html": [
       "<b> древнегреческие мифы о душе </b>"
      ]
     },
     "metadata": {},
     "output_type": "display_data"
    },
    {
     "data": {
      "text/html": [
       "<b> faqнемецкая классическая философия как понятие </b>"
      ]
     },
     "metadata": {},
     "output_type": "display_data"
    },
    {
     "data": {
      "text/html": [
       "<b> политическая философия эроса </b>"
      ]
     },
     "metadata": {},
     "output_type": "display_data"
    },
    {
     "data": {
      "text/html": [
       "<b> логика мифа </b>"
      ]
     },
     "metadata": {},
     "output_type": "display_data"
    },
    {
     "data": {
      "text/html": [
       "<b> категория пространства в мифе </b>"
      ]
     },
     "metadata": {},
     "output_type": "display_data"
    },
    {
     "data": {
      "text/html": [
       "<b> faqлогика мифа </b>"
      ]
     },
     "metadata": {},
     "output_type": "display_data"
    },
    {
     "data": {
      "text/html": [
       "<b> экономические взгляды сократа </b>"
      ]
     },
     "metadata": {},
     "output_type": "display_data"
    },
    {
     "data": {
      "text/html": [
       "<style  type=\"text/css\" >\n",
       "</style><table id=\"T_eefc84cc_0a1c_11ea_a6fb_107b449f15fc\" style='display:inline'><thead>    <tr>        <th class=\"blank level0\" ></th>        <th class=\"col_heading level0 col0\" >topic_32 @post_tag</th>    </tr></thead><tbody>\n",
       "                <tr>\n",
       "                        <th id=\"T_eefc84cc_0a1c_11ea_a6fb_107b449f15fclevel0_row0\" class=\"row_heading level0 row0\" >право</th>\n",
       "                        <td id=\"T_eefc84cc_0a1c_11ea_a6fb_107b449f15fcrow0_col0\" class=\"data row0 col0\" >0.21733</td>\n",
       "            </tr>\n",
       "            <tr>\n",
       "                        <th id=\"T_eefc84cc_0a1c_11ea_a6fb_107b449f15fclevel0_row1\" class=\"row_heading level0 row1\" >политическая_философия</th>\n",
       "                        <td id=\"T_eefc84cc_0a1c_11ea_a6fb_107b449f15fcrow1_col0\" class=\"data row1 col0\" >0.11109</td>\n",
       "            </tr>\n",
       "            <tr>\n",
       "                        <th id=\"T_eefc84cc_0a1c_11ea_a6fb_107b449f15fclevel0_row2\" class=\"row_heading level0 row2\" >юриспруденция</th>\n",
       "                        <td id=\"T_eefc84cc_0a1c_11ea_a6fb_107b449f15fcrow2_col0\" class=\"data row2 col0\" >0.1062</td>\n",
       "            </tr>\n",
       "            <tr>\n",
       "                        <th id=\"T_eefc84cc_0a1c_11ea_a6fb_107b449f15fclevel0_row3\" class=\"row_heading level0 row3\" >римское_право</th>\n",
       "                        <td id=\"T_eefc84cc_0a1c_11ea_a6fb_107b449f15fcrow3_col0\" class=\"data row3 col0\" >0.07839</td>\n",
       "            </tr>\n",
       "            <tr>\n",
       "                        <th id=\"T_eefc84cc_0a1c_11ea_a6fb_107b449f15fclevel0_row4\" class=\"row_heading level0 row4\" >власть</th>\n",
       "                        <td id=\"T_eefc84cc_0a1c_11ea_a6fb_107b449f15fcrow4_col0\" class=\"data row4 col0\" >0.07806</td>\n",
       "            </tr>\n",
       "            <tr>\n",
       "                        <th id=\"T_eefc84cc_0a1c_11ea_a6fb_107b449f15fclevel0_row5\" class=\"row_heading level0 row5\" >рим</th>\n",
       "                        <td id=\"T_eefc84cc_0a1c_11ea_a6fb_107b449f15fcrow5_col0\" class=\"data row5 col0\" >0.06559</td>\n",
       "            </tr>\n",
       "            <tr>\n",
       "                        <th id=\"T_eefc84cc_0a1c_11ea_a6fb_107b449f15fclevel0_row6\" class=\"row_heading level0 row6\" >социология_права</th>\n",
       "                        <td id=\"T_eefc84cc_0a1c_11ea_a6fb_107b449f15fcrow6_col0\" class=\"data row6 col0\" >0.04044</td>\n",
       "            </tr>\n",
       "            <tr>\n",
       "                        <th id=\"T_eefc84cc_0a1c_11ea_a6fb_107b449f15fclevel0_row7\" class=\"row_heading level0 row7\" >история_права</th>\n",
       "                        <td id=\"T_eefc84cc_0a1c_11ea_a6fb_107b449f15fcrow7_col0\" class=\"data row7 col0\" >0.03789</td>\n",
       "            </tr>\n",
       "            <tr>\n",
       "                        <th id=\"T_eefc84cc_0a1c_11ea_a6fb_107b449f15fclevel0_row8\" class=\"row_heading level0 row8\" >судопроизводство</th>\n",
       "                        <td id=\"T_eefc84cc_0a1c_11ea_a6fb_107b449f15fcrow8_col0\" class=\"data row8 col0\" >0.02275</td>\n",
       "            </tr>\n",
       "            <tr>\n",
       "                        <th id=\"T_eefc84cc_0a1c_11ea_a6fb_107b449f15fclevel0_row9\" class=\"row_heading level0 row9\" >политическая_теория</th>\n",
       "                        <td id=\"T_eefc84cc_0a1c_11ea_a6fb_107b449f15fcrow9_col0\" class=\"data row9 col0\" >0.02256</td>\n",
       "            </tr>\n",
       "    </tbody></table><style  type=\"text/css\" >\n",
       "</style><table id=\"T_eefc84cd_0a1c_11ea_a6fb_107b449f15fc\" style='display:inline'><thead>    <tr>        <th class=\"blank level0\" ></th>        <th class=\"col_heading level0 col0\" >topic_32 @word</th>    </tr></thead><tbody>\n",
       "                <tr>\n",
       "                        <th id=\"T_eefc84cd_0a1c_11ea_a6fb_107b449f15fclevel0_row0\" class=\"row_heading level0 row0\" >право</th>\n",
       "                        <td id=\"T_eefc84cd_0a1c_11ea_a6fb_107b449f15fcrow0_col0\" class=\"data row0 col0\" >0.03243</td>\n",
       "            </tr>\n",
       "            <tr>\n",
       "                        <th id=\"T_eefc84cd_0a1c_11ea_a6fb_107b449f15fclevel0_row1\" class=\"row_heading level0 row1\" >закон</th>\n",
       "                        <td id=\"T_eefc84cd_0a1c_11ea_a6fb_107b449f15fcrow1_col0\" class=\"data row1 col0\" >0.01336</td>\n",
       "            </tr>\n",
       "            <tr>\n",
       "                        <th id=\"T_eefc84cd_0a1c_11ea_a6fb_107b449f15fclevel0_row2\" class=\"row_heading level0 row2\" >суд</th>\n",
       "                        <td id=\"T_eefc84cd_0a1c_11ea_a6fb_107b449f15fcrow2_col0\" class=\"data row2 col0\" >0.00874</td>\n",
       "            </tr>\n",
       "            <tr>\n",
       "                        <th id=\"T_eefc84cd_0a1c_11ea_a6fb_107b449f15fclevel0_row3\" class=\"row_heading level0 row3\" >num</th>\n",
       "                        <td id=\"T_eefc84cd_0a1c_11ea_a6fb_107b449f15fcrow3_col0\" class=\"data row3 col0\" >0.00753</td>\n",
       "            </tr>\n",
       "            <tr>\n",
       "                        <th id=\"T_eefc84cd_0a1c_11ea_a6fb_107b449f15fclevel0_row4\" class=\"row_heading level0 row4\" >pcourse</th>\n",
       "                        <td id=\"T_eefc84cd_0a1c_11ea_a6fb_107b449f15fcrow4_col0\" class=\"data row4 col0\" >0.00732</td>\n",
       "            </tr>\n",
       "            <tr>\n",
       "                        <th id=\"T_eefc84cd_0a1c_11ea_a6fb_107b449f15fclevel0_row5\" class=\"row_heading level0 row5\" >юрист</th>\n",
       "                        <td id=\"T_eefc84cd_0a1c_11ea_a6fb_107b449f15fcrow5_col0\" class=\"data row5 col0\" >0.0069</td>\n",
       "            </tr>\n",
       "            <tr>\n",
       "                        <th id=\"T_eefc84cd_0a1c_11ea_a6fb_107b449f15fclevel0_row6\" class=\"row_heading level0 row6\" >правовой</th>\n",
       "                        <td id=\"T_eefc84cd_0a1c_11ea_a6fb_107b449f15fcrow6_col0\" class=\"data row6 col0\" >0.00688</td>\n",
       "            </tr>\n",
       "            <tr>\n",
       "                        <th id=\"T_eefc84cd_0a1c_11ea_a6fb_107b449f15fclevel0_row7\" class=\"row_heading level0 row7\" >судья</th>\n",
       "                        <td id=\"T_eefc84cd_0a1c_11ea_a6fb_107b449f15fcrow7_col0\" class=\"data row7 col0\" >0.00617</td>\n",
       "            </tr>\n",
       "            <tr>\n",
       "                        <th id=\"T_eefc84cd_0a1c_11ea_a6fb_107b449f15fclevel0_row8\" class=\"row_heading level0 row8\" >власть</th>\n",
       "                        <td id=\"T_eefc84cd_0a1c_11ea_a6fb_107b449f15fcrow8_col0\" class=\"data row8 col0\" >0.00542</td>\n",
       "            </tr>\n",
       "            <tr>\n",
       "                        <th id=\"T_eefc84cd_0a1c_11ea_a6fb_107b449f15fclevel0_row9\" class=\"row_heading level0 row9\" >отношение</th>\n",
       "                        <td id=\"T_eefc84cd_0a1c_11ea_a6fb_107b449f15fcrow9_col0\" class=\"data row9 col0\" >0.00464</td>\n",
       "            </tr>\n",
       "    </tbody></table>"
      ]
     },
     "metadata": {},
     "output_type": "display_data"
    },
    {
     "data": {
      "text/html": [
       "<b> лица </b>"
      ]
     },
     "metadata": {},
     "output_type": "display_data"
    },
    {
     "data": {
      "text/html": [
       "<b> обязательства </b>"
      ]
     },
     "metadata": {},
     "output_type": "display_data"
    },
    {
     "data": {
      "text/html": [
       "<b> римское право </b>"
      ]
     },
     "metadata": {},
     "output_type": "display_data"
    },
    {
     "data": {
      "text/html": [
       "<b> купля-продажа </b>"
      ]
     },
     "metadata": {},
     "output_type": "display_data"
    },
    {
     "data": {
      "text/html": [
       "<b> контракты </b>"
      ]
     },
     "metadata": {},
     "output_type": "display_data"
    },
    {
     "data": {
      "text/html": [
       "<b> европейская традиция частного права </b>"
      ]
     },
     "metadata": {},
     "output_type": "display_data"
    },
    {
     "data": {
      "text/html": [
       "<b> сервитуты </b>"
      ]
     },
     "metadata": {},
     "output_type": "display_data"
    },
    {
     "data": {
      "text/html": [
       "<b> приобретательная давность </b>"
      ]
     },
     "metadata": {},
     "output_type": "display_data"
    },
    {
     "data": {
      "text/html": [
       "<b> залог </b>"
      ]
     },
     "metadata": {},
     "output_type": "display_data"
    },
    {
     "data": {
      "text/html": [
       "<b> владение </b>"
      ]
     },
     "metadata": {},
     "output_type": "display_data"
    },
    {
     "data": {
      "text/html": [
       "<style  type=\"text/css\" >\n",
       "</style><table id=\"T_eefc84ce_0a1c_11ea_a6fb_107b449f15fc\" style='display:inline'><thead>    <tr>        <th class=\"blank level0\" ></th>        <th class=\"col_heading level0 col0\" >topic_33 @post_tag</th>    </tr></thead><tbody>\n",
       "                <tr>\n",
       "                        <th id=\"T_eefc84ce_0a1c_11ea_a6fb_107b449f15fclevel0_row0\" class=\"row_heading level0 row0\" >физика</th>\n",
       "                        <td id=\"T_eefc84ce_0a1c_11ea_a6fb_107b449f15fcrow0_col0\" class=\"data row0 col0\" >0.45792</td>\n",
       "            </tr>\n",
       "            <tr>\n",
       "                        <th id=\"T_eefc84ce_0a1c_11ea_a6fb_107b449f15fclevel0_row1\" class=\"row_heading level0 row1\" >квантовая_физика</th>\n",
       "                        <td id=\"T_eefc84ce_0a1c_11ea_a6fb_107b449f15fcrow1_col0\" class=\"data row1 col0\" >0.06931</td>\n",
       "            </tr>\n",
       "            <tr>\n",
       "                        <th id=\"T_eefc84ce_0a1c_11ea_a6fb_107b449f15fclevel0_row2\" class=\"row_heading level0 row2\" >атом</th>\n",
       "                        <td id=\"T_eefc84ce_0a1c_11ea_a6fb_107b449f15fcrow2_col0\" class=\"data row2 col0\" >0.04921</td>\n",
       "            </tr>\n",
       "            <tr>\n",
       "                        <th id=\"T_eefc84ce_0a1c_11ea_a6fb_107b449f15fclevel0_row3\" class=\"row_heading level0 row3\" >квантовая_механика</th>\n",
       "                        <td id=\"T_eefc84ce_0a1c_11ea_a6fb_107b449f15fcrow3_col0\" class=\"data row3 col0\" >0.03757</td>\n",
       "            </tr>\n",
       "            <tr>\n",
       "                        <th id=\"T_eefc84ce_0a1c_11ea_a6fb_107b449f15fclevel0_row4\" class=\"row_heading level0 row4\" >магнитное_поле</th>\n",
       "                        <td id=\"T_eefc84ce_0a1c_11ea_a6fb_107b449f15fcrow4_col0\" class=\"data row4 col0\" >0.03512</td>\n",
       "            </tr>\n",
       "            <tr>\n",
       "                        <th id=\"T_eefc84ce_0a1c_11ea_a6fb_107b449f15fclevel0_row5\" class=\"row_heading level0 row5\" >электрон</th>\n",
       "                        <td id=\"T_eefc84ce_0a1c_11ea_a6fb_107b449f15fcrow5_col0\" class=\"data row5 col0\" >0.03396</td>\n",
       "            </tr>\n",
       "            <tr>\n",
       "                        <th id=\"T_eefc84ce_0a1c_11ea_a6fb_107b449f15fclevel0_row6\" class=\"row_heading level0 row6\" >фотоны</th>\n",
       "                        <td id=\"T_eefc84ce_0a1c_11ea_a6fb_107b449f15fcrow6_col0\" class=\"data row6 col0\" >0.03167</td>\n",
       "            </tr>\n",
       "            <tr>\n",
       "                        <th id=\"T_eefc84ce_0a1c_11ea_a6fb_107b449f15fclevel0_row7\" class=\"row_heading level0 row7\" >квантовые_технологии</th>\n",
       "                        <td id=\"T_eefc84ce_0a1c_11ea_a6fb_107b449f15fcrow7_col0\" class=\"data row7 col0\" >0.02937</td>\n",
       "            </tr>\n",
       "            <tr>\n",
       "                        <th id=\"T_eefc84ce_0a1c_11ea_a6fb_107b449f15fclevel0_row8\" class=\"row_heading level0 row8\" >оптика</th>\n",
       "                        <td id=\"T_eefc84ce_0a1c_11ea_a6fb_107b449f15fcrow8_col0\" class=\"data row8 col0\" >0.02585</td>\n",
       "            </tr>\n",
       "            <tr>\n",
       "                        <th id=\"T_eefc84ce_0a1c_11ea_a6fb_107b449f15fclevel0_row9\" class=\"row_heading level0 row9\" >лазер</th>\n",
       "                        <td id=\"T_eefc84ce_0a1c_11ea_a6fb_107b449f15fcrow9_col0\" class=\"data row9 col0\" >0.0235</td>\n",
       "            </tr>\n",
       "    </tbody></table><style  type=\"text/css\" >\n",
       "</style><table id=\"T_eefc84cf_0a1c_11ea_a6fb_107b449f15fc\" style='display:inline'><thead>    <tr>        <th class=\"blank level0\" ></th>        <th class=\"col_heading level0 col0\" >topic_33 @word</th>    </tr></thead><tbody>\n",
       "                <tr>\n",
       "                        <th id=\"T_eefc84cf_0a1c_11ea_a6fb_107b449f15fclevel0_row0\" class=\"row_heading level0 row0\" >атом</th>\n",
       "                        <td id=\"T_eefc84cf_0a1c_11ea_a6fb_107b449f15fcrow0_col0\" class=\"data row0 col0\" >0.01218</td>\n",
       "            </tr>\n",
       "            <tr>\n",
       "                        <th id=\"T_eefc84cf_0a1c_11ea_a6fb_107b449f15fclevel0_row1\" class=\"row_heading level0 row1\" >электрон</th>\n",
       "                        <td id=\"T_eefc84cf_0a1c_11ea_a6fb_107b449f15fcrow1_col0\" class=\"data row1 col0\" >0.01043</td>\n",
       "            </tr>\n",
       "            <tr>\n",
       "                        <th id=\"T_eefc84cf_0a1c_11ea_a6fb_107b449f15fclevel0_row2\" class=\"row_heading level0 row2\" >фотон</th>\n",
       "                        <td id=\"T_eefc84cf_0a1c_11ea_a6fb_107b449f15fcrow2_col0\" class=\"data row2 col0\" >0.00896</td>\n",
       "            </tr>\n",
       "            <tr>\n",
       "                        <th id=\"T_eefc84cf_0a1c_11ea_a6fb_107b449f15fclevel0_row3\" class=\"row_heading level0 row3\" >свет</th>\n",
       "                        <td id=\"T_eefc84cf_0a1c_11ea_a6fb_107b449f15fcrow3_col0\" class=\"data row3 col0\" >0.00768</td>\n",
       "            </tr>\n",
       "            <tr>\n",
       "                        <th id=\"T_eefc84cf_0a1c_11ea_a6fb_107b449f15fclevel0_row4\" class=\"row_heading level0 row4\" >система</th>\n",
       "                        <td id=\"T_eefc84cf_0a1c_11ea_a6fb_107b449f15fcrow4_col0\" class=\"data row4 col0\" >0.00705</td>\n",
       "            </tr>\n",
       "            <tr>\n",
       "                        <th id=\"T_eefc84cf_0a1c_11ea_a6fb_107b449f15fclevel0_row5\" class=\"row_heading level0 row5\" >физик</th>\n",
       "                        <td id=\"T_eefc84cf_0a1c_11ea_a6fb_107b449f15fcrow5_col0\" class=\"data row5 col0\" >0.00584</td>\n",
       "            </tr>\n",
       "            <tr>\n",
       "                        <th id=\"T_eefc84cf_0a1c_11ea_a6fb_107b449f15fclevel0_row6\" class=\"row_heading level0 row6\" >физика</th>\n",
       "                        <td id=\"T_eefc84cf_0a1c_11ea_a6fb_107b449f15fcrow6_col0\" class=\"data row6 col0\" >0.00582</td>\n",
       "            </tr>\n",
       "            <tr>\n",
       "                        <th id=\"T_eefc84cf_0a1c_11ea_a6fb_107b449f15fclevel0_row7\" class=\"row_heading level0 row7\" >квантовый</th>\n",
       "                        <td id=\"T_eefc84cf_0a1c_11ea_a6fb_107b449f15fcrow7_col0\" class=\"data row7 col0\" >0.00562</td>\n",
       "            </tr>\n",
       "            <tr>\n",
       "                        <th id=\"T_eefc84cf_0a1c_11ea_a6fb_107b449f15fclevel0_row8\" class=\"row_heading level0 row8\" >теория</th>\n",
       "                        <td id=\"T_eefc84cf_0a1c_11ea_a6fb_107b449f15fcrow8_col0\" class=\"data row8 col0\" >0.00557</td>\n",
       "            </tr>\n",
       "            <tr>\n",
       "                        <th id=\"T_eefc84cf_0a1c_11ea_a6fb_107b449f15fclevel0_row9\" class=\"row_heading level0 row9\" >использовать</th>\n",
       "                        <td id=\"T_eefc84cf_0a1c_11ea_a6fb_107b449f15fcrow9_col0\" class=\"data row9 col0\" >0.00539</td>\n",
       "            </tr>\n",
       "    </tbody></table>"
      ]
     },
     "metadata": {},
     "output_type": "display_data"
    },
    {
     "data": {
      "text/html": [
       "<b> диалогиуправление светом с помощью плазмонов </b>"
      ]
     },
     "metadata": {},
     "output_type": "display_data"
    },
    {
     "data": {
      "text/html": [
       "<b> гигантское магнетосопротивление </b>"
      ]
     },
     "metadata": {},
     "output_type": "display_data"
    },
    {
     "data": {
      "text/html": [
       "<b> магнитная динамика наносистем </b>"
      ]
     },
     "metadata": {},
     "output_type": "display_data"
    },
    {
     "data": {
      "text/html": [
       "<b> квантовый компьютер </b>"
      ]
     },
     "metadata": {},
     "output_type": "display_data"
    },
    {
     "data": {
      "text/html": [
       "<b> аттосекундная физика </b>"
      ]
     },
     "metadata": {},
     "output_type": "display_data"
    },
    {
     "data": {
      "text/html": [
       "<b> перераспределительное лазерное охлаждение </b>"
      ]
     },
     "metadata": {},
     "output_type": "display_data"
    },
    {
     "data": {
      "text/html": [
       "<b> квантовые интерфейсы </b>"
      ]
     },
     "metadata": {},
     "output_type": "display_data"
    },
    {
     "data": {
      "text/html": [
       "<b> спинтроника </b>"
      ]
     },
     "metadata": {},
     "output_type": "display_data"
    },
    {
     "data": {
      "text/html": [
       "<b> у атомов обнаружили суперпозицию траекторий движения </b>"
      ]
     },
     "metadata": {},
     "output_type": "display_data"
    },
    {
     "data": {
      "text/html": [
       "<b> лазерное детектирование радиоволн </b>"
      ]
     },
     "metadata": {},
     "output_type": "display_data"
    },
    {
     "data": {
      "text/html": [
       "<style  type=\"text/css\" >\n",
       "</style><table id=\"T_eefc84d0_0a1c_11ea_a6fb_107b449f15fc\" style='display:inline'><thead>    <tr>        <th class=\"blank level0\" ></th>        <th class=\"col_heading level0 col0\" >topic_34 @post_tag</th>    </tr></thead><tbody>\n",
       "                <tr>\n",
       "                        <th id=\"T_eefc84d0_0a1c_11ea_a6fb_107b449f15fclevel0_row0\" class=\"row_heading level0 row0\" >история</th>\n",
       "                        <td id=\"T_eefc84d0_0a1c_11ea_a6fb_107b449f15fcrow0_col0\" class=\"data row0 col0\" >0.59092</td>\n",
       "            </tr>\n",
       "            <tr>\n",
       "                        <th id=\"T_eefc84d0_0a1c_11ea_a6fb_107b449f15fclevel0_row1\" class=\"row_heading level0 row1\" >история_россии</th>\n",
       "                        <td id=\"T_eefc84d0_0a1c_11ea_a6fb_107b449f15fcrow1_col0\" class=\"data row1 col0\" >0.11548</td>\n",
       "            </tr>\n",
       "            <tr>\n",
       "                        <th id=\"T_eefc84d0_0a1c_11ea_a6fb_107b449f15fclevel0_row2\" class=\"row_heading level0 row2\" >ссср</th>\n",
       "                        <td id=\"T_eefc84d0_0a1c_11ea_a6fb_107b449f15fcrow2_col0\" class=\"data row2 col0\" >0.09634</td>\n",
       "            </tr>\n",
       "            <tr>\n",
       "                        <th id=\"T_eefc84d0_0a1c_11ea_a6fb_107b449f15fclevel0_row3\" class=\"row_heading level0 row3\" >русь</th>\n",
       "                        <td id=\"T_eefc84d0_0a1c_11ea_a6fb_107b449f15fcrow3_col0\" class=\"data row3 col0\" >0.02768</td>\n",
       "            </tr>\n",
       "            <tr>\n",
       "                        <th id=\"T_eefc84d0_0a1c_11ea_a6fb_107b449f15fclevel0_row4\" class=\"row_heading level0 row4\" >историография</th>\n",
       "                        <td id=\"T_eefc84d0_0a1c_11ea_a6fb_107b449f15fcrow4_col0\" class=\"data row4 col0\" >0.02325</td>\n",
       "            </tr>\n",
       "            <tr>\n",
       "                        <th id=\"T_eefc84d0_0a1c_11ea_a6fb_107b449f15fclevel0_row5\" class=\"row_heading level0 row5\" >сталин_иосиф</th>\n",
       "                        <td id=\"T_eefc84d0_0a1c_11ea_a6fb_107b449f15fcrow5_col0\" class=\"data row5 col0\" >0.02011</td>\n",
       "            </tr>\n",
       "            <tr>\n",
       "                        <th id=\"T_eefc84d0_0a1c_11ea_a6fb_107b449f15fclevel0_row6\" class=\"row_heading level0 row6\" >терроризм</th>\n",
       "                        <td id=\"T_eefc84d0_0a1c_11ea_a6fb_107b449f15fcrow6_col0\" class=\"data row6 col0\" >0.00972</td>\n",
       "            </tr>\n",
       "            <tr>\n",
       "                        <th id=\"T_eefc84d0_0a1c_11ea_a6fb_107b449f15fclevel0_row7\" class=\"row_heading level0 row7\" >екатерина_ii</th>\n",
       "                        <td id=\"T_eefc84d0_0a1c_11ea_a6fb_107b449f15fcrow7_col0\" class=\"data row7 col0\" >0.00945</td>\n",
       "            </tr>\n",
       "            <tr>\n",
       "                        <th id=\"T_eefc84d0_0a1c_11ea_a6fb_107b449f15fclevel0_row8\" class=\"row_heading level0 row8\" >рюриковичи</th>\n",
       "                        <td id=\"T_eefc84d0_0a1c_11ea_a6fb_107b449f15fcrow8_col0\" class=\"data row8 col0\" >0.00844</td>\n",
       "            </tr>\n",
       "            <tr>\n",
       "                        <th id=\"T_eefc84d0_0a1c_11ea_a6fb_107b449f15fclevel0_row9\" class=\"row_heading level0 row9\" >великая_отечественная_война</th>\n",
       "                        <td id=\"T_eefc84d0_0a1c_11ea_a6fb_107b449f15fcrow9_col0\" class=\"data row9 col0\" >0.00842</td>\n",
       "            </tr>\n",
       "    </tbody></table><style  type=\"text/css\" >\n",
       "</style><table id=\"T_eefc84d1_0a1c_11ea_a6fb_107b449f15fc\" style='display:inline'><thead>    <tr>        <th class=\"blank level0\" ></th>        <th class=\"col_heading level0 col0\" >topic_34 @word</th>    </tr></thead><tbody>\n",
       "                <tr>\n",
       "                        <th id=\"T_eefc84d1_0a1c_11ea_a6fb_107b449f15fclevel0_row0\" class=\"row_heading level0 row0\" >история</th>\n",
       "                        <td id=\"T_eefc84d1_0a1c_11ea_a6fb_107b449f15fcrow0_col0\" class=\"data row0 col0\" >0.01395</td>\n",
       "            </tr>\n",
       "            <tr>\n",
       "                        <th id=\"T_eefc84d1_0a1c_11ea_a6fb_107b449f15fclevel0_row1\" class=\"row_heading level0 row1\" >имя</th>\n",
       "                        <td id=\"T_eefc84d1_0a1c_11ea_a6fb_107b449f15fcrow1_col0\" class=\"data row1 col0\" >0.00796</td>\n",
       "            </tr>\n",
       "            <tr>\n",
       "                        <th id=\"T_eefc84d1_0a1c_11ea_a6fb_107b449f15fclevel0_row2\" class=\"row_heading level0 row2\" >историк</th>\n",
       "                        <td id=\"T_eefc84d1_0a1c_11ea_a6fb_107b449f15fcrow2_col0\" class=\"data row2 col0\" >0.00712</td>\n",
       "            </tr>\n",
       "            <tr>\n",
       "                        <th id=\"T_eefc84d1_0a1c_11ea_a6fb_107b449f15fclevel0_row3\" class=\"row_heading level0 row3\" >сталин</th>\n",
       "                        <td id=\"T_eefc84d1_0a1c_11ea_a6fb_107b449f15fcrow3_col0\" class=\"data row3 col0\" >0.00561</td>\n",
       "            </tr>\n",
       "            <tr>\n",
       "                        <th id=\"T_eefc84d1_0a1c_11ea_a6fb_107b449f15fclevel0_row4\" class=\"row_heading level0 row4\" >война</th>\n",
       "                        <td id=\"T_eefc84d1_0a1c_11ea_a6fb_107b449f15fcrow4_col0\" class=\"data row4 col0\" >0.00492</td>\n",
       "            </tr>\n",
       "            <tr>\n",
       "                        <th id=\"T_eefc84d1_0a1c_11ea_a6fb_107b449f15fclevel0_row5\" class=\"row_heading level0 row5\" >власть</th>\n",
       "                        <td id=\"T_eefc84d1_0a1c_11ea_a6fb_107b449f15fcrow5_col0\" class=\"data row5 col0\" >0.00489</td>\n",
       "            </tr>\n",
       "            <tr>\n",
       "                        <th id=\"T_eefc84d1_0a1c_11ea_a6fb_107b449f15fclevel0_row6\" class=\"row_heading level0 row6\" >период</th>\n",
       "                        <td id=\"T_eefc84d1_0a1c_11ea_a6fb_107b449f15fcrow6_col0\" class=\"data row6 col0\" >0.00415</td>\n",
       "            </tr>\n",
       "            <tr>\n",
       "                        <th id=\"T_eefc84d1_0a1c_11ea_a6fb_107b449f15fclevel0_row7\" class=\"row_heading level0 row7\" >советский</th>\n",
       "                        <td id=\"T_eefc84d1_0a1c_11ea_a6fb_107b449f15fcrow7_col0\" class=\"data row7 col0\" >0.00383</td>\n",
       "            </tr>\n",
       "            <tr>\n",
       "                        <th id=\"T_eefc84d1_0a1c_11ea_a6fb_107b449f15fclevel0_row8\" class=\"row_heading level0 row8\" >государство</th>\n",
       "                        <td id=\"T_eefc84d1_0a1c_11ea_a6fb_107b449f15fcrow8_col0\" class=\"data row8 col0\" >0.00366</td>\n",
       "            </tr>\n",
       "            <tr>\n",
       "                        <th id=\"T_eefc84d1_0a1c_11ea_a6fb_107b449f15fclevel0_row9\" class=\"row_heading level0 row9\" >страна</th>\n",
       "                        <td id=\"T_eefc84d1_0a1c_11ea_a6fb_107b449f15fcrow9_col0\" class=\"data row9 col0\" >0.00353</td>\n",
       "            </tr>\n",
       "    </tbody></table>"
      ]
     },
     "metadata": {},
     "output_type": "display_data"
    },
    {
     "data": {
      "text/html": [
       "<b> кризис на рубеже первой и второй пятилеток </b>"
      ]
     },
     "metadata": {},
     "output_type": "display_data"
    },
    {
     "data": {
      "text/html": [
       "<b> эпоха ярослава мудрого </b>"
      ]
     },
     "metadata": {},
     "output_type": "display_data"
    },
    {
     "data": {
      "text/html": [
       "<b> лжедмитрий i </b>"
      ]
     },
     "metadata": {},
     "output_type": "display_data"
    },
    {
     "data": {
      "text/html": [
       "<b> большой террор </b>"
      ]
     },
     "metadata": {},
     "output_type": "display_data"
    },
    {
     "data": {
      "text/html": [
       "<b> ледовое побоище </b>"
      ]
     },
     "metadata": {},
     "output_type": "display_data"
    },
    {
     "data": {
      "text/html": [
       "<b> главыавторские тексты сталина </b>"
      ]
     },
     "metadata": {},
     "output_type": "display_data"
    },
    {
     "data": {
      "text/html": [
       "<b> повесть временных лет </b>"
      ]
     },
     "metadata": {},
     "output_type": "display_data"
    },
    {
     "data": {
      "text/html": [
       "<b> коллективизация </b>"
      ]
     },
     "metadata": {},
     "output_type": "display_data"
    },
    {
     "data": {
      "text/html": [
       "<b> переписка ивана грозного с андреем курбским </b>"
      ]
     },
     "metadata": {},
     "output_type": "display_data"
    },
    {
     "data": {
      "text/html": [
       "<b> «сталин, коба и сосо. молодой сталин в исторических источниках» </b>"
      ]
     },
     "metadata": {},
     "output_type": "display_data"
    },
    {
     "data": {
      "text/html": [
       "<style  type=\"text/css\" >\n",
       "</style><table id=\"T_eefc84d2_0a1c_11ea_a6fb_107b449f15fc\" style='display:inline'><thead>    <tr>        <th class=\"blank level0\" ></th>        <th class=\"col_heading level0 col0\" >bcg_35 @post_tag</th>    </tr></thead><tbody>\n",
       "                <tr>\n",
       "                        <th id=\"T_eefc84d2_0a1c_11ea_a6fb_107b449f15fclevel0_row0\" class=\"row_heading level0 row0\" >культура</th>\n",
       "                        <td id=\"T_eefc84d2_0a1c_11ea_a6fb_107b449f15fcrow0_col0\" class=\"data row0 col0\" >0.59069</td>\n",
       "            </tr>\n",
       "            <tr>\n",
       "                        <th id=\"T_eefc84d2_0a1c_11ea_a6fb_107b449f15fclevel0_row1\" class=\"row_heading level0 row1\" >общество</th>\n",
       "                        <td id=\"T_eefc84d2_0a1c_11ea_a6fb_107b449f15fcrow1_col0\" class=\"data row1 col0\" >0.31058</td>\n",
       "            </tr>\n",
       "            <tr>\n",
       "                        <th id=\"T_eefc84d2_0a1c_11ea_a6fb_107b449f15fclevel0_row2\" class=\"row_heading level0 row2\" >культурология</th>\n",
       "                        <td id=\"T_eefc84d2_0a1c_11ea_a6fb_107b449f15fcrow2_col0\" class=\"data row2 col0\" >0.03659</td>\n",
       "            </tr>\n",
       "            <tr>\n",
       "                        <th id=\"T_eefc84d2_0a1c_11ea_a6fb_107b449f15fclevel0_row3\" class=\"row_heading level0 row3\" >медиа</th>\n",
       "                        <td id=\"T_eefc84d2_0a1c_11ea_a6fb_107b449f15fcrow3_col0\" class=\"data row3 col0\" >0.01904</td>\n",
       "            </tr>\n",
       "            <tr>\n",
       "                        <th id=\"T_eefc84d2_0a1c_11ea_a6fb_107b449f15fclevel0_row4\" class=\"row_heading level0 row4\" >психоанализ</th>\n",
       "                        <td id=\"T_eefc84d2_0a1c_11ea_a6fb_107b449f15fcrow4_col0\" class=\"data row4 col0\" >0.01521</td>\n",
       "            </tr>\n",
       "            <tr>\n",
       "                        <th id=\"T_eefc84d2_0a1c_11ea_a6fb_107b449f15fclevel0_row5\" class=\"row_heading level0 row5\" >фрейд_зигмунд</th>\n",
       "                        <td id=\"T_eefc84d2_0a1c_11ea_a6fb_107b449f15fcrow5_col0\" class=\"data row5 col0\" >0.01063</td>\n",
       "            </tr>\n",
       "            <tr>\n",
       "                        <th id=\"T_eefc84d2_0a1c_11ea_a6fb_107b449f15fclevel0_row6\" class=\"row_heading level0 row6\" >библиотека</th>\n",
       "                        <td id=\"T_eefc84d2_0a1c_11ea_a6fb_107b449f15fcrow6_col0\" class=\"data row6 col0\" >0.00852</td>\n",
       "            </tr>\n",
       "            <tr>\n",
       "                        <th id=\"T_eefc84d2_0a1c_11ea_a6fb_107b449f15fclevel0_row7\" class=\"row_heading level0 row7\" >культурсоциология</th>\n",
       "                        <td id=\"T_eefc84d2_0a1c_11ea_a6fb_107b449f15fcrow7_col0\" class=\"data row7 col0\" >0.00486</td>\n",
       "            </tr>\n",
       "            <tr>\n",
       "                        <th id=\"T_eefc84d2_0a1c_11ea_a6fb_107b449f15fclevel0_row8\" class=\"row_heading level0 row8\" >режиссура</th>\n",
       "                        <td id=\"T_eefc84d2_0a1c_11ea_a6fb_107b449f15fcrow8_col0\" class=\"data row8 col0\" >0.00388</td>\n",
       "            </tr>\n",
       "    </tbody></table><style  type=\"text/css\" >\n",
       "</style><table id=\"T_eefc84d3_0a1c_11ea_a6fb_107b449f15fc\" style='display:inline'><thead>    <tr>        <th class=\"blank level0\" ></th>        <th class=\"col_heading level0 col0\" >bcg_35 @word</th>    </tr></thead><tbody>\n",
       "                <tr>\n",
       "                        <th id=\"T_eefc84d3_0a1c_11ea_a6fb_107b449f15fclevel0_row0\" class=\"row_heading level0 row0\" >являться</th>\n",
       "                        <td id=\"T_eefc84d3_0a1c_11ea_a6fb_107b449f15fcrow0_col0\" class=\"data row0 col0\" >0.02333</td>\n",
       "            </tr>\n",
       "            <tr>\n",
       "                        <th id=\"T_eefc84d3_0a1c_11ea_a6fb_107b449f15fclevel0_row1\" class=\"row_heading level0 row1\" >говорить</th>\n",
       "                        <td id=\"T_eefc84d3_0a1c_11ea_a6fb_107b449f15fcrow1_col0\" class=\"data row1 col0\" >0.02246</td>\n",
       "            </tr>\n",
       "            <tr>\n",
       "                        <th id=\"T_eefc84d3_0a1c_11ea_a6fb_107b449f15fclevel0_row2\" class=\"row_heading level0 row2\" >образ</th>\n",
       "                        <td id=\"T_eefc84d3_0a1c_11ea_a6fb_107b449f15fcrow2_col0\" class=\"data row2 col0\" >0.02174</td>\n",
       "            </tr>\n",
       "            <tr>\n",
       "                        <th id=\"T_eefc84d3_0a1c_11ea_a6fb_107b449f15fclevel0_row3\" class=\"row_heading level0 row3\" >большой</th>\n",
       "                        <td id=\"T_eefc84d3_0a1c_11ea_a6fb_107b449f15fcrow3_col0\" class=\"data row3 col0\" >0.02094</td>\n",
       "            </tr>\n",
       "            <tr>\n",
       "                        <th id=\"T_eefc84d3_0a1c_11ea_a6fb_107b449f15fclevel0_row4\" class=\"row_heading level0 row4\" >должный</th>\n",
       "                        <td id=\"T_eefc84d3_0a1c_11ea_a6fb_107b449f15fcrow4_col0\" class=\"data row4 col0\" >0.02001</td>\n",
       "            </tr>\n",
       "            <tr>\n",
       "                        <th id=\"T_eefc84d3_0a1c_11ea_a6fb_107b449f15fclevel0_row5\" class=\"row_heading level0 row5\" >существовать</th>\n",
       "                        <td id=\"T_eefc84d3_0a1c_11ea_a6fb_107b449f15fcrow5_col0\" class=\"data row5 col0\" >0.01955</td>\n",
       "            </tr>\n",
       "            <tr>\n",
       "                        <th id=\"T_eefc84d3_0a1c_11ea_a6fb_107b449f15fclevel0_row6\" class=\"row_heading level0 row6\" >книга</th>\n",
       "                        <td id=\"T_eefc84d3_0a1c_11ea_a6fb_107b449f15fcrow6_col0\" class=\"data row6 col0\" >0.01949</td>\n",
       "            </tr>\n",
       "            <tr>\n",
       "                        <th id=\"T_eefc84d3_0a1c_11ea_a6fb_107b449f15fclevel0_row7\" class=\"row_heading level0 row7\" >сторона</th>\n",
       "                        <td id=\"T_eefc84d3_0a1c_11ea_a6fb_107b449f15fcrow7_col0\" class=\"data row7 col0\" >0.0185</td>\n",
       "            </tr>\n",
       "            <tr>\n",
       "                        <th id=\"T_eefc84d3_0a1c_11ea_a6fb_107b449f15fclevel0_row8\" class=\"row_heading level0 row8\" >стать</th>\n",
       "                        <td id=\"T_eefc84d3_0a1c_11ea_a6fb_107b449f15fcrow8_col0\" class=\"data row8 col0\" >0.01841</td>\n",
       "            </tr>\n",
       "            <tr>\n",
       "                        <th id=\"T_eefc84d3_0a1c_11ea_a6fb_107b449f15fclevel0_row9\" class=\"row_heading level0 row9\" >работа</th>\n",
       "                        <td id=\"T_eefc84d3_0a1c_11ea_a6fb_107b449f15fcrow9_col0\" class=\"data row9 col0\" >0.01718</td>\n",
       "            </tr>\n",
       "    </tbody></table>"
      ]
     },
     "metadata": {},
     "output_type": "display_data"
    },
    {
     "data": {
      "text/html": [
       "<b> экономика обмана </b>"
      ]
     },
     "metadata": {},
     "output_type": "display_data"
    },
    {
     "data": {
      "text/html": [
       "<b> трансформация детства </b>"
      ]
     },
     "metadata": {},
     "output_type": "display_data"
    },
    {
     "data": {
      "text/html": [
       "<b> как новые медиа изменили наш мир? </b>"
      ]
     },
     "metadata": {},
     "output_type": "display_data"
    },
    {
     "data": {
      "text/html": [
       "<b> какой должна быть современная библиотека? </b>"
      ]
     },
     "metadata": {},
     "output_type": "display_data"
    },
    {
     "data": {
      "text/html": [
       "<b> почему в россии мало изданий о популярной культуре? </b>"
      ]
     },
     "metadata": {},
     "output_type": "display_data"
    },
    {
     "data": {
      "text/html": [
       "<b> городское пространство в цифровую эпоху </b>"
      ]
     },
     "metadata": {},
     "output_type": "display_data"
    },
    {
     "data": {
      "text/html": [
       "<b> историческая травма как культурное явление </b>"
      ]
     },
     "metadata": {},
     "output_type": "display_data"
    },
    {
     "data": {
      "text/html": [
       "<b> культура справедливости </b>"
      ]
     },
     "metadata": {},
     "output_type": "display_data"
    },
    {
     "data": {
      "text/html": [
       "<b> институт варбурга </b>"
      ]
     },
     "metadata": {},
     "output_type": "display_data"
    },
    {
     "data": {
      "text/html": [
       "<b> универсализм прав человека </b>"
      ]
     },
     "metadata": {},
     "output_type": "display_data"
    }
   ],
   "source": [
    "n=7\n",
    "for line, topic_docs in list(zip(first_model_html, first_model_top_doc))[-n:]:\n",
    "    display_html(line, raw=True)\n",
    "    for doc_id in topic_docs:\n",
    "        doc_vw = demo_data.get_vw_document(doc_id).values[0][0]\n",
    "        doc_title = get_modality_vw(doc_vw, \"@title\")\n",
    "        doc_snippet = get_modality_vw(doc_vw, \"@snippet\")\n",
    "        display_html(f\"<b>{doc_title}</b>\", raw=True)"
   ]
  },
  {
   "cell_type": "code",
   "execution_count": 17,
   "metadata": {},
   "outputs": [
    {
     "name": "stdout",
     "output_type": "stream",
     "text": [
      "2829.txt\n"
     ]
    }
   ],
   "source": [
    "print(doc_id)"
   ]
  },
  {
   "cell_type": "code",
   "execution_count": 18,
   "metadata": {},
   "outputs": [],
   "source": [
    "from topicnet.viewers import TopSimilarDocumentsViewer"
   ]
  },
  {
   "cell_type": "code",
   "execution_count": 19,
   "metadata": {},
   "outputs": [],
   "source": [
    "tsdv = TopSimilarDocumentsViewer(best_model, dataset)"
   ]
  },
  {
   "cell_type": "code",
   "execution_count": 20,
   "metadata": {},
   "outputs": [
    {
     "name": "stdout",
     "output_type": "stream",
     "text": [
      "['@title Феномен внезапности во Второй мировой войне | @snippet Историк Алексей Киличенков о геополитической ситуации накануне Второй мировой, польской разведке и авантюризме Гитлера\\n']\n"
     ]
    },
    {
     "data": {
      "text/html": [
       "<b>3172.txt</b><br />@title Русская эмиграция и Вторая мировая война | @snippet Историк Олег Будницкий о движении Сопротивления, коллаборационистах и издательской деятельности русских эмигрантов\n"
      ]
     },
     "metadata": {},
     "output_type": "display_data"
    },
    {
     "data": {
      "text/html": [
       "<b>263.txt</b><br />@title Автограф # «Свитки из пепла. Еврейская “зондеркоммандо” в Аушвице-Биркенау и ее летописцы» | @snippet Историк Павел Полян о главных документах Холокоста, членах зондеркоманды и осмыслении опыта концентрационных лагерей\n"
      ]
     },
     "metadata": {},
     "output_type": "display_data"
    },
    {
     "data": {
      "text/html": [
       "<b>2414.txt</b><br />@title Первая мировая война как война нового типа | @snippet Историк Илья Женин о новых типах оружия, отступлении российской армии и демистификации смерти\n"
      ]
     },
     "metadata": {},
     "output_type": "display_data"
    },
    {
     "data": {
      "text/html": [
       "<b>836.txt</b><br />@title Последствия Первой мировой войны | @snippet Историк Илья Женин о последних годах войны, Версальском мирном договоре и судьбе союзников Германии\n"
      ]
     },
     "metadata": {},
     "output_type": "display_data"
    },
    {
     "data": {
      "text/html": [
       "<b>2426.txt</b><br />@title Россия в контексте консервативной революции | @snippet Историк Илья Женин о понимании России через литературу, очищении большевистской революцией и Петербурге как декорации\n"
      ]
     },
     "metadata": {},
     "output_type": "display_data"
    },
    {
     "data": {
      "text/html": [
       "<b>1032.txt</b><br />@title «Зондеркоммандо» | @snippet Историк Павел Полян о лагерях смерти, зондеркоманде Аушвица и документах Холокоста\n"
      ]
     },
     "metadata": {},
     "output_type": "display_data"
    },
    {
     "data": {
      "text/html": [
       "<b>2315.txt</b><br />@title FAQ: Изобретение культурной политики | @snippet 7 фактов о первом министерстве культуры, политике СССР и мультикультурализме\n"
      ]
     },
     "metadata": {},
     "output_type": "display_data"
    },
    {
     "data": {
      "text/html": [
       "<b>2061.txt</b><br />@title Патриотическая риторика в годы Гражданской войны | @snippet Историк Людмила Новикова об антибольшевистском лагере, красной пропаганде и мифе об интервенции\n"
      ]
     },
     "metadata": {},
     "output_type": "display_data"
    },
    {
     "data": {
      "text/html": [
       "<b>2656.txt</b><br />@title Советская Бавария | @snippet Историк Александр Ватлин о феномене Второй Советской Баварской республики, мюнхенских коммунарах и военной пропаганде в мирное время\n"
      ]
     },
     "metadata": {},
     "output_type": "display_data"
    },
    {
     "data": {
      "text/html": [
       "<b>3233.txt</b><br />@title Папство и Россия: история дипломатических отношений | @snippet Как развивались отношения Москвы и Святого Престола и с какими проблемами им приходилось сталкиваться?\n"
      ]
     },
     "metadata": {},
     "output_type": "display_data"
    }
   ],
   "source": [
    "search_doc = '3384.txt'\n",
    "print(dataset.get_source_document(search_doc)['raw_text'].values)\n",
    "sim_docs, scores = tsdv.view(\n",
    "    search_doc,\n",
    "    metric='euclidean',\n",
    "    num_top_similar=10)\n",
    "for doc_id in sim_docs:\n",
    "    document = dataset.get_source_document(doc_id)\n",
    "    doc_title = document.index.values[0]\n",
    "    doc_snippet = '.'.join(document['raw_text'].values[0].split('.')[:3])\n",
    "    display_html(f\"<b>{doc_title}</b><br />{doc_snippet}\", raw=True)"
   ]
  }
 ],
 "metadata": {
  "kernelspec": {
   "display_name": "Python [conda env:root] *",
   "language": "python",
   "name": "conda-root-py"
  },
  "language_info": {
   "codemirror_mode": {
    "name": "ipython",
    "version": 3
   },
   "file_extension": ".py",
   "mimetype": "text/x-python",
   "name": "python",
   "nbconvert_exporter": "python",
   "pygments_lexer": "ipython3",
   "version": "3.6.9"
  }
 },
 "nbformat": 4,
 "nbformat_minor": 2
}
