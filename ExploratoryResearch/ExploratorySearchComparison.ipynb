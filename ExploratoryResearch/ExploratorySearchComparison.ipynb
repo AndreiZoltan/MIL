{
 "cells": [
  {
   "cell_type": "code",
   "execution_count": 1,
   "metadata": {},
   "outputs": [],
   "source": [
    "import numpy as np\n",
    "import pandas as pd\n",
    "import matplotlib.pyplot as plt\n",
    "%matplotlib inline\n",
    "import os\n",
    "import time\n",
    "import artm\n",
    "\n",
    "# change log style\n",
    "lc = artm.messages.ConfigureLoggingArgs()\n",
    "lc.minloglevel = 3\n",
    "lib = artm.wrapper.LibArtm(logging_config=lc)\n",
    "\n",
    "import warnings\n",
    "warnings.filterwarnings(\"ignore\", category=DeprecationWarning)"
   ]
  },
  {
   "cell_type": "code",
   "execution_count": 2,
   "metadata": {},
   "outputs": [
    {
     "data": {
      "text/html": [
       "<style>\n",
       "    div.output_html {\n",
       "        white-space: nowrap;\n",
       "    }\n",
       "    div .output_subarea > pre {\n",
       "        white-space: pre;\n",
       "        word-wrap: normal;\n",
       "    }\n",
       "    div .output_stdout > pre {\n",
       "        white-space: pre-wrap !important;\n",
       "        word-wrap:  break-word !important;\n",
       "    }\n",
       "    </style>"
      ],
      "text/plain": [
       "<IPython.core.display.HTML object>"
      ]
     },
     "metadata": {},
     "output_type": "display_data"
    }
   ],
   "source": [
    "from copy import deepcopy\n",
    "from topicnet.cooking_machine.models.topic_model import TopicModel\n",
    "from topicnet.cooking_machine.cubes import RegularizersModifierCube\n",
    "from topicnet.cooking_machine.config_parser import build_experiment_environment_from_yaml_config\n",
    "from topicnet.cooking_machine.experiment import Experiment\n",
    "from topicnet.cooking_machine.cubes import *\n",
    "from topicnet.cooking_machine.dataset import Dataset\n",
    "from topicnet.cooking_machine.pretty_output import make_notebook_pretty\n",
    "make_notebook_pretty()"
   ]
  },
  {
   "cell_type": "code",
   "execution_count": 3,
   "metadata": {},
   "outputs": [],
   "source": [
    "import topicnet.cooking_machine.cubes as tncubes"
   ]
  },
  {
   "cell_type": "code",
   "execution_count": 4,
   "metadata": {},
   "outputs": [
    {
     "data": {
      "text/html": [
       "<style>\n",
       ".container { width:90% !important; }\n",
       "div.output_scroll .output_subarea { white-space: pre; }\n",
       "</style>"
      ],
      "text/plain": [
       "<IPython.core.display.HTML object>"
      ]
     },
     "metadata": {},
     "output_type": "display_data"
    }
   ],
   "source": [
    "from IPython.core.display import display, HTML\n",
    "from IPython.display import clear_output, display_html\n",
    "display(HTML(\"\"\"<style>\n",
    ".container { width:90% !important; }\n",
    "div.output_scroll .output_subarea { white-space: pre; }\n",
    "</style>\"\"\"))"
   ]
  },
  {
   "cell_type": "code",
   "execution_count": 5,
   "metadata": {},
   "outputs": [
    {
     "data": {
      "text/html": [
       "<style>\n",
       "    div.output_html {\n",
       "        white-space: nowrap;\n",
       "    }\n",
       "    div .output_subarea > pre {\n",
       "        white-space: pre;\n",
       "        word-wrap: normal;\n",
       "    }\n",
       "    div .output_stdout > pre {\n",
       "        white-space: pre-wrap !important;\n",
       "        word-wrap:  break-word !important;\n",
       "    }\n",
       "    </style>"
      ],
      "text/plain": [
       "<IPython.core.display.HTML object>"
      ]
     },
     "metadata": {},
     "output_type": "display_data"
    }
   ],
   "source": [
    "from topicnet.cooking_machine.models import TopicModel\n",
    "from topicnet.cooking_machine import Experiment\n",
    "from topicnet.cooking_machine.pretty_output import make_notebook_pretty\n",
    "make_notebook_pretty()"
   ]
  },
  {
   "cell_type": "code",
   "execution_count": 6,
   "metadata": {},
   "outputs": [
    {
     "name": "stdout",
     "output_type": "stream",
     "text": [
      "This Experiment was replaced from ExploratoryResearchDemo. Parameter is updated.\n",
      "This Experiment was replaced from ExploratoryResearchDemo. Parameter is updated.\n",
      "This Experiment was replaced from ExploratoryResearchDemo2. Parameter is updated.\n"
     ]
    }
   ],
   "source": [
    "baseline = Experiment.load(\"/home/sultan/Projects/ExploratoryResearch/ExploratoryResearchDemo/ExploratoryResearchDemo\")\n",
    "var1 = Experiment.load(\"/home/sultan/Projects/ExploratoryResearch/varieties/ExploratoryResearchDemo/ExploratoryResearchDemo\")\n",
    "var2 = Experiment.load(\"/home/sultan/Projects/ExploratoryResearch/varieties/ExploratoryResearchDemo2/ExploratoryResearchDemo2\")"
   ]
  },
  {
   "cell_type": "code",
   "execution_count": 7,
   "metadata": {},
   "outputs": [],
   "source": [
    "from topicnet.viewers import TopSimilarDocumentsViewer"
   ]
  },
  {
   "cell_type": "code",
   "execution_count": 11,
   "metadata": {},
   "outputs": [],
   "source": [
    "DATASET_PATH = \"/home/sultan/datasets/PScience/PScience.csv\"\n",
    "dataset = Dataset(DATASET_PATH)"
   ]
  },
  {
   "cell_type": "code",
   "execution_count": 9,
   "metadata": {},
   "outputs": [],
   "source": [
    "query = (\n",
    "    \"TopicKernel@word.average_contrast > 0.8 * MAXIMUM(TopicKernel@word.average_contrast) \"\n",
    "    \"and TopicKernel@word.average_purity > 0.8 * MAXIMUM(TopicKernel@word.average_purity) \"\n",
    "    \"and PerplexityScore@all < 1.1 * MINIMUM(PerplexityScore@all) \"\n",
    ")\n",
    "baseline_models = baseline.select(query + \" COLLECT all\")\n",
    "best_baseline_model = baseline_models[-1]\n",
    "var1_models = var1.select(query + \" COLLECT all\")\n",
    "best_var1_model = var1_models[-1]\n",
    "var2_models = var2.select(query + \" COLLECT all\")\n",
    "best_var2_model = var2_models[-1]"
   ]
  },
  {
   "cell_type": "code",
   "execution_count": null,
   "metadata": {},
   "outputs": [],
   "source": [
    "best_baseline_model."
   ]
  },
  {
   "cell_type": "code",
   "execution_count": 21,
   "metadata": {},
   "outputs": [],
   "source": [
    "baseline_theta = best_baseline_model.get_theta(dataset=dataset)\n",
    "var1_theta = best_var1_model.get_theta(dataset=dataset)\n",
    "var2_theta = best_var2_model.get_theta(dataset=dataset)"
   ]
  },
  {
   "cell_type": "code",
   "execution_count": 42,
   "metadata": {
    "scrolled": false
   },
   "outputs": [
    {
     "name": "stdout",
     "output_type": "stream",
     "text": [
      "topic_13    0.62877\n",
      "bcg_35      0.37123\n",
      "topic_34    0.00000\n",
      "topic_15    0.00000\n",
      "topic_14    0.00000\n",
      "Name: 174.txt, dtype: float32 bcg_35      0.563886\n",
      "topic_27    0.240723\n",
      "topic_21    0.195391\n",
      "topic_8     0.000000\n",
      "topic_14    0.000000\n",
      "Name: 174.txt, dtype: float32 bcg_35      0.431805\n",
      "topic_21    0.302948\n",
      "topic_27    0.265205\n",
      "topic_1     0.000035\n",
      "topic_26    0.000007\n",
      "Name: 174.txt, dtype: float32\n"
     ]
    }
   ],
   "source": [
    "text_file = '174.txt'\n",
    "print(baseline_theta[text_file].sort_values(ascending=False).head(), var1_theta[text_file].sort_values(ascending=False).head(), var2_theta[text_file].sort_values(ascending=False).head())"
   ]
  },
  {
   "cell_type": "code",
   "execution_count": 44,
   "metadata": {},
   "outputs": [
    {
     "data": {
      "text/html": [
       "<style  type=\"text/css\" >\n",
       "</style><table id=\"T_459370c4_0f60_11ea_a6fb_107b449f15fc\" style='display:inline'><thead>    <tr>        <th class=\"blank level0\" ></th>        <th class=\"col_heading level0 col0\" >topic_0 @2gramm</th>    </tr></thead><tbody>\n",
       "                <tr>\n",
       "                        <th id=\"T_459370c4_0f60_11ea_a6fb_107b449f15fclevel0_row0\" class=\"row_heading level0 row0\" >промышленный_революция</th>\n",
       "                        <td id=\"T_459370c4_0f60_11ea_a6fb_107b449f15fcrow0_col0\" class=\"data row0 col0\" >0.03891</td>\n",
       "            </tr>\n",
       "            <tr>\n",
       "                        <th id=\"T_459370c4_0f60_11ea_a6fb_107b449f15fclevel0_row1\" class=\"row_heading level0 row1\" >французский_революция</th>\n",
       "                        <td id=\"T_459370c4_0f60_11ea_a6fb_107b449f15fcrow1_col0\" class=\"data row1 col0\" >0.01757</td>\n",
       "            </tr>\n",
       "            <tr>\n",
       "                        <th id=\"T_459370c4_0f60_11ea_a6fb_107b449f15fclevel0_row2\" class=\"row_heading level0 row2\" >компьютерный_наука</th>\n",
       "                        <td id=\"T_459370c4_0f60_11ea_a6fb_107b449f15fcrow2_col0\" class=\"data row2 col0\" >0.01373</td>\n",
       "            </tr>\n",
       "            <tr>\n",
       "                        <th id=\"T_459370c4_0f60_11ea_a6fb_107b449f15fclevel0_row3\" class=\"row_heading level0 row3\" >ядерный_энергетика</th>\n",
       "                        <td id=\"T_459370c4_0f60_11ea_a6fb_107b449f15fcrow3_col0\" class=\"data row3 col0\" >0.01326</td>\n",
       "            </tr>\n",
       "            <tr>\n",
       "                        <th id=\"T_459370c4_0f60_11ea_a6fb_107b449f15fclevel0_row4\" class=\"row_heading level0 row4\" >интеллектуальный_собственность</th>\n",
       "                        <td id=\"T_459370c4_0f60_11ea_a6fb_107b449f15fcrow4_col0\" class=\"data row4 col0\" >0.01014</td>\n",
       "            </tr>\n",
       "            <tr>\n",
       "                        <th id=\"T_459370c4_0f60_11ea_a6fb_107b449f15fclevel0_row5\" class=\"row_heading level0 row5\" >источник_энергия</th>\n",
       "                        <td id=\"T_459370c4_0f60_11ea_a6fb_107b449f15fcrow5_col0\" class=\"data row5 col0\" >0.00991</td>\n",
       "            </tr>\n",
       "            <tr>\n",
       "                        <th id=\"T_459370c4_0f60_11ea_a6fb_107b449f15fclevel0_row6\" class=\"row_heading level0 row6\" >паровой_двигатель</th>\n",
       "                        <td id=\"T_459370c4_0f60_11ea_a6fb_107b449f15fcrow6_col0\" class=\"data row6 col0\" >0.00903</td>\n",
       "            </tr>\n",
       "            <tr>\n",
       "                        <th id=\"T_459370c4_0f60_11ea_a6fb_107b449f15fclevel0_row7\" class=\"row_heading level0 row7\" >технический_прогресс</th>\n",
       "                        <td id=\"T_459370c4_0f60_11ea_a6fb_107b449f15fcrow7_col0\" class=\"data row7 col0\" >0.00891</td>\n",
       "            </tr>\n",
       "            <tr>\n",
       "                        <th id=\"T_459370c4_0f60_11ea_a6fb_107b449f15fclevel0_row8\" class=\"row_heading level0 row8\" >частное_сектор</th>\n",
       "                        <td id=\"T_459370c4_0f60_11ea_a6fb_107b449f15fcrow8_col0\" class=\"data row8 col0\" >0.00741</td>\n",
       "            </tr>\n",
       "            <tr>\n",
       "                        <th id=\"T_459370c4_0f60_11ea_a6fb_107b449f15fclevel0_row9\" class=\"row_heading level0 row9\" >атомный_энергетика</th>\n",
       "                        <td id=\"T_459370c4_0f60_11ea_a6fb_107b449f15fcrow9_col0\" class=\"data row9 col0\" >0.0072</td>\n",
       "            </tr>\n",
       "    </tbody></table><style  type=\"text/css\" >\n",
       "</style><table id=\"T_459370c5_0f60_11ea_a6fb_107b449f15fc\" style='display:inline'><thead>    <tr>        <th class=\"blank level0\" ></th>        <th class=\"col_heading level0 col0\" >topic_0 @word</th>    </tr></thead><tbody>\n",
       "                <tr>\n",
       "                        <th id=\"T_459370c5_0f60_11ea_a6fb_107b449f15fclevel0_row0\" class=\"row_heading level0 row0\" >игрушка</th>\n",
       "                        <td id=\"T_459370c5_0f60_11ea_a6fb_107b449f15fcrow0_col0\" class=\"data row0 col0\" >0.15999</td>\n",
       "            </tr>\n",
       "            <tr>\n",
       "                        <th id=\"T_459370c5_0f60_11ea_a6fb_107b449f15fclevel0_row1\" class=\"row_heading level0 row1\" >чиновник</th>\n",
       "                        <td id=\"T_459370c5_0f60_11ea_a6fb_107b449f15fcrow1_col0\" class=\"data row1 col0\" >0.09119</td>\n",
       "            </tr>\n",
       "            <tr>\n",
       "                        <th id=\"T_459370c5_0f60_11ea_a6fb_107b449f15fclevel0_row2\" class=\"row_heading level0 row2\" >финансовый</th>\n",
       "                        <td id=\"T_459370c5_0f60_11ea_a6fb_107b449f15fcrow2_col0\" class=\"data row2 col0\" >0.08829</td>\n",
       "            </tr>\n",
       "            <tr>\n",
       "                        <th id=\"T_459370c5_0f60_11ea_a6fb_107b449f15fclevel0_row3\" class=\"row_heading level0 row3\" >катастрофа</th>\n",
       "                        <td id=\"T_459370c5_0f60_11ea_a6fb_107b449f15fcrow3_col0\" class=\"data row3 col0\" >0.07659</td>\n",
       "            </tr>\n",
       "            <tr>\n",
       "                        <th id=\"T_459370c5_0f60_11ea_a6fb_107b449f15fclevel0_row4\" class=\"row_heading level0 row4\" >фабрика</th>\n",
       "                        <td id=\"T_459370c5_0f60_11ea_a6fb_107b449f15fcrow4_col0\" class=\"data row4 col0\" >0.06145</td>\n",
       "            </tr>\n",
       "            <tr>\n",
       "                        <th id=\"T_459370c5_0f60_11ea_a6fb_107b449f15fclevel0_row5\" class=\"row_heading level0 row5\" >монтаньяр</th>\n",
       "                        <td id=\"T_459370c5_0f60_11ea_a6fb_107b449f15fcrow5_col0\" class=\"data row5 col0\" >0.03096</td>\n",
       "            </tr>\n",
       "            <tr>\n",
       "                        <th id=\"T_459370c5_0f60_11ea_a6fb_107b449f15fclevel0_row6\" class=\"row_heading level0 row6\" >недвижимость</th>\n",
       "                        <td id=\"T_459370c5_0f60_11ea_a6fb_107b449f15fcrow6_col0\" class=\"data row6 col0\" >0.02967</td>\n",
       "            </tr>\n",
       "            <tr>\n",
       "                        <th id=\"T_459370c5_0f60_11ea_a6fb_107b449f15fclevel0_row7\" class=\"row_heading level0 row7\" >оборудование</th>\n",
       "                        <td id=\"T_459370c5_0f60_11ea_a6fb_107b449f15fcrow7_col0\" class=\"data row7 col0\" >0.02761</td>\n",
       "            </tr>\n",
       "            <tr>\n",
       "                        <th id=\"T_459370c5_0f60_11ea_a6fb_107b449f15fclevel0_row8\" class=\"row_heading level0 row8\" >облигация</th>\n",
       "                        <td id=\"T_459370c5_0f60_11ea_a6fb_107b449f15fcrow8_col0\" class=\"data row8 col0\" >0.0258</td>\n",
       "            </tr>\n",
       "            <tr>\n",
       "                        <th id=\"T_459370c5_0f60_11ea_a6fb_107b449f15fclevel0_row9\" class=\"row_heading level0 row9\" >водяной</th>\n",
       "                        <td id=\"T_459370c5_0f60_11ea_a6fb_107b449f15fcrow9_col0\" class=\"data row9 col0\" >0.02451</td>\n",
       "            </tr>\n",
       "    </tbody></table>"
      ]
     },
     "metadata": {},
     "output_type": "display_data"
    },
    {
     "data": {
      "text/html": [
       "<b> органическая электроника </b><br /> физик дмитрий паращук об органическом полевом транзисторе, интеллектуальных упаковках и светоизлучающей органике"
      ]
     },
     "metadata": {},
     "output_type": "display_data"
    },
    {
     "data": {
      "text/html": [
       "<b> атомная энергетика сегодня </b><br /> физик-ядерщик виктор мурогов о ядерных отходах, реакторах на быстрых нейтронах  и аварии на аэс фукусима-1"
      ]
     },
     "metadata": {},
     "output_type": "display_data"
    },
    {
     "data": {
      "text/html": [
       "<b> мирный атом </b><br /> физик рафаэль арутюнян об экспериментах с нейтронами, открытии цепной реакции, и национальных атомных проектах"
      ]
     },
     "metadata": {},
     "output_type": "display_data"
    },
    {
     "data": {
      "text/html": [
       "<b> 3d-реконструкция по изображениям </b><br /> программист станислав протасов о модели пространства, высокоточном неразрушающем сканировании и компьютерном зрении"
      ]
     },
     "metadata": {},
     "output_type": "display_data"
    },
    {
     "data": {
      "text/html": [
       "<style  type=\"text/css\" >\n",
       "</style><table id=\"T_459370c6_0f60_11ea_a6fb_107b449f15fc\" style='display:inline'><thead>    <tr>        <th class=\"blank level0\" ></th>        <th class=\"col_heading level0 col0\" >topic_1 @2gramm</th>    </tr></thead><tbody>\n",
       "                <tr>\n",
       "                        <th id=\"T_459370c6_0f60_11ea_a6fb_107b449f15fclevel0_row0\" class=\"row_heading level0 row0\" >социологический_теория</th>\n",
       "                        <td id=\"T_459370c6_0f60_11ea_a6fb_107b449f15fcrow0_col0\" class=\"data row0 col0\" >0.01433</td>\n",
       "            </tr>\n",
       "            <tr>\n",
       "                        <th id=\"T_459370c6_0f60_11ea_a6fb_107b449f15fclevel0_row1\" class=\"row_heading level0 row1\" >язык_описание</th>\n",
       "                        <td id=\"T_459370c6_0f60_11ea_a6fb_107b449f15fcrow1_col0\" class=\"data row1 col0\" >0.01284</td>\n",
       "            </tr>\n",
       "            <tr>\n",
       "                        <th id=\"T_459370c6_0f60_11ea_a6fb_107b449f15fclevel0_row2\" class=\"row_heading level0 row2\" >когнитивный_психология</th>\n",
       "                        <td id=\"T_459370c6_0f60_11ea_a6fb_107b449f15fcrow2_col0\" class=\"data row2 col0\" >0.01228</td>\n",
       "            </tr>\n",
       "            <tr>\n",
       "                        <th id=\"T_459370c6_0f60_11ea_a6fb_107b449f15fclevel0_row3\" class=\"row_heading level0 row3\" >материальный_объект</th>\n",
       "                        <td id=\"T_459370c6_0f60_11ea_a6fb_107b449f15fcrow3_col0\" class=\"data row3 col0\" >0.01186</td>\n",
       "            </tr>\n",
       "            <tr>\n",
       "                        <th id=\"T_459370c6_0f60_11ea_a6fb_107b449f15fclevel0_row4\" class=\"row_heading level0 row4\" >русский_формализм</th>\n",
       "                        <td id=\"T_459370c6_0f60_11ea_a6fb_107b449f15fcrow4_col0\" class=\"data row4 col0\" >0.00988</td>\n",
       "            </tr>\n",
       "            <tr>\n",
       "                        <th id=\"T_459370c6_0f60_11ea_a6fb_107b449f15fclevel0_row5\" class=\"row_heading level0 row5\" >социальный_жизнь</th>\n",
       "                        <td id=\"T_459370c6_0f60_11ea_a6fb_107b449f15fcrow5_col0\" class=\"data row5 col0\" >0.00982</td>\n",
       "            </tr>\n",
       "            <tr>\n",
       "                        <th id=\"T_459370c6_0f60_11ea_a6fb_107b449f15fclevel0_row6\" class=\"row_heading level0 row6\" >социология_повседневность</th>\n",
       "                        <td id=\"T_459370c6_0f60_11ea_a6fb_107b449f15fcrow6_col0\" class=\"data row6 col0\" >0.00844</td>\n",
       "            </tr>\n",
       "            <tr>\n",
       "                        <th id=\"T_459370c6_0f60_11ea_a6fb_107b449f15fclevel0_row7\" class=\"row_heading level0 row7\" >социальный_действие</th>\n",
       "                        <td id=\"T_459370c6_0f60_11ea_a6fb_107b449f15fcrow7_col0\" class=\"data row7 col0\" >0.00803</td>\n",
       "            </tr>\n",
       "            <tr>\n",
       "                        <th id=\"T_459370c6_0f60_11ea_a6fb_107b449f15fclevel0_row8\" class=\"row_heading level0 row8\" >теория_фрейм</th>\n",
       "                        <td id=\"T_459370c6_0f60_11ea_a6fb_107b449f15fcrow8_col0\" class=\"data row8 col0\" >0.00796</td>\n",
       "            </tr>\n",
       "            <tr>\n",
       "                        <th id=\"T_459370c6_0f60_11ea_a6fb_107b449f15fclevel0_row9\" class=\"row_heading level0 row9\" >социальный_антропология</th>\n",
       "                        <td id=\"T_459370c6_0f60_11ea_a6fb_107b449f15fcrow9_col0\" class=\"data row9 col0\" >0.00791</td>\n",
       "            </tr>\n",
       "    </tbody></table><style  type=\"text/css\" >\n",
       "</style><table id=\"T_459370c7_0f60_11ea_a6fb_107b449f15fc\" style='display:inline'><thead>    <tr>        <th class=\"blank level0\" ></th>        <th class=\"col_heading level0 col0\" >topic_1 @word</th>    </tr></thead><tbody>\n",
       "                <tr>\n",
       "                        <th id=\"T_459370c7_0f60_11ea_a6fb_107b449f15fclevel0_row0\" class=\"row_heading level0 row0\" >фольклор</th>\n",
       "                        <td id=\"T_459370c7_0f60_11ea_a6fb_107b449f15fcrow0_col0\" class=\"data row0 col0\" >0.05605</td>\n",
       "            </tr>\n",
       "            <tr>\n",
       "                        <th id=\"T_459370c7_0f60_11ea_a6fb_107b449f15fclevel0_row1\" class=\"row_heading level0 row1\" >мотив</th>\n",
       "                        <td id=\"T_459370c7_0f60_11ea_a6fb_107b449f15fcrow1_col0\" class=\"data row1 col0\" >0.03201</td>\n",
       "            </tr>\n",
       "            <tr>\n",
       "                        <th id=\"T_459370c7_0f60_11ea_a6fb_107b449f15fclevel0_row2\" class=\"row_heading level0 row2\" >художественный</th>\n",
       "                        <td id=\"T_459370c7_0f60_11ea_a6fb_107b449f15fcrow2_col0\" class=\"data row2 col0\" >0.02879</td>\n",
       "            </tr>\n",
       "            <tr>\n",
       "                        <th id=\"T_459370c7_0f60_11ea_a6fb_107b449f15fclevel0_row3\" class=\"row_heading level0 row3\" >николай</th>\n",
       "                        <td id=\"T_459370c7_0f60_11ea_a6fb_107b449f15fcrow3_col0\" class=\"data row3 col0\" >0.02223</td>\n",
       "            </tr>\n",
       "            <tr>\n",
       "                        <th id=\"T_459370c7_0f60_11ea_a6fb_107b449f15fclevel0_row4\" class=\"row_heading level0 row4\" >стена</th>\n",
       "                        <td id=\"T_459370c7_0f60_11ea_a6fb_107b449f15fcrow4_col0\" class=\"data row4 col0\" >0.01823</td>\n",
       "            </tr>\n",
       "            <tr>\n",
       "                        <th id=\"T_459370c7_0f60_11ea_a6fb_107b449f15fclevel0_row5\" class=\"row_heading level0 row5\" >революционный</th>\n",
       "                        <td id=\"T_459370c7_0f60_11ea_a6fb_107b449f15fcrow5_col0\" class=\"data row5 col0\" >0.01816</td>\n",
       "            </tr>\n",
       "            <tr>\n",
       "                        <th id=\"T_459370c7_0f60_11ea_a6fb_107b449f15fclevel0_row6\" class=\"row_heading level0 row6\" >подлинный</th>\n",
       "                        <td id=\"T_459370c7_0f60_11ea_a6fb_107b449f15fcrow6_col0\" class=\"data row6 col0\" >0.01687</td>\n",
       "            </tr>\n",
       "            <tr>\n",
       "                        <th id=\"T_459370c7_0f60_11ea_a6fb_107b449f15fclevel0_row7\" class=\"row_heading level0 row7\" >формализм</th>\n",
       "                        <td id=\"T_459370c7_0f60_11ea_a6fb_107b449f15fcrow7_col0\" class=\"data row7 col0\" >0.0167</td>\n",
       "            </tr>\n",
       "            <tr>\n",
       "                        <th id=\"T_459370c7_0f60_11ea_a6fb_107b449f15fclevel0_row8\" class=\"row_heading level0 row8\" >муж</th>\n",
       "                        <td id=\"T_459370c7_0f60_11ea_a6fb_107b449f15fcrow8_col0\" class=\"data row8 col0\" >0.01636</td>\n",
       "            </tr>\n",
       "            <tr>\n",
       "                        <th id=\"T_459370c7_0f60_11ea_a6fb_107b449f15fclevel0_row9\" class=\"row_heading level0 row9\" >отчёт</th>\n",
       "                        <td id=\"T_459370c7_0f60_11ea_a6fb_107b449f15fcrow9_col0\" class=\"data row9 col0\" >0.01565</td>\n",
       "            </tr>\n",
       "    </tbody></table>"
      ]
     },
     "metadata": {},
     "output_type": "display_data"
    },
    {
     "data": {
      "text/html": [
       "<b> социальное действие </b><br /> социолог александр филиппов о четырех типах действия человека, истолковывающем понимании и мотивах поведения"
      ]
     },
     "metadata": {},
     "output_type": "display_data"
    },
    {
     "data": {
      "text/html": [
       "<b> свобода передвижения </b><br /> социолог светлана баньковская о классификации роберта парка, глобализации передвижения, аккомодации и ассимиляции"
      ]
     },
     "metadata": {},
     "output_type": "display_data"
    },
    {
     "data": {
      "text/html": [
       "<b> режимы вовлеченности </b><br /> социолог виктор вахштайн о структурной организации мира, основаниях человеческих взаимодействий и игровой природе социальной жизни"
      ]
     },
     "metadata": {},
     "output_type": "display_data"
    },
    {
     "data": {
      "text/html": [
       "<b> эпистемические интервенции </b><br /> социолог виктор вахштайн об экспансии экономистов, психологистской эпистемологии и топологии"
      ]
     },
     "metadata": {},
     "output_type": "display_data"
    },
    {
     "data": {
      "text/html": [
       "<b> социология маргинальности </b><br /> социолог светлана баньковская об отклонении от нормы участия, положении чужака в группе и практикуемой маргинальности"
      ]
     },
     "metadata": {},
     "output_type": "display_data"
    },
    {
     "data": {
      "text/html": [
       "<b> адаптивное поведение </b><br /> математик владимир редько о работе с валентином непомнящих, личинках ручейников и мотивации в модели"
      ]
     },
     "metadata": {},
     "output_type": "display_data"
    },
    {
     "data": {
      "text/html": [
       "<b> перформативность экономической науки </b><br /> философ иван болдырев о работах маккензи, взаимодействии теории и реальности и проблеме перформативности"
      ]
     },
     "metadata": {},
     "output_type": "display_data"
    },
    {
     "data": {
      "text/html": [
       "<b> действие в повседневном мире </b><br /> социолог виктор вахштайн о скептическом парадоксе витгенштейна-крипке, загадке о дон кихоте и теории практик"
      ]
     },
     "metadata": {},
     "output_type": "display_data"
    },
    {
     "data": {
      "text/html": [
       "<b> социология вещей </b><br /> социолог виктор вахштайн о социальных смыслах вещей, истории велосипеда и симметрии людей и вещей"
      ]
     },
     "metadata": {},
     "output_type": "display_data"
    },
    {
     "data": {
      "text/html": [
       "<b> «сильная программа» в культурсоциологии </b><br /> социолог дмитрий куракин об интерпретирующей социологии, сакральных объектах и культе гильотины"
      ]
     },
     "metadata": {},
     "output_type": "display_data"
    },
    {
     "data": {
      "text/html": [
       "<style  type=\"text/css\" >\n",
       "</style><table id=\"T_459370c8_0f60_11ea_a6fb_107b449f15fc\" style='display:inline'><thead>    <tr>        <th class=\"blank level0\" ></th>        <th class=\"col_heading level0 col0\" >topic_2 @2gramm</th>    </tr></thead><tbody>\n",
       "                <tr>\n",
       "                        <th id=\"T_459370c8_0f60_11ea_a6fb_107b449f15fclevel0_row0\" class=\"row_heading level0 row0\" >система_образование</th>\n",
       "                        <td id=\"T_459370c8_0f60_11ea_a6fb_107b449f15fcrow0_col0\" class=\"data row0 col0\" >0.01833</td>\n",
       "            </tr>\n",
       "            <tr>\n",
       "                        <th id=\"T_459370c8_0f60_11ea_a6fb_107b449f15fclevel0_row1\" class=\"row_heading level0 row1\" >исторический_знание</th>\n",
       "                        <td id=\"T_459370c8_0f60_11ea_a6fb_107b449f15fcrow1_col0\" class=\"data row1 col0\" >0.01394</td>\n",
       "            </tr>\n",
       "            <tr>\n",
       "                        <th id=\"T_459370c8_0f60_11ea_a6fb_107b449f15fclevel0_row2\" class=\"row_heading level0 row2\" >иван_грозный</th>\n",
       "                        <td id=\"T_459370c8_0f60_11ea_a6fb_107b449f15fcrow2_col0\" class=\"data row2 col0\" >0.01333</td>\n",
       "            </tr>\n",
       "            <tr>\n",
       "                        <th id=\"T_459370c8_0f60_11ea_a6fb_107b449f15fclevel0_row3\" class=\"row_heading level0 row3\" >творческий_мышление</th>\n",
       "                        <td id=\"T_459370c8_0f60_11ea_a6fb_107b449f15fcrow3_col0\" class=\"data row3 col0\" >0.0126</td>\n",
       "            </tr>\n",
       "            <tr>\n",
       "                        <th id=\"T_459370c8_0f60_11ea_a6fb_107b449f15fclevel0_row4\" class=\"row_heading level0 row4\" >греческий_миф</th>\n",
       "                        <td id=\"T_459370c8_0f60_11ea_a6fb_107b449f15fcrow4_col0\" class=\"data row4 col0\" >0.0115</td>\n",
       "            </tr>\n",
       "            <tr>\n",
       "                        <th id=\"T_459370c8_0f60_11ea_a6fb_107b449f15fclevel0_row5\" class=\"row_heading level0 row5\" >греческий_мифология</th>\n",
       "                        <td id=\"T_459370c8_0f60_11ea_a6fb_107b449f15fcrow5_col0\" class=\"data row5 col0\" >0.01041</td>\n",
       "            </tr>\n",
       "            <tr>\n",
       "                        <th id=\"T_459370c8_0f60_11ea_a6fb_107b449f15fclevel0_row6\" class=\"row_heading level0 row6\" >арабский_весна</th>\n",
       "                        <td id=\"T_459370c8_0f60_11ea_a6fb_107b449f15fcrow6_col0\" class=\"data row6 col0\" >0.00871</td>\n",
       "            </tr>\n",
       "            <tr>\n",
       "                        <th id=\"T_459370c8_0f60_11ea_a6fb_107b449f15fclevel0_row7\" class=\"row_heading level0 row7\" >человеческий_капитал</th>\n",
       "                        <td id=\"T_459370c8_0f60_11ea_a6fb_107b449f15fcrow7_col0\" class=\"data row7 col0\" >0.00868</td>\n",
       "            </tr>\n",
       "            <tr>\n",
       "                        <th id=\"T_459370c8_0f60_11ea_a6fb_107b449f15fclevel0_row8\" class=\"row_heading level0 row8\" >саудовский_аравия</th>\n",
       "                        <td id=\"T_459370c8_0f60_11ea_a6fb_107b449f15fcrow8_col0\" class=\"data row8 col0\" >0.00769</td>\n",
       "            </tr>\n",
       "            <tr>\n",
       "                        <th id=\"T_459370c8_0f60_11ea_a6fb_107b449f15fclevel0_row9\" class=\"row_heading level0 row9\" >умберто_эко</th>\n",
       "                        <td id=\"T_459370c8_0f60_11ea_a6fb_107b449f15fcrow9_col0\" class=\"data row9 col0\" >0.00741</td>\n",
       "            </tr>\n",
       "    </tbody></table><style  type=\"text/css\" >\n",
       "</style><table id=\"T_459370c9_0f60_11ea_a6fb_107b449f15fc\" style='display:inline'><thead>    <tr>        <th class=\"blank level0\" ></th>        <th class=\"col_heading level0 col0\" >topic_2 @word</th>    </tr></thead><tbody>\n",
       "                <tr>\n",
       "                        <th id=\"T_459370c9_0f60_11ea_a6fb_107b449f15fclevel0_row0\" class=\"row_heading level0 row0\" >библиотека</th>\n",
       "                        <td id=\"T_459370c9_0f60_11ea_a6fb_107b449f15fcrow0_col0\" class=\"data row0 col0\" >0.18795</td>\n",
       "            </tr>\n",
       "            <tr>\n",
       "                        <th id=\"T_459370c9_0f60_11ea_a6fb_107b449f15fclevel0_row1\" class=\"row_heading level0 row1\" >мифология</th>\n",
       "                        <td id=\"T_459370c9_0f60_11ea_a6fb_107b449f15fcrow1_col0\" class=\"data row1 col0\" >0.14503</td>\n",
       "            </tr>\n",
       "            <tr>\n",
       "                        <th id=\"T_459370c9_0f60_11ea_a6fb_107b449f15fclevel0_row2\" class=\"row_heading level0 row2\" >модернизация</th>\n",
       "                        <td id=\"T_459370c9_0f60_11ea_a6fb_107b449f15fcrow2_col0\" class=\"data row2 col0\" >0.11987</td>\n",
       "            </tr>\n",
       "            <tr>\n",
       "                        <th id=\"T_459370c9_0f60_11ea_a6fb_107b449f15fclevel0_row3\" class=\"row_heading level0 row3\" >сми</th>\n",
       "                        <td id=\"T_459370c9_0f60_11ea_a6fb_107b449f15fcrow3_col0\" class=\"data row3 col0\" >0.10655</td>\n",
       "            </tr>\n",
       "            <tr>\n",
       "                        <th id=\"T_459370c9_0f60_11ea_a6fb_107b449f15fclevel0_row4\" class=\"row_heading level0 row4\" >аспирант</th>\n",
       "                        <td id=\"T_459370c9_0f60_11ea_a6fb_107b449f15fcrow4_col0\" class=\"data row4 col0\" >0.09027</td>\n",
       "            </tr>\n",
       "            <tr>\n",
       "                        <th id=\"T_459370c9_0f60_11ea_a6fb_107b449f15fclevel0_row5\" class=\"row_heading level0 row5\" >эмпиризм</th>\n",
       "                        <td id=\"T_459370c9_0f60_11ea_a6fb_107b449f15fcrow5_col0\" class=\"data row5 col0\" >0.04144</td>\n",
       "            </tr>\n",
       "            <tr>\n",
       "                        <th id=\"T_459370c9_0f60_11ea_a6fb_107b449f15fclevel0_row6\" class=\"row_heading level0 row6\" >мэдисон</th>\n",
       "                        <td id=\"T_459370c9_0f60_11ea_a6fb_107b449f15fcrow6_col0\" class=\"data row6 col0\" >0.03996</td>\n",
       "            </tr>\n",
       "            <tr>\n",
       "                        <th id=\"T_459370c9_0f60_11ea_a6fb_107b449f15fclevel0_row7\" class=\"row_heading level0 row7\" >рационализм</th>\n",
       "                        <td id=\"T_459370c9_0f60_11ea_a6fb_107b449f15fcrow7_col0\" class=\"data row7 col0\" >0.03552</td>\n",
       "            </tr>\n",
       "            <tr>\n",
       "                        <th id=\"T_459370c9_0f60_11ea_a6fb_107b449f15fclevel0_row8\" class=\"row_heading level0 row8\" >фальсификация</th>\n",
       "                        <td id=\"T_459370c9_0f60_11ea_a6fb_107b449f15fcrow8_col0\" class=\"data row8 col0\" >0.02664</td>\n",
       "            </tr>\n",
       "            <tr>\n",
       "                        <th id=\"T_459370c9_0f60_11ea_a6fb_107b449f15fclevel0_row9\" class=\"row_heading level0 row9\" >пифагорейский</th>\n",
       "                        <td id=\"T_459370c9_0f60_11ea_a6fb_107b449f15fcrow9_col0\" class=\"data row9 col0\" >0.02664</td>\n",
       "            </tr>\n",
       "    </tbody></table>"
      ]
     },
     "metadata": {},
     "output_type": "display_data"
    },
    {
     "data": {
      "text/html": [
       "<b> эпоха сталина </b><br /> 11 материалов историка олега хлевнюка о зарождении и гибели сталинской эпохи, проблемах ее интерпретации и значении для мировой истории"
      ]
     },
     "metadata": {},
     "output_type": "display_data"
    },
    {
     "data": {
      "text/html": [
       "<b> эрратическая семантика </b><br /> филолог гасан гусейнов об играх в языке, применении эрративов и эсхрофемизмах"
      ]
     },
     "metadata": {},
     "output_type": "display_data"
    },
    {
     "data": {
      "text/html": [
       "<b> реконструкция грамматики праязыка </b><br /> лингвист кирилл бабаев о подвижности грамматики, строении предложений и историческом материале"
      ]
     },
     "metadata": {},
     "output_type": "display_data"
    },
    {
     "data": {
      "text/html": [
       "<b> хорошо в стране советской жить </b><br /> тест про внутрипартийную борьбу, афоризмы сталина и первые пятилетки"
      ]
     },
     "metadata": {},
     "output_type": "display_data"
    },
    {
     "data": {
      "text/html": [
       "<b> культурный потенциал места </b><br /> урбанист александр высоковский о физических носителях, культуре хамства и фетишизации истории"
      ]
     },
     "metadata": {},
     "output_type": "display_data"
    },
    {
     "data": {
      "text/html": [
       "<b> public history как дисциплина </b><br /> историк андрей зорин о фальсификации исторических фактов, способах понимания и пространстве публичной истории"
      ]
     },
     "metadata": {},
     "output_type": "display_data"
    },
    {
     "data": {
      "text/html": [
       "<b> развитие городов </b><br /> географ наталья зубаревич о процессе субурбанизации, агломерационном эффекте и необходимости децентрализации"
      ]
     },
     "metadata": {},
     "output_type": "display_data"
    },
    {
     "data": {
      "text/html": [
       "<b> арабская весна </b><br /> историк андрей коротаев о режимах арабской монархии, проблемах коррупции и роли экономического фактора"
      ]
     },
     "metadata": {},
     "output_type": "display_data"
    },
    {
     "data": {
      "text/html": [
       "<b> социальные представления о прошлом </b><br /> историк ирина савельева о значимости событий, опросах общественного мнения  и формировании исторического сознания"
      ]
     },
     "metadata": {},
     "output_type": "display_data"
    },
    {
     "data": {
      "text/html": [
       "<style  type=\"text/css\" >\n",
       "</style><table id=\"T_459370ca_0f60_11ea_a6fb_107b449f15fc\" style='display:inline'><thead>    <tr>        <th class=\"blank level0\" ></th>        <th class=\"col_heading level0 col0\" >topic_3 @2gramm</th>    </tr></thead><tbody>\n",
       "                <tr>\n",
       "                        <th id=\"T_459370ca_0f60_11ea_a6fb_107b449f15fclevel0_row0\" class=\"row_heading level0 row0\" >социальный_роль</th>\n",
       "                        <td id=\"T_459370ca_0f60_11ea_a6fb_107b449f15fcrow0_col0\" class=\"data row0 col0\" >0.01562</td>\n",
       "            </tr>\n",
       "            <tr>\n",
       "                        <th id=\"T_459370ca_0f60_11ea_a6fb_107b449f15fclevel0_row1\" class=\"row_heading level0 row1\" >веймарский_республика</th>\n",
       "                        <td id=\"T_459370ca_0f60_11ea_a6fb_107b449f15fcrow1_col0\" class=\"data row1 col0\" >0.01517</td>\n",
       "            </tr>\n",
       "            <tr>\n",
       "                        <th id=\"T_459370ca_0f60_11ea_a6fb_107b449f15fclevel0_row2\" class=\"row_heading level0 row2\" >иммунный_система</th>\n",
       "                        <td id=\"T_459370ca_0f60_11ea_a6fb_107b449f15fcrow2_col0\" class=\"data row2 col0\" >0.01358</td>\n",
       "            </tr>\n",
       "            <tr>\n",
       "                        <th id=\"T_459370ca_0f60_11ea_a6fb_107b449f15fclevel0_row3\" class=\"row_heading level0 row3\" >социальный_идентичность</th>\n",
       "                        <td id=\"T_459370ca_0f60_11ea_a6fb_107b449f15fcrow3_col0\" class=\"data row3 col0\" >0.01134</td>\n",
       "            </tr>\n",
       "            <tr>\n",
       "                        <th id=\"T_459370ca_0f60_11ea_a6fb_107b449f15fclevel0_row4\" class=\"row_heading level0 row4\" >третье_рейх</th>\n",
       "                        <td id=\"T_459370ca_0f60_11ea_a6fb_107b449f15fcrow4_col0\" class=\"data row4 col0\" >0.01088</td>\n",
       "            </tr>\n",
       "            <tr>\n",
       "                        <th id=\"T_459370ca_0f60_11ea_a6fb_107b449f15fclevel0_row5\" class=\"row_heading level0 row5\" >нацистский_германия</th>\n",
       "                        <td id=\"T_459370ca_0f60_11ea_a6fb_107b449f15fcrow5_col0\" class=\"data row5 col0\" >0.0075</td>\n",
       "            </tr>\n",
       "            <tr>\n",
       "                        <th id=\"T_459370ca_0f60_11ea_a6fb_107b449f15fclevel0_row6\" class=\"row_heading level0 row6\" >стандартный_отклонение</th>\n",
       "                        <td id=\"T_459370ca_0f60_11ea_a6fb_107b449f15fcrow6_col0\" class=\"data row6 col0\" >0.00689</td>\n",
       "            </tr>\n",
       "            <tr>\n",
       "                        <th id=\"T_459370ca_0f60_11ea_a6fb_107b449f15fclevel0_row7\" class=\"row_heading level0 row7\" >красный_армия</th>\n",
       "                        <td id=\"T_459370ca_0f60_11ea_a6fb_107b449f15fcrow7_col0\" class=\"data row7 col0\" >0.00635</td>\n",
       "            </tr>\n",
       "            <tr>\n",
       "                        <th id=\"T_459370ca_0f60_11ea_a6fb_107b449f15fclevel0_row8\" class=\"row_heading level0 row8\" >воспитание_ребёнок</th>\n",
       "                        <td id=\"T_459370ca_0f60_11ea_a6fb_107b449f15fcrow8_col0\" class=\"data row8 col0\" >0.00624</td>\n",
       "            </tr>\n",
       "            <tr>\n",
       "                        <th id=\"T_459370ca_0f60_11ea_a6fb_107b449f15fclevel0_row9\" class=\"row_heading level0 row9\" >социальный_движение</th>\n",
       "                        <td id=\"T_459370ca_0f60_11ea_a6fb_107b449f15fcrow9_col0\" class=\"data row9 col0\" >0.00621</td>\n",
       "            </tr>\n",
       "    </tbody></table><style  type=\"text/css\" >\n",
       "</style><table id=\"T_459370cb_0f60_11ea_a6fb_107b449f15fc\" style='display:inline'><thead>    <tr>        <th class=\"blank level0\" ></th>        <th class=\"col_heading level0 col0\" >topic_3 @word</th>    </tr></thead><tbody>\n",
       "                <tr>\n",
       "                        <th id=\"T_459370cb_0f60_11ea_a6fb_107b449f15fclevel0_row0\" class=\"row_heading level0 row0\" >детство</th>\n",
       "                        <td id=\"T_459370cb_0f60_11ea_a6fb_107b449f15fcrow0_col0\" class=\"data row0 col0\" >0.35099</td>\n",
       "            </tr>\n",
       "            <tr>\n",
       "                        <th id=\"T_459370cb_0f60_11ea_a6fb_107b449f15fclevel0_row1\" class=\"row_heading level0 row1\" >сакс</th>\n",
       "                        <td id=\"T_459370cb_0f60_11ea_a6fb_107b449f15fcrow1_col0\" class=\"data row1 col0\" >0.0763</td>\n",
       "            </tr>\n",
       "            <tr>\n",
       "                        <th id=\"T_459370cb_0f60_11ea_a6fb_107b449f15fclevel0_row2\" class=\"row_heading level0 row2\" >шабаш</th>\n",
       "                        <td id=\"T_459370cb_0f60_11ea_a6fb_107b449f15fcrow2_col0\" class=\"data row2 col0\" >0.06867</td>\n",
       "            </tr>\n",
       "            <tr>\n",
       "                        <th id=\"T_459370cb_0f60_11ea_a6fb_107b449f15fclevel0_row3\" class=\"row_heading level0 row3\" >царить</th>\n",
       "                        <td id=\"T_459370cb_0f60_11ea_a6fb_107b449f15fcrow3_col0\" class=\"data row3 col0\" >0.05341</td>\n",
       "            </tr>\n",
       "            <tr>\n",
       "                        <th id=\"T_459370cb_0f60_11ea_a6fb_107b449f15fclevel0_row4\" class=\"row_heading level0 row4\" >тоталитарный</th>\n",
       "                        <td id=\"T_459370cb_0f60_11ea_a6fb_107b449f15fcrow4_col0\" class=\"data row4 col0\" >0.05341</td>\n",
       "            </tr>\n",
       "            <tr>\n",
       "                        <th id=\"T_459370cb_0f60_11ea_a6fb_107b449f15fclevel0_row5\" class=\"row_heading level0 row5\" >голый</th>\n",
       "                        <td id=\"T_459370cb_0f60_11ea_a6fb_107b449f15fcrow5_col0\" class=\"data row5 col0\" >0.0496</td>\n",
       "            </tr>\n",
       "            <tr>\n",
       "                        <th id=\"T_459370cb_0f60_11ea_a6fb_107b449f15fclevel0_row6\" class=\"row_heading level0 row6\" >травматический</th>\n",
       "                        <td id=\"T_459370cb_0f60_11ea_a6fb_107b449f15fcrow6_col0\" class=\"data row6 col0\" >0.04578</td>\n",
       "            </tr>\n",
       "            <tr>\n",
       "                        <th id=\"T_459370cb_0f60_11ea_a6fb_107b449f15fclevel0_row7\" class=\"row_heading level0 row7\" >ролевый</th>\n",
       "                        <td id=\"T_459370cb_0f60_11ea_a6fb_107b449f15fcrow7_col0\" class=\"data row7 col0\" >0.04578</td>\n",
       "            </tr>\n",
       "            <tr>\n",
       "                        <th id=\"T_459370cb_0f60_11ea_a6fb_107b449f15fclevel0_row8\" class=\"row_heading level0 row8\" >засуха</th>\n",
       "                        <td id=\"T_459370cb_0f60_11ea_a6fb_107b449f15fcrow8_col0\" class=\"data row8 col0\" >0.04197</td>\n",
       "            </tr>\n",
       "            <tr>\n",
       "                        <th id=\"T_459370cb_0f60_11ea_a6fb_107b449f15fclevel0_row9\" class=\"row_heading level0 row9\" >посетить</th>\n",
       "                        <td id=\"T_459370cb_0f60_11ea_a6fb_107b449f15fcrow9_col0\" class=\"data row9 col0\" >0.03858</td>\n",
       "            </tr>\n",
       "    </tbody></table>"
      ]
     },
     "metadata": {},
     "output_type": "display_data"
    },
    {
     "data": {
      "text/html": [
       "<b> зоопсихология </b><br /> биолог зоя зорина о формировании принципов зоопсихологии, мышлении животных как предпосылке мышления человека и междисциплинарности темы"
      ]
     },
     "metadata": {},
     "output_type": "display_data"
    },
    {
     "data": {
      "text/html": [
       "<b> история германии xx века </b><br /> 13 лекций историка ильи женина о ключевых событиях современной истории германии"
      ]
     },
     "metadata": {},
     "output_type": "display_data"
    },
    {
     "data": {
      "text/html": [
       "<b> \"новое родительство\" в россии </b><br /> филолог мария майофис о современной культуре детства, влиянии государственной идеологии и проблеме усыновления"
      ]
     },
     "metadata": {},
     "output_type": "display_data"
    },
    {
     "data": {
      "text/html": [
       "<b> мышление животных </b><br /> биолог зоя зорина о лаборатории павлова, абстрактном мышлении и шимпанзе иони"
      ]
     },
     "metadata": {},
     "output_type": "display_data"
    },
    {
     "data": {
      "text/html": [
       "<b> конфликт легального и легитимного </b><br /> историк дина гусейнова о реформах в веймарской республике, трудах карла шмитта и комиссии дьюи"
      ]
     },
     "metadata": {},
     "output_type": "display_data"
    },
    {
     "data": {
      "text/html": [
       "<b> веймарская  республика </b><br /> историк илья женин о республике без республиканцев, октябрьской революции и социал-демократической партии"
      ]
     },
     "metadata": {},
     "output_type": "display_data"
    },
    {
     "data": {
      "text/html": [
       "<style  type=\"text/css\" >\n",
       "</style><table id=\"T_459370cc_0f60_11ea_a6fb_107b449f15fc\" style='display:inline'><thead>    <tr>        <th class=\"blank level0\" ></th>        <th class=\"col_heading level0 col0\" >topic_4 @2gramm</th>    </tr></thead><tbody>\n",
       "                <tr>\n",
       "                        <th id=\"T_459370cc_0f60_11ea_a6fb_107b449f15fclevel0_row0\" class=\"row_heading level0 row0\" >квантовый_компьютер</th>\n",
       "                        <td id=\"T_459370cc_0f60_11ea_a6fb_107b449f15fcrow0_col0\" class=\"data row0 col0\" >0.03168</td>\n",
       "            </tr>\n",
       "            <tr>\n",
       "                        <th id=\"T_459370cc_0f60_11ea_a6fb_107b449f15fclevel0_row1\" class=\"row_heading level0 row1\" >право_собственность</th>\n",
       "                        <td id=\"T_459370cc_0f60_11ea_a6fb_107b449f15fcrow1_col0\" class=\"data row1 col0\" >0.01829</td>\n",
       "            </tr>\n",
       "            <tr>\n",
       "                        <th id=\"T_459370cc_0f60_11ea_a6fb_107b449f15fclevel0_row2\" class=\"row_heading level0 row2\" >квантовый_технология</th>\n",
       "                        <td id=\"T_459370cc_0f60_11ea_a6fb_107b449f15fcrow2_col0\" class=\"data row2 col0\" >0.01638</td>\n",
       "            </tr>\n",
       "            <tr>\n",
       "                        <th id=\"T_459370cc_0f60_11ea_a6fb_107b449f15fclevel0_row3\" class=\"row_heading level0 row3\" >молодёжный_субкультура</th>\n",
       "                        <td id=\"T_459370cc_0f60_11ea_a6fb_107b449f15fcrow3_col0\" class=\"data row3 col0\" >0.01151</td>\n",
       "            </tr>\n",
       "            <tr>\n",
       "                        <th id=\"T_459370cc_0f60_11ea_a6fb_107b449f15fclevel0_row4\" class=\"row_heading level0 row4\" >квантовый_криптография</th>\n",
       "                        <td id=\"T_459370cc_0f60_11ea_a6fb_107b449f15fcrow4_col0\" class=\"data row4 col0\" >0.01012</td>\n",
       "            </tr>\n",
       "            <tr>\n",
       "                        <th id=\"T_459370cc_0f60_11ea_a6fb_107b449f15fclevel0_row5\" class=\"row_heading level0 row5\" >квантовый_вычисление</th>\n",
       "                        <td id=\"T_459370cc_0f60_11ea_a6fb_107b449f15fcrow5_col0\" class=\"data row5 col0\" >0.01011</td>\n",
       "            </tr>\n",
       "            <tr>\n",
       "                        <th id=\"T_459370cc_0f60_11ea_a6fb_107b449f15fclevel0_row6\" class=\"row_heading level0 row6\" >квантовый_состояние</th>\n",
       "                        <td id=\"T_459370cc_0f60_11ea_a6fb_107b449f15fcrow6_col0\" class=\"data row6 col0\" >0.00879</td>\n",
       "            </tr>\n",
       "            <tr>\n",
       "                        <th id=\"T_459370cc_0f60_11ea_a6fb_107b449f15fclevel0_row7\" class=\"row_heading level0 row7\" >умный_дом</th>\n",
       "                        <td id=\"T_459370cc_0f60_11ea_a6fb_107b449f15fcrow7_col0\" class=\"data row7 col0\" >0.00838</td>\n",
       "            </tr>\n",
       "            <tr>\n",
       "                        <th id=\"T_459370cc_0f60_11ea_a6fb_107b449f15fclevel0_row8\" class=\"row_heading level0 row8\" >передача_дать</th>\n",
       "                        <td id=\"T_459370cc_0f60_11ea_a6fb_107b449f15fcrow8_col0\" class=\"data row8 col0\" >0.00795</td>\n",
       "            </tr>\n",
       "            <tr>\n",
       "                        <th id=\"T_459370cc_0f60_11ea_a6fb_107b449f15fclevel0_row9\" class=\"row_heading level0 row9\" >квантовый_память</th>\n",
       "                        <td id=\"T_459370cc_0f60_11ea_a6fb_107b449f15fcrow9_col0\" class=\"data row9 col0\" >0.00768</td>\n",
       "            </tr>\n",
       "    </tbody></table><style  type=\"text/css\" >\n",
       "</style><table id=\"T_459370cd_0f60_11ea_a6fb_107b449f15fc\" style='display:inline'><thead>    <tr>        <th class=\"blank level0\" ></th>        <th class=\"col_heading level0 col0\" >topic_4 @word</th>    </tr></thead><tbody>\n",
       "                <tr>\n",
       "                        <th id=\"T_459370cd_0f60_11ea_a6fb_107b449f15fclevel0_row0\" class=\"row_heading level0 row0\" >код</th>\n",
       "                        <td id=\"T_459370cd_0f60_11ea_a6fb_107b449f15fcrow0_col0\" class=\"data row0 col0\" >0.22817</td>\n",
       "            </tr>\n",
       "            <tr>\n",
       "                        <th id=\"T_459370cd_0f60_11ea_a6fb_107b449f15fclevel0_row1\" class=\"row_heading level0 row1\" >безопасность</th>\n",
       "                        <td id=\"T_459370cd_0f60_11ea_a6fb_107b449f15fcrow1_col0\" class=\"data row1 col0\" >0.11525</td>\n",
       "            </tr>\n",
       "            <tr>\n",
       "                        <th id=\"T_459370cd_0f60_11ea_a6fb_107b449f15fclevel0_row2\" class=\"row_heading level0 row2\" >владение</th>\n",
       "                        <td id=\"T_459370cd_0f60_11ea_a6fb_107b449f15fcrow2_col0\" class=\"data row2 col0\" >0.10938</td>\n",
       "            </tr>\n",
       "            <tr>\n",
       "                        <th id=\"T_459370cd_0f60_11ea_a6fb_107b449f15fclevel0_row3\" class=\"row_heading level0 row3\" >ключ</th>\n",
       "                        <td id=\"T_459370cd_0f60_11ea_a6fb_107b449f15fcrow3_col0\" class=\"data row3 col0\" >0.07797</td>\n",
       "            </tr>\n",
       "            <tr>\n",
       "                        <th id=\"T_459370cd_0f60_11ea_a6fb_107b449f15fclevel0_row4\" class=\"row_heading level0 row4\" >умный</th>\n",
       "                        <td id=\"T_459370cd_0f60_11ea_a6fb_107b449f15fcrow4_col0\" class=\"data row4 col0\" >0.03314</td>\n",
       "            </tr>\n",
       "            <tr>\n",
       "                        <th id=\"T_459370cd_0f60_11ea_a6fb_107b449f15fclevel0_row5\" class=\"row_heading level0 row5\" >субкультурный</th>\n",
       "                        <td id=\"T_459370cd_0f60_11ea_a6fb_107b449f15fcrow5_col0\" class=\"data row5 col0\" >0.02916</td>\n",
       "            </tr>\n",
       "            <tr>\n",
       "                        <th id=\"T_459370cd_0f60_11ea_a6fb_107b449f15fclevel0_row6\" class=\"row_heading level0 row6\" >базилик</th>\n",
       "                        <td id=\"T_459370cd_0f60_11ea_a6fb_107b449f15fcrow6_col0\" class=\"data row6 col0\" >0.02916</td>\n",
       "            </tr>\n",
       "            <tr>\n",
       "                        <th id=\"T_459370cd_0f60_11ea_a6fb_107b449f15fclevel0_row7\" class=\"row_heading level0 row7\" >справедливый</th>\n",
       "                        <td id=\"T_459370cd_0f60_11ea_a6fb_107b449f15fcrow7_col0\" class=\"data row7 col0\" >0.0279</td>\n",
       "            </tr>\n",
       "            <tr>\n",
       "                        <th id=\"T_459370cd_0f60_11ea_a6fb_107b449f15fclevel0_row8\" class=\"row_heading level0 row8\" >криптографический</th>\n",
       "                        <td id=\"T_459370cd_0f60_11ea_a6fb_107b449f15fcrow8_col0\" class=\"data row8 col0\" >0.02573</td>\n",
       "            </tr>\n",
       "            <tr>\n",
       "                        <th id=\"T_459370cd_0f60_11ea_a6fb_107b449f15fclevel0_row9\" class=\"row_heading level0 row9\" >истец</th>\n",
       "                        <td id=\"T_459370cd_0f60_11ea_a6fb_107b449f15fcrow9_col0\" class=\"data row9 col0\" >0.02402</td>\n",
       "            </tr>\n",
       "    </tbody></table>"
      ]
     },
     "metadata": {},
     "output_type": "display_data"
    },
    {
     "data": {
      "text/html": [
       "<b> машина тьюринга </b><br /> математик александр шень об идее универсальной машины, проблеме перебора и случайности"
      ]
     },
     "metadata": {},
     "output_type": "display_data"
    },
    {
     "data": {
      "text/html": [
       "<b> специфика советской литературы </b><br /> историк литературы олег лекманов о давлении государства, степени свободы и лакунах системы"
      ]
     },
     "metadata": {},
     "output_type": "display_data"
    },
    {
     "data": {
      "text/html": [
       "<b> квантовые технологии </b><br /> физик александр львовский об информационной безопасности, квантовой криптографии и сверхточных хронометрах"
      ]
     },
     "metadata": {},
     "output_type": "display_data"
    },
    {
     "data": {
      "text/html": [
       "<b> sciencehub #01квантовая криптография </b><br /> физик александр львовский о создании квантового повторителя, безопасной передаче информации и коммерциализации квантовых разработок"
      ]
     },
     "metadata": {},
     "output_type": "display_data"
    },
    {
     "data": {
      "text/html": [
       "<b> 5 книг о квантовой обработке информации </b><br /> что читать о новых методах вычислений и связи, базирующихся на принципах квантовой механики, рекомендует доктор физико-математических наук сергей кулик"
      ]
     },
     "metadata": {},
     "output_type": "display_data"
    },
    {
     "data": {
      "text/html": [
       "<b> молодежные субкультуры </b><br /> фольклорист дмитрий громов о значении молодежных культур для взросления, времени существования и признаках субкультуры"
      ]
     },
     "metadata": {},
     "output_type": "display_data"
    },
    {
     "data": {
      "text/html": [
       "<b> подтекст </b><br /> историк литературы олег лекманов о системе тарановского, стихах осипа мандельштама и функциях подтекста"
      ]
     },
     "metadata": {},
     "output_type": "display_data"
    },
    {
     "data": {
      "text/html": [
       "<b> \"современное искусство\" как понятие </b><br /> искусствовед наталья смолянская о работах энди уорхола, институализации искусства и переходе от объекта к событию"
      ]
     },
     "metadata": {},
     "output_type": "display_data"
    },
    {
     "data": {
      "text/html": [
       "<b> беспроводные сети 5g </b><br /> it-специалист александр сафонов о новых поколениях технологий lte и wi-fi,  структуре трафика и «интернете вещей»"
      ]
     },
     "metadata": {},
     "output_type": "display_data"
    },
    {
     "data": {
      "text/html": [
       "<b> faqквантовые технологии </b><br /> 6 фактов о  новом способе компьютерной безопасности, сверхточных хронометрах и квантовых датчиках"
      ]
     },
     "metadata": {},
     "output_type": "display_data"
    },
    {
     "data": {
      "text/html": [
       "<style  type=\"text/css\" >\n",
       "</style><table id=\"T_459370ce_0f60_11ea_a6fb_107b449f15fc\" style='display:inline'><thead>    <tr>        <th class=\"blank level0\" ></th>        <th class=\"col_heading level0 col0\" >topic_5 @2gramm</th>    </tr></thead><tbody>\n",
       "                <tr>\n",
       "                        <th id=\"T_459370ce_0f60_11ea_a6fb_107b449f15fclevel0_row0\" class=\"row_heading level0 row0\" >культовый_кино</th>\n",
       "                        <td id=\"T_459370ce_0f60_11ea_a6fb_107b449f15fcrow0_col0\" class=\"data row0 col0\" >0.02416</td>\n",
       "            </tr>\n",
       "            <tr>\n",
       "                        <th id=\"T_459370ce_0f60_11ea_a6fb_107b449f15fclevel0_row1\" class=\"row_heading level0 row1\" >cinema_studies</th>\n",
       "                        <td id=\"T_459370ce_0f60_11ea_a6fb_107b449f15fcrow1_col0\" class=\"data row1 col0\" >0.02247</td>\n",
       "            </tr>\n",
       "            <tr>\n",
       "                        <th id=\"T_459370ce_0f60_11ea_a6fb_107b449f15fclevel0_row2\" class=\"row_heading level0 row2\" >история_искусство</th>\n",
       "                        <td id=\"T_459370ce_0f60_11ea_a6fb_107b449f15fcrow2_col0\" class=\"data row2 col0\" >0.01463</td>\n",
       "            </tr>\n",
       "            <tr>\n",
       "                        <th id=\"T_459370ce_0f60_11ea_a6fb_107b449f15fclevel0_row3\" class=\"row_heading level0 row3\" >культурный_политика</th>\n",
       "                        <td id=\"T_459370ce_0f60_11ea_a6fb_107b449f15fcrow3_col0\" class=\"data row3 col0\" >0.01397</td>\n",
       "            </tr>\n",
       "            <tr>\n",
       "                        <th id=\"T_459370ce_0f60_11ea_a6fb_107b449f15fclevel0_row4\" class=\"row_heading level0 row4\" >министерство_культура</th>\n",
       "                        <td id=\"T_459370ce_0f60_11ea_a6fb_107b449f15fcrow4_col0\" class=\"data row4 col0\" >0.01204</td>\n",
       "            </tr>\n",
       "            <tr>\n",
       "                        <th id=\"T_459370ce_0f60_11ea_a6fb_107b449f15fclevel0_row5\" class=\"row_heading level0 row5\" >популярный_культура</th>\n",
       "                        <td id=\"T_459370ce_0f60_11ea_a6fb_107b449f15fcrow5_col0\" class=\"data row5 col0\" >0.01101</td>\n",
       "            </tr>\n",
       "            <tr>\n",
       "                        <th id=\"T_459370ce_0f60_11ea_a6fb_107b449f15fclevel0_row6\" class=\"row_heading level0 row6\" >центральный_европа</th>\n",
       "                        <td id=\"T_459370ce_0f60_11ea_a6fb_107b449f15fcrow6_col0\" class=\"data row6 col0\" >0.01002</td>\n",
       "            </tr>\n",
       "            <tr>\n",
       "                        <th id=\"T_459370ce_0f60_11ea_a6fb_107b449f15fclevel0_row7\" class=\"row_heading level0 row7\" >наследственный_болезнь</th>\n",
       "                        <td id=\"T_459370ce_0f60_11ea_a6fb_107b449f15fcrow7_col0\" class=\"data row7 col0\" >0.00988</td>\n",
       "            </tr>\n",
       "            <tr>\n",
       "                        <th id=\"T_459370ce_0f60_11ea_a6fb_107b449f15fclevel0_row8\" class=\"row_heading level0 row8\" >анализ_фильм</th>\n",
       "                        <td id=\"T_459370ce_0f60_11ea_a6fb_107b449f15fcrow8_col0\" class=\"data row8 col0\" >0.00948</td>\n",
       "            </tr>\n",
       "            <tr>\n",
       "                        <th id=\"T_459370ce_0f60_11ea_a6fb_107b449f15fclevel0_row9\" class=\"row_heading level0 row9\" >культовый_фильм</th>\n",
       "                        <td id=\"T_459370ce_0f60_11ea_a6fb_107b449f15fcrow9_col0\" class=\"data row9 col0\" >0.00778</td>\n",
       "            </tr>\n",
       "    </tbody></table><style  type=\"text/css\" >\n",
       "</style><table id=\"T_459370cf_0f60_11ea_a6fb_107b449f15fc\" style='display:inline'><thead>    <tr>        <th class=\"blank level0\" ></th>        <th class=\"col_heading level0 col0\" >topic_5 @word</th>    </tr></thead><tbody>\n",
       "                <tr>\n",
       "                        <th id=\"T_459370cf_0f60_11ea_a6fb_107b449f15fclevel0_row0\" class=\"row_heading level0 row0\" >аудитория</th>\n",
       "                        <td id=\"T_459370cf_0f60_11ea_a6fb_107b449f15fcrow0_col0\" class=\"data row0 col0\" >0.27039</td>\n",
       "            </tr>\n",
       "            <tr>\n",
       "                        <th id=\"T_459370cf_0f60_11ea_a6fb_107b449f15fclevel0_row1\" class=\"row_heading level0 row1\" >привлекать</th>\n",
       "                        <td id=\"T_459370cf_0f60_11ea_a6fb_107b449f15fcrow1_col0\" class=\"data row1 col0\" >0.18128</td>\n",
       "            </tr>\n",
       "            <tr>\n",
       "                        <th id=\"T_459370cf_0f60_11ea_a6fb_107b449f15fclevel0_row2\" class=\"row_heading level0 row2\" >вульгарный</th>\n",
       "                        <td id=\"T_459370cf_0f60_11ea_a6fb_107b449f15fcrow2_col0\" class=\"data row2 col0\" >0.09832</td>\n",
       "            </tr>\n",
       "            <tr>\n",
       "                        <th id=\"T_459370cf_0f60_11ea_a6fb_107b449f15fclevel0_row3\" class=\"row_heading level0 row3\" >historical</th>\n",
       "                        <td id=\"T_459370cf_0f60_11ea_a6fb_107b449f15fcrow3_col0\" class=\"data row3 col0\" >0.05838</td>\n",
       "            </tr>\n",
       "            <tr>\n",
       "                        <th id=\"T_459370cf_0f60_11ea_a6fb_107b449f15fclevel0_row4\" class=\"row_heading level0 row4\" >междисциплинарность</th>\n",
       "                        <td id=\"T_459370cf_0f60_11ea_a6fb_107b449f15fcrow4_col0\" class=\"data row4 col0\" >0.05531</td>\n",
       "            </tr>\n",
       "            <tr>\n",
       "                        <th id=\"T_459370cf_0f60_11ea_a6fb_107b449f15fclevel0_row5\" class=\"row_heading level0 row5\" >баварский</th>\n",
       "                        <td id=\"T_459370cf_0f60_11ea_a6fb_107b449f15fcrow5_col0\" class=\"data row5 col0\" >0.05531</td>\n",
       "            </tr>\n",
       "            <tr>\n",
       "                        <th id=\"T_459370cf_0f60_11ea_a6fb_107b449f15fclevel0_row6\" class=\"row_heading level0 row6\" >кинокритик</th>\n",
       "                        <td id=\"T_459370cf_0f60_11ea_a6fb_107b449f15fcrow6_col0\" class=\"data row6 col0\" >0.05223</td>\n",
       "            </tr>\n",
       "            <tr>\n",
       "                        <th id=\"T_459370cf_0f60_11ea_a6fb_107b449f15fclevel0_row7\" class=\"row_heading level0 row7\" >methods</th>\n",
       "                        <td id=\"T_459370cf_0f60_11ea_a6fb_107b449f15fcrow7_col0\" class=\"data row7 col0\" >0.04302</td>\n",
       "            </tr>\n",
       "            <tr>\n",
       "                        <th id=\"T_459370cf_0f60_11ea_a6fb_107b449f15fclevel0_row8\" class=\"row_heading level0 row8\" >ренессанс</th>\n",
       "                        <td id=\"T_459370cf_0f60_11ea_a6fb_107b449f15fcrow8_col0\" class=\"data row8 col0\" >0.04302</td>\n",
       "            </tr>\n",
       "            <tr>\n",
       "                        <th id=\"T_459370cf_0f60_11ea_a6fb_107b449f15fclevel0_row9\" class=\"row_heading level0 row9\" >аллюзия</th>\n",
       "                        <td id=\"T_459370cf_0f60_11ea_a6fb_107b449f15fcrow9_col0\" class=\"data row9 col0\" >0.03994</td>\n",
       "            </tr>\n",
       "    </tbody></table>"
      ]
     },
     "metadata": {},
     "output_type": "display_data"
    },
    {
     "data": {
      "text/html": [
       "<b> биогеронтология </b><br /> биоинформатик александр жаворонков о таблетке от старости, генетических программах человека и искусственных органах"
      ]
     },
     "metadata": {},
     "output_type": "display_data"
    },
    {
     "data": {
      "text/html": [
       "<b> границы исторической науки </b><br /> историк ирина савельева о дисциплинарных барьерах, исторических теориях и петушиных боях"
      ]
     },
     "metadata": {},
     "output_type": "display_data"
    },
    {
     "data": {
      "text/html": [
       "<b> кровавый навет </b><br /> историк галина зеленина о уильяме нориджском, ритуальном навете и истории мученичества"
      ]
     },
     "metadata": {},
     "output_type": "display_data"
    },
    {
     "data": {
      "text/html": [
       "<b> образы инквизиции </b><br /> историк галина зеленина о черной и белой легенде, советской историографии и ценности инквизиционных архивов"
      ]
     },
     "metadata": {},
     "output_type": "display_data"
    },
    {
     "data": {
      "text/html": [
       "<b> изобретение культурной политики </b><br /> философ руслан хестанов о функциях культуры, этапах формирования культурной политики и появлении первого министерства культуры"
      ]
     },
     "metadata": {},
     "output_type": "display_data"
    },
    {
     "data": {
      "text/html": [
       "<b> 5 книг о культовом кинематографе </b><br /> что читать о культовом кино, рекомендует доцент философского факультета ниу вшэ александр павлов"
      ]
     },
     "metadata": {},
     "output_type": "display_data"
    },
    {
     "data": {
      "text/html": [
       "<b> cinema studies </b><br /> 8 лекций философа и культуролога александра павлова о современных подходах к исследованию кинематографа"
      ]
     },
     "metadata": {},
     "output_type": "display_data"
    },
    {
     "data": {
      "text/html": [
       "<b> понятие культового кинематографа </b><br /> философ александр павлов об истории полночного кино и теории авторского кинематографа"
      ]
     },
     "metadata": {},
     "output_type": "display_data"
    },
    {
     "data": {
      "text/html": [
       "<b> теорема о человеческой непредсказуемости </b><br /> физик сет ллойд о теореме гёделя о неполноте, парадоксе лжеца и проблеме свободы воли"
      ]
     },
     "metadata": {},
     "output_type": "display_data"
    },
    {
     "data": {
      "text/html": [
       "<b> средневековая иудео-христианская полемика </b><br /> историк галина зеленина о полемике высокого средневековья, крещеных евреях, прозелитах и апостатах"
      ]
     },
     "metadata": {},
     "output_type": "display_data"
    },
    {
     "data": {
      "text/html": [
       "<style  type=\"text/css\" >\n",
       "</style><table id=\"T_459370d0_0f60_11ea_a6fb_107b449f15fc\" style='display:inline'><thead>    <tr>        <th class=\"blank level0\" ></th>        <th class=\"col_heading level0 col0\" >topic_6 @2gramm</th>    </tr></thead><tbody>\n",
       "                <tr>\n",
       "                        <th id=\"T_459370d0_0f60_11ea_a6fb_107b449f15fclevel0_row0\" class=\"row_heading level0 row0\" >молекула_днк</th>\n",
       "                        <td id=\"T_459370d0_0f60_11ea_a6fb_107b449f15fcrow0_col0\" class=\"data row0 col0\" >0.03204</td>\n",
       "            </tr>\n",
       "            <tr>\n",
       "                        <th id=\"T_459370d0_0f60_11ea_a6fb_107b449f15fclevel0_row1\" class=\"row_heading level0 row1\" >генетический_информация</th>\n",
       "                        <td id=\"T_459370d0_0f60_11ea_a6fb_107b449f15fcrow1_col0\" class=\"data row1 col0\" >0.02027</td>\n",
       "            </tr>\n",
       "            <tr>\n",
       "                        <th id=\"T_459370d0_0f60_11ea_a6fb_107b449f15fclevel0_row2\" class=\"row_heading level0 row2\" >молекулярный_биология</th>\n",
       "                        <td id=\"T_459370d0_0f60_11ea_a6fb_107b449f15fcrow2_col0\" class=\"data row2 col0\" >0.01647</td>\n",
       "            </tr>\n",
       "            <tr>\n",
       "                        <th id=\"T_459370d0_0f60_11ea_a6fb_107b449f15fclevel0_row3\" class=\"row_heading level0 row3\" >двойной_спираль</th>\n",
       "                        <td id=\"T_459370d0_0f60_11ea_a6fb_107b449f15fcrow3_col0\" class=\"data row3 col0\" >0.01515</td>\n",
       "            </tr>\n",
       "            <tr>\n",
       "                        <th id=\"T_459370d0_0f60_11ea_a6fb_107b449f15fclevel0_row4\" class=\"row_heading level0 row4\" >последовательность_днк</th>\n",
       "                        <td id=\"T_459370d0_0f60_11ea_a6fb_107b449f15fcrow4_col0\" class=\"data row4 col0\" >0.01444</td>\n",
       "            </tr>\n",
       "            <tr>\n",
       "                        <th id=\"T_459370d0_0f60_11ea_a6fb_107b449f15fclevel0_row5\" class=\"row_heading level0 row5\" >структура_днк</th>\n",
       "                        <td id=\"T_459370d0_0f60_11ea_a6fb_107b449f15fcrow5_col0\" class=\"data row5 col0\" >0.01308</td>\n",
       "            </tr>\n",
       "            <tr>\n",
       "                        <th id=\"T_459370d0_0f60_11ea_a6fb_107b449f15fclevel0_row6\" class=\"row_heading level0 row6\" >участок_днк</th>\n",
       "                        <td id=\"T_459370d0_0f60_11ea_a6fb_107b449f15fcrow6_col0\" class=\"data row6 col0\" >0.01112</td>\n",
       "            </tr>\n",
       "            <tr>\n",
       "                        <th id=\"T_459370d0_0f60_11ea_a6fb_107b449f15fclevel0_row7\" class=\"row_heading level0 row7\" >нуклеиновый_кислота</th>\n",
       "                        <td id=\"T_459370d0_0f60_11ea_a6fb_107b449f15fcrow7_col0\" class=\"data row7 col0\" >0.01073</td>\n",
       "            </tr>\n",
       "            <tr>\n",
       "                        <th id=\"T_459370d0_0f60_11ea_a6fb_107b449f15fclevel0_row8\" class=\"row_heading level0 row8\" >живой_клетка</th>\n",
       "                        <td id=\"T_459370d0_0f60_11ea_a6fb_107b449f15fcrow8_col0\" class=\"data row8 col0\" >0.00922</td>\n",
       "            </tr>\n",
       "            <tr>\n",
       "                        <th id=\"T_459370d0_0f60_11ea_a6fb_107b449f15fclevel0_row9\" class=\"row_heading level0 row9\" >живой_организм</th>\n",
       "                        <td id=\"T_459370d0_0f60_11ea_a6fb_107b449f15fcrow9_col0\" class=\"data row9 col0\" >0.00879</td>\n",
       "            </tr>\n",
       "    </tbody></table><style  type=\"text/css\" >\n",
       "</style><table id=\"T_459370d1_0f60_11ea_a6fb_107b449f15fc\" style='display:inline'><thead>    <tr>        <th class=\"blank level0\" ></th>        <th class=\"col_heading level0 col0\" >topic_6 @word</th>    </tr></thead><tbody>\n",
       "                <tr>\n",
       "                        <th id=\"T_459370d1_0f60_11ea_a6fb_107b449f15fclevel0_row0\" class=\"row_heading level0 row0\" >переменный</th>\n",
       "                        <td id=\"T_459370d1_0f60_11ea_a6fb_107b449f15fcrow0_col0\" class=\"data row0 col0\" >0.37996</td>\n",
       "            </tr>\n",
       "            <tr>\n",
       "                        <th id=\"T_459370d1_0f60_11ea_a6fb_107b449f15fclevel0_row1\" class=\"row_heading level0 row1\" >птолемей</th>\n",
       "                        <td id=\"T_459370d1_0f60_11ea_a6fb_107b449f15fcrow1_col0\" class=\"data row1 col0\" >0.07861</td>\n",
       "            </tr>\n",
       "            <tr>\n",
       "                        <th id=\"T_459370d1_0f60_11ea_a6fb_107b449f15fclevel0_row2\" class=\"row_heading level0 row2\" >прионный</th>\n",
       "                        <td id=\"T_459370d1_0f60_11ea_a6fb_107b449f15fcrow2_col0\" class=\"data row2 col0\" >0.07337</td>\n",
       "            </tr>\n",
       "            <tr>\n",
       "                        <th id=\"T_459370d1_0f60_11ea_a6fb_107b449f15fclevel0_row3\" class=\"row_heading level0 row3\" >будильник</th>\n",
       "                        <td id=\"T_459370d1_0f60_11ea_a6fb_107b449f15fcrow3_col0\" class=\"data row3 col0\" >0.06813</td>\n",
       "            </tr>\n",
       "            <tr>\n",
       "                        <th id=\"T_459370d1_0f60_11ea_a6fb_107b449f15fclevel0_row4\" class=\"row_heading level0 row4\" >извинение</th>\n",
       "                        <td id=\"T_459370d1_0f60_11ea_a6fb_107b449f15fcrow4_col0\" class=\"data row4 col0\" >0.06551</td>\n",
       "            </tr>\n",
       "            <tr>\n",
       "                        <th id=\"T_459370d1_0f60_11ea_a6fb_107b449f15fclevel0_row5\" class=\"row_heading level0 row5\" >балансирование</th>\n",
       "                        <td id=\"T_459370d1_0f60_11ea_a6fb_107b449f15fcrow5_col0\" class=\"data row5 col0\" >0.04979</td>\n",
       "            </tr>\n",
       "            <tr>\n",
       "                        <th id=\"T_459370d1_0f60_11ea_a6fb_107b449f15fclevel0_row6\" class=\"row_heading level0 row6\" >причастие</th>\n",
       "                        <td id=\"T_459370d1_0f60_11ea_a6fb_107b449f15fcrow6_col0\" class=\"data row6 col0\" >0.03931</td>\n",
       "            </tr>\n",
       "            <tr>\n",
       "                        <th id=\"T_459370d1_0f60_11ea_a6fb_107b449f15fclevel0_row7\" class=\"row_heading level0 row7\" >герцог</th>\n",
       "                        <td id=\"T_459370d1_0f60_11ea_a6fb_107b449f15fcrow7_col0\" class=\"data row7 col0\" >0.03669</td>\n",
       "            </tr>\n",
       "            <tr>\n",
       "                        <th id=\"T_459370d1_0f60_11ea_a6fb_107b449f15fclevel0_row8\" class=\"row_heading level0 row8\" >джонс</th>\n",
       "                        <td id=\"T_459370d1_0f60_11ea_a6fb_107b449f15fcrow8_col0\" class=\"data row8 col0\" >0.03145</td>\n",
       "            </tr>\n",
       "            <tr>\n",
       "                        <th id=\"T_459370d1_0f60_11ea_a6fb_107b449f15fclevel0_row9\" class=\"row_heading level0 row9\" >избыточность</th>\n",
       "                        <td id=\"T_459370d1_0f60_11ea_a6fb_107b449f15fcrow9_col0\" class=\"data row9 col0\" >0.02882</td>\n",
       "            </tr>\n",
       "    </tbody></table>"
      ]
     },
     "metadata": {},
     "output_type": "display_data"
    },
    {
     "data": {
      "text/html": [
       "<b> неоархаисты и неоноваторы русской поэзии </b><br /> филолог дмитрий бак о нормах поведения литераторов, трех реакциях на перестройку и поэзии как личном деле"
      ]
     },
     "metadata": {},
     "output_type": "display_data"
    },
    {
     "data": {
      "text/html": [
       "<b> открытие структуры днк </b><br /> биофизик максим франк-каменецкий о рентгеноструктурном анализе, формах и основаниях днк"
      ]
     },
     "metadata": {},
     "output_type": "display_data"
    },
    {
     "data": {
      "text/html": [
       "<b> каноническая структура днк </b><br /> биофизик максим франк-каменецкий о двойной спирали днк, правиле комплементарности и расшифровке генома человека"
      ]
     },
     "metadata": {},
     "output_type": "display_data"
    },
    {
     "data": {
      "text/html": [
       "<b> возникновение человека </b><br /> антрополог станислав дробышевский о примитивных чертах строения человека, человеке умелом и расселении homo"
      ]
     },
     "metadata": {},
     "output_type": "display_data"
    },
    {
     "data": {
      "text/html": [
       "<b> компактизованный геном </b><br /> биолог евгений шеваль о передаче генетической информации, компактизации генома и трехмерной организации ядра"
      ]
     },
     "metadata": {},
     "output_type": "display_data"
    },
    {
     "data": {
      "text/html": [
       "<b> развитие эмбриона человека </b><br /> эмбриолог сергей яковенко об искусственной питательной среде,  метаболомике и криобиологии"
      ]
     },
     "metadata": {},
     "output_type": "display_data"
    },
    {
     "data": {
      "text/html": [
       "<b> 5 книг о структуре днк </b><br /> что читать о молекулах, в которых хранится информация о свойствах всех живых организмов, рекомендует доктор физико-математических наук максим франк-каменецкий"
      ]
     },
     "metadata": {},
     "output_type": "display_data"
    },
    {
     "data": {
      "text/html": [
       "<b> система транскрипционной регуляции </b><br /> генетик ричард янг об универсальных факторах транскрипции, репрограммировании клеток и перспективах регенеративной медицины"
      ]
     },
     "metadata": {},
     "output_type": "display_data"
    },
    {
     "data": {
      "text/html": [
       "<b> центральная догма молекулярной биологии </b><br /> биофизик максим франк-каменецкий о транскрипции нуклеотидов в аминокислоты, ретровирусах и болезни куру"
      ]
     },
     "metadata": {},
     "output_type": "display_data"
    },
    {
     "data": {
      "text/html": [
       "<b> диалогизачем нужна биоинформатика </b><br /> беседа генетика константина северинова и биоинформатика михаила гельфанда о том, какие научные задачи помогает решать биоинформатика и как она взаимодействует с \"мокрой\" биологией"
      ]
     },
     "metadata": {},
     "output_type": "display_data"
    },
    {
     "data": {
      "text/html": [
       "<style  type=\"text/css\" >\n",
       "</style><table id=\"T_459370d2_0f60_11ea_a6fb_107b449f15fc\" style='display:inline'><thead>    <tr>        <th class=\"blank level0\" ></th>        <th class=\"col_heading level0 col0\" >topic_7 @2gramm</th>    </tr></thead><tbody>\n",
       "                <tr>\n",
       "                        <th id=\"T_459370d2_0f60_11ea_a6fb_107b449f15fclevel0_row0\" class=\"row_heading level0 row0\" >русский_язык</th>\n",
       "                        <td id=\"T_459370d2_0f60_11ea_a6fb_107b449f15fcrow0_col0\" class=\"data row0 col0\" >0.0871</td>\n",
       "            </tr>\n",
       "            <tr>\n",
       "                        <th id=\"T_459370d2_0f60_11ea_a6fb_107b449f15fclevel0_row1\" class=\"row_heading level0 row1\" >литературный_язык</th>\n",
       "                        <td id=\"T_459370d2_0f60_11ea_a6fb_107b449f15fcrow1_col0\" class=\"data row1 col0\" >0.01777</td>\n",
       "            </tr>\n",
       "            <tr>\n",
       "                        <th id=\"T_459370d2_0f60_11ea_a6fb_107b449f15fclevel0_row2\" class=\"row_heading level0 row2\" >дискурсивный_слово</th>\n",
       "                        <td id=\"T_459370d2_0f60_11ea_a6fb_107b449f15fcrow2_col0\" class=\"data row2 col0\" >0.01509</td>\n",
       "            </tr>\n",
       "            <tr>\n",
       "                        <th id=\"T_459370d2_0f60_11ea_a6fb_107b449f15fclevel0_row3\" class=\"row_heading level0 row3\" >английский_язык</th>\n",
       "                        <td id=\"T_459370d2_0f60_11ea_a6fb_107b449f15fcrow3_col0\" class=\"data row3 col0\" >0.01401</td>\n",
       "            </tr>\n",
       "            <tr>\n",
       "                        <th id=\"T_459370d2_0f60_11ea_a6fb_107b449f15fclevel0_row4\" class=\"row_heading level0 row4\" >множественный_число</th>\n",
       "                        <td id=\"T_459370d2_0f60_11ea_a6fb_107b449f15fcrow4_col0\" class=\"data row4 col0\" >0.01311</td>\n",
       "            </tr>\n",
       "            <tr>\n",
       "                        <th id=\"T_459370d2_0f60_11ea_a6fb_107b449f15fclevel0_row5\" class=\"row_heading level0 row5\" >германский_язык</th>\n",
       "                        <td id=\"T_459370d2_0f60_11ea_a6fb_107b449f15fcrow5_col0\" class=\"data row5 col0\" >0.01207</td>\n",
       "            </tr>\n",
       "            <tr>\n",
       "                        <th id=\"T_459370d2_0f60_11ea_a6fb_107b449f15fclevel0_row6\" class=\"row_heading level0 row6\" >разный_язык</th>\n",
       "                        <td id=\"T_459370d2_0f60_11ea_a6fb_107b449f15fcrow6_col0\" class=\"data row6 col0\" >0.01127</td>\n",
       "            </tr>\n",
       "            <tr>\n",
       "                        <th id=\"T_459370d2_0f60_11ea_a6fb_107b449f15fclevel0_row7\" class=\"row_heading level0 row7\" >древнерусский_язык</th>\n",
       "                        <td id=\"T_459370d2_0f60_11ea_a6fb_107b449f15fcrow7_col0\" class=\"data row7 col0\" >0.01024</td>\n",
       "            </tr>\n",
       "            <tr>\n",
       "                        <th id=\"T_459370d2_0f60_11ea_a6fb_107b449f15fclevel0_row8\" class=\"row_heading level0 row8\" >носитель_язык</th>\n",
       "                        <td id=\"T_459370d2_0f60_11ea_a6fb_107b449f15fcrow8_col0\" class=\"data row8 col0\" >0.01001</td>\n",
       "            </tr>\n",
       "            <tr>\n",
       "                        <th id=\"T_459370d2_0f60_11ea_a6fb_107b449f15fclevel0_row9\" class=\"row_heading level0 row9\" >половый_отбор</th>\n",
       "                        <td id=\"T_459370d2_0f60_11ea_a6fb_107b449f15fcrow9_col0\" class=\"data row9 col0\" >0.00985</td>\n",
       "            </tr>\n",
       "    </tbody></table><style  type=\"text/css\" >\n",
       "</style><table id=\"T_459370d3_0f60_11ea_a6fb_107b449f15fc\" style='display:inline'><thead>    <tr>        <th class=\"blank level0\" ></th>        <th class=\"col_heading level0 col0\" >topic_7 @word</th>    </tr></thead><tbody>\n",
       "                <tr>\n",
       "                        <th id=\"T_459370d3_0f60_11ea_a6fb_107b449f15fclevel0_row0\" class=\"row_heading level0 row0\" >самка</th>\n",
       "                        <td id=\"T_459370d3_0f60_11ea_a6fb_107b449f15fcrow0_col0\" class=\"data row0 col0\" >0.18326</td>\n",
       "            </tr>\n",
       "            <tr>\n",
       "                        <th id=\"T_459370d3_0f60_11ea_a6fb_107b449f15fclevel0_row1\" class=\"row_heading level0 row1\" >глагол</th>\n",
       "                        <td id=\"T_459370d3_0f60_11ea_a6fb_107b449f15fcrow1_col0\" class=\"data row1 col0\" >0.15092</td>\n",
       "            </tr>\n",
       "            <tr>\n",
       "                        <th id=\"T_459370d3_0f60_11ea_a6fb_107b449f15fclevel0_row2\" class=\"row_heading level0 row2\" >гласный</th>\n",
       "                        <td id=\"T_459370d3_0f60_11ea_a6fb_107b449f15fcrow2_col0\" class=\"data row2 col0\" >0.09882</td>\n",
       "            </tr>\n",
       "            <tr>\n",
       "                        <th id=\"T_459370d3_0f60_11ea_a6fb_107b449f15fclevel0_row3\" class=\"row_heading level0 row3\" >диалект</th>\n",
       "                        <td id=\"T_459370d3_0f60_11ea_a6fb_107b449f15fcrow3_col0\" class=\"data row3 col0\" >0.08924</td>\n",
       "            </tr>\n",
       "            <tr>\n",
       "                        <th id=\"T_459370d3_0f60_11ea_a6fb_107b449f15fclevel0_row4\" class=\"row_heading level0 row4\" >согласный</th>\n",
       "                        <td id=\"T_459370d3_0f60_11ea_a6fb_107b449f15fcrow4_col0\" class=\"data row4 col0\" >0.06898</td>\n",
       "            </tr>\n",
       "            <tr>\n",
       "                        <th id=\"T_459370d3_0f60_11ea_a6fb_107b449f15fclevel0_row5\" class=\"row_heading level0 row5\" >ледник</th>\n",
       "                        <td id=\"T_459370d3_0f60_11ea_a6fb_107b449f15fcrow5_col0\" class=\"data row5 col0\" >0.05869</td>\n",
       "            </tr>\n",
       "            <tr>\n",
       "                        <th id=\"T_459370d3_0f60_11ea_a6fb_107b449f15fclevel0_row6\" class=\"row_heading level0 row6\" >выражаться</th>\n",
       "                        <td id=\"T_459370d3_0f60_11ea_a6fb_107b449f15fcrow6_col0\" class=\"data row6 col0\" >0.03036</td>\n",
       "            </tr>\n",
       "            <tr>\n",
       "                        <th id=\"T_459370d3_0f60_11ea_a6fb_107b449f15fclevel0_row7\" class=\"row_heading level0 row7\" >услышать</th>\n",
       "                        <td id=\"T_459370d3_0f60_11ea_a6fb_107b449f15fcrow7_col0\" class=\"data row7 col0\" >0.02151</td>\n",
       "            </tr>\n",
       "            <tr>\n",
       "                        <th id=\"T_459370d3_0f60_11ea_a6fb_107b449f15fclevel0_row8\" class=\"row_heading level0 row8\" >река</th>\n",
       "                        <td id=\"T_459370d3_0f60_11ea_a6fb_107b449f15fcrow8_col0\" class=\"data row8 col0\" >0.01993</td>\n",
       "            </tr>\n",
       "            <tr>\n",
       "                        <th id=\"T_459370d3_0f60_11ea_a6fb_107b449f15fclevel0_row9\" class=\"row_heading level0 row9\" >орфографический</th>\n",
       "                        <td id=\"T_459370d3_0f60_11ea_a6fb_107b449f15fcrow9_col0\" class=\"data row9 col0\" >0.01797</td>\n",
       "            </tr>\n",
       "    </tbody></table>"
      ]
     },
     "metadata": {},
     "output_type": "display_data"
    },
    {
     "data": {
      "text/html": [
       "<b> диалектный язык </b><br /> лингвист игорь исаев об интересе к народной культуре, русской диалектологии и карте диалектного членения"
      ]
     },
     "metadata": {},
     "output_type": "display_data"
    },
    {
     "data": {
      "text/html": [
       "<b> ударение на предлог </b><br /> филолог илья иткин о русской поэзии, системе ударений и языковой традиции"
      ]
     },
     "metadata": {},
     "output_type": "display_data"
    },
    {
     "data": {
      "text/html": [
       "<b> методы полевой лингвистики </b><br /> лингвист нина сумбатова о научной этике, методе элицитации и анализе текстов"
      ]
     },
     "metadata": {},
     "output_type": "display_data"
    },
    {
     "data": {
      "text/html": [
       "<b> германские языки </b><br /> лингвист александр пиперски о глагольной системе, фонетике и синтаксисе германских языков"
      ]
     },
     "metadata": {},
     "output_type": "display_data"
    },
    {
     "data": {
      "text/html": [
       "<b> маятниковые изменения грамматики </b><br /> лингвист кирилл бабаев об упрощении грамматики, древнеанглийском и изменениях в русском языке"
      ]
     },
     "metadata": {},
     "output_type": "display_data"
    },
    {
     "data": {
      "text/html": [
       "<b> половой отбортеория против практики </b><br /> биолог варвара веденина о действии естественного отбора, турнирах между самцами и преподнесении подарков у насекомых"
      ]
     },
     "metadata": {},
     "output_type": "display_data"
    },
    {
     "data": {
      "text/html": [
       "<b> синхрония и диахрония в языкознании </b><br /> лингвист игорь исаев о синхронном срезе, русской диалектологии и работе лингвиста"
      ]
     },
     "metadata": {},
     "output_type": "display_data"
    },
    {
     "data": {
      "text/html": [
       "<b> дискурсивные слова </b><br /> лингвист владимир плунгян о частицах в русском языке, значении слов «ну» и «ведь»"
      ]
     },
     "metadata": {},
     "output_type": "display_data"
    },
    {
     "data": {
      "text/html": [
       "<b> история буквы ё </b><br /> лингвист илья иткин об особенностях произношения, берестяных грамотах и букве «ять»"
      ]
     },
     "metadata": {},
     "output_type": "display_data"
    },
    {
     "data": {
      "text/html": [
       "<b> лингвистическая география </b><br /> филолог игорь исаев о диалектологическом атласе русского языка, «восточнославянских изоглоссах» и праславянском языке"
      ]
     },
     "metadata": {},
     "output_type": "display_data"
    },
    {
     "data": {
      "text/html": [
       "<style  type=\"text/css\" >\n",
       "</style><table id=\"T_459370d4_0f60_11ea_a6fb_107b449f15fc\" style='display:inline'><thead>    <tr>        <th class=\"blank level0\" ></th>        <th class=\"col_heading level0 col0\" >topic_8 @2gramm</th>    </tr></thead><tbody>\n",
       "                <tr>\n",
       "                        <th id=\"T_459370d4_0f60_11ea_a6fb_107b449f15fclevel0_row0\" class=\"row_heading level0 row0\" >естественный_отбор</th>\n",
       "                        <td id=\"T_459370d4_0f60_11ea_a6fb_107b449f15fcrow0_col0\" class=\"data row0 col0\" >0.02086</td>\n",
       "            </tr>\n",
       "            <tr>\n",
       "                        <th id=\"T_459370d4_0f60_11ea_a6fb_107b449f15fclevel0_row1\" class=\"row_heading level0 row1\" >иммунный_система</th>\n",
       "                        <td id=\"T_459370d4_0f60_11ea_a6fb_107b449f15fcrow1_col0\" class=\"data row1 col0\" >0.01652</td>\n",
       "            </tr>\n",
       "            <tr>\n",
       "                        <th id=\"T_459370d4_0f60_11ea_a6fb_107b449f15fclevel0_row2\" class=\"row_heading level0 row2\" >теория_эволюция</th>\n",
       "                        <td id=\"T_459370d4_0f60_11ea_a6fb_107b449f15fcrow2_col0\" class=\"data row2 col0\" >0.01015</td>\n",
       "            </tr>\n",
       "            <tr>\n",
       "                        <th id=\"T_459370d4_0f60_11ea_a6fb_107b449f15fclevel0_row3\" class=\"row_heading level0 row3\" >кишечный_палочка</th>\n",
       "                        <td id=\"T_459370d4_0f60_11ea_a6fb_107b449f15fcrow3_col0\" class=\"data row3 col0\" >0.00993</td>\n",
       "            </tr>\n",
       "            <tr>\n",
       "                        <th id=\"T_459370d4_0f60_11ea_a6fb_107b449f15fclevel0_row4\" class=\"row_heading level0 row4\" >пермский_период</th>\n",
       "                        <td id=\"T_459370d4_0f60_11ea_a6fb_107b449f15fcrow4_col0\" class=\"data row4 col0\" >0.00964</td>\n",
       "            </tr>\n",
       "            <tr>\n",
       "                        <th id=\"T_459370d4_0f60_11ea_a6fb_107b449f15fclevel0_row5\" class=\"row_heading level0 row5\" >живой_организм</th>\n",
       "                        <td id=\"T_459370d4_0f60_11ea_a6fb_107b449f15fcrow5_col0\" class=\"data row5 col0\" >0.00933</td>\n",
       "            </tr>\n",
       "            <tr>\n",
       "                        <th id=\"T_459370d4_0f60_11ea_a6fb_107b449f15fclevel0_row6\" class=\"row_heading level0 row6\" >летучий_мышь</th>\n",
       "                        <td id=\"T_459370d4_0f60_11ea_a6fb_107b449f15fcrow6_col0\" class=\"data row6 col0\" >0.00908</td>\n",
       "            </tr>\n",
       "            <tr>\n",
       "                        <th id=\"T_459370d4_0f60_11ea_a6fb_107b449f15fclevel0_row7\" class=\"row_heading level0 row7\" >иммунный_ответ</th>\n",
       "                        <td id=\"T_459370d4_0f60_11ea_a6fb_107b449f15fcrow7_col0\" class=\"data row7 col0\" >0.00796</td>\n",
       "            </tr>\n",
       "            <tr>\n",
       "                        <th id=\"T_459370d4_0f60_11ea_a6fb_107b449f15fclevel0_row8\" class=\"row_heading level0 row8\" >происхождение_жизнь</th>\n",
       "                        <td id=\"T_459370d4_0f60_11ea_a6fb_107b449f15fcrow8_col0\" class=\"data row8 col0\" >0.00771</td>\n",
       "            </tr>\n",
       "            <tr>\n",
       "                        <th id=\"T_459370d4_0f60_11ea_a6fb_107b449f15fclevel0_row9\" class=\"row_heading level0 row9\" >извержение_вулкан</th>\n",
       "                        <td id=\"T_459370d4_0f60_11ea_a6fb_107b449f15fcrow9_col0\" class=\"data row9 col0\" >0.00749</td>\n",
       "            </tr>\n",
       "    </tbody></table><style  type=\"text/css\" >\n",
       "</style><table id=\"T_459370d5_0f60_11ea_a6fb_107b449f15fc\" style='display:inline'><thead>    <tr>        <th class=\"blank level0\" ></th>        <th class=\"col_heading level0 col0\" >topic_8 @word</th>    </tr></thead><tbody>\n",
       "                <tr>\n",
       "                        <th id=\"T_459370d5_0f60_11ea_a6fb_107b449f15fclevel0_row0\" class=\"row_heading level0 row0\" >дарвин</th>\n",
       "                        <td id=\"T_459370d5_0f60_11ea_a6fb_107b449f15fcrow0_col0\" class=\"data row0 col0\" >0.10871</td>\n",
       "            </tr>\n",
       "            <tr>\n",
       "                        <th id=\"T_459370d5_0f60_11ea_a6fb_107b449f15fclevel0_row1\" class=\"row_heading level0 row1\" >отбор</th>\n",
       "                        <td id=\"T_459370d5_0f60_11ea_a6fb_107b449f15fcrow1_col0\" class=\"data row1 col0\" >0.09137</td>\n",
       "            </tr>\n",
       "            <tr>\n",
       "                        <th id=\"T_459370d5_0f60_11ea_a6fb_107b449f15fclevel0_row2\" class=\"row_heading level0 row2\" >хозяин</th>\n",
       "                        <td id=\"T_459370d5_0f60_11ea_a6fb_107b449f15fcrow2_col0\" class=\"data row2 col0\" >0.07162</td>\n",
       "            </tr>\n",
       "            <tr>\n",
       "                        <th id=\"T_459370d5_0f60_11ea_a6fb_107b449f15fclevel0_row3\" class=\"row_heading level0 row3\" >генетик</th>\n",
       "                        <td id=\"T_459370d5_0f60_11ea_a6fb_107b449f15fcrow3_col0\" class=\"data row3 col0\" >0.07079</td>\n",
       "            </tr>\n",
       "            <tr>\n",
       "                        <th id=\"T_459370d5_0f60_11ea_a6fb_107b449f15fclevel0_row4\" class=\"row_heading level0 row4\" >иммунитет</th>\n",
       "                        <td id=\"T_459370d5_0f60_11ea_a6fb_107b449f15fcrow4_col0\" class=\"data row4 col0\" >0.06995</td>\n",
       "            </tr>\n",
       "            <tr>\n",
       "                        <th id=\"T_459370d5_0f60_11ea_a6fb_107b449f15fclevel0_row5\" class=\"row_heading level0 row5\" >след</th>\n",
       "                        <td id=\"T_459370d5_0f60_11ea_a6fb_107b449f15fcrow5_col0\" class=\"data row5 col0\" >0.04578</td>\n",
       "            </tr>\n",
       "            <tr>\n",
       "                        <th id=\"T_459370d5_0f60_11ea_a6fb_107b449f15fclevel0_row6\" class=\"row_heading level0 row6\" >растительность</th>\n",
       "                        <td id=\"T_459370d5_0f60_11ea_a6fb_107b449f15fcrow6_col0\" class=\"data row6 col0\" >0.04045</td>\n",
       "            </tr>\n",
       "            <tr>\n",
       "                        <th id=\"T_459370d5_0f60_11ea_a6fb_107b449f15fclevel0_row7\" class=\"row_heading level0 row7\" >родственник</th>\n",
       "                        <td id=\"T_459370d5_0f60_11ea_a6fb_107b449f15fcrow7_col0\" class=\"data row7 col0\" >0.03577</td>\n",
       "            </tr>\n",
       "            <tr>\n",
       "                        <th id=\"T_459370d5_0f60_11ea_a6fb_107b449f15fclevel0_row8\" class=\"row_heading level0 row8\" >грибов</th>\n",
       "                        <td id=\"T_459370d5_0f60_11ea_a6fb_107b449f15fcrow8_col0\" class=\"data row8 col0\" >0.02865</td>\n",
       "            </tr>\n",
       "            <tr>\n",
       "                        <th id=\"T_459370d5_0f60_11ea_a6fb_107b449f15fclevel0_row9\" class=\"row_heading level0 row9\" >подниматься</th>\n",
       "                        <td id=\"T_459370d5_0f60_11ea_a6fb_107b449f15fcrow9_col0\" class=\"data row9 col0\" >0.02743</td>\n",
       "            </tr>\n",
       "    </tbody></table>"
      ]
     },
     "metadata": {},
     "output_type": "display_data"
    },
    {
     "data": {
      "text/html": [
       "<b> микробы докембрия </b><br /> микробиолог зоригто намсараев об условиях докембрийского периода, микробных матах и теории первичного бульона"
      ]
     },
     "metadata": {},
     "output_type": "display_data"
    },
    {
     "data": {
      "text/html": [
       "<b> пермский период </b><br /> палеоботаник сергей наугольных о возникновении пермской системы, эпохе высокого стояния континентов и пермо-триасовом вымирании видов"
      ]
     },
     "metadata": {},
     "output_type": "display_data"
    },
    {
     "data": {
      "text/html": [
       "<b> faqпермский период </b><br /> 7 фактов о периодизации пермской геологической системы"
      ]
     },
     "metadata": {},
     "output_type": "display_data"
    },
    {
     "data": {
      "text/html": [
       "<b> палеофитоценоз </b><br /> палеоботаник сергей наугольных о реконструкции раннепермской растительности, переходе к филоценогенетике и ориктоценозе"
      ]
     },
     "metadata": {},
     "output_type": "display_data"
    },
    {
     "data": {
      "text/html": [
       "<b> третья революция в эволюционной биологии </b><br /> биолог елена гороховская о неодарвинизме,  иерархичности генов и понимании роли отбора"
      ]
     },
     "metadata": {},
     "output_type": "display_data"
    },
    {
     "data": {
      "text/html": [
       "<b> инфекционный процесс </b><br /> иммунолог александр апт об эволюции паразитов, адаптивном иммунитете и инфекционных палочках"
      ]
     },
     "metadata": {},
     "output_type": "display_data"
    },
    {
     "data": {
      "text/html": [
       "<b> природа вулканов </b><br /> физик олег мельник о горячих точках, проявлениях вулканизма и взрывных извержениях"
      ]
     },
     "metadata": {},
     "output_type": "display_data"
    },
    {
     "data": {
      "text/html": [
       "<b> палеоботаника </b><br /> палеоботаник сергей наугольных об истории дисциплины, главных открытиях и ее связи с палеозоологией"
      ]
     },
     "metadata": {},
     "output_type": "display_data"
    },
    {
     "data": {
      "text/html": [
       "<b> иммунология как область знания </b><br /> онколог сергей румянцев о напряженности системы, иммунологических текстах и индивидуальных препаратах"
      ]
     },
     "metadata": {},
     "output_type": "display_data"
    },
    {
     "data": {
      "text/html": [
       "<b> эволюция языка </b><br /> лингвист светлана бурлак о реинтепретации в языке, глаголе «like» и переосмыслении частей слова"
      ]
     },
     "metadata": {},
     "output_type": "display_data"
    },
    {
     "data": {
      "text/html": [
       "<style  type=\"text/css\" >\n",
       "</style><table id=\"T_459370d6_0f60_11ea_a6fb_107b449f15fc\" style='display:inline'><thead>    <tr>        <th class=\"blank level0\" ></th>        <th class=\"col_heading level0 col0\" >topic_9 @2gramm</th>    </tr></thead><tbody>\n",
       "                <tr>\n",
       "                        <th id=\"T_459370d6_0f60_11ea_a6fb_107b449f15fclevel0_row0\" class=\"row_heading level0 row0\" >мировой_война</th>\n",
       "                        <td id=\"T_459370d6_0f60_11ea_a6fb_107b449f15fcrow0_col0\" class=\"data row0 col0\" >0.02753</td>\n",
       "            </tr>\n",
       "            <tr>\n",
       "                        <th id=\"T_459370d6_0f60_11ea_a6fb_107b449f15fclevel0_row1\" class=\"row_heading level0 row1\" >социология_право</th>\n",
       "                        <td id=\"T_459370d6_0f60_11ea_a6fb_107b449f15fcrow1_col0\" class=\"data row1 col0\" >0.0211</td>\n",
       "            </tr>\n",
       "            <tr>\n",
       "                        <th id=\"T_459370d6_0f60_11ea_a6fb_107b449f15fclevel0_row2\" class=\"row_heading level0 row2\" >политика_память</th>\n",
       "                        <td id=\"T_459370d6_0f60_11ea_a6fb_107b449f15fcrow2_col0\" class=\"data row2 col0\" >0.01669</td>\n",
       "            </tr>\n",
       "            <tr>\n",
       "                        <th id=\"T_459370d6_0f60_11ea_a6fb_107b449f15fclevel0_row3\" class=\"row_heading level0 row3\" >xviii_век</th>\n",
       "                        <td id=\"T_459370d6_0f60_11ea_a6fb_107b449f15fcrow3_col0\" class=\"data row3 col0\" >0.01401</td>\n",
       "            </tr>\n",
       "            <tr>\n",
       "                        <th id=\"T_459370d6_0f60_11ea_a6fb_107b449f15fclevel0_row4\" class=\"row_heading level0 row4\" >французский_революция</th>\n",
       "                        <td id=\"T_459370d6_0f60_11ea_a6fb_107b449f15fcrow4_col0\" class=\"data row4 col0\" >0.00984</td>\n",
       "            </tr>\n",
       "            <tr>\n",
       "                        <th id=\"T_459370d6_0f60_11ea_a6fb_107b449f15fclevel0_row5\" class=\"row_heading level0 row5\" >российский_империя</th>\n",
       "                        <td id=\"T_459370d6_0f60_11ea_a6fb_107b449f15fcrow5_col0\" class=\"data row5 col0\" >0.00959</td>\n",
       "            </tr>\n",
       "            <tr>\n",
       "                        <th id=\"T_459370d6_0f60_11ea_a6fb_107b449f15fclevel0_row6\" class=\"row_heading level0 row6\" >екатерина_ii</th>\n",
       "                        <td id=\"T_459370d6_0f60_11ea_a6fb_107b449f15fcrow6_col0\" class=\"data row6 col0\" >0.00958</td>\n",
       "            </tr>\n",
       "            <tr>\n",
       "                        <th id=\"T_459370d6_0f60_11ea_a6fb_107b449f15fclevel0_row7\" class=\"row_heading level0 row7\" >декларация_независимость</th>\n",
       "                        <td id=\"T_459370d6_0f60_11ea_a6fb_107b449f15fcrow7_col0\" class=\"data row7 col0\" >0.00942</td>\n",
       "            </tr>\n",
       "            <tr>\n",
       "                        <th id=\"T_459370d6_0f60_11ea_a6fb_107b449f15fclevel0_row8\" class=\"row_heading level0 row8\" >крестовый_поход</th>\n",
       "                        <td id=\"T_459370d6_0f60_11ea_a6fb_107b449f15fcrow8_col0\" class=\"data row8 col0\" >0.00889</td>\n",
       "            </tr>\n",
       "            <tr>\n",
       "                        <th id=\"T_459370d6_0f60_11ea_a6fb_107b449f15fclevel0_row9\" class=\"row_heading level0 row9\" >третье_сословие</th>\n",
       "                        <td id=\"T_459370d6_0f60_11ea_a6fb_107b449f15fcrow9_col0\" class=\"data row9 col0\" >0.00843</td>\n",
       "            </tr>\n",
       "    </tbody></table><style  type=\"text/css\" >\n",
       "</style><table id=\"T_459370d7_0f60_11ea_a6fb_107b449f15fc\" style='display:inline'><thead>    <tr>        <th class=\"blank level0\" ></th>        <th class=\"col_heading level0 col0\" >topic_9 @word</th>    </tr></thead><tbody>\n",
       "                <tr>\n",
       "                        <th id=\"T_459370d7_0f60_11ea_a6fb_107b449f15fclevel0_row0\" class=\"row_heading level0 row0\" >корпорация</th>\n",
       "                        <td id=\"T_459370d7_0f60_11ea_a6fb_107b449f15fcrow0_col0\" class=\"data row0 col0\" >0.13175</td>\n",
       "            </tr>\n",
       "            <tr>\n",
       "                        <th id=\"T_459370d7_0f60_11ea_a6fb_107b449f15fclevel0_row1\" class=\"row_heading level0 row1\" >парламент</th>\n",
       "                        <td id=\"T_459370d7_0f60_11ea_a6fb_107b449f15fcrow1_col0\" class=\"data row1 col0\" >0.10755</td>\n",
       "            </tr>\n",
       "            <tr>\n",
       "                        <th id=\"T_459370d7_0f60_11ea_a6fb_107b449f15fclevel0_row2\" class=\"row_heading level0 row2\" >поражение</th>\n",
       "                        <td id=\"T_459370d7_0f60_11ea_a6fb_107b449f15fcrow2_col0\" class=\"data row2 col0\" >0.10486</td>\n",
       "            </tr>\n",
       "            <tr>\n",
       "                        <th id=\"T_459370d7_0f60_11ea_a6fb_107b449f15fclevel0_row3\" class=\"row_heading level0 row3\" >анархист</th>\n",
       "                        <td id=\"T_459370d7_0f60_11ea_a6fb_107b449f15fcrow3_col0\" class=\"data row3 col0\" >0.06184</td>\n",
       "            </tr>\n",
       "            <tr>\n",
       "                        <th id=\"T_459370d7_0f60_11ea_a6fb_107b449f15fclevel0_row4\" class=\"row_heading level0 row4\" >заключение</th>\n",
       "                        <td id=\"T_459370d7_0f60_11ea_a6fb_107b449f15fcrow4_col0\" class=\"data row4 col0\" >0.05611</td>\n",
       "            </tr>\n",
       "            <tr>\n",
       "                        <th id=\"T_459370d7_0f60_11ea_a6fb_107b449f15fclevel0_row5\" class=\"row_heading level0 row5\" >анархия</th>\n",
       "                        <td id=\"T_459370d7_0f60_11ea_a6fb_107b449f15fcrow5_col0\" class=\"data row5 col0\" >0.03764</td>\n",
       "            </tr>\n",
       "            <tr>\n",
       "                        <th id=\"T_459370d7_0f60_11ea_a6fb_107b449f15fclevel0_row6\" class=\"row_heading level0 row6\" >плантация</th>\n",
       "                        <td id=\"T_459370d7_0f60_11ea_a6fb_107b449f15fcrow6_col0\" class=\"data row6 col0\" >0.03495</td>\n",
       "            </tr>\n",
       "            <tr>\n",
       "                        <th id=\"T_459370d7_0f60_11ea_a6fb_107b449f15fclevel0_row7\" class=\"row_heading level0 row7\" >подсудимый</th>\n",
       "                        <td id=\"T_459370d7_0f60_11ea_a6fb_107b449f15fcrow7_col0\" class=\"data row7 col0\" >0.03361</td>\n",
       "            </tr>\n",
       "            <tr>\n",
       "                        <th id=\"T_459370d7_0f60_11ea_a6fb_107b449f15fclevel0_row8\" class=\"row_heading level0 row8\" >договариваться</th>\n",
       "                        <td id=\"T_459370d7_0f60_11ea_a6fb_107b449f15fcrow8_col0\" class=\"data row8 col0\" >0.03227</td>\n",
       "            </tr>\n",
       "            <tr>\n",
       "                        <th id=\"T_459370d7_0f60_11ea_a6fb_107b449f15fclevel0_row9\" class=\"row_heading level0 row9\" >крестоносец</th>\n",
       "                        <td id=\"T_459370d7_0f60_11ea_a6fb_107b449f15fcrow9_col0\" class=\"data row9 col0\" >0.02823</td>\n",
       "            </tr>\n",
       "    </tbody></table>"
      ]
     },
     "metadata": {},
     "output_type": "display_data"
    },
    {
     "data": {
      "text/html": [
       "<b> последствия первой мировой войны </b><br /> историк илья женин о последних годах войны, версальском мирном договоре и судьбе союзников германии"
      ]
     },
     "metadata": {},
     "output_type": "display_data"
    },
    {
     "data": {
      "text/html": [
       "<b> универсализм прав человека </b><br /> политолог анна севортьян о великой хартии вольностей, всеобщей декларации прав человека и метаправе"
      ]
     },
     "metadata": {},
     "output_type": "display_data"
    },
    {
     "data": {
      "text/html": [
       "<b> свобода. равенство. братство </b><br /> тест про самую известную революцию европы и людей, которые ее вершили"
      ]
     },
     "metadata": {},
     "output_type": "display_data"
    },
    {
     "data": {
      "text/html": [
       "<style  type=\"text/css\" >\n",
       "</style><table id=\"T_459370d8_0f60_11ea_a6fb_107b449f15fc\" style='display:inline'><thead>    <tr>        <th class=\"blank level0\" ></th>        <th class=\"col_heading level0 col0\" >topic_10 @2gramm</th>    </tr></thead><tbody>\n",
       "                <tr>\n",
       "                        <th id=\"T_459370d8_0f60_11ea_a6fb_107b449f15fclevel0_row0\" class=\"row_heading level0 row0\" >орган_чувство</th>\n",
       "                        <td id=\"T_459370d8_0f60_11ea_a6fb_107b449f15fcrow0_col0\" class=\"data row0 col0\" >0.01847</td>\n",
       "            </tr>\n",
       "            <tr>\n",
       "                        <th id=\"T_459370d8_0f60_11ea_a6fb_107b449f15fclevel0_row1\" class=\"row_heading level0 row1\" >массовый_культура</th>\n",
       "                        <td id=\"T_459370d8_0f60_11ea_a6fb_107b449f15fcrow1_col0\" class=\"data row1 col0\" >0.01761</td>\n",
       "            </tr>\n",
       "            <tr>\n",
       "                        <th id=\"T_459370d8_0f60_11ea_a6fb_107b449f15fclevel0_row2\" class=\"row_heading level0 row2\" >квантовый_точка</th>\n",
       "                        <td id=\"T_459370d8_0f60_11ea_a6fb_107b449f15fcrow2_col0\" class=\"data row2 col0\" >0.01671</td>\n",
       "            </tr>\n",
       "            <tr>\n",
       "                        <th id=\"T_459370d8_0f60_11ea_a6fb_107b449f15fclevel0_row3\" class=\"row_heading level0 row3\" >поведение_животное</th>\n",
       "                        <td id=\"T_459370d8_0f60_11ea_a6fb_107b449f15fcrow3_col0\" class=\"data row3 col0\" >0.01324</td>\n",
       "            </tr>\n",
       "            <tr>\n",
       "                        <th id=\"T_459370d8_0f60_11ea_a6fb_107b449f15fclevel0_row4\" class=\"row_heading level0 row4\" >рак_грудь</th>\n",
       "                        <td id=\"T_459370d8_0f60_11ea_a6fb_107b449f15fcrow4_col0\" class=\"data row4 col0\" >0.00896</td>\n",
       "            </tr>\n",
       "            <tr>\n",
       "                        <th id=\"T_459370d8_0f60_11ea_a6fb_107b449f15fclevel0_row5\" class=\"row_heading level0 row5\" >живой_мертвец</th>\n",
       "                        <td id=\"T_459370d8_0f60_11ea_a6fb_107b449f15fcrow5_col0\" class=\"data row5 col0\" >0.0086</td>\n",
       "            </tr>\n",
       "            <tr>\n",
       "                        <th id=\"T_459370d8_0f60_11ea_a6fb_107b449f15fclevel0_row6\" class=\"row_heading level0 row6\" >человеческий_язык</th>\n",
       "                        <td id=\"T_459370d8_0f60_11ea_a6fb_107b449f15fcrow6_col0\" class=\"data row6 col0\" >0.0058</td>\n",
       "            </tr>\n",
       "            <tr>\n",
       "                        <th id=\"T_459370d8_0f60_11ea_a6fb_107b449f15fclevel0_row7\" class=\"row_heading level0 row7\" >форма_поведение</th>\n",
       "                        <td id=\"T_459370d8_0f60_11ea_a6fb_107b449f15fcrow7_col0\" class=\"data row7 col0\" >0.00551</td>\n",
       "            </tr>\n",
       "            <tr>\n",
       "                        <th id=\"T_459370d8_0f60_11ea_a6fb_107b449f15fclevel0_row8\" class=\"row_heading level0 row8\" >теория_информация</th>\n",
       "                        <td id=\"T_459370d8_0f60_11ea_a6fb_107b449f15fcrow8_col0\" class=\"data row8 col0\" >0.00486</td>\n",
       "            </tr>\n",
       "            <tr>\n",
       "                        <th id=\"T_459370d8_0f60_11ea_a6fb_107b449f15fclevel0_row9\" class=\"row_heading level0 row9\" >голосовой_связка</th>\n",
       "                        <td id=\"T_459370d8_0f60_11ea_a6fb_107b449f15fcrow9_col0\" class=\"data row9 col0\" >0.00433</td>\n",
       "            </tr>\n",
       "    </tbody></table><style  type=\"text/css\" >\n",
       "</style><table id=\"T_459370d9_0f60_11ea_a6fb_107b449f15fc\" style='display:inline'><thead>    <tr>        <th class=\"blank level0\" ></th>        <th class=\"col_heading level0 col0\" >topic_10 @word</th>    </tr></thead><tbody>\n",
       "                <tr>\n",
       "                        <th id=\"T_459370d9_0f60_11ea_a6fb_107b449f15fclevel0_row0\" class=\"row_heading level0 row0\" >речевой</th>\n",
       "                        <td id=\"T_459370d9_0f60_11ea_a6fb_107b449f15fcrow0_col0\" class=\"data row0 col0\" >0.24558</td>\n",
       "            </tr>\n",
       "            <tr>\n",
       "                        <th id=\"T_459370d9_0f60_11ea_a6fb_107b449f15fclevel0_row1\" class=\"row_heading level0 row1\" >переставать</th>\n",
       "                        <td id=\"T_459370d9_0f60_11ea_a6fb_107b449f15fcrow1_col0\" class=\"data row1 col0\" >0.09246</td>\n",
       "            </tr>\n",
       "            <tr>\n",
       "                        <th id=\"T_459370d9_0f60_11ea_a6fb_107b449f15fclevel0_row2\" class=\"row_heading level0 row2\" >впечатление</th>\n",
       "                        <td id=\"T_459370d9_0f60_11ea_a6fb_107b449f15fcrow2_col0\" class=\"data row2 col0\" >0.09025</td>\n",
       "            </tr>\n",
       "            <tr>\n",
       "                        <th id=\"T_459370d9_0f60_11ea_a6fb_107b449f15fclevel0_row3\" class=\"row_heading level0 row3\" >трилобит</th>\n",
       "                        <td id=\"T_459370d9_0f60_11ea_a6fb_107b449f15fcrow3_col0\" class=\"data row3 col0\" >0.06934</td>\n",
       "            </tr>\n",
       "            <tr>\n",
       "                        <th id=\"T_459370d9_0f60_11ea_a6fb_107b449f15fclevel0_row4\" class=\"row_heading level0 row4\" >мертвец</th>\n",
       "                        <td id=\"T_459370d9_0f60_11ea_a6fb_107b449f15fcrow4_col0\" class=\"data row4 col0\" >0.04912</td>\n",
       "            </tr>\n",
       "            <tr>\n",
       "                        <th id=\"T_459370d9_0f60_11ea_a6fb_107b449f15fclevel0_row5\" class=\"row_heading level0 row5\" >чередование</th>\n",
       "                        <td id=\"T_459370d9_0f60_11ea_a6fb_107b449f15fcrow5_col0\" class=\"data row5 col0\" >0.04623</td>\n",
       "            </tr>\n",
       "            <tr>\n",
       "                        <th id=\"T_459370d9_0f60_11ea_a6fb_107b449f15fclevel0_row6\" class=\"row_heading level0 row6\" >гортань</th>\n",
       "                        <td id=\"T_459370d9_0f60_11ea_a6fb_107b449f15fcrow6_col0\" class=\"data row6 col0\" >0.04623</td>\n",
       "            </tr>\n",
       "            <tr>\n",
       "                        <th id=\"T_459370d9_0f60_11ea_a6fb_107b449f15fclevel0_row7\" class=\"row_heading level0 row7\" >марсоход</th>\n",
       "                        <td id=\"T_459370d9_0f60_11ea_a6fb_107b449f15fcrow7_col0\" class=\"data row7 col0\" >0.04045</td>\n",
       "            </tr>\n",
       "            <tr>\n",
       "                        <th id=\"T_459370d9_0f60_11ea_a6fb_107b449f15fclevel0_row8\" class=\"row_heading level0 row8\" >эффектный</th>\n",
       "                        <td id=\"T_459370d9_0f60_11ea_a6fb_107b449f15fcrow8_col0\" class=\"data row8 col0\" >0.03756</td>\n",
       "            </tr>\n",
       "            <tr>\n",
       "                        <th id=\"T_459370d9_0f60_11ea_a6fb_107b449f15fclevel0_row9\" class=\"row_heading level0 row9\" >мандат</th>\n",
       "                        <td id=\"T_459370d9_0f60_11ea_a6fb_107b449f15fcrow9_col0\" class=\"data row9 col0\" >0.03467</td>\n",
       "            </tr>\n",
       "    </tbody></table>"
      ]
     },
     "metadata": {},
     "output_type": "display_data"
    },
    {
     "data": {
      "text/html": [
       "<b> квантовые точки </b><br /> физик михаил киселев об одноэлектронных транзисторах, кулоновской блокаде и квантовых компьютерах"
      ]
     },
     "metadata": {},
     "output_type": "display_data"
    },
    {
     "data": {
      "text/html": [
       "<b> вопрос ученому на look at me </b><br /> постнаука совместно с сайтом look at мe запускает новый спецпроект"
      ]
     },
     "metadata": {},
     "output_type": "display_data"
    },
    {
     "data": {
      "text/html": [
       "<b> квантовые точки и дисплеи </b><br /> физик алексей витухновский о смене поколений экранов телевизоров, современных технологиях создания дисплеев и новом виде излучателей"
      ]
     },
     "metadata": {},
     "output_type": "display_data"
    },
    {
     "data": {
      "text/html": [
       "<b> ликвидация безграмотности </b><br /> постнаука совместно с газетой «московские новости» запускает новый проект о книгах"
      ]
     },
     "metadata": {},
     "output_type": "display_data"
    },
    {
     "data": {
      "text/html": [
       "<b> зомби в массовой культуре </b><br /> культуролог александр павлов о фильмах джорджа ромеро, политическом подтексте и теории международных отношений"
      ]
     },
     "metadata": {},
     "output_type": "display_data"
    },
    {
     "data": {
      "text/html": [
       "<b> когнитивная этология </b><br /> биолог жанна резникова об истории развития этологии, социальных взаимодействиях между животными и сигнальной наследственности"
      ]
     },
     "metadata": {},
     "output_type": "display_data"
    },
    {
     "data": {
      "text/html": [
       "<b> эволюционная биология любви </b><br /> биолог александр марков о ювенилизации, моногамии и устойчивых привязанностях"
      ]
     },
     "metadata": {},
     "output_type": "display_data"
    },
    {
     "data": {
      "text/html": [
       "<style  type=\"text/css\" >\n",
       "</style><table id=\"T_459370da_0f60_11ea_a6fb_107b449f15fc\" style='display:inline'><thead>    <tr>        <th class=\"blank level0\" ></th>        <th class=\"col_heading level0 col0\" >topic_11 @2gramm</th>    </tr></thead><tbody>\n",
       "                <tr>\n",
       "                        <th id=\"T_459370da_0f60_11ea_a6fb_107b449f15fclevel0_row0\" class=\"row_heading level0 row0\" >элементарный_частица</th>\n",
       "                        <td id=\"T_459370da_0f60_11ea_a6fb_107b449f15fcrow0_col0\" class=\"data row0 col0\" >0.03361</td>\n",
       "            </tr>\n",
       "            <tr>\n",
       "                        <th id=\"T_459370da_0f60_11ea_a6fb_107b449f15fclevel0_row1\" class=\"row_heading level0 row1\" >стандартный_модель</th>\n",
       "                        <td id=\"T_459370da_0f60_11ea_a6fb_107b449f15fcrow1_col0\" class=\"data row1 col0\" >0.02296</td>\n",
       "            </tr>\n",
       "            <tr>\n",
       "                        <th id=\"T_459370da_0f60_11ea_a6fb_107b449f15fclevel0_row2\" class=\"row_heading level0 row2\" >теория_струна</th>\n",
       "                        <td id=\"T_459370da_0f60_11ea_a6fb_107b449f15fcrow2_col0\" class=\"data row2 col0\" >0.01902</td>\n",
       "            </tr>\n",
       "            <tr>\n",
       "                        <th id=\"T_459370da_0f60_11ea_a6fb_107b449f15fclevel0_row3\" class=\"row_heading level0 row3\" >скорость_свет</th>\n",
       "                        <td id=\"T_459370da_0f60_11ea_a6fb_107b449f15fcrow3_col0\" class=\"data row3 col0\" >0.01161</td>\n",
       "            </tr>\n",
       "            <tr>\n",
       "                        <th id=\"T_459370da_0f60_11ea_a6fb_107b449f15fclevel0_row4\" class=\"row_heading level0 row4\" >электрический_заряд</th>\n",
       "                        <td id=\"T_459370da_0f60_11ea_a6fb_107b449f15fcrow4_col0\" class=\"data row4 col0\" >0.01126</td>\n",
       "            </tr>\n",
       "            <tr>\n",
       "                        <th id=\"T_459370da_0f60_11ea_a6fb_107b449f15fclevel0_row5\" class=\"row_heading level0 row5\" >квантовый_механика</th>\n",
       "                        <td id=\"T_459370da_0f60_11ea_a6fb_107b449f15fcrow5_col0\" class=\"data row5 col0\" >0.00849</td>\n",
       "            </tr>\n",
       "            <tr>\n",
       "                        <th id=\"T_459370da_0f60_11ea_a6fb_107b449f15fclevel0_row6\" class=\"row_heading level0 row6\" >магнитный_поль</th>\n",
       "                        <td id=\"T_459370da_0f60_11ea_a6fb_107b449f15fcrow6_col0\" class=\"data row6 col0\" >0.00839</td>\n",
       "            </tr>\n",
       "            <tr>\n",
       "                        <th id=\"T_459370da_0f60_11ea_a6fb_107b449f15fclevel0_row7\" class=\"row_heading level0 row7\" >сильный_взаимодействие</th>\n",
       "                        <td id=\"T_459370da_0f60_11ea_a6fb_107b449f15fcrow7_col0\" class=\"data row7 col0\" >0.00836</td>\n",
       "            </tr>\n",
       "            <tr>\n",
       "                        <th id=\"T_459370da_0f60_11ea_a6fb_107b449f15fclevel0_row8\" class=\"row_heading level0 row8\" >магнитный_пол</th>\n",
       "                        <td id=\"T_459370da_0f60_11ea_a6fb_107b449f15fcrow8_col0\" class=\"data row8 col0\" >0.0083</td>\n",
       "            </tr>\n",
       "            <tr>\n",
       "                        <th id=\"T_459370da_0f60_11ea_a6fb_107b449f15fclevel0_row9\" class=\"row_heading level0 row9\" >высокий_энергия</th>\n",
       "                        <td id=\"T_459370da_0f60_11ea_a6fb_107b449f15fcrow9_col0\" class=\"data row9 col0\" >0.00788</td>\n",
       "            </tr>\n",
       "    </tbody></table><style  type=\"text/css\" >\n",
       "</style><table id=\"T_459370db_0f60_11ea_a6fb_107b449f15fc\" style='display:inline'><thead>    <tr>        <th class=\"blank level0\" ></th>        <th class=\"col_heading level0 col0\" >topic_11 @word</th>    </tr></thead><tbody>\n",
       "                <tr>\n",
       "                        <th id=\"T_459370db_0f60_11ea_a6fb_107b449f15fclevel0_row0\" class=\"row_heading level0 row0\" >симметрия</th>\n",
       "                        <td id=\"T_459370db_0f60_11ea_a6fb_107b449f15fcrow0_col0\" class=\"data row0 col0\" >0.18932</td>\n",
       "            </tr>\n",
       "            <tr>\n",
       "                        <th id=\"T_459370db_0f60_11ea_a6fb_107b449f15fclevel0_row1\" class=\"row_heading level0 row1\" >ускоритель</th>\n",
       "                        <td id=\"T_459370db_0f60_11ea_a6fb_107b449f15fcrow1_col0\" class=\"data row1 col0\" >0.1071</td>\n",
       "            </tr>\n",
       "            <tr>\n",
       "                        <th id=\"T_459370db_0f60_11ea_a6fb_107b449f15fclevel0_row2\" class=\"row_heading level0 row2\" >декарт</th>\n",
       "                        <td id=\"T_459370db_0f60_11ea_a6fb_107b449f15fcrow2_col0\" class=\"data row2 col0\" >0.09845</td>\n",
       "            </tr>\n",
       "            <tr>\n",
       "                        <th id=\"T_459370db_0f60_11ea_a6fb_107b449f15fclevel0_row3\" class=\"row_heading level0 row3\" >спин</th>\n",
       "                        <td id=\"T_459370db_0f60_11ea_a6fb_107b449f15fcrow3_col0\" class=\"data row3 col0\" >0.08601</td>\n",
       "            </tr>\n",
       "            <tr>\n",
       "                        <th id=\"T_459370db_0f60_11ea_a6fb_107b449f15fclevel0_row4\" class=\"row_heading level0 row4\" >вращаться</th>\n",
       "                        <td id=\"T_459370db_0f60_11ea_a6fb_107b449f15fcrow4_col0\" class=\"data row4 col0\" >0.0568</td>\n",
       "            </tr>\n",
       "            <tr>\n",
       "                        <th id=\"T_459370db_0f60_11ea_a6fb_107b449f15fclevel0_row5\" class=\"row_heading level0 row5\" >ландшафт</th>\n",
       "                        <td id=\"T_459370db_0f60_11ea_a6fb_107b449f15fcrow5_col0\" class=\"data row5 col0\" >0.03611</td>\n",
       "            </tr>\n",
       "            <tr>\n",
       "                        <th id=\"T_459370db_0f60_11ea_a6fb_107b449f15fclevel0_row6\" class=\"row_heading level0 row6\" >электрический</th>\n",
       "                        <td id=\"T_459370db_0f60_11ea_a6fb_107b449f15fcrow6_col0\" class=\"data row6 col0\" >0.03228</td>\n",
       "            </tr>\n",
       "            <tr>\n",
       "                        <th id=\"T_459370db_0f60_11ea_a6fb_107b449f15fclevel0_row7\" class=\"row_heading level0 row7\" >красота</th>\n",
       "                        <td id=\"T_459370db_0f60_11ea_a6fb_107b449f15fcrow7_col0\" class=\"data row7 col0\" >0.02302</td>\n",
       "            </tr>\n",
       "            <tr>\n",
       "                        <th id=\"T_459370db_0f60_11ea_a6fb_107b449f15fclevel0_row8\" class=\"row_heading level0 row8\" >поместить</th>\n",
       "                        <td id=\"T_459370db_0f60_11ea_a6fb_107b449f15fcrow8_col0\" class=\"data row8 col0\" >0.02208</td>\n",
       "            </tr>\n",
       "            <tr>\n",
       "                        <th id=\"T_459370db_0f60_11ea_a6fb_107b449f15fclevel0_row9\" class=\"row_heading level0 row9\" >подобно</th>\n",
       "                        <td id=\"T_459370db_0f60_11ea_a6fb_107b449f15fcrow9_col0\" class=\"data row9 col0\" >0.0183</td>\n",
       "            </tr>\n",
       "    </tbody></table>"
      ]
     },
     "metadata": {},
     "output_type": "display_data"
    },
    {
     "data": {
      "text/html": [
       "<b> нерешенные проблемы фундаментальной физики </b><br /> физик эмиль ахмедов о конфайнменте, космологической постоянной и квантовой гравитации"
      ]
     },
     "metadata": {},
     "output_type": "display_data"
    },
    {
     "data": {
      "text/html": [
       "<b> кварк-лептонная симметрия </b><br /> физик дмитрий казаков о поколениях лептонов и кварков, последней открытой элементарной частице и главных фундаментальных взаимодействиях"
      ]
     },
     "metadata": {},
     "output_type": "display_data"
    },
    {
     "data": {
      "text/html": [
       "<b> история открытия антиматерии </b><br /> физик павел пахлов о квантовой механике, отрицательных энергиях и античастицах"
      ]
     },
     "metadata": {},
     "output_type": "display_data"
    },
    {
     "data": {
      "text/html": [
       "<b> гипотеза о существовании дополнительных измерений </b><br /> физик игорь волобуев о путях выхода за рамки стандартной модели, пятимерном пространстве-времени и теории бран"
      ]
     },
     "metadata": {},
     "output_type": "display_data"
    },
    {
     "data": {
      "text/html": [
       "<b> фундаментальные взаимодействия </b><br /> физик дмитрий казаков о фундаментальных силах, особенностях гравитации и теориях великого объединения"
      ]
     },
     "metadata": {},
     "output_type": "display_data"
    },
    {
     "data": {
      "text/html": [
       "<b> диалогифизика элементарных частиц </b><br /> беседа физиков валерия рубакова и дмитрия казакова о бозоне хиггса, стандартной модели и новых открытиях на коллайдере"
      ]
     },
     "metadata": {},
     "output_type": "display_data"
    },
    {
     "data": {
      "text/html": [
       "<b> магнитная динамика наносистем </b><br /> физик сергей демокритов о статистике для квантовых объектов, бозе-эйнштейновской конденсации и квантовых вихрях"
      ]
     },
     "metadata": {},
     "output_type": "display_data"
    },
    {
     "data": {
      "text/html": [
       "<b> элементарные частицы </b><br /> физик дмитрий казаков об истории открытия, свойствах и классификации элементарных частиц"
      ]
     },
     "metadata": {},
     "output_type": "display_data"
    },
    {
     "data": {
      "text/html": [
       "<b> существует ли суперсимметрия в мире элементарных частиц? </b><br /> о понятии, способном объединить фундаментальные взаимодействия в рамках единой теории"
      ]
     },
     "metadata": {},
     "output_type": "display_data"
    },
    {
     "data": {
      "text/html": [
       "<b> теоретическая физика как геометрия xxi века </b><br /> физик андрей лосев об основном вопросе геометрии, предмете теоретической физики и познаваемости мира"
      ]
     },
     "metadata": {},
     "output_type": "display_data"
    },
    {
     "data": {
      "text/html": [
       "<style  type=\"text/css\" >\n",
       "</style><table id=\"T_459370dc_0f60_11ea_a6fb_107b449f15fc\" style='display:inline'><thead>    <tr>        <th class=\"blank level0\" ></th>        <th class=\"col_heading level0 col0\" >topic_12 @2gramm</th>    </tr></thead><tbody>\n",
       "                <tr>\n",
       "                        <th id=\"T_459370dc_0f60_11ea_a6fb_107b449f15fclevel0_row0\" class=\"row_heading level0 row0\" >повесть_временной</th>\n",
       "                        <td id=\"T_459370dc_0f60_11ea_a6fb_107b449f15fcrow0_col0\" class=\"data row0 col0\" >0.016</td>\n",
       "            </tr>\n",
       "            <tr>\n",
       "                        <th id=\"T_459370dc_0f60_11ea_a6fb_107b449f15fclevel0_row1\" class=\"row_heading level0 row1\" >король_артур</th>\n",
       "                        <td id=\"T_459370dc_0f60_11ea_a6fb_107b449f15fcrow1_col0\" class=\"data row1 col0\" >0.01395</td>\n",
       "            </tr>\n",
       "            <tr>\n",
       "                        <th id=\"T_459370dc_0f60_11ea_a6fb_107b449f15fclevel0_row2\" class=\"row_heading level0 row2\" >общество_потребление</th>\n",
       "                        <td id=\"T_459370dc_0f60_11ea_a6fb_107b449f15fcrow2_col0\" class=\"data row2 col0\" >0.01213</td>\n",
       "            </tr>\n",
       "            <tr>\n",
       "                        <th id=\"T_459370dc_0f60_11ea_a6fb_107b449f15fclevel0_row3\" class=\"row_heading level0 row3\" >волновой_функция</th>\n",
       "                        <td id=\"T_459370dc_0f60_11ea_a6fb_107b449f15fcrow3_col0\" class=\"data row3 col0\" >0.0118</td>\n",
       "            </tr>\n",
       "            <tr>\n",
       "                        <th id=\"T_459370dc_0f60_11ea_a6fb_107b449f15fclevel0_row4\" class=\"row_heading level0 row4\" >культурный_ландшафт</th>\n",
       "                        <td id=\"T_459370dc_0f60_11ea_a6fb_107b449f15fcrow4_col0\" class=\"data row4 col0\" >0.01116</td>\n",
       "            </tr>\n",
       "            <tr>\n",
       "                        <th id=\"T_459370dc_0f60_11ea_a6fb_107b449f15fclevel0_row5\" class=\"row_heading level0 row5\" >параллельный_вселенная</th>\n",
       "                        <td id=\"T_459370dc_0f60_11ea_a6fb_107b449f15fcrow5_col0\" class=\"data row5 col0\" >0.01032</td>\n",
       "            </tr>\n",
       "            <tr>\n",
       "                        <th id=\"T_459370dc_0f60_11ea_a6fb_107b449f15fclevel0_row6\" class=\"row_heading level0 row6\" >круглый_стол</th>\n",
       "                        <td id=\"T_459370dc_0f60_11ea_a6fb_107b449f15fcrow6_col0\" class=\"data row6 col0\" >0.00966</td>\n",
       "            </tr>\n",
       "            <tr>\n",
       "                        <th id=\"T_459370dc_0f60_11ea_a6fb_107b449f15fclevel0_row7\" class=\"row_heading level0 row7\" >квантовый_теория</th>\n",
       "                        <td id=\"T_459370dc_0f60_11ea_a6fb_107b449f15fcrow7_col0\" class=\"data row7 col0\" >0.00953</td>\n",
       "            </tr>\n",
       "            <tr>\n",
       "                        <th id=\"T_459370dc_0f60_11ea_a6fb_107b449f15fclevel0_row8\" class=\"row_heading level0 row8\" >решение_задача</th>\n",
       "                        <td id=\"T_459370dc_0f60_11ea_a6fb_107b449f15fcrow8_col0\" class=\"data row8 col0\" >0.00893</td>\n",
       "            </tr>\n",
       "            <tr>\n",
       "                        <th id=\"T_459370dc_0f60_11ea_a6fb_107b449f15fclevel0_row9\" class=\"row_heading level0 row9\" >одиночный_молекула</th>\n",
       "                        <td id=\"T_459370dc_0f60_11ea_a6fb_107b449f15fcrow9_col0\" class=\"data row9 col0\" >0.00828</td>\n",
       "            </tr>\n",
       "    </tbody></table><style  type=\"text/css\" >\n",
       "</style><table id=\"T_459370dd_0f60_11ea_a6fb_107b449f15fc\" style='display:inline'><thead>    <tr>        <th class=\"blank level0\" ></th>        <th class=\"col_heading level0 col0\" >topic_12 @word</th>    </tr></thead><tbody>\n",
       "                <tr>\n",
       "                        <th id=\"T_459370dd_0f60_11ea_a6fb_107b449f15fclevel0_row0\" class=\"row_heading level0 row0\" >егэ</th>\n",
       "                        <td id=\"T_459370dd_0f60_11ea_a6fb_107b449f15fcrow0_col0\" class=\"data row0 col0\" >0.25917</td>\n",
       "            </tr>\n",
       "            <tr>\n",
       "                        <th id=\"T_459370dd_0f60_11ea_a6fb_107b449f15fclevel0_row1\" class=\"row_heading level0 row1\" >анекдот</th>\n",
       "                        <td id=\"T_459370dd_0f60_11ea_a6fb_107b449f15fcrow1_col0\" class=\"data row1 col0\" >0.24683</td>\n",
       "            </tr>\n",
       "            <tr>\n",
       "                        <th id=\"T_459370dd_0f60_11ea_a6fb_107b449f15fclevel0_row2\" class=\"row_heading level0 row2\" >штраус</th>\n",
       "                        <td id=\"T_459370dd_0f60_11ea_a6fb_107b449f15fcrow2_col0\" class=\"data row2 col0\" >0.07096</td>\n",
       "            </tr>\n",
       "            <tr>\n",
       "                        <th id=\"T_459370dd_0f60_11ea_a6fb_107b449f15fclevel0_row3\" class=\"row_heading level0 row3\" >филамент</th>\n",
       "                        <td id=\"T_459370dd_0f60_11ea_a6fb_107b449f15fcrow3_col0\" class=\"data row3 col0\" >0.05554</td>\n",
       "            </tr>\n",
       "            <tr>\n",
       "                        <th id=\"T_459370dd_0f60_11ea_a6fb_107b449f15fclevel0_row4\" class=\"row_heading level0 row4\" >астробиология</th>\n",
       "                        <td id=\"T_459370dd_0f60_11ea_a6fb_107b449f15fcrow4_col0\" class=\"data row4 col0\" >0.05554</td>\n",
       "            </tr>\n",
       "            <tr>\n",
       "                        <th id=\"T_459370dd_0f60_11ea_a6fb_107b449f15fclevel0_row5\" class=\"row_heading level0 row5\" >дионис</th>\n",
       "                        <td id=\"T_459370dd_0f60_11ea_a6fb_107b449f15fcrow5_col0\" class=\"data row5 col0\" >0.04937</td>\n",
       "            </tr>\n",
       "            <tr>\n",
       "                        <th id=\"T_459370dd_0f60_11ea_a6fb_107b449f15fclevel0_row6\" class=\"row_heading level0 row6\" >биохимик</th>\n",
       "                        <td id=\"T_459370dd_0f60_11ea_a6fb_107b449f15fcrow6_col0\" class=\"data row6 col0\" >0.04319</td>\n",
       "            </tr>\n",
       "            <tr>\n",
       "                        <th id=\"T_459370dd_0f60_11ea_a6fb_107b449f15fclevel0_row7\" class=\"row_heading level0 row7\" >летописец</th>\n",
       "                        <td id=\"T_459370dd_0f60_11ea_a6fb_107b449f15fcrow7_col0\" class=\"data row7 col0\" >0.04011</td>\n",
       "            </tr>\n",
       "            <tr>\n",
       "                        <th id=\"T_459370dd_0f60_11ea_a6fb_107b449f15fclevel0_row8\" class=\"row_heading level0 row8\" >чугун</th>\n",
       "                        <td id=\"T_459370dd_0f60_11ea_a6fb_107b449f15fcrow8_col0\" class=\"data row8 col0\" >0.03394</td>\n",
       "            </tr>\n",
       "            <tr>\n",
       "                        <th id=\"T_459370dd_0f60_11ea_a6fb_107b449f15fclevel0_row9\" class=\"row_heading level0 row9\" >ладонь</th>\n",
       "                        <td id=\"T_459370dd_0f60_11ea_a6fb_107b449f15fcrow9_col0\" class=\"data row9 col0\" >0.03394</td>\n",
       "            </tr>\n",
       "    </tbody></table>"
      ]
     },
     "metadata": {},
     "output_type": "display_data"
    },
    {
     "data": {
      "text/html": [
       "<b> молекулярное моделирование </b><br /> биохимик антон чугунов об исследовании in silico, открытии альфа-спирали и компьютерном моделировании"
      ]
     },
     "metadata": {},
     "output_type": "display_data"
    },
    {
     "data": {
      "text/html": [
       "<b> культурный ландшафт </b><br /> географ владимир каганский о культурных явлениях на поверхности земли, преобразованных человеком территориях и пространственных закономерностях"
      ]
     },
     "metadata": {},
     "output_type": "display_data"
    },
    {
     "data": {
      "text/html": [
       "<b> миф о короле артуре </b><br /> филолог мария штейнман о кельтском вожде, загадке имени и трудах сэра томаса мэлори"
      ]
     },
     "metadata": {},
     "output_type": "display_data"
    },
    {
     "data": {
      "text/html": [
       "<b> как развивалась технология молекулярного моделирования? </b><br /> о методах изучения химических реакций, проектировании новых материалов и квантовой химии"
      ]
     },
     "metadata": {},
     "output_type": "display_data"
    },
    {
     "data": {
      "text/html": [
       "<b> спектроскопия одиночных молекул </b><br /> физик андрей наумов о лазерной селективной спектроскопии, свечении единичных атомов и строении спектра молекулы"
      ]
     },
     "metadata": {},
     "output_type": "display_data"
    },
    {
     "data": {
      "text/html": [
       "<b> свидетельства существования параллельных вселенных </b><br /> физик макс тегмарк о ненаблюдаемых предсказаниях, объяснении точной настройки вселенной и квантовом компьютере"
      ]
     },
     "metadata": {},
     "output_type": "display_data"
    },
    {
     "data": {
      "text/html": [
       "<b> эволюция кооперации </b><br /> нейрофизиолог михаил бурцев об условиях возникновения кооперации, истоках человеческой морали и теории родственного отбора"
      ]
     },
     "metadata": {},
     "output_type": "display_data"
    },
    {
     "data": {
      "text/html": [
       "<style  type=\"text/css\" >\n",
       "</style><table id=\"T_459370de_0f60_11ea_a6fb_107b449f15fc\" style='display:inline'><thead>    <tr>        <th class=\"blank level0\" ></th>        <th class=\"col_heading level0 col0\" >topic_13 @2gramm</th>    </tr></thead><tbody>\n",
       "                <tr>\n",
       "                        <th id=\"T_459370de_0f60_11ea_a6fb_107b449f15fclevel0_row0\" class=\"row_heading level0 row0\" >низкий_температура</th>\n",
       "                        <td id=\"T_459370de_0f60_11ea_a6fb_107b449f15fcrow0_col0\" class=\"data row0 col0\" >0.01691</td>\n",
       "            </tr>\n",
       "            <tr>\n",
       "                        <th id=\"T_459370de_0f60_11ea_a6fb_107b449f15fclevel0_row1\" class=\"row_heading level0 row1\" >высокий_давление</th>\n",
       "                        <td id=\"T_459370de_0f60_11ea_a6fb_107b449f15fcrow1_col0\" class=\"data row1 col0\" >0.01645</td>\n",
       "            </tr>\n",
       "            <tr>\n",
       "                        <th id=\"T_459370de_0f60_11ea_a6fb_107b449f15fclevel0_row2\" class=\"row_heading level0 row2\" >кристаллический_структура</th>\n",
       "                        <td id=\"T_459370de_0f60_11ea_a6fb_107b449f15fcrow2_col0\" class=\"data row2 col0\" >0.01581</td>\n",
       "            </tr>\n",
       "            <tr>\n",
       "                        <th id=\"T_459370de_0f60_11ea_a6fb_107b449f15fclevel0_row3\" class=\"row_heading level0 row3\" >католический_церковь</th>\n",
       "                        <td id=\"T_459370de_0f60_11ea_a6fb_107b449f15fcrow3_col0\" class=\"data row3 col0\" >0.01436</td>\n",
       "            </tr>\n",
       "            <tr>\n",
       "                        <th id=\"T_459370de_0f60_11ea_a6fb_107b449f15fclevel0_row4\" class=\"row_heading level0 row4\" >звёздный_скопление</th>\n",
       "                        <td id=\"T_459370de_0f60_11ea_a6fb_107b449f15fcrow4_col0\" class=\"data row4 col0\" >0.01342</td>\n",
       "            </tr>\n",
       "            <tr>\n",
       "                        <th id=\"T_459370de_0f60_11ea_a6fb_107b449f15fclevel0_row5\" class=\"row_heading level0 row5\" >химический_состав</th>\n",
       "                        <td id=\"T_459370de_0f60_11ea_a6fb_107b449f15fcrow5_col0\" class=\"data row5 col0\" >0.01297</td>\n",
       "            </tr>\n",
       "            <tr>\n",
       "                        <th id=\"T_459370de_0f60_11ea_a6fb_107b449f15fclevel0_row6\" class=\"row_heading level0 row6\" >куперовский_пара</th>\n",
       "                        <td id=\"T_459370de_0f60_11ea_a6fb_107b449f15fcrow6_col0\" class=\"data row6 col0\" >0.01181</td>\n",
       "            </tr>\n",
       "            <tr>\n",
       "                        <th id=\"T_459370de_0f60_11ea_a6fb_107b449f15fclevel0_row7\" class=\"row_heading level0 row7\" >высокий_температура</th>\n",
       "                        <td id=\"T_459370de_0f60_11ea_a6fb_107b449f15fcrow7_col0\" class=\"data row7 col0\" >0.0112</td>\n",
       "            </tr>\n",
       "            <tr>\n",
       "                        <th id=\"T_459370de_0f60_11ea_a6fb_107b449f15fclevel0_row8\" class=\"row_heading level0 row8\" >новое_материал</th>\n",
       "                        <td id=\"T_459370de_0f60_11ea_a6fb_107b449f15fcrow8_col0\" class=\"data row8 col0\" >0.01028</td>\n",
       "            </tr>\n",
       "            <tr>\n",
       "                        <th id=\"T_459370de_0f60_11ea_a6fb_107b449f15fclevel0_row9\" class=\"row_heading level0 row9\" >магнитный_пол</th>\n",
       "                        <td id=\"T_459370de_0f60_11ea_a6fb_107b449f15fcrow9_col0\" class=\"data row9 col0\" >0.00958</td>\n",
       "            </tr>\n",
       "    </tbody></table><style  type=\"text/css\" >\n",
       "</style><table id=\"T_459370df_0f60_11ea_a6fb_107b449f15fc\" style='display:inline'><thead>    <tr>        <th class=\"blank level0\" ></th>        <th class=\"col_heading level0 col0\" >topic_13 @word</th>    </tr></thead><tbody>\n",
       "                <tr>\n",
       "                        <th id=\"T_459370df_0f60_11ea_a6fb_107b449f15fclevel0_row0\" class=\"row_heading level0 row0\" >луна</th>\n",
       "                        <td id=\"T_459370df_0f60_11ea_a6fb_107b449f15fcrow0_col0\" class=\"data row0 col0\" >0.26013</td>\n",
       "            </tr>\n",
       "            <tr>\n",
       "                        <th id=\"T_459370df_0f60_11ea_a6fb_107b449f15fclevel0_row1\" class=\"row_heading level0 row1\" >итальянский</th>\n",
       "                        <td id=\"T_459370df_0f60_11ea_a6fb_107b449f15fcrow1_col0\" class=\"data row1 col0\" >0.15658</td>\n",
       "            </tr>\n",
       "            <tr>\n",
       "                        <th id=\"T_459370df_0f60_11ea_a6fb_107b449f15fclevel0_row2\" class=\"row_heading level0 row2\" >плеяда</th>\n",
       "                        <td id=\"T_459370df_0f60_11ea_a6fb_107b449f15fcrow2_col0\" class=\"data row2 col0\" >0.06314</td>\n",
       "            </tr>\n",
       "            <tr>\n",
       "                        <th id=\"T_459370df_0f60_11ea_a6fb_107b449f15fclevel0_row3\" class=\"row_heading level0 row3\" >папство</th>\n",
       "                        <td id=\"T_459370df_0f60_11ea_a6fb_107b449f15fcrow3_col0\" class=\"data row3 col0\" >0.06061</td>\n",
       "            </tr>\n",
       "            <tr>\n",
       "                        <th id=\"T_459370df_0f60_11ea_a6fb_107b449f15fclevel0_row4\" class=\"row_heading level0 row4\" >ватикан</th>\n",
       "                        <td id=\"T_459370df_0f60_11ea_a6fb_107b449f15fcrow4_col0\" class=\"data row4 col0\" >0.05051</td>\n",
       "            </tr>\n",
       "            <tr>\n",
       "                        <th id=\"T_459370df_0f60_11ea_a6fb_107b449f15fclevel0_row5\" class=\"row_heading level0 row5\" >манхэттный</th>\n",
       "                        <td id=\"T_459370df_0f60_11ea_a6fb_107b449f15fcrow5_col0\" class=\"data row5 col0\" >0.05051</td>\n",
       "            </tr>\n",
       "            <tr>\n",
       "                        <th id=\"T_459370df_0f60_11ea_a6fb_107b449f15fclevel0_row6\" class=\"row_heading level0 row6\" >папский</th>\n",
       "                        <td id=\"T_459370df_0f60_11ea_a6fb_107b449f15fcrow6_col0\" class=\"data row6 col0\" >0.04799</td>\n",
       "            </tr>\n",
       "            <tr>\n",
       "                        <th id=\"T_459370df_0f60_11ea_a6fb_107b449f15fclevel0_row7\" class=\"row_heading level0 row7\" >догматический</th>\n",
       "                        <td id=\"T_459370df_0f60_11ea_a6fb_107b449f15fcrow7_col0\" class=\"data row7 col0\" >0.03788</td>\n",
       "            </tr>\n",
       "            <tr>\n",
       "                        <th id=\"T_459370df_0f60_11ea_a6fb_107b449f15fclevel0_row8\" class=\"row_heading level0 row8\" >небоскрёб</th>\n",
       "                        <td id=\"T_459370df_0f60_11ea_a6fb_107b449f15fcrow8_col0\" class=\"data row8 col0\" >0.03536</td>\n",
       "            </tr>\n",
       "            <tr>\n",
       "                        <th id=\"T_459370df_0f60_11ea_a6fb_107b449f15fclevel0_row9\" class=\"row_heading level0 row9\" >кириллица</th>\n",
       "                        <td id=\"T_459370df_0f60_11ea_a6fb_107b449f15fcrow9_col0\" class=\"data row9 col0\" >0.03283</td>\n",
       "            </tr>\n",
       "    </tbody></table>"
      ]
     },
     "metadata": {},
     "output_type": "display_data"
    },
    {
     "data": {
      "text/html": [
       "<b> внеземные цивилизации </b><br /> астроном владимир сурдин о первой попытке контакта, телеграфной связи со звездами и отправке радиосигнала"
      ]
     },
     "metadata": {},
     "output_type": "display_data"
    },
    {
     "data": {
      "text/html": [
       "<b> «запрещенная» химия и новые неожиданные материалы </b><br /> химик артем оганов о методе проб и ошибок, расшифровке кристаллических структур и предсказании новых материалов"
      ]
     },
     "metadata": {},
     "output_type": "display_data"
    },
    {
     "data": {
      "text/html": [
       "<b> изучение вещества планетных недр </b><br /> химик артем оганов о ядре земли, фазе постперовскит и химическом составе нептуна"
      ]
     },
     "metadata": {},
     "output_type": "display_data"
    },
    {
     "data": {
      "text/html": [
       "<b> квантовые проскальзывания фазы </b><br /> физик андрей семенов о сверхпроводящем состоянии, квантовом фазовом переходе и типах флуктуации"
      ]
     },
     "metadata": {},
     "output_type": "display_data"
    },
    {
     "data": {
      "text/html": [
       "<b> обнаружено новое сверхпроводящее состояние </b><br /> о спинах электронов, магнитном поле и механизмах разрушения сверхпроводимости"
      ]
     },
     "metadata": {},
     "output_type": "display_data"
    },
    {
     "data": {
      "text/html": [
       "<b> водородная связь и жидкости на земле </b><br /> физик вадим бражкин о межатомном взаимодействии, природе химической связи и важности углерода"
      ]
     },
     "metadata": {},
     "output_type": "display_data"
    },
    {
     "data": {
      "text/html": [
       "<b> шаровые скопления </b><br /> астроном владимир сурдин о видах звездных скоплений, ядре галактики и жизни на планетах шаровых скоплений"
      ]
     },
     "metadata": {},
     "output_type": "display_data"
    },
    {
     "data": {
      "text/html": [
       "<b> химическая эволюция галактик </b><br /> астроном дмитрий вибе о нуклеосинтезе, тяжелых химических элементах и самых старых звездах"
      ]
     },
     "metadata": {},
     "output_type": "display_data"
    },
    {
     "data": {
      "text/html": [
       "<b> литературная критика </b><br /> филолог олег лекманов о двух задачах литературоведения, белинском и выдающихся русских литературных критиках"
      ]
     },
     "metadata": {},
     "output_type": "display_data"
    },
    {
     "data": {
      "text/html": [
       "<b> звездная и планетная колыбель </b><br /> астроном дмитрий вибе о межзвездной среде, протозвездах и образовании простейших аминокислот в дозвездном веществе"
      ]
     },
     "metadata": {},
     "output_type": "display_data"
    },
    {
     "data": {
      "text/html": [
       "<style  type=\"text/css\" >\n",
       "</style><table id=\"T_459370e0_0f60_11ea_a6fb_107b449f15fc\" style='display:inline'><thead>    <tr>        <th class=\"blank level0\" ></th>        <th class=\"col_heading level0 col0\" >topic_14 @2gramm</th>    </tr></thead><tbody>\n",
       "                <tr>\n",
       "                        <th id=\"T_459370e0_0f60_11ea_a6fb_107b449f15fclevel0_row0\" class=\"row_heading level0 row0\" >искусственный_интеллект</th>\n",
       "                        <td id=\"T_459370e0_0f60_11ea_a6fb_107b449f15fcrow0_col0\" class=\"data row0 col0\" >0.04189</td>\n",
       "            </tr>\n",
       "            <tr>\n",
       "                        <th id=\"T_459370e0_0f60_11ea_a6fb_107b449f15fclevel0_row1\" class=\"row_heading level0 row1\" >нейронный_сеть</th>\n",
       "                        <td id=\"T_459370e0_0f60_11ea_a6fb_107b449f15fcrow1_col0\" class=\"data row1 col0\" >0.03817</td>\n",
       "            </tr>\n",
       "            <tr>\n",
       "                        <th id=\"T_459370e0_0f60_11ea_a6fb_107b449f15fclevel0_row2\" class=\"row_heading level0 row2\" >человеческий_мозг</th>\n",
       "                        <td id=\"T_459370e0_0f60_11ea_a6fb_107b449f15fcrow2_col0\" class=\"data row2 col0\" >0.02109</td>\n",
       "            </tr>\n",
       "            <tr>\n",
       "                        <th id=\"T_459370e0_0f60_11ea_a6fb_107b449f15fclevel0_row3\" class=\"row_heading level0 row3\" >нервный_система</th>\n",
       "                        <td id=\"T_459370e0_0f60_11ea_a6fb_107b449f15fcrow3_col0\" class=\"data row3 col0\" >0.00968</td>\n",
       "            </tr>\n",
       "            <tr>\n",
       "                        <th id=\"T_459370e0_0f60_11ea_a6fb_107b449f15fclevel0_row4\" class=\"row_heading level0 row4\" >головной_мозг</th>\n",
       "                        <td id=\"T_459370e0_0f60_11ea_a6fb_107b449f15fcrow4_col0\" class=\"data row4 col0\" >0.00891</td>\n",
       "            </tr>\n",
       "            <tr>\n",
       "                        <th id=\"T_459370e0_0f60_11ea_a6fb_107b449f15fclevel0_row5\" class=\"row_heading level0 row5\" >вычислительный_система</th>\n",
       "                        <td id=\"T_459370e0_0f60_11ea_a6fb_107b449f15fcrow5_col0\" class=\"data row5 col0\" >0.00839</td>\n",
       "            </tr>\n",
       "            <tr>\n",
       "                        <th id=\"T_459370e0_0f60_11ea_a6fb_107b449f15fclevel0_row6\" class=\"row_heading level0 row6\" >машинный_обучение</th>\n",
       "                        <td id=\"T_459370e0_0f60_11ea_a6fb_107b449f15fcrow6_col0\" class=\"data row6 col0\" >0.00749</td>\n",
       "            </tr>\n",
       "            <tr>\n",
       "                        <th id=\"T_459370e0_0f60_11ea_a6fb_107b449f15fclevel0_row7\" class=\"row_heading level0 row7\" >лео_штраус</th>\n",
       "                        <td id=\"T_459370e0_0f60_11ea_a6fb_107b449f15fcrow7_col0\" class=\"data row7 col0\" >0.00709</td>\n",
       "            </tr>\n",
       "            <tr>\n",
       "                        <th id=\"T_459370e0_0f60_11ea_a6fb_107b449f15fclevel0_row8\" class=\"row_heading level0 row8\" >динамический_система</th>\n",
       "                        <td id=\"T_459370e0_0f60_11ea_a6fb_107b449f15fcrow8_col0\" class=\"data row8 col0\" >0.00682</td>\n",
       "            </tr>\n",
       "            <tr>\n",
       "                        <th id=\"T_459370e0_0f60_11ea_a6fb_107b449f15fclevel0_row9\" class=\"row_heading level0 row9\" >дифференциальный_уравнение</th>\n",
       "                        <td id=\"T_459370e0_0f60_11ea_a6fb_107b449f15fcrow9_col0\" class=\"data row9 col0\" >0.00648</td>\n",
       "            </tr>\n",
       "    </tbody></table><style  type=\"text/css\" >\n",
       "</style><table id=\"T_459370e1_0f60_11ea_a6fb_107b449f15fc\" style='display:inline'><thead>    <tr>        <th class=\"blank level0\" ></th>        <th class=\"col_heading level0 col0\" >topic_14 @word</th>    </tr></thead><tbody>\n",
       "                <tr>\n",
       "                        <th id=\"T_459370e1_0f60_11ea_a6fb_107b449f15fclevel0_row0\" class=\"row_heading level0 row0\" >метеорит</th>\n",
       "                        <td id=\"T_459370e1_0f60_11ea_a6fb_107b449f15fcrow0_col0\" class=\"data row0 col0\" >0.24381</td>\n",
       "            </tr>\n",
       "            <tr>\n",
       "                        <th id=\"T_459370e1_0f60_11ea_a6fb_107b449f15fclevel0_row1\" class=\"row_heading level0 row1\" >копия</th>\n",
       "                        <td id=\"T_459370e1_0f60_11ea_a6fb_107b449f15fcrow1_col0\" class=\"data row1 col0\" >0.2395</td>\n",
       "            </tr>\n",
       "            <tr>\n",
       "                        <th id=\"T_459370e1_0f60_11ea_a6fb_107b449f15fclevel0_row2\" class=\"row_heading level0 row2\" >столкновение</th>\n",
       "                        <td id=\"T_459370e1_0f60_11ea_a6fb_107b449f15fcrow2_col0\" class=\"data row2 col0\" >0.20929</td>\n",
       "            </tr>\n",
       "            <tr>\n",
       "                        <th id=\"T_459370e1_0f60_11ea_a6fb_107b449f15fclevel0_row3\" class=\"row_heading level0 row3\" >фобия</th>\n",
       "                        <td id=\"T_459370e1_0f60_11ea_a6fb_107b449f15fcrow3_col0\" class=\"data row3 col0\" >0.03668</td>\n",
       "            </tr>\n",
       "            <tr>\n",
       "                        <th id=\"T_459370e1_0f60_11ea_a6fb_107b449f15fclevel0_row4\" class=\"row_heading level0 row4\" >посвящение</th>\n",
       "                        <td id=\"T_459370e1_0f60_11ea_a6fb_107b449f15fcrow4_col0\" class=\"data row4 col0\" >0.03236</td>\n",
       "            </tr>\n",
       "            <tr>\n",
       "                        <th id=\"T_459370e1_0f60_11ea_a6fb_107b449f15fclevel0_row5\" class=\"row_heading level0 row5\" >рефлекс</th>\n",
       "                        <td id=\"T_459370e1_0f60_11ea_a6fb_107b449f15fcrow5_col0\" class=\"data row5 col0\" >0.02805</td>\n",
       "            </tr>\n",
       "            <tr>\n",
       "                        <th id=\"T_459370e1_0f60_11ea_a6fb_107b449f15fclevel0_row6\" class=\"row_heading level0 row6\" >картошка</th>\n",
       "                        <td id=\"T_459370e1_0f60_11ea_a6fb_107b449f15fcrow6_col0\" class=\"data row6 col0\" >0.02805</td>\n",
       "            </tr>\n",
       "            <tr>\n",
       "                        <th id=\"T_459370e1_0f60_11ea_a6fb_107b449f15fclevel0_row7\" class=\"row_heading level0 row7\" >миллиметр</th>\n",
       "                        <td id=\"T_459370e1_0f60_11ea_a6fb_107b449f15fcrow7_col0\" class=\"data row7 col0\" >0.02589</td>\n",
       "            </tr>\n",
       "            <tr>\n",
       "                        <th id=\"T_459370e1_0f60_11ea_a6fb_107b449f15fclevel0_row8\" class=\"row_heading level0 row8\" >гомера</th>\n",
       "                        <td id=\"T_459370e1_0f60_11ea_a6fb_107b449f15fcrow8_col0\" class=\"data row8 col0\" >0.02272</td>\n",
       "            </tr>\n",
       "            <tr>\n",
       "                        <th id=\"T_459370e1_0f60_11ea_a6fb_107b449f15fclevel0_row9\" class=\"row_heading level0 row9\" >календарный</th>\n",
       "                        <td id=\"T_459370e1_0f60_11ea_a6fb_107b449f15fcrow9_col0\" class=\"data row9 col0\" >0.02158</td>\n",
       "            </tr>\n",
       "    </tbody></table>"
      ]
     },
     "metadata": {},
     "output_type": "display_data"
    },
    {
     "data": {
      "text/html": [
       "<b> математика американских выборов </b><br /> математик александр беленький о коллегии выборщиков, палате представителей и задачах маршрутизации"
      ]
     },
     "metadata": {},
     "output_type": "display_data"
    },
    {
     "data": {
      "text/html": [
       "<b> обратное конструирование мозга </b><br /> нейроинформатик виталий дунин-барковский о  движущей силе исследований, принципе хранения информации в мозге и изобретении языка"
      ]
     },
     "metadata": {},
     "output_type": "display_data"
    },
    {
     "data": {
      "text/html": [
       "<b> детерминированный хаос </b><br /> математик илья щуров о демоне лапласа, малом изменении начальных условий и конечной точности измерений"
      ]
     },
     "metadata": {},
     "output_type": "display_data"
    },
    {
     "data": {
      "text/html": [
       "<b> история суперкомпьютерного моделирования </b><br /> математик игорь петров о ядерной программе, развитии вычислительных схем и решении трехмерных динамических задач"
      ]
     },
     "metadata": {},
     "output_type": "display_data"
    },
    {
     "data": {
      "text/html": [
       "<b> комбинаторная эргодическая теория </b><br /> математик илья шкредов о динамических системах, теореме семереди и арифметических прогрессиях"
      ]
     },
     "metadata": {},
     "output_type": "display_data"
    },
    {
     "data": {
      "text/html": [
       "<b> алгоритм работы мозга </b><br /> математик александр жданов о рефлексах, роли эмоциональной оценки ситуации и принципе накопления знаний"
      ]
     },
     "metadata": {},
     "output_type": "display_data"
    },
    {
     "data": {
      "text/html": [
       "<b> демпинг в одношаговых аукционах </b><br /> математик александр беленький о невыгодности демпинга, преимуществах схемы и взаимном изучении участников аукциона"
      ]
     },
     "metadata": {},
     "output_type": "display_data"
    },
    {
     "data": {
      "text/html": [
       "<b> молекулярная эволюция человеческого мозга </b><br /> молекулярный биолог филипп хайтович о связи размера мозга и интеллектуальных способностей, различиях мозга человека и шимпанзе и влиянии эволюции на селекцию видов"
      ]
     },
     "metadata": {},
     "output_type": "display_data"
    },
    {
     "data": {
      "text/html": [
       "<b> история суперкомпьютерного моделирования </b><br /> 5 фактов о зарождении компьютерной эры, вычислительных методах и системах с распределенной памятью"
      ]
     },
     "metadata": {},
     "output_type": "display_data"
    },
    {
     "data": {
      "text/html": [
       "<b> теория узлов </b><br /> математик александра скрипченко о эффективных алгоритмах, представлениях лорда кельвина и  движениях рейдемейстера"
      ]
     },
     "metadata": {},
     "output_type": "display_data"
    },
    {
     "data": {
      "text/html": [
       "<style  type=\"text/css\" >\n",
       "</style><table id=\"T_459370e2_0f60_11ea_a6fb_107b449f15fc\" style='display:inline'><thead>    <tr>        <th class=\"blank level0\" ></th>        <th class=\"col_heading level0 col0\" >topic_15 @2gramm</th>    </tr></thead><tbody>\n",
       "                <tr>\n",
       "                        <th id=\"T_459370e2_0f60_11ea_a6fb_107b449f15fclevel0_row0\" class=\"row_heading level0 row0\" >принятие_решение</th>\n",
       "                        <td id=\"T_459370e2_0f60_11ea_a6fb_107b449f15fcrow0_col0\" class=\"data row0 col0\" >0.02072</td>\n",
       "            </tr>\n",
       "            <tr>\n",
       "                        <th id=\"T_459370e2_0f60_11ea_a6fb_107b449f15fclevel0_row1\" class=\"row_heading level0 row1\" >программный_обеспечение</th>\n",
       "                        <td id=\"T_459370e2_0f60_11ea_a6fb_107b449f15fcrow1_col0\" class=\"data row1 col0\" >0.01487</td>\n",
       "            </tr>\n",
       "            <tr>\n",
       "                        <th id=\"T_459370e2_0f60_11ea_a6fb_107b449f15fclevel0_row2\" class=\"row_heading level0 row2\" >работа_мозг</th>\n",
       "                        <td id=\"T_459370e2_0f60_11ea_a6fb_107b449f15fcrow2_col0\" class=\"data row2 col0\" >0.01067</td>\n",
       "            </tr>\n",
       "            <tr>\n",
       "                        <th id=\"T_459370e2_0f60_11ea_a6fb_107b449f15fclevel0_row3\" class=\"row_heading level0 row3\" >операционный_система</th>\n",
       "                        <td id=\"T_459370e2_0f60_11ea_a6fb_107b449f15fcrow3_col0\" class=\"data row3 col0\" >0.01042</td>\n",
       "            </tr>\n",
       "            <tr>\n",
       "                        <th id=\"T_459370e2_0f60_11ea_a6fb_107b449f15fclevel0_row4\" class=\"row_heading level0 row4\" >северный_кавказ</th>\n",
       "                        <td id=\"T_459370e2_0f60_11ea_a6fb_107b449f15fcrow4_col0\" class=\"data row4 col0\" >0.0101</td>\n",
       "            </tr>\n",
       "            <tr>\n",
       "                        <th id=\"T_459370e2_0f60_11ea_a6fb_107b449f15fclevel0_row5\" class=\"row_heading level0 row5\" >зеркальный_нейрон</th>\n",
       "                        <td id=\"T_459370e2_0f60_11ea_a6fb_107b449f15fcrow5_col0\" class=\"data row5 col0\" >0.00926</td>\n",
       "            </tr>\n",
       "            <tr>\n",
       "                        <th id=\"T_459370e2_0f60_11ea_a6fb_107b449f15fclevel0_row6\" class=\"row_heading level0 row6\" >активность_нейрон</th>\n",
       "                        <td id=\"T_459370e2_0f60_11ea_a6fb_107b449f15fcrow6_col0\" class=\"data row6 col0\" >0.00757</td>\n",
       "            </tr>\n",
       "            <tr>\n",
       "                        <th id=\"T_459370e2_0f60_11ea_a6fb_107b449f15fclevel0_row7\" class=\"row_heading level0 row7\" >активность_мозг</th>\n",
       "                        <td id=\"T_459370e2_0f60_11ea_a6fb_107b449f15fcrow7_col0\" class=\"data row7 col0\" >0.00702</td>\n",
       "            </tr>\n",
       "            <tr>\n",
       "                        <th id=\"T_459370e2_0f60_11ea_a6fb_107b449f15fclevel0_row8\" class=\"row_heading level0 row8\" >нейронный_группа</th>\n",
       "                        <td id=\"T_459370e2_0f60_11ea_a6fb_107b449f15fcrow8_col0\" class=\"data row8 col0\" >0.00696</td>\n",
       "            </tr>\n",
       "            <tr>\n",
       "                        <th id=\"T_459370e2_0f60_11ea_a6fb_107b449f15fclevel0_row9\" class=\"row_heading level0 row9\" >страховой_компания</th>\n",
       "                        <td id=\"T_459370e2_0f60_11ea_a6fb_107b449f15fcrow9_col0\" class=\"data row9 col0\" >0.00601</td>\n",
       "            </tr>\n",
       "    </tbody></table><style  type=\"text/css\" >\n",
       "</style><table id=\"T_459370e3_0f60_11ea_a6fb_107b449f15fc\" style='display:inline'><thead>    <tr>        <th class=\"blank level0\" ></th>        <th class=\"col_heading level0 col0\" >topic_15 @word</th>    </tr></thead><tbody>\n",
       "                <tr>\n",
       "                        <th id=\"T_459370e3_0f60_11ea_a6fb_107b449f15fclevel0_row0\" class=\"row_heading level0 row0\" >дочь</th>\n",
       "                        <td id=\"T_459370e3_0f60_11ea_a6fb_107b449f15fcrow0_col0\" class=\"data row0 col0\" >0.18541</td>\n",
       "            </tr>\n",
       "            <tr>\n",
       "                        <th id=\"T_459370e3_0f60_11ea_a6fb_107b449f15fclevel0_row1\" class=\"row_heading level0 row1\" >приложение</th>\n",
       "                        <td id=\"T_459370e3_0f60_11ea_a6fb_107b449f15fcrow1_col0\" class=\"data row1 col0\" >0.1646</td>\n",
       "            </tr>\n",
       "            <tr>\n",
       "                        <th id=\"T_459370e3_0f60_11ea_a6fb_107b449f15fclevel0_row2\" class=\"row_heading level0 row2\" >выполнение</th>\n",
       "                        <td id=\"T_459370e3_0f60_11ea_a6fb_107b449f15fcrow2_col0\" class=\"data row2 col0\" >0.11407</td>\n",
       "            </tr>\n",
       "            <tr>\n",
       "                        <th id=\"T_459370e3_0f60_11ea_a6fb_107b449f15fclevel0_row3\" class=\"row_heading level0 row3\" >дизайнер</th>\n",
       "                        <td id=\"T_459370e3_0f60_11ea_a6fb_107b449f15fcrow3_col0\" class=\"data row3 col0\" >0.0473</td>\n",
       "            </tr>\n",
       "            <tr>\n",
       "                        <th id=\"T_459370e3_0f60_11ea_a6fb_107b449f15fclevel0_row4\" class=\"row_heading level0 row4\" >грузовик</th>\n",
       "                        <td id=\"T_459370e3_0f60_11ea_a6fb_107b449f15fcrow4_col0\" class=\"data row4 col0\" >0.03973</td>\n",
       "            </tr>\n",
       "            <tr>\n",
       "                        <th id=\"T_459370e3_0f60_11ea_a6fb_107b449f15fclevel0_row5\" class=\"row_heading level0 row5\" >иголка</th>\n",
       "                        <td id=\"T_459370e3_0f60_11ea_a6fb_107b449f15fcrow5_col0\" class=\"data row5 col0\" >0.03406</td>\n",
       "            </tr>\n",
       "            <tr>\n",
       "                        <th id=\"T_459370e3_0f60_11ea_a6fb_107b449f15fclevel0_row6\" class=\"row_heading level0 row6\" >мм</th>\n",
       "                        <td id=\"T_459370e3_0f60_11ea_a6fb_107b449f15fcrow6_col0\" class=\"data row6 col0\" >0.03216</td>\n",
       "            </tr>\n",
       "            <tr>\n",
       "                        <th id=\"T_459370e3_0f60_11ea_a6fb_107b449f15fclevel0_row7\" class=\"row_heading level0 row7\" >протеин</th>\n",
       "                        <td id=\"T_459370e3_0f60_11ea_a6fb_107b449f15fcrow7_col0\" class=\"data row7 col0\" >0.03027</td>\n",
       "            </tr>\n",
       "            <tr>\n",
       "                        <th id=\"T_459370e3_0f60_11ea_a6fb_107b449f15fclevel0_row8\" class=\"row_heading level0 row8\" >удовлетворённость</th>\n",
       "                        <td id=\"T_459370e3_0f60_11ea_a6fb_107b449f15fcrow8_col0\" class=\"data row8 col0\" >0.03027</td>\n",
       "            </tr>\n",
       "            <tr>\n",
       "                        <th id=\"T_459370e3_0f60_11ea_a6fb_107b449f15fclevel0_row9\" class=\"row_heading level0 row9\" >тим</th>\n",
       "                        <td id=\"T_459370e3_0f60_11ea_a6fb_107b449f15fcrow9_col0\" class=\"data row9 col0\" >0.02838</td>\n",
       "            </tr>\n",
       "    </tbody></table>"
      ]
     },
     "metadata": {},
     "output_type": "display_data"
    },
    {
     "data": {
      "text/html": [
       "<b> новая форма углерода </b><br /> химик петр образцов о самом плоском веществе, технической революции и экологичном производстве"
      ]
     },
     "metadata": {},
     "output_type": "display_data"
    },
    {
     "data": {
      "text/html": [
       "<b> зеркальные нейроны </b><br /> нейрофизиолог ольга сварник об активации нейронов в моторной коре, отражении чужих действий и томографии"
      ]
     },
     "metadata": {},
     "output_type": "display_data"
    },
    {
     "data": {
      "text/html": [
       "<b> поведенческая специализация нейрона </b><br /> нейрофизиолог ольга сварник о фотографии дженнифер энистон, концепции мышиного гнезда и чтении действий по нейронам"
      ]
     },
     "metadata": {},
     "output_type": "display_data"
    },
    {
     "data": {
      "text/html": [
       "<b> ээг </b><br /> биолог сергей шишкин об открытии метода, сферах применения ээг и электрическом сигнале клеток"
      ]
     },
     "metadata": {},
     "output_type": "display_data"
    },
    {
     "data": {
      "text/html": [
       "<b> вычислительная гидродинамика микропроцессов </b><br /> инженер-математик сергей карабасов о стандартизации белков,  молекулярной динамике и лечении рассеянного склероза"
      ]
     },
     "metadata": {},
     "output_type": "display_data"
    },
    {
     "data": {
      "text/html": [
       "<b> дизайн экономических механизмов </b><br /> экономист алексей белянин об оптимизации полезности, контекстной рекламе и схеме соотнесения"
      ]
     },
     "metadata": {},
     "output_type": "display_data"
    },
    {
     "data": {
      "text/html": [
       "<b> северный кавказистоки нестабильности </b><br /> экономист ирина стародубровская о традиционном исламе, неоднородности северо-кавказского региона и национальных конфликтах"
      ]
     },
     "metadata": {},
     "output_type": "display_data"
    },
    {
     "data": {
      "text/html": [
       "<b> становление киберпсихологии </b><br /> психолог александр войскунский о развитии интернета, изобретателе всемирной паутины и перспективах новой дисциплины"
      ]
     },
     "metadata": {},
     "output_type": "display_data"
    },
    {
     "data": {
      "text/html": [
       "<b> компьютеры для геномики </b><br /> биолог сергей науменко о проекте «геном человека», центрах секвенирования и суперкомпьютерах"
      ]
     },
     "metadata": {},
     "output_type": "display_data"
    },
    {
     "data": {
      "text/html": [
       "<b> сон и память </b><br /> нейрофизиолог ольга сварник о значении сна, улучшении памяти и нейронах мозга"
      ]
     },
     "metadata": {},
     "output_type": "display_data"
    },
    {
     "data": {
      "text/html": [
       "<style  type=\"text/css\" >\n",
       "</style><table id=\"T_459370e4_0f60_11ea_a6fb_107b449f15fc\" style='display:inline'><thead>    <tr>        <th class=\"blank level0\" ></th>        <th class=\"col_heading level0 col0\" >topic_16 @2gramm</th>    </tr></thead><tbody>\n",
       "                <tr>\n",
       "                        <th id=\"T_459370e4_0f60_11ea_a6fb_107b449f15fclevel0_row0\" class=\"row_heading level0 row0\" >солнечный_система</th>\n",
       "                        <td id=\"T_459370e4_0f60_11ea_a6fb_107b449f15fcrow0_col0\" class=\"data row0 col0\" >0.0406</td>\n",
       "            </tr>\n",
       "            <tr>\n",
       "                        <th id=\"T_459370e4_0f60_11ea_a6fb_107b449f15fclevel0_row1\" class=\"row_heading level0 row1\" >планетный_система</th>\n",
       "                        <td id=\"T_459370e4_0f60_11ea_a6fb_107b449f15fcrow1_col0\" class=\"data row1 col0\" >0.02053</td>\n",
       "            </tr>\n",
       "            <tr>\n",
       "                        <th id=\"T_459370e4_0f60_11ea_a6fb_107b449f15fclevel0_row2\" class=\"row_heading level0 row2\" >нитрид_бора</th>\n",
       "                        <td id=\"T_459370e4_0f60_11ea_a6fb_107b449f15fcrow2_col0\" class=\"data row2 col0\" >0.01725</td>\n",
       "            </tr>\n",
       "            <tr>\n",
       "                        <th id=\"T_459370e4_0f60_11ea_a6fb_107b449f15fclevel0_row3\" class=\"row_heading level0 row3\" >зона_обитаемость</th>\n",
       "                        <td id=\"T_459370e4_0f60_11ea_a6fb_107b449f15fcrow3_col0\" class=\"data row3 col0\" >0.01418</td>\n",
       "            </tr>\n",
       "            <tr>\n",
       "                        <th id=\"T_459370e4_0f60_11ea_a6fb_107b449f15fclevel0_row4\" class=\"row_heading level0 row4\" >христианский_имя</th>\n",
       "                        <td id=\"T_459370e4_0f60_11ea_a6fb_107b449f15fcrow4_col0\" class=\"data row4 col0\" >0.01191</td>\n",
       "            </tr>\n",
       "            <tr>\n",
       "                        <th id=\"T_459370e4_0f60_11ea_a6fb_107b449f15fclevel0_row5\" class=\"row_heading level0 row5\" >русский_князь</th>\n",
       "                        <td id=\"T_459370e4_0f60_11ea_a6fb_107b449f15fcrow5_col0\" class=\"data row5 col0\" >0.00964</td>\n",
       "            </tr>\n",
       "            <tr>\n",
       "                        <th id=\"T_459370e4_0f60_11ea_a6fb_107b449f15fclevel0_row6\" class=\"row_heading level0 row6\" >протопланетный_диск</th>\n",
       "                        <td id=\"T_459370e4_0f60_11ea_a6fb_107b449f15fcrow6_col0\" class=\"data row6 col0\" >0.00879</td>\n",
       "            </tr>\n",
       "            <tr>\n",
       "                        <th id=\"T_459370e4_0f60_11ea_a6fb_107b449f15fclevel0_row7\" class=\"row_heading level0 row7\" >астрономический_единица</th>\n",
       "                        <td id=\"T_459370e4_0f60_11ea_a6fb_107b449f15fcrow7_col0\" class=\"data row7 col0\" >0.00763</td>\n",
       "            </tr>\n",
       "            <tr>\n",
       "                        <th id=\"T_459370e4_0f60_11ea_a6fb_107b449f15fclevel0_row8\" class=\"row_heading level0 row8\" >образование_планета</th>\n",
       "                        <td id=\"T_459370e4_0f60_11ea_a6fb_107b449f15fcrow8_col0\" class=\"data row8 col0\" >0.00708</td>\n",
       "            </tr>\n",
       "            <tr>\n",
       "                        <th id=\"T_459370e4_0f60_11ea_a6fb_107b449f15fclevel0_row9\" class=\"row_heading level0 row9\" >космический_аппарат</th>\n",
       "                        <td id=\"T_459370e4_0f60_11ea_a6fb_107b449f15fcrow9_col0\" class=\"data row9 col0\" >0.00649</td>\n",
       "            </tr>\n",
       "    </tbody></table><style  type=\"text/css\" >\n",
       "</style><table id=\"T_459370e5_0f60_11ea_a6fb_107b449f15fc\" style='display:inline'><thead>    <tr>        <th class=\"blank level0\" ></th>        <th class=\"col_heading level0 col0\" >topic_16 @word</th>    </tr></thead><tbody>\n",
       "                <tr>\n",
       "                        <th id=\"T_459370e5_0f60_11ea_a6fb_107b449f15fclevel0_row0\" class=\"row_heading level0 row0\" >диск</th>\n",
       "                        <td id=\"T_459370e5_0f60_11ea_a6fb_107b449f15fcrow0_col0\" class=\"data row0 col0\" >0.22378</td>\n",
       "            </tr>\n",
       "            <tr>\n",
       "                        <th id=\"T_459370e5_0f60_11ea_a6fb_107b449f15fclevel0_row1\" class=\"row_heading level0 row1\" >лёд</th>\n",
       "                        <td id=\"T_459370e5_0f60_11ea_a6fb_107b449f15fcrow1_col0\" class=\"data row1 col0\" >0.19805</td>\n",
       "            </tr>\n",
       "            <tr>\n",
       "                        <th id=\"T_459370e5_0f60_11ea_a6fb_107b449f15fclevel0_row2\" class=\"row_heading level0 row2\" >родовой</th>\n",
       "                        <td id=\"T_459370e5_0f60_11ea_a6fb_107b449f15fcrow2_col0\" class=\"data row2 col0\" >0.04956</td>\n",
       "            </tr>\n",
       "            <tr>\n",
       "                        <th id=\"T_459370e5_0f60_11ea_a6fb_107b449f15fclevel0_row3\" class=\"row_heading level0 row3\" >окружение</th>\n",
       "                        <td id=\"T_459370e5_0f60_11ea_a6fb_107b449f15fcrow3_col0\" class=\"data row3 col0\" >0.04501</td>\n",
       "            </tr>\n",
       "            <tr>\n",
       "                        <th id=\"T_459370e5_0f60_11ea_a6fb_107b449f15fclevel0_row4\" class=\"row_heading level0 row4\" >плавление</th>\n",
       "                        <td id=\"T_459370e5_0f60_11ea_a6fb_107b449f15fcrow4_col0\" class=\"data row4 col0\" >0.03472</td>\n",
       "            </tr>\n",
       "            <tr>\n",
       "                        <th id=\"T_459370e5_0f60_11ea_a6fb_107b449f15fclevel0_row5\" class=\"row_heading level0 row5\" >стабильный</th>\n",
       "                        <td id=\"T_459370e5_0f60_11ea_a6fb_107b449f15fcrow5_col0\" class=\"data row5 col0\" >0.03182</td>\n",
       "            </tr>\n",
       "            <tr>\n",
       "                        <th id=\"T_459370e5_0f60_11ea_a6fb_107b449f15fclevel0_row6\" class=\"row_heading level0 row6\" >святослав</th>\n",
       "                        <td id=\"T_459370e5_0f60_11ea_a6fb_107b449f15fcrow6_col0\" class=\"data row6 col0\" >0.02701</td>\n",
       "            </tr>\n",
       "            <tr>\n",
       "                        <th id=\"T_459370e5_0f60_11ea_a6fb_107b449f15fclevel0_row7\" class=\"row_heading level0 row7\" >дядя</th>\n",
       "                        <td id=\"T_459370e5_0f60_11ea_a6fb_107b449f15fcrow7_col0\" class=\"data row7 col0\" >0.02343</td>\n",
       "            </tr>\n",
       "            <tr>\n",
       "                        <th id=\"T_459370e5_0f60_11ea_a6fb_107b449f15fclevel0_row8\" class=\"row_heading level0 row8\" >имянаречение</th>\n",
       "                        <td id=\"T_459370e5_0f60_11ea_a6fb_107b449f15fcrow8_col0\" class=\"data row8 col0\" >0.02315</td>\n",
       "            </tr>\n",
       "            <tr>\n",
       "                        <th id=\"T_459370e5_0f60_11ea_a6fb_107b449f15fclevel0_row9\" class=\"row_heading level0 row9\" >арендт</th>\n",
       "                        <td id=\"T_459370e5_0f60_11ea_a6fb_107b449f15fcrow9_col0\" class=\"data row9 col0\" >0.02112</td>\n",
       "            </tr>\n",
       "    </tbody></table>"
      ]
     },
     "metadata": {},
     "output_type": "display_data"
    },
    {
     "data": {
      "text/html": [
       "<b> княжеские имена </b><br /> филолог федор успенский о синтезе имен, переходе к христианским именам и патрональных святых русских князей"
      ]
     },
     "metadata": {},
     "output_type": "display_data"
    },
    {
     "data": {
      "text/html": [
       "<b> хиральность живой природы </b><br /> физик виктор задков о хиральных молекулах, знаках хиральности и рацемате"
      ]
     },
     "metadata": {},
     "output_type": "display_data"
    },
    {
     "data": {
      "text/html": [
       "<b> нанотрубки из углерода и нитрида бора </b><br /> материаловед дмитрий гольберг об истории открытия нанотрубок, преимуществах нитрида бора и теплопроводности"
      ]
     },
     "metadata": {},
     "output_type": "display_data"
    },
    {
     "data": {
      "text/html": [
       "<b> образование планетных систем </b><br /> астроном дмитрий вибе о каменных планетах и планетах-гигантах, многообразии планетных систем и горячих юпитерах"
      ]
     },
     "metadata": {},
     "output_type": "display_data"
    },
    {
     "data": {
      "text/html": [
       "<b> династические имена </b><br /> филолог федор успенский о значении исследования имен, особенности княжеских имен, идее реинкарнации и покойных предках"
      ]
     },
     "metadata": {},
     "output_type": "display_data"
    },
    {
     "data": {
      "text/html": [
       "<b> эволюция экзопланет </b><br /> астрофизик сергей попов об изменениях орбит планет, сверхземле в солнечной системе и превращении звезды в красного гиганта"
      ]
     },
     "metadata": {},
     "output_type": "display_data"
    },
    {
     "data": {
      "text/html": [
       "<b> формирование планет и протопланетные диски </b><br /> астрофизик сергей попов об образовании планетных систем, снеговой линии и облаке оорта"
      ]
     },
     "metadata": {},
     "output_type": "display_data"
    },
    {
     "data": {
      "text/html": [
       "<b> faqобразование планетных систем </b><br /> 7 фактов о формировании скоплений звезд и различных незвёздообразных астрономических объектов"
      ]
     },
     "metadata": {},
     "output_type": "display_data"
    },
    {
     "data": {
      "text/html": [
       "<b> зона обитаемости </b><br /> астрофизик сергей попов о параметрах зоны обитаемости, парниковом эффекте и перспективах поиска жизни на экзопланетах"
      ]
     },
     "metadata": {},
     "output_type": "display_data"
    },
    {
     "data": {
      "text/html": [
       "<b> faqнанотрубки из углерода и нитрида бора </b><br /> 7 фактов о физических и химических свойствах материалов низкой размерности"
      ]
     },
     "metadata": {},
     "output_type": "display_data"
    },
    {
     "data": {
      "text/html": [
       "<style  type=\"text/css\" >\n",
       "</style><table id=\"T_459370e6_0f60_11ea_a6fb_107b449f15fc\" style='display:inline'><thead>    <tr>        <th class=\"blank level0\" ></th>        <th class=\"col_heading level0 col0\" >topic_17 @2gramm</th>    </tr></thead><tbody>\n",
       "                <tr>\n",
       "                        <th id=\"T_459370e6_0f60_11ea_a6fb_107b449f15fclevel0_row0\" class=\"row_heading level0 row0\" >различный_площадка</th>\n",
       "                        <td id=\"T_459370e6_0f60_11ea_a6fb_107b449f15fcrow0_col0\" class=\"data row0 col0\" >0.06057</td>\n",
       "            </tr>\n",
       "            <tr>\n",
       "                        <th id=\"T_459370e6_0f60_11ea_a6fb_107b449f15fclevel0_row1\" class=\"row_heading level0 row1\" >привычный_формат</th>\n",
       "                        <td id=\"T_459370e6_0f60_11ea_a6fb_107b449f15fcrow1_col0\" class=\"data row1 col0\" >0.05674</td>\n",
       "            </tr>\n",
       "            <tr>\n",
       "                        <th id=\"T_459370e6_0f60_11ea_a6fb_107b449f15fclevel0_row2\" class=\"row_heading level0 row2\" >ход_лекция</th>\n",
       "                        <td id=\"T_459370e6_0f60_11ea_a6fb_107b449f15fcrow2_col0\" class=\"data row2 col0\" >0.05514</td>\n",
       "            </tr>\n",
       "            <tr>\n",
       "                        <th id=\"T_459370e6_0f60_11ea_a6fb_107b449f15fclevel0_row3\" class=\"row_heading level0 row3\" >писать_postnauka</th>\n",
       "                        <td id=\"T_459370e6_0f60_11ea_a6fb_107b449f15fcrow3_col0\" class=\"data row3 col0\" >0.04777</td>\n",
       "            </tr>\n",
       "            <tr>\n",
       "                        <th id=\"T_459370e6_0f60_11ea_a6fb_107b449f15fclevel0_row4\" class=\"row_heading level0 row4\" >римский_право</th>\n",
       "                        <td id=\"T_459370e6_0f60_11ea_a6fb_107b449f15fcrow4_col0\" class=\"data row4 col0\" >0.03461</td>\n",
       "            </tr>\n",
       "            <tr>\n",
       "                        <th id=\"T_459370e6_0f60_11ea_a6fb_107b449f15fclevel0_row5\" class=\"row_heading level0 row5\" >рамка_проект</th>\n",
       "                        <td id=\"T_459370e6_0f60_11ea_a6fb_107b449f15fcrow5_col0\" class=\"data row5 col0\" >0.01985</td>\n",
       "            </tr>\n",
       "            <tr>\n",
       "                        <th id=\"T_459370e6_0f60_11ea_a6fb_107b449f15fclevel0_row6\" class=\"row_heading level0 row6\" >плохой_кино</th>\n",
       "                        <td id=\"T_459370e6_0f60_11ea_a6fb_107b449f15fcrow6_col0\" class=\"data row6 col0\" >0.00955</td>\n",
       "            </tr>\n",
       "            <tr>\n",
       "                        <th id=\"T_459370e6_0f60_11ea_a6fb_107b449f15fclevel0_row7\" class=\"row_heading level0 row7\" >новый_рубрика</th>\n",
       "                        <td id=\"T_459370e6_0f60_11ea_a6fb_107b449f15fcrow7_col0\" class=\"data row7 col0\" >0.00929</td>\n",
       "            </tr>\n",
       "            <tr>\n",
       "                        <th id=\"T_459370e6_0f60_11ea_a6fb_107b449f15fclevel0_row8\" class=\"row_heading level0 row8\" >юрский_период</th>\n",
       "                        <td id=\"T_459370e6_0f60_11ea_a6fb_107b449f15fcrow8_col0\" class=\"data row8 col0\" >0.00895</td>\n",
       "            </tr>\n",
       "            <tr>\n",
       "                        <th id=\"T_459370e6_0f60_11ea_a6fb_107b449f15fclevel0_row9\" class=\"row_heading level0 row9\" >римский_юрист</th>\n",
       "                        <td id=\"T_459370e6_0f60_11ea_a6fb_107b449f15fcrow9_col0\" class=\"data row9 col0\" >0.0083</td>\n",
       "            </tr>\n",
       "    </tbody></table><style  type=\"text/css\" >\n",
       "</style><table id=\"T_459370e7_0f60_11ea_a6fb_107b449f15fc\" style='display:inline'><thead>    <tr>        <th class=\"blank level0\" ></th>        <th class=\"col_heading level0 col0\" >topic_17 @word</th>    </tr></thead><tbody>\n",
       "                <tr>\n",
       "                        <th id=\"T_459370e7_0f60_11ea_a6fb_107b449f15fclevel0_row0\" class=\"row_heading level0 row0\" >посоветовать</th>\n",
       "                        <td id=\"T_459370e7_0f60_11ea_a6fb_107b449f15fcrow0_col0\" class=\"data row0 col0\" >0.37599</td>\n",
       "            </tr>\n",
       "            <tr>\n",
       "                        <th id=\"T_459370e7_0f60_11ea_a6fb_107b449f15fclevel0_row1\" class=\"row_heading level0 row1\" >пространственный</th>\n",
       "                        <td id=\"T_459370e7_0f60_11ea_a6fb_107b449f15fcrow1_col0\" class=\"data row1 col0\" >0.1682</td>\n",
       "            </tr>\n",
       "            <tr>\n",
       "                        <th id=\"T_459370e7_0f60_11ea_a6fb_107b449f15fclevel0_row2\" class=\"row_heading level0 row2\" >рецензент</th>\n",
       "                        <td id=\"T_459370e7_0f60_11ea_a6fb_107b449f15fcrow2_col0\" class=\"data row2 col0\" >0.06332</td>\n",
       "            </tr>\n",
       "            <tr>\n",
       "                        <th id=\"T_459370e7_0f60_11ea_a6fb_107b449f15fclevel0_row3\" class=\"row_heading level0 row3\" >плазмонный</th>\n",
       "                        <td id=\"T_459370e7_0f60_11ea_a6fb_107b449f15fcrow3_col0\" class=\"data row3 col0\" >0.03958</td>\n",
       "            </tr>\n",
       "            <tr>\n",
       "                        <th id=\"T_459370e7_0f60_11ea_a6fb_107b449f15fclevel0_row4\" class=\"row_heading level0 row4\" >кинг</th>\n",
       "                        <td id=\"T_459370e7_0f60_11ea_a6fb_107b449f15fcrow4_col0\" class=\"data row4 col0\" >0.03562</td>\n",
       "            </tr>\n",
       "            <tr>\n",
       "                        <th id=\"T_459370e7_0f60_11ea_a6fb_107b449f15fclevel0_row5\" class=\"row_heading level0 row5\" >кролик</th>\n",
       "                        <td id=\"T_459370e7_0f60_11ea_a6fb_107b449f15fcrow5_col0\" class=\"data row5 col0\" >0.03364</td>\n",
       "            </tr>\n",
       "            <tr>\n",
       "                        <th id=\"T_459370e7_0f60_11ea_a6fb_107b449f15fclevel0_row6\" class=\"row_heading level0 row6\" >зиммелить</th>\n",
       "                        <td id=\"T_459370e7_0f60_11ea_a6fb_107b449f15fcrow6_col0\" class=\"data row6 col0\" >0.03166</td>\n",
       "            </tr>\n",
       "            <tr>\n",
       "                        <th id=\"T_459370e7_0f60_11ea_a6fb_107b449f15fclevel0_row7\" class=\"row_heading level0 row7\" >скорбь</th>\n",
       "                        <td id=\"T_459370e7_0f60_11ea_a6fb_107b449f15fcrow7_col0\" class=\"data row7 col0\" >0.03166</td>\n",
       "            </tr>\n",
       "            <tr>\n",
       "                        <th id=\"T_459370e7_0f60_11ea_a6fb_107b449f15fclevel0_row8\" class=\"row_heading level0 row8\" >параллакс</th>\n",
       "                        <td id=\"T_459370e7_0f60_11ea_a6fb_107b449f15fcrow8_col0\" class=\"data row8 col0\" >0.03166</td>\n",
       "            </tr>\n",
       "            <tr>\n",
       "                        <th id=\"T_459370e7_0f60_11ea_a6fb_107b449f15fclevel0_row9\" class=\"row_heading level0 row9\" >интерферон</th>\n",
       "                        <td id=\"T_459370e7_0f60_11ea_a6fb_107b449f15fcrow9_col0\" class=\"data row9 col0\" >0.0277</td>\n",
       "            </tr>\n",
       "    </tbody></table>"
      ]
     },
     "metadata": {},
     "output_type": "display_data"
    },
    {
     "data": {
      "text/html": [
       "<b> фотонные кристаллы </b><br /> физик сергей никитов о корпускулярно-волновом дуализме, запрещённой зоне и фононных кристаллах"
      ]
     },
     "metadata": {},
     "output_type": "display_data"
    },
    {
     "data": {
      "text/html": [
       "<b> средневековые основы современного судопроизводства </b><br /> историк ольга тогоева о процессуальном праве, судебных архивах и системе наказаний"
      ]
     },
     "metadata": {},
     "output_type": "display_data"
    },
    {
     "data": {
      "text/html": [
       "<b> римское право </b><br /> 12 лекций о правовой системе древнего рима, отобранных историком права александром мареем"
      ]
     },
     "metadata": {},
     "output_type": "display_data"
    },
    {
     "data": {
      "text/html": [
       "<b> генетическая изменчивость у бактерий </b><br /> микробиолог константин северинов о наследуемых адаптациях, устойчивых бактериях и адаптивных мутациях"
      ]
     },
     "metadata": {},
     "output_type": "display_data"
    },
    {
     "data": {
      "text/html": [
       "<b> современная магнитооптика </b><br /> физик владимир белотелов об эффекте фарадея, управлении светом и передаче информации с применением магнитооптики"
      ]
     },
     "metadata": {},
     "output_type": "display_data"
    },
    {
     "data": {
      "text/html": [
       "<b> faqфотонные кристаллы </b><br /> 6 фактов об искусственно созданных структурах, обладающих свойствами обычных кристаллов"
      ]
     },
     "metadata": {},
     "output_type": "display_data"
    },
    {
     "data": {
      "text/html": [
       "<b> социология пространства </b><br /> социолог александр филиппов о теориях среднего уровня, георге зиммеле и значении пространства и времени для социологии"
      ]
     },
     "metadata": {},
     "output_type": "display_data"
    },
    {
     "data": {
      "text/html": [
       "<b> источники римского права </b><br /> историк александр марей о понятии «плебисцит», конституциях императоров и праве ответа"
      ]
     },
     "metadata": {},
     "output_type": "display_data"
    },
    {
     "data": {
      "text/html": [
       "<b> «многие юрские животные продолжили свое развитие и даже имеют потомков в наше время» </b><br /> палеонтолог чжунхэ чжоу о многообразии удивительных животных юрского периода"
      ]
     },
     "metadata": {},
     "output_type": "display_data"
    },
    {
     "data": {
      "text/html": [
       "<b> рецепция римского права </b><br /> историк александр марей о теории павла виноградова, идее власти и каноническом праве"
      ]
     },
     "metadata": {},
     "output_type": "display_data"
    },
    {
     "data": {
      "text/html": [
       "<style  type=\"text/css\" >\n",
       "</style><table id=\"T_459370e8_0f60_11ea_a6fb_107b449f15fc\" style='display:inline'><thead>    <tr>        <th class=\"blank level0\" ></th>        <th class=\"col_heading level0 col0\" >topic_18 @2gramm</th>    </tr></thead><tbody>\n",
       "                <tr>\n",
       "                        <th id=\"T_459370e8_0f60_11ea_a6fb_107b449f15fclevel0_row0\" class=\"row_heading level0 row0\" >продолжительность_жизнь</th>\n",
       "                        <td id=\"T_459370e8_0f60_11ea_a6fb_107b449f15fcrow0_col0\" class=\"data row0 col0\" >0.01419</td>\n",
       "            </tr>\n",
       "            <tr>\n",
       "                        <th id=\"T_459370e8_0f60_11ea_a6fb_107b449f15fclevel0_row1\" class=\"row_heading level0 row1\" >трансгенный_растение</th>\n",
       "                        <td id=\"T_459370e8_0f60_11ea_a6fb_107b449f15fcrow1_col0\" class=\"data row1 col0\" >0.01386</td>\n",
       "            </tr>\n",
       "            <tr>\n",
       "                        <th id=\"T_459370e8_0f60_11ea_a6fb_107b449f15fclevel0_row2\" class=\"row_heading level0 row2\" >генный_инженерия</th>\n",
       "                        <td id=\"T_459370e8_0f60_11ea_a6fb_107b449f15fcrow2_col0\" class=\"data row2 col0\" >0.01085</td>\n",
       "            </tr>\n",
       "            <tr>\n",
       "                        <th id=\"T_459370e8_0f60_11ea_a6fb_107b449f15fclevel0_row3\" class=\"row_heading level0 row3\" >жирный_кислота</th>\n",
       "                        <td id=\"T_459370e8_0f60_11ea_a6fb_107b449f15fcrow3_col0\" class=\"data row3 col0\" >0.00975</td>\n",
       "            </tr>\n",
       "            <tr>\n",
       "                        <th id=\"T_459370e8_0f60_11ea_a6fb_107b449f15fclevel0_row4\" class=\"row_heading level0 row4\" >сосудистый_заболевание</th>\n",
       "                        <td id=\"T_459370e8_0f60_11ea_a6fb_107b449f15fcrow4_col0\" class=\"data row4 col0\" >0.0083</td>\n",
       "            </tr>\n",
       "            <tr>\n",
       "                        <th id=\"T_459370e8_0f60_11ea_a6fb_107b449f15fclevel0_row5\" class=\"row_heading level0 row5\" >болезнь_сердце</th>\n",
       "                        <td id=\"T_459370e8_0f60_11ea_a6fb_107b449f15fcrow5_col0\" class=\"data row5 col0\" >0.00824</td>\n",
       "            </tr>\n",
       "            <tr>\n",
       "                        <th id=\"T_459370e8_0f60_11ea_a6fb_107b449f15fclevel0_row6\" class=\"row_heading level0 row6\" >гибель_клетка</th>\n",
       "                        <td id=\"T_459370e8_0f60_11ea_a6fb_107b449f15fcrow6_col0\" class=\"data row6 col0\" >0.00728</td>\n",
       "            </tr>\n",
       "            <tr>\n",
       "                        <th id=\"T_459370e8_0f60_11ea_a6fb_107b449f15fclevel0_row7\" class=\"row_heading level0 row7\" >фактор_риска</th>\n",
       "                        <td id=\"T_459370e8_0f60_11ea_a6fb_107b449f15fcrow7_col0\" class=\"data row7 col0\" >0.00711</td>\n",
       "            </tr>\n",
       "            <tr>\n",
       "                        <th id=\"T_459370e8_0f60_11ea_a6fb_107b449f15fclevel0_row8\" class=\"row_heading level0 row8\" >таргетный_препарат</th>\n",
       "                        <td id=\"T_459370e8_0f60_11ea_a6fb_107b449f15fcrow8_col0\" class=\"data row8 col0\" >0.00661</td>\n",
       "            </tr>\n",
       "            <tr>\n",
       "                        <th id=\"T_459370e8_0f60_11ea_a6fb_107b449f15fclevel0_row9\" class=\"row_heading level0 row9\" >вариант_ген</th>\n",
       "                        <td id=\"T_459370e8_0f60_11ea_a6fb_107b449f15fcrow9_col0\" class=\"data row9 col0\" >0.0065</td>\n",
       "            </tr>\n",
       "    </tbody></table><style  type=\"text/css\" >\n",
       "</style><table id=\"T_459370e9_0f60_11ea_a6fb_107b449f15fc\" style='display:inline'><thead>    <tr>        <th class=\"blank level0\" ></th>        <th class=\"col_heading level0 col0\" >topic_18 @word</th>    </tr></thead><tbody>\n",
       "                <tr>\n",
       "                        <th id=\"T_459370e9_0f60_11ea_a6fb_107b449f15fclevel0_row0\" class=\"row_heading level0 row0\" >депрессия</th>\n",
       "                        <td id=\"T_459370e9_0f60_11ea_a6fb_107b449f15fcrow0_col0\" class=\"data row0 col0\" >0.13788</td>\n",
       "            </tr>\n",
       "            <tr>\n",
       "                        <th id=\"T_459370e9_0f60_11ea_a6fb_107b449f15fclevel0_row1\" class=\"row_heading level0 row1\" >al</th>\n",
       "                        <td id=\"T_459370e9_0f60_11ea_a6fb_107b449f15fcrow1_col0\" class=\"data row1 col0\" >0.13481</td>\n",
       "            </tr>\n",
       "            <tr>\n",
       "                        <th id=\"T_459370e9_0f60_11ea_a6fb_107b449f15fclevel0_row2\" class=\"row_heading level0 row2\" >вес</th>\n",
       "                        <td id=\"T_459370e9_0f60_11ea_a6fb_107b449f15fcrow2_col0\" class=\"data row2 col0\" >0.10566</td>\n",
       "            </tr>\n",
       "            <tr>\n",
       "                        <th id=\"T_459370e9_0f60_11ea_a6fb_107b449f15fclevel0_row3\" class=\"row_heading level0 row3\" >здоровый</th>\n",
       "                        <td id=\"T_459370e9_0f60_11ea_a6fb_107b449f15fcrow3_col0\" class=\"data row3 col0\" >0.096</td>\n",
       "            </tr>\n",
       "            <tr>\n",
       "                        <th id=\"T_459370e9_0f60_11ea_a6fb_107b449f15fclevel0_row4\" class=\"row_heading level0 row4\" >риск</th>\n",
       "                        <td id=\"T_459370e9_0f60_11ea_a6fb_107b449f15fcrow4_col0\" class=\"data row4 col0\" >0.08788</td>\n",
       "            </tr>\n",
       "            <tr>\n",
       "                        <th id=\"T_459370e9_0f60_11ea_a6fb_107b449f15fclevel0_row5\" class=\"row_heading level0 row5\" >потребление</th>\n",
       "                        <td id=\"T_459370e9_0f60_11ea_a6fb_107b449f15fcrow5_col0\" class=\"data row5 col0\" >0.07736</td>\n",
       "            </tr>\n",
       "            <tr>\n",
       "                        <th id=\"T_459370e9_0f60_11ea_a6fb_107b449f15fclevel0_row6\" class=\"row_heading level0 row6\" >потребитель</th>\n",
       "                        <td id=\"T_459370e9_0f60_11ea_a6fb_107b449f15fcrow6_col0\" class=\"data row6 col0\" >0.04278</td>\n",
       "            </tr>\n",
       "            <tr>\n",
       "                        <th id=\"T_459370e9_0f60_11ea_a6fb_107b449f15fclevel0_row7\" class=\"row_heading level0 row7\" >повышенный</th>\n",
       "                        <td id=\"T_459370e9_0f60_11ea_a6fb_107b449f15fcrow7_col0\" class=\"data row7 col0\" >0.04255</td>\n",
       "            </tr>\n",
       "            <tr>\n",
       "                        <th id=\"T_459370e9_0f60_11ea_a6fb_107b449f15fclevel0_row8\" class=\"row_heading level0 row8\" >регулировать</th>\n",
       "                        <td id=\"T_459370e9_0f60_11ea_a6fb_107b449f15fcrow8_col0\" class=\"data row8 col0\" >0.03316</td>\n",
       "            </tr>\n",
       "            <tr>\n",
       "                        <th id=\"T_459370e9_0f60_11ea_a6fb_107b449f15fclevel0_row9\" class=\"row_heading level0 row9\" >деление</th>\n",
       "                        <td id=\"T_459370e9_0f60_11ea_a6fb_107b449f15fcrow9_col0\" class=\"data row9 col0\" >0.02258</td>\n",
       "            </tr>\n",
       "    </tbody></table>"
      ]
     },
     "metadata": {},
     "output_type": "display_data"
    },
    {
     "data": {
      "text/html": [
       "<b> молекулярное моделирование для лекарственных средств </b><br /> биофизик петр федичев об усложнении болезней, эффективных лекарственных средствах и поле применения метода"
      ]
     },
     "metadata": {},
     "output_type": "display_data"
    },
    {
     "data": {
      "text/html": [
       "<b> гены и устойчивость к алкоголю </b><br /> биолог светлана  боринская о низкой продолжительности жизни, генетических особенностях и риске развития зависимости"
      ]
     },
     "metadata": {},
     "output_type": "display_data"
    },
    {
     "data": {
      "text/html": [
       "<b> сердечная недостаточность с сохраненной сократительной функцией сердца </b><br /> кардиолог ярослав ашихмин об инфаркте миокарда, диастолической функции сердца и инструментальных методах оценки"
      ]
     },
     "metadata": {},
     "output_type": "display_data"
    },
    {
     "data": {
      "text/html": [
       "<b> трансгенные растения </b><br /> биолог алиса вячеславова об агробактериях, лабораторном получении трансгенных растений и витамине а"
      ]
     },
     "metadata": {},
     "output_type": "display_data"
    },
    {
     "data": {
      "text/html": [
       "<b> превентивная кардиология </b><br /> кардиолог ярослав ашихмин о факторах риска смерти, двух путях развития превентивной кардиологии и методах профилактики сердечных заболеваний"
      ]
     },
     "metadata": {},
     "output_type": "display_data"
    },
    {
     "data": {
      "text/html": [
       "<b> генетический анализ </b><br /> биоинформатик александр жаворонков о стоимости секвенирования генома, анализе днк плода человека и прорывах в генетическом анализе"
      ]
     },
     "metadata": {},
     "output_type": "display_data"
    },
    {
     "data": {
      "text/html": [
       "<b> физиология стресса </b><br /> физиолог павел умрюхин о концепции ганса селье, стадиях стресса и адаптации барорецепторов"
      ]
     },
     "metadata": {},
     "output_type": "display_data"
    },
    {
     "data": {
      "text/html": [
       "<b> генетически модифицированные организмы </b><br /> биолог евгений куликов о механизмах селекции, защите от насекомых и биобезопасности"
      ]
     },
     "metadata": {},
     "output_type": "display_data"
    },
    {
     "data": {
      "text/html": [
       "<b> таргетные препараты в онкологии </b><br /> биофизик николай борисов о персонализированной медицине, классах лекарственных препаратов и раке молочной железы"
      ]
     },
     "metadata": {},
     "output_type": "display_data"
    },
    {
     "data": {
      "text/html": [
       "<b> генная инженерия растений </b><br /> биолог алишер тураев об асиломарской конференции, переносе гена бактерий в клетки растения и модифицированных сельскохозяйственных культурах"
      ]
     },
     "metadata": {},
     "output_type": "display_data"
    },
    {
     "data": {
      "text/html": [
       "<style  type=\"text/css\" >\n",
       "</style><table id=\"T_459370ea_0f60_11ea_a6fb_107b449f15fc\" style='display:inline'><thead>    <tr>        <th class=\"blank level0\" ></th>        <th class=\"col_heading level0 col0\" >topic_19 @2gramm</th>    </tr></thead><tbody>\n",
       "                <tr>\n",
       "                        <th id=\"T_459370ea_0f60_11ea_a6fb_107b449f15fclevel0_row0\" class=\"row_heading level0 row0\" >бозон_хиггс</th>\n",
       "                        <td id=\"T_459370ea_0f60_11ea_a6fb_107b449f15fcrow0_col0\" class=\"data row0 col0\" >0.05559</td>\n",
       "            </tr>\n",
       "            <tr>\n",
       "                        <th id=\"T_459370ea_0f60_11ea_a6fb_107b449f15fclevel0_row1\" class=\"row_heading level0 row1\" >стандартный_модель</th>\n",
       "                        <td id=\"T_459370ea_0f60_11ea_a6fb_107b449f15fcrow1_col0\" class=\"data row1 col0\" >0.02594</td>\n",
       "            </tr>\n",
       "            <tr>\n",
       "                        <th id=\"T_459370ea_0f60_11ea_a6fb_107b449f15fclevel0_row2\" class=\"row_heading level0 row2\" >хиггсовский_бозон</th>\n",
       "                        <td id=\"T_459370ea_0f60_11ea_a6fb_107b449f15fcrow2_col0\" class=\"data row2 col0\" >0.01415</td>\n",
       "            </tr>\n",
       "            <tr>\n",
       "                        <th id=\"T_459370ea_0f60_11ea_a6fb_107b449f15fclevel0_row3\" class=\"row_heading level0 row3\" >гражданский_война</th>\n",
       "                        <td id=\"T_459370ea_0f60_11ea_a6fb_107b449f15fcrow3_col0\" class=\"data row3 col0\" >0.01384</td>\n",
       "            </tr>\n",
       "            <tr>\n",
       "                        <th id=\"T_459370ea_0f60_11ea_a6fb_107b449f15fclevel0_row4\" class=\"row_heading level0 row4\" >австралийский_абориген</th>\n",
       "                        <td id=\"T_459370ea_0f60_11ea_a6fb_107b449f15fcrow4_col0\" class=\"data row4 col0\" >0.01097</td>\n",
       "            </tr>\n",
       "            <tr>\n",
       "                        <th id=\"T_459370ea_0f60_11ea_a6fb_107b449f15fclevel0_row5\" class=\"row_heading level0 row5\" >поколение_кварк</th>\n",
       "                        <td id=\"T_459370ea_0f60_11ea_a6fb_107b449f15fcrow5_col0\" class=\"data row5 col0\" >0.01007</td>\n",
       "            </tr>\n",
       "            <tr>\n",
       "                        <th id=\"T_459370ea_0f60_11ea_a6fb_107b449f15fclevel0_row6\" class=\"row_heading level0 row6\" >учёный_ответить</th>\n",
       "                        <td id=\"T_459370ea_0f60_11ea_a6fb_107b449f15fcrow6_col0\" class=\"data row6 col0\" >0.00985</td>\n",
       "            </tr>\n",
       "            <tr>\n",
       "                        <th id=\"T_459370ea_0f60_11ea_a6fb_107b449f15fclevel0_row7\" class=\"row_heading level0 row7\" >тяжёлый_кварк</th>\n",
       "                        <td id=\"T_459370ea_0f60_11ea_a6fb_107b449f15fcrow7_col0\" class=\"data row7 col0\" >0.00738</td>\n",
       "            </tr>\n",
       "            <tr>\n",
       "                        <th id=\"T_459370ea_0f60_11ea_a6fb_107b449f15fclevel0_row8\" class=\"row_heading level0 row8\" >масса_нейтрино</th>\n",
       "                        <td id=\"T_459370ea_0f60_11ea_a6fb_107b449f15fcrow8_col0\" class=\"data row8 col0\" >0.00642</td>\n",
       "            </tr>\n",
       "            <tr>\n",
       "                        <th id=\"T_459370ea_0f60_11ea_a6fb_107b449f15fclevel0_row9\" class=\"row_heading level0 row9\" >сильный_взаимодействие</th>\n",
       "                        <td id=\"T_459370ea_0f60_11ea_a6fb_107b449f15fcrow9_col0\" class=\"data row9 col0\" >0.00621</td>\n",
       "            </tr>\n",
       "    </tbody></table><style  type=\"text/css\" >\n",
       "</style><table id=\"T_459370eb_0f60_11ea_a6fb_107b449f15fc\" style='display:inline'><thead>    <tr>        <th class=\"blank level0\" ></th>        <th class=\"col_heading level0 col0\" >topic_19 @word</th>    </tr></thead><tbody>\n",
       "                <tr>\n",
       "                        <th id=\"T_459370eb_0f60_11ea_a6fb_107b449f15fclevel0_row0\" class=\"row_heading level0 row0\" >нейтрино</th>\n",
       "                        <td id=\"T_459370eb_0f60_11ea_a6fb_107b449f15fcrow0_col0\" class=\"data row0 col0\" >0.43269</td>\n",
       "            </tr>\n",
       "            <tr>\n",
       "                        <th id=\"T_459370eb_0f60_11ea_a6fb_107b449f15fclevel0_row1\" class=\"row_heading level0 row1\" >этнический</th>\n",
       "                        <td id=\"T_459370eb_0f60_11ea_a6fb_107b449f15fcrow1_col0\" class=\"data row1 col0\" >0.16226</td>\n",
       "            </tr>\n",
       "            <tr>\n",
       "                        <th id=\"T_459370eb_0f60_11ea_a6fb_107b449f15fclevel0_row2\" class=\"row_heading level0 row2\" >риторика</th>\n",
       "                        <td id=\"T_459370eb_0f60_11ea_a6fb_107b449f15fcrow2_col0\" class=\"data row2 col0\" >0.05966</td>\n",
       "            </tr>\n",
       "            <tr>\n",
       "                        <th id=\"T_459370eb_0f60_11ea_a6fb_107b449f15fclevel0_row3\" class=\"row_heading level0 row3\" >lookatme</th>\n",
       "                        <td id=\"T_459370eb_0f60_11ea_a6fb_107b449f15fcrow3_col0\" class=\"data row3 col0\" >0.04536</td>\n",
       "            </tr>\n",
       "            <tr>\n",
       "                        <th id=\"T_459370eb_0f60_11ea_a6fb_107b449f15fclevel0_row4\" class=\"row_heading level0 row4\" >тау</th>\n",
       "                        <td id=\"T_459370eb_0f60_11ea_a6fb_107b449f15fcrow4_col0\" class=\"data row4 col0\" >0.04013</td>\n",
       "            </tr>\n",
       "            <tr>\n",
       "                        <th id=\"T_459370eb_0f60_11ea_a6fb_107b449f15fclevel0_row5\" class=\"row_heading level0 row5\" >полином</th>\n",
       "                        <td id=\"T_459370eb_0f60_11ea_a6fb_107b449f15fcrow5_col0\" class=\"data row5 col0\" >0.03315</td>\n",
       "            </tr>\n",
       "            <tr>\n",
       "                        <th id=\"T_459370eb_0f60_11ea_a6fb_107b449f15fclevel0_row6\" class=\"row_heading level0 row6\" >чётность</th>\n",
       "                        <td id=\"T_459370eb_0f60_11ea_a6fb_107b449f15fcrow6_col0\" class=\"data row6 col0\" >0.02966</td>\n",
       "            </tr>\n",
       "            <tr>\n",
       "                        <th id=\"T_459370eb_0f60_11ea_a6fb_107b449f15fclevel0_row7\" class=\"row_heading level0 row7\" >банный</th>\n",
       "                        <td id=\"T_459370eb_0f60_11ea_a6fb_107b449f15fcrow7_col0\" class=\"data row7 col0\" >0.02792</td>\n",
       "            </tr>\n",
       "            <tr>\n",
       "                        <th id=\"T_459370eb_0f60_11ea_a6fb_107b449f15fclevel0_row8\" class=\"row_heading level0 row8\" >смешивание</th>\n",
       "                        <td id=\"T_459370eb_0f60_11ea_a6fb_107b449f15fcrow8_col0\" class=\"data row8 col0\" >0.02443</td>\n",
       "            </tr>\n",
       "            <tr>\n",
       "                        <th id=\"T_459370eb_0f60_11ea_a6fb_107b449f15fclevel0_row9\" class=\"row_heading level0 row9\" >высота</th>\n",
       "                        <td id=\"T_459370eb_0f60_11ea_a6fb_107b449f15fcrow9_col0\" class=\"data row9 col0\" >0.02309</td>\n",
       "            </tr>\n",
       "    </tbody></table>"
      ]
     },
     "metadata": {},
     "output_type": "display_data"
    },
    {
     "data": {
      "text/html": [
       "<b> осцилляции нейтрино </b><br /> физик михаил данилов об открытии вольфганга паули, истории изучения свойств частицы и проблеме солнечных нейтрино"
      ]
     },
     "metadata": {},
     "output_type": "display_data"
    },
    {
     "data": {
      "text/html": [
       "<b> двойник бозона хиггса «радион» </b><br /> физик игорь волобуев о функции бозона хиггса в стандартной модели, модели мира на бране и о тяжелых частицах, возбуждениях гравитационного поля"
      ]
     },
     "metadata": {},
     "output_type": "display_data"
    },
    {
     "data": {
      "text/html": [
       "<b> стандартная модель </b><br /> физик михаил данилов об экспериментах на коллайдерах, массе фундаментальных частиц и суперсимметрии"
      ]
     },
     "metadata": {},
     "output_type": "display_data"
    },
    {
     "data": {
      "text/html": [
       "<b> cp-нарушение в тяжелых кварках </b><br /> физик анатолий лиходед о странных частицах, гипотезе о несохранении четности и смешивании кварков"
      ]
     },
     "metadata": {},
     "output_type": "display_data"
    },
    {
     "data": {
      "text/html": [
       "<b> структура материи </b><br /> 9 лекций о строении вещества вселенной и частицах, ее составляющих, отобранных физиком михаилом даниловым"
      ]
     },
     "metadata": {},
     "output_type": "display_data"
    },
    {
     "data": {
      "text/html": [
       "<b> faqстандартная модель </b><br /> 7 фактов об одной из самых совершенных теорий современной физики"
      ]
     },
     "metadata": {},
     "output_type": "display_data"
    },
    {
     "data": {
      "text/html": [
       "<b> открытие бозона хиггса </b><br /> физик дмитрий казаков о числе бозонов хиггса, массе новой частицы и реакции научного сообщества"
      ]
     },
     "metadata": {},
     "output_type": "display_data"
    },
    {
     "data": {
      "text/html": [
       "<b> постсоветский этнический конфликт </b><br /> востоковед алексей малашенко об отмене советских запретов, неизбежности конфликта и выборе идентичности"
      ]
     },
     "metadata": {},
     "output_type": "display_data"
    },
    {
     "data": {
      "text/html": [
       "<b> происхождение австралоидной расы </b><br /> антрополог станислав дробышевский о стереотипах, смешении с неандертальцами и специфике австралийских аборигенов"
      ]
     },
     "metadata": {},
     "output_type": "display_data"
    },
    {
     "data": {
      "text/html": [
       "<b> нобелевская премия по физике — 2015 </b><br /> физик юрий куденко о значении открытия наличия у нейтрино массы и дальнейших исследованиях в этой области, способных расширить стандартную модель"
      ]
     },
     "metadata": {},
     "output_type": "display_data"
    },
    {
     "data": {
      "text/html": [
       "<style  type=\"text/css\" >\n",
       "</style><table id=\"T_459370ec_0f60_11ea_a6fb_107b449f15fc\" style='display:inline'><thead>    <tr>        <th class=\"blank level0\" ></th>        <th class=\"col_heading level0 col0\" >topic_20 @2gramm</th>    </tr></thead><tbody>\n",
       "                <tr>\n",
       "                        <th id=\"T_459370ec_0f60_11ea_a6fb_107b449f15fclevel0_row0\" class=\"row_heading level0 row0\" >нервный_клетка</th>\n",
       "                        <td id=\"T_459370ec_0f60_11ea_a6fb_107b449f15fcrow0_col0\" class=\"data row0 col0\" >0.03959</td>\n",
       "            </tr>\n",
       "            <tr>\n",
       "                        <th id=\"T_459370ec_0f60_11ea_a6fb_107b449f15fclevel0_row1\" class=\"row_heading level0 row1\" >нервный_система</th>\n",
       "                        <td id=\"T_459370ec_0f60_11ea_a6fb_107b449f15fcrow1_col0\" class=\"data row1 col0\" >0.01892</td>\n",
       "            </tr>\n",
       "            <tr>\n",
       "                        <th id=\"T_459370ec_0f60_11ea_a6fb_107b449f15fclevel0_row2\" class=\"row_heading level0 row2\" >потенциал_действие</th>\n",
       "                        <td id=\"T_459370ec_0f60_11ea_a6fb_107b449f15fcrow2_col0\" class=\"data row2 col0\" >0.0092</td>\n",
       "            </tr>\n",
       "            <tr>\n",
       "                        <th id=\"T_459370ec_0f60_11ea_a6fb_107b449f15fclevel0_row3\" class=\"row_heading level0 row3\" >долговременный_память</th>\n",
       "                        <td id=\"T_459370ec_0f60_11ea_a6fb_107b449f15fcrow3_col0\" class=\"data row3 col0\" >0.00849</td>\n",
       "            </tr>\n",
       "            <tr>\n",
       "                        <th id=\"T_459370ec_0f60_11ea_a6fb_107b449f15fclevel0_row4\" class=\"row_heading level0 row4\" >ионный_канал</th>\n",
       "                        <td id=\"T_459370ec_0f60_11ea_a6fb_107b449f15fcrow4_col0\" class=\"data row4 col0\" >0.00735</td>\n",
       "            </tr>\n",
       "            <tr>\n",
       "                        <th id=\"T_459370ec_0f60_11ea_a6fb_107b449f15fclevel0_row5\" class=\"row_heading level0 row5\" >кратковременный_память</th>\n",
       "                        <td id=\"T_459370ec_0f60_11ea_a6fb_107b449f15fcrow5_col0\" class=\"data row5 col0\" >0.00697</td>\n",
       "            </tr>\n",
       "            <tr>\n",
       "                        <th id=\"T_459370ec_0f60_11ea_a6fb_107b449f15fclevel0_row6\" class=\"row_heading level0 row6\" >лазерный_излучение</th>\n",
       "                        <td id=\"T_459370ec_0f60_11ea_a6fb_107b449f15fcrow6_col0\" class=\"data row6 col0\" >0.00669</td>\n",
       "            </tr>\n",
       "            <tr>\n",
       "                        <th id=\"T_459370ec_0f60_11ea_a6fb_107b449f15fclevel0_row7\" class=\"row_heading level0 row7\" >мышечный_волокно</th>\n",
       "                        <td id=\"T_459370ec_0f60_11ea_a6fb_107b449f15fcrow7_col0\" class=\"data row7 col0\" >0.00574</td>\n",
       "            </tr>\n",
       "            <tr>\n",
       "                        <th id=\"T_459370ec_0f60_11ea_a6fb_107b449f15fclevel0_row8\" class=\"row_heading level0 row8\" >психический_заболевание</th>\n",
       "                        <td id=\"T_459370ec_0f60_11ea_a6fb_107b449f15fcrow8_col0\" class=\"data row8 col0\" >0.00564</td>\n",
       "            </tr>\n",
       "            <tr>\n",
       "                        <th id=\"T_459370ec_0f60_11ea_a6fb_107b449f15fclevel0_row9\" class=\"row_heading level0 row9\" >болезнь_альцгеймер</th>\n",
       "                        <td id=\"T_459370ec_0f60_11ea_a6fb_107b449f15fcrow9_col0\" class=\"data row9 col0\" >0.00556</td>\n",
       "            </tr>\n",
       "    </tbody></table><style  type=\"text/css\" >\n",
       "</style><table id=\"T_459370ed_0f60_11ea_a6fb_107b449f15fc\" style='display:inline'><thead>    <tr>        <th class=\"blank level0\" ></th>        <th class=\"col_heading level0 col0\" >topic_20 @word</th>    </tr></thead><tbody>\n",
       "                <tr>\n",
       "                        <th id=\"T_459370ed_0f60_11ea_a6fb_107b449f15fclevel0_row0\" class=\"row_heading level0 row0\" >мышца</th>\n",
       "                        <td id=\"T_459370ed_0f60_11ea_a6fb_107b449f15fcrow0_col0\" class=\"data row0 col0\" >0.25801</td>\n",
       "            </tr>\n",
       "            <tr>\n",
       "                        <th id=\"T_459370ed_0f60_11ea_a6fb_107b449f15fclevel0_row1\" class=\"row_heading level0 row1\" >чувствительность</th>\n",
       "                        <td id=\"T_459370ed_0f60_11ea_a6fb_107b449f15fcrow1_col0\" class=\"data row1 col0\" >0.11626</td>\n",
       "            </tr>\n",
       "            <tr>\n",
       "                        <th id=\"T_459370ed_0f60_11ea_a6fb_107b449f15fclevel0_row2\" class=\"row_heading level0 row2\" >ловушка</th>\n",
       "                        <td id=\"T_459370ed_0f60_11ea_a6fb_107b449f15fcrow2_col0\" class=\"data row2 col0\" >0.08441</td>\n",
       "            </tr>\n",
       "            <tr>\n",
       "                        <th id=\"T_459370ed_0f60_11ea_a6fb_107b449f15fclevel0_row3\" class=\"row_heading level0 row3\" >физиология</th>\n",
       "                        <td id=\"T_459370ed_0f60_11ea_a6fb_107b449f15fcrow3_col0\" class=\"data row3 col0\" >0.07963</td>\n",
       "            </tr>\n",
       "            <tr>\n",
       "                        <th id=\"T_459370ed_0f60_11ea_a6fb_107b449f15fclevel0_row4\" class=\"row_heading level0 row4\" >самолёт</th>\n",
       "                        <td id=\"T_459370ed_0f60_11ea_a6fb_107b449f15fcrow4_col0\" class=\"data row4 col0\" >0.0791</td>\n",
       "            </tr>\n",
       "            <tr>\n",
       "                        <th id=\"T_459370ed_0f60_11ea_a6fb_107b449f15fclevel0_row5\" class=\"row_heading level0 row5\" >прогноз</th>\n",
       "                        <td id=\"T_459370ed_0f60_11ea_a6fb_107b449f15fcrow5_col0\" class=\"data row5 col0\" >0.07583</td>\n",
       "            </tr>\n",
       "            <tr>\n",
       "                        <th id=\"T_459370ed_0f60_11ea_a6fb_107b449f15fclevel0_row6\" class=\"row_heading level0 row6\" >мышечный</th>\n",
       "                        <td id=\"T_459370ed_0f60_11ea_a6fb_107b449f15fcrow6_col0\" class=\"data row6 col0\" >0.07486</td>\n",
       "            </tr>\n",
       "            <tr>\n",
       "                        <th id=\"T_459370ed_0f60_11ea_a6fb_107b449f15fclevel0_row7\" class=\"row_heading level0 row7\" >запомнить</th>\n",
       "                        <td id=\"T_459370ed_0f60_11ea_a6fb_107b449f15fcrow7_col0\" class=\"data row7 col0\" >0.04987</td>\n",
       "            </tr>\n",
       "            <tr>\n",
       "                        <th id=\"T_459370ed_0f60_11ea_a6fb_107b449f15fclevel0_row8\" class=\"row_heading level0 row8\" >сознательный</th>\n",
       "                        <td id=\"T_459370ed_0f60_11ea_a6fb_107b449f15fcrow8_col0\" class=\"data row8 col0\" >0.03673</td>\n",
       "            </tr>\n",
       "            <tr>\n",
       "                        <th id=\"T_459370ed_0f60_11ea_a6fb_107b449f15fclevel0_row9\" class=\"row_heading level0 row9\" >открываться</th>\n",
       "                        <td id=\"T_459370ed_0f60_11ea_a6fb_107b449f15fcrow9_col0\" class=\"data row9 col0\" >0.02459</td>\n",
       "            </tr>\n",
       "    </tbody></table>"
      ]
     },
     "metadata": {},
     "output_type": "display_data"
    },
    {
     "data": {
      "text/html": [
       "<b> перераспределительное лазерное охлаждение </b><br /> физик мартин вейс о доплеровском охлаждении разреженных газов, лазерном охлаждении твердых тел и плотных газов"
      ]
     },
     "metadata": {},
     "output_type": "display_data"
    },
    {
     "data": {
      "text/html": [
       "<b> структура нервных клеток </b><br /> нейробиолог сергей саложин о синапсах, пути нейромедиатора и передаче информации в мозге"
      ]
     },
     "metadata": {},
     "output_type": "display_data"
    },
    {
     "data": {
      "text/html": [
       "<b> спектрометрия ионной подвижности </b><br /> химик александр шварцбург об истории метода, его применении в структурной биологии и исследовании взрывчатых веществ"
      ]
     },
     "metadata": {},
     "output_type": "display_data"
    },
    {
     "data": {
      "text/html": [
       "<b> faqструктура нервной клетки </b><br /> 7 фактов об устройстве и взаимодействии нейронов"
      ]
     },
     "metadata": {},
     "output_type": "display_data"
    },
    {
     "data": {
      "text/html": [
       "<b> нейрогенетика памяти </b><br /> нейробиолог павел балабан о молекулах памяти, полногеномном анализе и нейродегенаративных заболеваниях"
      ]
     },
     "metadata": {},
     "output_type": "display_data"
    },
    {
     "data": {
      "text/html": [
       "<b> мембраноактивные антибиотики </b><br /> биофизик роман ефремов о проблеме резистентности, лантибиотиках и оптимизации ловушек"
      ]
     },
     "metadata": {},
     "output_type": "display_data"
    },
    {
     "data": {
      "text/html": [
       "<b> синаптическая пластичность </b><br /> нейробиолог сергей саложин о механизме памяти, пластичности нервных клеток и фосфорилировании"
      ]
     },
     "metadata": {},
     "output_type": "display_data"
    },
    {
     "data": {
      "text/html": [
       "<b> нейротрофины и генная терапия </b><br /> нейробиолог сергей саложин о факторе роста нервов, холинергических нейронах и перспективах исследований"
      ]
     },
     "metadata": {},
     "output_type": "display_data"
    },
    {
     "data": {
      "text/html": [
       "<b> faqсинаптическая пластичность </b><br /> 7 фактов о способности связей между нейронами к изменениям"
      ]
     },
     "metadata": {},
     "output_type": "display_data"
    },
    {
     "data": {
      "text/html": [
       "<b> общение клеток </b><br /> биолог евгений шеваль о функциях нервных клеток, способах общения и работе иммунной системы"
      ]
     },
     "metadata": {},
     "output_type": "display_data"
    },
    {
     "data": {
      "text/html": [
       "<style  type=\"text/css\" >\n",
       "</style><table id=\"T_459370ee_0f60_11ea_a6fb_107b449f15fc\" style='display:inline'><thead>    <tr>        <th class=\"blank level0\" ></th>        <th class=\"col_heading level0 col0\" >topic_21 @2gramm</th>    </tr></thead><tbody>\n",
       "                <tr>\n",
       "                        <th id=\"T_459370ee_0f60_11ea_a6fb_107b449f15fclevel0_row0\" class=\"row_heading level0 row0\" >устный_речь</th>\n",
       "                        <td id=\"T_459370ee_0f60_11ea_a6fb_107b449f15fcrow0_col0\" class=\"data row0 col0\" >0.0177</td>\n",
       "            </tr>\n",
       "            <tr>\n",
       "                        <th id=\"T_459370ee_0f60_11ea_a6fb_107b449f15fclevel0_row1\" class=\"row_heading level0 row1\" >естественный_язык</th>\n",
       "                        <td id=\"T_459370ee_0f60_11ea_a6fb_107b449f15fcrow1_col0\" class=\"data row1 col0\" >0.01467</td>\n",
       "            </tr>\n",
       "            <tr>\n",
       "                        <th id=\"T_459370ee_0f60_11ea_a6fb_107b449f15fclevel0_row2\" class=\"row_heading level0 row2\" >интерфейс_мозг</th>\n",
       "                        <td id=\"T_459370ee_0f60_11ea_a6fb_107b449f15fcrow2_col0\" class=\"data row2 col0\" >0.00863</td>\n",
       "            </tr>\n",
       "            <tr>\n",
       "                        <th id=\"T_459370ee_0f60_11ea_a6fb_107b449f15fclevel0_row3\" class=\"row_heading level0 row3\" >значение_слово</th>\n",
       "                        <td id=\"T_459370ee_0f60_11ea_a6fb_107b449f15fcrow3_col0\" class=\"data row3 col0\" >0.00862</td>\n",
       "            </tr>\n",
       "            <tr>\n",
       "                        <th id=\"T_459370ee_0f60_11ea_a6fb_107b449f15fclevel0_row4\" class=\"row_heading level0 row4\" >письменный_речь</th>\n",
       "                        <td id=\"T_459370ee_0f60_11ea_a6fb_107b449f15fcrow4_col0\" class=\"data row4 col0\" >0.00817</td>\n",
       "            </tr>\n",
       "            <tr>\n",
       "                        <th id=\"T_459370ee_0f60_11ea_a6fb_107b449f15fclevel0_row5\" class=\"row_heading level0 row5\" >иностранный_язык</th>\n",
       "                        <td id=\"T_459370ee_0f60_11ea_a6fb_107b449f15fcrow5_col0\" class=\"data row5 col0\" >0.00771</td>\n",
       "            </tr>\n",
       "            <tr>\n",
       "                        <th id=\"T_459370ee_0f60_11ea_a6fb_107b449f15fclevel0_row6\" class=\"row_heading level0 row6\" >носитель_язык</th>\n",
       "                        <td id=\"T_459370ee_0f60_11ea_a6fb_107b449f15fcrow6_col0\" class=\"data row6 col0\" >0.00721</td>\n",
       "            </tr>\n",
       "            <tr>\n",
       "                        <th id=\"T_459370ee_0f60_11ea_a6fb_107b449f15fclevel0_row7\" class=\"row_heading level0 row7\" >жестовый_язык</th>\n",
       "                        <td id=\"T_459370ee_0f60_11ea_a6fb_107b449f15fcrow7_col0\" class=\"data row7 col0\" >0.007</td>\n",
       "            </tr>\n",
       "            <tr>\n",
       "                        <th id=\"T_459370ee_0f60_11ea_a6fb_107b449f15fclevel0_row8\" class=\"row_heading level0 row8\" >властелин_кольцо</th>\n",
       "                        <td id=\"T_459370ee_0f60_11ea_a6fb_107b449f15fcrow8_col0\" class=\"data row8 col0\" >0.007</td>\n",
       "            </tr>\n",
       "            <tr>\n",
       "                        <th id=\"T_459370ee_0f60_11ea_a6fb_107b449f15fclevel0_row9\" class=\"row_heading level0 row9\" >прикладной_лингвистика</th>\n",
       "                        <td id=\"T_459370ee_0f60_11ea_a6fb_107b449f15fcrow9_col0\" class=\"data row9 col0\" >0.00696</td>\n",
       "            </tr>\n",
       "    </tbody></table><style  type=\"text/css\" >\n",
       "</style><table id=\"T_459370ef_0f60_11ea_a6fb_107b449f15fc\" style='display:inline'><thead>    <tr>        <th class=\"blank level0\" ></th>        <th class=\"col_heading level0 col0\" >topic_21 @word</th>    </tr></thead><tbody>\n",
       "                <tr>\n",
       "                        <th id=\"T_459370ef_0f60_11ea_a6fb_107b449f15fclevel0_row0\" class=\"row_heading level0 row0\" >намерение</th>\n",
       "                        <td id=\"T_459370ef_0f60_11ea_a6fb_107b449f15fcrow0_col0\" class=\"data row0 col0\" >0.17517</td>\n",
       "            </tr>\n",
       "            <tr>\n",
       "                        <th id=\"T_459370ef_0f60_11ea_a6fb_107b449f15fclevel0_row1\" class=\"row_heading level0 row1\" >мобильность</th>\n",
       "                        <td id=\"T_459370ef_0f60_11ea_a6fb_107b449f15fcrow1_col0\" class=\"data row1 col0\" >0.09252</td>\n",
       "            </tr>\n",
       "            <tr>\n",
       "                        <th id=\"T_459370ef_0f60_11ea_a6fb_107b449f15fclevel0_row2\" class=\"row_heading level0 row2\" >команда</th>\n",
       "                        <td id=\"T_459370ef_0f60_11ea_a6fb_107b449f15fcrow2_col0\" class=\"data row2 col0\" >0.09199</td>\n",
       "            </tr>\n",
       "            <tr>\n",
       "                        <th id=\"T_459370ef_0f60_11ea_a6fb_107b449f15fclevel0_row3\" class=\"row_heading level0 row3\" >илл</th>\n",
       "                        <td id=\"T_459370ef_0f60_11ea_a6fb_107b449f15fcrow3_col0\" class=\"data row3 col0\" >0.03824</td>\n",
       "            </tr>\n",
       "            <tr>\n",
       "                        <th id=\"T_459370ef_0f60_11ea_a6fb_107b449f15fclevel0_row4\" class=\"row_heading level0 row4\" >ехать</th>\n",
       "                        <td id=\"T_459370ef_0f60_11ea_a6fb_107b449f15fcrow4_col0\" class=\"data row4 col0\" >0.03139</td>\n",
       "            </tr>\n",
       "            <tr>\n",
       "                        <th id=\"T_459370ef_0f60_11ea_a6fb_107b449f15fclevel0_row5\" class=\"row_heading level0 row5\" >инакомыслие</th>\n",
       "                        <td id=\"T_459370ef_0f60_11ea_a6fb_107b449f15fcrow5_col0\" class=\"data row5 col0\" >0.03084</td>\n",
       "            </tr>\n",
       "            <tr>\n",
       "                        <th id=\"T_459370ef_0f60_11ea_a6fb_107b449f15fclevel0_row6\" class=\"row_heading level0 row6\" >встретить</th>\n",
       "                        <td id=\"T_459370ef_0f60_11ea_a6fb_107b449f15fcrow6_col0\" class=\"data row6 col0\" >0.02922</td>\n",
       "            </tr>\n",
       "            <tr>\n",
       "                        <th id=\"T_459370ef_0f60_11ea_a6fb_107b449f15fclevel0_row7\" class=\"row_heading level0 row7\" >долгожитель</th>\n",
       "                        <td id=\"T_459370ef_0f60_11ea_a6fb_107b449f15fcrow7_col0\" class=\"data row7 col0\" >0.02467</td>\n",
       "            </tr>\n",
       "            <tr>\n",
       "                        <th id=\"T_459370ef_0f60_11ea_a6fb_107b449f15fclevel0_row8\" class=\"row_heading level0 row8\" >герцен</th>\n",
       "                        <td id=\"T_459370ef_0f60_11ea_a6fb_107b449f15fcrow8_col0\" class=\"data row8 col0\" >0.02467</td>\n",
       "            </tr>\n",
       "            <tr>\n",
       "                        <th id=\"T_459370ef_0f60_11ea_a6fb_107b449f15fclevel0_row9\" class=\"row_heading level0 row9\" >вольность</th>\n",
       "                        <td id=\"T_459370ef_0f60_11ea_a6fb_107b449f15fcrow9_col0\" class=\"data row9 col0\" >0.02344</td>\n",
       "            </tr>\n",
       "    </tbody></table>"
      ]
     },
     "metadata": {},
     "output_type": "display_data"
    },
    {
     "data": {
      "text/html": [
       "<b> функционалистская теория языка </b><br /> лингвист андрей кибрик о теории дарвина, типах коммуникаций и  жестовых языках"
      ]
     },
     "metadata": {},
     "output_type": "display_data"
    },
    {
     "data": {
      "text/html": [
       "<b> структура волшебной сказки </b><br /> фольклорист сергей неклюдов об обреченном сыне фараона, волшебной сказке и сюжетных типах"
      ]
     },
     "metadata": {},
     "output_type": "display_data"
    },
    {
     "data": {
      "text/html": [
       "<b> sciencehub #06компьютерная лингвистика </b><br /> программист анатолий старостин о компьютерных методах в лингвистике, онтоинженерах abbyy и семантическом поиске"
      ]
     },
     "metadata": {},
     "output_type": "display_data"
    },
    {
     "data": {
      "text/html": [
       "<b> нейрокоммуникаторы </b><br /> психофизиолог александр каплан об интерфейсе мозг-компьютер, прямом понимании намерений мозга и будущем коммуникации"
      ]
     },
     "metadata": {},
     "output_type": "display_data"
    },
    {
     "data": {
      "text/html": [
       "<b> нейроинтерфейс мозг-компьютер </b><br /> психофизиолог александр каплан о мышечном канале связи, расшифровке мысли и управлении средой"
      ]
     },
     "metadata": {},
     "output_type": "display_data"
    },
    {
     "data": {
      "text/html": [
       "<b> социальная мобильность </b><br /> социолог александр филиппов о социологии мобильностей и автомобиле как готическом соборе"
      ]
     },
     "metadata": {},
     "output_type": "display_data"
    },
    {
     "data": {
      "text/html": [
       "<b> сбои в спонтанной речи </b><br /> лингвист вера подлесская о когнитивных задачах устной речи, стратегиях исправления ошибок и  универсальности речевых сбоев"
      ]
     },
     "metadata": {},
     "output_type": "display_data"
    },
    {
     "data": {
      "text/html": [
       "<b> sciencehub #08нейроинтерфейсы </b><br /> психофизиолог александр каплан о расшифровке активности мозга, его содержании и взаимодействии между мозгом и внешним устройством"
      ]
     },
     "metadata": {},
     "output_type": "display_data"
    },
    {
     "data": {
      "text/html": [
       "<b> проблема многозначности слов </b><br /> лингвист борис иомдин о роли ситуационного контекста, программах автоматической обработки текста и психолингвистических экспериментах"
      ]
     },
     "metadata": {},
     "output_type": "display_data"
    },
    {
     "data": {
      "text/html": [
       "<b> языки африки </b><br /> лингвист владимир плунгян о различии родов, классах одушевленности и категориях временной дистанции в африканских языках"
      ]
     },
     "metadata": {},
     "output_type": "display_data"
    },
    {
     "data": {
      "text/html": [
       "<style  type=\"text/css\" >\n",
       "</style><table id=\"T_459370f0_0f60_11ea_a6fb_107b449f15fc\" style='display:inline'><thead>    <tr>        <th class=\"blank level0\" ></th>        <th class=\"col_heading level0 col0\" >topic_22 @2gramm</th>    </tr></thead><tbody>\n",
       "                <tr>\n",
       "                        <th id=\"T_459370f0_0f60_11ea_a6fb_107b449f15fclevel0_row0\" class=\"row_heading level0 row0\" >нобелевский_премия</th>\n",
       "                        <td id=\"T_459370f0_0f60_11ea_a6fb_107b449f15fcrow0_col0\" class=\"data row0 col0\" >0.02716</td>\n",
       "            </tr>\n",
       "            <tr>\n",
       "                        <th id=\"T_459370f0_0f60_11ea_a6fb_107b449f15fclevel0_row1\" class=\"row_heading level0 row1\" >умственный_способность</th>\n",
       "                        <td id=\"T_459370f0_0f60_11ea_a6fb_107b449f15fcrow1_col0\" class=\"data row1 col0\" >0.009</td>\n",
       "            </tr>\n",
       "            <tr>\n",
       "                        <th id=\"T_459370f0_0f60_11ea_a6fb_107b449f15fclevel0_row2\" class=\"row_heading level0 row2\" >нобелевский_комитет</th>\n",
       "                        <td id=\"T_459370f0_0f60_11ea_a6fb_107b449f15fcrow2_col0\" class=\"data row2 col0\" >0.00868</td>\n",
       "            </tr>\n",
       "            <tr>\n",
       "                        <th id=\"T_459370f0_0f60_11ea_a6fb_107b449f15fclevel0_row3\" class=\"row_heading level0 row3\" >советский_этнография</th>\n",
       "                        <td id=\"T_459370f0_0f60_11ea_a6fb_107b449f15fcrow3_col0\" class=\"data row3 col0\" >0.00817</td>\n",
       "            </tr>\n",
       "            <tr>\n",
       "                        <th id=\"T_459370f0_0f60_11ea_a6fb_107b449f15fclevel0_row4\" class=\"row_heading level0 row4\" >судебный_поединок</th>\n",
       "                        <td id=\"T_459370f0_0f60_11ea_a6fb_107b449f15fcrow4_col0\" class=\"data row4 col0\" >0.00734</td>\n",
       "            </tr>\n",
       "            <tr>\n",
       "                        <th id=\"T_459370f0_0f60_11ea_a6fb_107b449f15fclevel0_row5\" class=\"row_heading level0 row5\" >член_политбюро</th>\n",
       "                        <td id=\"T_459370f0_0f60_11ea_a6fb_107b449f15fcrow5_col0\" class=\"data row5 col0\" >0.00717</td>\n",
       "            </tr>\n",
       "            <tr>\n",
       "                        <th id=\"T_459370f0_0f60_11ea_a6fb_107b449f15fclevel0_row6\" class=\"row_heading level0 row6\" >теория_этнос</th>\n",
       "                        <td id=\"T_459370f0_0f60_11ea_a6fb_107b449f15fcrow6_col0\" class=\"data row6 col0\" >0.00695</td>\n",
       "            </tr>\n",
       "            <tr>\n",
       "                        <th id=\"T_459370f0_0f60_11ea_a6fb_107b449f15fclevel0_row7\" class=\"row_heading level0 row7\" >плюрипотентный_клетка</th>\n",
       "                        <td id=\"T_459370f0_0f60_11ea_a6fb_107b449f15fcrow7_col0\" class=\"data row7 col0\" >0.00645</td>\n",
       "            </tr>\n",
       "            <tr>\n",
       "                        <th id=\"T_459370f0_0f60_11ea_a6fb_107b449f15fclevel0_row8\" class=\"row_heading level0 row8\" >государственный_дума</th>\n",
       "                        <td id=\"T_459370f0_0f60_11ea_a6fb_107b449f15fcrow8_col0\" class=\"data row8 col0\" >0.00587</td>\n",
       "            </tr>\n",
       "            <tr>\n",
       "                        <th id=\"T_459370f0_0f60_11ea_a6fb_107b449f15fclevel0_row9\" class=\"row_heading level0 row9\" >национальный_вопрос</th>\n",
       "                        <td id=\"T_459370f0_0f60_11ea_a6fb_107b449f15fcrow9_col0\" class=\"data row9 col0\" >0.00556</td>\n",
       "            </tr>\n",
       "    </tbody></table><style  type=\"text/css\" >\n",
       "</style><table id=\"T_459370f1_0f60_11ea_a6fb_107b449f15fc\" style='display:inline'><thead>    <tr>        <th class=\"blank level0\" ></th>        <th class=\"col_heading level0 col0\" >topic_22 @word</th>    </tr></thead><tbody>\n",
       "                <tr>\n",
       "                        <th id=\"T_459370f1_0f60_11ea_a6fb_107b449f15fclevel0_row0\" class=\"row_heading level0 row0\" >дюркгейм</th>\n",
       "                        <td id=\"T_459370f1_0f60_11ea_a6fb_107b449f15fcrow0_col0\" class=\"data row0 col0\" >0.09965</td>\n",
       "            </tr>\n",
       "            <tr>\n",
       "                        <th id=\"T_459370f1_0f60_11ea_a6fb_107b449f15fclevel0_row1\" class=\"row_heading level0 row1\" >насилие</th>\n",
       "                        <td id=\"T_459370f1_0f60_11ea_a6fb_107b449f15fcrow1_col0\" class=\"data row1 col0\" >0.09661</td>\n",
       "            </tr>\n",
       "            <tr>\n",
       "                        <th id=\"T_459370f1_0f60_11ea_a6fb_107b449f15fclevel0_row2\" class=\"row_heading level0 row2\" >преступление</th>\n",
       "                        <td id=\"T_459370f1_0f60_11ea_a6fb_107b449f15fcrow2_col0\" class=\"data row2 col0\" >0.09213</td>\n",
       "            </tr>\n",
       "            <tr>\n",
       "                        <th id=\"T_459370f1_0f60_11ea_a6fb_107b449f15fclevel0_row3\" class=\"row_heading level0 row3\" >питание</th>\n",
       "                        <td id=\"T_459370f1_0f60_11ea_a6fb_107b449f15fcrow3_col0\" class=\"data row3 col0\" >0.05892</td>\n",
       "            </tr>\n",
       "            <tr>\n",
       "                        <th id=\"T_459370f1_0f60_11ea_a6fb_107b449f15fclevel0_row4\" class=\"row_heading level0 row4\" >поступок</th>\n",
       "                        <td id=\"T_459370f1_0f60_11ea_a6fb_107b449f15fcrow4_col0\" class=\"data row4 col0\" >0.04381</td>\n",
       "            </tr>\n",
       "            <tr>\n",
       "                        <th id=\"T_459370f1_0f60_11ea_a6fb_107b449f15fclevel0_row5\" class=\"row_heading level0 row5\" >предшественник</th>\n",
       "                        <td id=\"T_459370f1_0f60_11ea_a6fb_107b449f15fcrow5_col0\" class=\"data row5 col0\" >0.04168</td>\n",
       "            </tr>\n",
       "            <tr>\n",
       "                        <th id=\"T_459370f1_0f60_11ea_a6fb_107b449f15fclevel0_row6\" class=\"row_heading level0 row6\" >ленинград</th>\n",
       "                        <td id=\"T_459370f1_0f60_11ea_a6fb_107b449f15fcrow6_col0\" class=\"data row6 col0\" >0.03152</td>\n",
       "            </tr>\n",
       "            <tr>\n",
       "                        <th id=\"T_459370f1_0f60_11ea_a6fb_107b449f15fclevel0_row7\" class=\"row_heading level0 row7\" >объективный</th>\n",
       "                        <td id=\"T_459370f1_0f60_11ea_a6fb_107b449f15fcrow7_col0\" class=\"data row7 col0\" >0.02485</td>\n",
       "            </tr>\n",
       "            <tr>\n",
       "                        <th id=\"T_459370f1_0f60_11ea_a6fb_107b449f15fclevel0_row8\" class=\"row_heading level0 row8\" >бромлеть</th>\n",
       "                        <td id=\"T_459370f1_0f60_11ea_a6fb_107b449f15fcrow8_col0\" class=\"data row8 col0\" >0.02135</td>\n",
       "            </tr>\n",
       "            <tr>\n",
       "                        <th id=\"T_459370f1_0f60_11ea_a6fb_107b449f15fclevel0_row9\" class=\"row_heading level0 row9\" >жуков</th>\n",
       "                        <td id=\"T_459370f1_0f60_11ea_a6fb_107b449f15fcrow9_col0\" class=\"data row9 col0\" >0.02135</td>\n",
       "            </tr>\n",
       "    </tbody></table>"
      ]
     },
     "metadata": {},
     "output_type": "display_data"
    },
    {
     "data": {
      "text/html": [
       "<b> индуцированные плюрипотентные стволовые клетки </b><br /> генетик мария шутова об эксперименте синъя яманаки, подтверждении опыта, проблемах получения и эффективности ips-клеток"
      ]
     },
     "metadata": {},
     "output_type": "display_data"
    },
    {
     "data": {
      "text/html": [
       "<b> премии # нобелевская премия мира - 2013 </b><br /> спецпроект постнауки, посвященный нобелевской неделе и её результатам"
      ]
     },
     "metadata": {},
     "output_type": "display_data"
    },
    {
     "data": {
      "text/html": [
       "<b> теория этноса с. м. широкогорова </b><br /> историк дмитрий арзютов о важнейшей фигуре в этнографии ссср, советской антропологической традиции и психологической составляющей в теории этноса"
      ]
     },
     "metadata": {},
     "output_type": "display_data"
    },
    {
     "data": {
      "text/html": [
       "<b> как пациенту пересадили сетчатку глаза из «искусственных» клеток? </b><br /> о получении индуцированных плюрипотентных стволовых клеток и их применении в медицине"
      ]
     },
     "metadata": {},
     "output_type": "display_data"
    },
    {
     "data": {
      "text/html": [
       "<style  type=\"text/css\" >\n",
       "</style><table id=\"T_459370f2_0f60_11ea_a6fb_107b449f15fc\" style='display:inline'><thead>    <tr>        <th class=\"blank level0\" ></th>        <th class=\"col_heading level0 col0\" >topic_23 @2gramm</th>    </tr></thead><tbody>\n",
       "                <tr>\n",
       "                        <th id=\"T_459370f2_0f60_11ea_a6fb_107b449f15fclevel0_row0\" class=\"row_heading level0 row0\" >чёрный_дыра</th>\n",
       "                        <td id=\"T_459370f2_0f60_11ea_a6fb_107b449f15fcrow0_col0\" class=\"data row0 col0\" >0.12606</td>\n",
       "            </tr>\n",
       "            <tr>\n",
       "                        <th id=\"T_459370f2_0f60_11ea_a6fb_107b449f15fclevel0_row1\" class=\"row_heading level0 row1\" >гравитационный_волна</th>\n",
       "                        <td id=\"T_459370f2_0f60_11ea_a6fb_107b449f15fcrow1_col0\" class=\"data row1 col0\" >0.01502</td>\n",
       "            </tr>\n",
       "            <tr>\n",
       "                        <th id=\"T_459370f2_0f60_11ea_a6fb_107b449f15fclevel0_row2\" class=\"row_heading level0 row2\" >спиральный_галактика</th>\n",
       "                        <td id=\"T_459370f2_0f60_11ea_a6fb_107b449f15fcrow2_col0\" class=\"data row2 col0\" >0.0114</td>\n",
       "            </tr>\n",
       "            <tr>\n",
       "                        <th id=\"T_459370f2_0f60_11ea_a6fb_107b449f15fclevel0_row3\" class=\"row_heading level0 row3\" >млечный_путь</th>\n",
       "                        <td id=\"T_459370f2_0f60_11ea_a6fb_107b449f15fcrow3_col0\" class=\"data row3 col0\" >0.01112</td>\n",
       "            </tr>\n",
       "            <tr>\n",
       "                        <th id=\"T_459370f2_0f60_11ea_a6fb_107b449f15fclevel0_row4\" class=\"row_heading level0 row4\" >центр_галактика</th>\n",
       "                        <td id=\"T_459370f2_0f60_11ea_a6fb_107b449f15fcrow4_col0\" class=\"data row4 col0\" >0.00947</td>\n",
       "            </tr>\n",
       "            <tr>\n",
       "                        <th id=\"T_459370f2_0f60_11ea_a6fb_107b449f15fclevel0_row5\" class=\"row_heading level0 row5\" >туманность_андромеда</th>\n",
       "                        <td id=\"T_459370f2_0f60_11ea_a6fb_107b449f15fcrow5_col0\" class=\"data row5 col0\" >0.00876</td>\n",
       "            </tr>\n",
       "            <tr>\n",
       "                        <th id=\"T_459370f2_0f60_11ea_a6fb_107b449f15fclevel0_row6\" class=\"row_heading level0 row6\" >звёздный_система</th>\n",
       "                        <td id=\"T_459370f2_0f60_11ea_a6fb_107b449f15fcrow6_col0\" class=\"data row6 col0\" >0.00802</td>\n",
       "            </tr>\n",
       "            <tr>\n",
       "                        <th id=\"T_459370f2_0f60_11ea_a6fb_107b449f15fclevel0_row7\" class=\"row_heading level0 row7\" >дисковый_галактика</th>\n",
       "                        <td id=\"T_459370f2_0f60_11ea_a6fb_107b449f15fcrow7_col0\" class=\"data row7 col0\" >0.00786</td>\n",
       "            </tr>\n",
       "            <tr>\n",
       "                        <th id=\"T_459370f2_0f60_11ea_a6fb_107b449f15fclevel0_row8\" class=\"row_heading level0 row8\" >эллиптический_галактика</th>\n",
       "                        <td id=\"T_459370f2_0f60_11ea_a6fb_107b449f15fcrow8_col0\" class=\"data row8 col0\" >0.00785</td>\n",
       "            </tr>\n",
       "            <tr>\n",
       "                        <th id=\"T_459370f2_0f60_11ea_a6fb_107b449f15fclevel0_row9\" class=\"row_heading level0 row9\" >длина_волна</th>\n",
       "                        <td id=\"T_459370f2_0f60_11ea_a6fb_107b449f15fcrow9_col0\" class=\"data row9 col0\" >0.00781</td>\n",
       "            </tr>\n",
       "    </tbody></table><style  type=\"text/css\" >\n",
       "</style><table id=\"T_459370f3_0f60_11ea_a6fb_107b449f15fc\" style='display:inline'><thead>    <tr>        <th class=\"blank level0\" ></th>        <th class=\"col_heading level0 col0\" >topic_23 @word</th>    </tr></thead><tbody>\n",
       "                <tr>\n",
       "                        <th id=\"T_459370f3_0f60_11ea_a6fb_107b449f15fclevel0_row0\" class=\"row_heading level0 row0\" >газа</th>\n",
       "                        <td id=\"T_459370f3_0f60_11ea_a6fb_107b449f15fcrow0_col0\" class=\"data row0 col0\" >0.18853</td>\n",
       "            </tr>\n",
       "            <tr>\n",
       "                        <th id=\"T_459370f3_0f60_11ea_a6fb_107b449f15fclevel0_row1\" class=\"row_heading level0 row1\" >антибиотик</th>\n",
       "                        <td id=\"T_459370f3_0f60_11ea_a6fb_107b449f15fcrow1_col0\" class=\"data row1 col0\" >0.14663</td>\n",
       "            </tr>\n",
       "            <tr>\n",
       "                        <th id=\"T_459370f3_0f60_11ea_a6fb_107b449f15fclevel0_row2\" class=\"row_heading level0 row2\" >горизонт</th>\n",
       "                        <td id=\"T_459370f3_0f60_11ea_a6fb_107b449f15fcrow2_col0\" class=\"data row2 col0\" >0.08137</td>\n",
       "            </tr>\n",
       "            <tr>\n",
       "                        <th id=\"T_459370f3_0f60_11ea_a6fb_107b449f15fclevel0_row3\" class=\"row_heading level0 row3\" >мощность</th>\n",
       "                        <td id=\"T_459370f3_0f60_11ea_a6fb_107b449f15fcrow3_col0\" class=\"data row3 col0\" >0.08015</td>\n",
       "            </tr>\n",
       "            <tr>\n",
       "                        <th id=\"T_459370f3_0f60_11ea_a6fb_107b449f15fclevel0_row4\" class=\"row_heading level0 row4\" >массивный</th>\n",
       "                        <td id=\"T_459370f3_0f60_11ea_a6fb_107b449f15fcrow4_col0\" class=\"data row4 col0\" >0.07286</td>\n",
       "            </tr>\n",
       "            <tr>\n",
       "                        <th id=\"T_459370f3_0f60_11ea_a6fb_107b449f15fclevel0_row5\" class=\"row_heading level0 row5\" >регистрация</th>\n",
       "                        <td id=\"T_459370f3_0f60_11ea_a6fb_107b449f15fcrow5_col0\" class=\"data row5 col0\" >0.04645</td>\n",
       "            </tr>\n",
       "            <tr>\n",
       "                        <th id=\"T_459370f3_0f60_11ea_a6fb_107b449f15fclevel0_row6\" class=\"row_heading level0 row6\" >картинка</th>\n",
       "                        <td id=\"T_459370f3_0f60_11ea_a6fb_107b449f15fcrow6_col0\" class=\"data row6 col0\" >0.04214</td>\n",
       "            </tr>\n",
       "            <tr>\n",
       "                        <th id=\"T_459370f3_0f60_11ea_a6fb_107b449f15fclevel0_row7\" class=\"row_heading level0 row7\" >дисплей</th>\n",
       "                        <td id=\"T_459370f3_0f60_11ea_a6fb_107b449f15fcrow7_col0\" class=\"data row7 col0\" >0.02186</td>\n",
       "            </tr>\n",
       "            <tr>\n",
       "                        <th id=\"T_459370f3_0f60_11ea_a6fb_107b449f15fclevel0_row8\" class=\"row_heading level0 row8\" >край</th>\n",
       "                        <td id=\"T_459370f3_0f60_11ea_a6fb_107b449f15fcrow8_col0\" class=\"data row8 col0\" >0.01844</td>\n",
       "            </tr>\n",
       "            <tr>\n",
       "                        <th id=\"T_459370f3_0f60_11ea_a6fb_107b449f15fclevel0_row9\" class=\"row_heading level0 row9\" >недостаточно</th>\n",
       "                        <td id=\"T_459370f3_0f60_11ea_a6fb_107b449f15fcrow9_col0\" class=\"data row9 col0\" >0.01651</td>\n",
       "            </tr>\n",
       "    </tbody></table>"
      ]
     },
     "metadata": {},
     "output_type": "display_data"
    },
    {
     "data": {
      "text/html": [
       "<b> гравитационные волны </b><br /> астрофизик сергей попов о черных дырах в ото, излучении хокинга и происхождении  гравитационных волн"
      ]
     },
     "metadata": {},
     "output_type": "display_data"
    },
    {
     "data": {
      "text/html": [
       "<b> релятивистские двойные звезды </b><br /> астрофизик сергей попов об измерении массы звезды, черных дырах и ультрамощных источниках"
      ]
     },
     "metadata": {},
     "output_type": "display_data"
    },
    {
     "data": {
      "text/html": [
       "<b> faqдисковые галактики </b><br /> 7 фактов о самом распространенном типе звездных систем"
      ]
     },
     "metadata": {},
     "output_type": "display_data"
    },
    {
     "data": {
      "text/html": [
       "<b> измерение расстояний в астрономии </b><br /> астроном алексей расторгуев о расстояниях в пределах солнечной системы, околоземных спутниках и изучении сверхновых звезд"
      ]
     },
     "metadata": {},
     "output_type": "display_data"
    },
    {
     "data": {
      "text/html": [
       "<b> диалогипроблема изучения черных дыр </b><br /> беседа астрофизика сергея попова и физика эмиля ахмедова об исследованиях компактных объектов, рождении черных дыр и излучении хокинга"
      ]
     },
     "metadata": {},
     "output_type": "display_data"
    },
    {
     "data": {
      "text/html": [
       "<b> моделирование излучения хокинга </b><br /> об аналоговых черных дырах, звуковом барьере и охлажденных атомах"
      ]
     },
     "metadata": {},
     "output_type": "display_data"
    },
    {
     "data": {
      "text/html": [
       "<b> черные дыры в центрах галактик </b><br /> астрофизик ольга сильченко об открытии сверхмассивной черной дыры в туманности андромеды, исследованиях джона корменди и темных гравитирующих телах"
      ]
     },
     "metadata": {},
     "output_type": "display_data"
    },
    {
     "data": {
      "text/html": [
       "<b> внегалактическая астрономия </b><br /> 7 лекций об изучении далеких объектов, находящихся за пределами нашей звездной системы, отобранных анатолием засовым"
      ]
     },
     "metadata": {},
     "output_type": "display_data"
    },
    {
     "data": {
      "text/html": [
       "<b> движение звезд в галактике </b><br /> астроном алексей расторгуев о скорости движения, орбитах и химическом составе звезд"
      ]
     },
     "metadata": {},
     "output_type": "display_data"
    },
    {
     "data": {
      "text/html": [
       "<b> faqгравитационные волны и черные дыры </b><br /> 7 фактов об исследованиях, необходимых для доказательства существования черных дыр"
      ]
     },
     "metadata": {},
     "output_type": "display_data"
    },
    {
     "data": {
      "text/html": [
       "<style  type=\"text/css\" >\n",
       "</style><table id=\"T_459370f4_0f60_11ea_a6fb_107b449f15fc\" style='display:inline'><thead>    <tr>        <th class=\"blank level0\" ></th>        <th class=\"col_heading level0 col0\" >topic_24 @2gramm</th>    </tr></thead><tbody>\n",
       "                <tr>\n",
       "                        <th id=\"T_459370f4_0f60_11ea_a6fb_107b449f15fclevel0_row0\" class=\"row_heading level0 row0\" >тёмный_материя</th>\n",
       "                        <td id=\"T_459370f4_0f60_11ea_a6fb_107b449f15fcrow0_col0\" class=\"data row0 col0\" >0.04252</td>\n",
       "            </tr>\n",
       "            <tr>\n",
       "                        <th id=\"T_459370f4_0f60_11ea_a6fb_107b449f15fclevel0_row1\" class=\"row_heading level0 row1\" >реликтовый_излучение</th>\n",
       "                        <td id=\"T_459370f4_0f60_11ea_a6fb_107b449f15fcrow1_col0\" class=\"data row1 col0\" >0.02577</td>\n",
       "            </tr>\n",
       "            <tr>\n",
       "                        <th id=\"T_459370f4_0f60_11ea_a6fb_107b449f15fclevel0_row2\" class=\"row_heading level0 row2\" >тёмный_энергия</th>\n",
       "                        <td id=\"T_459370f4_0f60_11ea_a6fb_107b449f15fcrow2_col0\" class=\"data row2 col0\" >0.02131</td>\n",
       "            </tr>\n",
       "            <tr>\n",
       "                        <th id=\"T_459370f4_0f60_11ea_a6fb_107b449f15fclevel0_row3\" class=\"row_heading level0 row3\" >ранний_вселенная</th>\n",
       "                        <td id=\"T_459370f4_0f60_11ea_a6fb_107b449f15fcrow3_col0\" class=\"data row3 col0\" >0.0186</td>\n",
       "            </tr>\n",
       "            <tr>\n",
       "                        <th id=\"T_459370f4_0f60_11ea_a6fb_107b449f15fclevel0_row4\" class=\"row_heading level0 row4\" >критический_теория</th>\n",
       "                        <td id=\"T_459370f4_0f60_11ea_a6fb_107b449f15fcrow4_col0\" class=\"data row4 col0\" >0.01584</td>\n",
       "            </tr>\n",
       "            <tr>\n",
       "                        <th id=\"T_459370f4_0f60_11ea_a6fb_107b449f15fclevel0_row5\" class=\"row_heading level0 row5\" >расширение_вселенная</th>\n",
       "                        <td id=\"T_459370f4_0f60_11ea_a6fb_107b449f15fcrow5_col0\" class=\"data row5 col0\" >0.0155</td>\n",
       "            </tr>\n",
       "            <tr>\n",
       "                        <th id=\"T_459370f4_0f60_11ea_a6fb_107b449f15fclevel0_row6\" class=\"row_heading level0 row6\" >скопление_галактика</th>\n",
       "                        <td id=\"T_459370f4_0f60_11ea_a6fb_107b449f15fcrow6_col0\" class=\"data row6 col0\" >0.01516</td>\n",
       "            </tr>\n",
       "            <tr>\n",
       "                        <th id=\"T_459370f4_0f60_11ea_a6fb_107b449f15fclevel0_row7\" class=\"row_heading level0 row7\" >гравитационный_волна</th>\n",
       "                        <td id=\"T_459370f4_0f60_11ea_a6fb_107b449f15fcrow7_col0\" class=\"data row7 col0\" >0.01098</td>\n",
       "            </tr>\n",
       "            <tr>\n",
       "                        <th id=\"T_459370f4_0f60_11ea_a6fb_107b449f15fclevel0_row8\" class=\"row_heading level0 row8\" >скрытый_масса</th>\n",
       "                        <td id=\"T_459370f4_0f60_11ea_a6fb_107b449f15fcrow8_col0\" class=\"data row8 col0\" >0.01006</td>\n",
       "            </tr>\n",
       "            <tr>\n",
       "                        <th id=\"T_459370f4_0f60_11ea_a6fb_107b449f15fclevel0_row9\" class=\"row_heading level0 row9\" >большой_взрыв</th>\n",
       "                        <td id=\"T_459370f4_0f60_11ea_a6fb_107b449f15fcrow9_col0\" class=\"data row9 col0\" >0.00937</td>\n",
       "            </tr>\n",
       "    </tbody></table><style  type=\"text/css\" >\n",
       "</style><table id=\"T_459370f5_0f60_11ea_a6fb_107b449f15fc\" style='display:inline'><thead>    <tr>        <th class=\"blank level0\" ></th>        <th class=\"col_heading level0 col0\" >topic_24 @word</th>    </tr></thead><tbody>\n",
       "                <tr>\n",
       "                        <th id=\"T_459370f5_0f60_11ea_a6fb_107b449f15fclevel0_row0\" class=\"row_heading level0 row0\" >поэзия</th>\n",
       "                        <td id=\"T_459370f5_0f60_11ea_a6fb_107b449f15fcrow0_col0\" class=\"data row0 col0\" >0.17746</td>\n",
       "            </tr>\n",
       "            <tr>\n",
       "                        <th id=\"T_459370f5_0f60_11ea_a6fb_107b449f15fclevel0_row1\" class=\"row_heading level0 row1\" >сказка</th>\n",
       "                        <td id=\"T_459370f5_0f60_11ea_a6fb_107b449f15fcrow1_col0\" class=\"data row1 col0\" >0.16018</td>\n",
       "            </tr>\n",
       "            <tr>\n",
       "                        <th id=\"T_459370f5_0f60_11ea_a6fb_107b449f15fclevel0_row2\" class=\"row_heading level0 row2\" >филолог</th>\n",
       "                        <td id=\"T_459370f5_0f60_11ea_a6fb_107b449f15fcrow2_col0\" class=\"data row2 col0\" >0.14448</td>\n",
       "            </tr>\n",
       "            <tr>\n",
       "                        <th id=\"T_459370f5_0f60_11ea_a6fb_107b449f15fclevel0_row3\" class=\"row_heading level0 row3\" >расширение</th>\n",
       "                        <td id=\"T_459370f5_0f60_11ea_a6fb_107b449f15fcrow3_col0\" class=\"data row3 col0\" >0.08063</td>\n",
       "            </tr>\n",
       "            <tr>\n",
       "                        <th id=\"T_459370f5_0f60_11ea_a6fb_107b449f15fclevel0_row4\" class=\"row_heading level0 row4\" >дойти</th>\n",
       "                        <td id=\"T_459370f5_0f60_11ea_a6fb_107b449f15fcrow4_col0\" class=\"data row4 col0\" >0.05059</td>\n",
       "            </tr>\n",
       "            <tr>\n",
       "                        <th id=\"T_459370f5_0f60_11ea_a6fb_107b449f15fclevel0_row5\" class=\"row_heading level0 row5\" >эпический</th>\n",
       "                        <td id=\"T_459370f5_0f60_11ea_a6fb_107b449f15fcrow5_col0\" class=\"data row5 col0\" >0.04711</td>\n",
       "            </tr>\n",
       "            <tr>\n",
       "                        <th id=\"T_459370f5_0f60_11ea_a6fb_107b449f15fclevel0_row6\" class=\"row_heading level0 row6\" >мелодический</th>\n",
       "                        <td id=\"T_459370f5_0f60_11ea_a6fb_107b449f15fcrow6_col0\" class=\"data row6 col0\" >0.03455</td>\n",
       "            </tr>\n",
       "            <tr>\n",
       "                        <th id=\"T_459370f5_0f60_11ea_a6fb_107b449f15fclevel0_row7\" class=\"row_heading level0 row7\" >жуковский</th>\n",
       "                        <td id=\"T_459370f5_0f60_11ea_a6fb_107b449f15fcrow7_col0\" class=\"data row7 col0\" >0.03298</td>\n",
       "            </tr>\n",
       "            <tr>\n",
       "                        <th id=\"T_459370f5_0f60_11ea_a6fb_107b449f15fclevel0_row8\" class=\"row_heading level0 row8\" >монгольский</th>\n",
       "                        <td id=\"T_459370f5_0f60_11ea_a6fb_107b449f15fcrow8_col0\" class=\"data row8 col0\" >0.02827</td>\n",
       "            </tr>\n",
       "            <tr>\n",
       "                        <th id=\"T_459370f5_0f60_11ea_a6fb_107b449f15fclevel0_row9\" class=\"row_heading level0 row9\" >остывать</th>\n",
       "                        <td id=\"T_459370f5_0f60_11ea_a6fb_107b449f15fcrow9_col0\" class=\"data row9 col0\" >0.0267</td>\n",
       "            </tr>\n",
       "    </tbody></table>"
      ]
     },
     "metadata": {},
     "output_type": "display_data"
    },
    {
     "data": {
      "text/html": [
       "<b> ранняя вселенная </b><br /> физик валерий рубаков о расширении вселенной, большом взрыве и инфляционной модели"
      ]
     },
     "metadata": {},
     "output_type": "display_data"
    },
    {
     "data": {
      "text/html": [
       "<b> темная материя </b><br /> физик дмитрий казаков об общем энергетическом балансе вселенной,  теории скрытой массы и частицах темной материи"
      ]
     },
     "metadata": {},
     "output_type": "display_data"
    },
    {
     "data": {
      "text/html": [
       "<b> вселенная до горячей стадии </b><br /> физик валерий рубаков о реликтовом излучении, зарождении неоднородностей и гравитационных волнах"
      ]
     },
     "metadata": {},
     "output_type": "display_data"
    },
    {
     "data": {
      "text/html": [
       "<b> что такое закон хаббла? </b><br /> астрофизик анатолий засов о далеких галактиках, расширении вселенной и постоянной хаббла"
      ]
     },
     "metadata": {},
     "output_type": "display_data"
    },
    {
     "data": {
      "text/html": [
       "<b> материя и антиматерия во вселенной </b><br /> физик валерий рубаков о ранней вселенной, стабильности вещества и барионном заряде"
      ]
     },
     "metadata": {},
     "output_type": "display_data"
    },
    {
     "data": {
      "text/html": [
       "<b> faqтемная материя </b><br /> 7 фактов о невидимой материи и темной энергии"
      ]
     },
     "metadata": {},
     "output_type": "display_data"
    },
    {
     "data": {
      "text/html": [
       "<b> реликтовое излучение </b><br /> астроном лайман пейдж о развитии теории горячего большого взрыва, дипольной компоненте и зондировании вселенной до самых ранних эпох"
      ]
     },
     "metadata": {},
     "output_type": "display_data"
    },
    {
     "data": {
      "text/html": [
       "<b> почему вселенную называют плоской? </b><br /> астрофизик олег верходанов об искривлении пространства, сценариях расширения вселенной и данных космической миссии planck"
      ]
     },
     "metadata": {},
     "output_type": "display_data"
    },
    {
     "data": {
      "text/html": [
       "<b> виды материи в современной вселенной </b><br /> физик алексей старобинский о теориях, различающих темную материю и темную энергию, и современных исследованиях вселенной"
      ]
     },
     "metadata": {},
     "output_type": "display_data"
    },
    {
     "data": {
      "text/html": [
       "<b> faqвселенная до горячей стадии </b><br /> 5 фактов о теориях развития вселенной, инфляционной модели и гравитационных волнах"
      ]
     },
     "metadata": {},
     "output_type": "display_data"
    },
    {
     "data": {
      "text/html": [
       "<style  type=\"text/css\" >\n",
       "</style><table id=\"T_459370f6_0f60_11ea_a6fb_107b449f15fc\" style='display:inline'><thead>    <tr>        <th class=\"blank level0\" ></th>        <th class=\"col_heading level0 col0\" >topic_25 @2gramm</th>    </tr></thead><tbody>\n",
       "                <tr>\n",
       "                        <th id=\"T_459370f6_0f60_11ea_a6fb_107b449f15fclevel0_row0\" class=\"row_heading level0 row0\" >малое_город</th>\n",
       "                        <td id=\"T_459370f6_0f60_11ea_a6fb_107b449f15fcrow0_col0\" class=\"data row0 col0\" >0.01638</td>\n",
       "            </tr>\n",
       "            <tr>\n",
       "                        <th id=\"T_459370f6_0f60_11ea_a6fb_107b449f15fclevel0_row1\" class=\"row_heading level0 row1\" >языковой_семья</th>\n",
       "                        <td id=\"T_459370f6_0f60_11ea_a6fb_107b449f15fcrow1_col0\" class=\"data row1 col0\" >0.01619</td>\n",
       "            </tr>\n",
       "            <tr>\n",
       "                        <th id=\"T_459370f6_0f60_11ea_a6fb_107b449f15fclevel0_row2\" class=\"row_heading level0 row2\" >индоевропейский_язык</th>\n",
       "                        <td id=\"T_459370f6_0f60_11ea_a6fb_107b449f15fcrow2_col0\" class=\"data row2 col0\" >0.01606</td>\n",
       "            </tr>\n",
       "            <tr>\n",
       "                        <th id=\"T_459370f6_0f60_11ea_a6fb_107b449f15fclevel0_row3\" class=\"row_heading level0 row3\" >простой_число</th>\n",
       "                        <td id=\"T_459370f6_0f60_11ea_a6fb_107b449f15fcrow3_col0\" class=\"data row3 col0\" >0.01463</td>\n",
       "            </tr>\n",
       "            <tr>\n",
       "                        <th id=\"T_459370f6_0f60_11ea_a6fb_107b449f15fclevel0_row4\" class=\"row_heading level0 row4\" >научный_революция</th>\n",
       "                        <td id=\"T_459370f6_0f60_11ea_a6fb_107b449f15fcrow4_col0\" class=\"data row4 col0\" >0.0136</td>\n",
       "            </tr>\n",
       "            <tr>\n",
       "                        <th id=\"T_459370f6_0f60_11ea_a6fb_107b449f15fclevel0_row5\" class=\"row_heading level0 row5\" >коммуникативный_система</th>\n",
       "                        <td id=\"T_459370f6_0f60_11ea_a6fb_107b449f15fcrow5_col0\" class=\"data row5 col0\" >0.01233</td>\n",
       "            </tr>\n",
       "            <tr>\n",
       "                        <th id=\"T_459370f6_0f60_11ea_a6fb_107b449f15fclevel0_row6\" class=\"row_heading level0 row6\" >система_отсчёт</th>\n",
       "                        <td id=\"T_459370f6_0f60_11ea_a6fb_107b449f15fcrow6_col0\" class=\"data row6 col0\" >0.01219</td>\n",
       "            </tr>\n",
       "            <tr>\n",
       "                        <th id=\"T_459370f6_0f60_11ea_a6fb_107b449f15fclevel0_row7\" class=\"row_heading level0 row7\" >сахарный_диабет</th>\n",
       "                        <td id=\"T_459370f6_0f60_11ea_a6fb_107b449f15fcrow7_col0\" class=\"data row7 col0\" >0.01145</td>\n",
       "            </tr>\n",
       "            <tr>\n",
       "                        <th id=\"T_459370f6_0f60_11ea_a6fb_107b449f15fclevel0_row8\" class=\"row_heading level0 row8\" >происхождение_язык</th>\n",
       "                        <td id=\"T_459370f6_0f60_11ea_a6fb_107b449f15fcrow8_col0\" class=\"data row8 col0\" >0.01044</td>\n",
       "            </tr>\n",
       "            <tr>\n",
       "                        <th id=\"T_459370f6_0f60_11ea_a6fb_107b449f15fclevel0_row9\" class=\"row_heading level0 row9\" >исторический_языкознание</th>\n",
       "                        <td id=\"T_459370f6_0f60_11ea_a6fb_107b449f15fcrow9_col0\" class=\"data row9 col0\" >0.01008</td>\n",
       "            </tr>\n",
       "    </tbody></table><style  type=\"text/css\" >\n",
       "</style><table id=\"T_459370f7_0f60_11ea_a6fb_107b449f15fc\" style='display:inline'><thead>    <tr>        <th class=\"blank level0\" ></th>        <th class=\"col_heading level0 col0\" >topic_25 @word</th>    </tr></thead><tbody>\n",
       "                <tr>\n",
       "                        <th id=\"T_459370f7_0f60_11ea_a6fb_107b449f15fclevel0_row0\" class=\"row_heading level0 row0\" >сага</th>\n",
       "                        <td id=\"T_459370f7_0f60_11ea_a6fb_107b449f15fcrow0_col0\" class=\"data row0 col0\" >0.34668</td>\n",
       "            </tr>\n",
       "            <tr>\n",
       "                        <th id=\"T_459370f7_0f60_11ea_a6fb_107b449f15fclevel0_row1\" class=\"row_heading level0 row1\" >исландец</th>\n",
       "                        <td id=\"T_459370f7_0f60_11ea_a6fb_107b449f15fcrow1_col0\" class=\"data row1 col0\" >0.0948</td>\n",
       "            </tr>\n",
       "            <tr>\n",
       "                        <th id=\"T_459370f7_0f60_11ea_a6fb_107b449f15fclevel0_row2\" class=\"row_heading level0 row2\" >исландский</th>\n",
       "                        <td id=\"T_459370f7_0f60_11ea_a6fb_107b449f15fcrow2_col0\" class=\"data row2 col0\" >0.07042</td>\n",
       "            </tr>\n",
       "            <tr>\n",
       "                        <th id=\"T_459370f7_0f60_11ea_a6fb_107b449f15fclevel0_row3\" class=\"row_heading level0 row3\" >хомский</th>\n",
       "                        <td id=\"T_459370f7_0f60_11ea_a6fb_107b449f15fcrow3_col0\" class=\"data row3 col0\" >0.05146</td>\n",
       "            </tr>\n",
       "            <tr>\n",
       "                        <th id=\"T_459370f7_0f60_11ea_a6fb_107b449f15fclevel0_row4\" class=\"row_heading level0 row4\" >земледелец</th>\n",
       "                        <td id=\"T_459370f7_0f60_11ea_a6fb_107b449f15fcrow4_col0\" class=\"data row4 col0\" >0.04875</td>\n",
       "            </tr>\n",
       "            <tr>\n",
       "                        <th id=\"T_459370f7_0f60_11ea_a6fb_107b449f15fclevel0_row5\" class=\"row_heading level0 row5\" >руно</th>\n",
       "                        <td id=\"T_459370f7_0f60_11ea_a6fb_107b449f15fcrow5_col0\" class=\"data row5 col0\" >0.04875</td>\n",
       "            </tr>\n",
       "            <tr>\n",
       "                        <th id=\"T_459370f7_0f60_11ea_a6fb_107b449f15fclevel0_row6\" class=\"row_heading level0 row6\" >набег</th>\n",
       "                        <td id=\"T_459370f7_0f60_11ea_a6fb_107b449f15fcrow6_col0\" class=\"data row6 col0\" >0.04604</td>\n",
       "            </tr>\n",
       "            <tr>\n",
       "                        <th id=\"T_459370f7_0f60_11ea_a6fb_107b449f15fclevel0_row7\" class=\"row_heading level0 row7\" >затмение</th>\n",
       "                        <td id=\"T_459370f7_0f60_11ea_a6fb_107b449f15fcrow7_col0\" class=\"data row7 col0\" >0.04334</td>\n",
       "            </tr>\n",
       "            <tr>\n",
       "                        <th id=\"T_459370f7_0f60_11ea_a6fb_107b449f15fclevel0_row8\" class=\"row_heading level0 row8\" >суметь</th>\n",
       "                        <td id=\"T_459370f7_0f60_11ea_a6fb_107b449f15fcrow8_col0\" class=\"data row8 col0\" >0.04103</td>\n",
       "            </tr>\n",
       "            <tr>\n",
       "                        <th id=\"T_459370f7_0f60_11ea_a6fb_107b449f15fclevel0_row9\" class=\"row_heading level0 row9\" >риманов</th>\n",
       "                        <td id=\"T_459370f7_0f60_11ea_a6fb_107b449f15fcrow9_col0\" class=\"data row9 col0\" >0.0325</td>\n",
       "            </tr>\n",
       "    </tbody></table>"
      ]
     },
     "metadata": {},
     "output_type": "display_data"
    },
    {
     "data": {
      "text/html": [
       "<b> коммуникативные системы </b><br /> лингвист светлана бурлак о формировании человеческого языка, делении реальности и невербальной коммуникации"
      ]
     },
     "metadata": {},
     "output_type": "display_data"
    },
    {
     "data": {
      "text/html": [
       "<b> языковые макросемьи </b><br /> лингвист георгий старостин о языковых семьях, термине \"ностратика\" и гипотезах объединения языков"
      ]
     },
     "metadata": {},
     "output_type": "display_data"
    },
    {
     "data": {
      "text/html": [
       "<b> лексикостатистика </b><br /> лингвист георгий старостин о трудах морриса сводеша, списках базовой лексики и глоттохронологии"
      ]
     },
     "metadata": {},
     "output_type": "display_data"
    },
    {
     "data": {
      "text/html": [
       "<b> экологические проблемы малых городов </b><br /> географ виктория битюкова о градообразующих предприятиях, транспортном загрязнении и проблеме утилизации отходов"
      ]
     },
     "metadata": {},
     "output_type": "display_data"
    },
    {
     "data": {
      "text/html": [
       "<b> метаматериалы </b><br /> физик владимир шалаев об отрицательном показателе преломления, оптической черной дыре и плаще гарри поттера"
      ]
     },
     "metadata": {},
     "output_type": "display_data"
    },
    {
     "data": {
      "text/html": [
       "<b> экологические проблемы малых городов </b><br /> 7 фактов о видах и причинах загрязнений городов с численностью менее 50 тысяч человек"
      ]
     },
     "metadata": {},
     "output_type": "display_data"
    },
    {
     "data": {
      "text/html": [
       "<b> общая теория относительности </b><br /> физик эмиль ахмедов о неинерциальных системах отсчета, ковариантности и физическом смысле искривления пространства"
      ]
     },
     "metadata": {},
     "output_type": "display_data"
    },
    {
     "data": {
      "text/html": [
       "<b> кавказские языки </b><br /> лингвист нина сумбатова об автохтонных семьях, ларингальных согласных и эргативных языках"
      ]
     },
     "metadata": {},
     "output_type": "display_data"
    },
    {
     "data": {
      "text/html": [
       "<b> языковое разнообразие </b><br /> 10 лекций о структуре языков, сходстве и различии между ними, отобранных лингвистом владимиром плунгяном"
      ]
     },
     "metadata": {},
     "output_type": "display_data"
    },
    {
     "data": {
      "text/html": [
       "<b> культурные коды экономики </b><br /> экономист александр аузан о модернизационной гипотезе, факторе культуры и двух траекториях развития"
      ]
     },
     "metadata": {},
     "output_type": "display_data"
    },
    {
     "data": {
      "text/html": [
       "<style  type=\"text/css\" >\n",
       "</style><table id=\"T_459370f8_0f60_11ea_a6fb_107b449f15fc\" style='display:inline'><thead>    <tr>        <th class=\"blank level0\" ></th>        <th class=\"col_heading level0 col0\" >topic_26 @2gramm</th>    </tr></thead><tbody>\n",
       "                <tr>\n",
       "                        <th id=\"T_459370f8_0f60_11ea_a6fb_107b449f15fclevel0_row0\" class=\"row_heading level0 row0\" >христианский_восток</th>\n",
       "                        <td id=\"T_459370f8_0f60_11ea_a6fb_107b449f15fcrow0_col0\" class=\"data row0 col0\" >0.01993</td>\n",
       "            </tr>\n",
       "            <tr>\n",
       "                        <th id=\"T_459370f8_0f60_11ea_a6fb_107b449f15fclevel0_row1\" class=\"row_heading level0 row1\" >кома_смотреть</th>\n",
       "                        <td id=\"T_459370f8_0f60_11ea_a6fb_107b449f15fcrow1_col0\" class=\"data row1 col0\" >0.01251</td>\n",
       "            </tr>\n",
       "            <tr>\n",
       "                        <th id=\"T_459370f8_0f60_11ea_a6fb_107b449f15fclevel0_row2\" class=\"row_heading level0 row2\" >христианский_культура</th>\n",
       "                        <td id=\"T_459370f8_0f60_11ea_a6fb_107b449f15fcrow2_col0\" class=\"data row2 col0\" >0.01169</td>\n",
       "            </tr>\n",
       "            <tr>\n",
       "                        <th id=\"T_459370f8_0f60_11ea_a6fb_107b449f15fclevel0_row3\" class=\"row_heading level0 row3\" >ближний_восток</th>\n",
       "                        <td id=\"T_459370f8_0f60_11ea_a6fb_107b449f15fcrow3_col0\" class=\"data row3 col0\" >0.01063</td>\n",
       "            </tr>\n",
       "            <tr>\n",
       "                        <th id=\"T_459370f8_0f60_11ea_a6fb_107b449f15fclevel0_row4\" class=\"row_heading level0 row4\" >языковой_картина</th>\n",
       "                        <td id=\"T_459370f8_0f60_11ea_a6fb_107b449f15fcrow4_col0\" class=\"data row4 col0\" >0.0088</td>\n",
       "            </tr>\n",
       "            <tr>\n",
       "                        <th id=\"T_459370f8_0f60_11ea_a6fb_107b449f15fclevel0_row5\" class=\"row_heading level0 row5\" >арамейский_язык</th>\n",
       "                        <td id=\"T_459370f8_0f60_11ea_a6fb_107b449f15fcrow5_col0\" class=\"data row5 col0\" >0.00876</td>\n",
       "            </tr>\n",
       "            <tr>\n",
       "                        <th id=\"T_459370f8_0f60_11ea_a6fb_107b449f15fclevel0_row6\" class=\"row_heading level0 row6\" >vii_век</th>\n",
       "                        <td id=\"T_459370f8_0f60_11ea_a6fb_107b449f15fcrow6_col0\" class=\"data row6 col0\" >0.00824</td>\n",
       "            </tr>\n",
       "            <tr>\n",
       "                        <th id=\"T_459370f8_0f60_11ea_a6fb_107b449f15fclevel0_row7\" class=\"row_heading level0 row7\" >iv_век</th>\n",
       "                        <td id=\"T_459370f8_0f60_11ea_a6fb_107b449f15fcrow7_col0\" class=\"data row7 col0\" >0.00817</td>\n",
       "            </tr>\n",
       "            <tr>\n",
       "                        <th id=\"T_459370f8_0f60_11ea_a6fb_107b449f15fclevel0_row8\" class=\"row_heading level0 row8\" >социальный_психология</th>\n",
       "                        <td id=\"T_459370f8_0f60_11ea_a6fb_107b449f15fcrow8_col0\" class=\"data row8 col0\" >0.008</td>\n",
       "            </tr>\n",
       "            <tr>\n",
       "                        <th id=\"T_459370f8_0f60_11ea_a6fb_107b449f15fclevel0_row9\" class=\"row_heading level0 row9\" >естественный_отбор</th>\n",
       "                        <td id=\"T_459370f8_0f60_11ea_a6fb_107b449f15fcrow9_col0\" class=\"data row9 col0\" >0.00708</td>\n",
       "            </tr>\n",
       "    </tbody></table><style  type=\"text/css\" >\n",
       "</style><table id=\"T_459370f9_0f60_11ea_a6fb_107b449f15fc\" style='display:inline'><thead>    <tr>        <th class=\"blank level0\" ></th>        <th class=\"col_heading level0 col0\" >topic_26 @word</th>    </tr></thead><tbody>\n",
       "                <tr>\n",
       "                        <th id=\"T_459370f9_0f60_11ea_a6fb_107b449f15fclevel0_row0\" class=\"row_heading level0 row0\" >орех</th>\n",
       "                        <td id=\"T_459370f9_0f60_11ea_a6fb_107b449f15fcrow0_col0\" class=\"data row0 col0\" >0.21502</td>\n",
       "            </tr>\n",
       "            <tr>\n",
       "                        <th id=\"T_459370f9_0f60_11ea_a6fb_107b449f15fclevel0_row1\" class=\"row_heading level0 row1\" >плод</th>\n",
       "                        <td id=\"T_459370f9_0f60_11ea_a6fb_107b449f15fcrow1_col0\" class=\"data row1 col0\" >0.18949</td>\n",
       "            </tr>\n",
       "            <tr>\n",
       "                        <th id=\"T_459370f9_0f60_11ea_a6fb_107b449f15fclevel0_row2\" class=\"row_heading level0 row2\" >примат</th>\n",
       "                        <td id=\"T_459370f9_0f60_11ea_a6fb_107b449f15fcrow2_col0\" class=\"data row2 col0\" >0.17202</td>\n",
       "            </tr>\n",
       "            <tr>\n",
       "                        <th id=\"T_459370f9_0f60_11ea_a6fb_107b449f15fclevel0_row3\" class=\"row_heading level0 row3\" >ирландия</th>\n",
       "                        <td id=\"T_459370f9_0f60_11ea_a6fb_107b449f15fcrow3_col0\" class=\"data row3 col0\" >0.15186</td>\n",
       "            </tr>\n",
       "            <tr>\n",
       "                        <th id=\"T_459370f9_0f60_11ea_a6fb_107b449f15fclevel0_row4\" class=\"row_heading level0 row4\" >ирландец</th>\n",
       "                        <td id=\"T_459370f9_0f60_11ea_a6fb_107b449f15fcrow4_col0\" class=\"data row4 col0\" >0.03897</td>\n",
       "            </tr>\n",
       "            <tr>\n",
       "                        <th id=\"T_459370f9_0f60_11ea_a6fb_107b449f15fclevel0_row5\" class=\"row_heading level0 row5\" >христианизация</th>\n",
       "                        <td id=\"T_459370f9_0f60_11ea_a6fb_107b449f15fcrow5_col0\" class=\"data row5 col0\" >0.03763</td>\n",
       "            </tr>\n",
       "            <tr>\n",
       "                        <th id=\"T_459370f9_0f60_11ea_a6fb_107b449f15fclevel0_row6\" class=\"row_heading level0 row6\" >бакунин</th>\n",
       "                        <td id=\"T_459370f9_0f60_11ea_a6fb_107b449f15fcrow6_col0\" class=\"data row6 col0\" >0.02957</td>\n",
       "            </tr>\n",
       "            <tr>\n",
       "                        <th id=\"T_459370f9_0f60_11ea_a6fb_107b449f15fclevel0_row7\" class=\"row_heading level0 row7\" >айсберг</th>\n",
       "                        <td id=\"T_459370f9_0f60_11ea_a6fb_107b449f15fcrow7_col0\" class=\"data row7 col0\" >0.02016</td>\n",
       "            </tr>\n",
       "            <tr>\n",
       "                        <th id=\"T_459370f9_0f60_11ea_a6fb_107b449f15fclevel0_row8\" class=\"row_heading level0 row8\" >ненаука</th>\n",
       "                        <td id=\"T_459370f9_0f60_11ea_a6fb_107b449f15fcrow8_col0\" class=\"data row8 col0\" >0.02016</td>\n",
       "            </tr>\n",
       "            <tr>\n",
       "                        <th id=\"T_459370f9_0f60_11ea_a6fb_107b449f15fclevel0_row9\" class=\"row_heading level0 row9\" >верифицировать</th>\n",
       "                        <td id=\"T_459370f9_0f60_11ea_a6fb_107b449f15fcrow9_col0\" class=\"data row9 col0\" >0.02016</td>\n",
       "            </tr>\n",
       "    </tbody></table>"
      ]
     },
     "metadata": {},
     "output_type": "display_data"
    },
    {
     "data": {
      "text/html": [
       "<b> сирийская литература </b><br /> историк алексей муравьёв о возникновении сирийского языка, переводах аристотеля и арабизации ближнего востока"
      ]
     },
     "metadata": {},
     "output_type": "display_data"
    },
    {
     "data": {
      "text/html": [
       "<b> языковая картина мира </b><br /> лингвист ирина левонтина о картине причинности, принципе системности и внимании к мотивам"
      ]
     },
     "metadata": {},
     "output_type": "display_data"
    },
    {
     "data": {
      "text/html": [
       "<b> лингвистическая компаративистика </b><br /> лингвист светлана бурлак о системности изменений в языках, языковом древе и реконструкции праязыка"
      ]
     },
     "metadata": {},
     "output_type": "display_data"
    },
    {
     "data": {
      "text/html": [
       "<b> политическая история христианского востока </b><br /> историк алексей муравьёв о локальных цивилизациях древнего востока, миссионерских проектах и христианстве в эпоху арабских завоеваний"
      ]
     },
     "metadata": {},
     "output_type": "display_data"
    },
    {
     "data": {
      "text/html": [
       "<b> речевой этикет </b><br /> лингвист максим кронгауз о снятии агрессии, речевых стратегиях поведения и сравнении культур"
      ]
     },
     "metadata": {},
     "output_type": "display_data"
    },
    {
     "data": {
      "text/html": [
       "<b> faqдревние языки африки </b><br /> 5 фактов об изучении возникновения древнейшего человеческого языка и использовании внелингвистических данных в современном языкознании"
      ]
     },
     "metadata": {},
     "output_type": "display_data"
    },
    {
     "data": {
      "text/html": [
       "<b> проблема начала жизни в биоэтике </b><br /> философ елена брызгалина о вопросах этики в новых репродуктивных технологиях, коммерциализации деторождения и десакрализации семейных отношений"
      ]
     },
     "metadata": {},
     "output_type": "display_data"
    },
    {
     "data": {
      "text/html": [
       "<b> коптский язык </b><br /> откуда пошло монашеское имя пафнутий, сколько диалектов существует в коптском языке и как звучит текст евангелия от иоанна на коптском"
      ]
     },
     "metadata": {},
     "output_type": "display_data"
    },
    {
     "data": {
      "text/html": [
       "<b> книдария как объект изучения evodevo </b><br /> эмбриолог юлия краус о пользе изучения книдарий, их эмбриональном развитии и морфогенезах"
      ]
     },
     "metadata": {},
     "output_type": "display_data"
    },
    {
     "data": {
      "text/html": [
       "<style  type=\"text/css\" >\n",
       "</style><table id=\"T_459370fa_0f60_11ea_a6fb_107b449f15fc\" style='display:inline'><thead>    <tr>        <th class=\"blank level0\" ></th>        <th class=\"col_heading level0 col0\" >topic_27 @2gramm</th>    </tr></thead><tbody>\n",
       "                <tr>\n",
       "                        <th id=\"T_459370fa_0f60_11ea_a6fb_107b449f15fclevel0_row0\" class=\"row_heading level0 row0\" >центральный_банк</th>\n",
       "                        <td id=\"T_459370fa_0f60_11ea_a6fb_107b449f15fcrow0_col0\" class=\"data row0 col0\" >0.02286</td>\n",
       "            </tr>\n",
       "            <tr>\n",
       "                        <th id=\"T_459370fa_0f60_11ea_a6fb_107b449f15fclevel0_row1\" class=\"row_heading level0 row1\" >экономический_рост</th>\n",
       "                        <td id=\"T_459370fa_0f60_11ea_a6fb_107b449f15fcrow1_col0\" class=\"data row1 col0\" >0.01639</td>\n",
       "            </tr>\n",
       "            <tr>\n",
       "                        <th id=\"T_459370fa_0f60_11ea_a6fb_107b449f15fclevel0_row2\" class=\"row_heading level0 row2\" >государственный_долг</th>\n",
       "                        <td id=\"T_459370fa_0f60_11ea_a6fb_107b449f15fcrow2_col0\" class=\"data row2 col0\" >0.01525</td>\n",
       "            </tr>\n",
       "            <tr>\n",
       "                        <th id=\"T_459370fa_0f60_11ea_a6fb_107b449f15fclevel0_row3\" class=\"row_heading level0 row3\" >мировой_экономика</th>\n",
       "                        <td id=\"T_459370fa_0f60_11ea_a6fb_107b449f15fcrow3_col0\" class=\"data row3 col0\" >0.01514</td>\n",
       "            </tr>\n",
       "            <tr>\n",
       "                        <th id=\"T_459370fa_0f60_11ea_a6fb_107b449f15fclevel0_row4\" class=\"row_heading level0 row4\" >центральный_банка</th>\n",
       "                        <td id=\"T_459370fa_0f60_11ea_a6fb_107b449f15fcrow4_col0\" class=\"data row4 col0\" >0.01499</td>\n",
       "            </tr>\n",
       "            <tr>\n",
       "                        <th id=\"T_459370fa_0f60_11ea_a6fb_107b449f15fclevel0_row5\" class=\"row_heading level0 row5\" >развивающийся_страна</th>\n",
       "                        <td id=\"T_459370fa_0f60_11ea_a6fb_107b449f15fcrow5_col0\" class=\"data row5 col0\" >0.01412</td>\n",
       "            </tr>\n",
       "            <tr>\n",
       "                        <th id=\"T_459370fa_0f60_11ea_a6fb_107b449f15fclevel0_row6\" class=\"row_heading level0 row6\" >европейский_союз</th>\n",
       "                        <td id=\"T_459370fa_0f60_11ea_a6fb_107b449f15fcrow6_col0\" class=\"data row6 col0\" >0.01279</td>\n",
       "            </tr>\n",
       "            <tr>\n",
       "                        <th id=\"T_459370fa_0f60_11ea_a6fb_107b449f15fclevel0_row7\" class=\"row_heading level0 row7\" >финансовый_рынок</th>\n",
       "                        <td id=\"T_459370fa_0f60_11ea_a6fb_107b449f15fcrow7_col0\" class=\"data row7 col0\" >0.01166</td>\n",
       "            </tr>\n",
       "            <tr>\n",
       "                        <th id=\"T_459370fa_0f60_11ea_a6fb_107b449f15fclevel0_row8\" class=\"row_heading level0 row8\" >заработный_плата</th>\n",
       "                        <td id=\"T_459370fa_0f60_11ea_a6fb_107b449f15fcrow8_col0\" class=\"data row8 col0\" >0.00923</td>\n",
       "            </tr>\n",
       "            <tr>\n",
       "                        <th id=\"T_459370fa_0f60_11ea_a6fb_107b449f15fclevel0_row9\" class=\"row_heading level0 row9\" >монетарный_политика</th>\n",
       "                        <td id=\"T_459370fa_0f60_11ea_a6fb_107b449f15fcrow9_col0\" class=\"data row9 col0\" >0.0089</td>\n",
       "            </tr>\n",
       "    </tbody></table><style  type=\"text/css\" >\n",
       "</style><table id=\"T_459370fb_0f60_11ea_a6fb_107b449f15fc\" style='display:inline'><thead>    <tr>        <th class=\"blank level0\" ></th>        <th class=\"col_heading level0 col0\" >topic_27 @word</th>    </tr></thead><tbody>\n",
       "                <tr>\n",
       "                        <th id=\"T_459370fb_0f60_11ea_a6fb_107b449f15fclevel0_row0\" class=\"row_heading level0 row0\" >безработица</th>\n",
       "                        <td id=\"T_459370fb_0f60_11ea_a6fb_107b449f15fcrow0_col0\" class=\"data row0 col0\" >0.12253</td>\n",
       "            </tr>\n",
       "            <tr>\n",
       "                        <th id=\"T_459370fb_0f60_11ea_a6fb_107b449f15fclevel0_row1\" class=\"row_heading level0 row1\" >фонд</th>\n",
       "                        <td id=\"T_459370fb_0f60_11ea_a6fb_107b449f15fcrow1_col0\" class=\"data row1 col0\" >0.11254</td>\n",
       "            </tr>\n",
       "            <tr>\n",
       "                        <th id=\"T_459370fb_0f60_11ea_a6fb_107b449f15fclevel0_row2\" class=\"row_heading level0 row2\" >интеграция</th>\n",
       "                        <td id=\"T_459370fb_0f60_11ea_a6fb_107b449f15fcrow2_col0\" class=\"data row2 col0\" >0.09515</td>\n",
       "            </tr>\n",
       "            <tr>\n",
       "                        <th id=\"T_459370fb_0f60_11ea_a6fb_107b449f15fclevel0_row3\" class=\"row_heading level0 row3\" >негативный</th>\n",
       "                        <td id=\"T_459370fb_0f60_11ea_a6fb_107b449f15fcrow3_col0\" class=\"data row3 col0\" >0.06311</td>\n",
       "            </tr>\n",
       "            <tr>\n",
       "                        <th id=\"T_459370fb_0f60_11ea_a6fb_107b449f15fclevel0_row4\" class=\"row_heading level0 row4\" >институциональный</th>\n",
       "                        <td id=\"T_459370fb_0f60_11ea_a6fb_107b449f15fcrow4_col0\" class=\"data row4 col0\" >0.05175</td>\n",
       "            </tr>\n",
       "            <tr>\n",
       "                        <th id=\"T_459370fb_0f60_11ea_a6fb_107b449f15fclevel0_row5\" class=\"row_heading level0 row5\" >безработный</th>\n",
       "                        <td id=\"T_459370fb_0f60_11ea_a6fb_107b449f15fcrow5_col0\" class=\"data row5 col0\" >0.0391</td>\n",
       "            </tr>\n",
       "            <tr>\n",
       "                        <th id=\"T_459370fb_0f60_11ea_a6fb_107b449f15fclevel0_row6\" class=\"row_heading level0 row6\" >колониализм</th>\n",
       "                        <td id=\"T_459370fb_0f60_11ea_a6fb_107b449f15fcrow6_col0\" class=\"data row6 col0\" >0.03519</td>\n",
       "            </tr>\n",
       "            <tr>\n",
       "                        <th id=\"T_459370fb_0f60_11ea_a6fb_107b449f15fclevel0_row7\" class=\"row_heading level0 row7\" >эйлер</th>\n",
       "                        <td id=\"T_459370fb_0f60_11ea_a6fb_107b449f15fcrow7_col0\" class=\"data row7 col0\" >0.03389</td>\n",
       "            </tr>\n",
       "            <tr>\n",
       "                        <th id=\"T_459370fb_0f60_11ea_a6fb_107b449f15fclevel0_row8\" class=\"row_heading level0 row8\" >баланс</th>\n",
       "                        <td id=\"T_459370fb_0f60_11ea_a6fb_107b449f15fcrow8_col0\" class=\"data row8 col0\" >0.03133</td>\n",
       "            </tr>\n",
       "            <tr>\n",
       "                        <th id=\"T_459370fb_0f60_11ea_a6fb_107b449f15fclevel0_row9\" class=\"row_heading level0 row9\" >республиканец</th>\n",
       "                        <td id=\"T_459370fb_0f60_11ea_a6fb_107b449f15fcrow9_col0\" class=\"data row9 col0\" >0.02737</td>\n",
       "            </tr>\n",
       "    </tbody></table>"
      ]
     },
     "metadata": {},
     "output_type": "display_data"
    },
    {
     "data": {
      "text/html": [
       "<b> социальный капитал </b><br /> экономист сергей гуриев об измерении социального капитала, выгоде доверия, репутации и медиа"
      ]
     },
     "metadata": {},
     "output_type": "display_data"
    },
    {
     "data": {
      "text/html": [
       "<b> эволюция университета </b><br /> философ алексей руткевич о реформе средневековых университетов, образовательной политике и проблемах массового образования"
      ]
     },
     "metadata": {},
     "output_type": "display_data"
    },
    {
     "data": {
      "text/html": [
       "<b> взаимодействие фискальной и монетарной политики </b><br /> экономист сергей пекарский о политике стимулирования экспорта, курсе валют и методах борьбы с инфляцией"
      ]
     },
     "metadata": {},
     "output_type": "display_data"
    },
    {
     "data": {
      "text/html": [
       "<b> российская модель рынка труда </b><br /> экономист владимир гимпельсон об адаптации рынка, законодательстве о защите занятости и пороге заработной платы"
      ]
     },
     "metadata": {},
     "output_type": "display_data"
    },
    {
     "data": {
      "text/html": [
       "<b> исследовательский университет </b><br /> философ и культуролог виталий куренной об инновации гумбольдта, университете в массовой культуре и эволюции исследовательских университетов"
      ]
     },
     "metadata": {},
     "output_type": "display_data"
    },
    {
     "data": {
      "text/html": [
       "<b> как взаимодействуют фискальная и монетарная политика? </b><br /> экономист сергей пекарский о макроэкономическом анализе, борьбе с инфляцией и контроле обменного курса"
      ]
     },
     "metadata": {},
     "output_type": "display_data"
    },
    {
     "data": {
      "text/html": [
       "<b> пузыри на финансовых рынках </b><br /> экономист сергей гуриев о фундаментальной стоимости, падении цен на недвижимость и знаменитых пузырях"
      ]
     },
     "metadata": {},
     "output_type": "display_data"
    },
    {
     "data": {
      "text/html": [
       "<b> страх безработицы </b><br /> экономист владимир гимпельсон о поведении людей на рынке труда, проблеме эндогенности в экономике и гибкости заработной платы"
      ]
     },
     "metadata": {},
     "output_type": "display_data"
    },
    {
     "data": {
      "text/html": [
       "<b> финансовая репрессия </b><br /> экономист сергей пекарский о регулировании работы коммерческих банков, пенсионных фондах и политике селективного кредитования"
      ]
     },
     "metadata": {},
     "output_type": "display_data"
    },
    {
     "data": {
      "text/html": [
       "<b> faqфинансовая репрессия </b><br /> 8 фактов о механизмах регулирования государством финансовых рынков в развивающихся экономиках"
      ]
     },
     "metadata": {},
     "output_type": "display_data"
    },
    {
     "data": {
      "text/html": [
       "<style  type=\"text/css\" >\n",
       "</style><table id=\"T_459370fc_0f60_11ea_a6fb_107b449f15fc\" style='display:inline'><thead>    <tr>        <th class=\"blank level0\" ></th>        <th class=\"col_heading level0 col0\" >topic_28 @2gramm</th>    </tr></thead><tbody>\n",
       "                <tr>\n",
       "                        <th id=\"T_459370fc_0f60_11ea_a6fb_107b449f15fclevel0_row0\" class=\"row_heading level0 row0\" >стволовой_клетка</th>\n",
       "                        <td id=\"T_459370fc_0f60_11ea_a6fb_107b449f15fcrow0_col0\" class=\"data row0 col0\" >0.04074</td>\n",
       "            </tr>\n",
       "            <tr>\n",
       "                        <th id=\"T_459370fc_0f60_11ea_a6fb_107b449f15fclevel0_row1\" class=\"row_heading level0 row1\" >флуоресцентный_белка</th>\n",
       "                        <td id=\"T_459370fc_0f60_11ea_a6fb_107b449f15fcrow1_col0\" class=\"data row1 col0\" >0.01278</td>\n",
       "            </tr>\n",
       "            <tr>\n",
       "                        <th id=\"T_459370fc_0f60_11ea_a6fb_107b449f15fclevel0_row2\" class=\"row_heading level0 row2\" >углеродный_нанотрубка</th>\n",
       "                        <td id=\"T_459370fc_0f60_11ea_a6fb_107b449f15fcrow2_col0\" class=\"data row2 col0\" >0.01277</td>\n",
       "            </tr>\n",
       "            <tr>\n",
       "                        <th id=\"T_459370fc_0f60_11ea_a6fb_107b449f15fclevel0_row3\" class=\"row_heading level0 row3\" >чистый_культура</th>\n",
       "                        <td id=\"T_459370fc_0f60_11ea_a6fb_107b449f15fcrow3_col0\" class=\"data row3 col0\" >0.01102</td>\n",
       "            </tr>\n",
       "            <tr>\n",
       "                        <th id=\"T_459370fc_0f60_11ea_a6fb_107b449f15fclevel0_row4\" class=\"row_heading level0 row4\" >костный_мозг</th>\n",
       "                        <td id=\"T_459370fc_0f60_11ea_a6fb_107b449f15fcrow4_col0\" class=\"data row4 col0\" >0.00994</td>\n",
       "            </tr>\n",
       "            <tr>\n",
       "                        <th id=\"T_459370fc_0f60_11ea_a6fb_107b449f15fclevel0_row5\" class=\"row_heading level0 row5\" >флуоресцентный_белок</th>\n",
       "                        <td id=\"T_459370fc_0f60_11ea_a6fb_107b449f15fcrow5_col0\" class=\"data row5 col0\" >0.00956</td>\n",
       "            </tr>\n",
       "            <tr>\n",
       "                        <th id=\"T_459370fc_0f60_11ea_a6fb_107b449f15fclevel0_row6\" class=\"row_heading level0 row6\" >рассказывать_профессор</th>\n",
       "                        <td id=\"T_459370fc_0f60_11ea_a6fb_107b449f15fcrow6_col0\" class=\"data row6 col0\" >0.00914</td>\n",
       "            </tr>\n",
       "            <tr>\n",
       "                        <th id=\"T_459370fc_0f60_11ea_a6fb_107b449f15fclevel0_row7\" class=\"row_heading level0 row7\" >органический_вещество</th>\n",
       "                        <td id=\"T_459370fc_0f60_11ea_a6fb_107b449f15fcrow7_col0\" class=\"data row7 col0\" >0.00871</td>\n",
       "            </tr>\n",
       "            <tr>\n",
       "                        <th id=\"T_459370fc_0f60_11ea_a6fb_107b449f15fclevel0_row8\" class=\"row_heading level0 row8\" >углекислый_газа</th>\n",
       "                        <td id=\"T_459370fc_0f60_11ea_a6fb_107b449f15fcrow8_col0\" class=\"data row8 col0\" >0.0083</td>\n",
       "            </tr>\n",
       "            <tr>\n",
       "                        <th id=\"T_459370fc_0f60_11ea_a6fb_107b449f15fclevel0_row9\" class=\"row_heading level0 row9\" >индекс_цитирование</th>\n",
       "                        <td id=\"T_459370fc_0f60_11ea_a6fb_107b449f15fcrow9_col0\" class=\"data row9 col0\" >0.00773</td>\n",
       "            </tr>\n",
       "    </tbody></table><style  type=\"text/css\" >\n",
       "</style><table id=\"T_459370fd_0f60_11ea_a6fb_107b449f15fc\" style='display:inline'><thead>    <tr>        <th class=\"blank level0\" ></th>        <th class=\"col_heading level0 col0\" >topic_28 @word</th>    </tr></thead><tbody>\n",
       "                <tr>\n",
       "                        <th id=\"T_459370fd_0f60_11ea_a6fb_107b449f15fclevel0_row0\" class=\"row_heading level0 row0\" >водород</th>\n",
       "                        <td id=\"T_459370fd_0f60_11ea_a6fb_107b449f15fcrow0_col0\" class=\"data row0 col0\" >0.20805</td>\n",
       "            </tr>\n",
       "            <tr>\n",
       "                        <th id=\"T_459370fd_0f60_11ea_a6fb_107b449f15fclevel0_row1\" class=\"row_heading level0 row1\" >рана</th>\n",
       "                        <td id=\"T_459370fd_0f60_11ea_a6fb_107b449f15fcrow1_col0\" class=\"data row1 col0\" >0.05826</td>\n",
       "            </tr>\n",
       "            <tr>\n",
       "                        <th id=\"T_459370fd_0f60_11ea_a6fb_107b449f15fclevel0_row2\" class=\"row_heading level0 row2\" >превращение</th>\n",
       "                        <td id=\"T_459370fd_0f60_11ea_a6fb_107b449f15fcrow2_col0\" class=\"data row2 col0\" >0.05796</td>\n",
       "            </tr>\n",
       "            <tr>\n",
       "                        <th id=\"T_459370fd_0f60_11ea_a6fb_107b449f15fclevel0_row3\" class=\"row_heading level0 row3\" >бензин</th>\n",
       "                        <td id=\"T_459370fd_0f60_11ea_a6fb_107b449f15fcrow3_col0\" class=\"data row3 col0\" >0.03797</td>\n",
       "            </tr>\n",
       "            <tr>\n",
       "                        <th id=\"T_459370fd_0f60_11ea_a6fb_107b449f15fclevel0_row4\" class=\"row_heading level0 row4\" >кпд</th>\n",
       "                        <td id=\"T_459370fd_0f60_11ea_a6fb_107b449f15fcrow4_col0\" class=\"data row4 col0\" >0.03645</td>\n",
       "            </tr>\n",
       "            <tr>\n",
       "                        <th id=\"T_459370fd_0f60_11ea_a6fb_107b449f15fclevel0_row5\" class=\"row_heading level0 row5\" >радуга</th>\n",
       "                        <td id=\"T_459370fd_0f60_11ea_a6fb_107b449f15fcrow5_col0\" class=\"data row5 col0\" >0.03341</td>\n",
       "            </tr>\n",
       "            <tr>\n",
       "                        <th id=\"T_459370fd_0f60_11ea_a6fb_107b449f15fclevel0_row6\" class=\"row_heading level0 row6\" >атф</th>\n",
       "                        <td id=\"T_459370fd_0f60_11ea_a6fb_107b449f15fcrow6_col0\" class=\"data row6 col0\" >0.03037</td>\n",
       "            </tr>\n",
       "            <tr>\n",
       "                        <th id=\"T_459370fd_0f60_11ea_a6fb_107b449f15fclevel0_row7\" class=\"row_heading level0 row7\" >забывание</th>\n",
       "                        <td id=\"T_459370fd_0f60_11ea_a6fb_107b449f15fcrow7_col0\" class=\"data row7 col0\" >0.02885</td>\n",
       "            </tr>\n",
       "            <tr>\n",
       "                        <th id=\"T_459370fd_0f60_11ea_a6fb_107b449f15fclevel0_row8\" class=\"row_heading level0 row8\" >облучение</th>\n",
       "                        <td id=\"T_459370fd_0f60_11ea_a6fb_107b449f15fcrow8_col0\" class=\"data row8 col0\" >0.02582</td>\n",
       "            </tr>\n",
       "            <tr>\n",
       "                        <th id=\"T_459370fd_0f60_11ea_a6fb_107b449f15fclevel0_row9\" class=\"row_heading level0 row9\" >atlas</th>\n",
       "                        <td id=\"T_459370fd_0f60_11ea_a6fb_107b449f15fcrow9_col0\" class=\"data row9 col0\" >0.02582</td>\n",
       "            </tr>\n",
       "    </tbody></table>"
      ]
     },
     "metadata": {},
     "output_type": "display_data"
    },
    {
     "data": {
      "text/html": [
       "<b> катализ на поверхности воды </b><br /> химик валерий фокин о природных катализаторах, адаптируемости каталитических систем и аппарате описания"
      ]
     },
     "metadata": {},
     "output_type": "display_data"
    },
    {
     "data": {
      "text/html": [
       "<b> палеопочвы </b><br /> палеоботаник сергей наугольных об изученности палеопочв, процессе изучения и поисках палеопочв"
      ]
     },
     "metadata": {},
     "output_type": "display_data"
    },
    {
     "data": {
      "text/html": [
       "<b> наноэлектроника </b><br /> физик сергей зайцев-зотов о нанотранзисторах, будущем кремниевой электроники и устройствах на одиночных атомах"
      ]
     },
     "metadata": {},
     "output_type": "display_data"
    },
    {
     "data": {
      "text/html": [
       "<b> эмбриональные стволовые клетки </b><br /> генетик мария шутова о бессмертных клетках, экстракорпоральном оплодотворении и конструкторе для генетиков"
      ]
     },
     "metadata": {},
     "output_type": "display_data"
    },
    {
     "data": {
      "text/html": [
       "<b> клетки-предшественницы рака легких </b><br /> генетик антон бернс о мутациях стволовых клеток, активации транспозонов и аденовирусах"
      ]
     },
     "metadata": {},
     "output_type": "display_data"
    },
    {
     "data": {
      "text/html": [
       "<b> faqкатаболизм микробов </b><br /> 7 фактов об энергетическом обмене микроорганизмов"
      ]
     },
     "metadata": {},
     "output_type": "display_data"
    },
    {
     "data": {
      "text/html": [
       "<b> исследования микробных сообществ в россии </b><br /> микробиолог елизавета бонч-осмоловская об открытии хемосинтеза, типах метаболизма и чистых культурах микроорганизмов"
      ]
     },
     "metadata": {},
     "output_type": "display_data"
    },
    {
     "data": {
      "text/html": [
       "<b> однослойные углеродные нанотрубки </b><br /> альберт насибулин о синтезе углеродных нанотрубок, аэрозольном методе и прозрачной электронике"
      ]
     },
     "metadata": {},
     "output_type": "display_data"
    },
    {
     "data": {
      "text/html": [
       "<b> возможности стволовых клеток взрослого организма </b><br /> биолог сергей киселев об истории открытия стволовых клеток, трансплантации фибробластов кожи и культивации стволовых клеток кишечника"
      ]
     },
     "metadata": {},
     "output_type": "display_data"
    },
    {
     "data": {
      "text/html": [
       "<b> диалогиприрода стволовых клеток </b><br /> беседа биологов евгения шеваля и марии шутовой об истории изучения стволовых клеток, их роли в лечении онкологических заболеваний и репрограммировании"
      ]
     },
     "metadata": {},
     "output_type": "display_data"
    },
    {
     "data": {
      "text/html": [
       "<style  type=\"text/css\" >\n",
       "</style><table id=\"T_459370fe_0f60_11ea_a6fb_107b449f15fc\" style='display:inline'><thead>    <tr>        <th class=\"blank level0\" ></th>        <th class=\"col_heading level0 col0\" >topic_29 @2gramm</th>    </tr></thead><tbody>\n",
       "                <tr>\n",
       "                        <th id=\"T_459370fe_0f60_11ea_a6fb_107b449f15fclevel0_row0\" class=\"row_heading level0 row0\" >раковый_клетка</th>\n",
       "                        <td id=\"T_459370fe_0f60_11ea_a6fb_107b449f15fcrow0_col0\" class=\"data row0 col0\" >0.02423</td>\n",
       "            </tr>\n",
       "            <tr>\n",
       "                        <th id=\"T_459370fe_0f60_11ea_a6fb_107b449f15fclevel0_row1\" class=\"row_heading level0 row1\" >многоклеточный_организм</th>\n",
       "                        <td id=\"T_459370fe_0f60_11ea_a6fb_107b449f15fcrow1_col0\" class=\"data row1 col0\" >0.01319</td>\n",
       "            </tr>\n",
       "            <tr>\n",
       "                        <th id=\"T_459370fe_0f60_11ea_a6fb_107b449f15fclevel0_row2\" class=\"row_heading level0 row2\" >опухолевый_клетка</th>\n",
       "                        <td id=\"T_459370fe_0f60_11ea_a6fb_107b449f15fcrow2_col0\" class=\"data row2 col0\" >0.01268</td>\n",
       "            </tr>\n",
       "            <tr>\n",
       "                        <th id=\"T_459370fe_0f60_11ea_a6fb_107b449f15fclevel0_row3\" class=\"row_heading level0 row3\" >сигнальный_путь</th>\n",
       "                        <td id=\"T_459370fe_0f60_11ea_a6fb_107b449f15fcrow3_col0\" class=\"data row3 col0\" >0.01045</td>\n",
       "            </tr>\n",
       "            <tr>\n",
       "                        <th id=\"T_459370fe_0f60_11ea_a6fb_107b449f15fclevel0_row4\" class=\"row_heading level0 row4\" >парниковый_эффект</th>\n",
       "                        <td id=\"T_459370fe_0f60_11ea_a6fb_107b449f15fcrow4_col0\" class=\"data row4 col0\" >0.00841</td>\n",
       "            </tr>\n",
       "            <tr>\n",
       "                        <th id=\"T_459370fe_0f60_11ea_a6fb_107b449f15fclevel0_row5\" class=\"row_heading level0 row5\" >оперативный_память</th>\n",
       "                        <td id=\"T_459370fe_0f60_11ea_a6fb_107b449f15fcrow5_col0\" class=\"data row5 col0\" >0.0078</td>\n",
       "            </tr>\n",
       "            <tr>\n",
       "                        <th id=\"T_459370fe_0f60_11ea_a6fb_107b449f15fclevel0_row6\" class=\"row_heading level0 row6\" >эукариотический_клетка</th>\n",
       "                        <td id=\"T_459370fe_0f60_11ea_a6fb_107b449f15fcrow6_col0\" class=\"data row6 col0\" >0.00749</td>\n",
       "            </tr>\n",
       "            <tr>\n",
       "                        <th id=\"T_459370fe_0f60_11ea_a6fb_107b449f15fclevel0_row7\" class=\"row_heading level0 row7\" >половый_клетка</th>\n",
       "                        <td id=\"T_459370fe_0f60_11ea_a6fb_107b449f15fcrow7_col0\" class=\"data row7 col0\" >0.007</td>\n",
       "            </tr>\n",
       "            <tr>\n",
       "                        <th id=\"T_459370fe_0f60_11ea_a6fb_107b449f15fclevel0_row8\" class=\"row_heading level0 row8\" >глобальный_потепление</th>\n",
       "                        <td id=\"T_459370fe_0f60_11ea_a6fb_107b449f15fcrow8_col0\" class=\"data row8 col0\" >0.00667</td>\n",
       "            </tr>\n",
       "            <tr>\n",
       "                        <th id=\"T_459370fe_0f60_11ea_a6fb_107b449f15fclevel0_row9\" class=\"row_heading level0 row9\" >иммунный_система</th>\n",
       "                        <td id=\"T_459370fe_0f60_11ea_a6fb_107b449f15fcrow9_col0\" class=\"data row9 col0\" >0.00665</td>\n",
       "            </tr>\n",
       "    </tbody></table><style  type=\"text/css\" >\n",
       "</style><table id=\"T_459370ff_0f60_11ea_a6fb_107b449f15fc\" style='display:inline'><thead>    <tr>        <th class=\"blank level0\" ></th>        <th class=\"col_heading level0 col0\" >topic_29 @word</th>    </tr></thead><tbody>\n",
       "                <tr>\n",
       "                        <th id=\"T_459370ff_0f60_11ea_a6fb_107b449f15fclevel0_row0\" class=\"row_heading level0 row0\" >опухоль</th>\n",
       "                        <td id=\"T_459370ff_0f60_11ea_a6fb_107b449f15fcrow0_col0\" class=\"data row0 col0\" >0.22454</td>\n",
       "            </tr>\n",
       "            <tr>\n",
       "                        <th id=\"T_459370ff_0f60_11ea_a6fb_107b449f15fclevel0_row1\" class=\"row_heading level0 row1\" >градус</th>\n",
       "                        <td id=\"T_459370ff_0f60_11ea_a6fb_107b449f15fcrow1_col0\" class=\"data row1 col0\" >0.20365</td>\n",
       "            </tr>\n",
       "            <tr>\n",
       "                        <th id=\"T_459370ff_0f60_11ea_a6fb_107b449f15fclevel0_row2\" class=\"row_heading level0 row2\" >мышь</th>\n",
       "                        <td id=\"T_459370ff_0f60_11ea_a6fb_107b449f15fcrow2_col0\" class=\"data row2 col0\" >0.20235</td>\n",
       "            </tr>\n",
       "            <tr>\n",
       "                        <th id=\"T_459370ff_0f60_11ea_a6fb_107b449f15fclevel0_row3\" class=\"row_heading level0 row3\" >спариваться</th>\n",
       "                        <td id=\"T_459370ff_0f60_11ea_a6fb_107b449f15fcrow3_col0\" class=\"data row3 col0\" >0.02741</td>\n",
       "            </tr>\n",
       "            <tr>\n",
       "                        <th id=\"T_459370ff_0f60_11ea_a6fb_107b449f15fclevel0_row4\" class=\"row_heading level0 row4\" >холод</th>\n",
       "                        <td id=\"T_459370ff_0f60_11ea_a6fb_107b449f15fcrow4_col0\" class=\"data row4 col0\" >0.0235</td>\n",
       "            </tr>\n",
       "            <tr>\n",
       "                        <th id=\"T_459370ff_0f60_11ea_a6fb_107b449f15fclevel0_row5\" class=\"row_heading level0 row5\" >климатический</th>\n",
       "                        <td id=\"T_459370ff_0f60_11ea_a6fb_107b449f15fcrow5_col0\" class=\"data row5 col0\" >0.0235</td>\n",
       "            </tr>\n",
       "            <tr>\n",
       "                        <th id=\"T_459370ff_0f60_11ea_a6fb_107b449f15fclevel0_row6\" class=\"row_heading level0 row6\" >дифференцироваться</th>\n",
       "                        <td id=\"T_459370ff_0f60_11ea_a6fb_107b449f15fcrow6_col0\" class=\"data row6 col0\" >0.0235</td>\n",
       "            </tr>\n",
       "            <tr>\n",
       "                        <th id=\"T_459370ff_0f60_11ea_a6fb_107b449f15fclevel0_row7\" class=\"row_heading level0 row7\" >серотонин</th>\n",
       "                        <td id=\"T_459370ff_0f60_11ea_a6fb_107b449f15fcrow7_col0\" class=\"data row7 col0\" >0.02219</td>\n",
       "            </tr>\n",
       "            <tr>\n",
       "                        <th id=\"T_459370ff_0f60_11ea_a6fb_107b449f15fclevel0_row8\" class=\"row_heading level0 row8\" >нейротрансмиттер</th>\n",
       "                        <td id=\"T_459370ff_0f60_11ea_a6fb_107b449f15fcrow8_col0\" class=\"data row8 col0\" >0.02219</td>\n",
       "            </tr>\n",
       "            <tr>\n",
       "                        <th id=\"T_459370ff_0f60_11ea_a6fb_107b449f15fclevel0_row9\" class=\"row_heading level0 row9\" >агрессивность</th>\n",
       "                        <td id=\"T_459370ff_0f60_11ea_a6fb_107b449f15fcrow9_col0\" class=\"data row9 col0\" >0.02089</td>\n",
       "            </tr>\n",
       "    </tbody></table>"
      ]
     },
     "metadata": {},
     "output_type": "display_data"
    },
    {
     "data": {
      "text/html": [
       "<b> опухолевые стволовые клетки </b><br /> биолог евгений шеваль о клетках мозга, неоднородности опухоли и неэффективном лечения рака"
      ]
     },
     "metadata": {},
     "output_type": "display_data"
    },
    {
     "data": {
      "text/html": [
       "<b> изменения генома при раке </b><br /> биолог антон буздин о возрастных мутациях клеток, перетасовке фрагментов хромосом и репарации днк"
      ]
     },
     "metadata": {},
     "output_type": "display_data"
    },
    {
     "data": {
      "text/html": [
       "<b> наука о клетке </b><br /> биолог евгений шеваль о клеточной биологии, прокариотах и устройстве клетки"
      ]
     },
     "metadata": {},
     "output_type": "display_data"
    },
    {
     "data": {
      "text/html": [
       "<b> вредные мутации в человеческих популяциях </b><br /> биолог алексей кондрашов об источнике мутаций, развитии гемофилии и действии естественного отбора"
      ]
     },
     "metadata": {},
     "output_type": "display_data"
    },
    {
     "data": {
      "text/html": [
       "<b> атмосфера венеры </b><br /> астроном дмитрий титов о температурном режиме на планете, облаках из серной кислоты и парниковом эффекте"
      ]
     },
     "metadata": {},
     "output_type": "display_data"
    },
    {
     "data": {
      "text/html": [
       "<b> спермоспецифические белки и онкология </b><br /> биолог владимир муронец о синтезе специфических белков, ферментах, связанных с меланомой, и роли ингибиторов в лечении рака"
      ]
     },
     "metadata": {},
     "output_type": "display_data"
    },
    {
     "data": {
      "text/html": [
       "<b> методы лечения рака </b><br /> биофизик петр федичев об обмане иммунной системы, формах рака и  орфанных препаратах"
      ]
     },
     "metadata": {},
     "output_type": "display_data"
    },
    {
     "data": {
      "text/html": [
       "<b> ранний и средний протерозой </b><br /> биолог александр марков о кислородном кризисе, парниковых газах и появлении эукариот"
      ]
     },
     "metadata": {},
     "output_type": "display_data"
    },
    {
     "data": {
      "text/html": [
       "<b> компьютерные методы диагностики </b><br /> биофизик петр федичев об истории болезни в наших генах, компьютерном мониторинге здоровья и страховых компаниях"
      ]
     },
     "metadata": {},
     "output_type": "display_data"
    },
    {
     "data": {
      "text/html": [
       "<b> faqранний и средний протерозой </b><br /> 7 фактов о последствиях нарастания количества свободного кислорода в атмосфере, гуронском оледенении и появлении эукариотической клетки"
      ]
     },
     "metadata": {},
     "output_type": "display_data"
    },
    {
     "data": {
      "text/html": [
       "<style  type=\"text/css\" >\n",
       "</style><table id=\"T_45937100_0f60_11ea_a6fb_107b449f15fc\" style='display:inline'><thead>    <tr>        <th class=\"blank level0\" ></th>        <th class=\"col_heading level0 col0\" >topic_30 @2gramm</th>    </tr></thead><tbody>\n",
       "                <tr>\n",
       "                        <th id=\"T_45937100_0f60_11ea_a6fb_107b449f15fclevel0_row0\" class=\"row_heading level0 row0\" >российский_империя</th>\n",
       "                        <td id=\"T_45937100_0f60_11ea_a6fb_107b449f15fcrow0_col0\" class=\"data row0 col0\" >0.02874</td>\n",
       "            </tr>\n",
       "            <tr>\n",
       "                        <th id=\"T_45937100_0f60_11ea_a6fb_107b449f15fclevel0_row1\" class=\"row_heading level0 row1\" >общественный_благо</th>\n",
       "                        <td id=\"T_45937100_0f60_11ea_a6fb_107b449f15fcrow1_col0\" class=\"data row1 col0\" >0.01398</td>\n",
       "            </tr>\n",
       "            <tr>\n",
       "                        <th id=\"T_45937100_0f60_11ea_a6fb_107b449f15fclevel0_row2\" class=\"row_heading level0 row2\" >обычный_право</th>\n",
       "                        <td id=\"T_45937100_0f60_11ea_a6fb_107b449f15fcrow2_col0\" class=\"data row2 col0\" >0.01371</td>\n",
       "            </tr>\n",
       "            <tr>\n",
       "                        <th id=\"T_45937100_0f60_11ea_a6fb_107b449f15fclevel0_row3\" class=\"row_heading level0 row3\" >южный_америка</th>\n",
       "                        <td id=\"T_45937100_0f60_11ea_a6fb_107b449f15fcrow3_col0\" class=\"data row3 col0\" >0.0133</td>\n",
       "            </tr>\n",
       "            <tr>\n",
       "                        <th id=\"T_45937100_0f60_11ea_a6fb_107b449f15fclevel0_row4\" class=\"row_heading level0 row4\" >речь_посполить</th>\n",
       "                        <td id=\"T_45937100_0f60_11ea_a6fb_107b449f15fcrow4_col0\" class=\"data row4 col0\" >0.01304</td>\n",
       "            </tr>\n",
       "            <tr>\n",
       "                        <th id=\"T_45937100_0f60_11ea_a6fb_107b449f15fclevel0_row5\" class=\"row_heading level0 row5\" >северный_америка</th>\n",
       "                        <td id=\"T_45937100_0f60_11ea_a6fb_107b449f15fcrow5_col0\" class=\"data row5 col0\" >0.01056</td>\n",
       "            </tr>\n",
       "            <tr>\n",
       "                        <th id=\"T_45937100_0f60_11ea_a6fb_107b449f15fclevel0_row6\" class=\"row_heading level0 row6\" >общественный_пространство</th>\n",
       "                        <td id=\"T_45937100_0f60_11ea_a6fb_107b449f15fcrow6_col0\" class=\"data row6 col0\" >0.01016</td>\n",
       "            </tr>\n",
       "            <tr>\n",
       "                        <th id=\"T_45937100_0f60_11ea_a6fb_107b449f15fclevel0_row7\" class=\"row_heading level0 row7\" >публичный_пространство</th>\n",
       "                        <td id=\"T_45937100_0f60_11ea_a6fb_107b449f15fcrow7_col0\" class=\"data row7 col0\" >0.0078</td>\n",
       "            </tr>\n",
       "            <tr>\n",
       "                        <th id=\"T_45937100_0f60_11ea_a6fb_107b449f15fclevel0_row8\" class=\"row_heading level0 row8\" >язык_описание</th>\n",
       "                        <td id=\"T_45937100_0f60_11ea_a6fb_107b449f15fcrow8_col0\" class=\"data row8 col0\" >0.0072</td>\n",
       "            </tr>\n",
       "            <tr>\n",
       "                        <th id=\"T_45937100_0f60_11ea_a6fb_107b449f15fclevel0_row9\" class=\"row_heading level0 row9\" >коренной_народ</th>\n",
       "                        <td id=\"T_45937100_0f60_11ea_a6fb_107b449f15fcrow9_col0\" class=\"data row9 col0\" >0.0072</td>\n",
       "            </tr>\n",
       "    </tbody></table><style  type=\"text/css\" >\n",
       "</style><table id=\"T_45937101_0f60_11ea_a6fb_107b449f15fc\" style='display:inline'><thead>    <tr>        <th class=\"blank level0\" ></th>        <th class=\"col_heading level0 col0\" >topic_30 @word</th>    </tr></thead><tbody>\n",
       "                <tr>\n",
       "                        <th id=\"T_45937101_0f60_11ea_a6fb_107b449f15fclevel0_row0\" class=\"row_heading level0 row0\" >строительство</th>\n",
       "                        <td id=\"T_45937101_0f60_11ea_a6fb_107b449f15fcrow0_col0\" class=\"data row0 col0\" >0.20878</td>\n",
       "            </tr>\n",
       "            <tr>\n",
       "                        <th id=\"T_45937101_0f60_11ea_a6fb_107b449f15fclevel0_row1\" class=\"row_heading level0 row1\" >крепость</th>\n",
       "                        <td id=\"T_45937101_0f60_11ea_a6fb_107b449f15fcrow1_col0\" class=\"data row1 col0\" >0.11793</td>\n",
       "            </tr>\n",
       "            <tr>\n",
       "                        <th id=\"T_45937101_0f60_11ea_a6fb_107b449f15fclevel0_row2\" class=\"row_heading level0 row2\" >конкиста</th>\n",
       "                        <td id=\"T_45937101_0f60_11ea_a6fb_107b449f15fcrow2_col0\" class=\"data row2 col0\" >0.09881</td>\n",
       "            </tr>\n",
       "            <tr>\n",
       "                        <th id=\"T_45937101_0f60_11ea_a6fb_107b449f15fclevel0_row3\" class=\"row_heading level0 row3\" >принц</th>\n",
       "                        <td id=\"T_45937101_0f60_11ea_a6fb_107b449f15fcrow3_col0\" class=\"data row3 col0\" >0.04144</td>\n",
       "            </tr>\n",
       "            <tr>\n",
       "                        <th id=\"T_45937101_0f60_11ea_a6fb_107b449f15fclevel0_row4\" class=\"row_heading level0 row4\" >барон</th>\n",
       "                        <td id=\"T_45937101_0f60_11ea_a6fb_107b449f15fcrow4_col0\" class=\"data row4 col0\" >0.03666</td>\n",
       "            </tr>\n",
       "            <tr>\n",
       "                        <th id=\"T_45937101_0f60_11ea_a6fb_107b449f15fclevel0_row5\" class=\"row_heading level0 row5\" >альянс</th>\n",
       "                        <td id=\"T_45937101_0f60_11ea_a6fb_107b449f15fcrow5_col0\" class=\"data row5 col0\" >0.03666</td>\n",
       "            </tr>\n",
       "            <tr>\n",
       "                        <th id=\"T_45937101_0f60_11ea_a6fb_107b449f15fclevel0_row6\" class=\"row_heading level0 row6\" >капитан</th>\n",
       "                        <td id=\"T_45937101_0f60_11ea_a6fb_107b449f15fcrow6_col0\" class=\"data row6 col0\" >0.03666</td>\n",
       "            </tr>\n",
       "            <tr>\n",
       "                        <th id=\"T_45937101_0f60_11ea_a6fb_107b449f15fclevel0_row7\" class=\"row_heading level0 row7\" >адмирал</th>\n",
       "                        <td id=\"T_45937101_0f60_11ea_a6fb_107b449f15fcrow7_col0\" class=\"data row7 col0\" >0.03347</td>\n",
       "            </tr>\n",
       "            <tr>\n",
       "                        <th id=\"T_45937101_0f60_11ea_a6fb_107b449f15fclevel0_row8\" class=\"row_heading level0 row8\" >публичный</th>\n",
       "                        <td id=\"T_45937101_0f60_11ea_a6fb_107b449f15fcrow8_col0\" class=\"data row8 col0\" >0.03116</td>\n",
       "            </tr>\n",
       "            <tr>\n",
       "                        <th id=\"T_45937101_0f60_11ea_a6fb_107b449f15fclevel0_row9\" class=\"row_heading level0 row9\" >надзор</th>\n",
       "                        <td id=\"T_45937101_0f60_11ea_a6fb_107b449f15fcrow9_col0\" class=\"data row9 col0\" >0.02709</td>\n",
       "            </tr>\n",
       "    </tbody></table>"
      ]
     },
     "metadata": {},
     "output_type": "display_data"
    },
    {
     "data": {
      "text/html": [
       "<b> национальные меньшинства </b><br /> этнограф сергей соколовский об исследованиях оон, российском законодательстве и терминологической проблеме"
      ]
     },
     "metadata": {},
     "output_type": "display_data"
    },
    {
     "data": {
      "text/html": [
       "<b> кавказский адат </b><br /> историк владимир бобровников об обычном праве кавказа, шариате и государственных законах и письменных памятниках адата"
      ]
     },
     "metadata": {},
     "output_type": "display_data"
    },
    {
     "data": {
      "text/html": [
       "<b> коренные народы </b><br /> этнограф сергей соколовский о моделях индигенности, правовом статусе и колонизаторах"
      ]
     },
     "metadata": {},
     "output_type": "display_data"
    },
    {
     "data": {
      "text/html": [
       "<b> русско-американская колониальная система </b><br /> историк илья виньковецкий об алеутских охотниках, аляске и одной из самых прогрессивных компаний российской империи"
      ]
     },
     "metadata": {},
     "output_type": "display_data"
    },
    {
     "data": {
      "text/html": [
       "<b> политический ислам </b><br /> востоковед алексей малашенко об исламском государстве, исламизме и  фундаментализме"
      ]
     },
     "metadata": {},
     "output_type": "display_data"
    },
    {
     "data": {
      "text/html": [
       "<b> теории родового быта </b><br /> антрополог ольга артёмова о родовой организации, патрилинейной модели и билатеральной структуре родства"
      ]
     },
     "metadata": {},
     "output_type": "display_data"
    },
    {
     "data": {
      "text/html": [
       "<b> абреки </b><br /> историк владимир бобровников о благородных разбойниках, абреке зелимхане и героических песнях"
      ]
     },
     "metadata": {},
     "output_type": "display_data"
    },
    {
     "data": {
      "text/html": [
       "<style  type=\"text/css\" >\n",
       "</style><table id=\"T_45937102_0f60_11ea_a6fb_107b449f15fc\" style='display:inline'><thead>    <tr>        <th class=\"blank level0\" ></th>        <th class=\"col_heading level0 col0\" >topic_31 @2gramm</th>    </tr></thead><tbody>\n",
       "                <tr>\n",
       "                        <th id=\"T_45937102_0f60_11ea_a6fb_107b449f15fclevel0_row0\" class=\"row_heading level0 row0\" >городской_пространство</th>\n",
       "                        <td id=\"T_45937102_0f60_11ea_a6fb_107b449f15fcrow0_col0\" class=\"data row0 col0\" >0.01739</td>\n",
       "            </tr>\n",
       "            <tr>\n",
       "                        <th id=\"T_45937102_0f60_11ea_a6fb_107b449f15fclevel0_row1\" class=\"row_heading level0 row1\" >средний_класс</th>\n",
       "                        <td id=\"T_45937102_0f60_11ea_a6fb_107b449f15fcrow1_col0\" class=\"data row1 col0\" >0.01532</td>\n",
       "            </tr>\n",
       "            <tr>\n",
       "                        <th id=\"T_45937102_0f60_11ea_a6fb_107b449f15fclevel0_row2\" class=\"row_heading level0 row2\" >среднее_класс</th>\n",
       "                        <td id=\"T_45937102_0f60_11ea_a6fb_107b449f15fcrow2_col0\" class=\"data row2 col0\" >0.01196</td>\n",
       "            </tr>\n",
       "            <tr>\n",
       "                        <th id=\"T_45937102_0f60_11ea_a6fb_107b449f15fclevel0_row3\" class=\"row_heading level0 row3\" >социальный_топология</th>\n",
       "                        <td id=\"T_45937102_0f60_11ea_a6fb_107b449f15fcrow3_col0\" class=\"data row3 col0\" >0.00811</td>\n",
       "            </tr>\n",
       "            <tr>\n",
       "                        <th id=\"T_45937102_0f60_11ea_a6fb_107b449f15fclevel0_row4\" class=\"row_heading level0 row4\" >творческий_способность</th>\n",
       "                        <td id=\"T_45937102_0f60_11ea_a6fb_107b449f15fcrow4_col0\" class=\"data row4 col0\" >0.00674</td>\n",
       "            </tr>\n",
       "            <tr>\n",
       "                        <th id=\"T_45937102_0f60_11ea_a6fb_107b449f15fclevel0_row5\" class=\"row_heading level0 row5\" >практический_занятие</th>\n",
       "                        <td id=\"T_45937102_0f60_11ea_a6fb_107b449f15fcrow5_col0\" class=\"data row5 col0\" >0.00633</td>\n",
       "            </tr>\n",
       "            <tr>\n",
       "                        <th id=\"T_45937102_0f60_11ea_a6fb_107b449f15fclevel0_row6\" class=\"row_heading level0 row6\" >психология_мышление</th>\n",
       "                        <td id=\"T_45937102_0f60_11ea_a6fb_107b449f15fcrow6_col0\" class=\"data row6 col0\" >0.00624</td>\n",
       "            </tr>\n",
       "            <tr>\n",
       "                        <th id=\"T_45937102_0f60_11ea_a6fb_107b449f15fclevel0_row7\" class=\"row_heading level0 row7\" >газовый_оболочка</th>\n",
       "                        <td id=\"T_45937102_0f60_11ea_a6fb_107b449f15fcrow7_col0\" class=\"data row7 col0\" >0.00566</td>\n",
       "            </tr>\n",
       "            <tr>\n",
       "                        <th id=\"T_45937102_0f60_11ea_a6fb_107b449f15fclevel0_row8\" class=\"row_heading level0 row8\" >сильный_землетрясение</th>\n",
       "                        <td id=\"T_45937102_0f60_11ea_a6fb_107b449f15fcrow8_col0\" class=\"data row8 col0\" >0.00549</td>\n",
       "            </tr>\n",
       "            <tr>\n",
       "                        <th id=\"T_45937102_0f60_11ea_a6fb_107b449f15fclevel0_row9\" class=\"row_heading level0 row9\" >процесс_решение</th>\n",
       "                        <td id=\"T_45937102_0f60_11ea_a6fb_107b449f15fcrow9_col0\" class=\"data row9 col0\" >0.00549</td>\n",
       "            </tr>\n",
       "    </tbody></table><style  type=\"text/css\" >\n",
       "</style><table id=\"T_45937103_0f60_11ea_a6fb_107b449f15fc\" style='display:inline'><thead>    <tr>        <th class=\"blank level0\" ></th>        <th class=\"col_heading level0 col0\" >topic_31 @word</th>    </tr></thead><tbody>\n",
       "                <tr>\n",
       "                        <th id=\"T_45937103_0f60_11ea_a6fb_107b449f15fclevel0_row0\" class=\"row_heading level0 row0\" >божество</th>\n",
       "                        <td id=\"T_45937103_0f60_11ea_a6fb_107b449f15fcrow0_col0\" class=\"data row0 col0\" >0.22262</td>\n",
       "            </tr>\n",
       "            <tr>\n",
       "                        <th id=\"T_45937103_0f60_11ea_a6fb_107b449f15fclevel0_row1\" class=\"row_heading level0 row1\" >сетевой</th>\n",
       "                        <td id=\"T_45937103_0f60_11ea_a6fb_107b449f15fcrow1_col0\" class=\"data row1 col0\" >0.18381</td>\n",
       "            </tr>\n",
       "            <tr>\n",
       "                        <th id=\"T_45937103_0f60_11ea_a6fb_107b449f15fclevel0_row2\" class=\"row_heading level0 row2\" >собака</th>\n",
       "                        <td id=\"T_45937103_0f60_11ea_a6fb_107b449f15fcrow2_col0\" class=\"data row2 col0\" >0.16952</td>\n",
       "            </tr>\n",
       "            <tr>\n",
       "                        <th id=\"T_45937103_0f60_11ea_a6fb_107b449f15fclevel0_row3\" class=\"row_heading level0 row3\" >занятие</th>\n",
       "                        <td id=\"T_45937103_0f60_11ea_a6fb_107b449f15fcrow3_col0\" class=\"data row3 col0\" >0.10978</td>\n",
       "            </tr>\n",
       "            <tr>\n",
       "                        <th id=\"T_45937103_0f60_11ea_a6fb_107b449f15fclevel0_row4\" class=\"row_heading level0 row4\" >wi</th>\n",
       "                        <td id=\"T_45937103_0f60_11ea_a6fb_107b449f15fcrow4_col0\" class=\"data row4 col0\" >0.05923</td>\n",
       "            </tr>\n",
       "            <tr>\n",
       "                        <th id=\"T_45937103_0f60_11ea_a6fb_107b449f15fclevel0_row5\" class=\"row_heading level0 row5\" >postnauka</th>\n",
       "                        <td id=\"T_45937103_0f60_11ea_a6fb_107b449f15fcrow5_col0\" class=\"data row5 col0\" >0.04697</td>\n",
       "            </tr>\n",
       "            <tr>\n",
       "                        <th id=\"T_45937103_0f60_11ea_a6fb_107b449f15fclevel0_row6\" class=\"row_heading level0 row6\" >academy</th>\n",
       "                        <td id=\"T_45937103_0f60_11ea_a6fb_107b449f15fcrow6_col0\" class=\"data row6 col0\" >0.04085</td>\n",
       "            </tr>\n",
       "            <tr>\n",
       "                        <th id=\"T_45937103_0f60_11ea_a6fb_107b449f15fclevel0_row7\" class=\"row_heading level0 row7\" >ло</th>\n",
       "                        <td id=\"T_45937103_0f60_11ea_a6fb_107b449f15fcrow7_col0\" class=\"data row7 col0\" >0.04085</td>\n",
       "            </tr>\n",
       "            <tr>\n",
       "                        <th id=\"T_45937103_0f60_11ea_a6fb_107b449f15fclevel0_row8\" class=\"row_heading level0 row8\" >непрерывность</th>\n",
       "                        <td id=\"T_45937103_0f60_11ea_a6fb_107b449f15fcrow8_col0\" class=\"data row8 col0\" >0.03072</td>\n",
       "            </tr>\n",
       "            <tr>\n",
       "                        <th id=\"T_45937103_0f60_11ea_a6fb_107b449f15fclevel0_row9\" class=\"row_heading level0 row9\" >принтер</th>\n",
       "                        <td id=\"T_45937103_0f60_11ea_a6fb_107b449f15fcrow9_col0\" class=\"data row9 col0\" >0.03064</td>\n",
       "            </tr>\n",
       "    </tbody></table>"
      ]
     },
     "metadata": {},
     "output_type": "display_data"
    },
    {
     "data": {
      "text/html": [
       "<b> средний класс </b><br /> экономист леонид григорьев о характеристиках, сфере деятельности и политических воззрениях среднего класса"
      ]
     },
     "metadata": {},
     "output_type": "display_data"
    },
    {
     "data": {
      "text/html": [
       "<b> метод оценки эндотелиальной функции </b><br /> кардиолог александр парфенов о значении эндотелиальных клеток, доставке кислорода к тканям и фотоплетизмографии"
      ]
     },
     "metadata": {},
     "output_type": "display_data"
    },
    {
     "data": {
      "text/html": [
       "<b> социальная структура </b><br /> экономист леонид григорьев о понятии среднего класса у маркса, финансовом олигархате, присяжных и карьере"
      ]
     },
     "metadata": {},
     "output_type": "display_data"
    },
    {
     "data": {
      "text/html": [
       "<b> эндотелиальная клетка </b><br /> кардиолог александр парфенов о функции эндотелия, спортивной медицине и факторах риска"
      ]
     },
     "metadata": {},
     "output_type": "display_data"
    },
    {
     "data": {
      "text/html": [
       "<b> курс «теория принятия решенийматематические модели выбора» </b><br /> 28, 30 марта и 1 апреля в академии постнауки"
      ]
     },
     "metadata": {},
     "output_type": "display_data"
    },
    {
     "data": {
      "text/html": [
       "<b> социальная топология </b><br /> социолог виктор вахштайн об экспорте топологии, устойчивых отношениях и объектах-потоках"
      ]
     },
     "metadata": {},
     "output_type": "display_data"
    },
    {
     "data": {
      "text/html": [
       "<b> субботний интенсив «общая и специальная теория относительности» </b><br /> 2 апреля с 12:00 до 19:00 в академии постнауки"
      ]
     },
     "metadata": {},
     "output_type": "display_data"
    },
    {
     "data": {
      "text/html": [
       "<b> курс «психология творчествакак рождаются креативные решения» </b><br /> 22, 24, 26 февраля в академии постнауки"
      ]
     },
     "metadata": {},
     "output_type": "display_data"
    },
    {
     "data": {
      "text/html": [
       "<b> атмосферы экзопланет </b><br /> астрофизик сергей попов о способах изучения атмосферы, структуре внешних слоев газовой оболочки планет и горячих юпитерах"
      ]
     },
     "metadata": {},
     "output_type": "display_data"
    },
    {
     "data": {
      "text/html": [
       "<b> курс «основы молекулярной биологии» </b><br /> 7, 9 и 11 марта в академии постнауки"
      ]
     },
     "metadata": {},
     "output_type": "display_data"
    },
    {
     "data": {
      "text/html": [
       "<style  type=\"text/css\" >\n",
       "</style><table id=\"T_45937104_0f60_11ea_a6fb_107b449f15fc\" style='display:inline'><thead>    <tr>        <th class=\"blank level0\" ></th>        <th class=\"col_heading level0 col0\" >topic_32 @2gramm</th>    </tr></thead><tbody>\n",
       "                <tr>\n",
       "                        <th id=\"T_45937104_0f60_11ea_a6fb_107b449f15fclevel0_row0\" class=\"row_heading level0 row0\" >нейтронный_звезда</th>\n",
       "                        <td id=\"T_45937104_0f60_11ea_a6fb_107b449f15fcrow0_col0\" class=\"data row0 col0\" >0.09699</td>\n",
       "            </tr>\n",
       "            <tr>\n",
       "                        <th id=\"T_45937104_0f60_11ea_a6fb_107b449f15fclevel0_row1\" class=\"row_heading level0 row1\" >белый_карлик</th>\n",
       "                        <td id=\"T_45937104_0f60_11ea_a6fb_107b449f15fcrow1_col0\" class=\"data row1 col0\" >0.02191</td>\n",
       "            </tr>\n",
       "            <tr>\n",
       "                        <th id=\"T_45937104_0f60_11ea_a6fb_107b449f15fclevel0_row2\" class=\"row_heading level0 row2\" >белых_карлик</th>\n",
       "                        <td id=\"T_45937104_0f60_11ea_a6fb_107b449f15fcrow2_col0\" class=\"data row2 col0\" >0.02171</td>\n",
       "            </tr>\n",
       "            <tr>\n",
       "                        <th id=\"T_45937104_0f60_11ea_a6fb_107b449f15fclevel0_row3\" class=\"row_heading level0 row3\" >компактный_объект</th>\n",
       "                        <td id=\"T_45937104_0f60_11ea_a6fb_107b449f15fcrow3_col0\" class=\"data row3 col0\" >0.01628</td>\n",
       "            </tr>\n",
       "            <tr>\n",
       "                        <th id=\"T_45937104_0f60_11ea_a6fb_107b449f15fclevel0_row4\" class=\"row_heading level0 row4\" >белые_карлик</th>\n",
       "                        <td id=\"T_45937104_0f60_11ea_a6fb_107b449f15fcrow4_col0\" class=\"data row4 col0\" >0.01298</td>\n",
       "            </tr>\n",
       "            <tr>\n",
       "                        <th id=\"T_45937104_0f60_11ea_a6fb_107b449f15fclevel0_row5\" class=\"row_heading level0 row5\" >магнитный_поль</th>\n",
       "                        <td id=\"T_45937104_0f60_11ea_a6fb_107b449f15fcrow5_col0\" class=\"data row5 col0\" >0.01254</td>\n",
       "            </tr>\n",
       "            <tr>\n",
       "                        <th id=\"T_45937104_0f60_11ea_a6fb_107b449f15fclevel0_row6\" class=\"row_heading level0 row6\" >чёрный_дыра</th>\n",
       "                        <td id=\"T_45937104_0f60_11ea_a6fb_107b449f15fcrow6_col0\" class=\"data row6 col0\" >0.01199</td>\n",
       "            </tr>\n",
       "            <tr>\n",
       "                        <th id=\"T_45937104_0f60_11ea_a6fb_107b449f15fclevel0_row7\" class=\"row_heading level0 row7\" >термоядерный_реакция</th>\n",
       "                        <td id=\"T_45937104_0f60_11ea_a6fb_107b449f15fcrow7_col0\" class=\"data row7 col0\" >0.01052</td>\n",
       "            </tr>\n",
       "            <tr>\n",
       "                        <th id=\"T_45937104_0f60_11ea_a6fb_107b449f15fclevel0_row8\" class=\"row_heading level0 row8\" >кварковый_звезда</th>\n",
       "                        <td id=\"T_45937104_0f60_11ea_a6fb_107b449f15fcrow8_col0\" class=\"data row8 col0\" >0.00704</td>\n",
       "            </tr>\n",
       "            <tr>\n",
       "                        <th id=\"T_45937104_0f60_11ea_a6fb_107b449f15fclevel0_row9\" class=\"row_heading level0 row9\" >сверхновый_звезда</th>\n",
       "                        <td id=\"T_45937104_0f60_11ea_a6fb_107b449f15fcrow9_col0\" class=\"data row9 col0\" >0.00642</td>\n",
       "            </tr>\n",
       "    </tbody></table><style  type=\"text/css\" >\n",
       "</style><table id=\"T_45937105_0f60_11ea_a6fb_107b449f15fc\" style='display:inline'><thead>    <tr>        <th class=\"blank level0\" ></th>        <th class=\"col_heading level0 col0\" >topic_32 @word</th>    </tr></thead><tbody>\n",
       "                <tr>\n",
       "                        <th id=\"T_45937105_0f60_11ea_a6fb_107b449f15fclevel0_row0\" class=\"row_heading level0 row0\" >излучение</th>\n",
       "                        <td id=\"T_45937105_0f60_11ea_a6fb_107b449f15fcrow0_col0\" class=\"data row0 col0\" >0.2388</td>\n",
       "            </tr>\n",
       "            <tr>\n",
       "                        <th id=\"T_45937105_0f60_11ea_a6fb_107b449f15fclevel0_row1\" class=\"row_heading level0 row1\" >плотность</th>\n",
       "                        <td id=\"T_45937105_0f60_11ea_a6fb_107b449f15fcrow1_col0\" class=\"data row1 col0\" >0.1595</td>\n",
       "            </tr>\n",
       "            <tr>\n",
       "                        <th id=\"T_45937105_0f60_11ea_a6fb_107b449f15fclevel0_row2\" class=\"row_heading level0 row2\" >старение</th>\n",
       "                        <td id=\"T_45937105_0f60_11ea_a6fb_107b449f15fcrow2_col0\" class=\"data row2 col0\" >0.14328</td>\n",
       "            </tr>\n",
       "            <tr>\n",
       "                        <th id=\"T_45937105_0f60_11ea_a6fb_107b449f15fclevel0_row3\" class=\"row_heading level0 row3\" >фермент</th>\n",
       "                        <td id=\"T_45937105_0f60_11ea_a6fb_107b449f15fcrow3_col0\" class=\"data row3 col0\" >0.13066</td>\n",
       "            </tr>\n",
       "            <tr>\n",
       "                        <th id=\"T_45937105_0f60_11ea_a6fb_107b449f15fclevel0_row4\" class=\"row_heading level0 row4\" >секунда</th>\n",
       "                        <td id=\"T_45937105_0f60_11ea_a6fb_107b449f15fcrow4_col0\" class=\"data row4 col0\" >0.05744</td>\n",
       "            </tr>\n",
       "            <tr>\n",
       "                        <th id=\"T_45937105_0f60_11ea_a6fb_107b449f15fclevel0_row5\" class=\"row_heading level0 row5\" >холодный</th>\n",
       "                        <td id=\"T_45937105_0f60_11ea_a6fb_107b449f15fcrow5_col0\" class=\"data row5 col0\" >0.04137</td>\n",
       "            </tr>\n",
       "            <tr>\n",
       "                        <th id=\"T_45937105_0f60_11ea_a6fb_107b449f15fclevel0_row6\" class=\"row_heading level0 row6\" >натяжение</th>\n",
       "                        <td id=\"T_45937105_0f60_11ea_a6fb_107b449f15fcrow6_col0\" class=\"data row6 col0\" >0.01982</td>\n",
       "            </tr>\n",
       "            <tr>\n",
       "                        <th id=\"T_45937105_0f60_11ea_a6fb_107b449f15fclevel0_row7\" class=\"row_heading level0 row7\" >конус</th>\n",
       "                        <td id=\"T_45937105_0f60_11ea_a6fb_107b449f15fcrow7_col0\" class=\"data row7 col0\" >0.01918</td>\n",
       "            </tr>\n",
       "            <tr>\n",
       "                        <th id=\"T_45937105_0f60_11ea_a6fb_107b449f15fclevel0_row8\" class=\"row_heading level0 row8\" >cdm</th>\n",
       "                        <td id=\"T_45937105_0f60_11ea_a6fb_107b449f15fcrow8_col0\" class=\"data row8 col0\" >0.01712</td>\n",
       "            </tr>\n",
       "            <tr>\n",
       "                        <th id=\"T_45937105_0f60_11ea_a6fb_107b449f15fclevel0_row9\" class=\"row_heading level0 row9\" >пульсация</th>\n",
       "                        <td id=\"T_45937105_0f60_11ea_a6fb_107b449f15fcrow9_col0\" class=\"data row9 col0\" >0.01532</td>\n",
       "            </tr>\n",
       "    </tbody></table>"
      ]
     },
     "metadata": {},
     "output_type": "display_data"
    },
    {
     "data": {
      "text/html": [
       "<b> пограничные слои вблизи компактных объектов </b><br /> астрофизик валерий сулейманов о возникновении аккреционных дисков, звездном ветре и веществе вокруг нейтронных звезд"
      ]
     },
     "metadata": {},
     "output_type": "display_data"
    },
    {
     "data": {
      "text/html": [
       "<b> рентгеновское небо </b><br /> астрофизик анатолий засов об источниках рентгеновского излучения, гамма-всплесках и солнечном ветре"
      ]
     },
     "metadata": {},
     "output_type": "display_data"
    },
    {
     "data": {
      "text/html": [
       "<b> недра нейтронных звезд </b><br /> астрофизик сергей попов об экстремальных состояниях вещества, составе нейтронных звезд и способах изучения недр"
      ]
     },
     "metadata": {},
     "output_type": "display_data"
    },
    {
     "data": {
      "text/html": [
       "<b> рентгеновская астрономия </b><br /> астрофизик михаил ревнивцев об экспериментах риккардо джаккони, излучении космического рентгеновского фона и рентгеновских телескопах"
      ]
     },
     "metadata": {},
     "output_type": "display_data"
    },
    {
     "data": {
      "text/html": [
       "<b> нейтронные звезды и черные дыры </b><br /> 13 лекций о физике компактных объектов, отобранных астрофизиком сергеем поповым"
      ]
     },
     "metadata": {},
     "output_type": "display_data"
    },
    {
     "data": {
      "text/html": [
       "<b> великое объединение нейтронных звезд </b><br /> астрофизик сергей попов об открытии магнитаров, физике одиночных объектов и эволюции магнитного поля"
      ]
     },
     "metadata": {},
     "output_type": "display_data"
    },
    {
     "data": {
      "text/html": [
       "<b> обнаружена самая яркая нейтронная звезда </b><br /> о пределе эддингтона, ультраярких рентгеновских источниках и тесных двойных системах"
      ]
     },
     "metadata": {},
     "output_type": "display_data"
    },
    {
     "data": {
      "text/html": [
       "<b> ударные волны вблизи компактных объектов </b><br /> астрофизик валерий сулейманов о нейтронных звездах, гравитации на космических кораблях и ньютоновском пределе"
      ]
     },
     "metadata": {},
     "output_type": "display_data"
    },
    {
     "data": {
      "text/html": [
       "<b> компактные объекты и фундаментальная физика </b><br /> астрофизик сергей попов о сверхтекучей жидкости в нейтронных звездах, гипотезе о кварковом веществе и гравитационных волнах"
      ]
     },
     "metadata": {},
     "output_type": "display_data"
    },
    {
     "data": {
      "text/html": [
       "<b> ультрамощные рентгеновские источники </b><br /> астрофизик сергей попов о верхнем пределе светимости, давлении света и теориях происхождения ультрамощных рентгеновских источников"
      ]
     },
     "metadata": {},
     "output_type": "display_data"
    },
    {
     "data": {
      "text/html": [
       "<style  type=\"text/css\" >\n",
       "</style><table id=\"T_45937106_0f60_11ea_a6fb_107b449f15fc\" style='display:inline'><thead>    <tr>        <th class=\"blank level0\" ></th>        <th class=\"col_heading level0 col0\" >topic_33 @2gramm</th>    </tr></thead><tbody>\n",
       "                <tr>\n",
       "                        <th id=\"T_45937106_0f60_11ea_a6fb_107b449f15fclevel0_row0\" class=\"row_heading level0 row0\" >средний_век</th>\n",
       "                        <td id=\"T_45937106_0f60_11ea_a6fb_107b449f15fcrow0_col0\" class=\"data row0 col0\" >0.0251</td>\n",
       "            </tr>\n",
       "            <tr>\n",
       "                        <th id=\"T_45937106_0f60_11ea_a6fb_107b449f15fclevel0_row1\" class=\"row_heading level0 row1\" >xiii_век</th>\n",
       "                        <td id=\"T_45937106_0f60_11ea_a6fb_107b449f15fcrow1_col0\" class=\"data row1 col0\" >0.01775</td>\n",
       "            </tr>\n",
       "            <tr>\n",
       "                        <th id=\"T_45937106_0f60_11ea_a6fb_107b449f15fclevel0_row2\" class=\"row_heading level0 row2\" >xii_век</th>\n",
       "                        <td id=\"T_45937106_0f60_11ea_a6fb_107b449f15fcrow2_col0\" class=\"data row2 col0\" >0.0154</td>\n",
       "            </tr>\n",
       "            <tr>\n",
       "                        <th id=\"T_45937106_0f60_11ea_a6fb_107b449f15fclevel0_row3\" class=\"row_heading level0 row3\" >фома_аквинский</th>\n",
       "                        <td id=\"T_45937106_0f60_11ea_a6fb_107b449f15fcrow3_col0\" class=\"data row3 col0\" >0.01042</td>\n",
       "            </tr>\n",
       "            <tr>\n",
       "                        <th id=\"T_45937106_0f60_11ea_a6fb_107b449f15fclevel0_row4\" class=\"row_heading level0 row4\" >священный_писание</th>\n",
       "                        <td id=\"T_45937106_0f60_11ea_a6fb_107b449f15fcrow4_col0\" class=\"data row4 col0\" >0.00997</td>\n",
       "            </tr>\n",
       "            <tr>\n",
       "                        <th id=\"T_45937106_0f60_11ea_a6fb_107b449f15fclevel0_row5\" class=\"row_heading level0 row5\" >xv_век</th>\n",
       "                        <td id=\"T_45937106_0f60_11ea_a6fb_107b449f15fcrow5_col0\" class=\"data row5 col0\" >0.00895</td>\n",
       "            </tr>\n",
       "            <tr>\n",
       "                        <th id=\"T_45937106_0f60_11ea_a6fb_107b449f15fclevel0_row6\" class=\"row_heading level0 row6\" >молекулярный_машина</th>\n",
       "                        <td id=\"T_45937106_0f60_11ea_a6fb_107b449f15fcrow6_col0\" class=\"data row6 col0\" >0.00892</td>\n",
       "            </tr>\n",
       "            <tr>\n",
       "                        <th id=\"T_45937106_0f60_11ea_a6fb_107b449f15fclevel0_row7\" class=\"row_heading level0 row7\" >политический_мысль</th>\n",
       "                        <td id=\"T_45937106_0f60_11ea_a6fb_107b449f15fcrow7_col0\" class=\"data row7 col0\" >0.00873</td>\n",
       "            </tr>\n",
       "            <tr>\n",
       "                        <th id=\"T_45937106_0f60_11ea_a6fb_107b449f15fclevel0_row8\" class=\"row_heading level0 row8\" >политический_философия</th>\n",
       "                        <td id=\"T_45937106_0f60_11ea_a6fb_107b449f15fcrow8_col0\" class=\"data row8 col0\" >0.00871</td>\n",
       "            </tr>\n",
       "            <tr>\n",
       "                        <th id=\"T_45937106_0f60_11ea_a6fb_107b449f15fclevel0_row9\" class=\"row_heading level0 row9\" >ix_век</th>\n",
       "                        <td id=\"T_45937106_0f60_11ea_a6fb_107b449f15fcrow9_col0\" class=\"data row9 col0\" >0.00814</td>\n",
       "            </tr>\n",
       "    </tbody></table><style  type=\"text/css\" >\n",
       "</style><table id=\"T_45937107_0f60_11ea_a6fb_107b449f15fc\" style='display:inline'><thead>    <tr>        <th class=\"blank level0\" ></th>        <th class=\"col_heading level0 col0\" >topic_33 @word</th>    </tr></thead><tbody>\n",
       "                <tr>\n",
       "                        <th id=\"T_45937107_0f60_11ea_a6fb_107b449f15fclevel0_row0\" class=\"row_heading level0 row0\" >государь</th>\n",
       "                        <td id=\"T_45937107_0f60_11ea_a6fb_107b449f15fcrow0_col0\" class=\"data row0 col0\" >0.10212</td>\n",
       "            </tr>\n",
       "            <tr>\n",
       "                        <th id=\"T_45937107_0f60_11ea_a6fb_107b449f15fclevel0_row1\" class=\"row_heading level0 row1\" >неандерталец</th>\n",
       "                        <td id=\"T_45937107_0f60_11ea_a6fb_107b449f15fcrow1_col0\" class=\"data row1 col0\" >0.10025</td>\n",
       "            </tr>\n",
       "            <tr>\n",
       "                        <th id=\"T_45937107_0f60_11ea_a6fb_107b449f15fclevel0_row2\" class=\"row_heading level0 row2\" >эра</th>\n",
       "                        <td id=\"T_45937107_0f60_11ea_a6fb_107b449f15fcrow2_col0\" class=\"data row2 col0\" >0.07585</td>\n",
       "            </tr>\n",
       "            <tr>\n",
       "                        <th id=\"T_45937107_0f60_11ea_a6fb_107b449f15fclevel0_row3\" class=\"row_heading level0 row3\" >заимствование</th>\n",
       "                        <td id=\"T_45937107_0f60_11ea_a6fb_107b449f15fcrow3_col0\" class=\"data row3 col0\" >0.07348</td>\n",
       "            </tr>\n",
       "            <tr>\n",
       "                        <th id=\"T_45937107_0f60_11ea_a6fb_107b449f15fclevel0_row4\" class=\"row_heading level0 row4\" >гражданство</th>\n",
       "                        <td id=\"T_45937107_0f60_11ea_a6fb_107b449f15fcrow4_col0\" class=\"data row4 col0\" >0.06663</td>\n",
       "            </tr>\n",
       "            <tr>\n",
       "                        <th id=\"T_45937107_0f60_11ea_a6fb_107b449f15fclevel0_row5\" class=\"row_heading level0 row5\" >славянский</th>\n",
       "                        <td id=\"T_45937107_0f60_11ea_a6fb_107b449f15fcrow5_col0\" class=\"data row5 col0\" >0.06289</td>\n",
       "            </tr>\n",
       "            <tr>\n",
       "                        <th id=\"T_45937107_0f60_11ea_a6fb_107b449f15fclevel0_row6\" class=\"row_heading level0 row6\" >археолог</th>\n",
       "                        <td id=\"T_45937107_0f60_11ea_a6fb_107b449f15fcrow6_col0\" class=\"data row6 col0\" >0.05729</td>\n",
       "            </tr>\n",
       "            <tr>\n",
       "                        <th id=\"T_45937107_0f60_11ea_a6fb_107b449f15fclevel0_row7\" class=\"row_heading level0 row7\" >одежда</th>\n",
       "                        <td id=\"T_45937107_0f60_11ea_a6fb_107b449f15fcrow7_col0\" class=\"data row7 col0\" >0.05043</td>\n",
       "            </tr>\n",
       "            <tr>\n",
       "                        <th id=\"T_45937107_0f60_11ea_a6fb_107b449f15fclevel0_row8\" class=\"row_heading level0 row8\" >античность</th>\n",
       "                        <td id=\"T_45937107_0f60_11ea_a6fb_107b449f15fcrow8_col0\" class=\"data row8 col0\" >0.03646</td>\n",
       "            </tr>\n",
       "            <tr>\n",
       "                        <th id=\"T_45937107_0f60_11ea_a6fb_107b449f15fclevel0_row9\" class=\"row_heading level0 row9\" >корень</th>\n",
       "                        <td id=\"T_45937107_0f60_11ea_a6fb_107b449f15fcrow9_col0\" class=\"data row9 col0\" >0.0239</td>\n",
       "            </tr>\n",
       "    </tbody></table>"
      ]
     },
     "metadata": {},
     "output_type": "display_data"
    },
    {
     "data": {
      "text/html": [
       "<b> позитивная философия науки </b><br /> философ иван болдырев о необходимости анализа, задачах исследования науки и ошибках социологии науки"
      ]
     },
     "metadata": {},
     "output_type": "display_data"
    },
    {
     "data": {
      "text/html": [
       "<b> памятники классического периода истории древнего китая </b><br /> историк марк ульянов об эпиграфических надписях ранних периодов, жанре исторических хроник и каноноведческой школе"
      ]
     },
     "metadata": {},
     "output_type": "display_data"
    },
    {
     "data": {
      "text/html": [
       "<b> современная аналитическая философия </b><br /> философ дмитрий иванов о венском кружке, возрождении метафизики и метаэтике"
      ]
     },
     "metadata": {},
     "output_type": "display_data"
    },
    {
     "data": {
      "text/html": [
       "<b> политическая теория эмоций </b><br /> историк дина гусейнова о философии канта, гендерной идентичности и политических эмоциях"
      ]
     },
     "metadata": {},
     "output_type": "display_data"
    },
    {
     "data": {
      "text/html": [
       "<b> политическая мысль схоластики xii века </b><br /> историк александр марей об августинианстве, университетской культуре и роли монарха в средневековом обществе"
      ]
     },
     "metadata": {},
     "output_type": "display_data"
    },
    {
     "data": {
      "text/html": [
       "<b> понятия власти в средневековой политической теории </b><br /> историк александр марей об развитии идеи власти в средние века и соотношении власти церкви и светских монархов"
      ]
     },
     "metadata": {},
     "output_type": "display_data"
    },
    {
     "data": {
      "text/html": [
       "<b> молекулярные машины </b><br /> физик владик аветисов о сборке структур атомного размера, перспективах доставки лекарств и природных молекулярных машинах в клетках"
      ]
     },
     "metadata": {},
     "output_type": "display_data"
    },
    {
     "data": {
      "text/html": [
       "<b> средневековые ведовские процессы </b><br /> историк ольга тогоева об иллюзиях демонов, договоре с дьяволом и материальности колдовства"
      ]
     },
     "metadata": {},
     "output_type": "display_data"
    },
    {
     "data": {
      "text/html": [
       "<b> история политической мысли древнего мира и средних веков </b><br /> 13 лекций историка александра марея о ключевых этапах развития политических и правовых учений в период с v по xv век нашей эры"
      ]
     },
     "metadata": {},
     "output_type": "display_data"
    },
    {
     "data": {
      "text/html": [
       "<b> новейшая история египта </b><br /> востоковед алексей малашенко об арабском социализме, политическом исламе и ассоциации «братья-мусульмане»"
      ]
     },
     "metadata": {},
     "output_type": "display_data"
    },
    {
     "data": {
      "text/html": [
       "<style  type=\"text/css\" >\n",
       "</style><table id=\"T_45937108_0f60_11ea_a6fb_107b449f15fc\" style='display:inline'><thead>    <tr>        <th class=\"blank level0\" ></th>        <th class=\"col_heading level0 col0\" >topic_34 @2gramm</th>    </tr></thead><tbody>\n",
       "                <tr>\n",
       "                        <th id=\"T_45937108_0f60_11ea_a6fb_107b449f15fclevel0_row0\" class=\"row_heading level0 row0\" >магнитный_поль</th>\n",
       "                        <td id=\"T_45937108_0f60_11ea_a6fb_107b449f15fcrow0_col0\" class=\"data row0 col0\" >0.01928</td>\n",
       "            </tr>\n",
       "            <tr>\n",
       "                        <th id=\"T_45937108_0f60_11ea_a6fb_107b449f15fclevel0_row1\" class=\"row_heading level0 row1\" >органический_химия</th>\n",
       "                        <td id=\"T_45937108_0f60_11ea_a6fb_107b449f15fcrow1_col0\" class=\"data row1 col0\" >0.01867</td>\n",
       "            </tr>\n",
       "            <tr>\n",
       "                        <th id=\"T_45937108_0f60_11ea_a6fb_107b449f15fclevel0_row2\" class=\"row_heading level0 row2\" >магнитный_пол</th>\n",
       "                        <td id=\"T_45937108_0f60_11ea_a6fb_107b449f15fcrow2_col0\" class=\"data row2 col0\" >0.01822</td>\n",
       "            </tr>\n",
       "            <tr>\n",
       "                        <th id=\"T_45937108_0f60_11ea_a6fb_107b449f15fclevel0_row3\" class=\"row_heading level0 row3\" >новый_программа</th>\n",
       "                        <td id=\"T_45937108_0f60_11ea_a6fb_107b449f15fcrow3_col0\" class=\"data row3 col0\" >0.01707</td>\n",
       "            </tr>\n",
       "            <tr>\n",
       "                        <th id=\"T_45937108_0f60_11ea_a6fb_107b449f15fclevel0_row4\" class=\"row_heading level0 row4\" >магнитный_момент</th>\n",
       "                        <td id=\"T_45937108_0f60_11ea_a6fb_107b449f15fcrow4_col0\" class=\"data row4 col0\" >0.00953</td>\n",
       "            </tr>\n",
       "            <tr>\n",
       "                        <th id=\"T_45937108_0f60_11ea_a6fb_107b449f15fclevel0_row5\" class=\"row_heading level0 row5\" >метод_ямр</th>\n",
       "                        <td id=\"T_45937108_0f60_11ea_a6fb_107b449f15fcrow5_col0\" class=\"data row5 col0\" >0.00907</td>\n",
       "            </tr>\n",
       "            <tr>\n",
       "                        <th id=\"T_45937108_0f60_11ea_a6fb_107b449f15fclevel0_row6\" class=\"row_heading level0 row6\" >следовать_ждать</th>\n",
       "                        <td id=\"T_45937108_0f60_11ea_a6fb_107b449f15fcrow6_col0\" class=\"data row6 col0\" >0.00871</td>\n",
       "            </tr>\n",
       "            <tr>\n",
       "                        <th id=\"T_45937108_0f60_11ea_a6fb_107b449f15fclevel0_row7\" class=\"row_heading level0 row7\" >органический_соединение</th>\n",
       "                        <td id=\"T_45937108_0f60_11ea_a6fb_107b449f15fcrow7_col0\" class=\"data row7 col0\" >0.00805</td>\n",
       "            </tr>\n",
       "            <tr>\n",
       "                        <th id=\"T_45937108_0f60_11ea_a6fb_107b449f15fclevel0_row8\" class=\"row_heading level0 row8\" >магнитный_буря</th>\n",
       "                        <td id=\"T_45937108_0f60_11ea_a6fb_107b449f15fcrow8_col0\" class=\"data row8 col0\" >0.00736</td>\n",
       "            </tr>\n",
       "            <tr>\n",
       "                        <th id=\"T_45937108_0f60_11ea_a6fb_107b449f15fclevel0_row9\" class=\"row_heading level0 row9\" >научный_сообщество</th>\n",
       "                        <td id=\"T_45937108_0f60_11ea_a6fb_107b449f15fcrow9_col0\" class=\"data row9 col0\" >0.00708</td>\n",
       "            </tr>\n",
       "    </tbody></table><style  type=\"text/css\" >\n",
       "</style><table id=\"T_45937109_0f60_11ea_a6fb_107b449f15fc\" style='display:inline'><thead>    <tr>        <th class=\"blank level0\" ></th>        <th class=\"col_heading level0 col0\" >topic_34 @word</th>    </tr></thead><tbody>\n",
       "                <tr>\n",
       "                        <th id=\"T_45937109_0f60_11ea_a6fb_107b449f15fclevel0_row0\" class=\"row_heading level0 row0\" >боль</th>\n",
       "                        <td id=\"T_45937109_0f60_11ea_a6fb_107b449f15fcrow0_col0\" class=\"data row0 col0\" >0.31773</td>\n",
       "            </tr>\n",
       "            <tr>\n",
       "                        <th id=\"T_45937109_0f60_11ea_a6fb_107b449f15fclevel0_row1\" class=\"row_heading level0 row1\" >японец</th>\n",
       "                        <td id=\"T_45937109_0f60_11ea_a6fb_107b449f15fcrow1_col0\" class=\"data row1 col0\" >0.26689</td>\n",
       "            </tr>\n",
       "            <tr>\n",
       "                        <th id=\"T_45937109_0f60_11ea_a6fb_107b449f15fclevel0_row2\" class=\"row_heading level0 row2\" >профессия</th>\n",
       "                        <td id=\"T_45937109_0f60_11ea_a6fb_107b449f15fcrow2_col0\" class=\"data row2 col0\" >0.19276</td>\n",
       "            </tr>\n",
       "            <tr>\n",
       "                        <th id=\"T_45937109_0f60_11ea_a6fb_107b449f15fclevel0_row3\" class=\"row_heading level0 row3\" >обезболивать</th>\n",
       "                        <td id=\"T_45937109_0f60_11ea_a6fb_107b449f15fcrow3_col0\" class=\"data row3 col0\" >0.04448</td>\n",
       "            </tr>\n",
       "            <tr>\n",
       "                        <th id=\"T_45937109_0f60_11ea_a6fb_107b449f15fclevel0_row4\" class=\"row_heading level0 row4\" >болевой</th>\n",
       "                        <td id=\"T_45937109_0f60_11ea_a6fb_107b449f15fcrow4_col0\" class=\"data row4 col0\" >0.04025</td>\n",
       "            </tr>\n",
       "            <tr>\n",
       "                        <th id=\"T_45937109_0f60_11ea_a6fb_107b449f15fclevel0_row5\" class=\"row_heading level0 row5\" >жилой</th>\n",
       "                        <td id=\"T_45937109_0f60_11ea_a6fb_107b449f15fcrow5_col0\" class=\"data row5 col0\" >0.02965</td>\n",
       "            </tr>\n",
       "            <tr>\n",
       "                        <th id=\"T_45937109_0f60_11ea_a6fb_107b449f15fclevel0_row6\" class=\"row_heading level0 row6\" >ролик</th>\n",
       "                        <td id=\"T_45937109_0f60_11ea_a6fb_107b449f15fcrow6_col0\" class=\"data row6 col0\" >0.02754</td>\n",
       "            </tr>\n",
       "            <tr>\n",
       "                        <th id=\"T_45937109_0f60_11ea_a6fb_107b449f15fclevel0_row7\" class=\"row_heading level0 row7\" >борода</th>\n",
       "                        <td id=\"T_45937109_0f60_11ea_a6fb_107b449f15fcrow7_col0\" class=\"data row7 col0\" >0.02542</td>\n",
       "            </tr>\n",
       "            <tr>\n",
       "                        <th id=\"T_45937109_0f60_11ea_a6fb_107b449f15fclevel0_row8\" class=\"row_heading level0 row8\" >икра</th>\n",
       "                        <td id=\"T_45937109_0f60_11ea_a6fb_107b449f15fcrow8_col0\" class=\"data row8 col0\" >0.02542</td>\n",
       "            </tr>\n",
       "            <tr>\n",
       "                        <th id=\"T_45937109_0f60_11ea_a6fb_107b449f15fclevel0_row9\" class=\"row_heading level0 row9\" >островок</th>\n",
       "                        <td id=\"T_45937109_0f60_11ea_a6fb_107b449f15fcrow9_col0\" class=\"data row9 col0\" >0.02542</td>\n",
       "            </tr>\n",
       "    </tbody></table>"
      ]
     },
     "metadata": {},
     "output_type": "display_data"
    },
    {
     "data": {
      "text/html": [
       "<b> космическая погода </b><br /> астроном владимир кузнецов о солнечной активности, космических аппаратах  и магнитном щите земли"
      ]
     },
     "metadata": {},
     "output_type": "display_data"
    },
    {
     "data": {
      "text/html": [
       "<b> перспективыдоказательная медицина </b><br /> кардиолог ярослав ашихмин в новой программе «перспективы» рассказывает о защите диссертаций, русской медицинской школе и новом поколении врачей"
      ]
     },
     "metadata": {},
     "output_type": "display_data"
    },
    {
     "data": {
      "text/html": [
       "<b> перспективыфилософия массовой культуры </b><br /> философ александр павлов в новой программе «перспективы» рассказывает об эпохе постмодерна, философии «симпсонов», либертарианстве и славое жижеке"
      ]
     },
     "metadata": {},
     "output_type": "display_data"
    },
    {
     "data": {
      "text/html": [
       "<b> перспективысоциология академической жизни </b><br /> социолог михаил соколов в новой программе «перспективы» рассказывает о социологии науки, деревенских дисциплинах и академической репутации"
      ]
     },
     "metadata": {},
     "output_type": "display_data"
    },
    {
     "data": {
      "text/html": [
       "<b> магнетизм земли </b><br /> астроном владимир кузнецов о переполюсовке, рождении планеты земля и наблюдении за полюсами"
      ]
     },
     "metadata": {},
     "output_type": "display_data"
    },
    {
     "data": {
      "text/html": [
       "<b> гелиосейсмология </b><br /> астроном владимир кузнецов о колебаниях на солнечной поверхности, солнечных циклах и нейтрино"
      ]
     },
     "metadata": {},
     "output_type": "display_data"
    },
    {
     "data": {
      "text/html": [
       "<b> магнитные наночастицы </b><br /> физик владимир белотелов об альтернативе химиотерапии, броуновском механизме и хранении информации с помощью наночастиц"
      ]
     },
     "metadata": {},
     "output_type": "display_data"
    },
    {
     "data": {
      "text/html": [
       "<b> перспективыбыть астрофизиком </b><br /> астрофизик сергей попов в новой программе «перспективы» рассказывает о «теории большого взрыва», астробиологии и космологии"
      ]
     },
     "metadata": {},
     "output_type": "display_data"
    },
    {
     "data": {
      "text/html": [
       "<b> перспективыфизика на коллайдерах </b><br /> физик дмитрий казаков в новой программе «перспективы» рассказывает об открытии бозона хиггса, новых ускорителях и физике элементарных частиц"
      ]
     },
     "metadata": {},
     "output_type": "display_data"
    },
    {
     "data": {
      "text/html": [
       "<b> перспективыфеномен фэнтези </b><br /> филолог  мария штейнман в новой программе «перспективы» рассказывает об ощущении двоемирия,  специфике жанра и гарри поттере"
      ]
     },
     "metadata": {},
     "output_type": "display_data"
    },
    {
     "data": {
      "text/html": [
       "<style  type=\"text/css\" >\n",
       "</style><table id=\"T_4593710a_0f60_11ea_a6fb_107b449f15fc\" style='display:inline'><thead>    <tr>        <th class=\"blank level0\" ></th>        <th class=\"col_heading level0 col0\" >bcg_35 @2gramm</th>    </tr></thead><tbody>\n",
       "                <tr>\n",
       "                        <th id=\"T_4593710a_0f60_11ea_a6fb_107b449f15fclevel0_row0\" class=\"row_heading level0 row0\" >речь_идти</th>\n",
       "                        <td id=\"T_4593710a_0f60_11ea_a6fb_107b449f15fcrow0_col0\" class=\"data row0 col0\" >0.00737</td>\n",
       "            </tr>\n",
       "            <tr>\n",
       "                        <th id=\"T_4593710a_0f60_11ea_a6fb_107b449f15fclevel0_row1\" class=\"row_heading level0 row1\" >крайний_мера</th>\n",
       "                        <td id=\"T_4593710a_0f60_11ea_a6fb_107b449f15fcrow1_col0\" class=\"data row1 col0\" >0.00649</td>\n",
       "            </tr>\n",
       "            <tr>\n",
       "                        <th id=\"T_4593710a_0f60_11ea_a6fb_107b449f15fclevel0_row2\" class=\"row_heading level0 row2\" >xx_век</th>\n",
       "                        <td id=\"T_4593710a_0f60_11ea_a6fb_107b449f15fcrow2_col0\" class=\"data row2 col0\" >0.00612</td>\n",
       "            </tr>\n",
       "            <tr>\n",
       "                        <th id=\"T_4593710a_0f60_11ea_a6fb_107b449f15fclevel0_row3\" class=\"row_heading level0 row3\" >xix_век</th>\n",
       "                        <td id=\"T_4593710a_0f60_11ea_a6fb_107b449f15fcrow3_col0\" class=\"data row3 col0\" >0.0061</td>\n",
       "            </tr>\n",
       "            <tr>\n",
       "                        <th id=\"T_4593710a_0f60_11ea_a6fb_107b449f15fclevel0_row4\" class=\"row_heading level0 row4\" >дать_случай</th>\n",
       "                        <td id=\"T_4593710a_0f60_11ea_a6fb_107b449f15fcrow4_col0\" class=\"data row4 col0\" >0.00577</td>\n",
       "            </tr>\n",
       "            <tr>\n",
       "                        <th id=\"T_4593710a_0f60_11ea_a6fb_107b449f15fclevel0_row5\" class=\"row_heading level0 row5\" >большой_количество</th>\n",
       "                        <td id=\"T_4593710a_0f60_11ea_a6fb_107b449f15fcrow5_col0\" class=\"data row5 col0\" >0.00482</td>\n",
       "            </tr>\n",
       "            <tr>\n",
       "                        <th id=\"T_4593710a_0f60_11ea_a6fb_107b449f15fclevel0_row6\" class=\"row_heading level0 row6\" >огромный_количество</th>\n",
       "                        <td id=\"T_4593710a_0f60_11ea_a6fb_107b449f15fcrow6_col0\" class=\"data row6 col0\" >0.0046</td>\n",
       "            </tr>\n",
       "            <tr>\n",
       "                        <th id=\"T_4593710a_0f60_11ea_a6fb_107b449f15fclevel0_row7\" class=\"row_heading level0 row7\" >друг_друг</th>\n",
       "                        <td id=\"T_4593710a_0f60_11ea_a6fb_107b449f15fcrow7_col0\" class=\"data row7 col0\" >0.00415</td>\n",
       "            </tr>\n",
       "            <tr>\n",
       "                        <th id=\"T_4593710a_0f60_11ea_a6fb_107b449f15fclevel0_row8\" class=\"row_heading level0 row8\" >конец_конец</th>\n",
       "                        <td id=\"T_4593710a_0f60_11ea_a6fb_107b449f15fcrow8_col0\" class=\"data row8 col0\" >0.004</td>\n",
       "            </tr>\n",
       "            <tr>\n",
       "                        <th id=\"T_4593710a_0f60_11ea_a6fb_107b449f15fclevel0_row9\" class=\"row_heading level0 row9\" >мировой_война</th>\n",
       "                        <td id=\"T_4593710a_0f60_11ea_a6fb_107b449f15fcrow9_col0\" class=\"data row9 col0\" >0.00366</td>\n",
       "            </tr>\n",
       "    </tbody></table><style  type=\"text/css\" >\n",
       "</style><table id=\"T_4593710b_0f60_11ea_a6fb_107b449f15fc\" style='display:inline'><thead>    <tr>        <th class=\"blank level0\" ></th>        <th class=\"col_heading level0 col0\" >bcg_35 @word</th>    </tr></thead><tbody>\n",
       "                <tr>\n",
       "                        <th id=\"T_4593710b_0f60_11ea_a6fb_107b449f15fclevel0_row0\" class=\"row_heading level0 row0\" >говорить</th>\n",
       "                        <td id=\"T_4593710b_0f60_11ea_a6fb_107b449f15fcrow0_col0\" class=\"data row0 col0\" >0.00307</td>\n",
       "            </tr>\n",
       "            <tr>\n",
       "                        <th id=\"T_4593710b_0f60_11ea_a6fb_107b449f15fclevel0_row1\" class=\"row_heading level0 row1\" >являться</th>\n",
       "                        <td id=\"T_4593710b_0f60_11ea_a6fb_107b449f15fcrow1_col0\" class=\"data row1 col0\" >0.0029</td>\n",
       "            </tr>\n",
       "            <tr>\n",
       "                        <th id=\"T_4593710b_0f60_11ea_a6fb_107b449f15fclevel0_row2\" class=\"row_heading level0 row2\" >большой</th>\n",
       "                        <td id=\"T_4593710b_0f60_11ea_a6fb_107b449f15fcrow2_col0\" class=\"data row2 col0\" >0.00281</td>\n",
       "            </tr>\n",
       "            <tr>\n",
       "                        <th id=\"T_4593710b_0f60_11ea_a6fb_107b449f15fclevel0_row3\" class=\"row_heading level0 row3\" >язык</th>\n",
       "                        <td id=\"T_4593710b_0f60_11ea_a6fb_107b449f15fcrow3_col0\" class=\"data row3 col0\" >0.00269</td>\n",
       "            </tr>\n",
       "            <tr>\n",
       "                        <th id=\"T_4593710b_0f60_11ea_a6fb_107b449f15fclevel0_row4\" class=\"row_heading level0 row4\" >должный</th>\n",
       "                        <td id=\"T_4593710b_0f60_11ea_a6fb_107b449f15fcrow4_col0\" class=\"data row4 col0\" >0.00257</td>\n",
       "            </tr>\n",
       "            <tr>\n",
       "                        <th id=\"T_4593710b_0f60_11ea_a6fb_107b449f15fclevel0_row5\" class=\"row_heading level0 row5\" >образ</th>\n",
       "                        <td id=\"T_4593710b_0f60_11ea_a6fb_107b449f15fcrow5_col0\" class=\"data row5 col0\" >0.00255</td>\n",
       "            </tr>\n",
       "            <tr>\n",
       "                        <th id=\"T_4593710b_0f60_11ea_a6fb_107b449f15fclevel0_row6\" class=\"row_heading level0 row6\" >существовать</th>\n",
       "                        <td id=\"T_4593710b_0f60_11ea_a6fb_107b449f15fcrow6_col0\" class=\"data row6 col0\" >0.00245</td>\n",
       "            </tr>\n",
       "            <tr>\n",
       "                        <th id=\"T_4593710b_0f60_11ea_a6fb_107b449f15fclevel0_row7\" class=\"row_heading level0 row7\" >стать</th>\n",
       "                        <td id=\"T_4593710b_0f60_11ea_a6fb_107b449f15fcrow7_col0\" class=\"data row7 col0\" >0.00236</td>\n",
       "            </tr>\n",
       "            <tr>\n",
       "                        <th id=\"T_4593710b_0f60_11ea_a6fb_107b449f15fclevel0_row8\" class=\"row_heading level0 row8\" >работа</th>\n",
       "                        <td id=\"T_4593710b_0f60_11ea_a6fb_107b449f15fcrow8_col0\" class=\"data row8 col0\" >0.00233</td>\n",
       "            </tr>\n",
       "            <tr>\n",
       "                        <th id=\"T_4593710b_0f60_11ea_a6fb_107b449f15fclevel0_row9\" class=\"row_heading level0 row9\" >книга</th>\n",
       "                        <td id=\"T_4593710b_0f60_11ea_a6fb_107b449f15fcrow9_col0\" class=\"data row9 col0\" >0.00228</td>\n",
       "            </tr>\n",
       "    </tbody></table>"
      ]
     },
     "metadata": {},
     "output_type": "display_data"
    },
    {
     "data": {
      "text/html": [
       "<b> поведенческие типы человека </b><br /> биолог дмитрий жуков о реакции на стресс, людях a-типа и связи темперамента с кардиологическими заболеваниями"
      ]
     },
     "metadata": {},
     "output_type": "display_data"
    },
    {
     "data": {
      "text/html": [
       "<b> гидрометеорологические измерения в арктике </b><br /> океанолог сергей писарев о первых арктических экспедициях, роботизированных системах на арктических станциях и технологическом прорыве в этом регионе"
      ]
     },
     "metadata": {},
     "output_type": "display_data"
    },
    {
     "data": {
      "text/html": [
       "<b> faqпроизводство сомнения </b><br /> 7 фактов о спекуляции на сомнении и роли критического мышления в современном обществе"
      ]
     },
     "metadata": {},
     "output_type": "display_data"
    },
    {
     "data": {
      "text/html": [
       "<b> главы # религиоведение в америке </b><br /> отрывок из книги британского историка марка сэджвика «наперекор современному мирутрадиционализм и тайная интеллектуальная история хх века»"
      ]
     },
     "metadata": {},
     "output_type": "display_data"
    },
    {
     "data": {
      "text/html": [
       "<b> русский императорский портрет как символ власти </b><br /> историк екатерина болтунова о социальной функции портрета, комнатах почета и императорских портретах в православных храмах"
      ]
     },
     "metadata": {},
     "output_type": "display_data"
    },
    {
     "data": {
      "text/html": [
       "<b> мотивация хакеров </b><br /> психолог александр войскунский об информационной открытости, хактивизме и опыте потока"
      ]
     },
     "metadata": {},
     "output_type": "display_data"
    },
    {
     "data": {
      "text/html": [
       "<b> точка зрения # физика в школе </b><br /> мнения экспертов постнауки об основных проблемах преподавания физики в средней школе"
      ]
     },
     "metadata": {},
     "output_type": "display_data"
    },
    {
     "data": {
      "text/html": [
       "<b> борьба эллинофилов и мизэллинов </b><br /> историк татьяна бобровникова о катоне старшем, женском трауре и врачебном деле"
      ]
     },
     "metadata": {},
     "output_type": "display_data"
    },
    {
     "data": {
      "text/html": [
       "<b> институт варбурга </b><br /> историк олег воскобойников о культурном шоке,  устройстве библиотеки и современном состоянии института"
      ]
     },
     "metadata": {},
     "output_type": "display_data"
    },
    {
     "data": {
      "text/html": [
       "<b> аттосекундная физика </b><br /> физик андрей савельев-трофимов об аттосекундных импульсах, процессе туннельной ионизации и генерации высоких гармоник"
      ]
     },
     "metadata": {},
     "output_type": "display_data"
    }
   ],
   "source": [
    "from IPython.display import display_html, display\n",
    "from topicnet.cooking_machine.dataset import get_modality_vw\n",
    "from topicnet.viewers.top_tokens_viewer import TopTokensViewer\n",
    "from topicnet.viewers.top_documents_viewer import TopDocumentsViewer\n",
    "first_model_top_tok = TopTokensViewer(best_var1_model, num_top_tokens=10, method='phi')\n",
    "first_model_html =  first_model_top_tok.to_html(first_model_top_tok.view())\n",
    "first_model_top_doc = TopDocumentsViewer(best_var1_model, dataset=dataset).view()\n",
    "n=None\n",
    "for line, topic_docs in list(zip(first_model_html, first_model_top_doc))[:n]:\n",
    "    display_html(line, raw=True)\n",
    "    for doc_id in topic_docs:\n",
    "        doc_vw = dataset.get_vw_document(doc_id).values[0][0]\n",
    "        doc_title = get_modality_vw(doc_vw, \"@title\")\n",
    "        doc_snippet = get_modality_vw(doc_vw, \"@snippet\")\n",
    "        display_html(f\"<b>{doc_title}</b><br />{doc_snippet}\", raw=True)"
   ]
  },
  {
   "cell_type": "code",
   "execution_count": 40,
   "metadata": {},
   "outputs": [
    {
     "name": "stdout",
     "output_type": "stream",
     "text": [
      "['@title Наука третьего класса | @snippet Физик Александр Львовский об измерении траектории квантовых частиц, проблеме этики и восклицательном знаке в науке\\n']\n"
     ]
    },
    {
     "data": {
      "text/html": [
       "<b>8.txt</b><br />@title Перспективы: Квантовые технологии | @snippet Физик Александр Львовский в новой программе  «Перспективы» рассказывает о Российском Квантовом Центре,  «Star Trek» и квантовой криптографии\n"
      ]
     },
     "metadata": {},
     "output_type": "display_data"
    },
    {
     "data": {
      "text/html": [
       "<b>9.txt</b><br />@title Тераностика | @snippet Биолог  Сергей Деев об идее магической пули, гибридных структурах и наночастицах золота\n"
      ]
     },
     "metadata": {},
     "output_type": "display_data"
    },
    {
     "data": {
      "text/html": [
       "<b>26.txt</b><br />@title Русский народный календарь | @snippet Фольклорист Варвара Добровольская о хозяевах времени, плохих датах и различии календарей\n"
      ]
     },
     "metadata": {},
     "output_type": "display_data"
    },
    {
     "name": "stdout",
     "output_type": "stream",
     "text": [
      "['@title Наука третьего класса | @snippet Физик Александр Львовский об измерении траектории квантовых частиц, проблеме этики и восклицательном знаке в науке\\n']\n"
     ]
    },
    {
     "data": {
      "text/html": [
       "<b>1115.txt</b><br />@title Что такое «умный дом»? | @snippet Анимационный фильм ПостНаука Production о концепции «умный дом» и будущем персонализированной электроники\n"
      ]
     },
     "metadata": {},
     "output_type": "display_data"
    },
    {
     "data": {
      "text/html": [
       "<b>3097.txt</b><br />@title «Задача квантовых технологий — научиться управлять светом при помощи света» | @snippet Интервью с физиком Алексеем Акимовым о квантовых вычислениях, ограничениях квантовых линий связи и сложностях управления светом\n"
      ]
     },
     "metadata": {},
     "output_type": "display_data"
    },
    {
     "data": {
      "text/html": [
       "<b>629.txt</b><br />@title Квантовые интерфейсы | @snippet Физик Алексей Акимов о переписывании информации на атом, фотонных кристаллах и плазмонике\n"
      ]
     },
     "metadata": {},
     "output_type": "display_data"
    },
    {
     "name": "stdout",
     "output_type": "stream",
     "text": [
      "['@title Наука третьего класса | @snippet Физик Александр Львовский об измерении траектории квантовых частиц, проблеме этики и восклицательном знаке в науке\\n']\n"
     ]
    },
    {
     "data": {
      "text/html": [
       "<b>296.txt</b><br />@title Квантовый компьютер | @snippet Физик Владимир Шалаев о скорости обработки информации, нанофотонике и квантовой запутанности\n"
      ]
     },
     "metadata": {},
     "output_type": "display_data"
    },
    {
     "data": {
      "text/html": [
       "<b>1115.txt</b><br />@title Что такое «умный дом»? | @snippet Анимационный фильм ПостНаука Production о концепции «умный дом» и будущем персонализированной электроники\n"
      ]
     },
     "metadata": {},
     "output_type": "display_data"
    },
    {
     "data": {
      "text/html": [
       "<b>1616.txt</b><br />@title Вещные права | @snippet Юрист Дмитрий Дождев о понимании права собственности, феодальной системе имущественных прав и узуфрукте\n"
      ]
     },
     "metadata": {},
     "output_type": "display_data"
    }
   ],
   "source": [
    "search_doc = '212.txt'\n",
    "tsdv = TopSimilarDocumentsViewer(best_baseline_model, dataset)\n",
    "dataset.get_source_document(search_doc)['raw_text'].values\n",
    "print(dataset.get_source_document(search_doc)['raw_text'].values)\n",
    "sim_docs, scores = tsdv.view(\n",
    "    search_doc,\n",
    "    metric='euclidean',\n",
    "    num_top_similar=3)\n",
    "for doc_id in sim_docs:\n",
    "    document = dataset.get_source_document(doc_id)\n",
    "    doc_title = document.index.values[0]\n",
    "    doc_snippet = '.'.join(document['raw_text'].values[0].split('.')[:3])\n",
    "    display_html(f\"<b>{doc_title}</b><br />{doc_snippet}\", raw=True)\n",
    "tsdv = TopSimilarDocumentsViewer(best_var1_model, dataset)\n",
    "dataset.get_source_document(search_doc)['raw_text'].values\n",
    "print(dataset.get_source_document(search_doc)['raw_text'].values)\n",
    "sim_docs, scores = tsdv.view(\n",
    "    search_doc,\n",
    "    metric='euclidean',\n",
    "    num_top_similar=3)\n",
    "for doc_id in sim_docs:\n",
    "    document = dataset.get_source_document(doc_id)\n",
    "    doc_title = document.index.values[0]\n",
    "    doc_snippet = '.'.join(document['raw_text'].values[0].split('.')[:3])\n",
    "    display_html(f\"<b>{doc_title}</b><br />{doc_snippet}\", raw=True)\n",
    "tsdv = TopSimilarDocumentsViewer(best_var2_model, dataset)\n",
    "dataset.get_source_document(search_doc)['raw_text'].values\n",
    "print(dataset.get_source_document(search_doc)['raw_text'].values)\n",
    "sim_docs, scores = tsdv.view(\n",
    "    search_doc,\n",
    "    metric='euclidean',\n",
    "    num_top_similar=3)\n",
    "for doc_id in sim_docs:\n",
    "    document = dataset.get_source_document(doc_id)\n",
    "    doc_title = document.index.values[0]\n",
    "    doc_snippet = '.'.join(document['raw_text'].values[0].split('.')[:3])\n",
    "    display_html(f\"<b>{doc_title}</b><br />{doc_snippet}\", raw=True)"
   ]
  },
  {
   "cell_type": "code",
   "execution_count": null,
   "metadata": {},
   "outputs": [],
   "source": []
  },
  {
   "cell_type": "code",
   "execution_count": null,
   "metadata": {},
   "outputs": [],
   "source": []
  },
  {
   "cell_type": "code",
   "execution_count": null,
   "metadata": {},
   "outputs": [],
   "source": []
  }
 ],
 "metadata": {
  "kernelspec": {
   "display_name": "Python 3",
   "language": "python",
   "name": "python3"
  },
  "language_info": {
   "codemirror_mode": {
    "name": "ipython",
    "version": 3
   },
   "file_extension": ".py",
   "mimetype": "text/x-python",
   "name": "python",
   "nbconvert_exporter": "python",
   "pygments_lexer": "ipython3",
   "version": "3.6.9"
  }
 },
 "nbformat": 4,
 "nbformat_minor": 2
}
