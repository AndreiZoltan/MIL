{
 "cells": [
  {
   "cell_type": "code",
   "execution_count": 5,
   "metadata": {},
   "outputs": [],
   "source": [
    "import numpy as np\n",
    "import pandas as pd\n",
    "import matplotlib.pyplot as plt\n",
    "%matplotlib inline\n",
    "import os\n",
    "import time\n",
    "import artm\n",
    "\n",
    "# change log style\n",
    "lc = artm.messages.ConfigureLoggingArgs()\n",
    "lc.minloglevel = 3\n",
    "lib = artm.wrapper.LibArtm(logging_config=lc)\n",
    "\n",
    "import warnings\n",
    "warnings.filterwarnings(\"ignore\", category=DeprecationWarning)"
   ]
  },
  {
   "cell_type": "code",
   "execution_count": 6,
   "metadata": {},
   "outputs": [
    {
     "name": "stdout",
     "output_type": "stream",
     "text": [
      "The autoreload extension is already loaded. To reload it, use:\n",
      "  %reload_ext autoreload\n"
     ]
    }
   ],
   "source": [
    "from copy import deepcopy\n",
    "from topicnet.cooking_machine.models.topic_model import TopicModel\n",
    "from topicnet.cooking_machine.cubes import RegularizersModifierCube\n",
    "\n",
    "from topicnet.cooking_machine.experiment import Experiment\n",
    "from topicnet.cooking_machine.cubes import *\n",
    "from topicnet.cooking_machine.dataset import Dataset\n",
    "\n",
    "%load_ext autoreload\n",
    "%autoreload 2"
   ]
  },
  {
   "cell_type": "code",
   "execution_count": 7,
   "metadata": {},
   "outputs": [],
   "source": [
    "import topicnet.cooking_machine.cubes as tncubes"
   ]
  },
  {
   "cell_type": "code",
   "execution_count": 8,
   "metadata": {},
   "outputs": [
    {
     "data": {
      "text/html": [
       "<style>\n",
       ".container { width:90% !important; }\n",
       "div.output_scroll .output_subarea { white-space: pre; }\n",
       "</style>"
      ],
      "text/plain": [
       "<IPython.core.display.HTML object>"
      ]
     },
     "metadata": {},
     "output_type": "display_data"
    }
   ],
   "source": [
    "from IPython.core.display import display, HTML\n",
    "from IPython.display import clear_output, display_html\n",
    "display(HTML(\"\"\"<style>\n",
    ".container { width:90% !important; }\n",
    "div.output_scroll .output_subarea { white-space: pre; }\n",
    "</style>\"\"\"))"
   ]
  },
  {
   "cell_type": "markdown",
   "metadata": {},
   "source": [
    "### Get dataset"
   ]
  },
  {
   "cell_type": "code",
   "execution_count": 9,
   "metadata": {},
   "outputs": [],
   "source": [
    "DATA_PATH = \"ReadyData.csv\""
   ]
  },
  {
   "cell_type": "code",
   "execution_count": 10,
   "metadata": {},
   "outputs": [
    {
     "name": "stderr",
     "output_type": "stream",
     "text": [
      "/home/sultan/miniconda3/lib/python3.6/site-packages/topicnet/cooking_machine/dataset.py:343: UserWarning: Attempted to use batches for different dataset.Overwriting batches in ReadyData_batches\n",
      "  warnings.warn(W_DIFF_BATCHES_1 + W_DIFF_BATCHES_2.format(batch_vectorizer_path))\n"
     ]
    }
   ],
   "source": [
    "dataset = Dataset(DATA_PATH)\n",
    "dictionary = dataset.get_dictionary()"
   ]
  },
  {
   "cell_type": "markdown",
   "metadata": {},
   "source": [
    "### Make initial model"
   ]
  },
  {
   "cell_type": "code",
   "execution_count": 11,
   "metadata": {},
   "outputs": [
    {
     "data": {
      "text/plain": [
       "[PerplexityScore@all, SparsityThetaScore, SparsityPhiScore@word, PerplexityScore@word, TopicKernel@word]"
      ]
     },
     "execution_count": 11,
     "metadata": {},
     "output_type": "execute_result"
    }
   ],
   "source": [
    "from topicnet.cooking_machine.model_constructor import init_simple_default_model\n",
    "\n",
    "n_topics = 200\n",
    "n_background = 10\n",
    "model_artm = init_simple_default_model(\n",
    "    dataset=dataset,\n",
    "    modalities_to_use=dataset.get_possible_modalities(),\n",
    "    main_modality='@word',\n",
    "    specific_topics=n_topics - n_background,\n",
    "    background_topics=n_background,\n",
    ")\n",
    "specific_topics, background_topics = model_artm.topic_names[:-n_background], model_artm.topic_names[-n_background:]\n",
    "model_artm.scores"
   ]
  },
  {
   "cell_type": "code",
   "execution_count": 12,
   "metadata": {},
   "outputs": [],
   "source": [
    "model_artm.regularizers.add(artm.DecorrelatorPhiRegularizer(\n",
    "        name=\"decorrelation_phi\",\n",
    "        topic_names=specific_topics,\n",
    "        tau=1,\n",
    "        class_ids=['{modality}']))\n",
    "model_artm.regularizers.add(artm.SmoothSparsePhiRegularizer(\n",
    "        name=\"smooth_phi\",\n",
    "        topic_names=specific_topics,\n",
    "        tau=1,\n",
    "        class_ids=['{modality}']))\n",
    "model_artm.regularizers.add(artm.SmoothSparseThetaRegularizer(\n",
    "        name=\"smooth_theta\",\n",
    "        topic_names=specific_topics,\n",
    "        tau=1))"
   ]
  },
  {
   "cell_type": "markdown",
   "metadata": {},
   "source": [
    "### Define Topic Model"
   ]
  },
  {
   "cell_type": "code",
   "execution_count": 15,
   "metadata": {},
   "outputs": [],
   "source": [
    "#scores = {'Perplexy': MyPerplexityScore()}\n",
    "model = TopicModel(model_artm, model_id='MuratDemo')"
   ]
  },
  {
   "cell_type": "code",
   "execution_count": 16,
   "metadata": {},
   "outputs": [],
   "source": [
    "from topicnet.cooking_machine.experiment import Experiment\n",
    "if os.path.exists(f'./ExploratoryResearchDemo') == True:\n",
    "    os.system(\"rm -rf ./ExploratoryResearchDemo\")\n",
    "experiment = Experiment(experiment_id='ExploratoryResearchDemo', save_path='ExploratoryResearchDemo', topic_model=model)"
   ]
  },
  {
   "cell_type": "markdown",
   "metadata": {},
   "source": [
    "### Cubes"
   ]
  },
  {
   "cell_type": "code",
   "execution_count": 18,
   "metadata": {},
   "outputs": [],
   "source": [
    "cube_0 = RegularizersModifierCube(\n",
    "    num_iter=8,\n",
    "    reg_search='mul',\n",
    "    regularizer_parameters=[{\n",
    "            'name':\"decorrelation_phi\"}],\n",
    "    verbose=False,\n",
    "    strategy=PerplexityStrategy(\n",
    "        start_point=100000,\n",
    "        step=10,\n",
    "        max_len=6),\n",
    "    tracked_score_function=retrieve_score_for_strategy('PerplexityScore@all'),\n",
    "    relative_coefficients=False)\n",
    "        \n",
    "cube_1 = RegularizersModifierCube(\n",
    "    num_iter=8,\n",
    "    reg_search='add',\n",
    "    strategy=PerplexityStrategy(\n",
    "            start_point=0.25,\n",
    "            step=0.25,\n",
    "            max_len=6),\n",
    "    regularizer_parameters={\n",
    "        'name':\"smooth_phi\"},\n",
    "    # parameters of this strategy are intended for revision\n",
    "    tracked_score_function=retrieve_score_for_strategy('PerplexityScore@all'),\n",
    "    verbose=False,\n",
    "    relative_coefficients=False)\n",
    "\n",
    "cube_2 = RegularizersModifierCube(\n",
    "    num_iter=8,\n",
    "    reg_search='add',\n",
    "    strategy=PerplexityStrategy(\n",
    "            start_point=-0.5,\n",
    "            step=-0.5,\n",
    "            max_len=6),\n",
    "    regularizer_parameters={\n",
    "        'name':\"sparse_theta\"},\n",
    "    # parameters of this strategy are intended for revision\n",
    "    tracked_score_function=retrieve_score_for_strategy('PerplexityScore@all'),\n",
    "    verbose=False,\n",
    "    relative_coefficients=False)"
   ]
  },
  {
   "cell_type": "code",
   "execution_count": null,
   "metadata": {},
   "outputs": [],
   "source": [
    "start_time = time.time()\n",
    "models = cube_0(model, dataset)\n",
    "print(\"--- %s seconds ---\" % (time.time() - start_time))"
   ]
  },
  {
   "cell_type": "code",
   "execution_count": 13,
   "metadata": {},
   "outputs": [],
   "source": [
    "models = experiment.select(f'PerplexityScore@all -> min COLLECT 1')"
   ]
  },
  {
   "cell_type": "code",
   "execution_count": null,
   "metadata": {},
   "outputs": [],
   "source": [
    "start_time = time.time()\n",
    "models = cube_1(models, dataset)\n",
    "print(\"--- %s seconds ---\" % (time.time() - start_time))"
   ]
  },
  {
   "cell_type": "code",
   "execution_count": null,
   "metadata": {},
   "outputs": [],
   "source": [
    "models = experiment.select(f'PerplexityScore@all < 1.01 * MINIMUM(PerplexityScore@all) and BleiLaffertyScore -> max')"
   ]
  }
 ],
 "metadata": {
  "kernelspec": {
   "display_name": "Python [conda env:root] *",
   "language": "python",
   "name": "conda-root-py"
  },
  "language_info": {
   "codemirror_mode": {
    "name": "ipython",
    "version": 3
   },
   "file_extension": ".py",
   "mimetype": "text/x-python",
   "name": "python",
   "nbconvert_exporter": "python",
   "pygments_lexer": "ipython3",
   "version": "3.6.9"
  }
 },
 "nbformat": 4,
 "nbformat_minor": 2
}
