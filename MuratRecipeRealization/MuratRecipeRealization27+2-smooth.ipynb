{
 "cells": [
  {
   "cell_type": "code",
   "execution_count": 1,
   "metadata": {},
   "outputs": [],
   "source": [
    "import numpy as np\n",
    "import pandas as pd\n",
    "import matplotlib.pyplot as plt\n",
    "%matplotlib inline\n",
    "import os\n",
    "import time\n",
    "import artm\n",
    "\n",
    "# change log style\n",
    "lc = artm.messages.ConfigureLoggingArgs()\n",
    "lc.minloglevel = 3\n",
    "lib = artm.wrapper.LibArtm(logging_config=lc)\n",
    "\n",
    "import warnings\n",
    "warnings.filterwarnings(\"ignore\", category=DeprecationWarning)"
   ]
  },
  {
   "cell_type": "code",
   "execution_count": 2,
   "metadata": {},
   "outputs": [],
   "source": [
    "from copy import deepcopy\n",
    "from topicnet.cooking_machine.models.topic_model import TopicModel\n",
    "from topicnet.cooking_machine.cubes import RegularizersModifierCube\n",
    "from topicnet.cooking_machine.models.blei_lafferty_score import BleiLaffertyScore\n",
    "from topicnet.cooking_machine.config_parser import build_experiment_environment_from_yaml_config\n",
    "\n",
    "from topicnet.cooking_machine.experiment import Experiment\n",
    "from topicnet.cooking_machine.cubes import *\n",
    "from topicnet.cooking_machine.dataset import Dataset\n",
    "\n",
    "%load_ext autoreload\n",
    "%autoreload 2"
   ]
  },
  {
   "cell_type": "code",
   "execution_count": 3,
   "metadata": {},
   "outputs": [],
   "source": [
    "import topicnet.cooking_machine.cubes as tncubes"
   ]
  },
  {
   "cell_type": "code",
   "execution_count": 4,
   "metadata": {},
   "outputs": [
    {
     "data": {
      "text/html": [
       "<style>\n",
       ".container { width:90% !important; }\n",
       "div.output_scroll .output_subarea { white-space: pre; }\n",
       "</style>"
      ],
      "text/plain": [
       "<IPython.core.display.HTML object>"
      ]
     },
     "metadata": {},
     "output_type": "display_data"
    }
   ],
   "source": [
    "from IPython.core.display import display, HTML\n",
    "from IPython.display import clear_output, display_html\n",
    "display(HTML(\"\"\"<style>\n",
    ".container { width:90% !important; }\n",
    "div.output_scroll .output_subarea { white-space: pre; }\n",
    "</style>\"\"\"))"
   ]
  },
  {
   "cell_type": "markdown",
   "metadata": {},
   "source": [
    "### Get dataset"
   ]
  },
  {
   "cell_type": "code",
   "execution_count": 5,
   "metadata": {},
   "outputs": [],
   "source": [
    "DATASET_PATH = \"/home/sultan/datasets/PScience/PScience.csv\""
   ]
  },
  {
   "cell_type": "code",
   "execution_count": 6,
   "metadata": {},
   "outputs": [],
   "source": [
    "dataset = Dataset(DATASET_PATH)\n",
    "dictionary = dataset.get_dictionary()"
   ]
  },
  {
   "cell_type": "code",
   "execution_count": 7,
   "metadata": {},
   "outputs": [
    {
     "name": "stdout",
     "output_type": "stream",
     "text": [
      "{'@post_tag', '@author', '@snippet', '@3gramm', '@2gramm', '@title', '@word'}\n"
     ]
    },
    {
     "data": {
      "text/html": [
       "<div>\n",
       "<style scoped>\n",
       "    .dataframe tbody tr th:only-of-type {\n",
       "        vertical-align: middle;\n",
       "    }\n",
       "\n",
       "    .dataframe tbody tr th {\n",
       "        vertical-align: top;\n",
       "    }\n",
       "\n",
       "    .dataframe thead th {\n",
       "        text-align: right;\n",
       "    }\n",
       "</style>\n",
       "<table border=\"1\" class=\"dataframe\">\n",
       "  <thead>\n",
       "    <tr style=\"text-align: right;\">\n",
       "      <th></th>\n",
       "      <th>vw_text</th>\n",
       "      <th>raw_text</th>\n",
       "    </tr>\n",
       "    <tr>\n",
       "      <th>id</th>\n",
       "      <th></th>\n",
       "      <th></th>\n",
       "    </tr>\n",
       "  </thead>\n",
       "  <tbody>\n",
       "    <tr>\n",
       "      <th>1.txt</th>\n",
       "      <td>1.txt |@author fuchs preobrazhensky tabachniko...</td>\n",
       "      <td>@title Автограф # «Математический дивертисмент...</td>\n",
       "    </tr>\n",
       "    <tr>\n",
       "      <th>2.txt</th>\n",
       "      <td>2.txt |@word книга:2 лекция:3 рассматриваться:...</td>\n",
       "      <td>@title Главы: Маскулинности в российском конте...</td>\n",
       "    </tr>\n",
       "    <tr>\n",
       "      <th>3.txt</th>\n",
       "      <td>3.txt |@word развитие появляться пиджина:4 бел...</td>\n",
       "      <td>@title Пиджины и креольские языки | @snippet Л...</td>\n",
       "    </tr>\n",
       "    <tr>\n",
       "      <th>4.txt</th>\n",
       "      <td>4.txt |@word стандартный задача:3 состоять:4 р...</td>\n",
       "      <td>@title FAQ: Физиология микроводорослей | @snip...</td>\n",
       "    </tr>\n",
       "    <tr>\n",
       "      <th>5.txt</th>\n",
       "      <td>5.txt |@2gramm повседневный_практика государст...</td>\n",
       "      <td>@title Русская государственная идеология | @sn...</td>\n",
       "    </tr>\n",
       "  </tbody>\n",
       "</table>\n",
       "</div>"
      ],
      "text/plain": [
       "                                                 vw_text  \\\n",
       "id                                                         \n",
       "1.txt  1.txt |@author fuchs preobrazhensky tabachniko...   \n",
       "2.txt  2.txt |@word книга:2 лекция:3 рассматриваться:...   \n",
       "3.txt  3.txt |@word развитие появляться пиджина:4 бел...   \n",
       "4.txt  4.txt |@word стандартный задача:3 состоять:4 р...   \n",
       "5.txt  5.txt |@2gramm повседневный_практика государст...   \n",
       "\n",
       "                                                raw_text  \n",
       "id                                                        \n",
       "1.txt  @title Автограф # «Математический дивертисмент...  \n",
       "2.txt  @title Главы: Маскулинности в российском конте...  \n",
       "3.txt  @title Пиджины и креольские языки | @snippet Л...  \n",
       "4.txt  @title FAQ: Физиология микроводорослей | @snip...  \n",
       "5.txt  @title Русская государственная идеология | @sn...  "
      ]
     },
     "execution_count": 7,
     "metadata": {},
     "output_type": "execute_result"
    }
   ],
   "source": [
    "print(dataset.get_possible_modalities())\n",
    "dataset.get_dataset().head()"
   ]
  },
  {
   "cell_type": "markdown",
   "metadata": {},
   "source": [
    "### Make initial model"
   ]
  },
  {
   "cell_type": "code",
   "execution_count": 8,
   "metadata": {},
   "outputs": [
    {
     "name": "stdout",
     "output_type": "stream",
     "text": [
      "# This config follows a strategy described by Murat Apishev\n",
      "# one of the core programmers of BigARTM library in personal correspondence.\n",
      "# According to his letter 'decent' topic model can be obtained by\n",
      "# Decorrelating model topics simultaneously looking at retrieved TopTokens\n",
      "\n",
      "\n",
      "# Use .format(modality_list=modality_list, main_modality=main_modality, dataset_path=dataset_path,\n",
      "# specific_topics=specific_topics, background_topics=background_topics)\n",
      "# when loading the recipe to adjust for your dataset\n",
      "\n",
      "topics:\n",
      "# Describes number of model topics, better left to the user to define optimal topic number\n",
      "    specific_topics: ['topic_0', 'topic_1', 'topic_2', 'topic_3', 'topic_4', 'topic_5', 'topic_6', 'topic_7', 'topic_8', 'topic_9', 'topic_10', 'topic_11', 'topic_12', 'topic_13', 'topic_14', 'topic_15', 'topic_16', 'topic_17', 'topic_18', 'topic_19', 'topic_20', 'topic_21', 'topic_22', 'topic_23', 'topic_24', 'topic_25', 'topic_26'] \n",
      "    background_topics: ['bcg_27', 'bcg_28']\n",
      "\n",
      "# Here is example of model with one modality\n",
      "regularizers:\n",
      "    - DecorrelatorPhiRegularizer:\n",
      "        name: decorrelation_phi\n",
      "        topic_names: specific_topics\n",
      "        class_ids: ['@2gramm', '@word', '@post_tag', '@3gramm']\n",
      "    - DecorrelatorPhiRegularizer:\n",
      "        name: smooth_phi_@2gramm\n",
      "        topic_names: specific_topics\n",
      "        class_ids: ['@2gramm']\n",
      "    - SmoothSparsePhiRegularizer:\n",
      "        name: smooth_phi_bcg\n",
      "        topic_names: background_topics\n",
      "        class_ids: ['@2gramm', '@word', '@post_tag', '@3gramm']\n",
      "        tau: 0.1\n",
      "        relative: true\n",
      "    - SmoothSparseThetaRegularizer:\n",
      "        name: smooth_theta_bcg\n",
      "        topic_names: background_topics\n",
      "        tau: 0.1\n",
      "        relative: true\n",
      "scores:\n",
      "    - BleiLaffertyScore:\n",
      "        num_top_tokens: 30\n",
      "model: \n",
      "    dataset_path: /home/sultan/datasets/PScience/PScience.csv\n",
      "    modalities_to_use: ['@2gramm', '@word', '@post_tag', '@3gramm']\n",
      "    main_modality: '@word'\n",
      "\n",
      "stages:\n",
      "- RegularizersModifierCube:\n",
      "    num_iter: 20\n",
      "    reg_search: add\n",
      "    regularizer_parameters:\n",
      "        name: decorrelation_phi\n",
      "    selection:\n",
      "        - PerplexityScore@all < 1.05 * MINIMUM(PerplexityScore@all) and BleiLaffertyScore -> max\n",
      "    strategy: PerplexityStrategy\n",
      "    # parameters of this strategy are intended for revision\n",
      "    strategy_params:\n",
      "        start_point: 0\n",
      "        step: 0.01\n",
      "        max_len: 50\n",
      "    tracked_score_function: PerplexityScore@all\n",
      "    verbose: false\n",
      "    use_relative_coefficients: true\n",
      "- RegularizersModifierCube:\n",
      "    num_iter: 20\n",
      "    reg_search: add\n",
      "    regularizer_parameters:\n",
      "        name: smooth_phi_@2gramm\n",
      "    selection:\n",
      "        - PerplexityScore@2gramm < 1.05 * MINIMUM(PerplexityScore@2gramm) and BleiLaffertyScore -> max\n",
      "    strategy: PerplexityStrategy\n",
      "    strategy_params:\n",
      "        start_point: 0.25\n",
      "        step: 0.25\n",
      "        max_len: 6\n",
      "    tracked_score_function: PerplexityScore@2gramm\n",
      "    verbose: false\n",
      "    use_relative_coefficients: false\n",
      "\n"
     ]
    }
   ],
   "source": [
    "with open(\"/home/sultan/recipes/ARTM_baseline_smooth_bigram.yml\", \"r\") as f:\n",
    "    yaml_string = f.read()\n",
    "\n",
    "specific_topics = [f'topic_{i}' for i in range(27)]\n",
    "background_topics = [f'bcg_{i}' for i in range(len(specific_topics),len(specific_topics) + 2)]\n",
    "\n",
    "yaml_string = yaml_string.format(\n",
    "    modality_list=['@2gramm', '@word', '@post_tag', '@3gramm'],\n",
    "    main_modality='@word',\n",
    "    specific_modality='@2gramm',\n",
    "    dataset_path=DATASET_PATH,\n",
    "    specific_topics=specific_topics,\n",
    "    background_topics=background_topics)\n",
    "\n",
    "print(yaml_string)"
   ]
  },
  {
   "cell_type": "markdown",
   "metadata": {},
   "source": [
    "### Run experiment"
   ]
  },
  {
   "cell_type": "code",
   "execution_count": 9,
   "metadata": {},
   "outputs": [],
   "source": [
    "from topicnet.cooking_machine.experiment import Experiment\n",
    "if os.path.exists(f'./MuratDemo_smooth') == True:\n",
    "    os.system(\"rm -rf ./MuratDemo_smooth\")\n",
    "experiment, dataset = build_experiment_environment_from_yaml_config(\n",
    "    yaml_string,\n",
    "    experiment_id=\"MuratDemo_smooth\",\n",
    "    save_path=\"MuratDemo_smooth\"\n",
    ")"
   ]
  },
  {
   "cell_type": "code",
   "execution_count": 10,
   "metadata": {},
   "outputs": [
    {
     "name": "stderr",
     "output_type": "stream",
     "text": [
      "/home/sultan/miniconda3/lib/python3.6/site-packages/topicnet/cooking_machine/cubes/base_cube.py:206: UserWarning: Perplexity is too high for threshold 1.05\n",
      "  warnings.warn(warning_message)\n",
      "/home/sultan/miniconda3/lib/python3.6/site-packages/topicnet/cooking_machine/cubes/base_cube.py:206: UserWarning: Last five scores are equal, interrupting search\n",
      "  warnings.warn(warning_message)\n"
     ]
    },
    {
     "data": {
      "text/plain": [
       "{<topicnet.cooking_machine.models.topic_model.TopicModel at 0x7f3ef6147f60>}"
      ]
     },
     "execution_count": 10,
     "metadata": {},
     "output_type": "execute_result"
    }
   ],
   "source": [
    "experiment.run(dataset)"
   ]
  },
  {
   "cell_type": "code",
   "execution_count": 11,
   "metadata": {},
   "outputs": [
    {
     "data": {
      "text/plain": [
       "Experiment MuratDemo_smooth\n",
       "\n",
       "Experiment was made with BigARTM 0.9.0\n",
       "Tree:\n",
       "                                ┌##11h38m15s_13d11m2019y###\n",
       "                                ├##11h39m11s_13d11m2019y###\n",
       "                                ├##11h40m06s_13d11m2019y###\n",
       "<<<<<<<<<<<root>>>>>>>>>>>──────┤\n",
       "                                ├##11h41m02s_13d11m2019y###\n",
       "                                │                                                                                                       ┌##11h44m13s_13d11m2019y###\n",
       "                                │                                                                                                       ├##11h45m19s_13d11m2019y###\n",
       "                                ├##11h41m58s_13d11m2019y###─────────────────────────────────────────────────────────────────────────────┤\n",
       "                                │                                                                                                       ├##11h46m26s_13d11m2019y###\n",
       "                                │                                                                                                       ├##11h47m32s_13d11m2019y###\n",
       "                                │                                                                                                       └##11h48m38s_13d11m2019y###\n",
       "                                └##11h42m54s_13d11m2019y###\n",
       "Cubes:\n",
       " START                          | REG_MODIFIER                                                                                          | REG_MODIFIER                                                                                         \n",
       "                                | cube:                                                                                                 | cube:                                                                                                \n",
       " name:                          |   <topicnet.cooking_machine.cubes.regularizer_cube.RegularizersModifierCube object at 0x7f3ef83e74a8> |   <topicnet.cooking_machine.cubes.regularizer_cube.RegularizersModifierCube object at 0x7f3ef85f1d30>\n",
       "   ARTM                         |                                                                                                       |                                                                                                      \n",
       " num_processors:                | tau_grid:                                                                                             | tau_grid:                                                                                            \n",
       "   3                            |   ---                                                                                                 |   ---                                                                                                \n",
       " num_topics:                    | name:                                                                                                 | name:                                                                                                \n",
       "   29                           |   decorrelation_phi                                                                                   |   smooth_phi_@2gramm                                                                                 \n",
       " topic_names:                   |                                                                                                       |                                                                                                      \n",
       "   topic_0,                     |                                                                                                       |                                                                                                      \n",
       "   topic_1,                     |                                                                                                       |                                                                                                      \n",
       "   ...,                         |                                                                                                       |                                                                                                      \n",
       "   bcg_27,                      |                                                                                                       |                                                                                                      \n",
       "   bcg_28                       |                                                                                                       |                                                                                                      \n",
       " class_ids:                     |                                                                                                       |                                                                                                      \n",
       "   @2gramm=8.780309757546435,   |                                                                                                       |                                                                                                      \n",
       "   @word=1.0,                   |                                                                                                       |                                                                                                      \n",
       "   @post_tag=79.51461372081415, |                                                                                                       |                                                                                                      \n",
       "   @3gramm=245.1655266757866    |                                                                                                       |                                                                                                      \n",
       " seed:                          |                                                                                                       |                                                                                                      \n",
       "   -1                           |                                                                                                       |                                                                                                      \n",
       "                                |                                                                                                       |                                                                                                      \n",
       "────────────────────────────────+───────────────────────────────────────────────────────────────────────────────────────────────────────+───────────────────────────────────────────────────────────────────────────────────────────────────────+─────────────────────────────────────────────────────────────────────────────────────────────────────\n",
       "                                | stage criteria 1:                                                                                     | stage criteria 1:                                                                                    \n",
       "                                |     PerplexityScore@all < 1.05 * MINIMUM(PerplexityScore@all)                                         |     PerplexityScore@2gramm < 1.05 * MINIMUM(PerplexityScore@2gramm)                                  \n",
       "                                |     BleiLaffertyScore -> max                                                                          |     BleiLaffertyScore -> max                                                                         \n",
       "                                |                                                                                                       |                                                                                                      "
      ]
     },
     "metadata": {},
     "output_type": "display_data"
    }
   ],
   "source": [
    "experiment.show()"
   ]
  },
  {
   "cell_type": "code",
   "execution_count": 12,
   "metadata": {},
   "outputs": [],
   "source": [
    "best_model = experiment.select(experiment.criteria[-1][0])[0]"
   ]
  },
  {
   "cell_type": "code",
   "execution_count": 13,
   "metadata": {},
   "outputs": [
    {
     "data": {
      "text/html": [
       "<div>\n",
       "<style scoped>\n",
       "    .dataframe tbody tr th:only-of-type {\n",
       "        vertical-align: middle;\n",
       "    }\n",
       "\n",
       "    .dataframe tbody tr th {\n",
       "        vertical-align: top;\n",
       "    }\n",
       "\n",
       "    .dataframe thead th {\n",
       "        text-align: right;\n",
       "    }\n",
       "</style>\n",
       "<table border=\"1\" class=\"dataframe\">\n",
       "  <thead>\n",
       "    <tr style=\"text-align: right;\">\n",
       "      <th></th>\n",
       "      <th></th>\n",
       "      <th>tau</th>\n",
       "      <th>gamma</th>\n",
       "    </tr>\n",
       "    <tr>\n",
       "      <th>model_id</th>\n",
       "      <th>regularizer_name</th>\n",
       "      <th></th>\n",
       "      <th></th>\n",
       "    </tr>\n",
       "  </thead>\n",
       "  <tbody>\n",
       "    <tr>\n",
       "      <th rowspan=\"4\" valign=\"top\">##11h45m19s_13d11m2019y###</th>\n",
       "      <th>smooth_phi_bcg</th>\n",
       "      <td>9.949604</td>\n",
       "      <td>NaN</td>\n",
       "    </tr>\n",
       "    <tr>\n",
       "      <th>smooth_theta_bcg</th>\n",
       "      <td>93.597598</td>\n",
       "      <td>NaN</td>\n",
       "    </tr>\n",
       "    <tr>\n",
       "      <th>decorrelation_phi</th>\n",
       "      <td>0.030000</td>\n",
       "      <td>0.0</td>\n",
       "    </tr>\n",
       "    <tr>\n",
       "      <th>smooth_phi_@2gramm</th>\n",
       "      <td>0.250000</td>\n",
       "      <td>NaN</td>\n",
       "    </tr>\n",
       "  </tbody>\n",
       "</table>\n",
       "</div>"
      ],
      "text/plain": [
       "                                                     tau  gamma\n",
       "model_id                   regularizer_name                    \n",
       "##11h45m19s_13d11m2019y### smooth_phi_bcg       9.949604    NaN\n",
       "                           smooth_theta_bcg    93.597598    NaN\n",
       "                           decorrelation_phi    0.030000    0.0\n",
       "                           smooth_phi_@2gramm   0.250000    NaN"
      ]
     },
     "execution_count": 13,
     "metadata": {},
     "output_type": "execute_result"
    }
   ],
   "source": [
    "best_model.describe_regularizers()"
   ]
  },
  {
   "cell_type": "code",
   "execution_count": 14,
   "metadata": {
    "scrolled": true
   },
   "outputs": [
    {
     "data": {
      "text/html": [
       "<div>\n",
       "<style scoped>\n",
       "    .dataframe tbody tr th:only-of-type {\n",
       "        vertical-align: middle;\n",
       "    }\n",
       "\n",
       "    .dataframe tbody tr th {\n",
       "        vertical-align: top;\n",
       "    }\n",
       "\n",
       "    .dataframe thead th {\n",
       "        text-align: right;\n",
       "    }\n",
       "</style>\n",
       "<table border=\"1\" class=\"dataframe\">\n",
       "  <thead>\n",
       "    <tr style=\"text-align: right;\">\n",
       "      <th></th>\n",
       "      <th></th>\n",
       "      <th>last_value</th>\n",
       "    </tr>\n",
       "    <tr>\n",
       "      <th>model_id</th>\n",
       "      <th>score_name</th>\n",
       "      <th></th>\n",
       "    </tr>\n",
       "  </thead>\n",
       "  <tbody>\n",
       "    <tr>\n",
       "      <th rowspan=\"47\" valign=\"top\">##11h45m19s_13d11m2019y###</th>\n",
       "      <th>PerplexityScore@all</th>\n",
       "      <td>1.52022e+11</td>\n",
       "    </tr>\n",
       "    <tr>\n",
       "      <th>SparsityThetaScore</th>\n",
       "      <td>0.0658252</td>\n",
       "    </tr>\n",
       "    <tr>\n",
       "      <th>SparsityPhiScore@2gramm</th>\n",
       "      <td>0.725937</td>\n",
       "    </tr>\n",
       "    <tr>\n",
       "      <th>PerplexityScore@2gramm</th>\n",
       "      <td>2303.03</td>\n",
       "    </tr>\n",
       "    <tr>\n",
       "      <th>TopicKernel@2gramm.average_coherence</th>\n",
       "      <td>0</td>\n",
       "    </tr>\n",
       "    <tr>\n",
       "      <th>TopicKernel@2gramm.average_contrast</th>\n",
       "      <td>0.523009</td>\n",
       "    </tr>\n",
       "    <tr>\n",
       "      <th>TopicKernel@2gramm.average_purity</th>\n",
       "      <td>0.48134</td>\n",
       "    </tr>\n",
       "    <tr>\n",
       "      <th>TopicKernel@2gramm.average_size</th>\n",
       "      <td>319.862</td>\n",
       "    </tr>\n",
       "    <tr>\n",
       "      <th>TopicKernel@2gramm.coherence</th>\n",
       "      <td>{'topic_0': 0.0, 'topic_1': 0.0, 'topic_2': 0....</td>\n",
       "    </tr>\n",
       "    <tr>\n",
       "      <th>TopicKernel@2gramm.contrast</th>\n",
       "      <td>{'topic_0': 0.4790801405906677, 'topic_1': 0.5...</td>\n",
       "    </tr>\n",
       "    <tr>\n",
       "      <th>TopicKernel@2gramm.purity</th>\n",
       "      <td>{'topic_0': 0.36482369899749756, 'topic_1': 0....</td>\n",
       "    </tr>\n",
       "    <tr>\n",
       "      <th>TopicKernel@2gramm.size</th>\n",
       "      <td>{'topic_0': 143.0, 'topic_1': 239.0, 'topic_2'...</td>\n",
       "    </tr>\n",
       "    <tr>\n",
       "      <th>TopicKernel@2gramm.tokens</th>\n",
       "      <td>{'topic_0': ['демократический_общество', 'заст...</td>\n",
       "    </tr>\n",
       "    <tr>\n",
       "      <th>SparsityPhiScore@word</th>\n",
       "      <td>0.592021</td>\n",
       "    </tr>\n",
       "    <tr>\n",
       "      <th>PerplexityScore@word</th>\n",
       "      <td>3517.93</td>\n",
       "    </tr>\n",
       "    <tr>\n",
       "      <th>TopicKernel@word.average_coherence</th>\n",
       "      <td>0</td>\n",
       "    </tr>\n",
       "    <tr>\n",
       "      <th>TopicKernel@word.average_contrast</th>\n",
       "      <td>0.455672</td>\n",
       "    </tr>\n",
       "    <tr>\n",
       "      <th>TopicKernel@word.average_purity</th>\n",
       "      <td>0.190629</td>\n",
       "    </tr>\n",
       "    <tr>\n",
       "      <th>TopicKernel@word.average_size</th>\n",
       "      <td>846.655</td>\n",
       "    </tr>\n",
       "    <tr>\n",
       "      <th>TopicKernel@word.coherence</th>\n",
       "      <td>{'topic_0': 0.0, 'topic_1': 0.0, 'topic_2': 0....</td>\n",
       "    </tr>\n",
       "    <tr>\n",
       "      <th>TopicKernel@word.contrast</th>\n",
       "      <td>{'topic_0': 0.46681317687034607, 'topic_1': 0....</td>\n",
       "    </tr>\n",
       "    <tr>\n",
       "      <th>TopicKernel@word.purity</th>\n",
       "      <td>{'topic_0': 0.13469649851322174, 'topic_1': 0....</td>\n",
       "    </tr>\n",
       "    <tr>\n",
       "      <th>TopicKernel@word.size</th>\n",
       "      <td>{'topic_0': 89.0, 'topic_1': 134.0, 'topic_2':...</td>\n",
       "    </tr>\n",
       "    <tr>\n",
       "      <th>TopicKernel@word.tokens</th>\n",
       "      <td>{'topic_0': ['олигархия', 'ксенофонт', 'аристо...</td>\n",
       "    </tr>\n",
       "    <tr>\n",
       "      <th>SparsityPhiScore@post_tag</th>\n",
       "      <td>0.866333</td>\n",
       "    </tr>\n",
       "    <tr>\n",
       "      <th>PerplexityScore@post_tag</th>\n",
       "      <td>54.5616</td>\n",
       "    </tr>\n",
       "    <tr>\n",
       "      <th>TopicKernel@post_tag.average_coherence</th>\n",
       "      <td>0</td>\n",
       "    </tr>\n",
       "    <tr>\n",
       "      <th>TopicKernel@post_tag.average_contrast</th>\n",
       "      <td>0.824781</td>\n",
       "    </tr>\n",
       "    <tr>\n",
       "      <th>TopicKernel@post_tag.average_purity</th>\n",
       "      <td>0.913015</td>\n",
       "    </tr>\n",
       "    <tr>\n",
       "      <th>TopicKernel@post_tag.average_size</th>\n",
       "      <td>35.2069</td>\n",
       "    </tr>\n",
       "    <tr>\n",
       "      <th>TopicKernel@post_tag.coherence</th>\n",
       "      <td>{'topic_0': 0.0, 'topic_1': 0.0, 'topic_2': 0....</td>\n",
       "    </tr>\n",
       "    <tr>\n",
       "      <th>TopicKernel@post_tag.contrast</th>\n",
       "      <td>{'topic_0': 0.8007462620735168, 'topic_1': 0.8...</td>\n",
       "    </tr>\n",
       "    <tr>\n",
       "      <th>TopicKernel@post_tag.purity</th>\n",
       "      <td>{'topic_0': 0.9622633457183838, 'topic_1': 0.9...</td>\n",
       "    </tr>\n",
       "    <tr>\n",
       "      <th>TopicKernel@post_tag.size</th>\n",
       "      <td>{'topic_0': 30.0, 'topic_1': 38.0, 'topic_2': ...</td>\n",
       "    </tr>\n",
       "    <tr>\n",
       "      <th>TopicKernel@post_tag.tokens</th>\n",
       "      <td>{'topic_0': ['эрос', 'декарт_рене', 'платон', ...</td>\n",
       "    </tr>\n",
       "    <tr>\n",
       "      <th>SparsityPhiScore@3gramm</th>\n",
       "      <td>0.931035</td>\n",
       "    </tr>\n",
       "    <tr>\n",
       "      <th>PerplexityScore@3gramm</th>\n",
       "      <td>343.899</td>\n",
       "    </tr>\n",
       "    <tr>\n",
       "      <th>TopicKernel@3gramm.average_coherence</th>\n",
       "      <td>0</td>\n",
       "    </tr>\n",
       "    <tr>\n",
       "      <th>TopicKernel@3gramm.average_contrast</th>\n",
       "      <td>0.0631812</td>\n",
       "    </tr>\n",
       "    <tr>\n",
       "      <th>TopicKernel@3gramm.average_purity</th>\n",
       "      <td>0.0670844</td>\n",
       "    </tr>\n",
       "    <tr>\n",
       "      <th>TopicKernel@3gramm.average_size</th>\n",
       "      <td>16.931</td>\n",
       "    </tr>\n",
       "    <tr>\n",
       "      <th>TopicKernel@3gramm.coherence</th>\n",
       "      <td>{'topic_0': 0.0, 'topic_1': 0.0, 'topic_2': 0....</td>\n",
       "    </tr>\n",
       "    <tr>\n",
       "      <th>TopicKernel@3gramm.contrast</th>\n",
       "      <td>{'topic_0': 0.0, 'topic_1': 0.0, 'topic_2': 0....</td>\n",
       "    </tr>\n",
       "    <tr>\n",
       "      <th>TopicKernel@3gramm.purity</th>\n",
       "      <td>{'topic_0': 0.0, 'topic_1': 0.0, 'topic_2': 0....</td>\n",
       "    </tr>\n",
       "    <tr>\n",
       "      <th>TopicKernel@3gramm.size</th>\n",
       "      <td>{'topic_0': 0.0, 'topic_1': 0.0, 'topic_2': 0....</td>\n",
       "    </tr>\n",
       "    <tr>\n",
       "      <th>TopicKernel@3gramm.tokens</th>\n",
       "      <td>{'topic_0': [], 'topic_1': [], 'topic_2': [], ...</td>\n",
       "    </tr>\n",
       "    <tr>\n",
       "      <th>BleiLaffertyScore</th>\n",
       "      <td>82.7017</td>\n",
       "    </tr>\n",
       "  </tbody>\n",
       "</table>\n",
       "</div>"
      ],
      "text/plain": [
       "                                                                                                          last_value\n",
       "model_id                   score_name                                                                               \n",
       "##11h45m19s_13d11m2019y### PerplexityScore@all                                                           1.52022e+11\n",
       "                           SparsityThetaScore                                                              0.0658252\n",
       "                           SparsityPhiScore@2gramm                                                          0.725937\n",
       "                           PerplexityScore@2gramm                                                            2303.03\n",
       "                           TopicKernel@2gramm.average_coherence                                                    0\n",
       "                           TopicKernel@2gramm.average_contrast                                              0.523009\n",
       "                           TopicKernel@2gramm.average_purity                                                 0.48134\n",
       "                           TopicKernel@2gramm.average_size                                                   319.862\n",
       "                           TopicKernel@2gramm.coherence            {'topic_0': 0.0, 'topic_1': 0.0, 'topic_2': 0....\n",
       "                           TopicKernel@2gramm.contrast             {'topic_0': 0.4790801405906677, 'topic_1': 0.5...\n",
       "                           TopicKernel@2gramm.purity               {'topic_0': 0.36482369899749756, 'topic_1': 0....\n",
       "                           TopicKernel@2gramm.size                 {'topic_0': 143.0, 'topic_1': 239.0, 'topic_2'...\n",
       "                           TopicKernel@2gramm.tokens               {'topic_0': ['демократический_общество', 'заст...\n",
       "                           SparsityPhiScore@word                                                            0.592021\n",
       "                           PerplexityScore@word                                                              3517.93\n",
       "                           TopicKernel@word.average_coherence                                                      0\n",
       "                           TopicKernel@word.average_contrast                                                0.455672\n",
       "                           TopicKernel@word.average_purity                                                  0.190629\n",
       "                           TopicKernel@word.average_size                                                     846.655\n",
       "                           TopicKernel@word.coherence              {'topic_0': 0.0, 'topic_1': 0.0, 'topic_2': 0....\n",
       "                           TopicKernel@word.contrast               {'topic_0': 0.46681317687034607, 'topic_1': 0....\n",
       "                           TopicKernel@word.purity                 {'topic_0': 0.13469649851322174, 'topic_1': 0....\n",
       "                           TopicKernel@word.size                   {'topic_0': 89.0, 'topic_1': 134.0, 'topic_2':...\n",
       "                           TopicKernel@word.tokens                 {'topic_0': ['олигархия', 'ксенофонт', 'аристо...\n",
       "                           SparsityPhiScore@post_tag                                                        0.866333\n",
       "                           PerplexityScore@post_tag                                                          54.5616\n",
       "                           TopicKernel@post_tag.average_coherence                                                  0\n",
       "                           TopicKernel@post_tag.average_contrast                                            0.824781\n",
       "                           TopicKernel@post_tag.average_purity                                              0.913015\n",
       "                           TopicKernel@post_tag.average_size                                                 35.2069\n",
       "                           TopicKernel@post_tag.coherence          {'topic_0': 0.0, 'topic_1': 0.0, 'topic_2': 0....\n",
       "                           TopicKernel@post_tag.contrast           {'topic_0': 0.8007462620735168, 'topic_1': 0.8...\n",
       "                           TopicKernel@post_tag.purity             {'topic_0': 0.9622633457183838, 'topic_1': 0.9...\n",
       "                           TopicKernel@post_tag.size               {'topic_0': 30.0, 'topic_1': 38.0, 'topic_2': ...\n",
       "                           TopicKernel@post_tag.tokens             {'topic_0': ['эрос', 'декарт_рене', 'платон', ...\n",
       "                           SparsityPhiScore@3gramm                                                          0.931035\n",
       "                           PerplexityScore@3gramm                                                            343.899\n",
       "                           TopicKernel@3gramm.average_coherence                                                    0\n",
       "                           TopicKernel@3gramm.average_contrast                                             0.0631812\n",
       "                           TopicKernel@3gramm.average_purity                                               0.0670844\n",
       "                           TopicKernel@3gramm.average_size                                                    16.931\n",
       "                           TopicKernel@3gramm.coherence            {'topic_0': 0.0, 'topic_1': 0.0, 'topic_2': 0....\n",
       "                           TopicKernel@3gramm.contrast             {'topic_0': 0.0, 'topic_1': 0.0, 'topic_2': 0....\n",
       "                           TopicKernel@3gramm.purity               {'topic_0': 0.0, 'topic_1': 0.0, 'topic_2': 0....\n",
       "                           TopicKernel@3gramm.size                 {'topic_0': 0.0, 'topic_1': 0.0, 'topic_2': 0....\n",
       "                           TopicKernel@3gramm.tokens               {'topic_0': [], 'topic_1': [], 'topic_2': [], ...\n",
       "                           BleiLaffertyScore                                                                 82.7017"
      ]
     },
     "execution_count": 14,
     "metadata": {},
     "output_type": "execute_result"
    }
   ],
   "source": [
    "best_model.describe_scores()"
   ]
  },
  {
   "cell_type": "markdown",
   "metadata": {},
   "source": [
    "## Results"
   ]
  },
  {
   "cell_type": "code",
   "execution_count": 15,
   "metadata": {},
   "outputs": [
    {
     "data": {
      "image/png": "[encoded data removed]",
      "text/plain": [
       "<Figure size 576x576 with 1 Axes>"
      ]
     },
     "metadata": {
      "needs_background": "light"
     },
     "output_type": "display_data"
    }
   ],
   "source": [
    "from matplotlib import cm\n",
    "tms = experiment.models\n",
    "colors = np.linspace(0, 0.65, len(tms))\n",
    "\n",
    "plt.figure(figsize=(8,8))\n",
    "for i, tm in enumerate(list(tms.values())[1:]):\n",
    "    score = tm.scores['BleiLaffertyScore']\n",
    "    ls = \"-\" if tm.model_id == best_model.model_id else \"--\" \n",
    "    plt.plot(score, color=cm.Reds(colors[i]), ls=ls)\n",
    "plt.show()"
   ]
  },
  {
   "cell_type": "code",
   "execution_count": 16,
   "metadata": {},
   "outputs": [
    {
     "data": {
      "image/png": "[encoded data removed]",
      "text/plain": [
       "<Figure size 576x576 with 1 Axes>"
      ]
     },
     "metadata": {
      "needs_background": "light"
     },
     "output_type": "display_data"
    }
   ],
   "source": [
    "tms = experiment.models\n",
    "colors = np.linspace(0, 0.65, len(tms))\n",
    "\n",
    "plt.figure(figsize=(8,8))\n",
    "for i, tm in enumerate(list(tms.values())[1:]):\n",
    "    score = tm.scores['PerplexityScore@all']\n",
    "    score[0] = float(\"nan\")\n",
    "    ls = \"-\" if tm.model_id == best_model.model_id else \"--\" \n",
    "    plt.plot(score, color=cm.Reds(colors[i]), ls=ls)\n",
    "plt.show()"
   ]
  },
  {
   "cell_type": "code",
   "execution_count": 17,
   "metadata": {},
   "outputs": [
    {
     "data": {
      "image/png": "[encoded data removed]",
      "text/plain": [
       "<Figure size 576x576 with 1 Axes>"
      ]
     },
     "metadata": {
      "needs_background": "light"
     },
     "output_type": "display_data"
    }
   ],
   "source": [
    "tms = experiment.models\n",
    "colors = np.linspace(0, 0.65, len(tms))\n",
    "\n",
    "plt.figure(figsize=(8,8))\n",
    "for i, tm in enumerate(list(tms.values())[1:]):\n",
    "    ls = \"-\" if tm.model_id == best_model.model_id else \"--\" \n",
    "    score = tm.scores['TopicKernel@word.average_purity']\n",
    "    plt.plot(score, color=cm.Blues(colors[i]), ls=ls)\n",
    "    score = tm.scores['TopicKernel@word.average_contrast']\n",
    "    plt.plot(score, color=cm.Reds(colors[i]), ls=ls)\n",
    "    \n",
    "    score = tm.scores['SparsityPhiScore@word']\n",
    "    plt.plot(score, color=cm.Greens(colors[i]), ls=ls)\n",
    "\n",
    "plt.show()"
   ]
  },
  {
   "cell_type": "code",
   "execution_count": 18,
   "metadata": {},
   "outputs": [
    {
     "data": {
      "image/png": "[encoded data removed]",
      "text/plain": [
       "<Figure size 576x576 with 1 Axes>"
      ]
     },
     "metadata": {
      "needs_background": "light"
     },
     "output_type": "display_data"
    }
   ],
   "source": [
    "tms = experiment.models\n",
    "colors = np.linspace(0, 0.65, len(tms))\n",
    "\n",
    "plt.figure(figsize=(8,8))\n",
    "for i, tm in enumerate(list(tms.values())[1:]):\n",
    "    ls = \"-\" if tm.model_id == best_model.model_id else \"--\" \n",
    "    score = tm.scores['TopicKernel@2gramm.average_purity']\n",
    "    plt.plot(score, color=cm.Blues(colors[i]), ls=ls)\n",
    "    score = tm.scores['TopicKernel@2gramm.average_contrast']\n",
    "    plt.plot(score, color=cm.Reds(colors[i]), ls=ls)\n",
    "    \n",
    "    score = tm.scores['SparsityPhiScore@2gramm']\n",
    "    plt.plot(score, color=cm.Greens(colors[i]), ls=ls)\n",
    "\n",
    "plt.show()"
   ]
  },
  {
   "cell_type": "markdown",
   "metadata": {},
   "source": [
    "## Investigate model"
   ]
  },
  {
   "cell_type": "code",
   "execution_count": 19,
   "metadata": {},
   "outputs": [],
   "source": [
    "from topicnet.viewers.top_tokens_viewer import TopTokensViewer\n",
    "from topicnet.viewers.top_documents_viewer import TopDocumentsViewer"
   ]
  },
  {
   "cell_type": "code",
   "execution_count": 20,
   "metadata": {},
   "outputs": [],
   "source": [
    "first_model_top_tok = TopTokensViewer(best_model, num_top_tokens=10, method='phi')\n",
    "first_model_html =  first_model_top_tok.to_html(first_model_top_tok.view())\n",
    "first_model_top_doc = TopDocumentsViewer(best_model, dataset=dataset).view()"
   ]
  },
  {
   "cell_type": "code",
   "execution_count": 21,
   "metadata": {},
   "outputs": [
    {
     "data": {
      "text/html": [
       "<style  type=\"text/css\" >\n",
       "</style><table id=\"T_a67b1d8c_05f2_11ea_a6fb_107b449f15fc\" style='display:inline'><thead>    <tr>        <th class=\"blank level0\" ></th>        <th class=\"col_heading level0 col0\" >topic_0 @2gramm</th>    </tr></thead><tbody>\n",
       "                <tr>\n",
       "                        <th id=\"T_a67b1d8c_05f2_11ea_a6fb_107b449f15fclevel0_row0\" class=\"row_heading level0 row0\" >политический_философия</th>\n",
       "                        <td id=\"T_a67b1d8c_05f2_11ea_a6fb_107b449f15fcrow0_col0\" class=\"data row0 col0\" >0.03663</td>\n",
       "            </tr>\n",
       "            <tr>\n",
       "                        <th id=\"T_a67b1d8c_05f2_11ea_a6fb_107b449f15fclevel0_row1\" class=\"row_heading level0 row1\" >научный_революция</th>\n",
       "                        <td id=\"T_a67b1d8c_05f2_11ea_a6fb_107b449f15fcrow1_col0\" class=\"data row1 col0\" >0.01726</td>\n",
       "            </tr>\n",
       "            <tr>\n",
       "                        <th id=\"T_a67b1d8c_05f2_11ea_a6fb_107b449f15fclevel0_row2\" class=\"row_heading level0 row2\" >политический_теория</th>\n",
       "                        <td id=\"T_a67b1d8c_05f2_11ea_a6fb_107b449f15fcrow2_col0\" class=\"data row2 col0\" >0.01636</td>\n",
       "            </tr>\n",
       "            <tr>\n",
       "                        <th id=\"T_a67b1d8c_05f2_11ea_a6fb_107b449f15fclevel0_row3\" class=\"row_heading level0 row3\" >политический_мысль</th>\n",
       "                        <td id=\"T_a67b1d8c_05f2_11ea_a6fb_107b449f15fcrow3_col0\" class=\"data row3 col0\" >0.01222</td>\n",
       "            </tr>\n",
       "            <tr>\n",
       "                        <th id=\"T_a67b1d8c_05f2_11ea_a6fb_107b449f15fclevel0_row4\" class=\"row_heading level0 row4\" >политический_философ</th>\n",
       "                        <td id=\"T_a67b1d8c_05f2_11ea_a6fb_107b449f15fcrow4_col0\" class=\"data row4 col0\" >0.00988</td>\n",
       "            </tr>\n",
       "            <tr>\n",
       "                        <th id=\"T_a67b1d8c_05f2_11ea_a6fb_107b449f15fclevel0_row5\" class=\"row_heading level0 row5\" >лео_штраус</th>\n",
       "                        <td id=\"T_a67b1d8c_05f2_11ea_a6fb_107b449f15fcrow5_col0\" class=\"data row5 col0\" >0.00973</td>\n",
       "            </tr>\n",
       "            <tr>\n",
       "                        <th id=\"T_a67b1d8c_05f2_11ea_a6fb_107b449f15fclevel0_row6\" class=\"row_heading level0 row6\" >политический_режим</th>\n",
       "                        <td id=\"T_a67b1d8c_05f2_11ea_a6fb_107b449f15fcrow6_col0\" class=\"data row6 col0\" >0.00942</td>\n",
       "            </tr>\n",
       "            <tr>\n",
       "                        <th id=\"T_a67b1d8c_05f2_11ea_a6fb_107b449f15fclevel0_row7\" class=\"row_heading level0 row7\" >человеческий_природа</th>\n",
       "                        <td id=\"T_a67b1d8c_05f2_11ea_a6fb_107b449f15fcrow7_col0\" class=\"data row7 col0\" >0.00663</td>\n",
       "            </tr>\n",
       "            <tr>\n",
       "                        <th id=\"T_a67b1d8c_05f2_11ea_a6fb_107b449f15fclevel0_row8\" class=\"row_heading level0 row8\" >мишель_фуко</th>\n",
       "                        <td id=\"T_a67b1d8c_05f2_11ea_a6fb_107b449f15fcrow8_col0\" class=\"data row8 col0\" >0.00505</td>\n",
       "            </tr>\n",
       "            <tr>\n",
       "                        <th id=\"T_a67b1d8c_05f2_11ea_a6fb_107b449f15fclevel0_row9\" class=\"row_heading level0 row9\" >историк_наука</th>\n",
       "                        <td id=\"T_a67b1d8c_05f2_11ea_a6fb_107b449f15fcrow9_col0\" class=\"data row9 col0\" >0.00498</td>\n",
       "            </tr>\n",
       "    </tbody></table><style  type=\"text/css\" >\n",
       "</style><table id=\"T_a67b1d8d_05f2_11ea_a6fb_107b449f15fc\" style='display:inline'><thead>    <tr>        <th class=\"blank level0\" ></th>        <th class=\"col_heading level0 col0\" >topic_0 @3gramm</th>    </tr></thead><tbody>\n",
       "        </tbody></table><style  type=\"text/css\" >\n",
       "</style><table id=\"T_a67b1d8e_05f2_11ea_a6fb_107b449f15fc\" style='display:inline'><thead>    <tr>        <th class=\"blank level0\" ></th>        <th class=\"col_heading level0 col0\" >topic_0 @post_tag</th>    </tr></thead><tbody>\n",
       "                <tr>\n",
       "                        <th id=\"T_a67b1d8e_05f2_11ea_a6fb_107b449f15fclevel0_row0\" class=\"row_heading level0 row0\" >философия</th>\n",
       "                        <td id=\"T_a67b1d8e_05f2_11ea_a6fb_107b449f15fcrow0_col0\" class=\"data row0 col0\" >0.39009</td>\n",
       "            </tr>\n",
       "            <tr>\n",
       "                        <th id=\"T_a67b1d8e_05f2_11ea_a6fb_107b449f15fclevel0_row1\" class=\"row_heading level0 row1\" >политическая_философия</th>\n",
       "                        <td id=\"T_a67b1d8e_05f2_11ea_a6fb_107b449f15fcrow1_col0\" class=\"data row1 col0\" >0.09685</td>\n",
       "            </tr>\n",
       "            <tr>\n",
       "                        <th id=\"T_a67b1d8e_05f2_11ea_a6fb_107b449f15fclevel0_row2\" class=\"row_heading level0 row2\" >история_философии</th>\n",
       "                        <td id=\"T_a67b1d8e_05f2_11ea_a6fb_107b449f15fcrow2_col0\" class=\"data row2 col0\" >0.06094</td>\n",
       "            </tr>\n",
       "            <tr>\n",
       "                        <th id=\"T_a67b1d8e_05f2_11ea_a6fb_107b449f15fclevel0_row3\" class=\"row_heading level0 row3\" >аристотель</th>\n",
       "                        <td id=\"T_a67b1d8e_05f2_11ea_a6fb_107b449f15fcrow3_col0\" class=\"data row3 col0\" >0.05495</td>\n",
       "            </tr>\n",
       "            <tr>\n",
       "                        <th id=\"T_a67b1d8e_05f2_11ea_a6fb_107b449f15fclevel0_row4\" class=\"row_heading level0 row4\" >платон</th>\n",
       "                        <td id=\"T_a67b1d8e_05f2_11ea_a6fb_107b449f15fcrow4_col0\" class=\"data row4 col0\" >0.05266</td>\n",
       "            </tr>\n",
       "            <tr>\n",
       "                        <th id=\"T_a67b1d8e_05f2_11ea_a6fb_107b449f15fclevel0_row5\" class=\"row_heading level0 row5\" >античность</th>\n",
       "                        <td id=\"T_a67b1d8e_05f2_11ea_a6fb_107b449f15fcrow5_col0\" class=\"data row5 col0\" >0.04823</td>\n",
       "            </tr>\n",
       "            <tr>\n",
       "                        <th id=\"T_a67b1d8e_05f2_11ea_a6fb_107b449f15fclevel0_row6\" class=\"row_heading level0 row6\" >сократ</th>\n",
       "                        <td id=\"T_a67b1d8e_05f2_11ea_a6fb_107b449f15fcrow6_col0\" class=\"data row6 col0\" >0.0264</td>\n",
       "            </tr>\n",
       "            <tr>\n",
       "                        <th id=\"T_a67b1d8e_05f2_11ea_a6fb_107b449f15fclevel0_row7\" class=\"row_heading level0 row7\" >политическая_теория</th>\n",
       "                        <td id=\"T_a67b1d8e_05f2_11ea_a6fb_107b449f15fcrow7_col0\" class=\"data row7 col0\" >0.01974</td>\n",
       "            </tr>\n",
       "            <tr>\n",
       "                        <th id=\"T_a67b1d8e_05f2_11ea_a6fb_107b449f15fclevel0_row8\" class=\"row_heading level0 row8\" >гоббс_томас</th>\n",
       "                        <td id=\"T_a67b1d8e_05f2_11ea_a6fb_107b449f15fcrow8_col0\" class=\"data row8 col0\" >0.0195</td>\n",
       "            </tr>\n",
       "            <tr>\n",
       "                        <th id=\"T_a67b1d8e_05f2_11ea_a6fb_107b449f15fclevel0_row9\" class=\"row_heading level0 row9\" >этика</th>\n",
       "                        <td id=\"T_a67b1d8e_05f2_11ea_a6fb_107b449f15fcrow9_col0\" class=\"data row9 col0\" >0.01905</td>\n",
       "            </tr>\n",
       "    </tbody></table><style  type=\"text/css\" >\n",
       "</style><table id=\"T_a67b1d8f_05f2_11ea_a6fb_107b449f15fc\" style='display:inline'><thead>    <tr>        <th class=\"blank level0\" ></th>        <th class=\"col_heading level0 col0\" >topic_0 @word</th>    </tr></thead><tbody>\n",
       "                <tr>\n",
       "                        <th id=\"T_a67b1d8f_05f2_11ea_a6fb_107b449f15fclevel0_row0\" class=\"row_heading level0 row0\" >философия</th>\n",
       "                        <td id=\"T_a67b1d8f_05f2_11ea_a6fb_107b449f15fcrow0_col0\" class=\"data row0 col0\" >0.01264</td>\n",
       "            </tr>\n",
       "            <tr>\n",
       "                        <th id=\"T_a67b1d8f_05f2_11ea_a6fb_107b449f15fclevel0_row1\" class=\"row_heading level0 row1\" >философ</th>\n",
       "                        <td id=\"T_a67b1d8f_05f2_11ea_a6fb_107b449f15fcrow1_col0\" class=\"data row1 col0\" >0.01017</td>\n",
       "            </tr>\n",
       "            <tr>\n",
       "                        <th id=\"T_a67b1d8f_05f2_11ea_a6fb_107b449f15fclevel0_row2\" class=\"row_heading level0 row2\" >свобода</th>\n",
       "                        <td id=\"T_a67b1d8f_05f2_11ea_a6fb_107b449f15fcrow2_col0\" class=\"data row2 col0\" >0.00879</td>\n",
       "            </tr>\n",
       "            <tr>\n",
       "                        <th id=\"T_a67b1d8f_05f2_11ea_a6fb_107b449f15fclevel0_row3\" class=\"row_heading level0 row3\" >говорить</th>\n",
       "                        <td id=\"T_a67b1d8f_05f2_11ea_a6fb_107b449f15fcrow3_col0\" class=\"data row3 col0\" >0.00668</td>\n",
       "            </tr>\n",
       "            <tr>\n",
       "                        <th id=\"T_a67b1d8f_05f2_11ea_a6fb_107b449f15fclevel0_row4\" class=\"row_heading level0 row4\" >философский</th>\n",
       "                        <td id=\"T_a67b1d8f_05f2_11ea_a6fb_107b449f15fcrow4_col0\" class=\"data row4 col0\" >0.00588</td>\n",
       "            </tr>\n",
       "            <tr>\n",
       "                        <th id=\"T_a67b1d8f_05f2_11ea_a6fb_107b449f15fclevel0_row5\" class=\"row_heading level0 row5\" >демократия</th>\n",
       "                        <td id=\"T_a67b1d8f_05f2_11ea_a6fb_107b449f15fcrow5_col0\" class=\"data row5 col0\" >0.00571</td>\n",
       "            </tr>\n",
       "            <tr>\n",
       "                        <th id=\"T_a67b1d8f_05f2_11ea_a6fb_107b449f15fclevel0_row6\" class=\"row_heading level0 row6\" >декарт</th>\n",
       "                        <td id=\"T_a67b1d8f_05f2_11ea_a6fb_107b449f15fcrow6_col0\" class=\"data row6 col0\" >0.00556</td>\n",
       "            </tr>\n",
       "            <tr>\n",
       "                        <th id=\"T_a67b1d8f_05f2_11ea_a6fb_107b449f15fclevel0_row7\" class=\"row_heading level0 row7\" >платон</th>\n",
       "                        <td id=\"T_a67b1d8f_05f2_11ea_a6fb_107b449f15fcrow7_col0\" class=\"data row7 col0\" >0.00553</td>\n",
       "            </tr>\n",
       "            <tr>\n",
       "                        <th id=\"T_a67b1d8f_05f2_11ea_a6fb_107b449f15fclevel0_row8\" class=\"row_heading level0 row8\" >понятие</th>\n",
       "                        <td id=\"T_a67b1d8f_05f2_11ea_a6fb_107b449f15fcrow8_col0\" class=\"data row8 col0\" >0.0053</td>\n",
       "            </tr>\n",
       "            <tr>\n",
       "                        <th id=\"T_a67b1d8f_05f2_11ea_a6fb_107b449f15fclevel0_row9\" class=\"row_heading level0 row9\" >власть</th>\n",
       "                        <td id=\"T_a67b1d8f_05f2_11ea_a6fb_107b449f15fcrow9_col0\" class=\"data row9 col0\" >0.00516</td>\n",
       "            </tr>\n",
       "    </tbody></table>"
      ]
     },
     "metadata": {},
     "output_type": "display_data"
    },
    {
     "data": {
      "text/html": [
       "<b> политическая философия эроса </b><br /> о понятии эроса и эрота в дискуссии о тирании у платона, ксенофонта и аристотеля, идеальном правителе и высшей форме страсти"
      ]
     },
     "metadata": {},
     "output_type": "display_data"
    },
    {
     "data": {
      "text/html": [
       "<b> тирания у платона </b><br /> философ александр павлов о политической философии платона, понимании тирании в диалогах «государство» и «законы» и идеальном политическом режиме"
      ]
     },
     "metadata": {},
     "output_type": "display_data"
    },
    {
     "data": {
      "text/html": [
       "<b> тирания у ксенофонта </b><br /> философ александр павлов о диалоге «гиерон», философии ксенофонта в работах лео штрауса и проекте добродетельной тирании"
      ]
     },
     "metadata": {},
     "output_type": "display_data"
    },
    {
     "data": {
      "text/html": [
       "<b> тирания в античной политической философии </b><br /> философ александр павлов о значении худшего политического режима в трудах платона, ксенофонта и аристотеля"
      ]
     },
     "metadata": {},
     "output_type": "display_data"
    },
    {
     "data": {
      "text/html": [
       "<b> главымеханицизм. декарт конструирует вселенную </b><br /> отрывок из книги «научная революция как событие» историков науки питера деара и стивена шейпина о появлении науки в ее современном понимании"
      ]
     },
     "metadata": {},
     "output_type": "display_data"
    },
    {
     "data": {
      "text/html": [
       "<b> что смотреть«мандерлей» ларса фон триера </b><br /> социолог григорий юдин рекомендует фильм, вскрывающий конфликт между теорией и практикой демократии в современном мире"
      ]
     },
     "metadata": {},
     "output_type": "display_data"
    },
    {
     "data": {
      "text/html": [
       "<b> экономические взгляды сократа </b><br /> философ михаил маяцкий о разногласиях между сократом и софистами, плате за образование и представлениях о богатстве в эпоху античности"
      ]
     },
     "metadata": {},
     "output_type": "display_data"
    },
    {
     "data": {
      "text/html": [
       "<b> политическая философия аристотеля </b><br /> историк александр марей об уравнивающей справедливости, понятии полиса и природе рабства"
      ]
     },
     "metadata": {},
     "output_type": "display_data"
    },
    {
     "data": {
      "text/html": [
       "<b> главы # свобода слуг и свобода граждан </b><br /> отрывок из книги знаменитого итальянского политического философа маурицио вироли «свобода слуг»"
      ]
     },
     "metadata": {},
     "output_type": "display_data"
    },
    {
     "data": {
      "text/html": [
       "<b> faqалмазное правило этики </b><br /> 7 фактов о дополнении к золотому правилу нравственности"
      ]
     },
     "metadata": {},
     "output_type": "display_data"
    },
    {
     "data": {
      "text/html": [
       "<style  type=\"text/css\" >\n",
       "</style><table id=\"T_a67b1d90_05f2_11ea_a6fb_107b449f15fc\" style='display:inline'><thead>    <tr>        <th class=\"blank level0\" ></th>        <th class=\"col_heading level0 col0\" >topic_1 @2gramm</th>    </tr></thead><tbody>\n",
       "                <tr>\n",
       "                        <th id=\"T_a67b1d90_05f2_11ea_a6fb_107b449f15fclevel0_row0\" class=\"row_heading level0 row0\" >нитрид_бора</th>\n",
       "                        <td id=\"T_a67b1d90_05f2_11ea_a6fb_107b449f15fcrow0_col0\" class=\"data row0 col0\" >0.01613</td>\n",
       "            </tr>\n",
       "            <tr>\n",
       "                        <th id=\"T_a67b1d90_05f2_11ea_a6fb_107b449f15fclevel0_row1\" class=\"row_heading level0 row1\" >органический_химия</th>\n",
       "                        <td id=\"T_a67b1d90_05f2_11ea_a6fb_107b449f15fcrow1_col0\" class=\"data row1 col0\" >0.0151</td>\n",
       "            </tr>\n",
       "            <tr>\n",
       "                        <th id=\"T_a67b1d90_05f2_11ea_a6fb_107b449f15fclevel0_row2\" class=\"row_heading level0 row2\" >кристаллический_структура</th>\n",
       "                        <td id=\"T_a67b1d90_05f2_11ea_a6fb_107b449f15fcrow2_col0\" class=\"data row2 col0\" >0.01359</td>\n",
       "            </tr>\n",
       "            <tr>\n",
       "                        <th id=\"T_a67b1d90_05f2_11ea_a6fb_107b449f15fclevel0_row3\" class=\"row_heading level0 row3\" >нобелевский_премия</th>\n",
       "                        <td id=\"T_a67b1d90_05f2_11ea_a6fb_107b449f15fcrow3_col0\" class=\"data row3 col0\" >0.01163</td>\n",
       "            </tr>\n",
       "            <tr>\n",
       "                        <th id=\"T_a67b1d90_05f2_11ea_a6fb_107b449f15fclevel0_row4\" class=\"row_heading level0 row4\" >высокий_давление</th>\n",
       "                        <td id=\"T_a67b1d90_05f2_11ea_a6fb_107b449f15fcrow4_col0\" class=\"data row4 col0\" >0.01153</td>\n",
       "            </tr>\n",
       "            <tr>\n",
       "                        <th id=\"T_a67b1d90_05f2_11ea_a6fb_107b449f15fclevel0_row5\" class=\"row_heading level0 row5\" >молекулярный_машина</th>\n",
       "                        <td id=\"T_a67b1d90_05f2_11ea_a6fb_107b449f15fcrow5_col0\" class=\"data row5 col0\" >0.01085</td>\n",
       "            </tr>\n",
       "            <tr>\n",
       "                        <th id=\"T_a67b1d90_05f2_11ea_a6fb_107b449f15fclevel0_row6\" class=\"row_heading level0 row6\" >высокий_температура</th>\n",
       "                        <td id=\"T_a67b1d90_05f2_11ea_a6fb_107b449f15fcrow6_col0\" class=\"data row6 col0\" >0.01038</td>\n",
       "            </tr>\n",
       "            <tr>\n",
       "                        <th id=\"T_a67b1d90_05f2_11ea_a6fb_107b449f15fclevel0_row7\" class=\"row_heading level0 row7\" >химический_связь</th>\n",
       "                        <td id=\"T_a67b1d90_05f2_11ea_a6fb_107b449f15fcrow7_col0\" class=\"data row7 col0\" >0.00863</td>\n",
       "            </tr>\n",
       "            <tr>\n",
       "                        <th id=\"T_a67b1d90_05f2_11ea_a6fb_107b449f15fclevel0_row8\" class=\"row_heading level0 row8\" >магнитный_пол</th>\n",
       "                        <td id=\"T_a67b1d90_05f2_11ea_a6fb_107b449f15fcrow8_col0\" class=\"data row8 col0\" >0.0085</td>\n",
       "            </tr>\n",
       "            <tr>\n",
       "                        <th id=\"T_a67b1d90_05f2_11ea_a6fb_107b449f15fclevel0_row9\" class=\"row_heading level0 row9\" >атом_углерод</th>\n",
       "                        <td id=\"T_a67b1d90_05f2_11ea_a6fb_107b449f15fcrow9_col0\" class=\"data row9 col0\" >0.0083</td>\n",
       "            </tr>\n",
       "    </tbody></table><style  type=\"text/css\" >\n",
       "</style><table id=\"T_a67b1d91_05f2_11ea_a6fb_107b449f15fc\" style='display:inline'><thead>    <tr>        <th class=\"blank level0\" ></th>        <th class=\"col_heading level0 col0\" >topic_1 @3gramm</th>    </tr></thead><tbody>\n",
       "        </tbody></table><style  type=\"text/css\" >\n",
       "</style><table id=\"T_a67b1d92_05f2_11ea_a6fb_107b449f15fc\" style='display:inline'><thead>    <tr>        <th class=\"blank level0\" ></th>        <th class=\"col_heading level0 col0\" >topic_1 @post_tag</th>    </tr></thead><tbody>\n",
       "                <tr>\n",
       "                        <th id=\"T_a67b1d92_05f2_11ea_a6fb_107b449f15fclevel0_row0\" class=\"row_heading level0 row0\" >химия</th>\n",
       "                        <td id=\"T_a67b1d92_05f2_11ea_a6fb_107b449f15fcrow0_col0\" class=\"data row0 col0\" >0.27037</td>\n",
       "            </tr>\n",
       "            <tr>\n",
       "                        <th id=\"T_a67b1d92_05f2_11ea_a6fb_107b449f15fclevel0_row1\" class=\"row_heading level0 row1\" >материаловедение</th>\n",
       "                        <td id=\"T_a67b1d92_05f2_11ea_a6fb_107b449f15fcrow1_col0\" class=\"data row1 col0\" >0.10295</td>\n",
       "            </tr>\n",
       "            <tr>\n",
       "                        <th id=\"T_a67b1d92_05f2_11ea_a6fb_107b449f15fclevel0_row2\" class=\"row_heading level0 row2\" >молекула</th>\n",
       "                        <td id=\"T_a67b1d92_05f2_11ea_a6fb_107b449f15fcrow2_col0\" class=\"data row2 col0\" >0.05285</td>\n",
       "            </tr>\n",
       "            <tr>\n",
       "                        <th id=\"T_a67b1d92_05f2_11ea_a6fb_107b449f15fclevel0_row3\" class=\"row_heading level0 row3\" >кристалл</th>\n",
       "                        <td id=\"T_a67b1d92_05f2_11ea_a6fb_107b449f15fcrow3_col0\" class=\"data row3 col0\" >0.04287</td>\n",
       "            </tr>\n",
       "            <tr>\n",
       "                        <th id=\"T_a67b1d92_05f2_11ea_a6fb_107b449f15fclevel0_row4\" class=\"row_heading level0 row4\" >органическая_химия</th>\n",
       "                        <td id=\"T_a67b1d92_05f2_11ea_a6fb_107b449f15fcrow4_col0\" class=\"data row4 col0\" >0.03642</td>\n",
       "            </tr>\n",
       "            <tr>\n",
       "                        <th id=\"T_a67b1d92_05f2_11ea_a6fb_107b449f15fclevel0_row5\" class=\"row_heading level0 row5\" >кристаллография</th>\n",
       "                        <td id=\"T_a67b1d92_05f2_11ea_a6fb_107b449f15fcrow5_col0\" class=\"data row5 col0\" >0.03216</td>\n",
       "            </tr>\n",
       "            <tr>\n",
       "                        <th id=\"T_a67b1d92_05f2_11ea_a6fb_107b449f15fclevel0_row6\" class=\"row_heading level0 row6\" >графен</th>\n",
       "                        <td id=\"T_a67b1d92_05f2_11ea_a6fb_107b449f15fcrow6_col0\" class=\"data row6 col0\" >0.02968</td>\n",
       "            </tr>\n",
       "            <tr>\n",
       "                        <th id=\"T_a67b1d92_05f2_11ea_a6fb_107b449f15fclevel0_row7\" class=\"row_heading level0 row7\" >углерод</th>\n",
       "                        <td id=\"T_a67b1d92_05f2_11ea_a6fb_107b449f15fcrow7_col0\" class=\"data row7 col0\" >0.0278</td>\n",
       "            </tr>\n",
       "            <tr>\n",
       "                        <th id=\"T_a67b1d92_05f2_11ea_a6fb_107b449f15fclevel0_row8\" class=\"row_heading level0 row8\" >полимеры</th>\n",
       "                        <td id=\"T_a67b1d92_05f2_11ea_a6fb_107b449f15fcrow8_col0\" class=\"data row8 col0\" >0.02569</td>\n",
       "            </tr>\n",
       "            <tr>\n",
       "                        <th id=\"T_a67b1d92_05f2_11ea_a6fb_107b449f15fclevel0_row9\" class=\"row_heading level0 row9\" >сверхпроводимость</th>\n",
       "                        <td id=\"T_a67b1d92_05f2_11ea_a6fb_107b449f15fcrow9_col0\" class=\"data row9 col0\" >0.02538</td>\n",
       "            </tr>\n",
       "    </tbody></table><style  type=\"text/css\" >\n",
       "</style><table id=\"T_a67b1d93_05f2_11ea_a6fb_107b449f15fc\" style='display:inline'><thead>    <tr>        <th class=\"blank level0\" ></th>        <th class=\"col_heading level0 col0\" >topic_1 @word</th>    </tr></thead><tbody>\n",
       "                <tr>\n",
       "                        <th id=\"T_a67b1d93_05f2_11ea_a6fb_107b449f15fclevel0_row0\" class=\"row_heading level0 row0\" >материал</th>\n",
       "                        <td id=\"T_a67b1d93_05f2_11ea_a6fb_107b449f15fcrow0_col0\" class=\"data row0 col0\" >0.01418</td>\n",
       "            </tr>\n",
       "            <tr>\n",
       "                        <th id=\"T_a67b1d93_05f2_11ea_a6fb_107b449f15fclevel0_row1\" class=\"row_heading level0 row1\" >молекула</th>\n",
       "                        <td id=\"T_a67b1d93_05f2_11ea_a6fb_107b449f15fcrow1_col0\" class=\"data row1 col0\" >0.01297</td>\n",
       "            </tr>\n",
       "            <tr>\n",
       "                        <th id=\"T_a67b1d93_05f2_11ea_a6fb_107b449f15fclevel0_row2\" class=\"row_heading level0 row2\" >химия</th>\n",
       "                        <td id=\"T_a67b1d93_05f2_11ea_a6fb_107b449f15fcrow2_col0\" class=\"data row2 col0\" >0.01255</td>\n",
       "            </tr>\n",
       "            <tr>\n",
       "                        <th id=\"T_a67b1d93_05f2_11ea_a6fb_107b449f15fclevel0_row3\" class=\"row_heading level0 row3\" >структура</th>\n",
       "                        <td id=\"T_a67b1d93_05f2_11ea_a6fb_107b449f15fcrow3_col0\" class=\"data row3 col0\" >0.01023</td>\n",
       "            </tr>\n",
       "            <tr>\n",
       "                        <th id=\"T_a67b1d93_05f2_11ea_a6fb_107b449f15fclevel0_row4\" class=\"row_heading level0 row4\" >соединение</th>\n",
       "                        <td id=\"T_a67b1d93_05f2_11ea_a6fb_107b449f15fcrow4_col0\" class=\"data row4 col0\" >0.00971</td>\n",
       "            </tr>\n",
       "            <tr>\n",
       "                        <th id=\"T_a67b1d93_05f2_11ea_a6fb_107b449f15fclevel0_row5\" class=\"row_heading level0 row5\" >вещество</th>\n",
       "                        <td id=\"T_a67b1d93_05f2_11ea_a6fb_107b449f15fcrow5_col0\" class=\"data row5 col0\" >0.00924</td>\n",
       "            </tr>\n",
       "            <tr>\n",
       "                        <th id=\"T_a67b1d93_05f2_11ea_a6fb_107b449f15fclevel0_row6\" class=\"row_heading level0 row6\" >элемент</th>\n",
       "                        <td id=\"T_a67b1d93_05f2_11ea_a6fb_107b449f15fcrow6_col0\" class=\"data row6 col0\" >0.00671</td>\n",
       "            </tr>\n",
       "            <tr>\n",
       "                        <th id=\"T_a67b1d93_05f2_11ea_a6fb_107b449f15fclevel0_row7\" class=\"row_heading level0 row7\" >полимер</th>\n",
       "                        <td id=\"T_a67b1d93_05f2_11ea_a6fb_107b449f15fcrow7_col0\" class=\"data row7 col0\" >0.00651</td>\n",
       "            </tr>\n",
       "            <tr>\n",
       "                        <th id=\"T_a67b1d93_05f2_11ea_a6fb_107b449f15fclevel0_row8\" class=\"row_heading level0 row8\" >метод</th>\n",
       "                        <td id=\"T_a67b1d93_05f2_11ea_a6fb_107b449f15fcrow8_col0\" class=\"data row8 col0\" >0.006</td>\n",
       "            </tr>\n",
       "            <tr>\n",
       "                        <th id=\"T_a67b1d93_05f2_11ea_a6fb_107b449f15fclevel0_row9\" class=\"row_heading level0 row9\" >сверхпроводимость</th>\n",
       "                        <td id=\"T_a67b1d93_05f2_11ea_a6fb_107b449f15fcrow9_col0\" class=\"data row9 col0\" >0.00597</td>\n",
       "            </tr>\n",
       "    </tbody></table>"
      ]
     },
     "metadata": {},
     "output_type": "display_data"
    },
    {
     "data": {
      "text/html": [
       "<b> водородные топливные элементыот полетов «аполлона» до автомобилей </b><br /> об одном из самых многообещающих альтернативных источников энергии, водородном гибридном автомобиле toyota mirai и защите окружающей среды"
      ]
     },
     "metadata": {},
     "output_type": "display_data"
    },
    {
     "data": {
      "text/html": [
       "<b> реакция интеркалирования </b><br /> химик виктор авдеев о графитовой матрице, сверхсжатом состоянии металлов и интеркалировании природного вермикулита"
      ]
     },
     "metadata": {},
     "output_type": "display_data"
    },
    {
     "data": {
      "text/html": [
       "<b> фуллерены </b><br /> нобелевский лауреат по химии харольд крото о молекулярных решетках, исследовании углеродных звезд и фундаментальной науке"
      ]
     },
     "metadata": {},
     "output_type": "display_data"
    },
    {
     "data": {
      "text/html": [
       "<b> дизайн сверхпроводников, магнитов и взрывчатых веществ </b><br /> химик артем оганов о роли тяжелых элементов, максимизации энергии и повышении температуры сверхпроводимости"
      ]
     },
     "metadata": {},
     "output_type": "display_data"
    },
    {
     "data": {
      "text/html": [
       "<b> обнаружен полимерный раствор, затвердевающий при нагревании </b><br /> о взаимодействии различных фракций, образовании кристаллов и применении веществ с контролируемо изменяющимися свойствами"
      ]
     },
     "metadata": {},
     "output_type": "display_data"
    },
    {
     "data": {
      "text/html": [
       "<b> гетероциклические циркулены </b><br /> химик валентин ненайденко об органической химии, красоте молекул и «серных цветках»"
      ]
     },
     "metadata": {},
     "output_type": "display_data"
    },
    {
     "data": {
      "text/html": [
       "<b> «если я научусь делать деньги — я разучусь делать науку» </b><br /> химик артем оганов о предсказании новых материалов, коммерциализации науки и амбициозных идеях"
      ]
     },
     "metadata": {},
     "output_type": "display_data"
    },
    {
     "data": {
      "text/html": [
       "<b> синтезирован полимер в форме винтовой лестницы </b><br /> об оптически активных веществах, полимерах спиральной структуры и многоэтапном синтезе"
      ]
     },
     "metadata": {},
     "output_type": "display_data"
    },
    {
     "data": {
      "text/html": [
       "<b> превращения в кристаллах </b><br /> материаловед валентин крапошин о полиморфном переходе, закалке стали и причинах плавления льда на поверхности воды"
      ]
     },
     "metadata": {},
     "output_type": "display_data"
    },
    {
     "data": {
      "text/html": [
       "<b> дизайн сверхтвердых материалов </b><br /> химик артем оганов о структуре алмаза, применении сверхтвердых материалов и новых формах углерода"
      ]
     },
     "metadata": {},
     "output_type": "display_data"
    },
    {
     "data": {
      "text/html": [
       "<style  type=\"text/css\" >\n",
       "</style><table id=\"T_a67b1d94_05f2_11ea_a6fb_107b449f15fc\" style='display:inline'><thead>    <tr>        <th class=\"blank level0\" ></th>        <th class=\"col_heading level0 col0\" >topic_2 @2gramm</th>    </tr></thead><tbody>\n",
       "                <tr>\n",
       "                        <th id=\"T_a67b1d94_05f2_11ea_a6fb_107b449f15fclevel0_row0\" class=\"row_heading level0 row0\" >северный_кавказ</th>\n",
       "                        <td id=\"T_a67b1d94_05f2_11ea_a6fb_107b449f15fcrow0_col0\" class=\"data row0 col0\" >0.01608</td>\n",
       "            </tr>\n",
       "            <tr>\n",
       "                        <th id=\"T_a67b1d94_05f2_11ea_a6fb_107b449f15fclevel0_row1\" class=\"row_heading level0 row1\" >ближний_восток</th>\n",
       "                        <td id=\"T_a67b1d94_05f2_11ea_a6fb_107b449f15fcrow1_col0\" class=\"data row1 col0\" >0.01519</td>\n",
       "            </tr>\n",
       "            <tr>\n",
       "                        <th id=\"T_a67b1d94_05f2_11ea_a6fb_107b449f15fclevel0_row2\" class=\"row_heading level0 row2\" >xvi_век</th>\n",
       "                        <td id=\"T_a67b1d94_05f2_11ea_a6fb_107b449f15fcrow2_col0\" class=\"data row2 col0\" >0.01038</td>\n",
       "            </tr>\n",
       "            <tr>\n",
       "                        <th id=\"T_a67b1d94_05f2_11ea_a6fb_107b449f15fclevel0_row3\" class=\"row_heading level0 row3\" >vii_век</th>\n",
       "                        <td id=\"T_a67b1d94_05f2_11ea_a6fb_107b449f15fcrow3_col0\" class=\"data row3 col0\" >0.00888</td>\n",
       "            </tr>\n",
       "            <tr>\n",
       "                        <th id=\"T_a67b1d94_05f2_11ea_a6fb_107b449f15fclevel0_row4\" class=\"row_heading level0 row4\" >vi_век</th>\n",
       "                        <td id=\"T_a67b1d94_05f2_11ea_a6fb_107b449f15fcrow4_col0\" class=\"data row4 col0\" >0.00873</td>\n",
       "            </tr>\n",
       "            <tr>\n",
       "                        <th id=\"T_a67b1d94_05f2_11ea_a6fb_107b449f15fclevel0_row5\" class=\"row_heading level0 row5\" >восточный_азия</th>\n",
       "                        <td id=\"T_a67b1d94_05f2_11ea_a6fb_107b449f15fcrow5_col0\" class=\"data row5 col0\" >0.00872</td>\n",
       "            </tr>\n",
       "            <tr>\n",
       "                        <th id=\"T_a67b1d94_05f2_11ea_a6fb_107b449f15fclevel0_row6\" class=\"row_heading level0 row6\" >саудовский_аравия</th>\n",
       "                        <td id=\"T_a67b1d94_05f2_11ea_a6fb_107b449f15fcrow6_col0\" class=\"data row6 col0\" >0.00862</td>\n",
       "            </tr>\n",
       "            <tr>\n",
       "                        <th id=\"T_a67b1d94_05f2_11ea_a6fb_107b449f15fclevel0_row7\" class=\"row_heading level0 row7\" >письменный_источник</th>\n",
       "                        <td id=\"T_a67b1d94_05f2_11ea_a6fb_107b449f15fcrow7_col0\" class=\"data row7 col0\" >0.00838</td>\n",
       "            </tr>\n",
       "            <tr>\n",
       "                        <th id=\"T_a67b1d94_05f2_11ea_a6fb_107b449f15fclevel0_row8\" class=\"row_heading level0 row8\" >арабский_весна</th>\n",
       "                        <td id=\"T_a67b1d94_05f2_11ea_a6fb_107b449f15fcrow8_col0\" class=\"data row8 col0\" >0.0076</td>\n",
       "            </tr>\n",
       "            <tr>\n",
       "                        <th id=\"T_a67b1d94_05f2_11ea_a6fb_107b449f15fclevel0_row9\" class=\"row_heading level0 row9\" >иван_грозный</th>\n",
       "                        <td id=\"T_a67b1d94_05f2_11ea_a6fb_107b449f15fcrow9_col0\" class=\"data row9 col0\" >0.00747</td>\n",
       "            </tr>\n",
       "    </tbody></table><style  type=\"text/css\" >\n",
       "</style><table id=\"T_a67b1d95_05f2_11ea_a6fb_107b449f15fc\" style='display:inline'><thead>    <tr>        <th class=\"blank level0\" ></th>        <th class=\"col_heading level0 col0\" >topic_2 @3gramm</th>    </tr></thead><tbody>\n",
       "        </tbody></table><style  type=\"text/css\" >\n",
       "</style><table id=\"T_a67b1d96_05f2_11ea_a6fb_107b449f15fc\" style='display:inline'><thead>    <tr>        <th class=\"blank level0\" ></th>        <th class=\"col_heading level0 col0\" >topic_2 @post_tag</th>    </tr></thead><tbody>\n",
       "                <tr>\n",
       "                        <th id=\"T_a67b1d96_05f2_11ea_a6fb_107b449f15fclevel0_row0\" class=\"row_heading level0 row0\" >религия</th>\n",
       "                        <td id=\"T_a67b1d96_05f2_11ea_a6fb_107b449f15fcrow0_col0\" class=\"data row0 col0\" >0.1169</td>\n",
       "            </tr>\n",
       "            <tr>\n",
       "                        <th id=\"T_a67b1d96_05f2_11ea_a6fb_107b449f15fclevel0_row1\" class=\"row_heading level0 row1\" >китай</th>\n",
       "                        <td id=\"T_a67b1d96_05f2_11ea_a6fb_107b449f15fcrow1_col0\" class=\"data row1 col0\" >0.0704</td>\n",
       "            </tr>\n",
       "            <tr>\n",
       "                        <th id=\"T_a67b1d96_05f2_11ea_a6fb_107b449f15fclevel0_row2\" class=\"row_heading level0 row2\" >археология</th>\n",
       "                        <td id=\"T_a67b1d96_05f2_11ea_a6fb_107b449f15fcrow2_col0\" class=\"data row2 col0\" >0.0641</td>\n",
       "            </tr>\n",
       "            <tr>\n",
       "                        <th id=\"T_a67b1d96_05f2_11ea_a6fb_107b449f15fclevel0_row3\" class=\"row_heading level0 row3\" >ислам</th>\n",
       "                        <td id=\"T_a67b1d96_05f2_11ea_a6fb_107b449f15fcrow3_col0\" class=\"data row3 col0\" >0.06409</td>\n",
       "            </tr>\n",
       "            <tr>\n",
       "                        <th id=\"T_a67b1d96_05f2_11ea_a6fb_107b449f15fclevel0_row4\" class=\"row_heading level0 row4\" >майя</th>\n",
       "                        <td id=\"T_a67b1d96_05f2_11ea_a6fb_107b449f15fcrow4_col0\" class=\"data row4 col0\" >0.04623</td>\n",
       "            </tr>\n",
       "            <tr>\n",
       "                        <th id=\"T_a67b1d96_05f2_11ea_a6fb_107b449f15fclevel0_row5\" class=\"row_heading level0 row5\" >африка</th>\n",
       "                        <td id=\"T_a67b1d96_05f2_11ea_a6fb_107b449f15fcrow5_col0\" class=\"data row5 col0\" >0.04136</td>\n",
       "            </tr>\n",
       "            <tr>\n",
       "                        <th id=\"T_a67b1d96_05f2_11ea_a6fb_107b449f15fclevel0_row6\" class=\"row_heading level0 row6\" >письменность</th>\n",
       "                        <td id=\"T_a67b1d96_05f2_11ea_a6fb_107b449f15fcrow6_col0\" class=\"data row6 col0\" >0.04101</td>\n",
       "            </tr>\n",
       "            <tr>\n",
       "                        <th id=\"T_a67b1d96_05f2_11ea_a6fb_107b449f15fclevel0_row7\" class=\"row_heading level0 row7\" >история</th>\n",
       "                        <td id=\"T_a67b1d96_05f2_11ea_a6fb_107b449f15fcrow7_col0\" class=\"data row7 col0\" >0.0371</td>\n",
       "            </tr>\n",
       "            <tr>\n",
       "                        <th id=\"T_a67b1d96_05f2_11ea_a6fb_107b449f15fclevel0_row8\" class=\"row_heading level0 row8\" >демография</th>\n",
       "                        <td id=\"T_a67b1d96_05f2_11ea_a6fb_107b449f15fcrow8_col0\" class=\"data row8 col0\" >0.03177</td>\n",
       "            </tr>\n",
       "            <tr>\n",
       "                        <th id=\"T_a67b1d96_05f2_11ea_a6fb_107b449f15fclevel0_row9\" class=\"row_heading level0 row9\" >мезоамерика</th>\n",
       "                        <td id=\"T_a67b1d96_05f2_11ea_a6fb_107b449f15fcrow9_col0\" class=\"data row9 col0\" >0.02822</td>\n",
       "            </tr>\n",
       "    </tbody></table><style  type=\"text/css\" >\n",
       "</style><table id=\"T_a67b1d97_05f2_11ea_a6fb_107b449f15fc\" style='display:inline'><thead>    <tr>        <th class=\"blank level0\" ></th>        <th class=\"col_heading level0 col0\" >topic_2 @word</th>    </tr></thead><tbody>\n",
       "                <tr>\n",
       "                        <th id=\"T_a67b1d97_05f2_11ea_a6fb_107b449f15fclevel0_row0\" class=\"row_heading level0 row0\" >царь</th>\n",
       "                        <td id=\"T_a67b1d97_05f2_11ea_a6fb_107b449f15fcrow0_col0\" class=\"data row0 col0\" >0.00615</td>\n",
       "            </tr>\n",
       "            <tr>\n",
       "                        <th id=\"T_a67b1d97_05f2_11ea_a6fb_107b449f15fclevel0_row1\" class=\"row_heading level0 row1\" >история</th>\n",
       "                        <td id=\"T_a67b1d97_05f2_11ea_a6fb_107b449f15fcrow1_col0\" class=\"data row1 col0\" >0.00608</td>\n",
       "            </tr>\n",
       "            <tr>\n",
       "                        <th id=\"T_a67b1d97_05f2_11ea_a6fb_107b449f15fclevel0_row2\" class=\"row_heading level0 row2\" >город</th>\n",
       "                        <td id=\"T_a67b1d97_05f2_11ea_a6fb_107b449f15fcrow2_col0\" class=\"data row2 col0\" >0.00557</td>\n",
       "            </tr>\n",
       "            <tr>\n",
       "                        <th id=\"T_a67b1d97_05f2_11ea_a6fb_107b449f15fclevel0_row3\" class=\"row_heading level0 row3\" >остров</th>\n",
       "                        <td id=\"T_a67b1d97_05f2_11ea_a6fb_107b449f15fcrow3_col0\" class=\"data row3 col0\" >0.00546</td>\n",
       "            </tr>\n",
       "            <tr>\n",
       "                        <th id=\"T_a67b1d97_05f2_11ea_a6fb_107b449f15fclevel0_row4\" class=\"row_heading level0 row4\" >государство</th>\n",
       "                        <td id=\"T_a67b1d97_05f2_11ea_a6fb_107b449f15fcrow4_col0\" class=\"data row4 col0\" >0.00501</td>\n",
       "            </tr>\n",
       "            <tr>\n",
       "                        <th id=\"T_a67b1d97_05f2_11ea_a6fb_107b449f15fclevel0_row5\" class=\"row_heading level0 row5\" >китай</th>\n",
       "                        <td id=\"T_a67b1d97_05f2_11ea_a6fb_107b449f15fcrow5_col0\" class=\"data row5 col0\" >0.00489</td>\n",
       "            </tr>\n",
       "            <tr>\n",
       "                        <th id=\"T_a67b1d97_05f2_11ea_a6fb_107b449f15fclevel0_row6\" class=\"row_heading level0 row6\" >культура</th>\n",
       "                        <td id=\"T_a67b1d97_05f2_11ea_a6fb_107b449f15fcrow6_col0\" class=\"data row6 col0\" >0.00483</td>\n",
       "            </tr>\n",
       "            <tr>\n",
       "                        <th id=\"T_a67b1d97_05f2_11ea_a6fb_107b449f15fclevel0_row7\" class=\"row_heading level0 row7\" >святилище</th>\n",
       "                        <td id=\"T_a67b1d97_05f2_11ea_a6fb_107b449f15fcrow7_col0\" class=\"data row7 col0\" >0.00478</td>\n",
       "            </tr>\n",
       "            <tr>\n",
       "                        <th id=\"T_a67b1d97_05f2_11ea_a6fb_107b449f15fclevel0_row8\" class=\"row_heading level0 row8\" >бог</th>\n",
       "                        <td id=\"T_a67b1d97_05f2_11ea_a6fb_107b449f15fcrow8_col0\" class=\"data row8 col0\" >0.00478</td>\n",
       "            </tr>\n",
       "            <tr>\n",
       "                        <th id=\"T_a67b1d97_05f2_11ea_a6fb_107b449f15fclevel0_row9\" class=\"row_heading level0 row9\" >территория</th>\n",
       "                        <td id=\"T_a67b1d97_05f2_11ea_a6fb_107b449f15fcrow9_col0\" class=\"data row9 col0\" >0.00466</td>\n",
       "            </tr>\n",
       "    </tbody></table>"
      ]
     },
     "metadata": {},
     "output_type": "display_data"
    },
    {
     "data": {
      "text/html": [
       "<b> государства сапотеков и миштеков </b><br /> историк дмитрий беляев о культе предков, стенах черепов и археологических исследованиях в долине оахаки"
      ]
     },
     "metadata": {},
     "output_type": "display_data"
    },
    {
     "data": {
      "text/html": [
       "<b> faqпарадокс конкисты </b><br /> 7 фактов о главных задачах и особенностях испанского завоевания америки"
      ]
     },
     "metadata": {},
     "output_type": "display_data"
    },
    {
     "data": {
      "text/html": [
       "<b> первая империя мезоамерики </b><br /> историк дмитрий беляев об организации пространства теотиуакана, городском быте и особенностях культурной экспансии"
      ]
     },
     "metadata": {},
     "output_type": "display_data"
    },
    {
     "data": {
      "text/html": [
       "<b> «отряд конкистадоров — своего рода акционерная компания, где каждый надеется окупить затраты» </b><br /> интервью с филологом андреем кофманом о причинах успеха конкисты и становлении латиноамериканской культуры"
      ]
     },
     "metadata": {},
     "output_type": "display_data"
    },
    {
     "data": {
      "text/html": [
       "<b> памятники классического периода истории древнего китая </b><br /> историк марк ульянов об эпиграфических надписях ранних периодов, жанре исторических хроник и каноноведческой школе"
      ]
     },
     "metadata": {},
     "output_type": "display_data"
    },
    {
     "data": {
      "text/html": [
       "<b> парадокс конкисты </b><br /> латиноамериканист андрей кофман о  христианизации индейцев, экспедиции кортеса и капиталистической форме организации"
      ]
     },
     "metadata": {},
     "output_type": "display_data"
    },
    {
     "data": {
      "text/html": [
       "<b> конкиста и метисация </b><br /> латиноамериканист андрей кофман о христианизации индейцев, культуре сексуальных отношений в америке и  внебрачных детях колонистов"
      ]
     },
     "metadata": {},
     "output_type": "display_data"
    },
    {
     "data": {
      "text/html": [
       "<b> кризис мезоамериканских государств классического периода </b><br /> историк дмитрий беляев о процессе балканизации, упадке теотиуакана и самом масштабном батальном памятнике в истории"
      ]
     },
     "metadata": {},
     "output_type": "display_data"
    },
    {
     "data": {
      "text/html": [
       "<b> формирование этнической общности хуася </b><br /> историк марк ульянов о происхождении древних китайцев, археологических находках и территории расселения хуася"
      ]
     },
     "metadata": {},
     "output_type": "display_data"
    },
    {
     "data": {
      "text/html": [
       "<b> царская власть в паленке </b><br /> историк дмитрий беляев о храме надписей, жертвоприношениях богам и пророчествах майя"
      ]
     },
     "metadata": {},
     "output_type": "display_data"
    },
    {
     "data": {
      "text/html": [
       "<style  type=\"text/css\" >\n",
       "</style><table id=\"T_a67b1d98_05f2_11ea_a6fb_107b449f15fc\" style='display:inline'><thead>    <tr>        <th class=\"blank level0\" ></th>        <th class=\"col_heading level0 col0\" >topic_3 @2gramm</th>    </tr></thead><tbody>\n",
       "                <tr>\n",
       "                        <th id=\"T_a67b1d98_05f2_11ea_a6fb_107b449f15fclevel0_row0\" class=\"row_heading level0 row0\" >мировой_война</th>\n",
       "                        <td id=\"T_a67b1d98_05f2_11ea_a6fb_107b449f15fcrow0_col0\" class=\"data row0 col0\" >0.04076</td>\n",
       "            </tr>\n",
       "            <tr>\n",
       "                        <th id=\"T_a67b1d98_05f2_11ea_a6fb_107b449f15fclevel0_row1\" class=\"row_heading level0 row1\" >французский_революция</th>\n",
       "                        <td id=\"T_a67b1d98_05f2_11ea_a6fb_107b449f15fcrow1_col0\" class=\"data row1 col0\" >0.02331</td>\n",
       "            </tr>\n",
       "            <tr>\n",
       "                        <th id=\"T_a67b1d98_05f2_11ea_a6fb_107b449f15fclevel0_row2\" class=\"row_heading level0 row2\" >xviii_век</th>\n",
       "                        <td id=\"T_a67b1d98_05f2_11ea_a6fb_107b449f15fcrow2_col0\" class=\"data row2 col0\" >0.01344</td>\n",
       "            </tr>\n",
       "            <tr>\n",
       "                        <th id=\"T_a67b1d98_05f2_11ea_a6fb_107b449f15fclevel0_row3\" class=\"row_heading level0 row3\" >веймарский_республика</th>\n",
       "                        <td id=\"T_a67b1d98_05f2_11ea_a6fb_107b449f15fcrow3_col0\" class=\"data row3 col0\" >0.01195</td>\n",
       "            </tr>\n",
       "            <tr>\n",
       "                        <th id=\"T_a67b1d98_05f2_11ea_a6fb_107b449f15fclevel0_row4\" class=\"row_heading level0 row4\" >европейский_союз</th>\n",
       "                        <td id=\"T_a67b1d98_05f2_11ea_a6fb_107b449f15fcrow4_col0\" class=\"data row4 col0\" >0.01167</td>\n",
       "            </tr>\n",
       "            <tr>\n",
       "                        <th id=\"T_a67b1d98_05f2_11ea_a6fb_107b449f15fclevel0_row5\" class=\"row_heading level0 row5\" >екатерина_ii</th>\n",
       "                        <td id=\"T_a67b1d98_05f2_11ea_a6fb_107b449f15fcrow5_col0\" class=\"data row5 col0\" >0.00792</td>\n",
       "            </tr>\n",
       "            <tr>\n",
       "                        <th id=\"T_a67b1d98_05f2_11ea_a6fb_107b449f15fclevel0_row6\" class=\"row_heading level0 row6\" >российский_империя</th>\n",
       "                        <td id=\"T_a67b1d98_05f2_11ea_a6fb_107b449f15fcrow6_col0\" class=\"data row6 col0\" >0.00764</td>\n",
       "            </tr>\n",
       "            <tr>\n",
       "                        <th id=\"T_a67b1d98_05f2_11ea_a6fb_107b449f15fclevel0_row7\" class=\"row_heading level0 row7\" >третье_сословие</th>\n",
       "                        <td id=\"T_a67b1d98_05f2_11ea_a6fb_107b449f15fcrow7_col0\" class=\"data row7 col0\" >0.00714</td>\n",
       "            </tr>\n",
       "            <tr>\n",
       "                        <th id=\"T_a67b1d98_05f2_11ea_a6fb_107b449f15fclevel0_row8\" class=\"row_heading level0 row8\" >третье_рейх</th>\n",
       "                        <td id=\"T_a67b1d98_05f2_11ea_a6fb_107b449f15fcrow8_col0\" class=\"data row8 col0\" >0.00637</td>\n",
       "            </tr>\n",
       "            <tr>\n",
       "                        <th id=\"T_a67b1d98_05f2_11ea_a6fb_107b449f15fclevel0_row9\" class=\"row_heading level0 row9\" >нацистский_германия</th>\n",
       "                        <td id=\"T_a67b1d98_05f2_11ea_a6fb_107b449f15fcrow9_col0\" class=\"data row9 col0\" >0.00544</td>\n",
       "            </tr>\n",
       "    </tbody></table><style  type=\"text/css\" >\n",
       "</style><table id=\"T_a67b1d99_05f2_11ea_a6fb_107b449f15fc\" style='display:inline'><thead>    <tr>        <th class=\"blank level0\" ></th>        <th class=\"col_heading level0 col0\" >topic_3 @3gramm</th>    </tr></thead><tbody>\n",
       "        </tbody></table><style  type=\"text/css\" >\n",
       "</style><table id=\"T_a67b1d9a_05f2_11ea_a6fb_107b449f15fc\" style='display:inline'><thead>    <tr>        <th class=\"blank level0\" ></th>        <th class=\"col_heading level0 col0\" >topic_3 @post_tag</th>    </tr></thead><tbody>\n",
       "                <tr>\n",
       "                        <th id=\"T_a67b1d9a_05f2_11ea_a6fb_107b449f15fclevel0_row0\" class=\"row_heading level0 row0\" >германия</th>\n",
       "                        <td id=\"T_a67b1d9a_05f2_11ea_a6fb_107b449f15fcrow0_col0\" class=\"data row0 col0\" >0.1408</td>\n",
       "            </tr>\n",
       "            <tr>\n",
       "                        <th id=\"T_a67b1d9a_05f2_11ea_a6fb_107b449f15fclevel0_row1\" class=\"row_heading level0 row1\" >франция</th>\n",
       "                        <td id=\"T_a67b1d9a_05f2_11ea_a6fb_107b449f15fcrow1_col0\" class=\"data row1 col0\" >0.11301</td>\n",
       "            </tr>\n",
       "            <tr>\n",
       "                        <th id=\"T_a67b1d9a_05f2_11ea_a6fb_107b449f15fclevel0_row2\" class=\"row_heading level0 row2\" >первая_мировая_война</th>\n",
       "                        <td id=\"T_a67b1d9a_05f2_11ea_a6fb_107b449f15fcrow2_col0\" class=\"data row2 col0\" >0.05214</td>\n",
       "            </tr>\n",
       "            <tr>\n",
       "                        <th id=\"T_a67b1d9a_05f2_11ea_a6fb_107b449f15fclevel0_row3\" class=\"row_heading level0 row3\" >французская_революция_xviii_века</th>\n",
       "                        <td id=\"T_a67b1d9a_05f2_11ea_a6fb_107b449f15fcrow3_col0\" class=\"data row3 col0\" >0.03966</td>\n",
       "            </tr>\n",
       "            <tr>\n",
       "                        <th id=\"T_a67b1d9a_05f2_11ea_a6fb_107b449f15fclevel0_row4\" class=\"row_heading level0 row4\" >национал-социализм</th>\n",
       "                        <td id=\"T_a67b1d9a_05f2_11ea_a6fb_107b449f15fcrow4_col0\" class=\"data row4 col0\" >0.03668</td>\n",
       "            </tr>\n",
       "            <tr>\n",
       "                        <th id=\"T_a67b1d9a_05f2_11ea_a6fb_107b449f15fclevel0_row5\" class=\"row_heading level0 row5\" >гитлер_адольф</th>\n",
       "                        <td id=\"T_a67b1d9a_05f2_11ea_a6fb_107b449f15fcrow5_col0\" class=\"data row5 col0\" >0.03366</td>\n",
       "            </tr>\n",
       "            <tr>\n",
       "                        <th id=\"T_a67b1d9a_05f2_11ea_a6fb_107b449f15fclevel0_row6\" class=\"row_heading level0 row6\" >демократия</th>\n",
       "                        <td id=\"T_a67b1d9a_05f2_11ea_a6fb_107b449f15fcrow6_col0\" class=\"data row6 col0\" >0.03321</td>\n",
       "            </tr>\n",
       "            <tr>\n",
       "                        <th id=\"T_a67b1d9a_05f2_11ea_a6fb_107b449f15fclevel0_row7\" class=\"row_heading level0 row7\" >терроризм</th>\n",
       "                        <td id=\"T_a67b1d9a_05f2_11ea_a6fb_107b449f15fcrow7_col0\" class=\"data row7 col0\" >0.03299</td>\n",
       "            </tr>\n",
       "            <tr>\n",
       "                        <th id=\"T_a67b1d9a_05f2_11ea_a6fb_107b449f15fclevel0_row8\" class=\"row_heading level0 row8\" >история</th>\n",
       "                        <td id=\"T_a67b1d9a_05f2_11ea_a6fb_107b449f15fcrow8_col0\" class=\"data row8 col0\" >0.02935</td>\n",
       "            </tr>\n",
       "            <tr>\n",
       "                        <th id=\"T_a67b1d9a_05f2_11ea_a6fb_107b449f15fclevel0_row9\" class=\"row_heading level0 row9\" >новое_время</th>\n",
       "                        <td id=\"T_a67b1d9a_05f2_11ea_a6fb_107b449f15fcrow9_col0\" class=\"data row9 col0\" >0.02893</td>\n",
       "            </tr>\n",
       "    </tbody></table><style  type=\"text/css\" >\n",
       "</style><table id=\"T_a67b1d9b_05f2_11ea_a6fb_107b449f15fc\" style='display:inline'><thead>    <tr>        <th class=\"blank level0\" ></th>        <th class=\"col_heading level0 col0\" >topic_3 @word</th>    </tr></thead><tbody>\n",
       "                <tr>\n",
       "                        <th id=\"T_a67b1d9b_05f2_11ea_a6fb_107b449f15fclevel0_row0\" class=\"row_heading level0 row0\" >германия</th>\n",
       "                        <td id=\"T_a67b1d9b_05f2_11ea_a6fb_107b449f15fcrow0_col0\" class=\"data row0 col0\" >0.00997</td>\n",
       "            </tr>\n",
       "            <tr>\n",
       "                        <th id=\"T_a67b1d9b_05f2_11ea_a6fb_107b449f15fclevel0_row1\" class=\"row_heading level0 row1\" >война</th>\n",
       "                        <td id=\"T_a67b1d9b_05f2_11ea_a6fb_107b449f15fcrow1_col0\" class=\"data row1 col0\" >0.00992</td>\n",
       "            </tr>\n",
       "            <tr>\n",
       "                        <th id=\"T_a67b1d9b_05f2_11ea_a6fb_107b449f15fclevel0_row2\" class=\"row_heading level0 row2\" >музей</th>\n",
       "                        <td id=\"T_a67b1d9b_05f2_11ea_a6fb_107b449f15fcrow2_col0\" class=\"data row2 col0\" >0.00951</td>\n",
       "            </tr>\n",
       "            <tr>\n",
       "                        <th id=\"T_a67b1d9b_05f2_11ea_a6fb_107b449f15fclevel0_row3\" class=\"row_heading level0 row3\" >революция</th>\n",
       "                        <td id=\"T_a67b1d9b_05f2_11ea_a6fb_107b449f15fcrow3_col0\" class=\"data row3 col0\" >0.00812</td>\n",
       "            </tr>\n",
       "            <tr>\n",
       "                        <th id=\"T_a67b1d9b_05f2_11ea_a6fb_107b449f15fclevel0_row4\" class=\"row_heading level0 row4\" >франция</th>\n",
       "                        <td id=\"T_a67b1d9b_05f2_11ea_a6fb_107b449f15fcrow4_col0\" class=\"data row4 col0\" >0.00707</td>\n",
       "            </tr>\n",
       "            <tr>\n",
       "                        <th id=\"T_a67b1d9b_05f2_11ea_a6fb_107b449f15fclevel0_row5\" class=\"row_heading level0 row5\" >россия</th>\n",
       "                        <td id=\"T_a67b1d9b_05f2_11ea_a6fb_107b449f15fcrow5_col0\" class=\"data row5 col0\" >0.00618</td>\n",
       "            </tr>\n",
       "            <tr>\n",
       "                        <th id=\"T_a67b1d9b_05f2_11ea_a6fb_107b449f15fclevel0_row6\" class=\"row_heading level0 row6\" >страна</th>\n",
       "                        <td id=\"T_a67b1d9b_05f2_11ea_a6fb_107b449f15fcrow6_col0\" class=\"data row6 col0\" >0.00573</td>\n",
       "            </tr>\n",
       "            <tr>\n",
       "                        <th id=\"T_a67b1d9b_05f2_11ea_a6fb_107b449f15fclevel0_row7\" class=\"row_heading level0 row7\" >стать</th>\n",
       "                        <td id=\"T_a67b1d9b_05f2_11ea_a6fb_107b449f15fcrow7_col0\" class=\"data row7 col0\" >0.00473</td>\n",
       "            </tr>\n",
       "            <tr>\n",
       "                        <th id=\"T_a67b1d9b_05f2_11ea_a6fb_107b449f15fclevel0_row8\" class=\"row_heading level0 row8\" >немецкий</th>\n",
       "                        <td id=\"T_a67b1d9b_05f2_11ea_a6fb_107b449f15fcrow8_col0\" class=\"data row8 col0\" >0.00469</td>\n",
       "            </tr>\n",
       "            <tr>\n",
       "                        <th id=\"T_a67b1d9b_05f2_11ea_a6fb_107b449f15fclevel0_row9\" class=\"row_heading level0 row9\" >власть</th>\n",
       "                        <td id=\"T_a67b1d9b_05f2_11ea_a6fb_107b449f15fcrow9_col0\" class=\"data row9 col0\" >0.00467</td>\n",
       "            </tr>\n",
       "    </tbody></table>"
      ]
     },
     "metadata": {},
     "output_type": "display_data"
    },
    {
     "data": {
      "text/html": [
       "<b> главы # тыл в первую мировую </b><br /> отрывок из книги «первая мировая войнакатастрофа 1914 года» британского историка макса хейстингса о быте мирного населения воюющих стран"
      ]
     },
     "metadata": {},
     "output_type": "display_data"
    },
    {
     "data": {
      "text/html": [
       "<b> репрессивный аппарат третьего рейха </b><br /> историк илья женин об антисемитской политике, хрустальной ночи и лагерях смерти в нацистской германии"
      ]
     },
     "metadata": {},
     "output_type": "display_data"
    },
    {
     "data": {
      "text/html": [
       "<b> якобинский террор </b><br /> историк дмитрий бовыкин о массовых арестах в период французской революции, декретах национального конвента и теории обстоятельств в историографии"
      ]
     },
     "metadata": {},
     "output_type": "display_data"
    },
    {
     "data": {
      "text/html": [
       "<b> главы # дискуссия о сущности террора </b><br /> отрывок из книги «русское общество в зеркале революционного террора. 1879–1881 годы» историка юлии сафроновой"
      ]
     },
     "metadata": {},
     "output_type": "display_data"
    },
    {
     "data": {
      "text/html": [
       "<b> история германии xx века </b><br /> 13 лекций историка ильи женина о ключевых событиях современной истории германии"
      ]
     },
     "metadata": {},
     "output_type": "display_data"
    },
    {
     "data": {
      "text/html": [
       "<b> начало французской революции </b><br /> историк дмитрий бовыкин о движении санкюлотов, конституции 1791 года и псевдонаучных открытиях жан-поля марата"
      ]
     },
     "metadata": {},
     "output_type": "display_data"
    },
    {
     "data": {
      "text/html": [
       "<b> «зондеркоммандо» </b><br /> историк павел полян о лагерях смерти, зондеркоманде аушвица и документах холокоста"
      ]
     },
     "metadata": {},
     "output_type": "display_data"
    },
    {
     "data": {
      "text/html": [
       "<b> автограф # «свитки из пепла. еврейская “зондеркоммандо” в аушвице-биркенау и ее летописцы» </b><br /> историк павел полян о главных документах холокоста, членах зондеркоманды и осмыслении опыта концентрационных лагерей"
      ]
     },
     "metadata": {},
     "output_type": "display_data"
    },
    {
     "data": {
      "text/html": [
       "<b> французская революция xviii века </b><br /> курс лекций историка дмитрия бовыкина о революционном десятилетии, основных хронологических сюжетах и культурных изменениях той эпохи"
      ]
     },
     "metadata": {},
     "output_type": "display_data"
    },
    {
     "data": {
      "text/html": [
       "<b> идея «народного сообщества» в германии </b><br /> историк илья женин о работе немецкого трудового фронта, зарождении идеи социального государства и пропагандистской машине времен третьего рейха"
      ]
     },
     "metadata": {},
     "output_type": "display_data"
    },
    {
     "data": {
      "text/html": [
       "<style  type=\"text/css\" >\n",
       "</style><table id=\"T_a67b1d9c_05f2_11ea_a6fb_107b449f15fc\" style='display:inline'><thead>    <tr>        <th class=\"blank level0\" ></th>        <th class=\"col_heading level0 col0\" >topic_4 @2gramm</th>    </tr></thead><tbody>\n",
       "                <tr>\n",
       "                        <th id=\"T_a67b1d9c_05f2_11ea_a6fb_107b449f15fclevel0_row0\" class=\"row_heading level0 row0\" >римский_право</th>\n",
       "                        <td id=\"T_a67b1d9c_05f2_11ea_a6fb_107b449f15fcrow0_col0\" class=\"data row0 col0\" >0.04667</td>\n",
       "            </tr>\n",
       "            <tr>\n",
       "                        <th id=\"T_a67b1d9c_05f2_11ea_a6fb_107b449f15fclevel0_row1\" class=\"row_heading level0 row1\" >право_собственность</th>\n",
       "                        <td id=\"T_a67b1d9c_05f2_11ea_a6fb_107b449f15fcrow1_col0\" class=\"data row1 col0\" >0.02825</td>\n",
       "            </tr>\n",
       "            <tr>\n",
       "                        <th id=\"T_a67b1d9c_05f2_11ea_a6fb_107b449f15fclevel0_row2\" class=\"row_heading level0 row2\" >индоевропейский_язык</th>\n",
       "                        <td id=\"T_a67b1d9c_05f2_11ea_a6fb_107b449f15fcrow2_col0\" class=\"data row2 col0\" >0.02194</td>\n",
       "            </tr>\n",
       "            <tr>\n",
       "                        <th id=\"T_a67b1d9c_05f2_11ea_a6fb_107b449f15fclevel0_row3\" class=\"row_heading level0 row3\" >языковой_семья</th>\n",
       "                        <td id=\"T_a67b1d9c_05f2_11ea_a6fb_107b449f15fcrow3_col0\" class=\"data row3 col0\" >0.01722</td>\n",
       "            </tr>\n",
       "            <tr>\n",
       "                        <th id=\"T_a67b1d9c_05f2_11ea_a6fb_107b449f15fclevel0_row4\" class=\"row_heading level0 row4\" >обычный_право</th>\n",
       "                        <td id=\"T_a67b1d9c_05f2_11ea_a6fb_107b449f15fcrow4_col0\" class=\"data row4 col0\" >0.01638</td>\n",
       "            </tr>\n",
       "            <tr>\n",
       "                        <th id=\"T_a67b1d9c_05f2_11ea_a6fb_107b449f15fclevel0_row5\" class=\"row_heading level0 row5\" >правовой_система</th>\n",
       "                        <td id=\"T_a67b1d9c_05f2_11ea_a6fb_107b449f15fcrow5_col0\" class=\"data row5 col0\" >0.01237</td>\n",
       "            </tr>\n",
       "            <tr>\n",
       "                        <th id=\"T_a67b1d9c_05f2_11ea_a6fb_107b449f15fclevel0_row6\" class=\"row_heading level0 row6\" >исторический_языкознание</th>\n",
       "                        <td id=\"T_a67b1d9c_05f2_11ea_a6fb_107b449f15fcrow6_col0\" class=\"data row6 col0\" >0.01208</td>\n",
       "            </tr>\n",
       "            <tr>\n",
       "                        <th id=\"T_a67b1d9c_05f2_11ea_a6fb_107b449f15fclevel0_row7\" class=\"row_heading level0 row7\" >общий_право</th>\n",
       "                        <td id=\"T_a67b1d9c_05f2_11ea_a6fb_107b449f15fcrow7_col0\" class=\"data row7 col0\" >0.01124</td>\n",
       "            </tr>\n",
       "            <tr>\n",
       "                        <th id=\"T_a67b1d9c_05f2_11ea_a6fb_107b449f15fclevel0_row8\" class=\"row_heading level0 row8\" >римский_юрист</th>\n",
       "                        <td id=\"T_a67b1d9c_05f2_11ea_a6fb_107b449f15fcrow8_col0\" class=\"data row8 col0\" >0.01091</td>\n",
       "            </tr>\n",
       "            <tr>\n",
       "                        <th id=\"T_a67b1d9c_05f2_11ea_a6fb_107b449f15fclevel0_row9\" class=\"row_heading level0 row9\" >индоевропейский_семья</th>\n",
       "                        <td id=\"T_a67b1d9c_05f2_11ea_a6fb_107b449f15fcrow9_col0\" class=\"data row9 col0\" >0.01008</td>\n",
       "            </tr>\n",
       "    </tbody></table><style  type=\"text/css\" >\n",
       "</style><table id=\"T_a67b1d9d_05f2_11ea_a6fb_107b449f15fc\" style='display:inline'><thead>    <tr>        <th class=\"blank level0\" ></th>        <th class=\"col_heading level0 col0\" >topic_4 @3gramm</th>    </tr></thead><tbody>\n",
       "        </tbody></table><style  type=\"text/css\" >\n",
       "</style><table id=\"T_a67b1d9e_05f2_11ea_a6fb_107b449f15fc\" style='display:inline'><thead>    <tr>        <th class=\"blank level0\" ></th>        <th class=\"col_heading level0 col0\" >topic_4 @post_tag</th>    </tr></thead><tbody>\n",
       "                <tr>\n",
       "                        <th id=\"T_a67b1d9e_05f2_11ea_a6fb_107b449f15fclevel0_row0\" class=\"row_heading level0 row0\" >право</th>\n",
       "                        <td id=\"T_a67b1d9e_05f2_11ea_a6fb_107b449f15fcrow0_col0\" class=\"data row0 col0\" >0.25813</td>\n",
       "            </tr>\n",
       "            <tr>\n",
       "                        <th id=\"T_a67b1d9e_05f2_11ea_a6fb_107b449f15fclevel0_row1\" class=\"row_heading level0 row1\" >юриспруденция</th>\n",
       "                        <td id=\"T_a67b1d9e_05f2_11ea_a6fb_107b449f15fcrow1_col0\" class=\"data row1 col0\" >0.12615</td>\n",
       "            </tr>\n",
       "            <tr>\n",
       "                        <th id=\"T_a67b1d9e_05f2_11ea_a6fb_107b449f15fclevel0_row2\" class=\"row_heading level0 row2\" >римское_право</th>\n",
       "                        <td id=\"T_a67b1d9e_05f2_11ea_a6fb_107b449f15fcrow2_col0\" class=\"data row2 col0\" >0.09313</td>\n",
       "            </tr>\n",
       "            <tr>\n",
       "                        <th id=\"T_a67b1d9e_05f2_11ea_a6fb_107b449f15fclevel0_row3\" class=\"row_heading level0 row3\" >рим</th>\n",
       "                        <td id=\"T_a67b1d9e_05f2_11ea_a6fb_107b449f15fcrow3_col0\" class=\"data row3 col0\" >0.07799</td>\n",
       "            </tr>\n",
       "            <tr>\n",
       "                        <th id=\"T_a67b1d9e_05f2_11ea_a6fb_107b449f15fclevel0_row4\" class=\"row_heading level0 row4\" >лингвистическая_компаративистика</th>\n",
       "                        <td id=\"T_a67b1d9e_05f2_11ea_a6fb_107b449f15fcrow4_col0\" class=\"data row4 col0\" >0.04788</td>\n",
       "            </tr>\n",
       "            <tr>\n",
       "                        <th id=\"T_a67b1d9e_05f2_11ea_a6fb_107b449f15fclevel0_row5\" class=\"row_heading level0 row5\" >история_права</th>\n",
       "                        <td id=\"T_a67b1d9e_05f2_11ea_a6fb_107b449f15fcrow5_col0\" class=\"data row5 col0\" >0.0449</td>\n",
       "            </tr>\n",
       "            <tr>\n",
       "                        <th id=\"T_a67b1d9e_05f2_11ea_a6fb_107b449f15fclevel0_row6\" class=\"row_heading level0 row6\" >праязык</th>\n",
       "                        <td id=\"T_a67b1d9e_05f2_11ea_a6fb_107b449f15fcrow6_col0\" class=\"data row6 col0\" >0.03902</td>\n",
       "            </tr>\n",
       "            <tr>\n",
       "                        <th id=\"T_a67b1d9e_05f2_11ea_a6fb_107b449f15fclevel0_row7\" class=\"row_heading level0 row7\" >корпусная_лингвистика</th>\n",
       "                        <td id=\"T_a67b1d9e_05f2_11ea_a6fb_107b449f15fcrow7_col0\" class=\"data row7 col0\" >0.0327</td>\n",
       "            </tr>\n",
       "            <tr>\n",
       "                        <th id=\"T_a67b1d9e_05f2_11ea_a6fb_107b449f15fclevel0_row8\" class=\"row_heading level0 row8\" >древний_рим</th>\n",
       "                        <td id=\"T_a67b1d9e_05f2_11ea_a6fb_107b449f15fcrow8_col0\" class=\"data row8 col0\" >0.03261</td>\n",
       "            </tr>\n",
       "            <tr>\n",
       "                        <th id=\"T_a67b1d9e_05f2_11ea_a6fb_107b449f15fclevel0_row9\" class=\"row_heading level0 row9\" >римская_империя</th>\n",
       "                        <td id=\"T_a67b1d9e_05f2_11ea_a6fb_107b449f15fcrow9_col0\" class=\"data row9 col0\" >0.02979</td>\n",
       "            </tr>\n",
       "    </tbody></table><style  type=\"text/css\" >\n",
       "</style><table id=\"T_a67b1d9f_05f2_11ea_a6fb_107b449f15fc\" style='display:inline'><thead>    <tr>        <th class=\"blank level0\" ></th>        <th class=\"col_heading level0 col0\" >topic_4 @word</th>    </tr></thead><tbody>\n",
       "                <tr>\n",
       "                        <th id=\"T_a67b1d9f_05f2_11ea_a6fb_107b449f15fclevel0_row0\" class=\"row_heading level0 row0\" >право</th>\n",
       "                        <td id=\"T_a67b1d9f_05f2_11ea_a6fb_107b449f15fcrow0_col0\" class=\"data row0 col0\" >0.02487</td>\n",
       "            </tr>\n",
       "            <tr>\n",
       "                        <th id=\"T_a67b1d9f_05f2_11ea_a6fb_107b449f15fclevel0_row1\" class=\"row_heading level0 row1\" >закон</th>\n",
       "                        <td id=\"T_a67b1d9f_05f2_11ea_a6fb_107b449f15fcrow1_col0\" class=\"data row1 col0\" >0.01235</td>\n",
       "            </tr>\n",
       "            <tr>\n",
       "                        <th id=\"T_a67b1d9f_05f2_11ea_a6fb_107b449f15fclevel0_row2\" class=\"row_heading level0 row2\" >суд</th>\n",
       "                        <td id=\"T_a67b1d9f_05f2_11ea_a6fb_107b449f15fcrow2_col0\" class=\"data row2 col0\" >0.00703</td>\n",
       "            </tr>\n",
       "            <tr>\n",
       "                        <th id=\"T_a67b1d9f_05f2_11ea_a6fb_107b449f15fclevel0_row3\" class=\"row_heading level0 row3\" >юрист</th>\n",
       "                        <td id=\"T_a67b1d9f_05f2_11ea_a6fb_107b449f15fcrow3_col0\" class=\"data row3 col0\" >0.00671</td>\n",
       "            </tr>\n",
       "            <tr>\n",
       "                        <th id=\"T_a67b1d9f_05f2_11ea_a6fb_107b449f15fclevel0_row4\" class=\"row_heading level0 row4\" >язык</th>\n",
       "                        <td id=\"T_a67b1d9f_05f2_11ea_a6fb_107b449f15fcrow4_col0\" class=\"data row4 col0\" >0.00628</td>\n",
       "            </tr>\n",
       "            <tr>\n",
       "                        <th id=\"T_a67b1d9f_05f2_11ea_a6fb_107b449f15fclevel0_row5\" class=\"row_heading level0 row5\" >правовой</th>\n",
       "                        <td id=\"T_a67b1d9f_05f2_11ea_a6fb_107b449f15fcrow5_col0\" class=\"data row5 col0\" >0.00539</td>\n",
       "            </tr>\n",
       "            <tr>\n",
       "                        <th id=\"T_a67b1d9f_05f2_11ea_a6fb_107b449f15fclevel0_row6\" class=\"row_heading level0 row6\" >должник</th>\n",
       "                        <td id=\"T_a67b1d9f_05f2_11ea_a6fb_107b449f15fcrow6_col0\" class=\"data row6 col0\" >0.00494</td>\n",
       "            </tr>\n",
       "            <tr>\n",
       "                        <th id=\"T_a67b1d9f_05f2_11ea_a6fb_107b449f15fclevel0_row7\" class=\"row_heading level0 row7\" >судья</th>\n",
       "                        <td id=\"T_a67b1d9f_05f2_11ea_a6fb_107b449f15fcrow7_col0\" class=\"data row7 col0\" >0.00483</td>\n",
       "            </tr>\n",
       "            <tr>\n",
       "                        <th id=\"T_a67b1d9f_05f2_11ea_a6fb_107b449f15fclevel0_row8\" class=\"row_heading level0 row8\" >римский</th>\n",
       "                        <td id=\"T_a67b1d9f_05f2_11ea_a6fb_107b449f15fcrow8_col0\" class=\"data row8 col0\" >0.00435</td>\n",
       "            </tr>\n",
       "            <tr>\n",
       "                        <th id=\"T_a67b1d9f_05f2_11ea_a6fb_107b449f15fclevel0_row9\" class=\"row_heading level0 row9\" >имущество</th>\n",
       "                        <td id=\"T_a67b1d9f_05f2_11ea_a6fb_107b449f15fcrow9_col0\" class=\"data row9 col0\" >0.0039</td>\n",
       "            </tr>\n",
       "    </tbody></table>"
      ]
     },
     "metadata": {},
     "output_type": "display_data"
    },
    {
     "data": {
      "text/html": [
       "<b> правовые последствия смешения вещей </b><br /> юрист денис новак о смешении однородных вещей, праве собственности на такое имущество и кондикционном иске"
      ]
     },
     "metadata": {},
     "output_type": "display_data"
    },
    {
     "data": {
      "text/html": [
       "<b> кондикция владения </b><br /> юрист денис новак о защите при неправомерном лишении владения, виндикационном и кондикционном исках и ценности владения имуществом"
      ]
     },
     "metadata": {},
     "output_type": "display_data"
    },
    {
     "data": {
      "text/html": [
       "<b> юриспруденция в древнем риме периода принципата </b><br /> историк права дмитрий полдников о римском праве как «искусстве доброго и справедливого», этапах развития юриспруденции и модельных казусах"
      ]
     },
     "metadata": {},
     "output_type": "display_data"
    },
    {
     "data": {
      "text/html": [
       "<b> фидуциарные отношения </b><br /> юрист дмитрий дождев о привилегиях кредитора, англо-американском трасте и фидуции в германском праве"
      ]
     },
     "metadata": {},
     "output_type": "display_data"
    },
    {
     "data": {
      "text/html": [
       "<b> faqдобросовестность </b><br /> 5 фактов об одном из важнейших наследий римского права и его современном понимании"
      ]
     },
     "metadata": {},
     "output_type": "display_data"
    },
    {
     "data": {
      "text/html": [
       "<b> источники римского права </b><br /> историк александр марей о понятии «плебисцит», конституциях императоров и праве ответа"
      ]
     },
     "metadata": {},
     "output_type": "display_data"
    },
    {
     "data": {
      "text/html": [
       "<b> главы # в поисках родины </b><br /> отрывок из книги «генетическая одиссея человека» антрополога и популяционного генетика  спенсера уэллса"
      ]
     },
     "metadata": {},
     "output_type": "display_data"
    },
    {
     "data": {
      "text/html": [
       "<b> вещные права </b><br /> юрист дмитрий дождев о понимании права собственности, феодальной системе имущественных прав и узуфрукте"
      ]
     },
     "metadata": {},
     "output_type": "display_data"
    },
    {
     "data": {
      "text/html": [
       "<b> приобретательная давность </b><br /> юрист дмитрий дождев о владении и праве собственности, способах приобретения и понятии кражи"
      ]
     },
     "metadata": {},
     "output_type": "display_data"
    },
    {
     "data": {
      "text/html": [
       "<b> faqiniuria </b><br /> 7 фактов о деликте римского права по поводу личной обиды"
      ]
     },
     "metadata": {},
     "output_type": "display_data"
    },
    {
     "data": {
      "text/html": [
       "<style  type=\"text/css\" >\n",
       "</style><table id=\"T_a67b1da0_05f2_11ea_a6fb_107b449f15fc\" style='display:inline'><thead>    <tr>        <th class=\"blank level0\" ></th>        <th class=\"col_heading level0 col0\" >topic_5 @2gramm</th>    </tr></thead><tbody>\n",
       "                <tr>\n",
       "                        <th id=\"T_a67b1da0_05f2_11ea_a6fb_107b449f15fclevel0_row0\" class=\"row_heading level0 row0\" >советский_союз</th>\n",
       "                        <td id=\"T_a67b1da0_05f2_11ea_a6fb_107b449f15fcrow0_col0\" class=\"data row0 col0\" >0.02457</td>\n",
       "            </tr>\n",
       "            <tr>\n",
       "                        <th id=\"T_a67b1da0_05f2_11ea_a6fb_107b449f15fclevel0_row1\" class=\"row_heading level0 row1\" >гражданский_война</th>\n",
       "                        <td id=\"T_a67b1da0_05f2_11ea_a6fb_107b449f15fcrow1_col0\" class=\"data row1 col0\" >0.01764</td>\n",
       "            </tr>\n",
       "            <tr>\n",
       "                        <th id=\"T_a67b1da0_05f2_11ea_a6fb_107b449f15fclevel0_row2\" class=\"row_heading level0 row2\" >советский_власть</th>\n",
       "                        <td id=\"T_a67b1da0_05f2_11ea_a6fb_107b449f15fcrow2_col0\" class=\"data row2 col0\" >0.01564</td>\n",
       "            </tr>\n",
       "            <tr>\n",
       "                        <th id=\"T_a67b1da0_05f2_11ea_a6fb_107b449f15fclevel0_row3\" class=\"row_heading level0 row3\" >политика_память</th>\n",
       "                        <td id=\"T_a67b1da0_05f2_11ea_a6fb_107b449f15fcrow3_col0\" class=\"data row3 col0\" >0.01239</td>\n",
       "            </tr>\n",
       "            <tr>\n",
       "                        <th id=\"T_a67b1da0_05f2_11ea_a6fb_107b449f15fclevel0_row4\" class=\"row_heading level0 row4\" >русский_формализм</th>\n",
       "                        <td id=\"T_a67b1da0_05f2_11ea_a6fb_107b449f15fcrow4_col0\" class=\"data row4 col0\" >0.00998</td>\n",
       "            </tr>\n",
       "            <tr>\n",
       "                        <th id=\"T_a67b1da0_05f2_11ea_a6fb_107b449f15fclevel0_row5\" class=\"row_heading level0 row5\" >русский_литература</th>\n",
       "                        <td id=\"T_a67b1da0_05f2_11ea_a6fb_107b449f15fcrow5_col0\" class=\"data row5 col0\" >0.0083</td>\n",
       "            </tr>\n",
       "            <tr>\n",
       "                        <th id=\"T_a67b1da0_05f2_11ea_a6fb_107b449f15fclevel0_row6\" class=\"row_heading level0 row6\" >русский_культура</th>\n",
       "                        <td id=\"T_a67b1da0_05f2_11ea_a6fb_107b449f15fcrow6_col0\" class=\"data row6 col0\" >0.00721</td>\n",
       "            </tr>\n",
       "            <tr>\n",
       "                        <th id=\"T_a67b1da0_05f2_11ea_a6fb_107b449f15fclevel0_row7\" class=\"row_heading level0 row7\" >красный_армия</th>\n",
       "                        <td id=\"T_a67b1da0_05f2_11ea_a6fb_107b449f15fcrow7_col0\" class=\"data row7 col0\" >0.00697</td>\n",
       "            </tr>\n",
       "            <tr>\n",
       "                        <th id=\"T_a67b1da0_05f2_11ea_a6fb_107b449f15fclevel0_row8\" class=\"row_heading level0 row8\" >культурный_политика</th>\n",
       "                        <td id=\"T_a67b1da0_05f2_11ea_a6fb_107b449f15fcrow8_col0\" class=\"data row8 col0\" >0.00609</td>\n",
       "            </tr>\n",
       "            <tr>\n",
       "                        <th id=\"T_a67b1da0_05f2_11ea_a6fb_107b449f15fclevel0_row9\" class=\"row_heading level0 row9\" >начало_война</th>\n",
       "                        <td id=\"T_a67b1da0_05f2_11ea_a6fb_107b449f15fcrow9_col0\" class=\"data row9 col0\" >0.00581</td>\n",
       "            </tr>\n",
       "    </tbody></table><style  type=\"text/css\" >\n",
       "</style><table id=\"T_a67b1da1_05f2_11ea_a6fb_107b449f15fc\" style='display:inline'><thead>    <tr>        <th class=\"blank level0\" ></th>        <th class=\"col_heading level0 col0\" >topic_5 @3gramm</th>    </tr></thead><tbody>\n",
       "        </tbody></table><style  type=\"text/css\" >\n",
       "</style><table id=\"T_a67b1da2_05f2_11ea_a6fb_107b449f15fc\" style='display:inline'><thead>    <tr>        <th class=\"blank level0\" ></th>        <th class=\"col_heading level0 col0\" >topic_5 @post_tag</th>    </tr></thead><tbody>\n",
       "                <tr>\n",
       "                        <th id=\"T_a67b1da2_05f2_11ea_a6fb_107b449f15fclevel0_row0\" class=\"row_heading level0 row0\" >история_россии</th>\n",
       "                        <td id=\"T_a67b1da2_05f2_11ea_a6fb_107b449f15fcrow0_col0\" class=\"data row0 col0\" >0.18971</td>\n",
       "            </tr>\n",
       "            <tr>\n",
       "                        <th id=\"T_a67b1da2_05f2_11ea_a6fb_107b449f15fclevel0_row1\" class=\"row_heading level0 row1\" >ссср</th>\n",
       "                        <td id=\"T_a67b1da2_05f2_11ea_a6fb_107b449f15fcrow1_col0\" class=\"data row1 col0\" >0.16661</td>\n",
       "            </tr>\n",
       "            <tr>\n",
       "                        <th id=\"T_a67b1da2_05f2_11ea_a6fb_107b449f15fclevel0_row2\" class=\"row_heading level0 row2\" >литература</th>\n",
       "                        <td id=\"T_a67b1da2_05f2_11ea_a6fb_107b449f15fcrow2_col0\" class=\"data row2 col0\" >0.15584</td>\n",
       "            </tr>\n",
       "            <tr>\n",
       "                        <th id=\"T_a67b1da2_05f2_11ea_a6fb_107b449f15fclevel0_row3\" class=\"row_heading level0 row3\" >литературоведение</th>\n",
       "                        <td id=\"T_a67b1da2_05f2_11ea_a6fb_107b449f15fcrow3_col0\" class=\"data row3 col0\" >0.07884</td>\n",
       "            </tr>\n",
       "            <tr>\n",
       "                        <th id=\"T_a67b1da2_05f2_11ea_a6fb_107b449f15fclevel0_row4\" class=\"row_heading level0 row4\" >филология</th>\n",
       "                        <td id=\"T_a67b1da2_05f2_11ea_a6fb_107b449f15fcrow4_col0\" class=\"data row4 col0\" >0.04239</td>\n",
       "            </tr>\n",
       "            <tr>\n",
       "                        <th id=\"T_a67b1da2_05f2_11ea_a6fb_107b449f15fclevel0_row5\" class=\"row_heading level0 row5\" >сталин_иосиф</th>\n",
       "                        <td id=\"T_a67b1da2_05f2_11ea_a6fb_107b449f15fcrow5_col0\" class=\"data row5 col0\" >0.03486</td>\n",
       "            </tr>\n",
       "            <tr>\n",
       "                        <th id=\"T_a67b1da2_05f2_11ea_a6fb_107b449f15fclevel0_row6\" class=\"row_heading level0 row6\" >авангард</th>\n",
       "                        <td id=\"T_a67b1da2_05f2_11ea_a6fb_107b449f15fcrow6_col0\" class=\"data row6 col0\" >0.02537</td>\n",
       "            </tr>\n",
       "            <tr>\n",
       "                        <th id=\"T_a67b1da2_05f2_11ea_a6fb_107b449f15fclevel0_row7\" class=\"row_heading level0 row7\" >поэзия</th>\n",
       "                        <td id=\"T_a67b1da2_05f2_11ea_a6fb_107b449f15fcrow7_col0\" class=\"data row7 col0\" >0.02012</td>\n",
       "            </tr>\n",
       "            <tr>\n",
       "                        <th id=\"T_a67b1da2_05f2_11ea_a6fb_107b449f15fclevel0_row8\" class=\"row_heading level0 row8\" >вторая_мировая_война</th>\n",
       "                        <td id=\"T_a67b1da2_05f2_11ea_a6fb_107b449f15fcrow8_col0\" class=\"data row8 col0\" >0.01824</td>\n",
       "            </tr>\n",
       "            <tr>\n",
       "                        <th id=\"T_a67b1da2_05f2_11ea_a6fb_107b449f15fclevel0_row9\" class=\"row_heading level0 row9\" >историческая_память</th>\n",
       "                        <td id=\"T_a67b1da2_05f2_11ea_a6fb_107b449f15fcrow9_col0\" class=\"data row9 col0\" >0.01819</td>\n",
       "            </tr>\n",
       "    </tbody></table><style  type=\"text/css\" >\n",
       "</style><table id=\"T_a67b1da3_05f2_11ea_a6fb_107b449f15fc\" style='display:inline'><thead>    <tr>        <th class=\"blank level0\" ></th>        <th class=\"col_heading level0 col0\" >topic_5 @word</th>    </tr></thead><tbody>\n",
       "                <tr>\n",
       "                        <th id=\"T_a67b1da3_05f2_11ea_a6fb_107b449f15fclevel0_row0\" class=\"row_heading level0 row0\" >сталин</th>\n",
       "                        <td id=\"T_a67b1da3_05f2_11ea_a6fb_107b449f15fcrow0_col0\" class=\"data row0 col0\" >0.00975</td>\n",
       "            </tr>\n",
       "            <tr>\n",
       "                        <th id=\"T_a67b1da3_05f2_11ea_a6fb_107b449f15fclevel0_row1\" class=\"row_heading level0 row1\" >советский</th>\n",
       "                        <td id=\"T_a67b1da3_05f2_11ea_a6fb_107b449f15fcrow1_col0\" class=\"data row1 col0\" >0.00721</td>\n",
       "            </tr>\n",
       "            <tr>\n",
       "                        <th id=\"T_a67b1da3_05f2_11ea_a6fb_107b449f15fclevel0_row2\" class=\"row_heading level0 row2\" >история</th>\n",
       "                        <td id=\"T_a67b1da3_05f2_11ea_a6fb_107b449f15fcrow2_col0\" class=\"data row2 col0\" >0.00622</td>\n",
       "            </tr>\n",
       "            <tr>\n",
       "                        <th id=\"T_a67b1da3_05f2_11ea_a6fb_107b449f15fclevel0_row3\" class=\"row_heading level0 row3\" >литература</th>\n",
       "                        <td id=\"T_a67b1da3_05f2_11ea_a6fb_107b449f15fcrow3_col0\" class=\"data row3 col0\" >0.00596</td>\n",
       "            </tr>\n",
       "            <tr>\n",
       "                        <th id=\"T_a67b1da3_05f2_11ea_a6fb_107b449f15fclevel0_row4\" class=\"row_heading level0 row4\" >война</th>\n",
       "                        <td id=\"T_a67b1da3_05f2_11ea_a6fb_107b449f15fcrow4_col0\" class=\"data row4 col0\" >0.00521</td>\n",
       "            </tr>\n",
       "            <tr>\n",
       "                        <th id=\"T_a67b1da3_05f2_11ea_a6fb_107b449f15fclevel0_row5\" class=\"row_heading level0 row5\" >русский</th>\n",
       "                        <td id=\"T_a67b1da3_05f2_11ea_a6fb_107b449f15fcrow5_col0\" class=\"data row5 col0\" >0.00514</td>\n",
       "            </tr>\n",
       "            <tr>\n",
       "                        <th id=\"T_a67b1da3_05f2_11ea_a6fb_107b449f15fclevel0_row6\" class=\"row_heading level0 row6\" >роман</th>\n",
       "                        <td id=\"T_a67b1da3_05f2_11ea_a6fb_107b449f15fcrow6_col0\" class=\"data row6 col0\" >0.00509</td>\n",
       "            </tr>\n",
       "            <tr>\n",
       "                        <th id=\"T_a67b1da3_05f2_11ea_a6fb_107b449f15fclevel0_row7\" class=\"row_heading level0 row7\" >писать</th>\n",
       "                        <td id=\"T_a67b1da3_05f2_11ea_a6fb_107b449f15fcrow7_col0\" class=\"data row7 col0\" >0.00467</td>\n",
       "            </tr>\n",
       "            <tr>\n",
       "                        <th id=\"T_a67b1da3_05f2_11ea_a6fb_107b449f15fclevel0_row8\" class=\"row_heading level0 row8\" >россия</th>\n",
       "                        <td id=\"T_a67b1da3_05f2_11ea_a6fb_107b449f15fcrow8_col0\" class=\"data row8 col0\" >0.00388</td>\n",
       "            </tr>\n",
       "            <tr>\n",
       "                        <th id=\"T_a67b1da3_05f2_11ea_a6fb_107b449f15fclevel0_row9\" class=\"row_heading level0 row9\" >книга</th>\n",
       "                        <td id=\"T_a67b1da3_05f2_11ea_a6fb_107b449f15fcrow9_col0\" class=\"data row9 col0\" >0.00372</td>\n",
       "            </tr>\n",
       "    </tbody></table>"
      ]
     },
     "metadata": {},
     "output_type": "display_data"
    },
    {
     "data": {
      "text/html": [
       "<b> приход сталина к власти </b><br /> историк олег хлевнюк о системе коллективного руководства после смерти ленина, заявлении сталина об отставке и полном контроле над органами госбезопасности"
      ]
     },
     "metadata": {},
     "output_type": "display_data"
    },
    {
     "data": {
      "text/html": [
       "<b> «сталин, коба и сосо. молодой сталин в исторических источниках» </b><br /> историк ольга эдельман о дореволюционной биографии сталина, проблеме верификации источников и задачах исторического исследования"
      ]
     },
     "metadata": {},
     "output_type": "display_data"
    },
    {
     "data": {
      "text/html": [
       "<b> противоречия сталинизма в послевоенный период </b><br /> историк олег хлевнюк о репрессивной политике сталина, социально-экономическом кризисе послевоенного периода и либерализации советского режима после 1953 года"
      ]
     },
     "metadata": {},
     "output_type": "display_data"
    },
    {
     "data": {
      "text/html": [
       "<b> предпосылки десталинизации </b><br /> историк олег хлевнюк о проблемах послевоенного ссср, демонтаже гулага и наследии сталинского режима"
      ]
     },
     "metadata": {},
     "output_type": "display_data"
    },
    {
     "data": {
      "text/html": [
       "<b> повседневный быт московских цензоров </b><br /> филолог алина бодрова об авторах, издателях и цензорах журнала «москвитянин»"
      ]
     },
     "metadata": {},
     "output_type": "display_data"
    },
    {
     "data": {
      "text/html": [
       "<b> литературное наследие пушкина </b><br /> филолог алина бодрова о формировании собрания сочинений, советских изданиях и проблемах текстологии пушкина"
      ]
     },
     "metadata": {},
     "output_type": "display_data"
    },
    {
     "data": {
      "text/html": [
       "<b> эпоха сталина </b><br /> 11 материалов историка олега хлевнюка о зарождении и гибели сталинской эпохи, проблемах ее интерпретации и значении для мировой истории"
      ]
     },
     "metadata": {},
     "output_type": "display_data"
    },
    {
     "data": {
      "text/html": [
       "<b> джон р.р. толкин«история куллерво» </b><br /> филолог мария штейнман о незаконченной рукописи автора «властелина колец» и финском эпосе «калевала»"
      ]
     },
     "metadata": {},
     "output_type": "display_data"
    },
    {
     "data": {
      "text/html": [
       "<b> главыавторские тексты сталина </b><br /> отрывок из книги «сталин, коба и сoco» историка ольги эдельман о дореволюционных текстах будущего вождя и воспоминаниях его современников"
      ]
     },
     "metadata": {},
     "output_type": "display_data"
    },
    {
     "data": {
      "text/html": [
       "<b> западное наследие формальной школы </b><br /> историк александр дмитриев об основателях русского формализма, чешском структурализме и наследии лотмана"
      ]
     },
     "metadata": {},
     "output_type": "display_data"
    },
    {
     "data": {
      "text/html": [
       "<style  type=\"text/css\" >\n",
       "</style><table id=\"T_a67b1da4_05f2_11ea_a6fb_107b449f15fc\" style='display:inline'><thead>    <tr>        <th class=\"blank level0\" ></th>        <th class=\"col_heading level0 col0\" >topic_6 @2gramm</th>    </tr></thead><tbody>\n",
       "                <tr>\n",
       "                        <th id=\"T_a67b1da4_05f2_11ea_a6fb_107b449f15fclevel0_row0\" class=\"row_heading level0 row0\" >естественный_отбор</th>\n",
       "                        <td id=\"T_a67b1da4_05f2_11ea_a6fb_107b449f15fcrow0_col0\" class=\"data row0 col0\" >0.02156</td>\n",
       "            </tr>\n",
       "            <tr>\n",
       "                        <th id=\"T_a67b1da4_05f2_11ea_a6fb_107b449f15fclevel0_row1\" class=\"row_heading level0 row1\" >половый_отбор</th>\n",
       "                        <td id=\"T_a67b1da4_05f2_11ea_a6fb_107b449f15fcrow1_col0\" class=\"data row1 col0\" >0.01143</td>\n",
       "            </tr>\n",
       "            <tr>\n",
       "                        <th id=\"T_a67b1da4_05f2_11ea_a6fb_107b449f15fclevel0_row2\" class=\"row_heading level0 row2\" >процесс_эволюция</th>\n",
       "                        <td id=\"T_a67b1da4_05f2_11ea_a6fb_107b449f15fcrow2_col0\" class=\"data row2 col0\" >0.00881</td>\n",
       "            </tr>\n",
       "            <tr>\n",
       "                        <th id=\"T_a67b1da4_05f2_11ea_a6fb_107b449f15fclevel0_row3\" class=\"row_heading level0 row3\" >теория_эволюция</th>\n",
       "                        <td id=\"T_a67b1da4_05f2_11ea_a6fb_107b449f15fcrow3_col0\" class=\"data row3 col0\" >0.00839</td>\n",
       "            </tr>\n",
       "            <tr>\n",
       "                        <th id=\"T_a67b1da4_05f2_11ea_a6fb_107b449f15fclevel0_row4\" class=\"row_heading level0 row4\" >поведение_животное</th>\n",
       "                        <td id=\"T_a67b1da4_05f2_11ea_a6fb_107b449f15fcrow4_col0\" class=\"data row4 col0\" >0.00818</td>\n",
       "            </tr>\n",
       "            <tr>\n",
       "                        <th id=\"T_a67b1da4_05f2_11ea_a6fb_107b449f15fclevel0_row5\" class=\"row_heading level0 row5\" >пермский_период</th>\n",
       "                        <td id=\"T_a67b1da4_05f2_11ea_a6fb_107b449f15fcrow5_col0\" class=\"data row5 col0\" >0.00816</td>\n",
       "            </tr>\n",
       "            <tr>\n",
       "                        <th id=\"T_a67b1da4_05f2_11ea_a6fb_107b449f15fclevel0_row6\" class=\"row_heading level0 row6\" >человекообразный_обезьяна</th>\n",
       "                        <td id=\"T_a67b1da4_05f2_11ea_a6fb_107b449f15fcrow6_col0\" class=\"data row6 col0\" >0.00769</td>\n",
       "            </tr>\n",
       "            <tr>\n",
       "                        <th id=\"T_a67b1da4_05f2_11ea_a6fb_107b449f15fclevel0_row7\" class=\"row_heading level0 row7\" >эволюционный_биология</th>\n",
       "                        <td id=\"T_a67b1da4_05f2_11ea_a6fb_107b449f15fcrow7_col0\" class=\"data row7 col0\" >0.00764</td>\n",
       "            </tr>\n",
       "            <tr>\n",
       "                        <th id=\"T_a67b1da4_05f2_11ea_a6fb_107b449f15fclevel0_row8\" class=\"row_heading level0 row8\" >живой_организм</th>\n",
       "                        <td id=\"T_a67b1da4_05f2_11ea_a6fb_107b449f15fcrow8_col0\" class=\"data row8 col0\" >0.00735</td>\n",
       "            </tr>\n",
       "            <tr>\n",
       "                        <th id=\"T_a67b1da4_05f2_11ea_a6fb_107b449f15fclevel0_row9\" class=\"row_heading level0 row9\" >юрский_период</th>\n",
       "                        <td id=\"T_a67b1da4_05f2_11ea_a6fb_107b449f15fcrow9_col0\" class=\"data row9 col0\" >0.00734</td>\n",
       "            </tr>\n",
       "    </tbody></table><style  type=\"text/css\" >\n",
       "</style><table id=\"T_a67b1da5_05f2_11ea_a6fb_107b449f15fc\" style='display:inline'><thead>    <tr>        <th class=\"blank level0\" ></th>        <th class=\"col_heading level0 col0\" >topic_6 @3gramm</th>    </tr></thead><tbody>\n",
       "        </tbody></table><style  type=\"text/css\" >\n",
       "</style><table id=\"T_a67b1da6_05f2_11ea_a6fb_107b449f15fc\" style='display:inline'><thead>    <tr>        <th class=\"blank level0\" ></th>        <th class=\"col_heading level0 col0\" >topic_6 @post_tag</th>    </tr></thead><tbody>\n",
       "                <tr>\n",
       "                        <th id=\"T_a67b1da6_05f2_11ea_a6fb_107b449f15fclevel0_row0\" class=\"row_heading level0 row0\" >эволюция</th>\n",
       "                        <td id=\"T_a67b1da6_05f2_11ea_a6fb_107b449f15fcrow0_col0\" class=\"data row0 col0\" >0.21607</td>\n",
       "            </tr>\n",
       "            <tr>\n",
       "                        <th id=\"T_a67b1da6_05f2_11ea_a6fb_107b449f15fclevel0_row1\" class=\"row_heading level0 row1\" >биология</th>\n",
       "                        <td id=\"T_a67b1da6_05f2_11ea_a6fb_107b449f15fcrow1_col0\" class=\"data row1 col0\" >0.10321</td>\n",
       "            </tr>\n",
       "            <tr>\n",
       "                        <th id=\"T_a67b1da6_05f2_11ea_a6fb_107b449f15fclevel0_row2\" class=\"row_heading level0 row2\" >экология</th>\n",
       "                        <td id=\"T_a67b1da6_05f2_11ea_a6fb_107b449f15fcrow2_col0\" class=\"data row2 col0\" >0.08366</td>\n",
       "            </tr>\n",
       "            <tr>\n",
       "                        <th id=\"T_a67b1da6_05f2_11ea_a6fb_107b449f15fclevel0_row3\" class=\"row_heading level0 row3\" >палеонтология</th>\n",
       "                        <td id=\"T_a67b1da6_05f2_11ea_a6fb_107b449f15fcrow3_col0\" class=\"data row3 col0\" >0.06522</td>\n",
       "            </tr>\n",
       "            <tr>\n",
       "                        <th id=\"T_a67b1da6_05f2_11ea_a6fb_107b449f15fclevel0_row4\" class=\"row_heading level0 row4\" >этология</th>\n",
       "                        <td id=\"T_a67b1da6_05f2_11ea_a6fb_107b449f15fcrow4_col0\" class=\"data row4 col0\" >0.06169</td>\n",
       "            </tr>\n",
       "            <tr>\n",
       "                        <th id=\"T_a67b1da6_05f2_11ea_a6fb_107b449f15fclevel0_row5\" class=\"row_heading level0 row5\" >зоология</th>\n",
       "                        <td id=\"T_a67b1da6_05f2_11ea_a6fb_107b449f15fcrow5_col0\" class=\"data row5 col0\" >0.04976</td>\n",
       "            </tr>\n",
       "            <tr>\n",
       "                        <th id=\"T_a67b1da6_05f2_11ea_a6fb_107b449f15fclevel0_row6\" class=\"row_heading level0 row6\" >поведение_животных</th>\n",
       "                        <td id=\"T_a67b1da6_05f2_11ea_a6fb_107b449f15fcrow6_col0\" class=\"data row6 col0\" >0.04803</td>\n",
       "            </tr>\n",
       "            <tr>\n",
       "                        <th id=\"T_a67b1da6_05f2_11ea_a6fb_107b449f15fclevel0_row7\" class=\"row_heading level0 row7\" >дарвин_чарльз</th>\n",
       "                        <td id=\"T_a67b1da6_05f2_11ea_a6fb_107b449f15fcrow7_col0\" class=\"data row7 col0\" >0.03416</td>\n",
       "            </tr>\n",
       "            <tr>\n",
       "                        <th id=\"T_a67b1da6_05f2_11ea_a6fb_107b449f15fclevel0_row8\" class=\"row_heading level0 row8\" >зоопсихология</th>\n",
       "                        <td id=\"T_a67b1da6_05f2_11ea_a6fb_107b449f15fcrow8_col0\" class=\"data row8 col0\" >0.03085</td>\n",
       "            </tr>\n",
       "            <tr>\n",
       "                        <th id=\"T_a67b1da6_05f2_11ea_a6fb_107b449f15fclevel0_row9\" class=\"row_heading level0 row9\" >эволюционная_биология</th>\n",
       "                        <td id=\"T_a67b1da6_05f2_11ea_a6fb_107b449f15fcrow9_col0\" class=\"data row9 col0\" >0.02517</td>\n",
       "            </tr>\n",
       "    </tbody></table><style  type=\"text/css\" >\n",
       "</style><table id=\"T_a67b1da7_05f2_11ea_a6fb_107b449f15fc\" style='display:inline'><thead>    <tr>        <th class=\"blank level0\" ></th>        <th class=\"col_heading level0 col0\" >topic_6 @word</th>    </tr></thead><tbody>\n",
       "                <tr>\n",
       "                        <th id=\"T_a67b1da7_05f2_11ea_a6fb_107b449f15fclevel0_row0\" class=\"row_heading level0 row0\" >вид</th>\n",
       "                        <td id=\"T_a67b1da7_05f2_11ea_a6fb_107b449f15fcrow0_col0\" class=\"data row0 col0\" >0.01118</td>\n",
       "            </tr>\n",
       "            <tr>\n",
       "                        <th id=\"T_a67b1da7_05f2_11ea_a6fb_107b449f15fclevel0_row1\" class=\"row_heading level0 row1\" >животное</th>\n",
       "                        <td id=\"T_a67b1da7_05f2_11ea_a6fb_107b449f15fcrow1_col0\" class=\"data row1 col0\" >0.00952</td>\n",
       "            </tr>\n",
       "            <tr>\n",
       "                        <th id=\"T_a67b1da7_05f2_11ea_a6fb_107b449f15fclevel0_row2\" class=\"row_heading level0 row2\" >самец</th>\n",
       "                        <td id=\"T_a67b1da7_05f2_11ea_a6fb_107b449f15fcrow2_col0\" class=\"data row2 col0\" >0.00892</td>\n",
       "            </tr>\n",
       "            <tr>\n",
       "                        <th id=\"T_a67b1da7_05f2_11ea_a6fb_107b449f15fclevel0_row3\" class=\"row_heading level0 row3\" >эволюция</th>\n",
       "                        <td id=\"T_a67b1da7_05f2_11ea_a6fb_107b449f15fcrow3_col0\" class=\"data row3 col0\" >0.00879</td>\n",
       "            </tr>\n",
       "            <tr>\n",
       "                        <th id=\"T_a67b1da7_05f2_11ea_a6fb_107b449f15fclevel0_row4\" class=\"row_heading level0 row4\" >самка</th>\n",
       "                        <td id=\"T_a67b1da7_05f2_11ea_a6fb_107b449f15fcrow4_col0\" class=\"data row4 col0\" >0.00794</td>\n",
       "            </tr>\n",
       "            <tr>\n",
       "                        <th id=\"T_a67b1da7_05f2_11ea_a6fb_107b449f15fclevel0_row5\" class=\"row_heading level0 row5\" >птица</th>\n",
       "                        <td id=\"T_a67b1da7_05f2_11ea_a6fb_107b449f15fcrow5_col0\" class=\"data row5 col0\" >0.00698</td>\n",
       "            </tr>\n",
       "            <tr>\n",
       "                        <th id=\"T_a67b1da7_05f2_11ea_a6fb_107b449f15fclevel0_row6\" class=\"row_heading level0 row6\" >группа</th>\n",
       "                        <td id=\"T_a67b1da7_05f2_11ea_a6fb_107b449f15fcrow6_col0\" class=\"data row6 col0\" >0.00579</td>\n",
       "            </tr>\n",
       "            <tr>\n",
       "                        <th id=\"T_a67b1da7_05f2_11ea_a6fb_107b449f15fclevel0_row7\" class=\"row_heading level0 row7\" >растение</th>\n",
       "                        <td id=\"T_a67b1da7_05f2_11ea_a6fb_107b449f15fcrow7_col0\" class=\"data row7 col0\" >0.0055</td>\n",
       "            </tr>\n",
       "            <tr>\n",
       "                        <th id=\"T_a67b1da7_05f2_11ea_a6fb_107b449f15fclevel0_row8\" class=\"row_heading level0 row8\" >насекомое</th>\n",
       "                        <td id=\"T_a67b1da7_05f2_11ea_a6fb_107b449f15fcrow8_col0\" class=\"data row8 col0\" >0.0046</td>\n",
       "            </tr>\n",
       "            <tr>\n",
       "                        <th id=\"T_a67b1da7_05f2_11ea_a6fb_107b449f15fclevel0_row9\" class=\"row_heading level0 row9\" >миллион</th>\n",
       "                        <td id=\"T_a67b1da7_05f2_11ea_a6fb_107b449f15fcrow9_col0\" class=\"data row9 col0\" >0.00448</td>\n",
       "            </tr>\n",
       "    </tbody></table>"
      ]
     },
     "metadata": {},
     "output_type": "display_data"
    },
    {
     "data": {
      "text/html": [
       "<b> варвара веденина\"половой отбор не всегда противоречит естественному\" </b><br /> интервью с биологом варварой ведениной о гипотезах, объясняющих выбор самок, и генетической детерминации механизмов полового отбора"
      ]
     },
     "metadata": {},
     "output_type": "display_data"
    },
    {
     "data": {
      "text/html": [
       "<b> «многие юрские животные продолжили свое развитие и даже имеют потомков в наше время» </b><br /> палеонтолог чжунхэ чжоу о многообразии удивительных животных юрского периода"
      ]
     },
     "metadata": {},
     "output_type": "display_data"
    },
    {
     "data": {
      "text/html": [
       "<b> архат абжанов«строение черепа птицы унаследовали от динозавров» </b><br /> биолог архат абжанов об эволюции птиц, строении их черепа и общих чертах с крокодилами"
      ]
     },
     "metadata": {},
     "output_type": "display_data"
    },
    {
     "data": {
      "text/html": [
       "<b> зависит ли коммуникация псовых от цвета их глаз? </b><br /> о социальном поведении собак и волков, их общении с помощью взгляда и охотничьих навыках"
      ]
     },
     "metadata": {},
     "output_type": "display_data"
    },
    {
     "data": {
      "text/html": [
       "<b> особенности строения голосеменных класса войновскиевых </b><br /> о спорных вопросах в изучении одной из самых своеобразных групп голосеменных растений, произраставших на земле в конце палеозойской эры"
      ]
     },
     "metadata": {},
     "output_type": "display_data"
    },
    {
     "data": {
      "text/html": [
       "<b> палеонтологические обоснования теории эволюции </b><br /> палеонтолог андрей иванцов о доказательствах теории эволюции, геологической истории земли и изменениях трилобитов"
      ]
     },
     "metadata": {},
     "output_type": "display_data"
    },
    {
     "data": {
      "text/html": [
       "<b> faqсоциальное поведение свободноживущих лошадей </b><br /> 5 фактов о различных группах одичавших лошадей и их поведении"
      ]
     },
     "metadata": {},
     "output_type": "display_data"
    },
    {
     "data": {
      "text/html": [
       "<b> находка из кении прольет свет на происхождение бегемотов </b><br /> о новых палеонтологических находках, установлении связей между видами и истории эволюции гиппопотамов"
      ]
     },
     "metadata": {},
     "output_type": "display_data"
    },
    {
     "data": {
      "text/html": [
       "<b> найдено древнейшее свидетельство внутреннего оплодотворения среди позвоночных </b><br /> о разнообразии групп рыб, копулятивных органах и издержках выхода на сушу"
      ]
     },
     "metadata": {},
     "output_type": "display_data"
    },
    {
     "data": {
      "text/html": [
       "<b> главы # сексуальные привилегии </b><br /> отрывок из книги «политика у шимпанзе. власть и секс у приматов» нидерландского приматолога и этолога франса де валя"
      ]
     },
     "metadata": {},
     "output_type": "display_data"
    },
    {
     "data": {
      "text/html": [
       "<style  type=\"text/css\" >\n",
       "</style><table id=\"T_a67b1da8_05f2_11ea_a6fb_107b449f15fc\" style='display:inline'><thead>    <tr>        <th class=\"blank level0\" ></th>        <th class=\"col_heading level0 col0\" >topic_7 @2gramm</th>    </tr></thead><tbody>\n",
       "                <tr>\n",
       "                        <th id=\"T_a67b1da8_05f2_11ea_a6fb_107b449f15fclevel0_row0\" class=\"row_heading level0 row0\" >квантовый_компьютер</th>\n",
       "                        <td id=\"T_a67b1da8_05f2_11ea_a6fb_107b449f15fcrow0_col0\" class=\"data row0 col0\" >0.02038</td>\n",
       "            </tr>\n",
       "            <tr>\n",
       "                        <th id=\"T_a67b1da8_05f2_11ea_a6fb_107b449f15fclevel0_row1\" class=\"row_heading level0 row1\" >длина_волна</th>\n",
       "                        <td id=\"T_a67b1da8_05f2_11ea_a6fb_107b449f15fcrow1_col0\" class=\"data row1 col0\" >0.01468</td>\n",
       "            </tr>\n",
       "            <tr>\n",
       "                        <th id=\"T_a67b1da8_05f2_11ea_a6fb_107b449f15fclevel0_row2\" class=\"row_heading level0 row2\" >квантовый_точка</th>\n",
       "                        <td id=\"T_a67b1da8_05f2_11ea_a6fb_107b449f15fcrow2_col0\" class=\"data row2 col0\" >0.01089</td>\n",
       "            </tr>\n",
       "            <tr>\n",
       "                        <th id=\"T_a67b1da8_05f2_11ea_a6fb_107b449f15fclevel0_row3\" class=\"row_heading level0 row3\" >квантовый_технология</th>\n",
       "                        <td id=\"T_a67b1da8_05f2_11ea_a6fb_107b449f15fcrow3_col0\" class=\"data row3 col0\" >0.01043</td>\n",
       "            </tr>\n",
       "            <tr>\n",
       "                        <th id=\"T_a67b1da8_05f2_11ea_a6fb_107b449f15fclevel0_row4\" class=\"row_heading level0 row4\" >углеродный_нанотрубка</th>\n",
       "                        <td id=\"T_a67b1da8_05f2_11ea_a6fb_107b449f15fcrow4_col0\" class=\"data row4 col0\" >0.01029</td>\n",
       "            </tr>\n",
       "            <tr>\n",
       "                        <th id=\"T_a67b1da8_05f2_11ea_a6fb_107b449f15fclevel0_row5\" class=\"row_heading level0 row5\" >магнитный_поль</th>\n",
       "                        <td id=\"T_a67b1da8_05f2_11ea_a6fb_107b449f15fcrow5_col0\" class=\"data row5 col0\" >0.00938</td>\n",
       "            </tr>\n",
       "            <tr>\n",
       "                        <th id=\"T_a67b1da8_05f2_11ea_a6fb_107b449f15fclevel0_row6\" class=\"row_heading level0 row6\" >квантовый_механика</th>\n",
       "                        <td id=\"T_a67b1da8_05f2_11ea_a6fb_107b449f15fcrow6_col0\" class=\"data row6 col0\" >0.00837</td>\n",
       "            </tr>\n",
       "            <tr>\n",
       "                        <th id=\"T_a67b1da8_05f2_11ea_a6fb_107b449f15fclevel0_row7\" class=\"row_heading level0 row7\" >ядерный_энергетика</th>\n",
       "                        <td id=\"T_a67b1da8_05f2_11ea_a6fb_107b449f15fcrow7_col0\" class=\"data row7 col0\" >0.00783</td>\n",
       "            </tr>\n",
       "            <tr>\n",
       "                        <th id=\"T_a67b1da8_05f2_11ea_a6fb_107b449f15fclevel0_row8\" class=\"row_heading level0 row8\" >электромагнитный_волна</th>\n",
       "                        <td id=\"T_a67b1da8_05f2_11ea_a6fb_107b449f15fcrow8_col0\" class=\"data row8 col0\" >0.00774</td>\n",
       "            </tr>\n",
       "            <tr>\n",
       "                        <th id=\"T_a67b1da8_05f2_11ea_a6fb_107b449f15fclevel0_row9\" class=\"row_heading level0 row9\" >квантовый_состояние</th>\n",
       "                        <td id=\"T_a67b1da8_05f2_11ea_a6fb_107b449f15fcrow9_col0\" class=\"data row9 col0\" >0.00754</td>\n",
       "            </tr>\n",
       "    </tbody></table><style  type=\"text/css\" >\n",
       "</style><table id=\"T_a67b1da9_05f2_11ea_a6fb_107b449f15fc\" style='display:inline'><thead>    <tr>        <th class=\"blank level0\" ></th>        <th class=\"col_heading level0 col0\" >topic_7 @3gramm</th>    </tr></thead><tbody>\n",
       "        </tbody></table><style  type=\"text/css\" >\n",
       "</style><table id=\"T_a67b1daa_05f2_11ea_a6fb_107b449f15fc\" style='display:inline'><thead>    <tr>        <th class=\"blank level0\" ></th>        <th class=\"col_heading level0 col0\" >topic_7 @post_tag</th>    </tr></thead><tbody>\n",
       "                <tr>\n",
       "                        <th id=\"T_a67b1daa_05f2_11ea_a6fb_107b449f15fclevel0_row0\" class=\"row_heading level0 row0\" >физика</th>\n",
       "                        <td id=\"T_a67b1daa_05f2_11ea_a6fb_107b449f15fcrow0_col0\" class=\"data row0 col0\" >0.16747</td>\n",
       "            </tr>\n",
       "            <tr>\n",
       "                        <th id=\"T_a67b1daa_05f2_11ea_a6fb_107b449f15fclevel0_row1\" class=\"row_heading level0 row1\" >квантовая_физика</th>\n",
       "                        <td id=\"T_a67b1daa_05f2_11ea_a6fb_107b449f15fcrow1_col0\" class=\"data row1 col0\" >0.09719</td>\n",
       "            </tr>\n",
       "            <tr>\n",
       "                        <th id=\"T_a67b1daa_05f2_11ea_a6fb_107b449f15fclevel0_row2\" class=\"row_heading level0 row2\" >нанотехнологии</th>\n",
       "                        <td id=\"T_a67b1daa_05f2_11ea_a6fb_107b449f15fcrow2_col0\" class=\"data row2 col0\" >0.08729</td>\n",
       "            </tr>\n",
       "            <tr>\n",
       "                        <th id=\"T_a67b1daa_05f2_11ea_a6fb_107b449f15fclevel0_row3\" class=\"row_heading level0 row3\" >технологии</th>\n",
       "                        <td id=\"T_a67b1daa_05f2_11ea_a6fb_107b449f15fcrow3_col0\" class=\"data row3 col0\" >0.05765</td>\n",
       "            </tr>\n",
       "            <tr>\n",
       "                        <th id=\"T_a67b1daa_05f2_11ea_a6fb_107b449f15fclevel0_row4\" class=\"row_heading level0 row4\" >квантовые_технологии</th>\n",
       "                        <td id=\"T_a67b1daa_05f2_11ea_a6fb_107b449f15fcrow4_col0\" class=\"data row4 col0\" >0.04122</td>\n",
       "            </tr>\n",
       "            <tr>\n",
       "                        <th id=\"T_a67b1daa_05f2_11ea_a6fb_107b449f15fclevel0_row5\" class=\"row_heading level0 row5\" >квантовая_механика</th>\n",
       "                        <td id=\"T_a67b1daa_05f2_11ea_a6fb_107b449f15fcrow5_col0\" class=\"data row5 col0\" >0.03889</td>\n",
       "            </tr>\n",
       "            <tr>\n",
       "                        <th id=\"T_a67b1daa_05f2_11ea_a6fb_107b449f15fclevel0_row6\" class=\"row_heading level0 row6\" >атом</th>\n",
       "                        <td id=\"T_a67b1daa_05f2_11ea_a6fb_107b449f15fcrow6_col0\" class=\"data row6 col0\" >0.03677</td>\n",
       "            </tr>\n",
       "            <tr>\n",
       "                        <th id=\"T_a67b1daa_05f2_11ea_a6fb_107b449f15fclevel0_row7\" class=\"row_heading level0 row7\" >оптика</th>\n",
       "                        <td id=\"T_a67b1daa_05f2_11ea_a6fb_107b449f15fcrow7_col0\" class=\"data row7 col0\" >0.03625</td>\n",
       "            </tr>\n",
       "            <tr>\n",
       "                        <th id=\"T_a67b1daa_05f2_11ea_a6fb_107b449f15fclevel0_row8\" class=\"row_heading level0 row8\" >фотоны</th>\n",
       "                        <td id=\"T_a67b1daa_05f2_11ea_a6fb_107b449f15fcrow8_col0\" class=\"data row8 col0\" >0.03462</td>\n",
       "            </tr>\n",
       "            <tr>\n",
       "                        <th id=\"T_a67b1daa_05f2_11ea_a6fb_107b449f15fclevel0_row9\" class=\"row_heading level0 row9\" >лазер</th>\n",
       "                        <td id=\"T_a67b1daa_05f2_11ea_a6fb_107b449f15fcrow9_col0\" class=\"data row9 col0\" >0.03288</td>\n",
       "            </tr>\n",
       "    </tbody></table><style  type=\"text/css\" >\n",
       "</style><table id=\"T_a67b1dab_05f2_11ea_a6fb_107b449f15fc\" style='display:inline'><thead>    <tr>        <th class=\"blank level0\" ></th>        <th class=\"col_heading level0 col0\" >topic_7 @word</th>    </tr></thead><tbody>\n",
       "                <tr>\n",
       "                        <th id=\"T_a67b1dab_05f2_11ea_a6fb_107b449f15fclevel0_row0\" class=\"row_heading level0 row0\" >атом</th>\n",
       "                        <td id=\"T_a67b1dab_05f2_11ea_a6fb_107b449f15fcrow0_col0\" class=\"data row0 col0\" >0.0114</td>\n",
       "            </tr>\n",
       "            <tr>\n",
       "                        <th id=\"T_a67b1dab_05f2_11ea_a6fb_107b449f15fclevel0_row1\" class=\"row_heading level0 row1\" >свет</th>\n",
       "                        <td id=\"T_a67b1dab_05f2_11ea_a6fb_107b449f15fcrow1_col0\" class=\"data row1 col0\" >0.01127</td>\n",
       "            </tr>\n",
       "            <tr>\n",
       "                        <th id=\"T_a67b1dab_05f2_11ea_a6fb_107b449f15fclevel0_row2\" class=\"row_heading level0 row2\" >использовать</th>\n",
       "                        <td id=\"T_a67b1dab_05f2_11ea_a6fb_107b449f15fcrow2_col0\" class=\"data row2 col0\" >0.00934</td>\n",
       "            </tr>\n",
       "            <tr>\n",
       "                        <th id=\"T_a67b1dab_05f2_11ea_a6fb_107b449f15fclevel0_row3\" class=\"row_heading level0 row3\" >фотон</th>\n",
       "                        <td id=\"T_a67b1dab_05f2_11ea_a6fb_107b449f15fcrow3_col0\" class=\"data row3 col0\" >0.0077</td>\n",
       "            </tr>\n",
       "            <tr>\n",
       "                        <th id=\"T_a67b1dab_05f2_11ea_a6fb_107b449f15fclevel0_row4\" class=\"row_heading level0 row4\" >технология</th>\n",
       "                        <td id=\"T_a67b1dab_05f2_11ea_a6fb_107b449f15fcrow4_col0\" class=\"data row4 col0\" >0.00733</td>\n",
       "            </tr>\n",
       "            <tr>\n",
       "                        <th id=\"T_a67b1dab_05f2_11ea_a6fb_107b449f15fclevel0_row5\" class=\"row_heading level0 row5\" >электрон</th>\n",
       "                        <td id=\"T_a67b1dab_05f2_11ea_a6fb_107b449f15fcrow5_col0\" class=\"data row5 col0\" >0.00664</td>\n",
       "            </tr>\n",
       "            <tr>\n",
       "                        <th id=\"T_a67b1dab_05f2_11ea_a6fb_107b449f15fclevel0_row6\" class=\"row_heading level0 row6\" >устройство</th>\n",
       "                        <td id=\"T_a67b1dab_05f2_11ea_a6fb_107b449f15fcrow6_col0\" class=\"data row6 col0\" >0.00629</td>\n",
       "            </tr>\n",
       "            <tr>\n",
       "                        <th id=\"T_a67b1dab_05f2_11ea_a6fb_107b449f15fclevel0_row7\" class=\"row_heading level0 row7\" >материал</th>\n",
       "                        <td id=\"T_a67b1dab_05f2_11ea_a6fb_107b449f15fcrow7_col0\" class=\"data row7 col0\" >0.00615</td>\n",
       "            </tr>\n",
       "            <tr>\n",
       "                        <th id=\"T_a67b1dab_05f2_11ea_a6fb_107b449f15fclevel0_row8\" class=\"row_heading level0 row8\" >волна</th>\n",
       "                        <td id=\"T_a67b1dab_05f2_11ea_a6fb_107b449f15fcrow8_col0\" class=\"data row8 col0\" >0.0053</td>\n",
       "            </tr>\n",
       "            <tr>\n",
       "                        <th id=\"T_a67b1dab_05f2_11ea_a6fb_107b449f15fclevel0_row9\" class=\"row_heading level0 row9\" >квантовый</th>\n",
       "                        <td id=\"T_a67b1dab_05f2_11ea_a6fb_107b449f15fcrow9_col0\" class=\"data row9 col0\" >0.00526</td>\n",
       "            </tr>\n",
       "    </tbody></table>"
      ]
     },
     "metadata": {},
     "output_type": "display_data"
    },
    {
     "data": {
      "text/html": [
       "<b> однослойные углеродные нанотрубки </b><br /> альберт насибулин о синтезе углеродных нанотрубок, аэрозольном методе и прозрачной электронике"
      ]
     },
     "metadata": {},
     "output_type": "display_data"
    },
    {
     "data": {
      "text/html": [
       "<b> faqатомная энергетика сегодня </b><br /> 7 фактов о перспективах развития атомной промышленности в современном мире"
      ]
     },
     "metadata": {},
     "output_type": "display_data"
    },
    {
     "data": {
      "text/html": [
       "<b> «квантовая телепортация используется для передачи секретной информации, которую невозможно украсть» </b><br /> интервью с физиком юджином ползиком о современном понимании идеи телепортации, сериале «star trek» и принципах квантовой криптографии"
      ]
     },
     "metadata": {},
     "output_type": "display_data"
    },
    {
     "data": {
      "text/html": [
       "<b> конденсация экситонных поляритонов </b><br /> физик наталия берлофф о квантовом давлении, свойствах поляритонов и эффекте квантовой блокады"
      ]
     },
     "metadata": {},
     "output_type": "display_data"
    },
    {
     "data": {
      "text/html": [
       "<b> нанофотоника </b><br /> физик владимир белотелов о фотонных вычислениях, плазмонных кристаллах и оптическом компьютере"
      ]
     },
     "metadata": {},
     "output_type": "display_data"
    },
    {
     "data": {
      "text/html": [
       "<b> faqсветоизлучающая органика </b><br /> 6 фактов о разработке новых эффективных источников света"
      ]
     },
     "metadata": {},
     "output_type": "display_data"
    },
    {
     "data": {
      "text/html": [
       "<b> создан наноразмерный элемент, нарушающий симметрию рассеяния света </b><br /> о поляризации света, эффекте фарадея и хиральности"
      ]
     },
     "metadata": {},
     "output_type": "display_data"
    },
    {
     "data": {
      "text/html": [
       "<b> найден новый способ получения наноматериалов </b><br /> ученым удалось проследить процесс роста нанокристаллов при окислении металла"
      ]
     },
     "metadata": {},
     "output_type": "display_data"
    },
    {
     "data": {
      "text/html": [
       "<b> незатухающие токи в металлических кольцах </b><br /> физик андрей семенов о сверхпроводящих кольцах, куперовских парах и многочастичных системах"
      ]
     },
     "metadata": {},
     "output_type": "display_data"
    },
    {
     "data": {
      "text/html": [
       "<b> теория взаимодействия света и вещества в наноструктурах </b><br /> физик алексей кавокин о преобразовании фотонов в веществе, поляритонном лазере и квантовых компьютерах"
      ]
     },
     "metadata": {},
     "output_type": "display_data"
    },
    {
     "data": {
      "text/html": [
       "<style  type=\"text/css\" >\n",
       "</style><table id=\"T_a67b1dac_05f2_11ea_a6fb_107b449f15fc\" style='display:inline'><thead>    <tr>        <th class=\"blank level0\" ></th>        <th class=\"col_heading level0 col0\" >topic_8 @2gramm</th>    </tr></thead><tbody>\n",
       "                <tr>\n",
       "                        <th id=\"T_a67b1dac_05f2_11ea_a6fb_107b449f15fclevel0_row0\" class=\"row_heading level0 row0\" >стволовой_клетка</th>\n",
       "                        <td id=\"T_a67b1dac_05f2_11ea_a6fb_107b449f15fcrow0_col0\" class=\"data row0 col0\" >0.03418</td>\n",
       "            </tr>\n",
       "            <tr>\n",
       "                        <th id=\"T_a67b1dac_05f2_11ea_a6fb_107b449f15fclevel0_row1\" class=\"row_heading level0 row1\" >иммунный_система</th>\n",
       "                        <td id=\"T_a67b1dac_05f2_11ea_a6fb_107b449f15fcrow1_col0\" class=\"data row1 col0\" >0.02251</td>\n",
       "            </tr>\n",
       "            <tr>\n",
       "                        <th id=\"T_a67b1dac_05f2_11ea_a6fb_107b449f15fclevel0_row2\" class=\"row_heading level0 row2\" >раковый_клетка</th>\n",
       "                        <td id=\"T_a67b1dac_05f2_11ea_a6fb_107b449f15fcrow2_col0\" class=\"data row2 col0\" >0.01715</td>\n",
       "            </tr>\n",
       "            <tr>\n",
       "                        <th id=\"T_a67b1dac_05f2_11ea_a6fb_107b449f15fclevel0_row3\" class=\"row_heading level0 row3\" >метод_лечение</th>\n",
       "                        <td id=\"T_a67b1dac_05f2_11ea_a6fb_107b449f15fcrow3_col0\" class=\"data row3 col0\" >0.01092</td>\n",
       "            </tr>\n",
       "            <tr>\n",
       "                        <th id=\"T_a67b1dac_05f2_11ea_a6fb_107b449f15fclevel0_row4\" class=\"row_heading level0 row4\" >опухолевый_клетка</th>\n",
       "                        <td id=\"T_a67b1dac_05f2_11ea_a6fb_107b449f15fcrow4_col0\" class=\"data row4 col0\" >0.0105</td>\n",
       "            </tr>\n",
       "            <tr>\n",
       "                        <th id=\"T_a67b1dac_05f2_11ea_a6fb_107b449f15fclevel0_row5\" class=\"row_heading level0 row5\" >сахарный_диабет</th>\n",
       "                        <td id=\"T_a67b1dac_05f2_11ea_a6fb_107b449f15fcrow5_col0\" class=\"data row5 col0\" >0.00879</td>\n",
       "            </tr>\n",
       "            <tr>\n",
       "                        <th id=\"T_a67b1dac_05f2_11ea_a6fb_107b449f15fclevel0_row6\" class=\"row_heading level0 row6\" >клинический_испытание</th>\n",
       "                        <td id=\"T_a67b1dac_05f2_11ea_a6fb_107b449f15fcrow6_col0\" class=\"data row6 col0\" >0.00873</td>\n",
       "            </tr>\n",
       "            <tr>\n",
       "                        <th id=\"T_a67b1dac_05f2_11ea_a6fb_107b449f15fclevel0_row7\" class=\"row_heading level0 row7\" >онкологический_заболевание</th>\n",
       "                        <td id=\"T_a67b1dac_05f2_11ea_a6fb_107b449f15fcrow7_col0\" class=\"data row7 col0\" >0.00842</td>\n",
       "            </tr>\n",
       "            <tr>\n",
       "                        <th id=\"T_a67b1dac_05f2_11ea_a6fb_107b449f15fclevel0_row8\" class=\"row_heading level0 row8\" >продолжительность_жизнь</th>\n",
       "                        <td id=\"T_a67b1dac_05f2_11ea_a6fb_107b449f15fcrow8_col0\" class=\"data row8 col0\" >0.00819</td>\n",
       "            </tr>\n",
       "            <tr>\n",
       "                        <th id=\"T_a67b1dac_05f2_11ea_a6fb_107b449f15fclevel0_row9\" class=\"row_heading level0 row9\" >костный_мозг</th>\n",
       "                        <td id=\"T_a67b1dac_05f2_11ea_a6fb_107b449f15fcrow9_col0\" class=\"data row9 col0\" >0.00811</td>\n",
       "            </tr>\n",
       "    </tbody></table><style  type=\"text/css\" >\n",
       "</style><table id=\"T_a67b1dad_05f2_11ea_a6fb_107b449f15fc\" style='display:inline'><thead>    <tr>        <th class=\"blank level0\" ></th>        <th class=\"col_heading level0 col0\" >topic_8 @3gramm</th>    </tr></thead><tbody>\n",
       "        </tbody></table><style  type=\"text/css\" >\n",
       "</style><table id=\"T_a67b1dae_05f2_11ea_a6fb_107b449f15fc\" style='display:inline'><thead>    <tr>        <th class=\"blank level0\" ></th>        <th class=\"col_heading level0 col0\" >topic_8 @post_tag</th>    </tr></thead><tbody>\n",
       "                <tr>\n",
       "                        <th id=\"T_a67b1dae_05f2_11ea_a6fb_107b449f15fclevel0_row0\" class=\"row_heading level0 row0\" >медицина</th>\n",
       "                        <td id=\"T_a67b1dae_05f2_11ea_a6fb_107b449f15fcrow0_col0\" class=\"data row0 col0\" >0.19567</td>\n",
       "            </tr>\n",
       "            <tr>\n",
       "                        <th id=\"T_a67b1dae_05f2_11ea_a6fb_107b449f15fclevel0_row1\" class=\"row_heading level0 row1\" >биомедицина</th>\n",
       "                        <td id=\"T_a67b1dae_05f2_11ea_a6fb_107b449f15fcrow1_col0\" class=\"data row1 col0\" >0.09189</td>\n",
       "            </tr>\n",
       "            <tr>\n",
       "                        <th id=\"T_a67b1dae_05f2_11ea_a6fb_107b449f15fclevel0_row2\" class=\"row_heading level0 row2\" >онкология</th>\n",
       "                        <td id=\"T_a67b1dae_05f2_11ea_a6fb_107b449f15fcrow2_col0\" class=\"data row2 col0\" >0.08532</td>\n",
       "            </tr>\n",
       "            <tr>\n",
       "                        <th id=\"T_a67b1dae_05f2_11ea_a6fb_107b449f15fclevel0_row3\" class=\"row_heading level0 row3\" >стволовые_клетки</th>\n",
       "                        <td id=\"T_a67b1dae_05f2_11ea_a6fb_107b449f15fcrow3_col0\" class=\"data row3 col0\" >0.04321</td>\n",
       "            </tr>\n",
       "            <tr>\n",
       "                        <th id=\"T_a67b1dae_05f2_11ea_a6fb_107b449f15fclevel0_row4\" class=\"row_heading level0 row4\" >иммунитет</th>\n",
       "                        <td id=\"T_a67b1dae_05f2_11ea_a6fb_107b449f15fcrow4_col0\" class=\"data row4 col0\" >0.04014</td>\n",
       "            </tr>\n",
       "            <tr>\n",
       "                        <th id=\"T_a67b1dae_05f2_11ea_a6fb_107b449f15fclevel0_row5\" class=\"row_heading level0 row5\" >антропогенез</th>\n",
       "                        <td id=\"T_a67b1dae_05f2_11ea_a6fb_107b449f15fcrow5_col0\" class=\"data row5 col0\" >0.03513</td>\n",
       "            </tr>\n",
       "            <tr>\n",
       "                        <th id=\"T_a67b1dae_05f2_11ea_a6fb_107b449f15fclevel0_row6\" class=\"row_heading level0 row6\" >кардиология</th>\n",
       "                        <td id=\"T_a67b1dae_05f2_11ea_a6fb_107b449f15fcrow6_col0\" class=\"data row6 col0\" >0.03412</td>\n",
       "            </tr>\n",
       "            <tr>\n",
       "                        <th id=\"T_a67b1dae_05f2_11ea_a6fb_107b449f15fclevel0_row7\" class=\"row_heading level0 row7\" >генетика</th>\n",
       "                        <td id=\"T_a67b1dae_05f2_11ea_a6fb_107b449f15fcrow7_col0\" class=\"data row7 col0\" >0.03209</td>\n",
       "            </tr>\n",
       "            <tr>\n",
       "                        <th id=\"T_a67b1dae_05f2_11ea_a6fb_107b449f15fclevel0_row8\" class=\"row_heading level0 row8\" >происхождение_человека</th>\n",
       "                        <td id=\"T_a67b1dae_05f2_11ea_a6fb_107b449f15fcrow8_col0\" class=\"data row8 col0\" >0.03162</td>\n",
       "            </tr>\n",
       "            <tr>\n",
       "                        <th id=\"T_a67b1dae_05f2_11ea_a6fb_107b449f15fclevel0_row9\" class=\"row_heading level0 row9\" >человек</th>\n",
       "                        <td id=\"T_a67b1dae_05f2_11ea_a6fb_107b449f15fcrow9_col0\" class=\"data row9 col0\" >0.03043</td>\n",
       "            </tr>\n",
       "    </tbody></table><style  type=\"text/css\" >\n",
       "</style><table id=\"T_a67b1daf_05f2_11ea_a6fb_107b449f15fc\" style='display:inline'><thead>    <tr>        <th class=\"blank level0\" ></th>        <th class=\"col_heading level0 col0\" >topic_8 @word</th>    </tr></thead><tbody>\n",
       "                <tr>\n",
       "                        <th id=\"T_a67b1daf_05f2_11ea_a6fb_107b449f15fclevel0_row0\" class=\"row_heading level0 row0\" >клетка</th>\n",
       "                        <td id=\"T_a67b1daf_05f2_11ea_a6fb_107b449f15fcrow0_col0\" class=\"data row0 col0\" >0.01871</td>\n",
       "            </tr>\n",
       "            <tr>\n",
       "                        <th id=\"T_a67b1daf_05f2_11ea_a6fb_107b449f15fclevel0_row1\" class=\"row_heading level0 row1\" >пациент</th>\n",
       "                        <td id=\"T_a67b1daf_05f2_11ea_a6fb_107b449f15fcrow1_col0\" class=\"data row1 col0\" >0.01321</td>\n",
       "            </tr>\n",
       "            <tr>\n",
       "                        <th id=\"T_a67b1daf_05f2_11ea_a6fb_107b449f15fclevel0_row2\" class=\"row_heading level0 row2\" >препарат</th>\n",
       "                        <td id=\"T_a67b1daf_05f2_11ea_a6fb_107b449f15fcrow2_col0\" class=\"data row2 col0\" >0.01002</td>\n",
       "            </tr>\n",
       "            <tr>\n",
       "                        <th id=\"T_a67b1daf_05f2_11ea_a6fb_107b449f15fclevel0_row3\" class=\"row_heading level0 row3\" >заболевание</th>\n",
       "                        <td id=\"T_a67b1daf_05f2_11ea_a6fb_107b449f15fcrow3_col0\" class=\"data row3 col0\" >0.00996</td>\n",
       "            </tr>\n",
       "            <tr>\n",
       "                        <th id=\"T_a67b1daf_05f2_11ea_a6fb_107b449f15fclevel0_row4\" class=\"row_heading level0 row4\" >болезнь</th>\n",
       "                        <td id=\"T_a67b1daf_05f2_11ea_a6fb_107b449f15fcrow4_col0\" class=\"data row4 col0\" >0.00849</td>\n",
       "            </tr>\n",
       "            <tr>\n",
       "                        <th id=\"T_a67b1daf_05f2_11ea_a6fb_107b449f15fclevel0_row5\" class=\"row_heading level0 row5\" >лечение</th>\n",
       "                        <td id=\"T_a67b1daf_05f2_11ea_a6fb_107b449f15fcrow5_col0\" class=\"data row5 col0\" >0.00724</td>\n",
       "            </tr>\n",
       "            <tr>\n",
       "                        <th id=\"T_a67b1daf_05f2_11ea_a6fb_107b449f15fclevel0_row6\" class=\"row_heading level0 row6\" >врач</th>\n",
       "                        <td id=\"T_a67b1daf_05f2_11ea_a6fb_107b449f15fcrow6_col0\" class=\"data row6 col0\" >0.00685</td>\n",
       "            </tr>\n",
       "            <tr>\n",
       "                        <th id=\"T_a67b1daf_05f2_11ea_a6fb_107b449f15fclevel0_row7\" class=\"row_heading level0 row7\" >организм</th>\n",
       "                        <td id=\"T_a67b1daf_05f2_11ea_a6fb_107b449f15fcrow7_col0\" class=\"data row7 col0\" >0.00644</td>\n",
       "            </tr>\n",
       "            <tr>\n",
       "                        <th id=\"T_a67b1daf_05f2_11ea_a6fb_107b449f15fclevel0_row8\" class=\"row_heading level0 row8\" >ткань</th>\n",
       "                        <td id=\"T_a67b1daf_05f2_11ea_a6fb_107b449f15fcrow8_col0\" class=\"data row8 col0\" >0.00594</td>\n",
       "            </tr>\n",
       "            <tr>\n",
       "                        <th id=\"T_a67b1daf_05f2_11ea_a6fb_107b449f15fclevel0_row9\" class=\"row_heading level0 row9\" >опухоль</th>\n",
       "                        <td id=\"T_a67b1daf_05f2_11ea_a6fb_107b449f15fcrow9_col0\" class=\"data row9 col0\" >0.00566</td>\n",
       "            </tr>\n",
       "    </tbody></table>"
      ]
     },
     "metadata": {},
     "output_type": "display_data"
    },
    {
     "data": {
      "text/html": [
       "<b> механизм противоопухолевого действия белка яда осы </b><br /> об исследовании белка mp1, который выборочно замедляет пролиферацию клеток рака, и перспективах лечения болезни"
      ]
     },
     "metadata": {},
     "output_type": "display_data"
    },
    {
     "data": {
      "text/html": [
       "<b> вич-ассоциированное поражение миокарда и способы его защиты </b><br /> способен ли антиоксидант процистеин предотвращать развитие вич-индуцированной кардиомиопатии"
      ]
     },
     "metadata": {},
     "output_type": "display_data"
    },
    {
     "data": {
      "text/html": [
       "<b> faqгастрит как инфекционная болезнь </b><br /> 5 фактов о причинах возникновения гастрита и язвы и современных способах их лечения"
      ]
     },
     "metadata": {},
     "output_type": "display_data"
    },
    {
     "data": {
      "text/html": [
       "<b> новые возможности в лечении нейродегенеративных заболеваний </b><br /> биолог сергей киселев о репрограммировании клеток, моторных нейронах и новом подходе к разработке лекарств"
      ]
     },
     "metadata": {},
     "output_type": "display_data"
    },
    {
     "data": {
      "text/html": [
       "<b> faqтканевая инженерия сердца </b><br /> 5 фактов о регенеративной медицине, искусственных тканях и перспективах выращивания сердца"
      ]
     },
     "metadata": {},
     "output_type": "display_data"
    },
    {
     "data": {
      "text/html": [
       "<b> sciencehub #09программируемая гибель клеток </b><br /> биолог борис животовский о нарушениях в гибели клеток, роли апоптоза в патогенезе онкологических заболеваний и перспективах исследований в россии"
      ]
     },
     "metadata": {},
     "output_type": "display_data"
    },
    {
     "data": {
      "text/html": [
       "<b> «опухолевые клетки живут для себя, это - клетки-эгоисты» </b><br /> интервью с биологом евгением шевалем о жизненном цикле клетки, онкогенезе и химиотерапии"
      ]
     },
     "metadata": {},
     "output_type": "display_data"
    },
    {
     "data": {
      "text/html": [
       "<b> тканевая инженерия сердца </b><br /> биофизик константин агладзе об искусственных связках, сердечных клетках и полимерных нановолокнах"
      ]
     },
     "metadata": {},
     "output_type": "display_data"
    },
    {
     "data": {
      "text/html": [
       "<b> faqинфекционный процесс </b><br /> 5 фактов об иммунной системе и взаимоотношениях паразита и хозяина"
      ]
     },
     "metadata": {},
     "output_type": "display_data"
    },
    {
     "data": {
      "text/html": [
       "<b> происхождение австралоидной расы </b><br /> антрополог станислав дробышевский о стереотипах, смешении с неандертальцами и специфике австралийских аборигенов"
      ]
     },
     "metadata": {},
     "output_type": "display_data"
    },
    {
     "data": {
      "text/html": [
       "<style  type=\"text/css\" >\n",
       "</style><table id=\"T_a67b1db0_05f2_11ea_a6fb_107b449f15fc\" style='display:inline'><thead>    <tr>        <th class=\"blank level0\" ></th>        <th class=\"col_heading level0 col0\" >topic_9 @2gramm</th>    </tr></thead><tbody>\n",
       "                <tr>\n",
       "                        <th id=\"T_a67b1db0_05f2_11ea_a6fb_107b449f15fclevel0_row0\" class=\"row_heading level0 row0\" >элементарный_частица</th>\n",
       "                        <td id=\"T_a67b1db0_05f2_11ea_a6fb_107b449f15fcrow0_col0\" class=\"data row0 col0\" >0.0485</td>\n",
       "            </tr>\n",
       "            <tr>\n",
       "                        <th id=\"T_a67b1db0_05f2_11ea_a6fb_107b449f15fclevel0_row1\" class=\"row_heading level0 row1\" >стандартный_модель</th>\n",
       "                        <td id=\"T_a67b1db0_05f2_11ea_a6fb_107b449f15fcrow1_col0\" class=\"data row1 col0\" >0.04838</td>\n",
       "            </tr>\n",
       "            <tr>\n",
       "                        <th id=\"T_a67b1db0_05f2_11ea_a6fb_107b449f15fclevel0_row2\" class=\"row_heading level0 row2\" >бозон_хиггс</th>\n",
       "                        <td id=\"T_a67b1db0_05f2_11ea_a6fb_107b449f15fcrow2_col0\" class=\"data row2 col0\" >0.03693</td>\n",
       "            </tr>\n",
       "            <tr>\n",
       "                        <th id=\"T_a67b1db0_05f2_11ea_a6fb_107b449f15fclevel0_row3\" class=\"row_heading level0 row3\" >электрический_заряд</th>\n",
       "                        <td id=\"T_a67b1db0_05f2_11ea_a6fb_107b449f15fcrow3_col0\" class=\"data row3 col0\" >0.01699</td>\n",
       "            </tr>\n",
       "            <tr>\n",
       "                        <th id=\"T_a67b1db0_05f2_11ea_a6fb_107b449f15fclevel0_row4\" class=\"row_heading level0 row4\" >хиггсовский_бозон</th>\n",
       "                        <td id=\"T_a67b1db0_05f2_11ea_a6fb_107b449f15fcrow4_col0\" class=\"data row4 col0\" >0.01682</td>\n",
       "            </tr>\n",
       "            <tr>\n",
       "                        <th id=\"T_a67b1db0_05f2_11ea_a6fb_107b449f15fclevel0_row5\" class=\"row_heading level0 row5\" >сильный_взаимодействие</th>\n",
       "                        <td id=\"T_a67b1db0_05f2_11ea_a6fb_107b449f15fcrow5_col0\" class=\"data row5 col0\" >0.01536</td>\n",
       "            </tr>\n",
       "            <tr>\n",
       "                        <th id=\"T_a67b1db0_05f2_11ea_a6fb_107b449f15fclevel0_row6\" class=\"row_heading level0 row6\" >высокий_энергия</th>\n",
       "                        <td id=\"T_a67b1db0_05f2_11ea_a6fb_107b449f15fcrow6_col0\" class=\"data row6 col0\" >0.01324</td>\n",
       "            </tr>\n",
       "            <tr>\n",
       "                        <th id=\"T_a67b1db0_05f2_11ea_a6fb_107b449f15fclevel0_row7\" class=\"row_heading level0 row7\" >слабый_взаимодействие</th>\n",
       "                        <td id=\"T_a67b1db0_05f2_11ea_a6fb_107b449f15fcrow7_col0\" class=\"data row7 col0\" >0.013</td>\n",
       "            </tr>\n",
       "            <tr>\n",
       "                        <th id=\"T_a67b1db0_05f2_11ea_a6fb_107b449f15fclevel0_row8\" class=\"row_heading level0 row8\" >космический_луч</th>\n",
       "                        <td id=\"T_a67b1db0_05f2_11ea_a6fb_107b449f15fcrow8_col0\" class=\"data row8 col0\" >0.01228</td>\n",
       "            </tr>\n",
       "            <tr>\n",
       "                        <th id=\"T_a67b1db0_05f2_11ea_a6fb_107b449f15fclevel0_row9\" class=\"row_heading level0 row9\" >физика_частица</th>\n",
       "                        <td id=\"T_a67b1db0_05f2_11ea_a6fb_107b449f15fcrow9_col0\" class=\"data row9 col0\" >0.0107</td>\n",
       "            </tr>\n",
       "    </tbody></table><style  type=\"text/css\" >\n",
       "</style><table id=\"T_a67b1db1_05f2_11ea_a6fb_107b449f15fc\" style='display:inline'><thead>    <tr>        <th class=\"blank level0\" ></th>        <th class=\"col_heading level0 col0\" >topic_9 @3gramm</th>    </tr></thead><tbody>\n",
       "        </tbody></table><style  type=\"text/css\" >\n",
       "</style><table id=\"T_a67b1db2_05f2_11ea_a6fb_107b449f15fc\" style='display:inline'><thead>    <tr>        <th class=\"blank level0\" ></th>        <th class=\"col_heading level0 col0\" >topic_9 @post_tag</th>    </tr></thead><tbody>\n",
       "                <tr>\n",
       "                        <th id=\"T_a67b1db2_05f2_11ea_a6fb_107b449f15fclevel0_row0\" class=\"row_heading level0 row0\" >физика_элементарных_частиц</th>\n",
       "                        <td id=\"T_a67b1db2_05f2_11ea_a6fb_107b449f15fcrow0_col0\" class=\"data row0 col0\" >0.14531</td>\n",
       "            </tr>\n",
       "            <tr>\n",
       "                        <th id=\"T_a67b1db2_05f2_11ea_a6fb_107b449f15fclevel0_row1\" class=\"row_heading level0 row1\" >элементарная_частица</th>\n",
       "                        <td id=\"T_a67b1db2_05f2_11ea_a6fb_107b449f15fcrow1_col0\" class=\"data row1 col0\" >0.07531</td>\n",
       "            </tr>\n",
       "            <tr>\n",
       "                        <th id=\"T_a67b1db2_05f2_11ea_a6fb_107b449f15fclevel0_row2\" class=\"row_heading level0 row2\" >кварк</th>\n",
       "                        <td id=\"T_a67b1db2_05f2_11ea_a6fb_107b449f15fcrow2_col0\" class=\"data row2 col0\" >0.07362</td>\n",
       "            </tr>\n",
       "            <tr>\n",
       "                        <th id=\"T_a67b1db2_05f2_11ea_a6fb_107b449f15fclevel0_row3\" class=\"row_heading level0 row3\" >бозон_хиггса</th>\n",
       "                        <td id=\"T_a67b1db2_05f2_11ea_a6fb_107b449f15fcrow3_col0\" class=\"data row3 col0\" >0.06977</td>\n",
       "            </tr>\n",
       "            <tr>\n",
       "                        <th id=\"T_a67b1db2_05f2_11ea_a6fb_107b449f15fclevel0_row4\" class=\"row_heading level0 row4\" >большой_адронный_коллайдер</th>\n",
       "                        <td id=\"T_a67b1db2_05f2_11ea_a6fb_107b449f15fcrow4_col0\" class=\"data row4 col0\" >0.06737</td>\n",
       "            </tr>\n",
       "            <tr>\n",
       "                        <th id=\"T_a67b1db2_05f2_11ea_a6fb_107b449f15fclevel0_row5\" class=\"row_heading level0 row5\" >стандартная_модель</th>\n",
       "                        <td id=\"T_a67b1db2_05f2_11ea_a6fb_107b449f15fcrow5_col0\" class=\"data row5 col0\" >0.06508</td>\n",
       "            </tr>\n",
       "            <tr>\n",
       "                        <th id=\"T_a67b1db2_05f2_11ea_a6fb_107b449f15fclevel0_row6\" class=\"row_heading level0 row6\" >нейтрино</th>\n",
       "                        <td id=\"T_a67b1db2_05f2_11ea_a6fb_107b449f15fcrow6_col0\" class=\"data row6 col0\" >0.04481</td>\n",
       "            </tr>\n",
       "            <tr>\n",
       "                        <th id=\"T_a67b1db2_05f2_11ea_a6fb_107b449f15fclevel0_row7\" class=\"row_heading level0 row7\" >симметрия</th>\n",
       "                        <td id=\"T_a67b1db2_05f2_11ea_a6fb_107b449f15fcrow7_col0\" class=\"data row7 col0\" >0.04285</td>\n",
       "            </tr>\n",
       "            <tr>\n",
       "                        <th id=\"T_a67b1db2_05f2_11ea_a6fb_107b449f15fclevel0_row8\" class=\"row_heading level0 row8\" >коллайдер</th>\n",
       "                        <td id=\"T_a67b1db2_05f2_11ea_a6fb_107b449f15fcrow8_col0\" class=\"data row8 col0\" >0.03397</td>\n",
       "            </tr>\n",
       "            <tr>\n",
       "                        <th id=\"T_a67b1db2_05f2_11ea_a6fb_107b449f15fclevel0_row9\" class=\"row_heading level0 row9\" >протон</th>\n",
       "                        <td id=\"T_a67b1db2_05f2_11ea_a6fb_107b449f15fcrow9_col0\" class=\"data row9 col0\" >0.02638</td>\n",
       "            </tr>\n",
       "    </tbody></table><style  type=\"text/css\" >\n",
       "</style><table id=\"T_a67b1db3_05f2_11ea_a6fb_107b449f15fc\" style='display:inline'><thead>    <tr>        <th class=\"blank level0\" ></th>        <th class=\"col_heading level0 col0\" >topic_9 @word</th>    </tr></thead><tbody>\n",
       "                <tr>\n",
       "                        <th id=\"T_a67b1db3_05f2_11ea_a6fb_107b449f15fclevel0_row0\" class=\"row_heading level0 row0\" >частица</th>\n",
       "                        <td id=\"T_a67b1db3_05f2_11ea_a6fb_107b449f15fcrow0_col0\" class=\"data row0 col0\" >0.04183</td>\n",
       "            </tr>\n",
       "            <tr>\n",
       "                        <th id=\"T_a67b1db3_05f2_11ea_a6fb_107b449f15fclevel0_row1\" class=\"row_heading level0 row1\" >кварк</th>\n",
       "                        <td id=\"T_a67b1db3_05f2_11ea_a6fb_107b449f15fcrow1_col0\" class=\"data row1 col0\" >0.0282</td>\n",
       "            </tr>\n",
       "            <tr>\n",
       "                        <th id=\"T_a67b1db3_05f2_11ea_a6fb_107b449f15fclevel0_row2\" class=\"row_heading level0 row2\" >электрон</th>\n",
       "                        <td id=\"T_a67b1db3_05f2_11ea_a6fb_107b449f15fcrow2_col0\" class=\"data row2 col0\" >0.01469</td>\n",
       "            </tr>\n",
       "            <tr>\n",
       "                        <th id=\"T_a67b1db3_05f2_11ea_a6fb_107b449f15fclevel0_row3\" class=\"row_heading level0 row3\" >симметрия</th>\n",
       "                        <td id=\"T_a67b1db3_05f2_11ea_a6fb_107b449f15fcrow3_col0\" class=\"data row3 col0\" >0.01311</td>\n",
       "            </tr>\n",
       "            <tr>\n",
       "                        <th id=\"T_a67b1db3_05f2_11ea_a6fb_107b449f15fclevel0_row4\" class=\"row_heading level0 row4\" >протон</th>\n",
       "                        <td id=\"T_a67b1db3_05f2_11ea_a6fb_107b449f15fcrow4_col0\" class=\"data row4 col0\" >0.01257</td>\n",
       "            </tr>\n",
       "            <tr>\n",
       "                        <th id=\"T_a67b1db3_05f2_11ea_a6fb_107b449f15fclevel0_row5\" class=\"row_heading level0 row5\" >энергия</th>\n",
       "                        <td id=\"T_a67b1db3_05f2_11ea_a6fb_107b449f15fcrow5_col0\" class=\"data row5 col0\" >0.01178</td>\n",
       "            </tr>\n",
       "            <tr>\n",
       "                        <th id=\"T_a67b1db3_05f2_11ea_a6fb_107b449f15fclevel0_row6\" class=\"row_heading level0 row6\" >масса</th>\n",
       "                        <td id=\"T_a67b1db3_05f2_11ea_a6fb_107b449f15fcrow6_col0\" class=\"data row6 col0\" >0.01146</td>\n",
       "            </tr>\n",
       "            <tr>\n",
       "                        <th id=\"T_a67b1db3_05f2_11ea_a6fb_107b449f15fclevel0_row7\" class=\"row_heading level0 row7\" >нейтрино</th>\n",
       "                        <td id=\"T_a67b1db3_05f2_11ea_a6fb_107b449f15fcrow7_col0\" class=\"data row7 col0\" >0.01088</td>\n",
       "            </tr>\n",
       "            <tr>\n",
       "                        <th id=\"T_a67b1db3_05f2_11ea_a6fb_107b449f15fclevel0_row8\" class=\"row_heading level0 row8\" >ускоритель</th>\n",
       "                        <td id=\"T_a67b1db3_05f2_11ea_a6fb_107b449f15fcrow8_col0\" class=\"data row8 col0\" >0.00869</td>\n",
       "            </tr>\n",
       "            <tr>\n",
       "                        <th id=\"T_a67b1db3_05f2_11ea_a6fb_107b449f15fclevel0_row9\" class=\"row_heading level0 row9\" >эксперимент</th>\n",
       "                        <td id=\"T_a67b1db3_05f2_11ea_a6fb_107b449f15fcrow9_col0\" class=\"data row9 col0\" >0.00824</td>\n",
       "            </tr>\n",
       "    </tbody></table>"
      ]
     },
     "metadata": {},
     "output_type": "display_data"
    },
    {
     "data": {
      "text/html": [
       "<b> кварк-лептонная симметрия </b><br /> физик дмитрий казаков о поколениях лептонов и кварков, последней открытой элементарной частице и главных фундаментальных взаимодействиях"
      ]
     },
     "metadata": {},
     "output_type": "display_data"
    },
    {
     "data": {
      "text/html": [
       "<b> суперсимметрия </b><br /> физик дмитрий казаков о связи бозонов и фермионов, внедрении теории суперсимметрии и поисках ее подтверждения на коллайдерах"
      ]
     },
     "metadata": {},
     "output_type": "display_data"
    },
    {
     "data": {
      "text/html": [
       "<b> поиск редких процессов на коллайдерах </b><br /> физик лев дудко о моделировании новых процессов, многомерных методах анализа и статистической достоверности"
      ]
     },
     "metadata": {},
     "output_type": "display_data"
    },
    {
     "data": {
      "text/html": [
       "<b> лептоны и нейтрино </b><br /> физик дмитрий казаков о трех поколениях лептонов, эффекте нейтринных осцилляций и роли нейтрино в космологии"
      ]
     },
     "metadata": {},
     "output_type": "display_data"
    },
    {
     "data": {
      "text/html": [
       "<b> адроны </b><br /> физик дмитрий казаков о мире мезонов и барионов, свойствах кварков и адронных резонансах"
      ]
     },
     "metadata": {},
     "output_type": "display_data"
    },
    {
     "data": {
      "text/html": [
       "<b> антиводород </b><br /> физик владимир мележик об экзотических атомах, получении антивещества и расщеплении уровней энергии антиатомов"
      ]
     },
     "metadata": {},
     "output_type": "display_data"
    },
    {
     "data": {
      "text/html": [
       "<b> oбогащение урана </b><br /> физик рафаэль арутюнян о разделении изотопов урана, фториде урана и реакторах на быстрых нейтронах"
      ]
     },
     "metadata": {},
     "output_type": "display_data"
    },
    {
     "data": {
      "text/html": [
       "<b> фундаментальные проблемы физики и астрофизики нейтрино </b><br /> физик валерий рубаков об антинейтрино, космических лучах и нейтринных телескопах"
      ]
     },
     "metadata": {},
     "output_type": "display_data"
    },
    {
     "data": {
      "text/html": [
       "<b> артефактпервый ускоритель эрнеста резерфорда </b><br /> физик григорий трубников об экспериментах резерфорда и начале ядерной физики"
      ]
     },
     "metadata": {},
     "output_type": "display_data"
    },
    {
     "data": {
      "text/html": [
       "<b> экзотические адроны </b><br /> физик роман мизюк о квантовой хромодинамике, цветном заряде и структуре тетракварков"
      ]
     },
     "metadata": {},
     "output_type": "display_data"
    },
    {
     "data": {
      "text/html": [
       "<style  type=\"text/css\" >\n",
       "</style><table id=\"T_a67b1db4_05f2_11ea_a6fb_107b449f15fc\" style='display:inline'><thead>    <tr>        <th class=\"blank level0\" ></th>        <th class=\"col_heading level0 col0\" >topic_10 @2gramm</th>    </tr></thead><tbody>\n",
       "                <tr>\n",
       "                        <th id=\"T_a67b1db4_05f2_11ea_a6fb_107b449f15fclevel0_row0\" class=\"row_heading level0 row0\" >социология_повседневность</th>\n",
       "                        <td id=\"T_a67b1db4_05f2_11ea_a6fb_107b449f15fcrow0_col0\" class=\"data row0 col0\" >0.01431</td>\n",
       "            </tr>\n",
       "            <tr>\n",
       "                        <th id=\"T_a67b1db4_05f2_11ea_a6fb_107b449f15fclevel0_row1\" class=\"row_heading level0 row1\" >теория_фрейм</th>\n",
       "                        <td id=\"T_a67b1db4_05f2_11ea_a6fb_107b449f15fcrow1_col0\" class=\"data row1 col0\" >0.01349</td>\n",
       "            </tr>\n",
       "            <tr>\n",
       "                        <th id=\"T_a67b1db4_05f2_11ea_a6fb_107b449f15fclevel0_row2\" class=\"row_heading level0 row2\" >материальный_объект</th>\n",
       "                        <td id=\"T_a67b1db4_05f2_11ea_a6fb_107b449f15fcrow2_col0\" class=\"data row2 col0\" >0.01297</td>\n",
       "            </tr>\n",
       "            <tr>\n",
       "                        <th id=\"T_a67b1db4_05f2_11ea_a6fb_107b449f15fclevel0_row3\" class=\"row_heading level0 row3\" >старший_возраст</th>\n",
       "                        <td id=\"T_a67b1db4_05f2_11ea_a6fb_107b449f15fcrow3_col0\" class=\"data row3 col0\" >0.01288</td>\n",
       "            </tr>\n",
       "            <tr>\n",
       "                        <th id=\"T_a67b1db4_05f2_11ea_a6fb_107b449f15fclevel0_row4\" class=\"row_heading level0 row4\" >король_артур</th>\n",
       "                        <td id=\"T_a67b1db4_05f2_11ea_a6fb_107b449f15fcrow4_col0\" class=\"data row4 col0\" >0.01234</td>\n",
       "            </tr>\n",
       "            <tr>\n",
       "                        <th id=\"T_a67b1db4_05f2_11ea_a6fb_107b449f15fclevel0_row5\" class=\"row_heading level0 row5\" >социальный_взаимодействие</th>\n",
       "                        <td id=\"T_a67b1db4_05f2_11ea_a6fb_107b449f15fcrow5_col0\" class=\"data row5 col0\" >0.01228</td>\n",
       "            </tr>\n",
       "            <tr>\n",
       "                        <th id=\"T_a67b1db4_05f2_11ea_a6fb_107b449f15fclevel0_row6\" class=\"row_heading level0 row6\" >социальный_жизнь</th>\n",
       "                        <td id=\"T_a67b1db4_05f2_11ea_a6fb_107b449f15fcrow6_col0\" class=\"data row6 col0\" >0.01157</td>\n",
       "            </tr>\n",
       "            <tr>\n",
       "                        <th id=\"T_a67b1db4_05f2_11ea_a6fb_107b449f15fclevel0_row7\" class=\"row_heading level0 row7\" >социальный_роль</th>\n",
       "                        <td id=\"T_a67b1db4_05f2_11ea_a6fb_107b449f15fcrow7_col0\" class=\"data row7 col0\" >0.01048</td>\n",
       "            </tr>\n",
       "            <tr>\n",
       "                        <th id=\"T_a67b1db4_05f2_11ea_a6fb_107b449f15fclevel0_row8\" class=\"row_heading level0 row8\" >социальный_порядок</th>\n",
       "                        <td id=\"T_a67b1db4_05f2_11ea_a6fb_107b449f15fcrow8_col0\" class=\"data row8 col0\" >0.00979</td>\n",
       "            </tr>\n",
       "            <tr>\n",
       "                        <th id=\"T_a67b1db4_05f2_11ea_a6fb_107b449f15fclevel0_row9\" class=\"row_heading level0 row9\" >технический_прогресс</th>\n",
       "                        <td id=\"T_a67b1db4_05f2_11ea_a6fb_107b449f15fcrow9_col0\" class=\"data row9 col0\" >0.00842</td>\n",
       "            </tr>\n",
       "    </tbody></table><style  type=\"text/css\" >\n",
       "</style><table id=\"T_a67b1db5_05f2_11ea_a6fb_107b449f15fc\" style='display:inline'><thead>    <tr>        <th class=\"blank level0\" ></th>        <th class=\"col_heading level0 col0\" >topic_10 @3gramm</th>    </tr></thead><tbody>\n",
       "        </tbody></table><style  type=\"text/css\" >\n",
       "</style><table id=\"T_a67b1db6_05f2_11ea_a6fb_107b449f15fc\" style='display:inline'><thead>    <tr>        <th class=\"blank level0\" ></th>        <th class=\"col_heading level0 col0\" >topic_10 @post_tag</th>    </tr></thead><tbody>\n",
       "                <tr>\n",
       "                        <th id=\"T_a67b1db6_05f2_11ea_a6fb_107b449f15fclevel0_row0\" class=\"row_heading level0 row0\" >социология_повседневности</th>\n",
       "                        <td id=\"T_a67b1db6_05f2_11ea_a6fb_107b449f15fcrow0_col0\" class=\"data row0 col0\" >0.14154</td>\n",
       "            </tr>\n",
       "            <tr>\n",
       "                        <th id=\"T_a67b1db6_05f2_11ea_a6fb_107b449f15fclevel0_row1\" class=\"row_heading level0 row1\" >гоффман_эрвинг</th>\n",
       "                        <td id=\"T_a67b1db6_05f2_11ea_a6fb_107b449f15fcrow1_col0\" class=\"data row1 col0\" >0.07921</td>\n",
       "            </tr>\n",
       "            <tr>\n",
       "                        <th id=\"T_a67b1db6_05f2_11ea_a6fb_107b449f15fclevel0_row2\" class=\"row_heading level0 row2\" >стресс</th>\n",
       "                        <td id=\"T_a67b1db6_05f2_11ea_a6fb_107b449f15fcrow2_col0\" class=\"data row2 col0\" >0.07471</td>\n",
       "            </tr>\n",
       "            <tr>\n",
       "                        <th id=\"T_a67b1db6_05f2_11ea_a6fb_107b449f15fclevel0_row3\" class=\"row_heading level0 row3\" >теория_фреймов</th>\n",
       "                        <td id=\"T_a67b1db6_05f2_11ea_a6fb_107b449f15fcrow3_col0\" class=\"data row3 col0\" >0.06253</td>\n",
       "            </tr>\n",
       "            <tr>\n",
       "                        <th id=\"T_a67b1db6_05f2_11ea_a6fb_107b449f15fclevel0_row4\" class=\"row_heading level0 row4\" >либерализм</th>\n",
       "                        <td id=\"T_a67b1db6_05f2_11ea_a6fb_107b449f15fcrow4_col0\" class=\"data row4 col0\" >0.04611</td>\n",
       "            </tr>\n",
       "            <tr>\n",
       "                        <th id=\"T_a67b1db6_05f2_11ea_a6fb_107b449f15fclevel0_row5\" class=\"row_heading level0 row5\" >фрейм</th>\n",
       "                        <td id=\"T_a67b1db6_05f2_11ea_a6fb_107b449f15fcrow5_col0\" class=\"data row5 col0\" >0.04167</td>\n",
       "            </tr>\n",
       "            <tr>\n",
       "                        <th id=\"T_a67b1db6_05f2_11ea_a6fb_107b449f15fclevel0_row6\" class=\"row_heading level0 row6\" >микросоциология</th>\n",
       "                        <td id=\"T_a67b1db6_05f2_11ea_a6fb_107b449f15fcrow6_col0\" class=\"data row6 col0\" >0.04164</td>\n",
       "            </tr>\n",
       "            <tr>\n",
       "                        <th id=\"T_a67b1db6_05f2_11ea_a6fb_107b449f15fclevel0_row7\" class=\"row_heading level0 row7\" >фрейм-анализ</th>\n",
       "                        <td id=\"T_a67b1db6_05f2_11ea_a6fb_107b449f15fcrow7_col0\" class=\"data row7 col0\" >0.04162</td>\n",
       "            </tr>\n",
       "            <tr>\n",
       "                        <th id=\"T_a67b1db6_05f2_11ea_a6fb_107b449f15fclevel0_row8\" class=\"row_heading level0 row8\" >этнометодология</th>\n",
       "                        <td id=\"T_a67b1db6_05f2_11ea_a6fb_107b449f15fcrow8_col0\" class=\"data row8 col0\" >0.03964</td>\n",
       "            </tr>\n",
       "            <tr>\n",
       "                        <th id=\"T_a67b1db6_05f2_11ea_a6fb_107b449f15fclevel0_row9\" class=\"row_heading level0 row9\" >шюц_альфред</th>\n",
       "                        <td id=\"T_a67b1db6_05f2_11ea_a6fb_107b449f15fcrow9_col0\" class=\"data row9 col0\" >0.03749</td>\n",
       "            </tr>\n",
       "    </tbody></table><style  type=\"text/css\" >\n",
       "</style><table id=\"T_a67b1db7_05f2_11ea_a6fb_107b449f15fc\" style='display:inline'><thead>    <tr>        <th class=\"blank level0\" ></th>        <th class=\"col_heading level0 col0\" >topic_10 @word</th>    </tr></thead><tbody>\n",
       "                <tr>\n",
       "                        <th id=\"T_a67b1db7_05f2_11ea_a6fb_107b449f15fclevel0_row0\" class=\"row_heading level0 row0\" >событие</th>\n",
       "                        <td id=\"T_a67b1db7_05f2_11ea_a6fb_107b449f15fcrow0_col0\" class=\"data row0 col0\" >0.01044</td>\n",
       "            </tr>\n",
       "            <tr>\n",
       "                        <th id=\"T_a67b1db7_05f2_11ea_a6fb_107b449f15fclevel0_row1\" class=\"row_heading level0 row1\" >фрейм</th>\n",
       "                        <td id=\"T_a67b1db7_05f2_11ea_a6fb_107b449f15fcrow1_col0\" class=\"data row1 col0\" >0.00566</td>\n",
       "            </tr>\n",
       "            <tr>\n",
       "                        <th id=\"T_a67b1db7_05f2_11ea_a6fb_107b449f15fclevel0_row2\" class=\"row_heading level0 row2\" >роль</th>\n",
       "                        <td id=\"T_a67b1db7_05f2_11ea_a6fb_107b449f15fcrow2_col0\" class=\"data row2 col0\" >0.00523</td>\n",
       "            </tr>\n",
       "            <tr>\n",
       "                        <th id=\"T_a67b1db7_05f2_11ea_a6fb_107b449f15fclevel0_row3\" class=\"row_heading level0 row3\" >ситуация</th>\n",
       "                        <td id=\"T_a67b1db7_05f2_11ea_a6fb_107b449f15fcrow3_col0\" class=\"data row3 col0\" >0.00457</td>\n",
       "            </tr>\n",
       "            <tr>\n",
       "                        <th id=\"T_a67b1db7_05f2_11ea_a6fb_107b449f15fclevel0_row4\" class=\"row_heading level0 row4\" >взаимодействие</th>\n",
       "                        <td id=\"T_a67b1db7_05f2_11ea_a6fb_107b449f15fcrow4_col0\" class=\"data row4 col0\" >0.00431</td>\n",
       "            </tr>\n",
       "            <tr>\n",
       "                        <th id=\"T_a67b1db7_05f2_11ea_a6fb_107b449f15fclevel0_row5\" class=\"row_heading level0 row5\" >социальный</th>\n",
       "                        <td id=\"T_a67b1db7_05f2_11ea_a6fb_107b449f15fcrow5_col0\" class=\"data row5 col0\" >0.00429</td>\n",
       "            </tr>\n",
       "            <tr>\n",
       "                        <th id=\"T_a67b1db7_05f2_11ea_a6fb_107b449f15fclevel0_row6\" class=\"row_heading level0 row6\" >декабрист</th>\n",
       "                        <td id=\"T_a67b1db7_05f2_11ea_a6fb_107b449f15fcrow6_col0\" class=\"data row6 col0\" >0.00401</td>\n",
       "            </tr>\n",
       "            <tr>\n",
       "                        <th id=\"T_a67b1db7_05f2_11ea_a6fb_107b449f15fclevel0_row7\" class=\"row_heading level0 row7\" >объект</th>\n",
       "                        <td id=\"T_a67b1db7_05f2_11ea_a6fb_107b449f15fcrow7_col0\" class=\"data row7 col0\" >0.0039</td>\n",
       "            </tr>\n",
       "            <tr>\n",
       "                        <th id=\"T_a67b1db7_05f2_11ea_a6fb_107b449f15fclevel0_row8\" class=\"row_heading level0 row8\" >действие</th>\n",
       "                        <td id=\"T_a67b1db7_05f2_11ea_a6fb_107b449f15fcrow8_col0\" class=\"data row8 col0\" >0.00379</td>\n",
       "            </tr>\n",
       "            <tr>\n",
       "                        <th id=\"T_a67b1db7_05f2_11ea_a6fb_107b449f15fclevel0_row9\" class=\"row_heading level0 row9\" >техника</th>\n",
       "                        <td id=\"T_a67b1db7_05f2_11ea_a6fb_107b449f15fcrow9_col0\" class=\"data row9 col0\" >0.00371</td>\n",
       "            </tr>\n",
       "    </tbody></table>"
      ]
     },
     "metadata": {},
     "output_type": "display_data"
    },
    {
     "data": {
      "text/html": [
       "<b> 5 книг о либерализации старения </b><br /> что читать об изучении пожилого возраста, рассказывает директор центра методологии федеративных исследований ранхигс дмитрий рогозин"
      ]
     },
     "metadata": {},
     "output_type": "display_data"
    },
    {
     "data": {
      "text/html": [
       "<b> понятие фрейма у гоффмана </b><br /> социолог михаил соколов о фрейм-анализе, социальных ролях и театральных метафорах в описании социальной жизни"
      ]
     },
     "metadata": {},
     "output_type": "display_data"
    },
    {
     "data": {
      "text/html": [
       "<b> экстраординарные события и их описания </b><br /> социологический анализ столкновения абсолютного с повседневным"
      ]
     },
     "metadata": {},
     "output_type": "display_data"
    },
    {
     "data": {
      "text/html": [
       "<b> 5 книг по философии техники </b><br /> что читать об истории осмысления техники как культурного феномена, рекомендует кандидат философских наук егор лавренчук"
      ]
     },
     "metadata": {},
     "output_type": "display_data"
    },
    {
     "data": {
      "text/html": [
       "<b> стратегические интеракции </b><br /> социолог михаил соколов о субъектах стратегического взаимодействия, разновидностях поступков и теории культурной эволюции"
      ]
     },
     "metadata": {},
     "output_type": "display_data"
    },
    {
     "data": {
      "text/html": [
       "<b> автограф # «социология повседневности и теория фреймов» </b><br /> социолог виктор вахштайн рассказывает, в чём ценность теории фреймов, как развивается фрейм-анализ и о том, от чего стоит воздерживаться учёному"
      ]
     },
     "metadata": {},
     "output_type": "display_data"
    },
    {
     "data": {
      "text/html": [
       "<b> социальные роли </b><br /> социолог михаил соколов о ролевом наборе, ролевой дистанции и экспериментах милгрэма и зимбардо"
      ]
     },
     "metadata": {},
     "output_type": "display_data"
    },
    {
     "data": {
      "text/html": [
       "<b> к теории подозрения </b><br /> социолог виктор вахштайн объясняет, что общего у карла маркса и обитателей петербургской коммуналки"
      ]
     },
     "metadata": {},
     "output_type": "display_data"
    },
    {
     "data": {
      "text/html": [
       "<b> транспонирование </b><br /> социолог виктор вахштайн о марксистской критике повседневности, формулах переноса и рекламе пива"
      ]
     },
     "metadata": {},
     "output_type": "display_data"
    },
    {
     "data": {
      "text/html": [
       "<b> действующие вещи </b><br /> социолог виктор вахштайн объясняет, как материальные объекты конституируют социальные взаимодействия"
      ]
     },
     "metadata": {},
     "output_type": "display_data"
    },
    {
     "data": {
      "text/html": [
       "<style  type=\"text/css\" >\n",
       "</style><table id=\"T_a67b1db8_05f2_11ea_a6fb_107b449f15fc\" style='display:inline'><thead>    <tr>        <th class=\"blank level0\" ></th>        <th class=\"col_heading level0 col0\" >topic_11 @2gramm</th>    </tr></thead><tbody>\n",
       "                <tr>\n",
       "                        <th id=\"T_a67b1db8_05f2_11ea_a6fb_107b449f15fclevel0_row0\" class=\"row_heading level0 row0\" >массовый_культура</th>\n",
       "                        <td id=\"T_a67b1db8_05f2_11ea_a6fb_107b449f15fcrow0_col0\" class=\"data row0 col0\" >0.04035</td>\n",
       "            </tr>\n",
       "            <tr>\n",
       "                        <th id=\"T_a67b1db8_05f2_11ea_a6fb_107b449f15fclevel0_row1\" class=\"row_heading level0 row1\" >критический_теория</th>\n",
       "                        <td id=\"T_a67b1db8_05f2_11ea_a6fb_107b449f15fcrow1_col0\" class=\"data row1 col0\" >0.01841</td>\n",
       "            </tr>\n",
       "            <tr>\n",
       "                        <th id=\"T_a67b1db8_05f2_11ea_a6fb_107b449f15fclevel0_row2\" class=\"row_heading level0 row2\" >культовый_кино</th>\n",
       "                        <td id=\"T_a67b1db8_05f2_11ea_a6fb_107b449f15fcrow2_col0\" class=\"data row2 col0\" >0.0165</td>\n",
       "            </tr>\n",
       "            <tr>\n",
       "                        <th id=\"T_a67b1db8_05f2_11ea_a6fb_107b449f15fclevel0_row3\" class=\"row_heading level0 row3\" >cinema_studies</th>\n",
       "                        <td id=\"T_a67b1db8_05f2_11ea_a6fb_107b449f15fcrow3_col0\" class=\"data row3 col0\" >0.01532</td>\n",
       "            </tr>\n",
       "            <tr>\n",
       "                        <th id=\"T_a67b1db8_05f2_11ea_a6fb_107b449f15fclevel0_row4\" class=\"row_heading level0 row4\" >общество_потребление</th>\n",
       "                        <td id=\"T_a67b1db8_05f2_11ea_a6fb_107b449f15fcrow4_col0\" class=\"data row4 col0\" >0.01168</td>\n",
       "            </tr>\n",
       "            <tr>\n",
       "                        <th id=\"T_a67b1db8_05f2_11ea_a6fb_107b449f15fclevel0_row5\" class=\"row_heading level0 row5\" >молодёжный_субкультура</th>\n",
       "                        <td id=\"T_a67b1db8_05f2_11ea_a6fb_107b449f15fcrow5_col0\" class=\"data row5 col0\" >0.00945</td>\n",
       "            </tr>\n",
       "            <tr>\n",
       "                        <th id=\"T_a67b1db8_05f2_11ea_a6fb_107b449f15fclevel0_row6\" class=\"row_heading level0 row6\" >плохой_кино</th>\n",
       "                        <td id=\"T_a67b1db8_05f2_11ea_a6fb_107b449f15fcrow6_col0\" class=\"data row6 col0\" >0.00884</td>\n",
       "            </tr>\n",
       "            <tr>\n",
       "                        <th id=\"T_a67b1db8_05f2_11ea_a6fb_107b449f15fclevel0_row7\" class=\"row_heading level0 row7\" >хороший_вкус</th>\n",
       "                        <td id=\"T_a67b1db8_05f2_11ea_a6fb_107b449f15fcrow7_col0\" class=\"data row7 col0\" >0.00772</td>\n",
       "            </tr>\n",
       "            <tr>\n",
       "                        <th id=\"T_a67b1db8_05f2_11ea_a6fb_107b449f15fclevel0_row8\" class=\"row_heading level0 row8\" >популярный_культура</th>\n",
       "                        <td id=\"T_a67b1db8_05f2_11ea_a6fb_107b449f15fcrow8_col0\" class=\"data row8 col0\" >0.00735</td>\n",
       "            </tr>\n",
       "            <tr>\n",
       "                        <th id=\"T_a67b1db8_05f2_11ea_a6fb_107b449f15fclevel0_row9\" class=\"row_heading level0 row9\" >живой_мертвец</th>\n",
       "                        <td id=\"T_a67b1db8_05f2_11ea_a6fb_107b449f15fcrow9_col0\" class=\"data row9 col0\" >0.00674</td>\n",
       "            </tr>\n",
       "    </tbody></table><style  type=\"text/css\" >\n",
       "</style><table id=\"T_a67b1db9_05f2_11ea_a6fb_107b449f15fc\" style='display:inline'><thead>    <tr>        <th class=\"blank level0\" ></th>        <th class=\"col_heading level0 col0\" >topic_11 @3gramm</th>    </tr></thead><tbody>\n",
       "        </tbody></table><style  type=\"text/css\" >\n",
       "</style><table id=\"T_a67b1dba_05f2_11ea_a6fb_107b449f15fc\" style='display:inline'><thead>    <tr>        <th class=\"blank level0\" ></th>        <th class=\"col_heading level0 col0\" >topic_11 @post_tag</th>    </tr></thead><tbody>\n",
       "                <tr>\n",
       "                        <th id=\"T_a67b1dba_05f2_11ea_a6fb_107b449f15fclevel0_row0\" class=\"row_heading level0 row0\" >массовая_культура</th>\n",
       "                        <td id=\"T_a67b1dba_05f2_11ea_a6fb_107b449f15fcrow0_col0\" class=\"data row0 col0\" >0.1625</td>\n",
       "            </tr>\n",
       "            <tr>\n",
       "                        <th id=\"T_a67b1dba_05f2_11ea_a6fb_107b449f15fclevel0_row1\" class=\"row_heading level0 row1\" >культурология</th>\n",
       "                        <td id=\"T_a67b1dba_05f2_11ea_a6fb_107b449f15fcrow1_col0\" class=\"data row1 col0\" >0.13628</td>\n",
       "            </tr>\n",
       "            <tr>\n",
       "                        <th id=\"T_a67b1dba_05f2_11ea_a6fb_107b449f15fclevel0_row2\" class=\"row_heading level0 row2\" >кино</th>\n",
       "                        <td id=\"T_a67b1dba_05f2_11ea_a6fb_107b449f15fcrow2_col0\" class=\"data row2 col0\" >0.09898</td>\n",
       "            </tr>\n",
       "            <tr>\n",
       "                        <th id=\"T_a67b1dba_05f2_11ea_a6fb_107b449f15fclevel0_row3\" class=\"row_heading level0 row3\" >гендер</th>\n",
       "                        <td id=\"T_a67b1dba_05f2_11ea_a6fb_107b449f15fcrow3_col0\" class=\"data row3 col0\" >0.08655</td>\n",
       "            </tr>\n",
       "            <tr>\n",
       "                        <th id=\"T_a67b1dba_05f2_11ea_a6fb_107b449f15fclevel0_row4\" class=\"row_heading level0 row4\" >кинематограф</th>\n",
       "                        <td id=\"T_a67b1dba_05f2_11ea_a6fb_107b449f15fcrow4_col0\" class=\"data row4 col0\" >0.07775</td>\n",
       "            </tr>\n",
       "            <tr>\n",
       "                        <th id=\"T_a67b1dba_05f2_11ea_a6fb_107b449f15fclevel0_row5\" class=\"row_heading level0 row5\" >культура</th>\n",
       "                        <td id=\"T_a67b1dba_05f2_11ea_a6fb_107b449f15fcrow5_col0\" class=\"data row5 col0\" >0.056</td>\n",
       "            </tr>\n",
       "            <tr>\n",
       "                        <th id=\"T_a67b1dba_05f2_11ea_a6fb_107b449f15fclevel0_row6\" class=\"row_heading level0 row6\" >театр</th>\n",
       "                        <td id=\"T_a67b1dba_05f2_11ea_a6fb_107b449f15fcrow6_col0\" class=\"data row6 col0\" >0.04229</td>\n",
       "            </tr>\n",
       "            <tr>\n",
       "                        <th id=\"T_a67b1dba_05f2_11ea_a6fb_107b449f15fclevel0_row7\" class=\"row_heading level0 row7\" >расоведение</th>\n",
       "                        <td id=\"T_a67b1dba_05f2_11ea_a6fb_107b449f15fcrow7_col0\" class=\"data row7 col0\" >0.03987</td>\n",
       "            </tr>\n",
       "            <tr>\n",
       "                        <th id=\"T_a67b1dba_05f2_11ea_a6fb_107b449f15fclevel0_row8\" class=\"row_heading level0 row8\" >театроведение</th>\n",
       "                        <td id=\"T_a67b1dba_05f2_11ea_a6fb_107b449f15fcrow8_col0\" class=\"data row8 col0\" >0.03525</td>\n",
       "            </tr>\n",
       "            <tr>\n",
       "                        <th id=\"T_a67b1dba_05f2_11ea_a6fb_107b449f15fclevel0_row9\" class=\"row_heading level0 row9\" >феминизм</th>\n",
       "                        <td id=\"T_a67b1dba_05f2_11ea_a6fb_107b449f15fcrow9_col0\" class=\"data row9 col0\" >0.03036</td>\n",
       "            </tr>\n",
       "    </tbody></table><style  type=\"text/css\" >\n",
       "</style><table id=\"T_a67b1dbb_05f2_11ea_a6fb_107b449f15fc\" style='display:inline'><thead>    <tr>        <th class=\"blank level0\" ></th>        <th class=\"col_heading level0 col0\" >topic_11 @word</th>    </tr></thead><tbody>\n",
       "                <tr>\n",
       "                        <th id=\"T_a67b1dbb_05f2_11ea_a6fb_107b449f15fclevel0_row0\" class=\"row_heading level0 row0\" >фильм</th>\n",
       "                        <td id=\"T_a67b1dbb_05f2_11ea_a6fb_107b449f15fcrow0_col0\" class=\"data row0 col0\" >0.0198</td>\n",
       "            </tr>\n",
       "            <tr>\n",
       "                        <th id=\"T_a67b1dbb_05f2_11ea_a6fb_107b449f15fclevel0_row1\" class=\"row_heading level0 row1\" >женщина</th>\n",
       "                        <td id=\"T_a67b1dbb_05f2_11ea_a6fb_107b449f15fcrow1_col0\" class=\"data row1 col0\" >0.01312</td>\n",
       "            </tr>\n",
       "            <tr>\n",
       "                        <th id=\"T_a67b1dbb_05f2_11ea_a6fb_107b449f15fclevel0_row2\" class=\"row_heading level0 row2\" >кино</th>\n",
       "                        <td id=\"T_a67b1dbb_05f2_11ea_a6fb_107b449f15fcrow2_col0\" class=\"data row2 col0\" >0.0084</td>\n",
       "            </tr>\n",
       "            <tr>\n",
       "                        <th id=\"T_a67b1dbb_05f2_11ea_a6fb_107b449f15fclevel0_row3\" class=\"row_heading level0 row3\" >культура</th>\n",
       "                        <td id=\"T_a67b1dbb_05f2_11ea_a6fb_107b449f15fcrow3_col0\" class=\"data row3 col0\" >0.00812</td>\n",
       "            </tr>\n",
       "            <tr>\n",
       "                        <th id=\"T_a67b1dbb_05f2_11ea_a6fb_107b449f15fclevel0_row4\" class=\"row_heading level0 row4\" >мужчина</th>\n",
       "                        <td id=\"T_a67b1dbb_05f2_11ea_a6fb_107b449f15fcrow4_col0\" class=\"data row4 col0\" >0.00745</td>\n",
       "            </tr>\n",
       "            <tr>\n",
       "                        <th id=\"T_a67b1dbb_05f2_11ea_a6fb_107b449f15fclevel0_row5\" class=\"row_heading level0 row5\" >книга</th>\n",
       "                        <td id=\"T_a67b1dbb_05f2_11ea_a6fb_107b449f15fcrow5_col0\" class=\"data row5 col0\" >0.00578</td>\n",
       "            </tr>\n",
       "            <tr>\n",
       "                        <th id=\"T_a67b1dbb_05f2_11ea_a6fb_107b449f15fclevel0_row6\" class=\"row_heading level0 row6\" >театр</th>\n",
       "                        <td id=\"T_a67b1dbb_05f2_11ea_a6fb_107b449f15fcrow6_col0\" class=\"data row6 col0\" >0.00558</td>\n",
       "            </tr>\n",
       "            <tr>\n",
       "                        <th id=\"T_a67b1dbb_05f2_11ea_a6fb_107b449f15fclevel0_row7\" class=\"row_heading level0 row7\" >раса</th>\n",
       "                        <td id=\"T_a67b1dbb_05f2_11ea_a6fb_107b449f15fcrow7_col0\" class=\"data row7 col0\" >0.00535</td>\n",
       "            </tr>\n",
       "            <tr>\n",
       "                        <th id=\"T_a67b1dbb_05f2_11ea_a6fb_107b449f15fclevel0_row8\" class=\"row_heading level0 row8\" >зритель</th>\n",
       "                        <td id=\"T_a67b1dbb_05f2_11ea_a6fb_107b449f15fcrow8_col0\" class=\"data row8 col0\" >0.00489</td>\n",
       "            </tr>\n",
       "            <tr>\n",
       "                        <th id=\"T_a67b1dbb_05f2_11ea_a6fb_107b449f15fclevel0_row9\" class=\"row_heading level0 row9\" >кинематограф</th>\n",
       "                        <td id=\"T_a67b1dbb_05f2_11ea_a6fb_107b449f15fcrow9_col0\" class=\"data row9 col0\" >0.00485</td>\n",
       "            </tr>\n",
       "    </tbody></table>"
      ]
     },
     "metadata": {},
     "output_type": "display_data"
    },
    {
     "data": {
      "text/html": [
       "<b> гендерные исследования в cinema studies </b><br /> философ александр павлов о методах психоанализа в cinema studies, образе «последней девушки» и анализе кинематографа с позиций феминизма"
      ]
     },
     "metadata": {},
     "output_type": "display_data"
    },
    {
     "data": {
      "text/html": [
       "<b> главы # скрытые механизмы идеологии в \"бойцовском клубе\" </b><br /> отрывок из книги «постыдное удовольствиефилософские и социально-политические интерпретации массового кинематографа» философа александра павлова"
      ]
     },
     "metadata": {},
     "output_type": "display_data"
    },
    {
     "data": {
      "text/html": [
       "<b> cinema studies как дисциплина </b><br /> философ и культуролог александр павлов об исследованиях кинематографа на западе, главных теоретиках cinema studies и развитии этой дисциплины в россии"
      ]
     },
     "metadata": {},
     "output_type": "display_data"
    },
    {
     "data": {
      "text/html": [
       "<b> штурмуя публичное пространствослова о гетеротопии плохого вкуса </b><br /> философ александр павлов о теории кэмпа сьюзен сонтаг, русской традиции кинокритики и утопии хорошего вкуса"
      ]
     },
     "metadata": {},
     "output_type": "display_data"
    },
    {
     "data": {
      "text/html": [
       "<b> 5 книг о культовом кинематографе </b><br /> что читать о культовом кино, рекомендует доцент философского факультета ниу вшэ александр павлов"
      ]
     },
     "metadata": {},
     "output_type": "display_data"
    },
    {
     "data": {
      "text/html": [
       "<b> феномен happy end </b><br /> культуролог екатерина лапина-кратасюк о популярном кинематографе, фильмах жанра нуар и «кошмаре на улице вязов»"
      ]
     },
     "metadata": {},
     "output_type": "display_data"
    },
    {
     "data": {
      "text/html": [
       "<b> трансформации локальной культуры </b><br /> философ владимир миронов о глобальном коммуникационном пространстве, противостоянии высокой и массовой культуры и оппозиции «свой — чужой»"
      ]
     },
     "metadata": {},
     "output_type": "display_data"
    },
    {
     "data": {
      "text/html": [
       "<b> 5 книг об анализе фильма </b><br /> что читать об исследованиях кинематографа на примере анализа конкретных фильмов, рекомендует философ александр павлов"
      ]
     },
     "metadata": {},
     "output_type": "display_data"
    },
    {
     "data": {
      "text/html": [
       "<b> понятие «грайндхаус» в cinema studies </b><br /> философ александр павлов об эксплуатационном кино, концептуальном аппарате cinema studies и взаимодействии высокого и низкого кинематографа"
      ]
     },
     "metadata": {},
     "output_type": "display_data"
    },
    {
     "data": {
      "text/html": [
       "<b> «нет больше высокой и низкой культуры, есть просто культура сегодня» </b><br /> интервью с философом и культурологом александром павловым о философии массовой культуры, славое жижеке и обществе потребления"
      ]
     },
     "metadata": {},
     "output_type": "display_data"
    },
    {
     "data": {
      "text/html": [
       "<style  type=\"text/css\" >\n",
       "</style><table id=\"T_a67b1dbc_05f2_11ea_a6fb_107b449f15fc\" style='display:inline'><thead>    <tr>        <th class=\"blank level0\" ></th>        <th class=\"col_heading level0 col0\" >topic_12 @2gramm</th>    </tr></thead><tbody>\n",
       "                <tr>\n",
       "                        <th id=\"T_a67b1dbc_05f2_11ea_a6fb_107b449f15fclevel0_row0\" class=\"row_heading level0 row0\" >нервный_клетка</th>\n",
       "                        <td id=\"T_a67b1dbc_05f2_11ea_a6fb_107b449f15fcrow0_col0\" class=\"data row0 col0\" >0.03859</td>\n",
       "            </tr>\n",
       "            <tr>\n",
       "                        <th id=\"T_a67b1dbc_05f2_11ea_a6fb_107b449f15fclevel0_row1\" class=\"row_heading level0 row1\" >нервный_система</th>\n",
       "                        <td id=\"T_a67b1dbc_05f2_11ea_a6fb_107b449f15fcrow1_col0\" class=\"data row1 col0\" >0.02534</td>\n",
       "            </tr>\n",
       "            <tr>\n",
       "                        <th id=\"T_a67b1dbc_05f2_11ea_a6fb_107b449f15fclevel0_row2\" class=\"row_heading level0 row2\" >головной_мозг</th>\n",
       "                        <td id=\"T_a67b1dbc_05f2_11ea_a6fb_107b449f15fcrow2_col0\" class=\"data row2 col0\" >0.01646</td>\n",
       "            </tr>\n",
       "            <tr>\n",
       "                        <th id=\"T_a67b1dbc_05f2_11ea_a6fb_107b449f15fclevel0_row3\" class=\"row_heading level0 row3\" >человеческий_мозг</th>\n",
       "                        <td id=\"T_a67b1dbc_05f2_11ea_a6fb_107b449f15fcrow3_col0\" class=\"data row3 col0\" >0.01432</td>\n",
       "            </tr>\n",
       "            <tr>\n",
       "                        <th id=\"T_a67b1dbc_05f2_11ea_a6fb_107b449f15fclevel0_row4\" class=\"row_heading level0 row4\" >работа_мозг</th>\n",
       "                        <td id=\"T_a67b1dbc_05f2_11ea_a6fb_107b449f15fcrow4_col0\" class=\"data row4 col0\" >0.01316</td>\n",
       "            </tr>\n",
       "            <tr>\n",
       "                        <th id=\"T_a67b1dbc_05f2_11ea_a6fb_107b449f15fclevel0_row5\" class=\"row_heading level0 row5\" >орган_чувство</th>\n",
       "                        <td id=\"T_a67b1dbc_05f2_11ea_a6fb_107b449f15fcrow5_col0\" class=\"data row5 col0\" >0.01086</td>\n",
       "            </tr>\n",
       "            <tr>\n",
       "                        <th id=\"T_a67b1dbc_05f2_11ea_a6fb_107b449f15fclevel0_row6\" class=\"row_heading level0 row6\" >область_мозг</th>\n",
       "                        <td id=\"T_a67b1dbc_05f2_11ea_a6fb_107b449f15fcrow6_col0\" class=\"data row6 col0\" >0.00938</td>\n",
       "            </tr>\n",
       "            <tr>\n",
       "                        <th id=\"T_a67b1dbc_05f2_11ea_a6fb_107b449f15fclevel0_row7\" class=\"row_heading level0 row7\" >потенциал_действие</th>\n",
       "                        <td id=\"T_a67b1dbc_05f2_11ea_a6fb_107b449f15fcrow7_col0\" class=\"data row7 col0\" >0.00883</td>\n",
       "            </tr>\n",
       "            <tr>\n",
       "                        <th id=\"T_a67b1dbc_05f2_11ea_a6fb_107b449f15fclevel0_row8\" class=\"row_heading level0 row8\" >структура_мозг</th>\n",
       "                        <td id=\"T_a67b1dbc_05f2_11ea_a6fb_107b449f15fcrow8_col0\" class=\"data row8 col0\" >0.00765</td>\n",
       "            </tr>\n",
       "            <tr>\n",
       "                        <th id=\"T_a67b1dbc_05f2_11ea_a6fb_107b449f15fclevel0_row9\" class=\"row_heading level0 row9\" >нейронный_сеть</th>\n",
       "                        <td id=\"T_a67b1dbc_05f2_11ea_a6fb_107b449f15fcrow9_col0\" class=\"data row9 col0\" >0.00763</td>\n",
       "            </tr>\n",
       "    </tbody></table><style  type=\"text/css\" >\n",
       "</style><table id=\"T_a67b1dbd_05f2_11ea_a6fb_107b449f15fc\" style='display:inline'><thead>    <tr>        <th class=\"blank level0\" ></th>        <th class=\"col_heading level0 col0\" >topic_12 @3gramm</th>    </tr></thead><tbody>\n",
       "        </tbody></table><style  type=\"text/css\" >\n",
       "</style><table id=\"T_a67b1dbe_05f2_11ea_a6fb_107b449f15fc\" style='display:inline'><thead>    <tr>        <th class=\"blank level0\" ></th>        <th class=\"col_heading level0 col0\" >topic_12 @post_tag</th>    </tr></thead><tbody>\n",
       "                <tr>\n",
       "                        <th id=\"T_a67b1dbe_05f2_11ea_a6fb_107b449f15fclevel0_row0\" class=\"row_heading level0 row0\" >мозг</th>\n",
       "                        <td id=\"T_a67b1dbe_05f2_11ea_a6fb_107b449f15fcrow0_col0\" class=\"data row0 col0\" >0.30146</td>\n",
       "            </tr>\n",
       "            <tr>\n",
       "                        <th id=\"T_a67b1dbe_05f2_11ea_a6fb_107b449f15fclevel0_row1\" class=\"row_heading level0 row1\" >нейробиология</th>\n",
       "                        <td id=\"T_a67b1dbe_05f2_11ea_a6fb_107b449f15fcrow1_col0\" class=\"data row1 col0\" >0.14673</td>\n",
       "            </tr>\n",
       "            <tr>\n",
       "                        <th id=\"T_a67b1dbe_05f2_11ea_a6fb_107b449f15fclevel0_row2\" class=\"row_heading level0 row2\" >нейрон</th>\n",
       "                        <td id=\"T_a67b1dbe_05f2_11ea_a6fb_107b449f15fcrow2_col0\" class=\"data row2 col0\" >0.10911</td>\n",
       "            </tr>\n",
       "            <tr>\n",
       "                        <th id=\"T_a67b1dbe_05f2_11ea_a6fb_107b449f15fclevel0_row3\" class=\"row_heading level0 row3\" >нейрофизиология</th>\n",
       "                        <td id=\"T_a67b1dbe_05f2_11ea_a6fb_107b449f15fcrow3_col0\" class=\"data row3 col0\" >0.09122</td>\n",
       "            </tr>\n",
       "            <tr>\n",
       "                        <th id=\"T_a67b1dbe_05f2_11ea_a6fb_107b449f15fclevel0_row4\" class=\"row_heading level0 row4\" >физиология</th>\n",
       "                        <td id=\"T_a67b1dbe_05f2_11ea_a6fb_107b449f15fcrow4_col0\" class=\"data row4 col0\" >0.06038</td>\n",
       "            </tr>\n",
       "            <tr>\n",
       "                        <th id=\"T_a67b1dbe_05f2_11ea_a6fb_107b449f15fclevel0_row5\" class=\"row_heading level0 row5\" >сознание</th>\n",
       "                        <td id=\"T_a67b1dbe_05f2_11ea_a6fb_107b449f15fcrow5_col0\" class=\"data row5 col0\" >0.03905</td>\n",
       "            </tr>\n",
       "            <tr>\n",
       "                        <th id=\"T_a67b1dbe_05f2_11ea_a6fb_107b449f15fclevel0_row6\" class=\"row_heading level0 row6\" >эмоции</th>\n",
       "                        <td id=\"T_a67b1dbe_05f2_11ea_a6fb_107b449f15fcrow6_col0\" class=\"data row6 col0\" >0.03565</td>\n",
       "            </tr>\n",
       "            <tr>\n",
       "                        <th id=\"T_a67b1dbe_05f2_11ea_a6fb_107b449f15fclevel0_row7\" class=\"row_heading level0 row7\" >нейропсихология</th>\n",
       "                        <td id=\"T_a67b1dbe_05f2_11ea_a6fb_107b449f15fcrow7_col0\" class=\"data row7 col0\" >0.02745</td>\n",
       "            </tr>\n",
       "            <tr>\n",
       "                        <th id=\"T_a67b1dbe_05f2_11ea_a6fb_107b449f15fclevel0_row8\" class=\"row_heading level0 row8\" >память</th>\n",
       "                        <td id=\"T_a67b1dbe_05f2_11ea_a6fb_107b449f15fcrow8_col0\" class=\"data row8 col0\" >0.02685</td>\n",
       "            </tr>\n",
       "            <tr>\n",
       "                        <th id=\"T_a67b1dbe_05f2_11ea_a6fb_107b449f15fclevel0_row9\" class=\"row_heading level0 row9\" >психофизиология</th>\n",
       "                        <td id=\"T_a67b1dbe_05f2_11ea_a6fb_107b449f15fcrow9_col0\" class=\"data row9 col0\" >0.02573</td>\n",
       "            </tr>\n",
       "    </tbody></table><style  type=\"text/css\" >\n",
       "</style><table id=\"T_a67b1dbf_05f2_11ea_a6fb_107b449f15fc\" style='display:inline'><thead>    <tr>        <th class=\"blank level0\" ></th>        <th class=\"col_heading level0 col0\" >topic_12 @word</th>    </tr></thead><tbody>\n",
       "                <tr>\n",
       "                        <th id=\"T_a67b1dbf_05f2_11ea_a6fb_107b449f15fclevel0_row0\" class=\"row_heading level0 row0\" >мозг</th>\n",
       "                        <td id=\"T_a67b1dbf_05f2_11ea_a6fb_107b449f15fcrow0_col0\" class=\"data row0 col0\" >0.04075</td>\n",
       "            </tr>\n",
       "            <tr>\n",
       "                        <th id=\"T_a67b1dbf_05f2_11ea_a6fb_107b449f15fclevel0_row1\" class=\"row_heading level0 row1\" >нейрон</th>\n",
       "                        <td id=\"T_a67b1dbf_05f2_11ea_a6fb_107b449f15fcrow1_col0\" class=\"data row1 col0\" >0.01851</td>\n",
       "            </tr>\n",
       "            <tr>\n",
       "                        <th id=\"T_a67b1dbf_05f2_11ea_a6fb_107b449f15fclevel0_row2\" class=\"row_heading level0 row2\" >память</th>\n",
       "                        <td id=\"T_a67b1dbf_05f2_11ea_a6fb_107b449f15fcrow2_col0\" class=\"data row2 col0\" >0.0078</td>\n",
       "            </tr>\n",
       "            <tr>\n",
       "                        <th id=\"T_a67b1dbf_05f2_11ea_a6fb_107b449f15fclevel0_row3\" class=\"row_heading level0 row3\" >клетка</th>\n",
       "                        <td id=\"T_a67b1dbf_05f2_11ea_a6fb_107b449f15fcrow3_col0\" class=\"data row3 col0\" >0.00747</td>\n",
       "            </tr>\n",
       "            <tr>\n",
       "                        <th id=\"T_a67b1dbf_05f2_11ea_a6fb_107b449f15fclevel0_row4\" class=\"row_heading level0 row4\" >мышца</th>\n",
       "                        <td id=\"T_a67b1dbf_05f2_11ea_a6fb_107b449f15fcrow4_col0\" class=\"data row4 col0\" >0.00566</td>\n",
       "            </tr>\n",
       "            <tr>\n",
       "                        <th id=\"T_a67b1dbf_05f2_11ea_a6fb_107b449f15fclevel0_row5\" class=\"row_heading level0 row5\" >животное</th>\n",
       "                        <td id=\"T_a67b1dbf_05f2_11ea_a6fb_107b449f15fcrow5_col0\" class=\"data row5 col0\" >0.0056</td>\n",
       "            </tr>\n",
       "            <tr>\n",
       "                        <th id=\"T_a67b1dbf_05f2_11ea_a6fb_107b449f15fclevel0_row6\" class=\"row_heading level0 row6\" >сознание</th>\n",
       "                        <td id=\"T_a67b1dbf_05f2_11ea_a6fb_107b449f15fcrow6_col0\" class=\"data row6 col0\" >0.00559</td>\n",
       "            </tr>\n",
       "            <tr>\n",
       "                        <th id=\"T_a67b1dbf_05f2_11ea_a6fb_107b449f15fclevel0_row7\" class=\"row_heading level0 row7\" >активность</th>\n",
       "                        <td id=\"T_a67b1dbf_05f2_11ea_a6fb_107b449f15fcrow7_col0\" class=\"data row7 col0\" >0.00527</td>\n",
       "            </tr>\n",
       "            <tr>\n",
       "                        <th id=\"T_a67b1dbf_05f2_11ea_a6fb_107b449f15fclevel0_row8\" class=\"row_heading level0 row8\" >связь</th>\n",
       "                        <td id=\"T_a67b1dbf_05f2_11ea_a6fb_107b449f15fcrow8_col0\" class=\"data row8 col0\" >0.00484</td>\n",
       "            </tr>\n",
       "            <tr>\n",
       "                        <th id=\"T_a67b1dbf_05f2_11ea_a6fb_107b449f15fclevel0_row9\" class=\"row_heading level0 row9\" >синапс</th>\n",
       "                        <td id=\"T_a67b1dbf_05f2_11ea_a6fb_107b449f15fcrow9_col0\" class=\"data row9 col0\" >0.00438</td>\n",
       "            </tr>\n",
       "    </tbody></table>"
      ]
     },
     "metadata": {},
     "output_type": "display_data"
    },
    {
     "data": {
      "text/html": [
       "<b> faqкомандные нейроны </b><br /> 5 фактов о различных функциях клеток в нервной системе"
      ]
     },
     "metadata": {},
     "output_type": "display_data"
    },
    {
     "data": {
      "text/html": [
       "<b> молекулярные механизмы памяти </b><br /> нейробиолог павел балабан о процессе обучения, «молекуле памяти» и высших функциях мозга"
      ]
     },
     "metadata": {},
     "output_type": "display_data"
    },
    {
     "data": {
      "text/html": [
       "<b> нейрокоммуникаторы, нейроконтроллеры, нейропротезы, экзоскелетоны </b><br /> психофизиолог александр каплан о возможностях мозга, нейроинтерфейсных технологиях и экспериментах с кибернетической рукой"
      ]
     },
     "metadata": {},
     "output_type": "display_data"
    },
    {
     "data": {
      "text/html": [
       "<b> нейрогенетика памяти </b><br /> нейробиолог павел балабан о молекулах памяти, полногеномном анализе и нейродегенаративных заболеваниях"
      ]
     },
     "metadata": {},
     "output_type": "display_data"
    },
    {
     "data": {
      "text/html": [
       "<b> faqматериальная основа памяти </b><br /> 5 фактов о порождении памяти, ее зависимости от белка и молекуле памяти между нервными клетками"
      ]
     },
     "metadata": {},
     "output_type": "display_data"
    },
    {
     "data": {
      "text/html": [
       "<b> командные нейроны </b><br /> нейробиолог павел балабан о сенсорных нейронах, исследованиях беспозвоночных и моделирующих клетках"
      ]
     },
     "metadata": {},
     "output_type": "display_data"
    },
    {
     "data": {
      "text/html": [
       "<b> материальная основа памяти </b><br /> нейробиолог павел балабан о молекулах памяти, материальных следах воспоминаний и механизме процесса обучения"
      ]
     },
     "metadata": {},
     "output_type": "display_data"
    },
    {
     "data": {
      "text/html": [
       "<b> «в эволюции живого не было “допсихического”, “чисто физиологического” этапа» </b><br /> интервью с психофизиологом юрием александровым о наличии и отсутствии сознания, свободе воли и различных способах решения психофизиологической проблемы"
      ]
     },
     "metadata": {},
     "output_type": "display_data"
    },
    {
     "data": {
      "text/html": [
       "<b> каково научное обоснование гипноза? </b><br /> психофизиолог александр каплан о природных состояниях мозга, гипнозе у животных и «каналах доверия»"
      ]
     },
     "metadata": {},
     "output_type": "display_data"
    },
    {
     "data": {
      "text/html": [
       "<b> аппарат эмоций </b><br /> математик александр жданов о формировании мотивации, эмоциях человека и нейронных сетях"
      ]
     },
     "metadata": {},
     "output_type": "display_data"
    },
    {
     "data": {
      "text/html": [
       "<style  type=\"text/css\" >\n",
       "</style><table id=\"T_a67b1dc0_05f2_11ea_a6fb_107b449f15fc\" style='display:inline'><thead>    <tr>        <th class=\"blank level0\" ></th>        <th class=\"col_heading level0 col0\" >topic_13 @2gramm</th>    </tr></thead><tbody>\n",
       "                <tr>\n",
       "                        <th id=\"T_a67b1dc0_05f2_11ea_a6fb_107b449f15fclevel0_row0\" class=\"row_heading level0 row0\" >чёрный_дыра</th>\n",
       "                        <td id=\"T_a67b1dc0_05f2_11ea_a6fb_107b449f15fcrow0_col0\" class=\"data row0 col0\" >0.08172</td>\n",
       "            </tr>\n",
       "            <tr>\n",
       "                        <th id=\"T_a67b1dc0_05f2_11ea_a6fb_107b449f15fclevel0_row1\" class=\"row_heading level0 row1\" >нейтронный_звезда</th>\n",
       "                        <td id=\"T_a67b1dc0_05f2_11ea_a6fb_107b449f15fcrow1_col0\" class=\"data row1 col0\" >0.04874</td>\n",
       "            </tr>\n",
       "            <tr>\n",
       "                        <th id=\"T_a67b1dc0_05f2_11ea_a6fb_107b449f15fclevel0_row2\" class=\"row_heading level0 row2\" >солнечный_система</th>\n",
       "                        <td id=\"T_a67b1dc0_05f2_11ea_a6fb_107b449f15fcrow2_col0\" class=\"data row2 col0\" >0.01203</td>\n",
       "            </tr>\n",
       "            <tr>\n",
       "                        <th id=\"T_a67b1dc0_05f2_11ea_a6fb_107b449f15fclevel0_row3\" class=\"row_heading level0 row3\" >планетный_система</th>\n",
       "                        <td id=\"T_a67b1dc0_05f2_11ea_a6fb_107b449f15fcrow3_col0\" class=\"data row3 col0\" >0.01121</td>\n",
       "            </tr>\n",
       "            <tr>\n",
       "                        <th id=\"T_a67b1dc0_05f2_11ea_a6fb_107b449f15fclevel0_row4\" class=\"row_heading level0 row4\" >белый_карлик</th>\n",
       "                        <td id=\"T_a67b1dc0_05f2_11ea_a6fb_107b449f15fcrow4_col0\" class=\"data row4 col0\" >0.0107</td>\n",
       "            </tr>\n",
       "            <tr>\n",
       "                        <th id=\"T_a67b1dc0_05f2_11ea_a6fb_107b449f15fclevel0_row5\" class=\"row_heading level0 row5\" >белых_карлик</th>\n",
       "                        <td id=\"T_a67b1dc0_05f2_11ea_a6fb_107b449f15fcrow5_col0\" class=\"data row5 col0\" >0.01055</td>\n",
       "            </tr>\n",
       "            <tr>\n",
       "                        <th id=\"T_a67b1dc0_05f2_11ea_a6fb_107b449f15fclevel0_row6\" class=\"row_heading level0 row6\" >компактный_объект</th>\n",
       "                        <td id=\"T_a67b1dc0_05f2_11ea_a6fb_107b449f15fcrow6_col0\" class=\"data row6 col0\" >0.00879</td>\n",
       "            </tr>\n",
       "            <tr>\n",
       "                        <th id=\"T_a67b1dc0_05f2_11ea_a6fb_107b449f15fclevel0_row7\" class=\"row_heading level0 row7\" >звёздный_скопление</th>\n",
       "                        <td id=\"T_a67b1dc0_05f2_11ea_a6fb_107b449f15fcrow7_col0\" class=\"data row7 col0\" >0.0086</td>\n",
       "            </tr>\n",
       "            <tr>\n",
       "                        <th id=\"T_a67b1dc0_05f2_11ea_a6fb_107b449f15fclevel0_row8\" class=\"row_heading level0 row8\" >химический_состав</th>\n",
       "                        <td id=\"T_a67b1dc0_05f2_11ea_a6fb_107b449f15fcrow8_col0\" class=\"data row8 col0\" >0.00775</td>\n",
       "            </tr>\n",
       "            <tr>\n",
       "                        <th id=\"T_a67b1dc0_05f2_11ea_a6fb_107b449f15fclevel0_row9\" class=\"row_heading level0 row9\" >зона_обитаемость</th>\n",
       "                        <td id=\"T_a67b1dc0_05f2_11ea_a6fb_107b449f15fcrow9_col0\" class=\"data row9 col0\" >0.00771</td>\n",
       "            </tr>\n",
       "    </tbody></table><style  type=\"text/css\" >\n",
       "</style><table id=\"T_a67b1dc1_05f2_11ea_a6fb_107b449f15fc\" style='display:inline'><thead>    <tr>        <th class=\"blank level0\" ></th>        <th class=\"col_heading level0 col0\" >topic_13 @3gramm</th>    </tr></thead><tbody>\n",
       "        </tbody></table><style  type=\"text/css\" >\n",
       "</style><table id=\"T_a67b1dc2_05f2_11ea_a6fb_107b449f15fc\" style='display:inline'><thead>    <tr>        <th class=\"blank level0\" ></th>        <th class=\"col_heading level0 col0\" >topic_13 @post_tag</th>    </tr></thead><tbody>\n",
       "                <tr>\n",
       "                        <th id=\"T_a67b1dc2_05f2_11ea_a6fb_107b449f15fclevel0_row0\" class=\"row_heading level0 row0\" >астрономия</th>\n",
       "                        <td id=\"T_a67b1dc2_05f2_11ea_a6fb_107b449f15fcrow0_col0\" class=\"data row0 col0\" >0.18737</td>\n",
       "            </tr>\n",
       "            <tr>\n",
       "                        <th id=\"T_a67b1dc2_05f2_11ea_a6fb_107b449f15fclevel0_row1\" class=\"row_heading level0 row1\" >астрофизика</th>\n",
       "                        <td id=\"T_a67b1dc2_05f2_11ea_a6fb_107b449f15fcrow1_col0\" class=\"data row1 col0\" >0.13964</td>\n",
       "            </tr>\n",
       "            <tr>\n",
       "                        <th id=\"T_a67b1dc2_05f2_11ea_a6fb_107b449f15fclevel0_row2\" class=\"row_heading level0 row2\" >звезды</th>\n",
       "                        <td id=\"T_a67b1dc2_05f2_11ea_a6fb_107b449f15fcrow2_col0\" class=\"data row2 col0\" >0.10159</td>\n",
       "            </tr>\n",
       "            <tr>\n",
       "                        <th id=\"T_a67b1dc2_05f2_11ea_a6fb_107b449f15fclevel0_row3\" class=\"row_heading level0 row3\" >космос</th>\n",
       "                        <td id=\"T_a67b1dc2_05f2_11ea_a6fb_107b449f15fcrow3_col0\" class=\"data row3 col0\" >0.07856</td>\n",
       "            </tr>\n",
       "            <tr>\n",
       "                        <th id=\"T_a67b1dc2_05f2_11ea_a6fb_107b449f15fclevel0_row4\" class=\"row_heading level0 row4\" >галактика</th>\n",
       "                        <td id=\"T_a67b1dc2_05f2_11ea_a6fb_107b449f15fcrow4_col0\" class=\"data row4 col0\" >0.06761</td>\n",
       "            </tr>\n",
       "            <tr>\n",
       "                        <th id=\"T_a67b1dc2_05f2_11ea_a6fb_107b449f15fclevel0_row5\" class=\"row_heading level0 row5\" >солнце</th>\n",
       "                        <td id=\"T_a67b1dc2_05f2_11ea_a6fb_107b449f15fcrow5_col0\" class=\"data row5 col0\" >0.04657</td>\n",
       "            </tr>\n",
       "            <tr>\n",
       "                        <th id=\"T_a67b1dc2_05f2_11ea_a6fb_107b449f15fclevel0_row6\" class=\"row_heading level0 row6\" >черные_дыры</th>\n",
       "                        <td id=\"T_a67b1dc2_05f2_11ea_a6fb_107b449f15fcrow6_col0\" class=\"data row6 col0\" >0.04353</td>\n",
       "            </tr>\n",
       "            <tr>\n",
       "                        <th id=\"T_a67b1dc2_05f2_11ea_a6fb_107b449f15fclevel0_row7\" class=\"row_heading level0 row7\" >вселенная</th>\n",
       "                        <td id=\"T_a67b1dc2_05f2_11ea_a6fb_107b449f15fcrow7_col0\" class=\"data row7 col0\" >0.04225</td>\n",
       "            </tr>\n",
       "            <tr>\n",
       "                        <th id=\"T_a67b1dc2_05f2_11ea_a6fb_107b449f15fclevel0_row8\" class=\"row_heading level0 row8\" >планета</th>\n",
       "                        <td id=\"T_a67b1dc2_05f2_11ea_a6fb_107b449f15fcrow8_col0\" class=\"data row8 col0\" >0.03488</td>\n",
       "            </tr>\n",
       "            <tr>\n",
       "                        <th id=\"T_a67b1dc2_05f2_11ea_a6fb_107b449f15fclevel0_row9\" class=\"row_heading level0 row9\" >экзопланета</th>\n",
       "                        <td id=\"T_a67b1dc2_05f2_11ea_a6fb_107b449f15fcrow9_col0\" class=\"data row9 col0\" >0.03377</td>\n",
       "            </tr>\n",
       "    </tbody></table><style  type=\"text/css\" >\n",
       "</style><table id=\"T_a67b1dc3_05f2_11ea_a6fb_107b449f15fc\" style='display:inline'><thead>    <tr>        <th class=\"blank level0\" ></th>        <th class=\"col_heading level0 col0\" >topic_13 @word</th>    </tr></thead><tbody>\n",
       "                <tr>\n",
       "                        <th id=\"T_a67b1dc3_05f2_11ea_a6fb_107b449f15fclevel0_row0\" class=\"row_heading level0 row0\" >звезда</th>\n",
       "                        <td id=\"T_a67b1dc3_05f2_11ea_a6fb_107b449f15fcrow0_col0\" class=\"data row0 col0\" >0.03089</td>\n",
       "            </tr>\n",
       "            <tr>\n",
       "                        <th id=\"T_a67b1dc3_05f2_11ea_a6fb_107b449f15fclevel0_row1\" class=\"row_heading level0 row1\" >галактика</th>\n",
       "                        <td id=\"T_a67b1dc3_05f2_11ea_a6fb_107b449f15fcrow1_col0\" class=\"data row1 col0\" >0.02</td>\n",
       "            </tr>\n",
       "            <tr>\n",
       "                        <th id=\"T_a67b1dc3_05f2_11ea_a6fb_107b449f15fclevel0_row2\" class=\"row_heading level0 row2\" >солнце</th>\n",
       "                        <td id=\"T_a67b1dc3_05f2_11ea_a6fb_107b449f15fcrow2_col0\" class=\"data row2 col0\" >0.01187</td>\n",
       "            </tr>\n",
       "            <tr>\n",
       "                        <th id=\"T_a67b1dc3_05f2_11ea_a6fb_107b449f15fclevel0_row3\" class=\"row_heading level0 row3\" >объект</th>\n",
       "                        <td id=\"T_a67b1dc3_05f2_11ea_a6fb_107b449f15fcrow3_col0\" class=\"data row3 col0\" >0.00977</td>\n",
       "            </tr>\n",
       "            <tr>\n",
       "                        <th id=\"T_a67b1dc3_05f2_11ea_a6fb_107b449f15fclevel0_row4\" class=\"row_heading level0 row4\" >планета</th>\n",
       "                        <td id=\"T_a67b1dc3_05f2_11ea_a6fb_107b449f15fcrow4_col0\" class=\"data row4 col0\" >0.00889</td>\n",
       "            </tr>\n",
       "            <tr>\n",
       "                        <th id=\"T_a67b1dc3_05f2_11ea_a6fb_107b449f15fclevel0_row5\" class=\"row_heading level0 row5\" >земля</th>\n",
       "                        <td id=\"T_a67b1dc3_05f2_11ea_a6fb_107b449f15fcrow5_col0\" class=\"data row5 col0\" >0.00828</td>\n",
       "            </tr>\n",
       "            <tr>\n",
       "                        <th id=\"T_a67b1dc3_05f2_11ea_a6fb_107b449f15fclevel0_row6\" class=\"row_heading level0 row6\" >масса</th>\n",
       "                        <td id=\"T_a67b1dc3_05f2_11ea_a6fb_107b449f15fcrow6_col0\" class=\"data row6 col0\" >0.00826</td>\n",
       "            </tr>\n",
       "            <tr>\n",
       "                        <th id=\"T_a67b1dc3_05f2_11ea_a6fb_107b449f15fclevel0_row7\" class=\"row_heading level0 row7\" >вещество</th>\n",
       "                        <td id=\"T_a67b1dc3_05f2_11ea_a6fb_107b449f15fcrow7_col0\" class=\"data row7 col0\" >0.00733</td>\n",
       "            </tr>\n",
       "            <tr>\n",
       "                        <th id=\"T_a67b1dc3_05f2_11ea_a6fb_107b449f15fclevel0_row8\" class=\"row_heading level0 row8\" >большой</th>\n",
       "                        <td id=\"T_a67b1dc3_05f2_11ea_a6fb_107b449f15fcrow8_col0\" class=\"data row8 col0\" >0.00706</td>\n",
       "            </tr>\n",
       "            <tr>\n",
       "                        <th id=\"T_a67b1dc3_05f2_11ea_a6fb_107b449f15fclevel0_row9\" class=\"row_heading level0 row9\" >телескоп</th>\n",
       "                        <td id=\"T_a67b1dc3_05f2_11ea_a6fb_107b449f15fcrow9_col0\" class=\"data row9 col0\" >0.00663</td>\n",
       "            </tr>\n",
       "    </tbody></table>"
      ]
     },
     "metadata": {},
     "output_type": "display_data"
    },
    {
     "data": {
      "text/html": [
       "<b> 5 сайтов о физике галактик </b><br /> астрофизик алексей моисеев рекомендует 5 лучших интернет-ресурсов, иллюстрирующих строение, образование и эволюцию галактик и их скоплений"
      ]
     },
     "metadata": {},
     "output_type": "display_data"
    },
    {
     "data": {
      "text/html": [
       "<b> планетные системы белых карликов </b><br /> астрофизик роман рафиков о дисках вокруг белых карликов, кольцах сатурна и будущем солнечной системы"
      ]
     },
     "metadata": {},
     "output_type": "display_data"
    },
    {
     "data": {
      "text/html": [
       "<b> полярные диски в галактиках </b><br /> астрофизик ольга сильченко о галактиках с полярными кольцами, холодной аккреции филаментов и химическом составе газа в полярных дисках"
      ]
     },
     "metadata": {},
     "output_type": "display_data"
    },
    {
     "data": {
      "text/html": [
       "<b> свойства двойных звезд </b><br /> астрофизик сергей попов о планетарных туманностях, белых гелиевых карликах и гравитационных волнах"
      ]
     },
     "metadata": {},
     "output_type": "display_data"
    },
    {
     "data": {
      "text/html": [
       "<b> звездное население галактики </b><br /> астроном алексей расторгуев о возрасте звезд, свойствах галактического диска и рассеянных звездных скоплениях"
      ]
     },
     "metadata": {},
     "output_type": "display_data"
    },
    {
     "data": {
      "text/html": [
       "<b> шаровые скопления </b><br /> астроном владимир сурдин о видах звездных скоплений, ядре галактики и жизни на планетах шаровых скоплений"
      ]
     },
     "metadata": {},
     "output_type": "display_data"
    },
    {
     "data": {
      "text/html": [
       "<b> 5 сайтов о физике сверхновых </b><br /> астрофизик сергей блинников рекомендует лучшие интернет-ресурсы для знакомства с эволюцией звезд"
      ]
     },
     "metadata": {},
     "output_type": "display_data"
    },
    {
     "data": {
      "text/html": [
       "<b> методы регистрации экзопланет </b><br /> астрофизик сергей попов о транзитных планетах, явлении гравитационного линзирования и телескопе gaia"
      ]
     },
     "metadata": {},
     "output_type": "display_data"
    },
    {
     "data": {
      "text/html": [
       "<b> звездная астрономия </b><br /> 8 лекций астронома алексея расторгуева о звездном населении галактик и процессах, в них происходящих"
      ]
     },
     "metadata": {},
     "output_type": "display_data"
    },
    {
     "data": {
      "text/html": [
       "<b> спиральный узор галактик </b><br /> астроном алексей расторгуев о причинах спирального узора, теории волн плотности и трудностях в изучении нашей галактики"
      ]
     },
     "metadata": {},
     "output_type": "display_data"
    },
    {
     "data": {
      "text/html": [
       "<style  type=\"text/css\" >\n",
       "</style><table id=\"T_a67b1dc4_05f2_11ea_a6fb_107b449f15fc\" style='display:inline'><thead>    <tr>        <th class=\"blank level0\" ></th>        <th class=\"col_heading level0 col0\" >topic_14 @2gramm</th>    </tr></thead><tbody>\n",
       "                <tr>\n",
       "                        <th id=\"T_a67b1dc4_05f2_11ea_a6fb_107b449f15fclevel0_row0\" class=\"row_heading level0 row0\" >промышленный_революция</th>\n",
       "                        <td id=\"T_a67b1dc4_05f2_11ea_a6fb_107b449f15fcrow0_col0\" class=\"data row0 col0\" >0.01936</td>\n",
       "            </tr>\n",
       "            <tr>\n",
       "                        <th id=\"T_a67b1dc4_05f2_11ea_a6fb_107b449f15fclevel0_row1\" class=\"row_heading level0 row1\" >центральный_банк</th>\n",
       "                        <td id=\"T_a67b1dc4_05f2_11ea_a6fb_107b449f15fcrow1_col0\" class=\"data row1 col0\" >0.018</td>\n",
       "            </tr>\n",
       "            <tr>\n",
       "                        <th id=\"T_a67b1dc4_05f2_11ea_a6fb_107b449f15fclevel0_row2\" class=\"row_heading level0 row2\" >экономический_рост</th>\n",
       "                        <td id=\"T_a67b1dc4_05f2_11ea_a6fb_107b449f15fcrow2_col0\" class=\"data row2 col0\" >0.01623</td>\n",
       "            </tr>\n",
       "            <tr>\n",
       "                        <th id=\"T_a67b1dc4_05f2_11ea_a6fb_107b449f15fclevel0_row3\" class=\"row_heading level0 row3\" >государственный_долг</th>\n",
       "                        <td id=\"T_a67b1dc4_05f2_11ea_a6fb_107b449f15fcrow3_col0\" class=\"data row3 col0\" >0.01199</td>\n",
       "            </tr>\n",
       "            <tr>\n",
       "                        <th id=\"T_a67b1dc4_05f2_11ea_a6fb_107b449f15fclevel0_row4\" class=\"row_heading level0 row4\" >центральный_банка</th>\n",
       "                        <td id=\"T_a67b1dc4_05f2_11ea_a6fb_107b449f15fcrow4_col0\" class=\"data row4 col0\" >0.01179</td>\n",
       "            </tr>\n",
       "            <tr>\n",
       "                        <th id=\"T_a67b1dc4_05f2_11ea_a6fb_107b449f15fclevel0_row5\" class=\"row_heading level0 row5\" >мировой_экономика</th>\n",
       "                        <td id=\"T_a67b1dc4_05f2_11ea_a6fb_107b449f15fcrow5_col0\" class=\"data row5 col0\" >0.01136</td>\n",
       "            </tr>\n",
       "            <tr>\n",
       "                        <th id=\"T_a67b1dc4_05f2_11ea_a6fb_107b449f15fclevel0_row6\" class=\"row_heading level0 row6\" >развивающийся_страна</th>\n",
       "                        <td id=\"T_a67b1dc4_05f2_11ea_a6fb_107b449f15fcrow6_col0\" class=\"data row6 col0\" >0.01133</td>\n",
       "            </tr>\n",
       "            <tr>\n",
       "                        <th id=\"T_a67b1dc4_05f2_11ea_a6fb_107b449f15fclevel0_row7\" class=\"row_heading level0 row7\" >экономический_теория</th>\n",
       "                        <td id=\"T_a67b1dc4_05f2_11ea_a6fb_107b449f15fcrow7_col0\" class=\"data row7 col0\" >0.01028</td>\n",
       "            </tr>\n",
       "            <tr>\n",
       "                        <th id=\"T_a67b1dc4_05f2_11ea_a6fb_107b449f15fclevel0_row8\" class=\"row_heading level0 row8\" >финансовый_рынок</th>\n",
       "                        <td id=\"T_a67b1dc4_05f2_11ea_a6fb_107b449f15fcrow8_col0\" class=\"data row8 col0\" >0.00908</td>\n",
       "            </tr>\n",
       "            <tr>\n",
       "                        <th id=\"T_a67b1dc4_05f2_11ea_a6fb_107b449f15fclevel0_row9\" class=\"row_heading level0 row9\" >заработный_плата</th>\n",
       "                        <td id=\"T_a67b1dc4_05f2_11ea_a6fb_107b449f15fcrow9_col0\" class=\"data row9 col0\" >0.00866</td>\n",
       "            </tr>\n",
       "    </tbody></table><style  type=\"text/css\" >\n",
       "</style><table id=\"T_a67b1dc5_05f2_11ea_a6fb_107b449f15fc\" style='display:inline'><thead>    <tr>        <th class=\"blank level0\" ></th>        <th class=\"col_heading level0 col0\" >topic_14 @3gramm</th>    </tr></thead><tbody>\n",
       "        </tbody></table><style  type=\"text/css\" >\n",
       "</style><table id=\"T_a67b1dc6_05f2_11ea_a6fb_107b449f15fc\" style='display:inline'><thead>    <tr>        <th class=\"blank level0\" ></th>        <th class=\"col_heading level0 col0\" >topic_14 @post_tag</th>    </tr></thead><tbody>\n",
       "                <tr>\n",
       "                        <th id=\"T_a67b1dc6_05f2_11ea_a6fb_107b449f15fclevel0_row0\" class=\"row_heading level0 row0\" >экономика</th>\n",
       "                        <td id=\"T_a67b1dc6_05f2_11ea_a6fb_107b449f15fcrow0_col0\" class=\"data row0 col0\" >0.45012</td>\n",
       "            </tr>\n",
       "            <tr>\n",
       "                        <th id=\"T_a67b1dc6_05f2_11ea_a6fb_107b449f15fclevel0_row1\" class=\"row_heading level0 row1\" >финансовый_рынок</th>\n",
       "                        <td id=\"T_a67b1dc6_05f2_11ea_a6fb_107b449f15fcrow1_col0\" class=\"data row1 col0\" >0.03987</td>\n",
       "            </tr>\n",
       "            <tr>\n",
       "                        <th id=\"T_a67b1dc6_05f2_11ea_a6fb_107b449f15fclevel0_row2\" class=\"row_heading level0 row2\" >рынок</th>\n",
       "                        <td id=\"T_a67b1dc6_05f2_11ea_a6fb_107b449f15fcrow2_col0\" class=\"data row2 col0\" >0.03983</td>\n",
       "            </tr>\n",
       "            <tr>\n",
       "                        <th id=\"T_a67b1dc6_05f2_11ea_a6fb_107b449f15fclevel0_row3\" class=\"row_heading level0 row3\" >финансовый_кризис</th>\n",
       "                        <td id=\"T_a67b1dc6_05f2_11ea_a6fb_107b449f15fcrow3_col0\" class=\"data row3 col0\" >0.03762</td>\n",
       "            </tr>\n",
       "            <tr>\n",
       "                        <th id=\"T_a67b1dc6_05f2_11ea_a6fb_107b449f15fclevel0_row4\" class=\"row_heading level0 row4\" >сша</th>\n",
       "                        <td id=\"T_a67b1dc6_05f2_11ea_a6fb_107b449f15fcrow4_col0\" class=\"data row4 col0\" >0.03556</td>\n",
       "            </tr>\n",
       "            <tr>\n",
       "                        <th id=\"T_a67b1dc6_05f2_11ea_a6fb_107b449f15fclevel0_row5\" class=\"row_heading level0 row5\" >россия</th>\n",
       "                        <td id=\"T_a67b1dc6_05f2_11ea_a6fb_107b449f15fcrow5_col0\" class=\"data row5 col0\" >0.03427</td>\n",
       "            </tr>\n",
       "            <tr>\n",
       "                        <th id=\"T_a67b1dc6_05f2_11ea_a6fb_107b449f15fclevel0_row6\" class=\"row_heading level0 row6\" >экономическое_развитие</th>\n",
       "                        <td id=\"T_a67b1dc6_05f2_11ea_a6fb_107b449f15fcrow6_col0\" class=\"data row6 col0\" >0.02655</td>\n",
       "            </tr>\n",
       "            <tr>\n",
       "                        <th id=\"T_a67b1dc6_05f2_11ea_a6fb_107b449f15fclevel0_row7\" class=\"row_heading level0 row7\" >экономическое_неравенство</th>\n",
       "                        <td id=\"T_a67b1dc6_05f2_11ea_a6fb_107b449f15fcrow7_col0\" class=\"data row7 col0\" >0.0243</td>\n",
       "            </tr>\n",
       "            <tr>\n",
       "                        <th id=\"T_a67b1dc6_05f2_11ea_a6fb_107b449f15fclevel0_row8\" class=\"row_heading level0 row8\" >новая_институциональная_экономика</th>\n",
       "                        <td id=\"T_a67b1dc6_05f2_11ea_a6fb_107b449f15fcrow8_col0\" class=\"data row8 col0\" >0.02426</td>\n",
       "            </tr>\n",
       "            <tr>\n",
       "                        <th id=\"T_a67b1dc6_05f2_11ea_a6fb_107b449f15fclevel0_row9\" class=\"row_heading level0 row9\" >инфляция</th>\n",
       "                        <td id=\"T_a67b1dc6_05f2_11ea_a6fb_107b449f15fcrow9_col0\" class=\"data row9 col0\" >0.02215</td>\n",
       "            </tr>\n",
       "    </tbody></table><style  type=\"text/css\" >\n",
       "</style><table id=\"T_a67b1dc7_05f2_11ea_a6fb_107b449f15fc\" style='display:inline'><thead>    <tr>        <th class=\"blank level0\" ></th>        <th class=\"col_heading level0 col0\" >topic_14 @word</th>    </tr></thead><tbody>\n",
       "                <tr>\n",
       "                        <th id=\"T_a67b1dc7_05f2_11ea_a6fb_107b449f15fclevel0_row0\" class=\"row_heading level0 row0\" >экономика</th>\n",
       "                        <td id=\"T_a67b1dc7_05f2_11ea_a6fb_107b449f15fcrow0_col0\" class=\"data row0 col0\" >0.0143</td>\n",
       "            </tr>\n",
       "            <tr>\n",
       "                        <th id=\"T_a67b1dc7_05f2_11ea_a6fb_107b449f15fclevel0_row1\" class=\"row_heading level0 row1\" >страна</th>\n",
       "                        <td id=\"T_a67b1dc7_05f2_11ea_a6fb_107b449f15fcrow1_col0\" class=\"data row1 col0\" >0.01276</td>\n",
       "            </tr>\n",
       "            <tr>\n",
       "                        <th id=\"T_a67b1dc7_05f2_11ea_a6fb_107b449f15fclevel0_row2\" class=\"row_heading level0 row2\" >китай</th>\n",
       "                        <td id=\"T_a67b1dc7_05f2_11ea_a6fb_107b449f15fcrow2_col0\" class=\"data row2 col0\" >0.00671</td>\n",
       "            </tr>\n",
       "            <tr>\n",
       "                        <th id=\"T_a67b1dc7_05f2_11ea_a6fb_107b449f15fclevel0_row3\" class=\"row_heading level0 row3\" >экономический</th>\n",
       "                        <td id=\"T_a67b1dc7_05f2_11ea_a6fb_107b449f15fcrow3_col0\" class=\"data row3 col0\" >0.00657</td>\n",
       "            </tr>\n",
       "            <tr>\n",
       "                        <th id=\"T_a67b1dc7_05f2_11ea_a6fb_107b449f15fclevel0_row4\" class=\"row_heading level0 row4\" >цена</th>\n",
       "                        <td id=\"T_a67b1dc7_05f2_11ea_a6fb_107b449f15fcrow4_col0\" class=\"data row4 col0\" >0.00654</td>\n",
       "            </tr>\n",
       "            <tr>\n",
       "                        <th id=\"T_a67b1dc7_05f2_11ea_a6fb_107b449f15fclevel0_row5\" class=\"row_heading level0 row5\" >экономист</th>\n",
       "                        <td id=\"T_a67b1dc7_05f2_11ea_a6fb_107b449f15fcrow5_col0\" class=\"data row5 col0\" >0.00643</td>\n",
       "            </tr>\n",
       "            <tr>\n",
       "                        <th id=\"T_a67b1dc7_05f2_11ea_a6fb_107b449f15fclevel0_row6\" class=\"row_heading level0 row6\" >рынок</th>\n",
       "                        <td id=\"T_a67b1dc7_05f2_11ea_a6fb_107b449f15fcrow6_col0\" class=\"data row6 col0\" >0.00606</td>\n",
       "            </tr>\n",
       "            <tr>\n",
       "                        <th id=\"T_a67b1dc7_05f2_11ea_a6fb_107b449f15fclevel0_row7\" class=\"row_heading level0 row7\" >компания</th>\n",
       "                        <td id=\"T_a67b1dc7_05f2_11ea_a6fb_107b449f15fcrow7_col0\" class=\"data row7 col0\" >0.00589</td>\n",
       "            </tr>\n",
       "            <tr>\n",
       "                        <th id=\"T_a67b1dc7_05f2_11ea_a6fb_107b449f15fclevel0_row8\" class=\"row_heading level0 row8\" >деньга</th>\n",
       "                        <td id=\"T_a67b1dc7_05f2_11ea_a6fb_107b449f15fcrow8_col0\" class=\"data row8 col0\" >0.00542</td>\n",
       "            </tr>\n",
       "            <tr>\n",
       "                        <th id=\"T_a67b1dc7_05f2_11ea_a6fb_107b449f15fclevel0_row9\" class=\"row_heading level0 row9\" >кризис</th>\n",
       "                        <td id=\"T_a67b1dc7_05f2_11ea_a6fb_107b449f15fcrow9_col0\" class=\"data row9 col0\" >0.00525</td>\n",
       "            </tr>\n",
       "    </tbody></table>"
      ]
     },
     "metadata": {},
     "output_type": "display_data"
    },
    {
     "data": {
      "text/html": [
       "<b> faqкурсы валют </b><br /> 7 фактов о причинах роста и падения валют на финансовом рынке"
      ]
     },
     "metadata": {},
     "output_type": "display_data"
    },
    {
     "data": {
      "text/html": [
       "<b> великая депрессия </b><br /> историк юрий рогулёв об антикризисных мерах рузвельта, зарождении социального законодательства в сша и спаде американской экономики в 1930-х годах"
      ]
     },
     "metadata": {},
     "output_type": "display_data"
    },
    {
     "data": {
      "text/html": [
       "<b> зачем нужна макроэкономика </b><br /> экономист сергей гуриев о модели is-lm, фискальном мультипликаторе и анализе макроэкономической политики"
      ]
     },
     "metadata": {},
     "output_type": "display_data"
    },
    {
     "data": {
      "text/html": [
       "<b> от чего зависит цена на нефть? </b><br /> экономист леонид григорьев о причинах колебания цен на нефть и ее роли в современном мире"
      ]
     },
     "metadata": {},
     "output_type": "display_data"
    },
    {
     "data": {
      "text/html": [
       "<b> азиатские экономикиособенности и развитие </b><br /> о причинах азиатского «экономического чуда», темпах роста и трудовой этике"
      ]
     },
     "metadata": {},
     "output_type": "display_data"
    },
    {
     "data": {
      "text/html": [
       "<b> новые тренды в мировой экономике </b><br /> экономист сергей афонцев о темпах роста и основных тенденциях посткризисного развития мировой экономики"
      ]
     },
     "metadata": {},
     "output_type": "display_data"
    },
    {
     "data": {
      "text/html": [
       "<b> faqфинансовая репрессия </b><br /> 8 фактов о механизмах регулирования государством финансовых рынков в развивающихся экономиках"
      ]
     },
     "metadata": {},
     "output_type": "display_data"
    },
    {
     "data": {
      "text/html": [
       "<b> главы # инфляция и гиперинфляция </b><br /> глава из книги \"развязка. конец долгового суперцикла и его последствия\"  финансистов джона молдина и джонатана теппера"
      ]
     },
     "metadata": {},
     "output_type": "display_data"
    },
    {
     "data": {
      "text/html": [
       "<b> экономическое развитие </b><br /> экономист сергей гуриев о разрыве между развитыми и развивающимися странами, уровне жизни и индексе человеческого развития"
      ]
     },
     "metadata": {},
     "output_type": "display_data"
    },
    {
     "data": {
      "text/html": [
       "<b> золотовалютные резервы </b><br /> экономист виктор полтерович о курсе рубля, развитии экспорта и политике накопления"
      ]
     },
     "metadata": {},
     "output_type": "display_data"
    },
    {
     "data": {
      "text/html": [
       "<style  type=\"text/css\" >\n",
       "</style><table id=\"T_a67b1dc8_05f2_11ea_a6fb_107b449f15fc\" style='display:inline'><thead>    <tr>        <th class=\"blank level0\" ></th>        <th class=\"col_heading level0 col0\" >topic_15 @2gramm</th>    </tr></thead><tbody>\n",
       "                <tr>\n",
       "                        <th id=\"T_a67b1dc8_05f2_11ea_a6fb_107b449f15fclevel0_row0\" class=\"row_heading level0 row0\" >традиционный_культура</th>\n",
       "                        <td id=\"T_a67b1dc8_05f2_11ea_a6fb_107b449f15fcrow0_col0\" class=\"data row0 col0\" >0.01687</td>\n",
       "            </tr>\n",
       "            <tr>\n",
       "                        <th id=\"T_a67b1dc8_05f2_11ea_a6fb_107b449f15fclevel0_row1\" class=\"row_heading level0 row1\" >греческий_миф</th>\n",
       "                        <td id=\"T_a67b1dc8_05f2_11ea_a6fb_107b449f15fcrow1_col0\" class=\"data row1 col0\" >0.01487</td>\n",
       "            </tr>\n",
       "            <tr>\n",
       "                        <th id=\"T_a67b1dc8_05f2_11ea_a6fb_107b449f15fclevel0_row2\" class=\"row_heading level0 row2\" >греческий_мифология</th>\n",
       "                        <td id=\"T_a67b1dc8_05f2_11ea_a6fb_107b449f15fcrow2_col0\" class=\"data row2 col0\" >0.01278</td>\n",
       "            </tr>\n",
       "            <tr>\n",
       "                        <th id=\"T_a67b1dc8_05f2_11ea_a6fb_107b449f15fclevel0_row3\" class=\"row_heading level0 row3\" >чёрный_мор</th>\n",
       "                        <td id=\"T_a67b1dc8_05f2_11ea_a6fb_107b449f15fcrow3_col0\" class=\"data row3 col0\" >0.01216</td>\n",
       "            </tr>\n",
       "            <tr>\n",
       "                        <th id=\"T_a67b1dc8_05f2_11ea_a6fb_107b449f15fclevel0_row4\" class=\"row_heading level0 row4\" >устный_традиция</th>\n",
       "                        <td id=\"T_a67b1dc8_05f2_11ea_a6fb_107b449f15fcrow4_col0\" class=\"data row4 col0\" >0.01019</td>\n",
       "            </tr>\n",
       "            <tr>\n",
       "                        <th id=\"T_a67b1dc8_05f2_11ea_a6fb_107b449f15fclevel0_row5\" class=\"row_heading level0 row5\" >древний_греция</th>\n",
       "                        <td id=\"T_a67b1dc8_05f2_11ea_a6fb_107b449f15fcrow5_col0\" class=\"data row5 col0\" >0.00684</td>\n",
       "            </tr>\n",
       "            <tr>\n",
       "                        <th id=\"T_a67b1dc8_05f2_11ea_a6fb_107b449f15fclevel0_row6\" class=\"row_heading level0 row6\" >звёздный_небо</th>\n",
       "                        <td id=\"T_a67b1dc8_05f2_11ea_a6fb_107b449f15fcrow6_col0\" class=\"data row6 col0\" >0.00641</td>\n",
       "            </tr>\n",
       "            <tr>\n",
       "                        <th id=\"T_a67b1dc8_05f2_11ea_a6fb_107b449f15fclevel0_row7\" class=\"row_heading level0 row7\" >народный_масса</th>\n",
       "                        <td id=\"T_a67b1dc8_05f2_11ea_a6fb_107b449f15fcrow7_col0\" class=\"data row7 col0\" >0.00619</td>\n",
       "            </tr>\n",
       "            <tr>\n",
       "                        <th id=\"T_a67b1dc8_05f2_11ea_a6fb_107b449f15fclevel0_row8\" class=\"row_heading level0 row8\" >народный_культура</th>\n",
       "                        <td id=\"T_a67b1dc8_05f2_11ea_a6fb_107b449f15fcrow8_col0\" class=\"data row8 col0\" >0.00616</td>\n",
       "            </tr>\n",
       "            <tr>\n",
       "                        <th id=\"T_a67b1dc8_05f2_11ea_a6fb_107b449f15fclevel0_row9\" class=\"row_heading level0 row9\" >греческий_слово</th>\n",
       "                        <td id=\"T_a67b1dc8_05f2_11ea_a6fb_107b449f15fcrow9_col0\" class=\"data row9 col0\" >0.00608</td>\n",
       "            </tr>\n",
       "    </tbody></table><style  type=\"text/css\" >\n",
       "</style><table id=\"T_a67b1dc9_05f2_11ea_a6fb_107b449f15fc\" style='display:inline'><thead>    <tr>        <th class=\"blank level0\" ></th>        <th class=\"col_heading level0 col0\" >topic_15 @3gramm</th>    </tr></thead><tbody>\n",
       "        </tbody></table><style  type=\"text/css\" >\n",
       "</style><table id=\"T_a67b1dca_05f2_11ea_a6fb_107b449f15fc\" style='display:inline'><thead>    <tr>        <th class=\"blank level0\" ></th>        <th class=\"col_heading level0 col0\" >topic_15 @post_tag</th>    </tr></thead><tbody>\n",
       "                <tr>\n",
       "                        <th id=\"T_a67b1dca_05f2_11ea_a6fb_107b449f15fclevel0_row0\" class=\"row_heading level0 row0\" >фольклор</th>\n",
       "                        <td id=\"T_a67b1dca_05f2_11ea_a6fb_107b449f15fcrow0_col0\" class=\"data row0 col0\" >0.13959</td>\n",
       "            </tr>\n",
       "            <tr>\n",
       "                        <th id=\"T_a67b1dca_05f2_11ea_a6fb_107b449f15fclevel0_row1\" class=\"row_heading level0 row1\" >мифология</th>\n",
       "                        <td id=\"T_a67b1dca_05f2_11ea_a6fb_107b449f15fcrow1_col0\" class=\"data row1 col0\" >0.13359</td>\n",
       "            </tr>\n",
       "            <tr>\n",
       "                        <th id=\"T_a67b1dca_05f2_11ea_a6fb_107b449f15fclevel0_row2\" class=\"row_heading level0 row2\" >фольклористика</th>\n",
       "                        <td id=\"T_a67b1dca_05f2_11ea_a6fb_107b449f15fcrow2_col0\" class=\"data row2 col0\" >0.10325</td>\n",
       "            </tr>\n",
       "            <tr>\n",
       "                        <th id=\"T_a67b1dca_05f2_11ea_a6fb_107b449f15fclevel0_row3\" class=\"row_heading level0 row3\" >миф</th>\n",
       "                        <td id=\"T_a67b1dca_05f2_11ea_a6fb_107b449f15fcrow3_col0\" class=\"data row3 col0\" >0.09401</td>\n",
       "            </tr>\n",
       "            <tr>\n",
       "                        <th id=\"T_a67b1dca_05f2_11ea_a6fb_107b449f15fclevel0_row4\" class=\"row_heading level0 row4\" >древняя_греция</th>\n",
       "                        <td id=\"T_a67b1dca_05f2_11ea_a6fb_107b449f15fcrow4_col0\" class=\"data row4 col0\" >0.07596</td>\n",
       "            </tr>\n",
       "            <tr>\n",
       "                        <th id=\"T_a67b1dca_05f2_11ea_a6fb_107b449f15fclevel0_row5\" class=\"row_heading level0 row5\" >ритуал</th>\n",
       "                        <td id=\"T_a67b1dca_05f2_11ea_a6fb_107b449f15fcrow5_col0\" class=\"data row5 col0\" >0.05149</td>\n",
       "            </tr>\n",
       "            <tr>\n",
       "                        <th id=\"T_a67b1dca_05f2_11ea_a6fb_107b449f15fclevel0_row6\" class=\"row_heading level0 row6\" >культура</th>\n",
       "                        <td id=\"T_a67b1dca_05f2_11ea_a6fb_107b449f15fcrow6_col0\" class=\"data row6 col0\" >0.04842</td>\n",
       "            </tr>\n",
       "            <tr>\n",
       "                        <th id=\"T_a67b1dca_05f2_11ea_a6fb_107b449f15fclevel0_row7\" class=\"row_heading level0 row7\" >народная_культура</th>\n",
       "                        <td id=\"T_a67b1dca_05f2_11ea_a6fb_107b449f15fcrow7_col0\" class=\"data row7 col0\" >0.04138</td>\n",
       "            </tr>\n",
       "            <tr>\n",
       "                        <th id=\"T_a67b1dca_05f2_11ea_a6fb_107b449f15fclevel0_row8\" class=\"row_heading level0 row8\" >обряд</th>\n",
       "                        <td id=\"T_a67b1dca_05f2_11ea_a6fb_107b449f15fcrow8_col0\" class=\"data row8 col0\" >0.03016</td>\n",
       "            </tr>\n",
       "            <tr>\n",
       "                        <th id=\"T_a67b1dca_05f2_11ea_a6fb_107b449f15fclevel0_row9\" class=\"row_heading level0 row9\" >мода</th>\n",
       "                        <td id=\"T_a67b1dca_05f2_11ea_a6fb_107b449f15fcrow9_col0\" class=\"data row9 col0\" >0.02662</td>\n",
       "            </tr>\n",
       "    </tbody></table><style  type=\"text/css\" >\n",
       "</style><table id=\"T_a67b1dcb_05f2_11ea_a6fb_107b449f15fc\" style='display:inline'><thead>    <tr>        <th class=\"blank level0\" ></th>        <th class=\"col_heading level0 col0\" >topic_15 @word</th>    </tr></thead><tbody>\n",
       "                <tr>\n",
       "                        <th id=\"T_a67b1dcb_05f2_11ea_a6fb_107b449f15fclevel0_row0\" class=\"row_heading level0 row0\" >миф</th>\n",
       "                        <td id=\"T_a67b1dcb_05f2_11ea_a6fb_107b449f15fcrow0_col0\" class=\"data row0 col0\" >0.0126</td>\n",
       "            </tr>\n",
       "            <tr>\n",
       "                        <th id=\"T_a67b1dcb_05f2_11ea_a6fb_107b449f15fclevel0_row1\" class=\"row_heading level0 row1\" >фольклор</th>\n",
       "                        <td id=\"T_a67b1dcb_05f2_11ea_a6fb_107b449f15fcrow1_col0\" class=\"data row1 col0\" >0.00758</td>\n",
       "            </tr>\n",
       "            <tr>\n",
       "                        <th id=\"T_a67b1dcb_05f2_11ea_a6fb_107b449f15fclevel0_row2\" class=\"row_heading level0 row2\" >традиция</th>\n",
       "                        <td id=\"T_a67b1dcb_05f2_11ea_a6fb_107b449f15fcrow2_col0\" class=\"data row2 col0\" >0.00703</td>\n",
       "            </tr>\n",
       "            <tr>\n",
       "                        <th id=\"T_a67b1dcb_05f2_11ea_a6fb_107b449f15fclevel0_row3\" class=\"row_heading level0 row3\" >мода</th>\n",
       "                        <td id=\"T_a67b1dcb_05f2_11ea_a6fb_107b449f15fcrow3_col0\" class=\"data row3 col0\" >0.00618</td>\n",
       "            </tr>\n",
       "            <tr>\n",
       "                        <th id=\"T_a67b1dcb_05f2_11ea_a6fb_107b449f15fclevel0_row4\" class=\"row_heading level0 row4\" >культура</th>\n",
       "                        <td id=\"T_a67b1dcb_05f2_11ea_a6fb_107b449f15fcrow4_col0\" class=\"data row4 col0\" >0.00613</td>\n",
       "            </tr>\n",
       "            <tr>\n",
       "                        <th id=\"T_a67b1dcb_05f2_11ea_a6fb_107b449f15fclevel0_row5\" class=\"row_heading level0 row5\" >представление</th>\n",
       "                        <td id=\"T_a67b1dcb_05f2_11ea_a6fb_107b449f15fcrow5_col0\" class=\"data row5 col0\" >0.00581</td>\n",
       "            </tr>\n",
       "            <tr>\n",
       "                        <th id=\"T_a67b1dcb_05f2_11ea_a6fb_107b449f15fclevel0_row6\" class=\"row_heading level0 row6\" >мифология</th>\n",
       "                        <td id=\"T_a67b1dcb_05f2_11ea_a6fb_107b449f15fcrow6_col0\" class=\"data row6 col0\" >0.00522</td>\n",
       "            </tr>\n",
       "            <tr>\n",
       "                        <th id=\"T_a67b1dcb_05f2_11ea_a6fb_107b449f15fclevel0_row7\" class=\"row_heading level0 row7\" >текст</th>\n",
       "                        <td id=\"T_a67b1dcb_05f2_11ea_a6fb_107b449f15fcrow7_col0\" class=\"data row7 col0\" >0.00499</td>\n",
       "            </tr>\n",
       "            <tr>\n",
       "                        <th id=\"T_a67b1dcb_05f2_11ea_a6fb_107b449f15fclevel0_row8\" class=\"row_heading level0 row8\" >говорить</th>\n",
       "                        <td id=\"T_a67b1dcb_05f2_11ea_a6fb_107b449f15fcrow8_col0\" class=\"data row8 col0\" >0.00463</td>\n",
       "            </tr>\n",
       "            <tr>\n",
       "                        <th id=\"T_a67b1dcb_05f2_11ea_a6fb_107b449f15fclevel0_row9\" class=\"row_heading level0 row9\" >сказка</th>\n",
       "                        <td id=\"T_a67b1dcb_05f2_11ea_a6fb_107b449f15fcrow9_col0\" class=\"data row9 col0\" >0.00449</td>\n",
       "            </tr>\n",
       "    </tbody></table>"
      ]
     },
     "metadata": {},
     "output_type": "display_data"
    },
    {
     "data": {
      "text/html": [
       "<b> faqэрос в античной культуре </b><br /> 7 фактов об одном из самых загадочных персонажей греческой мифологии"
      ]
     },
     "metadata": {},
     "output_type": "display_data"
    },
    {
     "data": {
      "text/html": [
       "<b> образ женщины в русских сказках </b><br /> фольклорист варвара добровольская о двух типах сказочных героинь, идеале женщины и происхождении бабы-яги"
      ]
     },
     "metadata": {},
     "output_type": "display_data"
    },
    {
     "data": {
      "text/html": [
       "<b> 5 книг о сравнительной мифологии </b><br /> что читать о компаративном изучении мифологий, рекомендует доктор филологических наук сергей неклюдов"
      ]
     },
     "metadata": {},
     "output_type": "display_data"
    },
    {
     "data": {
      "text/html": [
       "<b> faqлогика мифа </b><br /> 7 фактов о тайне мироздания, к которой человек приобщается через миф"
      ]
     },
     "metadata": {},
     "output_type": "display_data"
    },
    {
     "data": {
      "text/html": [
       "<b> магические заговоры в постсоветской россии </b><br /> фольклорист михаил алексеевский о традиционной крестьянской магии, адаптации магических текстов и влиянии западной эзотерики"
      ]
     },
     "metadata": {},
     "output_type": "display_data"
    },
    {
     "data": {
      "text/html": [
       "<b> 5 книг об античной мифологии </b><br /> что читать о греческих и римских мифах, рекомендует доктор филологических наук гасан гусейнов"
      ]
     },
     "metadata": {},
     "output_type": "display_data"
    },
    {
     "data": {
      "text/html": [
       "<b> фольклор и обряд </b><br /> фольклорист сергей неклюдов о соотношении слова и действия, текстах заговорной традиции и ритуальной деятельности животных"
      ]
     },
     "metadata": {},
     "output_type": "display_data"
    },
    {
     "data": {
      "text/html": [
       "<b> введение в теоретическую фольклористику </b><br /> 11 лекций фольклориста сергея неклюдова о принципах изучения устных текстов и традиций"
      ]
     },
     "metadata": {},
     "output_type": "display_data"
    },
    {
     "data": {
      "text/html": [
       "<b> мифология «живая» и книжная </b><br /> фольклорист сергей неклюдов об античной мифологии, концепции удалившегося бога и народной религиозности"
      ]
     },
     "metadata": {},
     "output_type": "display_data"
    },
    {
     "data": {
      "text/html": [
       "<b> faqмифология в культуре </b><br /> 7 фактов о роли мифа в истории культуры и мифотворчестве в современном мире"
      ]
     },
     "metadata": {},
     "output_type": "display_data"
    },
    {
     "data": {
      "text/html": [
       "<style  type=\"text/css\" >\n",
       "</style><table id=\"T_a67b1dcc_05f2_11ea_a6fb_107b449f15fc\" style='display:inline'><thead>    <tr>        <th class=\"blank level0\" ></th>        <th class=\"col_heading level0 col0\" >topic_16 @2gramm</th>    </tr></thead><tbody>\n",
       "                <tr>\n",
       "                        <th id=\"T_a67b1dcc_05f2_11ea_a6fb_107b449f15fclevel0_row0\" class=\"row_heading level0 row0\" >тёмный_материя</th>\n",
       "                        <td id=\"T_a67b1dcc_05f2_11ea_a6fb_107b449f15fcrow0_col0\" class=\"data row0 col0\" >0.03609</td>\n",
       "            </tr>\n",
       "            <tr>\n",
       "                        <th id=\"T_a67b1dcc_05f2_11ea_a6fb_107b449f15fclevel0_row1\" class=\"row_heading level0 row1\" >гравитационный_волна</th>\n",
       "                        <td id=\"T_a67b1dcc_05f2_11ea_a6fb_107b449f15fcrow1_col0\" class=\"data row1 col0\" >0.02564</td>\n",
       "            </tr>\n",
       "            <tr>\n",
       "                        <th id=\"T_a67b1dcc_05f2_11ea_a6fb_107b449f15fclevel0_row2\" class=\"row_heading level0 row2\" >теория_струна</th>\n",
       "                        <td id=\"T_a67b1dcc_05f2_11ea_a6fb_107b449f15fcrow2_col0\" class=\"data row2 col0\" >0.02529</td>\n",
       "            </tr>\n",
       "            <tr>\n",
       "                        <th id=\"T_a67b1dcc_05f2_11ea_a6fb_107b449f15fclevel0_row3\" class=\"row_heading level0 row3\" >реликтовый_излучение</th>\n",
       "                        <td id=\"T_a67b1dcc_05f2_11ea_a6fb_107b449f15fcrow3_col0\" class=\"data row3 col0\" >0.0243</td>\n",
       "            </tr>\n",
       "            <tr>\n",
       "                        <th id=\"T_a67b1dcc_05f2_11ea_a6fb_107b449f15fclevel0_row4\" class=\"row_heading level0 row4\" >тёмный_энергия</th>\n",
       "                        <td id=\"T_a67b1dcc_05f2_11ea_a6fb_107b449f15fcrow4_col0\" class=\"data row4 col0\" >0.01959</td>\n",
       "            </tr>\n",
       "            <tr>\n",
       "                        <th id=\"T_a67b1dcc_05f2_11ea_a6fb_107b449f15fclevel0_row5\" class=\"row_heading level0 row5\" >ранний_вселенная</th>\n",
       "                        <td id=\"T_a67b1dcc_05f2_11ea_a6fb_107b449f15fcrow5_col0\" class=\"data row5 col0\" >0.01847</td>\n",
       "            </tr>\n",
       "            <tr>\n",
       "                        <th id=\"T_a67b1dcc_05f2_11ea_a6fb_107b449f15fclevel0_row6\" class=\"row_heading level0 row6\" >расширение_вселенная</th>\n",
       "                        <td id=\"T_a67b1dcc_05f2_11ea_a6fb_107b449f15fcrow6_col0\" class=\"data row6 col0\" >0.01485</td>\n",
       "            </tr>\n",
       "            <tr>\n",
       "                        <th id=\"T_a67b1dcc_05f2_11ea_a6fb_107b449f15fclevel0_row7\" class=\"row_heading level0 row7\" >скопление_галактика</th>\n",
       "                        <td id=\"T_a67b1dcc_05f2_11ea_a6fb_107b449f15fcrow7_col0\" class=\"data row7 col0\" >0.01447</td>\n",
       "            </tr>\n",
       "            <tr>\n",
       "                        <th id=\"T_a67b1dcc_05f2_11ea_a6fb_107b449f15fclevel0_row8\" class=\"row_heading level0 row8\" >космологический_постоянный</th>\n",
       "                        <td id=\"T_a67b1dcc_05f2_11ea_a6fb_107b449f15fcrow8_col0\" class=\"data row8 col0\" >0.01176</td>\n",
       "            </tr>\n",
       "            <tr>\n",
       "                        <th id=\"T_a67b1dcc_05f2_11ea_a6fb_107b449f15fclevel0_row9\" class=\"row_heading level0 row9\" >большой_взрыв</th>\n",
       "                        <td id=\"T_a67b1dcc_05f2_11ea_a6fb_107b449f15fcrow9_col0\" class=\"data row9 col0\" >0.01141</td>\n",
       "            </tr>\n",
       "    </tbody></table><style  type=\"text/css\" >\n",
       "</style><table id=\"T_a67b1dcd_05f2_11ea_a6fb_107b449f15fc\" style='display:inline'><thead>    <tr>        <th class=\"blank level0\" ></th>        <th class=\"col_heading level0 col0\" >topic_16 @3gramm</th>    </tr></thead><tbody>\n",
       "        </tbody></table><style  type=\"text/css\" >\n",
       "</style><table id=\"T_a67b1dce_05f2_11ea_a6fb_107b449f15fc\" style='display:inline'><thead>    <tr>        <th class=\"blank level0\" ></th>        <th class=\"col_heading level0 col0\" >topic_16 @post_tag</th>    </tr></thead><tbody>\n",
       "                <tr>\n",
       "                        <th id=\"T_a67b1dce_05f2_11ea_a6fb_107b449f15fclevel0_row0\" class=\"row_heading level0 row0\" >космология</th>\n",
       "                        <td id=\"T_a67b1dce_05f2_11ea_a6fb_107b449f15fcrow0_col0\" class=\"data row0 col0\" >0.12806</td>\n",
       "            </tr>\n",
       "            <tr>\n",
       "                        <th id=\"T_a67b1dce_05f2_11ea_a6fb_107b449f15fclevel0_row1\" class=\"row_heading level0 row1\" >вселенная</th>\n",
       "                        <td id=\"T_a67b1dce_05f2_11ea_a6fb_107b449f15fcrow1_col0\" class=\"data row1 col0\" >0.11839</td>\n",
       "            </tr>\n",
       "            <tr>\n",
       "                        <th id=\"T_a67b1dce_05f2_11ea_a6fb_107b449f15fclevel0_row2\" class=\"row_heading level0 row2\" >гравитация</th>\n",
       "                        <td id=\"T_a67b1dce_05f2_11ea_a6fb_107b449f15fcrow2_col0\" class=\"data row2 col0\" >0.09066</td>\n",
       "            </tr>\n",
       "            <tr>\n",
       "                        <th id=\"T_a67b1dce_05f2_11ea_a6fb_107b449f15fclevel0_row3\" class=\"row_heading level0 row3\" >реликтовое_излучение</th>\n",
       "                        <td id=\"T_a67b1dce_05f2_11ea_a6fb_107b449f15fcrow3_col0\" class=\"data row3 col0\" >0.07024</td>\n",
       "            </tr>\n",
       "            <tr>\n",
       "                        <th id=\"T_a67b1dce_05f2_11ea_a6fb_107b449f15fclevel0_row4\" class=\"row_heading level0 row4\" >темная_материя</th>\n",
       "                        <td id=\"T_a67b1dce_05f2_11ea_a6fb_107b449f15fcrow4_col0\" class=\"data row4 col0\" >0.06158</td>\n",
       "            </tr>\n",
       "            <tr>\n",
       "                        <th id=\"T_a67b1dce_05f2_11ea_a6fb_107b449f15fclevel0_row5\" class=\"row_heading level0 row5\" >космическая_инфляция</th>\n",
       "                        <td id=\"T_a67b1dce_05f2_11ea_a6fb_107b449f15fcrow5_col0\" class=\"data row5 col0\" >0.04962</td>\n",
       "            </tr>\n",
       "            <tr>\n",
       "                        <th id=\"T_a67b1dce_05f2_11ea_a6fb_107b449f15fclevel0_row6\" class=\"row_heading level0 row6\" >эйнштейн_альберт</th>\n",
       "                        <td id=\"T_a67b1dce_05f2_11ea_a6fb_107b449f15fcrow6_col0\" class=\"data row6 col0\" >0.04637</td>\n",
       "            </tr>\n",
       "            <tr>\n",
       "                        <th id=\"T_a67b1dce_05f2_11ea_a6fb_107b449f15fclevel0_row7\" class=\"row_heading level0 row7\" >гравитационные_волны</th>\n",
       "                        <td id=\"T_a67b1dce_05f2_11ea_a6fb_107b449f15fcrow7_col0\" class=\"data row7 col0\" >0.04041</td>\n",
       "            </tr>\n",
       "            <tr>\n",
       "                        <th id=\"T_a67b1dce_05f2_11ea_a6fb_107b449f15fclevel0_row8\" class=\"row_heading level0 row8\" >большой_взрыв</th>\n",
       "                        <td id=\"T_a67b1dce_05f2_11ea_a6fb_107b449f15fcrow8_col0\" class=\"data row8 col0\" >0.03842</td>\n",
       "            </tr>\n",
       "            <tr>\n",
       "                        <th id=\"T_a67b1dce_05f2_11ea_a6fb_107b449f15fclevel0_row9\" class=\"row_heading level0 row9\" >общая_теория_относительности</th>\n",
       "                        <td id=\"T_a67b1dce_05f2_11ea_a6fb_107b449f15fcrow9_col0\" class=\"data row9 col0\" >0.03695</td>\n",
       "            </tr>\n",
       "    </tbody></table><style  type=\"text/css\" >\n",
       "</style><table id=\"T_a67b1dcf_05f2_11ea_a6fb_107b449f15fc\" style='display:inline'><thead>    <tr>        <th class=\"blank level0\" ></th>        <th class=\"col_heading level0 col0\" >topic_16 @word</th>    </tr></thead><tbody>\n",
       "                <tr>\n",
       "                        <th id=\"T_a67b1dcf_05f2_11ea_a6fb_107b449f15fclevel0_row0\" class=\"row_heading level0 row0\" >вселенная</th>\n",
       "                        <td id=\"T_a67b1dcf_05f2_11ea_a6fb_107b449f15fcrow0_col0\" class=\"data row0 col0\" >0.0348</td>\n",
       "            </tr>\n",
       "            <tr>\n",
       "                        <th id=\"T_a67b1dcf_05f2_11ea_a6fb_107b449f15fclevel0_row1\" class=\"row_heading level0 row1\" >эйнштейн</th>\n",
       "                        <td id=\"T_a67b1dcf_05f2_11ea_a6fb_107b449f15fcrow1_col0\" class=\"data row1 col0\" >0.01074</td>\n",
       "            </tr>\n",
       "            <tr>\n",
       "                        <th id=\"T_a67b1dcf_05f2_11ea_a6fb_107b449f15fclevel0_row2\" class=\"row_heading level0 row2\" >теория</th>\n",
       "                        <td id=\"T_a67b1dcf_05f2_11ea_a6fb_107b449f15fcrow2_col0\" class=\"data row2 col0\" >0.01044</td>\n",
       "            </tr>\n",
       "            <tr>\n",
       "                        <th id=\"T_a67b1dcf_05f2_11ea_a6fb_107b449f15fclevel0_row3\" class=\"row_heading level0 row3\" >пространство</th>\n",
       "                        <td id=\"T_a67b1dcf_05f2_11ea_a6fb_107b449f15fcrow3_col0\" class=\"data row3 col0\" >0.00979</td>\n",
       "            </tr>\n",
       "            <tr>\n",
       "                        <th id=\"T_a67b1dcf_05f2_11ea_a6fb_107b449f15fclevel0_row4\" class=\"row_heading level0 row4\" >галактика</th>\n",
       "                        <td id=\"T_a67b1dcf_05f2_11ea_a6fb_107b449f15fcrow4_col0\" class=\"data row4 col0\" >0.00765</td>\n",
       "            </tr>\n",
       "            <tr>\n",
       "                        <th id=\"T_a67b1dcf_05f2_11ea_a6fb_107b449f15fclevel0_row5\" class=\"row_heading level0 row5\" >гравитация</th>\n",
       "                        <td id=\"T_a67b1dcf_05f2_11ea_a6fb_107b449f15fcrow5_col0\" class=\"data row5 col0\" >0.00724</td>\n",
       "            </tr>\n",
       "            <tr>\n",
       "                        <th id=\"T_a67b1dcf_05f2_11ea_a6fb_107b449f15fclevel0_row6\" class=\"row_heading level0 row6\" >физика</th>\n",
       "                        <td id=\"T_a67b1dcf_05f2_11ea_a6fb_107b449f15fcrow6_col0\" class=\"data row6 col0\" >0.00629</td>\n",
       "            </tr>\n",
       "            <tr>\n",
       "                        <th id=\"T_a67b1dcf_05f2_11ea_a6fb_107b449f15fclevel0_row7\" class=\"row_heading level0 row7\" >наблюдение</th>\n",
       "                        <td id=\"T_a67b1dcf_05f2_11ea_a6fb_107b449f15fcrow7_col0\" class=\"data row7 col0\" >0.00628</td>\n",
       "            </tr>\n",
       "            <tr>\n",
       "                        <th id=\"T_a67b1dcf_05f2_11ea_a6fb_107b449f15fclevel0_row8\" class=\"row_heading level0 row8\" >космология</th>\n",
       "                        <td id=\"T_a67b1dcf_05f2_11ea_a6fb_107b449f15fcrow8_col0\" class=\"data row8 col0\" >0.00604</td>\n",
       "            </tr>\n",
       "            <tr>\n",
       "                        <th id=\"T_a67b1dcf_05f2_11ea_a6fb_107b449f15fclevel0_row9\" class=\"row_heading level0 row9\" >эксперимент</th>\n",
       "                        <td id=\"T_a67b1dcf_05f2_11ea_a6fb_107b449f15fcrow9_col0\" class=\"data row9 col0\" >0.00544</td>\n",
       "            </tr>\n",
       "    </tbody></table>"
      ]
     },
     "metadata": {},
     "output_type": "display_data"
    },
    {
     "data": {
      "text/html": [
       "<b> аномалии реликтового излучения </b><br /> астрофизик олег верходанов о низких мультиполях, влиянии объектов ближнего космоса на космологические измерения и учете ненайденных источников"
      ]
     },
     "metadata": {},
     "output_type": "display_data"
    },
    {
     "data": {
      "text/html": [
       "<b> что находится за краем вселенной? </b><br /> физик дмитрий горбунов о размере вселенной, реликтовом излучении и кривизне пространства"
      ]
     },
     "metadata": {},
     "output_type": "display_data"
    },
    {
     "data": {
      "text/html": [
       "<b> автограф # «прорыв за край мира» </b><br /> астрофизик борис штерн о развитии теории космологической инфляции, целевой аудитории научно-популярной литературы и объяснении сложных понятий"
      ]
     },
     "metadata": {},
     "output_type": "display_data"
    },
    {
     "data": {
      "text/html": [
       "<b> новый взгляд на информационный парадокс черных дыр </b><br /> о парадоксе хокинга, излучении черными дырами информации и теории «пушистого клубка»"
      ]
     },
     "metadata": {},
     "output_type": "display_data"
    },
    {
     "data": {
      "text/html": [
       "<b> свидетельства существования параллельных вселенных </b><br /> физик макс тегмарк о ненаблюдаемых предсказаниях, объяснении точной настройки вселенной и квантовом компьютере"
      ]
     },
     "metadata": {},
     "output_type": "display_data"
    },
    {
     "data": {
      "text/html": [
       "<b> точная космология </b><br /> физик макс тегмарк о флуктуациях в ранней вселенной, темной энергии и теории инфляции"
      ]
     },
     "metadata": {},
     "output_type": "display_data"
    },
    {
     "data": {
      "text/html": [
       "<b> основы фундаментальной физики </b><br /> 10 лекций об основных понятиях и проблемах современной физики, отобранных физиком эмилем ахмедовым"
      ]
     },
     "metadata": {},
     "output_type": "display_data"
    },
    {
     "data": {
      "text/html": [
       "<b> почему вселенную называют плоской? </b><br /> астрофизик олег верходанов об искривлении пространства, сценариях расширения вселенной и данных космической миссии planck"
      ]
     },
     "metadata": {},
     "output_type": "display_data"
    },
    {
     "data": {
      "text/html": [
       "<b> faqвселенная до горячей стадии </b><br /> 5 фактов о теориях развития вселенной, инфляционной модели и гравитационных волнах"
      ]
     },
     "metadata": {},
     "output_type": "display_data"
    },
    {
     "data": {
      "text/html": [
       "<b> иерархическое формирование галактик во вселенной </b><br /> астрофизик ольга сильченко о свойствах темной материи, веществе в ранней вселенной и реликтовом фоне"
      ]
     },
     "metadata": {},
     "output_type": "display_data"
    },
    {
     "data": {
      "text/html": [
       "<style  type=\"text/css\" >\n",
       "</style><table id=\"T_a67b1dd0_05f2_11ea_a6fb_107b449f15fc\" style='display:inline'><thead>    <tr>        <th class=\"blank level0\" ></th>        <th class=\"col_heading level0 col0\" >topic_17 @2gramm</th>    </tr></thead><tbody>\n",
       "                <tr>\n",
       "                        <th id=\"T_a67b1dd0_05f2_11ea_a6fb_107b449f15fclevel0_row0\" class=\"row_heading level0 row0\" >принятие_решение</th>\n",
       "                        <td id=\"T_a67b1dd0_05f2_11ea_a6fb_107b449f15fcrow0_col0\" class=\"data row0 col0\" >0.03389</td>\n",
       "            </tr>\n",
       "            <tr>\n",
       "                        <th id=\"T_a67b1dd0_05f2_11ea_a6fb_107b449f15fclevel0_row1\" class=\"row_heading level0 row1\" >теория_игра</th>\n",
       "                        <td id=\"T_a67b1dd0_05f2_11ea_a6fb_107b449f15fcrow1_col0\" class=\"data row1 col0\" >0.01883</td>\n",
       "            </tr>\n",
       "            <tr>\n",
       "                        <th id=\"T_a67b1dd0_05f2_11ea_a6fb_107b449f15fclevel0_row2\" class=\"row_heading level0 row2\" >принимать_решение</th>\n",
       "                        <td id=\"T_a67b1dd0_05f2_11ea_a6fb_107b449f15fcrow2_col0\" class=\"data row2 col0\" >0.0095</td>\n",
       "            </tr>\n",
       "            <tr>\n",
       "                        <th id=\"T_a67b1dd0_05f2_11ea_a6fb_107b449f15fclevel0_row3\" class=\"row_heading level0 row3\" >поведенческий_экономика</th>\n",
       "                        <td id=\"T_a67b1dd0_05f2_11ea_a6fb_107b449f15fcrow3_col0\" class=\"data row3 col0\" >0.00775</td>\n",
       "            </tr>\n",
       "            <tr>\n",
       "                        <th id=\"T_a67b1dd0_05f2_11ea_a6fb_107b449f15fclevel0_row4\" class=\"row_heading level0 row4\" >рождение_ребёнок</th>\n",
       "                        <td id=\"T_a67b1dd0_05f2_11ea_a6fb_107b449f15fcrow4_col0\" class=\"data row4 col0\" >0.0067</td>\n",
       "            </tr>\n",
       "            <tr>\n",
       "                        <th id=\"T_a67b1dd0_05f2_11ea_a6fb_107b449f15fclevel0_row5\" class=\"row_heading level0 row5\" >быстрый_сон</th>\n",
       "                        <td id=\"T_a67b1dd0_05f2_11ea_a6fb_107b449f15fcrow5_col0\" class=\"data row5 col0\" >0.0063</td>\n",
       "            </tr>\n",
       "            <tr>\n",
       "                        <th id=\"T_a67b1dd0_05f2_11ea_a6fb_107b449f15fclevel0_row6\" class=\"row_heading level0 row6\" >развитие_ребёнок</th>\n",
       "                        <td id=\"T_a67b1dd0_05f2_11ea_a6fb_107b449f15fcrow6_col0\" class=\"data row6 col0\" >0.00592</td>\n",
       "            </tr>\n",
       "            <tr>\n",
       "                        <th id=\"T_a67b1dd0_05f2_11ea_a6fb_107b449f15fclevel0_row7\" class=\"row_heading level0 row7\" >нарушение_сон</th>\n",
       "                        <td id=\"T_a67b1dd0_05f2_11ea_a6fb_107b449f15fcrow7_col0\" class=\"data row7 col0\" >0.0059</td>\n",
       "            </tr>\n",
       "            <tr>\n",
       "                        <th id=\"T_a67b1dd0_05f2_11ea_a6fb_107b449f15fclevel0_row8\" class=\"row_heading level0 row8\" >состояние_сон</th>\n",
       "                        <td id=\"T_a67b1dd0_05f2_11ea_a6fb_107b449f15fcrow8_col0\" class=\"data row8 col0\" >0.00466</td>\n",
       "            </tr>\n",
       "            <tr>\n",
       "                        <th id=\"T_a67b1dd0_05f2_11ea_a6fb_107b449f15fclevel0_row9\" class=\"row_heading level0 row9\" >система_отсчёт</th>\n",
       "                        <td id=\"T_a67b1dd0_05f2_11ea_a6fb_107b449f15fcrow9_col0\" class=\"data row9 col0\" >0.00452</td>\n",
       "            </tr>\n",
       "    </tbody></table><style  type=\"text/css\" >\n",
       "</style><table id=\"T_a67b1dd1_05f2_11ea_a6fb_107b449f15fc\" style='display:inline'><thead>    <tr>        <th class=\"blank level0\" ></th>        <th class=\"col_heading level0 col0\" >topic_17 @3gramm</th>    </tr></thead><tbody>\n",
       "        </tbody></table><style  type=\"text/css\" >\n",
       "</style><table id=\"T_a67b1dd2_05f2_11ea_a6fb_107b449f15fc\" style='display:inline'><thead>    <tr>        <th class=\"blank level0\" ></th>        <th class=\"col_heading level0 col0\" >topic_17 @post_tag</th>    </tr></thead><tbody>\n",
       "                <tr>\n",
       "                        <th id=\"T_a67b1dd2_05f2_11ea_a6fb_107b449f15fclevel0_row0\" class=\"row_heading level0 row0\" >принятие_решений</th>\n",
       "                        <td id=\"T_a67b1dd2_05f2_11ea_a6fb_107b449f15fcrow0_col0\" class=\"data row0 col0\" >0.09254</td>\n",
       "            </tr>\n",
       "            <tr>\n",
       "                        <th id=\"T_a67b1dd2_05f2_11ea_a6fb_107b449f15fclevel0_row1\" class=\"row_heading level0 row1\" >теория_принятия_решений</th>\n",
       "                        <td id=\"T_a67b1dd2_05f2_11ea_a6fb_107b449f15fcrow1_col0\" class=\"data row1 col0\" >0.0876</td>\n",
       "            </tr>\n",
       "            <tr>\n",
       "                        <th id=\"T_a67b1dd2_05f2_11ea_a6fb_107b449f15fclevel0_row2\" class=\"row_heading level0 row2\" >архитектура</th>\n",
       "                        <td id=\"T_a67b1dd2_05f2_11ea_a6fb_107b449f15fcrow2_col0\" class=\"data row2 col0\" >0.08668</td>\n",
       "            </tr>\n",
       "            <tr>\n",
       "                        <th id=\"T_a67b1dd2_05f2_11ea_a6fb_107b449f15fclevel0_row3\" class=\"row_heading level0 row3\" >теория_игр</th>\n",
       "                        <td id=\"T_a67b1dd2_05f2_11ea_a6fb_107b449f15fcrow3_col0\" class=\"data row3 col0\" >0.06706</td>\n",
       "            </tr>\n",
       "            <tr>\n",
       "                        <th id=\"T_a67b1dd2_05f2_11ea_a6fb_107b449f15fclevel0_row4\" class=\"row_heading level0 row4\" >сон</th>\n",
       "                        <td id=\"T_a67b1dd2_05f2_11ea_a6fb_107b449f15fcrow4_col0\" class=\"data row4 col0\" >0.06687</td>\n",
       "            </tr>\n",
       "            <tr>\n",
       "                        <th id=\"T_a67b1dd2_05f2_11ea_a6fb_107b449f15fclevel0_row5\" class=\"row_heading level0 row5\" >психотерапия</th>\n",
       "                        <td id=\"T_a67b1dd2_05f2_11ea_a6fb_107b449f15fcrow5_col0\" class=\"data row5 col0\" >0.06187</td>\n",
       "            </tr>\n",
       "            <tr>\n",
       "                        <th id=\"T_a67b1dd2_05f2_11ea_a6fb_107b449f15fclevel0_row6\" class=\"row_heading level0 row6\" >неврология</th>\n",
       "                        <td id=\"T_a67b1dd2_05f2_11ea_a6fb_107b449f15fcrow6_col0\" class=\"data row6 col0\" >0.0611</td>\n",
       "            </tr>\n",
       "            <tr>\n",
       "                        <th id=\"T_a67b1dd2_05f2_11ea_a6fb_107b449f15fclevel0_row7\" class=\"row_heading level0 row7\" >музыка</th>\n",
       "                        <td id=\"T_a67b1dd2_05f2_11ea_a6fb_107b449f15fcrow7_col0\" class=\"data row7 col0\" >0.05642</td>\n",
       "            </tr>\n",
       "            <tr>\n",
       "                        <th id=\"T_a67b1dd2_05f2_11ea_a6fb_107b449f15fclevel0_row8\" class=\"row_heading level0 row8\" >психиатрия</th>\n",
       "                        <td id=\"T_a67b1dd2_05f2_11ea_a6fb_107b449f15fcrow8_col0\" class=\"data row8 col0\" >0.05222</td>\n",
       "            </tr>\n",
       "            <tr>\n",
       "                        <th id=\"T_a67b1dd2_05f2_11ea_a6fb_107b449f15fclevel0_row9\" class=\"row_heading level0 row9\" >поведенческая_экономика</th>\n",
       "                        <td id=\"T_a67b1dd2_05f2_11ea_a6fb_107b449f15fcrow9_col0\" class=\"data row9 col0\" >0.04639</td>\n",
       "            </tr>\n",
       "    </tbody></table><style  type=\"text/css\" >\n",
       "</style><table id=\"T_a67b1dd3_05f2_11ea_a6fb_107b449f15fc\" style='display:inline'><thead>    <tr>        <th class=\"blank level0\" ></th>        <th class=\"col_heading level0 col0\" >topic_17 @word</th>    </tr></thead><tbody>\n",
       "                <tr>\n",
       "                        <th id=\"T_a67b1dd3_05f2_11ea_a6fb_107b449f15fclevel0_row0\" class=\"row_heading level0 row0\" >сон</th>\n",
       "                        <td id=\"T_a67b1dd3_05f2_11ea_a6fb_107b449f15fcrow0_col0\" class=\"data row0 col0\" >0.01207</td>\n",
       "            </tr>\n",
       "            <tr>\n",
       "                        <th id=\"T_a67b1dd3_05f2_11ea_a6fb_107b449f15fclevel0_row1\" class=\"row_heading level0 row1\" >ребёнок</th>\n",
       "                        <td id=\"T_a67b1dd3_05f2_11ea_a6fb_107b449f15fcrow1_col0\" class=\"data row1 col0\" >0.01041</td>\n",
       "            </tr>\n",
       "            <tr>\n",
       "                        <th id=\"T_a67b1dd3_05f2_11ea_a6fb_107b449f15fclevel0_row2\" class=\"row_heading level0 row2\" >музыка</th>\n",
       "                        <td id=\"T_a67b1dd3_05f2_11ea_a6fb_107b449f15fcrow2_col0\" class=\"data row2 col0\" >0.00678</td>\n",
       "            </tr>\n",
       "            <tr>\n",
       "                        <th id=\"T_a67b1dd3_05f2_11ea_a6fb_107b449f15fclevel0_row3\" class=\"row_heading level0 row3\" >дать</th>\n",
       "                        <td id=\"T_a67b1dd3_05f2_11ea_a6fb_107b449f15fcrow3_col0\" class=\"data row3 col0\" >0.00569</td>\n",
       "            </tr>\n",
       "            <tr>\n",
       "                        <th id=\"T_a67b1dd3_05f2_11ea_a6fb_107b449f15fclevel0_row4\" class=\"row_heading level0 row4\" >игра</th>\n",
       "                        <td id=\"T_a67b1dd3_05f2_11ea_a6fb_107b449f15fcrow4_col0\" class=\"data row4 col0\" >0.0052</td>\n",
       "            </tr>\n",
       "            <tr>\n",
       "                        <th id=\"T_a67b1dd3_05f2_11ea_a6fb_107b449f15fclevel0_row5\" class=\"row_heading level0 row5\" >поведение</th>\n",
       "                        <td id=\"T_a67b1dd3_05f2_11ea_a6fb_107b449f15fcrow5_col0\" class=\"data row5 col0\" >0.00451</td>\n",
       "            </tr>\n",
       "            <tr>\n",
       "                        <th id=\"T_a67b1dd3_05f2_11ea_a6fb_107b449f15fclevel0_row6\" class=\"row_heading level0 row6\" >решение</th>\n",
       "                        <td id=\"T_a67b1dd3_05f2_11ea_a6fb_107b449f15fcrow6_col0\" class=\"data row6 col0\" >0.0044</td>\n",
       "            </tr>\n",
       "            <tr>\n",
       "                        <th id=\"T_a67b1dd3_05f2_11ea_a6fb_107b449f15fclevel0_row7\" class=\"row_heading level0 row7\" >угроза</th>\n",
       "                        <td id=\"T_a67b1dd3_05f2_11ea_a6fb_107b449f15fcrow7_col0\" class=\"data row7 col0\" >0.00399</td>\n",
       "            </tr>\n",
       "            <tr>\n",
       "                        <th id=\"T_a67b1dd3_05f2_11ea_a6fb_107b449f15fclevel0_row8\" class=\"row_heading level0 row8\" >рождение</th>\n",
       "                        <td id=\"T_a67b1dd3_05f2_11ea_a6fb_107b449f15fcrow8_col0\" class=\"data row8 col0\" >0.00385</td>\n",
       "            </tr>\n",
       "            <tr>\n",
       "                        <th id=\"T_a67b1dd3_05f2_11ea_a6fb_107b449f15fclevel0_row9\" class=\"row_heading level0 row9\" >группа</th>\n",
       "                        <td id=\"T_a67b1dd3_05f2_11ea_a6fb_107b449f15fcrow9_col0\" class=\"data row9 col0\" >0.00347</td>\n",
       "            </tr>\n",
       "    </tbody></table>"
      ]
     },
     "metadata": {},
     "output_type": "display_data"
    },
    {
     "data": {
      "text/html": [
       "<b> эмоции в музыкевосприятие расстояний в тональном поле </b><br /> нейропсихолог марина корсакова-крейн о квинтовом круге, улавливании расстояний в тональном пространстве и важности интуиции в восприятии музыки"
      ]
     },
     "metadata": {},
     "output_type": "display_data"
    },
    {
     "data": {
      "text/html": [
       "<b> инсомнияпричины, лечение и виды бессонницы </b><br /> сомнолог михаил полуэктов об острой и хронической бессоннице, методах исследования и гигиене сна"
      ]
     },
     "metadata": {},
     "output_type": "display_data"
    },
    {
     "data": {
      "text/html": [
       "<b> главыбедность и ребенок до появления на свет </b><br /> отрывок из книги «бедность и развитие ребенка» о том, как социальное неблагополучие влияет на разные аспекты развития ребенка"
      ]
     },
     "metadata": {},
     "output_type": "display_data"
    },
    {
     "data": {
      "text/html": [
       "<b> экономика соблазна </b><br /> экономист ксения паниди о теории перспектив, иллюзии невозвратных потерь и поведении людей в ситуации неопределенности"
      ]
     },
     "metadata": {},
     "output_type": "display_data"
    },
    {
     "data": {
      "text/html": [
       "<b> faqприрода сна </b><br /> 7 фактов об одном из самых важных процессов в жизнедеятельности человека"
      ]
     },
     "metadata": {},
     "output_type": "display_data"
    },
    {
     "data": {
      "text/html": [
       "<b> faqдизайн экономических механизмов </b><br /> 7 фактов о поиске взаимно-оптимальных стратегий при решении экономических игр"
      ]
     },
     "metadata": {},
     "output_type": "display_data"
    },
    {
     "data": {
      "text/html": [
       "<b> гендерные особенности инсомнии </b><br /> сомнолог михаил полуэктов о различиях инсомнии мужчин и женщин, социальных рисках бессонницы и проявлениях сонных расстройств при неврозах"
      ]
     },
     "metadata": {},
     "output_type": "display_data"
    },
    {
     "data": {
      "text/html": [
       "<b> главыпочему пожилые люди эмоционально стабильны </b><br /> отрывок из книги «мозг на пенсии» нейропсихолога андре алемана о склонности пожилых людей к депрессии и влиянии возраста на эмоциональную стабильность"
      ]
     },
     "metadata": {},
     "output_type": "display_data"
    },
    {
     "data": {
      "text/html": [
       "<b> парасомнии </b><br /> сомнолог михаил полуэктов о расстройствах сна, снохождении и синдроме ночной еды"
      ]
     },
     "metadata": {},
     "output_type": "display_data"
    },
    {
     "data": {
      "text/html": [
       "<b> главымузыка на работе </b><br /> отрывок из книги «мы — это музыка» психолога виктории уильямсон о музыке, которую надо слушать в офисе, чтобы повысить свою производительность"
      ]
     },
     "metadata": {},
     "output_type": "display_data"
    },
    {
     "data": {
      "text/html": [
       "<style  type=\"text/css\" >\n",
       "</style><table id=\"T_a67b1dd4_05f2_11ea_a6fb_107b449f15fc\" style='display:inline'><thead>    <tr>        <th class=\"blank level0\" ></th>        <th class=\"col_heading level0 col0\" >topic_18 @2gramm</th>    </tr></thead><tbody>\n",
       "                <tr>\n",
       "                        <th id=\"T_a67b1dd4_05f2_11ea_a6fb_107b449f15fclevel0_row0\" class=\"row_heading level0 row0\" >русский_язык</th>\n",
       "                        <td id=\"T_a67b1dd4_05f2_11ea_a6fb_107b449f15fcrow0_col0\" class=\"data row0 col0\" >0.06825</td>\n",
       "            </tr>\n",
       "            <tr>\n",
       "                        <th id=\"T_a67b1dd4_05f2_11ea_a6fb_107b449f15fclevel0_row1\" class=\"row_heading level0 row1\" >английский_язык</th>\n",
       "                        <td id=\"T_a67b1dd4_05f2_11ea_a6fb_107b449f15fcrow1_col0\" class=\"data row1 col0\" >0.01156</td>\n",
       "            </tr>\n",
       "            <tr>\n",
       "                        <th id=\"T_a67b1dd4_05f2_11ea_a6fb_107b449f15fclevel0_row2\" class=\"row_heading level0 row2\" >литературный_язык</th>\n",
       "                        <td id=\"T_a67b1dd4_05f2_11ea_a6fb_107b449f15fcrow2_col0\" class=\"data row2 col0\" >0.01124</td>\n",
       "            </tr>\n",
       "            <tr>\n",
       "                        <th id=\"T_a67b1dd4_05f2_11ea_a6fb_107b449f15fclevel0_row3\" class=\"row_heading level0 row3\" >разный_язык</th>\n",
       "                        <td id=\"T_a67b1dd4_05f2_11ea_a6fb_107b449f15fcrow3_col0\" class=\"data row3 col0\" >0.01116</td>\n",
       "            </tr>\n",
       "            <tr>\n",
       "                        <th id=\"T_a67b1dd4_05f2_11ea_a6fb_107b449f15fclevel0_row4\" class=\"row_heading level0 row4\" >носитель_язык</th>\n",
       "                        <td id=\"T_a67b1dd4_05f2_11ea_a6fb_107b449f15fcrow4_col0\" class=\"data row4 col0\" >0.0107</td>\n",
       "            </tr>\n",
       "            <tr>\n",
       "                        <th id=\"T_a67b1dd4_05f2_11ea_a6fb_107b449f15fclevel0_row5\" class=\"row_heading level0 row5\" >дискурсивный_слово</th>\n",
       "                        <td id=\"T_a67b1dd4_05f2_11ea_a6fb_107b449f15fcrow5_col0\" class=\"data row5 col0\" >0.00984</td>\n",
       "            </tr>\n",
       "            <tr>\n",
       "                        <th id=\"T_a67b1dd4_05f2_11ea_a6fb_107b449f15fclevel0_row6\" class=\"row_heading level0 row6\" >устный_речь</th>\n",
       "                        <td id=\"T_a67b1dd4_05f2_11ea_a6fb_107b449f15fcrow6_col0\" class=\"data row6 col0\" >0.0094</td>\n",
       "            </tr>\n",
       "            <tr>\n",
       "                        <th id=\"T_a67b1dd4_05f2_11ea_a6fb_107b449f15fclevel0_row7\" class=\"row_heading level0 row7\" >значение_слово</th>\n",
       "                        <td id=\"T_a67b1dd4_05f2_11ea_a6fb_107b449f15fcrow7_col0\" class=\"data row7 col0\" >0.00805</td>\n",
       "            </tr>\n",
       "            <tr>\n",
       "                        <th id=\"T_a67b1dd4_05f2_11ea_a6fb_107b449f15fclevel0_row8\" class=\"row_heading level0 row8\" >множественный_число</th>\n",
       "                        <td id=\"T_a67b1dd4_05f2_11ea_a6fb_107b449f15fcrow8_col0\" class=\"data row8 col0\" >0.00792</td>\n",
       "            </tr>\n",
       "            <tr>\n",
       "                        <th id=\"T_a67b1dd4_05f2_11ea_a6fb_107b449f15fclevel0_row9\" class=\"row_heading level0 row9\" >германский_язык</th>\n",
       "                        <td id=\"T_a67b1dd4_05f2_11ea_a6fb_107b449f15fcrow9_col0\" class=\"data row9 col0\" >0.00786</td>\n",
       "            </tr>\n",
       "    </tbody></table><style  type=\"text/css\" >\n",
       "</style><table id=\"T_a67b1dd5_05f2_11ea_a6fb_107b449f15fc\" style='display:inline'><thead>    <tr>        <th class=\"blank level0\" ></th>        <th class=\"col_heading level0 col0\" >topic_18 @3gramm</th>    </tr></thead><tbody>\n",
       "        </tbody></table><style  type=\"text/css\" >\n",
       "</style><table id=\"T_a67b1dd6_05f2_11ea_a6fb_107b449f15fc\" style='display:inline'><thead>    <tr>        <th class=\"blank level0\" ></th>        <th class=\"col_heading level0 col0\" >topic_18 @post_tag</th>    </tr></thead><tbody>\n",
       "                <tr>\n",
       "                        <th id=\"T_a67b1dd6_05f2_11ea_a6fb_107b449f15fclevel0_row0\" class=\"row_heading level0 row0\" >язык</th>\n",
       "                        <td id=\"T_a67b1dd6_05f2_11ea_a6fb_107b449f15fcrow0_col0\" class=\"data row0 col0\" >0.26434</td>\n",
       "            </tr>\n",
       "            <tr>\n",
       "                        <th id=\"T_a67b1dd6_05f2_11ea_a6fb_107b449f15fclevel0_row1\" class=\"row_heading level0 row1\" >лингвистика</th>\n",
       "                        <td id=\"T_a67b1dd6_05f2_11ea_a6fb_107b449f15fcrow1_col0\" class=\"data row1 col0\" >0.22224</td>\n",
       "            </tr>\n",
       "            <tr>\n",
       "                        <th id=\"T_a67b1dd6_05f2_11ea_a6fb_107b449f15fclevel0_row2\" class=\"row_heading level0 row2\" >филология</th>\n",
       "                        <td id=\"T_a67b1dd6_05f2_11ea_a6fb_107b449f15fcrow2_col0\" class=\"data row2 col0\" >0.10454</td>\n",
       "            </tr>\n",
       "            <tr>\n",
       "                        <th id=\"T_a67b1dd6_05f2_11ea_a6fb_107b449f15fclevel0_row3\" class=\"row_heading level0 row3\" >русский_язык</th>\n",
       "                        <td id=\"T_a67b1dd6_05f2_11ea_a6fb_107b449f15fcrow3_col0\" class=\"data row3 col0\" >0.08839</td>\n",
       "            </tr>\n",
       "            <tr>\n",
       "                        <th id=\"T_a67b1dd6_05f2_11ea_a6fb_107b449f15fclevel0_row4\" class=\"row_heading level0 row4\" >русь</th>\n",
       "                        <td id=\"T_a67b1dd6_05f2_11ea_a6fb_107b449f15fcrow4_col0\" class=\"data row4 col0\" >0.03241</td>\n",
       "            </tr>\n",
       "            <tr>\n",
       "                        <th id=\"T_a67b1dd6_05f2_11ea_a6fb_107b449f15fclevel0_row5\" class=\"row_heading level0 row5\" >грамматика</th>\n",
       "                        <td id=\"T_a67b1dd6_05f2_11ea_a6fb_107b449f15fcrow5_col0\" class=\"data row5 col0\" >0.02735</td>\n",
       "            </tr>\n",
       "            <tr>\n",
       "                        <th id=\"T_a67b1dd6_05f2_11ea_a6fb_107b449f15fclevel0_row6\" class=\"row_heading level0 row6\" >полевая_лингвистика</th>\n",
       "                        <td id=\"T_a67b1dd6_05f2_11ea_a6fb_107b449f15fcrow6_col0\" class=\"data row6 col0\" >0.02203</td>\n",
       "            </tr>\n",
       "            <tr>\n",
       "                        <th id=\"T_a67b1dd6_05f2_11ea_a6fb_107b449f15fclevel0_row7\" class=\"row_heading level0 row7\" >речь</th>\n",
       "                        <td id=\"T_a67b1dd6_05f2_11ea_a6fb_107b449f15fcrow7_col0\" class=\"data row7 col0\" >0.02086</td>\n",
       "            </tr>\n",
       "            <tr>\n",
       "                        <th id=\"T_a67b1dd6_05f2_11ea_a6fb_107b449f15fclevel0_row8\" class=\"row_heading level0 row8\" >диалект</th>\n",
       "                        <td id=\"T_a67b1dd6_05f2_11ea_a6fb_107b449f15fcrow8_col0\" class=\"data row8 col0\" >0.01774</td>\n",
       "            </tr>\n",
       "            <tr>\n",
       "                        <th id=\"T_a67b1dd6_05f2_11ea_a6fb_107b449f15fclevel0_row9\" class=\"row_heading level0 row9\" >английский_язык</th>\n",
       "                        <td id=\"T_a67b1dd6_05f2_11ea_a6fb_107b449f15fcrow9_col0\" class=\"data row9 col0\" >0.01469</td>\n",
       "            </tr>\n",
       "    </tbody></table><style  type=\"text/css\" >\n",
       "</style><table id=\"T_a67b1dd7_05f2_11ea_a6fb_107b449f15fc\" style='display:inline'><thead>    <tr>        <th class=\"blank level0\" ></th>        <th class=\"col_heading level0 col0\" >topic_18 @word</th>    </tr></thead><tbody>\n",
       "                <tr>\n",
       "                        <th id=\"T_a67b1dd7_05f2_11ea_a6fb_107b449f15fclevel0_row0\" class=\"row_heading level0 row0\" >язык</th>\n",
       "                        <td id=\"T_a67b1dd7_05f2_11ea_a6fb_107b449f15fcrow0_col0\" class=\"data row0 col0\" >0.05038</td>\n",
       "            </tr>\n",
       "            <tr>\n",
       "                        <th id=\"T_a67b1dd7_05f2_11ea_a6fb_107b449f15fclevel0_row1\" class=\"row_heading level0 row1\" >слово</th>\n",
       "                        <td id=\"T_a67b1dd7_05f2_11ea_a6fb_107b449f15fcrow1_col0\" class=\"data row1 col0\" >0.02756</td>\n",
       "            </tr>\n",
       "            <tr>\n",
       "                        <th id=\"T_a67b1dd7_05f2_11ea_a6fb_107b449f15fclevel0_row2\" class=\"row_heading level0 row2\" >говорить</th>\n",
       "                        <td id=\"T_a67b1dd7_05f2_11ea_a6fb_107b449f15fcrow2_col0\" class=\"data row2 col0\" >0.00866</td>\n",
       "            </tr>\n",
       "            <tr>\n",
       "                        <th id=\"T_a67b1dd7_05f2_11ea_a6fb_107b449f15fclevel0_row3\" class=\"row_heading level0 row3\" >словарь</th>\n",
       "                        <td id=\"T_a67b1dd7_05f2_11ea_a6fb_107b449f15fcrow3_col0\" class=\"data row3 col0\" >0.00735</td>\n",
       "            </tr>\n",
       "            <tr>\n",
       "                        <th id=\"T_a67b1dd7_05f2_11ea_a6fb_107b449f15fclevel0_row4\" class=\"row_heading level0 row4\" >текст</th>\n",
       "                        <td id=\"T_a67b1dd7_05f2_11ea_a6fb_107b449f15fcrow4_col0\" class=\"data row4 col0\" >0.00702</td>\n",
       "            </tr>\n",
       "            <tr>\n",
       "                        <th id=\"T_a67b1dd7_05f2_11ea_a6fb_107b449f15fclevel0_row5\" class=\"row_heading level0 row5\" >лингвист</th>\n",
       "                        <td id=\"T_a67b1dd7_05f2_11ea_a6fb_107b449f15fcrow5_col0\" class=\"data row5 col0\" >0.00695</td>\n",
       "            </tr>\n",
       "            <tr>\n",
       "                        <th id=\"T_a67b1dd7_05f2_11ea_a6fb_107b449f15fclevel0_row6\" class=\"row_heading level0 row6\" >русский</th>\n",
       "                        <td id=\"T_a67b1dd7_05f2_11ea_a6fb_107b449f15fcrow6_col0\" class=\"data row6 col0\" >0.00646</td>\n",
       "            </tr>\n",
       "            <tr>\n",
       "                        <th id=\"T_a67b1dd7_05f2_11ea_a6fb_107b449f15fclevel0_row7\" class=\"row_heading level0 row7\" >предложение</th>\n",
       "                        <td id=\"T_a67b1dd7_05f2_11ea_a6fb_107b449f15fcrow7_col0\" class=\"data row7 col0\" >0.0057</td>\n",
       "            </tr>\n",
       "            <tr>\n",
       "                        <th id=\"T_a67b1dd7_05f2_11ea_a6fb_107b449f15fclevel0_row8\" class=\"row_heading level0 row8\" >речь</th>\n",
       "                        <td id=\"T_a67b1dd7_05f2_11ea_a6fb_107b449f15fcrow8_col0\" class=\"data row8 col0\" >0.00552</td>\n",
       "            </tr>\n",
       "            <tr>\n",
       "                        <th id=\"T_a67b1dd7_05f2_11ea_a6fb_107b449f15fclevel0_row9\" class=\"row_heading level0 row9\" >глагол</th>\n",
       "                        <td id=\"T_a67b1dd7_05f2_11ea_a6fb_107b449f15fcrow9_col0\" class=\"data row9 col0\" >0.00528</td>\n",
       "            </tr>\n",
       "    </tbody></table>"
      ]
     },
     "metadata": {},
     "output_type": "display_data"
    },
    {
     "data": {
      "text/html": [
       "<b> категория лица </b><br /> лингвист надежда онипенко об отличиях лица от других категорий глагола, образе автора и эгоцентрической грамматической технике"
      ]
     },
     "metadata": {},
     "output_type": "display_data"
    },
    {
     "data": {
      "text/html": [
       "<b> двуязычные словари </b><br /> лингвист дмитрий добровольский о необходимости больших академических словарей, поливариантности немецкого языка и сложностях перевода фразеологизмов"
      ]
     },
     "metadata": {},
     "output_type": "display_data"
    },
    {
     "data": {
      "text/html": [
       "<b> формирование значения слов </b><br /> лингвист светлана евграфова о неправильном употреблении слов, поликодовом гипертексте и бытовой лексикографии"
      ]
     },
     "metadata": {},
     "output_type": "display_data"
    },
    {
     "data": {
      "text/html": [
       "<b> значение синтаксической конструкции </b><br /> лингвист светлана евграфова о членораздельности речи, интуитивном познании синтаксических конструкций и переходе от устной речи к письменной"
      ]
     },
     "metadata": {},
     "output_type": "display_data"
    },
    {
     "data": {
      "text/html": [
       "<b> faqсамоисправления говорящего в спонтанной речи </b><br /> 6 фактов о типах речевых ошибок, допускаемых в устной речи"
      ]
     },
     "metadata": {},
     "output_type": "display_data"
    },
    {
     "data": {
      "text/html": [
       "<b> германские языки </b><br /> лингвист александр пиперски о глагольной системе, фонетике и синтаксисе германских языков"
      ]
     },
     "metadata": {},
     "output_type": "display_data"
    },
    {
     "data": {
      "text/html": [
       "<b> основные особенности балтийских языков </b><br /> лингвист петр аркадьев о балтийских племенах, экзотических сочетаниях и подвижном ударении"
      ]
     },
     "metadata": {},
     "output_type": "display_data"
    },
    {
     "data": {
      "text/html": [
       "<b> синтаксические нули </b><br /> лингвист надежда онипенко об эгоцентрических нулях, незамещенных позициях у ахматовой и нулевом синтаксисе в пословицах"
      ]
     },
     "metadata": {},
     "output_type": "display_data"
    },
    {
     "data": {
      "text/html": [
       "<b> дискурсивные слова </b><br /> лингвист владимир плунгян о частицах в русском языке, значении слов «ну» и «ведь»"
      ]
     },
     "metadata": {},
     "output_type": "display_data"
    },
    {
     "data": {
      "text/html": [
       "<b> бытовая предметная лексика </b><br /> лингвист борис иомдин о словарях бытовой лексики, проблеме изучения иностранных языков и нормативных документах"
      ]
     },
     "metadata": {},
     "output_type": "display_data"
    },
    {
     "data": {
      "text/html": [
       "<style  type=\"text/css\" >\n",
       "</style><table id=\"T_a67b1dd8_05f2_11ea_a6fb_107b449f15fc\" style='display:inline'><thead>    <tr>        <th class=\"blank level0\" ></th>        <th class=\"col_heading level0 col0\" >topic_19 @2gramm</th>    </tr></thead><tbody>\n",
       "                <tr>\n",
       "                        <th id=\"T_a67b1dd8_05f2_11ea_a6fb_107b449f15fclevel0_row0\" class=\"row_heading level0 row0\" >средний_век</th>\n",
       "                        <td id=\"T_a67b1dd8_05f2_11ea_a6fb_107b449f15fcrow0_col0\" class=\"data row0 col0\" >0.0345</td>\n",
       "            </tr>\n",
       "            <tr>\n",
       "                        <th id=\"T_a67b1dd8_05f2_11ea_a6fb_107b449f15fclevel0_row1\" class=\"row_heading level0 row1\" >католический_церковь</th>\n",
       "                        <td id=\"T_a67b1dd8_05f2_11ea_a6fb_107b449f15fcrow1_col0\" class=\"data row1 col0\" >0.02577</td>\n",
       "            </tr>\n",
       "            <tr>\n",
       "                        <th id=\"T_a67b1dd8_05f2_11ea_a6fb_107b449f15fclevel0_row2\" class=\"row_heading level0 row2\" >xii_век</th>\n",
       "                        <td id=\"T_a67b1dd8_05f2_11ea_a6fb_107b449f15fcrow2_col0\" class=\"data row2 col0\" >0.01903</td>\n",
       "            </tr>\n",
       "            <tr>\n",
       "                        <th id=\"T_a67b1dd8_05f2_11ea_a6fb_107b449f15fclevel0_row3\" class=\"row_heading level0 row3\" >xiii_век</th>\n",
       "                        <td id=\"T_a67b1dd8_05f2_11ea_a6fb_107b449f15fcrow3_col0\" class=\"data row3 col0\" >0.01773</td>\n",
       "            </tr>\n",
       "            <tr>\n",
       "                        <th id=\"T_a67b1dd8_05f2_11ea_a6fb_107b449f15fclevel0_row4\" class=\"row_heading level0 row4\" >фома_аквинский</th>\n",
       "                        <td id=\"T_a67b1dd8_05f2_11ea_a6fb_107b449f15fcrow4_col0\" class=\"data row4 col0\" >0.01105</td>\n",
       "            </tr>\n",
       "            <tr>\n",
       "                        <th id=\"T_a67b1dd8_05f2_11ea_a6fb_107b449f15fclevel0_row5\" class=\"row_heading level0 row5\" >священный_писание</th>\n",
       "                        <td id=\"T_a67b1dd8_05f2_11ea_a6fb_107b449f15fcrow5_col0\" class=\"data row5 col0\" >0.01091</td>\n",
       "            </tr>\n",
       "            <tr>\n",
       "                        <th id=\"T_a67b1dd8_05f2_11ea_a6fb_107b449f15fclevel0_row6\" class=\"row_heading level0 row6\" >xv_век</th>\n",
       "                        <td id=\"T_a67b1dd8_05f2_11ea_a6fb_107b449f15fcrow6_col0\" class=\"data row6 col0\" >0.00918</td>\n",
       "            </tr>\n",
       "            <tr>\n",
       "                        <th id=\"T_a67b1dd8_05f2_11ea_a6fb_107b449f15fclevel0_row7\" class=\"row_heading level0 row7\" >королевский_власть</th>\n",
       "                        <td id=\"T_a67b1dd8_05f2_11ea_a6fb_107b449f15fcrow7_col0\" class=\"data row7 col0\" >0.00819</td>\n",
       "            </tr>\n",
       "            <tr>\n",
       "                        <th id=\"T_a67b1dd8_05f2_11ea_a6fb_107b449f15fclevel0_row8\" class=\"row_heading level0 row8\" >xiv_век</th>\n",
       "                        <td id=\"T_a67b1dd8_05f2_11ea_a6fb_107b449f15fcrow8_col0\" class=\"data row8 col0\" >0.00797</td>\n",
       "            </tr>\n",
       "            <tr>\n",
       "                        <th id=\"T_a67b1dd8_05f2_11ea_a6fb_107b449f15fclevel0_row9\" class=\"row_heading level0 row9\" >западный_европа</th>\n",
       "                        <td id=\"T_a67b1dd8_05f2_11ea_a6fb_107b449f15fcrow9_col0\" class=\"data row9 col0\" >0.00739</td>\n",
       "            </tr>\n",
       "    </tbody></table><style  type=\"text/css\" >\n",
       "</style><table id=\"T_a67b1dd9_05f2_11ea_a6fb_107b449f15fc\" style='display:inline'><thead>    <tr>        <th class=\"blank level0\" ></th>        <th class=\"col_heading level0 col0\" >topic_19 @3gramm</th>    </tr></thead><tbody>\n",
       "        </tbody></table><style  type=\"text/css\" >\n",
       "</style><table id=\"T_a67b1dda_05f2_11ea_a6fb_107b449f15fc\" style='display:inline'><thead>    <tr>        <th class=\"blank level0\" ></th>        <th class=\"col_heading level0 col0\" >topic_19 @post_tag</th>    </tr></thead><tbody>\n",
       "                <tr>\n",
       "                        <th id=\"T_a67b1dda_05f2_11ea_a6fb_107b449f15fclevel0_row0\" class=\"row_heading level0 row0\" >средневековье</th>\n",
       "                        <td id=\"T_a67b1dda_05f2_11ea_a6fb_107b449f15fcrow0_col0\" class=\"data row0 col0\" >0.20325</td>\n",
       "            </tr>\n",
       "            <tr>\n",
       "                        <th id=\"T_a67b1dda_05f2_11ea_a6fb_107b449f15fclevel0_row1\" class=\"row_heading level0 row1\" >христианство</th>\n",
       "                        <td id=\"T_a67b1dda_05f2_11ea_a6fb_107b449f15fcrow1_col0\" class=\"data row1 col0\" >0.19877</td>\n",
       "            </tr>\n",
       "            <tr>\n",
       "                        <th id=\"T_a67b1dda_05f2_11ea_a6fb_107b449f15fclevel0_row2\" class=\"row_heading level0 row2\" >европа</th>\n",
       "                        <td id=\"T_a67b1dda_05f2_11ea_a6fb_107b449f15fcrow2_col0\" class=\"data row2 col0\" >0.08277</td>\n",
       "            </tr>\n",
       "            <tr>\n",
       "                        <th id=\"T_a67b1dda_05f2_11ea_a6fb_107b449f15fclevel0_row3\" class=\"row_heading level0 row3\" >власть</th>\n",
       "                        <td id=\"T_a67b1dda_05f2_11ea_a6fb_107b449f15fcrow3_col0\" class=\"data row3 col0\" >0.06041</td>\n",
       "            </tr>\n",
       "            <tr>\n",
       "                        <th id=\"T_a67b1dda_05f2_11ea_a6fb_107b449f15fclevel0_row4\" class=\"row_heading level0 row4\" >католицизм</th>\n",
       "                        <td id=\"T_a67b1dda_05f2_11ea_a6fb_107b449f15fcrow4_col0\" class=\"data row4 col0\" >0.05388</td>\n",
       "            </tr>\n",
       "            <tr>\n",
       "                        <th id=\"T_a67b1dda_05f2_11ea_a6fb_107b449f15fclevel0_row5\" class=\"row_heading level0 row5\" >история</th>\n",
       "                        <td id=\"T_a67b1dda_05f2_11ea_a6fb_107b449f15fcrow5_col0\" class=\"data row5 col0\" >0.04809</td>\n",
       "            </tr>\n",
       "            <tr>\n",
       "                        <th id=\"T_a67b1dda_05f2_11ea_a6fb_107b449f15fclevel0_row6\" class=\"row_heading level0 row6\" >медиевистика</th>\n",
       "                        <td id=\"T_a67b1dda_05f2_11ea_a6fb_107b449f15fcrow6_col0\" class=\"data row6 col0\" >0.03023</td>\n",
       "            </tr>\n",
       "            <tr>\n",
       "                        <th id=\"T_a67b1dda_05f2_11ea_a6fb_107b449f15fclevel0_row7\" class=\"row_heading level0 row7\" >инквизиция</th>\n",
       "                        <td id=\"T_a67b1dda_05f2_11ea_a6fb_107b449f15fcrow7_col0\" class=\"data row7 col0\" >0.0302</td>\n",
       "            </tr>\n",
       "            <tr>\n",
       "                        <th id=\"T_a67b1dda_05f2_11ea_a6fb_107b449f15fclevel0_row8\" class=\"row_heading level0 row8\" >англия</th>\n",
       "                        <td id=\"T_a67b1dda_05f2_11ea_a6fb_107b449f15fcrow8_col0\" class=\"data row8 col0\" >0.02953</td>\n",
       "            </tr>\n",
       "            <tr>\n",
       "                        <th id=\"T_a67b1dda_05f2_11ea_a6fb_107b449f15fclevel0_row9\" class=\"row_heading level0 row9\" >религия</th>\n",
       "                        <td id=\"T_a67b1dda_05f2_11ea_a6fb_107b449f15fcrow9_col0\" class=\"data row9 col0\" >0.02255</td>\n",
       "            </tr>\n",
       "    </tbody></table><style  type=\"text/css\" >\n",
       "</style><table id=\"T_a67b1ddb_05f2_11ea_a6fb_107b449f15fc\" style='display:inline'><thead>    <tr>        <th class=\"blank level0\" ></th>        <th class=\"col_heading level0 col0\" >topic_19 @word</th>    </tr></thead><tbody>\n",
       "                <tr>\n",
       "                        <th id=\"T_a67b1ddb_05f2_11ea_a6fb_107b449f15fclevel0_row0\" class=\"row_heading level0 row0\" >церковь</th>\n",
       "                        <td id=\"T_a67b1ddb_05f2_11ea_a6fb_107b449f15fcrow0_col0\" class=\"data row0 col0\" >0.00872</td>\n",
       "            </tr>\n",
       "            <tr>\n",
       "                        <th id=\"T_a67b1ddb_05f2_11ea_a6fb_107b449f15fclevel0_row1\" class=\"row_heading level0 row1\" >король</th>\n",
       "                        <td id=\"T_a67b1ddb_05f2_11ea_a6fb_107b449f15fcrow1_col0\" class=\"data row1 col0\" >0.00811</td>\n",
       "            </tr>\n",
       "            <tr>\n",
       "                        <th id=\"T_a67b1ddb_05f2_11ea_a6fb_107b449f15fclevel0_row2\" class=\"row_heading level0 row2\" >власть</th>\n",
       "                        <td id=\"T_a67b1ddb_05f2_11ea_a6fb_107b449f15fcrow2_col0\" class=\"data row2 col0\" >0.00717</td>\n",
       "            </tr>\n",
       "            <tr>\n",
       "                        <th id=\"T_a67b1ddb_05f2_11ea_a6fb_107b449f15fclevel0_row3\" class=\"row_heading level0 row3\" >бог</th>\n",
       "                        <td id=\"T_a67b1ddb_05f2_11ea_a6fb_107b449f15fcrow3_col0\" class=\"data row3 col0\" >0.00608</td>\n",
       "            </tr>\n",
       "            <tr>\n",
       "                        <th id=\"T_a67b1ddb_05f2_11ea_a6fb_107b449f15fclevel0_row4\" class=\"row_heading level0 row4\" >средневековый</th>\n",
       "                        <td id=\"T_a67b1ddb_05f2_11ea_a6fb_107b449f15fcrow4_col0\" class=\"data row4 col0\" >0.00565</td>\n",
       "            </tr>\n",
       "            <tr>\n",
       "                        <th id=\"T_a67b1ddb_05f2_11ea_a6fb_107b449f15fclevel0_row5\" class=\"row_heading level0 row5\" >христианский</th>\n",
       "                        <td id=\"T_a67b1ddb_05f2_11ea_a6fb_107b449f15fcrow5_col0\" class=\"data row5 col0\" >0.00516</td>\n",
       "            </tr>\n",
       "            <tr>\n",
       "                        <th id=\"T_a67b1ddb_05f2_11ea_a6fb_107b449f15fclevel0_row6\" class=\"row_heading level0 row6\" >имя</th>\n",
       "                        <td id=\"T_a67b1ddb_05f2_11ea_a6fb_107b449f15fcrow6_col0\" class=\"data row6 col0\" >0.00443</td>\n",
       "            </tr>\n",
       "            <tr>\n",
       "                        <th id=\"T_a67b1ddb_05f2_11ea_a6fb_107b449f15fclevel0_row7\" class=\"row_heading level0 row7\" >святой</th>\n",
       "                        <td id=\"T_a67b1ddb_05f2_11ea_a6fb_107b449f15fcrow7_col0\" class=\"data row7 col0\" >0.00429</td>\n",
       "            </tr>\n",
       "            <tr>\n",
       "                        <th id=\"T_a67b1ddb_05f2_11ea_a6fb_107b449f15fclevel0_row8\" class=\"row_heading level0 row8\" >образ</th>\n",
       "                        <td id=\"T_a67b1ddb_05f2_11ea_a6fb_107b449f15fcrow8_col0\" class=\"data row8 col0\" >0.00414</td>\n",
       "            </tr>\n",
       "            <tr>\n",
       "                        <th id=\"T_a67b1ddb_05f2_11ea_a6fb_107b449f15fclevel0_row9\" class=\"row_heading level0 row9\" >император</th>\n",
       "                        <td id=\"T_a67b1ddb_05f2_11ea_a6fb_107b449f15fcrow9_col0\" class=\"data row9 col0\" >0.00378</td>\n",
       "            </tr>\n",
       "    </tbody></table>"
      ]
     },
     "metadata": {},
     "output_type": "display_data"
    },
    {
     "data": {
      "text/html": [
       "<b> телесность власти в средние века </b><br /> историк михаил бойцов о качествах тела правителя, знаках власти и трупном синоде"
      ]
     },
     "metadata": {},
     "output_type": "display_data"
    },
    {
     "data": {
      "text/html": [
       "<b> вступление правителя в его город </b><br /> историк михаил бойцов о легитимации власти в средневековье, образе государя как иисуса христа и традициях встречи горожанами своего правителя"
      ]
     },
     "metadata": {},
     "output_type": "display_data"
    },
    {
     "data": {
      "text/html": [
       "<b> faqинститут папства </b><br /> 7 фактов о главе католического мира и процедуре его избрания"
      ]
     },
     "metadata": {},
     "output_type": "display_data"
    },
    {
     "data": {
      "text/html": [
       "<b> главыстроительство церкви и его интерпретации </b><br /> отрывок из книги медиевиста ирины галковой «церкви и всадники. романские храмы пуату и их заказчики» о становлении в европейской культуре феномена родовой церкви"
      ]
     },
     "metadata": {},
     "output_type": "display_data"
    },
    {
     "data": {
      "text/html": [
       "<b> «ритуалы — это и есть власть» </b><br /> интервью с историком михаилом бойцовым об обряде средневековой коронации, практике помазания и статусе королевской власти в европе"
      ]
     },
     "metadata": {},
     "output_type": "display_data"
    },
    {
     "data": {
      "text/html": [
       "<b> «главная загадка варфоломеевской ночикто стоял за покушением на адмирала колиньи» </b><br /> интервью с историком павлом уваровым о религиозных войнах в европе и событиях, предшествовавших варфоломеевской ночи"
      ]
     },
     "metadata": {},
     "output_type": "display_data"
    },
    {
     "data": {
      "text/html": [
       "<b> faqсредневековая иудео-христианская полемика </b><br /> 7 фактов о развитии диалога между христианством и иудаизмом и публичных диспутах средневековья"
      ]
     },
     "metadata": {},
     "output_type": "display_data"
    },
    {
     "data": {
      "text/html": [
       "<b> главы # аристотель в аду? </b><br /> отрывок из книги «тысячелетнее царство (300–1300). очерк христианской культуры запада» историка олега воскобойникова о рецепции аристотелизма в средние века"
      ]
     },
     "metadata": {},
     "output_type": "display_data"
    },
    {
     "data": {
      "text/html": [
       "<b> политическая философия мартина лютера </b><br /> историк александр марей о национализации церкви, роли светской власти и бессилии человеческого разума"
      ]
     },
     "metadata": {},
     "output_type": "display_data"
    },
    {
     "data": {
      "text/html": [
       "<b> погребение правителей в средневековой европе </b><br /> историк михаил бойцов о погребальных церемониях, местах похорон и посмертной власти средневековых государей"
      ]
     },
     "metadata": {},
     "output_type": "display_data"
    },
    {
     "data": {
      "text/html": [
       "<style  type=\"text/css\" >\n",
       "</style><table id=\"T_a67b1ddc_05f2_11ea_a6fb_107b449f15fc\" style='display:inline'><thead>    <tr>        <th class=\"blank level0\" ></th>        <th class=\"col_heading level0 col0\" >topic_20 @2gramm</th>    </tr></thead><tbody>\n",
       "                <tr>\n",
       "                        <th id=\"T_a67b1ddc_05f2_11ea_a6fb_107b449f15fclevel0_row0\" class=\"row_heading level0 row0\" >искусственный_интеллект</th>\n",
       "                        <td id=\"T_a67b1ddc_05f2_11ea_a6fb_107b449f15fcrow0_col0\" class=\"data row0 col0\" >0.03167</td>\n",
       "            </tr>\n",
       "            <tr>\n",
       "                        <th id=\"T_a67b1ddc_05f2_11ea_a6fb_107b449f15fclevel0_row1\" class=\"row_heading level0 row1\" >социальный_сеть</th>\n",
       "                        <td id=\"T_a67b1ddc_05f2_11ea_a6fb_107b449f15fcrow1_col0\" class=\"data row1 col0\" >0.02035</td>\n",
       "            </tr>\n",
       "            <tr>\n",
       "                        <th id=\"T_a67b1ddc_05f2_11ea_a6fb_107b449f15fclevel0_row2\" class=\"row_heading level0 row2\" >нейронный_сеть</th>\n",
       "                        <td id=\"T_a67b1ddc_05f2_11ea_a6fb_107b449f15fcrow2_col0\" class=\"data row2 col0\" >0.01933</td>\n",
       "            </tr>\n",
       "            <tr>\n",
       "                        <th id=\"T_a67b1ddc_05f2_11ea_a6fb_107b449f15fclevel0_row3\" class=\"row_heading level0 row3\" >программный_обеспечение</th>\n",
       "                        <td id=\"T_a67b1ddc_05f2_11ea_a6fb_107b449f15fcrow3_col0\" class=\"data row3 col0\" >0.01451</td>\n",
       "            </tr>\n",
       "            <tr>\n",
       "                        <th id=\"T_a67b1ddc_05f2_11ea_a6fb_107b449f15fclevel0_row4\" class=\"row_heading level0 row4\" >машинный_обучение</th>\n",
       "                        <td id=\"T_a67b1ddc_05f2_11ea_a6fb_107b449f15fcrow4_col0\" class=\"data row4 col0\" >0.01093</td>\n",
       "            </tr>\n",
       "            <tr>\n",
       "                        <th id=\"T_a67b1ddc_05f2_11ea_a6fb_107b449f15fclevel0_row5\" class=\"row_heading level0 row5\" >база_дать</th>\n",
       "                        <td id=\"T_a67b1ddc_05f2_11ea_a6fb_107b449f15fcrow5_col0\" class=\"data row5 col0\" >0.01079</td>\n",
       "            </tr>\n",
       "            <tr>\n",
       "                        <th id=\"T_a67b1ddc_05f2_11ea_a6fb_107b449f15fclevel0_row6\" class=\"row_heading level0 row6\" >компьютерный_наука</th>\n",
       "                        <td id=\"T_a67b1ddc_05f2_11ea_a6fb_107b449f15fcrow6_col0\" class=\"data row6 col0\" >0.00945</td>\n",
       "            </tr>\n",
       "            <tr>\n",
       "                        <th id=\"T_a67b1ddc_05f2_11ea_a6fb_107b449f15fclevel0_row7\" class=\"row_heading level0 row7\" >анализ_дать</th>\n",
       "                        <td id=\"T_a67b1ddc_05f2_11ea_a6fb_107b449f15fcrow7_col0\" class=\"data row7 col0\" >0.0087</td>\n",
       "            </tr>\n",
       "            <tr>\n",
       "                        <th id=\"T_a67b1ddc_05f2_11ea_a6fb_107b449f15fclevel0_row8\" class=\"row_heading level0 row8\" >язык_программирование</th>\n",
       "                        <td id=\"T_a67b1ddc_05f2_11ea_a6fb_107b449f15fcrow8_col0\" class=\"data row8 col0\" >0.00722</td>\n",
       "            </tr>\n",
       "            <tr>\n",
       "                        <th id=\"T_a67b1ddc_05f2_11ea_a6fb_107b449f15fclevel0_row9\" class=\"row_heading level0 row9\" >операционный_система</th>\n",
       "                        <td id=\"T_a67b1ddc_05f2_11ea_a6fb_107b449f15fcrow9_col0\" class=\"data row9 col0\" >0.00698</td>\n",
       "            </tr>\n",
       "    </tbody></table><style  type=\"text/css\" >\n",
       "</style><table id=\"T_a67b1ddd_05f2_11ea_a6fb_107b449f15fc\" style='display:inline'><thead>    <tr>        <th class=\"blank level0\" ></th>        <th class=\"col_heading level0 col0\" >topic_20 @3gramm</th>    </tr></thead><tbody>\n",
       "        </tbody></table><style  type=\"text/css\" >\n",
       "</style><table id=\"T_a67b1dde_05f2_11ea_a6fb_107b449f15fc\" style='display:inline'><thead>    <tr>        <th class=\"blank level0\" ></th>        <th class=\"col_heading level0 col0\" >topic_20 @post_tag</th>    </tr></thead><tbody>\n",
       "                <tr>\n",
       "                        <th id=\"T_a67b1dde_05f2_11ea_a6fb_107b449f15fclevel0_row0\" class=\"row_heading level0 row0\" >математика</th>\n",
       "                        <td id=\"T_a67b1dde_05f2_11ea_a6fb_107b449f15fcrow0_col0\" class=\"data row0 col0\" >0.22476</td>\n",
       "            </tr>\n",
       "            <tr>\n",
       "                        <th id=\"T_a67b1dde_05f2_11ea_a6fb_107b449f15fclevel0_row1\" class=\"row_heading level0 row1\" >информационные_технологии</th>\n",
       "                        <td id=\"T_a67b1dde_05f2_11ea_a6fb_107b449f15fcrow1_col0\" class=\"data row1 col0\" >0.13577</td>\n",
       "            </tr>\n",
       "            <tr>\n",
       "                        <th id=\"T_a67b1dde_05f2_11ea_a6fb_107b449f15fclevel0_row2\" class=\"row_heading level0 row2\" >интернет</th>\n",
       "                        <td id=\"T_a67b1dde_05f2_11ea_a6fb_107b449f15fcrow2_col0\" class=\"data row2 col0\" >0.08683</td>\n",
       "            </tr>\n",
       "            <tr>\n",
       "                        <th id=\"T_a67b1dde_05f2_11ea_a6fb_107b449f15fclevel0_row3\" class=\"row_heading level0 row3\" >искусственный_интеллект</th>\n",
       "                        <td id=\"T_a67b1dde_05f2_11ea_a6fb_107b449f15fcrow3_col0\" class=\"data row3 col0\" >0.06994</td>\n",
       "            </tr>\n",
       "            <tr>\n",
       "                        <th id=\"T_a67b1dde_05f2_11ea_a6fb_107b449f15fclevel0_row4\" class=\"row_heading level0 row4\" >технологии</th>\n",
       "                        <td id=\"T_a67b1dde_05f2_11ea_a6fb_107b449f15fcrow4_col0\" class=\"data row4 col0\" >0.06896</td>\n",
       "            </tr>\n",
       "            <tr>\n",
       "                        <th id=\"T_a67b1dde_05f2_11ea_a6fb_107b449f15fclevel0_row5\" class=\"row_heading level0 row5\" >информатика</th>\n",
       "                        <td id=\"T_a67b1dde_05f2_11ea_a6fb_107b449f15fcrow5_col0\" class=\"data row5 col0\" >0.06031</td>\n",
       "            </tr>\n",
       "            <tr>\n",
       "                        <th id=\"T_a67b1dde_05f2_11ea_a6fb_107b449f15fclevel0_row6\" class=\"row_heading level0 row6\" >computer_science</th>\n",
       "                        <td id=\"T_a67b1dde_05f2_11ea_a6fb_107b449f15fcrow6_col0\" class=\"data row6 col0\" >0.03518</td>\n",
       "            </tr>\n",
       "            <tr>\n",
       "                        <th id=\"T_a67b1dde_05f2_11ea_a6fb_107b449f15fclevel0_row7\" class=\"row_heading level0 row7\" >робототехника</th>\n",
       "                        <td id=\"T_a67b1dde_05f2_11ea_a6fb_107b449f15fcrow7_col0\" class=\"data row7 col0\" >0.03329</td>\n",
       "            </tr>\n",
       "            <tr>\n",
       "                        <th id=\"T_a67b1dde_05f2_11ea_a6fb_107b449f15fclevel0_row8\" class=\"row_heading level0 row8\" >робот</th>\n",
       "                        <td id=\"T_a67b1dde_05f2_11ea_a6fb_107b449f15fcrow8_col0\" class=\"data row8 col0\" >0.03003</td>\n",
       "            </tr>\n",
       "            <tr>\n",
       "                        <th id=\"T_a67b1dde_05f2_11ea_a6fb_107b449f15fclevel0_row9\" class=\"row_heading level0 row9\" >социальные_сети</th>\n",
       "                        <td id=\"T_a67b1dde_05f2_11ea_a6fb_107b449f15fcrow9_col0\" class=\"data row9 col0\" >0.02144</td>\n",
       "            </tr>\n",
       "    </tbody></table><style  type=\"text/css\" >\n",
       "</style><table id=\"T_a67b1ddf_05f2_11ea_a6fb_107b449f15fc\" style='display:inline'><thead>    <tr>        <th class=\"blank level0\" ></th>        <th class=\"col_heading level0 col0\" >topic_20 @word</th>    </tr></thead><tbody>\n",
       "                <tr>\n",
       "                        <th id=\"T_a67b1ddf_05f2_11ea_a6fb_107b449f15fclevel0_row0\" class=\"row_heading level0 row0\" >дать</th>\n",
       "                        <td id=\"T_a67b1ddf_05f2_11ea_a6fb_107b449f15fcrow0_col0\" class=\"data row0 col0\" >0.01064</td>\n",
       "            </tr>\n",
       "            <tr>\n",
       "                        <th id=\"T_a67b1ddf_05f2_11ea_a6fb_107b449f15fclevel0_row1\" class=\"row_heading level0 row1\" >задача</th>\n",
       "                        <td id=\"T_a67b1ddf_05f2_11ea_a6fb_107b449f15fcrow1_col0\" class=\"data row1 col0\" >0.00966</td>\n",
       "            </tr>\n",
       "            <tr>\n",
       "                        <th id=\"T_a67b1ddf_05f2_11ea_a6fb_107b449f15fclevel0_row2\" class=\"row_heading level0 row2\" >сеть</th>\n",
       "                        <td id=\"T_a67b1ddf_05f2_11ea_a6fb_107b449f15fcrow2_col0\" class=\"data row2 col0\" >0.00862</td>\n",
       "            </tr>\n",
       "            <tr>\n",
       "                        <th id=\"T_a67b1ddf_05f2_11ea_a6fb_107b449f15fclevel0_row3\" class=\"row_heading level0 row3\" >компьютер</th>\n",
       "                        <td id=\"T_a67b1ddf_05f2_11ea_a6fb_107b449f15fcrow3_col0\" class=\"data row3 col0\" >0.00816</td>\n",
       "            </tr>\n",
       "            <tr>\n",
       "                        <th id=\"T_a67b1ddf_05f2_11ea_a6fb_107b449f15fclevel0_row4\" class=\"row_heading level0 row4\" >робот</th>\n",
       "                        <td id=\"T_a67b1ddf_05f2_11ea_a6fb_107b449f15fcrow4_col0\" class=\"data row4 col0\" >0.00798</td>\n",
       "            </tr>\n",
       "            <tr>\n",
       "                        <th id=\"T_a67b1ddf_05f2_11ea_a6fb_107b449f15fclevel0_row5\" class=\"row_heading level0 row5\" >система</th>\n",
       "                        <td id=\"T_a67b1ddf_05f2_11ea_a6fb_107b449f15fcrow5_col0\" class=\"data row5 col0\" >0.00753</td>\n",
       "            </tr>\n",
       "            <tr>\n",
       "                        <th id=\"T_a67b1ddf_05f2_11ea_a6fb_107b449f15fclevel0_row6\" class=\"row_heading level0 row6\" >программа</th>\n",
       "                        <td id=\"T_a67b1ddf_05f2_11ea_a6fb_107b449f15fcrow6_col0\" class=\"data row6 col0\" >0.00666</td>\n",
       "            </tr>\n",
       "            <tr>\n",
       "                        <th id=\"T_a67b1ddf_05f2_11ea_a6fb_107b449f15fclevel0_row7\" class=\"row_heading level0 row7\" >алгоритм</th>\n",
       "                        <td id=\"T_a67b1ddf_05f2_11ea_a6fb_107b449f15fcrow7_col0\" class=\"data row7 col0\" >0.00624</td>\n",
       "            </tr>\n",
       "            <tr>\n",
       "                        <th id=\"T_a67b1ddf_05f2_11ea_a6fb_107b449f15fclevel0_row8\" class=\"row_heading level0 row8\" >математика</th>\n",
       "                        <td id=\"T_a67b1ddf_05f2_11ea_a6fb_107b449f15fcrow8_col0\" class=\"data row8 col0\" >0.00604</td>\n",
       "            </tr>\n",
       "            <tr>\n",
       "                        <th id=\"T_a67b1ddf_05f2_11ea_a6fb_107b449f15fclevel0_row9\" class=\"row_heading level0 row9\" >модель</th>\n",
       "                        <td id=\"T_a67b1ddf_05f2_11ea_a6fb_107b449f15fcrow9_col0\" class=\"data row9 col0\" >0.00546</td>\n",
       "            </tr>\n",
       "    </tbody></table>"
      ]
     },
     "metadata": {},
     "output_type": "display_data"
    },
    {
     "data": {
      "text/html": [
       "<b> технология ухода от баз данных в программировании </b><br /> инженер антон чижов о преимуществах оперативной памяти, способах хранения данных и системе «апрентис»"
      ]
     },
     "metadata": {},
     "output_type": "display_data"
    },
    {
     "data": {
      "text/html": [
       "<b> как обучить нейросеть понимать смысл текста программы? </b><br /> о машинном обучении, отличии формальных языков от естественных и обучающих выборках"
      ]
     },
     "metadata": {},
     "output_type": "display_data"
    },
    {
     "data": {
      "text/html": [
       "<b> механизмы управления репутацией в социальных сетях </b><br /> специалист по компьютерным наукам джу йонг ли об анализе социальных сетей, институте репутации и феномене дружбы в facebook"
      ]
     },
     "metadata": {},
     "output_type": "display_data"
    },
    {
     "data": {
      "text/html": [
       "<b> математические методы прогнозирования объемов продаж </b><br /> математик константин воронцов о применении задач машинного обучения в бизнесе, композициях адаптивных моделей и усовершенствовании качества данных"
      ]
     },
     "metadata": {},
     "output_type": "display_data"
    },
    {
     "data": {
      "text/html": [
       "<b> разработка корпоративных информационных систем </b><br /> информатик сергей зыков о возникновении программной инженерии, сложности корпоративных систем и развитии технологий"
      ]
     },
     "metadata": {},
     "output_type": "display_data"
    },
    {
     "data": {
      "text/html": [
       "<b> машина тьюринга </b><br /> 7 фактов об идее универсальной машины, ее функциях и задачах"
      ]
     },
     "metadata": {},
     "output_type": "display_data"
    },
    {
     "data": {
      "text/html": [
       "<b> моделирование интеграции веб-сервисов </b><br /> специалист в компьютерных науках мануэль маццара о языке bpel, пи-исчислениях и перспективах микросервисов"
      ]
     },
     "metadata": {},
     "output_type": "display_data"
    },
    {
     "data": {
      "text/html": [
       "<b> архитектура программного обеспечения </b><br /> программист мэтью басс об усложнении программного обеспечения, возникновении новой дисциплины и системах клиент-сервер"
      ]
     },
     "metadata": {},
     "output_type": "display_data"
    },
    {
     "data": {
      "text/html": [
       "<b> главы # новая нормальность </b><br /> отрывок из книги «удовольствие от x»  профессора прикладной математики в корнелльском университете сша стивена строгаца"
      ]
     },
     "metadata": {},
     "output_type": "display_data"
    },
    {
     "data": {
      "text/html": [
       "<b> анализ социальных сетей в интернете </b><br /> специалист по современной технике медиакоммуникаций берни хоган o  том, как собирались и анализировались электронные социальные сети  и что могут дать их исследования"
      ]
     },
     "metadata": {},
     "output_type": "display_data"
    },
    {
     "data": {
      "text/html": [
       "<style  type=\"text/css\" >\n",
       "</style><table id=\"T_a67b1de0_05f2_11ea_a6fb_107b449f15fc\" style='display:inline'><thead>    <tr>        <th class=\"blank level0\" ></th>        <th class=\"col_heading level0 col0\" >topic_21 @2gramm</th>    </tr></thead><tbody>\n",
       "                <tr>\n",
       "                        <th id=\"T_a67b1de0_05f2_11ea_a6fb_107b449f15fclevel0_row0\" class=\"row_heading level0 row0\" >молекула_днк</th>\n",
       "                        <td id=\"T_a67b1de0_05f2_11ea_a6fb_107b449f15fcrow0_col0\" class=\"data row0 col0\" >0.01735</td>\n",
       "            </tr>\n",
       "            <tr>\n",
       "                        <th id=\"T_a67b1de0_05f2_11ea_a6fb_107b449f15fclevel0_row1\" class=\"row_heading level0 row1\" >генетический_информация</th>\n",
       "                        <td id=\"T_a67b1de0_05f2_11ea_a6fb_107b449f15fcrow1_col0\" class=\"data row1 col0\" >0.01378</td>\n",
       "            </tr>\n",
       "            <tr>\n",
       "                        <th id=\"T_a67b1de0_05f2_11ea_a6fb_107b449f15fclevel0_row2\" class=\"row_heading level0 row2\" >живой_организм</th>\n",
       "                        <td id=\"T_a67b1de0_05f2_11ea_a6fb_107b449f15fcrow2_col0\" class=\"data row2 col0\" >0.01052</td>\n",
       "            </tr>\n",
       "            <tr>\n",
       "                        <th id=\"T_a67b1de0_05f2_11ea_a6fb_107b449f15fclevel0_row3\" class=\"row_heading level0 row3\" >генный_инженерия</th>\n",
       "                        <td id=\"T_a67b1de0_05f2_11ea_a6fb_107b449f15fcrow3_col0\" class=\"data row3 col0\" >0.00806</td>\n",
       "            </tr>\n",
       "            <tr>\n",
       "                        <th id=\"T_a67b1de0_05f2_11ea_a6fb_107b449f15fclevel0_row4\" class=\"row_heading level0 row4\" >последовательность_днк</th>\n",
       "                        <td id=\"T_a67b1de0_05f2_11ea_a6fb_107b449f15fcrow4_col0\" class=\"data row4 col0\" >0.00804</td>\n",
       "            </tr>\n",
       "            <tr>\n",
       "                        <th id=\"T_a67b1de0_05f2_11ea_a6fb_107b449f15fclevel0_row5\" class=\"row_heading level0 row5\" >кишечный_палочка</th>\n",
       "                        <td id=\"T_a67b1de0_05f2_11ea_a6fb_107b449f15fcrow5_col0\" class=\"data row5 col0\" >0.00803</td>\n",
       "            </tr>\n",
       "            <tr>\n",
       "                        <th id=\"T_a67b1de0_05f2_11ea_a6fb_107b449f15fclevel0_row6\" class=\"row_heading level0 row6\" >трансгенный_растение</th>\n",
       "                        <td id=\"T_a67b1de0_05f2_11ea_a6fb_107b449f15fcrow6_col0\" class=\"data row6 col0\" >0.00797</td>\n",
       "            </tr>\n",
       "            <tr>\n",
       "                        <th id=\"T_a67b1de0_05f2_11ea_a6fb_107b449f15fclevel0_row7\" class=\"row_heading level0 row7\" >молекулярный_биология</th>\n",
       "                        <td id=\"T_a67b1de0_05f2_11ea_a6fb_107b449f15fcrow7_col0\" class=\"data row7 col0\" >0.0077</td>\n",
       "            </tr>\n",
       "            <tr>\n",
       "                        <th id=\"T_a67b1de0_05f2_11ea_a6fb_107b449f15fclevel0_row8\" class=\"row_heading level0 row8\" >двойной_спираль</th>\n",
       "                        <td id=\"T_a67b1de0_05f2_11ea_a6fb_107b449f15fcrow8_col0\" class=\"data row8 col0\" >0.00738</td>\n",
       "            </tr>\n",
       "            <tr>\n",
       "                        <th id=\"T_a67b1de0_05f2_11ea_a6fb_107b449f15fclevel0_row9\" class=\"row_heading level0 row9\" >живой_клетка</th>\n",
       "                        <td id=\"T_a67b1de0_05f2_11ea_a6fb_107b449f15fcrow9_col0\" class=\"data row9 col0\" >0.00692</td>\n",
       "            </tr>\n",
       "    </tbody></table><style  type=\"text/css\" >\n",
       "</style><table id=\"T_a67b1de1_05f2_11ea_a6fb_107b449f15fc\" style='display:inline'><thead>    <tr>        <th class=\"blank level0\" ></th>        <th class=\"col_heading level0 col0\" >topic_21 @3gramm</th>    </tr></thead><tbody>\n",
       "        </tbody></table><style  type=\"text/css\" >\n",
       "</style><table id=\"T_a67b1de2_05f2_11ea_a6fb_107b449f15fc\" style='display:inline'><thead>    <tr>        <th class=\"blank level0\" ></th>        <th class=\"col_heading level0 col0\" >topic_21 @post_tag</th>    </tr></thead><tbody>\n",
       "                <tr>\n",
       "                        <th id=\"T_a67b1de2_05f2_11ea_a6fb_107b449f15fclevel0_row0\" class=\"row_heading level0 row0\" >днк</th>\n",
       "                        <td id=\"T_a67b1de2_05f2_11ea_a6fb_107b449f15fcrow0_col0\" class=\"data row0 col0\" >0.10065</td>\n",
       "            </tr>\n",
       "            <tr>\n",
       "                        <th id=\"T_a67b1de2_05f2_11ea_a6fb_107b449f15fclevel0_row1\" class=\"row_heading level0 row1\" >ген</th>\n",
       "                        <td id=\"T_a67b1de2_05f2_11ea_a6fb_107b449f15fcrow1_col0\" class=\"data row1 col0\" >0.09761</td>\n",
       "            </tr>\n",
       "            <tr>\n",
       "                        <th id=\"T_a67b1de2_05f2_11ea_a6fb_107b449f15fclevel0_row2\" class=\"row_heading level0 row2\" >геном</th>\n",
       "                        <td id=\"T_a67b1de2_05f2_11ea_a6fb_107b449f15fcrow2_col0\" class=\"data row2 col0\" >0.09332</td>\n",
       "            </tr>\n",
       "            <tr>\n",
       "                        <th id=\"T_a67b1de2_05f2_11ea_a6fb_107b449f15fclevel0_row3\" class=\"row_heading level0 row3\" >микробиология</th>\n",
       "                        <td id=\"T_a67b1de2_05f2_11ea_a6fb_107b449f15fcrow3_col0\" class=\"data row3 col0\" >0.0852</td>\n",
       "            </tr>\n",
       "            <tr>\n",
       "                        <th id=\"T_a67b1de2_05f2_11ea_a6fb_107b449f15fclevel0_row4\" class=\"row_heading level0 row4\" >генетика</th>\n",
       "                        <td id=\"T_a67b1de2_05f2_11ea_a6fb_107b449f15fcrow4_col0\" class=\"data row4 col0\" >0.08281</td>\n",
       "            </tr>\n",
       "            <tr>\n",
       "                        <th id=\"T_a67b1de2_05f2_11ea_a6fb_107b449f15fclevel0_row5\" class=\"row_heading level0 row5\" >клетка</th>\n",
       "                        <td id=\"T_a67b1de2_05f2_11ea_a6fb_107b449f15fcrow5_col0\" class=\"data row5 col0\" >0.06602</td>\n",
       "            </tr>\n",
       "            <tr>\n",
       "                        <th id=\"T_a67b1de2_05f2_11ea_a6fb_107b449f15fclevel0_row6\" class=\"row_heading level0 row6\" >биология</th>\n",
       "                        <td id=\"T_a67b1de2_05f2_11ea_a6fb_107b449f15fcrow6_col0\" class=\"data row6 col0\" >0.06305</td>\n",
       "            </tr>\n",
       "            <tr>\n",
       "                        <th id=\"T_a67b1de2_05f2_11ea_a6fb_107b449f15fclevel0_row7\" class=\"row_heading level0 row7\" >бактерии</th>\n",
       "                        <td id=\"T_a67b1de2_05f2_11ea_a6fb_107b449f15fcrow7_col0\" class=\"data row7 col0\" >0.04617</td>\n",
       "            </tr>\n",
       "            <tr>\n",
       "                        <th id=\"T_a67b1de2_05f2_11ea_a6fb_107b449f15fclevel0_row8\" class=\"row_heading level0 row8\" >микробы</th>\n",
       "                        <td id=\"T_a67b1de2_05f2_11ea_a6fb_107b449f15fcrow8_col0\" class=\"data row8 col0\" >0.03898</td>\n",
       "            </tr>\n",
       "            <tr>\n",
       "                        <th id=\"T_a67b1de2_05f2_11ea_a6fb_107b449f15fclevel0_row9\" class=\"row_heading level0 row9\" >белки</th>\n",
       "                        <td id=\"T_a67b1de2_05f2_11ea_a6fb_107b449f15fcrow9_col0\" class=\"data row9 col0\" >0.03667</td>\n",
       "            </tr>\n",
       "    </tbody></table><style  type=\"text/css\" >\n",
       "</style><table id=\"T_a67b1de3_05f2_11ea_a6fb_107b449f15fc\" style='display:inline'><thead>    <tr>        <th class=\"blank level0\" ></th>        <th class=\"col_heading level0 col0\" >topic_21 @word</th>    </tr></thead><tbody>\n",
       "                <tr>\n",
       "                        <th id=\"T_a67b1de3_05f2_11ea_a6fb_107b449f15fclevel0_row0\" class=\"row_heading level0 row0\" >клетка</th>\n",
       "                        <td id=\"T_a67b1de3_05f2_11ea_a6fb_107b449f15fcrow0_col0\" class=\"data row0 col0\" >0.02041</td>\n",
       "            </tr>\n",
       "            <tr>\n",
       "                        <th id=\"T_a67b1de3_05f2_11ea_a6fb_107b449f15fclevel0_row1\" class=\"row_heading level0 row1\" >ген</th>\n",
       "                        <td id=\"T_a67b1de3_05f2_11ea_a6fb_107b449f15fcrow1_col0\" class=\"data row1 col0\" >0.01867</td>\n",
       "            </tr>\n",
       "            <tr>\n",
       "                        <th id=\"T_a67b1de3_05f2_11ea_a6fb_107b449f15fclevel0_row2\" class=\"row_heading level0 row2\" >днк</th>\n",
       "                        <td id=\"T_a67b1de3_05f2_11ea_a6fb_107b449f15fcrow2_col0\" class=\"data row2 col0\" >0.01381</td>\n",
       "            </tr>\n",
       "            <tr>\n",
       "                        <th id=\"T_a67b1de3_05f2_11ea_a6fb_107b449f15fclevel0_row3\" class=\"row_heading level0 row3\" >бактерия</th>\n",
       "                        <td id=\"T_a67b1de3_05f2_11ea_a6fb_107b449f15fcrow3_col0\" class=\"data row3 col0\" >0.01087</td>\n",
       "            </tr>\n",
       "            <tr>\n",
       "                        <th id=\"T_a67b1de3_05f2_11ea_a6fb_107b449f15fclevel0_row4\" class=\"row_heading level0 row4\" >белка</th>\n",
       "                        <td id=\"T_a67b1de3_05f2_11ea_a6fb_107b449f15fcrow4_col0\" class=\"data row4 col0\" >0.0102</td>\n",
       "            </tr>\n",
       "            <tr>\n",
       "                        <th id=\"T_a67b1de3_05f2_11ea_a6fb_107b449f15fclevel0_row5\" class=\"row_heading level0 row5\" >организм</th>\n",
       "                        <td id=\"T_a67b1de3_05f2_11ea_a6fb_107b449f15fcrow5_col0\" class=\"data row5 col0\" >0.00923</td>\n",
       "            </tr>\n",
       "            <tr>\n",
       "                        <th id=\"T_a67b1de3_05f2_11ea_a6fb_107b449f15fclevel0_row6\" class=\"row_heading level0 row6\" >геном</th>\n",
       "                        <td id=\"T_a67b1de3_05f2_11ea_a6fb_107b449f15fcrow6_col0\" class=\"data row6 col0\" >0.00914</td>\n",
       "            </tr>\n",
       "            <tr>\n",
       "                        <th id=\"T_a67b1de3_05f2_11ea_a6fb_107b449f15fclevel0_row7\" class=\"row_heading level0 row7\" >белок</th>\n",
       "                        <td id=\"T_a67b1de3_05f2_11ea_a6fb_107b449f15fcrow7_col0\" class=\"data row7 col0\" >0.00718</td>\n",
       "            </tr>\n",
       "            <tr>\n",
       "                        <th id=\"T_a67b1de3_05f2_11ea_a6fb_107b449f15fclevel0_row8\" class=\"row_heading level0 row8\" >микроорганизм</th>\n",
       "                        <td id=\"T_a67b1de3_05f2_11ea_a6fb_107b449f15fcrow8_col0\" class=\"data row8 col0\" >0.00699</td>\n",
       "            </tr>\n",
       "            <tr>\n",
       "                        <th id=\"T_a67b1de3_05f2_11ea_a6fb_107b449f15fclevel0_row9\" class=\"row_heading level0 row9\" >мутация</th>\n",
       "                        <td id=\"T_a67b1de3_05f2_11ea_a6fb_107b449f15fcrow9_col0\" class=\"data row9 col0\" >0.00593</td>\n",
       "            </tr>\n",
       "    </tbody></table>"
      ]
     },
     "metadata": {},
     "output_type": "display_data"
    },
    {
     "data": {
      "text/html": [
       "<b> элементарная хроматиновая фибрилла </b><br /> биолог евгений шеваль о фиксации компонентов живой клетки, искусстве замораживания молекул и нуклеосомной фибрилле"
      ]
     },
     "metadata": {},
     "output_type": "display_data"
    },
    {
     "data": {
      "text/html": [
       "<b> сенсорные системы цианобактерий </b><br /> 6 фактов о бактериях, изменивших состав атмосферы земли в прошлом, и их современном изучении"
      ]
     },
     "metadata": {},
     "output_type": "display_data"
    },
    {
     "data": {
      "text/html": [
       "<b> faqкатаболизм микробов </b><br /> 7 фактов об энергетическом обмене микроорганизмов"
      ]
     },
     "metadata": {},
     "output_type": "display_data"
    },
    {
     "data": {
      "text/html": [
       "<b> как днк с синтетическими нуклеотидами встроили в живую клетку? </b><br /> микробиолог константин северинов о центральной догме молекулярной биологии и увеличении информационной емкости днк"
      ]
     },
     "metadata": {},
     "output_type": "display_data"
    },
    {
     "data": {
      "text/html": [
       "<b> структурно-функциональные особенности регуляции бактериальной транскрипции </b><br /> микробиолог константин северинов о бактериофагах, структуре рнк-полимеразы и устройстве лабораторий"
      ]
     },
     "metadata": {},
     "output_type": "display_data"
    },
    {
     "data": {
      "text/html": [
       "<b> биология клетки </b><br /> 10 лекций биолога евгения шеваля об устройстве и функционировании самой элементарной живой системы"
      ]
     },
     "metadata": {},
     "output_type": "display_data"
    },
    {
     "data": {
      "text/html": [
       "<b> аддиктивные гены бактерий </b><br /> микробиолог константин северинов о молекулярной зависимости клеток, токсин-антитоксиновых системах и экспонировании действия антибиотиков"
      ]
     },
     "metadata": {},
     "output_type": "display_data"
    },
    {
     "data": {
      "text/html": [
       "<b> структурная роль некодирующих рнк </b><br /> биолог евгений шеваль о формировании телец ядерного стресса, alu-последовательности и организации структуры ядрышка"
      ]
     },
     "metadata": {},
     "output_type": "display_data"
    },
    {
     "data": {
      "text/html": [
       "<b> термофильные прокариоты </b><br /> биолог елизавета бонч-осмоловская о микробах в термальных источниках, экстремофилах и появлении науки микробиологии"
      ]
     },
     "metadata": {},
     "output_type": "display_data"
    },
    {
     "data": {
      "text/html": [
       "<b> faqранний и средний протерозой </b><br /> 7 фактов о последствиях нарастания количества свободного кислорода в атмосфере, гуронском оледенении и появлении эукариотической клетки"
      ]
     },
     "metadata": {},
     "output_type": "display_data"
    },
    {
     "data": {
      "text/html": [
       "<style  type=\"text/css\" >\n",
       "</style><table id=\"T_a67b1de4_05f2_11ea_a6fb_107b449f15fc\" style='display:inline'><thead>    <tr>        <th class=\"blank level0\" ></th>        <th class=\"col_heading level0 col0\" >topic_22 @2gramm</th>    </tr></thead><tbody>\n",
       "                <tr>\n",
       "                        <th id=\"T_a67b1de4_05f2_11ea_a6fb_107b449f15fclevel0_row0\" class=\"row_heading level0 row0\" >когнитивный_психология</th>\n",
       "                        <td id=\"T_a67b1de4_05f2_11ea_a6fb_107b449f15fcrow0_col0\" class=\"data row0 col0\" >0.01672</td>\n",
       "            </tr>\n",
       "            <tr>\n",
       "                        <th id=\"T_a67b1de4_05f2_11ea_a6fb_107b449f15fclevel0_row1\" class=\"row_heading level0 row1\" >решение_задача</th>\n",
       "                        <td id=\"T_a67b1de4_05f2_11ea_a6fb_107b449f15fcrow1_col0\" class=\"data row1 col0\" >0.01659</td>\n",
       "            </tr>\n",
       "            <tr>\n",
       "                        <th id=\"T_a67b1de4_05f2_11ea_a6fb_107b449f15fclevel0_row2\" class=\"row_heading level0 row2\" >христианский_восток</th>\n",
       "                        <td id=\"T_a67b1de4_05f2_11ea_a6fb_107b449f15fcrow2_col0\" class=\"data row2 col0\" >0.01227</td>\n",
       "            </tr>\n",
       "            <tr>\n",
       "                        <th id=\"T_a67b1de4_05f2_11ea_a6fb_107b449f15fclevel0_row3\" class=\"row_heading level0 row3\" >творческий_мышление</th>\n",
       "                        <td id=\"T_a67b1de4_05f2_11ea_a6fb_107b449f15fcrow3_col0\" class=\"data row3 col0\" >0.01084</td>\n",
       "            </tr>\n",
       "            <tr>\n",
       "                        <th id=\"T_a67b1de4_05f2_11ea_a6fb_107b449f15fclevel0_row4\" class=\"row_heading level0 row4\" >долговременный_память</th>\n",
       "                        <td id=\"T_a67b1de4_05f2_11ea_a6fb_107b449f15fcrow4_col0\" class=\"data row4 col0\" >0.00808</td>\n",
       "            </tr>\n",
       "            <tr>\n",
       "                        <th id=\"T_a67b1de4_05f2_11ea_a6fb_107b449f15fclevel0_row5\" class=\"row_heading level0 row5\" >прошлое_опыт</th>\n",
       "                        <td id=\"T_a67b1de4_05f2_11ea_a6fb_107b449f15fcrow5_col0\" class=\"data row5 col0\" >0.00756</td>\n",
       "            </tr>\n",
       "            <tr>\n",
       "                        <th id=\"T_a67b1de4_05f2_11ea_a6fb_107b449f15fclevel0_row6\" class=\"row_heading level0 row6\" >решать_задача</th>\n",
       "                        <td id=\"T_a67b1de4_05f2_11ea_a6fb_107b449f15fcrow6_col0\" class=\"data row6 col0\" >0.00746</td>\n",
       "            </tr>\n",
       "            <tr>\n",
       "                        <th id=\"T_a67b1de4_05f2_11ea_a6fb_107b449f15fclevel0_row7\" class=\"row_heading level0 row7\" >умственный_способность</th>\n",
       "                        <td id=\"T_a67b1de4_05f2_11ea_a6fb_107b449f15fcrow7_col0\" class=\"data row7 col0\" >0.00725</td>\n",
       "            </tr>\n",
       "            <tr>\n",
       "                        <th id=\"T_a67b1de4_05f2_11ea_a6fb_107b449f15fclevel0_row8\" class=\"row_heading level0 row8\" >движение_глаз</th>\n",
       "                        <td id=\"T_a67b1de4_05f2_11ea_a6fb_107b449f15fcrow8_col0\" class=\"data row8 col0\" >0.00719</td>\n",
       "            </tr>\n",
       "            <tr>\n",
       "                        <th id=\"T_a67b1de4_05f2_11ea_a6fb_107b449f15fclevel0_row9\" class=\"row_heading level0 row9\" >кратковременный_память</th>\n",
       "                        <td id=\"T_a67b1de4_05f2_11ea_a6fb_107b449f15fcrow9_col0\" class=\"data row9 col0\" >0.00693</td>\n",
       "            </tr>\n",
       "    </tbody></table><style  type=\"text/css\" >\n",
       "</style><table id=\"T_a67b1de5_05f2_11ea_a6fb_107b449f15fc\" style='display:inline'><thead>    <tr>        <th class=\"blank level0\" ></th>        <th class=\"col_heading level0 col0\" >topic_22 @3gramm</th>    </tr></thead><tbody>\n",
       "        </tbody></table><style  type=\"text/css\" >\n",
       "</style><table id=\"T_a67b1de6_05f2_11ea_a6fb_107b449f15fc\" style='display:inline'><thead>    <tr>        <th class=\"blank level0\" ></th>        <th class=\"col_heading level0 col0\" >topic_22 @post_tag</th>    </tr></thead><tbody>\n",
       "                <tr>\n",
       "                        <th id=\"T_a67b1de6_05f2_11ea_a6fb_107b449f15fclevel0_row0\" class=\"row_heading level0 row0\" >психология</th>\n",
       "                        <td id=\"T_a67b1de6_05f2_11ea_a6fb_107b449f15fcrow0_col0\" class=\"data row0 col0\" >0.37289</td>\n",
       "            </tr>\n",
       "            <tr>\n",
       "                        <th id=\"T_a67b1de6_05f2_11ea_a6fb_107b449f15fclevel0_row1\" class=\"row_heading level0 row1\" >когнитивная_психология</th>\n",
       "                        <td id=\"T_a67b1de6_05f2_11ea_a6fb_107b449f15fcrow1_col0\" class=\"data row1 col0\" >0.10685</td>\n",
       "            </tr>\n",
       "            <tr>\n",
       "                        <th id=\"T_a67b1de6_05f2_11ea_a6fb_107b449f15fclevel0_row2\" class=\"row_heading level0 row2\" >мышление</th>\n",
       "                        <td id=\"T_a67b1de6_05f2_11ea_a6fb_107b449f15fcrow2_col0\" class=\"data row2 col0\" >0.10424</td>\n",
       "            </tr>\n",
       "            <tr>\n",
       "                        <th id=\"T_a67b1de6_05f2_11ea_a6fb_107b449f15fclevel0_row3\" class=\"row_heading level0 row3\" >востоковедение</th>\n",
       "                        <td id=\"T_a67b1de6_05f2_11ea_a6fb_107b449f15fcrow3_col0\" class=\"data row3 col0\" >0.07161</td>\n",
       "            </tr>\n",
       "            <tr>\n",
       "                        <th id=\"T_a67b1de6_05f2_11ea_a6fb_107b449f15fclevel0_row4\" class=\"row_heading level0 row4\" >память</th>\n",
       "                        <td id=\"T_a67b1de6_05f2_11ea_a6fb_107b449f15fcrow4_col0\" class=\"data row4 col0\" >0.0488</td>\n",
       "            </tr>\n",
       "            <tr>\n",
       "                        <th id=\"T_a67b1de6_05f2_11ea_a6fb_107b449f15fclevel0_row5\" class=\"row_heading level0 row5\" >внимание</th>\n",
       "                        <td id=\"T_a67b1de6_05f2_11ea_a6fb_107b449f15fcrow5_col0\" class=\"data row5 col0\" >0.03556</td>\n",
       "            </tr>\n",
       "            <tr>\n",
       "                        <th id=\"T_a67b1de6_05f2_11ea_a6fb_107b449f15fclevel0_row6\" class=\"row_heading level0 row6\" >психика</th>\n",
       "                        <td id=\"T_a67b1de6_05f2_11ea_a6fb_107b449f15fcrow6_col0\" class=\"data row6 col0\" >0.02692</td>\n",
       "            </tr>\n",
       "            <tr>\n",
       "                        <th id=\"T_a67b1de6_05f2_11ea_a6fb_107b449f15fclevel0_row7\" class=\"row_heading level0 row7\" >психология_мышления</th>\n",
       "                        <td id=\"T_a67b1de6_05f2_11ea_a6fb_107b449f15fcrow7_col0\" class=\"data row7 col0\" >0.02612</td>\n",
       "            </tr>\n",
       "            <tr>\n",
       "                        <th id=\"T_a67b1de6_05f2_11ea_a6fb_107b449f15fclevel0_row8\" class=\"row_heading level0 row8\" >сирия</th>\n",
       "                        <td id=\"T_a67b1de6_05f2_11ea_a6fb_107b449f15fcrow8_col0\" class=\"data row8 col0\" >0.01636</td>\n",
       "            </tr>\n",
       "            <tr>\n",
       "                        <th id=\"T_a67b1de6_05f2_11ea_a6fb_107b449f15fclevel0_row9\" class=\"row_heading level0 row9\" >интеллект</th>\n",
       "                        <td id=\"T_a67b1de6_05f2_11ea_a6fb_107b449f15fcrow9_col0\" class=\"data row9 col0\" >0.01519</td>\n",
       "            </tr>\n",
       "    </tbody></table><style  type=\"text/css\" >\n",
       "</style><table id=\"T_a67b1de7_05f2_11ea_a6fb_107b449f15fc\" style='display:inline'><thead>    <tr>        <th class=\"blank level0\" ></th>        <th class=\"col_heading level0 col0\" >topic_22 @word</th>    </tr></thead><tbody>\n",
       "                <tr>\n",
       "                        <th id=\"T_a67b1de7_05f2_11ea_a6fb_107b449f15fclevel0_row0\" class=\"row_heading level0 row0\" >задача</th>\n",
       "                        <td id=\"T_a67b1de7_05f2_11ea_a6fb_107b449f15fcrow0_col0\" class=\"data row0 col0\" >0.00784</td>\n",
       "            </tr>\n",
       "            <tr>\n",
       "                        <th id=\"T_a67b1de7_05f2_11ea_a6fb_107b449f15fclevel0_row1\" class=\"row_heading level0 row1\" >психология</th>\n",
       "                        <td id=\"T_a67b1de7_05f2_11ea_a6fb_107b449f15fcrow1_col0\" class=\"data row1 col0\" >0.00753</td>\n",
       "            </tr>\n",
       "            <tr>\n",
       "                        <th id=\"T_a67b1de7_05f2_11ea_a6fb_107b449f15fclevel0_row2\" class=\"row_heading level0 row2\" >психолог</th>\n",
       "                        <td id=\"T_a67b1de7_05f2_11ea_a6fb_107b449f15fcrow2_col0\" class=\"data row2 col0\" >0.00722</td>\n",
       "            </tr>\n",
       "            <tr>\n",
       "                        <th id=\"T_a67b1de7_05f2_11ea_a6fb_107b449f15fclevel0_row3\" class=\"row_heading level0 row3\" >испытуемый</th>\n",
       "                        <td id=\"T_a67b1de7_05f2_11ea_a6fb_107b449f15fcrow3_col0\" class=\"data row3 col0\" >0.00686</td>\n",
       "            </tr>\n",
       "            <tr>\n",
       "                        <th id=\"T_a67b1de7_05f2_11ea_a6fb_107b449f15fclevel0_row4\" class=\"row_heading level0 row4\" >мышление</th>\n",
       "                        <td id=\"T_a67b1de7_05f2_11ea_a6fb_107b449f15fcrow4_col0\" class=\"data row4 col0\" >0.00656</td>\n",
       "            </tr>\n",
       "            <tr>\n",
       "                        <th id=\"T_a67b1de7_05f2_11ea_a6fb_107b449f15fclevel0_row5\" class=\"row_heading level0 row5\" >внимание</th>\n",
       "                        <td id=\"T_a67b1de7_05f2_11ea_a6fb_107b449f15fcrow5_col0\" class=\"data row5 col0\" >0.00643</td>\n",
       "            </tr>\n",
       "            <tr>\n",
       "                        <th id=\"T_a67b1de7_05f2_11ea_a6fb_107b449f15fclevel0_row6\" class=\"row_heading level0 row6\" >память</th>\n",
       "                        <td id=\"T_a67b1de7_05f2_11ea_a6fb_107b449f15fcrow6_col0\" class=\"data row6 col0\" >0.00607</td>\n",
       "            </tr>\n",
       "            <tr>\n",
       "                        <th id=\"T_a67b1de7_05f2_11ea_a6fb_107b449f15fclevel0_row7\" class=\"row_heading level0 row7\" >объект</th>\n",
       "                        <td id=\"T_a67b1de7_05f2_11ea_a6fb_107b449f15fcrow7_col0\" class=\"data row7 col0\" >0.00579</td>\n",
       "            </tr>\n",
       "            <tr>\n",
       "                        <th id=\"T_a67b1de7_05f2_11ea_a6fb_107b449f15fclevel0_row8\" class=\"row_heading level0 row8\" >ребёнок</th>\n",
       "                        <td id=\"T_a67b1de7_05f2_11ea_a6fb_107b449f15fcrow8_col0\" class=\"data row8 col0\" >0.0056</td>\n",
       "            </tr>\n",
       "            <tr>\n",
       "                        <th id=\"T_a67b1de7_05f2_11ea_a6fb_107b449f15fclevel0_row9\" class=\"row_heading level0 row9\" >образ</th>\n",
       "                        <td id=\"T_a67b1de7_05f2_11ea_a6fb_107b449f15fcrow9_col0\" class=\"data row9 col0\" >0.00452</td>\n",
       "            </tr>\n",
       "    </tbody></table>"
      ]
     },
     "metadata": {},
     "output_type": "display_data"
    },
    {
     "data": {
      "text/html": [
       "<b> виды мышления </b><br /> психолог мария фаликман об особом подходе к исследованию мышления в психологии, различиях между теоретическим и практическим мышлением и имеющихся классификациях"
      ]
     },
     "metadata": {},
     "output_type": "display_data"
    },
    {
     "data": {
      "text/html": [
       "<b> методы изучения категорий у детей </b><br /> психолог алексей котов о способности к категоризации, ее изучении и зрительных предпочтениях детей"
      ]
     },
     "metadata": {},
     "output_type": "display_data"
    },
    {
     "data": {
      "text/html": [
       "<b> зрительная память </b><br /> психолог игорь уточкин об экспериментах с памятью, зрительных образах и ложных воспоминаниях"
      ]
     },
     "metadata": {},
     "output_type": "display_data"
    },
    {
     "data": {
      "text/html": [
       "<b> возможности и ограничения зрительной памяти </b><br /> психолог игорь уточкин о долговременной и краткосрочной памяти, экспериментах с запоминанием вещей и событий и объеме хранения"
      ]
     },
     "metadata": {},
     "output_type": "display_data"
    },
    {
     "data": {
      "text/html": [
       "<b> психология создания трудностей и проблем </b><br /> психолог александр поддьяков о различных типах трудностей, их нравственной оценке и разработке игр"
      ]
     },
     "metadata": {},
     "output_type": "display_data"
    },
    {
     "data": {
      "text/html": [
       "<b> что такое синестезия? </b><br /> психолог елена лупенко об исследованиях феномена синестезии, возникновении синестетических образов и врожденной способности воспринимать мир целостно"
      ]
     },
     "metadata": {},
     "output_type": "display_data"
    },
    {
     "data": {
      "text/html": [
       "<b> интерференция в психологии </b><br /> психолог алексей созинов об ассоциативной теории, механизмах запоминания и переключении между задачами"
      ]
     },
     "metadata": {},
     "output_type": "display_data"
    },
    {
     "data": {
      "text/html": [
       "<b> текстовые методики в психологии </b><br /> психолог марина новикова-грунд о сходствах психотерапии и психологии, структуре сюжета «преступление и наказание» и функции лакун в тексте"
      ]
     },
     "metadata": {},
     "output_type": "display_data"
    },
    {
     "data": {
      "text/html": [
       "<b> главы # природа эмоционального интеллекта. когда умный глупеет </b><br /> отрывок из книги \"эмоциональный интеллект\" дэниела гоулмана - американского психолога, дважды номинанта пулитцеровской премии"
      ]
     },
     "metadata": {},
     "output_type": "display_data"
    },
    {
     "data": {
      "text/html": [
       "<b> можно ли измерить интеллект человека с помощью тестов на iq? </b><br /> что такое интеллект и как разрабатывают тесты на решение задач различного типа"
      ]
     },
     "metadata": {},
     "output_type": "display_data"
    },
    {
     "data": {
      "text/html": [
       "<style  type=\"text/css\" >\n",
       "</style><table id=\"T_a67b1de8_05f2_11ea_a6fb_107b449f15fc\" style='display:inline'><thead>    <tr>        <th class=\"blank level0\" ></th>        <th class=\"col_heading level0 col0\" >topic_23 @2gramm</th>    </tr></thead><tbody>\n",
       "                <tr>\n",
       "                        <th id=\"T_a67b1de8_05f2_11ea_a6fb_107b449f15fclevel0_row0\" class=\"row_heading level0 row0\" >социология_право</th>\n",
       "                        <td id=\"T_a67b1de8_05f2_11ea_a6fb_107b449f15fcrow0_col0\" class=\"data row0 col0\" >0.01776</td>\n",
       "            </tr>\n",
       "            <tr>\n",
       "                        <th id=\"T_a67b1de8_05f2_11ea_a6fb_107b449f15fclevel0_row1\" class=\"row_heading level0 row1\" >национальный_государство</th>\n",
       "                        <td id=\"T_a67b1de8_05f2_11ea_a6fb_107b449f15fcrow1_col0\" class=\"data row1 col0\" >0.01509</td>\n",
       "            </tr>\n",
       "            <tr>\n",
       "                        <th id=\"T_a67b1de8_05f2_11ea_a6fb_107b449f15fclevel0_row2\" class=\"row_heading level0 row2\" >речь_посполить</th>\n",
       "                        <td id=\"T_a67b1de8_05f2_11ea_a6fb_107b449f15fcrow2_col0\" class=\"data row2 col0\" >0.00982</td>\n",
       "            </tr>\n",
       "            <tr>\n",
       "                        <th id=\"T_a67b1de8_05f2_11ea_a6fb_107b449f15fclevel0_row3\" class=\"row_heading level0 row3\" >политический_партия</th>\n",
       "                        <td id=\"T_a67b1de8_05f2_11ea_a6fb_107b449f15fcrow3_col0\" class=\"data row3 col0\" >0.008</td>\n",
       "            </tr>\n",
       "            <tr>\n",
       "                        <th id=\"T_a67b1de8_05f2_11ea_a6fb_107b449f15fclevel0_row4\" class=\"row_heading level0 row4\" >этнический_группа</th>\n",
       "                        <td id=\"T_a67b1de8_05f2_11ea_a6fb_107b449f15fcrow4_col0\" class=\"data row4 col0\" >0.00747</td>\n",
       "            </tr>\n",
       "            <tr>\n",
       "                        <th id=\"T_a67b1de8_05f2_11ea_a6fb_107b449f15fclevel0_row5\" class=\"row_heading level0 row5\" >российский_федерация</th>\n",
       "                        <td id=\"T_a67b1de8_05f2_11ea_a6fb_107b449f15fcrow5_col0\" class=\"data row5 col0\" >0.00683</td>\n",
       "            </tr>\n",
       "            <tr>\n",
       "                        <th id=\"T_a67b1de8_05f2_11ea_a6fb_107b449f15fclevel0_row6\" class=\"row_heading level0 row6\" >российский_империя</th>\n",
       "                        <td id=\"T_a67b1de8_05f2_11ea_a6fb_107b449f15fcrow6_col0\" class=\"data row6 col0\" >0.00616</td>\n",
       "            </tr>\n",
       "            <tr>\n",
       "                        <th id=\"T_a67b1de8_05f2_11ea_a6fb_107b449f15fclevel0_row7\" class=\"row_heading level0 row7\" >коренной_народ</th>\n",
       "                        <td id=\"T_a67b1de8_05f2_11ea_a6fb_107b449f15fcrow7_col0\" class=\"data row7 col0\" >0.00604</td>\n",
       "            </tr>\n",
       "            <tr>\n",
       "                        <th id=\"T_a67b1de8_05f2_11ea_a6fb_107b449f15fclevel0_row8\" class=\"row_heading level0 row8\" >интеллектуальный_собственность</th>\n",
       "                        <td id=\"T_a67b1de8_05f2_11ea_a6fb_107b449f15fcrow8_col0\" class=\"data row8 col0\" >0.0059</td>\n",
       "            </tr>\n",
       "            <tr>\n",
       "                        <th id=\"T_a67b1de8_05f2_11ea_a6fb_107b449f15fclevel0_row9\" class=\"row_heading level0 row9\" >национальный_идентичность</th>\n",
       "                        <td id=\"T_a67b1de8_05f2_11ea_a6fb_107b449f15fcrow9_col0\" class=\"data row9 col0\" >0.00556</td>\n",
       "            </tr>\n",
       "    </tbody></table><style  type=\"text/css\" >\n",
       "</style><table id=\"T_a67b1de9_05f2_11ea_a6fb_107b449f15fc\" style='display:inline'><thead>    <tr>        <th class=\"blank level0\" ></th>        <th class=\"col_heading level0 col0\" >topic_23 @3gramm</th>    </tr></thead><tbody>\n",
       "        </tbody></table><style  type=\"text/css\" >\n",
       "</style><table id=\"T_a67b1dea_05f2_11ea_a6fb_107b449f15fc\" style='display:inline'><thead>    <tr>        <th class=\"blank level0\" ></th>        <th class=\"col_heading level0 col0\" >topic_23 @post_tag</th>    </tr></thead><tbody>\n",
       "                <tr>\n",
       "                        <th id=\"T_a67b1dea_05f2_11ea_a6fb_107b449f15fclevel0_row0\" class=\"row_heading level0 row0\" >государство</th>\n",
       "                        <td id=\"T_a67b1dea_05f2_11ea_a6fb_107b449f15fcrow0_col0\" class=\"data row0 col0\" >0.20905</td>\n",
       "            </tr>\n",
       "            <tr>\n",
       "                        <th id=\"T_a67b1dea_05f2_11ea_a6fb_107b449f15fclevel0_row1\" class=\"row_heading level0 row1\" >политология</th>\n",
       "                        <td id=\"T_a67b1dea_05f2_11ea_a6fb_107b449f15fcrow1_col0\" class=\"data row1 col0\" >0.13632</td>\n",
       "            </tr>\n",
       "            <tr>\n",
       "                        <th id=\"T_a67b1dea_05f2_11ea_a6fb_107b449f15fclevel0_row2\" class=\"row_heading level0 row2\" >идентичность</th>\n",
       "                        <td id=\"T_a67b1dea_05f2_11ea_a6fb_107b449f15fcrow2_col0\" class=\"data row2 col0\" >0.08242</td>\n",
       "            </tr>\n",
       "            <tr>\n",
       "                        <th id=\"T_a67b1dea_05f2_11ea_a6fb_107b449f15fclevel0_row3\" class=\"row_heading level0 row3\" >нация</th>\n",
       "                        <td id=\"T_a67b1dea_05f2_11ea_a6fb_107b449f15fcrow3_col0\" class=\"data row3 col0\" >0.06411</td>\n",
       "            </tr>\n",
       "            <tr>\n",
       "                        <th id=\"T_a67b1dea_05f2_11ea_a6fb_107b449f15fclevel0_row4\" class=\"row_heading level0 row4\" >этнография</th>\n",
       "                        <td id=\"T_a67b1dea_05f2_11ea_a6fb_107b449f15fcrow4_col0\" class=\"data row4 col0\" >0.05206</td>\n",
       "            </tr>\n",
       "            <tr>\n",
       "                        <th id=\"T_a67b1dea_05f2_11ea_a6fb_107b449f15fclevel0_row5\" class=\"row_heading level0 row5\" >политика</th>\n",
       "                        <td id=\"T_a67b1dea_05f2_11ea_a6fb_107b449f15fcrow5_col0\" class=\"data row5 col0\" >0.04395</td>\n",
       "            </tr>\n",
       "            <tr>\n",
       "                        <th id=\"T_a67b1dea_05f2_11ea_a6fb_107b449f15fclevel0_row6\" class=\"row_heading level0 row6\" >миграция</th>\n",
       "                        <td id=\"T_a67b1dea_05f2_11ea_a6fb_107b449f15fcrow6_col0\" class=\"data row6 col0\" >0.04268</td>\n",
       "            </tr>\n",
       "            <tr>\n",
       "                        <th id=\"T_a67b1dea_05f2_11ea_a6fb_107b449f15fclevel0_row7\" class=\"row_heading level0 row7\" >этнос</th>\n",
       "                        <td id=\"T_a67b1dea_05f2_11ea_a6fb_107b449f15fcrow7_col0\" class=\"data row7 col0\" >0.04268</td>\n",
       "            </tr>\n",
       "            <tr>\n",
       "                        <th id=\"T_a67b1dea_05f2_11ea_a6fb_107b449f15fclevel0_row8\" class=\"row_heading level0 row8\" >национализм</th>\n",
       "                        <td id=\"T_a67b1dea_05f2_11ea_a6fb_107b449f15fcrow8_col0\" class=\"data row8 col0\" >0.04068</td>\n",
       "            </tr>\n",
       "            <tr>\n",
       "                        <th id=\"T_a67b1dea_05f2_11ea_a6fb_107b449f15fclevel0_row9\" class=\"row_heading level0 row9\" >социология_права</th>\n",
       "                        <td id=\"T_a67b1dea_05f2_11ea_a6fb_107b449f15fcrow9_col0\" class=\"data row9 col0\" >0.03763</td>\n",
       "            </tr>\n",
       "    </tbody></table><style  type=\"text/css\" >\n",
       "</style><table id=\"T_a67b1deb_05f2_11ea_a6fb_107b449f15fc\" style='display:inline'><thead>    <tr>        <th class=\"blank level0\" ></th>        <th class=\"col_heading level0 col0\" >topic_23 @word</th>    </tr></thead><tbody>\n",
       "                <tr>\n",
       "                        <th id=\"T_a67b1deb_05f2_11ea_a6fb_107b449f15fclevel0_row0\" class=\"row_heading level0 row0\" >государство</th>\n",
       "                        <td id=\"T_a67b1deb_05f2_11ea_a6fb_107b449f15fcrow0_col0\" class=\"data row0 col0\" >0.01218</td>\n",
       "            </tr>\n",
       "            <tr>\n",
       "                        <th id=\"T_a67b1deb_05f2_11ea_a6fb_107b449f15fclevel0_row1\" class=\"row_heading level0 row1\" >право</th>\n",
       "                        <td id=\"T_a67b1deb_05f2_11ea_a6fb_107b449f15fcrow1_col0\" class=\"data row1 col0\" >0.00854</td>\n",
       "            </tr>\n",
       "            <tr>\n",
       "                        <th id=\"T_a67b1deb_05f2_11ea_a6fb_107b449f15fclevel0_row2\" class=\"row_heading level0 row2\" >россия</th>\n",
       "                        <td id=\"T_a67b1deb_05f2_11ea_a6fb_107b449f15fcrow2_col0\" class=\"data row2 col0\" >0.00745</td>\n",
       "            </tr>\n",
       "            <tr>\n",
       "                        <th id=\"T_a67b1deb_05f2_11ea_a6fb_107b449f15fclevel0_row3\" class=\"row_heading level0 row3\" >политический</th>\n",
       "                        <td id=\"T_a67b1deb_05f2_11ea_a6fb_107b449f15fcrow3_col0\" class=\"data row3 col0\" >0.00651</td>\n",
       "            </tr>\n",
       "            <tr>\n",
       "                        <th id=\"T_a67b1deb_05f2_11ea_a6fb_107b449f15fclevel0_row4\" class=\"row_heading level0 row4\" >общество</th>\n",
       "                        <td id=\"T_a67b1deb_05f2_11ea_a6fb_107b449f15fcrow4_col0\" class=\"data row4 col0\" >0.00619</td>\n",
       "            </tr>\n",
       "            <tr>\n",
       "                        <th id=\"T_a67b1deb_05f2_11ea_a6fb_107b449f15fclevel0_row5\" class=\"row_heading level0 row5\" >политика</th>\n",
       "                        <td id=\"T_a67b1deb_05f2_11ea_a6fb_107b449f15fcrow5_col0\" class=\"data row5 col0\" >0.0061</td>\n",
       "            </tr>\n",
       "            <tr>\n",
       "                        <th id=\"T_a67b1deb_05f2_11ea_a6fb_107b449f15fclevel0_row6\" class=\"row_heading level0 row6\" >нация</th>\n",
       "                        <td id=\"T_a67b1deb_05f2_11ea_a6fb_107b449f15fcrow6_col0\" class=\"data row6 col0\" >0.00561</td>\n",
       "            </tr>\n",
       "            <tr>\n",
       "                        <th id=\"T_a67b1deb_05f2_11ea_a6fb_107b449f15fclevel0_row7\" class=\"row_heading level0 row7\" >группа</th>\n",
       "                        <td id=\"T_a67b1deb_05f2_11ea_a6fb_107b449f15fcrow7_col0\" class=\"data row7 col0\" >0.0054</td>\n",
       "            </tr>\n",
       "            <tr>\n",
       "                        <th id=\"T_a67b1deb_05f2_11ea_a6fb_107b449f15fclevel0_row8\" class=\"row_heading level0 row8\" >понятие</th>\n",
       "                        <td id=\"T_a67b1deb_05f2_11ea_a6fb_107b449f15fcrow8_col0\" class=\"data row8 col0\" >0.00537</td>\n",
       "            </tr>\n",
       "            <tr>\n",
       "                        <th id=\"T_a67b1deb_05f2_11ea_a6fb_107b449f15fclevel0_row9\" class=\"row_heading level0 row9\" >идентичность</th>\n",
       "                        <td id=\"T_a67b1deb_05f2_11ea_a6fb_107b449f15fcrow9_col0\" class=\"data row9 col0\" >0.00532</td>\n",
       "            </tr>\n",
       "    </tbody></table>"
      ]
     },
     "metadata": {},
     "output_type": "display_data"
    },
    {
     "data": {
      "text/html": [
       "<b> главы # гражданство и национальность </b><br /> отрывок из книги  «культурные различия и политические границы в эпоху глобальных миграций» политолога владимира малахова"
      ]
     },
     "metadata": {},
     "output_type": "display_data"
    },
    {
     "data": {
      "text/html": [
       "<b> главыновые войны и политика </b><br /> отрывок из книги «новые и старые войны» политолога мэри калдор о новом типе организованного насилия"
      ]
     },
     "metadata": {},
     "output_type": "display_data"
    },
    {
     "data": {
      "text/html": [
       "<b> «итальянские корни» советской теории этноса </b><br /> как проходило становление российской этнологии и развитие дискуссий о народе, этносе и этничности в советский период"
      ]
     },
     "metadata": {},
     "output_type": "display_data"
    },
    {
     "data": {
      "text/html": [
       "<b> faqэтнические феномены </b><br /> 5 фактов о примордиалистском и конструктивистском взгляде на конструирование этнической идентичности"
      ]
     },
     "metadata": {},
     "output_type": "display_data"
    },
    {
     "data": {
      "text/html": [
       "<b> главы # дискурс и расизм </b><br /> глава из книги «дискурс и властьрепрезентация доминирования в языке и коммуникации» профессора университета помпеу фабра, лингвиста ван дейка"
      ]
     },
     "metadata": {},
     "output_type": "display_data"
    },
    {
     "data": {
      "text/html": [
       "<b> 5 книг о государстве, миграции и культурном плюрализме </b><br /> что читать о культурных различиях в эпоху глобальных миграций, рекомендует политолог владимир малахов"
      ]
     },
     "metadata": {},
     "output_type": "display_data"
    },
    {
     "data": {
      "text/html": [
       "<b> гражданство </b><br /> политолог владимир малахов о двух смыслах понятия «гражданин»,разновидностях квазигражданства и несовпадении границ"
      ]
     },
     "metadata": {},
     "output_type": "display_data"
    },
    {
     "data": {
      "text/html": [
       "<b> автограф # «культурные различия и политические границы в эпоху глобальных миграций» </b><br /> о понятии «граница» в современном мире, феномене гражданства и нациоцентризме"
      ]
     },
     "metadata": {},
     "output_type": "display_data"
    },
    {
     "data": {
      "text/html": [
       "<b> главынациональные контексты </b><br /> отрывок из книги «интеграция мигрантовконцепции и практики» политолога владимира малахова об особенностях поведения государств по отношению к иммигрантам"
      ]
     },
     "metadata": {},
     "output_type": "display_data"
    },
    {
     "data": {
      "text/html": [
       "<b> faqмультикультурализм </b><br /> 7 фактов о политике «признания различий»"
      ]
     },
     "metadata": {},
     "output_type": "display_data"
    },
    {
     "data": {
      "text/html": [
       "<style  type=\"text/css\" >\n",
       "</style><table id=\"T_a67b1dec_05f2_11ea_a6fb_107b449f15fc\" style='display:inline'><thead>    <tr>        <th class=\"blank level0\" ></th>        <th class=\"col_heading level0 col0\" >topic_24 @2gramm</th>    </tr></thead><tbody>\n",
       "                <tr>\n",
       "                        <th id=\"T_a67b1dec_05f2_11ea_a6fb_107b449f15fclevel0_row0\" class=\"row_heading level0 row0\" >система_образование</th>\n",
       "                        <td id=\"T_a67b1dec_05f2_11ea_a6fb_107b449f15fcrow0_col0\" class=\"data row0 col0\" >0.01398</td>\n",
       "            </tr>\n",
       "            <tr>\n",
       "                        <th id=\"T_a67b1dec_05f2_11ea_a6fb_107b449f15fclevel0_row1\" class=\"row_heading level0 row1\" >гуманитарный_наука</th>\n",
       "                        <td id=\"T_a67b1dec_05f2_11ea_a6fb_107b449f15fcrow1_col0\" class=\"data row1 col0\" >0.01323</td>\n",
       "            </tr>\n",
       "            <tr>\n",
       "                        <th id=\"T_a67b1dec_05f2_11ea_a6fb_107b449f15fclevel0_row2\" class=\"row_heading level0 row2\" >новый_программа</th>\n",
       "                        <td id=\"T_a67b1dec_05f2_11ea_a6fb_107b449f15fcrow2_col0\" class=\"data row2 col0\" >0.00954</td>\n",
       "            </tr>\n",
       "            <tr>\n",
       "                        <th id=\"T_a67b1dec_05f2_11ea_a6fb_107b449f15fclevel0_row3\" class=\"row_heading level0 row3\" >научный_сообщество</th>\n",
       "                        <td id=\"T_a67b1dec_05f2_11ea_a6fb_107b449f15fcrow3_col0\" class=\"data row3 col0\" >0.00943</td>\n",
       "            </tr>\n",
       "            <tr>\n",
       "                        <th id=\"T_a67b1dec_05f2_11ea_a6fb_107b449f15fclevel0_row4\" class=\"row_heading level0 row4\" >научный_работа</th>\n",
       "                        <td id=\"T_a67b1dec_05f2_11ea_a6fb_107b449f15fcrow4_col0\" class=\"data row4 col0\" >0.00773</td>\n",
       "            </tr>\n",
       "            <tr>\n",
       "                        <th id=\"T_a67b1dec_05f2_11ea_a6fb_107b449f15fclevel0_row5\" class=\"row_heading level0 row5\" >заниматься_наука</th>\n",
       "                        <td id=\"T_a67b1dec_05f2_11ea_a6fb_107b449f15fcrow5_col0\" class=\"data row5 col0\" >0.00641</td>\n",
       "            </tr>\n",
       "            <tr>\n",
       "                        <th id=\"T_a67b1dec_05f2_11ea_a6fb_107b449f15fclevel0_row6\" class=\"row_heading level0 row6\" >прямая_речь</th>\n",
       "                        <td id=\"T_a67b1dec_05f2_11ea_a6fb_107b449f15fcrow6_col0\" class=\"data row6 col0\" >0.00628</td>\n",
       "            </tr>\n",
       "            <tr>\n",
       "                        <th id=\"T_a67b1dec_05f2_11ea_a6fb_107b449f15fclevel0_row7\" class=\"row_heading level0 row7\" >история_наука</th>\n",
       "                        <td id=\"T_a67b1dec_05f2_11ea_a6fb_107b449f15fcrow7_col0\" class=\"data row7 col0\" >0.00602</td>\n",
       "            </tr>\n",
       "            <tr>\n",
       "                        <th id=\"T_a67b1dec_05f2_11ea_a6fb_107b449f15fclevel0_row8\" class=\"row_heading level0 row8\" >школьный_образование</th>\n",
       "                        <td id=\"T_a67b1dec_05f2_11ea_a6fb_107b449f15fcrow8_col0\" class=\"data row8 col0\" >0.00587</td>\n",
       "            </tr>\n",
       "            <tr>\n",
       "                        <th id=\"T_a67b1dec_05f2_11ea_a6fb_107b449f15fclevel0_row9\" class=\"row_heading level0 row9\" >индекс_цитирование</th>\n",
       "                        <td id=\"T_a67b1dec_05f2_11ea_a6fb_107b449f15fcrow9_col0\" class=\"data row9 col0\" >0.00532</td>\n",
       "            </tr>\n",
       "    </tbody></table><style  type=\"text/css\" >\n",
       "</style><table id=\"T_a67b1ded_05f2_11ea_a6fb_107b449f15fc\" style='display:inline'><thead>    <tr>        <th class=\"blank level0\" ></th>        <th class=\"col_heading level0 col0\" >topic_24 @3gramm</th>    </tr></thead><tbody>\n",
       "        </tbody></table><style  type=\"text/css\" >\n",
       "</style><table id=\"T_a67b1dee_05f2_11ea_a6fb_107b449f15fc\" style='display:inline'><thead>    <tr>        <th class=\"blank level0\" ></th>        <th class=\"col_heading level0 col0\" >topic_24 @post_tag</th>    </tr></thead><tbody>\n",
       "                <tr>\n",
       "                        <th id=\"T_a67b1dee_05f2_11ea_a6fb_107b449f15fclevel0_row0\" class=\"row_heading level0 row0\" >образование</th>\n",
       "                        <td id=\"T_a67b1dee_05f2_11ea_a6fb_107b449f15fcrow0_col0\" class=\"data row0 col0\" >0.29163</td>\n",
       "            </tr>\n",
       "            <tr>\n",
       "                        <th id=\"T_a67b1dee_05f2_11ea_a6fb_107b449f15fclevel0_row1\" class=\"row_heading level0 row1\" >наука</th>\n",
       "                        <td id=\"T_a67b1dee_05f2_11ea_a6fb_107b449f15fcrow1_col0\" class=\"data row1 col0\" >0.20195</td>\n",
       "            </tr>\n",
       "            <tr>\n",
       "                        <th id=\"T_a67b1dee_05f2_11ea_a6fb_107b449f15fclevel0_row2\" class=\"row_heading level0 row2\" >университет</th>\n",
       "                        <td id=\"T_a67b1dee_05f2_11ea_a6fb_107b449f15fcrow2_col0\" class=\"data row2 col0\" >0.09159</td>\n",
       "            </tr>\n",
       "            <tr>\n",
       "                        <th id=\"T_a67b1dee_05f2_11ea_a6fb_107b449f15fclevel0_row3\" class=\"row_heading level0 row3\" >школа</th>\n",
       "                        <td id=\"T_a67b1dee_05f2_11ea_a6fb_107b449f15fcrow3_col0\" class=\"data row3 col0\" >0.05322</td>\n",
       "            </tr>\n",
       "            <tr>\n",
       "                        <th id=\"T_a67b1dee_05f2_11ea_a6fb_107b449f15fclevel0_row4\" class=\"row_heading level0 row4\" >академическая_среда</th>\n",
       "                        <td id=\"T_a67b1dee_05f2_11ea_a6fb_107b449f15fcrow4_col0\" class=\"data row4 col0\" >0.04162</td>\n",
       "            </tr>\n",
       "            <tr>\n",
       "                        <th id=\"T_a67b1dee_05f2_11ea_a6fb_107b449f15fclevel0_row5\" class=\"row_heading level0 row5\" >марксизм</th>\n",
       "                        <td id=\"T_a67b1dee_05f2_11ea_a6fb_107b449f15fcrow5_col0\" class=\"data row5 col0\" >0.02487</td>\n",
       "            </tr>\n",
       "            <tr>\n",
       "                        <th id=\"T_a67b1dee_05f2_11ea_a6fb_107b449f15fclevel0_row6\" class=\"row_heading level0 row6\" >скандинавия</th>\n",
       "                        <td id=\"T_a67b1dee_05f2_11ea_a6fb_107b449f15fcrow6_col0\" class=\"data row6 col0\" >0.02271</td>\n",
       "            </tr>\n",
       "            <tr>\n",
       "                        <th id=\"T_a67b1dee_05f2_11ea_a6fb_107b449f15fclevel0_row7\" class=\"row_heading level0 row7\" >маркс_карл</th>\n",
       "                        <td id=\"T_a67b1dee_05f2_11ea_a6fb_107b449f15fcrow7_col0\" class=\"data row7 col0\" >0.02211</td>\n",
       "            </tr>\n",
       "            <tr>\n",
       "                        <th id=\"T_a67b1dee_05f2_11ea_a6fb_107b449f15fclevel0_row8\" class=\"row_heading level0 row8\" >история_науки</th>\n",
       "                        <td id=\"T_a67b1dee_05f2_11ea_a6fb_107b449f15fcrow8_col0\" class=\"data row8 col0\" >0.02005</td>\n",
       "            </tr>\n",
       "            <tr>\n",
       "                        <th id=\"T_a67b1dee_05f2_11ea_a6fb_107b449f15fclevel0_row9\" class=\"row_heading level0 row9\" >егэ</th>\n",
       "                        <td id=\"T_a67b1dee_05f2_11ea_a6fb_107b449f15fcrow9_col0\" class=\"data row9 col0\" >0.01825</td>\n",
       "            </tr>\n",
       "    </tbody></table><style  type=\"text/css\" >\n",
       "</style><table id=\"T_a67b1def_05f2_11ea_a6fb_107b449f15fc\" style='display:inline'><thead>    <tr>        <th class=\"blank level0\" ></th>        <th class=\"col_heading level0 col0\" >topic_24 @word</th>    </tr></thead><tbody>\n",
       "                <tr>\n",
       "                        <th id=\"T_a67b1def_05f2_11ea_a6fb_107b449f15fclevel0_row0\" class=\"row_heading level0 row0\" >наука</th>\n",
       "                        <td id=\"T_a67b1def_05f2_11ea_a6fb_107b449f15fcrow0_col0\" class=\"data row0 col0\" >0.01814</td>\n",
       "            </tr>\n",
       "            <tr>\n",
       "                        <th id=\"T_a67b1def_05f2_11ea_a6fb_107b449f15fclevel0_row1\" class=\"row_heading level0 row1\" >университет</th>\n",
       "                        <td id=\"T_a67b1def_05f2_11ea_a6fb_107b449f15fcrow1_col0\" class=\"data row1 col0\" >0.01463</td>\n",
       "            </tr>\n",
       "            <tr>\n",
       "                        <th id=\"T_a67b1def_05f2_11ea_a6fb_107b449f15fclevel0_row2\" class=\"row_heading level0 row2\" >учёный</th>\n",
       "                        <td id=\"T_a67b1def_05f2_11ea_a6fb_107b449f15fcrow2_col0\" class=\"data row2 col0\" >0.01148</td>\n",
       "            </tr>\n",
       "            <tr>\n",
       "                        <th id=\"T_a67b1def_05f2_11ea_a6fb_107b449f15fclevel0_row3\" class=\"row_heading level0 row3\" >студент</th>\n",
       "                        <td id=\"T_a67b1def_05f2_11ea_a6fb_107b449f15fcrow3_col0\" class=\"data row3 col0\" >0.00949</td>\n",
       "            </tr>\n",
       "            <tr>\n",
       "                        <th id=\"T_a67b1def_05f2_11ea_a6fb_107b449f15fclevel0_row4\" class=\"row_heading level0 row4\" >образование</th>\n",
       "                        <td id=\"T_a67b1def_05f2_11ea_a6fb_107b449f15fcrow4_col0\" class=\"data row4 col0\" >0.00919</td>\n",
       "            </tr>\n",
       "            <tr>\n",
       "                        <th id=\"T_a67b1def_05f2_11ea_a6fb_107b449f15fclevel0_row5\" class=\"row_heading level0 row5\" >школа</th>\n",
       "                        <td id=\"T_a67b1def_05f2_11ea_a6fb_107b449f15fcrow5_col0\" class=\"data row5 col0\" >0.00893</td>\n",
       "            </tr>\n",
       "            <tr>\n",
       "                        <th id=\"T_a67b1def_05f2_11ea_a6fb_107b449f15fclevel0_row6\" class=\"row_heading level0 row6\" >должный</th>\n",
       "                        <td id=\"T_a67b1def_05f2_11ea_a6fb_107b449f15fcrow6_col0\" class=\"data row6 col0\" >0.00639</td>\n",
       "            </tr>\n",
       "            <tr>\n",
       "                        <th id=\"T_a67b1def_05f2_11ea_a6fb_107b449f15fclevel0_row7\" class=\"row_heading level0 row7\" >заниматься</th>\n",
       "                        <td id=\"T_a67b1def_05f2_11ea_a6fb_107b449f15fcrow7_col0\" class=\"data row7 col0\" >0.0063</td>\n",
       "            </tr>\n",
       "            <tr>\n",
       "                        <th id=\"T_a67b1def_05f2_11ea_a6fb_107b449f15fclevel0_row8\" class=\"row_heading level0 row8\" >хороший</th>\n",
       "                        <td id=\"T_a67b1def_05f2_11ea_a6fb_107b449f15fcrow8_col0\" class=\"data row8 col0\" >0.00551</td>\n",
       "            </tr>\n",
       "            <tr>\n",
       "                        <th id=\"T_a67b1def_05f2_11ea_a6fb_107b449f15fclevel0_row9\" class=\"row_heading level0 row9\" >знание</th>\n",
       "                        <td id=\"T_a67b1def_05f2_11ea_a6fb_107b449f15fcrow9_col0\" class=\"data row9 col0\" >0.0053</td>\n",
       "            </tr>\n",
       "    </tbody></table>"
      ]
     },
     "metadata": {},
     "output_type": "display_data"
    },
    {
     "data": {
      "text/html": [
       "<b> точка зрения # эффективность «диссернета» </b><br /> авторы постнауки оценили плюсы и минусы деятельности «диссернета»"
      ]
     },
     "metadata": {},
     "output_type": "display_data"
    },
    {
     "data": {
      "text/html": [
       "<b> проблема преподавания обществознания в школе </b><br /> философ елена брызгалина о междисциплинарности обществознания, проблемах современного образования и унификации преподавания"
      ]
     },
     "metadata": {},
     "output_type": "display_data"
    },
    {
     "data": {
      "text/html": [
       "<b> перспективыбыть социологом </b><br /> социолог виктор вахштайн рассказывает, откуда берутся социологи, чему и как их учат и зачем они нам нужны"
      ]
     },
     "metadata": {},
     "output_type": "display_data"
    },
    {
     "data": {
      "text/html": [
       "<b> точка зрения # как оценить эффективность научного института </b><br /> мнения экспертов постнауки о критериях оценки научных организаций"
      ]
     },
     "metadata": {},
     "output_type": "display_data"
    },
    {
     "data": {
      "text/html": [
       "<b> проблема социогуманитарного образования </b><br /> философ елена брызгалина о границах фундаментального знания, статусе преподавателя и студента и причинах кризиса образования"
      ]
     },
     "metadata": {},
     "output_type": "display_data"
    },
    {
     "data": {
      "text/html": [
       "<b> точка зрения # «покупка» иностранных профессоров </b><br /> мнения экспертов постнауки о роли зарубежных специалистов в российской науке"
      ]
     },
     "metadata": {},
     "output_type": "display_data"
    },
    {
     "data": {
      "text/html": [
       "<b> точка зрения # платные публикации </b><br /> мнения экспертов постнауки о системе публикаций статей в академических журналах"
      ]
     },
     "metadata": {},
     "output_type": "display_data"
    },
    {
     "data": {
      "text/html": [
       "<b> компетентностный подход в системе образования </b><br /> философ елена брызгалина о причинах формирования, ограничениях и значении компетентностной парадигмы образования"
      ]
     },
     "metadata": {},
     "output_type": "display_data"
    },
    {
     "data": {
      "text/html": [
       "<b> faqакадемические профессии </b><br /> 7 фактов о становлении академических профессий и их современном состоянии"
      ]
     },
     "metadata": {},
     "output_type": "display_data"
    },
    {
     "data": {
      "text/html": [
       "<b> точка зрения # научные премии </b><br /> мнения экспертов постнауки о роли, которую играют научные премии в развитии их дисциплин"
      ]
     },
     "metadata": {},
     "output_type": "display_data"
    },
    {
     "data": {
      "text/html": [
       "<style  type=\"text/css\" >\n",
       "</style><table id=\"T_a67b1df0_05f2_11ea_a6fb_107b449f15fc\" style='display:inline'><thead>    <tr>        <th class=\"blank level0\" ></th>        <th class=\"col_heading level0 col0\" >topic_25 @2gramm</th>    </tr></thead><tbody>\n",
       "                <tr>\n",
       "                        <th id=\"T_a67b1df0_05f2_11ea_a6fb_107b449f15fclevel0_row0\" class=\"row_heading level0 row0\" >солнечный_система</th>\n",
       "                        <td id=\"T_a67b1df0_05f2_11ea_a6fb_107b449f15fcrow0_col0\" class=\"data row0 col0\" >0.02121</td>\n",
       "            </tr>\n",
       "            <tr>\n",
       "                        <th id=\"T_a67b1df0_05f2_11ea_a6fb_107b449f15fclevel0_row1\" class=\"row_heading level0 row1\" >простой_число</th>\n",
       "                        <td id=\"T_a67b1df0_05f2_11ea_a6fb_107b449f15fcrow1_col0\" class=\"data row1 col0\" >0.01633</td>\n",
       "            </tr>\n",
       "            <tr>\n",
       "                        <th id=\"T_a67b1df0_05f2_11ea_a6fb_107b449f15fclevel0_row2\" class=\"row_heading level0 row2\" >парниковый_эффект</th>\n",
       "                        <td id=\"T_a67b1df0_05f2_11ea_a6fb_107b449f15fcrow2_col0\" class=\"data row2 col0\" >0.01553</td>\n",
       "            </tr>\n",
       "            <tr>\n",
       "                        <th id=\"T_a67b1df0_05f2_11ea_a6fb_107b449f15fclevel0_row3\" class=\"row_heading level0 row3\" >извержение_вулкан</th>\n",
       "                        <td id=\"T_a67b1df0_05f2_11ea_a6fb_107b449f15fcrow3_col0\" class=\"data row3 col0\" >0.01083</td>\n",
       "            </tr>\n",
       "            <tr>\n",
       "                        <th id=\"T_a67b1df0_05f2_11ea_a6fb_107b449f15fclevel0_row4\" class=\"row_heading level0 row4\" >глобальный_потепление</th>\n",
       "                        <td id=\"T_a67b1df0_05f2_11ea_a6fb_107b449f15fcrow4_col0\" class=\"data row4 col0\" >0.01077</td>\n",
       "            </tr>\n",
       "            <tr>\n",
       "                        <th id=\"T_a67b1df0_05f2_11ea_a6fb_107b449f15fclevel0_row5\" class=\"row_heading level0 row5\" >поверхность_земля</th>\n",
       "                        <td id=\"T_a67b1df0_05f2_11ea_a6fb_107b449f15fcrow5_col0\" class=\"data row5 col0\" >0.01029</td>\n",
       "            </tr>\n",
       "            <tr>\n",
       "                        <th id=\"T_a67b1df0_05f2_11ea_a6fb_107b449f15fclevel0_row6\" class=\"row_heading level0 row6\" >рак_грудь</th>\n",
       "                        <td id=\"T_a67b1df0_05f2_11ea_a6fb_107b449f15fcrow6_col0\" class=\"data row6 col0\" >0.00856</td>\n",
       "            </tr>\n",
       "            <tr>\n",
       "                        <th id=\"T_a67b1df0_05f2_11ea_a6fb_107b449f15fclevel0_row7\" class=\"row_heading level0 row7\" >небесный_тело</th>\n",
       "                        <td id=\"T_a67b1df0_05f2_11ea_a6fb_107b449f15fcrow7_col0\" class=\"data row7 col0\" >0.00829</td>\n",
       "            </tr>\n",
       "            <tr>\n",
       "                        <th id=\"T_a67b1df0_05f2_11ea_a6fb_107b449f15fclevel0_row8\" class=\"row_heading level0 row8\" >космический_аппарат</th>\n",
       "                        <td id=\"T_a67b1df0_05f2_11ea_a6fb_107b449f15fcrow8_col0\" class=\"data row8 col0\" >0.00827</td>\n",
       "            </tr>\n",
       "            <tr>\n",
       "                        <th id=\"T_a67b1df0_05f2_11ea_a6fb_107b449f15fclevel0_row9\" class=\"row_heading level0 row9\" >вечный_мерзлота</th>\n",
       "                        <td id=\"T_a67b1df0_05f2_11ea_a6fb_107b449f15fcrow9_col0\" class=\"data row9 col0\" >0.00773</td>\n",
       "            </tr>\n",
       "    </tbody></table><style  type=\"text/css\" >\n",
       "</style><table id=\"T_a67b1df1_05f2_11ea_a6fb_107b449f15fc\" style='display:inline'><thead>    <tr>        <th class=\"blank level0\" ></th>        <th class=\"col_heading level0 col0\" >topic_25 @3gramm</th>    </tr></thead><tbody>\n",
       "        </tbody></table><style  type=\"text/css\" >\n",
       "</style><table id=\"T_a67b1df2_05f2_11ea_a6fb_107b449f15fc\" style='display:inline'><thead>    <tr>        <th class=\"blank level0\" ></th>        <th class=\"col_heading level0 col0\" >topic_25 @post_tag</th>    </tr></thead><tbody>\n",
       "                <tr>\n",
       "                        <th id=\"T_a67b1df2_05f2_11ea_a6fb_107b449f15fclevel0_row0\" class=\"row_heading level0 row0\" >земля</th>\n",
       "                        <td id=\"T_a67b1df2_05f2_11ea_a6fb_107b449f15fcrow0_col0\" class=\"data row0 col0\" >0.18751</td>\n",
       "            </tr>\n",
       "            <tr>\n",
       "                        <th id=\"T_a67b1df2_05f2_11ea_a6fb_107b449f15fclevel0_row1\" class=\"row_heading level0 row1\" >география</th>\n",
       "                        <td id=\"T_a67b1df2_05f2_11ea_a6fb_107b449f15fcrow1_col0\" class=\"data row1 col0\" >0.13137</td>\n",
       "            </tr>\n",
       "            <tr>\n",
       "                        <th id=\"T_a67b1df2_05f2_11ea_a6fb_107b449f15fclevel0_row2\" class=\"row_heading level0 row2\" >геология</th>\n",
       "                        <td id=\"T_a67b1df2_05f2_11ea_a6fb_107b449f15fcrow2_col0\" class=\"data row2 col0\" >0.05917</td>\n",
       "            </tr>\n",
       "            <tr>\n",
       "                        <th id=\"T_a67b1df2_05f2_11ea_a6fb_107b449f15fclevel0_row3\" class=\"row_heading level0 row3\" >марс</th>\n",
       "                        <td id=\"T_a67b1df2_05f2_11ea_a6fb_107b449f15fcrow3_col0\" class=\"data row3 col0\" >0.04474</td>\n",
       "            </tr>\n",
       "            <tr>\n",
       "                        <th id=\"T_a67b1df2_05f2_11ea_a6fb_107b449f15fclevel0_row4\" class=\"row_heading level0 row4\" >солнечная_система</th>\n",
       "                        <td id=\"T_a67b1df2_05f2_11ea_a6fb_107b449f15fcrow4_col0\" class=\"data row4 col0\" >0.04149</td>\n",
       "            </tr>\n",
       "            <tr>\n",
       "                        <th id=\"T_a67b1df2_05f2_11ea_a6fb_107b449f15fclevel0_row5\" class=\"row_heading level0 row5\" >климат</th>\n",
       "                        <td id=\"T_a67b1df2_05f2_11ea_a6fb_107b449f15fcrow5_col0\" class=\"data row5 col0\" >0.03628</td>\n",
       "            </tr>\n",
       "            <tr>\n",
       "                        <th id=\"T_a67b1df2_05f2_11ea_a6fb_107b449f15fclevel0_row6\" class=\"row_heading level0 row6\" >атмосфера</th>\n",
       "                        <td id=\"T_a67b1df2_05f2_11ea_a6fb_107b449f15fcrow6_col0\" class=\"data row6 col0\" >0.03042</td>\n",
       "            </tr>\n",
       "            <tr>\n",
       "                        <th id=\"T_a67b1df2_05f2_11ea_a6fb_107b449f15fclevel0_row7\" class=\"row_heading level0 row7\" >метеорит</th>\n",
       "                        <td id=\"T_a67b1df2_05f2_11ea_a6fb_107b449f15fcrow7_col0\" class=\"data row7 col0\" >0.0279</td>\n",
       "            </tr>\n",
       "            <tr>\n",
       "                        <th id=\"T_a67b1df2_05f2_11ea_a6fb_107b449f15fclevel0_row8\" class=\"row_heading level0 row8\" >вулканизм</th>\n",
       "                        <td id=\"T_a67b1df2_05f2_11ea_a6fb_107b449f15fcrow8_col0\" class=\"data row8 col0\" >0.02789</td>\n",
       "            </tr>\n",
       "            <tr>\n",
       "                        <th id=\"T_a67b1df2_05f2_11ea_a6fb_107b449f15fclevel0_row9\" class=\"row_heading level0 row9\" >марсоход</th>\n",
       "                        <td id=\"T_a67b1df2_05f2_11ea_a6fb_107b449f15fcrow9_col0\" class=\"data row9 col0\" >0.01952</td>\n",
       "            </tr>\n",
       "    </tbody></table><style  type=\"text/css\" >\n",
       "</style><table id=\"T_a67b1df3_05f2_11ea_a6fb_107b449f15fc\" style='display:inline'><thead>    <tr>        <th class=\"blank level0\" ></th>        <th class=\"col_heading level0 col0\" >topic_25 @word</th>    </tr></thead><tbody>\n",
       "                <tr>\n",
       "                        <th id=\"T_a67b1df3_05f2_11ea_a6fb_107b449f15fclevel0_row0\" class=\"row_heading level0 row0\" >земля</th>\n",
       "                        <td id=\"T_a67b1df3_05f2_11ea_a6fb_107b449f15fcrow0_col0\" class=\"data row0 col0\" >0.01799</td>\n",
       "            </tr>\n",
       "            <tr>\n",
       "                        <th id=\"T_a67b1df3_05f2_11ea_a6fb_107b449f15fclevel0_row1\" class=\"row_heading level0 row1\" >планета</th>\n",
       "                        <td id=\"T_a67b1df3_05f2_11ea_a6fb_107b449f15fcrow1_col0\" class=\"data row1 col0\" >0.0099</td>\n",
       "            </tr>\n",
       "            <tr>\n",
       "                        <th id=\"T_a67b1df3_05f2_11ea_a6fb_107b449f15fclevel0_row2\" class=\"row_heading level0 row2\" >атмосфера</th>\n",
       "                        <td id=\"T_a67b1df3_05f2_11ea_a6fb_107b449f15fcrow2_col0\" class=\"data row2 col0\" >0.00802</td>\n",
       "            </tr>\n",
       "            <tr>\n",
       "                        <th id=\"T_a67b1df3_05f2_11ea_a6fb_107b449f15fclevel0_row3\" class=\"row_heading level0 row3\" >марс</th>\n",
       "                        <td id=\"T_a67b1df3_05f2_11ea_a6fb_107b449f15fcrow3_col0\" class=\"data row3 col0\" >0.0069</td>\n",
       "            </tr>\n",
       "            <tr>\n",
       "                        <th id=\"T_a67b1df3_05f2_11ea_a6fb_107b449f15fclevel0_row4\" class=\"row_heading level0 row4\" >лёд</th>\n",
       "                        <td id=\"T_a67b1df3_05f2_11ea_a6fb_107b449f15fcrow4_col0\" class=\"data row4 col0\" >0.0062</td>\n",
       "            </tr>\n",
       "            <tr>\n",
       "                        <th id=\"T_a67b1df3_05f2_11ea_a6fb_107b449f15fclevel0_row5\" class=\"row_heading level0 row5\" >вулкан</th>\n",
       "                        <td id=\"T_a67b1df3_05f2_11ea_a6fb_107b449f15fcrow5_col0\" class=\"data row5 col0\" >0.00602</td>\n",
       "            </tr>\n",
       "            <tr>\n",
       "                        <th id=\"T_a67b1df3_05f2_11ea_a6fb_107b449f15fclevel0_row6\" class=\"row_heading level0 row6\" >планет</th>\n",
       "                        <td id=\"T_a67b1df3_05f2_11ea_a6fb_107b449f15fcrow6_col0\" class=\"data row6 col0\" >0.00558</td>\n",
       "            </tr>\n",
       "            <tr>\n",
       "                        <th id=\"T_a67b1df3_05f2_11ea_a6fb_107b449f15fclevel0_row7\" class=\"row_heading level0 row7\" >океан</th>\n",
       "                        <td id=\"T_a67b1df3_05f2_11ea_a6fb_107b449f15fcrow7_col0\" class=\"data row7 col0\" >0.00522</td>\n",
       "            </tr>\n",
       "            <tr>\n",
       "                        <th id=\"T_a67b1df3_05f2_11ea_a6fb_107b449f15fclevel0_row8\" class=\"row_heading level0 row8\" >вода</th>\n",
       "                        <td id=\"T_a67b1df3_05f2_11ea_a6fb_107b449f15fcrow8_col0\" class=\"data row8 col0\" >0.00504</td>\n",
       "            </tr>\n",
       "            <tr>\n",
       "                        <th id=\"T_a67b1df3_05f2_11ea_a6fb_107b449f15fclevel0_row9\" class=\"row_heading level0 row9\" >километр</th>\n",
       "                        <td id=\"T_a67b1df3_05f2_11ea_a6fb_107b449f15fcrow9_col0\" class=\"data row9 col0\" >0.00502</td>\n",
       "            </tr>\n",
       "    </tbody></table>"
      ]
     },
     "metadata": {},
     "output_type": "display_data"
    },
    {
     "data": {
      "text/html": [
       "<b> главыгорячее дыхание земли </b><br /> отрывок из книги «земля. метеориты, вулканы, землетрясения» геолога николая короновского о внутреннем строении земли и наиболее опасных геологических явлениях"
      ]
     },
     "metadata": {},
     "output_type": "display_data"
    },
    {
     "data": {
      "text/html": [
       "<b> faqприрода вулканов </b><br /> физик олег мельников о самых крупных извержениях в истории земли, доисторических потоках пепла от вулканов и видах проявлений вулканизма"
      ]
     },
     "metadata": {},
     "output_type": "display_data"
    },
    {
     "data": {
      "text/html": [
       "<b> faqураган «сэнди» </b><br /> 7 фактов о тропическом циклоне, который ударил по восточному побережью сша"
      ]
     },
     "metadata": {},
     "output_type": "display_data"
    },
    {
     "data": {
      "text/html": [
       "<b> faqгеоморфология </b><br /> 10 фактов об изучении неровностей земной поверхности"
      ]
     },
     "metadata": {},
     "output_type": "display_data"
    },
    {
     "data": {
      "text/html": [
       "<b> образование айсбергов </b><br /> географ андрей глазовский об отколе айсбергов, измерении ледников и осваивании шельфов"
      ]
     },
     "metadata": {},
     "output_type": "display_data"
    },
    {
     "data": {
      "text/html": [
       "<b> faqоледенения и природа земли </b><br /> 5 фактов о причинах оледенения, изменениях уровня  мирового океана и межледниковой эпохе"
      ]
     },
     "metadata": {},
     "output_type": "display_data"
    },
    {
     "data": {
      "text/html": [
       "<b> главы # закономерности простых чисел. гипотеза римана </b><br /> отрывок из книги «величайшие математические задачи» английского математика и популяризатора науки иэна стюарта"
      ]
     },
     "metadata": {},
     "output_type": "display_data"
    },
    {
     "data": {
      "text/html": [
       "<b> оледенение и природа земли </b><br /> географ татьяна смоктунович об эпохах оледенения, уровне мирового океана и появлении новых островов на поверхности земли"
      ]
     },
     "metadata": {},
     "output_type": "display_data"
    },
    {
     "data": {
      "text/html": [
       "<b> удивительный марс </b><br /> астроном владимир сурдин о \"зоне жизни\", магнитном поле марса и марсоходе curiosity"
      ]
     },
     "metadata": {},
     "output_type": "display_data"
    },
    {
     "data": {
      "text/html": [
       "<b> вечная мерзлота как источник парниковых газов </b><br /> геолог елизавета ривкина о запасах метана в вечной мерзлоте и увеличении среднегодовой температуры"
      ]
     },
     "metadata": {},
     "output_type": "display_data"
    },
    {
     "data": {
      "text/html": [
       "<style  type=\"text/css\" >\n",
       "</style><table id=\"T_a67b1df4_05f2_11ea_a6fb_107b449f15fc\" style='display:inline'><thead>    <tr>        <th class=\"blank level0\" ></th>        <th class=\"col_heading level0 col0\" >topic_26 @2gramm</th>    </tr></thead><tbody>\n",
       "                <tr>\n",
       "                        <th id=\"T_a67b1df4_05f2_11ea_a6fb_107b449f15fclevel0_row0\" class=\"row_heading level0 row0\" >городской_пространство</th>\n",
       "                        <td id=\"T_a67b1df4_05f2_11ea_a6fb_107b449f15fcrow0_col0\" class=\"data row0 col0\" >0.01195</td>\n",
       "            </tr>\n",
       "            <tr>\n",
       "                        <th id=\"T_a67b1df4_05f2_11ea_a6fb_107b449f15fclevel0_row1\" class=\"row_heading level0 row1\" >язык_описание</th>\n",
       "                        <td id=\"T_a67b1df4_05f2_11ea_a6fb_107b449f15fcrow1_col0\" class=\"data row1 col0\" >0.01066</td>\n",
       "            </tr>\n",
       "            <tr>\n",
       "                        <th id=\"T_a67b1df4_05f2_11ea_a6fb_107b449f15fclevel0_row2\" class=\"row_heading level0 row2\" >малое_город</th>\n",
       "                        <td id=\"T_a67b1df4_05f2_11ea_a6fb_107b449f15fcrow2_col0\" class=\"data row2 col0\" >0.00839</td>\n",
       "            </tr>\n",
       "            <tr>\n",
       "                        <th id=\"T_a67b1df4_05f2_11ea_a6fb_107b449f15fclevel0_row3\" class=\"row_heading level0 row3\" >средний_класс</th>\n",
       "                        <td id=\"T_a67b1df4_05f2_11ea_a6fb_107b449f15fcrow3_col0\" class=\"data row3 col0\" >0.00797</td>\n",
       "            </tr>\n",
       "            <tr>\n",
       "                        <th id=\"T_a67b1df4_05f2_11ea_a6fb_107b449f15fclevel0_row4\" class=\"row_heading level0 row4\" >социологический_теория</th>\n",
       "                        <td id=\"T_a67b1df4_05f2_11ea_a6fb_107b449f15fcrow4_col0\" class=\"data row4 col0\" >0.00797</td>\n",
       "            </tr>\n",
       "            <tr>\n",
       "                        <th id=\"T_a67b1df4_05f2_11ea_a6fb_107b449f15fclevel0_row5\" class=\"row_heading level0 row5\" >общественный_пространство</th>\n",
       "                        <td id=\"T_a67b1df4_05f2_11ea_a6fb_107b449f15fcrow5_col0\" class=\"data row5 col0\" >0.00745</td>\n",
       "            </tr>\n",
       "            <tr>\n",
       "                        <th id=\"T_a67b1df4_05f2_11ea_a6fb_107b449f15fclevel0_row6\" class=\"row_heading level0 row6\" >социальный_жизнь</th>\n",
       "                        <td id=\"T_a67b1df4_05f2_11ea_a6fb_107b449f15fcrow6_col0\" class=\"data row6 col0\" >0.00721</td>\n",
       "            </tr>\n",
       "            <tr>\n",
       "                        <th id=\"T_a67b1df4_05f2_11ea_a6fb_107b449f15fclevel0_row7\" class=\"row_heading level0 row7\" >социальный_отношение</th>\n",
       "                        <td id=\"T_a67b1df4_05f2_11ea_a6fb_107b449f15fcrow7_col0\" class=\"data row7 col0\" >0.00697</td>\n",
       "            </tr>\n",
       "            <tr>\n",
       "                        <th id=\"T_a67b1df4_05f2_11ea_a6fb_107b449f15fclevel0_row8\" class=\"row_heading level0 row8\" >социологический_исследование</th>\n",
       "                        <td id=\"T_a67b1df4_05f2_11ea_a6fb_107b449f15fcrow8_col0\" class=\"data row8 col0\" >0.00686</td>\n",
       "            </tr>\n",
       "            <tr>\n",
       "                        <th id=\"T_a67b1df4_05f2_11ea_a6fb_107b449f15fclevel0_row9\" class=\"row_heading level0 row9\" >социальный_антропология</th>\n",
       "                        <td id=\"T_a67b1df4_05f2_11ea_a6fb_107b449f15fcrow9_col0\" class=\"data row9 col0\" >0.00675</td>\n",
       "            </tr>\n",
       "    </tbody></table><style  type=\"text/css\" >\n",
       "</style><table id=\"T_a67b1df5_05f2_11ea_a6fb_107b449f15fc\" style='display:inline'><thead>    <tr>        <th class=\"blank level0\" ></th>        <th class=\"col_heading level0 col0\" >topic_26 @3gramm</th>    </tr></thead><tbody>\n",
       "        </tbody></table><style  type=\"text/css\" >\n",
       "</style><table id=\"T_a67b1df6_05f2_11ea_a6fb_107b449f15fc\" style='display:inline'><thead>    <tr>        <th class=\"blank level0\" ></th>        <th class=\"col_heading level0 col0\" >topic_26 @post_tag</th>    </tr></thead><tbody>\n",
       "                <tr>\n",
       "                        <th id=\"T_a67b1df6_05f2_11ea_a6fb_107b449f15fclevel0_row0\" class=\"row_heading level0 row0\" >социология</th>\n",
       "                        <td id=\"T_a67b1df6_05f2_11ea_a6fb_107b449f15fcrow0_col0\" class=\"data row0 col0\" >0.38899</td>\n",
       "            </tr>\n",
       "            <tr>\n",
       "                        <th id=\"T_a67b1df6_05f2_11ea_a6fb_107b449f15fclevel0_row1\" class=\"row_heading level0 row1\" >город</th>\n",
       "                        <td id=\"T_a67b1df6_05f2_11ea_a6fb_107b449f15fcrow1_col0\" class=\"data row1 col0\" >0.1072</td>\n",
       "            </tr>\n",
       "            <tr>\n",
       "                        <th id=\"T_a67b1df6_05f2_11ea_a6fb_107b449f15fclevel0_row2\" class=\"row_heading level0 row2\" >урбанистика</th>\n",
       "                        <td id=\"T_a67b1df6_05f2_11ea_a6fb_107b449f15fcrow2_col0\" class=\"data row2 col0\" >0.0494</td>\n",
       "            </tr>\n",
       "            <tr>\n",
       "                        <th id=\"T_a67b1df6_05f2_11ea_a6fb_107b449f15fclevel0_row3\" class=\"row_heading level0 row3\" >городское_пространство</th>\n",
       "                        <td id=\"T_a67b1df6_05f2_11ea_a6fb_107b449f15fcrow3_col0\" class=\"data row3 col0\" >0.03669</td>\n",
       "            </tr>\n",
       "            <tr>\n",
       "                        <th id=\"T_a67b1df6_05f2_11ea_a6fb_107b449f15fclevel0_row4\" class=\"row_heading level0 row4\" >дюркгейм_эмиль</th>\n",
       "                        <td id=\"T_a67b1df6_05f2_11ea_a6fb_107b449f15fcrow4_col0\" class=\"data row4 col0\" >0.03515</td>\n",
       "            </tr>\n",
       "            <tr>\n",
       "                        <th id=\"T_a67b1df6_05f2_11ea_a6fb_107b449f15fclevel0_row5\" class=\"row_heading level0 row5\" >социология_науки</th>\n",
       "                        <td id=\"T_a67b1df6_05f2_11ea_a6fb_107b449f15fcrow5_col0\" class=\"data row5 col0\" >0.02955</td>\n",
       "            </tr>\n",
       "            <tr>\n",
       "                        <th id=\"T_a67b1df6_05f2_11ea_a6fb_107b449f15fclevel0_row6\" class=\"row_heading level0 row6\" >вебер_макс</th>\n",
       "                        <td id=\"T_a67b1df6_05f2_11ea_a6fb_107b449f15fcrow6_col0\" class=\"data row6 col0\" >0.02908</td>\n",
       "            </tr>\n",
       "            <tr>\n",
       "                        <th id=\"T_a67b1df6_05f2_11ea_a6fb_107b449f15fclevel0_row7\" class=\"row_heading level0 row7\" >социология_пространства</th>\n",
       "                        <td id=\"T_a67b1df6_05f2_11ea_a6fb_107b449f15fcrow7_col0\" class=\"data row7 col0\" >0.02682</td>\n",
       "            </tr>\n",
       "            <tr>\n",
       "                        <th id=\"T_a67b1df6_05f2_11ea_a6fb_107b449f15fclevel0_row8\" class=\"row_heading level0 row8\" >москва</th>\n",
       "                        <td id=\"T_a67b1df6_05f2_11ea_a6fb_107b449f15fcrow8_col0\" class=\"data row8 col0\" >0.02244</td>\n",
       "            </tr>\n",
       "            <tr>\n",
       "                        <th id=\"T_a67b1df6_05f2_11ea_a6fb_107b449f15fclevel0_row9\" class=\"row_heading level0 row9\" >общество</th>\n",
       "                        <td id=\"T_a67b1df6_05f2_11ea_a6fb_107b449f15fcrow9_col0\" class=\"data row9 col0\" >0.01849</td>\n",
       "            </tr>\n",
       "    </tbody></table><style  type=\"text/css\" >\n",
       "</style><table id=\"T_a67b1df7_05f2_11ea_a6fb_107b449f15fc\" style='display:inline'><thead>    <tr>        <th class=\"blank level0\" ></th>        <th class=\"col_heading level0 col0\" >topic_26 @word</th>    </tr></thead><tbody>\n",
       "                <tr>\n",
       "                        <th id=\"T_a67b1df7_05f2_11ea_a6fb_107b449f15fclevel0_row0\" class=\"row_heading level0 row0\" >город</th>\n",
       "                        <td id=\"T_a67b1df7_05f2_11ea_a6fb_107b449f15fcrow0_col0\" class=\"data row0 col0\" >0.01682</td>\n",
       "            </tr>\n",
       "            <tr>\n",
       "                        <th id=\"T_a67b1df7_05f2_11ea_a6fb_107b449f15fclevel0_row1\" class=\"row_heading level0 row1\" >пространство</th>\n",
       "                        <td id=\"T_a67b1df7_05f2_11ea_a6fb_107b449f15fcrow1_col0\" class=\"data row1 col0\" >0.00961</td>\n",
       "            </tr>\n",
       "            <tr>\n",
       "                        <th id=\"T_a67b1df7_05f2_11ea_a6fb_107b449f15fclevel0_row2\" class=\"row_heading level0 row2\" >социология</th>\n",
       "                        <td id=\"T_a67b1df7_05f2_11ea_a6fb_107b449f15fcrow2_col0\" class=\"data row2 col0\" >0.00943</td>\n",
       "            </tr>\n",
       "            <tr>\n",
       "                        <th id=\"T_a67b1df7_05f2_11ea_a6fb_107b449f15fclevel0_row3\" class=\"row_heading level0 row3\" >общество</th>\n",
       "                        <td id=\"T_a67b1df7_05f2_11ea_a6fb_107b449f15fcrow3_col0\" class=\"data row3 col0\" >0.00646</td>\n",
       "            </tr>\n",
       "            <tr>\n",
       "                        <th id=\"T_a67b1df7_05f2_11ea_a6fb_107b449f15fclevel0_row4\" class=\"row_heading level0 row4\" >социальный</th>\n",
       "                        <td id=\"T_a67b1df7_05f2_11ea_a6fb_107b449f15fcrow4_col0\" class=\"data row4 col0\" >0.00645</td>\n",
       "            </tr>\n",
       "            <tr>\n",
       "                        <th id=\"T_a67b1df7_05f2_11ea_a6fb_107b449f15fclevel0_row5\" class=\"row_heading level0 row5\" >социолог</th>\n",
       "                        <td id=\"T_a67b1df7_05f2_11ea_a6fb_107b449f15fcrow5_col0\" class=\"data row5 col0\" >0.00597</td>\n",
       "            </tr>\n",
       "            <tr>\n",
       "                        <th id=\"T_a67b1df7_05f2_11ea_a6fb_107b449f15fclevel0_row6\" class=\"row_heading level0 row6\" >отношение</th>\n",
       "                        <td id=\"T_a67b1df7_05f2_11ea_a6fb_107b449f15fcrow6_col0\" class=\"data row6 col0\" >0.00553</td>\n",
       "            </tr>\n",
       "            <tr>\n",
       "                        <th id=\"T_a67b1df7_05f2_11ea_a6fb_107b449f15fclevel0_row7\" class=\"row_heading level0 row7\" >сообщество</th>\n",
       "                        <td id=\"T_a67b1df7_05f2_11ea_a6fb_107b449f15fcrow7_col0\" class=\"data row7 col0\" >0.00536</td>\n",
       "            </tr>\n",
       "            <tr>\n",
       "                        <th id=\"T_a67b1df7_05f2_11ea_a6fb_107b449f15fclevel0_row8\" class=\"row_heading level0 row8\" >объект</th>\n",
       "                        <td id=\"T_a67b1df7_05f2_11ea_a6fb_107b449f15fcrow8_col0\" class=\"data row8 col0\" >0.00502</td>\n",
       "            </tr>\n",
       "            <tr>\n",
       "                        <th id=\"T_a67b1df7_05f2_11ea_a6fb_107b449f15fclevel0_row9\" class=\"row_heading level0 row9\" >являться</th>\n",
       "                        <td id=\"T_a67b1df7_05f2_11ea_a6fb_107b449f15fcrow9_col0\" class=\"data row9 col0\" >0.00437</td>\n",
       "            </tr>\n",
       "    </tbody></table>"
      ]
     },
     "metadata": {},
     "output_type": "display_data"
    },
    {
     "data": {
      "text/html": [
       "<b> как изменилась городская среда? </b><br /> о городах-потоках, качестве городского пространства, культурной жизни периферии и досуге москвичей"
      ]
     },
     "metadata": {},
     "output_type": "display_data"
    },
    {
     "data": {
      "text/html": [
       "<b> от лифта к небоскребусоциология, архитектура и техника </b><br /> как технологии создают границы и «расцепляют» пространство?"
      ]
     },
     "metadata": {},
     "output_type": "display_data"
    },
    {
     "data": {
      "text/html": [
       "<b> faqсообщества и городская среда </b><br /> 7 фактов об определении сообществ в социологической традиции и их роли в городской среде"
      ]
     },
     "metadata": {},
     "output_type": "display_data"
    },
    {
     "data": {
      "text/html": [
       "<b> faqсоциология маргинальности </b><br /> 7 фактов об изучении чужака и границ в обществе"
      ]
     },
     "metadata": {},
     "output_type": "display_data"
    },
    {
     "data": {
      "text/html": [
       "<b> faqсоциология пространства </b><br /> 7 фактов о социологическом понимании места и времени"
      ]
     },
     "metadata": {},
     "output_type": "display_data"
    },
    {
     "data": {
      "text/html": [
       "<b> инциденты на дисциплинарных границах </b><br /> каковы «языковые» и «жанровые» отличия социологии от социальной антропологии?"
      ]
     },
     "metadata": {},
     "output_type": "display_data"
    },
    {
     "data": {
      "text/html": [
       "<b> социология города </b><br /> социолог виктор вахштайн о связи социального и физического пространства, городской повседневности и различиях между социологией и урбанистикой"
      ]
     },
     "metadata": {},
     "output_type": "display_data"
    },
    {
     "data": {
      "text/html": [
       "<b> методология социальных обследований </b><br /> социолог дмитрий рогозин о влиянии постпозитивизма, этапах проведения обследований и пользе курсов по методологии"
      ]
     },
     "metadata": {},
     "output_type": "display_data"
    },
    {
     "data": {
      "text/html": [
       "<b> социологическая интерпретация </b><br /> социолог виктор вахштайн о модели интерпретации в «играх разума», стадиях построения сюжета и требовании концептуальной сообразности"
      ]
     },
     "metadata": {},
     "output_type": "display_data"
    },
    {
     "data": {
      "text/html": [
       "<b> парадоксальная мобильность </b><br /> социолог александр филиппов о понятии резидентности, социологии пространства и случайных попутчиках"
      ]
     },
     "metadata": {},
     "output_type": "display_data"
    },
    {
     "data": {
      "text/html": [
       "<style  type=\"text/css\" >\n",
       "</style><table id=\"T_a67b1df8_05f2_11ea_a6fb_107b449f15fc\" style='display:inline'><thead>    <tr>        <th class=\"blank level0\" ></th>        <th class=\"col_heading level0 col0\" >bcg_27 @2gramm</th>    </tr></thead><tbody>\n",
       "                <tr>\n",
       "                        <th id=\"T_a67b1df8_05f2_11ea_a6fb_107b449f15fclevel0_row0\" class=\"row_heading level0 row0\" >речь_идти</th>\n",
       "                        <td id=\"T_a67b1df8_05f2_11ea_a6fb_107b449f15fcrow0_col0\" class=\"data row0 col0\" >0.00588</td>\n",
       "            </tr>\n",
       "            <tr>\n",
       "                        <th id=\"T_a67b1df8_05f2_11ea_a6fb_107b449f15fclevel0_row1\" class=\"row_heading level0 row1\" >дать_случай</th>\n",
       "                        <td id=\"T_a67b1df8_05f2_11ea_a6fb_107b449f15fcrow1_col0\" class=\"data row1 col0\" >0.00543</td>\n",
       "            </tr>\n",
       "            <tr>\n",
       "                        <th id=\"T_a67b1df8_05f2_11ea_a6fb_107b449f15fclevel0_row2\" class=\"row_heading level0 row2\" >xx_век</th>\n",
       "                        <td id=\"T_a67b1df8_05f2_11ea_a6fb_107b449f15fcrow2_col0\" class=\"data row2 col0\" >0.00513</td>\n",
       "            </tr>\n",
       "            <tr>\n",
       "                        <th id=\"T_a67b1df8_05f2_11ea_a6fb_107b449f15fclevel0_row3\" class=\"row_heading level0 row3\" >xix_век</th>\n",
       "                        <td id=\"T_a67b1df8_05f2_11ea_a6fb_107b449f15fcrow3_col0\" class=\"data row3 col0\" >0.00468</td>\n",
       "            </tr>\n",
       "            <tr>\n",
       "                        <th id=\"T_a67b1df8_05f2_11ea_a6fb_107b449f15fclevel0_row4\" class=\"row_heading level0 row4\" >большой_количество</th>\n",
       "                        <td id=\"T_a67b1df8_05f2_11ea_a6fb_107b449f15fcrow4_col0\" class=\"data row4 col0\" >0.0043</td>\n",
       "            </tr>\n",
       "            <tr>\n",
       "                        <th id=\"T_a67b1df8_05f2_11ea_a6fb_107b449f15fclevel0_row5\" class=\"row_heading level0 row5\" >огромный_количество</th>\n",
       "                        <td id=\"T_a67b1df8_05f2_11ea_a6fb_107b449f15fcrow5_col0\" class=\"data row5 col0\" >0.00366</td>\n",
       "            </tr>\n",
       "            <tr>\n",
       "                        <th id=\"T_a67b1df8_05f2_11ea_a6fb_107b449f15fclevel0_row6\" class=\"row_heading level0 row6\" >конец_конец</th>\n",
       "                        <td id=\"T_a67b1df8_05f2_11ea_a6fb_107b449f15fcrow6_col0\" class=\"data row6 col0\" >0.00354</td>\n",
       "            </tr>\n",
       "            <tr>\n",
       "                        <th id=\"T_a67b1df8_05f2_11ea_a6fb_107b449f15fclevel0_row7\" class=\"row_heading level0 row7\" >нобелевский_премия</th>\n",
       "                        <td id=\"T_a67b1df8_05f2_11ea_a6fb_107b449f15fcrow7_col0\" class=\"data row7 col0\" >0.00263</td>\n",
       "            </tr>\n",
       "            <tr>\n",
       "                        <th id=\"T_a67b1df8_05f2_11ea_a6fb_107b449f15fclevel0_row8\" class=\"row_heading level0 row8\" >получить_название</th>\n",
       "                        <td id=\"T_a67b1df8_05f2_11ea_a6fb_107b449f15fcrow8_col0\" class=\"data row8 col0\" >0.00258</td>\n",
       "            </tr>\n",
       "            <tr>\n",
       "                        <th id=\"T_a67b1df8_05f2_11ea_a6fb_107b449f15fclevel0_row9\" class=\"row_heading level0 row9\" >крайний_мера</th>\n",
       "                        <td id=\"T_a67b1df8_05f2_11ea_a6fb_107b449f15fcrow9_col0\" class=\"data row9 col0\" >0.00256</td>\n",
       "            </tr>\n",
       "    </tbody></table><style  type=\"text/css\" >\n",
       "</style><table id=\"T_a67b1df9_05f2_11ea_a6fb_107b449f15fc\" style='display:inline'><thead>    <tr>        <th class=\"blank level0\" ></th>        <th class=\"col_heading level0 col0\" >bcg_27 @3gramm</th>    </tr></thead><tbody>\n",
       "                <tr>\n",
       "                        <th id=\"T_a67b1df9_05f2_11ea_a6fb_107b449f15fclevel0_row0\" class=\"row_heading level0 row0\" >начало_xx_век</th>\n",
       "                        <td id=\"T_a67b1df9_05f2_11ea_a6fb_107b449f15fcrow0_col0\" class=\"data row0 col0\" >0.0354</td>\n",
       "            </tr>\n",
       "            <tr>\n",
       "                        <th id=\"T_a67b1df9_05f2_11ea_a6fb_107b449f15fclevel0_row1\" class=\"row_heading level0 row1\" >конец_xix_век</th>\n",
       "                        <td id=\"T_a67b1df9_05f2_11ea_a6fb_107b449f15fcrow1_col0\" class=\"data row1 col0\" >0.03333</td>\n",
       "            </tr>\n",
       "            <tr>\n",
       "                        <th id=\"T_a67b1df9_05f2_11ea_a6fb_107b449f15fclevel0_row2\" class=\"row_heading level0 row2\" >большой_адронный_коллайдер</th>\n",
       "                        <td id=\"T_a67b1df9_05f2_11ea_a6fb_107b449f15fcrow2_col0\" class=\"data row2 col0\" >0.03267</td>\n",
       "            </tr>\n",
       "            <tr>\n",
       "                        <th id=\"T_a67b1df9_05f2_11ea_a6fb_107b449f15fclevel0_row3\" class=\"row_heading level0 row3\" >физика_элементарный_частица</th>\n",
       "                        <td id=\"T_a67b1df9_05f2_11ea_a6fb_107b449f15fcrow3_col0\" class=\"data row3 col0\" >0.02824</td>\n",
       "            </tr>\n",
       "            <tr>\n",
       "                        <th id=\"T_a67b1df9_05f2_11ea_a6fb_107b449f15fclevel0_row4\" class=\"row_heading level0 row4\" >середина_xix_век</th>\n",
       "                        <td id=\"T_a67b1df9_05f2_11ea_a6fb_107b449f15fcrow4_col0\" class=\"data row4 col0\" >0.02215</td>\n",
       "            </tr>\n",
       "            <tr>\n",
       "                        <th id=\"T_a67b1df9_05f2_11ea_a6fb_107b449f15fclevel0_row5\" class=\"row_heading level0 row5\" >квантовый_теория_поль</th>\n",
       "                        <td id=\"T_a67b1df9_05f2_11ea_a6fb_107b449f15fcrow5_col0\" class=\"data row5 col0\" >0.02044</td>\n",
       "            </tr>\n",
       "            <tr>\n",
       "                        <th id=\"T_a67b1df9_05f2_11ea_a6fb_107b449f15fclevel0_row6\" class=\"row_heading level0 row6\" >получить_нобелевский_премия</th>\n",
       "                        <td id=\"T_a67b1df9_05f2_11ea_a6fb_107b449f15fcrow6_col0\" class=\"data row6 col0\" >0.02021</td>\n",
       "            </tr>\n",
       "            <tr>\n",
       "                        <th id=\"T_a67b1df9_05f2_11ea_a6fb_107b449f15fclevel0_row7\" class=\"row_heading level0 row7\" >соединить_штат_америка</th>\n",
       "                        <td id=\"T_a67b1df9_05f2_11ea_a6fb_107b449f15fcrow7_col0\" class=\"data row7 col0\" >0.01954</td>\n",
       "            </tr>\n",
       "            <tr>\n",
       "                        <th id=\"T_a67b1df9_05f2_11ea_a6fb_107b449f15fclevel0_row8\" class=\"row_heading level0 row8\" >середина_xx_век</th>\n",
       "                        <td id=\"T_a67b1df9_05f2_11ea_a6fb_107b449f15fcrow8_col0\" class=\"data row8 col0\" >0.01754</td>\n",
       "            </tr>\n",
       "            <tr>\n",
       "                        <th id=\"T_a67b1df9_05f2_11ea_a6fb_107b449f15fclevel0_row9\" class=\"row_heading level0 row9\" >начало_xxi_век</th>\n",
       "                        <td id=\"T_a67b1df9_05f2_11ea_a6fb_107b449f15fcrow9_col0\" class=\"data row9 col0\" >0.01751</td>\n",
       "            </tr>\n",
       "    </tbody></table><style  type=\"text/css\" >\n",
       "</style><table id=\"T_a67b1dfa_05f2_11ea_a6fb_107b449f15fc\" style='display:inline'><thead>    <tr>        <th class=\"blank level0\" ></th>        <th class=\"col_heading level0 col0\" >bcg_27 @post_tag</th>    </tr></thead><tbody>\n",
       "                <tr>\n",
       "                        <th id=\"T_a67b1dfa_05f2_11ea_a6fb_107b449f15fclevel0_row0\" class=\"row_heading level0 row0\" >биология</th>\n",
       "                        <td id=\"T_a67b1dfa_05f2_11ea_a6fb_107b449f15fcrow0_col0\" class=\"data row0 col0\" >0.225</td>\n",
       "            </tr>\n",
       "            <tr>\n",
       "                        <th id=\"T_a67b1dfa_05f2_11ea_a6fb_107b449f15fclevel0_row1\" class=\"row_heading level0 row1\" >физика</th>\n",
       "                        <td id=\"T_a67b1dfa_05f2_11ea_a6fb_107b449f15fcrow1_col0\" class=\"data row1 col0\" >0.08841</td>\n",
       "            </tr>\n",
       "            <tr>\n",
       "                        <th id=\"T_a67b1dfa_05f2_11ea_a6fb_107b449f15fclevel0_row2\" class=\"row_heading level0 row2\" >история</th>\n",
       "                        <td id=\"T_a67b1dfa_05f2_11ea_a6fb_107b449f15fcrow2_col0\" class=\"data row2 col0\" >0.07345</td>\n",
       "            </tr>\n",
       "            <tr>\n",
       "                        <th id=\"T_a67b1dfa_05f2_11ea_a6fb_107b449f15fclevel0_row3\" class=\"row_heading level0 row3\" >технологии</th>\n",
       "                        <td id=\"T_a67b1dfa_05f2_11ea_a6fb_107b449f15fcrow3_col0\" class=\"data row3 col0\" >0.07339</td>\n",
       "            </tr>\n",
       "            <tr>\n",
       "                        <th id=\"T_a67b1dfa_05f2_11ea_a6fb_107b449f15fclevel0_row4\" class=\"row_heading level0 row4\" >медицина</th>\n",
       "                        <td id=\"T_a67b1dfa_05f2_11ea_a6fb_107b449f15fcrow4_col0\" class=\"data row4 col0\" >0.05934</td>\n",
       "            </tr>\n",
       "            <tr>\n",
       "                        <th id=\"T_a67b1dfa_05f2_11ea_a6fb_107b449f15fclevel0_row5\" class=\"row_heading level0 row5\" >политика</th>\n",
       "                        <td id=\"T_a67b1dfa_05f2_11ea_a6fb_107b449f15fcrow5_col0\" class=\"data row5 col0\" >0.04239</td>\n",
       "            </tr>\n",
       "            <tr>\n",
       "                        <th id=\"T_a67b1dfa_05f2_11ea_a6fb_107b449f15fclevel0_row6\" class=\"row_heading level0 row6\" >сша</th>\n",
       "                        <td id=\"T_a67b1dfa_05f2_11ea_a6fb_107b449f15fcrow6_col0\" class=\"data row6 col0\" >0.04114</td>\n",
       "            </tr>\n",
       "            <tr>\n",
       "                        <th id=\"T_a67b1dfa_05f2_11ea_a6fb_107b449f15fclevel0_row7\" class=\"row_heading level0 row7\" >биотехнологии</th>\n",
       "                        <td id=\"T_a67b1dfa_05f2_11ea_a6fb_107b449f15fcrow7_col0\" class=\"data row7 col0\" >0.01758</td>\n",
       "            </tr>\n",
       "            <tr>\n",
       "                        <th id=\"T_a67b1dfa_05f2_11ea_a6fb_107b449f15fclevel0_row8\" class=\"row_heading level0 row8\" >россия</th>\n",
       "                        <td id=\"T_a67b1dfa_05f2_11ea_a6fb_107b449f15fcrow8_col0\" class=\"data row8 col0\" >0.0174</td>\n",
       "            </tr>\n",
       "            <tr>\n",
       "                        <th id=\"T_a67b1dfa_05f2_11ea_a6fb_107b449f15fclevel0_row9\" class=\"row_heading level0 row9\" >история_науки</th>\n",
       "                        <td id=\"T_a67b1dfa_05f2_11ea_a6fb_107b449f15fcrow9_col0\" class=\"data row9 col0\" >0.01448</td>\n",
       "            </tr>\n",
       "    </tbody></table><style  type=\"text/css\" >\n",
       "</style><table id=\"T_a67b1dfb_05f2_11ea_a6fb_107b449f15fc\" style='display:inline'><thead>    <tr>        <th class=\"blank level0\" ></th>        <th class=\"col_heading level0 col0\" >bcg_27 @word</th>    </tr></thead><tbody>\n",
       "                <tr>\n",
       "                        <th id=\"T_a67b1dfb_05f2_11ea_a6fb_107b449f15fclevel0_row0\" class=\"row_heading level0 row0\" >являться</th>\n",
       "                        <td id=\"T_a67b1dfb_05f2_11ea_a6fb_107b449f15fcrow0_col0\" class=\"data row0 col0\" >0.00216</td>\n",
       "            </tr>\n",
       "            <tr>\n",
       "                        <th id=\"T_a67b1dfb_05f2_11ea_a6fb_107b449f15fclevel0_row1\" class=\"row_heading level0 row1\" >говорить</th>\n",
       "                        <td id=\"T_a67b1dfb_05f2_11ea_a6fb_107b449f15fcrow1_col0\" class=\"data row1 col0\" >0.00191</td>\n",
       "            </tr>\n",
       "            <tr>\n",
       "                        <th id=\"T_a67b1dfb_05f2_11ea_a6fb_107b449f15fclevel0_row2\" class=\"row_heading level0 row2\" >существовать</th>\n",
       "                        <td id=\"T_a67b1dfb_05f2_11ea_a6fb_107b449f15fcrow2_col0\" class=\"data row2 col0\" >0.00189</td>\n",
       "            </tr>\n",
       "            <tr>\n",
       "                        <th id=\"T_a67b1dfb_05f2_11ea_a6fb_107b449f15fclevel0_row3\" class=\"row_heading level0 row3\" >большой</th>\n",
       "                        <td id=\"T_a67b1dfb_05f2_11ea_a6fb_107b449f15fcrow3_col0\" class=\"data row3 col0\" >0.00177</td>\n",
       "            </tr>\n",
       "            <tr>\n",
       "                        <th id=\"T_a67b1dfb_05f2_11ea_a6fb_107b449f15fclevel0_row4\" class=\"row_heading level0 row4\" >вопрос</th>\n",
       "                        <td id=\"T_a67b1dfb_05f2_11ea_a6fb_107b449f15fcrow4_col0\" class=\"data row4 col0\" >0.00176</td>\n",
       "            </tr>\n",
       "            <tr>\n",
       "                        <th id=\"T_a67b1dfb_05f2_11ea_a6fb_107b449f15fclevel0_row5\" class=\"row_heading level0 row5\" >система</th>\n",
       "                        <td id=\"T_a67b1dfb_05f2_11ea_a6fb_107b449f15fcrow5_col0\" class=\"data row5 col0\" >0.00172</td>\n",
       "            </tr>\n",
       "            <tr>\n",
       "                        <th id=\"T_a67b1dfb_05f2_11ea_a6fb_107b449f15fclevel0_row6\" class=\"row_heading level0 row6\" >стать</th>\n",
       "                        <td id=\"T_a67b1dfb_05f2_11ea_a6fb_107b449f15fcrow6_col0\" class=\"data row6 col0\" >0.00164</td>\n",
       "            </tr>\n",
       "            <tr>\n",
       "                        <th id=\"T_a67b1dfb_05f2_11ea_a6fb_107b449f15fclevel0_row7\" class=\"row_heading level0 row7\" >должный</th>\n",
       "                        <td id=\"T_a67b1dfb_05f2_11ea_a6fb_107b449f15fcrow7_col0\" class=\"data row7 col0\" >0.00159</td>\n",
       "            </tr>\n",
       "            <tr>\n",
       "                        <th id=\"T_a67b1dfb_05f2_11ea_a6fb_107b449f15fclevel0_row8\" class=\"row_heading level0 row8\" >сторона</th>\n",
       "                        <td id=\"T_a67b1dfb_05f2_11ea_a6fb_107b449f15fcrow8_col0\" class=\"data row8 col0\" >0.00158</td>\n",
       "            </tr>\n",
       "            <tr>\n",
       "                        <th id=\"T_a67b1dfb_05f2_11ea_a6fb_107b449f15fclevel0_row9\" class=\"row_heading level0 row9\" >работа</th>\n",
       "                        <td id=\"T_a67b1dfb_05f2_11ea_a6fb_107b449f15fcrow9_col0\" class=\"data row9 col0\" >0.00154</td>\n",
       "            </tr>\n",
       "    </tbody></table>"
      ]
     },
     "metadata": {},
     "output_type": "display_data"
    },
    {
     "data": {
      "text/html": [
       "<b> антиоксиданты и сердечно-сосудистые заболевания </b><br /> фармаколог олег медведев о компонентах антиоксидантной системы, формах коэнзима и новых свойствах водорода"
      ]
     },
     "metadata": {},
     "output_type": "display_data"
    },
    {
     "data": {
      "text/html": [
       "<b> физиология микроводорослей </b><br /> биолог дмитрий лось о видовом разнообразии, очистке воздуха для космических полетов и полиненасыщенных жирных кислотах"
      ]
     },
     "metadata": {},
     "output_type": "display_data"
    },
    {
     "data": {
      "text/html": [
       "<b> точка зрениягенетически модифицированные организмы </b><br /> мнения экспертов постнауки о влиянии гмо на сельское хозяйство, научные исследования и общество"
      ]
     },
     "metadata": {},
     "output_type": "display_data"
    },
    {
     "data": {
      "text/html": [
       "<b> 5 книг о теоретической физике высоких энергий </b><br /> что читать о квантовой теории поля, теории всего и бак, рекомендует доктор физико-математических наук эдуард боос"
      ]
     },
     "metadata": {},
     "output_type": "display_data"
    },
    {
     "data": {
      "text/html": [
       "<b> faqвакуум как дуальный сверхпроводник </b><br /> 5 фактов о теории сильных взаимодействий"
      ]
     },
     "metadata": {},
     "output_type": "display_data"
    },
    {
     "data": {
      "text/html": [
       "<b> faqоценка безопасности гмо </b><br /> 7 фактов о генетически модифицированных растениях и испытаниях на биобезопасность"
      ]
     },
     "metadata": {},
     "output_type": "display_data"
    },
    {
     "data": {
      "text/html": [
       "<b> faqядерный магнитный резонанс </b><br /> 5 фактов о природе магнитных полей, спектре ядерного магнитного резонанса и применении метода ямр в современной химии"
      ]
     },
     "metadata": {},
     "output_type": "display_data"
    },
    {
     "data": {
      "text/html": [
       "<b> оценка безопасности гмо </b><br /> биолог дмитрий дорохов о диких растениях, испытаниях на биобезопасность и процессе регистрации гмо"
      ]
     },
     "metadata": {},
     "output_type": "display_data"
    },
    {
     "data": {
      "text/html": [
       "<b> двухпартийная система в сша </b><br /> историк юрий рогулев об этапах формирования американских партий, «эре доброго согласия» и комитетах политического действия"
      ]
     },
     "metadata": {},
     "output_type": "display_data"
    },
    {
     "data": {
      "text/html": [
       "<b> государство в теории международных отношений </b><br /> политолог василий жарков о субъектах международных отношений, государственном суверенитете и концепции международного сообщества"
      ]
     },
     "metadata": {},
     "output_type": "display_data"
    },
    {
     "data": {
      "text/html": [
       "<style  type=\"text/css\" >\n",
       "</style><table id=\"T_a67b1dfc_05f2_11ea_a6fb_107b449f15fc\" style='display:inline'><thead>    <tr>        <th class=\"blank level0\" ></th>        <th class=\"col_heading level0 col0\" >bcg_28 @2gramm</th>    </tr></thead><tbody>\n",
       "                <tr>\n",
       "                        <th id=\"T_a67b1dfc_05f2_11ea_a6fb_107b449f15fclevel0_row0\" class=\"row_heading level0 row0\" >крайний_мера</th>\n",
       "                        <td id=\"T_a67b1dfc_05f2_11ea_a6fb_107b449f15fcrow0_col0\" class=\"data row0 col0\" >0.00697</td>\n",
       "            </tr>\n",
       "            <tr>\n",
       "                        <th id=\"T_a67b1dfc_05f2_11ea_a6fb_107b449f15fclevel0_row1\" class=\"row_heading level0 row1\" >речь_идти</th>\n",
       "                        <td id=\"T_a67b1dfc_05f2_11ea_a6fb_107b449f15fcrow1_col0\" class=\"data row1 col0\" >0.00585</td>\n",
       "            </tr>\n",
       "            <tr>\n",
       "                        <th id=\"T_a67b1dfc_05f2_11ea_a6fb_107b449f15fclevel0_row2\" class=\"row_heading level0 row2\" >xix_век</th>\n",
       "                        <td id=\"T_a67b1dfc_05f2_11ea_a6fb_107b449f15fcrow2_col0\" class=\"data row2 col0\" >0.00555</td>\n",
       "            </tr>\n",
       "            <tr>\n",
       "                        <th id=\"T_a67b1dfc_05f2_11ea_a6fb_107b449f15fclevel0_row3\" class=\"row_heading level0 row3\" >xx_век</th>\n",
       "                        <td id=\"T_a67b1dfc_05f2_11ea_a6fb_107b449f15fcrow3_col0\" class=\"data row3 col0\" >0.00554</td>\n",
       "            </tr>\n",
       "            <tr>\n",
       "                        <th id=\"T_a67b1dfc_05f2_11ea_a6fb_107b449f15fclevel0_row4\" class=\"row_heading level0 row4\" >огромный_количество</th>\n",
       "                        <td id=\"T_a67b1dfc_05f2_11ea_a6fb_107b449f15fcrow4_col0\" class=\"data row4 col0\" >0.00365</td>\n",
       "            </tr>\n",
       "            <tr>\n",
       "                        <th id=\"T_a67b1dfc_05f2_11ea_a6fb_107b449f15fclevel0_row5\" class=\"row_heading level0 row5\" >дать_случай</th>\n",
       "                        <td id=\"T_a67b1dfc_05f2_11ea_a6fb_107b449f15fcrow5_col0\" class=\"data row5 col0\" >0.00301</td>\n",
       "            </tr>\n",
       "            <tr>\n",
       "                        <th id=\"T_a67b1dfc_05f2_11ea_a6fb_107b449f15fclevel0_row6\" class=\"row_heading level0 row6\" >конец_конец</th>\n",
       "                        <td id=\"T_a67b1dfc_05f2_11ea_a6fb_107b449f15fcrow6_col0\" class=\"data row6 col0\" >0.00288</td>\n",
       "            </tr>\n",
       "            <tr>\n",
       "                        <th id=\"T_a67b1dfc_05f2_11ea_a6fb_107b449f15fclevel0_row7\" class=\"row_heading level0 row7\" >друг_друг</th>\n",
       "                        <td id=\"T_a67b1dfc_05f2_11ea_a6fb_107b449f15fcrow7_col0\" class=\"data row7 col0\" >0.00286</td>\n",
       "            </tr>\n",
       "            <tr>\n",
       "                        <th id=\"T_a67b1dfc_05f2_11ea_a6fb_107b449f15fclevel0_row8\" class=\"row_heading level0 row8\" >большой_часть</th>\n",
       "                        <td id=\"T_a67b1dfc_05f2_11ea_a6fb_107b449f15fcrow8_col0\" class=\"data row8 col0\" >0.00271</td>\n",
       "            </tr>\n",
       "            <tr>\n",
       "                        <th id=\"T_a67b1dfc_05f2_11ea_a6fb_107b449f15fclevel0_row9\" class=\"row_heading level0 row9\" >большой_количество</th>\n",
       "                        <td id=\"T_a67b1dfc_05f2_11ea_a6fb_107b449f15fcrow9_col0\" class=\"data row9 col0\" >0.00263</td>\n",
       "            </tr>\n",
       "    </tbody></table><style  type=\"text/css\" >\n",
       "</style><table id=\"T_a67b1dfd_05f2_11ea_a6fb_107b449f15fc\" style='display:inline'><thead>    <tr>        <th class=\"blank level0\" ></th>        <th class=\"col_heading level0 col0\" >bcg_28 @3gramm</th>    </tr></thead><tbody>\n",
       "                <tr>\n",
       "                        <th id=\"T_a67b1dfd_05f2_11ea_a6fb_107b449f15fclevel0_row0\" class=\"row_heading level0 row0\" >общий_теория_относительность</th>\n",
       "                        <td id=\"T_a67b1dfd_05f2_11ea_a6fb_107b449f15fcrow0_col0\" class=\"data row0 col0\" >0.03838</td>\n",
       "            </tr>\n",
       "            <tr>\n",
       "                        <th id=\"T_a67b1dfd_05f2_11ea_a6fb_107b449f15fclevel0_row1\" class=\"row_heading level0 row1\" >начало_xx_век</th>\n",
       "                        <td id=\"T_a67b1dfd_05f2_11ea_a6fb_107b449f15fcrow1_col0\" class=\"data row1 col0\" >0.0329</td>\n",
       "            </tr>\n",
       "            <tr>\n",
       "                        <th id=\"T_a67b1dfd_05f2_11ea_a6fb_107b449f15fclevel0_row2\" class=\"row_heading level0 row2\" >сверхмассивный_чёрный_дыра</th>\n",
       "                        <td id=\"T_a67b1dfd_05f2_11ea_a6fb_107b449f15fcrow2_col0\" class=\"data row2 col0\" >0.02471</td>\n",
       "            </tr>\n",
       "            <tr>\n",
       "                        <th id=\"T_a67b1dfd_05f2_11ea_a6fb_107b449f15fclevel0_row3\" class=\"row_heading level0 row3\" >эмбриональный_стволовой_клетка</th>\n",
       "                        <td id=\"T_a67b1dfd_05f2_11ea_a6fb_107b449f15fcrow3_col0\" class=\"data row3 col0\" >0.02059</td>\n",
       "            </tr>\n",
       "            <tr>\n",
       "                        <th id=\"T_a67b1dfd_05f2_11ea_a6fb_107b449f15fclevel0_row4\" class=\"row_heading level0 row4\" >половина_xix_век</th>\n",
       "                        <td id=\"T_a67b1dfd_05f2_11ea_a6fb_107b449f15fcrow4_col0\" class=\"data row4 col0\" >0.01813</td>\n",
       "            </tr>\n",
       "            <tr>\n",
       "                        <th id=\"T_a67b1dfd_05f2_11ea_a6fb_107b449f15fclevel0_row5\" class=\"row_heading level0 row5\" >специальный_теория_относительность</th>\n",
       "                        <td id=\"T_a67b1dfd_05f2_11ea_a6fb_107b449f15fcrow5_col0\" class=\"data row5 col0\" >0.01679</td>\n",
       "            </tr>\n",
       "            <tr>\n",
       "                        <th id=\"T_a67b1dfd_05f2_11ea_a6fb_107b449f15fclevel0_row6\" class=\"row_heading level0 row6\" >начало_xix_век</th>\n",
       "                        <td id=\"T_a67b1dfd_05f2_11ea_a6fb_107b449f15fcrow6_col0\" class=\"data row6 col0\" >0.0152</td>\n",
       "            </tr>\n",
       "            <tr>\n",
       "                        <th id=\"T_a67b1dfd_05f2_11ea_a6fb_107b449f15fclevel0_row7\" class=\"row_heading level0 row7\" >конец_xx_век</th>\n",
       "                        <td id=\"T_a67b1dfd_05f2_11ea_a6fb_107b449f15fcrow7_col0\" class=\"data row7 col0\" >0.01506</td>\n",
       "            </tr>\n",
       "            <tr>\n",
       "                        <th id=\"T_a67b1dfd_05f2_11ea_a6fb_107b449f15fclevel0_row8\" class=\"row_heading level0 row8\" >половина_xx_век</th>\n",
       "                        <td id=\"T_a67b1dfd_05f2_11ea_a6fb_107b449f15fcrow8_col0\" class=\"data row8 col0\" >0.01481</td>\n",
       "            </tr>\n",
       "            <tr>\n",
       "                        <th id=\"T_a67b1dfd_05f2_11ea_a6fb_107b449f15fclevel0_row9\" class=\"row_heading level0 row9\" >лауреат_нобелевский_премия</th>\n",
       "                        <td id=\"T_a67b1dfd_05f2_11ea_a6fb_107b449f15fcrow9_col0\" class=\"data row9 col0\" >0.01435</td>\n",
       "            </tr>\n",
       "    </tbody></table><style  type=\"text/css\" >\n",
       "</style><table id=\"T_a67b1dfe_05f2_11ea_a6fb_107b449f15fc\" style='display:inline'><thead>    <tr>        <th class=\"blank level0\" ></th>        <th class=\"col_heading level0 col0\" >bcg_28 @post_tag</th>    </tr></thead><tbody>\n",
       "                <tr>\n",
       "                        <th id=\"T_a67b1dfe_05f2_11ea_a6fb_107b449f15fclevel0_row0\" class=\"row_heading level0 row0\" >культура</th>\n",
       "                        <td id=\"T_a67b1dfe_05f2_11ea_a6fb_107b449f15fcrow0_col0\" class=\"data row0 col0\" >0.18266</td>\n",
       "            </tr>\n",
       "            <tr>\n",
       "                        <th id=\"T_a67b1dfe_05f2_11ea_a6fb_107b449f15fclevel0_row1\" class=\"row_heading level0 row1\" >история</th>\n",
       "                        <td id=\"T_a67b1dfe_05f2_11ea_a6fb_107b449f15fcrow1_col0\" class=\"data row1 col0\" >0.16772</td>\n",
       "            </tr>\n",
       "            <tr>\n",
       "                        <th id=\"T_a67b1dfe_05f2_11ea_a6fb_107b449f15fclevel0_row2\" class=\"row_heading level0 row2\" >россия</th>\n",
       "                        <td id=\"T_a67b1dfe_05f2_11ea_a6fb_107b449f15fcrow2_col0\" class=\"data row2 col0\" >0.10305</td>\n",
       "            </tr>\n",
       "            <tr>\n",
       "                        <th id=\"T_a67b1dfe_05f2_11ea_a6fb_107b449f15fclevel0_row3\" class=\"row_heading level0 row3\" >общество</th>\n",
       "                        <td id=\"T_a67b1dfe_05f2_11ea_a6fb_107b449f15fcrow3_col0\" class=\"data row3 col0\" >0.10273</td>\n",
       "            </tr>\n",
       "            <tr>\n",
       "                        <th id=\"T_a67b1dfe_05f2_11ea_a6fb_107b449f15fclevel0_row4\" class=\"row_heading level0 row4\" >антропология</th>\n",
       "                        <td id=\"T_a67b1dfe_05f2_11ea_a6fb_107b449f15fcrow4_col0\" class=\"data row4 col0\" >0.04561</td>\n",
       "            </tr>\n",
       "            <tr>\n",
       "                        <th id=\"T_a67b1dfe_05f2_11ea_a6fb_107b449f15fclevel0_row5\" class=\"row_heading level0 row5\" >физика</th>\n",
       "                        <td id=\"T_a67b1dfe_05f2_11ea_a6fb_107b449f15fcrow5_col0\" class=\"data row5 col0\" >0.04272</td>\n",
       "            </tr>\n",
       "            <tr>\n",
       "                        <th id=\"T_a67b1dfe_05f2_11ea_a6fb_107b449f15fclevel0_row6\" class=\"row_heading level0 row6\" >философия</th>\n",
       "                        <td id=\"T_a67b1dfe_05f2_11ea_a6fb_107b449f15fcrow6_col0\" class=\"data row6 col0\" >0.03382</td>\n",
       "            </tr>\n",
       "            <tr>\n",
       "                        <th id=\"T_a67b1dfe_05f2_11ea_a6fb_107b449f15fclevel0_row7\" class=\"row_heading level0 row7\" >человек</th>\n",
       "                        <td id=\"T_a67b1dfe_05f2_11ea_a6fb_107b449f15fcrow7_col0\" class=\"data row7 col0\" >0.03307</td>\n",
       "            </tr>\n",
       "            <tr>\n",
       "                        <th id=\"T_a67b1dfe_05f2_11ea_a6fb_107b449f15fclevel0_row8\" class=\"row_heading level0 row8\" >искусство</th>\n",
       "                        <td id=\"T_a67b1dfe_05f2_11ea_a6fb_107b449f15fcrow8_col0\" class=\"data row8 col0\" >0.02027</td>\n",
       "            </tr>\n",
       "            <tr>\n",
       "                        <th id=\"T_a67b1dfe_05f2_11ea_a6fb_107b449f15fclevel0_row9\" class=\"row_heading level0 row9\" >искусствоведение</th>\n",
       "                        <td id=\"T_a67b1dfe_05f2_11ea_a6fb_107b449f15fcrow9_col0\" class=\"data row9 col0\" >0.01081</td>\n",
       "            </tr>\n",
       "    </tbody></table><style  type=\"text/css\" >\n",
       "</style><table id=\"T_a67b1dff_05f2_11ea_a6fb_107b449f15fc\" style='display:inline'><thead>    <tr>        <th class=\"blank level0\" ></th>        <th class=\"col_heading level0 col0\" >bcg_28 @word</th>    </tr></thead><tbody>\n",
       "                <tr>\n",
       "                        <th id=\"T_a67b1dff_05f2_11ea_a6fb_107b449f15fclevel0_row0\" class=\"row_heading level0 row0\" >книга</th>\n",
       "                        <td id=\"T_a67b1dff_05f2_11ea_a6fb_107b449f15fcrow0_col0\" class=\"data row0 col0\" >0.00274</td>\n",
       "            </tr>\n",
       "            <tr>\n",
       "                        <th id=\"T_a67b1dff_05f2_11ea_a6fb_107b449f15fclevel0_row1\" class=\"row_heading level0 row1\" >говорить</th>\n",
       "                        <td id=\"T_a67b1dff_05f2_11ea_a6fb_107b449f15fcrow1_col0\" class=\"data row1 col0\" >0.00194</td>\n",
       "            </tr>\n",
       "            <tr>\n",
       "                        <th id=\"T_a67b1dff_05f2_11ea_a6fb_107b449f15fclevel0_row2\" class=\"row_heading level0 row2\" >большой</th>\n",
       "                        <td id=\"T_a67b1dff_05f2_11ea_a6fb_107b449f15fcrow2_col0\" class=\"data row2 col0\" >0.00193</td>\n",
       "            </tr>\n",
       "            <tr>\n",
       "                        <th id=\"T_a67b1dff_05f2_11ea_a6fb_107b449f15fclevel0_row3\" class=\"row_heading level0 row3\" >являться</th>\n",
       "                        <td id=\"T_a67b1dff_05f2_11ea_a6fb_107b449f15fcrow3_col0\" class=\"data row3 col0\" >0.00191</td>\n",
       "            </tr>\n",
       "            <tr>\n",
       "                        <th id=\"T_a67b1dff_05f2_11ea_a6fb_107b449f15fclevel0_row4\" class=\"row_heading level0 row4\" >история</th>\n",
       "                        <td id=\"T_a67b1dff_05f2_11ea_a6fb_107b449f15fcrow4_col0\" class=\"data row4 col0\" >0.00185</td>\n",
       "            </tr>\n",
       "            <tr>\n",
       "                        <th id=\"T_a67b1dff_05f2_11ea_a6fb_107b449f15fclevel0_row5\" class=\"row_heading level0 row5\" >жизнь</th>\n",
       "                        <td id=\"T_a67b1dff_05f2_11ea_a6fb_107b449f15fcrow5_col0\" class=\"data row5 col0\" >0.00176</td>\n",
       "            </tr>\n",
       "            <tr>\n",
       "                        <th id=\"T_a67b1dff_05f2_11ea_a6fb_107b449f15fclevel0_row6\" class=\"row_heading level0 row6\" >стать</th>\n",
       "                        <td id=\"T_a67b1dff_05f2_11ea_a6fb_107b449f15fcrow6_col0\" class=\"data row6 col0\" >0.00172</td>\n",
       "            </tr>\n",
       "            <tr>\n",
       "                        <th id=\"T_a67b1dff_05f2_11ea_a6fb_107b449f15fclevel0_row7\" class=\"row_heading level0 row7\" >работа</th>\n",
       "                        <td id=\"T_a67b1dff_05f2_11ea_a6fb_107b449f15fcrow7_col0\" class=\"data row7 col0\" >0.00171</td>\n",
       "            </tr>\n",
       "            <tr>\n",
       "                        <th id=\"T_a67b1dff_05f2_11ea_a6fb_107b449f15fclevel0_row8\" class=\"row_heading level0 row8\" >существовать</th>\n",
       "                        <td id=\"T_a67b1dff_05f2_11ea_a6fb_107b449f15fcrow8_col0\" class=\"data row8 col0\" >0.0017</td>\n",
       "            </tr>\n",
       "            <tr>\n",
       "                        <th id=\"T_a67b1dff_05f2_11ea_a6fb_107b449f15fclevel0_row9\" class=\"row_heading level0 row9\" >образ</th>\n",
       "                        <td id=\"T_a67b1dff_05f2_11ea_a6fb_107b449f15fcrow9_col0\" class=\"data row9 col0\" >0.00161</td>\n",
       "            </tr>\n",
       "    </tbody></table>"
      ]
     },
     "metadata": {},
     "output_type": "display_data"
    },
    {
     "data": {
      "text/html": [
       "<b> немецкая классическая философия как понятие </b><br /> философ петр резвых о преемственности, интеллектуальном ландшафте эпохи и освоении рукописного наследия"
      ]
     },
     "metadata": {},
     "output_type": "display_data"
    },
    {
     "data": {
      "text/html": [
       "<b> faqнемецкая классическая философия как понятие </b><br /> 6 фактов о собраниях текстов, отцах-основателях и ошибочном представлении о понятии"
      ]
     },
     "metadata": {},
     "output_type": "display_data"
    },
    {
     "data": {
      "text/html": [
       "<b> субботний интенсив «общая и специальная теория относительности» </b><br /> 2 апреля с 12:00 до 19:00 в академии постнауки"
      ]
     },
     "metadata": {},
     "output_type": "display_data"
    },
    {
     "data": {
      "text/html": [
       "<b> парадокс близнецов </b><br /> физик эмиль ахмедов о преобразованиях лоренца, специальной теории относительности и парадоксе стержня и сарая"
      ]
     },
     "metadata": {},
     "output_type": "display_data"
    },
    {
     "data": {
      "text/html": [
       "<b> специальная теория относительности </b><br /> физик эмиль ахмедов о преобразовании лоренца, формулах электродинамики и двумерном пространстве-времени"
      ]
     },
     "metadata": {},
     "output_type": "display_data"
    },
    {
     "data": {
      "text/html": [
       "<b> faqмагнетизм земли </b><br /> 6 фактов о магнитном поле нашей планеты и его изучении"
      ]
     },
     "metadata": {},
     "output_type": "display_data"
    },
    {
     "data": {
      "text/html": [
       "<b> континентальная философия </b><br /> философ иван болдырев о размежевании философии, особенностях двух её направлений и проблеме национального характера философии"
      ]
     },
     "metadata": {},
     "output_type": "display_data"
    },
    {
     "data": {
      "text/html": [
       "<b> генеалогия анекдота </b><br /> историк культуры мария неклюдова о происхождении первых анекдотов, тайнах двора медичи и скрытой механике истории"
      ]
     },
     "metadata": {},
     "output_type": "display_data"
    },
    {
     "data": {
      "text/html": [
       "<b> философия сознаниясвобода воли и детерминизм </b><br /> можем ли мы совершать свободные действия, на чем основана моральная и юридическая ответственность и станет ли робот личностью, в передаче цикла «философия сознания от а до я»"
      ]
     },
     "metadata": {},
     "output_type": "display_data"
    },
    {
     "data": {
      "text/html": [
       "<b> гидродинамическая спиральность </b><br /> физик кит моффат о вихревой динамике, спиральном эффекте и магнитном поле земли"
      ]
     },
     "metadata": {},
     "output_type": "display_data"
    }
   ],
   "source": [
    "from IPython.display import display_html, display\n",
    "from topicnet.cooking_machine.dataset import get_modality_vw\n",
    "\n",
    "\n",
    "n=None\n",
    "for line, topic_docs in list(zip(first_model_html, first_model_top_doc))[:n]:\n",
    "    display_html(line, raw=True)\n",
    "    for doc_id in topic_docs:\n",
    "        doc_vw = dataset.get_vw_document(doc_id).values[0][0]\n",
    "        doc_title = get_modality_vw(doc_vw, \"@title\")\n",
    "        doc_snippet = get_modality_vw(doc_vw, \"@snippet\")\n",
    "        display_html(f\"<b>{doc_title}</b><br />{doc_snippet}\", raw=True)"
   ]
  },
  {
   "cell_type": "code",
   "execution_count": 22,
   "metadata": {},
   "outputs": [
    {
     "data": {
      "text/plain": [
       "{'@2gramm': 8.780309757546435,\n",
       " '@word': 1.0,\n",
       " '@post_tag': 79.51461372081415,\n",
       " '@3gramm': 245.1655266757866}"
      ]
     },
     "execution_count": 22,
     "metadata": {},
     "output_type": "execute_result"
    }
   ],
   "source": [
    "best_model.class_ids"
   ]
  }
 ],
 "metadata": {
  "kernelspec": {
   "display_name": "Python [conda env:root] *",
   "language": "python",
   "name": "conda-root-py"
  },
  "language_info": {
   "codemirror_mode": {
    "name": "ipython",
    "version": 3
   },
   "file_extension": ".py",
   "mimetype": "text/x-python",
   "name": "python",
   "nbconvert_exporter": "python",
   "pygments_lexer": "ipython3",
   "version": "3.6.9"
  }
 },
 "nbformat": 4,
 "nbformat_minor": 2
}
