{
 "cells": [
  {
   "cell_type": "code",
   "execution_count": 1,
   "metadata": {},
   "outputs": [],
   "source": [
    "import numpy as np\n",
    "import pandas as pd\n",
    "import matplotlib.pyplot as plt\n",
    "%matplotlib inline\n",
    "import os\n",
    "import time\n",
    "import artm\n",
    "\n",
    "# change log style\n",
    "lc = artm.messages.ConfigureLoggingArgs()\n",
    "lc.minloglevel = 3\n",
    "lib = artm.wrapper.LibArtm(logging_config=lc)\n",
    "\n",
    "import warnings\n",
    "warnings.filterwarnings(\"ignore\", category=DeprecationWarning)"
   ]
  },
  {
   "cell_type": "code",
   "execution_count": 2,
   "metadata": {},
   "outputs": [],
   "source": [
    "from copy import deepcopy\n",
    "from topicnet.cooking_machine.models.topic_model import TopicModel\n",
    "from topicnet.cooking_machine.cubes import RegularizersModifierCube\n",
    "from topicnet.cooking_machine.models.blei_lafferty_score import BleiLaffertyScore\n",
    "from topicnet.cooking_machine.config_parser import build_experiment_environment_from_yaml_config\n",
    "\n",
    "from topicnet.cooking_machine.experiment import Experiment\n",
    "from topicnet.cooking_machine.cubes import *\n",
    "from topicnet.cooking_machine.dataset import Dataset\n",
    "\n",
    "%load_ext autoreload\n",
    "%autoreload 2"
   ]
  },
  {
   "cell_type": "code",
   "execution_count": 3,
   "metadata": {},
   "outputs": [],
   "source": [
    "import topicnet.cooking_machine.cubes as tncubes"
   ]
  },
  {
   "cell_type": "code",
   "execution_count": 4,
   "metadata": {},
   "outputs": [
    {
     "data": {
      "text/html": [
       "<style>\n",
       ".container { width:90% !important; }\n",
       "div.output_scroll .output_subarea { white-space: pre; }\n",
       "</style>"
      ],
      "text/plain": [
       "<IPython.core.display.HTML object>"
      ]
     },
     "metadata": {},
     "output_type": "display_data"
    }
   ],
   "source": [
    "from IPython.core.display import display, HTML\n",
    "from IPython.display import clear_output, display_html\n",
    "display(HTML(\"\"\"<style>\n",
    ".container { width:90% !important; }\n",
    "div.output_scroll .output_subarea { white-space: pre; }\n",
    "</style>\"\"\"))"
   ]
  },
  {
   "cell_type": "markdown",
   "metadata": {},
   "source": [
    "### Get dataset"
   ]
  },
  {
   "cell_type": "code",
   "execution_count": 5,
   "metadata": {},
   "outputs": [],
   "source": [
    "DATASET_PATH = \"/home/sultan/datasets/PScience/PScience.csv\""
   ]
  },
  {
   "cell_type": "code",
   "execution_count": 6,
   "metadata": {},
   "outputs": [],
   "source": [
    "dataset = Dataset(DATASET_PATH)\n",
    "dictionary = dataset.get_dictionary()"
   ]
  },
  {
   "cell_type": "code",
   "execution_count": 7,
   "metadata": {},
   "outputs": [
    {
     "name": "stdout",
     "output_type": "stream",
     "text": [
      "{'@3gramm', '@word', '@title', '@post_tag', '@2gramm', '@snippet', '@author'}\n"
     ]
    },
    {
     "data": {
      "text/html": [
       "<div>\n",
       "<style scoped>\n",
       "    .dataframe tbody tr th:only-of-type {\n",
       "        vertical-align: middle;\n",
       "    }\n",
       "\n",
       "    .dataframe tbody tr th {\n",
       "        vertical-align: top;\n",
       "    }\n",
       "\n",
       "    .dataframe thead th {\n",
       "        text-align: right;\n",
       "    }\n",
       "</style>\n",
       "<table border=\"1\" class=\"dataframe\">\n",
       "  <thead>\n",
       "    <tr style=\"text-align: right;\">\n",
       "      <th></th>\n",
       "      <th>vw_text</th>\n",
       "      <th>raw_text</th>\n",
       "    </tr>\n",
       "    <tr>\n",
       "      <th>id</th>\n",
       "      <th></th>\n",
       "      <th></th>\n",
       "    </tr>\n",
       "  </thead>\n",
       "  <tbody>\n",
       "    <tr>\n",
       "      <th>1.txt</th>\n",
       "      <td>1.txt |@author fuchs preobrazhensky tabachniko...</td>\n",
       "      <td>@title Автограф # «Математический дивертисмент...</td>\n",
       "    </tr>\n",
       "    <tr>\n",
       "      <th>2.txt</th>\n",
       "      <td>2.txt |@word книга:2 лекция:3 рассматриваться:...</td>\n",
       "      <td>@title Главы: Маскулинности в российском конте...</td>\n",
       "    </tr>\n",
       "    <tr>\n",
       "      <th>3.txt</th>\n",
       "      <td>3.txt |@word развитие появляться пиджина:4 бел...</td>\n",
       "      <td>@title Пиджины и креольские языки | @snippet Л...</td>\n",
       "    </tr>\n",
       "    <tr>\n",
       "      <th>4.txt</th>\n",
       "      <td>4.txt |@word стандартный задача:3 состоять:4 р...</td>\n",
       "      <td>@title FAQ: Физиология микроводорослей | @snip...</td>\n",
       "    </tr>\n",
       "    <tr>\n",
       "      <th>5.txt</th>\n",
       "      <td>5.txt |@2gramm повседневный_практика государст...</td>\n",
       "      <td>@title Русская государственная идеология | @sn...</td>\n",
       "    </tr>\n",
       "  </tbody>\n",
       "</table>\n",
       "</div>"
      ],
      "text/plain": [
       "                                                 vw_text  \\\n",
       "id                                                         \n",
       "1.txt  1.txt |@author fuchs preobrazhensky tabachniko...   \n",
       "2.txt  2.txt |@word книга:2 лекция:3 рассматриваться:...   \n",
       "3.txt  3.txt |@word развитие появляться пиджина:4 бел...   \n",
       "4.txt  4.txt |@word стандартный задача:3 состоять:4 р...   \n",
       "5.txt  5.txt |@2gramm повседневный_практика государст...   \n",
       "\n",
       "                                                raw_text  \n",
       "id                                                        \n",
       "1.txt  @title Автограф # «Математический дивертисмент...  \n",
       "2.txt  @title Главы: Маскулинности в российском конте...  \n",
       "3.txt  @title Пиджины и креольские языки | @snippet Л...  \n",
       "4.txt  @title FAQ: Физиология микроводорослей | @snip...  \n",
       "5.txt  @title Русская государственная идеология | @sn...  "
      ]
     },
     "execution_count": 7,
     "metadata": {},
     "output_type": "execute_result"
    }
   ],
   "source": [
    "print(dataset.get_possible_modalities())\n",
    "dataset.get_dataset().head()"
   ]
  },
  {
   "cell_type": "markdown",
   "metadata": {},
   "source": [
    "### Make initial model"
   ]
  },
  {
   "cell_type": "code",
   "execution_count": 8,
   "metadata": {
    "scrolled": false
   },
   "outputs": [
    {
     "name": "stdout",
     "output_type": "stream",
     "text": [
      "# This config follows a strategy described by Murat Apishev\n",
      "# one of the core programmers of BigARTM library in personal correspondence.\n",
      "# According to his letter 'decent' topic model can be obtained by\n",
      "# Decorrelating model topics simultaneously looking at retrieved TopTokens\n",
      "\n",
      "\n",
      "# Use .format(modality_list=modality_list, main_modality=main_modality, dataset_path=dataset_path,\n",
      "# specific_topics=specific_topics, background_topics=background_topics)\n",
      "# when loading the recipe to adjust for your dataset\n",
      "\n",
      "topics:\n",
      "# Describes number of model topics, better left to the user to define optimal topic number\n",
      "    specific_topics: ['topic_0', 'topic_1', 'topic_2', 'topic_3', 'topic_4', 'topic_5', 'topic_6', 'topic_7', 'topic_8', 'topic_9', 'topic_10', 'topic_11', 'topic_12', 'topic_13', 'topic_14', 'topic_15', 'topic_16', 'topic_17', 'topic_18', 'topic_19', 'topic_20', 'topic_21', 'topic_22', 'topic_23', 'topic_24', 'topic_25', 'topic_26'] \n",
      "    background_topics: ['bcg_27', 'bcg_28']\n",
      "\n",
      "# Here is example of model with one modality\n",
      "regularizers:\n",
      "    - DecorrelatorPhiRegularizer:\n",
      "        name: decorrelation_phi\n",
      "        topic_names: specific_topics\n",
      "        class_ids: '@word'\n",
      "    - DecorrelatorPhiRegularizer:\n",
      "        name: decorrelation_phi_@2gramm\n",
      "        topic_names: specific_topics\n",
      "        class_ids: '@2gramm'\n",
      "    - DecorrelatorPhiRegularizer:\n",
      "        name: decorrelation_phi_@3gramm\n",
      "        topic_names: specific_topics\n",
      "        class_ids: '@3gramm'\n",
      "    - SmoothSparsePhiRegularizer:\n",
      "        name: smooth_phi_@2gramm\n",
      "        topic_names: specific_topics\n",
      "        class_ids: ['@2gramm']\n",
      "    - SmoothSparsePhiRegularizer:\n",
      "        name: smooth_phi_@3gramm\n",
      "        topic_names: specific_topics\n",
      "        class_ids: ['@3gramm']\n",
      "    - SmoothSparsePhiRegularizer:\n",
      "        name: smooth_phi_bcg\n",
      "        topic_names: background_topics\n",
      "        class_ids: ['@2gramm', '@word', '@post_tag', '@3gramm']\n",
      "        tau: 0.1\n",
      "        relative: true\n",
      "    - SmoothSparseThetaRegularizer:\n",
      "        name: smooth_theta_bcg\n",
      "        topic_names: background_topics\n",
      "        tau: 0.1\n",
      "        relative: true\n",
      "scores:\n",
      "    - BleiLaffertyScore:\n",
      "        num_top_tokens: 30\n",
      "model: \n",
      "    dataset_path: /home/sultan/datasets/PScience/PScience.csv\n",
      "    modalities_to_use: ['@2gramm', '@word', '@post_tag', '@3gramm']\n",
      "    main_modality: '@word'\n",
      "\n",
      "stages:\n",
      "- RegularizersModifierCube:\n",
      "    num_iter: 20\n",
      "    reg_search: add\n",
      "    regularizer_parameters:\n",
      "        name: decorrelation_phi\n",
      "    selection:\n",
      "        - PerplexityScore@word < 1.05 * MINIMUM(PerplexityScore@word) and BleiLaffertyScore -> max\n",
      "    strategy: PerplexityStrategy\n",
      "    # parameters of this strategy are intended for revision\n",
      "    strategy_params:\n",
      "        start_point: 0\n",
      "        step: 0.01\n",
      "        max_len: 50\n",
      "    tracked_score_function: PerplexityScore@all\n",
      "    verbose: false\n",
      "    use_relative_coefficients: true\n",
      "- RegularizersModifierCube:\n",
      "    num_iter: 20\n",
      "    reg_search: add\n",
      "    regularizer_parameters:\n",
      "        name: decorrelation_phi_@2gramm\n",
      "    selection:\n",
      "        - PerplexityScore@2gramm < 1.05 * MINIMUM(PerplexityScore@2gramm) and BleiLaffertyScore -> max\n",
      "    strategy: PerplexityStrategy\n",
      "    # parameters of this strategy are intended for revision\n",
      "    strategy_params:\n",
      "        start_point: 0\n",
      "        step: 0.01\n",
      "        max_len: 50\n",
      "    tracked_score_function: PerplexityScore@all\n",
      "    verbose: false\n",
      "    use_relative_coefficients: true\n",
      "- RegularizersModifierCube:\n",
      "    num_iter: 20\n",
      "    reg_search: add\n",
      "    regularizer_parameters:\n",
      "        name: decorrelation_phi_@3gramm\n",
      "    selection:\n",
      "        - PerplexityScore@3gramm < 1.05 * MINIMUM(PerplexityScore@3gramm) and BleiLaffertyScore -> max\n",
      "    strategy: PerplexityStrategy\n",
      "    # parameters of this strategy are intended for revision\n",
      "    strategy_params:\n",
      "        start_point: 0\n",
      "        step: 0.01\n",
      "        max_len: 50\n",
      "    tracked_score_function: PerplexityScore@all\n",
      "    verbose: false\n",
      "    use_relative_coefficients: true\n",
      "- RegularizersModifierCube:\n",
      "    num_iter: 20\n",
      "    reg_search: add\n",
      "    regularizer_parameters:\n",
      "        name: smooth_phi_@2gramm\n",
      "    selection:\n",
      "        - PerplexityScore@2gramm < 1.05 * MINIMUM(PerplexityScore@2gramm) and BleiLaffertyScore -> max\n",
      "    strategy: PerplexityStrategy\n",
      "    strategy_params:\n",
      "        start_point: 0.25\n",
      "        step: 0.25\n",
      "        max_len: 6\n",
      "    tracked_score_function: PerplexityScore@2gramm\n",
      "    verbose: false\n",
      "    use_relative_coefficients: false\n",
      "- RegularizersModifierCube:\n",
      "    num_iter: 20\n",
      "    reg_search: add\n",
      "    regularizer_parameters:\n",
      "        name: smooth_phi_@3gramm\n",
      "    selection:\n",
      "        - PerplexityScore@3gramm < 1.05 * MINIMUM(PerplexityScore@3gramm) and BleiLaffertyScore -> max\n",
      "    strategy: PerplexityStrategy\n",
      "    strategy_params:\n",
      "        start_point: 0.25\n",
      "        step: 0.25\n",
      "        max_len: 6\n",
      "    tracked_score_function: PerplexityScore@3gramm\n",
      "    verbose: false\n",
      "    use_relative_coefficients: false\n",
      "\n"
     ]
    }
   ],
   "source": [
    "with open(\"/home/sultan/recipes/ARTM_baseline_smooth_bigram.yml\", \"r\") as f:\n",
    "    yaml_string = f.read()\n",
    "\n",
    "specific_topics = [f'topic_{i}' for i in range(27)]\n",
    "background_topics = [f'bcg_{i}' for i in range(len(specific_topics),len(specific_topics) + 2)]\n",
    "\n",
    "yaml_string = yaml_string.format(\n",
    "    modality_list=['@2gramm', '@word', '@post_tag', '@3gramm'],\n",
    "    main_modality='@word',\n",
    "    specific_modality='@2gramm',\n",
    "    specific_modality2='@3gramm',\n",
    "    dataset_path=DATASET_PATH,\n",
    "    specific_topics=specific_topics,\n",
    "    background_topics=background_topics)\n",
    "\n",
    "print(yaml_string)"
   ]
  },
  {
   "cell_type": "markdown",
   "metadata": {},
   "source": [
    "### Run experiment"
   ]
  },
  {
   "cell_type": "code",
   "execution_count": 9,
   "metadata": {},
   "outputs": [],
   "source": [
    "from topicnet.cooking_machine.experiment import Experiment\n",
    "if os.path.exists(f'./MuratDemo_smooth') == True:\n",
    "    os.system(\"rm -rf ./MuratDemo_smooth\")\n",
    "experiment, dataset = build_experiment_environment_from_yaml_config(\n",
    "    yaml_string,\n",
    "    experiment_id=\"MuratDemo_smooth\",\n",
    "    save_path=\"MuratDemo_smooth\"\n",
    ")"
   ]
  },
  {
   "cell_type": "code",
   "execution_count": 10,
   "metadata": {},
   "outputs": [
    {
     "name": "stderr",
     "output_type": "stream",
     "text": [
      "/home/sultan/miniconda3/lib/python3.6/site-packages/topicnet/cooking_machine/cubes/base_cube.py:206: UserWarning: Perplexity is too high for threshold 1.05\n",
      "  warnings.warn(warning_message)\n",
      "/home/sultan/miniconda3/lib/python3.6/site-packages/topicnet/cooking_machine/cubes/base_cube.py:206: UserWarning: Max progression length exceeded\n",
      "  warnings.warn(warning_message)\n"
     ]
    },
    {
     "data": {
      "text/plain": [
       "{<topicnet.cooking_machine.models.topic_model.TopicModel at 0x7ff514cb9630>}"
      ]
     },
     "execution_count": 10,
     "metadata": {},
     "output_type": "execute_result"
    }
   ],
   "source": [
    "experiment.run(dataset)"
   ]
  },
  {
   "cell_type": "code",
   "execution_count": 11,
   "metadata": {},
   "outputs": [
    {
     "data": {
      "text/plain": [
       "Experiment MuratDemo_smooth\n",
       "\n",
       "Experiment was made with BigARTM 0.9.0\n",
       "Tree:\n",
       "                                                                                                                                        ┌##17h55m06s_18d11m2019y###\n",
       "                                                                                                                                        │                                                                                                       ┌##18h25m53s_18d11m2019y###\n",
       "                                                                                                                                        │                                                                                                       ├##18h27m04s_18d11m2019y###\n",
       "                                                                                                                                        │                                                                                                       ├##18h28m16s_18d11m2019y###\n",
       "                                                                                                                                        │                                                                                                       ├##18h29m28s_18d11m2019y###\n",
       "                                                                                                                                        ├##17h56m11s_18d11m2019y###─────────────────────────────────────────────────────────────────────────────┤\n",
       "                                                                                                                                        │                                                                                                       ├##18h30m34s_18d11m2019y###\n",
       "                                                                                                                                        │                                                                                                       ├##18h31m39s_18d11m2019y###\n",
       "                                                                                                                                        │                                                                                                       ├##18h32m47s_18d11m2019y###\n",
       "                                                                                                                                        │                                                                                                       │                                                                                                                                                                                                               ┌##18h42m49s_18d11m2019y###\n",
       "                                                                                                                                        │                                                                                                       │                                                                                                                                                                                                               ├##18h44m06s_18d11m2019y###\n",
       "                                                                                                                                        │                                                                                                       │                                                                                                                                                                                                               ├##18h45m25s_18d11m2019y###\n",
       "                                                                                                                                        │                                                                                                       │                                                                                                       ┌##18h37m46s_18d11m2019y###─────────────────────────────────────────────────────────────────────────────┤\n",
       "                                                                                                                                        │                                                                                                       │                                                                                                       │                                                                                                       ├##18h46m43s_18d11m2019y###\n",
       "                                                                                                                                        │                                                                                                       │                                                                                                       │                                                                                                       ├##18h48m02s_18d11m2019y###\n",
       "                                                                                                                                        │                                                                                                       │                                                                                                       │                                                                                                       ├##18h49m18s_18d11m2019y###\n",
       "                                                                                                                                        │                                                                                                       │                                                                                                       │                                                                                                       └##18h50m35s_18d11m2019y###\n",
       "                                                                                                                                        │                                                                                                       └##18h33m54s_18d11m2019y###─────────────────────────────────────────────────────────────────────────────┤\n",
       "                                                                                                                                        │                                                                                                                                                                                                               ├##18h38m58s_18d11m2019y###\n",
       "                                                                                                                                        │                                                                                                                                                                                                               └##18h40m13s_18d11m2019y###\n",
       "                                                                                                                                        ├##17h57m15s_18d11m2019y###\n",
       "                                                                                                                                        ├##17h58m20s_18d11m2019y###\n",
       "                                                                                                                                        ├##17h59m26s_18d11m2019y###\n",
       "                                                                                                                                        ├##18h00m32s_18d11m2019y###\n",
       "                                                                                                                                        ├##18h01m38s_18d11m2019y###\n",
       "                                                                                                                                        ├##18h02m45s_18d11m2019y###\n",
       "                                                                                                                                        ├##18h03m51s_18d11m2019y###\n",
       "                                                                                                                                        ├##18h04m56s_18d11m2019y###\n",
       "                                                                                                                                        ├##18h06m04s_18d11m2019y###\n",
       "                                ┌##17h37m55s_18d11m2019y###─────────────────────────────────────────────────────────────────────────────┤\n",
       "                                │                                                                                                       ├##18h07m10s_18d11m2019y###\n",
       "                                │                                                                                                       ├##18h08m18s_18d11m2019y###\n",
       "                                │                                                                                                       ├##18h09m24s_18d11m2019y###\n",
       "                                │                                                                                                       ├##18h10m31s_18d11m2019y###\n",
       "                                │                                                                                                       ├##18h11m38s_18d11m2019y###\n",
       "                                │                                                                                                       ├##18h12m44s_18d11m2019y###\n",
       "                                │                                                                                                       ├##18h13m52s_18d11m2019y###\n",
       "                                │                                                                                                       ├##18h14m57s_18d11m2019y###\n",
       "                                │                                                                                                       ├##18h16m00s_18d11m2019y###\n",
       "                                │                                                                                                       ├##18h17m04s_18d11m2019y###\n",
       "                                │                                                                                                       ├##18h18m06s_18d11m2019y###\n",
       "                                │                                                                                                       └##18h19m05s_18d11m2019y###\n",
       "                                ├##17h38m57s_18d11m2019y###\n",
       "                                ├##17h40m00s_18d11m2019y###\n",
       "                                ├##17h41m02s_18d11m2019y###\n",
       "                                ├##17h42m01s_18d11m2019y###\n",
       "                                ├##17h43m00s_18d11m2019y###\n",
       "                                ├##17h43m58s_18d11m2019y###\n",
       "                                ├##17h44m54s_18d11m2019y###\n",
       "<<<<<<<<<<<root>>>>>>>>>>>──────┤\n",
       "                                ├##17h45m49s_18d11m2019y###\n",
       "                                ├##17h46m41s_18d11m2019y###\n",
       "                                ├##17h47m34s_18d11m2019y###\n",
       "                                ├##17h48m28s_18d11m2019y###\n",
       "                                ├##17h49m21s_18d11m2019y###\n",
       "                                ├##17h50m14s_18d11m2019y###\n",
       "                                ├##17h51m07s_18d11m2019y###\n",
       "                                ├##17h52m03s_18d11m2019y###\n",
       "                                └##17h53m00s_18d11m2019y###\n",
       "Cubes:\n",
       " START                          | REG_MODIFIER                                                                                          | REG_MODIFIER                                                                                          | REG_MODIFIER                                                                                          | REG_MODIFIER                                                                                          | REG_MODIFIER                                                                                         \n",
       "                                | cube:                                                                                                 | cube:                                                                                                 | cube:                                                                                                 | cube:                                                                                                 | cube:                                                                                                \n",
       " name:                          |   <topicnet.cooking_machine.cubes.regularizer_cube.RegularizersModifierCube object at 0x7ff50f170710> |   <topicnet.cooking_machine.cubes.regularizer_cube.RegularizersModifierCube object at 0x7ff50f1705c0> |   <topicnet.cooking_machine.cubes.regularizer_cube.RegularizersModifierCube object at 0x7ff50f170d68> |   <topicnet.cooking_machine.cubes.regularizer_cube.RegularizersModifierCube object at 0x7ff50f170da0> |   <topicnet.cooking_machine.cubes.regularizer_cube.RegularizersModifierCube object at 0x7ff50f170ef0>\n",
       "   ARTM                         |                                                                                                       |                                                                                                       |                                                                                                       |                                                                                                       |                                                                                                      \n",
       " num_processors:                | tau_grid:                                                                                             | tau_grid:                                                                                             | tau_grid:                                                                                             | tau_grid:                                                                                             | tau_grid:                                                                                            \n",
       "   3                            |   ---                                                                                                 |   ---                                                                                                 |   ---                                                                                                 |   ---                                                                                                 |   ---                                                                                                \n",
       " num_topics:                    | name:                                                                                                 | name:                                                                                                 | name:                                                                                                 | name:                                                                                                 | name:                                                                                                \n",
       "   29                           |   decorrelation_phi                                                                                   |   decorrelation_phi_@2gramm                                                                           |   decorrelation_phi_@3gramm                                                                           |   smooth_phi_@2gramm                                                                                  |   smooth_phi_@3gramm                                                                                 \n",
       " topic_names:                   |                                                                                                       |                                                                                                       |                                                                                                       |                                                                                                       |                                                                                                      \n",
       "   topic_0,                     |                                                                                                       |                                                                                                       |                                                                                                       |                                                                                                       |                                                                                                      \n",
       "   topic_1,                     |                                                                                                       |                                                                                                       |                                                                                                       |                                                                                                       |                                                                                                      \n",
       "   ...,                         |                                                                                                       |                                                                                                       |                                                                                                       |                                                                                                       |                                                                                                      \n",
       "   bcg_27,                      |                                                                                                       |                                                                                                       |                                                                                                       |                                                                                                       |                                                                                                      \n",
       "   bcg_28                       |                                                                                                       |                                                                                                       |                                                                                                       |                                                                                                       |                                                                                                      \n",
       " class_ids:                     |                                                                                                       |                                                                                                       |                                                                                                       |                                                                                                       |                                                                                                      \n",
       "   @2gramm=8.780309757546435,   |                                                                                                       |                                                                                                       |                                                                                                       |                                                                                                       |                                                                                                      \n",
       "   @word=1.0,                   |                                                                                                       |                                                                                                       |                                                                                                       |                                                                                                       |                                                                                                      \n",
       "   @post_tag=79.51461372081415, |                                                                                                       |                                                                                                       |                                                                                                       |                                                                                                       |                                                                                                      \n",
       "   @3gramm=245.1655266757866    |                                                                                                       |                                                                                                       |                                                                                                       |                                                                                                       |                                                                                                      \n",
       " seed:                          |                                                                                                       |                                                                                                       |                                                                                                       |                                                                                                       |                                                                                                      \n",
       "   -1                           |                                                                                                       |                                                                                                       |                                                                                                       |                                                                                                       |                                                                                                      \n",
       "                                |                                                                                                       |                                                                                                       |                                                                                                       |                                                                                                       |                                                                                                      \n",
       "────────────────────────────────+───────────────────────────────────────────────────────────────────────────────────────────────────────+───────────────────────────────────────────────────────────────────────────────────────────────────────+───────────────────────────────────────────────────────────────────────────────────────────────────────+───────────────────────────────────────────────────────────────────────────────────────────────────────+───────────────────────────────────────────────────────────────────────────────────────────────────────+─────────────────────────────────────────────────────────────────────────────────────────────────────\n",
       "                                | stage criteria 1:                                                                                     | stage criteria 1:                                                                                     | stage criteria 1:                                                                                     | stage criteria 1:                                                                                     | stage criteria 1:                                                                                    \n",
       "                                |     PerplexityScore@word < 1.05 * MINIMUM(PerplexityScore@word)                                       |     PerplexityScore@2gramm < 1.05 * MINIMUM(PerplexityScore@2gramm)                                   |     PerplexityScore@3gramm < 1.05 * MINIMUM(PerplexityScore@3gramm)                                   |     PerplexityScore@2gramm < 1.05 * MINIMUM(PerplexityScore@2gramm)                                   |     PerplexityScore@3gramm < 1.05 * MINIMUM(PerplexityScore@3gramm)                                  \n",
       "                                |     BleiLaffertyScore -> max                                                                          |     BleiLaffertyScore -> max                                                                          |     BleiLaffertyScore -> max                                                                          |     BleiLaffertyScore -> max                                                                          |     BleiLaffertyScore -> max                                                                         \n",
       "                                |                                                                                                       |                                                                                                       |                                                                                                       |                                                                                                       |                                                                                                      "
      ]
     },
     "metadata": {},
     "output_type": "display_data"
    }
   ],
   "source": [
    "experiment.show()"
   ]
  },
  {
   "cell_type": "code",
   "execution_count": 12,
   "metadata": {},
   "outputs": [],
   "source": [
    "best_model = experiment.select(experiment.criteria[-1][0])[0]"
   ]
  },
  {
   "cell_type": "code",
   "execution_count": 13,
   "metadata": {},
   "outputs": [
    {
     "data": {
      "text/html": [
       "<div>\n",
       "<style scoped>\n",
       "    .dataframe tbody tr th:only-of-type {\n",
       "        vertical-align: middle;\n",
       "    }\n",
       "\n",
       "    .dataframe tbody tr th {\n",
       "        vertical-align: top;\n",
       "    }\n",
       "\n",
       "    .dataframe thead th {\n",
       "        text-align: right;\n",
       "    }\n",
       "</style>\n",
       "<table border=\"1\" class=\"dataframe\">\n",
       "  <thead>\n",
       "    <tr style=\"text-align: right;\">\n",
       "      <th></th>\n",
       "      <th></th>\n",
       "      <th>tau</th>\n",
       "      <th>gamma</th>\n",
       "    </tr>\n",
       "    <tr>\n",
       "      <th>model_id</th>\n",
       "      <th>regularizer_name</th>\n",
       "      <th></th>\n",
       "      <th></th>\n",
       "    </tr>\n",
       "  </thead>\n",
       "  <tbody>\n",
       "    <tr>\n",
       "      <th rowspan=\"7\" valign=\"top\">##18h44m06s_18d11m2019y###</th>\n",
       "      <th>smooth_phi_bcg</th>\n",
       "      <td>9.949604</td>\n",
       "      <td>NaN</td>\n",
       "    </tr>\n",
       "    <tr>\n",
       "      <th>smooth_theta_bcg</th>\n",
       "      <td>93.597598</td>\n",
       "      <td>NaN</td>\n",
       "    </tr>\n",
       "    <tr>\n",
       "      <th>decorrelation_phi</th>\n",
       "      <td>0.000000</td>\n",
       "      <td>0.0</td>\n",
       "    </tr>\n",
       "    <tr>\n",
       "      <th>decorrelation_phi_@2gramm</th>\n",
       "      <td>0.000000</td>\n",
       "      <td>0.0</td>\n",
       "    </tr>\n",
       "    <tr>\n",
       "      <th>decorrelation_phi_@3gramm</th>\n",
       "      <td>0.060000</td>\n",
       "      <td>0.0</td>\n",
       "    </tr>\n",
       "    <tr>\n",
       "      <th>smooth_phi_@2gramm</th>\n",
       "      <td>0.000000</td>\n",
       "      <td>NaN</td>\n",
       "    </tr>\n",
       "    <tr>\n",
       "      <th>smooth_phi_@3gramm</th>\n",
       "      <td>0.250000</td>\n",
       "      <td>NaN</td>\n",
       "    </tr>\n",
       "  </tbody>\n",
       "</table>\n",
       "</div>"
      ],
      "text/plain": [
       "                                                            tau  gamma\n",
       "model_id                   regularizer_name                           \n",
       "##18h44m06s_18d11m2019y### smooth_phi_bcg              9.949604    NaN\n",
       "                           smooth_theta_bcg           93.597598    NaN\n",
       "                           decorrelation_phi           0.000000    0.0\n",
       "                           decorrelation_phi_@2gramm   0.000000    0.0\n",
       "                           decorrelation_phi_@3gramm   0.060000    0.0\n",
       "                           smooth_phi_@2gramm          0.000000    NaN\n",
       "                           smooth_phi_@3gramm          0.250000    NaN"
      ]
     },
     "execution_count": 13,
     "metadata": {},
     "output_type": "execute_result"
    }
   ],
   "source": [
    "best_model.describe_regularizers()"
   ]
  },
  {
   "cell_type": "code",
   "execution_count": 14,
   "metadata": {
    "scrolled": true
   },
   "outputs": [
    {
     "data": {
      "text/html": [
       "<div>\n",
       "<style scoped>\n",
       "    .dataframe tbody tr th:only-of-type {\n",
       "        vertical-align: middle;\n",
       "    }\n",
       "\n",
       "    .dataframe tbody tr th {\n",
       "        vertical-align: top;\n",
       "    }\n",
       "\n",
       "    .dataframe thead th {\n",
       "        text-align: right;\n",
       "    }\n",
       "</style>\n",
       "<table border=\"1\" class=\"dataframe\">\n",
       "  <thead>\n",
       "    <tr style=\"text-align: right;\">\n",
       "      <th></th>\n",
       "      <th></th>\n",
       "      <th>last_value</th>\n",
       "    </tr>\n",
       "    <tr>\n",
       "      <th>model_id</th>\n",
       "      <th>score_name</th>\n",
       "      <th></th>\n",
       "    </tr>\n",
       "  </thead>\n",
       "  <tbody>\n",
       "    <tr>\n",
       "      <th rowspan=\"47\" valign=\"top\">##18h44m06s_18d11m2019y###</th>\n",
       "      <th>PerplexityScore@all</th>\n",
       "      <td>1.05165e+10</td>\n",
       "    </tr>\n",
       "    <tr>\n",
       "      <th>SparsityThetaScore</th>\n",
       "      <td>0.0488067</td>\n",
       "    </tr>\n",
       "    <tr>\n",
       "      <th>SparsityPhiScore@2gramm</th>\n",
       "      <td>0.697437</td>\n",
       "    </tr>\n",
       "    <tr>\n",
       "      <th>PerplexityScore@2gramm</th>\n",
       "      <td>1973.68</td>\n",
       "    </tr>\n",
       "    <tr>\n",
       "      <th>TopicKernel@2gramm.average_coherence</th>\n",
       "      <td>0</td>\n",
       "    </tr>\n",
       "    <tr>\n",
       "      <th>TopicKernel@2gramm.average_contrast</th>\n",
       "      <td>0.506818</td>\n",
       "    </tr>\n",
       "    <tr>\n",
       "      <th>TopicKernel@2gramm.average_purity</th>\n",
       "      <td>0.38094</td>\n",
       "    </tr>\n",
       "    <tr>\n",
       "      <th>TopicKernel@2gramm.average_size</th>\n",
       "      <td>288.345</td>\n",
       "    </tr>\n",
       "    <tr>\n",
       "      <th>TopicKernel@2gramm.coherence</th>\n",
       "      <td>{'topic_0': 0.0, 'topic_1': 0.0, 'topic_2': 0....</td>\n",
       "    </tr>\n",
       "    <tr>\n",
       "      <th>TopicKernel@2gramm.contrast</th>\n",
       "      <td>{'topic_0': 0.46329352259635925, 'topic_1': 0....</td>\n",
       "    </tr>\n",
       "    <tr>\n",
       "      <th>TopicKernel@2gramm.purity</th>\n",
       "      <td>{'topic_0': 0.28677496314048767, 'topic_1': 0....</td>\n",
       "    </tr>\n",
       "    <tr>\n",
       "      <th>TopicKernel@2gramm.size</th>\n",
       "      <td>{'topic_0': 235.0, 'topic_1': 350.0, 'topic_2'...</td>\n",
       "    </tr>\n",
       "    <tr>\n",
       "      <th>TopicKernel@2gramm.tokens</th>\n",
       "      <td>{'topic_0': ['идти_дождь', 'рамка_концепция', ...</td>\n",
       "    </tr>\n",
       "    <tr>\n",
       "      <th>SparsityPhiScore@word</th>\n",
       "      <td>0.618339</td>\n",
       "    </tr>\n",
       "    <tr>\n",
       "      <th>PerplexityScore@word</th>\n",
       "      <td>3298.65</td>\n",
       "    </tr>\n",
       "    <tr>\n",
       "      <th>TopicKernel@word.average_coherence</th>\n",
       "      <td>0</td>\n",
       "    </tr>\n",
       "    <tr>\n",
       "      <th>TopicKernel@word.average_contrast</th>\n",
       "      <td>0.459593</td>\n",
       "    </tr>\n",
       "    <tr>\n",
       "      <th>TopicKernel@word.average_purity</th>\n",
       "      <td>0.138</td>\n",
       "    </tr>\n",
       "    <tr>\n",
       "      <th>TopicKernel@word.average_size</th>\n",
       "      <td>422.517</td>\n",
       "    </tr>\n",
       "    <tr>\n",
       "      <th>TopicKernel@word.coherence</th>\n",
       "      <td>{'topic_0': 0.0, 'topic_1': 0.0, 'topic_2': 0....</td>\n",
       "    </tr>\n",
       "    <tr>\n",
       "      <th>TopicKernel@word.contrast</th>\n",
       "      <td>{'topic_0': 0.45213043689727783, 'topic_1': 0....</td>\n",
       "    </tr>\n",
       "    <tr>\n",
       "      <th>TopicKernel@word.purity</th>\n",
       "      <td>{'topic_0': 0.10657232254743576, 'topic_1': 0....</td>\n",
       "    </tr>\n",
       "    <tr>\n",
       "      <th>TopicKernel@word.size</th>\n",
       "      <td>{'topic_0': 184.0, 'topic_1': 232.0, 'topic_2'...</td>\n",
       "    </tr>\n",
       "    <tr>\n",
       "      <th>TopicKernel@word.tokens</th>\n",
       "      <td>{'topic_0': ['эпикура', 'бесстрашный', 'ясперс...</td>\n",
       "    </tr>\n",
       "    <tr>\n",
       "      <th>SparsityPhiScore@post_tag</th>\n",
       "      <td>0.868743</td>\n",
       "    </tr>\n",
       "    <tr>\n",
       "      <th>PerplexityScore@post_tag</th>\n",
       "      <td>47.8679</td>\n",
       "    </tr>\n",
       "    <tr>\n",
       "      <th>TopicKernel@post_tag.average_coherence</th>\n",
       "      <td>0</td>\n",
       "    </tr>\n",
       "    <tr>\n",
       "      <th>TopicKernel@post_tag.average_contrast</th>\n",
       "      <td>0.777833</td>\n",
       "    </tr>\n",
       "    <tr>\n",
       "      <th>TopicKernel@post_tag.average_purity</th>\n",
       "      <td>0.822803</td>\n",
       "    </tr>\n",
       "    <tr>\n",
       "      <th>TopicKernel@post_tag.average_size</th>\n",
       "      <td>36.2069</td>\n",
       "    </tr>\n",
       "    <tr>\n",
       "      <th>TopicKernel@post_tag.coherence</th>\n",
       "      <td>{'topic_0': 0.0, 'topic_1': 0.0, 'topic_2': 0....</td>\n",
       "    </tr>\n",
       "    <tr>\n",
       "      <th>TopicKernel@post_tag.contrast</th>\n",
       "      <td>{'topic_0': 0.7329791784286499, 'topic_1': 0.7...</td>\n",
       "    </tr>\n",
       "    <tr>\n",
       "      <th>TopicKernel@post_tag.purity</th>\n",
       "      <td>{'topic_0': 0.9183759689331055, 'topic_1': 0.8...</td>\n",
       "    </tr>\n",
       "    <tr>\n",
       "      <th>TopicKernel@post_tag.size</th>\n",
       "      <td>{'topic_0': 40.0, 'topic_1': 47.0, 'topic_2': ...</td>\n",
       "    </tr>\n",
       "    <tr>\n",
       "      <th>TopicKernel@post_tag.tokens</th>\n",
       "      <td>{'topic_0': ['эстетика', 'ницше_фридрих', 'дек...</td>\n",
       "    </tr>\n",
       "    <tr>\n",
       "      <th>SparsityPhiScore@3gramm</th>\n",
       "      <td>0.598841</td>\n",
       "    </tr>\n",
       "    <tr>\n",
       "      <th>PerplexityScore@3gramm</th>\n",
       "      <td>33.7453</td>\n",
       "    </tr>\n",
       "    <tr>\n",
       "      <th>TopicKernel@3gramm.average_coherence</th>\n",
       "      <td>0</td>\n",
       "    </tr>\n",
       "    <tr>\n",
       "      <th>TopicKernel@3gramm.average_contrast</th>\n",
       "      <td>0.968696</td>\n",
       "    </tr>\n",
       "    <tr>\n",
       "      <th>TopicKernel@3gramm.average_purity</th>\n",
       "      <td>0.990443</td>\n",
       "    </tr>\n",
       "    <tr>\n",
       "      <th>TopicKernel@3gramm.average_size</th>\n",
       "      <td>16.2069</td>\n",
       "    </tr>\n",
       "    <tr>\n",
       "      <th>TopicKernel@3gramm.coherence</th>\n",
       "      <td>{'topic_0': 0.0, 'topic_1': 0.0, 'topic_2': 0....</td>\n",
       "    </tr>\n",
       "    <tr>\n",
       "      <th>TopicKernel@3gramm.contrast</th>\n",
       "      <td>{'topic_0': 0.9859378337860107, 'topic_1': 0.9...</td>\n",
       "    </tr>\n",
       "    <tr>\n",
       "      <th>TopicKernel@3gramm.purity</th>\n",
       "      <td>{'topic_0': 0.9981662034988403, 'topic_1': 0.9...</td>\n",
       "    </tr>\n",
       "    <tr>\n",
       "      <th>TopicKernel@3gramm.size</th>\n",
       "      <td>{'topic_0': 16.0, 'topic_1': 17.0, 'topic_2': ...</td>\n",
       "    </tr>\n",
       "    <tr>\n",
       "      <th>TopicKernel@3gramm.tokens</th>\n",
       "      <td>{'topic_0': ['достаточно_большой_часть', 'смен...</td>\n",
       "    </tr>\n",
       "    <tr>\n",
       "      <th>BleiLaffertyScore</th>\n",
       "      <td>150.132</td>\n",
       "    </tr>\n",
       "  </tbody>\n",
       "</table>\n",
       "</div>"
      ],
      "text/plain": [
       "                                                                                                          last_value\n",
       "model_id                   score_name                                                                               \n",
       "##18h44m06s_18d11m2019y### PerplexityScore@all                                                           1.05165e+10\n",
       "                           SparsityThetaScore                                                              0.0488067\n",
       "                           SparsityPhiScore@2gramm                                                          0.697437\n",
       "                           PerplexityScore@2gramm                                                            1973.68\n",
       "                           TopicKernel@2gramm.average_coherence                                                    0\n",
       "                           TopicKernel@2gramm.average_contrast                                              0.506818\n",
       "                           TopicKernel@2gramm.average_purity                                                 0.38094\n",
       "                           TopicKernel@2gramm.average_size                                                   288.345\n",
       "                           TopicKernel@2gramm.coherence            {'topic_0': 0.0, 'topic_1': 0.0, 'topic_2': 0....\n",
       "                           TopicKernel@2gramm.contrast             {'topic_0': 0.46329352259635925, 'topic_1': 0....\n",
       "                           TopicKernel@2gramm.purity               {'topic_0': 0.28677496314048767, 'topic_1': 0....\n",
       "                           TopicKernel@2gramm.size                 {'topic_0': 235.0, 'topic_1': 350.0, 'topic_2'...\n",
       "                           TopicKernel@2gramm.tokens               {'topic_0': ['идти_дождь', 'рамка_концепция', ...\n",
       "                           SparsityPhiScore@word                                                            0.618339\n",
       "                           PerplexityScore@word                                                              3298.65\n",
       "                           TopicKernel@word.average_coherence                                                      0\n",
       "                           TopicKernel@word.average_contrast                                                0.459593\n",
       "                           TopicKernel@word.average_purity                                                     0.138\n",
       "                           TopicKernel@word.average_size                                                     422.517\n",
       "                           TopicKernel@word.coherence              {'topic_0': 0.0, 'topic_1': 0.0, 'topic_2': 0....\n",
       "                           TopicKernel@word.contrast               {'topic_0': 0.45213043689727783, 'topic_1': 0....\n",
       "                           TopicKernel@word.purity                 {'topic_0': 0.10657232254743576, 'topic_1': 0....\n",
       "                           TopicKernel@word.size                   {'topic_0': 184.0, 'topic_1': 232.0, 'topic_2'...\n",
       "                           TopicKernel@word.tokens                 {'topic_0': ['эпикура', 'бесстрашный', 'ясперс...\n",
       "                           SparsityPhiScore@post_tag                                                        0.868743\n",
       "                           PerplexityScore@post_tag                                                          47.8679\n",
       "                           TopicKernel@post_tag.average_coherence                                                  0\n",
       "                           TopicKernel@post_tag.average_contrast                                            0.777833\n",
       "                           TopicKernel@post_tag.average_purity                                              0.822803\n",
       "                           TopicKernel@post_tag.average_size                                                 36.2069\n",
       "                           TopicKernel@post_tag.coherence          {'topic_0': 0.0, 'topic_1': 0.0, 'topic_2': 0....\n",
       "                           TopicKernel@post_tag.contrast           {'topic_0': 0.7329791784286499, 'topic_1': 0.7...\n",
       "                           TopicKernel@post_tag.purity             {'topic_0': 0.9183759689331055, 'topic_1': 0.8...\n",
       "                           TopicKernel@post_tag.size               {'topic_0': 40.0, 'topic_1': 47.0, 'topic_2': ...\n",
       "                           TopicKernel@post_tag.tokens             {'topic_0': ['эстетика', 'ницше_фридрих', 'дек...\n",
       "                           SparsityPhiScore@3gramm                                                          0.598841\n",
       "                           PerplexityScore@3gramm                                                            33.7453\n",
       "                           TopicKernel@3gramm.average_coherence                                                    0\n",
       "                           TopicKernel@3gramm.average_contrast                                              0.968696\n",
       "                           TopicKernel@3gramm.average_purity                                                0.990443\n",
       "                           TopicKernel@3gramm.average_size                                                   16.2069\n",
       "                           TopicKernel@3gramm.coherence            {'topic_0': 0.0, 'topic_1': 0.0, 'topic_2': 0....\n",
       "                           TopicKernel@3gramm.contrast             {'topic_0': 0.9859378337860107, 'topic_1': 0.9...\n",
       "                           TopicKernel@3gramm.purity               {'topic_0': 0.9981662034988403, 'topic_1': 0.9...\n",
       "                           TopicKernel@3gramm.size                 {'topic_0': 16.0, 'topic_1': 17.0, 'topic_2': ...\n",
       "                           TopicKernel@3gramm.tokens               {'topic_0': ['достаточно_большой_часть', 'смен...\n",
       "                           BleiLaffertyScore                                                                 150.132"
      ]
     },
     "execution_count": 14,
     "metadata": {},
     "output_type": "execute_result"
    }
   ],
   "source": [
    "best_model.describe_scores()"
   ]
  },
  {
   "cell_type": "markdown",
   "metadata": {},
   "source": [
    "## Results"
   ]
  },
  {
   "cell_type": "code",
   "execution_count": 15,
   "metadata": {},
   "outputs": [
    {
     "data": {
      "image/png": "[encoded data removed]",
      "text/plain": [
       "<Figure size 576x576 with 1 Axes>"
      ]
     },
     "metadata": {
      "needs_background": "light"
     },
     "output_type": "display_data"
    }
   ],
   "source": [
    "from matplotlib import cm\n",
    "tms = experiment.models\n",
    "colors = np.linspace(0, 0.65, len(tms))\n",
    "\n",
    "plt.figure(figsize=(8,8))\n",
    "for i, tm in enumerate(list(tms.values())[1:]):\n",
    "    score = tm.scores['BleiLaffertyScore']\n",
    "    ls = \"-\" if tm.model_id == best_model.model_id else \"--\" \n",
    "    plt.plot(score, color=cm.Reds(colors[i]), ls=ls)\n",
    "plt.show()"
   ]
  },
  {
   "cell_type": "code",
   "execution_count": 16,
   "metadata": {},
   "outputs": [
    {
     "data": {
      "image/png": "[encoded data removed]",
      "text/plain": [
       "<Figure size 576x576 with 1 Axes>"
      ]
     },
     "metadata": {
      "needs_background": "light"
     },
     "output_type": "display_data"
    }
   ],
   "source": [
    "tms = experiment.models\n",
    "colors = np.linspace(0, 0.65, len(tms))\n",
    "\n",
    "plt.figure(figsize=(8,8))\n",
    "for i, tm in enumerate(list(tms.values())[1:]):\n",
    "    score = tm.scores['PerplexityScore@all']\n",
    "    score[0] = float(\"nan\")\n",
    "    ls = \"-\" if tm.model_id == best_model.model_id else \"--\" \n",
    "    plt.plot(score, color=cm.Reds(colors[i]), ls=ls)\n",
    "plt.show()"
   ]
  },
  {
   "cell_type": "code",
   "execution_count": 17,
   "metadata": {},
   "outputs": [
    {
     "data": {
      "image/png": "[encoded data removed]",
      "text/plain": [
       "<Figure size 576x576 with 1 Axes>"
      ]
     },
     "metadata": {
      "needs_background": "light"
     },
     "output_type": "display_data"
    }
   ],
   "source": [
    "tms = experiment.models\n",
    "colors = np.linspace(0, 0.65, len(tms))\n",
    "\n",
    "plt.figure(figsize=(8,8))\n",
    "for i, tm in enumerate(list(tms.values())[1:]):\n",
    "    ls = \"-\" if tm.model_id == best_model.model_id else \"--\" \n",
    "    score = tm.scores['TopicKernel@word.average_purity']\n",
    "    plt.plot(score, color=cm.Blues(colors[i]), ls=ls)\n",
    "    score = tm.scores['TopicKernel@word.average_contrast']\n",
    "    plt.plot(score, color=cm.Reds(colors[i]), ls=ls)\n",
    "    score = tm.scores['SparsityPhiScore@word']\n",
    "    plt.plot(score, color=cm.Greens(colors[i]), ls=ls)\n",
    "\n",
    "plt.show()"
   ]
  },
  {
   "cell_type": "code",
   "execution_count": 18,
   "metadata": {},
   "outputs": [
    {
     "data": {
      "image/png": "[encoded data removed]",
      "text/plain": [
       "<Figure size 576x576 with 1 Axes>"
      ]
     },
     "metadata": {
      "needs_background": "light"
     },
     "output_type": "display_data"
    }
   ],
   "source": [
    "tms = experiment.models\n",
    "colors = np.linspace(0, 0.65, len(tms))\n",
    "\n",
    "plt.figure(figsize=(8,8))\n",
    "for i, tm in enumerate(list(tms.values())[1:]):\n",
    "    ls = \"-\" if tm.model_id == best_model.model_id else \"--\" \n",
    "    score = tm.scores['TopicKernel@2gramm.average_purity']\n",
    "    plt.plot(score, color=cm.Blues(colors[i]), ls=ls)\n",
    "    score = tm.scores['TopicKernel@2gramm.average_contrast']\n",
    "    plt.plot(score, color=cm.Reds(colors[i]), ls=ls)\n",
    "    score = tm.scores['SparsityPhiScore@2gramm']\n",
    "    plt.plot(score, color=cm.Greens(colors[i]), ls=ls)\n",
    "\n",
    "plt.show()"
   ]
  },
  {
   "cell_type": "code",
   "execution_count": 19,
   "metadata": {},
   "outputs": [
    {
     "data": {
      "image/png": "[encoded data removed]",
      "text/plain": [
       "<Figure size 576x576 with 1 Axes>"
      ]
     },
     "metadata": {
      "needs_background": "light"
     },
     "output_type": "display_data"
    }
   ],
   "source": [
    "tms = experiment.models\n",
    "colors = np.linspace(0, 0.65, len(tms))\n",
    "\n",
    "plt.figure(figsize=(8,8))\n",
    "for i, tm in enumerate(list(tms.values())[1:]):\n",
    "    ls = \"-\" if tm.model_id == best_model.model_id else \"--\" \n",
    "    score = tm.scores['TopicKernel@3gramm.average_purity']\n",
    "    plt.plot(score, color=cm.Blues(colors[i]), ls=ls)\n",
    "    score = tm.scores['TopicKernel@3gramm.average_contrast']\n",
    "    plt.plot(score, color=cm.Reds(colors[i]), ls=ls)\n",
    "    score = tm.scores['SparsityPhiScore@3gramm']\n",
    "    plt.plot(score, color=cm.Greens(colors[i]), ls=ls)\n",
    "\n",
    "plt.show()"
   ]
  },
  {
   "cell_type": "markdown",
   "metadata": {},
   "source": [
    "## Investigate model"
   ]
  },
  {
   "cell_type": "code",
   "execution_count": 20,
   "metadata": {},
   "outputs": [],
   "source": [
    "from topicnet.viewers.top_tokens_viewer import TopTokensViewer\n",
    "from topicnet.viewers.top_documents_viewer import TopDocumentsViewer"
   ]
  },
  {
   "cell_type": "code",
   "execution_count": 21,
   "metadata": {},
   "outputs": [],
   "source": [
    "first_model_top_tok = TopTokensViewer(best_model, num_top_tokens=10, method='phi')\n",
    "first_model_html =  first_model_top_tok.to_html(first_model_top_tok.view())\n",
    "first_model_top_doc = TopDocumentsViewer(best_model, dataset=dataset).view()"
   ]
  },
  {
   "cell_type": "code",
   "execution_count": 22,
   "metadata": {},
   "outputs": [
    {
     "data": {
      "text/html": [
       "<style  type=\"text/css\" >\n",
       "</style><table id=\"T_dd44a298_0a1b_11ea_a6fb_107b449f15fc\" style='display:inline'><thead>    <tr>        <th class=\"blank level0\" ></th>        <th class=\"col_heading level0 col0\" >topic_0 @2gramm</th>    </tr></thead><tbody>\n",
       "                <tr>\n",
       "                        <th id=\"T_dd44a298_0a1b_11ea_a6fb_107b449f15fclevel0_row0\" class=\"row_heading level0 row0\" >политический_философия</th>\n",
       "                        <td id=\"T_dd44a298_0a1b_11ea_a6fb_107b449f15fcrow0_col0\" class=\"data row0 col0\" >0.02101</td>\n",
       "            </tr>\n",
       "            <tr>\n",
       "                        <th id=\"T_dd44a298_0a1b_11ea_a6fb_107b449f15fclevel0_row1\" class=\"row_heading level0 row1\" >политический_теория</th>\n",
       "                        <td id=\"T_dd44a298_0a1b_11ea_a6fb_107b449f15fcrow1_col0\" class=\"data row1 col0\" >0.00914</td>\n",
       "            </tr>\n",
       "            <tr>\n",
       "                        <th id=\"T_dd44a298_0a1b_11ea_a6fb_107b449f15fclevel0_row2\" class=\"row_heading level0 row2\" >крайний_мера</th>\n",
       "                        <td id=\"T_dd44a298_0a1b_11ea_a6fb_107b449f15fcrow2_col0\" class=\"data row2 col0\" >0.0074</td>\n",
       "            </tr>\n",
       "            <tr>\n",
       "                        <th id=\"T_dd44a298_0a1b_11ea_a6fb_107b449f15fclevel0_row3\" class=\"row_heading level0 row3\" >xx_век</th>\n",
       "                        <td id=\"T_dd44a298_0a1b_11ea_a6fb_107b449f15fcrow3_col0\" class=\"data row3 col0\" >0.00736</td>\n",
       "            </tr>\n",
       "            <tr>\n",
       "                        <th id=\"T_dd44a298_0a1b_11ea_a6fb_107b449f15fclevel0_row4\" class=\"row_heading level0 row4\" >речь_идти</th>\n",
       "                        <td id=\"T_dd44a298_0a1b_11ea_a6fb_107b449f15fcrow4_col0\" class=\"data row4 col0\" >0.00641</td>\n",
       "            </tr>\n",
       "            <tr>\n",
       "                        <th id=\"T_dd44a298_0a1b_11ea_a6fb_107b449f15fclevel0_row5\" class=\"row_heading level0 row5\" >лео_штраус</th>\n",
       "                        <td id=\"T_dd44a298_0a1b_11ea_a6fb_107b449f15fcrow5_col0\" class=\"data row5 col0\" >0.00567</td>\n",
       "            </tr>\n",
       "            <tr>\n",
       "                        <th id=\"T_dd44a298_0a1b_11ea_a6fb_107b449f15fclevel0_row6\" class=\"row_heading level0 row6\" >политический_мысль</th>\n",
       "                        <td id=\"T_dd44a298_0a1b_11ea_a6fb_107b449f15fcrow6_col0\" class=\"data row6 col0\" >0.00563</td>\n",
       "            </tr>\n",
       "            <tr>\n",
       "                        <th id=\"T_dd44a298_0a1b_11ea_a6fb_107b449f15fclevel0_row7\" class=\"row_heading level0 row7\" >политический_философ</th>\n",
       "                        <td id=\"T_dd44a298_0a1b_11ea_a6fb_107b449f15fcrow7_col0\" class=\"data row7 col0\" >0.00561</td>\n",
       "            </tr>\n",
       "            <tr>\n",
       "                        <th id=\"T_dd44a298_0a1b_11ea_a6fb_107b449f15fclevel0_row8\" class=\"row_heading level0 row8\" >научный_революция</th>\n",
       "                        <td id=\"T_dd44a298_0a1b_11ea_a6fb_107b449f15fcrow8_col0\" class=\"data row8 col0\" >0.00507</td>\n",
       "            </tr>\n",
       "            <tr>\n",
       "                        <th id=\"T_dd44a298_0a1b_11ea_a6fb_107b449f15fclevel0_row9\" class=\"row_heading level0 row9\" >политический_режим</th>\n",
       "                        <td id=\"T_dd44a298_0a1b_11ea_a6fb_107b449f15fcrow9_col0\" class=\"data row9 col0\" >0.00502</td>\n",
       "            </tr>\n",
       "    </tbody></table><style  type=\"text/css\" >\n",
       "</style><table id=\"T_dd44a299_0a1b_11ea_a6fb_107b449f15fc\" style='display:inline'><thead>    <tr>        <th class=\"blank level0\" ></th>        <th class=\"col_heading level0 col0\" >topic_0 @3gramm</th>    </tr></thead><tbody>\n",
       "                <tr>\n",
       "                        <th id=\"T_dd44a299_0a1b_11ea_a6fb_107b449f15fclevel0_row0\" class=\"row_heading level0 row0\" >сменять_друг_друг</th>\n",
       "                        <td id=\"T_dd44a299_0a1b_11ea_a6fb_107b449f15fcrow0_col0\" class=\"data row0 col0\" >0.17447</td>\n",
       "            </tr>\n",
       "            <tr>\n",
       "                        <th id=\"T_dd44a299_0a1b_11ea_a6fb_107b449f15fclevel0_row1\" class=\"row_heading level0 row1\" >история_политический_мысль</th>\n",
       "                        <td id=\"T_dd44a299_0a1b_11ea_a6fb_107b449f15fcrow1_col0\" class=\"data row1 col0\" >0.09906</td>\n",
       "            </tr>\n",
       "            <tr>\n",
       "                        <th id=\"T_dd44a299_0a1b_11ea_a6fb_107b449f15fclevel0_row2\" class=\"row_heading level0 row2\" >начало_прошлое_век</th>\n",
       "                        <td id=\"T_dd44a299_0a1b_11ea_a6fb_107b449f15fcrow2_col0\" class=\"data row2 col0\" >0.0747</td>\n",
       "            </tr>\n",
       "            <tr>\n",
       "                        <th id=\"T_dd44a299_0a1b_11ea_a6fb_107b449f15fclevel0_row3\" class=\"row_heading level0 row3\" >закон_квантовый_механика</th>\n",
       "                        <td id=\"T_dd44a299_0a1b_11ea_a6fb_107b449f15fcrow3_col0\" class=\"data row3 col0\" >0.07304</td>\n",
       "            </tr>\n",
       "            <tr>\n",
       "                        <th id=\"T_dd44a299_0a1b_11ea_a6fb_107b449f15fclevel0_row4\" class=\"row_heading level0 row4\" >сложный_квантовый_система</th>\n",
       "                        <td id=\"T_dd44a299_0a1b_11ea_a6fb_107b449f15fcrow4_col0\" class=\"data row4 col0\" >0.06409</td>\n",
       "            </tr>\n",
       "            <tr>\n",
       "                        <th id=\"T_dd44a299_0a1b_11ea_a6fb_107b449f15fclevel0_row5\" class=\"row_heading level0 row5\" >современный_политический_философия</th>\n",
       "                        <td id=\"T_dd44a299_0a1b_11ea_a6fb_107b449f15fcrow5_col0\" class=\"data row5 col0\" >0.0636</td>\n",
       "            </tr>\n",
       "            <tr>\n",
       "                        <th id=\"T_dd44a299_0a1b_11ea_a6fb_107b449f15fclevel0_row6\" class=\"row_heading level0 row6\" >играть_никакой_роль</th>\n",
       "                        <td id=\"T_dd44a299_0a1b_11ea_a6fb_107b449f15fcrow6_col0\" class=\"data row6 col0\" >0.0597</td>\n",
       "            </tr>\n",
       "            <tr>\n",
       "                        <th id=\"T_dd44a299_0a1b_11ea_a6fb_107b449f15fclevel0_row7\" class=\"row_heading level0 row7\" >занимать_особый_место</th>\n",
       "                        <td id=\"T_dd44a299_0a1b_11ea_a6fb_107b449f15fcrow7_col0\" class=\"data row7 col0\" >0.05378</td>\n",
       "            </tr>\n",
       "            <tr>\n",
       "                        <th id=\"T_dd44a299_0a1b_11ea_a6fb_107b449f15fclevel0_row8\" class=\"row_heading level0 row8\" >теория_квантовый_гравитация</th>\n",
       "                        <td id=\"T_dd44a299_0a1b_11ea_a6fb_107b449f15fcrow8_col0\" class=\"data row8 col0\" >0.05231</td>\n",
       "            </tr>\n",
       "            <tr>\n",
       "                        <th id=\"T_dd44a299_0a1b_11ea_a6fb_107b449f15fclevel0_row9\" class=\"row_heading level0 row9\" >равный_друг_друг</th>\n",
       "                        <td id=\"T_dd44a299_0a1b_11ea_a6fb_107b449f15fcrow9_col0\" class=\"data row9 col0\" >0.04479</td>\n",
       "            </tr>\n",
       "    </tbody></table><style  type=\"text/css\" >\n",
       "</style><table id=\"T_dd44a29a_0a1b_11ea_a6fb_107b449f15fc\" style='display:inline'><thead>    <tr>        <th class=\"blank level0\" ></th>        <th class=\"col_heading level0 col0\" >topic_0 @post_tag</th>    </tr></thead><tbody>\n",
       "                <tr>\n",
       "                        <th id=\"T_dd44a29a_0a1b_11ea_a6fb_107b449f15fclevel0_row0\" class=\"row_heading level0 row0\" >философия</th>\n",
       "                        <td id=\"T_dd44a29a_0a1b_11ea_a6fb_107b449f15fcrow0_col0\" class=\"data row0 col0\" >0.40907</td>\n",
       "            </tr>\n",
       "            <tr>\n",
       "                        <th id=\"T_dd44a29a_0a1b_11ea_a6fb_107b449f15fclevel0_row1\" class=\"row_heading level0 row1\" >политическая_философия</th>\n",
       "                        <td id=\"T_dd44a29a_0a1b_11ea_a6fb_107b449f15fcrow1_col0\" class=\"data row1 col0\" >0.07313</td>\n",
       "            </tr>\n",
       "            <tr>\n",
       "                        <th id=\"T_dd44a29a_0a1b_11ea_a6fb_107b449f15fclevel0_row2\" class=\"row_heading level0 row2\" >история_философии</th>\n",
       "                        <td id=\"T_dd44a29a_0a1b_11ea_a6fb_107b449f15fcrow2_col0\" class=\"data row2 col0\" >0.04317</td>\n",
       "            </tr>\n",
       "            <tr>\n",
       "                        <th id=\"T_dd44a29a_0a1b_11ea_a6fb_107b449f15fclevel0_row3\" class=\"row_heading level0 row3\" >аристотель</th>\n",
       "                        <td id=\"T_dd44a29a_0a1b_11ea_a6fb_107b449f15fcrow3_col0\" class=\"data row3 col0\" >0.04143</td>\n",
       "            </tr>\n",
       "            <tr>\n",
       "                        <th id=\"T_dd44a29a_0a1b_11ea_a6fb_107b449f15fclevel0_row4\" class=\"row_heading level0 row4\" >платон</th>\n",
       "                        <td id=\"T_dd44a29a_0a1b_11ea_a6fb_107b449f15fcrow4_col0\" class=\"data row4 col0\" >0.03288</td>\n",
       "            </tr>\n",
       "            <tr>\n",
       "                        <th id=\"T_dd44a29a_0a1b_11ea_a6fb_107b449f15fclevel0_row5\" class=\"row_heading level0 row5\" >кант_иммануил</th>\n",
       "                        <td id=\"T_dd44a29a_0a1b_11ea_a6fb_107b449f15fcrow5_col0\" class=\"data row5 col0\" >0.02544</td>\n",
       "            </tr>\n",
       "            <tr>\n",
       "                        <th id=\"T_dd44a29a_0a1b_11ea_a6fb_107b449f15fclevel0_row6\" class=\"row_heading level0 row6\" >сократ</th>\n",
       "                        <td id=\"T_dd44a29a_0a1b_11ea_a6fb_107b449f15fcrow6_col0\" class=\"data row6 col0\" >0.01989</td>\n",
       "            </tr>\n",
       "            <tr>\n",
       "                        <th id=\"T_dd44a29a_0a1b_11ea_a6fb_107b449f15fclevel0_row7\" class=\"row_heading level0 row7\" >этика</th>\n",
       "                        <td id=\"T_dd44a29a_0a1b_11ea_a6fb_107b449f15fcrow7_col0\" class=\"data row7 col0\" >0.01853</td>\n",
       "            </tr>\n",
       "            <tr>\n",
       "                        <th id=\"T_dd44a29a_0a1b_11ea_a6fb_107b449f15fclevel0_row8\" class=\"row_heading level0 row8\" >русская_философия</th>\n",
       "                        <td id=\"T_dd44a29a_0a1b_11ea_a6fb_107b449f15fcrow8_col0\" class=\"data row8 col0\" >0.01648</td>\n",
       "            </tr>\n",
       "            <tr>\n",
       "                        <th id=\"T_dd44a29a_0a1b_11ea_a6fb_107b449f15fclevel0_row9\" class=\"row_heading level0 row9\" >личность</th>\n",
       "                        <td id=\"T_dd44a29a_0a1b_11ea_a6fb_107b449f15fcrow9_col0\" class=\"data row9 col0\" >0.01557</td>\n",
       "            </tr>\n",
       "    </tbody></table><style  type=\"text/css\" >\n",
       "</style><table id=\"T_dd44a29b_0a1b_11ea_a6fb_107b449f15fc\" style='display:inline'><thead>    <tr>        <th class=\"blank level0\" ></th>        <th class=\"col_heading level0 col0\" >topic_0 @word</th>    </tr></thead><tbody>\n",
       "                <tr>\n",
       "                        <th id=\"T_dd44a29b_0a1b_11ea_a6fb_107b449f15fclevel0_row0\" class=\"row_heading level0 row0\" >философия</th>\n",
       "                        <td id=\"T_dd44a29b_0a1b_11ea_a6fb_107b449f15fcrow0_col0\" class=\"data row0 col0\" >0.00846</td>\n",
       "            </tr>\n",
       "            <tr>\n",
       "                        <th id=\"T_dd44a29b_0a1b_11ea_a6fb_107b449f15fclevel0_row1\" class=\"row_heading level0 row1\" >говорить</th>\n",
       "                        <td id=\"T_dd44a29b_0a1b_11ea_a6fb_107b449f15fcrow1_col0\" class=\"data row1 col0\" >0.00689</td>\n",
       "            </tr>\n",
       "            <tr>\n",
       "                        <th id=\"T_dd44a29b_0a1b_11ea_a6fb_107b449f15fclevel0_row2\" class=\"row_heading level0 row2\" >философ</th>\n",
       "                        <td id=\"T_dd44a29b_0a1b_11ea_a6fb_107b449f15fcrow2_col0\" class=\"data row2 col0\" >0.00667</td>\n",
       "            </tr>\n",
       "            <tr>\n",
       "                        <th id=\"T_dd44a29b_0a1b_11ea_a6fb_107b449f15fclevel0_row3\" class=\"row_heading level0 row3\" >понятие</th>\n",
       "                        <td id=\"T_dd44a29b_0a1b_11ea_a6fb_107b449f15fcrow3_col0\" class=\"data row3 col0\" >0.005</td>\n",
       "            </tr>\n",
       "            <tr>\n",
       "                        <th id=\"T_dd44a29b_0a1b_11ea_a6fb_107b449f15fclevel0_row4\" class=\"row_heading level0 row4\" >свобода</th>\n",
       "                        <td id=\"T_dd44a29b_0a1b_11ea_a6fb_107b449f15fcrow4_col0\" class=\"data row4 col0\" >0.00489</td>\n",
       "            </tr>\n",
       "            <tr>\n",
       "                        <th id=\"T_dd44a29b_0a1b_11ea_a6fb_107b449f15fclevel0_row5\" class=\"row_heading level0 row5\" >книга</th>\n",
       "                        <td id=\"T_dd44a29b_0a1b_11ea_a6fb_107b449f15fcrow5_col0\" class=\"data row5 col0\" >0.00469</td>\n",
       "            </tr>\n",
       "            <tr>\n",
       "                        <th id=\"T_dd44a29b_0a1b_11ea_a6fb_107b449f15fclevel0_row6\" class=\"row_heading level0 row6\" >являться</th>\n",
       "                        <td id=\"T_dd44a29b_0a1b_11ea_a6fb_107b449f15fcrow6_col0\" class=\"data row6 col0\" >0.00455</td>\n",
       "            </tr>\n",
       "            <tr>\n",
       "                        <th id=\"T_dd44a29b_0a1b_11ea_a6fb_107b449f15fclevel0_row7\" class=\"row_heading level0 row7\" >жизнь</th>\n",
       "                        <td id=\"T_dd44a29b_0a1b_11ea_a6fb_107b449f15fcrow7_col0\" class=\"data row7 col0\" >0.00413</td>\n",
       "            </tr>\n",
       "            <tr>\n",
       "                        <th id=\"T_dd44a29b_0a1b_11ea_a6fb_107b449f15fclevel0_row8\" class=\"row_heading level0 row8\" >должный</th>\n",
       "                        <td id=\"T_dd44a29b_0a1b_11ea_a6fb_107b449f15fcrow8_col0\" class=\"data row8 col0\" >0.0041</td>\n",
       "            </tr>\n",
       "            <tr>\n",
       "                        <th id=\"T_dd44a29b_0a1b_11ea_a6fb_107b449f15fclevel0_row9\" class=\"row_heading level0 row9\" >государство</th>\n",
       "                        <td id=\"T_dd44a29b_0a1b_11ea_a6fb_107b449f15fcrow9_col0\" class=\"data row9 col0\" >0.00409</td>\n",
       "            </tr>\n",
       "    </tbody></table>"
      ]
     },
     "metadata": {},
     "output_type": "display_data"
    },
    {
     "data": {
      "text/html": [
       "<b> faq«государь» макиавелли </b><br /> 6 фактов об одном из главных политических философов"
      ]
     },
     "metadata": {},
     "output_type": "display_data"
    },
    {
     "data": {
      "text/html": [
       "<b> тирания в античной политической философии </b><br /> философ александр павлов о значении худшего политического режима в трудах платона, ксенофонта и аристотеля"
      ]
     },
     "metadata": {},
     "output_type": "display_data"
    },
    {
     "data": {
      "text/html": [
       "<b> политическая философия эроса </b><br /> о понятии эроса и эрота в дискуссии о тирании у платона, ксенофонта и аристотеля, идеальном правителе и высшей форме страсти"
      ]
     },
     "metadata": {},
     "output_type": "display_data"
    },
    {
     "data": {
      "text/html": [
       "<b> тирания у платона </b><br /> философ александр павлов о политической философии платона, понимании тирании в диалогах «государство» и «законы» и идеальном политическом режиме"
      ]
     },
     "metadata": {},
     "output_type": "display_data"
    },
    {
     "data": {
      "text/html": [
       "<b> главы # превратности политической субъективации </b><br /> отрывок из новой книги «щекотливый субъектотсутствующий центр политической онтологии» известного словенского философа славоя жижека"
      ]
     },
     "metadata": {},
     "output_type": "display_data"
    },
    {
     "data": {
      "text/html": [
       "<b> главымеханицизм. декарт конструирует вселенную </b><br /> отрывок из книги «научная революция как событие» историков науки питера деара и стивена шейпина о появлении науки в ее современном понимании"
      ]
     },
     "metadata": {},
     "output_type": "display_data"
    },
    {
     "data": {
      "text/html": [
       "<b> faqалмазное правило этики </b><br /> 7 фактов о дополнении к золотому правилу нравственности"
      ]
     },
     "metadata": {},
     "output_type": "display_data"
    },
    {
     "data": {
      "text/html": [
       "<b> тирания у ксенофонта </b><br /> философ александр павлов о диалоге «гиерон», философии ксенофонта в работах лео штрауса и проекте добродетельной тирании"
      ]
     },
     "metadata": {},
     "output_type": "display_data"
    },
    {
     "data": {
      "text/html": [
       "<b> главы # свобода слуг и свобода граждан </b><br /> отрывок из книги знаменитого итальянского политического философа маурицио вироли «свобода слуг»"
      ]
     },
     "metadata": {},
     "output_type": "display_data"
    },
    {
     "data": {
      "text/html": [
       "<b> 5 книг о философии войны </b><br /> что читать о сущности, смысле и природе войны, рекомендует философ арсений куманьков"
      ]
     },
     "metadata": {},
     "output_type": "display_data"
    },
    {
     "data": {
      "text/html": [
       "<style  type=\"text/css\" >\n",
       "</style><table id=\"T_dd44a29c_0a1b_11ea_a6fb_107b449f15fc\" style='display:inline'><thead>    <tr>        <th class=\"blank level0\" ></th>        <th class=\"col_heading level0 col0\" >topic_1 @2gramm</th>    </tr></thead><tbody>\n",
       "                <tr>\n",
       "                        <th id=\"T_dd44a29c_0a1b_11ea_a6fb_107b449f15fclevel0_row0\" class=\"row_heading level0 row0\" >нобелевский_премия</th>\n",
       "                        <td id=\"T_dd44a29c_0a1b_11ea_a6fb_107b449f15fcrow0_col0\" class=\"data row0 col0\" >0.01695</td>\n",
       "            </tr>\n",
       "            <tr>\n",
       "                        <th id=\"T_dd44a29c_0a1b_11ea_a6fb_107b449f15fclevel0_row1\" class=\"row_heading level0 row1\" >нитрид_бора</th>\n",
       "                        <td id=\"T_dd44a29c_0a1b_11ea_a6fb_107b449f15fcrow1_col0\" class=\"data row1 col0\" >0.01051</td>\n",
       "            </tr>\n",
       "            <tr>\n",
       "                        <th id=\"T_dd44a29c_0a1b_11ea_a6fb_107b449f15fclevel0_row2\" class=\"row_heading level0 row2\" >органический_химия</th>\n",
       "                        <td id=\"T_dd44a29c_0a1b_11ea_a6fb_107b449f15fcrow2_col0\" class=\"data row2 col0\" >0.00916</td>\n",
       "            </tr>\n",
       "            <tr>\n",
       "                        <th id=\"T_dd44a29c_0a1b_11ea_a6fb_107b449f15fclevel0_row3\" class=\"row_heading level0 row3\" >кристаллический_структура</th>\n",
       "                        <td id=\"T_dd44a29c_0a1b_11ea_a6fb_107b449f15fcrow3_col0\" class=\"data row3 col0\" >0.00876</td>\n",
       "            </tr>\n",
       "            <tr>\n",
       "                        <th id=\"T_dd44a29c_0a1b_11ea_a6fb_107b449f15fclevel0_row4\" class=\"row_heading level0 row4\" >углеродный_нанотрубка</th>\n",
       "                        <td id=\"T_dd44a29c_0a1b_11ea_a6fb_107b449f15fcrow4_col0\" class=\"data row4 col0\" >0.00833</td>\n",
       "            </tr>\n",
       "            <tr>\n",
       "                        <th id=\"T_dd44a29c_0a1b_11ea_a6fb_107b449f15fclevel0_row5\" class=\"row_heading level0 row5\" >высокий_давление</th>\n",
       "                        <td id=\"T_dd44a29c_0a1b_11ea_a6fb_107b449f15fcrow5_col0\" class=\"data row5 col0\" >0.00745</td>\n",
       "            </tr>\n",
       "            <tr>\n",
       "                        <th id=\"T_dd44a29c_0a1b_11ea_a6fb_107b449f15fclevel0_row6\" class=\"row_heading level0 row6\" >высокий_температура</th>\n",
       "                        <td id=\"T_dd44a29c_0a1b_11ea_a6fb_107b449f15fcrow6_col0\" class=\"data row6 col0\" >0.00741</td>\n",
       "            </tr>\n",
       "            <tr>\n",
       "                        <th id=\"T_dd44a29c_0a1b_11ea_a6fb_107b449f15fclevel0_row7\" class=\"row_heading level0 row7\" >магнитный_пол</th>\n",
       "                        <td id=\"T_dd44a29c_0a1b_11ea_a6fb_107b449f15fcrow7_col0\" class=\"data row7 col0\" >0.00615</td>\n",
       "            </tr>\n",
       "            <tr>\n",
       "                        <th id=\"T_dd44a29c_0a1b_11ea_a6fb_107b449f15fclevel0_row8\" class=\"row_heading level0 row8\" >химический_связь</th>\n",
       "                        <td id=\"T_dd44a29c_0a1b_11ea_a6fb_107b449f15fcrow8_col0\" class=\"data row8 col0\" >0.0057</td>\n",
       "            </tr>\n",
       "            <tr>\n",
       "                        <th id=\"T_dd44a29c_0a1b_11ea_a6fb_107b449f15fclevel0_row9\" class=\"row_heading level0 row9\" >новый_материал</th>\n",
       "                        <td id=\"T_dd44a29c_0a1b_11ea_a6fb_107b449f15fcrow9_col0\" class=\"data row9 col0\" >0.00538</td>\n",
       "            </tr>\n",
       "    </tbody></table><style  type=\"text/css\" >\n",
       "</style><table id=\"T_dd44a29d_0a1b_11ea_a6fb_107b449f15fc\" style='display:inline'><thead>    <tr>        <th class=\"blank level0\" ></th>        <th class=\"col_heading level0 col0\" >topic_1 @3gramm</th>    </tr></thead><tbody>\n",
       "                <tr>\n",
       "                        <th id=\"T_dd44a29d_0a1b_11ea_a6fb_107b449f15fclevel0_row0\" class=\"row_heading level0 row0\" >лауреат_нобелевский_премия</th>\n",
       "                        <td id=\"T_dd44a29d_0a1b_11ea_a6fb_107b449f15fcrow0_col0\" class=\"data row0 col0\" >0.19242</td>\n",
       "            </tr>\n",
       "            <tr>\n",
       "                        <th id=\"T_dd44a29d_0a1b_11ea_a6fb_107b449f15fclevel0_row1\" class=\"row_heading level0 row1\" >средство_массовый_информация</th>\n",
       "                        <td id=\"T_dd44a29d_0a1b_11ea_a6fb_107b449f15fcrow1_col0\" class=\"data row1 col0\" >0.1694</td>\n",
       "            </tr>\n",
       "            <tr>\n",
       "                        <th id=\"T_dd44a29d_0a1b_11ea_a6fb_107b449f15fclevel0_row2\" class=\"row_heading level0 row2\" >магнитный_пол_земля</th>\n",
       "                        <td id=\"T_dd44a29d_0a1b_11ea_a6fb_107b449f15fcrow2_col0\" class=\"data row2 col0\" >0.08658</td>\n",
       "            </tr>\n",
       "            <tr>\n",
       "                        <th id=\"T_dd44a29d_0a1b_11ea_a6fb_107b449f15fclevel0_row3\" class=\"row_heading level0 row3\" >молодая_нейтронный_звезда</th>\n",
       "                        <td id=\"T_dd44a29d_0a1b_11ea_a6fb_107b449f15fcrow3_col0\" class=\"data row3 col0\" >0.06743</td>\n",
       "            </tr>\n",
       "            <tr>\n",
       "                        <th id=\"T_dd44a29d_0a1b_11ea_a6fb_107b449f15fclevel0_row4\" class=\"row_heading level0 row4\" >решение_нобелевский_комитет</th>\n",
       "                        <td id=\"T_dd44a29d_0a1b_11ea_a6fb_107b449f15fcrow4_col0\" class=\"data row4 col0\" >0.05701</td>\n",
       "            </tr>\n",
       "            <tr>\n",
       "                        <th id=\"T_dd44a29d_0a1b_11ea_a6fb_107b449f15fclevel0_row5\" class=\"row_heading level0 row5\" >принятие_политический_решение</th>\n",
       "                        <td id=\"T_dd44a29d_0a1b_11ea_a6fb_107b449f15fcrow5_col0\" class=\"data row5 col0\" >0.05668</td>\n",
       "            </tr>\n",
       "            <tr>\n",
       "                        <th id=\"T_dd44a29d_0a1b_11ea_a6fb_107b449f15fclevel0_row6\" class=\"row_heading level0 row6\" >ширина_запретить_зона</th>\n",
       "                        <td id=\"T_dd44a29d_0a1b_11ea_a6fb_107b449f15fcrow6_col0\" class=\"data row6 col0\" >0.04358</td>\n",
       "            </tr>\n",
       "            <tr>\n",
       "                        <th id=\"T_dd44a29d_0a1b_11ea_a6fb_107b449f15fclevel0_row7\" class=\"row_heading level0 row7\" >удостоить_нобелевский_премия</th>\n",
       "                        <td id=\"T_dd44a29d_0a1b_11ea_a6fb_107b449f15fcrow7_col0\" class=\"data row7 col0\" >0.04316</td>\n",
       "            </tr>\n",
       "            <tr>\n",
       "                        <th id=\"T_dd44a29d_0a1b_11ea_a6fb_107b449f15fclevel0_row8\" class=\"row_heading level0 row8\" >предсказание_кристаллический_структура</th>\n",
       "                        <td id=\"T_dd44a29d_0a1b_11ea_a6fb_107b449f15fcrow8_col0\" class=\"data row8 col0\" >0.039</td>\n",
       "            </tr>\n",
       "            <tr>\n",
       "                        <th id=\"T_dd44a29d_0a1b_11ea_a6fb_107b449f15fclevel0_row9\" class=\"row_heading level0 row9\" >гипотеза_лингвистический_относительность</th>\n",
       "                        <td id=\"T_dd44a29d_0a1b_11ea_a6fb_107b449f15fcrow9_col0\" class=\"data row9 col0\" >0.03893</td>\n",
       "            </tr>\n",
       "    </tbody></table><style  type=\"text/css\" >\n",
       "</style><table id=\"T_dd44a29e_0a1b_11ea_a6fb_107b449f15fc\" style='display:inline'><thead>    <tr>        <th class=\"blank level0\" ></th>        <th class=\"col_heading level0 col0\" >topic_1 @post_tag</th>    </tr></thead><tbody>\n",
       "                <tr>\n",
       "                        <th id=\"T_dd44a29e_0a1b_11ea_a6fb_107b449f15fclevel0_row0\" class=\"row_heading level0 row0\" >химия</th>\n",
       "                        <td id=\"T_dd44a29e_0a1b_11ea_a6fb_107b449f15fcrow0_col0\" class=\"data row0 col0\" >0.19531</td>\n",
       "            </tr>\n",
       "            <tr>\n",
       "                        <th id=\"T_dd44a29e_0a1b_11ea_a6fb_107b449f15fclevel0_row1\" class=\"row_heading level0 row1\" >материаловедение</th>\n",
       "                        <td id=\"T_dd44a29e_0a1b_11ea_a6fb_107b449f15fcrow1_col0\" class=\"data row1 col0\" >0.07438</td>\n",
       "            </tr>\n",
       "            <tr>\n",
       "                        <th id=\"T_dd44a29e_0a1b_11ea_a6fb_107b449f15fclevel0_row2\" class=\"row_heading level0 row2\" >физика</th>\n",
       "                        <td id=\"T_dd44a29e_0a1b_11ea_a6fb_107b449f15fcrow2_col0\" class=\"data row2 col0\" >0.07431</td>\n",
       "            </tr>\n",
       "            <tr>\n",
       "                        <th id=\"T_dd44a29e_0a1b_11ea_a6fb_107b449f15fclevel0_row3\" class=\"row_heading level0 row3\" >нанотехнологии</th>\n",
       "                        <td id=\"T_dd44a29e_0a1b_11ea_a6fb_107b449f15fcrow3_col0\" class=\"data row3 col0\" >0.04301</td>\n",
       "            </tr>\n",
       "            <tr>\n",
       "                        <th id=\"T_dd44a29e_0a1b_11ea_a6fb_107b449f15fclevel0_row4\" class=\"row_heading level0 row4\" >нобелевская_премия</th>\n",
       "                        <td id=\"T_dd44a29e_0a1b_11ea_a6fb_107b449f15fcrow4_col0\" class=\"data row4 col0\" >0.04153</td>\n",
       "            </tr>\n",
       "            <tr>\n",
       "                        <th id=\"T_dd44a29e_0a1b_11ea_a6fb_107b449f15fclevel0_row5\" class=\"row_heading level0 row5\" >технологии</th>\n",
       "                        <td id=\"T_dd44a29e_0a1b_11ea_a6fb_107b449f15fcrow5_col0\" class=\"data row5 col0\" >0.04021</td>\n",
       "            </tr>\n",
       "            <tr>\n",
       "                        <th id=\"T_dd44a29e_0a1b_11ea_a6fb_107b449f15fclevel0_row6\" class=\"row_heading level0 row6\" >молекула</th>\n",
       "                        <td id=\"T_dd44a29e_0a1b_11ea_a6fb_107b449f15fcrow6_col0\" class=\"data row6 col0\" >0.03706</td>\n",
       "            </tr>\n",
       "            <tr>\n",
       "                        <th id=\"T_dd44a29e_0a1b_11ea_a6fb_107b449f15fclevel0_row7\" class=\"row_heading level0 row7\" >кристалл</th>\n",
       "                        <td id=\"T_dd44a29e_0a1b_11ea_a6fb_107b449f15fcrow7_col0\" class=\"data row7 col0\" >0.03097</td>\n",
       "            </tr>\n",
       "            <tr>\n",
       "                        <th id=\"T_dd44a29e_0a1b_11ea_a6fb_107b449f15fclevel0_row8\" class=\"row_heading level0 row8\" >наноматериалы</th>\n",
       "                        <td id=\"T_dd44a29e_0a1b_11ea_a6fb_107b449f15fcrow8_col0\" class=\"data row8 col0\" >0.03093</td>\n",
       "            </tr>\n",
       "            <tr>\n",
       "                        <th id=\"T_dd44a29e_0a1b_11ea_a6fb_107b449f15fclevel0_row9\" class=\"row_heading level0 row9\" >органическая_химия</th>\n",
       "                        <td id=\"T_dd44a29e_0a1b_11ea_a6fb_107b449f15fcrow9_col0\" class=\"data row9 col0\" >0.02631</td>\n",
       "            </tr>\n",
       "    </tbody></table><style  type=\"text/css\" >\n",
       "</style><table id=\"T_dd44a29f_0a1b_11ea_a6fb_107b449f15fc\" style='display:inline'><thead>    <tr>        <th class=\"blank level0\" ></th>        <th class=\"col_heading level0 col0\" >topic_1 @word</th>    </tr></thead><tbody>\n",
       "                <tr>\n",
       "                        <th id=\"T_dd44a29f_0a1b_11ea_a6fb_107b449f15fclevel0_row0\" class=\"row_heading level0 row0\" >материал</th>\n",
       "                        <td id=\"T_dd44a29f_0a1b_11ea_a6fb_107b449f15fcrow0_col0\" class=\"data row0 col0\" >0.00951</td>\n",
       "            </tr>\n",
       "            <tr>\n",
       "                        <th id=\"T_dd44a29f_0a1b_11ea_a6fb_107b449f15fclevel0_row1\" class=\"row_heading level0 row1\" >химия</th>\n",
       "                        <td id=\"T_dd44a29f_0a1b_11ea_a6fb_107b449f15fcrow1_col0\" class=\"data row1 col0\" >0.00709</td>\n",
       "            </tr>\n",
       "            <tr>\n",
       "                        <th id=\"T_dd44a29f_0a1b_11ea_a6fb_107b449f15fclevel0_row2\" class=\"row_heading level0 row2\" >структура</th>\n",
       "                        <td id=\"T_dd44a29f_0a1b_11ea_a6fb_107b449f15fcrow2_col0\" class=\"data row2 col0\" >0.00699</td>\n",
       "            </tr>\n",
       "            <tr>\n",
       "                        <th id=\"T_dd44a29f_0a1b_11ea_a6fb_107b449f15fclevel0_row3\" class=\"row_heading level0 row3\" >молекула</th>\n",
       "                        <td id=\"T_dd44a29f_0a1b_11ea_a6fb_107b449f15fcrow3_col0\" class=\"data row3 col0\" >0.00634</td>\n",
       "            </tr>\n",
       "            <tr>\n",
       "                        <th id=\"T_dd44a29f_0a1b_11ea_a6fb_107b449f15fclevel0_row4\" class=\"row_heading level0 row4\" >вещество</th>\n",
       "                        <td id=\"T_dd44a29f_0a1b_11ea_a6fb_107b449f15fcrow4_col0\" class=\"data row4 col0\" >0.0056</td>\n",
       "            </tr>\n",
       "            <tr>\n",
       "                        <th id=\"T_dd44a29f_0a1b_11ea_a6fb_107b449f15fclevel0_row5\" class=\"row_heading level0 row5\" >получить</th>\n",
       "                        <td id=\"T_dd44a29f_0a1b_11ea_a6fb_107b449f15fcrow5_col0\" class=\"data row5 col0\" >0.00549</td>\n",
       "            </tr>\n",
       "            <tr>\n",
       "                        <th id=\"T_dd44a29f_0a1b_11ea_a6fb_107b449f15fclevel0_row6\" class=\"row_heading level0 row6\" >соединение</th>\n",
       "                        <td id=\"T_dd44a29f_0a1b_11ea_a6fb_107b449f15fcrow6_col0\" class=\"data row6 col0\" >0.00537</td>\n",
       "            </tr>\n",
       "            <tr>\n",
       "                        <th id=\"T_dd44a29f_0a1b_11ea_a6fb_107b449f15fclevel0_row7\" class=\"row_heading level0 row7\" >являться</th>\n",
       "                        <td id=\"T_dd44a29f_0a1b_11ea_a6fb_107b449f15fcrow7_col0\" class=\"data row7 col0\" >0.00517</td>\n",
       "            </tr>\n",
       "            <tr>\n",
       "                        <th id=\"T_dd44a29f_0a1b_11ea_a6fb_107b449f15fclevel0_row8\" class=\"row_heading level0 row8\" >метод</th>\n",
       "                        <td id=\"T_dd44a29f_0a1b_11ea_a6fb_107b449f15fcrow8_col0\" class=\"data row8 col0\" >0.00463</td>\n",
       "            </tr>\n",
       "            <tr>\n",
       "                        <th id=\"T_dd44a29f_0a1b_11ea_a6fb_107b449f15fclevel0_row9\" class=\"row_heading level0 row9\" >элемент</th>\n",
       "                        <td id=\"T_dd44a29f_0a1b_11ea_a6fb_107b449f15fcrow9_col0\" class=\"data row9 col0\" >0.00445</td>\n",
       "            </tr>\n",
       "    </tbody></table>"
      ]
     },
     "metadata": {},
     "output_type": "display_data"
    },
    {
     "data": {
      "text/html": [
       "<b> новая химия под высоким давлением </b><br /> химик артем оганов об изменении химических связей элементов, эксперименте с давлением натрия и источнике нагрева ядра земли"
      ]
     },
     "metadata": {},
     "output_type": "display_data"
    },
    {
     "data": {
      "text/html": [
       "<b> материалы из мира низкой размерности </b><br /> химик артем оганов об углеродных нанотрубках, дизайне новых материалов и нанотехнологиях древнего мира"
      ]
     },
     "metadata": {},
     "output_type": "display_data"
    },
    {
     "data": {
      "text/html": [
       "<b> методы предсказания кристаллических структур </b><br /> химик артем оганов о задачах кристаллографии, методе uspex и структуре алмаза"
      ]
     },
     "metadata": {},
     "output_type": "display_data"
    },
    {
     "data": {
      "text/html": [
       "<b> композиты с использованием bn-нанотрубок </b><br /> материаловед дмитрий гольберг о наноструктурах из нитрида бора, графеноподобных материалах и улучшении свойств полимеров"
      ]
     },
     "metadata": {},
     "output_type": "display_data"
    },
    {
     "data": {
      "text/html": [
       "<b> дизайн сверхтвердых материалов </b><br /> химик артем оганов о структуре алмаза, применении сверхтвердых материалов и новых формах углерода"
      ]
     },
     "metadata": {},
     "output_type": "display_data"
    },
    {
     "data": {
      "text/html": [
       "<b> «создать материал тверже алмаза принципиально невозможно» </b><br /> интервью с химиком артемом огановым о компьютерном дизайне новых материалов, искусственном интеллекте и самом твердом в мире материале"
      ]
     },
     "metadata": {},
     "output_type": "display_data"
    },
    {
     "data": {
      "text/html": [
       "<b> квазикристаллы </b><br /> химик артем оганов о структуре кристалла, открытии нового состояния вещества и мозаиках пенроуза"
      ]
     },
     "metadata": {},
     "output_type": "display_data"
    },
    {
     "data": {
      "text/html": [
       "<b> гетероциклические циркулены </b><br /> химик валентин ненайденко об органической химии, красоте молекул и «серных цветках»"
      ]
     },
     "metadata": {},
     "output_type": "display_data"
    },
    {
     "data": {
      "text/html": [
       "<b> водородные топливные элементыот полетов «аполлона» до автомобилей </b><br /> об одном из самых многообещающих альтернативных источников энергии, водородном гибридном автомобиле toyota mirai и защите окружающей среды"
      ]
     },
     "metadata": {},
     "output_type": "display_data"
    },
    {
     "data": {
      "text/html": [
       "<b> нанотрубки из углерода и нитрида бора </b><br /> материаловед дмитрий гольберг об истории открытия нанотрубок, преимуществах нитрида бора и теплопроводности"
      ]
     },
     "metadata": {},
     "output_type": "display_data"
    },
    {
     "data": {
      "text/html": [
       "<style  type=\"text/css\" >\n",
       "</style><table id=\"T_dd44a2a0_0a1b_11ea_a6fb_107b449f15fc\" style='display:inline'><thead>    <tr>        <th class=\"blank level0\" ></th>        <th class=\"col_heading level0 col0\" >topic_2 @2gramm</th>    </tr></thead><tbody>\n",
       "                <tr>\n",
       "                        <th id=\"T_dd44a2a0_0a1b_11ea_a6fb_107b449f15fclevel0_row0\" class=\"row_heading level0 row0\" >xix_век</th>\n",
       "                        <td id=\"T_dd44a2a0_0a1b_11ea_a6fb_107b449f15fcrow0_col0\" class=\"data row0 col0\" >0.01572</td>\n",
       "            </tr>\n",
       "            <tr>\n",
       "                        <th id=\"T_dd44a2a0_0a1b_11ea_a6fb_107b449f15fclevel0_row1\" class=\"row_heading level0 row1\" >xx_век</th>\n",
       "                        <td id=\"T_dd44a2a0_0a1b_11ea_a6fb_107b449f15fcrow1_col0\" class=\"data row1 col0\" >0.01481</td>\n",
       "            </tr>\n",
       "            <tr>\n",
       "                        <th id=\"T_dd44a2a0_0a1b_11ea_a6fb_107b449f15fclevel0_row2\" class=\"row_heading level0 row2\" >ближний_восток</th>\n",
       "                        <td id=\"T_dd44a2a0_0a1b_11ea_a6fb_107b449f15fcrow2_col0\" class=\"data row2 col0\" >0.00931</td>\n",
       "            </tr>\n",
       "            <tr>\n",
       "                        <th id=\"T_dd44a2a0_0a1b_11ea_a6fb_107b449f15fclevel0_row3\" class=\"row_heading level0 row3\" >христианский_восток</th>\n",
       "                        <td id=\"T_dd44a2a0_0a1b_11ea_a6fb_107b449f15fcrow3_col0\" class=\"data row3 col0\" >0.00821</td>\n",
       "            </tr>\n",
       "            <tr>\n",
       "                        <th id=\"T_dd44a2a0_0a1b_11ea_a6fb_107b449f15fclevel0_row4\" class=\"row_heading level0 row4\" >северный_кавказ</th>\n",
       "                        <td id=\"T_dd44a2a0_0a1b_11ea_a6fb_107b449f15fcrow4_col0\" class=\"data row4 col0\" >0.00716</td>\n",
       "            </tr>\n",
       "            <tr>\n",
       "                        <th id=\"T_dd44a2a0_0a1b_11ea_a6fb_107b449f15fclevel0_row5\" class=\"row_heading level0 row5\" >конец_xix</th>\n",
       "                        <td id=\"T_dd44a2a0_0a1b_11ea_a6fb_107b449f15fcrow5_col0\" class=\"data row5 col0\" >0.00578</td>\n",
       "            </tr>\n",
       "            <tr>\n",
       "                        <th id=\"T_dd44a2a0_0a1b_11ea_a6fb_107b449f15fclevel0_row6\" class=\"row_heading level0 row6\" >vii_век</th>\n",
       "                        <td id=\"T_dd44a2a0_0a1b_11ea_a6fb_107b449f15fcrow6_col0\" class=\"data row6 col0\" >0.00577</td>\n",
       "            </tr>\n",
       "            <tr>\n",
       "                        <th id=\"T_dd44a2a0_0a1b_11ea_a6fb_107b449f15fclevel0_row7\" class=\"row_heading level0 row7\" >гражданский_война</th>\n",
       "                        <td id=\"T_dd44a2a0_0a1b_11ea_a6fb_107b449f15fcrow7_col0\" class=\"data row7 col0\" >0.0051</td>\n",
       "            </tr>\n",
       "            <tr>\n",
       "                        <th id=\"T_dd44a2a0_0a1b_11ea_a6fb_107b449f15fclevel0_row8\" class=\"row_heading level0 row8\" >речь_идти</th>\n",
       "                        <td id=\"T_dd44a2a0_0a1b_11ea_a6fb_107b449f15fcrow8_col0\" class=\"data row8 col0\" >0.00486</td>\n",
       "            </tr>\n",
       "            <tr>\n",
       "                        <th id=\"T_dd44a2a0_0a1b_11ea_a6fb_107b449f15fclevel0_row9\" class=\"row_heading level0 row9\" >iv_век</th>\n",
       "                        <td id=\"T_dd44a2a0_0a1b_11ea_a6fb_107b449f15fcrow9_col0\" class=\"data row9 col0\" >0.00475</td>\n",
       "            </tr>\n",
       "    </tbody></table><style  type=\"text/css\" >\n",
       "</style><table id=\"T_dd44a2a1_0a1b_11ea_a6fb_107b449f15fc\" style='display:inline'><thead>    <tr>        <th class=\"blank level0\" ></th>        <th class=\"col_heading level0 col0\" >topic_2 @3gramm</th>    </tr></thead><tbody>\n",
       "                <tr>\n",
       "                        <th id=\"T_dd44a2a1_0a1b_11ea_a6fb_107b449f15fclevel0_row0\" class=\"row_heading level0 row0\" >начало_xx_век</th>\n",
       "                        <td id=\"T_dd44a2a1_0a1b_11ea_a6fb_107b449f15fcrow0_col0\" class=\"data row0 col0\" >0.61427</td>\n",
       "            </tr>\n",
       "            <tr>\n",
       "                        <th id=\"T_dd44a2a1_0a1b_11ea_a6fb_107b449f15fclevel0_row1\" class=\"row_heading level0 row1\" >начало_xxi_век</th>\n",
       "                        <td id=\"T_dd44a2a1_0a1b_11ea_a6fb_107b449f15fcrow1_col0\" class=\"data row1 col0\" >0.16465</td>\n",
       "            </tr>\n",
       "            <tr>\n",
       "                        <th id=\"T_dd44a2a1_0a1b_11ea_a6fb_107b449f15fclevel0_row2\" class=\"row_heading level0 row2\" >увеличение_продолжительность_жизнь</th>\n",
       "                        <td id=\"T_dd44a2a1_0a1b_11ea_a6fb_107b449f15fcrow2_col0\" class=\"data row2 col0\" >0.06336</td>\n",
       "            </tr>\n",
       "            <tr>\n",
       "                        <th id=\"T_dd44a2a1_0a1b_11ea_a6fb_107b449f15fclevel0_row3\" class=\"row_heading level0 row3\" >широкий_круг_читатель</th>\n",
       "                        <td id=\"T_dd44a2a1_0a1b_11ea_a6fb_107b449f15fcrow3_col0\" class=\"data row3 col0\" >0.05904</td>\n",
       "            </tr>\n",
       "            <tr>\n",
       "                        <th id=\"T_dd44a2a1_0a1b_11ea_a6fb_107b449f15fclevel0_row4\" class=\"row_heading level0 row4\" >начало_xvi_век</th>\n",
       "                        <td id=\"T_dd44a2a1_0a1b_11ea_a6fb_107b449f15fcrow4_col0\" class=\"data row4 col0\" >0.04105</td>\n",
       "            </tr>\n",
       "            <tr>\n",
       "                        <th id=\"T_dd44a2a1_0a1b_11ea_a6fb_107b449f15fclevel0_row5\" class=\"row_heading level0 row5\" >половина_xvi_век</th>\n",
       "                        <td id=\"T_dd44a2a1_0a1b_11ea_a6fb_107b449f15fcrow5_col0\" class=\"data row5 col0\" >0.01813</td>\n",
       "            </tr>\n",
       "            <tr>\n",
       "                        <th id=\"T_dd44a2a1_0a1b_11ea_a6fb_107b449f15fclevel0_row6\" class=\"row_heading level0 row6\" >передавать_друг_друг</th>\n",
       "                        <td id=\"T_dd44a2a1_0a1b_11ea_a6fb_107b449f15fcrow6_col0\" class=\"data row6 col0\" >0.01743</td>\n",
       "            </tr>\n",
       "            <tr>\n",
       "                        <th id=\"T_dd44a2a1_0a1b_11ea_a6fb_107b449f15fclevel0_row7\" class=\"row_heading level0 row7\" >начать_xix_век</th>\n",
       "                        <td id=\"T_dd44a2a1_0a1b_11ea_a6fb_107b449f15fcrow7_col0\" class=\"data row7 col0\" >0.01488</td>\n",
       "            </tr>\n",
       "            <tr>\n",
       "                        <th id=\"T_dd44a2a1_0a1b_11ea_a6fb_107b449f15fclevel0_row8\" class=\"row_heading level0 row8\" >случай_речь_идти</th>\n",
       "                        <td id=\"T_dd44a2a1_0a1b_11ea_a6fb_107b449f15fcrow8_col0\" class=\"data row8 col0\" >0.00657</td>\n",
       "            </tr>\n",
       "            <tr>\n",
       "                        <th id=\"T_dd44a2a1_0a1b_11ea_a6fb_107b449f15fclevel0_row9\" class=\"row_heading level0 row9\" >территория_ближний_восток</th>\n",
       "                        <td id=\"T_dd44a2a1_0a1b_11ea_a6fb_107b449f15fcrow9_col0\" class=\"data row9 col0\" >0.0003</td>\n",
       "            </tr>\n",
       "    </tbody></table><style  type=\"text/css\" >\n",
       "</style><table id=\"T_dd44a2a2_0a1b_11ea_a6fb_107b449f15fc\" style='display:inline'><thead>    <tr>        <th class=\"blank level0\" ></th>        <th class=\"col_heading level0 col0\" >topic_2 @post_tag</th>    </tr></thead><tbody>\n",
       "                <tr>\n",
       "                        <th id=\"T_dd44a2a2_0a1b_11ea_a6fb_107b449f15fclevel0_row0\" class=\"row_heading level0 row0\" >история</th>\n",
       "                        <td id=\"T_dd44a2a2_0a1b_11ea_a6fb_107b449f15fcrow0_col0\" class=\"data row0 col0\" >0.18824</td>\n",
       "            </tr>\n",
       "            <tr>\n",
       "                        <th id=\"T_dd44a2a2_0a1b_11ea_a6fb_107b449f15fclevel0_row1\" class=\"row_heading level0 row1\" >религия</th>\n",
       "                        <td id=\"T_dd44a2a2_0a1b_11ea_a6fb_107b449f15fcrow1_col0\" class=\"data row1 col0\" >0.08869</td>\n",
       "            </tr>\n",
       "            <tr>\n",
       "                        <th id=\"T_dd44a2a2_0a1b_11ea_a6fb_107b449f15fclevel0_row2\" class=\"row_heading level0 row2\" >культура</th>\n",
       "                        <td id=\"T_dd44a2a2_0a1b_11ea_a6fb_107b449f15fcrow2_col0\" class=\"data row2 col0\" >0.05547</td>\n",
       "            </tr>\n",
       "            <tr>\n",
       "                        <th id=\"T_dd44a2a2_0a1b_11ea_a6fb_107b449f15fclevel0_row3\" class=\"row_heading level0 row3\" >востоковедение</th>\n",
       "                        <td id=\"T_dd44a2a2_0a1b_11ea_a6fb_107b449f15fcrow3_col0\" class=\"data row3 col0\" >0.05156</td>\n",
       "            </tr>\n",
       "            <tr>\n",
       "                        <th id=\"T_dd44a2a2_0a1b_11ea_a6fb_107b449f15fclevel0_row4\" class=\"row_heading level0 row4\" >христианство</th>\n",
       "                        <td id=\"T_dd44a2a2_0a1b_11ea_a6fb_107b449f15fcrow4_col0\" class=\"data row4 col0\" >0.04428</td>\n",
       "            </tr>\n",
       "            <tr>\n",
       "                        <th id=\"T_dd44a2a2_0a1b_11ea_a6fb_107b449f15fclevel0_row5\" class=\"row_heading level0 row5\" >китай</th>\n",
       "                        <td id=\"T_dd44a2a2_0a1b_11ea_a6fb_107b449f15fcrow5_col0\" class=\"data row5 col0\" >0.04399</td>\n",
       "            </tr>\n",
       "            <tr>\n",
       "                        <th id=\"T_dd44a2a2_0a1b_11ea_a6fb_107b449f15fclevel0_row6\" class=\"row_heading level0 row6\" >археология</th>\n",
       "                        <td id=\"T_dd44a2a2_0a1b_11ea_a6fb_107b449f15fcrow6_col0\" class=\"data row6 col0\" >0.04151</td>\n",
       "            </tr>\n",
       "            <tr>\n",
       "                        <th id=\"T_dd44a2a2_0a1b_11ea_a6fb_107b449f15fclevel0_row7\" class=\"row_heading level0 row7\" >ислам</th>\n",
       "                        <td id=\"T_dd44a2a2_0a1b_11ea_a6fb_107b449f15fcrow7_col0\" class=\"data row7 col0\" >0.04148</td>\n",
       "            </tr>\n",
       "            <tr>\n",
       "                        <th id=\"T_dd44a2a2_0a1b_11ea_a6fb_107b449f15fclevel0_row8\" class=\"row_heading level0 row8\" >кавказ</th>\n",
       "                        <td id=\"T_dd44a2a2_0a1b_11ea_a6fb_107b449f15fcrow8_col0\" class=\"data row8 col0\" >0.03809</td>\n",
       "            </tr>\n",
       "            <tr>\n",
       "                        <th id=\"T_dd44a2a2_0a1b_11ea_a6fb_107b449f15fclevel0_row9\" class=\"row_heading level0 row9\" >майя</th>\n",
       "                        <td id=\"T_dd44a2a2_0a1b_11ea_a6fb_107b449f15fcrow9_col0\" class=\"data row9 col0\" >0.0299</td>\n",
       "            </tr>\n",
       "    </tbody></table><style  type=\"text/css\" >\n",
       "</style><table id=\"T_dd44a2a3_0a1b_11ea_a6fb_107b449f15fc\" style='display:inline'><thead>    <tr>        <th class=\"blank level0\" ></th>        <th class=\"col_heading level0 col0\" >topic_2 @word</th>    </tr></thead><tbody>\n",
       "                <tr>\n",
       "                        <th id=\"T_dd44a2a3_0a1b_11ea_a6fb_107b449f15fclevel0_row0\" class=\"row_heading level0 row0\" >история</th>\n",
       "                        <td id=\"T_dd44a2a3_0a1b_11ea_a6fb_107b449f15fcrow0_col0\" class=\"data row0 col0\" >0.005</td>\n",
       "            </tr>\n",
       "            <tr>\n",
       "                        <th id=\"T_dd44a2a3_0a1b_11ea_a6fb_107b449f15fclevel0_row1\" class=\"row_heading level0 row1\" >культура</th>\n",
       "                        <td id=\"T_dd44a2a3_0a1b_11ea_a6fb_107b449f15fcrow1_col0\" class=\"data row1 col0\" >0.00458</td>\n",
       "            </tr>\n",
       "            <tr>\n",
       "                        <th id=\"T_dd44a2a3_0a1b_11ea_a6fb_107b449f15fclevel0_row2\" class=\"row_heading level0 row2\" >называть</th>\n",
       "                        <td id=\"T_dd44a2a3_0a1b_11ea_a6fb_107b449f15fcrow2_col0\" class=\"data row2 col0\" >0.00418</td>\n",
       "            </tr>\n",
       "            <tr>\n",
       "                        <th id=\"T_dd44a2a3_0a1b_11ea_a6fb_107b449f15fclevel0_row3\" class=\"row_heading level0 row3\" >говорить</th>\n",
       "                        <td id=\"T_dd44a2a3_0a1b_11ea_a6fb_107b449f15fcrow3_col0\" class=\"data row3 col0\" >0.00382</td>\n",
       "            </tr>\n",
       "            <tr>\n",
       "                        <th id=\"T_dd44a2a3_0a1b_11ea_a6fb_107b449f15fclevel0_row4\" class=\"row_heading level0 row4\" >царь</th>\n",
       "                        <td id=\"T_dd44a2a3_0a1b_11ea_a6fb_107b449f15fcrow4_col0\" class=\"data row4 col0\" >0.00376</td>\n",
       "            </tr>\n",
       "            <tr>\n",
       "                        <th id=\"T_dd44a2a3_0a1b_11ea_a6fb_107b449f15fclevel0_row5\" class=\"row_heading level0 row5\" >имя</th>\n",
       "                        <td id=\"T_dd44a2a3_0a1b_11ea_a6fb_107b449f15fcrow5_col0\" class=\"data row5 col0\" >0.00365</td>\n",
       "            </tr>\n",
       "            <tr>\n",
       "                        <th id=\"T_dd44a2a3_0a1b_11ea_a6fb_107b449f15fclevel0_row6\" class=\"row_heading level0 row6\" >существовать</th>\n",
       "                        <td id=\"T_dd44a2a3_0a1b_11ea_a6fb_107b449f15fcrow6_col0\" class=\"data row6 col0\" >0.00357</td>\n",
       "            </tr>\n",
       "            <tr>\n",
       "                        <th id=\"T_dd44a2a3_0a1b_11ea_a6fb_107b449f15fclevel0_row7\" class=\"row_heading level0 row7\" >государство</th>\n",
       "                        <td id=\"T_dd44a2a3_0a1b_11ea_a6fb_107b449f15fcrow7_col0\" class=\"data row7 col0\" >0.00346</td>\n",
       "            </tr>\n",
       "            <tr>\n",
       "                        <th id=\"T_dd44a2a3_0a1b_11ea_a6fb_107b449f15fclevel0_row8\" class=\"row_heading level0 row8\" >стать</th>\n",
       "                        <td id=\"T_dd44a2a3_0a1b_11ea_a6fb_107b449f15fcrow8_col0\" class=\"data row8 col0\" >0.00346</td>\n",
       "            </tr>\n",
       "            <tr>\n",
       "                        <th id=\"T_dd44a2a3_0a1b_11ea_a6fb_107b449f15fclevel0_row9\" class=\"row_heading level0 row9\" >образ</th>\n",
       "                        <td id=\"T_dd44a2a3_0a1b_11ea_a6fb_107b449f15fcrow9_col0\" class=\"data row9 col0\" >0.00344</td>\n",
       "            </tr>\n",
       "    </tbody></table>"
      ]
     },
     "metadata": {},
     "output_type": "display_data"
    },
    {
     "data": {
      "text/html": [
       "<b> государства сапотеков и миштеков </b><br /> историк дмитрий беляев о культе предков, стенах черепов и археологических исследованиях в долине оахаки"
      ]
     },
     "metadata": {},
     "output_type": "display_data"
    },
    {
     "data": {
      "text/html": [
       "<b> первая империя мезоамерики </b><br /> историк дмитрий беляев об организации пространства теотиуакана, городском быте и особенностях культурной экспансии"
      ]
     },
     "metadata": {},
     "output_type": "display_data"
    },
    {
     "data": {
      "text/html": [
       "<b> faqпарадокс конкисты </b><br /> 7 фактов о главных задачах и особенностях испанского завоевания америки"
      ]
     },
     "metadata": {},
     "output_type": "display_data"
    },
    {
     "data": {
      "text/html": [
       "<b> культура грузинского христианства </b><br /> историк алексей муравьёв об истоках картвельского христианства, армазской билингве и особенностях грузинской письменности"
      ]
     },
     "metadata": {},
     "output_type": "display_data"
    },
    {
     "data": {
      "text/html": [
       "<b> история древней мезоамерики </b><br /> 10 лекций историка дмитрия беляева о становлении мезоамериканской цивилизации, ее культуре и политической жизни"
      ]
     },
     "metadata": {},
     "output_type": "display_data"
    },
    {
     "data": {
      "text/html": [
       "<b> культура нубийского христианского царства </b><br /> историк алексей муравьёв об истории нубии, христианизации африканского рога и грамматике нубийского языка"
      ]
     },
     "metadata": {},
     "output_type": "display_data"
    },
    {
     "data": {
      "text/html": [
       "<b> ранние земледельцы мезоамерики </b><br /> историк дмитрий беляев об этапах заселения мезоамерики, истории кукурузы и культуре алкогольных напитков"
      ]
     },
     "metadata": {},
     "output_type": "display_data"
    },
    {
     "data": {
      "text/html": [
       "<b> главыбильгамес в истории </b><br /> отрывок из книги «гильгамеш. биография легенды» шумеролога владимира емельянова о роли фигуры гильгамеша в мировой истории и культуре"
      ]
     },
     "metadata": {},
     "output_type": "display_data"
    },
    {
     "data": {
      "text/html": [
       "<b> 5 книг по африканистике </b><br /> что читать о культуре, политике и экономике африки, рекомендует кандидат исторических наук александра архангельская"
      ]
     },
     "metadata": {},
     "output_type": "display_data"
    },
    {
     "data": {
      "text/html": [
       "<b> христианская культура кавказской албании </b><br /> историк алексей муравьёв о народах кавказской албании, армянском влиянии на местную традицию христианства и удинском языке"
      ]
     },
     "metadata": {},
     "output_type": "display_data"
    },
    {
     "data": {
      "text/html": [
       "<style  type=\"text/css\" >\n",
       "</style><table id=\"T_dd44a2a4_0a1b_11ea_a6fb_107b449f15fc\" style='display:inline'><thead>    <tr>        <th class=\"blank level0\" ></th>        <th class=\"col_heading level0 col0\" >topic_3 @2gramm</th>    </tr></thead><tbody>\n",
       "                <tr>\n",
       "                        <th id=\"T_dd44a2a4_0a1b_11ea_a6fb_107b449f15fclevel0_row0\" class=\"row_heading level0 row0\" >мировой_война</th>\n",
       "                        <td id=\"T_dd44a2a4_0a1b_11ea_a6fb_107b449f15fcrow0_col0\" class=\"data row0 col0\" >0.02113</td>\n",
       "            </tr>\n",
       "            <tr>\n",
       "                        <th id=\"T_dd44a2a4_0a1b_11ea_a6fb_107b449f15fclevel0_row1\" class=\"row_heading level0 row1\" >xviii_век</th>\n",
       "                        <td id=\"T_dd44a2a4_0a1b_11ea_a6fb_107b449f15fcrow1_col0\" class=\"data row1 col0\" >0.01666</td>\n",
       "            </tr>\n",
       "            <tr>\n",
       "                        <th id=\"T_dd44a2a4_0a1b_11ea_a6fb_107b449f15fclevel0_row2\" class=\"row_heading level0 row2\" >французский_революция</th>\n",
       "                        <td id=\"T_dd44a2a4_0a1b_11ea_a6fb_107b449f15fcrow2_col0\" class=\"data row2 col0\" >0.01554</td>\n",
       "            </tr>\n",
       "            <tr>\n",
       "                        <th id=\"T_dd44a2a4_0a1b_11ea_a6fb_107b449f15fclevel0_row3\" class=\"row_heading level0 row3\" >xix_век</th>\n",
       "                        <td id=\"T_dd44a2a4_0a1b_11ea_a6fb_107b449f15fcrow3_col0\" class=\"data row3 col0\" >0.01166</td>\n",
       "            </tr>\n",
       "            <tr>\n",
       "                        <th id=\"T_dd44a2a4_0a1b_11ea_a6fb_107b449f15fclevel0_row4\" class=\"row_heading level0 row4\" >российский_империя</th>\n",
       "                        <td id=\"T_dd44a2a4_0a1b_11ea_a6fb_107b449f15fcrow4_col0\" class=\"data row4 col0\" >0.01045</td>\n",
       "            </tr>\n",
       "            <tr>\n",
       "                        <th id=\"T_dd44a2a4_0a1b_11ea_a6fb_107b449f15fclevel0_row5\" class=\"row_heading level0 row5\" >веймарский_республика</th>\n",
       "                        <td id=\"T_dd44a2a4_0a1b_11ea_a6fb_107b449f15fcrow5_col0\" class=\"data row5 col0\" >0.00826</td>\n",
       "            </tr>\n",
       "            <tr>\n",
       "                        <th id=\"T_dd44a2a4_0a1b_11ea_a6fb_107b449f15fclevel0_row6\" class=\"row_heading level0 row6\" >xvii_век</th>\n",
       "                        <td id=\"T_dd44a2a4_0a1b_11ea_a6fb_107b449f15fcrow6_col0\" class=\"data row6 col0\" >0.00787</td>\n",
       "            </tr>\n",
       "            <tr>\n",
       "                        <th id=\"T_dd44a2a4_0a1b_11ea_a6fb_107b449f15fclevel0_row7\" class=\"row_heading level0 row7\" >речь_идти</th>\n",
       "                        <td id=\"T_dd44a2a4_0a1b_11ea_a6fb_107b449f15fcrow7_col0\" class=\"data row7 col0\" >0.00634</td>\n",
       "            </tr>\n",
       "            <tr>\n",
       "                        <th id=\"T_dd44a2a4_0a1b_11ea_a6fb_107b449f15fclevel0_row8\" class=\"row_heading level0 row8\" >екатерина_ii</th>\n",
       "                        <td id=\"T_dd44a2a4_0a1b_11ea_a6fb_107b449f15fcrow8_col0\" class=\"data row8 col0\" >0.00577</td>\n",
       "            </tr>\n",
       "            <tr>\n",
       "                        <th id=\"T_dd44a2a4_0a1b_11ea_a6fb_107b449f15fclevel0_row9\" class=\"row_heading level0 row9\" >католический_церковь</th>\n",
       "                        <td id=\"T_dd44a2a4_0a1b_11ea_a6fb_107b449f15fcrow9_col0\" class=\"data row9 col0\" >0.00573</td>\n",
       "            </tr>\n",
       "    </tbody></table><style  type=\"text/css\" >\n",
       "</style><table id=\"T_dd44a2a5_0a1b_11ea_a6fb_107b449f15fc\" style='display:inline'><thead>    <tr>        <th class=\"blank level0\" ></th>        <th class=\"col_heading level0 col0\" >topic_3 @3gramm</th>    </tr></thead><tbody>\n",
       "                <tr>\n",
       "                        <th id=\"T_dd44a2a5_0a1b_11ea_a6fb_107b449f15fclevel0_row0\" class=\"row_heading level0 row0\" >федеративный_республика_германия</th>\n",
       "                        <td id=\"T_dd44a2a5_0a1b_11ea_a6fb_107b449f15fcrow0_col0\" class=\"data row0 col0\" >0.10679</td>\n",
       "            </tr>\n",
       "            <tr>\n",
       "                        <th id=\"T_dd44a2a5_0a1b_11ea_a6fb_107b449f15fclevel0_row1\" class=\"row_heading level0 row1\" >половина_xviii_век</th>\n",
       "                        <td id=\"T_dd44a2a5_0a1b_11ea_a6fb_107b449f15fcrow1_col0\" class=\"data row1 col0\" >0.09884</td>\n",
       "            </tr>\n",
       "            <tr>\n",
       "                        <th id=\"T_dd44a2a5_0a1b_11ea_a6fb_107b449f15fclevel0_row2\" class=\"row_heading level0 row2\" >конец_xvi_век</th>\n",
       "                        <td id=\"T_dd44a2a5_0a1b_11ea_a6fb_107b449f15fcrow2_col0\" class=\"data row2 col0\" >0.09854</td>\n",
       "            </tr>\n",
       "            <tr>\n",
       "                        <th id=\"T_dd44a2a5_0a1b_11ea_a6fb_107b449f15fclevel0_row3\" class=\"row_heading level0 row3\" >твёрдый_бытовой_отход</th>\n",
       "                        <td id=\"T_dd44a2a5_0a1b_11ea_a6fb_107b449f15fcrow3_col0\" class=\"data row3 col0\" >0.09126</td>\n",
       "            </tr>\n",
       "            <tr>\n",
       "                        <th id=\"T_dd44a2a5_0a1b_11ea_a6fb_107b449f15fclevel0_row4\" class=\"row_heading level0 row4\" >русский_православный_церковь</th>\n",
       "                        <td id=\"T_dd44a2a5_0a1b_11ea_a6fb_107b449f15fcrow4_col0\" class=\"data row4 col0\" >0.08283</td>\n",
       "            </tr>\n",
       "            <tr>\n",
       "                        <th id=\"T_dd44a2a5_0a1b_11ea_a6fb_107b449f15fclevel0_row5\" class=\"row_heading level0 row5\" >священный_римский_империя</th>\n",
       "                        <td id=\"T_dd44a2a5_0a1b_11ea_a6fb_107b449f15fcrow5_col0\" class=\"data row5 col0\" >0.07585</td>\n",
       "            </tr>\n",
       "            <tr>\n",
       "                        <th id=\"T_dd44a2a5_0a1b_11ea_a6fb_107b449f15fclevel0_row6\" class=\"row_heading level0 row6\" >версальский_мирный_договор</th>\n",
       "                        <td id=\"T_dd44a2a5_0a1b_11ea_a6fb_107b449f15fcrow6_col0\" class=\"data row6 col0\" >0.06612</td>\n",
       "            </tr>\n",
       "            <tr>\n",
       "                        <th id=\"T_dd44a2a5_0a1b_11ea_a6fb_107b449f15fclevel0_row7\" class=\"row_heading level0 row7\" >актуальный_проблема_образование</th>\n",
       "                        <td id=\"T_dd44a2a5_0a1b_11ea_a6fb_107b449f15fcrow7_col0\" class=\"data row7 col0\" >0.06548</td>\n",
       "            </tr>\n",
       "            <tr>\n",
       "                        <th id=\"T_dd44a2a5_0a1b_11ea_a6fb_107b449f15fclevel0_row8\" class=\"row_heading level0 row8\" >середина_xvii_век</th>\n",
       "                        <td id=\"T_dd44a2a5_0a1b_11ea_a6fb_107b449f15fcrow8_col0\" class=\"data row8 col0\" >0.0648</td>\n",
       "            </tr>\n",
       "            <tr>\n",
       "                        <th id=\"T_dd44a2a5_0a1b_11ea_a6fb_107b449f15fclevel0_row9\" class=\"row_heading level0 row9\" >поскольку_речь_идти</th>\n",
       "                        <td id=\"T_dd44a2a5_0a1b_11ea_a6fb_107b449f15fcrow9_col0\" class=\"data row9 col0\" >0.04902</td>\n",
       "            </tr>\n",
       "    </tbody></table><style  type=\"text/css\" >\n",
       "</style><table id=\"T_dd44a2a6_0a1b_11ea_a6fb_107b449f15fc\" style='display:inline'><thead>    <tr>        <th class=\"blank level0\" ></th>        <th class=\"col_heading level0 col0\" >topic_3 @post_tag</th>    </tr></thead><tbody>\n",
       "                <tr>\n",
       "                        <th id=\"T_dd44a2a6_0a1b_11ea_a6fb_107b449f15fclevel0_row0\" class=\"row_heading level0 row0\" >история</th>\n",
       "                        <td id=\"T_dd44a2a6_0a1b_11ea_a6fb_107b449f15fcrow0_col0\" class=\"data row0 col0\" >0.19806</td>\n",
       "            </tr>\n",
       "            <tr>\n",
       "                        <th id=\"T_dd44a2a6_0a1b_11ea_a6fb_107b449f15fclevel0_row1\" class=\"row_heading level0 row1\" >германия</th>\n",
       "                        <td id=\"T_dd44a2a6_0a1b_11ea_a6fb_107b449f15fcrow1_col0\" class=\"data row1 col0\" >0.09572</td>\n",
       "            </tr>\n",
       "            <tr>\n",
       "                        <th id=\"T_dd44a2a6_0a1b_11ea_a6fb_107b449f15fclevel0_row2\" class=\"row_heading level0 row2\" >франция</th>\n",
       "                        <td id=\"T_dd44a2a6_0a1b_11ea_a6fb_107b449f15fcrow2_col0\" class=\"data row2 col0\" >0.07677</td>\n",
       "            </tr>\n",
       "            <tr>\n",
       "                        <th id=\"T_dd44a2a6_0a1b_11ea_a6fb_107b449f15fclevel0_row3\" class=\"row_heading level0 row3\" >история_россии</th>\n",
       "                        <td id=\"T_dd44a2a6_0a1b_11ea_a6fb_107b449f15fcrow3_col0\" class=\"data row3 col0\" >0.0724</td>\n",
       "            </tr>\n",
       "            <tr>\n",
       "                        <th id=\"T_dd44a2a6_0a1b_11ea_a6fb_107b449f15fclevel0_row4\" class=\"row_heading level0 row4\" >французская_революция_xviii_века</th>\n",
       "                        <td id=\"T_dd44a2a6_0a1b_11ea_a6fb_107b449f15fcrow4_col0\" class=\"data row4 col0\" >0.02703</td>\n",
       "            </tr>\n",
       "            <tr>\n",
       "                        <th id=\"T_dd44a2a6_0a1b_11ea_a6fb_107b449f15fclevel0_row5\" class=\"row_heading level0 row5\" >первая_мировая_война</th>\n",
       "                        <td id=\"T_dd44a2a6_0a1b_11ea_a6fb_107b449f15fcrow5_col0\" class=\"data row5 col0\" >0.02697</td>\n",
       "            </tr>\n",
       "            <tr>\n",
       "                        <th id=\"T_dd44a2a6_0a1b_11ea_a6fb_107b449f15fclevel0_row6\" class=\"row_heading level0 row6\" >петр_i</th>\n",
       "                        <td id=\"T_dd44a2a6_0a1b_11ea_a6fb_107b449f15fcrow6_col0\" class=\"data row6 col0\" >0.02502</td>\n",
       "            </tr>\n",
       "            <tr>\n",
       "                        <th id=\"T_dd44a2a6_0a1b_11ea_a6fb_107b449f15fclevel0_row7\" class=\"row_heading level0 row7\" >национал-социализм</th>\n",
       "                        <td id=\"T_dd44a2a6_0a1b_11ea_a6fb_107b449f15fcrow7_col0\" class=\"data row7 col0\" >0.02491</td>\n",
       "            </tr>\n",
       "            <tr>\n",
       "                        <th id=\"T_dd44a2a6_0a1b_11ea_a6fb_107b449f15fclevel0_row8\" class=\"row_heading level0 row8\" >история_повседневности</th>\n",
       "                        <td id=\"T_dd44a2a6_0a1b_11ea_a6fb_107b449f15fcrow8_col0\" class=\"data row8 col0\" >0.02453</td>\n",
       "            </tr>\n",
       "            <tr>\n",
       "                        <th id=\"T_dd44a2a6_0a1b_11ea_a6fb_107b449f15fclevel0_row9\" class=\"row_heading level0 row9\" >россия</th>\n",
       "                        <td id=\"T_dd44a2a6_0a1b_11ea_a6fb_107b449f15fcrow9_col0\" class=\"data row9 col0\" >0.02291</td>\n",
       "            </tr>\n",
       "    </tbody></table><style  type=\"text/css\" >\n",
       "</style><table id=\"T_dd44a2a7_0a1b_11ea_a6fb_107b449f15fc\" style='display:inline'><thead>    <tr>        <th class=\"blank level0\" ></th>        <th class=\"col_heading level0 col0\" >topic_3 @word</th>    </tr></thead><tbody>\n",
       "                <tr>\n",
       "                        <th id=\"T_dd44a2a7_0a1b_11ea_a6fb_107b449f15fclevel0_row0\" class=\"row_heading level0 row0\" >россия</th>\n",
       "                        <td id=\"T_dd44a2a7_0a1b_11ea_a6fb_107b449f15fcrow0_col0\" class=\"data row0 col0\" >0.0069</td>\n",
       "            </tr>\n",
       "            <tr>\n",
       "                        <th id=\"T_dd44a2a7_0a1b_11ea_a6fb_107b449f15fclevel0_row1\" class=\"row_heading level0 row1\" >германия</th>\n",
       "                        <td id=\"T_dd44a2a7_0a1b_11ea_a6fb_107b449f15fcrow1_col0\" class=\"data row1 col0\" >0.00622</td>\n",
       "            </tr>\n",
       "            <tr>\n",
       "                        <th id=\"T_dd44a2a7_0a1b_11ea_a6fb_107b449f15fclevel0_row2\" class=\"row_heading level0 row2\" >музей</th>\n",
       "                        <td id=\"T_dd44a2a7_0a1b_11ea_a6fb_107b449f15fcrow2_col0\" class=\"data row2 col0\" >0.00593</td>\n",
       "            </tr>\n",
       "            <tr>\n",
       "                        <th id=\"T_dd44a2a7_0a1b_11ea_a6fb_107b449f15fclevel0_row3\" class=\"row_heading level0 row3\" >стать</th>\n",
       "                        <td id=\"T_dd44a2a7_0a1b_11ea_a6fb_107b449f15fcrow3_col0\" class=\"data row3 col0\" >0.00548</td>\n",
       "            </tr>\n",
       "            <tr>\n",
       "                        <th id=\"T_dd44a2a7_0a1b_11ea_a6fb_107b449f15fclevel0_row4\" class=\"row_heading level0 row4\" >революция</th>\n",
       "                        <td id=\"T_dd44a2a7_0a1b_11ea_a6fb_107b449f15fcrow4_col0\" class=\"data row4 col0\" >0.00543</td>\n",
       "            </tr>\n",
       "            <tr>\n",
       "                        <th id=\"T_dd44a2a7_0a1b_11ea_a6fb_107b449f15fclevel0_row5\" class=\"row_heading level0 row5\" >война</th>\n",
       "                        <td id=\"T_dd44a2a7_0a1b_11ea_a6fb_107b449f15fcrow5_col0\" class=\"data row5 col0\" >0.0049</td>\n",
       "            </tr>\n",
       "            <tr>\n",
       "                        <th id=\"T_dd44a2a7_0a1b_11ea_a6fb_107b449f15fclevel0_row6\" class=\"row_heading level0 row6\" >франция</th>\n",
       "                        <td id=\"T_dd44a2a7_0a1b_11ea_a6fb_107b449f15fcrow6_col0\" class=\"data row6 col0\" >0.00447</td>\n",
       "            </tr>\n",
       "            <tr>\n",
       "                        <th id=\"T_dd44a2a7_0a1b_11ea_a6fb_107b449f15fclevel0_row7\" class=\"row_heading level0 row7\" >история</th>\n",
       "                        <td id=\"T_dd44a2a7_0a1b_11ea_a6fb_107b449f15fcrow7_col0\" class=\"data row7 col0\" >0.00383</td>\n",
       "            </tr>\n",
       "            <tr>\n",
       "                        <th id=\"T_dd44a2a7_0a1b_11ea_a6fb_107b449f15fclevel0_row8\" class=\"row_heading level0 row8\" >страна</th>\n",
       "                        <td id=\"T_dd44a2a7_0a1b_11ea_a6fb_107b449f15fcrow8_col0\" class=\"data row8 col0\" >0.00378</td>\n",
       "            </tr>\n",
       "            <tr>\n",
       "                        <th id=\"T_dd44a2a7_0a1b_11ea_a6fb_107b449f15fclevel0_row9\" class=\"row_heading level0 row9\" >власть</th>\n",
       "                        <td id=\"T_dd44a2a7_0a1b_11ea_a6fb_107b449f15fcrow9_col0\" class=\"data row9 col0\" >0.00364</td>\n",
       "            </tr>\n",
       "    </tbody></table>"
      ]
     },
     "metadata": {},
     "output_type": "display_data"
    },
    {
     "data": {
      "text/html": [
       "<b> левый терроризм в германии </b><br /> историк илья женин о студенческих протестах 1968 года, «фракции красной армии» и трагических событиях «немецкой осени»"
      ]
     },
     "metadata": {},
     "output_type": "display_data"
    },
    {
     "data": {
      "text/html": [
       "<b> 5 книг по истории германии в хх веке </b><br /> что читать об историческом развитии германии от веймарской республики до современности, рекомендует кандидат исторических наук илья женин"
      ]
     },
     "metadata": {},
     "output_type": "display_data"
    },
    {
     "data": {
      "text/html": [
       "<b> начало французской революции </b><br /> историк дмитрий бовыкин о движении санкюлотов, конституции 1791 года и псевдонаучных открытиях жан-поля марата"
      ]
     },
     "metadata": {},
     "output_type": "display_data"
    },
    {
     "data": {
      "text/html": [
       "<b> веймарская  республика </b><br /> историк илья женин о республике без республиканцев, октябрьской революции и социал-демократической партии"
      ]
     },
     "metadata": {},
     "output_type": "display_data"
    },
    {
     "data": {
      "text/html": [
       "<b> главы # дискуссия о сущности террора </b><br /> отрывок из книги «русское общество в зеркале революционного террора. 1879–1881 годы» историка юлии сафроновой"
      ]
     },
     "metadata": {},
     "output_type": "display_data"
    },
    {
     "data": {
      "text/html": [
       "<b> якобинский террор </b><br /> историк дмитрий бовыкин о массовых арестах в период французской революции, декретах национального конвента и теории обстоятельств в историографии"
      ]
     },
     "metadata": {},
     "output_type": "display_data"
    },
    {
     "data": {
      "text/html": [
       "<b> главы # тыл в первую мировую </b><br /> отрывок из книги «первая мировая войнакатастрофа 1914 года» британского историка макса хейстингса о быте мирного населения воюющих стран"
      ]
     },
     "metadata": {},
     "output_type": "display_data"
    },
    {
     "data": {
      "text/html": [
       "<b> репрессивный аппарат третьего рейха </b><br /> историк илья женин об антисемитской политике, хрустальной ночи и лагерях смерти в нацистской германии"
      ]
     },
     "metadata": {},
     "output_type": "display_data"
    },
    {
     "data": {
      "text/html": [
       "<b> «национал-социализм сыграл роковую роль в воспитании немецкого духа» </b><br /> интервью с историком ильей жениным о веймарской республике, советско-германских отношениях и немецком коллективизме"
      ]
     },
     "metadata": {},
     "output_type": "display_data"
    },
    {
     "data": {
      "text/html": [
       "<b> объединение германии </b><br /> историк илья женин о перестройке в ссср, падении берлинской стены и последствиях объединения гдр и фрг"
      ]
     },
     "metadata": {},
     "output_type": "display_data"
    },
    {
     "data": {
      "text/html": [
       "<style  type=\"text/css\" >\n",
       "</style><table id=\"T_dd44a2a8_0a1b_11ea_a6fb_107b449f15fc\" style='display:inline'><thead>    <tr>        <th class=\"blank level0\" ></th>        <th class=\"col_heading level0 col0\" >topic_4 @2gramm</th>    </tr></thead><tbody>\n",
       "                <tr>\n",
       "                        <th id=\"T_dd44a2a8_0a1b_11ea_a6fb_107b449f15fclevel0_row0\" class=\"row_heading level0 row0\" >римский_право</th>\n",
       "                        <td id=\"T_dd44a2a8_0a1b_11ea_a6fb_107b449f15fcrow0_col0\" class=\"data row0 col0\" >0.03223</td>\n",
       "            </tr>\n",
       "            <tr>\n",
       "                        <th id=\"T_dd44a2a8_0a1b_11ea_a6fb_107b449f15fclevel0_row1\" class=\"row_heading level0 row1\" >право_собственность</th>\n",
       "                        <td id=\"T_dd44a2a8_0a1b_11ea_a6fb_107b449f15fcrow1_col0\" class=\"data row1 col0\" >0.01539</td>\n",
       "            </tr>\n",
       "            <tr>\n",
       "                        <th id=\"T_dd44a2a8_0a1b_11ea_a6fb_107b449f15fclevel0_row2\" class=\"row_heading level0 row2\" >индоевропейский_язык</th>\n",
       "                        <td id=\"T_dd44a2a8_0a1b_11ea_a6fb_107b449f15fcrow2_col0\" class=\"data row2 col0\" >0.01534</td>\n",
       "            </tr>\n",
       "            <tr>\n",
       "                        <th id=\"T_dd44a2a8_0a1b_11ea_a6fb_107b449f15fclevel0_row3\" class=\"row_heading level0 row3\" >обычный_право</th>\n",
       "                        <td id=\"T_dd44a2a8_0a1b_11ea_a6fb_107b449f15fcrow3_col0\" class=\"data row3 col0\" >0.01138</td>\n",
       "            </tr>\n",
       "            <tr>\n",
       "                        <th id=\"T_dd44a2a8_0a1b_11ea_a6fb_107b449f15fclevel0_row4\" class=\"row_heading level0 row4\" >языковой_семья</th>\n",
       "                        <td id=\"T_dd44a2a8_0a1b_11ea_a6fb_107b449f15fcrow4_col0\" class=\"data row4 col0\" >0.01116</td>\n",
       "            </tr>\n",
       "            <tr>\n",
       "                        <th id=\"T_dd44a2a8_0a1b_11ea_a6fb_107b449f15fclevel0_row5\" class=\"row_heading level0 row5\" >дать_случай</th>\n",
       "                        <td id=\"T_dd44a2a8_0a1b_11ea_a6fb_107b449f15fcrow5_col0\" class=\"data row5 col0\" >0.01006</td>\n",
       "            </tr>\n",
       "            <tr>\n",
       "                        <th id=\"T_dd44a2a8_0a1b_11ea_a6fb_107b449f15fclevel0_row6\" class=\"row_heading level0 row6\" >правовой_система</th>\n",
       "                        <td id=\"T_dd44a2a8_0a1b_11ea_a6fb_107b449f15fcrow6_col0\" class=\"data row6 col0\" >0.00899</td>\n",
       "            </tr>\n",
       "            <tr>\n",
       "                        <th id=\"T_dd44a2a8_0a1b_11ea_a6fb_107b449f15fclevel0_row7\" class=\"row_heading level0 row7\" >общий_право</th>\n",
       "                        <td id=\"T_dd44a2a8_0a1b_11ea_a6fb_107b449f15fcrow7_col0\" class=\"data row7 col0\" >0.00831</td>\n",
       "            </tr>\n",
       "            <tr>\n",
       "                        <th id=\"T_dd44a2a8_0a1b_11ea_a6fb_107b449f15fclevel0_row8\" class=\"row_heading level0 row8\" >римский_юрист</th>\n",
       "                        <td id=\"T_dd44a2a8_0a1b_11ea_a6fb_107b449f15fcrow8_col0\" class=\"data row8 col0\" >0.00802</td>\n",
       "            </tr>\n",
       "            <tr>\n",
       "                        <th id=\"T_dd44a2a8_0a1b_11ea_a6fb_107b449f15fclevel0_row9\" class=\"row_heading level0 row9\" >древний_рим</th>\n",
       "                        <td id=\"T_dd44a2a8_0a1b_11ea_a6fb_107b449f15fcrow9_col0\" class=\"data row9 col0\" >0.00712</td>\n",
       "            </tr>\n",
       "    </tbody></table><style  type=\"text/css\" >\n",
       "</style><table id=\"T_dd44a2a9_0a1b_11ea_a6fb_107b449f15fc\" style='display:inline'><thead>    <tr>        <th class=\"blank level0\" ></th>        <th class=\"col_heading level0 col0\" >topic_4 @3gramm</th>    </tr></thead><tbody>\n",
       "                <tr>\n",
       "                        <th id=\"T_dd44a2a9_0a1b_11ea_a6fb_107b449f15fclevel0_row0\" class=\"row_heading level0 row0\" >квантовый_теория_поль</th>\n",
       "                        <td id=\"T_dd44a2a9_0a1b_11ea_a6fb_107b449f15fcrow0_col0\" class=\"data row0 col0\" >0.50027</td>\n",
       "            </tr>\n",
       "            <tr>\n",
       "                        <th id=\"T_dd44a2a9_0a1b_11ea_a6fb_107b449f15fclevel0_row1\" class=\"row_heading level0 row1\" >начало_xii_век</th>\n",
       "                        <td id=\"T_dd44a2a9_0a1b_11ea_a6fb_107b449f15fcrow1_col0\" class=\"data row1 col0\" >0.08867</td>\n",
       "            </tr>\n",
       "            <tr>\n",
       "                        <th id=\"T_dd44a2a9_0a1b_11ea_a6fb_107b449f15fclevel0_row2\" class=\"row_heading level0 row2\" >содержимый_большой_количество</th>\n",
       "                        <td id=\"T_dd44a2a9_0a1b_11ea_a6fb_107b449f15fcrow2_col0\" class=\"data row2 col0\" >0.07063</td>\n",
       "            </tr>\n",
       "            <tr>\n",
       "                        <th id=\"T_dd44a2a9_0a1b_11ea_a6fb_107b449f15fclevel0_row3\" class=\"row_heading level0 row3\" >система_машинный_перевод</th>\n",
       "                        <td id=\"T_dd44a2a9_0a1b_11ea_a6fb_107b449f15fcrow3_col0\" class=\"data row3 col0\" >0.05188</td>\n",
       "            </tr>\n",
       "            <tr>\n",
       "                        <th id=\"T_dd44a2a9_0a1b_11ea_a6fb_107b449f15fclevel0_row4\" class=\"row_heading level0 row4\" >привести_простой_пример</th>\n",
       "                        <td id=\"T_dd44a2a9_0a1b_11ea_a6fb_107b449f15fcrow4_col0\" class=\"data row4 col0\" >0.05182</td>\n",
       "            </tr>\n",
       "            <tr>\n",
       "                        <th id=\"T_dd44a2a9_0a1b_11ea_a6fb_107b449f15fclevel0_row5\" class=\"row_heading level0 row5\" >буквальный_смысл_слово</th>\n",
       "                        <td id=\"T_dd44a2a9_0a1b_11ea_a6fb_107b449f15fcrow5_col0\" class=\"data row5 col0\" >0.04441</td>\n",
       "            </tr>\n",
       "            <tr>\n",
       "                        <th id=\"T_dd44a2a9_0a1b_11ea_a6fb_107b449f15fclevel0_row6\" class=\"row_heading level0 row6\" >многий_страна_европа</th>\n",
       "                        <td id=\"T_dd44a2a9_0a1b_11ea_a6fb_107b449f15fcrow6_col0\" class=\"data row6 col0\" >0.04387</td>\n",
       "            </tr>\n",
       "            <tr>\n",
       "                        <th id=\"T_dd44a2a9_0a1b_11ea_a6fb_107b449f15fclevel0_row7\" class=\"row_heading level0 row7\" >корпус_русский_язык</th>\n",
       "                        <td id=\"T_dd44a2a9_0a1b_11ea_a6fb_107b449f15fcrow7_col0\" class=\"data row7 col0\" >0.03679</td>\n",
       "            </tr>\n",
       "            <tr>\n",
       "                        <th id=\"T_dd44a2a9_0a1b_11ea_a6fb_107b449f15fclevel0_row8\" class=\"row_heading level0 row8\" >представлять_особый_интерес</th>\n",
       "                        <td id=\"T_dd44a2a9_0a1b_11ea_a6fb_107b449f15fcrow8_col0\" class=\"data row8 col0\" >0.03675</td>\n",
       "            </tr>\n",
       "            <tr>\n",
       "                        <th id=\"T_dd44a2a9_0a1b_11ea_a6fb_107b449f15fclevel0_row9\" class=\"row_heading level0 row9\" >наиболее_важный_аспект</th>\n",
       "                        <td id=\"T_dd44a2a9_0a1b_11ea_a6fb_107b449f15fcrow9_col0\" class=\"data row9 col0\" >0.03673</td>\n",
       "            </tr>\n",
       "    </tbody></table><style  type=\"text/css\" >\n",
       "</style><table id=\"T_dd44a2aa_0a1b_11ea_a6fb_107b449f15fc\" style='display:inline'><thead>    <tr>        <th class=\"blank level0\" ></th>        <th class=\"col_heading level0 col0\" >topic_4 @post_tag</th>    </tr></thead><tbody>\n",
       "                <tr>\n",
       "                        <th id=\"T_dd44a2aa_0a1b_11ea_a6fb_107b449f15fclevel0_row0\" class=\"row_heading level0 row0\" >право</th>\n",
       "                        <td id=\"T_dd44a2aa_0a1b_11ea_a6fb_107b449f15fcrow0_col0\" class=\"data row0 col0\" >0.24012</td>\n",
       "            </tr>\n",
       "            <tr>\n",
       "                        <th id=\"T_dd44a2aa_0a1b_11ea_a6fb_107b449f15fclevel0_row1\" class=\"row_heading level0 row1\" >юриспруденция</th>\n",
       "                        <td id=\"T_dd44a2aa_0a1b_11ea_a6fb_107b449f15fcrow1_col0\" class=\"data row1 col0\" >0.11735</td>\n",
       "            </tr>\n",
       "            <tr>\n",
       "                        <th id=\"T_dd44a2aa_0a1b_11ea_a6fb_107b449f15fclevel0_row2\" class=\"row_heading level0 row2\" >римское_право</th>\n",
       "                        <td id=\"T_dd44a2aa_0a1b_11ea_a6fb_107b449f15fcrow2_col0\" class=\"data row2 col0\" >0.08662</td>\n",
       "            </tr>\n",
       "            <tr>\n",
       "                        <th id=\"T_dd44a2aa_0a1b_11ea_a6fb_107b449f15fclevel0_row3\" class=\"row_heading level0 row3\" >рим</th>\n",
       "                        <td id=\"T_dd44a2aa_0a1b_11ea_a6fb_107b449f15fcrow3_col0\" class=\"data row3 col0\" >0.0725</td>\n",
       "            </tr>\n",
       "            <tr>\n",
       "                        <th id=\"T_dd44a2aa_0a1b_11ea_a6fb_107b449f15fclevel0_row4\" class=\"row_heading level0 row4\" >лингвистическая_компаративистика</th>\n",
       "                        <td id=\"T_dd44a2aa_0a1b_11ea_a6fb_107b449f15fcrow4_col0\" class=\"data row4 col0\" >0.04455</td>\n",
       "            </tr>\n",
       "            <tr>\n",
       "                        <th id=\"T_dd44a2aa_0a1b_11ea_a6fb_107b449f15fclevel0_row5\" class=\"row_heading level0 row5\" >история_права</th>\n",
       "                        <td id=\"T_dd44a2aa_0a1b_11ea_a6fb_107b449f15fcrow5_col0\" class=\"data row5 col0\" >0.04186</td>\n",
       "            </tr>\n",
       "            <tr>\n",
       "                        <th id=\"T_dd44a2aa_0a1b_11ea_a6fb_107b449f15fclevel0_row6\" class=\"row_heading level0 row6\" >праязык</th>\n",
       "                        <td id=\"T_dd44a2aa_0a1b_11ea_a6fb_107b449f15fcrow6_col0\" class=\"data row6 col0\" >0.03626</td>\n",
       "            </tr>\n",
       "            <tr>\n",
       "                        <th id=\"T_dd44a2aa_0a1b_11ea_a6fb_107b449f15fclevel0_row7\" class=\"row_heading level0 row7\" >корпусная_лингвистика</th>\n",
       "                        <td id=\"T_dd44a2aa_0a1b_11ea_a6fb_107b449f15fcrow7_col0\" class=\"data row7 col0\" >0.03061</td>\n",
       "            </tr>\n",
       "            <tr>\n",
       "                        <th id=\"T_dd44a2aa_0a1b_11ea_a6fb_107b449f15fclevel0_row8\" class=\"row_heading level0 row8\" >древний_рим</th>\n",
       "                        <td id=\"T_dd44a2aa_0a1b_11ea_a6fb_107b449f15fcrow8_col0\" class=\"data row8 col0\" >0.03057</td>\n",
       "            </tr>\n",
       "            <tr>\n",
       "                        <th id=\"T_dd44a2aa_0a1b_11ea_a6fb_107b449f15fclevel0_row9\" class=\"row_heading level0 row9\" >римская_империя</th>\n",
       "                        <td id=\"T_dd44a2aa_0a1b_11ea_a6fb_107b449f15fcrow9_col0\" class=\"data row9 col0\" >0.02768</td>\n",
       "            </tr>\n",
       "    </tbody></table><style  type=\"text/css\" >\n",
       "</style><table id=\"T_dd44a2ab_0a1b_11ea_a6fb_107b449f15fc\" style='display:inline'><thead>    <tr>        <th class=\"blank level0\" ></th>        <th class=\"col_heading level0 col0\" >topic_4 @word</th>    </tr></thead><tbody>\n",
       "                <tr>\n",
       "                        <th id=\"T_dd44a2ab_0a1b_11ea_a6fb_107b449f15fclevel0_row0\" class=\"row_heading level0 row0\" >право</th>\n",
       "                        <td id=\"T_dd44a2ab_0a1b_11ea_a6fb_107b449f15fcrow0_col0\" class=\"data row0 col0\" >0.01644</td>\n",
       "            </tr>\n",
       "            <tr>\n",
       "                        <th id=\"T_dd44a2ab_0a1b_11ea_a6fb_107b449f15fclevel0_row1\" class=\"row_heading level0 row1\" >язык</th>\n",
       "                        <td id=\"T_dd44a2ab_0a1b_11ea_a6fb_107b449f15fcrow1_col0\" class=\"data row1 col0\" >0.01087</td>\n",
       "            </tr>\n",
       "            <tr>\n",
       "                        <th id=\"T_dd44a2ab_0a1b_11ea_a6fb_107b449f15fclevel0_row2\" class=\"row_heading level0 row2\" >закон</th>\n",
       "                        <td id=\"T_dd44a2ab_0a1b_11ea_a6fb_107b449f15fcrow2_col0\" class=\"data row2 col0\" >0.00934</td>\n",
       "            </tr>\n",
       "            <tr>\n",
       "                        <th id=\"T_dd44a2ab_0a1b_11ea_a6fb_107b449f15fclevel0_row3\" class=\"row_heading level0 row3\" >говорить</th>\n",
       "                        <td id=\"T_dd44a2ab_0a1b_11ea_a6fb_107b449f15fcrow3_col0\" class=\"data row3 col0\" >0.0051</td>\n",
       "            </tr>\n",
       "            <tr>\n",
       "                        <th id=\"T_dd44a2ab_0a1b_11ea_a6fb_107b449f15fclevel0_row4\" class=\"row_heading level0 row4\" >существовать</th>\n",
       "                        <td id=\"T_dd44a2ab_0a1b_11ea_a6fb_107b449f15fcrow4_col0\" class=\"data row4 col0\" >0.00451</td>\n",
       "            </tr>\n",
       "            <tr>\n",
       "                        <th id=\"T_dd44a2ab_0a1b_11ea_a6fb_107b449f15fclevel0_row5\" class=\"row_heading level0 row5\" >являться</th>\n",
       "                        <td id=\"T_dd44a2ab_0a1b_11ea_a6fb_107b449f15fcrow5_col0\" class=\"data row5 col0\" >0.00407</td>\n",
       "            </tr>\n",
       "            <tr>\n",
       "                        <th id=\"T_dd44a2ab_0a1b_11ea_a6fb_107b449f15fclevel0_row6\" class=\"row_heading level0 row6\" >юрист</th>\n",
       "                        <td id=\"T_dd44a2ab_0a1b_11ea_a6fb_107b449f15fcrow6_col0\" class=\"data row6 col0\" >0.00398</td>\n",
       "            </tr>\n",
       "            <tr>\n",
       "                        <th id=\"T_dd44a2ab_0a1b_11ea_a6fb_107b449f15fclevel0_row7\" class=\"row_heading level0 row7\" >отношение</th>\n",
       "                        <td id=\"T_dd44a2ab_0a1b_11ea_a6fb_107b449f15fcrow7_col0\" class=\"data row7 col0\" >0.00381</td>\n",
       "            </tr>\n",
       "            <tr>\n",
       "                        <th id=\"T_dd44a2ab_0a1b_11ea_a6fb_107b449f15fclevel0_row8\" class=\"row_heading level0 row8\" >суд</th>\n",
       "                        <td id=\"T_dd44a2ab_0a1b_11ea_a6fb_107b449f15fcrow8_col0\" class=\"data row8 col0\" >0.0038</td>\n",
       "            </tr>\n",
       "            <tr>\n",
       "                        <th id=\"T_dd44a2ab_0a1b_11ea_a6fb_107b449f15fclevel0_row9\" class=\"row_heading level0 row9\" >должный</th>\n",
       "                        <td id=\"T_dd44a2ab_0a1b_11ea_a6fb_107b449f15fcrow9_col0\" class=\"data row9 col0\" >0.00364</td>\n",
       "            </tr>\n",
       "    </tbody></table>"
      ]
     },
     "metadata": {},
     "output_type": "display_data"
    },
    {
     "data": {
      "text/html": [
       "<b> faqрецепция римского права </b><br /> 7 фактов о заимствовании норм римской правовой системы"
      ]
     },
     "metadata": {},
     "output_type": "display_data"
    },
    {
     "data": {
      "text/html": [
       "<b> правовые последствия смешения вещей </b><br /> юрист денис новак о смешении однородных вещей, праве собственности на такое имущество и кондикционном иске"
      ]
     },
     "metadata": {},
     "output_type": "display_data"
    },
    {
     "data": {
      "text/html": [
       "<b> главы # в поисках родины </b><br /> отрывок из книги «генетическая одиссея человека» антрополога и популяционного генетика  спенсера уэллса"
      ]
     },
     "metadata": {},
     "output_type": "display_data"
    },
    {
     "data": {
      "text/html": [
       "<b> кондикция владения </b><br /> юрист денис новак о защите при неправомерном лишении владения, виндикационном и кондикционном исках и ценности владения имуществом"
      ]
     },
     "metadata": {},
     "output_type": "display_data"
    },
    {
     "data": {
      "text/html": [
       "<b> юриспруденция в древнем риме периода принципата </b><br /> историк права дмитрий полдников о римском праве как «искусстве доброго и справедливого», этапах развития юриспруденции и модельных казусах"
      ]
     },
     "metadata": {},
     "output_type": "display_data"
    },
    {
     "data": {
      "text/html": [
       "<b> фидуциарные отношения </b><br /> юрист дмитрий дождев о привилегиях кредитора, англо-американском трасте и фидуции в германском праве"
      ]
     },
     "metadata": {},
     "output_type": "display_data"
    },
    {
     "data": {
      "text/html": [
       "<b> faqдобросовестность </b><br /> 5 фактов об одном из важнейших наследий римского права и его современном понимании"
      ]
     },
     "metadata": {},
     "output_type": "display_data"
    },
    {
     "data": {
      "text/html": [
       "<b> источники римского права </b><br /> историк александр марей о понятии «плебисцит», конституциях императоров и праве ответа"
      ]
     },
     "metadata": {},
     "output_type": "display_data"
    },
    {
     "data": {
      "text/html": [
       "<b> почему важно изучать право? </b><br /> об отношениях должника и кредитора, проблеме навязанного обогащения и правотворческой роли судов"
      ]
     },
     "metadata": {},
     "output_type": "display_data"
    },
    {
     "data": {
      "text/html": [
       "<b> вещные права </b><br /> юрист дмитрий дождев о понимании права собственности, феодальной системе имущественных прав и узуфрукте"
      ]
     },
     "metadata": {},
     "output_type": "display_data"
    },
    {
     "data": {
      "text/html": [
       "<style  type=\"text/css\" >\n",
       "</style><table id=\"T_dd44a2ac_0a1b_11ea_a6fb_107b449f15fc\" style='display:inline'><thead>    <tr>        <th class=\"blank level0\" ></th>        <th class=\"col_heading level0 col0\" >topic_5 @2gramm</th>    </tr></thead><tbody>\n",
       "                <tr>\n",
       "                        <th id=\"T_dd44a2ac_0a1b_11ea_a6fb_107b449f15fclevel0_row0\" class=\"row_heading level0 row0\" >советский_союз</th>\n",
       "                        <td id=\"T_dd44a2ac_0a1b_11ea_a6fb_107b449f15fcrow0_col0\" class=\"data row0 col0\" >0.01871</td>\n",
       "            </tr>\n",
       "            <tr>\n",
       "                        <th id=\"T_dd44a2ac_0a1b_11ea_a6fb_107b449f15fclevel0_row1\" class=\"row_heading level0 row1\" >мировой_война</th>\n",
       "                        <td id=\"T_dd44a2ac_0a1b_11ea_a6fb_107b449f15fcrow1_col0\" class=\"data row1 col0\" >0.01669</td>\n",
       "            </tr>\n",
       "            <tr>\n",
       "                        <th id=\"T_dd44a2ac_0a1b_11ea_a6fb_107b449f15fclevel0_row2\" class=\"row_heading level0 row2\" >гражданский_война</th>\n",
       "                        <td id=\"T_dd44a2ac_0a1b_11ea_a6fb_107b449f15fcrow2_col0\" class=\"data row2 col0\" >0.01389</td>\n",
       "            </tr>\n",
       "            <tr>\n",
       "                        <th id=\"T_dd44a2ac_0a1b_11ea_a6fb_107b449f15fclevel0_row3\" class=\"row_heading level0 row3\" >политика_память</th>\n",
       "                        <td id=\"T_dd44a2ac_0a1b_11ea_a6fb_107b449f15fcrow3_col0\" class=\"data row3 col0\" >0.00958</td>\n",
       "            </tr>\n",
       "            <tr>\n",
       "                        <th id=\"T_dd44a2ac_0a1b_11ea_a6fb_107b449f15fclevel0_row4\" class=\"row_heading level0 row4\" >советский_власть</th>\n",
       "                        <td id=\"T_dd44a2ac_0a1b_11ea_a6fb_107b449f15fcrow4_col0\" class=\"data row4 col0\" >0.00929</td>\n",
       "            </tr>\n",
       "            <tr>\n",
       "                        <th id=\"T_dd44a2ac_0a1b_11ea_a6fb_107b449f15fclevel0_row5\" class=\"row_heading level0 row5\" >русский_формализм</th>\n",
       "                        <td id=\"T_dd44a2ac_0a1b_11ea_a6fb_107b449f15fcrow5_col0\" class=\"data row5 col0\" >0.00755</td>\n",
       "            </tr>\n",
       "            <tr>\n",
       "                        <th id=\"T_dd44a2ac_0a1b_11ea_a6fb_107b449f15fclevel0_row6\" class=\"row_heading level0 row6\" >русский_литература</th>\n",
       "                        <td id=\"T_dd44a2ac_0a1b_11ea_a6fb_107b449f15fcrow6_col0\" class=\"data row6 col0\" >0.00614</td>\n",
       "            </tr>\n",
       "            <tr>\n",
       "                        <th id=\"T_dd44a2ac_0a1b_11ea_a6fb_107b449f15fclevel0_row7\" class=\"row_heading level0 row7\" >красный_армия</th>\n",
       "                        <td id=\"T_dd44a2ac_0a1b_11ea_a6fb_107b449f15fcrow7_col0\" class=\"data row7 col0\" >0.00589</td>\n",
       "            </tr>\n",
       "            <tr>\n",
       "                        <th id=\"T_dd44a2ac_0a1b_11ea_a6fb_107b449f15fclevel0_row8\" class=\"row_heading level0 row8\" >речь_идти</th>\n",
       "                        <td id=\"T_dd44a2ac_0a1b_11ea_a6fb_107b449f15fcrow8_col0\" class=\"data row8 col0\" >0.00588</td>\n",
       "            </tr>\n",
       "            <tr>\n",
       "                        <th id=\"T_dd44a2ac_0a1b_11ea_a6fb_107b449f15fclevel0_row9\" class=\"row_heading level0 row9\" >xx_век</th>\n",
       "                        <td id=\"T_dd44a2ac_0a1b_11ea_a6fb_107b449f15fcrow9_col0\" class=\"data row9 col0\" >0.00522</td>\n",
       "            </tr>\n",
       "    </tbody></table><style  type=\"text/css\" >\n",
       "</style><table id=\"T_dd44a2ad_0a1b_11ea_a6fb_107b449f15fc\" style='display:inline'><thead>    <tr>        <th class=\"blank level0\" ></th>        <th class=\"col_heading level0 col0\" >topic_5 @3gramm</th>    </tr></thead><tbody>\n",
       "                <tr>\n",
       "                        <th id=\"T_dd44a2ad_0a1b_11ea_a6fb_107b449f15fclevel0_row0\" class=\"row_heading level0 row0\" >великий_отечественный_война</th>\n",
       "                        <td id=\"T_dd44a2ad_0a1b_11ea_a6fb_107b449f15fcrow0_col0\" class=\"data row0 col0\" >0.28646</td>\n",
       "            </tr>\n",
       "            <tr>\n",
       "                        <th id=\"T_dd44a2ad_0a1b_11ea_a6fb_107b449f15fclevel0_row1\" class=\"row_heading level0 row1\" >выброс_углекислый_газа</th>\n",
       "                        <td id=\"T_dd44a2ad_0a1b_11ea_a6fb_107b449f15fcrow1_col0\" class=\"data row1 col0\" >0.10179</td>\n",
       "            </tr>\n",
       "            <tr>\n",
       "                        <th id=\"T_dd44a2ad_0a1b_11ea_a6fb_107b449f15fclevel0_row2\" class=\"row_heading level0 row2\" >практический_точка_зрение</th>\n",
       "                        <td id=\"T_dd44a2ad_0a1b_11ea_a6fb_107b449f15fcrow2_col0\" class=\"data row2 col0\" >0.08774</td>\n",
       "            </tr>\n",
       "            <tr>\n",
       "                        <th id=\"T_dd44a2ad_0a1b_11ea_a6fb_107b449f15fclevel0_row3\" class=\"row_heading level0 row3\" >являться_неотъемлемый_частью</th>\n",
       "                        <td id=\"T_dd44a2ad_0a1b_11ea_a6fb_107b449f15fcrow3_col0\" class=\"data row3 col0\" >0.07057</td>\n",
       "            </tr>\n",
       "            <tr>\n",
       "                        <th id=\"T_dd44a2ad_0a1b_11ea_a6fb_107b449f15fclevel0_row4\" class=\"row_heading level0 row4\" >сыграть_ключевой_роль</th>\n",
       "                        <td id=\"T_dd44a2ad_0a1b_11ea_a6fb_107b449f15fcrow4_col0\" class=\"data row4 col0\" >0.07018</td>\n",
       "            </tr>\n",
       "            <tr>\n",
       "                        <th id=\"T_dd44a2ad_0a1b_11ea_a6fb_107b449f15fclevel0_row5\" class=\"row_heading level0 row5\" >сыграть_важный_роль</th>\n",
       "                        <td id=\"T_dd44a2ad_0a1b_11ea_a6fb_107b449f15fcrow5_col0\" class=\"data row5 col0\" >0.06982</td>\n",
       "            </tr>\n",
       "            <tr>\n",
       "                        <th id=\"T_dd44a2ad_0a1b_11ea_a6fb_107b449f15fclevel0_row6\" class=\"row_heading level0 row6\" >особый_интерес_представлять</th>\n",
       "                        <td id=\"T_dd44a2ad_0a1b_11ea_a6fb_107b449f15fcrow6_col0\" class=\"data row6 col0\" >0.06441</td>\n",
       "            </tr>\n",
       "            <tr>\n",
       "                        <th id=\"T_dd44a2ad_0a1b_11ea_a6fb_107b449f15fclevel0_row7\" class=\"row_heading level0 row7\" >противоречащий_друг_друг</th>\n",
       "                        <td id=\"T_dd44a2ad_0a1b_11ea_a6fb_107b449f15fcrow7_col0\" class=\"data row7 col0\" >0.06154</td>\n",
       "            </tr>\n",
       "            <tr>\n",
       "                        <th id=\"T_dd44a2ad_0a1b_11ea_a6fb_107b449f15fclevel0_row8\" class=\"row_heading level0 row8\" >огромный_роль_играть</th>\n",
       "                        <td id=\"T_dd44a2ad_0a1b_11ea_a6fb_107b449f15fcrow8_col0\" class=\"data row8 col0\" >0.03992</td>\n",
       "            </tr>\n",
       "            <tr>\n",
       "                        <th id=\"T_dd44a2ad_0a1b_11ea_a6fb_107b449f15fclevel0_row9\" class=\"row_heading level0 row9\" >протяжение_xx_век</th>\n",
       "                        <td id=\"T_dd44a2ad_0a1b_11ea_a6fb_107b449f15fcrow9_col0\" class=\"data row9 col0\" >0.03992</td>\n",
       "            </tr>\n",
       "    </tbody></table><style  type=\"text/css\" >\n",
       "</style><table id=\"T_dd44a2ae_0a1b_11ea_a6fb_107b449f15fc\" style='display:inline'><thead>    <tr>        <th class=\"blank level0\" ></th>        <th class=\"col_heading level0 col0\" >topic_5 @post_tag</th>    </tr></thead><tbody>\n",
       "                <tr>\n",
       "                        <th id=\"T_dd44a2ae_0a1b_11ea_a6fb_107b449f15fclevel0_row0\" class=\"row_heading level0 row0\" >ссср</th>\n",
       "                        <td id=\"T_dd44a2ae_0a1b_11ea_a6fb_107b449f15fcrow0_col0\" class=\"data row0 col0\" >0.15609</td>\n",
       "            </tr>\n",
       "            <tr>\n",
       "                        <th id=\"T_dd44a2ae_0a1b_11ea_a6fb_107b449f15fclevel0_row1\" class=\"row_heading level0 row1\" >литература</th>\n",
       "                        <td id=\"T_dd44a2ae_0a1b_11ea_a6fb_107b449f15fcrow1_col0\" class=\"data row1 col0\" >0.14042</td>\n",
       "            </tr>\n",
       "            <tr>\n",
       "                        <th id=\"T_dd44a2ae_0a1b_11ea_a6fb_107b449f15fclevel0_row2\" class=\"row_heading level0 row2\" >история</th>\n",
       "                        <td id=\"T_dd44a2ae_0a1b_11ea_a6fb_107b449f15fcrow2_col0\" class=\"data row2 col0\" >0.09022</td>\n",
       "            </tr>\n",
       "            <tr>\n",
       "                        <th id=\"T_dd44a2ae_0a1b_11ea_a6fb_107b449f15fclevel0_row3\" class=\"row_heading level0 row3\" >история_россии</th>\n",
       "                        <td id=\"T_dd44a2ae_0a1b_11ea_a6fb_107b449f15fcrow3_col0\" class=\"data row3 col0\" >0.08881</td>\n",
       "            </tr>\n",
       "            <tr>\n",
       "                        <th id=\"T_dd44a2ae_0a1b_11ea_a6fb_107b449f15fclevel0_row4\" class=\"row_heading level0 row4\" >литературоведение</th>\n",
       "                        <td id=\"T_dd44a2ae_0a1b_11ea_a6fb_107b449f15fcrow4_col0\" class=\"data row4 col0\" >0.0738</td>\n",
       "            </tr>\n",
       "            <tr>\n",
       "                        <th id=\"T_dd44a2ae_0a1b_11ea_a6fb_107b449f15fclevel0_row5\" class=\"row_heading level0 row5\" >филология</th>\n",
       "                        <td id=\"T_dd44a2ae_0a1b_11ea_a6fb_107b449f15fcrow5_col0\" class=\"data row5 col0\" >0.05469</td>\n",
       "            </tr>\n",
       "            <tr>\n",
       "                        <th id=\"T_dd44a2ae_0a1b_11ea_a6fb_107b449f15fclevel0_row6\" class=\"row_heading level0 row6\" >сталин_иосиф</th>\n",
       "                        <td id=\"T_dd44a2ae_0a1b_11ea_a6fb_107b449f15fcrow6_col0\" class=\"data row6 col0\" >0.03263</td>\n",
       "            </tr>\n",
       "            <tr>\n",
       "                        <th id=\"T_dd44a2ae_0a1b_11ea_a6fb_107b449f15fclevel0_row7\" class=\"row_heading level0 row7\" >вторая_мировая_война</th>\n",
       "                        <td id=\"T_dd44a2ae_0a1b_11ea_a6fb_107b449f15fcrow7_col0\" class=\"data row7 col0\" >0.02848</td>\n",
       "            </tr>\n",
       "            <tr>\n",
       "                        <th id=\"T_dd44a2ae_0a1b_11ea_a6fb_107b449f15fclevel0_row8\" class=\"row_heading level0 row8\" >россия</th>\n",
       "                        <td id=\"T_dd44a2ae_0a1b_11ea_a6fb_107b449f15fcrow8_col0\" class=\"data row8 col0\" >0.02661</td>\n",
       "            </tr>\n",
       "            <tr>\n",
       "                        <th id=\"T_dd44a2ae_0a1b_11ea_a6fb_107b449f15fclevel0_row9\" class=\"row_heading level0 row9\" >поэзия</th>\n",
       "                        <td id=\"T_dd44a2ae_0a1b_11ea_a6fb_107b449f15fcrow9_col0\" class=\"data row9 col0\" >0.02633</td>\n",
       "            </tr>\n",
       "    </tbody></table><style  type=\"text/css\" >\n",
       "</style><table id=\"T_dd44a2af_0a1b_11ea_a6fb_107b449f15fc\" style='display:inline'><thead>    <tr>        <th class=\"blank level0\" ></th>        <th class=\"col_heading level0 col0\" >topic_5 @word</th>    </tr></thead><tbody>\n",
       "                <tr>\n",
       "                        <th id=\"T_dd44a2af_0a1b_11ea_a6fb_107b449f15fclevel0_row0\" class=\"row_heading level0 row0\" >сталин</th>\n",
       "                        <td id=\"T_dd44a2af_0a1b_11ea_a6fb_107b449f15fcrow0_col0\" class=\"data row0 col0\" >0.00703</td>\n",
       "            </tr>\n",
       "            <tr>\n",
       "                        <th id=\"T_dd44a2af_0a1b_11ea_a6fb_107b449f15fclevel0_row1\" class=\"row_heading level0 row1\" >история</th>\n",
       "                        <td id=\"T_dd44a2af_0a1b_11ea_a6fb_107b449f15fcrow1_col0\" class=\"data row1 col0\" >0.00605</td>\n",
       "            </tr>\n",
       "            <tr>\n",
       "                        <th id=\"T_dd44a2af_0a1b_11ea_a6fb_107b449f15fclevel0_row2\" class=\"row_heading level0 row2\" >советский</th>\n",
       "                        <td id=\"T_dd44a2af_0a1b_11ea_a6fb_107b449f15fcrow2_col0\" class=\"data row2 col0\" >0.00526</td>\n",
       "            </tr>\n",
       "            <tr>\n",
       "                        <th id=\"T_dd44a2af_0a1b_11ea_a6fb_107b449f15fclevel0_row3\" class=\"row_heading level0 row3\" >литература</th>\n",
       "                        <td id=\"T_dd44a2af_0a1b_11ea_a6fb_107b449f15fcrow3_col0\" class=\"data row3 col0\" >0.00437</td>\n",
       "            </tr>\n",
       "            <tr>\n",
       "                        <th id=\"T_dd44a2af_0a1b_11ea_a6fb_107b449f15fclevel0_row4\" class=\"row_heading level0 row4\" >книга</th>\n",
       "                        <td id=\"T_dd44a2af_0a1b_11ea_a6fb_107b449f15fcrow4_col0\" class=\"data row4 col0\" >0.00419</td>\n",
       "            </tr>\n",
       "            <tr>\n",
       "                        <th id=\"T_dd44a2af_0a1b_11ea_a6fb_107b449f15fclevel0_row5\" class=\"row_heading level0 row5\" >война</th>\n",
       "                        <td id=\"T_dd44a2af_0a1b_11ea_a6fb_107b449f15fcrow5_col0\" class=\"data row5 col0\" >0.00414</td>\n",
       "            </tr>\n",
       "            <tr>\n",
       "                        <th id=\"T_dd44a2af_0a1b_11ea_a6fb_107b449f15fclevel0_row6\" class=\"row_heading level0 row6\" >стать</th>\n",
       "                        <td id=\"T_dd44a2af_0a1b_11ea_a6fb_107b449f15fcrow6_col0\" class=\"data row6 col0\" >0.00358</td>\n",
       "            </tr>\n",
       "            <tr>\n",
       "                        <th id=\"T_dd44a2af_0a1b_11ea_a6fb_107b449f15fclevel0_row7\" class=\"row_heading level0 row7\" >писать</th>\n",
       "                        <td id=\"T_dd44a2af_0a1b_11ea_a6fb_107b449f15fcrow7_col0\" class=\"data row7 col0\" >0.00329</td>\n",
       "            </tr>\n",
       "            <tr>\n",
       "                        <th id=\"T_dd44a2af_0a1b_11ea_a6fb_107b449f15fclevel0_row8\" class=\"row_heading level0 row8\" >жизнь</th>\n",
       "                        <td id=\"T_dd44a2af_0a1b_11ea_a6fb_107b449f15fcrow8_col0\" class=\"data row8 col0\" >0.00322</td>\n",
       "            </tr>\n",
       "            <tr>\n",
       "                        <th id=\"T_dd44a2af_0a1b_11ea_a6fb_107b449f15fclevel0_row9\" class=\"row_heading level0 row9\" >работа</th>\n",
       "                        <td id=\"T_dd44a2af_0a1b_11ea_a6fb_107b449f15fcrow9_col0\" class=\"data row9 col0\" >0.00314</td>\n",
       "            </tr>\n",
       "    </tbody></table>"
      ]
     },
     "metadata": {},
     "output_type": "display_data"
    },
    {
     "data": {
      "text/html": [
       "<b> главысталин на войне </b><br /> отрывок из книги  «сталин. жизнь одного вождя» историка олега хлевнюка о роли сталина в поражениях и победах в великой отечественной войне"
      ]
     },
     "metadata": {},
     "output_type": "display_data"
    },
    {
     "data": {
      "text/html": [
       "<b> главыавторские тексты сталина </b><br /> отрывок из книги «сталин, коба и сoco» историка ольги эдельман о дореволюционных текстах будущего вождя и воспоминаниях его современников"
      ]
     },
     "metadata": {},
     "output_type": "display_data"
    },
    {
     "data": {
      "text/html": [
       "<b> «первая мировая война потеряна, у нас нет ее в памяти» </b><br /> интервью с историком алексеем миллером о политике памяти, войне 1812 года и значении «георгиевской ленточки»"
      ]
     },
     "metadata": {},
     "output_type": "display_data"
    },
    {
     "data": {
      "text/html": [
       "<b> эпоха сталина </b><br /> 11 материалов историка олега хлевнюка о зарождении и гибели сталинской эпохи, проблемах ее интерпретации и значении для мировой истории"
      ]
     },
     "metadata": {},
     "output_type": "display_data"
    },
    {
     "data": {
      "text/html": [
       "<b> «сталин, коба и сосо. молодой сталин в исторических источниках» </b><br /> историк ольга эдельман о дореволюционной биографии сталина, проблеме верификации источников и задачах исторического исследования"
      ]
     },
     "metadata": {},
     "output_type": "display_data"
    },
    {
     "data": {
      "text/html": [
       "<b> приход сталина к власти </b><br /> историк олег хлевнюк о системе коллективного руководства после смерти ленина, заявлении сталина об отставке и полном контроле над органами госбезопасности"
      ]
     },
     "metadata": {},
     "output_type": "display_data"
    },
    {
     "data": {
      "text/html": [
       "<b> практики построения личности в утопических сообществах </b><br /> как педагогические технологии влияли на жизнь советских детей и подростков"
      ]
     },
     "metadata": {},
     "output_type": "display_data"
    },
    {
     "data": {
      "text/html": [
       "<b> главыинтерпретации сталинградской битвы </b><br /> отрывок из книги «сталинградская битвасвидетельства участников и очевидцев», вышедшей под редакцией историка йохена хелльбека"
      ]
     },
     "metadata": {},
     "output_type": "display_data"
    },
    {
     "data": {
      "text/html": [
       "<b> большой террор </b><br /> историк олег хлевнюк о причинах репрессий 1937 года, антисоветских элементах и роли сталина в большом терроре"
      ]
     },
     "metadata": {},
     "output_type": "display_data"
    },
    {
     "data": {
      "text/html": [
       "<b> предпосылки десталинизации </b><br /> историк олег хлевнюк о проблемах послевоенного ссср, демонтаже гулага и наследии сталинского режима"
      ]
     },
     "metadata": {},
     "output_type": "display_data"
    },
    {
     "data": {
      "text/html": [
       "<style  type=\"text/css\" >\n",
       "</style><table id=\"T_dd44a2b0_0a1b_11ea_a6fb_107b449f15fc\" style='display:inline'><thead>    <tr>        <th class=\"blank level0\" ></th>        <th class=\"col_heading level0 col0\" >topic_6 @2gramm</th>    </tr></thead><tbody>\n",
       "                <tr>\n",
       "                        <th id=\"T_dd44a2b0_0a1b_11ea_a6fb_107b449f15fclevel0_row0\" class=\"row_heading level0 row0\" >естественный_отбор</th>\n",
       "                        <td id=\"T_dd44a2b0_0a1b_11ea_a6fb_107b449f15fcrow0_col0\" class=\"data row0 col0\" >0.01701</td>\n",
       "            </tr>\n",
       "            <tr>\n",
       "                        <th id=\"T_dd44a2b0_0a1b_11ea_a6fb_107b449f15fclevel0_row1\" class=\"row_heading level0 row1\" >половый_отбор</th>\n",
       "                        <td id=\"T_dd44a2b0_0a1b_11ea_a6fb_107b449f15fcrow1_col0\" class=\"data row1 col0\" >0.00884</td>\n",
       "            </tr>\n",
       "            <tr>\n",
       "                        <th id=\"T_dd44a2b0_0a1b_11ea_a6fb_107b449f15fclevel0_row2\" class=\"row_heading level0 row2\" >процесс_эволюция</th>\n",
       "                        <td id=\"T_dd44a2b0_0a1b_11ea_a6fb_107b449f15fcrow2_col0\" class=\"data row2 col0\" >0.00708</td>\n",
       "            </tr>\n",
       "            <tr>\n",
       "                        <th id=\"T_dd44a2b0_0a1b_11ea_a6fb_107b449f15fclevel0_row3\" class=\"row_heading level0 row3\" >теория_эволюция</th>\n",
       "                        <td id=\"T_dd44a2b0_0a1b_11ea_a6fb_107b449f15fcrow3_col0\" class=\"data row3 col0\" >0.00694</td>\n",
       "            </tr>\n",
       "            <tr>\n",
       "                        <th id=\"T_dd44a2b0_0a1b_11ea_a6fb_107b449f15fclevel0_row4\" class=\"row_heading level0 row4\" >живой_организм</th>\n",
       "                        <td id=\"T_dd44a2b0_0a1b_11ea_a6fb_107b449f15fcrow4_col0\" class=\"data row4 col0\" >0.0068</td>\n",
       "            </tr>\n",
       "            <tr>\n",
       "                        <th id=\"T_dd44a2b0_0a1b_11ea_a6fb_107b449f15fclevel0_row5\" class=\"row_heading level0 row5\" >пермский_период</th>\n",
       "                        <td id=\"T_dd44a2b0_0a1b_11ea_a6fb_107b449f15fcrow5_col0\" class=\"data row5 col0\" >0.00633</td>\n",
       "            </tr>\n",
       "            <tr>\n",
       "                        <th id=\"T_dd44a2b0_0a1b_11ea_a6fb_107b449f15fclevel0_row6\" class=\"row_heading level0 row6\" >поведение_животное</th>\n",
       "                        <td id=\"T_dd44a2b0_0a1b_11ea_a6fb_107b449f15fcrow6_col0\" class=\"data row6 col0\" >0.00623</td>\n",
       "            </tr>\n",
       "            <tr>\n",
       "                        <th id=\"T_dd44a2b0_0a1b_11ea_a6fb_107b449f15fclevel0_row7\" class=\"row_heading level0 row7\" >человекообразный_обезьяна</th>\n",
       "                        <td id=\"T_dd44a2b0_0a1b_11ea_a6fb_107b449f15fcrow7_col0\" class=\"data row7 col0\" >0.00598</td>\n",
       "            </tr>\n",
       "            <tr>\n",
       "                        <th id=\"T_dd44a2b0_0a1b_11ea_a6fb_107b449f15fclevel0_row8\" class=\"row_heading level0 row8\" >homo_sapiens</th>\n",
       "                        <td id=\"T_dd44a2b0_0a1b_11ea_a6fb_107b449f15fcrow8_col0\" class=\"data row8 col0\" >0.00582</td>\n",
       "            </tr>\n",
       "            <tr>\n",
       "                        <th id=\"T_dd44a2b0_0a1b_11ea_a6fb_107b449f15fclevel0_row9\" class=\"row_heading level0 row9\" >летучий_мышь</th>\n",
       "                        <td id=\"T_dd44a2b0_0a1b_11ea_a6fb_107b449f15fcrow9_col0\" class=\"data row9 col0\" >0.00566</td>\n",
       "            </tr>\n",
       "    </tbody></table><style  type=\"text/css\" >\n",
       "</style><table id=\"T_dd44a2b1_0a1b_11ea_a6fb_107b449f15fc\" style='display:inline'><thead>    <tr>        <th class=\"blank level0\" ></th>        <th class=\"col_heading level0 col0\" >topic_6 @3gramm</th>    </tr></thead><tbody>\n",
       "                <tr>\n",
       "                        <th id=\"T_dd44a2b1_0a1b_11ea_a6fb_107b449f15fclevel0_row0\" class=\"row_heading level0 row0\" >друг_относительно_друг</th>\n",
       "                        <td id=\"T_dd44a2b1_0a1b_11ea_a6fb_107b449f15fcrow0_col0\" class=\"data row0 col0\" >0.14797</td>\n",
       "            </tr>\n",
       "            <tr>\n",
       "                        <th id=\"T_dd44a2b1_0a1b_11ea_a6fb_107b449f15fclevel0_row1\" class=\"row_heading level0 row1\" >теория_принятие_решение</th>\n",
       "                        <td id=\"T_dd44a2b1_0a1b_11ea_a6fb_107b449f15fcrow1_col0\" class=\"data row1 col0\" >0.13296</td>\n",
       "            </tr>\n",
       "            <tr>\n",
       "                        <th id=\"T_dd44a2b1_0a1b_11ea_a6fb_107b449f15fclevel0_row2\" class=\"row_heading level0 row2\" >физика_твёрдый_тело</th>\n",
       "                        <td id=\"T_dd44a2b1_0a1b_11ea_a6fb_107b449f15fcrow2_col0\" class=\"data row2 col0\" >0.07809</td>\n",
       "            </tr>\n",
       "            <tr>\n",
       "                        <th id=\"T_dd44a2b1_0a1b_11ea_a6fb_107b449f15fclevel0_row3\" class=\"row_heading level0 row3\" >сильно_отличаться_друг</th>\n",
       "                        <td id=\"T_dd44a2b1_0a1b_11ea_a6fb_107b449f15fcrow3_col0\" class=\"data row3 col0\" >0.06202</td>\n",
       "            </tr>\n",
       "            <tr>\n",
       "                        <th id=\"T_dd44a2b1_0a1b_11ea_a6fb_107b449f15fclevel0_row4\" class=\"row_heading level0 row4\" >действие_естественный_отбор</th>\n",
       "                        <td id=\"T_dd44a2b1_0a1b_11ea_a6fb_107b449f15fcrow4_col0\" class=\"data row4 col0\" >0.05488</td>\n",
       "            </tr>\n",
       "            <tr>\n",
       "                        <th id=\"T_dd44a2b1_0a1b_11ea_a6fb_107b449f15fclevel0_row5\" class=\"row_heading level0 row5\" >большой_количество_энергия</th>\n",
       "                        <td id=\"T_dd44a2b1_0a1b_11ea_a6fb_107b449f15fcrow5_col0\" class=\"data row5 col0\" >0.0478</td>\n",
       "            </tr>\n",
       "            <tr>\n",
       "                        <th id=\"T_dd44a2b1_0a1b_11ea_a6fb_107b449f15fclevel0_row6\" class=\"row_heading level0 row6\" >большой_внимание_уделяться</th>\n",
       "                        <td id=\"T_dd44a2b1_0a1b_11ea_a6fb_107b449f15fcrow6_col0\" class=\"data row6 col0\" >0.04735</td>\n",
       "            </tr>\n",
       "            <tr>\n",
       "                        <th id=\"T_dd44a2b1_0a1b_11ea_a6fb_107b449f15fclevel0_row7\" class=\"row_heading level0 row7\" >европейский_часть_россия</th>\n",
       "                        <td id=\"T_dd44a2b1_0a1b_11ea_a6fb_107b449f15fcrow7_col0\" class=\"data row7 col0\" >0.04735</td>\n",
       "            </tr>\n",
       "            <tr>\n",
       "                        <th id=\"T_dd44a2b1_0a1b_11ea_a6fb_107b449f15fclevel0_row8\" class=\"row_heading level0 row8\" >группа_высокий_растение</th>\n",
       "                        <td id=\"T_dd44a2b1_0a1b_11ea_a6fb_107b449f15fcrow8_col0\" class=\"data row8 col0\" >0.04091</td>\n",
       "            </tr>\n",
       "            <tr>\n",
       "                        <th id=\"T_dd44a2b1_0a1b_11ea_a6fb_107b449f15fclevel0_row9\" class=\"row_heading level0 row9\" >конец_палеозойский_эра</th>\n",
       "                        <td id=\"T_dd44a2b1_0a1b_11ea_a6fb_107b449f15fcrow9_col0\" class=\"data row9 col0\" >0.04091</td>\n",
       "            </tr>\n",
       "    </tbody></table><style  type=\"text/css\" >\n",
       "</style><table id=\"T_dd44a2b2_0a1b_11ea_a6fb_107b449f15fc\" style='display:inline'><thead>    <tr>        <th class=\"blank level0\" ></th>        <th class=\"col_heading level0 col0\" >topic_6 @post_tag</th>    </tr></thead><tbody>\n",
       "                <tr>\n",
       "                        <th id=\"T_dd44a2b2_0a1b_11ea_a6fb_107b449f15fclevel0_row0\" class=\"row_heading level0 row0\" >эволюция</th>\n",
       "                        <td id=\"T_dd44a2b2_0a1b_11ea_a6fb_107b449f15fcrow0_col0\" class=\"data row0 col0\" >0.20911</td>\n",
       "            </tr>\n",
       "            <tr>\n",
       "                        <th id=\"T_dd44a2b2_0a1b_11ea_a6fb_107b449f15fclevel0_row1\" class=\"row_heading level0 row1\" >биология</th>\n",
       "                        <td id=\"T_dd44a2b2_0a1b_11ea_a6fb_107b449f15fcrow1_col0\" class=\"data row1 col0\" >0.17969</td>\n",
       "            </tr>\n",
       "            <tr>\n",
       "                        <th id=\"T_dd44a2b2_0a1b_11ea_a6fb_107b449f15fclevel0_row2\" class=\"row_heading level0 row2\" >палеонтология</th>\n",
       "                        <td id=\"T_dd44a2b2_0a1b_11ea_a6fb_107b449f15fcrow2_col0\" class=\"data row2 col0\" >0.06304</td>\n",
       "            </tr>\n",
       "            <tr>\n",
       "                        <th id=\"T_dd44a2b2_0a1b_11ea_a6fb_107b449f15fclevel0_row3\" class=\"row_heading level0 row3\" >этология</th>\n",
       "                        <td id=\"T_dd44a2b2_0a1b_11ea_a6fb_107b449f15fcrow3_col0\" class=\"data row3 col0\" >0.05963</td>\n",
       "            </tr>\n",
       "            <tr>\n",
       "                        <th id=\"T_dd44a2b2_0a1b_11ea_a6fb_107b449f15fclevel0_row4\" class=\"row_heading level0 row4\" >зоология</th>\n",
       "                        <td id=\"T_dd44a2b2_0a1b_11ea_a6fb_107b449f15fcrow4_col0\" class=\"data row4 col0\" >0.04811</td>\n",
       "            </tr>\n",
       "            <tr>\n",
       "                        <th id=\"T_dd44a2b2_0a1b_11ea_a6fb_107b449f15fclevel0_row5\" class=\"row_heading level0 row5\" >поведение_животных</th>\n",
       "                        <td id=\"T_dd44a2b2_0a1b_11ea_a6fb_107b449f15fcrow5_col0\" class=\"data row5 col0\" >0.04641</td>\n",
       "            </tr>\n",
       "            <tr>\n",
       "                        <th id=\"T_dd44a2b2_0a1b_11ea_a6fb_107b449f15fclevel0_row6\" class=\"row_heading level0 row6\" >дарвин_чарльз</th>\n",
       "                        <td id=\"T_dd44a2b2_0a1b_11ea_a6fb_107b449f15fcrow6_col0\" class=\"data row6 col0\" >0.03312</td>\n",
       "            </tr>\n",
       "            <tr>\n",
       "                        <th id=\"T_dd44a2b2_0a1b_11ea_a6fb_107b449f15fclevel0_row7\" class=\"row_heading level0 row7\" >зоопсихология</th>\n",
       "                        <td id=\"T_dd44a2b2_0a1b_11ea_a6fb_107b449f15fcrow7_col0\" class=\"data row7 col0\" >0.02985</td>\n",
       "            </tr>\n",
       "            <tr>\n",
       "                        <th id=\"T_dd44a2b2_0a1b_11ea_a6fb_107b449f15fclevel0_row8\" class=\"row_heading level0 row8\" >эволюционная_биология</th>\n",
       "                        <td id=\"T_dd44a2b2_0a1b_11ea_a6fb_107b449f15fcrow8_col0\" class=\"data row8 col0\" >0.02338</td>\n",
       "            </tr>\n",
       "            <tr>\n",
       "                        <th id=\"T_dd44a2b2_0a1b_11ea_a6fb_107b449f15fclevel0_row9\" class=\"row_heading level0 row9\" >теория_эволюции</th>\n",
       "                        <td id=\"T_dd44a2b2_0a1b_11ea_a6fb_107b449f15fcrow9_col0\" class=\"data row9 col0\" >0.02317</td>\n",
       "            </tr>\n",
       "    </tbody></table><style  type=\"text/css\" >\n",
       "</style><table id=\"T_dd44a2b3_0a1b_11ea_a6fb_107b449f15fc\" style='display:inline'><thead>    <tr>        <th class=\"blank level0\" ></th>        <th class=\"col_heading level0 col0\" >topic_6 @word</th>    </tr></thead><tbody>\n",
       "                <tr>\n",
       "                        <th id=\"T_dd44a2b3_0a1b_11ea_a6fb_107b449f15fclevel0_row0\" class=\"row_heading level0 row0\" >вид</th>\n",
       "                        <td id=\"T_dd44a2b3_0a1b_11ea_a6fb_107b449f15fcrow0_col0\" class=\"data row0 col0\" >0.00986</td>\n",
       "            </tr>\n",
       "            <tr>\n",
       "                        <th id=\"T_dd44a2b3_0a1b_11ea_a6fb_107b449f15fclevel0_row1\" class=\"row_heading level0 row1\" >животное</th>\n",
       "                        <td id=\"T_dd44a2b3_0a1b_11ea_a6fb_107b449f15fcrow1_col0\" class=\"data row1 col0\" >0.00747</td>\n",
       "            </tr>\n",
       "            <tr>\n",
       "                        <th id=\"T_dd44a2b3_0a1b_11ea_a6fb_107b449f15fclevel0_row2\" class=\"row_heading level0 row2\" >эволюция</th>\n",
       "                        <td id=\"T_dd44a2b3_0a1b_11ea_a6fb_107b449f15fcrow2_col0\" class=\"data row2 col0\" >0.00682</td>\n",
       "            </tr>\n",
       "            <tr>\n",
       "                        <th id=\"T_dd44a2b3_0a1b_11ea_a6fb_107b449f15fclevel0_row3\" class=\"row_heading level0 row3\" >самец</th>\n",
       "                        <td id=\"T_dd44a2b3_0a1b_11ea_a6fb_107b449f15fcrow3_col0\" class=\"data row3 col0\" >0.00677</td>\n",
       "            </tr>\n",
       "            <tr>\n",
       "                        <th id=\"T_dd44a2b3_0a1b_11ea_a6fb_107b449f15fclevel0_row4\" class=\"row_heading level0 row4\" >самка</th>\n",
       "                        <td id=\"T_dd44a2b3_0a1b_11ea_a6fb_107b449f15fcrow4_col0\" class=\"data row4 col0\" >0.00602</td>\n",
       "            </tr>\n",
       "            <tr>\n",
       "                        <th id=\"T_dd44a2b3_0a1b_11ea_a6fb_107b449f15fclevel0_row5\" class=\"row_heading level0 row5\" >группа</th>\n",
       "                        <td id=\"T_dd44a2b3_0a1b_11ea_a6fb_107b449f15fcrow5_col0\" class=\"data row5 col0\" >0.00535</td>\n",
       "            </tr>\n",
       "            <tr>\n",
       "                        <th id=\"T_dd44a2b3_0a1b_11ea_a6fb_107b449f15fclevel0_row6\" class=\"row_heading level0 row6\" >птица</th>\n",
       "                        <td id=\"T_dd44a2b3_0a1b_11ea_a6fb_107b449f15fcrow6_col0\" class=\"data row6 col0\" >0.00524</td>\n",
       "            </tr>\n",
       "            <tr>\n",
       "                        <th id=\"T_dd44a2b3_0a1b_11ea_a6fb_107b449f15fclevel0_row7\" class=\"row_heading level0 row7\" >растение</th>\n",
       "                        <td id=\"T_dd44a2b3_0a1b_11ea_a6fb_107b449f15fcrow7_col0\" class=\"data row7 col0\" >0.00434</td>\n",
       "            </tr>\n",
       "            <tr>\n",
       "                        <th id=\"T_dd44a2b3_0a1b_11ea_a6fb_107b449f15fclevel0_row8\" class=\"row_heading level0 row8\" >насекомое</th>\n",
       "                        <td id=\"T_dd44a2b3_0a1b_11ea_a6fb_107b449f15fcrow8_col0\" class=\"data row8 col0\" >0.0035</td>\n",
       "            </tr>\n",
       "            <tr>\n",
       "                        <th id=\"T_dd44a2b3_0a1b_11ea_a6fb_107b449f15fclevel0_row9\" class=\"row_heading level0 row9\" >поведение</th>\n",
       "                        <td id=\"T_dd44a2b3_0a1b_11ea_a6fb_107b449f15fcrow9_col0\" class=\"data row9 col0\" >0.00342</td>\n",
       "            </tr>\n",
       "    </tbody></table>"
      ]
     },
     "metadata": {},
     "output_type": "display_data"
    },
    {
     "data": {
      "text/html": [
       "<b> архат абжанов«строение черепа птицы унаследовали от динозавров» </b><br /> биолог архат абжанов об эволюции птиц, строении их черепа и общих чертах с крокодилами"
      ]
     },
     "metadata": {},
     "output_type": "display_data"
    },
    {
     "data": {
      "text/html": [
       "<b> особенности строения голосеменных класса войновскиевых </b><br /> о спорных вопросах в изучении одной из самых своеобразных групп голосеменных растений, произраставших на земле в конце палеозойской эры"
      ]
     },
     "metadata": {},
     "output_type": "display_data"
    },
    {
     "data": {
      "text/html": [
       "<b> варвара веденина\"половой отбор не всегда противоречит естественному\" </b><br /> интервью с биологом варварой ведениной о гипотезах, объясняющих выбор самок, и генетической детерминации механизмов полового отбора"
      ]
     },
     "metadata": {},
     "output_type": "display_data"
    },
    {
     "data": {
      "text/html": [
       "<b> прямая речьжанна резникова </b><br /> этолог, доктор биологических наук о поведении животных, их когнитивных способностях, этике и гражданской позиции ученых"
      ]
     },
     "metadata": {},
     "output_type": "display_data"
    },
    {
     "data": {
      "text/html": [
       "<b> faqпермский период </b><br /> 7 фактов о периодизации пермской геологической системы"
      ]
     },
     "metadata": {},
     "output_type": "display_data"
    },
    {
     "data": {
      "text/html": [
       "<b> пермский период </b><br /> палеоботаник сергей наугольных о возникновении пермской системы, эпохе высокого стояния континентов и пермо-триасовом вымирании видов"
      ]
     },
     "metadata": {},
     "output_type": "display_data"
    },
    {
     "data": {
      "text/html": [
       "<b> «многие юрские животные продолжили свое развитие и даже имеют потомков в наше время» </b><br /> палеонтолог чжунхэ чжоу о многообразии удивительных животных юрского периода"
      ]
     },
     "metadata": {},
     "output_type": "display_data"
    },
    {
     "data": {
      "text/html": [
       "<b> 5 книг о палеоботанике пермского периода </b><br /> что читать об ископаемых растениях пермского периода, рекомендует доктор геолого-минералогических наук сергей наугольных"
      ]
     },
     "metadata": {},
     "output_type": "display_data"
    },
    {
     "data": {
      "text/html": [
       "<b> половой отбортеория против практики </b><br /> биолог варвара веденина о действии естественного отбора, турнирах между самцами и преподнесении подарков у насекомых"
      ]
     },
     "metadata": {},
     "output_type": "display_data"
    },
    {
     "data": {
      "text/html": [
       "<b> палеоботаника </b><br /> палеоботаник сергей наугольных об истории дисциплины, главных открытиях и ее связи с палеозоологией"
      ]
     },
     "metadata": {},
     "output_type": "display_data"
    },
    {
     "data": {
      "text/html": [
       "<style  type=\"text/css\" >\n",
       "</style><table id=\"T_dd44a2b4_0a1b_11ea_a6fb_107b449f15fc\" style='display:inline'><thead>    <tr>        <th class=\"blank level0\" ></th>        <th class=\"col_heading level0 col0\" >topic_7 @2gramm</th>    </tr></thead><tbody>\n",
       "                <tr>\n",
       "                        <th id=\"T_dd44a2b4_0a1b_11ea_a6fb_107b449f15fclevel0_row0\" class=\"row_heading level0 row0\" >квантовый_компьютер</th>\n",
       "                        <td id=\"T_dd44a2b4_0a1b_11ea_a6fb_107b449f15fcrow0_col0\" class=\"data row0 col0\" >0.01544</td>\n",
       "            </tr>\n",
       "            <tr>\n",
       "                        <th id=\"T_dd44a2b4_0a1b_11ea_a6fb_107b449f15fclevel0_row1\" class=\"row_heading level0 row1\" >магнитный_поль</th>\n",
       "                        <td id=\"T_dd44a2b4_0a1b_11ea_a6fb_107b449f15fcrow1_col0\" class=\"data row1 col0\" >0.01301</td>\n",
       "            </tr>\n",
       "            <tr>\n",
       "                        <th id=\"T_dd44a2b4_0a1b_11ea_a6fb_107b449f15fclevel0_row2\" class=\"row_heading level0 row2\" >длина_волна</th>\n",
       "                        <td id=\"T_dd44a2b4_0a1b_11ea_a6fb_107b449f15fcrow2_col0\" class=\"data row2 col0\" >0.01134</td>\n",
       "            </tr>\n",
       "            <tr>\n",
       "                        <th id=\"T_dd44a2b4_0a1b_11ea_a6fb_107b449f15fclevel0_row3\" class=\"row_heading level0 row3\" >магнитный_пол</th>\n",
       "                        <td id=\"T_dd44a2b4_0a1b_11ea_a6fb_107b449f15fcrow3_col0\" class=\"data row3 col0\" >0.00973</td>\n",
       "            </tr>\n",
       "            <tr>\n",
       "                        <th id=\"T_dd44a2b4_0a1b_11ea_a6fb_107b449f15fclevel0_row4\" class=\"row_heading level0 row4\" >квантовый_точка</th>\n",
       "                        <td id=\"T_dd44a2b4_0a1b_11ea_a6fb_107b449f15fcrow4_col0\" class=\"data row4 col0\" >0.00828</td>\n",
       "            </tr>\n",
       "            <tr>\n",
       "                        <th id=\"T_dd44a2b4_0a1b_11ea_a6fb_107b449f15fclevel0_row5\" class=\"row_heading level0 row5\" >квантовый_технология</th>\n",
       "                        <td id=\"T_dd44a2b4_0a1b_11ea_a6fb_107b449f15fcrow5_col0\" class=\"data row5 col0\" >0.00795</td>\n",
       "            </tr>\n",
       "            <tr>\n",
       "                        <th id=\"T_dd44a2b4_0a1b_11ea_a6fb_107b449f15fclevel0_row6\" class=\"row_heading level0 row6\" >квантовый_механика</th>\n",
       "                        <td id=\"T_dd44a2b4_0a1b_11ea_a6fb_107b449f15fcrow6_col0\" class=\"data row6 col0\" >0.00764</td>\n",
       "            </tr>\n",
       "            <tr>\n",
       "                        <th id=\"T_dd44a2b4_0a1b_11ea_a6fb_107b449f15fclevel0_row7\" class=\"row_heading level0 row7\" >электромагнитный_волна</th>\n",
       "                        <td id=\"T_dd44a2b4_0a1b_11ea_a6fb_107b449f15fcrow7_col0\" class=\"data row7 col0\" >0.00702</td>\n",
       "            </tr>\n",
       "            <tr>\n",
       "                        <th id=\"T_dd44a2b4_0a1b_11ea_a6fb_107b449f15fclevel0_row8\" class=\"row_heading level0 row8\" >молекулярный_машина</th>\n",
       "                        <td id=\"T_dd44a2b4_0a1b_11ea_a6fb_107b449f15fcrow8_col0\" class=\"data row8 col0\" >0.0063</td>\n",
       "            </tr>\n",
       "            <tr>\n",
       "                        <th id=\"T_dd44a2b4_0a1b_11ea_a6fb_107b449f15fclevel0_row9\" class=\"row_heading level0 row9\" >ядерный_энергетика</th>\n",
       "                        <td id=\"T_dd44a2b4_0a1b_11ea_a6fb_107b449f15fcrow9_col0\" class=\"data row9 col0\" >0.00592</td>\n",
       "            </tr>\n",
       "    </tbody></table><style  type=\"text/css\" >\n",
       "</style><table id=\"T_dd44a2b5_0a1b_11ea_a6fb_107b449f15fc\" style='display:inline'><thead>    <tr>        <th class=\"blank level0\" ></th>        <th class=\"col_heading level0 col0\" >topic_7 @3gramm</th>    </tr></thead><tbody>\n",
       "                <tr>\n",
       "                        <th id=\"T_dd44a2b5_0a1b_11ea_a6fb_107b449f15fclevel0_row0\" class=\"row_heading level0 row0\" >достаточно_большой_количество</th>\n",
       "                        <td id=\"T_dd44a2b5_0a1b_11ea_a6fb_107b449f15fcrow0_col0\" class=\"data row0 col0\" >0.16612</td>\n",
       "            </tr>\n",
       "            <tr>\n",
       "                        <th id=\"T_dd44a2b5_0a1b_11ea_a6fb_107b449f15fclevel0_row1\" class=\"row_heading level0 row1\" >генетически_модифицированный_растение</th>\n",
       "                        <td id=\"T_dd44a2b5_0a1b_11ea_a6fb_107b449f15fcrow1_col0\" class=\"data row1 col0\" >0.10657</td>\n",
       "            </tr>\n",
       "            <tr>\n",
       "                        <th id=\"T_dd44a2b5_0a1b_11ea_a6fb_107b449f15fclevel0_row2\" class=\"row_heading level0 row2\" >внешний_магнитный_поль</th>\n",
       "                        <td id=\"T_dd44a2b5_0a1b_11ea_a6fb_107b449f15fcrow2_col0\" class=\"data row2 col0\" >0.10656</td>\n",
       "            </tr>\n",
       "            <tr>\n",
       "                        <th id=\"T_dd44a2b5_0a1b_11ea_a6fb_107b449f15fclevel0_row3\" class=\"row_heading level0 row3\" >существовать_большой_количество</th>\n",
       "                        <td id=\"T_dd44a2b5_0a1b_11ea_a6fb_107b449f15fcrow3_col0\" class=\"data row3 col0\" >0.1003</td>\n",
       "            </tr>\n",
       "            <tr>\n",
       "                        <th id=\"T_dd44a2b5_0a1b_11ea_a6fb_107b449f15fclevel0_row4\" class=\"row_heading level0 row4\" >существовать_целый_ряд</th>\n",
       "                        <td id=\"T_dd44a2b5_0a1b_11ea_a6fb_107b449f15fcrow4_col0\" class=\"data row4 col0\" >0.08166</td>\n",
       "            </tr>\n",
       "            <tr>\n",
       "                        <th id=\"T_dd44a2b5_0a1b_11ea_a6fb_107b449f15fclevel0_row5\" class=\"row_heading level0 row5\" >ядерный_магнитный_резонанс</th>\n",
       "                        <td id=\"T_dd44a2b5_0a1b_11ea_a6fb_107b449f15fcrow5_col0\" class=\"data row5 col0\" >0.06218</td>\n",
       "            </tr>\n",
       "            <tr>\n",
       "                        <th id=\"T_dd44a2b5_0a1b_11ea_a6fb_107b449f15fclevel0_row6\" class=\"row_heading level0 row6\" >направление_магнитный_поль</th>\n",
       "                        <td id=\"T_dd44a2b5_0a1b_11ea_a6fb_107b449f15fcrow6_col0\" class=\"data row6 col0\" >0.04987</td>\n",
       "            </tr>\n",
       "            <tr>\n",
       "                        <th id=\"T_dd44a2b5_0a1b_11ea_a6fb_107b449f15fclevel0_row7\" class=\"row_heading level0 row7\" >наиболее_яркий_пример</th>\n",
       "                        <td id=\"T_dd44a2b5_0a1b_11ea_a6fb_107b449f15fcrow7_col0\" class=\"data row7 col0\" >0.04964</td>\n",
       "            </tr>\n",
       "            <tr>\n",
       "                        <th id=\"T_dd44a2b5_0a1b_11ea_a6fb_107b449f15fclevel0_row8\" class=\"row_heading level0 row8\" >создание_новый_материал</th>\n",
       "                        <td id=\"T_dd44a2b5_0a1b_11ea_a6fb_107b449f15fcrow8_col0\" class=\"data row8 col0\" >0.04422</td>\n",
       "            </tr>\n",
       "            <tr>\n",
       "                        <th id=\"T_dd44a2b5_0a1b_11ea_a6fb_107b449f15fclevel0_row9\" class=\"row_heading level0 row9\" >достаточно_широко_распространить</th>\n",
       "                        <td id=\"T_dd44a2b5_0a1b_11ea_a6fb_107b449f15fcrow9_col0\" class=\"data row9 col0\" >0.03849</td>\n",
       "            </tr>\n",
       "    </tbody></table><style  type=\"text/css\" >\n",
       "</style><table id=\"T_dd44a2b6_0a1b_11ea_a6fb_107b449f15fc\" style='display:inline'><thead>    <tr>        <th class=\"blank level0\" ></th>        <th class=\"col_heading level0 col0\" >topic_7 @post_tag</th>    </tr></thead><tbody>\n",
       "                <tr>\n",
       "                        <th id=\"T_dd44a2b6_0a1b_11ea_a6fb_107b449f15fclevel0_row0\" class=\"row_heading level0 row0\" >физика</th>\n",
       "                        <td id=\"T_dd44a2b6_0a1b_11ea_a6fb_107b449f15fcrow0_col0\" class=\"data row0 col0\" >0.22233</td>\n",
       "            </tr>\n",
       "            <tr>\n",
       "                        <th id=\"T_dd44a2b6_0a1b_11ea_a6fb_107b449f15fclevel0_row1\" class=\"row_heading level0 row1\" >технологии</th>\n",
       "                        <td id=\"T_dd44a2b6_0a1b_11ea_a6fb_107b449f15fcrow1_col0\" class=\"data row1 col0\" >0.12143</td>\n",
       "            </tr>\n",
       "            <tr>\n",
       "                        <th id=\"T_dd44a2b6_0a1b_11ea_a6fb_107b449f15fclevel0_row2\" class=\"row_heading level0 row2\" >квантовая_физика</th>\n",
       "                        <td id=\"T_dd44a2b6_0a1b_11ea_a6fb_107b449f15fcrow2_col0\" class=\"data row2 col0\" >0.08059</td>\n",
       "            </tr>\n",
       "            <tr>\n",
       "                        <th id=\"T_dd44a2b6_0a1b_11ea_a6fb_107b449f15fclevel0_row3\" class=\"row_heading level0 row3\" >биотехнологии</th>\n",
       "                        <td id=\"T_dd44a2b6_0a1b_11ea_a6fb_107b449f15fcrow3_col0\" class=\"data row3 col0\" >0.04398</td>\n",
       "            </tr>\n",
       "            <tr>\n",
       "                        <th id=\"T_dd44a2b6_0a1b_11ea_a6fb_107b449f15fclevel0_row4\" class=\"row_heading level0 row4\" >нанотехнологии</th>\n",
       "                        <td id=\"T_dd44a2b6_0a1b_11ea_a6fb_107b449f15fcrow4_col0\" class=\"data row4 col0\" >0.03543</td>\n",
       "            </tr>\n",
       "            <tr>\n",
       "                        <th id=\"T_dd44a2b6_0a1b_11ea_a6fb_107b449f15fclevel0_row5\" class=\"row_heading level0 row5\" >квантовые_технологии</th>\n",
       "                        <td id=\"T_dd44a2b6_0a1b_11ea_a6fb_107b449f15fcrow5_col0\" class=\"data row5 col0\" >0.03518</td>\n",
       "            </tr>\n",
       "            <tr>\n",
       "                        <th id=\"T_dd44a2b6_0a1b_11ea_a6fb_107b449f15fclevel0_row6\" class=\"row_heading level0 row6\" >квантовая_механика</th>\n",
       "                        <td id=\"T_dd44a2b6_0a1b_11ea_a6fb_107b449f15fcrow6_col0\" class=\"data row6 col0\" >0.03431</td>\n",
       "            </tr>\n",
       "            <tr>\n",
       "                        <th id=\"T_dd44a2b6_0a1b_11ea_a6fb_107b449f15fclevel0_row7\" class=\"row_heading level0 row7\" >оптика</th>\n",
       "                        <td id=\"T_dd44a2b6_0a1b_11ea_a6fb_107b449f15fcrow7_col0\" class=\"data row7 col0\" >0.03095</td>\n",
       "            </tr>\n",
       "            <tr>\n",
       "                        <th id=\"T_dd44a2b6_0a1b_11ea_a6fb_107b449f15fclevel0_row8\" class=\"row_heading level0 row8\" >атом</th>\n",
       "                        <td id=\"T_dd44a2b6_0a1b_11ea_a6fb_107b449f15fcrow8_col0\" class=\"data row8 col0\" >0.02841</td>\n",
       "            </tr>\n",
       "            <tr>\n",
       "                        <th id=\"T_dd44a2b6_0a1b_11ea_a6fb_107b449f15fclevel0_row9\" class=\"row_heading level0 row9\" >лазер</th>\n",
       "                        <td id=\"T_dd44a2b6_0a1b_11ea_a6fb_107b449f15fcrow9_col0\" class=\"data row9 col0\" >0.02811</td>\n",
       "            </tr>\n",
       "    </tbody></table><style  type=\"text/css\" >\n",
       "</style><table id=\"T_dd44a2b7_0a1b_11ea_a6fb_107b449f15fc\" style='display:inline'><thead>    <tr>        <th class=\"blank level0\" ></th>        <th class=\"col_heading level0 col0\" >topic_7 @word</th>    </tr></thead><tbody>\n",
       "                <tr>\n",
       "                        <th id=\"T_dd44a2b7_0a1b_11ea_a6fb_107b449f15fclevel0_row0\" class=\"row_heading level0 row0\" >использовать</th>\n",
       "                        <td id=\"T_dd44a2b7_0a1b_11ea_a6fb_107b449f15fcrow0_col0\" class=\"data row0 col0\" >0.00796</td>\n",
       "            </tr>\n",
       "            <tr>\n",
       "                        <th id=\"T_dd44a2b7_0a1b_11ea_a6fb_107b449f15fclevel0_row1\" class=\"row_heading level0 row1\" >свет</th>\n",
       "                        <td id=\"T_dd44a2b7_0a1b_11ea_a6fb_107b449f15fcrow1_col0\" class=\"data row1 col0\" >0.00757</td>\n",
       "            </tr>\n",
       "            <tr>\n",
       "                        <th id=\"T_dd44a2b7_0a1b_11ea_a6fb_107b449f15fclevel0_row2\" class=\"row_heading level0 row2\" >атом</th>\n",
       "                        <td id=\"T_dd44a2b7_0a1b_11ea_a6fb_107b449f15fcrow2_col0\" class=\"data row2 col0\" >0.00738</td>\n",
       "            </tr>\n",
       "            <tr>\n",
       "                        <th id=\"T_dd44a2b7_0a1b_11ea_a6fb_107b449f15fclevel0_row3\" class=\"row_heading level0 row3\" >технология</th>\n",
       "                        <td id=\"T_dd44a2b7_0a1b_11ea_a6fb_107b449f15fcrow3_col0\" class=\"data row3 col0\" >0.00722</td>\n",
       "            </tr>\n",
       "            <tr>\n",
       "                        <th id=\"T_dd44a2b7_0a1b_11ea_a6fb_107b449f15fclevel0_row4\" class=\"row_heading level0 row4\" >система</th>\n",
       "                        <td id=\"T_dd44a2b7_0a1b_11ea_a6fb_107b449f15fcrow4_col0\" class=\"data row4 col0\" >0.00593</td>\n",
       "            </tr>\n",
       "            <tr>\n",
       "                        <th id=\"T_dd44a2b7_0a1b_11ea_a6fb_107b449f15fclevel0_row5\" class=\"row_heading level0 row5\" >фотон</th>\n",
       "                        <td id=\"T_dd44a2b7_0a1b_11ea_a6fb_107b449f15fcrow5_col0\" class=\"data row5 col0\" >0.00535</td>\n",
       "            </tr>\n",
       "            <tr>\n",
       "                        <th id=\"T_dd44a2b7_0a1b_11ea_a6fb_107b449f15fclevel0_row6\" class=\"row_heading level0 row6\" >электрон</th>\n",
       "                        <td id=\"T_dd44a2b7_0a1b_11ea_a6fb_107b449f15fcrow6_col0\" class=\"data row6 col0\" >0.00515</td>\n",
       "            </tr>\n",
       "            <tr>\n",
       "                        <th id=\"T_dd44a2b7_0a1b_11ea_a6fb_107b449f15fclevel0_row7\" class=\"row_heading level0 row7\" >материал</th>\n",
       "                        <td id=\"T_dd44a2b7_0a1b_11ea_a6fb_107b449f15fcrow7_col0\" class=\"data row7 col0\" >0.00513</td>\n",
       "            </tr>\n",
       "            <tr>\n",
       "                        <th id=\"T_dd44a2b7_0a1b_11ea_a6fb_107b449f15fclevel0_row8\" class=\"row_heading level0 row8\" >устройство</th>\n",
       "                        <td id=\"T_dd44a2b7_0a1b_11ea_a6fb_107b449f15fcrow8_col0\" class=\"data row8 col0\" >0.00468</td>\n",
       "            </tr>\n",
       "            <tr>\n",
       "                        <th id=\"T_dd44a2b7_0a1b_11ea_a6fb_107b449f15fclevel0_row9\" class=\"row_heading level0 row9\" >образ</th>\n",
       "                        <td id=\"T_dd44a2b7_0a1b_11ea_a6fb_107b449f15fcrow9_col0\" class=\"data row9 col0\" >0.00449</td>\n",
       "            </tr>\n",
       "    </tbody></table>"
      ]
     },
     "metadata": {},
     "output_type": "display_data"
    },
    {
     "data": {
      "text/html": [
       "<b> faqквантовые интерфейсы </b><br /> 7 фактов об устройствах, позволяющих соединять два разных квантовых объекта друг с другом"
      ]
     },
     "metadata": {},
     "output_type": "display_data"
    },
    {
     "data": {
      "text/html": [
       "<b> что придет на смену кремниевой электронике? </b><br /> физик алексей орлов о проблеме тепловыделения, попытках найти альтернативы кремнию и клеточных автоматах на квантовых точках"
      ]
     },
     "metadata": {},
     "output_type": "display_data"
    },
    {
     "data": {
      "text/html": [
       "<b> эффект переноса спина в спинтронике </b><br /> физик константин звездин о технологических проблемах наноэлектроники, магнитном вихре и генераторе свч-излучения"
      ]
     },
     "metadata": {},
     "output_type": "display_data"
    },
    {
     "data": {
      "text/html": [
       "<b> faqтехнологии производства биотоплива </b><br /> микробиолог зоригто намсараев о биотопливной индустрии и факторах, которые определяют прибыльность того или иного сырья"
      ]
     },
     "metadata": {},
     "output_type": "display_data"
    },
    {
     "data": {
      "text/html": [
       "<b> «квантовая телепортация используется для передачи секретной информации, которую невозможно украсть» </b><br /> интервью с физиком юджином ползиком о современном понимании идеи телепортации, сериале «star trek» и принципах квантовой криптографии"
      ]
     },
     "metadata": {},
     "output_type": "display_data"
    },
    {
     "data": {
      "text/html": [
       "<b> незатухающие токи в металлических кольцах </b><br /> физик андрей семенов о сверхпроводящих кольцах, куперовских парах и многочастичных системах"
      ]
     },
     "metadata": {},
     "output_type": "display_data"
    },
    {
     "data": {
      "text/html": [
       "<b> faqатомная энергетика сегодня </b><br /> 7 фактов о перспективах развития атомной промышленности в современном мире"
      ]
     },
     "metadata": {},
     "output_type": "display_data"
    },
    {
     "data": {
      "text/html": [
       "<b> faqядерный магнитный резонанс </b><br /> 5 фактов о природе магнитных полей, спектре ядерного магнитного резонанса и применении метода ямр в современной химии"
      ]
     },
     "metadata": {},
     "output_type": "display_data"
    },
    {
     "data": {
      "text/html": [
       "<b> точка зрениягенетически модифицированные организмы </b><br /> мнения экспертов постнауки о влиянии гмо на сельское хозяйство, научные исследования и общество"
      ]
     },
     "metadata": {},
     "output_type": "display_data"
    },
    {
     "data": {
      "text/html": [
       "<b> конденсация экситонных поляритонов </b><br /> физик наталия берлофф о квантовом давлении, свойствах поляритонов и эффекте квантовой блокады"
      ]
     },
     "metadata": {},
     "output_type": "display_data"
    },
    {
     "data": {
      "text/html": [
       "<style  type=\"text/css\" >\n",
       "</style><table id=\"T_dd44a2b8_0a1b_11ea_a6fb_107b449f15fc\" style='display:inline'><thead>    <tr>        <th class=\"blank level0\" ></th>        <th class=\"col_heading level0 col0\" >topic_8 @2gramm</th>    </tr></thead><tbody>\n",
       "                <tr>\n",
       "                        <th id=\"T_dd44a2b8_0a1b_11ea_a6fb_107b449f15fclevel0_row0\" class=\"row_heading level0 row0\" >стволовой_клетка</th>\n",
       "                        <td id=\"T_dd44a2b8_0a1b_11ea_a6fb_107b449f15fcrow0_col0\" class=\"data row0 col0\" >0.02826</td>\n",
       "            </tr>\n",
       "            <tr>\n",
       "                        <th id=\"T_dd44a2b8_0a1b_11ea_a6fb_107b449f15fclevel0_row1\" class=\"row_heading level0 row1\" >раковый_клетка</th>\n",
       "                        <td id=\"T_dd44a2b8_0a1b_11ea_a6fb_107b449f15fcrow1_col0\" class=\"data row1 col0\" >0.01422</td>\n",
       "            </tr>\n",
       "            <tr>\n",
       "                        <th id=\"T_dd44a2b8_0a1b_11ea_a6fb_107b449f15fclevel0_row2\" class=\"row_heading level0 row2\" >иммунный_система</th>\n",
       "                        <td id=\"T_dd44a2b8_0a1b_11ea_a6fb_107b449f15fcrow2_col0\" class=\"data row2 col0\" >0.01081</td>\n",
       "            </tr>\n",
       "            <tr>\n",
       "                        <th id=\"T_dd44a2b8_0a1b_11ea_a6fb_107b449f15fclevel0_row3\" class=\"row_heading level0 row3\" >опухолевый_клетка</th>\n",
       "                        <td id=\"T_dd44a2b8_0a1b_11ea_a6fb_107b449f15fcrow3_col0\" class=\"data row3 col0\" >0.00869</td>\n",
       "            </tr>\n",
       "            <tr>\n",
       "                        <th id=\"T_dd44a2b8_0a1b_11ea_a6fb_107b449f15fclevel0_row4\" class=\"row_heading level0 row4\" >метод_лечение</th>\n",
       "                        <td id=\"T_dd44a2b8_0a1b_11ea_a6fb_107b449f15fcrow4_col0\" class=\"data row4 col0\" >0.00855</td>\n",
       "            </tr>\n",
       "            <tr>\n",
       "                        <th id=\"T_dd44a2b8_0a1b_11ea_a6fb_107b449f15fclevel0_row5\" class=\"row_heading level0 row5\" >сахарный_диабет</th>\n",
       "                        <td id=\"T_dd44a2b8_0a1b_11ea_a6fb_107b449f15fcrow5_col0\" class=\"data row5 col0\" >0.00726</td>\n",
       "            </tr>\n",
       "            <tr>\n",
       "                        <th id=\"T_dd44a2b8_0a1b_11ea_a6fb_107b449f15fclevel0_row6\" class=\"row_heading level0 row6\" >продолжительность_жизнь</th>\n",
       "                        <td id=\"T_dd44a2b8_0a1b_11ea_a6fb_107b449f15fcrow6_col0\" class=\"data row6 col0\" >0.00714</td>\n",
       "            </tr>\n",
       "            <tr>\n",
       "                        <th id=\"T_dd44a2b8_0a1b_11ea_a6fb_107b449f15fclevel0_row7\" class=\"row_heading level0 row7\" >клинический_испытание</th>\n",
       "                        <td id=\"T_dd44a2b8_0a1b_11ea_a6fb_107b449f15fcrow7_col0\" class=\"data row7 col0\" >0.00704</td>\n",
       "            </tr>\n",
       "            <tr>\n",
       "                        <th id=\"T_dd44a2b8_0a1b_11ea_a6fb_107b449f15fclevel0_row8\" class=\"row_heading level0 row8\" >сигнальный_путь</th>\n",
       "                        <td id=\"T_dd44a2b8_0a1b_11ea_a6fb_107b449f15fcrow8_col0\" class=\"data row8 col0\" >0.0068</td>\n",
       "            </tr>\n",
       "            <tr>\n",
       "                        <th id=\"T_dd44a2b8_0a1b_11ea_a6fb_107b449f15fclevel0_row9\" class=\"row_heading level0 row9\" >костный_мозг</th>\n",
       "                        <td id=\"T_dd44a2b8_0a1b_11ea_a6fb_107b449f15fcrow9_col0\" class=\"data row9 col0\" >0.00674</td>\n",
       "            </tr>\n",
       "    </tbody></table><style  type=\"text/css\" >\n",
       "</style><table id=\"T_dd44a2b9_0a1b_11ea_a6fb_107b449f15fc\" style='display:inline'><thead>    <tr>        <th class=\"blank level0\" ></th>        <th class=\"col_heading level0 col0\" >topic_8 @3gramm</th>    </tr></thead><tbody>\n",
       "                <tr>\n",
       "                        <th id=\"T_dd44a2b9_0a1b_11ea_a6fb_107b449f15fclevel0_row0\" class=\"row_heading level0 row0\" >эмбриональный_стволовой_клетка</th>\n",
       "                        <td id=\"T_dd44a2b9_0a1b_11ea_a6fb_107b449f15fcrow0_col0\" class=\"data row0 col0\" >0.36857</td>\n",
       "            </tr>\n",
       "            <tr>\n",
       "                        <th id=\"T_dd44a2b9_0a1b_11ea_a6fb_107b449f15fclevel0_row1\" class=\"row_heading level0 row1\" >середина_прошлое_век</th>\n",
       "                        <td id=\"T_dd44a2b9_0a1b_11ea_a6fb_107b449f15fcrow1_col0\" class=\"data row1 col0\" >0.08388</td>\n",
       "            </tr>\n",
       "            <tr>\n",
       "                        <th id=\"T_dd44a2b9_0a1b_11ea_a6fb_107b449f15fclevel0_row2\" class=\"row_heading level0 row2\" >клетка_иммунный_система</th>\n",
       "                        <td id=\"T_dd44a2b9_0a1b_11ea_a6fb_107b449f15fcrow2_col0\" class=\"data row2 col0\" >0.07172</td>\n",
       "            </tr>\n",
       "            <tr>\n",
       "                        <th id=\"T_dd44a2b9_0a1b_11ea_a6fb_107b449f15fclevel0_row3\" class=\"row_heading level0 row3\" >кроветворный_стволовой_клетка</th>\n",
       "                        <td id=\"T_dd44a2b9_0a1b_11ea_a6fb_107b449f15fcrow3_col0\" class=\"data row3 col0\" >0.06412</td>\n",
       "            </tr>\n",
       "            <tr>\n",
       "                        <th id=\"T_dd44a2b9_0a1b_11ea_a6fb_107b449f15fclevel0_row4\" class=\"row_heading level0 row4\" >вид_homo_sapiens</th>\n",
       "                        <td id=\"T_dd44a2b9_0a1b_11ea_a6fb_107b449f15fcrow4_col0\" class=\"data row4 col0\" >0.06374</td>\n",
       "            </tr>\n",
       "            <tr>\n",
       "                        <th id=\"T_dd44a2b9_0a1b_11ea_a6fb_107b449f15fclevel0_row5\" class=\"row_heading level0 row5\" >лечение_онкологический_заболевание</th>\n",
       "                        <td id=\"T_dd44a2b9_0a1b_11ea_a6fb_107b449f15fcrow5_col0\" class=\"data row5 col0\" >0.05134</td>\n",
       "            </tr>\n",
       "            <tr>\n",
       "                        <th id=\"T_dd44a2b9_0a1b_11ea_a6fb_107b449f15fclevel0_row6\" class=\"row_heading level0 row6\" >довольно_сильно_отличаться</th>\n",
       "                        <td id=\"T_dd44a2b9_0a1b_11ea_a6fb_107b449f15fcrow6_col0\" class=\"data row6 col0\" >0.05114</td>\n",
       "            </tr>\n",
       "            <tr>\n",
       "                        <th id=\"T_dd44a2b9_0a1b_11ea_a6fb_107b449f15fclevel0_row7\" class=\"row_heading level0 row7\" >фаза_клинический_испытание</th>\n",
       "                        <td id=\"T_dd44a2b9_0a1b_11ea_a6fb_107b449f15fcrow7_col0\" class=\"data row7 col0\" >0.04546</td>\n",
       "            </tr>\n",
       "            <tr>\n",
       "                        <th id=\"T_dd44a2b9_0a1b_11ea_a6fb_107b449f15fclevel0_row8\" class=\"row_heading level0 row8\" >разработка_новый_лекарство</th>\n",
       "                        <td id=\"T_dd44a2b9_0a1b_11ea_a6fb_107b449f15fcrow8_col0\" class=\"data row8 col0\" >0.03411</td>\n",
       "            </tr>\n",
       "            <tr>\n",
       "                        <th id=\"T_dd44a2b9_0a1b_11ea_a6fb_107b449f15fclevel0_row9\" class=\"row_heading level0 row9\" >изучение_стволовой_клетка</th>\n",
       "                        <td id=\"T_dd44a2b9_0a1b_11ea_a6fb_107b449f15fcrow9_col0\" class=\"data row9 col0\" >0.03409</td>\n",
       "            </tr>\n",
       "    </tbody></table><style  type=\"text/css\" >\n",
       "</style><table id=\"T_dd44a2ba_0a1b_11ea_a6fb_107b449f15fc\" style='display:inline'><thead>    <tr>        <th class=\"blank level0\" ></th>        <th class=\"col_heading level0 col0\" >topic_8 @post_tag</th>    </tr></thead><tbody>\n",
       "                <tr>\n",
       "                        <th id=\"T_dd44a2ba_0a1b_11ea_a6fb_107b449f15fclevel0_row0\" class=\"row_heading level0 row0\" >медицина</th>\n",
       "                        <td id=\"T_dd44a2ba_0a1b_11ea_a6fb_107b449f15fcrow0_col0\" class=\"data row0 col0\" >0.16144</td>\n",
       "            </tr>\n",
       "            <tr>\n",
       "                        <th id=\"T_dd44a2ba_0a1b_11ea_a6fb_107b449f15fclevel0_row1\" class=\"row_heading level0 row1\" >биология</th>\n",
       "                        <td id=\"T_dd44a2ba_0a1b_11ea_a6fb_107b449f15fcrow1_col0\" class=\"data row1 col0\" >0.07706</td>\n",
       "            </tr>\n",
       "            <tr>\n",
       "                        <th id=\"T_dd44a2ba_0a1b_11ea_a6fb_107b449f15fclevel0_row2\" class=\"row_heading level0 row2\" >онкология</th>\n",
       "                        <td id=\"T_dd44a2ba_0a1b_11ea_a6fb_107b449f15fcrow2_col0\" class=\"data row2 col0\" >0.07426</td>\n",
       "            </tr>\n",
       "            <tr>\n",
       "                        <th id=\"T_dd44a2ba_0a1b_11ea_a6fb_107b449f15fclevel0_row3\" class=\"row_heading level0 row3\" >генетика</th>\n",
       "                        <td id=\"T_dd44a2ba_0a1b_11ea_a6fb_107b449f15fcrow3_col0\" class=\"data row3 col0\" >0.06116</td>\n",
       "            </tr>\n",
       "            <tr>\n",
       "                        <th id=\"T_dd44a2ba_0a1b_11ea_a6fb_107b449f15fclevel0_row4\" class=\"row_heading level0 row4\" >биомедицина</th>\n",
       "                        <td id=\"T_dd44a2ba_0a1b_11ea_a6fb_107b449f15fcrow4_col0\" class=\"data row4 col0\" >0.05208</td>\n",
       "            </tr>\n",
       "            <tr>\n",
       "                        <th id=\"T_dd44a2ba_0a1b_11ea_a6fb_107b449f15fclevel0_row5\" class=\"row_heading level0 row5\" >клетка</th>\n",
       "                        <td id=\"T_dd44a2ba_0a1b_11ea_a6fb_107b449f15fcrow5_col0\" class=\"data row5 col0\" >0.04558</td>\n",
       "            </tr>\n",
       "            <tr>\n",
       "                        <th id=\"T_dd44a2ba_0a1b_11ea_a6fb_107b449f15fclevel0_row6\" class=\"row_heading level0 row6\" >стволовые_клетки</th>\n",
       "                        <td id=\"T_dd44a2ba_0a1b_11ea_a6fb_107b449f15fcrow6_col0\" class=\"data row6 col0\" >0.03779</td>\n",
       "            </tr>\n",
       "            <tr>\n",
       "                        <th id=\"T_dd44a2ba_0a1b_11ea_a6fb_107b449f15fclevel0_row7\" class=\"row_heading level0 row7\" >старение</th>\n",
       "                        <td id=\"T_dd44a2ba_0a1b_11ea_a6fb_107b449f15fcrow7_col0\" class=\"data row7 col0\" >0.02985</td>\n",
       "            </tr>\n",
       "            <tr>\n",
       "                        <th id=\"T_dd44a2ba_0a1b_11ea_a6fb_107b449f15fclevel0_row8\" class=\"row_heading level0 row8\" >кардиология</th>\n",
       "                        <td id=\"T_dd44a2ba_0a1b_11ea_a6fb_107b449f15fcrow8_col0\" class=\"data row8 col0\" >0.02952</td>\n",
       "            </tr>\n",
       "            <tr>\n",
       "                        <th id=\"T_dd44a2ba_0a1b_11ea_a6fb_107b449f15fclevel0_row9\" class=\"row_heading level0 row9\" >иммунитет</th>\n",
       "                        <td id=\"T_dd44a2ba_0a1b_11ea_a6fb_107b449f15fcrow9_col0\" class=\"data row9 col0\" >0.02872</td>\n",
       "            </tr>\n",
       "    </tbody></table><style  type=\"text/css\" >\n",
       "</style><table id=\"T_dd44a2bb_0a1b_11ea_a6fb_107b449f15fc\" style='display:inline'><thead>    <tr>        <th class=\"blank level0\" ></th>        <th class=\"col_heading level0 col0\" >topic_8 @word</th>    </tr></thead><tbody>\n",
       "                <tr>\n",
       "                        <th id=\"T_dd44a2bb_0a1b_11ea_a6fb_107b449f15fclevel0_row0\" class=\"row_heading level0 row0\" >клетка</th>\n",
       "                        <td id=\"T_dd44a2bb_0a1b_11ea_a6fb_107b449f15fcrow0_col0\" class=\"data row0 col0\" >0.01768</td>\n",
       "            </tr>\n",
       "            <tr>\n",
       "                        <th id=\"T_dd44a2bb_0a1b_11ea_a6fb_107b449f15fclevel0_row1\" class=\"row_heading level0 row1\" >пациент</th>\n",
       "                        <td id=\"T_dd44a2bb_0a1b_11ea_a6fb_107b449f15fcrow1_col0\" class=\"data row1 col0\" >0.00978</td>\n",
       "            </tr>\n",
       "            <tr>\n",
       "                        <th id=\"T_dd44a2bb_0a1b_11ea_a6fb_107b449f15fclevel0_row2\" class=\"row_heading level0 row2\" >препарат</th>\n",
       "                        <td id=\"T_dd44a2bb_0a1b_11ea_a6fb_107b449f15fcrow2_col0\" class=\"data row2 col0\" >0.00762</td>\n",
       "            </tr>\n",
       "            <tr>\n",
       "                        <th id=\"T_dd44a2bb_0a1b_11ea_a6fb_107b449f15fclevel0_row3\" class=\"row_heading level0 row3\" >заболевание</th>\n",
       "                        <td id=\"T_dd44a2bb_0a1b_11ea_a6fb_107b449f15fcrow3_col0\" class=\"data row3 col0\" >0.00745</td>\n",
       "            </tr>\n",
       "            <tr>\n",
       "                        <th id=\"T_dd44a2bb_0a1b_11ea_a6fb_107b449f15fclevel0_row4\" class=\"row_heading level0 row4\" >болезнь</th>\n",
       "                        <td id=\"T_dd44a2bb_0a1b_11ea_a6fb_107b449f15fcrow4_col0\" class=\"data row4 col0\" >0.00598</td>\n",
       "            </tr>\n",
       "            <tr>\n",
       "                        <th id=\"T_dd44a2bb_0a1b_11ea_a6fb_107b449f15fclevel0_row5\" class=\"row_heading level0 row5\" >ген</th>\n",
       "                        <td id=\"T_dd44a2bb_0a1b_11ea_a6fb_107b449f15fcrow5_col0\" class=\"data row5 col0\" >0.00579</td>\n",
       "            </tr>\n",
       "            <tr>\n",
       "                        <th id=\"T_dd44a2bb_0a1b_11ea_a6fb_107b449f15fclevel0_row6\" class=\"row_heading level0 row6\" >лечение</th>\n",
       "                        <td id=\"T_dd44a2bb_0a1b_11ea_a6fb_107b449f15fcrow6_col0\" class=\"data row6 col0\" >0.00544</td>\n",
       "            </tr>\n",
       "            <tr>\n",
       "                        <th id=\"T_dd44a2bb_0a1b_11ea_a6fb_107b449f15fclevel0_row7\" class=\"row_heading level0 row7\" >врач</th>\n",
       "                        <td id=\"T_dd44a2bb_0a1b_11ea_a6fb_107b449f15fcrow7_col0\" class=\"data row7 col0\" >0.00518</td>\n",
       "            </tr>\n",
       "            <tr>\n",
       "                        <th id=\"T_dd44a2bb_0a1b_11ea_a6fb_107b449f15fclevel0_row8\" class=\"row_heading level0 row8\" >организм</th>\n",
       "                        <td id=\"T_dd44a2bb_0a1b_11ea_a6fb_107b449f15fcrow8_col0\" class=\"data row8 col0\" >0.00506</td>\n",
       "            </tr>\n",
       "            <tr>\n",
       "                        <th id=\"T_dd44a2bb_0a1b_11ea_a6fb_107b449f15fclevel0_row9\" class=\"row_heading level0 row9\" >ткань</th>\n",
       "                        <td id=\"T_dd44a2bb_0a1b_11ea_a6fb_107b449f15fcrow9_col0\" class=\"data row9 col0\" >0.00487</td>\n",
       "            </tr>\n",
       "    </tbody></table>"
      ]
     },
     "metadata": {},
     "output_type": "display_data"
    },
    {
     "data": {
      "text/html": [
       "<b> faqэмбриональные стволовые клетки </b><br /> 7 фактов об уникальном типе плюрипотентных клеток млекопитающих"
      ]
     },
     "metadata": {},
     "output_type": "display_data"
    },
    {
     "data": {
      "text/html": [
       "<b> новые технологии в лечении болезней зрения </b><br /> биолог сергей киселев об амаврозе лебера, возрастных заболеваниях глаз и трансплантации эмбриональных стволовых клеток"
      ]
     },
     "metadata": {},
     "output_type": "display_data"
    },
    {
     "data": {
      "text/html": [
       "<b> прямая речьсергей киселев </b><br /> об изучении стволовых клеток, опасности клонирования мамонта и состоянии отечественной науки"
      ]
     },
     "metadata": {},
     "output_type": "display_data"
    },
    {
     "data": {
      "text/html": [
       "<b> как пациенту пересадили сетчатку глаза из «искусственных» клеток? </b><br /> о получении индуцированных плюрипотентных стволовых клеток и их применении в медицине"
      ]
     },
     "metadata": {},
     "output_type": "display_data"
    },
    {
     "data": {
      "text/html": [
       "<b> вич-ассоциированное поражение миокарда и способы его защиты </b><br /> способен ли антиоксидант процистеин предотвращать развитие вич-индуцированной кардиомиопатии"
      ]
     },
     "metadata": {},
     "output_type": "display_data"
    },
    {
     "data": {
      "text/html": [
       "<b> кроветворные стволовые клетки </b><br /> биолог джеральд де хаан об образовании крови, трансплантации костного мозга и лечении гемофилии"
      ]
     },
     "metadata": {},
     "output_type": "display_data"
    },
    {
     "data": {
      "text/html": [
       "<b> press-лекция # как сделать из одной клетки другуюхроники трансформаций </b><br /> генетик мария шутова о выращивании органов, культивировании ранних эмбриональных клеток и о биомедицинском применении их искусственных аналогов"
      ]
     },
     "metadata": {},
     "output_type": "display_data"
    },
    {
     "data": {
      "text/html": [
       "<b> эпигенетика и клонирование </b><br /> биолог рудольф йениш об овце долли, терапевтическом клонировании у млекопитающих и перепрограммировании клеток"
      ]
     },
     "metadata": {},
     "output_type": "display_data"
    },
    {
     "data": {
      "text/html": [
       "<b> faqлабораторные исследования вич-инфекции </b><br /> 7 фактов об изучении вируса иммунодефицита человека в контролируемых условиях"
      ]
     },
     "metadata": {},
     "output_type": "display_data"
    },
    {
     "data": {
      "text/html": [
       "<b> старение кроветворных стволовых клеток </b><br /> биолог джеральд де хаан о функционировании стволовых клеток, технологии омоложения и геномных мутациях"
      ]
     },
     "metadata": {},
     "output_type": "display_data"
    },
    {
     "data": {
      "text/html": [
       "<style  type=\"text/css\" >\n",
       "</style><table id=\"T_dd44a2bc_0a1b_11ea_a6fb_107b449f15fc\" style='display:inline'><thead>    <tr>        <th class=\"blank level0\" ></th>        <th class=\"col_heading level0 col0\" >topic_9 @2gramm</th>    </tr></thead><tbody>\n",
       "                <tr>\n",
       "                        <th id=\"T_dd44a2bc_0a1b_11ea_a6fb_107b449f15fclevel0_row0\" class=\"row_heading level0 row0\" >элементарный_частица</th>\n",
       "                        <td id=\"T_dd44a2bc_0a1b_11ea_a6fb_107b449f15fcrow0_col0\" class=\"data row0 col0\" >0.03435</td>\n",
       "            </tr>\n",
       "            <tr>\n",
       "                        <th id=\"T_dd44a2bc_0a1b_11ea_a6fb_107b449f15fclevel0_row1\" class=\"row_heading level0 row1\" >стандартный_модель</th>\n",
       "                        <td id=\"T_dd44a2bc_0a1b_11ea_a6fb_107b449f15fcrow1_col0\" class=\"data row1 col0\" >0.03326</td>\n",
       "            </tr>\n",
       "            <tr>\n",
       "                        <th id=\"T_dd44a2bc_0a1b_11ea_a6fb_107b449f15fclevel0_row2\" class=\"row_heading level0 row2\" >бозон_хиггс</th>\n",
       "                        <td id=\"T_dd44a2bc_0a1b_11ea_a6fb_107b449f15fcrow2_col0\" class=\"data row2 col0\" >0.02585</td>\n",
       "            </tr>\n",
       "            <tr>\n",
       "                        <th id=\"T_dd44a2bc_0a1b_11ea_a6fb_107b449f15fclevel0_row3\" class=\"row_heading level0 row3\" >тёмный_материя</th>\n",
       "                        <td id=\"T_dd44a2bc_0a1b_11ea_a6fb_107b449f15fcrow3_col0\" class=\"data row3 col0\" >0.01392</td>\n",
       "            </tr>\n",
       "            <tr>\n",
       "                        <th id=\"T_dd44a2bc_0a1b_11ea_a6fb_107b449f15fclevel0_row4\" class=\"row_heading level0 row4\" >хиггсовский_бозон</th>\n",
       "                        <td id=\"T_dd44a2bc_0a1b_11ea_a6fb_107b449f15fcrow4_col0\" class=\"data row4 col0\" >0.01185</td>\n",
       "            </tr>\n",
       "            <tr>\n",
       "                        <th id=\"T_dd44a2bc_0a1b_11ea_a6fb_107b449f15fclevel0_row5\" class=\"row_heading level0 row5\" >электрический_заряд</th>\n",
       "                        <td id=\"T_dd44a2bc_0a1b_11ea_a6fb_107b449f15fcrow5_col0\" class=\"data row5 col0\" >0.01112</td>\n",
       "            </tr>\n",
       "            <tr>\n",
       "                        <th id=\"T_dd44a2bc_0a1b_11ea_a6fb_107b449f15fclevel0_row6\" class=\"row_heading level0 row6\" >сильный_взаимодействие</th>\n",
       "                        <td id=\"T_dd44a2bc_0a1b_11ea_a6fb_107b449f15fcrow6_col0\" class=\"data row6 col0\" >0.01047</td>\n",
       "            </tr>\n",
       "            <tr>\n",
       "                        <th id=\"T_dd44a2bc_0a1b_11ea_a6fb_107b449f15fclevel0_row7\" class=\"row_heading level0 row7\" >слабый_взаимодействие</th>\n",
       "                        <td id=\"T_dd44a2bc_0a1b_11ea_a6fb_107b449f15fcrow7_col0\" class=\"data row7 col0\" >0.00963</td>\n",
       "            </tr>\n",
       "            <tr>\n",
       "                        <th id=\"T_dd44a2bc_0a1b_11ea_a6fb_107b449f15fclevel0_row8\" class=\"row_heading level0 row8\" >высокий_энергия</th>\n",
       "                        <td id=\"T_dd44a2bc_0a1b_11ea_a6fb_107b449f15fcrow8_col0\" class=\"data row8 col0\" >0.0096</td>\n",
       "            </tr>\n",
       "            <tr>\n",
       "                        <th id=\"T_dd44a2bc_0a1b_11ea_a6fb_107b449f15fclevel0_row9\" class=\"row_heading level0 row9\" >космический_луч</th>\n",
       "                        <td id=\"T_dd44a2bc_0a1b_11ea_a6fb_107b449f15fcrow9_col0\" class=\"data row9 col0\" >0.00944</td>\n",
       "            </tr>\n",
       "    </tbody></table><style  type=\"text/css\" >\n",
       "</style><table id=\"T_dd44a2bd_0a1b_11ea_a6fb_107b449f15fc\" style='display:inline'><thead>    <tr>        <th class=\"blank level0\" ></th>        <th class=\"col_heading level0 col0\" >topic_9 @3gramm</th>    </tr></thead><tbody>\n",
       "                <tr>\n",
       "                        <th id=\"T_dd44a2bd_0a1b_11ea_a6fb_107b449f15fclevel0_row0\" class=\"row_heading level0 row0\" >большой_адронный_коллайдер</th>\n",
       "                        <td id=\"T_dd44a2bd_0a1b_11ea_a6fb_107b449f15fcrow0_col0\" class=\"data row0 col0\" >0.22469</td>\n",
       "            </tr>\n",
       "            <tr>\n",
       "                        <th id=\"T_dd44a2bd_0a1b_11ea_a6fb_107b449f15fclevel0_row1\" class=\"row_heading level0 row1\" >физика_элементарный_частица</th>\n",
       "                        <td id=\"T_dd44a2bd_0a1b_11ea_a6fb_107b449f15fcrow1_col0\" class=\"data row1 col0\" >0.20374</td>\n",
       "            </tr>\n",
       "            <tr>\n",
       "                        <th id=\"T_dd44a2bd_0a1b_11ea_a6fb_107b449f15fclevel0_row2\" class=\"row_heading level0 row2\" >физик_элементарный_частица</th>\n",
       "                        <td id=\"T_dd44a2bd_0a1b_11ea_a6fb_107b449f15fcrow2_col0\" class=\"data row2 col0\" >0.05178</td>\n",
       "            </tr>\n",
       "            <tr>\n",
       "                        <th id=\"T_dd44a2bd_0a1b_11ea_a6fb_107b449f15fclevel0_row3\" class=\"row_heading level0 row3\" >рамка_стандартный_модель</th>\n",
       "                        <td id=\"T_dd44a2bd_0a1b_11ea_a6fb_107b449f15fcrow3_col0\" class=\"data row3 col0\" >0.04732</td>\n",
       "            </tr>\n",
       "            <tr>\n",
       "                        <th id=\"T_dd44a2bd_0a1b_11ea_a6fb_107b449f15fclevel0_row4\" class=\"row_heading level0 row4\" >активный_форма_кислород</th>\n",
       "                        <td id=\"T_dd44a2bd_0a1b_11ea_a6fb_107b449f15fcrow4_col0\" class=\"data row4 col0\" >0.04514</td>\n",
       "            </tr>\n",
       "            <tr>\n",
       "                        <th id=\"T_dd44a2bd_0a1b_11ea_a6fb_107b449f15fclevel0_row5\" class=\"row_heading level0 row5\" >открытие_бозон_хиггс</th>\n",
       "                        <td id=\"T_dd44a2bd_0a1b_11ea_a6fb_107b449f15fcrow5_col0\" class=\"data row5 col0\" >0.04047</td>\n",
       "            </tr>\n",
       "            <tr>\n",
       "                        <th id=\"T_dd44a2bd_0a1b_11ea_a6fb_107b449f15fclevel0_row6\" class=\"row_heading level0 row6\" >физика_высокий_энергия</th>\n",
       "                        <td id=\"T_dd44a2bd_0a1b_11ea_a6fb_107b449f15fcrow6_col0\" class=\"data row6 col0\" >0.03598</td>\n",
       "            </tr>\n",
       "            <tr>\n",
       "                        <th id=\"T_dd44a2bd_0a1b_11ea_a6fb_107b449f15fclevel0_row7\" class=\"row_heading level0 row7\" >частица_стандартный_модель</th>\n",
       "                        <td id=\"T_dd44a2bd_0a1b_11ea_a6fb_107b449f15fcrow7_col0\" class=\"data row7 col0\" >0.02931</td>\n",
       "            </tr>\n",
       "            <tr>\n",
       "                        <th id=\"T_dd44a2bd_0a1b_11ea_a6fb_107b449f15fclevel0_row8\" class=\"row_heading level0 row8\" >переносчик_слабый_взаимодействие</th>\n",
       "                        <td id=\"T_dd44a2bd_0a1b_11ea_a6fb_107b449f15fcrow8_col0\" class=\"data row8 col0\" >0.02927</td>\n",
       "            </tr>\n",
       "            <tr>\n",
       "                        <th id=\"T_dd44a2bd_0a1b_11ea_a6fb_107b449f15fclevel0_row9\" class=\"row_heading level0 row9\" >различие_свойство_материя</th>\n",
       "                        <td id=\"T_dd44a2bd_0a1b_11ea_a6fb_107b449f15fcrow9_col0\" class=\"data row9 col0\" >0.02701</td>\n",
       "            </tr>\n",
       "    </tbody></table><style  type=\"text/css\" >\n",
       "</style><table id=\"T_dd44a2be_0a1b_11ea_a6fb_107b449f15fc\" style='display:inline'><thead>    <tr>        <th class=\"blank level0\" ></th>        <th class=\"col_heading level0 col0\" >topic_9 @post_tag</th>    </tr></thead><tbody>\n",
       "                <tr>\n",
       "                        <th id=\"T_dd44a2be_0a1b_11ea_a6fb_107b449f15fclevel0_row0\" class=\"row_heading level0 row0\" >физика</th>\n",
       "                        <td id=\"T_dd44a2be_0a1b_11ea_a6fb_107b449f15fcrow0_col0\" class=\"data row0 col0\" >0.1575</td>\n",
       "            </tr>\n",
       "            <tr>\n",
       "                        <th id=\"T_dd44a2be_0a1b_11ea_a6fb_107b449f15fclevel0_row1\" class=\"row_heading level0 row1\" >физика_элементарных_частиц</th>\n",
       "                        <td id=\"T_dd44a2be_0a1b_11ea_a6fb_107b449f15fcrow1_col0\" class=\"data row1 col0\" >0.11836</td>\n",
       "            </tr>\n",
       "            <tr>\n",
       "                        <th id=\"T_dd44a2be_0a1b_11ea_a6fb_107b449f15fclevel0_row2\" class=\"row_heading level0 row2\" >элементарная_частица</th>\n",
       "                        <td id=\"T_dd44a2be_0a1b_11ea_a6fb_107b449f15fcrow2_col0\" class=\"data row2 col0\" >0.06144</td>\n",
       "            </tr>\n",
       "            <tr>\n",
       "                        <th id=\"T_dd44a2be_0a1b_11ea_a6fb_107b449f15fclevel0_row3\" class=\"row_heading level0 row3\" >кварк</th>\n",
       "                        <td id=\"T_dd44a2be_0a1b_11ea_a6fb_107b449f15fcrow3_col0\" class=\"data row3 col0\" >0.05995</td>\n",
       "            </tr>\n",
       "            <tr>\n",
       "                        <th id=\"T_dd44a2be_0a1b_11ea_a6fb_107b449f15fclevel0_row4\" class=\"row_heading level0 row4\" >бозон_хиггса</th>\n",
       "                        <td id=\"T_dd44a2be_0a1b_11ea_a6fb_107b449f15fcrow4_col0\" class=\"data row4 col0\" >0.05687</td>\n",
       "            </tr>\n",
       "            <tr>\n",
       "                        <th id=\"T_dd44a2be_0a1b_11ea_a6fb_107b449f15fclevel0_row5\" class=\"row_heading level0 row5\" >большой_адронный_коллайдер</th>\n",
       "                        <td id=\"T_dd44a2be_0a1b_11ea_a6fb_107b449f15fcrow5_col0\" class=\"data row5 col0\" >0.05534</td>\n",
       "            </tr>\n",
       "            <tr>\n",
       "                        <th id=\"T_dd44a2be_0a1b_11ea_a6fb_107b449f15fclevel0_row6\" class=\"row_heading level0 row6\" >стандартная_модель</th>\n",
       "                        <td id=\"T_dd44a2be_0a1b_11ea_a6fb_107b449f15fcrow6_col0\" class=\"data row6 col0\" >0.05205</td>\n",
       "            </tr>\n",
       "            <tr>\n",
       "                        <th id=\"T_dd44a2be_0a1b_11ea_a6fb_107b449f15fclevel0_row7\" class=\"row_heading level0 row7\" >симметрия</th>\n",
       "                        <td id=\"T_dd44a2be_0a1b_11ea_a6fb_107b449f15fcrow7_col0\" class=\"data row7 col0\" >0.03685</td>\n",
       "            </tr>\n",
       "            <tr>\n",
       "                        <th id=\"T_dd44a2be_0a1b_11ea_a6fb_107b449f15fclevel0_row8\" class=\"row_heading level0 row8\" >нейтрино</th>\n",
       "                        <td id=\"T_dd44a2be_0a1b_11ea_a6fb_107b449f15fcrow8_col0\" class=\"data row8 col0\" >0.0349</td>\n",
       "            </tr>\n",
       "            <tr>\n",
       "                        <th id=\"T_dd44a2be_0a1b_11ea_a6fb_107b449f15fclevel0_row9\" class=\"row_heading level0 row9\" >коллайдер</th>\n",
       "                        <td id=\"T_dd44a2be_0a1b_11ea_a6fb_107b449f15fcrow9_col0\" class=\"data row9 col0\" >0.02766</td>\n",
       "            </tr>\n",
       "    </tbody></table><style  type=\"text/css\" >\n",
       "</style><table id=\"T_dd44a2bf_0a1b_11ea_a6fb_107b449f15fc\" style='display:inline'><thead>    <tr>        <th class=\"blank level0\" ></th>        <th class=\"col_heading level0 col0\" >topic_9 @word</th>    </tr></thead><tbody>\n",
       "                <tr>\n",
       "                        <th id=\"T_dd44a2bf_0a1b_11ea_a6fb_107b449f15fclevel0_row0\" class=\"row_heading level0 row0\" >частица</th>\n",
       "                        <td id=\"T_dd44a2bf_0a1b_11ea_a6fb_107b449f15fcrow0_col0\" class=\"data row0 col0\" >0.02545</td>\n",
       "            </tr>\n",
       "            <tr>\n",
       "                        <th id=\"T_dd44a2bf_0a1b_11ea_a6fb_107b449f15fclevel0_row1\" class=\"row_heading level0 row1\" >кварк</th>\n",
       "                        <td id=\"T_dd44a2bf_0a1b_11ea_a6fb_107b449f15fcrow1_col0\" class=\"data row1 col0\" >0.0164</td>\n",
       "            </tr>\n",
       "            <tr>\n",
       "                        <th id=\"T_dd44a2bf_0a1b_11ea_a6fb_107b449f15fclevel0_row2\" class=\"row_heading level0 row2\" >энергия</th>\n",
       "                        <td id=\"T_dd44a2bf_0a1b_11ea_a6fb_107b449f15fcrow2_col0\" class=\"data row2 col0\" >0.00861</td>\n",
       "            </tr>\n",
       "            <tr>\n",
       "                        <th id=\"T_dd44a2bf_0a1b_11ea_a6fb_107b449f15fclevel0_row3\" class=\"row_heading level0 row3\" >электрон</th>\n",
       "                        <td id=\"T_dd44a2bf_0a1b_11ea_a6fb_107b449f15fcrow3_col0\" class=\"data row3 col0\" >0.00838</td>\n",
       "            </tr>\n",
       "            <tr>\n",
       "                        <th id=\"T_dd44a2bf_0a1b_11ea_a6fb_107b449f15fclevel0_row4\" class=\"row_heading level0 row4\" >симметрия</th>\n",
       "                        <td id=\"T_dd44a2bf_0a1b_11ea_a6fb_107b449f15fcrow4_col0\" class=\"data row4 col0\" >0.00772</td>\n",
       "            </tr>\n",
       "            <tr>\n",
       "                        <th id=\"T_dd44a2bf_0a1b_11ea_a6fb_107b449f15fclevel0_row5\" class=\"row_heading level0 row5\" >эксперимент</th>\n",
       "                        <td id=\"T_dd44a2bf_0a1b_11ea_a6fb_107b449f15fcrow5_col0\" class=\"data row5 col0\" >0.00706</td>\n",
       "            </tr>\n",
       "            <tr>\n",
       "                        <th id=\"T_dd44a2bf_0a1b_11ea_a6fb_107b449f15fclevel0_row6\" class=\"row_heading level0 row6\" >протон</th>\n",
       "                        <td id=\"T_dd44a2bf_0a1b_11ea_a6fb_107b449f15fcrow6_col0\" class=\"data row6 col0\" >0.00705</td>\n",
       "            </tr>\n",
       "            <tr>\n",
       "                        <th id=\"T_dd44a2bf_0a1b_11ea_a6fb_107b449f15fclevel0_row7\" class=\"row_heading level0 row7\" >масса</th>\n",
       "                        <td id=\"T_dd44a2bf_0a1b_11ea_a6fb_107b449f15fcrow7_col0\" class=\"data row7 col0\" >0.00681</td>\n",
       "            </tr>\n",
       "            <tr>\n",
       "                        <th id=\"T_dd44a2bf_0a1b_11ea_a6fb_107b449f15fclevel0_row8\" class=\"row_heading level0 row8\" >нейтрино</th>\n",
       "                        <td id=\"T_dd44a2bf_0a1b_11ea_a6fb_107b449f15fcrow8_col0\" class=\"data row8 col0\" >0.00571</td>\n",
       "            </tr>\n",
       "            <tr>\n",
       "                        <th id=\"T_dd44a2bf_0a1b_11ea_a6fb_107b449f15fclevel0_row9\" class=\"row_heading level0 row9\" >ускоритель</th>\n",
       "                        <td id=\"T_dd44a2bf_0a1b_11ea_a6fb_107b449f15fcrow9_col0\" class=\"data row9 col0\" >0.00519</td>\n",
       "            </tr>\n",
       "    </tbody></table>"
      ]
     },
     "metadata": {},
     "output_type": "display_data"
    },
    {
     "data": {
      "text/html": [
       "<b> симметрии в мире элементарных частиц </b><br /> физик дмитрий казаков о типах преобразований в физике частиц, лоренц-инвариантности и нарушениях симметрии"
      ]
     },
     "metadata": {},
     "output_type": "display_data"
    },
    {
     "data": {
      "text/html": [
       "<b> спонтанное нарушение симметрии </b><br /> физик дмитрий казаков о массах частиц, слабых взаимодействиях и теореме голдстоуна"
      ]
     },
     "metadata": {},
     "output_type": "display_data"
    },
    {
     "data": {
      "text/html": [
       "<b> faqстандартная модель </b><br /> 7 фактов об одной из самых совершенных теорий современной физики"
      ]
     },
     "metadata": {},
     "output_type": "display_data"
    },
    {
     "data": {
      "text/html": [
       "<b> faqтоп-кварк </b><br /> 7 фактов о наиболее массивной частице стандартной модели"
      ]
     },
     "metadata": {},
     "output_type": "display_data"
    },
    {
     "data": {
      "text/html": [
       "<b> три поколения кварков </b><br /> физик михаил данилов о гипотезе поля дирака, стандартной модели и японской фабрике «прелести»"
      ]
     },
     "metadata": {},
     "output_type": "display_data"
    },
    {
     "data": {
      "text/html": [
       "<b> адроны </b><br /> физик дмитрий казаков о мире мезонов и барионов, свойствах кварков и адронных резонансах"
      ]
     },
     "metadata": {},
     "output_type": "display_data"
    },
    {
     "data": {
      "text/html": [
       "<b> faqcp-нарушение в кварках </b><br /> 7 фактов о смешивании поколений кварков, экспериментах на бак и асимметрии в мире элементарных частиц"
      ]
     },
     "metadata": {},
     "output_type": "display_data"
    },
    {
     "data": {
      "text/html": [
       "<b> линейный коллайдер </b><br /> физик михаил данилов о недостатках стандартной модели,  изучении t-кварка и поиске новых измерений"
      ]
     },
     "metadata": {},
     "output_type": "display_data"
    },
    {
     "data": {
      "text/html": [
       "<b> антиоксиданты и сердечно-сосудистые заболевания </b><br /> фармаколог олег медведев о компонентах антиоксидантной системы, формах коэнзима и новых свойствах водорода"
      ]
     },
     "metadata": {},
     "output_type": "display_data"
    },
    {
     "data": {
      "text/html": [
       "<b> стандартная модель </b><br /> физик михаил данилов об экспериментах на коллайдерах, массе фундаментальных частиц и суперсимметрии"
      ]
     },
     "metadata": {},
     "output_type": "display_data"
    },
    {
     "data": {
      "text/html": [
       "<style  type=\"text/css\" >\n",
       "</style><table id=\"T_dd44a2c0_0a1b_11ea_a6fb_107b449f15fc\" style='display:inline'><thead>    <tr>        <th class=\"blank level0\" ></th>        <th class=\"col_heading level0 col0\" >topic_10 @2gramm</th>    </tr></thead><tbody>\n",
       "                <tr>\n",
       "                        <th id=\"T_dd44a2c0_0a1b_11ea_a6fb_107b449f15fclevel0_row0\" class=\"row_heading level0 row0\" >социальный_жизнь</th>\n",
       "                        <td id=\"T_dd44a2c0_0a1b_11ea_a6fb_107b449f15fcrow0_col0\" class=\"data row0 col0\" >0.00996</td>\n",
       "            </tr>\n",
       "            <tr>\n",
       "                        <th id=\"T_dd44a2c0_0a1b_11ea_a6fb_107b449f15fclevel0_row1\" class=\"row_heading level0 row1\" >социальный_взаимодействие</th>\n",
       "                        <td id=\"T_dd44a2c0_0a1b_11ea_a6fb_107b449f15fcrow1_col0\" class=\"data row1 col0\" >0.00964</td>\n",
       "            </tr>\n",
       "            <tr>\n",
       "                        <th id=\"T_dd44a2c0_0a1b_11ea_a6fb_107b449f15fclevel0_row2\" class=\"row_heading level0 row2\" >повседневный_жизнь</th>\n",
       "                        <td id=\"T_dd44a2c0_0a1b_11ea_a6fb_107b449f15fcrow2_col0\" class=\"data row2 col0\" >0.00895</td>\n",
       "            </tr>\n",
       "            <tr>\n",
       "                        <th id=\"T_dd44a2c0_0a1b_11ea_a6fb_107b449f15fclevel0_row3\" class=\"row_heading level0 row3\" >иммунный_система</th>\n",
       "                        <td id=\"T_dd44a2c0_0a1b_11ea_a6fb_107b449f15fcrow3_col0\" class=\"data row3 col0\" >0.00888</td>\n",
       "            </tr>\n",
       "            <tr>\n",
       "                        <th id=\"T_dd44a2c0_0a1b_11ea_a6fb_107b449f15fclevel0_row4\" class=\"row_heading level0 row4\" >социология_повседневность</th>\n",
       "                        <td id=\"T_dd44a2c0_0a1b_11ea_a6fb_107b449f15fcrow4_col0\" class=\"data row4 col0\" >0.00797</td>\n",
       "            </tr>\n",
       "            <tr>\n",
       "                        <th id=\"T_dd44a2c0_0a1b_11ea_a6fb_107b449f15fclevel0_row5\" class=\"row_heading level0 row5\" >старший_возраст</th>\n",
       "                        <td id=\"T_dd44a2c0_0a1b_11ea_a6fb_107b449f15fcrow5_col0\" class=\"data row5 col0\" >0.00764</td>\n",
       "            </tr>\n",
       "            <tr>\n",
       "                        <th id=\"T_dd44a2c0_0a1b_11ea_a6fb_107b449f15fclevel0_row6\" class=\"row_heading level0 row6\" >теория_фрейм</th>\n",
       "                        <td id=\"T_dd44a2c0_0a1b_11ea_a6fb_107b449f15fcrow6_col0\" class=\"data row6 col0\" >0.00754</td>\n",
       "            </tr>\n",
       "            <tr>\n",
       "                        <th id=\"T_dd44a2c0_0a1b_11ea_a6fb_107b449f15fclevel0_row7\" class=\"row_heading level0 row7\" >материальный_объект</th>\n",
       "                        <td id=\"T_dd44a2c0_0a1b_11ea_a6fb_107b449f15fcrow7_col0\" class=\"data row7 col0\" >0.00724</td>\n",
       "            </tr>\n",
       "            <tr>\n",
       "                        <th id=\"T_dd44a2c0_0a1b_11ea_a6fb_107b449f15fclevel0_row8\" class=\"row_heading level0 row8\" >король_артур</th>\n",
       "                        <td id=\"T_dd44a2c0_0a1b_11ea_a6fb_107b449f15fcrow8_col0\" class=\"data row8 col0\" >0.00701</td>\n",
       "            </tr>\n",
       "            <tr>\n",
       "                        <th id=\"T_dd44a2c0_0a1b_11ea_a6fb_107b449f15fclevel0_row9\" class=\"row_heading level0 row9\" >социальный_роль</th>\n",
       "                        <td id=\"T_dd44a2c0_0a1b_11ea_a6fb_107b449f15fcrow9_col0\" class=\"data row9 col0\" >0.00624</td>\n",
       "            </tr>\n",
       "    </tbody></table><style  type=\"text/css\" >\n",
       "</style><table id=\"T_dd44a2c1_0a1b_11ea_a6fb_107b449f15fc\" style='display:inline'><thead>    <tr>        <th class=\"blank level0\" ></th>        <th class=\"col_heading level0 col0\" >topic_10 @3gramm</th>    </tr></thead><tbody>\n",
       "                <tr>\n",
       "                        <th id=\"T_dd44a2c1_0a1b_11ea_a6fb_107b449f15fclevel0_row0\" class=\"row_heading level0 row0\" >великий_французский_революция</th>\n",
       "                        <td id=\"T_dd44a2c1_0a1b_11ea_a6fb_107b449f15fcrow0_col0\" class=\"data row0 col0\" >0.16152</td>\n",
       "            </tr>\n",
       "            <tr>\n",
       "                        <th id=\"T_dd44a2c1_0a1b_11ea_a6fb_107b449f15fclevel0_row1\" class=\"row_heading level0 row1\" >работа_иммунный_система</th>\n",
       "                        <td id=\"T_dd44a2c1_0a1b_11ea_a6fb_107b449f15fcrow1_col0\" class=\"data row1 col0\" >0.10512</td>\n",
       "            </tr>\n",
       "            <tr>\n",
       "                        <th id=\"T_dd44a2c1_0a1b_11ea_a6fb_107b449f15fclevel0_row2\" class=\"row_heading level0 row2\" >образование_планетный_система</th>\n",
       "                        <td id=\"T_dd44a2c1_0a1b_11ea_a6fb_107b449f15fcrow2_col0\" class=\"data row2 col0\" >0.10483</td>\n",
       "            </tr>\n",
       "            <tr>\n",
       "                        <th id=\"T_dd44a2c1_0a1b_11ea_a6fb_107b449f15fclevel0_row3\" class=\"row_heading level0 row3\" >играть_ключевой_роль</th>\n",
       "                        <td id=\"T_dd44a2c1_0a1b_11ea_a6fb_107b449f15fcrow3_col0\" class=\"data row3 col0\" >0.09046</td>\n",
       "            </tr>\n",
       "            <tr>\n",
       "                        <th id=\"T_dd44a2c1_0a1b_11ea_a6fb_107b449f15fclevel0_row4\" class=\"row_heading level0 row4\" >успех_физический_наука</th>\n",
       "                        <td id=\"T_dd44a2c1_0a1b_11ea_a6fb_107b449f15fcrow4_col0\" class=\"data row4 col0\" >0.05885</td>\n",
       "            </tr>\n",
       "            <tr>\n",
       "                        <th id=\"T_dd44a2c1_0a1b_11ea_a6fb_107b449f15fclevel0_row5\" class=\"row_heading level0 row5\" >разный_социальный_группа</th>\n",
       "                        <td id=\"T_dd44a2c1_0a1b_11ea_a6fb_107b449f15fcrow5_col0\" class=\"data row5 col0\" >0.05228</td>\n",
       "            </tr>\n",
       "            <tr>\n",
       "                        <th id=\"T_dd44a2c1_0a1b_11ea_a6fb_107b449f15fclevel0_row6\" class=\"row_heading level0 row6\" >отмена_крепостной_право</th>\n",
       "                        <td id=\"T_dd44a2c1_0a1b_11ea_a6fb_107b449f15fcrow6_col0\" class=\"data row6 col0\" >0.04544</td>\n",
       "            </tr>\n",
       "            <tr>\n",
       "                        <th id=\"T_dd44a2c1_0a1b_11ea_a6fb_107b449f15fclevel0_row7\" class=\"row_heading level0 row7\" >кретьен_де_труа</th>\n",
       "                        <td id=\"T_dd44a2c1_0a1b_11ea_a6fb_107b449f15fcrow7_col0\" class=\"data row7 col0\" >0.03876</td>\n",
       "            </tr>\n",
       "            <tr>\n",
       "                        <th id=\"T_dd44a2c1_0a1b_11ea_a6fb_107b449f15fclevel0_row8\" class=\"row_heading level0 row8\" >далеко_идти_последствие</th>\n",
       "                        <td id=\"T_dd44a2c1_0a1b_11ea_a6fb_107b449f15fcrow8_col0\" class=\"data row8 col0\" >0.03871</td>\n",
       "            </tr>\n",
       "            <tr>\n",
       "                        <th id=\"T_dd44a2c1_0a1b_11ea_a6fb_107b449f15fclevel0_row9\" class=\"row_heading level0 row9\" >играть_значительный_роль</th>\n",
       "                        <td id=\"T_dd44a2c1_0a1b_11ea_a6fb_107b449f15fcrow9_col0\" class=\"data row9 col0\" >0.03859</td>\n",
       "            </tr>\n",
       "    </tbody></table><style  type=\"text/css\" >\n",
       "</style><table id=\"T_dd44a2c2_0a1b_11ea_a6fb_107b449f15fc\" style='display:inline'><thead>    <tr>        <th class=\"blank level0\" ></th>        <th class=\"col_heading level0 col0\" >topic_10 @post_tag</th>    </tr></thead><tbody>\n",
       "                <tr>\n",
       "                        <th id=\"T_dd44a2c2_0a1b_11ea_a6fb_107b449f15fclevel0_row0\" class=\"row_heading level0 row0\" >социология</th>\n",
       "                        <td id=\"T_dd44a2c2_0a1b_11ea_a6fb_107b449f15fcrow0_col0\" class=\"data row0 col0\" >0.34201</td>\n",
       "            </tr>\n",
       "            <tr>\n",
       "                        <th id=\"T_dd44a2c2_0a1b_11ea_a6fb_107b449f15fclevel0_row1\" class=\"row_heading level0 row1\" >социология_повседневности</th>\n",
       "                        <td id=\"T_dd44a2c2_0a1b_11ea_a6fb_107b449f15fcrow1_col0\" class=\"data row1 col0\" >0.07641</td>\n",
       "            </tr>\n",
       "            <tr>\n",
       "                        <th id=\"T_dd44a2c2_0a1b_11ea_a6fb_107b449f15fclevel0_row2\" class=\"row_heading level0 row2\" >гоффман_эрвинг</th>\n",
       "                        <td id=\"T_dd44a2c2_0a1b_11ea_a6fb_107b449f15fcrow2_col0\" class=\"data row2 col0\" >0.0487</td>\n",
       "            </tr>\n",
       "            <tr>\n",
       "                        <th id=\"T_dd44a2c2_0a1b_11ea_a6fb_107b449f15fclevel0_row3\" class=\"row_heading level0 row3\" >стресс</th>\n",
       "                        <td id=\"T_dd44a2c2_0a1b_11ea_a6fb_107b449f15fcrow3_col0\" class=\"data row3 col0\" >0.0457</td>\n",
       "            </tr>\n",
       "            <tr>\n",
       "                        <th id=\"T_dd44a2c2_0a1b_11ea_a6fb_107b449f15fclevel0_row4\" class=\"row_heading level0 row4\" >теория_фреймов</th>\n",
       "                        <td id=\"T_dd44a2c2_0a1b_11ea_a6fb_107b449f15fcrow4_col0\" class=\"data row4 col0\" >0.03846</td>\n",
       "            </tr>\n",
       "            <tr>\n",
       "                        <th id=\"T_dd44a2c2_0a1b_11ea_a6fb_107b449f15fclevel0_row5\" class=\"row_heading level0 row5\" >фрейм-анализ</th>\n",
       "                        <td id=\"T_dd44a2c2_0a1b_11ea_a6fb_107b449f15fcrow5_col0\" class=\"data row5 col0\" >0.02563</td>\n",
       "            </tr>\n",
       "            <tr>\n",
       "                        <th id=\"T_dd44a2c2_0a1b_11ea_a6fb_107b449f15fclevel0_row6\" class=\"row_heading level0 row6\" >фрейм</th>\n",
       "                        <td id=\"T_dd44a2c2_0a1b_11ea_a6fb_107b449f15fcrow6_col0\" class=\"data row6 col0\" >0.02563</td>\n",
       "            </tr>\n",
       "            <tr>\n",
       "                        <th id=\"T_dd44a2c2_0a1b_11ea_a6fb_107b449f15fclevel0_row7\" class=\"row_heading level0 row7\" >микросоциология</th>\n",
       "                        <td id=\"T_dd44a2c2_0a1b_11ea_a6fb_107b449f15fcrow7_col0\" class=\"data row7 col0\" >0.02562</td>\n",
       "            </tr>\n",
       "            <tr>\n",
       "                        <th id=\"T_dd44a2c2_0a1b_11ea_a6fb_107b449f15fclevel0_row8\" class=\"row_heading level0 row8\" >идентичность</th>\n",
       "                        <td id=\"T_dd44a2c2_0a1b_11ea_a6fb_107b449f15fcrow8_col0\" class=\"data row8 col0\" >0.02428</td>\n",
       "            </tr>\n",
       "            <tr>\n",
       "                        <th id=\"T_dd44a2c2_0a1b_11ea_a6fb_107b449f15fclevel0_row9\" class=\"row_heading level0 row9\" >этнометодология</th>\n",
       "                        <td id=\"T_dd44a2c2_0a1b_11ea_a6fb_107b449f15fcrow9_col0\" class=\"data row9 col0\" >0.02338</td>\n",
       "            </tr>\n",
       "    </tbody></table><style  type=\"text/css\" >\n",
       "</style><table id=\"T_dd44a2c3_0a1b_11ea_a6fb_107b449f15fc\" style='display:inline'><thead>    <tr>        <th class=\"blank level0\" ></th>        <th class=\"col_heading level0 col0\" >topic_10 @word</th>    </tr></thead><tbody>\n",
       "                <tr>\n",
       "                        <th id=\"T_dd44a2c3_0a1b_11ea_a6fb_107b449f15fclevel0_row0\" class=\"row_heading level0 row0\" >событие</th>\n",
       "                        <td id=\"T_dd44a2c3_0a1b_11ea_a6fb_107b449f15fcrow0_col0\" class=\"data row0 col0\" >0.00668</td>\n",
       "            </tr>\n",
       "            <tr>\n",
       "                        <th id=\"T_dd44a2c3_0a1b_11ea_a6fb_107b449f15fclevel0_row1\" class=\"row_heading level0 row1\" >общество</th>\n",
       "                        <td id=\"T_dd44a2c3_0a1b_11ea_a6fb_107b449f15fcrow1_col0\" class=\"data row1 col0\" >0.00502</td>\n",
       "            </tr>\n",
       "            <tr>\n",
       "                        <th id=\"T_dd44a2c3_0a1b_11ea_a6fb_107b449f15fclevel0_row2\" class=\"row_heading level0 row2\" >социальный</th>\n",
       "                        <td id=\"T_dd44a2c3_0a1b_11ea_a6fb_107b449f15fcrow2_col0\" class=\"data row2 col0\" >0.00423</td>\n",
       "            </tr>\n",
       "            <tr>\n",
       "                        <th id=\"T_dd44a2c3_0a1b_11ea_a6fb_107b449f15fclevel0_row3\" class=\"row_heading level0 row3\" >ситуация</th>\n",
       "                        <td id=\"T_dd44a2c3_0a1b_11ea_a6fb_107b449f15fcrow3_col0\" class=\"data row3 col0\" >0.00403</td>\n",
       "            </tr>\n",
       "            <tr>\n",
       "                        <th id=\"T_dd44a2c3_0a1b_11ea_a6fb_107b449f15fclevel0_row4\" class=\"row_heading level0 row4\" >являться</th>\n",
       "                        <td id=\"T_dd44a2c3_0a1b_11ea_a6fb_107b449f15fcrow4_col0\" class=\"data row4 col0\" >0.00371</td>\n",
       "            </tr>\n",
       "            <tr>\n",
       "                        <th id=\"T_dd44a2c3_0a1b_11ea_a6fb_107b449f15fclevel0_row5\" class=\"row_heading level0 row5\" >роль</th>\n",
       "                        <td id=\"T_dd44a2c3_0a1b_11ea_a6fb_107b449f15fcrow5_col0\" class=\"data row5 col0\" >0.0037</td>\n",
       "            </tr>\n",
       "            <tr>\n",
       "                        <th id=\"T_dd44a2c3_0a1b_11ea_a6fb_107b449f15fclevel0_row6\" class=\"row_heading level0 row6\" >происходить</th>\n",
       "                        <td id=\"T_dd44a2c3_0a1b_11ea_a6fb_107b449f15fcrow6_col0\" class=\"data row6 col0\" >0.00363</td>\n",
       "            </tr>\n",
       "            <tr>\n",
       "                        <th id=\"T_dd44a2c3_0a1b_11ea_a6fb_107b449f15fclevel0_row7\" class=\"row_heading level0 row7\" >действие</th>\n",
       "                        <td id=\"T_dd44a2c3_0a1b_11ea_a6fb_107b449f15fcrow7_col0\" class=\"data row7 col0\" >0.00337</td>\n",
       "            </tr>\n",
       "            <tr>\n",
       "                        <th id=\"T_dd44a2c3_0a1b_11ea_a6fb_107b449f15fclevel0_row8\" class=\"row_heading level0 row8\" >отношение</th>\n",
       "                        <td id=\"T_dd44a2c3_0a1b_11ea_a6fb_107b449f15fcrow8_col0\" class=\"data row8 col0\" >0.00333</td>\n",
       "            </tr>\n",
       "            <tr>\n",
       "                        <th id=\"T_dd44a2c3_0a1b_11ea_a6fb_107b449f15fclevel0_row9\" class=\"row_heading level0 row9\" >образ</th>\n",
       "                        <td id=\"T_dd44a2c3_0a1b_11ea_a6fb_107b449f15fcrow9_col0\" class=\"data row9 col0\" >0.00327</td>\n",
       "            </tr>\n",
       "    </tbody></table>"
      ]
     },
     "metadata": {},
     "output_type": "display_data"
    },
    {
     "data": {
      "text/html": [
       "<b> автограф # «социология повседневности и теория фреймов» </b><br /> социолог виктор вахштайн рассказывает, в чём ценность теории фреймов, как развивается фрейм-анализ и о том, от чего стоит воздерживаться учёному"
      ]
     },
     "metadata": {},
     "output_type": "display_data"
    },
    {
     "data": {
      "text/html": [
       "<b> к теории подозрения </b><br /> социолог виктор вахштайн объясняет, что общего у карла маркса и обитателей петербургской коммуналки"
      ]
     },
     "metadata": {},
     "output_type": "display_data"
    },
    {
     "data": {
      "text/html": [
       "<b> 5 книг по основам микросоциологии </b><br /> классические работы, сформировавшие микросоциологию как дисциплину, рекомендует социолог михаил соколов"
      ]
     },
     "metadata": {},
     "output_type": "display_data"
    },
    {
     "data": {
      "text/html": [
       "<b> к социологической «теории относительности» </b><br /> события шредингерапример блефа в игре в покер"
      ]
     },
     "metadata": {},
     "output_type": "display_data"
    },
    {
     "data": {
      "text/html": [
       "<b> 5 книг о либерализации старения </b><br /> что читать об изучении пожилого возраста, рассказывает директор центра методологии федеративных исследований ранхигс дмитрий рогозин"
      ]
     },
     "metadata": {},
     "output_type": "display_data"
    },
    {
     "data": {
      "text/html": [
       "<b> понятие фрейма у гоффмана </b><br /> социолог михаил соколов о фрейм-анализе, социальных ролях и театральных метафорах в описании социальной жизни"
      ]
     },
     "metadata": {},
     "output_type": "display_data"
    },
    {
     "data": {
      "text/html": [
       "<b> порядок интеракции </b><br /> социолог михаил соколов о роли повседневной жизни, системе взаимодействий «лицом к лицу» и функционировании больших социальных систем"
      ]
     },
     "metadata": {},
     "output_type": "display_data"
    },
    {
     "data": {
      "text/html": [
       "<b> действующие вещи </b><br /> социолог виктор вахштайн объясняет, как материальные объекты конституируют социальные взаимодействия"
      ]
     },
     "metadata": {},
     "output_type": "display_data"
    },
    {
     "data": {
      "text/html": [
       "<b> введение в микросоциологию </b><br /> 11 лекций социолога михаила соколова о социологических исследованиях повседневных взаимодействий"
      ]
     },
     "metadata": {},
     "output_type": "display_data"
    },
    {
     "data": {
      "text/html": [
       "<b> стратегические интеракции </b><br /> социолог михаил соколов о субъектах стратегического взаимодействия, разновидностях поступков и теории культурной эволюции"
      ]
     },
     "metadata": {},
     "output_type": "display_data"
    },
    {
     "data": {
      "text/html": [
       "<style  type=\"text/css\" >\n",
       "</style><table id=\"T_dd44a2c4_0a1b_11ea_a6fb_107b449f15fc\" style='display:inline'><thead>    <tr>        <th class=\"blank level0\" ></th>        <th class=\"col_heading level0 col0\" >topic_11 @2gramm</th>    </tr></thead><tbody>\n",
       "                <tr>\n",
       "                        <th id=\"T_dd44a2c4_0a1b_11ea_a6fb_107b449f15fclevel0_row0\" class=\"row_heading level0 row0\" >массовый_культура</th>\n",
       "                        <td id=\"T_dd44a2c4_0a1b_11ea_a6fb_107b449f15fcrow0_col0\" class=\"data row0 col0\" >0.02381</td>\n",
       "            </tr>\n",
       "            <tr>\n",
       "                        <th id=\"T_dd44a2c4_0a1b_11ea_a6fb_107b449f15fclevel0_row1\" class=\"row_heading level0 row1\" >культовый_кино</th>\n",
       "                        <td id=\"T_dd44a2c4_0a1b_11ea_a6fb_107b449f15fcrow1_col0\" class=\"data row1 col0\" >0.01014</td>\n",
       "            </tr>\n",
       "            <tr>\n",
       "                        <th id=\"T_dd44a2c4_0a1b_11ea_a6fb_107b449f15fclevel0_row2\" class=\"row_heading level0 row2\" >cinema_studies</th>\n",
       "                        <td id=\"T_dd44a2c4_0a1b_11ea_a6fb_107b449f15fcrow2_col0\" class=\"data row2 col0\" >0.00942</td>\n",
       "            </tr>\n",
       "            <tr>\n",
       "                        <th id=\"T_dd44a2c4_0a1b_11ea_a6fb_107b449f15fclevel0_row3\" class=\"row_heading level0 row3\" >речь_идти</th>\n",
       "                        <td id=\"T_dd44a2c4_0a1b_11ea_a6fb_107b449f15fcrow3_col0\" class=\"data row3 col0\" >0.00802</td>\n",
       "            </tr>\n",
       "            <tr>\n",
       "                        <th id=\"T_dd44a2c4_0a1b_11ea_a6fb_107b449f15fclevel0_row4\" class=\"row_heading level0 row4\" >общество_потребление</th>\n",
       "                        <td id=\"T_dd44a2c4_0a1b_11ea_a6fb_107b449f15fcrow4_col0\" class=\"data row4 col0\" >0.00762</td>\n",
       "            </tr>\n",
       "            <tr>\n",
       "                        <th id=\"T_dd44a2c4_0a1b_11ea_a6fb_107b449f15fclevel0_row5\" class=\"row_heading level0 row5\" >критический_теория</th>\n",
       "                        <td id=\"T_dd44a2c4_0a1b_11ea_a6fb_107b449f15fcrow5_col0\" class=\"data row5 col0\" >0.00696</td>\n",
       "            </tr>\n",
       "            <tr>\n",
       "                        <th id=\"T_dd44a2c4_0a1b_11ea_a6fb_107b449f15fclevel0_row6\" class=\"row_heading level0 row6\" >xx_век</th>\n",
       "                        <td id=\"T_dd44a2c4_0a1b_11ea_a6fb_107b449f15fcrow6_col0\" class=\"data row6 col0\" >0.00685</td>\n",
       "            </tr>\n",
       "            <tr>\n",
       "                        <th id=\"T_dd44a2c4_0a1b_11ea_a6fb_107b449f15fclevel0_row7\" class=\"row_heading level0 row7\" >молодёжный_субкультура</th>\n",
       "                        <td id=\"T_dd44a2c4_0a1b_11ea_a6fb_107b449f15fcrow7_col0\" class=\"data row7 col0\" >0.0058</td>\n",
       "            </tr>\n",
       "            <tr>\n",
       "                        <th id=\"T_dd44a2c4_0a1b_11ea_a6fb_107b449f15fclevel0_row8\" class=\"row_heading level0 row8\" >плохой_кино</th>\n",
       "                        <td id=\"T_dd44a2c4_0a1b_11ea_a6fb_107b449f15fcrow8_col0\" class=\"data row8 col0\" >0.00543</td>\n",
       "            </tr>\n",
       "            <tr>\n",
       "                        <th id=\"T_dd44a2c4_0a1b_11ea_a6fb_107b449f15fclevel0_row9\" class=\"row_heading level0 row9\" >крайний_мера</th>\n",
       "                        <td id=\"T_dd44a2c4_0a1b_11ea_a6fb_107b449f15fcrow9_col0\" class=\"data row9 col0\" >0.00535</td>\n",
       "            </tr>\n",
       "    </tbody></table><style  type=\"text/css\" >\n",
       "</style><table id=\"T_dd44a2c5_0a1b_11ea_a6fb_107b449f15fc\" style='display:inline'><thead>    <tr>        <th class=\"blank level0\" ></th>        <th class=\"col_heading level0 col0\" >topic_11 @3gramm</th>    </tr></thead><tbody>\n",
       "                <tr>\n",
       "                        <th id=\"T_dd44a2c5_0a1b_11ea_a6fb_107b449f15fclevel0_row0\" class=\"row_heading level0 row0\" >середина_xx_век</th>\n",
       "                        <td id=\"T_dd44a2c5_0a1b_11ea_a6fb_107b449f15fcrow0_col0\" class=\"data row0 col0\" >0.30528</td>\n",
       "            </tr>\n",
       "            <tr>\n",
       "                        <th id=\"T_dd44a2c5_0a1b_11ea_a6fb_107b449f15fclevel0_row1\" class=\"row_heading level0 row1\" >играть_важный_роль</th>\n",
       "                        <td id=\"T_dd44a2c5_0a1b_11ea_a6fb_107b449f15fcrow1_col0\" class=\"data row1 col0\" >0.20001</td>\n",
       "            </tr>\n",
       "            <tr>\n",
       "                        <th id=\"T_dd44a2c5_0a1b_11ea_a6fb_107b449f15fclevel0_row2\" class=\"row_heading level0 row2\" >середина_хх_век</th>\n",
       "                        <td id=\"T_dd44a2c5_0a1b_11ea_a6fb_107b449f15fcrow2_col0\" class=\"data row2 col0\" >0.1099</td>\n",
       "            </tr>\n",
       "            <tr>\n",
       "                        <th id=\"T_dd44a2c5_0a1b_11ea_a6fb_107b449f15fclevel0_row3\" class=\"row_heading level0 row3\" >играть_большой_роль</th>\n",
       "                        <td id=\"T_dd44a2c5_0a1b_11ea_a6fb_107b449f15fcrow3_col0\" class=\"data row3 col0\" >0.08412</td>\n",
       "            </tr>\n",
       "            <tr>\n",
       "                        <th id=\"T_dd44a2c5_0a1b_11ea_a6fb_107b449f15fclevel0_row4\" class=\"row_heading level0 row4\" >происхождение_человеческий_раса</th>\n",
       "                        <td id=\"T_dd44a2c5_0a1b_11ea_a6fb_107b449f15fcrow4_col0\" class=\"data row4 col0\" >0.05488</td>\n",
       "            </tr>\n",
       "            <tr>\n",
       "                        <th id=\"T_dd44a2c5_0a1b_11ea_a6fb_107b449f15fclevel0_row5\" class=\"row_heading level0 row5\" >прямой_смысл_слово</th>\n",
       "                        <td id=\"T_dd44a2c5_0a1b_11ea_a6fb_107b449f15fcrow5_col0\" class=\"data row5 col0\" >0.04413</td>\n",
       "            </tr>\n",
       "            <tr>\n",
       "                        <th id=\"T_dd44a2c5_0a1b_11ea_a6fb_107b449f15fclevel0_row6\" class=\"row_heading level0 row6\" >начало_viii_век</th>\n",
       "                        <td id=\"T_dd44a2c5_0a1b_11ea_a6fb_107b449f15fcrow6_col0\" class=\"data row6 col0\" >0.03432</td>\n",
       "            </tr>\n",
       "            <tr>\n",
       "                        <th id=\"T_dd44a2c5_0a1b_11ea_a6fb_107b449f15fclevel0_row7\" class=\"row_heading level0 row7\" >крупный_город_россия</th>\n",
       "                        <td id=\"T_dd44a2c5_0a1b_11ea_a6fb_107b449f15fcrow7_col0\" class=\"data row7 col0\" >0.03431</td>\n",
       "            </tr>\n",
       "            <tr>\n",
       "                        <th id=\"T_dd44a2c5_0a1b_11ea_a6fb_107b449f15fclevel0_row8\" class=\"row_heading level0 row8\" >знать_друг_друг</th>\n",
       "                        <td id=\"T_dd44a2c5_0a1b_11ea_a6fb_107b449f15fcrow8_col0\" class=\"data row8 col0\" >0.02942</td>\n",
       "            </tr>\n",
       "            <tr>\n",
       "                        <th id=\"T_dd44a2c5_0a1b_11ea_a6fb_107b449f15fclevel0_row9\" class=\"row_heading level0 row9\" >полный_собрание_сочинение</th>\n",
       "                        <td id=\"T_dd44a2c5_0a1b_11ea_a6fb_107b449f15fcrow9_col0\" class=\"data row9 col0\" >0.02938</td>\n",
       "            </tr>\n",
       "    </tbody></table><style  type=\"text/css\" >\n",
       "</style><table id=\"T_dd44a2c6_0a1b_11ea_a6fb_107b449f15fc\" style='display:inline'><thead>    <tr>        <th class=\"blank level0\" ></th>        <th class=\"col_heading level0 col0\" >topic_11 @post_tag</th>    </tr></thead><tbody>\n",
       "                <tr>\n",
       "                        <th id=\"T_dd44a2c6_0a1b_11ea_a6fb_107b449f15fclevel0_row0\" class=\"row_heading level0 row0\" >культура</th>\n",
       "                        <td id=\"T_dd44a2c6_0a1b_11ea_a6fb_107b449f15fcrow0_col0\" class=\"data row0 col0\" >0.13763</td>\n",
       "            </tr>\n",
       "            <tr>\n",
       "                        <th id=\"T_dd44a2c6_0a1b_11ea_a6fb_107b449f15fclevel0_row1\" class=\"row_heading level0 row1\" >массовая_культура</th>\n",
       "                        <td id=\"T_dd44a2c6_0a1b_11ea_a6fb_107b449f15fcrow1_col0\" class=\"data row1 col0\" >0.12922</td>\n",
       "            </tr>\n",
       "            <tr>\n",
       "                        <th id=\"T_dd44a2c6_0a1b_11ea_a6fb_107b449f15fclevel0_row2\" class=\"row_heading level0 row2\" >культурология</th>\n",
       "                        <td id=\"T_dd44a2c6_0a1b_11ea_a6fb_107b449f15fcrow2_col0\" class=\"data row2 col0\" >0.10855</td>\n",
       "            </tr>\n",
       "            <tr>\n",
       "                        <th id=\"T_dd44a2c6_0a1b_11ea_a6fb_107b449f15fclevel0_row3\" class=\"row_heading level0 row3\" >кино</th>\n",
       "                        <td id=\"T_dd44a2c6_0a1b_11ea_a6fb_107b449f15fcrow3_col0\" class=\"data row3 col0\" >0.07869</td>\n",
       "            </tr>\n",
       "            <tr>\n",
       "                        <th id=\"T_dd44a2c6_0a1b_11ea_a6fb_107b449f15fclevel0_row4\" class=\"row_heading level0 row4\" >гендер</th>\n",
       "                        <td id=\"T_dd44a2c6_0a1b_11ea_a6fb_107b449f15fcrow4_col0\" class=\"data row4 col0\" >0.06916</td>\n",
       "            </tr>\n",
       "            <tr>\n",
       "                        <th id=\"T_dd44a2c6_0a1b_11ea_a6fb_107b449f15fclevel0_row5\" class=\"row_heading level0 row5\" >кинематограф</th>\n",
       "                        <td id=\"T_dd44a2c6_0a1b_11ea_a6fb_107b449f15fcrow5_col0\" class=\"data row5 col0\" >0.06183</td>\n",
       "            </tr>\n",
       "            <tr>\n",
       "                        <th id=\"T_dd44a2c6_0a1b_11ea_a6fb_107b449f15fclevel0_row6\" class=\"row_heading level0 row6\" >антропология</th>\n",
       "                        <td id=\"T_dd44a2c6_0a1b_11ea_a6fb_107b449f15fcrow6_col0\" class=\"data row6 col0\" >0.04087</td>\n",
       "            </tr>\n",
       "            <tr>\n",
       "                        <th id=\"T_dd44a2c6_0a1b_11ea_a6fb_107b449f15fclevel0_row7\" class=\"row_heading level0 row7\" >театр</th>\n",
       "                        <td id=\"T_dd44a2c6_0a1b_11ea_a6fb_107b449f15fcrow7_col0\" class=\"data row7 col0\" >0.03358</td>\n",
       "            </tr>\n",
       "            <tr>\n",
       "                        <th id=\"T_dd44a2c6_0a1b_11ea_a6fb_107b449f15fclevel0_row8\" class=\"row_heading level0 row8\" >расоведение</th>\n",
       "                        <td id=\"T_dd44a2c6_0a1b_11ea_a6fb_107b449f15fcrow8_col0\" class=\"data row8 col0\" >0.03175</td>\n",
       "            </tr>\n",
       "            <tr>\n",
       "                        <th id=\"T_dd44a2c6_0a1b_11ea_a6fb_107b449f15fclevel0_row9\" class=\"row_heading level0 row9\" >театроведение</th>\n",
       "                        <td id=\"T_dd44a2c6_0a1b_11ea_a6fb_107b449f15fcrow9_col0\" class=\"data row9 col0\" >0.02795</td>\n",
       "            </tr>\n",
       "    </tbody></table><style  type=\"text/css\" >\n",
       "</style><table id=\"T_dd44a2c7_0a1b_11ea_a6fb_107b449f15fc\" style='display:inline'><thead>    <tr>        <th class=\"blank level0\" ></th>        <th class=\"col_heading level0 col0\" >topic_11 @word</th>    </tr></thead><tbody>\n",
       "                <tr>\n",
       "                        <th id=\"T_dd44a2c7_0a1b_11ea_a6fb_107b449f15fclevel0_row0\" class=\"row_heading level0 row0\" >фильм</th>\n",
       "                        <td id=\"T_dd44a2c7_0a1b_11ea_a6fb_107b449f15fcrow0_col0\" class=\"data row0 col0\" >0.01065</td>\n",
       "            </tr>\n",
       "            <tr>\n",
       "                        <th id=\"T_dd44a2c7_0a1b_11ea_a6fb_107b449f15fclevel0_row1\" class=\"row_heading level0 row1\" >женщина</th>\n",
       "                        <td id=\"T_dd44a2c7_0a1b_11ea_a6fb_107b449f15fcrow1_col0\" class=\"data row1 col0\" >0.00882</td>\n",
       "            </tr>\n",
       "            <tr>\n",
       "                        <th id=\"T_dd44a2c7_0a1b_11ea_a6fb_107b449f15fclevel0_row2\" class=\"row_heading level0 row2\" >книга</th>\n",
       "                        <td id=\"T_dd44a2c7_0a1b_11ea_a6fb_107b449f15fcrow2_col0\" class=\"data row2 col0\" >0.00687</td>\n",
       "            </tr>\n",
       "            <tr>\n",
       "                        <th id=\"T_dd44a2c7_0a1b_11ea_a6fb_107b449f15fclevel0_row3\" class=\"row_heading level0 row3\" >культура</th>\n",
       "                        <td id=\"T_dd44a2c7_0a1b_11ea_a6fb_107b449f15fcrow3_col0\" class=\"data row3 col0\" >0.00649</td>\n",
       "            </tr>\n",
       "            <tr>\n",
       "                        <th id=\"T_dd44a2c7_0a1b_11ea_a6fb_107b449f15fclevel0_row4\" class=\"row_heading level0 row4\" >мужчина</th>\n",
       "                        <td id=\"T_dd44a2c7_0a1b_11ea_a6fb_107b449f15fcrow4_col0\" class=\"data row4 col0\" >0.00509</td>\n",
       "            </tr>\n",
       "            <tr>\n",
       "                        <th id=\"T_dd44a2c7_0a1b_11ea_a6fb_107b449f15fclevel0_row5\" class=\"row_heading level0 row5\" >кино</th>\n",
       "                        <td id=\"T_dd44a2c7_0a1b_11ea_a6fb_107b449f15fcrow5_col0\" class=\"data row5 col0\" >0.00482</td>\n",
       "            </tr>\n",
       "            <tr>\n",
       "                        <th id=\"T_dd44a2c7_0a1b_11ea_a6fb_107b449f15fclevel0_row6\" class=\"row_heading level0 row6\" >говорить</th>\n",
       "                        <td id=\"T_dd44a2c7_0a1b_11ea_a6fb_107b449f15fcrow6_col0\" class=\"data row6 col0\" >0.00428</td>\n",
       "            </tr>\n",
       "            <tr>\n",
       "                        <th id=\"T_dd44a2c7_0a1b_11ea_a6fb_107b449f15fclevel0_row7\" class=\"row_heading level0 row7\" >большой</th>\n",
       "                        <td id=\"T_dd44a2c7_0a1b_11ea_a6fb_107b449f15fcrow7_col0\" class=\"data row7 col0\" >0.00424</td>\n",
       "            </tr>\n",
       "            <tr>\n",
       "                        <th id=\"T_dd44a2c7_0a1b_11ea_a6fb_107b449f15fclevel0_row8\" class=\"row_heading level0 row8\" >стать</th>\n",
       "                        <td id=\"T_dd44a2c7_0a1b_11ea_a6fb_107b449f15fcrow8_col0\" class=\"data row8 col0\" >0.00399</td>\n",
       "            </tr>\n",
       "            <tr>\n",
       "                        <th id=\"T_dd44a2c7_0a1b_11ea_a6fb_107b449f15fclevel0_row9\" class=\"row_heading level0 row9\" >являться</th>\n",
       "                        <td id=\"T_dd44a2c7_0a1b_11ea_a6fb_107b449f15fcrow9_col0\" class=\"data row9 col0\" >0.00371</td>\n",
       "            </tr>\n",
       "    </tbody></table>"
      ]
     },
     "metadata": {},
     "output_type": "display_data"
    },
    {
     "data": {
      "text/html": [
       "<b> гендерные исследования в cinema studies </b><br /> философ александр павлов о методах психоанализа в cinema studies, образе «последней девушки» и анализе кинематографа с позиций феминизма"
      ]
     },
     "metadata": {},
     "output_type": "display_data"
    },
    {
     "data": {
      "text/html": [
       "<b> главы # скрытые механизмы идеологии в \"бойцовском клубе\" </b><br /> отрывок из книги «постыдное удовольствиефилософские и социально-политические интерпретации массового кинематографа» философа александра павлова"
      ]
     },
     "metadata": {},
     "output_type": "display_data"
    },
    {
     "data": {
      "text/html": [
       "<b> 5 книг по расоведению </b><br /> что читать о современных достижениях расоведения и происхождении человеческих рас, рекомендует кандидат биологических наук станислав дробышевский"
      ]
     },
     "metadata": {},
     "output_type": "display_data"
    },
    {
     "data": {
      "text/html": [
       "<b> штурмуя публичное пространствослова о гетеротопии плохого вкуса </b><br /> философ александр павлов о теории кэмпа сьюзен сонтаг, русской традиции кинокритики и утопии хорошего вкуса"
      ]
     },
     "metadata": {},
     "output_type": "display_data"
    },
    {
     "data": {
      "text/html": [
       "<b> автограф # «происхождение человеческих рас» </b><br /> станислав дробышевский рассказывает о своей книге, первой из цикла, посвященного происхождению рас"
      ]
     },
     "metadata": {},
     "output_type": "display_data"
    },
    {
     "data": {
      "text/html": [
       "<b> феномен happy end </b><br /> культуролог екатерина лапина-кратасюк о популярном кинематографе, фильмах жанра нуар и «кошмаре на улице вязов»"
      ]
     },
     "metadata": {},
     "output_type": "display_data"
    },
    {
     "data": {
      "text/html": [
       "<b> faqдокументальное театроведение </b><br /> 5 фактов о театральной историографии, архивных исследованиях и методологии науки о театре"
      ]
     },
     "metadata": {},
     "output_type": "display_data"
    },
    {
     "data": {
      "text/html": [
       "<b> 5 книг о культовом кинематографе </b><br /> что читать о культовом кино, рекомендует доцент философского факультета ниу вшэ александр павлов"
      ]
     },
     "metadata": {},
     "output_type": "display_data"
    },
    {
     "data": {
      "text/html": [
       "<b> cinema studies </b><br /> 8 лекций философа и культуролога александра павлова о современных подходах к исследованию кинематографа"
      ]
     },
     "metadata": {},
     "output_type": "display_data"
    },
    {
     "data": {
      "text/html": [
       "<b> трансформации локальной культуры </b><br /> философ владимир миронов о глобальном коммуникационном пространстве, противостоянии высокой и массовой культуры и оппозиции «свой — чужой»"
      ]
     },
     "metadata": {},
     "output_type": "display_data"
    },
    {
     "data": {
      "text/html": [
       "<style  type=\"text/css\" >\n",
       "</style><table id=\"T_dd44a2c8_0a1b_11ea_a6fb_107b449f15fc\" style='display:inline'><thead>    <tr>        <th class=\"blank level0\" ></th>        <th class=\"col_heading level0 col0\" >topic_12 @2gramm</th>    </tr></thead><tbody>\n",
       "                <tr>\n",
       "                        <th id=\"T_dd44a2c8_0a1b_11ea_a6fb_107b449f15fclevel0_row0\" class=\"row_heading level0 row0\" >нервный_клетка</th>\n",
       "                        <td id=\"T_dd44a2c8_0a1b_11ea_a6fb_107b449f15fcrow0_col0\" class=\"data row0 col0\" >0.02724</td>\n",
       "            </tr>\n",
       "            <tr>\n",
       "                        <th id=\"T_dd44a2c8_0a1b_11ea_a6fb_107b449f15fclevel0_row1\" class=\"row_heading level0 row1\" >нервный_система</th>\n",
       "                        <td id=\"T_dd44a2c8_0a1b_11ea_a6fb_107b449f15fcrow1_col0\" class=\"data row1 col0\" >0.0189</td>\n",
       "            </tr>\n",
       "            <tr>\n",
       "                        <th id=\"T_dd44a2c8_0a1b_11ea_a6fb_107b449f15fclevel0_row2\" class=\"row_heading level0 row2\" >головной_мозг</th>\n",
       "                        <td id=\"T_dd44a2c8_0a1b_11ea_a6fb_107b449f15fcrow2_col0\" class=\"data row2 col0\" >0.01304</td>\n",
       "            </tr>\n",
       "            <tr>\n",
       "                        <th id=\"T_dd44a2c8_0a1b_11ea_a6fb_107b449f15fclevel0_row3\" class=\"row_heading level0 row3\" >человеческий_мозг</th>\n",
       "                        <td id=\"T_dd44a2c8_0a1b_11ea_a6fb_107b449f15fcrow3_col0\" class=\"data row3 col0\" >0.00941</td>\n",
       "            </tr>\n",
       "            <tr>\n",
       "                        <th id=\"T_dd44a2c8_0a1b_11ea_a6fb_107b449f15fclevel0_row4\" class=\"row_heading level0 row4\" >работа_мозг</th>\n",
       "                        <td id=\"T_dd44a2c8_0a1b_11ea_a6fb_107b449f15fcrow4_col0\" class=\"data row4 col0\" >0.00894</td>\n",
       "            </tr>\n",
       "            <tr>\n",
       "                        <th id=\"T_dd44a2c8_0a1b_11ea_a6fb_107b449f15fclevel0_row5\" class=\"row_heading level0 row5\" >нейронный_сеть</th>\n",
       "                        <td id=\"T_dd44a2c8_0a1b_11ea_a6fb_107b449f15fcrow5_col0\" class=\"data row5 col0\" >0.00756</td>\n",
       "            </tr>\n",
       "            <tr>\n",
       "                        <th id=\"T_dd44a2c8_0a1b_11ea_a6fb_107b449f15fclevel0_row6\" class=\"row_heading level0 row6\" >орган_чувство</th>\n",
       "                        <td id=\"T_dd44a2c8_0a1b_11ea_a6fb_107b449f15fcrow6_col0\" class=\"data row6 col0\" >0.00735</td>\n",
       "            </tr>\n",
       "            <tr>\n",
       "                        <th id=\"T_dd44a2c8_0a1b_11ea_a6fb_107b449f15fclevel0_row7\" class=\"row_heading level0 row7\" >флуоресцентный_белка</th>\n",
       "                        <td id=\"T_dd44a2c8_0a1b_11ea_a6fb_107b449f15fcrow7_col0\" class=\"data row7 col0\" >0.00722</td>\n",
       "            </tr>\n",
       "            <tr>\n",
       "                        <th id=\"T_dd44a2c8_0a1b_11ea_a6fb_107b449f15fclevel0_row8\" class=\"row_heading level0 row8\" >потенциал_действие</th>\n",
       "                        <td id=\"T_dd44a2c8_0a1b_11ea_a6fb_107b449f15fcrow8_col0\" class=\"data row8 col0\" >0.00635</td>\n",
       "            </tr>\n",
       "            <tr>\n",
       "                        <th id=\"T_dd44a2c8_0a1b_11ea_a6fb_107b449f15fclevel0_row9\" class=\"row_heading level0 row9\" >структура_мозг</th>\n",
       "                        <td id=\"T_dd44a2c8_0a1b_11ea_a6fb_107b449f15fcrow9_col0\" class=\"data row9 col0\" >0.00551</td>\n",
       "            </tr>\n",
       "    </tbody></table><style  type=\"text/css\" >\n",
       "</style><table id=\"T_dd44a2c9_0a1b_11ea_a6fb_107b449f15fc\" style='display:inline'><thead>    <tr>        <th class=\"blank level0\" ></th>        <th class=\"col_heading level0 col0\" >topic_12 @3gramm</th>    </tr></thead><tbody>\n",
       "                <tr>\n",
       "                        <th id=\"T_dd44a2c9_0a1b_11ea_a6fb_107b449f15fclevel0_row0\" class=\"row_heading level0 row0\" >кора_головной_мозг</th>\n",
       "                        <td id=\"T_dd44a2c9_0a1b_11ea_a6fb_107b449f15fcrow0_col0\" class=\"data row0 col0\" >0.29332</td>\n",
       "            </tr>\n",
       "            <tr>\n",
       "                        <th id=\"T_dd44a2c9_0a1b_11ea_a6fb_107b449f15fclevel0_row1\" class=\"row_heading level0 row1\" >центральный_нервный_система</th>\n",
       "                        <td id=\"T_dd44a2c9_0a1b_11ea_a6fb_107b449f15fcrow1_col0\" class=\"data row1 col0\" >0.17002</td>\n",
       "            </tr>\n",
       "            <tr>\n",
       "                        <th id=\"T_dd44a2c9_0a1b_11ea_a6fb_107b449f15fclevel0_row2\" class=\"row_heading level0 row2\" >высокий_психический_функция</th>\n",
       "                        <td id=\"T_dd44a2c9_0a1b_11ea_a6fb_107b449f15fcrow2_col0\" class=\"data row2 col0\" >0.0796</td>\n",
       "            </tr>\n",
       "            <tr>\n",
       "                        <th id=\"T_dd44a2c9_0a1b_11ea_a6fb_107b449f15fclevel0_row3\" class=\"row_heading level0 row3\" >относительно_друг_друг</th>\n",
       "                        <td id=\"T_dd44a2c9_0a1b_11ea_a6fb_107b449f15fcrow3_col0\" class=\"data row3 col0\" >0.06234</td>\n",
       "            </tr>\n",
       "            <tr>\n",
       "                        <th id=\"T_dd44a2c9_0a1b_11ea_a6fb_107b449f15fclevel0_row4\" class=\"row_heading level0 row4\" >отдел_головной_мозг</th>\n",
       "                        <td id=\"T_dd44a2c9_0a1b_11ea_a6fb_107b449f15fcrow4_col0\" class=\"data row4 col0\" >0.05715</td>\n",
       "            </tr>\n",
       "            <tr>\n",
       "                        <th id=\"T_dd44a2c9_0a1b_11ea_a6fb_107b449f15fclevel0_row5\" class=\"row_heading level0 row5\" >объяснять_общепринятый_заблуждение</th>\n",
       "                        <td id=\"T_dd44a2c9_0a1b_11ea_a6fb_107b449f15fcrow5_col0\" class=\"data row5 col0\" >0.057</td>\n",
       "            </tr>\n",
       "            <tr>\n",
       "                        <th id=\"T_dd44a2c9_0a1b_11ea_a6fb_107b449f15fclevel0_row6\" class=\"row_heading level0 row6\" >длина_волна_свет</th>\n",
       "                        <td id=\"T_dd44a2c9_0a1b_11ea_a6fb_107b449f15fcrow6_col0\" class=\"data row6 col0\" >0.044</td>\n",
       "            </tr>\n",
       "            <tr>\n",
       "                        <th id=\"T_dd44a2c9_0a1b_11ea_a6fb_107b449f15fclevel0_row7\" class=\"row_heading level0 row7\" >определённый_длина_волна</th>\n",
       "                        <td id=\"T_dd44a2c9_0a1b_11ea_a6fb_107b449f15fcrow7_col0\" class=\"data row7 col0\" >0.03779</td>\n",
       "            </tr>\n",
       "            <tr>\n",
       "                        <th id=\"T_dd44a2c9_0a1b_11ea_a6fb_107b449f15fclevel0_row8\" class=\"row_heading level0 row8\" >бурно_развивающийся_область</th>\n",
       "                        <td id=\"T_dd44a2c9_0a1b_11ea_a6fb_107b449f15fcrow8_col0\" class=\"data row8 col0\" >0.0377</td>\n",
       "            </tr>\n",
       "            <tr>\n",
       "                        <th id=\"T_dd44a2c9_0a1b_11ea_a6fb_107b449f15fclevel0_row9\" class=\"row_heading level0 row9\" >механизм_работа_мозг</th>\n",
       "                        <td id=\"T_dd44a2c9_0a1b_11ea_a6fb_107b449f15fcrow9_col0\" class=\"data row9 col0\" >0.03768</td>\n",
       "            </tr>\n",
       "    </tbody></table><style  type=\"text/css\" >\n",
       "</style><table id=\"T_dd44a2ca_0a1b_11ea_a6fb_107b449f15fc\" style='display:inline'><thead>    <tr>        <th class=\"blank level0\" ></th>        <th class=\"col_heading level0 col0\" >topic_12 @post_tag</th>    </tr></thead><tbody>\n",
       "                <tr>\n",
       "                        <th id=\"T_dd44a2ca_0a1b_11ea_a6fb_107b449f15fclevel0_row0\" class=\"row_heading level0 row0\" >мозг</th>\n",
       "                        <td id=\"T_dd44a2ca_0a1b_11ea_a6fb_107b449f15fcrow0_col0\" class=\"data row0 col0\" >0.24577</td>\n",
       "            </tr>\n",
       "            <tr>\n",
       "                        <th id=\"T_dd44a2ca_0a1b_11ea_a6fb_107b449f15fclevel0_row1\" class=\"row_heading level0 row1\" >нейробиология</th>\n",
       "                        <td id=\"T_dd44a2ca_0a1b_11ea_a6fb_107b449f15fcrow1_col0\" class=\"data row1 col0\" >0.12421</td>\n",
       "            </tr>\n",
       "            <tr>\n",
       "                        <th id=\"T_dd44a2ca_0a1b_11ea_a6fb_107b449f15fclevel0_row2\" class=\"row_heading level0 row2\" >нейрон</th>\n",
       "                        <td id=\"T_dd44a2ca_0a1b_11ea_a6fb_107b449f15fcrow2_col0\" class=\"data row2 col0\" >0.09292</td>\n",
       "            </tr>\n",
       "            <tr>\n",
       "                        <th id=\"T_dd44a2ca_0a1b_11ea_a6fb_107b449f15fclevel0_row3\" class=\"row_heading level0 row3\" >нейрофизиология</th>\n",
       "                        <td id=\"T_dd44a2ca_0a1b_11ea_a6fb_107b449f15fcrow3_col0\" class=\"data row3 col0\" >0.07767</td>\n",
       "            </tr>\n",
       "            <tr>\n",
       "                        <th id=\"T_dd44a2ca_0a1b_11ea_a6fb_107b449f15fclevel0_row4\" class=\"row_heading level0 row4\" >биология</th>\n",
       "                        <td id=\"T_dd44a2ca_0a1b_11ea_a6fb_107b449f15fcrow4_col0\" class=\"data row4 col0\" >0.07632</td>\n",
       "            </tr>\n",
       "            <tr>\n",
       "                        <th id=\"T_dd44a2ca_0a1b_11ea_a6fb_107b449f15fclevel0_row5\" class=\"row_heading level0 row5\" >физиология</th>\n",
       "                        <td id=\"T_dd44a2ca_0a1b_11ea_a6fb_107b449f15fcrow5_col0\" class=\"data row5 col0\" >0.04511</td>\n",
       "            </tr>\n",
       "            <tr>\n",
       "                        <th id=\"T_dd44a2ca_0a1b_11ea_a6fb_107b449f15fclevel0_row6\" class=\"row_heading level0 row6\" >память</th>\n",
       "                        <td id=\"T_dd44a2ca_0a1b_11ea_a6fb_107b449f15fcrow6_col0\" class=\"data row6 col0\" >0.03183</td>\n",
       "            </tr>\n",
       "            <tr>\n",
       "                        <th id=\"T_dd44a2ca_0a1b_11ea_a6fb_107b449f15fclevel0_row7\" class=\"row_heading level0 row7\" >сознание</th>\n",
       "                        <td id=\"T_dd44a2ca_0a1b_11ea_a6fb_107b449f15fcrow7_col0\" class=\"data row7 col0\" >0.02782</td>\n",
       "            </tr>\n",
       "            <tr>\n",
       "                        <th id=\"T_dd44a2ca_0a1b_11ea_a6fb_107b449f15fclevel0_row8\" class=\"row_heading level0 row8\" >нейропсихология</th>\n",
       "                        <td id=\"T_dd44a2ca_0a1b_11ea_a6fb_107b449f15fcrow8_col0\" class=\"data row8 col0\" >0.02637</td>\n",
       "            </tr>\n",
       "            <tr>\n",
       "                        <th id=\"T_dd44a2ca_0a1b_11ea_a6fb_107b449f15fclevel0_row9\" class=\"row_heading level0 row9\" >эмоции</th>\n",
       "                        <td id=\"T_dd44a2ca_0a1b_11ea_a6fb_107b449f15fcrow9_col0\" class=\"data row9 col0\" >0.02506</td>\n",
       "            </tr>\n",
       "    </tbody></table><style  type=\"text/css\" >\n",
       "</style><table id=\"T_dd44a2cb_0a1b_11ea_a6fb_107b449f15fc\" style='display:inline'><thead>    <tr>        <th class=\"blank level0\" ></th>        <th class=\"col_heading level0 col0\" >topic_12 @word</th>    </tr></thead><tbody>\n",
       "                <tr>\n",
       "                        <th id=\"T_dd44a2cb_0a1b_11ea_a6fb_107b449f15fclevel0_row0\" class=\"row_heading level0 row0\" >мозг</th>\n",
       "                        <td id=\"T_dd44a2cb_0a1b_11ea_a6fb_107b449f15fcrow0_col0\" class=\"data row0 col0\" >0.02573</td>\n",
       "            </tr>\n",
       "            <tr>\n",
       "                        <th id=\"T_dd44a2cb_0a1b_11ea_a6fb_107b449f15fclevel0_row1\" class=\"row_heading level0 row1\" >нейрон</th>\n",
       "                        <td id=\"T_dd44a2cb_0a1b_11ea_a6fb_107b449f15fcrow1_col0\" class=\"data row1 col0\" >0.01153</td>\n",
       "            </tr>\n",
       "            <tr>\n",
       "                        <th id=\"T_dd44a2cb_0a1b_11ea_a6fb_107b449f15fclevel0_row2\" class=\"row_heading level0 row2\" >клетка</th>\n",
       "                        <td id=\"T_dd44a2cb_0a1b_11ea_a6fb_107b449f15fcrow2_col0\" class=\"data row2 col0\" >0.00654</td>\n",
       "            </tr>\n",
       "            <tr>\n",
       "                        <th id=\"T_dd44a2cb_0a1b_11ea_a6fb_107b449f15fclevel0_row3\" class=\"row_heading level0 row3\" >память</th>\n",
       "                        <td id=\"T_dd44a2cb_0a1b_11ea_a6fb_107b449f15fcrow3_col0\" class=\"data row3 col0\" >0.00544</td>\n",
       "            </tr>\n",
       "            <tr>\n",
       "                        <th id=\"T_dd44a2cb_0a1b_11ea_a6fb_107b449f15fclevel0_row4\" class=\"row_heading level0 row4\" >животное</th>\n",
       "                        <td id=\"T_dd44a2cb_0a1b_11ea_a6fb_107b449f15fcrow4_col0\" class=\"data row4 col0\" >0.00422</td>\n",
       "            </tr>\n",
       "            <tr>\n",
       "                        <th id=\"T_dd44a2cb_0a1b_11ea_a6fb_107b449f15fclevel0_row5\" class=\"row_heading level0 row5\" >мышца</th>\n",
       "                        <td id=\"T_dd44a2cb_0a1b_11ea_a6fb_107b449f15fcrow5_col0\" class=\"data row5 col0\" >0.00374</td>\n",
       "            </tr>\n",
       "            <tr>\n",
       "                        <th id=\"T_dd44a2cb_0a1b_11ea_a6fb_107b449f15fclevel0_row6\" class=\"row_heading level0 row6\" >связь</th>\n",
       "                        <td id=\"T_dd44a2cb_0a1b_11ea_a6fb_107b449f15fcrow6_col0\" class=\"data row6 col0\" >0.00372</td>\n",
       "            </tr>\n",
       "            <tr>\n",
       "                        <th id=\"T_dd44a2cb_0a1b_11ea_a6fb_107b449f15fclevel0_row7\" class=\"row_heading level0 row7\" >активность</th>\n",
       "                        <td id=\"T_dd44a2cb_0a1b_11ea_a6fb_107b449f15fcrow7_col0\" class=\"data row7 col0\" >0.0035</td>\n",
       "            </tr>\n",
       "            <tr>\n",
       "                        <th id=\"T_dd44a2cb_0a1b_11ea_a6fb_107b449f15fclevel0_row8\" class=\"row_heading level0 row8\" >образ</th>\n",
       "                        <td id=\"T_dd44a2cb_0a1b_11ea_a6fb_107b449f15fcrow8_col0\" class=\"data row8 col0\" >0.00346</td>\n",
       "            </tr>\n",
       "            <tr>\n",
       "                        <th id=\"T_dd44a2cb_0a1b_11ea_a6fb_107b449f15fclevel0_row9\" class=\"row_heading level0 row9\" >происходить</th>\n",
       "                        <td id=\"T_dd44a2cb_0a1b_11ea_a6fb_107b449f15fcrow9_col0\" class=\"data row9 col0\" >0.00342</td>\n",
       "            </tr>\n",
       "    </tbody></table>"
      ]
     },
     "metadata": {},
     "output_type": "display_data"
    },
    {
     "data": {
      "text/html": [
       "<b> страхпричины, механизмы и рефлексы </b><br /> 5 фактов о физиологических основаниях и исследованиях страха"
      ]
     },
     "metadata": {},
     "output_type": "display_data"
    },
    {
     "data": {
      "text/html": [
       "<b> главы # собирание воспоминаний </b><br /> отрывок из книги «коннектом. как мозг делает нас тем, кто мы есть» профессора mit себастьяна сеунга"
      ]
     },
     "metadata": {},
     "output_type": "display_data"
    },
    {
     "data": {
      "text/html": [
       "<b> faqкомандные нейроны </b><br /> 5 фактов о различных функциях клеток в нервной системе"
      ]
     },
     "metadata": {},
     "output_type": "display_data"
    },
    {
     "data": {
      "text/html": [
       "<b> главы # выживаниемозг человека тоже эволюционировал </b><br /> отрывок из книги «правила мозга» молекулярного биолога джона медины"
      ]
     },
     "metadata": {},
     "output_type": "display_data"
    },
    {
     "data": {
      "text/html": [
       "<b> faqнейрогибридные системы </b><br /> 7 фактов об изучении нейронов в чашке петри"
      ]
     },
     "metadata": {},
     "output_type": "display_data"
    },
    {
     "data": {
      "text/html": [
       "<b> экспериментальная генетика поведения </b><br /> биолог инга полетаева о модельных животных, искусственном отборе и селекционных экспериментах"
      ]
     },
     "metadata": {},
     "output_type": "display_data"
    },
    {
     "data": {
      "text/html": [
       "<b> faqфизиология эмоций </b><br /> 6 фактов о возникновении эмоций, их воздействии на организм и здоровье человека"
      ]
     },
     "metadata": {},
     "output_type": "display_data"
    },
    {
     "data": {
      "text/html": [
       "<b> функции взрослых нейронов в мозге </b><br /> нейробиолог александр лазуткин о миграции нейронов, значении области гиппокампа и инфантильной амнезии"
      ]
     },
     "metadata": {},
     "output_type": "display_data"
    },
    {
     "data": {
      "text/html": [
       "<b> индивидуальность нейронов и синаптическая конкуренция </b><br /> нейробиолог джефф лихтман о нервно-мышечных синапсах, соединении аксонов и методе брэйнбоу"
      ]
     },
     "metadata": {},
     "output_type": "display_data"
    },
    {
     "data": {
      "text/html": [
       "<b> 5 мифов о мозге </b><br /> эксперты постнауки развенчивают мифы об особенностях нашей нервной системы"
      ]
     },
     "metadata": {},
     "output_type": "display_data"
    },
    {
     "data": {
      "text/html": [
       "<style  type=\"text/css\" >\n",
       "</style><table id=\"T_dd44a2cc_0a1b_11ea_a6fb_107b449f15fc\" style='display:inline'><thead>    <tr>        <th class=\"blank level0\" ></th>        <th class=\"col_heading level0 col0\" >topic_13 @2gramm</th>    </tr></thead><tbody>\n",
       "                <tr>\n",
       "                        <th id=\"T_dd44a2cc_0a1b_11ea_a6fb_107b449f15fclevel0_row0\" class=\"row_heading level0 row0\" >чёрный_дыра</th>\n",
       "                        <td id=\"T_dd44a2cc_0a1b_11ea_a6fb_107b449f15fcrow0_col0\" class=\"data row0 col0\" >0.06469</td>\n",
       "            </tr>\n",
       "            <tr>\n",
       "                        <th id=\"T_dd44a2cc_0a1b_11ea_a6fb_107b449f15fclevel0_row1\" class=\"row_heading level0 row1\" >нейтронный_звезда</th>\n",
       "                        <td id=\"T_dd44a2cc_0a1b_11ea_a6fb_107b449f15fcrow1_col0\" class=\"data row1 col0\" >0.0421</td>\n",
       "            </tr>\n",
       "            <tr>\n",
       "                        <th id=\"T_dd44a2cc_0a1b_11ea_a6fb_107b449f15fclevel0_row2\" class=\"row_heading level0 row2\" >солнечный_система</th>\n",
       "                        <td id=\"T_dd44a2cc_0a1b_11ea_a6fb_107b449f15fcrow2_col0\" class=\"data row2 col0\" >0.01019</td>\n",
       "            </tr>\n",
       "            <tr>\n",
       "                        <th id=\"T_dd44a2cc_0a1b_11ea_a6fb_107b449f15fclevel0_row3\" class=\"row_heading level0 row3\" >белый_карлик</th>\n",
       "                        <td id=\"T_dd44a2cc_0a1b_11ea_a6fb_107b449f15fcrow3_col0\" class=\"data row3 col0\" >0.00931</td>\n",
       "            </tr>\n",
       "            <tr>\n",
       "                        <th id=\"T_dd44a2cc_0a1b_11ea_a6fb_107b449f15fclevel0_row4\" class=\"row_heading level0 row4\" >белых_карлик</th>\n",
       "                        <td id=\"T_dd44a2cc_0a1b_11ea_a6fb_107b449f15fcrow4_col0\" class=\"data row4 col0\" >0.00917</td>\n",
       "            </tr>\n",
       "            <tr>\n",
       "                        <th id=\"T_dd44a2cc_0a1b_11ea_a6fb_107b449f15fclevel0_row5\" class=\"row_heading level0 row5\" >планетный_система</th>\n",
       "                        <td id=\"T_dd44a2cc_0a1b_11ea_a6fb_107b449f15fcrow5_col0\" class=\"data row5 col0\" >0.00828</td>\n",
       "            </tr>\n",
       "            <tr>\n",
       "                        <th id=\"T_dd44a2cc_0a1b_11ea_a6fb_107b449f15fclevel0_row6\" class=\"row_heading level0 row6\" >звёздный_скопление</th>\n",
       "                        <td id=\"T_dd44a2cc_0a1b_11ea_a6fb_107b449f15fcrow6_col0\" class=\"data row6 col0\" >0.00766</td>\n",
       "            </tr>\n",
       "            <tr>\n",
       "                        <th id=\"T_dd44a2cc_0a1b_11ea_a6fb_107b449f15fclevel0_row7\" class=\"row_heading level0 row7\" >компактный_объект</th>\n",
       "                        <td id=\"T_dd44a2cc_0a1b_11ea_a6fb_107b449f15fcrow7_col0\" class=\"data row7 col0\" >0.00761</td>\n",
       "            </tr>\n",
       "            <tr>\n",
       "                        <th id=\"T_dd44a2cc_0a1b_11ea_a6fb_107b449f15fclevel0_row8\" class=\"row_heading level0 row8\" >магнитный_поль</th>\n",
       "                        <td id=\"T_dd44a2cc_0a1b_11ea_a6fb_107b449f15fcrow8_col0\" class=\"data row8 col0\" >0.00677</td>\n",
       "            </tr>\n",
       "            <tr>\n",
       "                        <th id=\"T_dd44a2cc_0a1b_11ea_a6fb_107b449f15fclevel0_row9\" class=\"row_heading level0 row9\" >млечный_путь</th>\n",
       "                        <td id=\"T_dd44a2cc_0a1b_11ea_a6fb_107b449f15fcrow9_col0\" class=\"data row9 col0\" >0.00651</td>\n",
       "            </tr>\n",
       "    </tbody></table><style  type=\"text/css\" >\n",
       "</style><table id=\"T_dd44a2cd_0a1b_11ea_a6fb_107b449f15fc\" style='display:inline'><thead>    <tr>        <th class=\"blank level0\" ></th>        <th class=\"col_heading level0 col0\" >topic_13 @3gramm</th>    </tr></thead><tbody>\n",
       "                <tr>\n",
       "                        <th id=\"T_dd44a2cd_0a1b_11ea_a6fb_107b449f15fclevel0_row0\" class=\"row_heading level0 row0\" >сверхмассивный_чёрный_дыра</th>\n",
       "                        <td id=\"T_dd44a2cd_0a1b_11ea_a6fb_107b449f15fcrow0_col0\" class=\"data row0 col0\" >0.21015</td>\n",
       "            </tr>\n",
       "            <tr>\n",
       "                        <th id=\"T_dd44a2cd_0a1b_11ea_a6fb_107b449f15fclevel0_row1\" class=\"row_heading level0 row1\" >масса_чёрный_дыра</th>\n",
       "                        <td id=\"T_dd44a2cd_0a1b_11ea_a6fb_107b449f15fcrow1_col0\" class=\"data row1 col0\" >0.05096</td>\n",
       "            </tr>\n",
       "            <tr>\n",
       "                        <th id=\"T_dd44a2cd_0a1b_11ea_a6fb_107b449f15fclevel0_row2\" class=\"row_heading level0 row2\" >сильный_магнитный_поль</th>\n",
       "                        <td id=\"T_dd44a2cd_0a1b_11ea_a6fb_107b449f15fcrow2_col0\" class=\"data row2 col0\" >0.04511</td>\n",
       "            </tr>\n",
       "            <tr>\n",
       "                        <th id=\"T_dd44a2cd_0a1b_11ea_a6fb_107b449f15fclevel0_row3\" class=\"row_heading level0 row3\" >активный_ядро_галактика</th>\n",
       "                        <td id=\"T_dd44a2cd_0a1b_11ea_a6fb_107b449f15fcrow3_col0\" class=\"data row3 col0\" >0.03937</td>\n",
       "            </tr>\n",
       "            <tr>\n",
       "                        <th id=\"T_dd44a2cd_0a1b_11ea_a6fb_107b449f15fclevel0_row4\" class=\"row_heading level0 row4\" >предел_солнечный_система</th>\n",
       "                        <td id=\"T_dd44a2cd_0a1b_11ea_a6fb_107b449f15fcrow4_col0\" class=\"data row4 col0\" >0.03703</td>\n",
       "            </tr>\n",
       "            <tr>\n",
       "                        <th id=\"T_dd44a2cd_0a1b_11ea_a6fb_107b449f15fclevel0_row5\" class=\"row_heading level0 row5\" >двойной_звёздный_система</th>\n",
       "                        <td id=\"T_dd44a2cd_0a1b_11ea_a6fb_107b449f15fcrow5_col0\" class=\"data row5 col0\" >0.03092</td>\n",
       "            </tr>\n",
       "            <tr>\n",
       "                        <th id=\"T_dd44a2cd_0a1b_11ea_a6fb_107b449f15fclevel0_row6\" class=\"row_heading level0 row6\" >недра_нейтронный_звезда</th>\n",
       "                        <td id=\"T_dd44a2cd_0a1b_11ea_a6fb_107b449f15fcrow6_col0\" class=\"data row6 col0\" >0.03092</td>\n",
       "            </tr>\n",
       "            <tr>\n",
       "                        <th id=\"T_dd44a2cd_0a1b_11ea_a6fb_107b449f15fclevel0_row7\" class=\"row_heading level0 row7\" >чёрный_дыра_являться</th>\n",
       "                        <td id=\"T_dd44a2cd_0a1b_11ea_a6fb_107b449f15fcrow7_col0\" class=\"data row7 col0\" >0.03091</td>\n",
       "            </tr>\n",
       "            <tr>\n",
       "                        <th id=\"T_dd44a2cd_0a1b_11ea_a6fb_107b449f15fclevel0_row8\" class=\"row_heading level0 row8\" >европейский_космический_агентство</th>\n",
       "                        <td id=\"T_dd44a2cd_0a1b_11ea_a6fb_107b449f15fcrow8_col0\" class=\"data row8 col0\" >0.02819</td>\n",
       "            </tr>\n",
       "            <tr>\n",
       "                        <th id=\"T_dd44a2cd_0a1b_11ea_a6fb_107b449f15fclevel0_row9\" class=\"row_heading level0 row9\" >массивный_чёрный_дыра</th>\n",
       "                        <td id=\"T_dd44a2cd_0a1b_11ea_a6fb_107b449f15fcrow9_col0\" class=\"data row9 col0\" >0.02817</td>\n",
       "            </tr>\n",
       "    </tbody></table><style  type=\"text/css\" >\n",
       "</style><table id=\"T_dd44a2ce_0a1b_11ea_a6fb_107b449f15fc\" style='display:inline'><thead>    <tr>        <th class=\"blank level0\" ></th>        <th class=\"col_heading level0 col0\" >topic_13 @post_tag</th>    </tr></thead><tbody>\n",
       "                <tr>\n",
       "                        <th id=\"T_dd44a2ce_0a1b_11ea_a6fb_107b449f15fclevel0_row0\" class=\"row_heading level0 row0\" >астрономия</th>\n",
       "                        <td id=\"T_dd44a2ce_0a1b_11ea_a6fb_107b449f15fcrow0_col0\" class=\"data row0 col0\" >0.16222</td>\n",
       "            </tr>\n",
       "            <tr>\n",
       "                        <th id=\"T_dd44a2ce_0a1b_11ea_a6fb_107b449f15fclevel0_row1\" class=\"row_heading level0 row1\" >астрофизика</th>\n",
       "                        <td id=\"T_dd44a2ce_0a1b_11ea_a6fb_107b449f15fcrow1_col0\" class=\"data row1 col0\" >0.12473</td>\n",
       "            </tr>\n",
       "            <tr>\n",
       "                        <th id=\"T_dd44a2ce_0a1b_11ea_a6fb_107b449f15fclevel0_row2\" class=\"row_heading level0 row2\" >звезды</th>\n",
       "                        <td id=\"T_dd44a2ce_0a1b_11ea_a6fb_107b449f15fcrow2_col0\" class=\"data row2 col0\" >0.10038</td>\n",
       "            </tr>\n",
       "            <tr>\n",
       "                        <th id=\"T_dd44a2ce_0a1b_11ea_a6fb_107b449f15fclevel0_row3\" class=\"row_heading level0 row3\" >космос</th>\n",
       "                        <td id=\"T_dd44a2ce_0a1b_11ea_a6fb_107b449f15fcrow3_col0\" class=\"data row3 col0\" >0.07346</td>\n",
       "            </tr>\n",
       "            <tr>\n",
       "                        <th id=\"T_dd44a2ce_0a1b_11ea_a6fb_107b449f15fclevel0_row4\" class=\"row_heading level0 row4\" >галактика</th>\n",
       "                        <td id=\"T_dd44a2ce_0a1b_11ea_a6fb_107b449f15fcrow4_col0\" class=\"data row4 col0\" >0.0646</td>\n",
       "            </tr>\n",
       "            <tr>\n",
       "                        <th id=\"T_dd44a2ce_0a1b_11ea_a6fb_107b449f15fclevel0_row5\" class=\"row_heading level0 row5\" >вселенная</th>\n",
       "                        <td id=\"T_dd44a2ce_0a1b_11ea_a6fb_107b449f15fcrow5_col0\" class=\"data row5 col0\" >0.05393</td>\n",
       "            </tr>\n",
       "            <tr>\n",
       "                        <th id=\"T_dd44a2ce_0a1b_11ea_a6fb_107b449f15fclevel0_row6\" class=\"row_heading level0 row6\" >черные_дыры</th>\n",
       "                        <td id=\"T_dd44a2ce_0a1b_11ea_a6fb_107b449f15fcrow6_col0\" class=\"data row6 col0\" >0.04677</td>\n",
       "            </tr>\n",
       "            <tr>\n",
       "                        <th id=\"T_dd44a2ce_0a1b_11ea_a6fb_107b449f15fclevel0_row7\" class=\"row_heading level0 row7\" >солнце</th>\n",
       "                        <td id=\"T_dd44a2ce_0a1b_11ea_a6fb_107b449f15fcrow7_col0\" class=\"data row7 col0\" >0.04325</td>\n",
       "            </tr>\n",
       "            <tr>\n",
       "                        <th id=\"T_dd44a2ce_0a1b_11ea_a6fb_107b449f15fclevel0_row8\" class=\"row_heading level0 row8\" >нейтронные_звезды</th>\n",
       "                        <td id=\"T_dd44a2ce_0a1b_11ea_a6fb_107b449f15fcrow8_col0\" class=\"data row8 col0\" >0.03072</td>\n",
       "            </tr>\n",
       "            <tr>\n",
       "                        <th id=\"T_dd44a2ce_0a1b_11ea_a6fb_107b449f15fclevel0_row9\" class=\"row_heading level0 row9\" >планета</th>\n",
       "                        <td id=\"T_dd44a2ce_0a1b_11ea_a6fb_107b449f15fcrow9_col0\" class=\"data row9 col0\" >0.02748</td>\n",
       "            </tr>\n",
       "    </tbody></table><style  type=\"text/css\" >\n",
       "</style><table id=\"T_dd44a2cf_0a1b_11ea_a6fb_107b449f15fc\" style='display:inline'><thead>    <tr>        <th class=\"blank level0\" ></th>        <th class=\"col_heading level0 col0\" >topic_13 @word</th>    </tr></thead><tbody>\n",
       "                <tr>\n",
       "                        <th id=\"T_dd44a2cf_0a1b_11ea_a6fb_107b449f15fclevel0_row0\" class=\"row_heading level0 row0\" >звезда</th>\n",
       "                        <td id=\"T_dd44a2cf_0a1b_11ea_a6fb_107b449f15fcrow0_col0\" class=\"data row0 col0\" >0.02396</td>\n",
       "            </tr>\n",
       "            <tr>\n",
       "                        <th id=\"T_dd44a2cf_0a1b_11ea_a6fb_107b449f15fclevel0_row1\" class=\"row_heading level0 row1\" >галактика</th>\n",
       "                        <td id=\"T_dd44a2cf_0a1b_11ea_a6fb_107b449f15fcrow1_col0\" class=\"data row1 col0\" >0.01543</td>\n",
       "            </tr>\n",
       "            <tr>\n",
       "                        <th id=\"T_dd44a2cf_0a1b_11ea_a6fb_107b449f15fclevel0_row2\" class=\"row_heading level0 row2\" >солнце</th>\n",
       "                        <td id=\"T_dd44a2cf_0a1b_11ea_a6fb_107b449f15fcrow2_col0\" class=\"data row2 col0\" >0.00877</td>\n",
       "            </tr>\n",
       "            <tr>\n",
       "                        <th id=\"T_dd44a2cf_0a1b_11ea_a6fb_107b449f15fclevel0_row3\" class=\"row_heading level0 row3\" >объект</th>\n",
       "                        <td id=\"T_dd44a2cf_0a1b_11ea_a6fb_107b449f15fcrow3_col0\" class=\"data row3 col0\" >0.00821</td>\n",
       "            </tr>\n",
       "            <tr>\n",
       "                        <th id=\"T_dd44a2cf_0a1b_11ea_a6fb_107b449f15fclevel0_row4\" class=\"row_heading level0 row4\" >большой</th>\n",
       "                        <td id=\"T_dd44a2cf_0a1b_11ea_a6fb_107b449f15fcrow4_col0\" class=\"data row4 col0\" >0.00732</td>\n",
       "            </tr>\n",
       "            <tr>\n",
       "                        <th id=\"T_dd44a2cf_0a1b_11ea_a6fb_107b449f15fclevel0_row5\" class=\"row_heading level0 row5\" >масса</th>\n",
       "                        <td id=\"T_dd44a2cf_0a1b_11ea_a6fb_107b449f15fcrow5_col0\" class=\"data row5 col0\" >0.00657</td>\n",
       "            </tr>\n",
       "            <tr>\n",
       "                        <th id=\"T_dd44a2cf_0a1b_11ea_a6fb_107b449f15fclevel0_row6\" class=\"row_heading level0 row6\" >земля</th>\n",
       "                        <td id=\"T_dd44a2cf_0a1b_11ea_a6fb_107b449f15fcrow6_col0\" class=\"data row6 col0\" >0.00627</td>\n",
       "            </tr>\n",
       "            <tr>\n",
       "                        <th id=\"T_dd44a2cf_0a1b_11ea_a6fb_107b449f15fclevel0_row7\" class=\"row_heading level0 row7\" >вещество</th>\n",
       "                        <td id=\"T_dd44a2cf_0a1b_11ea_a6fb_107b449f15fcrow7_col0\" class=\"data row7 col0\" >0.00583</td>\n",
       "            </tr>\n",
       "            <tr>\n",
       "                        <th id=\"T_dd44a2cf_0a1b_11ea_a6fb_107b449f15fclevel0_row8\" class=\"row_heading level0 row8\" >планета</th>\n",
       "                        <td id=\"T_dd44a2cf_0a1b_11ea_a6fb_107b449f15fcrow8_col0\" class=\"data row8 col0\" >0.00552</td>\n",
       "            </tr>\n",
       "            <tr>\n",
       "                        <th id=\"T_dd44a2cf_0a1b_11ea_a6fb_107b449f15fclevel0_row9\" class=\"row_heading level0 row9\" >телескоп</th>\n",
       "                        <td id=\"T_dd44a2cf_0a1b_11ea_a6fb_107b449f15fcrow9_col0\" class=\"data row9 col0\" >0.00499</td>\n",
       "            </tr>\n",
       "    </tbody></table>"
      ]
     },
     "metadata": {},
     "output_type": "display_data"
    },
    {
     "data": {
      "text/html": [
       "<b> черные дыры в центрах галактик </b><br /> астрофизик ольга сильченко об открытии сверхмассивной черной дыры в туманности андромеды, исследованиях джона корменди и темных гравитирующих телах"
      ]
     },
     "metadata": {},
     "output_type": "display_data"
    },
    {
     "data": {
      "text/html": [
       "<b> главы # как все начиналось </b><br /> отрывок из книги «двигатели гравитации. как черные дыры управляют галактиками, звездами и жизнью в космосе» директора астробиологической обсерватории при колумбийском университете в нью-йорке kалеба шарфа"
      ]
     },
     "metadata": {},
     "output_type": "display_data"
    },
    {
     "data": {
      "text/html": [
       "<b> как были открыты черные дыры промежуточной массы? </b><br /> о методах определения массы черной дыры и загадке ультрамощных рентгеновских источников"
      ]
     },
     "metadata": {},
     "output_type": "display_data"
    },
    {
     "data": {
      "text/html": [
       "<b> ударные волны вблизи компактных объектов </b><br /> астрофизик валерий сулейманов о нейтронных звездах, гравитации на космических кораблях и ньютоновском пределе"
      ]
     },
     "metadata": {},
     "output_type": "display_data"
    },
    {
     "data": {
      "text/html": [
       "<b> будущее экзопланетных исследований </b><br /> астрофизик сергей попов о поиске жизни на экзопланетах, международных космических проектах и наземных телескопах нового поколения"
      ]
     },
     "metadata": {},
     "output_type": "display_data"
    },
    {
     "data": {
      "text/html": [
       "<b> обнаружена самая яркая нейтронная звезда </b><br /> о пределе эддингтона, ультраярких рентгеновских источниках и тесных двойных системах"
      ]
     },
     "metadata": {},
     "output_type": "display_data"
    },
    {
     "data": {
      "text/html": [
       "<b> черные дыры </b><br /> физик эмиль ахмедов об изучении черных дыр, карле шварцшильде и гигантских черных дырах"
      ]
     },
     "metadata": {},
     "output_type": "display_data"
    },
    {
     "data": {
      "text/html": [
       "<b> что нового открыли в космосе </b><br /> астрофизик сергей попов о внегалактической астрономии, исследованиях экзопланет и теориях гравитации"
      ]
     },
     "metadata": {},
     "output_type": "display_data"
    },
    {
     "data": {
      "text/html": [
       "<b> faqшаровые скопления </b><br /> 7 фактов об огромных и древних звёздных городах"
      ]
     },
     "metadata": {},
     "output_type": "display_data"
    },
    {
     "data": {
      "text/html": [
       "<b> магнитары </b><br /> астрофизик сергей попов о гамма-всплесках, сильных магнитных полях и рентгеновских пульсарах"
      ]
     },
     "metadata": {},
     "output_type": "display_data"
    },
    {
     "data": {
      "text/html": [
       "<style  type=\"text/css\" >\n",
       "</style><table id=\"T_dd44a2d0_0a1b_11ea_a6fb_107b449f15fc\" style='display:inline'><thead>    <tr>        <th class=\"blank level0\" ></th>        <th class=\"col_heading level0 col0\" >topic_14 @2gramm</th>    </tr></thead><tbody>\n",
       "                <tr>\n",
       "                        <th id=\"T_dd44a2d0_0a1b_11ea_a6fb_107b449f15fclevel0_row0\" class=\"row_heading level0 row0\" >центральный_банк</th>\n",
       "                        <td id=\"T_dd44a2d0_0a1b_11ea_a6fb_107b449f15fcrow0_col0\" class=\"data row0 col0\" >0.0135</td>\n",
       "            </tr>\n",
       "            <tr>\n",
       "                        <th id=\"T_dd44a2d0_0a1b_11ea_a6fb_107b449f15fclevel0_row1\" class=\"row_heading level0 row1\" >промышленный_революция</th>\n",
       "                        <td id=\"T_dd44a2d0_0a1b_11ea_a6fb_107b449f15fcrow1_col0\" class=\"data row1 col0\" >0.01266</td>\n",
       "            </tr>\n",
       "            <tr>\n",
       "                        <th id=\"T_dd44a2d0_0a1b_11ea_a6fb_107b449f15fclevel0_row2\" class=\"row_heading level0 row2\" >экономический_рост</th>\n",
       "                        <td id=\"T_dd44a2d0_0a1b_11ea_a6fb_107b449f15fcrow2_col0\" class=\"data row2 col0\" >0.01217</td>\n",
       "            </tr>\n",
       "            <tr>\n",
       "                        <th id=\"T_dd44a2d0_0a1b_11ea_a6fb_107b449f15fclevel0_row3\" class=\"row_heading level0 row3\" >государственный_долг</th>\n",
       "                        <td id=\"T_dd44a2d0_0a1b_11ea_a6fb_107b449f15fcrow3_col0\" class=\"data row3 col0\" >0.00899</td>\n",
       "            </tr>\n",
       "            <tr>\n",
       "                        <th id=\"T_dd44a2d0_0a1b_11ea_a6fb_107b449f15fclevel0_row4\" class=\"row_heading level0 row4\" >центральный_банка</th>\n",
       "                        <td id=\"T_dd44a2d0_0a1b_11ea_a6fb_107b449f15fcrow4_col0\" class=\"data row4 col0\" >0.00885</td>\n",
       "            </tr>\n",
       "            <tr>\n",
       "                        <th id=\"T_dd44a2d0_0a1b_11ea_a6fb_107b449f15fclevel0_row5\" class=\"row_heading level0 row5\" >мировой_экономика</th>\n",
       "                        <td id=\"T_dd44a2d0_0a1b_11ea_a6fb_107b449f15fcrow5_col0\" class=\"data row5 col0\" >0.00835</td>\n",
       "            </tr>\n",
       "            <tr>\n",
       "                        <th id=\"T_dd44a2d0_0a1b_11ea_a6fb_107b449f15fclevel0_row6\" class=\"row_heading level0 row6\" >развивающийся_страна</th>\n",
       "                        <td id=\"T_dd44a2d0_0a1b_11ea_a6fb_107b449f15fcrow6_col0\" class=\"data row6 col0\" >0.00823</td>\n",
       "            </tr>\n",
       "            <tr>\n",
       "                        <th id=\"T_dd44a2d0_0a1b_11ea_a6fb_107b449f15fclevel0_row7\" class=\"row_heading level0 row7\" >развитый_страна</th>\n",
       "                        <td id=\"T_dd44a2d0_0a1b_11ea_a6fb_107b449f15fcrow7_col0\" class=\"data row7 col0\" >0.00734</td>\n",
       "            </tr>\n",
       "            <tr>\n",
       "                        <th id=\"T_dd44a2d0_0a1b_11ea_a6fb_107b449f15fclevel0_row8\" class=\"row_heading level0 row8\" >финансовый_рынок</th>\n",
       "                        <td id=\"T_dd44a2d0_0a1b_11ea_a6fb_107b449f15fcrow8_col0\" class=\"data row8 col0\" >0.00669</td>\n",
       "            </tr>\n",
       "            <tr>\n",
       "                        <th id=\"T_dd44a2d0_0a1b_11ea_a6fb_107b449f15fclevel0_row9\" class=\"row_heading level0 row9\" >рабочий_место</th>\n",
       "                        <td id=\"T_dd44a2d0_0a1b_11ea_a6fb_107b449f15fcrow9_col0\" class=\"data row9 col0\" >0.00651</td>\n",
       "            </tr>\n",
       "    </tbody></table><style  type=\"text/css\" >\n",
       "</style><table id=\"T_dd44a2d1_0a1b_11ea_a6fb_107b449f15fc\" style='display:inline'><thead>    <tr>        <th class=\"blank level0\" ></th>        <th class=\"col_heading level0 col0\" >topic_14 @3gramm</th>    </tr></thead><tbody>\n",
       "                <tr>\n",
       "                        <th id=\"T_dd44a2d1_0a1b_11ea_a6fb_107b449f15fclevel0_row0\" class=\"row_heading level0 row0\" >рак_молочный_железа</th>\n",
       "                        <td id=\"T_dd44a2d1_0a1b_11ea_a6fb_107b449f15fcrow0_col0\" class=\"data row0 col0\" >0.12928</td>\n",
       "            </tr>\n",
       "            <tr>\n",
       "                        <th id=\"T_dd44a2d1_0a1b_11ea_a6fb_107b449f15fclevel0_row1\" class=\"row_heading level0 row1\" >эпоха_поздний_бронза</th>\n",
       "                        <td id=\"T_dd44a2d1_0a1b_11ea_a6fb_107b449f15fcrow1_col0\" class=\"data row1 col0\" >0.0922</td>\n",
       "            </tr>\n",
       "            <tr>\n",
       "                        <th id=\"T_dd44a2d1_0a1b_11ea_a6fb_107b449f15fclevel0_row2\" class=\"row_heading level0 row2\" >федеральный_резервный_система</th>\n",
       "                        <td id=\"T_dd44a2d1_0a1b_11ea_a6fb_107b449f15fcrow2_col0\" class=\"data row2 col0\" >0.08613</td>\n",
       "            </tr>\n",
       "            <tr>\n",
       "                        <th id=\"T_dd44a2d1_0a1b_11ea_a6fb_107b449f15fclevel0_row3\" class=\"row_heading level0 row3\" >темп_экономический_рост</th>\n",
       "                        <td id=\"T_dd44a2d1_0a1b_11ea_a6fb_107b449f15fcrow3_col0\" class=\"data row3 col0\" >0.07973</td>\n",
       "            </tr>\n",
       "            <tr>\n",
       "                        <th id=\"T_dd44a2d1_0a1b_11ea_a6fb_107b449f15fclevel0_row4\" class=\"row_heading level0 row4\" >крупный_рогатый_скот</th>\n",
       "                        <td id=\"T_dd44a2d1_0a1b_11ea_a6fb_107b449f15fcrow4_col0\" class=\"data row4 col0\" >0.06825</td>\n",
       "            </tr>\n",
       "            <tr>\n",
       "                        <th id=\"T_dd44a2d1_0a1b_11ea_a6fb_107b449f15fclevel0_row5\" class=\"row_heading level0 row5\" >бронзовый_антропоморфный_пластика</th>\n",
       "                        <td id=\"T_dd44a2d1_0a1b_11ea_a6fb_107b449f15fcrow5_col0\" class=\"data row5 col0\" >0.06608</td>\n",
       "            </tr>\n",
       "            <tr>\n",
       "                        <th id=\"T_dd44a2d1_0a1b_11ea_a6fb_107b449f15fclevel0_row6\" class=\"row_heading level0 row6\" >экономический_точка_зрение</th>\n",
       "                        <td id=\"T_dd44a2d1_0a1b_11ea_a6fb_107b449f15fcrow6_col0\" class=\"data row6 col0\" >0.04598</td>\n",
       "            </tr>\n",
       "            <tr>\n",
       "                        <th id=\"T_dd44a2d1_0a1b_11ea_a6fb_107b449f15fclevel0_row7\" class=\"row_heading level0 row7\" >строгий_смысл_слово</th>\n",
       "                        <td id=\"T_dd44a2d1_0a1b_11ea_a6fb_107b449f15fcrow7_col0\" class=\"data row7 col0\" >0.04588</td>\n",
       "            </tr>\n",
       "            <tr>\n",
       "                        <th id=\"T_dd44a2d1_0a1b_11ea_a6fb_107b449f15fclevel0_row8\" class=\"row_heading level0 row8\" >мировой_финансовый_кризис</th>\n",
       "                        <td id=\"T_dd44a2d1_0a1b_11ea_a6fb_107b449f15fcrow8_col0\" class=\"data row8 col0\" >0.0403</td>\n",
       "            </tr>\n",
       "            <tr>\n",
       "                        <th id=\"T_dd44a2d1_0a1b_11ea_a6fb_107b449f15fclevel0_row9\" class=\"row_heading level0 row9\" >страна_латинский_америка</th>\n",
       "                        <td id=\"T_dd44a2d1_0a1b_11ea_a6fb_107b449f15fcrow9_col0\" class=\"data row9 col0\" >0.04013</td>\n",
       "            </tr>\n",
       "    </tbody></table><style  type=\"text/css\" >\n",
       "</style><table id=\"T_dd44a2d2_0a1b_11ea_a6fb_107b449f15fc\" style='display:inline'><thead>    <tr>        <th class=\"blank level0\" ></th>        <th class=\"col_heading level0 col0\" >topic_14 @post_tag</th>    </tr></thead><tbody>\n",
       "                <tr>\n",
       "                        <th id=\"T_dd44a2d2_0a1b_11ea_a6fb_107b449f15fclevel0_row0\" class=\"row_heading level0 row0\" >экономика</th>\n",
       "                        <td id=\"T_dd44a2d2_0a1b_11ea_a6fb_107b449f15fcrow0_col0\" class=\"data row0 col0\" >0.33314</td>\n",
       "            </tr>\n",
       "            <tr>\n",
       "                        <th id=\"T_dd44a2d2_0a1b_11ea_a6fb_107b449f15fclevel0_row1\" class=\"row_heading level0 row1\" >россия</th>\n",
       "                        <td id=\"T_dd44a2d2_0a1b_11ea_a6fb_107b449f15fcrow1_col0\" class=\"data row1 col0\" >0.0705</td>\n",
       "            </tr>\n",
       "            <tr>\n",
       "                        <th id=\"T_dd44a2d2_0a1b_11ea_a6fb_107b449f15fclevel0_row2\" class=\"row_heading level0 row2\" >государство</th>\n",
       "                        <td id=\"T_dd44a2d2_0a1b_11ea_a6fb_107b449f15fcrow2_col0\" class=\"data row2 col0\" >0.05479</td>\n",
       "            </tr>\n",
       "            <tr>\n",
       "                        <th id=\"T_dd44a2d2_0a1b_11ea_a6fb_107b449f15fclevel0_row3\" class=\"row_heading level0 row3\" >сша</th>\n",
       "                        <td id=\"T_dd44a2d2_0a1b_11ea_a6fb_107b449f15fcrow3_col0\" class=\"data row3 col0\" >0.04954</td>\n",
       "            </tr>\n",
       "            <tr>\n",
       "                        <th id=\"T_dd44a2d2_0a1b_11ea_a6fb_107b449f15fclevel0_row4\" class=\"row_heading level0 row4\" >финансовый_рынок</th>\n",
       "                        <td id=\"T_dd44a2d2_0a1b_11ea_a6fb_107b449f15fcrow4_col0\" class=\"data row4 col0\" >0.036</td>\n",
       "            </tr>\n",
       "            <tr>\n",
       "                        <th id=\"T_dd44a2d2_0a1b_11ea_a6fb_107b449f15fclevel0_row5\" class=\"row_heading level0 row5\" >рынок</th>\n",
       "                        <td id=\"T_dd44a2d2_0a1b_11ea_a6fb_107b449f15fcrow5_col0\" class=\"data row5 col0\" >0.036</td>\n",
       "            </tr>\n",
       "            <tr>\n",
       "                        <th id=\"T_dd44a2d2_0a1b_11ea_a6fb_107b449f15fclevel0_row6\" class=\"row_heading level0 row6\" >финансовый_кризис</th>\n",
       "                        <td id=\"T_dd44a2d2_0a1b_11ea_a6fb_107b449f15fcrow6_col0\" class=\"data row6 col0\" >0.03399</td>\n",
       "            </tr>\n",
       "            <tr>\n",
       "                        <th id=\"T_dd44a2d2_0a1b_11ea_a6fb_107b449f15fclevel0_row7\" class=\"row_heading level0 row7\" >китай</th>\n",
       "                        <td id=\"T_dd44a2d2_0a1b_11ea_a6fb_107b449f15fcrow7_col0\" class=\"data row7 col0\" >0.02491</td>\n",
       "            </tr>\n",
       "            <tr>\n",
       "                        <th id=\"T_dd44a2d2_0a1b_11ea_a6fb_107b449f15fclevel0_row8\" class=\"row_heading level0 row8\" >экономическое_развитие</th>\n",
       "                        <td id=\"T_dd44a2d2_0a1b_11ea_a6fb_107b449f15fcrow8_col0\" class=\"data row8 col0\" >0.02399</td>\n",
       "            </tr>\n",
       "            <tr>\n",
       "                        <th id=\"T_dd44a2d2_0a1b_11ea_a6fb_107b449f15fclevel0_row9\" class=\"row_heading level0 row9\" >европа</th>\n",
       "                        <td id=\"T_dd44a2d2_0a1b_11ea_a6fb_107b449f15fcrow9_col0\" class=\"data row9 col0\" >0.02369</td>\n",
       "            </tr>\n",
       "    </tbody></table><style  type=\"text/css\" >\n",
       "</style><table id=\"T_dd44a2d3_0a1b_11ea_a6fb_107b449f15fc\" style='display:inline'><thead>    <tr>        <th class=\"blank level0\" ></th>        <th class=\"col_heading level0 col0\" >topic_14 @word</th>    </tr></thead><tbody>\n",
       "                <tr>\n",
       "                        <th id=\"T_dd44a2d3_0a1b_11ea_a6fb_107b449f15fclevel0_row0\" class=\"row_heading level0 row0\" >страна</th>\n",
       "                        <td id=\"T_dd44a2d3_0a1b_11ea_a6fb_107b449f15fcrow0_col0\" class=\"data row0 col0\" >0.01095</td>\n",
       "            </tr>\n",
       "            <tr>\n",
       "                        <th id=\"T_dd44a2d3_0a1b_11ea_a6fb_107b449f15fclevel0_row1\" class=\"row_heading level0 row1\" >экономика</th>\n",
       "                        <td id=\"T_dd44a2d3_0a1b_11ea_a6fb_107b449f15fcrow1_col0\" class=\"data row1 col0\" >0.00892</td>\n",
       "            </tr>\n",
       "            <tr>\n",
       "                        <th id=\"T_dd44a2d3_0a1b_11ea_a6fb_107b449f15fclevel0_row2\" class=\"row_heading level0 row2\" >китай</th>\n",
       "                        <td id=\"T_dd44a2d3_0a1b_11ea_a6fb_107b449f15fcrow2_col0\" class=\"data row2 col0\" >0.0051</td>\n",
       "            </tr>\n",
       "            <tr>\n",
       "                        <th id=\"T_dd44a2d3_0a1b_11ea_a6fb_107b449f15fclevel0_row3\" class=\"row_heading level0 row3\" >россия</th>\n",
       "                        <td id=\"T_dd44a2d3_0a1b_11ea_a6fb_107b449f15fcrow3_col0\" class=\"data row3 col0\" >0.00497</td>\n",
       "            </tr>\n",
       "            <tr>\n",
       "                        <th id=\"T_dd44a2d3_0a1b_11ea_a6fb_107b449f15fclevel0_row4\" class=\"row_heading level0 row4\" >экономический</th>\n",
       "                        <td id=\"T_dd44a2d3_0a1b_11ea_a6fb_107b449f15fcrow4_col0\" class=\"data row4 col0\" >0.00459</td>\n",
       "            </tr>\n",
       "            <tr>\n",
       "                        <th id=\"T_dd44a2d3_0a1b_11ea_a6fb_107b449f15fclevel0_row5\" class=\"row_heading level0 row5\" >государство</th>\n",
       "                        <td id=\"T_dd44a2d3_0a1b_11ea_a6fb_107b449f15fcrow5_col0\" class=\"data row5 col0\" >0.00422</td>\n",
       "            </tr>\n",
       "            <tr>\n",
       "                        <th id=\"T_dd44a2d3_0a1b_11ea_a6fb_107b449f15fclevel0_row6\" class=\"row_heading level0 row6\" >сша</th>\n",
       "                        <td id=\"T_dd44a2d3_0a1b_11ea_a6fb_107b449f15fcrow6_col0\" class=\"data row6 col0\" >0.00406</td>\n",
       "            </tr>\n",
       "            <tr>\n",
       "                        <th id=\"T_dd44a2d3_0a1b_11ea_a6fb_107b449f15fclevel0_row7\" class=\"row_heading level0 row7\" >рынок</th>\n",
       "                        <td id=\"T_dd44a2d3_0a1b_11ea_a6fb_107b449f15fcrow7_col0\" class=\"data row7 col0\" >0.00403</td>\n",
       "            </tr>\n",
       "            <tr>\n",
       "                        <th id=\"T_dd44a2d3_0a1b_11ea_a6fb_107b449f15fclevel0_row8\" class=\"row_heading level0 row8\" >проблема</th>\n",
       "                        <td id=\"T_dd44a2d3_0a1b_11ea_a6fb_107b449f15fcrow8_col0\" class=\"data row8 col0\" >0.00395</td>\n",
       "            </tr>\n",
       "            <tr>\n",
       "                        <th id=\"T_dd44a2d3_0a1b_11ea_a6fb_107b449f15fclevel0_row9\" class=\"row_heading level0 row9\" >цена</th>\n",
       "                        <td id=\"T_dd44a2d3_0a1b_11ea_a6fb_107b449f15fcrow9_col0\" class=\"data row9 col0\" >0.00379</td>\n",
       "            </tr>\n",
       "    </tbody></table>"
      ]
     },
     "metadata": {},
     "output_type": "display_data"
    },
    {
     "data": {
      "text/html": [
       "<b> главы # от пузыря к пузырю </b><br /> отрывок из книги «линии разломаскрытые трещины, все еще угрожающие мировой экономике» профессора чикагского университета рагурама раджана"
      ]
     },
     "metadata": {},
     "output_type": "display_data"
    },
    {
     "data": {
      "text/html": [
       "<b> экономические колебания </b><br /> экономист сергей афонцев о причинах роста и спада экономики, экономическом кризисе и несостоятельности теорий экономических циклов"
      ]
     },
     "metadata": {},
     "output_type": "display_data"
    },
    {
     "data": {
      "text/html": [
       "<b> главы # инфляция и гиперинфляция </b><br /> глава из книги \"развязка. конец долгового суперцикла и его последствия\"  финансистов джона молдина и джонатана теппера"
      ]
     },
     "metadata": {},
     "output_type": "display_data"
    },
    {
     "data": {
      "text/html": [
       "<b> главы # жиры и внимание к онкологическим заболеваниям </b><br /> отрывок из книг \"китайское исследование\" профессора биохимии колина кэмпбелла"
      ]
     },
     "metadata": {},
     "output_type": "display_data"
    },
    {
     "data": {
      "text/html": [
       "<b> эволюция центральных банков и денежно-кредитного регулирования </b><br /> экономист сергей дубинин об истории становления банковской системы в мире, кризисах хх века и перспективах экономики россии"
      ]
     },
     "metadata": {},
     "output_type": "display_data"
    },
    {
     "data": {
      "text/html": [
       "<b> faqнеформальность на рынке труда </b><br /> 6 фактов об интенсификации миграции и проблеме сопоставления заработков между разными секторами труда"
      ]
     },
     "metadata": {},
     "output_type": "display_data"
    },
    {
     "data": {
      "text/html": [
       "<b> великая депрессия </b><br /> историк юрий рогулёв об антикризисных мерах рузвельта, зарождении социального законодательства в сша и спаде американской экономики в 1930-х годах"
      ]
     },
     "metadata": {},
     "output_type": "display_data"
    },
    {
     "data": {
      "text/html": [
       "<b> главы # дефицит демократии </b><br /> отрывок из книги «по ту сторону невидимой рукиоснования новой экономической науки» старшего экономиста всемирного банка каушика басу"
      ]
     },
     "metadata": {},
     "output_type": "display_data"
    },
    {
     "data": {
      "text/html": [
       "<b> центральные банкизадачи и функции </b><br /> 5 фактов о деятельности важнейшего финансового института"
      ]
     },
     "metadata": {},
     "output_type": "display_data"
    },
    {
     "data": {
      "text/html": [
       "<b> главыработа и безработица </b><br /> отрывок из книги \"как работает экономика\" экономиста  ха-джун чанга о роли работы и безработицы в глобальном мире"
      ]
     },
     "metadata": {},
     "output_type": "display_data"
    },
    {
     "data": {
      "text/html": [
       "<style  type=\"text/css\" >\n",
       "</style><table id=\"T_dd44a2d4_0a1b_11ea_a6fb_107b449f15fc\" style='display:inline'><thead>    <tr>        <th class=\"blank level0\" ></th>        <th class=\"col_heading level0 col0\" >topic_15 @2gramm</th>    </tr></thead><tbody>\n",
       "                <tr>\n",
       "                        <th id=\"T_dd44a2d4_0a1b_11ea_a6fb_107b449f15fclevel0_row0\" class=\"row_heading level0 row0\" >xix_век</th>\n",
       "                        <td id=\"T_dd44a2d4_0a1b_11ea_a6fb_107b449f15fcrow0_col0\" class=\"data row0 col0\" >0.01008</td>\n",
       "            </tr>\n",
       "            <tr>\n",
       "                        <th id=\"T_dd44a2d4_0a1b_11ea_a6fb_107b449f15fclevel0_row1\" class=\"row_heading level0 row1\" >традиционный_культура</th>\n",
       "                        <td id=\"T_dd44a2d4_0a1b_11ea_a6fb_107b449f15fcrow1_col0\" class=\"data row1 col0\" >0.00905</td>\n",
       "            </tr>\n",
       "            <tr>\n",
       "                        <th id=\"T_dd44a2d4_0a1b_11ea_a6fb_107b449f15fclevel0_row2\" class=\"row_heading level0 row2\" >греческий_миф</th>\n",
       "                        <td id=\"T_dd44a2d4_0a1b_11ea_a6fb_107b449f15fcrow2_col0\" class=\"data row2 col0\" >0.00866</td>\n",
       "            </tr>\n",
       "            <tr>\n",
       "                        <th id=\"T_dd44a2d4_0a1b_11ea_a6fb_107b449f15fclevel0_row3\" class=\"row_heading level0 row3\" >греческий_мифология</th>\n",
       "                        <td id=\"T_dd44a2d4_0a1b_11ea_a6fb_107b449f15fcrow3_col0\" class=\"data row3 col0\" >0.00739</td>\n",
       "            </tr>\n",
       "            <tr>\n",
       "                        <th id=\"T_dd44a2d4_0a1b_11ea_a6fb_107b449f15fclevel0_row4\" class=\"row_heading level0 row4\" >чёрный_мор</th>\n",
       "                        <td id=\"T_dd44a2d4_0a1b_11ea_a6fb_107b449f15fcrow4_col0\" class=\"data row4 col0\" >0.00578</td>\n",
       "            </tr>\n",
       "            <tr>\n",
       "                        <th id=\"T_dd44a2d4_0a1b_11ea_a6fb_107b449f15fclevel0_row5\" class=\"row_heading level0 row5\" >массовый_культура</th>\n",
       "                        <td id=\"T_dd44a2d4_0a1b_11ea_a6fb_107b449f15fcrow5_col0\" class=\"data row5 col0\" >0.00477</td>\n",
       "            </tr>\n",
       "            <tr>\n",
       "                        <th id=\"T_dd44a2d4_0a1b_11ea_a6fb_107b449f15fclevel0_row6\" class=\"row_heading level0 row6\" >последний_десятилетие</th>\n",
       "                        <td id=\"T_dd44a2d4_0a1b_11ea_a6fb_107b449f15fcrow6_col0\" class=\"data row6 col0\" >0.00447</td>\n",
       "            </tr>\n",
       "            <tr>\n",
       "                        <th id=\"T_dd44a2d4_0a1b_11ea_a6fb_107b449f15fclevel0_row7\" class=\"row_heading level0 row7\" >дать_случай</th>\n",
       "                        <td id=\"T_dd44a2d4_0a1b_11ea_a6fb_107b449f15fcrow7_col0\" class=\"data row7 col0\" >0.00404</td>\n",
       "            </tr>\n",
       "            <tr>\n",
       "                        <th id=\"T_dd44a2d4_0a1b_11ea_a6fb_107b449f15fclevel0_row8\" class=\"row_heading level0 row8\" >древний_греция</th>\n",
       "                        <td id=\"T_dd44a2d4_0a1b_11ea_a6fb_107b449f15fcrow8_col0\" class=\"data row8 col0\" >0.00402</td>\n",
       "            </tr>\n",
       "            <tr>\n",
       "                        <th id=\"T_dd44a2d4_0a1b_11ea_a6fb_107b449f15fclevel0_row9\" class=\"row_heading level0 row9\" >устный_традиция</th>\n",
       "                        <td id=\"T_dd44a2d4_0a1b_11ea_a6fb_107b449f15fcrow9_col0\" class=\"data row9 col0\" >0.0039</td>\n",
       "            </tr>\n",
       "    </tbody></table><style  type=\"text/css\" >\n",
       "</style><table id=\"T_dd44a2d5_0a1b_11ea_a6fb_107b449f15fc\" style='display:inline'><thead>    <tr>        <th class=\"blank level0\" ></th>        <th class=\"col_heading level0 col0\" >topic_15 @3gramm</th>    </tr></thead><tbody>\n",
       "                <tr>\n",
       "                        <th id=\"T_dd44a2d5_0a1b_11ea_a6fb_107b449f15fclevel0_row0\" class=\"row_heading level0 row0\" >начало_xix_век</th>\n",
       "                        <td id=\"T_dd44a2d5_0a1b_11ea_a6fb_107b449f15fcrow0_col0\" class=\"data row0 col0\" >0.3362</td>\n",
       "            </tr>\n",
       "            <tr>\n",
       "                        <th id=\"T_dd44a2d5_0a1b_11ea_a6fb_107b449f15fclevel0_row1\" class=\"row_heading level0 row1\" >важный_роль_играть</th>\n",
       "                        <td id=\"T_dd44a2d5_0a1b_11ea_a6fb_107b449f15fcrow1_col0\" class=\"data row1 col0\" >0.15521</td>\n",
       "            </tr>\n",
       "            <tr>\n",
       "                        <th id=\"T_dd44a2d5_0a1b_11ea_a6fb_107b449f15fclevel0_row2\" class=\"row_heading level0 row2\" >теория_речевой_акт</th>\n",
       "                        <td id=\"T_dd44a2d5_0a1b_11ea_a6fb_107b449f15fcrow2_col0\" class=\"data row2 col0\" >0.11149</td>\n",
       "            </tr>\n",
       "            <tr>\n",
       "                        <th id=\"T_dd44a2d5_0a1b_11ea_a6fb_107b449f15fclevel0_row3\" class=\"row_heading level0 row3\" >теория_рациональный_выбор</th>\n",
       "                        <td id=\"T_dd44a2d5_0a1b_11ea_a6fb_107b449f15fcrow3_col0\" class=\"data row3 col0\" >0.09227</td>\n",
       "            </tr>\n",
       "            <tr>\n",
       "                        <th id=\"T_dd44a2d5_0a1b_11ea_a6fb_107b449f15fclevel0_row4\" class=\"row_heading level0 row4\" >процесс_современный_наука</th>\n",
       "                        <td id=\"T_dd44a2d5_0a1b_11ea_a6fb_107b449f15fcrow4_col0\" class=\"data row4 col0\" >0.0461</td>\n",
       "            </tr>\n",
       "            <tr>\n",
       "                        <th id=\"T_dd44a2d5_0a1b_11ea_a6fb_107b449f15fclevel0_row5\" class=\"row_heading level0 row5\" >позволять_журналист_ориентироваться</th>\n",
       "                        <td id=\"T_dd44a2d5_0a1b_11ea_a6fb_107b449f15fcrow5_col0\" class=\"data row5 col0\" >0.0461</td>\n",
       "            </tr>\n",
       "            <tr>\n",
       "                        <th id=\"T_dd44a2d5_0a1b_11ea_a6fb_107b449f15fclevel0_row6\" class=\"row_heading level0 row6\" >каков_история_создание</th>\n",
       "                        <td id=\"T_dd44a2d5_0a1b_11ea_a6fb_107b449f15fcrow6_col0\" class=\"data row6 col0\" >0.03434</td>\n",
       "            </tr>\n",
       "            <tr>\n",
       "                        <th id=\"T_dd44a2d5_0a1b_11ea_a6fb_107b449f15fclevel0_row7\" class=\"row_heading level0 row7\" >получить_хороший_образование</th>\n",
       "                        <td id=\"T_dd44a2d5_0a1b_11ea_a6fb_107b449f15fcrow7_col0\" class=\"data row7 col0\" >0.03421</td>\n",
       "            </tr>\n",
       "            <tr>\n",
       "                        <th id=\"T_dd44a2d5_0a1b_11ea_a6fb_107b449f15fclevel0_row8\" class=\"row_heading level0 row8\" >говорить_простой_язык</th>\n",
       "                        <td id=\"T_dd44a2d5_0a1b_11ea_a6fb_107b449f15fcrow8_col0\" class=\"data row8 col0\" >0.02871</td>\n",
       "            </tr>\n",
       "            <tr>\n",
       "                        <th id=\"T_dd44a2d5_0a1b_11ea_a6fb_107b449f15fclevel0_row9\" class=\"row_heading level0 row9\" >подряд_реализовывать_проект</th>\n",
       "                        <td id=\"T_dd44a2d5_0a1b_11ea_a6fb_107b449f15fcrow9_col0\" class=\"data row9 col0\" >0.02867</td>\n",
       "            </tr>\n",
       "    </tbody></table><style  type=\"text/css\" >\n",
       "</style><table id=\"T_dd44a2d6_0a1b_11ea_a6fb_107b449f15fc\" style='display:inline'><thead>    <tr>        <th class=\"blank level0\" ></th>        <th class=\"col_heading level0 col0\" >topic_15 @post_tag</th>    </tr></thead><tbody>\n",
       "                <tr>\n",
       "                        <th id=\"T_dd44a2d6_0a1b_11ea_a6fb_107b449f15fclevel0_row0\" class=\"row_heading level0 row0\" >культура</th>\n",
       "                        <td id=\"T_dd44a2d6_0a1b_11ea_a6fb_107b449f15fcrow0_col0\" class=\"data row0 col0\" >0.11897</td>\n",
       "            </tr>\n",
       "            <tr>\n",
       "                        <th id=\"T_dd44a2d6_0a1b_11ea_a6fb_107b449f15fclevel0_row1\" class=\"row_heading level0 row1\" >фольклор</th>\n",
       "                        <td id=\"T_dd44a2d6_0a1b_11ea_a6fb_107b449f15fcrow1_col0\" class=\"data row1 col0\" >0.10444</td>\n",
       "            </tr>\n",
       "            <tr>\n",
       "                        <th id=\"T_dd44a2d6_0a1b_11ea_a6fb_107b449f15fclevel0_row2\" class=\"row_heading level0 row2\" >мифология</th>\n",
       "                        <td id=\"T_dd44a2d6_0a1b_11ea_a6fb_107b449f15fcrow2_col0\" class=\"data row2 col0\" >0.09993</td>\n",
       "            </tr>\n",
       "            <tr>\n",
       "                        <th id=\"T_dd44a2d6_0a1b_11ea_a6fb_107b449f15fclevel0_row3\" class=\"row_heading level0 row3\" >фольклористика</th>\n",
       "                        <td id=\"T_dd44a2d6_0a1b_11ea_a6fb_107b449f15fcrow3_col0\" class=\"data row3 col0\" >0.07723</td>\n",
       "            </tr>\n",
       "            <tr>\n",
       "                        <th id=\"T_dd44a2d6_0a1b_11ea_a6fb_107b449f15fclevel0_row4\" class=\"row_heading level0 row4\" >миф</th>\n",
       "                        <td id=\"T_dd44a2d6_0a1b_11ea_a6fb_107b449f15fcrow4_col0\" class=\"data row4 col0\" >0.07035</td>\n",
       "            </tr>\n",
       "            <tr>\n",
       "                        <th id=\"T_dd44a2d6_0a1b_11ea_a6fb_107b449f15fclevel0_row5\" class=\"row_heading level0 row5\" >древняя_греция</th>\n",
       "                        <td id=\"T_dd44a2d6_0a1b_11ea_a6fb_107b449f15fcrow5_col0\" class=\"data row5 col0\" >0.05799</td>\n",
       "            </tr>\n",
       "            <tr>\n",
       "                        <th id=\"T_dd44a2d6_0a1b_11ea_a6fb_107b449f15fclevel0_row6\" class=\"row_heading level0 row6\" >филология</th>\n",
       "                        <td id=\"T_dd44a2d6_0a1b_11ea_a6fb_107b449f15fcrow6_col0\" class=\"data row6 col0\" >0.0566</td>\n",
       "            </tr>\n",
       "            <tr>\n",
       "                        <th id=\"T_dd44a2d6_0a1b_11ea_a6fb_107b449f15fclevel0_row7\" class=\"row_heading level0 row7\" >античность</th>\n",
       "                        <td id=\"T_dd44a2d6_0a1b_11ea_a6fb_107b449f15fcrow7_col0\" class=\"data row7 col0\" >0.05292</td>\n",
       "            </tr>\n",
       "            <tr>\n",
       "                        <th id=\"T_dd44a2d6_0a1b_11ea_a6fb_107b449f15fclevel0_row8\" class=\"row_heading level0 row8\" >ритуал</th>\n",
       "                        <td id=\"T_dd44a2d6_0a1b_11ea_a6fb_107b449f15fcrow8_col0\" class=\"data row8 col0\" >0.03852</td>\n",
       "            </tr>\n",
       "            <tr>\n",
       "                        <th id=\"T_dd44a2d6_0a1b_11ea_a6fb_107b449f15fclevel0_row9\" class=\"row_heading level0 row9\" >народная_культура</th>\n",
       "                        <td id=\"T_dd44a2d6_0a1b_11ea_a6fb_107b449f15fcrow9_col0\" class=\"data row9 col0\" >0.02586</td>\n",
       "            </tr>\n",
       "    </tbody></table><style  type=\"text/css\" >\n",
       "</style><table id=\"T_dd44a2d7_0a1b_11ea_a6fb_107b449f15fc\" style='display:inline'><thead>    <tr>        <th class=\"blank level0\" ></th>        <th class=\"col_heading level0 col0\" >topic_15 @word</th>    </tr></thead><tbody>\n",
       "                <tr>\n",
       "                        <th id=\"T_dd44a2d7_0a1b_11ea_a6fb_107b449f15fclevel0_row0\" class=\"row_heading level0 row0\" >миф</th>\n",
       "                        <td id=\"T_dd44a2d7_0a1b_11ea_a6fb_107b449f15fcrow0_col0\" class=\"data row0 col0\" >0.00707</td>\n",
       "            </tr>\n",
       "            <tr>\n",
       "                        <th id=\"T_dd44a2d7_0a1b_11ea_a6fb_107b449f15fclevel0_row1\" class=\"row_heading level0 row1\" >говорить</th>\n",
       "                        <td id=\"T_dd44a2d7_0a1b_11ea_a6fb_107b449f15fcrow1_col0\" class=\"data row1 col0\" >0.00601</td>\n",
       "            </tr>\n",
       "            <tr>\n",
       "                        <th id=\"T_dd44a2d7_0a1b_11ea_a6fb_107b449f15fclevel0_row2\" class=\"row_heading level0 row2\" >культура</th>\n",
       "                        <td id=\"T_dd44a2d7_0a1b_11ea_a6fb_107b449f15fcrow2_col0\" class=\"data row2 col0\" >0.00449</td>\n",
       "            </tr>\n",
       "            <tr>\n",
       "                        <th id=\"T_dd44a2d7_0a1b_11ea_a6fb_107b449f15fclevel0_row3\" class=\"row_heading level0 row3\" >традиция</th>\n",
       "                        <td id=\"T_dd44a2d7_0a1b_11ea_a6fb_107b449f15fcrow3_col0\" class=\"data row3 col0\" >0.00419</td>\n",
       "            </tr>\n",
       "            <tr>\n",
       "                        <th id=\"T_dd44a2d7_0a1b_11ea_a6fb_107b449f15fclevel0_row4\" class=\"row_heading level0 row4\" >представление</th>\n",
       "                        <td id=\"T_dd44a2d7_0a1b_11ea_a6fb_107b449f15fcrow4_col0\" class=\"data row4 col0\" >0.0041</td>\n",
       "            </tr>\n",
       "            <tr>\n",
       "                        <th id=\"T_dd44a2d7_0a1b_11ea_a6fb_107b449f15fclevel0_row5\" class=\"row_heading level0 row5\" >образ</th>\n",
       "                        <td id=\"T_dd44a2d7_0a1b_11ea_a6fb_107b449f15fcrow5_col0\" class=\"data row5 col0\" >0.00404</td>\n",
       "            </tr>\n",
       "            <tr>\n",
       "                        <th id=\"T_dd44a2d7_0a1b_11ea_a6fb_107b449f15fclevel0_row6\" class=\"row_heading level0 row6\" >фольклор</th>\n",
       "                        <td id=\"T_dd44a2d7_0a1b_11ea_a6fb_107b449f15fcrow6_col0\" class=\"data row6 col0\" >0.00402</td>\n",
       "            </tr>\n",
       "            <tr>\n",
       "                        <th id=\"T_dd44a2d7_0a1b_11ea_a6fb_107b449f15fclevel0_row7\" class=\"row_heading level0 row7\" >мода</th>\n",
       "                        <td id=\"T_dd44a2d7_0a1b_11ea_a6fb_107b449f15fcrow7_col0\" class=\"data row7 col0\" >0.0038</td>\n",
       "            </tr>\n",
       "            <tr>\n",
       "                        <th id=\"T_dd44a2d7_0a1b_11ea_a6fb_107b449f15fclevel0_row8\" class=\"row_heading level0 row8\" >знать</th>\n",
       "                        <td id=\"T_dd44a2d7_0a1b_11ea_a6fb_107b449f15fcrow8_col0\" class=\"data row8 col0\" >0.00365</td>\n",
       "            </tr>\n",
       "            <tr>\n",
       "                        <th id=\"T_dd44a2d7_0a1b_11ea_a6fb_107b449f15fclevel0_row9\" class=\"row_heading level0 row9\" >слово</th>\n",
       "                        <td id=\"T_dd44a2d7_0a1b_11ea_a6fb_107b449f15fcrow9_col0\" class=\"data row9 col0\" >0.00345</td>\n",
       "            </tr>\n",
       "    </tbody></table>"
      ]
     },
     "metadata": {},
     "output_type": "display_data"
    },
    {
     "data": {
      "text/html": [
       "<b> faqдетский фольклор </b><br /> 7 фактов об истории возникновения, сюжетах и формах детской мифологии"
      ]
     },
     "metadata": {},
     "output_type": "display_data"
    },
    {
     "data": {
      "text/html": [
       "<b> faqтеория речевых актов </b><br /> 5 фактов об аналитической теории речепорождения и понимании произведений художественной литературы"
      ]
     },
     "metadata": {},
     "output_type": "display_data"
    },
    {
     "data": {
      "text/html": [
       "<b> принцип «намеренной небрежности» в дендизме </b><br /> филолог ольга вайнштейн о впечатлении спонтанности в облике денди, поведении джентльменов в обществе и приеме table talk"
      ]
     },
     "metadata": {},
     "output_type": "display_data"
    },
    {
     "data": {
      "text/html": [
       "<b> теория речевых актов </b><br /> филолог гасан гусейнов о седьмом письме платона, четырех фазах познания и чтении стихов"
      ]
     },
     "metadata": {},
     "output_type": "display_data"
    },
    {
     "data": {
      "text/html": [
       "<b> faqэрос в античной культуре </b><br /> 7 фактов об одном из самых загадочных персонажей греческой мифологии"
      ]
     },
     "metadata": {},
     "output_type": "display_data"
    },
    {
     "data": {
      "text/html": [
       "<b> faqлогика мифа </b><br /> 7 фактов о тайне мироздания, к которой человек приобщается через миф"
      ]
     },
     "metadata": {},
     "output_type": "display_data"
    },
    {
     "data": {
      "text/html": [
       "<b> магические заговоры в постсоветской россии </b><br /> фольклорист михаил алексеевский о традиционной крестьянской магии, адаптации магических текстов и влиянии западной эзотерики"
      ]
     },
     "metadata": {},
     "output_type": "display_data"
    },
    {
     "data": {
      "text/html": [
       "<b> образ женщины в русских сказках </b><br /> фольклорист варвара добровольская о двух типах сказочных героинь, идеале женщины и происхождении бабы-яги"
      ]
     },
     "metadata": {},
     "output_type": "display_data"
    },
    {
     "data": {
      "text/html": [
       "<b> 5 книг о сравнительной мифологии </b><br /> что читать о компаративном изучении мифологий, рекомендует доктор филологических наук сергей неклюдов"
      ]
     },
     "metadata": {},
     "output_type": "display_data"
    },
    {
     "data": {
      "text/html": [
       "<b> древнегреческие мифы о душе </b><br /> филолог гасан гусейнов о создании первых людей, свойствах души и ящике пандоры"
      ]
     },
     "metadata": {},
     "output_type": "display_data"
    },
    {
     "data": {
      "text/html": [
       "<style  type=\"text/css\" >\n",
       "</style><table id=\"T_dd44a2d8_0a1b_11ea_a6fb_107b449f15fc\" style='display:inline'><thead>    <tr>        <th class=\"blank level0\" ></th>        <th class=\"col_heading level0 col0\" >topic_16 @2gramm</th>    </tr></thead><tbody>\n",
       "                <tr>\n",
       "                        <th id=\"T_dd44a2d8_0a1b_11ea_a6fb_107b449f15fclevel0_row0\" class=\"row_heading level0 row0\" >гравитационный_волна</th>\n",
       "                        <td id=\"T_dd44a2d8_0a1b_11ea_a6fb_107b449f15fcrow0_col0\" class=\"data row0 col0\" >0.02071</td>\n",
       "            </tr>\n",
       "            <tr>\n",
       "                        <th id=\"T_dd44a2d8_0a1b_11ea_a6fb_107b449f15fclevel0_row1\" class=\"row_heading level0 row1\" >реликтовый_излучение</th>\n",
       "                        <td id=\"T_dd44a2d8_0a1b_11ea_a6fb_107b449f15fcrow1_col0\" class=\"data row1 col0\" >0.01821</td>\n",
       "            </tr>\n",
       "            <tr>\n",
       "                        <th id=\"T_dd44a2d8_0a1b_11ea_a6fb_107b449f15fclevel0_row2\" class=\"row_heading level0 row2\" >чёрный_дыра</th>\n",
       "                        <td id=\"T_dd44a2d8_0a1b_11ea_a6fb_107b449f15fcrow2_col0\" class=\"data row2 col0\" >0.01609</td>\n",
       "            </tr>\n",
       "            <tr>\n",
       "                        <th id=\"T_dd44a2d8_0a1b_11ea_a6fb_107b449f15fclevel0_row3\" class=\"row_heading level0 row3\" >тёмный_энергия</th>\n",
       "                        <td id=\"T_dd44a2d8_0a1b_11ea_a6fb_107b449f15fcrow3_col0\" class=\"data row3 col0\" >0.01422</td>\n",
       "            </tr>\n",
       "            <tr>\n",
       "                        <th id=\"T_dd44a2d8_0a1b_11ea_a6fb_107b449f15fclevel0_row4\" class=\"row_heading level0 row4\" >ранний_вселенная</th>\n",
       "                        <td id=\"T_dd44a2d8_0a1b_11ea_a6fb_107b449f15fcrow4_col0\" class=\"data row4 col0\" >0.01366</td>\n",
       "            </tr>\n",
       "            <tr>\n",
       "                        <th id=\"T_dd44a2d8_0a1b_11ea_a6fb_107b449f15fclevel0_row5\" class=\"row_heading level0 row5\" >теория_струна</th>\n",
       "                        <td id=\"T_dd44a2d8_0a1b_11ea_a6fb_107b449f15fcrow5_col0\" class=\"data row5 col0\" >0.0136</td>\n",
       "            </tr>\n",
       "            <tr>\n",
       "                        <th id=\"T_dd44a2d8_0a1b_11ea_a6fb_107b449f15fclevel0_row6\" class=\"row_heading level0 row6\" >расширение_вселенная</th>\n",
       "                        <td id=\"T_dd44a2d8_0a1b_11ea_a6fb_107b449f15fcrow6_col0\" class=\"data row6 col0\" >0.01099</td>\n",
       "            </tr>\n",
       "            <tr>\n",
       "                        <th id=\"T_dd44a2d8_0a1b_11ea_a6fb_107b449f15fclevel0_row7\" class=\"row_heading level0 row7\" >тёмный_материя</th>\n",
       "                        <td id=\"T_dd44a2d8_0a1b_11ea_a6fb_107b449f15fcrow7_col0\" class=\"data row7 col0\" >0.0102</td>\n",
       "            </tr>\n",
       "            <tr>\n",
       "                        <th id=\"T_dd44a2d8_0a1b_11ea_a6fb_107b449f15fclevel0_row8\" class=\"row_heading level0 row8\" >скопление_галактика</th>\n",
       "                        <td id=\"T_dd44a2d8_0a1b_11ea_a6fb_107b449f15fcrow8_col0\" class=\"data row8 col0\" >0.01016</td>\n",
       "            </tr>\n",
       "            <tr>\n",
       "                        <th id=\"T_dd44a2d8_0a1b_11ea_a6fb_107b449f15fclevel0_row9\" class=\"row_heading level0 row9\" >космологический_постоянный</th>\n",
       "                        <td id=\"T_dd44a2d8_0a1b_11ea_a6fb_107b449f15fcrow9_col0\" class=\"data row9 col0\" >0.00884</td>\n",
       "            </tr>\n",
       "    </tbody></table><style  type=\"text/css\" >\n",
       "</style><table id=\"T_dd44a2d9_0a1b_11ea_a6fb_107b449f15fc\" style='display:inline'><thead>    <tr>        <th class=\"blank level0\" ></th>        <th class=\"col_heading level0 col0\" >topic_16 @3gramm</th>    </tr></thead><tbody>\n",
       "                <tr>\n",
       "                        <th id=\"T_dd44a2d9_0a1b_11ea_a6fb_107b449f15fclevel0_row0\" class=\"row_heading level0 row0\" >общий_теория_относительность</th>\n",
       "                        <td id=\"T_dd44a2d9_0a1b_11ea_a6fb_107b449f15fcrow0_col0\" class=\"data row0 col0\" >0.32451</td>\n",
       "            </tr>\n",
       "            <tr>\n",
       "                        <th id=\"T_dd44a2d9_0a1b_11ea_a6fb_107b449f15fclevel0_row1\" class=\"row_heading level0 row1\" >анизотропия_реликтовый_излучение</th>\n",
       "                        <td id=\"T_dd44a2d9_0a1b_11ea_a6fb_107b449f15fcrow1_col0\" class=\"data row1 col0\" >0.08874</td>\n",
       "            </tr>\n",
       "            <tr>\n",
       "                        <th id=\"T_dd44a2d9_0a1b_11ea_a6fb_107b449f15fclevel0_row2\" class=\"row_heading level0 row2\" >первичный_гравитационный_волна</th>\n",
       "                        <td id=\"T_dd44a2d9_0a1b_11ea_a6fb_107b449f15fcrow2_col0\" class=\"data row2 col0\" >0.06158</td>\n",
       "            </tr>\n",
       "            <tr>\n",
       "                        <th id=\"T_dd44a2d9_0a1b_11ea_a6fb_107b449f15fclevel0_row3\" class=\"row_heading level0 row3\" >поляризация_реликтовый_излучение</th>\n",
       "                        <td id=\"T_dd44a2d9_0a1b_11ea_a6fb_107b449f15fcrow3_col0\" class=\"data row3 col0\" >0.05598</td>\n",
       "            </tr>\n",
       "            <tr>\n",
       "                        <th id=\"T_dd44a2d9_0a1b_11ea_a6fb_107b449f15fclevel0_row4\" class=\"row_heading level0 row4\" >крупномасштабный_структура_вселенная</th>\n",
       "                        <td id=\"T_dd44a2d9_0a1b_11ea_a6fb_107b449f15fcrow4_col0\" class=\"data row4 col0\" >0.04748</td>\n",
       "            </tr>\n",
       "            <tr>\n",
       "                        <th id=\"T_dd44a2d9_0a1b_11ea_a6fb_107b449f15fclevel0_row5\" class=\"row_heading level0 row5\" >стандартный_космологический_модель</th>\n",
       "                        <td id=\"T_dd44a2d9_0a1b_11ea_a6fb_107b449f15fcrow5_col0\" class=\"data row5 col0\" >0.04469</td>\n",
       "            </tr>\n",
       "            <tr>\n",
       "                        <th id=\"T_dd44a2d9_0a1b_11ea_a6fb_107b449f15fclevel0_row6\" class=\"row_heading level0 row6\" >реликтовый_гравитационный_волна</th>\n",
       "                        <td id=\"T_dd44a2d9_0a1b_11ea_a6fb_107b449f15fcrow6_col0\" class=\"data row6 col0\" >0.03631</td>\n",
       "            </tr>\n",
       "            <tr>\n",
       "                        <th id=\"T_dd44a2d9_0a1b_11ea_a6fb_107b449f15fclevel0_row7\" class=\"row_heading level0 row7\" >закон_всемирный_тяготение</th>\n",
       "                        <td id=\"T_dd44a2d9_0a1b_11ea_a6fb_107b449f15fcrow7_col0\" class=\"data row7 col0\" >0.03359</td>\n",
       "            </tr>\n",
       "            <tr>\n",
       "                        <th id=\"T_dd44a2d9_0a1b_11ea_a6fb_107b449f15fclevel0_row8\" class=\"row_heading level0 row8\" >постоянный_тонкий_структура</th>\n",
       "                        <td id=\"T_dd44a2d9_0a1b_11ea_a6fb_107b449f15fcrow8_col0\" class=\"data row8 col0\" >0.03356</td>\n",
       "            </tr>\n",
       "            <tr>\n",
       "                        <th id=\"T_dd44a2d9_0a1b_11ea_a6fb_107b449f15fclevel0_row9\" class=\"row_heading level0 row9\" >сумма_угол_треугольник</th>\n",
       "                        <td id=\"T_dd44a2d9_0a1b_11ea_a6fb_107b449f15fcrow9_col0\" class=\"data row9 col0\" >0.03349</td>\n",
       "            </tr>\n",
       "    </tbody></table><style  type=\"text/css\" >\n",
       "</style><table id=\"T_dd44a2da_0a1b_11ea_a6fb_107b449f15fc\" style='display:inline'><thead>    <tr>        <th class=\"blank level0\" ></th>        <th class=\"col_heading level0 col0\" >topic_16 @post_tag</th>    </tr></thead><tbody>\n",
       "                <tr>\n",
       "                        <th id=\"T_dd44a2da_0a1b_11ea_a6fb_107b449f15fclevel0_row0\" class=\"row_heading level0 row0\" >физика</th>\n",
       "                        <td id=\"T_dd44a2da_0a1b_11ea_a6fb_107b449f15fcrow0_col0\" class=\"data row0 col0\" >0.10044</td>\n",
       "            </tr>\n",
       "            <tr>\n",
       "                        <th id=\"T_dd44a2da_0a1b_11ea_a6fb_107b449f15fclevel0_row1\" class=\"row_heading level0 row1\" >вселенная</th>\n",
       "                        <td id=\"T_dd44a2da_0a1b_11ea_a6fb_107b449f15fcrow1_col0\" class=\"data row1 col0\" >0.10003</td>\n",
       "            </tr>\n",
       "            <tr>\n",
       "                        <th id=\"T_dd44a2da_0a1b_11ea_a6fb_107b449f15fclevel0_row2\" class=\"row_heading level0 row2\" >космология</th>\n",
       "                        <td id=\"T_dd44a2da_0a1b_11ea_a6fb_107b449f15fcrow2_col0\" class=\"data row2 col0\" >0.0989</td>\n",
       "            </tr>\n",
       "            <tr>\n",
       "                        <th id=\"T_dd44a2da_0a1b_11ea_a6fb_107b449f15fclevel0_row3\" class=\"row_heading level0 row3\" >астрофизика</th>\n",
       "                        <td id=\"T_dd44a2da_0a1b_11ea_a6fb_107b449f15fcrow3_col0\" class=\"data row3 col0\" >0.07109</td>\n",
       "            </tr>\n",
       "            <tr>\n",
       "                        <th id=\"T_dd44a2da_0a1b_11ea_a6fb_107b449f15fclevel0_row4\" class=\"row_heading level0 row4\" >гравитация</th>\n",
       "                        <td id=\"T_dd44a2da_0a1b_11ea_a6fb_107b449f15fcrow4_col0\" class=\"data row4 col0\" >0.05776</td>\n",
       "            </tr>\n",
       "            <tr>\n",
       "                        <th id=\"T_dd44a2da_0a1b_11ea_a6fb_107b449f15fclevel0_row5\" class=\"row_heading level0 row5\" >астрономия</th>\n",
       "                        <td id=\"T_dd44a2da_0a1b_11ea_a6fb_107b449f15fcrow5_col0\" class=\"data row5 col0\" >0.05414</td>\n",
       "            </tr>\n",
       "            <tr>\n",
       "                        <th id=\"T_dd44a2da_0a1b_11ea_a6fb_107b449f15fclevel0_row6\" class=\"row_heading level0 row6\" >реликтовое_излучение</th>\n",
       "                        <td id=\"T_dd44a2da_0a1b_11ea_a6fb_107b449f15fcrow6_col0\" class=\"data row6 col0\" >0.05051</td>\n",
       "            </tr>\n",
       "            <tr>\n",
       "                        <th id=\"T_dd44a2da_0a1b_11ea_a6fb_107b449f15fclevel0_row7\" class=\"row_heading level0 row7\" >космическая_инфляция</th>\n",
       "                        <td id=\"T_dd44a2da_0a1b_11ea_a6fb_107b449f15fcrow7_col0\" class=\"data row7 col0\" >0.03835</td>\n",
       "            </tr>\n",
       "            <tr>\n",
       "                        <th id=\"T_dd44a2da_0a1b_11ea_a6fb_107b449f15fclevel0_row8\" class=\"row_heading level0 row8\" >темная_материя</th>\n",
       "                        <td id=\"T_dd44a2da_0a1b_11ea_a6fb_107b449f15fcrow8_col0\" class=\"data row8 col0\" >0.03669</td>\n",
       "            </tr>\n",
       "            <tr>\n",
       "                        <th id=\"T_dd44a2da_0a1b_11ea_a6fb_107b449f15fclevel0_row9\" class=\"row_heading level0 row9\" >эйнштейн_альберт</th>\n",
       "                        <td id=\"T_dd44a2da_0a1b_11ea_a6fb_107b449f15fcrow9_col0\" class=\"data row9 col0\" >0.0349</td>\n",
       "            </tr>\n",
       "    </tbody></table><style  type=\"text/css\" >\n",
       "</style><table id=\"T_dd44a2db_0a1b_11ea_a6fb_107b449f15fc\" style='display:inline'><thead>    <tr>        <th class=\"blank level0\" ></th>        <th class=\"col_heading level0 col0\" >topic_16 @word</th>    </tr></thead><tbody>\n",
       "                <tr>\n",
       "                        <th id=\"T_dd44a2db_0a1b_11ea_a6fb_107b449f15fclevel0_row0\" class=\"row_heading level0 row0\" >вселенная</th>\n",
       "                        <td id=\"T_dd44a2db_0a1b_11ea_a6fb_107b449f15fcrow0_col0\" class=\"data row0 col0\" >0.02119</td>\n",
       "            </tr>\n",
       "            <tr>\n",
       "                        <th id=\"T_dd44a2db_0a1b_11ea_a6fb_107b449f15fclevel0_row1\" class=\"row_heading level0 row1\" >теория</th>\n",
       "                        <td id=\"T_dd44a2db_0a1b_11ea_a6fb_107b449f15fcrow1_col0\" class=\"data row1 col0\" >0.00861</td>\n",
       "            </tr>\n",
       "            <tr>\n",
       "                        <th id=\"T_dd44a2db_0a1b_11ea_a6fb_107b449f15fclevel0_row2\" class=\"row_heading level0 row2\" >пространство</th>\n",
       "                        <td id=\"T_dd44a2db_0a1b_11ea_a6fb_107b449f15fcrow2_col0\" class=\"data row2 col0\" >0.00683</td>\n",
       "            </tr>\n",
       "            <tr>\n",
       "                        <th id=\"T_dd44a2db_0a1b_11ea_a6fb_107b449f15fclevel0_row3\" class=\"row_heading level0 row3\" >эйнштейн</th>\n",
       "                        <td id=\"T_dd44a2db_0a1b_11ea_a6fb_107b449f15fcrow3_col0\" class=\"data row3 col0\" >0.00665</td>\n",
       "            </tr>\n",
       "            <tr>\n",
       "                        <th id=\"T_dd44a2db_0a1b_11ea_a6fb_107b449f15fclevel0_row4\" class=\"row_heading level0 row4\" >галактика</th>\n",
       "                        <td id=\"T_dd44a2db_0a1b_11ea_a6fb_107b449f15fcrow4_col0\" class=\"data row4 col0\" >0.00564</td>\n",
       "            </tr>\n",
       "            <tr>\n",
       "                        <th id=\"T_dd44a2db_0a1b_11ea_a6fb_107b449f15fclevel0_row5\" class=\"row_heading level0 row5\" >должный</th>\n",
       "                        <td id=\"T_dd44a2db_0a1b_11ea_a6fb_107b449f15fcrow5_col0\" class=\"data row5 col0\" >0.00421</td>\n",
       "            </tr>\n",
       "            <tr>\n",
       "                        <th id=\"T_dd44a2db_0a1b_11ea_a6fb_107b449f15fclevel0_row6\" class=\"row_heading level0 row6\" >гравитация</th>\n",
       "                        <td id=\"T_dd44a2db_0a1b_11ea_a6fb_107b449f15fcrow6_col0\" class=\"data row6 col0\" >0.00418</td>\n",
       "            </tr>\n",
       "            <tr>\n",
       "                        <th id=\"T_dd44a2db_0a1b_11ea_a6fb_107b449f15fclevel0_row7\" class=\"row_heading level0 row7\" >наблюдение</th>\n",
       "                        <td id=\"T_dd44a2db_0a1b_11ea_a6fb_107b449f15fcrow7_col0\" class=\"data row7 col0\" >0.00415</td>\n",
       "            </tr>\n",
       "            <tr>\n",
       "                        <th id=\"T_dd44a2db_0a1b_11ea_a6fb_107b449f15fclevel0_row8\" class=\"row_heading level0 row8\" >физика</th>\n",
       "                        <td id=\"T_dd44a2db_0a1b_11ea_a6fb_107b449f15fcrow8_col0\" class=\"data row8 col0\" >0.00399</td>\n",
       "            </tr>\n",
       "            <tr>\n",
       "                        <th id=\"T_dd44a2db_0a1b_11ea_a6fb_107b449f15fclevel0_row9\" class=\"row_heading level0 row9\" >знать</th>\n",
       "                        <td id=\"T_dd44a2db_0a1b_11ea_a6fb_107b449f15fcrow9_col0\" class=\"data row9 col0\" >0.00396</td>\n",
       "            </tr>\n",
       "    </tbody></table>"
      ]
     },
     "metadata": {},
     "output_type": "display_data"
    },
    {
     "data": {
      "text/html": [
       "<b> поляризация реликтового излучения </b><br /> физик дмитрий горбунов об эксперименте bicep2, стадии инфляции и развитии теории гравитации"
      ]
     },
     "metadata": {},
     "output_type": "display_data"
    },
    {
     "data": {
      "text/html": [
       "<b> что изменит открытие первичных гравитационных волн? </b><br /> астрофизик сергей попов о теории инфляции, поиске первичных гравитационных волн и заявлении коллаборации bicep"
      ]
     },
     "metadata": {},
     "output_type": "display_data"
    },
    {
     "data": {
      "text/html": [
       "<b> поиск первичных гравитационных волн </b><br /> физик алексей старобинский о перспективах открытия гравитационных волн, инфляционной теории ранней вселенной и скалярных возмущениях"
      ]
     },
     "metadata": {},
     "output_type": "display_data"
    },
    {
     "data": {
      "text/html": [
       "<b> реликтовое излучение </b><br /> астроном лайман пейдж о развитии теории горячего большого взрыва, дипольной компоненте и зондировании вселенной до самых ранних эпох"
      ]
     },
     "metadata": {},
     "output_type": "display_data"
    },
    {
     "data": {
      "text/html": [
       "<b> faqвселенная до горячей стадии </b><br /> 5 фактов о теориях развития вселенной, инфляционной модели и гравитационных волнах"
      ]
     },
     "metadata": {},
     "output_type": "display_data"
    },
    {
     "data": {
      "text/html": [
       "<b> стандартная космологическая модель </b><br /> астрофизик олег верходанов об угловом спектре мощности, холодной темной материи и измерении космологических параметров"
      ]
     },
     "metadata": {},
     "output_type": "display_data"
    },
    {
     "data": {
      "text/html": [
       "<b> главы # миф и реальность </b><br /> фрагмент из книги немецкого писателя и популяризатора науки хуберта мания \"стивен хокинг\""
      ]
     },
     "metadata": {},
     "output_type": "display_data"
    },
    {
     "data": {
      "text/html": [
       "<b> точная космология </b><br /> физик макс тегмарк о флуктуациях в ранней вселенной, темной энергии и теории инфляции"
      ]
     },
     "metadata": {},
     "output_type": "display_data"
    },
    {
     "data": {
      "text/html": [
       "<b> вселенная до горячей стадии </b><br /> физик валерий рубаков о реликтовом излучении, зарождении неоднородностей и гравитационных волнах"
      ]
     },
     "metadata": {},
     "output_type": "display_data"
    },
    {
     "data": {
      "text/html": [
       "<b> роль нейтрино в космологии </b><br /> физик дмитрий горбунов о массе нейтрино, эволюции ранней вселенной и измерении реликтового излучения"
      ]
     },
     "metadata": {},
     "output_type": "display_data"
    },
    {
     "data": {
      "text/html": [
       "<style  type=\"text/css\" >\n",
       "</style><table id=\"T_dd44a2dc_0a1b_11ea_a6fb_107b449f15fc\" style='display:inline'><thead>    <tr>        <th class=\"blank level0\" ></th>        <th class=\"col_heading level0 col0\" >topic_17 @2gramm</th>    </tr></thead><tbody>\n",
       "                <tr>\n",
       "                        <th id=\"T_dd44a2dc_0a1b_11ea_a6fb_107b449f15fclevel0_row0\" class=\"row_heading level0 row0\" >принятие_решение</th>\n",
       "                        <td id=\"T_dd44a2dc_0a1b_11ea_a6fb_107b449f15fcrow0_col0\" class=\"data row0 col0\" >0.02212</td>\n",
       "            </tr>\n",
       "            <tr>\n",
       "                        <th id=\"T_dd44a2dc_0a1b_11ea_a6fb_107b449f15fclevel0_row1\" class=\"row_heading level0 row1\" >система_отсчёт</th>\n",
       "                        <td id=\"T_dd44a2dc_0a1b_11ea_a6fb_107b449f15fcrow1_col0\" class=\"data row1 col0\" >0.01232</td>\n",
       "            </tr>\n",
       "            <tr>\n",
       "                        <th id=\"T_dd44a2dc_0a1b_11ea_a6fb_107b449f15fclevel0_row2\" class=\"row_heading level0 row2\" >теория_игра</th>\n",
       "                        <td id=\"T_dd44a2dc_0a1b_11ea_a6fb_107b449f15fcrow2_col0\" class=\"data row2 col0\" >0.012</td>\n",
       "            </tr>\n",
       "            <tr>\n",
       "                        <th id=\"T_dd44a2dc_0a1b_11ea_a6fb_107b449f15fclevel0_row3\" class=\"row_heading level0 row3\" >принимать_решение</th>\n",
       "                        <td id=\"T_dd44a2dc_0a1b_11ea_a6fb_107b449f15fcrow3_col0\" class=\"data row3 col0\" >0.00806</td>\n",
       "            </tr>\n",
       "            <tr>\n",
       "                        <th id=\"T_dd44a2dc_0a1b_11ea_a6fb_107b449f15fclevel0_row4\" class=\"row_heading level0 row4\" >поведенческий_экономика</th>\n",
       "                        <td id=\"T_dd44a2dc_0a1b_11ea_a6fb_107b449f15fcrow4_col0\" class=\"data row4 col0\" >0.00469</td>\n",
       "            </tr>\n",
       "            <tr>\n",
       "                        <th id=\"T_dd44a2dc_0a1b_11ea_a6fb_107b449f15fclevel0_row5\" class=\"row_heading level0 row5\" >крайний_мера</th>\n",
       "                        <td id=\"T_dd44a2dc_0a1b_11ea_a6fb_107b449f15fcrow5_col0\" class=\"data row5 col0\" >0.00448</td>\n",
       "            </tr>\n",
       "            <tr>\n",
       "                        <th id=\"T_dd44a2dc_0a1b_11ea_a6fb_107b449f15fclevel0_row6\" class=\"row_heading level0 row6\" >скорость_свет</th>\n",
       "                        <td id=\"T_dd44a2dc_0a1b_11ea_a6fb_107b449f15fcrow6_col0\" class=\"data row6 col0\" >0.00439</td>\n",
       "            </tr>\n",
       "            <tr>\n",
       "                        <th id=\"T_dd44a2dc_0a1b_11ea_a6fb_107b449f15fclevel0_row7\" class=\"row_heading level0 row7\" >арабский_страна</th>\n",
       "                        <td id=\"T_dd44a2dc_0a1b_11ea_a6fb_107b449f15fcrow7_col0\" class=\"data row7 col0\" >0.00435</td>\n",
       "            </tr>\n",
       "            <tr>\n",
       "                        <th id=\"T_dd44a2dc_0a1b_11ea_a6fb_107b449f15fclevel0_row8\" class=\"row_heading level0 row8\" >преобразование_лоренц</th>\n",
       "                        <td id=\"T_dd44a2dc_0a1b_11ea_a6fb_107b449f15fcrow8_col0\" class=\"data row8 col0\" >0.00428</td>\n",
       "            </tr>\n",
       "            <tr>\n",
       "                        <th id=\"T_dd44a2dc_0a1b_11ea_a6fb_107b449f15fclevel0_row9\" class=\"row_heading level0 row9\" >быстрый_сон</th>\n",
       "                        <td id=\"T_dd44a2dc_0a1b_11ea_a6fb_107b449f15fcrow9_col0\" class=\"data row9 col0\" >0.00423</td>\n",
       "            </tr>\n",
       "    </tbody></table><style  type=\"text/css\" >\n",
       "</style><table id=\"T_dd44a2dd_0a1b_11ea_a6fb_107b449f15fc\" style='display:inline'><thead>    <tr>        <th class=\"blank level0\" ></th>        <th class=\"col_heading level0 col0\" >topic_17 @3gramm</th>    </tr></thead><tbody>\n",
       "                <tr>\n",
       "                        <th id=\"T_dd44a2dd_0a1b_11ea_a6fb_107b449f15fclevel0_row0\" class=\"row_heading level0 row0\" >специальный_теория_относительность</th>\n",
       "                        <td id=\"T_dd44a2dd_0a1b_11ea_a6fb_107b449f15fcrow0_col0\" class=\"data row0 col0\" >0.32712</td>\n",
       "            </tr>\n",
       "            <tr>\n",
       "                        <th id=\"T_dd44a2dd_0a1b_11ea_a6fb_107b449f15fclevel0_row1\" class=\"row_heading level0 row1\" >процесс_принятие_решение</th>\n",
       "                        <td id=\"T_dd44a2dd_0a1b_11ea_a6fb_107b449f15fcrow1_col0\" class=\"data row1 col0\" >0.17973</td>\n",
       "            </tr>\n",
       "            <tr>\n",
       "                        <th id=\"T_dd44a2dd_0a1b_11ea_a6fb_107b449f15fclevel0_row2\" class=\"row_heading level0 row2\" >инерциальный_система_отсчёт</th>\n",
       "                        <td id=\"T_dd44a2dd_0a1b_11ea_a6fb_107b449f15fcrow2_col0\" class=\"data row2 col0\" >0.13937</td>\n",
       "            </tr>\n",
       "            <tr>\n",
       "                        <th id=\"T_dd44a2dd_0a1b_11ea_a6fb_107b449f15fclevel0_row3\" class=\"row_heading level0 row3\" >закон_сохранение_энергия</th>\n",
       "                        <td id=\"T_dd44a2dd_0a1b_11ea_a6fb_107b449f15fcrow3_col0\" class=\"data row3 col0\" >0.12541</td>\n",
       "            </tr>\n",
       "            <tr>\n",
       "                        <th id=\"T_dd44a2dd_0a1b_11ea_a6fb_107b449f15fclevel0_row4\" class=\"row_heading level0 row4\" >наиболее_часто_встречаться</th>\n",
       "                        <td id=\"T_dd44a2dd_0a1b_11ea_a6fb_107b449f15fcrow4_col0\" class=\"data row4 col0\" >0.0688</td>\n",
       "            </tr>\n",
       "            <tr>\n",
       "                        <th id=\"T_dd44a2dd_0a1b_11ea_a6fb_107b449f15fclevel0_row5\" class=\"row_heading level0 row5\" >положительный_обратный_связь</th>\n",
       "                        <td id=\"T_dd44a2dd_0a1b_11ea_a6fb_107b449f15fcrow5_col0\" class=\"data row5 col0\" >0.04478</td>\n",
       "            </tr>\n",
       "            <tr>\n",
       "                        <th id=\"T_dd44a2dd_0a1b_11ea_a6fb_107b449f15fclevel0_row6\" class=\"row_heading level0 row6\" >высокий_уровень_образование</th>\n",
       "                        <td id=\"T_dd44a2dd_0a1b_11ea_a6fb_107b449f15fcrow6_col0\" class=\"data row6 col0\" >0.03661</td>\n",
       "            </tr>\n",
       "            <tr>\n",
       "                        <th id=\"T_dd44a2dd_0a1b_11ea_a6fb_107b449f15fclevel0_row7\" class=\"row_heading level0 row7\" >низкий_уровень_образование</th>\n",
       "                        <td id=\"T_dd44a2dd_0a1b_11ea_a6fb_107b449f15fcrow7_col0\" class=\"data row7 col0\" >0.03062</td>\n",
       "            </tr>\n",
       "            <tr>\n",
       "                        <th id=\"T_dd44a2dd_0a1b_11ea_a6fb_107b449f15fclevel0_row8\" class=\"row_heading level0 row8\" >эволюционный_точка_зрение</th>\n",
       "                        <td id=\"T_dd44a2dd_0a1b_11ea_a6fb_107b449f15fcrow8_col0\" class=\"data row8 col0\" >0.03047</td>\n",
       "            </tr>\n",
       "            <tr>\n",
       "                        <th id=\"T_dd44a2dd_0a1b_11ea_a6fb_107b449f15fclevel0_row9\" class=\"row_heading level0 row9\" >усиливать_друг_друг</th>\n",
       "                        <td id=\"T_dd44a2dd_0a1b_11ea_a6fb_107b449f15fcrow9_col0\" class=\"data row9 col0\" >0.01616</td>\n",
       "            </tr>\n",
       "    </tbody></table><style  type=\"text/css\" >\n",
       "</style><table id=\"T_dd44a2de_0a1b_11ea_a6fb_107b449f15fc\" style='display:inline'><thead>    <tr>        <th class=\"blank level0\" ></th>        <th class=\"col_heading level0 col0\" >topic_17 @post_tag</th>    </tr></thead><tbody>\n",
       "                <tr>\n",
       "                        <th id=\"T_dd44a2de_0a1b_11ea_a6fb_107b449f15fclevel0_row0\" class=\"row_heading level0 row0\" >экономика</th>\n",
       "                        <td id=\"T_dd44a2de_0a1b_11ea_a6fb_107b449f15fcrow0_col0\" class=\"data row0 col0\" >0.13502</td>\n",
       "            </tr>\n",
       "            <tr>\n",
       "                        <th id=\"T_dd44a2de_0a1b_11ea_a6fb_107b449f15fclevel0_row1\" class=\"row_heading level0 row1\" >математика</th>\n",
       "                        <td id=\"T_dd44a2de_0a1b_11ea_a6fb_107b449f15fcrow1_col0\" class=\"data row1 col0\" >0.09446</td>\n",
       "            </tr>\n",
       "            <tr>\n",
       "                        <th id=\"T_dd44a2de_0a1b_11ea_a6fb_107b449f15fclevel0_row2\" class=\"row_heading level0 row2\" >теория_принятия_решений</th>\n",
       "                        <td id=\"T_dd44a2de_0a1b_11ea_a6fb_107b449f15fcrow2_col0\" class=\"data row2 col0\" >0.06269</td>\n",
       "            </tr>\n",
       "            <tr>\n",
       "                        <th id=\"T_dd44a2de_0a1b_11ea_a6fb_107b449f15fclevel0_row3\" class=\"row_heading level0 row3\" >принятие_решений</th>\n",
       "                        <td id=\"T_dd44a2de_0a1b_11ea_a6fb_107b449f15fcrow3_col0\" class=\"data row3 col0\" >0.05086</td>\n",
       "            </tr>\n",
       "            <tr>\n",
       "                        <th id=\"T_dd44a2de_0a1b_11ea_a6fb_107b449f15fclevel0_row4\" class=\"row_heading level0 row4\" >теория_игр</th>\n",
       "                        <td id=\"T_dd44a2de_0a1b_11ea_a6fb_107b449f15fcrow4_col0\" class=\"data row4 col0\" >0.04787</td>\n",
       "            </tr>\n",
       "            <tr>\n",
       "                        <th id=\"T_dd44a2de_0a1b_11ea_a6fb_107b449f15fclevel0_row5\" class=\"row_heading level0 row5\" >сон</th>\n",
       "                        <td id=\"T_dd44a2de_0a1b_11ea_a6fb_107b449f15fcrow5_col0\" class=\"data row5 col0\" >0.04766</td>\n",
       "            </tr>\n",
       "            <tr>\n",
       "                        <th id=\"T_dd44a2de_0a1b_11ea_a6fb_107b449f15fclevel0_row6\" class=\"row_heading level0 row6\" >музыка</th>\n",
       "                        <td id=\"T_dd44a2de_0a1b_11ea_a6fb_107b449f15fcrow6_col0\" class=\"data row6 col0\" >0.04035</td>\n",
       "            </tr>\n",
       "            <tr>\n",
       "                        <th id=\"T_dd44a2de_0a1b_11ea_a6fb_107b449f15fclevel0_row7\" class=\"row_heading level0 row7\" >специальная_теория_относительности</th>\n",
       "                        <td id=\"T_dd44a2de_0a1b_11ea_a6fb_107b449f15fcrow7_col0\" class=\"data row7 col0\" >0.03641</td>\n",
       "            </tr>\n",
       "            <tr>\n",
       "                        <th id=\"T_dd44a2de_0a1b_11ea_a6fb_107b449f15fclevel0_row8\" class=\"row_heading level0 row8\" >неврология</th>\n",
       "                        <td id=\"T_dd44a2de_0a1b_11ea_a6fb_107b449f15fcrow8_col0\" class=\"data row8 col0\" >0.03554</td>\n",
       "            </tr>\n",
       "            <tr>\n",
       "                        <th id=\"T_dd44a2de_0a1b_11ea_a6fb_107b449f15fclevel0_row9\" class=\"row_heading level0 row9\" >поведенческая_экономика</th>\n",
       "                        <td id=\"T_dd44a2de_0a1b_11ea_a6fb_107b449f15fcrow9_col0\" class=\"data row9 col0\" >0.03317</td>\n",
       "            </tr>\n",
       "    </tbody></table><style  type=\"text/css\" >\n",
       "</style><table id=\"T_dd44a2df_0a1b_11ea_a6fb_107b449f15fc\" style='display:inline'><thead>    <tr>        <th class=\"blank level0\" ></th>        <th class=\"col_heading level0 col0\" >topic_17 @word</th>    </tr></thead><tbody>\n",
       "                <tr>\n",
       "                        <th id=\"T_dd44a2df_0a1b_11ea_a6fb_107b449f15fclevel0_row0\" class=\"row_heading level0 row0\" >ребёнок</th>\n",
       "                        <td id=\"T_dd44a2df_0a1b_11ea_a6fb_107b449f15fcrow0_col0\" class=\"data row0 col0\" >0.00611</td>\n",
       "            </tr>\n",
       "            <tr>\n",
       "                        <th id=\"T_dd44a2df_0a1b_11ea_a6fb_107b449f15fclevel0_row1\" class=\"row_heading level0 row1\" >сон</th>\n",
       "                        <td id=\"T_dd44a2df_0a1b_11ea_a6fb_107b449f15fcrow1_col0\" class=\"data row1 col0\" >0.00609</td>\n",
       "            </tr>\n",
       "            <tr>\n",
       "                        <th id=\"T_dd44a2df_0a1b_11ea_a6fb_107b449f15fclevel0_row2\" class=\"row_heading level0 row2\" >решение</th>\n",
       "                        <td id=\"T_dd44a2df_0a1b_11ea_a6fb_107b449f15fcrow2_col0\" class=\"data row2 col0\" >0.00486</td>\n",
       "            </tr>\n",
       "            <tr>\n",
       "                        <th id=\"T_dd44a2df_0a1b_11ea_a6fb_107b449f15fclevel0_row3\" class=\"row_heading level0 row3\" >должный</th>\n",
       "                        <td id=\"T_dd44a2df_0a1b_11ea_a6fb_107b449f15fcrow3_col0\" class=\"data row3 col0\" >0.00446</td>\n",
       "            </tr>\n",
       "            <tr>\n",
       "                        <th id=\"T_dd44a2df_0a1b_11ea_a6fb_107b449f15fclevel0_row4\" class=\"row_heading level0 row4\" >музыка</th>\n",
       "                        <td id=\"T_dd44a2df_0a1b_11ea_a6fb_107b449f15fcrow4_col0\" class=\"data row4 col0\" >0.0042</td>\n",
       "            </tr>\n",
       "            <tr>\n",
       "                        <th id=\"T_dd44a2df_0a1b_11ea_a6fb_107b449f15fclevel0_row5\" class=\"row_heading level0 row5\" >модель</th>\n",
       "                        <td id=\"T_dd44a2df_0a1b_11ea_a6fb_107b449f15fcrow5_col0\" class=\"data row5 col0\" >0.00353</td>\n",
       "            </tr>\n",
       "            <tr>\n",
       "                        <th id=\"T_dd44a2df_0a1b_11ea_a6fb_107b449f15fclevel0_row6\" class=\"row_heading level0 row6\" >дать</th>\n",
       "                        <td id=\"T_dd44a2df_0a1b_11ea_a6fb_107b449f15fcrow6_col0\" class=\"data row6 col0\" >0.00341</td>\n",
       "            </tr>\n",
       "            <tr>\n",
       "                        <th id=\"T_dd44a2df_0a1b_11ea_a6fb_107b449f15fclevel0_row7\" class=\"row_heading level0 row7\" >система</th>\n",
       "                        <td id=\"T_dd44a2df_0a1b_11ea_a6fb_107b449f15fcrow7_col0\" class=\"data row7 col0\" >0.00337</td>\n",
       "            </tr>\n",
       "            <tr>\n",
       "                        <th id=\"T_dd44a2df_0a1b_11ea_a6fb_107b449f15fclevel0_row8\" class=\"row_heading level0 row8\" >ситуация</th>\n",
       "                        <td id=\"T_dd44a2df_0a1b_11ea_a6fb_107b449f15fcrow8_col0\" class=\"data row8 col0\" >0.00332</td>\n",
       "            </tr>\n",
       "            <tr>\n",
       "                        <th id=\"T_dd44a2df_0a1b_11ea_a6fb_107b449f15fclevel0_row9\" class=\"row_heading level0 row9\" >игра</th>\n",
       "                        <td id=\"T_dd44a2df_0a1b_11ea_a6fb_107b449f15fcrow9_col0\" class=\"data row9 col0\" >0.00331</td>\n",
       "            </tr>\n",
       "    </tbody></table>"
      ]
     },
     "metadata": {},
     "output_type": "display_data"
    },
    {
     "data": {
      "text/html": [
       "<b> главыискаженная демократия </b><br /> отрывок из книги «искаженная демократия» политолога нади урбинати об индивидуальной свободе, открытости политической игры и демократической легитимности"
      ]
     },
     "metadata": {},
     "output_type": "display_data"
    },
    {
     "data": {
      "text/html": [
       "<b> faqспециальная теория относительности </b><br /> 5 фактов об основах и следствиях теории, изменившей физическую науку"
      ]
     },
     "metadata": {},
     "output_type": "display_data"
    },
    {
     "data": {
      "text/html": [
       "<b> понятие поведенческой экономики </b><br /> экономист ксения паниди об идее рациональности, влиянии эмоций на поведение и когнитивных причинах экономических решений"
      ]
     },
     "metadata": {},
     "output_type": "display_data"
    },
    {
     "data": {
      "text/html": [
       "<b> гендерные особенности инсомнии </b><br /> сомнолог михаил полуэктов о различиях инсомнии мужчин и женщин, социальных рисках бессонницы и проявлениях сонных расстройств при неврозах"
      ]
     },
     "metadata": {},
     "output_type": "display_data"
    },
    {
     "data": {
      "text/html": [
       "<b> эмоции в музыкевосприятие расстояний в тональном поле </b><br /> нейропсихолог марина корсакова-крейн о квинтовом круге, улавливании расстояний в тональном пространстве и важности интуиции в восприятии музыки"
      ]
     },
     "metadata": {},
     "output_type": "display_data"
    },
    {
     "data": {
      "text/html": [
       "<b> главыбедность и ребенок до появления на свет </b><br /> отрывок из книги «бедность и развитие ребенка» о том, как социальное неблагополучие влияет на разные аспекты развития ребенка"
      ]
     },
     "metadata": {},
     "output_type": "display_data"
    },
    {
     "data": {
      "text/html": [
       "<b> экономика соблазна </b><br /> экономист ксения паниди о теории перспектив, иллюзии невозвратных потерь и поведении людей в ситуации неопределенности"
      ]
     },
     "metadata": {},
     "output_type": "display_data"
    },
    {
     "data": {
      "text/html": [
       "<b> инсомнияпричины, лечение и виды бессонницы </b><br /> сомнолог михаил полуэктов об острой и хронической бессоннице, методах исследования и гигиене сна"
      ]
     },
     "metadata": {},
     "output_type": "display_data"
    },
    {
     "data": {
      "text/html": [
       "<b> специальная теория относительности </b><br /> физик эмиль ахмедов о преобразованиях лоренца, теореме нётер и global positioning system"
      ]
     },
     "metadata": {},
     "output_type": "display_data"
    },
    {
     "data": {
      "text/html": [
       "<b> faqдизайн экономических механизмов </b><br /> 7 фактов о поиске взаимно-оптимальных стратегий при решении экономических игр"
      ]
     },
     "metadata": {},
     "output_type": "display_data"
    },
    {
     "data": {
      "text/html": [
       "<style  type=\"text/css\" >\n",
       "</style><table id=\"T_dd44a2e0_0a1b_11ea_a6fb_107b449f15fc\" style='display:inline'><thead>    <tr>        <th class=\"blank level0\" ></th>        <th class=\"col_heading level0 col0\" >topic_18 @2gramm</th>    </tr></thead><tbody>\n",
       "                <tr>\n",
       "                        <th id=\"T_dd44a2e0_0a1b_11ea_a6fb_107b449f15fclevel0_row0\" class=\"row_heading level0 row0\" >русский_язык</th>\n",
       "                        <td id=\"T_dd44a2e0_0a1b_11ea_a6fb_107b449f15fcrow0_col0\" class=\"data row0 col0\" >0.05981</td>\n",
       "            </tr>\n",
       "            <tr>\n",
       "                        <th id=\"T_dd44a2e0_0a1b_11ea_a6fb_107b449f15fclevel0_row1\" class=\"row_heading level0 row1\" >английский_язык</th>\n",
       "                        <td id=\"T_dd44a2e0_0a1b_11ea_a6fb_107b449f15fcrow1_col0\" class=\"data row1 col0\" >0.01069</td>\n",
       "            </tr>\n",
       "            <tr>\n",
       "                        <th id=\"T_dd44a2e0_0a1b_11ea_a6fb_107b449f15fclevel0_row2\" class=\"row_heading level0 row2\" >литературный_язык</th>\n",
       "                        <td id=\"T_dd44a2e0_0a1b_11ea_a6fb_107b449f15fcrow2_col0\" class=\"data row2 col0\" >0.00971</td>\n",
       "            </tr>\n",
       "            <tr>\n",
       "                        <th id=\"T_dd44a2e0_0a1b_11ea_a6fb_107b449f15fclevel0_row3\" class=\"row_heading level0 row3\" >разный_язык</th>\n",
       "                        <td id=\"T_dd44a2e0_0a1b_11ea_a6fb_107b449f15fcrow3_col0\" class=\"data row3 col0\" >0.00937</td>\n",
       "            </tr>\n",
       "            <tr>\n",
       "                        <th id=\"T_dd44a2e0_0a1b_11ea_a6fb_107b449f15fclevel0_row4\" class=\"row_heading level0 row4\" >носитель_язык</th>\n",
       "                        <td id=\"T_dd44a2e0_0a1b_11ea_a6fb_107b449f15fcrow4_col0\" class=\"data row4 col0\" >0.00913</td>\n",
       "            </tr>\n",
       "            <tr>\n",
       "                        <th id=\"T_dd44a2e0_0a1b_11ea_a6fb_107b449f15fclevel0_row5\" class=\"row_heading level0 row5\" >дискурсивный_слово</th>\n",
       "                        <td id=\"T_dd44a2e0_0a1b_11ea_a6fb_107b449f15fcrow5_col0\" class=\"data row5 col0\" >0.00836</td>\n",
       "            </tr>\n",
       "            <tr>\n",
       "                        <th id=\"T_dd44a2e0_0a1b_11ea_a6fb_107b449f15fclevel0_row6\" class=\"row_heading level0 row6\" >устный_речь</th>\n",
       "                        <td id=\"T_dd44a2e0_0a1b_11ea_a6fb_107b449f15fcrow6_col0\" class=\"data row6 col0\" >0.00747</td>\n",
       "            </tr>\n",
       "            <tr>\n",
       "                        <th id=\"T_dd44a2e0_0a1b_11ea_a6fb_107b449f15fclevel0_row7\" class=\"row_heading level0 row7\" >германский_язык</th>\n",
       "                        <td id=\"T_dd44a2e0_0a1b_11ea_a6fb_107b449f15fcrow7_col0\" class=\"data row7 col0\" >0.00666</td>\n",
       "            </tr>\n",
       "            <tr>\n",
       "                        <th id=\"T_dd44a2e0_0a1b_11ea_a6fb_107b449f15fclevel0_row8\" class=\"row_heading level0 row8\" >множественный_число</th>\n",
       "                        <td id=\"T_dd44a2e0_0a1b_11ea_a6fb_107b449f15fcrow8_col0\" class=\"data row8 col0\" >0.00663</td>\n",
       "            </tr>\n",
       "            <tr>\n",
       "                        <th id=\"T_dd44a2e0_0a1b_11ea_a6fb_107b449f15fclevel0_row9\" class=\"row_heading level0 row9\" >значение_слово</th>\n",
       "                        <td id=\"T_dd44a2e0_0a1b_11ea_a6fb_107b449f15fcrow9_col0\" class=\"data row9 col0\" >0.00636</td>\n",
       "            </tr>\n",
       "    </tbody></table><style  type=\"text/css\" >\n",
       "</style><table id=\"T_dd44a2e1_0a1b_11ea_a6fb_107b449f15fc\" style='display:inline'><thead>    <tr>        <th class=\"blank level0\" ></th>        <th class=\"col_heading level0 col0\" >topic_18 @3gramm</th>    </tr></thead><tbody>\n",
       "                <tr>\n",
       "                        <th id=\"T_dd44a2e1_0a1b_11ea_a6fb_107b449f15fclevel0_row0\" class=\"row_heading level0 row0\" >носитель_русский_язык</th>\n",
       "                        <td id=\"T_dd44a2e1_0a1b_11ea_a6fb_107b449f15fcrow0_col0\" class=\"data row0 col0\" >0.14026</td>\n",
       "            </tr>\n",
       "            <tr>\n",
       "                        <th id=\"T_dd44a2e1_0a1b_11ea_a6fb_107b449f15fclevel0_row1\" class=\"row_heading level0 row1\" >современный_русский_язык</th>\n",
       "                        <td id=\"T_dd44a2e1_0a1b_11ea_a6fb_107b449f15fcrow1_col0\" class=\"data row1 col0\" >0.14023</td>\n",
       "            </tr>\n",
       "            <tr>\n",
       "                        <th id=\"T_dd44a2e1_0a1b_11ea_a6fb_107b449f15fclevel0_row2\" class=\"row_heading level0 row2\" >словарь_русский_язык</th>\n",
       "                        <td id=\"T_dd44a2e1_0a1b_11ea_a6fb_107b449f15fcrow2_col0\" class=\"data row2 col0\" >0.0933</td>\n",
       "            </tr>\n",
       "            <tr>\n",
       "                        <th id=\"T_dd44a2e1_0a1b_11ea_a6fb_107b449f15fclevel0_row3\" class=\"row_heading level0 row3\" >язык_славянский_культура</th>\n",
       "                        <td id=\"T_dd44a2e1_0a1b_11ea_a6fb_107b449f15fcrow3_col0\" class=\"data row3 col0\" >0.0785</td>\n",
       "            </tr>\n",
       "            <tr>\n",
       "                        <th id=\"T_dd44a2e1_0a1b_11ea_a6fb_107b449f15fclevel0_row4\" class=\"row_heading level0 row4\" >русский_литературный_язык</th>\n",
       "                        <td id=\"T_dd44a2e1_0a1b_11ea_a6fb_107b449f15fcrow4_col0\" class=\"data row4 col0\" >0.06869</td>\n",
       "            </tr>\n",
       "            <tr>\n",
       "                        <th id=\"T_dd44a2e1_0a1b_11ea_a6fb_107b449f15fclevel0_row5\" class=\"row_heading level0 row5\" >вне_всякий_сомнение</th>\n",
       "                        <td id=\"T_dd44a2e1_0a1b_11ea_a6fb_107b449f15fcrow5_col0\" class=\"data row5 col0\" >0.06722</td>\n",
       "            </tr>\n",
       "            <tr>\n",
       "                        <th id=\"T_dd44a2e1_0a1b_11ea_a6fb_107b449f15fclevel0_row6\" class=\"row_heading level0 row6\" >глагол_совершенный_вид</th>\n",
       "                        <td id=\"T_dd44a2e1_0a1b_11ea_a6fb_107b449f15fcrow6_col0\" class=\"data row6 col0\" >0.04878</td>\n",
       "            </tr>\n",
       "            <tr>\n",
       "                        <th id=\"T_dd44a2e1_0a1b_11ea_a6fb_107b449f15fclevel0_row7\" class=\"row_heading level0 row7\" >институт_русский_язык</th>\n",
       "                        <td id=\"T_dd44a2e1_0a1b_11ea_a6fb_107b449f15fcrow7_col0\" class=\"data row7 col0\" >0.0442</td>\n",
       "            </tr>\n",
       "            <tr>\n",
       "                        <th id=\"T_dd44a2e1_0a1b_11ea_a6fb_107b449f15fclevel0_row8\" class=\"row_heading level0 row8\" >ранний_этап_развитие</th>\n",
       "                        <td id=\"T_dd44a2e1_0a1b_11ea_a6fb_107b449f15fcrow8_col0\" class=\"data row8 col0\" >0.04395</td>\n",
       "            </tr>\n",
       "            <tr>\n",
       "                        <th id=\"T_dd44a2e1_0a1b_11ea_a6fb_107b449f15fclevel0_row9\" class=\"row_heading level0 row9\" >история_русский_язык</th>\n",
       "                        <td id=\"T_dd44a2e1_0a1b_11ea_a6fb_107b449f15fcrow9_col0\" class=\"data row9 col0\" >0.03531</td>\n",
       "            </tr>\n",
       "    </tbody></table><style  type=\"text/css\" >\n",
       "</style><table id=\"T_dd44a2e2_0a1b_11ea_a6fb_107b449f15fc\" style='display:inline'><thead>    <tr>        <th class=\"blank level0\" ></th>        <th class=\"col_heading level0 col0\" >topic_18 @post_tag</th>    </tr></thead><tbody>\n",
       "                <tr>\n",
       "                        <th id=\"T_dd44a2e2_0a1b_11ea_a6fb_107b449f15fclevel0_row0\" class=\"row_heading level0 row0\" >язык</th>\n",
       "                        <td id=\"T_dd44a2e2_0a1b_11ea_a6fb_107b449f15fcrow0_col0\" class=\"data row0 col0\" >0.27179</td>\n",
       "            </tr>\n",
       "            <tr>\n",
       "                        <th id=\"T_dd44a2e2_0a1b_11ea_a6fb_107b449f15fclevel0_row1\" class=\"row_heading level0 row1\" >лингвистика</th>\n",
       "                        <td id=\"T_dd44a2e2_0a1b_11ea_a6fb_107b449f15fcrow1_col0\" class=\"data row1 col0\" >0.22849</td>\n",
       "            </tr>\n",
       "            <tr>\n",
       "                        <th id=\"T_dd44a2e2_0a1b_11ea_a6fb_107b449f15fclevel0_row2\" class=\"row_heading level0 row2\" >филология</th>\n",
       "                        <td id=\"T_dd44a2e2_0a1b_11ea_a6fb_107b449f15fcrow2_col0\" class=\"data row2 col0\" >0.1093</td>\n",
       "            </tr>\n",
       "            <tr>\n",
       "                        <th id=\"T_dd44a2e2_0a1b_11ea_a6fb_107b449f15fclevel0_row3\" class=\"row_heading level0 row3\" >русский_язык</th>\n",
       "                        <td id=\"T_dd44a2e2_0a1b_11ea_a6fb_107b449f15fcrow3_col0\" class=\"data row3 col0\" >0.09095</td>\n",
       "            </tr>\n",
       "            <tr>\n",
       "                        <th id=\"T_dd44a2e2_0a1b_11ea_a6fb_107b449f15fclevel0_row4\" class=\"row_heading level0 row4\" >грамматика</th>\n",
       "                        <td id=\"T_dd44a2e2_0a1b_11ea_a6fb_107b449f15fcrow4_col0\" class=\"data row4 col0\" >0.02813</td>\n",
       "            </tr>\n",
       "            <tr>\n",
       "                        <th id=\"T_dd44a2e2_0a1b_11ea_a6fb_107b449f15fclevel0_row5\" class=\"row_heading level0 row5\" >полевая_лингвистика</th>\n",
       "                        <td id=\"T_dd44a2e2_0a1b_11ea_a6fb_107b449f15fcrow5_col0\" class=\"data row5 col0\" >0.0227</td>\n",
       "            </tr>\n",
       "            <tr>\n",
       "                        <th id=\"T_dd44a2e2_0a1b_11ea_a6fb_107b449f15fclevel0_row6\" class=\"row_heading level0 row6\" >речь</th>\n",
       "                        <td id=\"T_dd44a2e2_0a1b_11ea_a6fb_107b449f15fcrow6_col0\" class=\"data row6 col0\" >0.02093</td>\n",
       "            </tr>\n",
       "            <tr>\n",
       "                        <th id=\"T_dd44a2e2_0a1b_11ea_a6fb_107b449f15fclevel0_row7\" class=\"row_heading level0 row7\" >диалект</th>\n",
       "                        <td id=\"T_dd44a2e2_0a1b_11ea_a6fb_107b449f15fcrow7_col0\" class=\"data row7 col0\" >0.01837</td>\n",
       "            </tr>\n",
       "            <tr>\n",
       "                        <th id=\"T_dd44a2e2_0a1b_11ea_a6fb_107b449f15fclevel0_row8\" class=\"row_heading level0 row8\" >фонетика</th>\n",
       "                        <td id=\"T_dd44a2e2_0a1b_11ea_a6fb_107b449f15fcrow8_col0\" class=\"data row8 col0\" >0.01513</td>\n",
       "            </tr>\n",
       "            <tr>\n",
       "                        <th id=\"T_dd44a2e2_0a1b_11ea_a6fb_107b449f15fclevel0_row9\" class=\"row_heading level0 row9\" >английский_язык</th>\n",
       "                        <td id=\"T_dd44a2e2_0a1b_11ea_a6fb_107b449f15fcrow9_col0\" class=\"data row9 col0\" >0.01512</td>\n",
       "            </tr>\n",
       "    </tbody></table><style  type=\"text/css\" >\n",
       "</style><table id=\"T_dd44a2e3_0a1b_11ea_a6fb_107b449f15fc\" style='display:inline'><thead>    <tr>        <th class=\"blank level0\" ></th>        <th class=\"col_heading level0 col0\" >topic_18 @word</th>    </tr></thead><tbody>\n",
       "                <tr>\n",
       "                        <th id=\"T_dd44a2e3_0a1b_11ea_a6fb_107b449f15fclevel0_row0\" class=\"row_heading level0 row0\" >язык</th>\n",
       "                        <td id=\"T_dd44a2e3_0a1b_11ea_a6fb_107b449f15fcrow0_col0\" class=\"data row0 col0\" >0.03843</td>\n",
       "            </tr>\n",
       "            <tr>\n",
       "                        <th id=\"T_dd44a2e3_0a1b_11ea_a6fb_107b449f15fclevel0_row1\" class=\"row_heading level0 row1\" >слово</th>\n",
       "                        <td id=\"T_dd44a2e3_0a1b_11ea_a6fb_107b449f15fcrow1_col0\" class=\"data row1 col0\" >0.02271</td>\n",
       "            </tr>\n",
       "            <tr>\n",
       "                        <th id=\"T_dd44a2e3_0a1b_11ea_a6fb_107b449f15fclevel0_row2\" class=\"row_heading level0 row2\" >говорить</th>\n",
       "                        <td id=\"T_dd44a2e3_0a1b_11ea_a6fb_107b449f15fcrow2_col0\" class=\"data row2 col0\" >0.00814</td>\n",
       "            </tr>\n",
       "            <tr>\n",
       "                        <th id=\"T_dd44a2e3_0a1b_11ea_a6fb_107b449f15fclevel0_row3\" class=\"row_heading level0 row3\" >словарь</th>\n",
       "                        <td id=\"T_dd44a2e3_0a1b_11ea_a6fb_107b449f15fcrow3_col0\" class=\"data row3 col0\" >0.00571</td>\n",
       "            </tr>\n",
       "            <tr>\n",
       "                        <th id=\"T_dd44a2e3_0a1b_11ea_a6fb_107b449f15fclevel0_row4\" class=\"row_heading level0 row4\" >лингвист</th>\n",
       "                        <td id=\"T_dd44a2e3_0a1b_11ea_a6fb_107b449f15fcrow4_col0\" class=\"data row4 col0\" >0.00539</td>\n",
       "            </tr>\n",
       "            <tr>\n",
       "                        <th id=\"T_dd44a2e3_0a1b_11ea_a6fb_107b449f15fclevel0_row5\" class=\"row_heading level0 row5\" >текст</th>\n",
       "                        <td id=\"T_dd44a2e3_0a1b_11ea_a6fb_107b449f15fcrow5_col0\" class=\"data row5 col0\" >0.00506</td>\n",
       "            </tr>\n",
       "            <tr>\n",
       "                        <th id=\"T_dd44a2e3_0a1b_11ea_a6fb_107b449f15fclevel0_row6\" class=\"row_heading level0 row6\" >русский</th>\n",
       "                        <td id=\"T_dd44a2e3_0a1b_11ea_a6fb_107b449f15fcrow6_col0\" class=\"data row6 col0\" >0.0047</td>\n",
       "            </tr>\n",
       "            <tr>\n",
       "                        <th id=\"T_dd44a2e3_0a1b_11ea_a6fb_107b449f15fclevel0_row7\" class=\"row_heading level0 row7\" >предложение</th>\n",
       "                        <td id=\"T_dd44a2e3_0a1b_11ea_a6fb_107b449f15fcrow7_col0\" class=\"data row7 col0\" >0.00431</td>\n",
       "            </tr>\n",
       "            <tr>\n",
       "                        <th id=\"T_dd44a2e3_0a1b_11ea_a6fb_107b449f15fclevel0_row8\" class=\"row_heading level0 row8\" >знать</th>\n",
       "                        <td id=\"T_dd44a2e3_0a1b_11ea_a6fb_107b449f15fcrow8_col0\" class=\"data row8 col0\" >0.00427</td>\n",
       "            </tr>\n",
       "            <tr>\n",
       "                        <th id=\"T_dd44a2e3_0a1b_11ea_a6fb_107b449f15fclevel0_row9\" class=\"row_heading level0 row9\" >глагол</th>\n",
       "                        <td id=\"T_dd44a2e3_0a1b_11ea_a6fb_107b449f15fcrow9_col0\" class=\"data row9 col0\" >0.0042</td>\n",
       "            </tr>\n",
       "    </tbody></table>"
      ]
     },
     "metadata": {},
     "output_type": "display_data"
    },
    {
     "data": {
      "text/html": [
       "<b> «глагольный вид является едва ли не самым сложным для изучения» </b><br /> интервью с лингвистом алексеем шмелевым о предмете изучения аспектологии, ошибках в употреблении глаголов и сложностях русской грамматики"
      ]
     },
     "metadata": {},
     "output_type": "display_data"
    },
    {
     "data": {
      "text/html": [
       "<b> русский диалектный консонантизм </b><br /> лингвист игорь исаев о твердости/мягкости согласных, особенностях артикуляции в говорах и методах фонетического анализа речи"
      ]
     },
     "metadata": {},
     "output_type": "display_data"
    },
    {
     "data": {
      "text/html": [
       "<b> двувидовые глаголы </b><br /> лингвист александр пиперски об особенностях глаголов совершенного и несовершенного вида, интеграции в русский язык заимствованных глаголов и видовых противоречиях в русских словарях"
      ]
     },
     "metadata": {},
     "output_type": "display_data"
    },
    {
     "data": {
      "text/html": [
       "<b> гласные русского языка </b><br /> лингвист игорь исаев об истории гласных в литературном языке, следах утраченных букв и особенностях говоров"
      ]
     },
     "metadata": {},
     "output_type": "display_data"
    },
    {
     "data": {
      "text/html": [
       "<b> германские языки </b><br /> лингвист александр пиперски о глагольной системе, фонетике и синтаксисе германских языков"
      ]
     },
     "metadata": {},
     "output_type": "display_data"
    },
    {
     "data": {
      "text/html": [
       "<b> «диалектные черты имеют глубокую историю, но до сих пор сохраняются носителями, живущими в деревнях» </b><br /> интервью с лингвистом игорем исаевым о диалектных особенностях северного наречия русского языка"
      ]
     },
     "metadata": {},
     "output_type": "display_data"
    },
    {
     "data": {
      "text/html": [
       "<b> архитектура грамматики </b><br /> лингвист екатерина лютикова об уровневых моделях языка, значении синтаксиса и генеративной лингвистике"
      ]
     },
     "metadata": {},
     "output_type": "display_data"
    },
    {
     "data": {
      "text/html": [
       "<b> научная классификация и естественный языкпроблема орехов </b><br /> лингвист борис иомдин о бытовом и словарном определении «орехов» и формировании нового класса слов"
      ]
     },
     "metadata": {},
     "output_type": "display_data"
    },
    {
     "data": {
      "text/html": [
       "<b> теория фразеологии </b><br /> лингвист анатолий баранов о типах фразеологизмов, задачах фразеографии и ментальном лексиконе человека"
      ]
     },
     "metadata": {},
     "output_type": "display_data"
    },
    {
     "data": {
      "text/html": [
       "<b> лексическая сочетаемость </b><br /> лингвист александр пиперски о парадоксальных словосочетаниях, модели мешка слов и использовании логарифмов в лингвистике"
      ]
     },
     "metadata": {},
     "output_type": "display_data"
    },
    {
     "data": {
      "text/html": [
       "<style  type=\"text/css\" >\n",
       "</style><table id=\"T_dd44a2e4_0a1b_11ea_a6fb_107b449f15fc\" style='display:inline'><thead>    <tr>        <th class=\"blank level0\" ></th>        <th class=\"col_heading level0 col0\" >topic_19 @2gramm</th>    </tr></thead><tbody>\n",
       "                <tr>\n",
       "                        <th id=\"T_dd44a2e4_0a1b_11ea_a6fb_107b449f15fclevel0_row0\" class=\"row_heading level0 row0\" >средний_век</th>\n",
       "                        <td id=\"T_dd44a2e4_0a1b_11ea_a6fb_107b449f15fcrow0_col0\" class=\"data row0 col0\" >0.02294</td>\n",
       "            </tr>\n",
       "            <tr>\n",
       "                        <th id=\"T_dd44a2e4_0a1b_11ea_a6fb_107b449f15fclevel0_row1\" class=\"row_heading level0 row1\" >xiii_век</th>\n",
       "                        <td id=\"T_dd44a2e4_0a1b_11ea_a6fb_107b449f15fcrow1_col0\" class=\"data row1 col0\" >0.01232</td>\n",
       "            </tr>\n",
       "            <tr>\n",
       "                        <th id=\"T_dd44a2e4_0a1b_11ea_a6fb_107b449f15fclevel0_row2\" class=\"row_heading level0 row2\" >католический_церковь</th>\n",
       "                        <td id=\"T_dd44a2e4_0a1b_11ea_a6fb_107b449f15fcrow2_col0\" class=\"data row2 col0\" >0.01207</td>\n",
       "            </tr>\n",
       "            <tr>\n",
       "                        <th id=\"T_dd44a2e4_0a1b_11ea_a6fb_107b449f15fclevel0_row3\" class=\"row_heading level0 row3\" >xii_век</th>\n",
       "                        <td id=\"T_dd44a2e4_0a1b_11ea_a6fb_107b449f15fcrow3_col0\" class=\"data row3 col0\" >0.01204</td>\n",
       "            </tr>\n",
       "            <tr>\n",
       "                        <th id=\"T_dd44a2e4_0a1b_11ea_a6fb_107b449f15fclevel0_row4\" class=\"row_heading level0 row4\" >древний_русь</th>\n",
       "                        <td id=\"T_dd44a2e4_0a1b_11ea_a6fb_107b449f15fcrow4_col0\" class=\"data row4 col0\" >0.00882</td>\n",
       "            </tr>\n",
       "            <tr>\n",
       "                        <th id=\"T_dd44a2e4_0a1b_11ea_a6fb_107b449f15fclevel0_row5\" class=\"row_heading level0 row5\" >христианский_имя</th>\n",
       "                        <td id=\"T_dd44a2e4_0a1b_11ea_a6fb_107b449f15fcrow5_col0\" class=\"data row5 col0\" >0.00769</td>\n",
       "            </tr>\n",
       "            <tr>\n",
       "                        <th id=\"T_dd44a2e4_0a1b_11ea_a6fb_107b449f15fclevel0_row6\" class=\"row_heading level0 row6\" >фома_аквинский</th>\n",
       "                        <td id=\"T_dd44a2e4_0a1b_11ea_a6fb_107b449f15fcrow6_col0\" class=\"data row6 col0\" >0.00762</td>\n",
       "            </tr>\n",
       "            <tr>\n",
       "                        <th id=\"T_dd44a2e4_0a1b_11ea_a6fb_107b449f15fclevel0_row7\" class=\"row_heading level0 row7\" >русский_князь</th>\n",
       "                        <td id=\"T_dd44a2e4_0a1b_11ea_a6fb_107b449f15fcrow7_col0\" class=\"data row7 col0\" >0.0075</td>\n",
       "            </tr>\n",
       "            <tr>\n",
       "                        <th id=\"T_dd44a2e4_0a1b_11ea_a6fb_107b449f15fclevel0_row8\" class=\"row_heading level0 row8\" >xv_век</th>\n",
       "                        <td id=\"T_dd44a2e4_0a1b_11ea_a6fb_107b449f15fcrow8_col0\" class=\"data row8 col0\" >0.00702</td>\n",
       "            </tr>\n",
       "            <tr>\n",
       "                        <th id=\"T_dd44a2e4_0a1b_11ea_a6fb_107b449f15fclevel0_row9\" class=\"row_heading level0 row9\" >священный_писание</th>\n",
       "                        <td id=\"T_dd44a2e4_0a1b_11ea_a6fb_107b449f15fcrow9_col0\" class=\"data row9 col0\" >0.00639</td>\n",
       "            </tr>\n",
       "    </tbody></table><style  type=\"text/css\" >\n",
       "</style><table id=\"T_dd44a2e5_0a1b_11ea_a6fb_107b449f15fc\" style='display:inline'><thead>    <tr>        <th class=\"blank level0\" ></th>        <th class=\"col_heading level0 col0\" >topic_19 @3gramm</th>    </tr></thead><tbody>\n",
       "                <tr>\n",
       "                        <th id=\"T_dd44a2e5_0a1b_11ea_a6fb_107b449f15fclevel0_row0\" class=\"row_heading level0 row0\" >половина_xix_век</th>\n",
       "                        <td id=\"T_dd44a2e5_0a1b_11ea_a6fb_107b449f15fcrow0_col0\" class=\"data row0 col0\" >0.29609</td>\n",
       "            </tr>\n",
       "            <tr>\n",
       "                        <th id=\"T_dd44a2e5_0a1b_11ea_a6fb_107b449f15fclevel0_row1\" class=\"row_heading level0 row1\" >каков_история_развитие</th>\n",
       "                        <td id=\"T_dd44a2e5_0a1b_11ea_a6fb_107b449f15fcrow1_col0\" class=\"data row1 col0\" >0.16403</td>\n",
       "            </tr>\n",
       "            <tr>\n",
       "                        <th id=\"T_dd44a2e5_0a1b_11ea_a6fb_107b449f15fclevel0_row2\" class=\"row_heading level0 row2\" >немецкий_классический_философия</th>\n",
       "                        <td id=\"T_dd44a2e5_0a1b_11ea_a6fb_107b449f15fcrow2_col0\" class=\"data row2 col0\" >0.14196</td>\n",
       "            </tr>\n",
       "            <tr>\n",
       "                        <th id=\"T_dd44a2e5_0a1b_11ea_a6fb_107b449f15fclevel0_row3\" class=\"row_heading level0 row3\" >уделять_большой_внимание</th>\n",
       "                        <td id=\"T_dd44a2e5_0a1b_11ea_a6fb_107b449f15fcrow3_col0\" class=\"data row3 col0\" >0.05089</td>\n",
       "            </tr>\n",
       "            <tr>\n",
       "                        <th id=\"T_dd44a2e5_0a1b_11ea_a6fb_107b449f15fclevel0_row4\" class=\"row_heading level0 row4\" >начало_xiii_век</th>\n",
       "                        <td id=\"T_dd44a2e5_0a1b_11ea_a6fb_107b449f15fcrow4_col0\" class=\"data row4 col0\" >0.04603</td>\n",
       "            </tr>\n",
       "            <tr>\n",
       "                        <th id=\"T_dd44a2e5_0a1b_11ea_a6fb_107b449f15fclevel0_row5\" class=\"row_heading level0 row5\" >конец_xv_век</th>\n",
       "                        <td id=\"T_dd44a2e5_0a1b_11ea_a6fb_107b449f15fcrow5_col0\" class=\"data row5 col0\" >0.046</td>\n",
       "            </tr>\n",
       "            <tr>\n",
       "                        <th id=\"T_dd44a2e5_0a1b_11ea_a6fb_107b449f15fclevel0_row6\" class=\"row_heading level0 row6\" >великий_хартия_вольность</th>\n",
       "                        <td id=\"T_dd44a2e5_0a1b_11ea_a6fb_107b449f15fcrow6_col0\" class=\"data row6 col0\" >0.04597</td>\n",
       "            </tr>\n",
       "            <tr>\n",
       "                        <th id=\"T_dd44a2e5_0a1b_11ea_a6fb_107b449f15fclevel0_row7\" class=\"row_heading level0 row7\" >жак_ле_гофф</th>\n",
       "                        <td id=\"T_dd44a2e5_0a1b_11ea_a6fb_107b449f15fcrow7_col0\" class=\"data row7 col0\" >0.03579</td>\n",
       "            </tr>\n",
       "            <tr>\n",
       "                        <th id=\"T_dd44a2e5_0a1b_11ea_a6fb_107b449f15fclevel0_row8\" class=\"row_heading level0 row8\" >оказать_существенный_влияние</th>\n",
       "                        <td id=\"T_dd44a2e5_0a1b_11ea_a6fb_107b449f15fcrow8_col0\" class=\"data row8 col0\" >0.03573</td>\n",
       "            </tr>\n",
       "            <tr>\n",
       "                        <th id=\"T_dd44a2e5_0a1b_11ea_a6fb_107b449f15fclevel0_row9\" class=\"row_heading level0 row9\" >середина_xiii_век</th>\n",
       "                        <td id=\"T_dd44a2e5_0a1b_11ea_a6fb_107b449f15fcrow9_col0\" class=\"data row9 col0\" >0.02581</td>\n",
       "            </tr>\n",
       "    </tbody></table><style  type=\"text/css\" >\n",
       "</style><table id=\"T_dd44a2e6_0a1b_11ea_a6fb_107b449f15fc\" style='display:inline'><thead>    <tr>        <th class=\"blank level0\" ></th>        <th class=\"col_heading level0 col0\" >topic_19 @post_tag</th>    </tr></thead><tbody>\n",
       "                <tr>\n",
       "                        <th id=\"T_dd44a2e6_0a1b_11ea_a6fb_107b449f15fclevel0_row0\" class=\"row_heading level0 row0\" >история</th>\n",
       "                        <td id=\"T_dd44a2e6_0a1b_11ea_a6fb_107b449f15fcrow0_col0\" class=\"data row0 col0\" >0.19433</td>\n",
       "            </tr>\n",
       "            <tr>\n",
       "                        <th id=\"T_dd44a2e6_0a1b_11ea_a6fb_107b449f15fclevel0_row1\" class=\"row_heading level0 row1\" >средневековье</th>\n",
       "                        <td id=\"T_dd44a2e6_0a1b_11ea_a6fb_107b449f15fcrow1_col0\" class=\"data row1 col0\" >0.15396</td>\n",
       "            </tr>\n",
       "            <tr>\n",
       "                        <th id=\"T_dd44a2e6_0a1b_11ea_a6fb_107b449f15fclevel0_row2\" class=\"row_heading level0 row2\" >христианство</th>\n",
       "                        <td id=\"T_dd44a2e6_0a1b_11ea_a6fb_107b449f15fcrow2_col0\" class=\"data row2 col0\" >0.10702</td>\n",
       "            </tr>\n",
       "            <tr>\n",
       "                        <th id=\"T_dd44a2e6_0a1b_11ea_a6fb_107b449f15fclevel0_row3\" class=\"row_heading level0 row3\" >европа</th>\n",
       "                        <td id=\"T_dd44a2e6_0a1b_11ea_a6fb_107b449f15fcrow3_col0\" class=\"data row3 col0\" >0.07263</td>\n",
       "            </tr>\n",
       "            <tr>\n",
       "                        <th id=\"T_dd44a2e6_0a1b_11ea_a6fb_107b449f15fclevel0_row4\" class=\"row_heading level0 row4\" >русь</th>\n",
       "                        <td id=\"T_dd44a2e6_0a1b_11ea_a6fb_107b449f15fcrow4_col0\" class=\"data row4 col0\" >0.05382</td>\n",
       "            </tr>\n",
       "            <tr>\n",
       "                        <th id=\"T_dd44a2e6_0a1b_11ea_a6fb_107b449f15fclevel0_row5\" class=\"row_heading level0 row5\" >власть</th>\n",
       "                        <td id=\"T_dd44a2e6_0a1b_11ea_a6fb_107b449f15fcrow5_col0\" class=\"data row5 col0\" >0.04822</td>\n",
       "            </tr>\n",
       "            <tr>\n",
       "                        <th id=\"T_dd44a2e6_0a1b_11ea_a6fb_107b449f15fclevel0_row6\" class=\"row_heading level0 row6\" >католицизм</th>\n",
       "                        <td id=\"T_dd44a2e6_0a1b_11ea_a6fb_107b449f15fcrow6_col0\" class=\"data row6 col0\" >0.03963</td>\n",
       "            </tr>\n",
       "            <tr>\n",
       "                        <th id=\"T_dd44a2e6_0a1b_11ea_a6fb_107b449f15fclevel0_row7\" class=\"row_heading level0 row7\" >религия</th>\n",
       "                        <td id=\"T_dd44a2e6_0a1b_11ea_a6fb_107b449f15fcrow7_col0\" class=\"data row7 col0\" >0.02885</td>\n",
       "            </tr>\n",
       "            <tr>\n",
       "                        <th id=\"T_dd44a2e6_0a1b_11ea_a6fb_107b449f15fclevel0_row8\" class=\"row_heading level0 row8\" >медиевистика</th>\n",
       "                        <td id=\"T_dd44a2e6_0a1b_11ea_a6fb_107b449f15fcrow8_col0\" class=\"data row8 col0\" >0.0229</td>\n",
       "            </tr>\n",
       "            <tr>\n",
       "                        <th id=\"T_dd44a2e6_0a1b_11ea_a6fb_107b449f15fclevel0_row9\" class=\"row_heading level0 row9\" >инквизиция</th>\n",
       "                        <td id=\"T_dd44a2e6_0a1b_11ea_a6fb_107b449f15fcrow9_col0\" class=\"data row9 col0\" >0.02289</td>\n",
       "            </tr>\n",
       "    </tbody></table><style  type=\"text/css\" >\n",
       "</style><table id=\"T_dd44a2e7_0a1b_11ea_a6fb_107b449f15fc\" style='display:inline'><thead>    <tr>        <th class=\"blank level0\" ></th>        <th class=\"col_heading level0 col0\" >topic_19 @word</th>    </tr></thead><tbody>\n",
       "                <tr>\n",
       "                        <th id=\"T_dd44a2e7_0a1b_11ea_a6fb_107b449f15fclevel0_row0\" class=\"row_heading level0 row0\" >имя</th>\n",
       "                        <td id=\"T_dd44a2e7_0a1b_11ea_a6fb_107b449f15fcrow0_col0\" class=\"data row0 col0\" >0.00625</td>\n",
       "            </tr>\n",
       "            <tr>\n",
       "                        <th id=\"T_dd44a2e7_0a1b_11ea_a6fb_107b449f15fclevel0_row1\" class=\"row_heading level0 row1\" >история</th>\n",
       "                        <td id=\"T_dd44a2e7_0a1b_11ea_a6fb_107b449f15fcrow1_col0\" class=\"data row1 col0\" >0.00618</td>\n",
       "            </tr>\n",
       "            <tr>\n",
       "                        <th id=\"T_dd44a2e7_0a1b_11ea_a6fb_107b449f15fclevel0_row2\" class=\"row_heading level0 row2\" >церковь</th>\n",
       "                        <td id=\"T_dd44a2e7_0a1b_11ea_a6fb_107b449f15fcrow2_col0\" class=\"data row2 col0\" >0.00541</td>\n",
       "            </tr>\n",
       "            <tr>\n",
       "                        <th id=\"T_dd44a2e7_0a1b_11ea_a6fb_107b449f15fclevel0_row3\" class=\"row_heading level0 row3\" >король</th>\n",
       "                        <td id=\"T_dd44a2e7_0a1b_11ea_a6fb_107b449f15fcrow3_col0\" class=\"data row3 col0\" >0.00518</td>\n",
       "            </tr>\n",
       "            <tr>\n",
       "                        <th id=\"T_dd44a2e7_0a1b_11ea_a6fb_107b449f15fclevel0_row4\" class=\"row_heading level0 row4\" >власть</th>\n",
       "                        <td id=\"T_dd44a2e7_0a1b_11ea_a6fb_107b449f15fcrow4_col0\" class=\"data row4 col0\" >0.00442</td>\n",
       "            </tr>\n",
       "            <tr>\n",
       "                        <th id=\"T_dd44a2e7_0a1b_11ea_a6fb_107b449f15fclevel0_row5\" class=\"row_heading level0 row5\" >текст</th>\n",
       "                        <td id=\"T_dd44a2e7_0a1b_11ea_a6fb_107b449f15fcrow5_col0\" class=\"data row5 col0\" >0.00387</td>\n",
       "            </tr>\n",
       "            <tr>\n",
       "                        <th id=\"T_dd44a2e7_0a1b_11ea_a6fb_107b449f15fclevel0_row6\" class=\"row_heading level0 row6\" >образ</th>\n",
       "                        <td id=\"T_dd44a2e7_0a1b_11ea_a6fb_107b449f15fcrow6_col0\" class=\"data row6 col0\" >0.0038</td>\n",
       "            </tr>\n",
       "            <tr>\n",
       "                        <th id=\"T_dd44a2e7_0a1b_11ea_a6fb_107b449f15fclevel0_row7\" class=\"row_heading level0 row7\" >историк</th>\n",
       "                        <td id=\"T_dd44a2e7_0a1b_11ea_a6fb_107b449f15fcrow7_col0\" class=\"data row7 col0\" >0.00367</td>\n",
       "            </tr>\n",
       "            <tr>\n",
       "                        <th id=\"T_dd44a2e7_0a1b_11ea_a6fb_107b449f15fclevel0_row8\" class=\"row_heading level0 row8\" >средневековый</th>\n",
       "                        <td id=\"T_dd44a2e7_0a1b_11ea_a6fb_107b449f15fcrow8_col0\" class=\"data row8 col0\" >0.00366</td>\n",
       "            </tr>\n",
       "            <tr>\n",
       "                        <th id=\"T_dd44a2e7_0a1b_11ea_a6fb_107b449f15fclevel0_row9\" class=\"row_heading level0 row9\" >книга</th>\n",
       "                        <td id=\"T_dd44a2e7_0a1b_11ea_a6fb_107b449f15fcrow9_col0\" class=\"data row9 col0\" >0.00338</td>\n",
       "            </tr>\n",
       "    </tbody></table>"
      ]
     },
     "metadata": {},
     "output_type": "display_data"
    },
    {
     "data": {
      "text/html": [
       "<b> faqсредневековая иудео-христианская полемика </b><br /> 7 фактов о развитии диалога между христианством и иудаизмом и публичных диспутах средневековья"
      ]
     },
     "metadata": {},
     "output_type": "display_data"
    },
    {
     "data": {
      "text/html": [
       "<b> faqнемецкая классическая философия как понятие </b><br /> 6 фактов о собраниях текстов, отцах-основателях и ошибочном представлении о понятии"
      ]
     },
     "metadata": {},
     "output_type": "display_data"
    },
    {
     "data": {
      "text/html": [
       "<b> главыстроительство церкви и его интерпретации </b><br /> отрывок из книги медиевиста ирины галковой «церкви и всадники. романские храмы пуату и их заказчики» о становлении в европейской культуре феномена родовой церкви"
      ]
     },
     "metadata": {},
     "output_type": "display_data"
    },
    {
     "data": {
      "text/html": [
       "<b> телесность власти в средние века </b><br /> историк михаил бойцов о качествах тела правителя, знаках власти и трупном синоде"
      ]
     },
     "metadata": {},
     "output_type": "display_data"
    },
    {
     "data": {
      "text/html": [
       "<b> средневековые ведовские процессы </b><br /> историк ольга тогоева об иллюзиях демонов, договоре с дьяволом и материальности колдовства"
      ]
     },
     "metadata": {},
     "output_type": "display_data"
    },
    {
     "data": {
      "text/html": [
       "<b> «ритуалы — это и есть власть» </b><br /> интервью с историком михаилом бойцовым об обряде средневековой коронации, практике помазания и статусе королевской власти в европе"
      ]
     },
     "metadata": {},
     "output_type": "display_data"
    },
    {
     "data": {
      "text/html": [
       "<b> вступление правителя в его город </b><br /> историк михаил бойцов о легитимации власти в средневековье, образе государя как иисуса христа и традициях встречи горожанами своего правителя"
      ]
     },
     "metadata": {},
     "output_type": "display_data"
    },
    {
     "data": {
      "text/html": [
       "<b> 5 книг о мифологизации жанны д'арк </b><br /> что читать об образе жанны д'арк в культуре, рекомендует кандидат исторических наук ольга тогоева"
      ]
     },
     "metadata": {},
     "output_type": "display_data"
    },
    {
     "data": {
      "text/html": [
       "<b> «божественная комедия» данте алигьери </b><br /> ад данте, классификация грехов, догмат о чистилище и архетип возвышенной любви"
      ]
     },
     "metadata": {},
     "output_type": "display_data"
    },
    {
     "data": {
      "text/html": [
       "<b> немецкая классическая философия как понятие </b><br /> философ петр резвых о преемственности, интеллектуальном ландшафте эпохи и освоении рукописного наследия"
      ]
     },
     "metadata": {},
     "output_type": "display_data"
    },
    {
     "data": {
      "text/html": [
       "<style  type=\"text/css\" >\n",
       "</style><table id=\"T_dd44a2e8_0a1b_11ea_a6fb_107b449f15fc\" style='display:inline'><thead>    <tr>        <th class=\"blank level0\" ></th>        <th class=\"col_heading level0 col0\" >topic_20 @2gramm</th>    </tr></thead><tbody>\n",
       "                <tr>\n",
       "                        <th id=\"T_dd44a2e8_0a1b_11ea_a6fb_107b449f15fclevel0_row0\" class=\"row_heading level0 row0\" >искусственный_интеллект</th>\n",
       "                        <td id=\"T_dd44a2e8_0a1b_11ea_a6fb_107b449f15fcrow0_col0\" class=\"data row0 col0\" >0.02401</td>\n",
       "            </tr>\n",
       "            <tr>\n",
       "                        <th id=\"T_dd44a2e8_0a1b_11ea_a6fb_107b449f15fclevel0_row1\" class=\"row_heading level0 row1\" >нейронный_сеть</th>\n",
       "                        <td id=\"T_dd44a2e8_0a1b_11ea_a6fb_107b449f15fcrow1_col0\" class=\"data row1 col0\" >0.01545</td>\n",
       "            </tr>\n",
       "            <tr>\n",
       "                        <th id=\"T_dd44a2e8_0a1b_11ea_a6fb_107b449f15fclevel0_row2\" class=\"row_heading level0 row2\" >социальный_сеть</th>\n",
       "                        <td id=\"T_dd44a2e8_0a1b_11ea_a6fb_107b449f15fcrow2_col0\" class=\"data row2 col0\" >0.01375</td>\n",
       "            </tr>\n",
       "            <tr>\n",
       "                        <th id=\"T_dd44a2e8_0a1b_11ea_a6fb_107b449f15fclevel0_row3\" class=\"row_heading level0 row3\" >программный_обеспечение</th>\n",
       "                        <td id=\"T_dd44a2e8_0a1b_11ea_a6fb_107b449f15fcrow3_col0\" class=\"data row3 col0\" >0.01059</td>\n",
       "            </tr>\n",
       "            <tr>\n",
       "                        <th id=\"T_dd44a2e8_0a1b_11ea_a6fb_107b449f15fclevel0_row4\" class=\"row_heading level0 row4\" >база_дать</th>\n",
       "                        <td id=\"T_dd44a2e8_0a1b_11ea_a6fb_107b449f15fcrow4_col0\" class=\"data row4 col0\" >0.00854</td>\n",
       "            </tr>\n",
       "            <tr>\n",
       "                        <th id=\"T_dd44a2e8_0a1b_11ea_a6fb_107b449f15fclevel0_row5\" class=\"row_heading level0 row5\" >машинный_обучение</th>\n",
       "                        <td id=\"T_dd44a2e8_0a1b_11ea_a6fb_107b449f15fcrow5_col0\" class=\"data row5 col0\" >0.00805</td>\n",
       "            </tr>\n",
       "            <tr>\n",
       "                        <th id=\"T_dd44a2e8_0a1b_11ea_a6fb_107b449f15fclevel0_row6\" class=\"row_heading level0 row6\" >анализ_дать</th>\n",
       "                        <td id=\"T_dd44a2e8_0a1b_11ea_a6fb_107b449f15fcrow6_col0\" class=\"data row6 col0\" >0.00723</td>\n",
       "            </tr>\n",
       "            <tr>\n",
       "                        <th id=\"T_dd44a2e8_0a1b_11ea_a6fb_107b449f15fclevel0_row7\" class=\"row_heading level0 row7\" >компьютерный_наука</th>\n",
       "                        <td id=\"T_dd44a2e8_0a1b_11ea_a6fb_107b449f15fcrow7_col0\" class=\"data row7 col0\" >0.00687</td>\n",
       "            </tr>\n",
       "            <tr>\n",
       "                        <th id=\"T_dd44a2e8_0a1b_11ea_a6fb_107b449f15fclevel0_row8\" class=\"row_heading level0 row8\" >язык_программирование</th>\n",
       "                        <td id=\"T_dd44a2e8_0a1b_11ea_a6fb_107b449f15fcrow8_col0\" class=\"data row8 col0\" >0.0055</td>\n",
       "            </tr>\n",
       "            <tr>\n",
       "                        <th id=\"T_dd44a2e8_0a1b_11ea_a6fb_107b449f15fclevel0_row9\" class=\"row_heading level0 row9\" >оперативный_память</th>\n",
       "                        <td id=\"T_dd44a2e8_0a1b_11ea_a6fb_107b449f15fcrow9_col0\" class=\"data row9 col0\" >0.00534</td>\n",
       "            </tr>\n",
       "    </tbody></table><style  type=\"text/css\" >\n",
       "</style><table id=\"T_dd44a2e9_0a1b_11ea_a6fb_107b449f15fc\" style='display:inline'><thead>    <tr>        <th class=\"blank level0\" ></th>        <th class=\"col_heading level0 col0\" >topic_20 @3gramm</th>    </tr></thead><tbody>\n",
       "                <tr>\n",
       "                        <th id=\"T_dd44a2e9_0a1b_11ea_a6fb_107b449f15fclevel0_row0\" class=\"row_heading level0 row0\" >область_искусственный_интеллект</th>\n",
       "                        <td id=\"T_dd44a2e9_0a1b_11ea_a6fb_107b449f15fcrow0_col0\" class=\"data row0 col0\" >0.11625</td>\n",
       "            </tr>\n",
       "            <tr>\n",
       "                        <th id=\"T_dd44a2e9_0a1b_11ea_a6fb_107b449f15fclevel0_row1\" class=\"row_heading level0 row1\" >система_искусственный_интеллект</th>\n",
       "                        <td id=\"T_dd44a2e9_0a1b_11ea_a6fb_107b449f15fcrow1_col0\" class=\"data row1 col0\" >0.10982</td>\n",
       "            </tr>\n",
       "            <tr>\n",
       "                        <th id=\"T_dd44a2e9_0a1b_11ea_a6fb_107b449f15fclevel0_row2\" class=\"row_heading level0 row2\" >искусственный_нейронный_сеть</th>\n",
       "                        <td id=\"T_dd44a2e9_0a1b_11ea_a6fb_107b449f15fcrow2_col0\" class=\"data row2 col0\" >0.06876</td>\n",
       "            </tr>\n",
       "            <tr>\n",
       "                        <th id=\"T_dd44a2e9_0a1b_11ea_a6fb_107b449f15fclevel0_row3\" class=\"row_heading level0 row3\" >стоить_обратить_внимание</th>\n",
       "                        <td id=\"T_dd44a2e9_0a1b_11ea_a6fb_107b449f15fcrow3_col0\" class=\"data row3 col0\" >0.06776</td>\n",
       "            </tr>\n",
       "            <tr>\n",
       "                        <th id=\"T_dd44a2e9_0a1b_11ea_a6fb_107b449f15fclevel0_row4\" class=\"row_heading level0 row4\" >выглядеть_следующий_образ</th>\n",
       "                        <td id=\"T_dd44a2e9_0a1b_11ea_a6fb_107b449f15fcrow4_col0\" class=\"data row4 col0\" >0.0674</td>\n",
       "            </tr>\n",
       "            <tr>\n",
       "                        <th id=\"T_dd44a2e9_0a1b_11ea_a6fb_107b449f15fclevel0_row5\" class=\"row_heading level0 row5\" >давать_имя_возможность</th>\n",
       "                        <td id=\"T_dd44a2e9_0a1b_11ea_a6fb_107b449f15fcrow5_col0\" class=\"data row5 col0\" >0.05479</td>\n",
       "            </tr>\n",
       "            <tr>\n",
       "                        <th id=\"T_dd44a2e9_0a1b_11ea_a6fb_107b449f15fclevel0_row6\" class=\"row_heading level0 row6\" >джон_фон_нейман</th>\n",
       "                        <td id=\"T_dd44a2e9_0a1b_11ea_a6fb_107b449f15fcrow6_col0\" class=\"data row6 col0\" >0.04814</td>\n",
       "            </tr>\n",
       "            <tr>\n",
       "                        <th id=\"T_dd44a2e9_0a1b_11ea_a6fb_107b449f15fclevel0_row7\" class=\"row_heading level0 row7\" >огромный_количество_дать</th>\n",
       "                        <td id=\"T_dd44a2e9_0a1b_11ea_a6fb_107b449f15fcrow7_col0\" class=\"data row7 col0\" >0.04791</td>\n",
       "            </tr>\n",
       "            <tr>\n",
       "                        <th id=\"T_dd44a2e9_0a1b_11ea_a6fb_107b449f15fclevel0_row8\" class=\"row_heading level0 row8\" >развитие_вычислительный_техника</th>\n",
       "                        <td id=\"T_dd44a2e9_0a1b_11ea_a6fb_107b449f15fcrow8_col0\" class=\"data row8 col0\" >0.04224</td>\n",
       "            </tr>\n",
       "            <tr>\n",
       "                        <th id=\"T_dd44a2e9_0a1b_11ea_a6fb_107b449f15fclevel0_row9\" class=\"row_heading level0 row9\" >создание_искусственный_интеллект</th>\n",
       "                        <td id=\"T_dd44a2e9_0a1b_11ea_a6fb_107b449f15fcrow9_col0\" class=\"data row9 col0\" >0.04203</td>\n",
       "            </tr>\n",
       "    </tbody></table><style  type=\"text/css\" >\n",
       "</style><table id=\"T_dd44a2ea_0a1b_11ea_a6fb_107b449f15fc\" style='display:inline'><thead>    <tr>        <th class=\"blank level0\" ></th>        <th class=\"col_heading level0 col0\" >topic_20 @post_tag</th>    </tr></thead><tbody>\n",
       "                <tr>\n",
       "                        <th id=\"T_dd44a2ea_0a1b_11ea_a6fb_107b449f15fclevel0_row0\" class=\"row_heading level0 row0\" >математика</th>\n",
       "                        <td id=\"T_dd44a2ea_0a1b_11ea_a6fb_107b449f15fcrow0_col0\" class=\"data row0 col0\" >0.17805</td>\n",
       "            </tr>\n",
       "            <tr>\n",
       "                        <th id=\"T_dd44a2ea_0a1b_11ea_a6fb_107b449f15fclevel0_row1\" class=\"row_heading level0 row1\" >технологии</th>\n",
       "                        <td id=\"T_dd44a2ea_0a1b_11ea_a6fb_107b449f15fcrow1_col0\" class=\"data row1 col0\" >0.16706</td>\n",
       "            </tr>\n",
       "            <tr>\n",
       "                        <th id=\"T_dd44a2ea_0a1b_11ea_a6fb_107b449f15fclevel0_row2\" class=\"row_heading level0 row2\" >информационные_технологии</th>\n",
       "                        <td id=\"T_dd44a2ea_0a1b_11ea_a6fb_107b449f15fcrow2_col0\" class=\"data row2 col0\" >0.12353</td>\n",
       "            </tr>\n",
       "            <tr>\n",
       "                        <th id=\"T_dd44a2ea_0a1b_11ea_a6fb_107b449f15fclevel0_row3\" class=\"row_heading level0 row3\" >интернет</th>\n",
       "                        <td id=\"T_dd44a2ea_0a1b_11ea_a6fb_107b449f15fcrow3_col0\" class=\"data row3 col0\" >0.07909</td>\n",
       "            </tr>\n",
       "            <tr>\n",
       "                        <th id=\"T_dd44a2ea_0a1b_11ea_a6fb_107b449f15fclevel0_row4\" class=\"row_heading level0 row4\" >искусственный_интеллект</th>\n",
       "                        <td id=\"T_dd44a2ea_0a1b_11ea_a6fb_107b449f15fcrow4_col0\" class=\"data row4 col0\" >0.064</td>\n",
       "            </tr>\n",
       "            <tr>\n",
       "                        <th id=\"T_dd44a2ea_0a1b_11ea_a6fb_107b449f15fclevel0_row5\" class=\"row_heading level0 row5\" >информатика</th>\n",
       "                        <td id=\"T_dd44a2ea_0a1b_11ea_a6fb_107b449f15fcrow5_col0\" class=\"data row5 col0\" >0.05485</td>\n",
       "            </tr>\n",
       "            <tr>\n",
       "                        <th id=\"T_dd44a2ea_0a1b_11ea_a6fb_107b449f15fclevel0_row6\" class=\"row_heading level0 row6\" >computer_science</th>\n",
       "                        <td id=\"T_dd44a2ea_0a1b_11ea_a6fb_107b449f15fcrow6_col0\" class=\"data row6 col0\" >0.03201</td>\n",
       "            </tr>\n",
       "            <tr>\n",
       "                        <th id=\"T_dd44a2ea_0a1b_11ea_a6fb_107b449f15fclevel0_row7\" class=\"row_heading level0 row7\" >робототехника</th>\n",
       "                        <td id=\"T_dd44a2ea_0a1b_11ea_a6fb_107b449f15fcrow7_col0\" class=\"data row7 col0\" >0.03046</td>\n",
       "            </tr>\n",
       "            <tr>\n",
       "                        <th id=\"T_dd44a2ea_0a1b_11ea_a6fb_107b449f15fclevel0_row8\" class=\"row_heading level0 row8\" >робот</th>\n",
       "                        <td id=\"T_dd44a2ea_0a1b_11ea_a6fb_107b449f15fcrow8_col0\" class=\"data row8 col0\" >0.02741</td>\n",
       "            </tr>\n",
       "            <tr>\n",
       "                        <th id=\"T_dd44a2ea_0a1b_11ea_a6fb_107b449f15fclevel0_row9\" class=\"row_heading level0 row9\" >социальные_сети</th>\n",
       "                        <td id=\"T_dd44a2ea_0a1b_11ea_a6fb_107b449f15fcrow9_col0\" class=\"data row9 col0\" >0.01969</td>\n",
       "            </tr>\n",
       "    </tbody></table><style  type=\"text/css\" >\n",
       "</style><table id=\"T_dd44a2eb_0a1b_11ea_a6fb_107b449f15fc\" style='display:inline'><thead>    <tr>        <th class=\"blank level0\" ></th>        <th class=\"col_heading level0 col0\" >topic_20 @word</th>    </tr></thead><tbody>\n",
       "                <tr>\n",
       "                        <th id=\"T_dd44a2eb_0a1b_11ea_a6fb_107b449f15fclevel0_row0\" class=\"row_heading level0 row0\" >дать</th>\n",
       "                        <td id=\"T_dd44a2eb_0a1b_11ea_a6fb_107b449f15fcrow0_col0\" class=\"data row0 col0\" >0.01052</td>\n",
       "            </tr>\n",
       "            <tr>\n",
       "                        <th id=\"T_dd44a2eb_0a1b_11ea_a6fb_107b449f15fclevel0_row1\" class=\"row_heading level0 row1\" >задача</th>\n",
       "                        <td id=\"T_dd44a2eb_0a1b_11ea_a6fb_107b449f15fcrow1_col0\" class=\"data row1 col0\" >0.00765</td>\n",
       "            </tr>\n",
       "            <tr>\n",
       "                        <th id=\"T_dd44a2eb_0a1b_11ea_a6fb_107b449f15fclevel0_row2\" class=\"row_heading level0 row2\" >система</th>\n",
       "                        <td id=\"T_dd44a2eb_0a1b_11ea_a6fb_107b449f15fcrow2_col0\" class=\"data row2 col0\" >0.00697</td>\n",
       "            </tr>\n",
       "            <tr>\n",
       "                        <th id=\"T_dd44a2eb_0a1b_11ea_a6fb_107b449f15fclevel0_row3\" class=\"row_heading level0 row3\" >сеть</th>\n",
       "                        <td id=\"T_dd44a2eb_0a1b_11ea_a6fb_107b449f15fcrow3_col0\" class=\"data row3 col0\" >0.00641</td>\n",
       "            </tr>\n",
       "            <tr>\n",
       "                        <th id=\"T_dd44a2eb_0a1b_11ea_a6fb_107b449f15fclevel0_row4\" class=\"row_heading level0 row4\" >компьютер</th>\n",
       "                        <td id=\"T_dd44a2eb_0a1b_11ea_a6fb_107b449f15fcrow4_col0\" class=\"data row4 col0\" >0.00634</td>\n",
       "            </tr>\n",
       "            <tr>\n",
       "                        <th id=\"T_dd44a2eb_0a1b_11ea_a6fb_107b449f15fclevel0_row5\" class=\"row_heading level0 row5\" >робот</th>\n",
       "                        <td id=\"T_dd44a2eb_0a1b_11ea_a6fb_107b449f15fcrow5_col0\" class=\"data row5 col0\" >0.00598</td>\n",
       "            </tr>\n",
       "            <tr>\n",
       "                        <th id=\"T_dd44a2eb_0a1b_11ea_a6fb_107b449f15fclevel0_row6\" class=\"row_heading level0 row6\" >программа</th>\n",
       "                        <td id=\"T_dd44a2eb_0a1b_11ea_a6fb_107b449f15fcrow6_col0\" class=\"data row6 col0\" >0.00527</td>\n",
       "            </tr>\n",
       "            <tr>\n",
       "                        <th id=\"T_dd44a2eb_0a1b_11ea_a6fb_107b449f15fclevel0_row7\" class=\"row_heading level0 row7\" >работать</th>\n",
       "                        <td id=\"T_dd44a2eb_0a1b_11ea_a6fb_107b449f15fcrow7_col0\" class=\"data row7 col0\" >0.00519</td>\n",
       "            </tr>\n",
       "            <tr>\n",
       "                        <th id=\"T_dd44a2eb_0a1b_11ea_a6fb_107b449f15fclevel0_row8\" class=\"row_heading level0 row8\" >работа</th>\n",
       "                        <td id=\"T_dd44a2eb_0a1b_11ea_a6fb_107b449f15fcrow8_col0\" class=\"data row8 col0\" >0.00469</td>\n",
       "            </tr>\n",
       "            <tr>\n",
       "                        <th id=\"T_dd44a2eb_0a1b_11ea_a6fb_107b449f15fclevel0_row9\" class=\"row_heading level0 row9\" >алгоритм</th>\n",
       "                        <td id=\"T_dd44a2eb_0a1b_11ea_a6fb_107b449f15fcrow9_col0\" class=\"data row9 col0\" >0.00449</td>\n",
       "            </tr>\n",
       "    </tbody></table>"
      ]
     },
     "metadata": {},
     "output_type": "display_data"
    },
    {
     "data": {
      "text/html": [
       "<b> дэвид вернон«то, что мы называем искусственным интеллектом, им не является» </b><br /> специалист по искусственному интеллекту дэвид вернон об истории создания ии, компьютерном зрении и способности роботов к самообучению"
      ]
     },
     "metadata": {},
     "output_type": "display_data"
    },
    {
     "data": {
      "text/html": [
       "<b> «компьютерные науки исследуют что-то идеальное, чего в реальном мире может физически не присутствовать» </b><br /> интервью с программистом станиславом протасовым об особенностях компьютерных наук, параллельном программировании и искусственном интеллекте"
      ]
     },
     "metadata": {},
     "output_type": "display_data"
    },
    {
     "data": {
      "text/html": [
       "<b> создана нейронная сеть, работающая по принципу машины тьюринга </b><br /> об архитектуре фон неймана, машине тьюринга и проверке работоспособности"
      ]
     },
     "metadata": {},
     "output_type": "display_data"
    },
    {
     "data": {
      "text/html": [
       "<b> история суперкомпьютерного моделирования </b><br /> 5 фактов о зарождении компьютерной эры, вычислительных методах и системах с распределенной памятью"
      ]
     },
     "metadata": {},
     "output_type": "display_data"
    },
    {
     "data": {
      "text/html": [
       "<b> компиляторы для языков программирования </b><br /> программный архитектор евгений зуев о разработке компиляторов, языке с++ и семантическом зазоре"
      ]
     },
     "metadata": {},
     "output_type": "display_data"
    },
    {
     "data": {
      "text/html": [
       "<b> технология ухода от баз данных в программировании </b><br /> инженер антон чижов о преимуществах оперативной памяти, способах хранения данных и системе «апрентис»"
      ]
     },
     "metadata": {},
     "output_type": "display_data"
    },
    {
     "data": {
      "text/html": [
       "<b> как обучить нейросеть понимать смысл текста программы? </b><br /> о машинном обучении, отличии формальных языков от естественных и обучающих выборках"
      ]
     },
     "metadata": {},
     "output_type": "display_data"
    },
    {
     "data": {
      "text/html": [
       "<b> механизмы управления репутацией в социальных сетях </b><br /> специалист по компьютерным наукам джу йонг ли об анализе социальных сетей, институте репутации и феномене дружбы в facebook"
      ]
     },
     "metadata": {},
     "output_type": "display_data"
    },
    {
     "data": {
      "text/html": [
       "<b> разработка корпоративных информационных систем </b><br /> информатик сергей зыков о возникновении программной инженерии, сложности корпоративных систем и развитии технологий"
      ]
     },
     "metadata": {},
     "output_type": "display_data"
    },
    {
     "data": {
      "text/html": [
       "<b> сознание машин </b><br /> специалист в области искусственного интеллекта максим таланов о связи сознания и понимания, машинном обучении и суперкомпьютерах ibm"
      ]
     },
     "metadata": {},
     "output_type": "display_data"
    },
    {
     "data": {
      "text/html": [
       "<style  type=\"text/css\" >\n",
       "</style><table id=\"T_dd44a2ec_0a1b_11ea_a6fb_107b449f15fc\" style='display:inline'><thead>    <tr>        <th class=\"blank level0\" ></th>        <th class=\"col_heading level0 col0\" >topic_21 @2gramm</th>    </tr></thead><tbody>\n",
       "                <tr>\n",
       "                        <th id=\"T_dd44a2ec_0a1b_11ea_a6fb_107b449f15fclevel0_row0\" class=\"row_heading level0 row0\" >молекула_днк</th>\n",
       "                        <td id=\"T_dd44a2ec_0a1b_11ea_a6fb_107b449f15fcrow0_col0\" class=\"data row0 col0\" >0.0151</td>\n",
       "            </tr>\n",
       "            <tr>\n",
       "                        <th id=\"T_dd44a2ec_0a1b_11ea_a6fb_107b449f15fclevel0_row1\" class=\"row_heading level0 row1\" >генетический_информация</th>\n",
       "                        <td id=\"T_dd44a2ec_0a1b_11ea_a6fb_107b449f15fcrow1_col0\" class=\"data row1 col0\" >0.01106</td>\n",
       "            </tr>\n",
       "            <tr>\n",
       "                        <th id=\"T_dd44a2ec_0a1b_11ea_a6fb_107b449f15fclevel0_row2\" class=\"row_heading level0 row2\" >живой_организм</th>\n",
       "                        <td id=\"T_dd44a2ec_0a1b_11ea_a6fb_107b449f15fcrow2_col0\" class=\"data row2 col0\" >0.00885</td>\n",
       "            </tr>\n",
       "            <tr>\n",
       "                        <th id=\"T_dd44a2ec_0a1b_11ea_a6fb_107b449f15fclevel0_row3\" class=\"row_heading level0 row3\" >последовательность_днк</th>\n",
       "                        <td id=\"T_dd44a2ec_0a1b_11ea_a6fb_107b449f15fcrow3_col0\" class=\"data row3 col0\" >0.00681</td>\n",
       "            </tr>\n",
       "            <tr>\n",
       "                        <th id=\"T_dd44a2ec_0a1b_11ea_a6fb_107b449f15fclevel0_row4\" class=\"row_heading level0 row4\" >кишечный_палочка</th>\n",
       "                        <td id=\"T_dd44a2ec_0a1b_11ea_a6fb_107b449f15fcrow4_col0\" class=\"data row4 col0\" >0.00681</td>\n",
       "            </tr>\n",
       "            <tr>\n",
       "                        <th id=\"T_dd44a2ec_0a1b_11ea_a6fb_107b449f15fclevel0_row5\" class=\"row_heading level0 row5\" >двойной_спираль</th>\n",
       "                        <td id=\"T_dd44a2ec_0a1b_11ea_a6fb_107b449f15fcrow5_col0\" class=\"data row5 col0\" >0.0068</td>\n",
       "            </tr>\n",
       "            <tr>\n",
       "                        <th id=\"T_dd44a2ec_0a1b_11ea_a6fb_107b449f15fclevel0_row6\" class=\"row_heading level0 row6\" >структура_днк</th>\n",
       "                        <td id=\"T_dd44a2ec_0a1b_11ea_a6fb_107b449f15fcrow6_col0\" class=\"data row6 col0\" >0.00621</td>\n",
       "            </tr>\n",
       "            <tr>\n",
       "                        <th id=\"T_dd44a2ec_0a1b_11ea_a6fb_107b449f15fclevel0_row7\" class=\"row_heading level0 row7\" >генный_инженерия</th>\n",
       "                        <td id=\"T_dd44a2ec_0a1b_11ea_a6fb_107b449f15fcrow7_col0\" class=\"data row7 col0\" >0.00612</td>\n",
       "            </tr>\n",
       "            <tr>\n",
       "                        <th id=\"T_dd44a2ec_0a1b_11ea_a6fb_107b449f15fclevel0_row8\" class=\"row_heading level0 row8\" >молекулярный_биология</th>\n",
       "                        <td id=\"T_dd44a2ec_0a1b_11ea_a6fb_107b449f15fcrow8_col0\" class=\"data row8 col0\" >0.0058</td>\n",
       "            </tr>\n",
       "            <tr>\n",
       "                        <th id=\"T_dd44a2ec_0a1b_11ea_a6fb_107b449f15fclevel0_row9\" class=\"row_heading level0 row9\" >участок_днк</th>\n",
       "                        <td id=\"T_dd44a2ec_0a1b_11ea_a6fb_107b449f15fcrow9_col0\" class=\"data row9 col0\" >0.0057</td>\n",
       "            </tr>\n",
       "    </tbody></table><style  type=\"text/css\" >\n",
       "</style><table id=\"T_dd44a2ed_0a1b_11ea_a6fb_107b449f15fc\" style='display:inline'><thead>    <tr>        <th class=\"blank level0\" ></th>        <th class=\"col_heading level0 col0\" >topic_21 @3gramm</th>    </tr></thead><tbody>\n",
       "                <tr>\n",
       "                        <th id=\"T_dd44a2ed_0a1b_11ea_a6fb_107b449f15fclevel0_row0\" class=\"row_heading level0 row0\" >дать_нобелевский_премия</th>\n",
       "                        <td id=\"T_dd44a2ed_0a1b_11ea_a6fb_107b449f15fcrow0_col0\" class=\"data row0 col0\" >0.09128</td>\n",
       "            </tr>\n",
       "            <tr>\n",
       "                        <th id=\"T_dd44a2ed_0a1b_11ea_a6fb_107b449f15fclevel0_row1\" class=\"row_heading level0 row1\" >двойной_спираль_днк</th>\n",
       "                        <td id=\"T_dd44a2ed_0a1b_11ea_a6fb_107b449f15fcrow1_col0\" class=\"data row1 col0\" >0.07909</td>\n",
       "            </tr>\n",
       "            <tr>\n",
       "                        <th id=\"T_dd44a2ed_0a1b_11ea_a6fb_107b449f15fclevel0_row2\" class=\"row_heading level0 row2\" >электрический_активность_мозг</th>\n",
       "                        <td id=\"T_dd44a2ed_0a1b_11ea_a6fb_107b449f15fcrow2_col0\" class=\"data row2 col0\" >0.073</td>\n",
       "            </tr>\n",
       "            <tr>\n",
       "                        <th id=\"T_dd44a2ed_0a1b_11ea_a6fb_107b449f15fclevel0_row3\" class=\"row_heading level0 row3\" >большой_роль_играть</th>\n",
       "                        <td id=\"T_dd44a2ed_0a1b_11ea_a6fb_107b449f15fcrow3_col0\" class=\"data row3 col0\" >0.06841</td>\n",
       "            </tr>\n",
       "            <tr>\n",
       "                        <th id=\"T_dd44a2ed_0a1b_11ea_a6fb_107b449f15fclevel0_row4\" class=\"row_heading level0 row4\" >подавлять_большинство_случай</th>\n",
       "                        <td id=\"T_dd44a2ed_0a1b_11ea_a6fb_107b449f15fcrow4_col0\" class=\"data row4 col0\" >0.06069</td>\n",
       "            </tr>\n",
       "            <tr>\n",
       "                        <th id=\"T_dd44a2ed_0a1b_11ea_a6fb_107b449f15fclevel0_row5\" class=\"row_heading level0 row5\" >играть_огромный_роль</th>\n",
       "                        <td id=\"T_dd44a2ed_0a1b_11ea_a6fb_107b449f15fcrow5_col0\" class=\"data row5 col0\" >0.05367</td>\n",
       "            </tr>\n",
       "            <tr>\n",
       "                        <th id=\"T_dd44a2ed_0a1b_11ea_a6fb_107b449f15fclevel0_row6\" class=\"row_heading level0 row6\" >путём_естественный_отбор</th>\n",
       "                        <td id=\"T_dd44a2ed_0a1b_11ea_a6fb_107b449f15fcrow6_col0\" class=\"data row6 col0\" >0.05366</td>\n",
       "            </tr>\n",
       "            <tr>\n",
       "                        <th id=\"T_dd44a2ed_0a1b_11ea_a6fb_107b449f15fclevel0_row7\" class=\"row_heading level0 row7\" >сложный_органический_соединение</th>\n",
       "                        <td id=\"T_dd44a2ed_0a1b_11ea_a6fb_107b449f15fcrow7_col0\" class=\"data row7 col0\" >0.04851</td>\n",
       "            </tr>\n",
       "            <tr>\n",
       "                        <th id=\"T_dd44a2ed_0a1b_11ea_a6fb_107b449f15fclevel0_row8\" class=\"row_heading level0 row8\" >клетка_высокий_организм</th>\n",
       "                        <td id=\"T_dd44a2ed_0a1b_11ea_a6fb_107b449f15fcrow8_col0\" class=\"data row8 col0\" >0.04806</td>\n",
       "            </tr>\n",
       "            <tr>\n",
       "                        <th id=\"T_dd44a2ed_0a1b_11ea_a6fb_107b449f15fclevel0_row9\" class=\"row_heading level0 row9\" >открытие_двойной_спираль</th>\n",
       "                        <td id=\"T_dd44a2ed_0a1b_11ea_a6fb_107b449f15fcrow9_col0\" class=\"data row9 col0\" >0.04804</td>\n",
       "            </tr>\n",
       "    </tbody></table><style  type=\"text/css\" >\n",
       "</style><table id=\"T_dd44a2ee_0a1b_11ea_a6fb_107b449f15fc\" style='display:inline'><thead>    <tr>        <th class=\"blank level0\" ></th>        <th class=\"col_heading level0 col0\" >topic_21 @post_tag</th>    </tr></thead><tbody>\n",
       "                <tr>\n",
       "                        <th id=\"T_dd44a2ee_0a1b_11ea_a6fb_107b449f15fclevel0_row0\" class=\"row_heading level0 row0\" >биология</th>\n",
       "                        <td id=\"T_dd44a2ee_0a1b_11ea_a6fb_107b449f15fcrow0_col0\" class=\"data row0 col0\" >0.12698</td>\n",
       "            </tr>\n",
       "            <tr>\n",
       "                        <th id=\"T_dd44a2ee_0a1b_11ea_a6fb_107b449f15fclevel0_row1\" class=\"row_heading level0 row1\" >геном</th>\n",
       "                        <td id=\"T_dd44a2ee_0a1b_11ea_a6fb_107b449f15fcrow1_col0\" class=\"data row1 col0\" >0.08707</td>\n",
       "            </tr>\n",
       "            <tr>\n",
       "                        <th id=\"T_dd44a2ee_0a1b_11ea_a6fb_107b449f15fclevel0_row2\" class=\"row_heading level0 row2\" >днк</th>\n",
       "                        <td id=\"T_dd44a2ee_0a1b_11ea_a6fb_107b449f15fcrow2_col0\" class=\"data row2 col0\" >0.08661</td>\n",
       "            </tr>\n",
       "            <tr>\n",
       "                        <th id=\"T_dd44a2ee_0a1b_11ea_a6fb_107b449f15fclevel0_row3\" class=\"row_heading level0 row3\" >микробиология</th>\n",
       "                        <td id=\"T_dd44a2ee_0a1b_11ea_a6fb_107b449f15fcrow3_col0\" class=\"data row3 col0\" >0.07964</td>\n",
       "            </tr>\n",
       "            <tr>\n",
       "                        <th id=\"T_dd44a2ee_0a1b_11ea_a6fb_107b449f15fclevel0_row4\" class=\"row_heading level0 row4\" >ген</th>\n",
       "                        <td id=\"T_dd44a2ee_0a1b_11ea_a6fb_107b449f15fcrow4_col0\" class=\"data row4 col0\" >0.07718</td>\n",
       "            </tr>\n",
       "            <tr>\n",
       "                        <th id=\"T_dd44a2ee_0a1b_11ea_a6fb_107b449f15fclevel0_row5\" class=\"row_heading level0 row5\" >генетика</th>\n",
       "                        <td id=\"T_dd44a2ee_0a1b_11ea_a6fb_107b449f15fcrow5_col0\" class=\"data row5 col0\" >0.07717</td>\n",
       "            </tr>\n",
       "            <tr>\n",
       "                        <th id=\"T_dd44a2ee_0a1b_11ea_a6fb_107b449f15fclevel0_row6\" class=\"row_heading level0 row6\" >клетка</th>\n",
       "                        <td id=\"T_dd44a2ee_0a1b_11ea_a6fb_107b449f15fcrow6_col0\" class=\"data row6 col0\" >0.05057</td>\n",
       "            </tr>\n",
       "            <tr>\n",
       "                        <th id=\"T_dd44a2ee_0a1b_11ea_a6fb_107b449f15fclevel0_row7\" class=\"row_heading level0 row7\" >бактерии</th>\n",
       "                        <td id=\"T_dd44a2ee_0a1b_11ea_a6fb_107b449f15fcrow7_col0\" class=\"data row7 col0\" >0.0416</td>\n",
       "            </tr>\n",
       "            <tr>\n",
       "                        <th id=\"T_dd44a2ee_0a1b_11ea_a6fb_107b449f15fclevel0_row8\" class=\"row_heading level0 row8\" >микробы</th>\n",
       "                        <td id=\"T_dd44a2ee_0a1b_11ea_a6fb_107b449f15fcrow8_col0\" class=\"data row8 col0\" >0.03638</td>\n",
       "            </tr>\n",
       "            <tr>\n",
       "                        <th id=\"T_dd44a2ee_0a1b_11ea_a6fb_107b449f15fclevel0_row9\" class=\"row_heading level0 row9\" >белки</th>\n",
       "                        <td id=\"T_dd44a2ee_0a1b_11ea_a6fb_107b449f15fcrow9_col0\" class=\"data row9 col0\" >0.03571</td>\n",
       "            </tr>\n",
       "    </tbody></table><style  type=\"text/css\" >\n",
       "</style><table id=\"T_dd44a2ef_0a1b_11ea_a6fb_107b449f15fc\" style='display:inline'><thead>    <tr>        <th class=\"blank level0\" ></th>        <th class=\"col_heading level0 col0\" >topic_21 @word</th>    </tr></thead><tbody>\n",
       "                <tr>\n",
       "                        <th id=\"T_dd44a2ef_0a1b_11ea_a6fb_107b449f15fclevel0_row0\" class=\"row_heading level0 row0\" >клетка</th>\n",
       "                        <td id=\"T_dd44a2ef_0a1b_11ea_a6fb_107b449f15fcrow0_col0\" class=\"data row0 col0\" >0.01461</td>\n",
       "            </tr>\n",
       "            <tr>\n",
       "                        <th id=\"T_dd44a2ef_0a1b_11ea_a6fb_107b449f15fclevel0_row1\" class=\"row_heading level0 row1\" >ген</th>\n",
       "                        <td id=\"T_dd44a2ef_0a1b_11ea_a6fb_107b449f15fcrow1_col0\" class=\"data row1 col0\" >0.01288</td>\n",
       "            </tr>\n",
       "            <tr>\n",
       "                        <th id=\"T_dd44a2ef_0a1b_11ea_a6fb_107b449f15fclevel0_row2\" class=\"row_heading level0 row2\" >днк</th>\n",
       "                        <td id=\"T_dd44a2ef_0a1b_11ea_a6fb_107b449f15fcrow2_col0\" class=\"data row2 col0\" >0.01035</td>\n",
       "            </tr>\n",
       "            <tr>\n",
       "                        <th id=\"T_dd44a2ef_0a1b_11ea_a6fb_107b449f15fclevel0_row3\" class=\"row_heading level0 row3\" >бактерия</th>\n",
       "                        <td id=\"T_dd44a2ef_0a1b_11ea_a6fb_107b449f15fcrow3_col0\" class=\"data row3 col0\" >0.00855</td>\n",
       "            </tr>\n",
       "            <tr>\n",
       "                        <th id=\"T_dd44a2ef_0a1b_11ea_a6fb_107b449f15fclevel0_row4\" class=\"row_heading level0 row4\" >организм</th>\n",
       "                        <td id=\"T_dd44a2ef_0a1b_11ea_a6fb_107b449f15fcrow4_col0\" class=\"data row4 col0\" >0.00718</td>\n",
       "            </tr>\n",
       "            <tr>\n",
       "                        <th id=\"T_dd44a2ef_0a1b_11ea_a6fb_107b449f15fclevel0_row5\" class=\"row_heading level0 row5\" >белка</th>\n",
       "                        <td id=\"T_dd44a2ef_0a1b_11ea_a6fb_107b449f15fcrow5_col0\" class=\"data row5 col0\" >0.00706</td>\n",
       "            </tr>\n",
       "            <tr>\n",
       "                        <th id=\"T_dd44a2ef_0a1b_11ea_a6fb_107b449f15fclevel0_row6\" class=\"row_heading level0 row6\" >геном</th>\n",
       "                        <td id=\"T_dd44a2ef_0a1b_11ea_a6fb_107b449f15fcrow6_col0\" class=\"data row6 col0\" >0.00682</td>\n",
       "            </tr>\n",
       "            <tr>\n",
       "                        <th id=\"T_dd44a2ef_0a1b_11ea_a6fb_107b449f15fclevel0_row7\" class=\"row_heading level0 row7\" >молекула</th>\n",
       "                        <td id=\"T_dd44a2ef_0a1b_11ea_a6fb_107b449f15fcrow7_col0\" class=\"data row7 col0\" >0.00561</td>\n",
       "            </tr>\n",
       "            <tr>\n",
       "                        <th id=\"T_dd44a2ef_0a1b_11ea_a6fb_107b449f15fclevel0_row8\" class=\"row_heading level0 row8\" >белок</th>\n",
       "                        <td id=\"T_dd44a2ef_0a1b_11ea_a6fb_107b449f15fcrow8_col0\" class=\"data row8 col0\" >0.00504</td>\n",
       "            </tr>\n",
       "            <tr>\n",
       "                        <th id=\"T_dd44a2ef_0a1b_11ea_a6fb_107b449f15fclevel0_row9\" class=\"row_heading level0 row9\" >микроорганизм</th>\n",
       "                        <td id=\"T_dd44a2ef_0a1b_11ea_a6fb_107b449f15fcrow9_col0\" class=\"data row9 col0\" >0.00488</td>\n",
       "            </tr>\n",
       "    </tbody></table>"
      ]
     },
     "metadata": {},
     "output_type": "display_data"
    },
    {
     "data": {
      "text/html": [
       "<b> необычные формы днк </b><br /> биофизик максим франк-каменецкий о двойной спирали рнк, неканонических формах днк и условиях их образования"
      ]
     },
     "metadata": {},
     "output_type": "display_data"
    },
    {
     "data": {
      "text/html": [
       "<b> элементарная хроматиновая фибрилла </b><br /> биолог евгений шеваль о фиксации компонентов живой клетки, искусстве замораживания молекул и нуклеосомной фибрилле"
      ]
     },
     "metadata": {},
     "output_type": "display_data"
    },
    {
     "data": {
      "text/html": [
       "<b> эволюция вируса гриппа </b><br /> биолог георгий базыкин о вакцине от гриппа, антигенном дрейфе и синтезированном штамме птичьего гриппа"
      ]
     },
     "metadata": {},
     "output_type": "display_data"
    },
    {
     "data": {
      "text/html": [
       "<b> геномная медицина </b><br /> микробиолог константин северинов о природе генных болезней, технологии редактирования генома crispr/cas9 и репарации днк"
      ]
     },
     "metadata": {},
     "output_type": "display_data"
    },
    {
     "data": {
      "text/html": [
       "<b> сенсорные системы цианобактерий </b><br /> 6 фактов о бактериях, изменивших состав атмосферы земли в прошлом, и их современном изучении"
      ]
     },
     "metadata": {},
     "output_type": "display_data"
    },
    {
     "data": {
      "text/html": [
       "<b> faqчистые культуры </b><br /> 7 фактов об открытии роберта коха, изменившем современную микробиологию"
      ]
     },
     "metadata": {},
     "output_type": "display_data"
    },
    {
     "data": {
      "text/html": [
       "<b> зонд на основе днк измеряет силу между клеткой и поверхностью </b><br /> о флуоресцентных молекулах, взаимодействии клеточной мембраны с внешней средой и измерении силы в несколько пиконьютонов"
      ]
     },
     "metadata": {},
     "output_type": "display_data"
    },
    {
     "data": {
      "text/html": [
       "<b> повреждения днк </b><br /> биофизик максим франк-каменецкий о мутациях генома, королеве виктории и болезни тея — сакса"
      ]
     },
     "metadata": {},
     "output_type": "display_data"
    },
    {
     "data": {
      "text/html": [
       "<b> гриппэволюция вируса и универсальная вакцина </b><br /> биолог георгий базыкин о возникновении эпидемий гриппа, причинах эволюции вируса, поисках универсальной вакцины и опасности штамма свиного гриппа (h1n1)"
      ]
     },
     "metadata": {},
     "output_type": "display_data"
    },
    {
     "data": {
      "text/html": [
       "<b> определение последовательности днк </b><br /> биофизик максим франк-каменецкий о чтении последовательностей днк, гель-электрофорезе и секвенировании генома человека"
      ]
     },
     "metadata": {},
     "output_type": "display_data"
    },
    {
     "data": {
      "text/html": [
       "<style  type=\"text/css\" >\n",
       "</style><table id=\"T_dd44a2f0_0a1b_11ea_a6fb_107b449f15fc\" style='display:inline'><thead>    <tr>        <th class=\"blank level0\" ></th>        <th class=\"col_heading level0 col0\" >topic_22 @2gramm</th>    </tr></thead><tbody>\n",
       "                <tr>\n",
       "                        <th id=\"T_dd44a2f0_0a1b_11ea_a6fb_107b449f15fclevel0_row0\" class=\"row_heading level0 row0\" >когнитивный_психология</th>\n",
       "                        <td id=\"T_dd44a2f0_0a1b_11ea_a6fb_107b449f15fcrow0_col0\" class=\"data row0 col0\" >0.01215</td>\n",
       "            </tr>\n",
       "            <tr>\n",
       "                        <th id=\"T_dd44a2f0_0a1b_11ea_a6fb_107b449f15fclevel0_row1\" class=\"row_heading level0 row1\" >решение_задача</th>\n",
       "                        <td id=\"T_dd44a2f0_0a1b_11ea_a6fb_107b449f15fcrow1_col0\" class=\"data row1 col0\" >0.01189</td>\n",
       "            </tr>\n",
       "            <tr>\n",
       "                        <th id=\"T_dd44a2f0_0a1b_11ea_a6fb_107b449f15fclevel0_row2\" class=\"row_heading level0 row2\" >творческий_мышление</th>\n",
       "                        <td id=\"T_dd44a2f0_0a1b_11ea_a6fb_107b449f15fcrow2_col0\" class=\"data row2 col0\" >0.00788</td>\n",
       "            </tr>\n",
       "            <tr>\n",
       "                        <th id=\"T_dd44a2f0_0a1b_11ea_a6fb_107b449f15fclevel0_row3\" class=\"row_heading level0 row3\" >долговременный_память</th>\n",
       "                        <td id=\"T_dd44a2f0_0a1b_11ea_a6fb_107b449f15fcrow3_col0\" class=\"data row3 col0\" >0.00616</td>\n",
       "            </tr>\n",
       "            <tr>\n",
       "                        <th id=\"T_dd44a2f0_0a1b_11ea_a6fb_107b449f15fclevel0_row4\" class=\"row_heading level0 row4\" >решать_задача</th>\n",
       "                        <td id=\"T_dd44a2f0_0a1b_11ea_a6fb_107b449f15fcrow4_col0\" class=\"data row4 col0\" >0.00592</td>\n",
       "            </tr>\n",
       "            <tr>\n",
       "                        <th id=\"T_dd44a2f0_0a1b_11ea_a6fb_107b449f15fclevel0_row5\" class=\"row_heading level0 row5\" >собственно_говорить</th>\n",
       "                        <td id=\"T_dd44a2f0_0a1b_11ea_a6fb_107b449f15fcrow5_col0\" class=\"data row5 col0\" >0.00574</td>\n",
       "            </tr>\n",
       "            <tr>\n",
       "                        <th id=\"T_dd44a2f0_0a1b_11ea_a6fb_107b449f15fclevel0_row6\" class=\"row_heading level0 row6\" >умственный_способность</th>\n",
       "                        <td id=\"T_dd44a2f0_0a1b_11ea_a6fb_107b449f15fcrow6_col0\" class=\"data row6 col0\" >0.00549</td>\n",
       "            </tr>\n",
       "            <tr>\n",
       "                        <th id=\"T_dd44a2f0_0a1b_11ea_a6fb_107b449f15fclevel0_row7\" class=\"row_heading level0 row7\" >прошлое_опыт</th>\n",
       "                        <td id=\"T_dd44a2f0_0a1b_11ea_a6fb_107b449f15fcrow7_col0\" class=\"data row7 col0\" >0.00524</td>\n",
       "            </tr>\n",
       "            <tr>\n",
       "                        <th id=\"T_dd44a2f0_0a1b_11ea_a6fb_107b449f15fclevel0_row8\" class=\"row_heading level0 row8\" >движение_глаз</th>\n",
       "                        <td id=\"T_dd44a2f0_0a1b_11ea_a6fb_107b449f15fcrow8_col0\" class=\"data row8 col0\" >0.00514</td>\n",
       "            </tr>\n",
       "            <tr>\n",
       "                        <th id=\"T_dd44a2f0_0a1b_11ea_a6fb_107b449f15fclevel0_row9\" class=\"row_heading level0 row9\" >кратковременный_память</th>\n",
       "                        <td id=\"T_dd44a2f0_0a1b_11ea_a6fb_107b449f15fcrow9_col0\" class=\"data row9 col0\" >0.00496</td>\n",
       "            </tr>\n",
       "    </tbody></table><style  type=\"text/css\" >\n",
       "</style><table id=\"T_dd44a2f1_0a1b_11ea_a6fb_107b449f15fc\" style='display:inline'><thead>    <tr>        <th class=\"blank level0\" ></th>        <th class=\"col_heading level0 col0\" >topic_22 @3gramm</th>    </tr></thead><tbody>\n",
       "                <tr>\n",
       "                        <th id=\"T_dd44a2f1_0a1b_11ea_a6fb_107b449f15fclevel0_row0\" class=\"row_heading level0 row0\" >теория_сильный_взаимодействие</th>\n",
       "                        <td id=\"T_dd44a2f1_0a1b_11ea_a6fb_107b449f15fcrow0_col0\" class=\"data row0 col0\" >0.17649</td>\n",
       "            </tr>\n",
       "            <tr>\n",
       "                        <th id=\"T_dd44a2f1_0a1b_11ea_a6fb_107b449f15fclevel0_row1\" class=\"row_heading level0 row1\" >научный_точка_зрение</th>\n",
       "                        <td id=\"T_dd44a2f1_0a1b_11ea_a6fb_107b449f15fcrow1_col0\" class=\"data row1 col0\" >0.15595</td>\n",
       "            </tr>\n",
       "            <tr>\n",
       "                        <th id=\"T_dd44a2f1_0a1b_11ea_a6fb_107b449f15fclevel0_row2\" class=\"row_heading level0 row2\" >получить_широкий_распространение</th>\n",
       "                        <td id=\"T_dd44a2f1_0a1b_11ea_a6fb_107b449f15fcrow2_col0\" class=\"data row2 col0\" >0.07934</td>\n",
       "            </tr>\n",
       "            <tr>\n",
       "                        <th id=\"T_dd44a2f1_0a1b_11ea_a6fb_107b449f15fclevel0_row3\" class=\"row_heading level0 row3\" >культура_христианский_восток</th>\n",
       "                        <td id=\"T_dd44a2f1_0a1b_11ea_a6fb_107b449f15fcrow3_col0\" class=\"data row3 col0\" >0.06423</td>\n",
       "            </tr>\n",
       "            <tr>\n",
       "                        <th id=\"T_dd44a2f1_0a1b_11ea_a6fb_107b449f15fclevel0_row4\" class=\"row_heading level0 row4\" >альтернативный_точка_зрение</th>\n",
       "                        <td id=\"T_dd44a2f1_0a1b_11ea_a6fb_107b449f15fcrow4_col0\" class=\"data row4 col0\" >0.05751</td>\n",
       "            </tr>\n",
       "            <tr>\n",
       "                        <th id=\"T_dd44a2f1_0a1b_11ea_a6fb_107b449f15fclevel0_row5\" class=\"row_heading level0 row5\" >недавно_издать_книга</th>\n",
       "                        <td id=\"T_dd44a2f1_0a1b_11ea_a6fb_107b449f15fcrow5_col0\" class=\"data row5 col0\" >0.05713</td>\n",
       "            </tr>\n",
       "            <tr>\n",
       "                        <th id=\"T_dd44a2f1_0a1b_11ea_a6fb_107b449f15fclevel0_row6\" class=\"row_heading level0 row6\" >современный_когнитивный_психология</th>\n",
       "                        <td id=\"T_dd44a2f1_0a1b_11ea_a6fb_107b449f15fcrow6_col0\" class=\"data row6 col0\" >0.05035</td>\n",
       "            </tr>\n",
       "            <tr>\n",
       "                        <th id=\"T_dd44a2f1_0a1b_11ea_a6fb_107b449f15fclevel0_row7\" class=\"row_heading level0 row7\" >цивилизация_христианский_восток</th>\n",
       "                        <td id=\"T_dd44a2f1_0a1b_11ea_a6fb_107b449f15fcrow7_col0\" class=\"data row7 col0\" >0.05023</td>\n",
       "            </tr>\n",
       "            <tr>\n",
       "                        <th id=\"T_dd44a2f1_0a1b_11ea_a6fb_107b449f15fclevel0_row8\" class=\"row_heading level0 row8\" >принятие_экономический_решение</th>\n",
       "                        <td id=\"T_dd44a2f1_0a1b_11ea_a6fb_107b449f15fcrow8_col0\" class=\"data row8 col0\" >0.04384</td>\n",
       "            </tr>\n",
       "            <tr>\n",
       "                        <th id=\"T_dd44a2f1_0a1b_11ea_a6fb_107b449f15fclevel0_row9\" class=\"row_heading level0 row9\" >играть_решающий_роль</th>\n",
       "                        <td id=\"T_dd44a2f1_0a1b_11ea_a6fb_107b449f15fcrow9_col0\" class=\"data row9 col0\" >0.04354</td>\n",
       "            </tr>\n",
       "    </tbody></table><style  type=\"text/css\" >\n",
       "</style><table id=\"T_dd44a2f2_0a1b_11ea_a6fb_107b449f15fc\" style='display:inline'><thead>    <tr>        <th class=\"blank level0\" ></th>        <th class=\"col_heading level0 col0\" >topic_22 @post_tag</th>    </tr></thead><tbody>\n",
       "                <tr>\n",
       "                        <th id=\"T_dd44a2f2_0a1b_11ea_a6fb_107b449f15fclevel0_row0\" class=\"row_heading level0 row0\" >психология</th>\n",
       "                        <td id=\"T_dd44a2f2_0a1b_11ea_a6fb_107b449f15fcrow0_col0\" class=\"data row0 col0\" >0.35835</td>\n",
       "            </tr>\n",
       "            <tr>\n",
       "                        <th id=\"T_dd44a2f2_0a1b_11ea_a6fb_107b449f15fclevel0_row1\" class=\"row_heading level0 row1\" >когнитивная_психология</th>\n",
       "                        <td id=\"T_dd44a2f2_0a1b_11ea_a6fb_107b449f15fcrow1_col0\" class=\"data row1 col0\" >0.1027</td>\n",
       "            </tr>\n",
       "            <tr>\n",
       "                        <th id=\"T_dd44a2f2_0a1b_11ea_a6fb_107b449f15fclevel0_row2\" class=\"row_heading level0 row2\" >мышление</th>\n",
       "                        <td id=\"T_dd44a2f2_0a1b_11ea_a6fb_107b449f15fcrow2_col0\" class=\"data row2 col0\" >0.10025</td>\n",
       "            </tr>\n",
       "            <tr>\n",
       "                        <th id=\"T_dd44a2f2_0a1b_11ea_a6fb_107b449f15fclevel0_row3\" class=\"row_heading level0 row3\" >память</th>\n",
       "                        <td id=\"T_dd44a2f2_0a1b_11ea_a6fb_107b449f15fcrow3_col0\" class=\"data row3 col0\" >0.0503</td>\n",
       "            </tr>\n",
       "            <tr>\n",
       "                        <th id=\"T_dd44a2f2_0a1b_11ea_a6fb_107b449f15fclevel0_row4\" class=\"row_heading level0 row4\" >внимание</th>\n",
       "                        <td id=\"T_dd44a2f2_0a1b_11ea_a6fb_107b449f15fcrow4_col0\" class=\"data row4 col0\" >0.03422</td>\n",
       "            </tr>\n",
       "            <tr>\n",
       "                        <th id=\"T_dd44a2f2_0a1b_11ea_a6fb_107b449f15fclevel0_row5\" class=\"row_heading level0 row5\" >психология_мышления</th>\n",
       "                        <td id=\"T_dd44a2f2_0a1b_11ea_a6fb_107b449f15fcrow5_col0\" class=\"data row5 col0\" >0.02509</td>\n",
       "            </tr>\n",
       "            <tr>\n",
       "                        <th id=\"T_dd44a2f2_0a1b_11ea_a6fb_107b449f15fclevel0_row6\" class=\"row_heading level0 row6\" >психиатрия</th>\n",
       "                        <td id=\"T_dd44a2f2_0a1b_11ea_a6fb_107b449f15fcrow6_col0\" class=\"data row6 col0\" >0.0241</td>\n",
       "            </tr>\n",
       "            <tr>\n",
       "                        <th id=\"T_dd44a2f2_0a1b_11ea_a6fb_107b449f15fclevel0_row7\" class=\"row_heading level0 row7\" >психотерапия</th>\n",
       "                        <td id=\"T_dd44a2f2_0a1b_11ea_a6fb_107b449f15fcrow7_col0\" class=\"data row7 col0\" >0.02253</td>\n",
       "            </tr>\n",
       "            <tr>\n",
       "                        <th id=\"T_dd44a2f2_0a1b_11ea_a6fb_107b449f15fclevel0_row8\" class=\"row_heading level0 row8\" >психика</th>\n",
       "                        <td id=\"T_dd44a2f2_0a1b_11ea_a6fb_107b449f15fcrow8_col0\" class=\"data row8 col0\" >0.0217</td>\n",
       "            </tr>\n",
       "            <tr>\n",
       "                        <th id=\"T_dd44a2f2_0a1b_11ea_a6fb_107b449f15fclevel0_row9\" class=\"row_heading level0 row9\" >личность</th>\n",
       "                        <td id=\"T_dd44a2f2_0a1b_11ea_a6fb_107b449f15fcrow9_col0\" class=\"data row9 col0\" >0.02151</td>\n",
       "            </tr>\n",
       "    </tbody></table><style  type=\"text/css\" >\n",
       "</style><table id=\"T_dd44a2f3_0a1b_11ea_a6fb_107b449f15fc\" style='display:inline'><thead>    <tr>        <th class=\"blank level0\" ></th>        <th class=\"col_heading level0 col0\" >topic_22 @word</th>    </tr></thead><tbody>\n",
       "                <tr>\n",
       "                        <th id=\"T_dd44a2f3_0a1b_11ea_a6fb_107b449f15fclevel0_row0\" class=\"row_heading level0 row0\" >задача</th>\n",
       "                        <td id=\"T_dd44a2f3_0a1b_11ea_a6fb_107b449f15fcrow0_col0\" class=\"data row0 col0\" >0.00601</td>\n",
       "            </tr>\n",
       "            <tr>\n",
       "                        <th id=\"T_dd44a2f3_0a1b_11ea_a6fb_107b449f15fclevel0_row1\" class=\"row_heading level0 row1\" >ребёнок</th>\n",
       "                        <td id=\"T_dd44a2f3_0a1b_11ea_a6fb_107b449f15fcrow1_col0\" class=\"data row1 col0\" >0.00523</td>\n",
       "            </tr>\n",
       "            <tr>\n",
       "                        <th id=\"T_dd44a2f3_0a1b_11ea_a6fb_107b449f15fclevel0_row2\" class=\"row_heading level0 row2\" >психология</th>\n",
       "                        <td id=\"T_dd44a2f3_0a1b_11ea_a6fb_107b449f15fcrow2_col0\" class=\"data row2 col0\" >0.00521</td>\n",
       "            </tr>\n",
       "            <tr>\n",
       "                        <th id=\"T_dd44a2f3_0a1b_11ea_a6fb_107b449f15fclevel0_row3\" class=\"row_heading level0 row3\" >внимание</th>\n",
       "                        <td id=\"T_dd44a2f3_0a1b_11ea_a6fb_107b449f15fcrow3_col0\" class=\"data row3 col0\" >0.00493</td>\n",
       "            </tr>\n",
       "            <tr>\n",
       "                        <th id=\"T_dd44a2f3_0a1b_11ea_a6fb_107b449f15fclevel0_row4\" class=\"row_heading level0 row4\" >психолог</th>\n",
       "                        <td id=\"T_dd44a2f3_0a1b_11ea_a6fb_107b449f15fcrow4_col0\" class=\"data row4 col0\" >0.00484</td>\n",
       "            </tr>\n",
       "            <tr>\n",
       "                        <th id=\"T_dd44a2f3_0a1b_11ea_a6fb_107b449f15fclevel0_row5\" class=\"row_heading level0 row5\" >образ</th>\n",
       "                        <td id=\"T_dd44a2f3_0a1b_11ea_a6fb_107b449f15fcrow5_col0\" class=\"data row5 col0\" >0.00465</td>\n",
       "            </tr>\n",
       "            <tr>\n",
       "                        <th id=\"T_dd44a2f3_0a1b_11ea_a6fb_107b449f15fclevel0_row6\" class=\"row_heading level0 row6\" >испытуемый</th>\n",
       "                        <td id=\"T_dd44a2f3_0a1b_11ea_a6fb_107b449f15fcrow6_col0\" class=\"data row6 col0\" >0.00456</td>\n",
       "            </tr>\n",
       "            <tr>\n",
       "                        <th id=\"T_dd44a2f3_0a1b_11ea_a6fb_107b449f15fclevel0_row7\" class=\"row_heading level0 row7\" >мышление</th>\n",
       "                        <td id=\"T_dd44a2f3_0a1b_11ea_a6fb_107b449f15fcrow7_col0\" class=\"data row7 col0\" >0.00446</td>\n",
       "            </tr>\n",
       "            <tr>\n",
       "                        <th id=\"T_dd44a2f3_0a1b_11ea_a6fb_107b449f15fclevel0_row8\" class=\"row_heading level0 row8\" >проблема</th>\n",
       "                        <td id=\"T_dd44a2f3_0a1b_11ea_a6fb_107b449f15fcrow8_col0\" class=\"data row8 col0\" >0.00444</td>\n",
       "            </tr>\n",
       "            <tr>\n",
       "                        <th id=\"T_dd44a2f3_0a1b_11ea_a6fb_107b449f15fclevel0_row9\" class=\"row_heading level0 row9\" >объект</th>\n",
       "                        <td id=\"T_dd44a2f3_0a1b_11ea_a6fb_107b449f15fcrow9_col0\" class=\"data row9 col0\" >0.00433</td>\n",
       "            </tr>\n",
       "    </tbody></table>"
      ]
     },
     "metadata": {},
     "output_type": "display_data"
    },
    {
     "data": {
      "text/html": [
       "<b> «мы не замечаем, сколь многого мы не замечаем» </b><br /> интервью с психологом марией фаликман о когнитивных науках, великой иллюзии сознания и  кратковременной памяти"
      ]
     },
     "metadata": {},
     "output_type": "display_data"
    },
    {
     "data": {
      "text/html": [
       "<b> процессы и виды памяти </b><br /> психолог мария фаликман о месте памяти в системе психических процессов, ее возможных целях и подсистемах"
      ]
     },
     "metadata": {},
     "output_type": "display_data"
    },
    {
     "data": {
      "text/html": [
       "<b> виды мышления </b><br /> психолог мария фаликман об особом подходе к исследованию мышления в психологии, различиях между теоретическим и практическим мышлением и имеющихся классификациях"
      ]
     },
     "metadata": {},
     "output_type": "display_data"
    },
    {
     "data": {
      "text/html": [
       "<b> faqмышление в психологическом исследовании </b><br /> 7 фактов о методах исследования способов, которыми мы решаем задачи и проблемы"
      ]
     },
     "metadata": {},
     "output_type": "display_data"
    },
    {
     "data": {
      "text/html": [
       "<b> методы изучения категорий у детей </b><br /> психолог алексей котов о способности к категоризации, ее изучении и зрительных предпочтениях детей"
      ]
     },
     "metadata": {},
     "output_type": "display_data"
    },
    {
     "data": {
      "text/html": [
       "<b> явление и понятие инсайта </b><br /> психолог владимир спиридонов об этапах решения задачи, ошибках переживания и психологических экспериментах"
      ]
     },
     "metadata": {},
     "output_type": "display_data"
    },
    {
     "data": {
      "text/html": [
       "<b> психология решения личностных проблем </b><br /> психолог наталья кисельникова о понятии «проблема», способностях к решению и профессиональной помощи"
      ]
     },
     "metadata": {},
     "output_type": "display_data"
    },
    {
     "data": {
      "text/html": [
       "<b> зрительная память </b><br /> психолог игорь уточкин об экспериментах с памятью, зрительных образах и ложных воспоминаниях"
      ]
     },
     "metadata": {},
     "output_type": "display_data"
    },
    {
     "data": {
      "text/html": [
       "<b> возможности и ограничения зрительной памяти </b><br /> психолог игорь уточкин о долговременной и краткосрочной памяти, экспериментах с запоминанием вещей и событий и объеме хранения"
      ]
     },
     "metadata": {},
     "output_type": "display_data"
    },
    {
     "data": {
      "text/html": [
       "<b> психология создания трудностей и проблем </b><br /> психолог александр поддьяков о различных типах трудностей, их нравственной оценке и разработке игр"
      ]
     },
     "metadata": {},
     "output_type": "display_data"
    },
    {
     "data": {
      "text/html": [
       "<style  type=\"text/css\" >\n",
       "</style><table id=\"T_dd44a2f4_0a1b_11ea_a6fb_107b449f15fc\" style='display:inline'><thead>    <tr>        <th class=\"blank level0\" ></th>        <th class=\"col_heading level0 col0\" >topic_23 @2gramm</th>    </tr></thead><tbody>\n",
       "                <tr>\n",
       "                        <th id=\"T_dd44a2f4_0a1b_11ea_a6fb_107b449f15fclevel0_row0\" class=\"row_heading level0 row0\" >социология_право</th>\n",
       "                        <td id=\"T_dd44a2f4_0a1b_11ea_a6fb_107b449f15fcrow0_col0\" class=\"data row0 col0\" >0.01368</td>\n",
       "            </tr>\n",
       "            <tr>\n",
       "                        <th id=\"T_dd44a2f4_0a1b_11ea_a6fb_107b449f15fclevel0_row1\" class=\"row_heading level0 row1\" >национальный_государство</th>\n",
       "                        <td id=\"T_dd44a2f4_0a1b_11ea_a6fb_107b449f15fcrow1_col0\" class=\"data row1 col0\" >0.00937</td>\n",
       "            </tr>\n",
       "            <tr>\n",
       "                        <th id=\"T_dd44a2f4_0a1b_11ea_a6fb_107b449f15fclevel0_row2\" class=\"row_heading level0 row2\" >xvii_век</th>\n",
       "                        <td id=\"T_dd44a2f4_0a1b_11ea_a6fb_107b449f15fcrow2_col0\" class=\"data row2 col0\" >0.00798</td>\n",
       "            </tr>\n",
       "            <tr>\n",
       "                        <th id=\"T_dd44a2f4_0a1b_11ea_a6fb_107b449f15fclevel0_row3\" class=\"row_heading level0 row3\" >речь_посполить</th>\n",
       "                        <td id=\"T_dd44a2f4_0a1b_11ea_a6fb_107b449f15fcrow3_col0\" class=\"data row3 col0\" >0.00742</td>\n",
       "            </tr>\n",
       "            <tr>\n",
       "                        <th id=\"T_dd44a2f4_0a1b_11ea_a6fb_107b449f15fclevel0_row4\" class=\"row_heading level0 row4\" >соединить_штат</th>\n",
       "                        <td id=\"T_dd44a2f4_0a1b_11ea_a6fb_107b449f15fcrow4_col0\" class=\"data row4 col0\" >0.00698</td>\n",
       "            </tr>\n",
       "            <tr>\n",
       "                        <th id=\"T_dd44a2f4_0a1b_11ea_a6fb_107b449f15fclevel0_row5\" class=\"row_heading level0 row5\" >xviii_век</th>\n",
       "                        <td id=\"T_dd44a2f4_0a1b_11ea_a6fb_107b449f15fcrow5_col0\" class=\"data row5 col0\" >0.00686</td>\n",
       "            </tr>\n",
       "            <tr>\n",
       "                        <th id=\"T_dd44a2f4_0a1b_11ea_a6fb_107b449f15fclevel0_row6\" class=\"row_heading level0 row6\" >тёмный_материя</th>\n",
       "                        <td id=\"T_dd44a2f4_0a1b_11ea_a6fb_107b449f15fcrow6_col0\" class=\"data row6 col0\" >0.0063</td>\n",
       "            </tr>\n",
       "            <tr>\n",
       "                        <th id=\"T_dd44a2f4_0a1b_11ea_a6fb_107b449f15fclevel0_row7\" class=\"row_heading level0 row7\" >политический_партия</th>\n",
       "                        <td id=\"T_dd44a2f4_0a1b_11ea_a6fb_107b449f15fcrow7_col0\" class=\"data row7 col0\" >0.00608</td>\n",
       "            </tr>\n",
       "            <tr>\n",
       "                        <th id=\"T_dd44a2f4_0a1b_11ea_a6fb_107b449f15fclevel0_row8\" class=\"row_heading level0 row8\" >российский_империя</th>\n",
       "                        <td id=\"T_dd44a2f4_0a1b_11ea_a6fb_107b449f15fcrow8_col0\" class=\"data row8 col0\" >0.00575</td>\n",
       "            </tr>\n",
       "            <tr>\n",
       "                        <th id=\"T_dd44a2f4_0a1b_11ea_a6fb_107b449f15fclevel0_row9\" class=\"row_heading level0 row9\" >мировой_война</th>\n",
       "                        <td id=\"T_dd44a2f4_0a1b_11ea_a6fb_107b449f15fcrow9_col0\" class=\"data row9 col0\" >0.00561</td>\n",
       "            </tr>\n",
       "    </tbody></table><style  type=\"text/css\" >\n",
       "</style><table id=\"T_dd44a2f5_0a1b_11ea_a6fb_107b449f15fc\" style='display:inline'><thead>    <tr>        <th class=\"blank level0\" ></th>        <th class=\"col_heading level0 col0\" >topic_23 @3gramm</th>    </tr></thead><tbody>\n",
       "                <tr>\n",
       "                        <th id=\"T_dd44a2f5_0a1b_11ea_a6fb_107b449f15fclevel0_row0\" class=\"row_heading level0 row0\" >частица_тёмный_материя</th>\n",
       "                        <td id=\"T_dd44a2f5_0a1b_11ea_a6fb_107b449f15fcrow0_col0\" class=\"data row0 col0\" >0.23161</td>\n",
       "            </tr>\n",
       "            <tr>\n",
       "                        <th id=\"T_dd44a2f5_0a1b_11ea_a6fb_107b449f15fclevel0_row1\" class=\"row_heading level0 row1\" >начало_xvii_век</th>\n",
       "                        <td id=\"T_dd44a2f5_0a1b_11ea_a6fb_107b449f15fcrow1_col0\" class=\"data row1 col0\" >0.16244</td>\n",
       "            </tr>\n",
       "            <tr>\n",
       "                        <th id=\"T_dd44a2f5_0a1b_11ea_a6fb_107b449f15fclevel0_row2\" class=\"row_heading level0 row2\" >распад_советский_союз</th>\n",
       "                        <td id=\"T_dd44a2f5_0a1b_11ea_a6fb_107b449f15fcrow2_col0\" class=\"data row2 col0\" >0.09979</td>\n",
       "            </tr>\n",
       "            <tr>\n",
       "                        <th id=\"T_dd44a2f5_0a1b_11ea_a6fb_107b449f15fclevel0_row3\" class=\"row_heading level0 row3\" >конец_xvii_век</th>\n",
       "                        <td id=\"T_dd44a2f5_0a1b_11ea_a6fb_107b449f15fcrow3_col0\" class=\"data row3 col0\" >0.09928</td>\n",
       "            </tr>\n",
       "            <tr>\n",
       "                        <th id=\"T_dd44a2f5_0a1b_11ea_a6fb_107b449f15fclevel0_row4\" class=\"row_heading level0 row4\" >начало_xviii_век</th>\n",
       "                        <td id=\"T_dd44a2f5_0a1b_11ea_a6fb_107b449f15fcrow4_col0\" class=\"data row4 col0\" >0.07351</td>\n",
       "            </tr>\n",
       "            <tr>\n",
       "                        <th id=\"T_dd44a2f5_0a1b_11ea_a6fb_107b449f15fclevel0_row5\" class=\"row_heading level0 row5\" >состав_российский_империя</th>\n",
       "                        <td id=\"T_dd44a2f5_0a1b_11ea_a6fb_107b449f15fcrow5_col0\" class=\"data row5 col0\" >0.04645</td>\n",
       "            </tr>\n",
       "            <tr>\n",
       "                        <th id=\"T_dd44a2f5_0a1b_11ea_a6fb_107b449f15fclevel0_row6\" class=\"row_heading level0 row6\" >плотность_тёмный_материя</th>\n",
       "                        <td id=\"T_dd44a2f5_0a1b_11ea_a6fb_107b449f15fcrow6_col0\" class=\"data row6 col0\" >0.04621</td>\n",
       "            </tr>\n",
       "            <tr>\n",
       "                        <th id=\"T_dd44a2f5_0a1b_11ea_a6fb_107b449f15fclevel0_row7\" class=\"row_heading level0 row7\" >середина_xvi_век</th>\n",
       "                        <td id=\"T_dd44a2f5_0a1b_11ea_a6fb_107b449f15fcrow7_col0\" class=\"data row7 col0\" >0.04074</td>\n",
       "            </tr>\n",
       "            <tr>\n",
       "                        <th id=\"T_dd44a2f5_0a1b_11ea_a6fb_107b449f15fclevel0_row8\" class=\"row_heading level0 row8\" >александр_сергей_пушкин</th>\n",
       "                        <td id=\"T_dd44a2f5_0a1b_11ea_a6fb_107b449f15fcrow8_col0\" class=\"data row8 col0\" >0.03723</td>\n",
       "            </tr>\n",
       "            <tr>\n",
       "                        <th id=\"T_dd44a2f5_0a1b_11ea_a6fb_107b449f15fclevel0_row9\" class=\"row_heading level0 row9\" >половина_xvii_век</th>\n",
       "                        <td id=\"T_dd44a2f5_0a1b_11ea_a6fb_107b449f15fcrow9_col0\" class=\"data row9 col0\" >0.03478</td>\n",
       "            </tr>\n",
       "    </tbody></table><style  type=\"text/css\" >\n",
       "</style><table id=\"T_dd44a2f6_0a1b_11ea_a6fb_107b449f15fc\" style='display:inline'><thead>    <tr>        <th class=\"blank level0\" ></th>        <th class=\"col_heading level0 col0\" >topic_23 @post_tag</th>    </tr></thead><tbody>\n",
       "                <tr>\n",
       "                        <th id=\"T_dd44a2f6_0a1b_11ea_a6fb_107b449f15fclevel0_row0\" class=\"row_heading level0 row0\" >государство</th>\n",
       "                        <td id=\"T_dd44a2f6_0a1b_11ea_a6fb_107b449f15fcrow0_col0\" class=\"data row0 col0\" >0.14067</td>\n",
       "            </tr>\n",
       "            <tr>\n",
       "                        <th id=\"T_dd44a2f6_0a1b_11ea_a6fb_107b449f15fclevel0_row1\" class=\"row_heading level0 row1\" >политология</th>\n",
       "                        <td id=\"T_dd44a2f6_0a1b_11ea_a6fb_107b449f15fcrow1_col0\" class=\"data row1 col0\" >0.11754</td>\n",
       "            </tr>\n",
       "            <tr>\n",
       "                        <th id=\"T_dd44a2f6_0a1b_11ea_a6fb_107b449f15fclevel0_row2\" class=\"row_heading level0 row2\" >история</th>\n",
       "                        <td id=\"T_dd44a2f6_0a1b_11ea_a6fb_107b449f15fcrow2_col0\" class=\"data row2 col0\" >0.0641</td>\n",
       "            </tr>\n",
       "            <tr>\n",
       "                        <th id=\"T_dd44a2f6_0a1b_11ea_a6fb_107b449f15fclevel0_row3\" class=\"row_heading level0 row3\" >идентичность</th>\n",
       "                        <td id=\"T_dd44a2f6_0a1b_11ea_a6fb_107b449f15fcrow3_col0\" class=\"data row3 col0\" >0.06161</td>\n",
       "            </tr>\n",
       "            <tr>\n",
       "                        <th id=\"T_dd44a2f6_0a1b_11ea_a6fb_107b449f15fclevel0_row4\" class=\"row_heading level0 row4\" >нация</th>\n",
       "                        <td id=\"T_dd44a2f6_0a1b_11ea_a6fb_107b449f15fcrow4_col0\" class=\"data row4 col0\" >0.05488</td>\n",
       "            </tr>\n",
       "            <tr>\n",
       "                        <th id=\"T_dd44a2f6_0a1b_11ea_a6fb_107b449f15fclevel0_row5\" class=\"row_heading level0 row5\" >социология</th>\n",
       "                        <td id=\"T_dd44a2f6_0a1b_11ea_a6fb_107b449f15fcrow5_col0\" class=\"data row5 col0\" >0.05076</td>\n",
       "            </tr>\n",
       "            <tr>\n",
       "                        <th id=\"T_dd44a2f6_0a1b_11ea_a6fb_107b449f15fclevel0_row6\" class=\"row_heading level0 row6\" >история_россии</th>\n",
       "                        <td id=\"T_dd44a2f6_0a1b_11ea_a6fb_107b449f15fcrow6_col0\" class=\"data row6 col0\" >0.0453</td>\n",
       "            </tr>\n",
       "            <tr>\n",
       "                        <th id=\"T_dd44a2f6_0a1b_11ea_a6fb_107b449f15fclevel0_row7\" class=\"row_heading level0 row7\" >этнография</th>\n",
       "                        <td id=\"T_dd44a2f6_0a1b_11ea_a6fb_107b449f15fcrow7_col0\" class=\"data row7 col0\" >0.04108</td>\n",
       "            </tr>\n",
       "            <tr>\n",
       "                        <th id=\"T_dd44a2f6_0a1b_11ea_a6fb_107b449f15fclevel0_row8\" class=\"row_heading level0 row8\" >этнос</th>\n",
       "                        <td id=\"T_dd44a2f6_0a1b_11ea_a6fb_107b449f15fcrow8_col0\" class=\"data row8 col0\" >0.03655</td>\n",
       "            </tr>\n",
       "            <tr>\n",
       "                        <th id=\"T_dd44a2f6_0a1b_11ea_a6fb_107b449f15fclevel0_row9\" class=\"row_heading level0 row9\" >миграция</th>\n",
       "                        <td id=\"T_dd44a2f6_0a1b_11ea_a6fb_107b449f15fcrow9_col0\" class=\"data row9 col0\" >0.03649</td>\n",
       "            </tr>\n",
       "    </tbody></table><style  type=\"text/css\" >\n",
       "</style><table id=\"T_dd44a2f7_0a1b_11ea_a6fb_107b449f15fc\" style='display:inline'><thead>    <tr>        <th class=\"blank level0\" ></th>        <th class=\"col_heading level0 col0\" >topic_23 @word</th>    </tr></thead><tbody>\n",
       "                <tr>\n",
       "                        <th id=\"T_dd44a2f7_0a1b_11ea_a6fb_107b449f15fclevel0_row0\" class=\"row_heading level0 row0\" >государство</th>\n",
       "                        <td id=\"T_dd44a2f7_0a1b_11ea_a6fb_107b449f15fcrow0_col0\" class=\"data row0 col0\" >0.00808</td>\n",
       "            </tr>\n",
       "            <tr>\n",
       "                        <th id=\"T_dd44a2f7_0a1b_11ea_a6fb_107b449f15fclevel0_row1\" class=\"row_heading level0 row1\" >россия</th>\n",
       "                        <td id=\"T_dd44a2f7_0a1b_11ea_a6fb_107b449f15fcrow1_col0\" class=\"data row1 col0\" >0.00736</td>\n",
       "            </tr>\n",
       "            <tr>\n",
       "                        <th id=\"T_dd44a2f7_0a1b_11ea_a6fb_107b449f15fclevel0_row2\" class=\"row_heading level0 row2\" >право</th>\n",
       "                        <td id=\"T_dd44a2f7_0a1b_11ea_a6fb_107b449f15fcrow2_col0\" class=\"data row2 col0\" >0.00696</td>\n",
       "            </tr>\n",
       "            <tr>\n",
       "                        <th id=\"T_dd44a2f7_0a1b_11ea_a6fb_107b449f15fclevel0_row3\" class=\"row_heading level0 row3\" >страна</th>\n",
       "                        <td id=\"T_dd44a2f7_0a1b_11ea_a6fb_107b449f15fcrow3_col0\" class=\"data row3 col0\" >0.00433</td>\n",
       "            </tr>\n",
       "            <tr>\n",
       "                        <th id=\"T_dd44a2f7_0a1b_11ea_a6fb_107b449f15fclevel0_row4\" class=\"row_heading level0 row4\" >нация</th>\n",
       "                        <td id=\"T_dd44a2f7_0a1b_11ea_a6fb_107b449f15fcrow4_col0\" class=\"data row4 col0\" >0.00424</td>\n",
       "            </tr>\n",
       "            <tr>\n",
       "                        <th id=\"T_dd44a2f7_0a1b_11ea_a6fb_107b449f15fclevel0_row5\" class=\"row_heading level0 row5\" >группа</th>\n",
       "                        <td id=\"T_dd44a2f7_0a1b_11ea_a6fb_107b449f15fcrow5_col0\" class=\"data row5 col0\" >0.00388</td>\n",
       "            </tr>\n",
       "            <tr>\n",
       "                        <th id=\"T_dd44a2f7_0a1b_11ea_a6fb_107b449f15fclevel0_row6\" class=\"row_heading level0 row6\" >понятие</th>\n",
       "                        <td id=\"T_dd44a2f7_0a1b_11ea_a6fb_107b449f15fcrow6_col0\" class=\"data row6 col0\" >0.00382</td>\n",
       "            </tr>\n",
       "            <tr>\n",
       "                        <th id=\"T_dd44a2f7_0a1b_11ea_a6fb_107b449f15fclevel0_row7\" class=\"row_heading level0 row7\" >общество</th>\n",
       "                        <td id=\"T_dd44a2f7_0a1b_11ea_a6fb_107b449f15fcrow7_col0\" class=\"data row7 col0\" >0.00377</td>\n",
       "            </tr>\n",
       "            <tr>\n",
       "                        <th id=\"T_dd44a2f7_0a1b_11ea_a6fb_107b449f15fclevel0_row8\" class=\"row_heading level0 row8\" >народ</th>\n",
       "                        <td id=\"T_dd44a2f7_0a1b_11ea_a6fb_107b449f15fcrow8_col0\" class=\"data row8 col0\" >0.00375</td>\n",
       "            </tr>\n",
       "            <tr>\n",
       "                        <th id=\"T_dd44a2f7_0a1b_11ea_a6fb_107b449f15fclevel0_row9\" class=\"row_heading level0 row9\" >сторона</th>\n",
       "                        <td id=\"T_dd44a2f7_0a1b_11ea_a6fb_107b449f15fcrow9_col0\" class=\"data row9 col0\" >0.00369</td>\n",
       "            </tr>\n",
       "    </tbody></table>"
      ]
     },
     "metadata": {},
     "output_type": "display_data"
    },
    {
     "data": {
      "text/html": [
       "<b> стрелецкие бунты </b><br /> историк александр лаврентьев о бунте 1682 года, царевне софье и утре стрелецкой казни"
      ]
     },
     "metadata": {},
     "output_type": "display_data"
    },
    {
     "data": {
      "text/html": [
       "<b> главы # гражданство и национальность </b><br /> отрывок из книги  «культурные различия и политические границы в эпоху глобальных миграций» политолога владимира малахова"
      ]
     },
     "metadata": {},
     "output_type": "display_data"
    },
    {
     "data": {
      "text/html": [
       "<b> россия и казацкая украина </b><br /> 7 фактов о казацких восстаниях, взаимоотношениях казачества с польшей и вхождении украины в состав россии"
      ]
     },
     "metadata": {},
     "output_type": "display_data"
    },
    {
     "data": {
      "text/html": [
       "<b> главыновые войны и политика </b><br /> отрывок из книги «новые и старые войны» политолога мэри калдор о новом типе организованного насилия"
      ]
     },
     "metadata": {},
     "output_type": "display_data"
    },
    {
     "data": {
      "text/html": [
       "<b> faqэтнические феномены </b><br /> 5 фактов о примордиалистском и конструктивистском взгляде на конструирование этнической идентичности"
      ]
     },
     "metadata": {},
     "output_type": "display_data"
    },
    {
     "data": {
      "text/html": [
       "<b> «итальянские корни» советской теории этноса </b><br /> как проходило становление российской этнологии и развитие дискуссий о народе, этносе и этничности в советский период"
      ]
     },
     "metadata": {},
     "output_type": "display_data"
    },
    {
     "data": {
      "text/html": [
       "<b> россия и казацкая украина </b><br /> историк кирилл кочегаров об истории запорожской сечи, восстании богдана хмельницкого и угасании казацкой автономии"
      ]
     },
     "metadata": {},
     "output_type": "display_data"
    },
    {
     "data": {
      "text/html": [
       "<b> главы # дело «сибирских сепаратистов» </b><br /> отрывок из книги «сибирь в составе российской империи»"
      ]
     },
     "metadata": {},
     "output_type": "display_data"
    },
    {
     "data": {
      "text/html": [
       "<b> политика идентичности в постсоветской россии </b><br /> политолог ольга малинова об идее нации, идентичности сообществ, стоящих за государством, и критериях принадлежности к этим сообществам"
      ]
     },
     "metadata": {},
     "output_type": "display_data"
    },
    {
     "data": {
      "text/html": [
       "<b> национализм как понятие </b><br /> социолог михаил соколов о мушкетерах, армии фридриха ii, национальном фольклоре и связи национализма с республиканизмом"
      ]
     },
     "metadata": {},
     "output_type": "display_data"
    },
    {
     "data": {
      "text/html": [
       "<style  type=\"text/css\" >\n",
       "</style><table id=\"T_dd44a2f8_0a1b_11ea_a6fb_107b449f15fc\" style='display:inline'><thead>    <tr>        <th class=\"blank level0\" ></th>        <th class=\"col_heading level0 col0\" >topic_24 @2gramm</th>    </tr></thead><tbody>\n",
       "                <tr>\n",
       "                        <th id=\"T_dd44a2f8_0a1b_11ea_a6fb_107b449f15fclevel0_row0\" class=\"row_heading level0 row0\" >система_образование</th>\n",
       "                        <td id=\"T_dd44a2f8_0a1b_11ea_a6fb_107b449f15fcrow0_col0\" class=\"data row0 col0\" >0.01013</td>\n",
       "            </tr>\n",
       "            <tr>\n",
       "                        <th id=\"T_dd44a2f8_0a1b_11ea_a6fb_107b449f15fclevel0_row1\" class=\"row_heading level0 row1\" >гуманитарный_наука</th>\n",
       "                        <td id=\"T_dd44a2f8_0a1b_11ea_a6fb_107b449f15fcrow1_col0\" class=\"data row1 col0\" >0.00825</td>\n",
       "            </tr>\n",
       "            <tr>\n",
       "                        <th id=\"T_dd44a2f8_0a1b_11ea_a6fb_107b449f15fclevel0_row2\" class=\"row_heading level0 row2\" >научный_сообщество</th>\n",
       "                        <td id=\"T_dd44a2f8_0a1b_11ea_a6fb_107b449f15fcrow2_col0\" class=\"data row2 col0\" >0.00687</td>\n",
       "            </tr>\n",
       "            <tr>\n",
       "                        <th id=\"T_dd44a2f8_0a1b_11ea_a6fb_107b449f15fclevel0_row3\" class=\"row_heading level0 row3\" >новый_программа</th>\n",
       "                        <td id=\"T_dd44a2f8_0a1b_11ea_a6fb_107b449f15fcrow3_col0\" class=\"data row3 col0\" >0.00578</td>\n",
       "            </tr>\n",
       "            <tr>\n",
       "                        <th id=\"T_dd44a2f8_0a1b_11ea_a6fb_107b449f15fclevel0_row4\" class=\"row_heading level0 row4\" >история_наука</th>\n",
       "                        <td id=\"T_dd44a2f8_0a1b_11ea_a6fb_107b449f15fcrow4_col0\" class=\"data row4 col0\" >0.00575</td>\n",
       "            </tr>\n",
       "            <tr>\n",
       "                        <th id=\"T_dd44a2f8_0a1b_11ea_a6fb_107b449f15fclevel0_row5\" class=\"row_heading level0 row5\" >научный_работа</th>\n",
       "                        <td id=\"T_dd44a2f8_0a1b_11ea_a6fb_107b449f15fcrow5_col0\" class=\"data row5 col0\" >0.0054</td>\n",
       "            </tr>\n",
       "            <tr>\n",
       "                        <th id=\"T_dd44a2f8_0a1b_11ea_a6fb_107b449f15fclevel0_row6\" class=\"row_heading level0 row6\" >школьный_образование</th>\n",
       "                        <td id=\"T_dd44a2f8_0a1b_11ea_a6fb_107b449f15fcrow6_col0\" class=\"data row6 col0\" >0.00485</td>\n",
       "            </tr>\n",
       "            <tr>\n",
       "                        <th id=\"T_dd44a2f8_0a1b_11ea_a6fb_107b449f15fclevel0_row7\" class=\"row_heading level0 row7\" >заниматься_наука</th>\n",
       "                        <td id=\"T_dd44a2f8_0a1b_11ea_a6fb_107b449f15fcrow7_col0\" class=\"data row7 col0\" >0.00455</td>\n",
       "            </tr>\n",
       "            <tr>\n",
       "                        <th id=\"T_dd44a2f8_0a1b_11ea_a6fb_107b449f15fclevel0_row8\" class=\"row_heading level0 row8\" >прямая_речь</th>\n",
       "                        <td id=\"T_dd44a2f8_0a1b_11ea_a6fb_107b449f15fcrow8_col0\" class=\"data row8 col0\" >0.00442</td>\n",
       "            </tr>\n",
       "            <tr>\n",
       "                        <th id=\"T_dd44a2f8_0a1b_11ea_a6fb_107b449f15fclevel0_row9\" class=\"row_heading level0 row9\" >огромный_количество</th>\n",
       "                        <td id=\"T_dd44a2f8_0a1b_11ea_a6fb_107b449f15fcrow9_col0\" class=\"data row9 col0\" >0.00428</td>\n",
       "            </tr>\n",
       "    </tbody></table><style  type=\"text/css\" >\n",
       "</style><table id=\"T_dd44a2f9_0a1b_11ea_a6fb_107b449f15fc\" style='display:inline'><thead>    <tr>        <th class=\"blank level0\" ></th>        <th class=\"col_heading level0 col0\" >topic_24 @3gramm</th>    </tr></thead><tbody>\n",
       "                <tr>\n",
       "                        <th id=\"T_dd44a2f9_0a1b_11ea_a6fb_107b449f15fclevel0_row0\" class=\"row_heading level0 row0\" >половина_xx_век</th>\n",
       "                        <td id=\"T_dd44a2f9_0a1b_11ea_a6fb_107b449f15fcrow0_col0\" class=\"data row0 col0\" >0.34925</td>\n",
       "            </tr>\n",
       "            <tr>\n",
       "                        <th id=\"T_dd44a2f9_0a1b_11ea_a6fb_107b449f15fclevel0_row1\" class=\"row_heading level0 row1\" >широкий_смысл_слово</th>\n",
       "                        <td id=\"T_dd44a2f9_0a1b_11ea_a6fb_107b449f15fcrow1_col0\" class=\"data row1 col0\" >0.08906</td>\n",
       "            </tr>\n",
       "            <tr>\n",
       "                        <th id=\"T_dd44a2f9_0a1b_11ea_a6fb_107b449f15fclevel0_row2\" class=\"row_heading level0 row2\" >навстречу_друг_друг</th>\n",
       "                        <td id=\"T_dd44a2f9_0a1b_11ea_a6fb_107b449f15fcrow2_col0\" class=\"data row2 col0\" >0.05568</td>\n",
       "            </tr>\n",
       "            <tr>\n",
       "                        <th id=\"T_dd44a2f9_0a1b_11ea_a6fb_107b449f15fclevel0_row3\" class=\"row_heading level0 row3\" >понимать_друг_друг</th>\n",
       "                        <td id=\"T_dd44a2f9_0a1b_11ea_a6fb_107b449f15fcrow3_col0\" class=\"data row3 col0\" >0.05008</td>\n",
       "            </tr>\n",
       "            <tr>\n",
       "                        <th id=\"T_dd44a2f9_0a1b_11ea_a6fb_107b449f15fclevel0_row4\" class=\"row_heading level0 row4\" >узкий_смысл_слово</th>\n",
       "                        <td id=\"T_dd44a2f9_0a1b_11ea_a6fb_107b449f15fcrow4_col0\" class=\"data row4 col0\" >0.04495</td>\n",
       "            </tr>\n",
       "            <tr>\n",
       "                        <th id=\"T_dd44a2f9_0a1b_11ea_a6fb_107b449f15fclevel0_row5\" class=\"row_heading level0 row5\" >находить_общий_язык</th>\n",
       "                        <td id=\"T_dd44a2f9_0a1b_11ea_a6fb_107b449f15fcrow5_col0\" class=\"data row5 col0\" >0.04473</td>\n",
       "            </tr>\n",
       "            <tr>\n",
       "                        <th id=\"T_dd44a2f9_0a1b_11ea_a6fb_107b449f15fclevel0_row6\" class=\"row_heading level0 row6\" >сыграть_большой_роль</th>\n",
       "                        <td id=\"T_dd44a2f9_0a1b_11ea_a6fb_107b449f15fcrow6_col0\" class=\"data row6 col0\" >0.04461</td>\n",
       "            </tr>\n",
       "            <tr>\n",
       "                        <th id=\"T_dd44a2f9_0a1b_11ea_a6fb_107b449f15fclevel0_row7\" class=\"row_heading level0 row7\" >спросить_автор_проект</th>\n",
       "                        <td id=\"T_dd44a2f9_0a1b_11ea_a6fb_107b449f15fcrow7_col0\" class=\"data row7 col0\" >0.03921</td>\n",
       "            </tr>\n",
       "            <tr>\n",
       "                        <th id=\"T_dd44a2f9_0a1b_11ea_a6fb_107b449f15fclevel0_row8\" class=\"row_heading level0 row8\" >российский_система_образование</th>\n",
       "                        <td id=\"T_dd44a2f9_0a1b_11ea_a6fb_107b449f15fcrow8_col0\" class=\"data row8 col0\" >0.03914</td>\n",
       "            </tr>\n",
       "            <tr>\n",
       "                        <th id=\"T_dd44a2f9_0a1b_11ea_a6fb_107b449f15fclevel0_row9\" class=\"row_heading level0 row9\" >современный_аналитический_философия</th>\n",
       "                        <td id=\"T_dd44a2f9_0a1b_11ea_a6fb_107b449f15fcrow9_col0\" class=\"data row9 col0\" >0.03911</td>\n",
       "            </tr>\n",
       "    </tbody></table><style  type=\"text/css\" >\n",
       "</style><table id=\"T_dd44a2fa_0a1b_11ea_a6fb_107b449f15fc\" style='display:inline'><thead>    <tr>        <th class=\"blank level0\" ></th>        <th class=\"col_heading level0 col0\" >topic_24 @post_tag</th>    </tr></thead><tbody>\n",
       "                <tr>\n",
       "                        <th id=\"T_dd44a2fa_0a1b_11ea_a6fb_107b449f15fclevel0_row0\" class=\"row_heading level0 row0\" >образование</th>\n",
       "                        <td id=\"T_dd44a2fa_0a1b_11ea_a6fb_107b449f15fcrow0_col0\" class=\"data row0 col0\" >0.25486</td>\n",
       "            </tr>\n",
       "            <tr>\n",
       "                        <th id=\"T_dd44a2fa_0a1b_11ea_a6fb_107b449f15fclevel0_row1\" class=\"row_heading level0 row1\" >наука</th>\n",
       "                        <td id=\"T_dd44a2fa_0a1b_11ea_a6fb_107b449f15fcrow1_col0\" class=\"data row1 col0\" >0.17654</td>\n",
       "            </tr>\n",
       "            <tr>\n",
       "                        <th id=\"T_dd44a2fa_0a1b_11ea_a6fb_107b449f15fclevel0_row2\" class=\"row_heading level0 row2\" >университет</th>\n",
       "                        <td id=\"T_dd44a2fa_0a1b_11ea_a6fb_107b449f15fcrow2_col0\" class=\"data row2 col0\" >0.08004</td>\n",
       "            </tr>\n",
       "            <tr>\n",
       "                        <th id=\"T_dd44a2fa_0a1b_11ea_a6fb_107b449f15fclevel0_row3\" class=\"row_heading level0 row3\" >история_науки</th>\n",
       "                        <td id=\"T_dd44a2fa_0a1b_11ea_a6fb_107b449f15fcrow3_col0\" class=\"data row3 col0\" >0.0757</td>\n",
       "            </tr>\n",
       "            <tr>\n",
       "                        <th id=\"T_dd44a2fa_0a1b_11ea_a6fb_107b449f15fclevel0_row4\" class=\"row_heading level0 row4\" >школа</th>\n",
       "                        <td id=\"T_dd44a2fa_0a1b_11ea_a6fb_107b449f15fcrow4_col0\" class=\"data row4 col0\" >0.04703</td>\n",
       "            </tr>\n",
       "            <tr>\n",
       "                        <th id=\"T_dd44a2fa_0a1b_11ea_a6fb_107b449f15fclevel0_row5\" class=\"row_heading level0 row5\" >академическая_среда</th>\n",
       "                        <td id=\"T_dd44a2fa_0a1b_11ea_a6fb_107b449f15fcrow5_col0\" class=\"data row5 col0\" >0.03638</td>\n",
       "            </tr>\n",
       "            <tr>\n",
       "                        <th id=\"T_dd44a2fa_0a1b_11ea_a6fb_107b449f15fclevel0_row6\" class=\"row_heading level0 row6\" >детство</th>\n",
       "                        <td id=\"T_dd44a2fa_0a1b_11ea_a6fb_107b449f15fcrow6_col0\" class=\"data row6 col0\" >0.02325</td>\n",
       "            </tr>\n",
       "            <tr>\n",
       "                        <th id=\"T_dd44a2fa_0a1b_11ea_a6fb_107b449f15fclevel0_row7\" class=\"row_heading level0 row7\" >аналитическая_философия</th>\n",
       "                        <td id=\"T_dd44a2fa_0a1b_11ea_a6fb_107b449f15fcrow7_col0\" class=\"data row7 col0\" >0.01961</td>\n",
       "            </tr>\n",
       "            <tr>\n",
       "                        <th id=\"T_dd44a2fa_0a1b_11ea_a6fb_107b449f15fclevel0_row8\" class=\"row_heading level0 row8\" >скандинавия</th>\n",
       "                        <td id=\"T_dd44a2fa_0a1b_11ea_a6fb_107b449f15fcrow8_col0\" class=\"data row8 col0\" >0.01957</td>\n",
       "            </tr>\n",
       "            <tr>\n",
       "                        <th id=\"T_dd44a2fa_0a1b_11ea_a6fb_107b449f15fclevel0_row9\" class=\"row_heading level0 row9\" >маркс_карл</th>\n",
       "                        <td id=\"T_dd44a2fa_0a1b_11ea_a6fb_107b449f15fcrow9_col0\" class=\"data row9 col0\" >0.01659</td>\n",
       "            </tr>\n",
       "    </tbody></table><style  type=\"text/css\" >\n",
       "</style><table id=\"T_dd44a2fb_0a1b_11ea_a6fb_107b449f15fc\" style='display:inline'><thead>    <tr>        <th class=\"blank level0\" ></th>        <th class=\"col_heading level0 col0\" >topic_24 @word</th>    </tr></thead><tbody>\n",
       "                <tr>\n",
       "                        <th id=\"T_dd44a2fb_0a1b_11ea_a6fb_107b449f15fclevel0_row0\" class=\"row_heading level0 row0\" >наука</th>\n",
       "                        <td id=\"T_dd44a2fb_0a1b_11ea_a6fb_107b449f15fcrow0_col0\" class=\"data row0 col0\" >0.01315</td>\n",
       "            </tr>\n",
       "            <tr>\n",
       "                        <th id=\"T_dd44a2fb_0a1b_11ea_a6fb_107b449f15fclevel0_row1\" class=\"row_heading level0 row1\" >университет</th>\n",
       "                        <td id=\"T_dd44a2fb_0a1b_11ea_a6fb_107b449f15fcrow1_col0\" class=\"data row1 col0\" >0.0105</td>\n",
       "            </tr>\n",
       "            <tr>\n",
       "                        <th id=\"T_dd44a2fb_0a1b_11ea_a6fb_107b449f15fclevel0_row2\" class=\"row_heading level0 row2\" >учёный</th>\n",
       "                        <td id=\"T_dd44a2fb_0a1b_11ea_a6fb_107b449f15fcrow2_col0\" class=\"data row2 col0\" >0.00782</td>\n",
       "            </tr>\n",
       "            <tr>\n",
       "                        <th id=\"T_dd44a2fb_0a1b_11ea_a6fb_107b449f15fclevel0_row3\" class=\"row_heading level0 row3\" >образование</th>\n",
       "                        <td id=\"T_dd44a2fb_0a1b_11ea_a6fb_107b449f15fcrow3_col0\" class=\"data row3 col0\" >0.00674</td>\n",
       "            </tr>\n",
       "            <tr>\n",
       "                        <th id=\"T_dd44a2fb_0a1b_11ea_a6fb_107b449f15fclevel0_row4\" class=\"row_heading level0 row4\" >школа</th>\n",
       "                        <td id=\"T_dd44a2fb_0a1b_11ea_a6fb_107b449f15fcrow4_col0\" class=\"data row4 col0\" >0.00624</td>\n",
       "            </tr>\n",
       "            <tr>\n",
       "                        <th id=\"T_dd44a2fb_0a1b_11ea_a6fb_107b449f15fclevel0_row5\" class=\"row_heading level0 row5\" >студент</th>\n",
       "                        <td id=\"T_dd44a2fb_0a1b_11ea_a6fb_107b449f15fcrow5_col0\" class=\"data row5 col0\" >0.00608</td>\n",
       "            </tr>\n",
       "            <tr>\n",
       "                        <th id=\"T_dd44a2fb_0a1b_11ea_a6fb_107b449f15fclevel0_row6\" class=\"row_heading level0 row6\" >должный</th>\n",
       "                        <td id=\"T_dd44a2fb_0a1b_11ea_a6fb_107b449f15fcrow6_col0\" class=\"data row6 col0\" >0.00591</td>\n",
       "            </tr>\n",
       "            <tr>\n",
       "                        <th id=\"T_dd44a2fb_0a1b_11ea_a6fb_107b449f15fclevel0_row7\" class=\"row_heading level0 row7\" >работа</th>\n",
       "                        <td id=\"T_dd44a2fb_0a1b_11ea_a6fb_107b449f15fcrow7_col0\" class=\"data row7 col0\" >0.00514</td>\n",
       "            </tr>\n",
       "            <tr>\n",
       "                        <th id=\"T_dd44a2fb_0a1b_11ea_a6fb_107b449f15fclevel0_row8\" class=\"row_heading level0 row8\" >книга</th>\n",
       "                        <td id=\"T_dd44a2fb_0a1b_11ea_a6fb_107b449f15fcrow8_col0\" class=\"data row8 col0\" >0.0049</td>\n",
       "            </tr>\n",
       "            <tr>\n",
       "                        <th id=\"T_dd44a2fb_0a1b_11ea_a6fb_107b449f15fclevel0_row9\" class=\"row_heading level0 row9\" >хороший</th>\n",
       "                        <td id=\"T_dd44a2fb_0a1b_11ea_a6fb_107b449f15fcrow9_col0\" class=\"data row9 col0\" >0.00472</td>\n",
       "            </tr>\n",
       "    </tbody></table>"
      ]
     },
     "metadata": {},
     "output_type": "display_data"
    },
    {
     "data": {
      "text/html": [
       "<b> точка зрения # зачем нужен «список вак» и когда его отменят? </b><br /> мнения экспертов постнауки о публикациях в «ваковских журналах» и получении научной степени"
      ]
     },
     "metadata": {},
     "output_type": "display_data"
    },
    {
     "data": {
      "text/html": [
       "<b> перспективыбыть социологом </b><br /> социолог виктор вахштайн рассказывает, откуда берутся социологи, чему и как их учат и зачем они нам нужны"
      ]
     },
     "metadata": {},
     "output_type": "display_data"
    },
    {
     "data": {
      "text/html": [
       "<b> точка зрения # система грантов </b><br /> мнения экспертов постнауки, насколько ученый зависит от грантов"
      ]
     },
     "metadata": {},
     "output_type": "display_data"
    },
    {
     "data": {
      "text/html": [
       "<b> подготовка успешной заявки на грант </b><br /> рекомендации ученым по процессу получения грантов у российских научных фондов"
      ]
     },
     "metadata": {},
     "output_type": "display_data"
    },
    {
     "data": {
      "text/html": [
       "<b> точка зрения # эффективность «диссернета» </b><br /> авторы постнауки оценили плюсы и минусы деятельности «диссернета»"
      ]
     },
     "metadata": {},
     "output_type": "display_data"
    },
    {
     "data": {
      "text/html": [
       "<b> точка зрения # нужен ли пиар вузам? </b><br /> мнения экспертов постнауки, необходимо ли академическим институтам продвигать свою деятельность"
      ]
     },
     "metadata": {},
     "output_type": "display_data"
    },
    {
     "data": {
      "text/html": [
       "<b> проблема преподавания обществознания в школе </b><br /> философ елена брызгалина о междисциплинарности обществознания, проблемах современного образования и унификации преподавания"
      ]
     },
     "metadata": {},
     "output_type": "display_data"
    },
    {
     "data": {
      "text/html": [
       "<b> точка зрения # нужны ли экзамены в высшем образовании </b><br /> мнения экспертов постнауки об эффективности традиционной формы проверки знаний"
      ]
     },
     "metadata": {},
     "output_type": "display_data"
    },
    {
     "data": {
      "text/html": [
       "<b> политические режимы в высшем образовании </b><br /> феодальные, абсолютистские и олигархические университетыкакие существуют типы университетских политических систем?"
      ]
     },
     "metadata": {},
     "output_type": "display_data"
    },
    {
     "data": {
      "text/html": [
       "<b> академическая репутация </b><br /> социолог михаил соколов о критериях репутации, возникновении плагиата и импульсе семнадцатого столетия"
      ]
     },
     "metadata": {},
     "output_type": "display_data"
    },
    {
     "data": {
      "text/html": [
       "<style  type=\"text/css\" >\n",
       "</style><table id=\"T_dd44a2fc_0a1b_11ea_a6fb_107b449f15fc\" style='display:inline'><thead>    <tr>        <th class=\"blank level0\" ></th>        <th class=\"col_heading level0 col0\" >topic_25 @2gramm</th>    </tr></thead><tbody>\n",
       "                <tr>\n",
       "                        <th id=\"T_dd44a2fc_0a1b_11ea_a6fb_107b449f15fclevel0_row0\" class=\"row_heading level0 row0\" >солнечный_система</th>\n",
       "                        <td id=\"T_dd44a2fc_0a1b_11ea_a6fb_107b449f15fcrow0_col0\" class=\"data row0 col0\" >0.01968</td>\n",
       "            </tr>\n",
       "            <tr>\n",
       "                        <th id=\"T_dd44a2fc_0a1b_11ea_a6fb_107b449f15fclevel0_row1\" class=\"row_heading level0 row1\" >простой_число</th>\n",
       "                        <td id=\"T_dd44a2fc_0a1b_11ea_a6fb_107b449f15fcrow1_col0\" class=\"data row1 col0\" >0.00997</td>\n",
       "            </tr>\n",
       "            <tr>\n",
       "                        <th id=\"T_dd44a2fc_0a1b_11ea_a6fb_107b449f15fclevel0_row2\" class=\"row_heading level0 row2\" >зона_обитаемость</th>\n",
       "                        <td id=\"T_dd44a2fc_0a1b_11ea_a6fb_107b449f15fcrow2_col0\" class=\"data row2 col0\" >0.00986</td>\n",
       "            </tr>\n",
       "            <tr>\n",
       "                        <th id=\"T_dd44a2fc_0a1b_11ea_a6fb_107b449f15fclevel0_row3\" class=\"row_heading level0 row3\" >парниковый_эффект</th>\n",
       "                        <td id=\"T_dd44a2fc_0a1b_11ea_a6fb_107b449f15fcrow3_col0\" class=\"data row3 col0\" >0.0089</td>\n",
       "            </tr>\n",
       "            <tr>\n",
       "                        <th id=\"T_dd44a2fc_0a1b_11ea_a6fb_107b449f15fclevel0_row4\" class=\"row_heading level0 row4\" >космический_аппарат</th>\n",
       "                        <td id=\"T_dd44a2fc_0a1b_11ea_a6fb_107b449f15fcrow4_col0\" class=\"data row4 col0\" >0.00724</td>\n",
       "            </tr>\n",
       "            <tr>\n",
       "                        <th id=\"T_dd44a2fc_0a1b_11ea_a6fb_107b449f15fclevel0_row5\" class=\"row_heading level0 row5\" >поверхность_земля</th>\n",
       "                        <td id=\"T_dd44a2fc_0a1b_11ea_a6fb_107b449f15fcrow5_col0\" class=\"data row5 col0\" >0.00686</td>\n",
       "            </tr>\n",
       "            <tr>\n",
       "                        <th id=\"T_dd44a2fc_0a1b_11ea_a6fb_107b449f15fclevel0_row6\" class=\"row_heading level0 row6\" >извержение_вулкан</th>\n",
       "                        <td id=\"T_dd44a2fc_0a1b_11ea_a6fb_107b449f15fcrow6_col0\" class=\"data row6 col0\" >0.00606</td>\n",
       "            </tr>\n",
       "            <tr>\n",
       "                        <th id=\"T_dd44a2fc_0a1b_11ea_a6fb_107b449f15fclevel0_row7\" class=\"row_heading level0 row7\" >глобальный_потепление</th>\n",
       "                        <td id=\"T_dd44a2fc_0a1b_11ea_a6fb_107b449f15fcrow7_col0\" class=\"data row7 col0\" >0.00602</td>\n",
       "            </tr>\n",
       "            <tr>\n",
       "                        <th id=\"T_dd44a2fc_0a1b_11ea_a6fb_107b449f15fclevel0_row8\" class=\"row_heading level0 row8\" >xx_век</th>\n",
       "                        <td id=\"T_dd44a2fc_0a1b_11ea_a6fb_107b449f15fcrow8_col0\" class=\"data row8 col0\" >0.00553</td>\n",
       "            </tr>\n",
       "            <tr>\n",
       "                        <th id=\"T_dd44a2fc_0a1b_11ea_a6fb_107b449f15fclevel0_row9\" class=\"row_heading level0 row9\" >небесный_тело</th>\n",
       "                        <td id=\"T_dd44a2fc_0a1b_11ea_a6fb_107b449f15fcrow9_col0\" class=\"data row9 col0\" >0.00521</td>\n",
       "            </tr>\n",
       "    </tbody></table><style  type=\"text/css\" >\n",
       "</style><table id=\"T_dd44a2fd_0a1b_11ea_a6fb_107b449f15fc\" style='display:inline'><thead>    <tr>        <th class=\"blank level0\" ></th>        <th class=\"col_heading level0 col0\" >topic_25 @3gramm</th>    </tr></thead><tbody>\n",
       "                <tr>\n",
       "                        <th id=\"T_dd44a2fd_0a1b_11ea_a6fb_107b449f15fclevel0_row0\" class=\"row_heading level0 row0\" >середина_xix_век</th>\n",
       "                        <td id=\"T_dd44a2fd_0a1b_11ea_a6fb_107b449f15fcrow0_col0\" class=\"data row0 col0\" >0.36442</td>\n",
       "            </tr>\n",
       "            <tr>\n",
       "                        <th id=\"T_dd44a2fd_0a1b_11ea_a6fb_107b449f15fclevel0_row1\" class=\"row_heading level0 row1\" >середина_xviii_век</th>\n",
       "                        <td id=\"T_dd44a2fd_0a1b_11ea_a6fb_107b449f15fcrow1_col0\" class=\"data row1 col0\" >0.10333</td>\n",
       "            </tr>\n",
       "            <tr>\n",
       "                        <th id=\"T_dd44a2fd_0a1b_11ea_a6fb_107b449f15fclevel0_row2\" class=\"row_heading level0 row2\" >планета_солнечный_система</th>\n",
       "                        <td id=\"T_dd44a2fd_0a1b_11ea_a6fb_107b449f15fcrow2_col0\" class=\"data row2 col0\" >0.09833</td>\n",
       "            </tr>\n",
       "            <tr>\n",
       "                        <th id=\"T_dd44a2fd_0a1b_11ea_a6fb_107b449f15fclevel0_row3\" class=\"row_heading level0 row3\" >тело_солнечный_система</th>\n",
       "                        <td id=\"T_dd44a2fd_0a1b_11ea_a6fb_107b449f15fcrow3_col0\" class=\"data row3 col0\" >0.06632</td>\n",
       "            </tr>\n",
       "            <tr>\n",
       "                        <th id=\"T_dd44a2fd_0a1b_11ea_a6fb_107b449f15fclevel0_row4\" class=\"row_heading level0 row4\" >начать_xx_век</th>\n",
       "                        <td id=\"T_dd44a2fd_0a1b_11ea_a6fb_107b449f15fcrow4_col0\" class=\"data row4 col0\" >0.06357</td>\n",
       "            </tr>\n",
       "            <tr>\n",
       "                        <th id=\"T_dd44a2fd_0a1b_11ea_a6fb_107b449f15fclevel0_row5\" class=\"row_heading level0 row5\" >планета_земной_группа</th>\n",
       "                        <td id=\"T_dd44a2fd_0a1b_11ea_a6fb_107b449f15fcrow5_col0\" class=\"data row5 col0\" >0.06063</td>\n",
       "            </tr>\n",
       "            <tr>\n",
       "                        <th id=\"T_dd44a2fd_0a1b_11ea_a6fb_107b449f15fclevel0_row6\" class=\"row_heading level0 row6\" >основный_проблема_преподавание</th>\n",
       "                        <td id=\"T_dd44a2fd_0a1b_11ea_a6fb_107b449f15fcrow6_col0\" class=\"data row6 col0\" >0.06008</td>\n",
       "            </tr>\n",
       "            <tr>\n",
       "                        <th id=\"T_dd44a2fd_0a1b_11ea_a6fb_107b449f15fclevel0_row7\" class=\"row_heading level0 row7\" >огромный_количество_информация</th>\n",
       "                        <td id=\"T_dd44a2fd_0a1b_11ea_a6fb_107b449f15fcrow7_col0\" class=\"data row7 col0\" >0.05604</td>\n",
       "            </tr>\n",
       "            <tr>\n",
       "                        <th id=\"T_dd44a2fd_0a1b_11ea_a6fb_107b449f15fclevel0_row8\" class=\"row_heading level0 row8\" >международный_космический_станция</th>\n",
       "                        <td id=\"T_dd44a2fd_0a1b_11ea_a6fb_107b449f15fcrow8_col0\" class=\"data row8 col0\" >0.04391</td>\n",
       "            </tr>\n",
       "            <tr>\n",
       "                        <th id=\"T_dd44a2fd_0a1b_11ea_a6fb_107b449f15fclevel0_row9\" class=\"row_heading level0 row9\" >существовать_жидкий_вод</th>\n",
       "                        <td id=\"T_dd44a2fd_0a1b_11ea_a6fb_107b449f15fcrow9_col0\" class=\"data row9 col0\" >0.04385</td>\n",
       "            </tr>\n",
       "    </tbody></table><style  type=\"text/css\" >\n",
       "</style><table id=\"T_dd44a2fe_0a1b_11ea_a6fb_107b449f15fc\" style='display:inline'><thead>    <tr>        <th class=\"blank level0\" ></th>        <th class=\"col_heading level0 col0\" >topic_25 @post_tag</th>    </tr></thead><tbody>\n",
       "                <tr>\n",
       "                        <th id=\"T_dd44a2fe_0a1b_11ea_a6fb_107b449f15fclevel0_row0\" class=\"row_heading level0 row0\" >земля</th>\n",
       "                        <td id=\"T_dd44a2fe_0a1b_11ea_a6fb_107b449f15fcrow0_col0\" class=\"data row0 col0\" >0.13944</td>\n",
       "            </tr>\n",
       "            <tr>\n",
       "                        <th id=\"T_dd44a2fe_0a1b_11ea_a6fb_107b449f15fclevel0_row1\" class=\"row_heading level0 row1\" >экология</th>\n",
       "                        <td id=\"T_dd44a2fe_0a1b_11ea_a6fb_107b449f15fcrow1_col0\" class=\"data row1 col0\" >0.10227</td>\n",
       "            </tr>\n",
       "            <tr>\n",
       "                        <th id=\"T_dd44a2fe_0a1b_11ea_a6fb_107b449f15fclevel0_row2\" class=\"row_heading level0 row2\" >география</th>\n",
       "                        <td id=\"T_dd44a2fe_0a1b_11ea_a6fb_107b449f15fcrow2_col0\" class=\"data row2 col0\" >0.09768</td>\n",
       "            </tr>\n",
       "            <tr>\n",
       "                        <th id=\"T_dd44a2fe_0a1b_11ea_a6fb_107b449f15fclevel0_row3\" class=\"row_heading level0 row3\" >геология</th>\n",
       "                        <td id=\"T_dd44a2fe_0a1b_11ea_a6fb_107b449f15fcrow3_col0\" class=\"data row3 col0\" >0.04598</td>\n",
       "            </tr>\n",
       "            <tr>\n",
       "                        <th id=\"T_dd44a2fe_0a1b_11ea_a6fb_107b449f15fclevel0_row4\" class=\"row_heading level0 row4\" >солнечная_система</th>\n",
       "                        <td id=\"T_dd44a2fe_0a1b_11ea_a6fb_107b449f15fcrow4_col0\" class=\"data row4 col0\" >0.04537</td>\n",
       "            </tr>\n",
       "            <tr>\n",
       "                        <th id=\"T_dd44a2fe_0a1b_11ea_a6fb_107b449f15fclevel0_row5\" class=\"row_heading level0 row5\" >астрономия</th>\n",
       "                        <td id=\"T_dd44a2fe_0a1b_11ea_a6fb_107b449f15fcrow5_col0\" class=\"data row5 col0\" >0.03502</td>\n",
       "            </tr>\n",
       "            <tr>\n",
       "                        <th id=\"T_dd44a2fe_0a1b_11ea_a6fb_107b449f15fclevel0_row6\" class=\"row_heading level0 row6\" >марс</th>\n",
       "                        <td id=\"T_dd44a2fe_0a1b_11ea_a6fb_107b449f15fcrow6_col0\" class=\"data row6 col0\" >0.03329</td>\n",
       "            </tr>\n",
       "            <tr>\n",
       "                        <th id=\"T_dd44a2fe_0a1b_11ea_a6fb_107b449f15fclevel0_row7\" class=\"row_heading level0 row7\" >планета</th>\n",
       "                        <td id=\"T_dd44a2fe_0a1b_11ea_a6fb_107b449f15fcrow7_col0\" class=\"data row7 col0\" >0.02731</td>\n",
       "            </tr>\n",
       "            <tr>\n",
       "                        <th id=\"T_dd44a2fe_0a1b_11ea_a6fb_107b449f15fclevel0_row8\" class=\"row_heading level0 row8\" >климат</th>\n",
       "                        <td id=\"T_dd44a2fe_0a1b_11ea_a6fb_107b449f15fcrow8_col0\" class=\"data row8 col0\" >0.02696</td>\n",
       "            </tr>\n",
       "            <tr>\n",
       "                        <th id=\"T_dd44a2fe_0a1b_11ea_a6fb_107b449f15fclevel0_row9\" class=\"row_heading level0 row9\" >экзопланета</th>\n",
       "                        <td id=\"T_dd44a2fe_0a1b_11ea_a6fb_107b449f15fcrow9_col0\" class=\"data row9 col0\" >0.0254</td>\n",
       "            </tr>\n",
       "    </tbody></table><style  type=\"text/css\" >\n",
       "</style><table id=\"T_dd44a2ff_0a1b_11ea_a6fb_107b449f15fc\" style='display:inline'><thead>    <tr>        <th class=\"blank level0\" ></th>        <th class=\"col_heading level0 col0\" >topic_25 @word</th>    </tr></thead><tbody>\n",
       "                <tr>\n",
       "                        <th id=\"T_dd44a2ff_0a1b_11ea_a6fb_107b449f15fclevel0_row0\" class=\"row_heading level0 row0\" >земля</th>\n",
       "                        <td id=\"T_dd44a2ff_0a1b_11ea_a6fb_107b449f15fcrow0_col0\" class=\"data row0 col0\" >0.01348</td>\n",
       "            </tr>\n",
       "            <tr>\n",
       "                        <th id=\"T_dd44a2ff_0a1b_11ea_a6fb_107b449f15fclevel0_row1\" class=\"row_heading level0 row1\" >планета</th>\n",
       "                        <td id=\"T_dd44a2ff_0a1b_11ea_a6fb_107b449f15fcrow1_col0\" class=\"data row1 col0\" >0.00814</td>\n",
       "            </tr>\n",
       "            <tr>\n",
       "                        <th id=\"T_dd44a2ff_0a1b_11ea_a6fb_107b449f15fclevel0_row2\" class=\"row_heading level0 row2\" >большой</th>\n",
       "                        <td id=\"T_dd44a2ff_0a1b_11ea_a6fb_107b449f15fcrow2_col0\" class=\"data row2 col0\" >0.00533</td>\n",
       "            </tr>\n",
       "            <tr>\n",
       "                        <th id=\"T_dd44a2ff_0a1b_11ea_a6fb_107b449f15fclevel0_row3\" class=\"row_heading level0 row3\" >жизнь</th>\n",
       "                        <td id=\"T_dd44a2ff_0a1b_11ea_a6fb_107b449f15fcrow3_col0\" class=\"data row3 col0\" >0.0051</td>\n",
       "            </tr>\n",
       "            <tr>\n",
       "                        <th id=\"T_dd44a2ff_0a1b_11ea_a6fb_107b449f15fclevel0_row4\" class=\"row_heading level0 row4\" >атмосфера</th>\n",
       "                        <td id=\"T_dd44a2ff_0a1b_11ea_a6fb_107b449f15fcrow4_col0\" class=\"data row4 col0\" >0.0049</td>\n",
       "            </tr>\n",
       "            <tr>\n",
       "                        <th id=\"T_dd44a2ff_0a1b_11ea_a6fb_107b449f15fclevel0_row5\" class=\"row_heading level0 row5\" >находиться</th>\n",
       "                        <td id=\"T_dd44a2ff_0a1b_11ea_a6fb_107b449f15fcrow5_col0\" class=\"data row5 col0\" >0.00466</td>\n",
       "            </tr>\n",
       "            <tr>\n",
       "                        <th id=\"T_dd44a2ff_0a1b_11ea_a6fb_107b449f15fclevel0_row6\" class=\"row_heading level0 row6\" >планет</th>\n",
       "                        <td id=\"T_dd44a2ff_0a1b_11ea_a6fb_107b449f15fcrow6_col0\" class=\"data row6 col0\" >0.00455</td>\n",
       "            </tr>\n",
       "            <tr>\n",
       "                        <th id=\"T_dd44a2ff_0a1b_11ea_a6fb_107b449f15fclevel0_row7\" class=\"row_heading level0 row7\" >марс</th>\n",
       "                        <td id=\"T_dd44a2ff_0a1b_11ea_a6fb_107b449f15fcrow7_col0\" class=\"data row7 col0\" >0.00415</td>\n",
       "            </tr>\n",
       "            <tr>\n",
       "                        <th id=\"T_dd44a2ff_0a1b_11ea_a6fb_107b449f15fclevel0_row8\" class=\"row_heading level0 row8\" >происходить</th>\n",
       "                        <td id=\"T_dd44a2ff_0a1b_11ea_a6fb_107b449f15fcrow8_col0\" class=\"data row8 col0\" >0.00411</td>\n",
       "            </tr>\n",
       "            <tr>\n",
       "                        <th id=\"T_dd44a2ff_0a1b_11ea_a6fb_107b449f15fclevel0_row9\" class=\"row_heading level0 row9\" >метр</th>\n",
       "                        <td id=\"T_dd44a2ff_0a1b_11ea_a6fb_107b449f15fcrow9_col0\" class=\"data row9 col0\" >0.00399</td>\n",
       "            </tr>\n",
       "    </tbody></table>"
      ]
     },
     "metadata": {},
     "output_type": "display_data"
    },
    {
     "data": {
      "text/html": [
       "<b> сравнительная планетология </b><br /> астроном дмитрий титов о типах планет солнечной системы, динамике атмосфер и парниковом эффекте на марсе и венере"
      ]
     },
     "metadata": {},
     "output_type": "display_data"
    },
    {
     "data": {
      "text/html": [
       "<b> faqрельеф земли </b><br /> 7 фактов об особенностях геологии земли и других планет"
      ]
     },
     "metadata": {},
     "output_type": "display_data"
    },
    {
     "data": {
      "text/html": [
       "<b> faqгеоморфология </b><br /> 10 фактов об изучении неровностей земной поверхности"
      ]
     },
     "metadata": {},
     "output_type": "display_data"
    },
    {
     "data": {
      "text/html": [
       "<b> планета xдевятая планета солнечной системы? </b><br /> что такое пояс койпера, почему мы пытаемся найти «девятую планету» и какими доказательствами ее существования располагают исследователи"
      ]
     },
     "metadata": {},
     "output_type": "display_data"
    },
    {
     "data": {
      "text/html": [
       "<b> faqизменение ледников в арктике </b><br /> 6 фактов о таянии ледников, их расположении и климатическом потеплении"
      ]
     },
     "metadata": {},
     "output_type": "display_data"
    },
    {
     "data": {
      "text/html": [
       "<b> климаты будущего </b><br /> климатолог александр кислов о математических моделях изменения климата, геоинжиниринге и последствиях глобального потепления"
      ]
     },
     "metadata": {},
     "output_type": "display_data"
    },
    {
     "data": {
      "text/html": [
       "<b> главы # закономерности простых чисел. гипотеза римана </b><br /> отрывок из книги «величайшие математические задачи» английского математика и популяризатора науки иэна стюарта"
      ]
     },
     "metadata": {},
     "output_type": "display_data"
    },
    {
     "data": {
      "text/html": [
       "<b> плутонистория исследований карликовой планеты </b><br /> астроном дмитрий вибе об объектах пояса койпера, атмосфере плутона, карликовых планетах и миссии new horizons"
      ]
     },
     "metadata": {},
     "output_type": "display_data"
    },
    {
     "data": {
      "text/html": [
       "<b> главыгорячее дыхание земли </b><br /> отрывок из книги «земля. метеориты, вулканы, землетрясения» геолога николая короновского о внутреннем строении земли и наиболее опасных геологических явлениях"
      ]
     },
     "metadata": {},
     "output_type": "display_data"
    },
    {
     "data": {
      "text/html": [
       "<b> faqоледенения и природа земли </b><br /> 5 фактов о причинах оледенения, изменениях уровня  мирового океана и межледниковой эпохе"
      ]
     },
     "metadata": {},
     "output_type": "display_data"
    },
    {
     "data": {
      "text/html": [
       "<style  type=\"text/css\" >\n",
       "</style><table id=\"T_dd44a300_0a1b_11ea_a6fb_107b449f15fc\" style='display:inline'><thead>    <tr>        <th class=\"blank level0\" ></th>        <th class=\"col_heading level0 col0\" >topic_26 @2gramm</th>    </tr></thead><tbody>\n",
       "                <tr>\n",
       "                        <th id=\"T_dd44a300_0a1b_11ea_a6fb_107b449f15fclevel0_row0\" class=\"row_heading level0 row0\" >городской_пространство</th>\n",
       "                        <td id=\"T_dd44a300_0a1b_11ea_a6fb_107b449f15fcrow0_col0\" class=\"data row0 col0\" >0.01032</td>\n",
       "            </tr>\n",
       "            <tr>\n",
       "                        <th id=\"T_dd44a300_0a1b_11ea_a6fb_107b449f15fclevel0_row1\" class=\"row_heading level0 row1\" >язык_описание</th>\n",
       "                        <td id=\"T_dd44a300_0a1b_11ea_a6fb_107b449f15fcrow1_col0\" class=\"data row1 col0\" >0.00753</td>\n",
       "            </tr>\n",
       "            <tr>\n",
       "                        <th id=\"T_dd44a300_0a1b_11ea_a6fb_107b449f15fclevel0_row2\" class=\"row_heading level0 row2\" >малое_город</th>\n",
       "                        <td id=\"T_dd44a300_0a1b_11ea_a6fb_107b449f15fcrow2_col0\" class=\"data row2 col0\" >0.0072</td>\n",
       "            </tr>\n",
       "            <tr>\n",
       "                        <th id=\"T_dd44a300_0a1b_11ea_a6fb_107b449f15fclevel0_row3\" class=\"row_heading level0 row3\" >общественный_пространство</th>\n",
       "                        <td id=\"T_dd44a300_0a1b_11ea_a6fb_107b449f15fcrow3_col0\" class=\"data row3 col0\" >0.00633</td>\n",
       "            </tr>\n",
       "            <tr>\n",
       "                        <th id=\"T_dd44a300_0a1b_11ea_a6fb_107b449f15fclevel0_row4\" class=\"row_heading level0 row4\" >иной_слово</th>\n",
       "                        <td id=\"T_dd44a300_0a1b_11ea_a6fb_107b449f15fcrow4_col0\" class=\"data row4 col0\" >0.00617</td>\n",
       "            </tr>\n",
       "            <tr>\n",
       "                        <th id=\"T_dd44a300_0a1b_11ea_a6fb_107b449f15fclevel0_row5\" class=\"row_heading level0 row5\" >средний_класс</th>\n",
       "                        <td id=\"T_dd44a300_0a1b_11ea_a6fb_107b449f15fcrow5_col0\" class=\"data row5 col0\" >0.0061</td>\n",
       "            </tr>\n",
       "            <tr>\n",
       "                        <th id=\"T_dd44a300_0a1b_11ea_a6fb_107b449f15fclevel0_row6\" class=\"row_heading level0 row6\" >социальный_жизнь</th>\n",
       "                        <td id=\"T_dd44a300_0a1b_11ea_a6fb_107b449f15fcrow6_col0\" class=\"data row6 col0\" >0.0061</td>\n",
       "            </tr>\n",
       "            <tr>\n",
       "                        <th id=\"T_dd44a300_0a1b_11ea_a6fb_107b449f15fclevel0_row7\" class=\"row_heading level0 row7\" >речь_идти</th>\n",
       "                        <td id=\"T_dd44a300_0a1b_11ea_a6fb_107b449f15fcrow7_col0\" class=\"data row7 col0\" >0.00564</td>\n",
       "            </tr>\n",
       "            <tr>\n",
       "                        <th id=\"T_dd44a300_0a1b_11ea_a6fb_107b449f15fclevel0_row8\" class=\"row_heading level0 row8\" >социологический_теория</th>\n",
       "                        <td id=\"T_dd44a300_0a1b_11ea_a6fb_107b449f15fcrow8_col0\" class=\"data row8 col0\" >0.0055</td>\n",
       "            </tr>\n",
       "            <tr>\n",
       "                        <th id=\"T_dd44a300_0a1b_11ea_a6fb_107b449f15fclevel0_row9\" class=\"row_heading level0 row9\" >социальный_антропология</th>\n",
       "                        <td id=\"T_dd44a300_0a1b_11ea_a6fb_107b449f15fcrow9_col0\" class=\"data row9 col0\" >0.00539</td>\n",
       "            </tr>\n",
       "    </tbody></table><style  type=\"text/css\" >\n",
       "</style><table id=\"T_dd44a301_0a1b_11ea_a6fb_107b449f15fc\" style='display:inline'><thead>    <tr>        <th class=\"blank level0\" ></th>        <th class=\"col_heading level0 col0\" >topic_26 @3gramm</th>    </tr></thead><tbody>\n",
       "                <tr>\n",
       "                        <th id=\"T_dd44a301_0a1b_11ea_a6fb_107b449f15fclevel0_row0\" class=\"row_heading level0 row0\" >опрос_общественный_мнение</th>\n",
       "                        <td id=\"T_dd44a301_0a1b_11ea_a6fb_107b449f15fcrow0_col0\" class=\"data row0 col0\" >0.17965</td>\n",
       "            </tr>\n",
       "            <tr>\n",
       "                        <th id=\"T_dd44a301_0a1b_11ea_a6fb_107b449f15fclevel0_row1\" class=\"row_heading level0 row1\" >рождаться_наукоемкий_бизнес</th>\n",
       "                        <td id=\"T_dd44a301_0a1b_11ea_a6fb_107b449f15fcrow1_col0\" class=\"data row1 col0\" >0.13469</td>\n",
       "            </tr>\n",
       "            <tr>\n",
       "                        <th id=\"T_dd44a301_0a1b_11ea_a6fb_107b449f15fclevel0_row2\" class=\"row_heading level0 row2\" >противоречить_друг_друг</th>\n",
       "                        <td id=\"T_dd44a301_0a1b_11ea_a6fb_107b449f15fcrow2_col0\" class=\"data row2 col0\" >0.08853</td>\n",
       "            </tr>\n",
       "            <tr>\n",
       "                        <th id=\"T_dd44a301_0a1b_11ea_a6fb_107b449f15fclevel0_row3\" class=\"row_heading level0 row3\" >химический_эволюция_галактика</th>\n",
       "                        <td id=\"T_dd44a301_0a1b_11ea_a6fb_107b449f15fcrow3_col0\" class=\"data row3 col0\" >0.07609</td>\n",
       "            </tr>\n",
       "            <tr>\n",
       "                        <th id=\"T_dd44a301_0a1b_11ea_a6fb_107b449f15fclevel0_row4\" class=\"row_heading level0 row4\" >конец_хх_век</th>\n",
       "                        <td id=\"T_dd44a301_0a1b_11ea_a6fb_107b449f15fcrow4_col0\" class=\"data row4 col0\" >0.07541</td>\n",
       "            </tr>\n",
       "            <tr>\n",
       "                        <th id=\"T_dd44a301_0a1b_11ea_a6fb_107b449f15fclevel0_row5\" class=\"row_heading level0 row5\" >заметный_экономический_эффект</th>\n",
       "                        <td id=\"T_dd44a301_0a1b_11ea_a6fb_107b449f15fcrow5_col0\" class=\"data row5 col0\" >0.0678</td>\n",
       "            </tr>\n",
       "            <tr>\n",
       "                        <th id=\"T_dd44a301_0a1b_11ea_a6fb_107b449f15fclevel0_row6\" class=\"row_heading level0 row6\" >бывший_советский_союз</th>\n",
       "                        <td id=\"T_dd44a301_0a1b_11ea_a6fb_107b449f15fcrow6_col0\" class=\"data row6 col0\" >0.0608</td>\n",
       "            </tr>\n",
       "            <tr>\n",
       "                        <th id=\"T_dd44a301_0a1b_11ea_a6fb_107b449f15fclevel0_row7\" class=\"row_heading level0 row7\" >представитель_среднее_класс</th>\n",
       "                        <td id=\"T_dd44a301_0a1b_11ea_a6fb_107b449f15fcrow7_col0\" class=\"data row7 col0\" >0.04793</td>\n",
       "            </tr>\n",
       "            <tr>\n",
       "                        <th id=\"T_dd44a301_0a1b_11ea_a6fb_107b449f15fclevel0_row8\" class=\"row_heading level0 row8\" >структура_научный_революция</th>\n",
       "                        <td id=\"T_dd44a301_0a1b_11ea_a6fb_107b449f15fcrow8_col0\" class=\"data row8 col0\" >0.04769</td>\n",
       "            </tr>\n",
       "            <tr>\n",
       "                        <th id=\"T_dd44a301_0a1b_11ea_a6fb_107b449f15fclevel0_row9\" class=\"row_heading level0 row9\" >курс_общий_лингвистика</th>\n",
       "                        <td id=\"T_dd44a301_0a1b_11ea_a6fb_107b449f15fcrow9_col0\" class=\"data row9 col0\" >0.04769</td>\n",
       "            </tr>\n",
       "    </tbody></table><style  type=\"text/css\" >\n",
       "</style><table id=\"T_dd44a302_0a1b_11ea_a6fb_107b449f15fc\" style='display:inline'><thead>    <tr>        <th class=\"blank level0\" ></th>        <th class=\"col_heading level0 col0\" >topic_26 @post_tag</th>    </tr></thead><tbody>\n",
       "                <tr>\n",
       "                        <th id=\"T_dd44a302_0a1b_11ea_a6fb_107b449f15fclevel0_row0\" class=\"row_heading level0 row0\" >социология</th>\n",
       "                        <td id=\"T_dd44a302_0a1b_11ea_a6fb_107b449f15fcrow0_col0\" class=\"data row0 col0\" >0.19706</td>\n",
       "            </tr>\n",
       "            <tr>\n",
       "                        <th id=\"T_dd44a302_0a1b_11ea_a6fb_107b449f15fclevel0_row1\" class=\"row_heading level0 row1\" >город</th>\n",
       "                        <td id=\"T_dd44a302_0a1b_11ea_a6fb_107b449f15fcrow1_col0\" class=\"data row1 col0\" >0.12514</td>\n",
       "            </tr>\n",
       "            <tr>\n",
       "                        <th id=\"T_dd44a302_0a1b_11ea_a6fb_107b449f15fclevel0_row2\" class=\"row_heading level0 row2\" >урбанистика</th>\n",
       "                        <td id=\"T_dd44a302_0a1b_11ea_a6fb_107b449f15fcrow2_col0\" class=\"data row2 col0\" >0.05764</td>\n",
       "            </tr>\n",
       "            <tr>\n",
       "                        <th id=\"T_dd44a302_0a1b_11ea_a6fb_107b449f15fclevel0_row3\" class=\"row_heading level0 row3\" >общество</th>\n",
       "                        <td id=\"T_dd44a302_0a1b_11ea_a6fb_107b449f15fcrow3_col0\" class=\"data row3 col0\" >0.04662</td>\n",
       "            </tr>\n",
       "            <tr>\n",
       "                        <th id=\"T_dd44a302_0a1b_11ea_a6fb_107b449f15fclevel0_row4\" class=\"row_heading level0 row4\" >городское_пространство</th>\n",
       "                        <td id=\"T_dd44a302_0a1b_11ea_a6fb_107b449f15fcrow4_col0\" class=\"data row4 col0\" >0.0428</td>\n",
       "            </tr>\n",
       "            <tr>\n",
       "                        <th id=\"T_dd44a302_0a1b_11ea_a6fb_107b449f15fclevel0_row5\" class=\"row_heading level0 row5\" >социология_науки</th>\n",
       "                        <td id=\"T_dd44a302_0a1b_11ea_a6fb_107b449f15fcrow5_col0\" class=\"data row5 col0\" >0.03453</td>\n",
       "            </tr>\n",
       "            <tr>\n",
       "                        <th id=\"T_dd44a302_0a1b_11ea_a6fb_107b449f15fclevel0_row6\" class=\"row_heading level0 row6\" >дюркгейм_эмиль</th>\n",
       "                        <td id=\"T_dd44a302_0a1b_11ea_a6fb_107b449f15fcrow6_col0\" class=\"data row6 col0\" >0.03329</td>\n",
       "            </tr>\n",
       "            <tr>\n",
       "                        <th id=\"T_dd44a302_0a1b_11ea_a6fb_107b449f15fclevel0_row7\" class=\"row_heading level0 row7\" >социология_пространства</th>\n",
       "                        <td id=\"T_dd44a302_0a1b_11ea_a6fb_107b449f15fcrow7_col0\" class=\"data row7 col0\" >0.03129</td>\n",
       "            </tr>\n",
       "            <tr>\n",
       "                        <th id=\"T_dd44a302_0a1b_11ea_a6fb_107b449f15fclevel0_row8\" class=\"row_heading level0 row8\" >вебер_макс</th>\n",
       "                        <td id=\"T_dd44a302_0a1b_11ea_a6fb_107b449f15fcrow8_col0\" class=\"data row8 col0\" >0.02699</td>\n",
       "            </tr>\n",
       "            <tr>\n",
       "                        <th id=\"T_dd44a302_0a1b_11ea_a6fb_107b449f15fclevel0_row9\" class=\"row_heading level0 row9\" >медиа</th>\n",
       "                        <td id=\"T_dd44a302_0a1b_11ea_a6fb_107b449f15fcrow9_col0\" class=\"data row9 col0\" >0.02658</td>\n",
       "            </tr>\n",
       "    </tbody></table><style  type=\"text/css\" >\n",
       "</style><table id=\"T_dd44a303_0a1b_11ea_a6fb_107b449f15fc\" style='display:inline'><thead>    <tr>        <th class=\"blank level0\" ></th>        <th class=\"col_heading level0 col0\" >topic_26 @word</th>    </tr></thead><tbody>\n",
       "                <tr>\n",
       "                        <th id=\"T_dd44a303_0a1b_11ea_a6fb_107b449f15fclevel0_row0\" class=\"row_heading level0 row0\" >город</th>\n",
       "                        <td id=\"T_dd44a303_0a1b_11ea_a6fb_107b449f15fcrow0_col0\" class=\"data row0 col0\" >0.01331</td>\n",
       "            </tr>\n",
       "            <tr>\n",
       "                        <th id=\"T_dd44a303_0a1b_11ea_a6fb_107b449f15fclevel0_row1\" class=\"row_heading level0 row1\" >пространство</th>\n",
       "                        <td id=\"T_dd44a303_0a1b_11ea_a6fb_107b449f15fcrow1_col0\" class=\"data row1 col0\" >0.00802</td>\n",
       "            </tr>\n",
       "            <tr>\n",
       "                        <th id=\"T_dd44a303_0a1b_11ea_a6fb_107b449f15fclevel0_row2\" class=\"row_heading level0 row2\" >социология</th>\n",
       "                        <td id=\"T_dd44a303_0a1b_11ea_a6fb_107b449f15fcrow2_col0\" class=\"data row2 col0\" >0.006</td>\n",
       "            </tr>\n",
       "            <tr>\n",
       "                        <th id=\"T_dd44a303_0a1b_11ea_a6fb_107b449f15fclevel0_row3\" class=\"row_heading level0 row3\" >социальный</th>\n",
       "                        <td id=\"T_dd44a303_0a1b_11ea_a6fb_107b449f15fcrow3_col0\" class=\"data row3 col0\" >0.00498</td>\n",
       "            </tr>\n",
       "            <tr>\n",
       "                        <th id=\"T_dd44a303_0a1b_11ea_a6fb_107b449f15fclevel0_row4\" class=\"row_heading level0 row4\" >отношение</th>\n",
       "                        <td id=\"T_dd44a303_0a1b_11ea_a6fb_107b449f15fcrow4_col0\" class=\"data row4 col0\" >0.00473</td>\n",
       "            </tr>\n",
       "            <tr>\n",
       "                        <th id=\"T_dd44a303_0a1b_11ea_a6fb_107b449f15fclevel0_row5\" class=\"row_heading level0 row5\" >объект</th>\n",
       "                        <td id=\"T_dd44a303_0a1b_11ea_a6fb_107b449f15fcrow5_col0\" class=\"data row5 col0\" >0.0047</td>\n",
       "            </tr>\n",
       "            <tr>\n",
       "                        <th id=\"T_dd44a303_0a1b_11ea_a6fb_107b449f15fclevel0_row6\" class=\"row_heading level0 row6\" >общество</th>\n",
       "                        <td id=\"T_dd44a303_0a1b_11ea_a6fb_107b449f15fcrow6_col0\" class=\"data row6 col0\" >0.00467</td>\n",
       "            </tr>\n",
       "            <tr>\n",
       "                        <th id=\"T_dd44a303_0a1b_11ea_a6fb_107b449f15fclevel0_row7\" class=\"row_heading level0 row7\" >являться</th>\n",
       "                        <td id=\"T_dd44a303_0a1b_11ea_a6fb_107b449f15fcrow7_col0\" class=\"data row7 col0\" >0.0044</td>\n",
       "            </tr>\n",
       "            <tr>\n",
       "                        <th id=\"T_dd44a303_0a1b_11ea_a6fb_107b449f15fclevel0_row8\" class=\"row_heading level0 row8\" >сообщество</th>\n",
       "                        <td id=\"T_dd44a303_0a1b_11ea_a6fb_107b449f15fcrow8_col0\" class=\"data row8 col0\" >0.00416</td>\n",
       "            </tr>\n",
       "            <tr>\n",
       "                        <th id=\"T_dd44a303_0a1b_11ea_a6fb_107b449f15fclevel0_row9\" class=\"row_heading level0 row9\" >социолог</th>\n",
       "                        <td id=\"T_dd44a303_0a1b_11ea_a6fb_107b449f15fcrow9_col0\" class=\"data row9 col0\" >0.00378</td>\n",
       "            </tr>\n",
       "    </tbody></table>"
      ]
     },
     "metadata": {},
     "output_type": "display_data"
    },
    {
     "data": {
      "text/html": [
       "<b> faqсоциальная топология </b><br /> 7 фактов о понимании материального объекта и пространства в социологической теории"
      ]
     },
     "metadata": {},
     "output_type": "display_data"
    },
    {
     "data": {
      "text/html": [
       "<b> лгут ли опросы общественного мнения в россии? </b><br /> о причинах недоверия к результатам массовых опросов и типичных ошибках опросных организаций"
      ]
     },
     "metadata": {},
     "output_type": "display_data"
    },
    {
     "data": {
      "text/html": [
       "<b> социология города </b><br /> социолог виктор вахштайн о связи социального и физического пространства, городской повседневности и различиях между социологией и урбанистикой"
      ]
     },
     "metadata": {},
     "output_type": "display_data"
    },
    {
     "data": {
      "text/html": [
       "<b> от лифта к небоскребусоциология, архитектура и техника </b><br /> как технологии создают границы и «расцепляют» пространство?"
      ]
     },
     "metadata": {},
     "output_type": "display_data"
    },
    {
     "data": {
      "text/html": [
       "<b> главынаучные практики </b><br /> отрывок из книги «после методабеспорядок и социальная наука» социолога джона ло о необходимости переизобретения методов и политики социальных наук"
      ]
     },
     "metadata": {},
     "output_type": "display_data"
    },
    {
     "data": {
      "text/html": [
       "<b> как изменилась городская среда? </b><br /> о городах-потоках, качестве городского пространства, культурной жизни периферии и досуге москвичей"
      ]
     },
     "metadata": {},
     "output_type": "display_data"
    },
    {
     "data": {
      "text/html": [
       "<b> faqсообщества и городская среда </b><br /> 7 фактов об определении сообществ в социологической традиции и их роли в городской среде"
      ]
     },
     "metadata": {},
     "output_type": "display_data"
    },
    {
     "data": {
      "text/html": [
       "<b> faqсоциология маргинальности </b><br /> 7 фактов об изучении чужака и границ в обществе"
      ]
     },
     "metadata": {},
     "output_type": "display_data"
    },
    {
     "data": {
      "text/html": [
       "<b> главы # пустое пространство создает чрезвычайно наполненное время </b><br /> отрывок из эссе \"на площади. в поисках общественных пространств пост-советского города\"  специалиста по политической эстетике оуэна хазерли"
      ]
     },
     "metadata": {},
     "output_type": "display_data"
    },
    {
     "data": {
      "text/html": [
       "<b> faqсоциология пространства </b><br /> 7 фактов о социологическом понимании места и времени"
      ]
     },
     "metadata": {},
     "output_type": "display_data"
    },
    {
     "data": {
      "text/html": [
       "<style  type=\"text/css\" >\n",
       "</style><table id=\"T_dd44a304_0a1b_11ea_a6fb_107b449f15fc\" style='display:inline'><thead>    <tr>        <th class=\"blank level0\" ></th>        <th class=\"col_heading level0 col0\" >bcg_27 @2gramm</th>    </tr></thead><tbody>\n",
       "                <tr>\n",
       "                        <th id=\"T_dd44a304_0a1b_11ea_a6fb_107b449f15fclevel0_row0\" class=\"row_heading level0 row0\" >рамка_проект</th>\n",
       "                        <td id=\"T_dd44a304_0a1b_11ea_a6fb_107b449f15fcrow0_col0\" class=\"data row0 col0\" >0.0019</td>\n",
       "            </tr>\n",
       "            <tr>\n",
       "                        <th id=\"T_dd44a304_0a1b_11ea_a6fb_107b449f15fclevel0_row1\" class=\"row_heading level0 row1\" >мировой_война</th>\n",
       "                        <td id=\"T_dd44a304_0a1b_11ea_a6fb_107b449f15fcrow1_col0\" class=\"data row1 col0\" >0.00119</td>\n",
       "            </tr>\n",
       "            <tr>\n",
       "                        <th id=\"T_dd44a304_0a1b_11ea_a6fb_107b449f15fclevel0_row2\" class=\"row_heading level0 row2\" >международный_отношение</th>\n",
       "                        <td id=\"T_dd44a304_0a1b_11ea_a6fb_107b449f15fcrow2_col0\" class=\"data row2 col0\" >0.001</td>\n",
       "            </tr>\n",
       "            <tr>\n",
       "                        <th id=\"T_dd44a304_0a1b_11ea_a6fb_107b449f15fclevel0_row3\" class=\"row_heading level0 row3\" >обратить_внимание</th>\n",
       "                        <td id=\"T_dd44a304_0a1b_11ea_a6fb_107b449f15fcrow3_col0\" class=\"data row3 col0\" >0.00098</td>\n",
       "            </tr>\n",
       "            <tr>\n",
       "                        <th id=\"T_dd44a304_0a1b_11ea_a6fb_107b449f15fclevel0_row4\" class=\"row_heading level0 row4\" >огромный_количество</th>\n",
       "                        <td id=\"T_dd44a304_0a1b_11ea_a6fb_107b449f15fcrow4_col0\" class=\"data row4 col0\" >0.00091</td>\n",
       "            </tr>\n",
       "            <tr>\n",
       "                        <th id=\"T_dd44a304_0a1b_11ea_a6fb_107b449f15fclevel0_row5\" class=\"row_heading level0 row5\" >принять_решение</th>\n",
       "                        <td id=\"T_dd44a304_0a1b_11ea_a6fb_107b449f15fcrow5_col0\" class=\"data row5 col0\" >0.00079</td>\n",
       "            </tr>\n",
       "            <tr>\n",
       "                        <th id=\"T_dd44a304_0a1b_11ea_a6fb_107b449f15fclevel0_row6\" class=\"row_heading level0 row6\" >прошлое_век</th>\n",
       "                        <td id=\"T_dd44a304_0a1b_11ea_a6fb_107b449f15fcrow6_col0\" class=\"data row6 col0\" >0.00077</td>\n",
       "            </tr>\n",
       "            <tr>\n",
       "                        <th id=\"T_dd44a304_0a1b_11ea_a6fb_107b449f15fclevel0_row7\" class=\"row_heading level0 row7\" >дать_случай</th>\n",
       "                        <td id=\"T_dd44a304_0a1b_11ea_a6fb_107b449f15fcrow7_col0\" class=\"data row7 col0\" >0.00069</td>\n",
       "            </tr>\n",
       "            <tr>\n",
       "                        <th id=\"T_dd44a304_0a1b_11ea_a6fb_107b449f15fclevel0_row8\" class=\"row_heading level0 row8\" >космический_полёт</th>\n",
       "                        <td id=\"T_dd44a304_0a1b_11ea_a6fb_107b449f15fcrow8_col0\" class=\"data row8 col0\" >0.00068</td>\n",
       "            </tr>\n",
       "            <tr>\n",
       "                        <th id=\"T_dd44a304_0a1b_11ea_a6fb_107b449f15fclevel0_row9\" class=\"row_heading level0 row9\" >откуда_браться</th>\n",
       "                        <td id=\"T_dd44a304_0a1b_11ea_a6fb_107b449f15fcrow9_col0\" class=\"data row9 col0\" >0.00062</td>\n",
       "            </tr>\n",
       "    </tbody></table><style  type=\"text/css\" >\n",
       "</style><table id=\"T_dd44a305_0a1b_11ea_a6fb_107b449f15fc\" style='display:inline'><thead>    <tr>        <th class=\"blank level0\" ></th>        <th class=\"col_heading level0 col0\" >bcg_27 @3gramm</th>    </tr></thead><tbody>\n",
       "                <tr>\n",
       "                        <th id=\"T_dd44a305_0a1b_11ea_a6fb_107b449f15fclevel0_row0\" class=\"row_heading level0 row0\" >конец_xix_век</th>\n",
       "                        <td id=\"T_dd44a305_0a1b_11ea_a6fb_107b449f15fcrow0_col0\" class=\"data row0 col0\" >0.31411</td>\n",
       "            </tr>\n",
       "            <tr>\n",
       "                        <th id=\"T_dd44a305_0a1b_11ea_a6fb_107b449f15fclevel0_row1\" class=\"row_heading level0 row1\" >получить_нобелевский_премия</th>\n",
       "                        <td id=\"T_dd44a305_0a1b_11ea_a6fb_107b449f15fcrow1_col0\" class=\"data row1 col0\" >0.18744</td>\n",
       "            </tr>\n",
       "            <tr>\n",
       "                        <th id=\"T_dd44a305_0a1b_11ea_a6fb_107b449f15fclevel0_row2\" class=\"row_heading level0 row2\" >соединить_штат_америка</th>\n",
       "                        <td id=\"T_dd44a305_0a1b_11ea_a6fb_107b449f15fcrow2_col0\" class=\"data row2 col0\" >0.18407</td>\n",
       "            </tr>\n",
       "            <tr>\n",
       "                        <th id=\"T_dd44a305_0a1b_11ea_a6fb_107b449f15fclevel0_row3\" class=\"row_heading level0 row3\" >дополнять_друг_друг</th>\n",
       "                        <td id=\"T_dd44a305_0a1b_11ea_a6fb_107b449f15fcrow3_col0\" class=\"data row3 col0\" >0.09523</td>\n",
       "            </tr>\n",
       "            <tr>\n",
       "                        <th id=\"T_dd44a305_0a1b_11ea_a6fb_107b449f15fclevel0_row4\" class=\"row_heading level0 row4\" >теория_международный_отношение</th>\n",
       "                        <td id=\"T_dd44a305_0a1b_11ea_a6fb_107b449f15fcrow4_col0\" class=\"data row4 col0\" >0.04769</td>\n",
       "            </tr>\n",
       "            <tr>\n",
       "                        <th id=\"T_dd44a305_0a1b_11ea_a6fb_107b449f15fclevel0_row5\" class=\"row_heading level0 row5\" >полиненасыщенный_жирный_кислота</th>\n",
       "                        <td id=\"T_dd44a305_0a1b_11ea_a6fb_107b449f15fcrow5_col0\" class=\"data row5 col0\" >0.02549</td>\n",
       "            </tr>\n",
       "            <tr>\n",
       "                        <th id=\"T_dd44a305_0a1b_11ea_a6fb_107b449f15fclevel0_row6\" class=\"row_heading level0 row6\" >средний_продолжительность_жизнь</th>\n",
       "                        <td id=\"T_dd44a305_0a1b_11ea_a6fb_107b449f15fcrow6_col0\" class=\"data row6 col0\" >0.02019</td>\n",
       "            </tr>\n",
       "            <tr>\n",
       "                        <th id=\"T_dd44a305_0a1b_11ea_a6fb_107b449f15fclevel0_row7\" class=\"row_heading level0 row7\" >разный_длина_волна</th>\n",
       "                        <td id=\"T_dd44a305_0a1b_11ea_a6fb_107b449f15fcrow7_col0\" class=\"data row7 col0\" >0.01417</td>\n",
       "            </tr>\n",
       "            <tr>\n",
       "                        <th id=\"T_dd44a305_0a1b_11ea_a6fb_107b449f15fclevel0_row8\" class=\"row_heading level0 row8\" >целый_ряд_проблема</th>\n",
       "                        <td id=\"T_dd44a305_0a1b_11ea_a6fb_107b449f15fcrow8_col0\" class=\"data row8 col0\" >0.01302</td>\n",
       "            </tr>\n",
       "            <tr>\n",
       "                        <th id=\"T_dd44a305_0a1b_11ea_a6fb_107b449f15fclevel0_row9\" class=\"row_heading level0 row9\" >случай_речь_идти</th>\n",
       "                        <td id=\"T_dd44a305_0a1b_11ea_a6fb_107b449f15fcrow9_col0\" class=\"data row9 col0\" >0.01228</td>\n",
       "            </tr>\n",
       "    </tbody></table><style  type=\"text/css\" >\n",
       "</style><table id=\"T_dd44a306_0a1b_11ea_a6fb_107b449f15fc\" style='display:inline'><thead>    <tr>        <th class=\"blank level0\" ></th>        <th class=\"col_heading level0 col0\" >bcg_27 @post_tag</th>    </tr></thead><tbody>\n",
       "                <tr>\n",
       "                        <th id=\"T_dd44a306_0a1b_11ea_a6fb_107b449f15fclevel0_row0\" class=\"row_heading level0 row0\" >биология</th>\n",
       "                        <td id=\"T_dd44a306_0a1b_11ea_a6fb_107b449f15fcrow0_col0\" class=\"data row0 col0\" >0.25702</td>\n",
       "            </tr>\n",
       "            <tr>\n",
       "                        <th id=\"T_dd44a306_0a1b_11ea_a6fb_107b449f15fclevel0_row1\" class=\"row_heading level0 row1\" >медицина</th>\n",
       "                        <td id=\"T_dd44a306_0a1b_11ea_a6fb_107b449f15fcrow1_col0\" class=\"data row1 col0\" >0.1305</td>\n",
       "            </tr>\n",
       "            <tr>\n",
       "                        <th id=\"T_dd44a306_0a1b_11ea_a6fb_107b449f15fclevel0_row2\" class=\"row_heading level0 row2\" >сша</th>\n",
       "                        <td id=\"T_dd44a306_0a1b_11ea_a6fb_107b449f15fcrow2_col0\" class=\"data row2 col0\" >0.07498</td>\n",
       "            </tr>\n",
       "            <tr>\n",
       "                        <th id=\"T_dd44a306_0a1b_11ea_a6fb_107b449f15fclevel0_row3\" class=\"row_heading level0 row3\" >политика</th>\n",
       "                        <td id=\"T_dd44a306_0a1b_11ea_a6fb_107b449f15fcrow3_col0\" class=\"data row3 col0\" >0.06717</td>\n",
       "            </tr>\n",
       "            <tr>\n",
       "                        <th id=\"T_dd44a306_0a1b_11ea_a6fb_107b449f15fclevel0_row4\" class=\"row_heading level0 row4\" >биофизика</th>\n",
       "                        <td id=\"T_dd44a306_0a1b_11ea_a6fb_107b449f15fcrow4_col0\" class=\"data row4 col0\" >0.02752</td>\n",
       "            </tr>\n",
       "            <tr>\n",
       "                        <th id=\"T_dd44a306_0a1b_11ea_a6fb_107b449f15fclevel0_row5\" class=\"row_heading level0 row5\" >технологии</th>\n",
       "                        <td id=\"T_dd44a306_0a1b_11ea_a6fb_107b449f15fcrow5_col0\" class=\"data row5 col0\" >0.02433</td>\n",
       "            </tr>\n",
       "            <tr>\n",
       "                        <th id=\"T_dd44a306_0a1b_11ea_a6fb_107b449f15fclevel0_row6\" class=\"row_heading level0 row6\" >биомедицина</th>\n",
       "                        <td id=\"T_dd44a306_0a1b_11ea_a6fb_107b449f15fcrow6_col0\" class=\"data row6 col0\" >0.02338</td>\n",
       "            </tr>\n",
       "            <tr>\n",
       "                        <th id=\"T_dd44a306_0a1b_11ea_a6fb_107b449f15fclevel0_row7\" class=\"row_heading level0 row7\" >молекулярная_биология</th>\n",
       "                        <td id=\"T_dd44a306_0a1b_11ea_a6fb_107b449f15fcrow7_col0\" class=\"data row7 col0\" >0.01551</td>\n",
       "            </tr>\n",
       "            <tr>\n",
       "                        <th id=\"T_dd44a306_0a1b_11ea_a6fb_107b449f15fclevel0_row8\" class=\"row_heading level0 row8\" >биоэтика</th>\n",
       "                        <td id=\"T_dd44a306_0a1b_11ea_a6fb_107b449f15fcrow8_col0\" class=\"data row8 col0\" >0.01201</td>\n",
       "            </tr>\n",
       "            <tr>\n",
       "                        <th id=\"T_dd44a306_0a1b_11ea_a6fb_107b449f15fclevel0_row9\" class=\"row_heading level0 row9\" >идеология</th>\n",
       "                        <td id=\"T_dd44a306_0a1b_11ea_a6fb_107b449f15fcrow9_col0\" class=\"data row9 col0\" >0.00922</td>\n",
       "            </tr>\n",
       "    </tbody></table><style  type=\"text/css\" >\n",
       "</style><table id=\"T_dd44a307_0a1b_11ea_a6fb_107b449f15fc\" style='display:inline'><thead>    <tr>        <th class=\"blank level0\" ></th>        <th class=\"col_heading level0 col0\" >bcg_27 @word</th>    </tr></thead><tbody>\n",
       "                <tr>\n",
       "                        <th id=\"T_dd44a307_0a1b_11ea_a6fb_107b449f15fclevel0_row0\" class=\"row_heading level0 row0\" >лекция</th>\n",
       "                        <td id=\"T_dd44a307_0a1b_11ea_a6fb_107b449f15fcrow0_col0\" class=\"data row0 col0\" >0.00036</td>\n",
       "            </tr>\n",
       "            <tr>\n",
       "                        <th id=\"T_dd44a307_0a1b_11ea_a6fb_107b449f15fclevel0_row1\" class=\"row_heading level0 row1\" >диалог</th>\n",
       "                        <td id=\"T_dd44a307_0a1b_11ea_a6fb_107b449f15fcrow1_col0\" class=\"data row1 col0\" >0.00024</td>\n",
       "            </tr>\n",
       "            <tr>\n",
       "                        <th id=\"T_dd44a307_0a1b_11ea_a6fb_107b449f15fclevel0_row2\" class=\"row_heading level0 row2\" >рассказывать</th>\n",
       "                        <td id=\"T_dd44a307_0a1b_11ea_a6fb_107b449f15fcrow2_col0\" class=\"data row2 col0\" >0.00019</td>\n",
       "            </tr>\n",
       "            <tr>\n",
       "                        <th id=\"T_dd44a307_0a1b_11ea_a6fb_107b449f15fclevel0_row3\" class=\"row_heading level0 row3\" >прочитать</th>\n",
       "                        <td id=\"T_dd44a307_0a1b_11ea_a6fb_107b449f15fcrow3_col0\" class=\"data row3 col0\" >0.00016</td>\n",
       "            </tr>\n",
       "            <tr>\n",
       "                        <th id=\"T_dd44a307_0a1b_11ea_a6fb_107b449f15fclevel0_row4\" class=\"row_heading level0 row4\" >публиковать</th>\n",
       "                        <td id=\"T_dd44a307_0a1b_11ea_a6fb_107b449f15fcrow4_col0\" class=\"data row4 col0\" >0.00015</td>\n",
       "            </tr>\n",
       "            <tr>\n",
       "                        <th id=\"T_dd44a307_0a1b_11ea_a6fb_107b449f15fclevel0_row5\" class=\"row_heading level0 row5\" >end</th>\n",
       "                        <td id=\"T_dd44a307_0a1b_11ea_a6fb_107b449f15fcrow5_col0\" class=\"data row5 col0\" >0.00014</td>\n",
       "            </tr>\n",
       "            <tr>\n",
       "                        <th id=\"T_dd44a307_0a1b_11ea_a6fb_107b449f15fclevel0_row6\" class=\"row_heading level0 row6\" >посоветовать</th>\n",
       "                        <td id=\"T_dd44a307_0a1b_11ea_a6fb_107b449f15fcrow6_col0\" class=\"data row6 col0\" >0.00014</td>\n",
       "            </tr>\n",
       "            <tr>\n",
       "                        <th id=\"T_dd44a307_0a1b_11ea_a6fb_107b449f15fclevel0_row7\" class=\"row_heading level0 row7\" >postnauka</th>\n",
       "                        <td id=\"T_dd44a307_0a1b_11ea_a6fb_107b449f15fcrow7_col0\" class=\"data row7 col0\" >0.00014</td>\n",
       "            </tr>\n",
       "            <tr>\n",
       "                        <th id=\"T_dd44a307_0a1b_11ea_a6fb_107b449f15fclevel0_row8\" class=\"row_heading level0 row8\" >сша</th>\n",
       "                        <td id=\"T_dd44a307_0a1b_11ea_a6fb_107b449f15fcrow8_col0\" class=\"data row8 col0\" >0.00014</td>\n",
       "            </tr>\n",
       "            <tr>\n",
       "                        <th id=\"T_dd44a307_0a1b_11ea_a6fb_107b449f15fclevel0_row9\" class=\"row_heading level0 row9\" >рамка</th>\n",
       "                        <td id=\"T_dd44a307_0a1b_11ea_a6fb_107b449f15fcrow9_col0\" class=\"data row9 col0\" >0.00014</td>\n",
       "            </tr>\n",
       "    </tbody></table>"
      ]
     },
     "metadata": {},
     "output_type": "display_data"
    },
    {
     "data": {
      "text/html": [
       "<b> физиология микроводорослей </b><br /> биолог дмитрий лось о видовом разнообразии, очистке воздуха для космических полетов и полиненасыщенных жирных кислотах"
      ]
     },
     "metadata": {},
     "output_type": "display_data"
    },
    {
     "data": {
      "text/html": [
       "<b> когда мы станем бессмертными? </b><br /> биофизик петр федичев о диагностике инфекционных заболеваний, бессмертных животных и  «умных» машинах"
      ]
     },
     "metadata": {},
     "output_type": "display_data"
    },
    {
     "data": {
      "text/html": [
       "<b> тераностика </b><br /> биолог  сергей деев об идее магической пули, гибридных структурах и наночастицах золота"
      ]
     },
     "metadata": {},
     "output_type": "display_data"
    },
    {
     "data": {
      "text/html": [
       "<b> антибиотики и простуда у детей </b><br /> педиатр владимир таточенко об устойчивости бактериальной флоры,  детских заболеваниях и проблеме антибиотиков"
      ]
     },
     "metadata": {},
     "output_type": "display_data"
    },
    {
     "data": {
      "text/html": [
       "<b> государство в теории международных отношений </b><br /> политолог василий жарков о субъектах международных отношений, государственном суверенитете и концепции международного сообщества"
      ]
     },
     "metadata": {},
     "output_type": "display_data"
    },
    {
     "data": {
      "text/html": [
       "<b> адвентивная флора </b><br /> биолог сергей майоров о хантавирусе в северной америке, семенах бамбука и адвентивной флоре москвы"
      ]
     },
     "metadata": {},
     "output_type": "display_data"
    },
    {
     "data": {
      "text/html": [
       "<b> 5 фильмов об идеологии </b><br /> что смотреть о политических течениях и власти идеологии над обществом, рекомендует философ александр павлов"
      ]
     },
     "metadata": {},
     "output_type": "display_data"
    },
    {
     "data": {
      "text/html": [
       "<b> критерий смерти </b><br /> философ елена брызгалина о модели «врач-пациент», смерти мозга и современном обществе"
      ]
     },
     "metadata": {},
     "output_type": "display_data"
    },
    {
     "data": {
      "text/html": [
       "<b> \"диалоги\" постнауки </b><br /> постнаука совместно кц зил запускает новый лекционный формат \"диалоги\""
      ]
     },
     "metadata": {},
     "output_type": "display_data"
    },
    {
     "data": {
      "text/html": [
       "<b> «диалоги» зачем нужна биоинформатика </b><br /> 13 июня пройдет лекция с участием м. гельфанда и к. северинова"
      ]
     },
     "metadata": {},
     "output_type": "display_data"
    },
    {
     "data": {
      "text/html": [
       "<style  type=\"text/css\" >\n",
       "</style><table id=\"T_dd44a308_0a1b_11ea_a6fb_107b449f15fc\" style='display:inline'><thead>    <tr>        <th class=\"blank level0\" ></th>        <th class=\"col_heading level0 col0\" >bcg_28 @2gramm</th>    </tr></thead><tbody>\n",
       "                <tr>\n",
       "                        <th id=\"T_dd44a308_0a1b_11ea_a6fb_107b449f15fclevel0_row0\" class=\"row_heading level0 row0\" >различный_площадка</th>\n",
       "                        <td id=\"T_dd44a308_0a1b_11ea_a6fb_107b449f15fcrow0_col0\" class=\"data row0 col0\" >0.00869</td>\n",
       "            </tr>\n",
       "            <tr>\n",
       "                        <th id=\"T_dd44a308_0a1b_11ea_a6fb_107b449f15fclevel0_row1\" class=\"row_heading level0 row1\" >привычный_формат</th>\n",
       "                        <td id=\"T_dd44a308_0a1b_11ea_a6fb_107b449f15fcrow1_col0\" class=\"data row1 col0\" >0.00804</td>\n",
       "            </tr>\n",
       "            <tr>\n",
       "                        <th id=\"T_dd44a308_0a1b_11ea_a6fb_107b449f15fclevel0_row2\" class=\"row_heading level0 row2\" >ход_лекция</th>\n",
       "                        <td id=\"T_dd44a308_0a1b_11ea_a6fb_107b449f15fcrow2_col0\" class=\"data row2 col0\" >0.00765</td>\n",
       "            </tr>\n",
       "            <tr>\n",
       "                        <th id=\"T_dd44a308_0a1b_11ea_a6fb_107b449f15fclevel0_row3\" class=\"row_heading level0 row3\" >писать_postnauka</th>\n",
       "                        <td id=\"T_dd44a308_0a1b_11ea_a6fb_107b449f15fcrow3_col0\" class=\"data row3 col0\" >0.00664</td>\n",
       "            </tr>\n",
       "            <tr>\n",
       "                        <th id=\"T_dd44a308_0a1b_11ea_a6fb_107b449f15fclevel0_row4\" class=\"row_heading level0 row4\" >xix_век</th>\n",
       "                        <td id=\"T_dd44a308_0a1b_11ea_a6fb_107b449f15fcrow4_col0\" class=\"data row4 col0\" >0.00306</td>\n",
       "            </tr>\n",
       "            <tr>\n",
       "                        <th id=\"T_dd44a308_0a1b_11ea_a6fb_107b449f15fclevel0_row5\" class=\"row_heading level0 row5\" >рамка_проект</th>\n",
       "                        <td id=\"T_dd44a308_0a1b_11ea_a6fb_107b449f15fcrow5_col0\" class=\"data row5 col0\" >0.00166</td>\n",
       "            </tr>\n",
       "            <tr>\n",
       "                        <th id=\"T_dd44a308_0a1b_11ea_a6fb_107b449f15fclevel0_row6\" class=\"row_heading level0 row6\" >российский_империя</th>\n",
       "                        <td id=\"T_dd44a308_0a1b_11ea_a6fb_107b449f15fcrow6_col0\" class=\"data row6 col0\" >0.0015</td>\n",
       "            </tr>\n",
       "            <tr>\n",
       "                        <th id=\"T_dd44a308_0a1b_11ea_a6fb_107b449f15fclevel0_row7\" class=\"row_heading level0 row7\" >образ_жизнь</th>\n",
       "                        <td id=\"T_dd44a308_0a1b_11ea_a6fb_107b449f15fcrow7_col0\" class=\"data row7 col0\" >0.00138</td>\n",
       "            </tr>\n",
       "            <tr>\n",
       "                        <th id=\"T_dd44a308_0a1b_11ea_a6fb_107b449f15fclevel0_row8\" class=\"row_heading level0 row8\" >xx_век</th>\n",
       "                        <td id=\"T_dd44a308_0a1b_11ea_a6fb_107b449f15fcrow8_col0\" class=\"data row8 col0\" >0.00138</td>\n",
       "            </tr>\n",
       "            <tr>\n",
       "                        <th id=\"T_dd44a308_0a1b_11ea_a6fb_107b449f15fclevel0_row9\" class=\"row_heading level0 row9\" >хх_век</th>\n",
       "                        <td id=\"T_dd44a308_0a1b_11ea_a6fb_107b449f15fcrow9_col0\" class=\"data row9 col0\" >0.00119</td>\n",
       "            </tr>\n",
       "    </tbody></table><style  type=\"text/css\" >\n",
       "</style><table id=\"T_dd44a309_0a1b_11ea_a6fb_107b449f15fc\" style='display:inline'><thead>    <tr>        <th class=\"blank level0\" ></th>        <th class=\"col_heading level0 col0\" >bcg_28 @3gramm</th>    </tr></thead><tbody>\n",
       "                <tr>\n",
       "                        <th id=\"T_dd44a309_0a1b_11ea_a6fb_107b449f15fclevel0_row0\" class=\"row_heading level0 row0\" >конец_xx_век</th>\n",
       "                        <td id=\"T_dd44a309_0a1b_11ea_a6fb_107b449f15fcrow0_col0\" class=\"data row0 col0\" >0.15551</td>\n",
       "            </tr>\n",
       "            <tr>\n",
       "                        <th id=\"T_dd44a309_0a1b_11ea_a6fb_107b449f15fclevel0_row1\" class=\"row_heading level0 row1\" >конец_xviii_век</th>\n",
       "                        <td id=\"T_dd44a309_0a1b_11ea_a6fb_107b449f15fcrow1_col0\" class=\"data row1 col0\" >0.15192</td>\n",
       "            </tr>\n",
       "            <tr>\n",
       "                        <th id=\"T_dd44a309_0a1b_11ea_a6fb_107b449f15fclevel0_row2\" class=\"row_heading level0 row2\" >начало_хх_век</th>\n",
       "                        <td id=\"T_dd44a309_0a1b_11ea_a6fb_107b449f15fcrow2_col0\" class=\"data row2 col0\" >0.12643</td>\n",
       "            </tr>\n",
       "            <tr>\n",
       "                        <th id=\"T_dd44a309_0a1b_11ea_a6fb_107b449f15fclevel0_row3\" class=\"row_heading level0 row3\" >половина_хх_век</th>\n",
       "                        <td id=\"T_dd44a309_0a1b_11ea_a6fb_107b449f15fcrow3_col0\" class=\"data row3 col0\" >0.08859</td>\n",
       "            </tr>\n",
       "            <tr>\n",
       "                        <th id=\"T_dd44a309_0a1b_11ea_a6fb_107b449f15fclevel0_row4\" class=\"row_heading level0 row4\" >существовать_огромный_количество</th>\n",
       "                        <td id=\"T_dd44a309_0a1b_11ea_a6fb_107b449f15fcrow4_col0\" class=\"data row4 col0\" >0.05894</td>\n",
       "            </tr>\n",
       "            <tr>\n",
       "                        <th id=\"T_dd44a309_0a1b_11ea_a6fb_107b449f15fclevel0_row5\" class=\"row_heading level0 row5\" >каков_история_изучение</th>\n",
       "                        <td id=\"T_dd44a309_0a1b_11ea_a6fb_107b449f15fcrow5_col0\" class=\"data row5 col0\" >0.0566</td>\n",
       "            </tr>\n",
       "            <tr>\n",
       "                        <th id=\"T_dd44a309_0a1b_11ea_a6fb_107b449f15fclevel0_row6\" class=\"row_heading level0 row6\" >довольно_большой_количество</th>\n",
       "                        <td id=\"T_dd44a309_0a1b_11ea_a6fb_107b449f15fcrow6_col0\" class=\"data row6 col0\" >0.05333</td>\n",
       "            </tr>\n",
       "            <tr>\n",
       "                        <th id=\"T_dd44a309_0a1b_11ea_a6fb_107b449f15fclevel0_row7\" class=\"row_heading level0 row7\" >конец_прошлое_век</th>\n",
       "                        <td id=\"T_dd44a309_0a1b_11ea_a6fb_107b449f15fcrow7_col0\" class=\"data row7 col0\" >0.04951</td>\n",
       "            </tr>\n",
       "            <tr>\n",
       "                        <th id=\"T_dd44a309_0a1b_11ea_a6fb_107b449f15fclevel0_row8\" class=\"row_heading level0 row8\" >треть_xx_век</th>\n",
       "                        <td id=\"T_dd44a309_0a1b_11ea_a6fb_107b449f15fcrow8_col0\" class=\"data row8 col0\" >0.0319</td>\n",
       "            </tr>\n",
       "            <tr>\n",
       "                        <th id=\"T_dd44a309_0a1b_11ea_a6fb_107b449f15fclevel0_row9\" class=\"row_heading level0 row9\" >территория_ближний_восток</th>\n",
       "                        <td id=\"T_dd44a309_0a1b_11ea_a6fb_107b449f15fcrow9_col0\" class=\"data row9 col0\" >0.02801</td>\n",
       "            </tr>\n",
       "    </tbody></table><style  type=\"text/css\" >\n",
       "</style><table id=\"T_dd44a30a_0a1b_11ea_a6fb_107b449f15fc\" style='display:inline'><thead>    <tr>        <th class=\"blank level0\" ></th>        <th class=\"col_heading level0 col0\" >bcg_28 @post_tag</th>    </tr></thead><tbody>\n",
       "                <tr>\n",
       "                        <th id=\"T_dd44a30a_0a1b_11ea_a6fb_107b449f15fclevel0_row0\" class=\"row_heading level0 row0\" >культура</th>\n",
       "                        <td id=\"T_dd44a30a_0a1b_11ea_a6fb_107b449f15fcrow0_col0\" class=\"data row0 col0\" >0.21737</td>\n",
       "            </tr>\n",
       "            <tr>\n",
       "                        <th id=\"T_dd44a30a_0a1b_11ea_a6fb_107b449f15fclevel0_row1\" class=\"row_heading level0 row1\" >общество</th>\n",
       "                        <td id=\"T_dd44a30a_0a1b_11ea_a6fb_107b449f15fcrow1_col0\" class=\"data row1 col0\" >0.1529</td>\n",
       "            </tr>\n",
       "            <tr>\n",
       "                        <th id=\"T_dd44a30a_0a1b_11ea_a6fb_107b449f15fclevel0_row2\" class=\"row_heading level0 row2\" >россия</th>\n",
       "                        <td id=\"T_dd44a30a_0a1b_11ea_a6fb_107b449f15fcrow2_col0\" class=\"data row2 col0\" >0.14323</td>\n",
       "            </tr>\n",
       "            <tr>\n",
       "                        <th id=\"T_dd44a30a_0a1b_11ea_a6fb_107b449f15fclevel0_row3\" class=\"row_heading level0 row3\" >история</th>\n",
       "                        <td id=\"T_dd44a30a_0a1b_11ea_a6fb_107b449f15fcrow3_col0\" class=\"data row3 col0\" >0.11905</td>\n",
       "            </tr>\n",
       "            <tr>\n",
       "                        <th id=\"T_dd44a30a_0a1b_11ea_a6fb_107b449f15fclevel0_row4\" class=\"row_heading level0 row4\" >человек</th>\n",
       "                        <td id=\"T_dd44a30a_0a1b_11ea_a6fb_107b449f15fcrow4_col0\" class=\"data row4 col0\" >0.07329</td>\n",
       "            </tr>\n",
       "            <tr>\n",
       "                        <th id=\"T_dd44a30a_0a1b_11ea_a6fb_107b449f15fclevel0_row5\" class=\"row_heading level0 row5\" >антропология</th>\n",
       "                        <td id=\"T_dd44a30a_0a1b_11ea_a6fb_107b449f15fcrow5_col0\" class=\"data row5 col0\" >0.0707</td>\n",
       "            </tr>\n",
       "            <tr>\n",
       "                        <th id=\"T_dd44a30a_0a1b_11ea_a6fb_107b449f15fclevel0_row6\" class=\"row_heading level0 row6\" >искусство</th>\n",
       "                        <td id=\"T_dd44a30a_0a1b_11ea_a6fb_107b449f15fcrow6_col0\" class=\"data row6 col0\" >0.03341</td>\n",
       "            </tr>\n",
       "            <tr>\n",
       "                        <th id=\"T_dd44a30a_0a1b_11ea_a6fb_107b449f15fclevel0_row7\" class=\"row_heading level0 row7\" >искусствоведение</th>\n",
       "                        <td id=\"T_dd44a30a_0a1b_11ea_a6fb_107b449f15fcrow7_col0\" class=\"data row7 col0\" >0.01789</td>\n",
       "            </tr>\n",
       "            <tr>\n",
       "                        <th id=\"T_dd44a30a_0a1b_11ea_a6fb_107b449f15fclevel0_row8\" class=\"row_heading level0 row8\" >демография</th>\n",
       "                        <td id=\"T_dd44a30a_0a1b_11ea_a6fb_107b449f15fcrow8_col0\" class=\"data row8 col0\" >0.00869</td>\n",
       "            </tr>\n",
       "            <tr>\n",
       "                        <th id=\"T_dd44a30a_0a1b_11ea_a6fb_107b449f15fclevel0_row9\" class=\"row_heading level0 row9\" >северный_кавказ</th>\n",
       "                        <td id=\"T_dd44a30a_0a1b_11ea_a6fb_107b449f15fcrow9_col0\" class=\"data row9 col0\" >0.00516</td>\n",
       "            </tr>\n",
       "    </tbody></table><style  type=\"text/css\" >\n",
       "</style><table id=\"T_dd44a30b_0a1b_11ea_a6fb_107b449f15fc\" style='display:inline'><thead>    <tr>        <th class=\"blank level0\" ></th>        <th class=\"col_heading level0 col0\" >bcg_28 @word</th>    </tr></thead><tbody>\n",
       "                <tr>\n",
       "                        <th id=\"T_dd44a30b_0a1b_11ea_a6fb_107b449f15fclevel0_row0\" class=\"row_heading level0 row0\" >лекция</th>\n",
       "                        <td id=\"T_dd44a30b_0a1b_11ea_a6fb_107b449f15fcrow0_col0\" class=\"data row0 col0\" >0.00058</td>\n",
       "            </tr>\n",
       "            <tr>\n",
       "                        <th id=\"T_dd44a30b_0a1b_11ea_a6fb_107b449f15fclevel0_row1\" class=\"row_heading level0 row1\" >прочитать</th>\n",
       "                        <td id=\"T_dd44a30b_0a1b_11ea_a6fb_107b449f15fcrow1_col0\" class=\"data row1 col0\" >0.00056</td>\n",
       "            </tr>\n",
       "            <tr>\n",
       "                        <th id=\"T_dd44a30b_0a1b_11ea_a6fb_107b449f15fclevel0_row2\" class=\"row_heading level0 row2\" >postnauka</th>\n",
       "                        <td id=\"T_dd44a30b_0a1b_11ea_a6fb_107b449f15fcrow2_col0\" class=\"data row2 col0\" >0.00047</td>\n",
       "            </tr>\n",
       "            <tr>\n",
       "                        <th id=\"T_dd44a30b_0a1b_11ea_a6fb_107b449f15fclevel0_row3\" class=\"row_heading level0 row3\" >посоветовать</th>\n",
       "                        <td id=\"T_dd44a30b_0a1b_11ea_a6fb_107b449f15fcrow3_col0\" class=\"data row3 col0\" >0.00046</td>\n",
       "            </tr>\n",
       "            <tr>\n",
       "                        <th id=\"T_dd44a30b_0a1b_11ea_a6fb_107b449f15fclevel0_row4\" class=\"row_heading level0 row4\" >рубрика</th>\n",
       "                        <td id=\"T_dd44a30b_0a1b_11ea_a6fb_107b449f15fcrow4_col0\" class=\"data row4 col0\" >0.00041</td>\n",
       "            </tr>\n",
       "            <tr>\n",
       "                        <th id=\"T_dd44a30b_0a1b_11ea_a6fb_107b449f15fclevel0_row5\" class=\"row_heading level0 row5\" >публиковать</th>\n",
       "                        <td id=\"T_dd44a30b_0a1b_11ea_a6fb_107b449f15fcrow5_col0\" class=\"data row5 col0\" >0.00041</td>\n",
       "            </tr>\n",
       "            <tr>\n",
       "                        <th id=\"T_dd44a30b_0a1b_11ea_a6fb_107b449f15fclevel0_row6\" class=\"row_heading level0 row6\" >выбирать</th>\n",
       "                        <td id=\"T_dd44a30b_0a1b_11ea_a6fb_107b449f15fcrow6_col0\" class=\"data row6 col0\" >0.00023</td>\n",
       "            </tr>\n",
       "            <tr>\n",
       "                        <th id=\"T_dd44a30b_0a1b_11ea_a6fb_107b449f15fclevel0_row7\" class=\"row_heading level0 row7\" >каков</th>\n",
       "                        <td id=\"T_dd44a30b_0a1b_11ea_a6fb_107b449f15fcrow7_col0\" class=\"data row7 col0\" >0.00023</td>\n",
       "            </tr>\n",
       "            <tr>\n",
       "                        <th id=\"T_dd44a30b_0a1b_11ea_a6fb_107b449f15fclevel0_row8\" class=\"row_heading level0 row8\" >pcourse</th>\n",
       "                        <td id=\"T_dd44a30b_0a1b_11ea_a6fb_107b449f15fcrow8_col0\" class=\"data row8 col0\" >0.0002</td>\n",
       "            </tr>\n",
       "            <tr>\n",
       "                        <th id=\"T_dd44a30b_0a1b_11ea_a6fb_107b449f15fclevel0_row9\" class=\"row_heading level0 row9\" >num</th>\n",
       "                        <td id=\"T_dd44a30b_0a1b_11ea_a6fb_107b449f15fcrow9_col0\" class=\"data row9 col0\" >0.0002</td>\n",
       "            </tr>\n",
       "    </tbody></table>"
      ]
     },
     "metadata": {},
     "output_type": "display_data"
    },
    {
     "data": {
      "text/html": [
       "<b> антропология населения индии </b><br /> антрополог сергей арутюнов об очагах расообразования, мезоиндийском типе и языковом разнообразии"
      ]
     },
     "metadata": {},
     "output_type": "display_data"
    },
    {
     "data": {
      "text/html": [
       "<b> теория первобытности </b><br /> антрополог ольга артёмова о концепции первобытности, производящем хозяйстве и равенстве в племени"
      ]
     },
     "metadata": {},
     "output_type": "display_data"
    },
    {
     "data": {
      "text/html": [
       "<b> геймеры о психологии геймеров </b><br /> психолог александр войскунский о позитивных последствиях игровой деятельности, латентном выборе геймеров и об отношении к ним окружающих"
      ]
     },
     "metadata": {},
     "output_type": "display_data"
    },
    {
     "data": {
      "text/html": [
       "<b> историческая травма как культурное явление </b><br /> культуролог илья кукулин об изучении травмы в психоанализе, концентрационных лагерях и коллективной памяти"
      ]
     },
     "metadata": {},
     "output_type": "display_data"
    },
    {
     "data": {
      "text/html": [
       "<b> категория хадзи </b><br /> историк александр мещеряков об отсутствии мародеров в японии, конфуцианстве и стыде у якудза"
      ]
     },
     "metadata": {},
     "output_type": "display_data"
    },
    {
     "data": {
      "text/html": [
       "<b> faqинститут варбурга </b><br /> 7 фактов о знаменитой библиотеке, известной каждому исследователю-гуманитарию"
      ]
     },
     "metadata": {},
     "output_type": "display_data"
    },
    {
     "data": {
      "text/html": [
       "<b> эволюция неравенства </b><br /> антрополог ольга артемова о наследовании социального неравенства, монополизации информации и феминизации общества"
      ]
     },
     "metadata": {},
     "output_type": "display_data"
    },
    {
     "data": {
      "text/html": [
       "<b> теории родового быта </b><br /> антрополог ольга артёмова о родовой организации, патрилинейной модели и билатеральной структуре родства"
      ]
     },
     "metadata": {},
     "output_type": "display_data"
    },
    {
     "data": {
      "text/html": [
       "<b> постсоветский этнический конфликт </b><br /> востоковед алексей малашенко об отмене советских запретов, неизбежности конфликта и выборе идентичности"
      ]
     },
     "metadata": {},
     "output_type": "display_data"
    },
    {
     "data": {
      "text/html": [
       "<b> концепция авангарда </b><br /> искусствовед наталья смолянская о происхождении термина, проблеме автономии художника и наследии романтизма"
      ]
     },
     "metadata": {},
     "output_type": "display_data"
    }
   ],
   "source": [
    "from IPython.display import display_html, display\n",
    "from topicnet.cooking_machine.dataset import get_modality_vw\n",
    "\n",
    "\n",
    "n=None\n",
    "for line, topic_docs in list(zip(first_model_html, first_model_top_doc))[:n]:\n",
    "    display_html(line, raw=True)\n",
    "    for doc_id in topic_docs:\n",
    "        doc_vw = dataset.get_vw_document(doc_id).values[0][0]\n",
    "        doc_title = get_modality_vw(doc_vw, \"@title\")\n",
    "        doc_snippet = get_modality_vw(doc_vw, \"@snippet\")\n",
    "        display_html(f\"<b>{doc_title}</b><br />{doc_snippet}\", raw=True)"
   ]
  },
  {
   "cell_type": "code",
   "execution_count": 23,
   "metadata": {},
   "outputs": [
    {
     "data": {
      "text/plain": [
       "{'@2gramm': 8.780309757546435,\n",
       " '@word': 1.0,\n",
       " '@post_tag': 79.51461372081415,\n",
       " '@3gramm': 245.1655266757866}"
      ]
     },
     "execution_count": 23,
     "metadata": {},
     "output_type": "execute_result"
    }
   ],
   "source": [
    "best_model.class_ids"
   ]
  }
 ],
 "metadata": {
  "kernelspec": {
   "display_name": "Python [conda env:root] *",
   "language": "python",
   "name": "conda-root-py"
  },
  "language_info": {
   "codemirror_mode": {
    "name": "ipython",
    "version": 3
   },
   "file_extension": ".py",
   "mimetype": "text/x-python",
   "name": "python",
   "nbconvert_exporter": "python",
   "pygments_lexer": "ipython3",
   "version": "3.6.9"
  }
 },
 "nbformat": 4,
 "nbformat_minor": 2
}
