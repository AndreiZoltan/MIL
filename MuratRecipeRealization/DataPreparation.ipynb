{
 "cells": [
  {
   "cell_type": "code",
   "execution_count": 1,
   "metadata": {},
   "outputs": [],
   "source": [
    "import nltk\n",
    "import artm\n",
    "import re\n",
    "from tqdm.notebook import tqdm\n",
    "import string\n",
    "from topicnet.cooking_machine.dataset import Dataset\n",
    "from tokenizer import SpacyRulesRussianTokenizer\n",
    "from lemmatizer import Pymorphy2Lemmatizer\n",
    "\n",
    "import pandas as pd\n",
    "from glob import glob\n",
    "\n",
    "HABR_DATA_PATH = '/home/sultan/datasets/habr/'\n",
    "files = glob(HABR_DATA_PATH+'*.txt')"
   ]
  },
  {
   "cell_type": "markdown",
   "metadata": {},
   "source": [
    "### Избавляемся от лишних символов и оставляем только raw_text"
   ]
  },
  {
   "cell_type": "code",
   "execution_count": 2,
   "metadata": {},
   "outputs": [],
   "source": [
    "cyrilic_letters = \"аАбБвВгГдДеЕёЁжЖзЗиИйЙкКлЛмМнНоОпПрРсСтТуУфФхХцЦчЧшШщЩъЪыЫьЬэЭюЮяЯ\""
   ]
  },
  {
   "cell_type": "code",
   "execution_count": 3,
   "metadata": {},
   "outputs": [
    {
     "data": {
      "application/vnd.jupyter.widget-view+json": {
       "model_id": "9d908dce02434cbd9523593433866b89",
       "version_major": 2,
       "version_minor": 0
      },
      "text/plain": [
       "HBox(children=(IntProgress(value=0, max=10706), HTML(value='')))"
      ]
     },
     "metadata": {},
     "output_type": "display_data"
    },
    {
     "name": "stdout",
     "output_type": "stream",
     "text": [
      "\n",
      "Index(['id', 'raw_text'], dtype='object')\n"
     ]
    }
   ],
   "source": [
    "right_symbols = string.ascii_letters + cyrilic_letters + ' '\n",
    "data = []\n",
    "for path in tqdm(files):\n",
    "    entry = {}\n",
    "    entry['id'] = path.split('/')[-1].split('.')[0]\n",
    "    with open(path,'r') as f:\n",
    "        next(f)\n",
    "        next(f)\n",
    "        text = f.read().replace(\"\\n\", ' ')\n",
    "        text = ''.join([char for char in text if char in right_symbols])\n",
    "        text = ' '.join(text.split())\n",
    "        entry['raw_text'] = ''.join(text.split('\\n'))\n",
    "    data.append(entry)\n",
    "habr_texts = pd.DataFrame(data)\n",
    "print(habr_texts.columns)"
   ]
  },
  {
   "cell_type": "markdown",
   "metadata": {},
   "source": [
    "### Делаем токенизацию и лемматизацию"
   ]
  },
  {
   "cell_type": "code",
   "execution_count": 4,
   "metadata": {
    "scrolled": true
   },
   "outputs": [
    {
     "data": {
      "application/vnd.jupyter.widget-view+json": {
       "model_id": "8d2216c77c2e41dbb9eefdc12642fd0e",
       "version_major": 2,
       "version_minor": 0
      },
      "text/plain": [
       "HBox(children=(IntProgress(value=0, max=10706), HTML(value='')))"
      ]
     },
     "metadata": {},
     "output_type": "display_data"
    },
    {
     "name": "stdout",
     "output_type": "stream",
     "text": [
      "\n"
     ]
    }
   ],
   "source": [
    "lemmatized_text = []\n",
    "lemmatizer = Pymorphy2Lemmatizer()\n",
    "tokenizer = SpacyRulesRussianTokenizer()\n",
    "for text in tqdm(habr_texts['raw_text'].values):\n",
    "    text = tokenizer.transform_element(text)\n",
    "    lemmatized = lemmatizer.transform_string(text)\n",
    "    lemmatized_text.append(lemmatized)\n",
    "habr_texts['lemmatized'] = lemmatized_text"
   ]
  },
  {
   "cell_type": "markdown",
   "metadata": {},
   "source": [
    "### Переводим лемматизированный текст к Vowpal Wabbit"
   ]
  },
  {
   "cell_type": "code",
   "execution_count": 5,
   "metadata": {},
   "outputs": [
    {
     "data": {
      "application/vnd.jupyter.widget-view+json": {
       "model_id": "79d305432e334486a96a6dbc610fb6cb",
       "version_major": 2,
       "version_minor": 0
      },
      "text/plain": [
       "HBox(children=(IntProgress(value=1, bar_style='info', max=1), HTML(value='')))"
      ]
     },
     "metadata": {},
     "output_type": "display_data"
    },
    {
     "name": "stdout",
     "output_type": "stream",
     "text": [
      "\n"
     ]
    }
   ],
   "source": [
    "vw_text = []\n",
    "for index, data in tqdm(habr_texts.iterrows()):\n",
    "    vw_string = ''\n",
    "    doc_id = data.id\n",
    "    lemmatized = '@word ' + ' '.join(data.lemmatized)\n",
    "    vw_string = ' |'.join([doc_id, lemmatized])\n",
    "    vw_text.append(vw_string)\n",
    "habr_texts['vw_text'] = vw_text"
   ]
  },
  {
   "cell_type": "markdown",
   "metadata": {},
   "source": [
    "### Сохраняем в формате csv"
   ]
  },
  {
   "cell_type": "code",
   "execution_count": 6,
   "metadata": {},
   "outputs": [],
   "source": [
    "#DATA_PATH_SUB = 'DataPreparation.csv'\n",
    "DATA_PATH_SUB = 'DataPreparation.csv'\n",
    "habr_texts[['id','raw_text', 'vw_text']].to_csv(DATA_PATH_SUB)"
   ]
  },
  {
   "cell_type": "markdown",
   "metadata": {},
   "source": [
    "### Получаем словарь с помощью get_dictionary для последующей \"очистки\" текста от слишком частотных и слишком редких слов"
   ]
  },
  {
   "cell_type": "code",
   "execution_count": 7,
   "metadata": {},
   "outputs": [
    {
     "name": "stderr",
     "output_type": "stream",
     "text": [
      "/home/sultan/miniconda3/lib/python3.6/site-packages/topicnet/cooking_machine/dataset.py:343: UserWarning: Attempted to use batches for different dataset.Overwriting batches in DataPreparation_batches\n",
      "  warnings.warn(W_DIFF_BATCHES_1 + W_DIFF_BATCHES_2.format(batch_vectorizer_path))\n"
     ]
    }
   ],
   "source": [
    "dataset = Dataset(DATA_PATH_SUB)\n",
    "dictionary = dataset.get_dictionary()"
   ]
  },
  {
   "cell_type": "code",
   "execution_count": 8,
   "metadata": {},
   "outputs": [
    {
     "name": "stdout",
     "output_type": "stream",
     "text": [
      "name: dac308e1-e5c2-481f-a530-4b369c4547ca num_items: 10706\r\n",
      "token, class_id, token_value, token_tf, token_df\r\n",
      "bittorrentвложение, @word, 4.954623022968008e-07, 1.0, 1.0\r\n",
      "myfabrik, @word, 4.954623022968008e-07, 1.0, 1.0\r\n",
      "effortless, @word, 4.954623022968008e-07, 1.0, 1.0\r\n",
      "zapr, @word, 9.909246045936015e-07, 2.0, 1.0\r\n",
      "родственик, @word, 4.954623022968008e-07, 1.0, 1.0\r\n",
      "завяк, @word, 4.954623022968008e-07, 1.0, 1.0\r\n",
      "полухакерский, @word, 4.954623022968008e-07, 1.0, 1.0\r\n",
      "гастарбайтер, @word, 4.954623022968008e-07, 1.0, 1.0\r\n"
     ]
    }
   ],
   "source": [
    "dictionary.save_text(\"dict.txt\")\n",
    "! head dict.txt"
   ]
  },
  {
   "cell_type": "code",
   "execution_count": 9,
   "metadata": {},
   "outputs": [
    {
     "data": {
      "text/plain": [
       "(83880, 5)"
      ]
     },
     "execution_count": 9,
     "metadata": {},
     "output_type": "execute_result"
    }
   ],
   "source": [
    "df = pd.read_csv(\"dict.txt\", skiprows=[0])\n",
    "df.shape"
   ]
  },
  {
   "cell_type": "code",
   "execution_count": 10,
   "metadata": {
    "scrolled": true
   },
   "outputs": [
    {
     "data": {
      "text/html": [
       "<div>\n",
       "<style scoped>\n",
       "    .dataframe tbody tr th:only-of-type {\n",
       "        vertical-align: middle;\n",
       "    }\n",
       "\n",
       "    .dataframe tbody tr th {\n",
       "        vertical-align: top;\n",
       "    }\n",
       "\n",
       "    .dataframe thead th {\n",
       "        text-align: right;\n",
       "    }\n",
       "</style>\n",
       "<table border=\"1\" class=\"dataframe\">\n",
       "  <thead>\n",
       "    <tr style=\"text-align: right;\">\n",
       "      <th></th>\n",
       "      <th>token</th>\n",
       "      <th>class_id</th>\n",
       "      <th>token_value</th>\n",
       "      <th>token_tf</th>\n",
       "      <th>token_df</th>\n",
       "    </tr>\n",
       "  </thead>\n",
       "  <tbody>\n",
       "    <tr>\n",
       "      <th>37696</th>\n",
       "      <td>что</td>\n",
       "      <td>@word</td>\n",
       "      <td>0.011774</td>\n",
       "      <td>23764.0</td>\n",
       "      <td>6773.0</td>\n",
       "    </tr>\n",
       "    <tr>\n",
       "      <th>30446</th>\n",
       "      <td>с</td>\n",
       "      <td>@word</td>\n",
       "      <td>0.011891</td>\n",
       "      <td>23999.0</td>\n",
       "      <td>7106.0</td>\n",
       "    </tr>\n",
       "    <tr>\n",
       "      <th>23653</th>\n",
       "      <td>на</td>\n",
       "      <td>@word</td>\n",
       "      <td>0.017903</td>\n",
       "      <td>36133.0</td>\n",
       "      <td>8301.0</td>\n",
       "    </tr>\n",
       "    <tr>\n",
       "      <th>34732</th>\n",
       "      <td>и</td>\n",
       "      <td>@word</td>\n",
       "      <td>0.028514</td>\n",
       "      <td>57551.0</td>\n",
       "      <td>8846.0</td>\n",
       "    </tr>\n",
       "    <tr>\n",
       "      <th>72022</th>\n",
       "      <td>в</td>\n",
       "      <td>@word</td>\n",
       "      <td>0.033660</td>\n",
       "      <td>67937.0</td>\n",
       "      <td>9184.0</td>\n",
       "    </tr>\n",
       "  </tbody>\n",
       "</table>\n",
       "</div>"
      ],
      "text/plain": [
       "      token  class_id   token_value   token_tf   token_df\n",
       "37696   что     @word      0.011774    23764.0     6773.0\n",
       "30446     с     @word      0.011891    23999.0     7106.0\n",
       "23653    на     @word      0.017903    36133.0     8301.0\n",
       "34732     и     @word      0.028514    57551.0     8846.0\n",
       "72022     в     @word      0.033660    67937.0     9184.0"
      ]
     },
     "execution_count": 10,
     "metadata": {},
     "output_type": "execute_result"
    }
   ],
   "source": [
    "df[df[\" class_id\"] == ' @word'].sort_values(by=[\" token_df\"]).tail()"
   ]
  },
  {
   "cell_type": "code",
   "execution_count": 12,
   "metadata": {},
   "outputs": [
    {
     "data": {
      "text/html": [
       "<div>\n",
       "<style scoped>\n",
       "    .dataframe tbody tr th:only-of-type {\n",
       "        vertical-align: middle;\n",
       "    }\n",
       "\n",
       "    .dataframe tbody tr th {\n",
       "        vertical-align: top;\n",
       "    }\n",
       "\n",
       "    .dataframe thead th {\n",
       "        text-align: right;\n",
       "    }\n",
       "</style>\n",
       "<table border=\"1\" class=\"dataframe\">\n",
       "  <thead>\n",
       "    <tr style=\"text-align: right;\">\n",
       "      <th></th>\n",
       "      <th>token</th>\n",
       "      <th>class_id</th>\n",
       "      <th>token_value</th>\n",
       "      <th>token_tf</th>\n",
       "      <th>token_df</th>\n",
       "    </tr>\n",
       "  </thead>\n",
       "  <tbody>\n",
       "    <tr>\n",
       "      <th>39625</th>\n",
       "      <td>выполнять</td>\n",
       "      <td>@word</td>\n",
       "      <td>0.000116</td>\n",
       "      <td>234.0</td>\n",
       "      <td>197.0</td>\n",
       "    </tr>\n",
       "    <tr>\n",
       "      <th>17316</th>\n",
       "      <td>развиваться</td>\n",
       "      <td>@word</td>\n",
       "      <td>0.000116</td>\n",
       "      <td>234.0</td>\n",
       "      <td>204.0</td>\n",
       "    </tr>\n",
       "    <tr>\n",
       "      <th>44886</th>\n",
       "      <td>телевидение</td>\n",
       "      <td>@word</td>\n",
       "      <td>0.000116</td>\n",
       "      <td>234.0</td>\n",
       "      <td>164.0</td>\n",
       "    </tr>\n",
       "    <tr>\n",
       "      <th>29227</th>\n",
       "      <td>сегмент</td>\n",
       "      <td>@word</td>\n",
       "      <td>0.000116</td>\n",
       "      <td>234.0</td>\n",
       "      <td>181.0</td>\n",
       "    </tr>\n",
       "    <tr>\n",
       "      <th>34694</th>\n",
       "      <td>бюджет</td>\n",
       "      <td>@word</td>\n",
       "      <td>0.000116</td>\n",
       "      <td>235.0</td>\n",
       "      <td>144.0</td>\n",
       "    </tr>\n",
       "    <tr>\n",
       "      <th>45229</th>\n",
       "      <td>алексей</td>\n",
       "      <td>@word</td>\n",
       "      <td>0.000116</td>\n",
       "      <td>235.0</td>\n",
       "      <td>151.0</td>\n",
       "    </tr>\n",
       "    <tr>\n",
       "      <th>43191</th>\n",
       "      <td>направить</td>\n",
       "      <td>@word</td>\n",
       "      <td>0.000116</td>\n",
       "      <td>235.0</td>\n",
       "      <td>216.0</td>\n",
       "    </tr>\n",
       "    <tr>\n",
       "      <th>52754</th>\n",
       "      <td>платный</td>\n",
       "      <td>@word</td>\n",
       "      <td>0.000116</td>\n",
       "      <td>235.0</td>\n",
       "      <td>193.0</td>\n",
       "    </tr>\n",
       "    <tr>\n",
       "      <th>55733</th>\n",
       "      <td>open</td>\n",
       "      <td>@word</td>\n",
       "      <td>0.000116</td>\n",
       "      <td>235.0</td>\n",
       "      <td>145.0</td>\n",
       "    </tr>\n",
       "    <tr>\n",
       "      <th>46503</th>\n",
       "      <td>патент</td>\n",
       "      <td>@word</td>\n",
       "      <td>0.000116</td>\n",
       "      <td>235.0</td>\n",
       "      <td>99.0</td>\n",
       "    </tr>\n",
       "    <tr>\n",
       "      <th>32201</th>\n",
       "      <td>октябрь</td>\n",
       "      <td>@word</td>\n",
       "      <td>0.000117</td>\n",
       "      <td>236.0</td>\n",
       "      <td>212.0</td>\n",
       "    </tr>\n",
       "    <tr>\n",
       "      <th>34492</th>\n",
       "      <td>век</td>\n",
       "      <td>@word</td>\n",
       "      <td>0.000117</td>\n",
       "      <td>236.0</td>\n",
       "      <td>140.0</td>\n",
       "    </tr>\n",
       "    <tr>\n",
       "      <th>38778</th>\n",
       "      <td>относительно</td>\n",
       "      <td>@word</td>\n",
       "      <td>0.000117</td>\n",
       "      <td>236.0</td>\n",
       "      <td>213.0</td>\n",
       "    </tr>\n",
       "    <tr>\n",
       "      <th>39123</th>\n",
       "      <td>ходить</td>\n",
       "      <td>@word</td>\n",
       "      <td>0.000117</td>\n",
       "      <td>236.0</td>\n",
       "      <td>202.0</td>\n",
       "    </tr>\n",
       "    <tr>\n",
       "      <th>42379</th>\n",
       "      <td>ноябрь</td>\n",
       "      <td>@word</td>\n",
       "      <td>0.000117</td>\n",
       "      <td>236.0</td>\n",
       "      <td>192.0</td>\n",
       "    </tr>\n",
       "    <tr>\n",
       "      <th>18934</th>\n",
       "      <td>мероприятие</td>\n",
       "      <td>@word</td>\n",
       "      <td>0.000117</td>\n",
       "      <td>236.0</td>\n",
       "      <td>176.0</td>\n",
       "    </tr>\n",
       "    <tr>\n",
       "      <th>38903</th>\n",
       "      <td>онлайн</td>\n",
       "      <td>@word</td>\n",
       "      <td>0.000117</td>\n",
       "      <td>236.0</td>\n",
       "      <td>167.0</td>\n",
       "    </tr>\n",
       "    <tr>\n",
       "      <th>79385</th>\n",
       "      <td>забыть</td>\n",
       "      <td>@word</td>\n",
       "      <td>0.000117</td>\n",
       "      <td>236.0</td>\n",
       "      <td>206.0</td>\n",
       "    </tr>\n",
       "    <tr>\n",
       "      <th>30095</th>\n",
       "      <td>суп</td>\n",
       "      <td>@word</td>\n",
       "      <td>0.000117</td>\n",
       "      <td>236.0</td>\n",
       "      <td>95.0</td>\n",
       "    </tr>\n",
       "    <tr>\n",
       "      <th>46547</th>\n",
       "      <td>архив</td>\n",
       "      <td>@word</td>\n",
       "      <td>0.000117</td>\n",
       "      <td>237.0</td>\n",
       "      <td>151.0</td>\n",
       "    </tr>\n",
       "  </tbody>\n",
       "</table>\n",
       "</div>"
      ],
      "text/plain": [
       "              token  class_id   token_value   token_tf   token_df\n",
       "39625     выполнять     @word      0.000116      234.0      197.0\n",
       "17316   развиваться     @word      0.000116      234.0      204.0\n",
       "44886   телевидение     @word      0.000116      234.0      164.0\n",
       "29227       сегмент     @word      0.000116      234.0      181.0\n",
       "34694        бюджет     @word      0.000116      235.0      144.0\n",
       "45229       алексей     @word      0.000116      235.0      151.0\n",
       "43191     направить     @word      0.000116      235.0      216.0\n",
       "52754       платный     @word      0.000116      235.0      193.0\n",
       "55733          open     @word      0.000116      235.0      145.0\n",
       "46503        патент     @word      0.000116      235.0       99.0\n",
       "32201       октябрь     @word      0.000117      236.0      212.0\n",
       "34492           век     @word      0.000117      236.0      140.0\n",
       "38778  относительно     @word      0.000117      236.0      213.0\n",
       "39123        ходить     @word      0.000117      236.0      202.0\n",
       "42379        ноябрь     @word      0.000117      236.0      192.0\n",
       "18934   мероприятие     @word      0.000117      236.0      176.0\n",
       "38903        онлайн     @word      0.000117      236.0      167.0\n",
       "79385        забыть     @word      0.000117      236.0      206.0\n",
       "30095           суп     @word      0.000117      236.0       95.0\n",
       "46547         архив     @word      0.000117      237.0      151.0"
      ]
     },
     "execution_count": 12,
     "metadata": {},
     "output_type": "execute_result"
    }
   ],
   "source": [
    "df[df[\" token_tf\"] > 233].sort_values(by=[\" token_tf\"]).head(20)"
   ]
  },
  {
   "cell_type": "markdown",
   "metadata": {},
   "source": [
    "### Выбираем слова от которых мы хотим избавиться и обновляем Vowpal Wabbit"
   ]
  },
  {
   "cell_type": "code",
   "execution_count": 13,
   "metadata": {},
   "outputs": [
    {
     "data": {
      "application/vnd.jupyter.widget-view+json": {
       "model_id": "787091d8290a4945a58a26d808802649",
       "version_major": 2,
       "version_minor": 0
      },
      "text/plain": [
       "HBox(children=(IntProgress(value=1, bar_style='info', max=1), HTML(value='')))"
      ]
     },
     "metadata": {},
     "output_type": "display_data"
    },
    {
     "name": "stdout",
     "output_type": "stream",
     "text": [
      "\n"
     ]
    },
    {
     "data": {
      "application/vnd.jupyter.widget-view+json": {
       "model_id": "fbf8e14b47894cdfb8cc9e7d477297c9",
       "version_major": 2,
       "version_minor": 0
      },
      "text/plain": [
       "HBox(children=(IntProgress(value=1, bar_style='info', max=1), HTML(value='')))"
      ]
     },
     "metadata": {},
     "output_type": "display_data"
    },
    {
     "name": "stdout",
     "output_type": "stream",
     "text": [
      "\n",
      "57042\n"
     ]
    }
   ],
   "source": [
    "bad_words = list()\n",
    "for i, data in tqdm(df[df[\" token_tf\"] > 234].iterrows()):\n",
    "    bad_words.append(df[\"token\"][i])\n",
    "for i, data in tqdm(df[df[\" token_tf\"] < 3].iterrows()):\n",
    "    bad_words.append(df[\"token\"][i])\n",
    "print(len(bad_words))"
   ]
  },
  {
   "cell_type": "code",
   "execution_count": 14,
   "metadata": {
    "scrolled": true
   },
   "outputs": [
    {
     "data": {
      "application/vnd.jupyter.widget-view+json": {
       "model_id": "5e6910ff3bf447a0b83814c4f5e2dbbc",
       "version_major": 2,
       "version_minor": 0
      },
      "text/plain": [
       "HBox(children=(IntProgress(value=0, max=10706), HTML(value='')))"
      ]
     },
     "metadata": {},
     "output_type": "display_data"
    },
    {
     "name": "stdout",
     "output_type": "stream",
     "text": [
      "\n"
     ]
    }
   ],
   "source": [
    "vw_text = []\n",
    "for index, data in tqdm(habr_texts.iterrows(), total=habr_texts.shape[0]):\n",
    "    vw_string = ''\n",
    "    doc_id = data.id\n",
    "    good_words = [word for word in data.lemmatized if word not in bad_words]\n",
    "    lemmatized = '@word ' + ' '.join(good_words)\n",
    "    vw_string = ' |'.join([doc_id, lemmatized])\n",
    "    vw_text.append(vw_string)\n",
    "habr_texts['vw_text'] = vw_text"
   ]
  },
  {
   "cell_type": "markdown",
   "metadata": {},
   "source": [
    "### Записываем в файл"
   ]
  },
  {
   "cell_type": "code",
   "execution_count": 15,
   "metadata": {},
   "outputs": [],
   "source": [
    "DATA_PATH = 'ReadyData.csv'\n",
    "habr_texts[['id','raw_text', 'vw_text']].to_csv(DATA_PATH)"
   ]
  }
 ],
 "metadata": {
  "kernelspec": {
   "display_name": "Python 3",
   "language": "python",
   "name": "python3"
  },
  "language_info": {
   "codemirror_mode": {
    "name": "ipython",
    "version": 3
   },
   "file_extension": ".py",
   "mimetype": "text/x-python",
   "name": "python",
   "nbconvert_exporter": "python",
   "pygments_lexer": "ipython3",
   "version": "3.6.9"
  }
 },
 "nbformat": 4,
 "nbformat_minor": 2
}
