{
 "cells": [
  {
   "cell_type": "code",
   "execution_count": 1,
   "metadata": {},
   "outputs": [],
   "source": [
    "import numpy as np\n",
    "import pandas as pd\n",
    "import matplotlib.pyplot as plt\n",
    "%matplotlib inline\n",
    "import os\n",
    "import time\n",
    "import artm\n",
    "\n",
    "# change log style\n",
    "lc = artm.messages.ConfigureLoggingArgs()\n",
    "lc.minloglevel = 3\n",
    "lib = artm.wrapper.LibArtm(logging_config=lc)\n",
    "\n",
    "import warnings\n",
    "warnings.filterwarnings(\"ignore\", category=DeprecationWarning)"
   ]
  },
  {
   "cell_type": "code",
   "execution_count": 2,
   "metadata": {},
   "outputs": [],
   "source": [
    "from copy import deepcopy\n",
    "from topicnet.cooking_machine.models.topic_model import TopicModel\n",
    "from topicnet.cooking_machine.cubes import RegularizersModifierCube\n",
    "from topicnet.cooking_machine.models.blei_lafferty_score import BleiLaffertyScore\n",
    "from topicnet.cooking_machine.config_parser import build_experiment_environment_from_yaml_config\n",
    "\n",
    "from topicnet.cooking_machine.experiment import Experiment\n",
    "from topicnet.cooking_machine.cubes import *\n",
    "from topicnet.cooking_machine.dataset import Dataset\n",
    "\n",
    "%load_ext autoreload\n",
    "%autoreload 2"
   ]
  },
  {
   "cell_type": "code",
   "execution_count": 3,
   "metadata": {},
   "outputs": [],
   "source": [
    "import topicnet.cooking_machine.cubes as tncubes"
   ]
  },
  {
   "cell_type": "code",
   "execution_count": 4,
   "metadata": {},
   "outputs": [
    {
     "data": {
      "text/html": [
       "<style>\n",
       ".container { width:90% !important; }\n",
       "div.output_scroll .output_subarea { white-space: pre; }\n",
       "</style>"
      ],
      "text/plain": [
       "<IPython.core.display.HTML object>"
      ]
     },
     "metadata": {},
     "output_type": "display_data"
    }
   ],
   "source": [
    "from IPython.core.display import display, HTML\n",
    "from IPython.display import clear_output, display_html\n",
    "display(HTML(\"\"\"<style>\n",
    ".container { width:90% !important; }\n",
    "div.output_scroll .output_subarea { white-space: pre; }\n",
    "</style>\"\"\"))"
   ]
  },
  {
   "cell_type": "markdown",
   "metadata": {},
   "source": [
    "### Get dataset"
   ]
  },
  {
   "cell_type": "code",
   "execution_count": 5,
   "metadata": {},
   "outputs": [],
   "source": [
    "DATASET_PATH = \"/home/sultan/datasets/PScience/PScience.csv\""
   ]
  },
  {
   "cell_type": "code",
   "execution_count": 6,
   "metadata": {},
   "outputs": [],
   "source": [
    "dataset = Dataset(DATASET_PATH)\n",
    "dictionary = dataset.get_dictionary()"
   ]
  },
  {
   "cell_type": "code",
   "execution_count": 7,
   "metadata": {},
   "outputs": [
    {
     "name": "stdout",
     "output_type": "stream",
     "text": [
      "{'@2gramm', '@snippet', '@title', '@post_tag', '@author', '@3gramm', '@word'}\n"
     ]
    },
    {
     "data": {
      "text/html": [
       "<div>\n",
       "<style scoped>\n",
       "    .dataframe tbody tr th:only-of-type {\n",
       "        vertical-align: middle;\n",
       "    }\n",
       "\n",
       "    .dataframe tbody tr th {\n",
       "        vertical-align: top;\n",
       "    }\n",
       "\n",
       "    .dataframe thead th {\n",
       "        text-align: right;\n",
       "    }\n",
       "</style>\n",
       "<table border=\"1\" class=\"dataframe\">\n",
       "  <thead>\n",
       "    <tr style=\"text-align: right;\">\n",
       "      <th></th>\n",
       "      <th>vw_text</th>\n",
       "      <th>raw_text</th>\n",
       "    </tr>\n",
       "    <tr>\n",
       "      <th>id</th>\n",
       "      <th></th>\n",
       "      <th></th>\n",
       "    </tr>\n",
       "  </thead>\n",
       "  <tbody>\n",
       "    <tr>\n",
       "      <th>1.txt</th>\n",
       "      <td>1.txt |@author fuchs preobrazhensky tabachniko...</td>\n",
       "      <td>@title Автограф # «Математический дивертисмент...</td>\n",
       "    </tr>\n",
       "    <tr>\n",
       "      <th>2.txt</th>\n",
       "      <td>2.txt |@word книга:2 лекция:3 рассматриваться:...</td>\n",
       "      <td>@title Главы: Маскулинности в российском конте...</td>\n",
       "    </tr>\n",
       "    <tr>\n",
       "      <th>3.txt</th>\n",
       "      <td>3.txt |@word развитие появляться пиджина:4 бел...</td>\n",
       "      <td>@title Пиджины и креольские языки | @snippet Л...</td>\n",
       "    </tr>\n",
       "    <tr>\n",
       "      <th>4.txt</th>\n",
       "      <td>4.txt |@word стандартный задача:3 состоять:4 р...</td>\n",
       "      <td>@title FAQ: Физиология микроводорослей | @snip...</td>\n",
       "    </tr>\n",
       "    <tr>\n",
       "      <th>5.txt</th>\n",
       "      <td>5.txt |@2gramm повседневный_практика государст...</td>\n",
       "      <td>@title Русская государственная идеология | @sn...</td>\n",
       "    </tr>\n",
       "  </tbody>\n",
       "</table>\n",
       "</div>"
      ],
      "text/plain": [
       "                                                 vw_text  \\\n",
       "id                                                         \n",
       "1.txt  1.txt |@author fuchs preobrazhensky tabachniko...   \n",
       "2.txt  2.txt |@word книга:2 лекция:3 рассматриваться:...   \n",
       "3.txt  3.txt |@word развитие появляться пиджина:4 бел...   \n",
       "4.txt  4.txt |@word стандартный задача:3 состоять:4 р...   \n",
       "5.txt  5.txt |@2gramm повседневный_практика государст...   \n",
       "\n",
       "                                                raw_text  \n",
       "id                                                        \n",
       "1.txt  @title Автограф # «Математический дивертисмент...  \n",
       "2.txt  @title Главы: Маскулинности в российском конте...  \n",
       "3.txt  @title Пиджины и креольские языки | @snippet Л...  \n",
       "4.txt  @title FAQ: Физиология микроводорослей | @snip...  \n",
       "5.txt  @title Русская государственная идеология | @sn...  "
      ]
     },
     "execution_count": 7,
     "metadata": {},
     "output_type": "execute_result"
    }
   ],
   "source": [
    "print(dataset.get_possible_modalities())\n",
    "dataset.get_dataset().head()"
   ]
  },
  {
   "cell_type": "markdown",
   "metadata": {},
   "source": [
    "### Make initial model"
   ]
  },
  {
   "cell_type": "code",
   "execution_count": 8,
   "metadata": {},
   "outputs": [
    {
     "name": "stdout",
     "output_type": "stream",
     "text": [
      "# This config follows a strategy described by Murat Apishev\n",
      "# one of the core programmers of BigARTM library in personal correspondence.\n",
      "# According to his letter 'decent' topic model can be obtained by\n",
      "# Decorrelating model topics simultaneously looking at retrieved TopTokens\n",
      "\n",
      "\n",
      "# Use .format(modality_list=modality_list, main_modality=main_modality, dataset_path=dataset_path,\n",
      "# specific_topics=specific_topics, background_topics=background_topics)\n",
      "# when loading the recipe to adjust for your dataset\n",
      "\n",
      "topics:\n",
      "# Describes number of model topics, better left to the user to define optimal topic number\n",
      "    specific_topics: ['topic_0', 'topic_1', 'topic_2', 'topic_3', 'topic_4', 'topic_5', 'topic_6', 'topic_7', 'topic_8', 'topic_9', 'topic_10', 'topic_11', 'topic_12', 'topic_13', 'topic_14', 'topic_15', 'topic_16', 'topic_17', 'topic_18', 'topic_19', 'topic_20', 'topic_21', 'topic_22', 'topic_23', 'topic_24', 'topic_25', 'topic_26', 'topic_27', 'topic_28', 'topic_29'] \n",
      "    background_topics: ['bcg_30']\n",
      "\n",
      "# Here is example of model with one modality\n",
      "regularizers:\n",
      "    - DecorrelatorPhiRegularizer:\n",
      "        name: decorrelation_phi\n",
      "        topic_names: specific_topics\n",
      "        class_ids: ['@2gramm', '@word', '@post_tag', '@3gramm']\n",
      "    - SmoothSparsePhiRegularizer:\n",
      "        name: smooth_phi_bcg\n",
      "        topic_names: background_topics\n",
      "        class_ids: ['@2gramm', '@word', '@post_tag', '@3gramm']\n",
      "        tau: 0.1\n",
      "        relative: true\n",
      "    - SmoothSparseThetaRegularizer:\n",
      "        name: smooth_theta_bcg\n",
      "        topic_names: background_topics\n",
      "        tau: 0.1\n",
      "        relative: true\n",
      "scores:\n",
      "    - BleiLaffertyScore:\n",
      "        num_top_tokens: 30\n",
      "model: \n",
      "    dataset_path: /home/sultan/datasets/PScience/PScience.csv\n",
      "    modalities_to_use: ['@2gramm', '@word', '@post_tag', '@3gramm']\n",
      "    main_modality: '@word'\n",
      "\n",
      "stages:\n",
      "- RegularizersModifierCube:\n",
      "    num_iter: 20\n",
      "    reg_search: add\n",
      "    regularizer_parameters:\n",
      "        name: decorrelation_phi\n",
      "    selection:\n",
      "        - PerplexityScore@all < 1.05 * MINIMUM(PerplexityScore@all) and BleiLaffertyScore -> max\n",
      "    strategy: PerplexityStrategy\n",
      "    # parameters of this strategy are intended for revision\n",
      "    strategy_params:\n",
      "        start_point: 0\n",
      "        step: 0.01\n",
      "        max_len: 50\n",
      "    tracked_score_function: PerplexityScore@all\n",
      "    verbose: false\n",
      "    use_relative_coefficients: true\n",
      "\n"
     ]
    }
   ],
   "source": [
    "with open(\"/home/sultan/recipes/ARTM_baseline.yml\", \"r\") as f:\n",
    "    yaml_string = f.read()\n",
    "\n",
    "specific_topics = [f'topic_{i}' for i in range(30)]\n",
    "background_topics = [f'bcg_{i}' for i in range(len(specific_topics),len(specific_topics) + 1)]\n",
    "\n",
    "yaml_string = yaml_string.format(\n",
    "    modality_list=['@2gramm', '@word', '@post_tag', '@3gramm'],\n",
    "    main_modality='@word',\n",
    "    dataset_path=DATASET_PATH,\n",
    "    specific_topics=specific_topics,\n",
    "    background_topics=background_topics)\n",
    "\n",
    "print(yaml_string)"
   ]
  },
  {
   "cell_type": "markdown",
   "metadata": {},
   "source": [
    "### Run experiment"
   ]
  },
  {
   "cell_type": "code",
   "execution_count": 9,
   "metadata": {},
   "outputs": [],
   "source": [
    "from topicnet.cooking_machine.experiment import Experiment\n",
    "if os.path.exists(f'./MuratDemo') == True:\n",
    "    os.system(\"rm -rf ./MuratDemo\")\n",
    "experiment, dataset = build_experiment_environment_from_yaml_config(\n",
    "    yaml_string,\n",
    "    experiment_id=\"MuratDemo\",\n",
    "    save_path=\"MuratDemo\"\n",
    ")"
   ]
  },
  {
   "cell_type": "code",
   "execution_count": 10,
   "metadata": {},
   "outputs": [
    {
     "name": "stderr",
     "output_type": "stream",
     "text": [
      "/home/sultan/miniconda3/lib/python3.6/site-packages/topicnet/cooking_machine/cubes/base_cube.py:206: UserWarning: Perplexity is too high for threshold 1.05\n",
      "  warnings.warn(warning_message)\n"
     ]
    },
    {
     "data": {
      "text/plain": [
       "{<topicnet.cooking_machine.models.topic_model.TopicModel at 0x7fb3c42fba20>}"
      ]
     },
     "execution_count": 10,
     "metadata": {},
     "output_type": "execute_result"
    }
   ],
   "source": [
    "experiment.run(dataset)"
   ]
  },
  {
   "cell_type": "code",
   "execution_count": 11,
   "metadata": {},
   "outputs": [
    {
     "data": {
      "text/plain": [
       "Experiment MuratDemo\n",
       "\n",
       "Experiment was made with BigARTM 0.9.0\n",
       "Tree:\n",
       "                                ┌##11h24m55s_13d11m2019y###\n",
       "                                ├##11h25m46s_13d11m2019y###\n",
       "                                ├##11h26m41s_13d11m2019y###\n",
       "<<<<<<<<<<<root>>>>>>>>>>>──────┤\n",
       "                                ├##11h27m36s_13d11m2019y###\n",
       "                                ├##11h28m31s_13d11m2019y###\n",
       "                                └##11h29m25s_13d11m2019y###\n",
       "Cubes:\n",
       " START                          | REG_MODIFIER                                                                                         \n",
       "                                | cube:                                                                                                \n",
       " name:                          |   <topicnet.cooking_machine.cubes.regularizer_cube.RegularizersModifierCube object at 0x7fb3c4190e10>\n",
       "   ARTM                         |                                                                                                      \n",
       " num_processors:                | tau_grid:                                                                                            \n",
       "   3                            |   ---                                                                                                \n",
       " num_topics:                    | name:                                                                                                \n",
       "   31                           |   decorrelation_phi                                                                                  \n",
       " topic_names:                   |                                                                                                      \n",
       "   topic_0,                     |                                                                                                      \n",
       "   topic_1,                     |                                                                                                      \n",
       "   ...,                         |                                                                                                      \n",
       "   topic_29,                    |                                                                                                      \n",
       "   bcg_30                       |                                                                                                      \n",
       " class_ids:                     |                                                                                                      \n",
       "   @2gramm=8.780309757546435,   |                                                                                                      \n",
       "   @word=1.0,                   |                                                                                                      \n",
       "   @post_tag=79.51461372081415, |                                                                                                      \n",
       "   @3gramm=245.1655266757866    |                                                                                                      \n",
       " seed:                          |                                                                                                      \n",
       "   -1                           |                                                                                                      \n",
       "                                |                                                                                                      \n",
       "────────────────────────────────+───────────────────────────────────────────────────────────────────────────────────────────────────────+─────────────────────────────────────────────────────────────────────────────────────────────────────\n",
       "                                | stage criteria 1:                                                                                    \n",
       "                                |     PerplexityScore@all < 1.05 * MINIMUM(PerplexityScore@all)                                        \n",
       "                                |     BleiLaffertyScore -> max                                                                         \n",
       "                                |                                                                                                      "
      ]
     },
     "metadata": {},
     "output_type": "display_data"
    }
   ],
   "source": [
    "experiment.show()"
   ]
  },
  {
   "cell_type": "code",
   "execution_count": 12,
   "metadata": {},
   "outputs": [],
   "source": [
    "best_model = experiment.select(experiment.criteria[-1][0])[0]"
   ]
  },
  {
   "cell_type": "code",
   "execution_count": 13,
   "metadata": {},
   "outputs": [
    {
     "data": {
      "text/html": [
       "<div>\n",
       "<style scoped>\n",
       "    .dataframe tbody tr th:only-of-type {\n",
       "        vertical-align: middle;\n",
       "    }\n",
       "\n",
       "    .dataframe tbody tr th {\n",
       "        vertical-align: top;\n",
       "    }\n",
       "\n",
       "    .dataframe thead th {\n",
       "        text-align: right;\n",
       "    }\n",
       "</style>\n",
       "<table border=\"1\" class=\"dataframe\">\n",
       "  <thead>\n",
       "    <tr style=\"text-align: right;\">\n",
       "      <th></th>\n",
       "      <th></th>\n",
       "      <th>tau</th>\n",
       "      <th>gamma</th>\n",
       "    </tr>\n",
       "    <tr>\n",
       "      <th>model_id</th>\n",
       "      <th>regularizer_name</th>\n",
       "      <th></th>\n",
       "      <th></th>\n",
       "    </tr>\n",
       "  </thead>\n",
       "  <tbody>\n",
       "    <tr>\n",
       "      <th rowspan=\"3\" valign=\"top\">##11h28m31s_13d11m2019y###</th>\n",
       "      <th>smooth_phi_bcg</th>\n",
       "      <td>19.899208</td>\n",
       "      <td>NaN</td>\n",
       "    </tr>\n",
       "    <tr>\n",
       "      <th>smooth_theta_bcg</th>\n",
       "      <td>187.195195</td>\n",
       "      <td>NaN</td>\n",
       "    </tr>\n",
       "    <tr>\n",
       "      <th>decorrelation_phi</th>\n",
       "      <td>0.030000</td>\n",
       "      <td>0.0</td>\n",
       "    </tr>\n",
       "  </tbody>\n",
       "</table>\n",
       "</div>"
      ],
      "text/plain": [
       "                                                     tau  gamma\n",
       "model_id                   regularizer_name                    \n",
       "##11h28m31s_13d11m2019y### smooth_phi_bcg      19.899208    NaN\n",
       "                           smooth_theta_bcg   187.195195    NaN\n",
       "                           decorrelation_phi    0.030000    0.0"
      ]
     },
     "execution_count": 13,
     "metadata": {},
     "output_type": "execute_result"
    }
   ],
   "source": [
    "best_model.describe_regularizers()"
   ]
  },
  {
   "cell_type": "code",
   "execution_count": 14,
   "metadata": {
    "scrolled": true
   },
   "outputs": [
    {
     "data": {
      "text/html": [
       "<div>\n",
       "<style scoped>\n",
       "    .dataframe tbody tr th:only-of-type {\n",
       "        vertical-align: middle;\n",
       "    }\n",
       "\n",
       "    .dataframe tbody tr th {\n",
       "        vertical-align: top;\n",
       "    }\n",
       "\n",
       "    .dataframe thead th {\n",
       "        text-align: right;\n",
       "    }\n",
       "</style>\n",
       "<table border=\"1\" class=\"dataframe\">\n",
       "  <thead>\n",
       "    <tr style=\"text-align: right;\">\n",
       "      <th></th>\n",
       "      <th></th>\n",
       "      <th>last_value</th>\n",
       "    </tr>\n",
       "    <tr>\n",
       "      <th>model_id</th>\n",
       "      <th>score_name</th>\n",
       "      <th></th>\n",
       "    </tr>\n",
       "  </thead>\n",
       "  <tbody>\n",
       "    <tr>\n",
       "      <th rowspan=\"47\" valign=\"top\">##11h28m31s_13d11m2019y###</th>\n",
       "      <th>PerplexityScore@all</th>\n",
       "      <td>1.12113e+10</td>\n",
       "    </tr>\n",
       "    <tr>\n",
       "      <th>SparsityThetaScore</th>\n",
       "      <td>0.0496475</td>\n",
       "    </tr>\n",
       "    <tr>\n",
       "      <th>SparsityPhiScore@2gramm</th>\n",
       "      <td>0.647095</td>\n",
       "    </tr>\n",
       "    <tr>\n",
       "      <th>PerplexityScore@2gramm</th>\n",
       "      <td>2025.87</td>\n",
       "    </tr>\n",
       "    <tr>\n",
       "      <th>TopicKernel@2gramm.average_coherence</th>\n",
       "      <td>0</td>\n",
       "    </tr>\n",
       "    <tr>\n",
       "      <th>TopicKernel@2gramm.average_contrast</th>\n",
       "      <td>0.498668</td>\n",
       "    </tr>\n",
       "    <tr>\n",
       "      <th>TopicKernel@2gramm.average_purity</th>\n",
       "      <td>0.385329</td>\n",
       "    </tr>\n",
       "    <tr>\n",
       "      <th>TopicKernel@2gramm.average_size</th>\n",
       "      <td>270.839</td>\n",
       "    </tr>\n",
       "    <tr>\n",
       "      <th>TopicKernel@2gramm.coherence</th>\n",
       "      <td>{'topic_0': 0.0, 'topic_1': 0.0, 'topic_2': 0....</td>\n",
       "    </tr>\n",
       "    <tr>\n",
       "      <th>TopicKernel@2gramm.contrast</th>\n",
       "      <td>{'topic_0': 0.5064159035682678, 'topic_1': 0.4...</td>\n",
       "    </tr>\n",
       "    <tr>\n",
       "      <th>TopicKernel@2gramm.purity</th>\n",
       "      <td>{'topic_0': 0.4095296561717987, 'topic_1': 0.3...</td>\n",
       "    </tr>\n",
       "    <tr>\n",
       "      <th>TopicKernel@2gramm.size</th>\n",
       "      <td>{'topic_0': 197.0, 'topic_1': 246.0, 'topic_2'...</td>\n",
       "    </tr>\n",
       "    <tr>\n",
       "      <th>TopicKernel@2gramm.tokens</th>\n",
       "      <td>{'topic_0': ['молекула_память', 'функция_мозг'...</td>\n",
       "    </tr>\n",
       "    <tr>\n",
       "      <th>SparsityPhiScore@word</th>\n",
       "      <td>0.493199</td>\n",
       "    </tr>\n",
       "    <tr>\n",
       "      <th>PerplexityScore@word</th>\n",
       "      <td>3340</td>\n",
       "    </tr>\n",
       "    <tr>\n",
       "      <th>TopicKernel@word.average_coherence</th>\n",
       "      <td>0</td>\n",
       "    </tr>\n",
       "    <tr>\n",
       "      <th>TopicKernel@word.average_contrast</th>\n",
       "      <td>0.465291</td>\n",
       "    </tr>\n",
       "    <tr>\n",
       "      <th>TopicKernel@word.average_purity</th>\n",
       "      <td>0.137143</td>\n",
       "    </tr>\n",
       "    <tr>\n",
       "      <th>TopicKernel@word.average_size</th>\n",
       "      <td>520.032</td>\n",
       "    </tr>\n",
       "    <tr>\n",
       "      <th>TopicKernel@word.coherence</th>\n",
       "      <td>{'topic_0': 0.0, 'topic_1': 0.0, 'topic_2': 0....</td>\n",
       "    </tr>\n",
       "    <tr>\n",
       "      <th>TopicKernel@word.contrast</th>\n",
       "      <td>{'topic_0': 0.4519045948982239, 'topic_1': 0.4...</td>\n",
       "    </tr>\n",
       "    <tr>\n",
       "      <th>TopicKernel@word.purity</th>\n",
       "      <td>{'topic_0': 0.11439121514558792, 'topic_1': 0....</td>\n",
       "    </tr>\n",
       "    <tr>\n",
       "      <th>TopicKernel@word.size</th>\n",
       "      <td>{'topic_0': 121.0, 'topic_1': 159.0, 'topic_2'...</td>\n",
       "    </tr>\n",
       "    <tr>\n",
       "      <th>TopicKernel@word.tokens</th>\n",
       "      <td>{'topic_0': ['неполадка', 'однократный', 'ради...</td>\n",
       "    </tr>\n",
       "    <tr>\n",
       "      <th>SparsityPhiScore@post_tag</th>\n",
       "      <td>0.825876</td>\n",
       "    </tr>\n",
       "    <tr>\n",
       "      <th>PerplexityScore@post_tag</th>\n",
       "      <td>50.1445</td>\n",
       "    </tr>\n",
       "    <tr>\n",
       "      <th>TopicKernel@post_tag.average_coherence</th>\n",
       "      <td>0</td>\n",
       "    </tr>\n",
       "    <tr>\n",
       "      <th>TopicKernel@post_tag.average_contrast</th>\n",
       "      <td>0.764137</td>\n",
       "    </tr>\n",
       "    <tr>\n",
       "      <th>TopicKernel@post_tag.average_purity</th>\n",
       "      <td>0.824824</td>\n",
       "    </tr>\n",
       "    <tr>\n",
       "      <th>TopicKernel@post_tag.average_size</th>\n",
       "      <td>34.129</td>\n",
       "    </tr>\n",
       "    <tr>\n",
       "      <th>TopicKernel@post_tag.coherence</th>\n",
       "      <td>{'topic_0': 0.0, 'topic_1': 0.0, 'topic_2': 0....</td>\n",
       "    </tr>\n",
       "    <tr>\n",
       "      <th>TopicKernel@post_tag.contrast</th>\n",
       "      <td>{'topic_0': 0.7715383172035217, 'topic_1': 0.7...</td>\n",
       "    </tr>\n",
       "    <tr>\n",
       "      <th>TopicKernel@post_tag.purity</th>\n",
       "      <td>{'topic_0': 0.8896540999412537, 'topic_1': 0.8...</td>\n",
       "    </tr>\n",
       "    <tr>\n",
       "      <th>TopicKernel@post_tag.size</th>\n",
       "      <td>{'topic_0': 17.0, 'topic_1': 39.0, 'topic_2': ...</td>\n",
       "    </tr>\n",
       "    <tr>\n",
       "      <th>TopicKernel@post_tag.tokens</th>\n",
       "      <td>{'topic_0': ['миозин', 'анатомия', 'нейрофизио...</td>\n",
       "    </tr>\n",
       "    <tr>\n",
       "      <th>SparsityPhiScore@3gramm</th>\n",
       "      <td>0.898846</td>\n",
       "    </tr>\n",
       "    <tr>\n",
       "      <th>PerplexityScore@3gramm</th>\n",
       "      <td>33.0428</td>\n",
       "    </tr>\n",
       "    <tr>\n",
       "      <th>TopicKernel@3gramm.average_coherence</th>\n",
       "      <td>0</td>\n",
       "    </tr>\n",
       "    <tr>\n",
       "      <th>TopicKernel@3gramm.average_contrast</th>\n",
       "      <td>0.888376</td>\n",
       "    </tr>\n",
       "    <tr>\n",
       "      <th>TopicKernel@3gramm.average_purity</th>\n",
       "      <td>0.971634</td>\n",
       "    </tr>\n",
       "    <tr>\n",
       "      <th>TopicKernel@3gramm.average_size</th>\n",
       "      <td>15.9032</td>\n",
       "    </tr>\n",
       "    <tr>\n",
       "      <th>TopicKernel@3gramm.coherence</th>\n",
       "      <td>{'topic_0': 0.0, 'topic_1': 0.0, 'topic_2': 0....</td>\n",
       "    </tr>\n",
       "    <tr>\n",
       "      <th>TopicKernel@3gramm.contrast</th>\n",
       "      <td>{'topic_0': 0.9435502886772156, 'topic_1': 0.8...</td>\n",
       "    </tr>\n",
       "    <tr>\n",
       "      <th>TopicKernel@3gramm.purity</th>\n",
       "      <td>{'topic_0': 0.9874517917633057, 'topic_1': 0.9...</td>\n",
       "    </tr>\n",
       "    <tr>\n",
       "      <th>TopicKernel@3gramm.size</th>\n",
       "      <td>{'topic_0': 10.0, 'topic_1': 18.0, 'topic_2': ...</td>\n",
       "    </tr>\n",
       "    <tr>\n",
       "      <th>TopicKernel@3gramm.tokens</th>\n",
       "      <td>{'topic_0': ['достаточно_большой_часть', 'исто...</td>\n",
       "    </tr>\n",
       "    <tr>\n",
       "      <th>BleiLaffertyScore</th>\n",
       "      <td>232.861</td>\n",
       "    </tr>\n",
       "  </tbody>\n",
       "</table>\n",
       "</div>"
      ],
      "text/plain": [
       "                                                                                                          last_value\n",
       "model_id                   score_name                                                                               \n",
       "##11h28m31s_13d11m2019y### PerplexityScore@all                                                           1.12113e+10\n",
       "                           SparsityThetaScore                                                              0.0496475\n",
       "                           SparsityPhiScore@2gramm                                                          0.647095\n",
       "                           PerplexityScore@2gramm                                                            2025.87\n",
       "                           TopicKernel@2gramm.average_coherence                                                    0\n",
       "                           TopicKernel@2gramm.average_contrast                                              0.498668\n",
       "                           TopicKernel@2gramm.average_purity                                                0.385329\n",
       "                           TopicKernel@2gramm.average_size                                                   270.839\n",
       "                           TopicKernel@2gramm.coherence            {'topic_0': 0.0, 'topic_1': 0.0, 'topic_2': 0....\n",
       "                           TopicKernel@2gramm.contrast             {'topic_0': 0.5064159035682678, 'topic_1': 0.4...\n",
       "                           TopicKernel@2gramm.purity               {'topic_0': 0.4095296561717987, 'topic_1': 0.3...\n",
       "                           TopicKernel@2gramm.size                 {'topic_0': 197.0, 'topic_1': 246.0, 'topic_2'...\n",
       "                           TopicKernel@2gramm.tokens               {'topic_0': ['молекула_память', 'функция_мозг'...\n",
       "                           SparsityPhiScore@word                                                            0.493199\n",
       "                           PerplexityScore@word                                                                 3340\n",
       "                           TopicKernel@word.average_coherence                                                      0\n",
       "                           TopicKernel@word.average_contrast                                                0.465291\n",
       "                           TopicKernel@word.average_purity                                                  0.137143\n",
       "                           TopicKernel@word.average_size                                                     520.032\n",
       "                           TopicKernel@word.coherence              {'topic_0': 0.0, 'topic_1': 0.0, 'topic_2': 0....\n",
       "                           TopicKernel@word.contrast               {'topic_0': 0.4519045948982239, 'topic_1': 0.4...\n",
       "                           TopicKernel@word.purity                 {'topic_0': 0.11439121514558792, 'topic_1': 0....\n",
       "                           TopicKernel@word.size                   {'topic_0': 121.0, 'topic_1': 159.0, 'topic_2'...\n",
       "                           TopicKernel@word.tokens                 {'topic_0': ['неполадка', 'однократный', 'ради...\n",
       "                           SparsityPhiScore@post_tag                                                        0.825876\n",
       "                           PerplexityScore@post_tag                                                          50.1445\n",
       "                           TopicKernel@post_tag.average_coherence                                                  0\n",
       "                           TopicKernel@post_tag.average_contrast                                            0.764137\n",
       "                           TopicKernel@post_tag.average_purity                                              0.824824\n",
       "                           TopicKernel@post_tag.average_size                                                  34.129\n",
       "                           TopicKernel@post_tag.coherence          {'topic_0': 0.0, 'topic_1': 0.0, 'topic_2': 0....\n",
       "                           TopicKernel@post_tag.contrast           {'topic_0': 0.7715383172035217, 'topic_1': 0.7...\n",
       "                           TopicKernel@post_tag.purity             {'topic_0': 0.8896540999412537, 'topic_1': 0.8...\n",
       "                           TopicKernel@post_tag.size               {'topic_0': 17.0, 'topic_1': 39.0, 'topic_2': ...\n",
       "                           TopicKernel@post_tag.tokens             {'topic_0': ['миозин', 'анатомия', 'нейрофизио...\n",
       "                           SparsityPhiScore@3gramm                                                          0.898846\n",
       "                           PerplexityScore@3gramm                                                            33.0428\n",
       "                           TopicKernel@3gramm.average_coherence                                                    0\n",
       "                           TopicKernel@3gramm.average_contrast                                              0.888376\n",
       "                           TopicKernel@3gramm.average_purity                                                0.971634\n",
       "                           TopicKernel@3gramm.average_size                                                   15.9032\n",
       "                           TopicKernel@3gramm.coherence            {'topic_0': 0.0, 'topic_1': 0.0, 'topic_2': 0....\n",
       "                           TopicKernel@3gramm.contrast             {'topic_0': 0.9435502886772156, 'topic_1': 0.8...\n",
       "                           TopicKernel@3gramm.purity               {'topic_0': 0.9874517917633057, 'topic_1': 0.9...\n",
       "                           TopicKernel@3gramm.size                 {'topic_0': 10.0, 'topic_1': 18.0, 'topic_2': ...\n",
       "                           TopicKernel@3gramm.tokens               {'topic_0': ['достаточно_большой_часть', 'исто...\n",
       "                           BleiLaffertyScore                                                                 232.861"
      ]
     },
     "execution_count": 14,
     "metadata": {},
     "output_type": "execute_result"
    }
   ],
   "source": [
    "best_model.describe_scores()"
   ]
  },
  {
   "cell_type": "markdown",
   "metadata": {},
   "source": [
    "## Results"
   ]
  },
  {
   "cell_type": "code",
   "execution_count": 15,
   "metadata": {},
   "outputs": [
    {
     "data": {
      "image/png": "[encoded data removed]",
      "text/plain": [
       "<Figure size 576x576 with 1 Axes>"
      ]
     },
     "metadata": {
      "needs_background": "light"
     },
     "output_type": "display_data"
    }
   ],
   "source": [
    "from matplotlib import cm\n",
    "tms = experiment.models\n",
    "colors = np.linspace(0, 0.65, len(tms))\n",
    "\n",
    "plt.figure(figsize=(8,8))\n",
    "for i, tm in enumerate(list(tms.values())[1:]):\n",
    "    score = tm.scores['BleiLaffertyScore']\n",
    "    ls = \"-\" if tm.model_id == best_model.model_id else \"--\" \n",
    "    plt.plot(score, color=cm.Reds(colors[i]), ls=ls)\n",
    "plt.show()"
   ]
  },
  {
   "cell_type": "code",
   "execution_count": 16,
   "metadata": {},
   "outputs": [
    {
     "data": {
      "image/png": "[encoded data removed]",
      "text/plain": [
       "<Figure size 576x576 with 1 Axes>"
      ]
     },
     "metadata": {
      "needs_background": "light"
     },
     "output_type": "display_data"
    }
   ],
   "source": [
    "tms = experiment.models\n",
    "colors = np.linspace(0, 0.65, len(tms))\n",
    "\n",
    "plt.figure(figsize=(8,8))\n",
    "for i, tm in enumerate(list(tms.values())[1:]):\n",
    "    score = tm.scores['PerplexityScore@all']\n",
    "    score[0] = float(\"nan\")\n",
    "    ls = \"-\" if tm.model_id == best_model.model_id else \"--\" \n",
    "    plt.plot(score, color=cm.Reds(colors[i]), ls=ls)\n",
    "plt.show()"
   ]
  },
  {
   "cell_type": "code",
   "execution_count": 17,
   "metadata": {},
   "outputs": [
    {
     "data": {
      "image/png": "[encoded data removed]",
      "text/plain": [
       "<Figure size 576x576 with 1 Axes>"
      ]
     },
     "metadata": {
      "needs_background": "light"
     },
     "output_type": "display_data"
    }
   ],
   "source": [
    "tms = experiment.models\n",
    "colors = np.linspace(0, 0.65, len(tms))\n",
    "\n",
    "plt.figure(figsize=(8,8))\n",
    "for i, tm in enumerate(list(tms.values())[1:]):\n",
    "    ls = \"-\" if tm.model_id == best_model.model_id else \"--\" \n",
    "    score = tm.scores['TopicKernel@word.average_purity']\n",
    "    plt.plot(score, color=cm.Blues(colors[i]), ls=ls)\n",
    "    score = tm.scores['TopicKernel@word.average_contrast']\n",
    "    plt.plot(score, color=cm.Reds(colors[i]), ls=ls)\n",
    "    \n",
    "    score = tm.scores['SparsityPhiScore@word']\n",
    "    plt.plot(score, color=cm.Greens(colors[i]), ls=ls)\n",
    "\n",
    "plt.show()"
   ]
  },
  {
   "cell_type": "code",
   "execution_count": 18,
   "metadata": {},
   "outputs": [
    {
     "data": {
      "image/png": "[encoded data removed]",
      "text/plain": [
       "<Figure size 576x576 with 1 Axes>"
      ]
     },
     "metadata": {
      "needs_background": "light"
     },
     "output_type": "display_data"
    }
   ],
   "source": [
    "tms = experiment.models\n",
    "colors = np.linspace(0, 0.65, len(tms))\n",
    "\n",
    "plt.figure(figsize=(8,8))\n",
    "for i, tm in enumerate(list(tms.values())[1:]):\n",
    "    ls = \"-\" if tm.model_id == best_model.model_id else \"--\" \n",
    "    score = tm.scores['TopicKernel@2gramm.average_purity']\n",
    "    plt.plot(score, color=cm.Blues(colors[i]), ls=ls)\n",
    "    score = tm.scores['TopicKernel@2gramm.average_contrast']\n",
    "    plt.plot(score, color=cm.Reds(colors[i]), ls=ls)\n",
    "    \n",
    "    score = tm.scores['SparsityPhiScore@2gramm']\n",
    "    plt.plot(score, color=cm.Greens(colors[i]), ls=ls)\n",
    "\n",
    "plt.show()"
   ]
  },
  {
   "cell_type": "markdown",
   "metadata": {},
   "source": [
    "## Investigate model"
   ]
  },
  {
   "cell_type": "code",
   "execution_count": 19,
   "metadata": {},
   "outputs": [],
   "source": [
    "from topicnet.viewers.top_tokens_viewer import TopTokensViewer\n",
    "from topicnet.viewers.top_documents_viewer import TopDocumentsViewer"
   ]
  },
  {
   "cell_type": "code",
   "execution_count": 20,
   "metadata": {},
   "outputs": [],
   "source": [
    "first_model_top_tok = TopTokensViewer(best_model, num_top_tokens=10, method='phi')\n",
    "first_model_html =  first_model_top_tok.to_html(first_model_top_tok.view())\n",
    "first_model_top_doc = TopDocumentsViewer(best_model, dataset=dataset).view()"
   ]
  },
  {
   "cell_type": "code",
   "execution_count": 21,
   "metadata": {},
   "outputs": [
    {
     "data": {
      "text/html": [
       "<style  type=\"text/css\" >\n",
       "</style><table id=\"T_e61b3b64_05ef_11ea_a6fb_107b449f15fc\" style='display:inline'><thead>    <tr>        <th class=\"blank level0\" ></th>        <th class=\"col_heading level0 col0\" >topic_0 @2gramm</th>    </tr></thead><tbody>\n",
       "                <tr>\n",
       "                        <th id=\"T_e61b3b64_05ef_11ea_a6fb_107b449f15fclevel0_row0\" class=\"row_heading level0 row0\" >нервный_клетка</th>\n",
       "                        <td id=\"T_e61b3b64_05ef_11ea_a6fb_107b449f15fcrow0_col0\" class=\"data row0 col0\" >0.03817</td>\n",
       "            </tr>\n",
       "            <tr>\n",
       "                        <th id=\"T_e61b3b64_05ef_11ea_a6fb_107b449f15fclevel0_row1\" class=\"row_heading level0 row1\" >нервный_система</th>\n",
       "                        <td id=\"T_e61b3b64_05ef_11ea_a6fb_107b449f15fcrow1_col0\" class=\"data row1 col0\" >0.02548</td>\n",
       "            </tr>\n",
       "            <tr>\n",
       "                        <th id=\"T_e61b3b64_05ef_11ea_a6fb_107b449f15fclevel0_row2\" class=\"row_heading level0 row2\" >человеческий_мозг</th>\n",
       "                        <td id=\"T_e61b3b64_05ef_11ea_a6fb_107b449f15fcrow2_col0\" class=\"data row2 col0\" >0.01042</td>\n",
       "            </tr>\n",
       "            <tr>\n",
       "                        <th id=\"T_e61b3b64_05ef_11ea_a6fb_107b449f15fclevel0_row3\" class=\"row_heading level0 row3\" >потенциал_действие</th>\n",
       "                        <td id=\"T_e61b3b64_05ef_11ea_a6fb_107b449f15fcrow3_col0\" class=\"data row3 col0\" >0.00916</td>\n",
       "            </tr>\n",
       "            <tr>\n",
       "                        <th id=\"T_e61b3b64_05ef_11ea_a6fb_107b449f15fclevel0_row4\" class=\"row_heading level0 row4\" >орган_чувство</th>\n",
       "                        <td id=\"T_e61b3b64_05ef_11ea_a6fb_107b449f15fcrow4_col0\" class=\"data row4 col0\" >0.00892</td>\n",
       "            </tr>\n",
       "            <tr>\n",
       "                        <th id=\"T_e61b3b64_05ef_11ea_a6fb_107b449f15fclevel0_row5\" class=\"row_heading level0 row5\" >кратковременный_память</th>\n",
       "                        <td id=\"T_e61b3b64_05ef_11ea_a6fb_107b449f15fcrow5_col0\" class=\"data row5 col0\" >0.00871</td>\n",
       "            </tr>\n",
       "            <tr>\n",
       "                        <th id=\"T_e61b3b64_05ef_11ea_a6fb_107b449f15fclevel0_row6\" class=\"row_heading level0 row6\" >структура_мозг</th>\n",
       "                        <td id=\"T_e61b3b64_05ef_11ea_a6fb_107b449f15fcrow6_col0\" class=\"data row6 col0\" >0.00809</td>\n",
       "            </tr>\n",
       "            <tr>\n",
       "                        <th id=\"T_e61b3b64_05ef_11ea_a6fb_107b449f15fclevel0_row7\" class=\"row_heading level0 row7\" >долговременный_память</th>\n",
       "                        <td id=\"T_e61b3b64_05ef_11ea_a6fb_107b449f15fcrow7_col0\" class=\"data row7 col0\" >0.00807</td>\n",
       "            </tr>\n",
       "            <tr>\n",
       "                        <th id=\"T_e61b3b64_05ef_11ea_a6fb_107b449f15fclevel0_row8\" class=\"row_heading level0 row8\" >область_мозг</th>\n",
       "                        <td id=\"T_e61b3b64_05ef_11ea_a6fb_107b449f15fcrow8_col0\" class=\"data row8 col0\" >0.00558</td>\n",
       "            </tr>\n",
       "            <tr>\n",
       "                        <th id=\"T_e61b3b64_05ef_11ea_a6fb_107b449f15fclevel0_row9\" class=\"row_heading level0 row9\" >мышечный_волокно</th>\n",
       "                        <td id=\"T_e61b3b64_05ef_11ea_a6fb_107b449f15fcrow9_col0\" class=\"data row9 col0\" >0.00548</td>\n",
       "            </tr>\n",
       "    </tbody></table><style  type=\"text/css\" >\n",
       "</style><table id=\"T_e61b3b65_05ef_11ea_a6fb_107b449f15fc\" style='display:inline'><thead>    <tr>        <th class=\"blank level0\" ></th>        <th class=\"col_heading level0 col0\" >topic_0 @3gramm</th>    </tr></thead><tbody>\n",
       "                <tr>\n",
       "                        <th id=\"T_e61b3b65_05ef_11ea_a6fb_107b449f15fclevel0_row0\" class=\"row_heading level0 row0\" >средство_массовый_информация</th>\n",
       "                        <td id=\"T_e61b3b65_05ef_11ea_a6fb_107b449f15fcrow0_col0\" class=\"data row0 col0\" >0.33533</td>\n",
       "            </tr>\n",
       "            <tr>\n",
       "                        <th id=\"T_e61b3b65_05ef_11ea_a6fb_107b449f15fclevel0_row1\" class=\"row_heading level0 row1\" >тело_солнечный_система</th>\n",
       "                        <td id=\"T_e61b3b65_05ef_11ea_a6fb_107b449f15fcrow1_col0\" class=\"data row1 col0\" >0.11783</td>\n",
       "            </tr>\n",
       "            <tr>\n",
       "                        <th id=\"T_e61b3b65_05ef_11ea_a6fb_107b449f15fclevel0_row2\" class=\"row_heading level0 row2\" >планета_земной_группа</th>\n",
       "                        <td id=\"T_e61b3b65_05ef_11ea_a6fb_107b449f15fcrow2_col0\" class=\"data row2 col0\" >0.10871</td>\n",
       "            </tr>\n",
       "            <tr>\n",
       "                        <th id=\"T_e61b3b65_05ef_11ea_a6fb_107b449f15fclevel0_row3\" class=\"row_heading level0 row3\" >история_политический_мысль</th>\n",
       "                        <td id=\"T_e61b3b65_05ef_11ea_a6fb_107b449f15fcrow3_col0\" class=\"data row3 col0\" >0.10868</td>\n",
       "            </tr>\n",
       "            <tr>\n",
       "                        <th id=\"T_e61b3b65_05ef_11ea_a6fb_107b449f15fclevel0_row4\" class=\"row_heading level0 row4\" >отдел_головной_мозг</th>\n",
       "                        <td id=\"T_e61b3b65_05ef_11ea_a6fb_107b449f15fcrow4_col0\" class=\"data row4 col0\" >0.08156</td>\n",
       "            </tr>\n",
       "            <tr>\n",
       "                        <th id=\"T_e61b3b65_05ef_11ea_a6fb_107b449f15fclevel0_row5\" class=\"row_heading level0 row5\" >дизайн_новый_материал</th>\n",
       "                        <td id=\"T_e61b3b65_05ef_11ea_a6fb_107b449f15fcrow5_col0\" class=\"data row5 col0\" >0.07244</td>\n",
       "            </tr>\n",
       "            <tr>\n",
       "                        <th id=\"T_e61b3b65_05ef_11ea_a6fb_107b449f15fclevel0_row6\" class=\"row_heading level0 row6\" >ранний_стадия_развитие</th>\n",
       "                        <td id=\"T_e61b3b65_05ef_11ea_a6fb_107b449f15fcrow6_col0\" class=\"data row6 col0\" >0.04547</td>\n",
       "            </tr>\n",
       "            <tr>\n",
       "                        <th id=\"T_e61b3b65_05ef_11ea_a6fb_107b449f15fclevel0_row7\" class=\"row_heading level0 row7\" >планет_солнечный_система</th>\n",
       "                        <td id=\"T_e61b3b65_05ef_11ea_a6fb_107b449f15fcrow7_col0\" class=\"data row7 col0\" >0.04522</td>\n",
       "            </tr>\n",
       "            <tr>\n",
       "                        <th id=\"T_e61b3b65_05ef_11ea_a6fb_107b449f15fclevel0_row8\" class=\"row_heading level0 row8\" >достаточно_большой_часть</th>\n",
       "                        <td id=\"T_e61b3b65_05ef_11ea_a6fb_107b449f15fcrow8_col0\" class=\"data row8 col0\" >0.04511</td>\n",
       "            </tr>\n",
       "            <tr>\n",
       "                        <th id=\"T_e61b3b65_05ef_11ea_a6fb_107b449f15fclevel0_row9\" class=\"row_heading level0 row9\" >двигатель_внутренний_сгорание</th>\n",
       "                        <td id=\"T_e61b3b65_05ef_11ea_a6fb_107b449f15fcrow9_col0\" class=\"data row9 col0\" >0.0271</td>\n",
       "            </tr>\n",
       "    </tbody></table><style  type=\"text/css\" >\n",
       "</style><table id=\"T_e61b3b66_05ef_11ea_a6fb_107b449f15fc\" style='display:inline'><thead>    <tr>        <th class=\"blank level0\" ></th>        <th class=\"col_heading level0 col0\" >topic_0 @post_tag</th>    </tr></thead><tbody>\n",
       "                <tr>\n",
       "                        <th id=\"T_e61b3b66_05ef_11ea_a6fb_107b449f15fclevel0_row0\" class=\"row_heading level0 row0\" >мозг</th>\n",
       "                        <td id=\"T_e61b3b66_05ef_11ea_a6fb_107b449f15fcrow0_col0\" class=\"data row0 col0\" >0.29627</td>\n",
       "            </tr>\n",
       "            <tr>\n",
       "                        <th id=\"T_e61b3b66_05ef_11ea_a6fb_107b449f15fclevel0_row1\" class=\"row_heading level0 row1\" >нейробиология</th>\n",
       "                        <td id=\"T_e61b3b66_05ef_11ea_a6fb_107b449f15fcrow1_col0\" class=\"data row1 col0\" >0.14794</td>\n",
       "            </tr>\n",
       "            <tr>\n",
       "                        <th id=\"T_e61b3b66_05ef_11ea_a6fb_107b449f15fclevel0_row2\" class=\"row_heading level0 row2\" >нейрон</th>\n",
       "                        <td id=\"T_e61b3b66_05ef_11ea_a6fb_107b449f15fcrow2_col0\" class=\"data row2 col0\" >0.11302</td>\n",
       "            </tr>\n",
       "            <tr>\n",
       "                        <th id=\"T_e61b3b66_05ef_11ea_a6fb_107b449f15fclevel0_row3\" class=\"row_heading level0 row3\" >нейрофизиология</th>\n",
       "                        <td id=\"T_e61b3b66_05ef_11ea_a6fb_107b449f15fcrow3_col0\" class=\"data row3 col0\" >0.0859</td>\n",
       "            </tr>\n",
       "            <tr>\n",
       "                        <th id=\"T_e61b3b66_05ef_11ea_a6fb_107b449f15fclevel0_row4\" class=\"row_heading level0 row4\" >биология</th>\n",
       "                        <td id=\"T_e61b3b66_05ef_11ea_a6fb_107b449f15fcrow4_col0\" class=\"data row4 col0\" >0.07125</td>\n",
       "            </tr>\n",
       "            <tr>\n",
       "                        <th id=\"T_e61b3b66_05ef_11ea_a6fb_107b449f15fclevel0_row5\" class=\"row_heading level0 row5\" >память</th>\n",
       "                        <td id=\"T_e61b3b66_05ef_11ea_a6fb_107b449f15fcrow5_col0\" class=\"data row5 col0\" >0.06485</td>\n",
       "            </tr>\n",
       "            <tr>\n",
       "                        <th id=\"T_e61b3b66_05ef_11ea_a6fb_107b449f15fclevel0_row6\" class=\"row_heading level0 row6\" >физиология</th>\n",
       "                        <td id=\"T_e61b3b66_05ef_11ea_a6fb_107b449f15fcrow6_col0\" class=\"data row6 col0\" >0.05099</td>\n",
       "            </tr>\n",
       "            <tr>\n",
       "                        <th id=\"T_e61b3b66_05ef_11ea_a6fb_107b449f15fclevel0_row7\" class=\"row_heading level0 row7\" >эмоции</th>\n",
       "                        <td id=\"T_e61b3b66_05ef_11ea_a6fb_107b449f15fcrow7_col0\" class=\"data row7 col0\" >0.03244</td>\n",
       "            </tr>\n",
       "            <tr>\n",
       "                        <th id=\"T_e61b3b66_05ef_11ea_a6fb_107b449f15fclevel0_row8\" class=\"row_heading level0 row8\" >нервная_система</th>\n",
       "                        <td id=\"T_e61b3b66_05ef_11ea_a6fb_107b449f15fcrow8_col0\" class=\"data row8 col0\" >0.02317</td>\n",
       "            </tr>\n",
       "            <tr>\n",
       "                        <th id=\"T_e61b3b66_05ef_11ea_a6fb_107b449f15fclevel0_row9\" class=\"row_heading level0 row9\" >синапс</th>\n",
       "                        <td id=\"T_e61b3b66_05ef_11ea_a6fb_107b449f15fcrow9_col0\" class=\"data row9 col0\" >0.0228</td>\n",
       "            </tr>\n",
       "    </tbody></table><style  type=\"text/css\" >\n",
       "</style><table id=\"T_e61b3b67_05ef_11ea_a6fb_107b449f15fc\" style='display:inline'><thead>    <tr>        <th class=\"blank level0\" ></th>        <th class=\"col_heading level0 col0\" >topic_0 @word</th>    </tr></thead><tbody>\n",
       "                <tr>\n",
       "                        <th id=\"T_e61b3b67_05ef_11ea_a6fb_107b449f15fclevel0_row0\" class=\"row_heading level0 row0\" >мозг</th>\n",
       "                        <td id=\"T_e61b3b67_05ef_11ea_a6fb_107b449f15fcrow0_col0\" class=\"data row0 col0\" >0.03111</td>\n",
       "            </tr>\n",
       "            <tr>\n",
       "                        <th id=\"T_e61b3b67_05ef_11ea_a6fb_107b449f15fclevel0_row1\" class=\"row_heading level0 row1\" >нейрон</th>\n",
       "                        <td id=\"T_e61b3b67_05ef_11ea_a6fb_107b449f15fcrow1_col0\" class=\"data row1 col0\" >0.01474</td>\n",
       "            </tr>\n",
       "            <tr>\n",
       "                        <th id=\"T_e61b3b67_05ef_11ea_a6fb_107b449f15fclevel0_row2\" class=\"row_heading level0 row2\" >память</th>\n",
       "                        <td id=\"T_e61b3b67_05ef_11ea_a6fb_107b449f15fcrow2_col0\" class=\"data row2 col0\" >0.01002</td>\n",
       "            </tr>\n",
       "            <tr>\n",
       "                        <th id=\"T_e61b3b67_05ef_11ea_a6fb_107b449f15fclevel0_row3\" class=\"row_heading level0 row3\" >клетка</th>\n",
       "                        <td id=\"T_e61b3b67_05ef_11ea_a6fb_107b449f15fcrow3_col0\" class=\"data row3 col0\" >0.00559</td>\n",
       "            </tr>\n",
       "            <tr>\n",
       "                        <th id=\"T_e61b3b67_05ef_11ea_a6fb_107b449f15fclevel0_row4\" class=\"row_heading level0 row4\" >мышца</th>\n",
       "                        <td id=\"T_e61b3b67_05ef_11ea_a6fb_107b449f15fcrow4_col0\" class=\"data row4 col0\" >0.00471</td>\n",
       "            </tr>\n",
       "            <tr>\n",
       "                        <th id=\"T_e61b3b67_05ef_11ea_a6fb_107b449f15fclevel0_row5\" class=\"row_heading level0 row5\" >информация</th>\n",
       "                        <td id=\"T_e61b3b67_05ef_11ea_a6fb_107b449f15fcrow5_col0\" class=\"data row5 col0\" >0.00441</td>\n",
       "            </tr>\n",
       "            <tr>\n",
       "                        <th id=\"T_e61b3b67_05ef_11ea_a6fb_107b449f15fclevel0_row6\" class=\"row_heading level0 row6\" >связь</th>\n",
       "                        <td id=\"T_e61b3b67_05ef_11ea_a6fb_107b449f15fcrow6_col0\" class=\"data row6 col0\" >0.00426</td>\n",
       "            </tr>\n",
       "            <tr>\n",
       "                        <th id=\"T_e61b3b67_05ef_11ea_a6fb_107b449f15fclevel0_row7\" class=\"row_heading level0 row7\" >образ</th>\n",
       "                        <td id=\"T_e61b3b67_05ef_11ea_a6fb_107b449f15fcrow7_col0\" class=\"data row7 col0\" >0.00395</td>\n",
       "            </tr>\n",
       "            <tr>\n",
       "                        <th id=\"T_e61b3b67_05ef_11ea_a6fb_107b449f15fclevel0_row8\" class=\"row_heading level0 row8\" >животное</th>\n",
       "                        <td id=\"T_e61b3b67_05ef_11ea_a6fb_107b449f15fcrow8_col0\" class=\"data row8 col0\" >0.00384</td>\n",
       "            </tr>\n",
       "            <tr>\n",
       "                        <th id=\"T_e61b3b67_05ef_11ea_a6fb_107b449f15fclevel0_row9\" class=\"row_heading level0 row9\" >процесс</th>\n",
       "                        <td id=\"T_e61b3b67_05ef_11ea_a6fb_107b449f15fcrow9_col0\" class=\"data row9 col0\" >0.00378</td>\n",
       "            </tr>\n",
       "    </tbody></table>"
      ]
     },
     "metadata": {},
     "output_type": "display_data"
    },
    {
     "data": {
      "text/html": [
       "<b> точка зрения # проблемы коммуникации ученых и сми </b><br /> мнения экспертов постнауки о том, с какими трудностями сталкиваются ученые при общении с представителями средств массовой информации"
      ]
     },
     "metadata": {},
     "output_type": "display_data"
    },
    {
     "data": {
      "text/html": [
       "<b> faqкомандные нейроны </b><br /> 5 фактов о различных функциях клеток в нервной системе"
      ]
     },
     "metadata": {},
     "output_type": "display_data"
    },
    {
     "data": {
      "text/html": [
       "<b> нейрогенетика памяти </b><br /> нейробиолог павел балабан о молекулах памяти, полногеномном анализе и нейродегенаративных заболеваниях"
      ]
     },
     "metadata": {},
     "output_type": "display_data"
    },
    {
     "data": {
      "text/html": [
       "<b> молекулярные механизмы памяти </b><br /> нейробиолог павел балабан о процессе обучения, «молекуле памяти» и высших функциях мозга"
      ]
     },
     "metadata": {},
     "output_type": "display_data"
    },
    {
     "data": {
      "text/html": [
       "<b> на восприятие пространства влияет геометрия окружения </b><br /> о зависимости структуры области возбуждения grid-нейронов от формы окружающего пространства"
      ]
     },
     "metadata": {},
     "output_type": "display_data"
    },
    {
     "data": {
      "text/html": [
       "<b> главы # белл и его «подрывное» открытие </b><br /> отрывок из книги \"главный рубильник. расцвет и гибель информационных империй\" профессора колумбийского университета тима ву"
      ]
     },
     "metadata": {},
     "output_type": "display_data"
    },
    {
     "data": {
      "text/html": [
       "<b> структура нервных клеток </b><br /> нейробиолог сергей саложин о синапсах, пути нейромедиатора и передаче информации в мозге"
      ]
     },
     "metadata": {},
     "output_type": "display_data"
    },
    {
     "data": {
      "text/html": [
       "<b> обнаружена уникальная звуковая система, позволяющая попугаям разговаривать </b><br /> ученые обнаружили структуры в мозге попугая, отвечающие за звукоподражание"
      ]
     },
     "metadata": {},
     "output_type": "display_data"
    },
    {
     "data": {
      "text/html": [
       "<b> командные нейроны </b><br /> нейробиолог павел балабан о сенсорных нейронах, исследованиях беспозвоночных и моделирующих клетках"
      ]
     },
     "metadata": {},
     "output_type": "display_data"
    },
    {
     "data": {
      "text/html": [
       "<b> главыкак работают мышцы </b><br /> отрывок из книги «искра жизниэлектричество в теле человека» профессора физиологии фрэнсис эшкрофт о роли ионных каналов в организме человека"
      ]
     },
     "metadata": {},
     "output_type": "display_data"
    },
    {
     "data": {
      "text/html": [
       "<style  type=\"text/css\" >\n",
       "</style><table id=\"T_e61b3b68_05ef_11ea_a6fb_107b449f15fc\" style='display:inline'><thead>    <tr>        <th class=\"blank level0\" ></th>        <th class=\"col_heading level0 col0\" >topic_1 @2gramm</th>    </tr></thead><tbody>\n",
       "                <tr>\n",
       "                        <th id=\"T_e61b3b68_05ef_11ea_a6fb_107b449f15fclevel0_row0\" class=\"row_heading level0 row0\" >нобелевский_премия</th>\n",
       "                        <td id=\"T_e61b3b68_05ef_11ea_a6fb_107b449f15fcrow0_col0\" class=\"data row0 col0\" >0.01936</td>\n",
       "            </tr>\n",
       "            <tr>\n",
       "                        <th id=\"T_e61b3b68_05ef_11ea_a6fb_107b449f15fclevel0_row1\" class=\"row_heading level0 row1\" >кристаллический_структура</th>\n",
       "                        <td id=\"T_e61b3b68_05ef_11ea_a6fb_107b449f15fcrow1_col0\" class=\"data row1 col0\" >0.01214</td>\n",
       "            </tr>\n",
       "            <tr>\n",
       "                        <th id=\"T_e61b3b68_05ef_11ea_a6fb_107b449f15fclevel0_row2\" class=\"row_heading level0 row2\" >высокий_давление</th>\n",
       "                        <td id=\"T_e61b3b68_05ef_11ea_a6fb_107b449f15fcrow2_col0\" class=\"data row2 col0\" >0.01023</td>\n",
       "            </tr>\n",
       "            <tr>\n",
       "                        <th id=\"T_e61b3b68_05ef_11ea_a6fb_107b449f15fclevel0_row3\" class=\"row_heading level0 row3\" >химический_связь</th>\n",
       "                        <td id=\"T_e61b3b68_05ef_11ea_a6fb_107b449f15fcrow3_col0\" class=\"data row3 col0\" >0.00765</td>\n",
       "            </tr>\n",
       "            <tr>\n",
       "                        <th id=\"T_e61b3b68_05ef_11ea_a6fb_107b449f15fclevel0_row4\" class=\"row_heading level0 row4\" >магнитный_поль</th>\n",
       "                        <td id=\"T_e61b3b68_05ef_11ea_a6fb_107b449f15fcrow4_col0\" class=\"data row4 col0\" >0.00747</td>\n",
       "            </tr>\n",
       "            <tr>\n",
       "                        <th id=\"T_e61b3b68_05ef_11ea_a6fb_107b449f15fclevel0_row5\" class=\"row_heading level0 row5\" >новое_материал</th>\n",
       "                        <td id=\"T_e61b3b68_05ef_11ea_a6fb_107b449f15fcrow5_col0\" class=\"data row5 col0\" >0.007</td>\n",
       "            </tr>\n",
       "            <tr>\n",
       "                        <th id=\"T_e61b3b68_05ef_11ea_a6fb_107b449f15fclevel0_row6\" class=\"row_heading level0 row6\" >высокий_температура</th>\n",
       "                        <td id=\"T_e61b3b68_05ef_11ea_a6fb_107b449f15fcrow6_col0\" class=\"data row6 col0\" >0.00694</td>\n",
       "            </tr>\n",
       "            <tr>\n",
       "                        <th id=\"T_e61b3b68_05ef_11ea_a6fb_107b449f15fclevel0_row7\" class=\"row_heading level0 row7\" >волновой_функция</th>\n",
       "                        <td id=\"T_e61b3b68_05ef_11ea_a6fb_107b449f15fcrow7_col0\" class=\"data row7 col0\" >0.00685</td>\n",
       "            </tr>\n",
       "            <tr>\n",
       "                        <th id=\"T_e61b3b68_05ef_11ea_a6fb_107b449f15fclevel0_row8\" class=\"row_heading level0 row8\" >химический_реакция</th>\n",
       "                        <td id=\"T_e61b3b68_05ef_11ea_a6fb_107b449f15fcrow8_col0\" class=\"data row8 col0\" >0.00649</td>\n",
       "            </tr>\n",
       "            <tr>\n",
       "                        <th id=\"T_e61b3b68_05ef_11ea_a6fb_107b449f15fclevel0_row9\" class=\"row_heading level0 row9\" >новый_материал</th>\n",
       "                        <td id=\"T_e61b3b68_05ef_11ea_a6fb_107b449f15fcrow9_col0\" class=\"data row9 col0\" >0.00627</td>\n",
       "            </tr>\n",
       "    </tbody></table><style  type=\"text/css\" >\n",
       "</style><table id=\"T_e61b3b69_05ef_11ea_a6fb_107b449f15fc\" style='display:inline'><thead>    <tr>        <th class=\"blank level0\" ></th>        <th class=\"col_heading level0 col0\" >topic_1 @3gramm</th>    </tr></thead><tbody>\n",
       "                <tr>\n",
       "                        <th id=\"T_e61b3b69_05ef_11ea_a6fb_107b449f15fclevel0_row0\" class=\"row_heading level0 row0\" >играть_важный_роль</th>\n",
       "                        <td id=\"T_e61b3b69_05ef_11ea_a6fb_107b449f15fcrow0_col0\" class=\"data row0 col0\" >0.22029</td>\n",
       "            </tr>\n",
       "            <tr>\n",
       "                        <th id=\"T_e61b3b69_05ef_11ea_a6fb_107b449f15fclevel0_row1\" class=\"row_heading level0 row1\" >сильный_магнитный_поль</th>\n",
       "                        <td id=\"T_e61b3b69_05ef_11ea_a6fb_107b449f15fcrow1_col0\" class=\"data row1 col0\" >0.09276</td>\n",
       "            </tr>\n",
       "            <tr>\n",
       "                        <th id=\"T_e61b3b69_05ef_11ea_a6fb_107b449f15fclevel0_row2\" class=\"row_heading level0 row2\" >молодая_нейтронный_звезда</th>\n",
       "                        <td id=\"T_e61b3b69_05ef_11ea_a6fb_107b449f15fcrow2_col0\" class=\"data row2 col0\" >0.08699</td>\n",
       "            </tr>\n",
       "            <tr>\n",
       "                        <th id=\"T_e61b3b69_05ef_11ea_a6fb_107b449f15fclevel0_row3\" class=\"row_heading level0 row3\" >решение_нобелевский_комитет</th>\n",
       "                        <td id=\"T_e61b3b69_05ef_11ea_a6fb_107b449f15fcrow3_col0\" class=\"data row3 col0\" >0.07534</td>\n",
       "            </tr>\n",
       "            <tr>\n",
       "                        <th id=\"T_e61b3b69_05ef_11ea_a6fb_107b449f15fclevel0_row4\" class=\"row_heading level0 row4\" >клетка_иммунный_система</th>\n",
       "                        <td id=\"T_e61b3b69_05ef_11ea_a6fb_107b449f15fcrow4_col0\" class=\"data row4 col0\" >0.06952</td>\n",
       "            </tr>\n",
       "            <tr>\n",
       "                        <th id=\"T_e61b3b69_05ef_11ea_a6fb_107b449f15fclevel0_row5\" class=\"row_heading level0 row5\" >предсказание_кристаллический_структура</th>\n",
       "                        <td id=\"T_e61b3b69_05ef_11ea_a6fb_107b449f15fcrow5_col0\" class=\"data row5 col0\" >0.05219</td>\n",
       "            </tr>\n",
       "            <tr>\n",
       "                        <th id=\"T_e61b3b69_05ef_11ea_a6fb_107b449f15fclevel0_row6\" class=\"row_heading level0 row6\" >гипотеза_лингвистический_относительность</th>\n",
       "                        <td id=\"T_e61b3b69_05ef_11ea_a6fb_107b449f15fcrow6_col0\" class=\"data row6 col0\" >0.05211</td>\n",
       "            </tr>\n",
       "            <tr>\n",
       "                        <th id=\"T_e61b3b69_05ef_11ea_a6fb_107b449f15fclevel0_row7\" class=\"row_heading level0 row7\" >сильный_магнитный_пол</th>\n",
       "                        <td id=\"T_e61b3b69_05ef_11ea_a6fb_107b449f15fcrow7_col0\" class=\"data row7 col0\" >0.05134</td>\n",
       "            </tr>\n",
       "            <tr>\n",
       "                        <th id=\"T_e61b3b69_05ef_11ea_a6fb_107b449f15fclevel0_row8\" class=\"row_heading level0 row8\" >физика_твёрдый_тело</th>\n",
       "                        <td id=\"T_e61b3b69_05ef_11ea_a6fb_107b449f15fcrow8_col0\" class=\"data row8 col0\" >0.04787</td>\n",
       "            </tr>\n",
       "            <tr>\n",
       "                        <th id=\"T_e61b3b69_05ef_11ea_a6fb_107b449f15fclevel0_row9\" class=\"row_heading level0 row9\" >посвятить_нобелевский_неделя</th>\n",
       "                        <td id=\"T_e61b3b69_05ef_11ea_a6fb_107b449f15fcrow9_col0\" class=\"data row9 col0\" >0.04057</td>\n",
       "            </tr>\n",
       "    </tbody></table><style  type=\"text/css\" >\n",
       "</style><table id=\"T_e61b3b6a_05ef_11ea_a6fb_107b449f15fc\" style='display:inline'><thead>    <tr>        <th class=\"blank level0\" ></th>        <th class=\"col_heading level0 col0\" >topic_1 @post_tag</th>    </tr></thead><tbody>\n",
       "                <tr>\n",
       "                        <th id=\"T_e61b3b6a_05ef_11ea_a6fb_107b449f15fclevel0_row0\" class=\"row_heading level0 row0\" >химия</th>\n",
       "                        <td id=\"T_e61b3b6a_05ef_11ea_a6fb_107b449f15fcrow0_col0\" class=\"data row0 col0\" >0.25982</td>\n",
       "            </tr>\n",
       "            <tr>\n",
       "                        <th id=\"T_e61b3b6a_05ef_11ea_a6fb_107b449f15fclevel0_row1\" class=\"row_heading level0 row1\" >материаловедение</th>\n",
       "                        <td id=\"T_e61b3b6a_05ef_11ea_a6fb_107b449f15fcrow1_col0\" class=\"data row1 col0\" >0.09938</td>\n",
       "            </tr>\n",
       "            <tr>\n",
       "                        <th id=\"T_e61b3b6a_05ef_11ea_a6fb_107b449f15fclevel0_row2\" class=\"row_heading level0 row2\" >нобелевская_премия</th>\n",
       "                        <td id=\"T_e61b3b6a_05ef_11ea_a6fb_107b449f15fcrow2_col0\" class=\"data row2 col0\" >0.05664</td>\n",
       "            </tr>\n",
       "            <tr>\n",
       "                        <th id=\"T_e61b3b6a_05ef_11ea_a6fb_107b449f15fclevel0_row3\" class=\"row_heading level0 row3\" >молекула</th>\n",
       "                        <td id=\"T_e61b3b6a_05ef_11ea_a6fb_107b449f15fcrow3_col0\" class=\"data row3 col0\" >0.05127</td>\n",
       "            </tr>\n",
       "            <tr>\n",
       "                        <th id=\"T_e61b3b6a_05ef_11ea_a6fb_107b449f15fclevel0_row4\" class=\"row_heading level0 row4\" >кристалл</th>\n",
       "                        <td id=\"T_e61b3b6a_05ef_11ea_a6fb_107b449f15fcrow4_col0\" class=\"data row4 col0\" >0.04186</td>\n",
       "            </tr>\n",
       "            <tr>\n",
       "                        <th id=\"T_e61b3b6a_05ef_11ea_a6fb_107b449f15fclevel0_row5\" class=\"row_heading level0 row5\" >органическая_химия</th>\n",
       "                        <td id=\"T_e61b3b6a_05ef_11ea_a6fb_107b449f15fcrow5_col0\" class=\"data row5 col0\" >0.03284</td>\n",
       "            </tr>\n",
       "            <tr>\n",
       "                        <th id=\"T_e61b3b6a_05ef_11ea_a6fb_107b449f15fclevel0_row6\" class=\"row_heading level0 row6\" >кристаллография</th>\n",
       "                        <td id=\"T_e61b3b6a_05ef_11ea_a6fb_107b449f15fcrow6_col0\" class=\"data row6 col0\" >0.03154</td>\n",
       "            </tr>\n",
       "            <tr>\n",
       "                        <th id=\"T_e61b3b6a_05ef_11ea_a6fb_107b449f15fclevel0_row7\" class=\"row_heading level0 row7\" >углерод</th>\n",
       "                        <td id=\"T_e61b3b6a_05ef_11ea_a6fb_107b449f15fcrow7_col0\" class=\"data row7 col0\" >0.02583</td>\n",
       "            </tr>\n",
       "            <tr>\n",
       "                        <th id=\"T_e61b3b6a_05ef_11ea_a6fb_107b449f15fclevel0_row8\" class=\"row_heading level0 row8\" >графен</th>\n",
       "                        <td id=\"T_e61b3b6a_05ef_11ea_a6fb_107b449f15fcrow8_col0\" class=\"data row8 col0\" >0.02515</td>\n",
       "            </tr>\n",
       "            <tr>\n",
       "                        <th id=\"T_e61b3b6a_05ef_11ea_a6fb_107b449f15fclevel0_row9\" class=\"row_heading level0 row9\" >полимеры</th>\n",
       "                        <td id=\"T_e61b3b6a_05ef_11ea_a6fb_107b449f15fcrow9_col0\" class=\"data row9 col0\" >0.02503</td>\n",
       "            </tr>\n",
       "    </tbody></table><style  type=\"text/css\" >\n",
       "</style><table id=\"T_e61b3b6b_05ef_11ea_a6fb_107b449f15fc\" style='display:inline'><thead>    <tr>        <th class=\"blank level0\" ></th>        <th class=\"col_heading level0 col0\" >topic_1 @word</th>    </tr></thead><tbody>\n",
       "                <tr>\n",
       "                        <th id=\"T_e61b3b6b_05ef_11ea_a6fb_107b449f15fclevel0_row0\" class=\"row_heading level0 row0\" >материал</th>\n",
       "                        <td id=\"T_e61b3b6b_05ef_11ea_a6fb_107b449f15fcrow0_col0\" class=\"data row0 col0\" >0.0091</td>\n",
       "            </tr>\n",
       "            <tr>\n",
       "                        <th id=\"T_e61b3b6b_05ef_11ea_a6fb_107b449f15fclevel0_row1\" class=\"row_heading level0 row1\" >химия</th>\n",
       "                        <td id=\"T_e61b3b6b_05ef_11ea_a6fb_107b449f15fcrow1_col0\" class=\"data row1 col0\" >0.0088</td>\n",
       "            </tr>\n",
       "            <tr>\n",
       "                        <th id=\"T_e61b3b6b_05ef_11ea_a6fb_107b449f15fclevel0_row2\" class=\"row_heading level0 row2\" >молекула</th>\n",
       "                        <td id=\"T_e61b3b6b_05ef_11ea_a6fb_107b449f15fcrow2_col0\" class=\"data row2 col0\" >0.00856</td>\n",
       "            </tr>\n",
       "            <tr>\n",
       "                        <th id=\"T_e61b3b6b_05ef_11ea_a6fb_107b449f15fclevel0_row3\" class=\"row_heading level0 row3\" >структура</th>\n",
       "                        <td id=\"T_e61b3b6b_05ef_11ea_a6fb_107b449f15fcrow3_col0\" class=\"data row3 col0\" >0.00719</td>\n",
       "            </tr>\n",
       "            <tr>\n",
       "                        <th id=\"T_e61b3b6b_05ef_11ea_a6fb_107b449f15fclevel0_row4\" class=\"row_heading level0 row4\" >соединение</th>\n",
       "                        <td id=\"T_e61b3b6b_05ef_11ea_a6fb_107b449f15fcrow4_col0\" class=\"data row4 col0\" >0.00701</td>\n",
       "            </tr>\n",
       "            <tr>\n",
       "                        <th id=\"T_e61b3b6b_05ef_11ea_a6fb_107b449f15fclevel0_row5\" class=\"row_heading level0 row5\" >вещество</th>\n",
       "                        <td id=\"T_e61b3b6b_05ef_11ea_a6fb_107b449f15fcrow5_col0\" class=\"data row5 col0\" >0.00657</td>\n",
       "            </tr>\n",
       "            <tr>\n",
       "                        <th id=\"T_e61b3b6b_05ef_11ea_a6fb_107b449f15fclevel0_row6\" class=\"row_heading level0 row6\" >метод</th>\n",
       "                        <td id=\"T_e61b3b6b_05ef_11ea_a6fb_107b449f15fcrow6_col0\" class=\"data row6 col0\" >0.00518</td>\n",
       "            </tr>\n",
       "            <tr>\n",
       "                        <th id=\"T_e61b3b6b_05ef_11ea_a6fb_107b449f15fclevel0_row7\" class=\"row_heading level0 row7\" >элемент</th>\n",
       "                        <td id=\"T_e61b3b6b_05ef_11ea_a6fb_107b449f15fcrow7_col0\" class=\"data row7 col0\" >0.00509</td>\n",
       "            </tr>\n",
       "            <tr>\n",
       "                        <th id=\"T_e61b3b6b_05ef_11ea_a6fb_107b449f15fclevel0_row8\" class=\"row_heading level0 row8\" >получить</th>\n",
       "                        <td id=\"T_e61b3b6b_05ef_11ea_a6fb_107b449f15fcrow8_col0\" class=\"data row8 col0\" >0.00476</td>\n",
       "            </tr>\n",
       "            <tr>\n",
       "                        <th id=\"T_e61b3b6b_05ef_11ea_a6fb_107b449f15fclevel0_row9\" class=\"row_heading level0 row9\" >свойство</th>\n",
       "                        <td id=\"T_e61b3b6b_05ef_11ea_a6fb_107b449f15fcrow9_col0\" class=\"data row9 col0\" >0.00425</td>\n",
       "            </tr>\n",
       "    </tbody></table>"
      ]
     },
     "metadata": {},
     "output_type": "display_data"
    },
    {
     "data": {
      "text/html": [
       "<b> дизайн сверхтвердых материалов </b><br /> химик артем оганов о структуре алмаза, применении сверхтвердых материалов и новых формах углерода"
      ]
     },
     "metadata": {},
     "output_type": "display_data"
    },
    {
     "data": {
      "text/html": [
       "<b> методы предсказания кристаллических структур </b><br /> химик артем оганов о задачах кристаллографии, методе uspex и структуре алмаза"
      ]
     },
     "metadata": {},
     "output_type": "display_data"
    },
    {
     "data": {
      "text/html": [
       "<b> спиновые стекла </b><br /> физик михаил фейгельман о замерзших магнитных структурах, спиновых волнах и иерархии состояний"
      ]
     },
     "metadata": {},
     "output_type": "display_data"
    },
    {
     "data": {
      "text/html": [
       "<b> черный кремний </b><br /> профессор гарвардского университета эрик мазур о монооксиде углерода, грантовой системе, экспериментах с кремнием и серой и фотодетекторах"
      ]
     },
     "metadata": {},
     "output_type": "display_data"
    },
    {
     "data": {
      "text/html": [
       "<b> запрещенные химические соединения </b><br /> химик артем оганов о составе вещества на поверхности, возникновении новой химии и химических реакциях в экстремальных условиях"
      ]
     },
     "metadata": {},
     "output_type": "display_data"
    },
    {
     "data": {
      "text/html": [
       "<b> 5 книг о теоретическом материаловедении </b><br /> что читать о движении атомов в кристаллах, молекулярной динамике и структуре твердых материалов, рекомендует phd in crystallography артем оганов"
      ]
     },
     "metadata": {},
     "output_type": "display_data"
    },
    {
     "data": {
      "text/html": [
       "<b> faqмногомерные массивы </b><br /> 6 фактов о методах и перспективах решения многомерных задач в вычислительной химии и физике твердого тела"
      ]
     },
     "metadata": {},
     "output_type": "display_data"
    },
    {
     "data": {
      "text/html": [
       "<b> премии # нобелевская премия мира - 2013 </b><br /> спецпроект постнауки, посвященный нобелевской неделе и её результатам"
      ]
     },
     "metadata": {},
     "output_type": "display_data"
    },
    {
     "data": {
      "text/html": [
       "<b> фуллерены </b><br /> нобелевский лауреат по химии харольд крото о молекулярных решетках, исследовании углеродных звезд и фундаментальной науке"
      ]
     },
     "metadata": {},
     "output_type": "display_data"
    },
    {
     "data": {
      "text/html": [
       "<b> водородная связь и жидкости на земле </b><br /> физик вадим бражкин о межатомном взаимодействии, природе химической связи и важности углерода"
      ]
     },
     "metadata": {},
     "output_type": "display_data"
    },
    {
     "data": {
      "text/html": [
       "<style  type=\"text/css\" >\n",
       "</style><table id=\"T_e61b3b6c_05ef_11ea_a6fb_107b449f15fc\" style='display:inline'><thead>    <tr>        <th class=\"blank level0\" ></th>        <th class=\"col_heading level0 col0\" >topic_2 @2gramm</th>    </tr></thead><tbody>\n",
       "                <tr>\n",
       "                        <th id=\"T_e61b3b6c_05ef_11ea_a6fb_107b449f15fclevel0_row0\" class=\"row_heading level0 row0\" >греческий_миф</th>\n",
       "                        <td id=\"T_e61b3b6c_05ef_11ea_a6fb_107b449f15fcrow0_col0\" class=\"data row0 col0\" >0.00792</td>\n",
       "            </tr>\n",
       "            <tr>\n",
       "                        <th id=\"T_e61b3b6c_05ef_11ea_a6fb_107b449f15fclevel0_row1\" class=\"row_heading level0 row1\" >греческий_мифология</th>\n",
       "                        <td id=\"T_e61b3b6c_05ef_11ea_a6fb_107b449f15fcrow1_col0\" class=\"data row1 col0\" >0.00696</td>\n",
       "            </tr>\n",
       "            <tr>\n",
       "                        <th id=\"T_e61b3b6c_05ef_11ea_a6fb_107b449f15fclevel0_row2\" class=\"row_heading level0 row2\" >vi_век</th>\n",
       "                        <td id=\"T_e61b3b6c_05ef_11ea_a6fb_107b449f15fcrow2_col0\" class=\"data row2 col0\" >0.00604</td>\n",
       "            </tr>\n",
       "            <tr>\n",
       "                        <th id=\"T_e61b3b6c_05ef_11ea_a6fb_107b449f15fclevel0_row3\" class=\"row_heading level0 row3\" >культурный_ландшафт</th>\n",
       "                        <td id=\"T_e61b3b6c_05ef_11ea_a6fb_107b449f15fcrow3_col0\" class=\"data row3 col0\" >0.00537</td>\n",
       "            </tr>\n",
       "            <tr>\n",
       "                        <th id=\"T_e61b3b6c_05ef_11ea_a6fb_107b449f15fclevel0_row4\" class=\"row_heading level0 row4\" >культурный_традиция</th>\n",
       "                        <td id=\"T_e61b3b6c_05ef_11ea_a6fb_107b449f15fcrow4_col0\" class=\"data row4 col0\" >0.00534</td>\n",
       "            </tr>\n",
       "            <tr>\n",
       "                        <th id=\"T_e61b3b6c_05ef_11ea_a6fb_107b449f15fclevel0_row5\" class=\"row_heading level0 row5\" >снорри_стурлусон</th>\n",
       "                        <td id=\"T_e61b3b6c_05ef_11ea_a6fb_107b449f15fcrow5_col0\" class=\"data row5 col0\" >0.00527</td>\n",
       "            </tr>\n",
       "            <tr>\n",
       "                        <th id=\"T_e61b3b6c_05ef_11ea_a6fb_107b449f15fclevel0_row6\" class=\"row_heading level0 row6\" >история_искусство</th>\n",
       "                        <td id=\"T_e61b3b6c_05ef_11ea_a6fb_107b449f15fcrow6_col0\" class=\"data row6 col0\" >0.00498</td>\n",
       "            </tr>\n",
       "            <tr>\n",
       "                        <th id=\"T_e61b3b6c_05ef_11ea_a6fb_107b449f15fclevel0_row7\" class=\"row_heading level0 row7\" >центральный_мексика</th>\n",
       "                        <td id=\"T_e61b3b6c_05ef_11ea_a6fb_107b449f15fcrow7_col0\" class=\"data row7 col0\" >0.00481</td>\n",
       "            </tr>\n",
       "            <tr>\n",
       "                        <th id=\"T_e61b3b6c_05ef_11ea_a6fb_107b449f15fclevel0_row8\" class=\"row_heading level0 row8\" >скальдический_стих</th>\n",
       "                        <td id=\"T_e61b3b6c_05ef_11ea_a6fb_107b449f15fcrow8_col0\" class=\"data row8 col0\" >0.00407</td>\n",
       "            </tr>\n",
       "            <tr>\n",
       "                        <th id=\"T_e61b3b6c_05ef_11ea_a6fb_107b449f15fclevel0_row9\" class=\"row_heading level0 row9\" >viii_век</th>\n",
       "                        <td id=\"T_e61b3b6c_05ef_11ea_a6fb_107b449f15fcrow9_col0\" class=\"data row9 col0\" >0.00405</td>\n",
       "            </tr>\n",
       "    </tbody></table><style  type=\"text/css\" >\n",
       "</style><table id=\"T_e61b3b6d_05ef_11ea_a6fb_107b449f15fc\" style='display:inline'><thead>    <tr>        <th class=\"blank level0\" ></th>        <th class=\"col_heading level0 col0\" >topic_2 @3gramm</th>    </tr></thead><tbody>\n",
       "                <tr>\n",
       "                        <th id=\"T_e61b3b6d_05ef_11ea_a6fb_107b449f15fclevel0_row0\" class=\"row_heading level0 row0\" >сменять_друг_друг</th>\n",
       "                        <td id=\"T_e61b3b6d_05ef_11ea_a6fb_107b449f15fcrow0_col0\" class=\"data row0 col0\" >0.16957</td>\n",
       "            </tr>\n",
       "            <tr>\n",
       "                        <th id=\"T_e61b3b6d_05ef_11ea_a6fb_107b449f15fclevel0_row1\" class=\"row_heading level0 row1\" >широкий_круг_читатель</th>\n",
       "                        <td id=\"T_e61b3b6d_05ef_11ea_a6fb_107b449f15fcrow1_col0\" class=\"data row1 col0\" >0.16147</td>\n",
       "            </tr>\n",
       "            <tr>\n",
       "                        <th id=\"T_e61b3b6d_05ef_11ea_a6fb_107b449f15fclevel0_row2\" class=\"row_heading level0 row2\" >начало_xvi_век</th>\n",
       "                        <td id=\"T_e61b3b6d_05ef_11ea_a6fb_107b449f15fcrow2_col0\" class=\"data row2 col0\" >0.11299</td>\n",
       "            </tr>\n",
       "            <tr>\n",
       "                        <th id=\"T_e61b3b6d_05ef_11ea_a6fb_107b449f15fclevel0_row3\" class=\"row_heading level0 row3\" >различие_свойство_материя</th>\n",
       "                        <td id=\"T_e61b3b6d_05ef_11ea_a6fb_107b449f15fcrow3_col0\" class=\"data row3 col0\" >0.09692</td>\n",
       "            </tr>\n",
       "            <tr>\n",
       "                        <th id=\"T_e61b3b6d_05ef_11ea_a6fb_107b449f15fclevel0_row4\" class=\"row_heading level0 row4\" >проблема_происхождение_жизнь</th>\n",
       "                        <td id=\"T_e61b3b6d_05ef_11ea_a6fb_107b449f15fcrow4_col0\" class=\"data row4 col0\" >0.07255</td>\n",
       "            </tr>\n",
       "            <tr>\n",
       "                        <th id=\"T_e61b3b6d_05ef_11ea_a6fb_107b449f15fclevel0_row5\" class=\"row_heading level0 row5\" >современный_политический_философия</th>\n",
       "                        <td id=\"T_e61b3b6d_05ef_11ea_a6fb_107b449f15fcrow5_col0\" class=\"data row5 col0\" >0.06446</td>\n",
       "            </tr>\n",
       "            <tr>\n",
       "                        <th id=\"T_e61b3b6d_05ef_11ea_a6fb_107b449f15fclevel0_row6\" class=\"row_heading level0 row6\" >появиться_большой_количество</th>\n",
       "                        <td id=\"T_e61b3b6d_05ef_11ea_a6fb_107b449f15fcrow6_col0\" class=\"data row6 col0\" >0.05618</td>\n",
       "            </tr>\n",
       "            <tr>\n",
       "                        <th id=\"T_e61b3b6d_05ef_11ea_a6fb_107b449f15fclevel0_row7\" class=\"row_heading level0 row7\" >половина_xvi_век</th>\n",
       "                        <td id=\"T_e61b3b6d_05ef_11ea_a6fb_107b449f15fcrow7_col0\" class=\"data row7 col0\" >0.04844</td>\n",
       "            </tr>\n",
       "            <tr>\n",
       "                        <th id=\"T_e61b3b6d_05ef_11ea_a6fb_107b449f15fclevel0_row8\" class=\"row_heading level0 row8\" >играть_значительный_роль</th>\n",
       "                        <td id=\"T_e61b3b6d_05ef_11ea_a6fb_107b449f15fcrow8_col0\" class=\"data row8 col0\" >0.04566</td>\n",
       "            </tr>\n",
       "            <tr>\n",
       "                        <th id=\"T_e61b3b6d_05ef_11ea_a6fb_107b449f15fclevel0_row9\" class=\"row_heading level0 row9\" >важный_роль_играть</th>\n",
       "                        <td id=\"T_e61b3b6d_05ef_11ea_a6fb_107b449f15fcrow9_col0\" class=\"data row9 col0\" >0.04551</td>\n",
       "            </tr>\n",
       "    </tbody></table><style  type=\"text/css\" >\n",
       "</style><table id=\"T_e61b3b6e_05ef_11ea_a6fb_107b449f15fc\" style='display:inline'><thead>    <tr>        <th class=\"blank level0\" ></th>        <th class=\"col_heading level0 col0\" >topic_2 @post_tag</th>    </tr></thead><tbody>\n",
       "                <tr>\n",
       "                        <th id=\"T_e61b3b6e_05ef_11ea_a6fb_107b449f15fclevel0_row0\" class=\"row_heading level0 row0\" >мифология</th>\n",
       "                        <td id=\"T_e61b3b6e_05ef_11ea_a6fb_107b449f15fcrow0_col0\" class=\"data row0 col0\" >0.10683</td>\n",
       "            </tr>\n",
       "            <tr>\n",
       "                        <th id=\"T_e61b3b6e_05ef_11ea_a6fb_107b449f15fclevel0_row1\" class=\"row_heading level0 row1\" >культура</th>\n",
       "                        <td id=\"T_e61b3b6e_05ef_11ea_a6fb_107b449f15fcrow1_col0\" class=\"data row1 col0\" >0.08528</td>\n",
       "            </tr>\n",
       "            <tr>\n",
       "                        <th id=\"T_e61b3b6e_05ef_11ea_a6fb_107b449f15fclevel0_row2\" class=\"row_heading level0 row2\" >древняя_греция</th>\n",
       "                        <td id=\"T_e61b3b6e_05ef_11ea_a6fb_107b449f15fcrow2_col0\" class=\"data row2 col0\" >0.07769</td>\n",
       "            </tr>\n",
       "            <tr>\n",
       "                        <th id=\"T_e61b3b6e_05ef_11ea_a6fb_107b449f15fclevel0_row3\" class=\"row_heading level0 row3\" >античность</th>\n",
       "                        <td id=\"T_e61b3b6e_05ef_11ea_a6fb_107b449f15fcrow3_col0\" class=\"data row3 col0\" >0.07754</td>\n",
       "            </tr>\n",
       "            <tr>\n",
       "                        <th id=\"T_e61b3b6e_05ef_11ea_a6fb_107b449f15fclevel0_row4\" class=\"row_heading level0 row4\" >миф</th>\n",
       "                        <td id=\"T_e61b3b6e_05ef_11ea_a6fb_107b449f15fcrow4_col0\" class=\"data row4 col0\" >0.07513</td>\n",
       "            </tr>\n",
       "            <tr>\n",
       "                        <th id=\"T_e61b3b6e_05ef_11ea_a6fb_107b449f15fclevel0_row5\" class=\"row_heading level0 row5\" >история</th>\n",
       "                        <td id=\"T_e61b3b6e_05ef_11ea_a6fb_107b449f15fcrow5_col0\" class=\"data row5 col0\" >0.04806</td>\n",
       "            </tr>\n",
       "            <tr>\n",
       "                        <th id=\"T_e61b3b6e_05ef_11ea_a6fb_107b449f15fclevel0_row6\" class=\"row_heading level0 row6\" >майя</th>\n",
       "                        <td id=\"T_e61b3b6e_05ef_11ea_a6fb_107b449f15fcrow6_col0\" class=\"data row6 col0\" >0.04362</td>\n",
       "            </tr>\n",
       "            <tr>\n",
       "                        <th id=\"T_e61b3b6e_05ef_11ea_a6fb_107b449f15fclevel0_row7\" class=\"row_heading level0 row7\" >письменность</th>\n",
       "                        <td id=\"T_e61b3b6e_05ef_11ea_a6fb_107b449f15fcrow7_col0\" class=\"data row7 col0\" >0.03858</td>\n",
       "            </tr>\n",
       "            <tr>\n",
       "                        <th id=\"T_e61b3b6e_05ef_11ea_a6fb_107b449f15fclevel0_row8\" class=\"row_heading level0 row8\" >мезоамерика</th>\n",
       "                        <td id=\"T_e61b3b6e_05ef_11ea_a6fb_107b449f15fcrow8_col0\" class=\"data row8 col0\" >0.02668</td>\n",
       "            </tr>\n",
       "            <tr>\n",
       "                        <th id=\"T_e61b3b6e_05ef_11ea_a6fb_107b449f15fclevel0_row9\" class=\"row_heading level0 row9\" >скандинавия</th>\n",
       "                        <td id=\"T_e61b3b6e_05ef_11ea_a6fb_107b449f15fcrow9_col0\" class=\"data row9 col0\" >0.02585</td>\n",
       "            </tr>\n",
       "    </tbody></table><style  type=\"text/css\" >\n",
       "</style><table id=\"T_e61b3b6f_05ef_11ea_a6fb_107b449f15fc\" style='display:inline'><thead>    <tr>        <th class=\"blank level0\" ></th>        <th class=\"col_heading level0 col0\" >topic_2 @word</th>    </tr></thead><tbody>\n",
       "                <tr>\n",
       "                        <th id=\"T_e61b3b6f_05ef_11ea_a6fb_107b449f15fclevel0_row0\" class=\"row_heading level0 row0\" >миф</th>\n",
       "                        <td id=\"T_e61b3b6f_05ef_11ea_a6fb_107b449f15fcrow0_col0\" class=\"data row0 col0\" >0.00626</td>\n",
       "            </tr>\n",
       "            <tr>\n",
       "                        <th id=\"T_e61b3b6f_05ef_11ea_a6fb_107b449f15fclevel0_row1\" class=\"row_heading level0 row1\" >бог</th>\n",
       "                        <td id=\"T_e61b3b6f_05ef_11ea_a6fb_107b449f15fcrow1_col0\" class=\"data row1 col0\" >0.00547</td>\n",
       "            </tr>\n",
       "            <tr>\n",
       "                        <th id=\"T_e61b3b6f_05ef_11ea_a6fb_107b449f15fclevel0_row2\" class=\"row_heading level0 row2\" >книга</th>\n",
       "                        <td id=\"T_e61b3b6f_05ef_11ea_a6fb_107b449f15fcrow2_col0\" class=\"data row2 col0\" >0.00522</td>\n",
       "            </tr>\n",
       "            <tr>\n",
       "                        <th id=\"T_e61b3b6f_05ef_11ea_a6fb_107b449f15fclevel0_row3\" class=\"row_heading level0 row3\" >знать</th>\n",
       "                        <td id=\"T_e61b3b6f_05ef_11ea_a6fb_107b449f15fcrow3_col0\" class=\"data row3 col0\" >0.00452</td>\n",
       "            </tr>\n",
       "            <tr>\n",
       "                        <th id=\"T_e61b3b6f_05ef_11ea_a6fb_107b449f15fclevel0_row4\" class=\"row_heading level0 row4\" >говорить</th>\n",
       "                        <td id=\"T_e61b3b6f_05ef_11ea_a6fb_107b449f15fcrow4_col0\" class=\"data row4 col0\" >0.00431</td>\n",
       "            </tr>\n",
       "            <tr>\n",
       "                        <th id=\"T_e61b3b6f_05ef_11ea_a6fb_107b449f15fclevel0_row5\" class=\"row_heading level0 row5\" >культура</th>\n",
       "                        <td id=\"T_e61b3b6f_05ef_11ea_a6fb_107b449f15fcrow5_col0\" class=\"data row5 col0\" >0.00422</td>\n",
       "            </tr>\n",
       "            <tr>\n",
       "                        <th id=\"T_e61b3b6f_05ef_11ea_a6fb_107b449f15fclevel0_row6\" class=\"row_heading level0 row6\" >представление</th>\n",
       "                        <td id=\"T_e61b3b6f_05ef_11ea_a6fb_107b449f15fcrow6_col0\" class=\"data row6 col0\" >0.00398</td>\n",
       "            </tr>\n",
       "            <tr>\n",
       "                        <th id=\"T_e61b3b6f_05ef_11ea_a6fb_107b449f15fclevel0_row7\" class=\"row_heading level0 row7\" >история</th>\n",
       "                        <td id=\"T_e61b3b6f_05ef_11ea_a6fb_107b449f15fcrow7_col0\" class=\"data row7 col0\" >0.00382</td>\n",
       "            </tr>\n",
       "            <tr>\n",
       "                        <th id=\"T_e61b3b6f_05ef_11ea_a6fb_107b449f15fclevel0_row8\" class=\"row_heading level0 row8\" >имя</th>\n",
       "                        <td id=\"T_e61b3b6f_05ef_11ea_a6fb_107b449f15fcrow8_col0\" class=\"data row8 col0\" >0.00331</td>\n",
       "            </tr>\n",
       "            <tr>\n",
       "                        <th id=\"T_e61b3b6f_05ef_11ea_a6fb_107b449f15fclevel0_row9\" class=\"row_heading level0 row9\" >слово</th>\n",
       "                        <td id=\"T_e61b3b6f_05ef_11ea_a6fb_107b449f15fcrow9_col0\" class=\"data row9 col0\" >0.00325</td>\n",
       "            </tr>\n",
       "    </tbody></table>"
      ]
     },
     "metadata": {},
     "output_type": "display_data"
    },
    {
     "data": {
      "text/html": [
       "<b> ацтекская империя </b><br /> историк дмитрий беляев о тройственном союзе ацтеков, формировании империи в теночтитлане и военно-религиозной идеологии"
      ]
     },
     "metadata": {},
     "output_type": "display_data"
    },
    {
     "data": {
      "text/html": [
       "<b> автограф # «мода и люди. новая теория моды и модного поведения» </b><br /> беседа с  социологом моды александром гофманом о его книге, посвященной этому сложному феномену"
      ]
     },
     "metadata": {},
     "output_type": "display_data"
    },
    {
     "data": {
      "text/html": [
       "<b> первая империя мезоамерики </b><br /> историк дмитрий беляев об организации пространства теотиуакана, городском быте и особенностях культурной экспансии"
      ]
     },
     "metadata": {},
     "output_type": "display_data"
    },
    {
     "data": {
      "text/html": [
       "<b> государства сапотеков и миштеков </b><br /> историк дмитрий беляев о культе предков, стенах черепов и археологических исследованиях в долине оахаки"
      ]
     },
     "metadata": {},
     "output_type": "display_data"
    },
    {
     "data": {
      "text/html": [
       "<b> миф и архитектура </b><br /> филолог гасан гусейнов о мифологическом измерении архитектуры, ахиллесовой пяте и изоморфизме строений и человеческого тела"
      ]
     },
     "metadata": {},
     "output_type": "display_data"
    },
    {
     "data": {
      "text/html": [
       "<b> faqэрос в античной культуре </b><br /> 7 фактов об одном из самых загадочных персонажей греческой мифологии"
      ]
     },
     "metadata": {},
     "output_type": "display_data"
    },
    {
     "data": {
      "text/html": [
       "<b> автограф«люди, тексты и вещи. из истории культуры средневековой скандинавии» </b><br /> филолог федор успенский о семи столпах скандинавской культуры, снорри стурлусоне и уникальности поэзии скальдов"
      ]
     },
     "metadata": {},
     "output_type": "display_data"
    },
    {
     "data": {
      "text/html": [
       "<b> 5 книг по истории доколумбовой америки </b><br /> что читать об индейских культурах нового cвета, рекомендует кандидат исторических наук дмитрий беляев"
      ]
     },
     "metadata": {},
     "output_type": "display_data"
    },
    {
     "data": {
      "text/html": [
       "<b> кризис мезоамериканских государств классического периода </b><br /> историк дмитрий беляев о процессе балканизации, упадке теотиуакана и самом масштабном батальном памятнике в истории"
      ]
     },
     "metadata": {},
     "output_type": "display_data"
    },
    {
     "data": {
      "text/html": [
       "<b> главысвященное и секулярное </b><br /> отрывок из книги «от ритуала к рекорду» доктора американистики аллена гуттмана о спорте как прообразе новой светской религии"
      ]
     },
     "metadata": {},
     "output_type": "display_data"
    },
    {
     "data": {
      "text/html": [
       "<style  type=\"text/css\" >\n",
       "</style><table id=\"T_e61b3b70_05ef_11ea_a6fb_107b449f15fc\" style='display:inline'><thead>    <tr>        <th class=\"blank level0\" ></th>        <th class=\"col_heading level0 col0\" >topic_3 @2gramm</th>    </tr></thead><tbody>\n",
       "                <tr>\n",
       "                        <th id=\"T_e61b3b70_05ef_11ea_a6fb_107b449f15fclevel0_row0\" class=\"row_heading level0 row0\" >римский_право</th>\n",
       "                        <td id=\"T_e61b3b70_05ef_11ea_a6fb_107b449f15fcrow0_col0\" class=\"data row0 col0\" >0.02265</td>\n",
       "            </tr>\n",
       "            <tr>\n",
       "                        <th id=\"T_e61b3b70_05ef_11ea_a6fb_107b449f15fclevel0_row1\" class=\"row_heading level0 row1\" >мировой_война</th>\n",
       "                        <td id=\"T_e61b3b70_05ef_11ea_a6fb_107b449f15fcrow1_col0\" class=\"data row1 col0\" >0.01247</td>\n",
       "            </tr>\n",
       "            <tr>\n",
       "                        <th id=\"T_e61b3b70_05ef_11ea_a6fb_107b449f15fclevel0_row2\" class=\"row_heading level0 row2\" >право_собственность</th>\n",
       "                        <td id=\"T_e61b3b70_05ef_11ea_a6fb_107b449f15fcrow2_col0\" class=\"data row2 col0\" >0.01198</td>\n",
       "            </tr>\n",
       "            <tr>\n",
       "                        <th id=\"T_e61b3b70_05ef_11ea_a6fb_107b449f15fclevel0_row3\" class=\"row_heading level0 row3\" >веймарский_республика</th>\n",
       "                        <td id=\"T_e61b3b70_05ef_11ea_a6fb_107b449f15fcrow3_col0\" class=\"data row3 col0\" >0.00928</td>\n",
       "            </tr>\n",
       "            <tr>\n",
       "                        <th id=\"T_e61b3b70_05ef_11ea_a6fb_107b449f15fclevel0_row4\" class=\"row_heading level0 row4\" >европейский_союз</th>\n",
       "                        <td id=\"T_e61b3b70_05ef_11ea_a6fb_107b449f15fcrow4_col0\" class=\"data row4 col0\" >0.00855</td>\n",
       "            </tr>\n",
       "            <tr>\n",
       "                        <th id=\"T_e61b3b70_05ef_11ea_a6fb_107b449f15fclevel0_row5\" class=\"row_heading level0 row5\" >католический_церковь</th>\n",
       "                        <td id=\"T_e61b3b70_05ef_11ea_a6fb_107b449f15fcrow5_col0\" class=\"data row5 col0\" >0.00822</td>\n",
       "            </tr>\n",
       "            <tr>\n",
       "                        <th id=\"T_e61b3b70_05ef_11ea_a6fb_107b449f15fclevel0_row6\" class=\"row_heading level0 row6\" >правовой_система</th>\n",
       "                        <td id=\"T_e61b3b70_05ef_11ea_a6fb_107b449f15fcrow6_col0\" class=\"data row6 col0\" >0.00623</td>\n",
       "            </tr>\n",
       "            <tr>\n",
       "                        <th id=\"T_e61b3b70_05ef_11ea_a6fb_107b449f15fclevel0_row7\" class=\"row_heading level0 row7\" >римский_юрист</th>\n",
       "                        <td id=\"T_e61b3b70_05ef_11ea_a6fb_107b449f15fcrow7_col0\" class=\"data row7 col0\" >0.00592</td>\n",
       "            </tr>\n",
       "            <tr>\n",
       "                        <th id=\"T_e61b3b70_05ef_11ea_a6fb_107b449f15fclevel0_row8\" class=\"row_heading level0 row8\" >третье_сословие</th>\n",
       "                        <td id=\"T_e61b3b70_05ef_11ea_a6fb_107b449f15fcrow8_col0\" class=\"data row8 col0\" >0.00543</td>\n",
       "            </tr>\n",
       "            <tr>\n",
       "                        <th id=\"T_e61b3b70_05ef_11ea_a6fb_107b449f15fclevel0_row9\" class=\"row_heading level0 row9\" >вещный_право</th>\n",
       "                        <td id=\"T_e61b3b70_05ef_11ea_a6fb_107b449f15fcrow9_col0\" class=\"data row9 col0\" >0.005</td>\n",
       "            </tr>\n",
       "    </tbody></table><style  type=\"text/css\" >\n",
       "</style><table id=\"T_e61b3b71_05ef_11ea_a6fb_107b449f15fc\" style='display:inline'><thead>    <tr>        <th class=\"blank level0\" ></th>        <th class=\"col_heading level0 col0\" >topic_3 @3gramm</th>    </tr></thead><tbody>\n",
       "                <tr>\n",
       "                        <th id=\"T_e61b3b71_05ef_11ea_a6fb_107b449f15fclevel0_row0\" class=\"row_heading level0 row0\" >федеративный_республика_германия</th>\n",
       "                        <td id=\"T_e61b3b71_05ef_11ea_a6fb_107b449f15fcrow0_col0\" class=\"data row0 col0\" >0.11271</td>\n",
       "            </tr>\n",
       "            <tr>\n",
       "                        <th id=\"T_e61b3b71_05ef_11ea_a6fb_107b449f15fclevel0_row1\" class=\"row_heading level0 row1\" >половина_xviii_век</th>\n",
       "                        <td id=\"T_e61b3b71_05ef_11ea_a6fb_107b449f15fcrow1_col0\" class=\"data row1 col0\" >0.10455</td>\n",
       "            </tr>\n",
       "            <tr>\n",
       "                        <th id=\"T_e61b3b71_05ef_11ea_a6fb_107b449f15fclevel0_row2\" class=\"row_heading level0 row2\" >твёрдый_бытовой_отход</th>\n",
       "                        <td id=\"T_e61b3b71_05ef_11ea_a6fb_107b449f15fcrow2_col0\" class=\"data row2 col0\" >0.09655</td>\n",
       "            </tr>\n",
       "            <tr>\n",
       "                        <th id=\"T_e61b3b71_05ef_11ea_a6fb_107b449f15fclevel0_row3\" class=\"row_heading level0 row3\" >русский_православный_церковь</th>\n",
       "                        <td id=\"T_e61b3b71_05ef_11ea_a6fb_107b449f15fcrow3_col0\" class=\"data row3 col0\" >0.08849</td>\n",
       "            </tr>\n",
       "            <tr>\n",
       "                        <th id=\"T_e61b3b71_05ef_11ea_a6fb_107b449f15fclevel0_row4\" class=\"row_heading level0 row4\" >версальский_мирный_договор</th>\n",
       "                        <td id=\"T_e61b3b71_05ef_11ea_a6fb_107b449f15fcrow4_col0\" class=\"data row4 col0\" >0.07243</td>\n",
       "            </tr>\n",
       "            <tr>\n",
       "                        <th id=\"T_e61b3b71_05ef_11ea_a6fb_107b449f15fclevel0_row5\" class=\"row_heading level0 row5\" >актуальный_проблема_образование</th>\n",
       "                        <td id=\"T_e61b3b71_05ef_11ea_a6fb_107b449f15fcrow5_col0\" class=\"data row5 col0\" >0.07236</td>\n",
       "            </tr>\n",
       "            <tr>\n",
       "                        <th id=\"T_e61b3b71_05ef_11ea_a6fb_107b449f15fclevel0_row6\" class=\"row_heading level0 row6\" >экономически_развитый_страна</th>\n",
       "                        <td id=\"T_e61b3b71_05ef_11ea_a6fb_107b449f15fcrow6_col0\" class=\"data row6 col0\" >0.0562</td>\n",
       "            </tr>\n",
       "            <tr>\n",
       "                        <th id=\"T_e61b3b71_05ef_11ea_a6fb_107b449f15fclevel0_row7\" class=\"row_heading level0 row7\" >европейский_часть_россия</th>\n",
       "                        <td id=\"T_e61b3b71_05ef_11ea_a6fb_107b449f15fcrow7_col0\" class=\"data row7 col0\" >0.05616</td>\n",
       "            </tr>\n",
       "            <tr>\n",
       "                        <th id=\"T_e61b3b71_05ef_11ea_a6fb_107b449f15fclevel0_row8\" class=\"row_heading level0 row8\" >поскольку_речь_идти</th>\n",
       "                        <td id=\"T_e61b3b71_05ef_11ea_a6fb_107b449f15fcrow8_col0\" class=\"data row8 col0\" >0.05616</td>\n",
       "            </tr>\n",
       "            <tr>\n",
       "                        <th id=\"T_e61b3b71_05ef_11ea_a6fb_107b449f15fclevel0_row9\" class=\"row_heading level0 row9\" >запускать_новый_формат</th>\n",
       "                        <td id=\"T_e61b3b71_05ef_11ea_a6fb_107b449f15fcrow9_col0\" class=\"data row9 col0\" >0.04821</td>\n",
       "            </tr>\n",
       "    </tbody></table><style  type=\"text/css\" >\n",
       "</style><table id=\"T_e61b3b72_05ef_11ea_a6fb_107b449f15fc\" style='display:inline'><thead>    <tr>        <th class=\"blank level0\" ></th>        <th class=\"col_heading level0 col0\" >topic_3 @post_tag</th>    </tr></thead><tbody>\n",
       "                <tr>\n",
       "                        <th id=\"T_e61b3b72_05ef_11ea_a6fb_107b449f15fclevel0_row0\" class=\"row_heading level0 row0\" >право</th>\n",
       "                        <td id=\"T_e61b3b72_05ef_11ea_a6fb_107b449f15fcrow0_col0\" class=\"data row0 col0\" >0.14636</td>\n",
       "            </tr>\n",
       "            <tr>\n",
       "                        <th id=\"T_e61b3b72_05ef_11ea_a6fb_107b449f15fclevel0_row1\" class=\"row_heading level0 row1\" >германия</th>\n",
       "                        <td id=\"T_e61b3b72_05ef_11ea_a6fb_107b449f15fcrow1_col0\" class=\"data row1 col0\" >0.10467</td>\n",
       "            </tr>\n",
       "            <tr>\n",
       "                        <th id=\"T_e61b3b72_05ef_11ea_a6fb_107b449f15fclevel0_row2\" class=\"row_heading level0 row2\" >юриспруденция</th>\n",
       "                        <td id=\"T_e61b3b72_05ef_11ea_a6fb_107b449f15fcrow2_col0\" class=\"data row2 col0\" >0.08528</td>\n",
       "            </tr>\n",
       "            <tr>\n",
       "                        <th id=\"T_e61b3b72_05ef_11ea_a6fb_107b449f15fclevel0_row3\" class=\"row_heading level0 row3\" >римское_право</th>\n",
       "                        <td id=\"T_e61b3b72_05ef_11ea_a6fb_107b449f15fcrow3_col0\" class=\"data row3 col0\" >0.0706</td>\n",
       "            </tr>\n",
       "            <tr>\n",
       "                        <th id=\"T_e61b3b72_05ef_11ea_a6fb_107b449f15fclevel0_row4\" class=\"row_heading level0 row4\" >рим</th>\n",
       "                        <td id=\"T_e61b3b72_05ef_11ea_a6fb_107b449f15fcrow4_col0\" class=\"data row4 col0\" >0.05898</td>\n",
       "            </tr>\n",
       "            <tr>\n",
       "                        <th id=\"T_e61b3b72_05ef_11ea_a6fb_107b449f15fclevel0_row5\" class=\"row_heading level0 row5\" >история</th>\n",
       "                        <td id=\"T_e61b3b72_05ef_11ea_a6fb_107b449f15fcrow5_col0\" class=\"data row5 col0\" >0.05396</td>\n",
       "            </tr>\n",
       "            <tr>\n",
       "                        <th id=\"T_e61b3b72_05ef_11ea_a6fb_107b449f15fclevel0_row6\" class=\"row_heading level0 row6\" >демократия</th>\n",
       "                        <td id=\"T_e61b3b72_05ef_11ea_a6fb_107b449f15fcrow6_col0\" class=\"data row6 col0\" >0.03038</td>\n",
       "            </tr>\n",
       "            <tr>\n",
       "                        <th id=\"T_e61b3b72_05ef_11ea_a6fb_107b449f15fclevel0_row7\" class=\"row_heading level0 row7\" >национал-социализм</th>\n",
       "                        <td id=\"T_e61b3b72_05ef_11ea_a6fb_107b449f15fcrow7_col0\" class=\"data row7 col0\" >0.02724</td>\n",
       "            </tr>\n",
       "            <tr>\n",
       "                        <th id=\"T_e61b3b72_05ef_11ea_a6fb_107b449f15fclevel0_row8\" class=\"row_heading level0 row8\" >история_права</th>\n",
       "                        <td id=\"T_e61b3b72_05ef_11ea_a6fb_107b449f15fcrow8_col0\" class=\"data row8 col0\" >0.02682</td>\n",
       "            </tr>\n",
       "            <tr>\n",
       "                        <th id=\"T_e61b3b72_05ef_11ea_a6fb_107b449f15fclevel0_row9\" class=\"row_heading level0 row9\" >гитлер_адольф</th>\n",
       "                        <td id=\"T_e61b3b72_05ef_11ea_a6fb_107b449f15fcrow9_col0\" class=\"data row9 col0\" >0.025</td>\n",
       "            </tr>\n",
       "    </tbody></table><style  type=\"text/css\" >\n",
       "</style><table id=\"T_e61b3b73_05ef_11ea_a6fb_107b449f15fc\" style='display:inline'><thead>    <tr>        <th class=\"blank level0\" ></th>        <th class=\"col_heading level0 col0\" >topic_3 @word</th>    </tr></thead><tbody>\n",
       "                <tr>\n",
       "                        <th id=\"T_e61b3b73_05ef_11ea_a6fb_107b449f15fclevel0_row0\" class=\"row_heading level0 row0\" >право</th>\n",
       "                        <td id=\"T_e61b3b73_05ef_11ea_a6fb_107b449f15fcrow0_col0\" class=\"data row0 col0\" >0.01054</td>\n",
       "            </tr>\n",
       "            <tr>\n",
       "                        <th id=\"T_e61b3b73_05ef_11ea_a6fb_107b449f15fclevel0_row1\" class=\"row_heading level0 row1\" >музей</th>\n",
       "                        <td id=\"T_e61b3b73_05ef_11ea_a6fb_107b449f15fcrow1_col0\" class=\"data row1 col0\" >0.00708</td>\n",
       "            </tr>\n",
       "            <tr>\n",
       "                        <th id=\"T_e61b3b73_05ef_11ea_a6fb_107b449f15fclevel0_row2\" class=\"row_heading level0 row2\" >германия</th>\n",
       "                        <td id=\"T_e61b3b73_05ef_11ea_a6fb_107b449f15fcrow2_col0\" class=\"data row2 col0\" >0.0069</td>\n",
       "            </tr>\n",
       "            <tr>\n",
       "                        <th id=\"T_e61b3b73_05ef_11ea_a6fb_107b449f15fclevel0_row3\" class=\"row_heading level0 row3\" >государство</th>\n",
       "                        <td id=\"T_e61b3b73_05ef_11ea_a6fb_107b449f15fcrow3_col0\" class=\"data row3 col0\" >0.00443</td>\n",
       "            </tr>\n",
       "            <tr>\n",
       "                        <th id=\"T_e61b3b73_05ef_11ea_a6fb_107b449f15fclevel0_row4\" class=\"row_heading level0 row4\" >война</th>\n",
       "                        <td id=\"T_e61b3b73_05ef_11ea_a6fb_107b449f15fcrow4_col0\" class=\"data row4 col0\" >0.00422</td>\n",
       "            </tr>\n",
       "            <tr>\n",
       "                        <th id=\"T_e61b3b73_05ef_11ea_a6fb_107b449f15fclevel0_row5\" class=\"row_heading level0 row5\" >стать</th>\n",
       "                        <td id=\"T_e61b3b73_05ef_11ea_a6fb_107b449f15fcrow5_col0\" class=\"data row5 col0\" >0.0042</td>\n",
       "            </tr>\n",
       "            <tr>\n",
       "                        <th id=\"T_e61b3b73_05ef_11ea_a6fb_107b449f15fclevel0_row6\" class=\"row_heading level0 row6\" >франция</th>\n",
       "                        <td id=\"T_e61b3b73_05ef_11ea_a6fb_107b449f15fcrow6_col0\" class=\"data row6 col0\" >0.00371</td>\n",
       "            </tr>\n",
       "            <tr>\n",
       "                        <th id=\"T_e61b3b73_05ef_11ea_a6fb_107b449f15fclevel0_row7\" class=\"row_heading level0 row7\" >революция</th>\n",
       "                        <td id=\"T_e61b3b73_05ef_11ea_a6fb_107b449f15fcrow7_col0\" class=\"data row7 col0\" >0.00362</td>\n",
       "            </tr>\n",
       "            <tr>\n",
       "                        <th id=\"T_e61b3b73_05ef_11ea_a6fb_107b449f15fclevel0_row8\" class=\"row_heading level0 row8\" >закон</th>\n",
       "                        <td id=\"T_e61b3b73_05ef_11ea_a6fb_107b449f15fcrow8_col0\" class=\"data row8 col0\" >0.00351</td>\n",
       "            </tr>\n",
       "            <tr>\n",
       "                        <th id=\"T_e61b3b73_05ef_11ea_a6fb_107b449f15fclevel0_row9\" class=\"row_heading level0 row9\" >страна</th>\n",
       "                        <td id=\"T_e61b3b73_05ef_11ea_a6fb_107b449f15fcrow9_col0\" class=\"data row9 col0\" >0.00347</td>\n",
       "            </tr>\n",
       "    </tbody></table>"
      ]
     },
     "metadata": {},
     "output_type": "display_data"
    },
    {
     "data": {
      "text/html": [
       "<b> папство и россияистория дипломатических отношений </b><br /> как развивались отношения москвы и святого престола и с какими проблемами им приходилось сталкиваться?"
      ]
     },
     "metadata": {},
     "output_type": "display_data"
    },
    {
     "data": {
      "text/html": [
       "<b> левый терроризм в германии </b><br /> историк илья женин о студенческих протестах 1968 года, «фракции красной армии» и трагических событиях «немецкой осени»"
      ]
     },
     "metadata": {},
     "output_type": "display_data"
    },
    {
     "data": {
      "text/html": [
       "<b> 5 книг по истории германии в хх веке </b><br /> что читать об историческом развитии германии от веймарской республики до современности, рекомендует кандидат исторических наук илья женин"
      ]
     },
     "metadata": {},
     "output_type": "display_data"
    },
    {
     "data": {
      "text/html": [
       "<b> правовые последствия смешения вещей </b><br /> юрист денис новак о смешении однородных вещей, праве собственности на такое имущество и кондикционном иске"
      ]
     },
     "metadata": {},
     "output_type": "display_data"
    },
    {
     "data": {
      "text/html": [
       "<b> веймарская  республика </b><br /> историк илья женин о республике без республиканцев, октябрьской революции и социал-демократической партии"
      ]
     },
     "metadata": {},
     "output_type": "display_data"
    },
    {
     "data": {
      "text/html": [
       "<b> кондикция владения </b><br /> юрист денис новак о защите при неправомерном лишении владения, виндикационном и кондикционном исках и ценности владения имуществом"
      ]
     },
     "metadata": {},
     "output_type": "display_data"
    },
    {
     "data": {
      "text/html": [
       "<b> неисполнение и ответственность </b><br /> юрист дмитрий дождев об обязательствах должника, невозможности исполнения и положительном нарушении договора"
      ]
     },
     "metadata": {},
     "output_type": "display_data"
    },
    {
     "data": {
      "text/html": [
       "<b> «национал-социализм сыграл роковую роль в воспитании немецкого духа» </b><br /> интервью с историком ильей жениным о веймарской республике, советско-германских отношениях и немецком коллективизме"
      ]
     },
     "metadata": {},
     "output_type": "display_data"
    },
    {
     "data": {
      "text/html": [
       "<b> начало французской революции </b><br /> историк дмитрий бовыкин о движении санкюлотов, конституции 1791 года и псевдонаучных открытиях жан-поля марата"
      ]
     },
     "metadata": {},
     "output_type": "display_data"
    },
    {
     "data": {
      "text/html": [
       "<b> фидуциарные отношения </b><br /> юрист дмитрий дождев о привилегиях кредитора, англо-американском трасте и фидуции в германском праве"
      ]
     },
     "metadata": {},
     "output_type": "display_data"
    },
    {
     "data": {
      "text/html": [
       "<style  type=\"text/css\" >\n",
       "</style><table id=\"T_e61b3b74_05ef_11ea_a6fb_107b449f15fc\" style='display:inline'><thead>    <tr>        <th class=\"blank level0\" ></th>        <th class=\"col_heading level0 col0\" >topic_4 @2gramm</th>    </tr></thead><tbody>\n",
       "                <tr>\n",
       "                        <th id=\"T_e61b3b74_05ef_11ea_a6fb_107b449f15fclevel0_row0\" class=\"row_heading level0 row0\" >индоевропейский_язык</th>\n",
       "                        <td id=\"T_e61b3b74_05ef_11ea_a6fb_107b449f15fcrow0_col0\" class=\"data row0 col0\" >0.01217</td>\n",
       "            </tr>\n",
       "            <tr>\n",
       "                        <th id=\"T_e61b3b74_05ef_11ea_a6fb_107b449f15fclevel0_row1\" class=\"row_heading level0 row1\" >языковой_семья</th>\n",
       "                        <td id=\"T_e61b3b74_05ef_11ea_a6fb_107b449f15fcrow1_col0\" class=\"data row1 col0\" >0.01101</td>\n",
       "            </tr>\n",
       "            <tr>\n",
       "                        <th id=\"T_e61b3b74_05ef_11ea_a6fb_107b449f15fclevel0_row2\" class=\"row_heading level0 row2\" >человеческий_язык</th>\n",
       "                        <td id=\"T_e61b3b74_05ef_11ea_a6fb_107b449f15fcrow2_col0\" class=\"data row2 col0\" >0.01016</td>\n",
       "            </tr>\n",
       "            <tr>\n",
       "                        <th id=\"T_e61b3b74_05ef_11ea_a6fb_107b449f15fclevel0_row3\" class=\"row_heading level0 row3\" >устный_речь</th>\n",
       "                        <td id=\"T_e61b3b74_05ef_11ea_a6fb_107b449f15fcrow3_col0\" class=\"data row3 col0\" >0.00881</td>\n",
       "            </tr>\n",
       "            <tr>\n",
       "                        <th id=\"T_e61b3b74_05ef_11ea_a6fb_107b449f15fclevel0_row4\" class=\"row_heading level0 row4\" >естественный_язык</th>\n",
       "                        <td id=\"T_e61b3b74_05ef_11ea_a6fb_107b449f15fcrow4_col0\" class=\"data row4 col0\" >0.00764</td>\n",
       "            </tr>\n",
       "            <tr>\n",
       "                        <th id=\"T_e61b3b74_05ef_11ea_a6fb_107b449f15fclevel0_row5\" class=\"row_heading level0 row5\" >разный_язык</th>\n",
       "                        <td id=\"T_e61b3b74_05ef_11ea_a6fb_107b449f15fcrow5_col0\" class=\"data row5 col0\" >0.00723</td>\n",
       "            </tr>\n",
       "            <tr>\n",
       "                        <th id=\"T_e61b3b74_05ef_11ea_a6fb_107b449f15fclevel0_row6\" class=\"row_heading level0 row6\" >языковой_разнообразие</th>\n",
       "                        <td id=\"T_e61b3b74_05ef_11ea_a6fb_107b449f15fcrow6_col0\" class=\"data row6 col0\" >0.00661</td>\n",
       "            </tr>\n",
       "            <tr>\n",
       "                        <th id=\"T_e61b3b74_05ef_11ea_a6fb_107b449f15fclevel0_row7\" class=\"row_heading level0 row7\" >исторический_языкознание</th>\n",
       "                        <td id=\"T_e61b3b74_05ef_11ea_a6fb_107b449f15fcrow7_col0\" class=\"data row7 col0\" >0.00641</td>\n",
       "            </tr>\n",
       "            <tr>\n",
       "                        <th id=\"T_e61b3b74_05ef_11ea_a6fb_107b449f15fclevel0_row8\" class=\"row_heading level0 row8\" >носитель_язык</th>\n",
       "                        <td id=\"T_e61b3b74_05ef_11ea_a6fb_107b449f15fcrow8_col0\" class=\"data row8 col0\" >0.00637</td>\n",
       "            </tr>\n",
       "            <tr>\n",
       "                        <th id=\"T_e61b3b74_05ef_11ea_a6fb_107b449f15fclevel0_row9\" class=\"row_heading level0 row9\" >русский_язык</th>\n",
       "                        <td id=\"T_e61b3b74_05ef_11ea_a6fb_107b449f15fcrow9_col0\" class=\"data row9 col0\" >0.00626</td>\n",
       "            </tr>\n",
       "    </tbody></table><style  type=\"text/css\" >\n",
       "</style><table id=\"T_e61b3b75_05ef_11ea_a6fb_107b449f15fc\" style='display:inline'><thead>    <tr>        <th class=\"blank level0\" ></th>        <th class=\"col_heading level0 col0\" >topic_4 @3gramm</th>    </tr></thead><tbody>\n",
       "                <tr>\n",
       "                        <th id=\"T_e61b3b75_05ef_11ea_a6fb_107b449f15fclevel0_row0\" class=\"row_heading level0 row0\" >квантовый_теория_поль</th>\n",
       "                        <td id=\"T_e61b3b75_05ef_11ea_a6fb_107b449f15fcrow0_col0\" class=\"data row0 col0\" >0.38317</td>\n",
       "            </tr>\n",
       "            <tr>\n",
       "                        <th id=\"T_e61b3b75_05ef_11ea_a6fb_107b449f15fclevel0_row1\" class=\"row_heading level0 row1\" >конец_xviii_век</th>\n",
       "                        <td id=\"T_e61b3b75_05ef_11ea_a6fb_107b449f15fcrow1_col0\" class=\"data row1 col0\" >0.26988</td>\n",
       "            </tr>\n",
       "            <tr>\n",
       "                        <th id=\"T_e61b3b75_05ef_11ea_a6fb_107b449f15fclevel0_row2\" class=\"row_heading level0 row2\" >содержимый_большой_количество</th>\n",
       "                        <td id=\"T_e61b3b75_05ef_11ea_a6fb_107b449f15fcrow2_col0\" class=\"data row2 col0\" >0.04831</td>\n",
       "            </tr>\n",
       "            <tr>\n",
       "                        <th id=\"T_e61b3b75_05ef_11ea_a6fb_107b449f15fclevel0_row3\" class=\"row_heading level0 row3\" >система_машинный_перевод</th>\n",
       "                        <td id=\"T_e61b3b75_05ef_11ea_a6fb_107b449f15fcrow3_col0\" class=\"data row3 col0\" >0.04391</td>\n",
       "            </tr>\n",
       "            <tr>\n",
       "                        <th id=\"T_e61b3b75_05ef_11ea_a6fb_107b449f15fclevel0_row4\" class=\"row_heading level0 row4\" >форма_множественный_число</th>\n",
       "                        <td id=\"T_e61b3b75_05ef_11ea_a6fb_107b449f15fcrow4_col0\" class=\"data row4 col0\" >0.04383</td>\n",
       "            </tr>\n",
       "            <tr>\n",
       "                        <th id=\"T_e61b3b75_05ef_11ea_a6fb_107b449f15fclevel0_row5\" class=\"row_heading level0 row5\" >появляться_большой_количество</th>\n",
       "                        <td id=\"T_e61b3b75_05ef_11ea_a6fb_107b449f15fcrow5_col0\" class=\"data row5 col0\" >0.03726</td>\n",
       "            </tr>\n",
       "            <tr>\n",
       "                        <th id=\"T_e61b3b75_05ef_11ea_a6fb_107b449f15fclevel0_row6\" class=\"row_heading level0 row6\" >привести_простой_пример</th>\n",
       "                        <td id=\"T_e61b3b75_05ef_11ea_a6fb_107b449f15fcrow6_col0\" class=\"data row6 col0\" >0.03203</td>\n",
       "            </tr>\n",
       "            <tr>\n",
       "                        <th id=\"T_e61b3b75_05ef_11ea_a6fb_107b449f15fclevel0_row7\" class=\"row_heading level0 row7\" >корпус_русский_язык</th>\n",
       "                        <td id=\"T_e61b3b75_05ef_11ea_a6fb_107b449f15fcrow7_col0\" class=\"data row7 col0\" >0.0313</td>\n",
       "            </tr>\n",
       "            <tr>\n",
       "                        <th id=\"T_e61b3b75_05ef_11ea_a6fb_107b449f15fclevel0_row8\" class=\"row_heading level0 row8\" >следовать_обратить_внимание</th>\n",
       "                        <td id=\"T_e61b3b75_05ef_11ea_a6fb_107b449f15fcrow8_col0\" class=\"data row8 col0\" >0.03088</td>\n",
       "            </tr>\n",
       "            <tr>\n",
       "                        <th id=\"T_e61b3b75_05ef_11ea_a6fb_107b449f15fclevel0_row9\" class=\"row_heading level0 row9\" >представлять_особый_интерес</th>\n",
       "                        <td id=\"T_e61b3b75_05ef_11ea_a6fb_107b449f15fcrow9_col0\" class=\"data row9 col0\" >0.02311</td>\n",
       "            </tr>\n",
       "    </tbody></table><style  type=\"text/css\" >\n",
       "</style><table id=\"T_e61b3b76_05ef_11ea_a6fb_107b449f15fc\" style='display:inline'><thead>    <tr>        <th class=\"blank level0\" ></th>        <th class=\"col_heading level0 col0\" >topic_4 @post_tag</th>    </tr></thead><tbody>\n",
       "                <tr>\n",
       "                        <th id=\"T_e61b3b76_05ef_11ea_a6fb_107b449f15fclevel0_row0\" class=\"row_heading level0 row0\" >язык</th>\n",
       "                        <td id=\"T_e61b3b76_05ef_11ea_a6fb_107b449f15fcrow0_col0\" class=\"data row0 col0\" >0.29842</td>\n",
       "            </tr>\n",
       "            <tr>\n",
       "                        <th id=\"T_e61b3b76_05ef_11ea_a6fb_107b449f15fclevel0_row1\" class=\"row_heading level0 row1\" >лингвистика</th>\n",
       "                        <td id=\"T_e61b3b76_05ef_11ea_a6fb_107b449f15fcrow1_col0\" class=\"data row1 col0\" >0.2605</td>\n",
       "            </tr>\n",
       "            <tr>\n",
       "                        <th id=\"T_e61b3b76_05ef_11ea_a6fb_107b449f15fclevel0_row2\" class=\"row_heading level0 row2\" >филология</th>\n",
       "                        <td id=\"T_e61b3b76_05ef_11ea_a6fb_107b449f15fcrow2_col0\" class=\"data row2 col0\" >0.05954</td>\n",
       "            </tr>\n",
       "            <tr>\n",
       "                        <th id=\"T_e61b3b76_05ef_11ea_a6fb_107b449f15fclevel0_row3\" class=\"row_heading level0 row3\" >лингвистическая_компаративистика</th>\n",
       "                        <td id=\"T_e61b3b76_05ef_11ea_a6fb_107b449f15fcrow3_col0\" class=\"data row3 col0\" >0.03034</td>\n",
       "            </tr>\n",
       "            <tr>\n",
       "                        <th id=\"T_e61b3b76_05ef_11ea_a6fb_107b449f15fclevel0_row4\" class=\"row_heading level0 row4\" >коммуникация</th>\n",
       "                        <td id=\"T_e61b3b76_05ef_11ea_a6fb_107b449f15fcrow4_col0\" class=\"data row4 col0\" >0.02831</td>\n",
       "            </tr>\n",
       "            <tr>\n",
       "                        <th id=\"T_e61b3b76_05ef_11ea_a6fb_107b449f15fclevel0_row5\" class=\"row_heading level0 row5\" >праязык</th>\n",
       "                        <td id=\"T_e61b3b76_05ef_11ea_a6fb_107b449f15fcrow5_col0\" class=\"data row5 col0\" >0.02465</td>\n",
       "            </tr>\n",
       "            <tr>\n",
       "                        <th id=\"T_e61b3b76_05ef_11ea_a6fb_107b449f15fclevel0_row6\" class=\"row_heading level0 row6\" >полевая_лингвистика</th>\n",
       "                        <td id=\"T_e61b3b76_05ef_11ea_a6fb_107b449f15fcrow6_col0\" class=\"data row6 col0\" >0.02385</td>\n",
       "            </tr>\n",
       "            <tr>\n",
       "                        <th id=\"T_e61b3b76_05ef_11ea_a6fb_107b449f15fclevel0_row7\" class=\"row_heading level0 row7\" >корпусная_лингвистика</th>\n",
       "                        <td id=\"T_e61b3b76_05ef_11ea_a6fb_107b449f15fcrow7_col0\" class=\"data row7 col0\" >0.02084</td>\n",
       "            </tr>\n",
       "            <tr>\n",
       "                        <th id=\"T_e61b3b76_05ef_11ea_a6fb_107b449f15fclevel0_row8\" class=\"row_heading level0 row8\" >африка</th>\n",
       "                        <td id=\"T_e61b3b76_05ef_11ea_a6fb_107b449f15fcrow8_col0\" class=\"data row8 col0\" >0.01937</td>\n",
       "            </tr>\n",
       "            <tr>\n",
       "                        <th id=\"T_e61b3b76_05ef_11ea_a6fb_107b449f15fclevel0_row9\" class=\"row_heading level0 row9\" >грамматика</th>\n",
       "                        <td id=\"T_e61b3b76_05ef_11ea_a6fb_107b449f15fcrow9_col0\" class=\"data row9 col0\" >0.01922</td>\n",
       "            </tr>\n",
       "    </tbody></table><style  type=\"text/css\" >\n",
       "</style><table id=\"T_e61b3b77_05ef_11ea_a6fb_107b449f15fc\" style='display:inline'><thead>    <tr>        <th class=\"blank level0\" ></th>        <th class=\"col_heading level0 col0\" >topic_4 @word</th>    </tr></thead><tbody>\n",
       "                <tr>\n",
       "                        <th id=\"T_e61b3b77_05ef_11ea_a6fb_107b449f15fclevel0_row0\" class=\"row_heading level0 row0\" >язык</th>\n",
       "                        <td id=\"T_e61b3b77_05ef_11ea_a6fb_107b449f15fcrow0_col0\" class=\"data row0 col0\" >0.04873</td>\n",
       "            </tr>\n",
       "            <tr>\n",
       "                        <th id=\"T_e61b3b77_05ef_11ea_a6fb_107b449f15fclevel0_row1\" class=\"row_heading level0 row1\" >слово</th>\n",
       "                        <td id=\"T_e61b3b77_05ef_11ea_a6fb_107b449f15fcrow1_col0\" class=\"data row1 col0\" >0.01456</td>\n",
       "            </tr>\n",
       "            <tr>\n",
       "                        <th id=\"T_e61b3b77_05ef_11ea_a6fb_107b449f15fclevel0_row2\" class=\"row_heading level0 row2\" >говорить</th>\n",
       "                        <td id=\"T_e61b3b77_05ef_11ea_a6fb_107b449f15fcrow2_col0\" class=\"data row2 col0\" >0.00754</td>\n",
       "            </tr>\n",
       "            <tr>\n",
       "                        <th id=\"T_e61b3b77_05ef_11ea_a6fb_107b449f15fclevel0_row3\" class=\"row_heading level0 row3\" >лингвист</th>\n",
       "                        <td id=\"T_e61b3b77_05ef_11ea_a6fb_107b449f15fcrow3_col0\" class=\"data row3 col0\" >0.00637</td>\n",
       "            </tr>\n",
       "            <tr>\n",
       "                        <th id=\"T_e61b3b77_05ef_11ea_a6fb_107b449f15fclevel0_row4\" class=\"row_heading level0 row4\" >звук</th>\n",
       "                        <td id=\"T_e61b3b77_05ef_11ea_a6fb_107b449f15fcrow4_col0\" class=\"data row4 col0\" >0.0042</td>\n",
       "            </tr>\n",
       "            <tr>\n",
       "                        <th id=\"T_e61b3b77_05ef_11ea_a6fb_107b449f15fclevel0_row5\" class=\"row_heading level0 row5\" >текст</th>\n",
       "                        <td id=\"T_e61b3b77_05ef_11ea_a6fb_107b449f15fcrow5_col0\" class=\"data row5 col0\" >0.00405</td>\n",
       "            </tr>\n",
       "            <tr>\n",
       "                        <th id=\"T_e61b3b77_05ef_11ea_a6fb_107b449f15fclevel0_row6\" class=\"row_heading level0 row6\" >речь</th>\n",
       "                        <td id=\"T_e61b3b77_05ef_11ea_a6fb_107b449f15fcrow6_col0\" class=\"data row6 col0\" >0.00381</td>\n",
       "            </tr>\n",
       "            <tr>\n",
       "                        <th id=\"T_e61b3b77_05ef_11ea_a6fb_107b449f15fclevel0_row7\" class=\"row_heading level0 row7\" >предложение</th>\n",
       "                        <td id=\"T_e61b3b77_05ef_11ea_a6fb_107b449f15fcrow7_col0\" class=\"data row7 col0\" >0.00359</td>\n",
       "            </tr>\n",
       "            <tr>\n",
       "                        <th id=\"T_e61b3b77_05ef_11ea_a6fb_107b449f15fclevel0_row8\" class=\"row_heading level0 row8\" >существовать</th>\n",
       "                        <td id=\"T_e61b3b77_05ef_11ea_a6fb_107b449f15fcrow8_col0\" class=\"data row8 col0\" >0.0034</td>\n",
       "            </tr>\n",
       "            <tr>\n",
       "                        <th id=\"T_e61b3b77_05ef_11ea_a6fb_107b449f15fclevel0_row9\" class=\"row_heading level0 row9\" >языковой</th>\n",
       "                        <td id=\"T_e61b3b77_05ef_11ea_a6fb_107b449f15fcrow9_col0\" class=\"data row9 col0\" >0.00338</td>\n",
       "            </tr>\n",
       "    </tbody></table>"
      ]
     },
     "metadata": {},
     "output_type": "display_data"
    },
    {
     "data": {
      "text/html": [
       "<b> главы # в поисках родины </b><br /> отрывок из книги «генетическая одиссея человека» антрополога и популяционного генетика  спенсера уэллса"
      ]
     },
     "metadata": {},
     "output_type": "display_data"
    },
    {
     "data": {
      "text/html": [
       "<b> машинный перевод на основе правил </b><br /> лингвист леонид иомдин о контроле смысла переведенного текста, интегральном описании языка и синтаксической неоднозначности"
      ]
     },
     "metadata": {},
     "output_type": "display_data"
    },
    {
     "data": {
      "text/html": [
       "<b> тело в русском языке и культуре </b><br /> лингвист григорий крейдлин о семиотической концептуализации тела, глубине членимости и свойствах телесных объектов"
      ]
     },
     "metadata": {},
     "output_type": "display_data"
    },
    {
     "data": {
      "text/html": [
       "<b> как взаимодействуют язык бытовой и язык официальный? </b><br /> лингвист борис иомдин об активном словарном запасе, языковых изменениях и текстах официальных документов"
      ]
     },
     "metadata": {},
     "output_type": "display_data"
    },
    {
     "data": {
      "text/html": [
       "<b> faqмультимодальная лингвистика </b><br /> 6 фактов о невербальной коммуникации, процессе понимания речи и будущем лингвистики"
      ]
     },
     "metadata": {},
     "output_type": "display_data"
    },
    {
     "data": {
      "text/html": [
       "<b> 5 книг о сравнительно-историческом языкознании </b><br /> что читать о методах и различных теориях компаративной лингвистики, рекомендует кандидат филологических наук георгий старостин"
      ]
     },
     "metadata": {},
     "output_type": "display_data"
    },
    {
     "data": {
      "text/html": [
       "<b> faqметоды полевой лингвистики </b><br /> 7 фактов о способах работы с информантами"
      ]
     },
     "metadata": {},
     "output_type": "display_data"
    },
    {
     "data": {
      "text/html": [
       "<b> faqязык в интернете </b><br /> 6 фактов о трансформациях, произошедших с языком под влиянием новых средств коммуникаций"
      ]
     },
     "metadata": {},
     "output_type": "display_data"
    },
    {
     "data": {
      "text/html": [
       "<b> faqлингвистический анализ рассказов </b><br /> 6 фактов относительно структуры рассказа, компетенций рассказчика и дискурсивного жанра"
      ]
     },
     "metadata": {},
     "output_type": "display_data"
    },
    {
     "data": {
      "text/html": [
       "<b> faqоткрытие новых языков </b><br /> 7 фактов о работе лингвистов, корпусе текстов и качественных информантах"
      ]
     },
     "metadata": {},
     "output_type": "display_data"
    },
    {
     "data": {
      "text/html": [
       "<style  type=\"text/css\" >\n",
       "</style><table id=\"T_e61b3b78_05ef_11ea_a6fb_107b449f15fc\" style='display:inline'><thead>    <tr>        <th class=\"blank level0\" ></th>        <th class=\"col_heading level0 col0\" >topic_5 @2gramm</th>    </tr></thead><tbody>\n",
       "                <tr>\n",
       "                        <th id=\"T_e61b3b78_05ef_11ea_a6fb_107b449f15fclevel0_row0\" class=\"row_heading level0 row0\" >советский_союз</th>\n",
       "                        <td id=\"T_e61b3b78_05ef_11ea_a6fb_107b449f15fcrow0_col0\" class=\"data row0 col0\" >0.02028</td>\n",
       "            </tr>\n",
       "            <tr>\n",
       "                        <th id=\"T_e61b3b78_05ef_11ea_a6fb_107b449f15fclevel0_row1\" class=\"row_heading level0 row1\" >мировой_война</th>\n",
       "                        <td id=\"T_e61b3b78_05ef_11ea_a6fb_107b449f15fcrow1_col0\" class=\"data row1 col0\" >0.02016</td>\n",
       "            </tr>\n",
       "            <tr>\n",
       "                        <th id=\"T_e61b3b78_05ef_11ea_a6fb_107b449f15fclevel0_row2\" class=\"row_heading level0 row2\" >гражданский_война</th>\n",
       "                        <td id=\"T_e61b3b78_05ef_11ea_a6fb_107b449f15fcrow2_col0\" class=\"data row2 col0\" >0.01509</td>\n",
       "            </tr>\n",
       "            <tr>\n",
       "                        <th id=\"T_e61b3b78_05ef_11ea_a6fb_107b449f15fclevel0_row3\" class=\"row_heading level0 row3\" >политический_философия</th>\n",
       "                        <td id=\"T_e61b3b78_05ef_11ea_a6fb_107b449f15fcrow3_col0\" class=\"data row3 col0\" >0.01176</td>\n",
       "            </tr>\n",
       "            <tr>\n",
       "                        <th id=\"T_e61b3b78_05ef_11ea_a6fb_107b449f15fclevel0_row4\" class=\"row_heading level0 row4\" >политика_память</th>\n",
       "                        <td id=\"T_e61b3b78_05ef_11ea_a6fb_107b449f15fcrow4_col0\" class=\"data row4 col0\" >0.00966</td>\n",
       "            </tr>\n",
       "            <tr>\n",
       "                        <th id=\"T_e61b3b78_05ef_11ea_a6fb_107b449f15fclevel0_row5\" class=\"row_heading level0 row5\" >советский_власть</th>\n",
       "                        <td id=\"T_e61b3b78_05ef_11ea_a6fb_107b449f15fcrow5_col0\" class=\"data row5 col0\" >0.00699</td>\n",
       "            </tr>\n",
       "            <tr>\n",
       "                        <th id=\"T_e61b3b78_05ef_11ea_a6fb_107b449f15fclevel0_row6\" class=\"row_heading level0 row6\" >красный_армия</th>\n",
       "                        <td id=\"T_e61b3b78_05ef_11ea_a6fb_107b449f15fcrow6_col0\" class=\"data row6 col0\" >0.0062</td>\n",
       "            </tr>\n",
       "            <tr>\n",
       "                        <th id=\"T_e61b3b78_05ef_11ea_a6fb_107b449f15fclevel0_row7\" class=\"row_heading level0 row7\" >начало_война</th>\n",
       "                        <td id=\"T_e61b3b78_05ef_11ea_a6fb_107b449f15fcrow7_col0\" class=\"data row7 col0\" >0.00553</td>\n",
       "            </tr>\n",
       "            <tr>\n",
       "                        <th id=\"T_e61b3b78_05ef_11ea_a6fb_107b449f15fclevel0_row8\" class=\"row_heading level0 row8\" >российский_империя</th>\n",
       "                        <td id=\"T_e61b3b78_05ef_11ea_a6fb_107b449f15fcrow8_col0\" class=\"data row8 col0\" >0.0051</td>\n",
       "            </tr>\n",
       "            <tr>\n",
       "                        <th id=\"T_e61b3b78_05ef_11ea_a6fb_107b449f15fclevel0_row9\" class=\"row_heading level0 row9\" >политический_режим</th>\n",
       "                        <td id=\"T_e61b3b78_05ef_11ea_a6fb_107b449f15fcrow9_col0\" class=\"data row9 col0\" >0.00493</td>\n",
       "            </tr>\n",
       "    </tbody></table><style  type=\"text/css\" >\n",
       "</style><table id=\"T_e61b3b79_05ef_11ea_a6fb_107b449f15fc\" style='display:inline'><thead>    <tr>        <th class=\"blank level0\" ></th>        <th class=\"col_heading level0 col0\" >topic_5 @3gramm</th>    </tr></thead><tbody>\n",
       "                <tr>\n",
       "                        <th id=\"T_e61b3b79_05ef_11ea_a6fb_107b449f15fclevel0_row0\" class=\"row_heading level0 row0\" >великий_отечественный_война</th>\n",
       "                        <td id=\"T_e61b3b79_05ef_11ea_a6fb_107b449f15fcrow0_col0\" class=\"data row0 col0\" >0.31003</td>\n",
       "            </tr>\n",
       "            <tr>\n",
       "                        <th id=\"T_e61b3b79_05ef_11ea_a6fb_107b449f15fclevel0_row1\" class=\"row_heading level0 row1\" >существовать_огромный_количество</th>\n",
       "                        <td id=\"T_e61b3b79_05ef_11ea_a6fb_107b449f15fcrow1_col0\" class=\"data row1 col0\" >0.15082</td>\n",
       "            </tr>\n",
       "            <tr>\n",
       "                        <th id=\"T_e61b3b79_05ef_11ea_a6fb_107b449f15fclevel0_row2\" class=\"row_heading level0 row2\" >сыграть_ключевой_роль</th>\n",
       "                        <td id=\"T_e61b3b79_05ef_11ea_a6fb_107b449f15fcrow2_col0\" class=\"data row2 col0\" >0.0793</td>\n",
       "            </tr>\n",
       "            <tr>\n",
       "                        <th id=\"T_e61b3b79_05ef_11ea_a6fb_107b449f15fclevel0_row3\" class=\"row_heading level0 row3\" >сыграть_важный_роль</th>\n",
       "                        <td id=\"T_e61b3b79_05ef_11ea_a6fb_107b449f15fcrow3_col0\" class=\"data row3 col0\" >0.07929</td>\n",
       "            </tr>\n",
       "            <tr>\n",
       "                        <th id=\"T_e61b3b79_05ef_11ea_a6fb_107b449f15fclevel0_row4\" class=\"row_heading level0 row4\" >состав_российский_империя</th>\n",
       "                        <td id=\"T_e61b3b79_05ef_11ea_a6fb_107b449f15fcrow4_col0\" class=\"data row4 col0\" >0.06349</td>\n",
       "            </tr>\n",
       "            <tr>\n",
       "                        <th id=\"T_e61b3b79_05ef_11ea_a6fb_107b449f15fclevel0_row5\" class=\"row_heading level0 row5\" >противоречащий_друг_друг</th>\n",
       "                        <td id=\"T_e61b3b79_05ef_11ea_a6fb_107b449f15fcrow5_col0\" class=\"data row5 col0\" >0.06331</td>\n",
       "            </tr>\n",
       "            <tr>\n",
       "                        <th id=\"T_e61b3b79_05ef_11ea_a6fb_107b449f15fclevel0_row6\" class=\"row_heading level0 row6\" >практический_точка_зрение</th>\n",
       "                        <td id=\"T_e61b3b79_05ef_11ea_a6fb_107b449f15fcrow6_col0\" class=\"data row6 col0\" >0.05847</td>\n",
       "            </tr>\n",
       "            <tr>\n",
       "                        <th id=\"T_e61b3b79_05ef_11ea_a6fb_107b449f15fclevel0_row7\" class=\"row_heading level0 row7\" >найти_общий_язык</th>\n",
       "                        <td id=\"T_e61b3b79_05ef_11ea_a6fb_107b449f15fcrow7_col0\" class=\"data row7 col0\" >0.04759</td>\n",
       "            </tr>\n",
       "            <tr>\n",
       "                        <th id=\"T_e61b3b79_05ef_11ea_a6fb_107b449f15fclevel0_row8\" class=\"row_heading level0 row8\" >многий_европейский_страна</th>\n",
       "                        <td id=\"T_e61b3b79_05ef_11ea_a6fb_107b449f15fcrow8_col0\" class=\"data row8 col0\" >0.04708</td>\n",
       "            </tr>\n",
       "            <tr>\n",
       "                        <th id=\"T_e61b3b79_05ef_11ea_a6fb_107b449f15fclevel0_row9\" class=\"row_heading level0 row9\" >крайний_мера_часть</th>\n",
       "                        <td id=\"T_e61b3b79_05ef_11ea_a6fb_107b449f15fcrow9_col0\" class=\"data row9 col0\" >0.03901</td>\n",
       "            </tr>\n",
       "    </tbody></table><style  type=\"text/css\" >\n",
       "</style><table id=\"T_e61b3b7a_05ef_11ea_a6fb_107b449f15fc\" style='display:inline'><thead>    <tr>        <th class=\"blank level0\" ></th>        <th class=\"col_heading level0 col0\" >topic_5 @post_tag</th>    </tr></thead><tbody>\n",
       "                <tr>\n",
       "                        <th id=\"T_e61b3b7a_05ef_11ea_a6fb_107b449f15fclevel0_row0\" class=\"row_heading level0 row0\" >история_россии</th>\n",
       "                        <td id=\"T_e61b3b7a_05ef_11ea_a6fb_107b449f15fcrow0_col0\" class=\"data row0 col0\" >0.17955</td>\n",
       "            </tr>\n",
       "            <tr>\n",
       "                        <th id=\"T_e61b3b7a_05ef_11ea_a6fb_107b449f15fclevel0_row1\" class=\"row_heading level0 row1\" >ссср</th>\n",
       "                        <td id=\"T_e61b3b7a_05ef_11ea_a6fb_107b449f15fcrow1_col0\" class=\"data row1 col0\" >0.17151</td>\n",
       "            </tr>\n",
       "            <tr>\n",
       "                        <th id=\"T_e61b3b7a_05ef_11ea_a6fb_107b449f15fclevel0_row2\" class=\"row_heading level0 row2\" >история</th>\n",
       "                        <td id=\"T_e61b3b7a_05ef_11ea_a6fb_107b449f15fcrow2_col0\" class=\"data row2 col0\" >0.09397</td>\n",
       "            </tr>\n",
       "            <tr>\n",
       "                        <th id=\"T_e61b3b7a_05ef_11ea_a6fb_107b449f15fclevel0_row3\" class=\"row_heading level0 row3\" >политическая_философия</th>\n",
       "                        <td id=\"T_e61b3b7a_05ef_11ea_a6fb_107b449f15fcrow3_col0\" class=\"data row3 col0\" >0.0536</td>\n",
       "            </tr>\n",
       "            <tr>\n",
       "                        <th id=\"T_e61b3b7a_05ef_11ea_a6fb_107b449f15fclevel0_row4\" class=\"row_heading level0 row4\" >россия</th>\n",
       "                        <td id=\"T_e61b3b7a_05ef_11ea_a6fb_107b449f15fcrow4_col0\" class=\"data row4 col0\" >0.04632</td>\n",
       "            </tr>\n",
       "            <tr>\n",
       "                        <th id=\"T_e61b3b7a_05ef_11ea_a6fb_107b449f15fclevel0_row5\" class=\"row_heading level0 row5\" >политика</th>\n",
       "                        <td id=\"T_e61b3b7a_05ef_11ea_a6fb_107b449f15fcrow5_col0\" class=\"data row5 col0\" >0.04134</td>\n",
       "            </tr>\n",
       "            <tr>\n",
       "                        <th id=\"T_e61b3b7a_05ef_11ea_a6fb_107b449f15fclevel0_row6\" class=\"row_heading level0 row6\" >сталин_иосиф</th>\n",
       "                        <td id=\"T_e61b3b7a_05ef_11ea_a6fb_107b449f15fcrow6_col0\" class=\"data row6 col0\" >0.03585</td>\n",
       "            </tr>\n",
       "            <tr>\n",
       "                        <th id=\"T_e61b3b7a_05ef_11ea_a6fb_107b449f15fclevel0_row7\" class=\"row_heading level0 row7\" >власть</th>\n",
       "                        <td id=\"T_e61b3b7a_05ef_11ea_a6fb_107b449f15fcrow7_col0\" class=\"data row7 col0\" >0.03307</td>\n",
       "            </tr>\n",
       "            <tr>\n",
       "                        <th id=\"T_e61b3b7a_05ef_11ea_a6fb_107b449f15fclevel0_row8\" class=\"row_heading level0 row8\" >вторая_мировая_война</th>\n",
       "                        <td id=\"T_e61b3b7a_05ef_11ea_a6fb_107b449f15fcrow8_col0\" class=\"data row8 col0\" >0.03199</td>\n",
       "            </tr>\n",
       "            <tr>\n",
       "                        <th id=\"T_e61b3b7a_05ef_11ea_a6fb_107b449f15fclevel0_row9\" class=\"row_heading level0 row9\" >историческая_память</th>\n",
       "                        <td id=\"T_e61b3b7a_05ef_11ea_a6fb_107b449f15fcrow9_col0\" class=\"data row9 col0\" >0.02812</td>\n",
       "            </tr>\n",
       "    </tbody></table><style  type=\"text/css\" >\n",
       "</style><table id=\"T_e61b3b7b_05ef_11ea_a6fb_107b449f15fc\" style='display:inline'><thead>    <tr>        <th class=\"blank level0\" ></th>        <th class=\"col_heading level0 col0\" >topic_5 @word</th>    </tr></thead><tbody>\n",
       "                <tr>\n",
       "                        <th id=\"T_e61b3b7b_05ef_11ea_a6fb_107b449f15fclevel0_row0\" class=\"row_heading level0 row0\" >сталин</th>\n",
       "                        <td id=\"T_e61b3b7b_05ef_11ea_a6fb_107b449f15fcrow0_col0\" class=\"data row0 col0\" >0.00753</td>\n",
       "            </tr>\n",
       "            <tr>\n",
       "                        <th id=\"T_e61b3b7b_05ef_11ea_a6fb_107b449f15fclevel0_row1\" class=\"row_heading level0 row1\" >история</th>\n",
       "                        <td id=\"T_e61b3b7b_05ef_11ea_a6fb_107b449f15fcrow1_col0\" class=\"data row1 col0\" >0.00741</td>\n",
       "            </tr>\n",
       "            <tr>\n",
       "                        <th id=\"T_e61b3b7b_05ef_11ea_a6fb_107b449f15fclevel0_row2\" class=\"row_heading level0 row2\" >россия</th>\n",
       "                        <td id=\"T_e61b3b7b_05ef_11ea_a6fb_107b449f15fcrow2_col0\" class=\"data row2 col0\" >0.00684</td>\n",
       "            </tr>\n",
       "            <tr>\n",
       "                        <th id=\"T_e61b3b7b_05ef_11ea_a6fb_107b449f15fclevel0_row3\" class=\"row_heading level0 row3\" >война</th>\n",
       "                        <td id=\"T_e61b3b7b_05ef_11ea_a6fb_107b449f15fcrow3_col0\" class=\"data row3 col0\" >0.00659</td>\n",
       "            </tr>\n",
       "            <tr>\n",
       "                        <th id=\"T_e61b3b7b_05ef_11ea_a6fb_107b449f15fclevel0_row4\" class=\"row_heading level0 row4\" >власть</th>\n",
       "                        <td id=\"T_e61b3b7b_05ef_11ea_a6fb_107b449f15fcrow4_col0\" class=\"data row4 col0\" >0.00599</td>\n",
       "            </tr>\n",
       "            <tr>\n",
       "                        <th id=\"T_e61b3b7b_05ef_11ea_a6fb_107b449f15fclevel0_row5\" class=\"row_heading level0 row5\" >советский</th>\n",
       "                        <td id=\"T_e61b3b7b_05ef_11ea_a6fb_107b449f15fcrow5_col0\" class=\"data row5 col0\" >0.00581</td>\n",
       "            </tr>\n",
       "            <tr>\n",
       "                        <th id=\"T_e61b3b7b_05ef_11ea_a6fb_107b449f15fclevel0_row6\" class=\"row_heading level0 row6\" >государство</th>\n",
       "                        <td id=\"T_e61b3b7b_05ef_11ea_a6fb_107b449f15fcrow6_col0\" class=\"data row6 col0\" >0.00456</td>\n",
       "            </tr>\n",
       "            <tr>\n",
       "                        <th id=\"T_e61b3b7b_05ef_11ea_a6fb_107b449f15fclevel0_row7\" class=\"row_heading level0 row7\" >страна</th>\n",
       "                        <td id=\"T_e61b3b7b_05ef_11ea_a6fb_107b449f15fcrow7_col0\" class=\"data row7 col0\" >0.00455</td>\n",
       "            </tr>\n",
       "            <tr>\n",
       "                        <th id=\"T_e61b3b7b_05ef_11ea_a6fb_107b449f15fclevel0_row8\" class=\"row_heading level0 row8\" >политический</th>\n",
       "                        <td id=\"T_e61b3b7b_05ef_11ea_a6fb_107b449f15fcrow8_col0\" class=\"data row8 col0\" >0.00401</td>\n",
       "            </tr>\n",
       "            <tr>\n",
       "                        <th id=\"T_e61b3b7b_05ef_11ea_a6fb_107b449f15fclevel0_row9\" class=\"row_heading level0 row9\" >историк</th>\n",
       "                        <td id=\"T_e61b3b7b_05ef_11ea_a6fb_107b449f15fcrow9_col0\" class=\"data row9 col0\" >0.00396</td>\n",
       "            </tr>\n",
       "    </tbody></table>"
      ]
     },
     "metadata": {},
     "output_type": "display_data"
    },
    {
     "data": {
      "text/html": [
       "<b> главыинтерпретации сталинградской битвы </b><br /> отрывок из книги «сталинградская битвасвидетельства участников и очевидцев», вышедшей под редакцией историка йохена хелльбека"
      ]
     },
     "metadata": {},
     "output_type": "display_data"
    },
    {
     "data": {
      "text/html": [
       "<b> главысталин на войне </b><br /> отрывок из книги  «сталин. жизнь одного вождя» историка олега хлевнюка о роли сталина в поражениях и победах в великой отечественной войне"
      ]
     },
     "metadata": {},
     "output_type": "display_data"
    },
    {
     "data": {
      "text/html": [
       "<b> культурная память о первой мировой </b><br /> историк борис колоницкий об источниках информации о первой мировой войне, политике памяти европейских стран и травме гражданской войны"
      ]
     },
     "metadata": {},
     "output_type": "display_data"
    },
    {
     "data": {
      "text/html": [
       "<b> «первая мировая война потеряна, у нас нет ее в памяти» </b><br /> интервью с историком алексеем миллером о политике памяти, войне 1812 года и значении «георгиевской ленточки»"
      ]
     },
     "metadata": {},
     "output_type": "display_data"
    },
    {
     "data": {
      "text/html": [
       "<b> эпоха сталина </b><br /> 11 материалов историка олега хлевнюка о зарождении и гибели сталинской эпохи, проблемах ее интерпретации и значении для мировой истории"
      ]
     },
     "metadata": {},
     "output_type": "display_data"
    },
    {
     "data": {
      "text/html": [
       "<b> приход сталина к власти </b><br /> историк олег хлевнюк о системе коллективного руководства после смерти ленина, заявлении сталина об отставке и полном контроле над органами госбезопасности"
      ]
     },
     "metadata": {},
     "output_type": "display_data"
    },
    {
     "data": {
      "text/html": [
       "<b> «сталин, коба и сосо. молодой сталин в исторических источниках» </b><br /> историк ольга эдельман о дореволюционной биографии сталина, проблеме верификации источников и задачах исторического исследования"
      ]
     },
     "metadata": {},
     "output_type": "display_data"
    },
    {
     "data": {
      "text/html": [
       "<b> патриотическая риторика в годы гражданской войны </b><br /> историк людмила новикова об антибольшевистском лагере, красной пропаганде и мифе об интервенции"
      ]
     },
     "metadata": {},
     "output_type": "display_data"
    },
    {
     "data": {
      "text/html": [
       "<b> практики построения личности в утопических сообществах </b><br /> как педагогические технологии влияли на жизнь советских детей и подростков"
      ]
     },
     "metadata": {},
     "output_type": "display_data"
    },
    {
     "data": {
      "text/html": [
       "<b> автограф«актуальное прошлое» </b><br /> политолог ольга малинова об интерпретациях исторических событий, концепции тысячелетней истории россии и важности дня победы для современной политики памяти"
      ]
     },
     "metadata": {},
     "output_type": "display_data"
    },
    {
     "data": {
      "text/html": [
       "<style  type=\"text/css\" >\n",
       "</style><table id=\"T_e61b3b7c_05ef_11ea_a6fb_107b449f15fc\" style='display:inline'><thead>    <tr>        <th class=\"blank level0\" ></th>        <th class=\"col_heading level0 col0\" >topic_6 @2gramm</th>    </tr></thead><tbody>\n",
       "                <tr>\n",
       "                        <th id=\"T_e61b3b7c_05ef_11ea_a6fb_107b449f15fclevel0_row0\" class=\"row_heading level0 row0\" >нитрид_бора</th>\n",
       "                        <td id=\"T_e61b3b7c_05ef_11ea_a6fb_107b449f15fcrow0_col0\" class=\"data row0 col0\" >0.01453</td>\n",
       "            </tr>\n",
       "            <tr>\n",
       "                        <th id=\"T_e61b3b7c_05ef_11ea_a6fb_107b449f15fclevel0_row1\" class=\"row_heading level0 row1\" >поведение_животное</th>\n",
       "                        <td id=\"T_e61b3b7c_05ef_11ea_a6fb_107b449f15fcrow1_col0\" class=\"data row1 col0\" >0.0093</td>\n",
       "            </tr>\n",
       "            <tr>\n",
       "                        <th id=\"T_e61b3b7c_05ef_11ea_a6fb_107b449f15fclevel0_row2\" class=\"row_heading level0 row2\" >юрский_период</th>\n",
       "                        <td id=\"T_e61b3b7c_05ef_11ea_a6fb_107b449f15fcrow2_col0\" class=\"data row2 col0\" >0.00862</td>\n",
       "            </tr>\n",
       "            <tr>\n",
       "                        <th id=\"T_e61b3b7c_05ef_11ea_a6fb_107b449f15fclevel0_row3\" class=\"row_heading level0 row3\" >южный_америка</th>\n",
       "                        <td id=\"T_e61b3b7c_05ef_11ea_a6fb_107b449f15fcrow3_col0\" class=\"data row3 col0\" >0.0082</td>\n",
       "            </tr>\n",
       "            <tr>\n",
       "                        <th id=\"T_e61b3b7c_05ef_11ea_a6fb_107b449f15fclevel0_row4\" class=\"row_heading level0 row4\" >живой_организм</th>\n",
       "                        <td id=\"T_e61b3b7c_05ef_11ea_a6fb_107b449f15fcrow4_col0\" class=\"data row4 col0\" >0.00588</td>\n",
       "            </tr>\n",
       "            <tr>\n",
       "                        <th id=\"T_e61b3b7c_05ef_11ea_a6fb_107b449f15fclevel0_row5\" class=\"row_heading level0 row5\" >северный_америка</th>\n",
       "                        <td id=\"T_e61b3b7c_05ef_11ea_a6fb_107b449f15fcrow5_col0\" class=\"data row5 col0\" >0.00576</td>\n",
       "            </tr>\n",
       "            <tr>\n",
       "                        <th id=\"T_e61b3b7c_05ef_11ea_a6fb_107b449f15fclevel0_row6\" class=\"row_heading level0 row6\" >частное_сектор</th>\n",
       "                        <td id=\"T_e61b3b7c_05ef_11ea_a6fb_107b449f15fcrow6_col0\" class=\"data row6 col0\" >0.0046</td>\n",
       "            </tr>\n",
       "            <tr>\n",
       "                        <th id=\"T_e61b3b7c_05ef_11ea_a6fb_107b449f15fclevel0_row7\" class=\"row_heading level0 row7\" >южный_африка</th>\n",
       "                        <td id=\"T_e61b3b7c_05ef_11ea_a6fb_107b449f15fcrow7_col0\" class=\"data row7 col0\" >0.00431</td>\n",
       "            </tr>\n",
       "            <tr>\n",
       "                        <th id=\"T_e61b3b7c_05ef_11ea_a6fb_107b449f15fclevel0_row8\" class=\"row_heading level0 row8\" >социальный_поведение</th>\n",
       "                        <td id=\"T_e61b3b7c_05ef_11ea_a6fb_107b449f15fcrow8_col0\" class=\"data row8 col0\" >0.0043</td>\n",
       "            </tr>\n",
       "            <tr>\n",
       "                        <th id=\"T_e61b3b7c_05ef_11ea_a6fb_107b449f15fclevel0_row9\" class=\"row_heading level0 row9\" >ископаемое_растение</th>\n",
       "                        <td id=\"T_e61b3b7c_05ef_11ea_a6fb_107b449f15fcrow9_col0\" class=\"data row9 col0\" >0.00403</td>\n",
       "            </tr>\n",
       "    </tbody></table><style  type=\"text/css\" >\n",
       "</style><table id=\"T_e61b3b7d_05ef_11ea_a6fb_107b449f15fc\" style='display:inline'><thead>    <tr>        <th class=\"blank level0\" ></th>        <th class=\"col_heading level0 col0\" >topic_6 @3gramm</th>    </tr></thead><tbody>\n",
       "                <tr>\n",
       "                        <th id=\"T_e61b3b7d_05ef_11ea_a6fb_107b449f15fclevel0_row0\" class=\"row_heading level0 row0\" >лауреат_нобелевский_премия</th>\n",
       "                        <td id=\"T_e61b3b7d_05ef_11ea_a6fb_107b449f15fcrow0_col0\" class=\"data row0 col0\" >0.33459</td>\n",
       "            </tr>\n",
       "            <tr>\n",
       "                        <th id=\"T_e61b3b7d_05ef_11ea_a6fb_107b449f15fclevel0_row1\" class=\"row_heading level0 row1\" >теория_принятие_решение</th>\n",
       "                        <td id=\"T_e61b3b7d_05ef_11ea_a6fb_107b449f15fcrow1_col0\" class=\"data row1 col0\" >0.14342</td>\n",
       "            </tr>\n",
       "            <tr>\n",
       "                        <th id=\"T_e61b3b7d_05ef_11ea_a6fb_107b449f15fclevel0_row2\" class=\"row_heading level0 row2\" >теория_речевой_акт</th>\n",
       "                        <td id=\"T_e61b3b7d_05ef_11ea_a6fb_107b449f15fcrow2_col0\" class=\"data row2 col0\" >0.14341</td>\n",
       "            </tr>\n",
       "            <tr>\n",
       "                        <th id=\"T_e61b3b7d_05ef_11ea_a6fb_107b449f15fclevel0_row3\" class=\"row_heading level0 row3\" >играть_ключевой_роль</th>\n",
       "                        <td id=\"T_e61b3b7d_05ef_11ea_a6fb_107b449f15fcrow3_col0\" class=\"data row3 col0\" >0.10345</td>\n",
       "            </tr>\n",
       "            <tr>\n",
       "                        <th id=\"T_e61b3b7d_05ef_11ea_a6fb_107b449f15fclevel0_row4\" class=\"row_heading level0 row4\" >ширина_запретить_зона</th>\n",
       "                        <td id=\"T_e61b3b7d_05ef_11ea_a6fb_107b449f15fcrow4_col0\" class=\"data row4 col0\" >0.07966</td>\n",
       "            </tr>\n",
       "            <tr>\n",
       "                        <th id=\"T_e61b3b7d_05ef_11ea_a6fb_107b449f15fclevel0_row5\" class=\"row_heading level0 row5\" >успех_физический_наука</th>\n",
       "                        <td id=\"T_e61b3b7d_05ef_11ea_a6fb_107b449f15fcrow5_col0\" class=\"data row5 col0\" >0.07155</td>\n",
       "            </tr>\n",
       "            <tr>\n",
       "                        <th id=\"T_e61b3b7d_05ef_11ea_a6fb_107b449f15fclevel0_row6\" class=\"row_heading level0 row6\" >большой_внимание_уделяться</th>\n",
       "                        <td id=\"T_e61b3b7d_05ef_11ea_a6fb_107b449f15fcrow6_col0\" class=\"data row6 col0\" >0.0493</td>\n",
       "            </tr>\n",
       "            <tr>\n",
       "                        <th id=\"T_e61b3b7d_05ef_11ea_a6fb_107b449f15fclevel0_row7\" class=\"row_heading level0 row7\" >институт_проблема_управление</th>\n",
       "                        <td id=\"T_e61b3b7d_05ef_11ea_a6fb_107b449f15fcrow7_col0\" class=\"data row7 col0\" >0.04777</td>\n",
       "            </tr>\n",
       "            <tr>\n",
       "                        <th id=\"T_e61b3b7d_05ef_11ea_a6fb_107b449f15fclevel0_row8\" class=\"row_heading level0 row8\" >разный_вид_животное</th>\n",
       "                        <td id=\"T_e61b3b7d_05ef_11ea_a6fb_107b449f15fcrow8_col0\" class=\"data row8 col0\" >0.02115</td>\n",
       "            </tr>\n",
       "            <tr>\n",
       "                        <th id=\"T_e61b3b7d_05ef_11ea_a6fb_107b449f15fclevel0_row9\" class=\"row_heading level0 row9\" >передавать_друг_друг</th>\n",
       "                        <td id=\"T_e61b3b7d_05ef_11ea_a6fb_107b449f15fcrow9_col0\" class=\"data row9 col0\" >0.00499</td>\n",
       "            </tr>\n",
       "    </tbody></table><style  type=\"text/css\" >\n",
       "</style><table id=\"T_e61b3b7e_05ef_11ea_a6fb_107b449f15fc\" style='display:inline'><thead>    <tr>        <th class=\"blank level0\" ></th>        <th class=\"col_heading level0 col0\" >topic_6 @post_tag</th>    </tr></thead><tbody>\n",
       "                <tr>\n",
       "                        <th id=\"T_e61b3b7e_05ef_11ea_a6fb_107b449f15fclevel0_row0\" class=\"row_heading level0 row0\" >биология</th>\n",
       "                        <td id=\"T_e61b3b7e_05ef_11ea_a6fb_107b449f15fcrow0_col0\" class=\"data row0 col0\" >0.11544</td>\n",
       "            </tr>\n",
       "            <tr>\n",
       "                        <th id=\"T_e61b3b7e_05ef_11ea_a6fb_107b449f15fclevel0_row1\" class=\"row_heading level0 row1\" >палеонтология</th>\n",
       "                        <td id=\"T_e61b3b7e_05ef_11ea_a6fb_107b449f15fcrow1_col0\" class=\"data row1 col0\" >0.09641</td>\n",
       "            </tr>\n",
       "            <tr>\n",
       "                        <th id=\"T_e61b3b7e_05ef_11ea_a6fb_107b449f15fclevel0_row2\" class=\"row_heading level0 row2\" >этология</th>\n",
       "                        <td id=\"T_e61b3b7e_05ef_11ea_a6fb_107b449f15fcrow2_col0\" class=\"data row2 col0\" >0.09126</td>\n",
       "            </tr>\n",
       "            <tr>\n",
       "                        <th id=\"T_e61b3b7e_05ef_11ea_a6fb_107b449f15fclevel0_row3\" class=\"row_heading level0 row3\" >зоология</th>\n",
       "                        <td id=\"T_e61b3b7e_05ef_11ea_a6fb_107b449f15fcrow3_col0\" class=\"data row3 col0\" >0.07357</td>\n",
       "            </tr>\n",
       "            <tr>\n",
       "                        <th id=\"T_e61b3b7e_05ef_11ea_a6fb_107b449f15fclevel0_row4\" class=\"row_heading level0 row4\" >поведение_животных</th>\n",
       "                        <td id=\"T_e61b3b7e_05ef_11ea_a6fb_107b449f15fcrow4_col0\" class=\"data row4 col0\" >0.07101</td>\n",
       "            </tr>\n",
       "            <tr>\n",
       "                        <th id=\"T_e61b3b7e_05ef_11ea_a6fb_107b449f15fclevel0_row5\" class=\"row_heading level0 row5\" >эволюция</th>\n",
       "                        <td id=\"T_e61b3b7e_05ef_11ea_a6fb_107b449f15fcrow5_col0\" class=\"data row5 col0\" >0.04619</td>\n",
       "            </tr>\n",
       "            <tr>\n",
       "                        <th id=\"T_e61b3b7e_05ef_11ea_a6fb_107b449f15fclevel0_row6\" class=\"row_heading level0 row6\" >зоопсихология</th>\n",
       "                        <td id=\"T_e61b3b7e_05ef_11ea_a6fb_107b449f15fcrow6_col0\" class=\"data row6 col0\" >0.04564</td>\n",
       "            </tr>\n",
       "            <tr>\n",
       "                        <th id=\"T_e61b3b7e_05ef_11ea_a6fb_107b449f15fclevel0_row7\" class=\"row_heading level0 row7\" >театр</th>\n",
       "                        <td id=\"T_e61b3b7e_05ef_11ea_a6fb_107b449f15fcrow7_col0\" class=\"data row7 col0\" >0.0449</td>\n",
       "            </tr>\n",
       "            <tr>\n",
       "                        <th id=\"T_e61b3b7e_05ef_11ea_a6fb_107b449f15fclevel0_row8\" class=\"row_heading level0 row8\" >театроведение</th>\n",
       "                        <td id=\"T_e61b3b7e_05ef_11ea_a6fb_107b449f15fcrow8_col0\" class=\"data row8 col0\" >0.03787</td>\n",
       "            </tr>\n",
       "            <tr>\n",
       "                        <th id=\"T_e61b3b7e_05ef_11ea_a6fb_107b449f15fclevel0_row9\" class=\"row_heading level0 row9\" >геология</th>\n",
       "                        <td id=\"T_e61b3b7e_05ef_11ea_a6fb_107b449f15fcrow9_col0\" class=\"data row9 col0\" >0.03115</td>\n",
       "            </tr>\n",
       "    </tbody></table><style  type=\"text/css\" >\n",
       "</style><table id=\"T_e61b3b7f_05ef_11ea_a6fb_107b449f15fc\" style='display:inline'><thead>    <tr>        <th class=\"blank level0\" ></th>        <th class=\"col_heading level0 col0\" >topic_6 @word</th>    </tr></thead><tbody>\n",
       "                <tr>\n",
       "                        <th id=\"T_e61b3b7f_05ef_11ea_a6fb_107b449f15fclevel0_row0\" class=\"row_heading level0 row0\" >животное</th>\n",
       "                        <td id=\"T_e61b3b7f_05ef_11ea_a6fb_107b449f15fcrow0_col0\" class=\"data row0 col0\" >0.00741</td>\n",
       "            </tr>\n",
       "            <tr>\n",
       "                        <th id=\"T_e61b3b7f_05ef_11ea_a6fb_107b449f15fclevel0_row1\" class=\"row_heading level0 row1\" >птица</th>\n",
       "                        <td id=\"T_e61b3b7f_05ef_11ea_a6fb_107b449f15fcrow1_col0\" class=\"data row1 col0\" >0.00641</td>\n",
       "            </tr>\n",
       "            <tr>\n",
       "                        <th id=\"T_e61b3b7f_05ef_11ea_a6fb_107b449f15fclevel0_row2\" class=\"row_heading level0 row2\" >вид</th>\n",
       "                        <td id=\"T_e61b3b7f_05ef_11ea_a6fb_107b449f15fcrow2_col0\" class=\"data row2 col0\" >0.00533</td>\n",
       "            </tr>\n",
       "            <tr>\n",
       "                        <th id=\"T_e61b3b7f_05ef_11ea_a6fb_107b449f15fclevel0_row3\" class=\"row_heading level0 row3\" >группа</th>\n",
       "                        <td id=\"T_e61b3b7f_05ef_11ea_a6fb_107b449f15fcrow3_col0\" class=\"data row3 col0\" >0.00457</td>\n",
       "            </tr>\n",
       "            <tr>\n",
       "                        <th id=\"T_e61b3b7f_05ef_11ea_a6fb_107b449f15fclevel0_row4\" class=\"row_heading level0 row4\" >самец</th>\n",
       "                        <td id=\"T_e61b3b7f_05ef_11ea_a6fb_107b449f15fcrow4_col0\" class=\"data row4 col0\" >0.00367</td>\n",
       "            </tr>\n",
       "            <tr>\n",
       "                        <th id=\"T_e61b3b7f_05ef_11ea_a6fb_107b449f15fclevel0_row5\" class=\"row_heading level0 row5\" >поведение</th>\n",
       "                        <td id=\"T_e61b3b7f_05ef_11ea_a6fb_107b449f15fcrow5_col0\" class=\"data row5 col0\" >0.00354</td>\n",
       "            </tr>\n",
       "            <tr>\n",
       "                        <th id=\"T_e61b3b7f_05ef_11ea_a6fb_107b449f15fclevel0_row6\" class=\"row_heading level0 row6\" >растение</th>\n",
       "                        <td id=\"T_e61b3b7f_05ef_11ea_a6fb_107b449f15fcrow6_col0\" class=\"data row6 col0\" >0.00353</td>\n",
       "            </tr>\n",
       "            <tr>\n",
       "                        <th id=\"T_e61b3b7f_05ef_11ea_a6fb_107b449f15fclevel0_row7\" class=\"row_heading level0 row7\" >театр</th>\n",
       "                        <td id=\"T_e61b3b7f_05ef_11ea_a6fb_107b449f15fcrow7_col0\" class=\"data row7 col0\" >0.00326</td>\n",
       "            </tr>\n",
       "            <tr>\n",
       "                        <th id=\"T_e61b3b7f_05ef_11ea_a6fb_107b449f15fclevel0_row8\" class=\"row_heading level0 row8\" >исследование</th>\n",
       "                        <td id=\"T_e61b3b7f_05ef_11ea_a6fb_107b449f15fcrow8_col0\" class=\"data row8 col0\" >0.00314</td>\n",
       "            </tr>\n",
       "            <tr>\n",
       "                        <th id=\"T_e61b3b7f_05ef_11ea_a6fb_107b449f15fclevel0_row9\" class=\"row_heading level0 row9\" >самка</th>\n",
       "                        <td id=\"T_e61b3b7f_05ef_11ea_a6fb_107b449f15fcrow9_col0\" class=\"data row9 col0\" >0.00311</td>\n",
       "            </tr>\n",
       "    </tbody></table>"
      ]
     },
     "metadata": {},
     "output_type": "display_data"
    },
    {
     "data": {
      "text/html": [
       "<b> прямая речьжанна резникова </b><br /> этолог, доктор биологических наук о поведении животных, их когнитивных способностях, этике и гражданской позиции ученых"
      ]
     },
     "metadata": {},
     "output_type": "display_data"
    },
    {
     "data": {
      "text/html": [
       "<b> 5 книг об этологии </b><br /> что читать о различных аспектах  поведения человека и животных, рекомендует доктор биологических наук дмитрий жуков"
      ]
     },
     "metadata": {},
     "output_type": "display_data"
    },
    {
     "data": {
      "text/html": [
       "<b> «многие юрские животные продолжили свое развитие и даже имеют потомков в наше время» </b><br /> палеонтолог чжунхэ чжоу о многообразии удивительных животных юрского периода"
      ]
     },
     "metadata": {},
     "output_type": "display_data"
    },
    {
     "data": {
      "text/html": [
       "<b> зависит ли коммуникация псовых от цвета их глаз? </b><br /> о социальном поведении собак и волков, их общении с помощью взгляда и охотничьих навыках"
      ]
     },
     "metadata": {},
     "output_type": "display_data"
    },
    {
     "data": {
      "text/html": [
       "<b> прямая речьфуад алескеров </b><br /> математик, руководитель департамента математики факультета экономики вшэ о проблемах российского образования, предсказаниях биржи и качествах ученого"
      ]
     },
     "metadata": {},
     "output_type": "display_data"
    },
    {
     "data": {
      "text/html": [
       "<b> faqсоциальное поведение свободноживущих лошадей </b><br /> 5 фактов о различных группах одичавших лошадей и их поведении"
      ]
     },
     "metadata": {},
     "output_type": "display_data"
    },
    {
     "data": {
      "text/html": [
       "<b> faqтеория речевых актов </b><br /> 5 фактов об аналитической теории речепорождения и понимании произведений художественной литературы"
      ]
     },
     "metadata": {},
     "output_type": "display_data"
    },
    {
     "data": {
      "text/html": [
       "<b> главы # если бога нет </b><br /> отрывок из книги «истоки моралив поисках человеческого у приматов»  известного биолога франса де вааля"
      ]
     },
     "metadata": {},
     "output_type": "display_data"
    },
    {
     "data": {
      "text/html": [
       "<b> найдено древнейшее свидетельство внутреннего оплодотворения среди позвоночных </b><br /> о разнообразии групп рыб, копулятивных органах и издержках выхода на сушу"
      ]
     },
     "metadata": {},
     "output_type": "display_data"
    },
    {
     "data": {
      "text/html": [
       "<b> особенности строения голосеменных класса войновскиевых </b><br /> о спорных вопросах в изучении одной из самых своеобразных групп голосеменных растений, произраставших на земле в конце палеозойской эры"
      ]
     },
     "metadata": {},
     "output_type": "display_data"
    },
    {
     "data": {
      "text/html": [
       "<style  type=\"text/css\" >\n",
       "</style><table id=\"T_e61b3b80_05ef_11ea_a6fb_107b449f15fc\" style='display:inline'><thead>    <tr>        <th class=\"blank level0\" ></th>        <th class=\"col_heading level0 col0\" >topic_7 @2gramm</th>    </tr></thead><tbody>\n",
       "                <tr>\n",
       "                        <th id=\"T_e61b3b80_05ef_11ea_a6fb_107b449f15fclevel0_row0\" class=\"row_heading level0 row0\" >квантовый_компьютер</th>\n",
       "                        <td id=\"T_e61b3b80_05ef_11ea_a6fb_107b449f15fcrow0_col0\" class=\"data row0 col0\" >0.01483</td>\n",
       "            </tr>\n",
       "            <tr>\n",
       "                        <th id=\"T_e61b3b80_05ef_11ea_a6fb_107b449f15fclevel0_row1\" class=\"row_heading level0 row1\" >длина_волна</th>\n",
       "                        <td id=\"T_e61b3b80_05ef_11ea_a6fb_107b449f15fcrow1_col0\" class=\"data row1 col0\" >0.01071</td>\n",
       "            </tr>\n",
       "            <tr>\n",
       "                        <th id=\"T_e61b3b80_05ef_11ea_a6fb_107b449f15fclevel0_row2\" class=\"row_heading level0 row2\" >квантовый_точка</th>\n",
       "                        <td id=\"T_e61b3b80_05ef_11ea_a6fb_107b449f15fcrow2_col0\" class=\"data row2 col0\" >0.0079</td>\n",
       "            </tr>\n",
       "            <tr>\n",
       "                        <th id=\"T_e61b3b80_05ef_11ea_a6fb_107b449f15fclevel0_row3\" class=\"row_heading level0 row3\" >квантовый_технология</th>\n",
       "                        <td id=\"T_e61b3b80_05ef_11ea_a6fb_107b449f15fcrow3_col0\" class=\"data row3 col0\" >0.00758</td>\n",
       "            </tr>\n",
       "            <tr>\n",
       "                        <th id=\"T_e61b3b80_05ef_11ea_a6fb_107b449f15fclevel0_row4\" class=\"row_heading level0 row4\" >магнитный_поль</th>\n",
       "                        <td id=\"T_e61b3b80_05ef_11ea_a6fb_107b449f15fcrow4_col0\" class=\"data row4 col0\" >0.00687</td>\n",
       "            </tr>\n",
       "            <tr>\n",
       "                        <th id=\"T_e61b3b80_05ef_11ea_a6fb_107b449f15fclevel0_row5\" class=\"row_heading level0 row5\" >квантовый_механика</th>\n",
       "                        <td id=\"T_e61b3b80_05ef_11ea_a6fb_107b449f15fcrow5_col0\" class=\"data row5 col0\" >0.00587</td>\n",
       "            </tr>\n",
       "            <tr>\n",
       "                        <th id=\"T_e61b3b80_05ef_11ea_a6fb_107b449f15fclevel0_row6\" class=\"row_heading level0 row6\" >квантовый_состояние</th>\n",
       "                        <td id=\"T_e61b3b80_05ef_11ea_a6fb_107b449f15fcrow6_col0\" class=\"data row6 col0\" >0.0057</td>\n",
       "            </tr>\n",
       "            <tr>\n",
       "                        <th id=\"T_e61b3b80_05ef_11ea_a6fb_107b449f15fclevel0_row7\" class=\"row_heading level0 row7\" >ядерный_энергетика</th>\n",
       "                        <td id=\"T_e61b3b80_05ef_11ea_a6fb_107b449f15fcrow7_col0\" class=\"data row7 col0\" >0.00566</td>\n",
       "            </tr>\n",
       "            <tr>\n",
       "                        <th id=\"T_e61b3b80_05ef_11ea_a6fb_107b449f15fclevel0_row8\" class=\"row_heading level0 row8\" >магнитный_момент</th>\n",
       "                        <td id=\"T_e61b3b80_05ef_11ea_a6fb_107b449f15fcrow8_col0\" class=\"data row8 col0\" >0.00534</td>\n",
       "            </tr>\n",
       "            <tr>\n",
       "                        <th id=\"T_e61b3b80_05ef_11ea_a6fb_107b449f15fclevel0_row9\" class=\"row_heading level0 row9\" >магнитный_пол</th>\n",
       "                        <td id=\"T_e61b3b80_05ef_11ea_a6fb_107b449f15fcrow9_col0\" class=\"data row9 col0\" >0.00486</td>\n",
       "            </tr>\n",
       "    </tbody></table><style  type=\"text/css\" >\n",
       "</style><table id=\"T_e61b3b81_05ef_11ea_a6fb_107b449f15fc\" style='display:inline'><thead>    <tr>        <th class=\"blank level0\" ></th>        <th class=\"col_heading level0 col0\" >topic_7 @3gramm</th>    </tr></thead><tbody>\n",
       "                <tr>\n",
       "                        <th id=\"T_e61b3b81_05ef_11ea_a6fb_107b449f15fclevel0_row0\" class=\"row_heading level0 row0\" >получить_нобелевский_премия</th>\n",
       "                        <td id=\"T_e61b3b81_05ef_11ea_a6fb_107b449f15fcrow0_col0\" class=\"data row0 col0\" >0.28463</td>\n",
       "            </tr>\n",
       "            <tr>\n",
       "                        <th id=\"T_e61b3b81_05ef_11ea_a6fb_107b449f15fclevel0_row1\" class=\"row_heading level0 row1\" >достаточно_большой_количество</th>\n",
       "                        <td id=\"T_e61b3b81_05ef_11ea_a6fb_107b449f15fcrow1_col0\" class=\"data row1 col0\" >0.13265</td>\n",
       "            </tr>\n",
       "            <tr>\n",
       "                        <th id=\"T_e61b3b81_05ef_11ea_a6fb_107b449f15fclevel0_row2\" class=\"row_heading level0 row2\" >генетически_модифицированный_растение</th>\n",
       "                        <td id=\"T_e61b3b81_05ef_11ea_a6fb_107b449f15fcrow2_col0\" class=\"data row2 col0\" >0.08541</td>\n",
       "            </tr>\n",
       "            <tr>\n",
       "                        <th id=\"T_e61b3b81_05ef_11ea_a6fb_107b449f15fclevel0_row3\" class=\"row_heading level0 row3\" >внешний_магнитный_поль</th>\n",
       "                        <td id=\"T_e61b3b81_05ef_11ea_a6fb_107b449f15fcrow3_col0\" class=\"data row3 col0\" >0.08541</td>\n",
       "            </tr>\n",
       "            <tr>\n",
       "                        <th id=\"T_e61b3b81_05ef_11ea_a6fb_107b449f15fclevel0_row4\" class=\"row_heading level0 row4\" >существовать_большой_количество</th>\n",
       "                        <td id=\"T_e61b3b81_05ef_11ea_a6fb_107b449f15fcrow4_col0\" class=\"data row4 col0\" >0.08043</td>\n",
       "            </tr>\n",
       "            <tr>\n",
       "                        <th id=\"T_e61b3b81_05ef_11ea_a6fb_107b449f15fclevel0_row5\" class=\"row_heading level0 row5\" >ядерный_магнитный_резонанс</th>\n",
       "                        <td id=\"T_e61b3b81_05ef_11ea_a6fb_107b449f15fcrow5_col0\" class=\"data row5 col0\" >0.04559</td>\n",
       "            </tr>\n",
       "            <tr>\n",
       "                        <th id=\"T_e61b3b81_05ef_11ea_a6fb_107b449f15fclevel0_row6\" class=\"row_heading level0 row6\" >наиболее_яркий_пример</th>\n",
       "                        <td id=\"T_e61b3b81_05ef_11ea_a6fb_107b449f15fcrow6_col0\" class=\"data row6 col0\" >0.04241</td>\n",
       "            </tr>\n",
       "            <tr>\n",
       "                        <th id=\"T_e61b3b81_05ef_11ea_a6fb_107b449f15fclevel0_row7\" class=\"row_heading level0 row7\" >направление_магнитный_поль</th>\n",
       "                        <td id=\"T_e61b3b81_05ef_11ea_a6fb_107b449f15fcrow7_col0\" class=\"data row7 col0\" >0.04178</td>\n",
       "            </tr>\n",
       "            <tr>\n",
       "                        <th id=\"T_e61b3b81_05ef_11ea_a6fb_107b449f15fclevel0_row8\" class=\"row_heading level0 row8\" >создание_новый_материал</th>\n",
       "                        <td id=\"T_e61b3b81_05ef_11ea_a6fb_107b449f15fcrow8_col0\" class=\"data row8 col0\" >0.0379</td>\n",
       "            </tr>\n",
       "            <tr>\n",
       "                        <th id=\"T_e61b3b81_05ef_11ea_a6fb_107b449f15fclevel0_row9\" class=\"row_heading level0 row9\" >достаточно_широко_распространить</th>\n",
       "                        <td id=\"T_e61b3b81_05ef_11ea_a6fb_107b449f15fcrow9_col0\" class=\"data row9 col0\" >0.03213</td>\n",
       "            </tr>\n",
       "    </tbody></table><style  type=\"text/css\" >\n",
       "</style><table id=\"T_e61b3b82_05ef_11ea_a6fb_107b449f15fc\" style='display:inline'><thead>    <tr>        <th class=\"blank level0\" ></th>        <th class=\"col_heading level0 col0\" >topic_7 @post_tag</th>    </tr></thead><tbody>\n",
       "                <tr>\n",
       "                        <th id=\"T_e61b3b82_05ef_11ea_a6fb_107b449f15fclevel0_row0\" class=\"row_heading level0 row0\" >физика</th>\n",
       "                        <td id=\"T_e61b3b82_05ef_11ea_a6fb_107b449f15fcrow0_col0\" class=\"data row0 col0\" >0.2257</td>\n",
       "            </tr>\n",
       "            <tr>\n",
       "                        <th id=\"T_e61b3b82_05ef_11ea_a6fb_107b449f15fclevel0_row1\" class=\"row_heading level0 row1\" >технологии</th>\n",
       "                        <td id=\"T_e61b3b82_05ef_11ea_a6fb_107b449f15fcrow1_col0\" class=\"data row1 col0\" >0.15725</td>\n",
       "            </tr>\n",
       "            <tr>\n",
       "                        <th id=\"T_e61b3b82_05ef_11ea_a6fb_107b449f15fclevel0_row2\" class=\"row_heading level0 row2\" >квантовая_физика</th>\n",
       "                        <td id=\"T_e61b3b82_05ef_11ea_a6fb_107b449f15fcrow2_col0\" class=\"data row2 col0\" >0.07643</td>\n",
       "            </tr>\n",
       "            <tr>\n",
       "                        <th id=\"T_e61b3b82_05ef_11ea_a6fb_107b449f15fclevel0_row3\" class=\"row_heading level0 row3\" >нанотехнологии</th>\n",
       "                        <td id=\"T_e61b3b82_05ef_11ea_a6fb_107b449f15fcrow3_col0\" class=\"data row3 col0\" >0.07192</td>\n",
       "            </tr>\n",
       "            <tr>\n",
       "                        <th id=\"T_e61b3b82_05ef_11ea_a6fb_107b449f15fclevel0_row4\" class=\"row_heading level0 row4\" >квантовые_технологии</th>\n",
       "                        <td id=\"T_e61b3b82_05ef_11ea_a6fb_107b449f15fcrow4_col0\" class=\"data row4 col0\" >0.0339</td>\n",
       "            </tr>\n",
       "            <tr>\n",
       "                        <th id=\"T_e61b3b82_05ef_11ea_a6fb_107b449f15fclevel0_row5\" class=\"row_heading level0 row5\" >квантовая_механика</th>\n",
       "                        <td id=\"T_e61b3b82_05ef_11ea_a6fb_107b449f15fcrow5_col0\" class=\"data row5 col0\" >0.03018</td>\n",
       "            </tr>\n",
       "            <tr>\n",
       "                        <th id=\"T_e61b3b82_05ef_11ea_a6fb_107b449f15fclevel0_row6\" class=\"row_heading level0 row6\" >атом</th>\n",
       "                        <td id=\"T_e61b3b82_05ef_11ea_a6fb_107b449f15fcrow6_col0\" class=\"data row6 col0\" >0.02948</td>\n",
       "            </tr>\n",
       "            <tr>\n",
       "                        <th id=\"T_e61b3b82_05ef_11ea_a6fb_107b449f15fclevel0_row7\" class=\"row_heading level0 row7\" >наноматериалы</th>\n",
       "                        <td id=\"T_e61b3b82_05ef_11ea_a6fb_107b449f15fcrow7_col0\" class=\"data row7 col0\" >0.02651</td>\n",
       "            </tr>\n",
       "            <tr>\n",
       "                        <th id=\"T_e61b3b82_05ef_11ea_a6fb_107b449f15fclevel0_row8\" class=\"row_heading level0 row8\" >фотоны</th>\n",
       "                        <td id=\"T_e61b3b82_05ef_11ea_a6fb_107b449f15fcrow8_col0\" class=\"data row8 col0\" >0.02481</td>\n",
       "            </tr>\n",
       "            <tr>\n",
       "                        <th id=\"T_e61b3b82_05ef_11ea_a6fb_107b449f15fclevel0_row9\" class=\"row_heading level0 row9\" >электроника</th>\n",
       "                        <td id=\"T_e61b3b82_05ef_11ea_a6fb_107b449f15fcrow9_col0\" class=\"data row9 col0\" >0.02299</td>\n",
       "            </tr>\n",
       "    </tbody></table><style  type=\"text/css\" >\n",
       "</style><table id=\"T_e61b3b83_05ef_11ea_a6fb_107b449f15fc\" style='display:inline'><thead>    <tr>        <th class=\"blank level0\" ></th>        <th class=\"col_heading level0 col0\" >topic_7 @word</th>    </tr></thead><tbody>\n",
       "                <tr>\n",
       "                        <th id=\"T_e61b3b83_05ef_11ea_a6fb_107b449f15fclevel0_row0\" class=\"row_heading level0 row0\" >использовать</th>\n",
       "                        <td id=\"T_e61b3b83_05ef_11ea_a6fb_107b449f15fcrow0_col0\" class=\"data row0 col0\" >0.00766</td>\n",
       "            </tr>\n",
       "            <tr>\n",
       "                        <th id=\"T_e61b3b83_05ef_11ea_a6fb_107b449f15fclevel0_row1\" class=\"row_heading level0 row1\" >атом</th>\n",
       "                        <td id=\"T_e61b3b83_05ef_11ea_a6fb_107b449f15fcrow1_col0\" class=\"data row1 col0\" >0.00663</td>\n",
       "            </tr>\n",
       "            <tr>\n",
       "                        <th id=\"T_e61b3b83_05ef_11ea_a6fb_107b449f15fclevel0_row2\" class=\"row_heading level0 row2\" >свет</th>\n",
       "                        <td id=\"T_e61b3b83_05ef_11ea_a6fb_107b449f15fcrow2_col0\" class=\"data row2 col0\" >0.00619</td>\n",
       "            </tr>\n",
       "            <tr>\n",
       "                        <th id=\"T_e61b3b83_05ef_11ea_a6fb_107b449f15fclevel0_row3\" class=\"row_heading level0 row3\" >технология</th>\n",
       "                        <td id=\"T_e61b3b83_05ef_11ea_a6fb_107b449f15fcrow3_col0\" class=\"data row3 col0\" >0.00596</td>\n",
       "            </tr>\n",
       "            <tr>\n",
       "                        <th id=\"T_e61b3b83_05ef_11ea_a6fb_107b449f15fclevel0_row4\" class=\"row_heading level0 row4\" >материал</th>\n",
       "                        <td id=\"T_e61b3b83_05ef_11ea_a6fb_107b449f15fcrow4_col0\" class=\"data row4 col0\" >0.00565</td>\n",
       "            </tr>\n",
       "            <tr>\n",
       "                        <th id=\"T_e61b3b83_05ef_11ea_a6fb_107b449f15fclevel0_row5\" class=\"row_heading level0 row5\" >система</th>\n",
       "                        <td id=\"T_e61b3b83_05ef_11ea_a6fb_107b449f15fcrow5_col0\" class=\"data row5 col0\" >0.00513</td>\n",
       "            </tr>\n",
       "            <tr>\n",
       "                        <th id=\"T_e61b3b83_05ef_11ea_a6fb_107b449f15fclevel0_row6\" class=\"row_heading level0 row6\" >электрон</th>\n",
       "                        <td id=\"T_e61b3b83_05ef_11ea_a6fb_107b449f15fcrow6_col0\" class=\"data row6 col0\" >0.00472</td>\n",
       "            </tr>\n",
       "            <tr>\n",
       "                        <th id=\"T_e61b3b83_05ef_11ea_a6fb_107b449f15fclevel0_row7\" class=\"row_heading level0 row7\" >устройство</th>\n",
       "                        <td id=\"T_e61b3b83_05ef_11ea_a6fb_107b449f15fcrow7_col0\" class=\"data row7 col0\" >0.00419</td>\n",
       "            </tr>\n",
       "            <tr>\n",
       "                        <th id=\"T_e61b3b83_05ef_11ea_a6fb_107b449f15fclevel0_row8\" class=\"row_heading level0 row8\" >фотон</th>\n",
       "                        <td id=\"T_e61b3b83_05ef_11ea_a6fb_107b449f15fcrow8_col0\" class=\"data row8 col0\" >0.00419</td>\n",
       "            </tr>\n",
       "            <tr>\n",
       "                        <th id=\"T_e61b3b83_05ef_11ea_a6fb_107b449f15fclevel0_row9\" class=\"row_heading level0 row9\" >образ</th>\n",
       "                        <td id=\"T_e61b3b83_05ef_11ea_a6fb_107b449f15fcrow9_col0\" class=\"data row9 col0\" >0.00413</td>\n",
       "            </tr>\n",
       "    </tbody></table>"
      ]
     },
     "metadata": {},
     "output_type": "display_data"
    },
    {
     "data": {
      "text/html": [
       "<b> faqядерный магнитный резонанс </b><br /> 5 фактов о природе магнитных полей, спектре ядерного магнитного резонанса и применении метода ямр в современной химии"
      ]
     },
     "metadata": {},
     "output_type": "display_data"
    },
    {
     "data": {
      "text/html": [
       "<b> что придет на смену кремниевой электронике? </b><br /> физик алексей орлов о проблеме тепловыделения, попытках найти альтернативы кремнию и клеточных автоматах на квантовых точках"
      ]
     },
     "metadata": {},
     "output_type": "display_data"
    },
    {
     "data": {
      "text/html": [
       "<b> faqквантовые интерфейсы </b><br /> 7 фактов об устройствах, позволяющих соединять два разных квантовых объекта друг с другом"
      ]
     },
     "metadata": {},
     "output_type": "display_data"
    },
    {
     "data": {
      "text/html": [
       "<b> эффект переноса спина в спинтронике </b><br /> физик константин звездин о технологических проблемах наноэлектроники, магнитном вихре и генераторе свч-излучения"
      ]
     },
     "metadata": {},
     "output_type": "display_data"
    },
    {
     "data": {
      "text/html": [
       "<b> «квантовая телепортация используется для передачи секретной информации, которую невозможно украсть» </b><br /> интервью с физиком юджином ползиком о современном понимании идеи телепортации, сериале «star trek» и принципах квантовой криптографии"
      ]
     },
     "metadata": {},
     "output_type": "display_data"
    },
    {
     "data": {
      "text/html": [
       "<b> faqтехнологии производства биотоплива </b><br /> микробиолог зоригто намсараев о биотопливной индустрии и факторах, которые определяют прибыльность того или иного сырья"
      ]
     },
     "metadata": {},
     "output_type": "display_data"
    },
    {
     "data": {
      "text/html": [
       "<b> faqатомная энергетика сегодня </b><br /> 7 фактов о перспективах развития атомной промышленности в современном мире"
      ]
     },
     "metadata": {},
     "output_type": "display_data"
    },
    {
     "data": {
      "text/html": [
       "<b> плащ-невидимкакак создают материалы, которые «обманывают» свет? </b><br /> о наноантеннах, оптических свойствах новых материалов, «гарри поттере» и перспективах нанофотоники"
      ]
     },
     "metadata": {},
     "output_type": "display_data"
    },
    {
     "data": {
      "text/html": [
       "<b> квантовая криптография </b><br /> выдержит ли классическая криптография появление квантового компьютера, существует ли абсолютно безопасное шифрование и как работают квантовые хакеры"
      ]
     },
     "metadata": {},
     "output_type": "display_data"
    },
    {
     "data": {
      "text/html": [
       "<b> солнечная энергетика </b><br /> физик евгений кац о преобразовании света в электричество, солнечном топливе и кпд современных аккумуляторов"
      ]
     },
     "metadata": {},
     "output_type": "display_data"
    },
    {
     "data": {
      "text/html": [
       "<style  type=\"text/css\" >\n",
       "</style><table id=\"T_e61b3b84_05ef_11ea_a6fb_107b449f15fc\" style='display:inline'><thead>    <tr>        <th class=\"blank level0\" ></th>        <th class=\"col_heading level0 col0\" >topic_8 @2gramm</th>    </tr></thead><tbody>\n",
       "                <tr>\n",
       "                        <th id=\"T_e61b3b84_05ef_11ea_a6fb_107b449f15fclevel0_row0\" class=\"row_heading level0 row0\" >стволовой_клетка</th>\n",
       "                        <td id=\"T_e61b3b84_05ef_11ea_a6fb_107b449f15fcrow0_col0\" class=\"data row0 col0\" >0.03257</td>\n",
       "            </tr>\n",
       "            <tr>\n",
       "                        <th id=\"T_e61b3b84_05ef_11ea_a6fb_107b449f15fclevel0_row1\" class=\"row_heading level0 row1\" >естественный_отбор</th>\n",
       "                        <td id=\"T_e61b3b84_05ef_11ea_a6fb_107b449f15fcrow1_col0\" class=\"data row1 col0\" >0.02055</td>\n",
       "            </tr>\n",
       "            <tr>\n",
       "                        <th id=\"T_e61b3b84_05ef_11ea_a6fb_107b449f15fclevel0_row2\" class=\"row_heading level0 row2\" >половый_отбор</th>\n",
       "                        <td id=\"T_e61b3b84_05ef_11ea_a6fb_107b449f15fcrow2_col0\" class=\"data row2 col0\" >0.0111</td>\n",
       "            </tr>\n",
       "            <tr>\n",
       "                        <th id=\"T_e61b3b84_05ef_11ea_a6fb_107b449f15fclevel0_row3\" class=\"row_heading level0 row3\" >эволюционный_биология</th>\n",
       "                        <td id=\"T_e61b3b84_05ef_11ea_a6fb_107b449f15fcrow3_col0\" class=\"data row3 col0\" >0.00907</td>\n",
       "            </tr>\n",
       "            <tr>\n",
       "                        <th id=\"T_e61b3b84_05ef_11ea_a6fb_107b449f15fclevel0_row4\" class=\"row_heading level0 row4\" >homo_sapiens</th>\n",
       "                        <td id=\"T_e61b3b84_05ef_11ea_a6fb_107b449f15fcrow4_col0\" class=\"data row4 col0\" >0.00877</td>\n",
       "            </tr>\n",
       "            <tr>\n",
       "                        <th id=\"T_e61b3b84_05ef_11ea_a6fb_107b449f15fclevel0_row5\" class=\"row_heading level0 row5\" >теория_эволюция</th>\n",
       "                        <td id=\"T_e61b3b84_05ef_11ea_a6fb_107b449f15fcrow5_col0\" class=\"data row5 col0\" >0.00632</td>\n",
       "            </tr>\n",
       "            <tr>\n",
       "                        <th id=\"T_e61b3b84_05ef_11ea_a6fb_107b449f15fclevel0_row6\" class=\"row_heading level0 row6\" >ход_эволюция</th>\n",
       "                        <td id=\"T_e61b3b84_05ef_11ea_a6fb_107b449f15fcrow6_col0\" class=\"data row6 col0\" >0.00557</td>\n",
       "            </tr>\n",
       "            <tr>\n",
       "                        <th id=\"T_e61b3b84_05ef_11ea_a6fb_107b449f15fclevel0_row7\" class=\"row_heading level0 row7\" >процесс_эволюция</th>\n",
       "                        <td id=\"T_e61b3b84_05ef_11ea_a6fb_107b449f15fcrow7_col0\" class=\"data row7 col0\" >0.00557</td>\n",
       "            </tr>\n",
       "            <tr>\n",
       "                        <th id=\"T_e61b3b84_05ef_11ea_a6fb_107b449f15fclevel0_row8\" class=\"row_heading level0 row8\" >костный_мозг</th>\n",
       "                        <td id=\"T_e61b3b84_05ef_11ea_a6fb_107b449f15fcrow8_col0\" class=\"data row8 col0\" >0.0055</td>\n",
       "            </tr>\n",
       "            <tr>\n",
       "                        <th id=\"T_e61b3b84_05ef_11ea_a6fb_107b449f15fclevel0_row9\" class=\"row_heading level0 row9\" >человекообразный_обезьяна</th>\n",
       "                        <td id=\"T_e61b3b84_05ef_11ea_a6fb_107b449f15fcrow9_col0\" class=\"data row9 col0\" >0.0049</td>\n",
       "            </tr>\n",
       "    </tbody></table><style  type=\"text/css\" >\n",
       "</style><table id=\"T_e61b3b85_05ef_11ea_a6fb_107b449f15fc\" style='display:inline'><thead>    <tr>        <th class=\"blank level0\" ></th>        <th class=\"col_heading level0 col0\" >topic_8 @3gramm</th>    </tr></thead><tbody>\n",
       "                <tr>\n",
       "                        <th id=\"T_e61b3b85_05ef_11ea_a6fb_107b449f15fclevel0_row0\" class=\"row_heading level0 row0\" >эмбриональный_стволовой_клетка</th>\n",
       "                        <td id=\"T_e61b3b85_05ef_11ea_a6fb_107b449f15fcrow0_col0\" class=\"data row0 col0\" >0.33367</td>\n",
       "            </tr>\n",
       "            <tr>\n",
       "                        <th id=\"T_e61b3b85_05ef_11ea_a6fb_107b449f15fclevel0_row1\" class=\"row_heading level0 row1\" >каков_история_изучение</th>\n",
       "                        <td id=\"T_e61b3b85_05ef_11ea_a6fb_107b449f15fcrow1_col0\" class=\"data row1 col0\" >0.08875</td>\n",
       "            </tr>\n",
       "            <tr>\n",
       "                        <th id=\"T_e61b3b85_05ef_11ea_a6fb_107b449f15fclevel0_row2\" class=\"row_heading level0 row2\" >середина_прошлое_век</th>\n",
       "                        <td id=\"T_e61b3b85_05ef_11ea_a6fb_107b449f15fcrow2_col0\" class=\"data row2 col0\" >0.07771</td>\n",
       "            </tr>\n",
       "            <tr>\n",
       "                        <th id=\"T_e61b3b85_05ef_11ea_a6fb_107b449f15fclevel0_row3\" class=\"row_heading level0 row3\" >кроветворный_стволовой_клетка</th>\n",
       "                        <td id=\"T_e61b3b85_05ef_11ea_a6fb_107b449f15fcrow3_col0\" class=\"data row3 col0\" >0.06113</td>\n",
       "            </tr>\n",
       "            <tr>\n",
       "                        <th id=\"T_e61b3b85_05ef_11ea_a6fb_107b449f15fclevel0_row4\" class=\"row_heading level0 row4\" >вид_homo_sapiens</th>\n",
       "                        <td id=\"T_e61b3b85_05ef_11ea_a6fb_107b449f15fcrow4_col0\" class=\"data row4 col0\" >0.06106</td>\n",
       "            </tr>\n",
       "            <tr>\n",
       "                        <th id=\"T_e61b3b85_05ef_11ea_a6fb_107b449f15fclevel0_row5\" class=\"row_heading level0 row5\" >путём_естественный_отбор</th>\n",
       "                        <td id=\"T_e61b3b85_05ef_11ea_a6fb_107b449f15fcrow5_col0\" class=\"data row5 col0\" >0.0552</td>\n",
       "            </tr>\n",
       "            <tr>\n",
       "                        <th id=\"T_e61b3b85_05ef_11ea_a6fb_107b449f15fclevel0_row6\" class=\"row_heading level0 row6\" >довольно_сильно_отличаться</th>\n",
       "                        <td id=\"T_e61b3b85_05ef_11ea_a6fb_107b449f15fcrow6_col0\" class=\"data row6 col0\" >0.04988</td>\n",
       "            </tr>\n",
       "            <tr>\n",
       "                        <th id=\"T_e61b3b85_05ef_11ea_a6fb_107b449f15fclevel0_row7\" class=\"row_heading level0 row7\" >действие_естественный_отбор</th>\n",
       "                        <td id=\"T_e61b3b85_05ef_11ea_a6fb_107b449f15fcrow7_col0\" class=\"data row7 col0\" >0.04445</td>\n",
       "            </tr>\n",
       "            <tr>\n",
       "                        <th id=\"T_e61b3b85_05ef_11ea_a6fb_107b449f15fclevel0_row8\" class=\"row_heading level0 row8\" >фаза_клинический_испытание</th>\n",
       "                        <td id=\"T_e61b3b85_05ef_11ea_a6fb_107b449f15fcrow8_col0\" class=\"data row8 col0\" >0.04438</td>\n",
       "            </tr>\n",
       "            <tr>\n",
       "                        <th id=\"T_e61b3b85_05ef_11ea_a6fb_107b449f15fclevel0_row9\" class=\"row_heading level0 row9\" >изучение_стволовой_клетка</th>\n",
       "                        <td id=\"T_e61b3b85_05ef_11ea_a6fb_107b449f15fcrow9_col0\" class=\"data row9 col0\" >0.03331</td>\n",
       "            </tr>\n",
       "    </tbody></table><style  type=\"text/css\" >\n",
       "</style><table id=\"T_e61b3b86_05ef_11ea_a6fb_107b449f15fc\" style='display:inline'><thead>    <tr>        <th class=\"blank level0\" ></th>        <th class=\"col_heading level0 col0\" >topic_8 @post_tag</th>    </tr></thead><tbody>\n",
       "                <tr>\n",
       "                        <th id=\"T_e61b3b86_05ef_11ea_a6fb_107b449f15fclevel0_row0\" class=\"row_heading level0 row0\" >эволюция</th>\n",
       "                        <td id=\"T_e61b3b86_05ef_11ea_a6fb_107b449f15fcrow0_col0\" class=\"data row0 col0\" >0.15005</td>\n",
       "            </tr>\n",
       "            <tr>\n",
       "                        <th id=\"T_e61b3b86_05ef_11ea_a6fb_107b449f15fclevel0_row1\" class=\"row_heading level0 row1\" >антропология</th>\n",
       "                        <td id=\"T_e61b3b86_05ef_11ea_a6fb_107b449f15fcrow1_col0\" class=\"data row1 col0\" >0.1369</td>\n",
       "            </tr>\n",
       "            <tr>\n",
       "                        <th id=\"T_e61b3b86_05ef_11ea_a6fb_107b449f15fclevel0_row2\" class=\"row_heading level0 row2\" >человек</th>\n",
       "                        <td id=\"T_e61b3b86_05ef_11ea_a6fb_107b449f15fcrow2_col0\" class=\"data row2 col0\" >0.13472</td>\n",
       "            </tr>\n",
       "            <tr>\n",
       "                        <th id=\"T_e61b3b86_05ef_11ea_a6fb_107b449f15fclevel0_row3\" class=\"row_heading level0 row3\" >биология</th>\n",
       "                        <td id=\"T_e61b3b86_05ef_11ea_a6fb_107b449f15fcrow3_col0\" class=\"data row3 col0\" >0.12005</td>\n",
       "            </tr>\n",
       "            <tr>\n",
       "                        <th id=\"T_e61b3b86_05ef_11ea_a6fb_107b449f15fclevel0_row4\" class=\"row_heading level0 row4\" >антропогенез</th>\n",
       "                        <td id=\"T_e61b3b86_05ef_11ea_a6fb_107b449f15fcrow4_col0\" class=\"data row4 col0\" >0.04659</td>\n",
       "            </tr>\n",
       "            <tr>\n",
       "                        <th id=\"T_e61b3b86_05ef_11ea_a6fb_107b449f15fclevel0_row5\" class=\"row_heading level0 row5\" >стволовые_клетки</th>\n",
       "                        <td id=\"T_e61b3b86_05ef_11ea_a6fb_107b449f15fcrow5_col0\" class=\"data row5 col0\" >0.04082</td>\n",
       "            </tr>\n",
       "            <tr>\n",
       "                        <th id=\"T_e61b3b86_05ef_11ea_a6fb_107b449f15fclevel0_row6\" class=\"row_heading level0 row6\" >генетика</th>\n",
       "                        <td id=\"T_e61b3b86_05ef_11ea_a6fb_107b449f15fcrow6_col0\" class=\"data row6 col0\" >0.0338</td>\n",
       "            </tr>\n",
       "            <tr>\n",
       "                        <th id=\"T_e61b3b86_05ef_11ea_a6fb_107b449f15fclevel0_row7\" class=\"row_heading level0 row7\" >происхождение_человека</th>\n",
       "                        <td id=\"T_e61b3b86_05ef_11ea_a6fb_107b449f15fcrow7_col0\" class=\"data row7 col0\" >0.03211</td>\n",
       "            </tr>\n",
       "            <tr>\n",
       "                        <th id=\"T_e61b3b86_05ef_11ea_a6fb_107b449f15fclevel0_row8\" class=\"row_heading level0 row8\" >дарвин_чарльз</th>\n",
       "                        <td id=\"T_e61b3b86_05ef_11ea_a6fb_107b449f15fcrow8_col0\" class=\"data row8 col0\" >0.02488</td>\n",
       "            </tr>\n",
       "            <tr>\n",
       "                        <th id=\"T_e61b3b86_05ef_11ea_a6fb_107b449f15fclevel0_row9\" class=\"row_heading level0 row9\" >неандерталец</th>\n",
       "                        <td id=\"T_e61b3b86_05ef_11ea_a6fb_107b449f15fcrow9_col0\" class=\"data row9 col0\" >0.0204</td>\n",
       "            </tr>\n",
       "    </tbody></table><style  type=\"text/css\" >\n",
       "</style><table id=\"T_e61b3b87_05ef_11ea_a6fb_107b449f15fc\" style='display:inline'><thead>    <tr>        <th class=\"blank level0\" ></th>        <th class=\"col_heading level0 col0\" >topic_8 @word</th>    </tr></thead><tbody>\n",
       "                <tr>\n",
       "                        <th id=\"T_e61b3b87_05ef_11ea_a6fb_107b449f15fclevel0_row0\" class=\"row_heading level0 row0\" >эволюция</th>\n",
       "                        <td id=\"T_e61b3b87_05ef_11ea_a6fb_107b449f15fcrow0_col0\" class=\"data row0 col0\" >0.00802</td>\n",
       "            </tr>\n",
       "            <tr>\n",
       "                        <th id=\"T_e61b3b87_05ef_11ea_a6fb_107b449f15fclevel0_row1\" class=\"row_heading level0 row1\" >вид</th>\n",
       "                        <td id=\"T_e61b3b87_05ef_11ea_a6fb_107b449f15fcrow1_col0\" class=\"data row1 col0\" >0.00768</td>\n",
       "            </tr>\n",
       "            <tr>\n",
       "                        <th id=\"T_e61b3b87_05ef_11ea_a6fb_107b449f15fclevel0_row2\" class=\"row_heading level0 row2\" >клетка</th>\n",
       "                        <td id=\"T_e61b3b87_05ef_11ea_a6fb_107b449f15fcrow2_col0\" class=\"data row2 col0\" >0.00744</td>\n",
       "            </tr>\n",
       "            <tr>\n",
       "                        <th id=\"T_e61b3b87_05ef_11ea_a6fb_107b449f15fclevel0_row3\" class=\"row_heading level0 row3\" >ген</th>\n",
       "                        <td id=\"T_e61b3b87_05ef_11ea_a6fb_107b449f15fcrow3_col0\" class=\"data row3 col0\" >0.00589</td>\n",
       "            </tr>\n",
       "            <tr>\n",
       "                        <th id=\"T_e61b3b87_05ef_11ea_a6fb_107b449f15fclevel0_row4\" class=\"row_heading level0 row4\" >самец</th>\n",
       "                        <td id=\"T_e61b3b87_05ef_11ea_a6fb_107b449f15fcrow4_col0\" class=\"data row4 col0\" >0.00579</td>\n",
       "            </tr>\n",
       "            <tr>\n",
       "                        <th id=\"T_e61b3b87_05ef_11ea_a6fb_107b449f15fclevel0_row5\" class=\"row_heading level0 row5\" >самка</th>\n",
       "                        <td id=\"T_e61b3b87_05ef_11ea_a6fb_107b449f15fcrow5_col0\" class=\"data row5 col0\" >0.00529</td>\n",
       "            </tr>\n",
       "            <tr>\n",
       "                        <th id=\"T_e61b3b87_05ef_11ea_a6fb_107b449f15fclevel0_row6\" class=\"row_heading level0 row6\" >неандерталец</th>\n",
       "                        <td id=\"T_e61b3b87_05ef_11ea_a6fb_107b449f15fcrow6_col0\" class=\"data row6 col0\" >0.00463</td>\n",
       "            </tr>\n",
       "            <tr>\n",
       "                        <th id=\"T_e61b3b87_05ef_11ea_a6fb_107b449f15fclevel0_row7\" class=\"row_heading level0 row7\" >жить</th>\n",
       "                        <td id=\"T_e61b3b87_05ef_11ea_a6fb_107b449f15fcrow7_col0\" class=\"data row7 col0\" >0.00396</td>\n",
       "            </tr>\n",
       "            <tr>\n",
       "                        <th id=\"T_e61b3b87_05ef_11ea_a6fb_107b449f15fclevel0_row8\" class=\"row_heading level0 row8\" >группа</th>\n",
       "                        <td id=\"T_e61b3b87_05ef_11ea_a6fb_107b449f15fcrow8_col0\" class=\"data row8 col0\" >0.00375</td>\n",
       "            </tr>\n",
       "            <tr>\n",
       "                        <th id=\"T_e61b3b87_05ef_11ea_a6fb_107b449f15fclevel0_row9\" class=\"row_heading level0 row9\" >большой</th>\n",
       "                        <td id=\"T_e61b3b87_05ef_11ea_a6fb_107b449f15fcrow9_col0\" class=\"data row9 col0\" >0.00355</td>\n",
       "            </tr>\n",
       "    </tbody></table>"
      ]
     },
     "metadata": {},
     "output_type": "display_data"
    },
    {
     "data": {
      "text/html": [
       "<b> faqэмбриональные стволовые клетки </b><br /> 7 фактов об уникальном типе плюрипотентных клеток млекопитающих"
      ]
     },
     "metadata": {},
     "output_type": "display_data"
    },
    {
     "data": {
      "text/html": [
       "<b> faqнеандертальцы алтая </b><br /> 7 фактов о происхождении  неандертальского населения на алтае, денисовой пещере и современных археологических исследованиях"
      ]
     },
     "metadata": {},
     "output_type": "display_data"
    },
    {
     "data": {
      "text/html": [
       "<b> эпигенетика и клонирование </b><br /> биолог рудольф йениш об овце долли, терапевтическом клонировании у млекопитающих и перепрограммировании клеток"
      ]
     },
     "metadata": {},
     "output_type": "display_data"
    },
    {
     "data": {
      "text/html": [
       "<b> как пациенту пересадили сетчатку глаза из «искусственных» клеток? </b><br /> о получении индуцированных плюрипотентных стволовых клеток и их применении в медицине"
      ]
     },
     "metadata": {},
     "output_type": "display_data"
    },
    {
     "data": {
      "text/html": [
       "<b> новые технологии в лечении болезней зрения </b><br /> биолог сергей киселев об амаврозе лебера, возрастных заболеваниях глаз и трансплантации эмбриональных стволовых клеток"
      ]
     },
     "metadata": {},
     "output_type": "display_data"
    },
    {
     "data": {
      "text/html": [
       "<b> главыобезьяночеловек </b><br /> отрывок из книги «рассказ предка» биолога ричарда докинза об истоках эволюционного древа и общих предках всех живых организмов"
      ]
     },
     "metadata": {},
     "output_type": "display_data"
    },
    {
     "data": {
      "text/html": [
       "<b> press-лекция # как сделать из одной клетки другуюхроники трансформаций </b><br /> генетик мария шутова о выращивании органов, культивировании ранних эмбриональных клеток и о биомедицинском применении их искусственных аналогов"
      ]
     },
     "metadata": {},
     "output_type": "display_data"
    },
    {
     "data": {
      "text/html": [
       "<b> биоинженерия стволовых клеток </b><br /> биоинженер али хадемхосейни об искусственной клеточной среде, образовании опухолей и инженерных подходах к исследованиям стволовых клеток"
      ]
     },
     "metadata": {},
     "output_type": "display_data"
    },
    {
     "data": {
      "text/html": [
       "<b> «социальная моногамия совершенно не коррелирует с сексуальной моногамией» </b><br /> интервью с биологом андреем чабовским о феномене моногамии, теории конфликта полов и причинах привязанности между партнерами"
      ]
     },
     "metadata": {},
     "output_type": "display_data"
    },
    {
     "data": {
      "text/html": [
       "<b> faqвозникновение человека </b><br /> 7 фактов о человекообразных обезьянах и эволюции человека"
      ]
     },
     "metadata": {},
     "output_type": "display_data"
    },
    {
     "data": {
      "text/html": [
       "<style  type=\"text/css\" >\n",
       "</style><table id=\"T_e61b3b88_05ef_11ea_a6fb_107b449f15fc\" style='display:inline'><thead>    <tr>        <th class=\"blank level0\" ></th>        <th class=\"col_heading level0 col0\" >topic_9 @2gramm</th>    </tr></thead><tbody>\n",
       "                <tr>\n",
       "                        <th id=\"T_e61b3b88_05ef_11ea_a6fb_107b449f15fclevel0_row0\" class=\"row_heading level0 row0\" >стандартный_модель</th>\n",
       "                        <td id=\"T_e61b3b88_05ef_11ea_a6fb_107b449f15fcrow0_col0\" class=\"data row0 col0\" >0.0319</td>\n",
       "            </tr>\n",
       "            <tr>\n",
       "                        <th id=\"T_e61b3b88_05ef_11ea_a6fb_107b449f15fclevel0_row1\" class=\"row_heading level0 row1\" >элементарный_частица</th>\n",
       "                        <td id=\"T_e61b3b88_05ef_11ea_a6fb_107b449f15fcrow1_col0\" class=\"data row1 col0\" >0.03059</td>\n",
       "            </tr>\n",
       "            <tr>\n",
       "                        <th id=\"T_e61b3b88_05ef_11ea_a6fb_107b449f15fclevel0_row2\" class=\"row_heading level0 row2\" >бозон_хиггс</th>\n",
       "                        <td id=\"T_e61b3b88_05ef_11ea_a6fb_107b449f15fcrow2_col0\" class=\"data row2 col0\" >0.02492</td>\n",
       "            </tr>\n",
       "            <tr>\n",
       "                        <th id=\"T_e61b3b88_05ef_11ea_a6fb_107b449f15fclevel0_row3\" class=\"row_heading level0 row3\" >хиггсовский_бозон</th>\n",
       "                        <td id=\"T_e61b3b88_05ef_11ea_a6fb_107b449f15fcrow3_col0\" class=\"data row3 col0\" >0.01147</td>\n",
       "            </tr>\n",
       "            <tr>\n",
       "                        <th id=\"T_e61b3b88_05ef_11ea_a6fb_107b449f15fclevel0_row4\" class=\"row_heading level0 row4\" >магнитный_пол</th>\n",
       "                        <td id=\"T_e61b3b88_05ef_11ea_a6fb_107b449f15fcrow4_col0\" class=\"data row4 col0\" >0.01072</td>\n",
       "            </tr>\n",
       "            <tr>\n",
       "                        <th id=\"T_e61b3b88_05ef_11ea_a6fb_107b449f15fclevel0_row5\" class=\"row_heading level0 row5\" >электрический_заряд</th>\n",
       "                        <td id=\"T_e61b3b88_05ef_11ea_a6fb_107b449f15fcrow5_col0\" class=\"data row5 col0\" >0.01069</td>\n",
       "            </tr>\n",
       "            <tr>\n",
       "                        <th id=\"T_e61b3b88_05ef_11ea_a6fb_107b449f15fclevel0_row6\" class=\"row_heading level0 row6\" >высокий_энергия</th>\n",
       "                        <td id=\"T_e61b3b88_05ef_11ea_a6fb_107b449f15fcrow6_col0\" class=\"data row6 col0\" >0.01025</td>\n",
       "            </tr>\n",
       "            <tr>\n",
       "                        <th id=\"T_e61b3b88_05ef_11ea_a6fb_107b449f15fclevel0_row7\" class=\"row_heading level0 row7\" >сильный_взаимодействие</th>\n",
       "                        <td id=\"T_e61b3b88_05ef_11ea_a6fb_107b449f15fcrow7_col0\" class=\"data row7 col0\" >0.01023</td>\n",
       "            </tr>\n",
       "            <tr>\n",
       "                        <th id=\"T_e61b3b88_05ef_11ea_a6fb_107b449f15fclevel0_row8\" class=\"row_heading level0 row8\" >космический_луч</th>\n",
       "                        <td id=\"T_e61b3b88_05ef_11ea_a6fb_107b449f15fcrow8_col0\" class=\"data row8 col0\" >0.00933</td>\n",
       "            </tr>\n",
       "            <tr>\n",
       "                        <th id=\"T_e61b3b88_05ef_11ea_a6fb_107b449f15fclevel0_row9\" class=\"row_heading level0 row9\" >слабый_взаимодействие</th>\n",
       "                        <td id=\"T_e61b3b88_05ef_11ea_a6fb_107b449f15fcrow9_col0\" class=\"data row9 col0\" >0.00896</td>\n",
       "            </tr>\n",
       "    </tbody></table><style  type=\"text/css\" >\n",
       "</style><table id=\"T_e61b3b89_05ef_11ea_a6fb_107b449f15fc\" style='display:inline'><thead>    <tr>        <th class=\"blank level0\" ></th>        <th class=\"col_heading level0 col0\" >topic_9 @3gramm</th>    </tr></thead><tbody>\n",
       "                <tr>\n",
       "                        <th id=\"T_e61b3b89_05ef_11ea_a6fb_107b449f15fclevel0_row0\" class=\"row_heading level0 row0\" >большой_адронный_коллайдер</th>\n",
       "                        <td id=\"T_e61b3b89_05ef_11ea_a6fb_107b449f15fcrow0_col0\" class=\"data row0 col0\" >0.21737</td>\n",
       "            </tr>\n",
       "            <tr>\n",
       "                        <th id=\"T_e61b3b89_05ef_11ea_a6fb_107b449f15fclevel0_row1\" class=\"row_heading level0 row1\" >физика_элементарный_частица</th>\n",
       "                        <td id=\"T_e61b3b89_05ef_11ea_a6fb_107b449f15fcrow1_col0\" class=\"data row1 col0\" >0.19703</td>\n",
       "            </tr>\n",
       "            <tr>\n",
       "                        <th id=\"T_e61b3b89_05ef_11ea_a6fb_107b449f15fclevel0_row2\" class=\"row_heading level0 row2\" >физик_элементарный_частица</th>\n",
       "                        <td id=\"T_e61b3b89_05ef_11ea_a6fb_107b449f15fcrow2_col0\" class=\"data row2 col0\" >0.05058</td>\n",
       "            </tr>\n",
       "            <tr>\n",
       "                        <th id=\"T_e61b3b89_05ef_11ea_a6fb_107b449f15fclevel0_row3\" class=\"row_heading level0 row3\" >рамка_стандартный_модель</th>\n",
       "                        <td id=\"T_e61b3b89_05ef_11ea_a6fb_107b449f15fcrow3_col0\" class=\"data row3 col0\" >0.04705</td>\n",
       "            </tr>\n",
       "            <tr>\n",
       "                        <th id=\"T_e61b3b89_05ef_11ea_a6fb_107b449f15fclevel0_row4\" class=\"row_heading level0 row4\" >активный_форма_кислород</th>\n",
       "                        <td id=\"T_e61b3b89_05ef_11ea_a6fb_107b449f15fcrow4_col0\" class=\"data row4 col0\" >0.04478</td>\n",
       "            </tr>\n",
       "            <tr>\n",
       "                        <th id=\"T_e61b3b89_05ef_11ea_a6fb_107b449f15fclevel0_row5\" class=\"row_heading level0 row5\" >магнитный_пол_земля</th>\n",
       "                        <td id=\"T_e61b3b89_05ef_11ea_a6fb_107b449f15fcrow5_col0\" class=\"data row5 col0\" >0.04253</td>\n",
       "            </tr>\n",
       "            <tr>\n",
       "                        <th id=\"T_e61b3b89_05ef_11ea_a6fb_107b449f15fclevel0_row6\" class=\"row_heading level0 row6\" >открытие_бозон_хиггс</th>\n",
       "                        <td id=\"T_e61b3b89_05ef_11ea_a6fb_107b449f15fcrow6_col0\" class=\"data row6 col0\" >0.04031</td>\n",
       "            </tr>\n",
       "            <tr>\n",
       "                        <th id=\"T_e61b3b89_05ef_11ea_a6fb_107b449f15fclevel0_row7\" class=\"row_heading level0 row7\" >физика_высокий_энергия</th>\n",
       "                        <td id=\"T_e61b3b89_05ef_11ea_a6fb_107b449f15fcrow7_col0\" class=\"data row7 col0\" >0.03583</td>\n",
       "            </tr>\n",
       "            <tr>\n",
       "                        <th id=\"T_e61b3b89_05ef_11ea_a6fb_107b449f15fclevel0_row8\" class=\"row_heading level0 row8\" >переносчик_слабый_взаимодействие</th>\n",
       "                        <td id=\"T_e61b3b89_05ef_11ea_a6fb_107b449f15fcrow8_col0\" class=\"data row8 col0\" >0.02912</td>\n",
       "            </tr>\n",
       "            <tr>\n",
       "                        <th id=\"T_e61b3b89_05ef_11ea_a6fb_107b449f15fclevel0_row9\" class=\"row_heading level0 row9\" >барионный_асимметрия_вселенная</th>\n",
       "                        <td id=\"T_e61b3b89_05ef_11ea_a6fb_107b449f15fcrow9_col0\" class=\"data row9 col0\" >0.02126</td>\n",
       "            </tr>\n",
       "    </tbody></table><style  type=\"text/css\" >\n",
       "</style><table id=\"T_e61b3b8a_05ef_11ea_a6fb_107b449f15fc\" style='display:inline'><thead>    <tr>        <th class=\"blank level0\" ></th>        <th class=\"col_heading level0 col0\" >topic_9 @post_tag</th>    </tr></thead><tbody>\n",
       "                <tr>\n",
       "                        <th id=\"T_e61b3b8a_05ef_11ea_a6fb_107b449f15fclevel0_row0\" class=\"row_heading level0 row0\" >физика</th>\n",
       "                        <td id=\"T_e61b3b8a_05ef_11ea_a6fb_107b449f15fcrow0_col0\" class=\"data row0 col0\" >0.14202</td>\n",
       "            </tr>\n",
       "            <tr>\n",
       "                        <th id=\"T_e61b3b8a_05ef_11ea_a6fb_107b449f15fclevel0_row1\" class=\"row_heading level0 row1\" >физика_элементарных_частиц</th>\n",
       "                        <td id=\"T_e61b3b8a_05ef_11ea_a6fb_107b449f15fcrow1_col0\" class=\"data row1 col0\" >0.11209</td>\n",
       "            </tr>\n",
       "            <tr>\n",
       "                        <th id=\"T_e61b3b8a_05ef_11ea_a6fb_107b449f15fclevel0_row2\" class=\"row_heading level0 row2\" >элементарная_частица</th>\n",
       "                        <td id=\"T_e61b3b8a_05ef_11ea_a6fb_107b449f15fcrow2_col0\" class=\"data row2 col0\" >0.05891</td>\n",
       "            </tr>\n",
       "            <tr>\n",
       "                        <th id=\"T_e61b3b8a_05ef_11ea_a6fb_107b449f15fclevel0_row3\" class=\"row_heading level0 row3\" >кварк</th>\n",
       "                        <td id=\"T_e61b3b8a_05ef_11ea_a6fb_107b449f15fcrow3_col0\" class=\"data row3 col0\" >0.05752</td>\n",
       "            </tr>\n",
       "            <tr>\n",
       "                        <th id=\"T_e61b3b8a_05ef_11ea_a6fb_107b449f15fclevel0_row4\" class=\"row_heading level0 row4\" >бозон_хиггса</th>\n",
       "                        <td id=\"T_e61b3b8a_05ef_11ea_a6fb_107b449f15fcrow4_col0\" class=\"data row4 col0\" >0.05458</td>\n",
       "            </tr>\n",
       "            <tr>\n",
       "                        <th id=\"T_e61b3b8a_05ef_11ea_a6fb_107b449f15fclevel0_row5\" class=\"row_heading level0 row5\" >большой_адронный_коллайдер</th>\n",
       "                        <td id=\"T_e61b3b8a_05ef_11ea_a6fb_107b449f15fcrow5_col0\" class=\"data row5 col0\" >0.0531</td>\n",
       "            </tr>\n",
       "            <tr>\n",
       "                        <th id=\"T_e61b3b8a_05ef_11ea_a6fb_107b449f15fclevel0_row6\" class=\"row_heading level0 row6\" >стандартная_модель</th>\n",
       "                        <td id=\"T_e61b3b8a_05ef_11ea_a6fb_107b449f15fcrow6_col0\" class=\"data row6 col0\" >0.04949</td>\n",
       "            </tr>\n",
       "            <tr>\n",
       "                        <th id=\"T_e61b3b8a_05ef_11ea_a6fb_107b449f15fclevel0_row7\" class=\"row_heading level0 row7\" >магнитное_поле</th>\n",
       "                        <td id=\"T_e61b3b8a_05ef_11ea_a6fb_107b449f15fcrow7_col0\" class=\"data row7 col0\" >0.03481</td>\n",
       "            </tr>\n",
       "            <tr>\n",
       "                        <th id=\"T_e61b3b8a_05ef_11ea_a6fb_107b449f15fclevel0_row8\" class=\"row_heading level0 row8\" >симметрия</th>\n",
       "                        <td id=\"T_e61b3b8a_05ef_11ea_a6fb_107b449f15fcrow8_col0\" class=\"data row8 col0\" >0.03314</td>\n",
       "            </tr>\n",
       "            <tr>\n",
       "                        <th id=\"T_e61b3b8a_05ef_11ea_a6fb_107b449f15fclevel0_row9\" class=\"row_heading level0 row9\" >нейтрино</th>\n",
       "                        <td id=\"T_e61b3b8a_05ef_11ea_a6fb_107b449f15fcrow9_col0\" class=\"data row9 col0\" >0.0303</td>\n",
       "            </tr>\n",
       "    </tbody></table><style  type=\"text/css\" >\n",
       "</style><table id=\"T_e61b3b8b_05ef_11ea_a6fb_107b449f15fc\" style='display:inline'><thead>    <tr>        <th class=\"blank level0\" ></th>        <th class=\"col_heading level0 col0\" >topic_9 @word</th>    </tr></thead><tbody>\n",
       "                <tr>\n",
       "                        <th id=\"T_e61b3b8b_05ef_11ea_a6fb_107b449f15fclevel0_row0\" class=\"row_heading level0 row0\" >частица</th>\n",
       "                        <td id=\"T_e61b3b8b_05ef_11ea_a6fb_107b449f15fcrow0_col0\" class=\"data row0 col0\" >0.0246</td>\n",
       "            </tr>\n",
       "            <tr>\n",
       "                        <th id=\"T_e61b3b8b_05ef_11ea_a6fb_107b449f15fclevel0_row1\" class=\"row_heading level0 row1\" >кварк</th>\n",
       "                        <td id=\"T_e61b3b8b_05ef_11ea_a6fb_107b449f15fcrow1_col0\" class=\"data row1 col0\" >0.01579</td>\n",
       "            </tr>\n",
       "            <tr>\n",
       "                        <th id=\"T_e61b3b8b_05ef_11ea_a6fb_107b449f15fclevel0_row2\" class=\"row_heading level0 row2\" >электрон</th>\n",
       "                        <td id=\"T_e61b3b8b_05ef_11ea_a6fb_107b449f15fcrow2_col0\" class=\"data row2 col0\" >0.00897</td>\n",
       "            </tr>\n",
       "            <tr>\n",
       "                        <th id=\"T_e61b3b8b_05ef_11ea_a6fb_107b449f15fclevel0_row3\" class=\"row_heading level0 row3\" >энергия</th>\n",
       "                        <td id=\"T_e61b3b8b_05ef_11ea_a6fb_107b449f15fcrow3_col0\" class=\"data row3 col0\" >0.00809</td>\n",
       "            </tr>\n",
       "            <tr>\n",
       "                        <th id=\"T_e61b3b8b_05ef_11ea_a6fb_107b449f15fclevel0_row4\" class=\"row_heading level0 row4\" >симметрия</th>\n",
       "                        <td id=\"T_e61b3b8b_05ef_11ea_a6fb_107b449f15fcrow4_col0\" class=\"data row4 col0\" >0.0075</td>\n",
       "            </tr>\n",
       "            <tr>\n",
       "                        <th id=\"T_e61b3b8b_05ef_11ea_a6fb_107b449f15fclevel0_row5\" class=\"row_heading level0 row5\" >эксперимент</th>\n",
       "                        <td id=\"T_e61b3b8b_05ef_11ea_a6fb_107b449f15fcrow5_col0\" class=\"data row5 col0\" >0.00692</td>\n",
       "            </tr>\n",
       "            <tr>\n",
       "                        <th id=\"T_e61b3b8b_05ef_11ea_a6fb_107b449f15fclevel0_row6\" class=\"row_heading level0 row6\" >протон</th>\n",
       "                        <td id=\"T_e61b3b8b_05ef_11ea_a6fb_107b449f15fcrow6_col0\" class=\"data row6 col0\" >0.00653</td>\n",
       "            </tr>\n",
       "            <tr>\n",
       "                        <th id=\"T_e61b3b8b_05ef_11ea_a6fb_107b449f15fclevel0_row7\" class=\"row_heading level0 row7\" >масса</th>\n",
       "                        <td id=\"T_e61b3b8b_05ef_11ea_a6fb_107b449f15fcrow7_col0\" class=\"data row7 col0\" >0.00613</td>\n",
       "            </tr>\n",
       "            <tr>\n",
       "                        <th id=\"T_e61b3b8b_05ef_11ea_a6fb_107b449f15fclevel0_row8\" class=\"row_heading level0 row8\" >нейтрино</th>\n",
       "                        <td id=\"T_e61b3b8b_05ef_11ea_a6fb_107b449f15fcrow8_col0\" class=\"data row8 col0\" >0.00556</td>\n",
       "            </tr>\n",
       "            <tr>\n",
       "                        <th id=\"T_e61b3b8b_05ef_11ea_a6fb_107b449f15fclevel0_row9\" class=\"row_heading level0 row9\" >ускоритель</th>\n",
       "                        <td id=\"T_e61b3b8b_05ef_11ea_a6fb_107b449f15fcrow9_col0\" class=\"data row9 col0\" >0.00492</td>\n",
       "            </tr>\n",
       "    </tbody></table>"
      ]
     },
     "metadata": {},
     "output_type": "display_data"
    },
    {
     "data": {
      "text/html": [
       "<b> спонтанное нарушение симметрии </b><br /> физик дмитрий казаков о массах частиц, слабых взаимодействиях и теореме голдстоуна"
      ]
     },
     "metadata": {},
     "output_type": "display_data"
    },
    {
     "data": {
      "text/html": [
       "<b> симметрии в мире элементарных частиц </b><br /> физик дмитрий казаков о типах преобразований в физике частиц, лоренц-инвариантности и нарушениях симметрии"
      ]
     },
     "metadata": {},
     "output_type": "display_data"
    },
    {
     "data": {
      "text/html": [
       "<b> faqтоп-кварк </b><br /> 7 фактов о наиболее массивной частице стандартной модели"
      ]
     },
     "metadata": {},
     "output_type": "display_data"
    },
    {
     "data": {
      "text/html": [
       "<b> антиоксиданты и сердечно-сосудистые заболевания </b><br /> фармаколог олег медведев о компонентах антиоксидантной системы, формах коэнзима и новых свойствах водорода"
      ]
     },
     "metadata": {},
     "output_type": "display_data"
    },
    {
     "data": {
      "text/html": [
       "<b> адроны </b><br /> физик дмитрий казаков о мире мезонов и барионов, свойствах кварков и адронных резонансах"
      ]
     },
     "metadata": {},
     "output_type": "display_data"
    },
    {
     "data": {
      "text/html": [
       "<b> faqcp-нарушение в кварках </b><br /> 7 фактов о смешивании поколений кварков, экспериментах на бак и асимметрии в мире элементарных частиц"
      ]
     },
     "metadata": {},
     "output_type": "display_data"
    },
    {
     "data": {
      "text/html": [
       "<b> линейный коллайдер </b><br /> физик михаил данилов о недостатках стандартной модели,  изучении t-кварка и поиске новых измерений"
      ]
     },
     "metadata": {},
     "output_type": "display_data"
    },
    {
     "data": {
      "text/html": [
       "<b> элементарные частицы </b><br /> физик дмитрий казаков об истории открытия, свойствах и классификации элементарных частиц"
      ]
     },
     "metadata": {},
     "output_type": "display_data"
    },
    {
     "data": {
      "text/html": [
       "<b> стандартная модель </b><br /> физик михаил данилов об экспериментах на коллайдерах, массе фундаментальных частиц и суперсимметрии"
      ]
     },
     "metadata": {},
     "output_type": "display_data"
    },
    {
     "data": {
      "text/html": [
       "<b> детекторы для экспериментов на коллайдерах </b><br /> физик павел пахлов о взаимодействии элементарных частиц, устройстве детекторов и применении данной технологии в повседневной жизни"
      ]
     },
     "metadata": {},
     "output_type": "display_data"
    },
    {
     "data": {
      "text/html": [
       "<style  type=\"text/css\" >\n",
       "</style><table id=\"T_e61b3b8c_05ef_11ea_a6fb_107b449f15fc\" style='display:inline'><thead>    <tr>        <th class=\"blank level0\" ></th>        <th class=\"col_heading level0 col0\" >topic_10 @2gramm</th>    </tr></thead><tbody>\n",
       "                <tr>\n",
       "                        <th id=\"T_e61b3b8c_05ef_11ea_a6fb_107b449f15fclevel0_row0\" class=\"row_heading level0 row0\" >солнечный_система</th>\n",
       "                        <td id=\"T_e61b3b8c_05ef_11ea_a6fb_107b449f15fcrow0_col0\" class=\"data row0 col0\" >0.03545</td>\n",
       "            </tr>\n",
       "            <tr>\n",
       "                        <th id=\"T_e61b3b8c_05ef_11ea_a6fb_107b449f15fclevel0_row1\" class=\"row_heading level0 row1\" >планетный_система</th>\n",
       "                        <td id=\"T_e61b3b8c_05ef_11ea_a6fb_107b449f15fcrow1_col0\" class=\"data row1 col0\" >0.01154</td>\n",
       "            </tr>\n",
       "            <tr>\n",
       "                        <th id=\"T_e61b3b8c_05ef_11ea_a6fb_107b449f15fclevel0_row2\" class=\"row_heading level0 row2\" >космический_аппарат</th>\n",
       "                        <td id=\"T_e61b3b8c_05ef_11ea_a6fb_107b449f15fcrow2_col0\" class=\"data row2 col0\" >0.00901</td>\n",
       "            </tr>\n",
       "            <tr>\n",
       "                        <th id=\"T_e61b3b8c_05ef_11ea_a6fb_107b449f15fclevel0_row3\" class=\"row_heading level0 row3\" >протопланетный_диск</th>\n",
       "                        <td id=\"T_e61b3b8c_05ef_11ea_a6fb_107b449f15fcrow3_col0\" class=\"data row3 col0\" >0.009</td>\n",
       "            </tr>\n",
       "            <tr>\n",
       "                        <th id=\"T_e61b3b8c_05ef_11ea_a6fb_107b449f15fclevel0_row4\" class=\"row_heading level0 row4\" >король_артур</th>\n",
       "                        <td id=\"T_e61b3b8c_05ef_11ea_a6fb_107b449f15fcrow4_col0\" class=\"data row4 col0\" >0.00891</td>\n",
       "            </tr>\n",
       "            <tr>\n",
       "                        <th id=\"T_e61b3b8c_05ef_11ea_a6fb_107b449f15fclevel0_row5\" class=\"row_heading level0 row5\" >иммунный_система</th>\n",
       "                        <td id=\"T_e61b3b8c_05ef_11ea_a6fb_107b449f15fcrow5_col0\" class=\"data row5 col0\" >0.00866</td>\n",
       "            </tr>\n",
       "            <tr>\n",
       "                        <th id=\"T_e61b3b8c_05ef_11ea_a6fb_107b449f15fclevel0_row6\" class=\"row_heading level0 row6\" >извержение_вулкан</th>\n",
       "                        <td id=\"T_e61b3b8c_05ef_11ea_a6fb_107b449f15fcrow6_col0\" class=\"data row6 col0\" >0.00745</td>\n",
       "            </tr>\n",
       "            <tr>\n",
       "                        <th id=\"T_e61b3b8c_05ef_11ea_a6fb_107b449f15fclevel0_row7\" class=\"row_heading level0 row7\" >теория_фрейм</th>\n",
       "                        <td id=\"T_e61b3b8c_05ef_11ea_a6fb_107b449f15fcrow7_col0\" class=\"data row7 col0\" >0.00687</td>\n",
       "            </tr>\n",
       "            <tr>\n",
       "                        <th id=\"T_e61b3b8c_05ef_11ea_a6fb_107b449f15fclevel0_row8\" class=\"row_heading level0 row8\" >образование_планета</th>\n",
       "                        <td id=\"T_e61b3b8c_05ef_11ea_a6fb_107b449f15fcrow8_col0\" class=\"data row8 col0\" >0.00673</td>\n",
       "            </tr>\n",
       "            <tr>\n",
       "                        <th id=\"T_e61b3b8c_05ef_11ea_a6fb_107b449f15fclevel0_row9\" class=\"row_heading level0 row9\" >социология_повседневность</th>\n",
       "                        <td id=\"T_e61b3b8c_05ef_11ea_a6fb_107b449f15fcrow9_col0\" class=\"data row9 col0\" >0.00623</td>\n",
       "            </tr>\n",
       "    </tbody></table><style  type=\"text/css\" >\n",
       "</style><table id=\"T_e61b3b8d_05ef_11ea_a6fb_107b449f15fc\" style='display:inline'><thead>    <tr>        <th class=\"blank level0\" ></th>        <th class=\"col_heading level0 col0\" >topic_10 @3gramm</th>    </tr></thead><tbody>\n",
       "                <tr>\n",
       "                        <th id=\"T_e61b3b8d_05ef_11ea_a6fb_107b449f15fclevel0_row0\" class=\"row_heading level0 row0\" >великий_французский_революция</th>\n",
       "                        <td id=\"T_e61b3b8d_05ef_11ea_a6fb_107b449f15fcrow0_col0\" class=\"data row0 col0\" >0.17227</td>\n",
       "            </tr>\n",
       "            <tr>\n",
       "                        <th id=\"T_e61b3b8d_05ef_11ea_a6fb_107b449f15fclevel0_row1\" class=\"row_heading level0 row1\" >планета_солнечный_система</th>\n",
       "                        <td id=\"T_e61b3b8d_05ef_11ea_a6fb_107b449f15fcrow1_col0\" class=\"data row1 col0\" >0.14242</td>\n",
       "            </tr>\n",
       "            <tr>\n",
       "                        <th id=\"T_e61b3b8d_05ef_11ea_a6fb_107b449f15fclevel0_row2\" class=\"row_heading level0 row2\" >образование_планетный_система</th>\n",
       "                        <td id=\"T_e61b3b8d_05ef_11ea_a6fb_107b449f15fcrow2_col0\" class=\"data row2 col0\" >0.11246</td>\n",
       "            </tr>\n",
       "            <tr>\n",
       "                        <th id=\"T_e61b3b8d_05ef_11ea_a6fb_107b449f15fclevel0_row3\" class=\"row_heading level0 row3\" >работа_иммунный_система</th>\n",
       "                        <td id=\"T_e61b3b8d_05ef_11ea_a6fb_107b449f15fcrow3_col0\" class=\"data row3 col0\" >0.11242</td>\n",
       "            </tr>\n",
       "            <tr>\n",
       "                        <th id=\"T_e61b3b8d_05ef_11ea_a6fb_107b449f15fclevel0_row4\" class=\"row_heading level0 row4\" >предел_солнечный_система</th>\n",
       "                        <td id=\"T_e61b3b8d_05ef_11ea_a6fb_107b449f15fcrow4_col0\" class=\"data row4 col0\" >0.09739</td>\n",
       "            </tr>\n",
       "            <tr>\n",
       "                        <th id=\"T_e61b3b8d_05ef_11ea_a6fb_107b449f15fclevel0_row5\" class=\"row_heading level0 row5\" >европейский_космический_агентство</th>\n",
       "                        <td id=\"T_e61b3b8d_05ef_11ea_a6fb_107b449f15fcrow5_col0\" class=\"data row5 col0\" >0.06455</td>\n",
       "            </tr>\n",
       "            <tr>\n",
       "                        <th id=\"T_e61b3b8d_05ef_11ea_a6fb_107b449f15fclevel0_row6\" class=\"row_heading level0 row6\" >планета_тип_земля</th>\n",
       "                        <td id=\"T_e61b3b8d_05ef_11ea_a6fb_107b449f15fcrow6_col0\" class=\"data row6 col0\" >0.05244</td>\n",
       "            </tr>\n",
       "            <tr>\n",
       "                        <th id=\"T_e61b3b8d_05ef_11ea_a6fb_107b449f15fclevel0_row7\" class=\"row_heading level0 row7\" >отмена_крепостной_право</th>\n",
       "                        <td id=\"T_e61b3b8d_05ef_11ea_a6fb_107b449f15fcrow7_col0\" class=\"data row7 col0\" >0.05222</td>\n",
       "            </tr>\n",
       "            <tr>\n",
       "                        <th id=\"T_e61b3b8d_05ef_11ea_a6fb_107b449f15fclevel0_row8\" class=\"row_heading level0 row8\" >кретьен_де_труа</th>\n",
       "                        <td id=\"T_e61b3b8d_05ef_11ea_a6fb_107b449f15fcrow8_col0\" class=\"data row8 col0\" >0.04479</td>\n",
       "            </tr>\n",
       "            <tr>\n",
       "                        <th id=\"T_e61b3b8d_05ef_11ea_a6fb_107b449f15fclevel0_row9\" class=\"row_heading level0 row9\" >организация_повседневный_опыт</th>\n",
       "                        <td id=\"T_e61b3b8d_05ef_11ea_a6fb_107b449f15fcrow9_col0\" class=\"data row9 col0\" >0.03744</td>\n",
       "            </tr>\n",
       "    </tbody></table><style  type=\"text/css\" >\n",
       "</style><table id=\"T_e61b3b8e_05ef_11ea_a6fb_107b449f15fc\" style='display:inline'><thead>    <tr>        <th class=\"blank level0\" ></th>        <th class=\"col_heading level0 col0\" >topic_10 @post_tag</th>    </tr></thead><tbody>\n",
       "                <tr>\n",
       "                        <th id=\"T_e61b3b8e_05ef_11ea_a6fb_107b449f15fclevel0_row0\" class=\"row_heading level0 row0\" >земля</th>\n",
       "                        <td id=\"T_e61b3b8e_05ef_11ea_a6fb_107b449f15fcrow0_col0\" class=\"data row0 col0\" >0.17699</td>\n",
       "            </tr>\n",
       "            <tr>\n",
       "                        <th id=\"T_e61b3b8e_05ef_11ea_a6fb_107b449f15fclevel0_row1\" class=\"row_heading level0 row1\" >солнечная_система</th>\n",
       "                        <td id=\"T_e61b3b8e_05ef_11ea_a6fb_107b449f15fcrow1_col0\" class=\"data row1 col0\" >0.08973</td>\n",
       "            </tr>\n",
       "            <tr>\n",
       "                        <th id=\"T_e61b3b8e_05ef_11ea_a6fb_107b449f15fclevel0_row2\" class=\"row_heading level0 row2\" >геология</th>\n",
       "                        <td id=\"T_e61b3b8e_05ef_11ea_a6fb_107b449f15fcrow2_col0\" class=\"data row2 col0\" >0.05523</td>\n",
       "            </tr>\n",
       "            <tr>\n",
       "                        <th id=\"T_e61b3b8e_05ef_11ea_a6fb_107b449f15fclevel0_row3\" class=\"row_heading level0 row3\" >планета</th>\n",
       "                        <td id=\"T_e61b3b8e_05ef_11ea_a6fb_107b449f15fcrow3_col0\" class=\"data row3 col0\" >0.05301</td>\n",
       "            </tr>\n",
       "            <tr>\n",
       "                        <th id=\"T_e61b3b8e_05ef_11ea_a6fb_107b449f15fclevel0_row4\" class=\"row_heading level0 row4\" >марс</th>\n",
       "                        <td id=\"T_e61b3b8e_05ef_11ea_a6fb_107b449f15fcrow4_col0\" class=\"data row4 col0\" >0.04323</td>\n",
       "            </tr>\n",
       "            <tr>\n",
       "                        <th id=\"T_e61b3b8e_05ef_11ea_a6fb_107b449f15fclevel0_row5\" class=\"row_heading level0 row5\" >теория_фреймов</th>\n",
       "                        <td id=\"T_e61b3b8e_05ef_11ea_a6fb_107b449f15fcrow5_col0\" class=\"data row5 col0\" >0.04048</td>\n",
       "            </tr>\n",
       "            <tr>\n",
       "                        <th id=\"T_e61b3b8e_05ef_11ea_a6fb_107b449f15fclevel0_row6\" class=\"row_heading level0 row6\" >экзопланета</th>\n",
       "                        <td id=\"T_e61b3b8e_05ef_11ea_a6fb_107b449f15fcrow6_col0\" class=\"data row6 col0\" >0.0337</td>\n",
       "            </tr>\n",
       "            <tr>\n",
       "                        <th id=\"T_e61b3b8e_05ef_11ea_a6fb_107b449f15fclevel0_row7\" class=\"row_heading level0 row7\" >астрономия</th>\n",
       "                        <td id=\"T_e61b3b8e_05ef_11ea_a6fb_107b449f15fcrow7_col0\" class=\"data row7 col0\" >0.02869</td>\n",
       "            </tr>\n",
       "            <tr>\n",
       "                        <th id=\"T_e61b3b8e_05ef_11ea_a6fb_107b449f15fclevel0_row8\" class=\"row_heading level0 row8\" >метеорит</th>\n",
       "                        <td id=\"T_e61b3b8e_05ef_11ea_a6fb_107b449f15fcrow8_col0\" class=\"data row8 col0\" >0.02695</td>\n",
       "            </tr>\n",
       "            <tr>\n",
       "                        <th id=\"T_e61b3b8e_05ef_11ea_a6fb_107b449f15fclevel0_row9\" class=\"row_heading level0 row9\" >вулканизм</th>\n",
       "                        <td id=\"T_e61b3b8e_05ef_11ea_a6fb_107b449f15fcrow9_col0\" class=\"data row9 col0\" >0.02688</td>\n",
       "            </tr>\n",
       "    </tbody></table><style  type=\"text/css\" >\n",
       "</style><table id=\"T_e61b3b8f_05ef_11ea_a6fb_107b449f15fc\" style='display:inline'><thead>    <tr>        <th class=\"blank level0\" ></th>        <th class=\"col_heading level0 col0\" >topic_10 @word</th>    </tr></thead><tbody>\n",
       "                <tr>\n",
       "                        <th id=\"T_e61b3b8f_05ef_11ea_a6fb_107b449f15fclevel0_row0\" class=\"row_heading level0 row0\" >земля</th>\n",
       "                        <td id=\"T_e61b3b8f_05ef_11ea_a6fb_107b449f15fcrow0_col0\" class=\"data row0 col0\" >0.01125</td>\n",
       "            </tr>\n",
       "            <tr>\n",
       "                        <th id=\"T_e61b3b8f_05ef_11ea_a6fb_107b449f15fclevel0_row1\" class=\"row_heading level0 row1\" >планета</th>\n",
       "                        <td id=\"T_e61b3b8f_05ef_11ea_a6fb_107b449f15fcrow1_col0\" class=\"data row1 col0\" >0.00993</td>\n",
       "            </tr>\n",
       "            <tr>\n",
       "                        <th id=\"T_e61b3b8f_05ef_11ea_a6fb_107b449f15fclevel0_row2\" class=\"row_heading level0 row2\" >планет</th>\n",
       "                        <td id=\"T_e61b3b8f_05ef_11ea_a6fb_107b449f15fcrow2_col0\" class=\"data row2 col0\" >0.00545</td>\n",
       "            </tr>\n",
       "            <tr>\n",
       "                        <th id=\"T_e61b3b8f_05ef_11ea_a6fb_107b449f15fclevel0_row3\" class=\"row_heading level0 row3\" >марс</th>\n",
       "                        <td id=\"T_e61b3b8f_05ef_11ea_a6fb_107b449f15fcrow3_col0\" class=\"data row3 col0\" >0.00532</td>\n",
       "            </tr>\n",
       "            <tr>\n",
       "                        <th id=\"T_e61b3b8f_05ef_11ea_a6fb_107b449f15fclevel0_row4\" class=\"row_heading level0 row4\" >вулкан</th>\n",
       "                        <td id=\"T_e61b3b8f_05ef_11ea_a6fb_107b449f15fcrow4_col0\" class=\"data row4 col0\" >0.00423</td>\n",
       "            </tr>\n",
       "            <tr>\n",
       "                        <th id=\"T_e61b3b8f_05ef_11ea_a6fb_107b449f15fclevel0_row5\" class=\"row_heading level0 row5\" >метр</th>\n",
       "                        <td id=\"T_e61b3b8f_05ef_11ea_a6fb_107b449f15fcrow5_col0\" class=\"data row5 col0\" >0.00393</td>\n",
       "            </tr>\n",
       "            <tr>\n",
       "                        <th id=\"T_e61b3b8f_05ef_11ea_a6fb_107b449f15fclevel0_row6\" class=\"row_heading level0 row6\" >жизнь</th>\n",
       "                        <td id=\"T_e61b3b8f_05ef_11ea_a6fb_107b449f15fcrow6_col0\" class=\"data row6 col0\" >0.00385</td>\n",
       "            </tr>\n",
       "            <tr>\n",
       "                        <th id=\"T_e61b3b8f_05ef_11ea_a6fb_107b449f15fclevel0_row7\" class=\"row_heading level0 row7\" >событие</th>\n",
       "                        <td id=\"T_e61b3b8f_05ef_11ea_a6fb_107b449f15fcrow7_col0\" class=\"data row7 col0\" >0.00378</td>\n",
       "            </tr>\n",
       "            <tr>\n",
       "                        <th id=\"T_e61b3b8f_05ef_11ea_a6fb_107b449f15fclevel0_row8\" class=\"row_heading level0 row8\" >caption</th>\n",
       "                        <td id=\"T_e61b3b8f_05ef_11ea_a6fb_107b449f15fcrow8_col0\" class=\"data row8 col0\" >0.00377</td>\n",
       "            </tr>\n",
       "            <tr>\n",
       "                        <th id=\"T_e61b3b8f_05ef_11ea_a6fb_107b449f15fclevel0_row9\" class=\"row_heading level0 row9\" >метеорит</th>\n",
       "                        <td id=\"T_e61b3b8f_05ef_11ea_a6fb_107b449f15fcrow9_col0\" class=\"data row9 col0\" >0.0034</td>\n",
       "            </tr>\n",
       "    </tbody></table>"
      ]
     },
     "metadata": {},
     "output_type": "display_data"
    },
    {
     "data": {
      "text/html": [
       "<b> есть ли жизнь на других планетах? </b><br /> астроном владимир сурдин о возможном расселении людей на луне, искусственных городах и внеземных цивилизациях"
      ]
     },
     "metadata": {},
     "output_type": "display_data"
    },
    {
     "data": {
      "text/html": [
       "<b> faqприрода вулканов </b><br /> физик олег мельников о самых крупных извержениях в истории земли, доисторических потоках пепла от вулканов и видах проявлений вулканизма"
      ]
     },
     "metadata": {},
     "output_type": "display_data"
    },
    {
     "data": {
      "text/html": [
       "<b> социальные исследования иммунологии </b><br /> социолог денис сивков о различении между своим и чужим, исследованиях донны харауэй и моделях работы иммунной системы"
      ]
     },
     "metadata": {},
     "output_type": "display_data"
    },
    {
     "data": {
      "text/html": [
       "<b> faqобразование планетных систем </b><br /> 7 фактов о формировании скоплений звезд и различных незвёздообразных астрономических объектов"
      ]
     },
     "metadata": {},
     "output_type": "display_data"
    },
    {
     "data": {
      "text/html": [
       "<b> главыгорячее дыхание земли </b><br /> отрывок из книги «земля. метеориты, вулканы, землетрясения» геолога николая короновского о внутреннем строении земли и наиболее опасных геологических явлениях"
      ]
     },
     "metadata": {},
     "output_type": "display_data"
    },
    {
     "data": {
      "text/html": [
       "<b> формирование планет и протопланетные диски </b><br /> астрофизик сергей попов об образовании планетных систем, снеговой линии и облаке оорта"
      ]
     },
     "metadata": {},
     "output_type": "display_data"
    },
    {
     "data": {
      "text/html": [
       "<b> образование планетных систем </b><br /> астроном дмитрий вибе о каменных планетах и планетах-гигантах, многообразии планетных систем и горячих юпитерах"
      ]
     },
     "metadata": {},
     "output_type": "display_data"
    },
    {
     "data": {
      "text/html": [
       "<b> faqреспубликанизм и свобода </b><br /> 6 фактов о кабинетной попытке придумать новую идеологию в рамках аналитической философии политики"
      ]
     },
     "metadata": {},
     "output_type": "display_data"
    },
    {
     "data": {
      "text/html": [
       "<b> удивительный марс </b><br /> астроном владимир сурдин о \"зоне жизни\", магнитном поле марса и марсоходе curiosity"
      ]
     },
     "metadata": {},
     "output_type": "display_data"
    },
    {
     "data": {
      "text/html": [
       "<b> faqидеи декабристов </b><br /> 7 фактов о взглядах декабристов на переустройство страны"
      ]
     },
     "metadata": {},
     "output_type": "display_data"
    },
    {
     "data": {
      "text/html": [
       "<style  type=\"text/css\" >\n",
       "</style><table id=\"T_e61b3b90_05ef_11ea_a6fb_107b449f15fc\" style='display:inline'><thead>    <tr>        <th class=\"blank level0\" ></th>        <th class=\"col_heading level0 col0\" >topic_11 @2gramm</th>    </tr></thead><tbody>\n",
       "                <tr>\n",
       "                        <th id=\"T_e61b3b90_05ef_11ea_a6fb_107b449f15fclevel0_row0\" class=\"row_heading level0 row0\" >массовый_культура</th>\n",
       "                        <td id=\"T_e61b3b90_05ef_11ea_a6fb_107b449f15fcrow0_col0\" class=\"data row0 col0\" >0.02766</td>\n",
       "            </tr>\n",
       "            <tr>\n",
       "                        <th id=\"T_e61b3b90_05ef_11ea_a6fb_107b449f15fclevel0_row1\" class=\"row_heading level0 row1\" >культовый_кино</th>\n",
       "                        <td id=\"T_e61b3b90_05ef_11ea_a6fb_107b449f15fcrow1_col0\" class=\"data row1 col0\" >0.01128</td>\n",
       "            </tr>\n",
       "            <tr>\n",
       "                        <th id=\"T_e61b3b90_05ef_11ea_a6fb_107b449f15fclevel0_row2\" class=\"row_heading level0 row2\" >cinema_studies</th>\n",
       "                        <td id=\"T_e61b3b90_05ef_11ea_a6fb_107b449f15fcrow2_col0\" class=\"data row2 col0\" >0.01048</td>\n",
       "            </tr>\n",
       "            <tr>\n",
       "                        <th id=\"T_e61b3b90_05ef_11ea_a6fb_107b449f15fclevel0_row3\" class=\"row_heading level0 row3\" >общество_потребление</th>\n",
       "                        <td id=\"T_e61b3b90_05ef_11ea_a6fb_107b449f15fcrow3_col0\" class=\"data row3 col0\" >0.00903</td>\n",
       "            </tr>\n",
       "            <tr>\n",
       "                        <th id=\"T_e61b3b90_05ef_11ea_a6fb_107b449f15fclevel0_row4\" class=\"row_heading level0 row4\" >гуманитарный_наука</th>\n",
       "                        <td id=\"T_e61b3b90_05ef_11ea_a6fb_107b449f15fcrow4_col0\" class=\"data row4 col0\" >0.00793</td>\n",
       "            </tr>\n",
       "            <tr>\n",
       "                        <th id=\"T_e61b3b90_05ef_11ea_a6fb_107b449f15fclevel0_row5\" class=\"row_heading level0 row5\" >французский_революция</th>\n",
       "                        <td id=\"T_e61b3b90_05ef_11ea_a6fb_107b449f15fcrow5_col0\" class=\"data row5 col0\" >0.00688</td>\n",
       "            </tr>\n",
       "            <tr>\n",
       "                        <th id=\"T_e61b3b90_05ef_11ea_a6fb_107b449f15fclevel0_row6\" class=\"row_heading level0 row6\" >молодёжный_субкультура</th>\n",
       "                        <td id=\"T_e61b3b90_05ef_11ea_a6fb_107b449f15fcrow6_col0\" class=\"data row6 col0\" >0.00643</td>\n",
       "            </tr>\n",
       "            <tr>\n",
       "                        <th id=\"T_e61b3b90_05ef_11ea_a6fb_107b449f15fclevel0_row7\" class=\"row_heading level0 row7\" >плохой_кино</th>\n",
       "                        <td id=\"T_e61b3b90_05ef_11ea_a6fb_107b449f15fcrow7_col0\" class=\"data row7 col0\" >0.00605</td>\n",
       "            </tr>\n",
       "            <tr>\n",
       "                        <th id=\"T_e61b3b90_05ef_11ea_a6fb_107b449f15fclevel0_row8\" class=\"row_heading level0 row8\" >речь_идти</th>\n",
       "                        <td id=\"T_e61b3b90_05ef_11ea_a6fb_107b449f15fcrow8_col0\" class=\"data row8 col0\" >0.0054</td>\n",
       "            </tr>\n",
       "            <tr>\n",
       "                        <th id=\"T_e61b3b90_05ef_11ea_a6fb_107b449f15fclevel0_row9\" class=\"row_heading level0 row9\" >хороший_вкус</th>\n",
       "                        <td id=\"T_e61b3b90_05ef_11ea_a6fb_107b449f15fcrow9_col0\" class=\"data row9 col0\" >0.00524</td>\n",
       "            </tr>\n",
       "    </tbody></table><style  type=\"text/css\" >\n",
       "</style><table id=\"T_e61b3b91_05ef_11ea_a6fb_107b449f15fc\" style='display:inline'><thead>    <tr>        <th class=\"blank level0\" ></th>        <th class=\"col_heading level0 col0\" >topic_11 @3gramm</th>    </tr></thead><tbody>\n",
       "                <tr>\n",
       "                        <th id=\"T_e61b3b91_05ef_11ea_a6fb_107b449f15fclevel0_row0\" class=\"row_heading level0 row0\" >середина_xx_век</th>\n",
       "                        <td id=\"T_e61b3b91_05ef_11ea_a6fb_107b449f15fcrow0_col0\" class=\"data row0 col0\" >0.33788</td>\n",
       "            </tr>\n",
       "            <tr>\n",
       "                        <th id=\"T_e61b3b91_05ef_11ea_a6fb_107b449f15fclevel0_row1\" class=\"row_heading level0 row1\" >середина_хх_век</th>\n",
       "                        <td id=\"T_e61b3b91_05ef_11ea_a6fb_107b449f15fcrow1_col0\" class=\"data row1 col0\" >0.12225</td>\n",
       "            </tr>\n",
       "            <tr>\n",
       "                        <th id=\"T_e61b3b91_05ef_11ea_a6fb_107b449f15fclevel0_row2\" class=\"row_heading level0 row2\" >происхождение_человеческий_раса</th>\n",
       "                        <td id=\"T_e61b3b91_05ef_11ea_a6fb_107b449f15fcrow2_col0\" class=\"data row2 col0\" >0.06408</td>\n",
       "            </tr>\n",
       "            <tr>\n",
       "                        <th id=\"T_e61b3b91_05ef_11ea_a6fb_107b449f15fclevel0_row3\" class=\"row_heading level0 row3\" >двойной_звёздный_система</th>\n",
       "                        <td id=\"T_e61b3b91_05ef_11ea_a6fb_107b449f15fcrow3_col0\" class=\"data row3 col0\" >0.06402</td>\n",
       "            </tr>\n",
       "            <tr>\n",
       "                        <th id=\"T_e61b3b91_05ef_11ea_a6fb_107b449f15fclevel0_row4\" class=\"row_heading level0 row4\" >середина_xvii_век</th>\n",
       "                        <td id=\"T_e61b3b91_05ef_11ea_a6fb_107b449f15fcrow4_col0\" class=\"data row4 col0\" >0.05211</td>\n",
       "            </tr>\n",
       "            <tr>\n",
       "                        <th id=\"T_e61b3b91_05ef_11ea_a6fb_107b449f15fclevel0_row5\" class=\"row_heading level0 row5\" >прямой_смысл_слово</th>\n",
       "                        <td id=\"T_e61b3b91_05ef_11ea_a6fb_107b449f15fcrow5_col0\" class=\"data row5 col0\" >0.05207</td>\n",
       "            </tr>\n",
       "            <tr>\n",
       "                        <th id=\"T_e61b3b91_05ef_11ea_a6fb_107b449f15fclevel0_row6\" class=\"row_heading level0 row6\" >курс_общий_лингвистика</th>\n",
       "                        <td id=\"T_e61b3b91_05ef_11ea_a6fb_107b449f15fcrow6_col0\" class=\"data row6 col0\" >0.04613</td>\n",
       "            </tr>\n",
       "            <tr>\n",
       "                        <th id=\"T_e61b3b91_05ef_11ea_a6fb_107b449f15fclevel0_row7\" class=\"row_heading level0 row7\" >являться_неотъемлемый_частью</th>\n",
       "                        <td id=\"T_e61b3b91_05ef_11ea_a6fb_107b449f15fcrow7_col0\" class=\"data row7 col0\" >0.04272</td>\n",
       "            </tr>\n",
       "            <tr>\n",
       "                        <th id=\"T_e61b3b91_05ef_11ea_a6fb_107b449f15fclevel0_row8\" class=\"row_heading level0 row8\" >крупный_город_россия</th>\n",
       "                        <td id=\"T_e61b3b91_05ef_11ea_a6fb_107b449f15fcrow8_col0\" class=\"data row8 col0\" >0.0406</td>\n",
       "            </tr>\n",
       "            <tr>\n",
       "                        <th id=\"T_e61b3b91_05ef_11ea_a6fb_107b449f15fclevel0_row9\" class=\"row_heading level0 row9\" >начало_viii_век</th>\n",
       "                        <td id=\"T_e61b3b91_05ef_11ea_a6fb_107b449f15fcrow9_col0\" class=\"data row9 col0\" >0.04047</td>\n",
       "            </tr>\n",
       "    </tbody></table><style  type=\"text/css\" >\n",
       "</style><table id=\"T_e61b3b92_05ef_11ea_a6fb_107b449f15fc\" style='display:inline'><thead>    <tr>        <th class=\"blank level0\" ></th>        <th class=\"col_heading level0 col0\" >topic_11 @post_tag</th>    </tr></thead><tbody>\n",
       "                <tr>\n",
       "                        <th id=\"T_e61b3b92_05ef_11ea_a6fb_107b449f15fclevel0_row0\" class=\"row_heading level0 row0\" >массовая_культура</th>\n",
       "                        <td id=\"T_e61b3b92_05ef_11ea_a6fb_107b449f15fcrow0_col0\" class=\"data row0 col0\" >0.14475</td>\n",
       "            </tr>\n",
       "            <tr>\n",
       "                        <th id=\"T_e61b3b92_05ef_11ea_a6fb_107b449f15fclevel0_row1\" class=\"row_heading level0 row1\" >культурология</th>\n",
       "                        <td id=\"T_e61b3b92_05ef_11ea_a6fb_107b449f15fcrow1_col0\" class=\"data row1 col0\" >0.12139</td>\n",
       "            </tr>\n",
       "            <tr>\n",
       "                        <th id=\"T_e61b3b92_05ef_11ea_a6fb_107b449f15fclevel0_row2\" class=\"row_heading level0 row2\" >культура</th>\n",
       "                        <td id=\"T_e61b3b92_05ef_11ea_a6fb_107b449f15fcrow2_col0\" class=\"data row2 col0\" >0.10253</td>\n",
       "            </tr>\n",
       "            <tr>\n",
       "                        <th id=\"T_e61b3b92_05ef_11ea_a6fb_107b449f15fclevel0_row3\" class=\"row_heading level0 row3\" >кино</th>\n",
       "                        <td id=\"T_e61b3b92_05ef_11ea_a6fb_107b449f15fcrow3_col0\" class=\"data row3 col0\" >0.08813</td>\n",
       "            </tr>\n",
       "            <tr>\n",
       "                        <th id=\"T_e61b3b92_05ef_11ea_a6fb_107b449f15fclevel0_row4\" class=\"row_heading level0 row4\" >гендер</th>\n",
       "                        <td id=\"T_e61b3b92_05ef_11ea_a6fb_107b449f15fcrow4_col0\" class=\"data row4 col0\" >0.07048</td>\n",
       "            </tr>\n",
       "            <tr>\n",
       "                        <th id=\"T_e61b3b92_05ef_11ea_a6fb_107b449f15fclevel0_row5\" class=\"row_heading level0 row5\" >кинематограф</th>\n",
       "                        <td id=\"T_e61b3b92_05ef_11ea_a6fb_107b449f15fcrow5_col0\" class=\"data row5 col0\" >0.06926</td>\n",
       "            </tr>\n",
       "            <tr>\n",
       "                        <th id=\"T_e61b3b92_05ef_11ea_a6fb_107b449f15fclevel0_row6\" class=\"row_heading level0 row6\" >франция</th>\n",
       "                        <td id=\"T_e61b3b92_05ef_11ea_a6fb_107b449f15fcrow6_col0\" class=\"data row6 col0\" >0.05167</td>\n",
       "            </tr>\n",
       "            <tr>\n",
       "                        <th id=\"T_e61b3b92_05ef_11ea_a6fb_107b449f15fclevel0_row7\" class=\"row_heading level0 row7\" >расоведение</th>\n",
       "                        <td id=\"T_e61b3b92_05ef_11ea_a6fb_107b449f15fcrow7_col0\" class=\"data row7 col0\" >0.03351</td>\n",
       "            </tr>\n",
       "            <tr>\n",
       "                        <th id=\"T_e61b3b92_05ef_11ea_a6fb_107b449f15fclevel0_row8\" class=\"row_heading level0 row8\" >феминизм</th>\n",
       "                        <td id=\"T_e61b3b92_05ef_11ea_a6fb_107b449f15fcrow8_col0\" class=\"data row8 col0\" >0.02042</td>\n",
       "            </tr>\n",
       "            <tr>\n",
       "                        <th id=\"T_e61b3b92_05ef_11ea_a6fb_107b449f15fclevel0_row9\" class=\"row_heading level0 row9\" >французская_революция_xviii_века</th>\n",
       "                        <td id=\"T_e61b3b92_05ef_11ea_a6fb_107b449f15fcrow9_col0\" class=\"data row9 col0\" >0.0196</td>\n",
       "            </tr>\n",
       "    </tbody></table><style  type=\"text/css\" >\n",
       "</style><table id=\"T_e61b3b93_05ef_11ea_a6fb_107b449f15fc\" style='display:inline'><thead>    <tr>        <th class=\"blank level0\" ></th>        <th class=\"col_heading level0 col0\" >topic_11 @word</th>    </tr></thead><tbody>\n",
       "                <tr>\n",
       "                        <th id=\"T_e61b3b93_05ef_11ea_a6fb_107b449f15fclevel0_row0\" class=\"row_heading level0 row0\" >фильм</th>\n",
       "                        <td id=\"T_e61b3b93_05ef_11ea_a6fb_107b449f15fcrow0_col0\" class=\"data row0 col0\" >0.01229</td>\n",
       "            </tr>\n",
       "            <tr>\n",
       "                        <th id=\"T_e61b3b93_05ef_11ea_a6fb_107b449f15fclevel0_row1\" class=\"row_heading level0 row1\" >культура</th>\n",
       "                        <td id=\"T_e61b3b93_05ef_11ea_a6fb_107b449f15fcrow1_col0\" class=\"data row1 col0\" >0.00642</td>\n",
       "            </tr>\n",
       "            <tr>\n",
       "                        <th id=\"T_e61b3b93_05ef_11ea_a6fb_107b449f15fclevel0_row2\" class=\"row_heading level0 row2\" >женщина</th>\n",
       "                        <td id=\"T_e61b3b93_05ef_11ea_a6fb_107b449f15fcrow2_col0\" class=\"data row2 col0\" >0.00592</td>\n",
       "            </tr>\n",
       "            <tr>\n",
       "                        <th id=\"T_e61b3b93_05ef_11ea_a6fb_107b449f15fclevel0_row3\" class=\"row_heading level0 row3\" >книга</th>\n",
       "                        <td id=\"T_e61b3b93_05ef_11ea_a6fb_107b449f15fcrow3_col0\" class=\"data row3 col0\" >0.00578</td>\n",
       "            </tr>\n",
       "            <tr>\n",
       "                        <th id=\"T_e61b3b93_05ef_11ea_a6fb_107b449f15fclevel0_row4\" class=\"row_heading level0 row4\" >кино</th>\n",
       "                        <td id=\"T_e61b3b93_05ef_11ea_a6fb_107b449f15fcrow4_col0\" class=\"data row4 col0\" >0.00527</td>\n",
       "            </tr>\n",
       "            <tr>\n",
       "                        <th id=\"T_e61b3b93_05ef_11ea_a6fb_107b449f15fclevel0_row5\" class=\"row_heading level0 row5\" >говорить</th>\n",
       "                        <td id=\"T_e61b3b93_05ef_11ea_a6fb_107b449f15fcrow5_col0\" class=\"data row5 col0\" >0.00366</td>\n",
       "            </tr>\n",
       "            <tr>\n",
       "                        <th id=\"T_e61b3b93_05ef_11ea_a6fb_107b449f15fclevel0_row6\" class=\"row_heading level0 row6\" >мужчина</th>\n",
       "                        <td id=\"T_e61b3b93_05ef_11ea_a6fb_107b449f15fcrow6_col0\" class=\"data row6 col0\" >0.00359</td>\n",
       "            </tr>\n",
       "            <tr>\n",
       "                        <th id=\"T_e61b3b93_05ef_11ea_a6fb_107b449f15fclevel0_row7\" class=\"row_heading level0 row7\" >раса</th>\n",
       "                        <td id=\"T_e61b3b93_05ef_11ea_a6fb_107b449f15fcrow7_col0\" class=\"data row7 col0\" >0.00346</td>\n",
       "            </tr>\n",
       "            <tr>\n",
       "                        <th id=\"T_e61b3b93_05ef_11ea_a6fb_107b449f15fclevel0_row8\" class=\"row_heading level0 row8\" >смысл</th>\n",
       "                        <td id=\"T_e61b3b93_05ef_11ea_a6fb_107b449f15fcrow8_col0\" class=\"data row8 col0\" >0.00322</td>\n",
       "            </tr>\n",
       "            <tr>\n",
       "                        <th id=\"T_e61b3b93_05ef_11ea_a6fb_107b449f15fclevel0_row9\" class=\"row_heading level0 row9\" >стать</th>\n",
       "                        <td id=\"T_e61b3b93_05ef_11ea_a6fb_107b449f15fcrow9_col0\" class=\"data row9 col0\" >0.00317</td>\n",
       "            </tr>\n",
       "    </tbody></table>"
      ]
     },
     "metadata": {},
     "output_type": "display_data"
    },
    {
     "data": {
      "text/html": [
       "<b> штурмуя публичное пространствослова о гетеротопии плохого вкуса </b><br /> философ александр павлов о теории кэмпа сьюзен сонтаг, русской традиции кинокритики и утопии хорошего вкуса"
      ]
     },
     "metadata": {},
     "output_type": "display_data"
    },
    {
     "data": {
      "text/html": [
       "<b> гендерные исследования в cinema studies </b><br /> философ александр павлов о методах психоанализа в cinema studies, образе «последней девушки» и анализе кинематографа с позиций феминизма"
      ]
     },
     "metadata": {},
     "output_type": "display_data"
    },
    {
     "data": {
      "text/html": [
       "<b> главы # скрытые механизмы идеологии в \"бойцовском клубе\" </b><br /> отрывок из книги «постыдное удовольствиефилософские и социально-политические интерпретации массового кинематографа» философа александра павлова"
      ]
     },
     "metadata": {},
     "output_type": "display_data"
    },
    {
     "data": {
      "text/html": [
       "<b> cinema studies как дисциплина </b><br /> философ и культуролог александр павлов об исследованиях кинематографа на западе, главных теоретиках cinema studies и развитии этой дисциплины в россии"
      ]
     },
     "metadata": {},
     "output_type": "display_data"
    },
    {
     "data": {
      "text/html": [
       "<b> 5 книг о культовом кинематографе </b><br /> что читать о культовом кино, рекомендует доцент философского факультета ниу вшэ александр павлов"
      ]
     },
     "metadata": {},
     "output_type": "display_data"
    },
    {
     "data": {
      "text/html": [
       "<b> феномен happy end </b><br /> культуролог екатерина лапина-кратасюк о популярном кинематографе, фильмах жанра нуар и «кошмаре на улице вязов»"
      ]
     },
     "metadata": {},
     "output_type": "display_data"
    },
    {
     "data": {
      "text/html": [
       "<b> cinema studies </b><br /> 8 лекций философа и культуролога александра павлова о современных подходах к исследованию кинематографа"
      ]
     },
     "metadata": {},
     "output_type": "display_data"
    },
    {
     "data": {
      "text/html": [
       "<b> трансформации локальной культуры </b><br /> философ владимир миронов о глобальном коммуникационном пространстве, противостоянии высокой и массовой культуры и оппозиции «свой — чужой»"
      ]
     },
     "metadata": {},
     "output_type": "display_data"
    },
    {
     "data": {
      "text/html": [
       "<b> 5 книг об анализе фильма </b><br /> что читать об исследованиях кинематографа на примере анализа конкретных фильмов, рекомендует философ александр павлов"
      ]
     },
     "metadata": {},
     "output_type": "display_data"
    },
    {
     "data": {
      "text/html": [
       "<b> «нет больше высокой и низкой культуры, есть просто культура сегодня» </b><br /> интервью с философом и культурологом александром павловым о философии массовой культуры, славое жижеке и обществе потребления"
      ]
     },
     "metadata": {},
     "output_type": "display_data"
    },
    {
     "data": {
      "text/html": [
       "<style  type=\"text/css\" >\n",
       "</style><table id=\"T_e61b3b94_05ef_11ea_a6fb_107b449f15fc\" style='display:inline'><thead>    <tr>        <th class=\"blank level0\" ></th>        <th class=\"col_heading level0 col0\" >topic_12 @2gramm</th>    </tr></thead><tbody>\n",
       "                <tr>\n",
       "                        <th id=\"T_e61b3b94_05ef_11ea_a6fb_107b449f15fclevel0_row0\" class=\"row_heading level0 row0\" >христианский_восток</th>\n",
       "                        <td id=\"T_e61b3b94_05ef_11ea_a6fb_107b449f15fcrow0_col0\" class=\"data row0 col0\" >0.01191</td>\n",
       "            </tr>\n",
       "            <tr>\n",
       "                        <th id=\"T_e61b3b94_05ef_11ea_a6fb_107b449f15fclevel0_row1\" class=\"row_heading level0 row1\" >северный_кавказ</th>\n",
       "                        <td id=\"T_e61b3b94_05ef_11ea_a6fb_107b449f15fcrow1_col0\" class=\"data row1 col0\" >0.01078</td>\n",
       "            </tr>\n",
       "            <tr>\n",
       "                        <th id=\"T_e61b3b94_05ef_11ea_a6fb_107b449f15fclevel0_row2\" class=\"row_heading level0 row2\" >ближний_восток</th>\n",
       "                        <td id=\"T_e61b3b94_05ef_11ea_a6fb_107b449f15fcrow2_col0\" class=\"data row2 col0\" >0.01004</td>\n",
       "            </tr>\n",
       "            <tr>\n",
       "                        <th id=\"T_e61b3b94_05ef_11ea_a6fb_107b449f15fclevel0_row3\" class=\"row_heading level0 row3\" >национальный_государство</th>\n",
       "                        <td id=\"T_e61b3b94_05ef_11ea_a6fb_107b449f15fcrow3_col0\" class=\"data row3 col0\" >0.00959</td>\n",
       "            </tr>\n",
       "            <tr>\n",
       "                        <th id=\"T_e61b3b94_05ef_11ea_a6fb_107b449f15fclevel0_row4\" class=\"row_heading level0 row4\" >саудовский_аравия</th>\n",
       "                        <td id=\"T_e61b3b94_05ef_11ea_a6fb_107b449f15fcrow4_col0\" class=\"data row4 col0\" >0.00644</td>\n",
       "            </tr>\n",
       "            <tr>\n",
       "                        <th id=\"T_e61b3b94_05ef_11ea_a6fb_107b449f15fclevel0_row5\" class=\"row_heading level0 row5\" >головной_мозг</th>\n",
       "                        <td id=\"T_e61b3b94_05ef_11ea_a6fb_107b449f15fcrow5_col0\" class=\"data row5 col0\" >0.00639</td>\n",
       "            </tr>\n",
       "            <tr>\n",
       "                        <th id=\"T_e61b3b94_05ef_11ea_a6fb_107b449f15fclevel0_row6\" class=\"row_heading level0 row6\" >арабский_весна</th>\n",
       "                        <td id=\"T_e61b3b94_05ef_11ea_a6fb_107b449f15fcrow6_col0\" class=\"data row6 col0\" >0.00556</td>\n",
       "            </tr>\n",
       "            <tr>\n",
       "                        <th id=\"T_e61b3b94_05ef_11ea_a6fb_107b449f15fclevel0_row7\" class=\"row_heading level0 row7\" >vii_век</th>\n",
       "                        <td id=\"T_e61b3b94_05ef_11ea_a6fb_107b449f15fcrow7_col0\" class=\"data row7 col0\" >0.00554</td>\n",
       "            </tr>\n",
       "            <tr>\n",
       "                        <th id=\"T_e61b3b94_05ef_11ea_a6fb_107b449f15fclevel0_row8\" class=\"row_heading level0 row8\" >христианский_культура</th>\n",
       "                        <td id=\"T_e61b3b94_05ef_11ea_a6fb_107b449f15fcrow8_col0\" class=\"data row8 col0\" >0.00552</td>\n",
       "            </tr>\n",
       "            <tr>\n",
       "                        <th id=\"T_e61b3b94_05ef_11ea_a6fb_107b449f15fclevel0_row9\" class=\"row_heading level0 row9\" >арамейский_язык</th>\n",
       "                        <td id=\"T_e61b3b94_05ef_11ea_a6fb_107b449f15fcrow9_col0\" class=\"data row9 col0\" >0.00545</td>\n",
       "            </tr>\n",
       "    </tbody></table><style  type=\"text/css\" >\n",
       "</style><table id=\"T_e61b3b95_05ef_11ea_a6fb_107b449f15fc\" style='display:inline'><thead>    <tr>        <th class=\"blank level0\" ></th>        <th class=\"col_heading level0 col0\" >topic_12 @3gramm</th>    </tr></thead><tbody>\n",
       "                <tr>\n",
       "                        <th id=\"T_e61b3b95_05ef_11ea_a6fb_107b449f15fclevel0_row0\" class=\"row_heading level0 row0\" >кора_головной_мозг</th>\n",
       "                        <td id=\"T_e61b3b95_05ef_11ea_a6fb_107b449f15fcrow0_col0\" class=\"data row0 col0\" >0.27953</td>\n",
       "            </tr>\n",
       "            <tr>\n",
       "                        <th id=\"T_e61b3b95_05ef_11ea_a6fb_107b449f15fclevel0_row1\" class=\"row_heading level0 row1\" >начало_хх_век</th>\n",
       "                        <td id=\"T_e61b3b95_05ef_11ea_a6fb_107b449f15fcrow1_col0\" class=\"data row1 col0\" >0.24691</td>\n",
       "            </tr>\n",
       "            <tr>\n",
       "                        <th id=\"T_e61b3b95_05ef_11ea_a6fb_107b449f15fclevel0_row2\" class=\"row_heading level0 row2\" >высокий_психический_функция</th>\n",
       "                        <td id=\"T_e61b3b95_05ef_11ea_a6fb_107b449f15fcrow2_col0\" class=\"data row2 col0\" >0.07795</td>\n",
       "            </tr>\n",
       "            <tr>\n",
       "                        <th id=\"T_e61b3b95_05ef_11ea_a6fb_107b449f15fclevel0_row3\" class=\"row_heading level0 row3\" >выглядеть_следующий_образ</th>\n",
       "                        <td id=\"T_e61b3b95_05ef_11ea_a6fb_107b449f15fcrow3_col0\" class=\"data row3 col0\" >0.06928</td>\n",
       "            </tr>\n",
       "            <tr>\n",
       "                        <th id=\"T_e61b3b95_05ef_11ea_a6fb_107b449f15fclevel0_row4\" class=\"row_heading level0 row4\" >объяснять_общепринятый_заблуждение</th>\n",
       "                        <td id=\"T_e61b3b95_05ef_11ea_a6fb_107b449f15fcrow4_col0\" class=\"data row4 col0\" >0.05644</td>\n",
       "            </tr>\n",
       "            <tr>\n",
       "                        <th id=\"T_e61b3b95_05ef_11ea_a6fb_107b449f15fclevel0_row5\" class=\"row_heading level0 row5\" >длина_волна_свет</th>\n",
       "                        <td id=\"T_e61b3b95_05ef_11ea_a6fb_107b449f15fcrow5_col0\" class=\"data row5 col0\" >0.04532</td>\n",
       "            </tr>\n",
       "            <tr>\n",
       "                        <th id=\"T_e61b3b95_05ef_11ea_a6fb_107b449f15fclevel0_row6\" class=\"row_heading level0 row6\" >определённый_длина_волна</th>\n",
       "                        <td id=\"T_e61b3b95_05ef_11ea_a6fb_107b449f15fcrow6_col0\" class=\"data row6 col0\" >0.03877</td>\n",
       "            </tr>\n",
       "            <tr>\n",
       "                        <th id=\"T_e61b3b95_05ef_11ea_a6fb_107b449f15fclevel0_row7\" class=\"row_heading level0 row7\" >иной_устояться_представление</th>\n",
       "                        <td id=\"T_e61b3b95_05ef_11ea_a6fb_107b449f15fcrow7_col0\" class=\"data row7 col0\" >0.03239</td>\n",
       "            </tr>\n",
       "            <tr>\n",
       "                        <th id=\"T_e61b3b95_05ef_11ea_a6fb_107b449f15fclevel0_row8\" class=\"row_heading level0 row8\" >разный_область_мозг</th>\n",
       "                        <td id=\"T_e61b3b95_05ef_11ea_a6fb_107b449f15fcrow8_col0\" class=\"data row8 col0\" >0.03144</td>\n",
       "            </tr>\n",
       "            <tr>\n",
       "                        <th id=\"T_e61b3b95_05ef_11ea_a6fb_107b449f15fclevel0_row9\" class=\"row_heading level0 row9\" >усиливать_друг_друг</th>\n",
       "                        <td id=\"T_e61b3b95_05ef_11ea_a6fb_107b449f15fcrow9_col0\" class=\"data row9 col0\" >0.02231</td>\n",
       "            </tr>\n",
       "    </tbody></table><style  type=\"text/css\" >\n",
       "</style><table id=\"T_e61b3b96_05ef_11ea_a6fb_107b449f15fc\" style='display:inline'><thead>    <tr>        <th class=\"blank level0\" ></th>        <th class=\"col_heading level0 col0\" >topic_12 @post_tag</th>    </tr></thead><tbody>\n",
       "                <tr>\n",
       "                        <th id=\"T_e61b3b96_05ef_11ea_a6fb_107b449f15fclevel0_row0\" class=\"row_heading level0 row0\" >политология</th>\n",
       "                        <td id=\"T_e61b3b96_05ef_11ea_a6fb_107b449f15fcrow0_col0\" class=\"data row0 col0\" >0.10638</td>\n",
       "            </tr>\n",
       "            <tr>\n",
       "                        <th id=\"T_e61b3b96_05ef_11ea_a6fb_107b449f15fclevel0_row1\" class=\"row_heading level0 row1\" >востоковедение</th>\n",
       "                        <td id=\"T_e61b3b96_05ef_11ea_a6fb_107b449f15fcrow1_col0\" class=\"data row1 col0\" >0.07285</td>\n",
       "            </tr>\n",
       "            <tr>\n",
       "                        <th id=\"T_e61b3b96_05ef_11ea_a6fb_107b449f15fclevel0_row2\" class=\"row_heading level0 row2\" >идентичность</th>\n",
       "                        <td id=\"T_e61b3b96_05ef_11ea_a6fb_107b449f15fcrow2_col0\" class=\"data row2 col0\" >0.06703</td>\n",
       "            </tr>\n",
       "            <tr>\n",
       "                        <th id=\"T_e61b3b96_05ef_11ea_a6fb_107b449f15fclevel0_row3\" class=\"row_heading level0 row3\" >нация</th>\n",
       "                        <td id=\"T_e61b3b96_05ef_11ea_a6fb_107b449f15fcrow3_col0\" class=\"data row3 col0\" >0.06578</td>\n",
       "            </tr>\n",
       "            <tr>\n",
       "                        <th id=\"T_e61b3b96_05ef_11ea_a6fb_107b449f15fclevel0_row4\" class=\"row_heading level0 row4\" >ислам</th>\n",
       "                        <td id=\"T_e61b3b96_05ef_11ea_a6fb_107b449f15fcrow4_col0\" class=\"data row4 col0\" >0.06109</td>\n",
       "            </tr>\n",
       "            <tr>\n",
       "                        <th id=\"T_e61b3b96_05ef_11ea_a6fb_107b449f15fclevel0_row5\" class=\"row_heading level0 row5\" >политика</th>\n",
       "                        <td id=\"T_e61b3b96_05ef_11ea_a6fb_107b449f15fcrow5_col0\" class=\"data row5 col0\" >0.0512</td>\n",
       "            </tr>\n",
       "            <tr>\n",
       "                        <th id=\"T_e61b3b96_05ef_11ea_a6fb_107b449f15fclevel0_row6\" class=\"row_heading level0 row6\" >китай</th>\n",
       "                        <td id=\"T_e61b3b96_05ef_11ea_a6fb_107b449f15fcrow6_col0\" class=\"data row6 col0\" >0.04961</td>\n",
       "            </tr>\n",
       "            <tr>\n",
       "                        <th id=\"T_e61b3b96_05ef_11ea_a6fb_107b449f15fclevel0_row7\" class=\"row_heading level0 row7\" >национализм</th>\n",
       "                        <td id=\"T_e61b3b96_05ef_11ea_a6fb_107b449f15fcrow7_col0\" class=\"data row7 col0\" >0.04882</td>\n",
       "            </tr>\n",
       "            <tr>\n",
       "                        <th id=\"T_e61b3b96_05ef_11ea_a6fb_107b449f15fclevel0_row8\" class=\"row_heading level0 row8\" >религия</th>\n",
       "                        <td id=\"T_e61b3b96_05ef_11ea_a6fb_107b449f15fcrow8_col0\" class=\"data row8 col0\" >0.0453</td>\n",
       "            </tr>\n",
       "            <tr>\n",
       "                        <th id=\"T_e61b3b96_05ef_11ea_a6fb_107b449f15fclevel0_row9\" class=\"row_heading level0 row9\" >кавказ</th>\n",
       "                        <td id=\"T_e61b3b96_05ef_11ea_a6fb_107b449f15fcrow9_col0\" class=\"data row9 col0\" >0.03966</td>\n",
       "            </tr>\n",
       "    </tbody></table><style  type=\"text/css\" >\n",
       "</style><table id=\"T_e61b3b97_05ef_11ea_a6fb_107b449f15fc\" style='display:inline'><thead>    <tr>        <th class=\"blank level0\" ></th>        <th class=\"col_heading level0 col0\" >topic_12 @word</th>    </tr></thead><tbody>\n",
       "                <tr>\n",
       "                        <th id=\"T_e61b3b97_05ef_11ea_a6fb_107b449f15fclevel0_row0\" class=\"row_heading level0 row0\" >государство</th>\n",
       "                        <td id=\"T_e61b3b97_05ef_11ea_a6fb_107b449f15fcrow0_col0\" class=\"data row0 col0\" >0.00678</td>\n",
       "            </tr>\n",
       "            <tr>\n",
       "                        <th id=\"T_e61b3b97_05ef_11ea_a6fb_107b449f15fclevel0_row1\" class=\"row_heading level0 row1\" >культура</th>\n",
       "                        <td id=\"T_e61b3b97_05ef_11ea_a6fb_107b449f15fcrow1_col0\" class=\"data row1 col0\" >0.00388</td>\n",
       "            </tr>\n",
       "            <tr>\n",
       "                        <th id=\"T_e61b3b97_05ef_11ea_a6fb_107b449f15fclevel0_row2\" class=\"row_heading level0 row2\" >страна</th>\n",
       "                        <td id=\"T_e61b3b97_05ef_11ea_a6fb_107b449f15fcrow2_col0\" class=\"data row2 col0\" >0.00348</td>\n",
       "            </tr>\n",
       "            <tr>\n",
       "                        <th id=\"T_e61b3b97_05ef_11ea_a6fb_107b449f15fclevel0_row3\" class=\"row_heading level0 row3\" >пространство</th>\n",
       "                        <td id=\"T_e61b3b97_05ef_11ea_a6fb_107b449f15fcrow3_col0\" class=\"data row3 col0\" >0.00338</td>\n",
       "            </tr>\n",
       "            <tr>\n",
       "                        <th id=\"T_e61b3b97_05ef_11ea_a6fb_107b449f15fclevel0_row4\" class=\"row_heading level0 row4\" >называть</th>\n",
       "                        <td id=\"T_e61b3b97_05ef_11ea_a6fb_107b449f15fcrow4_col0\" class=\"data row4 col0\" >0.00326</td>\n",
       "            </tr>\n",
       "            <tr>\n",
       "                        <th id=\"T_e61b3b97_05ef_11ea_a6fb_107b449f15fclevel0_row5\" class=\"row_heading level0 row5\" >нация</th>\n",
       "                        <td id=\"T_e61b3b97_05ef_11ea_a6fb_107b449f15fcrow5_col0\" class=\"data row5 col0\" >0.00315</td>\n",
       "            </tr>\n",
       "            <tr>\n",
       "                        <th id=\"T_e61b3b97_05ef_11ea_a6fb_107b449f15fclevel0_row6\" class=\"row_heading level0 row6\" >являться</th>\n",
       "                        <td id=\"T_e61b3b97_05ef_11ea_a6fb_107b449f15fcrow6_col0\" class=\"data row6 col0\" >0.00313</td>\n",
       "            </tr>\n",
       "            <tr>\n",
       "                        <th id=\"T_e61b3b97_05ef_11ea_a6fb_107b449f15fclevel0_row7\" class=\"row_heading level0 row7\" >политический</th>\n",
       "                        <td id=\"T_e61b3b97_05ef_11ea_a6fb_107b449f15fcrow7_col0\" class=\"data row7 col0\" >0.00304</td>\n",
       "            </tr>\n",
       "            <tr>\n",
       "                        <th id=\"T_e61b3b97_05ef_11ea_a6fb_107b449f15fclevel0_row8\" class=\"row_heading level0 row8\" >сторона</th>\n",
       "                        <td id=\"T_e61b3b97_05ef_11ea_a6fb_107b449f15fcrow8_col0\" class=\"data row8 col0\" >0.00295</td>\n",
       "            </tr>\n",
       "            <tr>\n",
       "                        <th id=\"T_e61b3b97_05ef_11ea_a6fb_107b449f15fclevel0_row9\" class=\"row_heading level0 row9\" >политика</th>\n",
       "                        <td id=\"T_e61b3b97_05ef_11ea_a6fb_107b449f15fcrow9_col0\" class=\"data row9 col0\" >0.00292</td>\n",
       "            </tr>\n",
       "    </tbody></table>"
      ]
     },
     "metadata": {},
     "output_type": "display_data"
    },
    {
     "data": {
      "text/html": [
       "<b> главыновые войны и политика </b><br /> отрывок из книги «новые и старые войны» политолога мэри калдор о новом типе организованного насилия"
      ]
     },
     "metadata": {},
     "output_type": "display_data"
    },
    {
     "data": {
      "text/html": [
       "<b> культура арабов-христиан до ислама </b><br /> историк алексей муравьёв об арабских племенах сирии и месопотамии, доисламском христианстве в южной аравии и трудностях изучения этих культур"
      ]
     },
     "metadata": {},
     "output_type": "display_data"
    },
    {
     "data": {
      "text/html": [
       "<b> функция счета и технический прогресс </b><br /> психолог александр тхостов о высших психических функциях, объеме памяти и утрате навыков устного счета"
      ]
     },
     "metadata": {},
     "output_type": "display_data"
    },
    {
     "data": {
      "text/html": [
       "<b> китайская эротология и врачевание </b><br /> востоковед алексей маслов о китайских медитативных практиках, древнем трактате о сексологии и разделении на женское и мужское начало"
      ]
     },
     "metadata": {},
     "output_type": "display_data"
    },
    {
     "data": {
      "text/html": [
       "<b> faq«братья-мусульмане» </b><br /> 6 фактов об особенностях организации «братьев-мусульман», причинах их популярности и политических перспективах"
      ]
     },
     "metadata": {},
     "output_type": "display_data"
    },
    {
     "data": {
      "text/html": [
       "<b> главы # студенческие коммуны </b><br /> отрывок из книги «в кругу сверстников»  историка и специалиста по истории повседневности александра рожкова о буднях студенческих коммун в ссср 1920-х годов"
      ]
     },
     "metadata": {},
     "output_type": "display_data"
    },
    {
     "data": {
      "text/html": [
       "<b> христианская культура кавказской албании </b><br /> историк алексей муравьёв о народах кавказской албании, армянском влиянии на местную традицию христианства и удинском языке"
      ]
     },
     "metadata": {},
     "output_type": "display_data"
    },
    {
     "data": {
      "text/html": [
       "<b> 5 мифов об алкоголе </b><br /> эксперты постнауки развенчивают мифы о вреде и пользе спиртных напитков"
      ]
     },
     "metadata": {},
     "output_type": "display_data"
    },
    {
     "data": {
      "text/html": [
       "<b> главы # пространство. социальный продукт и потребительная стоимость </b><br /> отрывок из книги «state, space, world. selected essays» французского философа и социолога анри лефевра"
      ]
     },
     "metadata": {},
     "output_type": "display_data"
    },
    {
     "data": {
      "text/html": [
       "<b> главы # город и глобализация </b><br /> отрывок из книги \"город в теорииопыт осмысления пространства\" доктора философских наук елены трубиной"
      ]
     },
     "metadata": {},
     "output_type": "display_data"
    },
    {
     "data": {
      "text/html": [
       "<style  type=\"text/css\" >\n",
       "</style><table id=\"T_e61b3b98_05ef_11ea_a6fb_107b449f15fc\" style='display:inline'><thead>    <tr>        <th class=\"blank level0\" ></th>        <th class=\"col_heading level0 col0\" >topic_13 @2gramm</th>    </tr></thead><tbody>\n",
       "                <tr>\n",
       "                        <th id=\"T_e61b3b98_05ef_11ea_a6fb_107b449f15fclevel0_row0\" class=\"row_heading level0 row0\" >чёрный_дыра</th>\n",
       "                        <td id=\"T_e61b3b98_05ef_11ea_a6fb_107b449f15fcrow0_col0\" class=\"data row0 col0\" >0.07313</td>\n",
       "            </tr>\n",
       "            <tr>\n",
       "                        <th id=\"T_e61b3b98_05ef_11ea_a6fb_107b449f15fclevel0_row1\" class=\"row_heading level0 row1\" >нейтронный_звезда</th>\n",
       "                        <td id=\"T_e61b3b98_05ef_11ea_a6fb_107b449f15fcrow1_col0\" class=\"data row1 col0\" >0.0462</td>\n",
       "            </tr>\n",
       "            <tr>\n",
       "                        <th id=\"T_e61b3b98_05ef_11ea_a6fb_107b449f15fclevel0_row2\" class=\"row_heading level0 row2\" >белый_карлик</th>\n",
       "                        <td id=\"T_e61b3b98_05ef_11ea_a6fb_107b449f15fcrow2_col0\" class=\"data row2 col0\" >0.01015</td>\n",
       "            </tr>\n",
       "            <tr>\n",
       "                        <th id=\"T_e61b3b98_05ef_11ea_a6fb_107b449f15fclevel0_row3\" class=\"row_heading level0 row3\" >белых_карлик</th>\n",
       "                        <td id=\"T_e61b3b98_05ef_11ea_a6fb_107b449f15fcrow3_col0\" class=\"data row3 col0\" >0.01</td>\n",
       "            </tr>\n",
       "            <tr>\n",
       "                        <th id=\"T_e61b3b98_05ef_11ea_a6fb_107b449f15fclevel0_row4\" class=\"row_heading level0 row4\" >компактный_объект</th>\n",
       "                        <td id=\"T_e61b3b98_05ef_11ea_a6fb_107b449f15fcrow4_col0\" class=\"data row4 col0\" >0.00849</td>\n",
       "            </tr>\n",
       "            <tr>\n",
       "                        <th id=\"T_e61b3b98_05ef_11ea_a6fb_107b449f15fclevel0_row5\" class=\"row_heading level0 row5\" >звёздный_скопление</th>\n",
       "                        <td id=\"T_e61b3b98_05ef_11ea_a6fb_107b449f15fcrow5_col0\" class=\"data row5 col0\" >0.00805</td>\n",
       "            </tr>\n",
       "            <tr>\n",
       "                        <th id=\"T_e61b3b98_05ef_11ea_a6fb_107b449f15fclevel0_row6\" class=\"row_heading level0 row6\" >зона_обитаемость</th>\n",
       "                        <td id=\"T_e61b3b98_05ef_11ea_a6fb_107b449f15fcrow6_col0\" class=\"data row6 col0\" >0.00735</td>\n",
       "            </tr>\n",
       "            <tr>\n",
       "                        <th id=\"T_e61b3b98_05ef_11ea_a6fb_107b449f15fclevel0_row7\" class=\"row_heading level0 row7\" >спиральный_галактика</th>\n",
       "                        <td id=\"T_e61b3b98_05ef_11ea_a6fb_107b449f15fcrow7_col0\" class=\"data row7 col0\" >0.0069</td>\n",
       "            </tr>\n",
       "            <tr>\n",
       "                        <th id=\"T_e61b3b98_05ef_11ea_a6fb_107b449f15fclevel0_row8\" class=\"row_heading level0 row8\" >млечный_путь</th>\n",
       "                        <td id=\"T_e61b3b98_05ef_11ea_a6fb_107b449f15fcrow8_col0\" class=\"data row8 col0\" >0.00674</td>\n",
       "            </tr>\n",
       "            <tr>\n",
       "                        <th id=\"T_e61b3b98_05ef_11ea_a6fb_107b449f15fclevel0_row9\" class=\"row_heading level0 row9\" >химический_состав</th>\n",
       "                        <td id=\"T_e61b3b98_05ef_11ea_a6fb_107b449f15fcrow9_col0\" class=\"data row9 col0\" >0.00651</td>\n",
       "            </tr>\n",
       "    </tbody></table><style  type=\"text/css\" >\n",
       "</style><table id=\"T_e61b3b99_05ef_11ea_a6fb_107b449f15fc\" style='display:inline'><thead>    <tr>        <th class=\"blank level0\" ></th>        <th class=\"col_heading level0 col0\" >topic_13 @3gramm</th>    </tr></thead><tbody>\n",
       "                <tr>\n",
       "                        <th id=\"T_e61b3b99_05ef_11ea_a6fb_107b449f15fclevel0_row0\" class=\"row_heading level0 row0\" >сверхмассивный_чёрный_дыра</th>\n",
       "                        <td id=\"T_e61b3b99_05ef_11ea_a6fb_107b449f15fcrow0_col0\" class=\"data row0 col0\" >0.27769</td>\n",
       "            </tr>\n",
       "            <tr>\n",
       "                        <th id=\"T_e61b3b99_05ef_11ea_a6fb_107b449f15fclevel0_row1\" class=\"row_heading level0 row1\" >масса_чёрный_дыра</th>\n",
       "                        <td id=\"T_e61b3b99_05ef_11ea_a6fb_107b449f15fcrow1_col0\" class=\"data row1 col0\" >0.06939</td>\n",
       "            </tr>\n",
       "            <tr>\n",
       "                        <th id=\"T_e61b3b99_05ef_11ea_a6fb_107b449f15fclevel0_row2\" class=\"row_heading level0 row2\" >активный_ядро_галактика</th>\n",
       "                        <td id=\"T_e61b3b99_05ef_11ea_a6fb_107b449f15fcrow2_col0\" class=\"data row2 col0\" >0.04515</td>\n",
       "            </tr>\n",
       "            <tr>\n",
       "                        <th id=\"T_e61b3b99_05ef_11ea_a6fb_107b449f15fclevel0_row3\" class=\"row_heading level0 row3\" >чёрный_дыра_являться</th>\n",
       "                        <td id=\"T_e61b3b99_05ef_11ea_a6fb_107b449f15fcrow3_col0\" class=\"data row3 col0\" >0.04241</td>\n",
       "            </tr>\n",
       "            <tr>\n",
       "                        <th id=\"T_e61b3b99_05ef_11ea_a6fb_107b449f15fclevel0_row4\" class=\"row_heading level0 row4\" >массивный_чёрный_дыра</th>\n",
       "                        <td id=\"T_e61b3b99_05ef_11ea_a6fb_107b449f15fcrow4_col0\" class=\"data row4 col0\" >0.03855</td>\n",
       "            </tr>\n",
       "            <tr>\n",
       "                        <th id=\"T_e61b3b99_05ef_11ea_a6fb_107b449f15fclevel0_row5\" class=\"row_heading level0 row5\" >горизонт_чёрный_дыра</th>\n",
       "                        <td id=\"T_e61b3b99_05ef_11ea_a6fb_107b449f15fcrow5_col0\" class=\"data row5 col0\" >0.03854</td>\n",
       "            </tr>\n",
       "            <tr>\n",
       "                        <th id=\"T_e61b3b99_05ef_11ea_a6fb_107b449f15fclevel0_row6\" class=\"row_heading level0 row6\" >миллиард_солнечный_масса</th>\n",
       "                        <td id=\"T_e61b3b99_05ef_11ea_a6fb_107b449f15fcrow6_col0\" class=\"data row6 col0\" >0.0347</td>\n",
       "            </tr>\n",
       "            <tr>\n",
       "                        <th id=\"T_e61b3b99_05ef_11ea_a6fb_107b449f15fclevel0_row7\" class=\"row_heading level0 row7\" >миллион_масса_солнце</th>\n",
       "                        <td id=\"T_e61b3b99_05ef_11ea_a6fb_107b449f15fcrow7_col0\" class=\"data row7 col0\" >0.0347</td>\n",
       "            </tr>\n",
       "            <tr>\n",
       "                        <th id=\"T_e61b3b99_05ef_11ea_a6fb_107b449f15fclevel0_row8\" class=\"row_heading level0 row8\" >существование_чёрный_дыра</th>\n",
       "                        <td id=\"T_e61b3b99_05ef_11ea_a6fb_107b449f15fcrow8_col0\" class=\"data row8 col0\" >0.03468</td>\n",
       "            </tr>\n",
       "            <tr>\n",
       "                        <th id=\"T_e61b3b99_05ef_11ea_a6fb_107b449f15fclevel0_row9\" class=\"row_heading level0 row9\" >звезда_тип_солнце</th>\n",
       "                        <td id=\"T_e61b3b99_05ef_11ea_a6fb_107b449f15fcrow9_col0\" class=\"data row9 col0\" >0.03467</td>\n",
       "            </tr>\n",
       "    </tbody></table><style  type=\"text/css\" >\n",
       "</style><table id=\"T_e61b3b9a_05ef_11ea_a6fb_107b449f15fc\" style='display:inline'><thead>    <tr>        <th class=\"blank level0\" ></th>        <th class=\"col_heading level0 col0\" >topic_13 @post_tag</th>    </tr></thead><tbody>\n",
       "                <tr>\n",
       "                        <th id=\"T_e61b3b9a_05ef_11ea_a6fb_107b449f15fclevel0_row0\" class=\"row_heading level0 row0\" >астрономия</th>\n",
       "                        <td id=\"T_e61b3b9a_05ef_11ea_a6fb_107b449f15fcrow0_col0\" class=\"data row0 col0\" >0.17342</td>\n",
       "            </tr>\n",
       "            <tr>\n",
       "                        <th id=\"T_e61b3b9a_05ef_11ea_a6fb_107b449f15fclevel0_row1\" class=\"row_heading level0 row1\" >астрофизика</th>\n",
       "                        <td id=\"T_e61b3b9a_05ef_11ea_a6fb_107b449f15fcrow1_col0\" class=\"data row1 col0\" >0.14105</td>\n",
       "            </tr>\n",
       "            <tr>\n",
       "                        <th id=\"T_e61b3b9a_05ef_11ea_a6fb_107b449f15fclevel0_row2\" class=\"row_heading level0 row2\" >звезды</th>\n",
       "                        <td id=\"T_e61b3b9a_05ef_11ea_a6fb_107b449f15fcrow2_col0\" class=\"data row2 col0\" >0.10569</td>\n",
       "            </tr>\n",
       "            <tr>\n",
       "                        <th id=\"T_e61b3b9a_05ef_11ea_a6fb_107b449f15fclevel0_row3\" class=\"row_heading level0 row3\" >космос</th>\n",
       "                        <td id=\"T_e61b3b9a_05ef_11ea_a6fb_107b449f15fcrow3_col0\" class=\"data row3 col0\" >0.07841</td>\n",
       "            </tr>\n",
       "            <tr>\n",
       "                        <th id=\"T_e61b3b9a_05ef_11ea_a6fb_107b449f15fclevel0_row4\" class=\"row_heading level0 row4\" >галактика</th>\n",
       "                        <td id=\"T_e61b3b9a_05ef_11ea_a6fb_107b449f15fcrow4_col0\" class=\"data row4 col0\" >0.06796</td>\n",
       "            </tr>\n",
       "            <tr>\n",
       "                        <th id=\"T_e61b3b9a_05ef_11ea_a6fb_107b449f15fclevel0_row5\" class=\"row_heading level0 row5\" >вселенная</th>\n",
       "                        <td id=\"T_e61b3b9a_05ef_11ea_a6fb_107b449f15fcrow5_col0\" class=\"data row5 col0\" >0.05253</td>\n",
       "            </tr>\n",
       "            <tr>\n",
       "                        <th id=\"T_e61b3b9a_05ef_11ea_a6fb_107b449f15fclevel0_row6\" class=\"row_heading level0 row6\" >черные_дыры</th>\n",
       "                        <td id=\"T_e61b3b9a_05ef_11ea_a6fb_107b449f15fcrow6_col0\" class=\"data row6 col0\" >0.05125</td>\n",
       "            </tr>\n",
       "            <tr>\n",
       "                        <th id=\"T_e61b3b9a_05ef_11ea_a6fb_107b449f15fclevel0_row7\" class=\"row_heading level0 row7\" >солнце</th>\n",
       "                        <td id=\"T_e61b3b9a_05ef_11ea_a6fb_107b449f15fcrow7_col0\" class=\"data row7 col0\" >0.04121</td>\n",
       "            </tr>\n",
       "            <tr>\n",
       "                        <th id=\"T_e61b3b9a_05ef_11ea_a6fb_107b449f15fclevel0_row8\" class=\"row_heading level0 row8\" >нейтронные_звезды</th>\n",
       "                        <td id=\"T_e61b3b9a_05ef_11ea_a6fb_107b449f15fcrow8_col0\" class=\"data row8 col0\" >0.03233</td>\n",
       "            </tr>\n",
       "            <tr>\n",
       "                        <th id=\"T_e61b3b9a_05ef_11ea_a6fb_107b449f15fclevel0_row9\" class=\"row_heading level0 row9\" >экзопланета</th>\n",
       "                        <td id=\"T_e61b3b9a_05ef_11ea_a6fb_107b449f15fcrow9_col0\" class=\"data row9 col0\" >0.02157</td>\n",
       "            </tr>\n",
       "    </tbody></table><style  type=\"text/css\" >\n",
       "</style><table id=\"T_e61b3b9b_05ef_11ea_a6fb_107b449f15fc\" style='display:inline'><thead>    <tr>        <th class=\"blank level0\" ></th>        <th class=\"col_heading level0 col0\" >topic_13 @word</th>    </tr></thead><tbody>\n",
       "                <tr>\n",
       "                        <th id=\"T_e61b3b9b_05ef_11ea_a6fb_107b449f15fclevel0_row0\" class=\"row_heading level0 row0\" >звезда</th>\n",
       "                        <td id=\"T_e61b3b9b_05ef_11ea_a6fb_107b449f15fcrow0_col0\" class=\"data row0 col0\" >0.02611</td>\n",
       "            </tr>\n",
       "            <tr>\n",
       "                        <th id=\"T_e61b3b9b_05ef_11ea_a6fb_107b449f15fclevel0_row1\" class=\"row_heading level0 row1\" >галактика</th>\n",
       "                        <td id=\"T_e61b3b9b_05ef_11ea_a6fb_107b449f15fcrow1_col0\" class=\"data row1 col0\" >0.01714</td>\n",
       "            </tr>\n",
       "            <tr>\n",
       "                        <th id=\"T_e61b3b9b_05ef_11ea_a6fb_107b449f15fclevel0_row2\" class=\"row_heading level0 row2\" >солнце</th>\n",
       "                        <td id=\"T_e61b3b9b_05ef_11ea_a6fb_107b449f15fcrow2_col0\" class=\"data row2 col0\" >0.00984</td>\n",
       "            </tr>\n",
       "            <tr>\n",
       "                        <th id=\"T_e61b3b9b_05ef_11ea_a6fb_107b449f15fclevel0_row3\" class=\"row_heading level0 row3\" >объект</th>\n",
       "                        <td id=\"T_e61b3b9b_05ef_11ea_a6fb_107b449f15fcrow3_col0\" class=\"data row3 col0\" >0.00845</td>\n",
       "            </tr>\n",
       "            <tr>\n",
       "                        <th id=\"T_e61b3b9b_05ef_11ea_a6fb_107b449f15fclevel0_row4\" class=\"row_heading level0 row4\" >земля</th>\n",
       "                        <td id=\"T_e61b3b9b_05ef_11ea_a6fb_107b449f15fcrow4_col0\" class=\"data row4 col0\" >0.00745</td>\n",
       "            </tr>\n",
       "            <tr>\n",
       "                        <th id=\"T_e61b3b9b_05ef_11ea_a6fb_107b449f15fclevel0_row5\" class=\"row_heading level0 row5\" >масса</th>\n",
       "                        <td id=\"T_e61b3b9b_05ef_11ea_a6fb_107b449f15fcrow5_col0\" class=\"data row5 col0\" >0.00712</td>\n",
       "            </tr>\n",
       "            <tr>\n",
       "                        <th id=\"T_e61b3b9b_05ef_11ea_a6fb_107b449f15fclevel0_row6\" class=\"row_heading level0 row6\" >большой</th>\n",
       "                        <td id=\"T_e61b3b9b_05ef_11ea_a6fb_107b449f15fcrow6_col0\" class=\"data row6 col0\" >0.00655</td>\n",
       "            </tr>\n",
       "            <tr>\n",
       "                        <th id=\"T_e61b3b9b_05ef_11ea_a6fb_107b449f15fclevel0_row7\" class=\"row_heading level0 row7\" >планета</th>\n",
       "                        <td id=\"T_e61b3b9b_05ef_11ea_a6fb_107b449f15fcrow7_col0\" class=\"data row7 col0\" >0.00555</td>\n",
       "            </tr>\n",
       "            <tr>\n",
       "                        <th id=\"T_e61b3b9b_05ef_11ea_a6fb_107b449f15fclevel0_row8\" class=\"row_heading level0 row8\" >телескоп</th>\n",
       "                        <td id=\"T_e61b3b9b_05ef_11ea_a6fb_107b449f15fcrow8_col0\" class=\"data row8 col0\" >0.00551</td>\n",
       "            </tr>\n",
       "            <tr>\n",
       "                        <th id=\"T_e61b3b9b_05ef_11ea_a6fb_107b449f15fclevel0_row9\" class=\"row_heading level0 row9\" >вещество</th>\n",
       "                        <td id=\"T_e61b3b9b_05ef_11ea_a6fb_107b449f15fcrow9_col0\" class=\"data row9 col0\" >0.00546</td>\n",
       "            </tr>\n",
       "    </tbody></table>"
      ]
     },
     "metadata": {},
     "output_type": "display_data"
    },
    {
     "data": {
      "text/html": [
       "<b> черные дыры в центрах галактик </b><br /> астрофизик ольга сильченко об открытии сверхмассивной черной дыры в туманности андромеды, исследованиях джона корменди и темных гравитирующих телах"
      ]
     },
     "metadata": {},
     "output_type": "display_data"
    },
    {
     "data": {
      "text/html": [
       "<b> главы # как все начиналось </b><br /> отрывок из книги «двигатели гравитации. как черные дыры управляют галактиками, звездами и жизнью в космосе» директора астробиологической обсерватории при колумбийском университете в нью-йорке kалеба шарфа"
      ]
     },
     "metadata": {},
     "output_type": "display_data"
    },
    {
     "data": {
      "text/html": [
       "<b> как были открыты черные дыры промежуточной массы? </b><br /> о методах определения массы черной дыры и загадке ультрамощных рентгеновских источников"
      ]
     },
     "metadata": {},
     "output_type": "display_data"
    },
    {
     "data": {
      "text/html": [
       "<b> ударные волны вблизи компактных объектов </b><br /> астрофизик валерий сулейманов о нейтронных звездах, гравитации на космических кораблях и ньютоновском пределе"
      ]
     },
     "metadata": {},
     "output_type": "display_data"
    },
    {
     "data": {
      "text/html": [
       "<b> галактический «каннибализм» </b><br /> астроном алексей расторгуев об испарении звезд, измерении массы млечного пути и слиянии галактик"
      ]
     },
     "metadata": {},
     "output_type": "display_data"
    },
    {
     "data": {
      "text/html": [
       "<b> обнаружена самая яркая нейтронная звезда </b><br /> о пределе эддингтона, ультраярких рентгеновских источниках и тесных двойных системах"
      ]
     },
     "metadata": {},
     "output_type": "display_data"
    },
    {
     "data": {
      "text/html": [
       "<b> рентгеновское небо в фокусе </b><br /> астрофизик михаил ревнивцев о рентгеновских телескопах, болометрах и проекте обсерватории «спектр-рентген-гамма»"
      ]
     },
     "metadata": {},
     "output_type": "display_data"
    },
    {
     "data": {
      "text/html": [
       "<b> черные дыры </b><br /> физик эмиль ахмедов об изучении черных дыр, карле шварцшильде и гигантских черных дырах"
      ]
     },
     "metadata": {},
     "output_type": "display_data"
    },
    {
     "data": {
      "text/html": [
       "<b> атмосферы экзопланет </b><br /> астрофизик сергей попов о способах изучения атмосферы, структуре внешних слоев газовой оболочки планет и горячих юпитерах"
      ]
     },
     "metadata": {},
     "output_type": "display_data"
    },
    {
     "data": {
      "text/html": [
       "<b> faqшаровые скопления </b><br /> 7 фактов об огромных и древних звёздных городах"
      ]
     },
     "metadata": {},
     "output_type": "display_data"
    },
    {
     "data": {
      "text/html": [
       "<style  type=\"text/css\" >\n",
       "</style><table id=\"T_e61b3b9c_05ef_11ea_a6fb_107b449f15fc\" style='display:inline'><thead>    <tr>        <th class=\"blank level0\" ></th>        <th class=\"col_heading level0 col0\" >topic_14 @2gramm</th>    </tr></thead><tbody>\n",
       "                <tr>\n",
       "                        <th id=\"T_e61b3b9c_05ef_11ea_a6fb_107b449f15fclevel0_row0\" class=\"row_heading level0 row0\" >промышленный_революция</th>\n",
       "                        <td id=\"T_e61b3b9c_05ef_11ea_a6fb_107b449f15fcrow0_col0\" class=\"data row0 col0\" >0.01488</td>\n",
       "            </tr>\n",
       "            <tr>\n",
       "                        <th id=\"T_e61b3b9c_05ef_11ea_a6fb_107b449f15fclevel0_row1\" class=\"row_heading level0 row1\" >центральный_банк</th>\n",
       "                        <td id=\"T_e61b3b9c_05ef_11ea_a6fb_107b449f15fcrow1_col0\" class=\"data row1 col0\" >0.01472</td>\n",
       "            </tr>\n",
       "            <tr>\n",
       "                        <th id=\"T_e61b3b9c_05ef_11ea_a6fb_107b449f15fclevel0_row2\" class=\"row_heading level0 row2\" >экономический_рост</th>\n",
       "                        <td id=\"T_e61b3b9c_05ef_11ea_a6fb_107b449f15fcrow2_col0\" class=\"data row2 col0\" >0.01268</td>\n",
       "            </tr>\n",
       "            <tr>\n",
       "                        <th id=\"T_e61b3b9c_05ef_11ea_a6fb_107b449f15fclevel0_row3\" class=\"row_heading level0 row3\" >государственный_долг</th>\n",
       "                        <td id=\"T_e61b3b9c_05ef_11ea_a6fb_107b449f15fcrow3_col0\" class=\"data row3 col0\" >0.00981</td>\n",
       "            </tr>\n",
       "            <tr>\n",
       "                        <th id=\"T_e61b3b9c_05ef_11ea_a6fb_107b449f15fclevel0_row4\" class=\"row_heading level0 row4\" >центральный_банка</th>\n",
       "                        <td id=\"T_e61b3b9c_05ef_11ea_a6fb_107b449f15fcrow4_col0\" class=\"data row4 col0\" >0.00923</td>\n",
       "            </tr>\n",
       "            <tr>\n",
       "                        <th id=\"T_e61b3b9c_05ef_11ea_a6fb_107b449f15fclevel0_row5\" class=\"row_heading level0 row5\" >развивающийся_страна</th>\n",
       "                        <td id=\"T_e61b3b9c_05ef_11ea_a6fb_107b449f15fcrow5_col0\" class=\"data row5 col0\" >0.00905</td>\n",
       "            </tr>\n",
       "            <tr>\n",
       "                        <th id=\"T_e61b3b9c_05ef_11ea_a6fb_107b449f15fclevel0_row6\" class=\"row_heading level0 row6\" >мировой_экономика</th>\n",
       "                        <td id=\"T_e61b3b9c_05ef_11ea_a6fb_107b449f15fcrow6_col0\" class=\"data row6 col0\" >0.00866</td>\n",
       "            </tr>\n",
       "            <tr>\n",
       "                        <th id=\"T_e61b3b9c_05ef_11ea_a6fb_107b449f15fclevel0_row7\" class=\"row_heading level0 row7\" >развитый_страна</th>\n",
       "                        <td id=\"T_e61b3b9c_05ef_11ea_a6fb_107b449f15fcrow7_col0\" class=\"data row7 col0\" >0.0076</td>\n",
       "            </tr>\n",
       "            <tr>\n",
       "                        <th id=\"T_e61b3b9c_05ef_11ea_a6fb_107b449f15fclevel0_row8\" class=\"row_heading level0 row8\" >финансовый_рынок</th>\n",
       "                        <td id=\"T_e61b3b9c_05ef_11ea_a6fb_107b449f15fcrow8_col0\" class=\"data row8 col0\" >0.00724</td>\n",
       "            </tr>\n",
       "            <tr>\n",
       "                        <th id=\"T_e61b3b9c_05ef_11ea_a6fb_107b449f15fclevel0_row9\" class=\"row_heading level0 row9\" >заработный_плата</th>\n",
       "                        <td id=\"T_e61b3b9c_05ef_11ea_a6fb_107b449f15fcrow9_col0\" class=\"data row9 col0\" >0.00704</td>\n",
       "            </tr>\n",
       "    </tbody></table><style  type=\"text/css\" >\n",
       "</style><table id=\"T_e61b3b9d_05ef_11ea_a6fb_107b449f15fc\" style='display:inline'><thead>    <tr>        <th class=\"blank level0\" ></th>        <th class=\"col_heading level0 col0\" >topic_14 @3gramm</th>    </tr></thead><tbody>\n",
       "                <tr>\n",
       "                        <th id=\"T_e61b3b9d_05ef_11ea_a6fb_107b449f15fclevel0_row0\" class=\"row_heading level0 row0\" >рак_молочный_железа</th>\n",
       "                        <td id=\"T_e61b3b9d_05ef_11ea_a6fb_107b449f15fcrow0_col0\" class=\"data row0 col0\" >0.13995</td>\n",
       "            </tr>\n",
       "            <tr>\n",
       "                        <th id=\"T_e61b3b9d_05ef_11ea_a6fb_107b449f15fclevel0_row1\" class=\"row_heading level0 row1\" >эпоха_поздний_бронза</th>\n",
       "                        <td id=\"T_e61b3b9d_05ef_11ea_a6fb_107b449f15fcrow1_col0\" class=\"data row1 col0\" >0.10001</td>\n",
       "            </tr>\n",
       "            <tr>\n",
       "                        <th id=\"T_e61b3b9d_05ef_11ea_a6fb_107b449f15fclevel0_row2\" class=\"row_heading level0 row2\" >выброс_углекислый_газа</th>\n",
       "                        <td id=\"T_e61b3b9d_05ef_11ea_a6fb_107b449f15fcrow2_col0\" class=\"data row2 col0\" >0.09335</td>\n",
       "            </tr>\n",
       "            <tr>\n",
       "                        <th id=\"T_e61b3b9d_05ef_11ea_a6fb_107b449f15fclevel0_row3\" class=\"row_heading level0 row3\" >темп_экономический_рост</th>\n",
       "                        <td id=\"T_e61b3b9d_05ef_11ea_a6fb_107b449f15fcrow3_col0\" class=\"data row3 col0\" >0.08666</td>\n",
       "            </tr>\n",
       "            <tr>\n",
       "                        <th id=\"T_e61b3b9d_05ef_11ea_a6fb_107b449f15fclevel0_row4\" class=\"row_heading level0 row4\" >бронзовый_антропоморфный_пластика</th>\n",
       "                        <td id=\"T_e61b3b9d_05ef_11ea_a6fb_107b449f15fcrow4_col0\" class=\"data row4 col0\" >0.07334</td>\n",
       "            </tr>\n",
       "            <tr>\n",
       "                        <th id=\"T_e61b3b9d_05ef_11ea_a6fb_107b449f15fclevel0_row5\" class=\"row_heading level0 row5\" >закон_сохранение_энергия</th>\n",
       "                        <td id=\"T_e61b3b9d_05ef_11ea_a6fb_107b449f15fcrow5_col0\" class=\"data row5 col0\" >0.06817</td>\n",
       "            </tr>\n",
       "            <tr>\n",
       "                        <th id=\"T_e61b3b9d_05ef_11ea_a6fb_107b449f15fclevel0_row6\" class=\"row_heading level0 row6\" >хотеть_обратить_внимание</th>\n",
       "                        <td id=\"T_e61b3b9d_05ef_11ea_a6fb_107b449f15fcrow6_col0\" class=\"data row6 col0\" >0.05313</td>\n",
       "            </tr>\n",
       "            <tr>\n",
       "                        <th id=\"T_e61b3b9d_05ef_11ea_a6fb_107b449f15fclevel0_row7\" class=\"row_heading level0 row7\" >страна_латинский_америка</th>\n",
       "                        <td id=\"T_e61b3b9d_05ef_11ea_a6fb_107b449f15fcrow7_col0\" class=\"data row7 col0\" >0.04652</td>\n",
       "            </tr>\n",
       "            <tr>\n",
       "                        <th id=\"T_e61b3b9d_05ef_11ea_a6fb_107b449f15fclevel0_row8\" class=\"row_heading level0 row8\" >строгий_смысл_слово</th>\n",
       "                        <td id=\"T_e61b3b9d_05ef_11ea_a6fb_107b449f15fcrow8_col0\" class=\"data row8 col0\" >0.04441</td>\n",
       "            </tr>\n",
       "            <tr>\n",
       "                        <th id=\"T_e61b3b9d_05ef_11ea_a6fb_107b449f15fclevel0_row9\" class=\"row_heading level0 row9\" >излучать_электромагнитный_волна</th>\n",
       "                        <td id=\"T_e61b3b9d_05ef_11ea_a6fb_107b449f15fcrow9_col0\" class=\"data row9 col0\" >0.04328</td>\n",
       "            </tr>\n",
       "    </tbody></table><style  type=\"text/css\" >\n",
       "</style><table id=\"T_e61b3b9e_05ef_11ea_a6fb_107b449f15fc\" style='display:inline'><thead>    <tr>        <th class=\"blank level0\" ></th>        <th class=\"col_heading level0 col0\" >topic_14 @post_tag</th>    </tr></thead><tbody>\n",
       "                <tr>\n",
       "                        <th id=\"T_e61b3b9e_05ef_11ea_a6fb_107b449f15fclevel0_row0\" class=\"row_heading level0 row0\" >экономика</th>\n",
       "                        <td id=\"T_e61b3b9e_05ef_11ea_a6fb_107b449f15fcrow0_col0\" class=\"data row0 col0\" >0.30308</td>\n",
       "            </tr>\n",
       "            <tr>\n",
       "                        <th id=\"T_e61b3b9e_05ef_11ea_a6fb_107b449f15fclevel0_row1\" class=\"row_heading level0 row1\" >сша</th>\n",
       "                        <td id=\"T_e61b3b9e_05ef_11ea_a6fb_107b449f15fcrow1_col0\" class=\"data row1 col0\" >0.13272</td>\n",
       "            </tr>\n",
       "            <tr>\n",
       "                        <th id=\"T_e61b3b9e_05ef_11ea_a6fb_107b449f15fclevel0_row2\" class=\"row_heading level0 row2\" >россия</th>\n",
       "                        <td id=\"T_e61b3b9e_05ef_11ea_a6fb_107b449f15fcrow2_col0\" class=\"data row2 col0\" >0.03525</td>\n",
       "            </tr>\n",
       "            <tr>\n",
       "                        <th id=\"T_e61b3b9e_05ef_11ea_a6fb_107b449f15fclevel0_row3\" class=\"row_heading level0 row3\" >археология</th>\n",
       "                        <td id=\"T_e61b3b9e_05ef_11ea_a6fb_107b449f15fcrow3_col0\" class=\"data row3 col0\" >0.03511</td>\n",
       "            </tr>\n",
       "            <tr>\n",
       "                        <th id=\"T_e61b3b9e_05ef_11ea_a6fb_107b449f15fclevel0_row4\" class=\"row_heading level0 row4\" >финансовый_рынок</th>\n",
       "                        <td id=\"T_e61b3b9e_05ef_11ea_a6fb_107b449f15fcrow4_col0\" class=\"data row4 col0\" >0.03393</td>\n",
       "            </tr>\n",
       "            <tr>\n",
       "                        <th id=\"T_e61b3b9e_05ef_11ea_a6fb_107b449f15fclevel0_row5\" class=\"row_heading level0 row5\" >рынок</th>\n",
       "                        <td id=\"T_e61b3b9e_05ef_11ea_a6fb_107b449f15fcrow5_col0\" class=\"data row5 col0\" >0.03356</td>\n",
       "            </tr>\n",
       "            <tr>\n",
       "                        <th id=\"T_e61b3b9e_05ef_11ea_a6fb_107b449f15fclevel0_row6\" class=\"row_heading level0 row6\" >финансовый_кризис</th>\n",
       "                        <td id=\"T_e61b3b9e_05ef_11ea_a6fb_107b449f15fcrow6_col0\" class=\"data row6 col0\" >0.03202</td>\n",
       "            </tr>\n",
       "            <tr>\n",
       "                        <th id=\"T_e61b3b9e_05ef_11ea_a6fb_107b449f15fclevel0_row7\" class=\"row_heading level0 row7\" >китай</th>\n",
       "                        <td id=\"T_e61b3b9e_05ef_11ea_a6fb_107b449f15fcrow7_col0\" class=\"data row7 col0\" >0.02569</td>\n",
       "            </tr>\n",
       "            <tr>\n",
       "                        <th id=\"T_e61b3b9e_05ef_11ea_a6fb_107b449f15fclevel0_row8\" class=\"row_heading level0 row8\" >экономическое_развитие</th>\n",
       "                        <td id=\"T_e61b3b9e_05ef_11ea_a6fb_107b449f15fcrow8_col0\" class=\"data row8 col0\" >0.02263</td>\n",
       "            </tr>\n",
       "            <tr>\n",
       "                        <th id=\"T_e61b3b9e_05ef_11ea_a6fb_107b449f15fclevel0_row9\" class=\"row_heading level0 row9\" >экономическое_неравенство</th>\n",
       "                        <td id=\"T_e61b3b9e_05ef_11ea_a6fb_107b449f15fcrow9_col0\" class=\"data row9 col0\" >0.02068</td>\n",
       "            </tr>\n",
       "    </tbody></table><style  type=\"text/css\" >\n",
       "</style><table id=\"T_e61b3b9f_05ef_11ea_a6fb_107b449f15fc\" style='display:inline'><thead>    <tr>        <th class=\"blank level0\" ></th>        <th class=\"col_heading level0 col0\" >topic_14 @word</th>    </tr></thead><tbody>\n",
       "                <tr>\n",
       "                        <th id=\"T_e61b3b9f_05ef_11ea_a6fb_107b449f15fclevel0_row0\" class=\"row_heading level0 row0\" >страна</th>\n",
       "                        <td id=\"T_e61b3b9f_05ef_11ea_a6fb_107b449f15fcrow0_col0\" class=\"data row0 col0\" >0.01013</td>\n",
       "            </tr>\n",
       "            <tr>\n",
       "                        <th id=\"T_e61b3b9f_05ef_11ea_a6fb_107b449f15fclevel0_row1\" class=\"row_heading level0 row1\" >экономика</th>\n",
       "                        <td id=\"T_e61b3b9f_05ef_11ea_a6fb_107b449f15fcrow1_col0\" class=\"data row1 col0\" >0.00858</td>\n",
       "            </tr>\n",
       "            <tr>\n",
       "                        <th id=\"T_e61b3b9f_05ef_11ea_a6fb_107b449f15fclevel0_row2\" class=\"row_heading level0 row2\" >россия</th>\n",
       "                        <td id=\"T_e61b3b9f_05ef_11ea_a6fb_107b449f15fcrow2_col0\" class=\"data row2 col0\" >0.00482</td>\n",
       "            </tr>\n",
       "            <tr>\n",
       "                        <th id=\"T_e61b3b9f_05ef_11ea_a6fb_107b449f15fclevel0_row3\" class=\"row_heading level0 row3\" >китай</th>\n",
       "                        <td id=\"T_e61b3b9f_05ef_11ea_a6fb_107b449f15fcrow3_col0\" class=\"data row3 col0\" >0.00452</td>\n",
       "            </tr>\n",
       "            <tr>\n",
       "                        <th id=\"T_e61b3b9f_05ef_11ea_a6fb_107b449f15fclevel0_row4\" class=\"row_heading level0 row4\" >сша</th>\n",
       "                        <td id=\"T_e61b3b9f_05ef_11ea_a6fb_107b449f15fcrow4_col0\" class=\"data row4 col0\" >0.00429</td>\n",
       "            </tr>\n",
       "            <tr>\n",
       "                        <th id=\"T_e61b3b9f_05ef_11ea_a6fb_107b449f15fclevel0_row5\" class=\"row_heading level0 row5\" >экономический</th>\n",
       "                        <td id=\"T_e61b3b9f_05ef_11ea_a6fb_107b449f15fcrow5_col0\" class=\"data row5 col0\" >0.00419</td>\n",
       "            </tr>\n",
       "            <tr>\n",
       "                        <th id=\"T_e61b3b9f_05ef_11ea_a6fb_107b449f15fclevel0_row6\" class=\"row_heading level0 row6\" >рынок</th>\n",
       "                        <td id=\"T_e61b3b9f_05ef_11ea_a6fb_107b449f15fcrow6_col0\" class=\"data row6 col0\" >0.00377</td>\n",
       "            </tr>\n",
       "            <tr>\n",
       "                        <th id=\"T_e61b3b9f_05ef_11ea_a6fb_107b449f15fclevel0_row7\" class=\"row_heading level0 row7\" >цена</th>\n",
       "                        <td id=\"T_e61b3b9f_05ef_11ea_a6fb_107b449f15fcrow7_col0\" class=\"data row7 col0\" >0.00374</td>\n",
       "            </tr>\n",
       "            <tr>\n",
       "                        <th id=\"T_e61b3b9f_05ef_11ea_a6fb_107b449f15fclevel0_row8\" class=\"row_heading level0 row8\" >кризис</th>\n",
       "                        <td id=\"T_e61b3b9f_05ef_11ea_a6fb_107b449f15fcrow8_col0\" class=\"data row8 col0\" >0.00367</td>\n",
       "            </tr>\n",
       "            <tr>\n",
       "                        <th id=\"T_e61b3b9f_05ef_11ea_a6fb_107b449f15fclevel0_row9\" class=\"row_heading level0 row9\" >деньга</th>\n",
       "                        <td id=\"T_e61b3b9f_05ef_11ea_a6fb_107b449f15fcrow9_col0\" class=\"data row9 col0\" >0.00357</td>\n",
       "            </tr>\n",
       "    </tbody></table>"
      ]
     },
     "metadata": {},
     "output_type": "display_data"
    },
    {
     "data": {
      "text/html": [
       "<b> главы # распределенный капитализм </b><br /> отрывок из книги «третья промышленная революция» экономиста и эколога джереми рифкина"
      ]
     },
     "metadata": {},
     "output_type": "display_data"
    },
    {
     "data": {
      "text/html": [
       "<b> экономические колебания </b><br /> экономист сергей афонцев о причинах роста и спада экономики, экономическом кризисе и несостоятельности теорий экономических циклов"
      ]
     },
     "metadata": {},
     "output_type": "display_data"
    },
    {
     "data": {
      "text/html": [
       "<b> главы # жиры и внимание к онкологическим заболеваниям </b><br /> отрывок из книг \"китайское исследование\" профессора биохимии колина кэмпбелла"
      ]
     },
     "metadata": {},
     "output_type": "display_data"
    },
    {
     "data": {
      "text/html": [
       "<b> faqоткрытие древних статуэток кавказа </b><br /> 5 фактов об исследованиях бронзовой антропоморфной пластики казбекского клада"
      ]
     },
     "metadata": {},
     "output_type": "display_data"
    },
    {
     "data": {
      "text/html": [
       "<b> faqсвятилища кавказа </b><br /> 7 фактов о сакральных местах кавказа языческого периода, об их археологическом исследовании и связи с христианскими церквями"
      ]
     },
     "metadata": {},
     "output_type": "display_data"
    },
    {
     "data": {
      "text/html": [
       "<b> главы # антропоморфная пластика, происходящая из святилищ кавказа </b><br /> отрывок из книги \"древняя бронзовая антропоморфная пластика кавказа\" историка ольги брилевой"
      ]
     },
     "metadata": {},
     "output_type": "display_data"
    },
    {
     "data": {
      "text/html": [
       "<b> faqнеформальность на рынке труда </b><br /> 6 фактов об интенсификации миграции и проблеме сопоставления заработков между разными секторами труда"
      ]
     },
     "metadata": {},
     "output_type": "display_data"
    },
    {
     "data": {
      "text/html": [
       "<b> великая депрессия </b><br /> историк юрий рогулёв об антикризисных мерах рузвельта, зарождении социального законодательства в сша и спаде американской экономики в 1930-х годах"
      ]
     },
     "metadata": {},
     "output_type": "display_data"
    },
    {
     "data": {
      "text/html": [
       "<b> главы # дефицит демократии </b><br /> отрывок из книги «по ту сторону невидимой рукиоснования новой экономической науки» старшего экономиста всемирного банка каушика басу"
      ]
     },
     "metadata": {},
     "output_type": "display_data"
    },
    {
     "data": {
      "text/html": [
       "<b> главыработа и безработица </b><br /> отрывок из книги \"как работает экономика\" экономиста  ха-джун чанга о роли работы и безработицы в глобальном мире"
      ]
     },
     "metadata": {},
     "output_type": "display_data"
    },
    {
     "data": {
      "text/html": [
       "<style  type=\"text/css\" >\n",
       "</style><table id=\"T_e61b3ba0_05ef_11ea_a6fb_107b449f15fc\" style='display:inline'><thead>    <tr>        <th class=\"blank level0\" ></th>        <th class=\"col_heading level0 col0\" >topic_15 @2gramm</th>    </tr></thead><tbody>\n",
       "                <tr>\n",
       "                        <th id=\"T_e61b3ba0_05ef_11ea_a6fb_107b449f15fclevel0_row0\" class=\"row_heading level0 row0\" >психический_заболевание</th>\n",
       "                        <td id=\"T_e61b3ba0_05ef_11ea_a6fb_107b449f15fcrow0_col0\" class=\"data row0 col0\" >0.00747</td>\n",
       "            </tr>\n",
       "            <tr>\n",
       "                        <th id=\"T_e61b3ba0_05ef_11ea_a6fb_107b449f15fclevel0_row1\" class=\"row_heading level0 row1\" >зеркальный_нейрон</th>\n",
       "                        <td id=\"T_e61b3ba0_05ef_11ea_a6fb_107b449f15fcrow1_col0\" class=\"data row1 col0\" >0.00568</td>\n",
       "            </tr>\n",
       "            <tr>\n",
       "                        <th id=\"T_e61b3ba0_05ef_11ea_a6fb_107b449f15fclevel0_row2\" class=\"row_heading level0 row2\" >работа_мозг</th>\n",
       "                        <td id=\"T_e61b3ba0_05ef_11ea_a6fb_107b449f15fcrow2_col0\" class=\"data row2 col0\" >0.00537</td>\n",
       "            </tr>\n",
       "            <tr>\n",
       "                        <th id=\"T_e61b3ba0_05ef_11ea_a6fb_107b449f15fclevel0_row3\" class=\"row_heading level0 row3\" >головной_мозг</th>\n",
       "                        <td id=\"T_e61b3ba0_05ef_11ea_a6fb_107b449f15fcrow3_col0\" class=\"data row3 col0\" >0.00521</td>\n",
       "            </tr>\n",
       "            <tr>\n",
       "                        <th id=\"T_e61b3ba0_05ef_11ea_a6fb_107b449f15fclevel0_row4\" class=\"row_heading level0 row4\" >социальный_роль</th>\n",
       "                        <td id=\"T_e61b3ba0_05ef_11ea_a6fb_107b449f15fcrow4_col0\" class=\"data row4 col0\" >0.00494</td>\n",
       "            </tr>\n",
       "            <tr>\n",
       "                        <th id=\"T_e61b3ba0_05ef_11ea_a6fb_107b449f15fclevel0_row5\" class=\"row_heading level0 row5\" >психический_расстройство</th>\n",
       "                        <td id=\"T_e61b3ba0_05ef_11ea_a6fb_107b449f15fcrow5_col0\" class=\"data row5 col0\" >0.00471</td>\n",
       "            </tr>\n",
       "            <tr>\n",
       "                        <th id=\"T_e61b3ba0_05ef_11ea_a6fb_107b449f15fclevel0_row6\" class=\"row_heading level0 row6\" >депрессивный_состояние</th>\n",
       "                        <td id=\"T_e61b3ba0_05ef_11ea_a6fb_107b449f15fcrow6_col0\" class=\"data row6 col0\" >0.00451</td>\n",
       "            </tr>\n",
       "            <tr>\n",
       "                        <th id=\"T_e61b3ba0_05ef_11ea_a6fb_107b449f15fclevel0_row7\" class=\"row_heading level0 row7\" >удар_ток</th>\n",
       "                        <td id=\"T_e61b3ba0_05ef_11ea_a6fb_107b449f15fcrow7_col0\" class=\"data row7 col0\" >0.00412</td>\n",
       "            </tr>\n",
       "            <tr>\n",
       "                        <th id=\"T_e61b3ba0_05ef_11ea_a6fb_107b449f15fclevel0_row8\" class=\"row_heading level0 row8\" >философия_сознание</th>\n",
       "                        <td id=\"T_e61b3ba0_05ef_11ea_a6fb_107b449f15fcrow8_col0\" class=\"data row8 col0\" >0.00369</td>\n",
       "            </tr>\n",
       "            <tr>\n",
       "                        <th id=\"T_e61b3ba0_05ef_11ea_a6fb_107b449f15fclevel0_row9\" class=\"row_heading level0 row9\" >кругосветный_путешествие</th>\n",
       "                        <td id=\"T_e61b3ba0_05ef_11ea_a6fb_107b449f15fcrow9_col0\" class=\"data row9 col0\" >0.00354</td>\n",
       "            </tr>\n",
       "    </tbody></table><style  type=\"text/css\" >\n",
       "</style><table id=\"T_e61b3ba1_05ef_11ea_a6fb_107b449f15fc\" style='display:inline'><thead>    <tr>        <th class=\"blank level0\" ></th>        <th class=\"col_heading level0 col0\" >topic_15 @3gramm</th>    </tr></thead><tbody>\n",
       "                <tr>\n",
       "                        <th id=\"T_e61b3ba1_05ef_11ea_a6fb_107b449f15fclevel0_row0\" class=\"row_heading level0 row0\" >начало_xix_век</th>\n",
       "                        <td id=\"T_e61b3ba1_05ef_11ea_a6fb_107b449f15fcrow0_col0\" class=\"data row0 col0\" >0.33679</td>\n",
       "            </tr>\n",
       "            <tr>\n",
       "                        <th id=\"T_e61b3ba1_05ef_11ea_a6fb_107b449f15fclevel0_row1\" class=\"row_heading level0 row1\" >центральный_нервный_система</th>\n",
       "                        <td id=\"T_e61b3ba1_05ef_11ea_a6fb_107b449f15fcrow1_col0\" class=\"data row1 col0\" >0.15592</td>\n",
       "            </tr>\n",
       "            <tr>\n",
       "                        <th id=\"T_e61b3ba1_05ef_11ea_a6fb_107b449f15fclevel0_row2\" class=\"row_heading level0 row2\" >теория_рациональный_выбор</th>\n",
       "                        <td id=\"T_e61b3ba1_05ef_11ea_a6fb_107b449f15fcrow2_col0\" class=\"data row2 col0\" >0.09338</td>\n",
       "            </tr>\n",
       "            <tr>\n",
       "                        <th id=\"T_e61b3ba1_05ef_11ea_a6fb_107b449f15fclevel0_row3\" class=\"row_heading level0 row3\" >стоить_обратить_внимание</th>\n",
       "                        <td id=\"T_e61b3ba1_05ef_11ea_a6fb_107b449f15fcrow3_col0\" class=\"data row3 col0\" >0.06836</td>\n",
       "            </tr>\n",
       "            <tr>\n",
       "                        <th id=\"T_e61b3ba1_05ef_11ea_a6fb_107b449f15fclevel0_row4\" class=\"row_heading level0 row4\" >сложный_квантовый_система</th>\n",
       "                        <td id=\"T_e61b3ba1_05ef_11ea_a6fb_107b449f15fcrow4_col0\" class=\"data row4 col0\" >0.04976</td>\n",
       "            </tr>\n",
       "            <tr>\n",
       "                        <th id=\"T_e61b3ba1_05ef_11ea_a6fb_107b449f15fclevel0_row5\" class=\"row_heading level0 row5\" >спросить_автор_проект</th>\n",
       "                        <td id=\"T_e61b3ba1_05ef_11ea_a6fb_107b449f15fcrow5_col0\" class=\"data row5 col0\" >0.0434</td>\n",
       "            </tr>\n",
       "            <tr>\n",
       "                        <th id=\"T_e61b3ba1_05ef_11ea_a6fb_107b449f15fclevel0_row6\" class=\"row_heading level0 row6\" >механизм_работа_мозг</th>\n",
       "                        <td id=\"T_e61b3ba1_05ef_11ea_a6fb_107b449f15fcrow6_col0\" class=\"data row6 col0\" >0.03735</td>\n",
       "            </tr>\n",
       "            <tr>\n",
       "                        <th id=\"T_e61b3ba1_05ef_11ea_a6fb_107b449f15fclevel0_row7\" class=\"row_heading level0 row7\" >бурно_развивающийся_область</th>\n",
       "                        <td id=\"T_e61b3ba1_05ef_11ea_a6fb_107b449f15fcrow7_col0\" class=\"data row7 col0\" >0.0372</td>\n",
       "            </tr>\n",
       "            <tr>\n",
       "                        <th id=\"T_e61b3ba1_05ef_11ea_a6fb_107b449f15fclevel0_row8\" class=\"row_heading level0 row8\" >являться_составной_частью</th>\n",
       "                        <td id=\"T_e61b3ba1_05ef_11ea_a6fb_107b449f15fcrow8_col0\" class=\"data row8 col0\" >0.03109</td>\n",
       "            </tr>\n",
       "            <tr>\n",
       "                        <th id=\"T_e61b3ba1_05ef_11ea_a6fb_107b449f15fclevel0_row9\" class=\"row_heading level0 row9\" >найти_большой_количество</th>\n",
       "                        <td id=\"T_e61b3ba1_05ef_11ea_a6fb_107b449f15fcrow9_col0\" class=\"data row9 col0\" >0.03108</td>\n",
       "            </tr>\n",
       "    </tbody></table><style  type=\"text/css\" >\n",
       "</style><table id=\"T_e61b3ba2_05ef_11ea_a6fb_107b449f15fc\" style='display:inline'><thead>    <tr>        <th class=\"blank level0\" ></th>        <th class=\"col_heading level0 col0\" >topic_15 @post_tag</th>    </tr></thead><tbody>\n",
       "                <tr>\n",
       "                        <th id=\"T_e61b3ba2_05ef_11ea_a6fb_107b449f15fclevel0_row0\" class=\"row_heading level0 row0\" >фольклор</th>\n",
       "                        <td id=\"T_e61b3ba2_05ef_11ea_a6fb_107b449f15fcrow0_col0\" class=\"data row0 col0\" >0.11128</td>\n",
       "            </tr>\n",
       "            <tr>\n",
       "                        <th id=\"T_e61b3ba2_05ef_11ea_a6fb_107b449f15fclevel0_row1\" class=\"row_heading level0 row1\" >психология</th>\n",
       "                        <td id=\"T_e61b3ba2_05ef_11ea_a6fb_107b449f15fcrow1_col0\" class=\"data row1 col0\" >0.09209</td>\n",
       "            </tr>\n",
       "            <tr>\n",
       "                        <th id=\"T_e61b3ba2_05ef_11ea_a6fb_107b449f15fclevel0_row2\" class=\"row_heading level0 row2\" >фольклористика</th>\n",
       "                        <td id=\"T_e61b3ba2_05ef_11ea_a6fb_107b449f15fcrow2_col0\" class=\"data row2 col0\" >0.08587</td>\n",
       "            </tr>\n",
       "            <tr>\n",
       "                        <th id=\"T_e61b3ba2_05ef_11ea_a6fb_107b449f15fclevel0_row3\" class=\"row_heading level0 row3\" >сознание</th>\n",
       "                        <td id=\"T_e61b3ba2_05ef_11ea_a6fb_107b449f15fcrow3_col0\" class=\"data row3 col0\" >0.06355</td>\n",
       "            </tr>\n",
       "            <tr>\n",
       "                        <th id=\"T_e61b3ba2_05ef_11ea_a6fb_107b449f15fclevel0_row4\" class=\"row_heading level0 row4\" >нейропсихология</th>\n",
       "                        <td id=\"T_e61b3ba2_05ef_11ea_a6fb_107b449f15fcrow4_col0\" class=\"data row4 col0\" >0.05521</td>\n",
       "            </tr>\n",
       "            <tr>\n",
       "                        <th id=\"T_e61b3ba2_05ef_11ea_a6fb_107b449f15fclevel0_row5\" class=\"row_heading level0 row5\" >стресс</th>\n",
       "                        <td id=\"T_e61b3ba2_05ef_11ea_a6fb_107b449f15fcrow5_col0\" class=\"data row5 col0\" >0.04531</td>\n",
       "            </tr>\n",
       "            <tr>\n",
       "                        <th id=\"T_e61b3ba2_05ef_11ea_a6fb_107b449f15fclevel0_row6\" class=\"row_heading level0 row6\" >личность</th>\n",
       "                        <td id=\"T_e61b3ba2_05ef_11ea_a6fb_107b449f15fcrow6_col0\" class=\"data row6 col0\" >0.04105</td>\n",
       "            </tr>\n",
       "            <tr>\n",
       "                        <th id=\"T_e61b3ba2_05ef_11ea_a6fb_107b449f15fclevel0_row7\" class=\"row_heading level0 row7\" >ритуал</th>\n",
       "                        <td id=\"T_e61b3ba2_05ef_11ea_a6fb_107b449f15fcrow7_col0\" class=\"data row7 col0\" >0.03846</td>\n",
       "            </tr>\n",
       "            <tr>\n",
       "                        <th id=\"T_e61b3ba2_05ef_11ea_a6fb_107b449f15fclevel0_row8\" class=\"row_heading level0 row8\" >психофизиология</th>\n",
       "                        <td id=\"T_e61b3ba2_05ef_11ea_a6fb_107b449f15fcrow8_col0\" class=\"data row8 col0\" >0.03278</td>\n",
       "            </tr>\n",
       "            <tr>\n",
       "                        <th id=\"T_e61b3ba2_05ef_11ea_a6fb_107b449f15fclevel0_row9\" class=\"row_heading level0 row9\" >психика</th>\n",
       "                        <td id=\"T_e61b3ba2_05ef_11ea_a6fb_107b449f15fcrow9_col0\" class=\"data row9 col0\" >0.03011</td>\n",
       "            </tr>\n",
       "    </tbody></table><style  type=\"text/css\" >\n",
       "</style><table id=\"T_e61b3ba3_05ef_11ea_a6fb_107b449f15fc\" style='display:inline'><thead>    <tr>        <th class=\"blank level0\" ></th>        <th class=\"col_heading level0 col0\" >topic_15 @word</th>    </tr></thead><tbody>\n",
       "                <tr>\n",
       "                        <th id=\"T_e61b3ba3_05ef_11ea_a6fb_107b449f15fclevel0_row0\" class=\"row_heading level0 row0\" >ребёнок</th>\n",
       "                        <td id=\"T_e61b3ba3_05ef_11ea_a6fb_107b449f15fcrow0_col0\" class=\"data row0 col0\" >0.00427</td>\n",
       "            </tr>\n",
       "            <tr>\n",
       "                        <th id=\"T_e61b3ba3_05ef_11ea_a6fb_107b449f15fclevel0_row1\" class=\"row_heading level0 row1\" >фольклор</th>\n",
       "                        <td id=\"T_e61b3ba3_05ef_11ea_a6fb_107b449f15fcrow1_col0\" class=\"data row1 col0\" >0.0039</td>\n",
       "            </tr>\n",
       "            <tr>\n",
       "                        <th id=\"T_e61b3ba3_05ef_11ea_a6fb_107b449f15fclevel0_row2\" class=\"row_heading level0 row2\" >сознание</th>\n",
       "                        <td id=\"T_e61b3ba3_05ef_11ea_a6fb_107b449f15fcrow2_col0\" class=\"data row2 col0\" >0.00347</td>\n",
       "            </tr>\n",
       "            <tr>\n",
       "                        <th id=\"T_e61b3ba3_05ef_11ea_a6fb_107b449f15fclevel0_row3\" class=\"row_heading level0 row3\" >музыка</th>\n",
       "                        <td id=\"T_e61b3ba3_05ef_11ea_a6fb_107b449f15fcrow3_col0\" class=\"data row3 col0\" >0.00338</td>\n",
       "            </tr>\n",
       "            <tr>\n",
       "                        <th id=\"T_e61b3ba3_05ef_11ea_a6fb_107b449f15fclevel0_row4\" class=\"row_heading level0 row4\" >образ</th>\n",
       "                        <td id=\"T_e61b3ba3_05ef_11ea_a6fb_107b449f15fcrow4_col0\" class=\"data row4 col0\" >0.00338</td>\n",
       "            </tr>\n",
       "            <tr>\n",
       "                        <th id=\"T_e61b3ba3_05ef_11ea_a6fb_107b449f15fclevel0_row5\" class=\"row_heading level0 row5\" >говорить</th>\n",
       "                        <td id=\"T_e61b3ba3_05ef_11ea_a6fb_107b449f15fcrow5_col0\" class=\"data row5 col0\" >0.00336</td>\n",
       "            </tr>\n",
       "            <tr>\n",
       "                        <th id=\"T_e61b3ba3_05ef_11ea_a6fb_107b449f15fclevel0_row6\" class=\"row_heading level0 row6\" >работа</th>\n",
       "                        <td id=\"T_e61b3ba3_05ef_11ea_a6fb_107b449f15fcrow6_col0\" class=\"data row6 col0\" >0.0032</td>\n",
       "            </tr>\n",
       "            <tr>\n",
       "                        <th id=\"T_e61b3ba3_05ef_11ea_a6fb_107b449f15fclevel0_row7\" class=\"row_heading level0 row7\" >эмоция</th>\n",
       "                        <td id=\"T_e61b3ba3_05ef_11ea_a6fb_107b449f15fcrow7_col0\" class=\"data row7 col0\" >0.00318</td>\n",
       "            </tr>\n",
       "            <tr>\n",
       "                        <th id=\"T_e61b3ba3_05ef_11ea_a6fb_107b449f15fclevel0_row8\" class=\"row_heading level0 row8\" >поведение</th>\n",
       "                        <td id=\"T_e61b3ba3_05ef_11ea_a6fb_107b449f15fcrow8_col0\" class=\"data row8 col0\" >0.00318</td>\n",
       "            </tr>\n",
       "            <tr>\n",
       "                        <th id=\"T_e61b3ba3_05ef_11ea_a6fb_107b449f15fclevel0_row9\" class=\"row_heading level0 row9\" >отношение</th>\n",
       "                        <td id=\"T_e61b3ba3_05ef_11ea_a6fb_107b449f15fcrow9_col0\" class=\"data row9 col0\" >0.00315</td>\n",
       "            </tr>\n",
       "    </tbody></table>"
      ]
     },
     "metadata": {},
     "output_type": "display_data"
    },
    {
     "data": {
      "text/html": [
       "<b> механизмы самоутверждения личности </b><br /> психолог наталья харламенкова о трех стратегиях самоутверждения, типах личности и умении говорить «нет»"
      ]
     },
     "metadata": {},
     "output_type": "display_data"
    },
    {
     "data": {
      "text/html": [
       "<b> faqпсихическая травма и картина мира </b><br /> 5 фактов о последствиях травматических событий"
      ]
     },
     "metadata": {},
     "output_type": "display_data"
    },
    {
     "data": {
      "text/html": [
       "<b> faqпосттравматический стресс в отношениях «мать — дочь» </b><br /> 5 фактов о поведении матерей, переживших стрессовое событие"
      ]
     },
     "metadata": {},
     "output_type": "display_data"
    },
    {
     "data": {
      "text/html": [
       "<b> экспериментальная генетика поведения </b><br /> биолог инга полетаева о модельных животных, искусственном отборе и селекционных экспериментах"
      ]
     },
     "metadata": {},
     "output_type": "display_data"
    },
    {
     "data": {
      "text/html": [
       "<b> социологическая операционализация </b><br /> социолог виктор вахштайн о переводе концептов в операнты, смещении релевантности и теории рационального выбора"
      ]
     },
     "metadata": {},
     "output_type": "display_data"
    },
    {
     "data": {
      "text/html": [
       "<b> принцип «намеренной небрежности» в дендизме </b><br /> филолог ольга вайнштейн о впечатлении спонтанности в облике денди, поведении джентльменов в обществе и приеме table talk"
      ]
     },
     "metadata": {},
     "output_type": "display_data"
    },
    {
     "data": {
      "text/html": [
       "<b> эмоции в музыкевосприятие расстояний в тональном поле </b><br /> нейропсихолог марина корсакова-крейн о квинтовом круге, улавливании расстояний в тональном пространстве и важности интуиции в восприятии музыки"
      ]
     },
     "metadata": {},
     "output_type": "display_data"
    },
    {
     "data": {
      "text/html": [
       "<b> 5 книг о натуралистах </b><br /> что читать о путешествиях исследователей дикой природы, рекомендует кандидат биологических наук сергей майоров"
      ]
     },
     "metadata": {},
     "output_type": "display_data"
    },
    {
     "data": {
      "text/html": [
       "<b> главы # клинический язык винникотта </b><br /> отрывок профессора психологии джаны абрам из четвертого «международного психоаналитического ежегодника» об инновациях в клинической психологии"
      ]
     },
     "metadata": {},
     "output_type": "display_data"
    },
    {
     "data": {
      "text/html": [
       "<b> «в эволюции живого не было “допсихического”, “чисто физиологического” этапа» </b><br /> интервью с психофизиологом юрием александровым о наличии и отсутствии сознания, свободе воли и различных способах решения психофизиологической проблемы"
      ]
     },
     "metadata": {},
     "output_type": "display_data"
    },
    {
     "data": {
      "text/html": [
       "<style  type=\"text/css\" >\n",
       "</style><table id=\"T_e61b3ba4_05ef_11ea_a6fb_107b449f15fc\" style='display:inline'><thead>    <tr>        <th class=\"blank level0\" ></th>        <th class=\"col_heading level0 col0\" >topic_16 @2gramm</th>    </tr></thead><tbody>\n",
       "                <tr>\n",
       "                        <th id=\"T_e61b3ba4_05ef_11ea_a6fb_107b449f15fclevel0_row0\" class=\"row_heading level0 row0\" >гравитационный_волна</th>\n",
       "                        <td id=\"T_e61b3ba4_05ef_11ea_a6fb_107b449f15fcrow0_col0\" class=\"data row0 col0\" >0.02178</td>\n",
       "            </tr>\n",
       "            <tr>\n",
       "                        <th id=\"T_e61b3ba4_05ef_11ea_a6fb_107b449f15fclevel0_row1\" class=\"row_heading level0 row1\" >реликтовый_излучение</th>\n",
       "                        <td id=\"T_e61b3ba4_05ef_11ea_a6fb_107b449f15fcrow1_col0\" class=\"data row1 col0\" >0.01869</td>\n",
       "            </tr>\n",
       "            <tr>\n",
       "                        <th id=\"T_e61b3ba4_05ef_11ea_a6fb_107b449f15fclevel0_row2\" class=\"row_heading level0 row2\" >теория_струна</th>\n",
       "                        <td id=\"T_e61b3ba4_05ef_11ea_a6fb_107b449f15fcrow2_col0\" class=\"data row2 col0\" >0.01821</td>\n",
       "            </tr>\n",
       "            <tr>\n",
       "                        <th id=\"T_e61b3ba4_05ef_11ea_a6fb_107b449f15fclevel0_row3\" class=\"row_heading level0 row3\" >тёмный_энергия</th>\n",
       "                        <td id=\"T_e61b3ba4_05ef_11ea_a6fb_107b449f15fcrow3_col0\" class=\"data row3 col0\" >0.01553</td>\n",
       "            </tr>\n",
       "            <tr>\n",
       "                        <th id=\"T_e61b3ba4_05ef_11ea_a6fb_107b449f15fclevel0_row4\" class=\"row_heading level0 row4\" >ранний_вселенная</th>\n",
       "                        <td id=\"T_e61b3ba4_05ef_11ea_a6fb_107b449f15fcrow4_col0\" class=\"data row4 col0\" >0.01425</td>\n",
       "            </tr>\n",
       "            <tr>\n",
       "                        <th id=\"T_e61b3ba4_05ef_11ea_a6fb_107b449f15fclevel0_row5\" class=\"row_heading level0 row5\" >расширение_вселенная</th>\n",
       "                        <td id=\"T_e61b3ba4_05ef_11ea_a6fb_107b449f15fcrow5_col0\" class=\"data row5 col0\" >0.01138</td>\n",
       "            </tr>\n",
       "            <tr>\n",
       "                        <th id=\"T_e61b3ba4_05ef_11ea_a6fb_107b449f15fclevel0_row6\" class=\"row_heading level0 row6\" >скопление_галактика</th>\n",
       "                        <td id=\"T_e61b3ba4_05ef_11ea_a6fb_107b449f15fcrow6_col0\" class=\"data row6 col0\" >0.01035</td>\n",
       "            </tr>\n",
       "            <tr>\n",
       "                        <th id=\"T_e61b3ba4_05ef_11ea_a6fb_107b449f15fclevel0_row7\" class=\"row_heading level0 row7\" >тёмный_материя</th>\n",
       "                        <td id=\"T_e61b3ba4_05ef_11ea_a6fb_107b449f15fcrow7_col0\" class=\"data row7 col0\" >0.00964</td>\n",
       "            </tr>\n",
       "            <tr>\n",
       "                        <th id=\"T_e61b3ba4_05ef_11ea_a6fb_107b449f15fclevel0_row8\" class=\"row_heading level0 row8\" >космологический_постоянный</th>\n",
       "                        <td id=\"T_e61b3ba4_05ef_11ea_a6fb_107b449f15fcrow8_col0\" class=\"data row8 col0\" >0.00918</td>\n",
       "            </tr>\n",
       "            <tr>\n",
       "                        <th id=\"T_e61b3ba4_05ef_11ea_a6fb_107b449f15fclevel0_row9\" class=\"row_heading level0 row9\" >теория_гравитация</th>\n",
       "                        <td id=\"T_e61b3ba4_05ef_11ea_a6fb_107b449f15fcrow9_col0\" class=\"data row9 col0\" >0.00895</td>\n",
       "            </tr>\n",
       "    </tbody></table><style  type=\"text/css\" >\n",
       "</style><table id=\"T_e61b3ba5_05ef_11ea_a6fb_107b449f15fc\" style='display:inline'><thead>    <tr>        <th class=\"blank level0\" ></th>        <th class=\"col_heading level0 col0\" >topic_16 @3gramm</th>    </tr></thead><tbody>\n",
       "                <tr>\n",
       "                        <th id=\"T_e61b3ba5_05ef_11ea_a6fb_107b449f15fclevel0_row0\" class=\"row_heading level0 row0\" >общий_теория_относительность</th>\n",
       "                        <td id=\"T_e61b3ba5_05ef_11ea_a6fb_107b449f15fcrow0_col0\" class=\"data row0 col0\" >0.29857</td>\n",
       "            </tr>\n",
       "            <tr>\n",
       "                        <th id=\"T_e61b3ba5_05ef_11ea_a6fb_107b449f15fclevel0_row1\" class=\"row_heading level0 row1\" >анизотропия_реликтовый_излучение</th>\n",
       "                        <td id=\"T_e61b3ba5_05ef_11ea_a6fb_107b449f15fcrow1_col0\" class=\"data row1 col0\" >0.08265</td>\n",
       "            </tr>\n",
       "            <tr>\n",
       "                        <th id=\"T_e61b3ba5_05ef_11ea_a6fb_107b449f15fclevel0_row2\" class=\"row_heading level0 row2\" >первичный_гравитационный_волна</th>\n",
       "                        <td id=\"T_e61b3ba5_05ef_11ea_a6fb_107b449f15fcrow2_col0\" class=\"data row2 col0\" >0.05864</td>\n",
       "            </tr>\n",
       "            <tr>\n",
       "                        <th id=\"T_e61b3ba5_05ef_11ea_a6fb_107b449f15fclevel0_row3\" class=\"row_heading level0 row3\" >поляризация_реликтовый_излучение</th>\n",
       "                        <td id=\"T_e61b3ba5_05ef_11ea_a6fb_107b449f15fcrow3_col0\" class=\"data row3 col0\" >0.05331</td>\n",
       "            </tr>\n",
       "            <tr>\n",
       "                        <th id=\"T_e61b3ba5_05ef_11ea_a6fb_107b449f15fclevel0_row4\" class=\"row_heading level0 row4\" >крупномасштабный_структура_вселенная</th>\n",
       "                        <td id=\"T_e61b3ba5_05ef_11ea_a6fb_107b449f15fcrow4_col0\" class=\"data row4 col0\" >0.0453</td>\n",
       "            </tr>\n",
       "            <tr>\n",
       "                        <th id=\"T_e61b3ba5_05ef_11ea_a6fb_107b449f15fclevel0_row5\" class=\"row_heading level0 row5\" >стандартный_космологический_модель</th>\n",
       "                        <td id=\"T_e61b3ba5_05ef_11ea_a6fb_107b449f15fcrow5_col0\" class=\"data row5 col0\" >0.04264</td>\n",
       "            </tr>\n",
       "            <tr>\n",
       "                        <th id=\"T_e61b3ba5_05ef_11ea_a6fb_107b449f15fclevel0_row6\" class=\"row_heading level0 row6\" >реликтовый_гравитационный_волна</th>\n",
       "                        <td id=\"T_e61b3ba5_05ef_11ea_a6fb_107b449f15fcrow6_col0\" class=\"data row6 col0\" >0.03465</td>\n",
       "            </tr>\n",
       "            <tr>\n",
       "                        <th id=\"T_e61b3ba5_05ef_11ea_a6fb_107b449f15fclevel0_row7\" class=\"row_heading level0 row7\" >сумма_угол_треугольник</th>\n",
       "                        <td id=\"T_e61b3ba5_05ef_11ea_a6fb_107b449f15fcrow7_col0\" class=\"data row7 col0\" >0.03198</td>\n",
       "            </tr>\n",
       "            <tr>\n",
       "                        <th id=\"T_e61b3ba5_05ef_11ea_a6fb_107b449f15fclevel0_row8\" class=\"row_heading level0 row8\" >постоянный_тонкий_структура</th>\n",
       "                        <td id=\"T_e61b3ba5_05ef_11ea_a6fb_107b449f15fcrow8_col0\" class=\"data row8 col0\" >0.03196</td>\n",
       "            </tr>\n",
       "            <tr>\n",
       "                        <th id=\"T_e61b3ba5_05ef_11ea_a6fb_107b449f15fclevel0_row9\" class=\"row_heading level0 row9\" >закон_всемирный_тяготение</th>\n",
       "                        <td id=\"T_e61b3ba5_05ef_11ea_a6fb_107b449f15fcrow9_col0\" class=\"data row9 col0\" >0.03196</td>\n",
       "            </tr>\n",
       "    </tbody></table><style  type=\"text/css\" >\n",
       "</style><table id=\"T_e61b3ba6_05ef_11ea_a6fb_107b449f15fc\" style='display:inline'><thead>    <tr>        <th class=\"blank level0\" ></th>        <th class=\"col_heading level0 col0\" >topic_16 @post_tag</th>    </tr></thead><tbody>\n",
       "                <tr>\n",
       "                        <th id=\"T_e61b3ba6_05ef_11ea_a6fb_107b449f15fclevel0_row0\" class=\"row_heading level0 row0\" >вселенная</th>\n",
       "                        <td id=\"T_e61b3ba6_05ef_11ea_a6fb_107b449f15fcrow0_col0\" class=\"data row0 col0\" >0.10745</td>\n",
       "            </tr>\n",
       "            <tr>\n",
       "                        <th id=\"T_e61b3ba6_05ef_11ea_a6fb_107b449f15fclevel0_row1\" class=\"row_heading level0 row1\" >космология</th>\n",
       "                        <td id=\"T_e61b3ba6_05ef_11ea_a6fb_107b449f15fcrow1_col0\" class=\"data row1 col0\" >0.10401</td>\n",
       "            </tr>\n",
       "            <tr>\n",
       "                        <th id=\"T_e61b3ba6_05ef_11ea_a6fb_107b449f15fclevel0_row2\" class=\"row_heading level0 row2\" >физика</th>\n",
       "                        <td id=\"T_e61b3ba6_05ef_11ea_a6fb_107b449f15fcrow2_col0\" class=\"data row2 col0\" >0.09146</td>\n",
       "            </tr>\n",
       "            <tr>\n",
       "                        <th id=\"T_e61b3ba6_05ef_11ea_a6fb_107b449f15fclevel0_row3\" class=\"row_heading level0 row3\" >гравитация</th>\n",
       "                        <td id=\"T_e61b3ba6_05ef_11ea_a6fb_107b449f15fcrow3_col0\" class=\"data row3 col0\" >0.06527</td>\n",
       "            </tr>\n",
       "            <tr>\n",
       "                        <th id=\"T_e61b3ba6_05ef_11ea_a6fb_107b449f15fclevel0_row4\" class=\"row_heading level0 row4\" >астрофизика</th>\n",
       "                        <td id=\"T_e61b3ba6_05ef_11ea_a6fb_107b449f15fcrow4_col0\" class=\"data row4 col0\" >0.06155</td>\n",
       "            </tr>\n",
       "            <tr>\n",
       "                        <th id=\"T_e61b3ba6_05ef_11ea_a6fb_107b449f15fclevel0_row5\" class=\"row_heading level0 row5\" >реликтовое_излучение</th>\n",
       "                        <td id=\"T_e61b3ba6_05ef_11ea_a6fb_107b449f15fcrow5_col0\" class=\"data row5 col0\" >0.05279</td>\n",
       "            </tr>\n",
       "            <tr>\n",
       "                        <th id=\"T_e61b3ba6_05ef_11ea_a6fb_107b449f15fclevel0_row6\" class=\"row_heading level0 row6\" >астрономия</th>\n",
       "                        <td id=\"T_e61b3ba6_05ef_11ea_a6fb_107b449f15fcrow6_col0\" class=\"data row6 col0\" >0.04488</td>\n",
       "            </tr>\n",
       "            <tr>\n",
       "                        <th id=\"T_e61b3ba6_05ef_11ea_a6fb_107b449f15fclevel0_row7\" class=\"row_heading level0 row7\" >космическая_инфляция</th>\n",
       "                        <td id=\"T_e61b3ba6_05ef_11ea_a6fb_107b449f15fcrow7_col0\" class=\"data row7 col0\" >0.04033</td>\n",
       "            </tr>\n",
       "            <tr>\n",
       "                        <th id=\"T_e61b3ba6_05ef_11ea_a6fb_107b449f15fclevel0_row8\" class=\"row_heading level0 row8\" >эйнштейн_альберт</th>\n",
       "                        <td id=\"T_e61b3ba6_05ef_11ea_a6fb_107b449f15fcrow8_col0\" class=\"data row8 col0\" >0.0365</td>\n",
       "            </tr>\n",
       "            <tr>\n",
       "                        <th id=\"T_e61b3ba6_05ef_11ea_a6fb_107b449f15fclevel0_row9\" class=\"row_heading level0 row9\" >темная_материя</th>\n",
       "                        <td id=\"T_e61b3ba6_05ef_11ea_a6fb_107b449f15fcrow9_col0\" class=\"data row9 col0\" >0.03512</td>\n",
       "            </tr>\n",
       "    </tbody></table><style  type=\"text/css\" >\n",
       "</style><table id=\"T_e61b3ba7_05ef_11ea_a6fb_107b449f15fc\" style='display:inline'><thead>    <tr>        <th class=\"blank level0\" ></th>        <th class=\"col_heading level0 col0\" >topic_16 @word</th>    </tr></thead><tbody>\n",
       "                <tr>\n",
       "                        <th id=\"T_e61b3ba7_05ef_11ea_a6fb_107b449f15fclevel0_row0\" class=\"row_heading level0 row0\" >вселенная</th>\n",
       "                        <td id=\"T_e61b3ba7_05ef_11ea_a6fb_107b449f15fcrow0_col0\" class=\"data row0 col0\" >0.02132</td>\n",
       "            </tr>\n",
       "            <tr>\n",
       "                        <th id=\"T_e61b3ba7_05ef_11ea_a6fb_107b449f15fclevel0_row1\" class=\"row_heading level0 row1\" >теория</th>\n",
       "                        <td id=\"T_e61b3ba7_05ef_11ea_a6fb_107b449f15fcrow1_col0\" class=\"data row1 col0\" >0.00808</td>\n",
       "            </tr>\n",
       "            <tr>\n",
       "                        <th id=\"T_e61b3ba7_05ef_11ea_a6fb_107b449f15fclevel0_row2\" class=\"row_heading level0 row2\" >эйнштейн</th>\n",
       "                        <td id=\"T_e61b3ba7_05ef_11ea_a6fb_107b449f15fcrow2_col0\" class=\"data row2 col0\" >0.00686</td>\n",
       "            </tr>\n",
       "            <tr>\n",
       "                        <th id=\"T_e61b3ba7_05ef_11ea_a6fb_107b449f15fclevel0_row3\" class=\"row_heading level0 row3\" >пространство</th>\n",
       "                        <td id=\"T_e61b3ba7_05ef_11ea_a6fb_107b449f15fcrow3_col0\" class=\"data row3 col0\" >0.00672</td>\n",
       "            </tr>\n",
       "            <tr>\n",
       "                        <th id=\"T_e61b3ba7_05ef_11ea_a6fb_107b449f15fclevel0_row4\" class=\"row_heading level0 row4\" >галактика</th>\n",
       "                        <td id=\"T_e61b3ba7_05ef_11ea_a6fb_107b449f15fcrow4_col0\" class=\"data row4 col0\" >0.00555</td>\n",
       "            </tr>\n",
       "            <tr>\n",
       "                        <th id=\"T_e61b3ba7_05ef_11ea_a6fb_107b449f15fclevel0_row5\" class=\"row_heading level0 row5\" >гравитация</th>\n",
       "                        <td id=\"T_e61b3ba7_05ef_11ea_a6fb_107b449f15fcrow5_col0\" class=\"data row5 col0\" >0.00455</td>\n",
       "            </tr>\n",
       "            <tr>\n",
       "                        <th id=\"T_e61b3ba7_05ef_11ea_a6fb_107b449f15fclevel0_row6\" class=\"row_heading level0 row6\" >наблюдение</th>\n",
       "                        <td id=\"T_e61b3ba7_05ef_11ea_a6fb_107b449f15fcrow6_col0\" class=\"data row6 col0\" >0.00412</td>\n",
       "            </tr>\n",
       "            <tr>\n",
       "                        <th id=\"T_e61b3ba7_05ef_11ea_a6fb_107b449f15fclevel0_row7\" class=\"row_heading level0 row7\" >физика</th>\n",
       "                        <td id=\"T_e61b3ba7_05ef_11ea_a6fb_107b449f15fcrow7_col0\" class=\"data row7 col0\" >0.00407</td>\n",
       "            </tr>\n",
       "            <tr>\n",
       "                        <th id=\"T_e61b3ba7_05ef_11ea_a6fb_107b449f15fclevel0_row8\" class=\"row_heading level0 row8\" >физик</th>\n",
       "                        <td id=\"T_e61b3ba7_05ef_11ea_a6fb_107b449f15fcrow8_col0\" class=\"data row8 col0\" >0.00386</td>\n",
       "            </tr>\n",
       "            <tr>\n",
       "                        <th id=\"T_e61b3ba7_05ef_11ea_a6fb_107b449f15fclevel0_row9\" class=\"row_heading level0 row9\" >космология</th>\n",
       "                        <td id=\"T_e61b3ba7_05ef_11ea_a6fb_107b449f15fcrow9_col0\" class=\"data row9 col0\" >0.00381</td>\n",
       "            </tr>\n",
       "    </tbody></table>"
      ]
     },
     "metadata": {},
     "output_type": "display_data"
    },
    {
     "data": {
      "text/html": [
       "<b> поляризация реликтового излучения </b><br /> физик дмитрий горбунов об эксперименте bicep2, стадии инфляции и развитии теории гравитации"
      ]
     },
     "metadata": {},
     "output_type": "display_data"
    },
    {
     "data": {
      "text/html": [
       "<b> реликтовые гравитационные волны в свете данных обсерватории planck </b><br /> о b-моде поляризации реликтового излучения, намагниченной пыли и экспериментах bicep2 и planck"
      ]
     },
     "metadata": {},
     "output_type": "display_data"
    },
    {
     "data": {
      "text/html": [
       "<b> faqполяризация реликтового излучения </b><br /> 7 фактов о видах поляризации, эксперименте planck и  доказательствах инфляционной стадии расширения вселенной"
      ]
     },
     "metadata": {},
     "output_type": "display_data"
    },
    {
     "data": {
      "text/html": [
       "<b> главысовременная космология </b><br /> отрывок из 3-го издания книги «астрономиявек xxi» под редакцией владимира сурдина о важнейших событиях и нерешенных проблемах астрономии"
      ]
     },
     "metadata": {},
     "output_type": "display_data"
    },
    {
     "data": {
      "text/html": [
       "<b> что изменит открытие первичных гравитационных волн? </b><br /> астрофизик сергей попов о теории инфляции, поиске первичных гравитационных волн и заявлении коллаборации bicep"
      ]
     },
     "metadata": {},
     "output_type": "display_data"
    },
    {
     "data": {
      "text/html": [
       "<b> faqвселенная до горячей стадии </b><br /> 5 фактов о теориях развития вселенной, инфляционной модели и гравитационных волнах"
      ]
     },
     "metadata": {},
     "output_type": "display_data"
    },
    {
     "data": {
      "text/html": [
       "<b> стандартная космологическая модель </b><br /> астрофизик олег верходанов об угловом спектре мощности, холодной темной материи и измерении космологических параметров"
      ]
     },
     "metadata": {},
     "output_type": "display_data"
    },
    {
     "data": {
      "text/html": [
       "<b> точная космология </b><br /> физик макс тегмарк о флуктуациях в ранней вселенной, темной энергии и теории инфляции"
      ]
     },
     "metadata": {},
     "output_type": "display_data"
    },
    {
     "data": {
      "text/html": [
       "<b> вселенная до горячей стадии </b><br /> физик валерий рубаков о реликтовом излучении, зарождении неоднородностей и гравитационных волнах"
      ]
     },
     "metadata": {},
     "output_type": "display_data"
    },
    {
     "data": {
      "text/html": [
       "<b> олег верходанов\"самое точное знание о физике вселенной несет реликтовое излучение\" </b><br /> интервью с астрофизиком о методах исследования вселенной, проблемах проведения измерений и стандартной космологической модели"
      ]
     },
     "metadata": {},
     "output_type": "display_data"
    },
    {
     "data": {
      "text/html": [
       "<style  type=\"text/css\" >\n",
       "</style><table id=\"T_e61b3ba8_05ef_11ea_a6fb_107b449f15fc\" style='display:inline'><thead>    <tr>        <th class=\"blank level0\" ></th>        <th class=\"col_heading level0 col0\" >topic_17 @2gramm</th>    </tr></thead><tbody>\n",
       "                <tr>\n",
       "                        <th id=\"T_e61b3ba8_05ef_11ea_a6fb_107b449f15fclevel0_row0\" class=\"row_heading level0 row0\" >принятие_решение</th>\n",
       "                        <td id=\"T_e61b3ba8_05ef_11ea_a6fb_107b449f15fcrow0_col0\" class=\"data row0 col0\" >0.02657</td>\n",
       "            </tr>\n",
       "            <tr>\n",
       "                        <th id=\"T_e61b3ba8_05ef_11ea_a6fb_107b449f15fclevel0_row1\" class=\"row_heading level0 row1\" >теория_игра</th>\n",
       "                        <td id=\"T_e61b3ba8_05ef_11ea_a6fb_107b449f15fcrow1_col0\" class=\"data row1 col0\" >0.01462</td>\n",
       "            </tr>\n",
       "            <tr>\n",
       "                        <th id=\"T_e61b3ba8_05ef_11ea_a6fb_107b449f15fclevel0_row2\" class=\"row_heading level0 row2\" >система_отсчёт</th>\n",
       "                        <td id=\"T_e61b3ba8_05ef_11ea_a6fb_107b449f15fcrow2_col0\" class=\"data row2 col0\" >0.01082</td>\n",
       "            </tr>\n",
       "            <tr>\n",
       "                        <th id=\"T_e61b3ba8_05ef_11ea_a6fb_107b449f15fclevel0_row3\" class=\"row_heading level0 row3\" >принимать_решение</th>\n",
       "                        <td id=\"T_e61b3ba8_05ef_11ea_a6fb_107b449f15fcrow3_col0\" class=\"data row3 col0\" >0.00786</td>\n",
       "            </tr>\n",
       "            <tr>\n",
       "                        <th id=\"T_e61b3ba8_05ef_11ea_a6fb_107b449f15fclevel0_row4\" class=\"row_heading level0 row4\" >поведенческий_экономика</th>\n",
       "                        <td id=\"T_e61b3ba8_05ef_11ea_a6fb_107b449f15fcrow4_col0\" class=\"data row4 col0\" >0.00669</td>\n",
       "            </tr>\n",
       "            <tr>\n",
       "                        <th id=\"T_e61b3ba8_05ef_11ea_a6fb_107b449f15fclevel0_row5\" class=\"row_heading level0 row5\" >уравнение_максвелл</th>\n",
       "                        <td id=\"T_e61b3ba8_05ef_11ea_a6fb_107b449f15fcrow5_col0\" class=\"data row5 col0\" >0.00526</td>\n",
       "            </tr>\n",
       "            <tr>\n",
       "                        <th id=\"T_e61b3ba8_05ef_11ea_a6fb_107b449f15fclevel0_row6\" class=\"row_heading level0 row6\" >преобразование_лоренц</th>\n",
       "                        <td id=\"T_e61b3ba8_05ef_11ea_a6fb_107b449f15fcrow6_col0\" class=\"data row6 col0\" >0.00514</td>\n",
       "            </tr>\n",
       "            <tr>\n",
       "                        <th id=\"T_e61b3ba8_05ef_11ea_a6fb_107b449f15fclevel0_row7\" class=\"row_heading level0 row7\" >быстрый_сон</th>\n",
       "                        <td id=\"T_e61b3ba8_05ef_11ea_a6fb_107b449f15fcrow7_col0\" class=\"data row7 col0\" >0.00511</td>\n",
       "            </tr>\n",
       "            <tr>\n",
       "                        <th id=\"T_e61b3ba8_05ef_11ea_a6fb_107b449f15fclevel0_row8\" class=\"row_heading level0 row8\" >когнитивный_наука</th>\n",
       "                        <td id=\"T_e61b3ba8_05ef_11ea_a6fb_107b449f15fcrow8_col0\" class=\"data row8 col0\" >0.00487</td>\n",
       "            </tr>\n",
       "            <tr>\n",
       "                        <th id=\"T_e61b3ba8_05ef_11ea_a6fb_107b449f15fclevel0_row9\" class=\"row_heading level0 row9\" >когнитивный_исследование</th>\n",
       "                        <td id=\"T_e61b3ba8_05ef_11ea_a6fb_107b449f15fcrow9_col0\" class=\"data row9 col0\" >0.00467</td>\n",
       "            </tr>\n",
       "    </tbody></table><style  type=\"text/css\" >\n",
       "</style><table id=\"T_e61b3ba9_05ef_11ea_a6fb_107b449f15fc\" style='display:inline'><thead>    <tr>        <th class=\"blank level0\" ></th>        <th class=\"col_heading level0 col0\" >topic_17 @3gramm</th>    </tr></thead><tbody>\n",
       "                <tr>\n",
       "                        <th id=\"T_e61b3ba9_05ef_11ea_a6fb_107b449f15fclevel0_row0\" class=\"row_heading level0 row0\" >специальный_теория_относительность</th>\n",
       "                        <td id=\"T_e61b3ba9_05ef_11ea_a6fb_107b449f15fcrow0_col0\" class=\"data row0 col0\" >0.37209</td>\n",
       "            </tr>\n",
       "            <tr>\n",
       "                        <th id=\"T_e61b3ba9_05ef_11ea_a6fb_107b449f15fclevel0_row1\" class=\"row_heading level0 row1\" >процесс_принятие_решение</th>\n",
       "                        <td id=\"T_e61b3ba9_05ef_11ea_a6fb_107b449f15fcrow1_col0\" class=\"data row1 col0\" >0.20498</td>\n",
       "            </tr>\n",
       "            <tr>\n",
       "                        <th id=\"T_e61b3ba9_05ef_11ea_a6fb_107b449f15fclevel0_row2\" class=\"row_heading level0 row2\" >инерциальный_система_отсчёт</th>\n",
       "                        <td id=\"T_e61b3ba9_05ef_11ea_a6fb_107b449f15fcrow2_col0\" class=\"data row2 col0\" >0.15948</td>\n",
       "            </tr>\n",
       "            <tr>\n",
       "                        <th id=\"T_e61b3ba9_05ef_11ea_a6fb_107b449f15fclevel0_row3\" class=\"row_heading level0 row3\" >наиболее_часто_встречаться</th>\n",
       "                        <td id=\"T_e61b3ba9_05ef_11ea_a6fb_107b449f15fcrow3_col0\" class=\"data row3 col0\" >0.08345</td>\n",
       "            </tr>\n",
       "            <tr>\n",
       "                        <th id=\"T_e61b3ba9_05ef_11ea_a6fb_107b449f15fclevel0_row4\" class=\"row_heading level0 row4\" >принятие_экономический_решение</th>\n",
       "                        <td id=\"T_e61b3ba9_05ef_11ea_a6fb_107b449f15fcrow4_col0\" class=\"data row4 col0\" >0.05312</td>\n",
       "            </tr>\n",
       "            <tr>\n",
       "                        <th id=\"T_e61b3ba9_05ef_11ea_a6fb_107b449f15fclevel0_row5\" class=\"row_heading level0 row5\" >центр_когнитивный_исследование</th>\n",
       "                        <td id=\"T_e61b3ba9_05ef_11ea_a6fb_107b449f15fcrow5_col0\" class=\"data row5 col0\" >0.04552</td>\n",
       "            </tr>\n",
       "            <tr>\n",
       "                        <th id=\"T_e61b3ba9_05ef_11ea_a6fb_107b449f15fclevel0_row6\" class=\"row_heading level0 row6\" >низкий_уровень_образование</th>\n",
       "                        <td id=\"T_e61b3ba9_05ef_11ea_a6fb_107b449f15fcrow6_col0\" class=\"data row6 col0\" >0.01986</td>\n",
       "            </tr>\n",
       "            <tr>\n",
       "                        <th id=\"T_e61b3ba9_05ef_11ea_a6fb_107b449f15fclevel0_row7\" class=\"row_heading level0 row7\" >недавно_издать_книга</th>\n",
       "                        <td id=\"T_e61b3ba9_05ef_11ea_a6fb_107b449f15fcrow7_col0\" class=\"data row7 col0\" >0.01494</td>\n",
       "            </tr>\n",
       "            <tr>\n",
       "                        <th id=\"T_e61b3ba9_05ef_11ea_a6fb_107b449f15fclevel0_row8\" class=\"row_heading level0 row8\" >высокий_уровень_образование</th>\n",
       "                        <td id=\"T_e61b3ba9_05ef_11ea_a6fb_107b449f15fcrow8_col0\" class=\"data row8 col0\" >0.01022</td>\n",
       "            </tr>\n",
       "            <tr>\n",
       "                        <th id=\"T_e61b3ba9_05ef_11ea_a6fb_107b449f15fclevel0_row9\" class=\"row_heading level0 row9\" >получить_хороший_образование</th>\n",
       "                        <td id=\"T_e61b3ba9_05ef_11ea_a6fb_107b449f15fcrow9_col0\" class=\"data row9 col0\" >0.00994</td>\n",
       "            </tr>\n",
       "    </tbody></table><style  type=\"text/css\" >\n",
       "</style><table id=\"T_e61b3baa_05ef_11ea_a6fb_107b449f15fc\" style='display:inline'><thead>    <tr>        <th class=\"blank level0\" ></th>        <th class=\"col_heading level0 col0\" >topic_17 @post_tag</th>    </tr></thead><tbody>\n",
       "                <tr>\n",
       "                        <th id=\"T_e61b3baa_05ef_11ea_a6fb_107b449f15fclevel0_row0\" class=\"row_heading level0 row0\" >экономика</th>\n",
       "                        <td id=\"T_e61b3baa_05ef_11ea_a6fb_107b449f15fcrow0_col0\" class=\"data row0 col0\" >0.09562</td>\n",
       "            </tr>\n",
       "            <tr>\n",
       "                        <th id=\"T_e61b3baa_05ef_11ea_a6fb_107b449f15fclevel0_row1\" class=\"row_heading level0 row1\" >математика</th>\n",
       "                        <td id=\"T_e61b3baa_05ef_11ea_a6fb_107b449f15fcrow1_col0\" class=\"data row1 col0\" >0.08868</td>\n",
       "            </tr>\n",
       "            <tr>\n",
       "                        <th id=\"T_e61b3baa_05ef_11ea_a6fb_107b449f15fclevel0_row2\" class=\"row_heading level0 row2\" >теория_принятия_решений</th>\n",
       "                        <td id=\"T_e61b3baa_05ef_11ea_a6fb_107b449f15fcrow2_col0\" class=\"data row2 col0\" >0.07456</td>\n",
       "            </tr>\n",
       "            <tr>\n",
       "                        <th id=\"T_e61b3baa_05ef_11ea_a6fb_107b449f15fclevel0_row3\" class=\"row_heading level0 row3\" >принятие_решений</th>\n",
       "                        <td id=\"T_e61b3baa_05ef_11ea_a6fb_107b449f15fcrow3_col0\" class=\"data row3 col0\" >0.06415</td>\n",
       "            </tr>\n",
       "            <tr>\n",
       "                        <th id=\"T_e61b3baa_05ef_11ea_a6fb_107b449f15fclevel0_row4\" class=\"row_heading level0 row4\" >теория_игр</th>\n",
       "                        <td id=\"T_e61b3baa_05ef_11ea_a6fb_107b449f15fcrow4_col0\" class=\"data row4 col0\" >0.057</td>\n",
       "            </tr>\n",
       "            <tr>\n",
       "                        <th id=\"T_e61b3baa_05ef_11ea_a6fb_107b449f15fclevel0_row5\" class=\"row_heading level0 row5\" >сон</th>\n",
       "                        <td id=\"T_e61b3baa_05ef_11ea_a6fb_107b449f15fcrow5_col0\" class=\"data row5 col0\" >0.05681</td>\n",
       "            </tr>\n",
       "            <tr>\n",
       "                        <th id=\"T_e61b3baa_05ef_11ea_a6fb_107b449f15fclevel0_row6\" class=\"row_heading level0 row6\" >специальная_теория_относительности</th>\n",
       "                        <td id=\"T_e61b3baa_05ef_11ea_a6fb_107b449f15fcrow6_col0\" class=\"data row6 col0\" >0.05014</td>\n",
       "            </tr>\n",
       "            <tr>\n",
       "                        <th id=\"T_e61b3baa_05ef_11ea_a6fb_107b449f15fclevel0_row7\" class=\"row_heading level0 row7\" >неврология</th>\n",
       "                        <td id=\"T_e61b3baa_05ef_11ea_a6fb_107b449f15fcrow7_col0\" class=\"data row7 col0\" >0.04367</td>\n",
       "            </tr>\n",
       "            <tr>\n",
       "                        <th id=\"T_e61b3baa_05ef_11ea_a6fb_107b449f15fclevel0_row8\" class=\"row_heading level0 row8\" >ньютон_исаак</th>\n",
       "                        <td id=\"T_e61b3baa_05ef_11ea_a6fb_107b449f15fcrow8_col0\" class=\"data row8 col0\" >0.04272</td>\n",
       "            </tr>\n",
       "            <tr>\n",
       "                        <th id=\"T_e61b3baa_05ef_11ea_a6fb_107b449f15fclevel0_row9\" class=\"row_heading level0 row9\" >поведенческая_экономика</th>\n",
       "                        <td id=\"T_e61b3baa_05ef_11ea_a6fb_107b449f15fcrow9_col0\" class=\"data row9 col0\" >0.03949</td>\n",
       "            </tr>\n",
       "    </tbody></table><style  type=\"text/css\" >\n",
       "</style><table id=\"T_e61b3bab_05ef_11ea_a6fb_107b449f15fc\" style='display:inline'><thead>    <tr>        <th class=\"blank level0\" ></th>        <th class=\"col_heading level0 col0\" >topic_17 @word</th>    </tr></thead><tbody>\n",
       "                <tr>\n",
       "                        <th id=\"T_e61b3bab_05ef_11ea_a6fb_107b449f15fclevel0_row0\" class=\"row_heading level0 row0\" >сон</th>\n",
       "                        <td id=\"T_e61b3bab_05ef_11ea_a6fb_107b449f15fcrow0_col0\" class=\"data row0 col0\" >0.00928</td>\n",
       "            </tr>\n",
       "            <tr>\n",
       "                        <th id=\"T_e61b3bab_05ef_11ea_a6fb_107b449f15fclevel0_row1\" class=\"row_heading level0 row1\" >решение</th>\n",
       "                        <td id=\"T_e61b3bab_05ef_11ea_a6fb_107b449f15fcrow1_col0\" class=\"data row1 col0\" >0.00598</td>\n",
       "            </tr>\n",
       "            <tr>\n",
       "                        <th id=\"T_e61b3bab_05ef_11ea_a6fb_107b449f15fclevel0_row2\" class=\"row_heading level0 row2\" >ребёнок</th>\n",
       "                        <td id=\"T_e61b3bab_05ef_11ea_a6fb_107b449f15fcrow2_col0\" class=\"data row2 col0\" >0.00582</td>\n",
       "            </tr>\n",
       "            <tr>\n",
       "                        <th id=\"T_e61b3bab_05ef_11ea_a6fb_107b449f15fclevel0_row3\" class=\"row_heading level0 row3\" >модель</th>\n",
       "                        <td id=\"T_e61b3bab_05ef_11ea_a6fb_107b449f15fcrow3_col0\" class=\"data row3 col0\" >0.00431</td>\n",
       "            </tr>\n",
       "            <tr>\n",
       "                        <th id=\"T_e61b3bab_05ef_11ea_a6fb_107b449f15fclevel0_row4\" class=\"row_heading level0 row4\" >игра</th>\n",
       "                        <td id=\"T_e61b3bab_05ef_11ea_a6fb_107b449f15fcrow4_col0\" class=\"data row4 col0\" >0.00404</td>\n",
       "            </tr>\n",
       "            <tr>\n",
       "                        <th id=\"T_e61b3bab_05ef_11ea_a6fb_107b449f15fclevel0_row5\" class=\"row_heading level0 row5\" >дать</th>\n",
       "                        <td id=\"T_e61b3bab_05ef_11ea_a6fb_107b449f15fcrow5_col0\" class=\"data row5 col0\" >0.00391</td>\n",
       "            </tr>\n",
       "            <tr>\n",
       "                        <th id=\"T_e61b3bab_05ef_11ea_a6fb_107b449f15fclevel0_row6\" class=\"row_heading level0 row6\" >должный</th>\n",
       "                        <td id=\"T_e61b3bab_05ef_11ea_a6fb_107b449f15fcrow6_col0\" class=\"data row6 col0\" >0.00367</td>\n",
       "            </tr>\n",
       "            <tr>\n",
       "                        <th id=\"T_e61b3bab_05ef_11ea_a6fb_107b449f15fclevel0_row7\" class=\"row_heading level0 row7\" >поведение</th>\n",
       "                        <td id=\"T_e61b3bab_05ef_11ea_a6fb_107b449f15fcrow7_col0\" class=\"data row7 col0\" >0.00364</td>\n",
       "            </tr>\n",
       "            <tr>\n",
       "                        <th id=\"T_e61b3bab_05ef_11ea_a6fb_107b449f15fclevel0_row8\" class=\"row_heading level0 row8\" >компания</th>\n",
       "                        <td id=\"T_e61b3bab_05ef_11ea_a6fb_107b449f15fcrow8_col0\" class=\"data row8 col0\" >0.00331</td>\n",
       "            </tr>\n",
       "            <tr>\n",
       "                        <th id=\"T_e61b3bab_05ef_11ea_a6fb_107b449f15fclevel0_row9\" class=\"row_heading level0 row9\" >теория</th>\n",
       "                        <td id=\"T_e61b3bab_05ef_11ea_a6fb_107b449f15fcrow9_col0\" class=\"data row9 col0\" >0.00319</td>\n",
       "            </tr>\n",
       "    </tbody></table>"
      ]
     },
     "metadata": {},
     "output_type": "display_data"
    },
    {
     "data": {
      "text/html": [
       "<b> главыбедность и ребенок до появления на свет </b><br /> отрывок из книги «бедность и развитие ребенка» о том, как социальное неблагополучие влияет на разные аспекты развития ребенка"
      ]
     },
     "metadata": {},
     "output_type": "display_data"
    },
    {
     "data": {
      "text/html": [
       "<b> понятие поведенческой экономики </b><br /> экономист ксения паниди об идее рациональности, влиянии эмоций на поведение и когнитивных причинах экономических решений"
      ]
     },
     "metadata": {},
     "output_type": "display_data"
    },
    {
     "data": {
      "text/html": [
       "<b> главыискаженная демократия </b><br /> отрывок из книги «искаженная демократия» политолога нади урбинати об индивидуальной свободе, открытости политической игры и демократической легитимности"
      ]
     },
     "metadata": {},
     "output_type": "display_data"
    },
    {
     "data": {
      "text/html": [
       "<b> василий ключарев«особенности нашего экономического поведения можно объяснить дизайном мозга» </b><br /> о мозговых механизмах процесса принятия решения и влиянии рекламы на выбор покупателя"
      ]
     },
     "metadata": {},
     "output_type": "display_data"
    },
    {
     "data": {
      "text/html": [
       "<b> субботний интенсив «общая и специальная теория относительности» </b><br /> 2 апреля с 12:00 до 19:00 в академии постнауки"
      ]
     },
     "metadata": {},
     "output_type": "display_data"
    },
    {
     "data": {
      "text/html": [
       "<b> главыот механики ньютона до электродинамики максвелла </b><br /> отрывок из книги «гравитация» физика александра петрова о понимании места механики и электродинамики в общей физической картине мира на рубеже xix и xx веков"
      ]
     },
     "metadata": {},
     "output_type": "display_data"
    },
    {
     "data": {
      "text/html": [
       "<b> экономика соблазна </b><br /> экономист ксения паниди о теории перспектив, иллюзии невозвратных потерь и поведении людей в ситуации неопределенности"
      ]
     },
     "metadata": {},
     "output_type": "display_data"
    },
    {
     "data": {
      "text/html": [
       "<b> faqдизайн экономических механизмов </b><br /> 7 фактов о поиске взаимно-оптимальных стратегий при решении экономических игр"
      ]
     },
     "metadata": {},
     "output_type": "display_data"
    },
    {
     "data": {
      "text/html": [
       "<b> «мы не замечаем, сколь многого мы не замечаем» </b><br /> интервью с психологом марией фаликман о когнитивных науках, великой иллюзии сознания и  кратковременной памяти"
      ]
     },
     "metadata": {},
     "output_type": "display_data"
    },
    {
     "data": {
      "text/html": [
       "<b> гендерные особенности инсомнии </b><br /> сомнолог михаил полуэктов о различиях инсомнии мужчин и женщин, социальных рисках бессонницы и проявлениях сонных расстройств при неврозах"
      ]
     },
     "metadata": {},
     "output_type": "display_data"
    },
    {
     "data": {
      "text/html": [
       "<style  type=\"text/css\" >\n",
       "</style><table id=\"T_e61b3bac_05ef_11ea_a6fb_107b449f15fc\" style='display:inline'><thead>    <tr>        <th class=\"blank level0\" ></th>        <th class=\"col_heading level0 col0\" >topic_18 @2gramm</th>    </tr></thead><tbody>\n",
       "                <tr>\n",
       "                        <th id=\"T_e61b3bac_05ef_11ea_a6fb_107b449f15fclevel0_row0\" class=\"row_heading level0 row0\" >русский_язык</th>\n",
       "                        <td id=\"T_e61b3bac_05ef_11ea_a6fb_107b449f15fcrow0_col0\" class=\"data row0 col0\" >0.06625</td>\n",
       "            </tr>\n",
       "            <tr>\n",
       "                        <th id=\"T_e61b3bac_05ef_11ea_a6fb_107b449f15fclevel0_row1\" class=\"row_heading level0 row1\" >литературный_язык</th>\n",
       "                        <td id=\"T_e61b3bac_05ef_11ea_a6fb_107b449f15fcrow1_col0\" class=\"data row1 col0\" >0.01105</td>\n",
       "            </tr>\n",
       "            <tr>\n",
       "                        <th id=\"T_e61b3bac_05ef_11ea_a6fb_107b449f15fclevel0_row2\" class=\"row_heading level0 row2\" >дискурсивный_слово</th>\n",
       "                        <td id=\"T_e61b3bac_05ef_11ea_a6fb_107b449f15fcrow2_col0\" class=\"data row2 col0\" >0.01034</td>\n",
       "            </tr>\n",
       "            <tr>\n",
       "                        <th id=\"T_e61b3bac_05ef_11ea_a6fb_107b449f15fclevel0_row3\" class=\"row_heading level0 row3\" >английский_язык</th>\n",
       "                        <td id=\"T_e61b3bac_05ef_11ea_a6fb_107b449f15fcrow3_col0\" class=\"data row3 col0\" >0.00875</td>\n",
       "            </tr>\n",
       "            <tr>\n",
       "                        <th id=\"T_e61b3bac_05ef_11ea_a6fb_107b449f15fclevel0_row4\" class=\"row_heading level0 row4\" >древний_русь</th>\n",
       "                        <td id=\"T_e61b3bac_05ef_11ea_a6fb_107b449f15fcrow4_col0\" class=\"data row4 col0\" >0.00824</td>\n",
       "            </tr>\n",
       "            <tr>\n",
       "                        <th id=\"T_e61b3bac_05ef_11ea_a6fb_107b449f15fclevel0_row5\" class=\"row_heading level0 row5\" >христианский_имя</th>\n",
       "                        <td id=\"T_e61b3bac_05ef_11ea_a6fb_107b449f15fcrow5_col0\" class=\"data row5 col0\" >0.0073</td>\n",
       "            </tr>\n",
       "            <tr>\n",
       "                        <th id=\"T_e61b3bac_05ef_11ea_a6fb_107b449f15fclevel0_row6\" class=\"row_heading level0 row6\" >русский_князь</th>\n",
       "                        <td id=\"T_e61b3bac_05ef_11ea_a6fb_107b449f15fcrow6_col0\" class=\"data row6 col0\" >0.00703</td>\n",
       "            </tr>\n",
       "            <tr>\n",
       "                        <th id=\"T_e61b3bac_05ef_11ea_a6fb_107b449f15fclevel0_row7\" class=\"row_heading level0 row7\" >древнерусский_язык</th>\n",
       "                        <td id=\"T_e61b3bac_05ef_11ea_a6fb_107b449f15fcrow7_col0\" class=\"data row7 col0\" >0.0066</td>\n",
       "            </tr>\n",
       "            <tr>\n",
       "                        <th id=\"T_e61b3bac_05ef_11ea_a6fb_107b449f15fclevel0_row8\" class=\"row_heading level0 row8\" >германский_язык</th>\n",
       "                        <td id=\"T_e61b3bac_05ef_11ea_a6fb_107b449f15fcrow8_col0\" class=\"data row8 col0\" >0.00659</td>\n",
       "            </tr>\n",
       "            <tr>\n",
       "                        <th id=\"T_e61b3bac_05ef_11ea_a6fb_107b449f15fclevel0_row9\" class=\"row_heading level0 row9\" >множественный_число</th>\n",
       "                        <td id=\"T_e61b3bac_05ef_11ea_a6fb_107b449f15fcrow9_col0\" class=\"data row9 col0\" >0.00617</td>\n",
       "            </tr>\n",
       "    </tbody></table><style  type=\"text/css\" >\n",
       "</style><table id=\"T_e61b3bad_05ef_11ea_a6fb_107b449f15fc\" style='display:inline'><thead>    <tr>        <th class=\"blank level0\" ></th>        <th class=\"col_heading level0 col0\" >topic_18 @3gramm</th>    </tr></thead><tbody>\n",
       "                <tr>\n",
       "                        <th id=\"T_e61b3bad_05ef_11ea_a6fb_107b449f15fclevel0_row0\" class=\"row_heading level0 row0\" >носитель_русский_язык</th>\n",
       "                        <td id=\"T_e61b3bad_05ef_11ea_a6fb_107b449f15fcrow0_col0\" class=\"data row0 col0\" >0.12777</td>\n",
       "            </tr>\n",
       "            <tr>\n",
       "                        <th id=\"T_e61b3bad_05ef_11ea_a6fb_107b449f15fclevel0_row1\" class=\"row_heading level0 row1\" >современный_русский_язык</th>\n",
       "                        <td id=\"T_e61b3bad_05ef_11ea_a6fb_107b449f15fcrow1_col0\" class=\"data row1 col0\" >0.12774</td>\n",
       "            </tr>\n",
       "            <tr>\n",
       "                        <th id=\"T_e61b3bad_05ef_11ea_a6fb_107b449f15fclevel0_row2\" class=\"row_heading level0 row2\" >начало_xvii_век</th>\n",
       "                        <td id=\"T_e61b3bad_05ef_11ea_a6fb_107b449f15fcrow2_col0\" class=\"data row2 col0\" >0.11053</td>\n",
       "            </tr>\n",
       "            <tr>\n",
       "                        <th id=\"T_e61b3bad_05ef_11ea_a6fb_107b449f15fclevel0_row3\" class=\"row_heading level0 row3\" >словарь_русский_язык</th>\n",
       "                        <td id=\"T_e61b3bad_05ef_11ea_a6fb_107b449f15fcrow3_col0\" class=\"data row3 col0\" >0.08518</td>\n",
       "            </tr>\n",
       "            <tr>\n",
       "                        <th id=\"T_e61b3bad_05ef_11ea_a6fb_107b449f15fclevel0_row4\" class=\"row_heading level0 row4\" >язык_славянский_культура</th>\n",
       "                        <td id=\"T_e61b3bad_05ef_11ea_a6fb_107b449f15fcrow4_col0\" class=\"data row4 col0\" >0.06943</td>\n",
       "            </tr>\n",
       "            <tr>\n",
       "                        <th id=\"T_e61b3bad_05ef_11ea_a6fb_107b449f15fclevel0_row5\" class=\"row_heading level0 row5\" >русский_литературный_язык</th>\n",
       "                        <td id=\"T_e61b3bad_05ef_11ea_a6fb_107b449f15fcrow5_col0\" class=\"data row5 col0\" >0.06389</td>\n",
       "            </tr>\n",
       "            <tr>\n",
       "                        <th id=\"T_e61b3bad_05ef_11ea_a6fb_107b449f15fclevel0_row6\" class=\"row_heading level0 row6\" >вне_всякий_сомнение</th>\n",
       "                        <td id=\"T_e61b3bad_05ef_11ea_a6fb_107b449f15fcrow6_col0\" class=\"data row6 col0\" >0.06362</td>\n",
       "            </tr>\n",
       "            <tr>\n",
       "                        <th id=\"T_e61b3bad_05ef_11ea_a6fb_107b449f15fclevel0_row7\" class=\"row_heading level0 row7\" >глагол_совершенный_вид</th>\n",
       "                        <td id=\"T_e61b3bad_05ef_11ea_a6fb_107b449f15fcrow7_col0\" class=\"data row7 col0\" >0.04684</td>\n",
       "            </tr>\n",
       "            <tr>\n",
       "                        <th id=\"T_e61b3bad_05ef_11ea_a6fb_107b449f15fclevel0_row8\" class=\"row_heading level0 row8\" >институт_русский_язык</th>\n",
       "                        <td id=\"T_e61b3bad_05ef_11ea_a6fb_107b449f15fcrow8_col0\" class=\"data row8 col0\" >0.04257</td>\n",
       "            </tr>\n",
       "            <tr>\n",
       "                        <th id=\"T_e61b3bad_05ef_11ea_a6fb_107b449f15fclevel0_row9\" class=\"row_heading level0 row9\" >история_русский_язык</th>\n",
       "                        <td id=\"T_e61b3bad_05ef_11ea_a6fb_107b449f15fcrow9_col0\" class=\"data row9 col0\" >0.03404</td>\n",
       "            </tr>\n",
       "    </tbody></table><style  type=\"text/css\" >\n",
       "</style><table id=\"T_e61b3bae_05ef_11ea_a6fb_107b449f15fc\" style='display:inline'><thead>    <tr>        <th class=\"blank level0\" ></th>        <th class=\"col_heading level0 col0\" >topic_18 @post_tag</th>    </tr></thead><tbody>\n",
       "                <tr>\n",
       "                        <th id=\"T_e61b3bae_05ef_11ea_a6fb_107b449f15fclevel0_row0\" class=\"row_heading level0 row0\" >филология</th>\n",
       "                        <td id=\"T_e61b3bae_05ef_11ea_a6fb_107b449f15fcrow0_col0\" class=\"data row0 col0\" >0.18401</td>\n",
       "            </tr>\n",
       "            <tr>\n",
       "                        <th id=\"T_e61b3bae_05ef_11ea_a6fb_107b449f15fclevel0_row1\" class=\"row_heading level0 row1\" >русский_язык</th>\n",
       "                        <td id=\"T_e61b3bae_05ef_11ea_a6fb_107b449f15fcrow1_col0\" class=\"data row1 col0\" >0.12534</td>\n",
       "            </tr>\n",
       "            <tr>\n",
       "                        <th id=\"T_e61b3bae_05ef_11ea_a6fb_107b449f15fclevel0_row2\" class=\"row_heading level0 row2\" >язык</th>\n",
       "                        <td id=\"T_e61b3bae_05ef_11ea_a6fb_107b449f15fcrow2_col0\" class=\"data row2 col0\" >0.11038</td>\n",
       "            </tr>\n",
       "            <tr>\n",
       "                        <th id=\"T_e61b3bae_05ef_11ea_a6fb_107b449f15fclevel0_row3\" class=\"row_heading level0 row3\" >лингвистика</th>\n",
       "                        <td id=\"T_e61b3bae_05ef_11ea_a6fb_107b449f15fcrow3_col0\" class=\"data row3 col0\" >0.08957</td>\n",
       "            </tr>\n",
       "            <tr>\n",
       "                        <th id=\"T_e61b3bae_05ef_11ea_a6fb_107b449f15fclevel0_row4\" class=\"row_heading level0 row4\" >русь</th>\n",
       "                        <td id=\"T_e61b3bae_05ef_11ea_a6fb_107b449f15fcrow4_col0\" class=\"data row4 col0\" >0.0493</td>\n",
       "            </tr>\n",
       "            <tr>\n",
       "                        <th id=\"T_e61b3bae_05ef_11ea_a6fb_107b449f15fclevel0_row5\" class=\"row_heading level0 row5\" >речь</th>\n",
       "                        <td id=\"T_e61b3bae_05ef_11ea_a6fb_107b449f15fcrow5_col0\" class=\"data row5 col0\" >0.03139</td>\n",
       "            </tr>\n",
       "            <tr>\n",
       "                        <th id=\"T_e61b3bae_05ef_11ea_a6fb_107b449f15fclevel0_row6\" class=\"row_heading level0 row6\" >грамматика</th>\n",
       "                        <td id=\"T_e61b3bae_05ef_11ea_a6fb_107b449f15fcrow6_col0\" class=\"data row6 col0\" >0.0241</td>\n",
       "            </tr>\n",
       "            <tr>\n",
       "                        <th id=\"T_e61b3bae_05ef_11ea_a6fb_107b449f15fclevel0_row7\" class=\"row_heading level0 row7\" >лексика</th>\n",
       "                        <td id=\"T_e61b3bae_05ef_11ea_a6fb_107b449f15fcrow7_col0\" class=\"data row7 col0\" >0.02009</td>\n",
       "            </tr>\n",
       "            <tr>\n",
       "                        <th id=\"T_e61b3bae_05ef_11ea_a6fb_107b449f15fclevel0_row8\" class=\"row_heading level0 row8\" >литература</th>\n",
       "                        <td id=\"T_e61b3bae_05ef_11ea_a6fb_107b449f15fcrow8_col0\" class=\"data row8 col0\" >0.01791</td>\n",
       "            </tr>\n",
       "            <tr>\n",
       "                        <th id=\"T_e61b3bae_05ef_11ea_a6fb_107b449f15fclevel0_row9\" class=\"row_heading level0 row9\" >словарь</th>\n",
       "                        <td id=\"T_e61b3bae_05ef_11ea_a6fb_107b449f15fcrow9_col0\" class=\"data row9 col0\" >0.01705</td>\n",
       "            </tr>\n",
       "    </tbody></table><style  type=\"text/css\" >\n",
       "</style><table id=\"T_e61b3baf_05ef_11ea_a6fb_107b449f15fc\" style='display:inline'><thead>    <tr>        <th class=\"blank level0\" ></th>        <th class=\"col_heading level0 col0\" >topic_18 @word</th>    </tr></thead><tbody>\n",
       "                <tr>\n",
       "                        <th id=\"T_e61b3baf_05ef_11ea_a6fb_107b449f15fclevel0_row0\" class=\"row_heading level0 row0\" >слово</th>\n",
       "                        <td id=\"T_e61b3baf_05ef_11ea_a6fb_107b449f15fcrow0_col0\" class=\"data row0 col0\" >0.01676</td>\n",
       "            </tr>\n",
       "            <tr>\n",
       "                        <th id=\"T_e61b3baf_05ef_11ea_a6fb_107b449f15fclevel0_row1\" class=\"row_heading level0 row1\" >язык</th>\n",
       "                        <td id=\"T_e61b3baf_05ef_11ea_a6fb_107b449f15fcrow1_col0\" class=\"data row1 col0\" >0.01236</td>\n",
       "            </tr>\n",
       "            <tr>\n",
       "                        <th id=\"T_e61b3baf_05ef_11ea_a6fb_107b449f15fclevel0_row2\" class=\"row_heading level0 row2\" >говорить</th>\n",
       "                        <td id=\"T_e61b3baf_05ef_11ea_a6fb_107b449f15fcrow2_col0\" class=\"data row2 col0\" >0.00577</td>\n",
       "            </tr>\n",
       "            <tr>\n",
       "                        <th id=\"T_e61b3baf_05ef_11ea_a6fb_107b449f15fclevel0_row3\" class=\"row_heading level0 row3\" >текст</th>\n",
       "                        <td id=\"T_e61b3baf_05ef_11ea_a6fb_107b449f15fcrow3_col0\" class=\"data row3 col0\" >0.00571</td>\n",
       "            </tr>\n",
       "            <tr>\n",
       "                        <th id=\"T_e61b3baf_05ef_11ea_a6fb_107b449f15fclevel0_row4\" class=\"row_heading level0 row4\" >русский</th>\n",
       "                        <td id=\"T_e61b3baf_05ef_11ea_a6fb_107b449f15fcrow4_col0\" class=\"data row4 col0\" >0.00558</td>\n",
       "            </tr>\n",
       "            <tr>\n",
       "                        <th id=\"T_e61b3baf_05ef_11ea_a6fb_107b449f15fclevel0_row5\" class=\"row_heading level0 row5\" >имя</th>\n",
       "                        <td id=\"T_e61b3baf_05ef_11ea_a6fb_107b449f15fcrow5_col0\" class=\"data row5 col0\" >0.00492</td>\n",
       "            </tr>\n",
       "            <tr>\n",
       "                        <th id=\"T_e61b3baf_05ef_11ea_a6fb_107b449f15fclevel0_row6\" class=\"row_heading level0 row6\" >знать</th>\n",
       "                        <td id=\"T_e61b3baf_05ef_11ea_a6fb_107b449f15fcrow6_col0\" class=\"data row6 col0\" >0.00457</td>\n",
       "            </tr>\n",
       "            <tr>\n",
       "                        <th id=\"T_e61b3baf_05ef_11ea_a6fb_107b449f15fclevel0_row7\" class=\"row_heading level0 row7\" >словарь</th>\n",
       "                        <td id=\"T_e61b3baf_05ef_11ea_a6fb_107b449f15fcrow7_col0\" class=\"data row7 col0\" >0.00442</td>\n",
       "            </tr>\n",
       "            <tr>\n",
       "                        <th id=\"T_e61b3baf_05ef_11ea_a6fb_107b449f15fclevel0_row8\" class=\"row_heading level0 row8\" >глагол</th>\n",
       "                        <td id=\"T_e61b3baf_05ef_11ea_a6fb_107b449f15fcrow8_col0\" class=\"data row8 col0\" >0.00431</td>\n",
       "            </tr>\n",
       "            <tr>\n",
       "                        <th id=\"T_e61b3baf_05ef_11ea_a6fb_107b449f15fclevel0_row9\" class=\"row_heading level0 row9\" >значение</th>\n",
       "                        <td id=\"T_e61b3baf_05ef_11ea_a6fb_107b449f15fcrow9_col0\" class=\"data row9 col0\" >0.00375</td>\n",
       "            </tr>\n",
       "    </tbody></table>"
      ]
     },
     "metadata": {},
     "output_type": "display_data"
    },
    {
     "data": {
      "text/html": [
       "<b> «глагольный вид является едва ли не самым сложным для изучения» </b><br /> интервью с лингвистом алексеем шмелевым о предмете изучения аспектологии, ошибках в употреблении глаголов и сложностях русской грамматики"
      ]
     },
     "metadata": {},
     "output_type": "display_data"
    },
    {
     "data": {
      "text/html": [
       "<b> русский диалектный консонантизм </b><br /> лингвист игорь исаев о твердости/мягкости согласных, особенностях артикуляции в говорах и методах фонетического анализа речи"
      ]
     },
     "metadata": {},
     "output_type": "display_data"
    },
    {
     "data": {
      "text/html": [
       "<b> двувидовые глаголы </b><br /> лингвист александр пиперски об особенностях глаголов совершенного и несовершенного вида, интеграции в русский язык заимствованных глаголов и видовых противоречиях в русских словарях"
      ]
     },
     "metadata": {},
     "output_type": "display_data"
    },
    {
     "data": {
      "text/html": [
       "<b> гласные русского языка </b><br /> лингвист игорь исаев об истории гласных в литературном языке, следах утраченных букв и особенностях говоров"
      ]
     },
     "metadata": {},
     "output_type": "display_data"
    },
    {
     "data": {
      "text/html": [
       "<b> faqударение на предлог </b><br /> 7 фактов о системе ударений и памяти языка в поэтической традиции"
      ]
     },
     "metadata": {},
     "output_type": "display_data"
    },
    {
     "data": {
      "text/html": [
       "<b> «один из самых коротких рассказов в истории человечества — знаменитые слова юлия цезаря “пришел, увидел, победил”» </b><br /> интервью с лингвистом мирой бергельсон о лингвистическом анализе рассказа, его роли в коммуникации и языковой норме"
      ]
     },
     "metadata": {},
     "output_type": "display_data"
    },
    {
     "data": {
      "text/html": [
       "<b> «диалектные черты имеют глубокую историю, но до сих пор сохраняются носителями, живущими в деревнях» </b><br /> интервью с лингвистом игорем исаевым о диалектных особенностях северного наречия русского языка"
      ]
     },
     "metadata": {},
     "output_type": "display_data"
    },
    {
     "data": {
      "text/html": [
       "<b> стелла цейтлин«ни одна детская речевая инновация не является случайной» </b><br /> интервью с лингвистом о процессе освоения языка детьми, онтолингвистике и современных исследованиях"
      ]
     },
     "metadata": {},
     "output_type": "display_data"
    },
    {
     "data": {
      "text/html": [
       "<b> научная классификация и естественный языкпроблема орехов </b><br /> лингвист борис иомдин о бытовом и словарном определении «орехов» и формировании нового класса слов"
      ]
     },
     "metadata": {},
     "output_type": "display_data"
    },
    {
     "data": {
      "text/html": [
       "<b> теория фразеологии </b><br /> лингвист анатолий баранов о типах фразеологизмов, задачах фразеографии и ментальном лексиконе человека"
      ]
     },
     "metadata": {},
     "output_type": "display_data"
    },
    {
     "data": {
      "text/html": [
       "<style  type=\"text/css\" >\n",
       "</style><table id=\"T_e61b3bb0_05ef_11ea_a6fb_107b449f15fc\" style='display:inline'><thead>    <tr>        <th class=\"blank level0\" ></th>        <th class=\"col_heading level0 col0\" >topic_19 @2gramm</th>    </tr></thead><tbody>\n",
       "                <tr>\n",
       "                        <th id=\"T_e61b3bb0_05ef_11ea_a6fb_107b449f15fclevel0_row0\" class=\"row_heading level0 row0\" >средний_век</th>\n",
       "                        <td id=\"T_e61b3bb0_05ef_11ea_a6fb_107b449f15fcrow0_col0\" class=\"data row0 col0\" >0.0238</td>\n",
       "            </tr>\n",
       "            <tr>\n",
       "                        <th id=\"T_e61b3bb0_05ef_11ea_a6fb_107b449f15fclevel0_row1\" class=\"row_heading level0 row1\" >xiii_век</th>\n",
       "                        <td id=\"T_e61b3bb0_05ef_11ea_a6fb_107b449f15fcrow1_col0\" class=\"data row1 col0\" >0.01247</td>\n",
       "            </tr>\n",
       "            <tr>\n",
       "                        <th id=\"T_e61b3bb0_05ef_11ea_a6fb_107b449f15fclevel0_row2\" class=\"row_heading level0 row2\" >xii_век</th>\n",
       "                        <td id=\"T_e61b3bb0_05ef_11ea_a6fb_107b449f15fcrow2_col0\" class=\"data row2 col0\" >0.01107</td>\n",
       "            </tr>\n",
       "            <tr>\n",
       "                        <th id=\"T_e61b3bb0_05ef_11ea_a6fb_107b449f15fclevel0_row3\" class=\"row_heading level0 row3\" >xvi_век</th>\n",
       "                        <td id=\"T_e61b3bb0_05ef_11ea_a6fb_107b449f15fcrow3_col0\" class=\"data row3 col0\" >0.0109</td>\n",
       "            </tr>\n",
       "            <tr>\n",
       "                        <th id=\"T_e61b3bb0_05ef_11ea_a6fb_107b449f15fclevel0_row4\" class=\"row_heading level0 row4\" >католический_церковь</th>\n",
       "                        <td id=\"T_e61b3bb0_05ef_11ea_a6fb_107b449f15fcrow4_col0\" class=\"data row4 col0\" >0.01028</td>\n",
       "            </tr>\n",
       "            <tr>\n",
       "                        <th id=\"T_e61b3bb0_05ef_11ea_a6fb_107b449f15fclevel0_row5\" class=\"row_heading level0 row5\" >xvii_век</th>\n",
       "                        <td id=\"T_e61b3bb0_05ef_11ea_a6fb_107b449f15fcrow5_col0\" class=\"data row5 col0\" >0.00833</td>\n",
       "            </tr>\n",
       "            <tr>\n",
       "                        <th id=\"T_e61b3bb0_05ef_11ea_a6fb_107b449f15fclevel0_row6\" class=\"row_heading level0 row6\" >фома_аквинский</th>\n",
       "                        <td id=\"T_e61b3bb0_05ef_11ea_a6fb_107b449f15fcrow6_col0\" class=\"data row6 col0\" >0.00768</td>\n",
       "            </tr>\n",
       "            <tr>\n",
       "                        <th id=\"T_e61b3bb0_05ef_11ea_a6fb_107b449f15fclevel0_row7\" class=\"row_heading level0 row7\" >xv_век</th>\n",
       "                        <td id=\"T_e61b3bb0_05ef_11ea_a6fb_107b449f15fcrow7_col0\" class=\"data row7 col0\" >0.00708</td>\n",
       "            </tr>\n",
       "            <tr>\n",
       "                        <th id=\"T_e61b3bb0_05ef_11ea_a6fb_107b449f15fclevel0_row8\" class=\"row_heading level0 row8\" >священный_писание</th>\n",
       "                        <td id=\"T_e61b3bb0_05ef_11ea_a6fb_107b449f15fcrow8_col0\" class=\"data row8 col0\" >0.00647</td>\n",
       "            </tr>\n",
       "            <tr>\n",
       "                        <th id=\"T_e61b3bb0_05ef_11ea_a6fb_107b449f15fclevel0_row9\" class=\"row_heading level0 row9\" >королевский_власть</th>\n",
       "                        <td id=\"T_e61b3bb0_05ef_11ea_a6fb_107b449f15fcrow9_col0\" class=\"data row9 col0\" >0.0056</td>\n",
       "            </tr>\n",
       "    </tbody></table><style  type=\"text/css\" >\n",
       "</style><table id=\"T_e61b3bb1_05ef_11ea_a6fb_107b449f15fc\" style='display:inline'><thead>    <tr>        <th class=\"blank level0\" ></th>        <th class=\"col_heading level0 col0\" >topic_19 @3gramm</th>    </tr></thead><tbody>\n",
       "                <tr>\n",
       "                        <th id=\"T_e61b3bb1_05ef_11ea_a6fb_107b449f15fclevel0_row0\" class=\"row_heading level0 row0\" >половина_xix_век</th>\n",
       "                        <td id=\"T_e61b3bb1_05ef_11ea_a6fb_107b449f15fcrow0_col0\" class=\"data row0 col0\" >0.27302</td>\n",
       "            </tr>\n",
       "            <tr>\n",
       "                        <th id=\"T_e61b3bb1_05ef_11ea_a6fb_107b449f15fclevel0_row1\" class=\"row_heading level0 row1\" >немецкий_классический_философия</th>\n",
       "                        <td id=\"T_e61b3bb1_05ef_11ea_a6fb_107b449f15fcrow1_col0\" class=\"data row1 col0\" >0.13149</td>\n",
       "            </tr>\n",
       "            <tr>\n",
       "                        <th id=\"T_e61b3bb1_05ef_11ea_a6fb_107b449f15fclevel0_row2\" class=\"row_heading level0 row2\" >конец_xvi_век</th>\n",
       "                        <td id=\"T_e61b3bb1_05ef_11ea_a6fb_107b449f15fcrow2_col0\" class=\"data row2 col0\" >0.06571</td>\n",
       "            </tr>\n",
       "            <tr>\n",
       "                        <th id=\"T_e61b3bb1_05ef_11ea_a6fb_107b449f15fclevel0_row3\" class=\"row_heading level0 row3\" >начало_xii_век</th>\n",
       "                        <td id=\"T_e61b3bb1_05ef_11ea_a6fb_107b449f15fcrow3_col0\" class=\"data row3 col0\" >0.05556</td>\n",
       "            </tr>\n",
       "            <tr>\n",
       "                        <th id=\"T_e61b3bb1_05ef_11ea_a6fb_107b449f15fclevel0_row4\" class=\"row_heading level0 row4\" >начало_xiii_век</th>\n",
       "                        <td id=\"T_e61b3bb1_05ef_11ea_a6fb_107b449f15fcrow4_col0\" class=\"data row4 col0\" >0.04548</td>\n",
       "            </tr>\n",
       "            <tr>\n",
       "                        <th id=\"T_e61b3bb1_05ef_11ea_a6fb_107b449f15fclevel0_row5\" class=\"row_heading level0 row5\" >великий_хартия_вольность</th>\n",
       "                        <td id=\"T_e61b3bb1_05ef_11ea_a6fb_107b449f15fcrow5_col0\" class=\"data row5 col0\" >0.04539</td>\n",
       "            </tr>\n",
       "            <tr>\n",
       "                        <th id=\"T_e61b3bb1_05ef_11ea_a6fb_107b449f15fclevel0_row6\" class=\"row_heading level0 row6\" >конец_xv_век</th>\n",
       "                        <td id=\"T_e61b3bb1_05ef_11ea_a6fb_107b449f15fcrow6_col0\" class=\"data row6 col0\" >0.04536</td>\n",
       "            </tr>\n",
       "            <tr>\n",
       "                        <th id=\"T_e61b3bb1_05ef_11ea_a6fb_107b449f15fclevel0_row7\" class=\"row_heading level0 row7\" >уделять_большой_внимание</th>\n",
       "                        <td id=\"T_e61b3bb1_05ef_11ea_a6fb_107b449f15fcrow7_col0\" class=\"data row7 col0\" >0.03539</td>\n",
       "            </tr>\n",
       "            <tr>\n",
       "                        <th id=\"T_e61b3bb1_05ef_11ea_a6fb_107b449f15fclevel0_row8\" class=\"row_heading level0 row8\" >жак_ле_гофф</th>\n",
       "                        <td id=\"T_e61b3bb1_05ef_11ea_a6fb_107b449f15fcrow8_col0\" class=\"data row8 col0\" >0.03536</td>\n",
       "            </tr>\n",
       "            <tr>\n",
       "                        <th id=\"T_e61b3bb1_05ef_11ea_a6fb_107b449f15fclevel0_row9\" class=\"row_heading level0 row9\" >средний_продолжительность_жизнь</th>\n",
       "                        <td id=\"T_e61b3bb1_05ef_11ea_a6fb_107b449f15fcrow9_col0\" class=\"data row9 col0\" >0.03522</td>\n",
       "            </tr>\n",
       "    </tbody></table><style  type=\"text/css\" >\n",
       "</style><table id=\"T_e61b3bb2_05ef_11ea_a6fb_107b449f15fc\" style='display:inline'><thead>    <tr>        <th class=\"blank level0\" ></th>        <th class=\"col_heading level0 col0\" >topic_19 @post_tag</th>    </tr></thead><tbody>\n",
       "                <tr>\n",
       "                        <th id=\"T_e61b3bb2_05ef_11ea_a6fb_107b449f15fclevel0_row0\" class=\"row_heading level0 row0\" >средневековье</th>\n",
       "                        <td id=\"T_e61b3bb2_05ef_11ea_a6fb_107b449f15fcrow0_col0\" class=\"data row0 col0\" >0.15762</td>\n",
       "            </tr>\n",
       "            <tr>\n",
       "                        <th id=\"T_e61b3bb2_05ef_11ea_a6fb_107b449f15fclevel0_row1\" class=\"row_heading level0 row1\" >христианство</th>\n",
       "                        <td id=\"T_e61b3bb2_05ef_11ea_a6fb_107b449f15fcrow1_col0\" class=\"data row1 col0\" >0.12935</td>\n",
       "            </tr>\n",
       "            <tr>\n",
       "                        <th id=\"T_e61b3bb2_05ef_11ea_a6fb_107b449f15fclevel0_row2\" class=\"row_heading level0 row2\" >история</th>\n",
       "                        <td id=\"T_e61b3bb2_05ef_11ea_a6fb_107b449f15fcrow2_col0\" class=\"data row2 col0\" >0.11556</td>\n",
       "            </tr>\n",
       "            <tr>\n",
       "                        <th id=\"T_e61b3bb2_05ef_11ea_a6fb_107b449f15fclevel0_row3\" class=\"row_heading level0 row3\" >европа</th>\n",
       "                        <td id=\"T_e61b3bb2_05ef_11ea_a6fb_107b449f15fcrow3_col0\" class=\"data row3 col0\" >0.07375</td>\n",
       "            </tr>\n",
       "            <tr>\n",
       "                        <th id=\"T_e61b3bb2_05ef_11ea_a6fb_107b449f15fclevel0_row4\" class=\"row_heading level0 row4\" >религия</th>\n",
       "                        <td id=\"T_e61b3bb2_05ef_11ea_a6fb_107b449f15fcrow4_col0\" class=\"data row4 col0\" >0.05441</td>\n",
       "            </tr>\n",
       "            <tr>\n",
       "                        <th id=\"T_e61b3bb2_05ef_11ea_a6fb_107b449f15fclevel0_row5\" class=\"row_heading level0 row5\" >католицизм</th>\n",
       "                        <td id=\"T_e61b3bb2_05ef_11ea_a6fb_107b449f15fcrow5_col0\" class=\"data row5 col0\" >0.03942</td>\n",
       "            </tr>\n",
       "            <tr>\n",
       "                        <th id=\"T_e61b3bb2_05ef_11ea_a6fb_107b449f15fclevel0_row6\" class=\"row_heading level0 row6\" >власть</th>\n",
       "                        <td id=\"T_e61b3bb2_05ef_11ea_a6fb_107b449f15fcrow6_col0\" class=\"data row6 col0\" >0.02882</td>\n",
       "            </tr>\n",
       "            <tr>\n",
       "                        <th id=\"T_e61b3bb2_05ef_11ea_a6fb_107b449f15fclevel0_row7\" class=\"row_heading level0 row7\" >медиевистика</th>\n",
       "                        <td id=\"T_e61b3bb2_05ef_11ea_a6fb_107b449f15fcrow7_col0\" class=\"data row7 col0\" >0.02344</td>\n",
       "            </tr>\n",
       "            <tr>\n",
       "                        <th id=\"T_e61b3bb2_05ef_11ea_a6fb_107b449f15fclevel0_row8\" class=\"row_heading level0 row8\" >инквизиция</th>\n",
       "                        <td id=\"T_e61b3bb2_05ef_11ea_a6fb_107b449f15fcrow8_col0\" class=\"data row8 col0\" >0.02341</td>\n",
       "            </tr>\n",
       "            <tr>\n",
       "                        <th id=\"T_e61b3bb2_05ef_11ea_a6fb_107b449f15fclevel0_row9\" class=\"row_heading level0 row9\" >англия</th>\n",
       "                        <td id=\"T_e61b3bb2_05ef_11ea_a6fb_107b449f15fcrow9_col0\" class=\"data row9 col0\" >0.02106</td>\n",
       "            </tr>\n",
       "    </tbody></table><style  type=\"text/css\" >\n",
       "</style><table id=\"T_e61b3bb3_05ef_11ea_a6fb_107b449f15fc\" style='display:inline'><thead>    <tr>        <th class=\"blank level0\" ></th>        <th class=\"col_heading level0 col0\" >topic_19 @word</th>    </tr></thead><tbody>\n",
       "                <tr>\n",
       "                        <th id=\"T_e61b3bb3_05ef_11ea_a6fb_107b449f15fclevel0_row0\" class=\"row_heading level0 row0\" >церковь</th>\n",
       "                        <td id=\"T_e61b3bb3_05ef_11ea_a6fb_107b449f15fcrow0_col0\" class=\"data row0 col0\" >0.00578</td>\n",
       "            </tr>\n",
       "            <tr>\n",
       "                        <th id=\"T_e61b3bb3_05ef_11ea_a6fb_107b449f15fclevel0_row1\" class=\"row_heading level0 row1\" >власть</th>\n",
       "                        <td id=\"T_e61b3bb3_05ef_11ea_a6fb_107b449f15fcrow1_col0\" class=\"data row1 col0\" >0.00557</td>\n",
       "            </tr>\n",
       "            <tr>\n",
       "                        <th id=\"T_e61b3bb3_05ef_11ea_a6fb_107b449f15fclevel0_row2\" class=\"row_heading level0 row2\" >история</th>\n",
       "                        <td id=\"T_e61b3bb3_05ef_11ea_a6fb_107b449f15fcrow2_col0\" class=\"data row2 col0\" >0.00554</td>\n",
       "            </tr>\n",
       "            <tr>\n",
       "                        <th id=\"T_e61b3bb3_05ef_11ea_a6fb_107b449f15fclevel0_row3\" class=\"row_heading level0 row3\" >король</th>\n",
       "                        <td id=\"T_e61b3bb3_05ef_11ea_a6fb_107b449f15fcrow3_col0\" class=\"data row3 col0\" >0.00508</td>\n",
       "            </tr>\n",
       "            <tr>\n",
       "                        <th id=\"T_e61b3bb3_05ef_11ea_a6fb_107b449f15fclevel0_row4\" class=\"row_heading level0 row4\" >бог</th>\n",
       "                        <td id=\"T_e61b3bb3_05ef_11ea_a6fb_107b449f15fcrow4_col0\" class=\"data row4 col0\" >0.00393</td>\n",
       "            </tr>\n",
       "            <tr>\n",
       "                        <th id=\"T_e61b3bb3_05ef_11ea_a6fb_107b449f15fclevel0_row5\" class=\"row_heading level0 row5\" >средневековый</th>\n",
       "                        <td id=\"T_e61b3bb3_05ef_11ea_a6fb_107b449f15fcrow5_col0\" class=\"data row5 col0\" >0.0036</td>\n",
       "            </tr>\n",
       "            <tr>\n",
       "                        <th id=\"T_e61b3bb3_05ef_11ea_a6fb_107b449f15fclevel0_row6\" class=\"row_heading level0 row6\" >образ</th>\n",
       "                        <td id=\"T_e61b3bb3_05ef_11ea_a6fb_107b449f15fcrow6_col0\" class=\"data row6 col0\" >0.00354</td>\n",
       "            </tr>\n",
       "            <tr>\n",
       "                        <th id=\"T_e61b3bb3_05ef_11ea_a6fb_107b449f15fclevel0_row7\" class=\"row_heading level0 row7\" >имя</th>\n",
       "                        <td id=\"T_e61b3bb3_05ef_11ea_a6fb_107b449f15fcrow7_col0\" class=\"data row7 col0\" >0.00347</td>\n",
       "            </tr>\n",
       "            <tr>\n",
       "                        <th id=\"T_e61b3bb3_05ef_11ea_a6fb_107b449f15fclevel0_row8\" class=\"row_heading level0 row8\" >текст</th>\n",
       "                        <td id=\"T_e61b3bb3_05ef_11ea_a6fb_107b449f15fcrow8_col0\" class=\"data row8 col0\" >0.00337</td>\n",
       "            </tr>\n",
       "            <tr>\n",
       "                        <th id=\"T_e61b3bb3_05ef_11ea_a6fb_107b449f15fclevel0_row9\" class=\"row_heading level0 row9\" >историк</th>\n",
       "                        <td id=\"T_e61b3bb3_05ef_11ea_a6fb_107b449f15fcrow9_col0\" class=\"data row9 col0\" >0.00327</td>\n",
       "            </tr>\n",
       "    </tbody></table>"
      ]
     },
     "metadata": {},
     "output_type": "display_data"
    },
    {
     "data": {
      "text/html": [
       "<b> «ритуалы — это и есть власть» </b><br /> интервью с историком михаилом бойцовым об обряде средневековой коронации, практике помазания и статусе королевской власти в европе"
      ]
     },
     "metadata": {},
     "output_type": "display_data"
    },
    {
     "data": {
      "text/html": [
       "<b> автограф«меч христов. карл i анжуйский и становление запада» </b><br /> историк ярослав шимов о «сицилийской вечерне», значении крестовых походов и мировоззрении средневековых людей"
      ]
     },
     "metadata": {},
     "output_type": "display_data"
    },
    {
     "data": {
      "text/html": [
       "<b> faqнемецкая классическая философия как понятие </b><br /> 6 фактов о собраниях текстов, отцах-основателях и ошибочном представлении о понятии"
      ]
     },
     "metadata": {},
     "output_type": "display_data"
    },
    {
     "data": {
      "text/html": [
       "<b> faqсредневековая иудео-христианская полемика </b><br /> 7 фактов о развитии диалога между христианством и иудаизмом и публичных диспутах средневековья"
      ]
     },
     "metadata": {},
     "output_type": "display_data"
    },
    {
     "data": {
      "text/html": [
       "<b> политическая теология xiii–xiv веков </b><br /> историк александр марей о последователях фомы аквинского, типах монархической власти и соотношении духовного и мирского"
      ]
     },
     "metadata": {},
     "output_type": "display_data"
    },
    {
     "data": {
      "text/html": [
       "<b> мертвое тело правителя в средние века </b><br /> историк михаил бойцов о погребении средневековых государей, практиках сохранения их тел и концепции воскрешения"
      ]
     },
     "metadata": {},
     "output_type": "display_data"
    },
    {
     "data": {
      "text/html": [
       "<b> «главная загадка варфоломеевской ночикто стоял за покушением на адмирала колиньи» </b><br /> интервью с историком павлом уваровым о религиозных войнах в европе и событиях, предшествовавших варфоломеевской ночи"
      ]
     },
     "metadata": {},
     "output_type": "display_data"
    },
    {
     "data": {
      "text/html": [
       "<b> faqобразы инквизиции </b><br /> 5 фактов о вкладе инквизиторов в историческую науку, «черной легенде»  и использовании «инквизиции» в современном оппозиционном дискурсе"
      ]
     },
     "metadata": {},
     "output_type": "display_data"
    },
    {
     "data": {
      "text/html": [
       "<b> телесность власти в средние века </b><br /> историк михаил бойцов о качествах тела правителя, знаках власти и трупном синоде"
      ]
     },
     "metadata": {},
     "output_type": "display_data"
    },
    {
     "data": {
      "text/html": [
       "<b> политическая теология франсиско де витории </b><br /> историк александр марей о природе человека, двойственности королевской власти и восстании против тирана"
      ]
     },
     "metadata": {},
     "output_type": "display_data"
    },
    {
     "data": {
      "text/html": [
       "<style  type=\"text/css\" >\n",
       "</style><table id=\"T_e61b3bb4_05ef_11ea_a6fb_107b449f15fc\" style='display:inline'><thead>    <tr>        <th class=\"blank level0\" ></th>        <th class=\"col_heading level0 col0\" >topic_20 @2gramm</th>    </tr></thead><tbody>\n",
       "                <tr>\n",
       "                        <th id=\"T_e61b3bb4_05ef_11ea_a6fb_107b449f15fclevel0_row0\" class=\"row_heading level0 row0\" >искусственный_интеллект</th>\n",
       "                        <td id=\"T_e61b3bb4_05ef_11ea_a6fb_107b449f15fcrow0_col0\" class=\"data row0 col0\" >0.02765</td>\n",
       "            </tr>\n",
       "            <tr>\n",
       "                        <th id=\"T_e61b3bb4_05ef_11ea_a6fb_107b449f15fclevel0_row1\" class=\"row_heading level0 row1\" >нейронный_сеть</th>\n",
       "                        <td id=\"T_e61b3bb4_05ef_11ea_a6fb_107b449f15fcrow1_col0\" class=\"data row1 col0\" >0.02084</td>\n",
       "            </tr>\n",
       "            <tr>\n",
       "                        <th id=\"T_e61b3bb4_05ef_11ea_a6fb_107b449f15fclevel0_row2\" class=\"row_heading level0 row2\" >социальный_сеть</th>\n",
       "                        <td id=\"T_e61b3bb4_05ef_11ea_a6fb_107b449f15fcrow2_col0\" class=\"data row2 col0\" >0.01476</td>\n",
       "            </tr>\n",
       "            <tr>\n",
       "                        <th id=\"T_e61b3bb4_05ef_11ea_a6fb_107b449f15fclevel0_row3\" class=\"row_heading level0 row3\" >программный_обеспечение</th>\n",
       "                        <td id=\"T_e61b3bb4_05ef_11ea_a6fb_107b449f15fcrow3_col0\" class=\"data row3 col0\" >0.0123</td>\n",
       "            </tr>\n",
       "            <tr>\n",
       "                        <th id=\"T_e61b3bb4_05ef_11ea_a6fb_107b449f15fclevel0_row4\" class=\"row_heading level0 row4\" >машинный_обучение</th>\n",
       "                        <td id=\"T_e61b3bb4_05ef_11ea_a6fb_107b449f15fcrow4_col0\" class=\"data row4 col0\" >0.00975</td>\n",
       "            </tr>\n",
       "            <tr>\n",
       "                        <th id=\"T_e61b3bb4_05ef_11ea_a6fb_107b449f15fclevel0_row5\" class=\"row_heading level0 row5\" >база_дать</th>\n",
       "                        <td id=\"T_e61b3bb4_05ef_11ea_a6fb_107b449f15fcrow5_col0\" class=\"data row5 col0\" >0.00948</td>\n",
       "            </tr>\n",
       "            <tr>\n",
       "                        <th id=\"T_e61b3bb4_05ef_11ea_a6fb_107b449f15fclevel0_row6\" class=\"row_heading level0 row6\" >компьютерный_наука</th>\n",
       "                        <td id=\"T_e61b3bb4_05ef_11ea_a6fb_107b449f15fcrow6_col0\" class=\"data row6 col0\" >0.00861</td>\n",
       "            </tr>\n",
       "            <tr>\n",
       "                        <th id=\"T_e61b3bb4_05ef_11ea_a6fb_107b449f15fclevel0_row7\" class=\"row_heading level0 row7\" >анализ_дать</th>\n",
       "                        <td id=\"T_e61b3bb4_05ef_11ea_a6fb_107b449f15fcrow7_col0\" class=\"data row7 col0\" >0.00742</td>\n",
       "            </tr>\n",
       "            <tr>\n",
       "                        <th id=\"T_e61b3bb4_05ef_11ea_a6fb_107b449f15fclevel0_row8\" class=\"row_heading level0 row8\" >монетарный_политика</th>\n",
       "                        <td id=\"T_e61b3bb4_05ef_11ea_a6fb_107b449f15fcrow8_col0\" class=\"data row8 col0\" >0.0063</td>\n",
       "            </tr>\n",
       "            <tr>\n",
       "                        <th id=\"T_e61b3bb4_05ef_11ea_a6fb_107b449f15fclevel0_row9\" class=\"row_heading level0 row9\" >язык_программирование</th>\n",
       "                        <td id=\"T_e61b3bb4_05ef_11ea_a6fb_107b449f15fcrow9_col0\" class=\"data row9 col0\" >0.00624</td>\n",
       "            </tr>\n",
       "    </tbody></table><style  type=\"text/css\" >\n",
       "</style><table id=\"T_e61b3bb5_05ef_11ea_a6fb_107b449f15fc\" style='display:inline'><thead>    <tr>        <th class=\"blank level0\" ></th>        <th class=\"col_heading level0 col0\" >topic_20 @3gramm</th>    </tr></thead><tbody>\n",
       "                <tr>\n",
       "                        <th id=\"T_e61b3bb5_05ef_11ea_a6fb_107b449f15fclevel0_row0\" class=\"row_heading level0 row0\" >область_искусственный_интеллект</th>\n",
       "                        <td id=\"T_e61b3bb5_05ef_11ea_a6fb_107b449f15fcrow0_col0\" class=\"data row0 col0\" >0.13071</td>\n",
       "            </tr>\n",
       "            <tr>\n",
       "                        <th id=\"T_e61b3bb5_05ef_11ea_a6fb_107b449f15fclevel0_row1\" class=\"row_heading level0 row1\" >система_искусственный_интеллект</th>\n",
       "                        <td id=\"T_e61b3bb5_05ef_11ea_a6fb_107b449f15fcrow1_col0\" class=\"data row1 col0\" >0.12348</td>\n",
       "            </tr>\n",
       "            <tr>\n",
       "                        <th id=\"T_e61b3bb5_05ef_11ea_a6fb_107b449f15fclevel0_row2\" class=\"row_heading level0 row2\" >федеральный_резервный_система</th>\n",
       "                        <td id=\"T_e61b3bb5_05ef_11ea_a6fb_107b449f15fcrow2_col0\" class=\"data row2 col0\" >0.10162</td>\n",
       "            </tr>\n",
       "            <tr>\n",
       "                        <th id=\"T_e61b3bb5_05ef_11ea_a6fb_107b449f15fclevel0_row3\" class=\"row_heading level0 row3\" >искусственный_нейронный_сеть</th>\n",
       "                        <td id=\"T_e61b3bb5_05ef_11ea_a6fb_107b449f15fcrow3_col0\" class=\"data row3 col0\" >0.07988</td>\n",
       "            </tr>\n",
       "            <tr>\n",
       "                        <th id=\"T_e61b3bb5_05ef_11ea_a6fb_107b449f15fclevel0_row4\" class=\"row_heading level0 row4\" >всемирный_организация_здравоохранение</th>\n",
       "                        <td id=\"T_e61b3bb5_05ef_11ea_a6fb_107b449f15fcrow4_col0\" class=\"data row4 col0\" >0.06517</td>\n",
       "            </tr>\n",
       "            <tr>\n",
       "                        <th id=\"T_e61b3bb5_05ef_11ea_a6fb_107b449f15fclevel0_row5\" class=\"row_heading level0 row5\" >джон_фон_нейман</th>\n",
       "                        <td id=\"T_e61b3bb5_05ef_11ea_a6fb_107b449f15fcrow5_col0\" class=\"data row5 col0\" >0.05755</td>\n",
       "            </tr>\n",
       "            <tr>\n",
       "                        <th id=\"T_e61b3bb5_05ef_11ea_a6fb_107b449f15fclevel0_row6\" class=\"row_heading level0 row6\" >создание_искусственный_интеллект</th>\n",
       "                        <td id=\"T_e61b3bb5_05ef_11ea_a6fb_107b449f15fcrow6_col0\" class=\"data row6 col0\" >0.05077</td>\n",
       "            </tr>\n",
       "            <tr>\n",
       "                        <th id=\"T_e61b3bb5_05ef_11ea_a6fb_107b449f15fclevel0_row7\" class=\"row_heading level0 row7\" >огромный_количество_дать</th>\n",
       "                        <td id=\"T_e61b3bb5_05ef_11ea_a6fb_107b449f15fcrow7_col0\" class=\"data row7 col0\" >0.04756</td>\n",
       "            </tr>\n",
       "            <tr>\n",
       "                        <th id=\"T_e61b3bb5_05ef_11ea_a6fb_107b449f15fclevel0_row8\" class=\"row_heading level0 row8\" >разный_область_знание</th>\n",
       "                        <td id=\"T_e61b3bb5_05ef_11ea_a6fb_107b449f15fcrow8_col0\" class=\"data row8 col0\" >0.04287</td>\n",
       "            </tr>\n",
       "            <tr>\n",
       "                        <th id=\"T_e61b3bb5_05ef_11ea_a6fb_107b449f15fclevel0_row9\" class=\"row_heading level0 row9\" >область_информационный_технология</th>\n",
       "                        <td id=\"T_e61b3bb5_05ef_11ea_a6fb_107b449f15fcrow9_col0\" class=\"data row9 col0\" >0.03626</td>\n",
       "            </tr>\n",
       "    </tbody></table><style  type=\"text/css\" >\n",
       "</style><table id=\"T_e61b3bb6_05ef_11ea_a6fb_107b449f15fc\" style='display:inline'><thead>    <tr>        <th class=\"blank level0\" ></th>        <th class=\"col_heading level0 col0\" >topic_20 @post_tag</th>    </tr></thead><tbody>\n",
       "                <tr>\n",
       "                        <th id=\"T_e61b3bb6_05ef_11ea_a6fb_107b449f15fclevel0_row0\" class=\"row_heading level0 row0\" >математика</th>\n",
       "                        <td id=\"T_e61b3bb6_05ef_11ea_a6fb_107b449f15fcrow0_col0\" class=\"data row0 col0\" >0.15576</td>\n",
       "            </tr>\n",
       "            <tr>\n",
       "                        <th id=\"T_e61b3bb6_05ef_11ea_a6fb_107b449f15fclevel0_row1\" class=\"row_heading level0 row1\" >информационные_технологии</th>\n",
       "                        <td id=\"T_e61b3bb6_05ef_11ea_a6fb_107b449f15fcrow1_col0\" class=\"data row1 col0\" >0.14083</td>\n",
       "            </tr>\n",
       "            <tr>\n",
       "                        <th id=\"T_e61b3bb6_05ef_11ea_a6fb_107b449f15fclevel0_row2\" class=\"row_heading level0 row2\" >технологии</th>\n",
       "                        <td id=\"T_e61b3bb6_05ef_11ea_a6fb_107b449f15fcrow2_col0\" class=\"data row2 col0\" >0.13079</td>\n",
       "            </tr>\n",
       "            <tr>\n",
       "                        <th id=\"T_e61b3bb6_05ef_11ea_a6fb_107b449f15fclevel0_row3\" class=\"row_heading level0 row3\" >искусственный_интеллект</th>\n",
       "                        <td id=\"T_e61b3bb6_05ef_11ea_a6fb_107b449f15fcrow3_col0\" class=\"data row3 col0\" >0.07297</td>\n",
       "            </tr>\n",
       "            <tr>\n",
       "                        <th id=\"T_e61b3bb6_05ef_11ea_a6fb_107b449f15fclevel0_row4\" class=\"row_heading level0 row4\" >интернет</th>\n",
       "                        <td id=\"T_e61b3bb6_05ef_11ea_a6fb_107b449f15fcrow4_col0\" class=\"data row4 col0\" >0.07259</td>\n",
       "            </tr>\n",
       "            <tr>\n",
       "                        <th id=\"T_e61b3bb6_05ef_11ea_a6fb_107b449f15fclevel0_row5\" class=\"row_heading level0 row5\" >информатика</th>\n",
       "                        <td id=\"T_e61b3bb6_05ef_11ea_a6fb_107b449f15fcrow5_col0\" class=\"data row5 col0\" >0.06254</td>\n",
       "            </tr>\n",
       "            <tr>\n",
       "                        <th id=\"T_e61b3bb6_05ef_11ea_a6fb_107b449f15fclevel0_row6\" class=\"row_heading level0 row6\" >computer_science</th>\n",
       "                        <td id=\"T_e61b3bb6_05ef_11ea_a6fb_107b449f15fcrow6_col0\" class=\"data row6 col0\" >0.03649</td>\n",
       "            </tr>\n",
       "            <tr>\n",
       "                        <th id=\"T_e61b3bb6_05ef_11ea_a6fb_107b449f15fclevel0_row7\" class=\"row_heading level0 row7\" >робототехника</th>\n",
       "                        <td id=\"T_e61b3bb6_05ef_11ea_a6fb_107b449f15fcrow7_col0\" class=\"data row7 col0\" >0.03473</td>\n",
       "            </tr>\n",
       "            <tr>\n",
       "                        <th id=\"T_e61b3bb6_05ef_11ea_a6fb_107b449f15fclevel0_row8\" class=\"row_heading level0 row8\" >робот</th>\n",
       "                        <td id=\"T_e61b3bb6_05ef_11ea_a6fb_107b449f15fcrow8_col0\" class=\"data row8 col0\" >0.03126</td>\n",
       "            </tr>\n",
       "            <tr>\n",
       "                        <th id=\"T_e61b3bb6_05ef_11ea_a6fb_107b449f15fclevel0_row9\" class=\"row_heading level0 row9\" >социальные_сети</th>\n",
       "                        <td id=\"T_e61b3bb6_05ef_11ea_a6fb_107b449f15fcrow9_col0\" class=\"data row9 col0\" >0.02075</td>\n",
       "            </tr>\n",
       "    </tbody></table><style  type=\"text/css\" >\n",
       "</style><table id=\"T_e61b3bb7_05ef_11ea_a6fb_107b449f15fc\" style='display:inline'><thead>    <tr>        <th class=\"blank level0\" ></th>        <th class=\"col_heading level0 col0\" >topic_20 @word</th>    </tr></thead><tbody>\n",
       "                <tr>\n",
       "                        <th id=\"T_e61b3bb7_05ef_11ea_a6fb_107b449f15fclevel0_row0\" class=\"row_heading level0 row0\" >дать</th>\n",
       "                        <td id=\"T_e61b3bb7_05ef_11ea_a6fb_107b449f15fcrow0_col0\" class=\"data row0 col0\" >0.00984</td>\n",
       "            </tr>\n",
       "            <tr>\n",
       "                        <th id=\"T_e61b3bb7_05ef_11ea_a6fb_107b449f15fclevel0_row1\" class=\"row_heading level0 row1\" >задача</th>\n",
       "                        <td id=\"T_e61b3bb7_05ef_11ea_a6fb_107b449f15fcrow1_col0\" class=\"data row1 col0\" >0.0079</td>\n",
       "            </tr>\n",
       "            <tr>\n",
       "                        <th id=\"T_e61b3bb7_05ef_11ea_a6fb_107b449f15fclevel0_row2\" class=\"row_heading level0 row2\" >сеть</th>\n",
       "                        <td id=\"T_e61b3bb7_05ef_11ea_a6fb_107b449f15fcrow2_col0\" class=\"data row2 col0\" >0.00744</td>\n",
       "            </tr>\n",
       "            <tr>\n",
       "                        <th id=\"T_e61b3bb7_05ef_11ea_a6fb_107b449f15fclevel0_row3\" class=\"row_heading level0 row3\" >робот</th>\n",
       "                        <td id=\"T_e61b3bb7_05ef_11ea_a6fb_107b449f15fcrow3_col0\" class=\"data row3 col0\" >0.00705</td>\n",
       "            </tr>\n",
       "            <tr>\n",
       "                        <th id=\"T_e61b3bb7_05ef_11ea_a6fb_107b449f15fclevel0_row4\" class=\"row_heading level0 row4\" >компьютер</th>\n",
       "                        <td id=\"T_e61b3bb7_05ef_11ea_a6fb_107b449f15fcrow4_col0\" class=\"data row4 col0\" >0.00692</td>\n",
       "            </tr>\n",
       "            <tr>\n",
       "                        <th id=\"T_e61b3bb7_05ef_11ea_a6fb_107b449f15fclevel0_row5\" class=\"row_heading level0 row5\" >система</th>\n",
       "                        <td id=\"T_e61b3bb7_05ef_11ea_a6fb_107b449f15fcrow5_col0\" class=\"data row5 col0\" >0.00649</td>\n",
       "            </tr>\n",
       "            <tr>\n",
       "                        <th id=\"T_e61b3bb7_05ef_11ea_a6fb_107b449f15fclevel0_row6\" class=\"row_heading level0 row6\" >программа</th>\n",
       "                        <td id=\"T_e61b3bb7_05ef_11ea_a6fb_107b449f15fcrow6_col0\" class=\"data row6 col0\" >0.00588</td>\n",
       "            </tr>\n",
       "            <tr>\n",
       "                        <th id=\"T_e61b3bb7_05ef_11ea_a6fb_107b449f15fclevel0_row7\" class=\"row_heading level0 row7\" >работать</th>\n",
       "                        <td id=\"T_e61b3bb7_05ef_11ea_a6fb_107b449f15fcrow7_col0\" class=\"data row7 col0\" >0.00496</td>\n",
       "            </tr>\n",
       "            <tr>\n",
       "                        <th id=\"T_e61b3bb7_05ef_11ea_a6fb_107b449f15fclevel0_row8\" class=\"row_heading level0 row8\" >алгоритм</th>\n",
       "                        <td id=\"T_e61b3bb7_05ef_11ea_a6fb_107b449f15fcrow8_col0\" class=\"data row8 col0\" >0.00494</td>\n",
       "            </tr>\n",
       "            <tr>\n",
       "                        <th id=\"T_e61b3bb7_05ef_11ea_a6fb_107b449f15fclevel0_row9\" class=\"row_heading level0 row9\" >модель</th>\n",
       "                        <td id=\"T_e61b3bb7_05ef_11ea_a6fb_107b449f15fcrow9_col0\" class=\"data row9 col0\" >0.00468</td>\n",
       "            </tr>\n",
       "    </tbody></table>"
      ]
     },
     "metadata": {},
     "output_type": "display_data"
    },
    {
     "data": {
      "text/html": [
       "<b> «компьютерные науки исследуют что-то идеальное, чего в реальном мире может физически не присутствовать» </b><br /> интервью с программистом станиславом протасовым об особенностях компьютерных наук, параллельном программировании и искусственном интеллекте"
      ]
     },
     "metadata": {},
     "output_type": "display_data"
    },
    {
     "data": {
      "text/html": [
       "<b> создана нейронная сеть, работающая по принципу машины тьюринга </b><br /> об архитектуре фон неймана, машине тьюринга и проверке работоспособности"
      ]
     },
     "metadata": {},
     "output_type": "display_data"
    },
    {
     "data": {
      "text/html": [
       "<b> компиляторы для языков программирования </b><br /> программный архитектор евгений зуев о разработке компиляторов, языке с++ и семантическом зазоре"
      ]
     },
     "metadata": {},
     "output_type": "display_data"
    },
    {
     "data": {
      "text/html": [
       "<b> технология ухода от баз данных в программировании </b><br /> инженер антон чижов о преимуществах оперативной памяти, способах хранения данных и системе «апрентис»"
      ]
     },
     "metadata": {},
     "output_type": "display_data"
    },
    {
     "data": {
      "text/html": [
       "<b> механизмы управления репутацией в социальных сетях </b><br /> специалист по компьютерным наукам джу йонг ли об анализе социальных сетей, институте репутации и феномене дружбы в facebook"
      ]
     },
     "metadata": {},
     "output_type": "display_data"
    },
    {
     "data": {
      "text/html": [
       "<b> как обучить нейросеть понимать смысл текста программы? </b><br /> о машинном обучении, отличии формальных языков от естественных и обучающих выборках"
      ]
     },
     "metadata": {},
     "output_type": "display_data"
    },
    {
     "data": {
      "text/html": [
       "<b> разработка корпоративных информационных систем </b><br /> информатик сергей зыков о возникновении программной инженерии, сложности корпоративных систем и развитии технологий"
      ]
     },
     "metadata": {},
     "output_type": "display_data"
    },
    {
     "data": {
      "text/html": [
       "<b> математические методы прогнозирования объемов продаж </b><br /> математик константин воронцов о применении задач машинного обучения в бизнесе, композициях адаптивных моделей и усовершенствовании качества данных"
      ]
     },
     "metadata": {},
     "output_type": "display_data"
    },
    {
     "data": {
      "text/html": [
       "<b> антропоморфные роботы </b><br /> специалист в области робототехники евгений магид об эффекте «зловещей долины», взаимодействии роботов и людей и антропоморфной робототехнике в россии"
      ]
     },
     "metadata": {},
     "output_type": "display_data"
    },
    {
     "data": {
      "text/html": [
       "<b> дэвид вернон«то, что мы называем искусственным интеллектом, им не является» </b><br /> специалист по искусственному интеллекту дэвид вернон об истории создания ии, компьютерном зрении и способности роботов к самообучению"
      ]
     },
     "metadata": {},
     "output_type": "display_data"
    },
    {
     "data": {
      "text/html": [
       "<style  type=\"text/css\" >\n",
       "</style><table id=\"T_e61b3bb8_05ef_11ea_a6fb_107b449f15fc\" style='display:inline'><thead>    <tr>        <th class=\"blank level0\" ></th>        <th class=\"col_heading level0 col0\" >topic_21 @2gramm</th>    </tr></thead><tbody>\n",
       "                <tr>\n",
       "                        <th id=\"T_e61b3bb8_05ef_11ea_a6fb_107b449f15fclevel0_row0\" class=\"row_heading level0 row0\" >молекулярный_машина</th>\n",
       "                        <td id=\"T_e61b3bb8_05ef_11ea_a6fb_107b449f15fcrow0_col0\" class=\"data row0 col0\" >0.00892</td>\n",
       "            </tr>\n",
       "            <tr>\n",
       "                        <th id=\"T_e61b3bb8_05ef_11ea_a6fb_107b449f15fclevel0_row1\" class=\"row_heading level0 row1\" >чистый_культура</th>\n",
       "                        <td id=\"T_e61b3bb8_05ef_11ea_a6fb_107b449f15fcrow1_col0\" class=\"data row1 col0\" >0.00879</td>\n",
       "            </tr>\n",
       "            <tr>\n",
       "                        <th id=\"T_e61b3bb8_05ef_11ea_a6fb_107b449f15fclevel0_row2\" class=\"row_heading level0 row2\" >синтетический_биология</th>\n",
       "                        <td id=\"T_e61b3bb8_05ef_11ea_a6fb_107b449f15fcrow2_col0\" class=\"data row2 col0\" >0.00779</td>\n",
       "            </tr>\n",
       "            <tr>\n",
       "                        <th id=\"T_e61b3bb8_05ef_11ea_a6fb_107b449f15fclevel0_row3\" class=\"row_heading level0 row3\" >органический_вещество</th>\n",
       "                        <td id=\"T_e61b3bb8_05ef_11ea_a6fb_107b449f15fcrow3_col0\" class=\"data row3 col0\" >0.00767</td>\n",
       "            </tr>\n",
       "            <tr>\n",
       "                        <th id=\"T_e61b3bb8_05ef_11ea_a6fb_107b449f15fclevel0_row4\" class=\"row_heading level0 row4\" >углекислый_газа</th>\n",
       "                        <td id=\"T_e61b3bb8_05ef_11ea_a6fb_107b449f15fcrow4_col0\" class=\"data row4 col0\" >0.00753</td>\n",
       "            </tr>\n",
       "            <tr>\n",
       "                        <th id=\"T_e61b3bb8_05ef_11ea_a6fb_107b449f15fclevel0_row5\" class=\"row_heading level0 row5\" >генный_инженерия</th>\n",
       "                        <td id=\"T_e61b3bb8_05ef_11ea_a6fb_107b449f15fcrow5_col0\" class=\"data row5 col0\" >0.00746</td>\n",
       "            </tr>\n",
       "            <tr>\n",
       "                        <th id=\"T_e61b3bb8_05ef_11ea_a6fb_107b449f15fclevel0_row6\" class=\"row_heading level0 row6\" >интерфейс_мозг</th>\n",
       "                        <td id=\"T_e61b3bb8_05ef_11ea_a6fb_107b449f15fcrow6_col0\" class=\"data row6 col0\" >0.00715</td>\n",
       "            </tr>\n",
       "            <tr>\n",
       "                        <th id=\"T_e61b3bb8_05ef_11ea_a6fb_107b449f15fclevel0_row7\" class=\"row_heading level0 row7\" >летучий_мышь</th>\n",
       "                        <td id=\"T_e61b3bb8_05ef_11ea_a6fb_107b449f15fcrow7_col0\" class=\"data row7 col0\" >0.00656</td>\n",
       "            </tr>\n",
       "            <tr>\n",
       "                        <th id=\"T_e61b3bb8_05ef_11ea_a6fb_107b449f15fclevel0_row8\" class=\"row_heading level0 row8\" >форма_жизнь</th>\n",
       "                        <td id=\"T_e61b3bb8_05ef_11ea_a6fb_107b449f15fcrow8_col0\" class=\"data row8 col0\" >0.00604</td>\n",
       "            </tr>\n",
       "            <tr>\n",
       "                        <th id=\"T_e61b3bb8_05ef_11ea_a6fb_107b449f15fclevel0_row9\" class=\"row_heading level0 row9\" >динамический_система</th>\n",
       "                        <td id=\"T_e61b3bb8_05ef_11ea_a6fb_107b449f15fcrow9_col0\" class=\"data row9 col0\" >0.00582</td>\n",
       "            </tr>\n",
       "    </tbody></table><style  type=\"text/css\" >\n",
       "</style><table id=\"T_e61b3bb9_05ef_11ea_a6fb_107b449f15fc\" style='display:inline'><thead>    <tr>        <th class=\"blank level0\" ></th>        <th class=\"col_heading level0 col0\" >topic_21 @3gramm</th>    </tr></thead><tbody>\n",
       "                <tr>\n",
       "                        <th id=\"T_e61b3bb9_05ef_11ea_a6fb_107b449f15fclevel0_row0\" class=\"row_heading level0 row0\" >дать_нобелевский_премия</th>\n",
       "                        <td id=\"T_e61b3bb9_05ef_11ea_a6fb_107b449f15fcrow0_col0\" class=\"data row0 col0\" >0.1433</td>\n",
       "            </tr>\n",
       "            <tr>\n",
       "                        <th id=\"T_e61b3bb9_05ef_11ea_a6fb_107b449f15fclevel0_row1\" class=\"row_heading level0 row1\" >электрический_активность_мозг</th>\n",
       "                        <td id=\"T_e61b3bb9_05ef_11ea_a6fb_107b449f15fcrow1_col0\" class=\"data row1 col0\" >0.11653</td>\n",
       "            </tr>\n",
       "            <tr>\n",
       "                        <th id=\"T_e61b3bb9_05ef_11ea_a6fb_107b449f15fclevel0_row2\" class=\"row_heading level0 row2\" >подавлять_большинство_случай</th>\n",
       "                        <td id=\"T_e61b3bb9_05ef_11ea_a6fb_107b449f15fcrow2_col0\" class=\"data row2 col0\" >0.09848</td>\n",
       "            </tr>\n",
       "            <tr>\n",
       "                        <th id=\"T_e61b3bb9_05ef_11ea_a6fb_107b449f15fclevel0_row3\" class=\"row_heading level0 row3\" >клетка_высокий_организм</th>\n",
       "                        <td id=\"T_e61b3bb9_05ef_11ea_a6fb_107b449f15fcrow3_col0\" class=\"data row3 col0\" >0.08065</td>\n",
       "            </tr>\n",
       "            <tr>\n",
       "                        <th id=\"T_e61b3bb9_05ef_11ea_a6fb_107b449f15fclevel0_row4\" class=\"row_heading level0 row4\" >математический_точка_зрение</th>\n",
       "                        <td id=\"T_e61b3bb9_05ef_11ea_a6fb_107b449f15fcrow4_col0\" class=\"data row4 col0\" >0.08065</td>\n",
       "            </tr>\n",
       "            <tr>\n",
       "                        <th id=\"T_e61b3bb9_05ef_11ea_a6fb_107b449f15fclevel0_row5\" class=\"row_heading level0 row5\" >давать_имя_возможность</th>\n",
       "                        <td id=\"T_e61b3bb9_05ef_11ea_a6fb_107b449f15fcrow5_col0\" class=\"data row5 col0\" >0.07989</td>\n",
       "            </tr>\n",
       "            <tr>\n",
       "                        <th id=\"T_e61b3bb9_05ef_11ea_a6fb_107b449f15fclevel0_row6\" class=\"row_heading level0 row6\" >положительный_обратный_связь</th>\n",
       "                        <td id=\"T_e61b3bb9_05ef_11ea_a6fb_107b449f15fcrow6_col0\" class=\"data row6 col0\" >0.06262</td>\n",
       "            </tr>\n",
       "            <tr>\n",
       "                        <th id=\"T_e61b3bb9_05ef_11ea_a6fb_107b449f15fclevel0_row7\" class=\"row_heading level0 row7\" >относительно_друг_друг</th>\n",
       "                        <td id=\"T_e61b3bb9_05ef_11ea_a6fb_107b449f15fcrow7_col0\" class=\"data row7 col0\" >0.06156</td>\n",
       "            </tr>\n",
       "            <tr>\n",
       "                        <th id=\"T_e61b3bb9_05ef_11ea_a6fb_107b449f15fclevel0_row8\" class=\"row_heading level0 row8\" >развитие_вычислительный_техника</th>\n",
       "                        <td id=\"T_e61b3bb9_05ef_11ea_a6fb_107b449f15fcrow8_col0\" class=\"data row8 col0\" >0.05541</td>\n",
       "            </tr>\n",
       "            <tr>\n",
       "                        <th id=\"T_e61b3bb9_05ef_11ea_a6fb_107b449f15fclevel0_row9\" class=\"row_heading level0 row9\" >кожный_поверхность_голов</th>\n",
       "                        <td id=\"T_e61b3bb9_05ef_11ea_a6fb_107b449f15fcrow9_col0\" class=\"data row9 col0\" >0.05377</td>\n",
       "            </tr>\n",
       "    </tbody></table><style  type=\"text/css\" >\n",
       "</style><table id=\"T_e61b3bba_05ef_11ea_a6fb_107b449f15fc\" style='display:inline'><thead>    <tr>        <th class=\"blank level0\" ></th>        <th class=\"col_heading level0 col0\" >topic_21 @post_tag</th>    </tr></thead><tbody>\n",
       "                <tr>\n",
       "                        <th id=\"T_e61b3bba_05ef_11ea_a6fb_107b449f15fclevel0_row0\" class=\"row_heading level0 row0\" >микробиология</th>\n",
       "                        <td id=\"T_e61b3bba_05ef_11ea_a6fb_107b449f15fcrow0_col0\" class=\"data row0 col0\" >0.18132</td>\n",
       "            </tr>\n",
       "            <tr>\n",
       "                        <th id=\"T_e61b3bba_05ef_11ea_a6fb_107b449f15fclevel0_row1\" class=\"row_heading level0 row1\" >биология</th>\n",
       "                        <td id=\"T_e61b3bba_05ef_11ea_a6fb_107b449f15fcrow1_col0\" class=\"data row1 col0\" >0.16952</td>\n",
       "            </tr>\n",
       "            <tr>\n",
       "                        <th id=\"T_e61b3bba_05ef_11ea_a6fb_107b449f15fclevel0_row2\" class=\"row_heading level0 row2\" >бактерии</th>\n",
       "                        <td id=\"T_e61b3bba_05ef_11ea_a6fb_107b449f15fcrow2_col0\" class=\"data row2 col0\" >0.09769</td>\n",
       "            </tr>\n",
       "            <tr>\n",
       "                        <th id=\"T_e61b3bba_05ef_11ea_a6fb_107b449f15fclevel0_row3\" class=\"row_heading level0 row3\" >микробы</th>\n",
       "                        <td id=\"T_e61b3bba_05ef_11ea_a6fb_107b449f15fcrow3_col0\" class=\"data row3 col0\" >0.08308</td>\n",
       "            </tr>\n",
       "            <tr>\n",
       "                        <th id=\"T_e61b3bba_05ef_11ea_a6fb_107b449f15fclevel0_row4\" class=\"row_heading level0 row4\" >экология</th>\n",
       "                        <td id=\"T_e61b3bba_05ef_11ea_a6fb_107b449f15fcrow4_col0\" class=\"data row4 col0\" >0.06616</td>\n",
       "            </tr>\n",
       "            <tr>\n",
       "                        <th id=\"T_e61b3bba_05ef_11ea_a6fb_107b449f15fclevel0_row5\" class=\"row_heading level0 row5\" >биотехнологии</th>\n",
       "                        <td id=\"T_e61b3bba_05ef_11ea_a6fb_107b449f15fcrow5_col0\" class=\"data row5 col0\" >0.0598</td>\n",
       "            </tr>\n",
       "            <tr>\n",
       "                        <th id=\"T_e61b3bba_05ef_11ea_a6fb_107b449f15fclevel0_row6\" class=\"row_heading level0 row6\" >технологии</th>\n",
       "                        <td id=\"T_e61b3bba_05ef_11ea_a6fb_107b449f15fcrow6_col0\" class=\"data row6 col0\" >0.05262</td>\n",
       "            </tr>\n",
       "            <tr>\n",
       "                        <th id=\"T_e61b3bba_05ef_11ea_a6fb_107b449f15fclevel0_row7\" class=\"row_heading level0 row7\" >антибиотики</th>\n",
       "                        <td id=\"T_e61b3bba_05ef_11ea_a6fb_107b449f15fcrow7_col0\" class=\"data row7 col0\" >0.02592</td>\n",
       "            </tr>\n",
       "            <tr>\n",
       "                        <th id=\"T_e61b3bba_05ef_11ea_a6fb_107b449f15fclevel0_row8\" class=\"row_heading level0 row8\" >бактериофаги</th>\n",
       "                        <td id=\"T_e61b3bba_05ef_11ea_a6fb_107b449f15fcrow8_col0\" class=\"data row8 col0\" >0.01879</td>\n",
       "            </tr>\n",
       "            <tr>\n",
       "                        <th id=\"T_e61b3bba_05ef_11ea_a6fb_107b449f15fclevel0_row9\" class=\"row_heading level0 row9\" >суперкомпьютеры</th>\n",
       "                        <td id=\"T_e61b3bba_05ef_11ea_a6fb_107b449f15fcrow9_col0\" class=\"data row9 col0\" >0.01685</td>\n",
       "            </tr>\n",
       "    </tbody></table><style  type=\"text/css\" >\n",
       "</style><table id=\"T_e61b3bbb_05ef_11ea_a6fb_107b449f15fc\" style='display:inline'><thead>    <tr>        <th class=\"blank level0\" ></th>        <th class=\"col_heading level0 col0\" >topic_21 @word</th>    </tr></thead><tbody>\n",
       "                <tr>\n",
       "                        <th id=\"T_e61b3bbb_05ef_11ea_a6fb_107b449f15fclevel0_row0\" class=\"row_heading level0 row0\" >микроорганизм</th>\n",
       "                        <td id=\"T_e61b3bbb_05ef_11ea_a6fb_107b449f15fcrow0_col0\" class=\"data row0 col0\" >0.00993</td>\n",
       "            </tr>\n",
       "            <tr>\n",
       "                        <th id=\"T_e61b3bbb_05ef_11ea_a6fb_107b449f15fclevel0_row1\" class=\"row_heading level0 row1\" >бактерия</th>\n",
       "                        <td id=\"T_e61b3bbb_05ef_11ea_a6fb_107b449f15fcrow1_col0\" class=\"data row1 col0\" >0.00986</td>\n",
       "            </tr>\n",
       "            <tr>\n",
       "                        <th id=\"T_e61b3bbb_05ef_11ea_a6fb_107b449f15fclevel0_row2\" class=\"row_heading level0 row2\" >микроб</th>\n",
       "                        <td id=\"T_e61b3bbb_05ef_11ea_a6fb_107b449f15fcrow2_col0\" class=\"data row2 col0\" >0.00664</td>\n",
       "            </tr>\n",
       "            <tr>\n",
       "                        <th id=\"T_e61b3bbb_05ef_11ea_a6fb_107b449f15fclevel0_row3\" class=\"row_heading level0 row3\" >система</th>\n",
       "                        <td id=\"T_e61b3bbb_05ef_11ea_a6fb_107b449f15fcrow3_col0\" class=\"data row3 col0\" >0.00663</td>\n",
       "            </tr>\n",
       "            <tr>\n",
       "                        <th id=\"T_e61b3bbb_05ef_11ea_a6fb_107b449f15fclevel0_row4\" class=\"row_heading level0 row4\" >организм</th>\n",
       "                        <td id=\"T_e61b3bbb_05ef_11ea_a6fb_107b449f15fcrow4_col0\" class=\"data row4 col0\" >0.00561</td>\n",
       "            </tr>\n",
       "            <tr>\n",
       "                        <th id=\"T_e61b3bbb_05ef_11ea_a6fb_107b449f15fclevel0_row5\" class=\"row_heading level0 row5\" >антибиотик</th>\n",
       "                        <td id=\"T_e61b3bbb_05ef_11ea_a6fb_107b449f15fcrow5_col0\" class=\"data row5 col0\" >0.00502</td>\n",
       "            </tr>\n",
       "            <tr>\n",
       "                        <th id=\"T_e61b3bbb_05ef_11ea_a6fb_107b449f15fclevel0_row6\" class=\"row_heading level0 row6\" >кислород</th>\n",
       "                        <td id=\"T_e61b3bbb_05ef_11ea_a6fb_107b449f15fcrow6_col0\" class=\"data row6 col0\" >0.00463</td>\n",
       "            </tr>\n",
       "            <tr>\n",
       "                        <th id=\"T_e61b3bbb_05ef_11ea_a6fb_107b449f15fclevel0_row7\" class=\"row_heading level0 row7\" >использовать</th>\n",
       "                        <td id=\"T_e61b3bbb_05ef_11ea_a6fb_107b449f15fcrow7_col0\" class=\"data row7 col0\" >0.00431</td>\n",
       "            </tr>\n",
       "            <tr>\n",
       "                        <th id=\"T_e61b3bbb_05ef_11ea_a6fb_107b449f15fclevel0_row8\" class=\"row_heading level0 row8\" >процесс</th>\n",
       "                        <td id=\"T_e61b3bbb_05ef_11ea_a6fb_107b449f15fcrow8_col0\" class=\"data row8 col0\" >0.00422</td>\n",
       "            </tr>\n",
       "            <tr>\n",
       "                        <th id=\"T_e61b3bbb_05ef_11ea_a6fb_107b449f15fclevel0_row9\" class=\"row_heading level0 row9\" >клетка</th>\n",
       "                        <td id=\"T_e61b3bbb_05ef_11ea_a6fb_107b449f15fcrow9_col0\" class=\"data row9 col0\" >0.00341</td>\n",
       "            </tr>\n",
       "    </tbody></table>"
      ]
     },
     "metadata": {},
     "output_type": "display_data"
    },
    {
     "data": {
      "text/html": [
       "<b> сенсорные системы цианобактерий </b><br /> 6 фактов о бактериях, изменивших состав атмосферы земли в прошлом, и их современном изучении"
      ]
     },
     "metadata": {},
     "output_type": "display_data"
    },
    {
     "data": {
      "text/html": [
       "<b> faqхемолитоавтотрофные бактерии </b><br /> 7 фактов об автотрофах, гетеротрофах и различиях между ними"
      ]
     },
     "metadata": {},
     "output_type": "display_data"
    },
    {
     "data": {
      "text/html": [
       "<b> гидротермы и метановые сипы </b><br /> микробиолог николай пименов о выбросах углеводородных газов, метанобразующих археях и анаэробном окислении метана в черном море"
      ]
     },
     "metadata": {},
     "output_type": "display_data"
    },
    {
     "data": {
      "text/html": [
       "<b> faqнейрокоммуникаторы </b><br /> 7 фактов о новой модели коммуникации между человеком и средой"
      ]
     },
     "metadata": {},
     "output_type": "display_data"
    },
    {
     "data": {
      "text/html": [
       "<b> биофизика сложных систем </b><br /> биофизик михаил пантелеев о системе свертывания крови, принципах системной биологии и математическом моделировании сложных систем"
      ]
     },
     "metadata": {},
     "output_type": "display_data"
    },
    {
     "data": {
      "text/html": [
       "<b> микроорганизмы в болотах </b><br /> микробиолог светлана дедыш о влиянии болотных экосистем на климат, запасах пресной воды и метаногенезе"
      ]
     },
     "metadata": {},
     "output_type": "display_data"
    },
    {
     "data": {
      "text/html": [
       "<b> «современная наука считает, что расшифровать мысли невозможно» </b><br /> интервью с психофизиологом александром капланом о нейроинтерфейсах, протезировании мозга и электронных чипах памяти"
      ]
     },
     "metadata": {},
     "output_type": "display_data"
    },
    {
     "data": {
      "text/html": [
       "<b> нейрокоммуникаторы </b><br /> психофизиолог александр каплан об интерфейсе мозг-компьютер, прямом понимании намерений мозга и будущем коммуникации"
      ]
     },
     "metadata": {},
     "output_type": "display_data"
    },
    {
     "data": {
      "text/html": [
       "<b> faqкатаболизм микробов </b><br /> 7 фактов об энергетическом обмене микроорганизмов"
      ]
     },
     "metadata": {},
     "output_type": "display_data"
    },
    {
     "data": {
      "text/html": [
       "<b> история суперкомпьютерного моделирования </b><br /> 5 фактов о зарождении компьютерной эры, вычислительных методах и системах с распределенной памятью"
      ]
     },
     "metadata": {},
     "output_type": "display_data"
    },
    {
     "data": {
      "text/html": [
       "<style  type=\"text/css\" >\n",
       "</style><table id=\"T_e61b3bbc_05ef_11ea_a6fb_107b449f15fc\" style='display:inline'><thead>    <tr>        <th class=\"blank level0\" ></th>        <th class=\"col_heading level0 col0\" >topic_22 @2gramm</th>    </tr></thead><tbody>\n",
       "                <tr>\n",
       "                        <th id=\"T_e61b3bbc_05ef_11ea_a6fb_107b449f15fclevel0_row0\" class=\"row_heading level0 row0\" >городской_пространство</th>\n",
       "                        <td id=\"T_e61b3bbc_05ef_11ea_a6fb_107b449f15fcrow0_col0\" class=\"data row0 col0\" >0.01057</td>\n",
       "            </tr>\n",
       "            <tr>\n",
       "                        <th id=\"T_e61b3bbc_05ef_11ea_a6fb_107b449f15fclevel0_row1\" class=\"row_heading level0 row1\" >когнитивный_психология</th>\n",
       "                        <td id=\"T_e61b3bbc_05ef_11ea_a6fb_107b449f15fcrow1_col0\" class=\"data row1 col0\" >0.00991</td>\n",
       "            </tr>\n",
       "            <tr>\n",
       "                        <th id=\"T_e61b3bbc_05ef_11ea_a6fb_107b449f15fclevel0_row2\" class=\"row_heading level0 row2\" >решение_задача</th>\n",
       "                        <td id=\"T_e61b3bbc_05ef_11ea_a6fb_107b449f15fcrow2_col0\" class=\"data row2 col0\" >0.00975</td>\n",
       "            </tr>\n",
       "            <tr>\n",
       "                        <th id=\"T_e61b3bbc_05ef_11ea_a6fb_107b449f15fclevel0_row3\" class=\"row_heading level0 row3\" >малое_город</th>\n",
       "                        <td id=\"T_e61b3bbc_05ef_11ea_a6fb_107b449f15fcrow3_col0\" class=\"data row3 col0\" >0.00723</td>\n",
       "            </tr>\n",
       "            <tr>\n",
       "                        <th id=\"T_e61b3bbc_05ef_11ea_a6fb_107b449f15fclevel0_row4\" class=\"row_heading level0 row4\" >крупный_город</th>\n",
       "                        <td id=\"T_e61b3bbc_05ef_11ea_a6fb_107b449f15fcrow4_col0\" class=\"data row4 col0\" >0.00572</td>\n",
       "            </tr>\n",
       "            <tr>\n",
       "                        <th id=\"T_e61b3bbc_05ef_11ea_a6fb_107b449f15fclevel0_row5\" class=\"row_heading level0 row5\" >городской_жизнь</th>\n",
       "                        <td id=\"T_e61b3bbc_05ef_11ea_a6fb_107b449f15fcrow5_col0\" class=\"data row5 col0\" >0.00537</td>\n",
       "            </tr>\n",
       "            <tr>\n",
       "                        <th id=\"T_e61b3bbc_05ef_11ea_a6fb_107b449f15fclevel0_row6\" class=\"row_heading level0 row6\" >публичный_пространство</th>\n",
       "                        <td id=\"T_e61b3bbc_05ef_11ea_a6fb_107b449f15fcrow6_col0\" class=\"data row6 col0\" >0.00534</td>\n",
       "            </tr>\n",
       "            <tr>\n",
       "                        <th id=\"T_e61b3bbc_05ef_11ea_a6fb_107b449f15fclevel0_row7\" class=\"row_heading level0 row7\" >решать_задача</th>\n",
       "                        <td id=\"T_e61b3bbc_05ef_11ea_a6fb_107b449f15fcrow7_col0\" class=\"data row7 col0\" >0.00487</td>\n",
       "            </tr>\n",
       "            <tr>\n",
       "                        <th id=\"T_e61b3bbc_05ef_11ea_a6fb_107b449f15fclevel0_row8\" class=\"row_heading level0 row8\" >умственный_способность</th>\n",
       "                        <td id=\"T_e61b3bbc_05ef_11ea_a6fb_107b449f15fcrow8_col0\" class=\"data row8 col0\" >0.00484</td>\n",
       "            </tr>\n",
       "            <tr>\n",
       "                        <th id=\"T_e61b3bbc_05ef_11ea_a6fb_107b449f15fclevel0_row9\" class=\"row_heading level0 row9\" >образ_жизнь</th>\n",
       "                        <td id=\"T_e61b3bbc_05ef_11ea_a6fb_107b449f15fcrow9_col0\" class=\"data row9 col0\" >0.00459</td>\n",
       "            </tr>\n",
       "    </tbody></table><style  type=\"text/css\" >\n",
       "</style><table id=\"T_e61b3bbd_05ef_11ea_a6fb_107b449f15fc\" style='display:inline'><thead>    <tr>        <th class=\"blank level0\" ></th>        <th class=\"col_heading level0 col0\" >topic_22 @3gramm</th>    </tr></thead><tbody>\n",
       "                <tr>\n",
       "                        <th id=\"T_e61b3bbd_05ef_11ea_a6fb_107b449f15fclevel0_row0\" class=\"row_heading level0 row0\" >конец_xix_век</th>\n",
       "                        <td id=\"T_e61b3bbd_05ef_11ea_a6fb_107b449f15fcrow0_col0\" class=\"data row0 col0\" >0.52653</td>\n",
       "            </tr>\n",
       "            <tr>\n",
       "                        <th id=\"T_e61b3bbd_05ef_11ea_a6fb_107b449f15fclevel0_row1\" class=\"row_heading level0 row1\" >культура_христианский_восток</th>\n",
       "                        <td id=\"T_e61b3bbd_05ef_11ea_a6fb_107b449f15fcrow1_col0\" class=\"data row1 col0\" >0.05309</td>\n",
       "            </tr>\n",
       "            <tr>\n",
       "                        <th id=\"T_e61b3bbd_05ef_11ea_a6fb_107b449f15fclevel0_row2\" class=\"row_heading level0 row2\" >современный_когнитивный_психология</th>\n",
       "                        <td id=\"T_e61b3bbd_05ef_11ea_a6fb_107b449f15fcrow2_col0\" class=\"data row2 col0\" >0.04254</td>\n",
       "            </tr>\n",
       "            <tr>\n",
       "                        <th id=\"T_e61b3bbd_05ef_11ea_a6fb_107b449f15fclevel0_row3\" class=\"row_heading level0 row3\" >цивилизация_христианский_восток</th>\n",
       "                        <td id=\"T_e61b3bbd_05ef_11ea_a6fb_107b449f15fcrow3_col0\" class=\"data row3 col0\" >0.04149</td>\n",
       "            </tr>\n",
       "            <tr>\n",
       "                        <th id=\"T_e61b3bbd_05ef_11ea_a6fb_107b449f15fclevel0_row4\" class=\"row_heading level0 row4\" >альтернативный_точка_зрение</th>\n",
       "                        <td id=\"T_e61b3bbd_05ef_11ea_a6fb_107b449f15fcrow4_col0\" class=\"data row4 col0\" >0.04089</td>\n",
       "            </tr>\n",
       "            <tr>\n",
       "                        <th id=\"T_e61b3bbd_05ef_11ea_a6fb_107b449f15fclevel0_row5\" class=\"row_heading level0 row5\" >ход_решение_задача</th>\n",
       "                        <td id=\"T_e61b3bbd_05ef_11ea_a6fb_107b449f15fcrow5_col0\" class=\"data row5 col0\" >0.0319</td>\n",
       "            </tr>\n",
       "            <tr>\n",
       "                        <th id=\"T_e61b3bbd_05ef_11ea_a6fb_107b449f15fclevel0_row6\" class=\"row_heading level0 row6\" >система_переработка_информация</th>\n",
       "                        <td id=\"T_e61b3bbd_05ef_11ea_a6fb_107b449f15fcrow6_col0\" class=\"data row6 col0\" >0.03189</td>\n",
       "            </tr>\n",
       "            <tr>\n",
       "                        <th id=\"T_e61b3bbd_05ef_11ea_a6fb_107b449f15fclevel0_row7\" class=\"row_heading level0 row7\" >целое_ряд_причина</th>\n",
       "                        <td id=\"T_e61b3bbd_05ef_11ea_a6fb_107b449f15fcrow7_col0\" class=\"data row7 col0\" >0.0318</td>\n",
       "            </tr>\n",
       "            <tr>\n",
       "                        <th id=\"T_e61b3bbd_05ef_11ea_a6fb_107b449f15fclevel0_row8\" class=\"row_heading level0 row8\" >большой_количество_исследование</th>\n",
       "                        <td id=\"T_e61b3bbd_05ef_11ea_a6fb_107b449f15fcrow8_col0\" class=\"data row8 col0\" >0.02651</td>\n",
       "            </tr>\n",
       "            <tr>\n",
       "                        <th id=\"T_e61b3bbd_05ef_11ea_a6fb_107b449f15fclevel0_row9\" class=\"row_heading level0 row9\" >недавно_издать_книга</th>\n",
       "                        <td id=\"T_e61b3bbd_05ef_11ea_a6fb_107b449f15fcrow9_col0\" class=\"data row9 col0\" >0.0239</td>\n",
       "            </tr>\n",
       "    </tbody></table><style  type=\"text/css\" >\n",
       "</style><table id=\"T_e61b3bbe_05ef_11ea_a6fb_107b449f15fc\" style='display:inline'><thead>    <tr>        <th class=\"blank level0\" ></th>        <th class=\"col_heading level0 col0\" >topic_22 @post_tag</th>    </tr></thead><tbody>\n",
       "                <tr>\n",
       "                        <th id=\"T_e61b3bbe_05ef_11ea_a6fb_107b449f15fclevel0_row0\" class=\"row_heading level0 row0\" >психология</th>\n",
       "                        <td id=\"T_e61b3bbe_05ef_11ea_a6fb_107b449f15fcrow0_col0\" class=\"data row0 col0\" >0.19132</td>\n",
       "            </tr>\n",
       "            <tr>\n",
       "                        <th id=\"T_e61b3bbe_05ef_11ea_a6fb_107b449f15fclevel0_row1\" class=\"row_heading level0 row1\" >город</th>\n",
       "                        <td id=\"T_e61b3bbe_05ef_11ea_a6fb_107b449f15fcrow1_col0\" class=\"data row1 col0\" >0.14126</td>\n",
       "            </tr>\n",
       "            <tr>\n",
       "                        <th id=\"T_e61b3bbe_05ef_11ea_a6fb_107b449f15fclevel0_row2\" class=\"row_heading level0 row2\" >когнитивная_психология</th>\n",
       "                        <td id=\"T_e61b3bbe_05ef_11ea_a6fb_107b449f15fcrow2_col0\" class=\"data row2 col0\" >0.08371</td>\n",
       "            </tr>\n",
       "            <tr>\n",
       "                        <th id=\"T_e61b3bbe_05ef_11ea_a6fb_107b449f15fclevel0_row3\" class=\"row_heading level0 row3\" >мышление</th>\n",
       "                        <td id=\"T_e61b3bbe_05ef_11ea_a6fb_107b449f15fcrow3_col0\" class=\"data row3 col0\" >0.08073</td>\n",
       "            </tr>\n",
       "            <tr>\n",
       "                        <th id=\"T_e61b3bbe_05ef_11ea_a6fb_107b449f15fclevel0_row4\" class=\"row_heading level0 row4\" >урбанистика</th>\n",
       "                        <td id=\"T_e61b3bbe_05ef_11ea_a6fb_107b449f15fcrow4_col0\" class=\"data row4 col0\" >0.06508</td>\n",
       "            </tr>\n",
       "            <tr>\n",
       "                        <th id=\"T_e61b3bbe_05ef_11ea_a6fb_107b449f15fclevel0_row5\" class=\"row_heading level0 row5\" >городское_пространство</th>\n",
       "                        <td id=\"T_e61b3bbe_05ef_11ea_a6fb_107b449f15fcrow5_col0\" class=\"data row5 col0\" >0.0483</td>\n",
       "            </tr>\n",
       "            <tr>\n",
       "                        <th id=\"T_e61b3bbe_05ef_11ea_a6fb_107b449f15fclevel0_row6\" class=\"row_heading level0 row6\" >социология_пространства</th>\n",
       "                        <td id=\"T_e61b3bbe_05ef_11ea_a6fb_107b449f15fcrow6_col0\" class=\"data row6 col0\" >0.03487</td>\n",
       "            </tr>\n",
       "            <tr>\n",
       "                        <th id=\"T_e61b3bbe_05ef_11ea_a6fb_107b449f15fclevel0_row7\" class=\"row_heading level0 row7\" >миграция</th>\n",
       "                        <td id=\"T_e61b3bbe_05ef_11ea_a6fb_107b449f15fcrow7_col0\" class=\"data row7 col0\" >0.03314</td>\n",
       "            </tr>\n",
       "            <tr>\n",
       "                        <th id=\"T_e61b3bbe_05ef_11ea_a6fb_107b449f15fclevel0_row8\" class=\"row_heading level0 row8\" >москва</th>\n",
       "                        <td id=\"T_e61b3bbe_05ef_11ea_a6fb_107b449f15fcrow8_col0\" class=\"data row8 col0\" >0.02935</td>\n",
       "            </tr>\n",
       "            <tr>\n",
       "                        <th id=\"T_e61b3bbe_05ef_11ea_a6fb_107b449f15fclevel0_row9\" class=\"row_heading level0 row9\" >внимание</th>\n",
       "                        <td id=\"T_e61b3bbe_05ef_11ea_a6fb_107b449f15fcrow9_col0\" class=\"data row9 col0\" >0.02783</td>\n",
       "            </tr>\n",
       "    </tbody></table><style  type=\"text/css\" >\n",
       "</style><table id=\"T_e61b3bbf_05ef_11ea_a6fb_107b449f15fc\" style='display:inline'><thead>    <tr>        <th class=\"blank level0\" ></th>        <th class=\"col_heading level0 col0\" >topic_22 @word</th>    </tr></thead><tbody>\n",
       "                <tr>\n",
       "                        <th id=\"T_e61b3bbf_05ef_11ea_a6fb_107b449f15fclevel0_row0\" class=\"row_heading level0 row0\" >город</th>\n",
       "                        <td id=\"T_e61b3bbf_05ef_11ea_a6fb_107b449f15fcrow0_col0\" class=\"data row0 col0\" >0.01466</td>\n",
       "            </tr>\n",
       "            <tr>\n",
       "                        <th id=\"T_e61b3bbf_05ef_11ea_a6fb_107b449f15fclevel0_row1\" class=\"row_heading level0 row1\" >задача</th>\n",
       "                        <td id=\"T_e61b3bbf_05ef_11ea_a6fb_107b449f15fcrow1_col0\" class=\"data row1 col0\" >0.00501</td>\n",
       "            </tr>\n",
       "            <tr>\n",
       "                        <th id=\"T_e61b3bbf_05ef_11ea_a6fb_107b449f15fclevel0_row2\" class=\"row_heading level0 row2\" >внимание</th>\n",
       "                        <td id=\"T_e61b3bbf_05ef_11ea_a6fb_107b449f15fcrow2_col0\" class=\"data row2 col0\" >0.00416</td>\n",
       "            </tr>\n",
       "            <tr>\n",
       "                        <th id=\"T_e61b3bbf_05ef_11ea_a6fb_107b449f15fclevel0_row3\" class=\"row_heading level0 row3\" >образ</th>\n",
       "                        <td id=\"T_e61b3bbf_05ef_11ea_a6fb_107b449f15fcrow3_col0\" class=\"data row3 col0\" >0.00388</td>\n",
       "            </tr>\n",
       "            <tr>\n",
       "                        <th id=\"T_e61b3bbf_05ef_11ea_a6fb_107b449f15fclevel0_row4\" class=\"row_heading level0 row4\" >жизнь</th>\n",
       "                        <td id=\"T_e61b3bbf_05ef_11ea_a6fb_107b449f15fcrow4_col0\" class=\"data row4 col0\" >0.00367</td>\n",
       "            </tr>\n",
       "            <tr>\n",
       "                        <th id=\"T_e61b3bbf_05ef_11ea_a6fb_107b449f15fclevel0_row5\" class=\"row_heading level0 row5\" >пространство</th>\n",
       "                        <td id=\"T_e61b3bbf_05ef_11ea_a6fb_107b449f15fcrow5_col0\" class=\"data row5 col0\" >0.00363</td>\n",
       "            </tr>\n",
       "            <tr>\n",
       "                        <th id=\"T_e61b3bbf_05ef_11ea_a6fb_107b449f15fclevel0_row6\" class=\"row_heading level0 row6\" >испытуемый</th>\n",
       "                        <td id=\"T_e61b3bbf_05ef_11ea_a6fb_107b449f15fcrow6_col0\" class=\"data row6 col0\" >0.00363</td>\n",
       "            </tr>\n",
       "            <tr>\n",
       "                        <th id=\"T_e61b3bbf_05ef_11ea_a6fb_107b449f15fclevel0_row7\" class=\"row_heading level0 row7\" >ребёнок</th>\n",
       "                        <td id=\"T_e61b3bbf_05ef_11ea_a6fb_107b449f15fcrow7_col0\" class=\"data row7 col0\" >0.00357</td>\n",
       "            </tr>\n",
       "            <tr>\n",
       "                        <th id=\"T_e61b3bbf_05ef_11ea_a6fb_107b449f15fclevel0_row8\" class=\"row_heading level0 row8\" >мышление</th>\n",
       "                        <td id=\"T_e61b3bbf_05ef_11ea_a6fb_107b449f15fcrow8_col0\" class=\"data row8 col0\" >0.00351</td>\n",
       "            </tr>\n",
       "            <tr>\n",
       "                        <th id=\"T_e61b3bbf_05ef_11ea_a6fb_107b449f15fclevel0_row9\" class=\"row_heading level0 row9\" >городской</th>\n",
       "                        <td id=\"T_e61b3bbf_05ef_11ea_a6fb_107b449f15fcrow9_col0\" class=\"data row9 col0\" >0.00345</td>\n",
       "            </tr>\n",
       "    </tbody></table>"
      ]
     },
     "metadata": {},
     "output_type": "display_data"
    },
    {
     "data": {
      "text/html": [
       "<b> поиск букв в больших буквенных массивахпарадоксы «теста мюнстерберга» </b><br /> психолог мария фаликман о нисходящих процессах в обработке буквенной информации и внимании в зрительном поиске"
      ]
     },
     "metadata": {},
     "output_type": "display_data"
    },
    {
     "data": {
      "text/html": [
       "<b> метафоры и модели внимания в когнитивной психологии </b><br /> психолог мария фаликман об ограничениях внимания, модели фильтра и факторах распределения ресурсов внимания"
      ]
     },
     "metadata": {},
     "output_type": "display_data"
    },
    {
     "data": {
      "text/html": [
       "<b> виды мышления </b><br /> психолог мария фаликман об особом подходе к исследованию мышления в психологии, различиях между теоретическим и практическим мышлением и имеющихся классификациях"
      ]
     },
     "metadata": {},
     "output_type": "display_data"
    },
    {
     "data": {
      "text/html": [
       "<b> faqмышление в психологическом исследовании </b><br /> 7 фактов о методах исследования способов, которыми мы решаем задачи и проблемы"
      ]
     },
     "metadata": {},
     "output_type": "display_data"
    },
    {
     "data": {
      "text/html": [
       "<b> методы изучения категорий у детей </b><br /> психолог алексей котов о способности к категоризации, ее изучении и зрительных предпочтениях детей"
      ]
     },
     "metadata": {},
     "output_type": "display_data"
    },
    {
     "data": {
      "text/html": [
       "<b> явление и понятие инсайта </b><br /> психолог владимир спиридонов об этапах решения задачи, ошибках переживания и психологических экспериментах"
      ]
     },
     "metadata": {},
     "output_type": "display_data"
    },
    {
     "data": {
      "text/html": [
       "<b> психология создания трудностей и проблем </b><br /> психолог александр поддьяков о различных типах трудностей, их нравственной оценке и разработке игр"
      ]
     },
     "metadata": {},
     "output_type": "display_data"
    },
    {
     "data": {
      "text/html": [
       "<b> как развить творческие способности? </b><br /> психолог владимир спиридонов о психологии творчества, поиске креативных решений и эвристических стратегиях"
      ]
     },
     "metadata": {},
     "output_type": "display_data"
    },
    {
     "data": {
      "text/html": [
       "<b> главы # природа эмоционального интеллекта. когда умный глупеет </b><br /> отрывок из книги \"эмоциональный интеллект\" дэниела гоулмана - американского психолога, дважды номинанта пулитцеровской премии"
      ]
     },
     "metadata": {},
     "output_type": "display_data"
    },
    {
     "data": {
      "text/html": [
       "<b> познавательные процессы человека </b><br /> психолог мария фаликман о единой теории психических процессов, проблеме квалиа и психологическом времени"
      ]
     },
     "metadata": {},
     "output_type": "display_data"
    },
    {
     "data": {
      "text/html": [
       "<style  type=\"text/css\" >\n",
       "</style><table id=\"T_e61b3bc0_05ef_11ea_a6fb_107b449f15fc\" style='display:inline'><thead>    <tr>        <th class=\"blank level0\" ></th>        <th class=\"col_heading level0 col0\" >topic_23 @2gramm</th>    </tr></thead><tbody>\n",
       "                <tr>\n",
       "                        <th id=\"T_e61b3bc0_05ef_11ea_a6fb_107b449f15fclevel0_row0\" class=\"row_heading level0 row0\" >тёмный_материя</th>\n",
       "                        <td id=\"T_e61b3bc0_05ef_11ea_a6fb_107b449f15fcrow0_col0\" class=\"data row0 col0\" >0.02739</td>\n",
       "            </tr>\n",
       "            <tr>\n",
       "                        <th id=\"T_e61b3bc0_05ef_11ea_a6fb_107b449f15fclevel0_row1\" class=\"row_heading level0 row1\" >социология_право</th>\n",
       "                        <td id=\"T_e61b3bc0_05ef_11ea_a6fb_107b449f15fcrow1_col0\" class=\"data row1 col0\" >0.02155</td>\n",
       "            </tr>\n",
       "            <tr>\n",
       "                        <th id=\"T_e61b3bc0_05ef_11ea_a6fb_107b449f15fclevel0_row2\" class=\"row_heading level0 row2\" >скрытый_масса</th>\n",
       "                        <td id=\"T_e61b3bc0_05ef_11ea_a6fb_107b449f15fcrow2_col0\" class=\"data row2 col0\" >0.01163</td>\n",
       "            </tr>\n",
       "            <tr>\n",
       "                        <th id=\"T_e61b3bc0_05ef_11ea_a6fb_107b449f15fclevel0_row3\" class=\"row_heading level0 row3\" >советский_этнография</th>\n",
       "                        <td id=\"T_e61b3bc0_05ef_11ea_a6fb_107b449f15fcrow3_col0\" class=\"data row3 col0\" >0.0066</td>\n",
       "            </tr>\n",
       "            <tr>\n",
       "                        <th id=\"T_e61b3bc0_05ef_11ea_a6fb_107b449f15fclevel0_row4\" class=\"row_heading level0 row4\" >коренной_народ</th>\n",
       "                        <td id=\"T_e61b3bc0_05ef_11ea_a6fb_107b449f15fcrow4_col0\" class=\"data row4 col0\" >0.0062</td>\n",
       "            </tr>\n",
       "            <tr>\n",
       "                        <th id=\"T_e61b3bc0_05ef_11ea_a6fb_107b449f15fclevel0_row5\" class=\"row_heading level0 row5\" >интеллектуальный_собственность</th>\n",
       "                        <td id=\"T_e61b3bc0_05ef_11ea_a6fb_107b449f15fcrow5_col0\" class=\"data row5 col0\" >0.00577</td>\n",
       "            </tr>\n",
       "            <tr>\n",
       "                        <th id=\"T_e61b3bc0_05ef_11ea_a6fb_107b449f15fclevel0_row6\" class=\"row_heading level0 row6\" >российский_федерация</th>\n",
       "                        <td id=\"T_e61b3bc0_05ef_11ea_a6fb_107b449f15fcrow6_col0\" class=\"data row6 col0\" >0.00566</td>\n",
       "            </tr>\n",
       "            <tr>\n",
       "                        <th id=\"T_e61b3bc0_05ef_11ea_a6fb_107b449f15fclevel0_row7\" class=\"row_heading level0 row7\" >теория_этнос</th>\n",
       "                        <td id=\"T_e61b3bc0_05ef_11ea_a6fb_107b449f15fcrow7_col0\" class=\"data row7 col0\" >0.00562</td>\n",
       "            </tr>\n",
       "            <tr>\n",
       "                        <th id=\"T_e61b3bc0_05ef_11ea_a6fb_107b449f15fclevel0_row8\" class=\"row_heading level0 row8\" >понятие_политический</th>\n",
       "                        <td id=\"T_e61b3bc0_05ef_11ea_a6fb_107b449f15fcrow8_col0\" class=\"data row8 col0\" >0.00521</td>\n",
       "            </tr>\n",
       "            <tr>\n",
       "                        <th id=\"T_e61b3bc0_05ef_11ea_a6fb_107b449f15fclevel0_row9\" class=\"row_heading level0 row9\" >рабочий_группа</th>\n",
       "                        <td id=\"T_e61b3bc0_05ef_11ea_a6fb_107b449f15fcrow9_col0\" class=\"data row9 col0\" >0.00518</td>\n",
       "            </tr>\n",
       "    </tbody></table><style  type=\"text/css\" >\n",
       "</style><table id=\"T_e61b3bc1_05ef_11ea_a6fb_107b449f15fc\" style='display:inline'><thead>    <tr>        <th class=\"blank level0\" ></th>        <th class=\"col_heading level0 col0\" >topic_23 @3gramm</th>    </tr></thead><tbody>\n",
       "                <tr>\n",
       "                        <th id=\"T_e61b3bc1_05ef_11ea_a6fb_107b449f15fclevel0_row0\" class=\"row_heading level0 row0\" >частица_тёмный_материя</th>\n",
       "                        <td id=\"T_e61b3bc1_05ef_11ea_a6fb_107b449f15fcrow0_col0\" class=\"data row0 col0\" >0.29665</td>\n",
       "            </tr>\n",
       "            <tr>\n",
       "                        <th id=\"T_e61b3bc1_05ef_11ea_a6fb_107b449f15fclevel0_row1\" class=\"row_heading level0 row1\" >распад_советский_союз</th>\n",
       "                        <td id=\"T_e61b3bc1_05ef_11ea_a6fb_107b449f15fcrow1_col0\" class=\"data row1 col0\" >0.12816</td>\n",
       "            </tr>\n",
       "            <tr>\n",
       "                        <th id=\"T_e61b3bc1_05ef_11ea_a6fb_107b449f15fclevel0_row2\" class=\"row_heading level0 row2\" >конец_хх_век</th>\n",
       "                        <td id=\"T_e61b3bc1_05ef_11ea_a6fb_107b449f15fcrow2_col0\" class=\"data row2 col0\" >0.09608</td>\n",
       "            </tr>\n",
       "            <tr>\n",
       "                        <th id=\"T_e61b3bc1_05ef_11ea_a6fb_107b449f15fclevel0_row3\" class=\"row_heading level0 row3\" >конец_xvii_век</th>\n",
       "                        <td id=\"T_e61b3bc1_05ef_11ea_a6fb_107b449f15fcrow3_col0\" class=\"data row3 col0\" >0.08732</td>\n",
       "            </tr>\n",
       "            <tr>\n",
       "                        <th id=\"T_e61b3bc1_05ef_11ea_a6fb_107b449f15fclevel0_row4\" class=\"row_heading level0 row4\" >вспышка_сверхновый_звезда</th>\n",
       "                        <td id=\"T_e61b3bc1_05ef_11ea_a6fb_107b449f15fcrow4_col0\" class=\"data row4 col0\" >0.0771</td>\n",
       "            </tr>\n",
       "            <tr>\n",
       "                        <th id=\"T_e61b3bc1_05ef_11ea_a6fb_107b449f15fclevel0_row5\" class=\"row_heading level0 row5\" >плотность_тёмный_материя</th>\n",
       "                        <td id=\"T_e61b3bc1_05ef_11ea_a6fb_107b449f15fcrow5_col0\" class=\"data row5 col0\" >0.04989</td>\n",
       "            </tr>\n",
       "            <tr>\n",
       "                        <th id=\"T_e61b3bc1_05ef_11ea_a6fb_107b449f15fclevel0_row6\" class=\"row_heading level0 row6\" >современный_социология_право</th>\n",
       "                        <td id=\"T_e61b3bc1_05ef_11ea_a6fb_107b449f15fcrow6_col0\" class=\"data row6 col0\" >0.04808</td>\n",
       "            </tr>\n",
       "            <tr>\n",
       "                        <th id=\"T_e61b3bc1_05ef_11ea_a6fb_107b449f15fclevel0_row7\" class=\"row_heading level0 row7\" >изучение_нейтронный_звезда</th>\n",
       "                        <td id=\"T_e61b3bc1_05ef_11ea_a6fb_107b449f15fcrow7_col0\" class=\"data row7 col0\" >0.03993</td>\n",
       "            </tr>\n",
       "            <tr>\n",
       "                        <th id=\"T_e61b3bc1_05ef_11ea_a6fb_107b449f15fclevel0_row8\" class=\"row_heading level0 row8\" >находить_друг_друг</th>\n",
       "                        <td id=\"T_e61b3bc1_05ef_11ea_a6fb_107b449f15fcrow8_col0\" class=\"data row8 col0\" >0.03647</td>\n",
       "            </tr>\n",
       "            <tr>\n",
       "                        <th id=\"T_e61b3bc1_05ef_11ea_a6fb_107b449f15fclevel0_row9\" class=\"row_heading level0 row9\" >последний_пара_десяток</th>\n",
       "                        <td id=\"T_e61b3bc1_05ef_11ea_a6fb_107b449f15fcrow9_col0\" class=\"data row9 col0\" >0.03623</td>\n",
       "            </tr>\n",
       "    </tbody></table><style  type=\"text/css\" >\n",
       "</style><table id=\"T_e61b3bc2_05ef_11ea_a6fb_107b449f15fc\" style='display:inline'><thead>    <tr>        <th class=\"blank level0\" ></th>        <th class=\"col_heading level0 col0\" >topic_23 @post_tag</th>    </tr></thead><tbody>\n",
       "                <tr>\n",
       "                        <th id=\"T_e61b3bc2_05ef_11ea_a6fb_107b449f15fclevel0_row0\" class=\"row_heading level0 row0\" >этнография</th>\n",
       "                        <td id=\"T_e61b3bc2_05ef_11ea_a6fb_107b449f15fcrow0_col0\" class=\"data row0 col0\" >0.10562</td>\n",
       "            </tr>\n",
       "            <tr>\n",
       "                        <th id=\"T_e61b3bc2_05ef_11ea_a6fb_107b449f15fclevel0_row1\" class=\"row_heading level0 row1\" >этнос</th>\n",
       "                        <td id=\"T_e61b3bc2_05ef_11ea_a6fb_107b449f15fcrow1_col0\" class=\"data row1 col0\" >0.08638</td>\n",
       "            </tr>\n",
       "            <tr>\n",
       "                        <th id=\"T_e61b3bc2_05ef_11ea_a6fb_107b449f15fclevel0_row2\" class=\"row_heading level0 row2\" >социология_права</th>\n",
       "                        <td id=\"T_e61b3bc2_05ef_11ea_a6fb_107b449f15fcrow2_col0\" class=\"data row2 col0\" >0.07694</td>\n",
       "            </tr>\n",
       "            <tr>\n",
       "                        <th id=\"T_e61b3bc2_05ef_11ea_a6fb_107b449f15fclevel0_row3\" class=\"row_heading level0 row3\" >право</th>\n",
       "                        <td id=\"T_e61b3bc2_05ef_11ea_a6fb_107b449f15fcrow3_col0\" class=\"data row3 col0\" >0.06774</td>\n",
       "            </tr>\n",
       "            <tr>\n",
       "                        <th id=\"T_e61b3bc2_05ef_11ea_a6fb_107b449f15fclevel0_row4\" class=\"row_heading level0 row4\" >топология</th>\n",
       "                        <td id=\"T_e61b3bc2_05ef_11ea_a6fb_107b449f15fcrow4_col0\" class=\"data row4 col0\" >0.05243</td>\n",
       "            </tr>\n",
       "            <tr>\n",
       "                        <th id=\"T_e61b3bc2_05ef_11ea_a6fb_107b449f15fclevel0_row5\" class=\"row_heading level0 row5\" >судопроизводство</th>\n",
       "                        <td id=\"T_e61b3bc2_05ef_11ea_a6fb_107b449f15fcrow5_col0\" class=\"data row5 col0\" >0.04308</td>\n",
       "            </tr>\n",
       "            <tr>\n",
       "                        <th id=\"T_e61b3bc2_05ef_11ea_a6fb_107b449f15fclevel0_row6\" class=\"row_heading level0 row6\" >социология</th>\n",
       "                        <td id=\"T_e61b3bc2_05ef_11ea_a6fb_107b449f15fcrow6_col0\" class=\"data row6 col0\" >0.041</td>\n",
       "            </tr>\n",
       "            <tr>\n",
       "                        <th id=\"T_e61b3bc2_05ef_11ea_a6fb_107b449f15fclevel0_row7\" class=\"row_heading level0 row7\" >судебная_система</th>\n",
       "                        <td id=\"T_e61b3bc2_05ef_11ea_a6fb_107b449f15fcrow7_col0\" class=\"data row7 col0\" >0.03834</td>\n",
       "            </tr>\n",
       "            <tr>\n",
       "                        <th id=\"T_e61b3bc2_05ef_11ea_a6fb_107b449f15fclevel0_row8\" class=\"row_heading level0 row8\" >полиция</th>\n",
       "                        <td id=\"T_e61b3bc2_05ef_11ea_a6fb_107b449f15fcrow8_col0\" class=\"data row8 col0\" >0.03822</td>\n",
       "            </tr>\n",
       "            <tr>\n",
       "                        <th id=\"T_e61b3bc2_05ef_11ea_a6fb_107b449f15fclevel0_row9\" class=\"row_heading level0 row9\" >шмитт_карл</th>\n",
       "                        <td id=\"T_e61b3bc2_05ef_11ea_a6fb_107b449f15fcrow9_col0\" class=\"data row9 col0\" >0.03811</td>\n",
       "            </tr>\n",
       "    </tbody></table><style  type=\"text/css\" >\n",
       "</style><table id=\"T_e61b3bc3_05ef_11ea_a6fb_107b449f15fc\" style='display:inline'><thead>    <tr>        <th class=\"blank level0\" ></th>        <th class=\"col_heading level0 col0\" >topic_23 @word</th>    </tr></thead><tbody>\n",
       "                <tr>\n",
       "                        <th id=\"T_e61b3bc3_05ef_11ea_a6fb_107b449f15fclevel0_row0\" class=\"row_heading level0 row0\" >право</th>\n",
       "                        <td id=\"T_e61b3bc3_05ef_11ea_a6fb_107b449f15fcrow0_col0\" class=\"data row0 col0\" >0.00746</td>\n",
       "            </tr>\n",
       "            <tr>\n",
       "                        <th id=\"T_e61b3bc3_05ef_11ea_a6fb_107b449f15fclevel0_row1\" class=\"row_heading level0 row1\" >закон</th>\n",
       "                        <td id=\"T_e61b3bc3_05ef_11ea_a6fb_107b449f15fcrow1_col0\" class=\"data row1 col0\" >0.00616</td>\n",
       "            </tr>\n",
       "            <tr>\n",
       "                        <th id=\"T_e61b3bc3_05ef_11ea_a6fb_107b449f15fclevel0_row2\" class=\"row_heading level0 row2\" >декарт</th>\n",
       "                        <td id=\"T_e61b3bc3_05ef_11ea_a6fb_107b449f15fcrow2_col0\" class=\"data row2 col0\" >0.00566</td>\n",
       "            </tr>\n",
       "            <tr>\n",
       "                        <th id=\"T_e61b3bc3_05ef_11ea_a6fb_107b449f15fclevel0_row3\" class=\"row_heading level0 row3\" >суд</th>\n",
       "                        <td id=\"T_e61b3bc3_05ef_11ea_a6fb_107b449f15fcrow3_col0\" class=\"data row3 col0\" >0.0038</td>\n",
       "            </tr>\n",
       "            <tr>\n",
       "                        <th id=\"T_e61b3bc3_05ef_11ea_a6fb_107b449f15fclevel0_row4\" class=\"row_heading level0 row4\" >россия</th>\n",
       "                        <td id=\"T_e61b3bc3_05ef_11ea_a6fb_107b449f15fcrow4_col0\" class=\"data row4 col0\" >0.00362</td>\n",
       "            </tr>\n",
       "            <tr>\n",
       "                        <th id=\"T_e61b3bc3_05ef_11ea_a6fb_107b449f15fclevel0_row5\" class=\"row_heading level0 row5\" >ребёнок</th>\n",
       "                        <td id=\"T_e61b3bc3_05ef_11ea_a6fb_107b449f15fcrow5_col0\" class=\"data row5 col0\" >0.00324</td>\n",
       "            </tr>\n",
       "            <tr>\n",
       "                        <th id=\"T_e61b3bc3_05ef_11ea_a6fb_107b449f15fclevel0_row6\" class=\"row_heading level0 row6\" >дискурс</th>\n",
       "                        <td id=\"T_e61b3bc3_05ef_11ea_a6fb_107b449f15fcrow6_col0\" class=\"data row6 col0\" >0.00321</td>\n",
       "            </tr>\n",
       "            <tr>\n",
       "                        <th id=\"T_e61b3bc3_05ef_11ea_a6fb_107b449f15fclevel0_row7\" class=\"row_heading level0 row7\" >работа</th>\n",
       "                        <td id=\"T_e61b3bc3_05ef_11ea_a6fb_107b449f15fcrow7_col0\" class=\"data row7 col0\" >0.0031</td>\n",
       "            </tr>\n",
       "            <tr>\n",
       "                        <th id=\"T_e61b3bc3_05ef_11ea_a6fb_107b449f15fclevel0_row8\" class=\"row_heading level0 row8\" >вопрос</th>\n",
       "                        <td id=\"T_e61b3bc3_05ef_11ea_a6fb_107b449f15fcrow8_col0\" class=\"data row8 col0\" >0.00303</td>\n",
       "            </tr>\n",
       "            <tr>\n",
       "                        <th id=\"T_e61b3bc3_05ef_11ea_a6fb_107b449f15fclevel0_row9\" class=\"row_heading level0 row9\" >разный</th>\n",
       "                        <td id=\"T_e61b3bc3_05ef_11ea_a6fb_107b449f15fcrow9_col0\" class=\"data row9 col0\" >0.00284</td>\n",
       "            </tr>\n",
       "    </tbody></table>"
      ]
     },
     "metadata": {},
     "output_type": "display_data"
    },
    {
     "data": {
      "text/html": [
       "<b> рабочие группы в суде </b><br /> социолог кирилл титаев о системе правосудия в сша, сделках о признании вины и российской специфике рабочих групп в суде"
      ]
     },
     "metadata": {},
     "output_type": "display_data"
    },
    {
     "data": {
      "text/html": [
       "<b> «итальянские корни» советской теории этноса </b><br /> как проходило становление российской этнологии и развитие дискуссий о народе, этносе и этничности в советский период"
      ]
     },
     "metadata": {},
     "output_type": "display_data"
    },
    {
     "data": {
      "text/html": [
       "<b> faqмобилизация права </b><br /> 5 фактов о возможностях жертв преступлений и всеобщем неравенстве перед законом"
      ]
     },
     "metadata": {},
     "output_type": "display_data"
    },
    {
     "data": {
      "text/html": [
       "<b> 5 книг по социологии права </b><br /> что читать о функционировании правовых норм и их изучении, рекомендует ведущий научный сотрудник института проблем правоприменения кирилл титаев"
      ]
     },
     "metadata": {},
     "output_type": "display_data"
    },
    {
     "data": {
      "text/html": [
       "<b> социология права </b><br /> социолог кирилл титаев о правоприменении, технологии соблюдения законов и повседневных практиках работы прокуратуры"
      ]
     },
     "metadata": {},
     "output_type": "display_data"
    },
    {
     "data": {
      "text/html": [
       "<b> стрелецкие бунты </b><br /> историк александр лаврентьев о бунте 1682 года, царевне софье и утре стрелецкой казни"
      ]
     },
     "metadata": {},
     "output_type": "display_data"
    },
    {
     "data": {
      "text/html": [
       "<b> социология права </b><br /> 8 лекций социолога кирилла титаева об исследованиях правовых институтов и принципах функционирования законов"
      ]
     },
     "metadata": {},
     "output_type": "display_data"
    },
    {
     "data": {
      "text/html": [
       "<b> что такое «по закону»история поиска ответов </b><br /> как сформировалась социология права, какие направления исследований доминируют сегодня и на какие работы по теме стоит обратить внимание, рассказывает социолог кирилл титаев"
      ]
     },
     "metadata": {},
     "output_type": "display_data"
    },
    {
     "data": {
      "text/html": [
       "<b> обнаружены ли следы распада темной материи? </b><br /> об особенностях рентгеновского излучения галактик и их скоплений"
      ]
     },
     "metadata": {},
     "output_type": "display_data"
    },
    {
     "data": {
      "text/html": [
       "<b> faqнеравенство в суде </b><br /> 5 фактов о дискриминации в суде, ее причинах и значении социального статуса при вынесении приговоров"
      ]
     },
     "metadata": {},
     "output_type": "display_data"
    },
    {
     "data": {
      "text/html": [
       "<style  type=\"text/css\" >\n",
       "</style><table id=\"T_e61b3bc4_05ef_11ea_a6fb_107b449f15fc\" style='display:inline'><thead>    <tr>        <th class=\"blank level0\" ></th>        <th class=\"col_heading level0 col0\" >topic_24 @2gramm</th>    </tr></thead><tbody>\n",
       "                <tr>\n",
       "                        <th id=\"T_e61b3bc4_05ef_11ea_a6fb_107b449f15fclevel0_row0\" class=\"row_heading level0 row0\" >система_образование</th>\n",
       "                        <td id=\"T_e61b3bc4_05ef_11ea_a6fb_107b449f15fcrow0_col0\" class=\"data row0 col0\" >0.01225</td>\n",
       "            </tr>\n",
       "            <tr>\n",
       "                        <th id=\"T_e61b3bc4_05ef_11ea_a6fb_107b449f15fclevel0_row1\" class=\"row_heading level0 row1\" >новый_программа</th>\n",
       "                        <td id=\"T_e61b3bc4_05ef_11ea_a6fb_107b449f15fcrow1_col0\" class=\"data row1 col0\" >0.0075</td>\n",
       "            </tr>\n",
       "            <tr>\n",
       "                        <th id=\"T_e61b3bc4_05ef_11ea_a6fb_107b449f15fclevel0_row2\" class=\"row_heading level0 row2\" >научный_сообщество</th>\n",
       "                        <td id=\"T_e61b3bc4_05ef_11ea_a6fb_107b449f15fcrow2_col0\" class=\"data row2 col0\" >0.00742</td>\n",
       "            </tr>\n",
       "            <tr>\n",
       "                        <th id=\"T_e61b3bc4_05ef_11ea_a6fb_107b449f15fclevel0_row3\" class=\"row_heading level0 row3\" >школьный_образование</th>\n",
       "                        <td id=\"T_e61b3bc4_05ef_11ea_a6fb_107b449f15fcrow3_col0\" class=\"data row3 col0\" >0.00562</td>\n",
       "            </tr>\n",
       "            <tr>\n",
       "                        <th id=\"T_e61b3bc4_05ef_11ea_a6fb_107b449f15fclevel0_row4\" class=\"row_heading level0 row4\" >гуманитарный_наука</th>\n",
       "                        <td id=\"T_e61b3bc4_05ef_11ea_a6fb_107b449f15fcrow4_col0\" class=\"data row4 col0\" >0.00525</td>\n",
       "            </tr>\n",
       "            <tr>\n",
       "                        <th id=\"T_e61b3bc4_05ef_11ea_a6fb_107b449f15fclevel0_row5\" class=\"row_heading level0 row5\" >научный_работа</th>\n",
       "                        <td id=\"T_e61b3bc4_05ef_11ea_a6fb_107b449f15fcrow5_col0\" class=\"data row5 col0\" >0.00511</td>\n",
       "            </tr>\n",
       "            <tr>\n",
       "                        <th id=\"T_e61b3bc4_05ef_11ea_a6fb_107b449f15fclevel0_row6\" class=\"row_heading level0 row6\" >исторический_знание</th>\n",
       "                        <td id=\"T_e61b3bc4_05ef_11ea_a6fb_107b449f15fcrow6_col0\" class=\"data row6 col0\" >0.00494</td>\n",
       "            </tr>\n",
       "            <tr>\n",
       "                        <th id=\"T_e61b3bc4_05ef_11ea_a6fb_107b449f15fclevel0_row7\" class=\"row_heading level0 row7\" >заниматься_наука</th>\n",
       "                        <td id=\"T_e61b3bc4_05ef_11ea_a6fb_107b449f15fcrow7_col0\" class=\"data row7 col0\" >0.0047</td>\n",
       "            </tr>\n",
       "            <tr>\n",
       "                        <th id=\"T_e61b3bc4_05ef_11ea_a6fb_107b449f15fclevel0_row8\" class=\"row_heading level0 row8\" >аналитический_философия</th>\n",
       "                        <td id=\"T_e61b3bc4_05ef_11ea_a6fb_107b449f15fcrow8_col0\" class=\"data row8 col0\" >0.00446</td>\n",
       "            </tr>\n",
       "            <tr>\n",
       "                        <th id=\"T_e61b3bc4_05ef_11ea_a6fb_107b449f15fclevel0_row9\" class=\"row_heading level0 row9\" >средний_школа</th>\n",
       "                        <td id=\"T_e61b3bc4_05ef_11ea_a6fb_107b449f15fcrow9_col0\" class=\"data row9 col0\" >0.00433</td>\n",
       "            </tr>\n",
       "    </tbody></table><style  type=\"text/css\" >\n",
       "</style><table id=\"T_e61b3bc5_05ef_11ea_a6fb_107b449f15fc\" style='display:inline'><thead>    <tr>        <th class=\"blank level0\" ></th>        <th class=\"col_heading level0 col0\" >topic_24 @3gramm</th>    </tr></thead><tbody>\n",
       "                <tr>\n",
       "                        <th id=\"T_e61b3bc5_05ef_11ea_a6fb_107b449f15fclevel0_row0\" class=\"row_heading level0 row0\" >половина_xx_век</th>\n",
       "                        <td id=\"T_e61b3bc5_05ef_11ea_a6fb_107b449f15fcrow0_col0\" class=\"data row0 col0\" >0.41884</td>\n",
       "            </tr>\n",
       "            <tr>\n",
       "                        <th id=\"T_e61b3bc5_05ef_11ea_a6fb_107b449f15fclevel0_row1\" class=\"row_heading level0 row1\" >широкий_смысл_слово</th>\n",
       "                        <td id=\"T_e61b3bc5_05ef_11ea_a6fb_107b449f15fcrow1_col0\" class=\"data row1 col0\" >0.10822</td>\n",
       "            </tr>\n",
       "            <tr>\n",
       "                        <th id=\"T_e61b3bc5_05ef_11ea_a6fb_107b449f15fclevel0_row2\" class=\"row_heading level0 row2\" >основный_проблема_преподавание</th>\n",
       "                        <td id=\"T_e61b3bc5_05ef_11ea_a6fb_107b449f15fcrow2_col0\" class=\"data row2 col0\" >0.08665</td>\n",
       "            </tr>\n",
       "            <tr>\n",
       "                        <th id=\"T_e61b3bc5_05ef_11ea_a6fb_107b449f15fclevel0_row3\" class=\"row_heading level0 row3\" >горячее_большой_взрыв</th>\n",
       "                        <td id=\"T_e61b3bc5_05ef_11ea_a6fb_107b449f15fcrow3_col0\" class=\"data row3 col0\" >0.064</td>\n",
       "            </tr>\n",
       "            <tr>\n",
       "                        <th id=\"T_e61b3bc5_05ef_11ea_a6fb_107b449f15fclevel0_row4\" class=\"row_heading level0 row4\" >сыграть_большой_роль</th>\n",
       "                        <td id=\"T_e61b3bc5_05ef_11ea_a6fb_107b449f15fcrow4_col0\" class=\"data row4 col0\" >0.05749</td>\n",
       "            </tr>\n",
       "            <tr>\n",
       "                        <th id=\"T_e61b3bc5_05ef_11ea_a6fb_107b449f15fclevel0_row5\" class=\"row_heading level0 row5\" >современный_аналитический_философия</th>\n",
       "                        <td id=\"T_e61b3bc5_05ef_11ea_a6fb_107b449f15fcrow5_col0\" class=\"data row5 col0\" >0.05043</td>\n",
       "            </tr>\n",
       "            <tr>\n",
       "                        <th id=\"T_e61b3bc5_05ef_11ea_a6fb_107b449f15fclevel0_row6\" class=\"row_heading level0 row6\" >огромный_количество_вещий</th>\n",
       "                        <td id=\"T_e61b3bc5_05ef_11ea_a6fb_107b449f15fcrow6_col0\" class=\"data row6 col0\" >0.03603</td>\n",
       "            </tr>\n",
       "            <tr>\n",
       "                        <th id=\"T_e61b3bc5_05ef_11ea_a6fb_107b449f15fclevel0_row7\" class=\"row_heading level0 row7\" >область_естественный_наука</th>\n",
       "                        <td id=\"T_e61b3bc5_05ef_11ea_a6fb_107b449f15fcrow7_col0\" class=\"data row7 col0\" >0.036</td>\n",
       "            </tr>\n",
       "            <tr>\n",
       "                        <th id=\"T_e61b3bc5_05ef_11ea_a6fb_107b449f15fclevel0_row8\" class=\"row_heading level0 row8\" >большой_количество_разный</th>\n",
       "                        <td id=\"T_e61b3bc5_05ef_11ea_a6fb_107b449f15fcrow8_col0\" class=\"data row8 col0\" >0.03582</td>\n",
       "            </tr>\n",
       "            <tr>\n",
       "                        <th id=\"T_e61b3bc5_05ef_11ea_a6fb_107b449f15fclevel0_row9\" class=\"row_heading level0 row9\" >российский_система_образование</th>\n",
       "                        <td id=\"T_e61b3bc5_05ef_11ea_a6fb_107b449f15fcrow9_col0\" class=\"data row9 col0\" >0.02875</td>\n",
       "            </tr>\n",
       "    </tbody></table><style  type=\"text/css\" >\n",
       "</style><table id=\"T_e61b3bc6_05ef_11ea_a6fb_107b449f15fc\" style='display:inline'><thead>    <tr>        <th class=\"blank level0\" ></th>        <th class=\"col_heading level0 col0\" >topic_24 @post_tag</th>    </tr></thead><tbody>\n",
       "                <tr>\n",
       "                        <th id=\"T_e61b3bc6_05ef_11ea_a6fb_107b449f15fclevel0_row0\" class=\"row_heading level0 row0\" >образование</th>\n",
       "                        <td id=\"T_e61b3bc6_05ef_11ea_a6fb_107b449f15fcrow0_col0\" class=\"data row0 col0\" >0.27504</td>\n",
       "            </tr>\n",
       "            <tr>\n",
       "                        <th id=\"T_e61b3bc6_05ef_11ea_a6fb_107b449f15fclevel0_row1\" class=\"row_heading level0 row1\" >наука</th>\n",
       "                        <td id=\"T_e61b3bc6_05ef_11ea_a6fb_107b449f15fcrow1_col0\" class=\"data row1 col0\" >0.18205</td>\n",
       "            </tr>\n",
       "            <tr>\n",
       "                        <th id=\"T_e61b3bc6_05ef_11ea_a6fb_107b449f15fclevel0_row2\" class=\"row_heading level0 row2\" >университет</th>\n",
       "                        <td id=\"T_e61b3bc6_05ef_11ea_a6fb_107b449f15fcrow2_col0\" class=\"data row2 col0\" >0.08638</td>\n",
       "            </tr>\n",
       "            <tr>\n",
       "                        <th id=\"T_e61b3bc6_05ef_11ea_a6fb_107b449f15fclevel0_row3\" class=\"row_heading level0 row3\" >школа</th>\n",
       "                        <td id=\"T_e61b3bc6_05ef_11ea_a6fb_107b449f15fcrow3_col0\" class=\"data row3 col0\" >0.0506</td>\n",
       "            </tr>\n",
       "            <tr>\n",
       "                        <th id=\"T_e61b3bc6_05ef_11ea_a6fb_107b449f15fclevel0_row4\" class=\"row_heading level0 row4\" >академическая_среда</th>\n",
       "                        <td id=\"T_e61b3bc6_05ef_11ea_a6fb_107b449f15fcrow4_col0\" class=\"data row4 col0\" >0.03926</td>\n",
       "            </tr>\n",
       "            <tr>\n",
       "                        <th id=\"T_e61b3bc6_05ef_11ea_a6fb_107b449f15fclevel0_row5\" class=\"row_heading level0 row5\" >философия</th>\n",
       "                        <td id=\"T_e61b3bc6_05ef_11ea_a6fb_107b449f15fcrow5_col0\" class=\"data row5 col0\" >0.02337</td>\n",
       "            </tr>\n",
       "            <tr>\n",
       "                        <th id=\"T_e61b3bc6_05ef_11ea_a6fb_107b449f15fclevel0_row6\" class=\"row_heading level0 row6\" >аналитическая_философия</th>\n",
       "                        <td id=\"T_e61b3bc6_05ef_11ea_a6fb_107b449f15fcrow6_col0\" class=\"data row6 col0\" >0.02274</td>\n",
       "            </tr>\n",
       "            <tr>\n",
       "                        <th id=\"T_e61b3bc6_05ef_11ea_a6fb_107b449f15fclevel0_row7\" class=\"row_heading level0 row7\" >кант_иммануил</th>\n",
       "                        <td id=\"T_e61b3bc6_05ef_11ea_a6fb_107b449f15fcrow7_col0\" class=\"data row7 col0\" >0.02033</td>\n",
       "            </tr>\n",
       "            <tr>\n",
       "                        <th id=\"T_e61b3bc6_05ef_11ea_a6fb_107b449f15fclevel0_row8\" class=\"row_heading level0 row8\" >либерализм</th>\n",
       "                        <td id=\"T_e61b3bc6_05ef_11ea_a6fb_107b449f15fcrow8_col0\" class=\"data row8 col0\" >0.0171</td>\n",
       "            </tr>\n",
       "            <tr>\n",
       "                        <th id=\"T_e61b3bc6_05ef_11ea_a6fb_107b449f15fclevel0_row9\" class=\"row_heading level0 row9\" >марксизм</th>\n",
       "                        <td id=\"T_e61b3bc6_05ef_11ea_a6fb_107b449f15fcrow9_col0\" class=\"data row9 col0\" >0.01655</td>\n",
       "            </tr>\n",
       "    </tbody></table><style  type=\"text/css\" >\n",
       "</style><table id=\"T_e61b3bc7_05ef_11ea_a6fb_107b449f15fc\" style='display:inline'><thead>    <tr>        <th class=\"blank level0\" ></th>        <th class=\"col_heading level0 col0\" >topic_24 @word</th>    </tr></thead><tbody>\n",
       "                <tr>\n",
       "                        <th id=\"T_e61b3bc7_05ef_11ea_a6fb_107b449f15fclevel0_row0\" class=\"row_heading level0 row0\" >наука</th>\n",
       "                        <td id=\"T_e61b3bc7_05ef_11ea_a6fb_107b449f15fcrow0_col0\" class=\"data row0 col0\" >0.01152</td>\n",
       "            </tr>\n",
       "            <tr>\n",
       "                        <th id=\"T_e61b3bc7_05ef_11ea_a6fb_107b449f15fclevel0_row1\" class=\"row_heading level0 row1\" >университет</th>\n",
       "                        <td id=\"T_e61b3bc7_05ef_11ea_a6fb_107b449f15fcrow1_col0\" class=\"data row1 col0\" >0.01098</td>\n",
       "            </tr>\n",
       "            <tr>\n",
       "                        <th id=\"T_e61b3bc7_05ef_11ea_a6fb_107b449f15fclevel0_row2\" class=\"row_heading level0 row2\" >образование</th>\n",
       "                        <td id=\"T_e61b3bc7_05ef_11ea_a6fb_107b449f15fcrow2_col0\" class=\"data row2 col0\" >0.00746</td>\n",
       "            </tr>\n",
       "            <tr>\n",
       "                        <th id=\"T_e61b3bc7_05ef_11ea_a6fb_107b449f15fclevel0_row3\" class=\"row_heading level0 row3\" >учёный</th>\n",
       "                        <td id=\"T_e61b3bc7_05ef_11ea_a6fb_107b449f15fcrow3_col0\" class=\"data row3 col0\" >0.00738</td>\n",
       "            </tr>\n",
       "            <tr>\n",
       "                        <th id=\"T_e61b3bc7_05ef_11ea_a6fb_107b449f15fclevel0_row4\" class=\"row_heading level0 row4\" >школа</th>\n",
       "                        <td id=\"T_e61b3bc7_05ef_11ea_a6fb_107b449f15fcrow4_col0\" class=\"data row4 col0\" >0.00712</td>\n",
       "            </tr>\n",
       "            <tr>\n",
       "                        <th id=\"T_e61b3bc7_05ef_11ea_a6fb_107b449f15fclevel0_row5\" class=\"row_heading level0 row5\" >студент</th>\n",
       "                        <td id=\"T_e61b3bc7_05ef_11ea_a6fb_107b449f15fcrow5_col0\" class=\"data row5 col0\" >0.00667</td>\n",
       "            </tr>\n",
       "            <tr>\n",
       "                        <th id=\"T_e61b3bc7_05ef_11ea_a6fb_107b449f15fclevel0_row6\" class=\"row_heading level0 row6\" >должный</th>\n",
       "                        <td id=\"T_e61b3bc7_05ef_11ea_a6fb_107b449f15fcrow6_col0\" class=\"data row6 col0\" >0.00575</td>\n",
       "            </tr>\n",
       "            <tr>\n",
       "                        <th id=\"T_e61b3bc7_05ef_11ea_a6fb_107b449f15fclevel0_row7\" class=\"row_heading level0 row7\" >говорить</th>\n",
       "                        <td id=\"T_e61b3bc7_05ef_11ea_a6fb_107b449f15fcrow7_col0\" class=\"data row7 col0\" >0.00443</td>\n",
       "            </tr>\n",
       "            <tr>\n",
       "                        <th id=\"T_e61b3bc7_05ef_11ea_a6fb_107b449f15fclevel0_row8\" class=\"row_heading level0 row8\" >хороший</th>\n",
       "                        <td id=\"T_e61b3bc7_05ef_11ea_a6fb_107b449f15fcrow8_col0\" class=\"data row8 col0\" >0.00434</td>\n",
       "            </tr>\n",
       "            <tr>\n",
       "                        <th id=\"T_e61b3bc7_05ef_11ea_a6fb_107b449f15fclevel0_row9\" class=\"row_heading level0 row9\" >работа</th>\n",
       "                        <td id=\"T_e61b3bc7_05ef_11ea_a6fb_107b449f15fcrow9_col0\" class=\"data row9 col0\" >0.00431</td>\n",
       "            </tr>\n",
       "    </tbody></table>"
      ]
     },
     "metadata": {},
     "output_type": "display_data"
    },
    {
     "data": {
      "text/html": [
       "<b> перспективыбыть социологом </b><br /> социолог виктор вахштайн рассказывает, откуда берутся социологи, чему и как их учат и зачем они нам нужны"
      ]
     },
     "metadata": {},
     "output_type": "display_data"
    },
    {
     "data": {
      "text/html": [
       "<b> проблема преподавания обществознания в школе </b><br /> философ елена брызгалина о междисциплинарности обществознания, проблемах современного образования и унификации преподавания"
      ]
     },
     "metadata": {},
     "output_type": "display_data"
    },
    {
     "data": {
      "text/html": [
       "<b> проблемы преподавания литературы в школе </b><br /> мнения экспертов постнауки об основных проблемах преподавания литературы в средней школе"
      ]
     },
     "metadata": {},
     "output_type": "display_data"
    },
    {
     "data": {
      "text/html": [
       "<b> точка зрения # эффективность «диссернета» </b><br /> авторы постнауки оценили плюсы и минусы деятельности «диссернета»"
      ]
     },
     "metadata": {},
     "output_type": "display_data"
    },
    {
     "data": {
      "text/html": [
       "<b> точка зрения # нужна ли астрономия в школе? </b><br /> мнения экспертов постнауки об основных проблемах преподавания астрономии в средней школе"
      ]
     },
     "metadata": {},
     "output_type": "display_data"
    },
    {
     "data": {
      "text/html": [
       "<b> точка зрения # история религии в школе </b><br /> мнения экспертов постнауки о том, нужно ли и как преподавать религиоведение в школе"
      ]
     },
     "metadata": {},
     "output_type": "display_data"
    },
    {
     "data": {
      "text/html": [
       "<b> неомарксизм как политическая философия </b><br /> философ кирилл мартынов о ранних текстах маркса, эмансипации, обществе спектакля и политизации эстетики"
      ]
     },
     "metadata": {},
     "output_type": "display_data"
    },
    {
     "data": {
      "text/html": [
       "<b> академическая репутация </b><br /> социолог михаил соколов о критериях репутации, возникновении плагиата и импульсе семнадцатого столетия"
      ]
     },
     "metadata": {},
     "output_type": "display_data"
    },
    {
     "data": {
      "text/html": [
       "<b> точка зрения # как оценить эффективность научного института </b><br /> мнения экспертов постнауки о критериях оценки научных организаций"
      ]
     },
     "metadata": {},
     "output_type": "display_data"
    },
    {
     "data": {
      "text/html": [
       "<b> точка зрения # физика в школе </b><br /> мнения экспертов постнауки об основных проблемах преподавания физики в средней школе"
      ]
     },
     "metadata": {},
     "output_type": "display_data"
    },
    {
     "data": {
      "text/html": [
       "<style  type=\"text/css\" >\n",
       "</style><table id=\"T_e61b3bc8_05ef_11ea_a6fb_107b449f15fc\" style='display:inline'><thead>    <tr>        <th class=\"blank level0\" ></th>        <th class=\"col_heading level0 col0\" >topic_25 @2gramm</th>    </tr></thead><tbody>\n",
       "                <tr>\n",
       "                        <th id=\"T_e61b3bc8_05ef_11ea_a6fb_107b449f15fclevel0_row0\" class=\"row_heading level0 row0\" >xix_век</th>\n",
       "                        <td id=\"T_e61b3bc8_05ef_11ea_a6fb_107b449f15fcrow0_col0\" class=\"data row0 col0\" >0.0224</td>\n",
       "            </tr>\n",
       "            <tr>\n",
       "                        <th id=\"T_e61b3bc8_05ef_11ea_a6fb_107b449f15fclevel0_row1\" class=\"row_heading level0 row1\" >xx_век</th>\n",
       "                        <td id=\"T_e61b3bc8_05ef_11ea_a6fb_107b449f15fcrow1_col0\" class=\"data row1 col0\" >0.01689</td>\n",
       "            </tr>\n",
       "            <tr>\n",
       "                        <th id=\"T_e61b3bc8_05ef_11ea_a6fb_107b449f15fclevel0_row2\" class=\"row_heading level0 row2\" >простой_число</th>\n",
       "                        <td id=\"T_e61b3bc8_05ef_11ea_a6fb_107b449f15fcrow2_col0\" class=\"data row2 col0\" >0.00886</td>\n",
       "            </tr>\n",
       "            <tr>\n",
       "                        <th id=\"T_e61b3bc8_05ef_11ea_a6fb_107b449f15fclevel0_row3\" class=\"row_heading level0 row3\" >конец_xix</th>\n",
       "                        <td id=\"T_e61b3bc8_05ef_11ea_a6fb_107b449f15fcrow3_col0\" class=\"data row3 col0\" >0.00763</td>\n",
       "            </tr>\n",
       "            <tr>\n",
       "                        <th id=\"T_e61b3bc8_05ef_11ea_a6fb_107b449f15fclevel0_row4\" class=\"row_heading level0 row4\" >русский_формализм</th>\n",
       "                        <td id=\"T_e61b3bc8_05ef_11ea_a6fb_107b449f15fcrow4_col0\" class=\"data row4 col0\" >0.0072</td>\n",
       "            </tr>\n",
       "            <tr>\n",
       "                        <th id=\"T_e61b3bc8_05ef_11ea_a6fb_107b449f15fclevel0_row5\" class=\"row_heading level0 row5\" >xviii_век</th>\n",
       "                        <td id=\"T_e61b3bc8_05ef_11ea_a6fb_107b449f15fcrow5_col0\" class=\"data row5 col0\" >0.00703</td>\n",
       "            </tr>\n",
       "            <tr>\n",
       "                        <th id=\"T_e61b3bc8_05ef_11ea_a6fb_107b449f15fclevel0_row6\" class=\"row_heading level0 row6\" >мировой_война</th>\n",
       "                        <td id=\"T_e61b3bc8_05ef_11ea_a6fb_107b449f15fcrow6_col0\" class=\"data row6 col0\" >0.00594</td>\n",
       "            </tr>\n",
       "            <tr>\n",
       "                        <th id=\"T_e61b3bc8_05ef_11ea_a6fb_107b449f15fclevel0_row7\" class=\"row_heading level0 row7\" >гражданский_война</th>\n",
       "                        <td id=\"T_e61b3bc8_05ef_11ea_a6fb_107b449f15fcrow7_col0\" class=\"data row7 col0\" >0.0051</td>\n",
       "            </tr>\n",
       "            <tr>\n",
       "                        <th id=\"T_e61b3bc8_05ef_11ea_a6fb_107b449f15fclevel0_row8\" class=\"row_heading level0 row8\" >российский_империя</th>\n",
       "                        <td id=\"T_e61b3bc8_05ef_11ea_a6fb_107b449f15fcrow8_col0\" class=\"data row8 col0\" >0.00489</td>\n",
       "            </tr>\n",
       "            <tr>\n",
       "                        <th id=\"T_e61b3bc8_05ef_11ea_a6fb_107b449f15fclevel0_row9\" class=\"row_heading level0 row9\" >социальный_идентичность</th>\n",
       "                        <td id=\"T_e61b3bc8_05ef_11ea_a6fb_107b449f15fcrow9_col0\" class=\"data row9 col0\" >0.00483</td>\n",
       "            </tr>\n",
       "    </tbody></table><style  type=\"text/css\" >\n",
       "</style><table id=\"T_e61b3bc9_05ef_11ea_a6fb_107b449f15fc\" style='display:inline'><thead>    <tr>        <th class=\"blank level0\" ></th>        <th class=\"col_heading level0 col0\" >topic_25 @3gramm</th>    </tr></thead><tbody>\n",
       "                <tr>\n",
       "                        <th id=\"T_e61b3bc9_05ef_11ea_a6fb_107b449f15fclevel0_row0\" class=\"row_heading level0 row0\" >начало_xx_век</th>\n",
       "                        <td id=\"T_e61b3bc9_05ef_11ea_a6fb_107b449f15fcrow0_col0\" class=\"data row0 col0\" >0.62986</td>\n",
       "            </tr>\n",
       "            <tr>\n",
       "                        <th id=\"T_e61b3bc9_05ef_11ea_a6fb_107b449f15fclevel0_row1\" class=\"row_heading level0 row1\" >середина_xix_век</th>\n",
       "                        <td id=\"T_e61b3bc9_05ef_11ea_a6fb_107b449f15fcrow1_col0\" class=\"data row1 col0\" >0.21918</td>\n",
       "            </tr>\n",
       "            <tr>\n",
       "                        <th id=\"T_e61b3bc9_05ef_11ea_a6fb_107b449f15fclevel0_row2\" class=\"row_heading level0 row2\" >середина_xviii_век</th>\n",
       "                        <td id=\"T_e61b3bc9_05ef_11ea_a6fb_107b449f15fcrow2_col0\" class=\"data row2 col0\" >0.06031</td>\n",
       "            </tr>\n",
       "            <tr>\n",
       "                        <th id=\"T_e61b3bc9_05ef_11ea_a6fb_107b449f15fclevel0_row3\" class=\"row_heading level0 row3\" >начать_xx_век</th>\n",
       "                        <td id=\"T_e61b3bc9_05ef_11ea_a6fb_107b449f15fcrow3_col0\" class=\"data row3 col0\" >0.04057</td>\n",
       "            </tr>\n",
       "            <tr>\n",
       "                        <th id=\"T_e61b3bc9_05ef_11ea_a6fb_107b449f15fclevel0_row4\" class=\"row_heading level0 row4\" >начало_xviii_век</th>\n",
       "                        <td id=\"T_e61b3bc9_05ef_11ea_a6fb_107b449f15fcrow4_col0\" class=\"data row4 col0\" >0.02799</td>\n",
       "            </tr>\n",
       "            <tr>\n",
       "                        <th id=\"T_e61b3bc9_05ef_11ea_a6fb_107b449f15fclevel0_row5\" class=\"row_heading level0 row5\" >требовать_специальный_подготовка</th>\n",
       "                        <td id=\"T_e61b3bc9_05ef_11ea_a6fb_107b449f15fcrow5_col0\" class=\"data row5 col0\" >0.00608</td>\n",
       "            </tr>\n",
       "            <tr>\n",
       "                        <th id=\"T_e61b3bc9_05ef_11ea_a6fb_107b449f15fclevel0_row6\" class=\"row_heading level0 row6\" >императорский_академия_наука</th>\n",
       "                        <td id=\"T_e61b3bc9_05ef_11ea_a6fb_107b449f15fcrow6_col0\" class=\"data row6 col0\" >0.0054</td>\n",
       "            </tr>\n",
       "            <tr>\n",
       "                        <th id=\"T_e61b3bc9_05ef_11ea_a6fb_107b449f15fclevel0_row7\" class=\"row_heading level0 row7\" >передавать_друг_друг</th>\n",
       "                        <td id=\"T_e61b3bc9_05ef_11ea_a6fb_107b449f15fcrow7_col0\" class=\"data row7 col0\" >0.00512</td>\n",
       "            </tr>\n",
       "            <tr>\n",
       "                        <th id=\"T_e61b3bc9_05ef_11ea_a6fb_107b449f15fclevel0_row8\" class=\"row_heading level0 row8\" >протяжение_xviii_век</th>\n",
       "                        <td id=\"T_e61b3bc9_05ef_11ea_a6fb_107b449f15fcrow8_col0\" class=\"data row8 col0\" >0.00317</td>\n",
       "            </tr>\n",
       "            <tr>\n",
       "                        <th id=\"T_e61b3bc9_05ef_11ea_a6fb_107b449f15fclevel0_row9\" class=\"row_heading level0 row9\" >конец_xvii_век</th>\n",
       "                        <td id=\"T_e61b3bc9_05ef_11ea_a6fb_107b449f15fcrow9_col0\" class=\"data row9 col0\" >0.0019</td>\n",
       "            </tr>\n",
       "    </tbody></table><style  type=\"text/css\" >\n",
       "</style><table id=\"T_e61b3bca_05ef_11ea_a6fb_107b449f15fc\" style='display:inline'><thead>    <tr>        <th class=\"blank level0\" ></th>        <th class=\"col_heading level0 col0\" >topic_25 @post_tag</th>    </tr></thead><tbody>\n",
       "                <tr>\n",
       "                        <th id=\"T_e61b3bca_05ef_11ea_a6fb_107b449f15fclevel0_row0\" class=\"row_heading level0 row0\" >география</th>\n",
       "                        <td id=\"T_e61b3bca_05ef_11ea_a6fb_107b449f15fcrow0_col0\" class=\"data row0 col0\" >0.13169</td>\n",
       "            </tr>\n",
       "            <tr>\n",
       "                        <th id=\"T_e61b3bca_05ef_11ea_a6fb_107b449f15fclevel0_row1\" class=\"row_heading level0 row1\" >япония</th>\n",
       "                        <td id=\"T_e61b3bca_05ef_11ea_a6fb_107b449f15fcrow1_col0\" class=\"data row1 col0\" >0.05244</td>\n",
       "            </tr>\n",
       "            <tr>\n",
       "                        <th id=\"T_e61b3bca_05ef_11ea_a6fb_107b449f15fclevel0_row2\" class=\"row_heading level0 row2\" >история</th>\n",
       "                        <td id=\"T_e61b3bca_05ef_11ea_a6fb_107b449f15fcrow2_col0\" class=\"data row2 col0\" >0.04682</td>\n",
       "            </tr>\n",
       "            <tr>\n",
       "                        <th id=\"T_e61b3bca_05ef_11ea_a6fb_107b449f15fclevel0_row3\" class=\"row_heading level0 row3\" >климат</th>\n",
       "                        <td id=\"T_e61b3bca_05ef_11ea_a6fb_107b449f15fcrow3_col0\" class=\"data row3 col0\" >0.03636</td>\n",
       "            </tr>\n",
       "            <tr>\n",
       "                        <th id=\"T_e61b3bca_05ef_11ea_a6fb_107b449f15fclevel0_row4\" class=\"row_heading level0 row4\" >история_повседневности</th>\n",
       "                        <td id=\"T_e61b3bca_05ef_11ea_a6fb_107b449f15fcrow4_col0\" class=\"data row4 col0\" >0.03623</td>\n",
       "            </tr>\n",
       "            <tr>\n",
       "                        <th id=\"T_e61b3bca_05ef_11ea_a6fb_107b449f15fclevel0_row5\" class=\"row_heading level0 row5\" >культура_повседневности</th>\n",
       "                        <td id=\"T_e61b3bca_05ef_11ea_a6fb_107b449f15fcrow5_col0\" class=\"data row5 col0\" >0.03342</td>\n",
       "            </tr>\n",
       "            <tr>\n",
       "                        <th id=\"T_e61b3bca_05ef_11ea_a6fb_107b449f15fclevel0_row6\" class=\"row_heading level0 row6\" >культура</th>\n",
       "                        <td id=\"T_e61b3bca_05ef_11ea_a6fb_107b449f15fcrow6_col0\" class=\"data row6 col0\" >0.03217</td>\n",
       "            </tr>\n",
       "            <tr>\n",
       "                        <th id=\"T_e61b3bca_05ef_11ea_a6fb_107b449f15fclevel0_row7\" class=\"row_heading level0 row7\" >петр_i</th>\n",
       "                        <td id=\"T_e61b3bca_05ef_11ea_a6fb_107b449f15fcrow7_col0\" class=\"data row7 col0\" >0.03184</td>\n",
       "            </tr>\n",
       "            <tr>\n",
       "                        <th id=\"T_e61b3bca_05ef_11ea_a6fb_107b449f15fclevel0_row8\" class=\"row_heading level0 row8\" >история_россии</th>\n",
       "                        <td id=\"T_e61b3bca_05ef_11ea_a6fb_107b449f15fcrow8_col0\" class=\"data row8 col0\" >0.02897</td>\n",
       "            </tr>\n",
       "            <tr>\n",
       "                        <th id=\"T_e61b3bca_05ef_11ea_a6fb_107b449f15fclevel0_row9\" class=\"row_heading level0 row9\" >экология</th>\n",
       "                        <td id=\"T_e61b3bca_05ef_11ea_a6fb_107b449f15fcrow9_col0\" class=\"data row9 col0\" >0.02795</td>\n",
       "            </tr>\n",
       "    </tbody></table><style  type=\"text/css\" >\n",
       "</style><table id=\"T_e61b3bcb_05ef_11ea_a6fb_107b449f15fc\" style='display:inline'><thead>    <tr>        <th class=\"blank level0\" ></th>        <th class=\"col_heading level0 col0\" >topic_25 @word</th>    </tr></thead><tbody>\n",
       "                <tr>\n",
       "                        <th id=\"T_e61b3bcb_05ef_11ea_a6fb_107b449f15fclevel0_row0\" class=\"row_heading level0 row0\" >япония</th>\n",
       "                        <td id=\"T_e61b3bcb_05ef_11ea_a6fb_107b449f15fcrow0_col0\" class=\"data row0 col0\" >0.00501</td>\n",
       "            </tr>\n",
       "            <tr>\n",
       "                        <th id=\"T_e61b3bcb_05ef_11ea_a6fb_107b449f15fclevel0_row1\" class=\"row_heading level0 row1\" >россия</th>\n",
       "                        <td id=\"T_e61b3bcb_05ef_11ea_a6fb_107b449f15fcrow1_col0\" class=\"data row1 col0\" >0.00487</td>\n",
       "            </tr>\n",
       "            <tr>\n",
       "                        <th id=\"T_e61b3bcb_05ef_11ea_a6fb_107b449f15fclevel0_row2\" class=\"row_heading level0 row2\" >говорить</th>\n",
       "                        <td id=\"T_e61b3bcb_05ef_11ea_a6fb_107b449f15fcrow2_col0\" class=\"data row2 col0\" >0.00363</td>\n",
       "            </tr>\n",
       "            <tr>\n",
       "                        <th id=\"T_e61b3bcb_05ef_11ea_a6fb_107b449f15fclevel0_row3\" class=\"row_heading level0 row3\" >стать</th>\n",
       "                        <td id=\"T_e61b3bcb_05ef_11ea_a6fb_107b449f15fcrow3_col0\" class=\"data row3 col0\" >0.00356</td>\n",
       "            </tr>\n",
       "            <tr>\n",
       "                        <th id=\"T_e61b3bcb_05ef_11ea_a6fb_107b449f15fclevel0_row4\" class=\"row_heading level0 row4\" >страна</th>\n",
       "                        <td id=\"T_e61b3bcb_05ef_11ea_a6fb_107b449f15fcrow4_col0\" class=\"data row4 col0\" >0.0031</td>\n",
       "            </tr>\n",
       "            <tr>\n",
       "                        <th id=\"T_e61b3bcb_05ef_11ea_a6fb_107b449f15fclevel0_row5\" class=\"row_heading level0 row5\" >женщина</th>\n",
       "                        <td id=\"T_e61b3bcb_05ef_11ea_a6fb_107b449f15fcrow5_col0\" class=\"data row5 col0\" >0.00302</td>\n",
       "            </tr>\n",
       "            <tr>\n",
       "                        <th id=\"T_e61b3bcb_05ef_11ea_a6fb_107b449f15fclevel0_row6\" class=\"row_heading level0 row6\" >проблема</th>\n",
       "                        <td id=\"T_e61b3bcb_05ef_11ea_a6fb_107b449f15fcrow6_col0\" class=\"data row6 col0\" >0.00298</td>\n",
       "            </tr>\n",
       "            <tr>\n",
       "                        <th id=\"T_e61b3bcb_05ef_11ea_a6fb_107b449f15fclevel0_row7\" class=\"row_heading level0 row7\" >происходить</th>\n",
       "                        <td id=\"T_e61b3bcb_05ef_11ea_a6fb_107b449f15fcrow7_col0\" class=\"data row7 col0\" >0.00288</td>\n",
       "            </tr>\n",
       "            <tr>\n",
       "                        <th id=\"T_e61b3bcb_05ef_11ea_a6fb_107b449f15fclevel0_row8\" class=\"row_heading level0 row8\" >существовать</th>\n",
       "                        <td id=\"T_e61b3bcb_05ef_11ea_a6fb_107b449f15fcrow8_col0\" class=\"data row8 col0\" >0.00281</td>\n",
       "            </tr>\n",
       "            <tr>\n",
       "                        <th id=\"T_e61b3bcb_05ef_11ea_a6fb_107b449f15fclevel0_row9\" class=\"row_heading level0 row9\" >метр</th>\n",
       "                        <td id=\"T_e61b3bcb_05ef_11ea_a6fb_107b449f15fcrow9_col0\" class=\"data row9 col0\" >0.00276</td>\n",
       "            </tr>\n",
       "    </tbody></table>"
      ]
     },
     "metadata": {},
     "output_type": "display_data"
    },
    {
     "data": {
      "text/html": [
       "<b> главы # закономерности простых чисел. гипотеза римана </b><br /> отрывок из книги «величайшие математические задачи» английского математика и популяризатора науки иэна стюарта"
      ]
     },
     "metadata": {},
     "output_type": "display_data"
    },
    {
     "data": {
      "text/html": [
       "<b> главы # «рождение досуга»возникновение и эволюция понятия в xix веке </b><br /> статья историка светланы малышевой о рождении культуры досуга из сборника «изобретение века. проблемы и модели времени в россии и европе xix столетия»"
      ]
     },
     "metadata": {},
     "output_type": "display_data"
    },
    {
     "data": {
      "text/html": [
       "<b> женская телесность и мода </b><br /> историк моды ольга вайнштейн об изобретении кринолина, отношении к женскому телу в xix веке и двойных стандартах нравственности"
      ]
     },
     "metadata": {},
     "output_type": "display_data"
    },
    {
     "data": {
      "text/html": [
       "<b> особенности либерализма в россии </b><br /> историк кирилл соловьев о первых русских либералах, поддержке самодержавия и политической программе кадетов"
      ]
     },
     "metadata": {},
     "output_type": "display_data"
    },
    {
     "data": {
      "text/html": [
       "<b> faqизменение ледников в арктике </b><br /> 6 фактов о таянии ледников, их расположении и климатическом потеплении"
      ]
     },
     "metadata": {},
     "output_type": "display_data"
    },
    {
     "data": {
      "text/html": [
       "<b> faqураган «сэнди» </b><br /> 7 фактов о тропическом циклоне, который ударил по восточному побережью сша"
      ]
     },
     "metadata": {},
     "output_type": "display_data"
    },
    {
     "data": {
      "text/html": [
       "<b> faqаксиоматический метод </b><br /> 6 фактов о проблеме математических доказательств, программе гильберта и смысле в математике"
      ]
     },
     "metadata": {},
     "output_type": "display_data"
    },
    {
     "data": {
      "text/html": [
       "<b> выборы президента сша </b><br /> как проходят президентские выборы в соединенных штатах америки, что такое праймериз и кокусы и как работает принцип «победитель получает все»"
      ]
     },
     "metadata": {},
     "output_type": "display_data"
    },
    {
     "data": {
      "text/html": [
       "<b> автограф«“черные кабинеты”история российской перлюстрации. xviii — начало xx века» </b><br /> историк владлен измозик о практике перлюстрации, механизмах вскрытия корреспонденции и неизбежности революции 1917 года"
      ]
     },
     "metadata": {},
     "output_type": "display_data"
    },
    {
     "data": {
      "text/html": [
       "<b> климаты будущего </b><br /> климатолог александр кислов о математических моделях изменения климата, геоинжиниринге и последствиях глобального потепления"
      ]
     },
     "metadata": {},
     "output_type": "display_data"
    },
    {
     "data": {
      "text/html": [
       "<style  type=\"text/css\" >\n",
       "</style><table id=\"T_e61b3bcc_05ef_11ea_a6fb_107b449f15fc\" style='display:inline'><thead>    <tr>        <th class=\"blank level0\" ></th>        <th class=\"col_heading level0 col0\" >topic_26 @2gramm</th>    </tr></thead><tbody>\n",
       "                <tr>\n",
       "                        <th id=\"T_e61b3bcc_05ef_11ea_a6fb_107b449f15fclevel0_row0\" class=\"row_heading level0 row0\" >социальный_жизнь</th>\n",
       "                        <td id=\"T_e61b3bcc_05ef_11ea_a6fb_107b449f15fcrow0_col0\" class=\"data row0 col0\" >0.01163</td>\n",
       "            </tr>\n",
       "            <tr>\n",
       "                        <th id=\"T_e61b3bcc_05ef_11ea_a6fb_107b449f15fclevel0_row1\" class=\"row_heading level0 row1\" >язык_описание</th>\n",
       "                        <td id=\"T_e61b3bcc_05ef_11ea_a6fb_107b449f15fcrow1_col0\" class=\"data row1 col0\" >0.01117</td>\n",
       "            </tr>\n",
       "            <tr>\n",
       "                        <th id=\"T_e61b3bcc_05ef_11ea_a6fb_107b449f15fclevel0_row2\" class=\"row_heading level0 row2\" >социологический_теория</th>\n",
       "                        <td id=\"T_e61b3bcc_05ef_11ea_a6fb_107b449f15fcrow2_col0\" class=\"data row2 col0\" >0.00957</td>\n",
       "            </tr>\n",
       "            <tr>\n",
       "                        <th id=\"T_e61b3bcc_05ef_11ea_a6fb_107b449f15fclevel0_row3\" class=\"row_heading level0 row3\" >средний_класс</th>\n",
       "                        <td id=\"T_e61b3bcc_05ef_11ea_a6fb_107b449f15fcrow3_col0\" class=\"data row3 col0\" >0.00747</td>\n",
       "            </tr>\n",
       "            <tr>\n",
       "                        <th id=\"T_e61b3bcc_05ef_11ea_a6fb_107b449f15fclevel0_row4\" class=\"row_heading level0 row4\" >иной_слово</th>\n",
       "                        <td id=\"T_e61b3bcc_05ef_11ea_a6fb_107b449f15fcrow4_col0\" class=\"data row4 col0\" >0.00702</td>\n",
       "            </tr>\n",
       "            <tr>\n",
       "                        <th id=\"T_e61b3bcc_05ef_11ea_a6fb_107b449f15fclevel0_row5\" class=\"row_heading level0 row5\" >социальный_отношение</th>\n",
       "                        <td id=\"T_e61b3bcc_05ef_11ea_a6fb_107b449f15fcrow5_col0\" class=\"data row5 col0\" >0.0069</td>\n",
       "            </tr>\n",
       "            <tr>\n",
       "                        <th id=\"T_e61b3bcc_05ef_11ea_a6fb_107b449f15fclevel0_row6\" class=\"row_heading level0 row6\" >социальный_антропология</th>\n",
       "                        <td id=\"T_e61b3bcc_05ef_11ea_a6fb_107b449f15fcrow6_col0\" class=\"data row6 col0\" >0.00634</td>\n",
       "            </tr>\n",
       "            <tr>\n",
       "                        <th id=\"T_e61b3bcc_05ef_11ea_a6fb_107b449f15fclevel0_row7\" class=\"row_heading level0 row7\" >социальный_взаимодействие</th>\n",
       "                        <td id=\"T_e61b3bcc_05ef_11ea_a6fb_107b449f15fcrow7_col0\" class=\"data row7 col0\" >0.00619</td>\n",
       "            </tr>\n",
       "            <tr>\n",
       "                        <th id=\"T_e61b3bcc_05ef_11ea_a6fb_107b449f15fclevel0_row8\" class=\"row_heading level0 row8\" >социологический_исследование</th>\n",
       "                        <td id=\"T_e61b3bcc_05ef_11ea_a6fb_107b449f15fcrow8_col0\" class=\"data row8 col0\" >0.00602</td>\n",
       "            </tr>\n",
       "            <tr>\n",
       "                        <th id=\"T_e61b3bcc_05ef_11ea_a6fb_107b449f15fclevel0_row9\" class=\"row_heading level0 row9\" >пермский_период</th>\n",
       "                        <td id=\"T_e61b3bcc_05ef_11ea_a6fb_107b449f15fcrow9_col0\" class=\"data row9 col0\" >0.00597</td>\n",
       "            </tr>\n",
       "    </tbody></table><style  type=\"text/css\" >\n",
       "</style><table id=\"T_e61b3bcd_05ef_11ea_a6fb_107b449f15fc\" style='display:inline'><thead>    <tr>        <th class=\"blank level0\" ></th>        <th class=\"col_heading level0 col0\" >topic_26 @3gramm</th>    </tr></thead><tbody>\n",
       "                <tr>\n",
       "                        <th id=\"T_e61b3bcd_05ef_11ea_a6fb_107b449f15fclevel0_row0\" class=\"row_heading level0 row0\" >опрос_общественный_мнение</th>\n",
       "                        <td id=\"T_e61b3bcd_05ef_11ea_a6fb_107b449f15fcrow0_col0\" class=\"data row0 col0\" >0.17603</td>\n",
       "            </tr>\n",
       "            <tr>\n",
       "                        <th id=\"T_e61b3bcd_05ef_11ea_a6fb_107b449f15fclevel0_row1\" class=\"row_heading level0 row1\" >рождаться_наукоемкий_бизнес</th>\n",
       "                        <td id=\"T_e61b3bcd_05ef_11ea_a6fb_107b449f15fcrow1_col0\" class=\"data row1 col0\" >0.13194</td>\n",
       "            </tr>\n",
       "            <tr>\n",
       "                        <th id=\"T_e61b3bcd_05ef_11ea_a6fb_107b449f15fclevel0_row2\" class=\"row_heading level0 row2\" >противоречить_друг_друг</th>\n",
       "                        <td id=\"T_e61b3bcd_05ef_11ea_a6fb_107b449f15fcrow2_col0\" class=\"data row2 col0\" >0.08786</td>\n",
       "            </tr>\n",
       "            <tr>\n",
       "                        <th id=\"T_e61b3bcd_05ef_11ea_a6fb_107b449f15fclevel0_row3\" class=\"row_heading level0 row3\" >химический_эволюция_галактика</th>\n",
       "                        <td id=\"T_e61b3bcd_05ef_11ea_a6fb_107b449f15fcrow3_col0\" class=\"data row3 col0\" >0.07542</td>\n",
       "            </tr>\n",
       "            <tr>\n",
       "                        <th id=\"T_e61b3bcd_05ef_11ea_a6fb_107b449f15fclevel0_row4\" class=\"row_heading level0 row4\" >заметный_экономический_эффект</th>\n",
       "                        <td id=\"T_e61b3bcd_05ef_11ea_a6fb_107b449f15fcrow4_col0\" class=\"data row4 col0\" >0.0691</td>\n",
       "            </tr>\n",
       "            <tr>\n",
       "                        <th id=\"T_e61b3bcd_05ef_11ea_a6fb_107b449f15fclevel0_row5\" class=\"row_heading level0 row5\" >бывший_советский_союз</th>\n",
       "                        <td id=\"T_e61b3bcd_05ef_11ea_a6fb_107b449f15fcrow5_col0\" class=\"data row5 col0\" >0.06232</td>\n",
       "            </tr>\n",
       "            <tr>\n",
       "                        <th id=\"T_e61b3bcd_05ef_11ea_a6fb_107b449f15fclevel0_row6\" class=\"row_heading level0 row6\" >структура_научный_революция</th>\n",
       "                        <td id=\"T_e61b3bcd_05ef_11ea_a6fb_107b449f15fcrow6_col0\" class=\"data row6 col0\" >0.05026</td>\n",
       "            </tr>\n",
       "            <tr>\n",
       "                        <th id=\"T_e61b3bcd_05ef_11ea_a6fb_107b449f15fclevel0_row7\" class=\"row_heading level0 row7\" >международный_космический_станция</th>\n",
       "                        <td id=\"T_e61b3bcd_05ef_11ea_a6fb_107b449f15fcrow7_col0\" class=\"data row7 col0\" >0.04073</td>\n",
       "            </tr>\n",
       "            <tr>\n",
       "                        <th id=\"T_e61b3bcd_05ef_11ea_a6fb_107b449f15fclevel0_row8\" class=\"row_heading level0 row8\" >группа_высокий_растение</th>\n",
       "                        <td id=\"T_e61b3bcd_05ef_11ea_a6fb_107b449f15fcrow8_col0\" class=\"data row8 col0\" >0.03766</td>\n",
       "            </tr>\n",
       "            <tr>\n",
       "                        <th id=\"T_e61b3bcd_05ef_11ea_a6fb_107b449f15fclevel0_row9\" class=\"row_heading level0 row9\" >конец_палеозойский_эра</th>\n",
       "                        <td id=\"T_e61b3bcd_05ef_11ea_a6fb_107b449f15fcrow9_col0\" class=\"data row9 col0\" >0.03757</td>\n",
       "            </tr>\n",
       "    </tbody></table><style  type=\"text/css\" >\n",
       "</style><table id=\"T_e61b3bce_05ef_11ea_a6fb_107b449f15fc\" style='display:inline'><thead>    <tr>        <th class=\"blank level0\" ></th>        <th class=\"col_heading level0 col0\" >topic_26 @post_tag</th>    </tr></thead><tbody>\n",
       "                <tr>\n",
       "                        <th id=\"T_e61b3bce_05ef_11ea_a6fb_107b449f15fclevel0_row0\" class=\"row_heading level0 row0\" >социология</th>\n",
       "                        <td id=\"T_e61b3bce_05ef_11ea_a6fb_107b449f15fcrow0_col0\" class=\"data row0 col0\" >0.41922</td>\n",
       "            </tr>\n",
       "            <tr>\n",
       "                        <th id=\"T_e61b3bce_05ef_11ea_a6fb_107b449f15fclevel0_row1\" class=\"row_heading level0 row1\" >социология_повседневности</th>\n",
       "                        <td id=\"T_e61b3bce_05ef_11ea_a6fb_107b449f15fcrow1_col0\" class=\"data row1 col0\" >0.05517</td>\n",
       "            </tr>\n",
       "            <tr>\n",
       "                        <th id=\"T_e61b3bce_05ef_11ea_a6fb_107b449f15fclevel0_row2\" class=\"row_heading level0 row2\" >дюркгейм_эмиль</th>\n",
       "                        <td id=\"T_e61b3bce_05ef_11ea_a6fb_107b449f15fcrow2_col0\" class=\"data row2 col0\" >0.04061</td>\n",
       "            </tr>\n",
       "            <tr>\n",
       "                        <th id=\"T_e61b3bce_05ef_11ea_a6fb_107b449f15fclevel0_row3\" class=\"row_heading level0 row3\" >вебер_макс</th>\n",
       "                        <td id=\"T_e61b3bce_05ef_11ea_a6fb_107b449f15fcrow3_col0\" class=\"data row3 col0\" >0.03427</td>\n",
       "            </tr>\n",
       "            <tr>\n",
       "                        <th id=\"T_e61b3bce_05ef_11ea_a6fb_107b449f15fclevel0_row4\" class=\"row_heading level0 row4\" >социология_науки</th>\n",
       "                        <td id=\"T_e61b3bce_05ef_11ea_a6fb_107b449f15fcrow4_col0\" class=\"data row4 col0\" >0.034</td>\n",
       "            </tr>\n",
       "            <tr>\n",
       "                        <th id=\"T_e61b3bce_05ef_11ea_a6fb_107b449f15fclevel0_row5\" class=\"row_heading level0 row5\" >гоффман_эрвинг</th>\n",
       "                        <td id=\"T_e61b3bce_05ef_11ea_a6fb_107b449f15fcrow5_col0\" class=\"data row5 col0\" >0.03075</td>\n",
       "            </tr>\n",
       "            <tr>\n",
       "                        <th id=\"T_e61b3bce_05ef_11ea_a6fb_107b449f15fclevel0_row6\" class=\"row_heading level0 row6\" >социальная_структура</th>\n",
       "                        <td id=\"T_e61b3bce_05ef_11ea_a6fb_107b449f15fcrow6_col0\" class=\"data row6 col0\" >0.02255</td>\n",
       "            </tr>\n",
       "            <tr>\n",
       "                        <th id=\"T_e61b3bce_05ef_11ea_a6fb_107b449f15fclevel0_row7\" class=\"row_heading level0 row7\" >философия_науки</th>\n",
       "                        <td id=\"T_e61b3bce_05ef_11ea_a6fb_107b449f15fcrow7_col0\" class=\"data row7 col0\" >0.02131</td>\n",
       "            </tr>\n",
       "            <tr>\n",
       "                        <th id=\"T_e61b3bce_05ef_11ea_a6fb_107b449f15fclevel0_row8\" class=\"row_heading level0 row8\" >зиммель_георг</th>\n",
       "                        <td id=\"T_e61b3bce_05ef_11ea_a6fb_107b449f15fcrow8_col0\" class=\"data row8 col0\" >0.02106</td>\n",
       "            </tr>\n",
       "            <tr>\n",
       "                        <th id=\"T_e61b3bce_05ef_11ea_a6fb_107b449f15fclevel0_row9\" class=\"row_heading level0 row9\" >общество</th>\n",
       "                        <td id=\"T_e61b3bce_05ef_11ea_a6fb_107b449f15fcrow9_col0\" class=\"data row9 col0\" >0.02039</td>\n",
       "            </tr>\n",
       "    </tbody></table><style  type=\"text/css\" >\n",
       "</style><table id=\"T_e61b3bcf_05ef_11ea_a6fb_107b449f15fc\" style='display:inline'><thead>    <tr>        <th class=\"blank level0\" ></th>        <th class=\"col_heading level0 col0\" >topic_26 @word</th>    </tr></thead><tbody>\n",
       "                <tr>\n",
       "                        <th id=\"T_e61b3bcf_05ef_11ea_a6fb_107b449f15fclevel0_row0\" class=\"row_heading level0 row0\" >социология</th>\n",
       "                        <td id=\"T_e61b3bcf_05ef_11ea_a6fb_107b449f15fcrow0_col0\" class=\"data row0 col0\" >0.00816</td>\n",
       "            </tr>\n",
       "            <tr>\n",
       "                        <th id=\"T_e61b3bcf_05ef_11ea_a6fb_107b449f15fclevel0_row1\" class=\"row_heading level0 row1\" >социальный</th>\n",
       "                        <td id=\"T_e61b3bcf_05ef_11ea_a6fb_107b449f15fcrow1_col0\" class=\"data row1 col0\" >0.0059</td>\n",
       "            </tr>\n",
       "            <tr>\n",
       "                        <th id=\"T_e61b3bcf_05ef_11ea_a6fb_107b449f15fclevel0_row2\" class=\"row_heading level0 row2\" >социолог</th>\n",
       "                        <td id=\"T_e61b3bcf_05ef_11ea_a6fb_107b449f15fcrow2_col0\" class=\"data row2 col0\" >0.00548</td>\n",
       "            </tr>\n",
       "            <tr>\n",
       "                        <th id=\"T_e61b3bcf_05ef_11ea_a6fb_107b449f15fclevel0_row3\" class=\"row_heading level0 row3\" >общество</th>\n",
       "                        <td id=\"T_e61b3bcf_05ef_11ea_a6fb_107b449f15fcrow3_col0\" class=\"data row3 col0\" >0.00529</td>\n",
       "            </tr>\n",
       "            <tr>\n",
       "                        <th id=\"T_e61b3bcf_05ef_11ea_a6fb_107b449f15fclevel0_row4\" class=\"row_heading level0 row4\" >являться</th>\n",
       "                        <td id=\"T_e61b3bcf_05ef_11ea_a6fb_107b449f15fcrow4_col0\" class=\"data row4 col0\" >0.00495</td>\n",
       "            </tr>\n",
       "            <tr>\n",
       "                        <th id=\"T_e61b3bcf_05ef_11ea_a6fb_107b449f15fclevel0_row5\" class=\"row_heading level0 row5\" >отношение</th>\n",
       "                        <td id=\"T_e61b3bcf_05ef_11ea_a6fb_107b449f15fcrow5_col0\" class=\"data row5 col0\" >0.00491</td>\n",
       "            </tr>\n",
       "            <tr>\n",
       "                        <th id=\"T_e61b3bcf_05ef_11ea_a6fb_107b449f15fclevel0_row6\" class=\"row_heading level0 row6\" >объект</th>\n",
       "                        <td id=\"T_e61b3bcf_05ef_11ea_a6fb_107b449f15fcrow6_col0\" class=\"data row6 col0\" >0.0047</td>\n",
       "            </tr>\n",
       "            <tr>\n",
       "                        <th id=\"T_e61b3bcf_05ef_11ea_a6fb_107b449f15fclevel0_row7\" class=\"row_heading level0 row7\" >сообщество</th>\n",
       "                        <td id=\"T_e61b3bcf_05ef_11ea_a6fb_107b449f15fcrow7_col0\" class=\"data row7 col0\" >0.00448</td>\n",
       "            </tr>\n",
       "            <tr>\n",
       "                        <th id=\"T_e61b3bcf_05ef_11ea_a6fb_107b449f15fclevel0_row8\" class=\"row_heading level0 row8\" >наука</th>\n",
       "                        <td id=\"T_e61b3bcf_05ef_11ea_a6fb_107b449f15fcrow8_col0\" class=\"data row8 col0\" >0.00434</td>\n",
       "            </tr>\n",
       "            <tr>\n",
       "                        <th id=\"T_e61b3bcf_05ef_11ea_a6fb_107b449f15fclevel0_row9\" class=\"row_heading level0 row9\" >работа</th>\n",
       "                        <td id=\"T_e61b3bcf_05ef_11ea_a6fb_107b449f15fcrow9_col0\" class=\"data row9 col0\" >0.00388</td>\n",
       "            </tr>\n",
       "    </tbody></table>"
      ]
     },
     "metadata": {},
     "output_type": "display_data"
    },
    {
     "data": {
      "text/html": [
       "<b> главынаучные практики </b><br /> отрывок из книги «после методабеспорядок и социальная наука» социолога джона ло о необходимости переизобретения методов и политики социальных наук"
      ]
     },
     "metadata": {},
     "output_type": "display_data"
    },
    {
     "data": {
      "text/html": [
       "<b> лгут ли опросы общественного мнения в россии? </b><br /> о причинах недоверия к результатам массовых опросов и типичных ошибках опросных организаций"
      ]
     },
     "metadata": {},
     "output_type": "display_data"
    },
    {
     "data": {
      "text/html": [
       "<b> к социологической «теории относительности» </b><br /> события шредингерапример блефа в игре в покер"
      ]
     },
     "metadata": {},
     "output_type": "display_data"
    },
    {
     "data": {
      "text/html": [
       "<b> 5 книг о посткритической социологии </b><br /> что читать о критике социологии как науки, рекомендует кандидат социологических наук виктор вахштайн"
      ]
     },
     "metadata": {},
     "output_type": "display_data"
    },
    {
     "data": {
      "text/html": [
       "<b> порядок интеракции </b><br /> социолог михаил соколов о роли повседневной жизни, системе взаимодействий «лицом к лицу» и функционировании больших социальных систем"
      ]
     },
     "metadata": {},
     "output_type": "display_data"
    },
    {
     "data": {
      "text/html": [
       "<b> инциденты на дисциплинарных границах </b><br /> каковы «языковые» и «жанровые» отличия социологии от социальной антропологии?"
      ]
     },
     "metadata": {},
     "output_type": "display_data"
    },
    {
     "data": {
      "text/html": [
       "<b> опросы общественного мнения — между наукой и политикой </b><br /> социолог григорий юдин о репрезентативности, инструментах политических технологий и роли опросов в демократическом обществе"
      ]
     },
     "metadata": {},
     "output_type": "display_data"
    },
    {
     "data": {
      "text/html": [
       "<b> 5 книг о методологии телефонных опросов </b><br /> что читать о том, как проводятся социологические исследования с опросами по телефону, рекомендует социолог дмитрий рогозин"
      ]
     },
     "metadata": {},
     "output_type": "display_data"
    },
    {
     "data": {
      "text/html": [
       "<b> социологическая интерпретация </b><br /> социолог виктор вахштайн о модели интерпретации в «играх разума», стадиях построения сюжета и требовании концептуальной сообразности"
      ]
     },
     "metadata": {},
     "output_type": "display_data"
    },
    {
     "data": {
      "text/html": [
       "<b> эмпирическая философия медицины а. мол </b><br /> социолог денис сивков об истории исследования медицины в sts, голландских госпиталях и работах мол"
      ]
     },
     "metadata": {},
     "output_type": "display_data"
    },
    {
     "data": {
      "text/html": [
       "<style  type=\"text/css\" >\n",
       "</style><table id=\"T_e61b3bd0_05ef_11ea_a6fb_107b449f15fc\" style='display:inline'><thead>    <tr>        <th class=\"blank level0\" ></th>        <th class=\"col_heading level0 col0\" >topic_27 @2gramm</th>    </tr></thead><tbody>\n",
       "                <tr>\n",
       "                        <th id=\"T_e61b3bd0_05ef_11ea_a6fb_107b449f15fclevel0_row0\" class=\"row_heading level0 row0\" >раковый_клетка</th>\n",
       "                        <td id=\"T_e61b3bd0_05ef_11ea_a6fb_107b449f15fcrow0_col0\" class=\"data row0 col0\" >0.01513</td>\n",
       "            </tr>\n",
       "            <tr>\n",
       "                        <th id=\"T_e61b3bd0_05ef_11ea_a6fb_107b449f15fclevel0_row1\" class=\"row_heading level0 row1\" >метод_лечение</th>\n",
       "                        <td id=\"T_e61b3bd0_05ef_11ea_a6fb_107b449f15fcrow1_col0\" class=\"data row1 col0\" >0.01018</td>\n",
       "            </tr>\n",
       "            <tr>\n",
       "                        <th id=\"T_e61b3bd0_05ef_11ea_a6fb_107b449f15fclevel0_row2\" class=\"row_heading level0 row2\" >опухолевый_клетка</th>\n",
       "                        <td id=\"T_e61b3bd0_05ef_11ea_a6fb_107b449f15fcrow2_col0\" class=\"data row2 col0\" >0.00863</td>\n",
       "            </tr>\n",
       "            <tr>\n",
       "                        <th id=\"T_e61b3bd0_05ef_11ea_a6fb_107b449f15fclevel0_row3\" class=\"row_heading level0 row3\" >иммунный_система</th>\n",
       "                        <td id=\"T_e61b3bd0_05ef_11ea_a6fb_107b449f15fcrow3_col0\" class=\"data row3 col0\" >0.00785</td>\n",
       "            </tr>\n",
       "            <tr>\n",
       "                        <th id=\"T_e61b3bd0_05ef_11ea_a6fb_107b449f15fclevel0_row4\" class=\"row_heading level0 row4\" >сахарный_диабет</th>\n",
       "                        <td id=\"T_e61b3bd0_05ef_11ea_a6fb_107b449f15fcrow4_col0\" class=\"data row4 col0\" >0.00785</td>\n",
       "            </tr>\n",
       "            <tr>\n",
       "                        <th id=\"T_e61b3bd0_05ef_11ea_a6fb_107b449f15fclevel0_row5\" class=\"row_heading level0 row5\" >лекарственный_препарат</th>\n",
       "                        <td id=\"T_e61b3bd0_05ef_11ea_a6fb_107b449f15fcrow5_col0\" class=\"data row5 col0\" >0.00761</td>\n",
       "            </tr>\n",
       "            <tr>\n",
       "                        <th id=\"T_e61b3bd0_05ef_11ea_a6fb_107b449f15fclevel0_row6\" class=\"row_heading level0 row6\" >продолжительность_жизнь</th>\n",
       "                        <td id=\"T_e61b3bd0_05ef_11ea_a6fb_107b449f15fcrow6_col0\" class=\"data row6 col0\" >0.00758</td>\n",
       "            </tr>\n",
       "            <tr>\n",
       "                        <th id=\"T_e61b3bd0_05ef_11ea_a6fb_107b449f15fclevel0_row7\" class=\"row_heading level0 row7\" >сигнальный_путь</th>\n",
       "                        <td id=\"T_e61b3bd0_05ef_11ea_a6fb_107b449f15fcrow7_col0\" class=\"data row7 col0\" >0.00754</td>\n",
       "            </tr>\n",
       "            <tr>\n",
       "                        <th id=\"T_e61b3bd0_05ef_11ea_a6fb_107b449f15fclevel0_row8\" class=\"row_heading level0 row8\" >онкологический_заболевание</th>\n",
       "                        <td id=\"T_e61b3bd0_05ef_11ea_a6fb_107b449f15fcrow8_col0\" class=\"data row8 col0\" >0.00716</td>\n",
       "            </tr>\n",
       "            <tr>\n",
       "                        <th id=\"T_e61b3bd0_05ef_11ea_a6fb_107b449f15fclevel0_row9\" class=\"row_heading level0 row9\" >старший_возраст</th>\n",
       "                        <td id=\"T_e61b3bd0_05ef_11ea_a6fb_107b449f15fcrow9_col0\" class=\"data row9 col0\" >0.00667</td>\n",
       "            </tr>\n",
       "    </tbody></table><style  type=\"text/css\" >\n",
       "</style><table id=\"T_e61b3bd1_05ef_11ea_a6fb_107b449f15fc\" style='display:inline'><thead>    <tr>        <th class=\"blank level0\" ></th>        <th class=\"col_heading level0 col0\" >topic_27 @3gramm</th>    </tr></thead><tbody>\n",
       "                <tr>\n",
       "                        <th id=\"T_e61b3bd1_05ef_11ea_a6fb_107b449f15fclevel0_row0\" class=\"row_heading level0 row0\" >соединить_штат_америка</th>\n",
       "                        <td id=\"T_e61b3bd1_05ef_11ea_a6fb_107b449f15fcrow0_col0\" class=\"data row0 col0\" >0.35031</td>\n",
       "            </tr>\n",
       "            <tr>\n",
       "                        <th id=\"T_e61b3bd1_05ef_11ea_a6fb_107b449f15fclevel0_row1\" class=\"row_heading level0 row1\" >теория_сильный_взаимодействие</th>\n",
       "                        <td id=\"T_e61b3bd1_05ef_11ea_a6fb_107b449f15fcrow1_col0\" class=\"data row1 col0\" >0.15706</td>\n",
       "            </tr>\n",
       "            <tr>\n",
       "                        <th id=\"T_e61b3bd1_05ef_11ea_a6fb_107b449f15fclevel0_row2\" class=\"row_heading level0 row2\" >увеличение_продолжительность_жизнь</th>\n",
       "                        <td id=\"T_e61b3bd1_05ef_11ea_a6fb_107b449f15fcrow2_col0\" class=\"data row2 col0\" >0.12684</td>\n",
       "            </tr>\n",
       "            <tr>\n",
       "                        <th id=\"T_e61b3bd1_05ef_11ea_a6fb_107b449f15fclevel0_row3\" class=\"row_heading level0 row3\" >теория_международный_отношение</th>\n",
       "                        <td id=\"T_e61b3bd1_05ef_11ea_a6fb_107b449f15fcrow3_col0\" class=\"data row3 col0\" >0.09053</td>\n",
       "            </tr>\n",
       "            <tr>\n",
       "                        <th id=\"T_e61b3bd1_05ef_11ea_a6fb_107b449f15fclevel0_row4\" class=\"row_heading level0 row4\" >лечение_онкологический_заболевание</th>\n",
       "                        <td id=\"T_e61b3bd1_05ef_11ea_a6fb_107b449f15fcrow4_col0\" class=\"data row4 col0\" >0.05428</td>\n",
       "            </tr>\n",
       "            <tr>\n",
       "                        <th id=\"T_e61b3bd1_05ef_11ea_a6fb_107b449f15fclevel0_row5\" class=\"row_heading level0 row5\" >полиненасыщенный_жирный_кислота</th>\n",
       "                        <td id=\"T_e61b3bd1_05ef_11ea_a6fb_107b449f15fcrow5_col0\" class=\"data row5 col0\" >0.04828</td>\n",
       "            </tr>\n",
       "            <tr>\n",
       "                        <th id=\"T_e61b3bd1_05ef_11ea_a6fb_107b449f15fclevel0_row6\" class=\"row_heading level0 row6\" >равный_друг_друг</th>\n",
       "                        <td id=\"T_e61b3bd1_05ef_11ea_a6fb_107b449f15fcrow6_col0\" class=\"data row6 col0\" >0.03594</td>\n",
       "            </tr>\n",
       "            <tr>\n",
       "                        <th id=\"T_e61b3bd1_05ef_11ea_a6fb_107b449f15fclevel0_row7\" class=\"row_heading level0 row7\" >случай_речь_идти</th>\n",
       "                        <td id=\"T_e61b3bd1_05ef_11ea_a6fb_107b449f15fcrow7_col0\" class=\"data row7 col0\" >0.03593</td>\n",
       "            </tr>\n",
       "            <tr>\n",
       "                        <th id=\"T_e61b3bd1_05ef_11ea_a6fb_107b449f15fclevel0_row8\" class=\"row_heading level0 row8\" >получить_широкий_распространение</th>\n",
       "                        <td id=\"T_e61b3bd1_05ef_11ea_a6fb_107b449f15fcrow8_col0\" class=\"data row8 col0\" >0.03165</td>\n",
       "            </tr>\n",
       "            <tr>\n",
       "                        <th id=\"T_e61b3bd1_05ef_11ea_a6fb_107b449f15fclevel0_row9\" class=\"row_heading level0 row9\" >удостоить_нобелевский_премия</th>\n",
       "                        <td id=\"T_e61b3bd1_05ef_11ea_a6fb_107b449f15fcrow9_col0\" class=\"data row9 col0\" >0.02289</td>\n",
       "            </tr>\n",
       "    </tbody></table><style  type=\"text/css\" >\n",
       "</style><table id=\"T_e61b3bd2_05ef_11ea_a6fb_107b449f15fc\" style='display:inline'><thead>    <tr>        <th class=\"blank level0\" ></th>        <th class=\"col_heading level0 col0\" >topic_27 @post_tag</th>    </tr></thead><tbody>\n",
       "                <tr>\n",
       "                        <th id=\"T_e61b3bd2_05ef_11ea_a6fb_107b449f15fclevel0_row0\" class=\"row_heading level0 row0\" >медицина</th>\n",
       "                        <td id=\"T_e61b3bd2_05ef_11ea_a6fb_107b449f15fcrow0_col0\" class=\"data row0 col0\" >0.37598</td>\n",
       "            </tr>\n",
       "            <tr>\n",
       "                        <th id=\"T_e61b3bd2_05ef_11ea_a6fb_107b449f15fclevel0_row1\" class=\"row_heading level0 row1\" >биомедицина</th>\n",
       "                        <td id=\"T_e61b3bd2_05ef_11ea_a6fb_107b449f15fcrow1_col0\" class=\"data row1 col0\" >0.09369</td>\n",
       "            </tr>\n",
       "            <tr>\n",
       "                        <th id=\"T_e61b3bd2_05ef_11ea_a6fb_107b449f15fclevel0_row2\" class=\"row_heading level0 row2\" >онкология</th>\n",
       "                        <td id=\"T_e61b3bd2_05ef_11ea_a6fb_107b449f15fcrow2_col0\" class=\"data row2 col0\" >0.086</td>\n",
       "            </tr>\n",
       "            <tr>\n",
       "                        <th id=\"T_e61b3bd2_05ef_11ea_a6fb_107b449f15fclevel0_row3\" class=\"row_heading level0 row3\" >старение</th>\n",
       "                        <td id=\"T_e61b3bd2_05ef_11ea_a6fb_107b449f15fcrow3_col0\" class=\"data row3 col0\" >0.04206</td>\n",
       "            </tr>\n",
       "            <tr>\n",
       "                        <th id=\"T_e61b3bd2_05ef_11ea_a6fb_107b449f15fclevel0_row4\" class=\"row_heading level0 row4\" >кардиология</th>\n",
       "                        <td id=\"T_e61b3bd2_05ef_11ea_a6fb_107b449f15fcrow4_col0\" class=\"data row4 col0\" >0.03439</td>\n",
       "            </tr>\n",
       "            <tr>\n",
       "                        <th id=\"T_e61b3bd2_05ef_11ea_a6fb_107b449f15fclevel0_row5\" class=\"row_heading level0 row5\" >иммунитет</th>\n",
       "                        <td id=\"T_e61b3bd2_05ef_11ea_a6fb_107b449f15fcrow5_col0\" class=\"data row5 col0\" >0.02909</td>\n",
       "            </tr>\n",
       "            <tr>\n",
       "                        <th id=\"T_e61b3bd2_05ef_11ea_a6fb_107b449f15fclevel0_row6\" class=\"row_heading level0 row6\" >биофизика</th>\n",
       "                        <td id=\"T_e61b3bd2_05ef_11ea_a6fb_107b449f15fcrow6_col0\" class=\"data row6 col0\" >0.02645</td>\n",
       "            </tr>\n",
       "            <tr>\n",
       "                        <th id=\"T_e61b3bd2_05ef_11ea_a6fb_107b449f15fclevel0_row7\" class=\"row_heading level0 row7\" >биология</th>\n",
       "                        <td id=\"T_e61b3bd2_05ef_11ea_a6fb_107b449f15fcrow7_col0\" class=\"data row7 col0\" >0.02334</td>\n",
       "            </tr>\n",
       "            <tr>\n",
       "                        <th id=\"T_e61b3bd2_05ef_11ea_a6fb_107b449f15fclevel0_row8\" class=\"row_heading level0 row8\" >биоэтика</th>\n",
       "                        <td id=\"T_e61b3bd2_05ef_11ea_a6fb_107b449f15fcrow8_col0\" class=\"data row8 col0\" >0.01687</td>\n",
       "            </tr>\n",
       "            <tr>\n",
       "                        <th id=\"T_e61b3bd2_05ef_11ea_a6fb_107b449f15fclevel0_row9\" class=\"row_heading level0 row9\" >фармакология</th>\n",
       "                        <td id=\"T_e61b3bd2_05ef_11ea_a6fb_107b449f15fcrow9_col0\" class=\"data row9 col0\" >0.01467</td>\n",
       "            </tr>\n",
       "    </tbody></table><style  type=\"text/css\" >\n",
       "</style><table id=\"T_e61b3bd3_05ef_11ea_a6fb_107b449f15fc\" style='display:inline'><thead>    <tr>        <th class=\"blank level0\" ></th>        <th class=\"col_heading level0 col0\" >topic_27 @word</th>    </tr></thead><tbody>\n",
       "                <tr>\n",
       "                        <th id=\"T_e61b3bd3_05ef_11ea_a6fb_107b449f15fclevel0_row0\" class=\"row_heading level0 row0\" >пациент</th>\n",
       "                        <td id=\"T_e61b3bd3_05ef_11ea_a6fb_107b449f15fcrow0_col0\" class=\"data row0 col0\" >0.00993</td>\n",
       "            </tr>\n",
       "            <tr>\n",
       "                        <th id=\"T_e61b3bd3_05ef_11ea_a6fb_107b449f15fclevel0_row1\" class=\"row_heading level0 row1\" >препарат</th>\n",
       "                        <td id=\"T_e61b3bd3_05ef_11ea_a6fb_107b449f15fcrow1_col0\" class=\"data row1 col0\" >0.00822</td>\n",
       "            </tr>\n",
       "            <tr>\n",
       "                        <th id=\"T_e61b3bd3_05ef_11ea_a6fb_107b449f15fclevel0_row2\" class=\"row_heading level0 row2\" >заболевание</th>\n",
       "                        <td id=\"T_e61b3bd3_05ef_11ea_a6fb_107b449f15fcrow2_col0\" class=\"data row2 col0\" >0.00813</td>\n",
       "            </tr>\n",
       "            <tr>\n",
       "                        <th id=\"T_e61b3bd3_05ef_11ea_a6fb_107b449f15fclevel0_row3\" class=\"row_heading level0 row3\" >врач</th>\n",
       "                        <td id=\"T_e61b3bd3_05ef_11ea_a6fb_107b449f15fcrow3_col0\" class=\"data row3 col0\" >0.0067</td>\n",
       "            </tr>\n",
       "            <tr>\n",
       "                        <th id=\"T_e61b3bd3_05ef_11ea_a6fb_107b449f15fclevel0_row4\" class=\"row_heading level0 row4\" >болезнь</th>\n",
       "                        <td id=\"T_e61b3bd3_05ef_11ea_a6fb_107b449f15fcrow4_col0\" class=\"data row4 col0\" >0.00598</td>\n",
       "            </tr>\n",
       "            <tr>\n",
       "                        <th id=\"T_e61b3bd3_05ef_11ea_a6fb_107b449f15fclevel0_row5\" class=\"row_heading level0 row5\" >лечение</th>\n",
       "                        <td id=\"T_e61b3bd3_05ef_11ea_a6fb_107b449f15fcrow5_col0\" class=\"data row5 col0\" >0.00588</td>\n",
       "            </tr>\n",
       "            <tr>\n",
       "                        <th id=\"T_e61b3bd3_05ef_11ea_a6fb_107b449f15fclevel0_row6\" class=\"row_heading level0 row6\" >медицина</th>\n",
       "                        <td id=\"T_e61b3bd3_05ef_11ea_a6fb_107b449f15fcrow6_col0\" class=\"data row6 col0\" >0.00485</td>\n",
       "            </tr>\n",
       "            <tr>\n",
       "                        <th id=\"T_e61b3bd3_05ef_11ea_a6fb_107b449f15fclevel0_row7\" class=\"row_heading level0 row7\" >клетка</th>\n",
       "                        <td id=\"T_e61b3bd3_05ef_11ea_a6fb_107b449f15fcrow7_col0\" class=\"data row7 col0\" >0.0046</td>\n",
       "            </tr>\n",
       "            <tr>\n",
       "                        <th id=\"T_e61b3bd3_05ef_11ea_a6fb_107b449f15fclevel0_row8\" class=\"row_heading level0 row8\" >лекарство</th>\n",
       "                        <td id=\"T_e61b3bd3_05ef_11ea_a6fb_107b449f15fcrow8_col0\" class=\"data row8 col0\" >0.00453</td>\n",
       "            </tr>\n",
       "            <tr>\n",
       "                        <th id=\"T_e61b3bd3_05ef_11ea_a6fb_107b449f15fclevel0_row9\" class=\"row_heading level0 row9\" >являться</th>\n",
       "                        <td id=\"T_e61b3bd3_05ef_11ea_a6fb_107b449f15fcrow9_col0\" class=\"data row9 col0\" >0.00451</td>\n",
       "            </tr>\n",
       "    </tbody></table>"
      ]
     },
     "metadata": {},
     "output_type": "display_data"
    },
    {
     "data": {
      "text/html": [
       "<b> трансгенные животные и продление жизни </b><br /> биолог алексей москалев о генетике старения, регуляции метаболизма и геропротекторах"
      ]
     },
     "metadata": {},
     "output_type": "display_data"
    },
    {
     "data": {
      "text/html": [
       "<b> хирургическое лечение сахарного диабета ii типа </b><br /> хирург юрий яшков о связи между сахарным диабетом и ожирением, эффективности бариатрических операций и опасности пищевых стереотипов"
      ]
     },
     "metadata": {},
     "output_type": "display_data"
    },
    {
     "data": {
      "text/html": [
       "<b> механизм противоопухолевого действия белка яда осы </b><br /> об исследовании белка mp1, который выборочно замедляет пролиферацию клеток рака, и перспективах лечения болезни"
      ]
     },
     "metadata": {},
     "output_type": "display_data"
    },
    {
     "data": {
      "text/html": [
       "<b> физиология микроводорослей </b><br /> биолог дмитрий лось о видовом разнообразии, очистке воздуха для космических полетов и полиненасыщенных жирных кислотах"
      ]
     },
     "metadata": {},
     "output_type": "display_data"
    },
    {
     "data": {
      "text/html": [
       "<b> этические проблемы генетического тестирования </b><br /> генетик вера ижевская о взаимоотношениях врача и пациента, принципах биоэтики и конфиденциальности генетической информации"
      ]
     },
     "metadata": {},
     "output_type": "display_data"
    },
    {
     "data": {
      "text/html": [
       "<b> дисплазия соединительной ткани </b><br /> профессор медицины александр васильев о высоком интеллекте диспластиков, сердечно-сосудистых заболеваниях и синдроме гиперволемии"
      ]
     },
     "metadata": {},
     "output_type": "display_data"
    },
    {
     "data": {
      "text/html": [
       "<b> faqфизиология микроводорослей </b><br /> 6 фактов об исследовании соединений, синтезируемых микроводорослями, и их возможном биотехнологическом использовании"
      ]
     },
     "metadata": {},
     "output_type": "display_data"
    },
    {
     "data": {
      "text/html": [
       "<b> faqвакуум как дуальный сверхпроводник </b><br /> 5 фактов о теории сильных взаимодействий"
      ]
     },
     "metadata": {},
     "output_type": "display_data"
    },
    {
     "data": {
      "text/html": [
       "<b> биоинженерия холодоустойчивости </b><br /> биолог дмитрий лось о механизмах холодоустойчивости растений, цианобактериях и ненасыщенных жирных кислотах"
      ]
     },
     "metadata": {},
     "output_type": "display_data"
    },
    {
     "data": {
      "text/html": [
       "<b> иммунология как область знания </b><br /> онколог сергей румянцев о напряженности системы, иммунологических текстах и индивидуальных препаратах"
      ]
     },
     "metadata": {},
     "output_type": "display_data"
    },
    {
     "data": {
      "text/html": [
       "<style  type=\"text/css\" >\n",
       "</style><table id=\"T_e61b3bd4_05ef_11ea_a6fb_107b449f15fc\" style='display:inline'><thead>    <tr>        <th class=\"blank level0\" ></th>        <th class=\"col_heading level0 col0\" >topic_28 @2gramm</th>    </tr></thead><tbody>\n",
       "                <tr>\n",
       "                        <th id=\"T_e61b3bd4_05ef_11ea_a6fb_107b449f15fclevel0_row0\" class=\"row_heading level0 row0\" >критический_теория</th>\n",
       "                        <td id=\"T_e61b3bd4_05ef_11ea_a6fb_107b449f15fcrow0_col0\" class=\"data row0 col0\" >0.01951</td>\n",
       "            </tr>\n",
       "            <tr>\n",
       "                        <th id=\"T_e61b3bd4_05ef_11ea_a6fb_107b449f15fclevel0_row1\" class=\"row_heading level0 row1\" >история_наука</th>\n",
       "                        <td id=\"T_e61b3bd4_05ef_11ea_a6fb_107b449f15fcrow1_col0\" class=\"data row1 col0\" >0.01007</td>\n",
       "            </tr>\n",
       "            <tr>\n",
       "                        <th id=\"T_e61b3bd4_05ef_11ea_a6fb_107b449f15fclevel0_row2\" class=\"row_heading level0 row2\" >хх_век</th>\n",
       "                        <td id=\"T_e61b3bd4_05ef_11ea_a6fb_107b449f15fcrow2_col0\" class=\"data row2 col0\" >0.00898</td>\n",
       "            </tr>\n",
       "            <tr>\n",
       "                        <th id=\"T_e61b3bd4_05ef_11ea_a6fb_107b449f15fclevel0_row3\" class=\"row_heading level0 row3\" >xx_век</th>\n",
       "                        <td id=\"T_e61b3bd4_05ef_11ea_a6fb_107b449f15fcrow3_col0\" class=\"data row3 col0\" >0.0086</td>\n",
       "            </tr>\n",
       "            <tr>\n",
       "                        <th id=\"T_e61b3bd4_05ef_11ea_a6fb_107b449f15fclevel0_row4\" class=\"row_heading level0 row4\" >углеродный_нанотрубка</th>\n",
       "                        <td id=\"T_e61b3bd4_05ef_11ea_a6fb_107b449f15fcrow4_col0\" class=\"data row4 col0\" >0.00779</td>\n",
       "            </tr>\n",
       "            <tr>\n",
       "                        <th id=\"T_e61b3bd4_05ef_11ea_a6fb_107b449f15fclevel0_row5\" class=\"row_heading level0 row5\" >русский_авангард</th>\n",
       "                        <td id=\"T_e61b3bd4_05ef_11ea_a6fb_107b449f15fcrow5_col0\" class=\"data row5 col0\" >0.00666</td>\n",
       "            </tr>\n",
       "            <tr>\n",
       "                        <th id=\"T_e61b3bd4_05ef_11ea_a6fb_107b449f15fclevel0_row6\" class=\"row_heading level0 row6\" >историк_наука</th>\n",
       "                        <td id=\"T_e61b3bd4_05ef_11ea_a6fb_107b449f15fcrow6_col0\" class=\"data row6 col0\" >0.00544</td>\n",
       "            </tr>\n",
       "            <tr>\n",
       "                        <th id=\"T_e61b3bd4_05ef_11ea_a6fb_107b449f15fclevel0_row7\" class=\"row_heading level0 row7\" >русский_философия</th>\n",
       "                        <td id=\"T_e61b3bd4_05ef_11ea_a6fb_107b449f15fcrow7_col0\" class=\"data row7 col0\" >0.00522</td>\n",
       "            </tr>\n",
       "            <tr>\n",
       "                        <th id=\"T_e61b3bd4_05ef_11ea_a6fb_107b449f15fclevel0_row8\" class=\"row_heading level0 row8\" >культурный_сообщество</th>\n",
       "                        <td id=\"T_e61b3bd4_05ef_11ea_a6fb_107b449f15fcrow8_col0\" class=\"data row8 col0\" >0.00502</td>\n",
       "            </tr>\n",
       "            <tr>\n",
       "                        <th id=\"T_e61b3bd4_05ef_11ea_a6fb_107b449f15fclevel0_row9\" class=\"row_heading level0 row9\" >современный_искусство</th>\n",
       "                        <td id=\"T_e61b3bd4_05ef_11ea_a6fb_107b449f15fcrow9_col0\" class=\"data row9 col0\" >0.00478</td>\n",
       "            </tr>\n",
       "    </tbody></table><style  type=\"text/css\" >\n",
       "</style><table id=\"T_e61b3bd5_05ef_11ea_a6fb_107b449f15fc\" style='display:inline'><thead>    <tr>        <th class=\"blank level0\" ></th>        <th class=\"col_heading level0 col0\" >topic_28 @3gramm</th>    </tr></thead><tbody>\n",
       "                <tr>\n",
       "                        <th id=\"T_e61b3bd5_05ef_11ea_a6fb_107b449f15fclevel0_row0\" class=\"row_heading level0 row0\" >половина_хх_век</th>\n",
       "                        <td id=\"T_e61b3bd5_05ef_11ea_a6fb_107b449f15fcrow0_col0\" class=\"data row0 col0\" >0.25362</td>\n",
       "            </tr>\n",
       "            <tr>\n",
       "                        <th id=\"T_e61b3bd5_05ef_11ea_a6fb_107b449f15fclevel0_row1\" class=\"row_heading level0 row1\" >недра_нейтронный_звезда</th>\n",
       "                        <td id=\"T_e61b3bd5_05ef_11ea_a6fb_107b449f15fcrow1_col0\" class=\"data row1 col0\" >0.09617</td>\n",
       "            </tr>\n",
       "            <tr>\n",
       "                        <th id=\"T_e61b3bd5_05ef_11ea_a6fb_107b449f15fclevel0_row2\" class=\"row_heading level0 row2\" >огромный_количество_информация</th>\n",
       "                        <td id=\"T_e61b3bd5_05ef_11ea_a6fb_107b449f15fcrow2_col0\" class=\"data row2 col0\" >0.09605</td>\n",
       "            </tr>\n",
       "            <tr>\n",
       "                        <th id=\"T_e61b3bd5_05ef_11ea_a6fb_107b449f15fclevel0_row3\" class=\"row_heading level0 row3\" >треть_xx_век</th>\n",
       "                        <td id=\"T_e61b3bd5_05ef_11ea_a6fb_107b449f15fcrow3_col0\" class=\"data row3 col0\" >0.07866</td>\n",
       "            </tr>\n",
       "            <tr>\n",
       "                        <th id=\"T_e61b3bd5_05ef_11ea_a6fb_107b449f15fclevel0_row4\" class=\"row_heading level0 row4\" >сложный_органический_соединение</th>\n",
       "                        <td id=\"T_e61b3bd5_05ef_11ea_a6fb_107b449f15fcrow4_col0\" class=\"data row4 col0\" >0.07853</td>\n",
       "            </tr>\n",
       "            <tr>\n",
       "                        <th id=\"T_e61b3bd5_05ef_11ea_a6fb_107b449f15fclevel0_row5\" class=\"row_heading level0 row5\" >форма_социальный_организация</th>\n",
       "                        <td id=\"T_e61b3bd5_05ef_11ea_a6fb_107b449f15fcrow5_col0\" class=\"data row5 col0\" >0.06109</td>\n",
       "            </tr>\n",
       "            <tr>\n",
       "                        <th id=\"T_e61b3bd5_05ef_11ea_a6fb_107b449f15fclevel0_row6\" class=\"row_heading level0 row6\" >разный_социальный_группа</th>\n",
       "                        <td id=\"T_e61b3bd5_05ef_11ea_a6fb_107b449f15fcrow6_col0\" class=\"data row6 col0\" >0.05638</td>\n",
       "            </tr>\n",
       "            <tr>\n",
       "                        <th id=\"T_e61b3bd5_05ef_11ea_a6fb_107b449f15fclevel0_row7\" class=\"row_heading level0 row7\" >оказать_огромный_влияние</th>\n",
       "                        <td id=\"T_e61b3bd5_05ef_11ea_a6fb_107b449f15fcrow7_col0\" class=\"data row7 col0\" >0.05238</td>\n",
       "            </tr>\n",
       "            <tr>\n",
       "                        <th id=\"T_e61b3bd5_05ef_11ea_a6fb_107b449f15fclevel0_row8\" class=\"row_heading level0 row8\" >система_принятие_решение</th>\n",
       "                        <td id=\"T_e61b3bd5_05ef_11ea_a6fb_107b449f15fcrow8_col0\" class=\"data row8 col0\" >0.05236</td>\n",
       "            </tr>\n",
       "            <tr>\n",
       "                        <th id=\"T_e61b3bd5_05ef_11ea_a6fb_107b449f15fclevel0_row9\" class=\"row_heading level0 row9\" >находить_общий_язык</th>\n",
       "                        <td id=\"T_e61b3bd5_05ef_11ea_a6fb_107b449f15fcrow9_col0\" class=\"data row9 col0\" >0.04606</td>\n",
       "            </tr>\n",
       "    </tbody></table><style  type=\"text/css\" >\n",
       "</style><table id=\"T_e61b3bd6_05ef_11ea_a6fb_107b449f15fc\" style='display:inline'><thead>    <tr>        <th class=\"blank level0\" ></th>        <th class=\"col_heading level0 col0\" >topic_28 @post_tag</th>    </tr></thead><tbody>\n",
       "                <tr>\n",
       "                        <th id=\"T_e61b3bd6_05ef_11ea_a6fb_107b449f15fclevel0_row0\" class=\"row_heading level0 row0\" >философия</th>\n",
       "                        <td id=\"T_e61b3bd6_05ef_11ea_a6fb_107b449f15fcrow0_col0\" class=\"data row0 col0\" >0.10957</td>\n",
       "            </tr>\n",
       "            <tr>\n",
       "                        <th id=\"T_e61b3bd6_05ef_11ea_a6fb_107b449f15fclevel0_row1\" class=\"row_heading level0 row1\" >история_науки</th>\n",
       "                        <td id=\"T_e61b3bd6_05ef_11ea_a6fb_107b449f15fcrow1_col0\" class=\"data row1 col0\" >0.10896</td>\n",
       "            </tr>\n",
       "            <tr>\n",
       "                        <th id=\"T_e61b3bd6_05ef_11ea_a6fb_107b449f15fclevel0_row2\" class=\"row_heading level0 row2\" >искусство</th>\n",
       "                        <td id=\"T_e61b3bd6_05ef_11ea_a6fb_107b449f15fcrow2_col0\" class=\"data row2 col0\" >0.10461</td>\n",
       "            </tr>\n",
       "            <tr>\n",
       "                        <th id=\"T_e61b3bd6_05ef_11ea_a6fb_107b449f15fclevel0_row3\" class=\"row_heading level0 row3\" >искусствоведение</th>\n",
       "                        <td id=\"T_e61b3bd6_05ef_11ea_a6fb_107b449f15fcrow3_col0\" class=\"data row3 col0\" >0.05732</td>\n",
       "            </tr>\n",
       "            <tr>\n",
       "                        <th id=\"T_e61b3bd6_05ef_11ea_a6fb_107b449f15fclevel0_row4\" class=\"row_heading level0 row4\" >история_философии</th>\n",
       "                        <td id=\"T_e61b3bd6_05ef_11ea_a6fb_107b449f15fcrow4_col0\" class=\"data row4 col0\" >0.05669</td>\n",
       "            </tr>\n",
       "            <tr>\n",
       "                        <th id=\"T_e61b3bd6_05ef_11ea_a6fb_107b449f15fclevel0_row5\" class=\"row_heading level0 row5\" >платон</th>\n",
       "                        <td id=\"T_e61b3bd6_05ef_11ea_a6fb_107b449f15fcrow5_col0\" class=\"data row5 col0\" >0.05293</td>\n",
       "            </tr>\n",
       "            <tr>\n",
       "                        <th id=\"T_e61b3bd6_05ef_11ea_a6fb_107b449f15fclevel0_row6\" class=\"row_heading level0 row6\" >аристотель</th>\n",
       "                        <td id=\"T_e61b3bd6_05ef_11ea_a6fb_107b449f15fcrow6_col0\" class=\"data row6 col0\" >0.04817</td>\n",
       "            </tr>\n",
       "            <tr>\n",
       "                        <th id=\"T_e61b3bd6_05ef_11ea_a6fb_107b449f15fclevel0_row7\" class=\"row_heading level0 row7\" >оптика</th>\n",
       "                        <td id=\"T_e61b3bd6_05ef_11ea_a6fb_107b449f15fcrow7_col0\" class=\"data row7 col0\" >0.0464</td>\n",
       "            </tr>\n",
       "            <tr>\n",
       "                        <th id=\"T_e61b3bd6_05ef_11ea_a6fb_107b449f15fclevel0_row8\" class=\"row_heading level0 row8\" >сократ</th>\n",
       "                        <td id=\"T_e61b3bd6_05ef_11ea_a6fb_107b449f15fcrow8_col0\" class=\"data row8 col0\" >0.03134</td>\n",
       "            </tr>\n",
       "            <tr>\n",
       "                        <th id=\"T_e61b3bd6_05ef_11ea_a6fb_107b449f15fclevel0_row9\" class=\"row_heading level0 row9\" >авангард</th>\n",
       "                        <td id=\"T_e61b3bd6_05ef_11ea_a6fb_107b449f15fcrow9_col0\" class=\"data row9 col0\" >0.03003</td>\n",
       "            </tr>\n",
       "    </tbody></table><style  type=\"text/css\" >\n",
       "</style><table id=\"T_e61b3bd7_05ef_11ea_a6fb_107b449f15fc\" style='display:inline'><thead>    <tr>        <th class=\"blank level0\" ></th>        <th class=\"col_heading level0 col0\" >topic_28 @word</th>    </tr></thead><tbody>\n",
       "                <tr>\n",
       "                        <th id=\"T_e61b3bd7_05ef_11ea_a6fb_107b449f15fclevel0_row0\" class=\"row_heading level0 row0\" >книга</th>\n",
       "                        <td id=\"T_e61b3bd7_05ef_11ea_a6fb_107b449f15fcrow0_col0\" class=\"data row0 col0\" >0.00837</td>\n",
       "            </tr>\n",
       "            <tr>\n",
       "                        <th id=\"T_e61b3bd7_05ef_11ea_a6fb_107b449f15fclevel0_row1\" class=\"row_heading level0 row1\" >философия</th>\n",
       "                        <td id=\"T_e61b3bd7_05ef_11ea_a6fb_107b449f15fcrow1_col0\" class=\"data row1 col0\" >0.00801</td>\n",
       "            </tr>\n",
       "            <tr>\n",
       "                        <th id=\"T_e61b3bd7_05ef_11ea_a6fb_107b449f15fclevel0_row2\" class=\"row_heading level0 row2\" >искусство</th>\n",
       "                        <td id=\"T_e61b3bd7_05ef_11ea_a6fb_107b449f15fcrow2_col0\" class=\"data row2 col0\" >0.00611</td>\n",
       "            </tr>\n",
       "            <tr>\n",
       "                        <th id=\"T_e61b3bd7_05ef_11ea_a6fb_107b449f15fclevel0_row3\" class=\"row_heading level0 row3\" >философ</th>\n",
       "                        <td id=\"T_e61b3bd7_05ef_11ea_a6fb_107b449f15fcrow3_col0\" class=\"data row3 col0\" >0.00593</td>\n",
       "            </tr>\n",
       "            <tr>\n",
       "                        <th id=\"T_e61b3bd7_05ef_11ea_a6fb_107b449f15fclevel0_row4\" class=\"row_heading level0 row4\" >говорить</th>\n",
       "                        <td id=\"T_e61b3bd7_05ef_11ea_a6fb_107b449f15fcrow4_col0\" class=\"data row4 col0\" >0.00522</td>\n",
       "            </tr>\n",
       "            <tr>\n",
       "                        <th id=\"T_e61b3bd7_05ef_11ea_a6fb_107b449f15fclevel0_row5\" class=\"row_heading level0 row5\" >культура</th>\n",
       "                        <td id=\"T_e61b3bd7_05ef_11ea_a6fb_107b449f15fcrow5_col0\" class=\"data row5 col0\" >0.00475</td>\n",
       "            </tr>\n",
       "            <tr>\n",
       "                        <th id=\"T_e61b3bd7_05ef_11ea_a6fb_107b449f15fclevel0_row6\" class=\"row_heading level0 row6\" >идея</th>\n",
       "                        <td id=\"T_e61b3bd7_05ef_11ea_a6fb_107b449f15fcrow6_col0\" class=\"data row6 col0\" >0.00474</td>\n",
       "            </tr>\n",
       "            <tr>\n",
       "                        <th id=\"T_e61b3bd7_05ef_11ea_a6fb_107b449f15fclevel0_row7\" class=\"row_heading level0 row7\" >платон</th>\n",
       "                        <td id=\"T_e61b3bd7_05ef_11ea_a6fb_107b449f15fcrow7_col0\" class=\"data row7 col0\" >0.00391</td>\n",
       "            </tr>\n",
       "            <tr>\n",
       "                        <th id=\"T_e61b3bd7_05ef_11ea_a6fb_107b449f15fclevel0_row8\" class=\"row_heading level0 row8\" >стать</th>\n",
       "                        <td id=\"T_e61b3bd7_05ef_11ea_a6fb_107b449f15fcrow8_col0\" class=\"data row8 col0\" >0.0036</td>\n",
       "            </tr>\n",
       "            <tr>\n",
       "                        <th id=\"T_e61b3bd7_05ef_11ea_a6fb_107b449f15fclevel0_row9\" class=\"row_heading level0 row9\" >авангард</th>\n",
       "                        <td id=\"T_e61b3bd7_05ef_11ea_a6fb_107b449f15fcrow9_col0\" class=\"data row9 col0\" >0.00353</td>\n",
       "            </tr>\n",
       "    </tbody></table>"
      ]
     },
     "metadata": {},
     "output_type": "display_data"
    },
    {
     "data": {
      "text/html": [
       "<b> русский космизм </b><br /> философ алексей козырев об идеале бессмертия, влиянии космизма на космонавтику и проблемах гелиофизики"
      ]
     },
     "metadata": {},
     "output_type": "display_data"
    },
    {
     "data": {
      "text/html": [
       "<b> философия культуры лосева </b><br /> философ александр доброхотов о неоплатонической диалектике лосева, критике шпенглера и методологии исследования культуры"
      ]
     },
     "metadata": {},
     "output_type": "display_data"
    },
    {
     "data": {
      "text/html": [
       "<b> критическая теория </b><br /> социолог арсений хитров об истоках критической теории, условиях познания и политическом активизме"
      ]
     },
     "metadata": {},
     "output_type": "display_data"
    },
    {
     "data": {
      "text/html": [
       "<b> понятие идеологии </b><br /> социолог культуры арсений хитров о придворном философе наполеона i, критике капитализма у маркса и конструкте «человеческая природа»"
      ]
     },
     "metadata": {},
     "output_type": "display_data"
    },
    {
     "data": {
      "text/html": [
       "<b> гегель сегодня </b><br /> философ иван болдырев об исследователях гегелевской философии, аналитической теории действия и консерватизме"
      ]
     },
     "metadata": {},
     "output_type": "display_data"
    },
    {
     "data": {
      "text/html": [
       "<b> философские чувства </b><br /> как рождаются философские чувства, и почему лиризм как род философии нельзя отождествлять ни с одним ее направлением?"
      ]
     },
     "metadata": {},
     "output_type": "display_data"
    },
    {
     "data": {
      "text/html": [
       "<b> faqсоветский авангард в 30-е годы </b><br /> 5 фактов об особенности авангарда, стратегиях выживания художников и цензуре"
      ]
     },
     "metadata": {},
     "output_type": "display_data"
    },
    {
     "data": {
      "text/html": [
       "<b> главыдревняя наука и религия </b><br /> отрывок из книги «объясняя мир» физика стивена вайнберга о попытках древнегреческих философов дистанцироваться от религиозной картины мира"
      ]
     },
     "metadata": {},
     "output_type": "display_data"
    },
    {
     "data": {
      "text/html": [
       "<b> что читать«картина мира эпохи авангарда» юрия гирина </b><br /> латиноамериканист андрей кофман рекомендуетсамая интересная книга о феномене авангарда как культурном явлении xx века"
      ]
     },
     "metadata": {},
     "output_type": "display_data"
    },
    {
     "data": {
      "text/html": [
       "<b> философия культуры аверинцева </b><br /> философ александр доброхотов о наследии аверинцева, филологии как службе понимания и принципах исследования культуры"
      ]
     },
     "metadata": {},
     "output_type": "display_data"
    },
    {
     "data": {
      "text/html": [
       "<style  type=\"text/css\" >\n",
       "</style><table id=\"T_e61b3bd8_05ef_11ea_a6fb_107b449f15fc\" style='display:inline'><thead>    <tr>        <th class=\"blank level0\" ></th>        <th class=\"col_heading level0 col0\" >topic_29 @2gramm</th>    </tr></thead><tbody>\n",
       "                <tr>\n",
       "                        <th id=\"T_e61b3bd8_05ef_11ea_a6fb_107b449f15fclevel0_row0\" class=\"row_heading level0 row0\" >молекула_днк</th>\n",
       "                        <td id=\"T_e61b3bd8_05ef_11ea_a6fb_107b449f15fcrow0_col0\" class=\"data row0 col0\" >0.01772</td>\n",
       "            </tr>\n",
       "            <tr>\n",
       "                        <th id=\"T_e61b3bd8_05ef_11ea_a6fb_107b449f15fclevel0_row1\" class=\"row_heading level0 row1\" >генетический_информация</th>\n",
       "                        <td id=\"T_e61b3bd8_05ef_11ea_a6fb_107b449f15fcrow1_col0\" class=\"data row1 col0\" >0.01237</td>\n",
       "            </tr>\n",
       "            <tr>\n",
       "                        <th id=\"T_e61b3bd8_05ef_11ea_a6fb_107b449f15fclevel0_row2\" class=\"row_heading level0 row2\" >живой_организм</th>\n",
       "                        <td id=\"T_e61b3bd8_05ef_11ea_a6fb_107b449f15fcrow2_col0\" class=\"data row2 col0\" >0.00982</td>\n",
       "            </tr>\n",
       "            <tr>\n",
       "                        <th id=\"T_e61b3bd8_05ef_11ea_a6fb_107b449f15fclevel0_row3\" class=\"row_heading level0 row3\" >молекулярный_биология</th>\n",
       "                        <td id=\"T_e61b3bd8_05ef_11ea_a6fb_107b449f15fcrow3_col0\" class=\"data row3 col0\" >0.00822</td>\n",
       "            </tr>\n",
       "            <tr>\n",
       "                        <th id=\"T_e61b3bd8_05ef_11ea_a6fb_107b449f15fclevel0_row4\" class=\"row_heading level0 row4\" >последовательность_днк</th>\n",
       "                        <td id=\"T_e61b3bd8_05ef_11ea_a6fb_107b449f15fcrow4_col0\" class=\"data row4 col0\" >0.00812</td>\n",
       "            </tr>\n",
       "            <tr>\n",
       "                        <th id=\"T_e61b3bd8_05ef_11ea_a6fb_107b449f15fclevel0_row5\" class=\"row_heading level0 row5\" >двойной_спираль</th>\n",
       "                        <td id=\"T_e61b3bd8_05ef_11ea_a6fb_107b449f15fcrow5_col0\" class=\"data row5 col0\" >0.00799</td>\n",
       "            </tr>\n",
       "            <tr>\n",
       "                        <th id=\"T_e61b3bd8_05ef_11ea_a6fb_107b449f15fclevel0_row6\" class=\"row_heading level0 row6\" >структура_днк</th>\n",
       "                        <td id=\"T_e61b3bd8_05ef_11ea_a6fb_107b449f15fcrow6_col0\" class=\"data row6 col0\" >0.00726</td>\n",
       "            </tr>\n",
       "            <tr>\n",
       "                        <th id=\"T_e61b3bd8_05ef_11ea_a6fb_107b449f15fclevel0_row7\" class=\"row_heading level0 row7\" >участок_днк</th>\n",
       "                        <td id=\"T_e61b3bd8_05ef_11ea_a6fb_107b449f15fcrow7_col0\" class=\"data row7 col0\" >0.00679</td>\n",
       "            </tr>\n",
       "            <tr>\n",
       "                        <th id=\"T_e61b3bd8_05ef_11ea_a6fb_107b449f15fclevel0_row8\" class=\"row_heading level0 row8\" >трансгенный_растение</th>\n",
       "                        <td id=\"T_e61b3bd8_05ef_11ea_a6fb_107b449f15fcrow8_col0\" class=\"data row8 col0\" >0.00657</td>\n",
       "            </tr>\n",
       "            <tr>\n",
       "                        <th id=\"T_e61b3bd8_05ef_11ea_a6fb_107b449f15fclevel0_row9\" class=\"row_heading level0 row9\" >живой_клетка</th>\n",
       "                        <td id=\"T_e61b3bd8_05ef_11ea_a6fb_107b449f15fcrow9_col0\" class=\"data row9 col0\" >0.00643</td>\n",
       "            </tr>\n",
       "    </tbody></table><style  type=\"text/css\" >\n",
       "</style><table id=\"T_e61b3bd9_05ef_11ea_a6fb_107b449f15fc\" style='display:inline'><thead>    <tr>        <th class=\"blank level0\" ></th>        <th class=\"col_heading level0 col0\" >topic_29 @3gramm</th>    </tr></thead><tbody>\n",
       "                <tr>\n",
       "                        <th id=\"T_e61b3bd9_05ef_11ea_a6fb_107b449f15fclevel0_row0\" class=\"row_heading level0 row0\" >друг_относительно_друг</th>\n",
       "                        <td id=\"T_e61b3bd9_05ef_11ea_a6fb_107b449f15fcrow0_col0\" class=\"data row0 col0\" >0.14166</td>\n",
       "            </tr>\n",
       "            <tr>\n",
       "                        <th id=\"T_e61b3bd9_05ef_11ea_a6fb_107b449f15fclevel0_row1\" class=\"row_heading level0 row1\" >двойной_спираль_днк</th>\n",
       "                        <td id=\"T_e61b3bd9_05ef_11ea_a6fb_107b449f15fcrow1_col0\" class=\"data row1 col0\" >0.09926</td>\n",
       "            </tr>\n",
       "            <tr>\n",
       "                        <th id=\"T_e61b3bd9_05ef_11ea_a6fb_107b449f15fclevel0_row2\" class=\"row_heading level0 row2\" >конец_прошлое_век</th>\n",
       "                        <td id=\"T_e61b3bd9_05ef_11ea_a6fb_107b449f15fcrow2_col0\" class=\"data row2 col0\" >0.09908</td>\n",
       "            </tr>\n",
       "            <tr>\n",
       "                        <th id=\"T_e61b3bd9_05ef_11ea_a6fb_107b449f15fclevel0_row3\" class=\"row_heading level0 row3\" >большой_роль_играть</th>\n",
       "                        <td id=\"T_e61b3bd9_05ef_11ea_a6fb_107b449f15fcrow3_col0\" class=\"data row3 col0\" >0.08464</td>\n",
       "            </tr>\n",
       "            <tr>\n",
       "                        <th id=\"T_e61b3bd9_05ef_11ea_a6fb_107b449f15fclevel0_row4\" class=\"row_heading level0 row4\" >играть_огромный_роль</th>\n",
       "                        <td id=\"T_e61b3bd9_05ef_11ea_a6fb_107b449f15fcrow4_col0\" class=\"data row4 col0\" >0.07057</td>\n",
       "            </tr>\n",
       "            <tr>\n",
       "                        <th id=\"T_e61b3bd9_05ef_11ea_a6fb_107b449f15fclevel0_row5\" class=\"row_heading level0 row5\" >открытие_двойной_спираль</th>\n",
       "                        <td id=\"T_e61b3bd9_05ef_11ea_a6fb_107b449f15fcrow5_col0\" class=\"data row5 col0\" >0.06379</td>\n",
       "            </tr>\n",
       "            <tr>\n",
       "                        <th id=\"T_e61b3bd9_05ef_11ea_a6fb_107b449f15fclevel0_row6\" class=\"row_heading level0 row6\" >сильно_отличаться_друг</th>\n",
       "                        <td id=\"T_e61b3bd9_05ef_11ea_a6fb_107b449f15fcrow6_col0\" class=\"data row6 col0\" >0.0637</td>\n",
       "            </tr>\n",
       "            <tr>\n",
       "                        <th id=\"T_e61b3bd9_05ef_11ea_a6fb_107b449f15fclevel0_row7\" class=\"row_heading level0 row7\" >крупный_рогатый_скот</th>\n",
       "                        <td id=\"T_e61b3bd9_05ef_11ea_a6fb_107b449f15fcrow7_col0\" class=\"data row7 col0\" >0.0621</td>\n",
       "            </tr>\n",
       "            <tr>\n",
       "                        <th id=\"T_e61b3bd9_05ef_11ea_a6fb_107b449f15fclevel0_row8\" class=\"row_heading level0 row8\" >открытие_структура_днк</th>\n",
       "                        <td id=\"T_e61b3bd9_05ef_11ea_a6fb_107b449f15fcrow8_col0\" class=\"data row8 col0\" >0.05663</td>\n",
       "            </tr>\n",
       "            <tr>\n",
       "                        <th id=\"T_e61b3bd9_05ef_11ea_a6fb_107b449f15fclevel0_row9\" class=\"row_heading level0 row9\" >большой_количество_энергия</th>\n",
       "                        <td id=\"T_e61b3bd9_05ef_11ea_a6fb_107b449f15fcrow9_col0\" class=\"data row9 col0\" >0.04923</td>\n",
       "            </tr>\n",
       "    </tbody></table><style  type=\"text/css\" >\n",
       "</style><table id=\"T_e61b3bda_05ef_11ea_a6fb_107b449f15fc\" style='display:inline'><thead>    <tr>        <th class=\"blank level0\" ></th>        <th class=\"col_heading level0 col0\" >topic_29 @post_tag</th>    </tr></thead><tbody>\n",
       "                <tr>\n",
       "                        <th id=\"T_e61b3bda_05ef_11ea_a6fb_107b449f15fclevel0_row0\" class=\"row_heading level0 row0\" >биология</th>\n",
       "                        <td id=\"T_e61b3bda_05ef_11ea_a6fb_107b449f15fcrow0_col0\" class=\"data row0 col0\" >0.13453</td>\n",
       "            </tr>\n",
       "            <tr>\n",
       "                        <th id=\"T_e61b3bda_05ef_11ea_a6fb_107b449f15fclevel0_row1\" class=\"row_heading level0 row1\" >днк</th>\n",
       "                        <td id=\"T_e61b3bda_05ef_11ea_a6fb_107b449f15fcrow1_col0\" class=\"data row1 col0\" >0.10646</td>\n",
       "            </tr>\n",
       "            <tr>\n",
       "                        <th id=\"T_e61b3bda_05ef_11ea_a6fb_107b449f15fclevel0_row2\" class=\"row_heading level0 row2\" >генетика</th>\n",
       "                        <td id=\"T_e61b3bda_05ef_11ea_a6fb_107b449f15fcrow2_col0\" class=\"data row2 col0\" >0.10183</td>\n",
       "            </tr>\n",
       "            <tr>\n",
       "                        <th id=\"T_e61b3bda_05ef_11ea_a6fb_107b449f15fclevel0_row3\" class=\"row_heading level0 row3\" >ген</th>\n",
       "                        <td id=\"T_e61b3bda_05ef_11ea_a6fb_107b449f15fcrow3_col0\" class=\"data row3 col0\" >0.10038</td>\n",
       "            </tr>\n",
       "            <tr>\n",
       "                        <th id=\"T_e61b3bda_05ef_11ea_a6fb_107b449f15fclevel0_row4\" class=\"row_heading level0 row4\" >геном</th>\n",
       "                        <td id=\"T_e61b3bda_05ef_11ea_a6fb_107b449f15fcrow4_col0\" class=\"data row4 col0\" >0.09655</td>\n",
       "            </tr>\n",
       "            <tr>\n",
       "                        <th id=\"T_e61b3bda_05ef_11ea_a6fb_107b449f15fclevel0_row5\" class=\"row_heading level0 row5\" >клетка</th>\n",
       "                        <td id=\"T_e61b3bda_05ef_11ea_a6fb_107b449f15fcrow5_col0\" class=\"data row5 col0\" >0.08451</td>\n",
       "            </tr>\n",
       "            <tr>\n",
       "                        <th id=\"T_e61b3bda_05ef_11ea_a6fb_107b449f15fclevel0_row6\" class=\"row_heading level0 row6\" >белки</th>\n",
       "                        <td id=\"T_e61b3bda_05ef_11ea_a6fb_107b449f15fcrow6_col0\" class=\"data row6 col0\" >0.04507</td>\n",
       "            </tr>\n",
       "            <tr>\n",
       "                        <th id=\"T_e61b3bda_05ef_11ea_a6fb_107b449f15fclevel0_row7\" class=\"row_heading level0 row7\" >биоинформатика</th>\n",
       "                        <td id=\"T_e61b3bda_05ef_11ea_a6fb_107b449f15fcrow7_col0\" class=\"data row7 col0\" >0.03448</td>\n",
       "            </tr>\n",
       "            <tr>\n",
       "                        <th id=\"T_e61b3bda_05ef_11ea_a6fb_107b449f15fclevel0_row8\" class=\"row_heading level0 row8\" >рнк</th>\n",
       "                        <td id=\"T_e61b3bda_05ef_11ea_a6fb_107b449f15fcrow8_col0\" class=\"data row8 col0\" >0.03104</td>\n",
       "            </tr>\n",
       "            <tr>\n",
       "                        <th id=\"T_e61b3bda_05ef_11ea_a6fb_107b449f15fclevel0_row9\" class=\"row_heading level0 row9\" >молекулярная_биология</th>\n",
       "                        <td id=\"T_e61b3bda_05ef_11ea_a6fb_107b449f15fcrow9_col0\" class=\"data row9 col0\" >0.0256</td>\n",
       "            </tr>\n",
       "    </tbody></table><style  type=\"text/css\" >\n",
       "</style><table id=\"T_e61b3bdb_05ef_11ea_a6fb_107b449f15fc\" style='display:inline'><thead>    <tr>        <th class=\"blank level0\" ></th>        <th class=\"col_heading level0 col0\" >topic_29 @word</th>    </tr></thead><tbody>\n",
       "                <tr>\n",
       "                        <th id=\"T_e61b3bdb_05ef_11ea_a6fb_107b449f15fclevel0_row0\" class=\"row_heading level0 row0\" >клетка</th>\n",
       "                        <td id=\"T_e61b3bdb_05ef_11ea_a6fb_107b449f15fcrow0_col0\" class=\"data row0 col0\" >0.02043</td>\n",
       "            </tr>\n",
       "            <tr>\n",
       "                        <th id=\"T_e61b3bdb_05ef_11ea_a6fb_107b449f15fclevel0_row1\" class=\"row_heading level0 row1\" >ген</th>\n",
       "                        <td id=\"T_e61b3bdb_05ef_11ea_a6fb_107b449f15fcrow1_col0\" class=\"data row1 col0\" >0.01569</td>\n",
       "            </tr>\n",
       "            <tr>\n",
       "                        <th id=\"T_e61b3bdb_05ef_11ea_a6fb_107b449f15fclevel0_row2\" class=\"row_heading level0 row2\" >днк</th>\n",
       "                        <td id=\"T_e61b3bdb_05ef_11ea_a6fb_107b449f15fcrow2_col0\" class=\"data row2 col0\" >0.0121</td>\n",
       "            </tr>\n",
       "            <tr>\n",
       "                        <th id=\"T_e61b3bdb_05ef_11ea_a6fb_107b449f15fclevel0_row3\" class=\"row_heading level0 row3\" >белка</th>\n",
       "                        <td id=\"T_e61b3bdb_05ef_11ea_a6fb_107b449f15fcrow3_col0\" class=\"data row3 col0\" >0.0092</td>\n",
       "            </tr>\n",
       "            <tr>\n",
       "                        <th id=\"T_e61b3bdb_05ef_11ea_a6fb_107b449f15fclevel0_row4\" class=\"row_heading level0 row4\" >геном</th>\n",
       "                        <td id=\"T_e61b3bdb_05ef_11ea_a6fb_107b449f15fcrow4_col0\" class=\"data row4 col0\" >0.00811</td>\n",
       "            </tr>\n",
       "            <tr>\n",
       "                        <th id=\"T_e61b3bdb_05ef_11ea_a6fb_107b449f15fclevel0_row5\" class=\"row_heading level0 row5\" >белок</th>\n",
       "                        <td id=\"T_e61b3bdb_05ef_11ea_a6fb_107b449f15fcrow5_col0\" class=\"data row5 col0\" >0.0065</td>\n",
       "            </tr>\n",
       "            <tr>\n",
       "                        <th id=\"T_e61b3bdb_05ef_11ea_a6fb_107b449f15fclevel0_row6\" class=\"row_heading level0 row6\" >организм</th>\n",
       "                        <td id=\"T_e61b3bdb_05ef_11ea_a6fb_107b449f15fcrow6_col0\" class=\"data row6 col0\" >0.00601</td>\n",
       "            </tr>\n",
       "            <tr>\n",
       "                        <th id=\"T_e61b3bdb_05ef_11ea_a6fb_107b449f15fclevel0_row7\" class=\"row_heading level0 row7\" >мутация</th>\n",
       "                        <td id=\"T_e61b3bdb_05ef_11ea_a6fb_107b449f15fcrow7_col0\" class=\"data row7 col0\" >0.00572</td>\n",
       "            </tr>\n",
       "            <tr>\n",
       "                        <th id=\"T_e61b3bdb_05ef_11ea_a6fb_107b449f15fclevel0_row8\" class=\"row_heading level0 row8\" >молекула</th>\n",
       "                        <td id=\"T_e61b3bdb_05ef_11ea_a6fb_107b449f15fcrow8_col0\" class=\"data row8 col0\" >0.00552</td>\n",
       "            </tr>\n",
       "            <tr>\n",
       "                        <th id=\"T_e61b3bdb_05ef_11ea_a6fb_107b449f15fclevel0_row9\" class=\"row_heading level0 row9\" >вирус</th>\n",
       "                        <td id=\"T_e61b3bdb_05ef_11ea_a6fb_107b449f15fcrow9_col0\" class=\"data row9 col0\" >0.0052</td>\n",
       "            </tr>\n",
       "    </tbody></table>"
      ]
     },
     "metadata": {},
     "output_type": "display_data"
    },
    {
     "data": {
      "text/html": [
       "<b> репликация днк </b><br /> биофизик максим франк-каменецкий о принципе комплементарности, разделении нитей и роли теломеразы при синтезе днк"
      ]
     },
     "metadata": {},
     "output_type": "display_data"
    },
    {
     "data": {
      "text/html": [
       "<b> необычные формы днк </b><br /> биофизик максим франк-каменецкий о двойной спирали рнк, неканонических формах днк и условиях их образования"
      ]
     },
     "metadata": {},
     "output_type": "display_data"
    },
    {
     "data": {
      "text/html": [
       "<b> элементарная хроматиновая фибрилла </b><br /> биолог евгений шеваль о фиксации компонентов живой клетки, искусстве замораживания молекул и нуклеосомной фибрилле"
      ]
     },
     "metadata": {},
     "output_type": "display_data"
    },
    {
     "data": {
      "text/html": [
       "<b> процесс удвоения днк может регулироваться и на стадии элонгации </b><br /> об удвоении хромосом и механизмах регуляции этого процесса"
      ]
     },
     "metadata": {},
     "output_type": "display_data"
    },
    {
     "data": {
      "text/html": [
       "<b> зонд на основе днк измеряет силу между клеткой и поверхностью </b><br /> о флуоресцентных молекулах, взаимодействии клеточной мембраны с внешней средой и измерении силы в несколько пиконьютонов"
      ]
     },
     "metadata": {},
     "output_type": "display_data"
    },
    {
     "data": {
      "text/html": [
       "<b> повреждения днк </b><br /> биофизик максим франк-каменецкий о мутациях генома, королеве виктории и болезни тея — сакса"
      ]
     },
     "metadata": {},
     "output_type": "display_data"
    },
    {
     "data": {
      "text/html": [
       "<b> каноническая структура днк </b><br /> биофизик максим франк-каменецкий о двойной спирали днк, правиле комплементарности и расшифровке генома человека"
      ]
     },
     "metadata": {},
     "output_type": "display_data"
    },
    {
     "data": {
      "text/html": [
       "<b> определение последовательности днк </b><br /> биофизик максим франк-каменецкий о чтении последовательностей днк, гель-электрофорезе и секвенировании генома человека"
      ]
     },
     "metadata": {},
     "output_type": "display_data"
    },
    {
     "data": {
      "text/html": [
       "<b> как днк с синтетическими нуклеотидами встроили в живую клетку? </b><br /> микробиолог константин северинов о центральной догме молекулярной биологии и увеличении информационной емкости днк"
      ]
     },
     "metadata": {},
     "output_type": "display_data"
    },
    {
     "data": {
      "text/html": [
       "<b> faqнаука о клетке </b><br /> 7 фактов о самой элементарной системе организма"
      ]
     },
     "metadata": {},
     "output_type": "display_data"
    },
    {
     "data": {
      "text/html": [
       "<style  type=\"text/css\" >\n",
       "</style><table id=\"T_e61b3bdc_05ef_11ea_a6fb_107b449f15fc\" style='display:inline'><thead>    <tr>        <th class=\"blank level0\" ></th>        <th class=\"col_heading level0 col0\" >bcg_30 @2gramm</th>    </tr></thead><tbody>\n",
       "                <tr>\n",
       "                        <th id=\"T_e61b3bdc_05ef_11ea_a6fb_107b449f15fclevel0_row0\" class=\"row_heading level0 row0\" >различный_площадка</th>\n",
       "                        <td id=\"T_e61b3bdc_05ef_11ea_a6fb_107b449f15fcrow0_col0\" class=\"data row0 col0\" >0.00394</td>\n",
       "            </tr>\n",
       "            <tr>\n",
       "                        <th id=\"T_e61b3bdc_05ef_11ea_a6fb_107b449f15fclevel0_row1\" class=\"row_heading level0 row1\" >привычный_формат</th>\n",
       "                        <td id=\"T_e61b3bdc_05ef_11ea_a6fb_107b449f15fcrow1_col0\" class=\"data row1 col0\" >0.00372</td>\n",
       "            </tr>\n",
       "            <tr>\n",
       "                        <th id=\"T_e61b3bdc_05ef_11ea_a6fb_107b449f15fclevel0_row2\" class=\"row_heading level0 row2\" >ход_лекция</th>\n",
       "                        <td id=\"T_e61b3bdc_05ef_11ea_a6fb_107b449f15fcrow2_col0\" class=\"data row2 col0\" >0.00337</td>\n",
       "            </tr>\n",
       "            <tr>\n",
       "                        <th id=\"T_e61b3bdc_05ef_11ea_a6fb_107b449f15fclevel0_row3\" class=\"row_heading level0 row3\" >писать_postnauka</th>\n",
       "                        <td id=\"T_e61b3bdc_05ef_11ea_a6fb_107b449f15fcrow3_col0\" class=\"data row3 col0\" >0.00311</td>\n",
       "            </tr>\n",
       "            <tr>\n",
       "                        <th id=\"T_e61b3bdc_05ef_11ea_a6fb_107b449f15fclevel0_row4\" class=\"row_heading level0 row4\" >xx_век</th>\n",
       "                        <td id=\"T_e61b3bdc_05ef_11ea_a6fb_107b449f15fcrow4_col0\" class=\"data row4 col0\" >0.00302</td>\n",
       "            </tr>\n",
       "            <tr>\n",
       "                        <th id=\"T_e61b3bdc_05ef_11ea_a6fb_107b449f15fclevel0_row5\" class=\"row_heading level0 row5\" >рамка_проект</th>\n",
       "                        <td id=\"T_e61b3bdc_05ef_11ea_a6fb_107b449f15fcrow5_col0\" class=\"data row5 col0\" >0.00173</td>\n",
       "            </tr>\n",
       "            <tr>\n",
       "                        <th id=\"T_e61b3bdc_05ef_11ea_a6fb_107b449f15fclevel0_row6\" class=\"row_heading level0 row6\" >xix_век</th>\n",
       "                        <td id=\"T_e61b3bdc_05ef_11ea_a6fb_107b449f15fcrow6_col0\" class=\"data row6 col0\" >0.00154</td>\n",
       "            </tr>\n",
       "            <tr>\n",
       "                        <th id=\"T_e61b3bdc_05ef_11ea_a6fb_107b449f15fclevel0_row7\" class=\"row_heading level0 row7\" >речь_идти</th>\n",
       "                        <td id=\"T_e61b3bdc_05ef_11ea_a6fb_107b449f15fcrow7_col0\" class=\"data row7 col0\" >0.0015</td>\n",
       "            </tr>\n",
       "            <tr>\n",
       "                        <th id=\"T_e61b3bdc_05ef_11ea_a6fb_107b449f15fclevel0_row8\" class=\"row_heading level0 row8\" >огромный_количество</th>\n",
       "                        <td id=\"T_e61b3bdc_05ef_11ea_a6fb_107b449f15fcrow8_col0\" class=\"data row8 col0\" >0.00122</td>\n",
       "            </tr>\n",
       "            <tr>\n",
       "                        <th id=\"T_e61b3bdc_05ef_11ea_a6fb_107b449f15fclevel0_row9\" class=\"row_heading level0 row9\" >русский_язык</th>\n",
       "                        <td id=\"T_e61b3bdc_05ef_11ea_a6fb_107b449f15fcrow9_col0\" class=\"data row9 col0\" >0.00118</td>\n",
       "            </tr>\n",
       "    </tbody></table><style  type=\"text/css\" >\n",
       "</style><table id=\"T_e61b3bdd_05ef_11ea_a6fb_107b449f15fc\" style='display:inline'><thead>    <tr>        <th class=\"blank level0\" ></th>        <th class=\"col_heading level0 col0\" >bcg_30 @3gramm</th>    </tr></thead><tbody>\n",
       "                <tr>\n",
       "                        <th id=\"T_e61b3bdd_05ef_11ea_a6fb_107b449f15fclevel0_row0\" class=\"row_heading level0 row0\" >начало_xxi_век</th>\n",
       "                        <td id=\"T_e61b3bdd_05ef_11ea_a6fb_107b449f15fcrow0_col0\" class=\"data row0 col0\" >0.1435</td>\n",
       "            </tr>\n",
       "            <tr>\n",
       "                        <th id=\"T_e61b3bdd_05ef_11ea_a6fb_107b449f15fclevel0_row1\" class=\"row_heading level0 row1\" >конец_xx_век</th>\n",
       "                        <td id=\"T_e61b3bdd_05ef_11ea_a6fb_107b449f15fcrow1_col0\" class=\"data row1 col0\" >0.11696</td>\n",
       "            </tr>\n",
       "            <tr>\n",
       "                        <th id=\"T_e61b3bdd_05ef_11ea_a6fb_107b449f15fclevel0_row2\" class=\"row_heading level0 row2\" >каков_история_развитие</th>\n",
       "                        <td id=\"T_e61b3bdd_05ef_11ea_a6fb_107b449f15fcrow2_col0\" class=\"data row2 col0\" >0.07982</td>\n",
       "            </tr>\n",
       "            <tr>\n",
       "                        <th id=\"T_e61b3bdd_05ef_11ea_a6fb_107b449f15fclevel0_row3\" class=\"row_heading level0 row3\" >дополнять_друг_друг</th>\n",
       "                        <td id=\"T_e61b3bdd_05ef_11ea_a6fb_107b449f15fcrow3_col0\" class=\"data row3 col0\" >0.0798</td>\n",
       "            </tr>\n",
       "            <tr>\n",
       "                        <th id=\"T_e61b3bdd_05ef_11ea_a6fb_107b449f15fclevel0_row4\" class=\"row_heading level0 row4\" >научный_точка_зрение</th>\n",
       "                        <td id=\"T_e61b3bdd_05ef_11ea_a6fb_107b449f15fcrow4_col0\" class=\"data row4 col0\" >0.06124</td>\n",
       "            </tr>\n",
       "            <tr>\n",
       "                        <th id=\"T_e61b3bdd_05ef_11ea_a6fb_107b449f15fclevel0_row5\" class=\"row_heading level0 row5\" >важный_роль_играть</th>\n",
       "                        <td id=\"T_e61b3bdd_05ef_11ea_a6fb_107b449f15fcrow5_col0\" class=\"data row5 col0\" >0.05161</td>\n",
       "            </tr>\n",
       "            <tr>\n",
       "                        <th id=\"T_e61b3bdd_05ef_11ea_a6fb_107b449f15fclevel0_row6\" class=\"row_heading level0 row6\" >довольно_большой_количество</th>\n",
       "                        <td id=\"T_e61b3bdd_05ef_11ea_a6fb_107b449f15fcrow6_col0\" class=\"data row6 col0\" >0.04067</td>\n",
       "            </tr>\n",
       "            <tr>\n",
       "                        <th id=\"T_e61b3bdd_05ef_11ea_a6fb_107b449f15fclevel0_row7\" class=\"row_heading level0 row7\" >существовать_целый_ряд</th>\n",
       "                        <td id=\"T_e61b3bdd_05ef_11ea_a6fb_107b449f15fcrow7_col0\" class=\"data row7 col0\" >0.03631</td>\n",
       "            </tr>\n",
       "            <tr>\n",
       "                        <th id=\"T_e61b3bdd_05ef_11ea_a6fb_107b449f15fclevel0_row8\" class=\"row_heading level0 row8\" >принятие_политический_решение</th>\n",
       "                        <td id=\"T_e61b3bdd_05ef_11ea_a6fb_107b449f15fcrow8_col0\" class=\"data row8 col0\" >0.03346</td>\n",
       "            </tr>\n",
       "            <tr>\n",
       "                        <th id=\"T_e61b3bdd_05ef_11ea_a6fb_107b449f15fclevel0_row9\" class=\"row_heading level0 row9\" >особый_интерес_представлять</th>\n",
       "                        <td id=\"T_e61b3bdd_05ef_11ea_a6fb_107b449f15fcrow9_col0\" class=\"data row9 col0\" >0.02249</td>\n",
       "            </tr>\n",
       "    </tbody></table><style  type=\"text/css\" >\n",
       "</style><table id=\"T_e61b3bde_05ef_11ea_a6fb_107b449f15fc\" style='display:inline'><thead>    <tr>        <th class=\"blank level0\" ></th>        <th class=\"col_heading level0 col0\" >bcg_30 @post_tag</th>    </tr></thead><tbody>\n",
       "                <tr>\n",
       "                        <th id=\"T_e61b3bde_05ef_11ea_a6fb_107b449f15fclevel0_row0\" class=\"row_heading level0 row0\" >история</th>\n",
       "                        <td id=\"T_e61b3bde_05ef_11ea_a6fb_107b449f15fcrow0_col0\" class=\"data row0 col0\" >0.16727</td>\n",
       "            </tr>\n",
       "            <tr>\n",
       "                        <th id=\"T_e61b3bde_05ef_11ea_a6fb_107b449f15fclevel0_row1\" class=\"row_heading level0 row1\" >культура</th>\n",
       "                        <td id=\"T_e61b3bde_05ef_11ea_a6fb_107b449f15fcrow1_col0\" class=\"data row1 col0\" >0.1605</td>\n",
       "            </tr>\n",
       "            <tr>\n",
       "                        <th id=\"T_e61b3bde_05ef_11ea_a6fb_107b449f15fclevel0_row2\" class=\"row_heading level0 row2\" >россия</th>\n",
       "                        <td id=\"T_e61b3bde_05ef_11ea_a6fb_107b449f15fcrow2_col0\" class=\"data row2 col0\" >0.10638</td>\n",
       "            </tr>\n",
       "            <tr>\n",
       "                        <th id=\"T_e61b3bde_05ef_11ea_a6fb_107b449f15fclevel0_row3\" class=\"row_heading level0 row3\" >общество</th>\n",
       "                        <td id=\"T_e61b3bde_05ef_11ea_a6fb_107b449f15fcrow3_col0\" class=\"data row3 col0\" >0.09713</td>\n",
       "            </tr>\n",
       "            <tr>\n",
       "                        <th id=\"T_e61b3bde_05ef_11ea_a6fb_107b449f15fclevel0_row4\" class=\"row_heading level0 row4\" >философия</th>\n",
       "                        <td id=\"T_e61b3bde_05ef_11ea_a6fb_107b449f15fcrow4_col0\" class=\"data row4 col0\" >0.08822</td>\n",
       "            </tr>\n",
       "            <tr>\n",
       "                        <th id=\"T_e61b3bde_05ef_11ea_a6fb_107b449f15fclevel0_row5\" class=\"row_heading level0 row5\" >биология</th>\n",
       "                        <td id=\"T_e61b3bde_05ef_11ea_a6fb_107b449f15fcrow5_col0\" class=\"data row5 col0\" >0.04015</td>\n",
       "            </tr>\n",
       "            <tr>\n",
       "                        <th id=\"T_e61b3bde_05ef_11ea_a6fb_107b449f15fclevel0_row6\" class=\"row_heading level0 row6\" >государство</th>\n",
       "                        <td id=\"T_e61b3bde_05ef_11ea_a6fb_107b449f15fcrow6_col0\" class=\"data row6 col0\" >0.03929</td>\n",
       "            </tr>\n",
       "            <tr>\n",
       "                        <th id=\"T_e61b3bde_05ef_11ea_a6fb_107b449f15fclevel0_row7\" class=\"row_heading level0 row7\" >литература</th>\n",
       "                        <td id=\"T_e61b3bde_05ef_11ea_a6fb_107b449f15fcrow7_col0\" class=\"data row7 col0\" >0.03665</td>\n",
       "            </tr>\n",
       "            <tr>\n",
       "                        <th id=\"T_e61b3bde_05ef_11ea_a6fb_107b449f15fclevel0_row8\" class=\"row_heading level0 row8\" >политика</th>\n",
       "                        <td id=\"T_e61b3bde_05ef_11ea_a6fb_107b449f15fcrow8_col0\" class=\"data row8 col0\" >0.02697</td>\n",
       "            </tr>\n",
       "            <tr>\n",
       "                        <th id=\"T_e61b3bde_05ef_11ea_a6fb_107b449f15fclevel0_row9\" class=\"row_heading level0 row9\" >литературоведение</th>\n",
       "                        <td id=\"T_e61b3bde_05ef_11ea_a6fb_107b449f15fcrow9_col0\" class=\"data row9 col0\" >0.01458</td>\n",
       "            </tr>\n",
       "    </tbody></table><style  type=\"text/css\" >\n",
       "</style><table id=\"T_e61b3bdf_05ef_11ea_a6fb_107b449f15fc\" style='display:inline'><thead>    <tr>        <th class=\"blank level0\" ></th>        <th class=\"col_heading level0 col0\" >bcg_30 @word</th>    </tr></thead><tbody>\n",
       "                <tr>\n",
       "                        <th id=\"T_e61b3bdf_05ef_11ea_a6fb_107b449f15fclevel0_row0\" class=\"row_heading level0 row0\" >лекция</th>\n",
       "                        <td id=\"T_e61b3bdf_05ef_11ea_a6fb_107b449f15fcrow0_col0\" class=\"data row0 col0\" >0.00042</td>\n",
       "            </tr>\n",
       "            <tr>\n",
       "                        <th id=\"T_e61b3bdf_05ef_11ea_a6fb_107b449f15fclevel0_row1\" class=\"row_heading level0 row1\" >прочитать</th>\n",
       "                        <td id=\"T_e61b3bdf_05ef_11ea_a6fb_107b449f15fcrow1_col0\" class=\"data row1 col0\" >0.00027</td>\n",
       "            </tr>\n",
       "            <tr>\n",
       "                        <th id=\"T_e61b3bdf_05ef_11ea_a6fb_107b449f15fclevel0_row2\" class=\"row_heading level0 row2\" >postnauka</th>\n",
       "                        <td id=\"T_e61b3bdf_05ef_11ea_a6fb_107b449f15fcrow2_col0\" class=\"data row2 col0\" >0.00026</td>\n",
       "            </tr>\n",
       "            <tr>\n",
       "                        <th id=\"T_e61b3bdf_05ef_11ea_a6fb_107b449f15fclevel0_row3\" class=\"row_heading level0 row3\" >посоветовать</th>\n",
       "                        <td id=\"T_e61b3bdf_05ef_11ea_a6fb_107b449f15fcrow3_col0\" class=\"data row3 col0\" >0.00024</td>\n",
       "            </tr>\n",
       "            <tr>\n",
       "                        <th id=\"T_e61b3bdf_05ef_11ea_a6fb_107b449f15fclevel0_row4\" class=\"row_heading level0 row4\" >публиковать</th>\n",
       "                        <td id=\"T_e61b3bdf_05ef_11ea_a6fb_107b449f15fcrow4_col0\" class=\"data row4 col0\" >0.00021</td>\n",
       "            </tr>\n",
       "            <tr>\n",
       "                        <th id=\"T_e61b3bdf_05ef_11ea_a6fb_107b449f15fclevel0_row5\" class=\"row_heading level0 row5\" >рубрика</th>\n",
       "                        <td id=\"T_e61b3bdf_05ef_11ea_a6fb_107b449f15fcrow5_col0\" class=\"data row5 col0\" >0.00021</td>\n",
       "            </tr>\n",
       "            <tr>\n",
       "                        <th id=\"T_e61b3bdf_05ef_11ea_a6fb_107b449f15fclevel0_row6\" class=\"row_heading level0 row6\" >каков</th>\n",
       "                        <td id=\"T_e61b3bdf_05ef_11ea_a6fb_107b449f15fcrow6_col0\" class=\"data row6 col0\" >0.00019</td>\n",
       "            </tr>\n",
       "            <tr>\n",
       "                        <th id=\"T_e61b3bdf_05ef_11ea_a6fb_107b449f15fclevel0_row7\" class=\"row_heading level0 row7\" >рассказывать</th>\n",
       "                        <td id=\"T_e61b3bdf_05ef_11ea_a6fb_107b449f15fcrow7_col0\" class=\"data row7 col0\" >0.00016</td>\n",
       "            </tr>\n",
       "            <tr>\n",
       "                        <th id=\"T_e61b3bdf_05ef_11ea_a6fb_107b449f15fclevel0_row8\" class=\"row_heading level0 row8\" >выбирать</th>\n",
       "                        <td id=\"T_e61b3bdf_05ef_11ea_a6fb_107b449f15fcrow8_col0\" class=\"data row8 col0\" >0.00016</td>\n",
       "            </tr>\n",
       "            <tr>\n",
       "                        <th id=\"T_e61b3bdf_05ef_11ea_a6fb_107b449f15fclevel0_row9\" class=\"row_heading level0 row9\" >диалог</th>\n",
       "                        <td id=\"T_e61b3bdf_05ef_11ea_a6fb_107b449f15fcrow9_col0\" class=\"data row9 col0\" >0.00016</td>\n",
       "            </tr>\n",
       "    </tbody></table>"
      ]
     },
     "metadata": {},
     "output_type": "display_data"
    },
    {
     "data": {
      "text/html": [
       "<b> читательский опыт </b><br /> культуролог ирина каспэ об антропологическом повороте, рецептивной эстетике и степени свободы читателя"
      ]
     },
     "metadata": {},
     "output_type": "display_data"
    },
    {
     "data": {
      "text/html": [
       "<b> археоавангард </b><br /> философ федор гиренок о непрерывно длящемся настоящем, ребенке-творце и асоциальном человеке"
      ]
     },
     "metadata": {},
     "output_type": "display_data"
    },
    {
     "data": {
      "text/html": [
       "<b> ироническая эстетика зольгера </b><br /> философ иван болдырев о диалектической традиции, философских диалогах и ситуации иронии"
      ]
     },
     "metadata": {},
     "output_type": "display_data"
    },
    {
     "data": {
      "text/html": [
       "<b> «теория прибавочного элемента»  к. малевича </b><br /> искусствовед наталья смолянская о влиянии окружения художника, супрематизме и педагогической установке"
      ]
     },
     "metadata": {},
     "output_type": "display_data"
    },
    {
     "data": {
      "text/html": [
       "<b> осип мандельштам </b><br /> литературовед олег лекманов о воспоминаниях надежды мандельштам, понятии «подтекст» и подмене статьи лидии гинзбург"
      ]
     },
     "metadata": {},
     "output_type": "display_data"
    },
    {
     "data": {
      "text/html": [
       "<b> теория критики насилия </b><br /> философ игорь чубаров о добавочной стоимости насилия, преследовании за ложь и принуждении к истине"
      ]
     },
     "metadata": {},
     "output_type": "display_data"
    },
    {
     "data": {
      "text/html": [
       "<b> культура справедливости </b><br /> философ николай плотников об универсальной концепции справедливости джона ролза, критериях справедливости и льве толстом"
      ]
     },
     "metadata": {},
     "output_type": "display_data"
    },
    {
     "data": {
      "text/html": [
       "<b> патовое мышление </b><br /> философ федор гиренок о снах иосифа, патовой ситуации и принципиальной неопределенности"
      ]
     },
     "metadata": {},
     "output_type": "display_data"
    },
    {
     "data": {
      "text/html": [
       "<b> «инакомыслящий» в русской литературе </b><br /> философ александр доброхотов об особенностях русской культуры, русской литературе и власти и ином типе личности у пушкина"
      ]
     },
     "metadata": {},
     "output_type": "display_data"
    },
    {
     "data": {
      "text/html": [
       "<b> алмазное правило этики </b><br /> философ михаил эпштейн о золотом правиле, универсализации индивидуальности и отсроченном мужестве"
      ]
     },
     "metadata": {},
     "output_type": "display_data"
    }
   ],
   "source": [
    "from IPython.display import display_html, display\n",
    "from topicnet.cooking_machine.dataset import get_modality_vw\n",
    "\n",
    "\n",
    "n=None\n",
    "for line, topic_docs in list(zip(first_model_html, first_model_top_doc))[:n]:\n",
    "    display_html(line, raw=True)\n",
    "    for doc_id in topic_docs:\n",
    "        doc_vw = dataset.get_vw_document(doc_id).values[0][0]\n",
    "        doc_title = get_modality_vw(doc_vw, \"@title\")\n",
    "        doc_snippet = get_modality_vw(doc_vw, \"@snippet\")\n",
    "        display_html(f\"<b>{doc_title}</b><br />{doc_snippet}\", raw=True)"
   ]
  },
  {
   "cell_type": "code",
   "execution_count": 22,
   "metadata": {},
   "outputs": [
    {
     "data": {
      "text/plain": [
       "{'@2gramm': 8.780309757546435,\n",
       " '@word': 1.0,\n",
       " '@post_tag': 79.51461372081415,\n",
       " '@3gramm': 245.1655266757866}"
      ]
     },
     "execution_count": 22,
     "metadata": {},
     "output_type": "execute_result"
    }
   ],
   "source": [
    "best_model.class_ids"
   ]
  }
 ],
 "metadata": {
  "kernelspec": {
   "display_name": "Python [conda env:root] *",
   "language": "python",
   "name": "conda-root-py"
  },
  "language_info": {
   "codemirror_mode": {
    "name": "ipython",
    "version": 3
   },
   "file_extension": ".py",
   "mimetype": "text/x-python",
   "name": "python",
   "nbconvert_exporter": "python",
   "pygments_lexer": "ipython3",
   "version": "3.6.9"
  }
 },
 "nbformat": 4,
 "nbformat_minor": 2
}
