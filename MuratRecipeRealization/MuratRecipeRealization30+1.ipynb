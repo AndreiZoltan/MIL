{
 "cells": [
  {
   "cell_type": "code",
   "execution_count": 1,
   "metadata": {},
   "outputs": [],
   "source": [
    "import numpy as np\n",
    "import pandas as pd\n",
    "import matplotlib.pyplot as plt\n",
    "%matplotlib inline\n",
    "import os\n",
    "import time\n",
    "import artm\n",
    "\n",
    "# change log style\n",
    "lc = artm.messages.ConfigureLoggingArgs()\n",
    "lc.minloglevel = 3\n",
    "lib = artm.wrapper.LibArtm(logging_config=lc)\n",
    "\n",
    "import warnings\n",
    "warnings.filterwarnings(\"ignore\", category=DeprecationWarning)"
   ]
  },
  {
   "cell_type": "code",
   "execution_count": 2,
   "metadata": {},
   "outputs": [],
   "source": [
    "from copy import deepcopy\n",
    "from topicnet.cooking_machine.models.topic_model import TopicModel\n",
    "from topicnet.cooking_machine.cubes import RegularizersModifierCube\n",
    "from topicnet.cooking_machine.models.blei_lafferty_score import BleiLaffertyScore\n",
    "from topicnet.cooking_machine.config_parser import build_experiment_environment_from_yaml_config\n",
    "\n",
    "from topicnet.cooking_machine.experiment import Experiment\n",
    "from topicnet.cooking_machine.cubes import *\n",
    "from topicnet.cooking_machine.dataset import Dataset\n",
    "\n",
    "%load_ext autoreload\n",
    "%autoreload 2"
   ]
  },
  {
   "cell_type": "code",
   "execution_count": 3,
   "metadata": {},
   "outputs": [],
   "source": [
    "import topicnet.cooking_machine.cubes as tncubes"
   ]
  },
  {
   "cell_type": "code",
   "execution_count": 4,
   "metadata": {},
   "outputs": [
    {
     "data": {
      "text/html": [
       "<style>\n",
       ".container { width:90% !important; }\n",
       "div.output_scroll .output_subarea { white-space: pre; }\n",
       "</style>"
      ],
      "text/plain": [
       "<IPython.core.display.HTML object>"
      ]
     },
     "metadata": {},
     "output_type": "display_data"
    }
   ],
   "source": [
    "from IPython.core.display import display, HTML\n",
    "from IPython.display import clear_output, display_html\n",
    "display(HTML(\"\"\"<style>\n",
    ".container { width:90% !important; }\n",
    "div.output_scroll .output_subarea { white-space: pre; }\n",
    "</style>\"\"\"))"
   ]
  },
  {
   "cell_type": "markdown",
   "metadata": {},
   "source": [
    "### Get dataset"
   ]
  },
  {
   "cell_type": "code",
   "execution_count": 5,
   "metadata": {},
   "outputs": [],
   "source": [
    "DATASET_PATH = \"/home/sultan/datasets/PScience/PScience.csv\""
   ]
  },
  {
   "cell_type": "code",
   "execution_count": 6,
   "metadata": {},
   "outputs": [],
   "source": [
    "dataset = Dataset(DATASET_PATH)\n",
    "dictionary = dataset.get_dictionary()"
   ]
  },
  {
   "cell_type": "code",
   "execution_count": 7,
   "metadata": {},
   "outputs": [
    {
     "name": "stdout",
     "output_type": "stream",
     "text": [
      "{'@word', '@snippet', '@title', '@2gramm', '@post_tag', '@3gramm', '@author'}\n"
     ]
    },
    {
     "data": {
      "text/html": [
       "<div>\n",
       "<style scoped>\n",
       "    .dataframe tbody tr th:only-of-type {\n",
       "        vertical-align: middle;\n",
       "    }\n",
       "\n",
       "    .dataframe tbody tr th {\n",
       "        vertical-align: top;\n",
       "    }\n",
       "\n",
       "    .dataframe thead th {\n",
       "        text-align: right;\n",
       "    }\n",
       "</style>\n",
       "<table border=\"1\" class=\"dataframe\">\n",
       "  <thead>\n",
       "    <tr style=\"text-align: right;\">\n",
       "      <th></th>\n",
       "      <th>vw_text</th>\n",
       "      <th>raw_text</th>\n",
       "    </tr>\n",
       "    <tr>\n",
       "      <th>id</th>\n",
       "      <th></th>\n",
       "      <th></th>\n",
       "    </tr>\n",
       "  </thead>\n",
       "  <tbody>\n",
       "    <tr>\n",
       "      <th>1.txt</th>\n",
       "      <td>1.txt |@author fuchs preobrazhensky tabachniko...</td>\n",
       "      <td>@title Автограф # «Математический дивертисмент...</td>\n",
       "    </tr>\n",
       "    <tr>\n",
       "      <th>2.txt</th>\n",
       "      <td>2.txt |@word книга:2 лекция:3 рассматриваться:...</td>\n",
       "      <td>@title Главы: Маскулинности в российском конте...</td>\n",
       "    </tr>\n",
       "    <tr>\n",
       "      <th>3.txt</th>\n",
       "      <td>3.txt |@word развитие появляться пиджина:4 бел...</td>\n",
       "      <td>@title Пиджины и креольские языки | @snippet Л...</td>\n",
       "    </tr>\n",
       "    <tr>\n",
       "      <th>4.txt</th>\n",
       "      <td>4.txt |@word стандартный задача:3 состоять:4 р...</td>\n",
       "      <td>@title FAQ: Физиология микроводорослей | @snip...</td>\n",
       "    </tr>\n",
       "    <tr>\n",
       "      <th>5.txt</th>\n",
       "      <td>5.txt |@2gramm повседневный_практика государст...</td>\n",
       "      <td>@title Русская государственная идеология | @sn...</td>\n",
       "    </tr>\n",
       "  </tbody>\n",
       "</table>\n",
       "</div>"
      ],
      "text/plain": [
       "                                                 vw_text  \\\n",
       "id                                                         \n",
       "1.txt  1.txt |@author fuchs preobrazhensky tabachniko...   \n",
       "2.txt  2.txt |@word книга:2 лекция:3 рассматриваться:...   \n",
       "3.txt  3.txt |@word развитие появляться пиджина:4 бел...   \n",
       "4.txt  4.txt |@word стандартный задача:3 состоять:4 р...   \n",
       "5.txt  5.txt |@2gramm повседневный_практика государст...   \n",
       "\n",
       "                                                raw_text  \n",
       "id                                                        \n",
       "1.txt  @title Автограф # «Математический дивертисмент...  \n",
       "2.txt  @title Главы: Маскулинности в российском конте...  \n",
       "3.txt  @title Пиджины и креольские языки | @snippet Л...  \n",
       "4.txt  @title FAQ: Физиология микроводорослей | @snip...  \n",
       "5.txt  @title Русская государственная идеология | @sn...  "
      ]
     },
     "execution_count": 7,
     "metadata": {},
     "output_type": "execute_result"
    }
   ],
   "source": [
    "print(dataset.get_possible_modalities())\n",
    "dataset.get_dataset().head()"
   ]
  },
  {
   "cell_type": "markdown",
   "metadata": {},
   "source": [
    "### Make initial model"
   ]
  },
  {
   "cell_type": "code",
   "execution_count": 8,
   "metadata": {
    "scrolled": false
   },
   "outputs": [
    {
     "name": "stdout",
     "output_type": "stream",
     "text": [
      "# This config follows a strategy described by Murat Apishev\n",
      "# one of the core programmers of BigARTM library in personal correspondence.\n",
      "# According to his letter 'decent' topic model can be obtained by\n",
      "# Decorrelating model topics simultaneously looking at retrieved TopTokens\n",
      "\n",
      "\n",
      "# Use .format(modality_list=modality_list, main_modality=main_modality, dataset_path=dataset_path,\n",
      "# specific_topics=specific_topics, background_topics=background_topics)\n",
      "# when loading the recipe to adjust for your dataset\n",
      "\n",
      "topics:\n",
      "# Describes number of model topics, better left to the user to define optimal topic number\n",
      "    specific_topics: ['topic_0', 'topic_1', 'topic_2', 'topic_3', 'topic_4', 'topic_5', 'topic_6', 'topic_7', 'topic_8', 'topic_9', 'topic_10', 'topic_11', 'topic_12', 'topic_13', 'topic_14', 'topic_15', 'topic_16', 'topic_17', 'topic_18', 'topic_19', 'topic_20', 'topic_21', 'topic_22', 'topic_23', 'topic_24', 'topic_25', 'topic_26', 'topic_27', 'topic_28', 'topic_29'] \n",
      "    background_topics: ['bcg_30']\n",
      "\n",
      "# Here is example of model with one modality\n",
      "regularizers:\n",
      "    - DecorrelatorPhiRegularizer:\n",
      "        name: decorrelation_phi_@word\n",
      "        topic_names: specific_topics\n",
      "        class_ids: '@word'\n",
      "    - DecorrelatorPhiRegularizer:\n",
      "        name: decorrelation_phi_@2gramm\n",
      "        topic_names: specific_topics\n",
      "        class_ids: '@2gramm'\n",
      "    - DecorrelatorPhiRegularizer:\n",
      "        name: decorrelation_phi_@3gramm\n",
      "        topic_names: specific_topics\n",
      "        class_ids: '@3gramm'\n",
      "    - DecorrelatorPhiRegularizer:\n",
      "        name: decorrelation_phi_@post_tag\n",
      "        topic_names: specific_topics\n",
      "        class_ids: '@post_tag'\n",
      "    - SmoothSparsePhiRegularizer:\n",
      "        name: smooth_phi_bcg\n",
      "        topic_names: background_topics\n",
      "        class_ids: ['@2gramm', '@word', '@post_tag', '@3gramm']\n",
      "        tau: 0.1\n",
      "        relative: true\n",
      "    - SmoothSparseThetaRegularizer:\n",
      "        name: smooth_theta_bcg\n",
      "        topic_names: background_topics\n",
      "        tau: 0.1\n",
      "        relative: true\n",
      "scores:\n",
      "    - BleiLaffertyScore:\n",
      "        num_top_tokens: 30\n",
      "model: \n",
      "    dataset_path: /home/sultan/datasets/PScience/PScience.csv\n",
      "    modalities_to_use: ['@2gramm', '@word', '@post_tag', '@3gramm']\n",
      "    main_modality: '@word'\n",
      "\n",
      "stages:\n",
      "- RegularizersModifierCube:\n",
      "    num_iter: 20\n",
      "    reg_search: add\n",
      "    regularizer_parameters:\n",
      "        name: decorrelation_phi_@word\n",
      "    selection:\n",
      "        - PerplexityScore@word < 1.05 * MINIMUM(PerplexityScore@word) and BleiLaffertyScore -> max\n",
      "    strategy: PerplexityStrategy #@word\n",
      "    # parameters of this strategy are intended for revision\n",
      "    strategy_params:\n",
      "        start_point: 0\n",
      "        step: 0.01\n",
      "        max_len: 50\n",
      "    tracked_score_function: PerplexityScore@word\n",
      "    verbose: false\n",
      "    use_relative_coefficients: true\n",
      "- RegularizersModifierCube:\n",
      "    num_iter: 20\n",
      "    reg_search: add\n",
      "    regularizer_parameters:\n",
      "        name: decorrelation_phi_@2gramm\n",
      "    selection:\n",
      "        - PerplexityScore@2gramm < 1.05 * MINIMUM(PerplexityScore@2gramm) and BleiLaffertyScore -> max\n",
      "    strategy: PerplexityStrategy #@2gramm\n",
      "    # parameters of this strategy are intended for revision\n",
      "    strategy_params:\n",
      "        start_point: 0\n",
      "        step: 0.01\n",
      "        max_len: 50\n",
      "    tracked_score_function: PerplexityScore@2gramm\n",
      "    verbose: false\n",
      "    use_relative_coefficients: true\n",
      "- RegularizersModifierCube:\n",
      "    num_iter: 20\n",
      "    reg_search: add\n",
      "    regularizer_parameters:\n",
      "        name: decorrelation_phi_@3gramm\n",
      "    selection:\n",
      "        - PerplexityScore@3gramm < 1.05 * MINIMUM(PerplexityScore@3gramm) and BleiLaffertyScore -> max\n",
      "    strategy: PerplexityStrategy #@3gramm\n",
      "    # parameters of this strategy are intended for revision\n",
      "    strategy_params:\n",
      "        start_point: 0\n",
      "        step: 0.01\n",
      "        max_len: 50\n",
      "    tracked_score_function: PerplexityScore@3gramm\n",
      "    verbose: false\n",
      "    use_relative_coefficients: true\n",
      "- RegularizersModifierCube:\n",
      "    num_iter: 20\n",
      "    reg_search: add\n",
      "    regularizer_parameters:\n",
      "        name: decorrelation_phi_@post_tag\n",
      "    selection:\n",
      "        - PerplexityScore@post_tag < 1.05 * MINIMUM(PerplexityScore@post_tag) and BleiLaffertyScore -> max\n",
      "    strategy: PerplexityStrategy #@post_tag\n",
      "    # parameters of this strategy are intended for revision\n",
      "    strategy_params:\n",
      "        start_point: 0\n",
      "        step: 0.01\n",
      "        max_len: 50\n",
      "    tracked_score_function: PerplexityScore@post_tag\n",
      "    verbose: false\n",
      "    use_relative_coefficients: true\n",
      "\n"
     ]
    }
   ],
   "source": [
    "with open(\"/home/sultan/recipes/ARTM_baseline-decorrelate-3gramm.yml\", \"r\") as f:\n",
    "    yaml_string = f.read()\n",
    "\n",
    "specific_topics = [f'topic_{i}' for i in range(30)]\n",
    "background_topics = [f'bcg_{i}' for i in range(len(specific_topics),len(specific_topics) + 1)]\n",
    "\n",
    "yaml_string = yaml_string.format(\n",
    "    modality1='@word',\n",
    "    modality2='@2gramm',\n",
    "    modality3='@3gramm',\n",
    "    modality4='@post_tag',\n",
    "    modality_list=['@2gramm', '@word', '@post_tag', '@3gramm'],\n",
    "    main_modality='@word',\n",
    "    dataset_path=DATASET_PATH,\n",
    "    specific_topics=specific_topics,\n",
    "    background_topics=background_topics)\n",
    "\n",
    "print(yaml_string)"
   ]
  },
  {
   "cell_type": "markdown",
   "metadata": {},
   "source": [
    "### Run experiment"
   ]
  },
  {
   "cell_type": "code",
   "execution_count": 9,
   "metadata": {},
   "outputs": [],
   "source": [
    "from topicnet.cooking_machine.experiment import Experiment\n",
    "if os.path.exists(f'./MuratDemo') == True:\n",
    "    os.system(\"rm -rf ./MuratDemo\")\n",
    "experiment, dataset = build_experiment_environment_from_yaml_config(\n",
    "    yaml_string,\n",
    "    experiment_id=\"MuratDemo\",\n",
    "    save_path=\"MuratDemo\"\n",
    ")"
   ]
  },
  {
   "cell_type": "code",
   "execution_count": 10,
   "metadata": {},
   "outputs": [
    {
     "name": "stderr",
     "output_type": "stream",
     "text": [
      "/home/sultan/miniconda3/lib/python3.6/site-packages/topicnet/cooking_machine/cubes/base_cube.py:206: UserWarning: Perplexity is too high for threshold 1.05\n",
      "  warnings.warn(warning_message)\n"
     ]
    },
    {
     "data": {
      "text/plain": [
       "{<topicnet.cooking_machine.models.topic_model.TopicModel at 0x7f35ff5e0d30>}"
      ]
     },
     "execution_count": 10,
     "metadata": {},
     "output_type": "execute_result"
    }
   ],
   "source": [
    "experiment.run(dataset)"
   ]
  },
  {
   "cell_type": "code",
   "execution_count": 11,
   "metadata": {},
   "outputs": [
    {
     "data": {
      "text/plain": [
       "Experiment MuratDemo\n",
       "\n",
       "Experiment was made with BigARTM 0.9.0\n",
       "Tree:\n",
       "                                ┌##17h37m51s_18d11m2019y###\n",
       "                                ├##17h38m57s_18d11m2019y###\n",
       "                                ├##17h40m02s_18d11m2019y###\n",
       "                                ├##17h41m05s_18d11m2019y###\n",
       "                                ├##17h42m07s_18d11m2019y###\n",
       "                                ├##17h43m07s_18d11m2019y###\n",
       "                                ├##17h44m08s_18d11m2019y###\n",
       "                                ├##17h45m06s_18d11m2019y###\n",
       "                                ├##17h46m03s_18d11m2019y###\n",
       "<<<<<<<<<<<root>>>>>>>>>>>──────┤\n",
       "                                ├##17h46m58s_18d11m2019y###\n",
       "                                ├##17h47m54s_18d11m2019y###\n",
       "                                ├##17h48m49s_18d11m2019y###\n",
       "                                ├##17h49m45s_18d11m2019y###\n",
       "                                ├##17h50m41s_18d11m2019y###\n",
       "                                ├##17h51m37s_18d11m2019y###\n",
       "                                ├##17h52m37s_18d11m2019y###\n",
       "                                │                                                                                                       ┌##17h57m04s_18d11m2019y###\n",
       "                                │                                                                                                       ├##17h58m12s_18d11m2019y###\n",
       "                                │                                                                                                       ├##17h59m22s_18d11m2019y###\n",
       "                                │                                                                                                       ├##18h00m31s_18d11m2019y###\n",
       "                                │                                                                                                       ├##18h01m42s_18d11m2019y###\n",
       "                                │                                                                                                       ├##18h02m53s_18d11m2019y###\n",
       "                                │                                                                                                       ├##18h04m03s_18d11m2019y###\n",
       "                                │                                                                                                       ├##18h05m13s_18d11m2019y###\n",
       "                                │                                                                                                       ├##18h06m23s_18d11m2019y###\n",
       "                                ├##17h53m37s_18d11m2019y###─────────────────────────────────────────────────────────────────────────────┤\n",
       "                                │                                                                                                       ├##18h07m34s_18d11m2019y###\n",
       "                                │                                                                                                       ├##18h08m44s_18d11m2019y###\n",
       "                                │                                                                                                       ├##18h09m54s_18d11m2019y###\n",
       "                                │                                                                                                       ├##18h11m05s_18d11m2019y###\n",
       "                                │                                                                                                       ├##18h12m16s_18d11m2019y###\n",
       "                                │                                                                                                       │                                                                                                       ┌##18h23m11s_18d11m2019y###\n",
       "                                │                                                                                                       │                                                                                                       │                                                                                                       ┌##18h31m41s_18d11m2019y###\n",
       "                                │                                                                                                       │                                                                                                       │                                                                                                       ├##18h32m57s_18d11m2019y###\n",
       "                                │                                                                                                       │                                                                                                       │                                                                                                       ├##18h34m16s_18d11m2019y###\n",
       "                                │                                                                                                       │                                                                                                       │                                                                                                       ├##18h35m33s_18d11m2019y###\n",
       "                                │                                                                                                       │                                                                                                       ├##18h24m26s_18d11m2019y###─────────────────────────────────────────────────────────────────────────────┤\n",
       "                                │                                                                                                       │                                                                                                       │                                                                                                       ├##18h36m49s_18d11m2019y###\n",
       "                                │                                                                                                       │                                                                                                       │                                                                                                       ├##18h38m05s_18d11m2019y###\n",
       "                                │                                                                                                       │                                                                                                       │                                                                                                       ├##18h39m24s_18d11m2019y###\n",
       "                                │                                                                                                       │                                                                                                       │                                                                                                       ├##18h40m42s_18d11m2019y###\n",
       "                                │                                                                                                       │                                                                                                       │                                                                                                       └##18h41m59s_18d11m2019y###\n",
       "                                │                                                                                                       ├##18h13m27s_18d11m2019y###─────────────────────────────────────────────────────────────────────────────┤\n",
       "                                │                                                                                                       │                                                                                                       ├##18h25m43s_18d11m2019y###\n",
       "                                │                                                                                                       │                                                                                                       ├##18h27m03s_18d11m2019y###\n",
       "                                │                                                                                                       │                                                                                                       └##18h28m22s_18d11m2019y###\n",
       "                                │                                                                                                       ├##18h14m37s_18d11m2019y###\n",
       "                                │                                                                                                       ├##18h15m44s_18d11m2019y###\n",
       "                                │                                                                                                       └##18h16m52s_18d11m2019y###\n",
       "                                └##17h54m35s_18d11m2019y###\n",
       "Cubes:\n",
       " START                          | REG_MODIFIER                                                                                          | REG_MODIFIER                                                                                          | REG_MODIFIER                                                                                          | REG_MODIFIER                                                                                         \n",
       "                                | cube:                                                                                                 | cube:                                                                                                 | cube:                                                                                                 | cube:                                                                                                \n",
       " name:                          |   <topicnet.cooking_machine.cubes.regularizer_cube.RegularizersModifierCube object at 0x7f3608e24cf8> |   <topicnet.cooking_machine.cubes.regularizer_cube.RegularizersModifierCube object at 0x7f3608e24d68> |   <topicnet.cooking_machine.cubes.regularizer_cube.RegularizersModifierCube object at 0x7f36070f0ef0> |   <topicnet.cooking_machine.cubes.regularizer_cube.RegularizersModifierCube object at 0x7f36070f0f98>\n",
       "   ARTM                         |                                                                                                       |                                                                                                       |                                                                                                       |                                                                                                      \n",
       " num_processors:                | tau_grid:                                                                                             | tau_grid:                                                                                             | tau_grid:                                                                                             | tau_grid:                                                                                            \n",
       "   3                            |   ---                                                                                                 |   ---                                                                                                 |   ---                                                                                                 |   ---                                                                                                \n",
       " num_topics:                    | name:                                                                                                 | name:                                                                                                 | name:                                                                                                 | name:                                                                                                \n",
       "   31                           |   decorrelation_phi_@word                                                                             |   decorrelation_phi_@2gramm                                                                           |   decorrelation_phi_@3gramm                                                                           |   decorrelation_phi_@post_tag                                                                        \n",
       " topic_names:                   |                                                                                                       |                                                                                                       |                                                                                                       |                                                                                                      \n",
       "   topic_0,                     |                                                                                                       |                                                                                                       |                                                                                                       |                                                                                                      \n",
       "   topic_1,                     |                                                                                                       |                                                                                                       |                                                                                                       |                                                                                                      \n",
       "   ...,                         |                                                                                                       |                                                                                                       |                                                                                                       |                                                                                                      \n",
       "   topic_29,                    |                                                                                                       |                                                                                                       |                                                                                                       |                                                                                                      \n",
       "   bcg_30                       |                                                                                                       |                                                                                                       |                                                                                                       |                                                                                                      \n",
       " class_ids:                     |                                                                                                       |                                                                                                       |                                                                                                       |                                                                                                      \n",
       "   @2gramm=8.780309757546435,   |                                                                                                       |                                                                                                       |                                                                                                       |                                                                                                      \n",
       "   @word=1.0,                   |                                                                                                       |                                                                                                       |                                                                                                       |                                                                                                      \n",
       "   @post_tag=79.51461372081415, |                                                                                                       |                                                                                                       |                                                                                                       |                                                                                                      \n",
       "   @3gramm=245.1655266757866    |                                                                                                       |                                                                                                       |                                                                                                       |                                                                                                      \n",
       " seed:                          |                                                                                                       |                                                                                                       |                                                                                                       |                                                                                                      \n",
       "   -1                           |                                                                                                       |                                                                                                       |                                                                                                       |                                                                                                      \n",
       "                                |                                                                                                       |                                                                                                       |                                                                                                       |                                                                                                      \n",
       "────────────────────────────────+───────────────────────────────────────────────────────────────────────────────────────────────────────+───────────────────────────────────────────────────────────────────────────────────────────────────────+───────────────────────────────────────────────────────────────────────────────────────────────────────+───────────────────────────────────────────────────────────────────────────────────────────────────────+─────────────────────────────────────────────────────────────────────────────────────────────────────\n",
       "                                | stage criteria 1:                                                                                     | stage criteria 1:                                                                                     | stage criteria 1:                                                                                     | stage criteria 1:                                                                                    \n",
       "                                |     PerplexityScore@word < 1.05 * MINIMUM(PerplexityScore@word)                                       |     PerplexityScore@2gramm < 1.05 * MINIMUM(PerplexityScore@2gramm)                                   |     PerplexityScore@3gramm < 1.05 * MINIMUM(PerplexityScore@3gramm)                                   |     PerplexityScore@post_tag < 1.05 * MINIMUM(PerplexityScore@post_tag)                              \n",
       "                                |     BleiLaffertyScore -> max                                                                          |     BleiLaffertyScore -> max                                                                          |     BleiLaffertyScore -> max                                                                          |     BleiLaffertyScore -> max                                                                         \n",
       "                                |                                                                                                       |                                                                                                       |                                                                                                       |                                                                                                      "
      ]
     },
     "metadata": {},
     "output_type": "display_data"
    }
   ],
   "source": [
    "experiment.show()"
   ]
  },
  {
   "cell_type": "code",
   "execution_count": 12,
   "metadata": {},
   "outputs": [],
   "source": [
    "best_model = experiment.select(experiment.criteria[-1][0])[0]"
   ]
  },
  {
   "cell_type": "code",
   "execution_count": 13,
   "metadata": {},
   "outputs": [
    {
     "data": {
      "text/html": [
       "<div>\n",
       "<style scoped>\n",
       "    .dataframe tbody tr th:only-of-type {\n",
       "        vertical-align: middle;\n",
       "    }\n",
       "\n",
       "    .dataframe tbody tr th {\n",
       "        vertical-align: top;\n",
       "    }\n",
       "\n",
       "    .dataframe thead th {\n",
       "        text-align: right;\n",
       "    }\n",
       "</style>\n",
       "<table border=\"1\" class=\"dataframe\">\n",
       "  <thead>\n",
       "    <tr style=\"text-align: right;\">\n",
       "      <th></th>\n",
       "      <th></th>\n",
       "      <th>tau</th>\n",
       "      <th>gamma</th>\n",
       "    </tr>\n",
       "    <tr>\n",
       "      <th>model_id</th>\n",
       "      <th>regularizer_name</th>\n",
       "      <th></th>\n",
       "      <th></th>\n",
       "    </tr>\n",
       "  </thead>\n",
       "  <tbody>\n",
       "    <tr>\n",
       "      <th rowspan=\"6\" valign=\"top\">##18h38m05s_18d11m2019y###</th>\n",
       "      <th>smooth_phi_bcg</th>\n",
       "      <td>19.899208</td>\n",
       "      <td>NaN</td>\n",
       "    </tr>\n",
       "    <tr>\n",
       "      <th>smooth_theta_bcg</th>\n",
       "      <td>187.195195</td>\n",
       "      <td>NaN</td>\n",
       "    </tr>\n",
       "    <tr>\n",
       "      <th>decorrelation_phi_@word</th>\n",
       "      <td>0.150000</td>\n",
       "      <td>0.0</td>\n",
       "    </tr>\n",
       "    <tr>\n",
       "      <th>decorrelation_phi_@2gramm</th>\n",
       "      <td>0.130000</td>\n",
       "      <td>0.0</td>\n",
       "    </tr>\n",
       "    <tr>\n",
       "      <th>decorrelation_phi_@3gramm</th>\n",
       "      <td>0.000000</td>\n",
       "      <td>0.0</td>\n",
       "    </tr>\n",
       "    <tr>\n",
       "      <th>decorrelation_phi_@post_tag</th>\n",
       "      <td>0.040000</td>\n",
       "      <td>0.0</td>\n",
       "    </tr>\n",
       "  </tbody>\n",
       "</table>\n",
       "</div>"
      ],
      "text/plain": [
       "                                                               tau  gamma\n",
       "model_id                   regularizer_name                              \n",
       "##18h38m05s_18d11m2019y### smooth_phi_bcg                19.899208    NaN\n",
       "                           smooth_theta_bcg             187.195195    NaN\n",
       "                           decorrelation_phi_@word        0.150000    0.0\n",
       "                           decorrelation_phi_@2gramm      0.130000    0.0\n",
       "                           decorrelation_phi_@3gramm      0.000000    0.0\n",
       "                           decorrelation_phi_@post_tag    0.040000    0.0"
      ]
     },
     "execution_count": 13,
     "metadata": {},
     "output_type": "execute_result"
    }
   ],
   "source": [
    "best_model.describe_regularizers()"
   ]
  },
  {
   "cell_type": "code",
   "execution_count": 14,
   "metadata": {
    "scrolled": true
   },
   "outputs": [
    {
     "data": {
      "text/html": [
       "<div>\n",
       "<style scoped>\n",
       "    .dataframe tbody tr th:only-of-type {\n",
       "        vertical-align: middle;\n",
       "    }\n",
       "\n",
       "    .dataframe tbody tr th {\n",
       "        vertical-align: top;\n",
       "    }\n",
       "\n",
       "    .dataframe thead th {\n",
       "        text-align: right;\n",
       "    }\n",
       "</style>\n",
       "<table border=\"1\" class=\"dataframe\">\n",
       "  <thead>\n",
       "    <tr style=\"text-align: right;\">\n",
       "      <th></th>\n",
       "      <th></th>\n",
       "      <th>last_value</th>\n",
       "    </tr>\n",
       "    <tr>\n",
       "      <th>model_id</th>\n",
       "      <th>score_name</th>\n",
       "      <th></th>\n",
       "    </tr>\n",
       "  </thead>\n",
       "  <tbody>\n",
       "    <tr>\n",
       "      <th rowspan=\"47\" valign=\"top\">##18h38m05s_18d11m2019y###</th>\n",
       "      <th>PerplexityScore@all</th>\n",
       "      <td>1.02958e+10</td>\n",
       "    </tr>\n",
       "    <tr>\n",
       "      <th>SparsityThetaScore</th>\n",
       "      <td>0.0574087</td>\n",
       "    </tr>\n",
       "    <tr>\n",
       "      <th>SparsityPhiScore@2gramm</th>\n",
       "      <td>0.780664</td>\n",
       "    </tr>\n",
       "    <tr>\n",
       "      <th>PerplexityScore@2gramm</th>\n",
       "      <td>1987.57</td>\n",
       "    </tr>\n",
       "    <tr>\n",
       "      <th>TopicKernel@2gramm.average_coherence</th>\n",
       "      <td>0</td>\n",
       "    </tr>\n",
       "    <tr>\n",
       "      <th>TopicKernel@2gramm.average_contrast</th>\n",
       "      <td>0.520274</td>\n",
       "    </tr>\n",
       "    <tr>\n",
       "      <th>TopicKernel@2gramm.average_purity</th>\n",
       "      <td>0.470695</td>\n",
       "    </tr>\n",
       "    <tr>\n",
       "      <th>TopicKernel@2gramm.average_size</th>\n",
       "      <td>277.097</td>\n",
       "    </tr>\n",
       "    <tr>\n",
       "      <th>TopicKernel@2gramm.coherence</th>\n",
       "      <td>{'topic_0': 0.0, 'topic_1': 0.0, 'topic_2': 0....</td>\n",
       "    </tr>\n",
       "    <tr>\n",
       "      <th>TopicKernel@2gramm.contrast</th>\n",
       "      <td>{'topic_0': 0.5582089424133301, 'topic_1': 0.5...</td>\n",
       "    </tr>\n",
       "    <tr>\n",
       "      <th>TopicKernel@2gramm.purity</th>\n",
       "      <td>{'topic_0': 0.5312007069587708, 'topic_1': 0.5...</td>\n",
       "    </tr>\n",
       "    <tr>\n",
       "      <th>TopicKernel@2gramm.size</th>\n",
       "      <td>{'topic_0': 214.0, 'topic_1': 279.0, 'topic_2'...</td>\n",
       "    </tr>\n",
       "    <tr>\n",
       "      <th>TopicKernel@2gramm.tokens</th>\n",
       "      <td>{'topic_0': ['глубокий_смысл', 'процесс_поиск'...</td>\n",
       "    </tr>\n",
       "    <tr>\n",
       "      <th>SparsityPhiScore@word</th>\n",
       "      <td>0.677364</td>\n",
       "    </tr>\n",
       "    <tr>\n",
       "      <th>PerplexityScore@word</th>\n",
       "      <td>3417.16</td>\n",
       "    </tr>\n",
       "    <tr>\n",
       "      <th>TopicKernel@word.average_coherence</th>\n",
       "      <td>0</td>\n",
       "    </tr>\n",
       "    <tr>\n",
       "      <th>TopicKernel@word.average_contrast</th>\n",
       "      <td>0.481643</td>\n",
       "    </tr>\n",
       "    <tr>\n",
       "      <th>TopicKernel@word.average_purity</th>\n",
       "      <td>0.169033</td>\n",
       "    </tr>\n",
       "    <tr>\n",
       "      <th>TopicKernel@word.average_size</th>\n",
       "      <td>521</td>\n",
       "    </tr>\n",
       "    <tr>\n",
       "      <th>TopicKernel@word.coherence</th>\n",
       "      <td>{'topic_0': 0.0, 'topic_1': 0.0, 'topic_2': 0....</td>\n",
       "    </tr>\n",
       "    <tr>\n",
       "      <th>TopicKernel@word.contrast</th>\n",
       "      <td>{'topic_0': 0.4783359169960022, 'topic_1': 0.4...</td>\n",
       "    </tr>\n",
       "    <tr>\n",
       "      <th>TopicKernel@word.purity</th>\n",
       "      <td>{'topic_0': 0.15664327144622803, 'topic_1': 0....</td>\n",
       "    </tr>\n",
       "    <tr>\n",
       "      <th>TopicKernel@word.size</th>\n",
       "      <td>{'topic_0': 146.0, 'topic_1': 183.0, 'topic_2'...</td>\n",
       "    </tr>\n",
       "    <tr>\n",
       "      <th>TopicKernel@word.tokens</th>\n",
       "      <td>{'topic_0': ['имитатор', 'вогнутый', 'злиться'...</td>\n",
       "    </tr>\n",
       "    <tr>\n",
       "      <th>SparsityPhiScore@post_tag</th>\n",
       "      <td>0.903573</td>\n",
       "    </tr>\n",
       "    <tr>\n",
       "      <th>PerplexityScore@post_tag</th>\n",
       "      <td>47.0018</td>\n",
       "    </tr>\n",
       "    <tr>\n",
       "      <th>TopicKernel@post_tag.average_coherence</th>\n",
       "      <td>0</td>\n",
       "    </tr>\n",
       "    <tr>\n",
       "      <th>TopicKernel@post_tag.average_contrast</th>\n",
       "      <td>0.784123</td>\n",
       "    </tr>\n",
       "    <tr>\n",
       "      <th>TopicKernel@post_tag.average_purity</th>\n",
       "      <td>0.866071</td>\n",
       "    </tr>\n",
       "    <tr>\n",
       "      <th>TopicKernel@post_tag.average_size</th>\n",
       "      <td>33.9032</td>\n",
       "    </tr>\n",
       "    <tr>\n",
       "      <th>TopicKernel@post_tag.coherence</th>\n",
       "      <td>{'topic_0': 0.0, 'topic_1': 0.0, 'topic_2': 0....</td>\n",
       "    </tr>\n",
       "    <tr>\n",
       "      <th>TopicKernel@post_tag.contrast</th>\n",
       "      <td>{'topic_0': 0.8059059381484985, 'topic_1': 0.7...</td>\n",
       "    </tr>\n",
       "    <tr>\n",
       "      <th>TopicKernel@post_tag.purity</th>\n",
       "      <td>{'topic_0': 0.9093155264854431, 'topic_1': 0.9...</td>\n",
       "    </tr>\n",
       "    <tr>\n",
       "      <th>TopicKernel@post_tag.size</th>\n",
       "      <td>{'topic_0': 17.0, 'topic_1': 39.0, 'topic_2': ...</td>\n",
       "    </tr>\n",
       "    <tr>\n",
       "      <th>TopicKernel@post_tag.tokens</th>\n",
       "      <td>{'topic_0': ['миозин', 'психофизиология', 'ней...</td>\n",
       "    </tr>\n",
       "    <tr>\n",
       "      <th>SparsityPhiScore@3gramm</th>\n",
       "      <td>0.908718</td>\n",
       "    </tr>\n",
       "    <tr>\n",
       "      <th>PerplexityScore@3gramm</th>\n",
       "      <td>32.252</td>\n",
       "    </tr>\n",
       "    <tr>\n",
       "      <th>TopicKernel@3gramm.average_coherence</th>\n",
       "      <td>0</td>\n",
       "    </tr>\n",
       "    <tr>\n",
       "      <th>TopicKernel@3gramm.average_contrast</th>\n",
       "      <td>0.860382</td>\n",
       "    </tr>\n",
       "    <tr>\n",
       "      <th>TopicKernel@3gramm.average_purity</th>\n",
       "      <td>0.954005</td>\n",
       "    </tr>\n",
       "    <tr>\n",
       "      <th>TopicKernel@3gramm.average_size</th>\n",
       "      <td>16.0968</td>\n",
       "    </tr>\n",
       "    <tr>\n",
       "      <th>TopicKernel@3gramm.coherence</th>\n",
       "      <td>{'topic_0': 0.0, 'topic_1': 0.0, 'topic_2': 0....</td>\n",
       "    </tr>\n",
       "    <tr>\n",
       "      <th>TopicKernel@3gramm.contrast</th>\n",
       "      <td>{'topic_0': 0.8997119665145874, 'topic_1': 0.8...</td>\n",
       "    </tr>\n",
       "    <tr>\n",
       "      <th>TopicKernel@3gramm.purity</th>\n",
       "      <td>{'topic_0': 0.9910804033279419, 'topic_1': 0.9...</td>\n",
       "    </tr>\n",
       "    <tr>\n",
       "      <th>TopicKernel@3gramm.size</th>\n",
       "      <td>{'topic_0': 11.0, 'topic_1': 19.0, 'topic_2': ...</td>\n",
       "    </tr>\n",
       "    <tr>\n",
       "      <th>TopicKernel@3gramm.tokens</th>\n",
       "      <td>{'topic_0': ['достаточно_большой_часть', 'исто...</td>\n",
       "    </tr>\n",
       "    <tr>\n",
       "      <th>BleiLaffertyScore</th>\n",
       "      <td>246.39</td>\n",
       "    </tr>\n",
       "  </tbody>\n",
       "</table>\n",
       "</div>"
      ],
      "text/plain": [
       "                                                                                                          last_value\n",
       "model_id                   score_name                                                                               \n",
       "##18h38m05s_18d11m2019y### PerplexityScore@all                                                           1.02958e+10\n",
       "                           SparsityThetaScore                                                              0.0574087\n",
       "                           SparsityPhiScore@2gramm                                                          0.780664\n",
       "                           PerplexityScore@2gramm                                                            1987.57\n",
       "                           TopicKernel@2gramm.average_coherence                                                    0\n",
       "                           TopicKernel@2gramm.average_contrast                                              0.520274\n",
       "                           TopicKernel@2gramm.average_purity                                                0.470695\n",
       "                           TopicKernel@2gramm.average_size                                                   277.097\n",
       "                           TopicKernel@2gramm.coherence            {'topic_0': 0.0, 'topic_1': 0.0, 'topic_2': 0....\n",
       "                           TopicKernel@2gramm.contrast             {'topic_0': 0.5582089424133301, 'topic_1': 0.5...\n",
       "                           TopicKernel@2gramm.purity               {'topic_0': 0.5312007069587708, 'topic_1': 0.5...\n",
       "                           TopicKernel@2gramm.size                 {'topic_0': 214.0, 'topic_1': 279.0, 'topic_2'...\n",
       "                           TopicKernel@2gramm.tokens               {'topic_0': ['глубокий_смысл', 'процесс_поиск'...\n",
       "                           SparsityPhiScore@word                                                            0.677364\n",
       "                           PerplexityScore@word                                                              3417.16\n",
       "                           TopicKernel@word.average_coherence                                                      0\n",
       "                           TopicKernel@word.average_contrast                                                0.481643\n",
       "                           TopicKernel@word.average_purity                                                  0.169033\n",
       "                           TopicKernel@word.average_size                                                         521\n",
       "                           TopicKernel@word.coherence              {'topic_0': 0.0, 'topic_1': 0.0, 'topic_2': 0....\n",
       "                           TopicKernel@word.contrast               {'topic_0': 0.4783359169960022, 'topic_1': 0.4...\n",
       "                           TopicKernel@word.purity                 {'topic_0': 0.15664327144622803, 'topic_1': 0....\n",
       "                           TopicKernel@word.size                   {'topic_0': 146.0, 'topic_1': 183.0, 'topic_2'...\n",
       "                           TopicKernel@word.tokens                 {'topic_0': ['имитатор', 'вогнутый', 'злиться'...\n",
       "                           SparsityPhiScore@post_tag                                                        0.903573\n",
       "                           PerplexityScore@post_tag                                                          47.0018\n",
       "                           TopicKernel@post_tag.average_coherence                                                  0\n",
       "                           TopicKernel@post_tag.average_contrast                                            0.784123\n",
       "                           TopicKernel@post_tag.average_purity                                              0.866071\n",
       "                           TopicKernel@post_tag.average_size                                                 33.9032\n",
       "                           TopicKernel@post_tag.coherence          {'topic_0': 0.0, 'topic_1': 0.0, 'topic_2': 0....\n",
       "                           TopicKernel@post_tag.contrast           {'topic_0': 0.8059059381484985, 'topic_1': 0.7...\n",
       "                           TopicKernel@post_tag.purity             {'topic_0': 0.9093155264854431, 'topic_1': 0.9...\n",
       "                           TopicKernel@post_tag.size               {'topic_0': 17.0, 'topic_1': 39.0, 'topic_2': ...\n",
       "                           TopicKernel@post_tag.tokens             {'topic_0': ['миозин', 'психофизиология', 'ней...\n",
       "                           SparsityPhiScore@3gramm                                                          0.908718\n",
       "                           PerplexityScore@3gramm                                                             32.252\n",
       "                           TopicKernel@3gramm.average_coherence                                                    0\n",
       "                           TopicKernel@3gramm.average_contrast                                              0.860382\n",
       "                           TopicKernel@3gramm.average_purity                                                0.954005\n",
       "                           TopicKernel@3gramm.average_size                                                   16.0968\n",
       "                           TopicKernel@3gramm.coherence            {'topic_0': 0.0, 'topic_1': 0.0, 'topic_2': 0....\n",
       "                           TopicKernel@3gramm.contrast             {'topic_0': 0.8997119665145874, 'topic_1': 0.8...\n",
       "                           TopicKernel@3gramm.purity               {'topic_0': 0.9910804033279419, 'topic_1': 0.9...\n",
       "                           TopicKernel@3gramm.size                 {'topic_0': 11.0, 'topic_1': 19.0, 'topic_2': ...\n",
       "                           TopicKernel@3gramm.tokens               {'topic_0': ['достаточно_большой_часть', 'исто...\n",
       "                           BleiLaffertyScore                                                                  246.39"
      ]
     },
     "execution_count": 14,
     "metadata": {},
     "output_type": "execute_result"
    }
   ],
   "source": [
    "best_model.describe_scores()"
   ]
  },
  {
   "cell_type": "markdown",
   "metadata": {},
   "source": [
    "## Results"
   ]
  },
  {
   "cell_type": "code",
   "execution_count": 15,
   "metadata": {},
   "outputs": [
    {
     "data": {
      "image/png": "[encoded data removed]",
      "text/plain": [
       "<Figure size 576x576 with 1 Axes>"
      ]
     },
     "metadata": {
      "needs_background": "light"
     },
     "output_type": "display_data"
    }
   ],
   "source": [
    "from matplotlib import cm\n",
    "tms = experiment.models\n",
    "colors = np.linspace(0, 0.65, len(tms))\n",
    "\n",
    "plt.figure(figsize=(8,8))\n",
    "for i, tm in enumerate(list(tms.values())[1:]):\n",
    "    score = tm.scores['BleiLaffertyScore']\n",
    "    ls = \"-\" if tm.model_id == best_model.model_id else \"--\" \n",
    "    plt.plot(score, color=cm.Reds(colors[i]), ls=ls)\n",
    "plt.show()"
   ]
  },
  {
   "cell_type": "code",
   "execution_count": 16,
   "metadata": {},
   "outputs": [
    {
     "data": {
      "image/png": "[encoded data removed]",
      "text/plain": [
       "<Figure size 576x576 with 1 Axes>"
      ]
     },
     "metadata": {
      "needs_background": "light"
     },
     "output_type": "display_data"
    }
   ],
   "source": [
    "tms = experiment.models\n",
    "colors = np.linspace(0, 0.65, len(tms))\n",
    "\n",
    "plt.figure(figsize=(8,8))\n",
    "for i, tm in enumerate(list(tms.values())[1:]):\n",
    "    score = tm.scores['PerplexityScore@all']\n",
    "    score[0] = float(\"nan\")\n",
    "    ls = \"-\" if tm.model_id == best_model.model_id else \"--\" \n",
    "    plt.plot(score, color=cm.Reds(colors[i]), ls=ls)\n",
    "plt.show()"
   ]
  },
  {
   "cell_type": "code",
   "execution_count": 17,
   "metadata": {},
   "outputs": [
    {
     "data": {
      "image/png": "[encoded data removed]",
      "text/plain": [
       "<Figure size 576x576 with 1 Axes>"
      ]
     },
     "metadata": {
      "needs_background": "light"
     },
     "output_type": "display_data"
    }
   ],
   "source": [
    "tms = experiment.models\n",
    "colors = np.linspace(0, 0.65, len(tms))\n",
    "\n",
    "plt.figure(figsize=(8,8))\n",
    "for i, tm in enumerate(list(tms.values())[1:]):\n",
    "    ls = \"-\" if tm.model_id == best_model.model_id else \"--\" \n",
    "    score = tm.scores['TopicKernel@word.average_purity']\n",
    "    plt.plot(score, color=cm.Blues(colors[i]), ls=ls)\n",
    "    score = tm.scores['TopicKernel@word.average_contrast']\n",
    "    plt.plot(score, color=cm.Reds(colors[i]), ls=ls)\n",
    "    \n",
    "    score = tm.scores['SparsityPhiScore@word']\n",
    "    plt.plot(score, color=cm.Greens(colors[i]), ls=ls)\n",
    "\n",
    "plt.show()"
   ]
  },
  {
   "cell_type": "code",
   "execution_count": 18,
   "metadata": {},
   "outputs": [
    {
     "data": {
      "image/png": "[encoded data removed]",
      "text/plain": [
       "<Figure size 576x576 with 1 Axes>"
      ]
     },
     "metadata": {
      "needs_background": "light"
     },
     "output_type": "display_data"
    }
   ],
   "source": [
    "tms = experiment.models\n",
    "colors = np.linspace(0, 0.65, len(tms))\n",
    "\n",
    "plt.figure(figsize=(8,8))\n",
    "for i, tm in enumerate(list(tms.values())[1:]):\n",
    "    ls = \"-\" if tm.model_id == best_model.model_id else \"--\" \n",
    "    score = tm.scores['TopicKernel@2gramm.average_purity']\n",
    "    plt.plot(score, color=cm.Blues(colors[i]), ls=ls)\n",
    "    score = tm.scores['TopicKernel@2gramm.average_contrast']\n",
    "    plt.plot(score, color=cm.Reds(colors[i]), ls=ls)\n",
    "    \n",
    "    score = tm.scores['SparsityPhiScore@2gramm']\n",
    "    plt.plot(score, color=cm.Greens(colors[i]), ls=ls)\n",
    "\n",
    "plt.show()"
   ]
  },
  {
   "cell_type": "markdown",
   "metadata": {},
   "source": [
    "## Investigate model"
   ]
  },
  {
   "cell_type": "code",
   "execution_count": 19,
   "metadata": {},
   "outputs": [],
   "source": [
    "from topicnet.viewers.top_tokens_viewer import TopTokensViewer\n",
    "from topicnet.viewers.top_documents_viewer import TopDocumentsViewer"
   ]
  },
  {
   "cell_type": "code",
   "execution_count": 20,
   "metadata": {},
   "outputs": [],
   "source": [
    "first_model_top_tok = TopTokensViewer(best_model, num_top_tokens=10, method='phi')\n",
    "first_model_html =  first_model_top_tok.to_html(first_model_top_tok.view())\n",
    "first_model_top_doc = TopDocumentsViewer(best_model, dataset=dataset).view()"
   ]
  },
  {
   "cell_type": "code",
   "execution_count": 21,
   "metadata": {},
   "outputs": [
    {
     "data": {
      "text/html": [
       "<style  type=\"text/css\" >\n",
       "</style><table id=\"T_d0f2721e_0a1a_11ea_a6fb_107b449f15fc\" style='display:inline'><thead>    <tr>        <th class=\"blank level0\" ></th>        <th class=\"col_heading level0 col0\" >topic_0 @2gramm</th>    </tr></thead><tbody>\n",
       "                <tr>\n",
       "                        <th id=\"T_d0f2721e_0a1a_11ea_a6fb_107b449f15fclevel0_row0\" class=\"row_heading level0 row0\" >нервный_клетка</th>\n",
       "                        <td id=\"T_d0f2721e_0a1a_11ea_a6fb_107b449f15fcrow0_col0\" class=\"data row0 col0\" >0.0432</td>\n",
       "            </tr>\n",
       "            <tr>\n",
       "                        <th id=\"T_d0f2721e_0a1a_11ea_a6fb_107b449f15fclevel0_row1\" class=\"row_heading level0 row1\" >нервный_система</th>\n",
       "                        <td id=\"T_d0f2721e_0a1a_11ea_a6fb_107b449f15fcrow1_col0\" class=\"data row1 col0\" >0.03552</td>\n",
       "            </tr>\n",
       "            <tr>\n",
       "                        <th id=\"T_d0f2721e_0a1a_11ea_a6fb_107b449f15fclevel0_row2\" class=\"row_heading level0 row2\" >человеческий_мозг</th>\n",
       "                        <td id=\"T_d0f2721e_0a1a_11ea_a6fb_107b449f15fcrow2_col0\" class=\"data row2 col0\" >0.01737</td>\n",
       "            </tr>\n",
       "            <tr>\n",
       "                        <th id=\"T_d0f2721e_0a1a_11ea_a6fb_107b449f15fclevel0_row3\" class=\"row_heading level0 row3\" >орган_чувство</th>\n",
       "                        <td id=\"T_d0f2721e_0a1a_11ea_a6fb_107b449f15fcrow3_col0\" class=\"data row3 col0\" >0.0166</td>\n",
       "            </tr>\n",
       "            <tr>\n",
       "                        <th id=\"T_d0f2721e_0a1a_11ea_a6fb_107b449f15fclevel0_row4\" class=\"row_heading level0 row4\" >работа_мозг</th>\n",
       "                        <td id=\"T_d0f2721e_0a1a_11ea_a6fb_107b449f15fcrow4_col0\" class=\"data row4 col0\" >0.01143</td>\n",
       "            </tr>\n",
       "            <tr>\n",
       "                        <th id=\"T_d0f2721e_0a1a_11ea_a6fb_107b449f15fclevel0_row5\" class=\"row_heading level0 row5\" >область_мозг</th>\n",
       "                        <td id=\"T_d0f2721e_0a1a_11ea_a6fb_107b449f15fcrow5_col0\" class=\"data row5 col0\" >0.01017</td>\n",
       "            </tr>\n",
       "            <tr>\n",
       "                        <th id=\"T_d0f2721e_0a1a_11ea_a6fb_107b449f15fclevel0_row6\" class=\"row_heading level0 row6\" >потенциал_действие</th>\n",
       "                        <td id=\"T_d0f2721e_0a1a_11ea_a6fb_107b449f15fcrow6_col0\" class=\"data row6 col0\" >0.01</td>\n",
       "            </tr>\n",
       "            <tr>\n",
       "                        <th id=\"T_d0f2721e_0a1a_11ea_a6fb_107b449f15fclevel0_row7\" class=\"row_heading level0 row7\" >кратковременный_память</th>\n",
       "                        <td id=\"T_d0f2721e_0a1a_11ea_a6fb_107b449f15fcrow7_col0\" class=\"data row7 col0\" >0.00989</td>\n",
       "            </tr>\n",
       "            <tr>\n",
       "                        <th id=\"T_d0f2721e_0a1a_11ea_a6fb_107b449f15fclevel0_row8\" class=\"row_heading level0 row8\" >структура_мозг</th>\n",
       "                        <td id=\"T_d0f2721e_0a1a_11ea_a6fb_107b449f15fcrow8_col0\" class=\"data row8 col0\" >0.00895</td>\n",
       "            </tr>\n",
       "            <tr>\n",
       "                        <th id=\"T_d0f2721e_0a1a_11ea_a6fb_107b449f15fclevel0_row9\" class=\"row_heading level0 row9\" >участок_мозг</th>\n",
       "                        <td id=\"T_d0f2721e_0a1a_11ea_a6fb_107b449f15fcrow9_col0\" class=\"data row9 col0\" >0.0078</td>\n",
       "            </tr>\n",
       "    </tbody></table><style  type=\"text/css\" >\n",
       "</style><table id=\"T_d0f2721f_0a1a_11ea_a6fb_107b449f15fc\" style='display:inline'><thead>    <tr>        <th class=\"blank level0\" ></th>        <th class=\"col_heading level0 col0\" >topic_0 @3gramm</th>    </tr></thead><tbody>\n",
       "                <tr>\n",
       "                        <th id=\"T_d0f2721f_0a1a_11ea_a6fb_107b449f15fclevel0_row0\" class=\"row_heading level0 row0\" >кора_головной_мозг</th>\n",
       "                        <td id=\"T_d0f2721f_0a1a_11ea_a6fb_107b449f15fcrow0_col0\" class=\"data row0 col0\" >0.31742</td>\n",
       "            </tr>\n",
       "            <tr>\n",
       "                        <th id=\"T_d0f2721f_0a1a_11ea_a6fb_107b449f15fclevel0_row1\" class=\"row_heading level0 row1\" >средство_массовый_информация</th>\n",
       "                        <td id=\"T_d0f2721f_0a1a_11ea_a6fb_107b449f15fcrow1_col0\" class=\"data row1 col0\" >0.27293</td>\n",
       "            </tr>\n",
       "            <tr>\n",
       "                        <th id=\"T_d0f2721f_0a1a_11ea_a6fb_107b449f15fclevel0_row2\" class=\"row_heading level0 row2\" >история_политический_мысль</th>\n",
       "                        <td id=\"T_d0f2721f_0a1a_11ea_a6fb_107b449f15fcrow2_col0\" class=\"data row2 col0\" >0.08844</td>\n",
       "            </tr>\n",
       "            <tr>\n",
       "                        <th id=\"T_d0f2721f_0a1a_11ea_a6fb_107b449f15fclevel0_row3\" class=\"row_heading level0 row3\" >отдел_головной_мозг</th>\n",
       "                        <td id=\"T_d0f2721f_0a1a_11ea_a6fb_107b449f15fcrow3_col0\" class=\"data row3 col0\" >0.06639</td>\n",
       "            </tr>\n",
       "            <tr>\n",
       "                        <th id=\"T_d0f2721f_0a1a_11ea_a6fb_107b449f15fclevel0_row4\" class=\"row_heading level0 row4\" >механизм_работа_мозг</th>\n",
       "                        <td id=\"T_d0f2721f_0a1a_11ea_a6fb_107b449f15fcrow4_col0\" class=\"data row4 col0\" >0.04423</td>\n",
       "            </tr>\n",
       "            <tr>\n",
       "                        <th id=\"T_d0f2721f_0a1a_11ea_a6fb_107b449f15fclevel0_row5\" class=\"row_heading level0 row5\" >разный_область_мозг</th>\n",
       "                        <td id=\"T_d0f2721f_0a1a_11ea_a6fb_107b449f15fcrow5_col0\" class=\"data row5 col0\" >0.0442</td>\n",
       "            </tr>\n",
       "            <tr>\n",
       "                        <th id=\"T_d0f2721f_0a1a_11ea_a6fb_107b449f15fclevel0_row6\" class=\"row_heading level0 row6\" >найти_большой_количество</th>\n",
       "                        <td id=\"T_d0f2721f_0a1a_11ea_a6fb_107b449f15fcrow6_col0\" class=\"data row6 col0\" >0.0368</td>\n",
       "            </tr>\n",
       "            <tr>\n",
       "                        <th id=\"T_d0f2721f_0a1a_11ea_a6fb_107b449f15fclevel0_row7\" class=\"row_heading level0 row7\" >планет_солнечный_система</th>\n",
       "                        <td id=\"T_d0f2721f_0a1a_11ea_a6fb_107b449f15fcrow7_col0\" class=\"data row7 col0\" >0.03666</td>\n",
       "            </tr>\n",
       "            <tr>\n",
       "                        <th id=\"T_d0f2721f_0a1a_11ea_a6fb_107b449f15fclevel0_row8\" class=\"row_heading level0 row8\" >достаточно_большой_часть</th>\n",
       "                        <td id=\"T_d0f2721f_0a1a_11ea_a6fb_107b449f15fcrow8_col0\" class=\"data row8 col0\" >0.03664</td>\n",
       "            </tr>\n",
       "            <tr>\n",
       "                        <th id=\"T_d0f2721f_0a1a_11ea_a6fb_107b449f15fclevel0_row9\" class=\"row_heading level0 row9\" >ранний_стадия_развитие</th>\n",
       "                        <td id=\"T_d0f2721f_0a1a_11ea_a6fb_107b449f15fcrow9_col0\" class=\"data row9 col0\" >0.0309</td>\n",
       "            </tr>\n",
       "    </tbody></table><style  type=\"text/css\" >\n",
       "</style><table id=\"T_d0f27220_0a1a_11ea_a6fb_107b449f15fc\" style='display:inline'><thead>    <tr>        <th class=\"blank level0\" ></th>        <th class=\"col_heading level0 col0\" >topic_0 @post_tag</th>    </tr></thead><tbody>\n",
       "                <tr>\n",
       "                        <th id=\"T_d0f27220_0a1a_11ea_a6fb_107b449f15fclevel0_row0\" class=\"row_heading level0 row0\" >мозг</th>\n",
       "                        <td id=\"T_d0f27220_0a1a_11ea_a6fb_107b449f15fcrow0_col0\" class=\"data row0 col0\" >0.30078</td>\n",
       "            </tr>\n",
       "            <tr>\n",
       "                        <th id=\"T_d0f27220_0a1a_11ea_a6fb_107b449f15fclevel0_row1\" class=\"row_heading level0 row1\" >нейробиология</th>\n",
       "                        <td id=\"T_d0f27220_0a1a_11ea_a6fb_107b449f15fcrow1_col0\" class=\"data row1 col0\" >0.1464</td>\n",
       "            </tr>\n",
       "            <tr>\n",
       "                        <th id=\"T_d0f27220_0a1a_11ea_a6fb_107b449f15fclevel0_row2\" class=\"row_heading level0 row2\" >нейрон</th>\n",
       "                        <td id=\"T_d0f27220_0a1a_11ea_a6fb_107b449f15fcrow2_col0\" class=\"data row2 col0\" >0.10881</td>\n",
       "            </tr>\n",
       "            <tr>\n",
       "                        <th id=\"T_d0f27220_0a1a_11ea_a6fb_107b449f15fclevel0_row3\" class=\"row_heading level0 row3\" >нейрофизиология</th>\n",
       "                        <td id=\"T_d0f27220_0a1a_11ea_a6fb_107b449f15fcrow3_col0\" class=\"data row3 col0\" >0.09095</td>\n",
       "            </tr>\n",
       "            <tr>\n",
       "                        <th id=\"T_d0f27220_0a1a_11ea_a6fb_107b449f15fclevel0_row4\" class=\"row_heading level0 row4\" >память</th>\n",
       "                        <td id=\"T_d0f27220_0a1a_11ea_a6fb_107b449f15fcrow4_col0\" class=\"data row4 col0\" >0.05776</td>\n",
       "            </tr>\n",
       "            <tr>\n",
       "                        <th id=\"T_d0f27220_0a1a_11ea_a6fb_107b449f15fclevel0_row5\" class=\"row_heading level0 row5\" >биология</th>\n",
       "                        <td id=\"T_d0f27220_0a1a_11ea_a6fb_107b449f15fcrow5_col0\" class=\"data row5 col0\" >0.05706</td>\n",
       "            </tr>\n",
       "            <tr>\n",
       "                        <th id=\"T_d0f27220_0a1a_11ea_a6fb_107b449f15fclevel0_row6\" class=\"row_heading level0 row6\" >физиология</th>\n",
       "                        <td id=\"T_d0f27220_0a1a_11ea_a6fb_107b449f15fcrow6_col0\" class=\"data row6 col0\" >0.04818</td>\n",
       "            </tr>\n",
       "            <tr>\n",
       "                        <th id=\"T_d0f27220_0a1a_11ea_a6fb_107b449f15fclevel0_row7\" class=\"row_heading level0 row7\" >нейропсихология</th>\n",
       "                        <td id=\"T_d0f27220_0a1a_11ea_a6fb_107b449f15fcrow7_col0\" class=\"data row7 col0\" >0.02853</td>\n",
       "            </tr>\n",
       "            <tr>\n",
       "                        <th id=\"T_d0f27220_0a1a_11ea_a6fb_107b449f15fclevel0_row8\" class=\"row_heading level0 row8\" >нервная_система</th>\n",
       "                        <td id=\"T_d0f27220_0a1a_11ea_a6fb_107b449f15fcrow8_col0\" class=\"data row8 col0\" >0.02363</td>\n",
       "            </tr>\n",
       "            <tr>\n",
       "                        <th id=\"T_d0f27220_0a1a_11ea_a6fb_107b449f15fclevel0_row9\" class=\"row_heading level0 row9\" >синапс</th>\n",
       "                        <td id=\"T_d0f27220_0a1a_11ea_a6fb_107b449f15fcrow9_col0\" class=\"data row9 col0\" >0.02172</td>\n",
       "            </tr>\n",
       "    </tbody></table><style  type=\"text/css\" >\n",
       "</style><table id=\"T_d0f27221_0a1a_11ea_a6fb_107b449f15fc\" style='display:inline'><thead>    <tr>        <th class=\"blank level0\" ></th>        <th class=\"col_heading level0 col0\" >topic_0 @word</th>    </tr></thead><tbody>\n",
       "                <tr>\n",
       "                        <th id=\"T_d0f27221_0a1a_11ea_a6fb_107b449f15fclevel0_row0\" class=\"row_heading level0 row0\" >мозг</th>\n",
       "                        <td id=\"T_d0f27221_0a1a_11ea_a6fb_107b449f15fcrow0_col0\" class=\"data row0 col0\" >0.03873</td>\n",
       "            </tr>\n",
       "            <tr>\n",
       "                        <th id=\"T_d0f27221_0a1a_11ea_a6fb_107b449f15fclevel0_row1\" class=\"row_heading level0 row1\" >нейрон</th>\n",
       "                        <td id=\"T_d0f27221_0a1a_11ea_a6fb_107b449f15fcrow1_col0\" class=\"data row1 col0\" >0.01777</td>\n",
       "            </tr>\n",
       "            <tr>\n",
       "                        <th id=\"T_d0f27221_0a1a_11ea_a6fb_107b449f15fclevel0_row2\" class=\"row_heading level0 row2\" >память</th>\n",
       "                        <td id=\"T_d0f27221_0a1a_11ea_a6fb_107b449f15fcrow2_col0\" class=\"data row2 col0\" >0.00921</td>\n",
       "            </tr>\n",
       "            <tr>\n",
       "                        <th id=\"T_d0f27221_0a1a_11ea_a6fb_107b449f15fclevel0_row3\" class=\"row_heading level0 row3\" >мышца</th>\n",
       "                        <td id=\"T_d0f27221_0a1a_11ea_a6fb_107b449f15fcrow3_col0\" class=\"data row3 col0\" >0.00547</td>\n",
       "            </tr>\n",
       "            <tr>\n",
       "                        <th id=\"T_d0f27221_0a1a_11ea_a6fb_107b449f15fclevel0_row4\" class=\"row_heading level0 row4\" >сон</th>\n",
       "                        <td id=\"T_d0f27221_0a1a_11ea_a6fb_107b449f15fcrow4_col0\" class=\"data row4 col0\" >0.00448</td>\n",
       "            </tr>\n",
       "            <tr>\n",
       "                        <th id=\"T_d0f27221_0a1a_11ea_a6fb_107b449f15fclevel0_row5\" class=\"row_heading level0 row5\" >связь</th>\n",
       "                        <td id=\"T_d0f27221_0a1a_11ea_a6fb_107b449f15fcrow5_col0\" class=\"data row5 col0\" >0.00417</td>\n",
       "            </tr>\n",
       "            <tr>\n",
       "                        <th id=\"T_d0f27221_0a1a_11ea_a6fb_107b449f15fclevel0_row6\" class=\"row_heading level0 row6\" >синапс</th>\n",
       "                        <td id=\"T_d0f27221_0a1a_11ea_a6fb_107b449f15fcrow6_col0\" class=\"data row6 col0\" >0.0041</td>\n",
       "            </tr>\n",
       "            <tr>\n",
       "                        <th id=\"T_d0f27221_0a1a_11ea_a6fb_107b449f15fclevel0_row7\" class=\"row_heading level0 row7\" >активность</th>\n",
       "                        <td id=\"T_d0f27221_0a1a_11ea_a6fb_107b449f15fcrow7_col0\" class=\"data row7 col0\" >0.004</td>\n",
       "            </tr>\n",
       "            <tr>\n",
       "                        <th id=\"T_d0f27221_0a1a_11ea_a6fb_107b449f15fclevel0_row8\" class=\"row_heading level0 row8\" >животное</th>\n",
       "                        <td id=\"T_d0f27221_0a1a_11ea_a6fb_107b449f15fcrow8_col0\" class=\"data row8 col0\" >0.00357</td>\n",
       "            </tr>\n",
       "            <tr>\n",
       "                        <th id=\"T_d0f27221_0a1a_11ea_a6fb_107b449f15fclevel0_row9\" class=\"row_heading level0 row9\" >информация</th>\n",
       "                        <td id=\"T_d0f27221_0a1a_11ea_a6fb_107b449f15fcrow9_col0\" class=\"data row9 col0\" >0.00352</td>\n",
       "            </tr>\n",
       "    </tbody></table>"
      ]
     },
     "metadata": {},
     "output_type": "display_data"
    },
    {
     "data": {
      "text/html": [
       "<b> faqнейрогибридные системы </b><br /> 7 фактов об изучении нейронов в чашке петри"
      ]
     },
     "metadata": {},
     "output_type": "display_data"
    },
    {
     "data": {
      "text/html": [
       "<b> главы # собирание воспоминаний </b><br /> отрывок из книги «коннектом. как мозг делает нас тем, кто мы есть» профессора mit себастьяна сеунга"
      ]
     },
     "metadata": {},
     "output_type": "display_data"
    },
    {
     "data": {
      "text/html": [
       "<b> функции взрослых нейронов в мозге </b><br /> нейробиолог александр лазуткин о миграции нейронов, значении области гиппокампа и инфантильной амнезии"
      ]
     },
     "metadata": {},
     "output_type": "display_data"
    },
    {
     "data": {
      "text/html": [
       "<b> faqкомандные нейроны </b><br /> 5 фактов о различных функциях клеток в нервной системе"
      ]
     },
     "metadata": {},
     "output_type": "display_data"
    },
    {
     "data": {
      "text/html": [
       "<b> материальная основа памяти </b><br /> нейробиолог павел балабан о молекулах памяти, материальных следах воспоминаний и механизме процесса обучения"
      ]
     },
     "metadata": {},
     "output_type": "display_data"
    },
    {
     "data": {
      "text/html": [
       "<b> молекулярные механизмы памяти </b><br /> нейробиолог павел балабан о процессе обучения, «молекуле памяти» и высших функциях мозга"
      ]
     },
     "metadata": {},
     "output_type": "display_data"
    },
    {
     "data": {
      "text/html": [
       "<b> страхпричины, механизмы и рефлексы </b><br /> 5 фактов о физиологических основаниях и исследованиях страха"
      ]
     },
     "metadata": {},
     "output_type": "display_data"
    },
    {
     "data": {
      "text/html": [
       "<b> нейрокоммуникаторы, нейроконтроллеры, нейропротезы, экзоскелетоны </b><br /> психофизиолог александр каплан о возможностях мозга, нейроинтерфейсных технологиях и экспериментах с кибернетической рукой"
      ]
     },
     "metadata": {},
     "output_type": "display_data"
    },
    {
     "data": {
      "text/html": [
       "<b> клеточные следы сознания в мозге </b><br /> нейробиолог константин анохин об исследованиях субъективного опыта, эпизодической памяти у животных и активности клеток в момент запоминания"
      ]
     },
     "metadata": {},
     "output_type": "display_data"
    },
    {
     "data": {
      "text/html": [
       "<b> нейрогенетика памяти </b><br /> нейробиолог павел балабан о молекулах памяти, полногеномном анализе и нейродегенаративных заболеваниях"
      ]
     },
     "metadata": {},
     "output_type": "display_data"
    },
    {
     "data": {
      "text/html": [
       "<style  type=\"text/css\" >\n",
       "</style><table id=\"T_d0f27222_0a1a_11ea_a6fb_107b449f15fc\" style='display:inline'><thead>    <tr>        <th class=\"blank level0\" ></th>        <th class=\"col_heading level0 col0\" >topic_1 @2gramm</th>    </tr></thead><tbody>\n",
       "                <tr>\n",
       "                        <th id=\"T_d0f27222_0a1a_11ea_a6fb_107b449f15fclevel0_row0\" class=\"row_heading level0 row0\" >нобелевский_премия</th>\n",
       "                        <td id=\"T_d0f27222_0a1a_11ea_a6fb_107b449f15fcrow0_col0\" class=\"data row0 col0\" >0.0281</td>\n",
       "            </tr>\n",
       "            <tr>\n",
       "                        <th id=\"T_d0f27222_0a1a_11ea_a6fb_107b449f15fclevel0_row1\" class=\"row_heading level0 row1\" >органический_химия</th>\n",
       "                        <td id=\"T_d0f27222_0a1a_11ea_a6fb_107b449f15fcrow1_col0\" class=\"data row1 col0\" >0.01492</td>\n",
       "            </tr>\n",
       "            <tr>\n",
       "                        <th id=\"T_d0f27222_0a1a_11ea_a6fb_107b449f15fclevel0_row2\" class=\"row_heading level0 row2\" >высокий_температура</th>\n",
       "                        <td id=\"T_d0f27222_0a1a_11ea_a6fb_107b449f15fcrow2_col0\" class=\"data row2 col0\" >0.01474</td>\n",
       "            </tr>\n",
       "            <tr>\n",
       "                        <th id=\"T_d0f27222_0a1a_11ea_a6fb_107b449f15fclevel0_row3\" class=\"row_heading level0 row3\" >кристаллический_структура</th>\n",
       "                        <td id=\"T_d0f27222_0a1a_11ea_a6fb_107b449f15fcrow3_col0\" class=\"data row3 col0\" >0.0136</td>\n",
       "            </tr>\n",
       "            <tr>\n",
       "                        <th id=\"T_d0f27222_0a1a_11ea_a6fb_107b449f15fclevel0_row4\" class=\"row_heading level0 row4\" >высокий_давление</th>\n",
       "                        <td id=\"T_d0f27222_0a1a_11ea_a6fb_107b449f15fcrow4_col0\" class=\"data row4 col0\" >0.01154</td>\n",
       "            </tr>\n",
       "            <tr>\n",
       "                        <th id=\"T_d0f27222_0a1a_11ea_a6fb_107b449f15fclevel0_row5\" class=\"row_heading level0 row5\" >химический_связь</th>\n",
       "                        <td id=\"T_d0f27222_0a1a_11ea_a6fb_107b449f15fcrow5_col0\" class=\"data row5 col0\" >0.00862</td>\n",
       "            </tr>\n",
       "            <tr>\n",
       "                        <th id=\"T_d0f27222_0a1a_11ea_a6fb_107b449f15fclevel0_row6\" class=\"row_heading level0 row6\" >химический_реакция</th>\n",
       "                        <td id=\"T_d0f27222_0a1a_11ea_a6fb_107b449f15fcrow6_col0\" class=\"data row6 col0\" >0.00776</td>\n",
       "            </tr>\n",
       "            <tr>\n",
       "                        <th id=\"T_d0f27222_0a1a_11ea_a6fb_107b449f15fclevel0_row7\" class=\"row_heading level0 row7\" >атом_углерод</th>\n",
       "                        <td id=\"T_d0f27222_0a1a_11ea_a6fb_107b449f15fcrow7_col0\" class=\"data row7 col0\" >0.00756</td>\n",
       "            </tr>\n",
       "            <tr>\n",
       "                        <th id=\"T_d0f27222_0a1a_11ea_a6fb_107b449f15fclevel0_row8\" class=\"row_heading level0 row8\" >новое_материал</th>\n",
       "                        <td id=\"T_d0f27222_0a1a_11ea_a6fb_107b449f15fcrow8_col0\" class=\"data row8 col0\" >0.0074</td>\n",
       "            </tr>\n",
       "            <tr>\n",
       "                        <th id=\"T_d0f27222_0a1a_11ea_a6fb_107b449f15fclevel0_row9\" class=\"row_heading level0 row9\" >ядро_земля</th>\n",
       "                        <td id=\"T_d0f27222_0a1a_11ea_a6fb_107b449f15fcrow9_col0\" class=\"data row9 col0\" >0.007</td>\n",
       "            </tr>\n",
       "    </tbody></table><style  type=\"text/css\" >\n",
       "</style><table id=\"T_d0f27223_0a1a_11ea_a6fb_107b449f15fc\" style='display:inline'><thead>    <tr>        <th class=\"blank level0\" ></th>        <th class=\"col_heading level0 col0\" >topic_1 @3gramm</th>    </tr></thead><tbody>\n",
       "                <tr>\n",
       "                        <th id=\"T_d0f27223_0a1a_11ea_a6fb_107b449f15fclevel0_row0\" class=\"row_heading level0 row0\" >играть_важный_роль</th>\n",
       "                        <td id=\"T_d0f27223_0a1a_11ea_a6fb_107b449f15fcrow0_col0\" class=\"data row0 col0\" >0.19562</td>\n",
       "            </tr>\n",
       "            <tr>\n",
       "                        <th id=\"T_d0f27223_0a1a_11ea_a6fb_107b449f15fclevel0_row1\" class=\"row_heading level0 row1\" >магнитный_пол_земля</th>\n",
       "                        <td id=\"T_d0f27223_0a1a_11ea_a6fb_107b449f15fcrow1_col0\" class=\"data row1 col0\" >0.10085</td>\n",
       "            </tr>\n",
       "            <tr>\n",
       "                        <th id=\"T_d0f27223_0a1a_11ea_a6fb_107b449f15fclevel0_row2\" class=\"row_heading level0 row2\" >сильный_магнитный_поль</th>\n",
       "                        <td id=\"T_d0f27223_0a1a_11ea_a6fb_107b449f15fcrow2_col0\" class=\"data row2 col0\" >0.08488</td>\n",
       "            </tr>\n",
       "            <tr>\n",
       "                        <th id=\"T_d0f27223_0a1a_11ea_a6fb_107b449f15fclevel0_row3\" class=\"row_heading level0 row3\" >молодая_нейтронный_звезда</th>\n",
       "                        <td id=\"T_d0f27223_0a1a_11ea_a6fb_107b449f15fcrow3_col0\" class=\"data row3 col0\" >0.07959</td>\n",
       "            </tr>\n",
       "            <tr>\n",
       "                        <th id=\"T_d0f27223_0a1a_11ea_a6fb_107b449f15fclevel0_row4\" class=\"row_heading level0 row4\" >решение_нобелевский_комитет</th>\n",
       "                        <td id=\"T_d0f27223_0a1a_11ea_a6fb_107b449f15fcrow4_col0\" class=\"data row4 col0\" >0.06893</td>\n",
       "            </tr>\n",
       "            <tr>\n",
       "                        <th id=\"T_d0f27223_0a1a_11ea_a6fb_107b449f15fclevel0_row5\" class=\"row_heading level0 row5\" >сильный_магнитный_пол</th>\n",
       "                        <td id=\"T_d0f27223_0a1a_11ea_a6fb_107b449f15fcrow5_col0\" class=\"data row5 col0\" >0.05302</td>\n",
       "            </tr>\n",
       "            <tr>\n",
       "                        <th id=\"T_d0f27223_0a1a_11ea_a6fb_107b449f15fclevel0_row6\" class=\"row_heading level0 row6\" >предсказание_кристаллический_структура</th>\n",
       "                        <td id=\"T_d0f27223_0a1a_11ea_a6fb_107b449f15fcrow6_col0\" class=\"data row6 col0\" >0.04776</td>\n",
       "            </tr>\n",
       "            <tr>\n",
       "                        <th id=\"T_d0f27223_0a1a_11ea_a6fb_107b449f15fclevel0_row7\" class=\"row_heading level0 row7\" >гипотеза_лингвистический_относительность</th>\n",
       "                        <td id=\"T_d0f27223_0a1a_11ea_a6fb_107b449f15fcrow7_col0\" class=\"data row7 col0\" >0.04759</td>\n",
       "            </tr>\n",
       "            <tr>\n",
       "                        <th id=\"T_d0f27223_0a1a_11ea_a6fb_107b449f15fclevel0_row8\" class=\"row_heading level0 row8\" >физика_твёрдый_тело</th>\n",
       "                        <td id=\"T_d0f27223_0a1a_11ea_a6fb_107b449f15fcrow8_col0\" class=\"data row8 col0\" >0.04698</td>\n",
       "            </tr>\n",
       "            <tr>\n",
       "                        <th id=\"T_d0f27223_0a1a_11ea_a6fb_107b449f15fclevel0_row9\" class=\"row_heading level0 row9\" >магнитный_поль_земля</th>\n",
       "                        <td id=\"T_d0f27223_0a1a_11ea_a6fb_107b449f15fcrow9_col0\" class=\"data row9 col0\" >0.04242</td>\n",
       "            </tr>\n",
       "    </tbody></table><style  type=\"text/css\" >\n",
       "</style><table id=\"T_d0f27224_0a1a_11ea_a6fb_107b449f15fc\" style='display:inline'><thead>    <tr>        <th class=\"blank level0\" ></th>        <th class=\"col_heading level0 col0\" >topic_1 @post_tag</th>    </tr></thead><tbody>\n",
       "                <tr>\n",
       "                        <th id=\"T_d0f27224_0a1a_11ea_a6fb_107b449f15fclevel0_row0\" class=\"row_heading level0 row0\" >химия</th>\n",
       "                        <td id=\"T_d0f27224_0a1a_11ea_a6fb_107b449f15fcrow0_col0\" class=\"data row0 col0\" >0.25545</td>\n",
       "            </tr>\n",
       "            <tr>\n",
       "                        <th id=\"T_d0f27224_0a1a_11ea_a6fb_107b449f15fclevel0_row1\" class=\"row_heading level0 row1\" >материаловедение</th>\n",
       "                        <td id=\"T_d0f27224_0a1a_11ea_a6fb_107b449f15fcrow1_col0\" class=\"data row1 col0\" >0.09706</td>\n",
       "            </tr>\n",
       "            <tr>\n",
       "                        <th id=\"T_d0f27224_0a1a_11ea_a6fb_107b449f15fclevel0_row2\" class=\"row_heading level0 row2\" >нобелевская_премия</th>\n",
       "                        <td id=\"T_d0f27224_0a1a_11ea_a6fb_107b449f15fcrow2_col0\" class=\"data row2 col0\" >0.05455</td>\n",
       "            </tr>\n",
       "            <tr>\n",
       "                        <th id=\"T_d0f27224_0a1a_11ea_a6fb_107b449f15fclevel0_row3\" class=\"row_heading level0 row3\" >молекула</th>\n",
       "                        <td id=\"T_d0f27224_0a1a_11ea_a6fb_107b449f15fcrow3_col0\" class=\"data row3 col0\" >0.04528</td>\n",
       "            </tr>\n",
       "            <tr>\n",
       "                        <th id=\"T_d0f27224_0a1a_11ea_a6fb_107b449f15fclevel0_row4\" class=\"row_heading level0 row4\" >кристалл</th>\n",
       "                        <td id=\"T_d0f27224_0a1a_11ea_a6fb_107b449f15fcrow4_col0\" class=\"data row4 col0\" >0.04046</td>\n",
       "            </tr>\n",
       "            <tr>\n",
       "                        <th id=\"T_d0f27224_0a1a_11ea_a6fb_107b449f15fclevel0_row5\" class=\"row_heading level0 row5\" >органическая_химия</th>\n",
       "                        <td id=\"T_d0f27224_0a1a_11ea_a6fb_107b449f15fcrow5_col0\" class=\"data row5 col0\" >0.0344</td>\n",
       "            </tr>\n",
       "            <tr>\n",
       "                        <th id=\"T_d0f27224_0a1a_11ea_a6fb_107b449f15fclevel0_row6\" class=\"row_heading level0 row6\" >кристаллография</th>\n",
       "                        <td id=\"T_d0f27224_0a1a_11ea_a6fb_107b449f15fcrow6_col0\" class=\"data row6 col0\" >0.03039</td>\n",
       "            </tr>\n",
       "            <tr>\n",
       "                        <th id=\"T_d0f27224_0a1a_11ea_a6fb_107b449f15fclevel0_row7\" class=\"row_heading level0 row7\" >углерод</th>\n",
       "                        <td id=\"T_d0f27224_0a1a_11ea_a6fb_107b449f15fcrow7_col0\" class=\"data row7 col0\" >0.02629</td>\n",
       "            </tr>\n",
       "            <tr>\n",
       "                        <th id=\"T_d0f27224_0a1a_11ea_a6fb_107b449f15fclevel0_row8\" class=\"row_heading level0 row8\" >сверхпроводимость</th>\n",
       "                        <td id=\"T_d0f27224_0a1a_11ea_a6fb_107b449f15fcrow8_col0\" class=\"data row8 col0\" >0.02623</td>\n",
       "            </tr>\n",
       "            <tr>\n",
       "                        <th id=\"T_d0f27224_0a1a_11ea_a6fb_107b449f15fclevel0_row9\" class=\"row_heading level0 row9\" >биохимия</th>\n",
       "                        <td id=\"T_d0f27224_0a1a_11ea_a6fb_107b449f15fcrow9_col0\" class=\"data row9 col0\" >0.02541</td>\n",
       "            </tr>\n",
       "    </tbody></table><style  type=\"text/css\" >\n",
       "</style><table id=\"T_d0f27225_0a1a_11ea_a6fb_107b449f15fc\" style='display:inline'><thead>    <tr>        <th class=\"blank level0\" ></th>        <th class=\"col_heading level0 col0\" >topic_1 @word</th>    </tr></thead><tbody>\n",
       "                <tr>\n",
       "                        <th id=\"T_d0f27225_0a1a_11ea_a6fb_107b449f15fclevel0_row0\" class=\"row_heading level0 row0\" >химия</th>\n",
       "                        <td id=\"T_d0f27225_0a1a_11ea_a6fb_107b449f15fcrow0_col0\" class=\"data row0 col0\" >0.01144</td>\n",
       "            </tr>\n",
       "            <tr>\n",
       "                        <th id=\"T_d0f27225_0a1a_11ea_a6fb_107b449f15fclevel0_row1\" class=\"row_heading level0 row1\" >молекула</th>\n",
       "                        <td id=\"T_d0f27225_0a1a_11ea_a6fb_107b449f15fcrow1_col0\" class=\"data row1 col0\" >0.0099</td>\n",
       "            </tr>\n",
       "            <tr>\n",
       "                        <th id=\"T_d0f27225_0a1a_11ea_a6fb_107b449f15fclevel0_row2\" class=\"row_heading level0 row2\" >материал</th>\n",
       "                        <td id=\"T_d0f27225_0a1a_11ea_a6fb_107b449f15fcrow2_col0\" class=\"data row2 col0\" >0.00933</td>\n",
       "            </tr>\n",
       "            <tr>\n",
       "                        <th id=\"T_d0f27225_0a1a_11ea_a6fb_107b449f15fclevel0_row3\" class=\"row_heading level0 row3\" >структура</th>\n",
       "                        <td id=\"T_d0f27225_0a1a_11ea_a6fb_107b449f15fcrow3_col0\" class=\"data row3 col0\" >0.00916</td>\n",
       "            </tr>\n",
       "            <tr>\n",
       "                        <th id=\"T_d0f27225_0a1a_11ea_a6fb_107b449f15fclevel0_row4\" class=\"row_heading level0 row4\" >соединение</th>\n",
       "                        <td id=\"T_d0f27225_0a1a_11ea_a6fb_107b449f15fcrow4_col0\" class=\"data row4 col0\" >0.00873</td>\n",
       "            </tr>\n",
       "            <tr>\n",
       "                        <th id=\"T_d0f27225_0a1a_11ea_a6fb_107b449f15fclevel0_row5\" class=\"row_heading level0 row5\" >полимер</th>\n",
       "                        <td id=\"T_d0f27225_0a1a_11ea_a6fb_107b449f15fcrow5_col0\" class=\"data row5 col0\" >0.00609</td>\n",
       "            </tr>\n",
       "            <tr>\n",
       "                        <th id=\"T_d0f27225_0a1a_11ea_a6fb_107b449f15fclevel0_row6\" class=\"row_heading level0 row6\" >сверхпроводимость</th>\n",
       "                        <td id=\"T_d0f27225_0a1a_11ea_a6fb_107b449f15fcrow6_col0\" class=\"data row6 col0\" >0.00572</td>\n",
       "            </tr>\n",
       "            <tr>\n",
       "                        <th id=\"T_d0f27225_0a1a_11ea_a6fb_107b449f15fclevel0_row7\" class=\"row_heading level0 row7\" >получить</th>\n",
       "                        <td id=\"T_d0f27225_0a1a_11ea_a6fb_107b449f15fcrow7_col0\" class=\"data row7 col0\" >0.00522</td>\n",
       "            </tr>\n",
       "            <tr>\n",
       "                        <th id=\"T_d0f27225_0a1a_11ea_a6fb_107b449f15fclevel0_row8\" class=\"row_heading level0 row8\" >метод</th>\n",
       "                        <td id=\"T_d0f27225_0a1a_11ea_a6fb_107b449f15fcrow8_col0\" class=\"data row8 col0\" >0.00518</td>\n",
       "            </tr>\n",
       "            <tr>\n",
       "                        <th id=\"T_d0f27225_0a1a_11ea_a6fb_107b449f15fclevel0_row9\" class=\"row_heading level0 row9\" >вещество</th>\n",
       "                        <td id=\"T_d0f27225_0a1a_11ea_a6fb_107b449f15fcrow9_col0\" class=\"data row9 col0\" >0.00501</td>\n",
       "            </tr>\n",
       "    </tbody></table>"
      ]
     },
     "metadata": {},
     "output_type": "display_data"
    },
    {
     "data": {
      "text/html": [
       "<b> методы предсказания кристаллических структур </b><br /> химик артем оганов о задачах кристаллографии, методе uspex и структуре алмаза"
      ]
     },
     "metadata": {},
     "output_type": "display_data"
    },
    {
     "data": {
      "text/html": [
       "<b> новая химия под высоким давлением </b><br /> химик артем оганов об изменении химических связей элементов, эксперименте с давлением натрия и источнике нагрева ядра земли"
      ]
     },
     "metadata": {},
     "output_type": "display_data"
    },
    {
     "data": {
      "text/html": [
       "<b> гидродинамическая спиральность </b><br /> физик кит моффат о вихревой динамике, спиральном эффекте и магнитном поле земли"
      ]
     },
     "metadata": {},
     "output_type": "display_data"
    },
    {
     "data": {
      "text/html": [
       "<b> дизайн сверхтвердых материалов </b><br /> химик артем оганов о структуре алмаза, применении сверхтвердых материалов и новых формах углерода"
      ]
     },
     "metadata": {},
     "output_type": "display_data"
    },
    {
     "data": {
      "text/html": [
       "<b> «создать материал тверже алмаза принципиально невозможно» </b><br /> интервью с химиком артемом огановым о компьютерном дизайне новых материалов, искусственном интеллекте и самом твердом в мире материале"
      ]
     },
     "metadata": {},
     "output_type": "display_data"
    },
    {
     "data": {
      "text/html": [
       "<b> обнаружен полимерный раствор, затвердевающий при нагревании </b><br /> о взаимодействии различных фракций, образовании кристаллов и применении веществ с контролируемо изменяющимися свойствами"
      ]
     },
     "metadata": {},
     "output_type": "display_data"
    },
    {
     "data": {
      "text/html": [
       "<b> премии # нобелевская премия мира - 2013 </b><br /> спецпроект постнауки, посвященный нобелевской неделе и её результатам"
      ]
     },
     "metadata": {},
     "output_type": "display_data"
    },
    {
     "data": {
      "text/html": [
       "<b> запрещенные химические соединения </b><br /> химик артем оганов о составе вещества на поверхности, возникновении новой химии и химических реакциях в экстремальных условиях"
      ]
     },
     "metadata": {},
     "output_type": "display_data"
    },
    {
     "data": {
      "text/html": [
       "<b> реакция интеркалирования </b><br /> химик виктор авдеев о графитовой матрице, сверхсжатом состоянии металлов и интеркалировании природного вермикулита"
      ]
     },
     "metadata": {},
     "output_type": "display_data"
    },
    {
     "data": {
      "text/html": [
       "<b> обнаружено новое сверхпроводящее состояние </b><br /> о спинах электронов, магнитном поле и механизмах разрушения сверхпроводимости"
      ]
     },
     "metadata": {},
     "output_type": "display_data"
    },
    {
     "data": {
      "text/html": [
       "<style  type=\"text/css\" >\n",
       "</style><table id=\"T_d0f27226_0a1a_11ea_a6fb_107b449f15fc\" style='display:inline'><thead>    <tr>        <th class=\"blank level0\" ></th>        <th class=\"col_heading level0 col0\" >topic_2 @2gramm</th>    </tr></thead><tbody>\n",
       "                <tr>\n",
       "                        <th id=\"T_d0f27226_0a1a_11ea_a6fb_107b449f15fclevel0_row0\" class=\"row_heading level0 row0\" >греческий_миф</th>\n",
       "                        <td id=\"T_d0f27226_0a1a_11ea_a6fb_107b449f15fcrow0_col0\" class=\"data row0 col0\" >0.00918</td>\n",
       "            </tr>\n",
       "            <tr>\n",
       "                        <th id=\"T_d0f27226_0a1a_11ea_a6fb_107b449f15fclevel0_row1\" class=\"row_heading level0 row1\" >греческий_мифология</th>\n",
       "                        <td id=\"T_d0f27226_0a1a_11ea_a6fb_107b449f15fcrow1_col0\" class=\"data row1 col0\" >0.00812</td>\n",
       "            </tr>\n",
       "            <tr>\n",
       "                        <th id=\"T_d0f27226_0a1a_11ea_a6fb_107b449f15fclevel0_row2\" class=\"row_heading level0 row2\" >vi_век</th>\n",
       "                        <td id=\"T_d0f27226_0a1a_11ea_a6fb_107b449f15fcrow2_col0\" class=\"data row2 col0\" >0.0066</td>\n",
       "            </tr>\n",
       "            <tr>\n",
       "                        <th id=\"T_d0f27226_0a1a_11ea_a6fb_107b449f15fclevel0_row3\" class=\"row_heading level0 row3\" >письменный_источник</th>\n",
       "                        <td id=\"T_d0f27226_0a1a_11ea_a6fb_107b449f15fcrow3_col0\" class=\"data row3 col0\" >0.00654</td>\n",
       "            </tr>\n",
       "            <tr>\n",
       "                        <th id=\"T_d0f27226_0a1a_11ea_a6fb_107b449f15fclevel0_row4\" class=\"row_heading level0 row4\" >снорри_стурлусон</th>\n",
       "                        <td id=\"T_d0f27226_0a1a_11ea_a6fb_107b449f15fcrow4_col0\" class=\"data row4 col0\" >0.00612</td>\n",
       "            </tr>\n",
       "            <tr>\n",
       "                        <th id=\"T_d0f27226_0a1a_11ea_a6fb_107b449f15fclevel0_row5\" class=\"row_heading level0 row5\" >культурный_традиция</th>\n",
       "                        <td id=\"T_d0f27226_0a1a_11ea_a6fb_107b449f15fcrow5_col0\" class=\"data row5 col0\" >0.00561</td>\n",
       "            </tr>\n",
       "            <tr>\n",
       "                        <th id=\"T_d0f27226_0a1a_11ea_a6fb_107b449f15fclevel0_row6\" class=\"row_heading level0 row6\" >центральный_мексика</th>\n",
       "                        <td id=\"T_d0f27226_0a1a_11ea_a6fb_107b449f15fcrow6_col0\" class=\"data row6 col0\" >0.00556</td>\n",
       "            </tr>\n",
       "            <tr>\n",
       "                        <th id=\"T_d0f27226_0a1a_11ea_a6fb_107b449f15fclevel0_row7\" class=\"row_heading level0 row7\" >чёрный_мор</th>\n",
       "                        <td id=\"T_d0f27226_0a1a_11ea_a6fb_107b449f15fcrow7_col0\" class=\"data row7 col0\" >0.0053</td>\n",
       "            </tr>\n",
       "            <tr>\n",
       "                        <th id=\"T_d0f27226_0a1a_11ea_a6fb_107b449f15fclevel0_row8\" class=\"row_heading level0 row8\" >эпоха_викинг</th>\n",
       "                        <td id=\"T_d0f27226_0a1a_11ea_a6fb_107b449f15fcrow8_col0\" class=\"data row8 col0\" >0.00498</td>\n",
       "            </tr>\n",
       "            <tr>\n",
       "                        <th id=\"T_d0f27226_0a1a_11ea_a6fb_107b449f15fclevel0_row9\" class=\"row_heading level0 row9\" >viii_век</th>\n",
       "                        <td id=\"T_d0f27226_0a1a_11ea_a6fb_107b449f15fcrow9_col0\" class=\"data row9 col0\" >0.00495</td>\n",
       "            </tr>\n",
       "    </tbody></table><style  type=\"text/css\" >\n",
       "</style><table id=\"T_d0f27227_0a1a_11ea_a6fb_107b449f15fc\" style='display:inline'><thead>    <tr>        <th class=\"blank level0\" ></th>        <th class=\"col_heading level0 col0\" >topic_2 @3gramm</th>    </tr></thead><tbody>\n",
       "                <tr>\n",
       "                        <th id=\"T_d0f27227_0a1a_11ea_a6fb_107b449f15fclevel0_row0\" class=\"row_heading level0 row0\" >сменять_друг_друг</th>\n",
       "                        <td id=\"T_d0f27227_0a1a_11ea_a6fb_107b449f15fcrow0_col0\" class=\"data row0 col0\" >0.17068</td>\n",
       "            </tr>\n",
       "            <tr>\n",
       "                        <th id=\"T_d0f27227_0a1a_11ea_a6fb_107b449f15fclevel0_row1\" class=\"row_heading level0 row1\" >широкий_круг_читатель</th>\n",
       "                        <td id=\"T_d0f27227_0a1a_11ea_a6fb_107b449f15fcrow1_col0\" class=\"data row1 col0\" >0.16259</td>\n",
       "            </tr>\n",
       "            <tr>\n",
       "                        <th id=\"T_d0f27227_0a1a_11ea_a6fb_107b449f15fclevel0_row2\" class=\"row_heading level0 row2\" >начало_xvi_век</th>\n",
       "                        <td id=\"T_d0f27227_0a1a_11ea_a6fb_107b449f15fcrow2_col0\" class=\"data row2 col0\" >0.11374</td>\n",
       "            </tr>\n",
       "            <tr>\n",
       "                        <th id=\"T_d0f27227_0a1a_11ea_a6fb_107b449f15fclevel0_row3\" class=\"row_heading level0 row3\" >различие_свойство_материя</th>\n",
       "                        <td id=\"T_d0f27227_0a1a_11ea_a6fb_107b449f15fcrow3_col0\" class=\"data row3 col0\" >0.09761</td>\n",
       "            </tr>\n",
       "            <tr>\n",
       "                        <th id=\"T_d0f27227_0a1a_11ea_a6fb_107b449f15fclevel0_row4\" class=\"row_heading level0 row4\" >проблема_происхождение_жизнь</th>\n",
       "                        <td id=\"T_d0f27227_0a1a_11ea_a6fb_107b449f15fcrow4_col0\" class=\"data row4 col0\" >0.07303</td>\n",
       "            </tr>\n",
       "            <tr>\n",
       "                        <th id=\"T_d0f27227_0a1a_11ea_a6fb_107b449f15fclevel0_row5\" class=\"row_heading level0 row5\" >современный_политический_философия</th>\n",
       "                        <td id=\"T_d0f27227_0a1a_11ea_a6fb_107b449f15fcrow5_col0\" class=\"data row5 col0\" >0.06483</td>\n",
       "            </tr>\n",
       "            <tr>\n",
       "                        <th id=\"T_d0f27227_0a1a_11ea_a6fb_107b449f15fclevel0_row6\" class=\"row_heading level0 row6\" >начало_viii_век</th>\n",
       "                        <td id=\"T_d0f27227_0a1a_11ea_a6fb_107b449f15fcrow6_col0\" class=\"data row6 col0\" >0.05683</td>\n",
       "            </tr>\n",
       "            <tr>\n",
       "                        <th id=\"T_d0f27227_0a1a_11ea_a6fb_107b449f15fclevel0_row7\" class=\"row_heading level0 row7\" >половина_xvi_век</th>\n",
       "                        <td id=\"T_d0f27227_0a1a_11ea_a6fb_107b449f15fcrow7_col0\" class=\"data row7 col0\" >0.04878</td>\n",
       "            </tr>\n",
       "            <tr>\n",
       "                        <th id=\"T_d0f27227_0a1a_11ea_a6fb_107b449f15fclevel0_row8\" class=\"row_heading level0 row8\" >начать_xix_век</th>\n",
       "                        <td id=\"T_d0f27227_0a1a_11ea_a6fb_107b449f15fcrow8_col0\" class=\"data row8 col0\" >0.04054</td>\n",
       "            </tr>\n",
       "            <tr>\n",
       "                        <th id=\"T_d0f27227_0a1a_11ea_a6fb_107b449f15fclevel0_row9\" class=\"row_heading level0 row9\" >треть_xix_век</th>\n",
       "                        <td id=\"T_d0f27227_0a1a_11ea_a6fb_107b449f15fcrow9_col0\" class=\"data row9 col0\" >0.04032</td>\n",
       "            </tr>\n",
       "    </tbody></table><style  type=\"text/css\" >\n",
       "</style><table id=\"T_d0f27228_0a1a_11ea_a6fb_107b449f15fc\" style='display:inline'><thead>    <tr>        <th class=\"blank level0\" ></th>        <th class=\"col_heading level0 col0\" >topic_2 @post_tag</th>    </tr></thead><tbody>\n",
       "                <tr>\n",
       "                        <th id=\"T_d0f27228_0a1a_11ea_a6fb_107b449f15fclevel0_row0\" class=\"row_heading level0 row0\" >мифология</th>\n",
       "                        <td id=\"T_d0f27228_0a1a_11ea_a6fb_107b449f15fcrow0_col0\" class=\"data row0 col0\" >0.10043</td>\n",
       "            </tr>\n",
       "            <tr>\n",
       "                        <th id=\"T_d0f27228_0a1a_11ea_a6fb_107b449f15fclevel0_row1\" class=\"row_heading level0 row1\" >древняя_греция</th>\n",
       "                        <td id=\"T_d0f27228_0a1a_11ea_a6fb_107b449f15fcrow1_col0\" class=\"data row1 col0\" >0.07302</td>\n",
       "            </tr>\n",
       "            <tr>\n",
       "                        <th id=\"T_d0f27228_0a1a_11ea_a6fb_107b449f15fclevel0_row2\" class=\"row_heading level0 row2\" >античность</th>\n",
       "                        <td id=\"T_d0f27228_0a1a_11ea_a6fb_107b449f15fcrow2_col0\" class=\"data row2 col0\" >0.07284</td>\n",
       "            </tr>\n",
       "            <tr>\n",
       "                        <th id=\"T_d0f27228_0a1a_11ea_a6fb_107b449f15fclevel0_row3\" class=\"row_heading level0 row3\" >миф</th>\n",
       "                        <td id=\"T_d0f27228_0a1a_11ea_a6fb_107b449f15fcrow3_col0\" class=\"data row3 col0\" >0.07059</td>\n",
       "            </tr>\n",
       "            <tr>\n",
       "                        <th id=\"T_d0f27228_0a1a_11ea_a6fb_107b449f15fclevel0_row4\" class=\"row_heading level0 row4\" >археология</th>\n",
       "                        <td id=\"T_d0f27228_0a1a_11ea_a6fb_107b449f15fcrow4_col0\" class=\"data row4 col0\" >0.05684</td>\n",
       "            </tr>\n",
       "            <tr>\n",
       "                        <th id=\"T_d0f27228_0a1a_11ea_a6fb_107b449f15fclevel0_row5\" class=\"row_heading level0 row5\" >майя</th>\n",
       "                        <td id=\"T_d0f27228_0a1a_11ea_a6fb_107b449f15fcrow5_col0\" class=\"data row5 col0\" >0.04098</td>\n",
       "            </tr>\n",
       "            <tr>\n",
       "                        <th id=\"T_d0f27228_0a1a_11ea_a6fb_107b449f15fclevel0_row6\" class=\"row_heading level0 row6\" >культура</th>\n",
       "                        <td id=\"T_d0f27228_0a1a_11ea_a6fb_107b449f15fcrow6_col0\" class=\"data row6 col0\" >0.03872</td>\n",
       "            </tr>\n",
       "            <tr>\n",
       "                        <th id=\"T_d0f27228_0a1a_11ea_a6fb_107b449f15fclevel0_row7\" class=\"row_heading level0 row7\" >история</th>\n",
       "                        <td id=\"T_d0f27228_0a1a_11ea_a6fb_107b449f15fcrow7_col0\" class=\"data row7 col0\" >0.03726</td>\n",
       "            </tr>\n",
       "            <tr>\n",
       "                        <th id=\"T_d0f27228_0a1a_11ea_a6fb_107b449f15fclevel0_row8\" class=\"row_heading level0 row8\" >письменность</th>\n",
       "                        <td id=\"T_d0f27228_0a1a_11ea_a6fb_107b449f15fcrow8_col0\" class=\"data row8 col0\" >0.03623</td>\n",
       "            </tr>\n",
       "            <tr>\n",
       "                        <th id=\"T_d0f27228_0a1a_11ea_a6fb_107b449f15fclevel0_row9\" class=\"row_heading level0 row9\" >религия</th>\n",
       "                        <td id=\"T_d0f27228_0a1a_11ea_a6fb_107b449f15fcrow9_col0\" class=\"data row9 col0\" >0.03449</td>\n",
       "            </tr>\n",
       "    </tbody></table><style  type=\"text/css\" >\n",
       "</style><table id=\"T_d0f27229_0a1a_11ea_a6fb_107b449f15fc\" style='display:inline'><thead>    <tr>        <th class=\"blank level0\" ></th>        <th class=\"col_heading level0 col0\" >topic_2 @word</th>    </tr></thead><tbody>\n",
       "                <tr>\n",
       "                        <th id=\"T_d0f27229_0a1a_11ea_a6fb_107b449f15fclevel0_row0\" class=\"row_heading level0 row0\" >миф</th>\n",
       "                        <td id=\"T_d0f27229_0a1a_11ea_a6fb_107b449f15fcrow0_col0\" class=\"data row0 col0\" >0.00626</td>\n",
       "            </tr>\n",
       "            <tr>\n",
       "                        <th id=\"T_d0f27229_0a1a_11ea_a6fb_107b449f15fclevel0_row1\" class=\"row_heading level0 row1\" >бог</th>\n",
       "                        <td id=\"T_d0f27229_0a1a_11ea_a6fb_107b449f15fcrow1_col0\" class=\"data row1 col0\" >0.00603</td>\n",
       "            </tr>\n",
       "            <tr>\n",
       "                        <th id=\"T_d0f27229_0a1a_11ea_a6fb_107b449f15fclevel0_row2\" class=\"row_heading level0 row2\" >остров</th>\n",
       "                        <td id=\"T_d0f27229_0a1a_11ea_a6fb_107b449f15fcrow2_col0\" class=\"data row2 col0\" >0.00504</td>\n",
       "            </tr>\n",
       "            <tr>\n",
       "                        <th id=\"T_d0f27229_0a1a_11ea_a6fb_107b449f15fclevel0_row3\" class=\"row_heading level0 row3\" >знать</th>\n",
       "                        <td id=\"T_d0f27229_0a1a_11ea_a6fb_107b449f15fcrow3_col0\" class=\"data row3 col0\" >0.00449</td>\n",
       "            </tr>\n",
       "            <tr>\n",
       "                        <th id=\"T_d0f27229_0a1a_11ea_a6fb_107b449f15fclevel0_row4\" class=\"row_heading level0 row4\" >книга</th>\n",
       "                        <td id=\"T_d0f27229_0a1a_11ea_a6fb_107b449f15fcrow4_col0\" class=\"data row4 col0\" >0.00407</td>\n",
       "            </tr>\n",
       "            <tr>\n",
       "                        <th id=\"T_d0f27229_0a1a_11ea_a6fb_107b449f15fclevel0_row5\" class=\"row_heading level0 row5\" >царь</th>\n",
       "                        <td id=\"T_d0f27229_0a1a_11ea_a6fb_107b449f15fcrow5_col0\" class=\"data row5 col0\" >0.004</td>\n",
       "            </tr>\n",
       "            <tr>\n",
       "                        <th id=\"T_d0f27229_0a1a_11ea_a6fb_107b449f15fclevel0_row6\" class=\"row_heading level0 row6\" >жить</th>\n",
       "                        <td id=\"T_d0f27229_0a1a_11ea_a6fb_107b449f15fcrow6_col0\" class=\"data row6 col0\" >0.00337</td>\n",
       "            </tr>\n",
       "            <tr>\n",
       "                        <th id=\"T_d0f27229_0a1a_11ea_a6fb_107b449f15fclevel0_row7\" class=\"row_heading level0 row7\" >сага</th>\n",
       "                        <td id=\"T_d0f27229_0a1a_11ea_a6fb_107b449f15fcrow7_col0\" class=\"data row7 col0\" >0.00311</td>\n",
       "            </tr>\n",
       "            <tr>\n",
       "                        <th id=\"T_d0f27229_0a1a_11ea_a6fb_107b449f15fclevel0_row8\" class=\"row_heading level0 row8\" >культура</th>\n",
       "                        <td id=\"T_d0f27229_0a1a_11ea_a6fb_107b449f15fcrow8_col0\" class=\"data row8 col0\" >0.00309</td>\n",
       "            </tr>\n",
       "            <tr>\n",
       "                        <th id=\"T_d0f27229_0a1a_11ea_a6fb_107b449f15fclevel0_row9\" class=\"row_heading level0 row9\" >надпись</th>\n",
       "                        <td id=\"T_d0f27229_0a1a_11ea_a6fb_107b449f15fcrow9_col0\" class=\"data row9 col0\" >0.00295</td>\n",
       "            </tr>\n",
       "    </tbody></table>"
      ]
     },
     "metadata": {},
     "output_type": "display_data"
    },
    {
     "data": {
      "text/html": [
       "<b> ацтекская империя </b><br /> историк дмитрий беляев о тройственном союзе ацтеков, формировании империи в теночтитлане и военно-религиозной идеологии"
      ]
     },
     "metadata": {},
     "output_type": "display_data"
    },
    {
     "data": {
      "text/html": [
       "<b> 5 книг по истории доколумбовой америки </b><br /> что читать об индейских культурах нового cвета, рекомендует кандидат исторических наук дмитрий беляев"
      ]
     },
     "metadata": {},
     "output_type": "display_data"
    },
    {
     "data": {
      "text/html": [
       "<b> государства сапотеков и миштеков </b><br /> историк дмитрий беляев о культе предков, стенах черепов и археологических исследованиях в долине оахаки"
      ]
     },
     "metadata": {},
     "output_type": "display_data"
    },
    {
     "data": {
      "text/html": [
       "<b> первая империя мезоамерики </b><br /> историк дмитрий беляев об организации пространства теотиуакана, городском быте и особенностях культурной экспансии"
      ]
     },
     "metadata": {},
     "output_type": "display_data"
    },
    {
     "data": {
      "text/html": [
       "<b> автограф # «мода и люди. новая теория моды и модного поведения» </b><br /> беседа с  социологом моды александром гофманом о его книге, посвященной этому сложному феномену"
      ]
     },
     "metadata": {},
     "output_type": "display_data"
    },
    {
     "data": {
      "text/html": [
       "<b> faqпарадокс конкисты </b><br /> 7 фактов о главных задачах и особенностях испанского завоевания америки"
      ]
     },
     "metadata": {},
     "output_type": "display_data"
    },
    {
     "data": {
      "text/html": [
       "<b> миф и архитектура </b><br /> филолог гасан гусейнов о мифологическом измерении архитектуры, ахиллесовой пяте и изоморфизме строений и человеческого тела"
      ]
     },
     "metadata": {},
     "output_type": "display_data"
    },
    {
     "data": {
      "text/html": [
       "<b> государства майя постклассического периода </b><br /> историк дмитрий беляев о коллапсе классической культуры майя, идеологической реформе в чичен-ице и теории тольтекского завоевания юкатана"
      ]
     },
     "metadata": {},
     "output_type": "display_data"
    },
    {
     "data": {
      "text/html": [
       "<b> история древней мезоамерики </b><br /> 10 лекций историка дмитрия беляева о становлении мезоамериканской цивилизации, ее культуре и политической жизни"
      ]
     },
     "metadata": {},
     "output_type": "display_data"
    },
    {
     "data": {
      "text/html": [
       "<b> faqэрос в античной культуре </b><br /> 7 фактов об одном из самых загадочных персонажей греческой мифологии"
      ]
     },
     "metadata": {},
     "output_type": "display_data"
    },
    {
     "data": {
      "text/html": [
       "<style  type=\"text/css\" >\n",
       "</style><table id=\"T_d0f2722a_0a1a_11ea_a6fb_107b449f15fc\" style='display:inline'><thead>    <tr>        <th class=\"blank level0\" ></th>        <th class=\"col_heading level0 col0\" >topic_3 @2gramm</th>    </tr></thead><tbody>\n",
       "                <tr>\n",
       "                        <th id=\"T_d0f2722a_0a1a_11ea_a6fb_107b449f15fclevel0_row0\" class=\"row_heading level0 row0\" >римский_право</th>\n",
       "                        <td id=\"T_d0f2722a_0a1a_11ea_a6fb_107b449f15fcrow0_col0\" class=\"data row0 col0\" >0.02953</td>\n",
       "            </tr>\n",
       "            <tr>\n",
       "                        <th id=\"T_d0f2722a_0a1a_11ea_a6fb_107b449f15fclevel0_row1\" class=\"row_heading level0 row1\" >французский_революция</th>\n",
       "                        <td id=\"T_d0f2722a_0a1a_11ea_a6fb_107b449f15fcrow1_col0\" class=\"data row1 col0\" >0.02211</td>\n",
       "            </tr>\n",
       "            <tr>\n",
       "                        <th id=\"T_d0f2722a_0a1a_11ea_a6fb_107b449f15fclevel0_row2\" class=\"row_heading level0 row2\" >право_собственность</th>\n",
       "                        <td id=\"T_d0f2722a_0a1a_11ea_a6fb_107b449f15fcrow2_col0\" class=\"data row2 col0\" >0.016</td>\n",
       "            </tr>\n",
       "            <tr>\n",
       "                        <th id=\"T_d0f2722a_0a1a_11ea_a6fb_107b449f15fclevel0_row3\" class=\"row_heading level0 row3\" >веймарский_республика</th>\n",
       "                        <td id=\"T_d0f2722a_0a1a_11ea_a6fb_107b449f15fcrow3_col0\" class=\"data row3 col0\" >0.01174</td>\n",
       "            </tr>\n",
       "            <tr>\n",
       "                        <th id=\"T_d0f2722a_0a1a_11ea_a6fb_107b449f15fclevel0_row4\" class=\"row_heading level0 row4\" >правовой_система</th>\n",
       "                        <td id=\"T_d0f2722a_0a1a_11ea_a6fb_107b449f15fcrow4_col0\" class=\"data row4 col0\" >0.00888</td>\n",
       "            </tr>\n",
       "            <tr>\n",
       "                        <th id=\"T_d0f2722a_0a1a_11ea_a6fb_107b449f15fclevel0_row5\" class=\"row_heading level0 row5\" >римский_юрист</th>\n",
       "                        <td id=\"T_d0f2722a_0a1a_11ea_a6fb_107b449f15fcrow5_col0\" class=\"data row5 col0\" >0.00731</td>\n",
       "            </tr>\n",
       "            <tr>\n",
       "                        <th id=\"T_d0f2722a_0a1a_11ea_a6fb_107b449f15fclevel0_row6\" class=\"row_heading level0 row6\" >третье_сословие</th>\n",
       "                        <td id=\"T_d0f2722a_0a1a_11ea_a6fb_107b449f15fcrow6_col0\" class=\"data row6 col0\" >0.00686</td>\n",
       "            </tr>\n",
       "            <tr>\n",
       "                        <th id=\"T_d0f2722a_0a1a_11ea_a6fb_107b449f15fclevel0_row7\" class=\"row_heading level0 row7\" >вещный_право</th>\n",
       "                        <td id=\"T_d0f2722a_0a1a_11ea_a6fb_107b449f15fcrow7_col0\" class=\"data row7 col0\" >0.00618</td>\n",
       "            </tr>\n",
       "            <tr>\n",
       "                        <th id=\"T_d0f2722a_0a1a_11ea_a6fb_107b449f15fclevel0_row8\" class=\"row_heading level0 row8\" >древний_рим</th>\n",
       "                        <td id=\"T_d0f2722a_0a1a_11ea_a6fb_107b449f15fcrow8_col0\" class=\"data row8 col0\" >0.00541</td>\n",
       "            </tr>\n",
       "            <tr>\n",
       "                        <th id=\"T_d0f2722a_0a1a_11ea_a6fb_107b449f15fclevel0_row9\" class=\"row_heading level0 row9\" >гражданский_право</th>\n",
       "                        <td id=\"T_d0f2722a_0a1a_11ea_a6fb_107b449f15fcrow9_col0\" class=\"data row9 col0\" >0.00529</td>\n",
       "            </tr>\n",
       "    </tbody></table><style  type=\"text/css\" >\n",
       "</style><table id=\"T_d0f2722b_0a1a_11ea_a6fb_107b449f15fc\" style='display:inline'><thead>    <tr>        <th class=\"blank level0\" ></th>        <th class=\"col_heading level0 col0\" >topic_3 @3gramm</th>    </tr></thead><tbody>\n",
       "                <tr>\n",
       "                        <th id=\"T_d0f2722b_0a1a_11ea_a6fb_107b449f15fclevel0_row0\" class=\"row_heading level0 row0\" >федеративный_республика_германия</th>\n",
       "                        <td id=\"T_d0f2722b_0a1a_11ea_a6fb_107b449f15fcrow0_col0\" class=\"data row0 col0\" >0.10836</td>\n",
       "            </tr>\n",
       "            <tr>\n",
       "                        <th id=\"T_d0f2722b_0a1a_11ea_a6fb_107b449f15fclevel0_row1\" class=\"row_heading level0 row1\" >половина_xviii_век</th>\n",
       "                        <td id=\"T_d0f2722b_0a1a_11ea_a6fb_107b449f15fcrow1_col0\" class=\"data row1 col0\" >0.10043</td>\n",
       "            </tr>\n",
       "            <tr>\n",
       "                        <th id=\"T_d0f2722b_0a1a_11ea_a6fb_107b449f15fclevel0_row2\" class=\"row_heading level0 row2\" >твёрдый_бытовой_отход</th>\n",
       "                        <td id=\"T_d0f2722b_0a1a_11ea_a6fb_107b449f15fcrow2_col0\" class=\"data row2 col0\" >0.09274</td>\n",
       "            </tr>\n",
       "            <tr>\n",
       "                        <th id=\"T_d0f2722b_0a1a_11ea_a6fb_107b449f15fclevel0_row3\" class=\"row_heading level0 row3\" >русский_православный_церковь</th>\n",
       "                        <td id=\"T_d0f2722b_0a1a_11ea_a6fb_107b449f15fcrow3_col0\" class=\"data row3 col0\" >0.08505</td>\n",
       "            </tr>\n",
       "            <tr>\n",
       "                        <th id=\"T_d0f2722b_0a1a_11ea_a6fb_107b449f15fclevel0_row4\" class=\"row_heading level0 row4\" >версальский_мирный_договор</th>\n",
       "                        <td id=\"T_d0f2722b_0a1a_11ea_a6fb_107b449f15fcrow4_col0\" class=\"data row4 col0\" >0.06962</td>\n",
       "            </tr>\n",
       "            <tr>\n",
       "                        <th id=\"T_d0f2722b_0a1a_11ea_a6fb_107b449f15fclevel0_row5\" class=\"row_heading level0 row5\" >актуальный_проблема_образование</th>\n",
       "                        <td id=\"T_d0f2722b_0a1a_11ea_a6fb_107b449f15fcrow5_col0\" class=\"data row5 col0\" >0.06953</td>\n",
       "            </tr>\n",
       "            <tr>\n",
       "                        <th id=\"T_d0f2722b_0a1a_11ea_a6fb_107b449f15fclevel0_row6\" class=\"row_heading level0 row6\" >экономически_развитый_страна</th>\n",
       "                        <td id=\"T_d0f2722b_0a1a_11ea_a6fb_107b449f15fcrow6_col0\" class=\"data row6 col0\" >0.05395</td>\n",
       "            </tr>\n",
       "            <tr>\n",
       "                        <th id=\"T_d0f2722b_0a1a_11ea_a6fb_107b449f15fclevel0_row7\" class=\"row_heading level0 row7\" >европейский_часть_россия</th>\n",
       "                        <td id=\"T_d0f2722b_0a1a_11ea_a6fb_107b449f15fcrow7_col0\" class=\"data row7 col0\" >0.05393</td>\n",
       "            </tr>\n",
       "            <tr>\n",
       "                        <th id=\"T_d0f2722b_0a1a_11ea_a6fb_107b449f15fclevel0_row8\" class=\"row_heading level0 row8\" >поскольку_речь_идти</th>\n",
       "                        <td id=\"T_d0f2722b_0a1a_11ea_a6fb_107b449f15fcrow8_col0\" class=\"data row8 col0\" >0.05385</td>\n",
       "            </tr>\n",
       "            <tr>\n",
       "                        <th id=\"T_d0f2722b_0a1a_11ea_a6fb_107b449f15fclevel0_row9\" class=\"row_heading level0 row9\" >священный_римский_империя</th>\n",
       "                        <td id=\"T_d0f2722b_0a1a_11ea_a6fb_107b449f15fcrow9_col0\" class=\"data row9 col0\" >0.04672</td>\n",
       "            </tr>\n",
       "    </tbody></table><style  type=\"text/css\" >\n",
       "</style><table id=\"T_d0f2722c_0a1a_11ea_a6fb_107b449f15fc\" style='display:inline'><thead>    <tr>        <th class=\"blank level0\" ></th>        <th class=\"col_heading level0 col0\" >topic_3 @post_tag</th>    </tr></thead><tbody>\n",
       "                <tr>\n",
       "                        <th id=\"T_d0f2722c_0a1a_11ea_a6fb_107b449f15fclevel0_row0\" class=\"row_heading level0 row0\" >право</th>\n",
       "                        <td id=\"T_d0f2722c_0a1a_11ea_a6fb_107b449f15fcrow0_col0\" class=\"data row0 col0\" >0.12793</td>\n",
       "            </tr>\n",
       "            <tr>\n",
       "                        <th id=\"T_d0f2722c_0a1a_11ea_a6fb_107b449f15fclevel0_row1\" class=\"row_heading level0 row1\" >германия</th>\n",
       "                        <td id=\"T_d0f2722c_0a1a_11ea_a6fb_107b449f15fcrow1_col0\" class=\"data row1 col0\" >0.10183</td>\n",
       "            </tr>\n",
       "            <tr>\n",
       "                        <th id=\"T_d0f2722c_0a1a_11ea_a6fb_107b449f15fclevel0_row2\" class=\"row_heading level0 row2\" >юриспруденция</th>\n",
       "                        <td id=\"T_d0f2722c_0a1a_11ea_a6fb_107b449f15fcrow2_col0\" class=\"data row2 col0\" >0.0791</td>\n",
       "            </tr>\n",
       "            <tr>\n",
       "                        <th id=\"T_d0f2722c_0a1a_11ea_a6fb_107b449f15fclevel0_row3\" class=\"row_heading level0 row3\" >римское_право</th>\n",
       "                        <td id=\"T_d0f2722c_0a1a_11ea_a6fb_107b449f15fcrow3_col0\" class=\"data row3 col0\" >0.0687</td>\n",
       "            </tr>\n",
       "            <tr>\n",
       "                        <th id=\"T_d0f2722c_0a1a_11ea_a6fb_107b449f15fclevel0_row4\" class=\"row_heading level0 row4\" >франция</th>\n",
       "                        <td id=\"T_d0f2722c_0a1a_11ea_a6fb_107b449f15fcrow4_col0\" class=\"data row4 col0\" >0.06102</td>\n",
       "            </tr>\n",
       "            <tr>\n",
       "                        <th id=\"T_d0f2722c_0a1a_11ea_a6fb_107b449f15fclevel0_row5\" class=\"row_heading level0 row5\" >рим</th>\n",
       "                        <td id=\"T_d0f2722c_0a1a_11ea_a6fb_107b449f15fcrow5_col0\" class=\"data row5 col0\" >0.05737</td>\n",
       "            </tr>\n",
       "            <tr>\n",
       "                        <th id=\"T_d0f2722c_0a1a_11ea_a6fb_107b449f15fclevel0_row6\" class=\"row_heading level0 row6\" >демократия</th>\n",
       "                        <td id=\"T_d0f2722c_0a1a_11ea_a6fb_107b449f15fcrow6_col0\" class=\"data row6 col0\" >0.03958</td>\n",
       "            </tr>\n",
       "            <tr>\n",
       "                        <th id=\"T_d0f2722c_0a1a_11ea_a6fb_107b449f15fclevel0_row7\" class=\"row_heading level0 row7\" >французская_революция_xviii_века</th>\n",
       "                        <td id=\"T_d0f2722c_0a1a_11ea_a6fb_107b449f15fcrow7_col0\" class=\"data row7 col0\" >0.02868</td>\n",
       "            </tr>\n",
       "            <tr>\n",
       "                        <th id=\"T_d0f2722c_0a1a_11ea_a6fb_107b449f15fclevel0_row8\" class=\"row_heading level0 row8\" >национал-социализм</th>\n",
       "                        <td id=\"T_d0f2722c_0a1a_11ea_a6fb_107b449f15fcrow8_col0\" class=\"data row8 col0\" >0.02652</td>\n",
       "            </tr>\n",
       "            <tr>\n",
       "                        <th id=\"T_d0f2722c_0a1a_11ea_a6fb_107b449f15fclevel0_row9\" class=\"row_heading level0 row9\" >история</th>\n",
       "                        <td id=\"T_d0f2722c_0a1a_11ea_a6fb_107b449f15fcrow9_col0\" class=\"data row9 col0\" >0.02596</td>\n",
       "            </tr>\n",
       "    </tbody></table><style  type=\"text/css\" >\n",
       "</style><table id=\"T_d0f2722d_0a1a_11ea_a6fb_107b449f15fc\" style='display:inline'><thead>    <tr>        <th class=\"blank level0\" ></th>        <th class=\"col_heading level0 col0\" >topic_3 @word</th>    </tr></thead><tbody>\n",
       "                <tr>\n",
       "                        <th id=\"T_d0f2722d_0a1a_11ea_a6fb_107b449f15fclevel0_row0\" class=\"row_heading level0 row0\" >музей</th>\n",
       "                        <td id=\"T_d0f2722d_0a1a_11ea_a6fb_107b449f15fcrow0_col0\" class=\"data row0 col0\" >0.00807</td>\n",
       "            </tr>\n",
       "            <tr>\n",
       "                        <th id=\"T_d0f2722d_0a1a_11ea_a6fb_107b449f15fclevel0_row1\" class=\"row_heading level0 row1\" >германия</th>\n",
       "                        <td id=\"T_d0f2722d_0a1a_11ea_a6fb_107b449f15fcrow1_col0\" class=\"data row1 col0\" >0.00734</td>\n",
       "            </tr>\n",
       "            <tr>\n",
       "                        <th id=\"T_d0f2722d_0a1a_11ea_a6fb_107b449f15fclevel0_row2\" class=\"row_heading level0 row2\" >право</th>\n",
       "                        <td id=\"T_d0f2722d_0a1a_11ea_a6fb_107b449f15fcrow2_col0\" class=\"data row2 col0\" >0.00724</td>\n",
       "            </tr>\n",
       "            <tr>\n",
       "                        <th id=\"T_d0f2722d_0a1a_11ea_a6fb_107b449f15fclevel0_row3\" class=\"row_heading level0 row3\" >революция</th>\n",
       "                        <td id=\"T_d0f2722d_0a1a_11ea_a6fb_107b449f15fcrow3_col0\" class=\"data row3 col0\" >0.00579</td>\n",
       "            </tr>\n",
       "            <tr>\n",
       "                        <th id=\"T_d0f2722d_0a1a_11ea_a6fb_107b449f15fclevel0_row4\" class=\"row_heading level0 row4\" >франция</th>\n",
       "                        <td id=\"T_d0f2722d_0a1a_11ea_a6fb_107b449f15fcrow4_col0\" class=\"data row4 col0\" >0.00493</td>\n",
       "            </tr>\n",
       "            <tr>\n",
       "                        <th id=\"T_d0f2722d_0a1a_11ea_a6fb_107b449f15fclevel0_row5\" class=\"row_heading level0 row5\" >война</th>\n",
       "                        <td id=\"T_d0f2722d_0a1a_11ea_a6fb_107b449f15fcrow5_col0\" class=\"data row5 col0\" >0.00384</td>\n",
       "            </tr>\n",
       "            <tr>\n",
       "                        <th id=\"T_d0f2722d_0a1a_11ea_a6fb_107b449f15fclevel0_row6\" class=\"row_heading level0 row6\" >демократия</th>\n",
       "                        <td id=\"T_d0f2722d_0a1a_11ea_a6fb_107b449f15fcrow6_col0\" class=\"data row6 col0\" >0.00342</td>\n",
       "            </tr>\n",
       "            <tr>\n",
       "                        <th id=\"T_d0f2722d_0a1a_11ea_a6fb_107b449f15fclevel0_row7\" class=\"row_heading level0 row7\" >немецкий</th>\n",
       "                        <td id=\"T_d0f2722d_0a1a_11ea_a6fb_107b449f15fcrow7_col0\" class=\"data row7 col0\" >0.00329</td>\n",
       "            </tr>\n",
       "            <tr>\n",
       "                        <th id=\"T_d0f2722d_0a1a_11ea_a6fb_107b449f15fclevel0_row8\" class=\"row_heading level0 row8\" >стать</th>\n",
       "                        <td id=\"T_d0f2722d_0a1a_11ea_a6fb_107b449f15fcrow8_col0\" class=\"data row8 col0\" >0.0032</td>\n",
       "            </tr>\n",
       "            <tr>\n",
       "                        <th id=\"T_d0f2722d_0a1a_11ea_a6fb_107b449f15fclevel0_row9\" class=\"row_heading level0 row9\" >государство</th>\n",
       "                        <td id=\"T_d0f2722d_0a1a_11ea_a6fb_107b449f15fcrow9_col0\" class=\"data row9 col0\" >0.00314</td>\n",
       "            </tr>\n",
       "    </tbody></table>"
      ]
     },
     "metadata": {},
     "output_type": "display_data"
    },
    {
     "data": {
      "text/html": [
       "<b> левый терроризм в германии </b><br /> историк илья женин о студенческих протестах 1968 года, «фракции красной армии» и трагических событиях «немецкой осени»"
      ]
     },
     "metadata": {},
     "output_type": "display_data"
    },
    {
     "data": {
      "text/html": [
       "<b> начало французской революции </b><br /> историк дмитрий бовыкин о движении санкюлотов, конституции 1791 года и псевдонаучных открытиях жан-поля марата"
      ]
     },
     "metadata": {},
     "output_type": "display_data"
    },
    {
     "data": {
      "text/html": [
       "<b> 5 книг по истории германии в хх веке </b><br /> что читать об историческом развитии германии от веймарской республики до современности, рекомендует кандидат исторических наук илья женин"
      ]
     },
     "metadata": {},
     "output_type": "display_data"
    },
    {
     "data": {
      "text/html": [
       "<b> веймарская  республика </b><br /> историк илья женин о республике без республиканцев, октябрьской революции и социал-демократической партии"
      ]
     },
     "metadata": {},
     "output_type": "display_data"
    },
    {
     "data": {
      "text/html": [
       "<b> неисполнение и ответственность </b><br /> юрист дмитрий дождев об обязательствах должника, невозможности исполнения и положительном нарушении договора"
      ]
     },
     "metadata": {},
     "output_type": "display_data"
    },
    {
     "data": {
      "text/html": [
       "<b> папство и россияистория дипломатических отношений </b><br /> как развивались отношения москвы и святого престола и с какими проблемами им приходилось сталкиваться?"
      ]
     },
     "metadata": {},
     "output_type": "display_data"
    },
    {
     "data": {
      "text/html": [
       "<b> римское право </b><br /> 12 лекций о правовой системе древнего рима, отобранных историком права александром мареем"
      ]
     },
     "metadata": {},
     "output_type": "display_data"
    },
    {
     "data": {
      "text/html": [
       "<b> правовые последствия смешения вещей </b><br /> юрист денис новак о смешении однородных вещей, праве собственности на такое имущество и кондикционном иске"
      ]
     },
     "metadata": {},
     "output_type": "display_data"
    },
    {
     "data": {
      "text/html": [
       "<b> канцлерская демократия </b><br /> историк илья женин о политике конрада аденауэра, образовании фрг и процессе евроинтеграции"
      ]
     },
     "metadata": {},
     "output_type": "display_data"
    },
    {
     "data": {
      "text/html": [
       "<b> кондикция владения </b><br /> юрист денис новак о защите при неправомерном лишении владения, виндикационном и кондикционном исках и ценности владения имуществом"
      ]
     },
     "metadata": {},
     "output_type": "display_data"
    },
    {
     "data": {
      "text/html": [
       "<style  type=\"text/css\" >\n",
       "</style><table id=\"T_d0f2722e_0a1a_11ea_a6fb_107b449f15fc\" style='display:inline'><thead>    <tr>        <th class=\"blank level0\" ></th>        <th class=\"col_heading level0 col0\" >topic_4 @2gramm</th>    </tr></thead><tbody>\n",
       "                <tr>\n",
       "                        <th id=\"T_d0f2722e_0a1a_11ea_a6fb_107b449f15fclevel0_row0\" class=\"row_heading level0 row0\" >индоевропейский_язык</th>\n",
       "                        <td id=\"T_d0f2722e_0a1a_11ea_a6fb_107b449f15fcrow0_col0\" class=\"data row0 col0\" >0.01585</td>\n",
       "            </tr>\n",
       "            <tr>\n",
       "                        <th id=\"T_d0f2722e_0a1a_11ea_a6fb_107b449f15fclevel0_row1\" class=\"row_heading level0 row1\" >языковой_семья</th>\n",
       "                        <td id=\"T_d0f2722e_0a1a_11ea_a6fb_107b449f15fcrow1_col0\" class=\"data row1 col0\" >0.01442</td>\n",
       "            </tr>\n",
       "            <tr>\n",
       "                        <th id=\"T_d0f2722e_0a1a_11ea_a6fb_107b449f15fclevel0_row2\" class=\"row_heading level0 row2\" >человеческий_язык</th>\n",
       "                        <td id=\"T_d0f2722e_0a1a_11ea_a6fb_107b449f15fcrow2_col0\" class=\"data row2 col0\" >0.01382</td>\n",
       "            </tr>\n",
       "            <tr>\n",
       "                        <th id=\"T_d0f2722e_0a1a_11ea_a6fb_107b449f15fclevel0_row3\" class=\"row_heading level0 row3\" >устный_речь</th>\n",
       "                        <td id=\"T_d0f2722e_0a1a_11ea_a6fb_107b449f15fcrow3_col0\" class=\"data row3 col0\" >0.01228</td>\n",
       "            </tr>\n",
       "            <tr>\n",
       "                        <th id=\"T_d0f2722e_0a1a_11ea_a6fb_107b449f15fclevel0_row4\" class=\"row_heading level0 row4\" >языковой_разнообразие</th>\n",
       "                        <td id=\"T_d0f2722e_0a1a_11ea_a6fb_107b449f15fcrow4_col0\" class=\"data row4 col0\" >0.00918</td>\n",
       "            </tr>\n",
       "            <tr>\n",
       "                        <th id=\"T_d0f2722e_0a1a_11ea_a6fb_107b449f15fclevel0_row5\" class=\"row_heading level0 row5\" >изучение_язык</th>\n",
       "                        <td id=\"T_d0f2722e_0a1a_11ea_a6fb_107b449f15fcrow5_col0\" class=\"data row5 col0\" >0.00845</td>\n",
       "            </tr>\n",
       "            <tr>\n",
       "                        <th id=\"T_d0f2722e_0a1a_11ea_a6fb_107b449f15fclevel0_row6\" class=\"row_heading level0 row6\" >исторический_языкознание</th>\n",
       "                        <td id=\"T_d0f2722e_0a1a_11ea_a6fb_107b449f15fcrow6_col0\" class=\"data row6 col0\" >0.0082</td>\n",
       "            </tr>\n",
       "            <tr>\n",
       "                        <th id=\"T_d0f2722e_0a1a_11ea_a6fb_107b449f15fclevel0_row7\" class=\"row_heading level0 row7\" >коммуникативный_система</th>\n",
       "                        <td id=\"T_d0f2722e_0a1a_11ea_a6fb_107b449f15fcrow7_col0\" class=\"data row7 col0\" >0.00736</td>\n",
       "            </tr>\n",
       "            <tr>\n",
       "                        <th id=\"T_d0f2722e_0a1a_11ea_a6fb_107b449f15fclevel0_row8\" class=\"row_heading level0 row8\" >индоевропейский_семья</th>\n",
       "                        <td id=\"T_d0f2722e_0a1a_11ea_a6fb_107b449f15fcrow8_col0\" class=\"data row8 col0\" >0.00708</td>\n",
       "            </tr>\n",
       "            <tr>\n",
       "                        <th id=\"T_d0f2722e_0a1a_11ea_a6fb_107b449f15fclevel0_row9\" class=\"row_heading level0 row9\" >разный_язык</th>\n",
       "                        <td id=\"T_d0f2722e_0a1a_11ea_a6fb_107b449f15fcrow9_col0\" class=\"data row9 col0\" >0.00683</td>\n",
       "            </tr>\n",
       "    </tbody></table><style  type=\"text/css\" >\n",
       "</style><table id=\"T_d0f2722f_0a1a_11ea_a6fb_107b449f15fc\" style='display:inline'><thead>    <tr>        <th class=\"blank level0\" ></th>        <th class=\"col_heading level0 col0\" >topic_4 @3gramm</th>    </tr></thead><tbody>\n",
       "                <tr>\n",
       "                        <th id=\"T_d0f2722f_0a1a_11ea_a6fb_107b449f15fclevel0_row0\" class=\"row_heading level0 row0\" >квантовый_теория_поль</th>\n",
       "                        <td id=\"T_d0f2722f_0a1a_11ea_a6fb_107b449f15fcrow0_col0\" class=\"data row0 col0\" >0.38827</td>\n",
       "            </tr>\n",
       "            <tr>\n",
       "                        <th id=\"T_d0f2722f_0a1a_11ea_a6fb_107b449f15fclevel0_row1\" class=\"row_heading level0 row1\" >конец_xviii_век</th>\n",
       "                        <td id=\"T_d0f2722f_0a1a_11ea_a6fb_107b449f15fcrow1_col0\" class=\"data row1 col0\" >0.27339</td>\n",
       "            </tr>\n",
       "            <tr>\n",
       "                        <th id=\"T_d0f2722f_0a1a_11ea_a6fb_107b449f15fclevel0_row2\" class=\"row_heading level0 row2\" >система_машинный_перевод</th>\n",
       "                        <td id=\"T_d0f2722f_0a1a_11ea_a6fb_107b449f15fcrow2_col0\" class=\"data row2 col0\" >0.04449</td>\n",
       "            </tr>\n",
       "            <tr>\n",
       "                        <th id=\"T_d0f2722f_0a1a_11ea_a6fb_107b449f15fclevel0_row3\" class=\"row_heading level0 row3\" >привести_простой_пример</th>\n",
       "                        <td id=\"T_d0f2722f_0a1a_11ea_a6fb_107b449f15fcrow3_col0\" class=\"data row3 col0\" >0.0443</td>\n",
       "            </tr>\n",
       "            <tr>\n",
       "                        <th id=\"T_d0f2722f_0a1a_11ea_a6fb_107b449f15fclevel0_row4\" class=\"row_heading level0 row4\" >содержимый_большой_количество</th>\n",
       "                        <td id=\"T_d0f2722f_0a1a_11ea_a6fb_107b449f15fcrow4_col0\" class=\"data row4 col0\" >0.03807</td>\n",
       "            </tr>\n",
       "            <tr>\n",
       "                        <th id=\"T_d0f2722f_0a1a_11ea_a6fb_107b449f15fclevel0_row5\" class=\"row_heading level0 row5\" >появляться_большой_количество</th>\n",
       "                        <td id=\"T_d0f2722f_0a1a_11ea_a6fb_107b449f15fcrow5_col0\" class=\"data row5 col0\" >0.03768</td>\n",
       "            </tr>\n",
       "            <tr>\n",
       "                        <th id=\"T_d0f2722f_0a1a_11ea_a6fb_107b449f15fclevel0_row6\" class=\"row_heading level0 row6\" >буквальный_смысл_слово</th>\n",
       "                        <td id=\"T_d0f2722f_0a1a_11ea_a6fb_107b449f15fcrow6_col0\" class=\"data row6 col0\" >0.03233</td>\n",
       "            </tr>\n",
       "            <tr>\n",
       "                        <th id=\"T_d0f2722f_0a1a_11ea_a6fb_107b449f15fclevel0_row7\" class=\"row_heading level0 row7\" >корпус_русский_язык</th>\n",
       "                        <td id=\"T_d0f2722f_0a1a_11ea_a6fb_107b449f15fcrow7_col0\" class=\"data row7 col0\" >0.03169</td>\n",
       "            </tr>\n",
       "            <tr>\n",
       "                        <th id=\"T_d0f2722f_0a1a_11ea_a6fb_107b449f15fclevel0_row8\" class=\"row_heading level0 row8\" >следовать_обратить_внимание</th>\n",
       "                        <td id=\"T_d0f2722f_0a1a_11ea_a6fb_107b449f15fcrow8_col0\" class=\"data row8 col0\" >0.03133</td>\n",
       "            </tr>\n",
       "            <tr>\n",
       "                        <th id=\"T_d0f2722f_0a1a_11ea_a6fb_107b449f15fclevel0_row9\" class=\"row_heading level0 row9\" >наиболее_важный_аспект</th>\n",
       "                        <td id=\"T_d0f2722f_0a1a_11ea_a6fb_107b449f15fcrow9_col0\" class=\"data row9 col0\" >0.02301</td>\n",
       "            </tr>\n",
       "    </tbody></table><style  type=\"text/css\" >\n",
       "</style><table id=\"T_d0f27230_0a1a_11ea_a6fb_107b449f15fc\" style='display:inline'><thead>    <tr>        <th class=\"blank level0\" ></th>        <th class=\"col_heading level0 col0\" >topic_4 @post_tag</th>    </tr></thead><tbody>\n",
       "                <tr>\n",
       "                        <th id=\"T_d0f27230_0a1a_11ea_a6fb_107b449f15fclevel0_row0\" class=\"row_heading level0 row0\" >язык</th>\n",
       "                        <td id=\"T_d0f27230_0a1a_11ea_a6fb_107b449f15fcrow0_col0\" class=\"data row0 col0\" >0.29149</td>\n",
       "            </tr>\n",
       "            <tr>\n",
       "                        <th id=\"T_d0f27230_0a1a_11ea_a6fb_107b449f15fclevel0_row1\" class=\"row_heading level0 row1\" >лингвистика</th>\n",
       "                        <td id=\"T_d0f27230_0a1a_11ea_a6fb_107b449f15fcrow1_col0\" class=\"data row1 col0\" >0.26008</td>\n",
       "            </tr>\n",
       "            <tr>\n",
       "                        <th id=\"T_d0f27230_0a1a_11ea_a6fb_107b449f15fclevel0_row2\" class=\"row_heading level0 row2\" >лингвистическая_компаративистика</th>\n",
       "                        <td id=\"T_d0f27230_0a1a_11ea_a6fb_107b449f15fcrow2_col0\" class=\"data row2 col0\" >0.03605</td>\n",
       "            </tr>\n",
       "            <tr>\n",
       "                        <th id=\"T_d0f27230_0a1a_11ea_a6fb_107b449f15fclevel0_row3\" class=\"row_heading level0 row3\" >коммуникация</th>\n",
       "                        <td id=\"T_d0f27230_0a1a_11ea_a6fb_107b449f15fcrow3_col0\" class=\"data row3 col0\" >0.03535</td>\n",
       "            </tr>\n",
       "            <tr>\n",
       "                        <th id=\"T_d0f27230_0a1a_11ea_a6fb_107b449f15fclevel0_row4\" class=\"row_heading level0 row4\" >праязык</th>\n",
       "                        <td id=\"T_d0f27230_0a1a_11ea_a6fb_107b449f15fcrow4_col0\" class=\"data row4 col0\" >0.0293</td>\n",
       "            </tr>\n",
       "            <tr>\n",
       "                        <th id=\"T_d0f27230_0a1a_11ea_a6fb_107b449f15fclevel0_row5\" class=\"row_heading level0 row5\" >полевая_лингвистика</th>\n",
       "                        <td id=\"T_d0f27230_0a1a_11ea_a6fb_107b449f15fcrow5_col0\" class=\"data row5 col0\" >0.02774</td>\n",
       "            </tr>\n",
       "            <tr>\n",
       "                        <th id=\"T_d0f27230_0a1a_11ea_a6fb_107b449f15fclevel0_row6\" class=\"row_heading level0 row6\" >африка</th>\n",
       "                        <td id=\"T_d0f27230_0a1a_11ea_a6fb_107b449f15fcrow6_col0\" class=\"data row6 col0\" >0.02549</td>\n",
       "            </tr>\n",
       "            <tr>\n",
       "                        <th id=\"T_d0f27230_0a1a_11ea_a6fb_107b449f15fclevel0_row7\" class=\"row_heading level0 row7\" >корпусная_лингвистика</th>\n",
       "                        <td id=\"T_d0f27230_0a1a_11ea_a6fb_107b449f15fcrow7_col0\" class=\"data row7 col0\" >0.02476</td>\n",
       "            </tr>\n",
       "            <tr>\n",
       "                        <th id=\"T_d0f27230_0a1a_11ea_a6fb_107b449f15fclevel0_row8\" class=\"row_heading level0 row8\" >речь</th>\n",
       "                        <td id=\"T_d0f27230_0a1a_11ea_a6fb_107b449f15fcrow8_col0\" class=\"data row8 col0\" >0.02381</td>\n",
       "            </tr>\n",
       "            <tr>\n",
       "                        <th id=\"T_d0f27230_0a1a_11ea_a6fb_107b449f15fclevel0_row9\" class=\"row_heading level0 row9\" >корпус_языка</th>\n",
       "                        <td id=\"T_d0f27230_0a1a_11ea_a6fb_107b449f15fcrow9_col0\" class=\"data row9 col0\" >0.02025</td>\n",
       "            </tr>\n",
       "    </tbody></table><style  type=\"text/css\" >\n",
       "</style><table id=\"T_d0f27231_0a1a_11ea_a6fb_107b449f15fc\" style='display:inline'><thead>    <tr>        <th class=\"blank level0\" ></th>        <th class=\"col_heading level0 col0\" >topic_4 @word</th>    </tr></thead><tbody>\n",
       "                <tr>\n",
       "                        <th id=\"T_d0f27231_0a1a_11ea_a6fb_107b449f15fclevel0_row0\" class=\"row_heading level0 row0\" >язык</th>\n",
       "                        <td id=\"T_d0f27231_0a1a_11ea_a6fb_107b449f15fcrow0_col0\" class=\"data row0 col0\" >0.04691</td>\n",
       "            </tr>\n",
       "            <tr>\n",
       "                        <th id=\"T_d0f27231_0a1a_11ea_a6fb_107b449f15fclevel0_row1\" class=\"row_heading level0 row1\" >лингвист</th>\n",
       "                        <td id=\"T_d0f27231_0a1a_11ea_a6fb_107b449f15fcrow1_col0\" class=\"data row1 col0\" >0.00754</td>\n",
       "            </tr>\n",
       "            <tr>\n",
       "                        <th id=\"T_d0f27231_0a1a_11ea_a6fb_107b449f15fclevel0_row2\" class=\"row_heading level0 row2\" >звук</th>\n",
       "                        <td id=\"T_d0f27231_0a1a_11ea_a6fb_107b449f15fcrow2_col0\" class=\"data row2 col0\" >0.00509</td>\n",
       "            </tr>\n",
       "            <tr>\n",
       "                        <th id=\"T_d0f27231_0a1a_11ea_a6fb_107b449f15fclevel0_row3\" class=\"row_heading level0 row3\" >речь</th>\n",
       "                        <td id=\"T_d0f27231_0a1a_11ea_a6fb_107b449f15fcrow3_col0\" class=\"data row3 col0\" >0.0047</td>\n",
       "            </tr>\n",
       "            <tr>\n",
       "                        <th id=\"T_d0f27231_0a1a_11ea_a6fb_107b449f15fclevel0_row4\" class=\"row_heading level0 row4\" >жест</th>\n",
       "                        <td id=\"T_d0f27231_0a1a_11ea_a6fb_107b449f15fcrow4_col0\" class=\"data row4 col0\" >0.00447</td>\n",
       "            </tr>\n",
       "            <tr>\n",
       "                        <th id=\"T_d0f27231_0a1a_11ea_a6fb_107b449f15fclevel0_row5\" class=\"row_heading level0 row5\" >говорящий</th>\n",
       "                        <td id=\"T_d0f27231_0a1a_11ea_a6fb_107b449f15fcrow5_col0\" class=\"data row5 col0\" >0.00406</td>\n",
       "            </tr>\n",
       "            <tr>\n",
       "                        <th id=\"T_d0f27231_0a1a_11ea_a6fb_107b449f15fclevel0_row6\" class=\"row_heading level0 row6\" >слово</th>\n",
       "                        <td id=\"T_d0f27231_0a1a_11ea_a6fb_107b449f15fcrow6_col0\" class=\"data row6 col0\" >0.00404</td>\n",
       "            </tr>\n",
       "            <tr>\n",
       "                        <th id=\"T_d0f27231_0a1a_11ea_a6fb_107b449f15fclevel0_row7\" class=\"row_heading level0 row7\" >языковой</th>\n",
       "                        <td id=\"T_d0f27231_0a1a_11ea_a6fb_107b449f15fcrow7_col0\" class=\"data row7 col0\" >0.00403</td>\n",
       "            </tr>\n",
       "            <tr>\n",
       "                        <th id=\"T_d0f27231_0a1a_11ea_a6fb_107b449f15fclevel0_row8\" class=\"row_heading level0 row8\" >лингвистика</th>\n",
       "                        <td id=\"T_d0f27231_0a1a_11ea_a6fb_107b449f15fcrow8_col0\" class=\"data row8 col0\" >0.004</td>\n",
       "            </tr>\n",
       "            <tr>\n",
       "                        <th id=\"T_d0f27231_0a1a_11ea_a6fb_107b449f15fclevel0_row9\" class=\"row_heading level0 row9\" >коммуникация</th>\n",
       "                        <td id=\"T_d0f27231_0a1a_11ea_a6fb_107b449f15fcrow9_col0\" class=\"data row9 col0\" >0.00333</td>\n",
       "            </tr>\n",
       "    </tbody></table>"
      ]
     },
     "metadata": {},
     "output_type": "display_data"
    },
    {
     "data": {
      "text/html": [
       "<b> машинный перевод на основе правил </b><br /> лингвист леонид иомдин о контроле смысла переведенного текста, интегральном описании языка и синтаксической неоднозначности"
      ]
     },
     "metadata": {},
     "output_type": "display_data"
    },
    {
     "data": {
      "text/html": [
       "<b> faqмультимодальная лингвистика </b><br /> 6 фактов о невербальной коммуникации, процессе понимания речи и будущем лингвистики"
      ]
     },
     "metadata": {},
     "output_type": "display_data"
    },
    {
     "data": {
      "text/html": [
       "<b> тело в русском языке и культуре </b><br /> лингвист григорий крейдлин о семиотической концептуализации тела, глубине членимости и свойствах телесных объектов"
      ]
     },
     "metadata": {},
     "output_type": "display_data"
    },
    {
     "data": {
      "text/html": [
       "<b> 5 книг о сравнительно-историческом языкознании </b><br /> что читать о методах и различных теориях компаративной лингвистики, рекомендует кандидат филологических наук георгий старостин"
      ]
     },
     "metadata": {},
     "output_type": "display_data"
    },
    {
     "data": {
      "text/html": [
       "<b> как взаимодействуют язык бытовой и язык официальный? </b><br /> лингвист борис иомдин об активном словарном запасе, языковых изменениях и текстах официальных документов"
      ]
     },
     "metadata": {},
     "output_type": "display_data"
    },
    {
     "data": {
      "text/html": [
       "<b> faqсамоисправления говорящего в спонтанной речи </b><br /> 6 фактов о типах речевых ошибок, допускаемых в устной речи"
      ]
     },
     "metadata": {},
     "output_type": "display_data"
    },
    {
     "data": {
      "text/html": [
       "<b> языковая конвергенция </b><br /> лингвист владимир беликов о лингвистической компаративистике, ситуации двуязычия и смешанных языках"
      ]
     },
     "metadata": {},
     "output_type": "display_data"
    },
    {
     "data": {
      "text/html": [
       "<b> faqоткрытие новых языков </b><br /> 7 фактов о работе лингвистов, корпусе текстов и качественных информантах"
      ]
     },
     "metadata": {},
     "output_type": "display_data"
    },
    {
     "data": {
      "text/html": [
       "<b> главы # в поисках родины </b><br /> отрывок из книги «генетическая одиссея человека» антрополога и популяционного генетика  спенсера уэллса"
      ]
     },
     "metadata": {},
     "output_type": "display_data"
    },
    {
     "data": {
      "text/html": [
       "<b> древние языки африки </b><br /> лингвист кирилл бабаев о койсанских языках, генетических данных и древних растениях"
      ]
     },
     "metadata": {},
     "output_type": "display_data"
    },
    {
     "data": {
      "text/html": [
       "<style  type=\"text/css\" >\n",
       "</style><table id=\"T_d0f27232_0a1a_11ea_a6fb_107b449f15fc\" style='display:inline'><thead>    <tr>        <th class=\"blank level0\" ></th>        <th class=\"col_heading level0 col0\" >topic_5 @2gramm</th>    </tr></thead><tbody>\n",
       "                <tr>\n",
       "                        <th id=\"T_d0f27232_0a1a_11ea_a6fb_107b449f15fclevel0_row0\" class=\"row_heading level0 row0\" >мировой_война</th>\n",
       "                        <td id=\"T_d0f27232_0a1a_11ea_a6fb_107b449f15fcrow0_col0\" class=\"data row0 col0\" >0.05195</td>\n",
       "            </tr>\n",
       "            <tr>\n",
       "                        <th id=\"T_d0f27232_0a1a_11ea_a6fb_107b449f15fclevel0_row1\" class=\"row_heading level0 row1\" >советский_союз</th>\n",
       "                        <td id=\"T_d0f27232_0a1a_11ea_a6fb_107b449f15fcrow1_col0\" class=\"data row1 col0\" >0.04431</td>\n",
       "            </tr>\n",
       "            <tr>\n",
       "                        <th id=\"T_d0f27232_0a1a_11ea_a6fb_107b449f15fclevel0_row2\" class=\"row_heading level0 row2\" >гражданский_война</th>\n",
       "                        <td id=\"T_d0f27232_0a1a_11ea_a6fb_107b449f15fcrow2_col0\" class=\"data row2 col0\" >0.0327</td>\n",
       "            </tr>\n",
       "            <tr>\n",
       "                        <th id=\"T_d0f27232_0a1a_11ea_a6fb_107b449f15fclevel0_row3\" class=\"row_heading level0 row3\" >политический_философия</th>\n",
       "                        <td id=\"T_d0f27232_0a1a_11ea_a6fb_107b449f15fcrow3_col0\" class=\"data row3 col0\" >0.01831</td>\n",
       "            </tr>\n",
       "            <tr>\n",
       "                        <th id=\"T_d0f27232_0a1a_11ea_a6fb_107b449f15fclevel0_row4\" class=\"row_heading level0 row4\" >российский_империя</th>\n",
       "                        <td id=\"T_d0f27232_0a1a_11ea_a6fb_107b449f15fcrow4_col0\" class=\"data row4 col0\" >0.01139</td>\n",
       "            </tr>\n",
       "            <tr>\n",
       "                        <th id=\"T_d0f27232_0a1a_11ea_a6fb_107b449f15fclevel0_row5\" class=\"row_heading level0 row5\" >политика_память</th>\n",
       "                        <td id=\"T_d0f27232_0a1a_11ea_a6fb_107b449f15fcrow5_col0\" class=\"data row5 col0\" >0.01052</td>\n",
       "            </tr>\n",
       "            <tr>\n",
       "                        <th id=\"T_d0f27232_0a1a_11ea_a6fb_107b449f15fclevel0_row6\" class=\"row_heading level0 row6\" >советский_власть</th>\n",
       "                        <td id=\"T_d0f27232_0a1a_11ea_a6fb_107b449f15fcrow6_col0\" class=\"data row6 col0\" >0.00825</td>\n",
       "            </tr>\n",
       "            <tr>\n",
       "                        <th id=\"T_d0f27232_0a1a_11ea_a6fb_107b449f15fclevel0_row7\" class=\"row_heading level0 row7\" >красный_армия</th>\n",
       "                        <td id=\"T_d0f27232_0a1a_11ea_a6fb_107b449f15fcrow7_col0\" class=\"data row7 col0\" >0.0068</td>\n",
       "            </tr>\n",
       "            <tr>\n",
       "                        <th id=\"T_d0f27232_0a1a_11ea_a6fb_107b449f15fclevel0_row8\" class=\"row_heading level0 row8\" >начало_война</th>\n",
       "                        <td id=\"T_d0f27232_0a1a_11ea_a6fb_107b449f15fcrow8_col0\" class=\"data row8 col0\" >0.00637</td>\n",
       "            </tr>\n",
       "            <tr>\n",
       "                        <th id=\"T_d0f27232_0a1a_11ea_a6fb_107b449f15fclevel0_row9\" class=\"row_heading level0 row9\" >речь_посполить</th>\n",
       "                        <td id=\"T_d0f27232_0a1a_11ea_a6fb_107b449f15fcrow9_col0\" class=\"data row9 col0\" >0.00536</td>\n",
       "            </tr>\n",
       "    </tbody></table><style  type=\"text/css\" >\n",
       "</style><table id=\"T_d0f27233_0a1a_11ea_a6fb_107b449f15fc\" style='display:inline'><thead>    <tr>        <th class=\"blank level0\" ></th>        <th class=\"col_heading level0 col0\" >topic_5 @3gramm</th>    </tr></thead><tbody>\n",
       "                <tr>\n",
       "                        <th id=\"T_d0f27233_0a1a_11ea_a6fb_107b449f15fclevel0_row0\" class=\"row_heading level0 row0\" >великий_отечественный_война</th>\n",
       "                        <td id=\"T_d0f27233_0a1a_11ea_a6fb_107b449f15fcrow0_col0\" class=\"data row0 col0\" >0.31248</td>\n",
       "            </tr>\n",
       "            <tr>\n",
       "                        <th id=\"T_d0f27233_0a1a_11ea_a6fb_107b449f15fclevel0_row1\" class=\"row_heading level0 row1\" >существовать_огромный_количество</th>\n",
       "                        <td id=\"T_d0f27233_0a1a_11ea_a6fb_107b449f15fcrow1_col0\" class=\"data row1 col0\" >0.12993</td>\n",
       "            </tr>\n",
       "            <tr>\n",
       "                        <th id=\"T_d0f27233_0a1a_11ea_a6fb_107b449f15fclevel0_row2\" class=\"row_heading level0 row2\" >сыграть_важный_роль</th>\n",
       "                        <td id=\"T_d0f27233_0a1a_11ea_a6fb_107b449f15fcrow2_col0\" class=\"data row2 col0\" >0.07987</td>\n",
       "            </tr>\n",
       "            <tr>\n",
       "                        <th id=\"T_d0f27233_0a1a_11ea_a6fb_107b449f15fclevel0_row3\" class=\"row_heading level0 row3\" >сыграть_ключевой_роль</th>\n",
       "                        <td id=\"T_d0f27233_0a1a_11ea_a6fb_107b449f15fcrow3_col0\" class=\"data row3 col0\" >0.07985</td>\n",
       "            </tr>\n",
       "            <tr>\n",
       "                        <th id=\"T_d0f27233_0a1a_11ea_a6fb_107b449f15fclevel0_row4\" class=\"row_heading level0 row4\" >состав_российский_империя</th>\n",
       "                        <td id=\"T_d0f27233_0a1a_11ea_a6fb_107b449f15fcrow4_col0\" class=\"data row4 col0\" >0.06401</td>\n",
       "            </tr>\n",
       "            <tr>\n",
       "                        <th id=\"T_d0f27233_0a1a_11ea_a6fb_107b449f15fclevel0_row5\" class=\"row_heading level0 row5\" >противоречащий_друг_друг</th>\n",
       "                        <td id=\"T_d0f27233_0a1a_11ea_a6fb_107b449f15fcrow5_col0\" class=\"data row5 col0\" >0.06343</td>\n",
       "            </tr>\n",
       "            <tr>\n",
       "                        <th id=\"T_d0f27233_0a1a_11ea_a6fb_107b449f15fclevel0_row6\" class=\"row_heading level0 row6\" >появиться_большой_количество</th>\n",
       "                        <td id=\"T_d0f27233_0a1a_11ea_a6fb_107b449f15fcrow6_col0\" class=\"data row6 col0\" >0.05574</td>\n",
       "            </tr>\n",
       "            <tr>\n",
       "                        <th id=\"T_d0f27233_0a1a_11ea_a6fb_107b449f15fclevel0_row7\" class=\"row_heading level0 row7\" >найти_общий_язык</th>\n",
       "                        <td id=\"T_d0f27233_0a1a_11ea_a6fb_107b449f15fcrow7_col0\" class=\"data row7 col0\" >0.0479</td>\n",
       "            </tr>\n",
       "            <tr>\n",
       "                        <th id=\"T_d0f27233_0a1a_11ea_a6fb_107b449f15fclevel0_row8\" class=\"row_heading level0 row8\" >крайний_мера_часть</th>\n",
       "                        <td id=\"T_d0f27233_0a1a_11ea_a6fb_107b449f15fcrow8_col0\" class=\"data row8 col0\" >0.03964</td>\n",
       "            </tr>\n",
       "            <tr>\n",
       "                        <th id=\"T_d0f27233_0a1a_11ea_a6fb_107b449f15fclevel0_row9\" class=\"row_heading level0 row9\" >многий_европейский_страна</th>\n",
       "                        <td id=\"T_d0f27233_0a1a_11ea_a6fb_107b449f15fcrow9_col0\" class=\"data row9 col0\" >0.02416</td>\n",
       "            </tr>\n",
       "    </tbody></table><style  type=\"text/css\" >\n",
       "</style><table id=\"T_d0f27234_0a1a_11ea_a6fb_107b449f15fc\" style='display:inline'><thead>    <tr>        <th class=\"blank level0\" ></th>        <th class=\"col_heading level0 col0\" >topic_5 @post_tag</th>    </tr></thead><tbody>\n",
       "                <tr>\n",
       "                        <th id=\"T_d0f27234_0a1a_11ea_a6fb_107b449f15fclevel0_row0\" class=\"row_heading level0 row0\" >история_россии</th>\n",
       "                        <td id=\"T_d0f27234_0a1a_11ea_a6fb_107b449f15fcrow0_col0\" class=\"data row0 col0\" >0.18655</td>\n",
       "            </tr>\n",
       "            <tr>\n",
       "                        <th id=\"T_d0f27234_0a1a_11ea_a6fb_107b449f15fclevel0_row1\" class=\"row_heading level0 row1\" >ссср</th>\n",
       "                        <td id=\"T_d0f27234_0a1a_11ea_a6fb_107b449f15fcrow1_col0\" class=\"data row1 col0\" >0.17851</td>\n",
       "            </tr>\n",
       "            <tr>\n",
       "                        <th id=\"T_d0f27234_0a1a_11ea_a6fb_107b449f15fclevel0_row2\" class=\"row_heading level0 row2\" >история</th>\n",
       "                        <td id=\"T_d0f27234_0a1a_11ea_a6fb_107b449f15fcrow2_col0\" class=\"data row2 col0\" >0.07297</td>\n",
       "            </tr>\n",
       "            <tr>\n",
       "                        <th id=\"T_d0f27234_0a1a_11ea_a6fb_107b449f15fclevel0_row3\" class=\"row_heading level0 row3\" >политическая_философия</th>\n",
       "                        <td id=\"T_d0f27234_0a1a_11ea_a6fb_107b449f15fcrow3_col0\" class=\"data row3 col0\" >0.06298</td>\n",
       "            </tr>\n",
       "            <tr>\n",
       "                        <th id=\"T_d0f27234_0a1a_11ea_a6fb_107b449f15fclevel0_row4\" class=\"row_heading level0 row4\" >политика</th>\n",
       "                        <td id=\"T_d0f27234_0a1a_11ea_a6fb_107b449f15fcrow4_col0\" class=\"data row4 col0\" >0.0431</td>\n",
       "            </tr>\n",
       "            <tr>\n",
       "                        <th id=\"T_d0f27234_0a1a_11ea_a6fb_107b449f15fclevel0_row5\" class=\"row_heading level0 row5\" >власть</th>\n",
       "                        <td id=\"T_d0f27234_0a1a_11ea_a6fb_107b449f15fcrow5_col0\" class=\"data row5 col0\" >0.0411</td>\n",
       "            </tr>\n",
       "            <tr>\n",
       "                        <th id=\"T_d0f27234_0a1a_11ea_a6fb_107b449f15fclevel0_row6\" class=\"row_heading level0 row6\" >россия</th>\n",
       "                        <td id=\"T_d0f27234_0a1a_11ea_a6fb_107b449f15fcrow6_col0\" class=\"data row6 col0\" >0.041</td>\n",
       "            </tr>\n",
       "            <tr>\n",
       "                        <th id=\"T_d0f27234_0a1a_11ea_a6fb_107b449f15fclevel0_row7\" class=\"row_heading level0 row7\" >сталин_иосиф</th>\n",
       "                        <td id=\"T_d0f27234_0a1a_11ea_a6fb_107b449f15fcrow7_col0\" class=\"data row7 col0\" >0.03731</td>\n",
       "            </tr>\n",
       "            <tr>\n",
       "                        <th id=\"T_d0f27234_0a1a_11ea_a6fb_107b449f15fclevel0_row8\" class=\"row_heading level0 row8\" >вторая_мировая_война</th>\n",
       "                        <td id=\"T_d0f27234_0a1a_11ea_a6fb_107b449f15fcrow8_col0\" class=\"data row8 col0\" >0.0333</td>\n",
       "            </tr>\n",
       "            <tr>\n",
       "                        <th id=\"T_d0f27234_0a1a_11ea_a6fb_107b449f15fclevel0_row9\" class=\"row_heading level0 row9\" >историческая_память</th>\n",
       "                        <td id=\"T_d0f27234_0a1a_11ea_a6fb_107b449f15fcrow9_col0\" class=\"data row9 col0\" >0.02872</td>\n",
       "            </tr>\n",
       "    </tbody></table><style  type=\"text/css\" >\n",
       "</style><table id=\"T_d0f27235_0a1a_11ea_a6fb_107b449f15fc\" style='display:inline'><thead>    <tr>        <th class=\"blank level0\" ></th>        <th class=\"col_heading level0 col0\" >topic_5 @word</th>    </tr></thead><tbody>\n",
       "                <tr>\n",
       "                        <th id=\"T_d0f27235_0a1a_11ea_a6fb_107b449f15fclevel0_row0\" class=\"row_heading level0 row0\" >сталин</th>\n",
       "                        <td id=\"T_d0f27235_0a1a_11ea_a6fb_107b449f15fcrow0_col0\" class=\"data row0 col0\" >0.00843</td>\n",
       "            </tr>\n",
       "            <tr>\n",
       "                        <th id=\"T_d0f27235_0a1a_11ea_a6fb_107b449f15fclevel0_row1\" class=\"row_heading level0 row1\" >россия</th>\n",
       "                        <td id=\"T_d0f27235_0a1a_11ea_a6fb_107b449f15fcrow1_col0\" class=\"data row1 col0\" >0.00738</td>\n",
       "            </tr>\n",
       "            <tr>\n",
       "                        <th id=\"T_d0f27235_0a1a_11ea_a6fb_107b449f15fclevel0_row2\" class=\"row_heading level0 row2\" >война</th>\n",
       "                        <td id=\"T_d0f27235_0a1a_11ea_a6fb_107b449f15fcrow2_col0\" class=\"data row2 col0\" >0.00729</td>\n",
       "            </tr>\n",
       "            <tr>\n",
       "                        <th id=\"T_d0f27235_0a1a_11ea_a6fb_107b449f15fclevel0_row3\" class=\"row_heading level0 row3\" >советский</th>\n",
       "                        <td id=\"T_d0f27235_0a1a_11ea_a6fb_107b449f15fcrow3_col0\" class=\"data row3 col0\" >0.00639</td>\n",
       "            </tr>\n",
       "            <tr>\n",
       "                        <th id=\"T_d0f27235_0a1a_11ea_a6fb_107b449f15fclevel0_row4\" class=\"row_heading level0 row4\" >власть</th>\n",
       "                        <td id=\"T_d0f27235_0a1a_11ea_a6fb_107b449f15fcrow4_col0\" class=\"data row4 col0\" >0.006</td>\n",
       "            </tr>\n",
       "            <tr>\n",
       "                        <th id=\"T_d0f27235_0a1a_11ea_a6fb_107b449f15fclevel0_row5\" class=\"row_heading level0 row5\" >история</th>\n",
       "                        <td id=\"T_d0f27235_0a1a_11ea_a6fb_107b449f15fcrow5_col0\" class=\"data row5 col0\" >0.00525</td>\n",
       "            </tr>\n",
       "            <tr>\n",
       "                        <th id=\"T_d0f27235_0a1a_11ea_a6fb_107b449f15fclevel0_row6\" class=\"row_heading level0 row6\" >государство</th>\n",
       "                        <td id=\"T_d0f27235_0a1a_11ea_a6fb_107b449f15fcrow6_col0\" class=\"data row6 col0\" >0.00411</td>\n",
       "            </tr>\n",
       "            <tr>\n",
       "                        <th id=\"T_d0f27235_0a1a_11ea_a6fb_107b449f15fclevel0_row7\" class=\"row_heading level0 row7\" >историк</th>\n",
       "                        <td id=\"T_d0f27235_0a1a_11ea_a6fb_107b449f15fcrow7_col0\" class=\"data row7 col0\" >0.0041</td>\n",
       "            </tr>\n",
       "            <tr>\n",
       "                        <th id=\"T_d0f27235_0a1a_11ea_a6fb_107b449f15fclevel0_row8\" class=\"row_heading level0 row8\" >русский</th>\n",
       "                        <td id=\"T_d0f27235_0a1a_11ea_a6fb_107b449f15fcrow8_col0\" class=\"data row8 col0\" >0.00397</td>\n",
       "            </tr>\n",
       "            <tr>\n",
       "                        <th id=\"T_d0f27235_0a1a_11ea_a6fb_107b449f15fclevel0_row9\" class=\"row_heading level0 row9\" >политический</th>\n",
       "                        <td id=\"T_d0f27235_0a1a_11ea_a6fb_107b449f15fcrow9_col0\" class=\"data row9 col0\" >0.0038</td>\n",
       "            </tr>\n",
       "    </tbody></table>"
      ]
     },
     "metadata": {},
     "output_type": "display_data"
    },
    {
     "data": {
      "text/html": [
       "<b> главыинтерпретации сталинградской битвы </b><br /> отрывок из книги «сталинградская битвасвидетельства участников и очевидцев», вышедшей под редакцией историка йохена хелльбека"
      ]
     },
     "metadata": {},
     "output_type": "display_data"
    },
    {
     "data": {
      "text/html": [
       "<b> культурная память о первой мировой </b><br /> историк борис колоницкий об источниках информации о первой мировой войне, политике памяти европейских стран и травме гражданской войны"
      ]
     },
     "metadata": {},
     "output_type": "display_data"
    },
    {
     "data": {
      "text/html": [
       "<b> главысталин на войне </b><br /> отрывок из книги  «сталин. жизнь одного вождя» историка олега хлевнюка о роли сталина в поражениях и победах в великой отечественной войне"
      ]
     },
     "metadata": {},
     "output_type": "display_data"
    },
    {
     "data": {
      "text/html": [
       "<b> автограф«актуальное прошлое» </b><br /> политолог ольга малинова об интерпретациях исторических событий, концепции тысячелетней истории россии и важности дня победы для современной политики памяти"
      ]
     },
     "metadata": {},
     "output_type": "display_data"
    },
    {
     "data": {
      "text/html": [
       "<b> эпоха сталина </b><br /> 11 материалов историка олега хлевнюка о зарождении и гибели сталинской эпохи, проблемах ее интерпретации и значении для мировой истории"
      ]
     },
     "metadata": {},
     "output_type": "display_data"
    },
    {
     "data": {
      "text/html": [
       "<b> «первая мировая война потеряна, у нас нет ее в памяти» </b><br /> интервью с историком алексеем миллером о политике памяти, войне 1812 года и значении «георгиевской ленточки»"
      ]
     },
     "metadata": {},
     "output_type": "display_data"
    },
    {
     "data": {
      "text/html": [
       "<b> главы # дело «сибирских сепаратистов» </b><br /> отрывок из книги «сибирь в составе российской империи»"
      ]
     },
     "metadata": {},
     "output_type": "display_data"
    },
    {
     "data": {
      "text/html": [
       "<b> приход сталина к власти </b><br /> историк олег хлевнюк о системе коллективного руководства после смерти ленина, заявлении сталина об отставке и полном контроле над органами госбезопасности"
      ]
     },
     "metadata": {},
     "output_type": "display_data"
    },
    {
     "data": {
      "text/html": [
       "<b> патриотическая риторика в годы гражданской войны </b><br /> историк людмила новикова об антибольшевистском лагере, красной пропаганде и мифе об интервенции"
      ]
     },
     "metadata": {},
     "output_type": "display_data"
    },
    {
     "data": {
      "text/html": [
       "<b> практики построения личности в утопических сообществах </b><br /> как педагогические технологии влияли на жизнь советских детей и подростков"
      ]
     },
     "metadata": {},
     "output_type": "display_data"
    },
    {
     "data": {
      "text/html": [
       "<style  type=\"text/css\" >\n",
       "</style><table id=\"T_d0f27236_0a1a_11ea_a6fb_107b449f15fc\" style='display:inline'><thead>    <tr>        <th class=\"blank level0\" ></th>        <th class=\"col_heading level0 col0\" >topic_6 @2gramm</th>    </tr></thead><tbody>\n",
       "                <tr>\n",
       "                        <th id=\"T_d0f27236_0a1a_11ea_a6fb_107b449f15fclevel0_row0\" class=\"row_heading level0 row0\" >нитрид_бора</th>\n",
       "                        <td id=\"T_d0f27236_0a1a_11ea_a6fb_107b449f15fcrow0_col0\" class=\"data row0 col0\" >0.01766</td>\n",
       "            </tr>\n",
       "            <tr>\n",
       "                        <th id=\"T_d0f27236_0a1a_11ea_a6fb_107b449f15fclevel0_row1\" class=\"row_heading level0 row1\" >пермский_период</th>\n",
       "                        <td id=\"T_d0f27236_0a1a_11ea_a6fb_107b449f15fcrow1_col0\" class=\"data row1 col0\" >0.01228</td>\n",
       "            </tr>\n",
       "            <tr>\n",
       "                        <th id=\"T_d0f27236_0a1a_11ea_a6fb_107b449f15fclevel0_row2\" class=\"row_heading level0 row2\" >поведение_животное</th>\n",
       "                        <td id=\"T_d0f27236_0a1a_11ea_a6fb_107b449f15fcrow2_col0\" class=\"data row2 col0\" >0.01164</td>\n",
       "            </tr>\n",
       "            <tr>\n",
       "                        <th id=\"T_d0f27236_0a1a_11ea_a6fb_107b449f15fclevel0_row3\" class=\"row_heading level0 row3\" >юрский_период</th>\n",
       "                        <td id=\"T_d0f27236_0a1a_11ea_a6fb_107b449f15fcrow3_col0\" class=\"data row3 col0\" >0.01101</td>\n",
       "            </tr>\n",
       "            <tr>\n",
       "                        <th id=\"T_d0f27236_0a1a_11ea_a6fb_107b449f15fclevel0_row4\" class=\"row_heading level0 row4\" >ископаемое_растение</th>\n",
       "                        <td id=\"T_d0f27236_0a1a_11ea_a6fb_107b449f15fcrow4_col0\" class=\"data row4 col0\" >0.00548</td>\n",
       "            </tr>\n",
       "            <tr>\n",
       "                        <th id=\"T_d0f27236_0a1a_11ea_a6fb_107b449f15fclevel0_row5\" class=\"row_heading level0 row5\" >южный_америка</th>\n",
       "                        <td id=\"T_d0f27236_0a1a_11ea_a6fb_107b449f15fcrow5_col0\" class=\"data row5 col0\" >0.0054</td>\n",
       "            </tr>\n",
       "            <tr>\n",
       "                        <th id=\"T_d0f27236_0a1a_11ea_a6fb_107b449f15fclevel0_row6\" class=\"row_heading level0 row6\" >частное_сектор</th>\n",
       "                        <td id=\"T_d0f27236_0a1a_11ea_a6fb_107b449f15fcrow6_col0\" class=\"data row6 col0\" >0.00507</td>\n",
       "            </tr>\n",
       "            <tr>\n",
       "                        <th id=\"T_d0f27236_0a1a_11ea_a6fb_107b449f15fclevel0_row7\" class=\"row_heading level0 row7\" >меловой_период</th>\n",
       "                        <td id=\"T_d0f27236_0a1a_11ea_a6fb_107b449f15fcrow7_col0\" class=\"data row7 col0\" >0.00451</td>\n",
       "            </tr>\n",
       "            <tr>\n",
       "                        <th id=\"T_d0f27236_0a1a_11ea_a6fb_107b449f15fclevel0_row8\" class=\"row_heading level0 row8\" >психика_животное</th>\n",
       "                        <td id=\"T_d0f27236_0a1a_11ea_a6fb_107b449f15fcrow8_col0\" class=\"data row8 col0\" >0.00447</td>\n",
       "            </tr>\n",
       "            <tr>\n",
       "                        <th id=\"T_d0f27236_0a1a_11ea_a6fb_107b449f15fclevel0_row9\" class=\"row_heading level0 row9\" >социальный_поведение</th>\n",
       "                        <td id=\"T_d0f27236_0a1a_11ea_a6fb_107b449f15fcrow9_col0\" class=\"data row9 col0\" >0.00437</td>\n",
       "            </tr>\n",
       "    </tbody></table><style  type=\"text/css\" >\n",
       "</style><table id=\"T_d0f27237_0a1a_11ea_a6fb_107b449f15fc\" style='display:inline'><thead>    <tr>        <th class=\"blank level0\" ></th>        <th class=\"col_heading level0 col0\" >topic_6 @3gramm</th>    </tr></thead><tbody>\n",
       "                <tr>\n",
       "                        <th id=\"T_d0f27237_0a1a_11ea_a6fb_107b449f15fclevel0_row0\" class=\"row_heading level0 row0\" >лауреат_нобелевский_премия</th>\n",
       "                        <td id=\"T_d0f27237_0a1a_11ea_a6fb_107b449f15fcrow0_col0\" class=\"data row0 col0\" >0.30814</td>\n",
       "            </tr>\n",
       "            <tr>\n",
       "                        <th id=\"T_d0f27237_0a1a_11ea_a6fb_107b449f15fclevel0_row1\" class=\"row_heading level0 row1\" >теория_речевой_акт</th>\n",
       "                        <td id=\"T_d0f27237_0a1a_11ea_a6fb_107b449f15fcrow1_col0\" class=\"data row1 col0\" >0.13212</td>\n",
       "            </tr>\n",
       "            <tr>\n",
       "                        <th id=\"T_d0f27237_0a1a_11ea_a6fb_107b449f15fclevel0_row2\" class=\"row_heading level0 row2\" >теория_принятие_решение</th>\n",
       "                        <td id=\"T_d0f27237_0a1a_11ea_a6fb_107b449f15fcrow2_col0\" class=\"data row2 col0\" >0.13211</td>\n",
       "            </tr>\n",
       "            <tr>\n",
       "                        <th id=\"T_d0f27237_0a1a_11ea_a6fb_107b449f15fclevel0_row3\" class=\"row_heading level0 row3\" >играть_ключевой_роль</th>\n",
       "                        <td id=\"T_d0f27237_0a1a_11ea_a6fb_107b449f15fcrow3_col0\" class=\"data row3 col0\" >0.09519</td>\n",
       "            </tr>\n",
       "            <tr>\n",
       "                        <th id=\"T_d0f27237_0a1a_11ea_a6fb_107b449f15fclevel0_row4\" class=\"row_heading level0 row4\" >ширина_запретить_зона</th>\n",
       "                        <td id=\"T_d0f27237_0a1a_11ea_a6fb_107b449f15fcrow4_col0\" class=\"data row4 col0\" >0.07334</td>\n",
       "            </tr>\n",
       "            <tr>\n",
       "                        <th id=\"T_d0f27237_0a1a_11ea_a6fb_107b449f15fclevel0_row5\" class=\"row_heading level0 row5\" >группа_высокий_растение</th>\n",
       "                        <td id=\"T_d0f27237_0a1a_11ea_a6fb_107b449f15fcrow5_col0\" class=\"data row5 col0\" >0.04402</td>\n",
       "            </tr>\n",
       "            <tr>\n",
       "                        <th id=\"T_d0f27237_0a1a_11ea_a6fb_107b449f15fclevel0_row6\" class=\"row_heading level0 row6\" >конец_палеозойский_эра</th>\n",
       "                        <td id=\"T_d0f27237_0a1a_11ea_a6fb_107b449f15fcrow6_col0\" class=\"data row6 col0\" >0.04401</td>\n",
       "            </tr>\n",
       "            <tr>\n",
       "                        <th id=\"T_d0f27237_0a1a_11ea_a6fb_107b449f15fclevel0_row7\" class=\"row_heading level0 row7\" >институт_проблема_управление</th>\n",
       "                        <td id=\"T_d0f27237_0a1a_11ea_a6fb_107b449f15fcrow7_col0\" class=\"data row7 col0\" >0.04399</td>\n",
       "            </tr>\n",
       "            <tr>\n",
       "                        <th id=\"T_d0f27237_0a1a_11ea_a6fb_107b449f15fclevel0_row8\" class=\"row_heading level0 row8\" >большой_внимание_уделяться</th>\n",
       "                        <td id=\"T_d0f27237_0a1a_11ea_a6fb_107b449f15fcrow8_col0\" class=\"data row8 col0\" >0.04365</td>\n",
       "            </tr>\n",
       "            <tr>\n",
       "                        <th id=\"T_d0f27237_0a1a_11ea_a6fb_107b449f15fclevel0_row9\" class=\"row_heading level0 row9\" >разный_вид_животное</th>\n",
       "                        <td id=\"T_d0f27237_0a1a_11ea_a6fb_107b449f15fcrow9_col0\" class=\"data row9 col0\" >0.03661</td>\n",
       "            </tr>\n",
       "    </tbody></table><style  type=\"text/css\" >\n",
       "</style><table id=\"T_d0f27238_0a1a_11ea_a6fb_107b449f15fc\" style='display:inline'><thead>    <tr>        <th class=\"blank level0\" ></th>        <th class=\"col_heading level0 col0\" >topic_6 @post_tag</th>    </tr></thead><tbody>\n",
       "                <tr>\n",
       "                        <th id=\"T_d0f27238_0a1a_11ea_a6fb_107b449f15fclevel0_row0\" class=\"row_heading level0 row0\" >палеонтология</th>\n",
       "                        <td id=\"T_d0f27238_0a1a_11ea_a6fb_107b449f15fcrow0_col0\" class=\"data row0 col0\" >0.10115</td>\n",
       "            </tr>\n",
       "            <tr>\n",
       "                        <th id=\"T_d0f27238_0a1a_11ea_a6fb_107b449f15fclevel0_row1\" class=\"row_heading level0 row1\" >этология</th>\n",
       "                        <td id=\"T_d0f27238_0a1a_11ea_a6fb_107b449f15fcrow1_col0\" class=\"data row1 col0\" >0.09575</td>\n",
       "            </tr>\n",
       "            <tr>\n",
       "                        <th id=\"T_d0f27238_0a1a_11ea_a6fb_107b449f15fclevel0_row2\" class=\"row_heading level0 row2\" >биология</th>\n",
       "                        <td id=\"T_d0f27238_0a1a_11ea_a6fb_107b449f15fcrow2_col0\" class=\"data row2 col0\" >0.09359</td>\n",
       "            </tr>\n",
       "            <tr>\n",
       "                        <th id=\"T_d0f27238_0a1a_11ea_a6fb_107b449f15fclevel0_row3\" class=\"row_heading level0 row3\" >зоология</th>\n",
       "                        <td id=\"T_d0f27238_0a1a_11ea_a6fb_107b449f15fcrow3_col0\" class=\"data row3 col0\" >0.07719</td>\n",
       "            </tr>\n",
       "            <tr>\n",
       "                        <th id=\"T_d0f27238_0a1a_11ea_a6fb_107b449f15fclevel0_row4\" class=\"row_heading level0 row4\" >поведение_животных</th>\n",
       "                        <td id=\"T_d0f27238_0a1a_11ea_a6fb_107b449f15fcrow4_col0\" class=\"data row4 col0\" >0.07451</td>\n",
       "            </tr>\n",
       "            <tr>\n",
       "                        <th id=\"T_d0f27238_0a1a_11ea_a6fb_107b449f15fclevel0_row5\" class=\"row_heading level0 row5\" >зоопсихология</th>\n",
       "                        <td id=\"T_d0f27238_0a1a_11ea_a6fb_107b449f15fcrow5_col0\" class=\"data row5 col0\" >0.04789</td>\n",
       "            </tr>\n",
       "            <tr>\n",
       "                        <th id=\"T_d0f27238_0a1a_11ea_a6fb_107b449f15fclevel0_row6\" class=\"row_heading level0 row6\" >театр</th>\n",
       "                        <td id=\"T_d0f27238_0a1a_11ea_a6fb_107b449f15fcrow6_col0\" class=\"data row6 col0\" >0.04757</td>\n",
       "            </tr>\n",
       "            <tr>\n",
       "                        <th id=\"T_d0f27238_0a1a_11ea_a6fb_107b449f15fclevel0_row7\" class=\"row_heading level0 row7\" >театроведение</th>\n",
       "                        <td id=\"T_d0f27238_0a1a_11ea_a6fb_107b449f15fcrow7_col0\" class=\"data row7 col0\" >0.03973</td>\n",
       "            </tr>\n",
       "            <tr>\n",
       "                        <th id=\"T_d0f27238_0a1a_11ea_a6fb_107b449f15fclevel0_row8\" class=\"row_heading level0 row8\" >эволюция</th>\n",
       "                        <td id=\"T_d0f27238_0a1a_11ea_a6fb_107b449f15fcrow8_col0\" class=\"data row8 col0\" >0.0349</td>\n",
       "            </tr>\n",
       "            <tr>\n",
       "                        <th id=\"T_d0f27238_0a1a_11ea_a6fb_107b449f15fclevel0_row9\" class=\"row_heading level0 row9\" >геология</th>\n",
       "                        <td id=\"T_d0f27238_0a1a_11ea_a6fb_107b449f15fcrow9_col0\" class=\"data row9 col0\" >0.03024</td>\n",
       "            </tr>\n",
       "    </tbody></table><style  type=\"text/css\" >\n",
       "</style><table id=\"T_d0f27239_0a1a_11ea_a6fb_107b449f15fc\" style='display:inline'><thead>    <tr>        <th class=\"blank level0\" ></th>        <th class=\"col_heading level0 col0\" >topic_6 @word</th>    </tr></thead><tbody>\n",
       "                <tr>\n",
       "                        <th id=\"T_d0f27239_0a1a_11ea_a6fb_107b449f15fclevel0_row0\" class=\"row_heading level0 row0\" >птица</th>\n",
       "                        <td id=\"T_d0f27239_0a1a_11ea_a6fb_107b449f15fcrow0_col0\" class=\"data row0 col0\" >0.00778</td>\n",
       "            </tr>\n",
       "            <tr>\n",
       "                        <th id=\"T_d0f27239_0a1a_11ea_a6fb_107b449f15fclevel0_row1\" class=\"row_heading level0 row1\" >животное</th>\n",
       "                        <td id=\"T_d0f27239_0a1a_11ea_a6fb_107b449f15fcrow1_col0\" class=\"data row1 col0\" >0.00689</td>\n",
       "            </tr>\n",
       "            <tr>\n",
       "                        <th id=\"T_d0f27239_0a1a_11ea_a6fb_107b449f15fclevel0_row2\" class=\"row_heading level0 row2\" >группа</th>\n",
       "                        <td id=\"T_d0f27239_0a1a_11ea_a6fb_107b449f15fcrow2_col0\" class=\"data row2 col0\" >0.00563</td>\n",
       "            </tr>\n",
       "            <tr>\n",
       "                        <th id=\"T_d0f27239_0a1a_11ea_a6fb_107b449f15fclevel0_row3\" class=\"row_heading level0 row3\" >насекомое</th>\n",
       "                        <td id=\"T_d0f27239_0a1a_11ea_a6fb_107b449f15fcrow3_col0\" class=\"data row3 col0\" >0.0049</td>\n",
       "            </tr>\n",
       "            <tr>\n",
       "                        <th id=\"T_d0f27239_0a1a_11ea_a6fb_107b449f15fclevel0_row4\" class=\"row_heading level0 row4\" >растение</th>\n",
       "                        <td id=\"T_d0f27239_0a1a_11ea_a6fb_107b449f15fcrow4_col0\" class=\"data row4 col0\" >0.00462</td>\n",
       "            </tr>\n",
       "            <tr>\n",
       "                        <th id=\"T_d0f27239_0a1a_11ea_a6fb_107b449f15fclevel0_row5\" class=\"row_heading level0 row5\" >театр</th>\n",
       "                        <td id=\"T_d0f27239_0a1a_11ea_a6fb_107b449f15fcrow5_col0\" class=\"data row5 col0\" >0.00396</td>\n",
       "            </tr>\n",
       "            <tr>\n",
       "                        <th id=\"T_d0f27239_0a1a_11ea_a6fb_107b449f15fclevel0_row6\" class=\"row_heading level0 row6\" >самец</th>\n",
       "                        <td id=\"T_d0f27239_0a1a_11ea_a6fb_107b449f15fcrow6_col0\" class=\"data row6 col0\" >0.00393</td>\n",
       "            </tr>\n",
       "            <tr>\n",
       "                        <th id=\"T_d0f27239_0a1a_11ea_a6fb_107b449f15fclevel0_row7\" class=\"row_heading level0 row7\" >самка</th>\n",
       "                        <td id=\"T_d0f27239_0a1a_11ea_a6fb_107b449f15fcrow7_col0\" class=\"data row7 col0\" >0.00336</td>\n",
       "            </tr>\n",
       "            <tr>\n",
       "                        <th id=\"T_d0f27239_0a1a_11ea_a6fb_107b449f15fclevel0_row8\" class=\"row_heading level0 row8\" >динозавр</th>\n",
       "                        <td id=\"T_d0f27239_0a1a_11ea_a6fb_107b449f15fcrow8_col0\" class=\"data row8 col0\" >0.00321</td>\n",
       "            </tr>\n",
       "            <tr>\n",
       "                        <th id=\"T_d0f27239_0a1a_11ea_a6fb_107b449f15fclevel0_row9\" class=\"row_heading level0 row9\" >метр</th>\n",
       "                        <td id=\"T_d0f27239_0a1a_11ea_a6fb_107b449f15fcrow9_col0\" class=\"data row9 col0\" >0.00312</td>\n",
       "            </tr>\n",
       "    </tbody></table>"
      ]
     },
     "metadata": {},
     "output_type": "display_data"
    },
    {
     "data": {
      "text/html": [
       "<b> особенности строения голосеменных класса войновскиевых </b><br /> о спорных вопросах в изучении одной из самых своеобразных групп голосеменных растений, произраставших на земле в конце палеозойской эры"
      ]
     },
     "metadata": {},
     "output_type": "display_data"
    },
    {
     "data": {
      "text/html": [
       "<b> пермский период </b><br /> палеоботаник сергей наугольных о возникновении пермской системы, эпохе высокого стояния континентов и пермо-триасовом вымирании видов"
      ]
     },
     "metadata": {},
     "output_type": "display_data"
    },
    {
     "data": {
      "text/html": [
       "<b> 5 книг о палеоботанике пермского периода </b><br /> что читать об ископаемых растениях пермского периода, рекомендует доктор геолого-минералогических наук сергей наугольных"
      ]
     },
     "metadata": {},
     "output_type": "display_data"
    },
    {
     "data": {
      "text/html": [
       "<b> «многие юрские животные продолжили свое развитие и даже имеют потомков в наше время» </b><br /> палеонтолог чжунхэ чжоу о многообразии удивительных животных юрского периода"
      ]
     },
     "metadata": {},
     "output_type": "display_data"
    },
    {
     "data": {
      "text/html": [
       "<b> палеоботаника </b><br /> палеоботаник сергей наугольных об истории дисциплины, главных открытиях и ее связи с палеозоологией"
      ]
     },
     "metadata": {},
     "output_type": "display_data"
    },
    {
     "data": {
      "text/html": [
       "<b> прямая речьжанна резникова </b><br /> этолог, доктор биологических наук о поведении животных, их когнитивных способностях, этике и гражданской позиции ученых"
      ]
     },
     "metadata": {},
     "output_type": "display_data"
    },
    {
     "data": {
      "text/html": [
       "<b> 5 книг об этологии </b><br /> что читать о различных аспектах  поведения человека и животных, рекомендует доктор биологических наук дмитрий жуков"
      ]
     },
     "metadata": {},
     "output_type": "display_data"
    },
    {
     "data": {
      "text/html": [
       "<b> главы # если бога нет </b><br /> отрывок из книги «истоки моралив поисках человеческого у приматов»  известного биолога франса де вааля"
      ]
     },
     "metadata": {},
     "output_type": "display_data"
    },
    {
     "data": {
      "text/html": [
       "<b> зависит ли коммуникация псовых от цвета их глаз? </b><br /> о социальном поведении собак и волков, их общении с помощью взгляда и охотничьих навыках"
      ]
     },
     "metadata": {},
     "output_type": "display_data"
    },
    {
     "data": {
      "text/html": [
       "<b> faqтеория речевых актов </b><br /> 5 фактов об аналитической теории речепорождения и понимании произведений художественной литературы"
      ]
     },
     "metadata": {},
     "output_type": "display_data"
    },
    {
     "data": {
      "text/html": [
       "<style  type=\"text/css\" >\n",
       "</style><table id=\"T_d0f2723a_0a1a_11ea_a6fb_107b449f15fc\" style='display:inline'><thead>    <tr>        <th class=\"blank level0\" ></th>        <th class=\"col_heading level0 col0\" >topic_7 @2gramm</th>    </tr></thead><tbody>\n",
       "                <tr>\n",
       "                        <th id=\"T_d0f2723a_0a1a_11ea_a6fb_107b449f15fclevel0_row0\" class=\"row_heading level0 row0\" >магнитный_поль</th>\n",
       "                        <td id=\"T_d0f2723a_0a1a_11ea_a6fb_107b449f15fcrow0_col0\" class=\"data row0 col0\" >0.03014</td>\n",
       "            </tr>\n",
       "            <tr>\n",
       "                        <th id=\"T_d0f2723a_0a1a_11ea_a6fb_107b449f15fclevel0_row1\" class=\"row_heading level0 row1\" >магнитный_пол</th>\n",
       "                        <td id=\"T_d0f2723a_0a1a_11ea_a6fb_107b449f15fcrow1_col0\" class=\"data row1 col0\" >0.02198</td>\n",
       "            </tr>\n",
       "            <tr>\n",
       "                        <th id=\"T_d0f2723a_0a1a_11ea_a6fb_107b449f15fclevel0_row2\" class=\"row_heading level0 row2\" >квантовый_компьютер</th>\n",
       "                        <td id=\"T_d0f2723a_0a1a_11ea_a6fb_107b449f15fcrow2_col0\" class=\"data row2 col0\" >0.01641</td>\n",
       "            </tr>\n",
       "            <tr>\n",
       "                        <th id=\"T_d0f2723a_0a1a_11ea_a6fb_107b449f15fclevel0_row3\" class=\"row_heading level0 row3\" >длина_волна</th>\n",
       "                        <td id=\"T_d0f2723a_0a1a_11ea_a6fb_107b449f15fcrow3_col0\" class=\"data row3 col0\" >0.0121</td>\n",
       "            </tr>\n",
       "            <tr>\n",
       "                        <th id=\"T_d0f2723a_0a1a_11ea_a6fb_107b449f15fclevel0_row4\" class=\"row_heading level0 row4\" >углеродный_нанотрубка</th>\n",
       "                        <td id=\"T_d0f2723a_0a1a_11ea_a6fb_107b449f15fcrow4_col0\" class=\"data row4 col0\" >0.00891</td>\n",
       "            </tr>\n",
       "            <tr>\n",
       "                        <th id=\"T_d0f2723a_0a1a_11ea_a6fb_107b449f15fclevel0_row5\" class=\"row_heading level0 row5\" >квантовый_точка</th>\n",
       "                        <td id=\"T_d0f2723a_0a1a_11ea_a6fb_107b449f15fcrow5_col0\" class=\"data row5 col0\" >0.00874</td>\n",
       "            </tr>\n",
       "            <tr>\n",
       "                        <th id=\"T_d0f2723a_0a1a_11ea_a6fb_107b449f15fclevel0_row6\" class=\"row_heading level0 row6\" >квантовый_технология</th>\n",
       "                        <td id=\"T_d0f2723a_0a1a_11ea_a6fb_107b449f15fcrow6_col0\" class=\"data row6 col0\" >0.00838</td>\n",
       "            </tr>\n",
       "            <tr>\n",
       "                        <th id=\"T_d0f2723a_0a1a_11ea_a6fb_107b449f15fclevel0_row7\" class=\"row_heading level0 row7\" >квантовый_механика</th>\n",
       "                        <td id=\"T_d0f2723a_0a1a_11ea_a6fb_107b449f15fcrow7_col0\" class=\"data row7 col0\" >0.00783</td>\n",
       "            </tr>\n",
       "            <tr>\n",
       "                        <th id=\"T_d0f2723a_0a1a_11ea_a6fb_107b449f15fclevel0_row8\" class=\"row_heading level0 row8\" >электромагнитный_волна</th>\n",
       "                        <td id=\"T_d0f2723a_0a1a_11ea_a6fb_107b449f15fcrow8_col0\" class=\"data row8 col0\" >0.00714</td>\n",
       "            </tr>\n",
       "            <tr>\n",
       "                        <th id=\"T_d0f2723a_0a1a_11ea_a6fb_107b449f15fclevel0_row9\" class=\"row_heading level0 row9\" >квантовый_состояние</th>\n",
       "                        <td id=\"T_d0f2723a_0a1a_11ea_a6fb_107b449f15fcrow9_col0\" class=\"data row9 col0\" >0.00677</td>\n",
       "            </tr>\n",
       "    </tbody></table><style  type=\"text/css\" >\n",
       "</style><table id=\"T_d0f2723b_0a1a_11ea_a6fb_107b449f15fc\" style='display:inline'><thead>    <tr>        <th class=\"blank level0\" ></th>        <th class=\"col_heading level0 col0\" >topic_7 @3gramm</th>    </tr></thead><tbody>\n",
       "                <tr>\n",
       "                        <th id=\"T_d0f2723b_0a1a_11ea_a6fb_107b449f15fclevel0_row0\" class=\"row_heading level0 row0\" >получить_нобелевский_премия</th>\n",
       "                        <td id=\"T_d0f2723b_0a1a_11ea_a6fb_107b449f15fcrow0_col0\" class=\"data row0 col0\" >0.28835</td>\n",
       "            </tr>\n",
       "            <tr>\n",
       "                        <th id=\"T_d0f2723b_0a1a_11ea_a6fb_107b449f15fclevel0_row1\" class=\"row_heading level0 row1\" >достаточно_большой_количество</th>\n",
       "                        <td id=\"T_d0f2723b_0a1a_11ea_a6fb_107b449f15fcrow1_col0\" class=\"data row1 col0\" >0.12934</td>\n",
       "            </tr>\n",
       "            <tr>\n",
       "                        <th id=\"T_d0f2723b_0a1a_11ea_a6fb_107b449f15fclevel0_row2\" class=\"row_heading level0 row2\" >внешний_магнитный_поль</th>\n",
       "                        <td id=\"T_d0f2723b_0a1a_11ea_a6fb_107b449f15fcrow2_col0\" class=\"data row2 col0\" >0.08654</td>\n",
       "            </tr>\n",
       "            <tr>\n",
       "                        <th id=\"T_d0f2723b_0a1a_11ea_a6fb_107b449f15fclevel0_row3\" class=\"row_heading level0 row3\" >генетически_модифицированный_растение</th>\n",
       "                        <td id=\"T_d0f2723b_0a1a_11ea_a6fb_107b449f15fcrow3_col0\" class=\"data row3 col0\" >0.08652</td>\n",
       "            </tr>\n",
       "            <tr>\n",
       "                        <th id=\"T_d0f2723b_0a1a_11ea_a6fb_107b449f15fclevel0_row4\" class=\"row_heading level0 row4\" >существовать_большой_количество</th>\n",
       "                        <td id=\"T_d0f2723b_0a1a_11ea_a6fb_107b449f15fcrow4_col0\" class=\"data row4 col0\" >0.08141</td>\n",
       "            </tr>\n",
       "            <tr>\n",
       "                        <th id=\"T_d0f2723b_0a1a_11ea_a6fb_107b449f15fclevel0_row5\" class=\"row_heading level0 row5\" >создание_новый_материал</th>\n",
       "                        <td id=\"T_d0f2723b_0a1a_11ea_a6fb_107b449f15fcrow5_col0\" class=\"data row5 col0\" >0.0384</td>\n",
       "            </tr>\n",
       "            <tr>\n",
       "                        <th id=\"T_d0f2723b_0a1a_11ea_a6fb_107b449f15fclevel0_row6\" class=\"row_heading level0 row6\" >направление_магнитный_поль</th>\n",
       "                        <td id=\"T_d0f2723b_0a1a_11ea_a6fb_107b449f15fcrow6_col0\" class=\"data row6 col0\" >0.03698</td>\n",
       "            </tr>\n",
       "            <tr>\n",
       "                        <th id=\"T_d0f2723b_0a1a_11ea_a6fb_107b449f15fclevel0_row7\" class=\"row_heading level0 row7\" >разный_длина_волна</th>\n",
       "                        <td id=\"T_d0f2723b_0a1a_11ea_a6fb_107b449f15fcrow7_col0\" class=\"data row7 col0\" >0.03439</td>\n",
       "            </tr>\n",
       "            <tr>\n",
       "                        <th id=\"T_d0f2723b_0a1a_11ea_a6fb_107b449f15fclevel0_row8\" class=\"row_heading level0 row8\" >длина_волна_свет</th>\n",
       "                        <td id=\"T_d0f2723b_0a1a_11ea_a6fb_107b449f15fcrow8_col0\" class=\"data row8 col0\" >0.03357</td>\n",
       "            </tr>\n",
       "            <tr>\n",
       "                        <th id=\"T_d0f2723b_0a1a_11ea_a6fb_107b449f15fclevel0_row9\" class=\"row_heading level0 row9\" >закон_квантовый_механика</th>\n",
       "                        <td id=\"T_d0f2723b_0a1a_11ea_a6fb_107b449f15fcrow9_col0\" class=\"data row9 col0\" >0.03101</td>\n",
       "            </tr>\n",
       "    </tbody></table><style  type=\"text/css\" >\n",
       "</style><table id=\"T_d0f2723c_0a1a_11ea_a6fb_107b449f15fc\" style='display:inline'><thead>    <tr>        <th class=\"blank level0\" ></th>        <th class=\"col_heading level0 col0\" >topic_7 @post_tag</th>    </tr></thead><tbody>\n",
       "                <tr>\n",
       "                        <th id=\"T_d0f2723c_0a1a_11ea_a6fb_107b449f15fclevel0_row0\" class=\"row_heading level0 row0\" >физика</th>\n",
       "                        <td id=\"T_d0f2723c_0a1a_11ea_a6fb_107b449f15fcrow0_col0\" class=\"data row0 col0\" >0.23702</td>\n",
       "            </tr>\n",
       "            <tr>\n",
       "                        <th id=\"T_d0f2723c_0a1a_11ea_a6fb_107b449f15fclevel0_row1\" class=\"row_heading level0 row1\" >технологии</th>\n",
       "                        <td id=\"T_d0f2723c_0a1a_11ea_a6fb_107b449f15fcrow1_col0\" class=\"data row1 col0\" >0.09105</td>\n",
       "            </tr>\n",
       "            <tr>\n",
       "                        <th id=\"T_d0f2723c_0a1a_11ea_a6fb_107b449f15fclevel0_row2\" class=\"row_heading level0 row2\" >квантовая_физика</th>\n",
       "                        <td id=\"T_d0f2723c_0a1a_11ea_a6fb_107b449f15fcrow2_col0\" class=\"data row2 col0\" >0.07601</td>\n",
       "            </tr>\n",
       "            <tr>\n",
       "                        <th id=\"T_d0f2723c_0a1a_11ea_a6fb_107b449f15fclevel0_row3\" class=\"row_heading level0 row3\" >нанотехнологии</th>\n",
       "                        <td id=\"T_d0f2723c_0a1a_11ea_a6fb_107b449f15fcrow3_col0\" class=\"data row3 col0\" >0.07043</td>\n",
       "            </tr>\n",
       "            <tr>\n",
       "                        <th id=\"T_d0f2723c_0a1a_11ea_a6fb_107b449f15fclevel0_row4\" class=\"row_heading level0 row4\" >квантовые_технологии</th>\n",
       "                        <td id=\"T_d0f2723c_0a1a_11ea_a6fb_107b449f15fcrow4_col0\" class=\"data row4 col0\" >0.03322</td>\n",
       "            </tr>\n",
       "            <tr>\n",
       "                        <th id=\"T_d0f2723c_0a1a_11ea_a6fb_107b449f15fclevel0_row5\" class=\"row_heading level0 row5\" >квантовая_механика</th>\n",
       "                        <td id=\"T_d0f2723c_0a1a_11ea_a6fb_107b449f15fcrow5_col0\" class=\"data row5 col0\" >0.03133</td>\n",
       "            </tr>\n",
       "            <tr>\n",
       "                        <th id=\"T_d0f2723c_0a1a_11ea_a6fb_107b449f15fclevel0_row6\" class=\"row_heading level0 row6\" >атом</th>\n",
       "                        <td id=\"T_d0f2723c_0a1a_11ea_a6fb_107b449f15fcrow6_col0\" class=\"data row6 col0\" >0.03118</td>\n",
       "            </tr>\n",
       "            <tr>\n",
       "                        <th id=\"T_d0f2723c_0a1a_11ea_a6fb_107b449f15fclevel0_row7\" class=\"row_heading level0 row7\" >оптика</th>\n",
       "                        <td id=\"T_d0f2723c_0a1a_11ea_a6fb_107b449f15fcrow7_col0\" class=\"data row7 col0\" >0.02922</td>\n",
       "            </tr>\n",
       "            <tr>\n",
       "                        <th id=\"T_d0f2723c_0a1a_11ea_a6fb_107b449f15fclevel0_row8\" class=\"row_heading level0 row8\" >лазер</th>\n",
       "                        <td id=\"T_d0f2723c_0a1a_11ea_a6fb_107b449f15fcrow8_col0\" class=\"data row8 col0\" >0.02655</td>\n",
       "            </tr>\n",
       "            <tr>\n",
       "                        <th id=\"T_d0f2723c_0a1a_11ea_a6fb_107b449f15fclevel0_row9\" class=\"row_heading level0 row9\" >наноматериалы</th>\n",
       "                        <td id=\"T_d0f2723c_0a1a_11ea_a6fb_107b449f15fcrow9_col0\" class=\"data row9 col0\" >0.02653</td>\n",
       "            </tr>\n",
       "    </tbody></table><style  type=\"text/css\" >\n",
       "</style><table id=\"T_d0f2723d_0a1a_11ea_a6fb_107b449f15fc\" style='display:inline'><thead>    <tr>        <th class=\"blank level0\" ></th>        <th class=\"col_heading level0 col0\" >topic_7 @word</th>    </tr></thead><tbody>\n",
       "                <tr>\n",
       "                        <th id=\"T_d0f2723d_0a1a_11ea_a6fb_107b449f15fclevel0_row0\" class=\"row_heading level0 row0\" >свет</th>\n",
       "                        <td id=\"T_d0f2723d_0a1a_11ea_a6fb_107b449f15fcrow0_col0\" class=\"data row0 col0\" >0.00825</td>\n",
       "            </tr>\n",
       "            <tr>\n",
       "                        <th id=\"T_d0f2723d_0a1a_11ea_a6fb_107b449f15fclevel0_row1\" class=\"row_heading level0 row1\" >атом</th>\n",
       "                        <td id=\"T_d0f2723d_0a1a_11ea_a6fb_107b449f15fcrow1_col0\" class=\"data row1 col0\" >0.00795</td>\n",
       "            </tr>\n",
       "            <tr>\n",
       "                        <th id=\"T_d0f2723d_0a1a_11ea_a6fb_107b449f15fclevel0_row2\" class=\"row_heading level0 row2\" >электрон</th>\n",
       "                        <td id=\"T_d0f2723d_0a1a_11ea_a6fb_107b449f15fcrow2_col0\" class=\"data row2 col0\" >0.00573</td>\n",
       "            </tr>\n",
       "            <tr>\n",
       "                        <th id=\"T_d0f2723d_0a1a_11ea_a6fb_107b449f15fclevel0_row3\" class=\"row_heading level0 row3\" >фотон</th>\n",
       "                        <td id=\"T_d0f2723d_0a1a_11ea_a6fb_107b449f15fcrow3_col0\" class=\"data row3 col0\" >0.00537</td>\n",
       "            </tr>\n",
       "            <tr>\n",
       "                        <th id=\"T_d0f2723d_0a1a_11ea_a6fb_107b449f15fclevel0_row4\" class=\"row_heading level0 row4\" >технология</th>\n",
       "                        <td id=\"T_d0f2723d_0a1a_11ea_a6fb_107b449f15fcrow4_col0\" class=\"data row4 col0\" >0.00502</td>\n",
       "            </tr>\n",
       "            <tr>\n",
       "                        <th id=\"T_d0f2723d_0a1a_11ea_a6fb_107b449f15fclevel0_row5\" class=\"row_heading level0 row5\" >использовать</th>\n",
       "                        <td id=\"T_d0f2723d_0a1a_11ea_a6fb_107b449f15fcrow5_col0\" class=\"data row5 col0\" >0.00488</td>\n",
       "            </tr>\n",
       "            <tr>\n",
       "                        <th id=\"T_d0f2723d_0a1a_11ea_a6fb_107b449f15fclevel0_row6\" class=\"row_heading level0 row6\" >работать</th>\n",
       "                        <td id=\"T_d0f2723d_0a1a_11ea_a6fb_107b449f15fcrow6_col0\" class=\"data row6 col0\" >0.00487</td>\n",
       "            </tr>\n",
       "            <tr>\n",
       "                        <th id=\"T_d0f2723d_0a1a_11ea_a6fb_107b449f15fclevel0_row7\" class=\"row_heading level0 row7\" >устройство</th>\n",
       "                        <td id=\"T_d0f2723d_0a1a_11ea_a6fb_107b449f15fcrow7_col0\" class=\"data row7 col0\" >0.00462</td>\n",
       "            </tr>\n",
       "            <tr>\n",
       "                        <th id=\"T_d0f2723d_0a1a_11ea_a6fb_107b449f15fclevel0_row8\" class=\"row_heading level0 row8\" >материал</th>\n",
       "                        <td id=\"T_d0f2723d_0a1a_11ea_a6fb_107b449f15fcrow8_col0\" class=\"data row8 col0\" >0.00451</td>\n",
       "            </tr>\n",
       "            <tr>\n",
       "                        <th id=\"T_d0f2723d_0a1a_11ea_a6fb_107b449f15fclevel0_row9\" class=\"row_heading level0 row9\" >волна</th>\n",
       "                        <td id=\"T_d0f2723d_0a1a_11ea_a6fb_107b449f15fcrow9_col0\" class=\"data row9 col0\" >0.00406</td>\n",
       "            </tr>\n",
       "    </tbody></table>"
      ]
     },
     "metadata": {},
     "output_type": "display_data"
    },
    {
     "data": {
      "text/html": [
       "<b> faqядерный магнитный резонанс </b><br /> 5 фактов о природе магнитных полей, спектре ядерного магнитного резонанса и применении метода ямр в современной химии"
      ]
     },
     "metadata": {},
     "output_type": "display_data"
    },
    {
     "data": {
      "text/html": [
       "<b> технология охлаждения атомов </b><br /> физик владимир мележик о волновых свойствах частиц, лазерном охлаждении и системах пониженной размерности"
      ]
     },
     "metadata": {},
     "output_type": "display_data"
    },
    {
     "data": {
      "text/html": [
       "<b> что придет на смену кремниевой электронике? </b><br /> физик алексей орлов о проблеме тепловыделения, попытках найти альтернативы кремнию и клеточных автоматах на квантовых точках"
      ]
     },
     "metadata": {},
     "output_type": "display_data"
    },
    {
     "data": {
      "text/html": [
       "<b> эффект переноса спина в спинтронике </b><br /> физик константин звездин о технологических проблемах наноэлектроники, магнитном вихре и генераторе свч-излучения"
      ]
     },
     "metadata": {},
     "output_type": "display_data"
    },
    {
     "data": {
      "text/html": [
       "<b> плащ-невидимкакак создают материалы, которые «обманывают» свет? </b><br /> о наноантеннах, оптических свойствах новых материалов, «гарри поттере» и перспективах нанофотоники"
      ]
     },
     "metadata": {},
     "output_type": "display_data"
    },
    {
     "data": {
      "text/html": [
       "<b> однослойные углеродные нанотрубки </b><br /> альберт насибулин о синтезе углеродных нанотрубок, аэрозольном методе и прозрачной электронике"
      ]
     },
     "metadata": {},
     "output_type": "display_data"
    },
    {
     "data": {
      "text/html": [
       "<b> сверхмощные лазерные филаменты </b><br /> физик алексей желтиков о нелинейной оптике, явлении самофокусировки и лазерном зондировании атмосферы"
      ]
     },
     "metadata": {},
     "output_type": "display_data"
    },
    {
     "data": {
      "text/html": [
       "<b> «квантовая телепортация используется для передачи секретной информации, которую невозможно украсть» </b><br /> интервью с физиком юджином ползиком о современном понимании идеи телепортации, сериале «star trek» и принципах квантовой криптографии"
      ]
     },
     "metadata": {},
     "output_type": "display_data"
    },
    {
     "data": {
      "text/html": [
       "<b> faqфотонные кристаллы </b><br /> 6 фактов об искусственно созданных структурах, обладающих свойствами обычных кристаллов"
      ]
     },
     "metadata": {},
     "output_type": "display_data"
    },
    {
     "data": {
      "text/html": [
       "<b> квантовая криптография </b><br /> выдержит ли классическая криптография появление квантового компьютера, существует ли абсолютно безопасное шифрование и как работают квантовые хакеры"
      ]
     },
     "metadata": {},
     "output_type": "display_data"
    },
    {
     "data": {
      "text/html": [
       "<style  type=\"text/css\" >\n",
       "</style><table id=\"T_d0f2723e_0a1a_11ea_a6fb_107b449f15fc\" style='display:inline'><thead>    <tr>        <th class=\"blank level0\" ></th>        <th class=\"col_heading level0 col0\" >topic_8 @2gramm</th>    </tr></thead><tbody>\n",
       "                <tr>\n",
       "                        <th id=\"T_d0f2723e_0a1a_11ea_a6fb_107b449f15fclevel0_row0\" class=\"row_heading level0 row0\" >стволовой_клетка</th>\n",
       "                        <td id=\"T_d0f2723e_0a1a_11ea_a6fb_107b449f15fcrow0_col0\" class=\"data row0 col0\" >0.03812</td>\n",
       "            </tr>\n",
       "            <tr>\n",
       "                        <th id=\"T_d0f2723e_0a1a_11ea_a6fb_107b449f15fclevel0_row1\" class=\"row_heading level0 row1\" >естественный_отбор</th>\n",
       "                        <td id=\"T_d0f2723e_0a1a_11ea_a6fb_107b449f15fcrow1_col0\" class=\"data row1 col0\" >0.02669</td>\n",
       "            </tr>\n",
       "            <tr>\n",
       "                        <th id=\"T_d0f2723e_0a1a_11ea_a6fb_107b449f15fclevel0_row2\" class=\"row_heading level0 row2\" >половый_отбор</th>\n",
       "                        <td id=\"T_d0f2723e_0a1a_11ea_a6fb_107b449f15fcrow2_col0\" class=\"data row2 col0\" >0.01296</td>\n",
       "            </tr>\n",
       "            <tr>\n",
       "                        <th id=\"T_d0f2723e_0a1a_11ea_a6fb_107b449f15fclevel0_row3\" class=\"row_heading level0 row3\" >эволюционный_биология</th>\n",
       "                        <td id=\"T_d0f2723e_0a1a_11ea_a6fb_107b449f15fcrow3_col0\" class=\"data row3 col0\" >0.01121</td>\n",
       "            </tr>\n",
       "            <tr>\n",
       "                        <th id=\"T_d0f2723e_0a1a_11ea_a6fb_107b449f15fclevel0_row4\" class=\"row_heading level0 row4\" >homo_sapiens</th>\n",
       "                        <td id=\"T_d0f2723e_0a1a_11ea_a6fb_107b449f15fcrow4_col0\" class=\"data row4 col0\" >0.01101</td>\n",
       "            </tr>\n",
       "            <tr>\n",
       "                        <th id=\"T_d0f2723e_0a1a_11ea_a6fb_107b449f15fclevel0_row5\" class=\"row_heading level0 row5\" >теория_эволюция</th>\n",
       "                        <td id=\"T_d0f2723e_0a1a_11ea_a6fb_107b449f15fcrow5_col0\" class=\"data row5 col0\" >0.00705</td>\n",
       "            </tr>\n",
       "            <tr>\n",
       "                        <th id=\"T_d0f2723e_0a1a_11ea_a6fb_107b449f15fclevel0_row6\" class=\"row_heading level0 row6\" >ход_эволюция</th>\n",
       "                        <td id=\"T_d0f2723e_0a1a_11ea_a6fb_107b449f15fcrow6_col0\" class=\"data row6 col0\" >0.0066</td>\n",
       "            </tr>\n",
       "            <tr>\n",
       "                        <th id=\"T_d0f2723e_0a1a_11ea_a6fb_107b449f15fclevel0_row7\" class=\"row_heading level0 row7\" >процесс_эволюция</th>\n",
       "                        <td id=\"T_d0f2723e_0a1a_11ea_a6fb_107b449f15fcrow7_col0\" class=\"data row7 col0\" >0.00624</td>\n",
       "            </tr>\n",
       "            <tr>\n",
       "                        <th id=\"T_d0f2723e_0a1a_11ea_a6fb_107b449f15fclevel0_row8\" class=\"row_heading level0 row8\" >австралийский_абориген</th>\n",
       "                        <td id=\"T_d0f2723e_0a1a_11ea_a6fb_107b449f15fcrow8_col0\" class=\"data row8 col0\" >0.00613</td>\n",
       "            </tr>\n",
       "            <tr>\n",
       "                        <th id=\"T_d0f2723e_0a1a_11ea_a6fb_107b449f15fclevel0_row9\" class=\"row_heading level0 row9\" >костный_мозг</th>\n",
       "                        <td id=\"T_d0f2723e_0a1a_11ea_a6fb_107b449f15fcrow9_col0\" class=\"data row9 col0\" >0.00527</td>\n",
       "            </tr>\n",
       "    </tbody></table><style  type=\"text/css\" >\n",
       "</style><table id=\"T_d0f2723f_0a1a_11ea_a6fb_107b449f15fc\" style='display:inline'><thead>    <tr>        <th class=\"blank level0\" ></th>        <th class=\"col_heading level0 col0\" >topic_8 @3gramm</th>    </tr></thead><tbody>\n",
       "                <tr>\n",
       "                        <th id=\"T_d0f2723f_0a1a_11ea_a6fb_107b449f15fclevel0_row0\" class=\"row_heading level0 row0\" >эмбриональный_стволовой_клетка</th>\n",
       "                        <td id=\"T_d0f2723f_0a1a_11ea_a6fb_107b449f15fcrow0_col0\" class=\"data row0 col0\" >0.3303</td>\n",
       "            </tr>\n",
       "            <tr>\n",
       "                        <th id=\"T_d0f2723f_0a1a_11ea_a6fb_107b449f15fclevel0_row1\" class=\"row_heading level0 row1\" >каков_история_изучение</th>\n",
       "                        <td id=\"T_d0f2723f_0a1a_11ea_a6fb_107b449f15fcrow1_col0\" class=\"data row1 col0\" >0.08785</td>\n",
       "            </tr>\n",
       "            <tr>\n",
       "                        <th id=\"T_d0f2723f_0a1a_11ea_a6fb_107b449f15fclevel0_row2\" class=\"row_heading level0 row2\" >середина_прошлое_век</th>\n",
       "                        <td id=\"T_d0f2723f_0a1a_11ea_a6fb_107b449f15fcrow2_col0\" class=\"data row2 col0\" >0.07689</td>\n",
       "            </tr>\n",
       "            <tr>\n",
       "                        <th id=\"T_d0f2723f_0a1a_11ea_a6fb_107b449f15fclevel0_row3\" class=\"row_heading level0 row3\" >кроветворный_стволовой_клетка</th>\n",
       "                        <td id=\"T_d0f2723f_0a1a_11ea_a6fb_107b449f15fcrow3_col0\" class=\"data row3 col0\" >0.06051</td>\n",
       "            </tr>\n",
       "            <tr>\n",
       "                        <th id=\"T_d0f2723f_0a1a_11ea_a6fb_107b449f15fclevel0_row4\" class=\"row_heading level0 row4\" >вид_homo_sapiens</th>\n",
       "                        <td id=\"T_d0f2723f_0a1a_11ea_a6fb_107b449f15fcrow4_col0\" class=\"data row4 col0\" >0.06044</td>\n",
       "            </tr>\n",
       "            <tr>\n",
       "                        <th id=\"T_d0f2723f_0a1a_11ea_a6fb_107b449f15fclevel0_row5\" class=\"row_heading level0 row5\" >путём_естественный_отбор</th>\n",
       "                        <td id=\"T_d0f2723f_0a1a_11ea_a6fb_107b449f15fcrow5_col0\" class=\"data row5 col0\" >0.05481</td>\n",
       "            </tr>\n",
       "            <tr>\n",
       "                        <th id=\"T_d0f2723f_0a1a_11ea_a6fb_107b449f15fclevel0_row6\" class=\"row_heading level0 row6\" >довольно_сильно_отличаться</th>\n",
       "                        <td id=\"T_d0f2723f_0a1a_11ea_a6fb_107b449f15fcrow6_col0\" class=\"data row6 col0\" >0.04936</td>\n",
       "            </tr>\n",
       "            <tr>\n",
       "                        <th id=\"T_d0f2723f_0a1a_11ea_a6fb_107b449f15fclevel0_row7\" class=\"row_heading level0 row7\" >действие_естественный_отбор</th>\n",
       "                        <td id=\"T_d0f2723f_0a1a_11ea_a6fb_107b449f15fcrow7_col0\" class=\"data row7 col0\" >0.044</td>\n",
       "            </tr>\n",
       "            <tr>\n",
       "                        <th id=\"T_d0f2723f_0a1a_11ea_a6fb_107b449f15fclevel0_row8\" class=\"row_heading level0 row8\" >изучение_стволовой_клетка</th>\n",
       "                        <td id=\"T_d0f2723f_0a1a_11ea_a6fb_107b449f15fcrow8_col0\" class=\"data row8 col0\" >0.03296</td>\n",
       "            </tr>\n",
       "            <tr>\n",
       "                        <th id=\"T_d0f2723f_0a1a_11ea_a6fb_107b449f15fclevel0_row9\" class=\"row_heading level0 row9\" >каков_причина_возникновение</th>\n",
       "                        <td id=\"T_d0f2723f_0a1a_11ea_a6fb_107b449f15fcrow9_col0\" class=\"data row9 col0\" >0.02745</td>\n",
       "            </tr>\n",
       "    </tbody></table><style  type=\"text/css\" >\n",
       "</style><table id=\"T_d0f27240_0a1a_11ea_a6fb_107b449f15fc\" style='display:inline'><thead>    <tr>        <th class=\"blank level0\" ></th>        <th class=\"col_heading level0 col0\" >topic_8 @post_tag</th>    </tr></thead><tbody>\n",
       "                <tr>\n",
       "                        <th id=\"T_d0f27240_0a1a_11ea_a6fb_107b449f15fclevel0_row0\" class=\"row_heading level0 row0\" >эволюция</th>\n",
       "                        <td id=\"T_d0f27240_0a1a_11ea_a6fb_107b449f15fcrow0_col0\" class=\"data row0 col0\" >0.15667</td>\n",
       "            </tr>\n",
       "            <tr>\n",
       "                        <th id=\"T_d0f27240_0a1a_11ea_a6fb_107b449f15fclevel0_row1\" class=\"row_heading level0 row1\" >человек</th>\n",
       "                        <td id=\"T_d0f27240_0a1a_11ea_a6fb_107b449f15fcrow1_col0\" class=\"data row1 col0\" >0.14158</td>\n",
       "            </tr>\n",
       "            <tr>\n",
       "                        <th id=\"T_d0f27240_0a1a_11ea_a6fb_107b449f15fclevel0_row2\" class=\"row_heading level0 row2\" >антропология</th>\n",
       "                        <td id=\"T_d0f27240_0a1a_11ea_a6fb_107b449f15fcrow2_col0\" class=\"data row2 col0\" >0.13947</td>\n",
       "            </tr>\n",
       "            <tr>\n",
       "                        <th id=\"T_d0f27240_0a1a_11ea_a6fb_107b449f15fclevel0_row3\" class=\"row_heading level0 row3\" >биология</th>\n",
       "                        <td id=\"T_d0f27240_0a1a_11ea_a6fb_107b449f15fcrow3_col0\" class=\"data row3 col0\" >0.10523</td>\n",
       "            </tr>\n",
       "            <tr>\n",
       "                        <th id=\"T_d0f27240_0a1a_11ea_a6fb_107b449f15fclevel0_row4\" class=\"row_heading level0 row4\" >антропогенез</th>\n",
       "                        <td id=\"T_d0f27240_0a1a_11ea_a6fb_107b449f15fcrow4_col0\" class=\"data row4 col0\" >0.04858</td>\n",
       "            </tr>\n",
       "            <tr>\n",
       "                        <th id=\"T_d0f27240_0a1a_11ea_a6fb_107b449f15fclevel0_row5\" class=\"row_heading level0 row5\" >стволовые_клетки</th>\n",
       "                        <td id=\"T_d0f27240_0a1a_11ea_a6fb_107b449f15fcrow5_col0\" class=\"data row5 col0\" >0.04121</td>\n",
       "            </tr>\n",
       "            <tr>\n",
       "                        <th id=\"T_d0f27240_0a1a_11ea_a6fb_107b449f15fclevel0_row6\" class=\"row_heading level0 row6\" >происхождение_человека</th>\n",
       "                        <td id=\"T_d0f27240_0a1a_11ea_a6fb_107b449f15fcrow6_col0\" class=\"data row6 col0\" >0.03241</td>\n",
       "            </tr>\n",
       "            <tr>\n",
       "                        <th id=\"T_d0f27240_0a1a_11ea_a6fb_107b449f15fclevel0_row7\" class=\"row_heading level0 row7\" >генетика</th>\n",
       "                        <td id=\"T_d0f27240_0a1a_11ea_a6fb_107b449f15fcrow7_col0\" class=\"data row7 col0\" >0.02984</td>\n",
       "            </tr>\n",
       "            <tr>\n",
       "                        <th id=\"T_d0f27240_0a1a_11ea_a6fb_107b449f15fclevel0_row8\" class=\"row_heading level0 row8\" >дарвин_чарльз</th>\n",
       "                        <td id=\"T_d0f27240_0a1a_11ea_a6fb_107b449f15fcrow8_col0\" class=\"data row8 col0\" >0.02328</td>\n",
       "            </tr>\n",
       "            <tr>\n",
       "                        <th id=\"T_d0f27240_0a1a_11ea_a6fb_107b449f15fclevel0_row9\" class=\"row_heading level0 row9\" >неандерталец</th>\n",
       "                        <td id=\"T_d0f27240_0a1a_11ea_a6fb_107b449f15fcrow9_col0\" class=\"data row9 col0\" >0.02059</td>\n",
       "            </tr>\n",
       "    </tbody></table><style  type=\"text/css\" >\n",
       "</style><table id=\"T_d0f27241_0a1a_11ea_a6fb_107b449f15fc\" style='display:inline'><thead>    <tr>        <th class=\"blank level0\" ></th>        <th class=\"col_heading level0 col0\" >topic_8 @word</th>    </tr></thead><tbody>\n",
       "                <tr>\n",
       "                        <th id=\"T_d0f27241_0a1a_11ea_a6fb_107b449f15fclevel0_row0\" class=\"row_heading level0 row0\" >эволюция</th>\n",
       "                        <td id=\"T_d0f27241_0a1a_11ea_a6fb_107b449f15fcrow0_col0\" class=\"data row0 col0\" >0.00827</td>\n",
       "            </tr>\n",
       "            <tr>\n",
       "                        <th id=\"T_d0f27241_0a1a_11ea_a6fb_107b449f15fclevel0_row1\" class=\"row_heading level0 row1\" >самец</th>\n",
       "                        <td id=\"T_d0f27241_0a1a_11ea_a6fb_107b449f15fcrow1_col0\" class=\"data row1 col0\" >0.00619</td>\n",
       "            </tr>\n",
       "            <tr>\n",
       "                        <th id=\"T_d0f27241_0a1a_11ea_a6fb_107b449f15fclevel0_row2\" class=\"row_heading level0 row2\" >самка</th>\n",
       "                        <td id=\"T_d0f27241_0a1a_11ea_a6fb_107b449f15fcrow2_col0\" class=\"data row2 col0\" >0.00572</td>\n",
       "            </tr>\n",
       "            <tr>\n",
       "                        <th id=\"T_d0f27241_0a1a_11ea_a6fb_107b449f15fclevel0_row3\" class=\"row_heading level0 row3\" >неандерталец</th>\n",
       "                        <td id=\"T_d0f27241_0a1a_11ea_a6fb_107b449f15fcrow3_col0\" class=\"data row3 col0\" >0.00542</td>\n",
       "            </tr>\n",
       "            <tr>\n",
       "                        <th id=\"T_d0f27241_0a1a_11ea_a6fb_107b449f15fclevel0_row4\" class=\"row_heading level0 row4\" >большой</th>\n",
       "                        <td id=\"T_d0f27241_0a1a_11ea_a6fb_107b449f15fcrow4_col0\" class=\"data row4 col0\" >0.0049</td>\n",
       "            </tr>\n",
       "            <tr>\n",
       "                        <th id=\"T_d0f27241_0a1a_11ea_a6fb_107b449f15fclevel0_row5\" class=\"row_heading level0 row5\" >группа</th>\n",
       "                        <td id=\"T_d0f27241_0a1a_11ea_a6fb_107b449f15fcrow5_col0\" class=\"data row5 col0\" >0.00451</td>\n",
       "            </tr>\n",
       "            <tr>\n",
       "                        <th id=\"T_d0f27241_0a1a_11ea_a6fb_107b449f15fclevel0_row6\" class=\"row_heading level0 row6\" >ген</th>\n",
       "                        <td id=\"T_d0f27241_0a1a_11ea_a6fb_107b449f15fcrow6_col0\" class=\"data row6 col0\" >0.00421</td>\n",
       "            </tr>\n",
       "            <tr>\n",
       "                        <th id=\"T_d0f27241_0a1a_11ea_a6fb_107b449f15fclevel0_row7\" class=\"row_heading level0 row7\" >жить</th>\n",
       "                        <td id=\"T_d0f27241_0a1a_11ea_a6fb_107b449f15fcrow7_col0\" class=\"data row7 col0\" >0.00419</td>\n",
       "            </tr>\n",
       "            <tr>\n",
       "                        <th id=\"T_d0f27241_0a1a_11ea_a6fb_107b449f15fclevel0_row8\" class=\"row_heading level0 row8\" >клетка</th>\n",
       "                        <td id=\"T_d0f27241_0a1a_11ea_a6fb_107b449f15fcrow8_col0\" class=\"data row8 col0\" >0.00407</td>\n",
       "            </tr>\n",
       "            <tr>\n",
       "                        <th id=\"T_d0f27241_0a1a_11ea_a6fb_107b449f15fclevel0_row9\" class=\"row_heading level0 row9\" >вид</th>\n",
       "                        <td id=\"T_d0f27241_0a1a_11ea_a6fb_107b449f15fcrow9_col0\" class=\"data row9 col0\" >0.00403</td>\n",
       "            </tr>\n",
       "    </tbody></table>"
      ]
     },
     "metadata": {},
     "output_type": "display_data"
    },
    {
     "data": {
      "text/html": [
       "<b> faqэмбриональные стволовые клетки </b><br /> 7 фактов об уникальном типе плюрипотентных клеток млекопитающих"
      ]
     },
     "metadata": {},
     "output_type": "display_data"
    },
    {
     "data": {
      "text/html": [
       "<b> биоинженерия стволовых клеток </b><br /> биоинженер али хадемхосейни об искусственной клеточной среде, образовании опухолей и инженерных подходах к исследованиям стволовых клеток"
      ]
     },
     "metadata": {},
     "output_type": "display_data"
    },
    {
     "data": {
      "text/html": [
       "<b> эпигенетика и клонирование </b><br /> биолог рудольф йениш об овце долли, терапевтическом клонировании у млекопитающих и перепрограммировании клеток"
      ]
     },
     "metadata": {},
     "output_type": "display_data"
    },
    {
     "data": {
      "text/html": [
       "<b> faqнеандертальцы алтая </b><br /> 7 фактов о происхождении  неандертальского населения на алтае, денисовой пещере и современных археологических исследованиях"
      ]
     },
     "metadata": {},
     "output_type": "display_data"
    },
    {
     "data": {
      "text/html": [
       "<b> как пациенту пересадили сетчатку глаза из «искусственных» клеток? </b><br /> о получении индуцированных плюрипотентных стволовых клеток и их применении в медицине"
      ]
     },
     "metadata": {},
     "output_type": "display_data"
    },
    {
     "data": {
      "text/html": [
       "<b> главы # как получить новое, унаследовав старое? </b><br /> часть главы из книги светланы бурлак \"происхождение языка\""
      ]
     },
     "metadata": {},
     "output_type": "display_data"
    },
    {
     "data": {
      "text/html": [
       "<b> press-лекция # как сделать из одной клетки другуюхроники трансформаций </b><br /> генетик мария шутова о выращивании органов, культивировании ранних эмбриональных клеток и о биомедицинском применении их искусственных аналогов"
      ]
     },
     "metadata": {},
     "output_type": "display_data"
    },
    {
     "data": {
      "text/html": [
       "<b> главыобезьяночеловек </b><br /> отрывок из книги «рассказ предка» биолога ричарда докинза об истоках эволюционного древа и общих предках всех живых организмов"
      ]
     },
     "metadata": {},
     "output_type": "display_data"
    },
    {
     "data": {
      "text/html": [
       "<b> faqвозникновение человека </b><br /> 7 фактов о человекообразных обезьянах и эволюции человека"
      ]
     },
     "metadata": {},
     "output_type": "display_data"
    },
    {
     "data": {
      "text/html": [
       "<b> возникновение человека </b><br /> антрополог станислав дробышевский о примитивных чертах строения человека, человеке умелом и расселении homo"
      ]
     },
     "metadata": {},
     "output_type": "display_data"
    },
    {
     "data": {
      "text/html": [
       "<style  type=\"text/css\" >\n",
       "</style><table id=\"T_d0f27242_0a1a_11ea_a6fb_107b449f15fc\" style='display:inline'><thead>    <tr>        <th class=\"blank level0\" ></th>        <th class=\"col_heading level0 col0\" >topic_9 @2gramm</th>    </tr></thead><tbody>\n",
       "                <tr>\n",
       "                        <th id=\"T_d0f27242_0a1a_11ea_a6fb_107b449f15fclevel0_row0\" class=\"row_heading level0 row0\" >элементарный_частица</th>\n",
       "                        <td id=\"T_d0f27242_0a1a_11ea_a6fb_107b449f15fcrow0_col0\" class=\"data row0 col0\" >0.04521</td>\n",
       "            </tr>\n",
       "            <tr>\n",
       "                        <th id=\"T_d0f27242_0a1a_11ea_a6fb_107b449f15fclevel0_row1\" class=\"row_heading level0 row1\" >стандартный_модель</th>\n",
       "                        <td id=\"T_d0f27242_0a1a_11ea_a6fb_107b449f15fcrow1_col0\" class=\"data row1 col0\" >0.04015</td>\n",
       "            </tr>\n",
       "            <tr>\n",
       "                        <th id=\"T_d0f27242_0a1a_11ea_a6fb_107b449f15fclevel0_row2\" class=\"row_heading level0 row2\" >бозон_хиггс</th>\n",
       "                        <td id=\"T_d0f27242_0a1a_11ea_a6fb_107b449f15fcrow2_col0\" class=\"data row2 col0\" >0.03039</td>\n",
       "            </tr>\n",
       "            <tr>\n",
       "                        <th id=\"T_d0f27242_0a1a_11ea_a6fb_107b449f15fclevel0_row3\" class=\"row_heading level0 row3\" >хиггсовский_бозон</th>\n",
       "                        <td id=\"T_d0f27242_0a1a_11ea_a6fb_107b449f15fcrow3_col0\" class=\"data row3 col0\" >0.01385</td>\n",
       "            </tr>\n",
       "            <tr>\n",
       "                        <th id=\"T_d0f27242_0a1a_11ea_a6fb_107b449f15fclevel0_row4\" class=\"row_heading level0 row4\" >сильный_взаимодействие</th>\n",
       "                        <td id=\"T_d0f27242_0a1a_11ea_a6fb_107b449f15fcrow4_col0\" class=\"data row4 col0\" >0.01264</td>\n",
       "            </tr>\n",
       "            <tr>\n",
       "                        <th id=\"T_d0f27242_0a1a_11ea_a6fb_107b449f15fclevel0_row5\" class=\"row_heading level0 row5\" >электрический_заряд</th>\n",
       "                        <td id=\"T_d0f27242_0a1a_11ea_a6fb_107b449f15fcrow5_col0\" class=\"data row5 col0\" >0.01187</td>\n",
       "            </tr>\n",
       "            <tr>\n",
       "                        <th id=\"T_d0f27242_0a1a_11ea_a6fb_107b449f15fclevel0_row6\" class=\"row_heading level0 row6\" >космический_луч</th>\n",
       "                        <td id=\"T_d0f27242_0a1a_11ea_a6fb_107b449f15fcrow6_col0\" class=\"data row6 col0\" >0.01127</td>\n",
       "            </tr>\n",
       "            <tr>\n",
       "                        <th id=\"T_d0f27242_0a1a_11ea_a6fb_107b449f15fclevel0_row7\" class=\"row_heading level0 row7\" >слабый_взаимодействие</th>\n",
       "                        <td id=\"T_d0f27242_0a1a_11ea_a6fb_107b449f15fcrow7_col0\" class=\"data row7 col0\" >0.01112</td>\n",
       "            </tr>\n",
       "            <tr>\n",
       "                        <th id=\"T_d0f27242_0a1a_11ea_a6fb_107b449f15fclevel0_row8\" class=\"row_heading level0 row8\" >высокий_энергия</th>\n",
       "                        <td id=\"T_d0f27242_0a1a_11ea_a6fb_107b449f15fcrow8_col0\" class=\"data row8 col0\" >0.0108</td>\n",
       "            </tr>\n",
       "            <tr>\n",
       "                        <th id=\"T_d0f27242_0a1a_11ea_a6fb_107b449f15fclevel0_row9\" class=\"row_heading level0 row9\" >атомный_ядро</th>\n",
       "                        <td id=\"T_d0f27242_0a1a_11ea_a6fb_107b449f15fcrow9_col0\" class=\"data row9 col0\" >0.00852</td>\n",
       "            </tr>\n",
       "    </tbody></table><style  type=\"text/css\" >\n",
       "</style><table id=\"T_d0f27243_0a1a_11ea_a6fb_107b449f15fc\" style='display:inline'><thead>    <tr>        <th class=\"blank level0\" ></th>        <th class=\"col_heading level0 col0\" >topic_9 @3gramm</th>    </tr></thead><tbody>\n",
       "                <tr>\n",
       "                        <th id=\"T_d0f27243_0a1a_11ea_a6fb_107b449f15fclevel0_row0\" class=\"row_heading level0 row0\" >большой_адронный_коллайдер</th>\n",
       "                        <td id=\"T_d0f27243_0a1a_11ea_a6fb_107b449f15fcrow0_col0\" class=\"data row0 col0\" >0.23029</td>\n",
       "            </tr>\n",
       "            <tr>\n",
       "                        <th id=\"T_d0f27243_0a1a_11ea_a6fb_107b449f15fclevel0_row1\" class=\"row_heading level0 row1\" >физика_элементарный_частица</th>\n",
       "                        <td id=\"T_d0f27243_0a1a_11ea_a6fb_107b449f15fcrow1_col0\" class=\"data row1 col0\" >0.19588</td>\n",
       "            </tr>\n",
       "            <tr>\n",
       "                        <th id=\"T_d0f27243_0a1a_11ea_a6fb_107b449f15fclevel0_row2\" class=\"row_heading level0 row2\" >физик_элементарный_частица</th>\n",
       "                        <td id=\"T_d0f27243_0a1a_11ea_a6fb_107b449f15fcrow2_col0\" class=\"data row2 col0\" >0.05343</td>\n",
       "            </tr>\n",
       "            <tr>\n",
       "                        <th id=\"T_d0f27243_0a1a_11ea_a6fb_107b449f15fclevel0_row3\" class=\"row_heading level0 row3\" >рамка_стандартный_модель</th>\n",
       "                        <td id=\"T_d0f27243_0a1a_11ea_a6fb_107b449f15fcrow3_col0\" class=\"data row3 col0\" >0.04985</td>\n",
       "            </tr>\n",
       "            <tr>\n",
       "                        <th id=\"T_d0f27243_0a1a_11ea_a6fb_107b449f15fclevel0_row4\" class=\"row_heading level0 row4\" >активный_форма_кислород</th>\n",
       "                        <td id=\"T_d0f27243_0a1a_11ea_a6fb_107b449f15fcrow4_col0\" class=\"data row4 col0\" >0.04653</td>\n",
       "            </tr>\n",
       "            <tr>\n",
       "                        <th id=\"T_d0f27243_0a1a_11ea_a6fb_107b449f15fclevel0_row5\" class=\"row_heading level0 row5\" >открытие_бозон_хиггс</th>\n",
       "                        <td id=\"T_d0f27243_0a1a_11ea_a6fb_107b449f15fcrow5_col0\" class=\"data row5 col0\" >0.0427</td>\n",
       "            </tr>\n",
       "            <tr>\n",
       "                        <th id=\"T_d0f27243_0a1a_11ea_a6fb_107b449f15fclevel0_row6\" class=\"row_heading level0 row6\" >физика_высокий_энергия</th>\n",
       "                        <td id=\"T_d0f27243_0a1a_11ea_a6fb_107b449f15fcrow6_col0\" class=\"data row6 col0\" >0.03796</td>\n",
       "            </tr>\n",
       "            <tr>\n",
       "                        <th id=\"T_d0f27243_0a1a_11ea_a6fb_107b449f15fclevel0_row7\" class=\"row_heading level0 row7\" >переносчик_слабый_взаимодействие</th>\n",
       "                        <td id=\"T_d0f27243_0a1a_11ea_a6fb_107b449f15fcrow7_col0\" class=\"data row7 col0\" >0.03085</td>\n",
       "            </tr>\n",
       "            <tr>\n",
       "                        <th id=\"T_d0f27243_0a1a_11ea_a6fb_107b449f15fclevel0_row8\" class=\"row_heading level0 row8\" >брукхейвенский_национальный_лаборатория</th>\n",
       "                        <td id=\"T_d0f27243_0a1a_11ea_a6fb_107b449f15fcrow8_col0\" class=\"data row8 col0\" >0.02369</td>\n",
       "            </tr>\n",
       "            <tr>\n",
       "                        <th id=\"T_d0f27243_0a1a_11ea_a6fb_107b449f15fclevel0_row9\" class=\"row_heading level0 row9\" >частица_стандартный_модель</th>\n",
       "                        <td id=\"T_d0f27243_0a1a_11ea_a6fb_107b449f15fcrow9_col0\" class=\"data row9 col0\" >0.02347</td>\n",
       "            </tr>\n",
       "    </tbody></table><style  type=\"text/css\" >\n",
       "</style><table id=\"T_d0f27244_0a1a_11ea_a6fb_107b449f15fc\" style='display:inline'><thead>    <tr>        <th class=\"blank level0\" ></th>        <th class=\"col_heading level0 col0\" >topic_9 @post_tag</th>    </tr></thead><tbody>\n",
       "                <tr>\n",
       "                        <th id=\"T_d0f27244_0a1a_11ea_a6fb_107b449f15fclevel0_row0\" class=\"row_heading level0 row0\" >физика_элементарных_частиц</th>\n",
       "                        <td id=\"T_d0f27244_0a1a_11ea_a6fb_107b449f15fcrow0_col0\" class=\"data row0 col0\" >0.12701</td>\n",
       "            </tr>\n",
       "            <tr>\n",
       "                        <th id=\"T_d0f27244_0a1a_11ea_a6fb_107b449f15fclevel0_row1\" class=\"row_heading level0 row1\" >физика</th>\n",
       "                        <td id=\"T_d0f27244_0a1a_11ea_a6fb_107b449f15fcrow1_col0\" class=\"data row1 col0\" >0.12158</td>\n",
       "            </tr>\n",
       "            <tr>\n",
       "                        <th id=\"T_d0f27244_0a1a_11ea_a6fb_107b449f15fclevel0_row2\" class=\"row_heading level0 row2\" >элементарная_частица</th>\n",
       "                        <td id=\"T_d0f27244_0a1a_11ea_a6fb_107b449f15fcrow2_col0\" class=\"data row2 col0\" >0.06595</td>\n",
       "            </tr>\n",
       "            <tr>\n",
       "                        <th id=\"T_d0f27244_0a1a_11ea_a6fb_107b449f15fclevel0_row3\" class=\"row_heading level0 row3\" >кварк</th>\n",
       "                        <td id=\"T_d0f27244_0a1a_11ea_a6fb_107b449f15fcrow3_col0\" class=\"data row3 col0\" >0.06433</td>\n",
       "            </tr>\n",
       "            <tr>\n",
       "                        <th id=\"T_d0f27244_0a1a_11ea_a6fb_107b449f15fclevel0_row4\" class=\"row_heading level0 row4\" >бозон_хиггса</th>\n",
       "                        <td id=\"T_d0f27244_0a1a_11ea_a6fb_107b449f15fcrow4_col0\" class=\"data row4 col0\" >0.06104</td>\n",
       "            </tr>\n",
       "            <tr>\n",
       "                        <th id=\"T_d0f27244_0a1a_11ea_a6fb_107b449f15fclevel0_row5\" class=\"row_heading level0 row5\" >большой_адронный_коллайдер</th>\n",
       "                        <td id=\"T_d0f27244_0a1a_11ea_a6fb_107b449f15fcrow5_col0\" class=\"data row5 col0\" >0.05939</td>\n",
       "            </tr>\n",
       "            <tr>\n",
       "                        <th id=\"T_d0f27244_0a1a_11ea_a6fb_107b449f15fclevel0_row6\" class=\"row_heading level0 row6\" >стандартная_модель</th>\n",
       "                        <td id=\"T_d0f27244_0a1a_11ea_a6fb_107b449f15fcrow6_col0\" class=\"data row6 col0\" >0.05619</td>\n",
       "            </tr>\n",
       "            <tr>\n",
       "                        <th id=\"T_d0f27244_0a1a_11ea_a6fb_107b449f15fclevel0_row7\" class=\"row_heading level0 row7\" >симметрия</th>\n",
       "                        <td id=\"T_d0f27244_0a1a_11ea_a6fb_107b449f15fcrow7_col0\" class=\"data row7 col0\" >0.03728</td>\n",
       "            </tr>\n",
       "            <tr>\n",
       "                        <th id=\"T_d0f27244_0a1a_11ea_a6fb_107b449f15fclevel0_row8\" class=\"row_heading level0 row8\" >нейтрино</th>\n",
       "                        <td id=\"T_d0f27244_0a1a_11ea_a6fb_107b449f15fcrow8_col0\" class=\"data row8 col0\" >0.03552</td>\n",
       "            </tr>\n",
       "            <tr>\n",
       "                        <th id=\"T_d0f27244_0a1a_11ea_a6fb_107b449f15fclevel0_row9\" class=\"row_heading level0 row9\" >коллайдер</th>\n",
       "                        <td id=\"T_d0f27244_0a1a_11ea_a6fb_107b449f15fcrow9_col0\" class=\"data row9 col0\" >0.02969</td>\n",
       "            </tr>\n",
       "    </tbody></table><style  type=\"text/css\" >\n",
       "</style><table id=\"T_d0f27245_0a1a_11ea_a6fb_107b449f15fc\" style='display:inline'><thead>    <tr>        <th class=\"blank level0\" ></th>        <th class=\"col_heading level0 col0\" >topic_9 @word</th>    </tr></thead><tbody>\n",
       "                <tr>\n",
       "                        <th id=\"T_d0f27245_0a1a_11ea_a6fb_107b449f15fclevel0_row0\" class=\"row_heading level0 row0\" >частица</th>\n",
       "                        <td id=\"T_d0f27245_0a1a_11ea_a6fb_107b449f15fcrow0_col0\" class=\"data row0 col0\" >0.02944</td>\n",
       "            </tr>\n",
       "            <tr>\n",
       "                        <th id=\"T_d0f27245_0a1a_11ea_a6fb_107b449f15fclevel0_row1\" class=\"row_heading level0 row1\" >кварк</th>\n",
       "                        <td id=\"T_d0f27245_0a1a_11ea_a6fb_107b449f15fcrow1_col0\" class=\"data row1 col0\" >0.02043</td>\n",
       "            </tr>\n",
       "            <tr>\n",
       "                        <th id=\"T_d0f27245_0a1a_11ea_a6fb_107b449f15fclevel0_row2\" class=\"row_heading level0 row2\" >симметрия</th>\n",
       "                        <td id=\"T_d0f27245_0a1a_11ea_a6fb_107b449f15fcrow2_col0\" class=\"data row2 col0\" >0.00954</td>\n",
       "            </tr>\n",
       "            <tr>\n",
       "                        <th id=\"T_d0f27245_0a1a_11ea_a6fb_107b449f15fclevel0_row3\" class=\"row_heading level0 row3\" >электрон</th>\n",
       "                        <td id=\"T_d0f27245_0a1a_11ea_a6fb_107b449f15fcrow3_col0\" class=\"data row3 col0\" >0.00839</td>\n",
       "            </tr>\n",
       "            <tr>\n",
       "                        <th id=\"T_d0f27245_0a1a_11ea_a6fb_107b449f15fclevel0_row4\" class=\"row_heading level0 row4\" >протон</th>\n",
       "                        <td id=\"T_d0f27245_0a1a_11ea_a6fb_107b449f15fcrow4_col0\" class=\"data row4 col0\" >0.00793</td>\n",
       "            </tr>\n",
       "            <tr>\n",
       "                        <th id=\"T_d0f27245_0a1a_11ea_a6fb_107b449f15fclevel0_row5\" class=\"row_heading level0 row5\" >энергия</th>\n",
       "                        <td id=\"T_d0f27245_0a1a_11ea_a6fb_107b449f15fcrow5_col0\" class=\"data row5 col0\" >0.00717</td>\n",
       "            </tr>\n",
       "            <tr>\n",
       "                        <th id=\"T_d0f27245_0a1a_11ea_a6fb_107b449f15fclevel0_row6\" class=\"row_heading level0 row6\" >нейтрино</th>\n",
       "                        <td id=\"T_d0f27245_0a1a_11ea_a6fb_107b449f15fcrow6_col0\" class=\"data row6 col0\" >0.00693</td>\n",
       "            </tr>\n",
       "            <tr>\n",
       "                        <th id=\"T_d0f27245_0a1a_11ea_a6fb_107b449f15fclevel0_row7\" class=\"row_heading level0 row7\" >ускоритель</th>\n",
       "                        <td id=\"T_d0f27245_0a1a_11ea_a6fb_107b449f15fcrow7_col0\" class=\"data row7 col0\" >0.00631</td>\n",
       "            </tr>\n",
       "            <tr>\n",
       "                        <th id=\"T_d0f27245_0a1a_11ea_a6fb_107b449f15fclevel0_row8\" class=\"row_heading level0 row8\" >масса</th>\n",
       "                        <td id=\"T_d0f27245_0a1a_11ea_a6fb_107b449f15fcrow8_col0\" class=\"data row8 col0\" >0.00609</td>\n",
       "            </tr>\n",
       "            <tr>\n",
       "                        <th id=\"T_d0f27245_0a1a_11ea_a6fb_107b449f15fclevel0_row9\" class=\"row_heading level0 row9\" >теория</th>\n",
       "                        <td id=\"T_d0f27245_0a1a_11ea_a6fb_107b449f15fcrow9_col0\" class=\"data row9 col0\" >0.0055</td>\n",
       "            </tr>\n",
       "    </tbody></table>"
      ]
     },
     "metadata": {},
     "output_type": "display_data"
    },
    {
     "data": {
      "text/html": [
       "<b> симметрии в мире элементарных частиц </b><br /> физик дмитрий казаков о типах преобразований в физике частиц, лоренц-инвариантности и нарушениях симметрии"
      ]
     },
     "metadata": {},
     "output_type": "display_data"
    },
    {
     "data": {
      "text/html": [
       "<b> спонтанное нарушение симметрии </b><br /> физик дмитрий казаков о массах частиц, слабых взаимодействиях и теореме голдстоуна"
      ]
     },
     "metadata": {},
     "output_type": "display_data"
    },
    {
     "data": {
      "text/html": [
       "<b> faqтоп-кварк </b><br /> 7 фактов о наиболее массивной частице стандартной модели"
      ]
     },
     "metadata": {},
     "output_type": "display_data"
    },
    {
     "data": {
      "text/html": [
       "<b> линейный коллайдер </b><br /> физик михаил данилов о недостатках стандартной модели,  изучении t-кварка и поиске новых измерений"
      ]
     },
     "metadata": {},
     "output_type": "display_data"
    },
    {
     "data": {
      "text/html": [
       "<b> faqcp-нарушение в кварках </b><br /> 7 фактов о смешивании поколений кварков, экспериментах на бак и асимметрии в мире элементарных частиц"
      ]
     },
     "metadata": {},
     "output_type": "display_data"
    },
    {
     "data": {
      "text/html": [
       "<b> адроны </b><br /> физик дмитрий казаков о мире мезонов и барионов, свойствах кварков и адронных резонансах"
      ]
     },
     "metadata": {},
     "output_type": "display_data"
    },
    {
     "data": {
      "text/html": [
       "<b> антиоксиданты и сердечно-сосудистые заболевания </b><br /> фармаколог олег медведев о компонентах антиоксидантной системы, формах коэнзима и новых свойствах водорода"
      ]
     },
     "metadata": {},
     "output_type": "display_data"
    },
    {
     "data": {
      "text/html": [
       "<b> стандартная модель </b><br /> физик михаил данилов об экспериментах на коллайдерах, массе фундаментальных частиц и суперсимметрии"
      ]
     },
     "metadata": {},
     "output_type": "display_data"
    },
    {
     "data": {
      "text/html": [
       "<b> элементарные частицы </b><br /> физик дмитрий казаков об истории открытия, свойствах и классификации элементарных частиц"
      ]
     },
     "metadata": {},
     "output_type": "display_data"
    },
    {
     "data": {
      "text/html": [
       "<b> детекторы для экспериментов на коллайдерах </b><br /> физик павел пахлов о взаимодействии элементарных частиц, устройстве детекторов и применении данной технологии в повседневной жизни"
      ]
     },
     "metadata": {},
     "output_type": "display_data"
    },
    {
     "data": {
      "text/html": [
       "<style  type=\"text/css\" >\n",
       "</style><table id=\"T_d0f27246_0a1a_11ea_a6fb_107b449f15fc\" style='display:inline'><thead>    <tr>        <th class=\"blank level0\" ></th>        <th class=\"col_heading level0 col0\" >topic_10 @2gramm</th>    </tr></thead><tbody>\n",
       "                <tr>\n",
       "                        <th id=\"T_d0f27246_0a1a_11ea_a6fb_107b449f15fclevel0_row0\" class=\"row_heading level0 row0\" >солнечный_система</th>\n",
       "                        <td id=\"T_d0f27246_0a1a_11ea_a6fb_107b449f15fcrow0_col0\" class=\"data row0 col0\" >0.05638</td>\n",
       "            </tr>\n",
       "            <tr>\n",
       "                        <th id=\"T_d0f27246_0a1a_11ea_a6fb_107b449f15fclevel0_row1\" class=\"row_heading level0 row1\" >планетный_система</th>\n",
       "                        <td id=\"T_d0f27246_0a1a_11ea_a6fb_107b449f15fcrow1_col0\" class=\"data row1 col0\" >0.02148</td>\n",
       "            </tr>\n",
       "            <tr>\n",
       "                        <th id=\"T_d0f27246_0a1a_11ea_a6fb_107b449f15fclevel0_row2\" class=\"row_heading level0 row2\" >космический_аппарат</th>\n",
       "                        <td id=\"T_d0f27246_0a1a_11ea_a6fb_107b449f15fcrow2_col0\" class=\"data row2 col0\" >0.01617</td>\n",
       "            </tr>\n",
       "            <tr>\n",
       "                        <th id=\"T_d0f27246_0a1a_11ea_a6fb_107b449f15fclevel0_row3\" class=\"row_heading level0 row3\" >парниковый_эффект</th>\n",
       "                        <td id=\"T_d0f27246_0a1a_11ea_a6fb_107b449f15fcrow3_col0\" class=\"data row3 col0\" >0.01247</td>\n",
       "            </tr>\n",
       "            <tr>\n",
       "                        <th id=\"T_d0f27246_0a1a_11ea_a6fb_107b449f15fclevel0_row4\" class=\"row_heading level0 row4\" >протопланетный_диск</th>\n",
       "                        <td id=\"T_d0f27246_0a1a_11ea_a6fb_107b449f15fcrow4_col0\" class=\"data row4 col0\" >0.00958</td>\n",
       "            </tr>\n",
       "            <tr>\n",
       "                        <th id=\"T_d0f27246_0a1a_11ea_a6fb_107b449f15fclevel0_row5\" class=\"row_heading level0 row5\" >король_артур</th>\n",
       "                        <td id=\"T_d0f27246_0a1a_11ea_a6fb_107b449f15fcrow5_col0\" class=\"data row5 col0\" >0.00948</td>\n",
       "            </tr>\n",
       "            <tr>\n",
       "                        <th id=\"T_d0f27246_0a1a_11ea_a6fb_107b449f15fclevel0_row6\" class=\"row_heading level0 row6\" >образование_планета</th>\n",
       "                        <td id=\"T_d0f27246_0a1a_11ea_a6fb_107b449f15fcrow6_col0\" class=\"data row6 col0\" >0.00772</td>\n",
       "            </tr>\n",
       "            <tr>\n",
       "                        <th id=\"T_d0f27246_0a1a_11ea_a6fb_107b449f15fclevel0_row7\" class=\"row_heading level0 row7\" >астрономический_единица</th>\n",
       "                        <td id=\"T_d0f27246_0a1a_11ea_a6fb_107b449f15fcrow7_col0\" class=\"data row7 col0\" >0.00768</td>\n",
       "            </tr>\n",
       "            <tr>\n",
       "                        <th id=\"T_d0f27246_0a1a_11ea_a6fb_107b449f15fclevel0_row8\" class=\"row_heading level0 row8\" >извержение_вулкан</th>\n",
       "                        <td id=\"T_d0f27246_0a1a_11ea_a6fb_107b449f15fcrow8_col0\" class=\"data row8 col0\" >0.00731</td>\n",
       "            </tr>\n",
       "            <tr>\n",
       "                        <th id=\"T_d0f27246_0a1a_11ea_a6fb_107b449f15fclevel0_row9\" class=\"row_heading level0 row9\" >поверхность_планета</th>\n",
       "                        <td id=\"T_d0f27246_0a1a_11ea_a6fb_107b449f15fcrow9_col0\" class=\"data row9 col0\" >0.00708</td>\n",
       "            </tr>\n",
       "    </tbody></table><style  type=\"text/css\" >\n",
       "</style><table id=\"T_d0f27247_0a1a_11ea_a6fb_107b449f15fc\" style='display:inline'><thead>    <tr>        <th class=\"blank level0\" ></th>        <th class=\"col_heading level0 col0\" >topic_10 @3gramm</th>    </tr></thead><tbody>\n",
       "                <tr>\n",
       "                        <th id=\"T_d0f27247_0a1a_11ea_a6fb_107b449f15fclevel0_row0\" class=\"row_heading level0 row0\" >великий_французский_революция</th>\n",
       "                        <td id=\"T_d0f27247_0a1a_11ea_a6fb_107b449f15fcrow0_col0\" class=\"data row0 col0\" >0.13076</td>\n",
       "            </tr>\n",
       "            <tr>\n",
       "                        <th id=\"T_d0f27247_0a1a_11ea_a6fb_107b449f15fclevel0_row1\" class=\"row_heading level0 row1\" >планета_солнечный_система</th>\n",
       "                        <td id=\"T_d0f27247_0a1a_11ea_a6fb_107b449f15fcrow1_col0\" class=\"data row1 col0\" >0.10826</td>\n",
       "            </tr>\n",
       "            <tr>\n",
       "                        <th id=\"T_d0f27247_0a1a_11ea_a6fb_107b449f15fclevel0_row2\" class=\"row_heading level0 row2\" >образование_планетный_система</th>\n",
       "                        <td id=\"T_d0f27247_0a1a_11ea_a6fb_107b449f15fcrow2_col0\" class=\"data row2 col0\" >0.08548</td>\n",
       "            </tr>\n",
       "            <tr>\n",
       "                        <th id=\"T_d0f27247_0a1a_11ea_a6fb_107b449f15fclevel0_row3\" class=\"row_heading level0 row3\" >работа_иммунный_система</th>\n",
       "                        <td id=\"T_d0f27247_0a1a_11ea_a6fb_107b449f15fcrow3_col0\" class=\"data row3 col0\" >0.08542</td>\n",
       "            </tr>\n",
       "            <tr>\n",
       "                        <th id=\"T_d0f27247_0a1a_11ea_a6fb_107b449f15fclevel0_row4\" class=\"row_heading level0 row4\" >тело_солнечный_система</th>\n",
       "                        <td id=\"T_d0f27247_0a1a_11ea_a6fb_107b449f15fcrow4_col0\" class=\"data row4 col0\" >0.07407</td>\n",
       "            </tr>\n",
       "            <tr>\n",
       "                        <th id=\"T_d0f27247_0a1a_11ea_a6fb_107b449f15fclevel0_row5\" class=\"row_heading level0 row5\" >предел_солнечный_система</th>\n",
       "                        <td id=\"T_d0f27247_0a1a_11ea_a6fb_107b449f15fcrow5_col0\" class=\"data row5 col0\" >0.07399</td>\n",
       "            </tr>\n",
       "            <tr>\n",
       "                        <th id=\"T_d0f27247_0a1a_11ea_a6fb_107b449f15fclevel0_row6\" class=\"row_heading level0 row6\" >планета_земной_группа</th>\n",
       "                        <td id=\"T_d0f27247_0a1a_11ea_a6fb_107b449f15fcrow6_col0\" class=\"data row6 col0\" >0.06836</td>\n",
       "            </tr>\n",
       "            <tr>\n",
       "                        <th id=\"T_d0f27247_0a1a_11ea_a6fb_107b449f15fclevel0_row7\" class=\"row_heading level0 row7\" >европейский_космический_агентство</th>\n",
       "                        <td id=\"T_d0f27247_0a1a_11ea_a6fb_107b449f15fcrow7_col0\" class=\"data row7 col0\" >0.04567</td>\n",
       "            </tr>\n",
       "            <tr>\n",
       "                        <th id=\"T_d0f27247_0a1a_11ea_a6fb_107b449f15fclevel0_row8\" class=\"row_heading level0 row8\" >международный_космический_станция</th>\n",
       "                        <td id=\"T_d0f27247_0a1a_11ea_a6fb_107b449f15fcrow8_col0\" class=\"data row8 col0\" >0.0455</td>\n",
       "            </tr>\n",
       "            <tr>\n",
       "                        <th id=\"T_d0f27247_0a1a_11ea_a6fb_107b449f15fclevel0_row9\" class=\"row_heading level0 row9\" >планета_тип_земля</th>\n",
       "                        <td id=\"T_d0f27247_0a1a_11ea_a6fb_107b449f15fcrow9_col0\" class=\"data row9 col0\" >0.03987</td>\n",
       "            </tr>\n",
       "    </tbody></table><style  type=\"text/css\" >\n",
       "</style><table id=\"T_d0f27248_0a1a_11ea_a6fb_107b449f15fc\" style='display:inline'><thead>    <tr>        <th class=\"blank level0\" ></th>        <th class=\"col_heading level0 col0\" >topic_10 @post_tag</th>    </tr></thead><tbody>\n",
       "                <tr>\n",
       "                        <th id=\"T_d0f27248_0a1a_11ea_a6fb_107b449f15fclevel0_row0\" class=\"row_heading level0 row0\" >земля</th>\n",
       "                        <td id=\"T_d0f27248_0a1a_11ea_a6fb_107b449f15fcrow0_col0\" class=\"data row0 col0\" >0.15622</td>\n",
       "            </tr>\n",
       "            <tr>\n",
       "                        <th id=\"T_d0f27248_0a1a_11ea_a6fb_107b449f15fclevel0_row1\" class=\"row_heading level0 row1\" >солнечная_система</th>\n",
       "                        <td id=\"T_d0f27248_0a1a_11ea_a6fb_107b449f15fcrow1_col0\" class=\"data row1 col0\" >0.09298</td>\n",
       "            </tr>\n",
       "            <tr>\n",
       "                        <th id=\"T_d0f27248_0a1a_11ea_a6fb_107b449f15fclevel0_row2\" class=\"row_heading level0 row2\" >экзопланета</th>\n",
       "                        <td id=\"T_d0f27248_0a1a_11ea_a6fb_107b449f15fcrow2_col0\" class=\"data row2 col0\" >0.07693</td>\n",
       "            </tr>\n",
       "            <tr>\n",
       "                        <th id=\"T_d0f27248_0a1a_11ea_a6fb_107b449f15fclevel0_row3\" class=\"row_heading level0 row3\" >планета</th>\n",
       "                        <td id=\"T_d0f27248_0a1a_11ea_a6fb_107b449f15fcrow3_col0\" class=\"data row3 col0\" >0.06588</td>\n",
       "            </tr>\n",
       "            <tr>\n",
       "                        <th id=\"T_d0f27248_0a1a_11ea_a6fb_107b449f15fclevel0_row4\" class=\"row_heading level0 row4\" >астрономия</th>\n",
       "                        <td id=\"T_d0f27248_0a1a_11ea_a6fb_107b449f15fcrow4_col0\" class=\"data row4 col0\" >0.06416</td>\n",
       "            </tr>\n",
       "            <tr>\n",
       "                        <th id=\"T_d0f27248_0a1a_11ea_a6fb_107b449f15fclevel0_row5\" class=\"row_heading level0 row5\" >геология</th>\n",
       "                        <td id=\"T_d0f27248_0a1a_11ea_a6fb_107b449f15fcrow5_col0\" class=\"data row5 col0\" >0.04849</td>\n",
       "            </tr>\n",
       "            <tr>\n",
       "                        <th id=\"T_d0f27248_0a1a_11ea_a6fb_107b449f15fclevel0_row6\" class=\"row_heading level0 row6\" >марс</th>\n",
       "                        <td id=\"T_d0f27248_0a1a_11ea_a6fb_107b449f15fcrow6_col0\" class=\"data row6 col0\" >0.0373</td>\n",
       "            </tr>\n",
       "            <tr>\n",
       "                        <th id=\"T_d0f27248_0a1a_11ea_a6fb_107b449f15fclevel0_row7\" class=\"row_heading level0 row7\" >астрофизика</th>\n",
       "                        <td id=\"T_d0f27248_0a1a_11ea_a6fb_107b449f15fcrow7_col0\" class=\"data row7 col0\" >0.03549</td>\n",
       "            </tr>\n",
       "            <tr>\n",
       "                        <th id=\"T_d0f27248_0a1a_11ea_a6fb_107b449f15fclevel0_row8\" class=\"row_heading level0 row8\" >космос</th>\n",
       "                        <td id=\"T_d0f27248_0a1a_11ea_a6fb_107b449f15fcrow8_col0\" class=\"data row8 col0\" >0.0311</td>\n",
       "            </tr>\n",
       "            <tr>\n",
       "                        <th id=\"T_d0f27248_0a1a_11ea_a6fb_107b449f15fclevel0_row9\" class=\"row_heading level0 row9\" >планеты</th>\n",
       "                        <td id=\"T_d0f27248_0a1a_11ea_a6fb_107b449f15fcrow9_col0\" class=\"data row9 col0\" >0.03028</td>\n",
       "            </tr>\n",
       "    </tbody></table><style  type=\"text/css\" >\n",
       "</style><table id=\"T_d0f27249_0a1a_11ea_a6fb_107b449f15fc\" style='display:inline'><thead>    <tr>        <th class=\"blank level0\" ></th>        <th class=\"col_heading level0 col0\" >topic_10 @word</th>    </tr></thead><tbody>\n",
       "                <tr>\n",
       "                        <th id=\"T_d0f27249_0a1a_11ea_a6fb_107b449f15fclevel0_row0\" class=\"row_heading level0 row0\" >планета</th>\n",
       "                        <td id=\"T_d0f27249_0a1a_11ea_a6fb_107b449f15fcrow0_col0\" class=\"data row0 col0\" >0.01825</td>\n",
       "            </tr>\n",
       "            <tr>\n",
       "                        <th id=\"T_d0f27249_0a1a_11ea_a6fb_107b449f15fclevel0_row1\" class=\"row_heading level0 row1\" >земля</th>\n",
       "                        <td id=\"T_d0f27249_0a1a_11ea_a6fb_107b449f15fcrow1_col0\" class=\"data row1 col0\" >0.01099</td>\n",
       "            </tr>\n",
       "            <tr>\n",
       "                        <th id=\"T_d0f27249_0a1a_11ea_a6fb_107b449f15fclevel0_row2\" class=\"row_heading level0 row2\" >планет</th>\n",
       "                        <td id=\"T_d0f27249_0a1a_11ea_a6fb_107b449f15fcrow2_col0\" class=\"data row2 col0\" >0.01087</td>\n",
       "            </tr>\n",
       "            <tr>\n",
       "                        <th id=\"T_d0f27249_0a1a_11ea_a6fb_107b449f15fclevel0_row3\" class=\"row_heading level0 row3\" >марс</th>\n",
       "                        <td id=\"T_d0f27249_0a1a_11ea_a6fb_107b449f15fcrow3_col0\" class=\"data row3 col0\" >0.00728</td>\n",
       "            </tr>\n",
       "            <tr>\n",
       "                        <th id=\"T_d0f27249_0a1a_11ea_a6fb_107b449f15fclevel0_row4\" class=\"row_heading level0 row4\" >атмосфера</th>\n",
       "                        <td id=\"T_d0f27249_0a1a_11ea_a6fb_107b449f15fcrow4_col0\" class=\"data row4 col0\" >0.00592</td>\n",
       "            </tr>\n",
       "            <tr>\n",
       "                        <th id=\"T_d0f27249_0a1a_11ea_a6fb_107b449f15fclevel0_row5\" class=\"row_heading level0 row5\" >вулкан</th>\n",
       "                        <td id=\"T_d0f27249_0a1a_11ea_a6fb_107b449f15fcrow5_col0\" class=\"data row5 col0\" >0.00525</td>\n",
       "            </tr>\n",
       "            <tr>\n",
       "                        <th id=\"T_d0f27249_0a1a_11ea_a6fb_107b449f15fclevel0_row6\" class=\"row_heading level0 row6\" >метеорит</th>\n",
       "                        <td id=\"T_d0f27249_0a1a_11ea_a6fb_107b449f15fcrow6_col0\" class=\"data row6 col0\" >0.00501</td>\n",
       "            </tr>\n",
       "            <tr>\n",
       "                        <th id=\"T_d0f27249_0a1a_11ea_a6fb_107b449f15fclevel0_row7\" class=\"row_heading level0 row7\" >астероид</th>\n",
       "                        <td id=\"T_d0f27249_0a1a_11ea_a6fb_107b449f15fcrow7_col0\" class=\"data row7 col0\" >0.00499</td>\n",
       "            </tr>\n",
       "            <tr>\n",
       "                        <th id=\"T_d0f27249_0a1a_11ea_a6fb_107b449f15fclevel0_row8\" class=\"row_heading level0 row8\" >экзопланета</th>\n",
       "                        <td id=\"T_d0f27249_0a1a_11ea_a6fb_107b449f15fcrow8_col0\" class=\"data row8 col0\" >0.00498</td>\n",
       "            </tr>\n",
       "            <tr>\n",
       "                        <th id=\"T_d0f27249_0a1a_11ea_a6fb_107b449f15fclevel0_row9\" class=\"row_heading level0 row9\" >километр</th>\n",
       "                        <td id=\"T_d0f27249_0a1a_11ea_a6fb_107b449f15fcrow9_col0\" class=\"data row9 col0\" >0.00428</td>\n",
       "            </tr>\n",
       "    </tbody></table>"
      ]
     },
     "metadata": {},
     "output_type": "display_data"
    },
    {
     "data": {
      "text/html": [
       "<b> формирование планет и протопланетные диски </b><br /> астрофизик сергей попов об образовании планетных систем, снеговой линии и облаке оорта"
      ]
     },
     "metadata": {},
     "output_type": "display_data"
    },
    {
     "data": {
      "text/html": [
       "<b> faqобразование планетных систем </b><br /> 7 фактов о формировании скоплений звезд и различных незвёздообразных астрономических объектов"
      ]
     },
     "metadata": {},
     "output_type": "display_data"
    },
    {
     "data": {
      "text/html": [
       "<b> внутреннее строение экзопланет </b><br /> астрофизик сергей попов о веществах планетарных недр, типах экзопланет и зависимости плотности от размера"
      ]
     },
     "metadata": {},
     "output_type": "display_data"
    },
    {
     "data": {
      "text/html": [
       "<b> сравнительная планетология </b><br /> астроном дмитрий титов о типах планет солнечной системы, динамике атмосфер и парниковом эффекте на марсе и венере"
      ]
     },
     "metadata": {},
     "output_type": "display_data"
    },
    {
     "data": {
      "text/html": [
       "<b> есть ли жизнь на других планетах? </b><br /> астроном владимир сурдин о возможном расселении людей на луне, искусственных городах и внеземных цивилизациях"
      ]
     },
     "metadata": {},
     "output_type": "display_data"
    },
    {
     "data": {
      "text/html": [
       "<b> будущее экзопланетных исследований </b><br /> астрофизик сергей попов о поиске жизни на экзопланетах, международных космических проектах и наземных телескопах нового поколения"
      ]
     },
     "metadata": {},
     "output_type": "display_data"
    },
    {
     "data": {
      "text/html": [
       "<b> сверхземли </b><br /> астрофизик сергей попов о многообразии планет солнечной системы, свойствах сверхземель и составе экзопланет"
      ]
     },
     "metadata": {},
     "output_type": "display_data"
    },
    {
     "data": {
      "text/html": [
       "<b> система юпитера </b><br /> астроном дмитрий титов об особенностях спутников юпитера, возможности появления на них жизни и космической экспедиции juice"
      ]
     },
     "metadata": {},
     "output_type": "display_data"
    },
    {
     "data": {
      "text/html": [
       "<b> плутонистория исследований карликовой планеты </b><br /> астроном дмитрий вибе об объектах пояса койпера, атмосфере плутона, карликовых планетах и миссии new horizons"
      ]
     },
     "metadata": {},
     "output_type": "display_data"
    },
    {
     "data": {
      "text/html": [
       "<b> точка зрения # перспективы космических программ </b><br /> мнения экспертов постнауки о том, какое направление в области космических программ считается сегодня наиболее важным"
      ]
     },
     "metadata": {},
     "output_type": "display_data"
    },
    {
     "data": {
      "text/html": [
       "<style  type=\"text/css\" >\n",
       "</style><table id=\"T_d0f2724a_0a1a_11ea_a6fb_107b449f15fc\" style='display:inline'><thead>    <tr>        <th class=\"blank level0\" ></th>        <th class=\"col_heading level0 col0\" >topic_11 @2gramm</th>    </tr></thead><tbody>\n",
       "                <tr>\n",
       "                        <th id=\"T_d0f2724a_0a1a_11ea_a6fb_107b449f15fclevel0_row0\" class=\"row_heading level0 row0\" >массовый_культура</th>\n",
       "                        <td id=\"T_d0f2724a_0a1a_11ea_a6fb_107b449f15fcrow0_col0\" class=\"data row0 col0\" >0.0431</td>\n",
       "            </tr>\n",
       "            <tr>\n",
       "                        <th id=\"T_d0f2724a_0a1a_11ea_a6fb_107b449f15fclevel0_row1\" class=\"row_heading level0 row1\" >культовый_кино</th>\n",
       "                        <td id=\"T_d0f2724a_0a1a_11ea_a6fb_107b449f15fcrow1_col0\" class=\"data row1 col0\" >0.01543</td>\n",
       "            </tr>\n",
       "            <tr>\n",
       "                        <th id=\"T_d0f2724a_0a1a_11ea_a6fb_107b449f15fclevel0_row2\" class=\"row_heading level0 row2\" >cinema_studies</th>\n",
       "                        <td id=\"T_d0f2724a_0a1a_11ea_a6fb_107b449f15fcrow2_col0\" class=\"data row2 col0\" >0.01434</td>\n",
       "            </tr>\n",
       "            <tr>\n",
       "                        <th id=\"T_d0f2724a_0a1a_11ea_a6fb_107b449f15fclevel0_row3\" class=\"row_heading level0 row3\" >общество_потребление</th>\n",
       "                        <td id=\"T_d0f2724a_0a1a_11ea_a6fb_107b449f15fcrow3_col0\" class=\"data row3 col0\" >0.01192</td>\n",
       "            </tr>\n",
       "            <tr>\n",
       "                        <th id=\"T_d0f2724a_0a1a_11ea_a6fb_107b449f15fclevel0_row4\" class=\"row_heading level0 row4\" >молодёжный_субкультура</th>\n",
       "                        <td id=\"T_d0f2724a_0a1a_11ea_a6fb_107b449f15fcrow4_col0\" class=\"data row4 col0\" >0.00871</td>\n",
       "            </tr>\n",
       "            <tr>\n",
       "                        <th id=\"T_d0f2724a_0a1a_11ea_a6fb_107b449f15fclevel0_row5\" class=\"row_heading level0 row5\" >плохой_кино</th>\n",
       "                        <td id=\"T_d0f2724a_0a1a_11ea_a6fb_107b449f15fcrow5_col0\" class=\"data row5 col0\" >0.00827</td>\n",
       "            </tr>\n",
       "            <tr>\n",
       "                        <th id=\"T_d0f2724a_0a1a_11ea_a6fb_107b449f15fclevel0_row6\" class=\"row_heading level0 row6\" >хороший_вкус</th>\n",
       "                        <td id=\"T_d0f2724a_0a1a_11ea_a6fb_107b449f15fcrow6_col0\" class=\"data row6 col0\" >0.00704</td>\n",
       "            </tr>\n",
       "            <tr>\n",
       "                        <th id=\"T_d0f2724a_0a1a_11ea_a6fb_107b449f15fclevel0_row7\" class=\"row_heading level0 row7\" >популярный_культура</th>\n",
       "                        <td id=\"T_d0f2724a_0a1a_11ea_a6fb_107b449f15fcrow7_col0\" class=\"data row7 col0\" >0.00692</td>\n",
       "            </tr>\n",
       "            <tr>\n",
       "                        <th id=\"T_d0f2724a_0a1a_11ea_a6fb_107b449f15fclevel0_row8\" class=\"row_heading level0 row8\" >гуманитарный_наука</th>\n",
       "                        <td id=\"T_d0f2724a_0a1a_11ea_a6fb_107b449f15fcrow8_col0\" class=\"data row8 col0\" >0.00646</td>\n",
       "            </tr>\n",
       "            <tr>\n",
       "                        <th id=\"T_d0f2724a_0a1a_11ea_a6fb_107b449f15fclevel0_row9\" class=\"row_heading level0 row9\" >живой_мертвец</th>\n",
       "                        <td id=\"T_d0f2724a_0a1a_11ea_a6fb_107b449f15fcrow9_col0\" class=\"data row9 col0\" >0.00632</td>\n",
       "            </tr>\n",
       "    </tbody></table><style  type=\"text/css\" >\n",
       "</style><table id=\"T_d0f2724b_0a1a_11ea_a6fb_107b449f15fc\" style='display:inline'><thead>    <tr>        <th class=\"blank level0\" ></th>        <th class=\"col_heading level0 col0\" >topic_11 @3gramm</th>    </tr></thead><tbody>\n",
       "                <tr>\n",
       "                        <th id=\"T_d0f2724b_0a1a_11ea_a6fb_107b449f15fclevel0_row0\" class=\"row_heading level0 row0\" >середина_xx_век</th>\n",
       "                        <td id=\"T_d0f2724b_0a1a_11ea_a6fb_107b449f15fcrow0_col0\" class=\"data row0 col0\" >0.37052</td>\n",
       "            </tr>\n",
       "            <tr>\n",
       "                        <th id=\"T_d0f2724b_0a1a_11ea_a6fb_107b449f15fclevel0_row1\" class=\"row_heading level0 row1\" >середина_хх_век</th>\n",
       "                        <td id=\"T_d0f2724b_0a1a_11ea_a6fb_107b449f15fcrow1_col0\" class=\"data row1 col0\" >0.13404</td>\n",
       "            </tr>\n",
       "            <tr>\n",
       "                        <th id=\"T_d0f2724b_0a1a_11ea_a6fb_107b449f15fclevel0_row2\" class=\"row_heading level0 row2\" >происхождение_человеческий_раса</th>\n",
       "                        <td id=\"T_d0f2724b_0a1a_11ea_a6fb_107b449f15fcrow2_col0\" class=\"data row2 col0\" >0.07029</td>\n",
       "            </tr>\n",
       "            <tr>\n",
       "                        <th id=\"T_d0f2724b_0a1a_11ea_a6fb_107b449f15fclevel0_row3\" class=\"row_heading level0 row3\" >двойной_звёздный_система</th>\n",
       "                        <td id=\"T_d0f2724b_0a1a_11ea_a6fb_107b449f15fcrow3_col0\" class=\"data row3 col0\" >0.07022</td>\n",
       "            </tr>\n",
       "            <tr>\n",
       "                        <th id=\"T_d0f2724b_0a1a_11ea_a6fb_107b449f15fclevel0_row4\" class=\"row_heading level0 row4\" >начало_прошлое_век</th>\n",
       "                        <td id=\"T_d0f2724b_0a1a_11ea_a6fb_107b449f15fcrow4_col0\" class=\"data row4 col0\" >0.05153</td>\n",
       "            </tr>\n",
       "            <tr>\n",
       "                        <th id=\"T_d0f2724b_0a1a_11ea_a6fb_107b449f15fclevel0_row5\" class=\"row_heading level0 row5\" >прямой_смысл_слово</th>\n",
       "                        <td id=\"T_d0f2724b_0a1a_11ea_a6fb_107b449f15fcrow5_col0\" class=\"data row5 col0\" >0.05124</td>\n",
       "            </tr>\n",
       "            <tr>\n",
       "                        <th id=\"T_d0f2724b_0a1a_11ea_a6fb_107b449f15fclevel0_row6\" class=\"row_heading level0 row6\" >являться_неотъемлемый_частью</th>\n",
       "                        <td id=\"T_d0f2724b_0a1a_11ea_a6fb_107b449f15fcrow6_col0\" class=\"data row6 col0\" >0.05094</td>\n",
       "            </tr>\n",
       "            <tr>\n",
       "                        <th id=\"T_d0f2724b_0a1a_11ea_a6fb_107b449f15fclevel0_row7\" class=\"row_heading level0 row7\" >крупный_город_россия</th>\n",
       "                        <td id=\"T_d0f2724b_0a1a_11ea_a6fb_107b449f15fcrow7_col0\" class=\"data row7 col0\" >0.04454</td>\n",
       "            </tr>\n",
       "            <tr>\n",
       "                        <th id=\"T_d0f2724b_0a1a_11ea_a6fb_107b449f15fclevel0_row8\" class=\"row_heading level0 row8\" >понимать_друг_друг</th>\n",
       "                        <td id=\"T_d0f2724b_0a1a_11ea_a6fb_107b449f15fcrow8_col0\" class=\"data row8 col0\" >0.03801</td>\n",
       "            </tr>\n",
       "            <tr>\n",
       "                        <th id=\"T_d0f2724b_0a1a_11ea_a6fb_107b449f15fclevel0_row9\" class=\"row_heading level0 row9\" >знать_друг_друг</th>\n",
       "                        <td id=\"T_d0f2724b_0a1a_11ea_a6fb_107b449f15fcrow9_col0\" class=\"data row9 col0\" >0.03173</td>\n",
       "            </tr>\n",
       "    </tbody></table><style  type=\"text/css\" >\n",
       "</style><table id=\"T_d0f2724c_0a1a_11ea_a6fb_107b449f15fc\" style='display:inline'><thead>    <tr>        <th class=\"blank level0\" ></th>        <th class=\"col_heading level0 col0\" >topic_11 @post_tag</th>    </tr></thead><tbody>\n",
       "                <tr>\n",
       "                        <th id=\"T_d0f2724c_0a1a_11ea_a6fb_107b449f15fclevel0_row0\" class=\"row_heading level0 row0\" >массовая_культура</th>\n",
       "                        <td id=\"T_d0f2724c_0a1a_11ea_a6fb_107b449f15fcrow0_col0\" class=\"data row0 col0\" >0.17379</td>\n",
       "            </tr>\n",
       "            <tr>\n",
       "                        <th id=\"T_d0f2724c_0a1a_11ea_a6fb_107b449f15fclevel0_row1\" class=\"row_heading level0 row1\" >культурология</th>\n",
       "                        <td id=\"T_d0f2724c_0a1a_11ea_a6fb_107b449f15fcrow1_col0\" class=\"data row1 col0\" >0.14595</td>\n",
       "            </tr>\n",
       "            <tr>\n",
       "                        <th id=\"T_d0f2724c_0a1a_11ea_a6fb_107b449f15fclevel0_row2\" class=\"row_heading level0 row2\" >культура</th>\n",
       "                        <td id=\"T_d0f2724c_0a1a_11ea_a6fb_107b449f15fcrow2_col0\" class=\"data row2 col0\" >0.11498</td>\n",
       "            </tr>\n",
       "            <tr>\n",
       "                        <th id=\"T_d0f2724c_0a1a_11ea_a6fb_107b449f15fclevel0_row3\" class=\"row_heading level0 row3\" >кино</th>\n",
       "                        <td id=\"T_d0f2724c_0a1a_11ea_a6fb_107b449f15fcrow3_col0\" class=\"data row3 col0\" >0.1058</td>\n",
       "            </tr>\n",
       "            <tr>\n",
       "                        <th id=\"T_d0f2724c_0a1a_11ea_a6fb_107b449f15fclevel0_row4\" class=\"row_heading level0 row4\" >гендер</th>\n",
       "                        <td id=\"T_d0f2724c_0a1a_11ea_a6fb_107b449f15fcrow4_col0\" class=\"data row4 col0\" >0.09302</td>\n",
       "            </tr>\n",
       "            <tr>\n",
       "                        <th id=\"T_d0f2724c_0a1a_11ea_a6fb_107b449f15fclevel0_row5\" class=\"row_heading level0 row5\" >кинематограф</th>\n",
       "                        <td id=\"T_d0f2724c_0a1a_11ea_a6fb_107b449f15fcrow5_col0\" class=\"data row5 col0\" >0.08314</td>\n",
       "            </tr>\n",
       "            <tr>\n",
       "                        <th id=\"T_d0f2724c_0a1a_11ea_a6fb_107b449f15fclevel0_row6\" class=\"row_heading level0 row6\" >расоведение</th>\n",
       "                        <td id=\"T_d0f2724c_0a1a_11ea_a6fb_107b449f15fcrow6_col0\" class=\"data row6 col0\" >0.0405</td>\n",
       "            </tr>\n",
       "            <tr>\n",
       "                        <th id=\"T_d0f2724c_0a1a_11ea_a6fb_107b449f15fclevel0_row7\" class=\"row_heading level0 row7\" >феминизм</th>\n",
       "                        <td id=\"T_d0f2724c_0a1a_11ea_a6fb_107b449f15fcrow7_col0\" class=\"data row7 col0\" >0.03261</td>\n",
       "            </tr>\n",
       "            <tr>\n",
       "                        <th id=\"T_d0f2724c_0a1a_11ea_a6fb_107b449f15fclevel0_row8\" class=\"row_heading level0 row8\" >раса</th>\n",
       "                        <td id=\"T_d0f2724c_0a1a_11ea_a6fb_107b449f15fcrow8_col0\" class=\"data row8 col0\" >0.01757</td>\n",
       "            </tr>\n",
       "            <tr>\n",
       "                        <th id=\"T_d0f2724c_0a1a_11ea_a6fb_107b449f15fclevel0_row9\" class=\"row_heading level0 row9\" >паракинематограф</th>\n",
       "                        <td id=\"T_d0f2724c_0a1a_11ea_a6fb_107b449f15fcrow9_col0\" class=\"data row9 col0\" >0.01257</td>\n",
       "            </tr>\n",
       "    </tbody></table><style  type=\"text/css\" >\n",
       "</style><table id=\"T_d0f2724d_0a1a_11ea_a6fb_107b449f15fc\" style='display:inline'><thead>    <tr>        <th class=\"blank level0\" ></th>        <th class=\"col_heading level0 col0\" >topic_11 @word</th>    </tr></thead><tbody>\n",
       "                <tr>\n",
       "                        <th id=\"T_d0f2724d_0a1a_11ea_a6fb_107b449f15fclevel0_row0\" class=\"row_heading level0 row0\" >фильм</th>\n",
       "                        <td id=\"T_d0f2724d_0a1a_11ea_a6fb_107b449f15fcrow0_col0\" class=\"data row0 col0\" >0.01665</td>\n",
       "            </tr>\n",
       "            <tr>\n",
       "                        <th id=\"T_d0f2724d_0a1a_11ea_a6fb_107b449f15fclevel0_row1\" class=\"row_heading level0 row1\" >женщина</th>\n",
       "                        <td id=\"T_d0f2724d_0a1a_11ea_a6fb_107b449f15fcrow1_col0\" class=\"data row1 col0\" >0.0082</td>\n",
       "            </tr>\n",
       "            <tr>\n",
       "                        <th id=\"T_d0f2724d_0a1a_11ea_a6fb_107b449f15fclevel0_row2\" class=\"row_heading level0 row2\" >кино</th>\n",
       "                        <td id=\"T_d0f2724d_0a1a_11ea_a6fb_107b449f15fcrow2_col0\" class=\"data row2 col0\" >0.00711</td>\n",
       "            </tr>\n",
       "            <tr>\n",
       "                        <th id=\"T_d0f2724d_0a1a_11ea_a6fb_107b449f15fclevel0_row3\" class=\"row_heading level0 row3\" >книга</th>\n",
       "                        <td id=\"T_d0f2724d_0a1a_11ea_a6fb_107b449f15fcrow3_col0\" class=\"data row3 col0\" >0.00573</td>\n",
       "            </tr>\n",
       "            <tr>\n",
       "                        <th id=\"T_d0f2724d_0a1a_11ea_a6fb_107b449f15fclevel0_row4\" class=\"row_heading level0 row4\" >культура</th>\n",
       "                        <td id=\"T_d0f2724d_0a1a_11ea_a6fb_107b449f15fcrow4_col0\" class=\"data row4 col0\" >0.00572</td>\n",
       "            </tr>\n",
       "            <tr>\n",
       "                        <th id=\"T_d0f2724d_0a1a_11ea_a6fb_107b449f15fclevel0_row5\" class=\"row_heading level0 row5\" >мужчина</th>\n",
       "                        <td id=\"T_d0f2724d_0a1a_11ea_a6fb_107b449f15fcrow5_col0\" class=\"data row5 col0\" >0.00543</td>\n",
       "            </tr>\n",
       "            <tr>\n",
       "                        <th id=\"T_d0f2724d_0a1a_11ea_a6fb_107b449f15fclevel0_row6\" class=\"row_heading level0 row6\" >кинематограф</th>\n",
       "                        <td id=\"T_d0f2724d_0a1a_11ea_a6fb_107b449f15fcrow6_col0\" class=\"data row6 col0\" >0.00427</td>\n",
       "            </tr>\n",
       "            <tr>\n",
       "                        <th id=\"T_d0f2724d_0a1a_11ea_a6fb_107b449f15fclevel0_row7\" class=\"row_heading level0 row7\" >зритель</th>\n",
       "                        <td id=\"T_d0f2724d_0a1a_11ea_a6fb_107b449f15fcrow7_col0\" class=\"data row7 col0\" >0.00377</td>\n",
       "            </tr>\n",
       "            <tr>\n",
       "                        <th id=\"T_d0f2724d_0a1a_11ea_a6fb_107b449f15fclevel0_row8\" class=\"row_heading level0 row8\" >тема</th>\n",
       "                        <td id=\"T_d0f2724d_0a1a_11ea_a6fb_107b449f15fcrow8_col0\" class=\"data row8 col0\" >0.0031</td>\n",
       "            </tr>\n",
       "            <tr>\n",
       "                        <th id=\"T_d0f2724d_0a1a_11ea_a6fb_107b449f15fclevel0_row9\" class=\"row_heading level0 row9\" >автор</th>\n",
       "                        <td id=\"T_d0f2724d_0a1a_11ea_a6fb_107b449f15fcrow9_col0\" class=\"data row9 col0\" >0.00294</td>\n",
       "            </tr>\n",
       "    </tbody></table>"
      ]
     },
     "metadata": {},
     "output_type": "display_data"
    },
    {
     "data": {
      "text/html": [
       "<b> штурмуя публичное пространствослова о гетеротопии плохого вкуса </b><br /> философ александр павлов о теории кэмпа сьюзен сонтаг, русской традиции кинокритики и утопии хорошего вкуса"
      ]
     },
     "metadata": {},
     "output_type": "display_data"
    },
    {
     "data": {
      "text/html": [
       "<b> гендерные исследования в cinema studies </b><br /> философ александр павлов о методах психоанализа в cinema studies, образе «последней девушки» и анализе кинематографа с позиций феминизма"
      ]
     },
     "metadata": {},
     "output_type": "display_data"
    },
    {
     "data": {
      "text/html": [
       "<b> главы # скрытые механизмы идеологии в \"бойцовском клубе\" </b><br /> отрывок из книги «постыдное удовольствиефилософские и социально-политические интерпретации массового кинематографа» философа александра павлова"
      ]
     },
     "metadata": {},
     "output_type": "display_data"
    },
    {
     "data": {
      "text/html": [
       "<b> cinema studies как дисциплина </b><br /> философ и культуролог александр павлов об исследованиях кинематографа на западе, главных теоретиках cinema studies и развитии этой дисциплины в россии"
      ]
     },
     "metadata": {},
     "output_type": "display_data"
    },
    {
     "data": {
      "text/html": [
       "<b> феномен happy end </b><br /> культуролог екатерина лапина-кратасюк о популярном кинематографе, фильмах жанра нуар и «кошмаре на улице вязов»"
      ]
     },
     "metadata": {},
     "output_type": "display_data"
    },
    {
     "data": {
      "text/html": [
       "<b> 5 книг о культовом кинематографе </b><br /> что читать о культовом кино, рекомендует доцент философского факультета ниу вшэ александр павлов"
      ]
     },
     "metadata": {},
     "output_type": "display_data"
    },
    {
     "data": {
      "text/html": [
       "<b> faqвзаимодействие рекламы и литературы </b><br /> 7 фактов о коммуникациях высокой и массовой культур в современном мире"
      ]
     },
     "metadata": {},
     "output_type": "display_data"
    },
    {
     "data": {
      "text/html": [
       "<b> 5 фильмов, раскрывающих образ ученого в популярной культуре </b><br /> кино, снятое по мотивам реальной жизни и исследований известных ученых, рекомендует культуролог александр павлов"
      ]
     },
     "metadata": {},
     "output_type": "display_data"
    },
    {
     "data": {
      "text/html": [
       "<b> 5 книг по расоведению </b><br /> что читать о современных достижениях расоведения и происхождении человеческих рас, рекомендует кандидат биологических наук станислав дробышевский"
      ]
     },
     "metadata": {},
     "output_type": "display_data"
    },
    {
     "data": {
      "text/html": [
       "<b> «хоббит»конфликт интерпретаций </b><br /> каковы скрытые и явные смысловые доминанты «хоббита» дж.р.р. толкина, которые в xxi стали препятствием для вхождения повести в систему массовой культуры?"
      ]
     },
     "metadata": {},
     "output_type": "display_data"
    },
    {
     "data": {
      "text/html": [
       "<style  type=\"text/css\" >\n",
       "</style><table id=\"T_d0f2724e_0a1a_11ea_a6fb_107b449f15fc\" style='display:inline'><thead>    <tr>        <th class=\"blank level0\" ></th>        <th class=\"col_heading level0 col0\" >topic_12 @2gramm</th>    </tr></thead><tbody>\n",
       "                <tr>\n",
       "                        <th id=\"T_d0f2724e_0a1a_11ea_a6fb_107b449f15fclevel0_row0\" class=\"row_heading level0 row0\" >ближний_восток</th>\n",
       "                        <td id=\"T_d0f2724e_0a1a_11ea_a6fb_107b449f15fcrow0_col0\" class=\"data row0 col0\" >0.01885</td>\n",
       "            </tr>\n",
       "            <tr>\n",
       "                        <th id=\"T_d0f2724e_0a1a_11ea_a6fb_107b449f15fclevel0_row1\" class=\"row_heading level0 row1\" >национальный_государство</th>\n",
       "                        <td id=\"T_d0f2724e_0a1a_11ea_a6fb_107b449f15fcrow1_col0\" class=\"data row1 col0\" >0.01688</td>\n",
       "            </tr>\n",
       "            <tr>\n",
       "                        <th id=\"T_d0f2724e_0a1a_11ea_a6fb_107b449f15fclevel0_row2\" class=\"row_heading level0 row2\" >северный_кавказ</th>\n",
       "                        <td id=\"T_d0f2724e_0a1a_11ea_a6fb_107b449f15fcrow2_col0\" class=\"data row2 col0\" >0.01638</td>\n",
       "            </tr>\n",
       "            <tr>\n",
       "                        <th id=\"T_d0f2724e_0a1a_11ea_a6fb_107b449f15fclevel0_row3\" class=\"row_heading level0 row3\" >христианский_восток</th>\n",
       "                        <td id=\"T_d0f2724e_0a1a_11ea_a6fb_107b449f15fcrow3_col0\" class=\"data row3 col0\" >0.01573</td>\n",
       "            </tr>\n",
       "            <tr>\n",
       "                        <th id=\"T_d0f2724e_0a1a_11ea_a6fb_107b449f15fclevel0_row4\" class=\"row_heading level0 row4\" >саудовский_аравия</th>\n",
       "                        <td id=\"T_d0f2724e_0a1a_11ea_a6fb_107b449f15fcrow4_col0\" class=\"data row4 col0\" >0.00894</td>\n",
       "            </tr>\n",
       "            <tr>\n",
       "                        <th id=\"T_d0f2724e_0a1a_11ea_a6fb_107b449f15fclevel0_row5\" class=\"row_heading level0 row5\" >арабский_весна</th>\n",
       "                        <td id=\"T_d0f2724e_0a1a_11ea_a6fb_107b449f15fcrow5_col0\" class=\"data row5 col0\" >0.0073</td>\n",
       "            </tr>\n",
       "            <tr>\n",
       "                        <th id=\"T_d0f2724e_0a1a_11ea_a6fb_107b449f15fclevel0_row6\" class=\"row_heading level0 row6\" >vii_век</th>\n",
       "                        <td id=\"T_d0f2724e_0a1a_11ea_a6fb_107b449f15fcrow6_col0\" class=\"data row6 col0\" >0.00725</td>\n",
       "            </tr>\n",
       "            <tr>\n",
       "                        <th id=\"T_d0f2724e_0a1a_11ea_a6fb_107b449f15fclevel0_row7\" class=\"row_heading level0 row7\" >арамейский_язык</th>\n",
       "                        <td id=\"T_d0f2724e_0a1a_11ea_a6fb_107b449f15fcrow7_col0\" class=\"data row7 col0\" >0.00665</td>\n",
       "            </tr>\n",
       "            <tr>\n",
       "                        <th id=\"T_d0f2724e_0a1a_11ea_a6fb_107b449f15fclevel0_row8\" class=\"row_heading level0 row8\" >христианский_культура</th>\n",
       "                        <td id=\"T_d0f2724e_0a1a_11ea_a6fb_107b449f15fcrow8_col0\" class=\"data row8 col0\" >0.00661</td>\n",
       "            </tr>\n",
       "            <tr>\n",
       "                        <th id=\"T_d0f2724e_0a1a_11ea_a6fb_107b449f15fclevel0_row9\" class=\"row_heading level0 row9\" >арабский_страна</th>\n",
       "                        <td id=\"T_d0f2724e_0a1a_11ea_a6fb_107b449f15fcrow9_col0\" class=\"data row9 col0\" >0.00602</td>\n",
       "            </tr>\n",
       "    </tbody></table><style  type=\"text/css\" >\n",
       "</style><table id=\"T_d0f2724f_0a1a_11ea_a6fb_107b449f15fc\" style='display:inline'><thead>    <tr>        <th class=\"blank level0\" ></th>        <th class=\"col_heading level0 col0\" >topic_12 @3gramm</th>    </tr></thead><tbody>\n",
       "                <tr>\n",
       "                        <th id=\"T_d0f2724f_0a1a_11ea_a6fb_107b449f15fclevel0_row0\" class=\"row_heading level0 row0\" >начало_хх_век</th>\n",
       "                        <td id=\"T_d0f2724f_0a1a_11ea_a6fb_107b449f15fcrow0_col0\" class=\"data row0 col0\" >0.28533</td>\n",
       "            </tr>\n",
       "            <tr>\n",
       "                        <th id=\"T_d0f2724f_0a1a_11ea_a6fb_107b449f15fclevel0_row1\" class=\"row_heading level0 row1\" >высокий_психический_функция</th>\n",
       "                        <td id=\"T_d0f2724f_0a1a_11ea_a6fb_107b449f15fcrow1_col0\" class=\"data row1 col0\" >0.09005</td>\n",
       "            </tr>\n",
       "            <tr>\n",
       "                        <th id=\"T_d0f2724f_0a1a_11ea_a6fb_107b449f15fclevel0_row2\" class=\"row_heading level0 row2\" >выглядеть_следующий_образ</th>\n",
       "                        <td id=\"T_d0f2724f_0a1a_11ea_a6fb_107b449f15fcrow2_col0\" class=\"data row2 col0\" >0.08111</td>\n",
       "            </tr>\n",
       "            <tr>\n",
       "                        <th id=\"T_d0f2724f_0a1a_11ea_a6fb_107b449f15fclevel0_row3\" class=\"row_heading level0 row3\" >культура_христианский_восток</th>\n",
       "                        <td id=\"T_d0f2724f_0a1a_11ea_a6fb_107b449f15fcrow3_col0\" class=\"data row3 col0\" >0.07509</td>\n",
       "            </tr>\n",
       "            <tr>\n",
       "                        <th id=\"T_d0f2724f_0a1a_11ea_a6fb_107b449f15fclevel0_row4\" class=\"row_heading level0 row4\" >объяснять_общепринятый_заблуждение</th>\n",
       "                        <td id=\"T_d0f2724f_0a1a_11ea_a6fb_107b449f15fcrow4_col0\" class=\"data row4 col0\" >0.06737</td>\n",
       "            </tr>\n",
       "            <tr>\n",
       "                        <th id=\"T_d0f2724f_0a1a_11ea_a6fb_107b449f15fclevel0_row5\" class=\"row_heading level0 row5\" >цивилизация_христианский_восток</th>\n",
       "                        <td id=\"T_d0f2724f_0a1a_11ea_a6fb_107b449f15fcrow5_col0\" class=\"data row5 col0\" >0.06002</td>\n",
       "            </tr>\n",
       "            <tr>\n",
       "                        <th id=\"T_d0f2724f_0a1a_11ea_a6fb_107b449f15fclevel0_row6\" class=\"row_heading level0 row6\" >иной_устояться_представление</th>\n",
       "                        <td id=\"T_d0f2724f_0a1a_11ea_a6fb_107b449f15fcrow6_col0\" class=\"data row6 col0\" >0.03743</td>\n",
       "            </tr>\n",
       "            <tr>\n",
       "                        <th id=\"T_d0f2724f_0a1a_11ea_a6fb_107b449f15fclevel0_row7\" class=\"row_heading level0 row7\" >середина_vii_век</th>\n",
       "                        <td id=\"T_d0f2724f_0a1a_11ea_a6fb_107b449f15fcrow7_col0\" class=\"data row7 col0\" >0.03743</td>\n",
       "            </tr>\n",
       "            <tr>\n",
       "                        <th id=\"T_d0f2724f_0a1a_11ea_a6fb_107b449f15fclevel0_row8\" class=\"row_heading level0 row8\" >большой_количество_разный</th>\n",
       "                        <td id=\"T_d0f2724f_0a1a_11ea_a6fb_107b449f15fcrow8_col0\" class=\"data row8 col0\" >0.03732</td>\n",
       "            </tr>\n",
       "            <tr>\n",
       "                        <th id=\"T_d0f2724f_0a1a_11ea_a6fb_107b449f15fclevel0_row9\" class=\"row_heading level0 row9\" >довольно_большой_группа</th>\n",
       "                        <td id=\"T_d0f2724f_0a1a_11ea_a6fb_107b449f15fcrow9_col0\" class=\"data row9 col0\" >0.03028</td>\n",
       "            </tr>\n",
       "    </tbody></table><style  type=\"text/css\" >\n",
       "</style><table id=\"T_d0f27250_0a1a_11ea_a6fb_107b449f15fc\" style='display:inline'><thead>    <tr>        <th class=\"blank level0\" ></th>        <th class=\"col_heading level0 col0\" >topic_12 @post_tag</th>    </tr></thead><tbody>\n",
       "                <tr>\n",
       "                        <th id=\"T_d0f27250_0a1a_11ea_a6fb_107b449f15fclevel0_row0\" class=\"row_heading level0 row0\" >политология</th>\n",
       "                        <td id=\"T_d0f27250_0a1a_11ea_a6fb_107b449f15fcrow0_col0\" class=\"data row0 col0\" >0.13395</td>\n",
       "            </tr>\n",
       "            <tr>\n",
       "                        <th id=\"T_d0f27250_0a1a_11ea_a6fb_107b449f15fclevel0_row1\" class=\"row_heading level0 row1\" >идентичность</th>\n",
       "                        <td id=\"T_d0f27250_0a1a_11ea_a6fb_107b449f15fcrow1_col0\" class=\"data row1 col0\" >0.07312</td>\n",
       "            </tr>\n",
       "            <tr>\n",
       "                        <th id=\"T_d0f27250_0a1a_11ea_a6fb_107b449f15fclevel0_row2\" class=\"row_heading level0 row2\" >востоковедение</th>\n",
       "                        <td id=\"T_d0f27250_0a1a_11ea_a6fb_107b449f15fcrow2_col0\" class=\"data row2 col0\" >0.07046</td>\n",
       "            </tr>\n",
       "            <tr>\n",
       "                        <th id=\"T_d0f27250_0a1a_11ea_a6fb_107b449f15fclevel0_row3\" class=\"row_heading level0 row3\" >нация</th>\n",
       "                        <td id=\"T_d0f27250_0a1a_11ea_a6fb_107b449f15fcrow3_col0\" class=\"data row3 col0\" >0.06461</td>\n",
       "            </tr>\n",
       "            <tr>\n",
       "                        <th id=\"T_d0f27250_0a1a_11ea_a6fb_107b449f15fclevel0_row4\" class=\"row_heading level0 row4\" >ислам</th>\n",
       "                        <td id=\"T_d0f27250_0a1a_11ea_a6fb_107b449f15fcrow4_col0\" class=\"data row4 col0\" >0.05999</td>\n",
       "            </tr>\n",
       "            <tr>\n",
       "                        <th id=\"T_d0f27250_0a1a_11ea_a6fb_107b449f15fclevel0_row5\" class=\"row_heading level0 row5\" >политика</th>\n",
       "                        <td id=\"T_d0f27250_0a1a_11ea_a6fb_107b449f15fcrow5_col0\" class=\"data row5 col0\" >0.05842</td>\n",
       "            </tr>\n",
       "            <tr>\n",
       "                        <th id=\"T_d0f27250_0a1a_11ea_a6fb_107b449f15fclevel0_row6\" class=\"row_heading level0 row6\" >национализм</th>\n",
       "                        <td id=\"T_d0f27250_0a1a_11ea_a6fb_107b449f15fcrow6_col0\" class=\"data row6 col0\" >0.04792</td>\n",
       "            </tr>\n",
       "            <tr>\n",
       "                        <th id=\"T_d0f27250_0a1a_11ea_a6fb_107b449f15fclevel0_row7\" class=\"row_heading level0 row7\" >кавказ</th>\n",
       "                        <td id=\"T_d0f27250_0a1a_11ea_a6fb_107b449f15fcrow7_col0\" class=\"data row7 col0\" >0.04372</td>\n",
       "            </tr>\n",
       "            <tr>\n",
       "                        <th id=\"T_d0f27250_0a1a_11ea_a6fb_107b449f15fclevel0_row8\" class=\"row_heading level0 row8\" >миграция</th>\n",
       "                        <td id=\"T_d0f27250_0a1a_11ea_a6fb_107b449f15fcrow8_col0\" class=\"data row8 col0\" >0.04302</td>\n",
       "            </tr>\n",
       "            <tr>\n",
       "                        <th id=\"T_d0f27250_0a1a_11ea_a6fb_107b449f15fclevel0_row9\" class=\"row_heading level0 row9\" >религия</th>\n",
       "                        <td id=\"T_d0f27250_0a1a_11ea_a6fb_107b449f15fcrow9_col0\" class=\"data row9 col0\" >0.03346</td>\n",
       "            </tr>\n",
       "    </tbody></table><style  type=\"text/css\" >\n",
       "</style><table id=\"T_d0f27251_0a1a_11ea_a6fb_107b449f15fc\" style='display:inline'><thead>    <tr>        <th class=\"blank level0\" ></th>        <th class=\"col_heading level0 col0\" >topic_12 @word</th>    </tr></thead><tbody>\n",
       "                <tr>\n",
       "                        <th id=\"T_d0f27251_0a1a_11ea_a6fb_107b449f15fclevel0_row0\" class=\"row_heading level0 row0\" >государство</th>\n",
       "                        <td id=\"T_d0f27251_0a1a_11ea_a6fb_107b449f15fcrow0_col0\" class=\"data row0 col0\" >0.00721</td>\n",
       "            </tr>\n",
       "            <tr>\n",
       "                        <th id=\"T_d0f27251_0a1a_11ea_a6fb_107b449f15fclevel0_row1\" class=\"row_heading level0 row1\" >культура</th>\n",
       "                        <td id=\"T_d0f27251_0a1a_11ea_a6fb_107b449f15fcrow1_col0\" class=\"data row1 col0\" >0.00427</td>\n",
       "            </tr>\n",
       "            <tr>\n",
       "                        <th id=\"T_d0f27251_0a1a_11ea_a6fb_107b449f15fclevel0_row2\" class=\"row_heading level0 row2\" >политический</th>\n",
       "                        <td id=\"T_d0f27251_0a1a_11ea_a6fb_107b449f15fcrow2_col0\" class=\"data row2 col0\" >0.00403</td>\n",
       "            </tr>\n",
       "            <tr>\n",
       "                        <th id=\"T_d0f27251_0a1a_11ea_a6fb_107b449f15fclevel0_row3\" class=\"row_heading level0 row3\" >идентичность</th>\n",
       "                        <td id=\"T_d0f27251_0a1a_11ea_a6fb_107b449f15fcrow3_col0\" class=\"data row3 col0\" >0.00403</td>\n",
       "            </tr>\n",
       "            <tr>\n",
       "                        <th id=\"T_d0f27251_0a1a_11ea_a6fb_107b449f15fclevel0_row4\" class=\"row_heading level0 row4\" >нация</th>\n",
       "                        <td id=\"T_d0f27251_0a1a_11ea_a6fb_107b449f15fcrow4_col0\" class=\"data row4 col0\" >0.00401</td>\n",
       "            </tr>\n",
       "            <tr>\n",
       "                        <th id=\"T_d0f27251_0a1a_11ea_a6fb_107b449f15fclevel0_row5\" class=\"row_heading level0 row5\" >арабский</th>\n",
       "                        <td id=\"T_d0f27251_0a1a_11ea_a6fb_107b449f15fcrow5_col0\" class=\"data row5 col0\" >0.00401</td>\n",
       "            </tr>\n",
       "            <tr>\n",
       "                        <th id=\"T_d0f27251_0a1a_11ea_a6fb_107b449f15fclevel0_row6\" class=\"row_heading level0 row6\" >политика</th>\n",
       "                        <td id=\"T_d0f27251_0a1a_11ea_a6fb_107b449f15fcrow6_col0\" class=\"data row6 col0\" >0.00398</td>\n",
       "            </tr>\n",
       "            <tr>\n",
       "                        <th id=\"T_d0f27251_0a1a_11ea_a6fb_107b449f15fclevel0_row7\" class=\"row_heading level0 row7\" >группа</th>\n",
       "                        <td id=\"T_d0f27251_0a1a_11ea_a6fb_107b449f15fcrow7_col0\" class=\"data row7 col0\" >0.00392</td>\n",
       "            </tr>\n",
       "            <tr>\n",
       "                        <th id=\"T_d0f27251_0a1a_11ea_a6fb_107b449f15fclevel0_row8\" class=\"row_heading level0 row8\" >страна</th>\n",
       "                        <td id=\"T_d0f27251_0a1a_11ea_a6fb_107b449f15fcrow8_col0\" class=\"data row8 col0\" >0.00364</td>\n",
       "            </tr>\n",
       "            <tr>\n",
       "                        <th id=\"T_d0f27251_0a1a_11ea_a6fb_107b449f15fclevel0_row9\" class=\"row_heading level0 row9\" >мусульманин</th>\n",
       "                        <td id=\"T_d0f27251_0a1a_11ea_a6fb_107b449f15fcrow9_col0\" class=\"data row9 col0\" >0.00349</td>\n",
       "            </tr>\n",
       "    </tbody></table>"
      ]
     },
     "metadata": {},
     "output_type": "display_data"
    },
    {
     "data": {
      "text/html": [
       "<b> культура арабов-христиан до ислама </b><br /> историк алексей муравьёв об арабских племенах сирии и месопотамии, доисламском христианстве в южной аравии и трудностях изучения этих культур"
      ]
     },
     "metadata": {},
     "output_type": "display_data"
    },
    {
     "data": {
      "text/html": [
       "<b> главыновые войны и политика </b><br /> отрывок из книги «новые и старые войны» политолога мэри калдор о новом типе организованного насилия"
      ]
     },
     "metadata": {},
     "output_type": "display_data"
    },
    {
     "data": {
      "text/html": [
       "<b> политическая история христианского востока </b><br /> историк алексей муравьёв о локальных цивилизациях древнего востока, миссионерских проектах и христианстве в эпоху арабских завоеваний"
      ]
     },
     "metadata": {},
     "output_type": "display_data"
    },
    {
     "data": {
      "text/html": [
       "<b> культура арабов-христиан после vii века </b><br /> историк алексей муравьёв об арабо-христианской литературе, культурном взаимодействии и «винной поэзии»"
      ]
     },
     "metadata": {},
     "output_type": "display_data"
    },
    {
     "data": {
      "text/html": [
       "<b> главы # гражданство и национальность </b><br /> отрывок из книги  «культурные различия и политические границы в эпоху глобальных миграций» политолога владимира малахова"
      ]
     },
     "metadata": {},
     "output_type": "display_data"
    },
    {
     "data": {
      "text/html": [
       "<b> функция счета и технический прогресс </b><br /> психолог александр тхостов о высших психических функциях, объеме памяти и утрате навыков устного счета"
      ]
     },
     "metadata": {},
     "output_type": "display_data"
    },
    {
     "data": {
      "text/html": [
       "<b> цивилизации христианского востока </b><br /> историк алексей муравьёв о цивилизационных кругах востока, влиянии религии на культурные традиции и механизмах передачи христианского наследия"
      ]
     },
     "metadata": {},
     "output_type": "display_data"
    },
    {
     "data": {
      "text/html": [
       "<b> культура христианского востока </b><br /> курс лекций историка алексея муравьева о языковом и культурном разнообразии цивилизации христианского востока"
      ]
     },
     "metadata": {},
     "output_type": "display_data"
    },
    {
     "data": {
      "text/html": [
       "<b> эфиопская христианская культура </b><br /> историк алексей муравьёв о христианизации эфиопии, языке геэз и главных задачах эфиопистики"
      ]
     },
     "metadata": {},
     "output_type": "display_data"
    },
    {
     "data": {
      "text/html": [
       "<b> главынациональные контексты </b><br /> отрывок из книги «интеграция мигрантовконцепции и практики» политолога владимира малахова об особенностях поведения государств по отношению к иммигрантам"
      ]
     },
     "metadata": {},
     "output_type": "display_data"
    },
    {
     "data": {
      "text/html": [
       "<style  type=\"text/css\" >\n",
       "</style><table id=\"T_d0f27252_0a1a_11ea_a6fb_107b449f15fc\" style='display:inline'><thead>    <tr>        <th class=\"blank level0\" ></th>        <th class=\"col_heading level0 col0\" >topic_13 @2gramm</th>    </tr></thead><tbody>\n",
       "                <tr>\n",
       "                        <th id=\"T_d0f27252_0a1a_11ea_a6fb_107b449f15fclevel0_row0\" class=\"row_heading level0 row0\" >чёрный_дыра</th>\n",
       "                        <td id=\"T_d0f27252_0a1a_11ea_a6fb_107b449f15fcrow0_col0\" class=\"data row0 col0\" >0.09924</td>\n",
       "            </tr>\n",
       "            <tr>\n",
       "                        <th id=\"T_d0f27252_0a1a_11ea_a6fb_107b449f15fclevel0_row1\" class=\"row_heading level0 row1\" >нейтронный_звезда</th>\n",
       "                        <td id=\"T_d0f27252_0a1a_11ea_a6fb_107b449f15fcrow1_col0\" class=\"data row1 col0\" >0.05448</td>\n",
       "            </tr>\n",
       "            <tr>\n",
       "                        <th id=\"T_d0f27252_0a1a_11ea_a6fb_107b449f15fclevel0_row2\" class=\"row_heading level0 row2\" >белый_карлик</th>\n",
       "                        <td id=\"T_d0f27252_0a1a_11ea_a6fb_107b449f15fcrow2_col0\" class=\"data row2 col0\" >0.01196</td>\n",
       "            </tr>\n",
       "            <tr>\n",
       "                        <th id=\"T_d0f27252_0a1a_11ea_a6fb_107b449f15fclevel0_row3\" class=\"row_heading level0 row3\" >белых_карлик</th>\n",
       "                        <td id=\"T_d0f27252_0a1a_11ea_a6fb_107b449f15fcrow3_col0\" class=\"data row3 col0\" >0.01179</td>\n",
       "            </tr>\n",
       "            <tr>\n",
       "                        <th id=\"T_d0f27252_0a1a_11ea_a6fb_107b449f15fclevel0_row4\" class=\"row_heading level0 row4\" >компактный_объект</th>\n",
       "                        <td id=\"T_d0f27252_0a1a_11ea_a6fb_107b449f15fcrow4_col0\" class=\"data row4 col0\" >0.00957</td>\n",
       "            </tr>\n",
       "            <tr>\n",
       "                        <th id=\"T_d0f27252_0a1a_11ea_a6fb_107b449f15fclevel0_row5\" class=\"row_heading level0 row5\" >звёздный_скопление</th>\n",
       "                        <td id=\"T_d0f27252_0a1a_11ea_a6fb_107b449f15fcrow5_col0\" class=\"data row5 col0\" >0.00939</td>\n",
       "            </tr>\n",
       "            <tr>\n",
       "                        <th id=\"T_d0f27252_0a1a_11ea_a6fb_107b449f15fclevel0_row6\" class=\"row_heading level0 row6\" >зона_обитаемость</th>\n",
       "                        <td id=\"T_d0f27252_0a1a_11ea_a6fb_107b449f15fcrow6_col0\" class=\"data row6 col0\" >0.00866</td>\n",
       "            </tr>\n",
       "            <tr>\n",
       "                        <th id=\"T_d0f27252_0a1a_11ea_a6fb_107b449f15fclevel0_row7\" class=\"row_heading level0 row7\" >спиральный_галактика</th>\n",
       "                        <td id=\"T_d0f27252_0a1a_11ea_a6fb_107b449f15fcrow7_col0\" class=\"data row7 col0\" >0.00819</td>\n",
       "            </tr>\n",
       "            <tr>\n",
       "                        <th id=\"T_d0f27252_0a1a_11ea_a6fb_107b449f15fclevel0_row8\" class=\"row_heading level0 row8\" >химический_состав</th>\n",
       "                        <td id=\"T_d0f27252_0a1a_11ea_a6fb_107b449f15fcrow8_col0\" class=\"data row8 col0\" >0.00762</td>\n",
       "            </tr>\n",
       "            <tr>\n",
       "                        <th id=\"T_d0f27252_0a1a_11ea_a6fb_107b449f15fclevel0_row9\" class=\"row_heading level0 row9\" >млечный_путь</th>\n",
       "                        <td id=\"T_d0f27252_0a1a_11ea_a6fb_107b449f15fcrow9_col0\" class=\"data row9 col0\" >0.00734</td>\n",
       "            </tr>\n",
       "    </tbody></table><style  type=\"text/css\" >\n",
       "</style><table id=\"T_d0f27253_0a1a_11ea_a6fb_107b449f15fc\" style='display:inline'><thead>    <tr>        <th class=\"blank level0\" ></th>        <th class=\"col_heading level0 col0\" >topic_13 @3gramm</th>    </tr></thead><tbody>\n",
       "                <tr>\n",
       "                        <th id=\"T_d0f27253_0a1a_11ea_a6fb_107b449f15fclevel0_row0\" class=\"row_heading level0 row0\" >сверхмассивный_чёрный_дыра</th>\n",
       "                        <td id=\"T_d0f27253_0a1a_11ea_a6fb_107b449f15fcrow0_col0\" class=\"data row0 col0\" >0.27746</td>\n",
       "            </tr>\n",
       "            <tr>\n",
       "                        <th id=\"T_d0f27253_0a1a_11ea_a6fb_107b449f15fclevel0_row1\" class=\"row_heading level0 row1\" >масса_чёрный_дыра</th>\n",
       "                        <td id=\"T_d0f27253_0a1a_11ea_a6fb_107b449f15fcrow1_col0\" class=\"data row1 col0\" >0.06934</td>\n",
       "            </tr>\n",
       "            <tr>\n",
       "                        <th id=\"T_d0f27253_0a1a_11ea_a6fb_107b449f15fclevel0_row2\" class=\"row_heading level0 row2\" >активный_ядро_галактика</th>\n",
       "                        <td id=\"T_d0f27253_0a1a_11ea_a6fb_107b449f15fcrow2_col0\" class=\"data row2 col0\" >0.04704</td>\n",
       "            </tr>\n",
       "            <tr>\n",
       "                        <th id=\"T_d0f27253_0a1a_11ea_a6fb_107b449f15fclevel0_row3\" class=\"row_heading level0 row3\" >чёрный_дыра_являться</th>\n",
       "                        <td id=\"T_d0f27253_0a1a_11ea_a6fb_107b449f15fcrow3_col0\" class=\"data row3 col0\" >0.04237</td>\n",
       "            </tr>\n",
       "            <tr>\n",
       "                        <th id=\"T_d0f27253_0a1a_11ea_a6fb_107b449f15fclevel0_row4\" class=\"row_heading level0 row4\" >массивный_чёрный_дыра</th>\n",
       "                        <td id=\"T_d0f27253_0a1a_11ea_a6fb_107b449f15fcrow4_col0\" class=\"data row4 col0\" >0.03851</td>\n",
       "            </tr>\n",
       "            <tr>\n",
       "                        <th id=\"T_d0f27253_0a1a_11ea_a6fb_107b449f15fclevel0_row5\" class=\"row_heading level0 row5\" >горизонт_чёрный_дыра</th>\n",
       "                        <td id=\"T_d0f27253_0a1a_11ea_a6fb_107b449f15fcrow5_col0\" class=\"data row5 col0\" >0.03851</td>\n",
       "            </tr>\n",
       "            <tr>\n",
       "                        <th id=\"T_d0f27253_0a1a_11ea_a6fb_107b449f15fclevel0_row6\" class=\"row_heading level0 row6\" >миллиард_солнечный_масса</th>\n",
       "                        <td id=\"T_d0f27253_0a1a_11ea_a6fb_107b449f15fcrow6_col0\" class=\"data row6 col0\" >0.03467</td>\n",
       "            </tr>\n",
       "            <tr>\n",
       "                        <th id=\"T_d0f27253_0a1a_11ea_a6fb_107b449f15fclevel0_row7\" class=\"row_heading level0 row7\" >миллион_масса_солнце</th>\n",
       "                        <td id=\"T_d0f27253_0a1a_11ea_a6fb_107b449f15fcrow7_col0\" class=\"data row7 col0\" >0.03466</td>\n",
       "            </tr>\n",
       "            <tr>\n",
       "                        <th id=\"T_d0f27253_0a1a_11ea_a6fb_107b449f15fclevel0_row8\" class=\"row_heading level0 row8\" >существование_чёрный_дыра</th>\n",
       "                        <td id=\"T_d0f27253_0a1a_11ea_a6fb_107b449f15fcrow8_col0\" class=\"data row8 col0\" >0.03465</td>\n",
       "            </tr>\n",
       "            <tr>\n",
       "                        <th id=\"T_d0f27253_0a1a_11ea_a6fb_107b449f15fclevel0_row9\" class=\"row_heading level0 row9\" >существовать_жидкий_вод</th>\n",
       "                        <td id=\"T_d0f27253_0a1a_11ea_a6fb_107b449f15fcrow9_col0\" class=\"data row9 col0\" >0.03455</td>\n",
       "            </tr>\n",
       "    </tbody></table><style  type=\"text/css\" >\n",
       "</style><table id=\"T_d0f27254_0a1a_11ea_a6fb_107b449f15fc\" style='display:inline'><thead>    <tr>        <th class=\"blank level0\" ></th>        <th class=\"col_heading level0 col0\" >topic_13 @post_tag</th>    </tr></thead><tbody>\n",
       "                <tr>\n",
       "                        <th id=\"T_d0f27254_0a1a_11ea_a6fb_107b449f15fclevel0_row0\" class=\"row_heading level0 row0\" >астрономия</th>\n",
       "                        <td id=\"T_d0f27254_0a1a_11ea_a6fb_107b449f15fcrow0_col0\" class=\"data row0 col0\" >0.16274</td>\n",
       "            </tr>\n",
       "            <tr>\n",
       "                        <th id=\"T_d0f27254_0a1a_11ea_a6fb_107b449f15fclevel0_row1\" class=\"row_heading level0 row1\" >астрофизика</th>\n",
       "                        <td id=\"T_d0f27254_0a1a_11ea_a6fb_107b449f15fcrow1_col0\" class=\"data row1 col0\" >0.13385</td>\n",
       "            </tr>\n",
       "            <tr>\n",
       "                        <th id=\"T_d0f27254_0a1a_11ea_a6fb_107b449f15fclevel0_row2\" class=\"row_heading level0 row2\" >звезды</th>\n",
       "                        <td id=\"T_d0f27254_0a1a_11ea_a6fb_107b449f15fcrow2_col0\" class=\"data row2 col0\" >0.12041</td>\n",
       "            </tr>\n",
       "            <tr>\n",
       "                        <th id=\"T_d0f27254_0a1a_11ea_a6fb_107b449f15fclevel0_row3\" class=\"row_heading level0 row3\" >галактика</th>\n",
       "                        <td id=\"T_d0f27254_0a1a_11ea_a6fb_107b449f15fcrow3_col0\" class=\"data row3 col0\" >0.07719</td>\n",
       "            </tr>\n",
       "            <tr>\n",
       "                        <th id=\"T_d0f27254_0a1a_11ea_a6fb_107b449f15fclevel0_row4\" class=\"row_heading level0 row4\" >космос</th>\n",
       "                        <td id=\"T_d0f27254_0a1a_11ea_a6fb_107b449f15fcrow4_col0\" class=\"data row4 col0\" >0.07086</td>\n",
       "            </tr>\n",
       "            <tr>\n",
       "                        <th id=\"T_d0f27254_0a1a_11ea_a6fb_107b449f15fclevel0_row5\" class=\"row_heading level0 row5\" >черные_дыры</th>\n",
       "                        <td id=\"T_d0f27254_0a1a_11ea_a6fb_107b449f15fcrow5_col0\" class=\"data row5 col0\" >0.0634</td>\n",
       "            </tr>\n",
       "            <tr>\n",
       "                        <th id=\"T_d0f27254_0a1a_11ea_a6fb_107b449f15fclevel0_row6\" class=\"row_heading level0 row6\" >вселенная</th>\n",
       "                        <td id=\"T_d0f27254_0a1a_11ea_a6fb_107b449f15fcrow6_col0\" class=\"data row6 col0\" >0.05482</td>\n",
       "            </tr>\n",
       "            <tr>\n",
       "                        <th id=\"T_d0f27254_0a1a_11ea_a6fb_107b449f15fclevel0_row7\" class=\"row_heading level0 row7\" >солнце</th>\n",
       "                        <td id=\"T_d0f27254_0a1a_11ea_a6fb_107b449f15fcrow7_col0\" class=\"data row7 col0\" >0.04195</td>\n",
       "            </tr>\n",
       "            <tr>\n",
       "                        <th id=\"T_d0f27254_0a1a_11ea_a6fb_107b449f15fclevel0_row8\" class=\"row_heading level0 row8\" >нейтронные_звезды</th>\n",
       "                        <td id=\"T_d0f27254_0a1a_11ea_a6fb_107b449f15fcrow8_col0\" class=\"data row8 col0\" >0.03685</td>\n",
       "            </tr>\n",
       "            <tr>\n",
       "                        <th id=\"T_d0f27254_0a1a_11ea_a6fb_107b449f15fclevel0_row9\" class=\"row_heading level0 row9\" >физика</th>\n",
       "                        <td id=\"T_d0f27254_0a1a_11ea_a6fb_107b449f15fcrow9_col0\" class=\"data row9 col0\" >0.02246</td>\n",
       "            </tr>\n",
       "    </tbody></table><style  type=\"text/css\" >\n",
       "</style><table id=\"T_d0f27255_0a1a_11ea_a6fb_107b449f15fc\" style='display:inline'><thead>    <tr>        <th class=\"blank level0\" ></th>        <th class=\"col_heading level0 col0\" >topic_13 @word</th>    </tr></thead><tbody>\n",
       "                <tr>\n",
       "                        <th id=\"T_d0f27255_0a1a_11ea_a6fb_107b449f15fclevel0_row0\" class=\"row_heading level0 row0\" >звезда</th>\n",
       "                        <td id=\"T_d0f27255_0a1a_11ea_a6fb_107b449f15fcrow0_col0\" class=\"data row0 col0\" >0.0321</td>\n",
       "            </tr>\n",
       "            <tr>\n",
       "                        <th id=\"T_d0f27255_0a1a_11ea_a6fb_107b449f15fclevel0_row1\" class=\"row_heading level0 row1\" >галактика</th>\n",
       "                        <td id=\"T_d0f27255_0a1a_11ea_a6fb_107b449f15fcrow1_col0\" class=\"data row1 col0\" >0.02105</td>\n",
       "            </tr>\n",
       "            <tr>\n",
       "                        <th id=\"T_d0f27255_0a1a_11ea_a6fb_107b449f15fclevel0_row2\" class=\"row_heading level0 row2\" >солнце</th>\n",
       "                        <td id=\"T_d0f27255_0a1a_11ea_a6fb_107b449f15fcrow2_col0\" class=\"data row2 col0\" >0.00963</td>\n",
       "            </tr>\n",
       "            <tr>\n",
       "                        <th id=\"T_d0f27255_0a1a_11ea_a6fb_107b449f15fclevel0_row3\" class=\"row_heading level0 row3\" >большой</th>\n",
       "                        <td id=\"T_d0f27255_0a1a_11ea_a6fb_107b449f15fcrow3_col0\" class=\"data row3 col0\" >0.00819</td>\n",
       "            </tr>\n",
       "            <tr>\n",
       "                        <th id=\"T_d0f27255_0a1a_11ea_a6fb_107b449f15fclevel0_row4\" class=\"row_heading level0 row4\" >телескоп</th>\n",
       "                        <td id=\"T_d0f27255_0a1a_11ea_a6fb_107b449f15fcrow4_col0\" class=\"data row4 col0\" >0.00642</td>\n",
       "            </tr>\n",
       "            <tr>\n",
       "                        <th id=\"T_d0f27255_0a1a_11ea_a6fb_107b449f15fclevel0_row5\" class=\"row_heading level0 row5\" >масса</th>\n",
       "                        <td id=\"T_d0f27255_0a1a_11ea_a6fb_107b449f15fcrow5_col0\" class=\"data row5 col0\" >0.00628</td>\n",
       "            </tr>\n",
       "            <tr>\n",
       "                        <th id=\"T_d0f27255_0a1a_11ea_a6fb_107b449f15fclevel0_row6\" class=\"row_heading level0 row6\" >происходить</th>\n",
       "                        <td id=\"T_d0f27255_0a1a_11ea_a6fb_107b449f15fcrow6_col0\" class=\"data row6 col0\" >0.00586</td>\n",
       "            </tr>\n",
       "            <tr>\n",
       "                        <th id=\"T_d0f27255_0a1a_11ea_a6fb_107b449f15fclevel0_row7\" class=\"row_heading level0 row7\" >находиться</th>\n",
       "                        <td id=\"T_d0f27255_0a1a_11ea_a6fb_107b449f15fcrow7_col0\" class=\"data row7 col0\" >0.00523</td>\n",
       "            </tr>\n",
       "            <tr>\n",
       "                        <th id=\"T_d0f27255_0a1a_11ea_a6fb_107b449f15fclevel0_row8\" class=\"row_heading level0 row8\" >астрономия</th>\n",
       "                        <td id=\"T_d0f27255_0a1a_11ea_a6fb_107b449f15fcrow8_col0\" class=\"data row8 col0\" >0.00485</td>\n",
       "            </tr>\n",
       "            <tr>\n",
       "                        <th id=\"T_d0f27255_0a1a_11ea_a6fb_107b449f15fclevel0_row9\" class=\"row_heading level0 row9\" >газа</th>\n",
       "                        <td id=\"T_d0f27255_0a1a_11ea_a6fb_107b449f15fcrow9_col0\" class=\"data row9 col0\" >0.00461</td>\n",
       "            </tr>\n",
       "    </tbody></table>"
      ]
     },
     "metadata": {},
     "output_type": "display_data"
    },
    {
     "data": {
      "text/html": [
       "<b> черные дыры в центрах галактик </b><br /> астрофизик ольга сильченко об открытии сверхмассивной черной дыры в туманности андромеды, исследованиях джона корменди и темных гравитирующих телах"
      ]
     },
     "metadata": {},
     "output_type": "display_data"
    },
    {
     "data": {
      "text/html": [
       "<b> главы # как все начиналось </b><br /> отрывок из книги «двигатели гравитации. как черные дыры управляют галактиками, звездами и жизнью в космосе» директора астробиологической обсерватории при колумбийском университете в нью-йорке kалеба шарфа"
      ]
     },
     "metadata": {},
     "output_type": "display_data"
    },
    {
     "data": {
      "text/html": [
       "<b> как были открыты черные дыры промежуточной массы? </b><br /> о методах определения массы черной дыры и загадке ультрамощных рентгеновских источников"
      ]
     },
     "metadata": {},
     "output_type": "display_data"
    },
    {
     "data": {
      "text/html": [
       "<b> галактический «каннибализм» </b><br /> астроном алексей расторгуев об испарении звезд, измерении массы млечного пути и слиянии галактик"
      ]
     },
     "metadata": {},
     "output_type": "display_data"
    },
    {
     "data": {
      "text/html": [
       "<b> черные дыры </b><br /> физик эмиль ахмедов об изучении черных дыр, карле шварцшильде и гигантских черных дырах"
      ]
     },
     "metadata": {},
     "output_type": "display_data"
    },
    {
     "data": {
      "text/html": [
       "<b> обнаружена самая яркая нейтронная звезда </b><br /> о пределе эддингтона, ультраярких рентгеновских источниках и тесных двойных системах"
      ]
     },
     "metadata": {},
     "output_type": "display_data"
    },
    {
     "data": {
      "text/html": [
       "<b> ударные волны вблизи компактных объектов </b><br /> астрофизик валерий сулейманов о нейтронных звездах, гравитации на космических кораблях и ньютоновском пределе"
      ]
     },
     "metadata": {},
     "output_type": "display_data"
    },
    {
     "data": {
      "text/html": [
       "<b> рентгеновское небо в фокусе </b><br /> астрофизик михаил ревнивцев о рентгеновских телескопах, болометрах и проекте обсерватории «спектр-рентген-гамма»"
      ]
     },
     "metadata": {},
     "output_type": "display_data"
    },
    {
     "data": {
      "text/html": [
       "<b> faqшаровые скопления </b><br /> 7 фактов об огромных и древних звёздных городах"
      ]
     },
     "metadata": {},
     "output_type": "display_data"
    },
    {
     "data": {
      "text/html": [
       "<b> природа космических радиоисточников </b><br /> астрофизик анатолий засов о синхротронном излучении, черных дырах в ядрах далеких галактик и нейтральном газе"
      ]
     },
     "metadata": {},
     "output_type": "display_data"
    },
    {
     "data": {
      "text/html": [
       "<style  type=\"text/css\" >\n",
       "</style><table id=\"T_d0f27256_0a1a_11ea_a6fb_107b449f15fc\" style='display:inline'><thead>    <tr>        <th class=\"blank level0\" ></th>        <th class=\"col_heading level0 col0\" >topic_14 @2gramm</th>    </tr></thead><tbody>\n",
       "                <tr>\n",
       "                        <th id=\"T_d0f27256_0a1a_11ea_a6fb_107b449f15fclevel0_row0\" class=\"row_heading level0 row0\" >промышленный_революция</th>\n",
       "                        <td id=\"T_d0f27256_0a1a_11ea_a6fb_107b449f15fcrow0_col0\" class=\"data row0 col0\" >0.0167</td>\n",
       "            </tr>\n",
       "            <tr>\n",
       "                        <th id=\"T_d0f27256_0a1a_11ea_a6fb_107b449f15fclevel0_row1\" class=\"row_heading level0 row1\" >центральный_банк</th>\n",
       "                        <td id=\"T_d0f27256_0a1a_11ea_a6fb_107b449f15fcrow1_col0\" class=\"data row1 col0\" >0.01521</td>\n",
       "            </tr>\n",
       "            <tr>\n",
       "                        <th id=\"T_d0f27256_0a1a_11ea_a6fb_107b449f15fclevel0_row2\" class=\"row_heading level0 row2\" >экономический_рост</th>\n",
       "                        <td id=\"T_d0f27256_0a1a_11ea_a6fb_107b449f15fcrow2_col0\" class=\"data row2 col0\" >0.01407</td>\n",
       "            </tr>\n",
       "            <tr>\n",
       "                        <th id=\"T_d0f27256_0a1a_11ea_a6fb_107b449f15fclevel0_row3\" class=\"row_heading level0 row3\" >соединить_штат</th>\n",
       "                        <td id=\"T_d0f27256_0a1a_11ea_a6fb_107b449f15fcrow3_col0\" class=\"data row3 col0\" >0.01049</td>\n",
       "            </tr>\n",
       "            <tr>\n",
       "                        <th id=\"T_d0f27256_0a1a_11ea_a6fb_107b449f15fclevel0_row4\" class=\"row_heading level0 row4\" >государственный_долг</th>\n",
       "                        <td id=\"T_d0f27256_0a1a_11ea_a6fb_107b449f15fcrow4_col0\" class=\"data row4 col0\" >0.01013</td>\n",
       "            </tr>\n",
       "            <tr>\n",
       "                        <th id=\"T_d0f27256_0a1a_11ea_a6fb_107b449f15fclevel0_row5\" class=\"row_heading level0 row5\" >развивающийся_страна</th>\n",
       "                        <td id=\"T_d0f27256_0a1a_11ea_a6fb_107b449f15fcrow5_col0\" class=\"data row5 col0\" >0.01006</td>\n",
       "            </tr>\n",
       "            <tr>\n",
       "                        <th id=\"T_d0f27256_0a1a_11ea_a6fb_107b449f15fclevel0_row6\" class=\"row_heading level0 row6\" >центральный_банка</th>\n",
       "                        <td id=\"T_d0f27256_0a1a_11ea_a6fb_107b449f15fcrow6_col0\" class=\"data row6 col0\" >0.00997</td>\n",
       "            </tr>\n",
       "            <tr>\n",
       "                        <th id=\"T_d0f27256_0a1a_11ea_a6fb_107b449f15fclevel0_row7\" class=\"row_heading level0 row7\" >мировой_экономика</th>\n",
       "                        <td id=\"T_d0f27256_0a1a_11ea_a6fb_107b449f15fcrow7_col0\" class=\"data row7 col0\" >0.00951</td>\n",
       "            </tr>\n",
       "            <tr>\n",
       "                        <th id=\"T_d0f27256_0a1a_11ea_a6fb_107b449f15fclevel0_row8\" class=\"row_heading level0 row8\" >финансовый_рынок</th>\n",
       "                        <td id=\"T_d0f27256_0a1a_11ea_a6fb_107b449f15fcrow8_col0\" class=\"data row8 col0\" >0.00768</td>\n",
       "            </tr>\n",
       "            <tr>\n",
       "                        <th id=\"T_d0f27256_0a1a_11ea_a6fb_107b449f15fclevel0_row9\" class=\"row_heading level0 row9\" >развитый_страна</th>\n",
       "                        <td id=\"T_d0f27256_0a1a_11ea_a6fb_107b449f15fcrow9_col0\" class=\"data row9 col0\" >0.00753</td>\n",
       "            </tr>\n",
       "    </tbody></table><style  type=\"text/css\" >\n",
       "</style><table id=\"T_d0f27257_0a1a_11ea_a6fb_107b449f15fc\" style='display:inline'><thead>    <tr>        <th class=\"blank level0\" ></th>        <th class=\"col_heading level0 col0\" >topic_14 @3gramm</th>    </tr></thead><tbody>\n",
       "                <tr>\n",
       "                        <th id=\"T_d0f27257_0a1a_11ea_a6fb_107b449f15fclevel0_row0\" class=\"row_heading level0 row0\" >эпоха_поздний_бронза</th>\n",
       "                        <td id=\"T_d0f27257_0a1a_11ea_a6fb_107b449f15fcrow0_col0\" class=\"data row0 col0\" >0.09269</td>\n",
       "            </tr>\n",
       "            <tr>\n",
       "                        <th id=\"T_d0f27257_0a1a_11ea_a6fb_107b449f15fclevel0_row1\" class=\"row_heading level0 row1\" >федеральный_резервный_система</th>\n",
       "                        <td id=\"T_d0f27257_0a1a_11ea_a6fb_107b449f15fcrow1_col0\" class=\"data row1 col0\" >0.08654</td>\n",
       "            </tr>\n",
       "            <tr>\n",
       "                        <th id=\"T_d0f27257_0a1a_11ea_a6fb_107b449f15fclevel0_row2\" class=\"row_heading level0 row2\" >выброс_углекислый_газа</th>\n",
       "                        <td id=\"T_d0f27257_0a1a_11ea_a6fb_107b449f15fcrow2_col0\" class=\"data row2 col0\" >0.08652</td>\n",
       "            </tr>\n",
       "            <tr>\n",
       "                        <th id=\"T_d0f27257_0a1a_11ea_a6fb_107b449f15fclevel0_row3\" class=\"row_heading level0 row3\" >темп_экономический_рост</th>\n",
       "                        <td id=\"T_d0f27257_0a1a_11ea_a6fb_107b449f15fcrow3_col0\" class=\"data row3 col0\" >0.08034</td>\n",
       "            </tr>\n",
       "            <tr>\n",
       "                        <th id=\"T_d0f27257_0a1a_11ea_a6fb_107b449f15fclevel0_row4\" class=\"row_heading level0 row4\" >бронзовый_антропоморфный_пластика</th>\n",
       "                        <td id=\"T_d0f27257_0a1a_11ea_a6fb_107b449f15fcrow4_col0\" class=\"data row4 col0\" >0.06797</td>\n",
       "            </tr>\n",
       "            <tr>\n",
       "                        <th id=\"T_d0f27257_0a1a_11ea_a6fb_107b449f15fclevel0_row5\" class=\"row_heading level0 row5\" >наиболее_яркий_пример</th>\n",
       "                        <td id=\"T_d0f27257_0a1a_11ea_a6fb_107b449f15fcrow5_col0\" class=\"data row5 col0\" >0.0547</td>\n",
       "            </tr>\n",
       "            <tr>\n",
       "                        <th id=\"T_d0f27257_0a1a_11ea_a6fb_107b449f15fclevel0_row6\" class=\"row_heading level0 row6\" >хотеть_обратить_внимание</th>\n",
       "                        <td id=\"T_d0f27257_0a1a_11ea_a6fb_107b449f15fcrow6_col0\" class=\"data row6 col0\" >0.04912</td>\n",
       "            </tr>\n",
       "            <tr>\n",
       "                        <th id=\"T_d0f27257_0a1a_11ea_a6fb_107b449f15fclevel0_row7\" class=\"row_heading level0 row7\" >мировой_финансовый_кризис</th>\n",
       "                        <td id=\"T_d0f27257_0a1a_11ea_a6fb_107b449f15fcrow7_col0\" class=\"data row7 col0\" >0.0432</td>\n",
       "            </tr>\n",
       "            <tr>\n",
       "                        <th id=\"T_d0f27257_0a1a_11ea_a6fb_107b449f15fclevel0_row8\" class=\"row_heading level0 row8\" >страна_латинский_америка</th>\n",
       "                        <td id=\"T_d0f27257_0a1a_11ea_a6fb_107b449f15fcrow8_col0\" class=\"data row8 col0\" >0.04309</td>\n",
       "            </tr>\n",
       "            <tr>\n",
       "                        <th id=\"T_d0f27257_0a1a_11ea_a6fb_107b449f15fclevel0_row9\" class=\"row_heading level0 row9\" >строгий_смысл_слово</th>\n",
       "                        <td id=\"T_d0f27257_0a1a_11ea_a6fb_107b449f15fcrow9_col0\" class=\"data row9 col0\" >0.04288</td>\n",
       "            </tr>\n",
       "    </tbody></table><style  type=\"text/css\" >\n",
       "</style><table id=\"T_d0f27258_0a1a_11ea_a6fb_107b449f15fc\" style='display:inline'><thead>    <tr>        <th class=\"blank level0\" ></th>        <th class=\"col_heading level0 col0\" >topic_14 @post_tag</th>    </tr></thead><tbody>\n",
       "                <tr>\n",
       "                        <th id=\"T_d0f27258_0a1a_11ea_a6fb_107b449f15fclevel0_row0\" class=\"row_heading level0 row0\" >экономика</th>\n",
       "                        <td id=\"T_d0f27258_0a1a_11ea_a6fb_107b449f15fcrow0_col0\" class=\"data row0 col0\" >0.32801</td>\n",
       "            </tr>\n",
       "            <tr>\n",
       "                        <th id=\"T_d0f27258_0a1a_11ea_a6fb_107b449f15fclevel0_row1\" class=\"row_heading level0 row1\" >сша</th>\n",
       "                        <td id=\"T_d0f27258_0a1a_11ea_a6fb_107b449f15fcrow1_col0\" class=\"data row1 col0\" >0.14072</td>\n",
       "            </tr>\n",
       "            <tr>\n",
       "                        <th id=\"T_d0f27258_0a1a_11ea_a6fb_107b449f15fclevel0_row2\" class=\"row_heading level0 row2\" >россия</th>\n",
       "                        <td id=\"T_d0f27258_0a1a_11ea_a6fb_107b449f15fcrow2_col0\" class=\"data row2 col0\" >0.03275</td>\n",
       "            </tr>\n",
       "            <tr>\n",
       "                        <th id=\"T_d0f27258_0a1a_11ea_a6fb_107b449f15fclevel0_row3\" class=\"row_heading level0 row3\" >финансовый_рынок</th>\n",
       "                        <td id=\"T_d0f27258_0a1a_11ea_a6fb_107b449f15fcrow3_col0\" class=\"data row3 col0\" >0.03044</td>\n",
       "            </tr>\n",
       "            <tr>\n",
       "                        <th id=\"T_d0f27258_0a1a_11ea_a6fb_107b449f15fclevel0_row4\" class=\"row_heading level0 row4\" >рынок</th>\n",
       "                        <td id=\"T_d0f27258_0a1a_11ea_a6fb_107b449f15fcrow4_col0\" class=\"data row4 col0\" >0.03039</td>\n",
       "            </tr>\n",
       "            <tr>\n",
       "                        <th id=\"T_d0f27258_0a1a_11ea_a6fb_107b449f15fclevel0_row5\" class=\"row_heading level0 row5\" >финансовый_кризис</th>\n",
       "                        <td id=\"T_d0f27258_0a1a_11ea_a6fb_107b449f15fcrow5_col0\" class=\"data row5 col0\" >0.02869</td>\n",
       "            </tr>\n",
       "            <tr>\n",
       "                        <th id=\"T_d0f27258_0a1a_11ea_a6fb_107b449f15fclevel0_row6\" class=\"row_heading level0 row6\" >государство</th>\n",
       "                        <td id=\"T_d0f27258_0a1a_11ea_a6fb_107b449f15fcrow6_col0\" class=\"data row6 col0\" >0.0263</td>\n",
       "            </tr>\n",
       "            <tr>\n",
       "                        <th id=\"T_d0f27258_0a1a_11ea_a6fb_107b449f15fclevel0_row7\" class=\"row_heading level0 row7\" >демография</th>\n",
       "                        <td id=\"T_d0f27258_0a1a_11ea_a6fb_107b449f15fcrow7_col0\" class=\"data row7 col0\" >0.02138</td>\n",
       "            </tr>\n",
       "            <tr>\n",
       "                        <th id=\"T_d0f27258_0a1a_11ea_a6fb_107b449f15fclevel0_row8\" class=\"row_heading level0 row8\" >китай</th>\n",
       "                        <td id=\"T_d0f27258_0a1a_11ea_a6fb_107b449f15fcrow8_col0\" class=\"data row8 col0\" >0.02089</td>\n",
       "            </tr>\n",
       "            <tr>\n",
       "                        <th id=\"T_d0f27258_0a1a_11ea_a6fb_107b449f15fclevel0_row9\" class=\"row_heading level0 row9\" >экономическое_развитие</th>\n",
       "                        <td id=\"T_d0f27258_0a1a_11ea_a6fb_107b449f15fcrow9_col0\" class=\"data row9 col0\" >0.02027</td>\n",
       "            </tr>\n",
       "    </tbody></table><style  type=\"text/css\" >\n",
       "</style><table id=\"T_d0f27259_0a1a_11ea_a6fb_107b449f15fc\" style='display:inline'><thead>    <tr>        <th class=\"blank level0\" ></th>        <th class=\"col_heading level0 col0\" >topic_14 @word</th>    </tr></thead><tbody>\n",
       "                <tr>\n",
       "                        <th id=\"T_d0f27259_0a1a_11ea_a6fb_107b449f15fclevel0_row0\" class=\"row_heading level0 row0\" >экономика</th>\n",
       "                        <td id=\"T_d0f27259_0a1a_11ea_a6fb_107b449f15fcrow0_col0\" class=\"data row0 col0\" >0.00996</td>\n",
       "            </tr>\n",
       "            <tr>\n",
       "                        <th id=\"T_d0f27259_0a1a_11ea_a6fb_107b449f15fclevel0_row1\" class=\"row_heading level0 row1\" >страна</th>\n",
       "                        <td id=\"T_d0f27259_0a1a_11ea_a6fb_107b449f15fcrow1_col0\" class=\"data row1 col0\" >0.00913</td>\n",
       "            </tr>\n",
       "            <tr>\n",
       "                        <th id=\"T_d0f27259_0a1a_11ea_a6fb_107b449f15fclevel0_row2\" class=\"row_heading level0 row2\" >китай</th>\n",
       "                        <td id=\"T_d0f27259_0a1a_11ea_a6fb_107b449f15fcrow2_col0\" class=\"data row2 col0\" >0.00605</td>\n",
       "            </tr>\n",
       "            <tr>\n",
       "                        <th id=\"T_d0f27259_0a1a_11ea_a6fb_107b449f15fclevel0_row3\" class=\"row_heading level0 row3\" >экономический</th>\n",
       "                        <td id=\"T_d0f27259_0a1a_11ea_a6fb_107b449f15fcrow3_col0\" class=\"data row3 col0\" >0.00482</td>\n",
       "            </tr>\n",
       "            <tr>\n",
       "                        <th id=\"T_d0f27259_0a1a_11ea_a6fb_107b449f15fclevel0_row4\" class=\"row_heading level0 row4\" >россия</th>\n",
       "                        <td id=\"T_d0f27259_0a1a_11ea_a6fb_107b449f15fcrow4_col0\" class=\"data row4 col0\" >0.00461</td>\n",
       "            </tr>\n",
       "            <tr>\n",
       "                        <th id=\"T_d0f27259_0a1a_11ea_a6fb_107b449f15fclevel0_row5\" class=\"row_heading level0 row5\" >сша</th>\n",
       "                        <td id=\"T_d0f27259_0a1a_11ea_a6fb_107b449f15fcrow5_col0\" class=\"data row5 col0\" >0.00457</td>\n",
       "            </tr>\n",
       "            <tr>\n",
       "                        <th id=\"T_d0f27259_0a1a_11ea_a6fb_107b449f15fclevel0_row6\" class=\"row_heading level0 row6\" >цена</th>\n",
       "                        <td id=\"T_d0f27259_0a1a_11ea_a6fb_107b449f15fcrow6_col0\" class=\"data row6 col0\" >0.00448</td>\n",
       "            </tr>\n",
       "            <tr>\n",
       "                        <th id=\"T_d0f27259_0a1a_11ea_a6fb_107b449f15fclevel0_row7\" class=\"row_heading level0 row7\" >рынок</th>\n",
       "                        <td id=\"T_d0f27259_0a1a_11ea_a6fb_107b449f15fcrow7_col0\" class=\"data row7 col0\" >0.00423</td>\n",
       "            </tr>\n",
       "            <tr>\n",
       "                        <th id=\"T_d0f27259_0a1a_11ea_a6fb_107b449f15fclevel0_row8\" class=\"row_heading level0 row8\" >компания</th>\n",
       "                        <td id=\"T_d0f27259_0a1a_11ea_a6fb_107b449f15fcrow8_col0\" class=\"data row8 col0\" >0.00402</td>\n",
       "            </tr>\n",
       "            <tr>\n",
       "                        <th id=\"T_d0f27259_0a1a_11ea_a6fb_107b449f15fclevel0_row9\" class=\"row_heading level0 row9\" >проблема</th>\n",
       "                        <td id=\"T_d0f27259_0a1a_11ea_a6fb_107b449f15fcrow9_col0\" class=\"data row9 col0\" >0.00391</td>\n",
       "            </tr>\n",
       "    </tbody></table>"
      ]
     },
     "metadata": {},
     "output_type": "display_data"
    },
    {
     "data": {
      "text/html": [
       "<b> главы # распределенный капитализм </b><br /> отрывок из книги «третья промышленная революция» экономиста и эколога джереми рифкина"
      ]
     },
     "metadata": {},
     "output_type": "display_data"
    },
    {
     "data": {
      "text/html": [
       "<b> главы # инфляция и гиперинфляция </b><br /> глава из книги \"развязка. конец долгового суперцикла и его последствия\"  финансистов джона молдина и джонатана теппера"
      ]
     },
     "metadata": {},
     "output_type": "display_data"
    },
    {
     "data": {
      "text/html": [
       "<b> главы # от пузыря к пузырю </b><br /> отрывок из книги «линии разломаскрытые трещины, все еще угрожающие мировой экономике» профессора чикагского университета рагурама раджана"
      ]
     },
     "metadata": {},
     "output_type": "display_data"
    },
    {
     "data": {
      "text/html": [
       "<b> экономические колебания </b><br /> экономист сергей афонцев о причинах роста и спада экономики, экономическом кризисе и несостоятельности теорий экономических циклов"
      ]
     },
     "metadata": {},
     "output_type": "display_data"
    },
    {
     "data": {
      "text/html": [
       "<b> главыработа и безработица </b><br /> отрывок из книги \"как работает экономика\" экономиста  ха-джун чанга о роли работы и безработицы в глобальном мире"
      ]
     },
     "metadata": {},
     "output_type": "display_data"
    },
    {
     "data": {
      "text/html": [
       "<b> faqнеформальность на рынке труда </b><br /> 6 фактов об интенсификации миграции и проблеме сопоставления заработков между разными секторами труда"
      ]
     },
     "metadata": {},
     "output_type": "display_data"
    },
    {
     "data": {
      "text/html": [
       "<b> faqкурсы валют </b><br /> 7 фактов о причинах роста и падения валют на финансовом рынке"
      ]
     },
     "metadata": {},
     "output_type": "display_data"
    },
    {
     "data": {
      "text/html": [
       "<b> точка зрения # евромайдан </b><br /> мнения экспертов постнауки о проблеме евроинтеграции украины"
      ]
     },
     "metadata": {},
     "output_type": "display_data"
    },
    {
     "data": {
      "text/html": [
       "<b> великая депрессия </b><br /> историк юрий рогулёв об антикризисных мерах рузвельта, зарождении социального законодательства в сша и спаде американской экономики в 1930-х годах"
      ]
     },
     "metadata": {},
     "output_type": "display_data"
    },
    {
     "data": {
      "text/html": [
       "<b> эволюция центральных банков и денежно-кредитного регулирования </b><br /> экономист сергей дубинин об истории становления банковской системы в мире, кризисах хх века и перспективах экономики россии"
      ]
     },
     "metadata": {},
     "output_type": "display_data"
    },
    {
     "data": {
      "text/html": [
       "<style  type=\"text/css\" >\n",
       "</style><table id=\"T_d0f2725a_0a1a_11ea_a6fb_107b449f15fc\" style='display:inline'><thead>    <tr>        <th class=\"blank level0\" ></th>        <th class=\"col_heading level0 col0\" >topic_15 @2gramm</th>    </tr></thead><tbody>\n",
       "                <tr>\n",
       "                        <th id=\"T_d0f2725a_0a1a_11ea_a6fb_107b449f15fclevel0_row0\" class=\"row_heading level0 row0\" >психический_заболевание</th>\n",
       "                        <td id=\"T_d0f2725a_0a1a_11ea_a6fb_107b449f15fcrow0_col0\" class=\"data row0 col0\" >0.01193</td>\n",
       "            </tr>\n",
       "            <tr>\n",
       "                        <th id=\"T_d0f2725a_0a1a_11ea_a6fb_107b449f15fclevel0_row1\" class=\"row_heading level0 row1\" >зеркальный_нейрон</th>\n",
       "                        <td id=\"T_d0f2725a_0a1a_11ea_a6fb_107b449f15fcrow1_col0\" class=\"data row1 col0\" >0.00736</td>\n",
       "            </tr>\n",
       "            <tr>\n",
       "                        <th id=\"T_d0f2725a_0a1a_11ea_a6fb_107b449f15fclevel0_row2\" class=\"row_heading level0 row2\" >депрессивный_состояние</th>\n",
       "                        <td id=\"T_d0f2725a_0a1a_11ea_a6fb_107b449f15fcrow2_col0\" class=\"data row2 col0\" >0.00672</td>\n",
       "            </tr>\n",
       "            <tr>\n",
       "                        <th id=\"T_d0f2725a_0a1a_11ea_a6fb_107b449f15fclevel0_row3\" class=\"row_heading level0 row3\" >психический_расстройство</th>\n",
       "                        <td id=\"T_d0f2725a_0a1a_11ea_a6fb_107b449f15fcrow3_col0\" class=\"data row3 col0\" >0.00607</td>\n",
       "            </tr>\n",
       "            <tr>\n",
       "                        <th id=\"T_d0f2725a_0a1a_11ea_a6fb_107b449f15fclevel0_row4\" class=\"row_heading level0 row4\" >удар_ток</th>\n",
       "                        <td id=\"T_d0f2725a_0a1a_11ea_a6fb_107b449f15fcrow4_col0\" class=\"data row4 col0\" >0.00501</td>\n",
       "            </tr>\n",
       "            <tr>\n",
       "                        <th id=\"T_d0f2725a_0a1a_11ea_a6fb_107b449f15fclevel0_row5\" class=\"row_heading level0 row5\" >негативный_эмоция</th>\n",
       "                        <td id=\"T_d0f2725a_0a1a_11ea_a6fb_107b449f15fcrow5_col0\" class=\"data row5 col0\" >0.00481</td>\n",
       "            </tr>\n",
       "            <tr>\n",
       "                        <th id=\"T_d0f2725a_0a1a_11ea_a6fb_107b449f15fclevel0_row6\" class=\"row_heading level0 row6\" >пушкинский_эпоха</th>\n",
       "                        <td id=\"T_d0f2725a_0a1a_11ea_a6fb_107b449f15fcrow6_col0\" class=\"data row6 col0\" >0.00454</td>\n",
       "            </tr>\n",
       "            <tr>\n",
       "                        <th id=\"T_d0f2725a_0a1a_11ea_a6fb_107b449f15fclevel0_row7\" class=\"row_heading level0 row7\" >кругосветный_путешествие</th>\n",
       "                        <td id=\"T_d0f2725a_0a1a_11ea_a6fb_107b449f15fcrow7_col0\" class=\"data row7 col0\" >0.00433</td>\n",
       "            </tr>\n",
       "            <tr>\n",
       "                        <th id=\"T_d0f2725a_0a1a_11ea_a6fb_107b449f15fclevel0_row8\" class=\"row_heading level0 row8\" >страховой_компания</th>\n",
       "                        <td id=\"T_d0f2725a_0a1a_11ea_a6fb_107b449f15fcrow8_col0\" class=\"data row8 col0\" >0.00431</td>\n",
       "            </tr>\n",
       "            <tr>\n",
       "                        <th id=\"T_d0f2725a_0a1a_11ea_a6fb_107b449f15fclevel0_row9\" class=\"row_heading level0 row9\" >психический_травма</th>\n",
       "                        <td id=\"T_d0f2725a_0a1a_11ea_a6fb_107b449f15fcrow9_col0\" class=\"data row9 col0\" >0.00424</td>\n",
       "            </tr>\n",
       "    </tbody></table><style  type=\"text/css\" >\n",
       "</style><table id=\"T_d0f2725b_0a1a_11ea_a6fb_107b449f15fc\" style='display:inline'><thead>    <tr>        <th class=\"blank level0\" ></th>        <th class=\"col_heading level0 col0\" >topic_15 @3gramm</th>    </tr></thead><tbody>\n",
       "                <tr>\n",
       "                        <th id=\"T_d0f2725b_0a1a_11ea_a6fb_107b449f15fclevel0_row0\" class=\"row_heading level0 row0\" >начало_xix_век</th>\n",
       "                        <td id=\"T_d0f2725b_0a1a_11ea_a6fb_107b449f15fcrow0_col0\" class=\"data row0 col0\" >0.38262</td>\n",
       "            </tr>\n",
       "            <tr>\n",
       "                        <th id=\"T_d0f2725b_0a1a_11ea_a6fb_107b449f15fclevel0_row1\" class=\"row_heading level0 row1\" >центральный_нервный_система</th>\n",
       "                        <td id=\"T_d0f2725b_0a1a_11ea_a6fb_107b449f15fcrow1_col0\" class=\"data row1 col0\" >0.17715</td>\n",
       "            </tr>\n",
       "            <tr>\n",
       "                        <th id=\"T_d0f2725b_0a1a_11ea_a6fb_107b449f15fclevel0_row2\" class=\"row_heading level0 row2\" >теория_рациональный_выбор</th>\n",
       "                        <td id=\"T_d0f2725b_0a1a_11ea_a6fb_107b449f15fcrow2_col0\" class=\"data row2 col0\" >0.10608</td>\n",
       "            </tr>\n",
       "            <tr>\n",
       "                        <th id=\"T_d0f2725b_0a1a_11ea_a6fb_107b449f15fclevel0_row3\" class=\"row_heading level0 row3\" >стоить_обратить_внимание</th>\n",
       "                        <td id=\"T_d0f2725b_0a1a_11ea_a6fb_107b449f15fcrow3_col0\" class=\"data row3 col0\" >0.06713</td>\n",
       "            </tr>\n",
       "            <tr>\n",
       "                        <th id=\"T_d0f2725b_0a1a_11ea_a6fb_107b449f15fclevel0_row4\" class=\"row_heading level0 row4\" >бурно_развивающийся_область</th>\n",
       "                        <td id=\"T_d0f2725b_0a1a_11ea_a6fb_107b449f15fcrow4_col0\" class=\"data row4 col0\" >0.04242</td>\n",
       "            </tr>\n",
       "            <tr>\n",
       "                        <th id=\"T_d0f2725b_0a1a_11ea_a6fb_107b449f15fclevel0_row5\" class=\"row_heading level0 row5\" >говорить_простой_язык</th>\n",
       "                        <td id=\"T_d0f2725b_0a1a_11ea_a6fb_107b449f15fcrow5_col0\" class=\"data row5 col0\" >0.03528</td>\n",
       "            </tr>\n",
       "            <tr>\n",
       "                        <th id=\"T_d0f2725b_0a1a_11ea_a6fb_107b449f15fclevel0_row6\" class=\"row_heading level0 row6\" >правило_дорожный_движение</th>\n",
       "                        <td id=\"T_d0f2725b_0a1a_11ea_a6fb_107b449f15fcrow6_col0\" class=\"data row6 col0\" >0.03528</td>\n",
       "            </tr>\n",
       "            <tr>\n",
       "                        <th id=\"T_d0f2725b_0a1a_11ea_a6fb_107b449f15fclevel0_row7\" class=\"row_heading level0 row7\" >являться_составной_частью</th>\n",
       "                        <td id=\"T_d0f2725b_0a1a_11ea_a6fb_107b449f15fcrow7_col0\" class=\"data row7 col0\" >0.03528</td>\n",
       "            </tr>\n",
       "            <tr>\n",
       "                        <th id=\"T_d0f2725b_0a1a_11ea_a6fb_107b449f15fclevel0_row8\" class=\"row_heading level0 row8\" >протяжение_xviii_век</th>\n",
       "                        <td id=\"T_d0f2725b_0a1a_11ea_a6fb_107b449f15fcrow8_col0\" class=\"data row8 col0\" >0.03528</td>\n",
       "            </tr>\n",
       "            <tr>\n",
       "                        <th id=\"T_d0f2725b_0a1a_11ea_a6fb_107b449f15fclevel0_row9\" class=\"row_heading level0 row9\" >получить_хороший_образование</th>\n",
       "                        <td id=\"T_d0f2725b_0a1a_11ea_a6fb_107b449f15fcrow9_col0\" class=\"data row9 col0\" >0.02236</td>\n",
       "            </tr>\n",
       "    </tbody></table><style  type=\"text/css\" >\n",
       "</style><table id=\"T_d0f2725c_0a1a_11ea_a6fb_107b449f15fc\" style='display:inline'><thead>    <tr>        <th class=\"blank level0\" ></th>        <th class=\"col_heading level0 col0\" >topic_15 @post_tag</th>    </tr></thead><tbody>\n",
       "                <tr>\n",
       "                        <th id=\"T_d0f2725c_0a1a_11ea_a6fb_107b449f15fclevel0_row0\" class=\"row_heading level0 row0\" >фольклор</th>\n",
       "                        <td id=\"T_d0f2725c_0a1a_11ea_a6fb_107b449f15fcrow0_col0\" class=\"data row0 col0\" >0.11157</td>\n",
       "            </tr>\n",
       "            <tr>\n",
       "                        <th id=\"T_d0f2725c_0a1a_11ea_a6fb_107b449f15fclevel0_row1\" class=\"row_heading level0 row1\" >психология</th>\n",
       "                        <td id=\"T_d0f2725c_0a1a_11ea_a6fb_107b449f15fcrow1_col0\" class=\"data row1 col0\" >0.09164</td>\n",
       "            </tr>\n",
       "            <tr>\n",
       "                        <th id=\"T_d0f2725c_0a1a_11ea_a6fb_107b449f15fclevel0_row2\" class=\"row_heading level0 row2\" >фольклористика</th>\n",
       "                        <td id=\"T_d0f2725c_0a1a_11ea_a6fb_107b449f15fcrow2_col0\" class=\"data row2 col0\" >0.08704</td>\n",
       "            </tr>\n",
       "            <tr>\n",
       "                        <th id=\"T_d0f2725c_0a1a_11ea_a6fb_107b449f15fclevel0_row3\" class=\"row_heading level0 row3\" >сознание</th>\n",
       "                        <td id=\"T_d0f2725c_0a1a_11ea_a6fb_107b449f15fcrow3_col0\" class=\"data row3 col0\" >0.06884</td>\n",
       "            </tr>\n",
       "            <tr>\n",
       "                        <th id=\"T_d0f2725c_0a1a_11ea_a6fb_107b449f15fclevel0_row4\" class=\"row_heading level0 row4\" >личность</th>\n",
       "                        <td id=\"T_d0f2725c_0a1a_11ea_a6fb_107b449f15fcrow4_col0\" class=\"data row4 col0\" >0.04825</td>\n",
       "            </tr>\n",
       "            <tr>\n",
       "                        <th id=\"T_d0f2725c_0a1a_11ea_a6fb_107b449f15fclevel0_row5\" class=\"row_heading level0 row5\" >стресс</th>\n",
       "                        <td id=\"T_d0f2725c_0a1a_11ea_a6fb_107b449f15fcrow5_col0\" class=\"data row5 col0\" >0.04595</td>\n",
       "            </tr>\n",
       "            <tr>\n",
       "                        <th id=\"T_d0f2725c_0a1a_11ea_a6fb_107b449f15fclevel0_row6\" class=\"row_heading level0 row6\" >эмоции</th>\n",
       "                        <td id=\"T_d0f2725c_0a1a_11ea_a6fb_107b449f15fcrow6_col0\" class=\"data row6 col0\" >0.04434</td>\n",
       "            </tr>\n",
       "            <tr>\n",
       "                        <th id=\"T_d0f2725c_0a1a_11ea_a6fb_107b449f15fclevel0_row7\" class=\"row_heading level0 row7\" >ритуал</th>\n",
       "                        <td id=\"T_d0f2725c_0a1a_11ea_a6fb_107b449f15fcrow7_col0\" class=\"data row7 col0\" >0.03519</td>\n",
       "            </tr>\n",
       "            <tr>\n",
       "                        <th id=\"T_d0f2725c_0a1a_11ea_a6fb_107b449f15fclevel0_row8\" class=\"row_heading level0 row8\" >психотерапия</th>\n",
       "                        <td id=\"T_d0f2725c_0a1a_11ea_a6fb_107b449f15fcrow8_col0\" class=\"data row8 col0\" >0.03068</td>\n",
       "            </tr>\n",
       "            <tr>\n",
       "                        <th id=\"T_d0f2725c_0a1a_11ea_a6fb_107b449f15fclevel0_row9\" class=\"row_heading level0 row9\" >психика</th>\n",
       "                        <td id=\"T_d0f2725c_0a1a_11ea_a6fb_107b449f15fcrow9_col0\" class=\"data row9 col0\" >0.03064</td>\n",
       "            </tr>\n",
       "    </tbody></table><style  type=\"text/css\" >\n",
       "</style><table id=\"T_d0f2725d_0a1a_11ea_a6fb_107b449f15fc\" style='display:inline'><thead>    <tr>        <th class=\"blank level0\" ></th>        <th class=\"col_heading level0 col0\" >topic_15 @word</th>    </tr></thead><tbody>\n",
       "                <tr>\n",
       "                        <th id=\"T_d0f2725d_0a1a_11ea_a6fb_107b449f15fclevel0_row0\" class=\"row_heading level0 row0\" >эмоция</th>\n",
       "                        <td id=\"T_d0f2725d_0a1a_11ea_a6fb_107b449f15fcrow0_col0\" class=\"data row0 col0\" >0.0059</td>\n",
       "            </tr>\n",
       "            <tr>\n",
       "                        <th id=\"T_d0f2725d_0a1a_11ea_a6fb_107b449f15fclevel0_row1\" class=\"row_heading level0 row1\" >фольклор</th>\n",
       "                        <td id=\"T_d0f2725d_0a1a_11ea_a6fb_107b449f15fcrow1_col0\" class=\"data row1 col0\" >0.00481</td>\n",
       "            </tr>\n",
       "            <tr>\n",
       "                        <th id=\"T_d0f2725d_0a1a_11ea_a6fb_107b449f15fclevel0_row2\" class=\"row_heading level0 row2\" >депрессия</th>\n",
       "                        <td id=\"T_d0f2725d_0a1a_11ea_a6fb_107b449f15fcrow2_col0\" class=\"data row2 col0\" >0.0041</td>\n",
       "            </tr>\n",
       "            <tr>\n",
       "                        <th id=\"T_d0f2725d_0a1a_11ea_a6fb_107b449f15fclevel0_row3\" class=\"row_heading level0 row3\" >музыка</th>\n",
       "                        <td id=\"T_d0f2725d_0a1a_11ea_a6fb_107b449f15fcrow3_col0\" class=\"data row3 col0\" >0.00399</td>\n",
       "            </tr>\n",
       "            <tr>\n",
       "                        <th id=\"T_d0f2725d_0a1a_11ea_a6fb_107b449f15fclevel0_row4\" class=\"row_heading level0 row4\" >ребёнок</th>\n",
       "                        <td id=\"T_d0f2725d_0a1a_11ea_a6fb_107b449f15fcrow4_col0\" class=\"data row4 col0\" >0.00398</td>\n",
       "            </tr>\n",
       "            <tr>\n",
       "                        <th id=\"T_d0f2725d_0a1a_11ea_a6fb_107b449f15fclevel0_row5\" class=\"row_heading level0 row5\" >книга</th>\n",
       "                        <td id=\"T_d0f2725d_0a1a_11ea_a6fb_107b449f15fcrow5_col0\" class=\"data row5 col0\" >0.00348</td>\n",
       "            </tr>\n",
       "            <tr>\n",
       "                        <th id=\"T_d0f2725d_0a1a_11ea_a6fb_107b449f15fclevel0_row6\" class=\"row_heading level0 row6\" >ощущение</th>\n",
       "                        <td id=\"T_d0f2725d_0a1a_11ea_a6fb_107b449f15fcrow6_col0\" class=\"data row6 col0\" >0.00335</td>\n",
       "            </tr>\n",
       "            <tr>\n",
       "                        <th id=\"T_d0f2725d_0a1a_11ea_a6fb_107b449f15fclevel0_row7\" class=\"row_heading level0 row7\" >поведение</th>\n",
       "                        <td id=\"T_d0f2725d_0a1a_11ea_a6fb_107b449f15fcrow7_col0\" class=\"data row7 col0\" >0.00301</td>\n",
       "            </tr>\n",
       "            <tr>\n",
       "                        <th id=\"T_d0f2725d_0a1a_11ea_a6fb_107b449f15fclevel0_row8\" class=\"row_heading level0 row8\" >сказка</th>\n",
       "                        <td id=\"T_d0f2725d_0a1a_11ea_a6fb_107b449f15fcrow8_col0\" class=\"data row8 col0\" >0.003</td>\n",
       "            </tr>\n",
       "            <tr>\n",
       "                        <th id=\"T_d0f2725d_0a1a_11ea_a6fb_107b449f15fclevel0_row9\" class=\"row_heading level0 row9\" >проблема</th>\n",
       "                        <td id=\"T_d0f2725d_0a1a_11ea_a6fb_107b449f15fcrow9_col0\" class=\"data row9 col0\" >0.00298</td>\n",
       "            </tr>\n",
       "    </tbody></table>"
      ]
     },
     "metadata": {},
     "output_type": "display_data"
    },
    {
     "data": {
      "text/html": [
       "<b> механизмы самоутверждения личности </b><br /> психолог наталья харламенкова о трех стратегиях самоутверждения, типах личности и умении говорить «нет»"
      ]
     },
     "metadata": {},
     "output_type": "display_data"
    },
    {
     "data": {
      "text/html": [
       "<b> faqпсихическая травма и картина мира </b><br /> 5 фактов о последствиях травматических событий"
      ]
     },
     "metadata": {},
     "output_type": "display_data"
    },
    {
     "data": {
      "text/html": [
       "<b> faqпосттравматический стресс в отношениях «мать — дочь» </b><br /> 5 фактов о поведении матерей, переживших стрессовое событие"
      ]
     },
     "metadata": {},
     "output_type": "display_data"
    },
    {
     "data": {
      "text/html": [
       "<b> экспериментальная генетика поведения </b><br /> биолог инга полетаева о модельных животных, искусственном отборе и селекционных экспериментах"
      ]
     },
     "metadata": {},
     "output_type": "display_data"
    },
    {
     "data": {
      "text/html": [
       "<b> главы # разграничение психоанализа и психотерапии </b><br /> отрывок статьи учёного в области исследований психоаналитического процесса хорста кэхеле из третьего выпуска сборника \"международного журнала психоанализа\""
      ]
     },
     "metadata": {},
     "output_type": "display_data"
    },
    {
     "data": {
      "text/html": [
       "<b> 5 книг о натуралистах </b><br /> что читать о путешествиях исследователей дикой природы, рекомендует кандидат биологических наук сергей майоров"
      ]
     },
     "metadata": {},
     "output_type": "display_data"
    },
    {
     "data": {
      "text/html": [
       "<b> принцип «намеренной небрежности» в дендизме </b><br /> филолог ольга вайнштейн о впечатлении спонтанности в облике денди, поведении джентльменов в обществе и приеме table talk"
      ]
     },
     "metadata": {},
     "output_type": "display_data"
    },
    {
     "data": {
      "text/html": [
       "<b> социологическая операционализация </b><br /> социолог виктор вахштайн о переводе концептов в операнты, смещении релевантности и теории рационального выбора"
      ]
     },
     "metadata": {},
     "output_type": "display_data"
    },
    {
     "data": {
      "text/html": [
       "<b> главы # клинический язык винникотта </b><br /> отрывок профессора психологии джаны абрам из четвертого «международного психоаналитического ежегодника» об инновациях в клинической психологии"
      ]
     },
     "metadata": {},
     "output_type": "display_data"
    },
    {
     "data": {
      "text/html": [
       "<b> посттравматический стресс в отношениях «мать — дочь» </b><br /> психолог наталья харламенкова о симптомах посттравматического стресса, спутанности социальных ролей и комплексе покинутости"
      ]
     },
     "metadata": {},
     "output_type": "display_data"
    },
    {
     "data": {
      "text/html": [
       "<style  type=\"text/css\" >\n",
       "</style><table id=\"T_d0f2725e_0a1a_11ea_a6fb_107b449f15fc\" style='display:inline'><thead>    <tr>        <th class=\"blank level0\" ></th>        <th class=\"col_heading level0 col0\" >topic_16 @2gramm</th>    </tr></thead><tbody>\n",
       "                <tr>\n",
       "                        <th id=\"T_d0f2725e_0a1a_11ea_a6fb_107b449f15fclevel0_row0\" class=\"row_heading level0 row0\" >реликтовый_излучение</th>\n",
       "                        <td id=\"T_d0f2725e_0a1a_11ea_a6fb_107b449f15fcrow0_col0\" class=\"data row0 col0\" >0.02485</td>\n",
       "            </tr>\n",
       "            <tr>\n",
       "                        <th id=\"T_d0f2725e_0a1a_11ea_a6fb_107b449f15fclevel0_row1\" class=\"row_heading level0 row1\" >теория_струна</th>\n",
       "                        <td id=\"T_d0f2725e_0a1a_11ea_a6fb_107b449f15fcrow1_col0\" class=\"data row1 col0\" >0.02427</td>\n",
       "            </tr>\n",
       "            <tr>\n",
       "                        <th id=\"T_d0f2725e_0a1a_11ea_a6fb_107b449f15fclevel0_row2\" class=\"row_heading level0 row2\" >гравитационный_волна</th>\n",
       "                        <td id=\"T_d0f2725e_0a1a_11ea_a6fb_107b449f15fcrow2_col0\" class=\"data row2 col0\" >0.02371</td>\n",
       "            </tr>\n",
       "            <tr>\n",
       "                        <th id=\"T_d0f2725e_0a1a_11ea_a6fb_107b449f15fclevel0_row3\" class=\"row_heading level0 row3\" >тёмный_энергия</th>\n",
       "                        <td id=\"T_d0f2725e_0a1a_11ea_a6fb_107b449f15fcrow3_col0\" class=\"data row3 col0\" >0.01983</td>\n",
       "            </tr>\n",
       "            <tr>\n",
       "                        <th id=\"T_d0f2725e_0a1a_11ea_a6fb_107b449f15fclevel0_row4\" class=\"row_heading level0 row4\" >ранний_вселенная</th>\n",
       "                        <td id=\"T_d0f2725e_0a1a_11ea_a6fb_107b449f15fcrow4_col0\" class=\"data row4 col0\" >0.0188</td>\n",
       "            </tr>\n",
       "            <tr>\n",
       "                        <th id=\"T_d0f2725e_0a1a_11ea_a6fb_107b449f15fclevel0_row5\" class=\"row_heading level0 row5\" >расширение_вселенная</th>\n",
       "                        <td id=\"T_d0f2725e_0a1a_11ea_a6fb_107b449f15fcrow5_col0\" class=\"data row5 col0\" >0.01474</td>\n",
       "            </tr>\n",
       "            <tr>\n",
       "                        <th id=\"T_d0f2725e_0a1a_11ea_a6fb_107b449f15fclevel0_row6\" class=\"row_heading level0 row6\" >скопление_галактика</th>\n",
       "                        <td id=\"T_d0f2725e_0a1a_11ea_a6fb_107b449f15fcrow6_col0\" class=\"data row6 col0\" >0.01257</td>\n",
       "            </tr>\n",
       "            <tr>\n",
       "                        <th id=\"T_d0f2725e_0a1a_11ea_a6fb_107b449f15fclevel0_row7\" class=\"row_heading level0 row7\" >космологический_постоянный</th>\n",
       "                        <td id=\"T_d0f2725e_0a1a_11ea_a6fb_107b449f15fcrow7_col0\" class=\"data row7 col0\" >0.01207</td>\n",
       "            </tr>\n",
       "            <tr>\n",
       "                        <th id=\"T_d0f2725e_0a1a_11ea_a6fb_107b449f15fclevel0_row8\" class=\"row_heading level0 row8\" >большой_взрыв</th>\n",
       "                        <td id=\"T_d0f2725e_0a1a_11ea_a6fb_107b449f15fcrow8_col0\" class=\"data row8 col0\" >0.01107</td>\n",
       "            </tr>\n",
       "            <tr>\n",
       "                        <th id=\"T_d0f2725e_0a1a_11ea_a6fb_107b449f15fclevel0_row9\" class=\"row_heading level0 row9\" >закон_физика</th>\n",
       "                        <td id=\"T_d0f2725e_0a1a_11ea_a6fb_107b449f15fcrow9_col0\" class=\"data row9 col0\" >0.01039</td>\n",
       "            </tr>\n",
       "    </tbody></table><style  type=\"text/css\" >\n",
       "</style><table id=\"T_d0f2725f_0a1a_11ea_a6fb_107b449f15fc\" style='display:inline'><thead>    <tr>        <th class=\"blank level0\" ></th>        <th class=\"col_heading level0 col0\" >topic_16 @3gramm</th>    </tr></thead><tbody>\n",
       "                <tr>\n",
       "                        <th id=\"T_d0f2725f_0a1a_11ea_a6fb_107b449f15fclevel0_row0\" class=\"row_heading level0 row0\" >анизотропия_реликтовый_излучение</th>\n",
       "                        <td id=\"T_d0f2725f_0a1a_11ea_a6fb_107b449f15fcrow0_col0\" class=\"data row0 col0\" >0.10422</td>\n",
       "            </tr>\n",
       "            <tr>\n",
       "                        <th id=\"T_d0f2725f_0a1a_11ea_a6fb_107b449f15fclevel0_row1\" class=\"row_heading level0 row1\" >первичный_гравитационный_волна</th>\n",
       "                        <td id=\"T_d0f2725f_0a1a_11ea_a6fb_107b449f15fcrow1_col0\" class=\"data row1 col0\" >0.07395</td>\n",
       "            </tr>\n",
       "            <tr>\n",
       "                        <th id=\"T_d0f2725f_0a1a_11ea_a6fb_107b449f15fclevel0_row2\" class=\"row_heading level0 row2\" >поляризация_реликтовый_излучение</th>\n",
       "                        <td id=\"T_d0f2725f_0a1a_11ea_a6fb_107b449f15fcrow2_col0\" class=\"data row2 col0\" >0.06723</td>\n",
       "            </tr>\n",
       "            <tr>\n",
       "                        <th id=\"T_d0f2725f_0a1a_11ea_a6fb_107b449f15fclevel0_row3\" class=\"row_heading level0 row3\" >крупномасштабный_структура_вселенная</th>\n",
       "                        <td id=\"T_d0f2725f_0a1a_11ea_a6fb_107b449f15fcrow3_col0\" class=\"data row3 col0\" >0.05712</td>\n",
       "            </tr>\n",
       "            <tr>\n",
       "                        <th id=\"T_d0f2725f_0a1a_11ea_a6fb_107b449f15fclevel0_row4\" class=\"row_heading level0 row4\" >стандартный_космологический_модель</th>\n",
       "                        <td id=\"T_d0f2725f_0a1a_11ea_a6fb_107b449f15fcrow4_col0\" class=\"data row4 col0\" >0.05377</td>\n",
       "            </tr>\n",
       "            <tr>\n",
       "                        <th id=\"T_d0f2725f_0a1a_11ea_a6fb_107b449f15fclevel0_row5\" class=\"row_heading level0 row5\" >общий_теория_относительность</th>\n",
       "                        <td id=\"T_d0f2725f_0a1a_11ea_a6fb_107b449f15fcrow5_col0\" class=\"data row5 col0\" >0.04844</td>\n",
       "            </tr>\n",
       "            <tr>\n",
       "                        <th id=\"T_d0f2725f_0a1a_11ea_a6fb_107b449f15fclevel0_row6\" class=\"row_heading level0 row6\" >реликтовый_гравитационный_волна</th>\n",
       "                        <td id=\"T_d0f2725f_0a1a_11ea_a6fb_107b449f15fcrow6_col0\" class=\"data row6 col0\" >0.04369</td>\n",
       "            </tr>\n",
       "            <tr>\n",
       "                        <th id=\"T_d0f2725f_0a1a_11ea_a6fb_107b449f15fclevel0_row7\" class=\"row_heading level0 row7\" >сумма_угол_треугольник</th>\n",
       "                        <td id=\"T_d0f2725f_0a1a_11ea_a6fb_107b449f15fcrow7_col0\" class=\"data row7 col0\" >0.04032</td>\n",
       "            </tr>\n",
       "            <tr>\n",
       "                        <th id=\"T_d0f2725f_0a1a_11ea_a6fb_107b449f15fclevel0_row8\" class=\"row_heading level0 row8\" >постоянный_тонкий_структура</th>\n",
       "                        <td id=\"T_d0f2725f_0a1a_11ea_a6fb_107b449f15fcrow8_col0\" class=\"data row8 col0\" >0.0403</td>\n",
       "            </tr>\n",
       "            <tr>\n",
       "                        <th id=\"T_d0f2725f_0a1a_11ea_a6fb_107b449f15fclevel0_row9\" class=\"row_heading level0 row9\" >закон_всемирный_тяготение</th>\n",
       "                        <td id=\"T_d0f2725f_0a1a_11ea_a6fb_107b449f15fcrow9_col0\" class=\"data row9 col0\" >0.04028</td>\n",
       "            </tr>\n",
       "    </tbody></table><style  type=\"text/css\" >\n",
       "</style><table id=\"T_d0f27260_0a1a_11ea_a6fb_107b449f15fc\" style='display:inline'><thead>    <tr>        <th class=\"blank level0\" ></th>        <th class=\"col_heading level0 col0\" >topic_16 @post_tag</th>    </tr></thead><tbody>\n",
       "                <tr>\n",
       "                        <th id=\"T_d0f27260_0a1a_11ea_a6fb_107b449f15fclevel0_row0\" class=\"row_heading level0 row0\" >космология</th>\n",
       "                        <td id=\"T_d0f27260_0a1a_11ea_a6fb_107b449f15fcrow0_col0\" class=\"data row0 col0\" >0.1325</td>\n",
       "            </tr>\n",
       "            <tr>\n",
       "                        <th id=\"T_d0f27260_0a1a_11ea_a6fb_107b449f15fclevel0_row1\" class=\"row_heading level0 row1\" >вселенная</th>\n",
       "                        <td id=\"T_d0f27260_0a1a_11ea_a6fb_107b449f15fcrow1_col0\" class=\"data row1 col0\" >0.12791</td>\n",
       "            </tr>\n",
       "            <tr>\n",
       "                        <th id=\"T_d0f27260_0a1a_11ea_a6fb_107b449f15fclevel0_row2\" class=\"row_heading level0 row2\" >реликтовое_излучение</th>\n",
       "                        <td id=\"T_d0f27260_0a1a_11ea_a6fb_107b449f15fcrow2_col0\" class=\"data row2 col0\" >0.06737</td>\n",
       "            </tr>\n",
       "            <tr>\n",
       "                        <th id=\"T_d0f27260_0a1a_11ea_a6fb_107b449f15fclevel0_row3\" class=\"row_heading level0 row3\" >астрофизика</th>\n",
       "                        <td id=\"T_d0f27260_0a1a_11ea_a6fb_107b449f15fcrow3_col0\" class=\"data row3 col0\" >0.06298</td>\n",
       "            </tr>\n",
       "            <tr>\n",
       "                        <th id=\"T_d0f27260_0a1a_11ea_a6fb_107b449f15fclevel0_row4\" class=\"row_heading level0 row4\" >гравитация</th>\n",
       "                        <td id=\"T_d0f27260_0a1a_11ea_a6fb_107b449f15fcrow4_col0\" class=\"data row4 col0\" >0.0612</td>\n",
       "            </tr>\n",
       "            <tr>\n",
       "                        <th id=\"T_d0f27260_0a1a_11ea_a6fb_107b449f15fclevel0_row5\" class=\"row_heading level0 row5\" >космическая_инфляция</th>\n",
       "                        <td id=\"T_d0f27260_0a1a_11ea_a6fb_107b449f15fcrow5_col0\" class=\"data row5 col0\" >0.05138</td>\n",
       "            </tr>\n",
       "            <tr>\n",
       "                        <th id=\"T_d0f27260_0a1a_11ea_a6fb_107b449f15fclevel0_row6\" class=\"row_heading level0 row6\" >темная_материя</th>\n",
       "                        <td id=\"T_d0f27260_0a1a_11ea_a6fb_107b449f15fcrow6_col0\" class=\"data row6 col0\" >0.04665</td>\n",
       "            </tr>\n",
       "            <tr>\n",
       "                        <th id=\"T_d0f27260_0a1a_11ea_a6fb_107b449f15fclevel0_row7\" class=\"row_heading level0 row7\" >астрономия</th>\n",
       "                        <td id=\"T_d0f27260_0a1a_11ea_a6fb_107b449f15fcrow7_col0\" class=\"data row7 col0\" >0.04591</td>\n",
       "            </tr>\n",
       "            <tr>\n",
       "                        <th id=\"T_d0f27260_0a1a_11ea_a6fb_107b449f15fclevel0_row8\" class=\"row_heading level0 row8\" >физика</th>\n",
       "                        <td id=\"T_d0f27260_0a1a_11ea_a6fb_107b449f15fcrow8_col0\" class=\"data row8 col0\" >0.04076</td>\n",
       "            </tr>\n",
       "            <tr>\n",
       "                        <th id=\"T_d0f27260_0a1a_11ea_a6fb_107b449f15fclevel0_row9\" class=\"row_heading level0 row9\" >большой_взрыв</th>\n",
       "                        <td id=\"T_d0f27260_0a1a_11ea_a6fb_107b449f15fcrow9_col0\" class=\"data row9 col0\" >0.03961</td>\n",
       "            </tr>\n",
       "    </tbody></table><style  type=\"text/css\" >\n",
       "</style><table id=\"T_d0f27261_0a1a_11ea_a6fb_107b449f15fc\" style='display:inline'><thead>    <tr>        <th class=\"blank level0\" ></th>        <th class=\"col_heading level0 col0\" >topic_16 @word</th>    </tr></thead><tbody>\n",
       "                <tr>\n",
       "                        <th id=\"T_d0f27261_0a1a_11ea_a6fb_107b449f15fclevel0_row0\" class=\"row_heading level0 row0\" >вселенная</th>\n",
       "                        <td id=\"T_d0f27261_0a1a_11ea_a6fb_107b449f15fcrow0_col0\" class=\"data row0 col0\" >0.02997</td>\n",
       "            </tr>\n",
       "            <tr>\n",
       "                        <th id=\"T_d0f27261_0a1a_11ea_a6fb_107b449f15fclevel0_row1\" class=\"row_heading level0 row1\" >теория</th>\n",
       "                        <td id=\"T_d0f27261_0a1a_11ea_a6fb_107b449f15fcrow1_col0\" class=\"data row1 col0\" >0.01207</td>\n",
       "            </tr>\n",
       "            <tr>\n",
       "                        <th id=\"T_d0f27261_0a1a_11ea_a6fb_107b449f15fclevel0_row2\" class=\"row_heading level0 row2\" >пространство</th>\n",
       "                        <td id=\"T_d0f27261_0a1a_11ea_a6fb_107b449f15fcrow2_col0\" class=\"data row2 col0\" >0.00625</td>\n",
       "            </tr>\n",
       "            <tr>\n",
       "                        <th id=\"T_d0f27261_0a1a_11ea_a6fb_107b449f15fclevel0_row3\" class=\"row_heading level0 row3\" >космология</th>\n",
       "                        <td id=\"T_d0f27261_0a1a_11ea_a6fb_107b449f15fcrow3_col0\" class=\"data row3 col0\" >0.00589</td>\n",
       "            </tr>\n",
       "            <tr>\n",
       "                        <th id=\"T_d0f27261_0a1a_11ea_a6fb_107b449f15fclevel0_row4\" class=\"row_heading level0 row4\" >галактика</th>\n",
       "                        <td id=\"T_d0f27261_0a1a_11ea_a6fb_107b449f15fcrow4_col0\" class=\"data row4 col0\" >0.00535</td>\n",
       "            </tr>\n",
       "            <tr>\n",
       "                        <th id=\"T_d0f27261_0a1a_11ea_a6fb_107b449f15fclevel0_row5\" class=\"row_heading level0 row5\" >гравитация</th>\n",
       "                        <td id=\"T_d0f27261_0a1a_11ea_a6fb_107b449f15fcrow5_col0\" class=\"data row5 col0\" >0.00464</td>\n",
       "            </tr>\n",
       "            <tr>\n",
       "                        <th id=\"T_d0f27261_0a1a_11ea_a6fb_107b449f15fclevel0_row6\" class=\"row_heading level0 row6\" >наблюдение</th>\n",
       "                        <td id=\"T_d0f27261_0a1a_11ea_a6fb_107b449f15fcrow6_col0\" class=\"data row6 col0\" >0.00456</td>\n",
       "            </tr>\n",
       "            <tr>\n",
       "                        <th id=\"T_d0f27261_0a1a_11ea_a6fb_107b449f15fclevel0_row7\" class=\"row_heading level0 row7\" >материя</th>\n",
       "                        <td id=\"T_d0f27261_0a1a_11ea_a6fb_107b449f15fcrow7_col0\" class=\"data row7 col0\" >0.00378</td>\n",
       "            </tr>\n",
       "            <tr>\n",
       "                        <th id=\"T_d0f27261_0a1a_11ea_a6fb_107b449f15fclevel0_row8\" class=\"row_heading level0 row8\" >излучение</th>\n",
       "                        <td id=\"T_d0f27261_0a1a_11ea_a6fb_107b449f15fcrow8_col0\" class=\"data row8 col0\" >0.00377</td>\n",
       "            </tr>\n",
       "            <tr>\n",
       "                        <th id=\"T_d0f27261_0a1a_11ea_a6fb_107b449f15fclevel0_row9\" class=\"row_heading level0 row9\" >неоднородность</th>\n",
       "                        <td id=\"T_d0f27261_0a1a_11ea_a6fb_107b449f15fcrow9_col0\" class=\"data row9 col0\" >0.00355</td>\n",
       "            </tr>\n",
       "    </tbody></table>"
      ]
     },
     "metadata": {},
     "output_type": "display_data"
    },
    {
     "data": {
      "text/html": [
       "<b> faqполяризация реликтового излучения </b><br /> 7 фактов о видах поляризации, эксперименте planck и  доказательствах инфляционной стадии расширения вселенной"
      ]
     },
     "metadata": {},
     "output_type": "display_data"
    },
    {
     "data": {
      "text/html": [
       "<b> главысовременная космология </b><br /> отрывок из 3-го издания книги «астрономиявек xxi» под редакцией владимира сурдина о важнейших событиях и нерешенных проблемах астрономии"
      ]
     },
     "metadata": {},
     "output_type": "display_data"
    },
    {
     "data": {
      "text/html": [
       "<b> поляризация реликтового излучения </b><br /> физик дмитрий горбунов об эксперименте bicep2, стадии инфляции и развитии теории гравитации"
      ]
     },
     "metadata": {},
     "output_type": "display_data"
    },
    {
     "data": {
      "text/html": [
       "<b> реликтовые гравитационные волны в свете данных обсерватории planck </b><br /> о b-моде поляризации реликтового излучения, намагниченной пыли и экспериментах bicep2 и planck"
      ]
     },
     "metadata": {},
     "output_type": "display_data"
    },
    {
     "data": {
      "text/html": [
       "<b> реликтовое излучение </b><br /> астроном лайман пейдж о развитии теории горячего большого взрыва, дипольной компоненте и зондировании вселенной до самых ранних эпох"
      ]
     },
     "metadata": {},
     "output_type": "display_data"
    },
    {
     "data": {
      "text/html": [
       "<b> что изменит открытие первичных гравитационных волн? </b><br /> астрофизик сергей попов о теории инфляции, поиске первичных гравитационных волн и заявлении коллаборации bicep"
      ]
     },
     "metadata": {},
     "output_type": "display_data"
    },
    {
     "data": {
      "text/html": [
       "<b> почему вселенную называют плоской? </b><br /> астрофизик олег верходанов об искривлении пространства, сценариях расширения вселенной и данных космической миссии planck"
      ]
     },
     "metadata": {},
     "output_type": "display_data"
    },
    {
     "data": {
      "text/html": [
       "<b> faqвселенная до горячей стадии </b><br /> 5 фактов о теориях развития вселенной, инфляционной модели и гравитационных волнах"
      ]
     },
     "metadata": {},
     "output_type": "display_data"
    },
    {
     "data": {
      "text/html": [
       "<b> вселенная до горячей стадии </b><br /> физик валерий рубаков о реликтовом излучении, зарождении неоднородностей и гравитационных волнах"
      ]
     },
     "metadata": {},
     "output_type": "display_data"
    },
    {
     "data": {
      "text/html": [
       "<b> олег верходанов\"самое точное знание о физике вселенной несет реликтовое излучение\" </b><br /> интервью с астрофизиком о методах исследования вселенной, проблемах проведения измерений и стандартной космологической модели"
      ]
     },
     "metadata": {},
     "output_type": "display_data"
    },
    {
     "data": {
      "text/html": [
       "<style  type=\"text/css\" >\n",
       "</style><table id=\"T_d0f27262_0a1a_11ea_a6fb_107b449f15fc\" style='display:inline'><thead>    <tr>        <th class=\"blank level0\" ></th>        <th class=\"col_heading level0 col0\" >topic_17 @2gramm</th>    </tr></thead><tbody>\n",
       "                <tr>\n",
       "                        <th id=\"T_d0f27262_0a1a_11ea_a6fb_107b449f15fclevel0_row0\" class=\"row_heading level0 row0\" >принятие_решение</th>\n",
       "                        <td id=\"T_d0f27262_0a1a_11ea_a6fb_107b449f15fcrow0_col0\" class=\"data row0 col0\" >0.0664</td>\n",
       "            </tr>\n",
       "            <tr>\n",
       "                        <th id=\"T_d0f27262_0a1a_11ea_a6fb_107b449f15fclevel0_row1\" class=\"row_heading level0 row1\" >теория_относительность</th>\n",
       "                        <td id=\"T_d0f27262_0a1a_11ea_a6fb_107b449f15fcrow1_col0\" class=\"data row1 col0\" >0.01686</td>\n",
       "            </tr>\n",
       "            <tr>\n",
       "                        <th id=\"T_d0f27262_0a1a_11ea_a6fb_107b449f15fclevel0_row2\" class=\"row_heading level0 row2\" >теория_игра</th>\n",
       "                        <td id=\"T_d0f27262_0a1a_11ea_a6fb_107b449f15fcrow2_col0\" class=\"data row2 col0\" >0.01516</td>\n",
       "            </tr>\n",
       "            <tr>\n",
       "                        <th id=\"T_d0f27262_0a1a_11ea_a6fb_107b449f15fclevel0_row3\" class=\"row_heading level0 row3\" >система_отсчёт</th>\n",
       "                        <td id=\"T_d0f27262_0a1a_11ea_a6fb_107b449f15fcrow3_col0\" class=\"data row3 col0\" >0.01245</td>\n",
       "            </tr>\n",
       "            <tr>\n",
       "                        <th id=\"T_d0f27262_0a1a_11ea_a6fb_107b449f15fclevel0_row4\" class=\"row_heading level0 row4\" >поведенческий_экономика</th>\n",
       "                        <td id=\"T_d0f27262_0a1a_11ea_a6fb_107b449f15fcrow4_col0\" class=\"data row4 col0\" >0.0071</td>\n",
       "            </tr>\n",
       "            <tr>\n",
       "                        <th id=\"T_d0f27262_0a1a_11ea_a6fb_107b449f15fclevel0_row5\" class=\"row_heading level0 row5\" >теория_гравитация</th>\n",
       "                        <td id=\"T_d0f27262_0a1a_11ea_a6fb_107b449f15fcrow5_col0\" class=\"data row5 col0\" >0.00653</td>\n",
       "            </tr>\n",
       "            <tr>\n",
       "                        <th id=\"T_d0f27262_0a1a_11ea_a6fb_107b449f15fclevel0_row6\" class=\"row_heading level0 row6\" >уравнение_максвелл</th>\n",
       "                        <td id=\"T_d0f27262_0a1a_11ea_a6fb_107b449f15fcrow6_col0\" class=\"data row6 col0\" >0.00651</td>\n",
       "            </tr>\n",
       "            <tr>\n",
       "                        <th id=\"T_d0f27262_0a1a_11ea_a6fb_107b449f15fclevel0_row7\" class=\"row_heading level0 row7\" >электромагнитный_волна</th>\n",
       "                        <td id=\"T_d0f27262_0a1a_11ea_a6fb_107b449f15fcrow7_col0\" class=\"data row7 col0\" >0.00624</td>\n",
       "            </tr>\n",
       "            <tr>\n",
       "                        <th id=\"T_d0f27262_0a1a_11ea_a6fb_107b449f15fclevel0_row8\" class=\"row_heading level0 row8\" >закон_ньютон</th>\n",
       "                        <td id=\"T_d0f27262_0a1a_11ea_a6fb_107b449f15fcrow8_col0\" class=\"data row8 col0\" >0.00621</td>\n",
       "            </tr>\n",
       "            <tr>\n",
       "                        <th id=\"T_d0f27262_0a1a_11ea_a6fb_107b449f15fclevel0_row9\" class=\"row_heading level0 row9\" >теория_эйнштейн</th>\n",
       "                        <td id=\"T_d0f27262_0a1a_11ea_a6fb_107b449f15fcrow9_col0\" class=\"data row9 col0\" >0.00601</td>\n",
       "            </tr>\n",
       "    </tbody></table><style  type=\"text/css\" >\n",
       "</style><table id=\"T_d0f27263_0a1a_11ea_a6fb_107b449f15fc\" style='display:inline'><thead>    <tr>        <th class=\"blank level0\" ></th>        <th class=\"col_heading level0 col0\" >topic_17 @3gramm</th>    </tr></thead><tbody>\n",
       "                <tr>\n",
       "                        <th id=\"T_d0f27263_0a1a_11ea_a6fb_107b449f15fclevel0_row0\" class=\"row_heading level0 row0\" >общий_теория_относительность</th>\n",
       "                        <td id=\"T_d0f27263_0a1a_11ea_a6fb_107b449f15fcrow0_col0\" class=\"data row0 col0\" >0.39829</td>\n",
       "            </tr>\n",
       "            <tr>\n",
       "                        <th id=\"T_d0f27263_0a1a_11ea_a6fb_107b449f15fclevel0_row1\" class=\"row_heading level0 row1\" >специальный_теория_относительность</th>\n",
       "                        <td id=\"T_d0f27263_0a1a_11ea_a6fb_107b449f15fcrow1_col0\" class=\"data row1 col0\" >0.19998</td>\n",
       "            </tr>\n",
       "            <tr>\n",
       "                        <th id=\"T_d0f27263_0a1a_11ea_a6fb_107b449f15fclevel0_row2\" class=\"row_heading level0 row2\" >процесс_принятие_решение</th>\n",
       "                        <td id=\"T_d0f27263_0a1a_11ea_a6fb_107b449f15fcrow2_col0\" class=\"data row2 col0\" >0.11008</td>\n",
       "            </tr>\n",
       "            <tr>\n",
       "                        <th id=\"T_d0f27263_0a1a_11ea_a6fb_107b449f15fclevel0_row3\" class=\"row_heading level0 row3\" >инерциальный_система_отсчёт</th>\n",
       "                        <td id=\"T_d0f27263_0a1a_11ea_a6fb_107b449f15fcrow3_col0\" class=\"data row3 col0\" >0.08571</td>\n",
       "            </tr>\n",
       "            <tr>\n",
       "                        <th id=\"T_d0f27263_0a1a_11ea_a6fb_107b449f15fclevel0_row4\" class=\"row_heading level0 row4\" >закон_сохранение_энергия</th>\n",
       "                        <td id=\"T_d0f27263_0a1a_11ea_a6fb_107b449f15fcrow4_col0\" class=\"data row4 col0\" >0.04818</td>\n",
       "            </tr>\n",
       "            <tr>\n",
       "                        <th id=\"T_d0f27263_0a1a_11ea_a6fb_107b449f15fclevel0_row5\" class=\"row_heading level0 row5\" >наиболее_часто_встречаться</th>\n",
       "                        <td id=\"T_d0f27263_0a1a_11ea_a6fb_107b449f15fcrow5_col0\" class=\"data row5 col0\" >0.04475</td>\n",
       "            </tr>\n",
       "            <tr>\n",
       "                        <th id=\"T_d0f27263_0a1a_11ea_a6fb_107b449f15fclevel0_row6\" class=\"row_heading level0 row6\" >принятие_экономический_решение</th>\n",
       "                        <td id=\"T_d0f27263_0a1a_11ea_a6fb_107b449f15fcrow6_col0\" class=\"data row6 col0\" >0.02845</td>\n",
       "            </tr>\n",
       "            <tr>\n",
       "                        <th id=\"T_d0f27263_0a1a_11ea_a6fb_107b449f15fclevel0_row7\" class=\"row_heading level0 row7\" >излучать_электромагнитный_волна</th>\n",
       "                        <td id=\"T_d0f27263_0a1a_11ea_a6fb_107b449f15fcrow7_col0\" class=\"data row7 col0\" >0.01225</td>\n",
       "            </tr>\n",
       "            <tr>\n",
       "                        <th id=\"T_d0f27263_0a1a_11ea_a6fb_107b449f15fclevel0_row8\" class=\"row_heading level0 row8\" >низкий_уровень_образование</th>\n",
       "                        <td id=\"T_d0f27263_0a1a_11ea_a6fb_107b449f15fcrow8_col0\" class=\"data row8 col0\" >0.01088</td>\n",
       "            </tr>\n",
       "            <tr>\n",
       "                        <th id=\"T_d0f27263_0a1a_11ea_a6fb_107b449f15fclevel0_row9\" class=\"row_heading level0 row9\" >недавно_издать_книга</th>\n",
       "                        <td id=\"T_d0f27263_0a1a_11ea_a6fb_107b449f15fcrow9_col0\" class=\"data row9 col0\" >0.00844</td>\n",
       "            </tr>\n",
       "    </tbody></table><style  type=\"text/css\" >\n",
       "</style><table id=\"T_d0f27264_0a1a_11ea_a6fb_107b449f15fc\" style='display:inline'><thead>    <tr>        <th class=\"blank level0\" ></th>        <th class=\"col_heading level0 col0\" >topic_17 @post_tag</th>    </tr></thead><tbody>\n",
       "                <tr>\n",
       "                        <th id=\"T_d0f27264_0a1a_11ea_a6fb_107b449f15fclevel0_row0\" class=\"row_heading level0 row0\" >математика</th>\n",
       "                        <td id=\"T_d0f27264_0a1a_11ea_a6fb_107b449f15fcrow0_col0\" class=\"data row0 col0\" >0.30672</td>\n",
       "            </tr>\n",
       "            <tr>\n",
       "                        <th id=\"T_d0f27264_0a1a_11ea_a6fb_107b449f15fclevel0_row1\" class=\"row_heading level0 row1\" >общая_теория_относительности</th>\n",
       "                        <td id=\"T_d0f27264_0a1a_11ea_a6fb_107b449f15fcrow1_col0\" class=\"data row1 col0\" >0.0634</td>\n",
       "            </tr>\n",
       "            <tr>\n",
       "                        <th id=\"T_d0f27264_0a1a_11ea_a6fb_107b449f15fclevel0_row2\" class=\"row_heading level0 row2\" >теория_принятия_решений</th>\n",
       "                        <td id=\"T_d0f27264_0a1a_11ea_a6fb_107b449f15fcrow2_col0\" class=\"data row2 col0\" >0.0566</td>\n",
       "            </tr>\n",
       "            <tr>\n",
       "                        <th id=\"T_d0f27264_0a1a_11ea_a6fb_107b449f15fclevel0_row3\" class=\"row_heading level0 row3\" >физика</th>\n",
       "                        <td id=\"T_d0f27264_0a1a_11ea_a6fb_107b449f15fcrow3_col0\" class=\"data row3 col0\" >0.04805</td>\n",
       "            </tr>\n",
       "            <tr>\n",
       "                        <th id=\"T_d0f27264_0a1a_11ea_a6fb_107b449f15fclevel0_row4\" class=\"row_heading level0 row4\" >принятие_решений</th>\n",
       "                        <td id=\"T_d0f27264_0a1a_11ea_a6fb_107b449f15fcrow4_col0\" class=\"data row4 col0\" >0.04752</td>\n",
       "            </tr>\n",
       "            <tr>\n",
       "                        <th id=\"T_d0f27264_0a1a_11ea_a6fb_107b449f15fclevel0_row5\" class=\"row_heading level0 row5\" >эйнштейн_альберт</th>\n",
       "                        <td id=\"T_d0f27264_0a1a_11ea_a6fb_107b449f15fcrow5_col0\" class=\"data row5 col0\" >0.0435</td>\n",
       "            </tr>\n",
       "            <tr>\n",
       "                        <th id=\"T_d0f27264_0a1a_11ea_a6fb_107b449f15fclevel0_row6\" class=\"row_heading level0 row6\" >теория_игр</th>\n",
       "                        <td id=\"T_d0f27264_0a1a_11ea_a6fb_107b449f15fcrow6_col0\" class=\"data row6 col0\" >0.04322</td>\n",
       "            </tr>\n",
       "            <tr>\n",
       "                        <th id=\"T_d0f27264_0a1a_11ea_a6fb_107b449f15fclevel0_row7\" class=\"row_heading level0 row7\" >специальная_теория_относительности</th>\n",
       "                        <td id=\"T_d0f27264_0a1a_11ea_a6fb_107b449f15fcrow7_col0\" class=\"data row7 col0\" >0.03982</td>\n",
       "            </tr>\n",
       "            <tr>\n",
       "                        <th id=\"T_d0f27264_0a1a_11ea_a6fb_107b449f15fclevel0_row8\" class=\"row_heading level0 row8\" >ньютон_исаак</th>\n",
       "                        <td id=\"T_d0f27264_0a1a_11ea_a6fb_107b449f15fcrow8_col0\" class=\"data row8 col0\" >0.03659</td>\n",
       "            </tr>\n",
       "            <tr>\n",
       "                        <th id=\"T_d0f27264_0a1a_11ea_a6fb_107b449f15fclevel0_row9\" class=\"row_heading level0 row9\" >суперкомпьютеры</th>\n",
       "                        <td id=\"T_d0f27264_0a1a_11ea_a6fb_107b449f15fcrow9_col0\" class=\"data row9 col0\" >0.03637</td>\n",
       "            </tr>\n",
       "    </tbody></table><style  type=\"text/css\" >\n",
       "</style><table id=\"T_d0f27265_0a1a_11ea_a6fb_107b449f15fc\" style='display:inline'><thead>    <tr>        <th class=\"blank level0\" ></th>        <th class=\"col_heading level0 col0\" >topic_17 @word</th>    </tr></thead><tbody>\n",
       "                <tr>\n",
       "                        <th id=\"T_d0f27265_0a1a_11ea_a6fb_107b449f15fclevel0_row0\" class=\"row_heading level0 row0\" >математика</th>\n",
       "                        <td id=\"T_d0f27265_0a1a_11ea_a6fb_107b449f15fcrow0_col0\" class=\"data row0 col0\" >0.00848</td>\n",
       "            </tr>\n",
       "            <tr>\n",
       "                        <th id=\"T_d0f27265_0a1a_11ea_a6fb_107b449f15fclevel0_row1\" class=\"row_heading level0 row1\" >эйнштейн</th>\n",
       "                        <td id=\"T_d0f27265_0a1a_11ea_a6fb_107b449f15fcrow1_col0\" class=\"data row1 col0\" >0.00661</td>\n",
       "            </tr>\n",
       "            <tr>\n",
       "                        <th id=\"T_d0f27265_0a1a_11ea_a6fb_107b449f15fclevel0_row2\" class=\"row_heading level0 row2\" >решение</th>\n",
       "                        <td id=\"T_d0f27265_0a1a_11ea_a6fb_107b449f15fcrow2_col0\" class=\"data row2 col0\" >0.00579</td>\n",
       "            </tr>\n",
       "            <tr>\n",
       "                        <th id=\"T_d0f27265_0a1a_11ea_a6fb_107b449f15fclevel0_row3\" class=\"row_heading level0 row3\" >пространство</th>\n",
       "                        <td id=\"T_d0f27265_0a1a_11ea_a6fb_107b449f15fcrow3_col0\" class=\"data row3 col0\" >0.00575</td>\n",
       "            </tr>\n",
       "            <tr>\n",
       "                        <th id=\"T_d0f27265_0a1a_11ea_a6fb_107b449f15fclevel0_row4\" class=\"row_heading level0 row4\" >математический</th>\n",
       "                        <td id=\"T_d0f27265_0a1a_11ea_a6fb_107b449f15fcrow4_col0\" class=\"data row4 col0\" >0.00473</td>\n",
       "            </tr>\n",
       "            <tr>\n",
       "                        <th id=\"T_d0f27265_0a1a_11ea_a6fb_107b449f15fclevel0_row5\" class=\"row_heading level0 row5\" >математик</th>\n",
       "                        <td id=\"T_d0f27265_0a1a_11ea_a6fb_107b449f15fcrow5_col0\" class=\"data row5 col0\" >0.00437</td>\n",
       "            </tr>\n",
       "            <tr>\n",
       "                        <th id=\"T_d0f27265_0a1a_11ea_a6fb_107b449f15fclevel0_row6\" class=\"row_heading level0 row6\" >модель</th>\n",
       "                        <td id=\"T_d0f27265_0a1a_11ea_a6fb_107b449f15fcrow6_col0\" class=\"data row6 col0\" >0.00431</td>\n",
       "            </tr>\n",
       "            <tr>\n",
       "                        <th id=\"T_d0f27265_0a1a_11ea_a6fb_107b449f15fclevel0_row7\" class=\"row_heading level0 row7\" >уравнение</th>\n",
       "                        <td id=\"T_d0f27265_0a1a_11ea_a6fb_107b449f15fcrow7_col0\" class=\"data row7 col0\" >0.00412</td>\n",
       "            </tr>\n",
       "            <tr>\n",
       "                        <th id=\"T_d0f27265_0a1a_11ea_a6fb_107b449f15fclevel0_row8\" class=\"row_heading level0 row8\" >игра</th>\n",
       "                        <td id=\"T_d0f27265_0a1a_11ea_a6fb_107b449f15fcrow8_col0\" class=\"data row8 col0\" >0.00391</td>\n",
       "            </tr>\n",
       "            <tr>\n",
       "                        <th id=\"T_d0f27265_0a1a_11ea_a6fb_107b449f15fclevel0_row9\" class=\"row_heading level0 row9\" >точка</th>\n",
       "                        <td id=\"T_d0f27265_0a1a_11ea_a6fb_107b449f15fcrow9_col0\" class=\"data row9 col0\" >0.00336</td>\n",
       "            </tr>\n",
       "    </tbody></table>"
      ]
     },
     "metadata": {},
     "output_type": "display_data"
    },
    {
     "data": {
      "text/html": [
       "<b> общая теория относительности </b><br /> физик эмиль ахмедов о неинерциальных системах отсчета, ковариантности и физическом смысле искривления пространства"
      ]
     },
     "metadata": {},
     "output_type": "display_data"
    },
    {
     "data": {
      "text/html": [
       "<b> главыот механики ньютона до электродинамики максвелла </b><br /> отрывок из книги «гравитация» физика александра петрова о понимании места механики и электродинамики в общей физической картине мира на рубеже xix и xx веков"
      ]
     },
     "metadata": {},
     "output_type": "display_data"
    },
    {
     "data": {
      "text/html": [
       "<b> субботний интенсив «общая и специальная теория относительности» </b><br /> 2 апреля с 12:00 до 19:00 в академии постнауки"
      ]
     },
     "metadata": {},
     "output_type": "display_data"
    },
    {
     "data": {
      "text/html": [
       "<b> faqспециальная теория относительности </b><br /> 5 фактов об основах и следствиях теории, изменившей физическую науку"
      ]
     },
     "metadata": {},
     "output_type": "display_data"
    },
    {
     "data": {
      "text/html": [
       "<b> создание общей теории относительности </b><br /> физик игорь волобуев о релятивистской механике, принципе эквивалентности и орбите меркурия"
      ]
     },
     "metadata": {},
     "output_type": "display_data"
    },
    {
     "data": {
      "text/html": [
       "<b> парадокс близнецов </b><br /> физик эмиль ахмедов о преобразованиях лоренца, специальной теории относительности и парадоксе стержня и сарая"
      ]
     },
     "metadata": {},
     "output_type": "display_data"
    },
    {
     "data": {
      "text/html": [
       "<b> специальная теория относительности </b><br /> физик эмиль ахмедов о преобразованиях лоренца, теореме нётер и global positioning system"
      ]
     },
     "metadata": {},
     "output_type": "display_data"
    },
    {
     "data": {
      "text/html": [
       "<b> главыобщая теория относительности и «счастливейшая мысль моей жизни» </b><br /> отрывок из книги «космос эйнштейна» физика митио каку о том, как эйнштейн работал над новой теорией гравитации в годы первой мировой войны"
      ]
     },
     "metadata": {},
     "output_type": "display_data"
    },
    {
     "data": {
      "text/html": [
       "<b> главыбедность и ребенок до появления на свет </b><br /> отрывок из книги «бедность и развитие ребенка» о том, как социальное неблагополучие влияет на разные аспекты развития ребенка"
      ]
     },
     "metadata": {},
     "output_type": "display_data"
    },
    {
     "data": {
      "text/html": [
       "<b> понятие поведенческой экономики </b><br /> экономист ксения паниди об идее рациональности, влиянии эмоций на поведение и когнитивных причинах экономических решений"
      ]
     },
     "metadata": {},
     "output_type": "display_data"
    },
    {
     "data": {
      "text/html": [
       "<style  type=\"text/css\" >\n",
       "</style><table id=\"T_d0f27266_0a1a_11ea_a6fb_107b449f15fc\" style='display:inline'><thead>    <tr>        <th class=\"blank level0\" ></th>        <th class=\"col_heading level0 col0\" >topic_18 @2gramm</th>    </tr></thead><tbody>\n",
       "                <tr>\n",
       "                        <th id=\"T_d0f27266_0a1a_11ea_a6fb_107b449f15fclevel0_row0\" class=\"row_heading level0 row0\" >русский_язык</th>\n",
       "                        <td id=\"T_d0f27266_0a1a_11ea_a6fb_107b449f15fcrow0_col0\" class=\"data row0 col0\" >0.1163</td>\n",
       "            </tr>\n",
       "            <tr>\n",
       "                        <th id=\"T_d0f27266_0a1a_11ea_a6fb_107b449f15fclevel0_row1\" class=\"row_heading level0 row1\" >английский_язык</th>\n",
       "                        <td id=\"T_d0f27266_0a1a_11ea_a6fb_107b449f15fcrow1_col0\" class=\"data row1 col0\" >0.01307</td>\n",
       "            </tr>\n",
       "            <tr>\n",
       "                        <th id=\"T_d0f27266_0a1a_11ea_a6fb_107b449f15fclevel0_row2\" class=\"row_heading level0 row2\" >литературный_язык</th>\n",
       "                        <td id=\"T_d0f27266_0a1a_11ea_a6fb_107b449f15fcrow2_col0\" class=\"data row2 col0\" >0.01283</td>\n",
       "            </tr>\n",
       "            <tr>\n",
       "                        <th id=\"T_d0f27266_0a1a_11ea_a6fb_107b449f15fclevel0_row3\" class=\"row_heading level0 row3\" >дискурсивный_слово</th>\n",
       "                        <td id=\"T_d0f27266_0a1a_11ea_a6fb_107b449f15fcrow3_col0\" class=\"data row3 col0\" >0.01185</td>\n",
       "            </tr>\n",
       "            <tr>\n",
       "                        <th id=\"T_d0f27266_0a1a_11ea_a6fb_107b449f15fclevel0_row4\" class=\"row_heading level0 row4\" >германский_язык</th>\n",
       "                        <td id=\"T_d0f27266_0a1a_11ea_a6fb_107b449f15fcrow4_col0\" class=\"data row4 col0\" >0.00942</td>\n",
       "            </tr>\n",
       "            <tr>\n",
       "                        <th id=\"T_d0f27266_0a1a_11ea_a6fb_107b449f15fclevel0_row5\" class=\"row_heading level0 row5\" >христианский_имя</th>\n",
       "                        <td id=\"T_d0f27266_0a1a_11ea_a6fb_107b449f15fcrow5_col0\" class=\"data row5 col0\" >0.00823</td>\n",
       "            </tr>\n",
       "            <tr>\n",
       "                        <th id=\"T_d0f27266_0a1a_11ea_a6fb_107b449f15fclevel0_row6\" class=\"row_heading level0 row6\" >множественный_число</th>\n",
       "                        <td id=\"T_d0f27266_0a1a_11ea_a6fb_107b449f15fcrow6_col0\" class=\"data row6 col0\" >0.00817</td>\n",
       "            </tr>\n",
       "            <tr>\n",
       "                        <th id=\"T_d0f27266_0a1a_11ea_a6fb_107b449f15fclevel0_row7\" class=\"row_heading level0 row7\" >древнерусский_язык</th>\n",
       "                        <td id=\"T_d0f27266_0a1a_11ea_a6fb_107b449f15fcrow7_col0\" class=\"data row7 col0\" >0.00807</td>\n",
       "            </tr>\n",
       "            <tr>\n",
       "                        <th id=\"T_d0f27266_0a1a_11ea_a6fb_107b449f15fclevel0_row8\" class=\"row_heading level0 row8\" >русский_князь</th>\n",
       "                        <td id=\"T_d0f27266_0a1a_11ea_a6fb_107b449f15fcrow8_col0\" class=\"data row8 col0\" >0.00798</td>\n",
       "            </tr>\n",
       "            <tr>\n",
       "                        <th id=\"T_d0f27266_0a1a_11ea_a6fb_107b449f15fclevel0_row9\" class=\"row_heading level0 row9\" >русский_говор</th>\n",
       "                        <td id=\"T_d0f27266_0a1a_11ea_a6fb_107b449f15fcrow9_col0\" class=\"data row9 col0\" >0.00671</td>\n",
       "            </tr>\n",
       "    </tbody></table><style  type=\"text/css\" >\n",
       "</style><table id=\"T_d0f27267_0a1a_11ea_a6fb_107b449f15fc\" style='display:inline'><thead>    <tr>        <th class=\"blank level0\" ></th>        <th class=\"col_heading level0 col0\" >topic_18 @3gramm</th>    </tr></thead><tbody>\n",
       "                <tr>\n",
       "                        <th id=\"T_d0f27267_0a1a_11ea_a6fb_107b449f15fclevel0_row0\" class=\"row_heading level0 row0\" >носитель_русский_язык</th>\n",
       "                        <td id=\"T_d0f27267_0a1a_11ea_a6fb_107b449f15fcrow0_col0\" class=\"data row0 col0\" >0.12329</td>\n",
       "            </tr>\n",
       "            <tr>\n",
       "                        <th id=\"T_d0f27267_0a1a_11ea_a6fb_107b449f15fclevel0_row1\" class=\"row_heading level0 row1\" >современный_русский_язык</th>\n",
       "                        <td id=\"T_d0f27267_0a1a_11ea_a6fb_107b449f15fcrow1_col0\" class=\"data row1 col0\" >0.12325</td>\n",
       "            </tr>\n",
       "            <tr>\n",
       "                        <th id=\"T_d0f27267_0a1a_11ea_a6fb_107b449f15fclevel0_row2\" class=\"row_heading level0 row2\" >начало_xvii_век</th>\n",
       "                        <td id=\"T_d0f27267_0a1a_11ea_a6fb_107b449f15fcrow2_col0\" class=\"data row2 col0\" >0.09843</td>\n",
       "            </tr>\n",
       "            <tr>\n",
       "                        <th id=\"T_d0f27267_0a1a_11ea_a6fb_107b449f15fclevel0_row3\" class=\"row_heading level0 row3\" >словарь_русский_язык</th>\n",
       "                        <td id=\"T_d0f27267_0a1a_11ea_a6fb_107b449f15fcrow3_col0\" class=\"data row3 col0\" >0.08219</td>\n",
       "            </tr>\n",
       "            <tr>\n",
       "                        <th id=\"T_d0f27267_0a1a_11ea_a6fb_107b449f15fclevel0_row4\" class=\"row_heading level0 row4\" >язык_славянский_культура</th>\n",
       "                        <td id=\"T_d0f27267_0a1a_11ea_a6fb_107b449f15fcrow4_col0\" class=\"data row4 col0\" >0.06966</td>\n",
       "            </tr>\n",
       "            <tr>\n",
       "                        <th id=\"T_d0f27267_0a1a_11ea_a6fb_107b449f15fclevel0_row5\" class=\"row_heading level0 row5\" >русский_литературный_язык</th>\n",
       "                        <td id=\"T_d0f27267_0a1a_11ea_a6fb_107b449f15fcrow5_col0\" class=\"data row5 col0\" >0.06165</td>\n",
       "            </tr>\n",
       "            <tr>\n",
       "                        <th id=\"T_d0f27267_0a1a_11ea_a6fb_107b449f15fclevel0_row6\" class=\"row_heading level0 row6\" >вне_всякий_сомнение</th>\n",
       "                        <td id=\"T_d0f27267_0a1a_11ea_a6fb_107b449f15fcrow6_col0\" class=\"data row6 col0\" >0.06125</td>\n",
       "            </tr>\n",
       "            <tr>\n",
       "                        <th id=\"T_d0f27267_0a1a_11ea_a6fb_107b449f15fclevel0_row7\" class=\"row_heading level0 row7\" >глагол_совершенный_вид</th>\n",
       "                        <td id=\"T_d0f27267_0a1a_11ea_a6fb_107b449f15fcrow7_col0\" class=\"data row7 col0\" >0.04519</td>\n",
       "            </tr>\n",
       "            <tr>\n",
       "                        <th id=\"T_d0f27267_0a1a_11ea_a6fb_107b449f15fclevel0_row8\" class=\"row_heading level0 row8\" >институт_русский_язык</th>\n",
       "                        <td id=\"T_d0f27267_0a1a_11ea_a6fb_107b449f15fcrow8_col0\" class=\"data row8 col0\" >0.04107</td>\n",
       "            </tr>\n",
       "            <tr>\n",
       "                        <th id=\"T_d0f27267_0a1a_11ea_a6fb_107b449f15fclevel0_row9\" class=\"row_heading level0 row9\" >история_русский_язык</th>\n",
       "                        <td id=\"T_d0f27267_0a1a_11ea_a6fb_107b449f15fcrow9_col0\" class=\"data row9 col0\" >0.03283</td>\n",
       "            </tr>\n",
       "    </tbody></table><style  type=\"text/css\" >\n",
       "</style><table id=\"T_d0f27268_0a1a_11ea_a6fb_107b449f15fc\" style='display:inline'><thead>    <tr>        <th class=\"blank level0\" ></th>        <th class=\"col_heading level0 col0\" >topic_18 @post_tag</th>    </tr></thead><tbody>\n",
       "                <tr>\n",
       "                        <th id=\"T_d0f27268_0a1a_11ea_a6fb_107b449f15fclevel0_row0\" class=\"row_heading level0 row0\" >филология</th>\n",
       "                        <td id=\"T_d0f27268_0a1a_11ea_a6fb_107b449f15fcrow0_col0\" class=\"data row0 col0\" >0.23147</td>\n",
       "            </tr>\n",
       "            <tr>\n",
       "                        <th id=\"T_d0f27268_0a1a_11ea_a6fb_107b449f15fclevel0_row1\" class=\"row_heading level0 row1\" >русский_язык</th>\n",
       "                        <td id=\"T_d0f27268_0a1a_11ea_a6fb_107b449f15fcrow1_col0\" class=\"data row1 col0\" >0.13405</td>\n",
       "            </tr>\n",
       "            <tr>\n",
       "                        <th id=\"T_d0f27268_0a1a_11ea_a6fb_107b449f15fclevel0_row2\" class=\"row_heading level0 row2\" >язык</th>\n",
       "                        <td id=\"T_d0f27268_0a1a_11ea_a6fb_107b449f15fcrow2_col0\" class=\"data row2 col0\" >0.12467</td>\n",
       "            </tr>\n",
       "            <tr>\n",
       "                        <th id=\"T_d0f27268_0a1a_11ea_a6fb_107b449f15fclevel0_row3\" class=\"row_heading level0 row3\" >лингвистика</th>\n",
       "                        <td id=\"T_d0f27268_0a1a_11ea_a6fb_107b449f15fcrow3_col0\" class=\"data row3 col0\" >0.10197</td>\n",
       "            </tr>\n",
       "            <tr>\n",
       "                        <th id=\"T_d0f27268_0a1a_11ea_a6fb_107b449f15fclevel0_row4\" class=\"row_heading level0 row4\" >грамматика</th>\n",
       "                        <td id=\"T_d0f27268_0a1a_11ea_a6fb_107b449f15fcrow4_col0\" class=\"data row4 col0\" >0.03217</td>\n",
       "            </tr>\n",
       "            <tr>\n",
       "                        <th id=\"T_d0f27268_0a1a_11ea_a6fb_107b449f15fclevel0_row5\" class=\"row_heading level0 row5\" >лексика</th>\n",
       "                        <td id=\"T_d0f27268_0a1a_11ea_a6fb_107b449f15fcrow5_col0\" class=\"data row5 col0\" >0.02068</td>\n",
       "            </tr>\n",
       "            <tr>\n",
       "                        <th id=\"T_d0f27268_0a1a_11ea_a6fb_107b449f15fclevel0_row6\" class=\"row_heading level0 row6\" >диалект</th>\n",
       "                        <td id=\"T_d0f27268_0a1a_11ea_a6fb_107b449f15fcrow6_col0\" class=\"data row6 col0\" >0.0176</td>\n",
       "            </tr>\n",
       "            <tr>\n",
       "                        <th id=\"T_d0f27268_0a1a_11ea_a6fb_107b449f15fclevel0_row7\" class=\"row_heading level0 row7\" >словарь</th>\n",
       "                        <td id=\"T_d0f27268_0a1a_11ea_a6fb_107b449f15fcrow7_col0\" class=\"data row7 col0\" >0.01754</td>\n",
       "            </tr>\n",
       "            <tr>\n",
       "                        <th id=\"T_d0f27268_0a1a_11ea_a6fb_107b449f15fclevel0_row8\" class=\"row_heading level0 row8\" >русь</th>\n",
       "                        <td id=\"T_d0f27268_0a1a_11ea_a6fb_107b449f15fcrow8_col0\" class=\"data row8 col0\" >0.01676</td>\n",
       "            </tr>\n",
       "            <tr>\n",
       "                        <th id=\"T_d0f27268_0a1a_11ea_a6fb_107b449f15fclevel0_row9\" class=\"row_heading level0 row9\" >структура_языка</th>\n",
       "                        <td id=\"T_d0f27268_0a1a_11ea_a6fb_107b449f15fcrow9_col0\" class=\"data row9 col0\" >0.01586</td>\n",
       "            </tr>\n",
       "    </tbody></table><style  type=\"text/css\" >\n",
       "</style><table id=\"T_d0f27269_0a1a_11ea_a6fb_107b449f15fc\" style='display:inline'><thead>    <tr>        <th class=\"blank level0\" ></th>        <th class=\"col_heading level0 col0\" >topic_18 @word</th>    </tr></thead><tbody>\n",
       "                <tr>\n",
       "                        <th id=\"T_d0f27269_0a1a_11ea_a6fb_107b449f15fclevel0_row0\" class=\"row_heading level0 row0\" >слово</th>\n",
       "                        <td id=\"T_d0f27269_0a1a_11ea_a6fb_107b449f15fcrow0_col0\" class=\"data row0 col0\" >0.01252</td>\n",
       "            </tr>\n",
       "            <tr>\n",
       "                        <th id=\"T_d0f27269_0a1a_11ea_a6fb_107b449f15fclevel0_row1\" class=\"row_heading level0 row1\" >словарь</th>\n",
       "                        <td id=\"T_d0f27269_0a1a_11ea_a6fb_107b449f15fcrow1_col0\" class=\"data row1 col0\" >0.00555</td>\n",
       "            </tr>\n",
       "            <tr>\n",
       "                        <th id=\"T_d0f27269_0a1a_11ea_a6fb_107b449f15fclevel0_row2\" class=\"row_heading level0 row2\" >русский</th>\n",
       "                        <td id=\"T_d0f27269_0a1a_11ea_a6fb_107b449f15fcrow2_col0\" class=\"data row2 col0\" >0.0054</td>\n",
       "            </tr>\n",
       "            <tr>\n",
       "                        <th id=\"T_d0f27269_0a1a_11ea_a6fb_107b449f15fclevel0_row3\" class=\"row_heading level0 row3\" >глагол</th>\n",
       "                        <td id=\"T_d0f27269_0a1a_11ea_a6fb_107b449f15fcrow3_col0\" class=\"data row3 col0\" >0.00535</td>\n",
       "            </tr>\n",
       "            <tr>\n",
       "                        <th id=\"T_d0f27269_0a1a_11ea_a6fb_107b449f15fclevel0_row4\" class=\"row_heading level0 row4\" >текст</th>\n",
       "                        <td id=\"T_d0f27269_0a1a_11ea_a6fb_107b449f15fcrow4_col0\" class=\"data row4 col0\" >0.0052</td>\n",
       "            </tr>\n",
       "            <tr>\n",
       "                        <th id=\"T_d0f27269_0a1a_11ea_a6fb_107b449f15fclevel0_row5\" class=\"row_heading level0 row5\" >знать</th>\n",
       "                        <td id=\"T_d0f27269_0a1a_11ea_a6fb_107b449f15fcrow5_col0\" class=\"data row5 col0\" >0.00477</td>\n",
       "            </tr>\n",
       "            <tr>\n",
       "                        <th id=\"T_d0f27269_0a1a_11ea_a6fb_107b449f15fclevel0_row6\" class=\"row_heading level0 row6\" >язык</th>\n",
       "                        <td id=\"T_d0f27269_0a1a_11ea_a6fb_107b449f15fcrow6_col0\" class=\"data row6 col0\" >0.00456</td>\n",
       "            </tr>\n",
       "            <tr>\n",
       "                        <th id=\"T_d0f27269_0a1a_11ea_a6fb_107b449f15fclevel0_row7\" class=\"row_heading level0 row7\" >предложение</th>\n",
       "                        <td id=\"T_d0f27269_0a1a_11ea_a6fb_107b449f15fcrow7_col0\" class=\"data row7 col0\" >0.00407</td>\n",
       "            </tr>\n",
       "            <tr>\n",
       "                        <th id=\"T_d0f27269_0a1a_11ea_a6fb_107b449f15fclevel0_row8\" class=\"row_heading level0 row8\" >значение</th>\n",
       "                        <td id=\"T_d0f27269_0a1a_11ea_a6fb_107b449f15fcrow8_col0\" class=\"data row8 col0\" >0.00392</td>\n",
       "            </tr>\n",
       "            <tr>\n",
       "                        <th id=\"T_d0f27269_0a1a_11ea_a6fb_107b449f15fclevel0_row9\" class=\"row_heading level0 row9\" >буква</th>\n",
       "                        <td id=\"T_d0f27269_0a1a_11ea_a6fb_107b449f15fcrow9_col0\" class=\"data row9 col0\" >0.00327</td>\n",
       "            </tr>\n",
       "    </tbody></table>"
      ]
     },
     "metadata": {},
     "output_type": "display_data"
    },
    {
     "data": {
      "text/html": [
       "<b> научная классификация и естественный языкпроблема орехов </b><br /> лингвист борис иомдин о бытовом и словарном определении «орехов» и формировании нового класса слов"
      ]
     },
     "metadata": {},
     "output_type": "display_data"
    },
    {
     "data": {
      "text/html": [
       "<b> русский диалектный консонантизм </b><br /> лингвист игорь исаев о твердости/мягкости согласных, особенностях артикуляции в говорах и методах фонетического анализа речи"
      ]
     },
     "metadata": {},
     "output_type": "display_data"
    },
    {
     "data": {
      "text/html": [
       "<b> «глагольный вид является едва ли не самым сложным для изучения» </b><br /> интервью с лингвистом алексеем шмелевым о предмете изучения аспектологии, ошибках в употреблении глаголов и сложностях русской грамматики"
      ]
     },
     "metadata": {},
     "output_type": "display_data"
    },
    {
     "data": {
      "text/html": [
       "<b> двувидовые глаголы </b><br /> лингвист александр пиперски об особенностях глаголов совершенного и несовершенного вида, интеграции в русский язык заимствованных глаголов и видовых противоречиях в русских словарях"
      ]
     },
     "metadata": {},
     "output_type": "display_data"
    },
    {
     "data": {
      "text/html": [
       "<b> гласные русского языка </b><br /> лингвист игорь исаев об истории гласных в литературном языке, следах утраченных букв и особенностях говоров"
      ]
     },
     "metadata": {},
     "output_type": "display_data"
    },
    {
     "data": {
      "text/html": [
       "<b> «диалектные черты имеют глубокую историю, но до сих пор сохраняются носителями, живущими в деревнях» </b><br /> интервью с лингвистом игорем исаевым о диалектных особенностях северного наречия русского языка"
      ]
     },
     "metadata": {},
     "output_type": "display_data"
    },
    {
     "data": {
      "text/html": [
       "<b> «один из самых коротких рассказов в истории человечества — знаменитые слова юлия цезаря “пришел, увидел, победил”» </b><br /> интервью с лингвистом мирой бергельсон о лингвистическом анализе рассказа, его роли в коммуникации и языковой норме"
      ]
     },
     "metadata": {},
     "output_type": "display_data"
    },
    {
     "data": {
      "text/html": [
       "<b> faqударение на предлог </b><br /> 7 фактов о системе ударений и памяти языка в поэтической традиции"
      ]
     },
     "metadata": {},
     "output_type": "display_data"
    },
    {
     "data": {
      "text/html": [
       "<b> архитектура грамматики </b><br /> лингвист екатерина лютикова об уровневых моделях языка, значении синтаксиса и генеративной лингвистике"
      ]
     },
     "metadata": {},
     "output_type": "display_data"
    },
    {
     "data": {
      "text/html": [
       "<b> стелла цейтлин«ни одна детская речевая инновация не является случайной» </b><br /> интервью с лингвистом о процессе освоения языка детьми, онтолингвистике и современных исследованиях"
      ]
     },
     "metadata": {},
     "output_type": "display_data"
    },
    {
     "data": {
      "text/html": [
       "<style  type=\"text/css\" >\n",
       "</style><table id=\"T_d0f2726a_0a1a_11ea_a6fb_107b449f15fc\" style='display:inline'><thead>    <tr>        <th class=\"blank level0\" ></th>        <th class=\"col_heading level0 col0\" >topic_19 @2gramm</th>    </tr></thead><tbody>\n",
       "                <tr>\n",
       "                        <th id=\"T_d0f2726a_0a1a_11ea_a6fb_107b449f15fclevel0_row0\" class=\"row_heading level0 row0\" >средний_век</th>\n",
       "                        <td id=\"T_d0f2726a_0a1a_11ea_a6fb_107b449f15fcrow0_col0\" class=\"data row0 col0\" >0.03344</td>\n",
       "            </tr>\n",
       "            <tr>\n",
       "                        <th id=\"T_d0f2726a_0a1a_11ea_a6fb_107b449f15fclevel0_row1\" class=\"row_heading level0 row1\" >xvii_век</th>\n",
       "                        <td id=\"T_d0f2726a_0a1a_11ea_a6fb_107b449f15fcrow1_col0\" class=\"data row1 col0\" >0.02233</td>\n",
       "            </tr>\n",
       "            <tr>\n",
       "                        <th id=\"T_d0f2726a_0a1a_11ea_a6fb_107b449f15fclevel0_row2\" class=\"row_heading level0 row2\" >католический_церковь</th>\n",
       "                        <td id=\"T_d0f2726a_0a1a_11ea_a6fb_107b449f15fcrow2_col0\" class=\"data row2 col0\" >0.01423</td>\n",
       "            </tr>\n",
       "            <tr>\n",
       "                        <th id=\"T_d0f2726a_0a1a_11ea_a6fb_107b449f15fclevel0_row3\" class=\"row_heading level0 row3\" >xii_век</th>\n",
       "                        <td id=\"T_d0f2726a_0a1a_11ea_a6fb_107b449f15fcrow3_col0\" class=\"data row3 col0\" >0.01392</td>\n",
       "            </tr>\n",
       "            <tr>\n",
       "                        <th id=\"T_d0f2726a_0a1a_11ea_a6fb_107b449f15fclevel0_row4\" class=\"row_heading level0 row4\" >xvi_век</th>\n",
       "                        <td id=\"T_d0f2726a_0a1a_11ea_a6fb_107b449f15fcrow4_col0\" class=\"data row4 col0\" >0.01309</td>\n",
       "            </tr>\n",
       "            <tr>\n",
       "                        <th id=\"T_d0f2726a_0a1a_11ea_a6fb_107b449f15fclevel0_row5\" class=\"row_heading level0 row5\" >xiii_век</th>\n",
       "                        <td id=\"T_d0f2726a_0a1a_11ea_a6fb_107b449f15fcrow5_col0\" class=\"data row5 col0\" >0.01297</td>\n",
       "            </tr>\n",
       "            <tr>\n",
       "                        <th id=\"T_d0f2726a_0a1a_11ea_a6fb_107b449f15fclevel0_row6\" class=\"row_heading level0 row6\" >священный_писание</th>\n",
       "                        <td id=\"T_d0f2726a_0a1a_11ea_a6fb_107b449f15fcrow6_col0\" class=\"data row6 col0\" >0.00871</td>\n",
       "            </tr>\n",
       "            <tr>\n",
       "                        <th id=\"T_d0f2726a_0a1a_11ea_a6fb_107b449f15fclevel0_row7\" class=\"row_heading level0 row7\" >фома_аквинский</th>\n",
       "                        <td id=\"T_d0f2726a_0a1a_11ea_a6fb_107b449f15fcrow7_col0\" class=\"data row7 col0\" >0.00865</td>\n",
       "            </tr>\n",
       "            <tr>\n",
       "                        <th id=\"T_d0f2726a_0a1a_11ea_a6fb_107b449f15fclevel0_row8\" class=\"row_heading level0 row8\" >xv_век</th>\n",
       "                        <td id=\"T_d0f2726a_0a1a_11ea_a6fb_107b449f15fcrow8_col0\" class=\"data row8 col0\" >0.00767</td>\n",
       "            </tr>\n",
       "            <tr>\n",
       "                        <th id=\"T_d0f2726a_0a1a_11ea_a6fb_107b449f15fclevel0_row9\" class=\"row_heading level0 row9\" >повесть_временной</th>\n",
       "                        <td id=\"T_d0f2726a_0a1a_11ea_a6fb_107b449f15fcrow9_col0\" class=\"data row9 col0\" >0.00753</td>\n",
       "            </tr>\n",
       "    </tbody></table><style  type=\"text/css\" >\n",
       "</style><table id=\"T_d0f2726b_0a1a_11ea_a6fb_107b449f15fc\" style='display:inline'><thead>    <tr>        <th class=\"blank level0\" ></th>        <th class=\"col_heading level0 col0\" >topic_19 @3gramm</th>    </tr></thead><tbody>\n",
       "                <tr>\n",
       "                        <th id=\"T_d0f2726b_0a1a_11ea_a6fb_107b449f15fclevel0_row0\" class=\"row_heading level0 row0\" >половина_xix_век</th>\n",
       "                        <td id=\"T_d0f2726b_0a1a_11ea_a6fb_107b449f15fcrow0_col0\" class=\"data row0 col0\" >0.24067</td>\n",
       "            </tr>\n",
       "            <tr>\n",
       "                        <th id=\"T_d0f2726b_0a1a_11ea_a6fb_107b449f15fclevel0_row1\" class=\"row_heading level0 row1\" >немецкий_классический_философия</th>\n",
       "                        <td id=\"T_d0f2726b_0a1a_11ea_a6fb_107b449f15fcrow1_col0\" class=\"data row1 col0\" >0.11595</td>\n",
       "            </tr>\n",
       "            <tr>\n",
       "                        <th id=\"T_d0f2726b_0a1a_11ea_a6fb_107b449f15fclevel0_row2\" class=\"row_heading level0 row2\" >конец_xvi_век</th>\n",
       "                        <td id=\"T_d0f2726b_0a1a_11ea_a6fb_107b449f15fcrow2_col0\" class=\"data row2 col0\" >0.05795</td>\n",
       "            </tr>\n",
       "            <tr>\n",
       "                        <th id=\"T_d0f2726b_0a1a_11ea_a6fb_107b449f15fclevel0_row3\" class=\"row_heading level0 row3\" >начало_xii_век</th>\n",
       "                        <td id=\"T_d0f2726b_0a1a_11ea_a6fb_107b449f15fcrow3_col0\" class=\"data row3 col0\" >0.04899</td>\n",
       "            </tr>\n",
       "            <tr>\n",
       "                        <th id=\"T_d0f2726b_0a1a_11ea_a6fb_107b449f15fclevel0_row4\" class=\"row_heading level0 row4\" >начало_xiii_век</th>\n",
       "                        <td id=\"T_d0f2726b_0a1a_11ea_a6fb_107b449f15fcrow4_col0\" class=\"data row4 col0\" >0.0401</td>\n",
       "            </tr>\n",
       "            <tr>\n",
       "                        <th id=\"T_d0f2726b_0a1a_11ea_a6fb_107b449f15fclevel0_row5\" class=\"row_heading level0 row5\" >великий_хартия_вольность</th>\n",
       "                        <td id=\"T_d0f2726b_0a1a_11ea_a6fb_107b449f15fcrow5_col0\" class=\"data row5 col0\" >0.03998</td>\n",
       "            </tr>\n",
       "            <tr>\n",
       "                        <th id=\"T_d0f2726b_0a1a_11ea_a6fb_107b449f15fclevel0_row6\" class=\"row_heading level0 row6\" >конец_xv_век</th>\n",
       "                        <td id=\"T_d0f2726b_0a1a_11ea_a6fb_107b449f15fcrow6_col0\" class=\"data row6 col0\" >0.03997</td>\n",
       "            </tr>\n",
       "            <tr>\n",
       "                        <th id=\"T_d0f2726b_0a1a_11ea_a6fb_107b449f15fclevel0_row7\" class=\"row_heading level0 row7\" >середина_xvii_век</th>\n",
       "                        <td id=\"T_d0f2726b_0a1a_11ea_a6fb_107b449f15fcrow7_col0\" class=\"data row7 col0\" >0.03963</td>\n",
       "            </tr>\n",
       "            <tr>\n",
       "                        <th id=\"T_d0f2726b_0a1a_11ea_a6fb_107b449f15fclevel0_row8\" class=\"row_heading level0 row8\" >конец_xvii_век</th>\n",
       "                        <td id=\"T_d0f2726b_0a1a_11ea_a6fb_107b449f15fcrow8_col0\" class=\"data row8 col0\" >0.03266</td>\n",
       "            </tr>\n",
       "            <tr>\n",
       "                        <th id=\"T_d0f2726b_0a1a_11ea_a6fb_107b449f15fclevel0_row9\" class=\"row_heading level0 row9\" >жак_ле_гофф</th>\n",
       "                        <td id=\"T_d0f2726b_0a1a_11ea_a6fb_107b449f15fcrow9_col0\" class=\"data row9 col0\" >0.03116</td>\n",
       "            </tr>\n",
       "    </tbody></table><style  type=\"text/css\" >\n",
       "</style><table id=\"T_d0f2726c_0a1a_11ea_a6fb_107b449f15fc\" style='display:inline'><thead>    <tr>        <th class=\"blank level0\" ></th>        <th class=\"col_heading level0 col0\" >topic_19 @post_tag</th>    </tr></thead><tbody>\n",
       "                <tr>\n",
       "                        <th id=\"T_d0f2726c_0a1a_11ea_a6fb_107b449f15fclevel0_row0\" class=\"row_heading level0 row0\" >средневековье</th>\n",
       "                        <td id=\"T_d0f2726c_0a1a_11ea_a6fb_107b449f15fcrow0_col0\" class=\"data row0 col0\" >0.16312</td>\n",
       "            </tr>\n",
       "            <tr>\n",
       "                        <th id=\"T_d0f2726c_0a1a_11ea_a6fb_107b449f15fclevel0_row1\" class=\"row_heading level0 row1\" >христианство</th>\n",
       "                        <td id=\"T_d0f2726c_0a1a_11ea_a6fb_107b449f15fcrow1_col0\" class=\"data row1 col0\" >0.13048</td>\n",
       "            </tr>\n",
       "            <tr>\n",
       "                        <th id=\"T_d0f2726c_0a1a_11ea_a6fb_107b449f15fclevel0_row2\" class=\"row_heading level0 row2\" >история</th>\n",
       "                        <td id=\"T_d0f2726c_0a1a_11ea_a6fb_107b449f15fcrow2_col0\" class=\"data row2 col0\" >0.09798</td>\n",
       "            </tr>\n",
       "            <tr>\n",
       "                        <th id=\"T_d0f2726c_0a1a_11ea_a6fb_107b449f15fclevel0_row3\" class=\"row_heading level0 row3\" >европа</th>\n",
       "                        <td id=\"T_d0f2726c_0a1a_11ea_a6fb_107b449f15fcrow3_col0\" class=\"data row3 col0\" >0.07122</td>\n",
       "            </tr>\n",
       "            <tr>\n",
       "                        <th id=\"T_d0f2726c_0a1a_11ea_a6fb_107b449f15fclevel0_row4\" class=\"row_heading level0 row4\" >религия</th>\n",
       "                        <td id=\"T_d0f2726c_0a1a_11ea_a6fb_107b449f15fcrow4_col0\" class=\"data row4 col0\" >0.06018</td>\n",
       "            </tr>\n",
       "            <tr>\n",
       "                        <th id=\"T_d0f2726c_0a1a_11ea_a6fb_107b449f15fclevel0_row5\" class=\"row_heading level0 row5\" >католицизм</th>\n",
       "                        <td id=\"T_d0f2726c_0a1a_11ea_a6fb_107b449f15fcrow5_col0\" class=\"data row5 col0\" >0.04311</td>\n",
       "            </tr>\n",
       "            <tr>\n",
       "                        <th id=\"T_d0f2726c_0a1a_11ea_a6fb_107b449f15fclevel0_row6\" class=\"row_heading level0 row6\" >русь</th>\n",
       "                        <td id=\"T_d0f2726c_0a1a_11ea_a6fb_107b449f15fcrow6_col0\" class=\"data row6 col0\" >0.0259</td>\n",
       "            </tr>\n",
       "            <tr>\n",
       "                        <th id=\"T_d0f2726c_0a1a_11ea_a6fb_107b449f15fclevel0_row7\" class=\"row_heading level0 row7\" >медиевистика</th>\n",
       "                        <td id=\"T_d0f2726c_0a1a_11ea_a6fb_107b449f15fcrow7_col0\" class=\"data row7 col0\" >0.02425</td>\n",
       "            </tr>\n",
       "            <tr>\n",
       "                        <th id=\"T_d0f2726c_0a1a_11ea_a6fb_107b449f15fclevel0_row8\" class=\"row_heading level0 row8\" >инквизиция</th>\n",
       "                        <td id=\"T_d0f2726c_0a1a_11ea_a6fb_107b449f15fcrow8_col0\" class=\"data row8 col0\" >0.02422</td>\n",
       "            </tr>\n",
       "            <tr>\n",
       "                        <th id=\"T_d0f2726c_0a1a_11ea_a6fb_107b449f15fclevel0_row9\" class=\"row_heading level0 row9\" >власть</th>\n",
       "                        <td id=\"T_d0f2726c_0a1a_11ea_a6fb_107b449f15fcrow9_col0\" class=\"data row9 col0\" >0.02371</td>\n",
       "            </tr>\n",
       "    </tbody></table><style  type=\"text/css\" >\n",
       "</style><table id=\"T_d0f2726d_0a1a_11ea_a6fb_107b449f15fc\" style='display:inline'><thead>    <tr>        <th class=\"blank level0\" ></th>        <th class=\"col_heading level0 col0\" >topic_19 @word</th>    </tr></thead><tbody>\n",
       "                <tr>\n",
       "                        <th id=\"T_d0f2726d_0a1a_11ea_a6fb_107b449f15fclevel0_row0\" class=\"row_heading level0 row0\" >церковь</th>\n",
       "                        <td id=\"T_d0f2726d_0a1a_11ea_a6fb_107b449f15fcrow0_col0\" class=\"data row0 col0\" >0.00647</td>\n",
       "            </tr>\n",
       "            <tr>\n",
       "                        <th id=\"T_d0f2726d_0a1a_11ea_a6fb_107b449f15fclevel0_row1\" class=\"row_heading level0 row1\" >король</th>\n",
       "                        <td id=\"T_d0f2726d_0a1a_11ea_a6fb_107b449f15fcrow1_col0\" class=\"data row1 col0\" >0.0049</td>\n",
       "            </tr>\n",
       "            <tr>\n",
       "                        <th id=\"T_d0f2726d_0a1a_11ea_a6fb_107b449f15fclevel0_row2\" class=\"row_heading level0 row2\" >власть</th>\n",
       "                        <td id=\"T_d0f2726d_0a1a_11ea_a6fb_107b449f15fcrow2_col0\" class=\"data row2 col0\" >0.00421</td>\n",
       "            </tr>\n",
       "            <tr>\n",
       "                        <th id=\"T_d0f2726d_0a1a_11ea_a6fb_107b449f15fclevel0_row3\" class=\"row_heading level0 row3\" >история</th>\n",
       "                        <td id=\"T_d0f2726d_0a1a_11ea_a6fb_107b449f15fcrow3_col0\" class=\"data row3 col0\" >0.0041</td>\n",
       "            </tr>\n",
       "            <tr>\n",
       "                        <th id=\"T_d0f2726d_0a1a_11ea_a6fb_107b449f15fclevel0_row4\" class=\"row_heading level0 row4\" >средневековый</th>\n",
       "                        <td id=\"T_d0f2726d_0a1a_11ea_a6fb_107b449f15fcrow4_col0\" class=\"data row4 col0\" >0.00404</td>\n",
       "            </tr>\n",
       "            <tr>\n",
       "                        <th id=\"T_d0f2726d_0a1a_11ea_a6fb_107b449f15fclevel0_row5\" class=\"row_heading level0 row5\" >текст</th>\n",
       "                        <td id=\"T_d0f2726d_0a1a_11ea_a6fb_107b449f15fcrow5_col0\" class=\"data row5 col0\" >0.00381</td>\n",
       "            </tr>\n",
       "            <tr>\n",
       "                        <th id=\"T_d0f2726d_0a1a_11ea_a6fb_107b449f15fclevel0_row6\" class=\"row_heading level0 row6\" >бог</th>\n",
       "                        <td id=\"T_d0f2726d_0a1a_11ea_a6fb_107b449f15fcrow6_col0\" class=\"data row6 col0\" >0.00359</td>\n",
       "            </tr>\n",
       "            <tr>\n",
       "                        <th id=\"T_d0f2726d_0a1a_11ea_a6fb_107b449f15fclevel0_row7\" class=\"row_heading level0 row7\" >историк</th>\n",
       "                        <td id=\"T_d0f2726d_0a1a_11ea_a6fb_107b449f15fcrow7_col0\" class=\"data row7 col0\" >0.00355</td>\n",
       "            </tr>\n",
       "            <tr>\n",
       "                        <th id=\"T_d0f2726d_0a1a_11ea_a6fb_107b449f15fclevel0_row8\" class=\"row_heading level0 row8\" >император</th>\n",
       "                        <td id=\"T_d0f2726d_0a1a_11ea_a6fb_107b449f15fcrow8_col0\" class=\"data row8 col0\" >0.00309</td>\n",
       "            </tr>\n",
       "            <tr>\n",
       "                        <th id=\"T_d0f2726d_0a1a_11ea_a6fb_107b449f15fclevel0_row9\" class=\"row_heading level0 row9\" >святой</th>\n",
       "                        <td id=\"T_d0f2726d_0a1a_11ea_a6fb_107b449f15fcrow9_col0\" class=\"data row9 col0\" >0.00308</td>\n",
       "            </tr>\n",
       "    </tbody></table>"
      ]
     },
     "metadata": {},
     "output_type": "display_data"
    },
    {
     "data": {
      "text/html": [
       "<b> автограф«меч христов. карл i анжуйский и становление запада» </b><br /> историк ярослав шимов о «сицилийской вечерне», значении крестовых походов и мировоззрении средневековых людей"
      ]
     },
     "metadata": {},
     "output_type": "display_data"
    },
    {
     "data": {
      "text/html": [
       "<b> «ритуалы — это и есть власть» </b><br /> интервью с историком михаилом бойцовым об обряде средневековой коронации, практике помазания и статусе королевской власти в европе"
      ]
     },
     "metadata": {},
     "output_type": "display_data"
    },
    {
     "data": {
      "text/html": [
       "<b> политическая теология xiii–xiv веков </b><br /> историк александр марей о последователях фомы аквинского, типах монархической власти и соотношении духовного и мирского"
      ]
     },
     "metadata": {},
     "output_type": "display_data"
    },
    {
     "data": {
      "text/html": [
       "<b> мертвое тело правителя в средние века </b><br /> историк михаил бойцов о погребении средневековых государей, практиках сохранения их тел и концепции воскрешения"
      ]
     },
     "metadata": {},
     "output_type": "display_data"
    },
    {
     "data": {
      "text/html": [
       "<b> faqнемецкая классическая философия как понятие </b><br /> 6 фактов о собраниях текстов, отцах-основателях и ошибочном представлении о понятии"
      ]
     },
     "metadata": {},
     "output_type": "display_data"
    },
    {
     "data": {
      "text/html": [
       "<b> faqсредневековая иудео-христианская полемика </b><br /> 7 фактов о развитии диалога между христианством и иудаизмом и публичных диспутах средневековья"
      ]
     },
     "metadata": {},
     "output_type": "display_data"
    },
    {
     "data": {
      "text/html": [
       "<b> faqобразы инквизиции </b><br /> 5 фактов о вкладе инквизиторов в историческую науку, «черной легенде»  и использовании «инквизиции» в современном оппозиционном дискурсе"
      ]
     },
     "metadata": {},
     "output_type": "display_data"
    },
    {
     "data": {
      "text/html": [
       "<b> «главная загадка варфоломеевской ночикто стоял за покушением на адмирала колиньи» </b><br /> интервью с историком павлом уваровым о религиозных войнах в европе и событиях, предшествовавших варфоломеевской ночи"
      ]
     },
     "metadata": {},
     "output_type": "display_data"
    },
    {
     "data": {
      "text/html": [
       "<b> политическая теология франсиско де витории </b><br /> историк александр марей о природе человека, двойственности королевской власти и восстании против тирана"
      ]
     },
     "metadata": {},
     "output_type": "display_data"
    },
    {
     "data": {
      "text/html": [
       "<b> телесность власти в средние века </b><br /> историк михаил бойцов о качествах тела правителя, знаках власти и трупном синоде"
      ]
     },
     "metadata": {},
     "output_type": "display_data"
    },
    {
     "data": {
      "text/html": [
       "<style  type=\"text/css\" >\n",
       "</style><table id=\"T_d0f2726e_0a1a_11ea_a6fb_107b449f15fc\" style='display:inline'><thead>    <tr>        <th class=\"blank level0\" ></th>        <th class=\"col_heading level0 col0\" >topic_20 @2gramm</th>    </tr></thead><tbody>\n",
       "                <tr>\n",
       "                        <th id=\"T_d0f2726e_0a1a_11ea_a6fb_107b449f15fclevel0_row0\" class=\"row_heading level0 row0\" >искусственный_интеллект</th>\n",
       "                        <td id=\"T_d0f2726e_0a1a_11ea_a6fb_107b449f15fcrow0_col0\" class=\"data row0 col0\" >0.03365</td>\n",
       "            </tr>\n",
       "            <tr>\n",
       "                        <th id=\"T_d0f2726e_0a1a_11ea_a6fb_107b449f15fclevel0_row1\" class=\"row_heading level0 row1\" >нейронный_сеть</th>\n",
       "                        <td id=\"T_d0f2726e_0a1a_11ea_a6fb_107b449f15fcrow1_col0\" class=\"data row1 col0\" >0.02628</td>\n",
       "            </tr>\n",
       "            <tr>\n",
       "                        <th id=\"T_d0f2726e_0a1a_11ea_a6fb_107b449f15fclevel0_row2\" class=\"row_heading level0 row2\" >социальный_сеть</th>\n",
       "                        <td id=\"T_d0f2726e_0a1a_11ea_a6fb_107b449f15fcrow2_col0\" class=\"data row2 col0\" >0.0246</td>\n",
       "            </tr>\n",
       "            <tr>\n",
       "                        <th id=\"T_d0f2726e_0a1a_11ea_a6fb_107b449f15fclevel0_row3\" class=\"row_heading level0 row3\" >программный_обеспечение</th>\n",
       "                        <td id=\"T_d0f2726e_0a1a_11ea_a6fb_107b449f15fcrow3_col0\" class=\"data row3 col0\" >0.01412</td>\n",
       "            </tr>\n",
       "            <tr>\n",
       "                        <th id=\"T_d0f2726e_0a1a_11ea_a6fb_107b449f15fclevel0_row4\" class=\"row_heading level0 row4\" >машинный_обучение</th>\n",
       "                        <td id=\"T_d0f2726e_0a1a_11ea_a6fb_107b449f15fcrow4_col0\" class=\"data row4 col0\" >0.01148</td>\n",
       "            </tr>\n",
       "            <tr>\n",
       "                        <th id=\"T_d0f2726e_0a1a_11ea_a6fb_107b449f15fclevel0_row5\" class=\"row_heading level0 row5\" >компьютерный_наука</th>\n",
       "                        <td id=\"T_d0f2726e_0a1a_11ea_a6fb_107b449f15fcrow5_col0\" class=\"data row5 col0\" >0.00954</td>\n",
       "            </tr>\n",
       "            <tr>\n",
       "                        <th id=\"T_d0f2726e_0a1a_11ea_a6fb_107b449f15fclevel0_row6\" class=\"row_heading level0 row6\" >анализ_дать</th>\n",
       "                        <td id=\"T_d0f2726e_0a1a_11ea_a6fb_107b449f15fcrow6_col0\" class=\"data row6 col0\" >0.00875</td>\n",
       "            </tr>\n",
       "            <tr>\n",
       "                        <th id=\"T_d0f2726e_0a1a_11ea_a6fb_107b449f15fclevel0_row7\" class=\"row_heading level0 row7\" >операционный_система</th>\n",
       "                        <td id=\"T_d0f2726e_0a1a_11ea_a6fb_107b449f15fcrow7_col0\" class=\"data row7 col0\" >0.00714</td>\n",
       "            </tr>\n",
       "            <tr>\n",
       "                        <th id=\"T_d0f2726e_0a1a_11ea_a6fb_107b449f15fclevel0_row8\" class=\"row_heading level0 row8\" >база_дать</th>\n",
       "                        <td id=\"T_d0f2726e_0a1a_11ea_a6fb_107b449f15fcrow8_col0\" class=\"data row8 col0\" >0.00712</td>\n",
       "            </tr>\n",
       "            <tr>\n",
       "                        <th id=\"T_d0f2726e_0a1a_11ea_a6fb_107b449f15fclevel0_row9\" class=\"row_heading level0 row9\" >язык_программирование</th>\n",
       "                        <td id=\"T_d0f2726e_0a1a_11ea_a6fb_107b449f15fcrow9_col0\" class=\"data row9 col0\" >0.00712</td>\n",
       "            </tr>\n",
       "    </tbody></table><style  type=\"text/css\" >\n",
       "</style><table id=\"T_d0f2726f_0a1a_11ea_a6fb_107b449f15fc\" style='display:inline'><thead>    <tr>        <th class=\"blank level0\" ></th>        <th class=\"col_heading level0 col0\" >topic_20 @3gramm</th>    </tr></thead><tbody>\n",
       "                <tr>\n",
       "                        <th id=\"T_d0f2726f_0a1a_11ea_a6fb_107b449f15fclevel0_row0\" class=\"row_heading level0 row0\" >область_искусственный_интеллект</th>\n",
       "                        <td id=\"T_d0f2726f_0a1a_11ea_a6fb_107b449f15fcrow0_col0\" class=\"data row0 col0\" >0.13131</td>\n",
       "            </tr>\n",
       "            <tr>\n",
       "                        <th id=\"T_d0f2726f_0a1a_11ea_a6fb_107b449f15fclevel0_row1\" class=\"row_heading level0 row1\" >система_искусственный_интеллект</th>\n",
       "                        <td id=\"T_d0f2726f_0a1a_11ea_a6fb_107b449f15fcrow1_col0\" class=\"data row1 col0\" >0.12405</td>\n",
       "            </tr>\n",
       "            <tr>\n",
       "                        <th id=\"T_d0f2726f_0a1a_11ea_a6fb_107b449f15fclevel0_row2\" class=\"row_heading level0 row2\" >искусственный_нейронный_сеть</th>\n",
       "                        <td id=\"T_d0f2726f_0a1a_11ea_a6fb_107b449f15fcrow2_col0\" class=\"data row2 col0\" >0.08024</td>\n",
       "            </tr>\n",
       "            <tr>\n",
       "                        <th id=\"T_d0f2726f_0a1a_11ea_a6fb_107b449f15fclevel0_row3\" class=\"row_heading level0 row3\" >всемирный_организация_здравоохранение</th>\n",
       "                        <td id=\"T_d0f2726f_0a1a_11ea_a6fb_107b449f15fcrow3_col0\" class=\"data row3 col0\" >0.06535</td>\n",
       "            </tr>\n",
       "            <tr>\n",
       "                        <th id=\"T_d0f2726f_0a1a_11ea_a6fb_107b449f15fclevel0_row4\" class=\"row_heading level0 row4\" >джон_фон_нейман</th>\n",
       "                        <td id=\"T_d0f2726f_0a1a_11ea_a6fb_107b449f15fcrow4_col0\" class=\"data row4 col0\" >0.05829</td>\n",
       "            </tr>\n",
       "            <tr>\n",
       "                        <th id=\"T_d0f2726f_0a1a_11ea_a6fb_107b449f15fclevel0_row5\" class=\"row_heading level0 row5\" >огромный_количество_дать</th>\n",
       "                        <td id=\"T_d0f2726f_0a1a_11ea_a6fb_107b449f15fcrow5_col0\" class=\"data row5 col0\" >0.05108</td>\n",
       "            </tr>\n",
       "            <tr>\n",
       "                        <th id=\"T_d0f2726f_0a1a_11ea_a6fb_107b449f15fclevel0_row6\" class=\"row_heading level0 row6\" >создание_искусственный_интеллект</th>\n",
       "                        <td id=\"T_d0f2726f_0a1a_11ea_a6fb_107b449f15fcrow6_col0\" class=\"data row6 col0\" >0.05099</td>\n",
       "            </tr>\n",
       "            <tr>\n",
       "                        <th id=\"T_d0f2726f_0a1a_11ea_a6fb_107b449f15fclevel0_row7\" class=\"row_heading level0 row7\" >разный_область_знание</th>\n",
       "                        <td id=\"T_d0f2726f_0a1a_11ea_a6fb_107b449f15fcrow7_col0\" class=\"data row7 col0\" >0.04361</td>\n",
       "            </tr>\n",
       "            <tr>\n",
       "                        <th id=\"T_d0f2726f_0a1a_11ea_a6fb_107b449f15fclevel0_row8\" class=\"row_heading level0 row8\" >область_информационный_технология</th>\n",
       "                        <td id=\"T_d0f2726f_0a1a_11ea_a6fb_107b449f15fcrow8_col0\" class=\"data row8 col0\" >0.03643</td>\n",
       "            </tr>\n",
       "            <tr>\n",
       "                        <th id=\"T_d0f2726f_0a1a_11ea_a6fb_107b449f15fclevel0_row9\" class=\"row_heading level0 row9\" >знание_английский_язык</th>\n",
       "                        <td id=\"T_d0f2726f_0a1a_11ea_a6fb_107b449f15fcrow9_col0\" class=\"data row9 col0\" >0.03635</td>\n",
       "            </tr>\n",
       "    </tbody></table><style  type=\"text/css\" >\n",
       "</style><table id=\"T_d0f27270_0a1a_11ea_a6fb_107b449f15fc\" style='display:inline'><thead>    <tr>        <th class=\"blank level0\" ></th>        <th class=\"col_heading level0 col0\" >topic_20 @post_tag</th>    </tr></thead><tbody>\n",
       "                <tr>\n",
       "                        <th id=\"T_d0f27270_0a1a_11ea_a6fb_107b449f15fclevel0_row0\" class=\"row_heading level0 row0\" >технологии</th>\n",
       "                        <td id=\"T_d0f27270_0a1a_11ea_a6fb_107b449f15fcrow0_col0\" class=\"data row0 col0\" >0.19405</td>\n",
       "            </tr>\n",
       "            <tr>\n",
       "                        <th id=\"T_d0f27270_0a1a_11ea_a6fb_107b449f15fclevel0_row1\" class=\"row_heading level0 row1\" >информационные_технологии</th>\n",
       "                        <td id=\"T_d0f27270_0a1a_11ea_a6fb_107b449f15fcrow1_col0\" class=\"data row1 col0\" >0.14636</td>\n",
       "            </tr>\n",
       "            <tr>\n",
       "                        <th id=\"T_d0f27270_0a1a_11ea_a6fb_107b449f15fclevel0_row2\" class=\"row_heading level0 row2\" >интернет</th>\n",
       "                        <td id=\"T_d0f27270_0a1a_11ea_a6fb_107b449f15fcrow2_col0\" class=\"data row2 col0\" >0.09369</td>\n",
       "            </tr>\n",
       "            <tr>\n",
       "                        <th id=\"T_d0f27270_0a1a_11ea_a6fb_107b449f15fclevel0_row3\" class=\"row_heading level0 row3\" >искусственный_интеллект</th>\n",
       "                        <td id=\"T_d0f27270_0a1a_11ea_a6fb_107b449f15fcrow3_col0\" class=\"data row3 col0\" >0.07585</td>\n",
       "            </tr>\n",
       "            <tr>\n",
       "                        <th id=\"T_d0f27270_0a1a_11ea_a6fb_107b449f15fclevel0_row4\" class=\"row_heading level0 row4\" >информатика</th>\n",
       "                        <td id=\"T_d0f27270_0a1a_11ea_a6fb_107b449f15fcrow4_col0\" class=\"data row4 col0\" >0.06499</td>\n",
       "            </tr>\n",
       "            <tr>\n",
       "                        <th id=\"T_d0f27270_0a1a_11ea_a6fb_107b449f15fclevel0_row5\" class=\"row_heading level0 row5\" >математика</th>\n",
       "                        <td id=\"T_d0f27270_0a1a_11ea_a6fb_107b449f15fcrow5_col0\" class=\"data row5 col0\" >0.05523</td>\n",
       "            </tr>\n",
       "            <tr>\n",
       "                        <th id=\"T_d0f27270_0a1a_11ea_a6fb_107b449f15fclevel0_row6\" class=\"row_heading level0 row6\" >computer_science</th>\n",
       "                        <td id=\"T_d0f27270_0a1a_11ea_a6fb_107b449f15fcrow6_col0\" class=\"data row6 col0\" >0.03793</td>\n",
       "            </tr>\n",
       "            <tr>\n",
       "                        <th id=\"T_d0f27270_0a1a_11ea_a6fb_107b449f15fclevel0_row7\" class=\"row_heading level0 row7\" >робототехника</th>\n",
       "                        <td id=\"T_d0f27270_0a1a_11ea_a6fb_107b449f15fcrow7_col0\" class=\"data row7 col0\" >0.03609</td>\n",
       "            </tr>\n",
       "            <tr>\n",
       "                        <th id=\"T_d0f27270_0a1a_11ea_a6fb_107b449f15fclevel0_row8\" class=\"row_heading level0 row8\" >робот</th>\n",
       "                        <td id=\"T_d0f27270_0a1a_11ea_a6fb_107b449f15fcrow8_col0\" class=\"data row8 col0\" >0.03248</td>\n",
       "            </tr>\n",
       "            <tr>\n",
       "                        <th id=\"T_d0f27270_0a1a_11ea_a6fb_107b449f15fclevel0_row9\" class=\"row_heading level0 row9\" >социальные_сети</th>\n",
       "                        <td id=\"T_d0f27270_0a1a_11ea_a6fb_107b449f15fcrow9_col0\" class=\"data row9 col0\" >0.0227</td>\n",
       "            </tr>\n",
       "    </tbody></table><style  type=\"text/css\" >\n",
       "</style><table id=\"T_d0f27271_0a1a_11ea_a6fb_107b449f15fc\" style='display:inline'><thead>    <tr>        <th class=\"blank level0\" ></th>        <th class=\"col_heading level0 col0\" >topic_20 @word</th>    </tr></thead><tbody>\n",
       "                <tr>\n",
       "                        <th id=\"T_d0f27271_0a1a_11ea_a6fb_107b449f15fclevel0_row0\" class=\"row_heading level0 row0\" >дать</th>\n",
       "                        <td id=\"T_d0f27271_0a1a_11ea_a6fb_107b449f15fcrow0_col0\" class=\"data row0 col0\" >0.00967</td>\n",
       "            </tr>\n",
       "            <tr>\n",
       "                        <th id=\"T_d0f27271_0a1a_11ea_a6fb_107b449f15fclevel0_row1\" class=\"row_heading level0 row1\" >робот</th>\n",
       "                        <td id=\"T_d0f27271_0a1a_11ea_a6fb_107b449f15fcrow1_col0\" class=\"data row1 col0\" >0.00867</td>\n",
       "            </tr>\n",
       "            <tr>\n",
       "                        <th id=\"T_d0f27271_0a1a_11ea_a6fb_107b449f15fclevel0_row2\" class=\"row_heading level0 row2\" >сеть</th>\n",
       "                        <td id=\"T_d0f27271_0a1a_11ea_a6fb_107b449f15fcrow2_col0\" class=\"data row2 col0\" >0.00855</td>\n",
       "            </tr>\n",
       "            <tr>\n",
       "                        <th id=\"T_d0f27271_0a1a_11ea_a6fb_107b449f15fclevel0_row3\" class=\"row_heading level0 row3\" >компьютер</th>\n",
       "                        <td id=\"T_d0f27271_0a1a_11ea_a6fb_107b449f15fcrow3_col0\" class=\"data row3 col0\" >0.00815</td>\n",
       "            </tr>\n",
       "            <tr>\n",
       "                        <th id=\"T_d0f27271_0a1a_11ea_a6fb_107b449f15fclevel0_row4\" class=\"row_heading level0 row4\" >работать</th>\n",
       "                        <td id=\"T_d0f27271_0a1a_11ea_a6fb_107b449f15fcrow4_col0\" class=\"data row4 col0\" >0.00608</td>\n",
       "            </tr>\n",
       "            <tr>\n",
       "                        <th id=\"T_d0f27271_0a1a_11ea_a6fb_107b449f15fclevel0_row5\" class=\"row_heading level0 row5\" >программа</th>\n",
       "                        <td id=\"T_d0f27271_0a1a_11ea_a6fb_107b449f15fcrow5_col0\" class=\"data row5 col0\" >0.00607</td>\n",
       "            </tr>\n",
       "            <tr>\n",
       "                        <th id=\"T_d0f27271_0a1a_11ea_a6fb_107b449f15fclevel0_row6\" class=\"row_heading level0 row6\" >алгоритм</th>\n",
       "                        <td id=\"T_d0f27271_0a1a_11ea_a6fb_107b449f15fcrow6_col0\" class=\"data row6 col0\" >0.00576</td>\n",
       "            </tr>\n",
       "            <tr>\n",
       "                        <th id=\"T_d0f27271_0a1a_11ea_a6fb_107b449f15fclevel0_row7\" class=\"row_heading level0 row7\" >пользователь</th>\n",
       "                        <td id=\"T_d0f27271_0a1a_11ea_a6fb_107b449f15fcrow7_col0\" class=\"data row7 col0\" >0.00515</td>\n",
       "            </tr>\n",
       "            <tr>\n",
       "                        <th id=\"T_d0f27271_0a1a_11ea_a6fb_107b449f15fclevel0_row8\" class=\"row_heading level0 row8\" >модель</th>\n",
       "                        <td id=\"T_d0f27271_0a1a_11ea_a6fb_107b449f15fcrow8_col0\" class=\"data row8 col0\" >0.00512</td>\n",
       "            </tr>\n",
       "            <tr>\n",
       "                        <th id=\"T_d0f27271_0a1a_11ea_a6fb_107b449f15fclevel0_row9\" class=\"row_heading level0 row9\" >задача</th>\n",
       "                        <td id=\"T_d0f27271_0a1a_11ea_a6fb_107b449f15fcrow9_col0\" class=\"data row9 col0\" >0.00467</td>\n",
       "            </tr>\n",
       "    </tbody></table>"
      ]
     },
     "metadata": {},
     "output_type": "display_data"
    },
    {
     "data": {
      "text/html": [
       "<b> дэвид вернон«то, что мы называем искусственным интеллектом, им не является» </b><br /> специалист по искусственному интеллекту дэвид вернон об истории создания ии, компьютерном зрении и способности роботов к самообучению"
      ]
     },
     "metadata": {},
     "output_type": "display_data"
    },
    {
     "data": {
      "text/html": [
       "<b> создана нейронная сеть, работающая по принципу машины тьюринга </b><br /> об архитектуре фон неймана, машине тьюринга и проверке работоспособности"
      ]
     },
     "metadata": {},
     "output_type": "display_data"
    },
    {
     "data": {
      "text/html": [
       "<b> «компьютерные науки исследуют что-то идеальное, чего в реальном мире может физически не присутствовать» </b><br /> интервью с программистом станиславом протасовым об особенностях компьютерных наук, параллельном программировании и искусственном интеллекте"
      ]
     },
     "metadata": {},
     "output_type": "display_data"
    },
    {
     "data": {
      "text/html": [
       "<b> компиляторы для языков программирования </b><br /> программный архитектор евгений зуев о разработке компиляторов, языке с++ и семантическом зазоре"
      ]
     },
     "metadata": {},
     "output_type": "display_data"
    },
    {
     "data": {
      "text/html": [
       "<b> технология ухода от баз данных в программировании </b><br /> инженер антон чижов о преимуществах оперативной памяти, способах хранения данных и системе «апрентис»"
      ]
     },
     "metadata": {},
     "output_type": "display_data"
    },
    {
     "data": {
      "text/html": [
       "<b> как обучить нейросеть понимать смысл текста программы? </b><br /> о машинном обучении, отличии формальных языков от естественных и обучающих выборках"
      ]
     },
     "metadata": {},
     "output_type": "display_data"
    },
    {
     "data": {
      "text/html": [
       "<b> анализ социальных сетей в интернете </b><br /> специалист по современной технике медиакоммуникаций берни хоган o  том, как собирались и анализировались электронные социальные сети  и что могут дать их исследования"
      ]
     },
     "metadata": {},
     "output_type": "display_data"
    },
    {
     "data": {
      "text/html": [
       "<b> механизмы управления репутацией в социальных сетях </b><br /> специалист по компьютерным наукам джу йонг ли об анализе социальных сетей, институте репутации и феномене дружбы в facebook"
      ]
     },
     "metadata": {},
     "output_type": "display_data"
    },
    {
     "data": {
      "text/html": [
       "<b> математические методы прогнозирования объемов продаж </b><br /> математик константин воронцов о применении задач машинного обучения в бизнесе, композициях адаптивных моделей и усовершенствовании качества данных"
      ]
     },
     "metadata": {},
     "output_type": "display_data"
    },
    {
     "data": {
      "text/html": [
       "<b> лингвистические технологии в интернете </b><br /> специалист в области информационных технологий анатолий гершман о принципах работы поисковиков, системе индексирования сайтов и способах определения тональности текста"
      ]
     },
     "metadata": {},
     "output_type": "display_data"
    },
    {
     "data": {
      "text/html": [
       "<style  type=\"text/css\" >\n",
       "</style><table id=\"T_d0f27272_0a1a_11ea_a6fb_107b449f15fc\" style='display:inline'><thead>    <tr>        <th class=\"blank level0\" ></th>        <th class=\"col_heading level0 col0\" >topic_21 @2gramm</th>    </tr></thead><tbody>\n",
       "                <tr>\n",
       "                        <th id=\"T_d0f27272_0a1a_11ea_a6fb_107b449f15fclevel0_row0\" class=\"row_heading level0 row0\" >генный_инженерия</th>\n",
       "                        <td id=\"T_d0f27272_0a1a_11ea_a6fb_107b449f15fcrow0_col0\" class=\"data row0 col0\" >0.01233</td>\n",
       "            </tr>\n",
       "            <tr>\n",
       "                        <th id=\"T_d0f27272_0a1a_11ea_a6fb_107b449f15fclevel0_row1\" class=\"row_heading level0 row1\" >углекислый_газа</th>\n",
       "                        <td id=\"T_d0f27272_0a1a_11ea_a6fb_107b449f15fcrow1_col0\" class=\"data row1 col0\" >0.01233</td>\n",
       "            </tr>\n",
       "            <tr>\n",
       "                        <th id=\"T_d0f27272_0a1a_11ea_a6fb_107b449f15fclevel0_row2\" class=\"row_heading level0 row2\" >чистый_культура</th>\n",
       "                        <td id=\"T_d0f27272_0a1a_11ea_a6fb_107b449f15fcrow2_col0\" class=\"data row2 col0\" >0.01066</td>\n",
       "            </tr>\n",
       "            <tr>\n",
       "                        <th id=\"T_d0f27272_0a1a_11ea_a6fb_107b449f15fclevel0_row3\" class=\"row_heading level0 row3\" >молекулярный_машина</th>\n",
       "                        <td id=\"T_d0f27272_0a1a_11ea_a6fb_107b449f15fcrow3_col0\" class=\"data row3 col0\" >0.01013</td>\n",
       "            </tr>\n",
       "            <tr>\n",
       "                        <th id=\"T_d0f27272_0a1a_11ea_a6fb_107b449f15fclevel0_row4\" class=\"row_heading level0 row4\" >синтетический_биология</th>\n",
       "                        <td id=\"T_d0f27272_0a1a_11ea_a6fb_107b449f15fcrow4_col0\" class=\"data row4 col0\" >0.00947</td>\n",
       "            </tr>\n",
       "            <tr>\n",
       "                        <th id=\"T_d0f27272_0a1a_11ea_a6fb_107b449f15fclevel0_row5\" class=\"row_heading level0 row5\" >органический_вещество</th>\n",
       "                        <td id=\"T_d0f27272_0a1a_11ea_a6fb_107b449f15fcrow5_col0\" class=\"data row5 col0\" >0.00936</td>\n",
       "            </tr>\n",
       "            <tr>\n",
       "                        <th id=\"T_d0f27272_0a1a_11ea_a6fb_107b449f15fclevel0_row6\" class=\"row_heading level0 row6\" >летучий_мышь</th>\n",
       "                        <td id=\"T_d0f27272_0a1a_11ea_a6fb_107b449f15fcrow6_col0\" class=\"data row6 col0\" >0.00897</td>\n",
       "            </tr>\n",
       "            <tr>\n",
       "                        <th id=\"T_d0f27272_0a1a_11ea_a6fb_107b449f15fclevel0_row7\" class=\"row_heading level0 row7\" >интерфейс_мозг</th>\n",
       "                        <td id=\"T_d0f27272_0a1a_11ea_a6fb_107b449f15fcrow7_col0\" class=\"data row7 col0\" >0.00876</td>\n",
       "            </tr>\n",
       "            <tr>\n",
       "                        <th id=\"T_d0f27272_0a1a_11ea_a6fb_107b449f15fclevel0_row8\" class=\"row_heading level0 row8\" >биологический_система</th>\n",
       "                        <td id=\"T_d0f27272_0a1a_11ea_a6fb_107b449f15fcrow8_col0\" class=\"data row8 col0\" >0.00752</td>\n",
       "            </tr>\n",
       "            <tr>\n",
       "                        <th id=\"T_d0f27272_0a1a_11ea_a6fb_107b449f15fclevel0_row9\" class=\"row_heading level0 row9\" >динамический_система</th>\n",
       "                        <td id=\"T_d0f27272_0a1a_11ea_a6fb_107b449f15fcrow9_col0\" class=\"data row9 col0\" >0.0075</td>\n",
       "            </tr>\n",
       "    </tbody></table><style  type=\"text/css\" >\n",
       "</style><table id=\"T_d0f27273_0a1a_11ea_a6fb_107b449f15fc\" style='display:inline'><thead>    <tr>        <th class=\"blank level0\" ></th>        <th class=\"col_heading level0 col0\" >topic_21 @3gramm</th>    </tr></thead><tbody>\n",
       "                <tr>\n",
       "                        <th id=\"T_d0f27273_0a1a_11ea_a6fb_107b449f15fclevel0_row0\" class=\"row_heading level0 row0\" >дать_нобелевский_премия</th>\n",
       "                        <td id=\"T_d0f27273_0a1a_11ea_a6fb_107b449f15fcrow0_col0\" class=\"data row0 col0\" >0.12782</td>\n",
       "            </tr>\n",
       "            <tr>\n",
       "                        <th id=\"T_d0f27273_0a1a_11ea_a6fb_107b449f15fclevel0_row1\" class=\"row_heading level0 row1\" >электрический_активность_мозг</th>\n",
       "                        <td id=\"T_d0f27273_0a1a_11ea_a6fb_107b449f15fcrow1_col0\" class=\"data row1 col0\" >0.104</td>\n",
       "            </tr>\n",
       "            <tr>\n",
       "                        <th id=\"T_d0f27273_0a1a_11ea_a6fb_107b449f15fclevel0_row2\" class=\"row_heading level0 row2\" >практический_точка_зрение</th>\n",
       "                        <td id=\"T_d0f27273_0a1a_11ea_a6fb_107b449f15fcrow2_col0\" class=\"data row2 col0\" >0.09586</td>\n",
       "            </tr>\n",
       "            <tr>\n",
       "                        <th id=\"T_d0f27273_0a1a_11ea_a6fb_107b449f15fclevel0_row3\" class=\"row_heading level0 row3\" >подавлять_большинство_случай</th>\n",
       "                        <td id=\"T_d0f27273_0a1a_11ea_a6fb_107b449f15fcrow3_col0\" class=\"data row3 col0\" >0.08784</td>\n",
       "            </tr>\n",
       "            <tr>\n",
       "                        <th id=\"T_d0f27273_0a1a_11ea_a6fb_107b449f15fclevel0_row4\" class=\"row_heading level0 row4\" >клетка_высокий_организм</th>\n",
       "                        <td id=\"T_d0f27273_0a1a_11ea_a6fb_107b449f15fcrow4_col0\" class=\"data row4 col0\" >0.07199</td>\n",
       "            </tr>\n",
       "            <tr>\n",
       "                        <th id=\"T_d0f27273_0a1a_11ea_a6fb_107b449f15fclevel0_row5\" class=\"row_heading level0 row5\" >математический_точка_зрение</th>\n",
       "                        <td id=\"T_d0f27273_0a1a_11ea_a6fb_107b449f15fcrow5_col0\" class=\"data row5 col0\" >0.07195</td>\n",
       "            </tr>\n",
       "            <tr>\n",
       "                        <th id=\"T_d0f27273_0a1a_11ea_a6fb_107b449f15fclevel0_row6\" class=\"row_heading level0 row6\" >относительно_друг_друг</th>\n",
       "                        <td id=\"T_d0f27273_0a1a_11ea_a6fb_107b449f15fcrow6_col0\" class=\"data row6 col0\" >0.06384</td>\n",
       "            </tr>\n",
       "            <tr>\n",
       "                        <th id=\"T_d0f27273_0a1a_11ea_a6fb_107b449f15fclevel0_row7\" class=\"row_heading level0 row7\" >давать_имя_возможность</th>\n",
       "                        <td id=\"T_d0f27273_0a1a_11ea_a6fb_107b449f15fcrow7_col0\" class=\"data row7 col0\" >0.06049</td>\n",
       "            </tr>\n",
       "            <tr>\n",
       "                        <th id=\"T_d0f27273_0a1a_11ea_a6fb_107b449f15fclevel0_row8\" class=\"row_heading level0 row8\" >развитие_вычислительный_техника</th>\n",
       "                        <td id=\"T_d0f27273_0a1a_11ea_a6fb_107b449f15fcrow8_col0\" class=\"data row8 col0\" >0.04817</td>\n",
       "            </tr>\n",
       "            <tr>\n",
       "                        <th id=\"T_d0f27273_0a1a_11ea_a6fb_107b449f15fclevel0_row9\" class=\"row_heading level0 row9\" >положительный_обратный_связь</th>\n",
       "                        <td id=\"T_d0f27273_0a1a_11ea_a6fb_107b449f15fcrow9_col0\" class=\"data row9 col0\" >0.04815</td>\n",
       "            </tr>\n",
       "    </tbody></table><style  type=\"text/css\" >\n",
       "</style><table id=\"T_d0f27274_0a1a_11ea_a6fb_107b449f15fc\" style='display:inline'><thead>    <tr>        <th class=\"blank level0\" ></th>        <th class=\"col_heading level0 col0\" >topic_21 @post_tag</th>    </tr></thead><tbody>\n",
       "                <tr>\n",
       "                        <th id=\"T_d0f27274_0a1a_11ea_a6fb_107b449f15fclevel0_row0\" class=\"row_heading level0 row0\" >микробиология</th>\n",
       "                        <td id=\"T_d0f27274_0a1a_11ea_a6fb_107b449f15fcrow0_col0\" class=\"data row0 col0\" >0.17867</td>\n",
       "            </tr>\n",
       "            <tr>\n",
       "                        <th id=\"T_d0f27274_0a1a_11ea_a6fb_107b449f15fclevel0_row1\" class=\"row_heading level0 row1\" >биология</th>\n",
       "                        <td id=\"T_d0f27274_0a1a_11ea_a6fb_107b449f15fcrow1_col0\" class=\"data row1 col0\" >0.13884</td>\n",
       "            </tr>\n",
       "            <tr>\n",
       "                        <th id=\"T_d0f27274_0a1a_11ea_a6fb_107b449f15fclevel0_row2\" class=\"row_heading level0 row2\" >бактерии</th>\n",
       "                        <td id=\"T_d0f27274_0a1a_11ea_a6fb_107b449f15fcrow2_col0\" class=\"data row2 col0\" >0.0967</td>\n",
       "            </tr>\n",
       "            <tr>\n",
       "                        <th id=\"T_d0f27274_0a1a_11ea_a6fb_107b449f15fclevel0_row3\" class=\"row_heading level0 row3\" >экология</th>\n",
       "                        <td id=\"T_d0f27274_0a1a_11ea_a6fb_107b449f15fcrow3_col0\" class=\"data row3 col0\" >0.09432</td>\n",
       "            </tr>\n",
       "            <tr>\n",
       "                        <th id=\"T_d0f27274_0a1a_11ea_a6fb_107b449f15fclevel0_row4\" class=\"row_heading level0 row4\" >микробы</th>\n",
       "                        <td id=\"T_d0f27274_0a1a_11ea_a6fb_107b449f15fcrow4_col0\" class=\"data row4 col0\" >0.08187</td>\n",
       "            </tr>\n",
       "            <tr>\n",
       "                        <th id=\"T_d0f27274_0a1a_11ea_a6fb_107b449f15fclevel0_row5\" class=\"row_heading level0 row5\" >биотехнологии</th>\n",
       "                        <td id=\"T_d0f27274_0a1a_11ea_a6fb_107b449f15fcrow5_col0\" class=\"data row5 col0\" >0.07801</td>\n",
       "            </tr>\n",
       "            <tr>\n",
       "                        <th id=\"T_d0f27274_0a1a_11ea_a6fb_107b449f15fclevel0_row6\" class=\"row_heading level0 row6\" >технологии</th>\n",
       "                        <td id=\"T_d0f27274_0a1a_11ea_a6fb_107b449f15fcrow6_col0\" class=\"data row6 col0\" >0.05242</td>\n",
       "            </tr>\n",
       "            <tr>\n",
       "                        <th id=\"T_d0f27274_0a1a_11ea_a6fb_107b449f15fclevel0_row7\" class=\"row_heading level0 row7\" >антибиотики</th>\n",
       "                        <td id=\"T_d0f27274_0a1a_11ea_a6fb_107b449f15fcrow7_col0\" class=\"data row7 col0\" >0.02573</td>\n",
       "            </tr>\n",
       "            <tr>\n",
       "                        <th id=\"T_d0f27274_0a1a_11ea_a6fb_107b449f15fclevel0_row8\" class=\"row_heading level0 row8\" >гмо</th>\n",
       "                        <td id=\"T_d0f27274_0a1a_11ea_a6fb_107b449f15fcrow8_col0\" class=\"data row8 col0\" >0.02187</td>\n",
       "            </tr>\n",
       "            <tr>\n",
       "                        <th id=\"T_d0f27274_0a1a_11ea_a6fb_107b449f15fclevel0_row9\" class=\"row_heading level0 row9\" >бактериофаги</th>\n",
       "                        <td id=\"T_d0f27274_0a1a_11ea_a6fb_107b449f15fcrow9_col0\" class=\"data row9 col0\" >0.0185</td>\n",
       "            </tr>\n",
       "    </tbody></table><style  type=\"text/css\" >\n",
       "</style><table id=\"T_d0f27275_0a1a_11ea_a6fb_107b449f15fc\" style='display:inline'><thead>    <tr>        <th class=\"blank level0\" ></th>        <th class=\"col_heading level0 col0\" >topic_21 @word</th>    </tr></thead><tbody>\n",
       "                <tr>\n",
       "                        <th id=\"T_d0f27275_0a1a_11ea_a6fb_107b449f15fclevel0_row0\" class=\"row_heading level0 row0\" >микроорганизм</th>\n",
       "                        <td id=\"T_d0f27275_0a1a_11ea_a6fb_107b449f15fcrow0_col0\" class=\"data row0 col0\" >0.01245</td>\n",
       "            </tr>\n",
       "            <tr>\n",
       "                        <th id=\"T_d0f27275_0a1a_11ea_a6fb_107b449f15fclevel0_row1\" class=\"row_heading level0 row1\" >бактерия</th>\n",
       "                        <td id=\"T_d0f27275_0a1a_11ea_a6fb_107b449f15fcrow1_col0\" class=\"data row1 col0\" >0.01082</td>\n",
       "            </tr>\n",
       "            <tr>\n",
       "                        <th id=\"T_d0f27275_0a1a_11ea_a6fb_107b449f15fclevel0_row2\" class=\"row_heading level0 row2\" >растение</th>\n",
       "                        <td id=\"T_d0f27275_0a1a_11ea_a6fb_107b449f15fcrow2_col0\" class=\"data row2 col0\" >0.00868</td>\n",
       "            </tr>\n",
       "            <tr>\n",
       "                        <th id=\"T_d0f27275_0a1a_11ea_a6fb_107b449f15fclevel0_row3\" class=\"row_heading level0 row3\" >микроб</th>\n",
       "                        <td id=\"T_d0f27275_0a1a_11ea_a6fb_107b449f15fcrow3_col0\" class=\"data row3 col0\" >0.00825</td>\n",
       "            </tr>\n",
       "            <tr>\n",
       "                        <th id=\"T_d0f27275_0a1a_11ea_a6fb_107b449f15fclevel0_row4\" class=\"row_heading level0 row4\" >антибиотик</th>\n",
       "                        <td id=\"T_d0f27275_0a1a_11ea_a6fb_107b449f15fcrow4_col0\" class=\"data row4 col0\" >0.00617</td>\n",
       "            </tr>\n",
       "            <tr>\n",
       "                        <th id=\"T_d0f27275_0a1a_11ea_a6fb_107b449f15fclevel0_row5\" class=\"row_heading level0 row5\" >кислород</th>\n",
       "                        <td id=\"T_d0f27275_0a1a_11ea_a6fb_107b449f15fcrow5_col0\" class=\"data row5 col0\" >0.00542</td>\n",
       "            </tr>\n",
       "            <tr>\n",
       "                        <th id=\"T_d0f27275_0a1a_11ea_a6fb_107b449f15fclevel0_row6\" class=\"row_heading level0 row6\" >организм</th>\n",
       "                        <td id=\"T_d0f27275_0a1a_11ea_a6fb_107b449f15fcrow6_col0\" class=\"data row6 col0\" >0.00531</td>\n",
       "            </tr>\n",
       "            <tr>\n",
       "                        <th id=\"T_d0f27275_0a1a_11ea_a6fb_107b449f15fclevel0_row7\" class=\"row_heading level0 row7\" >технология</th>\n",
       "                        <td id=\"T_d0f27275_0a1a_11ea_a6fb_107b449f15fcrow7_col0\" class=\"data row7 col0\" >0.00378</td>\n",
       "            </tr>\n",
       "            <tr>\n",
       "                        <th id=\"T_d0f27275_0a1a_11ea_a6fb_107b449f15fclevel0_row8\" class=\"row_heading level0 row8\" >метан</th>\n",
       "                        <td id=\"T_d0f27275_0a1a_11ea_a6fb_107b449f15fcrow8_col0\" class=\"data row8 col0\" >0.00358</td>\n",
       "            </tr>\n",
       "            <tr>\n",
       "                        <th id=\"T_d0f27275_0a1a_11ea_a6fb_107b449f15fclevel0_row9\" class=\"row_heading level0 row9\" >получить</th>\n",
       "                        <td id=\"T_d0f27275_0a1a_11ea_a6fb_107b449f15fcrow9_col0\" class=\"data row9 col0\" >0.00337</td>\n",
       "            </tr>\n",
       "    </tbody></table>"
      ]
     },
     "metadata": {},
     "output_type": "display_data"
    },
    {
     "data": {
      "text/html": [
       "<b> гидротермы и метановые сипы </b><br /> микробиолог николай пименов о выбросах углеводородных газов, метанобразующих археях и анаэробном окислении метана в черном море"
      ]
     },
     "metadata": {},
     "output_type": "display_data"
    },
    {
     "data": {
      "text/html": [
       "<b> микроорганизмы в болотах </b><br /> микробиолог светлана дедыш о влиянии болотных экосистем на климат, запасах пресной воды и метаногенезе"
      ]
     },
     "metadata": {},
     "output_type": "display_data"
    },
    {
     "data": {
      "text/html": [
       "<b> нейрокоммуникаторы </b><br /> психофизиолог александр каплан об интерфейсе мозг-компьютер, прямом понимании намерений мозга и будущем коммуникации"
      ]
     },
     "metadata": {},
     "output_type": "display_data"
    },
    {
     "data": {
      "text/html": [
       "<b> поколения биотоплива </b><br /> микробиолог зоригто намсараев об эффективности биотоплива, влиянии технологий на военные конфликты и эпохе нефти"
      ]
     },
     "metadata": {},
     "output_type": "display_data"
    },
    {
     "data": {
      "text/html": [
       "<b> очистка приземного воздуха </b><br /> микробиолог алла ножевникова о загрязнении воздуха, окислении вредных газов и роли городских газонов"
      ]
     },
     "metadata": {},
     "output_type": "display_data"
    },
    {
     "data": {
      "text/html": [
       "<b> биотехнологии </b><br /> биолог евгений куликов о биотехнологическом инсулине, чернилах из соевого масла и получении биотоплива и биоспирта"
      ]
     },
     "metadata": {},
     "output_type": "display_data"
    },
    {
     "data": {
      "text/html": [
       "<b> faqнейрокоммуникаторы </b><br /> 7 фактов о новой модели коммуникации между человеком и средой"
      ]
     },
     "metadata": {},
     "output_type": "display_data"
    },
    {
     "data": {
      "text/html": [
       "<b> микробный «метановый фильтр» </b><br /> микробиолог светлана дедыш о функциях метанотрофов, составе атмосферы и глобальном потеплении"
      ]
     },
     "metadata": {},
     "output_type": "display_data"
    },
    {
     "data": {
      "text/html": [
       "<b> faqхемолитоавтотрофные бактерии </b><br /> 7 фактов об автотрофах, гетеротрофах и различиях между ними"
      ]
     },
     "metadata": {},
     "output_type": "display_data"
    },
    {
     "data": {
      "text/html": [
       "<b> биотехнология микроводорослей </b><br /> биолог дмитрий лось об антиоксидантах, использовании микроводорослей в косметической промышленности и биотопливе"
      ]
     },
     "metadata": {},
     "output_type": "display_data"
    },
    {
     "data": {
      "text/html": [
       "<style  type=\"text/css\" >\n",
       "</style><table id=\"T_d0f27276_0a1a_11ea_a6fb_107b449f15fc\" style='display:inline'><thead>    <tr>        <th class=\"blank level0\" ></th>        <th class=\"col_heading level0 col0\" >topic_22 @2gramm</th>    </tr></thead><tbody>\n",
       "                <tr>\n",
       "                        <th id=\"T_d0f27276_0a1a_11ea_a6fb_107b449f15fclevel0_row0\" class=\"row_heading level0 row0\" >городской_пространство</th>\n",
       "                        <td id=\"T_d0f27276_0a1a_11ea_a6fb_107b449f15fcrow0_col0\" class=\"data row0 col0\" >0.01263</td>\n",
       "            </tr>\n",
       "            <tr>\n",
       "                        <th id=\"T_d0f27276_0a1a_11ea_a6fb_107b449f15fclevel0_row1\" class=\"row_heading level0 row1\" >когнитивный_психология</th>\n",
       "                        <td id=\"T_d0f27276_0a1a_11ea_a6fb_107b449f15fcrow1_col0\" class=\"data row1 col0\" >0.01246</td>\n",
       "            </tr>\n",
       "            <tr>\n",
       "                        <th id=\"T_d0f27276_0a1a_11ea_a6fb_107b449f15fclevel0_row2\" class=\"row_heading level0 row2\" >решение_задача</th>\n",
       "                        <td id=\"T_d0f27276_0a1a_11ea_a6fb_107b449f15fcrow2_col0\" class=\"data row2 col0\" >0.01115</td>\n",
       "            </tr>\n",
       "            <tr>\n",
       "                        <th id=\"T_d0f27276_0a1a_11ea_a6fb_107b449f15fclevel0_row3\" class=\"row_heading level0 row3\" >малое_город</th>\n",
       "                        <td id=\"T_d0f27276_0a1a_11ea_a6fb_107b449f15fcrow3_col0\" class=\"data row3 col0\" >0.01073</td>\n",
       "            </tr>\n",
       "            <tr>\n",
       "                        <th id=\"T_d0f27276_0a1a_11ea_a6fb_107b449f15fclevel0_row4\" class=\"row_heading level0 row4\" >городской_жизнь</th>\n",
       "                        <td id=\"T_d0f27276_0a1a_11ea_a6fb_107b449f15fcrow4_col0\" class=\"data row4 col0\" >0.00617</td>\n",
       "            </tr>\n",
       "            <tr>\n",
       "                        <th id=\"T_d0f27276_0a1a_11ea_a6fb_107b449f15fclevel0_row5\" class=\"row_heading level0 row5\" >крупный_город</th>\n",
       "                        <td id=\"T_d0f27276_0a1a_11ea_a6fb_107b449f15fcrow5_col0\" class=\"data row5 col0\" >0.00544</td>\n",
       "            </tr>\n",
       "            <tr>\n",
       "                        <th id=\"T_d0f27276_0a1a_11ea_a6fb_107b449f15fclevel0_row6\" class=\"row_heading level0 row6\" >социальный_психология</th>\n",
       "                        <td id=\"T_d0f27276_0a1a_11ea_a6fb_107b449f15fcrow6_col0\" class=\"data row6 col0\" >0.00522</td>\n",
       "            </tr>\n",
       "            <tr>\n",
       "                        <th id=\"T_d0f27276_0a1a_11ea_a6fb_107b449f15fclevel0_row7\" class=\"row_heading level0 row7\" >прошлое_опыт</th>\n",
       "                        <td id=\"T_d0f27276_0a1a_11ea_a6fb_107b449f15fcrow7_col0\" class=\"data row7 col0\" >0.0052</td>\n",
       "            </tr>\n",
       "            <tr>\n",
       "                        <th id=\"T_d0f27276_0a1a_11ea_a6fb_107b449f15fclevel0_row8\" class=\"row_heading level0 row8\" >зрительный_система</th>\n",
       "                        <td id=\"T_d0f27276_0a1a_11ea_a6fb_107b449f15fcrow8_col0\" class=\"data row8 col0\" >0.00517</td>\n",
       "            </tr>\n",
       "            <tr>\n",
       "                        <th id=\"T_d0f27276_0a1a_11ea_a6fb_107b449f15fclevel0_row9\" class=\"row_heading level0 row9\" >движение_глаз</th>\n",
       "                        <td id=\"T_d0f27276_0a1a_11ea_a6fb_107b449f15fcrow9_col0\" class=\"data row9 col0\" >0.0051</td>\n",
       "            </tr>\n",
       "    </tbody></table><style  type=\"text/css\" >\n",
       "</style><table id=\"T_d0f27277_0a1a_11ea_a6fb_107b449f15fc\" style='display:inline'><thead>    <tr>        <th class=\"blank level0\" ></th>        <th class=\"col_heading level0 col0\" >topic_22 @3gramm</th>    </tr></thead><tbody>\n",
       "                <tr>\n",
       "                        <th id=\"T_d0f27277_0a1a_11ea_a6fb_107b449f15fclevel0_row0\" class=\"row_heading level0 row0\" >конец_xix_век</th>\n",
       "                        <td id=\"T_d0f27277_0a1a_11ea_a6fb_107b449f15fcrow0_col0\" class=\"data row0 col0\" >0.52962</td>\n",
       "            </tr>\n",
       "            <tr>\n",
       "                        <th id=\"T_d0f27277_0a1a_11ea_a6fb_107b449f15fclevel0_row1\" class=\"row_heading level0 row1\" >получить_широкий_распространение</th>\n",
       "                        <td id=\"T_d0f27277_0a1a_11ea_a6fb_107b449f15fcrow1_col0\" class=\"data row1 col0\" >0.064</td>\n",
       "            </tr>\n",
       "            <tr>\n",
       "                        <th id=\"T_d0f27277_0a1a_11ea_a6fb_107b449f15fclevel0_row2\" class=\"row_heading level0 row2\" >современный_когнитивный_психология</th>\n",
       "                        <td id=\"T_d0f27277_0a1a_11ea_a6fb_107b449f15fcrow2_col0\" class=\"data row2 col0\" >0.0428</td>\n",
       "            </tr>\n",
       "            <tr>\n",
       "                        <th id=\"T_d0f27277_0a1a_11ea_a6fb_107b449f15fclevel0_row3\" class=\"row_heading level0 row3\" >альтернативный_точка_зрение</th>\n",
       "                        <td id=\"T_d0f27277_0a1a_11ea_a6fb_107b449f15fcrow3_col0\" class=\"data row3 col0\" >0.04259</td>\n",
       "            </tr>\n",
       "            <tr>\n",
       "                        <th id=\"T_d0f27277_0a1a_11ea_a6fb_107b449f15fclevel0_row4\" class=\"row_heading level0 row4\" >недавно_издать_книга</th>\n",
       "                        <td id=\"T_d0f27277_0a1a_11ea_a6fb_107b449f15fcrow4_col0\" class=\"data row4 col0\" >0.03685</td>\n",
       "            </tr>\n",
       "            <tr>\n",
       "                        <th id=\"T_d0f27277_0a1a_11ea_a6fb_107b449f15fclevel0_row5\" class=\"row_heading level0 row5\" >ход_решение_задача</th>\n",
       "                        <td id=\"T_d0f27277_0a1a_11ea_a6fb_107b449f15fcrow5_col0\" class=\"data row5 col0\" >0.03209</td>\n",
       "            </tr>\n",
       "            <tr>\n",
       "                        <th id=\"T_d0f27277_0a1a_11ea_a6fb_107b449f15fclevel0_row6\" class=\"row_heading level0 row6\" >центр_когнитивный_исследование</th>\n",
       "                        <td id=\"T_d0f27277_0a1a_11ea_a6fb_107b449f15fcrow6_col0\" class=\"data row6 col0\" >0.03208</td>\n",
       "            </tr>\n",
       "            <tr>\n",
       "                        <th id=\"T_d0f27277_0a1a_11ea_a6fb_107b449f15fclevel0_row7\" class=\"row_heading level0 row7\" >система_переработка_информация</th>\n",
       "                        <td id=\"T_d0f27277_0a1a_11ea_a6fb_107b449f15fcrow7_col0\" class=\"data row7 col0\" >0.03208</td>\n",
       "            </tr>\n",
       "            <tr>\n",
       "                        <th id=\"T_d0f27277_0a1a_11ea_a6fb_107b449f15fclevel0_row8\" class=\"row_heading level0 row8\" >целое_ряд_причина</th>\n",
       "                        <td id=\"T_d0f27277_0a1a_11ea_a6fb_107b449f15fcrow8_col0\" class=\"data row8 col0\" >0.03191</td>\n",
       "            </tr>\n",
       "            <tr>\n",
       "                        <th id=\"T_d0f27277_0a1a_11ea_a6fb_107b449f15fclevel0_row9\" class=\"row_heading level0 row9\" >большой_количество_исследование</th>\n",
       "                        <td id=\"T_d0f27277_0a1a_11ea_a6fb_107b449f15fcrow9_col0\" class=\"data row9 col0\" >0.0217</td>\n",
       "            </tr>\n",
       "    </tbody></table><style  type=\"text/css\" >\n",
       "</style><table id=\"T_d0f27278_0a1a_11ea_a6fb_107b449f15fc\" style='display:inline'><thead>    <tr>        <th class=\"blank level0\" ></th>        <th class=\"col_heading level0 col0\" >topic_22 @post_tag</th>    </tr></thead><tbody>\n",
       "                <tr>\n",
       "                        <th id=\"T_d0f27278_0a1a_11ea_a6fb_107b449f15fclevel0_row0\" class=\"row_heading level0 row0\" >психология</th>\n",
       "                        <td id=\"T_d0f27278_0a1a_11ea_a6fb_107b449f15fcrow0_col0\" class=\"data row0 col0\" >0.2016</td>\n",
       "            </tr>\n",
       "            <tr>\n",
       "                        <th id=\"T_d0f27278_0a1a_11ea_a6fb_107b449f15fclevel0_row1\" class=\"row_heading level0 row1\" >город</th>\n",
       "                        <td id=\"T_d0f27278_0a1a_11ea_a6fb_107b449f15fcrow1_col0\" class=\"data row1 col0\" >0.1548</td>\n",
       "            </tr>\n",
       "            <tr>\n",
       "                        <th id=\"T_d0f27278_0a1a_11ea_a6fb_107b449f15fclevel0_row2\" class=\"row_heading level0 row2\" >когнитивная_психология</th>\n",
       "                        <td id=\"T_d0f27278_0a1a_11ea_a6fb_107b449f15fcrow2_col0\" class=\"data row2 col0\" >0.09175</td>\n",
       "            </tr>\n",
       "            <tr>\n",
       "                        <th id=\"T_d0f27278_0a1a_11ea_a6fb_107b449f15fclevel0_row3\" class=\"row_heading level0 row3\" >мышление</th>\n",
       "                        <td id=\"T_d0f27278_0a1a_11ea_a6fb_107b449f15fcrow3_col0\" class=\"data row3 col0\" >0.08958</td>\n",
       "            </tr>\n",
       "            <tr>\n",
       "                        <th id=\"T_d0f27278_0a1a_11ea_a6fb_107b449f15fclevel0_row4\" class=\"row_heading level0 row4\" >урбанистика</th>\n",
       "                        <td id=\"T_d0f27278_0a1a_11ea_a6fb_107b449f15fcrow4_col0\" class=\"data row4 col0\" >0.07132</td>\n",
       "            </tr>\n",
       "            <tr>\n",
       "                        <th id=\"T_d0f27278_0a1a_11ea_a6fb_107b449f15fclevel0_row5\" class=\"row_heading level0 row5\" >городское_пространство</th>\n",
       "                        <td id=\"T_d0f27278_0a1a_11ea_a6fb_107b449f15fcrow5_col0\" class=\"data row5 col0\" >0.05293</td>\n",
       "            </tr>\n",
       "            <tr>\n",
       "                        <th id=\"T_d0f27278_0a1a_11ea_a6fb_107b449f15fclevel0_row6\" class=\"row_heading level0 row6\" >москва</th>\n",
       "                        <td id=\"T_d0f27278_0a1a_11ea_a6fb_107b449f15fcrow6_col0\" class=\"data row6 col0\" >0.03237</td>\n",
       "            </tr>\n",
       "            <tr>\n",
       "                        <th id=\"T_d0f27278_0a1a_11ea_a6fb_107b449f15fclevel0_row7\" class=\"row_heading level0 row7\" >внимание</th>\n",
       "                        <td id=\"T_d0f27278_0a1a_11ea_a6fb_107b449f15fcrow7_col0\" class=\"data row7 col0\" >0.03056</td>\n",
       "            </tr>\n",
       "            <tr>\n",
       "                        <th id=\"T_d0f27278_0a1a_11ea_a6fb_107b449f15fclevel0_row8\" class=\"row_heading level0 row8\" >социология_пространства</th>\n",
       "                        <td id=\"T_d0f27278_0a1a_11ea_a6fb_107b449f15fcrow8_col0\" class=\"data row8 col0\" >0.02418</td>\n",
       "            </tr>\n",
       "            <tr>\n",
       "                        <th id=\"T_d0f27278_0a1a_11ea_a6fb_107b449f15fclevel0_row9\" class=\"row_heading level0 row9\" >психология_мышления</th>\n",
       "                        <td id=\"T_d0f27278_0a1a_11ea_a6fb_107b449f15fcrow9_col0\" class=\"data row9 col0\" >0.0224</td>\n",
       "            </tr>\n",
       "    </tbody></table><style  type=\"text/css\" >\n",
       "</style><table id=\"T_d0f27279_0a1a_11ea_a6fb_107b449f15fc\" style='display:inline'><thead>    <tr>        <th class=\"blank level0\" ></th>        <th class=\"col_heading level0 col0\" >topic_22 @word</th>    </tr></thead><tbody>\n",
       "                <tr>\n",
       "                        <th id=\"T_d0f27279_0a1a_11ea_a6fb_107b449f15fclevel0_row0\" class=\"row_heading level0 row0\" >город</th>\n",
       "                        <td id=\"T_d0f27279_0a1a_11ea_a6fb_107b449f15fcrow0_col0\" class=\"data row0 col0\" >0.01501</td>\n",
       "            </tr>\n",
       "            <tr>\n",
       "                        <th id=\"T_d0f27279_0a1a_11ea_a6fb_107b449f15fclevel0_row1\" class=\"row_heading level0 row1\" >внимание</th>\n",
       "                        <td id=\"T_d0f27279_0a1a_11ea_a6fb_107b449f15fcrow1_col0\" class=\"data row1 col0\" >0.0045</td>\n",
       "            </tr>\n",
       "            <tr>\n",
       "                        <th id=\"T_d0f27279_0a1a_11ea_a6fb_107b449f15fclevel0_row2\" class=\"row_heading level0 row2\" >испытуемый</th>\n",
       "                        <td id=\"T_d0f27279_0a1a_11ea_a6fb_107b449f15fcrow2_col0\" class=\"data row2 col0\" >0.00434</td>\n",
       "            </tr>\n",
       "            <tr>\n",
       "                        <th id=\"T_d0f27279_0a1a_11ea_a6fb_107b449f15fclevel0_row3\" class=\"row_heading level0 row3\" >мышление</th>\n",
       "                        <td id=\"T_d0f27279_0a1a_11ea_a6fb_107b449f15fcrow3_col0\" class=\"data row3 col0\" >0.00398</td>\n",
       "            </tr>\n",
       "            <tr>\n",
       "                        <th id=\"T_d0f27279_0a1a_11ea_a6fb_107b449f15fclevel0_row4\" class=\"row_heading level0 row4\" >городской</th>\n",
       "                        <td id=\"T_d0f27279_0a1a_11ea_a6fb_107b449f15fcrow4_col0\" class=\"data row4 col0\" >0.00381</td>\n",
       "            </tr>\n",
       "            <tr>\n",
       "                        <th id=\"T_d0f27279_0a1a_11ea_a6fb_107b449f15fclevel0_row5\" class=\"row_heading level0 row5\" >задача</th>\n",
       "                        <td id=\"T_d0f27279_0a1a_11ea_a6fb_107b449f15fcrow5_col0\" class=\"data row5 col0\" >0.00352</td>\n",
       "            </tr>\n",
       "            <tr>\n",
       "                        <th id=\"T_d0f27279_0a1a_11ea_a6fb_107b449f15fclevel0_row6\" class=\"row_heading level0 row6\" >проблема</th>\n",
       "                        <td id=\"T_d0f27279_0a1a_11ea_a6fb_107b449f15fcrow6_col0\" class=\"data row6 col0\" >0.00349</td>\n",
       "            </tr>\n",
       "            <tr>\n",
       "                        <th id=\"T_d0f27279_0a1a_11ea_a6fb_107b449f15fclevel0_row7\" class=\"row_heading level0 row7\" >психология</th>\n",
       "                        <td id=\"T_d0f27279_0a1a_11ea_a6fb_107b449f15fcrow7_col0\" class=\"data row7 col0\" >0.00339</td>\n",
       "            </tr>\n",
       "            <tr>\n",
       "                        <th id=\"T_d0f27279_0a1a_11ea_a6fb_107b449f15fclevel0_row8\" class=\"row_heading level0 row8\" >психолог</th>\n",
       "                        <td id=\"T_d0f27279_0a1a_11ea_a6fb_107b449f15fcrow8_col0\" class=\"data row8 col0\" >0.00328</td>\n",
       "            </tr>\n",
       "            <tr>\n",
       "                        <th id=\"T_d0f27279_0a1a_11ea_a6fb_107b449f15fclevel0_row9\" class=\"row_heading level0 row9\" >место</th>\n",
       "                        <td id=\"T_d0f27279_0a1a_11ea_a6fb_107b449f15fcrow9_col0\" class=\"data row9 col0\" >0.00324</td>\n",
       "            </tr>\n",
       "    </tbody></table>"
      ]
     },
     "metadata": {},
     "output_type": "display_data"
    },
    {
     "data": {
      "text/html": [
       "<b> поиск букв в больших буквенных массивахпарадоксы «теста мюнстерберга» </b><br /> психолог мария фаликман о нисходящих процессах в обработке буквенной информации и внимании в зрительном поиске"
      ]
     },
     "metadata": {},
     "output_type": "display_data"
    },
    {
     "data": {
      "text/html": [
       "<b> метафоры и модели внимания в когнитивной психологии </b><br /> психолог мария фаликман об ограничениях внимания, модели фильтра и факторах распределения ресурсов внимания"
      ]
     },
     "metadata": {},
     "output_type": "display_data"
    },
    {
     "data": {
      "text/html": [
       "<b> faqмышление в психологическом исследовании </b><br /> 7 фактов о методах исследования способов, которыми мы решаем задачи и проблемы"
      ]
     },
     "metadata": {},
     "output_type": "display_data"
    },
    {
     "data": {
      "text/html": [
       "<b> явление и понятие инсайта </b><br /> психолог владимир спиридонов об этапах решения задачи, ошибках переживания и психологических экспериментах"
      ]
     },
     "metadata": {},
     "output_type": "display_data"
    },
    {
     "data": {
      "text/html": [
       "<b> виды мышления </b><br /> психолог мария фаликман об особом подходе к исследованию мышления в психологии, различиях между теоретическим и практическим мышлением и имеющихся классификациях"
      ]
     },
     "metadata": {},
     "output_type": "display_data"
    },
    {
     "data": {
      "text/html": [
       "<b> классические исследования организации памяти </b><br /> психолог мария фаликман об экспериментах эббингауза и бартлетта, ассоциативных закономерностях памяти и ее схематичной организации"
      ]
     },
     "metadata": {},
     "output_type": "display_data"
    },
    {
     "data": {
      "text/html": [
       "<b> методы изучения категорий у детей </b><br /> психолог алексей котов о способности к категоризации, ее изучении и зрительных предпочтениях детей"
      ]
     },
     "metadata": {},
     "output_type": "display_data"
    },
    {
     "data": {
      "text/html": [
       "<b> психология создания трудностей и проблем </b><br /> психолог александр поддьяков о различных типах трудностей, их нравственной оценке и разработке игр"
      ]
     },
     "metadata": {},
     "output_type": "display_data"
    },
    {
     "data": {
      "text/html": [
       "<b> как развить творческие способности? </b><br /> психолог владимир спиридонов о психологии творчества, поиске креативных решений и эвристических стратегиях"
      ]
     },
     "metadata": {},
     "output_type": "display_data"
    },
    {
     "data": {
      "text/html": [
       "<b> можно ли измерить интеллект человека с помощью тестов на iq? </b><br /> что такое интеллект и как разрабатывают тесты на решение задач различного типа"
      ]
     },
     "metadata": {},
     "output_type": "display_data"
    },
    {
     "data": {
      "text/html": [
       "<style  type=\"text/css\" >\n",
       "</style><table id=\"T_d0f2727a_0a1a_11ea_a6fb_107b449f15fc\" style='display:inline'><thead>    <tr>        <th class=\"blank level0\" ></th>        <th class=\"col_heading level0 col0\" >topic_23 @2gramm</th>    </tr></thead><tbody>\n",
       "                <tr>\n",
       "                        <th id=\"T_d0f2727a_0a1a_11ea_a6fb_107b449f15fclevel0_row0\" class=\"row_heading level0 row0\" >социология_право</th>\n",
       "                        <td id=\"T_d0f2727a_0a1a_11ea_a6fb_107b449f15fcrow0_col0\" class=\"data row0 col0\" >0.03662</td>\n",
       "            </tr>\n",
       "            <tr>\n",
       "                        <th id=\"T_d0f2727a_0a1a_11ea_a6fb_107b449f15fclevel0_row1\" class=\"row_heading level0 row1\" >скрытый_масса</th>\n",
       "                        <td id=\"T_d0f2727a_0a1a_11ea_a6fb_107b449f15fcrow1_col0\" class=\"data row1 col0\" >0.01998</td>\n",
       "            </tr>\n",
       "            <tr>\n",
       "                        <th id=\"T_d0f2727a_0a1a_11ea_a6fb_107b449f15fclevel0_row2\" class=\"row_heading level0 row2\" >интеллектуальный_собственность</th>\n",
       "                        <td id=\"T_d0f2727a_0a1a_11ea_a6fb_107b449f15fcrow2_col0\" class=\"data row2 col0\" >0.01357</td>\n",
       "            </tr>\n",
       "            <tr>\n",
       "                        <th id=\"T_d0f2727a_0a1a_11ea_a6fb_107b449f15fclevel0_row3\" class=\"row_heading level0 row3\" >советский_этнография</th>\n",
       "                        <td id=\"T_d0f2727a_0a1a_11ea_a6fb_107b449f15fcrow3_col0\" class=\"data row3 col0\" >0.0112</td>\n",
       "            </tr>\n",
       "            <tr>\n",
       "                        <th id=\"T_d0f2727a_0a1a_11ea_a6fb_107b449f15fclevel0_row4\" class=\"row_heading level0 row4\" >коренной_народ</th>\n",
       "                        <td id=\"T_d0f2727a_0a1a_11ea_a6fb_107b449f15fcrow4_col0\" class=\"data row4 col0\" >0.01003</td>\n",
       "            </tr>\n",
       "            <tr>\n",
       "                        <th id=\"T_d0f2727a_0a1a_11ea_a6fb_107b449f15fclevel0_row5\" class=\"row_heading level0 row5\" >теория_этнос</th>\n",
       "                        <td id=\"T_d0f2727a_0a1a_11ea_a6fb_107b449f15fcrow5_col0\" class=\"data row5 col0\" >0.00956</td>\n",
       "            </tr>\n",
       "            <tr>\n",
       "                        <th id=\"T_d0f2727a_0a1a_11ea_a6fb_107b449f15fclevel0_row6\" class=\"row_heading level0 row6\" >рабочий_группа</th>\n",
       "                        <td id=\"T_d0f2727a_0a1a_11ea_a6fb_107b449f15fcrow6_col0\" class=\"data row6 col0\" >0.00837</td>\n",
       "            </tr>\n",
       "            <tr>\n",
       "                        <th id=\"T_d0f2727a_0a1a_11ea_a6fb_107b449f15fclevel0_row7\" class=\"row_heading level0 row7\" >национальный_вопрос</th>\n",
       "                        <td id=\"T_d0f2727a_0a1a_11ea_a6fb_107b449f15fcrow7_col0\" class=\"data row7 col0\" >0.00802</td>\n",
       "            </tr>\n",
       "            <tr>\n",
       "                        <th id=\"T_d0f2727a_0a1a_11ea_a6fb_107b449f15fclevel0_row8\" class=\"row_heading level0 row8\" >правовой_культура</th>\n",
       "                        <td id=\"T_d0f2727a_0a1a_11ea_a6fb_107b449f15fcrow8_col0\" class=\"data row8 col0\" >0.00623</td>\n",
       "            </tr>\n",
       "            <tr>\n",
       "                        <th id=\"T_d0f2727a_0a1a_11ea_a6fb_107b449f15fclevel0_row9\" class=\"row_heading level0 row9\" >планета_двигаться</th>\n",
       "                        <td id=\"T_d0f2727a_0a1a_11ea_a6fb_107b449f15fcrow9_col0\" class=\"data row9 col0\" >0.0059</td>\n",
       "            </tr>\n",
       "    </tbody></table><style  type=\"text/css\" >\n",
       "</style><table id=\"T_d0f2727b_0a1a_11ea_a6fb_107b449f15fc\" style='display:inline'><thead>    <tr>        <th class=\"blank level0\" ></th>        <th class=\"col_heading level0 col0\" >topic_23 @3gramm</th>    </tr></thead><tbody>\n",
       "                <tr>\n",
       "                        <th id=\"T_d0f2727b_0a1a_11ea_a6fb_107b449f15fclevel0_row0\" class=\"row_heading level0 row0\" >частица_тёмный_материя</th>\n",
       "                        <td id=\"T_d0f2727b_0a1a_11ea_a6fb_107b449f15fcrow0_col0\" class=\"data row0 col0\" >0.32116</td>\n",
       "            </tr>\n",
       "            <tr>\n",
       "                        <th id=\"T_d0f2727b_0a1a_11ea_a6fb_107b449f15fclevel0_row1\" class=\"row_heading level0 row1\" >распад_советский_союз</th>\n",
       "                        <td id=\"T_d0f2727b_0a1a_11ea_a6fb_107b449f15fcrow1_col0\" class=\"data row1 col0\" >0.13688</td>\n",
       "            </tr>\n",
       "            <tr>\n",
       "                        <th id=\"T_d0f2727b_0a1a_11ea_a6fb_107b449f15fclevel0_row2\" class=\"row_heading level0 row2\" >вспышка_сверхновый_звезда</th>\n",
       "                        <td id=\"T_d0f2727b_0a1a_11ea_a6fb_107b449f15fcrow2_col0\" class=\"data row2 col0\" >0.07949</td>\n",
       "            </tr>\n",
       "            <tr>\n",
       "                        <th id=\"T_d0f2727b_0a1a_11ea_a6fb_107b449f15fclevel0_row3\" class=\"row_heading level0 row3\" >конец_xvii_век</th>\n",
       "                        <td id=\"T_d0f2727b_0a1a_11ea_a6fb_107b449f15fcrow3_col0\" class=\"data row3 col0\" >0.07109</td>\n",
       "            </tr>\n",
       "            <tr>\n",
       "                        <th id=\"T_d0f2727b_0a1a_11ea_a6fb_107b449f15fclevel0_row4\" class=\"row_heading level0 row4\" >плотность_тёмный_материя</th>\n",
       "                        <td id=\"T_d0f2727b_0a1a_11ea_a6fb_107b449f15fcrow4_col0\" class=\"data row4 col0\" >0.05478</td>\n",
       "            </tr>\n",
       "            <tr>\n",
       "                        <th id=\"T_d0f2727b_0a1a_11ea_a6fb_107b449f15fclevel0_row5\" class=\"row_heading level0 row5\" >современный_социология_право</th>\n",
       "                        <td id=\"T_d0f2727b_0a1a_11ea_a6fb_107b449f15fcrow5_col0\" class=\"data row5 col0\" >0.05402</td>\n",
       "            </tr>\n",
       "            <tr>\n",
       "                        <th id=\"T_d0f2727b_0a1a_11ea_a6fb_107b449f15fclevel0_row6\" class=\"row_heading level0 row6\" >находить_друг_друг</th>\n",
       "                        <td id=\"T_d0f2727b_0a1a_11ea_a6fb_107b449f15fcrow6_col0\" class=\"data row6 col0\" >0.045</td>\n",
       "            </tr>\n",
       "            <tr>\n",
       "                        <th id=\"T_d0f2727b_0a1a_11ea_a6fb_107b449f15fclevel0_row7\" class=\"row_heading level0 row7\" >последний_пара_десяток</th>\n",
       "                        <td id=\"T_d0f2727b_0a1a_11ea_a6fb_107b449f15fcrow7_col0\" class=\"data row7 col0\" >0.03954</td>\n",
       "            </tr>\n",
       "            <tr>\n",
       "                        <th id=\"T_d0f2727b_0a1a_11ea_a6fb_107b449f15fclevel0_row8\" class=\"row_heading level0 row8\" >состоять_тёмный_материя</th>\n",
       "                        <td id=\"T_d0f2727b_0a1a_11ea_a6fb_107b449f15fcrow8_col0\" class=\"data row8 col0\" >0.02889</td>\n",
       "            </tr>\n",
       "            <tr>\n",
       "                        <th id=\"T_d0f2727b_0a1a_11ea_a6fb_107b449f15fclevel0_row9\" class=\"row_heading level0 row9\" >частица_стандартный_модель</th>\n",
       "                        <td id=\"T_d0f2727b_0a1a_11ea_a6fb_107b449f15fcrow9_col0\" class=\"data row9 col0\" >0.02802</td>\n",
       "            </tr>\n",
       "    </tbody></table><style  type=\"text/css\" >\n",
       "</style><table id=\"T_d0f2727c_0a1a_11ea_a6fb_107b449f15fc\" style='display:inline'><thead>    <tr>        <th class=\"blank level0\" ></th>        <th class=\"col_heading level0 col0\" >topic_23 @post_tag</th>    </tr></thead><tbody>\n",
       "                <tr>\n",
       "                        <th id=\"T_d0f2727c_0a1a_11ea_a6fb_107b449f15fclevel0_row0\" class=\"row_heading level0 row0\" >этнография</th>\n",
       "                        <td id=\"T_d0f2727c_0a1a_11ea_a6fb_107b449f15fcrow0_col0\" class=\"data row0 col0\" >0.12425</td>\n",
       "            </tr>\n",
       "            <tr>\n",
       "                        <th id=\"T_d0f2727c_0a1a_11ea_a6fb_107b449f15fclevel0_row1\" class=\"row_heading level0 row1\" >этнос</th>\n",
       "                        <td id=\"T_d0f2727c_0a1a_11ea_a6fb_107b449f15fcrow1_col0\" class=\"data row1 col0\" >0.10161</td>\n",
       "            </tr>\n",
       "            <tr>\n",
       "                        <th id=\"T_d0f2727c_0a1a_11ea_a6fb_107b449f15fclevel0_row2\" class=\"row_heading level0 row2\" >социология_права</th>\n",
       "                        <td id=\"T_d0f2727c_0a1a_11ea_a6fb_107b449f15fcrow2_col0\" class=\"data row2 col0\" >0.0905</td>\n",
       "            </tr>\n",
       "            <tr>\n",
       "                        <th id=\"T_d0f2727c_0a1a_11ea_a6fb_107b449f15fclevel0_row3\" class=\"row_heading level0 row3\" >право</th>\n",
       "                        <td id=\"T_d0f2727c_0a1a_11ea_a6fb_107b449f15fcrow3_col0\" class=\"data row3 col0\" >0.07589</td>\n",
       "            </tr>\n",
       "            <tr>\n",
       "                        <th id=\"T_d0f2727c_0a1a_11ea_a6fb_107b449f15fclevel0_row4\" class=\"row_heading level0 row4\" >топология</th>\n",
       "                        <td id=\"T_d0f2727c_0a1a_11ea_a6fb_107b449f15fcrow4_col0\" class=\"data row4 col0\" >0.05551</td>\n",
       "            </tr>\n",
       "            <tr>\n",
       "                        <th id=\"T_d0f2727c_0a1a_11ea_a6fb_107b449f15fclevel0_row5\" class=\"row_heading level0 row5\" >судопроизводство</th>\n",
       "                        <td id=\"T_d0f2727c_0a1a_11ea_a6fb_107b449f15fcrow5_col0\" class=\"data row5 col0\" >0.05078</td>\n",
       "            </tr>\n",
       "            <tr>\n",
       "                        <th id=\"T_d0f2727c_0a1a_11ea_a6fb_107b449f15fclevel0_row6\" class=\"row_heading level0 row6\" >судебная_система</th>\n",
       "                        <td id=\"T_d0f2727c_0a1a_11ea_a6fb_107b449f15fcrow6_col0\" class=\"data row6 col0\" >0.04515</td>\n",
       "            </tr>\n",
       "            <tr>\n",
       "                        <th id=\"T_d0f2727c_0a1a_11ea_a6fb_107b449f15fclevel0_row7\" class=\"row_heading level0 row7\" >полиция</th>\n",
       "                        <td id=\"T_d0f2727c_0a1a_11ea_a6fb_107b449f15fcrow7_col0\" class=\"data row7 col0\" >0.04501</td>\n",
       "            </tr>\n",
       "            <tr>\n",
       "                        <th id=\"T_d0f2727c_0a1a_11ea_a6fb_107b449f15fclevel0_row8\" class=\"row_heading level0 row8\" >галилей_галилео</th>\n",
       "                        <td id=\"T_d0f2727c_0a1a_11ea_a6fb_107b449f15fcrow8_col0\" class=\"data row8 col0\" >0.03925</td>\n",
       "            </tr>\n",
       "            <tr>\n",
       "                        <th id=\"T_d0f2727c_0a1a_11ea_a6fb_107b449f15fclevel0_row9\" class=\"row_heading level0 row9\" >антропология</th>\n",
       "                        <td id=\"T_d0f2727c_0a1a_11ea_a6fb_107b449f15fcrow9_col0\" class=\"data row9 col0\" >0.03004</td>\n",
       "            </tr>\n",
       "    </tbody></table><style  type=\"text/css\" >\n",
       "</style><table id=\"T_d0f2727d_0a1a_11ea_a6fb_107b449f15fc\" style='display:inline'><thead>    <tr>        <th class=\"blank level0\" ></th>        <th class=\"col_heading level0 col0\" >topic_23 @word</th>    </tr></thead><tbody>\n",
       "                <tr>\n",
       "                        <th id=\"T_d0f2727d_0a1a_11ea_a6fb_107b449f15fclevel0_row0\" class=\"row_heading level0 row0\" >суд</th>\n",
       "                        <td id=\"T_d0f2727d_0a1a_11ea_a6fb_107b449f15fcrow0_col0\" class=\"data row0 col0\" >0.00653</td>\n",
       "            </tr>\n",
       "            <tr>\n",
       "                        <th id=\"T_d0f2727d_0a1a_11ea_a6fb_107b449f15fclevel0_row1\" class=\"row_heading level0 row1\" >судья</th>\n",
       "                        <td id=\"T_d0f2727d_0a1a_11ea_a6fb_107b449f15fcrow1_col0\" class=\"data row1 col0\" >0.00513</td>\n",
       "            </tr>\n",
       "            <tr>\n",
       "                        <th id=\"T_d0f2727d_0a1a_11ea_a6fb_107b449f15fclevel0_row2\" class=\"row_heading level0 row2\" >дискурс</th>\n",
       "                        <td id=\"T_d0f2727d_0a1a_11ea_a6fb_107b449f15fcrow2_col0\" class=\"data row2 col0\" >0.00511</td>\n",
       "            </tr>\n",
       "            <tr>\n",
       "                        <th id=\"T_d0f2727d_0a1a_11ea_a6fb_107b449f15fclevel0_row3\" class=\"row_heading level0 row3\" >расизм</th>\n",
       "                        <td id=\"T_d0f2727d_0a1a_11ea_a6fb_107b449f15fcrow3_col0\" class=\"data row3 col0\" >0.00489</td>\n",
       "            </tr>\n",
       "            <tr>\n",
       "                        <th id=\"T_d0f2727d_0a1a_11ea_a6fb_107b449f15fclevel0_row4\" class=\"row_heading level0 row4\" >этнос</th>\n",
       "                        <td id=\"T_d0f2727d_0a1a_11ea_a6fb_107b449f15fcrow4_col0\" class=\"data row4 col0\" >0.00439</td>\n",
       "            </tr>\n",
       "            <tr>\n",
       "                        <th id=\"T_d0f2727d_0a1a_11ea_a6fb_107b449f15fclevel0_row5\" class=\"row_heading level0 row5\" >полиция</th>\n",
       "                        <td id=\"T_d0f2727d_0a1a_11ea_a6fb_107b449f15fcrow5_col0\" class=\"data row5 col0\" >0.00422</td>\n",
       "            </tr>\n",
       "            <tr>\n",
       "                        <th id=\"T_d0f2727d_0a1a_11ea_a6fb_107b449f15fclevel0_row6\" class=\"row_heading level0 row6\" >этнический</th>\n",
       "                        <td id=\"T_d0f2727d_0a1a_11ea_a6fb_107b449f15fcrow6_col0\" class=\"data row6 col0\" >0.00402</td>\n",
       "            </tr>\n",
       "            <tr>\n",
       "                        <th id=\"T_d0f2727d_0a1a_11ea_a6fb_107b449f15fclevel0_row7\" class=\"row_heading level0 row7\" >полицейский</th>\n",
       "                        <td id=\"T_d0f2727d_0a1a_11ea_a6fb_107b449f15fcrow7_col0\" class=\"data row7 col0\" >0.00397</td>\n",
       "            </tr>\n",
       "            <tr>\n",
       "                        <th id=\"T_d0f2727d_0a1a_11ea_a6fb_107b449f15fclevel0_row8\" class=\"row_heading level0 row8\" >меньшинство</th>\n",
       "                        <td id=\"T_d0f2727d_0a1a_11ea_a6fb_107b449f15fcrow8_col0\" class=\"data row8 col0\" >0.0037</td>\n",
       "            </tr>\n",
       "            <tr>\n",
       "                        <th id=\"T_d0f2727d_0a1a_11ea_a6fb_107b449f15fclevel0_row9\" class=\"row_heading level0 row9\" >галиля</th>\n",
       "                        <td id=\"T_d0f2727d_0a1a_11ea_a6fb_107b449f15fcrow9_col0\" class=\"data row9 col0\" >0.00316</td>\n",
       "            </tr>\n",
       "    </tbody></table>"
      ]
     },
     "metadata": {},
     "output_type": "display_data"
    },
    {
     "data": {
      "text/html": [
       "<b> стрелецкие бунты </b><br /> историк александр лаврентьев о бунте 1682 года, царевне софье и утре стрелецкой казни"
      ]
     },
     "metadata": {},
     "output_type": "display_data"
    },
    {
     "data": {
      "text/html": [
       "<b> что такое «по закону»история поиска ответов </b><br /> как сформировалась социология права, какие направления исследований доминируют сегодня и на какие работы по теме стоит обратить внимание, рассказывает социолог кирилл титаев"
      ]
     },
     "metadata": {},
     "output_type": "display_data"
    },
    {
     "data": {
      "text/html": [
       "<b> обнаружены ли следы распада темной материи? </b><br /> об особенностях рентгеновского излучения галактик и их скоплений"
      ]
     },
     "metadata": {},
     "output_type": "display_data"
    },
    {
     "data": {
      "text/html": [
       "<b> социология права </b><br /> 8 лекций социолога кирилла титаева об исследованиях правовых институтов и принципах функционирования законов"
      ]
     },
     "metadata": {},
     "output_type": "display_data"
    },
    {
     "data": {
      "text/html": [
       "<b> «итальянские корни» советской теории этноса </b><br /> как проходило становление российской этнологии и развитие дискуссий о народе, этносе и этничности в советский период"
      ]
     },
     "metadata": {},
     "output_type": "display_data"
    },
    {
     "data": {
      "text/html": [
       "<b> рабочие группы в суде </b><br /> социолог кирилл титаев о системе правосудия в сша, сделках о признании вины и российской специфике рабочих групп в суде"
      ]
     },
     "metadata": {},
     "output_type": "display_data"
    },
    {
     "data": {
      "text/html": [
       "<b> главы # гости с темной стороны </b><br /> глава из книги «достучаться до небеснаучный взгляд на устройство вселенной»  физика-теоретика лизы рэндалл о темной материи"
      ]
     },
     "metadata": {},
     "output_type": "display_data"
    },
    {
     "data": {
      "text/html": [
       "<b> социология права </b><br /> социолог кирилл титаев о правоприменении, технологии соблюдения законов и повседневных практиках работы прокуратуры"
      ]
     },
     "metadata": {},
     "output_type": "display_data"
    },
    {
     "data": {
      "text/html": [
       "<b> 5 книг по социологии права </b><br /> что читать о функционировании правовых норм и их изучении, рекомендует ведущий научный сотрудник института проблем правоприменения кирилл титаев"
      ]
     },
     "metadata": {},
     "output_type": "display_data"
    },
    {
     "data": {
      "text/html": [
       "<b> faqкоренные народы </b><br /> 7 фактов о том, как определяются национальные меньшинства в российском праве"
      ]
     },
     "metadata": {},
     "output_type": "display_data"
    },
    {
     "data": {
      "text/html": [
       "<style  type=\"text/css\" >\n",
       "</style><table id=\"T_d0f2727e_0a1a_11ea_a6fb_107b449f15fc\" style='display:inline'><thead>    <tr>        <th class=\"blank level0\" ></th>        <th class=\"col_heading level0 col0\" >topic_24 @2gramm</th>    </tr></thead><tbody>\n",
       "                <tr>\n",
       "                        <th id=\"T_d0f2727e_0a1a_11ea_a6fb_107b449f15fclevel0_row0\" class=\"row_heading level0 row0\" >система_образование</th>\n",
       "                        <td id=\"T_d0f2727e_0a1a_11ea_a6fb_107b449f15fcrow0_col0\" class=\"data row0 col0\" >0.01342</td>\n",
       "            </tr>\n",
       "            <tr>\n",
       "                        <th id=\"T_d0f2727e_0a1a_11ea_a6fb_107b449f15fclevel0_row1\" class=\"row_heading level0 row1\" >гуманитарный_наука</th>\n",
       "                        <td id=\"T_d0f2727e_0a1a_11ea_a6fb_107b449f15fcrow1_col0\" class=\"data row1 col0\" >0.01006</td>\n",
       "            </tr>\n",
       "            <tr>\n",
       "                        <th id=\"T_d0f2727e_0a1a_11ea_a6fb_107b449f15fclevel0_row2\" class=\"row_heading level0 row2\" >новый_программа</th>\n",
       "                        <td id=\"T_d0f2727e_0a1a_11ea_a6fb_107b449f15fcrow2_col0\" class=\"data row2 col0\" >0.00776</td>\n",
       "            </tr>\n",
       "            <tr>\n",
       "                        <th id=\"T_d0f2727e_0a1a_11ea_a6fb_107b449f15fclevel0_row3\" class=\"row_heading level0 row3\" >научный_сообщество</th>\n",
       "                        <td id=\"T_d0f2727e_0a1a_11ea_a6fb_107b449f15fcrow3_col0\" class=\"data row3 col0\" >0.00651</td>\n",
       "            </tr>\n",
       "            <tr>\n",
       "                        <th id=\"T_d0f2727e_0a1a_11ea_a6fb_107b449f15fclevel0_row4\" class=\"row_heading level0 row4\" >школьный_образование</th>\n",
       "                        <td id=\"T_d0f2727e_0a1a_11ea_a6fb_107b449f15fcrow4_col0\" class=\"data row4 col0\" >0.00582</td>\n",
       "            </tr>\n",
       "            <tr>\n",
       "                        <th id=\"T_d0f2727e_0a1a_11ea_a6fb_107b449f15fclevel0_row5\" class=\"row_heading level0 row5\" >научный_работа</th>\n",
       "                        <td id=\"T_d0f2727e_0a1a_11ea_a6fb_107b449f15fcrow5_col0\" class=\"data row5 col0\" >0.00538</td>\n",
       "            </tr>\n",
       "            <tr>\n",
       "                        <th id=\"T_d0f2727e_0a1a_11ea_a6fb_107b449f15fclevel0_row6\" class=\"row_heading level0 row6\" >прямая_речь</th>\n",
       "                        <td id=\"T_d0f2727e_0a1a_11ea_a6fb_107b449f15fcrow6_col0\" class=\"data row6 col0\" >0.00523</td>\n",
       "            </tr>\n",
       "            <tr>\n",
       "                        <th id=\"T_d0f2727e_0a1a_11ea_a6fb_107b449f15fclevel0_row7\" class=\"row_heading level0 row7\" >исторический_знание</th>\n",
       "                        <td id=\"T_d0f2727e_0a1a_11ea_a6fb_107b449f15fcrow7_col0\" class=\"data row7 col0\" >0.00517</td>\n",
       "            </tr>\n",
       "            <tr>\n",
       "                        <th id=\"T_d0f2727e_0a1a_11ea_a6fb_107b449f15fclevel0_row8\" class=\"row_heading level0 row8\" >заниматься_наука</th>\n",
       "                        <td id=\"T_d0f2727e_0a1a_11ea_a6fb_107b449f15fcrow8_col0\" class=\"data row8 col0\" >0.00498</td>\n",
       "            </tr>\n",
       "            <tr>\n",
       "                        <th id=\"T_d0f2727e_0a1a_11ea_a6fb_107b449f15fclevel0_row9\" class=\"row_heading level0 row9\" >учёный_степень</th>\n",
       "                        <td id=\"T_d0f2727e_0a1a_11ea_a6fb_107b449f15fcrow9_col0\" class=\"data row9 col0\" >0.00452</td>\n",
       "            </tr>\n",
       "    </tbody></table><style  type=\"text/css\" >\n",
       "</style><table id=\"T_d0f2727f_0a1a_11ea_a6fb_107b449f15fc\" style='display:inline'><thead>    <tr>        <th class=\"blank level0\" ></th>        <th class=\"col_heading level0 col0\" >topic_24 @3gramm</th>    </tr></thead><tbody>\n",
       "                <tr>\n",
       "                        <th id=\"T_d0f2727f_0a1a_11ea_a6fb_107b449f15fclevel0_row0\" class=\"row_heading level0 row0\" >половина_xx_век</th>\n",
       "                        <td id=\"T_d0f2727f_0a1a_11ea_a6fb_107b449f15fcrow0_col0\" class=\"data row0 col0\" >0.39202</td>\n",
       "            </tr>\n",
       "            <tr>\n",
       "                        <th id=\"T_d0f2727f_0a1a_11ea_a6fb_107b449f15fclevel0_row1\" class=\"row_heading level0 row1\" >широкий_смысл_слово</th>\n",
       "                        <td id=\"T_d0f2727f_0a1a_11ea_a6fb_107b449f15fcrow1_col0\" class=\"data row1 col0\" >0.10124</td>\n",
       "            </tr>\n",
       "            <tr>\n",
       "                        <th id=\"T_d0f2727f_0a1a_11ea_a6fb_107b449f15fclevel0_row2\" class=\"row_heading level0 row2\" >основный_проблема_преподавание</th>\n",
       "                        <td id=\"T_d0f2727f_0a1a_11ea_a6fb_107b449f15fcrow2_col0\" class=\"data row2 col0\" >0.08112</td>\n",
       "            </tr>\n",
       "            <tr>\n",
       "                        <th id=\"T_d0f2727f_0a1a_11ea_a6fb_107b449f15fclevel0_row3\" class=\"row_heading level0 row3\" >сыграть_большой_роль</th>\n",
       "                        <td id=\"T_d0f2727f_0a1a_11ea_a6fb_107b449f15fcrow3_col0\" class=\"data row3 col0\" >0.05371</td>\n",
       "            </tr>\n",
       "            <tr>\n",
       "                        <th id=\"T_d0f2727f_0a1a_11ea_a6fb_107b449f15fclevel0_row4\" class=\"row_heading level0 row4\" >российский_система_образование</th>\n",
       "                        <td id=\"T_d0f2727f_0a1a_11ea_a6fb_107b449f15fcrow4_col0\" class=\"data row4 col0\" >0.04725</td>\n",
       "            </tr>\n",
       "            <tr>\n",
       "                        <th id=\"T_d0f2727f_0a1a_11ea_a6fb_107b449f15fclevel0_row5\" class=\"row_heading level0 row5\" >спросить_автор_проект</th>\n",
       "                        <td id=\"T_d0f2727f_0a1a_11ea_a6fb_107b449f15fcrow5_col0\" class=\"data row5 col0\" >0.04721</td>\n",
       "            </tr>\n",
       "            <tr>\n",
       "                        <th id=\"T_d0f2727f_0a1a_11ea_a6fb_107b449f15fclevel0_row6\" class=\"row_heading level0 row6\" >современный_аналитический_философия</th>\n",
       "                        <td id=\"T_d0f2727f_0a1a_11ea_a6fb_107b449f15fcrow6_col0\" class=\"data row6 col0\" >0.04718</td>\n",
       "            </tr>\n",
       "            <tr>\n",
       "                        <th id=\"T_d0f2727f_0a1a_11ea_a6fb_107b449f15fclevel0_row7\" class=\"row_heading level0 row7\" >течение_xx_век</th>\n",
       "                        <td id=\"T_d0f2727f_0a1a_11ea_a6fb_107b449f15fcrow7_col0\" class=\"data row7 col0\" >0.03372</td>\n",
       "            </tr>\n",
       "            <tr>\n",
       "                        <th id=\"T_d0f2727f_0a1a_11ea_a6fb_107b449f15fclevel0_row8\" class=\"row_heading level0 row8\" >огромный_количество_вещий</th>\n",
       "                        <td id=\"T_d0f2727f_0a1a_11ea_a6fb_107b449f15fcrow8_col0\" class=\"data row8 col0\" >0.03371</td>\n",
       "            </tr>\n",
       "            <tr>\n",
       "                        <th id=\"T_d0f2727f_0a1a_11ea_a6fb_107b449f15fclevel0_row9\" class=\"row_heading level0 row9\" >область_естественный_наука</th>\n",
       "                        <td id=\"T_d0f2727f_0a1a_11ea_a6fb_107b449f15fcrow9_col0\" class=\"data row9 col0\" >0.0337</td>\n",
       "            </tr>\n",
       "    </tbody></table><style  type=\"text/css\" >\n",
       "</style><table id=\"T_d0f27280_0a1a_11ea_a6fb_107b449f15fc\" style='display:inline'><thead>    <tr>        <th class=\"blank level0\" ></th>        <th class=\"col_heading level0 col0\" >topic_24 @post_tag</th>    </tr></thead><tbody>\n",
       "                <tr>\n",
       "                        <th id=\"T_d0f27280_0a1a_11ea_a6fb_107b449f15fclevel0_row0\" class=\"row_heading level0 row0\" >образование</th>\n",
       "                        <td id=\"T_d0f27280_0a1a_11ea_a6fb_107b449f15fcrow0_col0\" class=\"data row0 col0\" >0.29596</td>\n",
       "            </tr>\n",
       "            <tr>\n",
       "                        <th id=\"T_d0f27280_0a1a_11ea_a6fb_107b449f15fclevel0_row1\" class=\"row_heading level0 row1\" >наука</th>\n",
       "                        <td id=\"T_d0f27280_0a1a_11ea_a6fb_107b449f15fcrow1_col0\" class=\"data row1 col0\" >0.205</td>\n",
       "            </tr>\n",
       "            <tr>\n",
       "                        <th id=\"T_d0f27280_0a1a_11ea_a6fb_107b449f15fclevel0_row2\" class=\"row_heading level0 row2\" >университет</th>\n",
       "                        <td id=\"T_d0f27280_0a1a_11ea_a6fb_107b449f15fcrow2_col0\" class=\"data row2 col0\" >0.09297</td>\n",
       "            </tr>\n",
       "            <tr>\n",
       "                        <th id=\"T_d0f27280_0a1a_11ea_a6fb_107b449f15fclevel0_row3\" class=\"row_heading level0 row3\" >школа</th>\n",
       "                        <td id=\"T_d0f27280_0a1a_11ea_a6fb_107b449f15fcrow3_col0\" class=\"data row3 col0\" >0.05463</td>\n",
       "            </tr>\n",
       "            <tr>\n",
       "                        <th id=\"T_d0f27280_0a1a_11ea_a6fb_107b449f15fclevel0_row4\" class=\"row_heading level0 row4\" >академическая_среда</th>\n",
       "                        <td id=\"T_d0f27280_0a1a_11ea_a6fb_107b449f15fcrow4_col0\" class=\"data row4 col0\" >0.04225</td>\n",
       "            </tr>\n",
       "            <tr>\n",
       "                        <th id=\"T_d0f27280_0a1a_11ea_a6fb_107b449f15fclevel0_row5\" class=\"row_heading level0 row5\" >аналитическая_философия</th>\n",
       "                        <td id=\"T_d0f27280_0a1a_11ea_a6fb_107b449f15fcrow5_col0\" class=\"data row5 col0\" >0.02519</td>\n",
       "            </tr>\n",
       "            <tr>\n",
       "                        <th id=\"T_d0f27280_0a1a_11ea_a6fb_107b449f15fclevel0_row6\" class=\"row_heading level0 row6\" >либерализм</th>\n",
       "                        <td id=\"T_d0f27280_0a1a_11ea_a6fb_107b449f15fcrow6_col0\" class=\"data row6 col0\" >0.02117</td>\n",
       "            </tr>\n",
       "            <tr>\n",
       "                        <th id=\"T_d0f27280_0a1a_11ea_a6fb_107b449f15fclevel0_row7\" class=\"row_heading level0 row7\" >фуко_мишель</th>\n",
       "                        <td id=\"T_d0f27280_0a1a_11ea_a6fb_107b449f15fcrow7_col0\" class=\"data row7 col0\" >0.02073</td>\n",
       "            </tr>\n",
       "            <tr>\n",
       "                        <th id=\"T_d0f27280_0a1a_11ea_a6fb_107b449f15fclevel0_row8\" class=\"row_heading level0 row8\" >история_науки</th>\n",
       "                        <td id=\"T_d0f27280_0a1a_11ea_a6fb_107b449f15fcrow8_col0\" class=\"data row8 col0\" >0.01989</td>\n",
       "            </tr>\n",
       "            <tr>\n",
       "                        <th id=\"T_d0f27280_0a1a_11ea_a6fb_107b449f15fclevel0_row9\" class=\"row_heading level0 row9\" >социология_образования</th>\n",
       "                        <td id=\"T_d0f27280_0a1a_11ea_a6fb_107b449f15fcrow9_col0\" class=\"data row9 col0\" >0.01682</td>\n",
       "            </tr>\n",
       "    </tbody></table><style  type=\"text/css\" >\n",
       "</style><table id=\"T_d0f27281_0a1a_11ea_a6fb_107b449f15fc\" style='display:inline'><thead>    <tr>        <th class=\"blank level0\" ></th>        <th class=\"col_heading level0 col0\" >topic_24 @word</th>    </tr></thead><tbody>\n",
       "                <tr>\n",
       "                        <th id=\"T_d0f27281_0a1a_11ea_a6fb_107b449f15fclevel0_row0\" class=\"row_heading level0 row0\" >университет</th>\n",
       "                        <td id=\"T_d0f27281_0a1a_11ea_a6fb_107b449f15fcrow0_col0\" class=\"data row0 col0\" >0.01158</td>\n",
       "            </tr>\n",
       "            <tr>\n",
       "                        <th id=\"T_d0f27281_0a1a_11ea_a6fb_107b449f15fclevel0_row1\" class=\"row_heading level0 row1\" >наука</th>\n",
       "                        <td id=\"T_d0f27281_0a1a_11ea_a6fb_107b449f15fcrow1_col0\" class=\"data row1 col0\" >0.0094</td>\n",
       "            </tr>\n",
       "            <tr>\n",
       "                        <th id=\"T_d0f27281_0a1a_11ea_a6fb_107b449f15fclevel0_row2\" class=\"row_heading level0 row2\" >студент</th>\n",
       "                        <td id=\"T_d0f27281_0a1a_11ea_a6fb_107b449f15fcrow2_col0\" class=\"data row2 col0\" >0.00743</td>\n",
       "            </tr>\n",
       "            <tr>\n",
       "                        <th id=\"T_d0f27281_0a1a_11ea_a6fb_107b449f15fclevel0_row3\" class=\"row_heading level0 row3\" >образование</th>\n",
       "                        <td id=\"T_d0f27281_0a1a_11ea_a6fb_107b449f15fcrow3_col0\" class=\"data row3 col0\" >0.0073</td>\n",
       "            </tr>\n",
       "            <tr>\n",
       "                        <th id=\"T_d0f27281_0a1a_11ea_a6fb_107b449f15fclevel0_row4\" class=\"row_heading level0 row4\" >школа</th>\n",
       "                        <td id=\"T_d0f27281_0a1a_11ea_a6fb_107b449f15fcrow4_col0\" class=\"data row4 col0\" >0.00706</td>\n",
       "            </tr>\n",
       "            <tr>\n",
       "                        <th id=\"T_d0f27281_0a1a_11ea_a6fb_107b449f15fclevel0_row5\" class=\"row_heading level0 row5\" >хороший</th>\n",
       "                        <td id=\"T_d0f27281_0a1a_11ea_a6fb_107b449f15fcrow5_col0\" class=\"data row5 col0\" >0.00589</td>\n",
       "            </tr>\n",
       "            <tr>\n",
       "                        <th id=\"T_d0f27281_0a1a_11ea_a6fb_107b449f15fclevel0_row6\" class=\"row_heading level0 row6\" >учёный</th>\n",
       "                        <td id=\"T_d0f27281_0a1a_11ea_a6fb_107b449f15fcrow6_col0\" class=\"data row6 col0\" >0.00584</td>\n",
       "            </tr>\n",
       "            <tr>\n",
       "                        <th id=\"T_d0f27281_0a1a_11ea_a6fb_107b449f15fclevel0_row7\" class=\"row_heading level0 row7\" >работать</th>\n",
       "                        <td id=\"T_d0f27281_0a1a_11ea_a6fb_107b449f15fcrow7_col0\" class=\"data row7 col0\" >0.0044</td>\n",
       "            </tr>\n",
       "            <tr>\n",
       "                        <th id=\"T_d0f27281_0a1a_11ea_a6fb_107b449f15fclevel0_row8\" class=\"row_heading level0 row8\" >проблема</th>\n",
       "                        <td id=\"T_d0f27281_0a1a_11ea_a6fb_107b449f15fcrow8_col0\" class=\"data row8 col0\" >0.00438</td>\n",
       "            </tr>\n",
       "            <tr>\n",
       "                        <th id=\"T_d0f27281_0a1a_11ea_a6fb_107b449f15fclevel0_row9\" class=\"row_heading level0 row9\" >книга</th>\n",
       "                        <td id=\"T_d0f27281_0a1a_11ea_a6fb_107b449f15fcrow9_col0\" class=\"data row9 col0\" >0.00432</td>\n",
       "            </tr>\n",
       "    </tbody></table>"
      ]
     },
     "metadata": {},
     "output_type": "display_data"
    },
    {
     "data": {
      "text/html": [
       "<b> точка зрения # система грантов </b><br /> мнения экспертов постнауки, насколько ученый зависит от грантов"
      ]
     },
     "metadata": {},
     "output_type": "display_data"
    },
    {
     "data": {
      "text/html": [
       "<b> точка зрения # зачем нужен «список вак» и когда его отменят? </b><br /> мнения экспертов постнауки о публикациях в «ваковских журналах» и получении научной степени"
      ]
     },
     "metadata": {},
     "output_type": "display_data"
    },
    {
     "data": {
      "text/html": [
       "<b> подготовка успешной заявки на грант </b><br /> рекомендации ученым по процессу получения грантов у российских научных фондов"
      ]
     },
     "metadata": {},
     "output_type": "display_data"
    },
    {
     "data": {
      "text/html": [
       "<b> точка зрения # проблема преподавания химии в школе </b><br /> мнения экспертов постнауки об основных проблемах преподавания химии в средней школе"
      ]
     },
     "metadata": {},
     "output_type": "display_data"
    },
    {
     "data": {
      "text/html": [
       "<b> точка зрения # эффективность «диссернета» </b><br /> авторы постнауки оценили плюсы и минусы деятельности «диссернета»"
      ]
     },
     "metadata": {},
     "output_type": "display_data"
    },
    {
     "data": {
      "text/html": [
       "<b> точка зрения # история религии в школе </b><br /> мнения экспертов постнауки о том, нужно ли и как преподавать религиоведение в школе"
      ]
     },
     "metadata": {},
     "output_type": "display_data"
    },
    {
     "data": {
      "text/html": [
       "<b> проблема преподавания обществознания в школе </b><br /> философ елена брызгалина о междисциплинарности обществознания, проблемах современного образования и унификации преподавания"
      ]
     },
     "metadata": {},
     "output_type": "display_data"
    },
    {
     "data": {
      "text/html": [
       "<b> проблемы преподавания литературы в школе </b><br /> мнения экспертов постнауки об основных проблемах преподавания литературы в средней школе"
      ]
     },
     "metadata": {},
     "output_type": "display_data"
    },
    {
     "data": {
      "text/html": [
       "<b> перспективыбыть социологом </b><br /> социолог виктор вахштайн рассказывает, откуда берутся социологи, чему и как их учат и зачем они нам нужны"
      ]
     },
     "metadata": {},
     "output_type": "display_data"
    },
    {
     "data": {
      "text/html": [
       "<b> точка зрения # нужны ли экзамены в высшем образовании </b><br /> мнения экспертов постнауки об эффективности традиционной формы проверки знаний"
      ]
     },
     "metadata": {},
     "output_type": "display_data"
    },
    {
     "data": {
      "text/html": [
       "<style  type=\"text/css\" >\n",
       "</style><table id=\"T_d0f27282_0a1a_11ea_a6fb_107b449f15fc\" style='display:inline'><thead>    <tr>        <th class=\"blank level0\" ></th>        <th class=\"col_heading level0 col0\" >topic_25 @2gramm</th>    </tr></thead><tbody>\n",
       "                <tr>\n",
       "                        <th id=\"T_d0f27282_0a1a_11ea_a6fb_107b449f15fclevel0_row0\" class=\"row_heading level0 row0\" >простой_число</th>\n",
       "                        <td id=\"T_d0f27282_0a1a_11ea_a6fb_107b449f15fcrow0_col0\" class=\"data row0 col0\" >0.01085</td>\n",
       "            </tr>\n",
       "            <tr>\n",
       "                        <th id=\"T_d0f27282_0a1a_11ea_a6fb_107b449f15fclevel0_row1\" class=\"row_heading level0 row1\" >конец_xix</th>\n",
       "                        <td id=\"T_d0f27282_0a1a_11ea_a6fb_107b449f15fcrow1_col0\" class=\"data row1 col0\" >0.00979</td>\n",
       "            </tr>\n",
       "            <tr>\n",
       "                        <th id=\"T_d0f27282_0a1a_11ea_a6fb_107b449f15fclevel0_row2\" class=\"row_heading level0 row2\" >русский_формализм</th>\n",
       "                        <td id=\"T_d0f27282_0a1a_11ea_a6fb_107b449f15fcrow2_col0\" class=\"data row2 col0\" >0.00944</td>\n",
       "            </tr>\n",
       "            <tr>\n",
       "                        <th id=\"T_d0f27282_0a1a_11ea_a6fb_107b449f15fclevel0_row3\" class=\"row_heading level0 row3\" >социальный_идентичность</th>\n",
       "                        <td id=\"T_d0f27282_0a1a_11ea_a6fb_107b449f15fcrow3_col0\" class=\"data row3 col0\" >0.00666</td>\n",
       "            </tr>\n",
       "            <tr>\n",
       "                        <th id=\"T_d0f27282_0a1a_11ea_a6fb_107b449f15fclevel0_row4\" class=\"row_heading level0 row4\" >культурный_ландшафт</th>\n",
       "                        <td id=\"T_d0f27282_0a1a_11ea_a6fb_107b449f15fcrow4_col0\" class=\"data row4 col0\" >0.00563</td>\n",
       "            </tr>\n",
       "            <tr>\n",
       "                        <th id=\"T_d0f27282_0a1a_11ea_a6fb_107b449f15fclevel0_row5\" class=\"row_heading level0 row5\" >рак_грудь</th>\n",
       "                        <td id=\"T_d0f27282_0a1a_11ea_a6fb_107b449f15fcrow5_col0\" class=\"data row5 col0\" >0.00534</td>\n",
       "            </tr>\n",
       "            <tr>\n",
       "                        <th id=\"T_d0f27282_0a1a_11ea_a6fb_107b449f15fclevel0_row6\" class=\"row_heading level0 row6\" >екатерина_ii</th>\n",
       "                        <td id=\"T_d0f27282_0a1a_11ea_a6fb_107b449f15fcrow6_col0\" class=\"data row6 col0\" >0.00506</td>\n",
       "            </tr>\n",
       "            <tr>\n",
       "                        <th id=\"T_d0f27282_0a1a_11ea_a6fb_107b449f15fclevel0_row7\" class=\"row_heading level0 row7\" >японский_культура</th>\n",
       "                        <td id=\"T_d0f27282_0a1a_11ea_a6fb_107b449f15fcrow7_col0\" class=\"data row7 col0\" >0.00439</td>\n",
       "            </tr>\n",
       "            <tr>\n",
       "                        <th id=\"T_d0f27282_0a1a_11ea_a6fb_107b449f15fclevel0_row8\" class=\"row_heading level0 row8\" >центральный_европа</th>\n",
       "                        <td id=\"T_d0f27282_0a1a_11ea_a6fb_107b449f15fcrow8_col0\" class=\"data row8 col0\" >0.00424</td>\n",
       "            </tr>\n",
       "            <tr>\n",
       "                        <th id=\"T_d0f27282_0a1a_11ea_a6fb_107b449f15fclevel0_row9\" class=\"row_heading level0 row9\" >политический_партия</th>\n",
       "                        <td id=\"T_d0f27282_0a1a_11ea_a6fb_107b449f15fcrow9_col0\" class=\"data row9 col0\" >0.00398</td>\n",
       "            </tr>\n",
       "    </tbody></table><style  type=\"text/css\" >\n",
       "</style><table id=\"T_d0f27283_0a1a_11ea_a6fb_107b449f15fc\" style='display:inline'><thead>    <tr>        <th class=\"blank level0\" ></th>        <th class=\"col_heading level0 col0\" >topic_25 @3gramm</th>    </tr></thead><tbody>\n",
       "                <tr>\n",
       "                        <th id=\"T_d0f27283_0a1a_11ea_a6fb_107b449f15fclevel0_row0\" class=\"row_heading level0 row0\" >начало_xx_век</th>\n",
       "                        <td id=\"T_d0f27283_0a1a_11ea_a6fb_107b449f15fcrow0_col0\" class=\"data row0 col0\" >0.63846</td>\n",
       "            </tr>\n",
       "            <tr>\n",
       "                        <th id=\"T_d0f27283_0a1a_11ea_a6fb_107b449f15fclevel0_row1\" class=\"row_heading level0 row1\" >середина_xix_век</th>\n",
       "                        <td id=\"T_d0f27283_0a1a_11ea_a6fb_107b449f15fcrow1_col0\" class=\"data row1 col0\" >0.22208</td>\n",
       "            </tr>\n",
       "            <tr>\n",
       "                        <th id=\"T_d0f27283_0a1a_11ea_a6fb_107b449f15fclevel0_row2\" class=\"row_heading level0 row2\" >середина_xviii_век</th>\n",
       "                        <td id=\"T_d0f27283_0a1a_11ea_a6fb_107b449f15fcrow2_col0\" class=\"data row2 col0\" >0.05832</td>\n",
       "            </tr>\n",
       "            <tr>\n",
       "                        <th id=\"T_d0f27283_0a1a_11ea_a6fb_107b449f15fclevel0_row3\" class=\"row_heading level0 row3\" >начать_xx_век</th>\n",
       "                        <td id=\"T_d0f27283_0a1a_11ea_a6fb_107b449f15fcrow3_col0\" class=\"data row3 col0\" >0.04104</td>\n",
       "            </tr>\n",
       "            <tr>\n",
       "                        <th id=\"T_d0f27283_0a1a_11ea_a6fb_107b449f15fclevel0_row4\" class=\"row_heading level0 row4\" >начало_xviii_век</th>\n",
       "                        <td id=\"T_d0f27283_0a1a_11ea_a6fb_107b449f15fcrow4_col0\" class=\"data row4 col0\" >0.02736</td>\n",
       "            </tr>\n",
       "            <tr>\n",
       "                        <th id=\"T_d0f27283_0a1a_11ea_a6fb_107b449f15fclevel0_row5\" class=\"row_heading level0 row5\" >передавать_друг_друг</th>\n",
       "                        <td id=\"T_d0f27283_0a1a_11ea_a6fb_107b449f15fcrow5_col0\" class=\"data row5 col0\" >0.00569</td>\n",
       "            </tr>\n",
       "            <tr>\n",
       "                        <th id=\"T_d0f27283_0a1a_11ea_a6fb_107b449f15fclevel0_row6\" class=\"row_heading level0 row6\" >протяжение_многий_десятилетие</th>\n",
       "                        <td id=\"T_d0f27283_0a1a_11ea_a6fb_107b449f15fcrow6_col0\" class=\"data row6 col0\" >0.00313</td>\n",
       "            </tr>\n",
       "            <tr>\n",
       "                        <th id=\"T_d0f27283_0a1a_11ea_a6fb_107b449f15fclevel0_row7\" class=\"row_heading level0 row7\" >конец_xvii_век</th>\n",
       "                        <td id=\"T_d0f27283_0a1a_11ea_a6fb_107b449f15fcrow7_col0\" class=\"data row7 col0\" >0.00237</td>\n",
       "            </tr>\n",
       "            <tr>\n",
       "                        <th id=\"T_d0f27283_0a1a_11ea_a6fb_107b449f15fclevel0_row8\" class=\"row_heading level0 row8\" >середина_xvi_век</th>\n",
       "                        <td id=\"T_d0f27283_0a1a_11ea_a6fb_107b449f15fcrow8_col0\" class=\"data row8 col0\" >0.00155</td>\n",
       "            </tr>\n",
       "    </tbody></table><style  type=\"text/css\" >\n",
       "</style><table id=\"T_d0f27284_0a1a_11ea_a6fb_107b449f15fc\" style='display:inline'><thead>    <tr>        <th class=\"blank level0\" ></th>        <th class=\"col_heading level0 col0\" >topic_25 @post_tag</th>    </tr></thead><tbody>\n",
       "                <tr>\n",
       "                        <th id=\"T_d0f27284_0a1a_11ea_a6fb_107b449f15fclevel0_row0\" class=\"row_heading level0 row0\" >география</th>\n",
       "                        <td id=\"T_d0f27284_0a1a_11ea_a6fb_107b449f15fcrow0_col0\" class=\"data row0 col0\" >0.14583</td>\n",
       "            </tr>\n",
       "            <tr>\n",
       "                        <th id=\"T_d0f27284_0a1a_11ea_a6fb_107b449f15fclevel0_row1\" class=\"row_heading level0 row1\" >япония</th>\n",
       "                        <td id=\"T_d0f27284_0a1a_11ea_a6fb_107b449f15fcrow1_col0\" class=\"data row1 col0\" >0.04545</td>\n",
       "            </tr>\n",
       "            <tr>\n",
       "                        <th id=\"T_d0f27284_0a1a_11ea_a6fb_107b449f15fclevel0_row2\" class=\"row_heading level0 row2\" >петр_i</th>\n",
       "                        <td id=\"T_d0f27284_0a1a_11ea_a6fb_107b449f15fcrow2_col0\" class=\"data row2 col0\" >0.04292</td>\n",
       "            </tr>\n",
       "            <tr>\n",
       "                        <th id=\"T_d0f27284_0a1a_11ea_a6fb_107b449f15fclevel0_row3\" class=\"row_heading level0 row3\" >климат</th>\n",
       "                        <td id=\"T_d0f27284_0a1a_11ea_a6fb_107b449f15fcrow3_col0\" class=\"data row3 col0\" >0.04021</td>\n",
       "            </tr>\n",
       "            <tr>\n",
       "                        <th id=\"T_d0f27284_0a1a_11ea_a6fb_107b449f15fclevel0_row4\" class=\"row_heading level0 row4\" >история_повседневности</th>\n",
       "                        <td id=\"T_d0f27284_0a1a_11ea_a6fb_107b449f15fcrow4_col0\" class=\"data row4 col0\" >0.04013</td>\n",
       "            </tr>\n",
       "            <tr>\n",
       "                        <th id=\"T_d0f27284_0a1a_11ea_a6fb_107b449f15fclevel0_row5\" class=\"row_heading level0 row5\" >культура_повседневности</th>\n",
       "                        <td id=\"T_d0f27284_0a1a_11ea_a6fb_107b449f15fcrow5_col0\" class=\"data row5 col0\" >0.03713</td>\n",
       "            </tr>\n",
       "            <tr>\n",
       "                        <th id=\"T_d0f27284_0a1a_11ea_a6fb_107b449f15fclevel0_row6\" class=\"row_heading level0 row6\" >история</th>\n",
       "                        <td id=\"T_d0f27284_0a1a_11ea_a6fb_107b449f15fcrow6_col0\" class=\"data row6 col0\" >0.03462</td>\n",
       "            </tr>\n",
       "            <tr>\n",
       "                        <th id=\"T_d0f27284_0a1a_11ea_a6fb_107b449f15fclevel0_row7\" class=\"row_heading level0 row7\" >культура</th>\n",
       "                        <td id=\"T_d0f27284_0a1a_11ea_a6fb_107b449f15fcrow7_col0\" class=\"data row7 col0\" >0.02792</td>\n",
       "            </tr>\n",
       "            <tr>\n",
       "                        <th id=\"T_d0f27284_0a1a_11ea_a6fb_107b449f15fclevel0_row8\" class=\"row_heading level0 row8\" >праздник</th>\n",
       "                        <td id=\"T_d0f27284_0a1a_11ea_a6fb_107b449f15fcrow8_col0\" class=\"data row8 col0\" >0.02752</td>\n",
       "            </tr>\n",
       "            <tr>\n",
       "                        <th id=\"T_d0f27284_0a1a_11ea_a6fb_107b449f15fclevel0_row9\" class=\"row_heading level0 row9\" >история_россии</th>\n",
       "                        <td id=\"T_d0f27284_0a1a_11ea_a6fb_107b449f15fcrow9_col0\" class=\"data row9 col0\" >0.02552</td>\n",
       "            </tr>\n",
       "    </tbody></table><style  type=\"text/css\" >\n",
       "</style><table id=\"T_d0f27285_0a1a_11ea_a6fb_107b449f15fc\" style='display:inline'><thead>    <tr>        <th class=\"blank level0\" ></th>        <th class=\"col_heading level0 col0\" >topic_25 @word</th>    </tr></thead><tbody>\n",
       "                <tr>\n",
       "                        <th id=\"T_d0f27285_0a1a_11ea_a6fb_107b449f15fclevel0_row0\" class=\"row_heading level0 row0\" >япония</th>\n",
       "                        <td id=\"T_d0f27285_0a1a_11ea_a6fb_107b449f15fcrow0_col0\" class=\"data row0 col0\" >0.00575</td>\n",
       "            </tr>\n",
       "            <tr>\n",
       "                        <th id=\"T_d0f27285_0a1a_11ea_a6fb_107b449f15fclevel0_row1\" class=\"row_heading level0 row1\" >россия</th>\n",
       "                        <td id=\"T_d0f27285_0a1a_11ea_a6fb_107b449f15fcrow1_col0\" class=\"data row1 col0\" >0.0052</td>\n",
       "            </tr>\n",
       "            <tr>\n",
       "                        <th id=\"T_d0f27285_0a1a_11ea_a6fb_107b449f15fclevel0_row2\" class=\"row_heading level0 row2\" >стать</th>\n",
       "                        <td id=\"T_d0f27285_0a1a_11ea_a6fb_107b449f15fcrow2_col0\" class=\"data row2 col0\" >0.0036</td>\n",
       "            </tr>\n",
       "            <tr>\n",
       "                        <th id=\"T_d0f27285_0a1a_11ea_a6fb_107b449f15fclevel0_row3\" class=\"row_heading level0 row3\" >большой</th>\n",
       "                        <td id=\"T_d0f27285_0a1a_11ea_a6fb_107b449f15fcrow3_col0\" class=\"data row3 col0\" >0.0035</td>\n",
       "            </tr>\n",
       "            <tr>\n",
       "                        <th id=\"T_d0f27285_0a1a_11ea_a6fb_107b449f15fclevel0_row4\" class=\"row_heading level0 row4\" >проблема</th>\n",
       "                        <td id=\"T_d0f27285_0a1a_11ea_a6fb_107b449f15fcrow4_col0\" class=\"data row4 col0\" >0.00328</td>\n",
       "            </tr>\n",
       "            <tr>\n",
       "                        <th id=\"T_d0f27285_0a1a_11ea_a6fb_107b449f15fclevel0_row5\" class=\"row_heading level0 row5\" >метр</th>\n",
       "                        <td id=\"T_d0f27285_0a1a_11ea_a6fb_107b449f15fcrow5_col0\" class=\"data row5 col0\" >0.00318</td>\n",
       "            </tr>\n",
       "            <tr>\n",
       "                        <th id=\"T_d0f27285_0a1a_11ea_a6fb_107b449f15fclevel0_row6\" class=\"row_heading level0 row6\" >праздник</th>\n",
       "                        <td id=\"T_d0f27285_0a1a_11ea_a6fb_107b449f15fcrow6_col0\" class=\"data row6 col0\" >0.00305</td>\n",
       "            </tr>\n",
       "            <tr>\n",
       "                        <th id=\"T_d0f27285_0a1a_11ea_a6fb_107b449f15fclevel0_row7\" class=\"row_heading level0 row7\" >происходить</th>\n",
       "                        <td id=\"T_d0f27285_0a1a_11ea_a6fb_107b449f15fcrow7_col0\" class=\"data row7 col0\" >0.00304</td>\n",
       "            </tr>\n",
       "            <tr>\n",
       "                        <th id=\"T_d0f27285_0a1a_11ea_a6fb_107b449f15fclevel0_row8\" class=\"row_heading level0 row8\" >идея</th>\n",
       "                        <td id=\"T_d0f27285_0a1a_11ea_a6fb_107b449f15fcrow8_col0\" class=\"data row8 col0\" >0.00284</td>\n",
       "            </tr>\n",
       "            <tr>\n",
       "                        <th id=\"T_d0f27285_0a1a_11ea_a6fb_107b449f15fclevel0_row9\" class=\"row_heading level0 row9\" >некоторый</th>\n",
       "                        <td id=\"T_d0f27285_0a1a_11ea_a6fb_107b449f15fcrow9_col0\" class=\"data row9 col0\" >0.00278</td>\n",
       "            </tr>\n",
       "    </tbody></table>"
      ]
     },
     "metadata": {},
     "output_type": "display_data"
    },
    {
     "data": {
      "text/html": [
       "<b> главы # «рождение досуга»возникновение и эволюция понятия в xix веке </b><br /> статья историка светланы малышевой о рождении культуры досуга из сборника «изобретение века. проблемы и модели времени в россии и европе xix столетия»"
      ]
     },
     "metadata": {},
     "output_type": "display_data"
    },
    {
     "data": {
      "text/html": [
       "<b> главы # закономерности простых чисел. гипотеза римана </b><br /> отрывок из книги «величайшие математические задачи» английского математика и популяризатора науки иэна стюарта"
      ]
     },
     "metadata": {},
     "output_type": "display_data"
    },
    {
     "data": {
      "text/html": [
       "<b> особенности либерализма в россии </b><br /> историк кирилл соловьев о первых русских либералах, поддержке самодержавия и политической программе кадетов"
      ]
     },
     "metadata": {},
     "output_type": "display_data"
    },
    {
     "data": {
      "text/html": [
       "<b> автограф«“черные кабинеты”история российской перлюстрации. xviii — начало xx века» </b><br /> историк владлен измозик о практике перлюстрации, механизмах вскрытия корреспонденции и неизбежности революции 1917 года"
      ]
     },
     "metadata": {},
     "output_type": "display_data"
    },
    {
     "data": {
      "text/html": [
       "<b> faqизменение ледников в арктике </b><br /> 6 фактов о таянии ледников, их расположении и климатическом потеплении"
      ]
     },
     "metadata": {},
     "output_type": "display_data"
    },
    {
     "data": {
      "text/html": [
       "<b> женская телесность и мода </b><br /> историк моды ольга вайнштейн об изобретении кринолина, отношении к женскому телу в xix веке и двойных стандартах нравственности"
      ]
     },
     "metadata": {},
     "output_type": "display_data"
    },
    {
     "data": {
      "text/html": [
       "<b> faqураган «сэнди» </b><br /> 7 фактов о тропическом циклоне, который ударил по восточному побережью сша"
      ]
     },
     "metadata": {},
     "output_type": "display_data"
    },
    {
     "data": {
      "text/html": [
       "<b> выборы президента сша </b><br /> как проходят президентские выборы в соединенных штатах америки, что такое праймериз и кокусы и как работает принцип «победитель получает все»"
      ]
     },
     "metadata": {},
     "output_type": "display_data"
    },
    {
     "data": {
      "text/html": [
       "<b> «традиционная японская культура уделяет огромное внимание одежде как социальному маркеру» </b><br /> интервью с японистом александром мещеряковым о статусе сумо, прививании европейских ценностей и антияпонском мифе"
      ]
     },
     "metadata": {},
     "output_type": "display_data"
    },
    {
     "data": {
      "text/html": [
       "<b> faqпонятие центральной европы </b><br /> 7 фактов о том, как складывались географические понятия в рамках европейской зоны"
      ]
     },
     "metadata": {},
     "output_type": "display_data"
    },
    {
     "data": {
      "text/html": [
       "<style  type=\"text/css\" >\n",
       "</style><table id=\"T_d0f27286_0a1a_11ea_a6fb_107b449f15fc\" style='display:inline'><thead>    <tr>        <th class=\"blank level0\" ></th>        <th class=\"col_heading level0 col0\" >topic_26 @2gramm</th>    </tr></thead><tbody>\n",
       "                <tr>\n",
       "                        <th id=\"T_d0f27286_0a1a_11ea_a6fb_107b449f15fclevel0_row0\" class=\"row_heading level0 row0\" >социальный_жизнь</th>\n",
       "                        <td id=\"T_d0f27286_0a1a_11ea_a6fb_107b449f15fcrow0_col0\" class=\"data row0 col0\" >0.01276</td>\n",
       "            </tr>\n",
       "            <tr>\n",
       "                        <th id=\"T_d0f27286_0a1a_11ea_a6fb_107b449f15fclevel0_row1\" class=\"row_heading level0 row1\" >язык_описание</th>\n",
       "                        <td id=\"T_d0f27286_0a1a_11ea_a6fb_107b449f15fcrow1_col0\" class=\"data row1 col0\" >0.01237</td>\n",
       "            </tr>\n",
       "            <tr>\n",
       "                        <th id=\"T_d0f27286_0a1a_11ea_a6fb_107b449f15fclevel0_row2\" class=\"row_heading level0 row2\" >социологический_теория</th>\n",
       "                        <td id=\"T_d0f27286_0a1a_11ea_a6fb_107b449f15fcrow2_col0\" class=\"data row2 col0\" >0.01048</td>\n",
       "            </tr>\n",
       "            <tr>\n",
       "                        <th id=\"T_d0f27286_0a1a_11ea_a6fb_107b449f15fclevel0_row3\" class=\"row_heading level0 row3\" >иной_слово</th>\n",
       "                        <td id=\"T_d0f27286_0a1a_11ea_a6fb_107b449f15fcrow3_col0\" class=\"data row3 col0\" >0.00905</td>\n",
       "            </tr>\n",
       "            <tr>\n",
       "                        <th id=\"T_d0f27286_0a1a_11ea_a6fb_107b449f15fclevel0_row4\" class=\"row_heading level0 row4\" >средний_класс</th>\n",
       "                        <td id=\"T_d0f27286_0a1a_11ea_a6fb_107b449f15fcrow4_col0\" class=\"data row4 col0\" >0.00723</td>\n",
       "            </tr>\n",
       "            <tr>\n",
       "                        <th id=\"T_d0f27286_0a1a_11ea_a6fb_107b449f15fclevel0_row5\" class=\"row_heading level0 row5\" >социальный_отношение</th>\n",
       "                        <td id=\"T_d0f27286_0a1a_11ea_a6fb_107b449f15fcrow5_col0\" class=\"data row5 col0\" >0.00697</td>\n",
       "            </tr>\n",
       "            <tr>\n",
       "                        <th id=\"T_d0f27286_0a1a_11ea_a6fb_107b449f15fclevel0_row6\" class=\"row_heading level0 row6\" >материальный_объект</th>\n",
       "                        <td id=\"T_d0f27286_0a1a_11ea_a6fb_107b449f15fcrow6_col0\" class=\"data row6 col0\" >0.00697</td>\n",
       "            </tr>\n",
       "            <tr>\n",
       "                        <th id=\"T_d0f27286_0a1a_11ea_a6fb_107b449f15fclevel0_row7\" class=\"row_heading level0 row7\" >социальный_антропология</th>\n",
       "                        <td id=\"T_d0f27286_0a1a_11ea_a6fb_107b449f15fcrow7_col0\" class=\"data row7 col0\" >0.00686</td>\n",
       "            </tr>\n",
       "            <tr>\n",
       "                        <th id=\"T_d0f27286_0a1a_11ea_a6fb_107b449f15fclevel0_row8\" class=\"row_heading level0 row8\" >социальный_взаимодействие</th>\n",
       "                        <td id=\"T_d0f27286_0a1a_11ea_a6fb_107b449f15fcrow8_col0\" class=\"data row8 col0\" >0.00667</td>\n",
       "            </tr>\n",
       "            <tr>\n",
       "                        <th id=\"T_d0f27286_0a1a_11ea_a6fb_107b449f15fclevel0_row9\" class=\"row_heading level0 row9\" >социологический_исследование</th>\n",
       "                        <td id=\"T_d0f27286_0a1a_11ea_a6fb_107b449f15fcrow9_col0\" class=\"data row9 col0\" >0.00629</td>\n",
       "            </tr>\n",
       "    </tbody></table><style  type=\"text/css\" >\n",
       "</style><table id=\"T_d0f27287_0a1a_11ea_a6fb_107b449f15fc\" style='display:inline'><thead>    <tr>        <th class=\"blank level0\" ></th>        <th class=\"col_heading level0 col0\" >topic_26 @3gramm</th>    </tr></thead><tbody>\n",
       "                <tr>\n",
       "                        <th id=\"T_d0f27287_0a1a_11ea_a6fb_107b449f15fclevel0_row0\" class=\"row_heading level0 row0\" >опрос_общественный_мнение</th>\n",
       "                        <td id=\"T_d0f27287_0a1a_11ea_a6fb_107b449f15fcrow0_col0\" class=\"data row0 col0\" >0.17233</td>\n",
       "            </tr>\n",
       "            <tr>\n",
       "                        <th id=\"T_d0f27287_0a1a_11ea_a6fb_107b449f15fclevel0_row1\" class=\"row_heading level0 row1\" >рождаться_наукоемкий_бизнес</th>\n",
       "                        <td id=\"T_d0f27287_0a1a_11ea_a6fb_107b449f15fcrow1_col0\" class=\"data row1 col0\" >0.12912</td>\n",
       "            </tr>\n",
       "            <tr>\n",
       "                        <th id=\"T_d0f27287_0a1a_11ea_a6fb_107b449f15fclevel0_row2\" class=\"row_heading level0 row2\" >противоречить_друг_друг</th>\n",
       "                        <td id=\"T_d0f27287_0a1a_11ea_a6fb_107b449f15fcrow2_col0\" class=\"data row2 col0\" >0.08601</td>\n",
       "            </tr>\n",
       "            <tr>\n",
       "                        <th id=\"T_d0f27287_0a1a_11ea_a6fb_107b449f15fclevel0_row3\" class=\"row_heading level0 row3\" >химический_эволюция_галактика</th>\n",
       "                        <td id=\"T_d0f27287_0a1a_11ea_a6fb_107b449f15fcrow3_col0\" class=\"data row3 col0\" >0.07383</td>\n",
       "            </tr>\n",
       "            <tr>\n",
       "                        <th id=\"T_d0f27287_0a1a_11ea_a6fb_107b449f15fclevel0_row4\" class=\"row_heading level0 row4\" >конец_хх_век</th>\n",
       "                        <td id=\"T_d0f27287_0a1a_11ea_a6fb_107b449f15fcrow4_col0\" class=\"data row4 col0\" >0.07375</td>\n",
       "            </tr>\n",
       "            <tr>\n",
       "                        <th id=\"T_d0f27287_0a1a_11ea_a6fb_107b449f15fclevel0_row5\" class=\"row_heading level0 row5\" >заметный_экономический_эффект</th>\n",
       "                        <td id=\"T_d0f27287_0a1a_11ea_a6fb_107b449f15fcrow5_col0\" class=\"data row5 col0\" >0.06763</td>\n",
       "            </tr>\n",
       "            <tr>\n",
       "                        <th id=\"T_d0f27287_0a1a_11ea_a6fb_107b449f15fclevel0_row6\" class=\"row_heading level0 row6\" >бывший_советский_союз</th>\n",
       "                        <td id=\"T_d0f27287_0a1a_11ea_a6fb_107b449f15fcrow6_col0\" class=\"data row6 col0\" >0.054</td>\n",
       "            </tr>\n",
       "            <tr>\n",
       "                        <th id=\"T_d0f27287_0a1a_11ea_a6fb_107b449f15fclevel0_row7\" class=\"row_heading level0 row7\" >курс_общий_лингвистика</th>\n",
       "                        <td id=\"T_d0f27287_0a1a_11ea_a6fb_107b449f15fcrow7_col0\" class=\"data row7 col0\" >0.0492</td>\n",
       "            </tr>\n",
       "            <tr>\n",
       "                        <th id=\"T_d0f27287_0a1a_11ea_a6fb_107b449f15fclevel0_row8\" class=\"row_heading level0 row8\" >структура_научный_революция</th>\n",
       "                        <td id=\"T_d0f27287_0a1a_11ea_a6fb_107b449f15fcrow8_col0\" class=\"data row8 col0\" >0.04919</td>\n",
       "            </tr>\n",
       "            <tr>\n",
       "                        <th id=\"T_d0f27287_0a1a_11ea_a6fb_107b449f15fclevel0_row9\" class=\"row_heading level0 row9\" >далеко_идти_последствие</th>\n",
       "                        <td id=\"T_d0f27287_0a1a_11ea_a6fb_107b449f15fcrow9_col0\" class=\"data row9 col0\" >0.03134</td>\n",
       "            </tr>\n",
       "    </tbody></table><style  type=\"text/css\" >\n",
       "</style><table id=\"T_d0f27288_0a1a_11ea_a6fb_107b449f15fc\" style='display:inline'><thead>    <tr>        <th class=\"blank level0\" ></th>        <th class=\"col_heading level0 col0\" >topic_26 @post_tag</th>    </tr></thead><tbody>\n",
       "                <tr>\n",
       "                        <th id=\"T_d0f27288_0a1a_11ea_a6fb_107b449f15fclevel0_row0\" class=\"row_heading level0 row0\" >социология</th>\n",
       "                        <td id=\"T_d0f27288_0a1a_11ea_a6fb_107b449f15fcrow0_col0\" class=\"data row0 col0\" >0.41632</td>\n",
       "            </tr>\n",
       "            <tr>\n",
       "                        <th id=\"T_d0f27288_0a1a_11ea_a6fb_107b449f15fclevel0_row1\" class=\"row_heading level0 row1\" >социология_повседневности</th>\n",
       "                        <td id=\"T_d0f27288_0a1a_11ea_a6fb_107b449f15fcrow1_col0\" class=\"data row1 col0\" >0.05084</td>\n",
       "            </tr>\n",
       "            <tr>\n",
       "                        <th id=\"T_d0f27288_0a1a_11ea_a6fb_107b449f15fclevel0_row2\" class=\"row_heading level0 row2\" >дюркгейм_эмиль</th>\n",
       "                        <td id=\"T_d0f27288_0a1a_11ea_a6fb_107b449f15fcrow2_col0\" class=\"data row2 col0\" >0.03731</td>\n",
       "            </tr>\n",
       "            <tr>\n",
       "                        <th id=\"T_d0f27288_0a1a_11ea_a6fb_107b449f15fclevel0_row3\" class=\"row_heading level0 row3\" >социология_науки</th>\n",
       "                        <td id=\"T_d0f27288_0a1a_11ea_a6fb_107b449f15fcrow3_col0\" class=\"data row3 col0\" >0.03119</td>\n",
       "            </tr>\n",
       "            <tr>\n",
       "                        <th id=\"T_d0f27288_0a1a_11ea_a6fb_107b449f15fclevel0_row4\" class=\"row_heading level0 row4\" >вебер_макс</th>\n",
       "                        <td id=\"T_d0f27288_0a1a_11ea_a6fb_107b449f15fcrow4_col0\" class=\"data row4 col0\" >0.03095</td>\n",
       "            </tr>\n",
       "            <tr>\n",
       "                        <th id=\"T_d0f27288_0a1a_11ea_a6fb_107b449f15fclevel0_row5\" class=\"row_heading level0 row5\" >гоффман_эрвинг</th>\n",
       "                        <td id=\"T_d0f27288_0a1a_11ea_a6fb_107b449f15fcrow5_col0\" class=\"data row5 col0\" >0.02839</td>\n",
       "            </tr>\n",
       "            <tr>\n",
       "                        <th id=\"T_d0f27288_0a1a_11ea_a6fb_107b449f15fclevel0_row6\" class=\"row_heading level0 row6\" >теория_фреймов</th>\n",
       "                        <td id=\"T_d0f27288_0a1a_11ea_a6fb_107b449f15fcrow6_col0\" class=\"data row6 col0\" >0.02243</td>\n",
       "            </tr>\n",
       "            <tr>\n",
       "                        <th id=\"T_d0f27288_0a1a_11ea_a6fb_107b449f15fclevel0_row7\" class=\"row_heading level0 row7\" >зиммель_георг</th>\n",
       "                        <td id=\"T_d0f27288_0a1a_11ea_a6fb_107b449f15fcrow7_col0\" class=\"data row7 col0\" >0.01935</td>\n",
       "            </tr>\n",
       "            <tr>\n",
       "                        <th id=\"T_d0f27288_0a1a_11ea_a6fb_107b449f15fclevel0_row8\" class=\"row_heading level0 row8\" >социальная_структура</th>\n",
       "                        <td id=\"T_d0f27288_0a1a_11ea_a6fb_107b449f15fcrow8_col0\" class=\"data row8 col0\" >0.01797</td>\n",
       "            </tr>\n",
       "            <tr>\n",
       "                        <th id=\"T_d0f27288_0a1a_11ea_a6fb_107b449f15fclevel0_row9\" class=\"row_heading level0 row9\" >латур_брюно</th>\n",
       "                        <td id=\"T_d0f27288_0a1a_11ea_a6fb_107b449f15fcrow9_col0\" class=\"data row9 col0\" >0.01793</td>\n",
       "            </tr>\n",
       "    </tbody></table><style  type=\"text/css\" >\n",
       "</style><table id=\"T_d0f27289_0a1a_11ea_a6fb_107b449f15fc\" style='display:inline'><thead>    <tr>        <th class=\"blank level0\" ></th>        <th class=\"col_heading level0 col0\" >topic_26 @word</th>    </tr></thead><tbody>\n",
       "                <tr>\n",
       "                        <th id=\"T_d0f27289_0a1a_11ea_a6fb_107b449f15fclevel0_row0\" class=\"row_heading level0 row0\" >социология</th>\n",
       "                        <td id=\"T_d0f27289_0a1a_11ea_a6fb_107b449f15fcrow0_col0\" class=\"data row0 col0\" >0.00871</td>\n",
       "            </tr>\n",
       "            <tr>\n",
       "                        <th id=\"T_d0f27289_0a1a_11ea_a6fb_107b449f15fclevel0_row1\" class=\"row_heading level0 row1\" >социальный</th>\n",
       "                        <td id=\"T_d0f27289_0a1a_11ea_a6fb_107b449f15fcrow1_col0\" class=\"data row1 col0\" >0.0061</td>\n",
       "            </tr>\n",
       "            <tr>\n",
       "                        <th id=\"T_d0f27289_0a1a_11ea_a6fb_107b449f15fclevel0_row2\" class=\"row_heading level0 row2\" >социолог</th>\n",
       "                        <td id=\"T_d0f27289_0a1a_11ea_a6fb_107b449f15fcrow2_col0\" class=\"data row2 col0\" >0.00605</td>\n",
       "            </tr>\n",
       "            <tr>\n",
       "                        <th id=\"T_d0f27289_0a1a_11ea_a6fb_107b449f15fclevel0_row3\" class=\"row_heading level0 row3\" >общество</th>\n",
       "                        <td id=\"T_d0f27289_0a1a_11ea_a6fb_107b449f15fcrow3_col0\" class=\"data row3 col0\" >0.00532</td>\n",
       "            </tr>\n",
       "            <tr>\n",
       "                        <th id=\"T_d0f27289_0a1a_11ea_a6fb_107b449f15fclevel0_row4\" class=\"row_heading level0 row4\" >сообщество</th>\n",
       "                        <td id=\"T_d0f27289_0a1a_11ea_a6fb_107b449f15fcrow4_col0\" class=\"data row4 col0\" >0.00457</td>\n",
       "            </tr>\n",
       "            <tr>\n",
       "                        <th id=\"T_d0f27289_0a1a_11ea_a6fb_107b449f15fclevel0_row5\" class=\"row_heading level0 row5\" >пространство</th>\n",
       "                        <td id=\"T_d0f27289_0a1a_11ea_a6fb_107b449f15fcrow5_col0\" class=\"data row5 col0\" >0.00423</td>\n",
       "            </tr>\n",
       "            <tr>\n",
       "                        <th id=\"T_d0f27289_0a1a_11ea_a6fb_107b449f15fclevel0_row6\" class=\"row_heading level0 row6\" >теория</th>\n",
       "                        <td id=\"T_d0f27289_0a1a_11ea_a6fb_107b449f15fcrow6_col0\" class=\"data row6 col0\" >0.00415</td>\n",
       "            </tr>\n",
       "            <tr>\n",
       "                        <th id=\"T_d0f27289_0a1a_11ea_a6fb_107b449f15fclevel0_row7\" class=\"row_heading level0 row7\" >отношение</th>\n",
       "                        <td id=\"T_d0f27289_0a1a_11ea_a6fb_107b449f15fcrow7_col0\" class=\"data row7 col0\" >0.00405</td>\n",
       "            </tr>\n",
       "            <tr>\n",
       "                        <th id=\"T_d0f27289_0a1a_11ea_a6fb_107b449f15fclevel0_row8\" class=\"row_heading level0 row8\" >событие</th>\n",
       "                        <td id=\"T_d0f27289_0a1a_11ea_a6fb_107b449f15fcrow8_col0\" class=\"data row8 col0\" >0.004</td>\n",
       "            </tr>\n",
       "            <tr>\n",
       "                        <th id=\"T_d0f27289_0a1a_11ea_a6fb_107b449f15fclevel0_row9\" class=\"row_heading level0 row9\" >объект</th>\n",
       "                        <td id=\"T_d0f27289_0a1a_11ea_a6fb_107b449f15fcrow9_col0\" class=\"data row9 col0\" >0.0037</td>\n",
       "            </tr>\n",
       "    </tbody></table>"
      ]
     },
     "metadata": {},
     "output_type": "display_data"
    },
    {
     "data": {
      "text/html": [
       "<b> главынаучные практики </b><br /> отрывок из книги «после методабеспорядок и социальная наука» социолога джона ло о необходимости переизобретения методов и политики социальных наук"
      ]
     },
     "metadata": {},
     "output_type": "display_data"
    },
    {
     "data": {
      "text/html": [
       "<b> лгут ли опросы общественного мнения в россии? </b><br /> о причинах недоверия к результатам массовых опросов и типичных ошибках опросных организаций"
      ]
     },
     "metadata": {},
     "output_type": "display_data"
    },
    {
     "data": {
      "text/html": [
       "<b> faqсоциальная топология </b><br /> 7 фактов о понимании материального объекта и пространства в социологической теории"
      ]
     },
     "metadata": {},
     "output_type": "display_data"
    },
    {
     "data": {
      "text/html": [
       "<b> 5 книг по основам микросоциологии </b><br /> классические работы, сформировавшие микросоциологию как дисциплину, рекомендует социолог михаил соколов"
      ]
     },
     "metadata": {},
     "output_type": "display_data"
    },
    {
     "data": {
      "text/html": [
       "<b> к социологической «теории относительности» </b><br /> события шредингерапример блефа в игре в покер"
      ]
     },
     "metadata": {},
     "output_type": "display_data"
    },
    {
     "data": {
      "text/html": [
       "<b> опросы общественного мнения — между наукой и политикой </b><br /> социолог григорий юдин о репрезентативности, инструментах политических технологий и роли опросов в демократическом обществе"
      ]
     },
     "metadata": {},
     "output_type": "display_data"
    },
    {
     "data": {
      "text/html": [
       "<b> порядок интеракции </b><br /> социолог михаил соколов о роли повседневной жизни, системе взаимодействий «лицом к лицу» и функционировании больших социальных систем"
      ]
     },
     "metadata": {},
     "output_type": "display_data"
    },
    {
     "data": {
      "text/html": [
       "<b> инциденты на дисциплинарных границах </b><br /> каковы «языковые» и «жанровые» отличия социологии от социальной антропологии?"
      ]
     },
     "metadata": {},
     "output_type": "display_data"
    },
    {
     "data": {
      "text/html": [
       "<b> формула сообщества </b><br /> почему понятие сообщества утрачивает значение?"
      ]
     },
     "metadata": {},
     "output_type": "display_data"
    },
    {
     "data": {
      "text/html": [
       "<b> социологическая интерпретация </b><br /> социолог виктор вахштайн о модели интерпретации в «играх разума», стадиях построения сюжета и требовании концептуальной сообразности"
      ]
     },
     "metadata": {},
     "output_type": "display_data"
    },
    {
     "data": {
      "text/html": [
       "<style  type=\"text/css\" >\n",
       "</style><table id=\"T_d0f2728a_0a1a_11ea_a6fb_107b449f15fc\" style='display:inline'><thead>    <tr>        <th class=\"blank level0\" ></th>        <th class=\"col_heading level0 col0\" >topic_27 @2gramm</th>    </tr></thead><tbody>\n",
       "                <tr>\n",
       "                        <th id=\"T_d0f2728a_0a1a_11ea_a6fb_107b449f15fclevel0_row0\" class=\"row_heading level0 row0\" >иммунный_система</th>\n",
       "                        <td id=\"T_d0f2728a_0a1a_11ea_a6fb_107b449f15fcrow0_col0\" class=\"data row0 col0\" >0.02408</td>\n",
       "            </tr>\n",
       "            <tr>\n",
       "                        <th id=\"T_d0f2728a_0a1a_11ea_a6fb_107b449f15fclevel0_row1\" class=\"row_heading level0 row1\" >раковый_клетка</th>\n",
       "                        <td id=\"T_d0f2728a_0a1a_11ea_a6fb_107b449f15fcrow1_col0\" class=\"data row1 col0\" >0.0176</td>\n",
       "            </tr>\n",
       "            <tr>\n",
       "                        <th id=\"T_d0f2728a_0a1a_11ea_a6fb_107b449f15fclevel0_row2\" class=\"row_heading level0 row2\" >метод_лечение</th>\n",
       "                        <td id=\"T_d0f2728a_0a1a_11ea_a6fb_107b449f15fcrow2_col0\" class=\"data row2 col0\" >0.01126</td>\n",
       "            </tr>\n",
       "            <tr>\n",
       "                        <th id=\"T_d0f2728a_0a1a_11ea_a6fb_107b449f15fclevel0_row3\" class=\"row_heading level0 row3\" >опухолевый_клетка</th>\n",
       "                        <td id=\"T_d0f2728a_0a1a_11ea_a6fb_107b449f15fcrow3_col0\" class=\"data row3 col0\" >0.00951</td>\n",
       "            </tr>\n",
       "            <tr>\n",
       "                        <th id=\"T_d0f2728a_0a1a_11ea_a6fb_107b449f15fclevel0_row4\" class=\"row_heading level0 row4\" >продолжительность_жизнь</th>\n",
       "                        <td id=\"T_d0f2728a_0a1a_11ea_a6fb_107b449f15fcrow4_col0\" class=\"data row4 col0\" >0.00927</td>\n",
       "            </tr>\n",
       "            <tr>\n",
       "                        <th id=\"T_d0f2728a_0a1a_11ea_a6fb_107b449f15fclevel0_row5\" class=\"row_heading level0 row5\" >сахарный_диабет</th>\n",
       "                        <td id=\"T_d0f2728a_0a1a_11ea_a6fb_107b449f15fcrow5_col0\" class=\"data row5 col0\" >0.00881</td>\n",
       "            </tr>\n",
       "            <tr>\n",
       "                        <th id=\"T_d0f2728a_0a1a_11ea_a6fb_107b449f15fclevel0_row6\" class=\"row_heading level0 row6\" >онкологический_заболевание</th>\n",
       "                        <td id=\"T_d0f2728a_0a1a_11ea_a6fb_107b449f15fcrow6_col0\" class=\"data row6 col0\" >0.00857</td>\n",
       "            </tr>\n",
       "            <tr>\n",
       "                        <th id=\"T_d0f2728a_0a1a_11ea_a6fb_107b449f15fclevel0_row7\" class=\"row_heading level0 row7\" >сигнальный_путь</th>\n",
       "                        <td id=\"T_d0f2728a_0a1a_11ea_a6fb_107b449f15fcrow7_col0\" class=\"data row7 col0\" >0.00822</td>\n",
       "            </tr>\n",
       "            <tr>\n",
       "                        <th id=\"T_d0f2728a_0a1a_11ea_a6fb_107b449f15fclevel0_row8\" class=\"row_heading level0 row8\" >иммунный_ответ</th>\n",
       "                        <td id=\"T_d0f2728a_0a1a_11ea_a6fb_107b449f15fcrow8_col0\" class=\"data row8 col0\" >0.00788</td>\n",
       "            </tr>\n",
       "            <tr>\n",
       "                        <th id=\"T_d0f2728a_0a1a_11ea_a6fb_107b449f15fclevel0_row9\" class=\"row_heading level0 row9\" >лекарственный_препарат</th>\n",
       "                        <td id=\"T_d0f2728a_0a1a_11ea_a6fb_107b449f15fcrow9_col0\" class=\"data row9 col0\" >0.00739</td>\n",
       "            </tr>\n",
       "    </tbody></table><style  type=\"text/css\" >\n",
       "</style><table id=\"T_d0f2728b_0a1a_11ea_a6fb_107b449f15fc\" style='display:inline'><thead>    <tr>        <th class=\"blank level0\" ></th>        <th class=\"col_heading level0 col0\" >topic_27 @3gramm</th>    </tr></thead><tbody>\n",
       "                <tr>\n",
       "                        <th id=\"T_d0f2728b_0a1a_11ea_a6fb_107b449f15fclevel0_row0\" class=\"row_heading level0 row0\" >соединить_штат_америка</th>\n",
       "                        <td id=\"T_d0f2728b_0a1a_11ea_a6fb_107b449f15fcrow0_col0\" class=\"data row0 col0\" >0.28089</td>\n",
       "            </tr>\n",
       "            <tr>\n",
       "                        <th id=\"T_d0f2728b_0a1a_11ea_a6fb_107b449f15fclevel0_row1\" class=\"row_heading level0 row1\" >теория_сильный_взаимодействие</th>\n",
       "                        <td id=\"T_d0f2728b_0a1a_11ea_a6fb_107b449f15fcrow1_col0\" class=\"data row1 col0\" >0.12597</td>\n",
       "            </tr>\n",
       "            <tr>\n",
       "                        <th id=\"T_d0f2728b_0a1a_11ea_a6fb_107b449f15fclevel0_row2\" class=\"row_heading level0 row2\" >рак_молочный_железа</th>\n",
       "                        <td id=\"T_d0f2728b_0a1a_11ea_a6fb_107b449f15fcrow2_col0\" class=\"data row2 col0\" >0.10174</td>\n",
       "            </tr>\n",
       "            <tr>\n",
       "                        <th id=\"T_d0f2728b_0a1a_11ea_a6fb_107b449f15fclevel0_row3\" class=\"row_heading level0 row3\" >увеличение_продолжительность_жизнь</th>\n",
       "                        <td id=\"T_d0f2728b_0a1a_11ea_a6fb_107b449f15fcrow3_col0\" class=\"data row3 col0\" >0.10172</td>\n",
       "            </tr>\n",
       "            <tr>\n",
       "                        <th id=\"T_d0f2728b_0a1a_11ea_a6fb_107b449f15fclevel0_row4\" class=\"row_heading level0 row4\" >теория_международный_отношение</th>\n",
       "                        <td id=\"T_d0f2728b_0a1a_11ea_a6fb_107b449f15fcrow4_col0\" class=\"data row4 col0\" >0.07258</td>\n",
       "            </tr>\n",
       "            <tr>\n",
       "                        <th id=\"T_d0f2728b_0a1a_11ea_a6fb_107b449f15fclevel0_row5\" class=\"row_heading level0 row5\" >клетка_иммунный_система</th>\n",
       "                        <td id=\"T_d0f2728b_0a1a_11ea_a6fb_107b449f15fcrow5_col0\" class=\"data row5 col0\" >0.05808</td>\n",
       "            </tr>\n",
       "            <tr>\n",
       "                        <th id=\"T_d0f2728b_0a1a_11ea_a6fb_107b449f15fclevel0_row6\" class=\"row_heading level0 row6\" >лечение_онкологический_заболевание</th>\n",
       "                        <td id=\"T_d0f2728b_0a1a_11ea_a6fb_107b449f15fcrow6_col0\" class=\"data row6 col0\" >0.04351</td>\n",
       "            </tr>\n",
       "            <tr>\n",
       "                        <th id=\"T_d0f2728b_0a1a_11ea_a6fb_107b449f15fclevel0_row7\" class=\"row_heading level0 row7\" >фаза_клинический_испытание</th>\n",
       "                        <td id=\"T_d0f2728b_0a1a_11ea_a6fb_107b449f15fcrow7_col0\" class=\"data row7 col0\" >0.03871</td>\n",
       "            </tr>\n",
       "            <tr>\n",
       "                        <th id=\"T_d0f2728b_0a1a_11ea_a6fb_107b449f15fclevel0_row8\" class=\"row_heading level0 row8\" >полиненасыщенный_жирный_кислота</th>\n",
       "                        <td id=\"T_d0f2728b_0a1a_11ea_a6fb_107b449f15fcrow8_col0\" class=\"data row8 col0\" >0.0387</td>\n",
       "            </tr>\n",
       "            <tr>\n",
       "                        <th id=\"T_d0f2728b_0a1a_11ea_a6fb_107b449f15fclevel0_row9\" class=\"row_heading level0 row9\" >случай_речь_идти</th>\n",
       "                        <td id=\"T_d0f2728b_0a1a_11ea_a6fb_107b449f15fcrow9_col0\" class=\"data row9 col0\" >0.02854</td>\n",
       "            </tr>\n",
       "    </tbody></table><style  type=\"text/css\" >\n",
       "</style><table id=\"T_d0f2728c_0a1a_11ea_a6fb_107b449f15fc\" style='display:inline'><thead>    <tr>        <th class=\"blank level0\" ></th>        <th class=\"col_heading level0 col0\" >topic_27 @post_tag</th>    </tr></thead><tbody>\n",
       "                <tr>\n",
       "                        <th id=\"T_d0f2728c_0a1a_11ea_a6fb_107b449f15fclevel0_row0\" class=\"row_heading level0 row0\" >медицина</th>\n",
       "                        <td id=\"T_d0f2728c_0a1a_11ea_a6fb_107b449f15fcrow0_col0\" class=\"data row0 col0\" >0.37311</td>\n",
       "            </tr>\n",
       "            <tr>\n",
       "                        <th id=\"T_d0f2728c_0a1a_11ea_a6fb_107b449f15fclevel0_row1\" class=\"row_heading level0 row1\" >биомедицина</th>\n",
       "                        <td id=\"T_d0f2728c_0a1a_11ea_a6fb_107b449f15fcrow1_col0\" class=\"data row1 col0\" >0.09316</td>\n",
       "            </tr>\n",
       "            <tr>\n",
       "                        <th id=\"T_d0f2728c_0a1a_11ea_a6fb_107b449f15fclevel0_row2\" class=\"row_heading level0 row2\" >онкология</th>\n",
       "                        <td id=\"T_d0f2728c_0a1a_11ea_a6fb_107b449f15fcrow2_col0\" class=\"data row2 col0\" >0.08545</td>\n",
       "            </tr>\n",
       "            <tr>\n",
       "                        <th id=\"T_d0f2728c_0a1a_11ea_a6fb_107b449f15fclevel0_row3\" class=\"row_heading level0 row3\" >старение</th>\n",
       "                        <td id=\"T_d0f2728c_0a1a_11ea_a6fb_107b449f15fcrow3_col0\" class=\"data row3 col0\" >0.04187</td>\n",
       "            </tr>\n",
       "            <tr>\n",
       "                        <th id=\"T_d0f2728c_0a1a_11ea_a6fb_107b449f15fclevel0_row4\" class=\"row_heading level0 row4\" >иммунитет</th>\n",
       "                        <td id=\"T_d0f2728c_0a1a_11ea_a6fb_107b449f15fcrow4_col0\" class=\"data row4 col0\" >0.04032</td>\n",
       "            </tr>\n",
       "            <tr>\n",
       "                        <th id=\"T_d0f2728c_0a1a_11ea_a6fb_107b449f15fclevel0_row5\" class=\"row_heading level0 row5\" >кардиология</th>\n",
       "                        <td id=\"T_d0f2728c_0a1a_11ea_a6fb_107b449f15fcrow5_col0\" class=\"data row5 col0\" >0.03412</td>\n",
       "            </tr>\n",
       "            <tr>\n",
       "                        <th id=\"T_d0f2728c_0a1a_11ea_a6fb_107b449f15fclevel0_row6\" class=\"row_heading level0 row6\" >биофизика</th>\n",
       "                        <td id=\"T_d0f2728c_0a1a_11ea_a6fb_107b449f15fcrow6_col0\" class=\"data row6 col0\" >0.02901</td>\n",
       "            </tr>\n",
       "            <tr>\n",
       "                        <th id=\"T_d0f2728c_0a1a_11ea_a6fb_107b449f15fclevel0_row7\" class=\"row_heading level0 row7\" >биология</th>\n",
       "                        <td id=\"T_d0f2728c_0a1a_11ea_a6fb_107b449f15fcrow7_col0\" class=\"data row7 col0\" >0.02437</td>\n",
       "            </tr>\n",
       "            <tr>\n",
       "                        <th id=\"T_d0f2728c_0a1a_11ea_a6fb_107b449f15fclevel0_row8\" class=\"row_heading level0 row8\" >биоэтика</th>\n",
       "                        <td id=\"T_d0f2728c_0a1a_11ea_a6fb_107b449f15fcrow8_col0\" class=\"data row8 col0\" >0.01695</td>\n",
       "            </tr>\n",
       "            <tr>\n",
       "                        <th id=\"T_d0f2728c_0a1a_11ea_a6fb_107b449f15fclevel0_row9\" class=\"row_heading level0 row9\" >генетическое_заболевание</th>\n",
       "                        <td id=\"T_d0f2728c_0a1a_11ea_a6fb_107b449f15fcrow9_col0\" class=\"data row9 col0\" >0.01563</td>\n",
       "            </tr>\n",
       "    </tbody></table><style  type=\"text/css\" >\n",
       "</style><table id=\"T_d0f2728d_0a1a_11ea_a6fb_107b449f15fc\" style='display:inline'><thead>    <tr>        <th class=\"blank level0\" ></th>        <th class=\"col_heading level0 col0\" >topic_27 @word</th>    </tr></thead><tbody>\n",
       "                <tr>\n",
       "                        <th id=\"T_d0f2728d_0a1a_11ea_a6fb_107b449f15fclevel0_row0\" class=\"row_heading level0 row0\" >пациент</th>\n",
       "                        <td id=\"T_d0f2728d_0a1a_11ea_a6fb_107b449f15fcrow0_col0\" class=\"data row0 col0\" >0.01091</td>\n",
       "            </tr>\n",
       "            <tr>\n",
       "                        <th id=\"T_d0f2728d_0a1a_11ea_a6fb_107b449f15fclevel0_row1\" class=\"row_heading level0 row1\" >препарат</th>\n",
       "                        <td id=\"T_d0f2728d_0a1a_11ea_a6fb_107b449f15fcrow1_col0\" class=\"data row1 col0\" >0.00929</td>\n",
       "            </tr>\n",
       "            <tr>\n",
       "                        <th id=\"T_d0f2728d_0a1a_11ea_a6fb_107b449f15fclevel0_row2\" class=\"row_heading level0 row2\" >заболевание</th>\n",
       "                        <td id=\"T_d0f2728d_0a1a_11ea_a6fb_107b449f15fcrow2_col0\" class=\"data row2 col0\" >0.00914</td>\n",
       "            </tr>\n",
       "            <tr>\n",
       "                        <th id=\"T_d0f2728d_0a1a_11ea_a6fb_107b449f15fclevel0_row3\" class=\"row_heading level0 row3\" >врач</th>\n",
       "                        <td id=\"T_d0f2728d_0a1a_11ea_a6fb_107b449f15fcrow3_col0\" class=\"data row3 col0\" >0.00811</td>\n",
       "            </tr>\n",
       "            <tr>\n",
       "                        <th id=\"T_d0f2728d_0a1a_11ea_a6fb_107b449f15fclevel0_row4\" class=\"row_heading level0 row4\" >болезнь</th>\n",
       "                        <td id=\"T_d0f2728d_0a1a_11ea_a6fb_107b449f15fcrow4_col0\" class=\"data row4 col0\" >0.00688</td>\n",
       "            </tr>\n",
       "            <tr>\n",
       "                        <th id=\"T_d0f2728d_0a1a_11ea_a6fb_107b449f15fclevel0_row5\" class=\"row_heading level0 row5\" >лечение</th>\n",
       "                        <td id=\"T_d0f2728d_0a1a_11ea_a6fb_107b449f15fcrow5_col0\" class=\"data row5 col0\" >0.00651</td>\n",
       "            </tr>\n",
       "            <tr>\n",
       "                        <th id=\"T_d0f2728d_0a1a_11ea_a6fb_107b449f15fclevel0_row6\" class=\"row_heading level0 row6\" >медицина</th>\n",
       "                        <td id=\"T_d0f2728d_0a1a_11ea_a6fb_107b449f15fcrow6_col0\" class=\"data row6 col0\" >0.00549</td>\n",
       "            </tr>\n",
       "            <tr>\n",
       "                        <th id=\"T_d0f2728d_0a1a_11ea_a6fb_107b449f15fclevel0_row7\" class=\"row_heading level0 row7\" >лекарство</th>\n",
       "                        <td id=\"T_d0f2728d_0a1a_11ea_a6fb_107b449f15fcrow7_col0\" class=\"data row7 col0\" >0.005</td>\n",
       "            </tr>\n",
       "            <tr>\n",
       "                        <th id=\"T_d0f2728d_0a1a_11ea_a6fb_107b449f15fclevel0_row8\" class=\"row_heading level0 row8\" >опухоль</th>\n",
       "                        <td id=\"T_d0f2728d_0a1a_11ea_a6fb_107b449f15fcrow8_col0\" class=\"data row8 col0\" >0.00467</td>\n",
       "            </tr>\n",
       "            <tr>\n",
       "                        <th id=\"T_d0f2728d_0a1a_11ea_a6fb_107b449f15fclevel0_row9\" class=\"row_heading level0 row9\" >старение</th>\n",
       "                        <td id=\"T_d0f2728d_0a1a_11ea_a6fb_107b449f15fcrow9_col0\" class=\"data row9 col0\" >0.00463</td>\n",
       "            </tr>\n",
       "    </tbody></table>"
      ]
     },
     "metadata": {},
     "output_type": "display_data"
    },
    {
     "data": {
      "text/html": [
       "<b> трансгенные животные и продление жизни </b><br /> биолог алексей москалев о генетике старения, регуляции метаболизма и геропротекторах"
      ]
     },
     "metadata": {},
     "output_type": "display_data"
    },
    {
     "data": {
      "text/html": [
       "<b> методы лечения рака </b><br /> биофизик петр федичев об обмане иммунной системы, формах рака и  орфанных препаратах"
      ]
     },
     "metadata": {},
     "output_type": "display_data"
    },
    {
     "data": {
      "text/html": [
       "<b> хирургическое лечение сахарного диабета ii типа </b><br /> хирург юрий яшков о связи между сахарным диабетом и ожирением, эффективности бариатрических операций и опасности пищевых стереотипов"
      ]
     },
     "metadata": {},
     "output_type": "display_data"
    },
    {
     "data": {
      "text/html": [
       "<b> этические проблемы генетического тестирования </b><br /> генетик вера ижевская о взаимоотношениях врача и пациента, принципах биоэтики и конфиденциальности генетической информации"
      ]
     },
     "metadata": {},
     "output_type": "display_data"
    },
    {
     "data": {
      "text/html": [
       "<b> faqметоды лечения рака </b><br /> 6 фактов о мутации клеток, таргетных препаратах и подходах к лечению онкологических заболеваний"
      ]
     },
     "metadata": {},
     "output_type": "display_data"
    },
    {
     "data": {
      "text/html": [
       "<b> физиология микроводорослей </b><br /> биолог дмитрий лось о видовом разнообразии, очистке воздуха для космических полетов и полиненасыщенных жирных кислотах"
      ]
     },
     "metadata": {},
     "output_type": "display_data"
    },
    {
     "data": {
      "text/html": [
       "<b> главы # жиры и внимание к онкологическим заболеваниям </b><br /> отрывок из книг \"китайское исследование\" профессора биохимии колина кэмпбелла"
      ]
     },
     "metadata": {},
     "output_type": "display_data"
    },
    {
     "data": {
      "text/html": [
       "<b> механизм противоопухолевого действия белка яда осы </b><br /> об исследовании белка mp1, который выборочно замедляет пролиферацию клеток рака, и перспективах лечения болезни"
      ]
     },
     "metadata": {},
     "output_type": "display_data"
    },
    {
     "data": {
      "text/html": [
       "<b> криохирургия </b><br /> хирург алексей чжао о хирургических методах лечения с использованием заморозки, открытой криохирургии и системе «кибернож»"
      ]
     },
     "metadata": {},
     "output_type": "display_data"
    },
    {
     "data": {
      "text/html": [
       "<b> коронарный синдром </b><br /> профессор медицины александр васильев о симптомах коронарной болезни, синдроме x и стенокардии покоя"
      ]
     },
     "metadata": {},
     "output_type": "display_data"
    },
    {
     "data": {
      "text/html": [
       "<style  type=\"text/css\" >\n",
       "</style><table id=\"T_d0f2728e_0a1a_11ea_a6fb_107b449f15fc\" style='display:inline'><thead>    <tr>        <th class=\"blank level0\" ></th>        <th class=\"col_heading level0 col0\" >topic_28 @2gramm</th>    </tr></thead><tbody>\n",
       "                <tr>\n",
       "                        <th id=\"T_d0f2728e_0a1a_11ea_a6fb_107b449f15fclevel0_row0\" class=\"row_heading level0 row0\" >критический_теория</th>\n",
       "                        <td id=\"T_d0f2728e_0a1a_11ea_a6fb_107b449f15fcrow0_col0\" class=\"data row0 col0\" >0.01824</td>\n",
       "            </tr>\n",
       "            <tr>\n",
       "                        <th id=\"T_d0f2728e_0a1a_11ea_a6fb_107b449f15fclevel0_row1\" class=\"row_heading level0 row1\" >научный_революция</th>\n",
       "                        <td id=\"T_d0f2728e_0a1a_11ea_a6fb_107b449f15fcrow1_col0\" class=\"data row1 col0\" >0.01434</td>\n",
       "            </tr>\n",
       "            <tr>\n",
       "                        <th id=\"T_d0f2728e_0a1a_11ea_a6fb_107b449f15fclevel0_row2\" class=\"row_heading level0 row2\" >история_наука</th>\n",
       "                        <td id=\"T_d0f2728e_0a1a_11ea_a6fb_107b449f15fcrow2_col0\" class=\"data row2 col0\" >0.01197</td>\n",
       "            </tr>\n",
       "            <tr>\n",
       "                        <th id=\"T_d0f2728e_0a1a_11ea_a6fb_107b449f15fclevel0_row3\" class=\"row_heading level0 row3\" >публичный_пространство</th>\n",
       "                        <td id=\"T_d0f2728e_0a1a_11ea_a6fb_107b449f15fcrow3_col0\" class=\"data row3 col0\" >0.01022</td>\n",
       "            </tr>\n",
       "            <tr>\n",
       "                        <th id=\"T_d0f2728e_0a1a_11ea_a6fb_107b449f15fclevel0_row4\" class=\"row_heading level0 row4\" >современный_общество</th>\n",
       "                        <td id=\"T_d0f2728e_0a1a_11ea_a6fb_107b449f15fcrow4_col0\" class=\"data row4 col0\" >0.00724</td>\n",
       "            </tr>\n",
       "            <tr>\n",
       "                        <th id=\"T_d0f2728e_0a1a_11ea_a6fb_107b449f15fclevel0_row5\" class=\"row_heading level0 row5\" >русский_авангард</th>\n",
       "                        <td id=\"T_d0f2728e_0a1a_11ea_a6fb_107b449f15fcrow5_col0\" class=\"data row5 col0\" >0.00624</td>\n",
       "            </tr>\n",
       "            <tr>\n",
       "                        <th id=\"T_d0f2728e_0a1a_11ea_a6fb_107b449f15fclevel0_row6\" class=\"row_heading level0 row6\" >русский_философия</th>\n",
       "                        <td id=\"T_d0f2728e_0a1a_11ea_a6fb_107b449f15fcrow6_col0\" class=\"data row6 col0\" >0.00605</td>\n",
       "            </tr>\n",
       "            <tr>\n",
       "                        <th id=\"T_d0f2728e_0a1a_11ea_a6fb_107b449f15fclevel0_row7\" class=\"row_heading level0 row7\" >историк_наука</th>\n",
       "                        <td id=\"T_d0f2728e_0a1a_11ea_a6fb_107b449f15fcrow7_col0\" class=\"data row7 col0\" >0.00598</td>\n",
       "            </tr>\n",
       "            <tr>\n",
       "                        <th id=\"T_d0f2728e_0a1a_11ea_a6fb_107b449f15fclevel0_row8\" class=\"row_heading level0 row8\" >аналитический_философия</th>\n",
       "                        <td id=\"T_d0f2728e_0a1a_11ea_a6fb_107b449f15fcrow8_col0\" class=\"data row8 col0\" >0.00544</td>\n",
       "            </tr>\n",
       "            <tr>\n",
       "                        <th id=\"T_d0f2728e_0a1a_11ea_a6fb_107b449f15fclevel0_row9\" class=\"row_heading level0 row9\" >интеллектуальный_история</th>\n",
       "                        <td id=\"T_d0f2728e_0a1a_11ea_a6fb_107b449f15fcrow9_col0\" class=\"data row9 col0\" >0.00532</td>\n",
       "            </tr>\n",
       "    </tbody></table><style  type=\"text/css\" >\n",
       "</style><table id=\"T_d0f2728f_0a1a_11ea_a6fb_107b449f15fc\" style='display:inline'><thead>    <tr>        <th class=\"blank level0\" ></th>        <th class=\"col_heading level0 col0\" >topic_28 @3gramm</th>    </tr></thead><tbody>\n",
       "                <tr>\n",
       "                        <th id=\"T_d0f2728f_0a1a_11ea_a6fb_107b449f15fclevel0_row0\" class=\"row_heading level0 row0\" >половина_хх_век</th>\n",
       "                        <td id=\"T_d0f2728f_0a1a_11ea_a6fb_107b449f15fcrow0_col0\" class=\"data row0 col0\" >0.21521</td>\n",
       "            </tr>\n",
       "            <tr>\n",
       "                        <th id=\"T_d0f2728f_0a1a_11ea_a6fb_107b449f15fclevel0_row1\" class=\"row_heading level0 row1\" >недра_нейтронный_звезда</th>\n",
       "                        <td id=\"T_d0f2728f_0a1a_11ea_a6fb_107b449f15fcrow1_col0\" class=\"data row1 col0\" >0.08158</td>\n",
       "            </tr>\n",
       "            <tr>\n",
       "                        <th id=\"T_d0f2728f_0a1a_11ea_a6fb_107b449f15fclevel0_row2\" class=\"row_heading level0 row2\" >огромный_количество_информация</th>\n",
       "                        <td id=\"T_d0f2728f_0a1a_11ea_a6fb_107b449f15fcrow2_col0\" class=\"data row2 col0\" >0.08138</td>\n",
       "            </tr>\n",
       "            <tr>\n",
       "                        <th id=\"T_d0f2728f_0a1a_11ea_a6fb_107b449f15fclevel0_row3\" class=\"row_heading level0 row3\" >треть_xx_век</th>\n",
       "                        <td id=\"T_d0f2728f_0a1a_11ea_a6fb_107b449f15fcrow3_col0\" class=\"data row3 col0\" >0.06672</td>\n",
       "            </tr>\n",
       "            <tr>\n",
       "                        <th id=\"T_d0f2728f_0a1a_11ea_a6fb_107b449f15fclevel0_row4\" class=\"row_heading level0 row4\" >разный_социальный_группа</th>\n",
       "                        <td id=\"T_d0f2728f_0a1a_11ea_a6fb_107b449f15fcrow4_col0\" class=\"data row4 col0\" >0.05233</td>\n",
       "            </tr>\n",
       "            <tr>\n",
       "                        <th id=\"T_d0f2728f_0a1a_11ea_a6fb_107b449f15fclevel0_row5\" class=\"row_heading level0 row5\" >сложный_органический_соединение</th>\n",
       "                        <td id=\"T_d0f2728f_0a1a_11ea_a6fb_107b449f15fcrow5_col0\" class=\"data row5 col0\" >0.05137</td>\n",
       "            </tr>\n",
       "            <tr>\n",
       "                        <th id=\"T_d0f2728f_0a1a_11ea_a6fb_107b449f15fclevel0_row6\" class=\"row_heading level0 row6\" >занимать_особый_место</th>\n",
       "                        <td id=\"T_d0f2728f_0a1a_11ea_a6fb_107b449f15fcrow6_col0\" class=\"data row6 col0\" >0.05091</td>\n",
       "            </tr>\n",
       "            <tr>\n",
       "                        <th id=\"T_d0f2728f_0a1a_11ea_a6fb_107b449f15fclevel0_row7\" class=\"row_heading level0 row7\" >критика_чистый_разум</th>\n",
       "                        <td id=\"T_d0f2728f_0a1a_11ea_a6fb_107b449f15fcrow7_col0\" class=\"data row7 col0\" >0.04447</td>\n",
       "            </tr>\n",
       "            <tr>\n",
       "                        <th id=\"T_d0f2728f_0a1a_11ea_a6fb_107b449f15fclevel0_row8\" class=\"row_heading level0 row8\" >результат_научный_исследование</th>\n",
       "                        <td id=\"T_d0f2728f_0a1a_11ea_a6fb_107b449f15fcrow8_col0\" class=\"data row8 col0\" >0.04446</td>\n",
       "            </tr>\n",
       "            <tr>\n",
       "                        <th id=\"T_d0f2728f_0a1a_11ea_a6fb_107b449f15fclevel0_row9\" class=\"row_heading level0 row9\" >система_принятие_решение</th>\n",
       "                        <td id=\"T_d0f2728f_0a1a_11ea_a6fb_107b449f15fcrow9_col0\" class=\"data row9 col0\" >0.04438</td>\n",
       "            </tr>\n",
       "    </tbody></table><style  type=\"text/css\" >\n",
       "</style><table id=\"T_d0f27290_0a1a_11ea_a6fb_107b449f15fc\" style='display:inline'><thead>    <tr>        <th class=\"blank level0\" ></th>        <th class=\"col_heading level0 col0\" >topic_28 @post_tag</th>    </tr></thead><tbody>\n",
       "                <tr>\n",
       "                        <th id=\"T_d0f27290_0a1a_11ea_a6fb_107b449f15fclevel0_row0\" class=\"row_heading level0 row0\" >философия</th>\n",
       "                        <td id=\"T_d0f27290_0a1a_11ea_a6fb_107b449f15fcrow0_col0\" class=\"data row0 col0\" >0.42429</td>\n",
       "            </tr>\n",
       "            <tr>\n",
       "                        <th id=\"T_d0f27290_0a1a_11ea_a6fb_107b449f15fclevel0_row1\" class=\"row_heading level0 row1\" >искусство</th>\n",
       "                        <td id=\"T_d0f27290_0a1a_11ea_a6fb_107b449f15fcrow1_col0\" class=\"data row1 col0\" >0.06781</td>\n",
       "            </tr>\n",
       "            <tr>\n",
       "                        <th id=\"T_d0f27290_0a1a_11ea_a6fb_107b449f15fclevel0_row2\" class=\"row_heading level0 row2\" >история_науки</th>\n",
       "                        <td id=\"T_d0f27290_0a1a_11ea_a6fb_107b449f15fcrow2_col0\" class=\"data row2 col0\" >0.0597</td>\n",
       "            </tr>\n",
       "            <tr>\n",
       "                        <th id=\"T_d0f27290_0a1a_11ea_a6fb_107b449f15fclevel0_row3\" class=\"row_heading level0 row3\" >история_философии</th>\n",
       "                        <td id=\"T_d0f27290_0a1a_11ea_a6fb_107b449f15fcrow3_col0\" class=\"data row3 col0\" >0.04337</td>\n",
       "            </tr>\n",
       "            <tr>\n",
       "                        <th id=\"T_d0f27290_0a1a_11ea_a6fb_107b449f15fclevel0_row4\" class=\"row_heading level0 row4\" >аристотель</th>\n",
       "                        <td id=\"T_d0f27290_0a1a_11ea_a6fb_107b449f15fcrow4_col0\" class=\"data row4 col0\" >0.04295</td>\n",
       "            </tr>\n",
       "            <tr>\n",
       "                        <th id=\"T_d0f27290_0a1a_11ea_a6fb_107b449f15fclevel0_row5\" class=\"row_heading level0 row5\" >платон</th>\n",
       "                        <td id=\"T_d0f27290_0a1a_11ea_a6fb_107b449f15fcrow5_col0\" class=\"data row5 col0\" >0.03765</td>\n",
       "            </tr>\n",
       "            <tr>\n",
       "                        <th id=\"T_d0f27290_0a1a_11ea_a6fb_107b449f15fclevel0_row6\" class=\"row_heading level0 row6\" >искусствоведение</th>\n",
       "                        <td id=\"T_d0f27290_0a1a_11ea_a6fb_107b449f15fcrow6_col0\" class=\"data row6 col0\" >0.03742</td>\n",
       "            </tr>\n",
       "            <tr>\n",
       "                        <th id=\"T_d0f27290_0a1a_11ea_a6fb_107b449f15fclevel0_row7\" class=\"row_heading level0 row7\" >кант_иммануил</th>\n",
       "                        <td id=\"T_d0f27290_0a1a_11ea_a6fb_107b449f15fcrow7_col0\" class=\"data row7 col0\" >0.03522</td>\n",
       "            </tr>\n",
       "            <tr>\n",
       "                        <th id=\"T_d0f27290_0a1a_11ea_a6fb_107b449f15fclevel0_row8\" class=\"row_heading level0 row8\" >сократ</th>\n",
       "                        <td id=\"T_d0f27290_0a1a_11ea_a6fb_107b449f15fcrow8_col0\" class=\"data row8 col0\" >0.02062</td>\n",
       "            </tr>\n",
       "            <tr>\n",
       "                        <th id=\"T_d0f27290_0a1a_11ea_a6fb_107b449f15fclevel0_row9\" class=\"row_heading level0 row9\" >маркс_карл</th>\n",
       "                        <td id=\"T_d0f27290_0a1a_11ea_a6fb_107b449f15fcrow9_col0\" class=\"data row9 col0\" >0.01979</td>\n",
       "            </tr>\n",
       "    </tbody></table><style  type=\"text/css\" >\n",
       "</style><table id=\"T_d0f27291_0a1a_11ea_a6fb_107b449f15fc\" style='display:inline'><thead>    <tr>        <th class=\"blank level0\" ></th>        <th class=\"col_heading level0 col0\" >topic_28 @word</th>    </tr></thead><tbody>\n",
       "                <tr>\n",
       "                        <th id=\"T_d0f27291_0a1a_11ea_a6fb_107b449f15fclevel0_row0\" class=\"row_heading level0 row0\" >философия</th>\n",
       "                        <td id=\"T_d0f27291_0a1a_11ea_a6fb_107b449f15fcrow0_col0\" class=\"data row0 col0\" >0.01143</td>\n",
       "            </tr>\n",
       "            <tr>\n",
       "                        <th id=\"T_d0f27291_0a1a_11ea_a6fb_107b449f15fclevel0_row1\" class=\"row_heading level0 row1\" >книга</th>\n",
       "                        <td id=\"T_d0f27291_0a1a_11ea_a6fb_107b449f15fcrow1_col0\" class=\"data row1 col0\" >0.00826</td>\n",
       "            </tr>\n",
       "            <tr>\n",
       "                        <th id=\"T_d0f27291_0a1a_11ea_a6fb_107b449f15fclevel0_row2\" class=\"row_heading level0 row2\" >философ</th>\n",
       "                        <td id=\"T_d0f27291_0a1a_11ea_a6fb_107b449f15fcrow2_col0\" class=\"data row2 col0\" >0.00824</td>\n",
       "            </tr>\n",
       "            <tr>\n",
       "                        <th id=\"T_d0f27291_0a1a_11ea_a6fb_107b449f15fclevel0_row3\" class=\"row_heading level0 row3\" >идея</th>\n",
       "                        <td id=\"T_d0f27291_0a1a_11ea_a6fb_107b449f15fcrow3_col0\" class=\"data row3 col0\" >0.00589</td>\n",
       "            </tr>\n",
       "            <tr>\n",
       "                        <th id=\"T_d0f27291_0a1a_11ea_a6fb_107b449f15fclevel0_row4\" class=\"row_heading level0 row4\" >философский</th>\n",
       "                        <td id=\"T_d0f27291_0a1a_11ea_a6fb_107b449f15fcrow4_col0\" class=\"data row4 col0\" >0.00493</td>\n",
       "            </tr>\n",
       "            <tr>\n",
       "                        <th id=\"T_d0f27291_0a1a_11ea_a6fb_107b449f15fclevel0_row5\" class=\"row_heading level0 row5\" >искусство</th>\n",
       "                        <td id=\"T_d0f27291_0a1a_11ea_a6fb_107b449f15fcrow5_col0\" class=\"data row5 col0\" >0.00451</td>\n",
       "            </tr>\n",
       "            <tr>\n",
       "                        <th id=\"T_d0f27291_0a1a_11ea_a6fb_107b449f15fclevel0_row6\" class=\"row_heading level0 row6\" >культура</th>\n",
       "                        <td id=\"T_d0f27291_0a1a_11ea_a6fb_107b449f15fcrow6_col0\" class=\"data row6 col0\" >0.00419</td>\n",
       "            </tr>\n",
       "            <tr>\n",
       "                        <th id=\"T_d0f27291_0a1a_11ea_a6fb_107b449f15fclevel0_row7\" class=\"row_heading level0 row7\" >понятие</th>\n",
       "                        <td id=\"T_d0f27291_0a1a_11ea_a6fb_107b449f15fcrow7_col0\" class=\"data row7 col0\" >0.00415</td>\n",
       "            </tr>\n",
       "            <tr>\n",
       "                        <th id=\"T_d0f27291_0a1a_11ea_a6fb_107b449f15fclevel0_row8\" class=\"row_heading level0 row8\" >свобода</th>\n",
       "                        <td id=\"T_d0f27291_0a1a_11ea_a6fb_107b449f15fcrow8_col0\" class=\"data row8 col0\" >0.00402</td>\n",
       "            </tr>\n",
       "            <tr>\n",
       "                        <th id=\"T_d0f27291_0a1a_11ea_a6fb_107b449f15fclevel0_row9\" class=\"row_heading level0 row9\" >знание</th>\n",
       "                        <td id=\"T_d0f27291_0a1a_11ea_a6fb_107b449f15fcrow9_col0\" class=\"data row9 col0\" >0.0039</td>\n",
       "            </tr>\n",
       "    </tbody></table>"
      ]
     },
     "metadata": {},
     "output_type": "display_data"
    },
    {
     "data": {
      "text/html": [
       "<b> философские чувства </b><br /> как рождаются философские чувства, и почему лиризм как род философии нельзя отождествлять ни с одним ее направлением?"
      ]
     },
     "metadata": {},
     "output_type": "display_data"
    },
    {
     "data": {
      "text/html": [
       "<b> философия культуры лосева </b><br /> философ александр доброхотов о неоплатонической диалектике лосева, критике шпенглера и методологии исследования культуры"
      ]
     },
     "metadata": {},
     "output_type": "display_data"
    },
    {
     "data": {
      "text/html": [
       "<b> понятие идеологии </b><br /> социолог культуры арсений хитров о придворном философе наполеона i, критике капитализма у маркса и конструкте «человеческая природа»"
      ]
     },
     "metadata": {},
     "output_type": "display_data"
    },
    {
     "data": {
      "text/html": [
       "<b> гегель сегодня </b><br /> философ иван болдырев об исследователях гегелевской философии, аналитической теории действия и консерватизме"
      ]
     },
     "metadata": {},
     "output_type": "display_data"
    },
    {
     "data": {
      "text/html": [
       "<b> критическая теория </b><br /> социолог арсений хитров об истоках критической теории, условиях познания и политическом активизме"
      ]
     },
     "metadata": {},
     "output_type": "display_data"
    },
    {
     "data": {
      "text/html": [
       "<b> главымеханицизм. декарт конструирует вселенную </b><br /> отрывок из книги «научная революция как событие» историков науки питера деара и стивена шейпина о появлении науки в ее современном понимании"
      ]
     },
     "metadata": {},
     "output_type": "display_data"
    },
    {
     "data": {
      "text/html": [
       "<b> русский космизм </b><br /> философ алексей козырев об идеале бессмертия, влиянии космизма на космонавтику и проблемах гелиофизики"
      ]
     },
     "metadata": {},
     "output_type": "display_data"
    },
    {
     "data": {
      "text/html": [
       "<b> что читать«картина мира эпохи авангарда» юрия гирина </b><br /> латиноамериканист андрей кофман рекомендуетсамая интересная книга о феномене авангарда как культурном явлении xx века"
      ]
     },
     "metadata": {},
     "output_type": "display_data"
    },
    {
     "data": {
      "text/html": [
       "<b> автограф # «правда и ложь в истории великих открытий» </b><br /> историк науки джон уоллер говорит о том, как среда влияет на научную деятельность и какую память оставляет о себе учёный"
      ]
     },
     "metadata": {},
     "output_type": "display_data"
    },
    {
     "data": {
      "text/html": [
       "<b> философия культуры аверинцева </b><br /> философ александр доброхотов о наследии аверинцева, филологии как службе понимания и принципах исследования культуры"
      ]
     },
     "metadata": {},
     "output_type": "display_data"
    },
    {
     "data": {
      "text/html": [
       "<style  type=\"text/css\" >\n",
       "</style><table id=\"T_d0f27292_0a1a_11ea_a6fb_107b449f15fc\" style='display:inline'><thead>    <tr>        <th class=\"blank level0\" ></th>        <th class=\"col_heading level0 col0\" >topic_29 @2gramm</th>    </tr></thead><tbody>\n",
       "                <tr>\n",
       "                        <th id=\"T_d0f27292_0a1a_11ea_a6fb_107b449f15fclevel0_row0\" class=\"row_heading level0 row0\" >живой_организм</th>\n",
       "                        <td id=\"T_d0f27292_0a1a_11ea_a6fb_107b449f15fcrow0_col0\" class=\"data row0 col0\" >0.02128</td>\n",
       "            </tr>\n",
       "            <tr>\n",
       "                        <th id=\"T_d0f27292_0a1a_11ea_a6fb_107b449f15fclevel0_row1\" class=\"row_heading level0 row1\" >молекула_днк</th>\n",
       "                        <td id=\"T_d0f27292_0a1a_11ea_a6fb_107b449f15fcrow1_col0\" class=\"data row1 col0\" >0.01925</td>\n",
       "            </tr>\n",
       "            <tr>\n",
       "                        <th id=\"T_d0f27292_0a1a_11ea_a6fb_107b449f15fclevel0_row2\" class=\"row_heading level0 row2\" >генетический_информация</th>\n",
       "                        <td id=\"T_d0f27292_0a1a_11ea_a6fb_107b449f15fcrow2_col0\" class=\"data row2 col0\" >0.01559</td>\n",
       "            </tr>\n",
       "            <tr>\n",
       "                        <th id=\"T_d0f27292_0a1a_11ea_a6fb_107b449f15fclevel0_row3\" class=\"row_heading level0 row3\" >молекулярный_биология</th>\n",
       "                        <td id=\"T_d0f27292_0a1a_11ea_a6fb_107b449f15fcrow3_col0\" class=\"data row3 col0\" >0.01178</td>\n",
       "            </tr>\n",
       "            <tr>\n",
       "                        <th id=\"T_d0f27292_0a1a_11ea_a6fb_107b449f15fclevel0_row4\" class=\"row_heading level0 row4\" >живой_клетка</th>\n",
       "                        <td id=\"T_d0f27292_0a1a_11ea_a6fb_107b449f15fcrow4_col0\" class=\"data row4 col0\" >0.00946</td>\n",
       "            </tr>\n",
       "            <tr>\n",
       "                        <th id=\"T_d0f27292_0a1a_11ea_a6fb_107b449f15fclevel0_row5\" class=\"row_heading level0 row5\" >двойной_спираль</th>\n",
       "                        <td id=\"T_d0f27292_0a1a_11ea_a6fb_107b449f15fcrow5_col0\" class=\"data row5 col0\" >0.00882</td>\n",
       "            </tr>\n",
       "            <tr>\n",
       "                        <th id=\"T_d0f27292_0a1a_11ea_a6fb_107b449f15fclevel0_row6\" class=\"row_heading level0 row6\" >последовательность_днк</th>\n",
       "                        <td id=\"T_d0f27292_0a1a_11ea_a6fb_107b449f15fcrow6_col0\" class=\"data row6 col0\" >0.00881</td>\n",
       "            </tr>\n",
       "            <tr>\n",
       "                        <th id=\"T_d0f27292_0a1a_11ea_a6fb_107b449f15fclevel0_row7\" class=\"row_heading level0 row7\" >трансгенный_растение</th>\n",
       "                        <td id=\"T_d0f27292_0a1a_11ea_a6fb_107b449f15fcrow7_col0\" class=\"data row7 col0\" >0.00829</td>\n",
       "            </tr>\n",
       "            <tr>\n",
       "                        <th id=\"T_d0f27292_0a1a_11ea_a6fb_107b449f15fclevel0_row8\" class=\"row_heading level0 row8\" >структура_днк</th>\n",
       "                        <td id=\"T_d0f27292_0a1a_11ea_a6fb_107b449f15fcrow8_col0\" class=\"data row8 col0\" >0.00803</td>\n",
       "            </tr>\n",
       "            <tr>\n",
       "                        <th id=\"T_d0f27292_0a1a_11ea_a6fb_107b449f15fclevel0_row9\" class=\"row_heading level0 row9\" >кишечный_палочка</th>\n",
       "                        <td id=\"T_d0f27292_0a1a_11ea_a6fb_107b449f15fcrow9_col0\" class=\"data row9 col0\" >0.00797</td>\n",
       "            </tr>\n",
       "    </tbody></table><style  type=\"text/css\" >\n",
       "</style><table id=\"T_d0f27293_0a1a_11ea_a6fb_107b449f15fc\" style='display:inline'><thead>    <tr>        <th class=\"blank level0\" ></th>        <th class=\"col_heading level0 col0\" >topic_29 @3gramm</th>    </tr></thead><tbody>\n",
       "                <tr>\n",
       "                        <th id=\"T_d0f27293_0a1a_11ea_a6fb_107b449f15fclevel0_row0\" class=\"row_heading level0 row0\" >друг_относительно_друг</th>\n",
       "                        <td id=\"T_d0f27293_0a1a_11ea_a6fb_107b449f15fcrow0_col0\" class=\"data row0 col0\" >0.13328</td>\n",
       "            </tr>\n",
       "            <tr>\n",
       "                        <th id=\"T_d0f27293_0a1a_11ea_a6fb_107b449f15fclevel0_row1\" class=\"row_heading level0 row1\" >двойной_спираль_днк</th>\n",
       "                        <td id=\"T_d0f27293_0a1a_11ea_a6fb_107b449f15fcrow1_col0\" class=\"data row1 col0\" >0.09339</td>\n",
       "            </tr>\n",
       "            <tr>\n",
       "                        <th id=\"T_d0f27293_0a1a_11ea_a6fb_107b449f15fclevel0_row2\" class=\"row_heading level0 row2\" >конец_прошлое_век</th>\n",
       "                        <td id=\"T_d0f27293_0a1a_11ea_a6fb_107b449f15fcrow2_col0\" class=\"data row2 col0\" >0.09311</td>\n",
       "            </tr>\n",
       "            <tr>\n",
       "                        <th id=\"T_d0f27293_0a1a_11ea_a6fb_107b449f15fclevel0_row3\" class=\"row_heading level0 row3\" >большой_роль_играть</th>\n",
       "                        <td id=\"T_d0f27293_0a1a_11ea_a6fb_107b449f15fcrow3_col0\" class=\"data row3 col0\" >0.07907</td>\n",
       "            </tr>\n",
       "            <tr>\n",
       "                        <th id=\"T_d0f27293_0a1a_11ea_a6fb_107b449f15fclevel0_row4\" class=\"row_heading level0 row4\" >играть_огромный_роль</th>\n",
       "                        <td id=\"T_d0f27293_0a1a_11ea_a6fb_107b449f15fcrow4_col0\" class=\"data row4 col0\" >0.06585</td>\n",
       "            </tr>\n",
       "            <tr>\n",
       "                        <th id=\"T_d0f27293_0a1a_11ea_a6fb_107b449f15fclevel0_row5\" class=\"row_heading level0 row5\" >открытие_двойной_спираль</th>\n",
       "                        <td id=\"T_d0f27293_0a1a_11ea_a6fb_107b449f15fcrow5_col0\" class=\"data row5 col0\" >0.06002</td>\n",
       "            </tr>\n",
       "            <tr>\n",
       "                        <th id=\"T_d0f27293_0a1a_11ea_a6fb_107b449f15fclevel0_row6\" class=\"row_heading level0 row6\" >сильно_отличаться_друг</th>\n",
       "                        <td id=\"T_d0f27293_0a1a_11ea_a6fb_107b449f15fcrow6_col0\" class=\"data row6 col0\" >0.0599</td>\n",
       "            </tr>\n",
       "            <tr>\n",
       "                        <th id=\"T_d0f27293_0a1a_11ea_a6fb_107b449f15fclevel0_row7\" class=\"row_heading level0 row7\" >крупный_рогатый_скот</th>\n",
       "                        <td id=\"T_d0f27293_0a1a_11ea_a6fb_107b449f15fcrow7_col0\" class=\"data row7 col0\" >0.0598</td>\n",
       "            </tr>\n",
       "            <tr>\n",
       "                        <th id=\"T_d0f27293_0a1a_11ea_a6fb_107b449f15fclevel0_row8\" class=\"row_heading level0 row8\" >открытие_структура_днк</th>\n",
       "                        <td id=\"T_d0f27293_0a1a_11ea_a6fb_107b449f15fcrow8_col0\" class=\"data row8 col0\" >0.0533</td>\n",
       "            </tr>\n",
       "            <tr>\n",
       "                        <th id=\"T_d0f27293_0a1a_11ea_a6fb_107b449f15fclevel0_row9\" class=\"row_heading level0 row9\" >большой_количество_энергия</th>\n",
       "                        <td id=\"T_d0f27293_0a1a_11ea_a6fb_107b449f15fcrow9_col0\" class=\"data row9 col0\" >0.04637</td>\n",
       "            </tr>\n",
       "    </tbody></table><style  type=\"text/css\" >\n",
       "</style><table id=\"T_d0f27294_0a1a_11ea_a6fb_107b449f15fc\" style='display:inline'><thead>    <tr>        <th class=\"blank level0\" ></th>        <th class=\"col_heading level0 col0\" >topic_29 @post_tag</th>    </tr></thead><tbody>\n",
       "                <tr>\n",
       "                        <th id=\"T_d0f27294_0a1a_11ea_a6fb_107b449f15fclevel0_row0\" class=\"row_heading level0 row0\" >биология</th>\n",
       "                        <td id=\"T_d0f27294_0a1a_11ea_a6fb_107b449f15fcrow0_col0\" class=\"data row0 col0\" >0.13097</td>\n",
       "            </tr>\n",
       "            <tr>\n",
       "                        <th id=\"T_d0f27294_0a1a_11ea_a6fb_107b449f15fclevel0_row1\" class=\"row_heading level0 row1\" >днк</th>\n",
       "                        <td id=\"T_d0f27294_0a1a_11ea_a6fb_107b449f15fcrow1_col0\" class=\"data row1 col0\" >0.10592</td>\n",
       "            </tr>\n",
       "            <tr>\n",
       "                        <th id=\"T_d0f27294_0a1a_11ea_a6fb_107b449f15fclevel0_row2\" class=\"row_heading level0 row2\" >генетика</th>\n",
       "                        <td id=\"T_d0f27294_0a1a_11ea_a6fb_107b449f15fcrow2_col0\" class=\"data row2 col0\" >0.10464</td>\n",
       "            </tr>\n",
       "            <tr>\n",
       "                        <th id=\"T_d0f27294_0a1a_11ea_a6fb_107b449f15fclevel0_row3\" class=\"row_heading level0 row3\" >ген</th>\n",
       "                        <td id=\"T_d0f27294_0a1a_11ea_a6fb_107b449f15fcrow3_col0\" class=\"data row3 col0\" >0.10055</td>\n",
       "            </tr>\n",
       "            <tr>\n",
       "                        <th id=\"T_d0f27294_0a1a_11ea_a6fb_107b449f15fclevel0_row4\" class=\"row_heading level0 row4\" >геном</th>\n",
       "                        <td id=\"T_d0f27294_0a1a_11ea_a6fb_107b449f15fcrow4_col0\" class=\"data row4 col0\" >0.09752</td>\n",
       "            </tr>\n",
       "            <tr>\n",
       "                        <th id=\"T_d0f27294_0a1a_11ea_a6fb_107b449f15fclevel0_row5\" class=\"row_heading level0 row5\" >клетка</th>\n",
       "                        <td id=\"T_d0f27294_0a1a_11ea_a6fb_107b449f15fcrow5_col0\" class=\"data row5 col0\" >0.08487</td>\n",
       "            </tr>\n",
       "            <tr>\n",
       "                        <th id=\"T_d0f27294_0a1a_11ea_a6fb_107b449f15fclevel0_row6\" class=\"row_heading level0 row6\" >белки</th>\n",
       "                        <td id=\"T_d0f27294_0a1a_11ea_a6fb_107b449f15fcrow6_col0\" class=\"data row6 col0\" >0.04465</td>\n",
       "            </tr>\n",
       "            <tr>\n",
       "                        <th id=\"T_d0f27294_0a1a_11ea_a6fb_107b449f15fclevel0_row7\" class=\"row_heading level0 row7\" >биоинформатика</th>\n",
       "                        <td id=\"T_d0f27294_0a1a_11ea_a6fb_107b449f15fcrow7_col0\" class=\"data row7 col0\" >0.03614</td>\n",
       "            </tr>\n",
       "            <tr>\n",
       "                        <th id=\"T_d0f27294_0a1a_11ea_a6fb_107b449f15fclevel0_row8\" class=\"row_heading level0 row8\" >молекулярная_биология</th>\n",
       "                        <td id=\"T_d0f27294_0a1a_11ea_a6fb_107b449f15fcrow8_col0\" class=\"data row8 col0\" >0.03236</td>\n",
       "            </tr>\n",
       "            <tr>\n",
       "                        <th id=\"T_d0f27294_0a1a_11ea_a6fb_107b449f15fclevel0_row9\" class=\"row_heading level0 row9\" >рнк</th>\n",
       "                        <td id=\"T_d0f27294_0a1a_11ea_a6fb_107b449f15fcrow9_col0\" class=\"data row9 col0\" >0.03064</td>\n",
       "            </tr>\n",
       "    </tbody></table><style  type=\"text/css\" >\n",
       "</style><table id=\"T_d0f27295_0a1a_11ea_a6fb_107b449f15fc\" style='display:inline'><thead>    <tr>        <th class=\"blank level0\" ></th>        <th class=\"col_heading level0 col0\" >topic_29 @word</th>    </tr></thead><tbody>\n",
       "                <tr>\n",
       "                        <th id=\"T_d0f27295_0a1a_11ea_a6fb_107b449f15fclevel0_row0\" class=\"row_heading level0 row0\" >клетка</th>\n",
       "                        <td id=\"T_d0f27295_0a1a_11ea_a6fb_107b449f15fcrow0_col0\" class=\"data row0 col0\" >0.02031</td>\n",
       "            </tr>\n",
       "            <tr>\n",
       "                        <th id=\"T_d0f27295_0a1a_11ea_a6fb_107b449f15fclevel0_row1\" class=\"row_heading level0 row1\" >ген</th>\n",
       "                        <td id=\"T_d0f27295_0a1a_11ea_a6fb_107b449f15fcrow1_col0\" class=\"data row1 col0\" >0.01922</td>\n",
       "            </tr>\n",
       "            <tr>\n",
       "                        <th id=\"T_d0f27295_0a1a_11ea_a6fb_107b449f15fclevel0_row2\" class=\"row_heading level0 row2\" >днк</th>\n",
       "                        <td id=\"T_d0f27295_0a1a_11ea_a6fb_107b449f15fcrow2_col0\" class=\"data row2 col0\" >0.01417</td>\n",
       "            </tr>\n",
       "            <tr>\n",
       "                        <th id=\"T_d0f27295_0a1a_11ea_a6fb_107b449f15fclevel0_row3\" class=\"row_heading level0 row3\" >белка</th>\n",
       "                        <td id=\"T_d0f27295_0a1a_11ea_a6fb_107b449f15fcrow3_col0\" class=\"data row3 col0\" >0.01064</td>\n",
       "            </tr>\n",
       "            <tr>\n",
       "                        <th id=\"T_d0f27295_0a1a_11ea_a6fb_107b449f15fclevel0_row4\" class=\"row_heading level0 row4\" >геном</th>\n",
       "                        <td id=\"T_d0f27295_0a1a_11ea_a6fb_107b449f15fcrow4_col0\" class=\"data row4 col0\" >0.00964</td>\n",
       "            </tr>\n",
       "            <tr>\n",
       "                        <th id=\"T_d0f27295_0a1a_11ea_a6fb_107b449f15fclevel0_row5\" class=\"row_heading level0 row5\" >белок</th>\n",
       "                        <td id=\"T_d0f27295_0a1a_11ea_a6fb_107b449f15fcrow5_col0\" class=\"data row5 col0\" >0.00772</td>\n",
       "            </tr>\n",
       "            <tr>\n",
       "                        <th id=\"T_d0f27295_0a1a_11ea_a6fb_107b449f15fclevel0_row6\" class=\"row_heading level0 row6\" >мутация</th>\n",
       "                        <td id=\"T_d0f27295_0a1a_11ea_a6fb_107b449f15fcrow6_col0\" class=\"data row6 col0\" >0.00674</td>\n",
       "            </tr>\n",
       "            <tr>\n",
       "                        <th id=\"T_d0f27295_0a1a_11ea_a6fb_107b449f15fclevel0_row7\" class=\"row_heading level0 row7\" >организм</th>\n",
       "                        <td id=\"T_d0f27295_0a1a_11ea_a6fb_107b449f15fcrow7_col0\" class=\"data row7 col0\" >0.00627</td>\n",
       "            </tr>\n",
       "            <tr>\n",
       "                        <th id=\"T_d0f27295_0a1a_11ea_a6fb_107b449f15fclevel0_row8\" class=\"row_heading level0 row8\" >рнк</th>\n",
       "                        <td id=\"T_d0f27295_0a1a_11ea_a6fb_107b449f15fcrow8_col0\" class=\"data row8 col0\" >0.00609</td>\n",
       "            </tr>\n",
       "            <tr>\n",
       "                        <th id=\"T_d0f27295_0a1a_11ea_a6fb_107b449f15fclevel0_row9\" class=\"row_heading level0 row9\" >происходить</th>\n",
       "                        <td id=\"T_d0f27295_0a1a_11ea_a6fb_107b449f15fcrow9_col0\" class=\"data row9 col0\" >0.00595</td>\n",
       "            </tr>\n",
       "    </tbody></table>"
      ]
     },
     "metadata": {},
     "output_type": "display_data"
    },
    {
     "data": {
      "text/html": [
       "<b> репликация днк </b><br /> биофизик максим франк-каменецкий о принципе комплементарности, разделении нитей и роли теломеразы при синтезе днк"
      ]
     },
     "metadata": {},
     "output_type": "display_data"
    },
    {
     "data": {
      "text/html": [
       "<b> необычные формы днк </b><br /> биофизик максим франк-каменецкий о двойной спирали рнк, неканонических формах днк и условиях их образования"
      ]
     },
     "metadata": {},
     "output_type": "display_data"
    },
    {
     "data": {
      "text/html": [
       "<b> элементарная хроматиновая фибрилла </b><br /> биолог евгений шеваль о фиксации компонентов живой клетки, искусстве замораживания молекул и нуклеосомной фибрилле"
      ]
     },
     "metadata": {},
     "output_type": "display_data"
    },
    {
     "data": {
      "text/html": [
       "<b> процесс удвоения днк может регулироваться и на стадии элонгации </b><br /> об удвоении хромосом и механизмах регуляции этого процесса"
      ]
     },
     "metadata": {},
     "output_type": "display_data"
    },
    {
     "data": {
      "text/html": [
       "<b> зонд на основе днк измеряет силу между клеткой и поверхностью </b><br /> о флуоресцентных молекулах, взаимодействии клеточной мембраны с внешней средой и измерении силы в несколько пиконьютонов"
      ]
     },
     "metadata": {},
     "output_type": "display_data"
    },
    {
     "data": {
      "text/html": [
       "<b> повреждения днк </b><br /> биофизик максим франк-каменецкий о мутациях генома, королеве виктории и болезни тея — сакса"
      ]
     },
     "metadata": {},
     "output_type": "display_data"
    },
    {
     "data": {
      "text/html": [
       "<b> каноническая структура днк </b><br /> биофизик максим франк-каменецкий о двойной спирали днк, правиле комплементарности и расшифровке генома человека"
      ]
     },
     "metadata": {},
     "output_type": "display_data"
    },
    {
     "data": {
      "text/html": [
       "<b> faqнаука о клетке </b><br /> 7 фактов о самой элементарной системе организма"
      ]
     },
     "metadata": {},
     "output_type": "display_data"
    },
    {
     "data": {
      "text/html": [
       "<b> как днк с синтетическими нуклеотидами встроили в живую клетку? </b><br /> микробиолог константин северинов о центральной догме молекулярной биологии и увеличении информационной емкости днк"
      ]
     },
     "metadata": {},
     "output_type": "display_data"
    },
    {
     "data": {
      "text/html": [
       "<b> faqфлуоресцентные белки </b><br /> 7 фактов о возможностях использования свойства существ  светиться в темноте"
      ]
     },
     "metadata": {},
     "output_type": "display_data"
    },
    {
     "data": {
      "text/html": [
       "<style  type=\"text/css\" >\n",
       "</style><table id=\"T_d0f27296_0a1a_11ea_a6fb_107b449f15fc\" style='display:inline'><thead>    <tr>        <th class=\"blank level0\" ></th>        <th class=\"col_heading level0 col0\" >bcg_30 @2gramm</th>    </tr></thead><tbody>\n",
       "                <tr>\n",
       "                        <th id=\"T_d0f27296_0a1a_11ea_a6fb_107b449f15fclevel0_row0\" class=\"row_heading level0 row0\" >речь_идти</th>\n",
       "                        <td id=\"T_d0f27296_0a1a_11ea_a6fb_107b449f15fcrow0_col0\" class=\"data row0 col0\" >0.01224</td>\n",
       "            </tr>\n",
       "            <tr>\n",
       "                        <th id=\"T_d0f27296_0a1a_11ea_a6fb_107b449f15fclevel0_row1\" class=\"row_heading level0 row1\" >крайний_мера</th>\n",
       "                        <td id=\"T_d0f27296_0a1a_11ea_a6fb_107b449f15fcrow1_col0\" class=\"data row1 col0\" >0.0108</td>\n",
       "            </tr>\n",
       "            <tr>\n",
       "                        <th id=\"T_d0f27296_0a1a_11ea_a6fb_107b449f15fclevel0_row2\" class=\"row_heading level0 row2\" >xx_век</th>\n",
       "                        <td id=\"T_d0f27296_0a1a_11ea_a6fb_107b449f15fcrow2_col0\" class=\"data row2 col0\" >0.01018</td>\n",
       "            </tr>\n",
       "            <tr>\n",
       "                        <th id=\"T_d0f27296_0a1a_11ea_a6fb_107b449f15fclevel0_row3\" class=\"row_heading level0 row3\" >xix_век</th>\n",
       "                        <td id=\"T_d0f27296_0a1a_11ea_a6fb_107b449f15fcrow3_col0\" class=\"data row3 col0\" >0.01015</td>\n",
       "            </tr>\n",
       "            <tr>\n",
       "                        <th id=\"T_d0f27296_0a1a_11ea_a6fb_107b449f15fclevel0_row4\" class=\"row_heading level0 row4\" >дать_случай</th>\n",
       "                        <td id=\"T_d0f27296_0a1a_11ea_a6fb_107b449f15fcrow4_col0\" class=\"data row4 col0\" >0.0096</td>\n",
       "            </tr>\n",
       "            <tr>\n",
       "                        <th id=\"T_d0f27296_0a1a_11ea_a6fb_107b449f15fclevel0_row5\" class=\"row_heading level0 row5\" >огромный_количество</th>\n",
       "                        <td id=\"T_d0f27296_0a1a_11ea_a6fb_107b449f15fcrow5_col0\" class=\"data row5 col0\" >0.00744</td>\n",
       "            </tr>\n",
       "            <tr>\n",
       "                        <th id=\"T_d0f27296_0a1a_11ea_a6fb_107b449f15fclevel0_row6\" class=\"row_heading level0 row6\" >большой_количество</th>\n",
       "                        <td id=\"T_d0f27296_0a1a_11ea_a6fb_107b449f15fcrow6_col0\" class=\"data row6 col0\" >0.00743</td>\n",
       "            </tr>\n",
       "            <tr>\n",
       "                        <th id=\"T_d0f27296_0a1a_11ea_a6fb_107b449f15fclevel0_row7\" class=\"row_heading level0 row7\" >конец_конец</th>\n",
       "                        <td id=\"T_d0f27296_0a1a_11ea_a6fb_107b449f15fcrow7_col0\" class=\"data row7 col0\" >0.00492</td>\n",
       "            </tr>\n",
       "            <tr>\n",
       "                        <th id=\"T_d0f27296_0a1a_11ea_a6fb_107b449f15fclevel0_row8\" class=\"row_heading level0 row8\" >данный_момент</th>\n",
       "                        <td id=\"T_d0f27296_0a1a_11ea_a6fb_107b449f15fcrow8_col0\" class=\"data row8 col0\" >0.00491</td>\n",
       "            </tr>\n",
       "            <tr>\n",
       "                        <th id=\"T_d0f27296_0a1a_11ea_a6fb_107b449f15fclevel0_row9\" class=\"row_heading level0 row9\" >друг_друг</th>\n",
       "                        <td id=\"T_d0f27296_0a1a_11ea_a6fb_107b449f15fcrow9_col0\" class=\"data row9 col0\" >0.0049</td>\n",
       "            </tr>\n",
       "    </tbody></table><style  type=\"text/css\" >\n",
       "</style><table id=\"T_d0f27297_0a1a_11ea_a6fb_107b449f15fc\" style='display:inline'><thead>    <tr>        <th class=\"blank level0\" ></th>        <th class=\"col_heading level0 col0\" >bcg_30 @3gramm</th>    </tr></thead><tbody>\n",
       "                <tr>\n",
       "                        <th id=\"T_d0f27297_0a1a_11ea_a6fb_107b449f15fclevel0_row0\" class=\"row_heading level0 row0\" >начало_xxi_век</th>\n",
       "                        <td id=\"T_d0f27297_0a1a_11ea_a6fb_107b449f15fcrow0_col0\" class=\"data row0 col0\" >0.14654</td>\n",
       "            </tr>\n",
       "            <tr>\n",
       "                        <th id=\"T_d0f27297_0a1a_11ea_a6fb_107b449f15fclevel0_row1\" class=\"row_heading level0 row1\" >конец_xx_век</th>\n",
       "                        <td id=\"T_d0f27297_0a1a_11ea_a6fb_107b449f15fcrow1_col0\" class=\"data row1 col0\" >0.11945</td>\n",
       "            </tr>\n",
       "            <tr>\n",
       "                        <th id=\"T_d0f27297_0a1a_11ea_a6fb_107b449f15fclevel0_row2\" class=\"row_heading level0 row2\" >дополнять_друг_друг</th>\n",
       "                        <td id=\"T_d0f27297_0a1a_11ea_a6fb_107b449f15fcrow2_col0\" class=\"data row2 col0\" >0.08151</td>\n",
       "            </tr>\n",
       "            <tr>\n",
       "                        <th id=\"T_d0f27297_0a1a_11ea_a6fb_107b449f15fclevel0_row3\" class=\"row_heading level0 row3\" >каков_история_развитие</th>\n",
       "                        <td id=\"T_d0f27297_0a1a_11ea_a6fb_107b449f15fcrow3_col0\" class=\"data row3 col0\" >0.08151</td>\n",
       "            </tr>\n",
       "            <tr>\n",
       "                        <th id=\"T_d0f27297_0a1a_11ea_a6fb_107b449f15fclevel0_row4\" class=\"row_heading level0 row4\" >важный_роль_играть</th>\n",
       "                        <td id=\"T_d0f27297_0a1a_11ea_a6fb_107b449f15fcrow4_col0\" class=\"data row4 col0\" >0.06513</td>\n",
       "            </tr>\n",
       "            <tr>\n",
       "                        <th id=\"T_d0f27297_0a1a_11ea_a6fb_107b449f15fclevel0_row5\" class=\"row_heading level0 row5\" >научный_точка_зрение</th>\n",
       "                        <td id=\"T_d0f27297_0a1a_11ea_a6fb_107b449f15fcrow5_col0\" class=\"data row5 col0\" >0.06254</td>\n",
       "            </tr>\n",
       "            <tr>\n",
       "                        <th id=\"T_d0f27297_0a1a_11ea_a6fb_107b449f15fclevel0_row6\" class=\"row_heading level0 row6\" >довольно_большой_количество</th>\n",
       "                        <td id=\"T_d0f27297_0a1a_11ea_a6fb_107b449f15fcrow6_col0\" class=\"data row6 col0\" >0.04172</td>\n",
       "            </tr>\n",
       "            <tr>\n",
       "                        <th id=\"T_d0f27297_0a1a_11ea_a6fb_107b449f15fclevel0_row7\" class=\"row_heading level0 row7\" >существовать_целый_ряд</th>\n",
       "                        <td id=\"T_d0f27297_0a1a_11ea_a6fb_107b449f15fcrow7_col0\" class=\"data row7 col0\" >0.03816</td>\n",
       "            </tr>\n",
       "            <tr>\n",
       "                        <th id=\"T_d0f27297_0a1a_11ea_a6fb_107b449f15fclevel0_row8\" class=\"row_heading level0 row8\" >принятие_политический_решение</th>\n",
       "                        <td id=\"T_d0f27297_0a1a_11ea_a6fb_107b449f15fcrow8_col0\" class=\"data row8 col0\" >0.03502</td>\n",
       "            </tr>\n",
       "            <tr>\n",
       "                        <th id=\"T_d0f27297_0a1a_11ea_a6fb_107b449f15fclevel0_row9\" class=\"row_heading level0 row9\" >особый_интерес_представлять</th>\n",
       "                        <td id=\"T_d0f27297_0a1a_11ea_a6fb_107b449f15fcrow9_col0\" class=\"data row9 col0\" >0.02461</td>\n",
       "            </tr>\n",
       "    </tbody></table><style  type=\"text/css\" >\n",
       "</style><table id=\"T_d0f27298_0a1a_11ea_a6fb_107b449f15fc\" style='display:inline'><thead>    <tr>        <th class=\"blank level0\" ></th>        <th class=\"col_heading level0 col0\" >bcg_30 @post_tag</th>    </tr></thead><tbody>\n",
       "                <tr>\n",
       "                        <th id=\"T_d0f27298_0a1a_11ea_a6fb_107b449f15fclevel0_row0\" class=\"row_heading level0 row0\" >история</th>\n",
       "                        <td id=\"T_d0f27298_0a1a_11ea_a6fb_107b449f15fcrow0_col0\" class=\"data row0 col0\" >0.20124</td>\n",
       "            </tr>\n",
       "            <tr>\n",
       "                        <th id=\"T_d0f27298_0a1a_11ea_a6fb_107b449f15fclevel0_row1\" class=\"row_heading level0 row1\" >культура</th>\n",
       "                        <td id=\"T_d0f27298_0a1a_11ea_a6fb_107b449f15fcrow1_col0\" class=\"data row1 col0\" >0.17773</td>\n",
       "            </tr>\n",
       "            <tr>\n",
       "                        <th id=\"T_d0f27298_0a1a_11ea_a6fb_107b449f15fclevel0_row2\" class=\"row_heading level0 row2\" >общество</th>\n",
       "                        <td id=\"T_d0f27298_0a1a_11ea_a6fb_107b449f15fcrow2_col0\" class=\"data row2 col0\" >0.11129</td>\n",
       "            </tr>\n",
       "            <tr>\n",
       "                        <th id=\"T_d0f27298_0a1a_11ea_a6fb_107b449f15fclevel0_row3\" class=\"row_heading level0 row3\" >россия</th>\n",
       "                        <td id=\"T_d0f27298_0a1a_11ea_a6fb_107b449f15fcrow3_col0\" class=\"data row3 col0\" >0.10934</td>\n",
       "            </tr>\n",
       "            <tr>\n",
       "                        <th id=\"T_d0f27298_0a1a_11ea_a6fb_107b449f15fclevel0_row4\" class=\"row_heading level0 row4\" >литература</th>\n",
       "                        <td id=\"T_d0f27298_0a1a_11ea_a6fb_107b449f15fcrow4_col0\" class=\"data row4 col0\" >0.04388</td>\n",
       "            </tr>\n",
       "            <tr>\n",
       "                        <th id=\"T_d0f27298_0a1a_11ea_a6fb_107b449f15fclevel0_row5\" class=\"row_heading level0 row5\" >биология</th>\n",
       "                        <td id=\"T_d0f27298_0a1a_11ea_a6fb_107b449f15fcrow5_col0\" class=\"data row5 col0\" >0.04276</td>\n",
       "            </tr>\n",
       "            <tr>\n",
       "                        <th id=\"T_d0f27298_0a1a_11ea_a6fb_107b449f15fclevel0_row6\" class=\"row_heading level0 row6\" >государство</th>\n",
       "                        <td id=\"T_d0f27298_0a1a_11ea_a6fb_107b449f15fcrow6_col0\" class=\"data row6 col0\" >0.03366</td>\n",
       "            </tr>\n",
       "            <tr>\n",
       "                        <th id=\"T_d0f27298_0a1a_11ea_a6fb_107b449f15fclevel0_row7\" class=\"row_heading level0 row7\" >политика</th>\n",
       "                        <td id=\"T_d0f27298_0a1a_11ea_a6fb_107b449f15fcrow7_col0\" class=\"data row7 col0\" >0.0263</td>\n",
       "            </tr>\n",
       "            <tr>\n",
       "                        <th id=\"T_d0f27298_0a1a_11ea_a6fb_107b449f15fclevel0_row8\" class=\"row_heading level0 row8\" >литературоведение</th>\n",
       "                        <td id=\"T_d0f27298_0a1a_11ea_a6fb_107b449f15fcrow8_col0\" class=\"data row8 col0\" >0.02156</td>\n",
       "            </tr>\n",
       "            <tr>\n",
       "                        <th id=\"T_d0f27298_0a1a_11ea_a6fb_107b449f15fclevel0_row9\" class=\"row_heading level0 row9\" >детство</th>\n",
       "                        <td id=\"T_d0f27298_0a1a_11ea_a6fb_107b449f15fcrow9_col0\" class=\"data row9 col0\" >0.00735</td>\n",
       "            </tr>\n",
       "    </tbody></table><style  type=\"text/css\" >\n",
       "</style><table id=\"T_d0f27299_0a1a_11ea_a6fb_107b449f15fc\" style='display:inline'><thead>    <tr>        <th class=\"blank level0\" ></th>        <th class=\"col_heading level0 col0\" >bcg_30 @word</th>    </tr></thead><tbody>\n",
       "                <tr>\n",
       "                        <th id=\"T_d0f27299_0a1a_11ea_a6fb_107b449f15fclevel0_row0\" class=\"row_heading level0 row0\" >большой</th>\n",
       "                        <td id=\"T_d0f27299_0a1a_11ea_a6fb_107b449f15fcrow0_col0\" class=\"data row0 col0\" >0.00515</td>\n",
       "            </tr>\n",
       "            <tr>\n",
       "                        <th id=\"T_d0f27299_0a1a_11ea_a6fb_107b449f15fclevel0_row1\" class=\"row_heading level0 row1\" >говорить</th>\n",
       "                        <td id=\"T_d0f27299_0a1a_11ea_a6fb_107b449f15fcrow1_col0\" class=\"data row1 col0\" >0.00232</td>\n",
       "            </tr>\n",
       "            <tr>\n",
       "                        <th id=\"T_d0f27299_0a1a_11ea_a6fb_107b449f15fclevel0_row2\" class=\"row_heading level0 row2\" >существовать</th>\n",
       "                        <td id=\"T_d0f27299_0a1a_11ea_a6fb_107b449f15fcrow2_col0\" class=\"data row2 col0\" >0.00228</td>\n",
       "            </tr>\n",
       "            <tr>\n",
       "                        <th id=\"T_d0f27299_0a1a_11ea_a6fb_107b449f15fclevel0_row3\" class=\"row_heading level0 row3\" >являться</th>\n",
       "                        <td id=\"T_d0f27299_0a1a_11ea_a6fb_107b449f15fcrow3_col0\" class=\"data row3 col0\" >0.00206</td>\n",
       "            </tr>\n",
       "            <tr>\n",
       "                        <th id=\"T_d0f27299_0a1a_11ea_a6fb_107b449f15fclevel0_row4\" class=\"row_heading level0 row4\" >стать</th>\n",
       "                        <td id=\"T_d0f27299_0a1a_11ea_a6fb_107b449f15fcrow4_col0\" class=\"data row4 col0\" >0.00186</td>\n",
       "            </tr>\n",
       "            <tr>\n",
       "                        <th id=\"T_d0f27299_0a1a_11ea_a6fb_107b449f15fclevel0_row5\" class=\"row_heading level0 row5\" >происходить</th>\n",
       "                        <td id=\"T_d0f27299_0a1a_11ea_a6fb_107b449f15fcrow5_col0\" class=\"data row5 col0\" >0.00161</td>\n",
       "            </tr>\n",
       "            <tr>\n",
       "                        <th id=\"T_d0f27299_0a1a_11ea_a6fb_107b449f15fclevel0_row6\" class=\"row_heading level0 row6\" >образ</th>\n",
       "                        <td id=\"T_d0f27299_0a1a_11ea_a6fb_107b449f15fcrow6_col0\" class=\"data row6 col0\" >0.00152</td>\n",
       "            </tr>\n",
       "            <tr>\n",
       "                        <th id=\"T_d0f27299_0a1a_11ea_a6fb_107b449f15fclevel0_row7\" class=\"row_heading level0 row7\" >должный</th>\n",
       "                        <td id=\"T_d0f27299_0a1a_11ea_a6fb_107b449f15fcrow7_col0\" class=\"data row7 col0\" >0.00146</td>\n",
       "            </tr>\n",
       "            <tr>\n",
       "                        <th id=\"T_d0f27299_0a1a_11ea_a6fb_107b449f15fclevel0_row8\" class=\"row_heading level0 row8\" >знать</th>\n",
       "                        <td id=\"T_d0f27299_0a1a_11ea_a6fb_107b449f15fcrow8_col0\" class=\"data row8 col0\" >0.0014</td>\n",
       "            </tr>\n",
       "            <tr>\n",
       "                        <th id=\"T_d0f27299_0a1a_11ea_a6fb_107b449f15fclevel0_row9\" class=\"row_heading level0 row9\" >книга</th>\n",
       "                        <td id=\"T_d0f27299_0a1a_11ea_a6fb_107b449f15fcrow9_col0\" class=\"data row9 col0\" >0.00139</td>\n",
       "            </tr>\n",
       "    </tbody></table>"
      ]
     },
     "metadata": {},
     "output_type": "display_data"
    },
    {
     "data": {
      "text/html": [
       "<b> читательский опыт </b><br /> культуролог ирина каспэ об антропологическом повороте, рецептивной эстетике и степени свободы читателя"
      ]
     },
     "metadata": {},
     "output_type": "display_data"
    },
    {
     "data": {
      "text/html": [
       "<b> трансформация детства </b><br /> философ и культуролог виталий куренной о концепции нейла постмана, отсутствии секретов и обществе знания"
      ]
     },
     "metadata": {},
     "output_type": "display_data"
    },
    {
     "data": {
      "text/html": [
       "<b> осип мандельштам </b><br /> литературовед олег лекманов о воспоминаниях надежды мандельштам, понятии «подтекст» и подмене статьи лидии гинзбург"
      ]
     },
     "metadata": {},
     "output_type": "display_data"
    },
    {
     "data": {
      "text/html": [
       "<b> разрушение кооперации </b><br /> биолог петр турчин о структурно-демографической теории, негативных фазах жизни общества и влиянии элиты"
      ]
     },
     "metadata": {},
     "output_type": "display_data"
    },
    {
     "data": {
      "text/html": [
       "<b> постсоветский этнический конфликт </b><br /> востоковед алексей малашенко об отмене советских запретов, неизбежности конфликта и выборе идентичности"
      ]
     },
     "metadata": {},
     "output_type": "display_data"
    },
    {
     "data": {
      "text/html": [
       "<b> что читать«писать поперек» абрама рейтблата </b><br /> гасан гусейнов рекомендуетсамая интересная книга о русской литературной истории"
      ]
     },
     "metadata": {},
     "output_type": "display_data"
    },
    {
     "data": {
      "text/html": [
       "<b> транснациональная история </b><br /> историк дина гусейнова о национальных интересах,  «оборонсервисе» и наследии первой мировой войны"
      ]
     },
     "metadata": {},
     "output_type": "display_data"
    },
    {
     "data": {
      "text/html": [
       "<b> акмеизм </b><br /> литературовед олег лекманов о русской семантической поэтике, анне ахматовой и  главном принципе акмеизма"
      ]
     },
     "metadata": {},
     "output_type": "display_data"
    },
    {
     "data": {
      "text/html": [
       "<b> литературный мир «хоббита» </b><br /> филолог мария штейнман о литературной игре, особенностях стиля толкина и трех уровнях «хоббита»"
      ]
     },
     "metadata": {},
     "output_type": "display_data"
    },
    {
     "data": {
      "text/html": [
       "<b> крылов и народность </b><br /> филолог екатерина лямина о биографии писателя, актуальности его наследия и влиянии на русскую культуру"
      ]
     },
     "metadata": {},
     "output_type": "display_data"
    }
   ],
   "source": [
    "from IPython.display import display_html, display\n",
    "from topicnet.cooking_machine.dataset import get_modality_vw\n",
    "\n",
    "\n",
    "n=None\n",
    "for line, topic_docs in list(zip(first_model_html, first_model_top_doc))[:n]:\n",
    "    display_html(line, raw=True)\n",
    "    for doc_id in topic_docs:\n",
    "        doc_vw = dataset.get_vw_document(doc_id).values[0][0]\n",
    "        doc_title = get_modality_vw(doc_vw, \"@title\")\n",
    "        doc_snippet = get_modality_vw(doc_vw, \"@snippet\")\n",
    "        display_html(f\"<b>{doc_title}</b><br />{doc_snippet}\", raw=True)"
   ]
  },
  {
   "cell_type": "code",
   "execution_count": 22,
   "metadata": {},
   "outputs": [
    {
     "data": {
      "text/plain": [
       "{'@2gramm': 8.780309757546435,\n",
       " '@word': 1.0,\n",
       " '@post_tag': 79.51461372081415,\n",
       " '@3gramm': 245.1655266757866}"
      ]
     },
     "execution_count": 22,
     "metadata": {},
     "output_type": "execute_result"
    }
   ],
   "source": [
    "best_model.class_ids"
   ]
  }
 ],
 "metadata": {
  "kernelspec": {
   "display_name": "Python [conda env:root] *",
   "language": "python",
   "name": "conda-root-py"
  },
  "language_info": {
   "codemirror_mode": {
    "name": "ipython",
    "version": 3
   },
   "file_extension": ".py",
   "mimetype": "text/x-python",
   "name": "python",
   "nbconvert_exporter": "python",
   "pygments_lexer": "ipython3",
   "version": "3.6.9"
  }
 },
 "nbformat": 4,
 "nbformat_minor": 2
}
