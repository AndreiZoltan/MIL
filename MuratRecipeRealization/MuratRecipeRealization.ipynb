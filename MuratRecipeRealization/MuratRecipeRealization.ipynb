{
 "cells": [
  {
   "cell_type": "code",
   "execution_count": 1,
   "metadata": {},
   "outputs": [],
   "source": [
    "import numpy as np\n",
    "import pandas as pd\n",
    "import matplotlib.pyplot as plt\n",
    "%matplotlib inline\n",
    "import os\n",
    "import time\n",
    "import artm\n",
    "\n",
    "# change log style\n",
    "lc = artm.messages.ConfigureLoggingArgs()\n",
    "lc.minloglevel = 3\n",
    "lib = artm.wrapper.LibArtm(logging_config=lc)\n",
    "\n",
    "import warnings\n",
    "warnings.filterwarnings(\"ignore\", category=DeprecationWarning)"
   ]
  },
  {
   "cell_type": "code",
   "execution_count": 2,
   "metadata": {},
   "outputs": [],
   "source": [
    "from copy import deepcopy\n",
    "from topicnet.cooking_machine.models.topic_model import TopicModel\n",
    "from topicnet.cooking_machine.cubes import RegularizersModifierCube\n",
    "from topicnet.cooking_machine.models.blei_lafferty_score import BleiLaffertyScore\n",
    "\n",
    "from topicnet.cooking_machine.experiment import Experiment\n",
    "from topicnet.cooking_machine.cubes import *\n",
    "from topicnet.cooking_machine.dataset import Dataset\n",
    "\n",
    "%load_ext autoreload\n",
    "%autoreload 2"
   ]
  },
  {
   "cell_type": "code",
   "execution_count": 3,
   "metadata": {},
   "outputs": [],
   "source": [
    "import topicnet.cooking_machine.cubes as tncubes"
   ]
  },
  {
   "cell_type": "code",
   "execution_count": 4,
   "metadata": {},
   "outputs": [
    {
     "data": {
      "text/html": [
       "<style>\n",
       ".container { width:90% !important; }\n",
       "div.output_scroll .output_subarea { white-space: pre; }\n",
       "</style>"
      ],
      "text/plain": [
       "<IPython.core.display.HTML object>"
      ]
     },
     "metadata": {},
     "output_type": "display_data"
    }
   ],
   "source": [
    "from IPython.core.display import display, HTML\n",
    "from IPython.display import clear_output, display_html\n",
    "display(HTML(\"\"\"<style>\n",
    ".container { width:90% !important; }\n",
    "div.output_scroll .output_subarea { white-space: pre; }\n",
    "</style>\"\"\"))"
   ]
  },
  {
   "cell_type": "markdown",
   "metadata": {},
   "source": [
    "### Get dataset"
   ]
  },
  {
   "cell_type": "code",
   "execution_count": 5,
   "metadata": {},
   "outputs": [],
   "source": [
    "DATA_PATH = \"Pscience.csv\""
   ]
  },
  {
   "cell_type": "code",
   "execution_count": 6,
   "metadata": {},
   "outputs": [],
   "source": [
    "dataset = Dataset(DATA_PATH)\n",
    "dictionary = dataset.get_dictionary()"
   ]
  },
  {
   "cell_type": "markdown",
   "metadata": {},
   "source": [
    "### Make initial model"
   ]
  },
  {
   "cell_type": "code",
   "execution_count": 7,
   "metadata": {},
   "outputs": [
    {
     "data": {
      "text/plain": [
       "[PerplexityScore@all, SparsityThetaScore, SparsityPhiScore@word, PerplexityScore@word, TopicKernel@word]"
      ]
     },
     "execution_count": 7,
     "metadata": {},
     "output_type": "execute_result"
    }
   ],
   "source": [
    "from topicnet.cooking_machine.model_constructor import init_simple_default_model\n",
    "\n",
    "n_topics = 200\n",
    "n_background = 10\n",
    "model_artm = init_simple_default_model(\n",
    "    dataset=dataset,\n",
    "    modalities_to_use=dataset.get_possible_modalities(),\n",
    "    main_modality='@word',\n",
    "    specific_topics=n_topics - n_background,\n",
    "    background_topics=n_background,\n",
    ")\n",
    "specific_topics, background_topics = model_artm.topic_names[:-n_background], model_artm.topic_names[-n_background:]\n",
    "model_artm.scores"
   ]
  },
  {
   "cell_type": "code",
   "execution_count": 8,
   "metadata": {},
   "outputs": [],
   "source": [
    "model_artm.regularizers.add(artm.DecorrelatorPhiRegularizer(\n",
    "        name=\"decorrelation_phi\",\n",
    "        topic_names=specific_topics,\n",
    "        class_ids=dataset.get_possible_modalities()))\n",
    "model_artm.regularizers.add(artm.SmoothSparsePhiRegularizer(\n",
    "        name=\"smooth_phi\",\n",
    "        topic_names=background_topics,\n",
    "        class_ids=dataset.get_possible_modalities(),\n",
    "        tau=0.1))\n",
    "model_artm.regularizers.add(artm.SmoothSparseThetaRegularizer(\n",
    "        name=\"smooth_theta\",\n",
    "        topic_names=background_topics,\n",
    "        tau=0.1))"
   ]
  },
  {
   "cell_type": "markdown",
   "metadata": {},
   "source": [
    "### Define Topic Model"
   ]
  },
  {
   "cell_type": "code",
   "execution_count": 9,
   "metadata": {},
   "outputs": [
    {
     "data": {
      "text/plain": [
       "{'BleiLaffertyScore': <topicnet.cooking_machine.models.blei_lafferty_score.BleiLaffertyScore at 0x7f5ffeebd2b0>}"
      ]
     },
     "execution_count": 9,
     "metadata": {},
     "output_type": "execute_result"
    }
   ],
   "source": [
    "model = TopicModel(model_artm, model_id='MuratDemo', scores=\"BleiLaffertyScore\")\n",
    "model.custom_scores['BleiLaffertyScore'] = BleiLaffertyScore()\n",
    "model.custom_scores"
   ]
  },
  {
   "cell_type": "code",
   "execution_count": 10,
   "metadata": {},
   "outputs": [],
   "source": [
    "from topicnet.cooking_machine.experiment import Experiment\n",
    "if os.path.exists(f'./MuratDemo') == True:\n",
    "    os.system(\"rm -rf ./MuratDemo\")\n",
    "experiment = Experiment(experiment_id='MuratDemo', save_path='MuratDemo', topic_model=model)"
   ]
  },
  {
   "cell_type": "markdown",
   "metadata": {},
   "source": [
    "### Cubes"
   ]
  },
  {
   "cell_type": "code",
   "execution_count": 11,
   "metadata": {},
   "outputs": [],
   "source": [
    "cube_0 = RegularizersModifierCube(\n",
    "    num_iter=1,\n",
    "    reg_search='grid',\n",
    "    regularizer_parameters=[{\n",
    "            'name':\"smooth_phi\",\n",
    "            'tau_grid':[0.1]},\n",
    "        {\n",
    "            'name':\"smooth_theta\",\n",
    "            'tau_grid':[0.1]\n",
    "        }],\n",
    "    verbose=False,\n",
    "    relative_coefficients=True)\n",
    "cube_1 = RegularizersModifierCube(\n",
    "    num_iter=20,\n",
    "    reg_search='add',\n",
    "    strategy=PerplexityStrategy(\n",
    "            start_point=0,\n",
    "            step=1000,\n",
    "            max_len=10000),\n",
    "    regularizer_parameters={\n",
    "        'name':\"decorrelation_phi\"},\n",
    "    # parameters of this strategy are intended for revision\n",
    "    tracked_score_function=retrieve_score_for_strategy('PerplexityScore@all'),\n",
    "    verbose=False,\n",
    "    relative_coefficients=False)"
   ]
  },
  {
   "cell_type": "code",
   "execution_count": 12,
   "metadata": {},
   "outputs": [
    {
     "name": "stdout",
     "output_type": "stream",
     "text": [
      "--- 32.610719203948975 seconds ---\n"
     ]
    }
   ],
   "source": [
    "start_time = time.time()\n",
    "models = cube_0(model, dataset)\n",
    "print(\"--- %s seconds ---\" % (time.time() - start_time))"
   ]
  },
  {
   "cell_type": "code",
   "execution_count": 13,
   "metadata": {},
   "outputs": [],
   "source": [
    "models = experiment.select(f'PerplexityScore@all -> min COLLECT 1')"
   ]
  },
  {
   "cell_type": "code",
   "execution_count": 14,
   "metadata": {},
   "outputs": [
    {
     "name": "stderr",
     "output_type": "stream",
     "text": [
      "/home/sultan/miniconda3/lib/python3.6/site-packages/topicnet/cooking_machine/cubes/base_cube.py:278: UserWarning: Perplexity is too high for threshold 1.05\n",
      "  warnings.warn(warning[0])\n"
     ]
    },
    {
     "name": "stdout",
     "output_type": "stream",
     "text": [
      "--- 6446.833783149719 seconds ---\n"
     ]
    }
   ],
   "source": [
    "start_time = time.time()\n",
    "models = cube_1(models, dataset)\n",
    "print(\"--- %s seconds ---\" % (time.time() - start_time))"
   ]
  },
  {
   "cell_type": "code",
   "execution_count": 33,
   "metadata": {},
   "outputs": [],
   "source": [
    "models = experiment.select(f'PerplexityScore@all < 1.01 * MINIMUM(PerplexityScore@all) and BleiLaffertyScore -> max')"
   ]
  },
  {
   "cell_type": "code",
   "execution_count": 34,
   "metadata": {},
   "outputs": [
    {
     "data": {
      "image/png": "[encoded data removed]",
      "text/plain": [
       "<Figure size 576x576 with 1 Axes>"
      ]
     },
     "metadata": {
      "needs_background": "light"
     },
     "output_type": "display_data"
    }
   ],
   "source": [
    "from matplotlib import cm\n",
    "import numpy as np\n",
    "\n",
    "\n",
    "tms = experiment.models\n",
    "colors = np.linspace(0, 0.65, len(tms))\n",
    "\n",
    "plt.figure(figsize=(8,8))\n",
    "for i, tm in enumerate(list(tms.values())[1:]):\n",
    "    score = tm.scores['TopicKernel@word.average_purity']\n",
    "    plt.plot(score, color=cm.Blues(colors[i]))\n",
    "    score = tm.scores['TopicKernel@word.average_contrast']\n",
    "    plt.plot(score, color=cm.Reds(colors[i]))\n",
    "    score = tm.scores['SparsityThetaScore']\n",
    "    plt.plot(score, color=cm.Greens(colors[i]))\n",
    "plt.show()"
   ]
  },
  {
   "cell_type": "code",
   "execution_count": 35,
   "metadata": {},
   "outputs": [
    {
     "data": {
      "image/png": "[encoded data removed]",
      "text/plain": [
       "<Figure size 576x576 with 1 Axes>"
      ]
     },
     "metadata": {
      "needs_background": "light"
     },
     "output_type": "display_data"
    }
   ],
   "source": [
    "tms = experiment.models\n",
    "colors = np.linspace(0, 0.65, len(tms))\n",
    "\n",
    "plt.figure(figsize=(8,8))\n",
    "for i, tm in enumerate(list(tms.values())[1:]):\n",
    "    score = tm.scores['PerplexityScore@all']\n",
    "    plt.plot(score[1:], color=cm.Blues(colors[i]))\n",
    "plt.show()"
   ]
  },
  {
   "cell_type": "markdown",
   "metadata": {},
   "source": [
    "### Investigate model"
   ]
  },
  {
   "cell_type": "code",
   "execution_count": 36,
   "metadata": {},
   "outputs": [],
   "source": [
    "best_model = models[0]"
   ]
  },
  {
   "cell_type": "code",
   "execution_count": 37,
   "metadata": {},
   "outputs": [],
   "source": [
    "from topicnet.viewers.top_tokens_viewer import TopTokensViewer\n",
    "from topicnet.viewers.top_documents_viewer import TopDocumentsViewer\n",
    "from IPython.display import display_html, display\n",
    "from topicnet.cooking_machine.dataset import get_modality_vw"
   ]
  },
  {
   "cell_type": "code",
   "execution_count": 38,
   "metadata": {},
   "outputs": [],
   "source": [
    "thresh = 1e-5\n",
    "first_model_top_tok = TopTokensViewer(best_model, num_top_tokens=10, method='phi')\n",
    "first_model_html =  first_model_top_tok.to_html(first_model_top_tok.view(),thresh=thresh)\n",
    "first_model_top_doc = TopDocumentsViewer(best_model, dataset=dataset).view()"
   ]
  },
  {
   "cell_type": "code",
   "execution_count": 39,
   "metadata": {},
   "outputs": [
    {
     "data": {
      "text/html": [
       "<style  type=\"text/css\" >\n",
       "</style><table id=\"T_dec95936_0473_11ea_a6fb_107b449f15fc\" style='display:inline'><thead>    <tr>        <th class=\"blank level0\" ></th>        <th class=\"col_heading level0 col0\" >topic_0 @word</th>    </tr></thead><tbody>\n",
       "                <tr>\n",
       "                        <th id=\"T_dec95936_0473_11ea_a6fb_107b449f15fclevel0_row0\" class=\"row_heading level0 row0\" >rutube</th>\n",
       "                        <td id=\"T_dec95936_0473_11ea_a6fb_107b449f15fcrow0_col0\" class=\"data row0 col0\" >0.02159</td>\n",
       "            </tr>\n",
       "            <tr>\n",
       "                        <th id=\"T_dec95936_0473_11ea_a6fb_107b449f15fclevel0_row1\" class=\"row_heading level0 row1\" >рождение</th>\n",
       "                        <td id=\"T_dec95936_0473_11ea_a6fb_107b449f15fcrow1_col0\" class=\"data row1 col0\" >0.02022</td>\n",
       "            </tr>\n",
       "            <tr>\n",
       "                        <th id=\"T_dec95936_0473_11ea_a6fb_107b449f15fclevel0_row2\" class=\"row_heading level0 row2\" >архитектура</th>\n",
       "                        <td id=\"T_dec95936_0473_11ea_a6fb_107b449f15fcrow2_col0\" class=\"data row2 col0\" >0.01822</td>\n",
       "            </tr>\n",
       "            <tr>\n",
       "                        <th id=\"T_dec95936_0473_11ea_a6fb_107b449f15fclevel0_row3\" class=\"row_heading level0 row3\" >неплохой</th>\n",
       "                        <td id=\"T_dec95936_0473_11ea_a6fb_107b449f15fcrow3_col0\" class=\"data row3 col0\" >0.01363</td>\n",
       "            </tr>\n",
       "            <tr>\n",
       "                        <th id=\"T_dec95936_0473_11ea_a6fb_107b449f15fclevel0_row4\" class=\"row_heading level0 row4\" >обещание</th>\n",
       "                        <td id=\"T_dec95936_0473_11ea_a6fb_107b449f15fcrow4_col0\" class=\"data row4 col0\" >0.00937</td>\n",
       "            </tr>\n",
       "            <tr>\n",
       "                        <th id=\"T_dec95936_0473_11ea_a6fb_107b449f15fclevel0_row5\" class=\"row_heading level0 row5\" >модератор</th>\n",
       "                        <td id=\"T_dec95936_0473_11ea_a6fb_107b449f15fcrow5_col0\" class=\"data row5 col0\" >0.00784</td>\n",
       "            </tr>\n",
       "            <tr>\n",
       "                        <th id=\"T_dec95936_0473_11ea_a6fb_107b449f15fclevel0_row6\" class=\"row_heading level0 row6\" >russia</th>\n",
       "                        <td id=\"T_dec95936_0473_11ea_a6fb_107b449f15fcrow6_col0\" class=\"data row6 col0\" >0.0077</td>\n",
       "            </tr>\n",
       "            <tr>\n",
       "                        <th id=\"T_dec95936_0473_11ea_a6fb_107b449f15fclevel0_row7\" class=\"row_heading level0 row7\" >проектирование</th>\n",
       "                        <td id=\"T_dec95936_0473_11ea_a6fb_107b449f15fcrow7_col0\" class=\"data row7 col0\" >0.00671</td>\n",
       "            </tr>\n",
       "            <tr>\n",
       "                        <th id=\"T_dec95936_0473_11ea_a6fb_107b449f15fclevel0_row8\" class=\"row_heading level0 row8\" >воровать</th>\n",
       "                        <td id=\"T_dec95936_0473_11ea_a6fb_107b449f15fcrow8_col0\" class=\"data row8 col0\" >0.00555</td>\n",
       "            </tr>\n",
       "            <tr>\n",
       "                        <th id=\"T_dec95936_0473_11ea_a6fb_107b449f15fclevel0_row9\" class=\"row_heading level0 row9\" >партнёрский</th>\n",
       "                        <td id=\"T_dec95936_0473_11ea_a6fb_107b449f15fcrow9_col0\" class=\"data row9 col0\" >0.00457</td>\n",
       "            </tr>\n",
       "    </tbody></table>"
      ]
     },
     "metadata": {},
     "output_type": "display_data"
    },
    {
     "data": {
      "text/html": [
       "<b></b>"
      ]
     },
     "metadata": {},
     "output_type": "display_data"
    },
    {
     "data": {
      "text/html": [
       "<b></b>"
      ]
     },
     "metadata": {},
     "output_type": "display_data"
    },
    {
     "data": {
      "text/html": [
       "<b></b>"
      ]
     },
     "metadata": {},
     "output_type": "display_data"
    },
    {
     "data": {
      "text/html": [
       "<b></b>"
      ]
     },
     "metadata": {},
     "output_type": "display_data"
    },
    {
     "data": {
      "text/html": [
       "<b></b>"
      ]
     },
     "metadata": {},
     "output_type": "display_data"
    },
    {
     "data": {
      "text/html": [
       "<b></b>"
      ]
     },
     "metadata": {},
     "output_type": "display_data"
    },
    {
     "data": {
      "text/html": [
       "<b></b>"
      ]
     },
     "metadata": {},
     "output_type": "display_data"
    },
    {
     "data": {
      "text/html": [
       "<b></b>"
      ]
     },
     "metadata": {},
     "output_type": "display_data"
    },
    {
     "data": {
      "text/html": [
       "<b></b>"
      ]
     },
     "metadata": {},
     "output_type": "display_data"
    },
    {
     "data": {
      "text/html": [
       "<b></b>"
      ]
     },
     "metadata": {},
     "output_type": "display_data"
    },
    {
     "data": {
      "text/html": [
       "<style  type=\"text/css\" >\n",
       "</style><table id=\"T_dec95937_0473_11ea_a6fb_107b449f15fc\" style='display:inline'><thead>    <tr>        <th class=\"blank level0\" ></th>        <th class=\"col_heading level0 col0\" >topic_1 @word</th>    </tr></thead><tbody>\n",
       "                <tr>\n",
       "                        <th id=\"T_dec95937_0473_11ea_a6fb_107b449f15fclevel0_row0\" class=\"row_heading level0 row0\" >запрет</th>\n",
       "                        <td id=\"T_dec95937_0473_11ea_a6fb_107b449f15fcrow0_col0\" class=\"data row0 col0\" >0.03257</td>\n",
       "            </tr>\n",
       "            <tr>\n",
       "                        <th id=\"T_dec95937_0473_11ea_a6fb_107b449f15fclevel0_row1\" class=\"row_heading level0 row1\" >дробный</th>\n",
       "                        <td id=\"T_dec95937_0473_11ea_a6fb_107b449f15fcrow1_col0\" class=\"data row1 col0\" >0.0302</td>\n",
       "            </tr>\n",
       "            <tr>\n",
       "                        <th id=\"T_dec95937_0473_11ea_a6fb_107b449f15fclevel0_row2\" class=\"row_heading level0 row2\" >ранжирование</th>\n",
       "                        <td id=\"T_dec95937_0473_11ea_a6fb_107b449f15fcrow2_col0\" class=\"data row2 col0\" >0.01862</td>\n",
       "            </tr>\n",
       "            <tr>\n",
       "                        <th id=\"T_dec95937_0473_11ea_a6fb_107b449f15fclevel0_row3\" class=\"row_heading level0 row3\" >азартный</th>\n",
       "                        <td id=\"T_dec95937_0473_11ea_a6fb_107b449f15fcrow3_col0\" class=\"data row3 col0\" >0.01546</td>\n",
       "            </tr>\n",
       "            <tr>\n",
       "                        <th id=\"T_dec95937_0473_11ea_a6fb_107b449f15fclevel0_row4\" class=\"row_heading level0 row4\" >коэффициент</th>\n",
       "                        <td id=\"T_dec95937_0473_11ea_a6fb_107b449f15fcrow4_col0\" class=\"data row4 col0\" >0.00779</td>\n",
       "            </tr>\n",
       "            <tr>\n",
       "                        <th id=\"T_dec95937_0473_11ea_a6fb_107b449f15fclevel0_row5\" class=\"row_heading level0 row5\" >фильтр</th>\n",
       "                        <td id=\"T_dec95937_0473_11ea_a6fb_107b449f15fcrow5_col0\" class=\"data row5 col0\" >0.00716</td>\n",
       "            </tr>\n",
       "            <tr>\n",
       "                        <th id=\"T_dec95937_0473_11ea_a6fb_107b449f15fclevel0_row6\" class=\"row_heading level0 row6\" >wsgi</th>\n",
       "                        <td id=\"T_dec95937_0473_11ea_a6fb_107b449f15fcrow6_col0\" class=\"data row6 col0\" >0.00647</td>\n",
       "            </tr>\n",
       "            <tr>\n",
       "                        <th id=\"T_dec95937_0473_11ea_a6fb_107b449f15fclevel0_row7\" class=\"row_heading level0 row7\" >критерий</th>\n",
       "                        <td id=\"T_dec95937_0473_11ea_a6fb_107b449f15fcrow7_col0\" class=\"data row7 col0\" >0.00592</td>\n",
       "            </tr>\n",
       "            <tr>\n",
       "                        <th id=\"T_dec95937_0473_11ea_a6fb_107b449f15fclevel0_row8\" class=\"row_heading level0 row8\" >казино</th>\n",
       "                        <td id=\"T_dec95937_0473_11ea_a6fb_107b449f15fcrow8_col0\" class=\"data row8 col0\" >0.00589</td>\n",
       "            </tr>\n",
       "            <tr>\n",
       "                        <th id=\"T_dec95937_0473_11ea_a6fb_107b449f15fclevel0_row9\" class=\"row_heading level0 row9\" >актуальность</th>\n",
       "                        <td id=\"T_dec95937_0473_11ea_a6fb_107b449f15fcrow9_col0\" class=\"data row9 col0\" >0.00537</td>\n",
       "            </tr>\n",
       "    </tbody></table>"
      ]
     },
     "metadata": {},
     "output_type": "display_data"
    },
    {
     "data": {
      "text/html": [
       "<b></b>"
      ]
     },
     "metadata": {},
     "output_type": "display_data"
    },
    {
     "data": {
      "text/html": [
       "<b></b>"
      ]
     },
     "metadata": {},
     "output_type": "display_data"
    },
    {
     "data": {
      "text/html": [
       "<b></b>"
      ]
     },
     "metadata": {},
     "output_type": "display_data"
    },
    {
     "data": {
      "text/html": [
       "<b></b>"
      ]
     },
     "metadata": {},
     "output_type": "display_data"
    },
    {
     "data": {
      "text/html": [
       "<b></b>"
      ]
     },
     "metadata": {},
     "output_type": "display_data"
    },
    {
     "data": {
      "text/html": [
       "<b></b>"
      ]
     },
     "metadata": {},
     "output_type": "display_data"
    },
    {
     "data": {
      "text/html": [
       "<b></b>"
      ]
     },
     "metadata": {},
     "output_type": "display_data"
    },
    {
     "data": {
      "text/html": [
       "<b></b>"
      ]
     },
     "metadata": {},
     "output_type": "display_data"
    },
    {
     "data": {
      "text/html": [
       "<b></b>"
      ]
     },
     "metadata": {},
     "output_type": "display_data"
    },
    {
     "data": {
      "text/html": [
       "<b></b>"
      ]
     },
     "metadata": {},
     "output_type": "display_data"
    },
    {
     "data": {
      "text/html": [
       "<style  type=\"text/css\" >\n",
       "</style><table id=\"T_dec95938_0473_11ea_a6fb_107b449f15fc\" style='display:inline'><thead>    <tr>        <th class=\"blank level0\" ></th>        <th class=\"col_heading level0 col0\" >topic_2 @word</th>    </tr></thead><tbody>\n",
       "                <tr>\n",
       "                        <th id=\"T_dec95938_0473_11ea_a6fb_107b449f15fclevel0_row0\" class=\"row_heading level0 row0\" >тв</th>\n",
       "                        <td id=\"T_dec95938_0473_11ea_a6fb_107b449f15fcrow0_col0\" class=\"data row0 col0\" >0.04248</td>\n",
       "            </tr>\n",
       "            <tr>\n",
       "                        <th id=\"T_dec95938_0473_11ea_a6fb_107b449f15fclevel0_row1\" class=\"row_heading level0 row1\" >широкополосный</th>\n",
       "                        <td id=\"T_dec95938_0473_11ea_a6fb_107b449f15fcrow1_col0\" class=\"data row1 col0\" >0.03829</td>\n",
       "            </tr>\n",
       "            <tr>\n",
       "                        <th id=\"T_dec95938_0473_11ea_a6fb_107b449f15fclevel0_row2\" class=\"row_heading level0 row2\" >телевидение</th>\n",
       "                        <td id=\"T_dec95938_0473_11ea_a6fb_107b449f15fcrow2_col0\" class=\"data row2 col0\" >0.0333</td>\n",
       "            </tr>\n",
       "            <tr>\n",
       "                        <th id=\"T_dec95938_0473_11ea_a6fb_107b449f15fclevel0_row3\" class=\"row_heading level0 row3\" >тариф</th>\n",
       "                        <td id=\"T_dec95938_0473_11ea_a6fb_107b449f15fcrow3_col0\" class=\"data row3 col0\" >0.03041</td>\n",
       "            </tr>\n",
       "            <tr>\n",
       "                        <th id=\"T_dec95938_0473_11ea_a6fb_107b449f15fclevel0_row4\" class=\"row_heading level0 row4\" >стрим</th>\n",
       "                        <td id=\"T_dec95938_0473_11ea_a6fb_107b449f15fcrow4_col0\" class=\"data row4 col0\" >0.02453</td>\n",
       "            </tr>\n",
       "            <tr>\n",
       "                        <th id=\"T_dec95938_0473_11ea_a6fb_107b449f15fclevel0_row5\" class=\"row_heading level0 row5\" >предоставление</th>\n",
       "                        <td id=\"T_dec95938_0473_11ea_a6fb_107b449f15fcrow5_col0\" class=\"data row5 col0\" >0.02292</td>\n",
       "            </tr>\n",
       "            <tr>\n",
       "                        <th id=\"T_dec95938_0473_11ea_a6fb_107b449f15fclevel0_row6\" class=\"row_heading level0 row6\" >тарифный</th>\n",
       "                        <td id=\"T_dec95938_0473_11ea_a6fb_107b449f15fcrow6_col0\" class=\"data row6 col0\" >0.02069</td>\n",
       "            </tr>\n",
       "            <tr>\n",
       "                        <th id=\"T_dec95938_0473_11ea_a6fb_107b449f15fclevel0_row7\" class=\"row_heading level0 row7\" >мтуинтел</th>\n",
       "                        <td id=\"T_dec95938_0473_11ea_a6fb_107b449f15fcrow7_col0\" class=\"data row7 col0\" >0.01581</td>\n",
       "            </tr>\n",
       "            <tr>\n",
       "                        <th id=\"T_dec95938_0473_11ea_a6fb_107b449f15fclevel0_row8\" class=\"row_heading level0 row8\" >кабельный</th>\n",
       "                        <td id=\"T_dec95938_0473_11ea_a6fb_107b449f15fcrow8_col0\" class=\"data row8 col0\" >0.01573</td>\n",
       "            </tr>\n",
       "            <tr>\n",
       "                        <th id=\"T_dec95938_0473_11ea_a6fb_107b449f15fclevel0_row9\" class=\"row_heading level0 row9\" >абонентский</th>\n",
       "                        <td id=\"T_dec95938_0473_11ea_a6fb_107b449f15fcrow9_col0\" class=\"data row9 col0\" >0.01545</td>\n",
       "            </tr>\n",
       "    </tbody></table>"
      ]
     },
     "metadata": {},
     "output_type": "display_data"
    },
    {
     "data": {
      "text/html": [
       "<b></b>"
      ]
     },
     "metadata": {},
     "output_type": "display_data"
    },
    {
     "data": {
      "text/html": [
       "<b></b>"
      ]
     },
     "metadata": {},
     "output_type": "display_data"
    },
    {
     "data": {
      "text/html": [
       "<b></b>"
      ]
     },
     "metadata": {},
     "output_type": "display_data"
    },
    {
     "data": {
      "text/html": [
       "<b></b>"
      ]
     },
     "metadata": {},
     "output_type": "display_data"
    },
    {
     "data": {
      "text/html": [
       "<b></b>"
      ]
     },
     "metadata": {},
     "output_type": "display_data"
    },
    {
     "data": {
      "text/html": [
       "<b></b>"
      ]
     },
     "metadata": {},
     "output_type": "display_data"
    },
    {
     "data": {
      "text/html": [
       "<b></b>"
      ]
     },
     "metadata": {},
     "output_type": "display_data"
    },
    {
     "data": {
      "text/html": [
       "<b></b>"
      ]
     },
     "metadata": {},
     "output_type": "display_data"
    },
    {
     "data": {
      "text/html": [
       "<b></b>"
      ]
     },
     "metadata": {},
     "output_type": "display_data"
    },
    {
     "data": {
      "text/html": [
       "<b></b>"
      ]
     },
     "metadata": {},
     "output_type": "display_data"
    },
    {
     "data": {
      "text/html": [
       "<style  type=\"text/css\" >\n",
       "</style><table id=\"T_dec95939_0473_11ea_a6fb_107b449f15fc\" style='display:inline'><thead>    <tr>        <th class=\"blank level0\" ></th>        <th class=\"col_heading level0 col0\" >topic_3 @word</th>    </tr></thead><tbody>\n",
       "                <tr>\n",
       "                        <th id=\"T_dec95939_0473_11ea_a6fb_107b449f15fclevel0_row0\" class=\"row_heading level0 row0\" >software</th>\n",
       "                        <td id=\"T_dec95939_0473_11ea_a6fb_107b449f15fcrow0_col0\" class=\"data row0 col0\" >0.03019</td>\n",
       "            </tr>\n",
       "            <tr>\n",
       "                        <th id=\"T_dec95939_0473_11ea_a6fb_107b449f15fclevel0_row1\" class=\"row_heading level0 row1\" >анимация</th>\n",
       "                        <td id=\"T_dec95939_0473_11ea_a6fb_107b449f15fcrow1_col0\" class=\"data row1 col0\" >0.01914</td>\n",
       "            </tr>\n",
       "            <tr>\n",
       "                        <th id=\"T_dec95939_0473_11ea_a6fb_107b449f15fclevel0_row2\" class=\"row_heading level0 row2\" >macromedia</th>\n",
       "                        <td id=\"T_dec95939_0473_11ea_a6fb_107b449f15fcrow2_col0\" class=\"data row2 col0\" >0.01127</td>\n",
       "            </tr>\n",
       "            <tr>\n",
       "                        <th id=\"T_dec95939_0473_11ea_a6fb_107b449f15fclevel0_row3\" class=\"row_heading level0 row3\" >flock</th>\n",
       "                        <td id=\"T_dec95939_0473_11ea_a6fb_107b449f15fcrow3_col0\" class=\"data row3 col0\" >0.00844</td>\n",
       "            </tr>\n",
       "            <tr>\n",
       "                        <th id=\"T_dec95939_0473_11ea_a6fb_107b449f15fclevel0_row4\" class=\"row_heading level0 row4\" >джонатан</th>\n",
       "                        <td id=\"T_dec95939_0473_11ea_a6fb_107b449f15fcrow4_col0\" class=\"data row4 col0\" >0.0064</td>\n",
       "            </tr>\n",
       "            <tr>\n",
       "                        <th id=\"T_dec95939_0473_11ea_a6fb_107b449f15fclevel0_row5\" class=\"row_heading level0 row5\" >группировка</th>\n",
       "                        <td id=\"T_dec95939_0473_11ea_a6fb_107b449f15fcrow5_col0\" class=\"data row5 col0\" >0.00634</td>\n",
       "            </tr>\n",
       "            <tr>\n",
       "                        <th id=\"T_dec95939_0473_11ea_a6fb_107b449f15fclevel0_row6\" class=\"row_heading level0 row6\" >player</th>\n",
       "                        <td id=\"T_dec95939_0473_11ea_a6fb_107b449f15fcrow6_col0\" class=\"data row6 col0\" >0.00565</td>\n",
       "            </tr>\n",
       "            <tr>\n",
       "                        <th id=\"T_dec95939_0473_11ea_a6fb_107b449f15fclevel0_row7\" class=\"row_heading level0 row7\" >наведение</th>\n",
       "                        <td id=\"T_dec95939_0473_11ea_a6fb_107b449f15fcrow7_col0\" class=\"data row7 col0\" >0.00545</td>\n",
       "            </tr>\n",
       "            <tr>\n",
       "                        <th id=\"T_dec95939_0473_11ea_a6fb_107b449f15fclevel0_row8\" class=\"row_heading level0 row8\" >animator</th>\n",
       "                        <td id=\"T_dec95939_0473_11ea_a6fb_107b449f15fcrow8_col0\" class=\"data row8 col0\" >0.00513</td>\n",
       "            </tr>\n",
       "            <tr>\n",
       "                        <th id=\"T_dec95939_0473_11ea_a6fb_107b449f15fclevel0_row9\" class=\"row_heading level0 row9\" >вкладка</th>\n",
       "                        <td id=\"T_dec95939_0473_11ea_a6fb_107b449f15fcrow9_col0\" class=\"data row9 col0\" >0.00486</td>\n",
       "            </tr>\n",
       "    </tbody></table>"
      ]
     },
     "metadata": {},
     "output_type": "display_data"
    },
    {
     "data": {
      "text/html": [
       "<b></b>"
      ]
     },
     "metadata": {},
     "output_type": "display_data"
    },
    {
     "data": {
      "text/html": [
       "<b></b>"
      ]
     },
     "metadata": {},
     "output_type": "display_data"
    },
    {
     "data": {
      "text/html": [
       "<b></b>"
      ]
     },
     "metadata": {},
     "output_type": "display_data"
    },
    {
     "data": {
      "text/html": [
       "<b></b>"
      ]
     },
     "metadata": {},
     "output_type": "display_data"
    },
    {
     "data": {
      "text/html": [
       "<b></b>"
      ]
     },
     "metadata": {},
     "output_type": "display_data"
    },
    {
     "data": {
      "text/html": [
       "<b></b>"
      ]
     },
     "metadata": {},
     "output_type": "display_data"
    },
    {
     "data": {
      "text/html": [
       "<b></b>"
      ]
     },
     "metadata": {},
     "output_type": "display_data"
    },
    {
     "data": {
      "text/html": [
       "<b></b>"
      ]
     },
     "metadata": {},
     "output_type": "display_data"
    },
    {
     "data": {
      "text/html": [
       "<b></b>"
      ]
     },
     "metadata": {},
     "output_type": "display_data"
    },
    {
     "data": {
      "text/html": [
       "<b></b>"
      ]
     },
     "metadata": {},
     "output_type": "display_data"
    },
    {
     "data": {
      "text/html": [
       "<style  type=\"text/css\" >\n",
       "</style><table id=\"T_dec9593a_0473_11ea_a6fb_107b449f15fc\" style='display:inline'><thead>    <tr>        <th class=\"blank level0\" ></th>        <th class=\"col_heading level0 col0\" >topic_4 @word</th>    </tr></thead><tbody>\n",
       "                <tr>\n",
       "                        <th id=\"T_dec9593a_0473_11ea_a6fb_107b449f15fclevel0_row0\" class=\"row_heading level0 row0\" >inc</th>\n",
       "                        <td id=\"T_dec9593a_0473_11ea_a6fb_107b449f15fcrow0_col0\" class=\"data row0 col0\" >0.0381</td>\n",
       "            </tr>\n",
       "            <tr>\n",
       "                        <th id=\"T_dec9593a_0473_11ea_a6fb_107b449f15fclevel0_row1\" class=\"row_heading level0 row1\" >journal</th>\n",
       "                        <td id=\"T_dec9593a_0473_11ea_a6fb_107b449f15fcrow1_col0\" class=\"data row1 col0\" >0.02556</td>\n",
       "            </tr>\n",
       "            <tr>\n",
       "                        <th id=\"T_dec9593a_0473_11ea_a6fb_107b449f15fclevel0_row2\" class=\"row_heading level0 row2\" >street</th>\n",
       "                        <td id=\"T_dec9593a_0473_11ea_a6fb_107b449f15fcrow2_col0\" class=\"data row2 col0\" >0.02245</td>\n",
       "            </tr>\n",
       "            <tr>\n",
       "                        <th id=\"T_dec9593a_0473_11ea_a6fb_107b449f15fclevel0_row3\" class=\"row_heading level0 row3\" >иностранный</th>\n",
       "                        <td id=\"T_dec9593a_0473_11ea_a6fb_107b449f15fcrow3_col0\" class=\"data row3 col0\" >0.02189</td>\n",
       "            </tr>\n",
       "            <tr>\n",
       "                        <th id=\"T_dec9593a_0473_11ea_a6fb_107b449f15fclevel0_row4\" class=\"row_heading level0 row4\" >wall</th>\n",
       "                        <td id=\"T_dec9593a_0473_11ea_a6fb_107b449f15fcrow4_col0\" class=\"data row4 col0\" >0.01885</td>\n",
       "            </tr>\n",
       "            <tr>\n",
       "                        <th id=\"T_dec9593a_0473_11ea_a6fb_107b449f15fclevel0_row5\" class=\"row_heading level0 row5\" >интернетпровайдер</th>\n",
       "                        <td id=\"T_dec9593a_0473_11ea_a6fb_107b449f15fcrow5_col0\" class=\"data row5 col0\" >0.01458</td>\n",
       "            </tr>\n",
       "            <tr>\n",
       "                        <th id=\"T_dec9593a_0473_11ea_a6fb_107b449f15fclevel0_row6\" class=\"row_heading level0 row6\" >ботнет</th>\n",
       "                        <td id=\"T_dec9593a_0473_11ea_a6fb_107b449f15fcrow6_col0\" class=\"data row6 col0\" >0.01383</td>\n",
       "            </tr>\n",
       "            <tr>\n",
       "                        <th id=\"T_dec9593a_0473_11ea_a6fb_107b449f15fclevel0_row7\" class=\"row_heading level0 row7\" >порог</th>\n",
       "                        <td id=\"T_dec9593a_0473_11ea_a6fb_107b449f15fcrow7_col0\" class=\"data row7 col0\" >0.0119</td>\n",
       "            </tr>\n",
       "            <tr>\n",
       "                        <th id=\"T_dec9593a_0473_11ea_a6fb_107b449f15fclevel0_row8\" class=\"row_heading level0 row8\" >кбитс</th>\n",
       "                        <td id=\"T_dec9593a_0473_11ea_a6fb_107b449f15fcrow8_col0\" class=\"data row8 col0\" >0.01159</td>\n",
       "            </tr>\n",
       "            <tr>\n",
       "                        <th id=\"T_dec9593a_0473_11ea_a6fb_107b449f15fclevel0_row9\" class=\"row_heading level0 row9\" >валюта</th>\n",
       "                        <td id=\"T_dec9593a_0473_11ea_a6fb_107b449f15fcrow9_col0\" class=\"data row9 col0\" >0.01004</td>\n",
       "            </tr>\n",
       "    </tbody></table>"
      ]
     },
     "metadata": {},
     "output_type": "display_data"
    },
    {
     "data": {
      "text/html": [
       "<b></b>"
      ]
     },
     "metadata": {},
     "output_type": "display_data"
    },
    {
     "data": {
      "text/html": [
       "<b></b>"
      ]
     },
     "metadata": {},
     "output_type": "display_data"
    },
    {
     "data": {
      "text/html": [
       "<b></b>"
      ]
     },
     "metadata": {},
     "output_type": "display_data"
    },
    {
     "data": {
      "text/html": [
       "<b></b>"
      ]
     },
     "metadata": {},
     "output_type": "display_data"
    },
    {
     "data": {
      "text/html": [
       "<b></b>"
      ]
     },
     "metadata": {},
     "output_type": "display_data"
    },
    {
     "data": {
      "text/html": [
       "<b></b>"
      ]
     },
     "metadata": {},
     "output_type": "display_data"
    },
    {
     "data": {
      "text/html": [
       "<b></b>"
      ]
     },
     "metadata": {},
     "output_type": "display_data"
    },
    {
     "data": {
      "text/html": [
       "<b></b>"
      ]
     },
     "metadata": {},
     "output_type": "display_data"
    },
    {
     "data": {
      "text/html": [
       "<b></b>"
      ]
     },
     "metadata": {},
     "output_type": "display_data"
    },
    {
     "data": {
      "text/html": [
       "<b></b>"
      ]
     },
     "metadata": {},
     "output_type": "display_data"
    },
    {
     "data": {
      "text/html": [
       "<style  type=\"text/css\" >\n",
       "</style><table id=\"T_dec9593b_0473_11ea_a6fb_107b449f15fc\" style='display:inline'><thead>    <tr>        <th class=\"blank level0\" ></th>        <th class=\"col_heading level0 col0\" >topic_5 @word</th>    </tr></thead><tbody>\n",
       "                <tr>\n",
       "                        <th id=\"T_dec9593b_0473_11ea_a6fb_107b449f15fclevel0_row0\" class=\"row_heading level0 row0\" >лебедев</th>\n",
       "                        <td id=\"T_dec9593b_0473_11ea_a6fb_107b449f15fcrow0_col0\" class=\"data row0 col0\" >0.05283</td>\n",
       "            </tr>\n",
       "            <tr>\n",
       "                        <th id=\"T_dec9593b_0473_11ea_a6fb_107b449f15fclevel0_row1\" class=\"row_heading level0 row1\" >артемий</th>\n",
       "                        <td id=\"T_dec9593b_0473_11ea_a6fb_107b449f15fcrow1_col0\" class=\"data row1 col0\" >0.02363</td>\n",
       "            </tr>\n",
       "            <tr>\n",
       "                        <th id=\"T_dec9593b_0473_11ea_a6fb_107b449f15fclevel0_row2\" class=\"row_heading level0 row2\" >o</th>\n",
       "                        <td id=\"T_dec9593b_0473_11ea_a6fb_107b449f15fcrow2_col0\" class=\"data row2 col0\" >0.02244</td>\n",
       "            </tr>\n",
       "            <tr>\n",
       "                        <th id=\"T_dec9593b_0473_11ea_a6fb_107b449f15fclevel0_row3\" class=\"row_heading level0 row3\" >вставка</th>\n",
       "                        <td id=\"T_dec9593b_0473_11ea_a6fb_107b449f15fcrow3_col0\" class=\"data row3 col0\" >0.00989</td>\n",
       "            </tr>\n",
       "            <tr>\n",
       "                        <th id=\"T_dec9593b_0473_11ea_a6fb_107b449f15fclevel0_row4\" class=\"row_heading level0 row4\" >эмоция</th>\n",
       "                        <td id=\"T_dec9593b_0473_11ea_a6fb_107b449f15fcrow4_col0\" class=\"data row4 col0\" >0.0079</td>\n",
       "            </tr>\n",
       "            <tr>\n",
       "                        <th id=\"T_dec9593b_0473_11ea_a6fb_107b449f15fclevel0_row5\" class=\"row_heading level0 row5\" >хабраюзер</th>\n",
       "                        <td id=\"T_dec9593b_0473_11ea_a6fb_107b449f15fcrow5_col0\" class=\"data row5 col0\" >0.00768</td>\n",
       "            </tr>\n",
       "            <tr>\n",
       "                        <th id=\"T_dec9593b_0473_11ea_a6fb_107b449f15fclevel0_row6\" class=\"row_heading level0 row6\" >длина</th>\n",
       "                        <td id=\"T_dec9593b_0473_11ea_a6fb_107b449f15fcrow6_col0\" class=\"data row6 col0\" >0.00758</td>\n",
       "            </tr>\n",
       "            <tr>\n",
       "                        <th id=\"T_dec9593b_0473_11ea_a6fb_107b449f15fclevel0_row7\" class=\"row_heading level0 row7\" >twitter</th>\n",
       "                        <td id=\"T_dec9593b_0473_11ea_a6fb_107b449f15fcrow7_col0\" class=\"data row7 col0\" >0.00633</td>\n",
       "            </tr>\n",
       "            <tr>\n",
       "                        <th id=\"T_dec9593b_0473_11ea_a6fb_107b449f15fclevel0_row8\" class=\"row_heading level0 row8\" >смайлик</th>\n",
       "                        <td id=\"T_dec9593b_0473_11ea_a6fb_107b449f15fcrow8_col0\" class=\"data row8 col0\" >0.00466</td>\n",
       "            </tr>\n",
       "            <tr>\n",
       "                        <th id=\"T_dec9593b_0473_11ea_a6fb_107b449f15fclevel0_row9\" class=\"row_heading level0 row9\" >sms</th>\n",
       "                        <td id=\"T_dec9593b_0473_11ea_a6fb_107b449f15fcrow9_col0\" class=\"data row9 col0\" >0.00446</td>\n",
       "            </tr>\n",
       "    </tbody></table>"
      ]
     },
     "metadata": {},
     "output_type": "display_data"
    },
    {
     "data": {
      "text/html": [
       "<b></b>"
      ]
     },
     "metadata": {},
     "output_type": "display_data"
    },
    {
     "data": {
      "text/html": [
       "<b></b>"
      ]
     },
     "metadata": {},
     "output_type": "display_data"
    },
    {
     "data": {
      "text/html": [
       "<b></b>"
      ]
     },
     "metadata": {},
     "output_type": "display_data"
    },
    {
     "data": {
      "text/html": [
       "<b></b>"
      ]
     },
     "metadata": {},
     "output_type": "display_data"
    },
    {
     "data": {
      "text/html": [
       "<b></b>"
      ]
     },
     "metadata": {},
     "output_type": "display_data"
    },
    {
     "data": {
      "text/html": [
       "<b></b>"
      ]
     },
     "metadata": {},
     "output_type": "display_data"
    },
    {
     "data": {
      "text/html": [
       "<b></b>"
      ]
     },
     "metadata": {},
     "output_type": "display_data"
    },
    {
     "data": {
      "text/html": [
       "<b></b>"
      ]
     },
     "metadata": {},
     "output_type": "display_data"
    },
    {
     "data": {
      "text/html": [
       "<b></b>"
      ]
     },
     "metadata": {},
     "output_type": "display_data"
    },
    {
     "data": {
      "text/html": [
       "<b></b>"
      ]
     },
     "metadata": {},
     "output_type": "display_data"
    },
    {
     "data": {
      "text/html": [
       "<style  type=\"text/css\" >\n",
       "</style><table id=\"T_dec9593c_0473_11ea_a6fb_107b449f15fc\" style='display:inline'><thead>    <tr>        <th class=\"blank level0\" ></th>        <th class=\"col_heading level0 col0\" >topic_6 @word</th>    </tr></thead><tbody>\n",
       "                <tr>\n",
       "                        <th id=\"T_dec9593c_0473_11ea_a6fb_107b449f15fclevel0_row0\" class=\"row_heading level0 row0\" >юзер</th>\n",
       "                        <td id=\"T_dec9593c_0473_11ea_a6fb_107b449f15fcrow0_col0\" class=\"data row0 col0\" >0.04492</td>\n",
       "            </tr>\n",
       "            <tr>\n",
       "                        <th id=\"T_dec9593c_0473_11ea_a6fb_107b449f15fclevel0_row1\" class=\"row_heading level0 row1\" >aol</th>\n",
       "                        <td id=\"T_dec9593c_0473_11ea_a6fb_107b449f15fcrow1_col0\" class=\"data row1 col0\" >0.02929</td>\n",
       "            </tr>\n",
       "            <tr>\n",
       "                        <th id=\"T_dec9593c_0473_11ea_a6fb_107b449f15fclevel0_row2\" class=\"row_heading level0 row2\" >allofmpcom</th>\n",
       "                        <td id=\"T_dec9593c_0473_11ea_a6fb_107b449f15fcrow2_col0\" class=\"data row2 col0\" >0.01934</td>\n",
       "            </tr>\n",
       "            <tr>\n",
       "                        <th id=\"T_dec9593c_0473_11ea_a6fb_107b449f15fclevel0_row3\" class=\"row_heading level0 row3\" >blinkx</th>\n",
       "                        <td id=\"T_dec9593c_0473_11ea_a6fb_107b449f15fcrow3_col0\" class=\"data row3 col0\" >0.01017</td>\n",
       "            </tr>\n",
       "            <tr>\n",
       "                        <th id=\"T_dec9593c_0473_11ea_a6fb_107b449f15fclevel0_row4\" class=\"row_heading level0 row4\" >вто</th>\n",
       "                        <td id=\"T_dec9593c_0473_11ea_a6fb_107b449f15fcrow4_col0\" class=\"data row4 col0\" >0.00873</td>\n",
       "            </tr>\n",
       "            <tr>\n",
       "                        <th id=\"T_dec9593c_0473_11ea_a6fb_107b449f15fclevel0_row5\" class=\"row_heading level0 row5\" >закрытие</th>\n",
       "                        <td id=\"T_dec9593c_0473_11ea_a6fb_107b449f15fcrow5_col0\" class=\"data row5 col0\" >0.00868</td>\n",
       "            </tr>\n",
       "            <tr>\n",
       "                        <th id=\"T_dec9593c_0473_11ea_a6fb_107b449f15fclevel0_row6\" class=\"row_heading level0 row6\" >вступление</th>\n",
       "                        <td id=\"T_dec9593c_0473_11ea_a6fb_107b449f15fcrow6_col0\" class=\"data row6 col0\" >0.00851</td>\n",
       "            </tr>\n",
       "            <tr>\n",
       "                        <th id=\"T_dec9593c_0473_11ea_a6fb_107b449f15fclevel0_row7\" class=\"row_heading level0 row7\" >mediaservices</th>\n",
       "                        <td id=\"T_dec9593c_0473_11ea_a6fb_107b449f15fcrow7_col0\" class=\"data row7 col0\" >0.00583</td>\n",
       "            </tr>\n",
       "            <tr>\n",
       "                        <th id=\"T_dec9593c_0473_11ea_a6fb_107b449f15fclevel0_row8\" class=\"row_heading level0 row8\" >соня</th>\n",
       "                        <td id=\"T_dec9593c_0473_11ea_a6fb_107b449f15fcrow8_col0\" class=\"data row8 col0\" >0.00575</td>\n",
       "            </tr>\n",
       "            <tr>\n",
       "                        <th id=\"T_dec9593c_0473_11ea_a6fb_107b449f15fclevel0_row9\" class=\"row_heading level0 row9\" >visa</th>\n",
       "                        <td id=\"T_dec9593c_0473_11ea_a6fb_107b449f15fcrow9_col0\" class=\"data row9 col0\" >0.00566</td>\n",
       "            </tr>\n",
       "    </tbody></table>"
      ]
     },
     "metadata": {},
     "output_type": "display_data"
    },
    {
     "data": {
      "text/html": [
       "<b></b>"
      ]
     },
     "metadata": {},
     "output_type": "display_data"
    },
    {
     "data": {
      "text/html": [
       "<b></b>"
      ]
     },
     "metadata": {},
     "output_type": "display_data"
    },
    {
     "data": {
      "text/html": [
       "<b></b>"
      ]
     },
     "metadata": {},
     "output_type": "display_data"
    },
    {
     "data": {
      "text/html": [
       "<b></b>"
      ]
     },
     "metadata": {},
     "output_type": "display_data"
    },
    {
     "data": {
      "text/html": [
       "<b></b>"
      ]
     },
     "metadata": {},
     "output_type": "display_data"
    },
    {
     "data": {
      "text/html": [
       "<b></b>"
      ]
     },
     "metadata": {},
     "output_type": "display_data"
    },
    {
     "data": {
      "text/html": [
       "<b></b>"
      ]
     },
     "metadata": {},
     "output_type": "display_data"
    },
    {
     "data": {
      "text/html": [
       "<b></b>"
      ]
     },
     "metadata": {},
     "output_type": "display_data"
    },
    {
     "data": {
      "text/html": [
       "<b></b>"
      ]
     },
     "metadata": {},
     "output_type": "display_data"
    },
    {
     "data": {
      "text/html": [
       "<b></b>"
      ]
     },
     "metadata": {},
     "output_type": "display_data"
    }
   ],
   "source": [
    "n=7\n",
    "for line, topic_docs in list(zip(first_model_html, first_model_top_doc))[:n]:\n",
    "    display_html(line, raw=True)\n",
    "    for doc_id in topic_docs:\n",
    "        doc_title = get_modality_vw(doc_vw, \"@title\")\n",
    "        display_html(f\"<b>{doc_title}</b>\", raw=True)"
   ]
  }
 ],
 "metadata": {
  "kernelspec": {
   "display_name": "Python [conda env:root] *",
   "language": "python",
   "name": "conda-root-py"
  },
  "language_info": {
   "codemirror_mode": {
    "name": "ipython",
    "version": 3
   },
   "file_extension": ".py",
   "mimetype": "text/x-python",
   "name": "python",
   "nbconvert_exporter": "python",
   "pygments_lexer": "ipython3",
   "version": "3.6.9"
  }
 },
 "nbformat": 4,
 "nbformat_minor": 2
}
