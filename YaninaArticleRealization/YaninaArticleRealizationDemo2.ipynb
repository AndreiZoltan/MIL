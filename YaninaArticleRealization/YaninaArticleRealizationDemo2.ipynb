{
 "cells": [
  {
   "cell_type": "code",
   "execution_count": 1,
   "metadata": {},
   "outputs": [],
   "source": [
    "import numpy as np\n",
    "import pandas as pd\n",
    "import matplotlib.pyplot as plt\n",
    "%matplotlib inline\n",
    "import time\n",
    "import artm\n",
    "\n",
    "# change log style\n",
    "lc = artm.messages.ConfigureLoggingArgs()\n",
    "lc.minloglevel = 3\n",
    "lib = artm.wrapper.LibArtm(logging_config=lc)\n",
    "\n",
    "import warnings\n",
    "warnings.filterwarnings(\"ignore\", category=DeprecationWarning) "
   ]
  },
  {
   "cell_type": "code",
   "execution_count": 2,
   "metadata": {},
   "outputs": [],
   "source": [
    "from copy import deepcopy\n",
    "from topicnet.cooking_machine.models.topic_model import TopicModel\n",
    "from topicnet.cooking_machine.cubes import RegularizersModifierCube\n",
    "from topicnet.cooking_machine.experiment import Experiment\n",
    "from topicnet.cooking_machine.cubes import *\n",
    "from topicnet.cooking_machine.dataset import Dataset\n",
    "\n",
    "%load_ext autoreload\n",
    "%autoreload 2"
   ]
  },
  {
   "cell_type": "code",
   "execution_count": 3,
   "metadata": {},
   "outputs": [],
   "source": [
    "import topicnet.cooking_machine.cubes as tncubes"
   ]
  },
  {
   "cell_type": "code",
   "execution_count": 4,
   "metadata": {},
   "outputs": [
    {
     "data": {
      "text/html": [
       "<style>\n",
       ".container { width:90% !important; }\n",
       "div.output_scroll .output_subarea { white-space: pre; }\n",
       "</style>"
      ],
      "text/plain": [
       "<IPython.core.display.HTML object>"
      ]
     },
     "metadata": {},
     "output_type": "display_data"
    }
   ],
   "source": [
    "from IPython.core.display import display, HTML\n",
    "from IPython.display import clear_output, display_html\n",
    "display(HTML(\"\"\"<style>\n",
    ".container { width:90% !important; }\n",
    "div.output_scroll .output_subarea { white-space: pre; }\n",
    "</style>\"\"\"))"
   ]
  },
  {
   "cell_type": "markdown",
   "metadata": {},
   "source": [
    "### Get dataset"
   ]
  },
  {
   "cell_type": "code",
   "execution_count": 5,
   "metadata": {},
   "outputs": [],
   "source": [
    "DATA_PATH = \"ReadyData.csv\""
   ]
  },
  {
   "cell_type": "code",
   "execution_count": 6,
   "metadata": {
    "scrolled": true
   },
   "outputs": [],
   "source": [
    "dataset = Dataset(DATA_PATH)\n",
    "dictionary = dataset.get_dictionary()"
   ]
  },
  {
   "cell_type": "markdown",
   "metadata": {},
   "source": [
    "## Make initial model"
   ]
  },
  {
   "cell_type": "code",
   "execution_count": 7,
   "metadata": {},
   "outputs": [
    {
     "data": {
      "text/plain": [
       "[PerplexityScore@all, SparsityThetaScore, SparsityPhiScore@word, PerplexityScore@word, TopicKernel@word]"
      ]
     },
     "execution_count": 7,
     "metadata": {},
     "output_type": "execute_result"
    }
   ],
   "source": [
    "from topicnet.cooking_machine.model_constructor import init_simple_default_model\n",
    "\n",
    "n_topics = 100\n",
    "n_background = 10\n",
    "model_artm = init_simple_default_model(\n",
    "    dataset=dataset,\n",
    "    modalities_to_use=dataset.get_possible_modalities(),\n",
    "    main_modality='@word',\n",
    "    specific_topics=n_topics - n_background,\n",
    "    background_topics=n_background,\n",
    ")\n",
    "specific_topics, bacground_topics = model_artm.topic_names[:-n_background], model_artm.topic_names[-n_background:]\n",
    "model_artm.scores"
   ]
  },
  {
   "cell_type": "markdown",
   "metadata": {},
   "source": [
    "### DEFINE TOPIC MODEL"
   ]
  },
  {
   "cell_type": "code",
   "execution_count": 9,
   "metadata": {},
   "outputs": [],
   "source": [
    "#scores = {'Perplexy': MyPerplexityScore()}\n",
    "model = TopicModel(model_artm, model_id='YaninaDemo3')"
   ]
  },
  {
   "cell_type": "markdown",
   "metadata": {},
   "source": [
    "### Define experiment"
   ]
  },
  {
   "cell_type": "code",
   "execution_count": 10,
   "metadata": {},
   "outputs": [],
   "source": [
    "from topicnet.cooking_machine.experiment import Experiment\n",
    "experiment = Experiment(experiment_id='YaninaDemo3', save_path='YaninaDemo3', topic_model=model)"
   ]
  },
  {
   "cell_type": "markdown",
   "metadata": {},
   "source": [
    "## Cubes"
   ]
  },
  {
   "cell_type": "code",
   "execution_count": 11,
   "metadata": {},
   "outputs": [],
   "source": [
    "cube1 = RegularizersModifierCube(\n",
    "    num_iter=8,\n",
    "    tracked_score_function=retrieve_score_for_strategy('PerplexityScore@all'),\n",
    "    regularizer_parameters={\n",
    "        'regularizer': artm.SmoothSparsePhiRegularizer(\n",
    "                 name='smooth_phi_bcg',\n",
    "                 topic_names=bacground_topics,\n",
    "                 tau=1,\n",
    "                 class_ids=['@word']),\n",
    "        'tau_grid': [0, 10, 20, 30, 40],\n",
    "    },\n",
    "    reg_search='grid',\n",
    "    relative_coefficients=False,\n",
    "    verbose=True\n",
    ")"
   ]
  },
  {
   "cell_type": "code",
   "execution_count": 12,
   "metadata": {},
   "outputs": [],
   "source": [
    "cube2 = RegularizersModifierCube(\n",
    "    num_iter=8,\n",
    "    tracked_score_function=retrieve_score_for_strategy('PerplexityScore@all'),\n",
    "    regularizer_parameters={\n",
    "        \"regularizer\": artm.SmoothSparseThetaRegularizer(\n",
    "                 name='smooth_theta_bcg',\n",
    "                 topic_names=bacground_topics,\n",
    "                 tau=1),\n",
    "        'tau_grid': [0, 10, 20, 30, 40],\n",
    "    },\n",
    "    reg_search='grid',\n",
    "    relative_coefficients=False,\n",
    "    verbose=True\n",
    ")"
   ]
  },
  {
   "cell_type": "code",
   "execution_count": 13,
   "metadata": {},
   "outputs": [],
   "source": [
    "cube3 = RegularizersModifierCube(\n",
    "    num_iter=8,\n",
    "    tracked_score_function=retrieve_score_for_strategy('PerplexityScore@all'),\n",
    "    regularizer_parameters={\n",
    "        'regularizer': artm.DecorrelatorPhiRegularizer(\n",
    "             name=f'decorrelation_phi_{\"@word\"}',\n",
    "             topic_names=specific_topics,\n",
    "             tau=1,\n",
    "             class_ids=['@word']),\n",
    "        'tau_grid': [10**4, 10**5, 10**6, 10**7, 10**8, 10**9, 10**10],\n",
    "    },\n",
    "    reg_search='grid',\n",
    "    relative_coefficients=False,\n",
    "    verbose=True\n",
    ")"
   ]
  },
  {
   "cell_type": "code",
   "execution_count": 14,
   "metadata": {},
   "outputs": [],
   "source": [
    "cube4 = RegularizersModifierCube(\n",
    "    num_iter=8,\n",
    "    tracked_score_function=retrieve_score_for_strategy('PerplexityScore@all'),\n",
    "    regularizer_parameters={\n",
    "        'regularizer': artm.SmoothSparseThetaRegularizer(\n",
    "                 name=f'sparse_Theta{\"@word\"}',\n",
    "                 topic_names=specific_topics,\n",
    "                 tau=1),\n",
    "        'tau_grid': [0, -0.25, -0.75, -2.0],\n",
    "    },\n",
    "    reg_search='grid',\n",
    "    relative_coefficients=False,\n",
    "    verbose=True\n",
    ")"
   ]
  },
  {
   "cell_type": "code",
   "execution_count": 16,
   "metadata": {},
   "outputs": [],
   "source": [
    "cube5 = RegularizersModifierCube(\n",
    "    num_iter=8,\n",
    "    tracked_score_function=retrieve_score_for_strategy('PerplexityScore@all'),\n",
    "    regularizer_parameters={\n",
    "        'regularizer': artm.SmoothSparsePhiRegularizer(\n",
    "                 name='smooth_Phi',\n",
    "                 topic_names=specific_topics,\n",
    "                 tau=1),\n",
    "        'tau_grid': [0, 0.05, 0.1, 0.25, 0.5, 0.75, 0.9, 1.0],\n",
    "    },\n",
    "    reg_search='grid',\n",
    "    relative_coefficients=False,\n",
    "    verbose=True\n",
    ")"
   ]
  },
  {
   "cell_type": "markdown",
   "metadata": {},
   "source": [
    "### SHOW GO ON"
   ]
  },
  {
   "cell_type": "code",
   "execution_count": 17,
   "metadata": {},
   "outputs": [
    {
     "name": "stderr",
     "output_type": "stream",
     "text": [
      "100%|██████████| 5/5 [02:09<00:00, 26.15s/it]\n"
     ]
    },
    {
     "name": "stdout",
     "output_type": "stream",
     "text": [
      "--- 254.96778464317322 seconds ---\n"
     ]
    }
   ],
   "source": [
    "start_time = time.time()\n",
    "models = cube1(model, dataset)\n",
    "print(\"--- %s seconds ---\" % (time.time() - start_time))"
   ]
  },
  {
   "cell_type": "code",
   "execution_count": 18,
   "metadata": {},
   "outputs": [],
   "source": [
    "models = experiment.select(f'PerplexityScore@all -> min')"
   ]
  },
  {
   "cell_type": "code",
   "execution_count": 19,
   "metadata": {},
   "outputs": [
    {
     "name": "stderr",
     "output_type": "stream",
     "text": [
      "100%|██████████| 5/5 [02:17<00:00, 27.70s/it]\n"
     ]
    },
    {
     "name": "stdout",
     "output_type": "stream",
     "text": [
      "--- 283.92696356773376 seconds ---\n"
     ]
    }
   ],
   "source": [
    "start_time = time.time()\n",
    "models = cube2(models, dataset)\n",
    "print(\"--- %s seconds ---\" % (time.time() - start_time))"
   ]
  },
  {
   "cell_type": "code",
   "execution_count": 20,
   "metadata": {},
   "outputs": [
    {
     "name": "stdout",
     "output_type": "stream",
     "text": [
      "--- 8.70707106590271 seconds ---\n"
     ]
    }
   ],
   "source": [
    "start_time = time.time()\n",
    "models = experiment.select(f'PerplexityScore@all -> min')\n",
    "print(\"--- %s seconds ---\" % (time.time() - start_time))"
   ]
  },
  {
   "cell_type": "code",
   "execution_count": 21,
   "metadata": {},
   "outputs": [
    {
     "name": "stderr",
     "output_type": "stream",
     "text": [
      "100%|██████████| 7/7 [03:44<00:00, 31.48s/it]\n"
     ]
    },
    {
     "name": "stdout",
     "output_type": "stream",
     "text": [
      "--- 463.91751074790955 seconds ---\n"
     ]
    }
   ],
   "source": [
    "start_time = time.time()\n",
    "models = cube3(models, dataset)\n",
    "print(\"--- %s seconds ---\" % (time.time() - start_time))"
   ]
  },
  {
   "cell_type": "code",
   "execution_count": 22,
   "metadata": {},
   "outputs": [
    {
     "name": "stdout",
     "output_type": "stream",
     "text": [
      "--- 16.998926877975464 seconds ---\n"
     ]
    }
   ],
   "source": [
    "start_time = time.time()\n",
    "models = experiment.select(f'PerplexityScore@all -> min')\n",
    "print(\"--- %s seconds ---\" % (time.time() - start_time))"
   ]
  },
  {
   "cell_type": "code",
   "execution_count": 23,
   "metadata": {},
   "outputs": [
    {
     "name": "stderr",
     "output_type": "stream",
     "text": [
      "100%|██████████| 4/4 [02:15<00:00, 33.59s/it]\n"
     ]
    },
    {
     "name": "stdout",
     "output_type": "stream",
     "text": [
      "--- 266.6931149959564 seconds ---\n"
     ]
    }
   ],
   "source": [
    "start_time = time.time()\n",
    "models = cube4(models, dataset)\n",
    "print(\"--- %s seconds ---\" % (time.time() - start_time))"
   ]
  },
  {
   "cell_type": "code",
   "execution_count": 24,
   "metadata": {},
   "outputs": [
    {
     "name": "stdout",
     "output_type": "stream",
     "text": [
      "--- 12.837584495544434 seconds ---\n"
     ]
    }
   ],
   "source": [
    "start_time = time.time()\n",
    "models = experiment.select(f'PerplexityScore@all < 1.1 * MINIMUM(PerplexityScore{\"@word\"}) \\\n",
    "                  and SparsityPhiScore{\"@word\"} -> max')\n",
    "print(\"--- %s seconds ---\" % (time.time() - start_time))"
   ]
  },
  {
   "cell_type": "code",
   "execution_count": 25,
   "metadata": {},
   "outputs": [
    {
     "name": "stderr",
     "output_type": "stream",
     "text": [
      "100%|██████████| 8/8 [05:07<00:00, 40.30s/it]\n"
     ]
    },
    {
     "name": "stdout",
     "output_type": "stream",
     "text": [
      "--- 754.9396774768829 seconds ---\n"
     ]
    }
   ],
   "source": [
    "start_time = time.time()\n",
    "models = cube5(models, dataset)\n",
    "print(\"--- %s seconds ---\" % (time.time() - start_time))"
   ]
  },
  {
   "cell_type": "code",
   "execution_count": 26,
   "metadata": {},
   "outputs": [
    {
     "name": "stdout",
     "output_type": "stream",
     "text": [
      "--- 33.79815649986267 seconds ---\n"
     ]
    }
   ],
   "source": [
    "start_time = time.time()\n",
    "models = experiment.select(f'PerplexityScore@all < 1.1 * MINIMUM(PerplexityScore{\"@word\"}) \\\n",
    "                  and SparsityPhiScore{\"@word\"} -> max')\n",
    "print(\"--- %s seconds ---\" % (time.time() - start_time))"
   ]
  },
  {
   "cell_type": "code",
   "execution_count": 27,
   "metadata": {},
   "outputs": [
    {
     "data": {
      "text/plain": [
       "[<topicnet.cooking_machine.models.topic_model.TopicModel at 0x7f5374747f60>]"
      ]
     },
     "execution_count": 27,
     "metadata": {},
     "output_type": "execute_result"
    }
   ],
   "source": [
    "models"
   ]
  },
  {
   "cell_type": "code",
   "execution_count": 28,
   "metadata": {},
   "outputs": [
    {
     "data": {
      "text/html": [
       "<style>\n",
       "div.output_html {  \n",
       "    white-space: nowrap;  \n",
       "}\n",
       "div .output_subarea > pre {  \n",
       "    white-space: pre;  \n",
       "    word-wrap: normal;  \n",
       "}\n",
       "</style>"
      ],
      "text/plain": [
       "<IPython.core.display.HTML object>"
      ]
     },
     "metadata": {},
     "output_type": "display_data"
    }
   ],
   "source": [
    "from IPython.core.display import display, HTML\n",
    "\n",
    "\n",
    "display(HTML(\"\"\"<style>\n",
    "div.output_html {  \n",
    "    white-space: nowrap;  \n",
    "}\n",
    "div .output_subarea > pre {  \n",
    "    white-space: pre;  \n",
    "    word-wrap: normal;  \n",
    "}\n",
    "</style>\"\"\"))"
   ]
  },
  {
   "cell_type": "code",
   "execution_count": 29,
   "metadata": {},
   "outputs": [
    {
     "name": "stdout",
     "output_type": "stream",
     "text": [
      "Experiment YaninaDemo3\n",
      "\n",
      "Experiment was made with BigARTM 0.9.0\n",
      "Tree:\n",
      "                                                                                                                                                                                                                                                                              ┌#                                       #18h53m37s_22d10m2019y                                       ###\n",
      "                                                                                                                                                                                                                                                                              ├#                                       #18h54m11s_22d10m2019y                                       ###\n",
      "                                                                                                                                                                                                            ┌##18h4                                       5m36s_22d10m2019y###┤\n",
      "                                                                                                                                                                                                            │                                                                 ├#                                       #18h54m48s_22d10m2019y                                       ###\n",
      "                                                                                                                                                                                                            │                                                                 │                                                                                                        ┌##18h58m17s_22d10m2019y###\n",
      "                                                                                                                                                                                                            │                                                                 │                                                                                                        ├##18h58m52s_22d10m2019y###\n",
      "                                                                                                                                                                                                            │                                                                 │                                                                                                        ├##18h59m27s_22d10m2019y###\n",
      "                                                                                                                                                                                                            │                                                                 │                                                                                                        ├##19h00m02s_22d10m2019y###\n",
      "                                                                                                                                                                                                            │                                                                 └#                                       #18h55m22s_22d10m2019y                                       ###┤\n",
      "                                                                                                                                                                                                            │                                                                                                                                                                          ├##19h00m39s_22d10m2019y###\n",
      "                                                                                                                                                                                                            │                                                                                                                                                                          ├##19h01m19s_22d10m2019y###\n",
      "                                                                                                                                                                                                            │                                                                                                                                                                          ├##19h01m59s_22d10m2019y###\n",
      "                                                                                                                                                                                                            │                                                                                                                                                                          └##19h02m43s_22d10m2019y###\n",
      "                                                                                                                                                                                                            ├##18h4                                       6m08s_22d10m2019y###\n",
      "                                                                                                                                                                                                            ├##18h4                                       6m41s_22d10m2019y###\n",
      "                                                                                                                    ┌##18h40m44s                                                             _22d10m2019y###┤\n",
      "                                                                                                                    │                                                                                       ├##18h4                                       7m14s_22d10m2019y###\n",
      "                                                                                                                    │                                                                                       ├##18h4                                       7m48s_22d10m2019y###\n",
      "                                                                                                                    │                                                                                       ├##18h4                                       8m20s_22d10m2019y###\n",
      "                                                                                                                    │                                                                                       └##18h4                                       8m49s_22d10m2019y###\n",
      "                                                                                                                    ├##18h41m11s                                                             _22d10m2019y###\n",
      "                            ┌##18h36m26s_22d1                                                             0m2019y###┤\n",
      "                            │                                                                                       ├##18h41m39s                                                             _22d10m2019y###\n",
      "                            │                                                                                       ├##18h42m06s                                                             _22d10m2019y###\n",
      "                            │                                                                                       └##18h42m33s                                                             _22d10m2019y###\n",
      "                            ├##18h36m53s_22d1                                                             0m2019y###\n",
      "<<<<<<<<<<<root>>>>>>  >>>>>┤\n",
      "                            ├##18h37m18s_22d1                                                             0m2019y###\n",
      "                            ├##18h37m42s_22d1                                                             0m2019y###\n",
      "                            └##18h38m08s_22d1                                                             0m2019y###\n",
      "Cubes:\n",
      " START                 | REG_MODIFIER                                                                     | REG_MODIFIER                                                                     | REG_MODIFIER                                               | REG_MODIFIER                                               | REG_MODIFIER                                              \n",
      "                       |                                                                                  |                                                                                  |                                                            |                                                            |                                                           \n",
      " name:                 | tau_grid:                                                                        | tau_grid:                                                                        | tau_grid:                                                  | tau_grid:                                                  | tau_grid:                                                 \n",
      "   ARTM                |   0,                                                                             |   0,                                                                             |   10000,                                                   |   0,                                                       |   0,                                                      \n",
      " num_processors:       |   10,                                                                            |   10,                                                                            |   100000,                                                  |   -0.25,                                                   |   0.05,                                                   \n",
      "   3                   |   20,                                                                            |   20,                                                                            |   ...,                                                     |   -0.75,                                                   |   ...,                                                    \n",
      " num_topics:           |   30,                                                                            |   30,                                                                            |   1000000000,                                              |   -2.0                                                     |   0.9,                                                    \n",
      "   100                 |   40                                                                             |   40                                                                             |   10000000000                                              | regularizer:                                               |   1.0                                                     \n",
      " topic_names:          | regularizer:                                                                     | regularizer:                                                                     | regularizer:                                               |   name=sparse_Theta@word,                                  | regularizer:                                              \n",
      "   topic_0,            |   name=smooth_phi_bcg,                                                           |   name=smooth_theta_bcg,                                                         |   name=decorrelation_phi_@word,                            |   doc_titles=[],                                           |   name=smooth_Phi,                                        \n",
      "   topic_1,            |   class_ids=[@word],                                                             |   doc_titles=[],                                                                 |   class_ids=[@word],                                       |   doc_topic_coef=[],                                       |   class_ids=[],                                           \n",
      "   ...,                |   topic_names=[background_90, background_91, ..., background_98, background_99], |   doc_topic_coef=[],                                                             |   topic_names=[topic_0, topic_1, ..., topic_88, topic_89], |   alpha_iter=[],                                           |   topic_names=[topic_0, topic_1, ..., topic_88, topic_89],\n",
      "   background_98,      |   dictionary=,                                                                   |   alpha_iter=[],                                                                 |   tau=1                                                    |   topic_names=[topic_0, topic_1, ..., topic_88, topic_89], |   dictionary=,                                            \n",
      "   background_99       |   tau=1                                                                          |   topic_names=[background_90, background_91, ..., background_98, background_99], |                                                            |   tau=1                                                    |   tau=1                                                   \n",
      " class_ids:            |                                                                                  |   tau=1                                                                          |                                                            |                                                            |                                                           \n",
      "   @word=1.0           |                                                                                  |                                                                                  |                                                            |                                                            |                                                           \n",
      " seed:                 |                                                                                  |                                                                                  |                                                            |                                                            |                                                           \n",
      "   -1                  |                                                                                  |                                                                                  |                                                            |                                                            |                                                           \n",
      "                       |                                                                                  |                                                                                  |                                                            |                                                            |                                                           \n",
      "───────────────────────+──────────────────────────────────────────────────────────────────────────────────+──────────────────────────────────────────────────────────────────────────────────+────────────────────────────────────────────────────────────+────────────────────────────────────────────────────────────+────────────────────────────────────────────────────────────+──────────────────────────────────────────────────────────\n",
      "                       |                                                                                  |                                                                                  |                                                            |                                                            |                                                           \n"
     ]
    }
   ],
   "source": [
    "experiment.show()"
   ]
  },
  {
   "cell_type": "code",
   "execution_count": 30,
   "metadata": {},
   "outputs": [
    {
     "data": {
      "text/html": [
       "<style>\n",
       ".container { width:90% !important; }\n",
       "div.output_scroll .output_subarea { white-space: pre; }\n",
       "</style>"
      ],
      "text/plain": [
       "<IPython.core.display.HTML object>"
      ]
     },
     "metadata": {},
     "output_type": "display_data"
    }
   ],
   "source": [
    "display(HTML(\"\"\"<style>\n",
    ".container { width:90% !important; }\n",
    "div.output_scroll .output_subarea { white-space: pre; }\n",
    "</style>\"\"\"))"
   ]
  },
  {
   "cell_type": "code",
   "execution_count": 31,
   "metadata": {},
   "outputs": [
    {
     "data": {
      "image/png": "[encoded data removed]",
      "text/plain": [
       "<Figure size 576x576 with 1 Axes>"
      ]
     },
     "metadata": {
      "needs_background": "light"
     },
     "output_type": "display_data"
    }
   ],
   "source": [
    "from matplotlib import cm\n",
    "\n",
    "tms = experiment.models\n",
    "n=len(tms)\n",
    "colors = np.linspace(0, 0.65, n)\n",
    "\n",
    "plt.figure(figsize=(8,8))\n",
    "for i, tm in enumerate(list(tms.values())[2:]):\n",
    "    perp_score = tm.scores['PerplexityScore@all']\n",
    "    plt.plot(perp_score[1:], color=cm.Blues(colors[i]))\n",
    "plt.show()"
   ]
  },
  {
   "cell_type": "code",
   "execution_count": 32,
   "metadata": {},
   "outputs": [
    {
     "name": "stdout",
     "output_type": "stream",
     "text": [
      "0.5487495064735413\n",
      "0.5487495064735413\n",
      "0.548750638961792\n",
      "0.5487517714500427\n",
      "0.8440211415290833\n",
      "0.8550730347633362\n",
      "0.8610220551490784\n",
      "0.8652969598770142\n",
      "0.8685572743415833\n",
      "0.8799999952316284\n",
      "0.8886910080909729\n",
      "0.9792827367782593\n",
      "0.9830993413925171\n",
      "0.98417729139328\n",
      "0.9842287302017212\n",
      "0.9842730164527893\n",
      "0.8931396007537842\n",
      "0.8926883339881897\n",
      "0.8929107785224915\n",
      "0.8983959555625916\n",
      "0.9019222855567932\n",
      "0.08901780843734741\n",
      "0.08895596116781235\n",
      "0.08884567022323608\n",
      "0.08877450227737427\n",
      "0.08874767273664474\n",
      "0.08874059468507767\n",
      "0.08873835951089859\n"
     ]
    },
    {
     "data": {
      "image/png": "[encoded data removed]",
      "text/plain": [
       "<Figure size 576x576 with 1 Axes>"
      ]
     },
     "metadata": {
      "needs_background": "light"
     },
     "output_type": "display_data"
    }
   ],
   "source": [
    "tms = experiment.models\n",
    "n=len(tms)\n",
    "colors = np.linspace(0, 0.65, n)\n",
    "\n",
    "plt.figure(figsize=(8,8))\n",
    "for i, tm in enumerate(list(tms.values())[2:]):\n",
    "    perp_score = tm.scores['SparsityPhiScore@word']\n",
    "    plt.plot(perp_score[1:], color=cm.Blues(colors[i]))\n",
    "    print(perp_score[-1])\n",
    "plt.show()"
   ]
  },
  {
   "cell_type": "code",
   "execution_count": 33,
   "metadata": {},
   "outputs": [
    {
     "data": {
      "image/png": "[encoded data removed]",
      "text/plain": [
       "<Figure size 576x576 with 1 Axes>"
      ]
     },
     "metadata": {
      "needs_background": "light"
     },
     "output_type": "display_data"
    }
   ],
   "source": [
    "tms = experiment.models\n",
    "n=len(tms)\n",
    "colors = np.linspace(0, 0.65, n)\n",
    "\n",
    "plt.figure(figsize=(8,8))\n",
    "for i, tm in enumerate(list(tms.values())[2:]):\n",
    "    perp_score = tm.scores['SparsityThetaScore']\n",
    "    plt.plot(perp_score[1:], color=cm.Blues(colors[i]))\n",
    "plt.show()"
   ]
  }
 ],
 "metadata": {
  "kernelspec": {
   "display_name": "Python 3",
   "language": "python",
   "name": "python3"
  },
  "language_info": {
   "codemirror_mode": {
    "name": "ipython",
    "version": 3
   },
   "file_extension": ".py",
   "mimetype": "text/x-python",
   "name": "python",
   "nbconvert_exporter": "python",
   "pygments_lexer": "ipython3",
   "version": "3.6.8"
  }
 },
 "nbformat": 4,
 "nbformat_minor": 2
}
